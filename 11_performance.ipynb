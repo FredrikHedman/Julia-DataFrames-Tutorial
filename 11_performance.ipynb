{
 "cells": [
  {
   "cell_type": "markdown",
   "metadata": {},
   "source": [
    "# Introduction to DataFrames\n",
    "**[Bogumił Kamiński](http://bogumilkaminski.pl/about/), December 12, 2021**"
   ]
  },
  {
   "cell_type": "code",
   "execution_count": 1,
   "metadata": {},
   "outputs": [],
   "source": [
    "using DataFrames"
   ]
  },
  {
   "cell_type": "code",
   "execution_count": 2,
   "metadata": {},
   "outputs": [],
   "source": [
    "using BenchmarkTools"
   ]
  },
  {
   "cell_type": "code",
   "execution_count": 3,
   "metadata": {},
   "outputs": [],
   "source": [
    "using CategoricalArrays"
   ]
  },
  {
   "cell_type": "code",
   "execution_count": 4,
   "metadata": {},
   "outputs": [],
   "source": [
    "using PooledArrays"
   ]
  },
  {
   "cell_type": "markdown",
   "metadata": {},
   "source": [
    "## Performance tips"
   ]
  },
  {
   "cell_type": "markdown",
   "metadata": {},
   "source": [
    "### Access by column number is faster than by name"
   ]
  },
  {
   "cell_type": "code",
   "execution_count": 5,
   "metadata": {},
   "outputs": [
    {
     "name": "stdout",
     "output_type": "stream",
     "text": [
      "  4.905 ns (0 allocations: 0 bytes)\n",
      "  30.404 ns (1 allocation: 32 bytes)\n"
     ]
    }
   ],
   "source": [
    "x = DataFrame(rand(5, 1000), :auto)\n",
    "@btime $x[!, 500];\n",
    "@btime $x.x500;"
   ]
  },
  {
   "cell_type": "markdown",
   "metadata": {},
   "source": [
    "### When working with data `DataFrame` use barrier functions or type annotation"
   ]
  },
  {
   "cell_type": "code",
   "execution_count": 6,
   "metadata": {},
   "outputs": [
    {
     "name": "stdout",
     "output_type": "stream",
     "text": [
      "  175.182 ms (5999017 allocations: 122.06 MiB)\n"
     ]
    }
   ],
   "source": [
    "using Random\n",
    "function f_bad() # this function will be slow\n",
    "    Random.seed!(1); x = DataFrame(rand(1000000,2), :auto)\n",
    "    y, z = x[!, 1], x[!, 2]\n",
    "    p = 0.0\n",
    "    for i in 1:nrow(x)\n",
    "        p += y[i]*z[i]\n",
    "    end\n",
    "    p\n",
    "end\n",
    "\n",
    "@btime f_bad();\n",
    "# if you run @code_warntype f_bad() then you notice\n",
    "# that Julia does not know column types of `DataFrame`\n"
   ]
  },
  {
   "cell_type": "code",
   "execution_count": 7,
   "metadata": {},
   "outputs": [
    {
     "name": "stdout",
     "output_type": "stream",
     "text": [
      "  9.406 ms (37 allocations: 30.52 MiB)\n",
      "  9.612 ms (37 allocations: 30.52 MiB)\n"
     ]
    }
   ],
   "source": [
    "# solution 1 is to use barrier function (it should be possible to use it in almost any code)\n",
    "function f_inner(y,z)\n",
    "   p = 0.0\n",
    "   for i in 1:length(y)\n",
    "       p += y[i]*z[i]\n",
    "   end\n",
    "   p\n",
    "end\n",
    "\n",
    "function f_barrier() # extract the work to an inner function\n",
    "    Random.seed!(1); x = DataFrame(rand(1000000,2), :auto)\n",
    "    f_inner(x[!, 1], x[!, 2])\n",
    "end\n",
    "\n",
    "using LinearAlgebra\n",
    "function f_inbuilt() # or use inbuilt function if possible\n",
    "    Random.seed!(1); x = DataFrame(rand(1000000,2), :auto)\n",
    "    dot(x[!, 1], x[!, 2])\n",
    "end\n",
    "\n",
    "@btime f_barrier();\n",
    "@btime f_inbuilt();"
   ]
  },
  {
   "cell_type": "code",
   "execution_count": 8,
   "metadata": {},
   "outputs": [
    {
     "name": "stdout",
     "output_type": "stream",
     "text": [
      "  8.894 ms (37 allocations: 30.52 MiB)\n"
     ]
    }
   ],
   "source": [
    "# solution 2 is to provide the types of extracted columns\n",
    "# it is simpler but there are cases in which you will not know these types\n",
    "# This example  assumes that you have DataFrames master at least from August 31, 2018\n",
    "function f_typed()\n",
    "    Random.seed!(1); x = DataFrame(rand(1000000,2), :auto)\n",
    "    y::Vector{Float64}, z::Vector{Float64} = x[!, 1], x[!, 2]\n",
    "    p = 0.0\n",
    "    for i in 1:nrow(x)\n",
    "        p += y[i]*z[i]\n",
    "    end\n",
    "    p\n",
    "end\n",
    "\n",
    "@btime f_typed();"
   ]
  },
  {
   "cell_type": "markdown",
   "metadata": {},
   "source": [
    "In general for tall and narrow tables it is often useful to use `Tables.rowtable`, `Tables.columntable` or `Tables.namedtupleiterator` for intermediate processing of data in a type-stable way."
   ]
  },
  {
   "cell_type": "markdown",
   "metadata": {},
   "source": [
    "### Consider using delayed `DataFrame` creation technique"
   ]
  },
  {
   "cell_type": "markdown",
   "metadata": {},
   "source": [
    "also notice the difference in performance between copying vs non-copying data frame creation"
   ]
  },
  {
   "cell_type": "code",
   "execution_count": 9,
   "metadata": {},
   "outputs": [
    {
     "name": "stdout",
     "output_type": "stream",
     "text": [
      "  36.928 ms (1949523 allocations: 37.40 MiB)\n",
      "  28.738 ms (1949723 allocations: 45.03 MiB)\n",
      "  2.267 ms (623 allocations: 7.66 MiB)\n",
      "  3.349 ms (823 allocations: 15.30 MiB)\n"
     ]
    }
   ],
   "source": [
    "function f1()\n",
    "    x = DataFrame([Vector{Float64}(undef, 10^4) for i in 1:100], :auto, copycols=false) # we work with a DataFrame directly\n",
    "    for c in 1:ncol(x)\n",
    "        d = x[!, c]\n",
    "        for r in 1:nrow(x)\n",
    "            d[r] = rand()\n",
    "        end\n",
    "    end\n",
    "    x\n",
    "end\n",
    "\n",
    "function f1a()\n",
    "    x = DataFrame([Vector{Float64}(undef, 10^4) for i in 1:100], :auto) # we work with a DataFrame directly\n",
    "    for c in 1:ncol(x)\n",
    "        d = x[!, c]\n",
    "        for r in 1:nrow(x)\n",
    "            d[r] = rand()\n",
    "        end\n",
    "    end\n",
    "    x\n",
    "end\n",
    "\n",
    "function f2()\n",
    "    x = Vector{Any}(undef, 100)\n",
    "    for c in 1:length(x)\n",
    "        d = Vector{Float64}(undef, 10^4)\n",
    "        for r in 1:length(d)\n",
    "            d[r] = rand()\n",
    "        end\n",
    "        x[c] = d\n",
    "    end\n",
    "    DataFrame(x, :auto, copycols=false) # we delay creation of DataFrame after we have our job done\n",
    "end\n",
    "\n",
    "function f2a()\n",
    "    x = Vector{Any}(undef, 100)\n",
    "    for c in 1:length(x)\n",
    "        d = Vector{Float64}(undef, 10^4)\n",
    "        for r in 1:length(d)\n",
    "            d[r] = rand()\n",
    "        end\n",
    "        x[c] = d\n",
    "    end\n",
    "    DataFrame(x, :auto) # we delay creation of DataFrame after we have our job done\n",
    "end\n",
    "\n",
    "@btime f1();\n",
    "@btime f1a();\n",
    "@btime f2();\n",
    "@btime f2a();"
   ]
  },
  {
   "cell_type": "markdown",
   "metadata": {},
   "source": [
    "### You can add rows to a `DataFrame` in place and it is fast"
   ]
  },
  {
   "cell_type": "code",
   "execution_count": 10,
   "metadata": {},
   "outputs": [
    {
     "name": "stdout",
     "output_type": "stream",
     "text": [
      "  7.293 ms (180 allocations: 38.15 MiB)\n",
      "  1.040 μs (17 allocations: 672 bytes)\n",
      "  588.525 ns (16 allocations: 256 bytes)\n"
     ]
    }
   ],
   "source": [
    "x = DataFrame(rand(10^6, 5), :auto)\n",
    "y = DataFrame(transpose(1.0:5.0), :auto)\n",
    "z = [1.0:5.0;]\n",
    "\n",
    "@btime vcat($x, $y); # creates a new DataFrame - slow\n",
    "@btime append!($x, $y); # in place - fast\n",
    "\n",
    "x = DataFrame(rand(10^6, 5), :auto) # reset to the same starting point\n",
    "@btime push!($x, $z); # add a single row in place - fast"
   ]
  },
  {
   "cell_type": "markdown",
   "metadata": {},
   "source": [
    "### Allowing `missing` as well as `categorical` slows down computations"
   ]
  },
  {
   "cell_type": "code",
   "execution_count": 11,
   "metadata": {},
   "outputs": [
    {
     "name": "stdout",
     "output_type": "stream",
     "text": [
      "Int64\n",
      " raw:\n",
      "  4.031 ms (7 allocations: 7.63 MiB)\n",
      " categorical:\n",
      "  14.033 ms (4 allocations: 688 bytes)\n",
      "String\n",
      " raw:\n",
      "  38.073 ms (4 allocations: 528 bytes)\n",
      " categorical:\n",
      "  34.223 ms (4 allocations: 688 bytes)\n",
      "Union{Missing, Int64}\n",
      " raw:\n",
      "  7.391 ms (4 allocations: 560 bytes)\n",
      " categorical:\n",
      "  20.898 ms (1000004 allocations: 30.52 MiB)\n",
      "Union{Missing, String}\n",
      " raw:\n",
      "  27.825 ms (4 allocations: 528 bytes)\n",
      " categorical:\n",
      "  41.926 ms (1000004 allocations: 30.52 MiB)\n"
     ]
    }
   ],
   "source": [
    "using StatsBase\n",
    "\n",
    "function test(data) # uses countmap function to test performance\n",
    "    println(eltype(data))\n",
    "    x = rand(data, 10^6)\n",
    "    y = categorical(x)\n",
    "    println(\" raw:\")\n",
    "    @btime countmap($x)\n",
    "    println(\" categorical:\")\n",
    "    @btime countmap($y)\n",
    "    nothing\n",
    "end\n",
    "\n",
    "test(1:10)\n",
    "test([randstring() for i in 1:10])\n",
    "test(allowmissing(1:10))\n",
    "test(allowmissing([randstring() for i in 1:10]))\n"
   ]
  },
  {
   "cell_type": "markdown",
   "metadata": {},
   "source": [
    "### When aggregating use column selector and prefer integer, categorical, or pooled array grouping variable"
   ]
  },
  {
   "cell_type": "code",
   "execution_count": 12,
   "metadata": {},
   "outputs": [],
   "source": [
    "df = DataFrame(x=rand('a':'d', 10^7), y=1);"
   ]
  },
  {
   "cell_type": "code",
   "execution_count": 13,
   "metadata": {
    "scrolled": true
   },
   "outputs": [
    {
     "data": {
      "text/html": [
       "<p><b>GroupedDataFrame with 4 groups based on key: x</b></p><p><i>First Group (2498871 rows): x = &apos;c&apos;</i></p><div class=\"data-frame\"><table class=\"data-frame\"><thead><tr><th></th><th>x</th><th>y</th></tr><tr><th></th><th title=\"Char\">Char</th><th title=\"Int64\">Int64</th></tr></thead><tbody><tr><th>1</th><td>c</td><td>1</td></tr><tr><th>2</th><td>c</td><td>1</td></tr><tr><th>3</th><td>c</td><td>1</td></tr><tr><th>4</th><td>c</td><td>1</td></tr><tr><th>5</th><td>c</td><td>1</td></tr><tr><th>6</th><td>c</td><td>1</td></tr><tr><th>7</th><td>c</td><td>1</td></tr><tr><th>8</th><td>c</td><td>1</td></tr><tr><th>9</th><td>c</td><td>1</td></tr><tr><th>10</th><td>c</td><td>1</td></tr><tr><th>11</th><td>c</td><td>1</td></tr><tr><th>12</th><td>c</td><td>1</td></tr><tr><th>13</th><td>c</td><td>1</td></tr><tr><th>14</th><td>c</td><td>1</td></tr><tr><th>15</th><td>c</td><td>1</td></tr><tr><th>16</th><td>c</td><td>1</td></tr><tr><th>17</th><td>c</td><td>1</td></tr><tr><th>18</th><td>c</td><td>1</td></tr><tr><th>19</th><td>c</td><td>1</td></tr><tr><th>20</th><td>c</td><td>1</td></tr><tr><th>21</th><td>c</td><td>1</td></tr><tr><th>22</th><td>c</td><td>1</td></tr><tr><th>23</th><td>c</td><td>1</td></tr><tr><th>24</th><td>c</td><td>1</td></tr><tr><th>25</th><td>c</td><td>1</td></tr><tr><th>26</th><td>c</td><td>1</td></tr><tr><th>27</th><td>c</td><td>1</td></tr><tr><th>28</th><td>c</td><td>1</td></tr><tr><th>29</th><td>c</td><td>1</td></tr><tr><th>30</th><td>c</td><td>1</td></tr><tr><th>&vellip;</th><td>&vellip;</td><td>&vellip;</td></tr></tbody></table></div><p>&vellip;</p><p><i>Last Group (2500323 rows): x = &apos;a&apos;</i></p><div class=\"data-frame\"><table class=\"data-frame\"><thead><tr><th></th><th>x</th><th>y</th></tr><tr><th></th><th title=\"Char\">Char</th><th title=\"Int64\">Int64</th></tr></thead><tbody><tr><th>1</th><td>a</td><td>1</td></tr><tr><th>2</th><td>a</td><td>1</td></tr><tr><th>3</th><td>a</td><td>1</td></tr><tr><th>4</th><td>a</td><td>1</td></tr><tr><th>5</th><td>a</td><td>1</td></tr><tr><th>6</th><td>a</td><td>1</td></tr><tr><th>7</th><td>a</td><td>1</td></tr><tr><th>8</th><td>a</td><td>1</td></tr><tr><th>9</th><td>a</td><td>1</td></tr><tr><th>10</th><td>a</td><td>1</td></tr><tr><th>11</th><td>a</td><td>1</td></tr><tr><th>12</th><td>a</td><td>1</td></tr><tr><th>13</th><td>a</td><td>1</td></tr><tr><th>14</th><td>a</td><td>1</td></tr><tr><th>15</th><td>a</td><td>1</td></tr><tr><th>16</th><td>a</td><td>1</td></tr><tr><th>17</th><td>a</td><td>1</td></tr><tr><th>18</th><td>a</td><td>1</td></tr><tr><th>19</th><td>a</td><td>1</td></tr><tr><th>20</th><td>a</td><td>1</td></tr><tr><th>21</th><td>a</td><td>1</td></tr><tr><th>22</th><td>a</td><td>1</td></tr><tr><th>23</th><td>a</td><td>1</td></tr><tr><th>24</th><td>a</td><td>1</td></tr><tr><th>25</th><td>a</td><td>1</td></tr><tr><th>26</th><td>a</td><td>1</td></tr><tr><th>27</th><td>a</td><td>1</td></tr><tr><th>28</th><td>a</td><td>1</td></tr><tr><th>29</th><td>a</td><td>1</td></tr><tr><th>30</th><td>a</td><td>1</td></tr><tr><th>&vellip;</th><td>&vellip;</td><td>&vellip;</td></tr></tbody></table></div>"
      ],
      "text/latex": [
       "GroupedDataFrame with 4 groups based on key: x\n",
       "\n",
       "First Group (2498871 rows): x = 'c'\n",
       "\n",
       "\\begin{tabular}{r|cc}\n",
       "\t& x & y\\\\\n",
       "\t\\hline\n",
       "\t& Char & Int64\\\\\n",
       "\t\\hline\n",
       "\t1 & c & 1 \\\\\n",
       "\t2 & c & 1 \\\\\n",
       "\t3 & c & 1 \\\\\n",
       "\t4 & c & 1 \\\\\n",
       "\t5 & c & 1 \\\\\n",
       "\t6 & c & 1 \\\\\n",
       "\t7 & c & 1 \\\\\n",
       "\t8 & c & 1 \\\\\n",
       "\t9 & c & 1 \\\\\n",
       "\t10 & c & 1 \\\\\n",
       "\t11 & c & 1 \\\\\n",
       "\t12 & c & 1 \\\\\n",
       "\t13 & c & 1 \\\\\n",
       "\t14 & c & 1 \\\\\n",
       "\t15 & c & 1 \\\\\n",
       "\t16 & c & 1 \\\\\n",
       "\t17 & c & 1 \\\\\n",
       "\t18 & c & 1 \\\\\n",
       "\t19 & c & 1 \\\\\n",
       "\t20 & c & 1 \\\\\n",
       "\t21 & c & 1 \\\\\n",
       "\t22 & c & 1 \\\\\n",
       "\t23 & c & 1 \\\\\n",
       "\t24 & c & 1 \\\\\n",
       "\t25 & c & 1 \\\\\n",
       "\t26 & c & 1 \\\\\n",
       "\t27 & c & 1 \\\\\n",
       "\t28 & c & 1 \\\\\n",
       "\t29 & c & 1 \\\\\n",
       "\t30 & c & 1 \\\\\n",
       "\t$\\dots$ & $\\dots$ & $\\dots$ \\\\\n",
       "\\end{tabular}\n",
       "\n",
       "$\\dots$\n",
       "\n",
       "Last Group (2500323 rows): x = 'a'\n",
       "\n",
       "\\begin{tabular}{r|cc}\n",
       "\t& x & y\\\\\n",
       "\t\\hline\n",
       "\t& Char & Int64\\\\\n",
       "\t\\hline\n",
       "\t1 & a & 1 \\\\\n",
       "\t2 & a & 1 \\\\\n",
       "\t3 & a & 1 \\\\\n",
       "\t4 & a & 1 \\\\\n",
       "\t5 & a & 1 \\\\\n",
       "\t6 & a & 1 \\\\\n",
       "\t7 & a & 1 \\\\\n",
       "\t8 & a & 1 \\\\\n",
       "\t9 & a & 1 \\\\\n",
       "\t10 & a & 1 \\\\\n",
       "\t11 & a & 1 \\\\\n",
       "\t12 & a & 1 \\\\\n",
       "\t13 & a & 1 \\\\\n",
       "\t14 & a & 1 \\\\\n",
       "\t15 & a & 1 \\\\\n",
       "\t16 & a & 1 \\\\\n",
       "\t17 & a & 1 \\\\\n",
       "\t18 & a & 1 \\\\\n",
       "\t19 & a & 1 \\\\\n",
       "\t20 & a & 1 \\\\\n",
       "\t21 & a & 1 \\\\\n",
       "\t22 & a & 1 \\\\\n",
       "\t23 & a & 1 \\\\\n",
       "\t24 & a & 1 \\\\\n",
       "\t25 & a & 1 \\\\\n",
       "\t26 & a & 1 \\\\\n",
       "\t27 & a & 1 \\\\\n",
       "\t28 & a & 1 \\\\\n",
       "\t29 & a & 1 \\\\\n",
       "\t30 & a & 1 \\\\\n",
       "\t$\\dots$ & $\\dots$ & $\\dots$ \\\\\n",
       "\\end{tabular}\n"
      ],
      "text/plain": [
       "GroupedDataFrame with 4 groups based on key: x\n",
       "First Group (2498871 rows): x = 'c'\n",
       "\u001b[1m     Row \u001b[0m│\u001b[1m x    \u001b[0m\u001b[1m y     \u001b[0m\n",
       "\u001b[1m         \u001b[0m│\u001b[90m Char \u001b[0m\u001b[90m Int64 \u001b[0m\n",
       "─────────┼─────────────\n",
       "       1 │ c         1\n",
       "       2 │ c         1\n",
       "       3 │ c         1\n",
       "       4 │ c         1\n",
       "       5 │ c         1\n",
       "       6 │ c         1\n",
       "       7 │ c         1\n",
       "       8 │ c         1\n",
       "       9 │ c         1\n",
       "      10 │ c         1\n",
       "      11 │ c         1\n",
       "    ⋮    │  ⋮      ⋮\n",
       " 2498861 │ c         1\n",
       " 2498862 │ c         1\n",
       " 2498863 │ c         1\n",
       " 2498864 │ c         1\n",
       " 2498865 │ c         1\n",
       " 2498866 │ c         1\n",
       " 2498867 │ c         1\n",
       " 2498868 │ c         1\n",
       " 2498869 │ c         1\n",
       " 2498870 │ c         1\n",
       " 2498871 │ c         1\n",
       "\u001b[36m   2498849 rows omitted\u001b[0m\n",
       "⋮\n",
       "Last Group (2500323 rows): x = 'a'\n",
       "\u001b[1m     Row \u001b[0m│\u001b[1m x    \u001b[0m\u001b[1m y     \u001b[0m\n",
       "\u001b[1m         \u001b[0m│\u001b[90m Char \u001b[0m\u001b[90m Int64 \u001b[0m\n",
       "─────────┼─────────────\n",
       "       1 │ a         1\n",
       "       2 │ a         1\n",
       "       3 │ a         1\n",
       "       4 │ a         1\n",
       "       5 │ a         1\n",
       "       6 │ a         1\n",
       "       7 │ a         1\n",
       "       8 │ a         1\n",
       "       9 │ a         1\n",
       "      10 │ a         1\n",
       "      11 │ a         1\n",
       "    ⋮    │  ⋮      ⋮\n",
       " 2500313 │ a         1\n",
       " 2500314 │ a         1\n",
       " 2500315 │ a         1\n",
       " 2500316 │ a         1\n",
       " 2500317 │ a         1\n",
       " 2500318 │ a         1\n",
       " 2500319 │ a         1\n",
       " 2500320 │ a         1\n",
       " 2500321 │ a         1\n",
       " 2500322 │ a         1\n",
       " 2500323 │ a         1\n",
       "\u001b[36m   2500301 rows omitted\u001b[0m"
      ]
     },
     "execution_count": 13,
     "metadata": {},
     "output_type": "execute_result"
    }
   ],
   "source": [
    "gdf = groupby(df, :x)"
   ]
  },
  {
   "cell_type": "code",
   "execution_count": 14,
   "metadata": {},
   "outputs": [
    {
     "name": "stdout",
     "output_type": "stream",
     "text": [
      "  52.125 ms (334 allocations: 19.08 MiB)\n"
     ]
    },
    {
     "data": {
      "text/html": [
       "<div class=\"data-frame\"><p>4 rows × 2 columns</p><table class=\"data-frame\"><thead><tr><th></th><th>x</th><th>x1</th></tr><tr><th></th><th title=\"Char\">Char</th><th title=\"Int64\">Int64</th></tr></thead><tbody><tr><th>1</th><td>c</td><td>2498871</td></tr><tr><th>2</th><td>b</td><td>2500120</td></tr><tr><th>3</th><td>d</td><td>2500686</td></tr><tr><th>4</th><td>a</td><td>2500323</td></tr></tbody></table></div>"
      ],
      "text/latex": [
       "\\begin{tabular}{r|cc}\n",
       "\t& x & x1\\\\\n",
       "\t\\hline\n",
       "\t& Char & Int64\\\\\n",
       "\t\\hline\n",
       "\t1 & c & 2498871 \\\\\n",
       "\t2 & b & 2500120 \\\\\n",
       "\t3 & d & 2500686 \\\\\n",
       "\t4 & a & 2500323 \\\\\n",
       "\\end{tabular}\n"
      ],
      "text/plain": [
       "\u001b[1m4×2 DataFrame\u001b[0m\n",
       "\u001b[1m Row \u001b[0m│\u001b[1m x    \u001b[0m\u001b[1m x1      \u001b[0m\n",
       "\u001b[1m     \u001b[0m│\u001b[90m Char \u001b[0m\u001b[90m Int64   \u001b[0m\n",
       "─────┼───────────────\n",
       "   1 │ c     2498871\n",
       "   2 │ b     2500120\n",
       "   3 │ d     2500686\n",
       "   4 │ a     2500323"
      ]
     },
     "execution_count": 14,
     "metadata": {},
     "output_type": "execute_result"
    }
   ],
   "source": [
    "@btime combine(v -> sum(v.y), $gdf) # traditional syntax, slow"
   ]
  },
  {
   "cell_type": "code",
   "execution_count": 15,
   "metadata": {
    "scrolled": true
   },
   "outputs": [
    {
     "name": "stdout",
     "output_type": "stream",
     "text": [
      "  11.406 ms (230 allocations: 13.56 KiB)\n"
     ]
    },
    {
     "data": {
      "text/html": [
       "<div class=\"data-frame\"><p>4 rows × 2 columns</p><table class=\"data-frame\"><thead><tr><th></th><th>x</th><th>y_sum</th></tr><tr><th></th><th title=\"Char\">Char</th><th title=\"Int64\">Int64</th></tr></thead><tbody><tr><th>1</th><td>c</td><td>2498871</td></tr><tr><th>2</th><td>b</td><td>2500120</td></tr><tr><th>3</th><td>d</td><td>2500686</td></tr><tr><th>4</th><td>a</td><td>2500323</td></tr></tbody></table></div>"
      ],
      "text/latex": [
       "\\begin{tabular}{r|cc}\n",
       "\t& x & y\\_sum\\\\\n",
       "\t\\hline\n",
       "\t& Char & Int64\\\\\n",
       "\t\\hline\n",
       "\t1 & c & 2498871 \\\\\n",
       "\t2 & b & 2500120 \\\\\n",
       "\t3 & d & 2500686 \\\\\n",
       "\t4 & a & 2500323 \\\\\n",
       "\\end{tabular}\n"
      ],
      "text/plain": [
       "\u001b[1m4×2 DataFrame\u001b[0m\n",
       "\u001b[1m Row \u001b[0m│\u001b[1m x    \u001b[0m\u001b[1m y_sum   \u001b[0m\n",
       "\u001b[1m     \u001b[0m│\u001b[90m Char \u001b[0m\u001b[90m Int64   \u001b[0m\n",
       "─────┼───────────────\n",
       "   1 │ c     2498871\n",
       "   2 │ b     2500120\n",
       "   3 │ d     2500686\n",
       "   4 │ a     2500323"
      ]
     },
     "execution_count": 15,
     "metadata": {},
     "output_type": "execute_result"
    }
   ],
   "source": [
    "@btime combine($gdf, :y=>sum) # use column selector"
   ]
  },
  {
   "cell_type": "code",
   "execution_count": 16,
   "metadata": {},
   "outputs": [],
   "source": [
    "transform!(df, :x => categorical => :x);"
   ]
  },
  {
   "cell_type": "code",
   "execution_count": 17,
   "metadata": {},
   "outputs": [
    {
     "data": {
      "text/html": [
       "<p><b>GroupedDataFrame with 4 groups based on key: x</b></p><p><i>First Group (2500323 rows): x = CategoricalValue{Char, UInt32} &apos;a&apos;</i></p><div class=\"data-frame\"><table class=\"data-frame\"><thead><tr><th></th><th>x</th><th>y</th></tr><tr><th></th><th title=\"CategoricalValue{Char, UInt32}\">Cat…</th><th title=\"Int64\">Int64</th></tr></thead><tbody><tr><th>1</th><td>a</td><td>1</td></tr><tr><th>2</th><td>a</td><td>1</td></tr><tr><th>3</th><td>a</td><td>1</td></tr><tr><th>4</th><td>a</td><td>1</td></tr><tr><th>5</th><td>a</td><td>1</td></tr><tr><th>6</th><td>a</td><td>1</td></tr><tr><th>7</th><td>a</td><td>1</td></tr><tr><th>8</th><td>a</td><td>1</td></tr><tr><th>9</th><td>a</td><td>1</td></tr><tr><th>10</th><td>a</td><td>1</td></tr><tr><th>11</th><td>a</td><td>1</td></tr><tr><th>12</th><td>a</td><td>1</td></tr><tr><th>13</th><td>a</td><td>1</td></tr><tr><th>14</th><td>a</td><td>1</td></tr><tr><th>15</th><td>a</td><td>1</td></tr><tr><th>16</th><td>a</td><td>1</td></tr><tr><th>17</th><td>a</td><td>1</td></tr><tr><th>18</th><td>a</td><td>1</td></tr><tr><th>19</th><td>a</td><td>1</td></tr><tr><th>20</th><td>a</td><td>1</td></tr><tr><th>21</th><td>a</td><td>1</td></tr><tr><th>22</th><td>a</td><td>1</td></tr><tr><th>23</th><td>a</td><td>1</td></tr><tr><th>24</th><td>a</td><td>1</td></tr><tr><th>25</th><td>a</td><td>1</td></tr><tr><th>26</th><td>a</td><td>1</td></tr><tr><th>27</th><td>a</td><td>1</td></tr><tr><th>28</th><td>a</td><td>1</td></tr><tr><th>29</th><td>a</td><td>1</td></tr><tr><th>30</th><td>a</td><td>1</td></tr><tr><th>&vellip;</th><td>&vellip;</td><td>&vellip;</td></tr></tbody></table></div><p>&vellip;</p><p><i>Last Group (2500686 rows): x = CategoricalValue{Char, UInt32} &apos;d&apos;</i></p><div class=\"data-frame\"><table class=\"data-frame\"><thead><tr><th></th><th>x</th><th>y</th></tr><tr><th></th><th title=\"CategoricalValue{Char, UInt32}\">Cat…</th><th title=\"Int64\">Int64</th></tr></thead><tbody><tr><th>1</th><td>d</td><td>1</td></tr><tr><th>2</th><td>d</td><td>1</td></tr><tr><th>3</th><td>d</td><td>1</td></tr><tr><th>4</th><td>d</td><td>1</td></tr><tr><th>5</th><td>d</td><td>1</td></tr><tr><th>6</th><td>d</td><td>1</td></tr><tr><th>7</th><td>d</td><td>1</td></tr><tr><th>8</th><td>d</td><td>1</td></tr><tr><th>9</th><td>d</td><td>1</td></tr><tr><th>10</th><td>d</td><td>1</td></tr><tr><th>11</th><td>d</td><td>1</td></tr><tr><th>12</th><td>d</td><td>1</td></tr><tr><th>13</th><td>d</td><td>1</td></tr><tr><th>14</th><td>d</td><td>1</td></tr><tr><th>15</th><td>d</td><td>1</td></tr><tr><th>16</th><td>d</td><td>1</td></tr><tr><th>17</th><td>d</td><td>1</td></tr><tr><th>18</th><td>d</td><td>1</td></tr><tr><th>19</th><td>d</td><td>1</td></tr><tr><th>20</th><td>d</td><td>1</td></tr><tr><th>21</th><td>d</td><td>1</td></tr><tr><th>22</th><td>d</td><td>1</td></tr><tr><th>23</th><td>d</td><td>1</td></tr><tr><th>24</th><td>d</td><td>1</td></tr><tr><th>25</th><td>d</td><td>1</td></tr><tr><th>26</th><td>d</td><td>1</td></tr><tr><th>27</th><td>d</td><td>1</td></tr><tr><th>28</th><td>d</td><td>1</td></tr><tr><th>29</th><td>d</td><td>1</td></tr><tr><th>30</th><td>d</td><td>1</td></tr><tr><th>&vellip;</th><td>&vellip;</td><td>&vellip;</td></tr></tbody></table></div>"
      ],
      "text/latex": [
       "GroupedDataFrame with 4 groups based on key: x\n",
       "\n",
       "First Group (2500323 rows): x = CategoricalValue\\{Char, UInt32\\} 'a'\n",
       "\n",
       "\\begin{tabular}{r|cc}\n",
       "\t& x & y\\\\\n",
       "\t\\hline\n",
       "\t& Cat… & Int64\\\\\n",
       "\t\\hline\n",
       "\t1 & a & 1 \\\\\n",
       "\t2 & a & 1 \\\\\n",
       "\t3 & a & 1 \\\\\n",
       "\t4 & a & 1 \\\\\n",
       "\t5 & a & 1 \\\\\n",
       "\t6 & a & 1 \\\\\n",
       "\t7 & a & 1 \\\\\n",
       "\t8 & a & 1 \\\\\n",
       "\t9 & a & 1 \\\\\n",
       "\t10 & a & 1 \\\\\n",
       "\t11 & a & 1 \\\\\n",
       "\t12 & a & 1 \\\\\n",
       "\t13 & a & 1 \\\\\n",
       "\t14 & a & 1 \\\\\n",
       "\t15 & a & 1 \\\\\n",
       "\t16 & a & 1 \\\\\n",
       "\t17 & a & 1 \\\\\n",
       "\t18 & a & 1 \\\\\n",
       "\t19 & a & 1 \\\\\n",
       "\t20 & a & 1 \\\\\n",
       "\t21 & a & 1 \\\\\n",
       "\t22 & a & 1 \\\\\n",
       "\t23 & a & 1 \\\\\n",
       "\t24 & a & 1 \\\\\n",
       "\t25 & a & 1 \\\\\n",
       "\t26 & a & 1 \\\\\n",
       "\t27 & a & 1 \\\\\n",
       "\t28 & a & 1 \\\\\n",
       "\t29 & a & 1 \\\\\n",
       "\t30 & a & 1 \\\\\n",
       "\t$\\dots$ & $\\dots$ & $\\dots$ \\\\\n",
       "\\end{tabular}\n",
       "\n",
       "$\\dots$\n",
       "\n",
       "Last Group (2500686 rows): x = CategoricalValue\\{Char, UInt32\\} 'd'\n",
       "\n",
       "\\begin{tabular}{r|cc}\n",
       "\t& x & y\\\\\n",
       "\t\\hline\n",
       "\t& Cat… & Int64\\\\\n",
       "\t\\hline\n",
       "\t1 & d & 1 \\\\\n",
       "\t2 & d & 1 \\\\\n",
       "\t3 & d & 1 \\\\\n",
       "\t4 & d & 1 \\\\\n",
       "\t5 & d & 1 \\\\\n",
       "\t6 & d & 1 \\\\\n",
       "\t7 & d & 1 \\\\\n",
       "\t8 & d & 1 \\\\\n",
       "\t9 & d & 1 \\\\\n",
       "\t10 & d & 1 \\\\\n",
       "\t11 & d & 1 \\\\\n",
       "\t12 & d & 1 \\\\\n",
       "\t13 & d & 1 \\\\\n",
       "\t14 & d & 1 \\\\\n",
       "\t15 & d & 1 \\\\\n",
       "\t16 & d & 1 \\\\\n",
       "\t17 & d & 1 \\\\\n",
       "\t18 & d & 1 \\\\\n",
       "\t19 & d & 1 \\\\\n",
       "\t20 & d & 1 \\\\\n",
       "\t21 & d & 1 \\\\\n",
       "\t22 & d & 1 \\\\\n",
       "\t23 & d & 1 \\\\\n",
       "\t24 & d & 1 \\\\\n",
       "\t25 & d & 1 \\\\\n",
       "\t26 & d & 1 \\\\\n",
       "\t27 & d & 1 \\\\\n",
       "\t28 & d & 1 \\\\\n",
       "\t29 & d & 1 \\\\\n",
       "\t30 & d & 1 \\\\\n",
       "\t$\\dots$ & $\\dots$ & $\\dots$ \\\\\n",
       "\\end{tabular}\n"
      ],
      "text/plain": [
       "GroupedDataFrame with 4 groups based on key: x\n",
       "First Group (2500323 rows): x = CategoricalValue{Char, UInt32} 'a'\n",
       "\u001b[1m     Row \u001b[0m│\u001b[1m x    \u001b[0m\u001b[1m y     \u001b[0m\n",
       "\u001b[1m         \u001b[0m│\u001b[90m Cat… \u001b[0m\u001b[90m Int64 \u001b[0m\n",
       "─────────┼─────────────\n",
       "       1 │ a         1\n",
       "       2 │ a         1\n",
       "       3 │ a         1\n",
       "       4 │ a         1\n",
       "       5 │ a         1\n",
       "       6 │ a         1\n",
       "       7 │ a         1\n",
       "       8 │ a         1\n",
       "       9 │ a         1\n",
       "      10 │ a         1\n",
       "      11 │ a         1\n",
       "    ⋮    │  ⋮      ⋮\n",
       " 2500313 │ a         1\n",
       " 2500314 │ a         1\n",
       " 2500315 │ a         1\n",
       " 2500316 │ a         1\n",
       " 2500317 │ a         1\n",
       " 2500318 │ a         1\n",
       " 2500319 │ a         1\n",
       " 2500320 │ a         1\n",
       " 2500321 │ a         1\n",
       " 2500322 │ a         1\n",
       " 2500323 │ a         1\n",
       "\u001b[36m   2500301 rows omitted\u001b[0m\n",
       "⋮\n",
       "Last Group (2500686 rows): x = CategoricalValue{Char, UInt32} 'd'\n",
       "\u001b[1m     Row \u001b[0m│\u001b[1m x    \u001b[0m\u001b[1m y     \u001b[0m\n",
       "\u001b[1m         \u001b[0m│\u001b[90m Cat… \u001b[0m\u001b[90m Int64 \u001b[0m\n",
       "─────────┼─────────────\n",
       "       1 │ d         1\n",
       "       2 │ d         1\n",
       "       3 │ d         1\n",
       "       4 │ d         1\n",
       "       5 │ d         1\n",
       "       6 │ d         1\n",
       "       7 │ d         1\n",
       "       8 │ d         1\n",
       "       9 │ d         1\n",
       "      10 │ d         1\n",
       "      11 │ d         1\n",
       "    ⋮    │  ⋮      ⋮\n",
       " 2500676 │ d         1\n",
       " 2500677 │ d         1\n",
       " 2500678 │ d         1\n",
       " 2500679 │ d         1\n",
       " 2500680 │ d         1\n",
       " 2500681 │ d         1\n",
       " 2500682 │ d         1\n",
       " 2500683 │ d         1\n",
       " 2500684 │ d         1\n",
       " 2500685 │ d         1\n",
       " 2500686 │ d         1\n",
       "\u001b[36m   2500664 rows omitted\u001b[0m"
      ]
     },
     "execution_count": 17,
     "metadata": {},
     "output_type": "execute_result"
    }
   ],
   "source": [
    "gdf = groupby(df, :x)"
   ]
  },
  {
   "cell_type": "code",
   "execution_count": 18,
   "metadata": {
    "scrolled": true
   },
   "outputs": [
    {
     "name": "stdout",
     "output_type": "stream",
     "text": [
      "  10.575 ms (237 allocations: 14.14 KiB)\n"
     ]
    },
    {
     "data": {
      "text/html": [
       "<div class=\"data-frame\"><p>4 rows × 2 columns</p><table class=\"data-frame\"><thead><tr><th></th><th>x</th><th>y_sum</th></tr><tr><th></th><th title=\"CategoricalValue{Char, UInt32}\">Cat…</th><th title=\"Int64\">Int64</th></tr></thead><tbody><tr><th>1</th><td>a</td><td>2500323</td></tr><tr><th>2</th><td>b</td><td>2500120</td></tr><tr><th>3</th><td>c</td><td>2498871</td></tr><tr><th>4</th><td>d</td><td>2500686</td></tr></tbody></table></div>"
      ],
      "text/latex": [
       "\\begin{tabular}{r|cc}\n",
       "\t& x & y\\_sum\\\\\n",
       "\t\\hline\n",
       "\t& Cat… & Int64\\\\\n",
       "\t\\hline\n",
       "\t1 & a & 2500323 \\\\\n",
       "\t2 & b & 2500120 \\\\\n",
       "\t3 & c & 2498871 \\\\\n",
       "\t4 & d & 2500686 \\\\\n",
       "\\end{tabular}\n"
      ],
      "text/plain": [
       "\u001b[1m4×2 DataFrame\u001b[0m\n",
       "\u001b[1m Row \u001b[0m│\u001b[1m x    \u001b[0m\u001b[1m y_sum   \u001b[0m\n",
       "\u001b[1m     \u001b[0m│\u001b[90m Cat… \u001b[0m\u001b[90m Int64   \u001b[0m\n",
       "─────┼───────────────\n",
       "   1 │ a     2500323\n",
       "   2 │ b     2500120\n",
       "   3 │ c     2498871\n",
       "   4 │ d     2500686"
      ]
     },
     "execution_count": 18,
     "metadata": {},
     "output_type": "execute_result"
    }
   ],
   "source": [
    "@btime combine($gdf, :y=>sum)"
   ]
  },
  {
   "cell_type": "code",
   "execution_count": 19,
   "metadata": {},
   "outputs": [
    {
     "data": {
      "text/html": [
       "<div class=\"data-frame\"><p>10,000,000 rows × 2 columns</p><table class=\"data-frame\"><thead><tr><th></th><th>x</th><th>y</th></tr><tr><th></th><th title=\"Char\">Char</th><th title=\"Int64\">Int64</th></tr></thead><tbody><tr><th>1</th><td>c</td><td>1</td></tr><tr><th>2</th><td>b</td><td>1</td></tr><tr><th>3</th><td>c</td><td>1</td></tr><tr><th>4</th><td>d</td><td>1</td></tr><tr><th>5</th><td>d</td><td>1</td></tr><tr><th>6</th><td>b</td><td>1</td></tr><tr><th>7</th><td>a</td><td>1</td></tr><tr><th>8</th><td>c</td><td>1</td></tr><tr><th>9</th><td>c</td><td>1</td></tr><tr><th>10</th><td>d</td><td>1</td></tr><tr><th>11</th><td>a</td><td>1</td></tr><tr><th>12</th><td>d</td><td>1</td></tr><tr><th>13</th><td>c</td><td>1</td></tr><tr><th>14</th><td>d</td><td>1</td></tr><tr><th>15</th><td>c</td><td>1</td></tr><tr><th>16</th><td>d</td><td>1</td></tr><tr><th>17</th><td>a</td><td>1</td></tr><tr><th>18</th><td>a</td><td>1</td></tr><tr><th>19</th><td>b</td><td>1</td></tr><tr><th>20</th><td>d</td><td>1</td></tr><tr><th>21</th><td>c</td><td>1</td></tr><tr><th>22</th><td>a</td><td>1</td></tr><tr><th>23</th><td>b</td><td>1</td></tr><tr><th>24</th><td>a</td><td>1</td></tr><tr><th>25</th><td>d</td><td>1</td></tr><tr><th>26</th><td>c</td><td>1</td></tr><tr><th>27</th><td>c</td><td>1</td></tr><tr><th>28</th><td>a</td><td>1</td></tr><tr><th>29</th><td>b</td><td>1</td></tr><tr><th>30</th><td>c</td><td>1</td></tr><tr><th>&vellip;</th><td>&vellip;</td><td>&vellip;</td></tr></tbody></table></div>"
      ],
      "text/latex": [
       "\\begin{tabular}{r|cc}\n",
       "\t& x & y\\\\\n",
       "\t\\hline\n",
       "\t& Char & Int64\\\\\n",
       "\t\\hline\n",
       "\t1 & c & 1 \\\\\n",
       "\t2 & b & 1 \\\\\n",
       "\t3 & c & 1 \\\\\n",
       "\t4 & d & 1 \\\\\n",
       "\t5 & d & 1 \\\\\n",
       "\t6 & b & 1 \\\\\n",
       "\t7 & a & 1 \\\\\n",
       "\t8 & c & 1 \\\\\n",
       "\t9 & c & 1 \\\\\n",
       "\t10 & d & 1 \\\\\n",
       "\t11 & a & 1 \\\\\n",
       "\t12 & d & 1 \\\\\n",
       "\t13 & c & 1 \\\\\n",
       "\t14 & d & 1 \\\\\n",
       "\t15 & c & 1 \\\\\n",
       "\t16 & d & 1 \\\\\n",
       "\t17 & a & 1 \\\\\n",
       "\t18 & a & 1 \\\\\n",
       "\t19 & b & 1 \\\\\n",
       "\t20 & d & 1 \\\\\n",
       "\t21 & c & 1 \\\\\n",
       "\t22 & a & 1 \\\\\n",
       "\t23 & b & 1 \\\\\n",
       "\t24 & a & 1 \\\\\n",
       "\t25 & d & 1 \\\\\n",
       "\t26 & c & 1 \\\\\n",
       "\t27 & c & 1 \\\\\n",
       "\t28 & a & 1 \\\\\n",
       "\t29 & b & 1 \\\\\n",
       "\t30 & c & 1 \\\\\n",
       "\t$\\dots$ & $\\dots$ & $\\dots$ \\\\\n",
       "\\end{tabular}\n"
      ],
      "text/plain": [
       "\u001b[1m10000000×2 DataFrame\u001b[0m\n",
       "\u001b[1m      Row \u001b[0m│\u001b[1m x    \u001b[0m\u001b[1m y     \u001b[0m\n",
       "\u001b[1m          \u001b[0m│\u001b[90m Char \u001b[0m\u001b[90m Int64 \u001b[0m\n",
       "──────────┼─────────────\n",
       "        1 │ c         1\n",
       "        2 │ b         1\n",
       "        3 │ c         1\n",
       "        4 │ d         1\n",
       "        5 │ d         1\n",
       "        6 │ b         1\n",
       "        7 │ a         1\n",
       "        8 │ c         1\n",
       "        9 │ c         1\n",
       "       10 │ d         1\n",
       "       11 │ a         1\n",
       "    ⋮     │  ⋮      ⋮\n",
       "  9999991 │ b         1\n",
       "  9999992 │ d         1\n",
       "  9999993 │ a         1\n",
       "  9999994 │ d         1\n",
       "  9999995 │ b         1\n",
       "  9999996 │ a         1\n",
       "  9999997 │ c         1\n",
       "  9999998 │ d         1\n",
       "  9999999 │ a         1\n",
       " 10000000 │ a         1\n",
       "\u001b[36m    9999979 rows omitted\u001b[0m"
      ]
     },
     "execution_count": 19,
     "metadata": {},
     "output_type": "execute_result"
    }
   ],
   "source": [
    "transform!(df, :x => PooledArray{Char} => :x)"
   ]
  },
  {
   "cell_type": "code",
   "execution_count": 20,
   "metadata": {},
   "outputs": [
    {
     "data": {
      "text/html": [
       "<p><b>GroupedDataFrame with 4 groups based on key: x</b></p><p><i>First Group (2498871 rows): x = &apos;c&apos;</i></p><div class=\"data-frame\"><table class=\"data-frame\"><thead><tr><th></th><th>x</th><th>y</th></tr><tr><th></th><th title=\"Char\">Char</th><th title=\"Int64\">Int64</th></tr></thead><tbody><tr><th>1</th><td>c</td><td>1</td></tr><tr><th>2</th><td>c</td><td>1</td></tr><tr><th>3</th><td>c</td><td>1</td></tr><tr><th>4</th><td>c</td><td>1</td></tr><tr><th>5</th><td>c</td><td>1</td></tr><tr><th>6</th><td>c</td><td>1</td></tr><tr><th>7</th><td>c</td><td>1</td></tr><tr><th>8</th><td>c</td><td>1</td></tr><tr><th>9</th><td>c</td><td>1</td></tr><tr><th>10</th><td>c</td><td>1</td></tr><tr><th>11</th><td>c</td><td>1</td></tr><tr><th>12</th><td>c</td><td>1</td></tr><tr><th>13</th><td>c</td><td>1</td></tr><tr><th>14</th><td>c</td><td>1</td></tr><tr><th>15</th><td>c</td><td>1</td></tr><tr><th>16</th><td>c</td><td>1</td></tr><tr><th>17</th><td>c</td><td>1</td></tr><tr><th>18</th><td>c</td><td>1</td></tr><tr><th>19</th><td>c</td><td>1</td></tr><tr><th>20</th><td>c</td><td>1</td></tr><tr><th>21</th><td>c</td><td>1</td></tr><tr><th>22</th><td>c</td><td>1</td></tr><tr><th>23</th><td>c</td><td>1</td></tr><tr><th>24</th><td>c</td><td>1</td></tr><tr><th>25</th><td>c</td><td>1</td></tr><tr><th>26</th><td>c</td><td>1</td></tr><tr><th>27</th><td>c</td><td>1</td></tr><tr><th>28</th><td>c</td><td>1</td></tr><tr><th>29</th><td>c</td><td>1</td></tr><tr><th>30</th><td>c</td><td>1</td></tr><tr><th>&vellip;</th><td>&vellip;</td><td>&vellip;</td></tr></tbody></table></div><p>&vellip;</p><p><i>Last Group (2500323 rows): x = &apos;a&apos;</i></p><div class=\"data-frame\"><table class=\"data-frame\"><thead><tr><th></th><th>x</th><th>y</th></tr><tr><th></th><th title=\"Char\">Char</th><th title=\"Int64\">Int64</th></tr></thead><tbody><tr><th>1</th><td>a</td><td>1</td></tr><tr><th>2</th><td>a</td><td>1</td></tr><tr><th>3</th><td>a</td><td>1</td></tr><tr><th>4</th><td>a</td><td>1</td></tr><tr><th>5</th><td>a</td><td>1</td></tr><tr><th>6</th><td>a</td><td>1</td></tr><tr><th>7</th><td>a</td><td>1</td></tr><tr><th>8</th><td>a</td><td>1</td></tr><tr><th>9</th><td>a</td><td>1</td></tr><tr><th>10</th><td>a</td><td>1</td></tr><tr><th>11</th><td>a</td><td>1</td></tr><tr><th>12</th><td>a</td><td>1</td></tr><tr><th>13</th><td>a</td><td>1</td></tr><tr><th>14</th><td>a</td><td>1</td></tr><tr><th>15</th><td>a</td><td>1</td></tr><tr><th>16</th><td>a</td><td>1</td></tr><tr><th>17</th><td>a</td><td>1</td></tr><tr><th>18</th><td>a</td><td>1</td></tr><tr><th>19</th><td>a</td><td>1</td></tr><tr><th>20</th><td>a</td><td>1</td></tr><tr><th>21</th><td>a</td><td>1</td></tr><tr><th>22</th><td>a</td><td>1</td></tr><tr><th>23</th><td>a</td><td>1</td></tr><tr><th>24</th><td>a</td><td>1</td></tr><tr><th>25</th><td>a</td><td>1</td></tr><tr><th>26</th><td>a</td><td>1</td></tr><tr><th>27</th><td>a</td><td>1</td></tr><tr><th>28</th><td>a</td><td>1</td></tr><tr><th>29</th><td>a</td><td>1</td></tr><tr><th>30</th><td>a</td><td>1</td></tr><tr><th>&vellip;</th><td>&vellip;</td><td>&vellip;</td></tr></tbody></table></div>"
      ],
      "text/latex": [
       "GroupedDataFrame with 4 groups based on key: x\n",
       "\n",
       "First Group (2498871 rows): x = 'c'\n",
       "\n",
       "\\begin{tabular}{r|cc}\n",
       "\t& x & y\\\\\n",
       "\t\\hline\n",
       "\t& Char & Int64\\\\\n",
       "\t\\hline\n",
       "\t1 & c & 1 \\\\\n",
       "\t2 & c & 1 \\\\\n",
       "\t3 & c & 1 \\\\\n",
       "\t4 & c & 1 \\\\\n",
       "\t5 & c & 1 \\\\\n",
       "\t6 & c & 1 \\\\\n",
       "\t7 & c & 1 \\\\\n",
       "\t8 & c & 1 \\\\\n",
       "\t9 & c & 1 \\\\\n",
       "\t10 & c & 1 \\\\\n",
       "\t11 & c & 1 \\\\\n",
       "\t12 & c & 1 \\\\\n",
       "\t13 & c & 1 \\\\\n",
       "\t14 & c & 1 \\\\\n",
       "\t15 & c & 1 \\\\\n",
       "\t16 & c & 1 \\\\\n",
       "\t17 & c & 1 \\\\\n",
       "\t18 & c & 1 \\\\\n",
       "\t19 & c & 1 \\\\\n",
       "\t20 & c & 1 \\\\\n",
       "\t21 & c & 1 \\\\\n",
       "\t22 & c & 1 \\\\\n",
       "\t23 & c & 1 \\\\\n",
       "\t24 & c & 1 \\\\\n",
       "\t25 & c & 1 \\\\\n",
       "\t26 & c & 1 \\\\\n",
       "\t27 & c & 1 \\\\\n",
       "\t28 & c & 1 \\\\\n",
       "\t29 & c & 1 \\\\\n",
       "\t30 & c & 1 \\\\\n",
       "\t$\\dots$ & $\\dots$ & $\\dots$ \\\\\n",
       "\\end{tabular}\n",
       "\n",
       "$\\dots$\n",
       "\n",
       "Last Group (2500323 rows): x = 'a'\n",
       "\n",
       "\\begin{tabular}{r|cc}\n",
       "\t& x & y\\\\\n",
       "\t\\hline\n",
       "\t& Char & Int64\\\\\n",
       "\t\\hline\n",
       "\t1 & a & 1 \\\\\n",
       "\t2 & a & 1 \\\\\n",
       "\t3 & a & 1 \\\\\n",
       "\t4 & a & 1 \\\\\n",
       "\t5 & a & 1 \\\\\n",
       "\t6 & a & 1 \\\\\n",
       "\t7 & a & 1 \\\\\n",
       "\t8 & a & 1 \\\\\n",
       "\t9 & a & 1 \\\\\n",
       "\t10 & a & 1 \\\\\n",
       "\t11 & a & 1 \\\\\n",
       "\t12 & a & 1 \\\\\n",
       "\t13 & a & 1 \\\\\n",
       "\t14 & a & 1 \\\\\n",
       "\t15 & a & 1 \\\\\n",
       "\t16 & a & 1 \\\\\n",
       "\t17 & a & 1 \\\\\n",
       "\t18 & a & 1 \\\\\n",
       "\t19 & a & 1 \\\\\n",
       "\t20 & a & 1 \\\\\n",
       "\t21 & a & 1 \\\\\n",
       "\t22 & a & 1 \\\\\n",
       "\t23 & a & 1 \\\\\n",
       "\t24 & a & 1 \\\\\n",
       "\t25 & a & 1 \\\\\n",
       "\t26 & a & 1 \\\\\n",
       "\t27 & a & 1 \\\\\n",
       "\t28 & a & 1 \\\\\n",
       "\t29 & a & 1 \\\\\n",
       "\t30 & a & 1 \\\\\n",
       "\t$\\dots$ & $\\dots$ & $\\dots$ \\\\\n",
       "\\end{tabular}\n"
      ],
      "text/plain": [
       "GroupedDataFrame with 4 groups based on key: x\n",
       "First Group (2498871 rows): x = 'c'\n",
       "\u001b[1m     Row \u001b[0m│\u001b[1m x    \u001b[0m\u001b[1m y     \u001b[0m\n",
       "\u001b[1m         \u001b[0m│\u001b[90m Char \u001b[0m\u001b[90m Int64 \u001b[0m\n",
       "─────────┼─────────────\n",
       "       1 │ c         1\n",
       "       2 │ c         1\n",
       "       3 │ c         1\n",
       "       4 │ c         1\n",
       "       5 │ c         1\n",
       "       6 │ c         1\n",
       "       7 │ c         1\n",
       "       8 │ c         1\n",
       "       9 │ c         1\n",
       "      10 │ c         1\n",
       "      11 │ c         1\n",
       "    ⋮    │  ⋮      ⋮\n",
       " 2498861 │ c         1\n",
       " 2498862 │ c         1\n",
       " 2498863 │ c         1\n",
       " 2498864 │ c         1\n",
       " 2498865 │ c         1\n",
       " 2498866 │ c         1\n",
       " 2498867 │ c         1\n",
       " 2498868 │ c         1\n",
       " 2498869 │ c         1\n",
       " 2498870 │ c         1\n",
       " 2498871 │ c         1\n",
       "\u001b[36m   2498849 rows omitted\u001b[0m\n",
       "⋮\n",
       "Last Group (2500323 rows): x = 'a'\n",
       "\u001b[1m     Row \u001b[0m│\u001b[1m x    \u001b[0m\u001b[1m y     \u001b[0m\n",
       "\u001b[1m         \u001b[0m│\u001b[90m Char \u001b[0m\u001b[90m Int64 \u001b[0m\n",
       "─────────┼─────────────\n",
       "       1 │ a         1\n",
       "       2 │ a         1\n",
       "       3 │ a         1\n",
       "       4 │ a         1\n",
       "       5 │ a         1\n",
       "       6 │ a         1\n",
       "       7 │ a         1\n",
       "       8 │ a         1\n",
       "       9 │ a         1\n",
       "      10 │ a         1\n",
       "      11 │ a         1\n",
       "    ⋮    │  ⋮      ⋮\n",
       " 2500313 │ a         1\n",
       " 2500314 │ a         1\n",
       " 2500315 │ a         1\n",
       " 2500316 │ a         1\n",
       " 2500317 │ a         1\n",
       " 2500318 │ a         1\n",
       " 2500319 │ a         1\n",
       " 2500320 │ a         1\n",
       " 2500321 │ a         1\n",
       " 2500322 │ a         1\n",
       " 2500323 │ a         1\n",
       "\u001b[36m   2500301 rows omitted\u001b[0m"
      ]
     },
     "execution_count": 20,
     "metadata": {},
     "output_type": "execute_result"
    }
   ],
   "source": [
    "gdf = groupby(df, :x)"
   ]
  },
  {
   "cell_type": "code",
   "execution_count": 21,
   "metadata": {
    "scrolled": true
   },
   "outputs": [
    {
     "name": "stdout",
     "output_type": "stream",
     "text": [
      "  11.303 ms (232 allocations: 13.62 KiB)\n"
     ]
    },
    {
     "data": {
      "text/html": [
       "<div class=\"data-frame\"><p>4 rows × 2 columns</p><table class=\"data-frame\"><thead><tr><th></th><th>x</th><th>y_sum</th></tr><tr><th></th><th title=\"Char\">Char</th><th title=\"Int64\">Int64</th></tr></thead><tbody><tr><th>1</th><td>c</td><td>2498871</td></tr><tr><th>2</th><td>b</td><td>2500120</td></tr><tr><th>3</th><td>d</td><td>2500686</td></tr><tr><th>4</th><td>a</td><td>2500323</td></tr></tbody></table></div>"
      ],
      "text/latex": [
       "\\begin{tabular}{r|cc}\n",
       "\t& x & y\\_sum\\\\\n",
       "\t\\hline\n",
       "\t& Char & Int64\\\\\n",
       "\t\\hline\n",
       "\t1 & c & 2498871 \\\\\n",
       "\t2 & b & 2500120 \\\\\n",
       "\t3 & d & 2500686 \\\\\n",
       "\t4 & a & 2500323 \\\\\n",
       "\\end{tabular}\n"
      ],
      "text/plain": [
       "\u001b[1m4×2 DataFrame\u001b[0m\n",
       "\u001b[1m Row \u001b[0m│\u001b[1m x    \u001b[0m\u001b[1m y_sum   \u001b[0m\n",
       "\u001b[1m     \u001b[0m│\u001b[90m Char \u001b[0m\u001b[90m Int64   \u001b[0m\n",
       "─────┼───────────────\n",
       "   1 │ c     2498871\n",
       "   2 │ b     2500120\n",
       "   3 │ d     2500686\n",
       "   4 │ a     2500323"
      ]
     },
     "execution_count": 21,
     "metadata": {},
     "output_type": "execute_result"
    }
   ],
   "source": [
    "@btime combine($gdf, :y=>sum)"
   ]
  },
  {
   "cell_type": "markdown",
   "metadata": {},
   "source": [
    "### Use views instead of materializing a new DataFrame"
   ]
  },
  {
   "cell_type": "code",
   "execution_count": 22,
   "metadata": {
    "scrolled": true
   },
   "outputs": [
    {
     "data": {
      "text/html": [
       "<div class=\"data-frame\"><p>100 rows × 1,000 columns (omitted printing of 992 columns)</p><table class=\"data-frame\"><thead><tr><th></th><th>x1</th><th>x2</th><th>x3</th><th>x4</th><th>x5</th><th>x6</th><th>x7</th><th>x8</th></tr><tr><th></th><th title=\"Float64\">Float64</th><th title=\"Float64\">Float64</th><th title=\"Float64\">Float64</th><th title=\"Float64\">Float64</th><th title=\"Float64\">Float64</th><th title=\"Float64\">Float64</th><th title=\"Float64\">Float64</th><th title=\"Float64\">Float64</th></tr></thead><tbody><tr><th>1</th><td>0.777016</td><td>0.896444</td><td>0.225618</td><td>0.0398342</td><td>0.798797</td><td>0.525025</td><td>0.871787</td><td>0.645134</td></tr><tr><th>2</th><td>0.701979</td><td>0.9453</td><td>0.37646</td><td>0.0947803</td><td>0.251327</td><td>0.236166</td><td>0.293697</td><td>0.203283</td></tr><tr><th>3</th><td>0.506292</td><td>0.674179</td><td>0.642127</td><td>0.92571</td><td>0.554715</td><td>0.658771</td><td>0.321764</td><td>0.745311</td></tr><tr><th>4</th><td>0.45687</td><td>0.567372</td><td>0.418623</td><td>0.581003</td><td>0.0698292</td><td>0.960586</td><td>0.82162</td><td>0.623989</td></tr><tr><th>5</th><td>0.248872</td><td>0.619047</td><td>0.709611</td><td>0.501256</td><td>0.416595</td><td>0.842667</td><td>0.508236</td><td>0.120467</td></tr><tr><th>6</th><td>0.00838456</td><td>0.421281</td><td>0.666596</td><td>0.862949</td><td>0.509964</td><td>0.0691401</td><td>0.597594</td><td>0.181125</td></tr><tr><th>7</th><td>0.925194</td><td>0.431258</td><td>0.658452</td><td>0.149838</td><td>0.677729</td><td>0.46362</td><td>0.307422</td><td>0.543076</td></tr><tr><th>8</th><td>0.657568</td><td>0.553293</td><td>0.211001</td><td>0.702664</td><td>0.98197</td><td>0.829002</td><td>0.322775</td><td>0.605153</td></tr><tr><th>9</th><td>0.0989121</td><td>0.850505</td><td>0.802189</td><td>0.103567</td><td>0.0792299</td><td>0.929949</td><td>0.451498</td><td>0.989321</td></tr><tr><th>10</th><td>0.499469</td><td>0.736302</td><td>0.0604112</td><td>0.573757</td><td>0.719636</td><td>0.727311</td><td>0.594086</td><td>0.236842</td></tr><tr><th>11</th><td>0.423599</td><td>0.214109</td><td>0.608102</td><td>0.313975</td><td>0.849492</td><td>0.885646</td><td>0.90344</td><td>0.64906</td></tr><tr><th>12</th><td>0.453892</td><td>0.0646244</td><td>0.743274</td><td>0.787022</td><td>0.625381</td><td>0.553933</td><td>0.300478</td><td>0.983206</td></tr><tr><th>13</th><td>0.0610899</td><td>0.0279796</td><td>0.129206</td><td>0.0198816</td><td>0.29053</td><td>0.177552</td><td>0.11404</td><td>0.111172</td></tr><tr><th>14</th><td>0.907016</td><td>0.718557</td><td>0.543394</td><td>0.875669</td><td>0.311278</td><td>0.0287618</td><td>0.905099</td><td>0.360081</td></tr><tr><th>15</th><td>0.120386</td><td>0.244329</td><td>0.754607</td><td>0.217767</td><td>0.0810947</td><td>0.433125</td><td>0.93334</td><td>0.587318</td></tr><tr><th>16</th><td>0.200531</td><td>0.422211</td><td>0.915887</td><td>0.0495155</td><td>0.224572</td><td>0.338296</td><td>0.165242</td><td>0.602607</td></tr><tr><th>17</th><td>0.90977</td><td>0.312838</td><td>0.207136</td><td>0.503705</td><td>0.907128</td><td>0.680322</td><td>0.535963</td><td>0.500371</td></tr><tr><th>18</th><td>0.562705</td><td>0.158285</td><td>0.359104</td><td>0.267742</td><td>0.676118</td><td>0.734032</td><td>0.0130033</td><td>0.313825</td></tr><tr><th>19</th><td>0.739433</td><td>0.628175</td><td>0.0863905</td><td>0.577506</td><td>0.383371</td><td>0.0812091</td><td>0.191182</td><td>0.325278</td></tr><tr><th>20</th><td>0.327188</td><td>0.16282</td><td>0.689757</td><td>0.228166</td><td>0.826944</td><td>0.0128048</td><td>0.342373</td><td>0.187112</td></tr><tr><th>21</th><td>0.646986</td><td>0.482757</td><td>0.790365</td><td>0.918056</td><td>0.673293</td><td>0.639774</td><td>0.0736742</td><td>0.506375</td></tr><tr><th>22</th><td>0.283454</td><td>0.204404</td><td>0.107784</td><td>0.418631</td><td>0.864722</td><td>0.383148</td><td>0.968214</td><td>0.483331</td></tr><tr><th>23</th><td>0.0533669</td><td>0.159438</td><td>0.340114</td><td>0.486442</td><td>0.518738</td><td>0.140178</td><td>0.771648</td><td>0.961462</td></tr><tr><th>24</th><td>0.991554</td><td>0.131293</td><td>0.169013</td><td>0.410065</td><td>0.0843139</td><td>0.671473</td><td>0.0239344</td><td>0.141733</td></tr><tr><th>25</th><td>0.745875</td><td>0.720262</td><td>0.300908</td><td>0.69833</td><td>0.392554</td><td>0.465831</td><td>0.30937</td><td>0.961128</td></tr><tr><th>26</th><td>0.694898</td><td>0.220319</td><td>0.96262</td><td>0.437682</td><td>0.74519</td><td>0.55268</td><td>0.344386</td><td>0.47928</td></tr><tr><th>27</th><td>0.0346382</td><td>0.461834</td><td>0.671561</td><td>0.702751</td><td>0.383195</td><td>0.991995</td><td>0.0363086</td><td>0.0175319</td></tr><tr><th>28</th><td>0.0329401</td><td>0.330523</td><td>0.703519</td><td>0.386035</td><td>0.341115</td><td>0.298757</td><td>0.755053</td><td>0.0996169</td></tr><tr><th>29</th><td>0.79936</td><td>0.108107</td><td>0.832914</td><td>0.938635</td><td>0.333766</td><td>0.202251</td><td>0.472517</td><td>0.239493</td></tr><tr><th>30</th><td>0.913673</td><td>0.888193</td><td>0.141225</td><td>0.0700624</td><td>0.581957</td><td>0.850031</td><td>0.611261</td><td>0.959919</td></tr><tr><th>&vellip;</th><td>&vellip;</td><td>&vellip;</td><td>&vellip;</td><td>&vellip;</td><td>&vellip;</td><td>&vellip;</td><td>&vellip;</td><td>&vellip;</td></tr></tbody></table></div>"
      ],
      "text/latex": [
       "\\begin{tabular}{r|ccccccccc}\n",
       "\t& x1 & x2 & x3 & x4 & x5 & x6 & x7 & x8 & \\\\\n",
       "\t\\hline\n",
       "\t& Float64 & Float64 & Float64 & Float64 & Float64 & Float64 & Float64 & Float64 & \\\\\n",
       "\t\\hline\n",
       "\t1 & 0.777016 & 0.896444 & 0.225618 & 0.0398342 & 0.798797 & 0.525025 & 0.871787 & 0.645134 & $\\dots$ \\\\\n",
       "\t2 & 0.701979 & 0.9453 & 0.37646 & 0.0947803 & 0.251327 & 0.236166 & 0.293697 & 0.203283 & $\\dots$ \\\\\n",
       "\t3 & 0.506292 & 0.674179 & 0.642127 & 0.92571 & 0.554715 & 0.658771 & 0.321764 & 0.745311 & $\\dots$ \\\\\n",
       "\t4 & 0.45687 & 0.567372 & 0.418623 & 0.581003 & 0.0698292 & 0.960586 & 0.82162 & 0.623989 & $\\dots$ \\\\\n",
       "\t5 & 0.248872 & 0.619047 & 0.709611 & 0.501256 & 0.416595 & 0.842667 & 0.508236 & 0.120467 & $\\dots$ \\\\\n",
       "\t6 & 0.00838456 & 0.421281 & 0.666596 & 0.862949 & 0.509964 & 0.0691401 & 0.597594 & 0.181125 & $\\dots$ \\\\\n",
       "\t7 & 0.925194 & 0.431258 & 0.658452 & 0.149838 & 0.677729 & 0.46362 & 0.307422 & 0.543076 & $\\dots$ \\\\\n",
       "\t8 & 0.657568 & 0.553293 & 0.211001 & 0.702664 & 0.98197 & 0.829002 & 0.322775 & 0.605153 & $\\dots$ \\\\\n",
       "\t9 & 0.0989121 & 0.850505 & 0.802189 & 0.103567 & 0.0792299 & 0.929949 & 0.451498 & 0.989321 & $\\dots$ \\\\\n",
       "\t10 & 0.499469 & 0.736302 & 0.0604112 & 0.573757 & 0.719636 & 0.727311 & 0.594086 & 0.236842 & $\\dots$ \\\\\n",
       "\t11 & 0.423599 & 0.214109 & 0.608102 & 0.313975 & 0.849492 & 0.885646 & 0.90344 & 0.64906 & $\\dots$ \\\\\n",
       "\t12 & 0.453892 & 0.0646244 & 0.743274 & 0.787022 & 0.625381 & 0.553933 & 0.300478 & 0.983206 & $\\dots$ \\\\\n",
       "\t13 & 0.0610899 & 0.0279796 & 0.129206 & 0.0198816 & 0.29053 & 0.177552 & 0.11404 & 0.111172 & $\\dots$ \\\\\n",
       "\t14 & 0.907016 & 0.718557 & 0.543394 & 0.875669 & 0.311278 & 0.0287618 & 0.905099 & 0.360081 & $\\dots$ \\\\\n",
       "\t15 & 0.120386 & 0.244329 & 0.754607 & 0.217767 & 0.0810947 & 0.433125 & 0.93334 & 0.587318 & $\\dots$ \\\\\n",
       "\t16 & 0.200531 & 0.422211 & 0.915887 & 0.0495155 & 0.224572 & 0.338296 & 0.165242 & 0.602607 & $\\dots$ \\\\\n",
       "\t17 & 0.90977 & 0.312838 & 0.207136 & 0.503705 & 0.907128 & 0.680322 & 0.535963 & 0.500371 & $\\dots$ \\\\\n",
       "\t18 & 0.562705 & 0.158285 & 0.359104 & 0.267742 & 0.676118 & 0.734032 & 0.0130033 & 0.313825 & $\\dots$ \\\\\n",
       "\t19 & 0.739433 & 0.628175 & 0.0863905 & 0.577506 & 0.383371 & 0.0812091 & 0.191182 & 0.325278 & $\\dots$ \\\\\n",
       "\t20 & 0.327188 & 0.16282 & 0.689757 & 0.228166 & 0.826944 & 0.0128048 & 0.342373 & 0.187112 & $\\dots$ \\\\\n",
       "\t21 & 0.646986 & 0.482757 & 0.790365 & 0.918056 & 0.673293 & 0.639774 & 0.0736742 & 0.506375 & $\\dots$ \\\\\n",
       "\t22 & 0.283454 & 0.204404 & 0.107784 & 0.418631 & 0.864722 & 0.383148 & 0.968214 & 0.483331 & $\\dots$ \\\\\n",
       "\t23 & 0.0533669 & 0.159438 & 0.340114 & 0.486442 & 0.518738 & 0.140178 & 0.771648 & 0.961462 & $\\dots$ \\\\\n",
       "\t24 & 0.991554 & 0.131293 & 0.169013 & 0.410065 & 0.0843139 & 0.671473 & 0.0239344 & 0.141733 & $\\dots$ \\\\\n",
       "\t25 & 0.745875 & 0.720262 & 0.300908 & 0.69833 & 0.392554 & 0.465831 & 0.30937 & 0.961128 & $\\dots$ \\\\\n",
       "\t26 & 0.694898 & 0.220319 & 0.96262 & 0.437682 & 0.74519 & 0.55268 & 0.344386 & 0.47928 & $\\dots$ \\\\\n",
       "\t27 & 0.0346382 & 0.461834 & 0.671561 & 0.702751 & 0.383195 & 0.991995 & 0.0363086 & 0.0175319 & $\\dots$ \\\\\n",
       "\t28 & 0.0329401 & 0.330523 & 0.703519 & 0.386035 & 0.341115 & 0.298757 & 0.755053 & 0.0996169 & $\\dots$ \\\\\n",
       "\t29 & 0.79936 & 0.108107 & 0.832914 & 0.938635 & 0.333766 & 0.202251 & 0.472517 & 0.239493 & $\\dots$ \\\\\n",
       "\t30 & 0.913673 & 0.888193 & 0.141225 & 0.0700624 & 0.581957 & 0.850031 & 0.611261 & 0.959919 & $\\dots$ \\\\\n",
       "\t$\\dots$ & $\\dots$ & $\\dots$ & $\\dots$ & $\\dots$ & $\\dots$ & $\\dots$ & $\\dots$ & $\\dots$ &  \\\\\n",
       "\\end{tabular}\n"
      ],
      "text/plain": [
       "\u001b[1m100×1000 DataFrame\u001b[0m\n",
       "\u001b[1m Row \u001b[0m│\u001b[1m x1         \u001b[0m\u001b[1m x2         \u001b[0m\u001b[1m x3        \u001b[0m\u001b[1m x4        \u001b[0m\u001b[1m x5        \u001b[0m\u001b[1m x6        \u001b[0m\u001b[1m x7 \u001b[0m ⋯\n",
       "\u001b[1m     \u001b[0m│\u001b[90m Float64    \u001b[0m\u001b[90m Float64    \u001b[0m\u001b[90m Float64   \u001b[0m\u001b[90m Float64   \u001b[0m\u001b[90m Float64   \u001b[0m\u001b[90m Float64   \u001b[0m\u001b[90m Flo\u001b[0m ⋯\n",
       "─────┼──────────────────────────────────────────────────────────────────────────\n",
       "   1 │ 0.777016    0.896444    0.225618   0.0398342  0.798797   0.525025   0.8 ⋯\n",
       "   2 │ 0.701979    0.9453      0.37646    0.0947803  0.251327   0.236166   0.2\n",
       "   3 │ 0.506292    0.674179    0.642127   0.92571    0.554715   0.658771   0.3\n",
       "   4 │ 0.45687     0.567372    0.418623   0.581003   0.0698292  0.960586   0.8\n",
       "   5 │ 0.248872    0.619047    0.709611   0.501256   0.416595   0.842667   0.5 ⋯\n",
       "   6 │ 0.00838456  0.421281    0.666596   0.862949   0.509964   0.0691401  0.5\n",
       "   7 │ 0.925194    0.431258    0.658452   0.149838   0.677729   0.46362    0.3\n",
       "   8 │ 0.657568    0.553293    0.211001   0.702664   0.98197    0.829002   0.3\n",
       "   9 │ 0.0989121   0.850505    0.802189   0.103567   0.0792299  0.929949   0.4 ⋯\n",
       "  10 │ 0.499469    0.736302    0.0604112  0.573757   0.719636   0.727311   0.5\n",
       "  11 │ 0.423599    0.214109    0.608102   0.313975   0.849492   0.885646   0.9\n",
       "  ⋮  │     ⋮           ⋮           ⋮          ⋮          ⋮          ⋮          ⋱\n",
       "  91 │ 0.848588    0.547433    0.0821282  0.571608   0.219867   0.660152   0.1\n",
       "  92 │ 0.918368    0.451938    0.521559   0.943782   0.385914   0.0102833  0.0 ⋯\n",
       "  93 │ 0.825864    0.58481     0.116939   0.581355   0.159197   0.256752   0.8\n",
       "  94 │ 0.0504372   0.364427    0.370276   0.864688   0.418353   0.900586   0.4\n",
       "  95 │ 0.0399682   0.800153    0.293931   0.835558   0.821104   0.191428   0.3\n",
       "  96 │ 0.524392    0.0502343   0.538501   0.279584   0.976534   0.974053   0.5 ⋯\n",
       "  97 │ 0.167007    0.291577    0.677768   0.968734   0.526699   0.0758921  0.1\n",
       "  98 │ 0.550612    0.805372    0.128332   0.105531   0.0811032  0.888473   0.7\n",
       "  99 │ 0.99984     0.620774    0.721656   0.817936   0.231194   0.718172   0.9\n",
       " 100 │ 0.0268162   0.00151744  0.249831   0.314788   0.690862   0.556363   0.1 ⋯\n",
       "\u001b[36m                                                 994 columns and 79 rows omitted\u001b[0m"
      ]
     },
     "execution_count": 22,
     "metadata": {},
     "output_type": "execute_result"
    }
   ],
   "source": [
    "x = DataFrame(rand(100, 1000), :auto)"
   ]
  },
  {
   "cell_type": "code",
   "execution_count": 23,
   "metadata": {},
   "outputs": [
    {
     "name": "stdout",
     "output_type": "stream",
     "text": [
      "  208.100 μs (2985 allocations: 159.44 KiB)\n"
     ]
    },
    {
     "data": {
      "text/html": [
       "<div class=\"data-frame\"><p>1 rows × 1,000 columns (omitted printing of 992 columns)</p><table class=\"data-frame\"><thead><tr><th></th><th>x1</th><th>x2</th><th>x3</th><th>x4</th><th>x5</th><th>x6</th><th>x7</th><th>x8</th></tr><tr><th></th><th title=\"Float64\">Float64</th><th title=\"Float64\">Float64</th><th title=\"Float64\">Float64</th><th title=\"Float64\">Float64</th><th title=\"Float64\">Float64</th><th title=\"Float64\">Float64</th><th title=\"Float64\">Float64</th><th title=\"Float64\">Float64</th></tr></thead><tbody><tr><th>1</th><td>0.777016</td><td>0.896444</td><td>0.225618</td><td>0.0398342</td><td>0.798797</td><td>0.525025</td><td>0.871787</td><td>0.645134</td></tr></tbody></table></div>"
      ],
      "text/latex": [
       "\\begin{tabular}{r|ccccccccc}\n",
       "\t& x1 & x2 & x3 & x4 & x5 & x6 & x7 & x8 & \\\\\n",
       "\t\\hline\n",
       "\t& Float64 & Float64 & Float64 & Float64 & Float64 & Float64 & Float64 & Float64 & \\\\\n",
       "\t\\hline\n",
       "\t1 & 0.777016 & 0.896444 & 0.225618 & 0.0398342 & 0.798797 & 0.525025 & 0.871787 & 0.645134 & $\\dots$ \\\\\n",
       "\\end{tabular}\n"
      ],
      "text/plain": [
       "\u001b[1m1×1000 DataFrame\u001b[0m\n",
       "\u001b[1m Row \u001b[0m│\u001b[1m x1       \u001b[0m\u001b[1m x2       \u001b[0m\u001b[1m x3       \u001b[0m\u001b[1m x4        \u001b[0m\u001b[1m x5       \u001b[0m\u001b[1m x6       \u001b[0m\u001b[1m x7       \u001b[0m\u001b[1m \u001b[0m ⋯\n",
       "\u001b[1m     \u001b[0m│\u001b[90m Float64  \u001b[0m\u001b[90m Float64  \u001b[0m\u001b[90m Float64  \u001b[0m\u001b[90m Float64   \u001b[0m\u001b[90m Float64  \u001b[0m\u001b[90m Float64  \u001b[0m\u001b[90m Float64  \u001b[0m\u001b[90m \u001b[0m ⋯\n",
       "─────┼──────────────────────────────────────────────────────────────────────────\n",
       "   1 │ 0.777016  0.896444  0.225618  0.0398342  0.798797  0.525025  0.871787   ⋯\n",
       "\u001b[36m                                                             993 columns omitted\u001b[0m"
      ]
     },
     "execution_count": 23,
     "metadata": {},
     "output_type": "execute_result"
    }
   ],
   "source": [
    "@btime $x[1:1, :]"
   ]
  },
  {
   "cell_type": "code",
   "execution_count": 24,
   "metadata": {},
   "outputs": [
    {
     "name": "stdout",
     "output_type": "stream",
     "text": [
      "  27.593 ns (0 allocations: 0 bytes)\n"
     ]
    },
    {
     "data": {
      "text/html": [
       "<p>DataFrameRow (1000 columns)</p><div class=\"data-frame\"><table class=\"data-frame\"><thead><tr><th></th><th>x1</th><th>x2</th><th>x3</th><th>x4</th><th>x5</th><th>x6</th><th>x7</th><th>x8</th></tr><tr><th></th><th title=\"Float64\">Float64</th><th title=\"Float64\">Float64</th><th title=\"Float64\">Float64</th><th title=\"Float64\">Float64</th><th title=\"Float64\">Float64</th><th title=\"Float64\">Float64</th><th title=\"Float64\">Float64</th><th title=\"Float64\">Float64</th></tr></thead><tbody><tr><th>1</th><td>0.777016</td><td>0.896444</td><td>0.225618</td><td>0.0398342</td><td>0.798797</td><td>0.525025</td><td>0.871787</td><td>0.645134</td></tr></tbody></table></div>"
      ],
      "text/latex": [
       "\\begin{tabular}{r|ccccccccc}\n",
       "\t& x1 & x2 & x3 & x4 & x5 & x6 & x7 & x8 & \\\\\n",
       "\t\\hline\n",
       "\t& Float64 & Float64 & Float64 & Float64 & Float64 & Float64 & Float64 & Float64 & \\\\\n",
       "\t\\hline\n",
       "\t1 & 0.777016 & 0.896444 & 0.225618 & 0.0398342 & 0.798797 & 0.525025 & 0.871787 & 0.645134 & $\\dots$ \\\\\n",
       "\\end{tabular}\n"
      ],
      "text/plain": [
       "\u001b[1mDataFrameRow\u001b[0m\n",
       "\u001b[1m Row \u001b[0m│\u001b[1m x1       \u001b[0m\u001b[1m x2       \u001b[0m\u001b[1m x3       \u001b[0m\u001b[1m x4        \u001b[0m\u001b[1m x5       \u001b[0m\u001b[1m x6       \u001b[0m\u001b[1m x7       \u001b[0m\u001b[1m \u001b[0m ⋯\n",
       "\u001b[1m     \u001b[0m│\u001b[90m Float64  \u001b[0m\u001b[90m Float64  \u001b[0m\u001b[90m Float64  \u001b[0m\u001b[90m Float64   \u001b[0m\u001b[90m Float64  \u001b[0m\u001b[90m Float64  \u001b[0m\u001b[90m Float64  \u001b[0m\u001b[90m \u001b[0m ⋯\n",
       "─────┼──────────────────────────────────────────────────────────────────────────\n",
       "   1 │ 0.777016  0.896444  0.225618  0.0398342  0.798797  0.525025  0.871787   ⋯\n",
       "\u001b[36m                                                             993 columns omitted\u001b[0m"
      ]
     },
     "execution_count": 24,
     "metadata": {},
     "output_type": "execute_result"
    }
   ],
   "source": [
    "@btime $x[1, :]"
   ]
  },
  {
   "cell_type": "code",
   "execution_count": 25,
   "metadata": {},
   "outputs": [
    {
     "name": "stdout",
     "output_type": "stream",
     "text": [
      "  27.291 ns (0 allocations: 0 bytes)\n"
     ]
    },
    {
     "data": {
      "text/html": [
       "<div class=\"data-frame\"><p>1 rows × 1,000 columns (omitted printing of 992 columns)</p><table class=\"data-frame\"><thead><tr><th></th><th>x1</th><th>x2</th><th>x3</th><th>x4</th><th>x5</th><th>x6</th><th>x7</th><th>x8</th></tr><tr><th></th><th title=\"Float64\">Float64</th><th title=\"Float64\">Float64</th><th title=\"Float64\">Float64</th><th title=\"Float64\">Float64</th><th title=\"Float64\">Float64</th><th title=\"Float64\">Float64</th><th title=\"Float64\">Float64</th><th title=\"Float64\">Float64</th></tr></thead><tbody><tr><th>1</th><td>0.777016</td><td>0.896444</td><td>0.225618</td><td>0.0398342</td><td>0.798797</td><td>0.525025</td><td>0.871787</td><td>0.645134</td></tr></tbody></table></div>"
      ],
      "text/latex": [
       "\\begin{tabular}{r|ccccccccc}\n",
       "\t& x1 & x2 & x3 & x4 & x5 & x6 & x7 & x8 & \\\\\n",
       "\t\\hline\n",
       "\t& Float64 & Float64 & Float64 & Float64 & Float64 & Float64 & Float64 & Float64 & \\\\\n",
       "\t\\hline\n",
       "\t1 & 0.777016 & 0.896444 & 0.225618 & 0.0398342 & 0.798797 & 0.525025 & 0.871787 & 0.645134 & $\\dots$ \\\\\n",
       "\\end{tabular}\n"
      ],
      "text/plain": [
       "\u001b[1m1×1000 SubDataFrame\u001b[0m\n",
       "\u001b[1m Row \u001b[0m│\u001b[1m x1       \u001b[0m\u001b[1m x2       \u001b[0m\u001b[1m x3       \u001b[0m\u001b[1m x4        \u001b[0m\u001b[1m x5       \u001b[0m\u001b[1m x6       \u001b[0m\u001b[1m x7       \u001b[0m\u001b[1m \u001b[0m ⋯\n",
       "\u001b[1m     \u001b[0m│\u001b[90m Float64  \u001b[0m\u001b[90m Float64  \u001b[0m\u001b[90m Float64  \u001b[0m\u001b[90m Float64   \u001b[0m\u001b[90m Float64  \u001b[0m\u001b[90m Float64  \u001b[0m\u001b[90m Float64  \u001b[0m\u001b[90m \u001b[0m ⋯\n",
       "─────┼──────────────────────────────────────────────────────────────────────────\n",
       "   1 │ 0.777016  0.896444  0.225618  0.0398342  0.798797  0.525025  0.871787   ⋯\n",
       "\u001b[36m                                                             993 columns omitted\u001b[0m"
      ]
     },
     "execution_count": 25,
     "metadata": {},
     "output_type": "execute_result"
    }
   ],
   "source": [
    "@btime view($x, 1:1, :)"
   ]
  },
  {
   "cell_type": "code",
   "execution_count": 26,
   "metadata": {},
   "outputs": [
    {
     "name": "stdout",
     "output_type": "stream",
     "text": [
      "  5.214 μs (50 allocations: 4.22 KiB)\n"
     ]
    },
    {
     "data": {
      "text/html": [
       "<div class=\"data-frame\"><p>1 rows × 20 columns (omitted printing of 12 columns)</p><table class=\"data-frame\"><thead><tr><th></th><th>x1</th><th>x2</th><th>x3</th><th>x4</th><th>x5</th><th>x6</th><th>x7</th><th>x8</th></tr><tr><th></th><th title=\"Float64\">Float64</th><th title=\"Float64\">Float64</th><th title=\"Float64\">Float64</th><th title=\"Float64\">Float64</th><th title=\"Float64\">Float64</th><th title=\"Float64\">Float64</th><th title=\"Float64\">Float64</th><th title=\"Float64\">Float64</th></tr></thead><tbody><tr><th>1</th><td>0.777016</td><td>0.896444</td><td>0.225618</td><td>0.0398342</td><td>0.798797</td><td>0.525025</td><td>0.871787</td><td>0.645134</td></tr></tbody></table></div>"
      ],
      "text/latex": [
       "\\begin{tabular}{r|ccccccccc}\n",
       "\t& x1 & x2 & x3 & x4 & x5 & x6 & x7 & x8 & \\\\\n",
       "\t\\hline\n",
       "\t& Float64 & Float64 & Float64 & Float64 & Float64 & Float64 & Float64 & Float64 & \\\\\n",
       "\t\\hline\n",
       "\t1 & 0.777016 & 0.896444 & 0.225618 & 0.0398342 & 0.798797 & 0.525025 & 0.871787 & 0.645134 & $\\dots$ \\\\\n",
       "\\end{tabular}\n"
      ],
      "text/plain": [
       "\u001b[1m1×20 DataFrame\u001b[0m\n",
       "\u001b[1m Row \u001b[0m│\u001b[1m x1       \u001b[0m\u001b[1m x2       \u001b[0m\u001b[1m x3       \u001b[0m\u001b[1m x4        \u001b[0m\u001b[1m x5       \u001b[0m\u001b[1m x6       \u001b[0m\u001b[1m x7       \u001b[0m\u001b[1m \u001b[0m ⋯\n",
       "\u001b[1m     \u001b[0m│\u001b[90m Float64  \u001b[0m\u001b[90m Float64  \u001b[0m\u001b[90m Float64  \u001b[0m\u001b[90m Float64   \u001b[0m\u001b[90m Float64  \u001b[0m\u001b[90m Float64  \u001b[0m\u001b[90m Float64  \u001b[0m\u001b[90m \u001b[0m ⋯\n",
       "─────┼──────────────────────────────────────────────────────────────────────────\n",
       "   1 │ 0.777016  0.896444  0.225618  0.0398342  0.798797  0.525025  0.871787   ⋯\n",
       "\u001b[36m                                                              13 columns omitted\u001b[0m"
      ]
     },
     "execution_count": 26,
     "metadata": {},
     "output_type": "execute_result"
    }
   ],
   "source": [
    "@btime $x[1:1, 1:20]"
   ]
  },
  {
   "cell_type": "code",
   "execution_count": 27,
   "metadata": {},
   "outputs": [
    {
     "name": "stdout",
     "output_type": "stream",
     "text": [
      "  30.172 ns (0 allocations: 0 bytes)\n"
     ]
    },
    {
     "data": {
      "text/html": [
       "<p>DataFrameRow (20 columns)</p><div class=\"data-frame\"><table class=\"data-frame\"><thead><tr><th></th><th>x1</th><th>x2</th><th>x3</th><th>x4</th><th>x5</th><th>x6</th><th>x7</th><th>x8</th></tr><tr><th></th><th title=\"Float64\">Float64</th><th title=\"Float64\">Float64</th><th title=\"Float64\">Float64</th><th title=\"Float64\">Float64</th><th title=\"Float64\">Float64</th><th title=\"Float64\">Float64</th><th title=\"Float64\">Float64</th><th title=\"Float64\">Float64</th></tr></thead><tbody><tr><th>1</th><td>0.777016</td><td>0.896444</td><td>0.225618</td><td>0.0398342</td><td>0.798797</td><td>0.525025</td><td>0.871787</td><td>0.645134</td></tr></tbody></table></div>"
      ],
      "text/latex": [
       "\\begin{tabular}{r|ccccccccc}\n",
       "\t& x1 & x2 & x3 & x4 & x5 & x6 & x7 & x8 & \\\\\n",
       "\t\\hline\n",
       "\t& Float64 & Float64 & Float64 & Float64 & Float64 & Float64 & Float64 & Float64 & \\\\\n",
       "\t\\hline\n",
       "\t1 & 0.777016 & 0.896444 & 0.225618 & 0.0398342 & 0.798797 & 0.525025 & 0.871787 & 0.645134 & $\\dots$ \\\\\n",
       "\\end{tabular}\n"
      ],
      "text/plain": [
       "\u001b[1mDataFrameRow\u001b[0m\n",
       "\u001b[1m Row \u001b[0m│\u001b[1m x1       \u001b[0m\u001b[1m x2       \u001b[0m\u001b[1m x3       \u001b[0m\u001b[1m x4        \u001b[0m\u001b[1m x5       \u001b[0m\u001b[1m x6       \u001b[0m\u001b[1m x7       \u001b[0m\u001b[1m \u001b[0m ⋯\n",
       "\u001b[1m     \u001b[0m│\u001b[90m Float64  \u001b[0m\u001b[90m Float64  \u001b[0m\u001b[90m Float64  \u001b[0m\u001b[90m Float64   \u001b[0m\u001b[90m Float64  \u001b[0m\u001b[90m Float64  \u001b[0m\u001b[90m Float64  \u001b[0m\u001b[90m \u001b[0m ⋯\n",
       "─────┼──────────────────────────────────────────────────────────────────────────\n",
       "   1 │ 0.777016  0.896444  0.225618  0.0398342  0.798797  0.525025  0.871787   ⋯\n",
       "\u001b[36m                                                              13 columns omitted\u001b[0m"
      ]
     },
     "execution_count": 27,
     "metadata": {},
     "output_type": "execute_result"
    }
   ],
   "source": [
    "@btime $x[1, 1:20]"
   ]
  },
  {
   "cell_type": "code",
   "execution_count": 28,
   "metadata": {},
   "outputs": [
    {
     "name": "stdout",
     "output_type": "stream",
     "text": [
      "  30.272 ns (0 allocations: 0 bytes)\n"
     ]
    },
    {
     "data": {
      "text/html": [
       "<div class=\"data-frame\"><p>1 rows × 20 columns (omitted printing of 12 columns)</p><table class=\"data-frame\"><thead><tr><th></th><th>x1</th><th>x2</th><th>x3</th><th>x4</th><th>x5</th><th>x6</th><th>x7</th><th>x8</th></tr><tr><th></th><th title=\"Float64\">Float64</th><th title=\"Float64\">Float64</th><th title=\"Float64\">Float64</th><th title=\"Float64\">Float64</th><th title=\"Float64\">Float64</th><th title=\"Float64\">Float64</th><th title=\"Float64\">Float64</th><th title=\"Float64\">Float64</th></tr></thead><tbody><tr><th>1</th><td>0.777016</td><td>0.896444</td><td>0.225618</td><td>0.0398342</td><td>0.798797</td><td>0.525025</td><td>0.871787</td><td>0.645134</td></tr></tbody></table></div>"
      ],
      "text/latex": [
       "\\begin{tabular}{r|ccccccccc}\n",
       "\t& x1 & x2 & x3 & x4 & x5 & x6 & x7 & x8 & \\\\\n",
       "\t\\hline\n",
       "\t& Float64 & Float64 & Float64 & Float64 & Float64 & Float64 & Float64 & Float64 & \\\\\n",
       "\t\\hline\n",
       "\t1 & 0.777016 & 0.896444 & 0.225618 & 0.0398342 & 0.798797 & 0.525025 & 0.871787 & 0.645134 & $\\dots$ \\\\\n",
       "\\end{tabular}\n"
      ],
      "text/plain": [
       "\u001b[1m1×20 SubDataFrame\u001b[0m\n",
       "\u001b[1m Row \u001b[0m│\u001b[1m x1       \u001b[0m\u001b[1m x2       \u001b[0m\u001b[1m x3       \u001b[0m\u001b[1m x4        \u001b[0m\u001b[1m x5       \u001b[0m\u001b[1m x6       \u001b[0m\u001b[1m x7       \u001b[0m\u001b[1m \u001b[0m ⋯\n",
       "\u001b[1m     \u001b[0m│\u001b[90m Float64  \u001b[0m\u001b[90m Float64  \u001b[0m\u001b[90m Float64  \u001b[0m\u001b[90m Float64   \u001b[0m\u001b[90m Float64  \u001b[0m\u001b[90m Float64  \u001b[0m\u001b[90m Float64  \u001b[0m\u001b[90m \u001b[0m ⋯\n",
       "─────┼──────────────────────────────────────────────────────────────────────────\n",
       "   1 │ 0.777016  0.896444  0.225618  0.0398342  0.798797  0.525025  0.871787   ⋯\n",
       "\u001b[36m                                                              13 columns omitted\u001b[0m"
      ]
     },
     "execution_count": 28,
     "metadata": {},
     "output_type": "execute_result"
    }
   ],
   "source": [
    "@btime view($x, 1:1, 1:20)"
   ]
  }
 ],
 "metadata": {
  "@webio": {
   "lastCommId": null,
   "lastKernelId": null
  },
  "kernelspec": {
   "display_name": "Julia 1.7.0",
   "language": "julia",
   "name": "julia-1.7"
  },
  "language_info": {
   "file_extension": ".jl",
   "mimetype": "application/julia",
   "name": "julia",
   "version": "1.7.0"
  }
 },
 "nbformat": 4,
 "nbformat_minor": 1
}
