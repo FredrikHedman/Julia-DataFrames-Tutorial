{
 "cells": [
  {
   "cell_type": "markdown",
   "metadata": {},
   "source": [
    "# Introduction to DataFrames\n",
    "**[Bogumił Kamiński](http://bogumilkaminski.pl/about/), February 13, 2023**"
   ]
  },
  {
   "cell_type": "code",
   "execution_count": 1,
   "metadata": {},
   "outputs": [],
   "source": [
    "using DataFrames"
   ]
  },
  {
   "cell_type": "code",
   "execution_count": 2,
   "metadata": {},
   "outputs": [],
   "source": [
    "using BenchmarkTools"
   ]
  },
  {
   "cell_type": "code",
   "execution_count": 3,
   "metadata": {},
   "outputs": [],
   "source": [
    "using CategoricalArrays"
   ]
  },
  {
   "cell_type": "code",
   "execution_count": 4,
   "metadata": {},
   "outputs": [],
   "source": [
    "using PooledArrays"
   ]
  },
  {
   "cell_type": "markdown",
   "metadata": {},
   "source": [
    "## Performance tips"
   ]
  },
  {
   "cell_type": "markdown",
   "metadata": {},
   "source": [
    "### Access by column number is faster than by name"
   ]
  },
  {
   "cell_type": "code",
   "execution_count": 5,
   "metadata": {},
   "outputs": [
    {
     "name": "stdout",
     "output_type": "stream",
     "text": [
      "  2.000 ns (0 allocations: 0 bytes)\n",
      "  9.000 ns (0 allocations: 0 bytes)\n"
     ]
    }
   ],
   "source": [
    "x = DataFrame(rand(5, 1000), :auto)\n",
    "@btime $x[!, 500];\n",
    "@btime $x.x500;"
   ]
  },
  {
   "cell_type": "markdown",
   "metadata": {},
   "source": [
    "### When working with data `DataFrame` use barrier functions or type annotation"
   ]
  },
  {
   "cell_type": "code",
   "execution_count": 6,
   "metadata": {},
   "outputs": [
    {
     "name": "stdout",
     "output_type": "stream",
     "text": [
      "  100.944 ms (5999012 allocations: 122.06 MiB)\n"
     ]
    }
   ],
   "source": [
    "using Random\n",
    "function f_bad() # this function will be slow\n",
    "    Random.seed!(1); x = DataFrame(rand(1000000,2), :auto)\n",
    "    y, z = x[!, 1], x[!, 2]\n",
    "    p = 0.0\n",
    "    for i in 1:nrow(x)\n",
    "        p += y[i]*z[i]\n",
    "    end\n",
    "    p\n",
    "end\n",
    "\n",
    "@btime f_bad();\n",
    "# if you run @code_warntype f_bad() then you notice\n",
    "# that Julia does not know column types of `DataFrame`\n"
   ]
  },
  {
   "cell_type": "code",
   "execution_count": 7,
   "metadata": {},
   "outputs": [
    {
     "name": "stdout",
     "output_type": "stream",
     "text": [
      "  6.473 ms (34 allocations: 30.52 MiB)\n",
      "  6.252 ms (34 allocations: 30.52 MiB)\n"
     ]
    }
   ],
   "source": [
    "# solution 1 is to use barrier function (it should be possible to use it in almost any code)\n",
    "function f_inner(y,z)\n",
    "   p = 0.0\n",
    "   for i in 1:length(y)\n",
    "       p += y[i]*z[i]\n",
    "   end\n",
    "   p\n",
    "end\n",
    "\n",
    "function f_barrier() # extract the work to an inner function\n",
    "    Random.seed!(1); x = DataFrame(rand(1000000,2), :auto)\n",
    "    f_inner(x[!, 1], x[!, 2])\n",
    "end\n",
    "\n",
    "using LinearAlgebra\n",
    "function f_inbuilt() # or use inbuilt function if possible\n",
    "    Random.seed!(1); x = DataFrame(rand(1000000,2), :auto)\n",
    "    dot(x[!, 1], x[!, 2])\n",
    "end\n",
    "\n",
    "@btime f_barrier();\n",
    "@btime f_inbuilt();"
   ]
  },
  {
   "cell_type": "code",
   "execution_count": 8,
   "metadata": {},
   "outputs": [
    {
     "name": "stdout",
     "output_type": "stream",
     "text": [
      "  6.440 ms (34 allocations: 30.52 MiB)\n"
     ]
    }
   ],
   "source": [
    "# solution 2 is to provide the types of extracted columns\n",
    "# it is simpler but there are cases in which you will not know these types\n",
    "# This example  assumes that you have DataFrames master at least from August 31, 2018\n",
    "function f_typed()\n",
    "    Random.seed!(1); x = DataFrame(rand(1000000,2), :auto)\n",
    "    y::Vector{Float64}, z::Vector{Float64} = x[!, 1], x[!, 2]\n",
    "    p = 0.0\n",
    "    for i in 1:nrow(x)\n",
    "        p += y[i]*z[i]\n",
    "    end\n",
    "    p\n",
    "end\n",
    "\n",
    "@btime f_typed();"
   ]
  },
  {
   "cell_type": "markdown",
   "metadata": {},
   "source": [
    "In general for tall and narrow tables it is often useful to use `Tables.rowtable`, `Tables.columntable` or `Tables.namedtupleiterator` for intermediate processing of data in a type-stable way."
   ]
  },
  {
   "cell_type": "markdown",
   "metadata": {},
   "source": [
    "### Consider using delayed `DataFrame` creation technique"
   ]
  },
  {
   "cell_type": "markdown",
   "metadata": {},
   "source": [
    "also notice the difference in performance between copying vs non-copying data frame creation"
   ]
  },
  {
   "cell_type": "code",
   "execution_count": 9,
   "metadata": {},
   "outputs": [
    {
     "name": "stdout",
     "output_type": "stream",
     "text": [
      "  25.195 ms (1949524 allocations: 37.40 MiB)\n",
      "  26.055 ms (1949724 allocations: 45.03 MiB)\n",
      "  1.436 ms (624 allocations: 7.66 MiB)\n",
      "  2.702 ms (824 allocations: 15.30 MiB)\n"
     ]
    }
   ],
   "source": [
    "function f1()\n",
    "    x = DataFrame([Vector{Float64}(undef, 10^4) for i in 1:100], :auto, copycols=false) # we work with a DataFrame directly\n",
    "    for c in 1:ncol(x)\n",
    "        d = x[!, c]\n",
    "        for r in 1:nrow(x)\n",
    "            d[r] = rand()\n",
    "        end\n",
    "    end\n",
    "    x\n",
    "end\n",
    "\n",
    "function f1a()\n",
    "    x = DataFrame([Vector{Float64}(undef, 10^4) for i in 1:100], :auto) # we work with a DataFrame directly\n",
    "    for c in 1:ncol(x)\n",
    "        d = x[!, c]\n",
    "        for r in 1:nrow(x)\n",
    "            d[r] = rand()\n",
    "        end\n",
    "    end\n",
    "    x\n",
    "end\n",
    "\n",
    "function f2()\n",
    "    x = Vector{Any}(undef, 100)\n",
    "    for c in 1:length(x)\n",
    "        d = Vector{Float64}(undef, 10^4)\n",
    "        for r in 1:length(d)\n",
    "            d[r] = rand()\n",
    "        end\n",
    "        x[c] = d\n",
    "    end\n",
    "    DataFrame(x, :auto, copycols=false) # we delay creation of DataFrame after we have our job done\n",
    "end\n",
    "\n",
    "function f2a()\n",
    "    x = Vector{Any}(undef, 100)\n",
    "    for c in 1:length(x)\n",
    "        d = Vector{Float64}(undef, 10^4)\n",
    "        for r in 1:length(d)\n",
    "            d[r] = rand()\n",
    "        end\n",
    "        x[c] = d\n",
    "    end\n",
    "    DataFrame(x, :auto) # we delay creation of DataFrame after we have our job done\n",
    "end\n",
    "\n",
    "@btime f1();\n",
    "@btime f1a();\n",
    "@btime f2();\n",
    "@btime f2a();"
   ]
  },
  {
   "cell_type": "markdown",
   "metadata": {},
   "source": [
    "### You can add rows to a `DataFrame` in place and it is fast"
   ]
  },
  {
   "cell_type": "code",
   "execution_count": 10,
   "metadata": {},
   "outputs": [
    {
     "name": "stdout",
     "output_type": "stream",
     "text": [
      "  5.662 ms (188 allocations: 38.16 MiB)\n",
      "  1.270 μs (30 allocations: 1.80 KiB)\n",
      "  416.080 ns (16 allocations: 256 bytes)\n"
     ]
    }
   ],
   "source": [
    "x = DataFrame(rand(10^6, 5), :auto)\n",
    "y = DataFrame(transpose(1.0:5.0), :auto)\n",
    "z = [1.0:5.0;]\n",
    "\n",
    "@btime vcat($x, $y); # creates a new DataFrame - slow\n",
    "@btime append!($x, $y); # in place - fast\n",
    "\n",
    "x = DataFrame(rand(10^6, 5), :auto) # reset to the same starting point\n",
    "@btime push!($x, $z); # add a single row in place - fast"
   ]
  },
  {
   "cell_type": "markdown",
   "metadata": {},
   "source": [
    "### Allowing `missing` as well as `categorical` slows down computations"
   ]
  },
  {
   "cell_type": "code",
   "execution_count": 11,
   "metadata": {},
   "outputs": [
    {
     "name": "stdout",
     "output_type": "stream",
     "text": [
      "Int64\n",
      " raw:\n",
      "  3.339 ms (7 allocations: 7.63 MiB)\n",
      " categorical:\n",
      "  11.436 ms (4 allocations: 688 bytes)\n",
      "String\n",
      " raw:\n",
      "  16.443 ms (4 allocations: 528 bytes)\n",
      " categorical:\n",
      "  22.391 ms (4 allocations: 688 bytes)\n",
      "Union{Missing, Int64}\n",
      " raw:\n",
      "  5.920 ms (4 allocations: 560 bytes)\n",
      " categorical:\n",
      "  16.192 ms (1000004 allocations: 30.52 MiB)\n",
      "Union{Missing, String}\n",
      " raw:\n",
      "  17.110 ms (4 allocations: 528 bytes)\n",
      " categorical:\n",
      "  25.003 ms (1000004 allocations: 30.52 MiB)\n"
     ]
    }
   ],
   "source": [
    "using StatsBase\n",
    "\n",
    "function test(data) # uses countmap function to test performance\n",
    "    println(eltype(data))\n",
    "    x = rand(data, 10^6)\n",
    "    y = categorical(x)\n",
    "    println(\" raw:\")\n",
    "    @btime countmap($x)\n",
    "    println(\" categorical:\")\n",
    "    @btime countmap($y)\n",
    "    nothing\n",
    "end\n",
    "\n",
    "test(1:10)\n",
    "test([randstring() for i in 1:10])\n",
    "test(allowmissing(1:10))\n",
    "test(allowmissing([randstring() for i in 1:10]))\n"
   ]
  },
  {
   "cell_type": "markdown",
   "metadata": {},
   "source": [
    "### When aggregating use column selector and prefer integer, categorical, or pooled array grouping variable"
   ]
  },
  {
   "cell_type": "code",
   "execution_count": 12,
   "metadata": {},
   "outputs": [],
   "source": [
    "df = DataFrame(x=rand('a':'d', 10^7), y=1);"
   ]
  },
  {
   "cell_type": "code",
   "execution_count": 13,
   "metadata": {
    "scrolled": true
   },
   "outputs": [
    {
     "data": {
      "text/html": [
       "<p><b>GroupedDataFrame with 4 groups based on key: x</b></p><div><div style = \"float: left;\"><span>First Group (2499156 rows): x = &apos;a&apos;: ASCII/Unicode U+0061 (category Ll: Letter, lowercase)</span></div><div style = \"float: right;\"><span style = \"font-style: italic;\">2499131 rows omitted</span></div><div style = \"clear: both;\"></div></div><div class = \"data-frame\" style = \"overflow-x: scroll;\"><table class = \"data-frame\" style = \"margin-bottom: 6px;\"><thead><tr class = \"header\"><th class = \"rowNumber\" style = \"font-weight: bold; text-align: right;\">Row</th><th style = \"text-align: left;\">x</th><th style = \"text-align: left;\">y</th></tr><tr class = \"subheader headerLastRow\"><th class = \"rowNumber\" style = \"font-weight: bold; text-align: right;\"></th><th title = \"Char\" style = \"text-align: left;\">Char</th><th title = \"Int64\" style = \"text-align: left;\">Int64</th></tr></thead><tbody><tr><td class = \"rowNumber\" style = \"font-weight: bold; text-align: right;\">1</td><td style = \"text-align: left;\">a</td><td style = \"text-align: right;\">1</td></tr><tr><td class = \"rowNumber\" style = \"font-weight: bold; text-align: right;\">2</td><td style = \"text-align: left;\">a</td><td style = \"text-align: right;\">1</td></tr><tr><td class = \"rowNumber\" style = \"font-weight: bold; text-align: right;\">3</td><td style = \"text-align: left;\">a</td><td style = \"text-align: right;\">1</td></tr><tr><td class = \"rowNumber\" style = \"font-weight: bold; text-align: right;\">4</td><td style = \"text-align: left;\">a</td><td style = \"text-align: right;\">1</td></tr><tr><td class = \"rowNumber\" style = \"font-weight: bold; text-align: right;\">5</td><td style = \"text-align: left;\">a</td><td style = \"text-align: right;\">1</td></tr><tr><td class = \"rowNumber\" style = \"font-weight: bold; text-align: right;\">6</td><td style = \"text-align: left;\">a</td><td style = \"text-align: right;\">1</td></tr><tr><td class = \"rowNumber\" style = \"font-weight: bold; text-align: right;\">7</td><td style = \"text-align: left;\">a</td><td style = \"text-align: right;\">1</td></tr><tr><td class = \"rowNumber\" style = \"font-weight: bold; text-align: right;\">8</td><td style = \"text-align: left;\">a</td><td style = \"text-align: right;\">1</td></tr><tr><td class = \"rowNumber\" style = \"font-weight: bold; text-align: right;\">9</td><td style = \"text-align: left;\">a</td><td style = \"text-align: right;\">1</td></tr><tr><td class = \"rowNumber\" style = \"font-weight: bold; text-align: right;\">10</td><td style = \"text-align: left;\">a</td><td style = \"text-align: right;\">1</td></tr><tr><td class = \"rowNumber\" style = \"font-weight: bold; text-align: right;\">11</td><td style = \"text-align: left;\">a</td><td style = \"text-align: right;\">1</td></tr><tr><td class = \"rowNumber\" style = \"font-weight: bold; text-align: right;\">12</td><td style = \"text-align: left;\">a</td><td style = \"text-align: right;\">1</td></tr><tr><td class = \"rowNumber\" style = \"font-weight: bold; text-align: right;\">13</td><td style = \"text-align: left;\">a</td><td style = \"text-align: right;\">1</td></tr><tr><td style = \"text-align: right;\">&vellip;</td><td style = \"text-align: right;\">&vellip;</td><td style = \"text-align: right;\">&vellip;</td></tr><tr><td class = \"rowNumber\" style = \"font-weight: bold; text-align: right;\">2499145</td><td style = \"text-align: left;\">a</td><td style = \"text-align: right;\">1</td></tr><tr><td class = \"rowNumber\" style = \"font-weight: bold; text-align: right;\">2499146</td><td style = \"text-align: left;\">a</td><td style = \"text-align: right;\">1</td></tr><tr><td class = \"rowNumber\" style = \"font-weight: bold; text-align: right;\">2499147</td><td style = \"text-align: left;\">a</td><td style = \"text-align: right;\">1</td></tr><tr><td class = \"rowNumber\" style = \"font-weight: bold; text-align: right;\">2499148</td><td style = \"text-align: left;\">a</td><td style = \"text-align: right;\">1</td></tr><tr><td class = \"rowNumber\" style = \"font-weight: bold; text-align: right;\">2499149</td><td style = \"text-align: left;\">a</td><td style = \"text-align: right;\">1</td></tr><tr><td class = \"rowNumber\" style = \"font-weight: bold; text-align: right;\">2499150</td><td style = \"text-align: left;\">a</td><td style = \"text-align: right;\">1</td></tr><tr><td class = \"rowNumber\" style = \"font-weight: bold; text-align: right;\">2499151</td><td style = \"text-align: left;\">a</td><td style = \"text-align: right;\">1</td></tr><tr><td class = \"rowNumber\" style = \"font-weight: bold; text-align: right;\">2499152</td><td style = \"text-align: left;\">a</td><td style = \"text-align: right;\">1</td></tr><tr><td class = \"rowNumber\" style = \"font-weight: bold; text-align: right;\">2499153</td><td style = \"text-align: left;\">a</td><td style = \"text-align: right;\">1</td></tr><tr><td class = \"rowNumber\" style = \"font-weight: bold; text-align: right;\">2499154</td><td style = \"text-align: left;\">a</td><td style = \"text-align: right;\">1</td></tr><tr><td class = \"rowNumber\" style = \"font-weight: bold; text-align: right;\">2499155</td><td style = \"text-align: left;\">a</td><td style = \"text-align: right;\">1</td></tr><tr><td class = \"rowNumber\" style = \"font-weight: bold; text-align: right;\">2499156</td><td style = \"text-align: left;\">a</td><td style = \"text-align: right;\">1</td></tr></tbody></table></div><p>&vellip;</p><div><div style = \"float: left;\"><span>Last Group (2499172 rows): x = &apos;d&apos;: ASCII/Unicode U+0064 (category Ll: Letter, lowercase)</span></div><div style = \"float: right;\"><span style = \"font-style: italic;\">2499147 rows omitted</span></div><div style = \"clear: both;\"></div></div><div class = \"data-frame\" style = \"overflow-x: scroll;\"><table class = \"data-frame\" style = \"margin-bottom: 6px;\"><thead><tr class = \"header\"><th class = \"rowNumber\" style = \"font-weight: bold; text-align: right;\">Row</th><th style = \"text-align: left;\">x</th><th style = \"text-align: left;\">y</th></tr><tr class = \"subheader headerLastRow\"><th class = \"rowNumber\" style = \"font-weight: bold; text-align: right;\"></th><th title = \"Char\" style = \"text-align: left;\">Char</th><th title = \"Int64\" style = \"text-align: left;\">Int64</th></tr></thead><tbody><tr><td class = \"rowNumber\" style = \"font-weight: bold; text-align: right;\">1</td><td style = \"text-align: left;\">d</td><td style = \"text-align: right;\">1</td></tr><tr><td class = \"rowNumber\" style = \"font-weight: bold; text-align: right;\">2</td><td style = \"text-align: left;\">d</td><td style = \"text-align: right;\">1</td></tr><tr><td class = \"rowNumber\" style = \"font-weight: bold; text-align: right;\">3</td><td style = \"text-align: left;\">d</td><td style = \"text-align: right;\">1</td></tr><tr><td class = \"rowNumber\" style = \"font-weight: bold; text-align: right;\">4</td><td style = \"text-align: left;\">d</td><td style = \"text-align: right;\">1</td></tr><tr><td class = \"rowNumber\" style = \"font-weight: bold; text-align: right;\">5</td><td style = \"text-align: left;\">d</td><td style = \"text-align: right;\">1</td></tr><tr><td class = \"rowNumber\" style = \"font-weight: bold; text-align: right;\">6</td><td style = \"text-align: left;\">d</td><td style = \"text-align: right;\">1</td></tr><tr><td class = \"rowNumber\" style = \"font-weight: bold; text-align: right;\">7</td><td style = \"text-align: left;\">d</td><td style = \"text-align: right;\">1</td></tr><tr><td class = \"rowNumber\" style = \"font-weight: bold; text-align: right;\">8</td><td style = \"text-align: left;\">d</td><td style = \"text-align: right;\">1</td></tr><tr><td class = \"rowNumber\" style = \"font-weight: bold; text-align: right;\">9</td><td style = \"text-align: left;\">d</td><td style = \"text-align: right;\">1</td></tr><tr><td class = \"rowNumber\" style = \"font-weight: bold; text-align: right;\">10</td><td style = \"text-align: left;\">d</td><td style = \"text-align: right;\">1</td></tr><tr><td class = \"rowNumber\" style = \"font-weight: bold; text-align: right;\">11</td><td style = \"text-align: left;\">d</td><td style = \"text-align: right;\">1</td></tr><tr><td class = \"rowNumber\" style = \"font-weight: bold; text-align: right;\">12</td><td style = \"text-align: left;\">d</td><td style = \"text-align: right;\">1</td></tr><tr><td class = \"rowNumber\" style = \"font-weight: bold; text-align: right;\">13</td><td style = \"text-align: left;\">d</td><td style = \"text-align: right;\">1</td></tr><tr><td style = \"text-align: right;\">&vellip;</td><td style = \"text-align: right;\">&vellip;</td><td style = \"text-align: right;\">&vellip;</td></tr><tr><td class = \"rowNumber\" style = \"font-weight: bold; text-align: right;\">2499161</td><td style = \"text-align: left;\">d</td><td style = \"text-align: right;\">1</td></tr><tr><td class = \"rowNumber\" style = \"font-weight: bold; text-align: right;\">2499162</td><td style = \"text-align: left;\">d</td><td style = \"text-align: right;\">1</td></tr><tr><td class = \"rowNumber\" style = \"font-weight: bold; text-align: right;\">2499163</td><td style = \"text-align: left;\">d</td><td style = \"text-align: right;\">1</td></tr><tr><td class = \"rowNumber\" style = \"font-weight: bold; text-align: right;\">2499164</td><td style = \"text-align: left;\">d</td><td style = \"text-align: right;\">1</td></tr><tr><td class = \"rowNumber\" style = \"font-weight: bold; text-align: right;\">2499165</td><td style = \"text-align: left;\">d</td><td style = \"text-align: right;\">1</td></tr><tr><td class = \"rowNumber\" style = \"font-weight: bold; text-align: right;\">2499166</td><td style = \"text-align: left;\">d</td><td style = \"text-align: right;\">1</td></tr><tr><td class = \"rowNumber\" style = \"font-weight: bold; text-align: right;\">2499167</td><td style = \"text-align: left;\">d</td><td style = \"text-align: right;\">1</td></tr><tr><td class = \"rowNumber\" style = \"font-weight: bold; text-align: right;\">2499168</td><td style = \"text-align: left;\">d</td><td style = \"text-align: right;\">1</td></tr><tr><td class = \"rowNumber\" style = \"font-weight: bold; text-align: right;\">2499169</td><td style = \"text-align: left;\">d</td><td style = \"text-align: right;\">1</td></tr><tr><td class = \"rowNumber\" style = \"font-weight: bold; text-align: right;\">2499170</td><td style = \"text-align: left;\">d</td><td style = \"text-align: right;\">1</td></tr><tr><td class = \"rowNumber\" style = \"font-weight: bold; text-align: right;\">2499171</td><td style = \"text-align: left;\">d</td><td style = \"text-align: right;\">1</td></tr><tr><td class = \"rowNumber\" style = \"font-weight: bold; text-align: right;\">2499172</td><td style = \"text-align: left;\">d</td><td style = \"text-align: right;\">1</td></tr></tbody></table></div>"
      ],
      "text/latex": [
       "GroupedDataFrame with 4 groups based on key: x\n",
       "\n",
       "First Group (2499156 rows): x = 'a': ASCII/Unicode U+0061 (category Ll: Letter, lowercase)\n",
       "\n",
       "\\begin{tabular}{r|cc}\n",
       "\t& x & y\\\\\n",
       "\t\\hline\n",
       "\t& Char & Int64\\\\\n",
       "\t\\hline\n",
       "\t1 & a & 1 \\\\\n",
       "\t2 & a & 1 \\\\\n",
       "\t3 & a & 1 \\\\\n",
       "\t4 & a & 1 \\\\\n",
       "\t5 & a & 1 \\\\\n",
       "\t6 & a & 1 \\\\\n",
       "\t7 & a & 1 \\\\\n",
       "\t8 & a & 1 \\\\\n",
       "\t9 & a & 1 \\\\\n",
       "\t10 & a & 1 \\\\\n",
       "\t11 & a & 1 \\\\\n",
       "\t12 & a & 1 \\\\\n",
       "\t13 & a & 1 \\\\\n",
       "\t14 & a & 1 \\\\\n",
       "\t15 & a & 1 \\\\\n",
       "\t16 & a & 1 \\\\\n",
       "\t17 & a & 1 \\\\\n",
       "\t18 & a & 1 \\\\\n",
       "\t19 & a & 1 \\\\\n",
       "\t20 & a & 1 \\\\\n",
       "\t21 & a & 1 \\\\\n",
       "\t22 & a & 1 \\\\\n",
       "\t23 & a & 1 \\\\\n",
       "\t24 & a & 1 \\\\\n",
       "\t25 & a & 1 \\\\\n",
       "\t26 & a & 1 \\\\\n",
       "\t27 & a & 1 \\\\\n",
       "\t28 & a & 1 \\\\\n",
       "\t29 & a & 1 \\\\\n",
       "\t30 & a & 1 \\\\\n",
       "\t$\\dots$ & $\\dots$ & $\\dots$ \\\\\n",
       "\\end{tabular}\n",
       "\n",
       "$\\dots$\n",
       "\n",
       "Last Group (2499172 rows): x = 'd': ASCII/Unicode U+0064 (category Ll: Letter, lowercase)\n",
       "\n",
       "\\begin{tabular}{r|cc}\n",
       "\t& x & y\\\\\n",
       "\t\\hline\n",
       "\t& Char & Int64\\\\\n",
       "\t\\hline\n",
       "\t1 & d & 1 \\\\\n",
       "\t2 & d & 1 \\\\\n",
       "\t3 & d & 1 \\\\\n",
       "\t4 & d & 1 \\\\\n",
       "\t5 & d & 1 \\\\\n",
       "\t6 & d & 1 \\\\\n",
       "\t7 & d & 1 \\\\\n",
       "\t8 & d & 1 \\\\\n",
       "\t9 & d & 1 \\\\\n",
       "\t10 & d & 1 \\\\\n",
       "\t11 & d & 1 \\\\\n",
       "\t12 & d & 1 \\\\\n",
       "\t13 & d & 1 \\\\\n",
       "\t14 & d & 1 \\\\\n",
       "\t15 & d & 1 \\\\\n",
       "\t16 & d & 1 \\\\\n",
       "\t17 & d & 1 \\\\\n",
       "\t18 & d & 1 \\\\\n",
       "\t19 & d & 1 \\\\\n",
       "\t20 & d & 1 \\\\\n",
       "\t21 & d & 1 \\\\\n",
       "\t22 & d & 1 \\\\\n",
       "\t23 & d & 1 \\\\\n",
       "\t24 & d & 1 \\\\\n",
       "\t25 & d & 1 \\\\\n",
       "\t26 & d & 1 \\\\\n",
       "\t27 & d & 1 \\\\\n",
       "\t28 & d & 1 \\\\\n",
       "\t29 & d & 1 \\\\\n",
       "\t30 & d & 1 \\\\\n",
       "\t$\\dots$ & $\\dots$ & $\\dots$ \\\\\n",
       "\\end{tabular}\n"
      ],
      "text/plain": [
       "GroupedDataFrame with 4 groups based on key: x\n",
       "First Group (2499156 rows): x = 'a': ASCII/Unicode U+0061 (category Ll: Letter, lowercase)\n",
       "\u001b[1m     Row \u001b[0m│\u001b[1m x    \u001b[0m\u001b[1m y     \u001b[0m\n",
       "         │\u001b[90m Char \u001b[0m\u001b[90m Int64 \u001b[0m\n",
       "─────────┼─────────────\n",
       "       1 │ a         1\n",
       "       2 │ a         1\n",
       "       3 │ a         1\n",
       "       4 │ a         1\n",
       "    ⋮    │  ⋮      ⋮\n",
       " 2499154 │ a         1\n",
       " 2499155 │ a         1\n",
       " 2499156 │ a         1\n",
       "\u001b[36m   2499149 rows omitted\u001b[0m\n",
       "⋮\n",
       "Last Group (2499172 rows): x = 'd': ASCII/Unicode U+0064 (category Ll: Letter, lowercase)\n",
       "\u001b[1m     Row \u001b[0m│\u001b[1m x    \u001b[0m\u001b[1m y     \u001b[0m\n",
       "         │\u001b[90m Char \u001b[0m\u001b[90m Int64 \u001b[0m\n",
       "─────────┼─────────────\n",
       "       1 │ d         1\n",
       "       2 │ d         1\n",
       "       3 │ d         1\n",
       "    ⋮    │  ⋮      ⋮\n",
       " 2499170 │ d         1\n",
       " 2499171 │ d         1\n",
       " 2499172 │ d         1\n",
       "\u001b[36m   2499166 rows omitted\u001b[0m"
      ]
     },
     "execution_count": 13,
     "metadata": {},
     "output_type": "execute_result"
    }
   ],
   "source": [
    "gdf = groupby(df, :x)"
   ]
  },
  {
   "cell_type": "code",
   "execution_count": 14,
   "metadata": {},
   "outputs": [
    {
     "name": "stdout",
     "output_type": "stream",
     "text": [
      "  38.910 ms (303 allocations: 19.08 MiB)\n"
     ]
    },
    {
     "data": {
      "text/html": [
       "<div><div style = \"float: left;\"><span>4×2 DataFrame</span></div><div style = \"clear: both;\"></div></div><div class = \"data-frame\" style = \"overflow-x: scroll;\"><table class = \"data-frame\" style = \"margin-bottom: 6px;\"><thead><tr class = \"header\"><th class = \"rowNumber\" style = \"font-weight: bold; text-align: right;\">Row</th><th style = \"text-align: left;\">x</th><th style = \"text-align: left;\">x1</th></tr><tr class = \"subheader headerLastRow\"><th class = \"rowNumber\" style = \"font-weight: bold; text-align: right;\"></th><th title = \"Char\" style = \"text-align: left;\">Char</th><th title = \"Int64\" style = \"text-align: left;\">Int64</th></tr></thead><tbody><tr><td class = \"rowNumber\" style = \"font-weight: bold; text-align: right;\">1</td><td style = \"text-align: left;\">a</td><td style = \"text-align: right;\">2499156</td></tr><tr><td class = \"rowNumber\" style = \"font-weight: bold; text-align: right;\">2</td><td style = \"text-align: left;\">c</td><td style = \"text-align: right;\">2500605</td></tr><tr><td class = \"rowNumber\" style = \"font-weight: bold; text-align: right;\">3</td><td style = \"text-align: left;\">b</td><td style = \"text-align: right;\">2501067</td></tr><tr><td class = \"rowNumber\" style = \"font-weight: bold; text-align: right;\">4</td><td style = \"text-align: left;\">d</td><td style = \"text-align: right;\">2499172</td></tr></tbody></table></div>"
      ],
      "text/latex": [
       "\\begin{tabular}{r|cc}\n",
       "\t& x & x1\\\\\n",
       "\t\\hline\n",
       "\t& Char & Int64\\\\\n",
       "\t\\hline\n",
       "\t1 & a & 2499156 \\\\\n",
       "\t2 & c & 2500605 \\\\\n",
       "\t3 & b & 2501067 \\\\\n",
       "\t4 & d & 2499172 \\\\\n",
       "\\end{tabular}\n"
      ],
      "text/plain": [
       "\u001b[1m4×2 DataFrame\u001b[0m\n",
       "\u001b[1m Row \u001b[0m│\u001b[1m x    \u001b[0m\u001b[1m x1      \u001b[0m\n",
       "     │\u001b[90m Char \u001b[0m\u001b[90m Int64   \u001b[0m\n",
       "─────┼───────────────\n",
       "   1 │ a     2499156\n",
       "   2 │ c     2500605\n",
       "   3 │ b     2501067\n",
       "   4 │ d     2499172"
      ]
     },
     "execution_count": 14,
     "metadata": {},
     "output_type": "execute_result"
    }
   ],
   "source": [
    "@btime combine(v -> sum(v.y), $gdf) # traditional syntax, slow"
   ]
  },
  {
   "cell_type": "code",
   "execution_count": 15,
   "metadata": {
    "scrolled": true
   },
   "outputs": [
    {
     "name": "stdout",
     "output_type": "stream",
     "text": [
      "  8.782 ms (218 allocations: 13.33 KiB)\n"
     ]
    },
    {
     "data": {
      "text/html": [
       "<div><div style = \"float: left;\"><span>4×2 DataFrame</span></div><div style = \"clear: both;\"></div></div><div class = \"data-frame\" style = \"overflow-x: scroll;\"><table class = \"data-frame\" style = \"margin-bottom: 6px;\"><thead><tr class = \"header\"><th class = \"rowNumber\" style = \"font-weight: bold; text-align: right;\">Row</th><th style = \"text-align: left;\">x</th><th style = \"text-align: left;\">y_sum</th></tr><tr class = \"subheader headerLastRow\"><th class = \"rowNumber\" style = \"font-weight: bold; text-align: right;\"></th><th title = \"Char\" style = \"text-align: left;\">Char</th><th title = \"Int64\" style = \"text-align: left;\">Int64</th></tr></thead><tbody><tr><td class = \"rowNumber\" style = \"font-weight: bold; text-align: right;\">1</td><td style = \"text-align: left;\">a</td><td style = \"text-align: right;\">2499156</td></tr><tr><td class = \"rowNumber\" style = \"font-weight: bold; text-align: right;\">2</td><td style = \"text-align: left;\">c</td><td style = \"text-align: right;\">2500605</td></tr><tr><td class = \"rowNumber\" style = \"font-weight: bold; text-align: right;\">3</td><td style = \"text-align: left;\">b</td><td style = \"text-align: right;\">2501067</td></tr><tr><td class = \"rowNumber\" style = \"font-weight: bold; text-align: right;\">4</td><td style = \"text-align: left;\">d</td><td style = \"text-align: right;\">2499172</td></tr></tbody></table></div>"
      ],
      "text/latex": [
       "\\begin{tabular}{r|cc}\n",
       "\t& x & y\\_sum\\\\\n",
       "\t\\hline\n",
       "\t& Char & Int64\\\\\n",
       "\t\\hline\n",
       "\t1 & a & 2499156 \\\\\n",
       "\t2 & c & 2500605 \\\\\n",
       "\t3 & b & 2501067 \\\\\n",
       "\t4 & d & 2499172 \\\\\n",
       "\\end{tabular}\n"
      ],
      "text/plain": [
       "\u001b[1m4×2 DataFrame\u001b[0m\n",
       "\u001b[1m Row \u001b[0m│\u001b[1m x    \u001b[0m\u001b[1m y_sum   \u001b[0m\n",
       "     │\u001b[90m Char \u001b[0m\u001b[90m Int64   \u001b[0m\n",
       "─────┼───────────────\n",
       "   1 │ a     2499156\n",
       "   2 │ c     2500605\n",
       "   3 │ b     2501067\n",
       "   4 │ d     2499172"
      ]
     },
     "execution_count": 15,
     "metadata": {},
     "output_type": "execute_result"
    }
   ],
   "source": [
    "@btime combine($gdf, :y=>sum) # use column selector"
   ]
  },
  {
   "cell_type": "code",
   "execution_count": 16,
   "metadata": {},
   "outputs": [],
   "source": [
    "transform!(df, :x => categorical => :x);"
   ]
  },
  {
   "cell_type": "code",
   "execution_count": 17,
   "metadata": {},
   "outputs": [
    {
     "data": {
      "text/html": [
       "<p><b>GroupedDataFrame with 4 groups based on key: x</b></p><div><div style = \"float: left;\"><span>First Group (2499156 rows): x = CategoricalValue{Char, UInt32} &apos;a&apos;</span></div><div style = \"float: right;\"><span style = \"font-style: italic;\">2499131 rows omitted</span></div><div style = \"clear: both;\"></div></div><div class = \"data-frame\" style = \"overflow-x: scroll;\"><table class = \"data-frame\" style = \"margin-bottom: 6px;\"><thead><tr class = \"header\"><th class = \"rowNumber\" style = \"font-weight: bold; text-align: right;\">Row</th><th style = \"text-align: left;\">x</th><th style = \"text-align: left;\">y</th></tr><tr class = \"subheader headerLastRow\"><th class = \"rowNumber\" style = \"font-weight: bold; text-align: right;\"></th><th title = \"CategoricalValue{Char, UInt32}\" style = \"text-align: left;\">Cat…</th><th title = \"Int64\" style = \"text-align: left;\">Int64</th></tr></thead><tbody><tr><td class = \"rowNumber\" style = \"font-weight: bold; text-align: right;\">1</td><td style = \"text-align: left;\">a</td><td style = \"text-align: right;\">1</td></tr><tr><td class = \"rowNumber\" style = \"font-weight: bold; text-align: right;\">2</td><td style = \"text-align: left;\">a</td><td style = \"text-align: right;\">1</td></tr><tr><td class = \"rowNumber\" style = \"font-weight: bold; text-align: right;\">3</td><td style = \"text-align: left;\">a</td><td style = \"text-align: right;\">1</td></tr><tr><td class = \"rowNumber\" style = \"font-weight: bold; text-align: right;\">4</td><td style = \"text-align: left;\">a</td><td style = \"text-align: right;\">1</td></tr><tr><td class = \"rowNumber\" style = \"font-weight: bold; text-align: right;\">5</td><td style = \"text-align: left;\">a</td><td style = \"text-align: right;\">1</td></tr><tr><td class = \"rowNumber\" style = \"font-weight: bold; text-align: right;\">6</td><td style = \"text-align: left;\">a</td><td style = \"text-align: right;\">1</td></tr><tr><td class = \"rowNumber\" style = \"font-weight: bold; text-align: right;\">7</td><td style = \"text-align: left;\">a</td><td style = \"text-align: right;\">1</td></tr><tr><td class = \"rowNumber\" style = \"font-weight: bold; text-align: right;\">8</td><td style = \"text-align: left;\">a</td><td style = \"text-align: right;\">1</td></tr><tr><td class = \"rowNumber\" style = \"font-weight: bold; text-align: right;\">9</td><td style = \"text-align: left;\">a</td><td style = \"text-align: right;\">1</td></tr><tr><td class = \"rowNumber\" style = \"font-weight: bold; text-align: right;\">10</td><td style = \"text-align: left;\">a</td><td style = \"text-align: right;\">1</td></tr><tr><td class = \"rowNumber\" style = \"font-weight: bold; text-align: right;\">11</td><td style = \"text-align: left;\">a</td><td style = \"text-align: right;\">1</td></tr><tr><td class = \"rowNumber\" style = \"font-weight: bold; text-align: right;\">12</td><td style = \"text-align: left;\">a</td><td style = \"text-align: right;\">1</td></tr><tr><td class = \"rowNumber\" style = \"font-weight: bold; text-align: right;\">13</td><td style = \"text-align: left;\">a</td><td style = \"text-align: right;\">1</td></tr><tr><td style = \"text-align: right;\">&vellip;</td><td style = \"text-align: right;\">&vellip;</td><td style = \"text-align: right;\">&vellip;</td></tr><tr><td class = \"rowNumber\" style = \"font-weight: bold; text-align: right;\">2499145</td><td style = \"text-align: left;\">a</td><td style = \"text-align: right;\">1</td></tr><tr><td class = \"rowNumber\" style = \"font-weight: bold; text-align: right;\">2499146</td><td style = \"text-align: left;\">a</td><td style = \"text-align: right;\">1</td></tr><tr><td class = \"rowNumber\" style = \"font-weight: bold; text-align: right;\">2499147</td><td style = \"text-align: left;\">a</td><td style = \"text-align: right;\">1</td></tr><tr><td class = \"rowNumber\" style = \"font-weight: bold; text-align: right;\">2499148</td><td style = \"text-align: left;\">a</td><td style = \"text-align: right;\">1</td></tr><tr><td class = \"rowNumber\" style = \"font-weight: bold; text-align: right;\">2499149</td><td style = \"text-align: left;\">a</td><td style = \"text-align: right;\">1</td></tr><tr><td class = \"rowNumber\" style = \"font-weight: bold; text-align: right;\">2499150</td><td style = \"text-align: left;\">a</td><td style = \"text-align: right;\">1</td></tr><tr><td class = \"rowNumber\" style = \"font-weight: bold; text-align: right;\">2499151</td><td style = \"text-align: left;\">a</td><td style = \"text-align: right;\">1</td></tr><tr><td class = \"rowNumber\" style = \"font-weight: bold; text-align: right;\">2499152</td><td style = \"text-align: left;\">a</td><td style = \"text-align: right;\">1</td></tr><tr><td class = \"rowNumber\" style = \"font-weight: bold; text-align: right;\">2499153</td><td style = \"text-align: left;\">a</td><td style = \"text-align: right;\">1</td></tr><tr><td class = \"rowNumber\" style = \"font-weight: bold; text-align: right;\">2499154</td><td style = \"text-align: left;\">a</td><td style = \"text-align: right;\">1</td></tr><tr><td class = \"rowNumber\" style = \"font-weight: bold; text-align: right;\">2499155</td><td style = \"text-align: left;\">a</td><td style = \"text-align: right;\">1</td></tr><tr><td class = \"rowNumber\" style = \"font-weight: bold; text-align: right;\">2499156</td><td style = \"text-align: left;\">a</td><td style = \"text-align: right;\">1</td></tr></tbody></table></div><p>&vellip;</p><div><div style = \"float: left;\"><span>Last Group (2499172 rows): x = CategoricalValue{Char, UInt32} &apos;d&apos;</span></div><div style = \"float: right;\"><span style = \"font-style: italic;\">2499147 rows omitted</span></div><div style = \"clear: both;\"></div></div><div class = \"data-frame\" style = \"overflow-x: scroll;\"><table class = \"data-frame\" style = \"margin-bottom: 6px;\"><thead><tr class = \"header\"><th class = \"rowNumber\" style = \"font-weight: bold; text-align: right;\">Row</th><th style = \"text-align: left;\">x</th><th style = \"text-align: left;\">y</th></tr><tr class = \"subheader headerLastRow\"><th class = \"rowNumber\" style = \"font-weight: bold; text-align: right;\"></th><th title = \"CategoricalValue{Char, UInt32}\" style = \"text-align: left;\">Cat…</th><th title = \"Int64\" style = \"text-align: left;\">Int64</th></tr></thead><tbody><tr><td class = \"rowNumber\" style = \"font-weight: bold; text-align: right;\">1</td><td style = \"text-align: left;\">d</td><td style = \"text-align: right;\">1</td></tr><tr><td class = \"rowNumber\" style = \"font-weight: bold; text-align: right;\">2</td><td style = \"text-align: left;\">d</td><td style = \"text-align: right;\">1</td></tr><tr><td class = \"rowNumber\" style = \"font-weight: bold; text-align: right;\">3</td><td style = \"text-align: left;\">d</td><td style = \"text-align: right;\">1</td></tr><tr><td class = \"rowNumber\" style = \"font-weight: bold; text-align: right;\">4</td><td style = \"text-align: left;\">d</td><td style = \"text-align: right;\">1</td></tr><tr><td class = \"rowNumber\" style = \"font-weight: bold; text-align: right;\">5</td><td style = \"text-align: left;\">d</td><td style = \"text-align: right;\">1</td></tr><tr><td class = \"rowNumber\" style = \"font-weight: bold; text-align: right;\">6</td><td style = \"text-align: left;\">d</td><td style = \"text-align: right;\">1</td></tr><tr><td class = \"rowNumber\" style = \"font-weight: bold; text-align: right;\">7</td><td style = \"text-align: left;\">d</td><td style = \"text-align: right;\">1</td></tr><tr><td class = \"rowNumber\" style = \"font-weight: bold; text-align: right;\">8</td><td style = \"text-align: left;\">d</td><td style = \"text-align: right;\">1</td></tr><tr><td class = \"rowNumber\" style = \"font-weight: bold; text-align: right;\">9</td><td style = \"text-align: left;\">d</td><td style = \"text-align: right;\">1</td></tr><tr><td class = \"rowNumber\" style = \"font-weight: bold; text-align: right;\">10</td><td style = \"text-align: left;\">d</td><td style = \"text-align: right;\">1</td></tr><tr><td class = \"rowNumber\" style = \"font-weight: bold; text-align: right;\">11</td><td style = \"text-align: left;\">d</td><td style = \"text-align: right;\">1</td></tr><tr><td class = \"rowNumber\" style = \"font-weight: bold; text-align: right;\">12</td><td style = \"text-align: left;\">d</td><td style = \"text-align: right;\">1</td></tr><tr><td class = \"rowNumber\" style = \"font-weight: bold; text-align: right;\">13</td><td style = \"text-align: left;\">d</td><td style = \"text-align: right;\">1</td></tr><tr><td style = \"text-align: right;\">&vellip;</td><td style = \"text-align: right;\">&vellip;</td><td style = \"text-align: right;\">&vellip;</td></tr><tr><td class = \"rowNumber\" style = \"font-weight: bold; text-align: right;\">2499161</td><td style = \"text-align: left;\">d</td><td style = \"text-align: right;\">1</td></tr><tr><td class = \"rowNumber\" style = \"font-weight: bold; text-align: right;\">2499162</td><td style = \"text-align: left;\">d</td><td style = \"text-align: right;\">1</td></tr><tr><td class = \"rowNumber\" style = \"font-weight: bold; text-align: right;\">2499163</td><td style = \"text-align: left;\">d</td><td style = \"text-align: right;\">1</td></tr><tr><td class = \"rowNumber\" style = \"font-weight: bold; text-align: right;\">2499164</td><td style = \"text-align: left;\">d</td><td style = \"text-align: right;\">1</td></tr><tr><td class = \"rowNumber\" style = \"font-weight: bold; text-align: right;\">2499165</td><td style = \"text-align: left;\">d</td><td style = \"text-align: right;\">1</td></tr><tr><td class = \"rowNumber\" style = \"font-weight: bold; text-align: right;\">2499166</td><td style = \"text-align: left;\">d</td><td style = \"text-align: right;\">1</td></tr><tr><td class = \"rowNumber\" style = \"font-weight: bold; text-align: right;\">2499167</td><td style = \"text-align: left;\">d</td><td style = \"text-align: right;\">1</td></tr><tr><td class = \"rowNumber\" style = \"font-weight: bold; text-align: right;\">2499168</td><td style = \"text-align: left;\">d</td><td style = \"text-align: right;\">1</td></tr><tr><td class = \"rowNumber\" style = \"font-weight: bold; text-align: right;\">2499169</td><td style = \"text-align: left;\">d</td><td style = \"text-align: right;\">1</td></tr><tr><td class = \"rowNumber\" style = \"font-weight: bold; text-align: right;\">2499170</td><td style = \"text-align: left;\">d</td><td style = \"text-align: right;\">1</td></tr><tr><td class = \"rowNumber\" style = \"font-weight: bold; text-align: right;\">2499171</td><td style = \"text-align: left;\">d</td><td style = \"text-align: right;\">1</td></tr><tr><td class = \"rowNumber\" style = \"font-weight: bold; text-align: right;\">2499172</td><td style = \"text-align: left;\">d</td><td style = \"text-align: right;\">1</td></tr></tbody></table></div>"
      ],
      "text/latex": [
       "GroupedDataFrame with 4 groups based on key: x\n",
       "\n",
       "First Group (2499156 rows): x = CategoricalValue\\{Char, UInt32\\} 'a'\n",
       "\n",
       "\\begin{tabular}{r|cc}\n",
       "\t& x & y\\\\\n",
       "\t\\hline\n",
       "\t& Cat… & Int64\\\\\n",
       "\t\\hline\n",
       "\t1 & a & 1 \\\\\n",
       "\t2 & a & 1 \\\\\n",
       "\t3 & a & 1 \\\\\n",
       "\t4 & a & 1 \\\\\n",
       "\t5 & a & 1 \\\\\n",
       "\t6 & a & 1 \\\\\n",
       "\t7 & a & 1 \\\\\n",
       "\t8 & a & 1 \\\\\n",
       "\t9 & a & 1 \\\\\n",
       "\t10 & a & 1 \\\\\n",
       "\t11 & a & 1 \\\\\n",
       "\t12 & a & 1 \\\\\n",
       "\t13 & a & 1 \\\\\n",
       "\t14 & a & 1 \\\\\n",
       "\t15 & a & 1 \\\\\n",
       "\t16 & a & 1 \\\\\n",
       "\t17 & a & 1 \\\\\n",
       "\t18 & a & 1 \\\\\n",
       "\t19 & a & 1 \\\\\n",
       "\t20 & a & 1 \\\\\n",
       "\t21 & a & 1 \\\\\n",
       "\t22 & a & 1 \\\\\n",
       "\t23 & a & 1 \\\\\n",
       "\t24 & a & 1 \\\\\n",
       "\t25 & a & 1 \\\\\n",
       "\t26 & a & 1 \\\\\n",
       "\t27 & a & 1 \\\\\n",
       "\t28 & a & 1 \\\\\n",
       "\t29 & a & 1 \\\\\n",
       "\t30 & a & 1 \\\\\n",
       "\t$\\dots$ & $\\dots$ & $\\dots$ \\\\\n",
       "\\end{tabular}\n",
       "\n",
       "$\\dots$\n",
       "\n",
       "Last Group (2499172 rows): x = CategoricalValue\\{Char, UInt32\\} 'd'\n",
       "\n",
       "\\begin{tabular}{r|cc}\n",
       "\t& x & y\\\\\n",
       "\t\\hline\n",
       "\t& Cat… & Int64\\\\\n",
       "\t\\hline\n",
       "\t1 & d & 1 \\\\\n",
       "\t2 & d & 1 \\\\\n",
       "\t3 & d & 1 \\\\\n",
       "\t4 & d & 1 \\\\\n",
       "\t5 & d & 1 \\\\\n",
       "\t6 & d & 1 \\\\\n",
       "\t7 & d & 1 \\\\\n",
       "\t8 & d & 1 \\\\\n",
       "\t9 & d & 1 \\\\\n",
       "\t10 & d & 1 \\\\\n",
       "\t11 & d & 1 \\\\\n",
       "\t12 & d & 1 \\\\\n",
       "\t13 & d & 1 \\\\\n",
       "\t14 & d & 1 \\\\\n",
       "\t15 & d & 1 \\\\\n",
       "\t16 & d & 1 \\\\\n",
       "\t17 & d & 1 \\\\\n",
       "\t18 & d & 1 \\\\\n",
       "\t19 & d & 1 \\\\\n",
       "\t20 & d & 1 \\\\\n",
       "\t21 & d & 1 \\\\\n",
       "\t22 & d & 1 \\\\\n",
       "\t23 & d & 1 \\\\\n",
       "\t24 & d & 1 \\\\\n",
       "\t25 & d & 1 \\\\\n",
       "\t26 & d & 1 \\\\\n",
       "\t27 & d & 1 \\\\\n",
       "\t28 & d & 1 \\\\\n",
       "\t29 & d & 1 \\\\\n",
       "\t30 & d & 1 \\\\\n",
       "\t$\\dots$ & $\\dots$ & $\\dots$ \\\\\n",
       "\\end{tabular}\n"
      ],
      "text/plain": [
       "GroupedDataFrame with 4 groups based on key: x\n",
       "First Group (2499156 rows): x = CategoricalValue{Char, UInt32} 'a'\n",
       "\u001b[1m     Row \u001b[0m│\u001b[1m x    \u001b[0m\u001b[1m y     \u001b[0m\n",
       "         │\u001b[90m Cat… \u001b[0m\u001b[90m Int64 \u001b[0m\n",
       "─────────┼─────────────\n",
       "       1 │ a         1\n",
       "       2 │ a         1\n",
       "       3 │ a         1\n",
       "       4 │ a         1\n",
       "    ⋮    │  ⋮      ⋮\n",
       " 2499154 │ a         1\n",
       " 2499155 │ a         1\n",
       " 2499156 │ a         1\n",
       "\u001b[36m   2499149 rows omitted\u001b[0m\n",
       "⋮\n",
       "Last Group (2499172 rows): x = CategoricalValue{Char, UInt32} 'd'\n",
       "\u001b[1m     Row \u001b[0m│\u001b[1m x    \u001b[0m\u001b[1m y     \u001b[0m\n",
       "         │\u001b[90m Cat… \u001b[0m\u001b[90m Int64 \u001b[0m\n",
       "─────────┼─────────────\n",
       "       1 │ d         1\n",
       "       2 │ d         1\n",
       "       3 │ d         1\n",
       "    ⋮    │  ⋮      ⋮\n",
       " 2499170 │ d         1\n",
       " 2499171 │ d         1\n",
       " 2499172 │ d         1\n",
       "\u001b[36m   2499166 rows omitted\u001b[0m"
      ]
     },
     "execution_count": 17,
     "metadata": {},
     "output_type": "execute_result"
    }
   ],
   "source": [
    "gdf = groupby(df, :x)"
   ]
  },
  {
   "cell_type": "code",
   "execution_count": 18,
   "metadata": {
    "scrolled": true
   },
   "outputs": [
    {
     "name": "stdout",
     "output_type": "stream",
     "text": [
      "  9.114 ms (225 allocations: 13.91 KiB)\n"
     ]
    },
    {
     "data": {
      "text/html": [
       "<div><div style = \"float: left;\"><span>4×2 DataFrame</span></div><div style = \"clear: both;\"></div></div><div class = \"data-frame\" style = \"overflow-x: scroll;\"><table class = \"data-frame\" style = \"margin-bottom: 6px;\"><thead><tr class = \"header\"><th class = \"rowNumber\" style = \"font-weight: bold; text-align: right;\">Row</th><th style = \"text-align: left;\">x</th><th style = \"text-align: left;\">y_sum</th></tr><tr class = \"subheader headerLastRow\"><th class = \"rowNumber\" style = \"font-weight: bold; text-align: right;\"></th><th title = \"CategoricalValue{Char, UInt32}\" style = \"text-align: left;\">Cat…</th><th title = \"Int64\" style = \"text-align: left;\">Int64</th></tr></thead><tbody><tr><td class = \"rowNumber\" style = \"font-weight: bold; text-align: right;\">1</td><td style = \"text-align: left;\">a</td><td style = \"text-align: right;\">2499156</td></tr><tr><td class = \"rowNumber\" style = \"font-weight: bold; text-align: right;\">2</td><td style = \"text-align: left;\">b</td><td style = \"text-align: right;\">2501067</td></tr><tr><td class = \"rowNumber\" style = \"font-weight: bold; text-align: right;\">3</td><td style = \"text-align: left;\">c</td><td style = \"text-align: right;\">2500605</td></tr><tr><td class = \"rowNumber\" style = \"font-weight: bold; text-align: right;\">4</td><td style = \"text-align: left;\">d</td><td style = \"text-align: right;\">2499172</td></tr></tbody></table></div>"
      ],
      "text/latex": [
       "\\begin{tabular}{r|cc}\n",
       "\t& x & y\\_sum\\\\\n",
       "\t\\hline\n",
       "\t& Cat… & Int64\\\\\n",
       "\t\\hline\n",
       "\t1 & a & 2499156 \\\\\n",
       "\t2 & b & 2501067 \\\\\n",
       "\t3 & c & 2500605 \\\\\n",
       "\t4 & d & 2499172 \\\\\n",
       "\\end{tabular}\n"
      ],
      "text/plain": [
       "\u001b[1m4×2 DataFrame\u001b[0m\n",
       "\u001b[1m Row \u001b[0m│\u001b[1m x    \u001b[0m\u001b[1m y_sum   \u001b[0m\n",
       "     │\u001b[90m Cat… \u001b[0m\u001b[90m Int64   \u001b[0m\n",
       "─────┼───────────────\n",
       "   1 │ a     2499156\n",
       "   2 │ b     2501067\n",
       "   3 │ c     2500605\n",
       "   4 │ d     2499172"
      ]
     },
     "execution_count": 18,
     "metadata": {},
     "output_type": "execute_result"
    }
   ],
   "source": [
    "@btime combine($gdf, :y=>sum)"
   ]
  },
  {
   "cell_type": "code",
   "execution_count": 19,
   "metadata": {},
   "outputs": [
    {
     "data": {
      "text/html": [
       "<div><div style = \"float: left;\"><span>10000000×2 DataFrame</span></div><div style = \"float: right;\"><span style = \"font-style: italic;\">9999975 rows omitted</span></div><div style = \"clear: both;\"></div></div><div class = \"data-frame\" style = \"overflow-x: scroll;\"><table class = \"data-frame\" style = \"margin-bottom: 6px;\"><thead><tr class = \"header\"><th class = \"rowNumber\" style = \"font-weight: bold; text-align: right;\">Row</th><th style = \"text-align: left;\">x</th><th style = \"text-align: left;\">y</th></tr><tr class = \"subheader headerLastRow\"><th class = \"rowNumber\" style = \"font-weight: bold; text-align: right;\"></th><th title = \"Char\" style = \"text-align: left;\">Char</th><th title = \"Int64\" style = \"text-align: left;\">Int64</th></tr></thead><tbody><tr><td class = \"rowNumber\" style = \"font-weight: bold; text-align: right;\">1</td><td style = \"text-align: left;\">a</td><td style = \"text-align: right;\">1</td></tr><tr><td class = \"rowNumber\" style = \"font-weight: bold; text-align: right;\">2</td><td style = \"text-align: left;\">c</td><td style = \"text-align: right;\">1</td></tr><tr><td class = \"rowNumber\" style = \"font-weight: bold; text-align: right;\">3</td><td style = \"text-align: left;\">b</td><td style = \"text-align: right;\">1</td></tr><tr><td class = \"rowNumber\" style = \"font-weight: bold; text-align: right;\">4</td><td style = \"text-align: left;\">d</td><td style = \"text-align: right;\">1</td></tr><tr><td class = \"rowNumber\" style = \"font-weight: bold; text-align: right;\">5</td><td style = \"text-align: left;\">a</td><td style = \"text-align: right;\">1</td></tr><tr><td class = \"rowNumber\" style = \"font-weight: bold; text-align: right;\">6</td><td style = \"text-align: left;\">c</td><td style = \"text-align: right;\">1</td></tr><tr><td class = \"rowNumber\" style = \"font-weight: bold; text-align: right;\">7</td><td style = \"text-align: left;\">c</td><td style = \"text-align: right;\">1</td></tr><tr><td class = \"rowNumber\" style = \"font-weight: bold; text-align: right;\">8</td><td style = \"text-align: left;\">a</td><td style = \"text-align: right;\">1</td></tr><tr><td class = \"rowNumber\" style = \"font-weight: bold; text-align: right;\">9</td><td style = \"text-align: left;\">b</td><td style = \"text-align: right;\">1</td></tr><tr><td class = \"rowNumber\" style = \"font-weight: bold; text-align: right;\">10</td><td style = \"text-align: left;\">d</td><td style = \"text-align: right;\">1</td></tr><tr><td class = \"rowNumber\" style = \"font-weight: bold; text-align: right;\">11</td><td style = \"text-align: left;\">a</td><td style = \"text-align: right;\">1</td></tr><tr><td class = \"rowNumber\" style = \"font-weight: bold; text-align: right;\">12</td><td style = \"text-align: left;\">a</td><td style = \"text-align: right;\">1</td></tr><tr><td class = \"rowNumber\" style = \"font-weight: bold; text-align: right;\">13</td><td style = \"text-align: left;\">a</td><td style = \"text-align: right;\">1</td></tr><tr><td style = \"text-align: right;\">&vellip;</td><td style = \"text-align: right;\">&vellip;</td><td style = \"text-align: right;\">&vellip;</td></tr><tr><td class = \"rowNumber\" style = \"font-weight: bold; text-align: right;\">9999989</td><td style = \"text-align: left;\">b</td><td style = \"text-align: right;\">1</td></tr><tr><td class = \"rowNumber\" style = \"font-weight: bold; text-align: right;\">9999990</td><td style = \"text-align: left;\">d</td><td style = \"text-align: right;\">1</td></tr><tr><td class = \"rowNumber\" style = \"font-weight: bold; text-align: right;\">9999991</td><td style = \"text-align: left;\">b</td><td style = \"text-align: right;\">1</td></tr><tr><td class = \"rowNumber\" style = \"font-weight: bold; text-align: right;\">9999992</td><td style = \"text-align: left;\">a</td><td style = \"text-align: right;\">1</td></tr><tr><td class = \"rowNumber\" style = \"font-weight: bold; text-align: right;\">9999993</td><td style = \"text-align: left;\">a</td><td style = \"text-align: right;\">1</td></tr><tr><td class = \"rowNumber\" style = \"font-weight: bold; text-align: right;\">9999994</td><td style = \"text-align: left;\">b</td><td style = \"text-align: right;\">1</td></tr><tr><td class = \"rowNumber\" style = \"font-weight: bold; text-align: right;\">9999995</td><td style = \"text-align: left;\">b</td><td style = \"text-align: right;\">1</td></tr><tr><td class = \"rowNumber\" style = \"font-weight: bold; text-align: right;\">9999996</td><td style = \"text-align: left;\">c</td><td style = \"text-align: right;\">1</td></tr><tr><td class = \"rowNumber\" style = \"font-weight: bold; text-align: right;\">9999997</td><td style = \"text-align: left;\">b</td><td style = \"text-align: right;\">1</td></tr><tr><td class = \"rowNumber\" style = \"font-weight: bold; text-align: right;\">9999998</td><td style = \"text-align: left;\">b</td><td style = \"text-align: right;\">1</td></tr><tr><td class = \"rowNumber\" style = \"font-weight: bold; text-align: right;\">9999999</td><td style = \"text-align: left;\">d</td><td style = \"text-align: right;\">1</td></tr><tr><td class = \"rowNumber\" style = \"font-weight: bold; text-align: right;\">10000000</td><td style = \"text-align: left;\">c</td><td style = \"text-align: right;\">1</td></tr></tbody></table></div>"
      ],
      "text/latex": [
       "\\begin{tabular}{r|cc}\n",
       "\t& x & y\\\\\n",
       "\t\\hline\n",
       "\t& Char & Int64\\\\\n",
       "\t\\hline\n",
       "\t1 & a & 1 \\\\\n",
       "\t2 & c & 1 \\\\\n",
       "\t3 & b & 1 \\\\\n",
       "\t4 & d & 1 \\\\\n",
       "\t5 & a & 1 \\\\\n",
       "\t6 & c & 1 \\\\\n",
       "\t7 & c & 1 \\\\\n",
       "\t8 & a & 1 \\\\\n",
       "\t9 & b & 1 \\\\\n",
       "\t10 & d & 1 \\\\\n",
       "\t11 & a & 1 \\\\\n",
       "\t12 & a & 1 \\\\\n",
       "\t13 & a & 1 \\\\\n",
       "\t14 & c & 1 \\\\\n",
       "\t15 & b & 1 \\\\\n",
       "\t16 & b & 1 \\\\\n",
       "\t17 & d & 1 \\\\\n",
       "\t18 & d & 1 \\\\\n",
       "\t19 & b & 1 \\\\\n",
       "\t20 & d & 1 \\\\\n",
       "\t21 & d & 1 \\\\\n",
       "\t22 & b & 1 \\\\\n",
       "\t23 & b & 1 \\\\\n",
       "\t24 & b & 1 \\\\\n",
       "\t25 & a & 1 \\\\\n",
       "\t26 & a & 1 \\\\\n",
       "\t27 & a & 1 \\\\\n",
       "\t28 & d & 1 \\\\\n",
       "\t29 & d & 1 \\\\\n",
       "\t30 & b & 1 \\\\\n",
       "\t$\\dots$ & $\\dots$ & $\\dots$ \\\\\n",
       "\\end{tabular}\n"
      ],
      "text/plain": [
       "\u001b[1m10000000×2 DataFrame\u001b[0m\n",
       "\u001b[1m      Row \u001b[0m│\u001b[1m x    \u001b[0m\u001b[1m y     \u001b[0m\n",
       "          │\u001b[90m Char \u001b[0m\u001b[90m Int64 \u001b[0m\n",
       "──────────┼─────────────\n",
       "        1 │ a         1\n",
       "        2 │ c         1\n",
       "        3 │ b         1\n",
       "        4 │ d         1\n",
       "        5 │ a         1\n",
       "        6 │ c         1\n",
       "        7 │ c         1\n",
       "        8 │ a         1\n",
       "        9 │ b         1\n",
       "       10 │ d         1\n",
       "       11 │ a         1\n",
       "    ⋮     │  ⋮      ⋮\n",
       "  9999991 │ b         1\n",
       "  9999992 │ a         1\n",
       "  9999993 │ a         1\n",
       "  9999994 │ b         1\n",
       "  9999995 │ b         1\n",
       "  9999996 │ c         1\n",
       "  9999997 │ b         1\n",
       "  9999998 │ b         1\n",
       "  9999999 │ d         1\n",
       " 10000000 │ c         1\n",
       "\u001b[36m    9999979 rows omitted\u001b[0m"
      ]
     },
     "execution_count": 19,
     "metadata": {},
     "output_type": "execute_result"
    }
   ],
   "source": [
    "transform!(df, :x => PooledArray{Char} => :x)"
   ]
  },
  {
   "cell_type": "code",
   "execution_count": 20,
   "metadata": {},
   "outputs": [
    {
     "data": {
      "text/html": [
       "<p><b>GroupedDataFrame with 4 groups based on key: x</b></p><div><div style = \"float: left;\"><span>First Group (2499156 rows): x = &apos;a&apos;: ASCII/Unicode U+0061 (category Ll: Letter, lowercase)</span></div><div style = \"float: right;\"><span style = \"font-style: italic;\">2499131 rows omitted</span></div><div style = \"clear: both;\"></div></div><div class = \"data-frame\" style = \"overflow-x: scroll;\"><table class = \"data-frame\" style = \"margin-bottom: 6px;\"><thead><tr class = \"header\"><th class = \"rowNumber\" style = \"font-weight: bold; text-align: right;\">Row</th><th style = \"text-align: left;\">x</th><th style = \"text-align: left;\">y</th></tr><tr class = \"subheader headerLastRow\"><th class = \"rowNumber\" style = \"font-weight: bold; text-align: right;\"></th><th title = \"Char\" style = \"text-align: left;\">Char</th><th title = \"Int64\" style = \"text-align: left;\">Int64</th></tr></thead><tbody><tr><td class = \"rowNumber\" style = \"font-weight: bold; text-align: right;\">1</td><td style = \"text-align: left;\">a</td><td style = \"text-align: right;\">1</td></tr><tr><td class = \"rowNumber\" style = \"font-weight: bold; text-align: right;\">2</td><td style = \"text-align: left;\">a</td><td style = \"text-align: right;\">1</td></tr><tr><td class = \"rowNumber\" style = \"font-weight: bold; text-align: right;\">3</td><td style = \"text-align: left;\">a</td><td style = \"text-align: right;\">1</td></tr><tr><td class = \"rowNumber\" style = \"font-weight: bold; text-align: right;\">4</td><td style = \"text-align: left;\">a</td><td style = \"text-align: right;\">1</td></tr><tr><td class = \"rowNumber\" style = \"font-weight: bold; text-align: right;\">5</td><td style = \"text-align: left;\">a</td><td style = \"text-align: right;\">1</td></tr><tr><td class = \"rowNumber\" style = \"font-weight: bold; text-align: right;\">6</td><td style = \"text-align: left;\">a</td><td style = \"text-align: right;\">1</td></tr><tr><td class = \"rowNumber\" style = \"font-weight: bold; text-align: right;\">7</td><td style = \"text-align: left;\">a</td><td style = \"text-align: right;\">1</td></tr><tr><td class = \"rowNumber\" style = \"font-weight: bold; text-align: right;\">8</td><td style = \"text-align: left;\">a</td><td style = \"text-align: right;\">1</td></tr><tr><td class = \"rowNumber\" style = \"font-weight: bold; text-align: right;\">9</td><td style = \"text-align: left;\">a</td><td style = \"text-align: right;\">1</td></tr><tr><td class = \"rowNumber\" style = \"font-weight: bold; text-align: right;\">10</td><td style = \"text-align: left;\">a</td><td style = \"text-align: right;\">1</td></tr><tr><td class = \"rowNumber\" style = \"font-weight: bold; text-align: right;\">11</td><td style = \"text-align: left;\">a</td><td style = \"text-align: right;\">1</td></tr><tr><td class = \"rowNumber\" style = \"font-weight: bold; text-align: right;\">12</td><td style = \"text-align: left;\">a</td><td style = \"text-align: right;\">1</td></tr><tr><td class = \"rowNumber\" style = \"font-weight: bold; text-align: right;\">13</td><td style = \"text-align: left;\">a</td><td style = \"text-align: right;\">1</td></tr><tr><td style = \"text-align: right;\">&vellip;</td><td style = \"text-align: right;\">&vellip;</td><td style = \"text-align: right;\">&vellip;</td></tr><tr><td class = \"rowNumber\" style = \"font-weight: bold; text-align: right;\">2499145</td><td style = \"text-align: left;\">a</td><td style = \"text-align: right;\">1</td></tr><tr><td class = \"rowNumber\" style = \"font-weight: bold; text-align: right;\">2499146</td><td style = \"text-align: left;\">a</td><td style = \"text-align: right;\">1</td></tr><tr><td class = \"rowNumber\" style = \"font-weight: bold; text-align: right;\">2499147</td><td style = \"text-align: left;\">a</td><td style = \"text-align: right;\">1</td></tr><tr><td class = \"rowNumber\" style = \"font-weight: bold; text-align: right;\">2499148</td><td style = \"text-align: left;\">a</td><td style = \"text-align: right;\">1</td></tr><tr><td class = \"rowNumber\" style = \"font-weight: bold; text-align: right;\">2499149</td><td style = \"text-align: left;\">a</td><td style = \"text-align: right;\">1</td></tr><tr><td class = \"rowNumber\" style = \"font-weight: bold; text-align: right;\">2499150</td><td style = \"text-align: left;\">a</td><td style = \"text-align: right;\">1</td></tr><tr><td class = \"rowNumber\" style = \"font-weight: bold; text-align: right;\">2499151</td><td style = \"text-align: left;\">a</td><td style = \"text-align: right;\">1</td></tr><tr><td class = \"rowNumber\" style = \"font-weight: bold; text-align: right;\">2499152</td><td style = \"text-align: left;\">a</td><td style = \"text-align: right;\">1</td></tr><tr><td class = \"rowNumber\" style = \"font-weight: bold; text-align: right;\">2499153</td><td style = \"text-align: left;\">a</td><td style = \"text-align: right;\">1</td></tr><tr><td class = \"rowNumber\" style = \"font-weight: bold; text-align: right;\">2499154</td><td style = \"text-align: left;\">a</td><td style = \"text-align: right;\">1</td></tr><tr><td class = \"rowNumber\" style = \"font-weight: bold; text-align: right;\">2499155</td><td style = \"text-align: left;\">a</td><td style = \"text-align: right;\">1</td></tr><tr><td class = \"rowNumber\" style = \"font-weight: bold; text-align: right;\">2499156</td><td style = \"text-align: left;\">a</td><td style = \"text-align: right;\">1</td></tr></tbody></table></div><p>&vellip;</p><div><div style = \"float: left;\"><span>Last Group (2499172 rows): x = &apos;d&apos;: ASCII/Unicode U+0064 (category Ll: Letter, lowercase)</span></div><div style = \"float: right;\"><span style = \"font-style: italic;\">2499147 rows omitted</span></div><div style = \"clear: both;\"></div></div><div class = \"data-frame\" style = \"overflow-x: scroll;\"><table class = \"data-frame\" style = \"margin-bottom: 6px;\"><thead><tr class = \"header\"><th class = \"rowNumber\" style = \"font-weight: bold; text-align: right;\">Row</th><th style = \"text-align: left;\">x</th><th style = \"text-align: left;\">y</th></tr><tr class = \"subheader headerLastRow\"><th class = \"rowNumber\" style = \"font-weight: bold; text-align: right;\"></th><th title = \"Char\" style = \"text-align: left;\">Char</th><th title = \"Int64\" style = \"text-align: left;\">Int64</th></tr></thead><tbody><tr><td class = \"rowNumber\" style = \"font-weight: bold; text-align: right;\">1</td><td style = \"text-align: left;\">d</td><td style = \"text-align: right;\">1</td></tr><tr><td class = \"rowNumber\" style = \"font-weight: bold; text-align: right;\">2</td><td style = \"text-align: left;\">d</td><td style = \"text-align: right;\">1</td></tr><tr><td class = \"rowNumber\" style = \"font-weight: bold; text-align: right;\">3</td><td style = \"text-align: left;\">d</td><td style = \"text-align: right;\">1</td></tr><tr><td class = \"rowNumber\" style = \"font-weight: bold; text-align: right;\">4</td><td style = \"text-align: left;\">d</td><td style = \"text-align: right;\">1</td></tr><tr><td class = \"rowNumber\" style = \"font-weight: bold; text-align: right;\">5</td><td style = \"text-align: left;\">d</td><td style = \"text-align: right;\">1</td></tr><tr><td class = \"rowNumber\" style = \"font-weight: bold; text-align: right;\">6</td><td style = \"text-align: left;\">d</td><td style = \"text-align: right;\">1</td></tr><tr><td class = \"rowNumber\" style = \"font-weight: bold; text-align: right;\">7</td><td style = \"text-align: left;\">d</td><td style = \"text-align: right;\">1</td></tr><tr><td class = \"rowNumber\" style = \"font-weight: bold; text-align: right;\">8</td><td style = \"text-align: left;\">d</td><td style = \"text-align: right;\">1</td></tr><tr><td class = \"rowNumber\" style = \"font-weight: bold; text-align: right;\">9</td><td style = \"text-align: left;\">d</td><td style = \"text-align: right;\">1</td></tr><tr><td class = \"rowNumber\" style = \"font-weight: bold; text-align: right;\">10</td><td style = \"text-align: left;\">d</td><td style = \"text-align: right;\">1</td></tr><tr><td class = \"rowNumber\" style = \"font-weight: bold; text-align: right;\">11</td><td style = \"text-align: left;\">d</td><td style = \"text-align: right;\">1</td></tr><tr><td class = \"rowNumber\" style = \"font-weight: bold; text-align: right;\">12</td><td style = \"text-align: left;\">d</td><td style = \"text-align: right;\">1</td></tr><tr><td class = \"rowNumber\" style = \"font-weight: bold; text-align: right;\">13</td><td style = \"text-align: left;\">d</td><td style = \"text-align: right;\">1</td></tr><tr><td style = \"text-align: right;\">&vellip;</td><td style = \"text-align: right;\">&vellip;</td><td style = \"text-align: right;\">&vellip;</td></tr><tr><td class = \"rowNumber\" style = \"font-weight: bold; text-align: right;\">2499161</td><td style = \"text-align: left;\">d</td><td style = \"text-align: right;\">1</td></tr><tr><td class = \"rowNumber\" style = \"font-weight: bold; text-align: right;\">2499162</td><td style = \"text-align: left;\">d</td><td style = \"text-align: right;\">1</td></tr><tr><td class = \"rowNumber\" style = \"font-weight: bold; text-align: right;\">2499163</td><td style = \"text-align: left;\">d</td><td style = \"text-align: right;\">1</td></tr><tr><td class = \"rowNumber\" style = \"font-weight: bold; text-align: right;\">2499164</td><td style = \"text-align: left;\">d</td><td style = \"text-align: right;\">1</td></tr><tr><td class = \"rowNumber\" style = \"font-weight: bold; text-align: right;\">2499165</td><td style = \"text-align: left;\">d</td><td style = \"text-align: right;\">1</td></tr><tr><td class = \"rowNumber\" style = \"font-weight: bold; text-align: right;\">2499166</td><td style = \"text-align: left;\">d</td><td style = \"text-align: right;\">1</td></tr><tr><td class = \"rowNumber\" style = \"font-weight: bold; text-align: right;\">2499167</td><td style = \"text-align: left;\">d</td><td style = \"text-align: right;\">1</td></tr><tr><td class = \"rowNumber\" style = \"font-weight: bold; text-align: right;\">2499168</td><td style = \"text-align: left;\">d</td><td style = \"text-align: right;\">1</td></tr><tr><td class = \"rowNumber\" style = \"font-weight: bold; text-align: right;\">2499169</td><td style = \"text-align: left;\">d</td><td style = \"text-align: right;\">1</td></tr><tr><td class = \"rowNumber\" style = \"font-weight: bold; text-align: right;\">2499170</td><td style = \"text-align: left;\">d</td><td style = \"text-align: right;\">1</td></tr><tr><td class = \"rowNumber\" style = \"font-weight: bold; text-align: right;\">2499171</td><td style = \"text-align: left;\">d</td><td style = \"text-align: right;\">1</td></tr><tr><td class = \"rowNumber\" style = \"font-weight: bold; text-align: right;\">2499172</td><td style = \"text-align: left;\">d</td><td style = \"text-align: right;\">1</td></tr></tbody></table></div>"
      ],
      "text/latex": [
       "GroupedDataFrame with 4 groups based on key: x\n",
       "\n",
       "First Group (2499156 rows): x = 'a': ASCII/Unicode U+0061 (category Ll: Letter, lowercase)\n",
       "\n",
       "\\begin{tabular}{r|cc}\n",
       "\t& x & y\\\\\n",
       "\t\\hline\n",
       "\t& Char & Int64\\\\\n",
       "\t\\hline\n",
       "\t1 & a & 1 \\\\\n",
       "\t2 & a & 1 \\\\\n",
       "\t3 & a & 1 \\\\\n",
       "\t4 & a & 1 \\\\\n",
       "\t5 & a & 1 \\\\\n",
       "\t6 & a & 1 \\\\\n",
       "\t7 & a & 1 \\\\\n",
       "\t8 & a & 1 \\\\\n",
       "\t9 & a & 1 \\\\\n",
       "\t10 & a & 1 \\\\\n",
       "\t11 & a & 1 \\\\\n",
       "\t12 & a & 1 \\\\\n",
       "\t13 & a & 1 \\\\\n",
       "\t14 & a & 1 \\\\\n",
       "\t15 & a & 1 \\\\\n",
       "\t16 & a & 1 \\\\\n",
       "\t17 & a & 1 \\\\\n",
       "\t18 & a & 1 \\\\\n",
       "\t19 & a & 1 \\\\\n",
       "\t20 & a & 1 \\\\\n",
       "\t21 & a & 1 \\\\\n",
       "\t22 & a & 1 \\\\\n",
       "\t23 & a & 1 \\\\\n",
       "\t24 & a & 1 \\\\\n",
       "\t25 & a & 1 \\\\\n",
       "\t26 & a & 1 \\\\\n",
       "\t27 & a & 1 \\\\\n",
       "\t28 & a & 1 \\\\\n",
       "\t29 & a & 1 \\\\\n",
       "\t30 & a & 1 \\\\\n",
       "\t$\\dots$ & $\\dots$ & $\\dots$ \\\\\n",
       "\\end{tabular}\n",
       "\n",
       "$\\dots$\n",
       "\n",
       "Last Group (2499172 rows): x = 'd': ASCII/Unicode U+0064 (category Ll: Letter, lowercase)\n",
       "\n",
       "\\begin{tabular}{r|cc}\n",
       "\t& x & y\\\\\n",
       "\t\\hline\n",
       "\t& Char & Int64\\\\\n",
       "\t\\hline\n",
       "\t1 & d & 1 \\\\\n",
       "\t2 & d & 1 \\\\\n",
       "\t3 & d & 1 \\\\\n",
       "\t4 & d & 1 \\\\\n",
       "\t5 & d & 1 \\\\\n",
       "\t6 & d & 1 \\\\\n",
       "\t7 & d & 1 \\\\\n",
       "\t8 & d & 1 \\\\\n",
       "\t9 & d & 1 \\\\\n",
       "\t10 & d & 1 \\\\\n",
       "\t11 & d & 1 \\\\\n",
       "\t12 & d & 1 \\\\\n",
       "\t13 & d & 1 \\\\\n",
       "\t14 & d & 1 \\\\\n",
       "\t15 & d & 1 \\\\\n",
       "\t16 & d & 1 \\\\\n",
       "\t17 & d & 1 \\\\\n",
       "\t18 & d & 1 \\\\\n",
       "\t19 & d & 1 \\\\\n",
       "\t20 & d & 1 \\\\\n",
       "\t21 & d & 1 \\\\\n",
       "\t22 & d & 1 \\\\\n",
       "\t23 & d & 1 \\\\\n",
       "\t24 & d & 1 \\\\\n",
       "\t25 & d & 1 \\\\\n",
       "\t26 & d & 1 \\\\\n",
       "\t27 & d & 1 \\\\\n",
       "\t28 & d & 1 \\\\\n",
       "\t29 & d & 1 \\\\\n",
       "\t30 & d & 1 \\\\\n",
       "\t$\\dots$ & $\\dots$ & $\\dots$ \\\\\n",
       "\\end{tabular}\n"
      ],
      "text/plain": [
       "GroupedDataFrame with 4 groups based on key: x\n",
       "First Group (2499156 rows): x = 'a': ASCII/Unicode U+0061 (category Ll: Letter, lowercase)\n",
       "\u001b[1m     Row \u001b[0m│\u001b[1m x    \u001b[0m\u001b[1m y     \u001b[0m\n",
       "         │\u001b[90m Char \u001b[0m\u001b[90m Int64 \u001b[0m\n",
       "─────────┼─────────────\n",
       "       1 │ a         1\n",
       "       2 │ a         1\n",
       "       3 │ a         1\n",
       "       4 │ a         1\n",
       "    ⋮    │  ⋮      ⋮\n",
       " 2499154 │ a         1\n",
       " 2499155 │ a         1\n",
       " 2499156 │ a         1\n",
       "\u001b[36m   2499149 rows omitted\u001b[0m\n",
       "⋮\n",
       "Last Group (2499172 rows): x = 'd': ASCII/Unicode U+0064 (category Ll: Letter, lowercase)\n",
       "\u001b[1m     Row \u001b[0m│\u001b[1m x    \u001b[0m\u001b[1m y     \u001b[0m\n",
       "         │\u001b[90m Char \u001b[0m\u001b[90m Int64 \u001b[0m\n",
       "─────────┼─────────────\n",
       "       1 │ d         1\n",
       "       2 │ d         1\n",
       "       3 │ d         1\n",
       "    ⋮    │  ⋮      ⋮\n",
       " 2499170 │ d         1\n",
       " 2499171 │ d         1\n",
       " 2499172 │ d         1\n",
       "\u001b[36m   2499166 rows omitted\u001b[0m"
      ]
     },
     "execution_count": 20,
     "metadata": {},
     "output_type": "execute_result"
    }
   ],
   "source": [
    "gdf = groupby(df, :x)"
   ]
  },
  {
   "cell_type": "code",
   "execution_count": 21,
   "metadata": {
    "scrolled": true
   },
   "outputs": [
    {
     "name": "stdout",
     "output_type": "stream",
     "text": [
      "  9.486 ms (220 allocations: 13.39 KiB)\n"
     ]
    },
    {
     "data": {
      "text/html": [
       "<div><div style = \"float: left;\"><span>4×2 DataFrame</span></div><div style = \"clear: both;\"></div></div><div class = \"data-frame\" style = \"overflow-x: scroll;\"><table class = \"data-frame\" style = \"margin-bottom: 6px;\"><thead><tr class = \"header\"><th class = \"rowNumber\" style = \"font-weight: bold; text-align: right;\">Row</th><th style = \"text-align: left;\">x</th><th style = \"text-align: left;\">y_sum</th></tr><tr class = \"subheader headerLastRow\"><th class = \"rowNumber\" style = \"font-weight: bold; text-align: right;\"></th><th title = \"Char\" style = \"text-align: left;\">Char</th><th title = \"Int64\" style = \"text-align: left;\">Int64</th></tr></thead><tbody><tr><td class = \"rowNumber\" style = \"font-weight: bold; text-align: right;\">1</td><td style = \"text-align: left;\">a</td><td style = \"text-align: right;\">2499156</td></tr><tr><td class = \"rowNumber\" style = \"font-weight: bold; text-align: right;\">2</td><td style = \"text-align: left;\">c</td><td style = \"text-align: right;\">2500605</td></tr><tr><td class = \"rowNumber\" style = \"font-weight: bold; text-align: right;\">3</td><td style = \"text-align: left;\">b</td><td style = \"text-align: right;\">2501067</td></tr><tr><td class = \"rowNumber\" style = \"font-weight: bold; text-align: right;\">4</td><td style = \"text-align: left;\">d</td><td style = \"text-align: right;\">2499172</td></tr></tbody></table></div>"
      ],
      "text/latex": [
       "\\begin{tabular}{r|cc}\n",
       "\t& x & y\\_sum\\\\\n",
       "\t\\hline\n",
       "\t& Char & Int64\\\\\n",
       "\t\\hline\n",
       "\t1 & a & 2499156 \\\\\n",
       "\t2 & c & 2500605 \\\\\n",
       "\t3 & b & 2501067 \\\\\n",
       "\t4 & d & 2499172 \\\\\n",
       "\\end{tabular}\n"
      ],
      "text/plain": [
       "\u001b[1m4×2 DataFrame\u001b[0m\n",
       "\u001b[1m Row \u001b[0m│\u001b[1m x    \u001b[0m\u001b[1m y_sum   \u001b[0m\n",
       "     │\u001b[90m Char \u001b[0m\u001b[90m Int64   \u001b[0m\n",
       "─────┼───────────────\n",
       "   1 │ a     2499156\n",
       "   2 │ c     2500605\n",
       "   3 │ b     2501067\n",
       "   4 │ d     2499172"
      ]
     },
     "execution_count": 21,
     "metadata": {},
     "output_type": "execute_result"
    }
   ],
   "source": [
    "@btime combine($gdf, :y=>sum)"
   ]
  },
  {
   "cell_type": "markdown",
   "metadata": {},
   "source": [
    "### Use views instead of materializing a new DataFrame"
   ]
  },
  {
   "cell_type": "code",
   "execution_count": 22,
   "metadata": {
    "scrolled": true
   },
   "outputs": [
    {
     "data": {
      "text/html": [
       "<div><div style = \"float: left;\"><span>100×1000 DataFrame</span></div><div style = \"float: right;\"><span style = \"font-style: italic;\">900 columns and 75 rows omitted</span></div><div style = \"clear: both;\"></div></div><div class = \"data-frame\" style = \"overflow-x: scroll;\"><table class = \"data-frame\" style = \"margin-bottom: 6px;\"><thead><tr class = \"header\"><th class = \"rowNumber\" style = \"font-weight: bold; text-align: right;\">Row</th><th style = \"text-align: left;\">x1</th><th style = \"text-align: left;\">x2</th><th style = \"text-align: left;\">x3</th><th style = \"text-align: left;\">x4</th><th style = \"text-align: left;\">x5</th><th style = \"text-align: left;\">x6</th><th style = \"text-align: left;\">x7</th><th style = \"text-align: left;\">x8</th><th style = \"text-align: left;\">x9</th><th style = \"text-align: left;\">x10</th><th style = \"text-align: left;\">x11</th><th style = \"text-align: left;\">x12</th><th style = \"text-align: left;\">x13</th><th style = \"text-align: left;\">x14</th><th style = \"text-align: left;\">x15</th><th style = \"text-align: left;\">x16</th><th style = \"text-align: left;\">x17</th><th style = \"text-align: left;\">x18</th><th style = \"text-align: left;\">x19</th><th style = \"text-align: left;\">x20</th><th style = \"text-align: left;\">x21</th><th style = \"text-align: left;\">x22</th><th style = \"text-align: left;\">x23</th><th style = \"text-align: left;\">x24</th><th style = \"text-align: left;\">x25</th><th style = \"text-align: left;\">x26</th><th style = \"text-align: left;\">x27</th><th style = \"text-align: left;\">x28</th><th style = \"text-align: left;\">x29</th><th style = \"text-align: left;\">x30</th><th style = \"text-align: left;\">x31</th><th style = \"text-align: left;\">x32</th><th style = \"text-align: left;\">x33</th><th style = \"text-align: left;\">x34</th><th style = \"text-align: left;\">x35</th><th style = \"text-align: left;\">x36</th><th style = \"text-align: left;\">x37</th><th style = \"text-align: left;\">x38</th><th style = \"text-align: left;\">x39</th><th style = \"text-align: left;\">x40</th><th style = \"text-align: left;\">x41</th><th style = \"text-align: left;\">x42</th><th style = \"text-align: left;\">x43</th><th style = \"text-align: left;\">x44</th><th style = \"text-align: left;\">x45</th><th style = \"text-align: left;\">x46</th><th style = \"text-align: left;\">x47</th><th style = \"text-align: left;\">x48</th><th style = \"text-align: left;\">x49</th><th style = \"text-align: left;\">x50</th><th style = \"text-align: left;\">x51</th><th style = \"text-align: left;\">x52</th><th style = \"text-align: left;\">x53</th><th style = \"text-align: left;\">x54</th><th style = \"text-align: left;\">x55</th><th style = \"text-align: left;\">x56</th><th style = \"text-align: left;\">x57</th><th style = \"text-align: left;\">x58</th><th style = \"text-align: left;\">x59</th><th style = \"text-align: left;\">x60</th><th style = \"text-align: left;\">x61</th><th style = \"text-align: left;\">x62</th><th style = \"text-align: left;\">x63</th><th style = \"text-align: left;\">x64</th><th style = \"text-align: left;\">x65</th><th style = \"text-align: left;\">x66</th><th style = \"text-align: left;\">x67</th><th style = \"text-align: left;\">x68</th><th style = \"text-align: left;\">x69</th><th style = \"text-align: left;\">x70</th><th style = \"text-align: left;\">x71</th><th style = \"text-align: left;\">x72</th><th style = \"text-align: left;\">x73</th><th style = \"text-align: left;\">x74</th><th style = \"text-align: left;\">x75</th><th style = \"text-align: left;\">x76</th><th style = \"text-align: left;\">x77</th><th style = \"text-align: left;\">x78</th><th style = \"text-align: left;\">x79</th><th style = \"text-align: left;\">x80</th><th style = \"text-align: left;\">x81</th><th style = \"text-align: left;\">x82</th><th style = \"text-align: left;\">x83</th><th style = \"text-align: left;\">x84</th><th style = \"text-align: left;\">x85</th><th style = \"text-align: left;\">x86</th><th style = \"text-align: left;\">x87</th><th style = \"text-align: left;\">x88</th><th style = \"text-align: left;\">x89</th><th style = \"text-align: left;\">x90</th><th style = \"text-align: left;\">x91</th><th style = \"text-align: left;\">x92</th><th style = \"text-align: left;\">x93</th><th style = \"text-align: left;\">x94</th><th style = \"text-align: left;\">x95</th><th style = \"text-align: left;\">x96</th><th style = \"text-align: left;\">x97</th><th style = \"text-align: left;\">x98</th><th style = \"text-align: left;\">x99</th><th style = \"text-align: left;\">x100</th><th style = \"text-align: right;\">&ctdot;</th></tr><tr class = \"subheader headerLastRow\"><th class = \"rowNumber\" style = \"font-weight: bold; text-align: right;\"></th><th title = \"Float64\" style = \"text-align: left;\">Float64</th><th title = \"Float64\" style = \"text-align: left;\">Float64</th><th title = \"Float64\" style = \"text-align: left;\">Float64</th><th title = \"Float64\" style = \"text-align: left;\">Float64</th><th title = \"Float64\" style = \"text-align: left;\">Float64</th><th title = \"Float64\" style = \"text-align: left;\">Float64</th><th title = \"Float64\" style = \"text-align: left;\">Float64</th><th title = \"Float64\" style = \"text-align: left;\">Float64</th><th title = \"Float64\" style = \"text-align: left;\">Float64</th><th title = \"Float64\" style = \"text-align: left;\">Float64</th><th title = \"Float64\" style = \"text-align: left;\">Float64</th><th title = \"Float64\" style = \"text-align: left;\">Float64</th><th title = \"Float64\" style = \"text-align: left;\">Float64</th><th title = \"Float64\" style = \"text-align: left;\">Float64</th><th title = \"Float64\" style = \"text-align: left;\">Float64</th><th title = \"Float64\" style = \"text-align: left;\">Float64</th><th title = \"Float64\" style = \"text-align: left;\">Float64</th><th title = \"Float64\" style = \"text-align: left;\">Float64</th><th title = \"Float64\" style = \"text-align: left;\">Float64</th><th title = \"Float64\" style = \"text-align: left;\">Float64</th><th title = \"Float64\" style = \"text-align: left;\">Float64</th><th title = \"Float64\" style = \"text-align: left;\">Float64</th><th title = \"Float64\" style = \"text-align: left;\">Float64</th><th title = \"Float64\" style = \"text-align: left;\">Float64</th><th title = \"Float64\" style = \"text-align: left;\">Float64</th><th title = \"Float64\" style = \"text-align: left;\">Float64</th><th title = \"Float64\" style = \"text-align: left;\">Float64</th><th title = \"Float64\" style = \"text-align: left;\">Float64</th><th title = \"Float64\" style = \"text-align: left;\">Float64</th><th title = \"Float64\" style = \"text-align: left;\">Float64</th><th title = \"Float64\" style = \"text-align: left;\">Float64</th><th title = \"Float64\" style = \"text-align: left;\">Float64</th><th title = \"Float64\" style = \"text-align: left;\">Float64</th><th title = \"Float64\" style = \"text-align: left;\">Float64</th><th title = \"Float64\" style = \"text-align: left;\">Float64</th><th title = \"Float64\" style = \"text-align: left;\">Float64</th><th title = \"Float64\" style = \"text-align: left;\">Float64</th><th title = \"Float64\" style = \"text-align: left;\">Float64</th><th title = \"Float64\" style = \"text-align: left;\">Float64</th><th title = \"Float64\" style = \"text-align: left;\">Float64</th><th title = \"Float64\" style = \"text-align: left;\">Float64</th><th title = \"Float64\" style = \"text-align: left;\">Float64</th><th title = \"Float64\" style = \"text-align: left;\">Float64</th><th title = \"Float64\" style = \"text-align: left;\">Float64</th><th title = \"Float64\" style = \"text-align: left;\">Float64</th><th title = \"Float64\" style = \"text-align: left;\">Float64</th><th title = \"Float64\" style = \"text-align: left;\">Float64</th><th title = \"Float64\" style = \"text-align: left;\">Float64</th><th title = \"Float64\" style = \"text-align: left;\">Float64</th><th title = \"Float64\" style = \"text-align: left;\">Float64</th><th title = \"Float64\" style = \"text-align: left;\">Float64</th><th title = \"Float64\" style = \"text-align: left;\">Float64</th><th title = \"Float64\" style = \"text-align: left;\">Float64</th><th title = \"Float64\" style = \"text-align: left;\">Float64</th><th title = \"Float64\" style = \"text-align: left;\">Float64</th><th title = \"Float64\" style = \"text-align: left;\">Float64</th><th title = \"Float64\" style = \"text-align: left;\">Float64</th><th title = \"Float64\" style = \"text-align: left;\">Float64</th><th title = \"Float64\" style = \"text-align: left;\">Float64</th><th title = \"Float64\" style = \"text-align: left;\">Float64</th><th title = \"Float64\" style = \"text-align: left;\">Float64</th><th title = \"Float64\" style = \"text-align: left;\">Float64</th><th title = \"Float64\" style = \"text-align: left;\">Float64</th><th title = \"Float64\" style = \"text-align: left;\">Float64</th><th title = \"Float64\" style = \"text-align: left;\">Float64</th><th title = \"Float64\" style = \"text-align: left;\">Float64</th><th title = \"Float64\" style = \"text-align: left;\">Float64</th><th title = \"Float64\" style = \"text-align: left;\">Float64</th><th title = \"Float64\" style = \"text-align: left;\">Float64</th><th title = \"Float64\" style = \"text-align: left;\">Float64</th><th title = \"Float64\" style = \"text-align: left;\">Float64</th><th title = \"Float64\" style = \"text-align: left;\">Float64</th><th title = \"Float64\" style = \"text-align: left;\">Float64</th><th title = \"Float64\" style = \"text-align: left;\">Float64</th><th title = \"Float64\" style = \"text-align: left;\">Float64</th><th title = \"Float64\" style = \"text-align: left;\">Float64</th><th title = \"Float64\" style = \"text-align: left;\">Float64</th><th title = \"Float64\" style = \"text-align: left;\">Float64</th><th title = \"Float64\" style = \"text-align: left;\">Float64</th><th title = \"Float64\" style = \"text-align: left;\">Float64</th><th title = \"Float64\" style = \"text-align: left;\">Float64</th><th title = \"Float64\" style = \"text-align: left;\">Float64</th><th title = \"Float64\" style = \"text-align: left;\">Float64</th><th title = \"Float64\" style = \"text-align: left;\">Float64</th><th title = \"Float64\" style = \"text-align: left;\">Float64</th><th title = \"Float64\" style = \"text-align: left;\">Float64</th><th title = \"Float64\" style = \"text-align: left;\">Float64</th><th title = \"Float64\" style = \"text-align: left;\">Float64</th><th title = \"Float64\" style = \"text-align: left;\">Float64</th><th title = \"Float64\" style = \"text-align: left;\">Float64</th><th title = \"Float64\" style = \"text-align: left;\">Float64</th><th title = \"Float64\" style = \"text-align: left;\">Float64</th><th title = \"Float64\" style = \"text-align: left;\">Float64</th><th title = \"Float64\" style = \"text-align: left;\">Float64</th><th title = \"Float64\" style = \"text-align: left;\">Float64</th><th title = \"Float64\" style = \"text-align: left;\">Float64</th><th title = \"Float64\" style = \"text-align: left;\">Float64</th><th title = \"Float64\" style = \"text-align: left;\">Float64</th><th title = \"Float64\" style = \"text-align: left;\">Float64</th><th title = \"Float64\" style = \"text-align: left;\">Float64</th><th title = \"Float64\" style = \"text-align: right;\">&ctdot;</th></tr></thead><tbody><tr><td class = \"rowNumber\" style = \"font-weight: bold; text-align: right;\">1</td><td style = \"text-align: right;\">0.0523643</td><td style = \"text-align: right;\">0.609618</td><td style = \"text-align: right;\">0.959066</td><td style = \"text-align: right;\">0.940724</td><td style = \"text-align: right;\">0.497786</td><td style = \"text-align: right;\">0.42965</td><td style = \"text-align: right;\">0.913882</td><td style = \"text-align: right;\">0.747651</td><td style = \"text-align: right;\">0.446724</td><td style = \"text-align: right;\">0.0749807</td><td style = \"text-align: right;\">0.293294</td><td style = \"text-align: right;\">0.680345</td><td style = \"text-align: right;\">0.162048</td><td style = \"text-align: right;\">0.159452</td><td style = \"text-align: right;\">0.958113</td><td style = \"text-align: right;\">0.922532</td><td style = \"text-align: right;\">0.834303</td><td style = \"text-align: right;\">0.966029</td><td style = \"text-align: right;\">0.38394</td><td style = \"text-align: right;\">0.625653</td><td style = \"text-align: right;\">0.830014</td><td style = \"text-align: right;\">0.251016</td><td style = \"text-align: right;\">0.357237</td><td style = \"text-align: right;\">0.466607</td><td style = \"text-align: right;\">0.749349</td><td style = \"text-align: right;\">0.126183</td><td style = \"text-align: right;\">0.109127</td><td style = \"text-align: right;\">0.0957731</td><td style = \"text-align: right;\">0.194717</td><td style = \"text-align: right;\">0.355339</td><td style = \"text-align: right;\">0.514552</td><td style = \"text-align: right;\">0.744211</td><td style = \"text-align: right;\">0.123781</td><td style = \"text-align: right;\">0.320412</td><td style = \"text-align: right;\">0.552054</td><td style = \"text-align: right;\">0.482046</td><td style = \"text-align: right;\">0.882937</td><td style = \"text-align: right;\">0.629033</td><td style = \"text-align: right;\">0.709226</td><td style = \"text-align: right;\">0.40338</td><td style = \"text-align: right;\">0.267963</td><td style = \"text-align: right;\">0.149298</td><td style = \"text-align: right;\">0.599479</td><td style = \"text-align: right;\">0.479195</td><td style = \"text-align: right;\">0.173125</td><td style = \"text-align: right;\">0.610714</td><td style = \"text-align: right;\">0.0543737</td><td style = \"text-align: right;\">0.0209455</td><td style = \"text-align: right;\">0.620016</td><td style = \"text-align: right;\">0.679305</td><td style = \"text-align: right;\">0.813113</td><td style = \"text-align: right;\">0.52726</td><td style = \"text-align: right;\">0.678049</td><td style = \"text-align: right;\">0.602801</td><td style = \"text-align: right;\">0.263353</td><td style = \"text-align: right;\">0.140502</td><td style = \"text-align: right;\">0.173345</td><td style = \"text-align: right;\">0.00508686</td><td style = \"text-align: right;\">0.882622</td><td style = \"text-align: right;\">0.671508</td><td style = \"text-align: right;\">0.903111</td><td style = \"text-align: right;\">0.992132</td><td style = \"text-align: right;\">0.130133</td><td style = \"text-align: right;\">0.825957</td><td style = \"text-align: right;\">0.749588</td><td style = \"text-align: right;\">0.413133</td><td style = \"text-align: right;\">0.453115</td><td style = \"text-align: right;\">0.981498</td><td style = \"text-align: right;\">0.670985</td><td style = \"text-align: right;\">0.430595</td><td style = \"text-align: right;\">0.716924</td><td style = \"text-align: right;\">0.111158</td><td style = \"text-align: right;\">0.285703</td><td style = \"text-align: right;\">0.984693</td><td style = \"text-align: right;\">0.408762</td><td style = \"text-align: right;\">0.84116</td><td style = \"text-align: right;\">0.58661</td><td style = \"text-align: right;\">0.376678</td><td style = \"text-align: right;\">0.117205</td><td style = \"text-align: right;\">0.872283</td><td style = \"text-align: right;\">0.373637</td><td style = \"text-align: right;\">0.367935</td><td style = \"text-align: right;\">0.850897</td><td style = \"text-align: right;\">0.338093</td><td style = \"text-align: right;\">0.826562</td><td style = \"text-align: right;\">0.0382447</td><td style = \"text-align: right;\">0.379849</td><td style = \"text-align: right;\">0.622853</td><td style = \"text-align: right;\">0.923399</td><td style = \"text-align: right;\">0.766872</td><td style = \"text-align: right;\">0.364495</td><td style = \"text-align: right;\">0.0472874</td><td style = \"text-align: right;\">0.168554</td><td style = \"text-align: right;\">0.461221</td><td style = \"text-align: right;\">0.923582</td><td style = \"text-align: right;\">0.993141</td><td style = \"text-align: right;\">0.499462</td><td style = \"text-align: right;\">0.632815</td><td style = \"text-align: right;\">0.326624</td><td style = \"text-align: right;\">0.801396</td><td style = \"text-align: right;\">&ctdot;</td></tr><tr><td class = \"rowNumber\" style = \"font-weight: bold; text-align: right;\">2</td><td style = \"text-align: right;\">0.996383</td><td style = \"text-align: right;\">0.323279</td><td style = \"text-align: right;\">0.0114092</td><td style = \"text-align: right;\">0.942402</td><td style = \"text-align: right;\">0.987924</td><td style = \"text-align: right;\">0.936681</td><td style = \"text-align: right;\">0.864094</td><td style = \"text-align: right;\">0.932215</td><td style = \"text-align: right;\">0.601533</td><td style = \"text-align: right;\">0.849567</td><td style = \"text-align: right;\">0.896911</td><td style = \"text-align: right;\">0.757683</td><td style = \"text-align: right;\">0.730265</td><td style = \"text-align: right;\">0.688532</td><td style = \"text-align: right;\">0.492183</td><td style = \"text-align: right;\">0.690537</td><td style = \"text-align: right;\">0.0691119</td><td style = \"text-align: right;\">0.930329</td><td style = \"text-align: right;\">0.55779</td><td style = \"text-align: right;\">0.29403</td><td style = \"text-align: right;\">0.601761</td><td style = \"text-align: right;\">0.300509</td><td style = \"text-align: right;\">0.714345</td><td style = \"text-align: right;\">0.228273</td><td style = \"text-align: right;\">0.857088</td><td style = \"text-align: right;\">0.313058</td><td style = \"text-align: right;\">0.236885</td><td style = \"text-align: right;\">0.626102</td><td style = \"text-align: right;\">0.725923</td><td style = \"text-align: right;\">0.133276</td><td style = \"text-align: right;\">0.657448</td><td style = \"text-align: right;\">0.25016</td><td style = \"text-align: right;\">0.303266</td><td style = \"text-align: right;\">0.864351</td><td style = \"text-align: right;\">0.955437</td><td style = \"text-align: right;\">0.939312</td><td style = \"text-align: right;\">0.765406</td><td style = \"text-align: right;\">0.255136</td><td style = \"text-align: right;\">0.325191</td><td style = \"text-align: right;\">0.501739</td><td style = \"text-align: right;\">0.213504</td><td style = \"text-align: right;\">0.861155</td><td style = \"text-align: right;\">0.621882</td><td style = \"text-align: right;\">0.718258</td><td style = \"text-align: right;\">0.225825</td><td style = \"text-align: right;\">0.901666</td><td style = \"text-align: right;\">0.621183</td><td style = \"text-align: right;\">0.782588</td><td style = \"text-align: right;\">0.733544</td><td style = \"text-align: right;\">0.533512</td><td style = \"text-align: right;\">0.818545</td><td style = \"text-align: right;\">0.705379</td><td style = \"text-align: right;\">0.323127</td><td style = \"text-align: right;\">0.812303</td><td style = \"text-align: right;\">0.438585</td><td style = \"text-align: right;\">0.704467</td><td style = \"text-align: right;\">0.316937</td><td style = \"text-align: right;\">0.90005</td><td style = \"text-align: right;\">0.491489</td><td style = \"text-align: right;\">0.144504</td><td style = \"text-align: right;\">0.848915</td><td style = \"text-align: right;\">0.337561</td><td style = \"text-align: right;\">0.462783</td><td style = \"text-align: right;\">0.0895823</td><td style = \"text-align: right;\">0.54517</td><td style = \"text-align: right;\">0.207144</td><td style = \"text-align: right;\">0.558059</td><td style = \"text-align: right;\">0.247815</td><td style = \"text-align: right;\">0.820066</td><td style = \"text-align: right;\">0.858006</td><td style = \"text-align: right;\">0.737671</td><td style = \"text-align: right;\">0.888525</td><td style = \"text-align: right;\">0.809721</td><td style = \"text-align: right;\">0.21849</td><td style = \"text-align: right;\">0.206777</td><td style = \"text-align: right;\">0.919064</td><td style = \"text-align: right;\">0.74504</td><td style = \"text-align: right;\">0.622381</td><td style = \"text-align: right;\">0.560501</td><td style = \"text-align: right;\">0.119611</td><td style = \"text-align: right;\">0.118803</td><td style = \"text-align: right;\">0.102635</td><td style = \"text-align: right;\">0.937137</td><td style = \"text-align: right;\">0.732696</td><td style = \"text-align: right;\">0.257261</td><td style = \"text-align: right;\">0.757876</td><td style = \"text-align: right;\">0.565027</td><td style = \"text-align: right;\">0.848687</td><td style = \"text-align: right;\">0.126224</td><td style = \"text-align: right;\">0.619676</td><td style = \"text-align: right;\">0.266669</td><td style = \"text-align: right;\">0.909082</td><td style = \"text-align: right;\">0.55591</td><td style = \"text-align: right;\">0.713743</td><td style = \"text-align: right;\">0.0896559</td><td style = \"text-align: right;\">0.605725</td><td style = \"text-align: right;\">0.193504</td><td style = \"text-align: right;\">0.285495</td><td style = \"text-align: right;\">0.770703</td><td style = \"text-align: right;\">0.661229</td><td style = \"text-align: right;\">&ctdot;</td></tr><tr><td class = \"rowNumber\" style = \"font-weight: bold; text-align: right;\">3</td><td style = \"text-align: right;\">0.141696</td><td style = \"text-align: right;\">0.622605</td><td style = \"text-align: right;\">0.661393</td><td style = \"text-align: right;\">0.1708</td><td style = \"text-align: right;\">0.11548</td><td style = \"text-align: right;\">0.475541</td><td style = \"text-align: right;\">0.737145</td><td style = \"text-align: right;\">0.484979</td><td style = \"text-align: right;\">0.109468</td><td style = \"text-align: right;\">0.508312</td><td style = \"text-align: right;\">0.228798</td><td style = \"text-align: right;\">0.358733</td><td style = \"text-align: right;\">0.610601</td><td style = \"text-align: right;\">0.560448</td><td style = \"text-align: right;\">0.535695</td><td style = \"text-align: right;\">0.59929</td><td style = \"text-align: right;\">0.605758</td><td style = \"text-align: right;\">0.677717</td><td style = \"text-align: right;\">0.154823</td><td style = \"text-align: right;\">0.703207</td><td style = \"text-align: right;\">0.507986</td><td style = \"text-align: right;\">0.0501023</td><td style = \"text-align: right;\">0.911171</td><td style = \"text-align: right;\">0.810978</td><td style = \"text-align: right;\">0.199227</td><td style = \"text-align: right;\">0.446064</td><td style = \"text-align: right;\">0.0572667</td><td style = \"text-align: right;\">0.673722</td><td style = \"text-align: right;\">0.993353</td><td style = \"text-align: right;\">0.610138</td><td style = \"text-align: right;\">0.735754</td><td style = \"text-align: right;\">0.855437</td><td style = \"text-align: right;\">0.81269</td><td style = \"text-align: right;\">0.770168</td><td style = \"text-align: right;\">0.0609744</td><td style = \"text-align: right;\">0.649577</td><td style = \"text-align: right;\">0.80488</td><td style = \"text-align: right;\">0.0434918</td><td style = \"text-align: right;\">0.713666</td><td style = \"text-align: right;\">0.665052</td><td style = \"text-align: right;\">0.200676</td><td style = \"text-align: right;\">0.748503</td><td style = \"text-align: right;\">0.447064</td><td style = \"text-align: right;\">0.151912</td><td style = \"text-align: right;\">0.905773</td><td style = \"text-align: right;\">0.69753</td><td style = \"text-align: right;\">0.635902</td><td style = \"text-align: right;\">0.688135</td><td style = \"text-align: right;\">0.528754</td><td style = \"text-align: right;\">0.381539</td><td style = \"text-align: right;\">0.81904</td><td style = \"text-align: right;\">0.0116928</td><td style = \"text-align: right;\">0.179366</td><td style = \"text-align: right;\">0.785532</td><td style = \"text-align: right;\">0.44845</td><td style = \"text-align: right;\">0.081841</td><td style = \"text-align: right;\">0.84552</td><td style = \"text-align: right;\">0.372275</td><td style = \"text-align: right;\">0.0646395</td><td style = \"text-align: right;\">0.790937</td><td style = \"text-align: right;\">0.356194</td><td style = \"text-align: right;\">0.176315</td><td style = \"text-align: right;\">0.0502913</td><td style = \"text-align: right;\">0.344854</td><td style = \"text-align: right;\">0.0719761</td><td style = \"text-align: right;\">0.987706</td><td style = \"text-align: right;\">0.740029</td><td style = \"text-align: right;\">0.53155</td><td style = \"text-align: right;\">0.833661</td><td style = \"text-align: right;\">0.657139</td><td style = \"text-align: right;\">0.183765</td><td style = \"text-align: right;\">0.68696</td><td style = \"text-align: right;\">0.115185</td><td style = \"text-align: right;\">0.678207</td><td style = \"text-align: right;\">0.843813</td><td style = \"text-align: right;\">0.919121</td><td style = \"text-align: right;\">0.990986</td><td style = \"text-align: right;\">0.471223</td><td style = \"text-align: right;\">0.340498</td><td style = \"text-align: right;\">0.758822</td><td style = \"text-align: right;\">0.534306</td><td style = \"text-align: right;\">0.128232</td><td style = \"text-align: right;\">0.907322</td><td style = \"text-align: right;\">0.885358</td><td style = \"text-align: right;\">0.0772653</td><td style = \"text-align: right;\">0.372709</td><td style = \"text-align: right;\">0.953812</td><td style = \"text-align: right;\">0.705903</td><td style = \"text-align: right;\">0.502916</td><td style = \"text-align: right;\">0.384139</td><td style = \"text-align: right;\">0.768066</td><td style = \"text-align: right;\">0.729694</td><td style = \"text-align: right;\">0.564221</td><td style = \"text-align: right;\">0.966081</td><td style = \"text-align: right;\">0.923246</td><td style = \"text-align: right;\">0.908125</td><td style = \"text-align: right;\">0.990469</td><td style = \"text-align: right;\">0.453515</td><td style = \"text-align: right;\">0.412359</td><td style = \"text-align: right;\">0.600875</td><td style = \"text-align: right;\">&ctdot;</td></tr><tr><td class = \"rowNumber\" style = \"font-weight: bold; text-align: right;\">4</td><td style = \"text-align: right;\">0.157635</td><td style = \"text-align: right;\">0.203508</td><td style = \"text-align: right;\">0.95652</td><td style = \"text-align: right;\">0.652674</td><td style = \"text-align: right;\">0.433547</td><td style = \"text-align: right;\">0.0857123</td><td style = \"text-align: right;\">0.430567</td><td style = \"text-align: right;\">0.701038</td><td style = \"text-align: right;\">0.162177</td><td style = \"text-align: right;\">0.789321</td><td style = \"text-align: right;\">0.520243</td><td style = \"text-align: right;\">0.241582</td><td style = \"text-align: right;\">0.876891</td><td style = \"text-align: right;\">0.625502</td><td style = \"text-align: right;\">0.923734</td><td style = \"text-align: right;\">0.463458</td><td style = \"text-align: right;\">0.364344</td><td style = \"text-align: right;\">0.579194</td><td style = \"text-align: right;\">0.776031</td><td style = \"text-align: right;\">0.565983</td><td style = \"text-align: right;\">0.684992</td><td style = \"text-align: right;\">0.493661</td><td style = \"text-align: right;\">0.114109</td><td style = \"text-align: right;\">0.512986</td><td style = \"text-align: right;\">0.356462</td><td style = \"text-align: right;\">0.119274</td><td style = \"text-align: right;\">0.439362</td><td style = \"text-align: right;\">0.453941</td><td style = \"text-align: right;\">0.431057</td><td style = \"text-align: right;\">0.792358</td><td style = \"text-align: right;\">0.708446</td><td style = \"text-align: right;\">0.826459</td><td style = \"text-align: right;\">0.986062</td><td style = \"text-align: right;\">0.403543</td><td style = \"text-align: right;\">0.0269365</td><td style = \"text-align: right;\">0.585424</td><td style = \"text-align: right;\">0.433902</td><td style = \"text-align: right;\">0.0610187</td><td style = \"text-align: right;\">0.582498</td><td style = \"text-align: right;\">0.622604</td><td style = \"text-align: right;\">0.149805</td><td style = \"text-align: right;\">0.404963</td><td style = \"text-align: right;\">0.321141</td><td style = \"text-align: right;\">0.0398961</td><td style = \"text-align: right;\">0.862263</td><td style = \"text-align: right;\">0.40389</td><td style = \"text-align: right;\">0.245622</td><td style = \"text-align: right;\">0.0463729</td><td style = \"text-align: right;\">0.714733</td><td style = \"text-align: right;\">0.724173</td><td style = \"text-align: right;\">0.8587</td><td style = \"text-align: right;\">0.964042</td><td style = \"text-align: right;\">0.876822</td><td style = \"text-align: right;\">0.641245</td><td style = \"text-align: right;\">0.491016</td><td style = \"text-align: right;\">0.57514</td><td style = \"text-align: right;\">0.183518</td><td style = \"text-align: right;\">0.891935</td><td style = \"text-align: right;\">0.341569</td><td style = \"text-align: right;\">0.906594</td><td style = \"text-align: right;\">0.889723</td><td style = \"text-align: right;\">0.320026</td><td style = \"text-align: right;\">0.50984</td><td style = \"text-align: right;\">0.377499</td><td style = \"text-align: right;\">0.825695</td><td style = \"text-align: right;\">0.534508</td><td style = \"text-align: right;\">0.471237</td><td style = \"text-align: right;\">0.999601</td><td style = \"text-align: right;\">0.814402</td><td style = \"text-align: right;\">0.128869</td><td style = \"text-align: right;\">0.123466</td><td style = \"text-align: right;\">0.125482</td><td style = \"text-align: right;\">0.870484</td><td style = \"text-align: right;\">0.370679</td><td style = \"text-align: right;\">0.718262</td><td style = \"text-align: right;\">0.364636</td><td style = \"text-align: right;\">0.78318</td><td style = \"text-align: right;\">0.832504</td><td style = \"text-align: right;\">0.585744</td><td style = \"text-align: right;\">0.546211</td><td style = \"text-align: right;\">0.572058</td><td style = \"text-align: right;\">0.180927</td><td style = \"text-align: right;\">0.827245</td><td style = \"text-align: right;\">0.435551</td><td style = \"text-align: right;\">0.539693</td><td style = \"text-align: right;\">0.9202</td><td style = \"text-align: right;\">0.205431</td><td style = \"text-align: right;\">0.0897852</td><td style = \"text-align: right;\">0.564344</td><td style = \"text-align: right;\">0.536845</td><td style = \"text-align: right;\">0.97853</td><td style = \"text-align: right;\">0.993684</td><td style = \"text-align: right;\">0.230897</td><td style = \"text-align: right;\">0.488633</td><td style = \"text-align: right;\">0.315745</td><td style = \"text-align: right;\">0.672324</td><td style = \"text-align: right;\">0.0891092</td><td style = \"text-align: right;\">0.520026</td><td style = \"text-align: right;\">0.334081</td><td style = \"text-align: right;\">0.000420795</td><td style = \"text-align: right;\">&ctdot;</td></tr><tr><td class = \"rowNumber\" style = \"font-weight: bold; text-align: right;\">5</td><td style = \"text-align: right;\">0.271134</td><td style = \"text-align: right;\">0.420181</td><td style = \"text-align: right;\">0.146054</td><td style = \"text-align: right;\">0.184522</td><td style = \"text-align: right;\">0.679981</td><td style = \"text-align: right;\">0.595131</td><td style = \"text-align: right;\">0.304462</td><td style = \"text-align: right;\">0.46216</td><td style = \"text-align: right;\">0.338162</td><td style = \"text-align: right;\">0.146463</td><td style = \"text-align: right;\">0.180886</td><td style = \"text-align: right;\">0.445755</td><td style = \"text-align: right;\">0.701457</td><td style = \"text-align: right;\">0.485037</td><td style = \"text-align: right;\">0.793044</td><td style = \"text-align: right;\">0.683251</td><td style = \"text-align: right;\">0.580886</td><td style = \"text-align: right;\">0.296789</td><td style = \"text-align: right;\">0.599384</td><td style = \"text-align: right;\">0.612109</td><td style = \"text-align: right;\">0.0755399</td><td style = \"text-align: right;\">0.384828</td><td style = \"text-align: right;\">0.248593</td><td style = \"text-align: right;\">0.369853</td><td style = \"text-align: right;\">0.473066</td><td style = \"text-align: right;\">0.178867</td><td style = \"text-align: right;\">0.696635</td><td style = \"text-align: right;\">0.899425</td><td style = \"text-align: right;\">0.303187</td><td style = \"text-align: right;\">0.61408</td><td style = \"text-align: right;\">0.25614</td><td style = \"text-align: right;\">0.645659</td><td style = \"text-align: right;\">0.473629</td><td style = \"text-align: right;\">0.26215</td><td style = \"text-align: right;\">0.433372</td><td style = \"text-align: right;\">0.00315341</td><td style = \"text-align: right;\">0.692945</td><td style = \"text-align: right;\">0.710422</td><td style = \"text-align: right;\">0.237507</td><td style = \"text-align: right;\">0.0778631</td><td style = \"text-align: right;\">0.0730612</td><td style = \"text-align: right;\">0.501661</td><td style = \"text-align: right;\">0.80245</td><td style = \"text-align: right;\">0.0308567</td><td style = \"text-align: right;\">0.606941</td><td style = \"text-align: right;\">0.779453</td><td style = \"text-align: right;\">0.272346</td><td style = \"text-align: right;\">0.853353</td><td style = \"text-align: right;\">0.949816</td><td style = \"text-align: right;\">0.868901</td><td style = \"text-align: right;\">0.544151</td><td style = \"text-align: right;\">0.100308</td><td style = \"text-align: right;\">0.46995</td><td style = \"text-align: right;\">0.428812</td><td style = \"text-align: right;\">0.189099</td><td style = \"text-align: right;\">0.47652</td><td style = \"text-align: right;\">0.119561</td><td style = \"text-align: right;\">0.951413</td><td style = \"text-align: right;\">0.979033</td><td style = \"text-align: right;\">0.185592</td><td style = \"text-align: right;\">0.37592</td><td style = \"text-align: right;\">0.603062</td><td style = \"text-align: right;\">0.702848</td><td style = \"text-align: right;\">0.635986</td><td style = \"text-align: right;\">0.332891</td><td style = \"text-align: right;\">0.488304</td><td style = \"text-align: right;\">0.633488</td><td style = \"text-align: right;\">0.272485</td><td style = \"text-align: right;\">0.105029</td><td style = \"text-align: right;\">0.231217</td><td style = \"text-align: right;\">0.542249</td><td style = \"text-align: right;\">0.892029</td><td style = \"text-align: right;\">0.455474</td><td style = \"text-align: right;\">0.293658</td><td style = \"text-align: right;\">0.951256</td><td style = \"text-align: right;\">0.241662</td><td style = \"text-align: right;\">0.15469</td><td style = \"text-align: right;\">0.157213</td><td style = \"text-align: right;\">0.733636</td><td style = \"text-align: right;\">0.739111</td><td style = \"text-align: right;\">0.925399</td><td style = \"text-align: right;\">0.648943</td><td style = \"text-align: right;\">0.627379</td><td style = \"text-align: right;\">0.950049</td><td style = \"text-align: right;\">0.878445</td><td style = \"text-align: right;\">0.836572</td><td style = \"text-align: right;\">0.99753</td><td style = \"text-align: right;\">0.600599</td><td style = \"text-align: right;\">0.318924</td><td style = \"text-align: right;\">0.701226</td><td style = \"text-align: right;\">0.434625</td><td style = \"text-align: right;\">0.341435</td><td style = \"text-align: right;\">0.945258</td><td style = \"text-align: right;\">0.773651</td><td style = \"text-align: right;\">0.983333</td><td style = \"text-align: right;\">0.38082</td><td style = \"text-align: right;\">0.0668559</td><td style = \"text-align: right;\">0.130581</td><td style = \"text-align: right;\">0.637113</td><td style = \"text-align: right;\">0.655304</td><td style = \"text-align: right;\">&ctdot;</td></tr><tr><td class = \"rowNumber\" style = \"font-weight: bold; text-align: right;\">6</td><td style = \"text-align: right;\">0.0365417</td><td style = \"text-align: right;\">0.874611</td><td style = \"text-align: right;\">0.13122</td><td style = \"text-align: right;\">0.755877</td><td style = \"text-align: right;\">0.686026</td><td style = \"text-align: right;\">0.24379</td><td style = \"text-align: right;\">0.187441</td><td style = \"text-align: right;\">0.558081</td><td style = \"text-align: right;\">0.285015</td><td style = \"text-align: right;\">0.881004</td><td style = \"text-align: right;\">0.00230103</td><td style = \"text-align: right;\">0.942811</td><td style = \"text-align: right;\">0.560202</td><td style = \"text-align: right;\">0.234625</td><td style = \"text-align: right;\">0.337965</td><td style = \"text-align: right;\">0.135878</td><td style = \"text-align: right;\">0.632713</td><td style = \"text-align: right;\">0.729922</td><td style = \"text-align: right;\">0.800224</td><td style = \"text-align: right;\">0.122117</td><td style = \"text-align: right;\">0.766858</td><td style = \"text-align: right;\">0.493369</td><td style = \"text-align: right;\">0.0363996</td><td style = \"text-align: right;\">0.0884813</td><td style = \"text-align: right;\">0.751173</td><td style = \"text-align: right;\">0.00679562</td><td style = \"text-align: right;\">0.883591</td><td style = \"text-align: right;\">0.239506</td><td style = \"text-align: right;\">0.383246</td><td style = \"text-align: right;\">0.344314</td><td style = \"text-align: right;\">0.953875</td><td style = \"text-align: right;\">0.223196</td><td style = \"text-align: right;\">0.689429</td><td style = \"text-align: right;\">0.14943</td><td style = \"text-align: right;\">0.841016</td><td style = \"text-align: right;\">0.0435738</td><td style = \"text-align: right;\">0.304035</td><td style = \"text-align: right;\">0.226758</td><td style = \"text-align: right;\">0.0639701</td><td style = \"text-align: right;\">0.62655</td><td style = \"text-align: right;\">0.739719</td><td style = \"text-align: right;\">0.484005</td><td style = \"text-align: right;\">0.11035</td><td style = \"text-align: right;\">0.746763</td><td style = \"text-align: right;\">0.593329</td><td style = \"text-align: right;\">0.0827829</td><td style = \"text-align: right;\">0.658761</td><td style = \"text-align: right;\">0.269635</td><td style = \"text-align: right;\">0.591883</td><td style = \"text-align: right;\">0.98488</td><td style = \"text-align: right;\">0.531746</td><td style = \"text-align: right;\">0.445692</td><td style = \"text-align: right;\">0.749169</td><td style = \"text-align: right;\">0.341967</td><td style = \"text-align: right;\">0.0406634</td><td style = \"text-align: right;\">0.840984</td><td style = \"text-align: right;\">0.517348</td><td style = \"text-align: right;\">0.959482</td><td style = \"text-align: right;\">0.461934</td><td style = \"text-align: right;\">0.206443</td><td style = \"text-align: right;\">0.446809</td><td style = \"text-align: right;\">0.00670037</td><td style = \"text-align: right;\">0.148995</td><td style = \"text-align: right;\">0.692237</td><td style = \"text-align: right;\">0.29026</td><td style = \"text-align: right;\">0.298709</td><td style = \"text-align: right;\">0.366158</td><td style = \"text-align: right;\">0.106236</td><td style = \"text-align: right;\">0.503233</td><td style = \"text-align: right;\">0.520527</td><td style = \"text-align: right;\">0.390338</td><td style = \"text-align: right;\">0.952005</td><td style = \"text-align: right;\">0.72292</td><td style = \"text-align: right;\">0.455024</td><td style = \"text-align: right;\">0.176846</td><td style = \"text-align: right;\">0.915684</td><td style = \"text-align: right;\">0.170896</td><td style = \"text-align: right;\">0.150519</td><td style = \"text-align: right;\">0.914336</td><td style = \"text-align: right;\">0.435776</td><td style = \"text-align: right;\">0.81485</td><td style = \"text-align: right;\">0.375852</td><td style = \"text-align: right;\">0.72021</td><td style = \"text-align: right;\">0.33044</td><td style = \"text-align: right;\">0.204676</td><td style = \"text-align: right;\">0.406386</td><td style = \"text-align: right;\">0.0304996</td><td style = \"text-align: right;\">0.980182</td><td style = \"text-align: right;\">0.318297</td><td style = \"text-align: right;\">0.861568</td><td style = \"text-align: right;\">0.470786</td><td style = \"text-align: right;\">0.832542</td><td style = \"text-align: right;\">0.538876</td><td style = \"text-align: right;\">0.491059</td><td style = \"text-align: right;\">0.933219</td><td style = \"text-align: right;\">0.391763</td><td style = \"text-align: right;\">0.975828</td><td style = \"text-align: right;\">0.433881</td><td style = \"text-align: right;\">0.453702</td><td style = \"text-align: right;\">0.1968</td><td style = \"text-align: right;\">&ctdot;</td></tr><tr><td class = \"rowNumber\" style = \"font-weight: bold; text-align: right;\">7</td><td style = \"text-align: right;\">0.851209</td><td style = \"text-align: right;\">0.940214</td><td style = \"text-align: right;\">0.89384</td><td style = \"text-align: right;\">0.588379</td><td style = \"text-align: right;\">0.411588</td><td style = \"text-align: right;\">0.979129</td><td style = \"text-align: right;\">0.569793</td><td style = \"text-align: right;\">0.0251611</td><td style = \"text-align: right;\">0.182167</td><td style = \"text-align: right;\">0.960876</td><td style = \"text-align: right;\">0.587786</td><td style = \"text-align: right;\">0.0198522</td><td style = \"text-align: right;\">0.765827</td><td style = \"text-align: right;\">0.728989</td><td style = \"text-align: right;\">0.467472</td><td style = \"text-align: right;\">0.446055</td><td style = \"text-align: right;\">0.366146</td><td style = \"text-align: right;\">0.570164</td><td style = \"text-align: right;\">0.286963</td><td style = \"text-align: right;\">0.00372463</td><td style = \"text-align: right;\">0.139094</td><td style = \"text-align: right;\">0.14238</td><td style = \"text-align: right;\">0.614447</td><td style = \"text-align: right;\">0.359508</td><td style = \"text-align: right;\">0.969547</td><td style = \"text-align: right;\">0.410628</td><td style = \"text-align: right;\">0.107324</td><td style = \"text-align: right;\">0.332927</td><td style = \"text-align: right;\">0.448437</td><td style = \"text-align: right;\">0.394673</td><td style = \"text-align: right;\">0.657007</td><td style = \"text-align: right;\">0.434377</td><td style = \"text-align: right;\">0.781004</td><td style = \"text-align: right;\">0.0122025</td><td style = \"text-align: right;\">0.902212</td><td style = \"text-align: right;\">0.351021</td><td style = \"text-align: right;\">0.576672</td><td style = \"text-align: right;\">0.367923</td><td style = \"text-align: right;\">0.656343</td><td style = \"text-align: right;\">0.248508</td><td style = \"text-align: right;\">0.202882</td><td style = \"text-align: right;\">0.987812</td><td style = \"text-align: right;\">0.535427</td><td style = \"text-align: right;\">0.36227</td><td style = \"text-align: right;\">0.182711</td><td style = \"text-align: right;\">0.333885</td><td style = \"text-align: right;\">0.425259</td><td style = \"text-align: right;\">0.722287</td><td style = \"text-align: right;\">0.147264</td><td style = \"text-align: right;\">0.759179</td><td style = \"text-align: right;\">0.596416</td><td style = \"text-align: right;\">0.653237</td><td style = \"text-align: right;\">0.423487</td><td style = \"text-align: right;\">0.264165</td><td style = \"text-align: right;\">0.889874</td><td style = \"text-align: right;\">0.739769</td><td style = \"text-align: right;\">0.238209</td><td style = \"text-align: right;\">0.2027</td><td style = \"text-align: right;\">0.230084</td><td style = \"text-align: right;\">0.895911</td><td style = \"text-align: right;\">0.484095</td><td style = \"text-align: right;\">0.797732</td><td style = \"text-align: right;\">0.0326978</td><td style = \"text-align: right;\">0.650832</td><td style = \"text-align: right;\">0.650814</td><td style = \"text-align: right;\">0.306682</td><td style = \"text-align: right;\">0.0385349</td><td style = \"text-align: right;\">0.0363349</td><td style = \"text-align: right;\">0.583257</td><td style = \"text-align: right;\">0.00672604</td><td style = \"text-align: right;\">0.164657</td><td style = \"text-align: right;\">0.600791</td><td style = \"text-align: right;\">0.804512</td><td style = \"text-align: right;\">0.563681</td><td style = \"text-align: right;\">0.451571</td><td style = \"text-align: right;\">0.513802</td><td style = \"text-align: right;\">0.29229</td><td style = \"text-align: right;\">0.197787</td><td style = \"text-align: right;\">0.789524</td><td style = \"text-align: right;\">0.251997</td><td style = \"text-align: right;\">0.522429</td><td style = \"text-align: right;\">0.018218</td><td style = \"text-align: right;\">0.202829</td><td style = \"text-align: right;\">0.939812</td><td style = \"text-align: right;\">0.0457949</td><td style = \"text-align: right;\">0.620571</td><td style = \"text-align: right;\">0.760018</td><td style = \"text-align: right;\">0.600602</td><td style = \"text-align: right;\">0.151002</td><td style = \"text-align: right;\">0.677916</td><td style = \"text-align: right;\">0.16654</td><td style = \"text-align: right;\">0.58111</td><td style = \"text-align: right;\">3.60907e-5</td><td style = \"text-align: right;\">0.339184</td><td style = \"text-align: right;\">0.435627</td><td style = \"text-align: right;\">0.549978</td><td style = \"text-align: right;\">0.562491</td><td style = \"text-align: right;\">0.702685</td><td style = \"text-align: right;\">0.813686</td><td style = \"text-align: right;\">0.08607</td><td style = \"text-align: right;\">&ctdot;</td></tr><tr><td class = \"rowNumber\" style = \"font-weight: bold; text-align: right;\">8</td><td style = \"text-align: right;\">0.817017</td><td style = \"text-align: right;\">0.139364</td><td style = \"text-align: right;\">0.504069</td><td style = \"text-align: right;\">0.449526</td><td style = \"text-align: right;\">0.93798</td><td style = \"text-align: right;\">0.122942</td><td style = \"text-align: right;\">0.0588101</td><td style = \"text-align: right;\">0.389475</td><td style = \"text-align: right;\">0.566394</td><td style = \"text-align: right;\">0.419518</td><td style = \"text-align: right;\">0.931845</td><td style = \"text-align: right;\">0.193139</td><td style = \"text-align: right;\">0.255477</td><td style = \"text-align: right;\">0.995732</td><td style = \"text-align: right;\">0.0272</td><td style = \"text-align: right;\">0.984662</td><td style = \"text-align: right;\">0.592315</td><td style = \"text-align: right;\">0.625666</td><td style = \"text-align: right;\">0.437504</td><td style = \"text-align: right;\">0.956868</td><td style = \"text-align: right;\">0.135146</td><td style = \"text-align: right;\">0.481696</td><td style = \"text-align: right;\">0.907895</td><td style = \"text-align: right;\">0.478348</td><td style = \"text-align: right;\">0.609143</td><td style = \"text-align: right;\">0.77471</td><td style = \"text-align: right;\">0.250448</td><td style = \"text-align: right;\">0.578743</td><td style = \"text-align: right;\">0.221686</td><td style = \"text-align: right;\">0.914399</td><td style = \"text-align: right;\">0.516092</td><td style = \"text-align: right;\">0.896762</td><td style = \"text-align: right;\">0.0568239</td><td style = \"text-align: right;\">0.0284381</td><td style = \"text-align: right;\">0.962215</td><td style = \"text-align: right;\">0.804298</td><td style = \"text-align: right;\">0.310686</td><td style = \"text-align: right;\">0.638388</td><td style = \"text-align: right;\">0.614834</td><td style = \"text-align: right;\">0.934136</td><td style = \"text-align: right;\">0.00904977</td><td style = \"text-align: right;\">0.96811</td><td style = \"text-align: right;\">0.22963</td><td style = \"text-align: right;\">0.602585</td><td style = \"text-align: right;\">0.655387</td><td style = \"text-align: right;\">0.795329</td><td style = \"text-align: right;\">0.884124</td><td style = \"text-align: right;\">0.845681</td><td style = \"text-align: right;\">0.796372</td><td style = \"text-align: right;\">0.0772812</td><td style = \"text-align: right;\">0.703994</td><td style = \"text-align: right;\">0.470224</td><td style = \"text-align: right;\">0.222512</td><td style = \"text-align: right;\">0.699607</td><td style = \"text-align: right;\">0.561411</td><td style = \"text-align: right;\">0.616204</td><td style = \"text-align: right;\">0.433569</td><td style = \"text-align: right;\">0.0962218</td><td style = \"text-align: right;\">0.824564</td><td style = \"text-align: right;\">0.683319</td><td style = \"text-align: right;\">0.295882</td><td style = \"text-align: right;\">0.41185</td><td style = \"text-align: right;\">0.421137</td><td style = \"text-align: right;\">0.622564</td><td style = \"text-align: right;\">0.715782</td><td style = \"text-align: right;\">0.93751</td><td style = \"text-align: right;\">0.193432</td><td style = \"text-align: right;\">0.031279</td><td style = \"text-align: right;\">0.646785</td><td style = \"text-align: right;\">0.340103</td><td style = \"text-align: right;\">0.485436</td><td style = \"text-align: right;\">0.864042</td><td style = \"text-align: right;\">0.444199</td><td style = \"text-align: right;\">0.16513</td><td style = \"text-align: right;\">0.265899</td><td style = \"text-align: right;\">0.707079</td><td style = \"text-align: right;\">0.505972</td><td style = \"text-align: right;\">0.630091</td><td style = \"text-align: right;\">0.498461</td><td style = \"text-align: right;\">0.492129</td><td style = \"text-align: right;\">0.371966</td><td style = \"text-align: right;\">0.519424</td><td style = \"text-align: right;\">0.822873</td><td style = \"text-align: right;\">0.125661</td><td style = \"text-align: right;\">0.574945</td><td style = \"text-align: right;\">0.0739629</td><td style = \"text-align: right;\">0.116077</td><td style = \"text-align: right;\">0.308907</td><td style = \"text-align: right;\">0.155666</td><td style = \"text-align: right;\">0.163213</td><td style = \"text-align: right;\">0.832362</td><td style = \"text-align: right;\">0.0218614</td><td style = \"text-align: right;\">0.225806</td><td style = \"text-align: right;\">0.473594</td><td style = \"text-align: right;\">0.414437</td><td style = \"text-align: right;\">0.886074</td><td style = \"text-align: right;\">0.446599</td><td style = \"text-align: right;\">0.327574</td><td style = \"text-align: right;\">0.294467</td><td style = \"text-align: right;\">0.999833</td><td style = \"text-align: right;\">&ctdot;</td></tr><tr><td class = \"rowNumber\" style = \"font-weight: bold; text-align: right;\">9</td><td style = \"text-align: right;\">0.114139</td><td style = \"text-align: right;\">0.196757</td><td style = \"text-align: right;\">0.516531</td><td style = \"text-align: right;\">0.697099</td><td style = \"text-align: right;\">0.491451</td><td style = \"text-align: right;\">0.654839</td><td style = \"text-align: right;\">0.819769</td><td style = \"text-align: right;\">0.984801</td><td style = \"text-align: right;\">0.201236</td><td style = \"text-align: right;\">0.360228</td><td style = \"text-align: right;\">0.541156</td><td style = \"text-align: right;\">0.727446</td><td style = \"text-align: right;\">0.443911</td><td style = \"text-align: right;\">0.134861</td><td style = \"text-align: right;\">0.523356</td><td style = \"text-align: right;\">0.750636</td><td style = \"text-align: right;\">0.0353389</td><td style = \"text-align: right;\">0.981912</td><td style = \"text-align: right;\">0.166607</td><td style = \"text-align: right;\">0.299347</td><td style = \"text-align: right;\">0.0556958</td><td style = \"text-align: right;\">0.369479</td><td style = \"text-align: right;\">0.648859</td><td style = \"text-align: right;\">0.609659</td><td style = \"text-align: right;\">0.294338</td><td style = \"text-align: right;\">0.117311</td><td style = \"text-align: right;\">0.518865</td><td style = \"text-align: right;\">0.0838991</td><td style = \"text-align: right;\">0.29235</td><td style = \"text-align: right;\">0.0914685</td><td style = \"text-align: right;\">0.781593</td><td style = \"text-align: right;\">0.803753</td><td style = \"text-align: right;\">0.965425</td><td style = \"text-align: right;\">0.38372</td><td style = \"text-align: right;\">0.933148</td><td style = \"text-align: right;\">0.497197</td><td style = \"text-align: right;\">0.863089</td><td style = \"text-align: right;\">0.26251</td><td style = \"text-align: right;\">0.0728176</td><td style = \"text-align: right;\">0.350562</td><td style = \"text-align: right;\">0.203102</td><td style = \"text-align: right;\">0.958526</td><td style = \"text-align: right;\">0.19133</td><td style = \"text-align: right;\">0.00783244</td><td style = \"text-align: right;\">0.856813</td><td style = \"text-align: right;\">0.383048</td><td style = \"text-align: right;\">0.621553</td><td style = \"text-align: right;\">0.243332</td><td style = \"text-align: right;\">0.227716</td><td style = \"text-align: right;\">0.866207</td><td style = \"text-align: right;\">0.0353634</td><td style = \"text-align: right;\">0.458808</td><td style = \"text-align: right;\">0.881485</td><td style = \"text-align: right;\">0.651859</td><td style = \"text-align: right;\">0.800461</td><td style = \"text-align: right;\">0.832896</td><td style = \"text-align: right;\">0.9763</td><td style = \"text-align: right;\">0.0689877</td><td style = \"text-align: right;\">0.761792</td><td style = \"text-align: right;\">0.403125</td><td style = \"text-align: right;\">0.681248</td><td style = \"text-align: right;\">0.0839122</td><td style = \"text-align: right;\">0.140415</td><td style = \"text-align: right;\">0.360777</td><td style = \"text-align: right;\">0.258085</td><td style = \"text-align: right;\">0.653747</td><td style = \"text-align: right;\">0.602119</td><td style = \"text-align: right;\">0.0284766</td><td style = \"text-align: right;\">0.21187</td><td style = \"text-align: right;\">0.161604</td><td style = \"text-align: right;\">0.687817</td><td style = \"text-align: right;\">0.23355</td><td style = \"text-align: right;\">0.189488</td><td style = \"text-align: right;\">0.841912</td><td style = \"text-align: right;\">0.220553</td><td style = \"text-align: right;\">0.712038</td><td style = \"text-align: right;\">0.496982</td><td style = \"text-align: right;\">0.0451244</td><td style = \"text-align: right;\">0.153141</td><td style = \"text-align: right;\">0.388841</td><td style = \"text-align: right;\">0.300969</td><td style = \"text-align: right;\">0.07687</td><td style = \"text-align: right;\">0.111393</td><td style = \"text-align: right;\">0.579721</td><td style = \"text-align: right;\">0.584421</td><td style = \"text-align: right;\">0.668841</td><td style = \"text-align: right;\">0.104066</td><td style = \"text-align: right;\">0.480766</td><td style = \"text-align: right;\">0.295635</td><td style = \"text-align: right;\">0.290507</td><td style = \"text-align: right;\">0.918985</td><td style = \"text-align: right;\">0.758763</td><td style = \"text-align: right;\">0.384525</td><td style = \"text-align: right;\">0.729666</td><td style = \"text-align: right;\">0.976786</td><td style = \"text-align: right;\">0.00580178</td><td style = \"text-align: right;\">0.456148</td><td style = \"text-align: right;\">0.0860507</td><td style = \"text-align: right;\">0.0996859</td><td style = \"text-align: right;\">0.778581</td><td style = \"text-align: right;\">&ctdot;</td></tr><tr><td class = \"rowNumber\" style = \"font-weight: bold; text-align: right;\">10</td><td style = \"text-align: right;\">0.554953</td><td style = \"text-align: right;\">0.0912133</td><td style = \"text-align: right;\">0.171385</td><td style = \"text-align: right;\">0.793165</td><td style = \"text-align: right;\">0.101555</td><td style = \"text-align: right;\">0.746244</td><td style = \"text-align: right;\">0.246986</td><td style = \"text-align: right;\">0.779547</td><td style = \"text-align: right;\">0.883607</td><td style = \"text-align: right;\">0.370476</td><td style = \"text-align: right;\">0.637337</td><td style = \"text-align: right;\">0.553258</td><td style = \"text-align: right;\">0.584909</td><td style = \"text-align: right;\">0.666679</td><td style = \"text-align: right;\">0.728874</td><td style = \"text-align: right;\">0.757357</td><td style = \"text-align: right;\">0.620165</td><td style = \"text-align: right;\">0.790814</td><td style = \"text-align: right;\">0.789759</td><td style = \"text-align: right;\">0.080125</td><td style = \"text-align: right;\">0.0445995</td><td style = \"text-align: right;\">0.465851</td><td style = \"text-align: right;\">0.271936</td><td style = \"text-align: right;\">0.564663</td><td style = \"text-align: right;\">0.401527</td><td style = \"text-align: right;\">0.0743168</td><td style = \"text-align: right;\">0.638222</td><td style = \"text-align: right;\">0.861475</td><td style = \"text-align: right;\">0.527126</td><td style = \"text-align: right;\">0.76226</td><td style = \"text-align: right;\">0.775486</td><td style = \"text-align: right;\">0.0620457</td><td style = \"text-align: right;\">0.351209</td><td style = \"text-align: right;\">0.978977</td><td style = \"text-align: right;\">0.730625</td><td style = \"text-align: right;\">0.689682</td><td style = \"text-align: right;\">0.905646</td><td style = \"text-align: right;\">0.114593</td><td style = \"text-align: right;\">0.0336564</td><td style = \"text-align: right;\">0.719885</td><td style = \"text-align: right;\">0.866077</td><td style = \"text-align: right;\">0.616061</td><td style = \"text-align: right;\">0.524082</td><td style = \"text-align: right;\">0.728222</td><td style = \"text-align: right;\">0.931499</td><td style = \"text-align: right;\">0.0493317</td><td style = \"text-align: right;\">0.174641</td><td style = \"text-align: right;\">0.594209</td><td style = \"text-align: right;\">0.456175</td><td style = \"text-align: right;\">0.810323</td><td style = \"text-align: right;\">0.753524</td><td style = \"text-align: right;\">0.758657</td><td style = \"text-align: right;\">0.545366</td><td style = \"text-align: right;\">0.964019</td><td style = \"text-align: right;\">0.21186</td><td style = \"text-align: right;\">0.642709</td><td style = \"text-align: right;\">0.937419</td><td style = \"text-align: right;\">0.774774</td><td style = \"text-align: right;\">0.75253</td><td style = \"text-align: right;\">0.965393</td><td style = \"text-align: right;\">0.942724</td><td style = \"text-align: right;\">0.689641</td><td style = \"text-align: right;\">0.55196</td><td style = \"text-align: right;\">0.0841814</td><td style = \"text-align: right;\">0.363296</td><td style = \"text-align: right;\">0.267874</td><td style = \"text-align: right;\">0.87464</td><td style = \"text-align: right;\">0.0123158</td><td style = \"text-align: right;\">0.177295</td><td style = \"text-align: right;\">0.112894</td><td style = \"text-align: right;\">0.335328</td><td style = \"text-align: right;\">0.108569</td><td style = \"text-align: right;\">0.99048</td><td style = \"text-align: right;\">0.768264</td><td style = \"text-align: right;\">0.973343</td><td style = \"text-align: right;\">0.271165</td><td style = \"text-align: right;\">0.938403</td><td style = \"text-align: right;\">0.316723</td><td style = \"text-align: right;\">0.905215</td><td style = \"text-align: right;\">0.750387</td><td style = \"text-align: right;\">0.950288</td><td style = \"text-align: right;\">0.504566</td><td style = \"text-align: right;\">0.628112</td><td style = \"text-align: right;\">0.831638</td><td style = \"text-align: right;\">0.0124821</td><td style = \"text-align: right;\">0.922848</td><td style = \"text-align: right;\">0.148273</td><td style = \"text-align: right;\">0.465938</td><td style = \"text-align: right;\">0.910457</td><td style = \"text-align: right;\">0.250188</td><td style = \"text-align: right;\">0.83918</td><td style = \"text-align: right;\">0.847621</td><td style = \"text-align: right;\">0.182919</td><td style = \"text-align: right;\">0.740405</td><td style = \"text-align: right;\">0.229544</td><td style = \"text-align: right;\">0.28406</td><td style = \"text-align: right;\">0.418576</td><td style = \"text-align: right;\">0.342784</td><td style = \"text-align: right;\">0.36863</td><td style = \"text-align: right;\">0.145323</td><td style = \"text-align: right;\">&ctdot;</td></tr><tr><td class = \"rowNumber\" style = \"font-weight: bold; text-align: right;\">11</td><td style = \"text-align: right;\">0.806327</td><td style = \"text-align: right;\">0.865167</td><td style = \"text-align: right;\">0.105497</td><td style = \"text-align: right;\">0.29133</td><td style = \"text-align: right;\">0.456944</td><td style = \"text-align: right;\">0.439059</td><td style = \"text-align: right;\">0.0697077</td><td style = \"text-align: right;\">0.765449</td><td style = \"text-align: right;\">0.423175</td><td style = \"text-align: right;\">0.239746</td><td style = \"text-align: right;\">0.0505639</td><td style = \"text-align: right;\">0.983755</td><td style = \"text-align: right;\">0.0182271</td><td style = \"text-align: right;\">0.640122</td><td style = \"text-align: right;\">0.340275</td><td style = \"text-align: right;\">0.706765</td><td style = \"text-align: right;\">0.6984</td><td style = \"text-align: right;\">0.864766</td><td style = \"text-align: right;\">0.691613</td><td style = \"text-align: right;\">0.332374</td><td style = \"text-align: right;\">0.127846</td><td style = \"text-align: right;\">0.789956</td><td style = \"text-align: right;\">0.98862</td><td style = \"text-align: right;\">0.16355</td><td style = \"text-align: right;\">0.983707</td><td style = \"text-align: right;\">0.94147</td><td style = \"text-align: right;\">0.290274</td><td style = \"text-align: right;\">0.465353</td><td style = \"text-align: right;\">0.0321492</td><td style = \"text-align: right;\">0.22258</td><td style = \"text-align: right;\">0.249925</td><td style = \"text-align: right;\">0.274359</td><td style = \"text-align: right;\">0.264277</td><td style = \"text-align: right;\">0.257517</td><td style = \"text-align: right;\">0.739974</td><td style = \"text-align: right;\">0.715249</td><td style = \"text-align: right;\">0.214913</td><td style = \"text-align: right;\">0.152909</td><td style = \"text-align: right;\">0.979617</td><td style = \"text-align: right;\">0.0906073</td><td style = \"text-align: right;\">0.576462</td><td style = \"text-align: right;\">0.471216</td><td style = \"text-align: right;\">0.198405</td><td style = \"text-align: right;\">0.401131</td><td style = \"text-align: right;\">0.0676361</td><td style = \"text-align: right;\">0.419942</td><td style = \"text-align: right;\">0.514483</td><td style = \"text-align: right;\">0.0862928</td><td style = \"text-align: right;\">0.552958</td><td style = \"text-align: right;\">0.80965</td><td style = \"text-align: right;\">0.381513</td><td style = \"text-align: right;\">0.464618</td><td style = \"text-align: right;\">0.949094</td><td style = \"text-align: right;\">0.299601</td><td style = \"text-align: right;\">0.416722</td><td style = \"text-align: right;\">0.212471</td><td style = \"text-align: right;\">0.649972</td><td style = \"text-align: right;\">0.769925</td><td style = \"text-align: right;\">0.941045</td><td style = \"text-align: right;\">0.599357</td><td style = \"text-align: right;\">0.320378</td><td style = \"text-align: right;\">0.786733</td><td style = \"text-align: right;\">0.647025</td><td style = \"text-align: right;\">0.798834</td><td style = \"text-align: right;\">0.635991</td><td style = \"text-align: right;\">0.862027</td><td style = \"text-align: right;\">0.813128</td><td style = \"text-align: right;\">0.895807</td><td style = \"text-align: right;\">0.578828</td><td style = \"text-align: right;\">0.611016</td><td style = \"text-align: right;\">0.0497856</td><td style = \"text-align: right;\">0.767719</td><td style = \"text-align: right;\">0.755209</td><td style = \"text-align: right;\">0.627659</td><td style = \"text-align: right;\">0.74239</td><td style = \"text-align: right;\">0.85995</td><td style = \"text-align: right;\">0.551463</td><td style = \"text-align: right;\">0.565021</td><td style = \"text-align: right;\">0.314768</td><td style = \"text-align: right;\">0.046728</td><td style = \"text-align: right;\">0.872162</td><td style = \"text-align: right;\">0.422407</td><td style = \"text-align: right;\">0.28088</td><td style = \"text-align: right;\">0.520337</td><td style = \"text-align: right;\">0.814755</td><td style = \"text-align: right;\">0.047059</td><td style = \"text-align: right;\">0.256071</td><td style = \"text-align: right;\">0.409208</td><td style = \"text-align: right;\">0.247426</td><td style = \"text-align: right;\">0.00995191</td><td style = \"text-align: right;\">0.430561</td><td style = \"text-align: right;\">0.256611</td><td style = \"text-align: right;\">0.402481</td><td style = \"text-align: right;\">0.207633</td><td style = \"text-align: right;\">0.710024</td><td style = \"text-align: right;\">0.655153</td><td style = \"text-align: right;\">0.85185</td><td style = \"text-align: right;\">0.0560381</td><td style = \"text-align: right;\">0.580367</td><td style = \"text-align: right;\">0.292735</td><td style = \"text-align: right;\">&ctdot;</td></tr><tr><td class = \"rowNumber\" style = \"font-weight: bold; text-align: right;\">12</td><td style = \"text-align: right;\">0.334948</td><td style = \"text-align: right;\">0.895836</td><td style = \"text-align: right;\">0.471747</td><td style = \"text-align: right;\">0.809789</td><td style = \"text-align: right;\">0.426612</td><td style = \"text-align: right;\">0.0577095</td><td style = \"text-align: right;\">0.355322</td><td style = \"text-align: right;\">0.573619</td><td style = \"text-align: right;\">0.232316</td><td style = \"text-align: right;\">0.239095</td><td style = \"text-align: right;\">0.804199</td><td style = \"text-align: right;\">0.409116</td><td style = \"text-align: right;\">0.224289</td><td style = \"text-align: right;\">0.419593</td><td style = \"text-align: right;\">0.547265</td><td style = \"text-align: right;\">0.128082</td><td style = \"text-align: right;\">0.832786</td><td style = \"text-align: right;\">0.183482</td><td style = \"text-align: right;\">0.985937</td><td style = \"text-align: right;\">0.491465</td><td style = \"text-align: right;\">0.478682</td><td style = \"text-align: right;\">0.766129</td><td style = \"text-align: right;\">0.306065</td><td style = \"text-align: right;\">0.111402</td><td style = \"text-align: right;\">0.562344</td><td style = \"text-align: right;\">0.36187</td><td style = \"text-align: right;\">0.406844</td><td style = \"text-align: right;\">0.805304</td><td style = \"text-align: right;\">0.913346</td><td style = \"text-align: right;\">0.106641</td><td style = \"text-align: right;\">0.87057</td><td style = \"text-align: right;\">0.7526</td><td style = \"text-align: right;\">0.541651</td><td style = \"text-align: right;\">0.145811</td><td style = \"text-align: right;\">0.352686</td><td style = \"text-align: right;\">0.488386</td><td style = \"text-align: right;\">0.459691</td><td style = \"text-align: right;\">0.418656</td><td style = \"text-align: right;\">0.257094</td><td style = \"text-align: right;\">0.794165</td><td style = \"text-align: right;\">0.891692</td><td style = \"text-align: right;\">0.640766</td><td style = \"text-align: right;\">0.774773</td><td style = \"text-align: right;\">0.988894</td><td style = \"text-align: right;\">0.644473</td><td style = \"text-align: right;\">0.0694003</td><td style = \"text-align: right;\">0.316726</td><td style = \"text-align: right;\">0.380059</td><td style = \"text-align: right;\">0.920876</td><td style = \"text-align: right;\">0.0980399</td><td style = \"text-align: right;\">0.229578</td><td style = \"text-align: right;\">0.426715</td><td style = \"text-align: right;\">0.128862</td><td style = \"text-align: right;\">0.143062</td><td style = \"text-align: right;\">0.230599</td><td style = \"text-align: right;\">0.99537</td><td style = \"text-align: right;\">0.772632</td><td style = \"text-align: right;\">0.735146</td><td style = \"text-align: right;\">0.883726</td><td style = \"text-align: right;\">0.496387</td><td style = \"text-align: right;\">0.698894</td><td style = \"text-align: right;\">0.191633</td><td style = \"text-align: right;\">0.835287</td><td style = \"text-align: right;\">0.0180018</td><td style = \"text-align: right;\">0.48196</td><td style = \"text-align: right;\">0.587057</td><td style = \"text-align: right;\">0.468878</td><td style = \"text-align: right;\">0.925634</td><td style = \"text-align: right;\">0.588194</td><td style = \"text-align: right;\">0.818584</td><td style = \"text-align: right;\">0.46283</td><td style = \"text-align: right;\">0.41691</td><td style = \"text-align: right;\">0.73792</td><td style = \"text-align: right;\">0.664139</td><td style = \"text-align: right;\">0.338923</td><td style = \"text-align: right;\">0.497528</td><td style = \"text-align: right;\">0.861654</td><td style = \"text-align: right;\">0.819158</td><td style = \"text-align: right;\">0.769439</td><td style = \"text-align: right;\">0.371871</td><td style = \"text-align: right;\">0.0487871</td><td style = \"text-align: right;\">0.559711</td><td style = \"text-align: right;\">0.318705</td><td style = \"text-align: right;\">0.421995</td><td style = \"text-align: right;\">0.463368</td><td style = \"text-align: right;\">0.801315</td><td style = \"text-align: right;\">0.540608</td><td style = \"text-align: right;\">0.855707</td><td style = \"text-align: right;\">0.422745</td><td style = \"text-align: right;\">0.112555</td><td style = \"text-align: right;\">0.761838</td><td style = \"text-align: right;\">0.826022</td><td style = \"text-align: right;\">0.496637</td><td style = \"text-align: right;\">0.648875</td><td style = \"text-align: right;\">0.8269</td><td style = \"text-align: right;\">0.385385</td><td style = \"text-align: right;\">0.237354</td><td style = \"text-align: right;\">0.413287</td><td style = \"text-align: right;\">0.501119</td><td style = \"text-align: right;\">0.384529</td><td style = \"text-align: right;\">&ctdot;</td></tr><tr><td class = \"rowNumber\" style = \"font-weight: bold; text-align: right;\">13</td><td style = \"text-align: right;\">0.0466816</td><td style = \"text-align: right;\">0.955787</td><td style = \"text-align: right;\">0.567764</td><td style = \"text-align: right;\">0.332166</td><td style = \"text-align: right;\">0.87076</td><td style = \"text-align: right;\">0.00967203</td><td style = \"text-align: right;\">0.923863</td><td style = \"text-align: right;\">0.077601</td><td style = \"text-align: right;\">0.627271</td><td style = \"text-align: right;\">0.804819</td><td style = \"text-align: right;\">0.082223</td><td style = \"text-align: right;\">0.144112</td><td style = \"text-align: right;\">0.724832</td><td style = \"text-align: right;\">0.735959</td><td style = \"text-align: right;\">0.0120452</td><td style = \"text-align: right;\">0.260538</td><td style = \"text-align: right;\">0.875319</td><td style = \"text-align: right;\">0.381717</td><td style = \"text-align: right;\">0.17614</td><td style = \"text-align: right;\">0.0802617</td><td style = \"text-align: right;\">0.484072</td><td style = \"text-align: right;\">0.832328</td><td style = \"text-align: right;\">0.9866</td><td style = \"text-align: right;\">0.840436</td><td style = \"text-align: right;\">0.619537</td><td style = \"text-align: right;\">0.570832</td><td style = \"text-align: right;\">0.0802144</td><td style = \"text-align: right;\">0.907861</td><td style = \"text-align: right;\">0.329054</td><td style = \"text-align: right;\">0.366797</td><td style = \"text-align: right;\">0.891287</td><td style = \"text-align: right;\">0.663073</td><td style = \"text-align: right;\">0.85932</td><td style = \"text-align: right;\">0.294339</td><td style = \"text-align: right;\">0.508572</td><td style = \"text-align: right;\">0.386306</td><td style = \"text-align: right;\">0.216142</td><td style = \"text-align: right;\">0.463572</td><td style = \"text-align: right;\">0.812676</td><td style = \"text-align: right;\">0.519952</td><td style = \"text-align: right;\">0.412764</td><td style = \"text-align: right;\">0.754509</td><td style = \"text-align: right;\">0.301477</td><td style = \"text-align: right;\">0.722334</td><td style = \"text-align: right;\">0.0849876</td><td style = \"text-align: right;\">0.221836</td><td style = \"text-align: right;\">0.827023</td><td style = \"text-align: right;\">0.0541619</td><td style = \"text-align: right;\">0.683917</td><td style = \"text-align: right;\">0.0639839</td><td style = \"text-align: right;\">0.41222</td><td style = \"text-align: right;\">0.429667</td><td style = \"text-align: right;\">0.695483</td><td style = \"text-align: right;\">0.047814</td><td style = \"text-align: right;\">0.749548</td><td style = \"text-align: right;\">0.480391</td><td style = \"text-align: right;\">0.823215</td><td style = \"text-align: right;\">0.576978</td><td style = \"text-align: right;\">0.0430984</td><td style = \"text-align: right;\">0.600824</td><td style = \"text-align: right;\">0.424135</td><td style = \"text-align: right;\">0.465379</td><td style = \"text-align: right;\">0.761269</td><td style = \"text-align: right;\">0.715732</td><td style = \"text-align: right;\">0.659841</td><td style = \"text-align: right;\">0.683673</td><td style = \"text-align: right;\">0.234046</td><td style = \"text-align: right;\">0.672438</td><td style = \"text-align: right;\">0.210949</td><td style = \"text-align: right;\">0.0871173</td><td style = \"text-align: right;\">0.366291</td><td style = \"text-align: right;\">0.74891</td><td style = \"text-align: right;\">0.493738</td><td style = \"text-align: right;\">0.290525</td><td style = \"text-align: right;\">0.546175</td><td style = \"text-align: right;\">0.975753</td><td style = \"text-align: right;\">0.0138202</td><td style = \"text-align: right;\">0.760136</td><td style = \"text-align: right;\">0.51702</td><td style = \"text-align: right;\">0.570041</td><td style = \"text-align: right;\">0.993224</td><td style = \"text-align: right;\">0.983035</td><td style = \"text-align: right;\">0.861145</td><td style = \"text-align: right;\">0.453004</td><td style = \"text-align: right;\">0.280422</td><td style = \"text-align: right;\">0.159551</td><td style = \"text-align: right;\">0.343299</td><td style = \"text-align: right;\">0.523516</td><td style = \"text-align: right;\">0.41432</td><td style = \"text-align: right;\">0.857613</td><td style = \"text-align: right;\">0.658451</td><td style = \"text-align: right;\">0.390175</td><td style = \"text-align: right;\">0.309242</td><td style = \"text-align: right;\">0.366258</td><td style = \"text-align: right;\">0.892524</td><td style = \"text-align: right;\">0.724467</td><td style = \"text-align: right;\">0.551562</td><td style = \"text-align: right;\">0.841238</td><td style = \"text-align: right;\">0.320723</td><td style = \"text-align: right;\">0.805433</td><td style = \"text-align: right;\">&ctdot;</td></tr><tr><td style = \"text-align: right;\">&vellip;</td><td style = \"text-align: right;\">&vellip;</td><td style = \"text-align: right;\">&vellip;</td><td style = \"text-align: right;\">&vellip;</td><td style = \"text-align: right;\">&vellip;</td><td style = \"text-align: right;\">&vellip;</td><td style = \"text-align: right;\">&vellip;</td><td style = \"text-align: right;\">&vellip;</td><td style = \"text-align: right;\">&vellip;</td><td style = \"text-align: right;\">&vellip;</td><td style = \"text-align: right;\">&vellip;</td><td style = \"text-align: right;\">&vellip;</td><td style = \"text-align: right;\">&vellip;</td><td style = \"text-align: right;\">&vellip;</td><td style = \"text-align: right;\">&vellip;</td><td style = \"text-align: right;\">&vellip;</td><td style = \"text-align: right;\">&vellip;</td><td style = \"text-align: right;\">&vellip;</td><td style = \"text-align: right;\">&vellip;</td><td style = \"text-align: right;\">&vellip;</td><td style = \"text-align: right;\">&vellip;</td><td style = \"text-align: right;\">&vellip;</td><td style = \"text-align: right;\">&vellip;</td><td style = \"text-align: right;\">&vellip;</td><td style = \"text-align: right;\">&vellip;</td><td style = \"text-align: right;\">&vellip;</td><td style = \"text-align: right;\">&vellip;</td><td style = \"text-align: right;\">&vellip;</td><td style = \"text-align: right;\">&vellip;</td><td style = \"text-align: right;\">&vellip;</td><td style = \"text-align: right;\">&vellip;</td><td style = \"text-align: right;\">&vellip;</td><td style = \"text-align: right;\">&vellip;</td><td style = \"text-align: right;\">&vellip;</td><td style = \"text-align: right;\">&vellip;</td><td style = \"text-align: right;\">&vellip;</td><td style = \"text-align: right;\">&vellip;</td><td style = \"text-align: right;\">&vellip;</td><td style = \"text-align: right;\">&vellip;</td><td style = \"text-align: right;\">&vellip;</td><td style = \"text-align: right;\">&vellip;</td><td style = \"text-align: right;\">&vellip;</td><td style = \"text-align: right;\">&vellip;</td><td style = \"text-align: right;\">&vellip;</td><td style = \"text-align: right;\">&vellip;</td><td style = \"text-align: right;\">&vellip;</td><td style = \"text-align: right;\">&vellip;</td><td style = \"text-align: right;\">&vellip;</td><td style = \"text-align: right;\">&vellip;</td><td style = \"text-align: right;\">&vellip;</td><td style = \"text-align: right;\">&vellip;</td><td style = \"text-align: right;\">&vellip;</td><td style = \"text-align: right;\">&vellip;</td><td style = \"text-align: right;\">&vellip;</td><td style = \"text-align: right;\">&vellip;</td><td style = \"text-align: right;\">&vellip;</td><td style = \"text-align: right;\">&vellip;</td><td style = \"text-align: right;\">&vellip;</td><td style = \"text-align: right;\">&vellip;</td><td style = \"text-align: right;\">&vellip;</td><td style = \"text-align: right;\">&vellip;</td><td style = \"text-align: right;\">&vellip;</td><td style = \"text-align: right;\">&vellip;</td><td style = \"text-align: right;\">&vellip;</td><td style = \"text-align: right;\">&vellip;</td><td style = \"text-align: right;\">&vellip;</td><td style = \"text-align: right;\">&vellip;</td><td style = \"text-align: right;\">&vellip;</td><td style = \"text-align: right;\">&vellip;</td><td style = \"text-align: right;\">&vellip;</td><td style = \"text-align: right;\">&vellip;</td><td style = \"text-align: right;\">&vellip;</td><td style = \"text-align: right;\">&vellip;</td><td style = \"text-align: right;\">&vellip;</td><td style = \"text-align: right;\">&vellip;</td><td style = \"text-align: right;\">&vellip;</td><td style = \"text-align: right;\">&vellip;</td><td style = \"text-align: right;\">&vellip;</td><td style = \"text-align: right;\">&vellip;</td><td style = \"text-align: right;\">&vellip;</td><td style = \"text-align: right;\">&vellip;</td><td style = \"text-align: right;\">&vellip;</td><td style = \"text-align: right;\">&vellip;</td><td style = \"text-align: right;\">&vellip;</td><td style = \"text-align: right;\">&vellip;</td><td style = \"text-align: right;\">&vellip;</td><td style = \"text-align: right;\">&vellip;</td><td style = \"text-align: right;\">&vellip;</td><td style = \"text-align: right;\">&vellip;</td><td style = \"text-align: right;\">&vellip;</td><td style = \"text-align: right;\">&vellip;</td><td style = \"text-align: right;\">&vellip;</td><td style = \"text-align: right;\">&vellip;</td><td style = \"text-align: right;\">&vellip;</td><td style = \"text-align: right;\">&vellip;</td><td style = \"text-align: right;\">&vellip;</td><td style = \"text-align: right;\">&vellip;</td><td style = \"text-align: right;\">&vellip;</td><td style = \"text-align: right;\">&vellip;</td><td style = \"text-align: right;\">&vellip;</td><td style = \"text-align: right;\">&vellip;</td><td style = \"text-align: right;\">&dtdot;</td></tr><tr><td class = \"rowNumber\" style = \"font-weight: bold; text-align: right;\">89</td><td style = \"text-align: right;\">0.677229</td><td style = \"text-align: right;\">0.733913</td><td style = \"text-align: right;\">0.169016</td><td style = \"text-align: right;\">0.916933</td><td style = \"text-align: right;\">0.829584</td><td style = \"text-align: right;\">0.0460236</td><td style = \"text-align: right;\">0.452175</td><td style = \"text-align: right;\">0.774992</td><td style = \"text-align: right;\">0.612288</td><td style = \"text-align: right;\">0.800227</td><td style = \"text-align: right;\">0.35208</td><td style = \"text-align: right;\">0.545927</td><td style = \"text-align: right;\">0.418427</td><td style = \"text-align: right;\">0.877409</td><td style = \"text-align: right;\">0.478288</td><td style = \"text-align: right;\">0.0162934</td><td style = \"text-align: right;\">0.408882</td><td style = \"text-align: right;\">0.629262</td><td style = \"text-align: right;\">0.631437</td><td style = \"text-align: right;\">0.746005</td><td style = \"text-align: right;\">0.717303</td><td style = \"text-align: right;\">0.993472</td><td style = \"text-align: right;\">0.845023</td><td style = \"text-align: right;\">0.623176</td><td style = \"text-align: right;\">0.092639</td><td style = \"text-align: right;\">0.683784</td><td style = \"text-align: right;\">0.730587</td><td style = \"text-align: right;\">0.142819</td><td style = \"text-align: right;\">0.674016</td><td style = \"text-align: right;\">0.366833</td><td style = \"text-align: right;\">0.307439</td><td style = \"text-align: right;\">0.270928</td><td style = \"text-align: right;\">0.406201</td><td style = \"text-align: right;\">0.435674</td><td style = \"text-align: right;\">0.304021</td><td style = \"text-align: right;\">0.274046</td><td style = \"text-align: right;\">0.571</td><td style = \"text-align: right;\">0.157074</td><td style = \"text-align: right;\">0.566828</td><td style = \"text-align: right;\">0.700468</td><td style = \"text-align: right;\">0.924884</td><td style = \"text-align: right;\">0.943439</td><td style = \"text-align: right;\">0.618681</td><td style = \"text-align: right;\">0.0693592</td><td style = \"text-align: right;\">0.11135</td><td style = \"text-align: right;\">0.0381961</td><td style = \"text-align: right;\">0.649062</td><td style = \"text-align: right;\">0.948498</td><td style = \"text-align: right;\">0.0122604</td><td style = \"text-align: right;\">0.946249</td><td style = \"text-align: right;\">0.746774</td><td style = \"text-align: right;\">0.26651</td><td style = \"text-align: right;\">0.472102</td><td style = \"text-align: right;\">0.90674</td><td style = \"text-align: right;\">0.0975643</td><td style = \"text-align: right;\">0.941935</td><td style = \"text-align: right;\">0.295838</td><td style = \"text-align: right;\">0.999215</td><td style = \"text-align: right;\">0.142114</td><td style = \"text-align: right;\">0.965403</td><td style = \"text-align: right;\">0.970379</td><td style = \"text-align: right;\">0.656237</td><td style = \"text-align: right;\">0.149833</td><td style = \"text-align: right;\">0.870959</td><td style = \"text-align: right;\">0.262863</td><td style = \"text-align: right;\">0.871865</td><td style = \"text-align: right;\">0.819128</td><td style = \"text-align: right;\">0.508289</td><td style = \"text-align: right;\">0.108555</td><td style = \"text-align: right;\">0.191294</td><td style = \"text-align: right;\">0.610908</td><td style = \"text-align: right;\">0.62703</td><td style = \"text-align: right;\">0.668154</td><td style = \"text-align: right;\">0.381389</td><td style = \"text-align: right;\">0.930869</td><td style = \"text-align: right;\">0.648307</td><td style = \"text-align: right;\">0.902304</td><td style = \"text-align: right;\">0.969676</td><td style = \"text-align: right;\">0.156743</td><td style = \"text-align: right;\">0.512711</td><td style = \"text-align: right;\">0.785406</td><td style = \"text-align: right;\">0.718534</td><td style = \"text-align: right;\">0.214851</td><td style = \"text-align: right;\">0.200745</td><td style = \"text-align: right;\">0.665651</td><td style = \"text-align: right;\">0.295973</td><td style = \"text-align: right;\">0.323805</td><td style = \"text-align: right;\">0.294449</td><td style = \"text-align: right;\">0.364532</td><td style = \"text-align: right;\">0.683942</td><td style = \"text-align: right;\">0.544484</td><td style = \"text-align: right;\">0.514506</td><td style = \"text-align: right;\">0.182826</td><td style = \"text-align: right;\">0.2991</td><td style = \"text-align: right;\">0.577599</td><td style = \"text-align: right;\">0.614806</td><td style = \"text-align: right;\">0.632698</td><td style = \"text-align: right;\">0.925636</td><td style = \"text-align: right;\">0.81336</td><td style = \"text-align: right;\">0.807087</td><td style = \"text-align: right;\">&ctdot;</td></tr><tr><td class = \"rowNumber\" style = \"font-weight: bold; text-align: right;\">90</td><td style = \"text-align: right;\">0.621815</td><td style = \"text-align: right;\">0.803653</td><td style = \"text-align: right;\">0.929645</td><td style = \"text-align: right;\">0.851111</td><td style = \"text-align: right;\">0.292808</td><td style = \"text-align: right;\">0.76434</td><td style = \"text-align: right;\">0.081878</td><td style = \"text-align: right;\">0.525224</td><td style = \"text-align: right;\">0.805944</td><td style = \"text-align: right;\">0.45873</td><td style = \"text-align: right;\">0.448808</td><td style = \"text-align: right;\">0.697815</td><td style = \"text-align: right;\">0.320971</td><td style = \"text-align: right;\">0.350436</td><td style = \"text-align: right;\">0.196763</td><td style = \"text-align: right;\">0.866647</td><td style = \"text-align: right;\">0.543562</td><td style = \"text-align: right;\">0.250242</td><td style = \"text-align: right;\">0.86832</td><td style = \"text-align: right;\">0.658048</td><td style = \"text-align: right;\">0.220473</td><td style = \"text-align: right;\">0.970437</td><td style = \"text-align: right;\">0.105959</td><td style = \"text-align: right;\">0.572743</td><td style = \"text-align: right;\">0.172214</td><td style = \"text-align: right;\">0.462028</td><td style = \"text-align: right;\">0.605682</td><td style = \"text-align: right;\">0.968726</td><td style = \"text-align: right;\">0.025084</td><td style = \"text-align: right;\">0.785725</td><td style = \"text-align: right;\">0.202111</td><td style = \"text-align: right;\">0.543682</td><td style = \"text-align: right;\">0.965878</td><td style = \"text-align: right;\">0.694576</td><td style = \"text-align: right;\">0.713178</td><td style = \"text-align: right;\">0.0132669</td><td style = \"text-align: right;\">0.536312</td><td style = \"text-align: right;\">0.735531</td><td style = \"text-align: right;\">0.518591</td><td style = \"text-align: right;\">0.79738</td><td style = \"text-align: right;\">0.968164</td><td style = \"text-align: right;\">0.199987</td><td style = \"text-align: right;\">0.916866</td><td style = \"text-align: right;\">0.141659</td><td style = \"text-align: right;\">0.809327</td><td style = \"text-align: right;\">0.548464</td><td style = \"text-align: right;\">0.902559</td><td style = \"text-align: right;\">0.191176</td><td style = \"text-align: right;\">0.361135</td><td style = \"text-align: right;\">0.338072</td><td style = \"text-align: right;\">0.580698</td><td style = \"text-align: right;\">0.100978</td><td style = \"text-align: right;\">0.830941</td><td style = \"text-align: right;\">0.207904</td><td style = \"text-align: right;\">0.55963</td><td style = \"text-align: right;\">0.946406</td><td style = \"text-align: right;\">0.0691613</td><td style = \"text-align: right;\">0.858533</td><td style = \"text-align: right;\">0.488825</td><td style = \"text-align: right;\">0.578454</td><td style = \"text-align: right;\">0.751325</td><td style = \"text-align: right;\">0.708551</td><td style = \"text-align: right;\">0.0154702</td><td style = \"text-align: right;\">0.368599</td><td style = \"text-align: right;\">0.601103</td><td style = \"text-align: right;\">0.485143</td><td style = \"text-align: right;\">0.874526</td><td style = \"text-align: right;\">0.265267</td><td style = \"text-align: right;\">0.203253</td><td style = \"text-align: right;\">0.429283</td><td style = \"text-align: right;\">0.411183</td><td style = \"text-align: right;\">0.7964</td><td style = \"text-align: right;\">0.325301</td><td style = \"text-align: right;\">0.772275</td><td style = \"text-align: right;\">0.345144</td><td style = \"text-align: right;\">0.198541</td><td style = \"text-align: right;\">0.158504</td><td style = \"text-align: right;\">0.830274</td><td style = \"text-align: right;\">0.273227</td><td style = \"text-align: right;\">0.539461</td><td style = \"text-align: right;\">0.9935</td><td style = \"text-align: right;\">0.714115</td><td style = \"text-align: right;\">0.910568</td><td style = \"text-align: right;\">0.98906</td><td style = \"text-align: right;\">0.562509</td><td style = \"text-align: right;\">0.685451</td><td style = \"text-align: right;\">0.831762</td><td style = \"text-align: right;\">0.15296</td><td style = \"text-align: right;\">0.135747</td><td style = \"text-align: right;\">0.00901296</td><td style = \"text-align: right;\">0.50204</td><td style = \"text-align: right;\">0.443144</td><td style = \"text-align: right;\">0.200989</td><td style = \"text-align: right;\">0.191219</td><td style = \"text-align: right;\">0.504187</td><td style = \"text-align: right;\">0.343784</td><td style = \"text-align: right;\">0.319507</td><td style = \"text-align: right;\">0.954677</td><td style = \"text-align: right;\">0.104334</td><td style = \"text-align: right;\">0.705776</td><td style = \"text-align: right;\">&ctdot;</td></tr><tr><td class = \"rowNumber\" style = \"font-weight: bold; text-align: right;\">91</td><td style = \"text-align: right;\">0.583313</td><td style = \"text-align: right;\">0.488746</td><td style = \"text-align: right;\">0.952546</td><td style = \"text-align: right;\">0.280953</td><td style = \"text-align: right;\">0.102099</td><td style = \"text-align: right;\">0.298825</td><td style = \"text-align: right;\">0.315629</td><td style = \"text-align: right;\">0.862551</td><td style = \"text-align: right;\">1.32769e-5</td><td style = \"text-align: right;\">0.224086</td><td style = \"text-align: right;\">0.692733</td><td style = \"text-align: right;\">0.304893</td><td style = \"text-align: right;\">0.154425</td><td style = \"text-align: right;\">0.671157</td><td style = \"text-align: right;\">0.910099</td><td style = \"text-align: right;\">0.712013</td><td style = \"text-align: right;\">0.498084</td><td style = \"text-align: right;\">0.824797</td><td style = \"text-align: right;\">0.889867</td><td style = \"text-align: right;\">0.839664</td><td style = \"text-align: right;\">0.288525</td><td style = \"text-align: right;\">0.0135442</td><td style = \"text-align: right;\">0.822701</td><td style = \"text-align: right;\">0.951518</td><td style = \"text-align: right;\">0.633365</td><td style = \"text-align: right;\">0.280248</td><td style = \"text-align: right;\">0.101984</td><td style = \"text-align: right;\">0.17372</td><td style = \"text-align: right;\">0.346516</td><td style = \"text-align: right;\">0.889867</td><td style = \"text-align: right;\">0.937902</td><td style = \"text-align: right;\">0.779359</td><td style = \"text-align: right;\">0.249296</td><td style = \"text-align: right;\">0.875911</td><td style = \"text-align: right;\">0.164534</td><td style = \"text-align: right;\">0.000593764</td><td style = \"text-align: right;\">0.0753111</td><td style = \"text-align: right;\">0.516636</td><td style = \"text-align: right;\">0.469805</td><td style = \"text-align: right;\">0.853462</td><td style = \"text-align: right;\">0.0358407</td><td style = \"text-align: right;\">0.766439</td><td style = \"text-align: right;\">0.560939</td><td style = \"text-align: right;\">0.886989</td><td style = \"text-align: right;\">0.970173</td><td style = \"text-align: right;\">0.602385</td><td style = \"text-align: right;\">0.363195</td><td style = \"text-align: right;\">0.841876</td><td style = \"text-align: right;\">0.327029</td><td style = \"text-align: right;\">0.385197</td><td style = \"text-align: right;\">0.758565</td><td style = \"text-align: right;\">0.899289</td><td style = \"text-align: right;\">0.12519</td><td style = \"text-align: right;\">0.459658</td><td style = \"text-align: right;\">0.881526</td><td style = \"text-align: right;\">0.47814</td><td style = \"text-align: right;\">0.405101</td><td style = \"text-align: right;\">0.432116</td><td style = \"text-align: right;\">0.345426</td><td style = \"text-align: right;\">0.274784</td><td style = \"text-align: right;\">0.108796</td><td style = \"text-align: right;\">0.820201</td><td style = \"text-align: right;\">0.615991</td><td style = \"text-align: right;\">0.290004</td><td style = \"text-align: right;\">0.533517</td><td style = \"text-align: right;\">0.218043</td><td style = \"text-align: right;\">0.145419</td><td style = \"text-align: right;\">0.660957</td><td style = \"text-align: right;\">0.976681</td><td style = \"text-align: right;\">0.00367022</td><td style = \"text-align: right;\">0.405694</td><td style = \"text-align: right;\">0.191329</td><td style = \"text-align: right;\">0.239974</td><td style = \"text-align: right;\">0.477976</td><td style = \"text-align: right;\">0.684869</td><td style = \"text-align: right;\">0.146058</td><td style = \"text-align: right;\">0.402607</td><td style = \"text-align: right;\">0.0313328</td><td style = \"text-align: right;\">0.119311</td><td style = \"text-align: right;\">0.630935</td><td style = \"text-align: right;\">0.264635</td><td style = \"text-align: right;\">0.118171</td><td style = \"text-align: right;\">0.764784</td><td style = \"text-align: right;\">0.54876</td><td style = \"text-align: right;\">0.106226</td><td style = \"text-align: right;\">0.518627</td><td style = \"text-align: right;\">0.140773</td><td style = \"text-align: right;\">0.260145</td><td style = \"text-align: right;\">0.631697</td><td style = \"text-align: right;\">0.511648</td><td style = \"text-align: right;\">0.523628</td><td style = \"text-align: right;\">0.302974</td><td style = \"text-align: right;\">0.247851</td><td style = \"text-align: right;\">0.00211743</td><td style = \"text-align: right;\">0.483938</td><td style = \"text-align: right;\">0.2498</td><td style = \"text-align: right;\">0.0702875</td><td style = \"text-align: right;\">0.442837</td><td style = \"text-align: right;\">0.527659</td><td style = \"text-align: right;\">0.500875</td><td style = \"text-align: right;\">&ctdot;</td></tr><tr><td class = \"rowNumber\" style = \"font-weight: bold; text-align: right;\">92</td><td style = \"text-align: right;\">0.512762</td><td style = \"text-align: right;\">0.872749</td><td style = \"text-align: right;\">0.344774</td><td style = \"text-align: right;\">0.132688</td><td style = \"text-align: right;\">0.19228</td><td style = \"text-align: right;\">0.483912</td><td style = \"text-align: right;\">0.821235</td><td style = \"text-align: right;\">0.36496</td><td style = \"text-align: right;\">0.97489</td><td style = \"text-align: right;\">0.877157</td><td style = \"text-align: right;\">0.121216</td><td style = \"text-align: right;\">0.328659</td><td style = \"text-align: right;\">0.412053</td><td style = \"text-align: right;\">0.0973498</td><td style = \"text-align: right;\">0.082464</td><td style = \"text-align: right;\">0.66713</td><td style = \"text-align: right;\">0.929145</td><td style = \"text-align: right;\">0.46912</td><td style = \"text-align: right;\">0.439387</td><td style = \"text-align: right;\">0.748342</td><td style = \"text-align: right;\">0.982015</td><td style = \"text-align: right;\">0.266104</td><td style = \"text-align: right;\">0.391366</td><td style = \"text-align: right;\">0.710458</td><td style = \"text-align: right;\">0.67316</td><td style = \"text-align: right;\">0.398701</td><td style = \"text-align: right;\">0.08992</td><td style = \"text-align: right;\">0.544587</td><td style = \"text-align: right;\">0.104223</td><td style = \"text-align: right;\">0.254357</td><td style = \"text-align: right;\">0.272363</td><td style = \"text-align: right;\">0.184092</td><td style = \"text-align: right;\">0.830169</td><td style = \"text-align: right;\">0.833519</td><td style = \"text-align: right;\">0.140204</td><td style = \"text-align: right;\">0.56173</td><td style = \"text-align: right;\">0.0432437</td><td style = \"text-align: right;\">0.993894</td><td style = \"text-align: right;\">0.590333</td><td style = \"text-align: right;\">0.101375</td><td style = \"text-align: right;\">0.827147</td><td style = \"text-align: right;\">0.318929</td><td style = \"text-align: right;\">0.789062</td><td style = \"text-align: right;\">0.935846</td><td style = \"text-align: right;\">0.752454</td><td style = \"text-align: right;\">0.437315</td><td style = \"text-align: right;\">0.0340349</td><td style = \"text-align: right;\">0.965645</td><td style = \"text-align: right;\">0.330153</td><td style = \"text-align: right;\">0.817945</td><td style = \"text-align: right;\">0.683253</td><td style = \"text-align: right;\">0.932937</td><td style = \"text-align: right;\">0.639738</td><td style = \"text-align: right;\">0.611801</td><td style = \"text-align: right;\">0.0231904</td><td style = \"text-align: right;\">0.109185</td><td style = \"text-align: right;\">0.767116</td><td style = \"text-align: right;\">0.013002</td><td style = \"text-align: right;\">0.193954</td><td style = \"text-align: right;\">0.358011</td><td style = \"text-align: right;\">0.202239</td><td style = \"text-align: right;\">0.279552</td><td style = \"text-align: right;\">0.664132</td><td style = \"text-align: right;\">0.523638</td><td style = \"text-align: right;\">0.0753174</td><td style = \"text-align: right;\">0.791906</td><td style = \"text-align: right;\">0.27372</td><td style = \"text-align: right;\">0.226074</td><td style = \"text-align: right;\">0.342314</td><td style = \"text-align: right;\">0.33351</td><td style = \"text-align: right;\">0.96806</td><td style = \"text-align: right;\">0.654963</td><td style = \"text-align: right;\">0.234482</td><td style = \"text-align: right;\">0.534829</td><td style = \"text-align: right;\">0.64847</td><td style = \"text-align: right;\">0.683314</td><td style = \"text-align: right;\">0.076129</td><td style = \"text-align: right;\">0.68978</td><td style = \"text-align: right;\">0.201721</td><td style = \"text-align: right;\">0.681312</td><td style = \"text-align: right;\">0.959381</td><td style = \"text-align: right;\">0.734239</td><td style = \"text-align: right;\">0.209721</td><td style = \"text-align: right;\">0.665409</td><td style = \"text-align: right;\">0.345976</td><td style = \"text-align: right;\">0.907703</td><td style = \"text-align: right;\">0.084425</td><td style = \"text-align: right;\">0.979294</td><td style = \"text-align: right;\">0.19489</td><td style = \"text-align: right;\">0.654198</td><td style = \"text-align: right;\">0.861799</td><td style = \"text-align: right;\">0.133993</td><td style = \"text-align: right;\">0.203806</td><td style = \"text-align: right;\">0.582329</td><td style = \"text-align: right;\">0.00910769</td><td style = \"text-align: right;\">0.875895</td><td style = \"text-align: right;\">0.734722</td><td style = \"text-align: right;\">0.138977</td><td style = \"text-align: right;\">0.40717</td><td style = \"text-align: right;\">0.209423</td><td style = \"text-align: right;\">&ctdot;</td></tr><tr><td class = \"rowNumber\" style = \"font-weight: bold; text-align: right;\">93</td><td style = \"text-align: right;\">0.426916</td><td style = \"text-align: right;\">0.777096</td><td style = \"text-align: right;\">0.809411</td><td style = \"text-align: right;\">0.295369</td><td style = \"text-align: right;\">0.872829</td><td style = \"text-align: right;\">0.0246804</td><td style = \"text-align: right;\">0.346144</td><td style = \"text-align: right;\">0.423175</td><td style = \"text-align: right;\">0.632115</td><td style = \"text-align: right;\">0.0325666</td><td style = \"text-align: right;\">0.684937</td><td style = \"text-align: right;\">0.858173</td><td style = \"text-align: right;\">0.142885</td><td style = \"text-align: right;\">0.720438</td><td style = \"text-align: right;\">0.518567</td><td style = \"text-align: right;\">0.022271</td><td style = \"text-align: right;\">0.379839</td><td style = \"text-align: right;\">0.97311</td><td style = \"text-align: right;\">0.498211</td><td style = \"text-align: right;\">0.432661</td><td style = \"text-align: right;\">0.0219048</td><td style = \"text-align: right;\">0.114091</td><td style = \"text-align: right;\">0.714581</td><td style = \"text-align: right;\">0.996383</td><td style = \"text-align: right;\">0.212503</td><td style = \"text-align: right;\">0.947923</td><td style = \"text-align: right;\">0.407071</td><td style = \"text-align: right;\">0.956291</td><td style = \"text-align: right;\">0.688419</td><td style = \"text-align: right;\">0.254682</td><td style = \"text-align: right;\">0.667259</td><td style = \"text-align: right;\">0.126178</td><td style = \"text-align: right;\">0.46118</td><td style = \"text-align: right;\">0.827449</td><td style = \"text-align: right;\">0.522817</td><td style = \"text-align: right;\">0.516983</td><td style = \"text-align: right;\">0.623372</td><td style = \"text-align: right;\">0.55686</td><td style = \"text-align: right;\">0.10701</td><td style = \"text-align: right;\">0.538265</td><td style = \"text-align: right;\">0.684856</td><td style = \"text-align: right;\">0.679761</td><td style = \"text-align: right;\">0.432357</td><td style = \"text-align: right;\">0.910726</td><td style = \"text-align: right;\">0.270944</td><td style = \"text-align: right;\">0.279642</td><td style = \"text-align: right;\">0.714</td><td style = \"text-align: right;\">0.469851</td><td style = \"text-align: right;\">0.788601</td><td style = \"text-align: right;\">0.363333</td><td style = \"text-align: right;\">0.664503</td><td style = \"text-align: right;\">0.62906</td><td style = \"text-align: right;\">0.830718</td><td style = \"text-align: right;\">0.854474</td><td style = \"text-align: right;\">0.388796</td><td style = \"text-align: right;\">0.278829</td><td style = \"text-align: right;\">0.288507</td><td style = \"text-align: right;\">0.594739</td><td style = \"text-align: right;\">0.35013</td><td style = \"text-align: right;\">0.29268</td><td style = \"text-align: right;\">0.0165237</td><td style = \"text-align: right;\">0.975531</td><td style = \"text-align: right;\">0.460283</td><td style = \"text-align: right;\">0.243691</td><td style = \"text-align: right;\">0.903191</td><td style = \"text-align: right;\">0.283683</td><td style = \"text-align: right;\">0.559901</td><td style = \"text-align: right;\">0.967622</td><td style = \"text-align: right;\">0.62233</td><td style = \"text-align: right;\">0.255259</td><td style = \"text-align: right;\">0.087713</td><td style = \"text-align: right;\">0.150139</td><td style = \"text-align: right;\">0.486045</td><td style = \"text-align: right;\">0.305148</td><td style = \"text-align: right;\">0.585591</td><td style = \"text-align: right;\">0.705052</td><td style = \"text-align: right;\">0.0147834</td><td style = \"text-align: right;\">0.916081</td><td style = \"text-align: right;\">0.0494261</td><td style = \"text-align: right;\">0.806848</td><td style = \"text-align: right;\">0.524933</td><td style = \"text-align: right;\">0.733984</td><td style = \"text-align: right;\">0.652086</td><td style = \"text-align: right;\">0.0732327</td><td style = \"text-align: right;\">0.801096</td><td style = \"text-align: right;\">0.201692</td><td style = \"text-align: right;\">0.438657</td><td style = \"text-align: right;\">0.62281</td><td style = \"text-align: right;\">0.610387</td><td style = \"text-align: right;\">0.0491398</td><td style = \"text-align: right;\">0.808246</td><td style = \"text-align: right;\">0.937936</td><td style = \"text-align: right;\">0.386092</td><td style = \"text-align: right;\">0.809144</td><td style = \"text-align: right;\">0.822798</td><td style = \"text-align: right;\">0.130259</td><td style = \"text-align: right;\">0.475939</td><td style = \"text-align: right;\">0.340186</td><td style = \"text-align: right;\">0.920267</td><td style = \"text-align: right;\">0.663382</td><td style = \"text-align: right;\">&ctdot;</td></tr><tr><td class = \"rowNumber\" style = \"font-weight: bold; text-align: right;\">94</td><td style = \"text-align: right;\">0.957615</td><td style = \"text-align: right;\">0.268465</td><td style = \"text-align: right;\">0.78976</td><td style = \"text-align: right;\">0.837829</td><td style = \"text-align: right;\">0.607297</td><td style = \"text-align: right;\">0.167805</td><td style = \"text-align: right;\">0.509233</td><td style = \"text-align: right;\">0.394516</td><td style = \"text-align: right;\">0.657445</td><td style = \"text-align: right;\">0.362107</td><td style = \"text-align: right;\">0.278195</td><td style = \"text-align: right;\">0.219317</td><td style = \"text-align: right;\">0.222017</td><td style = \"text-align: right;\">0.232288</td><td style = \"text-align: right;\">0.352871</td><td style = \"text-align: right;\">0.101127</td><td style = \"text-align: right;\">0.171261</td><td style = \"text-align: right;\">0.114537</td><td style = \"text-align: right;\">0.332149</td><td style = \"text-align: right;\">0.110222</td><td style = \"text-align: right;\">0.933622</td><td style = \"text-align: right;\">0.114806</td><td style = \"text-align: right;\">0.187962</td><td style = \"text-align: right;\">0.567394</td><td style = \"text-align: right;\">0.94691</td><td style = \"text-align: right;\">0.504262</td><td style = \"text-align: right;\">0.256786</td><td style = \"text-align: right;\">0.109301</td><td style = \"text-align: right;\">0.891305</td><td style = \"text-align: right;\">0.346077</td><td style = \"text-align: right;\">0.0248599</td><td style = \"text-align: right;\">0.150918</td><td style = \"text-align: right;\">0.110459</td><td style = \"text-align: right;\">0.478499</td><td style = \"text-align: right;\">0.822536</td><td style = \"text-align: right;\">0.901588</td><td style = \"text-align: right;\">0.346787</td><td style = \"text-align: right;\">0.0256193</td><td style = \"text-align: right;\">0.0710382</td><td style = \"text-align: right;\">0.558559</td><td style = \"text-align: right;\">0.80225</td><td style = \"text-align: right;\">0.562632</td><td style = \"text-align: right;\">0.788054</td><td style = \"text-align: right;\">0.611091</td><td style = \"text-align: right;\">0.346957</td><td style = \"text-align: right;\">0.750792</td><td style = \"text-align: right;\">0.52898</td><td style = \"text-align: right;\">0.32743</td><td style = \"text-align: right;\">0.0990318</td><td style = \"text-align: right;\">0.672848</td><td style = \"text-align: right;\">0.020787</td><td style = \"text-align: right;\">0.401277</td><td style = \"text-align: right;\">0.487177</td><td style = \"text-align: right;\">0.191494</td><td style = \"text-align: right;\">0.860669</td><td style = \"text-align: right;\">0.937857</td><td style = \"text-align: right;\">0.582336</td><td style = \"text-align: right;\">0.330016</td><td style = \"text-align: right;\">0.680261</td><td style = \"text-align: right;\">0.36073</td><td style = \"text-align: right;\">0.608297</td><td style = \"text-align: right;\">0.229802</td><td style = \"text-align: right;\">0.534775</td><td style = \"text-align: right;\">0.280227</td><td style = \"text-align: right;\">0.406908</td><td style = \"text-align: right;\">0.423556</td><td style = \"text-align: right;\">0.4987</td><td style = \"text-align: right;\">0.0967453</td><td style = \"text-align: right;\">0.491169</td><td style = \"text-align: right;\">0.3586</td><td style = \"text-align: right;\">0.854336</td><td style = \"text-align: right;\">0.163667</td><td style = \"text-align: right;\">0.657106</td><td style = \"text-align: right;\">0.646361</td><td style = \"text-align: right;\">0.656373</td><td style = \"text-align: right;\">0.45151</td><td style = \"text-align: right;\">0.0415388</td><td style = \"text-align: right;\">0.734338</td><td style = \"text-align: right;\">0.458316</td><td style = \"text-align: right;\">0.0944109</td><td style = \"text-align: right;\">0.819307</td><td style = \"text-align: right;\">0.913234</td><td style = \"text-align: right;\">0.870352</td><td style = \"text-align: right;\">0.408041</td><td style = \"text-align: right;\">0.031502</td><td style = \"text-align: right;\">0.344473</td><td style = \"text-align: right;\">0.0814004</td><td style = \"text-align: right;\">0.509422</td><td style = \"text-align: right;\">0.252154</td><td style = \"text-align: right;\">0.541638</td><td style = \"text-align: right;\">0.710744</td><td style = \"text-align: right;\">0.0218639</td><td style = \"text-align: right;\">0.989125</td><td style = \"text-align: right;\">0.408155</td><td style = \"text-align: right;\">0.112118</td><td style = \"text-align: right;\">0.305687</td><td style = \"text-align: right;\">0.00616022</td><td style = \"text-align: right;\">0.548875</td><td style = \"text-align: right;\">0.547566</td><td style = \"text-align: right;\">0.742498</td><td style = \"text-align: right;\">&ctdot;</td></tr><tr><td class = \"rowNumber\" style = \"font-weight: bold; text-align: right;\">95</td><td style = \"text-align: right;\">0.714871</td><td style = \"text-align: right;\">0.935149</td><td style = \"text-align: right;\">0.655696</td><td style = \"text-align: right;\">0.442315</td><td style = \"text-align: right;\">0.72654</td><td style = \"text-align: right;\">0.742891</td><td style = \"text-align: right;\">0.611753</td><td style = \"text-align: right;\">0.469421</td><td style = \"text-align: right;\">0.720288</td><td style = \"text-align: right;\">0.115079</td><td style = \"text-align: right;\">0.320048</td><td style = \"text-align: right;\">0.757054</td><td style = \"text-align: right;\">0.240429</td><td style = \"text-align: right;\">0.920435</td><td style = \"text-align: right;\">0.0696615</td><td style = \"text-align: right;\">0.650772</td><td style = \"text-align: right;\">0.169738</td><td style = \"text-align: right;\">0.958251</td><td style = \"text-align: right;\">0.893283</td><td style = \"text-align: right;\">0.527071</td><td style = \"text-align: right;\">0.644934</td><td style = \"text-align: right;\">0.0686595</td><td style = \"text-align: right;\">0.0149078</td><td style = \"text-align: right;\">0.452197</td><td style = \"text-align: right;\">0.145804</td><td style = \"text-align: right;\">0.152041</td><td style = \"text-align: right;\">0.800236</td><td style = \"text-align: right;\">0.767327</td><td style = \"text-align: right;\">0.922529</td><td style = \"text-align: right;\">0.668266</td><td style = \"text-align: right;\">0.594942</td><td style = \"text-align: right;\">0.569415</td><td style = \"text-align: right;\">0.224923</td><td style = \"text-align: right;\">0.354586</td><td style = \"text-align: right;\">0.393582</td><td style = \"text-align: right;\">0.10559</td><td style = \"text-align: right;\">0.785878</td><td style = \"text-align: right;\">0.142622</td><td style = \"text-align: right;\">0.203552</td><td style = \"text-align: right;\">0.822142</td><td style = \"text-align: right;\">0.0053032</td><td style = \"text-align: right;\">0.017174</td><td style = \"text-align: right;\">0.726877</td><td style = \"text-align: right;\">0.170591</td><td style = \"text-align: right;\">0.961709</td><td style = \"text-align: right;\">0.925412</td><td style = \"text-align: right;\">0.207561</td><td style = \"text-align: right;\">0.425963</td><td style = \"text-align: right;\">0.770879</td><td style = \"text-align: right;\">0.0602515</td><td style = \"text-align: right;\">0.339701</td><td style = \"text-align: right;\">0.314039</td><td style = \"text-align: right;\">0.545498</td><td style = \"text-align: right;\">0.256069</td><td style = \"text-align: right;\">0.976193</td><td style = \"text-align: right;\">0.93319</td><td style = \"text-align: right;\">0.318187</td><td style = \"text-align: right;\">0.506687</td><td style = \"text-align: right;\">0.0918448</td><td style = \"text-align: right;\">0.30095</td><td style = \"text-align: right;\">0.847016</td><td style = \"text-align: right;\">0.772944</td><td style = \"text-align: right;\">0.563802</td><td style = \"text-align: right;\">0.681872</td><td style = \"text-align: right;\">0.379141</td><td style = \"text-align: right;\">0.545482</td><td style = \"text-align: right;\">0.482627</td><td style = \"text-align: right;\">0.273971</td><td style = \"text-align: right;\">0.315912</td><td style = \"text-align: right;\">0.903972</td><td style = \"text-align: right;\">0.853203</td><td style = \"text-align: right;\">0.0757618</td><td style = \"text-align: right;\">0.276876</td><td style = \"text-align: right;\">0.100651</td><td style = \"text-align: right;\">0.43159</td><td style = \"text-align: right;\">0.499802</td><td style = \"text-align: right;\">0.746097</td><td style = \"text-align: right;\">0.288454</td><td style = \"text-align: right;\">0.594602</td><td style = \"text-align: right;\">0.845274</td><td style = \"text-align: right;\">0.661402</td><td style = \"text-align: right;\">0.728321</td><td style = \"text-align: right;\">0.954331</td><td style = \"text-align: right;\">0.39186</td><td style = \"text-align: right;\">0.61946</td><td style = \"text-align: right;\">0.551211</td><td style = \"text-align: right;\">0.457494</td><td style = \"text-align: right;\">0.26725</td><td style = \"text-align: right;\">0.583704</td><td style = \"text-align: right;\">0.215294</td><td style = \"text-align: right;\">0.473052</td><td style = \"text-align: right;\">0.774017</td><td style = \"text-align: right;\">0.87131</td><td style = \"text-align: right;\">0.994147</td><td style = \"text-align: right;\">0.725526</td><td style = \"text-align: right;\">0.220109</td><td style = \"text-align: right;\">0.025403</td><td style = \"text-align: right;\">0.753001</td><td style = \"text-align: right;\">0.616513</td><td style = \"text-align: right;\">0.447219</td><td style = \"text-align: right;\">&ctdot;</td></tr><tr><td class = \"rowNumber\" style = \"font-weight: bold; text-align: right;\">96</td><td style = \"text-align: right;\">0.902109</td><td style = \"text-align: right;\">0.798981</td><td style = \"text-align: right;\">0.738288</td><td style = \"text-align: right;\">0.902173</td><td style = \"text-align: right;\">0.947526</td><td style = \"text-align: right;\">0.868473</td><td style = \"text-align: right;\">0.490998</td><td style = \"text-align: right;\">0.0915952</td><td style = \"text-align: right;\">0.919278</td><td style = \"text-align: right;\">0.512895</td><td style = \"text-align: right;\">0.481948</td><td style = \"text-align: right;\">0.788948</td><td style = \"text-align: right;\">0.082945</td><td style = \"text-align: right;\">0.508166</td><td style = \"text-align: right;\">0.707765</td><td style = \"text-align: right;\">0.922114</td><td style = \"text-align: right;\">0.245932</td><td style = \"text-align: right;\">0.752604</td><td style = \"text-align: right;\">0.906994</td><td style = \"text-align: right;\">0.017082</td><td style = \"text-align: right;\">0.994906</td><td style = \"text-align: right;\">0.686852</td><td style = \"text-align: right;\">0.0852243</td><td style = \"text-align: right;\">0.704579</td><td style = \"text-align: right;\">0.225152</td><td style = \"text-align: right;\">0.272669</td><td style = \"text-align: right;\">0.57054</td><td style = \"text-align: right;\">0.777149</td><td style = \"text-align: right;\">0.445487</td><td style = \"text-align: right;\">0.712812</td><td style = \"text-align: right;\">0.678859</td><td style = \"text-align: right;\">0.582936</td><td style = \"text-align: right;\">0.845738</td><td style = \"text-align: right;\">0.816665</td><td style = \"text-align: right;\">0.273506</td><td style = \"text-align: right;\">0.131359</td><td style = \"text-align: right;\">0.22217</td><td style = \"text-align: right;\">0.327273</td><td style = \"text-align: right;\">0.834392</td><td style = \"text-align: right;\">0.673457</td><td style = \"text-align: right;\">0.815329</td><td style = \"text-align: right;\">0.330612</td><td style = \"text-align: right;\">0.16994</td><td style = \"text-align: right;\">0.171361</td><td style = \"text-align: right;\">0.563573</td><td style = \"text-align: right;\">0.0468689</td><td style = \"text-align: right;\">0.0595408</td><td style = \"text-align: right;\">0.348251</td><td style = \"text-align: right;\">0.485413</td><td style = \"text-align: right;\">0.308098</td><td style = \"text-align: right;\">0.07427</td><td style = \"text-align: right;\">0.614024</td><td style = \"text-align: right;\">0.633383</td><td style = \"text-align: right;\">0.00848873</td><td style = \"text-align: right;\">0.833535</td><td style = \"text-align: right;\">0.684549</td><td style = \"text-align: right;\">0.428345</td><td style = \"text-align: right;\">0.403248</td><td style = \"text-align: right;\">0.286499</td><td style = \"text-align: right;\">0.836972</td><td style = \"text-align: right;\">0.641173</td><td style = \"text-align: right;\">0.432861</td><td style = \"text-align: right;\">0.607321</td><td style = \"text-align: right;\">0.350165</td><td style = \"text-align: right;\">0.425871</td><td style = \"text-align: right;\">0.0278942</td><td style = \"text-align: right;\">0.431404</td><td style = \"text-align: right;\">0.547099</td><td style = \"text-align: right;\">0.995484</td><td style = \"text-align: right;\">0.954062</td><td style = \"text-align: right;\">0.374892</td><td style = \"text-align: right;\">0.814066</td><td style = \"text-align: right;\">0.548118</td><td style = \"text-align: right;\">0.140592</td><td style = \"text-align: right;\">0.653013</td><td style = \"text-align: right;\">0.480776</td><td style = \"text-align: right;\">0.98002</td><td style = \"text-align: right;\">0.697629</td><td style = \"text-align: right;\">0.941333</td><td style = \"text-align: right;\">0.182962</td><td style = \"text-align: right;\">0.0884473</td><td style = \"text-align: right;\">0.545213</td><td style = \"text-align: right;\">0.625248</td><td style = \"text-align: right;\">0.961419</td><td style = \"text-align: right;\">0.0281313</td><td style = \"text-align: right;\">0.88907</td><td style = \"text-align: right;\">0.764837</td><td style = \"text-align: right;\">0.568369</td><td style = \"text-align: right;\">0.925273</td><td style = \"text-align: right;\">0.949188</td><td style = \"text-align: right;\">0.639512</td><td style = \"text-align: right;\">0.938948</td><td style = \"text-align: right;\">0.324972</td><td style = \"text-align: right;\">0.205388</td><td style = \"text-align: right;\">0.0401229</td><td style = \"text-align: right;\">0.719638</td><td style = \"text-align: right;\">0.105129</td><td style = \"text-align: right;\">0.383359</td><td style = \"text-align: right;\">0.837805</td><td style = \"text-align: right;\">0.48686</td><td style = \"text-align: right;\">&ctdot;</td></tr><tr><td class = \"rowNumber\" style = \"font-weight: bold; text-align: right;\">97</td><td style = \"text-align: right;\">0.182507</td><td style = \"text-align: right;\">0.2852</td><td style = \"text-align: right;\">0.417207</td><td style = \"text-align: right;\">0.20366</td><td style = \"text-align: right;\">0.457449</td><td style = \"text-align: right;\">0.105202</td><td style = \"text-align: right;\">0.458812</td><td style = \"text-align: right;\">0.700655</td><td style = \"text-align: right;\">0.380992</td><td style = \"text-align: right;\">0.297461</td><td style = \"text-align: right;\">0.884744</td><td style = \"text-align: right;\">0.61265</td><td style = \"text-align: right;\">0.995725</td><td style = \"text-align: right;\">0.616313</td><td style = \"text-align: right;\">0.526265</td><td style = \"text-align: right;\">0.507532</td><td style = \"text-align: right;\">0.893612</td><td style = \"text-align: right;\">0.823217</td><td style = \"text-align: right;\">0.745183</td><td style = \"text-align: right;\">0.644302</td><td style = \"text-align: right;\">0.69122</td><td style = \"text-align: right;\">0.132902</td><td style = \"text-align: right;\">0.198974</td><td style = \"text-align: right;\">0.0659626</td><td style = \"text-align: right;\">0.995155</td><td style = \"text-align: right;\">0.983412</td><td style = \"text-align: right;\">0.163377</td><td style = \"text-align: right;\">0.418715</td><td style = \"text-align: right;\">0.366849</td><td style = \"text-align: right;\">0.909128</td><td style = \"text-align: right;\">0.10183</td><td style = \"text-align: right;\">0.342115</td><td style = \"text-align: right;\">0.309237</td><td style = \"text-align: right;\">0.989322</td><td style = \"text-align: right;\">0.500685</td><td style = \"text-align: right;\">0.478479</td><td style = \"text-align: right;\">0.375763</td><td style = \"text-align: right;\">0.477256</td><td style = \"text-align: right;\">0.50074</td><td style = \"text-align: right;\">0.389115</td><td style = \"text-align: right;\">0.359208</td><td style = \"text-align: right;\">0.718866</td><td style = \"text-align: right;\">0.746032</td><td style = \"text-align: right;\">0.979014</td><td style = \"text-align: right;\">0.160149</td><td style = \"text-align: right;\">0.0354677</td><td style = \"text-align: right;\">0.537853</td><td style = \"text-align: right;\">0.924824</td><td style = \"text-align: right;\">0.0567256</td><td style = \"text-align: right;\">0.794927</td><td style = \"text-align: right;\">0.148012</td><td style = \"text-align: right;\">0.92499</td><td style = \"text-align: right;\">0.775625</td><td style = \"text-align: right;\">0.716474</td><td style = \"text-align: right;\">0.347616</td><td style = \"text-align: right;\">0.346376</td><td style = \"text-align: right;\">0.983201</td><td style = \"text-align: right;\">0.00835216</td><td style = \"text-align: right;\">0.8477</td><td style = \"text-align: right;\">0.472069</td><td style = \"text-align: right;\">0.772866</td><td style = \"text-align: right;\">0.268603</td><td style = \"text-align: right;\">0.278927</td><td style = \"text-align: right;\">0.890429</td><td style = \"text-align: right;\">0.593503</td><td style = \"text-align: right;\">0.655909</td><td style = \"text-align: right;\">0.543346</td><td style = \"text-align: right;\">0.983602</td><td style = \"text-align: right;\">0.939454</td><td style = \"text-align: right;\">0.190351</td><td style = \"text-align: right;\">0.0705923</td><td style = \"text-align: right;\">0.842867</td><td style = \"text-align: right;\">0.324946</td><td style = \"text-align: right;\">0.183082</td><td style = \"text-align: right;\">0.775445</td><td style = \"text-align: right;\">0.222777</td><td style = \"text-align: right;\">0.0391813</td><td style = \"text-align: right;\">0.93417</td><td style = \"text-align: right;\">0.36512</td><td style = \"text-align: right;\">0.931183</td><td style = \"text-align: right;\">0.734945</td><td style = \"text-align: right;\">0.0723259</td><td style = \"text-align: right;\">0.606041</td><td style = \"text-align: right;\">0.916632</td><td style = \"text-align: right;\">0.858315</td><td style = \"text-align: right;\">0.690751</td><td style = \"text-align: right;\">0.0723902</td><td style = \"text-align: right;\">0.263376</td><td style = \"text-align: right;\">0.135828</td><td style = \"text-align: right;\">0.53394</td><td style = \"text-align: right;\">0.558457</td><td style = \"text-align: right;\">0.626459</td><td style = \"text-align: right;\">0.31832</td><td style = \"text-align: right;\">0.410394</td><td style = \"text-align: right;\">0.144682</td><td style = \"text-align: right;\">0.511401</td><td style = \"text-align: right;\">0.304405</td><td style = \"text-align: right;\">0.954918</td><td style = \"text-align: right;\">0.775685</td><td style = \"text-align: right;\">0.510661</td><td style = \"text-align: right;\">&ctdot;</td></tr><tr><td class = \"rowNumber\" style = \"font-weight: bold; text-align: right;\">98</td><td style = \"text-align: right;\">0.871924</td><td style = \"text-align: right;\">0.955307</td><td style = \"text-align: right;\">0.840621</td><td style = \"text-align: right;\">0.905814</td><td style = \"text-align: right;\">0.295505</td><td style = \"text-align: right;\">0.507542</td><td style = \"text-align: right;\">0.915507</td><td style = \"text-align: right;\">0.111148</td><td style = \"text-align: right;\">0.752155</td><td style = \"text-align: right;\">0.0740601</td><td style = \"text-align: right;\">0.378548</td><td style = \"text-align: right;\">0.0294063</td><td style = \"text-align: right;\">0.696528</td><td style = \"text-align: right;\">0.618204</td><td style = \"text-align: right;\">0.433057</td><td style = \"text-align: right;\">0.286155</td><td style = \"text-align: right;\">0.961185</td><td style = \"text-align: right;\">0.433743</td><td style = \"text-align: right;\">0.421545</td><td style = \"text-align: right;\">0.698224</td><td style = \"text-align: right;\">0.849032</td><td style = \"text-align: right;\">0.865254</td><td style = \"text-align: right;\">0.322932</td><td style = \"text-align: right;\">0.817562</td><td style = \"text-align: right;\">0.50465</td><td style = \"text-align: right;\">0.674062</td><td style = \"text-align: right;\">0.631939</td><td style = \"text-align: right;\">0.145193</td><td style = \"text-align: right;\">0.608679</td><td style = \"text-align: right;\">0.265348</td><td style = \"text-align: right;\">0.661329</td><td style = \"text-align: right;\">0.55499</td><td style = \"text-align: right;\">0.492463</td><td style = \"text-align: right;\">0.201932</td><td style = \"text-align: right;\">0.150128</td><td style = \"text-align: right;\">0.627246</td><td style = \"text-align: right;\">0.383855</td><td style = \"text-align: right;\">0.103597</td><td style = \"text-align: right;\">0.97503</td><td style = \"text-align: right;\">0.459667</td><td style = \"text-align: right;\">0.0450141</td><td style = \"text-align: right;\">0.91739</td><td style = \"text-align: right;\">0.742847</td><td style = \"text-align: right;\">0.586242</td><td style = \"text-align: right;\">0.200116</td><td style = \"text-align: right;\">0.0302608</td><td style = \"text-align: right;\">0.189317</td><td style = \"text-align: right;\">0.265608</td><td style = \"text-align: right;\">0.049296</td><td style = \"text-align: right;\">0.27521</td><td style = \"text-align: right;\">0.915162</td><td style = \"text-align: right;\">0.80702</td><td style = \"text-align: right;\">0.745112</td><td style = \"text-align: right;\">0.740552</td><td style = \"text-align: right;\">0.00550075</td><td style = \"text-align: right;\">0.852594</td><td style = \"text-align: right;\">0.449874</td><td style = \"text-align: right;\">0.262789</td><td style = \"text-align: right;\">0.765087</td><td style = \"text-align: right;\">0.613831</td><td style = \"text-align: right;\">0.22628</td><td style = \"text-align: right;\">0.738661</td><td style = \"text-align: right;\">0.772429</td><td style = \"text-align: right;\">0.276362</td><td style = \"text-align: right;\">0.268438</td><td style = \"text-align: right;\">0.104667</td><td style = \"text-align: right;\">0.545674</td><td style = \"text-align: right;\">0.726184</td><td style = \"text-align: right;\">0.99331</td><td style = \"text-align: right;\">0.323352</td><td style = \"text-align: right;\">0.148861</td><td style = \"text-align: right;\">0.753748</td><td style = \"text-align: right;\">0.640069</td><td style = \"text-align: right;\">0.155274</td><td style = \"text-align: right;\">0.237201</td><td style = \"text-align: right;\">0.949222</td><td style = \"text-align: right;\">0.205959</td><td style = \"text-align: right;\">0.348308</td><td style = \"text-align: right;\">0.30613</td><td style = \"text-align: right;\">0.952779</td><td style = \"text-align: right;\">0.953216</td><td style = \"text-align: right;\">0.553847</td><td style = \"text-align: right;\">0.208962</td><td style = \"text-align: right;\">0.524599</td><td style = \"text-align: right;\">0.921029</td><td style = \"text-align: right;\">0.85579</td><td style = \"text-align: right;\">0.0049279</td><td style = \"text-align: right;\">0.684121</td><td style = \"text-align: right;\">0.926989</td><td style = \"text-align: right;\">0.975937</td><td style = \"text-align: right;\">0.75546</td><td style = \"text-align: right;\">0.585155</td><td style = \"text-align: right;\">0.419514</td><td style = \"text-align: right;\">0.0735824</td><td style = \"text-align: right;\">0.818295</td><td style = \"text-align: right;\">0.573241</td><td style = \"text-align: right;\">0.0515506</td><td style = \"text-align: right;\">0.774519</td><td style = \"text-align: right;\">0.493008</td><td style = \"text-align: right;\">0.486915</td><td style = \"text-align: right;\">&ctdot;</td></tr><tr><td class = \"rowNumber\" style = \"font-weight: bold; text-align: right;\">99</td><td style = \"text-align: right;\">0.111481</td><td style = \"text-align: right;\">0.287731</td><td style = \"text-align: right;\">0.0395291</td><td style = \"text-align: right;\">0.900632</td><td style = \"text-align: right;\">0.57495</td><td style = \"text-align: right;\">0.997926</td><td style = \"text-align: right;\">0.180443</td><td style = \"text-align: right;\">0.237223</td><td style = \"text-align: right;\">0.898698</td><td style = \"text-align: right;\">0.560413</td><td style = \"text-align: right;\">0.872158</td><td style = \"text-align: right;\">0.316073</td><td style = \"text-align: right;\">0.89661</td><td style = \"text-align: right;\">0.650938</td><td style = \"text-align: right;\">0.852258</td><td style = \"text-align: right;\">0.0856921</td><td style = \"text-align: right;\">0.338628</td><td style = \"text-align: right;\">0.733808</td><td style = \"text-align: right;\">0.59523</td><td style = \"text-align: right;\">0.327871</td><td style = \"text-align: right;\">0.933387</td><td style = \"text-align: right;\">0.926507</td><td style = \"text-align: right;\">0.579387</td><td style = \"text-align: right;\">0.780071</td><td style = \"text-align: right;\">0.105439</td><td style = \"text-align: right;\">0.177157</td><td style = \"text-align: right;\">0.469905</td><td style = \"text-align: right;\">0.977883</td><td style = \"text-align: right;\">0.357276</td><td style = \"text-align: right;\">0.718387</td><td style = \"text-align: right;\">0.374817</td><td style = \"text-align: right;\">0.872783</td><td style = \"text-align: right;\">0.994622</td><td style = \"text-align: right;\">0.830339</td><td style = \"text-align: right;\">0.822644</td><td style = \"text-align: right;\">0.995595</td><td style = \"text-align: right;\">0.978577</td><td style = \"text-align: right;\">0.641799</td><td style = \"text-align: right;\">0.209258</td><td style = \"text-align: right;\">0.0979497</td><td style = \"text-align: right;\">0.677328</td><td style = \"text-align: right;\">0.0310739</td><td style = \"text-align: right;\">0.719093</td><td style = \"text-align: right;\">0.469721</td><td style = \"text-align: right;\">0.747239</td><td style = \"text-align: right;\">0.478509</td><td style = \"text-align: right;\">0.979708</td><td style = \"text-align: right;\">0.344245</td><td style = \"text-align: right;\">0.247816</td><td style = \"text-align: right;\">0.130366</td><td style = \"text-align: right;\">0.076438</td><td style = \"text-align: right;\">0.957843</td><td style = \"text-align: right;\">0.760428</td><td style = \"text-align: right;\">0.650338</td><td style = \"text-align: right;\">0.583036</td><td style = \"text-align: right;\">0.210133</td><td style = \"text-align: right;\">0.509853</td><td style = \"text-align: right;\">0.946714</td><td style = \"text-align: right;\">0.144692</td><td style = \"text-align: right;\">0.337108</td><td style = \"text-align: right;\">0.69483</td><td style = \"text-align: right;\">0.185266</td><td style = \"text-align: right;\">0.426846</td><td style = \"text-align: right;\">0.185698</td><td style = \"text-align: right;\">0.481539</td><td style = \"text-align: right;\">0.787324</td><td style = \"text-align: right;\">0.307503</td><td style = \"text-align: right;\">0.285827</td><td style = \"text-align: right;\">0.835478</td><td style = \"text-align: right;\">0.557812</td><td style = \"text-align: right;\">0.127334</td><td style = \"text-align: right;\">0.288758</td><td style = \"text-align: right;\">0.52377</td><td style = \"text-align: right;\">0.982546</td><td style = \"text-align: right;\">0.851009</td><td style = \"text-align: right;\">0.877541</td><td style = \"text-align: right;\">0.686036</td><td style = \"text-align: right;\">0.130815</td><td style = \"text-align: right;\">0.88565</td><td style = \"text-align: right;\">0.615868</td><td style = \"text-align: right;\">0.704407</td><td style = \"text-align: right;\">0.463837</td><td style = \"text-align: right;\">0.804501</td><td style = \"text-align: right;\">0.617493</td><td style = \"text-align: right;\">0.498704</td><td style = \"text-align: right;\">0.0538848</td><td style = \"text-align: right;\">0.131753</td><td style = \"text-align: right;\">0.290739</td><td style = \"text-align: right;\">0.430011</td><td style = \"text-align: right;\">0.813286</td><td style = \"text-align: right;\">0.974971</td><td style = \"text-align: right;\">0.25831</td><td style = \"text-align: right;\">0.180927</td><td style = \"text-align: right;\">0.461469</td><td style = \"text-align: right;\">0.185453</td><td style = \"text-align: right;\">0.851554</td><td style = \"text-align: right;\">0.782513</td><td style = \"text-align: right;\">0.644375</td><td style = \"text-align: right;\">0.240165</td><td style = \"text-align: right;\">0.642007</td><td style = \"text-align: right;\">&ctdot;</td></tr><tr><td class = \"rowNumber\" style = \"font-weight: bold; text-align: right;\">100</td><td style = \"text-align: right;\">0.79124</td><td style = \"text-align: right;\">0.916774</td><td style = \"text-align: right;\">0.592784</td><td style = \"text-align: right;\">0.226972</td><td style = \"text-align: right;\">0.173077</td><td style = \"text-align: right;\">0.849683</td><td style = \"text-align: right;\">0.564225</td><td style = \"text-align: right;\">0.281274</td><td style = \"text-align: right;\">0.945506</td><td style = \"text-align: right;\">0.843555</td><td style = \"text-align: right;\">0.378245</td><td style = \"text-align: right;\">0.103765</td><td style = \"text-align: right;\">0.48724</td><td style = \"text-align: right;\">0.377444</td><td style = \"text-align: right;\">0.286919</td><td style = \"text-align: right;\">0.772667</td><td style = \"text-align: right;\">0.963488</td><td style = \"text-align: right;\">0.32577</td><td style = \"text-align: right;\">0.276194</td><td style = \"text-align: right;\">0.118096</td><td style = \"text-align: right;\">0.387615</td><td style = \"text-align: right;\">0.367463</td><td style = \"text-align: right;\">0.857788</td><td style = \"text-align: right;\">0.096866</td><td style = \"text-align: right;\">0.0419641</td><td style = \"text-align: right;\">0.0445459</td><td style = \"text-align: right;\">0.796302</td><td style = \"text-align: right;\">0.457043</td><td style = \"text-align: right;\">0.82033</td><td style = \"text-align: right;\">0.3822</td><td style = \"text-align: right;\">0.394116</td><td style = \"text-align: right;\">0.123491</td><td style = \"text-align: right;\">0.219446</td><td style = \"text-align: right;\">0.548281</td><td style = \"text-align: right;\">0.672896</td><td style = \"text-align: right;\">0.482326</td><td style = \"text-align: right;\">0.670087</td><td style = \"text-align: right;\">0.405043</td><td style = \"text-align: right;\">0.654832</td><td style = \"text-align: right;\">0.447206</td><td style = \"text-align: right;\">0.465165</td><td style = \"text-align: right;\">0.310261</td><td style = \"text-align: right;\">0.713185</td><td style = \"text-align: right;\">0.243284</td><td style = \"text-align: right;\">0.683688</td><td style = \"text-align: right;\">0.833987</td><td style = \"text-align: right;\">0.234187</td><td style = \"text-align: right;\">0.745013</td><td style = \"text-align: right;\">0.889912</td><td style = \"text-align: right;\">0.949801</td><td style = \"text-align: right;\">0.467445</td><td style = \"text-align: right;\">0.461685</td><td style = \"text-align: right;\">0.813087</td><td style = \"text-align: right;\">0.734204</td><td style = \"text-align: right;\">0.546659</td><td style = \"text-align: right;\">0.810754</td><td style = \"text-align: right;\">0.791485</td><td style = \"text-align: right;\">0.177455</td><td style = \"text-align: right;\">0.85151</td><td style = \"text-align: right;\">0.189838</td><td style = \"text-align: right;\">0.434868</td><td style = \"text-align: right;\">0.222168</td><td style = \"text-align: right;\">0.06002</td><td style = \"text-align: right;\">0.762901</td><td style = \"text-align: right;\">0.0721132</td><td style = \"text-align: right;\">0.0952665</td><td style = \"text-align: right;\">0.0239149</td><td style = \"text-align: right;\">0.00594219</td><td style = \"text-align: right;\">0.27638</td><td style = \"text-align: right;\">0.233669</td><td style = \"text-align: right;\">0.0342002</td><td style = \"text-align: right;\">0.708268</td><td style = \"text-align: right;\">0.0423062</td><td style = \"text-align: right;\">0.587966</td><td style = \"text-align: right;\">0.303667</td><td style = \"text-align: right;\">0.411557</td><td style = \"text-align: right;\">0.56879</td><td style = \"text-align: right;\">0.133018</td><td style = \"text-align: right;\">0.297609</td><td style = \"text-align: right;\">0.721847</td><td style = \"text-align: right;\">0.77956</td><td style = \"text-align: right;\">0.534461</td><td style = \"text-align: right;\">0.510301</td><td style = \"text-align: right;\">0.211398</td><td style = \"text-align: right;\">0.0897813</td><td style = \"text-align: right;\">0.408932</td><td style = \"text-align: right;\">0.756582</td><td style = \"text-align: right;\">0.882354</td><td style = \"text-align: right;\">0.82976</td><td style = \"text-align: right;\">0.184506</td><td style = \"text-align: right;\">0.979043</td><td style = \"text-align: right;\">0.590096</td><td style = \"text-align: right;\">0.337304</td><td style = \"text-align: right;\">0.791286</td><td style = \"text-align: right;\">0.215723</td><td style = \"text-align: right;\">0.0572296</td><td style = \"text-align: right;\">0.939473</td><td style = \"text-align: right;\">0.765482</td><td style = \"text-align: right;\">0.376716</td><td style = \"text-align: right;\">0.0940714</td><td style = \"text-align: right;\">&ctdot;</td></tr></tbody></table></div>"
      ],
      "text/latex": [
       "\\begin{tabular}{r|ccccccccc}\n",
       "\t& x1 & x2 & x3 & x4 & x5 & x6 & x7 & x8 & \\\\\n",
       "\t\\hline\n",
       "\t& Float64 & Float64 & Float64 & Float64 & Float64 & Float64 & Float64 & Float64 & \\\\\n",
       "\t\\hline\n",
       "\t1 & 0.0523643 & 0.609618 & 0.959066 & 0.940724 & 0.497786 & 0.42965 & 0.913882 & 0.747651 & $\\dots$ \\\\\n",
       "\t2 & 0.996383 & 0.323279 & 0.0114092 & 0.942402 & 0.987924 & 0.936681 & 0.864094 & 0.932215 & $\\dots$ \\\\\n",
       "\t3 & 0.141696 & 0.622605 & 0.661393 & 0.1708 & 0.11548 & 0.475541 & 0.737145 & 0.484979 & $\\dots$ \\\\\n",
       "\t4 & 0.157635 & 0.203508 & 0.95652 & 0.652674 & 0.433547 & 0.0857123 & 0.430567 & 0.701038 & $\\dots$ \\\\\n",
       "\t5 & 0.271134 & 0.420181 & 0.146054 & 0.184522 & 0.679981 & 0.595131 & 0.304462 & 0.46216 & $\\dots$ \\\\\n",
       "\t6 & 0.0365417 & 0.874611 & 0.13122 & 0.755877 & 0.686026 & 0.24379 & 0.187441 & 0.558081 & $\\dots$ \\\\\n",
       "\t7 & 0.851209 & 0.940214 & 0.89384 & 0.588379 & 0.411588 & 0.979129 & 0.569793 & 0.0251611 & $\\dots$ \\\\\n",
       "\t8 & 0.817017 & 0.139364 & 0.504069 & 0.449526 & 0.93798 & 0.122942 & 0.0588101 & 0.389475 & $\\dots$ \\\\\n",
       "\t9 & 0.114139 & 0.196757 & 0.516531 & 0.697099 & 0.491451 & 0.654839 & 0.819769 & 0.984801 & $\\dots$ \\\\\n",
       "\t10 & 0.554953 & 0.0912133 & 0.171385 & 0.793165 & 0.101555 & 0.746244 & 0.246986 & 0.779547 & $\\dots$ \\\\\n",
       "\t11 & 0.806327 & 0.865167 & 0.105497 & 0.29133 & 0.456944 & 0.439059 & 0.0697077 & 0.765449 & $\\dots$ \\\\\n",
       "\t12 & 0.334948 & 0.895836 & 0.471747 & 0.809789 & 0.426612 & 0.0577095 & 0.355322 & 0.573619 & $\\dots$ \\\\\n",
       "\t13 & 0.0466816 & 0.955787 & 0.567764 & 0.332166 & 0.87076 & 0.00967203 & 0.923863 & 0.077601 & $\\dots$ \\\\\n",
       "\t14 & 0.93334 & 0.574209 & 0.68933 & 0.75571 & 0.28393 & 0.76207 & 0.871083 & 0.700909 & $\\dots$ \\\\\n",
       "\t15 & 0.659251 & 0.312095 & 0.539482 & 0.366969 & 0.259519 & 0.603826 & 0.578699 & 0.658115 & $\\dots$ \\\\\n",
       "\t16 & 0.330713 & 0.0177991 & 0.305602 & 0.264808 & 0.405591 & 0.514626 & 0.0769079 & 0.895572 & $\\dots$ \\\\\n",
       "\t17 & 0.431738 & 0.186641 & 0.58195 & 0.195009 & 0.495294 & 0.62935 & 0.601766 & 0.0548215 & $\\dots$ \\\\\n",
       "\t18 & 0.960961 & 0.38803 & 0.19544 & 0.367174 & 0.66942 & 0.935488 & 0.0917181 & 0.483003 & $\\dots$ \\\\\n",
       "\t19 & 0.503108 & 0.342521 & 0.663048 & 0.668014 & 0.102159 & 0.420158 & 0.805954 & 0.287944 & $\\dots$ \\\\\n",
       "\t20 & 0.925004 & 0.0264221 & 0.457357 & 0.465631 & 0.948586 & 0.308914 & 0.641734 & 0.146941 & $\\dots$ \\\\\n",
       "\t21 & 0.415878 & 0.0960616 & 0.116798 & 0.945 & 0.459381 & 0.730803 & 0.126551 & 0.59141 & $\\dots$ \\\\\n",
       "\t22 & 0.208208 & 0.990333 & 0.819548 & 0.308671 & 0.530236 & 0.889472 & 0.56089 & 0.299414 & $\\dots$ \\\\\n",
       "\t23 & 0.947443 & 0.724233 & 0.0910326 & 0.108763 & 0.475207 & 0.922588 & 0.696114 & 0.23592 & $\\dots$ \\\\\n",
       "\t24 & 0.519054 & 0.628626 & 0.865813 & 0.167858 & 0.348184 & 0.630573 & 0.207705 & 0.94114 & $\\dots$ \\\\\n",
       "\t25 & 0.236315 & 0.331874 & 0.0687998 & 0.92409 & 0.993385 & 0.094512 & 0.617591 & 0.862002 & $\\dots$ \\\\\n",
       "\t26 & 0.350835 & 0.893435 & 0.457978 & 0.0770199 & 0.632576 & 0.678506 & 0.292746 & 0.915199 & $\\dots$ \\\\\n",
       "\t27 & 0.939578 & 0.414193 & 0.951482 & 0.959504 & 0.534169 & 0.297074 & 0.31631 & 0.547082 & $\\dots$ \\\\\n",
       "\t28 & 0.321845 & 0.779624 & 0.546045 & 0.164712 & 0.412508 & 0.95306 & 0.960464 & 0.158199 & $\\dots$ \\\\\n",
       "\t29 & 0.119075 & 0.858263 & 0.540812 & 0.508605 & 0.886353 & 0.177676 & 0.794637 & 0.293116 & $\\dots$ \\\\\n",
       "\t30 & 0.508099 & 0.488642 & 0.550766 & 0.148986 & 0.24556 & 0.993329 & 0.409876 & 0.92428 & $\\dots$ \\\\\n",
       "\t$\\dots$ & $\\dots$ & $\\dots$ & $\\dots$ & $\\dots$ & $\\dots$ & $\\dots$ & $\\dots$ & $\\dots$ &  \\\\\n",
       "\\end{tabular}\n"
      ],
      "text/plain": [
       "\u001b[1m100×1000 DataFrame\u001b[0m\n",
       "\u001b[1m Row \u001b[0m│\u001b[1m x1        \u001b[0m\u001b[1m x2        \u001b[0m\u001b[1m x3        \u001b[0m\u001b[1m x4        \u001b[0m\u001b[1m x5       \u001b[0m\u001b[1m x6         \u001b[0m\u001b[1m x7   \u001b[0m ⋯\n",
       "     │\u001b[90m Float64   \u001b[0m\u001b[90m Float64   \u001b[0m\u001b[90m Float64   \u001b[0m\u001b[90m Float64   \u001b[0m\u001b[90m Float64  \u001b[0m\u001b[90m Float64    \u001b[0m\u001b[90m Float\u001b[0m ⋯\n",
       "─────┼──────────────────────────────────────────────────────────────────────────\n",
       "   1 │ 0.0523643  0.609618   0.959066   0.940724   0.497786  0.42965     0.913 ⋯\n",
       "   2 │ 0.996383   0.323279   0.0114092  0.942402   0.987924  0.936681    0.864\n",
       "   3 │ 0.141696   0.622605   0.661393   0.1708     0.11548   0.475541    0.737\n",
       "   4 │ 0.157635   0.203508   0.95652    0.652674   0.433547  0.0857123   0.430\n",
       "   5 │ 0.271134   0.420181   0.146054   0.184522   0.679981  0.595131    0.304 ⋯\n",
       "   6 │ 0.0365417  0.874611   0.13122    0.755877   0.686026  0.24379     0.187\n",
       "   7 │ 0.851209   0.940214   0.89384    0.588379   0.411588  0.979129    0.569\n",
       "   8 │ 0.817017   0.139364   0.504069   0.449526   0.93798   0.122942    0.058\n",
       "   9 │ 0.114139   0.196757   0.516531   0.697099   0.491451  0.654839    0.819 ⋯\n",
       "  10 │ 0.554953   0.0912133  0.171385   0.793165   0.101555  0.746244    0.246\n",
       "  11 │ 0.806327   0.865167   0.105497   0.29133    0.456944  0.439059    0.069\n",
       "  ⋮  │     ⋮          ⋮          ⋮          ⋮         ⋮          ⋮           ⋮ ⋱\n",
       "  91 │ 0.583313   0.488746   0.952546   0.280953   0.102099  0.298825    0.315\n",
       "  92 │ 0.512762   0.872749   0.344774   0.132688   0.19228   0.483912    0.821 ⋯\n",
       "  93 │ 0.426916   0.777096   0.809411   0.295369   0.872829  0.0246804   0.346\n",
       "  94 │ 0.957615   0.268465   0.78976    0.837829   0.607297  0.167805    0.509\n",
       "  95 │ 0.714871   0.935149   0.655696   0.442315   0.72654   0.742891    0.611\n",
       "  96 │ 0.902109   0.798981   0.738288   0.902173   0.947526  0.868473    0.490 ⋯\n",
       "  97 │ 0.182507   0.2852     0.417207   0.20366    0.457449  0.105202    0.458\n",
       "  98 │ 0.871924   0.955307   0.840621   0.905814   0.295505  0.507542    0.915\n",
       "  99 │ 0.111481   0.287731   0.0395291  0.900632   0.57495   0.997926    0.180\n",
       " 100 │ 0.79124    0.916774   0.592784   0.226972   0.173077  0.849683    0.564 ⋯\n",
       "\u001b[36m                                                 994 columns and 79 rows omitted\u001b[0m"
      ]
     },
     "execution_count": 22,
     "metadata": {},
     "output_type": "execute_result"
    }
   ],
   "source": [
    "x = DataFrame(rand(100, 1000), :auto)"
   ]
  },
  {
   "cell_type": "code",
   "execution_count": 23,
   "metadata": {},
   "outputs": [
    {
     "name": "stdout",
     "output_type": "stream",
     "text": [
      "  161.200 μs (2986 allocations: 159.50 KiB)\n"
     ]
    },
    {
     "data": {
      "text/html": [
       "<div><div style = \"float: left;\"><span>1×1000 DataFrame</span></div><div style = \"float: right;\"><span style = \"font-style: italic;\">900 columns omitted</span></div><div style = \"clear: both;\"></div></div><div class = \"data-frame\" style = \"overflow-x: scroll;\"><table class = \"data-frame\" style = \"margin-bottom: 6px;\"><thead><tr class = \"header\"><th class = \"rowNumber\" style = \"font-weight: bold; text-align: right;\">Row</th><th style = \"text-align: left;\">x1</th><th style = \"text-align: left;\">x2</th><th style = \"text-align: left;\">x3</th><th style = \"text-align: left;\">x4</th><th style = \"text-align: left;\">x5</th><th style = \"text-align: left;\">x6</th><th style = \"text-align: left;\">x7</th><th style = \"text-align: left;\">x8</th><th style = \"text-align: left;\">x9</th><th style = \"text-align: left;\">x10</th><th style = \"text-align: left;\">x11</th><th style = \"text-align: left;\">x12</th><th style = \"text-align: left;\">x13</th><th style = \"text-align: left;\">x14</th><th style = \"text-align: left;\">x15</th><th style = \"text-align: left;\">x16</th><th style = \"text-align: left;\">x17</th><th style = \"text-align: left;\">x18</th><th style = \"text-align: left;\">x19</th><th style = \"text-align: left;\">x20</th><th style = \"text-align: left;\">x21</th><th style = \"text-align: left;\">x22</th><th style = \"text-align: left;\">x23</th><th style = \"text-align: left;\">x24</th><th style = \"text-align: left;\">x25</th><th style = \"text-align: left;\">x26</th><th style = \"text-align: left;\">x27</th><th style = \"text-align: left;\">x28</th><th style = \"text-align: left;\">x29</th><th style = \"text-align: left;\">x30</th><th style = \"text-align: left;\">x31</th><th style = \"text-align: left;\">x32</th><th style = \"text-align: left;\">x33</th><th style = \"text-align: left;\">x34</th><th style = \"text-align: left;\">x35</th><th style = \"text-align: left;\">x36</th><th style = \"text-align: left;\">x37</th><th style = \"text-align: left;\">x38</th><th style = \"text-align: left;\">x39</th><th style = \"text-align: left;\">x40</th><th style = \"text-align: left;\">x41</th><th style = \"text-align: left;\">x42</th><th style = \"text-align: left;\">x43</th><th style = \"text-align: left;\">x44</th><th style = \"text-align: left;\">x45</th><th style = \"text-align: left;\">x46</th><th style = \"text-align: left;\">x47</th><th style = \"text-align: left;\">x48</th><th style = \"text-align: left;\">x49</th><th style = \"text-align: left;\">x50</th><th style = \"text-align: left;\">x51</th><th style = \"text-align: left;\">x52</th><th style = \"text-align: left;\">x53</th><th style = \"text-align: left;\">x54</th><th style = \"text-align: left;\">x55</th><th style = \"text-align: left;\">x56</th><th style = \"text-align: left;\">x57</th><th style = \"text-align: left;\">x58</th><th style = \"text-align: left;\">x59</th><th style = \"text-align: left;\">x60</th><th style = \"text-align: left;\">x61</th><th style = \"text-align: left;\">x62</th><th style = \"text-align: left;\">x63</th><th style = \"text-align: left;\">x64</th><th style = \"text-align: left;\">x65</th><th style = \"text-align: left;\">x66</th><th style = \"text-align: left;\">x67</th><th style = \"text-align: left;\">x68</th><th style = \"text-align: left;\">x69</th><th style = \"text-align: left;\">x70</th><th style = \"text-align: left;\">x71</th><th style = \"text-align: left;\">x72</th><th style = \"text-align: left;\">x73</th><th style = \"text-align: left;\">x74</th><th style = \"text-align: left;\">x75</th><th style = \"text-align: left;\">x76</th><th style = \"text-align: left;\">x77</th><th style = \"text-align: left;\">x78</th><th style = \"text-align: left;\">x79</th><th style = \"text-align: left;\">x80</th><th style = \"text-align: left;\">x81</th><th style = \"text-align: left;\">x82</th><th style = \"text-align: left;\">x83</th><th style = \"text-align: left;\">x84</th><th style = \"text-align: left;\">x85</th><th style = \"text-align: left;\">x86</th><th style = \"text-align: left;\">x87</th><th style = \"text-align: left;\">x88</th><th style = \"text-align: left;\">x89</th><th style = \"text-align: left;\">x90</th><th style = \"text-align: left;\">x91</th><th style = \"text-align: left;\">x92</th><th style = \"text-align: left;\">x93</th><th style = \"text-align: left;\">x94</th><th style = \"text-align: left;\">x95</th><th style = \"text-align: left;\">x96</th><th style = \"text-align: left;\">x97</th><th style = \"text-align: left;\">x98</th><th style = \"text-align: left;\">x99</th><th style = \"text-align: left;\">x100</th><th style = \"text-align: right;\">&ctdot;</th></tr><tr class = \"subheader headerLastRow\"><th class = \"rowNumber\" style = \"font-weight: bold; text-align: right;\"></th><th title = \"Float64\" style = \"text-align: left;\">Float64</th><th title = \"Float64\" style = \"text-align: left;\">Float64</th><th title = \"Float64\" style = \"text-align: left;\">Float64</th><th title = \"Float64\" style = \"text-align: left;\">Float64</th><th title = \"Float64\" style = \"text-align: left;\">Float64</th><th title = \"Float64\" style = \"text-align: left;\">Float64</th><th title = \"Float64\" style = \"text-align: left;\">Float64</th><th title = \"Float64\" style = \"text-align: left;\">Float64</th><th title = \"Float64\" style = \"text-align: left;\">Float64</th><th title = \"Float64\" style = \"text-align: left;\">Float64</th><th title = \"Float64\" style = \"text-align: left;\">Float64</th><th title = \"Float64\" style = \"text-align: left;\">Float64</th><th title = \"Float64\" style = \"text-align: left;\">Float64</th><th title = \"Float64\" style = \"text-align: left;\">Float64</th><th title = \"Float64\" style = \"text-align: left;\">Float64</th><th title = \"Float64\" style = \"text-align: left;\">Float64</th><th title = \"Float64\" style = \"text-align: left;\">Float64</th><th title = \"Float64\" style = \"text-align: left;\">Float64</th><th title = \"Float64\" style = \"text-align: left;\">Float64</th><th title = \"Float64\" style = \"text-align: left;\">Float64</th><th title = \"Float64\" style = \"text-align: left;\">Float64</th><th title = \"Float64\" style = \"text-align: left;\">Float64</th><th title = \"Float64\" style = \"text-align: left;\">Float64</th><th title = \"Float64\" style = \"text-align: left;\">Float64</th><th title = \"Float64\" style = \"text-align: left;\">Float64</th><th title = \"Float64\" style = \"text-align: left;\">Float64</th><th title = \"Float64\" style = \"text-align: left;\">Float64</th><th title = \"Float64\" style = \"text-align: left;\">Float64</th><th title = \"Float64\" style = \"text-align: left;\">Float64</th><th title = \"Float64\" style = \"text-align: left;\">Float64</th><th title = \"Float64\" style = \"text-align: left;\">Float64</th><th title = \"Float64\" style = \"text-align: left;\">Float64</th><th title = \"Float64\" style = \"text-align: left;\">Float64</th><th title = \"Float64\" style = \"text-align: left;\">Float64</th><th title = \"Float64\" style = \"text-align: left;\">Float64</th><th title = \"Float64\" style = \"text-align: left;\">Float64</th><th title = \"Float64\" style = \"text-align: left;\">Float64</th><th title = \"Float64\" style = \"text-align: left;\">Float64</th><th title = \"Float64\" style = \"text-align: left;\">Float64</th><th title = \"Float64\" style = \"text-align: left;\">Float64</th><th title = \"Float64\" style = \"text-align: left;\">Float64</th><th title = \"Float64\" style = \"text-align: left;\">Float64</th><th title = \"Float64\" style = \"text-align: left;\">Float64</th><th title = \"Float64\" style = \"text-align: left;\">Float64</th><th title = \"Float64\" style = \"text-align: left;\">Float64</th><th title = \"Float64\" style = \"text-align: left;\">Float64</th><th title = \"Float64\" style = \"text-align: left;\">Float64</th><th title = \"Float64\" style = \"text-align: left;\">Float64</th><th title = \"Float64\" style = \"text-align: left;\">Float64</th><th title = \"Float64\" style = \"text-align: left;\">Float64</th><th title = \"Float64\" style = \"text-align: left;\">Float64</th><th title = \"Float64\" style = \"text-align: left;\">Float64</th><th title = \"Float64\" style = \"text-align: left;\">Float64</th><th title = \"Float64\" style = \"text-align: left;\">Float64</th><th title = \"Float64\" style = \"text-align: left;\">Float64</th><th title = \"Float64\" style = \"text-align: left;\">Float64</th><th title = \"Float64\" style = \"text-align: left;\">Float64</th><th title = \"Float64\" style = \"text-align: left;\">Float64</th><th title = \"Float64\" style = \"text-align: left;\">Float64</th><th title = \"Float64\" style = \"text-align: left;\">Float64</th><th title = \"Float64\" style = \"text-align: left;\">Float64</th><th title = \"Float64\" style = \"text-align: left;\">Float64</th><th title = \"Float64\" style = \"text-align: left;\">Float64</th><th title = \"Float64\" style = \"text-align: left;\">Float64</th><th title = \"Float64\" style = \"text-align: left;\">Float64</th><th title = \"Float64\" style = \"text-align: left;\">Float64</th><th title = \"Float64\" style = \"text-align: left;\">Float64</th><th title = \"Float64\" style = \"text-align: left;\">Float64</th><th title = \"Float64\" style = \"text-align: left;\">Float64</th><th title = \"Float64\" style = \"text-align: left;\">Float64</th><th title = \"Float64\" style = \"text-align: left;\">Float64</th><th title = \"Float64\" style = \"text-align: left;\">Float64</th><th title = \"Float64\" style = \"text-align: left;\">Float64</th><th title = \"Float64\" style = \"text-align: left;\">Float64</th><th title = \"Float64\" style = \"text-align: left;\">Float64</th><th title = \"Float64\" style = \"text-align: left;\">Float64</th><th title = \"Float64\" style = \"text-align: left;\">Float64</th><th title = \"Float64\" style = \"text-align: left;\">Float64</th><th title = \"Float64\" style = \"text-align: left;\">Float64</th><th title = \"Float64\" style = \"text-align: left;\">Float64</th><th title = \"Float64\" style = \"text-align: left;\">Float64</th><th title = \"Float64\" style = \"text-align: left;\">Float64</th><th title = \"Float64\" style = \"text-align: left;\">Float64</th><th title = \"Float64\" style = \"text-align: left;\">Float64</th><th title = \"Float64\" style = \"text-align: left;\">Float64</th><th title = \"Float64\" style = \"text-align: left;\">Float64</th><th title = \"Float64\" style = \"text-align: left;\">Float64</th><th title = \"Float64\" style = \"text-align: left;\">Float64</th><th title = \"Float64\" style = \"text-align: left;\">Float64</th><th title = \"Float64\" style = \"text-align: left;\">Float64</th><th title = \"Float64\" style = \"text-align: left;\">Float64</th><th title = \"Float64\" style = \"text-align: left;\">Float64</th><th title = \"Float64\" style = \"text-align: left;\">Float64</th><th title = \"Float64\" style = \"text-align: left;\">Float64</th><th title = \"Float64\" style = \"text-align: left;\">Float64</th><th title = \"Float64\" style = \"text-align: left;\">Float64</th><th title = \"Float64\" style = \"text-align: left;\">Float64</th><th title = \"Float64\" style = \"text-align: left;\">Float64</th><th title = \"Float64\" style = \"text-align: left;\">Float64</th><th title = \"Float64\" style = \"text-align: left;\">Float64</th><th title = \"Float64\" style = \"text-align: right;\">&ctdot;</th></tr></thead><tbody><tr><td class = \"rowNumber\" style = \"font-weight: bold; text-align: right;\">1</td><td style = \"text-align: right;\">0.0523643</td><td style = \"text-align: right;\">0.609618</td><td style = \"text-align: right;\">0.959066</td><td style = \"text-align: right;\">0.940724</td><td style = \"text-align: right;\">0.497786</td><td style = \"text-align: right;\">0.42965</td><td style = \"text-align: right;\">0.913882</td><td style = \"text-align: right;\">0.747651</td><td style = \"text-align: right;\">0.446724</td><td style = \"text-align: right;\">0.0749807</td><td style = \"text-align: right;\">0.293294</td><td style = \"text-align: right;\">0.680345</td><td style = \"text-align: right;\">0.162048</td><td style = \"text-align: right;\">0.159452</td><td style = \"text-align: right;\">0.958113</td><td style = \"text-align: right;\">0.922532</td><td style = \"text-align: right;\">0.834303</td><td style = \"text-align: right;\">0.966029</td><td style = \"text-align: right;\">0.38394</td><td style = \"text-align: right;\">0.625653</td><td style = \"text-align: right;\">0.830014</td><td style = \"text-align: right;\">0.251016</td><td style = \"text-align: right;\">0.357237</td><td style = \"text-align: right;\">0.466607</td><td style = \"text-align: right;\">0.749349</td><td style = \"text-align: right;\">0.126183</td><td style = \"text-align: right;\">0.109127</td><td style = \"text-align: right;\">0.0957731</td><td style = \"text-align: right;\">0.194717</td><td style = \"text-align: right;\">0.355339</td><td style = \"text-align: right;\">0.514552</td><td style = \"text-align: right;\">0.744211</td><td style = \"text-align: right;\">0.123781</td><td style = \"text-align: right;\">0.320412</td><td style = \"text-align: right;\">0.552054</td><td style = \"text-align: right;\">0.482046</td><td style = \"text-align: right;\">0.882937</td><td style = \"text-align: right;\">0.629033</td><td style = \"text-align: right;\">0.709226</td><td style = \"text-align: right;\">0.40338</td><td style = \"text-align: right;\">0.267963</td><td style = \"text-align: right;\">0.149298</td><td style = \"text-align: right;\">0.599479</td><td style = \"text-align: right;\">0.479195</td><td style = \"text-align: right;\">0.173125</td><td style = \"text-align: right;\">0.610714</td><td style = \"text-align: right;\">0.0543737</td><td style = \"text-align: right;\">0.0209455</td><td style = \"text-align: right;\">0.620016</td><td style = \"text-align: right;\">0.679305</td><td style = \"text-align: right;\">0.813113</td><td style = \"text-align: right;\">0.52726</td><td style = \"text-align: right;\">0.678049</td><td style = \"text-align: right;\">0.602801</td><td style = \"text-align: right;\">0.263353</td><td style = \"text-align: right;\">0.140502</td><td style = \"text-align: right;\">0.173345</td><td style = \"text-align: right;\">0.00508686</td><td style = \"text-align: right;\">0.882622</td><td style = \"text-align: right;\">0.671508</td><td style = \"text-align: right;\">0.903111</td><td style = \"text-align: right;\">0.992132</td><td style = \"text-align: right;\">0.130133</td><td style = \"text-align: right;\">0.825957</td><td style = \"text-align: right;\">0.749588</td><td style = \"text-align: right;\">0.413133</td><td style = \"text-align: right;\">0.453115</td><td style = \"text-align: right;\">0.981498</td><td style = \"text-align: right;\">0.670985</td><td style = \"text-align: right;\">0.430595</td><td style = \"text-align: right;\">0.716924</td><td style = \"text-align: right;\">0.111158</td><td style = \"text-align: right;\">0.285703</td><td style = \"text-align: right;\">0.984693</td><td style = \"text-align: right;\">0.408762</td><td style = \"text-align: right;\">0.84116</td><td style = \"text-align: right;\">0.58661</td><td style = \"text-align: right;\">0.376678</td><td style = \"text-align: right;\">0.117205</td><td style = \"text-align: right;\">0.872283</td><td style = \"text-align: right;\">0.373637</td><td style = \"text-align: right;\">0.367935</td><td style = \"text-align: right;\">0.850897</td><td style = \"text-align: right;\">0.338093</td><td style = \"text-align: right;\">0.826562</td><td style = \"text-align: right;\">0.0382447</td><td style = \"text-align: right;\">0.379849</td><td style = \"text-align: right;\">0.622853</td><td style = \"text-align: right;\">0.923399</td><td style = \"text-align: right;\">0.766872</td><td style = \"text-align: right;\">0.364495</td><td style = \"text-align: right;\">0.0472874</td><td style = \"text-align: right;\">0.168554</td><td style = \"text-align: right;\">0.461221</td><td style = \"text-align: right;\">0.923582</td><td style = \"text-align: right;\">0.993141</td><td style = \"text-align: right;\">0.499462</td><td style = \"text-align: right;\">0.632815</td><td style = \"text-align: right;\">0.326624</td><td style = \"text-align: right;\">0.801396</td><td style = \"text-align: right;\">&ctdot;</td></tr></tbody></table></div>"
      ],
      "text/latex": [
       "\\begin{tabular}{r|ccccccccc}\n",
       "\t& x1 & x2 & x3 & x4 & x5 & x6 & x7 & x8 & \\\\\n",
       "\t\\hline\n",
       "\t& Float64 & Float64 & Float64 & Float64 & Float64 & Float64 & Float64 & Float64 & \\\\\n",
       "\t\\hline\n",
       "\t1 & 0.0523643 & 0.609618 & 0.959066 & 0.940724 & 0.497786 & 0.42965 & 0.913882 & 0.747651 & $\\dots$ \\\\\n",
       "\\end{tabular}\n"
      ],
      "text/plain": [
       "\u001b[1m1×1000 DataFrame\u001b[0m\n",
       "\u001b[1m Row \u001b[0m│\u001b[1m x1        \u001b[0m\u001b[1m x2       \u001b[0m\u001b[1m x3       \u001b[0m\u001b[1m x4       \u001b[0m\u001b[1m x5       \u001b[0m\u001b[1m x6      \u001b[0m\u001b[1m x7       \u001b[0m\u001b[1m x\u001b[0m ⋯\n",
       "     │\u001b[90m Float64   \u001b[0m\u001b[90m Float64  \u001b[0m\u001b[90m Float64  \u001b[0m\u001b[90m Float64  \u001b[0m\u001b[90m Float64  \u001b[0m\u001b[90m Float64 \u001b[0m\u001b[90m Float64  \u001b[0m\u001b[90m F\u001b[0m ⋯\n",
       "─────┼──────────────────────────────────────────────────────────────────────────\n",
       "   1 │ 0.0523643  0.609618  0.959066  0.940724  0.497786  0.42965  0.913882  0 ⋯\n",
       "\u001b[36m                                                             993 columns omitted\u001b[0m"
      ]
     },
     "execution_count": 23,
     "metadata": {},
     "output_type": "execute_result"
    }
   ],
   "source": [
    "@btime $x[1:1, :]"
   ]
  },
  {
   "cell_type": "code",
   "execution_count": 24,
   "metadata": {},
   "outputs": [
    {
     "name": "stdout",
     "output_type": "stream",
     "text": [
      "  23.795 ns (0 allocations: 0 bytes)\n"
     ]
    },
    {
     "data": {
      "text/html": [
       "<div><div style = \"float: left;\"><span>DataFrameRow (1000 columns)</span></div><div style = \"float: right;\"><span style = \"font-style: italic;\">900 columns omitted</span></div><div style = \"clear: both;\"></div></div><div class = \"data-frame\" style = \"overflow-x: scroll;\"><table class = \"data-frame\" style = \"margin-bottom: 6px;\"><thead><tr class = \"header\"><th class = \"rowLabel\" style = \"font-weight: bold; text-align: right;\">Row</th><th style = \"text-align: left;\">x1</th><th style = \"text-align: left;\">x2</th><th style = \"text-align: left;\">x3</th><th style = \"text-align: left;\">x4</th><th style = \"text-align: left;\">x5</th><th style = \"text-align: left;\">x6</th><th style = \"text-align: left;\">x7</th><th style = \"text-align: left;\">x8</th><th style = \"text-align: left;\">x9</th><th style = \"text-align: left;\">x10</th><th style = \"text-align: left;\">x11</th><th style = \"text-align: left;\">x12</th><th style = \"text-align: left;\">x13</th><th style = \"text-align: left;\">x14</th><th style = \"text-align: left;\">x15</th><th style = \"text-align: left;\">x16</th><th style = \"text-align: left;\">x17</th><th style = \"text-align: left;\">x18</th><th style = \"text-align: left;\">x19</th><th style = \"text-align: left;\">x20</th><th style = \"text-align: left;\">x21</th><th style = \"text-align: left;\">x22</th><th style = \"text-align: left;\">x23</th><th style = \"text-align: left;\">x24</th><th style = \"text-align: left;\">x25</th><th style = \"text-align: left;\">x26</th><th style = \"text-align: left;\">x27</th><th style = \"text-align: left;\">x28</th><th style = \"text-align: left;\">x29</th><th style = \"text-align: left;\">x30</th><th style = \"text-align: left;\">x31</th><th style = \"text-align: left;\">x32</th><th style = \"text-align: left;\">x33</th><th style = \"text-align: left;\">x34</th><th style = \"text-align: left;\">x35</th><th style = \"text-align: left;\">x36</th><th style = \"text-align: left;\">x37</th><th style = \"text-align: left;\">x38</th><th style = \"text-align: left;\">x39</th><th style = \"text-align: left;\">x40</th><th style = \"text-align: left;\">x41</th><th style = \"text-align: left;\">x42</th><th style = \"text-align: left;\">x43</th><th style = \"text-align: left;\">x44</th><th style = \"text-align: left;\">x45</th><th style = \"text-align: left;\">x46</th><th style = \"text-align: left;\">x47</th><th style = \"text-align: left;\">x48</th><th style = \"text-align: left;\">x49</th><th style = \"text-align: left;\">x50</th><th style = \"text-align: left;\">x51</th><th style = \"text-align: left;\">x52</th><th style = \"text-align: left;\">x53</th><th style = \"text-align: left;\">x54</th><th style = \"text-align: left;\">x55</th><th style = \"text-align: left;\">x56</th><th style = \"text-align: left;\">x57</th><th style = \"text-align: left;\">x58</th><th style = \"text-align: left;\">x59</th><th style = \"text-align: left;\">x60</th><th style = \"text-align: left;\">x61</th><th style = \"text-align: left;\">x62</th><th style = \"text-align: left;\">x63</th><th style = \"text-align: left;\">x64</th><th style = \"text-align: left;\">x65</th><th style = \"text-align: left;\">x66</th><th style = \"text-align: left;\">x67</th><th style = \"text-align: left;\">x68</th><th style = \"text-align: left;\">x69</th><th style = \"text-align: left;\">x70</th><th style = \"text-align: left;\">x71</th><th style = \"text-align: left;\">x72</th><th style = \"text-align: left;\">x73</th><th style = \"text-align: left;\">x74</th><th style = \"text-align: left;\">x75</th><th style = \"text-align: left;\">x76</th><th style = \"text-align: left;\">x77</th><th style = \"text-align: left;\">x78</th><th style = \"text-align: left;\">x79</th><th style = \"text-align: left;\">x80</th><th style = \"text-align: left;\">x81</th><th style = \"text-align: left;\">x82</th><th style = \"text-align: left;\">x83</th><th style = \"text-align: left;\">x84</th><th style = \"text-align: left;\">x85</th><th style = \"text-align: left;\">x86</th><th style = \"text-align: left;\">x87</th><th style = \"text-align: left;\">x88</th><th style = \"text-align: left;\">x89</th><th style = \"text-align: left;\">x90</th><th style = \"text-align: left;\">x91</th><th style = \"text-align: left;\">x92</th><th style = \"text-align: left;\">x93</th><th style = \"text-align: left;\">x94</th><th style = \"text-align: left;\">x95</th><th style = \"text-align: left;\">x96</th><th style = \"text-align: left;\">x97</th><th style = \"text-align: left;\">x98</th><th style = \"text-align: left;\">x99</th><th style = \"text-align: left;\">x100</th><th style = \"text-align: right;\">&ctdot;</th></tr><tr class = \"subheader headerLastRow\"><th class = \"rowLabel\" style = \"font-weight: bold; text-align: right;\"></th><th title = \"Float64\" style = \"text-align: left;\">Float64</th><th title = \"Float64\" style = \"text-align: left;\">Float64</th><th title = \"Float64\" style = \"text-align: left;\">Float64</th><th title = \"Float64\" style = \"text-align: left;\">Float64</th><th title = \"Float64\" style = \"text-align: left;\">Float64</th><th title = \"Float64\" style = \"text-align: left;\">Float64</th><th title = \"Float64\" style = \"text-align: left;\">Float64</th><th title = \"Float64\" style = \"text-align: left;\">Float64</th><th title = \"Float64\" style = \"text-align: left;\">Float64</th><th title = \"Float64\" style = \"text-align: left;\">Float64</th><th title = \"Float64\" style = \"text-align: left;\">Float64</th><th title = \"Float64\" style = \"text-align: left;\">Float64</th><th title = \"Float64\" style = \"text-align: left;\">Float64</th><th title = \"Float64\" style = \"text-align: left;\">Float64</th><th title = \"Float64\" style = \"text-align: left;\">Float64</th><th title = \"Float64\" style = \"text-align: left;\">Float64</th><th title = \"Float64\" style = \"text-align: left;\">Float64</th><th title = \"Float64\" style = \"text-align: left;\">Float64</th><th title = \"Float64\" style = \"text-align: left;\">Float64</th><th title = \"Float64\" style = \"text-align: left;\">Float64</th><th title = \"Float64\" style = \"text-align: left;\">Float64</th><th title = \"Float64\" style = \"text-align: left;\">Float64</th><th title = \"Float64\" style = \"text-align: left;\">Float64</th><th title = \"Float64\" style = \"text-align: left;\">Float64</th><th title = \"Float64\" style = \"text-align: left;\">Float64</th><th title = \"Float64\" style = \"text-align: left;\">Float64</th><th title = \"Float64\" style = \"text-align: left;\">Float64</th><th title = \"Float64\" style = \"text-align: left;\">Float64</th><th title = \"Float64\" style = \"text-align: left;\">Float64</th><th title = \"Float64\" style = \"text-align: left;\">Float64</th><th title = \"Float64\" style = \"text-align: left;\">Float64</th><th title = \"Float64\" style = \"text-align: left;\">Float64</th><th title = \"Float64\" style = \"text-align: left;\">Float64</th><th title = \"Float64\" style = \"text-align: left;\">Float64</th><th title = \"Float64\" style = \"text-align: left;\">Float64</th><th title = \"Float64\" style = \"text-align: left;\">Float64</th><th title = \"Float64\" style = \"text-align: left;\">Float64</th><th title = \"Float64\" style = \"text-align: left;\">Float64</th><th title = \"Float64\" style = \"text-align: left;\">Float64</th><th title = \"Float64\" style = \"text-align: left;\">Float64</th><th title = \"Float64\" style = \"text-align: left;\">Float64</th><th title = \"Float64\" style = \"text-align: left;\">Float64</th><th title = \"Float64\" style = \"text-align: left;\">Float64</th><th title = \"Float64\" style = \"text-align: left;\">Float64</th><th title = \"Float64\" style = \"text-align: left;\">Float64</th><th title = \"Float64\" style = \"text-align: left;\">Float64</th><th title = \"Float64\" style = \"text-align: left;\">Float64</th><th title = \"Float64\" style = \"text-align: left;\">Float64</th><th title = \"Float64\" style = \"text-align: left;\">Float64</th><th title = \"Float64\" style = \"text-align: left;\">Float64</th><th title = \"Float64\" style = \"text-align: left;\">Float64</th><th title = \"Float64\" style = \"text-align: left;\">Float64</th><th title = \"Float64\" style = \"text-align: left;\">Float64</th><th title = \"Float64\" style = \"text-align: left;\">Float64</th><th title = \"Float64\" style = \"text-align: left;\">Float64</th><th title = \"Float64\" style = \"text-align: left;\">Float64</th><th title = \"Float64\" style = \"text-align: left;\">Float64</th><th title = \"Float64\" style = \"text-align: left;\">Float64</th><th title = \"Float64\" style = \"text-align: left;\">Float64</th><th title = \"Float64\" style = \"text-align: left;\">Float64</th><th title = \"Float64\" style = \"text-align: left;\">Float64</th><th title = \"Float64\" style = \"text-align: left;\">Float64</th><th title = \"Float64\" style = \"text-align: left;\">Float64</th><th title = \"Float64\" style = \"text-align: left;\">Float64</th><th title = \"Float64\" style = \"text-align: left;\">Float64</th><th title = \"Float64\" style = \"text-align: left;\">Float64</th><th title = \"Float64\" style = \"text-align: left;\">Float64</th><th title = \"Float64\" style = \"text-align: left;\">Float64</th><th title = \"Float64\" style = \"text-align: left;\">Float64</th><th title = \"Float64\" style = \"text-align: left;\">Float64</th><th title = \"Float64\" style = \"text-align: left;\">Float64</th><th title = \"Float64\" style = \"text-align: left;\">Float64</th><th title = \"Float64\" style = \"text-align: left;\">Float64</th><th title = \"Float64\" style = \"text-align: left;\">Float64</th><th title = \"Float64\" style = \"text-align: left;\">Float64</th><th title = \"Float64\" style = \"text-align: left;\">Float64</th><th title = \"Float64\" style = \"text-align: left;\">Float64</th><th title = \"Float64\" style = \"text-align: left;\">Float64</th><th title = \"Float64\" style = \"text-align: left;\">Float64</th><th title = \"Float64\" style = \"text-align: left;\">Float64</th><th title = \"Float64\" style = \"text-align: left;\">Float64</th><th title = \"Float64\" style = \"text-align: left;\">Float64</th><th title = \"Float64\" style = \"text-align: left;\">Float64</th><th title = \"Float64\" style = \"text-align: left;\">Float64</th><th title = \"Float64\" style = \"text-align: left;\">Float64</th><th title = \"Float64\" style = \"text-align: left;\">Float64</th><th title = \"Float64\" style = \"text-align: left;\">Float64</th><th title = \"Float64\" style = \"text-align: left;\">Float64</th><th title = \"Float64\" style = \"text-align: left;\">Float64</th><th title = \"Float64\" style = \"text-align: left;\">Float64</th><th title = \"Float64\" style = \"text-align: left;\">Float64</th><th title = \"Float64\" style = \"text-align: left;\">Float64</th><th title = \"Float64\" style = \"text-align: left;\">Float64</th><th title = \"Float64\" style = \"text-align: left;\">Float64</th><th title = \"Float64\" style = \"text-align: left;\">Float64</th><th title = \"Float64\" style = \"text-align: left;\">Float64</th><th title = \"Float64\" style = \"text-align: left;\">Float64</th><th title = \"Float64\" style = \"text-align: left;\">Float64</th><th title = \"Float64\" style = \"text-align: left;\">Float64</th><th title = \"Float64\" style = \"text-align: left;\">Float64</th><th title = \"Float64\" style = \"text-align: right;\">&ctdot;</th></tr></thead><tbody><tr><td class = \"rowLabel\" style = \"font-weight: bold; text-align: right;\">1</td><td style = \"text-align: right;\">0.0523643</td><td style = \"text-align: right;\">0.609618</td><td style = \"text-align: right;\">0.959066</td><td style = \"text-align: right;\">0.940724</td><td style = \"text-align: right;\">0.497786</td><td style = \"text-align: right;\">0.42965</td><td style = \"text-align: right;\">0.913882</td><td style = \"text-align: right;\">0.747651</td><td style = \"text-align: right;\">0.446724</td><td style = \"text-align: right;\">0.0749807</td><td style = \"text-align: right;\">0.293294</td><td style = \"text-align: right;\">0.680345</td><td style = \"text-align: right;\">0.162048</td><td style = \"text-align: right;\">0.159452</td><td style = \"text-align: right;\">0.958113</td><td style = \"text-align: right;\">0.922532</td><td style = \"text-align: right;\">0.834303</td><td style = \"text-align: right;\">0.966029</td><td style = \"text-align: right;\">0.38394</td><td style = \"text-align: right;\">0.625653</td><td style = \"text-align: right;\">0.830014</td><td style = \"text-align: right;\">0.251016</td><td style = \"text-align: right;\">0.357237</td><td style = \"text-align: right;\">0.466607</td><td style = \"text-align: right;\">0.749349</td><td style = \"text-align: right;\">0.126183</td><td style = \"text-align: right;\">0.109127</td><td style = \"text-align: right;\">0.0957731</td><td style = \"text-align: right;\">0.194717</td><td style = \"text-align: right;\">0.355339</td><td style = \"text-align: right;\">0.514552</td><td style = \"text-align: right;\">0.744211</td><td style = \"text-align: right;\">0.123781</td><td style = \"text-align: right;\">0.320412</td><td style = \"text-align: right;\">0.552054</td><td style = \"text-align: right;\">0.482046</td><td style = \"text-align: right;\">0.882937</td><td style = \"text-align: right;\">0.629033</td><td style = \"text-align: right;\">0.709226</td><td style = \"text-align: right;\">0.40338</td><td style = \"text-align: right;\">0.267963</td><td style = \"text-align: right;\">0.149298</td><td style = \"text-align: right;\">0.599479</td><td style = \"text-align: right;\">0.479195</td><td style = \"text-align: right;\">0.173125</td><td style = \"text-align: right;\">0.610714</td><td style = \"text-align: right;\">0.0543737</td><td style = \"text-align: right;\">0.0209455</td><td style = \"text-align: right;\">0.620016</td><td style = \"text-align: right;\">0.679305</td><td style = \"text-align: right;\">0.813113</td><td style = \"text-align: right;\">0.52726</td><td style = \"text-align: right;\">0.678049</td><td style = \"text-align: right;\">0.602801</td><td style = \"text-align: right;\">0.263353</td><td style = \"text-align: right;\">0.140502</td><td style = \"text-align: right;\">0.173345</td><td style = \"text-align: right;\">0.00508686</td><td style = \"text-align: right;\">0.882622</td><td style = \"text-align: right;\">0.671508</td><td style = \"text-align: right;\">0.903111</td><td style = \"text-align: right;\">0.992132</td><td style = \"text-align: right;\">0.130133</td><td style = \"text-align: right;\">0.825957</td><td style = \"text-align: right;\">0.749588</td><td style = \"text-align: right;\">0.413133</td><td style = \"text-align: right;\">0.453115</td><td style = \"text-align: right;\">0.981498</td><td style = \"text-align: right;\">0.670985</td><td style = \"text-align: right;\">0.430595</td><td style = \"text-align: right;\">0.716924</td><td style = \"text-align: right;\">0.111158</td><td style = \"text-align: right;\">0.285703</td><td style = \"text-align: right;\">0.984693</td><td style = \"text-align: right;\">0.408762</td><td style = \"text-align: right;\">0.84116</td><td style = \"text-align: right;\">0.58661</td><td style = \"text-align: right;\">0.376678</td><td style = \"text-align: right;\">0.117205</td><td style = \"text-align: right;\">0.872283</td><td style = \"text-align: right;\">0.373637</td><td style = \"text-align: right;\">0.367935</td><td style = \"text-align: right;\">0.850897</td><td style = \"text-align: right;\">0.338093</td><td style = \"text-align: right;\">0.826562</td><td style = \"text-align: right;\">0.0382447</td><td style = \"text-align: right;\">0.379849</td><td style = \"text-align: right;\">0.622853</td><td style = \"text-align: right;\">0.923399</td><td style = \"text-align: right;\">0.766872</td><td style = \"text-align: right;\">0.364495</td><td style = \"text-align: right;\">0.0472874</td><td style = \"text-align: right;\">0.168554</td><td style = \"text-align: right;\">0.461221</td><td style = \"text-align: right;\">0.923582</td><td style = \"text-align: right;\">0.993141</td><td style = \"text-align: right;\">0.499462</td><td style = \"text-align: right;\">0.632815</td><td style = \"text-align: right;\">0.326624</td><td style = \"text-align: right;\">0.801396</td><td style = \"text-align: right;\">&ctdot;</td></tr></tbody></table></div>"
      ],
      "text/latex": [
       "\\begin{tabular}{r|ccccccccc}\n",
       "\t& x1 & x2 & x3 & x4 & x5 & x6 & x7 & x8 & \\\\\n",
       "\t\\hline\n",
       "\t& Float64 & Float64 & Float64 & Float64 & Float64 & Float64 & Float64 & Float64 & \\\\\n",
       "\t\\hline\n",
       "\t1 & 0.0523643 & 0.609618 & 0.959066 & 0.940724 & 0.497786 & 0.42965 & 0.913882 & 0.747651 & $\\dots$ \\\\\n",
       "\\end{tabular}\n"
      ],
      "text/plain": [
       "\u001b[1mDataFrameRow\u001b[0m\n",
       "\u001b[1m Row \u001b[0m│\u001b[1m x1        \u001b[0m\u001b[1m x2       \u001b[0m\u001b[1m x3       \u001b[0m\u001b[1m x4       \u001b[0m\u001b[1m x5       \u001b[0m\u001b[1m x6      \u001b[0m\u001b[1m x7       \u001b[0m\u001b[1m x\u001b[0m ⋯\n",
       "     │\u001b[90m Float64   \u001b[0m\u001b[90m Float64  \u001b[0m\u001b[90m Float64  \u001b[0m\u001b[90m Float64  \u001b[0m\u001b[90m Float64  \u001b[0m\u001b[90m Float64 \u001b[0m\u001b[90m Float64  \u001b[0m\u001b[90m F\u001b[0m ⋯\n",
       "─────┼──────────────────────────────────────────────────────────────────────────\n",
       "   1 │ 0.0523643  0.609618  0.959066  0.940724  0.497786  0.42965  0.913882  0 ⋯\n",
       "\u001b[36m                                                             993 columns omitted\u001b[0m"
      ]
     },
     "execution_count": 24,
     "metadata": {},
     "output_type": "execute_result"
    }
   ],
   "source": [
    "@btime $x[1, :]"
   ]
  },
  {
   "cell_type": "code",
   "execution_count": 25,
   "metadata": {},
   "outputs": [
    {
     "name": "stdout",
     "output_type": "stream",
     "text": [
      "  23.795 ns (0 allocations: 0 bytes)\n"
     ]
    },
    {
     "data": {
      "text/html": [
       "<div><div style = \"float: left;\"><span>1×1000 SubDataFrame</span></div><div style = \"float: right;\"><span style = \"font-style: italic;\">900 columns omitted</span></div><div style = \"clear: both;\"></div></div><div class = \"data-frame\" style = \"overflow-x: scroll;\"><table class = \"data-frame\" style = \"margin-bottom: 6px;\"><thead><tr class = \"header\"><th class = \"rowNumber\" style = \"font-weight: bold; text-align: right;\">Row</th><th style = \"text-align: left;\">x1</th><th style = \"text-align: left;\">x2</th><th style = \"text-align: left;\">x3</th><th style = \"text-align: left;\">x4</th><th style = \"text-align: left;\">x5</th><th style = \"text-align: left;\">x6</th><th style = \"text-align: left;\">x7</th><th style = \"text-align: left;\">x8</th><th style = \"text-align: left;\">x9</th><th style = \"text-align: left;\">x10</th><th style = \"text-align: left;\">x11</th><th style = \"text-align: left;\">x12</th><th style = \"text-align: left;\">x13</th><th style = \"text-align: left;\">x14</th><th style = \"text-align: left;\">x15</th><th style = \"text-align: left;\">x16</th><th style = \"text-align: left;\">x17</th><th style = \"text-align: left;\">x18</th><th style = \"text-align: left;\">x19</th><th style = \"text-align: left;\">x20</th><th style = \"text-align: left;\">x21</th><th style = \"text-align: left;\">x22</th><th style = \"text-align: left;\">x23</th><th style = \"text-align: left;\">x24</th><th style = \"text-align: left;\">x25</th><th style = \"text-align: left;\">x26</th><th style = \"text-align: left;\">x27</th><th style = \"text-align: left;\">x28</th><th style = \"text-align: left;\">x29</th><th style = \"text-align: left;\">x30</th><th style = \"text-align: left;\">x31</th><th style = \"text-align: left;\">x32</th><th style = \"text-align: left;\">x33</th><th style = \"text-align: left;\">x34</th><th style = \"text-align: left;\">x35</th><th style = \"text-align: left;\">x36</th><th style = \"text-align: left;\">x37</th><th style = \"text-align: left;\">x38</th><th style = \"text-align: left;\">x39</th><th style = \"text-align: left;\">x40</th><th style = \"text-align: left;\">x41</th><th style = \"text-align: left;\">x42</th><th style = \"text-align: left;\">x43</th><th style = \"text-align: left;\">x44</th><th style = \"text-align: left;\">x45</th><th style = \"text-align: left;\">x46</th><th style = \"text-align: left;\">x47</th><th style = \"text-align: left;\">x48</th><th style = \"text-align: left;\">x49</th><th style = \"text-align: left;\">x50</th><th style = \"text-align: left;\">x51</th><th style = \"text-align: left;\">x52</th><th style = \"text-align: left;\">x53</th><th style = \"text-align: left;\">x54</th><th style = \"text-align: left;\">x55</th><th style = \"text-align: left;\">x56</th><th style = \"text-align: left;\">x57</th><th style = \"text-align: left;\">x58</th><th style = \"text-align: left;\">x59</th><th style = \"text-align: left;\">x60</th><th style = \"text-align: left;\">x61</th><th style = \"text-align: left;\">x62</th><th style = \"text-align: left;\">x63</th><th style = \"text-align: left;\">x64</th><th style = \"text-align: left;\">x65</th><th style = \"text-align: left;\">x66</th><th style = \"text-align: left;\">x67</th><th style = \"text-align: left;\">x68</th><th style = \"text-align: left;\">x69</th><th style = \"text-align: left;\">x70</th><th style = \"text-align: left;\">x71</th><th style = \"text-align: left;\">x72</th><th style = \"text-align: left;\">x73</th><th style = \"text-align: left;\">x74</th><th style = \"text-align: left;\">x75</th><th style = \"text-align: left;\">x76</th><th style = \"text-align: left;\">x77</th><th style = \"text-align: left;\">x78</th><th style = \"text-align: left;\">x79</th><th style = \"text-align: left;\">x80</th><th style = \"text-align: left;\">x81</th><th style = \"text-align: left;\">x82</th><th style = \"text-align: left;\">x83</th><th style = \"text-align: left;\">x84</th><th style = \"text-align: left;\">x85</th><th style = \"text-align: left;\">x86</th><th style = \"text-align: left;\">x87</th><th style = \"text-align: left;\">x88</th><th style = \"text-align: left;\">x89</th><th style = \"text-align: left;\">x90</th><th style = \"text-align: left;\">x91</th><th style = \"text-align: left;\">x92</th><th style = \"text-align: left;\">x93</th><th style = \"text-align: left;\">x94</th><th style = \"text-align: left;\">x95</th><th style = \"text-align: left;\">x96</th><th style = \"text-align: left;\">x97</th><th style = \"text-align: left;\">x98</th><th style = \"text-align: left;\">x99</th><th style = \"text-align: left;\">x100</th><th style = \"text-align: right;\">&ctdot;</th></tr><tr class = \"subheader headerLastRow\"><th class = \"rowNumber\" style = \"font-weight: bold; text-align: right;\"></th><th title = \"Float64\" style = \"text-align: left;\">Float64</th><th title = \"Float64\" style = \"text-align: left;\">Float64</th><th title = \"Float64\" style = \"text-align: left;\">Float64</th><th title = \"Float64\" style = \"text-align: left;\">Float64</th><th title = \"Float64\" style = \"text-align: left;\">Float64</th><th title = \"Float64\" style = \"text-align: left;\">Float64</th><th title = \"Float64\" style = \"text-align: left;\">Float64</th><th title = \"Float64\" style = \"text-align: left;\">Float64</th><th title = \"Float64\" style = \"text-align: left;\">Float64</th><th title = \"Float64\" style = \"text-align: left;\">Float64</th><th title = \"Float64\" style = \"text-align: left;\">Float64</th><th title = \"Float64\" style = \"text-align: left;\">Float64</th><th title = \"Float64\" style = \"text-align: left;\">Float64</th><th title = \"Float64\" style = \"text-align: left;\">Float64</th><th title = \"Float64\" style = \"text-align: left;\">Float64</th><th title = \"Float64\" style = \"text-align: left;\">Float64</th><th title = \"Float64\" style = \"text-align: left;\">Float64</th><th title = \"Float64\" style = \"text-align: left;\">Float64</th><th title = \"Float64\" style = \"text-align: left;\">Float64</th><th title = \"Float64\" style = \"text-align: left;\">Float64</th><th title = \"Float64\" style = \"text-align: left;\">Float64</th><th title = \"Float64\" style = \"text-align: left;\">Float64</th><th title = \"Float64\" style = \"text-align: left;\">Float64</th><th title = \"Float64\" style = \"text-align: left;\">Float64</th><th title = \"Float64\" style = \"text-align: left;\">Float64</th><th title = \"Float64\" style = \"text-align: left;\">Float64</th><th title = \"Float64\" style = \"text-align: left;\">Float64</th><th title = \"Float64\" style = \"text-align: left;\">Float64</th><th title = \"Float64\" style = \"text-align: left;\">Float64</th><th title = \"Float64\" style = \"text-align: left;\">Float64</th><th title = \"Float64\" style = \"text-align: left;\">Float64</th><th title = \"Float64\" style = \"text-align: left;\">Float64</th><th title = \"Float64\" style = \"text-align: left;\">Float64</th><th title = \"Float64\" style = \"text-align: left;\">Float64</th><th title = \"Float64\" style = \"text-align: left;\">Float64</th><th title = \"Float64\" style = \"text-align: left;\">Float64</th><th title = \"Float64\" style = \"text-align: left;\">Float64</th><th title = \"Float64\" style = \"text-align: left;\">Float64</th><th title = \"Float64\" style = \"text-align: left;\">Float64</th><th title = \"Float64\" style = \"text-align: left;\">Float64</th><th title = \"Float64\" style = \"text-align: left;\">Float64</th><th title = \"Float64\" style = \"text-align: left;\">Float64</th><th title = \"Float64\" style = \"text-align: left;\">Float64</th><th title = \"Float64\" style = \"text-align: left;\">Float64</th><th title = \"Float64\" style = \"text-align: left;\">Float64</th><th title = \"Float64\" style = \"text-align: left;\">Float64</th><th title = \"Float64\" style = \"text-align: left;\">Float64</th><th title = \"Float64\" style = \"text-align: left;\">Float64</th><th title = \"Float64\" style = \"text-align: left;\">Float64</th><th title = \"Float64\" style = \"text-align: left;\">Float64</th><th title = \"Float64\" style = \"text-align: left;\">Float64</th><th title = \"Float64\" style = \"text-align: left;\">Float64</th><th title = \"Float64\" style = \"text-align: left;\">Float64</th><th title = \"Float64\" style = \"text-align: left;\">Float64</th><th title = \"Float64\" style = \"text-align: left;\">Float64</th><th title = \"Float64\" style = \"text-align: left;\">Float64</th><th title = \"Float64\" style = \"text-align: left;\">Float64</th><th title = \"Float64\" style = \"text-align: left;\">Float64</th><th title = \"Float64\" style = \"text-align: left;\">Float64</th><th title = \"Float64\" style = \"text-align: left;\">Float64</th><th title = \"Float64\" style = \"text-align: left;\">Float64</th><th title = \"Float64\" style = \"text-align: left;\">Float64</th><th title = \"Float64\" style = \"text-align: left;\">Float64</th><th title = \"Float64\" style = \"text-align: left;\">Float64</th><th title = \"Float64\" style = \"text-align: left;\">Float64</th><th title = \"Float64\" style = \"text-align: left;\">Float64</th><th title = \"Float64\" style = \"text-align: left;\">Float64</th><th title = \"Float64\" style = \"text-align: left;\">Float64</th><th title = \"Float64\" style = \"text-align: left;\">Float64</th><th title = \"Float64\" style = \"text-align: left;\">Float64</th><th title = \"Float64\" style = \"text-align: left;\">Float64</th><th title = \"Float64\" style = \"text-align: left;\">Float64</th><th title = \"Float64\" style = \"text-align: left;\">Float64</th><th title = \"Float64\" style = \"text-align: left;\">Float64</th><th title = \"Float64\" style = \"text-align: left;\">Float64</th><th title = \"Float64\" style = \"text-align: left;\">Float64</th><th title = \"Float64\" style = \"text-align: left;\">Float64</th><th title = \"Float64\" style = \"text-align: left;\">Float64</th><th title = \"Float64\" style = \"text-align: left;\">Float64</th><th title = \"Float64\" style = \"text-align: left;\">Float64</th><th title = \"Float64\" style = \"text-align: left;\">Float64</th><th title = \"Float64\" style = \"text-align: left;\">Float64</th><th title = \"Float64\" style = \"text-align: left;\">Float64</th><th title = \"Float64\" style = \"text-align: left;\">Float64</th><th title = \"Float64\" style = \"text-align: left;\">Float64</th><th title = \"Float64\" style = \"text-align: left;\">Float64</th><th title = \"Float64\" style = \"text-align: left;\">Float64</th><th title = \"Float64\" style = \"text-align: left;\">Float64</th><th title = \"Float64\" style = \"text-align: left;\">Float64</th><th title = \"Float64\" style = \"text-align: left;\">Float64</th><th title = \"Float64\" style = \"text-align: left;\">Float64</th><th title = \"Float64\" style = \"text-align: left;\">Float64</th><th title = \"Float64\" style = \"text-align: left;\">Float64</th><th title = \"Float64\" style = \"text-align: left;\">Float64</th><th title = \"Float64\" style = \"text-align: left;\">Float64</th><th title = \"Float64\" style = \"text-align: left;\">Float64</th><th title = \"Float64\" style = \"text-align: left;\">Float64</th><th title = \"Float64\" style = \"text-align: left;\">Float64</th><th title = \"Float64\" style = \"text-align: left;\">Float64</th><th title = \"Float64\" style = \"text-align: left;\">Float64</th><th title = \"Float64\" style = \"text-align: right;\">&ctdot;</th></tr></thead><tbody><tr><td class = \"rowNumber\" style = \"font-weight: bold; text-align: right;\">1</td><td style = \"text-align: right;\">0.0523643</td><td style = \"text-align: right;\">0.609618</td><td style = \"text-align: right;\">0.959066</td><td style = \"text-align: right;\">0.940724</td><td style = \"text-align: right;\">0.497786</td><td style = \"text-align: right;\">0.42965</td><td style = \"text-align: right;\">0.913882</td><td style = \"text-align: right;\">0.747651</td><td style = \"text-align: right;\">0.446724</td><td style = \"text-align: right;\">0.0749807</td><td style = \"text-align: right;\">0.293294</td><td style = \"text-align: right;\">0.680345</td><td style = \"text-align: right;\">0.162048</td><td style = \"text-align: right;\">0.159452</td><td style = \"text-align: right;\">0.958113</td><td style = \"text-align: right;\">0.922532</td><td style = \"text-align: right;\">0.834303</td><td style = \"text-align: right;\">0.966029</td><td style = \"text-align: right;\">0.38394</td><td style = \"text-align: right;\">0.625653</td><td style = \"text-align: right;\">0.830014</td><td style = \"text-align: right;\">0.251016</td><td style = \"text-align: right;\">0.357237</td><td style = \"text-align: right;\">0.466607</td><td style = \"text-align: right;\">0.749349</td><td style = \"text-align: right;\">0.126183</td><td style = \"text-align: right;\">0.109127</td><td style = \"text-align: right;\">0.0957731</td><td style = \"text-align: right;\">0.194717</td><td style = \"text-align: right;\">0.355339</td><td style = \"text-align: right;\">0.514552</td><td style = \"text-align: right;\">0.744211</td><td style = \"text-align: right;\">0.123781</td><td style = \"text-align: right;\">0.320412</td><td style = \"text-align: right;\">0.552054</td><td style = \"text-align: right;\">0.482046</td><td style = \"text-align: right;\">0.882937</td><td style = \"text-align: right;\">0.629033</td><td style = \"text-align: right;\">0.709226</td><td style = \"text-align: right;\">0.40338</td><td style = \"text-align: right;\">0.267963</td><td style = \"text-align: right;\">0.149298</td><td style = \"text-align: right;\">0.599479</td><td style = \"text-align: right;\">0.479195</td><td style = \"text-align: right;\">0.173125</td><td style = \"text-align: right;\">0.610714</td><td style = \"text-align: right;\">0.0543737</td><td style = \"text-align: right;\">0.0209455</td><td style = \"text-align: right;\">0.620016</td><td style = \"text-align: right;\">0.679305</td><td style = \"text-align: right;\">0.813113</td><td style = \"text-align: right;\">0.52726</td><td style = \"text-align: right;\">0.678049</td><td style = \"text-align: right;\">0.602801</td><td style = \"text-align: right;\">0.263353</td><td style = \"text-align: right;\">0.140502</td><td style = \"text-align: right;\">0.173345</td><td style = \"text-align: right;\">0.00508686</td><td style = \"text-align: right;\">0.882622</td><td style = \"text-align: right;\">0.671508</td><td style = \"text-align: right;\">0.903111</td><td style = \"text-align: right;\">0.992132</td><td style = \"text-align: right;\">0.130133</td><td style = \"text-align: right;\">0.825957</td><td style = \"text-align: right;\">0.749588</td><td style = \"text-align: right;\">0.413133</td><td style = \"text-align: right;\">0.453115</td><td style = \"text-align: right;\">0.981498</td><td style = \"text-align: right;\">0.670985</td><td style = \"text-align: right;\">0.430595</td><td style = \"text-align: right;\">0.716924</td><td style = \"text-align: right;\">0.111158</td><td style = \"text-align: right;\">0.285703</td><td style = \"text-align: right;\">0.984693</td><td style = \"text-align: right;\">0.408762</td><td style = \"text-align: right;\">0.84116</td><td style = \"text-align: right;\">0.58661</td><td style = \"text-align: right;\">0.376678</td><td style = \"text-align: right;\">0.117205</td><td style = \"text-align: right;\">0.872283</td><td style = \"text-align: right;\">0.373637</td><td style = \"text-align: right;\">0.367935</td><td style = \"text-align: right;\">0.850897</td><td style = \"text-align: right;\">0.338093</td><td style = \"text-align: right;\">0.826562</td><td style = \"text-align: right;\">0.0382447</td><td style = \"text-align: right;\">0.379849</td><td style = \"text-align: right;\">0.622853</td><td style = \"text-align: right;\">0.923399</td><td style = \"text-align: right;\">0.766872</td><td style = \"text-align: right;\">0.364495</td><td style = \"text-align: right;\">0.0472874</td><td style = \"text-align: right;\">0.168554</td><td style = \"text-align: right;\">0.461221</td><td style = \"text-align: right;\">0.923582</td><td style = \"text-align: right;\">0.993141</td><td style = \"text-align: right;\">0.499462</td><td style = \"text-align: right;\">0.632815</td><td style = \"text-align: right;\">0.326624</td><td style = \"text-align: right;\">0.801396</td><td style = \"text-align: right;\">&ctdot;</td></tr></tbody></table></div>"
      ],
      "text/latex": [
       "\\begin{tabular}{r|ccccccccc}\n",
       "\t& x1 & x2 & x3 & x4 & x5 & x6 & x7 & x8 & \\\\\n",
       "\t\\hline\n",
       "\t& Float64 & Float64 & Float64 & Float64 & Float64 & Float64 & Float64 & Float64 & \\\\\n",
       "\t\\hline\n",
       "\t1 & 0.0523643 & 0.609618 & 0.959066 & 0.940724 & 0.497786 & 0.42965 & 0.913882 & 0.747651 & $\\dots$ \\\\\n",
       "\\end{tabular}\n"
      ],
      "text/plain": [
       "\u001b[1m1×1000 SubDataFrame\u001b[0m\n",
       "\u001b[1m Row \u001b[0m│\u001b[1m x1        \u001b[0m\u001b[1m x2       \u001b[0m\u001b[1m x3       \u001b[0m\u001b[1m x4       \u001b[0m\u001b[1m x5       \u001b[0m\u001b[1m x6      \u001b[0m\u001b[1m x7       \u001b[0m\u001b[1m x\u001b[0m ⋯\n",
       "     │\u001b[90m Float64   \u001b[0m\u001b[90m Float64  \u001b[0m\u001b[90m Float64  \u001b[0m\u001b[90m Float64  \u001b[0m\u001b[90m Float64  \u001b[0m\u001b[90m Float64 \u001b[0m\u001b[90m Float64  \u001b[0m\u001b[90m F\u001b[0m ⋯\n",
       "─────┼──────────────────────────────────────────────────────────────────────────\n",
       "   1 │ 0.0523643  0.609618  0.959066  0.940724  0.497786  0.42965  0.913882  0 ⋯\n",
       "\u001b[36m                                                             993 columns omitted\u001b[0m"
      ]
     },
     "execution_count": 25,
     "metadata": {},
     "output_type": "execute_result"
    }
   ],
   "source": [
    "@btime view($x, 1:1, :)"
   ]
  },
  {
   "cell_type": "code",
   "execution_count": 26,
   "metadata": {},
   "outputs": [
    {
     "name": "stdout",
     "output_type": "stream",
     "text": [
      "  4.287 μs (51 allocations: 4.28 KiB)\n"
     ]
    },
    {
     "data": {
      "text/html": [
       "<div><div style = \"float: left;\"><span>1×20 DataFrame</span></div><div style = \"clear: both;\"></div></div><div class = \"data-frame\" style = \"overflow-x: scroll;\"><table class = \"data-frame\" style = \"margin-bottom: 6px;\"><thead><tr class = \"header\"><th class = \"rowNumber\" style = \"font-weight: bold; text-align: right;\">Row</th><th style = \"text-align: left;\">x1</th><th style = \"text-align: left;\">x2</th><th style = \"text-align: left;\">x3</th><th style = \"text-align: left;\">x4</th><th style = \"text-align: left;\">x5</th><th style = \"text-align: left;\">x6</th><th style = \"text-align: left;\">x7</th><th style = \"text-align: left;\">x8</th><th style = \"text-align: left;\">x9</th><th style = \"text-align: left;\">x10</th><th style = \"text-align: left;\">x11</th><th style = \"text-align: left;\">x12</th><th style = \"text-align: left;\">x13</th><th style = \"text-align: left;\">x14</th><th style = \"text-align: left;\">x15</th><th style = \"text-align: left;\">x16</th><th style = \"text-align: left;\">x17</th><th style = \"text-align: left;\">x18</th><th style = \"text-align: left;\">x19</th><th style = \"text-align: left;\">x20</th></tr><tr class = \"subheader headerLastRow\"><th class = \"rowNumber\" style = \"font-weight: bold; text-align: right;\"></th><th title = \"Float64\" style = \"text-align: left;\">Float64</th><th title = \"Float64\" style = \"text-align: left;\">Float64</th><th title = \"Float64\" style = \"text-align: left;\">Float64</th><th title = \"Float64\" style = \"text-align: left;\">Float64</th><th title = \"Float64\" style = \"text-align: left;\">Float64</th><th title = \"Float64\" style = \"text-align: left;\">Float64</th><th title = \"Float64\" style = \"text-align: left;\">Float64</th><th title = \"Float64\" style = \"text-align: left;\">Float64</th><th title = \"Float64\" style = \"text-align: left;\">Float64</th><th title = \"Float64\" style = \"text-align: left;\">Float64</th><th title = \"Float64\" style = \"text-align: left;\">Float64</th><th title = \"Float64\" style = \"text-align: left;\">Float64</th><th title = \"Float64\" style = \"text-align: left;\">Float64</th><th title = \"Float64\" style = \"text-align: left;\">Float64</th><th title = \"Float64\" style = \"text-align: left;\">Float64</th><th title = \"Float64\" style = \"text-align: left;\">Float64</th><th title = \"Float64\" style = \"text-align: left;\">Float64</th><th title = \"Float64\" style = \"text-align: left;\">Float64</th><th title = \"Float64\" style = \"text-align: left;\">Float64</th><th title = \"Float64\" style = \"text-align: left;\">Float64</th></tr></thead><tbody><tr><td class = \"rowNumber\" style = \"font-weight: bold; text-align: right;\">1</td><td style = \"text-align: right;\">0.0523643</td><td style = \"text-align: right;\">0.609618</td><td style = \"text-align: right;\">0.959066</td><td style = \"text-align: right;\">0.940724</td><td style = \"text-align: right;\">0.497786</td><td style = \"text-align: right;\">0.42965</td><td style = \"text-align: right;\">0.913882</td><td style = \"text-align: right;\">0.747651</td><td style = \"text-align: right;\">0.446724</td><td style = \"text-align: right;\">0.0749807</td><td style = \"text-align: right;\">0.293294</td><td style = \"text-align: right;\">0.680345</td><td style = \"text-align: right;\">0.162048</td><td style = \"text-align: right;\">0.159452</td><td style = \"text-align: right;\">0.958113</td><td style = \"text-align: right;\">0.922532</td><td style = \"text-align: right;\">0.834303</td><td style = \"text-align: right;\">0.966029</td><td style = \"text-align: right;\">0.38394</td><td style = \"text-align: right;\">0.625653</td></tr></tbody></table></div>"
      ],
      "text/latex": [
       "\\begin{tabular}{r|ccccccccc}\n",
       "\t& x1 & x2 & x3 & x4 & x5 & x6 & x7 & x8 & \\\\\n",
       "\t\\hline\n",
       "\t& Float64 & Float64 & Float64 & Float64 & Float64 & Float64 & Float64 & Float64 & \\\\\n",
       "\t\\hline\n",
       "\t1 & 0.0523643 & 0.609618 & 0.959066 & 0.940724 & 0.497786 & 0.42965 & 0.913882 & 0.747651 & $\\dots$ \\\\\n",
       "\\end{tabular}\n"
      ],
      "text/plain": [
       "\u001b[1m1×20 DataFrame\u001b[0m\n",
       "\u001b[1m Row \u001b[0m│\u001b[1m x1        \u001b[0m\u001b[1m x2       \u001b[0m\u001b[1m x3       \u001b[0m\u001b[1m x4       \u001b[0m\u001b[1m x5       \u001b[0m\u001b[1m x6      \u001b[0m\u001b[1m x7       \u001b[0m\u001b[1m x\u001b[0m ⋯\n",
       "     │\u001b[90m Float64   \u001b[0m\u001b[90m Float64  \u001b[0m\u001b[90m Float64  \u001b[0m\u001b[90m Float64  \u001b[0m\u001b[90m Float64  \u001b[0m\u001b[90m Float64 \u001b[0m\u001b[90m Float64  \u001b[0m\u001b[90m F\u001b[0m ⋯\n",
       "─────┼──────────────────────────────────────────────────────────────────────────\n",
       "   1 │ 0.0523643  0.609618  0.959066  0.940724  0.497786  0.42965  0.913882  0 ⋯\n",
       "\u001b[36m                                                              13 columns omitted\u001b[0m"
      ]
     },
     "execution_count": 26,
     "metadata": {},
     "output_type": "execute_result"
    }
   ],
   "source": [
    "@btime $x[1:1, 1:20]"
   ]
  },
  {
   "cell_type": "code",
   "execution_count": 27,
   "metadata": {},
   "outputs": [
    {
     "name": "stdout",
     "output_type": "stream",
     "text": [
      "  22.869 ns (0 allocations: 0 bytes)\n"
     ]
    },
    {
     "data": {
      "text/html": [
       "<div><div style = \"float: left;\"><span>DataFrameRow (20 columns)</span></div><div style = \"clear: both;\"></div></div><div class = \"data-frame\" style = \"overflow-x: scroll;\"><table class = \"data-frame\" style = \"margin-bottom: 6px;\"><thead><tr class = \"header\"><th class = \"rowLabel\" style = \"font-weight: bold; text-align: right;\">Row</th><th style = \"text-align: left;\">x1</th><th style = \"text-align: left;\">x2</th><th style = \"text-align: left;\">x3</th><th style = \"text-align: left;\">x4</th><th style = \"text-align: left;\">x5</th><th style = \"text-align: left;\">x6</th><th style = \"text-align: left;\">x7</th><th style = \"text-align: left;\">x8</th><th style = \"text-align: left;\">x9</th><th style = \"text-align: left;\">x10</th><th style = \"text-align: left;\">x11</th><th style = \"text-align: left;\">x12</th><th style = \"text-align: left;\">x13</th><th style = \"text-align: left;\">x14</th><th style = \"text-align: left;\">x15</th><th style = \"text-align: left;\">x16</th><th style = \"text-align: left;\">x17</th><th style = \"text-align: left;\">x18</th><th style = \"text-align: left;\">x19</th><th style = \"text-align: left;\">x20</th></tr><tr class = \"subheader headerLastRow\"><th class = \"rowLabel\" style = \"font-weight: bold; text-align: right;\"></th><th title = \"Float64\" style = \"text-align: left;\">Float64</th><th title = \"Float64\" style = \"text-align: left;\">Float64</th><th title = \"Float64\" style = \"text-align: left;\">Float64</th><th title = \"Float64\" style = \"text-align: left;\">Float64</th><th title = \"Float64\" style = \"text-align: left;\">Float64</th><th title = \"Float64\" style = \"text-align: left;\">Float64</th><th title = \"Float64\" style = \"text-align: left;\">Float64</th><th title = \"Float64\" style = \"text-align: left;\">Float64</th><th title = \"Float64\" style = \"text-align: left;\">Float64</th><th title = \"Float64\" style = \"text-align: left;\">Float64</th><th title = \"Float64\" style = \"text-align: left;\">Float64</th><th title = \"Float64\" style = \"text-align: left;\">Float64</th><th title = \"Float64\" style = \"text-align: left;\">Float64</th><th title = \"Float64\" style = \"text-align: left;\">Float64</th><th title = \"Float64\" style = \"text-align: left;\">Float64</th><th title = \"Float64\" style = \"text-align: left;\">Float64</th><th title = \"Float64\" style = \"text-align: left;\">Float64</th><th title = \"Float64\" style = \"text-align: left;\">Float64</th><th title = \"Float64\" style = \"text-align: left;\">Float64</th><th title = \"Float64\" style = \"text-align: left;\">Float64</th></tr></thead><tbody><tr><td class = \"rowLabel\" style = \"font-weight: bold; text-align: right;\">1</td><td style = \"text-align: right;\">0.0523643</td><td style = \"text-align: right;\">0.609618</td><td style = \"text-align: right;\">0.959066</td><td style = \"text-align: right;\">0.940724</td><td style = \"text-align: right;\">0.497786</td><td style = \"text-align: right;\">0.42965</td><td style = \"text-align: right;\">0.913882</td><td style = \"text-align: right;\">0.747651</td><td style = \"text-align: right;\">0.446724</td><td style = \"text-align: right;\">0.0749807</td><td style = \"text-align: right;\">0.293294</td><td style = \"text-align: right;\">0.680345</td><td style = \"text-align: right;\">0.162048</td><td style = \"text-align: right;\">0.159452</td><td style = \"text-align: right;\">0.958113</td><td style = \"text-align: right;\">0.922532</td><td style = \"text-align: right;\">0.834303</td><td style = \"text-align: right;\">0.966029</td><td style = \"text-align: right;\">0.38394</td><td style = \"text-align: right;\">0.625653</td></tr></tbody></table></div>"
      ],
      "text/latex": [
       "\\begin{tabular}{r|ccccccccc}\n",
       "\t& x1 & x2 & x3 & x4 & x5 & x6 & x7 & x8 & \\\\\n",
       "\t\\hline\n",
       "\t& Float64 & Float64 & Float64 & Float64 & Float64 & Float64 & Float64 & Float64 & \\\\\n",
       "\t\\hline\n",
       "\t1 & 0.0523643 & 0.609618 & 0.959066 & 0.940724 & 0.497786 & 0.42965 & 0.913882 & 0.747651 & $\\dots$ \\\\\n",
       "\\end{tabular}\n"
      ],
      "text/plain": [
       "\u001b[1mDataFrameRow\u001b[0m\n",
       "\u001b[1m Row \u001b[0m│\u001b[1m x1        \u001b[0m\u001b[1m x2       \u001b[0m\u001b[1m x3       \u001b[0m\u001b[1m x4       \u001b[0m\u001b[1m x5       \u001b[0m\u001b[1m x6      \u001b[0m\u001b[1m x7       \u001b[0m\u001b[1m x\u001b[0m ⋯\n",
       "     │\u001b[90m Float64   \u001b[0m\u001b[90m Float64  \u001b[0m\u001b[90m Float64  \u001b[0m\u001b[90m Float64  \u001b[0m\u001b[90m Float64  \u001b[0m\u001b[90m Float64 \u001b[0m\u001b[90m Float64  \u001b[0m\u001b[90m F\u001b[0m ⋯\n",
       "─────┼──────────────────────────────────────────────────────────────────────────\n",
       "   1 │ 0.0523643  0.609618  0.959066  0.940724  0.497786  0.42965  0.913882  0 ⋯\n",
       "\u001b[36m                                                              13 columns omitted\u001b[0m"
      ]
     },
     "execution_count": 27,
     "metadata": {},
     "output_type": "execute_result"
    }
   ],
   "source": [
    "@btime $x[1, 1:20]"
   ]
  },
  {
   "cell_type": "code",
   "execution_count": 28,
   "metadata": {},
   "outputs": [
    {
     "name": "stdout",
     "output_type": "stream",
     "text": [
      "  26.807 ns (0 allocations: 0 bytes)\n"
     ]
    },
    {
     "data": {
      "text/html": [
       "<div><div style = \"float: left;\"><span>1×20 SubDataFrame</span></div><div style = \"clear: both;\"></div></div><div class = \"data-frame\" style = \"overflow-x: scroll;\"><table class = \"data-frame\" style = \"margin-bottom: 6px;\"><thead><tr class = \"header\"><th class = \"rowNumber\" style = \"font-weight: bold; text-align: right;\">Row</th><th style = \"text-align: left;\">x1</th><th style = \"text-align: left;\">x2</th><th style = \"text-align: left;\">x3</th><th style = \"text-align: left;\">x4</th><th style = \"text-align: left;\">x5</th><th style = \"text-align: left;\">x6</th><th style = \"text-align: left;\">x7</th><th style = \"text-align: left;\">x8</th><th style = \"text-align: left;\">x9</th><th style = \"text-align: left;\">x10</th><th style = \"text-align: left;\">x11</th><th style = \"text-align: left;\">x12</th><th style = \"text-align: left;\">x13</th><th style = \"text-align: left;\">x14</th><th style = \"text-align: left;\">x15</th><th style = \"text-align: left;\">x16</th><th style = \"text-align: left;\">x17</th><th style = \"text-align: left;\">x18</th><th style = \"text-align: left;\">x19</th><th style = \"text-align: left;\">x20</th></tr><tr class = \"subheader headerLastRow\"><th class = \"rowNumber\" style = \"font-weight: bold; text-align: right;\"></th><th title = \"Float64\" style = \"text-align: left;\">Float64</th><th title = \"Float64\" style = \"text-align: left;\">Float64</th><th title = \"Float64\" style = \"text-align: left;\">Float64</th><th title = \"Float64\" style = \"text-align: left;\">Float64</th><th title = \"Float64\" style = \"text-align: left;\">Float64</th><th title = \"Float64\" style = \"text-align: left;\">Float64</th><th title = \"Float64\" style = \"text-align: left;\">Float64</th><th title = \"Float64\" style = \"text-align: left;\">Float64</th><th title = \"Float64\" style = \"text-align: left;\">Float64</th><th title = \"Float64\" style = \"text-align: left;\">Float64</th><th title = \"Float64\" style = \"text-align: left;\">Float64</th><th title = \"Float64\" style = \"text-align: left;\">Float64</th><th title = \"Float64\" style = \"text-align: left;\">Float64</th><th title = \"Float64\" style = \"text-align: left;\">Float64</th><th title = \"Float64\" style = \"text-align: left;\">Float64</th><th title = \"Float64\" style = \"text-align: left;\">Float64</th><th title = \"Float64\" style = \"text-align: left;\">Float64</th><th title = \"Float64\" style = \"text-align: left;\">Float64</th><th title = \"Float64\" style = \"text-align: left;\">Float64</th><th title = \"Float64\" style = \"text-align: left;\">Float64</th></tr></thead><tbody><tr><td class = \"rowNumber\" style = \"font-weight: bold; text-align: right;\">1</td><td style = \"text-align: right;\">0.0523643</td><td style = \"text-align: right;\">0.609618</td><td style = \"text-align: right;\">0.959066</td><td style = \"text-align: right;\">0.940724</td><td style = \"text-align: right;\">0.497786</td><td style = \"text-align: right;\">0.42965</td><td style = \"text-align: right;\">0.913882</td><td style = \"text-align: right;\">0.747651</td><td style = \"text-align: right;\">0.446724</td><td style = \"text-align: right;\">0.0749807</td><td style = \"text-align: right;\">0.293294</td><td style = \"text-align: right;\">0.680345</td><td style = \"text-align: right;\">0.162048</td><td style = \"text-align: right;\">0.159452</td><td style = \"text-align: right;\">0.958113</td><td style = \"text-align: right;\">0.922532</td><td style = \"text-align: right;\">0.834303</td><td style = \"text-align: right;\">0.966029</td><td style = \"text-align: right;\">0.38394</td><td style = \"text-align: right;\">0.625653</td></tr></tbody></table></div>"
      ],
      "text/latex": [
       "\\begin{tabular}{r|ccccccccc}\n",
       "\t& x1 & x2 & x3 & x4 & x5 & x6 & x7 & x8 & \\\\\n",
       "\t\\hline\n",
       "\t& Float64 & Float64 & Float64 & Float64 & Float64 & Float64 & Float64 & Float64 & \\\\\n",
       "\t\\hline\n",
       "\t1 & 0.0523643 & 0.609618 & 0.959066 & 0.940724 & 0.497786 & 0.42965 & 0.913882 & 0.747651 & $\\dots$ \\\\\n",
       "\\end{tabular}\n"
      ],
      "text/plain": [
       "\u001b[1m1×20 SubDataFrame\u001b[0m\n",
       "\u001b[1m Row \u001b[0m│\u001b[1m x1        \u001b[0m\u001b[1m x2       \u001b[0m\u001b[1m x3       \u001b[0m\u001b[1m x4       \u001b[0m\u001b[1m x5       \u001b[0m\u001b[1m x6      \u001b[0m\u001b[1m x7       \u001b[0m\u001b[1m x\u001b[0m ⋯\n",
       "     │\u001b[90m Float64   \u001b[0m\u001b[90m Float64  \u001b[0m\u001b[90m Float64  \u001b[0m\u001b[90m Float64  \u001b[0m\u001b[90m Float64  \u001b[0m\u001b[90m Float64 \u001b[0m\u001b[90m Float64  \u001b[0m\u001b[90m F\u001b[0m ⋯\n",
       "─────┼──────────────────────────────────────────────────────────────────────────\n",
       "   1 │ 0.0523643  0.609618  0.959066  0.940724  0.497786  0.42965  0.913882  0 ⋯\n",
       "\u001b[36m                                                              13 columns omitted\u001b[0m"
      ]
     },
     "execution_count": 28,
     "metadata": {},
     "output_type": "execute_result"
    }
   ],
   "source": [
    "@btime view($x, 1:1, 1:20)"
   ]
  }
 ],
 "metadata": {
  "@webio": {
   "lastCommId": null,
   "lastKernelId": null
  },
  "kernelspec": {
   "display_name": "Julia 1.9.0",
   "language": "julia",
   "name": "julia-1.9"
  },
  "language_info": {
   "file_extension": ".jl",
   "mimetype": "application/julia",
   "name": "julia",
   "version": "1.9.0"
  }
 },
 "nbformat": 4,
 "nbformat_minor": 1
}
