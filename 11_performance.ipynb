{
 "cells": [
  {
   "cell_type": "markdown",
   "metadata": {},
   "source": [
    "# Introduction to DataFrames\n",
    "**[Bogumił Kamiński](http://bogumilkaminski.pl/about/), October 5, 2022**"
   ]
  },
  {
   "cell_type": "code",
   "execution_count": 1,
   "metadata": {},
   "outputs": [],
   "source": [
    "using DataFrames"
   ]
  },
  {
   "cell_type": "code",
   "execution_count": 2,
   "metadata": {},
   "outputs": [],
   "source": [
    "using BenchmarkTools"
   ]
  },
  {
   "cell_type": "code",
   "execution_count": 3,
   "metadata": {},
   "outputs": [],
   "source": [
    "using CategoricalArrays"
   ]
  },
  {
   "cell_type": "code",
   "execution_count": 4,
   "metadata": {},
   "outputs": [],
   "source": [
    "using PooledArrays"
   ]
  },
  {
   "cell_type": "markdown",
   "metadata": {},
   "source": [
    "## Performance tips"
   ]
  },
  {
   "cell_type": "markdown",
   "metadata": {},
   "source": [
    "### Access by column number is faster than by name"
   ]
  },
  {
   "cell_type": "code",
   "execution_count": 5,
   "metadata": {},
   "outputs": [
    {
     "name": "stdout",
     "output_type": "stream",
     "text": [
      "  2.300 ns (0 allocations: 0 bytes)\n",
      "  9.600 ns (0 allocations: 0 bytes)\n"
     ]
    }
   ],
   "source": [
    "x = DataFrame(rand(5, 1000), :auto)\n",
    "@btime $x[!, 500];\n",
    "@btime $x.x500;"
   ]
  },
  {
   "cell_type": "markdown",
   "metadata": {},
   "source": [
    "### When working with data `DataFrame` use barrier functions or type annotation"
   ]
  },
  {
   "cell_type": "code",
   "execution_count": 6,
   "metadata": {},
   "outputs": [
    {
     "name": "stdout",
     "output_type": "stream",
     "text": [
      "  96.382 ms (5999012 allocations: 122.06 MiB)\n"
     ]
    }
   ],
   "source": [
    "using Random\n",
    "function f_bad() # this function will be slow\n",
    "    Random.seed!(1); x = DataFrame(rand(1000000,2), :auto)\n",
    "    y, z = x[!, 1], x[!, 2]\n",
    "    p = 0.0\n",
    "    for i in 1:nrow(x)\n",
    "        p += y[i]*z[i]\n",
    "    end\n",
    "    p\n",
    "end\n",
    "\n",
    "@btime f_bad();\n",
    "# if you run @code_warntype f_bad() then you notice\n",
    "# that Julia does not know column types of `DataFrame`\n"
   ]
  },
  {
   "cell_type": "code",
   "execution_count": 7,
   "metadata": {},
   "outputs": [
    {
     "name": "stdout",
     "output_type": "stream",
     "text": [
      "  6.678 ms (34 allocations: 30.52 MiB)\n",
      "  6.414 ms (34 allocations: 30.52 MiB)\n"
     ]
    }
   ],
   "source": [
    "# solution 1 is to use barrier function (it should be possible to use it in almost any code)\n",
    "function f_inner(y,z)\n",
    "   p = 0.0\n",
    "   for i in 1:length(y)\n",
    "       p += y[i]*z[i]\n",
    "   end\n",
    "   p\n",
    "end\n",
    "\n",
    "function f_barrier() # extract the work to an inner function\n",
    "    Random.seed!(1); x = DataFrame(rand(1000000,2), :auto)\n",
    "    f_inner(x[!, 1], x[!, 2])\n",
    "end\n",
    "\n",
    "using LinearAlgebra\n",
    "function f_inbuilt() # or use inbuilt function if possible\n",
    "    Random.seed!(1); x = DataFrame(rand(1000000,2), :auto)\n",
    "    dot(x[!, 1], x[!, 2])\n",
    "end\n",
    "\n",
    "@btime f_barrier();\n",
    "@btime f_inbuilt();"
   ]
  },
  {
   "cell_type": "code",
   "execution_count": 8,
   "metadata": {},
   "outputs": [
    {
     "name": "stdout",
     "output_type": "stream",
     "text": [
      "  7.002 ms (34 allocations: 30.52 MiB)\n"
     ]
    }
   ],
   "source": [
    "# solution 2 is to provide the types of extracted columns\n",
    "# it is simpler but there are cases in which you will not know these types\n",
    "# This example  assumes that you have DataFrames master at least from August 31, 2018\n",
    "function f_typed()\n",
    "    Random.seed!(1); x = DataFrame(rand(1000000,2), :auto)\n",
    "    y::Vector{Float64}, z::Vector{Float64} = x[!, 1], x[!, 2]\n",
    "    p = 0.0\n",
    "    for i in 1:nrow(x)\n",
    "        p += y[i]*z[i]\n",
    "    end\n",
    "    p\n",
    "end\n",
    "\n",
    "@btime f_typed();"
   ]
  },
  {
   "cell_type": "markdown",
   "metadata": {},
   "source": [
    "In general for tall and narrow tables it is often useful to use `Tables.rowtable`, `Tables.columntable` or `Tables.namedtupleiterator` for intermediate processing of data in a type-stable way."
   ]
  },
  {
   "cell_type": "markdown",
   "metadata": {},
   "source": [
    "### Consider using delayed `DataFrame` creation technique"
   ]
  },
  {
   "cell_type": "markdown",
   "metadata": {},
   "source": [
    "also notice the difference in performance between copying vs non-copying data frame creation"
   ]
  },
  {
   "cell_type": "code",
   "execution_count": 9,
   "metadata": {},
   "outputs": [
    {
     "name": "stdout",
     "output_type": "stream",
     "text": [
      "  26.124 ms (1949524 allocations: 37.40 MiB)\n",
      "  28.348 ms (1949724 allocations: 45.03 MiB)\n",
      "  1.282 ms (624 allocations: 7.66 MiB)\n",
      "  2.226 ms (824 allocations: 15.30 MiB)\n"
     ]
    }
   ],
   "source": [
    "function f1()\n",
    "    x = DataFrame([Vector{Float64}(undef, 10^4) for i in 1:100], :auto, copycols=false) # we work with a DataFrame directly\n",
    "    for c in 1:ncol(x)\n",
    "        d = x[!, c]\n",
    "        for r in 1:nrow(x)\n",
    "            d[r] = rand()\n",
    "        end\n",
    "    end\n",
    "    x\n",
    "end\n",
    "\n",
    "function f1a()\n",
    "    x = DataFrame([Vector{Float64}(undef, 10^4) for i in 1:100], :auto) # we work with a DataFrame directly\n",
    "    for c in 1:ncol(x)\n",
    "        d = x[!, c]\n",
    "        for r in 1:nrow(x)\n",
    "            d[r] = rand()\n",
    "        end\n",
    "    end\n",
    "    x\n",
    "end\n",
    "\n",
    "function f2()\n",
    "    x = Vector{Any}(undef, 100)\n",
    "    for c in 1:length(x)\n",
    "        d = Vector{Float64}(undef, 10^4)\n",
    "        for r in 1:length(d)\n",
    "            d[r] = rand()\n",
    "        end\n",
    "        x[c] = d\n",
    "    end\n",
    "    DataFrame(x, :auto, copycols=false) # we delay creation of DataFrame after we have our job done\n",
    "end\n",
    "\n",
    "function f2a()\n",
    "    x = Vector{Any}(undef, 100)\n",
    "    for c in 1:length(x)\n",
    "        d = Vector{Float64}(undef, 10^4)\n",
    "        for r in 1:length(d)\n",
    "            d[r] = rand()\n",
    "        end\n",
    "        x[c] = d\n",
    "    end\n",
    "    DataFrame(x, :auto) # we delay creation of DataFrame after we have our job done\n",
    "end\n",
    "\n",
    "@btime f1();\n",
    "@btime f1a();\n",
    "@btime f2();\n",
    "@btime f2a();"
   ]
  },
  {
   "cell_type": "markdown",
   "metadata": {},
   "source": [
    "### You can add rows to a `DataFrame` in place and it is fast"
   ]
  },
  {
   "cell_type": "code",
   "execution_count": 10,
   "metadata": {},
   "outputs": [
    {
     "name": "stdout",
     "output_type": "stream",
     "text": [
      "  5.930 ms (191 allocations: 38.16 MiB)\n",
      "  815.584 ns (17 allocations: 672 bytes)\n",
      "  432.161 ns (16 allocations: 256 bytes)\n"
     ]
    }
   ],
   "source": [
    "x = DataFrame(rand(10^6, 5), :auto)\n",
    "y = DataFrame(transpose(1.0:5.0), :auto)\n",
    "z = [1.0:5.0;]\n",
    "\n",
    "@btime vcat($x, $y); # creates a new DataFrame - slow\n",
    "@btime append!($x, $y); # in place - fast\n",
    "\n",
    "x = DataFrame(rand(10^6, 5), :auto) # reset to the same starting point\n",
    "@btime push!($x, $z); # add a single row in place - fast"
   ]
  },
  {
   "cell_type": "markdown",
   "metadata": {},
   "source": [
    "### Allowing `missing` as well as `categorical` slows down computations"
   ]
  },
  {
   "cell_type": "code",
   "execution_count": 11,
   "metadata": {},
   "outputs": [
    {
     "name": "stdout",
     "output_type": "stream",
     "text": [
      "Int64\n",
      " raw:\n",
      "  3.360 ms (7 allocations: 7.63 MiB)\n",
      " categorical:\n",
      "  15.130 ms (4 allocations: 688 bytes)\n",
      "String\n",
      " raw:\n",
      "  32.054 ms (4 allocations: 528 bytes)\n",
      " categorical:\n",
      "  29.256 ms (4 allocations: 688 bytes)\n",
      "Union{Missing, Int64}\n",
      " raw:\n",
      "  5.275 ms (4 allocations: 560 bytes)\n",
      " categorical:\n",
      "  15.310 ms (1000004 allocations: 30.52 MiB)\n",
      "Union{Missing, String}\n",
      " raw:\n",
      "  20.235 ms (4 allocations: 528 bytes)\n",
      " categorical:\n",
      "  26.919 ms (1000004 allocations: 30.52 MiB)\n"
     ]
    }
   ],
   "source": [
    "using StatsBase\n",
    "\n",
    "function test(data) # uses countmap function to test performance\n",
    "    println(eltype(data))\n",
    "    x = rand(data, 10^6)\n",
    "    y = categorical(x)\n",
    "    println(\" raw:\")\n",
    "    @btime countmap($x)\n",
    "    println(\" categorical:\")\n",
    "    @btime countmap($y)\n",
    "    nothing\n",
    "end\n",
    "\n",
    "test(1:10)\n",
    "test([randstring() for i in 1:10])\n",
    "test(allowmissing(1:10))\n",
    "test(allowmissing([randstring() for i in 1:10]))\n"
   ]
  },
  {
   "cell_type": "markdown",
   "metadata": {},
   "source": [
    "### When aggregating use column selector and prefer integer, categorical, or pooled array grouping variable"
   ]
  },
  {
   "cell_type": "code",
   "execution_count": 12,
   "metadata": {},
   "outputs": [],
   "source": [
    "df = DataFrame(x=rand('a':'d', 10^7), y=1);"
   ]
  },
  {
   "cell_type": "code",
   "execution_count": 13,
   "metadata": {
    "scrolled": true
   },
   "outputs": [
    {
     "data": {
      "text/html": [
       "<p><b>GroupedDataFrame with 4 groups based on key: x</b></p><div><div style = \"float: left;\"><span>First Group (2501452 rows): x = &apos;c&apos;</span></div><div style = \"float: right;\"><span style = \"font-style: italic;\">2501427 rows omitted</span></div><div style = \"clear: both;\"></div></div><div class = \"data-frame\" style = \"overflow-x: scroll;\"><table class = \"data-frame\" style = \"margin-bottom: 6px;\"><thead><tr class = \"header\"><th class = \"rowNumber\" style = \"font-weight: bold; text-align: right;\">Row</th><th style = \"text-align: left;\">x</th><th style = \"text-align: left;\">y</th></tr><tr class = \"subheader headerLastRow\"><th class = \"rowNumber\" style = \"font-weight: bold; text-align: right;\"></th><th title = \"Char\" style = \"text-align: left;\">Char</th><th title = \"Int64\" style = \"text-align: left;\">Int64</th></tr></thead><tbody><tr><td class = \"rowNumber\" style = \"font-weight: bold; text-align: right;\">1</td><td style = \"text-align: left;\">c</td><td style = \"text-align: right;\">1</td></tr><tr><td class = \"rowNumber\" style = \"font-weight: bold; text-align: right;\">2</td><td style = \"text-align: left;\">c</td><td style = \"text-align: right;\">1</td></tr><tr><td class = \"rowNumber\" style = \"font-weight: bold; text-align: right;\">3</td><td style = \"text-align: left;\">c</td><td style = \"text-align: right;\">1</td></tr><tr><td class = \"rowNumber\" style = \"font-weight: bold; text-align: right;\">4</td><td style = \"text-align: left;\">c</td><td style = \"text-align: right;\">1</td></tr><tr><td class = \"rowNumber\" style = \"font-weight: bold; text-align: right;\">5</td><td style = \"text-align: left;\">c</td><td style = \"text-align: right;\">1</td></tr><tr><td class = \"rowNumber\" style = \"font-weight: bold; text-align: right;\">6</td><td style = \"text-align: left;\">c</td><td style = \"text-align: right;\">1</td></tr><tr><td class = \"rowNumber\" style = \"font-weight: bold; text-align: right;\">7</td><td style = \"text-align: left;\">c</td><td style = \"text-align: right;\">1</td></tr><tr><td class = \"rowNumber\" style = \"font-weight: bold; text-align: right;\">8</td><td style = \"text-align: left;\">c</td><td style = \"text-align: right;\">1</td></tr><tr><td class = \"rowNumber\" style = \"font-weight: bold; text-align: right;\">9</td><td style = \"text-align: left;\">c</td><td style = \"text-align: right;\">1</td></tr><tr><td class = \"rowNumber\" style = \"font-weight: bold; text-align: right;\">10</td><td style = \"text-align: left;\">c</td><td style = \"text-align: right;\">1</td></tr><tr><td class = \"rowNumber\" style = \"font-weight: bold; text-align: right;\">11</td><td style = \"text-align: left;\">c</td><td style = \"text-align: right;\">1</td></tr><tr><td class = \"rowNumber\" style = \"font-weight: bold; text-align: right;\">12</td><td style = \"text-align: left;\">c</td><td style = \"text-align: right;\">1</td></tr><tr><td class = \"rowNumber\" style = \"font-weight: bold; text-align: right;\">13</td><td style = \"text-align: left;\">c</td><td style = \"text-align: right;\">1</td></tr><tr><td style = \"text-align: right;\">&vellip;</td><td style = \"text-align: right;\">&vellip;</td><td style = \"text-align: right;\">&vellip;</td></tr><tr><td class = \"rowNumber\" style = \"font-weight: bold; text-align: right;\">2501441</td><td style = \"text-align: left;\">c</td><td style = \"text-align: right;\">1</td></tr><tr><td class = \"rowNumber\" style = \"font-weight: bold; text-align: right;\">2501442</td><td style = \"text-align: left;\">c</td><td style = \"text-align: right;\">1</td></tr><tr><td class = \"rowNumber\" style = \"font-weight: bold; text-align: right;\">2501443</td><td style = \"text-align: left;\">c</td><td style = \"text-align: right;\">1</td></tr><tr><td class = \"rowNumber\" style = \"font-weight: bold; text-align: right;\">2501444</td><td style = \"text-align: left;\">c</td><td style = \"text-align: right;\">1</td></tr><tr><td class = \"rowNumber\" style = \"font-weight: bold; text-align: right;\">2501445</td><td style = \"text-align: left;\">c</td><td style = \"text-align: right;\">1</td></tr><tr><td class = \"rowNumber\" style = \"font-weight: bold; text-align: right;\">2501446</td><td style = \"text-align: left;\">c</td><td style = \"text-align: right;\">1</td></tr><tr><td class = \"rowNumber\" style = \"font-weight: bold; text-align: right;\">2501447</td><td style = \"text-align: left;\">c</td><td style = \"text-align: right;\">1</td></tr><tr><td class = \"rowNumber\" style = \"font-weight: bold; text-align: right;\">2501448</td><td style = \"text-align: left;\">c</td><td style = \"text-align: right;\">1</td></tr><tr><td class = \"rowNumber\" style = \"font-weight: bold; text-align: right;\">2501449</td><td style = \"text-align: left;\">c</td><td style = \"text-align: right;\">1</td></tr><tr><td class = \"rowNumber\" style = \"font-weight: bold; text-align: right;\">2501450</td><td style = \"text-align: left;\">c</td><td style = \"text-align: right;\">1</td></tr><tr><td class = \"rowNumber\" style = \"font-weight: bold; text-align: right;\">2501451</td><td style = \"text-align: left;\">c</td><td style = \"text-align: right;\">1</td></tr><tr><td class = \"rowNumber\" style = \"font-weight: bold; text-align: right;\">2501452</td><td style = \"text-align: left;\">c</td><td style = \"text-align: right;\">1</td></tr></tbody></table></div><p>&vellip;</p><div><div style = \"float: left;\"><span>Last Group (2495412 rows): x = &apos;b&apos;</span></div><div style = \"float: right;\"><span style = \"font-style: italic;\">2495387 rows omitted</span></div><div style = \"clear: both;\"></div></div><div class = \"data-frame\" style = \"overflow-x: scroll;\"><table class = \"data-frame\" style = \"margin-bottom: 6px;\"><thead><tr class = \"header\"><th class = \"rowNumber\" style = \"font-weight: bold; text-align: right;\">Row</th><th style = \"text-align: left;\">x</th><th style = \"text-align: left;\">y</th></tr><tr class = \"subheader headerLastRow\"><th class = \"rowNumber\" style = \"font-weight: bold; text-align: right;\"></th><th title = \"Char\" style = \"text-align: left;\">Char</th><th title = \"Int64\" style = \"text-align: left;\">Int64</th></tr></thead><tbody><tr><td class = \"rowNumber\" style = \"font-weight: bold; text-align: right;\">1</td><td style = \"text-align: left;\">b</td><td style = \"text-align: right;\">1</td></tr><tr><td class = \"rowNumber\" style = \"font-weight: bold; text-align: right;\">2</td><td style = \"text-align: left;\">b</td><td style = \"text-align: right;\">1</td></tr><tr><td class = \"rowNumber\" style = \"font-weight: bold; text-align: right;\">3</td><td style = \"text-align: left;\">b</td><td style = \"text-align: right;\">1</td></tr><tr><td class = \"rowNumber\" style = \"font-weight: bold; text-align: right;\">4</td><td style = \"text-align: left;\">b</td><td style = \"text-align: right;\">1</td></tr><tr><td class = \"rowNumber\" style = \"font-weight: bold; text-align: right;\">5</td><td style = \"text-align: left;\">b</td><td style = \"text-align: right;\">1</td></tr><tr><td class = \"rowNumber\" style = \"font-weight: bold; text-align: right;\">6</td><td style = \"text-align: left;\">b</td><td style = \"text-align: right;\">1</td></tr><tr><td class = \"rowNumber\" style = \"font-weight: bold; text-align: right;\">7</td><td style = \"text-align: left;\">b</td><td style = \"text-align: right;\">1</td></tr><tr><td class = \"rowNumber\" style = \"font-weight: bold; text-align: right;\">8</td><td style = \"text-align: left;\">b</td><td style = \"text-align: right;\">1</td></tr><tr><td class = \"rowNumber\" style = \"font-weight: bold; text-align: right;\">9</td><td style = \"text-align: left;\">b</td><td style = \"text-align: right;\">1</td></tr><tr><td class = \"rowNumber\" style = \"font-weight: bold; text-align: right;\">10</td><td style = \"text-align: left;\">b</td><td style = \"text-align: right;\">1</td></tr><tr><td class = \"rowNumber\" style = \"font-weight: bold; text-align: right;\">11</td><td style = \"text-align: left;\">b</td><td style = \"text-align: right;\">1</td></tr><tr><td class = \"rowNumber\" style = \"font-weight: bold; text-align: right;\">12</td><td style = \"text-align: left;\">b</td><td style = \"text-align: right;\">1</td></tr><tr><td class = \"rowNumber\" style = \"font-weight: bold; text-align: right;\">13</td><td style = \"text-align: left;\">b</td><td style = \"text-align: right;\">1</td></tr><tr><td style = \"text-align: right;\">&vellip;</td><td style = \"text-align: right;\">&vellip;</td><td style = \"text-align: right;\">&vellip;</td></tr><tr><td class = \"rowNumber\" style = \"font-weight: bold; text-align: right;\">2495401</td><td style = \"text-align: left;\">b</td><td style = \"text-align: right;\">1</td></tr><tr><td class = \"rowNumber\" style = \"font-weight: bold; text-align: right;\">2495402</td><td style = \"text-align: left;\">b</td><td style = \"text-align: right;\">1</td></tr><tr><td class = \"rowNumber\" style = \"font-weight: bold; text-align: right;\">2495403</td><td style = \"text-align: left;\">b</td><td style = \"text-align: right;\">1</td></tr><tr><td class = \"rowNumber\" style = \"font-weight: bold; text-align: right;\">2495404</td><td style = \"text-align: left;\">b</td><td style = \"text-align: right;\">1</td></tr><tr><td class = \"rowNumber\" style = \"font-weight: bold; text-align: right;\">2495405</td><td style = \"text-align: left;\">b</td><td style = \"text-align: right;\">1</td></tr><tr><td class = \"rowNumber\" style = \"font-weight: bold; text-align: right;\">2495406</td><td style = \"text-align: left;\">b</td><td style = \"text-align: right;\">1</td></tr><tr><td class = \"rowNumber\" style = \"font-weight: bold; text-align: right;\">2495407</td><td style = \"text-align: left;\">b</td><td style = \"text-align: right;\">1</td></tr><tr><td class = \"rowNumber\" style = \"font-weight: bold; text-align: right;\">2495408</td><td style = \"text-align: left;\">b</td><td style = \"text-align: right;\">1</td></tr><tr><td class = \"rowNumber\" style = \"font-weight: bold; text-align: right;\">2495409</td><td style = \"text-align: left;\">b</td><td style = \"text-align: right;\">1</td></tr><tr><td class = \"rowNumber\" style = \"font-weight: bold; text-align: right;\">2495410</td><td style = \"text-align: left;\">b</td><td style = \"text-align: right;\">1</td></tr><tr><td class = \"rowNumber\" style = \"font-weight: bold; text-align: right;\">2495411</td><td style = \"text-align: left;\">b</td><td style = \"text-align: right;\">1</td></tr><tr><td class = \"rowNumber\" style = \"font-weight: bold; text-align: right;\">2495412</td><td style = \"text-align: left;\">b</td><td style = \"text-align: right;\">1</td></tr></tbody></table></div>"
      ],
      "text/latex": [
       "GroupedDataFrame with 4 groups based on key: x\n",
       "\n",
       "First Group (2501452 rows): x = 'c'\n",
       "\n",
       "\\begin{tabular}{r|cc}\n",
       "\t& x & y\\\\\n",
       "\t\\hline\n",
       "\t& Char & Int64\\\\\n",
       "\t\\hline\n",
       "\t1 & c & 1 \\\\\n",
       "\t2 & c & 1 \\\\\n",
       "\t3 & c & 1 \\\\\n",
       "\t4 & c & 1 \\\\\n",
       "\t5 & c & 1 \\\\\n",
       "\t6 & c & 1 \\\\\n",
       "\t7 & c & 1 \\\\\n",
       "\t8 & c & 1 \\\\\n",
       "\t9 & c & 1 \\\\\n",
       "\t10 & c & 1 \\\\\n",
       "\t11 & c & 1 \\\\\n",
       "\t12 & c & 1 \\\\\n",
       "\t13 & c & 1 \\\\\n",
       "\t14 & c & 1 \\\\\n",
       "\t15 & c & 1 \\\\\n",
       "\t16 & c & 1 \\\\\n",
       "\t17 & c & 1 \\\\\n",
       "\t18 & c & 1 \\\\\n",
       "\t19 & c & 1 \\\\\n",
       "\t20 & c & 1 \\\\\n",
       "\t21 & c & 1 \\\\\n",
       "\t22 & c & 1 \\\\\n",
       "\t23 & c & 1 \\\\\n",
       "\t24 & c & 1 \\\\\n",
       "\t25 & c & 1 \\\\\n",
       "\t26 & c & 1 \\\\\n",
       "\t27 & c & 1 \\\\\n",
       "\t28 & c & 1 \\\\\n",
       "\t29 & c & 1 \\\\\n",
       "\t30 & c & 1 \\\\\n",
       "\t$\\dots$ & $\\dots$ & $\\dots$ \\\\\n",
       "\\end{tabular}\n",
       "\n",
       "$\\dots$\n",
       "\n",
       "Last Group (2495412 rows): x = 'b'\n",
       "\n",
       "\\begin{tabular}{r|cc}\n",
       "\t& x & y\\\\\n",
       "\t\\hline\n",
       "\t& Char & Int64\\\\\n",
       "\t\\hline\n",
       "\t1 & b & 1 \\\\\n",
       "\t2 & b & 1 \\\\\n",
       "\t3 & b & 1 \\\\\n",
       "\t4 & b & 1 \\\\\n",
       "\t5 & b & 1 \\\\\n",
       "\t6 & b & 1 \\\\\n",
       "\t7 & b & 1 \\\\\n",
       "\t8 & b & 1 \\\\\n",
       "\t9 & b & 1 \\\\\n",
       "\t10 & b & 1 \\\\\n",
       "\t11 & b & 1 \\\\\n",
       "\t12 & b & 1 \\\\\n",
       "\t13 & b & 1 \\\\\n",
       "\t14 & b & 1 \\\\\n",
       "\t15 & b & 1 \\\\\n",
       "\t16 & b & 1 \\\\\n",
       "\t17 & b & 1 \\\\\n",
       "\t18 & b & 1 \\\\\n",
       "\t19 & b & 1 \\\\\n",
       "\t20 & b & 1 \\\\\n",
       "\t21 & b & 1 \\\\\n",
       "\t22 & b & 1 \\\\\n",
       "\t23 & b & 1 \\\\\n",
       "\t24 & b & 1 \\\\\n",
       "\t25 & b & 1 \\\\\n",
       "\t26 & b & 1 \\\\\n",
       "\t27 & b & 1 \\\\\n",
       "\t28 & b & 1 \\\\\n",
       "\t29 & b & 1 \\\\\n",
       "\t30 & b & 1 \\\\\n",
       "\t$\\dots$ & $\\dots$ & $\\dots$ \\\\\n",
       "\\end{tabular}\n"
      ],
      "text/plain": [
       "GroupedDataFrame with 4 groups based on key: x\n",
       "First Group (2501452 rows): x = 'c'\n",
       "\u001b[1m     Row \u001b[0m│\u001b[1m x    \u001b[0m\u001b[1m y     \u001b[0m\n",
       "         │\u001b[90m Char \u001b[0m\u001b[90m Int64 \u001b[0m\n",
       "─────────┼─────────────\n",
       "       1 │ c         1\n",
       "       2 │ c         1\n",
       "       3 │ c         1\n",
       "       4 │ c         1\n",
       "    ⋮    │  ⋮      ⋮\n",
       " 2501450 │ c         1\n",
       " 2501451 │ c         1\n",
       " 2501452 │ c         1\n",
       "\u001b[36m   2501445 rows omitted\u001b[0m\n",
       "⋮\n",
       "Last Group (2495412 rows): x = 'b'\n",
       "\u001b[1m     Row \u001b[0m│\u001b[1m x    \u001b[0m\u001b[1m y     \u001b[0m\n",
       "         │\u001b[90m Char \u001b[0m\u001b[90m Int64 \u001b[0m\n",
       "─────────┼─────────────\n",
       "       1 │ b         1\n",
       "       2 │ b         1\n",
       "       3 │ b         1\n",
       "    ⋮    │  ⋮      ⋮\n",
       " 2495410 │ b         1\n",
       " 2495411 │ b         1\n",
       " 2495412 │ b         1\n",
       "\u001b[36m   2495406 rows omitted\u001b[0m"
      ]
     },
     "execution_count": 13,
     "metadata": {},
     "output_type": "execute_result"
    }
   ],
   "source": [
    "gdf = groupby(df, :x)"
   ]
  },
  {
   "cell_type": "code",
   "execution_count": 14,
   "metadata": {},
   "outputs": [
    {
     "name": "stdout",
     "output_type": "stream",
     "text": [
      "  39.068 ms (319 allocations: 19.10 MiB)\n"
     ]
    },
    {
     "data": {
      "text/html": [
       "<div><div style = \"float: left;\"><span>4×2 DataFrame</span></div><div style = \"clear: both;\"></div></div><div class = \"data-frame\" style = \"overflow-x: scroll;\"><table class = \"data-frame\" style = \"margin-bottom: 6px;\"><thead><tr class = \"header\"><th class = \"rowNumber\" style = \"font-weight: bold; text-align: right;\">Row</th><th style = \"text-align: left;\">x</th><th style = \"text-align: left;\">x1</th></tr><tr class = \"subheader headerLastRow\"><th class = \"rowNumber\" style = \"font-weight: bold; text-align: right;\"></th><th title = \"Char\" style = \"text-align: left;\">Char</th><th title = \"Int64\" style = \"text-align: left;\">Int64</th></tr></thead><tbody><tr><td class = \"rowNumber\" style = \"font-weight: bold; text-align: right;\">1</td><td style = \"text-align: left;\">c</td><td style = \"text-align: right;\">2501452</td></tr><tr><td class = \"rowNumber\" style = \"font-weight: bold; text-align: right;\">2</td><td style = \"text-align: left;\">a</td><td style = \"text-align: right;\">2502167</td></tr><tr><td class = \"rowNumber\" style = \"font-weight: bold; text-align: right;\">3</td><td style = \"text-align: left;\">d</td><td style = \"text-align: right;\">2500969</td></tr><tr><td class = \"rowNumber\" style = \"font-weight: bold; text-align: right;\">4</td><td style = \"text-align: left;\">b</td><td style = \"text-align: right;\">2495412</td></tr></tbody></table></div>"
      ],
      "text/latex": [
       "\\begin{tabular}{r|cc}\n",
       "\t& x & x1\\\\\n",
       "\t\\hline\n",
       "\t& Char & Int64\\\\\n",
       "\t\\hline\n",
       "\t1 & c & 2501452 \\\\\n",
       "\t2 & a & 2502167 \\\\\n",
       "\t3 & d & 2500969 \\\\\n",
       "\t4 & b & 2495412 \\\\\n",
       "\\end{tabular}\n"
      ],
      "text/plain": [
       "\u001b[1m4×2 DataFrame\u001b[0m\n",
       "\u001b[1m Row \u001b[0m│\u001b[1m x    \u001b[0m\u001b[1m x1      \u001b[0m\n",
       "     │\u001b[90m Char \u001b[0m\u001b[90m Int64   \u001b[0m\n",
       "─────┼───────────────\n",
       "   1 │ c     2501452\n",
       "   2 │ a     2502167\n",
       "   3 │ d     2500969\n",
       "   4 │ b     2495412"
      ]
     },
     "execution_count": 14,
     "metadata": {},
     "output_type": "execute_result"
    }
   ],
   "source": [
    "@btime combine(v -> sum(v.y), $gdf) # traditional syntax, slow"
   ]
  },
  {
   "cell_type": "code",
   "execution_count": 15,
   "metadata": {
    "scrolled": true
   },
   "outputs": [
    {
     "name": "stdout",
     "output_type": "stream",
     "text": [
      "  8.999 ms (226 allocations: 14.12 KiB)\n"
     ]
    },
    {
     "data": {
      "text/html": [
       "<div><div style = \"float: left;\"><span>4×2 DataFrame</span></div><div style = \"clear: both;\"></div></div><div class = \"data-frame\" style = \"overflow-x: scroll;\"><table class = \"data-frame\" style = \"margin-bottom: 6px;\"><thead><tr class = \"header\"><th class = \"rowNumber\" style = \"font-weight: bold; text-align: right;\">Row</th><th style = \"text-align: left;\">x</th><th style = \"text-align: left;\">y_sum</th></tr><tr class = \"subheader headerLastRow\"><th class = \"rowNumber\" style = \"font-weight: bold; text-align: right;\"></th><th title = \"Char\" style = \"text-align: left;\">Char</th><th title = \"Int64\" style = \"text-align: left;\">Int64</th></tr></thead><tbody><tr><td class = \"rowNumber\" style = \"font-weight: bold; text-align: right;\">1</td><td style = \"text-align: left;\">c</td><td style = \"text-align: right;\">2501452</td></tr><tr><td class = \"rowNumber\" style = \"font-weight: bold; text-align: right;\">2</td><td style = \"text-align: left;\">a</td><td style = \"text-align: right;\">2502167</td></tr><tr><td class = \"rowNumber\" style = \"font-weight: bold; text-align: right;\">3</td><td style = \"text-align: left;\">d</td><td style = \"text-align: right;\">2500969</td></tr><tr><td class = \"rowNumber\" style = \"font-weight: bold; text-align: right;\">4</td><td style = \"text-align: left;\">b</td><td style = \"text-align: right;\">2495412</td></tr></tbody></table></div>"
      ],
      "text/latex": [
       "\\begin{tabular}{r|cc}\n",
       "\t& x & y\\_sum\\\\\n",
       "\t\\hline\n",
       "\t& Char & Int64\\\\\n",
       "\t\\hline\n",
       "\t1 & c & 2501452 \\\\\n",
       "\t2 & a & 2502167 \\\\\n",
       "\t3 & d & 2500969 \\\\\n",
       "\t4 & b & 2495412 \\\\\n",
       "\\end{tabular}\n"
      ],
      "text/plain": [
       "\u001b[1m4×2 DataFrame\u001b[0m\n",
       "\u001b[1m Row \u001b[0m│\u001b[1m x    \u001b[0m\u001b[1m y_sum   \u001b[0m\n",
       "     │\u001b[90m Char \u001b[0m\u001b[90m Int64   \u001b[0m\n",
       "─────┼───────────────\n",
       "   1 │ c     2501452\n",
       "   2 │ a     2502167\n",
       "   3 │ d     2500969\n",
       "   4 │ b     2495412"
      ]
     },
     "execution_count": 15,
     "metadata": {},
     "output_type": "execute_result"
    }
   ],
   "source": [
    "@btime combine($gdf, :y=>sum) # use column selector"
   ]
  },
  {
   "cell_type": "code",
   "execution_count": 16,
   "metadata": {},
   "outputs": [],
   "source": [
    "transform!(df, :x => categorical => :x);"
   ]
  },
  {
   "cell_type": "code",
   "execution_count": 17,
   "metadata": {},
   "outputs": [
    {
     "data": {
      "text/html": [
       "<p><b>GroupedDataFrame with 4 groups based on key: x</b></p><div><div style = \"float: left;\"><span>First Group (2502167 rows): x = CategoricalValue{Char, UInt32} &apos;a&apos;</span></div><div style = \"float: right;\"><span style = \"font-style: italic;\">2502142 rows omitted</span></div><div style = \"clear: both;\"></div></div><div class = \"data-frame\" style = \"overflow-x: scroll;\"><table class = \"data-frame\" style = \"margin-bottom: 6px;\"><thead><tr class = \"header\"><th class = \"rowNumber\" style = \"font-weight: bold; text-align: right;\">Row</th><th style = \"text-align: left;\">x</th><th style = \"text-align: left;\">y</th></tr><tr class = \"subheader headerLastRow\"><th class = \"rowNumber\" style = \"font-weight: bold; text-align: right;\"></th><th title = \"CategoricalValue{Char, UInt32}\" style = \"text-align: left;\">Cat…</th><th title = \"Int64\" style = \"text-align: left;\">Int64</th></tr></thead><tbody><tr><td class = \"rowNumber\" style = \"font-weight: bold; text-align: right;\">1</td><td style = \"text-align: left;\">a</td><td style = \"text-align: right;\">1</td></tr><tr><td class = \"rowNumber\" style = \"font-weight: bold; text-align: right;\">2</td><td style = \"text-align: left;\">a</td><td style = \"text-align: right;\">1</td></tr><tr><td class = \"rowNumber\" style = \"font-weight: bold; text-align: right;\">3</td><td style = \"text-align: left;\">a</td><td style = \"text-align: right;\">1</td></tr><tr><td class = \"rowNumber\" style = \"font-weight: bold; text-align: right;\">4</td><td style = \"text-align: left;\">a</td><td style = \"text-align: right;\">1</td></tr><tr><td class = \"rowNumber\" style = \"font-weight: bold; text-align: right;\">5</td><td style = \"text-align: left;\">a</td><td style = \"text-align: right;\">1</td></tr><tr><td class = \"rowNumber\" style = \"font-weight: bold; text-align: right;\">6</td><td style = \"text-align: left;\">a</td><td style = \"text-align: right;\">1</td></tr><tr><td class = \"rowNumber\" style = \"font-weight: bold; text-align: right;\">7</td><td style = \"text-align: left;\">a</td><td style = \"text-align: right;\">1</td></tr><tr><td class = \"rowNumber\" style = \"font-weight: bold; text-align: right;\">8</td><td style = \"text-align: left;\">a</td><td style = \"text-align: right;\">1</td></tr><tr><td class = \"rowNumber\" style = \"font-weight: bold; text-align: right;\">9</td><td style = \"text-align: left;\">a</td><td style = \"text-align: right;\">1</td></tr><tr><td class = \"rowNumber\" style = \"font-weight: bold; text-align: right;\">10</td><td style = \"text-align: left;\">a</td><td style = \"text-align: right;\">1</td></tr><tr><td class = \"rowNumber\" style = \"font-weight: bold; text-align: right;\">11</td><td style = \"text-align: left;\">a</td><td style = \"text-align: right;\">1</td></tr><tr><td class = \"rowNumber\" style = \"font-weight: bold; text-align: right;\">12</td><td style = \"text-align: left;\">a</td><td style = \"text-align: right;\">1</td></tr><tr><td class = \"rowNumber\" style = \"font-weight: bold; text-align: right;\">13</td><td style = \"text-align: left;\">a</td><td style = \"text-align: right;\">1</td></tr><tr><td style = \"text-align: right;\">&vellip;</td><td style = \"text-align: right;\">&vellip;</td><td style = \"text-align: right;\">&vellip;</td></tr><tr><td class = \"rowNumber\" style = \"font-weight: bold; text-align: right;\">2502156</td><td style = \"text-align: left;\">a</td><td style = \"text-align: right;\">1</td></tr><tr><td class = \"rowNumber\" style = \"font-weight: bold; text-align: right;\">2502157</td><td style = \"text-align: left;\">a</td><td style = \"text-align: right;\">1</td></tr><tr><td class = \"rowNumber\" style = \"font-weight: bold; text-align: right;\">2502158</td><td style = \"text-align: left;\">a</td><td style = \"text-align: right;\">1</td></tr><tr><td class = \"rowNumber\" style = \"font-weight: bold; text-align: right;\">2502159</td><td style = \"text-align: left;\">a</td><td style = \"text-align: right;\">1</td></tr><tr><td class = \"rowNumber\" style = \"font-weight: bold; text-align: right;\">2502160</td><td style = \"text-align: left;\">a</td><td style = \"text-align: right;\">1</td></tr><tr><td class = \"rowNumber\" style = \"font-weight: bold; text-align: right;\">2502161</td><td style = \"text-align: left;\">a</td><td style = \"text-align: right;\">1</td></tr><tr><td class = \"rowNumber\" style = \"font-weight: bold; text-align: right;\">2502162</td><td style = \"text-align: left;\">a</td><td style = \"text-align: right;\">1</td></tr><tr><td class = \"rowNumber\" style = \"font-weight: bold; text-align: right;\">2502163</td><td style = \"text-align: left;\">a</td><td style = \"text-align: right;\">1</td></tr><tr><td class = \"rowNumber\" style = \"font-weight: bold; text-align: right;\">2502164</td><td style = \"text-align: left;\">a</td><td style = \"text-align: right;\">1</td></tr><tr><td class = \"rowNumber\" style = \"font-weight: bold; text-align: right;\">2502165</td><td style = \"text-align: left;\">a</td><td style = \"text-align: right;\">1</td></tr><tr><td class = \"rowNumber\" style = \"font-weight: bold; text-align: right;\">2502166</td><td style = \"text-align: left;\">a</td><td style = \"text-align: right;\">1</td></tr><tr><td class = \"rowNumber\" style = \"font-weight: bold; text-align: right;\">2502167</td><td style = \"text-align: left;\">a</td><td style = \"text-align: right;\">1</td></tr></tbody></table></div><p>&vellip;</p><div><div style = \"float: left;\"><span>Last Group (2500969 rows): x = CategoricalValue{Char, UInt32} &apos;d&apos;</span></div><div style = \"float: right;\"><span style = \"font-style: italic;\">2500944 rows omitted</span></div><div style = \"clear: both;\"></div></div><div class = \"data-frame\" style = \"overflow-x: scroll;\"><table class = \"data-frame\" style = \"margin-bottom: 6px;\"><thead><tr class = \"header\"><th class = \"rowNumber\" style = \"font-weight: bold; text-align: right;\">Row</th><th style = \"text-align: left;\">x</th><th style = \"text-align: left;\">y</th></tr><tr class = \"subheader headerLastRow\"><th class = \"rowNumber\" style = \"font-weight: bold; text-align: right;\"></th><th title = \"CategoricalValue{Char, UInt32}\" style = \"text-align: left;\">Cat…</th><th title = \"Int64\" style = \"text-align: left;\">Int64</th></tr></thead><tbody><tr><td class = \"rowNumber\" style = \"font-weight: bold; text-align: right;\">1</td><td style = \"text-align: left;\">d</td><td style = \"text-align: right;\">1</td></tr><tr><td class = \"rowNumber\" style = \"font-weight: bold; text-align: right;\">2</td><td style = \"text-align: left;\">d</td><td style = \"text-align: right;\">1</td></tr><tr><td class = \"rowNumber\" style = \"font-weight: bold; text-align: right;\">3</td><td style = \"text-align: left;\">d</td><td style = \"text-align: right;\">1</td></tr><tr><td class = \"rowNumber\" style = \"font-weight: bold; text-align: right;\">4</td><td style = \"text-align: left;\">d</td><td style = \"text-align: right;\">1</td></tr><tr><td class = \"rowNumber\" style = \"font-weight: bold; text-align: right;\">5</td><td style = \"text-align: left;\">d</td><td style = \"text-align: right;\">1</td></tr><tr><td class = \"rowNumber\" style = \"font-weight: bold; text-align: right;\">6</td><td style = \"text-align: left;\">d</td><td style = \"text-align: right;\">1</td></tr><tr><td class = \"rowNumber\" style = \"font-weight: bold; text-align: right;\">7</td><td style = \"text-align: left;\">d</td><td style = \"text-align: right;\">1</td></tr><tr><td class = \"rowNumber\" style = \"font-weight: bold; text-align: right;\">8</td><td style = \"text-align: left;\">d</td><td style = \"text-align: right;\">1</td></tr><tr><td class = \"rowNumber\" style = \"font-weight: bold; text-align: right;\">9</td><td style = \"text-align: left;\">d</td><td style = \"text-align: right;\">1</td></tr><tr><td class = \"rowNumber\" style = \"font-weight: bold; text-align: right;\">10</td><td style = \"text-align: left;\">d</td><td style = \"text-align: right;\">1</td></tr><tr><td class = \"rowNumber\" style = \"font-weight: bold; text-align: right;\">11</td><td style = \"text-align: left;\">d</td><td style = \"text-align: right;\">1</td></tr><tr><td class = \"rowNumber\" style = \"font-weight: bold; text-align: right;\">12</td><td style = \"text-align: left;\">d</td><td style = \"text-align: right;\">1</td></tr><tr><td class = \"rowNumber\" style = \"font-weight: bold; text-align: right;\">13</td><td style = \"text-align: left;\">d</td><td style = \"text-align: right;\">1</td></tr><tr><td style = \"text-align: right;\">&vellip;</td><td style = \"text-align: right;\">&vellip;</td><td style = \"text-align: right;\">&vellip;</td></tr><tr><td class = \"rowNumber\" style = \"font-weight: bold; text-align: right;\">2500958</td><td style = \"text-align: left;\">d</td><td style = \"text-align: right;\">1</td></tr><tr><td class = \"rowNumber\" style = \"font-weight: bold; text-align: right;\">2500959</td><td style = \"text-align: left;\">d</td><td style = \"text-align: right;\">1</td></tr><tr><td class = \"rowNumber\" style = \"font-weight: bold; text-align: right;\">2500960</td><td style = \"text-align: left;\">d</td><td style = \"text-align: right;\">1</td></tr><tr><td class = \"rowNumber\" style = \"font-weight: bold; text-align: right;\">2500961</td><td style = \"text-align: left;\">d</td><td style = \"text-align: right;\">1</td></tr><tr><td class = \"rowNumber\" style = \"font-weight: bold; text-align: right;\">2500962</td><td style = \"text-align: left;\">d</td><td style = \"text-align: right;\">1</td></tr><tr><td class = \"rowNumber\" style = \"font-weight: bold; text-align: right;\">2500963</td><td style = \"text-align: left;\">d</td><td style = \"text-align: right;\">1</td></tr><tr><td class = \"rowNumber\" style = \"font-weight: bold; text-align: right;\">2500964</td><td style = \"text-align: left;\">d</td><td style = \"text-align: right;\">1</td></tr><tr><td class = \"rowNumber\" style = \"font-weight: bold; text-align: right;\">2500965</td><td style = \"text-align: left;\">d</td><td style = \"text-align: right;\">1</td></tr><tr><td class = \"rowNumber\" style = \"font-weight: bold; text-align: right;\">2500966</td><td style = \"text-align: left;\">d</td><td style = \"text-align: right;\">1</td></tr><tr><td class = \"rowNumber\" style = \"font-weight: bold; text-align: right;\">2500967</td><td style = \"text-align: left;\">d</td><td style = \"text-align: right;\">1</td></tr><tr><td class = \"rowNumber\" style = \"font-weight: bold; text-align: right;\">2500968</td><td style = \"text-align: left;\">d</td><td style = \"text-align: right;\">1</td></tr><tr><td class = \"rowNumber\" style = \"font-weight: bold; text-align: right;\">2500969</td><td style = \"text-align: left;\">d</td><td style = \"text-align: right;\">1</td></tr></tbody></table></div>"
      ],
      "text/latex": [
       "GroupedDataFrame with 4 groups based on key: x\n",
       "\n",
       "First Group (2502167 rows): x = CategoricalValue\\{Char, UInt32\\} 'a'\n",
       "\n",
       "\\begin{tabular}{r|cc}\n",
       "\t& x & y\\\\\n",
       "\t\\hline\n",
       "\t& Cat… & Int64\\\\\n",
       "\t\\hline\n",
       "\t1 & a & 1 \\\\\n",
       "\t2 & a & 1 \\\\\n",
       "\t3 & a & 1 \\\\\n",
       "\t4 & a & 1 \\\\\n",
       "\t5 & a & 1 \\\\\n",
       "\t6 & a & 1 \\\\\n",
       "\t7 & a & 1 \\\\\n",
       "\t8 & a & 1 \\\\\n",
       "\t9 & a & 1 \\\\\n",
       "\t10 & a & 1 \\\\\n",
       "\t11 & a & 1 \\\\\n",
       "\t12 & a & 1 \\\\\n",
       "\t13 & a & 1 \\\\\n",
       "\t14 & a & 1 \\\\\n",
       "\t15 & a & 1 \\\\\n",
       "\t16 & a & 1 \\\\\n",
       "\t17 & a & 1 \\\\\n",
       "\t18 & a & 1 \\\\\n",
       "\t19 & a & 1 \\\\\n",
       "\t20 & a & 1 \\\\\n",
       "\t21 & a & 1 \\\\\n",
       "\t22 & a & 1 \\\\\n",
       "\t23 & a & 1 \\\\\n",
       "\t24 & a & 1 \\\\\n",
       "\t25 & a & 1 \\\\\n",
       "\t26 & a & 1 \\\\\n",
       "\t27 & a & 1 \\\\\n",
       "\t28 & a & 1 \\\\\n",
       "\t29 & a & 1 \\\\\n",
       "\t30 & a & 1 \\\\\n",
       "\t$\\dots$ & $\\dots$ & $\\dots$ \\\\\n",
       "\\end{tabular}\n",
       "\n",
       "$\\dots$\n",
       "\n",
       "Last Group (2500969 rows): x = CategoricalValue\\{Char, UInt32\\} 'd'\n",
       "\n",
       "\\begin{tabular}{r|cc}\n",
       "\t& x & y\\\\\n",
       "\t\\hline\n",
       "\t& Cat… & Int64\\\\\n",
       "\t\\hline\n",
       "\t1 & d & 1 \\\\\n",
       "\t2 & d & 1 \\\\\n",
       "\t3 & d & 1 \\\\\n",
       "\t4 & d & 1 \\\\\n",
       "\t5 & d & 1 \\\\\n",
       "\t6 & d & 1 \\\\\n",
       "\t7 & d & 1 \\\\\n",
       "\t8 & d & 1 \\\\\n",
       "\t9 & d & 1 \\\\\n",
       "\t10 & d & 1 \\\\\n",
       "\t11 & d & 1 \\\\\n",
       "\t12 & d & 1 \\\\\n",
       "\t13 & d & 1 \\\\\n",
       "\t14 & d & 1 \\\\\n",
       "\t15 & d & 1 \\\\\n",
       "\t16 & d & 1 \\\\\n",
       "\t17 & d & 1 \\\\\n",
       "\t18 & d & 1 \\\\\n",
       "\t19 & d & 1 \\\\\n",
       "\t20 & d & 1 \\\\\n",
       "\t21 & d & 1 \\\\\n",
       "\t22 & d & 1 \\\\\n",
       "\t23 & d & 1 \\\\\n",
       "\t24 & d & 1 \\\\\n",
       "\t25 & d & 1 \\\\\n",
       "\t26 & d & 1 \\\\\n",
       "\t27 & d & 1 \\\\\n",
       "\t28 & d & 1 \\\\\n",
       "\t29 & d & 1 \\\\\n",
       "\t30 & d & 1 \\\\\n",
       "\t$\\dots$ & $\\dots$ & $\\dots$ \\\\\n",
       "\\end{tabular}\n"
      ],
      "text/plain": [
       "GroupedDataFrame with 4 groups based on key: x\n",
       "First Group (2502167 rows): x = CategoricalValue{Char, UInt32} 'a'\n",
       "\u001b[1m     Row \u001b[0m│\u001b[1m x    \u001b[0m\u001b[1m y     \u001b[0m\n",
       "         │\u001b[90m Cat… \u001b[0m\u001b[90m Int64 \u001b[0m\n",
       "─────────┼─────────────\n",
       "       1 │ a         1\n",
       "       2 │ a         1\n",
       "       3 │ a         1\n",
       "       4 │ a         1\n",
       "    ⋮    │  ⋮      ⋮\n",
       " 2502165 │ a         1\n",
       " 2502166 │ a         1\n",
       " 2502167 │ a         1\n",
       "\u001b[36m   2502160 rows omitted\u001b[0m\n",
       "⋮\n",
       "Last Group (2500969 rows): x = CategoricalValue{Char, UInt32} 'd'\n",
       "\u001b[1m     Row \u001b[0m│\u001b[1m x    \u001b[0m\u001b[1m y     \u001b[0m\n",
       "         │\u001b[90m Cat… \u001b[0m\u001b[90m Int64 \u001b[0m\n",
       "─────────┼─────────────\n",
       "       1 │ d         1\n",
       "       2 │ d         1\n",
       "       3 │ d         1\n",
       "    ⋮    │  ⋮      ⋮\n",
       " 2500967 │ d         1\n",
       " 2500968 │ d         1\n",
       " 2500969 │ d         1\n",
       "\u001b[36m   2500963 rows omitted\u001b[0m"
      ]
     },
     "execution_count": 17,
     "metadata": {},
     "output_type": "execute_result"
    }
   ],
   "source": [
    "gdf = groupby(df, :x)"
   ]
  },
  {
   "cell_type": "code",
   "execution_count": 18,
   "metadata": {
    "scrolled": true
   },
   "outputs": [
    {
     "name": "stdout",
     "output_type": "stream",
     "text": [
      "  9.055 ms (233 allocations: 14.70 KiB)\n"
     ]
    },
    {
     "data": {
      "text/html": [
       "<div><div style = \"float: left;\"><span>4×2 DataFrame</span></div><div style = \"clear: both;\"></div></div><div class = \"data-frame\" style = \"overflow-x: scroll;\"><table class = \"data-frame\" style = \"margin-bottom: 6px;\"><thead><tr class = \"header\"><th class = \"rowNumber\" style = \"font-weight: bold; text-align: right;\">Row</th><th style = \"text-align: left;\">x</th><th style = \"text-align: left;\">y_sum</th></tr><tr class = \"subheader headerLastRow\"><th class = \"rowNumber\" style = \"font-weight: bold; text-align: right;\"></th><th title = \"CategoricalValue{Char, UInt32}\" style = \"text-align: left;\">Cat…</th><th title = \"Int64\" style = \"text-align: left;\">Int64</th></tr></thead><tbody><tr><td class = \"rowNumber\" style = \"font-weight: bold; text-align: right;\">1</td><td style = \"text-align: left;\">a</td><td style = \"text-align: right;\">2502167</td></tr><tr><td class = \"rowNumber\" style = \"font-weight: bold; text-align: right;\">2</td><td style = \"text-align: left;\">b</td><td style = \"text-align: right;\">2495412</td></tr><tr><td class = \"rowNumber\" style = \"font-weight: bold; text-align: right;\">3</td><td style = \"text-align: left;\">c</td><td style = \"text-align: right;\">2501452</td></tr><tr><td class = \"rowNumber\" style = \"font-weight: bold; text-align: right;\">4</td><td style = \"text-align: left;\">d</td><td style = \"text-align: right;\">2500969</td></tr></tbody></table></div>"
      ],
      "text/latex": [
       "\\begin{tabular}{r|cc}\n",
       "\t& x & y\\_sum\\\\\n",
       "\t\\hline\n",
       "\t& Cat… & Int64\\\\\n",
       "\t\\hline\n",
       "\t1 & a & 2502167 \\\\\n",
       "\t2 & b & 2495412 \\\\\n",
       "\t3 & c & 2501452 \\\\\n",
       "\t4 & d & 2500969 \\\\\n",
       "\\end{tabular}\n"
      ],
      "text/plain": [
       "\u001b[1m4×2 DataFrame\u001b[0m\n",
       "\u001b[1m Row \u001b[0m│\u001b[1m x    \u001b[0m\u001b[1m y_sum   \u001b[0m\n",
       "     │\u001b[90m Cat… \u001b[0m\u001b[90m Int64   \u001b[0m\n",
       "─────┼───────────────\n",
       "   1 │ a     2502167\n",
       "   2 │ b     2495412\n",
       "   3 │ c     2501452\n",
       "   4 │ d     2500969"
      ]
     },
     "execution_count": 18,
     "metadata": {},
     "output_type": "execute_result"
    }
   ],
   "source": [
    "@btime combine($gdf, :y=>sum)"
   ]
  },
  {
   "cell_type": "code",
   "execution_count": 19,
   "metadata": {},
   "outputs": [
    {
     "data": {
      "text/html": [
       "<div><div style = \"float: left;\"><span>10000000×2 DataFrame</span></div><div style = \"float: right;\"><span style = \"font-style: italic;\">9999975 rows omitted</span></div><div style = \"clear: both;\"></div></div><div class = \"data-frame\" style = \"overflow-x: scroll;\"><table class = \"data-frame\" style = \"margin-bottom: 6px;\"><thead><tr class = \"header\"><th class = \"rowNumber\" style = \"font-weight: bold; text-align: right;\">Row</th><th style = \"text-align: left;\">x</th><th style = \"text-align: left;\">y</th></tr><tr class = \"subheader headerLastRow\"><th class = \"rowNumber\" style = \"font-weight: bold; text-align: right;\"></th><th title = \"Char\" style = \"text-align: left;\">Char</th><th title = \"Int64\" style = \"text-align: left;\">Int64</th></tr></thead><tbody><tr><td class = \"rowNumber\" style = \"font-weight: bold; text-align: right;\">1</td><td style = \"text-align: left;\">c</td><td style = \"text-align: right;\">1</td></tr><tr><td class = \"rowNumber\" style = \"font-weight: bold; text-align: right;\">2</td><td style = \"text-align: left;\">a</td><td style = \"text-align: right;\">1</td></tr><tr><td class = \"rowNumber\" style = \"font-weight: bold; text-align: right;\">3</td><td style = \"text-align: left;\">c</td><td style = \"text-align: right;\">1</td></tr><tr><td class = \"rowNumber\" style = \"font-weight: bold; text-align: right;\">4</td><td style = \"text-align: left;\">d</td><td style = \"text-align: right;\">1</td></tr><tr><td class = \"rowNumber\" style = \"font-weight: bold; text-align: right;\">5</td><td style = \"text-align: left;\">d</td><td style = \"text-align: right;\">1</td></tr><tr><td class = \"rowNumber\" style = \"font-weight: bold; text-align: right;\">6</td><td style = \"text-align: left;\">b</td><td style = \"text-align: right;\">1</td></tr><tr><td class = \"rowNumber\" style = \"font-weight: bold; text-align: right;\">7</td><td style = \"text-align: left;\">d</td><td style = \"text-align: right;\">1</td></tr><tr><td class = \"rowNumber\" style = \"font-weight: bold; text-align: right;\">8</td><td style = \"text-align: left;\">c</td><td style = \"text-align: right;\">1</td></tr><tr><td class = \"rowNumber\" style = \"font-weight: bold; text-align: right;\">9</td><td style = \"text-align: left;\">c</td><td style = \"text-align: right;\">1</td></tr><tr><td class = \"rowNumber\" style = \"font-weight: bold; text-align: right;\">10</td><td style = \"text-align: left;\">a</td><td style = \"text-align: right;\">1</td></tr><tr><td class = \"rowNumber\" style = \"font-weight: bold; text-align: right;\">11</td><td style = \"text-align: left;\">b</td><td style = \"text-align: right;\">1</td></tr><tr><td class = \"rowNumber\" style = \"font-weight: bold; text-align: right;\">12</td><td style = \"text-align: left;\">a</td><td style = \"text-align: right;\">1</td></tr><tr><td class = \"rowNumber\" style = \"font-weight: bold; text-align: right;\">13</td><td style = \"text-align: left;\">d</td><td style = \"text-align: right;\">1</td></tr><tr><td style = \"text-align: right;\">&vellip;</td><td style = \"text-align: right;\">&vellip;</td><td style = \"text-align: right;\">&vellip;</td></tr><tr><td class = \"rowNumber\" style = \"font-weight: bold; text-align: right;\">9999989</td><td style = \"text-align: left;\">a</td><td style = \"text-align: right;\">1</td></tr><tr><td class = \"rowNumber\" style = \"font-weight: bold; text-align: right;\">9999990</td><td style = \"text-align: left;\">d</td><td style = \"text-align: right;\">1</td></tr><tr><td class = \"rowNumber\" style = \"font-weight: bold; text-align: right;\">9999991</td><td style = \"text-align: left;\">a</td><td style = \"text-align: right;\">1</td></tr><tr><td class = \"rowNumber\" style = \"font-weight: bold; text-align: right;\">9999992</td><td style = \"text-align: left;\">d</td><td style = \"text-align: right;\">1</td></tr><tr><td class = \"rowNumber\" style = \"font-weight: bold; text-align: right;\">9999993</td><td style = \"text-align: left;\">d</td><td style = \"text-align: right;\">1</td></tr><tr><td class = \"rowNumber\" style = \"font-weight: bold; text-align: right;\">9999994</td><td style = \"text-align: left;\">d</td><td style = \"text-align: right;\">1</td></tr><tr><td class = \"rowNumber\" style = \"font-weight: bold; text-align: right;\">9999995</td><td style = \"text-align: left;\">a</td><td style = \"text-align: right;\">1</td></tr><tr><td class = \"rowNumber\" style = \"font-weight: bold; text-align: right;\">9999996</td><td style = \"text-align: left;\">d</td><td style = \"text-align: right;\">1</td></tr><tr><td class = \"rowNumber\" style = \"font-weight: bold; text-align: right;\">9999997</td><td style = \"text-align: left;\">a</td><td style = \"text-align: right;\">1</td></tr><tr><td class = \"rowNumber\" style = \"font-weight: bold; text-align: right;\">9999998</td><td style = \"text-align: left;\">a</td><td style = \"text-align: right;\">1</td></tr><tr><td class = \"rowNumber\" style = \"font-weight: bold; text-align: right;\">9999999</td><td style = \"text-align: left;\">c</td><td style = \"text-align: right;\">1</td></tr><tr><td class = \"rowNumber\" style = \"font-weight: bold; text-align: right;\">10000000</td><td style = \"text-align: left;\">c</td><td style = \"text-align: right;\">1</td></tr></tbody></table></div>"
      ],
      "text/latex": [
       "\\begin{tabular}{r|cc}\n",
       "\t& x & y\\\\\n",
       "\t\\hline\n",
       "\t& Char & Int64\\\\\n",
       "\t\\hline\n",
       "\t1 & c & 1 \\\\\n",
       "\t2 & a & 1 \\\\\n",
       "\t3 & c & 1 \\\\\n",
       "\t4 & d & 1 \\\\\n",
       "\t5 & d & 1 \\\\\n",
       "\t6 & b & 1 \\\\\n",
       "\t7 & d & 1 \\\\\n",
       "\t8 & c & 1 \\\\\n",
       "\t9 & c & 1 \\\\\n",
       "\t10 & a & 1 \\\\\n",
       "\t11 & b & 1 \\\\\n",
       "\t12 & a & 1 \\\\\n",
       "\t13 & d & 1 \\\\\n",
       "\t14 & c & 1 \\\\\n",
       "\t15 & a & 1 \\\\\n",
       "\t16 & a & 1 \\\\\n",
       "\t17 & c & 1 \\\\\n",
       "\t18 & b & 1 \\\\\n",
       "\t19 & a & 1 \\\\\n",
       "\t20 & c & 1 \\\\\n",
       "\t21 & a & 1 \\\\\n",
       "\t22 & a & 1 \\\\\n",
       "\t23 & c & 1 \\\\\n",
       "\t24 & c & 1 \\\\\n",
       "\t25 & d & 1 \\\\\n",
       "\t26 & c & 1 \\\\\n",
       "\t27 & d & 1 \\\\\n",
       "\t28 & b & 1 \\\\\n",
       "\t29 & b & 1 \\\\\n",
       "\t30 & b & 1 \\\\\n",
       "\t$\\dots$ & $\\dots$ & $\\dots$ \\\\\n",
       "\\end{tabular}\n"
      ],
      "text/plain": [
       "\u001b[1m10000000×2 DataFrame\u001b[0m\n",
       "\u001b[1m      Row \u001b[0m│\u001b[1m x    \u001b[0m\u001b[1m y     \u001b[0m\n",
       "          │\u001b[90m Char \u001b[0m\u001b[90m Int64 \u001b[0m\n",
       "──────────┼─────────────\n",
       "        1 │ c         1\n",
       "        2 │ a         1\n",
       "        3 │ c         1\n",
       "        4 │ d         1\n",
       "        5 │ d         1\n",
       "        6 │ b         1\n",
       "        7 │ d         1\n",
       "        8 │ c         1\n",
       "        9 │ c         1\n",
       "       10 │ a         1\n",
       "       11 │ b         1\n",
       "    ⋮     │  ⋮      ⋮\n",
       "  9999991 │ a         1\n",
       "  9999992 │ d         1\n",
       "  9999993 │ d         1\n",
       "  9999994 │ d         1\n",
       "  9999995 │ a         1\n",
       "  9999996 │ d         1\n",
       "  9999997 │ a         1\n",
       "  9999998 │ a         1\n",
       "  9999999 │ c         1\n",
       " 10000000 │ c         1\n",
       "\u001b[36m    9999979 rows omitted\u001b[0m"
      ]
     },
     "execution_count": 19,
     "metadata": {},
     "output_type": "execute_result"
    }
   ],
   "source": [
    "transform!(df, :x => PooledArray{Char} => :x)"
   ]
  },
  {
   "cell_type": "code",
   "execution_count": 20,
   "metadata": {},
   "outputs": [
    {
     "data": {
      "text/html": [
       "<p><b>GroupedDataFrame with 4 groups based on key: x</b></p><div><div style = \"float: left;\"><span>First Group (2501452 rows): x = &apos;c&apos;</span></div><div style = \"float: right;\"><span style = \"font-style: italic;\">2501427 rows omitted</span></div><div style = \"clear: both;\"></div></div><div class = \"data-frame\" style = \"overflow-x: scroll;\"><table class = \"data-frame\" style = \"margin-bottom: 6px;\"><thead><tr class = \"header\"><th class = \"rowNumber\" style = \"font-weight: bold; text-align: right;\">Row</th><th style = \"text-align: left;\">x</th><th style = \"text-align: left;\">y</th></tr><tr class = \"subheader headerLastRow\"><th class = \"rowNumber\" style = \"font-weight: bold; text-align: right;\"></th><th title = \"Char\" style = \"text-align: left;\">Char</th><th title = \"Int64\" style = \"text-align: left;\">Int64</th></tr></thead><tbody><tr><td class = \"rowNumber\" style = \"font-weight: bold; text-align: right;\">1</td><td style = \"text-align: left;\">c</td><td style = \"text-align: right;\">1</td></tr><tr><td class = \"rowNumber\" style = \"font-weight: bold; text-align: right;\">2</td><td style = \"text-align: left;\">c</td><td style = \"text-align: right;\">1</td></tr><tr><td class = \"rowNumber\" style = \"font-weight: bold; text-align: right;\">3</td><td style = \"text-align: left;\">c</td><td style = \"text-align: right;\">1</td></tr><tr><td class = \"rowNumber\" style = \"font-weight: bold; text-align: right;\">4</td><td style = \"text-align: left;\">c</td><td style = \"text-align: right;\">1</td></tr><tr><td class = \"rowNumber\" style = \"font-weight: bold; text-align: right;\">5</td><td style = \"text-align: left;\">c</td><td style = \"text-align: right;\">1</td></tr><tr><td class = \"rowNumber\" style = \"font-weight: bold; text-align: right;\">6</td><td style = \"text-align: left;\">c</td><td style = \"text-align: right;\">1</td></tr><tr><td class = \"rowNumber\" style = \"font-weight: bold; text-align: right;\">7</td><td style = \"text-align: left;\">c</td><td style = \"text-align: right;\">1</td></tr><tr><td class = \"rowNumber\" style = \"font-weight: bold; text-align: right;\">8</td><td style = \"text-align: left;\">c</td><td style = \"text-align: right;\">1</td></tr><tr><td class = \"rowNumber\" style = \"font-weight: bold; text-align: right;\">9</td><td style = \"text-align: left;\">c</td><td style = \"text-align: right;\">1</td></tr><tr><td class = \"rowNumber\" style = \"font-weight: bold; text-align: right;\">10</td><td style = \"text-align: left;\">c</td><td style = \"text-align: right;\">1</td></tr><tr><td class = \"rowNumber\" style = \"font-weight: bold; text-align: right;\">11</td><td style = \"text-align: left;\">c</td><td style = \"text-align: right;\">1</td></tr><tr><td class = \"rowNumber\" style = \"font-weight: bold; text-align: right;\">12</td><td style = \"text-align: left;\">c</td><td style = \"text-align: right;\">1</td></tr><tr><td class = \"rowNumber\" style = \"font-weight: bold; text-align: right;\">13</td><td style = \"text-align: left;\">c</td><td style = \"text-align: right;\">1</td></tr><tr><td style = \"text-align: right;\">&vellip;</td><td style = \"text-align: right;\">&vellip;</td><td style = \"text-align: right;\">&vellip;</td></tr><tr><td class = \"rowNumber\" style = \"font-weight: bold; text-align: right;\">2501441</td><td style = \"text-align: left;\">c</td><td style = \"text-align: right;\">1</td></tr><tr><td class = \"rowNumber\" style = \"font-weight: bold; text-align: right;\">2501442</td><td style = \"text-align: left;\">c</td><td style = \"text-align: right;\">1</td></tr><tr><td class = \"rowNumber\" style = \"font-weight: bold; text-align: right;\">2501443</td><td style = \"text-align: left;\">c</td><td style = \"text-align: right;\">1</td></tr><tr><td class = \"rowNumber\" style = \"font-weight: bold; text-align: right;\">2501444</td><td style = \"text-align: left;\">c</td><td style = \"text-align: right;\">1</td></tr><tr><td class = \"rowNumber\" style = \"font-weight: bold; text-align: right;\">2501445</td><td style = \"text-align: left;\">c</td><td style = \"text-align: right;\">1</td></tr><tr><td class = \"rowNumber\" style = \"font-weight: bold; text-align: right;\">2501446</td><td style = \"text-align: left;\">c</td><td style = \"text-align: right;\">1</td></tr><tr><td class = \"rowNumber\" style = \"font-weight: bold; text-align: right;\">2501447</td><td style = \"text-align: left;\">c</td><td style = \"text-align: right;\">1</td></tr><tr><td class = \"rowNumber\" style = \"font-weight: bold; text-align: right;\">2501448</td><td style = \"text-align: left;\">c</td><td style = \"text-align: right;\">1</td></tr><tr><td class = \"rowNumber\" style = \"font-weight: bold; text-align: right;\">2501449</td><td style = \"text-align: left;\">c</td><td style = \"text-align: right;\">1</td></tr><tr><td class = \"rowNumber\" style = \"font-weight: bold; text-align: right;\">2501450</td><td style = \"text-align: left;\">c</td><td style = \"text-align: right;\">1</td></tr><tr><td class = \"rowNumber\" style = \"font-weight: bold; text-align: right;\">2501451</td><td style = \"text-align: left;\">c</td><td style = \"text-align: right;\">1</td></tr><tr><td class = \"rowNumber\" style = \"font-weight: bold; text-align: right;\">2501452</td><td style = \"text-align: left;\">c</td><td style = \"text-align: right;\">1</td></tr></tbody></table></div><p>&vellip;</p><div><div style = \"float: left;\"><span>Last Group (2495412 rows): x = &apos;b&apos;</span></div><div style = \"float: right;\"><span style = \"font-style: italic;\">2495387 rows omitted</span></div><div style = \"clear: both;\"></div></div><div class = \"data-frame\" style = \"overflow-x: scroll;\"><table class = \"data-frame\" style = \"margin-bottom: 6px;\"><thead><tr class = \"header\"><th class = \"rowNumber\" style = \"font-weight: bold; text-align: right;\">Row</th><th style = \"text-align: left;\">x</th><th style = \"text-align: left;\">y</th></tr><tr class = \"subheader headerLastRow\"><th class = \"rowNumber\" style = \"font-weight: bold; text-align: right;\"></th><th title = \"Char\" style = \"text-align: left;\">Char</th><th title = \"Int64\" style = \"text-align: left;\">Int64</th></tr></thead><tbody><tr><td class = \"rowNumber\" style = \"font-weight: bold; text-align: right;\">1</td><td style = \"text-align: left;\">b</td><td style = \"text-align: right;\">1</td></tr><tr><td class = \"rowNumber\" style = \"font-weight: bold; text-align: right;\">2</td><td style = \"text-align: left;\">b</td><td style = \"text-align: right;\">1</td></tr><tr><td class = \"rowNumber\" style = \"font-weight: bold; text-align: right;\">3</td><td style = \"text-align: left;\">b</td><td style = \"text-align: right;\">1</td></tr><tr><td class = \"rowNumber\" style = \"font-weight: bold; text-align: right;\">4</td><td style = \"text-align: left;\">b</td><td style = \"text-align: right;\">1</td></tr><tr><td class = \"rowNumber\" style = \"font-weight: bold; text-align: right;\">5</td><td style = \"text-align: left;\">b</td><td style = \"text-align: right;\">1</td></tr><tr><td class = \"rowNumber\" style = \"font-weight: bold; text-align: right;\">6</td><td style = \"text-align: left;\">b</td><td style = \"text-align: right;\">1</td></tr><tr><td class = \"rowNumber\" style = \"font-weight: bold; text-align: right;\">7</td><td style = \"text-align: left;\">b</td><td style = \"text-align: right;\">1</td></tr><tr><td class = \"rowNumber\" style = \"font-weight: bold; text-align: right;\">8</td><td style = \"text-align: left;\">b</td><td style = \"text-align: right;\">1</td></tr><tr><td class = \"rowNumber\" style = \"font-weight: bold; text-align: right;\">9</td><td style = \"text-align: left;\">b</td><td style = \"text-align: right;\">1</td></tr><tr><td class = \"rowNumber\" style = \"font-weight: bold; text-align: right;\">10</td><td style = \"text-align: left;\">b</td><td style = \"text-align: right;\">1</td></tr><tr><td class = \"rowNumber\" style = \"font-weight: bold; text-align: right;\">11</td><td style = \"text-align: left;\">b</td><td style = \"text-align: right;\">1</td></tr><tr><td class = \"rowNumber\" style = \"font-weight: bold; text-align: right;\">12</td><td style = \"text-align: left;\">b</td><td style = \"text-align: right;\">1</td></tr><tr><td class = \"rowNumber\" style = \"font-weight: bold; text-align: right;\">13</td><td style = \"text-align: left;\">b</td><td style = \"text-align: right;\">1</td></tr><tr><td style = \"text-align: right;\">&vellip;</td><td style = \"text-align: right;\">&vellip;</td><td style = \"text-align: right;\">&vellip;</td></tr><tr><td class = \"rowNumber\" style = \"font-weight: bold; text-align: right;\">2495401</td><td style = \"text-align: left;\">b</td><td style = \"text-align: right;\">1</td></tr><tr><td class = \"rowNumber\" style = \"font-weight: bold; text-align: right;\">2495402</td><td style = \"text-align: left;\">b</td><td style = \"text-align: right;\">1</td></tr><tr><td class = \"rowNumber\" style = \"font-weight: bold; text-align: right;\">2495403</td><td style = \"text-align: left;\">b</td><td style = \"text-align: right;\">1</td></tr><tr><td class = \"rowNumber\" style = \"font-weight: bold; text-align: right;\">2495404</td><td style = \"text-align: left;\">b</td><td style = \"text-align: right;\">1</td></tr><tr><td class = \"rowNumber\" style = \"font-weight: bold; text-align: right;\">2495405</td><td style = \"text-align: left;\">b</td><td style = \"text-align: right;\">1</td></tr><tr><td class = \"rowNumber\" style = \"font-weight: bold; text-align: right;\">2495406</td><td style = \"text-align: left;\">b</td><td style = \"text-align: right;\">1</td></tr><tr><td class = \"rowNumber\" style = \"font-weight: bold; text-align: right;\">2495407</td><td style = \"text-align: left;\">b</td><td style = \"text-align: right;\">1</td></tr><tr><td class = \"rowNumber\" style = \"font-weight: bold; text-align: right;\">2495408</td><td style = \"text-align: left;\">b</td><td style = \"text-align: right;\">1</td></tr><tr><td class = \"rowNumber\" style = \"font-weight: bold; text-align: right;\">2495409</td><td style = \"text-align: left;\">b</td><td style = \"text-align: right;\">1</td></tr><tr><td class = \"rowNumber\" style = \"font-weight: bold; text-align: right;\">2495410</td><td style = \"text-align: left;\">b</td><td style = \"text-align: right;\">1</td></tr><tr><td class = \"rowNumber\" style = \"font-weight: bold; text-align: right;\">2495411</td><td style = \"text-align: left;\">b</td><td style = \"text-align: right;\">1</td></tr><tr><td class = \"rowNumber\" style = \"font-weight: bold; text-align: right;\">2495412</td><td style = \"text-align: left;\">b</td><td style = \"text-align: right;\">1</td></tr></tbody></table></div>"
      ],
      "text/latex": [
       "GroupedDataFrame with 4 groups based on key: x\n",
       "\n",
       "First Group (2501452 rows): x = 'c'\n",
       "\n",
       "\\begin{tabular}{r|cc}\n",
       "\t& x & y\\\\\n",
       "\t\\hline\n",
       "\t& Char & Int64\\\\\n",
       "\t\\hline\n",
       "\t1 & c & 1 \\\\\n",
       "\t2 & c & 1 \\\\\n",
       "\t3 & c & 1 \\\\\n",
       "\t4 & c & 1 \\\\\n",
       "\t5 & c & 1 \\\\\n",
       "\t6 & c & 1 \\\\\n",
       "\t7 & c & 1 \\\\\n",
       "\t8 & c & 1 \\\\\n",
       "\t9 & c & 1 \\\\\n",
       "\t10 & c & 1 \\\\\n",
       "\t11 & c & 1 \\\\\n",
       "\t12 & c & 1 \\\\\n",
       "\t13 & c & 1 \\\\\n",
       "\t14 & c & 1 \\\\\n",
       "\t15 & c & 1 \\\\\n",
       "\t16 & c & 1 \\\\\n",
       "\t17 & c & 1 \\\\\n",
       "\t18 & c & 1 \\\\\n",
       "\t19 & c & 1 \\\\\n",
       "\t20 & c & 1 \\\\\n",
       "\t21 & c & 1 \\\\\n",
       "\t22 & c & 1 \\\\\n",
       "\t23 & c & 1 \\\\\n",
       "\t24 & c & 1 \\\\\n",
       "\t25 & c & 1 \\\\\n",
       "\t26 & c & 1 \\\\\n",
       "\t27 & c & 1 \\\\\n",
       "\t28 & c & 1 \\\\\n",
       "\t29 & c & 1 \\\\\n",
       "\t30 & c & 1 \\\\\n",
       "\t$\\dots$ & $\\dots$ & $\\dots$ \\\\\n",
       "\\end{tabular}\n",
       "\n",
       "$\\dots$\n",
       "\n",
       "Last Group (2495412 rows): x = 'b'\n",
       "\n",
       "\\begin{tabular}{r|cc}\n",
       "\t& x & y\\\\\n",
       "\t\\hline\n",
       "\t& Char & Int64\\\\\n",
       "\t\\hline\n",
       "\t1 & b & 1 \\\\\n",
       "\t2 & b & 1 \\\\\n",
       "\t3 & b & 1 \\\\\n",
       "\t4 & b & 1 \\\\\n",
       "\t5 & b & 1 \\\\\n",
       "\t6 & b & 1 \\\\\n",
       "\t7 & b & 1 \\\\\n",
       "\t8 & b & 1 \\\\\n",
       "\t9 & b & 1 \\\\\n",
       "\t10 & b & 1 \\\\\n",
       "\t11 & b & 1 \\\\\n",
       "\t12 & b & 1 \\\\\n",
       "\t13 & b & 1 \\\\\n",
       "\t14 & b & 1 \\\\\n",
       "\t15 & b & 1 \\\\\n",
       "\t16 & b & 1 \\\\\n",
       "\t17 & b & 1 \\\\\n",
       "\t18 & b & 1 \\\\\n",
       "\t19 & b & 1 \\\\\n",
       "\t20 & b & 1 \\\\\n",
       "\t21 & b & 1 \\\\\n",
       "\t22 & b & 1 \\\\\n",
       "\t23 & b & 1 \\\\\n",
       "\t24 & b & 1 \\\\\n",
       "\t25 & b & 1 \\\\\n",
       "\t26 & b & 1 \\\\\n",
       "\t27 & b & 1 \\\\\n",
       "\t28 & b & 1 \\\\\n",
       "\t29 & b & 1 \\\\\n",
       "\t30 & b & 1 \\\\\n",
       "\t$\\dots$ & $\\dots$ & $\\dots$ \\\\\n",
       "\\end{tabular}\n"
      ],
      "text/plain": [
       "GroupedDataFrame with 4 groups based on key: x\n",
       "First Group (2501452 rows): x = 'c'\n",
       "\u001b[1m     Row \u001b[0m│\u001b[1m x    \u001b[0m\u001b[1m y     \u001b[0m\n",
       "         │\u001b[90m Char \u001b[0m\u001b[90m Int64 \u001b[0m\n",
       "─────────┼─────────────\n",
       "       1 │ c         1\n",
       "       2 │ c         1\n",
       "       3 │ c         1\n",
       "       4 │ c         1\n",
       "    ⋮    │  ⋮      ⋮\n",
       " 2501450 │ c         1\n",
       " 2501451 │ c         1\n",
       " 2501452 │ c         1\n",
       "\u001b[36m   2501445 rows omitted\u001b[0m\n",
       "⋮\n",
       "Last Group (2495412 rows): x = 'b'\n",
       "\u001b[1m     Row \u001b[0m│\u001b[1m x    \u001b[0m\u001b[1m y     \u001b[0m\n",
       "         │\u001b[90m Char \u001b[0m\u001b[90m Int64 \u001b[0m\n",
       "─────────┼─────────────\n",
       "       1 │ b         1\n",
       "       2 │ b         1\n",
       "       3 │ b         1\n",
       "    ⋮    │  ⋮      ⋮\n",
       " 2495410 │ b         1\n",
       " 2495411 │ b         1\n",
       " 2495412 │ b         1\n",
       "\u001b[36m   2495406 rows omitted\u001b[0m"
      ]
     },
     "execution_count": 20,
     "metadata": {},
     "output_type": "execute_result"
    }
   ],
   "source": [
    "gdf = groupby(df, :x)"
   ]
  },
  {
   "cell_type": "code",
   "execution_count": 21,
   "metadata": {
    "scrolled": true
   },
   "outputs": [
    {
     "name": "stdout",
     "output_type": "stream",
     "text": [
      "  8.790 ms (228 allocations: 14.19 KiB)\n"
     ]
    },
    {
     "data": {
      "text/html": [
       "<div><div style = \"float: left;\"><span>4×2 DataFrame</span></div><div style = \"clear: both;\"></div></div><div class = \"data-frame\" style = \"overflow-x: scroll;\"><table class = \"data-frame\" style = \"margin-bottom: 6px;\"><thead><tr class = \"header\"><th class = \"rowNumber\" style = \"font-weight: bold; text-align: right;\">Row</th><th style = \"text-align: left;\">x</th><th style = \"text-align: left;\">y_sum</th></tr><tr class = \"subheader headerLastRow\"><th class = \"rowNumber\" style = \"font-weight: bold; text-align: right;\"></th><th title = \"Char\" style = \"text-align: left;\">Char</th><th title = \"Int64\" style = \"text-align: left;\">Int64</th></tr></thead><tbody><tr><td class = \"rowNumber\" style = \"font-weight: bold; text-align: right;\">1</td><td style = \"text-align: left;\">c</td><td style = \"text-align: right;\">2501452</td></tr><tr><td class = \"rowNumber\" style = \"font-weight: bold; text-align: right;\">2</td><td style = \"text-align: left;\">a</td><td style = \"text-align: right;\">2502167</td></tr><tr><td class = \"rowNumber\" style = \"font-weight: bold; text-align: right;\">3</td><td style = \"text-align: left;\">d</td><td style = \"text-align: right;\">2500969</td></tr><tr><td class = \"rowNumber\" style = \"font-weight: bold; text-align: right;\">4</td><td style = \"text-align: left;\">b</td><td style = \"text-align: right;\">2495412</td></tr></tbody></table></div>"
      ],
      "text/latex": [
       "\\begin{tabular}{r|cc}\n",
       "\t& x & y\\_sum\\\\\n",
       "\t\\hline\n",
       "\t& Char & Int64\\\\\n",
       "\t\\hline\n",
       "\t1 & c & 2501452 \\\\\n",
       "\t2 & a & 2502167 \\\\\n",
       "\t3 & d & 2500969 \\\\\n",
       "\t4 & b & 2495412 \\\\\n",
       "\\end{tabular}\n"
      ],
      "text/plain": [
       "\u001b[1m4×2 DataFrame\u001b[0m\n",
       "\u001b[1m Row \u001b[0m│\u001b[1m x    \u001b[0m\u001b[1m y_sum   \u001b[0m\n",
       "     │\u001b[90m Char \u001b[0m\u001b[90m Int64   \u001b[0m\n",
       "─────┼───────────────\n",
       "   1 │ c     2501452\n",
       "   2 │ a     2502167\n",
       "   3 │ d     2500969\n",
       "   4 │ b     2495412"
      ]
     },
     "execution_count": 21,
     "metadata": {},
     "output_type": "execute_result"
    }
   ],
   "source": [
    "@btime combine($gdf, :y=>sum)"
   ]
  },
  {
   "cell_type": "markdown",
   "metadata": {},
   "source": [
    "### Use views instead of materializing a new DataFrame"
   ]
  },
  {
   "cell_type": "code",
   "execution_count": 22,
   "metadata": {
    "scrolled": true
   },
   "outputs": [
    {
     "data": {
      "text/html": [
       "<div><div style = \"float: left;\"><span>100×1000 DataFrame</span></div><div style = \"float: right;\"><span style = \"font-style: italic;\">900 columns and 75 rows omitted</span></div><div style = \"clear: both;\"></div></div><div class = \"data-frame\" style = \"overflow-x: scroll;\"><table class = \"data-frame\" style = \"margin-bottom: 6px;\"><thead><tr class = \"header\"><th class = \"rowNumber\" style = \"font-weight: bold; text-align: right;\">Row</th><th style = \"text-align: left;\">x1</th><th style = \"text-align: left;\">x2</th><th style = \"text-align: left;\">x3</th><th style = \"text-align: left;\">x4</th><th style = \"text-align: left;\">x5</th><th style = \"text-align: left;\">x6</th><th style = \"text-align: left;\">x7</th><th style = \"text-align: left;\">x8</th><th style = \"text-align: left;\">x9</th><th style = \"text-align: left;\">x10</th><th style = \"text-align: left;\">x11</th><th style = \"text-align: left;\">x12</th><th style = \"text-align: left;\">x13</th><th style = \"text-align: left;\">x14</th><th style = \"text-align: left;\">x15</th><th style = \"text-align: left;\">x16</th><th style = \"text-align: left;\">x17</th><th style = \"text-align: left;\">x18</th><th style = \"text-align: left;\">x19</th><th style = \"text-align: left;\">x20</th><th style = \"text-align: left;\">x21</th><th style = \"text-align: left;\">x22</th><th style = \"text-align: left;\">x23</th><th style = \"text-align: left;\">x24</th><th style = \"text-align: left;\">x25</th><th style = \"text-align: left;\">x26</th><th style = \"text-align: left;\">x27</th><th style = \"text-align: left;\">x28</th><th style = \"text-align: left;\">x29</th><th style = \"text-align: left;\">x30</th><th style = \"text-align: left;\">x31</th><th style = \"text-align: left;\">x32</th><th style = \"text-align: left;\">x33</th><th style = \"text-align: left;\">x34</th><th style = \"text-align: left;\">x35</th><th style = \"text-align: left;\">x36</th><th style = \"text-align: left;\">x37</th><th style = \"text-align: left;\">x38</th><th style = \"text-align: left;\">x39</th><th style = \"text-align: left;\">x40</th><th style = \"text-align: left;\">x41</th><th style = \"text-align: left;\">x42</th><th style = \"text-align: left;\">x43</th><th style = \"text-align: left;\">x44</th><th style = \"text-align: left;\">x45</th><th style = \"text-align: left;\">x46</th><th style = \"text-align: left;\">x47</th><th style = \"text-align: left;\">x48</th><th style = \"text-align: left;\">x49</th><th style = \"text-align: left;\">x50</th><th style = \"text-align: left;\">x51</th><th style = \"text-align: left;\">x52</th><th style = \"text-align: left;\">x53</th><th style = \"text-align: left;\">x54</th><th style = \"text-align: left;\">x55</th><th style = \"text-align: left;\">x56</th><th style = \"text-align: left;\">x57</th><th style = \"text-align: left;\">x58</th><th style = \"text-align: left;\">x59</th><th style = \"text-align: left;\">x60</th><th style = \"text-align: left;\">x61</th><th style = \"text-align: left;\">x62</th><th style = \"text-align: left;\">x63</th><th style = \"text-align: left;\">x64</th><th style = \"text-align: left;\">x65</th><th style = \"text-align: left;\">x66</th><th style = \"text-align: left;\">x67</th><th style = \"text-align: left;\">x68</th><th style = \"text-align: left;\">x69</th><th style = \"text-align: left;\">x70</th><th style = \"text-align: left;\">x71</th><th style = \"text-align: left;\">x72</th><th style = \"text-align: left;\">x73</th><th style = \"text-align: left;\">x74</th><th style = \"text-align: left;\">x75</th><th style = \"text-align: left;\">x76</th><th style = \"text-align: left;\">x77</th><th style = \"text-align: left;\">x78</th><th style = \"text-align: left;\">x79</th><th style = \"text-align: left;\">x80</th><th style = \"text-align: left;\">x81</th><th style = \"text-align: left;\">x82</th><th style = \"text-align: left;\">x83</th><th style = \"text-align: left;\">x84</th><th style = \"text-align: left;\">x85</th><th style = \"text-align: left;\">x86</th><th style = \"text-align: left;\">x87</th><th style = \"text-align: left;\">x88</th><th style = \"text-align: left;\">x89</th><th style = \"text-align: left;\">x90</th><th style = \"text-align: left;\">x91</th><th style = \"text-align: left;\">x92</th><th style = \"text-align: left;\">x93</th><th style = \"text-align: left;\">x94</th><th style = \"text-align: left;\">x95</th><th style = \"text-align: left;\">x96</th><th style = \"text-align: left;\">x97</th><th style = \"text-align: left;\">x98</th><th style = \"text-align: left;\">x99</th><th style = \"text-align: left;\">x100</th><th style = \"text-align: right;\">&ctdot;</th></tr><tr class = \"subheader headerLastRow\"><th class = \"rowNumber\" style = \"font-weight: bold; text-align: right;\"></th><th title = \"Float64\" style = \"text-align: left;\">Float64</th><th title = \"Float64\" style = \"text-align: left;\">Float64</th><th title = \"Float64\" style = \"text-align: left;\">Float64</th><th title = \"Float64\" style = \"text-align: left;\">Float64</th><th title = \"Float64\" style = \"text-align: left;\">Float64</th><th title = \"Float64\" style = \"text-align: left;\">Float64</th><th title = \"Float64\" style = \"text-align: left;\">Float64</th><th title = \"Float64\" style = \"text-align: left;\">Float64</th><th title = \"Float64\" style = \"text-align: left;\">Float64</th><th title = \"Float64\" style = \"text-align: left;\">Float64</th><th title = \"Float64\" style = \"text-align: left;\">Float64</th><th title = \"Float64\" style = \"text-align: left;\">Float64</th><th title = \"Float64\" style = \"text-align: left;\">Float64</th><th title = \"Float64\" style = \"text-align: left;\">Float64</th><th title = \"Float64\" style = \"text-align: left;\">Float64</th><th title = \"Float64\" style = \"text-align: left;\">Float64</th><th title = \"Float64\" style = \"text-align: left;\">Float64</th><th title = \"Float64\" style = \"text-align: left;\">Float64</th><th title = \"Float64\" style = \"text-align: left;\">Float64</th><th title = \"Float64\" style = \"text-align: left;\">Float64</th><th title = \"Float64\" style = \"text-align: left;\">Float64</th><th title = \"Float64\" style = \"text-align: left;\">Float64</th><th title = \"Float64\" style = \"text-align: left;\">Float64</th><th title = \"Float64\" style = \"text-align: left;\">Float64</th><th title = \"Float64\" style = \"text-align: left;\">Float64</th><th title = \"Float64\" style = \"text-align: left;\">Float64</th><th title = \"Float64\" style = \"text-align: left;\">Float64</th><th title = \"Float64\" style = \"text-align: left;\">Float64</th><th title = \"Float64\" style = \"text-align: left;\">Float64</th><th title = \"Float64\" style = \"text-align: left;\">Float64</th><th title = \"Float64\" style = \"text-align: left;\">Float64</th><th title = \"Float64\" style = \"text-align: left;\">Float64</th><th title = \"Float64\" style = \"text-align: left;\">Float64</th><th title = \"Float64\" style = \"text-align: left;\">Float64</th><th title = \"Float64\" style = \"text-align: left;\">Float64</th><th title = \"Float64\" style = \"text-align: left;\">Float64</th><th title = \"Float64\" style = \"text-align: left;\">Float64</th><th title = \"Float64\" style = \"text-align: left;\">Float64</th><th title = \"Float64\" style = \"text-align: left;\">Float64</th><th title = \"Float64\" style = \"text-align: left;\">Float64</th><th title = \"Float64\" style = \"text-align: left;\">Float64</th><th title = \"Float64\" style = \"text-align: left;\">Float64</th><th title = \"Float64\" style = \"text-align: left;\">Float64</th><th title = \"Float64\" style = \"text-align: left;\">Float64</th><th title = \"Float64\" style = \"text-align: left;\">Float64</th><th title = \"Float64\" style = \"text-align: left;\">Float64</th><th title = \"Float64\" style = \"text-align: left;\">Float64</th><th title = \"Float64\" style = \"text-align: left;\">Float64</th><th title = \"Float64\" style = \"text-align: left;\">Float64</th><th title = \"Float64\" style = \"text-align: left;\">Float64</th><th title = \"Float64\" style = \"text-align: left;\">Float64</th><th title = \"Float64\" style = \"text-align: left;\">Float64</th><th title = \"Float64\" style = \"text-align: left;\">Float64</th><th title = \"Float64\" style = \"text-align: left;\">Float64</th><th title = \"Float64\" style = \"text-align: left;\">Float64</th><th title = \"Float64\" style = \"text-align: left;\">Float64</th><th title = \"Float64\" style = \"text-align: left;\">Float64</th><th title = \"Float64\" style = \"text-align: left;\">Float64</th><th title = \"Float64\" style = \"text-align: left;\">Float64</th><th title = \"Float64\" style = \"text-align: left;\">Float64</th><th title = \"Float64\" style = \"text-align: left;\">Float64</th><th title = \"Float64\" style = \"text-align: left;\">Float64</th><th title = \"Float64\" style = \"text-align: left;\">Float64</th><th title = \"Float64\" style = \"text-align: left;\">Float64</th><th title = \"Float64\" style = \"text-align: left;\">Float64</th><th title = \"Float64\" style = \"text-align: left;\">Float64</th><th title = \"Float64\" style = \"text-align: left;\">Float64</th><th title = \"Float64\" style = \"text-align: left;\">Float64</th><th title = \"Float64\" style = \"text-align: left;\">Float64</th><th title = \"Float64\" style = \"text-align: left;\">Float64</th><th title = \"Float64\" style = \"text-align: left;\">Float64</th><th title = \"Float64\" style = \"text-align: left;\">Float64</th><th title = \"Float64\" style = \"text-align: left;\">Float64</th><th title = \"Float64\" style = \"text-align: left;\">Float64</th><th title = \"Float64\" style = \"text-align: left;\">Float64</th><th title = \"Float64\" style = \"text-align: left;\">Float64</th><th title = \"Float64\" style = \"text-align: left;\">Float64</th><th title = \"Float64\" style = \"text-align: left;\">Float64</th><th title = \"Float64\" style = \"text-align: left;\">Float64</th><th title = \"Float64\" style = \"text-align: left;\">Float64</th><th title = \"Float64\" style = \"text-align: left;\">Float64</th><th title = \"Float64\" style = \"text-align: left;\">Float64</th><th title = \"Float64\" style = \"text-align: left;\">Float64</th><th title = \"Float64\" style = \"text-align: left;\">Float64</th><th title = \"Float64\" style = \"text-align: left;\">Float64</th><th title = \"Float64\" style = \"text-align: left;\">Float64</th><th title = \"Float64\" style = \"text-align: left;\">Float64</th><th title = \"Float64\" style = \"text-align: left;\">Float64</th><th title = \"Float64\" style = \"text-align: left;\">Float64</th><th title = \"Float64\" style = \"text-align: left;\">Float64</th><th title = \"Float64\" style = \"text-align: left;\">Float64</th><th title = \"Float64\" style = \"text-align: left;\">Float64</th><th title = \"Float64\" style = \"text-align: left;\">Float64</th><th title = \"Float64\" style = \"text-align: left;\">Float64</th><th title = \"Float64\" style = \"text-align: left;\">Float64</th><th title = \"Float64\" style = \"text-align: left;\">Float64</th><th title = \"Float64\" style = \"text-align: left;\">Float64</th><th title = \"Float64\" style = \"text-align: left;\">Float64</th><th title = \"Float64\" style = \"text-align: left;\">Float64</th><th title = \"Float64\" style = \"text-align: left;\">Float64</th><th title = \"Float64\" style = \"text-align: right;\">&ctdot;</th></tr></thead><tbody><tr><td class = \"rowNumber\" style = \"font-weight: bold; text-align: right;\">1</td><td style = \"text-align: right;\">0.0903367</td><td style = \"text-align: right;\">0.163747</td><td style = \"text-align: right;\">0.684125</td><td style = \"text-align: right;\">0.359433</td><td style = \"text-align: right;\">0.391201</td><td style = \"text-align: right;\">0.553945</td><td style = \"text-align: right;\">0.386801</td><td style = \"text-align: right;\">0.170243</td><td style = \"text-align: right;\">0.785965</td><td style = \"text-align: right;\">0.37364</td><td style = \"text-align: right;\">0.121847</td><td style = \"text-align: right;\">0.319183</td><td style = \"text-align: right;\">0.318759</td><td style = \"text-align: right;\">0.816578</td><td style = \"text-align: right;\">0.158892</td><td style = \"text-align: right;\">0.146362</td><td style = \"text-align: right;\">0.0662521</td><td style = \"text-align: right;\">0.293301</td><td style = \"text-align: right;\">0.965506</td><td style = \"text-align: right;\">0.992222</td><td style = \"text-align: right;\">0.387689</td><td style = \"text-align: right;\">0.901977</td><td style = \"text-align: right;\">0.266571</td><td style = \"text-align: right;\">0.904297</td><td style = \"text-align: right;\">0.996896</td><td style = \"text-align: right;\">0.822812</td><td style = \"text-align: right;\">0.00759657</td><td style = \"text-align: right;\">0.0638031</td><td style = \"text-align: right;\">0.231909</td><td style = \"text-align: right;\">0.199771</td><td style = \"text-align: right;\">0.971534</td><td style = \"text-align: right;\">0.795822</td><td style = \"text-align: right;\">0.258391</td><td style = \"text-align: right;\">0.99457</td><td style = \"text-align: right;\">0.718742</td><td style = \"text-align: right;\">0.85089</td><td style = \"text-align: right;\">0.836376</td><td style = \"text-align: right;\">0.264602</td><td style = \"text-align: right;\">0.208107</td><td style = \"text-align: right;\">0.046411</td><td style = \"text-align: right;\">0.289224</td><td style = \"text-align: right;\">0.329341</td><td style = \"text-align: right;\">0.414283</td><td style = \"text-align: right;\">0.597822</td><td style = \"text-align: right;\">0.9839</td><td style = \"text-align: right;\">0.359793</td><td style = \"text-align: right;\">0.676169</td><td style = \"text-align: right;\">0.595102</td><td style = \"text-align: right;\">0.85256</td><td style = \"text-align: right;\">0.411566</td><td style = \"text-align: right;\">0.848235</td><td style = \"text-align: right;\">0.114632</td><td style = \"text-align: right;\">0.280953</td><td style = \"text-align: right;\">0.146555</td><td style = \"text-align: right;\">0.113455</td><td style = \"text-align: right;\">0.282086</td><td style = \"text-align: right;\">0.703041</td><td style = \"text-align: right;\">0.240051</td><td style = \"text-align: right;\">0.490823</td><td style = \"text-align: right;\">0.539732</td><td style = \"text-align: right;\">0.623681</td><td style = \"text-align: right;\">0.988882</td><td style = \"text-align: right;\">0.457174</td><td style = \"text-align: right;\">0.465744</td><td style = \"text-align: right;\">0.182501</td><td style = \"text-align: right;\">0.465968</td><td style = \"text-align: right;\">0.961894</td><td style = \"text-align: right;\">0.680664</td><td style = \"text-align: right;\">0.70148</td><td style = \"text-align: right;\">0.480709</td><td style = \"text-align: right;\">0.338984</td><td style = \"text-align: right;\">0.0535537</td><td style = \"text-align: right;\">0.794744</td><td style = \"text-align: right;\">0.403971</td><td style = \"text-align: right;\">0.481755</td><td style = \"text-align: right;\">0.541795</td><td style = \"text-align: right;\">0.915109</td><td style = \"text-align: right;\">0.245369</td><td style = \"text-align: right;\">0.172523</td><td style = \"text-align: right;\">0.677059</td><td style = \"text-align: right;\">0.152196</td><td style = \"text-align: right;\">0.487205</td><td style = \"text-align: right;\">0.110634</td><td style = \"text-align: right;\">0.715605</td><td style = \"text-align: right;\">0.781465</td><td style = \"text-align: right;\">0.833483</td><td style = \"text-align: right;\">0.244138</td><td style = \"text-align: right;\">0.789438</td><td style = \"text-align: right;\">0.407008</td><td style = \"text-align: right;\">0.476403</td><td style = \"text-align: right;\">0.677984</td><td style = \"text-align: right;\">0.173702</td><td style = \"text-align: right;\">0.461884</td><td style = \"text-align: right;\">0.730055</td><td style = \"text-align: right;\">0.489883</td><td style = \"text-align: right;\">0.583402</td><td style = \"text-align: right;\">0.272328</td><td style = \"text-align: right;\">0.403047</td><td style = \"text-align: right;\">0.946289</td><td style = \"text-align: right;\">0.174344</td><td style = \"text-align: right;\">&ctdot;</td></tr><tr><td class = \"rowNumber\" style = \"font-weight: bold; text-align: right;\">2</td><td style = \"text-align: right;\">0.344177</td><td style = \"text-align: right;\">0.69609</td><td style = \"text-align: right;\">0.486624</td><td style = \"text-align: right;\">0.493705</td><td style = \"text-align: right;\">0.582797</td><td style = \"text-align: right;\">0.173189</td><td style = \"text-align: right;\">0.820015</td><td style = \"text-align: right;\">0.0771206</td><td style = \"text-align: right;\">0.887312</td><td style = \"text-align: right;\">0.96985</td><td style = \"text-align: right;\">0.221445</td><td style = \"text-align: right;\">0.0222909</td><td style = \"text-align: right;\">0.35504</td><td style = \"text-align: right;\">0.151972</td><td style = \"text-align: right;\">0.162617</td><td style = \"text-align: right;\">0.367808</td><td style = \"text-align: right;\">0.0210497</td><td style = \"text-align: right;\">0.835547</td><td style = \"text-align: right;\">0.273021</td><td style = \"text-align: right;\">0.629958</td><td style = \"text-align: right;\">0.371279</td><td style = \"text-align: right;\">0.271105</td><td style = \"text-align: right;\">0.810216</td><td style = \"text-align: right;\">0.994883</td><td style = \"text-align: right;\">0.859452</td><td style = \"text-align: right;\">0.604366</td><td style = \"text-align: right;\">0.242305</td><td style = \"text-align: right;\">0.179147</td><td style = \"text-align: right;\">0.100762</td><td style = \"text-align: right;\">0.426716</td><td style = \"text-align: right;\">0.387399</td><td style = \"text-align: right;\">0.788839</td><td style = \"text-align: right;\">0.528445</td><td style = \"text-align: right;\">0.219166</td><td style = \"text-align: right;\">0.785292</td><td style = \"text-align: right;\">0.0635088</td><td style = \"text-align: right;\">0.986095</td><td style = \"text-align: right;\">0.524804</td><td style = \"text-align: right;\">0.565857</td><td style = \"text-align: right;\">0.650462</td><td style = \"text-align: right;\">0.618702</td><td style = \"text-align: right;\">0.522669</td><td style = \"text-align: right;\">0.330604</td><td style = \"text-align: right;\">0.315848</td><td style = \"text-align: right;\">0.602057</td><td style = \"text-align: right;\">0.74021</td><td style = \"text-align: right;\">0.689685</td><td style = \"text-align: right;\">0.613858</td><td style = \"text-align: right;\">0.658094</td><td style = \"text-align: right;\">0.63099</td><td style = \"text-align: right;\">0.0457496</td><td style = \"text-align: right;\">0.1218</td><td style = \"text-align: right;\">0.662505</td><td style = \"text-align: right;\">0.486686</td><td style = \"text-align: right;\">0.965805</td><td style = \"text-align: right;\">0.735053</td><td style = \"text-align: right;\">0.317709</td><td style = \"text-align: right;\">0.101198</td><td style = \"text-align: right;\">0.69567</td><td style = \"text-align: right;\">0.92604</td><td style = \"text-align: right;\">0.985665</td><td style = \"text-align: right;\">0.97178</td><td style = \"text-align: right;\">0.172371</td><td style = \"text-align: right;\">0.371873</td><td style = \"text-align: right;\">0.523836</td><td style = \"text-align: right;\">0.835936</td><td style = \"text-align: right;\">0.132122</td><td style = \"text-align: right;\">0.580123</td><td style = \"text-align: right;\">0.158737</td><td style = \"text-align: right;\">0.0112453</td><td style = \"text-align: right;\">0.678056</td><td style = \"text-align: right;\">0.963532</td><td style = \"text-align: right;\">0.852347</td><td style = \"text-align: right;\">0.809769</td><td style = \"text-align: right;\">0.0955158</td><td style = \"text-align: right;\">0.139168</td><td style = \"text-align: right;\">0.895515</td><td style = \"text-align: right;\">0.123145</td><td style = \"text-align: right;\">0.920123</td><td style = \"text-align: right;\">0.0959729</td><td style = \"text-align: right;\">0.166062</td><td style = \"text-align: right;\">0.972508</td><td style = \"text-align: right;\">0.529295</td><td style = \"text-align: right;\">0.681649</td><td style = \"text-align: right;\">0.34539</td><td style = \"text-align: right;\">0.380668</td><td style = \"text-align: right;\">0.31861</td><td style = \"text-align: right;\">0.962136</td><td style = \"text-align: right;\">0.500649</td><td style = \"text-align: right;\">0.807215</td><td style = \"text-align: right;\">0.142792</td><td style = \"text-align: right;\">0.591934</td><td style = \"text-align: right;\">0.592058</td><td style = \"text-align: right;\">0.87848</td><td style = \"text-align: right;\">0.457947</td><td style = \"text-align: right;\">0.430468</td><td style = \"text-align: right;\">0.23756</td><td style = \"text-align: right;\">0.751663</td><td style = \"text-align: right;\">0.0676139</td><td style = \"text-align: right;\">0.899255</td><td style = \"text-align: right;\">&ctdot;</td></tr><tr><td class = \"rowNumber\" style = \"font-weight: bold; text-align: right;\">3</td><td style = \"text-align: right;\">0.521849</td><td style = \"text-align: right;\">0.253648</td><td style = \"text-align: right;\">0.40574</td><td style = \"text-align: right;\">0.306684</td><td style = \"text-align: right;\">0.966418</td><td style = \"text-align: right;\">0.828701</td><td style = \"text-align: right;\">0.393079</td><td style = \"text-align: right;\">0.4522</td><td style = \"text-align: right;\">0.558392</td><td style = \"text-align: right;\">0.318071</td><td style = \"text-align: right;\">0.247652</td><td style = \"text-align: right;\">0.789553</td><td style = \"text-align: right;\">0.188888</td><td style = \"text-align: right;\">0.420516</td><td style = \"text-align: right;\">0.0553191</td><td style = \"text-align: right;\">0.0735833</td><td style = \"text-align: right;\">0.931054</td><td style = \"text-align: right;\">0.258493</td><td style = \"text-align: right;\">0.565888</td><td style = \"text-align: right;\">0.347106</td><td style = \"text-align: right;\">0.670604</td><td style = \"text-align: right;\">0.0613075</td><td style = \"text-align: right;\">0.676572</td><td style = \"text-align: right;\">0.00357315</td><td style = \"text-align: right;\">0.348651</td><td style = \"text-align: right;\">0.355546</td><td style = \"text-align: right;\">0.770769</td><td style = \"text-align: right;\">0.772471</td><td style = \"text-align: right;\">0.952631</td><td style = \"text-align: right;\">0.675666</td><td style = \"text-align: right;\">0.326898</td><td style = \"text-align: right;\">0.325276</td><td style = \"text-align: right;\">0.836149</td><td style = \"text-align: right;\">0.547165</td><td style = \"text-align: right;\">0.158519</td><td style = \"text-align: right;\">0.075259</td><td style = \"text-align: right;\">0.74239</td><td style = \"text-align: right;\">0.311487</td><td style = \"text-align: right;\">0.747634</td><td style = \"text-align: right;\">0.5441</td><td style = \"text-align: right;\">0.821079</td><td style = \"text-align: right;\">0.116565</td><td style = \"text-align: right;\">0.330566</td><td style = \"text-align: right;\">0.842012</td><td style = \"text-align: right;\">0.156957</td><td style = \"text-align: right;\">0.846349</td><td style = \"text-align: right;\">0.375048</td><td style = \"text-align: right;\">0.530688</td><td style = \"text-align: right;\">0.578145</td><td style = \"text-align: right;\">0.598006</td><td style = \"text-align: right;\">0.911034</td><td style = \"text-align: right;\">0.49991</td><td style = \"text-align: right;\">0.700347</td><td style = \"text-align: right;\">0.0469332</td><td style = \"text-align: right;\">0.47465</td><td style = \"text-align: right;\">0.671266</td><td style = \"text-align: right;\">0.561399</td><td style = \"text-align: right;\">0.569183</td><td style = \"text-align: right;\">0.309344</td><td style = \"text-align: right;\">0.109321</td><td style = \"text-align: right;\">0.441051</td><td style = \"text-align: right;\">0.34027</td><td style = \"text-align: right;\">0.519565</td><td style = \"text-align: right;\">0.457979</td><td style = \"text-align: right;\">0.0413752</td><td style = \"text-align: right;\">0.622941</td><td style = \"text-align: right;\">0.472425</td><td style = \"text-align: right;\">0.275293</td><td style = \"text-align: right;\">0.767976</td><td style = \"text-align: right;\">0.473561</td><td style = \"text-align: right;\">0.862745</td><td style = \"text-align: right;\">0.892284</td><td style = \"text-align: right;\">0.170098</td><td style = \"text-align: right;\">0.0492216</td><td style = \"text-align: right;\">0.630674</td><td style = \"text-align: right;\">0.438646</td><td style = \"text-align: right;\">0.99443</td><td style = \"text-align: right;\">0.608574</td><td style = \"text-align: right;\">0.395431</td><td style = \"text-align: right;\">0.743631</td><td style = \"text-align: right;\">0.4453</td><td style = \"text-align: right;\">0.618449</td><td style = \"text-align: right;\">0.38405</td><td style = \"text-align: right;\">0.706232</td><td style = \"text-align: right;\">0.84794</td><td style = \"text-align: right;\">0.282177</td><td style = \"text-align: right;\">0.320543</td><td style = \"text-align: right;\">0.119825</td><td style = \"text-align: right;\">0.186886</td><td style = \"text-align: right;\">0.210828</td><td style = \"text-align: right;\">0.845314</td><td style = \"text-align: right;\">0.861254</td><td style = \"text-align: right;\">0.491505</td><td style = \"text-align: right;\">0.682332</td><td style = \"text-align: right;\">0.105684</td><td style = \"text-align: right;\">0.634092</td><td style = \"text-align: right;\">0.205769</td><td style = \"text-align: right;\">0.764452</td><td style = \"text-align: right;\">0.224076</td><td style = \"text-align: right;\">0.148745</td><td style = \"text-align: right;\">&ctdot;</td></tr><tr><td class = \"rowNumber\" style = \"font-weight: bold; text-align: right;\">4</td><td style = \"text-align: right;\">0.0239116</td><td style = \"text-align: right;\">0.505325</td><td style = \"text-align: right;\">6.37694e-5</td><td style = \"text-align: right;\">0.347586</td><td style = \"text-align: right;\">0.330535</td><td style = \"text-align: right;\">0.901262</td><td style = \"text-align: right;\">0.37116</td><td style = \"text-align: right;\">0.627739</td><td style = \"text-align: right;\">0.593704</td><td style = \"text-align: right;\">0.294418</td><td style = \"text-align: right;\">0.980983</td><td style = \"text-align: right;\">0.0771005</td><td style = \"text-align: right;\">0.823574</td><td style = \"text-align: right;\">0.364414</td><td style = \"text-align: right;\">0.86591</td><td style = \"text-align: right;\">0.763564</td><td style = \"text-align: right;\">0.599156</td><td style = \"text-align: right;\">0.354675</td><td style = \"text-align: right;\">0.445918</td><td style = \"text-align: right;\">0.0917811</td><td style = \"text-align: right;\">0.973254</td><td style = \"text-align: right;\">0.199358</td><td style = \"text-align: right;\">0.351344</td><td style = \"text-align: right;\">0.694609</td><td style = \"text-align: right;\">0.650313</td><td style = \"text-align: right;\">0.12581</td><td style = \"text-align: right;\">0.325337</td><td style = \"text-align: right;\">0.401424</td><td style = \"text-align: right;\">0.986845</td><td style = \"text-align: right;\">0.456795</td><td style = \"text-align: right;\">0.640055</td><td style = \"text-align: right;\">0.698591</td><td style = \"text-align: right;\">0.714295</td><td style = \"text-align: right;\">0.692214</td><td style = \"text-align: right;\">0.240956</td><td style = \"text-align: right;\">0.989602</td><td style = \"text-align: right;\">0.978138</td><td style = \"text-align: right;\">0.794185</td><td style = \"text-align: right;\">0.680263</td><td style = \"text-align: right;\">0.0868777</td><td style = \"text-align: right;\">0.131094</td><td style = \"text-align: right;\">0.783406</td><td style = \"text-align: right;\">0.918372</td><td style = \"text-align: right;\">0.606861</td><td style = \"text-align: right;\">0.868224</td><td style = \"text-align: right;\">0.670301</td><td style = \"text-align: right;\">0.255549</td><td style = \"text-align: right;\">0.15207</td><td style = \"text-align: right;\">0.111602</td><td style = \"text-align: right;\">0.72244</td><td style = \"text-align: right;\">0.794364</td><td style = \"text-align: right;\">0.576214</td><td style = \"text-align: right;\">0.996217</td><td style = \"text-align: right;\">0.279275</td><td style = \"text-align: right;\">0.807593</td><td style = \"text-align: right;\">0.107105</td><td style = \"text-align: right;\">0.651106</td><td style = \"text-align: right;\">0.16373</td><td style = \"text-align: right;\">0.548649</td><td style = \"text-align: right;\">0.214896</td><td style = \"text-align: right;\">0.939531</td><td style = \"text-align: right;\">0.0183399</td><td style = \"text-align: right;\">0.783271</td><td style = \"text-align: right;\">0.209493</td><td style = \"text-align: right;\">0.608745</td><td style = \"text-align: right;\">0.164547</td><td style = \"text-align: right;\">0.604853</td><td style = \"text-align: right;\">0.51564</td><td style = \"text-align: right;\">0.0647081</td><td style = \"text-align: right;\">0.356716</td><td style = \"text-align: right;\">0.688841</td><td style = \"text-align: right;\">0.889252</td><td style = \"text-align: right;\">0.739504</td><td style = \"text-align: right;\">0.231518</td><td style = \"text-align: right;\">0.292436</td><td style = \"text-align: right;\">0.577442</td><td style = \"text-align: right;\">0.861681</td><td style = \"text-align: right;\">0.404953</td><td style = \"text-align: right;\">0.372185</td><td style = \"text-align: right;\">0.801295</td><td style = \"text-align: right;\">0.604716</td><td style = \"text-align: right;\">0.550302</td><td style = \"text-align: right;\">0.856288</td><td style = \"text-align: right;\">0.801645</td><td style = \"text-align: right;\">0.533363</td><td style = \"text-align: right;\">0.449776</td><td style = \"text-align: right;\">0.370209</td><td style = \"text-align: right;\">0.0133519</td><td style = \"text-align: right;\">0.919595</td><td style = \"text-align: right;\">0.653658</td><td style = \"text-align: right;\">0.381892</td><td style = \"text-align: right;\">0.375527</td><td style = \"text-align: right;\">0.228206</td><td style = \"text-align: right;\">0.00970581</td><td style = \"text-align: right;\">0.490543</td><td style = \"text-align: right;\">0.194733</td><td style = \"text-align: right;\">0.106065</td><td style = \"text-align: right;\">0.674173</td><td style = \"text-align: right;\">0.220605</td><td style = \"text-align: right;\">0.397666</td><td style = \"text-align: right;\">&ctdot;</td></tr><tr><td class = \"rowNumber\" style = \"font-weight: bold; text-align: right;\">5</td><td style = \"text-align: right;\">0.117069</td><td style = \"text-align: right;\">0.404614</td><td style = \"text-align: right;\">0.85863</td><td style = \"text-align: right;\">0.990846</td><td style = \"text-align: right;\">0.913568</td><td style = \"text-align: right;\">0.932765</td><td style = \"text-align: right;\">0.789538</td><td style = \"text-align: right;\">0.973082</td><td style = \"text-align: right;\">0.671455</td><td style = \"text-align: right;\">0.293453</td><td style = \"text-align: right;\">0.219172</td><td style = \"text-align: right;\">0.46978</td><td style = \"text-align: right;\">0.416478</td><td style = \"text-align: right;\">0.991488</td><td style = \"text-align: right;\">0.61251</td><td style = \"text-align: right;\">0.994443</td><td style = \"text-align: right;\">0.334773</td><td style = \"text-align: right;\">0.97929</td><td style = \"text-align: right;\">0.795102</td><td style = \"text-align: right;\">0.0598869</td><td style = \"text-align: right;\">0.549026</td><td style = \"text-align: right;\">0.400121</td><td style = \"text-align: right;\">0.308796</td><td style = \"text-align: right;\">0.628075</td><td style = \"text-align: right;\">0.840303</td><td style = \"text-align: right;\">0.339053</td><td style = \"text-align: right;\">0.136397</td><td style = \"text-align: right;\">0.280687</td><td style = \"text-align: right;\">0.889398</td><td style = \"text-align: right;\">0.115254</td><td style = \"text-align: right;\">0.123201</td><td style = \"text-align: right;\">0.584913</td><td style = \"text-align: right;\">0.821373</td><td style = \"text-align: right;\">0.372804</td><td style = \"text-align: right;\">0.664195</td><td style = \"text-align: right;\">0.0880545</td><td style = \"text-align: right;\">0.372737</td><td style = \"text-align: right;\">0.044343</td><td style = \"text-align: right;\">0.113529</td><td style = \"text-align: right;\">0.995176</td><td style = \"text-align: right;\">0.374478</td><td style = \"text-align: right;\">0.93822</td><td style = \"text-align: right;\">0.024733</td><td style = \"text-align: right;\">0.705897</td><td style = \"text-align: right;\">0.054122</td><td style = \"text-align: right;\">0.108133</td><td style = \"text-align: right;\">0.0664982</td><td style = \"text-align: right;\">0.673719</td><td style = \"text-align: right;\">0.0505705</td><td style = \"text-align: right;\">0.345696</td><td style = \"text-align: right;\">0.857875</td><td style = \"text-align: right;\">0.235884</td><td style = \"text-align: right;\">0.686322</td><td style = \"text-align: right;\">0.0649139</td><td style = \"text-align: right;\">0.951426</td><td style = \"text-align: right;\">0.152888</td><td style = \"text-align: right;\">0.939615</td><td style = \"text-align: right;\">0.824296</td><td style = \"text-align: right;\">0.24334</td><td style = \"text-align: right;\">0.253463</td><td style = \"text-align: right;\">0.423321</td><td style = \"text-align: right;\">0.60916</td><td style = \"text-align: right;\">0.973864</td><td style = \"text-align: right;\">0.999507</td><td style = \"text-align: right;\">0.269151</td><td style = \"text-align: right;\">0.573875</td><td style = \"text-align: right;\">0.372669</td><td style = \"text-align: right;\">0.410003</td><td style = \"text-align: right;\">0.793528</td><td style = \"text-align: right;\">0.342416</td><td style = \"text-align: right;\">0.455681</td><td style = \"text-align: right;\">0.41279</td><td style = \"text-align: right;\">0.528135</td><td style = \"text-align: right;\">0.524013</td><td style = \"text-align: right;\">0.540401</td><td style = \"text-align: right;\">0.472247</td><td style = \"text-align: right;\">0.213411</td><td style = \"text-align: right;\">0.58953</td><td style = \"text-align: right;\">0.221603</td><td style = \"text-align: right;\">0.459132</td><td style = \"text-align: right;\">0.889558</td><td style = \"text-align: right;\">0.929604</td><td style = \"text-align: right;\">0.0701318</td><td style = \"text-align: right;\">0.452337</td><td style = \"text-align: right;\">0.823489</td><td style = \"text-align: right;\">0.781986</td><td style = \"text-align: right;\">0.938349</td><td style = \"text-align: right;\">0.291417</td><td style = \"text-align: right;\">0.295705</td><td style = \"text-align: right;\">0.739598</td><td style = \"text-align: right;\">0.454947</td><td style = \"text-align: right;\">0.893277</td><td style = \"text-align: right;\">0.428832</td><td style = \"text-align: right;\">0.87784</td><td style = \"text-align: right;\">0.589365</td><td style = \"text-align: right;\">0.0311478</td><td style = \"text-align: right;\">0.389447</td><td style = \"text-align: right;\">0.636232</td><td style = \"text-align: right;\">0.438295</td><td style = \"text-align: right;\">0.254143</td><td style = \"text-align: right;\">&ctdot;</td></tr><tr><td class = \"rowNumber\" style = \"font-weight: bold; text-align: right;\">6</td><td style = \"text-align: right;\">0.0167691</td><td style = \"text-align: right;\">0.229781</td><td style = \"text-align: right;\">0.0466419</td><td style = \"text-align: right;\">0.227757</td><td style = \"text-align: right;\">0.581592</td><td style = \"text-align: right;\">0.754182</td><td style = \"text-align: right;\">0.677089</td><td style = \"text-align: right;\">0.0405953</td><td style = \"text-align: right;\">0.673442</td><td style = \"text-align: right;\">0.0744993</td><td style = \"text-align: right;\">0.521367</td><td style = \"text-align: right;\">0.185284</td><td style = \"text-align: right;\">0.319622</td><td style = \"text-align: right;\">0.84179</td><td style = \"text-align: right;\">0.775268</td><td style = \"text-align: right;\">0.0903145</td><td style = \"text-align: right;\">0.485695</td><td style = \"text-align: right;\">0.207457</td><td style = \"text-align: right;\">0.714487</td><td style = \"text-align: right;\">0.506666</td><td style = \"text-align: right;\">0.258805</td><td style = \"text-align: right;\">0.36606</td><td style = \"text-align: right;\">0.214887</td><td style = \"text-align: right;\">0.345217</td><td style = \"text-align: right;\">0.144668</td><td style = \"text-align: right;\">0.00578024</td><td style = \"text-align: right;\">0.874269</td><td style = \"text-align: right;\">0.453793</td><td style = \"text-align: right;\">0.732372</td><td style = \"text-align: right;\">0.430119</td><td style = \"text-align: right;\">0.960629</td><td style = \"text-align: right;\">0.0898622</td><td style = \"text-align: right;\">0.583486</td><td style = \"text-align: right;\">0.137169</td><td style = \"text-align: right;\">0.827011</td><td style = \"text-align: right;\">0.569603</td><td style = \"text-align: right;\">0.743146</td><td style = \"text-align: right;\">0.192388</td><td style = \"text-align: right;\">0.227771</td><td style = \"text-align: right;\">0.10024</td><td style = \"text-align: right;\">0.300932</td><td style = \"text-align: right;\">0.957358</td><td style = \"text-align: right;\">0.885951</td><td style = \"text-align: right;\">0.693746</td><td style = \"text-align: right;\">0.949168</td><td style = \"text-align: right;\">0.228303</td><td style = \"text-align: right;\">0.41648</td><td style = \"text-align: right;\">0.476414</td><td style = \"text-align: right;\">0.443198</td><td style = \"text-align: right;\">0.7536</td><td style = \"text-align: right;\">0.51252</td><td style = \"text-align: right;\">0.0657561</td><td style = \"text-align: right;\">0.749892</td><td style = \"text-align: right;\">0.0846828</td><td style = \"text-align: right;\">0.324059</td><td style = \"text-align: right;\">0.237375</td><td style = \"text-align: right;\">0.65127</td><td style = \"text-align: right;\">0.498203</td><td style = \"text-align: right;\">0.659159</td><td style = \"text-align: right;\">0.213421</td><td style = \"text-align: right;\">0.658791</td><td style = \"text-align: right;\">0.158357</td><td style = \"text-align: right;\">0.595909</td><td style = \"text-align: right;\">0.254304</td><td style = \"text-align: right;\">0.834667</td><td style = \"text-align: right;\">0.934767</td><td style = \"text-align: right;\">0.779798</td><td style = \"text-align: right;\">0.986972</td><td style = \"text-align: right;\">0.687138</td><td style = \"text-align: right;\">0.10555</td><td style = \"text-align: right;\">0.365159</td><td style = \"text-align: right;\">0.0806003</td><td style = \"text-align: right;\">0.852657</td><td style = \"text-align: right;\">0.832152</td><td style = \"text-align: right;\">0.917476</td><td style = \"text-align: right;\">0.579384</td><td style = \"text-align: right;\">0.625249</td><td style = \"text-align: right;\">0.58773</td><td style = \"text-align: right;\">0.222394</td><td style = \"text-align: right;\">0.531136</td><td style = \"text-align: right;\">0.701913</td><td style = \"text-align: right;\">0.435679</td><td style = \"text-align: right;\">0.118108</td><td style = \"text-align: right;\">0.285552</td><td style = \"text-align: right;\">0.978553</td><td style = \"text-align: right;\">0.455462</td><td style = \"text-align: right;\">0.0212055</td><td style = \"text-align: right;\">0.783964</td><td style = \"text-align: right;\">0.878946</td><td style = \"text-align: right;\">0.903393</td><td style = \"text-align: right;\">0.97523</td><td style = \"text-align: right;\">0.186702</td><td style = \"text-align: right;\">0.556704</td><td style = \"text-align: right;\">0.742374</td><td style = \"text-align: right;\">0.0284535</td><td style = \"text-align: right;\">0.953626</td><td style = \"text-align: right;\">0.020825</td><td style = \"text-align: right;\">0.495874</td><td style = \"text-align: right;\">0.95299</td><td style = \"text-align: right;\">0.970575</td><td style = \"text-align: right;\">&ctdot;</td></tr><tr><td class = \"rowNumber\" style = \"font-weight: bold; text-align: right;\">7</td><td style = \"text-align: right;\">0.829454</td><td style = \"text-align: right;\">0.171552</td><td style = \"text-align: right;\">0.335295</td><td style = \"text-align: right;\">0.505614</td><td style = \"text-align: right;\">0.951612</td><td style = \"text-align: right;\">0.10853</td><td style = \"text-align: right;\">0.616172</td><td style = \"text-align: right;\">0.985029</td><td style = \"text-align: right;\">0.516997</td><td style = \"text-align: right;\">0.500377</td><td style = \"text-align: right;\">0.734746</td><td style = \"text-align: right;\">0.483618</td><td style = \"text-align: right;\">0.474573</td><td style = \"text-align: right;\">0.675992</td><td style = \"text-align: right;\">0.194724</td><td style = \"text-align: right;\">0.797394</td><td style = \"text-align: right;\">0.388565</td><td style = \"text-align: right;\">0.874964</td><td style = \"text-align: right;\">0.208205</td><td style = \"text-align: right;\">0.949681</td><td style = \"text-align: right;\">0.997702</td><td style = \"text-align: right;\">0.122631</td><td style = \"text-align: right;\">0.47283</td><td style = \"text-align: right;\">0.429494</td><td style = \"text-align: right;\">0.68567</td><td style = \"text-align: right;\">0.00307331</td><td style = \"text-align: right;\">0.313852</td><td style = \"text-align: right;\">0.680925</td><td style = \"text-align: right;\">0.362212</td><td style = \"text-align: right;\">0.867916</td><td style = \"text-align: right;\">0.971368</td><td style = \"text-align: right;\">0.195626</td><td style = \"text-align: right;\">0.3797</td><td style = \"text-align: right;\">0.647829</td><td style = \"text-align: right;\">0.878728</td><td style = \"text-align: right;\">0.877036</td><td style = \"text-align: right;\">0.767273</td><td style = \"text-align: right;\">0.0109734</td><td style = \"text-align: right;\">0.833753</td><td style = \"text-align: right;\">0.889431</td><td style = \"text-align: right;\">0.0406603</td><td style = \"text-align: right;\">0.736265</td><td style = \"text-align: right;\">0.272025</td><td style = \"text-align: right;\">0.950713</td><td style = \"text-align: right;\">0.355539</td><td style = \"text-align: right;\">0.571039</td><td style = \"text-align: right;\">0.578167</td><td style = \"text-align: right;\">0.59351</td><td style = \"text-align: right;\">0.529981</td><td style = \"text-align: right;\">0.370807</td><td style = \"text-align: right;\">0.931468</td><td style = \"text-align: right;\">0.157656</td><td style = \"text-align: right;\">0.903275</td><td style = \"text-align: right;\">0.584287</td><td style = \"text-align: right;\">0.878523</td><td style = \"text-align: right;\">0.587043</td><td style = \"text-align: right;\">0.0723357</td><td style = \"text-align: right;\">0.369888</td><td style = \"text-align: right;\">0.264691</td><td style = \"text-align: right;\">0.946014</td><td style = \"text-align: right;\">0.469432</td><td style = \"text-align: right;\">0.939559</td><td style = \"text-align: right;\">0.0110741</td><td style = \"text-align: right;\">0.707283</td><td style = \"text-align: right;\">0.695717</td><td style = \"text-align: right;\">0.922311</td><td style = \"text-align: right;\">0.208459</td><td style = \"text-align: right;\">0.990555</td><td style = \"text-align: right;\">0.668298</td><td style = \"text-align: right;\">0.155348</td><td style = \"text-align: right;\">0.0396401</td><td style = \"text-align: right;\">0.725362</td><td style = \"text-align: right;\">0.28635</td><td style = \"text-align: right;\">0.712225</td><td style = \"text-align: right;\">0.243274</td><td style = \"text-align: right;\">0.181826</td><td style = \"text-align: right;\">0.392537</td><td style = \"text-align: right;\">0.740792</td><td style = \"text-align: right;\">0.764835</td><td style = \"text-align: right;\">0.812328</td><td style = \"text-align: right;\">0.662544</td><td style = \"text-align: right;\">0.029231</td><td style = \"text-align: right;\">0.938982</td><td style = \"text-align: right;\">0.618716</td><td style = \"text-align: right;\">0.574071</td><td style = \"text-align: right;\">0.685088</td><td style = \"text-align: right;\">0.767345</td><td style = \"text-align: right;\">0.330698</td><td style = \"text-align: right;\">0.0750088</td><td style = \"text-align: right;\">0.693094</td><td style = \"text-align: right;\">0.773609</td><td style = \"text-align: right;\">0.34701</td><td style = \"text-align: right;\">0.444319</td><td style = \"text-align: right;\">0.987027</td><td style = \"text-align: right;\">0.148391</td><td style = \"text-align: right;\">0.578807</td><td style = \"text-align: right;\">0.536004</td><td style = \"text-align: right;\">0.752844</td><td style = \"text-align: right;\">0.414608</td><td style = \"text-align: right;\">0.880745</td><td style = \"text-align: right;\">&ctdot;</td></tr><tr><td class = \"rowNumber\" style = \"font-weight: bold; text-align: right;\">8</td><td style = \"text-align: right;\">0.824704</td><td style = \"text-align: right;\">0.906847</td><td style = \"text-align: right;\">0.0605448</td><td style = \"text-align: right;\">0.18075</td><td style = \"text-align: right;\">0.957496</td><td style = \"text-align: right;\">0.389088</td><td style = \"text-align: right;\">0.584492</td><td style = \"text-align: right;\">0.25725</td><td style = \"text-align: right;\">0.955276</td><td style = \"text-align: right;\">0.497716</td><td style = \"text-align: right;\">0.555987</td><td style = \"text-align: right;\">0.704926</td><td style = \"text-align: right;\">0.178196</td><td style = \"text-align: right;\">0.112544</td><td style = \"text-align: right;\">0.531485</td><td style = \"text-align: right;\">0.194483</td><td style = \"text-align: right;\">0.751705</td><td style = \"text-align: right;\">0.0490661</td><td style = \"text-align: right;\">0.0498711</td><td style = \"text-align: right;\">0.0918392</td><td style = \"text-align: right;\">0.583667</td><td style = \"text-align: right;\">0.0937562</td><td style = \"text-align: right;\">0.539615</td><td style = \"text-align: right;\">0.671166</td><td style = \"text-align: right;\">0.255807</td><td style = \"text-align: right;\">0.504502</td><td style = \"text-align: right;\">0.574756</td><td style = \"text-align: right;\">0.312658</td><td style = \"text-align: right;\">0.761449</td><td style = \"text-align: right;\">0.90121</td><td style = \"text-align: right;\">0.832911</td><td style = \"text-align: right;\">0.961612</td><td style = \"text-align: right;\">0.0137225</td><td style = \"text-align: right;\">0.00876565</td><td style = \"text-align: right;\">0.481243</td><td style = \"text-align: right;\">0.761047</td><td style = \"text-align: right;\">0.920496</td><td style = \"text-align: right;\">0.849723</td><td style = \"text-align: right;\">0.333869</td><td style = \"text-align: right;\">0.174531</td><td style = \"text-align: right;\">0.676598</td><td style = \"text-align: right;\">0.973555</td><td style = \"text-align: right;\">0.318156</td><td style = \"text-align: right;\">0.801196</td><td style = \"text-align: right;\">0.0302916</td><td style = \"text-align: right;\">0.949735</td><td style = \"text-align: right;\">0.140349</td><td style = \"text-align: right;\">0.643577</td><td style = \"text-align: right;\">0.451591</td><td style = \"text-align: right;\">0.540862</td><td style = \"text-align: right;\">0.514419</td><td style = \"text-align: right;\">0.581828</td><td style = \"text-align: right;\">0.416494</td><td style = \"text-align: right;\">0.175899</td><td style = \"text-align: right;\">0.623045</td><td style = \"text-align: right;\">0.165903</td><td style = \"text-align: right;\">0.0260333</td><td style = \"text-align: right;\">0.21966</td><td style = \"text-align: right;\">0.0443389</td><td style = \"text-align: right;\">0.996305</td><td style = \"text-align: right;\">0.573496</td><td style = \"text-align: right;\">0.605864</td><td style = \"text-align: right;\">0.855931</td><td style = \"text-align: right;\">0.469262</td><td style = \"text-align: right;\">0.228898</td><td style = \"text-align: right;\">0.376196</td><td style = \"text-align: right;\">0.521276</td><td style = \"text-align: right;\">0.78358</td><td style = \"text-align: right;\">0.702108</td><td style = \"text-align: right;\">0.509477</td><td style = \"text-align: right;\">0.807492</td><td style = \"text-align: right;\">0.830735</td><td style = \"text-align: right;\">0.418751</td><td style = \"text-align: right;\">0.926694</td><td style = \"text-align: right;\">0.478971</td><td style = \"text-align: right;\">0.57158</td><td style = \"text-align: right;\">0.424601</td><td style = \"text-align: right;\">0.973099</td><td style = \"text-align: right;\">0.371764</td><td style = \"text-align: right;\">0.675316</td><td style = \"text-align: right;\">0.233018</td><td style = \"text-align: right;\">0.593188</td><td style = \"text-align: right;\">0.299465</td><td style = \"text-align: right;\">0.373046</td><td style = \"text-align: right;\">0.553867</td><td style = \"text-align: right;\">0.72811</td><td style = \"text-align: right;\">0.854748</td><td style = \"text-align: right;\">0.85364</td><td style = \"text-align: right;\">0.800273</td><td style = \"text-align: right;\">0.258256</td><td style = \"text-align: right;\">0.742117</td><td style = \"text-align: right;\">0.0688791</td><td style = \"text-align: right;\">0.922079</td><td style = \"text-align: right;\">0.795688</td><td style = \"text-align: right;\">0.00399322</td><td style = \"text-align: right;\">0.887575</td><td style = \"text-align: right;\">0.622706</td><td style = \"text-align: right;\">0.727009</td><td style = \"text-align: right;\">0.0344567</td><td style = \"text-align: right;\">0.506597</td><td style = \"text-align: right;\">&ctdot;</td></tr><tr><td class = \"rowNumber\" style = \"font-weight: bold; text-align: right;\">9</td><td style = \"text-align: right;\">0.475488</td><td style = \"text-align: right;\">0.785214</td><td style = \"text-align: right;\">0.385425</td><td style = \"text-align: right;\">0.758421</td><td style = \"text-align: right;\">0.955782</td><td style = \"text-align: right;\">0.18349</td><td style = \"text-align: right;\">0.694819</td><td style = \"text-align: right;\">0.336287</td><td style = \"text-align: right;\">0.483727</td><td style = \"text-align: right;\">0.24804</td><td style = \"text-align: right;\">0.989306</td><td style = \"text-align: right;\">0.370854</td><td style = \"text-align: right;\">0.956573</td><td style = \"text-align: right;\">0.183035</td><td style = \"text-align: right;\">0.0261268</td><td style = \"text-align: right;\">0.592171</td><td style = \"text-align: right;\">0.216596</td><td style = \"text-align: right;\">0.0384406</td><td style = \"text-align: right;\">0.275451</td><td style = \"text-align: right;\">0.350696</td><td style = \"text-align: right;\">0.845391</td><td style = \"text-align: right;\">0.938978</td><td style = \"text-align: right;\">0.636102</td><td style = \"text-align: right;\">0.396409</td><td style = \"text-align: right;\">0.395857</td><td style = \"text-align: right;\">0.418097</td><td style = \"text-align: right;\">0.235274</td><td style = \"text-align: right;\">0.976712</td><td style = \"text-align: right;\">0.0774073</td><td style = \"text-align: right;\">0.183706</td><td style = \"text-align: right;\">0.595997</td><td style = \"text-align: right;\">0.398149</td><td style = \"text-align: right;\">0.380438</td><td style = \"text-align: right;\">0.173185</td><td style = \"text-align: right;\">0.204686</td><td style = \"text-align: right;\">0.306783</td><td style = \"text-align: right;\">0.541187</td><td style = \"text-align: right;\">0.567832</td><td style = \"text-align: right;\">0.838313</td><td style = \"text-align: right;\">0.323799</td><td style = \"text-align: right;\">0.13321</td><td style = \"text-align: right;\">0.591649</td><td style = \"text-align: right;\">0.0196441</td><td style = \"text-align: right;\">0.901106</td><td style = \"text-align: right;\">0.174546</td><td style = \"text-align: right;\">0.663326</td><td style = \"text-align: right;\">0.030932</td><td style = \"text-align: right;\">0.960317</td><td style = \"text-align: right;\">0.457026</td><td style = \"text-align: right;\">0.753891</td><td style = \"text-align: right;\">0.85002</td><td style = \"text-align: right;\">0.269397</td><td style = \"text-align: right;\">0.0552296</td><td style = \"text-align: right;\">0.553567</td><td style = \"text-align: right;\">0.498291</td><td style = \"text-align: right;\">0.118815</td><td style = \"text-align: right;\">0.608737</td><td style = \"text-align: right;\">0.804619</td><td style = \"text-align: right;\">0.309527</td><td style = \"text-align: right;\">0.442749</td><td style = \"text-align: right;\">0.232853</td><td style = \"text-align: right;\">0.46766</td><td style = \"text-align: right;\">0.0568941</td><td style = \"text-align: right;\">0.462633</td><td style = \"text-align: right;\">0.596633</td><td style = \"text-align: right;\">0.87756</td><td style = \"text-align: right;\">0.859455</td><td style = \"text-align: right;\">0.400594</td><td style = \"text-align: right;\">0.444654</td><td style = \"text-align: right;\">0.924607</td><td style = \"text-align: right;\">0.915217</td><td style = \"text-align: right;\">0.206288</td><td style = \"text-align: right;\">0.197723</td><td style = \"text-align: right;\">0.736694</td><td style = \"text-align: right;\">0.487805</td><td style = \"text-align: right;\">0.900142</td><td style = \"text-align: right;\">0.991208</td><td style = \"text-align: right;\">0.266086</td><td style = \"text-align: right;\">0.0491338</td><td style = \"text-align: right;\">0.810308</td><td style = \"text-align: right;\">0.328184</td><td style = \"text-align: right;\">0.701065</td><td style = \"text-align: right;\">0.531283</td><td style = \"text-align: right;\">0.580429</td><td style = \"text-align: right;\">0.302741</td><td style = \"text-align: right;\">0.345897</td><td style = \"text-align: right;\">0.893001</td><td style = \"text-align: right;\">0.630385</td><td style = \"text-align: right;\">0.783256</td><td style = \"text-align: right;\">0.597976</td><td style = \"text-align: right;\">0.874895</td><td style = \"text-align: right;\">0.5926</td><td style = \"text-align: right;\">0.186046</td><td style = \"text-align: right;\">0.581545</td><td style = \"text-align: right;\">0.0848903</td><td style = \"text-align: right;\">0.141067</td><td style = \"text-align: right;\">0.997213</td><td style = \"text-align: right;\">0.236678</td><td style = \"text-align: right;\">0.21624</td><td style = \"text-align: right;\">0.394093</td><td style = \"text-align: right;\">&ctdot;</td></tr><tr><td class = \"rowNumber\" style = \"font-weight: bold; text-align: right;\">10</td><td style = \"text-align: right;\">0.362039</td><td style = \"text-align: right;\">0.407333</td><td style = \"text-align: right;\">0.00678357</td><td style = \"text-align: right;\">0.516851</td><td style = \"text-align: right;\">0.260016</td><td style = \"text-align: right;\">0.767214</td><td style = \"text-align: right;\">0.391855</td><td style = \"text-align: right;\">0.0129791</td><td style = \"text-align: right;\">0.0617034</td><td style = \"text-align: right;\">0.740811</td><td style = \"text-align: right;\">0.878535</td><td style = \"text-align: right;\">0.797487</td><td style = \"text-align: right;\">0.554477</td><td style = \"text-align: right;\">0.260704</td><td style = \"text-align: right;\">0.710346</td><td style = \"text-align: right;\">0.0165509</td><td style = \"text-align: right;\">0.658419</td><td style = \"text-align: right;\">0.000675439</td><td style = \"text-align: right;\">0.407262</td><td style = \"text-align: right;\">0.736406</td><td style = \"text-align: right;\">0.714771</td><td style = \"text-align: right;\">0.506154</td><td style = \"text-align: right;\">0.152265</td><td style = \"text-align: right;\">0.933056</td><td style = \"text-align: right;\">0.787092</td><td style = \"text-align: right;\">0.17563</td><td style = \"text-align: right;\">0.791712</td><td style = \"text-align: right;\">0.0922519</td><td style = \"text-align: right;\">0.879986</td><td style = \"text-align: right;\">0.412945</td><td style = \"text-align: right;\">0.300223</td><td style = \"text-align: right;\">0.687166</td><td style = \"text-align: right;\">0.32313</td><td style = \"text-align: right;\">0.444153</td><td style = \"text-align: right;\">0.989281</td><td style = \"text-align: right;\">0.66298</td><td style = \"text-align: right;\">0.440862</td><td style = \"text-align: right;\">0.0713482</td><td style = \"text-align: right;\">0.352281</td><td style = \"text-align: right;\">0.471951</td><td style = \"text-align: right;\">0.911084</td><td style = \"text-align: right;\">0.758053</td><td style = \"text-align: right;\">0.926075</td><td style = \"text-align: right;\">0.417199</td><td style = \"text-align: right;\">0.736215</td><td style = \"text-align: right;\">0.327409</td><td style = \"text-align: right;\">0.805064</td><td style = \"text-align: right;\">0.537525</td><td style = \"text-align: right;\">0.38411</td><td style = \"text-align: right;\">0.723477</td><td style = \"text-align: right;\">0.305191</td><td style = \"text-align: right;\">0.189016</td><td style = \"text-align: right;\">0.771199</td><td style = \"text-align: right;\">0.706215</td><td style = \"text-align: right;\">0.647377</td><td style = \"text-align: right;\">0.375971</td><td style = \"text-align: right;\">0.0446541</td><td style = \"text-align: right;\">0.131271</td><td style = \"text-align: right;\">0.864557</td><td style = \"text-align: right;\">0.520415</td><td style = \"text-align: right;\">0.85721</td><td style = \"text-align: right;\">0.811602</td><td style = \"text-align: right;\">0.520297</td><td style = \"text-align: right;\">0.912932</td><td style = \"text-align: right;\">0.40733</td><td style = \"text-align: right;\">0.692047</td><td style = \"text-align: right;\">0.535936</td><td style = \"text-align: right;\">0.268806</td><td style = \"text-align: right;\">0.471283</td><td style = \"text-align: right;\">0.387102</td><td style = \"text-align: right;\">0.781535</td><td style = \"text-align: right;\">0.0115033</td><td style = \"text-align: right;\">0.0823874</td><td style = \"text-align: right;\">0.348326</td><td style = \"text-align: right;\">0.619436</td><td style = \"text-align: right;\">0.0996852</td><td style = \"text-align: right;\">0.739104</td><td style = \"text-align: right;\">0.321508</td><td style = \"text-align: right;\">0.18002</td><td style = \"text-align: right;\">0.48273</td><td style = \"text-align: right;\">0.983021</td><td style = \"text-align: right;\">0.678319</td><td style = \"text-align: right;\">0.464261</td><td style = \"text-align: right;\">0.75289</td><td style = \"text-align: right;\">0.616114</td><td style = \"text-align: right;\">0.325611</td><td style = \"text-align: right;\">0.862863</td><td style = \"text-align: right;\">0.356992</td><td style = \"text-align: right;\">0.116073</td><td style = \"text-align: right;\">0.093523</td><td style = \"text-align: right;\">0.530584</td><td style = \"text-align: right;\">0.632479</td><td style = \"text-align: right;\">0.586875</td><td style = \"text-align: right;\">0.882177</td><td style = \"text-align: right;\">0.439171</td><td style = \"text-align: right;\">0.805746</td><td style = \"text-align: right;\">0.273373</td><td style = \"text-align: right;\">0.384938</td><td style = \"text-align: right;\">0.68984</td><td style = \"text-align: right;\">0.0684566</td><td style = \"text-align: right;\">&ctdot;</td></tr><tr><td class = \"rowNumber\" style = \"font-weight: bold; text-align: right;\">11</td><td style = \"text-align: right;\">0.675239</td><td style = \"text-align: right;\">0.00547467</td><td style = \"text-align: right;\">0.291587</td><td style = \"text-align: right;\">0.115018</td><td style = \"text-align: right;\">0.358066</td><td style = \"text-align: right;\">0.845831</td><td style = \"text-align: right;\">0.686792</td><td style = \"text-align: right;\">0.00396753</td><td style = \"text-align: right;\">0.615326</td><td style = \"text-align: right;\">0.592461</td><td style = \"text-align: right;\">0.299576</td><td style = \"text-align: right;\">0.588133</td><td style = \"text-align: right;\">0.61215</td><td style = \"text-align: right;\">0.887777</td><td style = \"text-align: right;\">0.221015</td><td style = \"text-align: right;\">0.20402</td><td style = \"text-align: right;\">0.934996</td><td style = \"text-align: right;\">0.341534</td><td style = \"text-align: right;\">0.297174</td><td style = \"text-align: right;\">0.795806</td><td style = \"text-align: right;\">0.513363</td><td style = \"text-align: right;\">0.96823</td><td style = \"text-align: right;\">0.729555</td><td style = \"text-align: right;\">0.895543</td><td style = \"text-align: right;\">0.679458</td><td style = \"text-align: right;\">0.93214</td><td style = \"text-align: right;\">0.00868272</td><td style = \"text-align: right;\">0.0139508</td><td style = \"text-align: right;\">0.488088</td><td style = \"text-align: right;\">0.0435065</td><td style = \"text-align: right;\">0.950164</td><td style = \"text-align: right;\">0.238645</td><td style = \"text-align: right;\">0.00805983</td><td style = \"text-align: right;\">0.951791</td><td style = \"text-align: right;\">0.773785</td><td style = \"text-align: right;\">0.0188316</td><td style = \"text-align: right;\">0.351051</td><td style = \"text-align: right;\">0.241706</td><td style = \"text-align: right;\">0.362216</td><td style = \"text-align: right;\">0.853831</td><td style = \"text-align: right;\">0.0260875</td><td style = \"text-align: right;\">0.39771</td><td style = \"text-align: right;\">0.0834118</td><td style = \"text-align: right;\">0.513811</td><td style = \"text-align: right;\">0.958578</td><td style = \"text-align: right;\">0.173563</td><td style = \"text-align: right;\">0.939904</td><td style = \"text-align: right;\">0.350554</td><td style = \"text-align: right;\">0.422176</td><td style = \"text-align: right;\">0.896085</td><td style = \"text-align: right;\">0.828487</td><td style = \"text-align: right;\">0.697113</td><td style = \"text-align: right;\">0.509701</td><td style = \"text-align: right;\">0.870391</td><td style = \"text-align: right;\">0.742119</td><td style = \"text-align: right;\">0.268241</td><td style = \"text-align: right;\">0.34878</td><td style = \"text-align: right;\">0.521802</td><td style = \"text-align: right;\">0.606046</td><td style = \"text-align: right;\">0.398161</td><td style = \"text-align: right;\">0.644275</td><td style = \"text-align: right;\">0.9442</td><td style = \"text-align: right;\">0.00948839</td><td style = \"text-align: right;\">0.614906</td><td style = \"text-align: right;\">0.100293</td><td style = \"text-align: right;\">0.172378</td><td style = \"text-align: right;\">0.483084</td><td style = \"text-align: right;\">0.579749</td><td style = \"text-align: right;\">0.563343</td><td style = \"text-align: right;\">0.541095</td><td style = \"text-align: right;\">0.316473</td><td style = \"text-align: right;\">0.809205</td><td style = \"text-align: right;\">0.982246</td><td style = \"text-align: right;\">0.0427786</td><td style = \"text-align: right;\">0.387553</td><td style = \"text-align: right;\">0.958055</td><td style = \"text-align: right;\">0.403242</td><td style = \"text-align: right;\">0.583795</td><td style = \"text-align: right;\">0.25471</td><td style = \"text-align: right;\">0.190225</td><td style = \"text-align: right;\">0.500625</td><td style = \"text-align: right;\">0.597788</td><td style = \"text-align: right;\">0.647934</td><td style = \"text-align: right;\">0.133814</td><td style = \"text-align: right;\">0.687872</td><td style = \"text-align: right;\">0.029151</td><td style = \"text-align: right;\">0.273962</td><td style = \"text-align: right;\">0.714393</td><td style = \"text-align: right;\">0.0680827</td><td style = \"text-align: right;\">0.15477</td><td style = \"text-align: right;\">0.382368</td><td style = \"text-align: right;\">0.86891</td><td style = \"text-align: right;\">0.706107</td><td style = \"text-align: right;\">0.87113</td><td style = \"text-align: right;\">0.778411</td><td style = \"text-align: right;\">0.661716</td><td style = \"text-align: right;\">0.94471</td><td style = \"text-align: right;\">0.933488</td><td style = \"text-align: right;\">0.418699</td><td style = \"text-align: right;\">0.97534</td><td style = \"text-align: right;\">&ctdot;</td></tr><tr><td class = \"rowNumber\" style = \"font-weight: bold; text-align: right;\">12</td><td style = \"text-align: right;\">0.259129</td><td style = \"text-align: right;\">0.226946</td><td style = \"text-align: right;\">0.0438531</td><td style = \"text-align: right;\">0.540878</td><td style = \"text-align: right;\">0.885449</td><td style = \"text-align: right;\">0.1637</td><td style = \"text-align: right;\">0.627423</td><td style = \"text-align: right;\">0.0585852</td><td style = \"text-align: right;\">0.327419</td><td style = \"text-align: right;\">0.416871</td><td style = \"text-align: right;\">0.606035</td><td style = \"text-align: right;\">0.285193</td><td style = \"text-align: right;\">0.625373</td><td style = \"text-align: right;\">0.895339</td><td style = \"text-align: right;\">0.908766</td><td style = \"text-align: right;\">0.610103</td><td style = \"text-align: right;\">0.0949373</td><td style = \"text-align: right;\">0.460839</td><td style = \"text-align: right;\">0.401694</td><td style = \"text-align: right;\">0.472741</td><td style = \"text-align: right;\">0.421115</td><td style = \"text-align: right;\">0.165046</td><td style = \"text-align: right;\">0.356437</td><td style = \"text-align: right;\">0.766921</td><td style = \"text-align: right;\">0.231312</td><td style = \"text-align: right;\">0.974506</td><td style = \"text-align: right;\">0.965541</td><td style = \"text-align: right;\">0.13036</td><td style = \"text-align: right;\">0.719388</td><td style = \"text-align: right;\">0.945531</td><td style = \"text-align: right;\">0.448647</td><td style = \"text-align: right;\">0.686091</td><td style = \"text-align: right;\">0.446395</td><td style = \"text-align: right;\">0.518337</td><td style = \"text-align: right;\">0.622963</td><td style = \"text-align: right;\">0.560848</td><td style = \"text-align: right;\">0.120148</td><td style = \"text-align: right;\">0.0676892</td><td style = \"text-align: right;\">0.848921</td><td style = \"text-align: right;\">0.616885</td><td style = \"text-align: right;\">0.140218</td><td style = \"text-align: right;\">0.330491</td><td style = \"text-align: right;\">0.52179</td><td style = \"text-align: right;\">0.98612</td><td style = \"text-align: right;\">0.92572</td><td style = \"text-align: right;\">0.50331</td><td style = \"text-align: right;\">0.904887</td><td style = \"text-align: right;\">0.861214</td><td style = \"text-align: right;\">0.635855</td><td style = \"text-align: right;\">0.913978</td><td style = \"text-align: right;\">0.739627</td><td style = \"text-align: right;\">0.0360947</td><td style = \"text-align: right;\">0.0979266</td><td style = \"text-align: right;\">0.623918</td><td style = \"text-align: right;\">0.0422958</td><td style = \"text-align: right;\">0.920203</td><td style = \"text-align: right;\">0.365782</td><td style = \"text-align: right;\">0.762063</td><td style = \"text-align: right;\">0.587952</td><td style = \"text-align: right;\">0.651191</td><td style = \"text-align: right;\">0.699681</td><td style = \"text-align: right;\">0.379194</td><td style = \"text-align: right;\">0.525123</td><td style = \"text-align: right;\">0.405983</td><td style = \"text-align: right;\">0.538325</td><td style = \"text-align: right;\">0.806643</td><td style = \"text-align: right;\">0.480937</td><td style = \"text-align: right;\">0.16313</td><td style = \"text-align: right;\">0.409701</td><td style = \"text-align: right;\">0.237855</td><td style = \"text-align: right;\">0.266464</td><td style = \"text-align: right;\">0.864746</td><td style = \"text-align: right;\">0.222286</td><td style = \"text-align: right;\">0.628891</td><td style = \"text-align: right;\">0.33356</td><td style = \"text-align: right;\">0.829747</td><td style = \"text-align: right;\">0.48331</td><td style = \"text-align: right;\">0.864603</td><td style = \"text-align: right;\">0.79563</td><td style = \"text-align: right;\">0.812942</td><td style = \"text-align: right;\">0.591661</td><td style = \"text-align: right;\">0.240469</td><td style = \"text-align: right;\">0.928288</td><td style = \"text-align: right;\">0.129659</td><td style = \"text-align: right;\">0.858526</td><td style = \"text-align: right;\">0.322663</td><td style = \"text-align: right;\">0.40579</td><td style = \"text-align: right;\">0.730375</td><td style = \"text-align: right;\">0.607356</td><td style = \"text-align: right;\">0.138017</td><td style = \"text-align: right;\">0.52431</td><td style = \"text-align: right;\">0.0627223</td><td style = \"text-align: right;\">0.921629</td><td style = \"text-align: right;\">0.779056</td><td style = \"text-align: right;\">0.504504</td><td style = \"text-align: right;\">0.017345</td><td style = \"text-align: right;\">0.466435</td><td style = \"text-align: right;\">0.699568</td><td style = \"text-align: right;\">0.576088</td><td style = \"text-align: right;\">0.894404</td><td style = \"text-align: right;\">&ctdot;</td></tr><tr><td class = \"rowNumber\" style = \"font-weight: bold; text-align: right;\">13</td><td style = \"text-align: right;\">0.455214</td><td style = \"text-align: right;\">0.0307412</td><td style = \"text-align: right;\">0.915245</td><td style = \"text-align: right;\">0.702836</td><td style = \"text-align: right;\">0.861522</td><td style = \"text-align: right;\">0.35542</td><td style = \"text-align: right;\">0.212023</td><td style = \"text-align: right;\">0.598892</td><td style = \"text-align: right;\">0.695816</td><td style = \"text-align: right;\">0.373462</td><td style = \"text-align: right;\">0.607524</td><td style = \"text-align: right;\">0.808439</td><td style = \"text-align: right;\">0.353317</td><td style = \"text-align: right;\">0.731975</td><td style = \"text-align: right;\">0.940761</td><td style = \"text-align: right;\">0.833365</td><td style = \"text-align: right;\">0.517489</td><td style = \"text-align: right;\">0.986276</td><td style = \"text-align: right;\">0.86514</td><td style = \"text-align: right;\">0.416555</td><td style = \"text-align: right;\">0.490478</td><td style = \"text-align: right;\">0.30154</td><td style = \"text-align: right;\">0.741979</td><td style = \"text-align: right;\">0.278632</td><td style = \"text-align: right;\">0.804131</td><td style = \"text-align: right;\">0.474891</td><td style = \"text-align: right;\">0.704763</td><td style = \"text-align: right;\">0.366912</td><td style = \"text-align: right;\">0.716167</td><td style = \"text-align: right;\">0.29216</td><td style = \"text-align: right;\">0.949659</td><td style = \"text-align: right;\">0.725523</td><td style = \"text-align: right;\">0.505619</td><td style = \"text-align: right;\">0.827986</td><td style = \"text-align: right;\">0.547279</td><td style = \"text-align: right;\">0.108209</td><td style = \"text-align: right;\">0.974335</td><td style = \"text-align: right;\">0.82957</td><td style = \"text-align: right;\">0.507403</td><td style = \"text-align: right;\">0.374663</td><td style = \"text-align: right;\">0.743859</td><td style = \"text-align: right;\">0.565668</td><td style = \"text-align: right;\">0.044702</td><td style = \"text-align: right;\">0.838819</td><td style = \"text-align: right;\">0.542352</td><td style = \"text-align: right;\">0.185568</td><td style = \"text-align: right;\">0.818226</td><td style = \"text-align: right;\">0.732966</td><td style = \"text-align: right;\">0.77289</td><td style = \"text-align: right;\">0.514512</td><td style = \"text-align: right;\">0.61648</td><td style = \"text-align: right;\">0.228826</td><td style = \"text-align: right;\">0.537152</td><td style = \"text-align: right;\">0.552032</td><td style = \"text-align: right;\">0.335155</td><td style = \"text-align: right;\">0.486078</td><td style = \"text-align: right;\">0.351943</td><td style = \"text-align: right;\">0.0210863</td><td style = \"text-align: right;\">0.900534</td><td style = \"text-align: right;\">0.864664</td><td style = \"text-align: right;\">0.906814</td><td style = \"text-align: right;\">0.965393</td><td style = \"text-align: right;\">0.2667</td><td style = \"text-align: right;\">0.920339</td><td style = \"text-align: right;\">0.296501</td><td style = \"text-align: right;\">0.568242</td><td style = \"text-align: right;\">0.821281</td><td style = \"text-align: right;\">0.580999</td><td style = \"text-align: right;\">0.0941921</td><td style = \"text-align: right;\">0.968565</td><td style = \"text-align: right;\">0.943886</td><td style = \"text-align: right;\">0.802045</td><td style = \"text-align: right;\">0.605836</td><td style = \"text-align: right;\">0.788587</td><td style = \"text-align: right;\">0.60984</td><td style = \"text-align: right;\">0.328294</td><td style = \"text-align: right;\">0.934295</td><td style = \"text-align: right;\">0.71221</td><td style = \"text-align: right;\">0.848913</td><td style = \"text-align: right;\">0.728846</td><td style = \"text-align: right;\">0.558431</td><td style = \"text-align: right;\">0.964748</td><td style = \"text-align: right;\">0.852118</td><td style = \"text-align: right;\">0.788562</td><td style = \"text-align: right;\">0.323399</td><td style = \"text-align: right;\">0.025068</td><td style = \"text-align: right;\">0.850201</td><td style = \"text-align: right;\">0.742027</td><td style = \"text-align: right;\">0.846814</td><td style = \"text-align: right;\">0.68804</td><td style = \"text-align: right;\">0.90004</td><td style = \"text-align: right;\">0.235412</td><td style = \"text-align: right;\">0.448913</td><td style = \"text-align: right;\">0.383671</td><td style = \"text-align: right;\">0.442338</td><td style = \"text-align: right;\">0.105688</td><td style = \"text-align: right;\">0.55419</td><td style = \"text-align: right;\">0.702566</td><td style = \"text-align: right;\">0.836914</td><td style = \"text-align: right;\">0.34839</td><td style = \"text-align: right;\">&ctdot;</td></tr><tr><td style = \"text-align: right;\">&vellip;</td><td style = \"text-align: right;\">&vellip;</td><td style = \"text-align: right;\">&vellip;</td><td style = \"text-align: right;\">&vellip;</td><td style = \"text-align: right;\">&vellip;</td><td style = \"text-align: right;\">&vellip;</td><td style = \"text-align: right;\">&vellip;</td><td style = \"text-align: right;\">&vellip;</td><td style = \"text-align: right;\">&vellip;</td><td style = \"text-align: right;\">&vellip;</td><td style = \"text-align: right;\">&vellip;</td><td style = \"text-align: right;\">&vellip;</td><td style = \"text-align: right;\">&vellip;</td><td style = \"text-align: right;\">&vellip;</td><td style = \"text-align: right;\">&vellip;</td><td style = \"text-align: right;\">&vellip;</td><td style = \"text-align: right;\">&vellip;</td><td style = \"text-align: right;\">&vellip;</td><td style = \"text-align: right;\">&vellip;</td><td style = \"text-align: right;\">&vellip;</td><td style = \"text-align: right;\">&vellip;</td><td style = \"text-align: right;\">&vellip;</td><td style = \"text-align: right;\">&vellip;</td><td style = \"text-align: right;\">&vellip;</td><td style = \"text-align: right;\">&vellip;</td><td style = \"text-align: right;\">&vellip;</td><td style = \"text-align: right;\">&vellip;</td><td style = \"text-align: right;\">&vellip;</td><td style = \"text-align: right;\">&vellip;</td><td style = \"text-align: right;\">&vellip;</td><td style = \"text-align: right;\">&vellip;</td><td style = \"text-align: right;\">&vellip;</td><td style = \"text-align: right;\">&vellip;</td><td style = \"text-align: right;\">&vellip;</td><td style = \"text-align: right;\">&vellip;</td><td style = \"text-align: right;\">&vellip;</td><td style = \"text-align: right;\">&vellip;</td><td style = \"text-align: right;\">&vellip;</td><td style = \"text-align: right;\">&vellip;</td><td style = \"text-align: right;\">&vellip;</td><td style = \"text-align: right;\">&vellip;</td><td style = \"text-align: right;\">&vellip;</td><td style = \"text-align: right;\">&vellip;</td><td style = \"text-align: right;\">&vellip;</td><td style = \"text-align: right;\">&vellip;</td><td style = \"text-align: right;\">&vellip;</td><td style = \"text-align: right;\">&vellip;</td><td style = \"text-align: right;\">&vellip;</td><td style = \"text-align: right;\">&vellip;</td><td style = \"text-align: right;\">&vellip;</td><td style = \"text-align: right;\">&vellip;</td><td style = \"text-align: right;\">&vellip;</td><td style = \"text-align: right;\">&vellip;</td><td style = \"text-align: right;\">&vellip;</td><td style = \"text-align: right;\">&vellip;</td><td style = \"text-align: right;\">&vellip;</td><td style = \"text-align: right;\">&vellip;</td><td style = \"text-align: right;\">&vellip;</td><td style = \"text-align: right;\">&vellip;</td><td style = \"text-align: right;\">&vellip;</td><td style = \"text-align: right;\">&vellip;</td><td style = \"text-align: right;\">&vellip;</td><td style = \"text-align: right;\">&vellip;</td><td style = \"text-align: right;\">&vellip;</td><td style = \"text-align: right;\">&vellip;</td><td style = \"text-align: right;\">&vellip;</td><td style = \"text-align: right;\">&vellip;</td><td style = \"text-align: right;\">&vellip;</td><td style = \"text-align: right;\">&vellip;</td><td style = \"text-align: right;\">&vellip;</td><td style = \"text-align: right;\">&vellip;</td><td style = \"text-align: right;\">&vellip;</td><td style = \"text-align: right;\">&vellip;</td><td style = \"text-align: right;\">&vellip;</td><td style = \"text-align: right;\">&vellip;</td><td style = \"text-align: right;\">&vellip;</td><td style = \"text-align: right;\">&vellip;</td><td style = \"text-align: right;\">&vellip;</td><td style = \"text-align: right;\">&vellip;</td><td style = \"text-align: right;\">&vellip;</td><td style = \"text-align: right;\">&vellip;</td><td style = \"text-align: right;\">&vellip;</td><td style = \"text-align: right;\">&vellip;</td><td style = \"text-align: right;\">&vellip;</td><td style = \"text-align: right;\">&vellip;</td><td style = \"text-align: right;\">&vellip;</td><td style = \"text-align: right;\">&vellip;</td><td style = \"text-align: right;\">&vellip;</td><td style = \"text-align: right;\">&vellip;</td><td style = \"text-align: right;\">&vellip;</td><td style = \"text-align: right;\">&vellip;</td><td style = \"text-align: right;\">&vellip;</td><td style = \"text-align: right;\">&vellip;</td><td style = \"text-align: right;\">&vellip;</td><td style = \"text-align: right;\">&vellip;</td><td style = \"text-align: right;\">&vellip;</td><td style = \"text-align: right;\">&vellip;</td><td style = \"text-align: right;\">&vellip;</td><td style = \"text-align: right;\">&vellip;</td><td style = \"text-align: right;\">&vellip;</td><td style = \"text-align: right;\">&vellip;</td><td style = \"text-align: right;\">&dtdot;</td></tr><tr><td class = \"rowNumber\" style = \"font-weight: bold; text-align: right;\">89</td><td style = \"text-align: right;\">0.16117</td><td style = \"text-align: right;\">0.850338</td><td style = \"text-align: right;\">0.810215</td><td style = \"text-align: right;\">0.708995</td><td style = \"text-align: right;\">0.50588</td><td style = \"text-align: right;\">0.172543</td><td style = \"text-align: right;\">0.900615</td><td style = \"text-align: right;\">0.735723</td><td style = \"text-align: right;\">0.553584</td><td style = \"text-align: right;\">0.88906</td><td style = \"text-align: right;\">0.0208792</td><td style = \"text-align: right;\">0.774786</td><td style = \"text-align: right;\">0.551414</td><td style = \"text-align: right;\">0.580388</td><td style = \"text-align: right;\">0.236543</td><td style = \"text-align: right;\">0.195473</td><td style = \"text-align: right;\">0.177358</td><td style = \"text-align: right;\">0.204852</td><td style = \"text-align: right;\">0.0600162</td><td style = \"text-align: right;\">0.346651</td><td style = \"text-align: right;\">0.578287</td><td style = \"text-align: right;\">0.254028</td><td style = \"text-align: right;\">0.282219</td><td style = \"text-align: right;\">0.591311</td><td style = \"text-align: right;\">0.40173</td><td style = \"text-align: right;\">0.48352</td><td style = \"text-align: right;\">0.964456</td><td style = \"text-align: right;\">0.270648</td><td style = \"text-align: right;\">0.351012</td><td style = \"text-align: right;\">0.0763548</td><td style = \"text-align: right;\">0.69539</td><td style = \"text-align: right;\">0.977208</td><td style = \"text-align: right;\">0.384624</td><td style = \"text-align: right;\">0.893167</td><td style = \"text-align: right;\">0.0144605</td><td style = \"text-align: right;\">0.66347</td><td style = \"text-align: right;\">0.921103</td><td style = \"text-align: right;\">0.836515</td><td style = \"text-align: right;\">0.484884</td><td style = \"text-align: right;\">0.33705</td><td style = \"text-align: right;\">0.114534</td><td style = \"text-align: right;\">0.854166</td><td style = \"text-align: right;\">0.733769</td><td style = \"text-align: right;\">0.0737746</td><td style = \"text-align: right;\">0.467708</td><td style = \"text-align: right;\">0.423424</td><td style = \"text-align: right;\">0.453954</td><td style = \"text-align: right;\">0.0781252</td><td style = \"text-align: right;\">0.803903</td><td style = \"text-align: right;\">0.198597</td><td style = \"text-align: right;\">0.210031</td><td style = \"text-align: right;\">0.179059</td><td style = \"text-align: right;\">0.342879</td><td style = \"text-align: right;\">0.17152</td><td style = \"text-align: right;\">0.817816</td><td style = \"text-align: right;\">0.2952</td><td style = \"text-align: right;\">0.24149</td><td style = \"text-align: right;\">0.775193</td><td style = \"text-align: right;\">0.366898</td><td style = \"text-align: right;\">0.041054</td><td style = \"text-align: right;\">0.479683</td><td style = \"text-align: right;\">0.484265</td><td style = \"text-align: right;\">0.966353</td><td style = \"text-align: right;\">0.564703</td><td style = \"text-align: right;\">0.868291</td><td style = \"text-align: right;\">0.321001</td><td style = \"text-align: right;\">0.131078</td><td style = \"text-align: right;\">0.951735</td><td style = \"text-align: right;\">0.187959</td><td style = \"text-align: right;\">0.56574</td><td style = \"text-align: right;\">0.619247</td><td style = \"text-align: right;\">0.569673</td><td style = \"text-align: right;\">0.0264522</td><td style = \"text-align: right;\">0.102111</td><td style = \"text-align: right;\">0.778251</td><td style = \"text-align: right;\">0.754536</td><td style = \"text-align: right;\">0.332334</td><td style = \"text-align: right;\">0.12393</td><td style = \"text-align: right;\">0.539415</td><td style = \"text-align: right;\">0.552637</td><td style = \"text-align: right;\">0.275127</td><td style = \"text-align: right;\">0.609172</td><td style = \"text-align: right;\">0.530301</td><td style = \"text-align: right;\">0.856601</td><td style = \"text-align: right;\">0.0421951</td><td style = \"text-align: right;\">0.713826</td><td style = \"text-align: right;\">0.442648</td><td style = \"text-align: right;\">0.234705</td><td style = \"text-align: right;\">0.831025</td><td style = \"text-align: right;\">0.63765</td><td style = \"text-align: right;\">0.417015</td><td style = \"text-align: right;\">0.591852</td><td style = \"text-align: right;\">0.582939</td><td style = \"text-align: right;\">0.777853</td><td style = \"text-align: right;\">0.0718526</td><td style = \"text-align: right;\">0.883896</td><td style = \"text-align: right;\">0.381211</td><td style = \"text-align: right;\">0.0865732</td><td style = \"text-align: right;\">0.404214</td><td style = \"text-align: right;\">0.828773</td><td style = \"text-align: right;\">&ctdot;</td></tr><tr><td class = \"rowNumber\" style = \"font-weight: bold; text-align: right;\">90</td><td style = \"text-align: right;\">0.590155</td><td style = \"text-align: right;\">0.496753</td><td style = \"text-align: right;\">0.622304</td><td style = \"text-align: right;\">0.365415</td><td style = \"text-align: right;\">0.0110498</td><td style = \"text-align: right;\">0.667507</td><td style = \"text-align: right;\">0.893479</td><td style = \"text-align: right;\">0.398551</td><td style = \"text-align: right;\">0.0622397</td><td style = \"text-align: right;\">0.246407</td><td style = \"text-align: right;\">0.936946</td><td style = \"text-align: right;\">0.815791</td><td style = \"text-align: right;\">0.363818</td><td style = \"text-align: right;\">0.552652</td><td style = \"text-align: right;\">0.230743</td><td style = \"text-align: right;\">0.883369</td><td style = \"text-align: right;\">0.637702</td><td style = \"text-align: right;\">0.0160575</td><td style = \"text-align: right;\">0.549955</td><td style = \"text-align: right;\">0.122925</td><td style = \"text-align: right;\">0.787291</td><td style = \"text-align: right;\">0.458143</td><td style = \"text-align: right;\">0.121387</td><td style = \"text-align: right;\">0.446973</td><td style = \"text-align: right;\">0.811079</td><td style = \"text-align: right;\">0.800028</td><td style = \"text-align: right;\">0.0258258</td><td style = \"text-align: right;\">0.328853</td><td style = \"text-align: right;\">0.500084</td><td style = \"text-align: right;\">0.472719</td><td style = \"text-align: right;\">0.484122</td><td style = \"text-align: right;\">0.359622</td><td style = \"text-align: right;\">0.968719</td><td style = \"text-align: right;\">0.560627</td><td style = \"text-align: right;\">0.296691</td><td style = \"text-align: right;\">0.750306</td><td style = \"text-align: right;\">0.104023</td><td style = \"text-align: right;\">0.558601</td><td style = \"text-align: right;\">0.476046</td><td style = \"text-align: right;\">0.181697</td><td style = \"text-align: right;\">0.109115</td><td style = \"text-align: right;\">0.447945</td><td style = \"text-align: right;\">0.802971</td><td style = \"text-align: right;\">0.812867</td><td style = \"text-align: right;\">0.975224</td><td style = \"text-align: right;\">0.371217</td><td style = \"text-align: right;\">0.7117</td><td style = \"text-align: right;\">0.0758395</td><td style = \"text-align: right;\">0.210133</td><td style = \"text-align: right;\">0.750827</td><td style = \"text-align: right;\">0.388793</td><td style = \"text-align: right;\">0.56458</td><td style = \"text-align: right;\">0.0932462</td><td style = \"text-align: right;\">0.450056</td><td style = \"text-align: right;\">0.945261</td><td style = \"text-align: right;\">0.0734518</td><td style = \"text-align: right;\">0.686143</td><td style = \"text-align: right;\">0.374348</td><td style = \"text-align: right;\">0.286226</td><td style = \"text-align: right;\">0.118906</td><td style = \"text-align: right;\">0.853512</td><td style = \"text-align: right;\">0.138458</td><td style = \"text-align: right;\">0.700737</td><td style = \"text-align: right;\">0.885094</td><td style = \"text-align: right;\">0.6541</td><td style = \"text-align: right;\">0.0215685</td><td style = \"text-align: right;\">0.737323</td><td style = \"text-align: right;\">0.272757</td><td style = \"text-align: right;\">0.54877</td><td style = \"text-align: right;\">0.840162</td><td style = \"text-align: right;\">0.722844</td><td style = \"text-align: right;\">0.851599</td><td style = \"text-align: right;\">0.64699</td><td style = \"text-align: right;\">0.115973</td><td style = \"text-align: right;\">0.286322</td><td style = \"text-align: right;\">0.382423</td><td style = \"text-align: right;\">0.0810033</td><td style = \"text-align: right;\">0.0719172</td><td style = \"text-align: right;\">0.153216</td><td style = \"text-align: right;\">0.877661</td><td style = \"text-align: right;\">0.0212079</td><td style = \"text-align: right;\">0.320133</td><td style = \"text-align: right;\">0.15138</td><td style = \"text-align: right;\">0.155455</td><td style = \"text-align: right;\">0.447062</td><td style = \"text-align: right;\">0.121419</td><td style = \"text-align: right;\">0.547399</td><td style = \"text-align: right;\">0.025862</td><td style = \"text-align: right;\">0.825994</td><td style = \"text-align: right;\">0.518899</td><td style = \"text-align: right;\">0.782576</td><td style = \"text-align: right;\">0.0196563</td><td style = \"text-align: right;\">0.41855</td><td style = \"text-align: right;\">0.576616</td><td style = \"text-align: right;\">0.427523</td><td style = \"text-align: right;\">0.53046</td><td style = \"text-align: right;\">0.0946898</td><td style = \"text-align: right;\">0.970775</td><td style = \"text-align: right;\">0.420322</td><td style = \"text-align: right;\">0.412288</td><td style = \"text-align: right;\">&ctdot;</td></tr><tr><td class = \"rowNumber\" style = \"font-weight: bold; text-align: right;\">91</td><td style = \"text-align: right;\">0.362299</td><td style = \"text-align: right;\">0.876264</td><td style = \"text-align: right;\">0.883843</td><td style = \"text-align: right;\">0.606238</td><td style = \"text-align: right;\">0.420708</td><td style = \"text-align: right;\">0.897986</td><td style = \"text-align: right;\">0.886532</td><td style = \"text-align: right;\">0.371341</td><td style = \"text-align: right;\">0.225766</td><td style = \"text-align: right;\">0.510435</td><td style = \"text-align: right;\">0.48125</td><td style = \"text-align: right;\">0.642422</td><td style = \"text-align: right;\">0.284624</td><td style = \"text-align: right;\">0.11381</td><td style = \"text-align: right;\">0.455564</td><td style = \"text-align: right;\">0.848994</td><td style = \"text-align: right;\">0.20597</td><td style = \"text-align: right;\">0.609739</td><td style = \"text-align: right;\">0.261626</td><td style = \"text-align: right;\">0.073562</td><td style = \"text-align: right;\">0.195226</td><td style = \"text-align: right;\">0.0743177</td><td style = \"text-align: right;\">0.425359</td><td style = \"text-align: right;\">0.00559621</td><td style = \"text-align: right;\">0.851288</td><td style = \"text-align: right;\">0.332915</td><td style = \"text-align: right;\">0.479646</td><td style = \"text-align: right;\">0.712594</td><td style = \"text-align: right;\">0.705282</td><td style = \"text-align: right;\">1.25421e-5</td><td style = \"text-align: right;\">0.932056</td><td style = \"text-align: right;\">0.332133</td><td style = \"text-align: right;\">0.517605</td><td style = \"text-align: right;\">0.276753</td><td style = \"text-align: right;\">0.882376</td><td style = \"text-align: right;\">0.111505</td><td style = \"text-align: right;\">0.465522</td><td style = \"text-align: right;\">0.519771</td><td style = \"text-align: right;\">0.648899</td><td style = \"text-align: right;\">0.124814</td><td style = \"text-align: right;\">0.0353197</td><td style = \"text-align: right;\">0.517378</td><td style = \"text-align: right;\">0.956224</td><td style = \"text-align: right;\">0.0876059</td><td style = \"text-align: right;\">0.721015</td><td style = \"text-align: right;\">0.661915</td><td style = \"text-align: right;\">0.787504</td><td style = \"text-align: right;\">0.535855</td><td style = \"text-align: right;\">0.918089</td><td style = \"text-align: right;\">0.638555</td><td style = \"text-align: right;\">0.82964</td><td style = \"text-align: right;\">0.0812424</td><td style = \"text-align: right;\">0.593503</td><td style = \"text-align: right;\">0.383246</td><td style = \"text-align: right;\">0.885949</td><td style = \"text-align: right;\">0.744395</td><td style = \"text-align: right;\">0.92975</td><td style = \"text-align: right;\">0.958975</td><td style = \"text-align: right;\">0.318966</td><td style = \"text-align: right;\">0.155235</td><td style = \"text-align: right;\">0.915567</td><td style = \"text-align: right;\">0.368156</td><td style = \"text-align: right;\">0.711011</td><td style = \"text-align: right;\">0.0923066</td><td style = \"text-align: right;\">0.621709</td><td style = \"text-align: right;\">0.0603316</td><td style = \"text-align: right;\">0.948693</td><td style = \"text-align: right;\">0.00620055</td><td style = \"text-align: right;\">0.895228</td><td style = \"text-align: right;\">0.186603</td><td style = \"text-align: right;\">0.679395</td><td style = \"text-align: right;\">0.768887</td><td style = \"text-align: right;\">0.703841</td><td style = \"text-align: right;\">0.752122</td><td style = \"text-align: right;\">0.217683</td><td style = \"text-align: right;\">0.449059</td><td style = \"text-align: right;\">0.805438</td><td style = \"text-align: right;\">0.350216</td><td style = \"text-align: right;\">0.0881808</td><td style = \"text-align: right;\">0.576333</td><td style = \"text-align: right;\">0.729602</td><td style = \"text-align: right;\">0.704248</td><td style = \"text-align: right;\">0.138831</td><td style = \"text-align: right;\">0.739795</td><td style = \"text-align: right;\">0.511591</td><td style = \"text-align: right;\">0.374504</td><td style = \"text-align: right;\">0.986672</td><td style = \"text-align: right;\">0.878618</td><td style = \"text-align: right;\">0.249344</td><td style = \"text-align: right;\">0.0398086</td><td style = \"text-align: right;\">0.691803</td><td style = \"text-align: right;\">0.366339</td><td style = \"text-align: right;\">0.681381</td><td style = \"text-align: right;\">0.567613</td><td style = \"text-align: right;\">0.382262</td><td style = \"text-align: right;\">0.127118</td><td style = \"text-align: right;\">0.48651</td><td style = \"text-align: right;\">0.0466646</td><td style = \"text-align: right;\">0.440385</td><td style = \"text-align: right;\">0.746963</td><td style = \"text-align: right;\">&ctdot;</td></tr><tr><td class = \"rowNumber\" style = \"font-weight: bold; text-align: right;\">92</td><td style = \"text-align: right;\">0.742146</td><td style = \"text-align: right;\">0.593184</td><td style = \"text-align: right;\">0.649465</td><td style = \"text-align: right;\">0.920757</td><td style = \"text-align: right;\">0.427052</td><td style = \"text-align: right;\">0.724018</td><td style = \"text-align: right;\">0.693536</td><td style = \"text-align: right;\">0.257083</td><td style = \"text-align: right;\">0.183721</td><td style = \"text-align: right;\">0.86636</td><td style = \"text-align: right;\">0.916017</td><td style = \"text-align: right;\">0.672017</td><td style = \"text-align: right;\">0.454185</td><td style = \"text-align: right;\">0.724988</td><td style = \"text-align: right;\">0.117546</td><td style = \"text-align: right;\">0.873214</td><td style = \"text-align: right;\">0.346606</td><td style = \"text-align: right;\">0.669048</td><td style = \"text-align: right;\">0.334723</td><td style = \"text-align: right;\">0.344956</td><td style = \"text-align: right;\">0.601565</td><td style = \"text-align: right;\">0.154234</td><td style = \"text-align: right;\">0.336149</td><td style = \"text-align: right;\">0.99374</td><td style = \"text-align: right;\">0.486169</td><td style = \"text-align: right;\">0.576715</td><td style = \"text-align: right;\">0.675636</td><td style = \"text-align: right;\">0.467694</td><td style = \"text-align: right;\">0.244559</td><td style = \"text-align: right;\">0.82631</td><td style = \"text-align: right;\">0.910558</td><td style = \"text-align: right;\">0.019419</td><td style = \"text-align: right;\">0.188136</td><td style = \"text-align: right;\">0.871319</td><td style = \"text-align: right;\">0.259809</td><td style = \"text-align: right;\">0.833546</td><td style = \"text-align: right;\">0.498683</td><td style = \"text-align: right;\">0.703864</td><td style = \"text-align: right;\">0.413637</td><td style = \"text-align: right;\">0.215505</td><td style = \"text-align: right;\">0.00404648</td><td style = \"text-align: right;\">0.646794</td><td style = \"text-align: right;\">0.491542</td><td style = \"text-align: right;\">0.618472</td><td style = \"text-align: right;\">0.0403101</td><td style = \"text-align: right;\">0.529517</td><td style = \"text-align: right;\">0.622867</td><td style = \"text-align: right;\">0.852759</td><td style = \"text-align: right;\">0.879813</td><td style = \"text-align: right;\">0.491418</td><td style = \"text-align: right;\">0.356374</td><td style = \"text-align: right;\">0.105574</td><td style = \"text-align: right;\">0.437811</td><td style = \"text-align: right;\">0.0997638</td><td style = \"text-align: right;\">0.789396</td><td style = \"text-align: right;\">0.451452</td><td style = \"text-align: right;\">0.972465</td><td style = \"text-align: right;\">0.707979</td><td style = \"text-align: right;\">0.718175</td><td style = \"text-align: right;\">0.590754</td><td style = \"text-align: right;\">0.115545</td><td style = \"text-align: right;\">0.862913</td><td style = \"text-align: right;\">0.395162</td><td style = \"text-align: right;\">0.713577</td><td style = \"text-align: right;\">0.843662</td><td style = \"text-align: right;\">0.101442</td><td style = \"text-align: right;\">0.55002</td><td style = \"text-align: right;\">0.534283</td><td style = \"text-align: right;\">0.808804</td><td style = \"text-align: right;\">0.566635</td><td style = \"text-align: right;\">0.41197</td><td style = \"text-align: right;\">0.821366</td><td style = \"text-align: right;\">0.120041</td><td style = \"text-align: right;\">0.587934</td><td style = \"text-align: right;\">0.0110842</td><td style = \"text-align: right;\">0.735785</td><td style = \"text-align: right;\">0.236571</td><td style = \"text-align: right;\">0.527859</td><td style = \"text-align: right;\">0.974184</td><td style = \"text-align: right;\">0.280886</td><td style = \"text-align: right;\">0.769478</td><td style = \"text-align: right;\">0.769179</td><td style = \"text-align: right;\">0.00665371</td><td style = \"text-align: right;\">0.711196</td><td style = \"text-align: right;\">0.602764</td><td style = \"text-align: right;\">0.694581</td><td style = \"text-align: right;\">0.569294</td><td style = \"text-align: right;\">0.186915</td><td style = \"text-align: right;\">0.932924</td><td style = \"text-align: right;\">0.139072</td><td style = \"text-align: right;\">0.309471</td><td style = \"text-align: right;\">0.261707</td><td style = \"text-align: right;\">0.744792</td><td style = \"text-align: right;\">0.947591</td><td style = \"text-align: right;\">0.755155</td><td style = \"text-align: right;\">0.612512</td><td style = \"text-align: right;\">0.921621</td><td style = \"text-align: right;\">0.555469</td><td style = \"text-align: right;\">0.791444</td><td style = \"text-align: right;\">0.502404</td><td style = \"text-align: right;\">&ctdot;</td></tr><tr><td class = \"rowNumber\" style = \"font-weight: bold; text-align: right;\">93</td><td style = \"text-align: right;\">0.840003</td><td style = \"text-align: right;\">0.429186</td><td style = \"text-align: right;\">0.881643</td><td style = \"text-align: right;\">0.174076</td><td style = \"text-align: right;\">0.925689</td><td style = \"text-align: right;\">0.212341</td><td style = \"text-align: right;\">0.255308</td><td style = \"text-align: right;\">0.760642</td><td style = \"text-align: right;\">0.246491</td><td style = \"text-align: right;\">0.265738</td><td style = \"text-align: right;\">0.161523</td><td style = \"text-align: right;\">0.452064</td><td style = \"text-align: right;\">0.975474</td><td style = \"text-align: right;\">0.638797</td><td style = \"text-align: right;\">0.601266</td><td style = \"text-align: right;\">0.32524</td><td style = \"text-align: right;\">0.345259</td><td style = \"text-align: right;\">0.28182</td><td style = \"text-align: right;\">0.276055</td><td style = \"text-align: right;\">0.0642885</td><td style = \"text-align: right;\">0.323594</td><td style = \"text-align: right;\">0.900432</td><td style = \"text-align: right;\">0.286486</td><td style = \"text-align: right;\">0.263974</td><td style = \"text-align: right;\">0.324039</td><td style = \"text-align: right;\">0.0155354</td><td style = \"text-align: right;\">0.780711</td><td style = \"text-align: right;\">0.564549</td><td style = \"text-align: right;\">0.0213344</td><td style = \"text-align: right;\">0.701171</td><td style = \"text-align: right;\">0.216631</td><td style = \"text-align: right;\">0.361187</td><td style = \"text-align: right;\">0.700789</td><td style = \"text-align: right;\">0.823911</td><td style = \"text-align: right;\">0.470091</td><td style = \"text-align: right;\">0.914412</td><td style = \"text-align: right;\">0.538958</td><td style = \"text-align: right;\">0.0986963</td><td style = \"text-align: right;\">0.677377</td><td style = \"text-align: right;\">0.685216</td><td style = \"text-align: right;\">0.92124</td><td style = \"text-align: right;\">0.426642</td><td style = \"text-align: right;\">0.0510933</td><td style = \"text-align: right;\">0.484582</td><td style = \"text-align: right;\">0.494847</td><td style = \"text-align: right;\">0.492272</td><td style = \"text-align: right;\">0.450875</td><td style = \"text-align: right;\">0.362167</td><td style = \"text-align: right;\">0.984775</td><td style = \"text-align: right;\">0.48963</td><td style = \"text-align: right;\">0.771704</td><td style = \"text-align: right;\">0.71941</td><td style = \"text-align: right;\">0.829922</td><td style = \"text-align: right;\">0.196462</td><td style = \"text-align: right;\">0.740174</td><td style = \"text-align: right;\">0.10517</td><td style = \"text-align: right;\">0.0218351</td><td style = \"text-align: right;\">0.0694876</td><td style = \"text-align: right;\">0.745683</td><td style = \"text-align: right;\">0.0614272</td><td style = \"text-align: right;\">0.158085</td><td style = \"text-align: right;\">0.778152</td><td style = \"text-align: right;\">0.317288</td><td style = \"text-align: right;\">0.191714</td><td style = \"text-align: right;\">0.714221</td><td style = \"text-align: right;\">0.721849</td><td style = \"text-align: right;\">0.30824</td><td style = \"text-align: right;\">0.826034</td><td style = \"text-align: right;\">0.922781</td><td style = \"text-align: right;\">0.39923</td><td style = \"text-align: right;\">0.0898934</td><td style = \"text-align: right;\">0.981247</td><td style = \"text-align: right;\">0.306521</td><td style = \"text-align: right;\">0.536535</td><td style = \"text-align: right;\">0.164428</td><td style = \"text-align: right;\">0.89453</td><td style = \"text-align: right;\">0.367816</td><td style = \"text-align: right;\">0.905659</td><td style = \"text-align: right;\">0.301786</td><td style = \"text-align: right;\">0.823141</td><td style = \"text-align: right;\">0.213363</td><td style = \"text-align: right;\">0.000137726</td><td style = \"text-align: right;\">0.831532</td><td style = \"text-align: right;\">0.983945</td><td style = \"text-align: right;\">0.748614</td><td style = \"text-align: right;\">0.710614</td><td style = \"text-align: right;\">0.609033</td><td style = \"text-align: right;\">0.634594</td><td style = \"text-align: right;\">0.0888622</td><td style = \"text-align: right;\">0.161505</td><td style = \"text-align: right;\">0.875952</td><td style = \"text-align: right;\">0.907997</td><td style = \"text-align: right;\">0.667131</td><td style = \"text-align: right;\">0.230558</td><td style = \"text-align: right;\">0.610972</td><td style = \"text-align: right;\">0.503461</td><td style = \"text-align: right;\">0.947279</td><td style = \"text-align: right;\">0.425662</td><td style = \"text-align: right;\">0.739467</td><td style = \"text-align: right;\">0.850059</td><td style = \"text-align: right;\">&ctdot;</td></tr><tr><td class = \"rowNumber\" style = \"font-weight: bold; text-align: right;\">94</td><td style = \"text-align: right;\">0.945585</td><td style = \"text-align: right;\">0.721851</td><td style = \"text-align: right;\">0.456302</td><td style = \"text-align: right;\">0.447657</td><td style = \"text-align: right;\">0.810484</td><td style = \"text-align: right;\">0.770983</td><td style = \"text-align: right;\">0.114283</td><td style = \"text-align: right;\">0.624231</td><td style = \"text-align: right;\">0.837494</td><td style = \"text-align: right;\">0.808907</td><td style = \"text-align: right;\">0.825389</td><td style = \"text-align: right;\">0.979377</td><td style = \"text-align: right;\">0.441144</td><td style = \"text-align: right;\">0.118705</td><td style = \"text-align: right;\">0.573035</td><td style = \"text-align: right;\">0.203807</td><td style = \"text-align: right;\">0.456211</td><td style = \"text-align: right;\">0.39778</td><td style = \"text-align: right;\">0.844554</td><td style = \"text-align: right;\">0.575377</td><td style = \"text-align: right;\">0.407578</td><td style = \"text-align: right;\">0.877618</td><td style = \"text-align: right;\">0.846579</td><td style = \"text-align: right;\">0.164777</td><td style = \"text-align: right;\">0.176594</td><td style = \"text-align: right;\">0.775161</td><td style = \"text-align: right;\">0.547967</td><td style = \"text-align: right;\">0.298513</td><td style = \"text-align: right;\">0.327222</td><td style = \"text-align: right;\">0.111197</td><td style = \"text-align: right;\">0.908572</td><td style = \"text-align: right;\">0.174783</td><td style = \"text-align: right;\">0.901833</td><td style = \"text-align: right;\">0.28888</td><td style = \"text-align: right;\">0.478482</td><td style = \"text-align: right;\">0.160729</td><td style = \"text-align: right;\">0.983636</td><td style = \"text-align: right;\">0.469725</td><td style = \"text-align: right;\">0.770664</td><td style = \"text-align: right;\">0.962597</td><td style = \"text-align: right;\">0.835686</td><td style = \"text-align: right;\">0.38815</td><td style = \"text-align: right;\">0.124782</td><td style = \"text-align: right;\">0.384832</td><td style = \"text-align: right;\">0.391141</td><td style = \"text-align: right;\">0.520721</td><td style = \"text-align: right;\">0.228124</td><td style = \"text-align: right;\">0.328177</td><td style = \"text-align: right;\">0.271996</td><td style = \"text-align: right;\">0.149637</td><td style = \"text-align: right;\">0.773059</td><td style = \"text-align: right;\">0.0810946</td><td style = \"text-align: right;\">0.107941</td><td style = \"text-align: right;\">0.762079</td><td style = \"text-align: right;\">0.162536</td><td style = \"text-align: right;\">0.877791</td><td style = \"text-align: right;\">0.398336</td><td style = \"text-align: right;\">0.977052</td><td style = \"text-align: right;\">0.755831</td><td style = \"text-align: right;\">0.736574</td><td style = \"text-align: right;\">0.657471</td><td style = \"text-align: right;\">0.264294</td><td style = \"text-align: right;\">0.201043</td><td style = \"text-align: right;\">0.361502</td><td style = \"text-align: right;\">0.373337</td><td style = \"text-align: right;\">0.798483</td><td style = \"text-align: right;\">0.236466</td><td style = \"text-align: right;\">0.776988</td><td style = \"text-align: right;\">0.816737</td><td style = \"text-align: right;\">0.086909</td><td style = \"text-align: right;\">0.885905</td><td style = \"text-align: right;\">0.310833</td><td style = \"text-align: right;\">0.762299</td><td style = \"text-align: right;\">0.393852</td><td style = \"text-align: right;\">0.861912</td><td style = \"text-align: right;\">0.599871</td><td style = \"text-align: right;\">0.712325</td><td style = \"text-align: right;\">0.928452</td><td style = \"text-align: right;\">0.720876</td><td style = \"text-align: right;\">0.341119</td><td style = \"text-align: right;\">0.108066</td><td style = \"text-align: right;\">0.188002</td><td style = \"text-align: right;\">0.52253</td><td style = \"text-align: right;\">0.145956</td><td style = \"text-align: right;\">0.206857</td><td style = \"text-align: right;\">0.773706</td><td style = \"text-align: right;\">0.761541</td><td style = \"text-align: right;\">0.935535</td><td style = \"text-align: right;\">0.950401</td><td style = \"text-align: right;\">0.393728</td><td style = \"text-align: right;\">0.899811</td><td style = \"text-align: right;\">0.056598</td><td style = \"text-align: right;\">0.866909</td><td style = \"text-align: right;\">0.0904958</td><td style = \"text-align: right;\">0.483321</td><td style = \"text-align: right;\">0.989005</td><td style = \"text-align: right;\">0.575972</td><td style = \"text-align: right;\">0.238805</td><td style = \"text-align: right;\">0.551914</td><td style = \"text-align: right;\">0.459707</td><td style = \"text-align: right;\">&ctdot;</td></tr><tr><td class = \"rowNumber\" style = \"font-weight: bold; text-align: right;\">95</td><td style = \"text-align: right;\">0.0279927</td><td style = \"text-align: right;\">0.126131</td><td style = \"text-align: right;\">0.426269</td><td style = \"text-align: right;\">0.670125</td><td style = \"text-align: right;\">0.337946</td><td style = \"text-align: right;\">0.57458</td><td style = \"text-align: right;\">0.472516</td><td style = \"text-align: right;\">0.491217</td><td style = \"text-align: right;\">0.406646</td><td style = \"text-align: right;\">0.843635</td><td style = \"text-align: right;\">0.877754</td><td style = \"text-align: right;\">0.608706</td><td style = \"text-align: right;\">0.161527</td><td style = \"text-align: right;\">0.796678</td><td style = \"text-align: right;\">0.305755</td><td style = \"text-align: right;\">0.559595</td><td style = \"text-align: right;\">0.339649</td><td style = \"text-align: right;\">0.225866</td><td style = \"text-align: right;\">0.552273</td><td style = \"text-align: right;\">0.347591</td><td style = \"text-align: right;\">0.322726</td><td style = \"text-align: right;\">0.821678</td><td style = \"text-align: right;\">0.776494</td><td style = \"text-align: right;\">0.964467</td><td style = \"text-align: right;\">0.861085</td><td style = \"text-align: right;\">0.637956</td><td style = \"text-align: right;\">0.370947</td><td style = \"text-align: right;\">0.115637</td><td style = \"text-align: right;\">0.232334</td><td style = \"text-align: right;\">0.307633</td><td style = \"text-align: right;\">0.193556</td><td style = \"text-align: right;\">0.738198</td><td style = \"text-align: right;\">0.0405969</td><td style = \"text-align: right;\">0.134841</td><td style = \"text-align: right;\">0.406889</td><td style = \"text-align: right;\">0.207268</td><td style = \"text-align: right;\">0.43293</td><td style = \"text-align: right;\">0.316123</td><td style = \"text-align: right;\">0.704939</td><td style = \"text-align: right;\">0.839276</td><td style = \"text-align: right;\">0.79549</td><td style = \"text-align: right;\">0.902515</td><td style = \"text-align: right;\">0.66083</td><td style = \"text-align: right;\">0.159779</td><td style = \"text-align: right;\">0.974398</td><td style = \"text-align: right;\">0.680384</td><td style = \"text-align: right;\">0.737281</td><td style = \"text-align: right;\">0.98312</td><td style = \"text-align: right;\">0.615188</td><td style = \"text-align: right;\">0.401832</td><td style = \"text-align: right;\">0.192654</td><td style = \"text-align: right;\">0.0745161</td><td style = \"text-align: right;\">0.458751</td><td style = \"text-align: right;\">0.22082</td><td style = \"text-align: right;\">0.299926</td><td style = \"text-align: right;\">0.554378</td><td style = \"text-align: right;\">0.688538</td><td style = \"text-align: right;\">0.0255889</td><td style = \"text-align: right;\">0.936043</td><td style = \"text-align: right;\">0.629956</td><td style = \"text-align: right;\">0.0404266</td><td style = \"text-align: right;\">0.90248</td><td style = \"text-align: right;\">0.689113</td><td style = \"text-align: right;\">0.830676</td><td style = \"text-align: right;\">0.974517</td><td style = \"text-align: right;\">0.42728</td><td style = \"text-align: right;\">0.0847098</td><td style = \"text-align: right;\">0.543537</td><td style = \"text-align: right;\">0.703478</td><td style = \"text-align: right;\">0.341808</td><td style = \"text-align: right;\">0.813911</td><td style = \"text-align: right;\">0.824182</td><td style = \"text-align: right;\">0.830705</td><td style = \"text-align: right;\">0.325614</td><td style = \"text-align: right;\">0.635102</td><td style = \"text-align: right;\">0.784442</td><td style = \"text-align: right;\">0.63125</td><td style = \"text-align: right;\">0.122114</td><td style = \"text-align: right;\">0.914248</td><td style = \"text-align: right;\">0.116521</td><td style = \"text-align: right;\">0.342521</td><td style = \"text-align: right;\">0.873879</td><td style = \"text-align: right;\">0.0850793</td><td style = \"text-align: right;\">0.561357</td><td style = \"text-align: right;\">0.0378601</td><td style = \"text-align: right;\">0.979486</td><td style = \"text-align: right;\">0.333607</td><td style = \"text-align: right;\">0.0386176</td><td style = \"text-align: right;\">0.50892</td><td style = \"text-align: right;\">0.481139</td><td style = \"text-align: right;\">0.579706</td><td style = \"text-align: right;\">0.182248</td><td style = \"text-align: right;\">0.449583</td><td style = \"text-align: right;\">0.598653</td><td style = \"text-align: right;\">0.353761</td><td style = \"text-align: right;\">0.454006</td><td style = \"text-align: right;\">0.0936563</td><td style = \"text-align: right;\">0.931414</td><td style = \"text-align: right;\">0.664139</td><td style = \"text-align: right;\">0.514502</td><td style = \"text-align: right;\">&ctdot;</td></tr><tr><td class = \"rowNumber\" style = \"font-weight: bold; text-align: right;\">96</td><td style = \"text-align: right;\">0.839403</td><td style = \"text-align: right;\">0.646285</td><td style = \"text-align: right;\">0.73349</td><td style = \"text-align: right;\">0.988319</td><td style = \"text-align: right;\">0.50672</td><td style = \"text-align: right;\">0.123383</td><td style = \"text-align: right;\">0.470882</td><td style = \"text-align: right;\">0.717526</td><td style = \"text-align: right;\">0.83695</td><td style = \"text-align: right;\">0.132311</td><td style = \"text-align: right;\">0.681419</td><td style = \"text-align: right;\">0.162084</td><td style = \"text-align: right;\">0.662939</td><td style = \"text-align: right;\">0.839042</td><td style = \"text-align: right;\">0.152472</td><td style = \"text-align: right;\">0.109867</td><td style = \"text-align: right;\">0.896991</td><td style = \"text-align: right;\">0.672295</td><td style = \"text-align: right;\">0.249763</td><td style = \"text-align: right;\">0.154055</td><td style = \"text-align: right;\">0.291175</td><td style = \"text-align: right;\">0.441207</td><td style = \"text-align: right;\">0.97093</td><td style = \"text-align: right;\">0.335445</td><td style = \"text-align: right;\">0.398878</td><td style = \"text-align: right;\">0.810233</td><td style = \"text-align: right;\">0.170498</td><td style = \"text-align: right;\">0.844536</td><td style = \"text-align: right;\">0.0545823</td><td style = \"text-align: right;\">0.089407</td><td style = \"text-align: right;\">0.327164</td><td style = \"text-align: right;\">0.98785</td><td style = \"text-align: right;\">0.293064</td><td style = \"text-align: right;\">0.210154</td><td style = \"text-align: right;\">0.501406</td><td style = \"text-align: right;\">0.139977</td><td style = \"text-align: right;\">0.280002</td><td style = \"text-align: right;\">0.688106</td><td style = \"text-align: right;\">0.654705</td><td style = \"text-align: right;\">0.188</td><td style = \"text-align: right;\">0.0549002</td><td style = \"text-align: right;\">0.131142</td><td style = \"text-align: right;\">0.273801</td><td style = \"text-align: right;\">0.210684</td><td style = \"text-align: right;\">0.386717</td><td style = \"text-align: right;\">0.339061</td><td style = \"text-align: right;\">0.710721</td><td style = \"text-align: right;\">0.249539</td><td style = \"text-align: right;\">0.321793</td><td style = \"text-align: right;\">0.605087</td><td style = \"text-align: right;\">0.69654</td><td style = \"text-align: right;\">0.220164</td><td style = \"text-align: right;\">0.872835</td><td style = \"text-align: right;\">0.378962</td><td style = \"text-align: right;\">0.249471</td><td style = \"text-align: right;\">0.433455</td><td style = \"text-align: right;\">0.0198853</td><td style = \"text-align: right;\">0.807238</td><td style = \"text-align: right;\">0.0610563</td><td style = \"text-align: right;\">0.953134</td><td style = \"text-align: right;\">0.760319</td><td style = \"text-align: right;\">0.421483</td><td style = \"text-align: right;\">0.799454</td><td style = \"text-align: right;\">0.161363</td><td style = \"text-align: right;\">0.265931</td><td style = \"text-align: right;\">0.872866</td><td style = \"text-align: right;\">0.59181</td><td style = \"text-align: right;\">0.438307</td><td style = \"text-align: right;\">0.0100025</td><td style = \"text-align: right;\">0.820781</td><td style = \"text-align: right;\">0.255835</td><td style = \"text-align: right;\">0.238799</td><td style = \"text-align: right;\">0.521546</td><td style = \"text-align: right;\">0.378082</td><td style = \"text-align: right;\">0.979901</td><td style = \"text-align: right;\">0.146281</td><td style = \"text-align: right;\">0.780732</td><td style = \"text-align: right;\">0.158611</td><td style = \"text-align: right;\">0.81745</td><td style = \"text-align: right;\">0.0616101</td><td style = \"text-align: right;\">0.72483</td><td style = \"text-align: right;\">0.518664</td><td style = \"text-align: right;\">0.503984</td><td style = \"text-align: right;\">0.689661</td><td style = \"text-align: right;\">0.990528</td><td style = \"text-align: right;\">0.989934</td><td style = \"text-align: right;\">0.153829</td><td style = \"text-align: right;\">0.446413</td><td style = \"text-align: right;\">0.763165</td><td style = \"text-align: right;\">0.786041</td><td style = \"text-align: right;\">0.418068</td><td style = \"text-align: right;\">0.2221</td><td style = \"text-align: right;\">0.57643</td><td style = \"text-align: right;\">0.596593</td><td style = \"text-align: right;\">0.204768</td><td style = \"text-align: right;\">0.455634</td><td style = \"text-align: right;\">0.209719</td><td style = \"text-align: right;\">0.444226</td><td style = \"text-align: right;\">0.129554</td><td style = \"text-align: right;\">0.360494</td><td style = \"text-align: right;\">&ctdot;</td></tr><tr><td class = \"rowNumber\" style = \"font-weight: bold; text-align: right;\">97</td><td style = \"text-align: right;\">0.981992</td><td style = \"text-align: right;\">0.102632</td><td style = \"text-align: right;\">0.0566597</td><td style = \"text-align: right;\">0.197039</td><td style = \"text-align: right;\">0.396888</td><td style = \"text-align: right;\">0.871891</td><td style = \"text-align: right;\">0.696394</td><td style = \"text-align: right;\">0.469219</td><td style = \"text-align: right;\">0.548366</td><td style = \"text-align: right;\">0.36058</td><td style = \"text-align: right;\">0.228838</td><td style = \"text-align: right;\">0.444032</td><td style = \"text-align: right;\">0.0927212</td><td style = \"text-align: right;\">0.523214</td><td style = \"text-align: right;\">0.704298</td><td style = \"text-align: right;\">0.249055</td><td style = \"text-align: right;\">0.983541</td><td style = \"text-align: right;\">0.646209</td><td style = \"text-align: right;\">0.0693315</td><td style = \"text-align: right;\">0.527201</td><td style = \"text-align: right;\">0.408198</td><td style = \"text-align: right;\">0.881007</td><td style = \"text-align: right;\">0.223388</td><td style = \"text-align: right;\">0.783488</td><td style = \"text-align: right;\">0.260756</td><td style = \"text-align: right;\">0.365956</td><td style = \"text-align: right;\">0.697721</td><td style = \"text-align: right;\">0.558669</td><td style = \"text-align: right;\">0.0540357</td><td style = \"text-align: right;\">0.777852</td><td style = \"text-align: right;\">0.280012</td><td style = \"text-align: right;\">0.585445</td><td style = \"text-align: right;\">0.973694</td><td style = \"text-align: right;\">0.423471</td><td style = \"text-align: right;\">0.477745</td><td style = \"text-align: right;\">0.477819</td><td style = \"text-align: right;\">0.36684</td><td style = \"text-align: right;\">0.206582</td><td style = \"text-align: right;\">0.969378</td><td style = \"text-align: right;\">0.971583</td><td style = \"text-align: right;\">0.113756</td><td style = \"text-align: right;\">0.920767</td><td style = \"text-align: right;\">0.948763</td><td style = \"text-align: right;\">0.835164</td><td style = \"text-align: right;\">0.818927</td><td style = \"text-align: right;\">0.106612</td><td style = \"text-align: right;\">0.323081</td><td style = \"text-align: right;\">0.382999</td><td style = \"text-align: right;\">0.581168</td><td style = \"text-align: right;\">0.22323</td><td style = \"text-align: right;\">0.673089</td><td style = \"text-align: right;\">0.616389</td><td style = \"text-align: right;\">0.106457</td><td style = \"text-align: right;\">0.885017</td><td style = \"text-align: right;\">0.946929</td><td style = \"text-align: right;\">0.494918</td><td style = \"text-align: right;\">0.380724</td><td style = \"text-align: right;\">0.0157922</td><td style = \"text-align: right;\">0.187313</td><td style = \"text-align: right;\">0.353835</td><td style = \"text-align: right;\">0.868126</td><td style = \"text-align: right;\">0.318547</td><td style = \"text-align: right;\">0.944733</td><td style = \"text-align: right;\">0.0765736</td><td style = \"text-align: right;\">0.116141</td><td style = \"text-align: right;\">0.401431</td><td style = \"text-align: right;\">0.935452</td><td style = \"text-align: right;\">0.218571</td><td style = \"text-align: right;\">0.295412</td><td style = \"text-align: right;\">0.208849</td><td style = \"text-align: right;\">0.537153</td><td style = \"text-align: right;\">0.358825</td><td style = \"text-align: right;\">0.672628</td><td style = \"text-align: right;\">0.792533</td><td style = \"text-align: right;\">0.488493</td><td style = \"text-align: right;\">0.0174328</td><td style = \"text-align: right;\">0.159584</td><td style = \"text-align: right;\">0.679711</td><td style = \"text-align: right;\">0.801162</td><td style = \"text-align: right;\">0.130706</td><td style = \"text-align: right;\">0.343913</td><td style = \"text-align: right;\">0.440737</td><td style = \"text-align: right;\">0.499006</td><td style = \"text-align: right;\">0.988661</td><td style = \"text-align: right;\">0.600532</td><td style = \"text-align: right;\">0.414007</td><td style = \"text-align: right;\">0.15876</td><td style = \"text-align: right;\">0.557212</td><td style = \"text-align: right;\">0.378057</td><td style = \"text-align: right;\">0.767475</td><td style = \"text-align: right;\">0.124003</td><td style = \"text-align: right;\">0.868697</td><td style = \"text-align: right;\">0.300643</td><td style = \"text-align: right;\">0.999564</td><td style = \"text-align: right;\">0.110845</td><td style = \"text-align: right;\">0.742761</td><td style = \"text-align: right;\">0.22785</td><td style = \"text-align: right;\">0.0317314</td><td style = \"text-align: right;\">0.0153481</td><td style = \"text-align: right;\">0.864848</td><td style = \"text-align: right;\">&ctdot;</td></tr><tr><td class = \"rowNumber\" style = \"font-weight: bold; text-align: right;\">98</td><td style = \"text-align: right;\">0.356062</td><td style = \"text-align: right;\">0.00161124</td><td style = \"text-align: right;\">0.961467</td><td style = \"text-align: right;\">0.278566</td><td style = \"text-align: right;\">0.547309</td><td style = \"text-align: right;\">0.910877</td><td style = \"text-align: right;\">0.0947974</td><td style = \"text-align: right;\">0.0542564</td><td style = \"text-align: right;\">0.482143</td><td style = \"text-align: right;\">0.844119</td><td style = \"text-align: right;\">0.759335</td><td style = \"text-align: right;\">0.253338</td><td style = \"text-align: right;\">0.0998726</td><td style = \"text-align: right;\">0.565682</td><td style = \"text-align: right;\">0.322706</td><td style = \"text-align: right;\">0.718627</td><td style = \"text-align: right;\">0.981848</td><td style = \"text-align: right;\">0.546289</td><td style = \"text-align: right;\">0.764806</td><td style = \"text-align: right;\">0.213714</td><td style = \"text-align: right;\">0.270828</td><td style = \"text-align: right;\">0.185162</td><td style = \"text-align: right;\">0.08496</td><td style = \"text-align: right;\">0.14709</td><td style = \"text-align: right;\">0.515637</td><td style = \"text-align: right;\">0.406272</td><td style = \"text-align: right;\">0.392321</td><td style = \"text-align: right;\">0.735894</td><td style = \"text-align: right;\">0.552884</td><td style = \"text-align: right;\">0.16639</td><td style = \"text-align: right;\">0.989481</td><td style = \"text-align: right;\">0.244377</td><td style = \"text-align: right;\">0.654982</td><td style = \"text-align: right;\">0.0718063</td><td style = \"text-align: right;\">0.703277</td><td style = \"text-align: right;\">0.11379</td><td style = \"text-align: right;\">0.5431</td><td style = \"text-align: right;\">0.947871</td><td style = \"text-align: right;\">0.172915</td><td style = \"text-align: right;\">0.366278</td><td style = \"text-align: right;\">0.885507</td><td style = \"text-align: right;\">0.0355348</td><td style = \"text-align: right;\">0.00611544</td><td style = \"text-align: right;\">0.036421</td><td style = \"text-align: right;\">0.458927</td><td style = \"text-align: right;\">0.964664</td><td style = \"text-align: right;\">0.318896</td><td style = \"text-align: right;\">0.550474</td><td style = \"text-align: right;\">0.969797</td><td style = \"text-align: right;\">0.583684</td><td style = \"text-align: right;\">0.36251</td><td style = \"text-align: right;\">0.44723</td><td style = \"text-align: right;\">0.0714907</td><td style = \"text-align: right;\">0.276043</td><td style = \"text-align: right;\">0.049715</td><td style = \"text-align: right;\">0.813996</td><td style = \"text-align: right;\">0.0415014</td><td style = \"text-align: right;\">0.0735111</td><td style = \"text-align: right;\">0.167369</td><td style = \"text-align: right;\">0.118723</td><td style = \"text-align: right;\">0.415684</td><td style = \"text-align: right;\">0.460485</td><td style = \"text-align: right;\">0.154188</td><td style = \"text-align: right;\">0.124962</td><td style = \"text-align: right;\">0.367588</td><td style = \"text-align: right;\">0.162561</td><td style = \"text-align: right;\">0.668102</td><td style = \"text-align: right;\">0.878508</td><td style = \"text-align: right;\">0.160328</td><td style = \"text-align: right;\">0.379806</td><td style = \"text-align: right;\">0.776029</td><td style = \"text-align: right;\">0.74262</td><td style = \"text-align: right;\">0.42502</td><td style = \"text-align: right;\">0.260113</td><td style = \"text-align: right;\">0.615796</td><td style = \"text-align: right;\">0.0813763</td><td style = \"text-align: right;\">0.623671</td><td style = \"text-align: right;\">0.620279</td><td style = \"text-align: right;\">0.671975</td><td style = \"text-align: right;\">0.584342</td><td style = \"text-align: right;\">0.210386</td><td style = \"text-align: right;\">0.463352</td><td style = \"text-align: right;\">0.618009</td><td style = \"text-align: right;\">0.705016</td><td style = \"text-align: right;\">0.242393</td><td style = \"text-align: right;\">0.8169</td><td style = \"text-align: right;\">0.409832</td><td style = \"text-align: right;\">0.603907</td><td style = \"text-align: right;\">0.736145</td><td style = \"text-align: right;\">0.665099</td><td style = \"text-align: right;\">0.907066</td><td style = \"text-align: right;\">0.233675</td><td style = \"text-align: right;\">0.198204</td><td style = \"text-align: right;\">0.805934</td><td style = \"text-align: right;\">0.713483</td><td style = \"text-align: right;\">0.794663</td><td style = \"text-align: right;\">0.713648</td><td style = \"text-align: right;\">0.460649</td><td style = \"text-align: right;\">0.877265</td><td style = \"text-align: right;\">0.140089</td><td style = \"text-align: right;\">&ctdot;</td></tr><tr><td class = \"rowNumber\" style = \"font-weight: bold; text-align: right;\">99</td><td style = \"text-align: right;\">0.614168</td><td style = \"text-align: right;\">0.754572</td><td style = \"text-align: right;\">0.879011</td><td style = \"text-align: right;\">0.207261</td><td style = \"text-align: right;\">0.126653</td><td style = \"text-align: right;\">0.869711</td><td style = \"text-align: right;\">0.899621</td><td style = \"text-align: right;\">0.685629</td><td style = \"text-align: right;\">0.0715959</td><td style = \"text-align: right;\">0.180717</td><td style = \"text-align: right;\">0.608448</td><td style = \"text-align: right;\">0.129672</td><td style = \"text-align: right;\">0.336348</td><td style = \"text-align: right;\">0.766987</td><td style = \"text-align: right;\">0.537669</td><td style = \"text-align: right;\">0.840961</td><td style = \"text-align: right;\">0.242647</td><td style = \"text-align: right;\">0.949303</td><td style = \"text-align: right;\">0.0733215</td><td style = \"text-align: right;\">0.206025</td><td style = \"text-align: right;\">0.402723</td><td style = \"text-align: right;\">0.86921</td><td style = \"text-align: right;\">0.867302</td><td style = \"text-align: right;\">0.45946</td><td style = \"text-align: right;\">0.244686</td><td style = \"text-align: right;\">0.455049</td><td style = \"text-align: right;\">0.352942</td><td style = \"text-align: right;\">0.365216</td><td style = \"text-align: right;\">0.361002</td><td style = \"text-align: right;\">0.30793</td><td style = \"text-align: right;\">0.748233</td><td style = \"text-align: right;\">0.894867</td><td style = \"text-align: right;\">0.040395</td><td style = \"text-align: right;\">0.690617</td><td style = \"text-align: right;\">0.138781</td><td style = \"text-align: right;\">0.174812</td><td style = \"text-align: right;\">0.822369</td><td style = \"text-align: right;\">0.987723</td><td style = \"text-align: right;\">0.984307</td><td style = \"text-align: right;\">0.0598428</td><td style = \"text-align: right;\">0.865145</td><td style = \"text-align: right;\">0.318899</td><td style = \"text-align: right;\">0.326754</td><td style = \"text-align: right;\">0.998005</td><td style = \"text-align: right;\">0.650774</td><td style = \"text-align: right;\">0.846392</td><td style = \"text-align: right;\">0.150406</td><td style = \"text-align: right;\">0.0127518</td><td style = \"text-align: right;\">0.0766646</td><td style = \"text-align: right;\">0.0659813</td><td style = \"text-align: right;\">0.729211</td><td style = \"text-align: right;\">0.966044</td><td style = \"text-align: right;\">0.646452</td><td style = \"text-align: right;\">0.992024</td><td style = \"text-align: right;\">0.818029</td><td style = \"text-align: right;\">0.600133</td><td style = \"text-align: right;\">0.690396</td><td style = \"text-align: right;\">0.702988</td><td style = \"text-align: right;\">0.429277</td><td style = \"text-align: right;\">0.541</td><td style = \"text-align: right;\">0.710021</td><td style = \"text-align: right;\">0.648145</td><td style = \"text-align: right;\">0.608827</td><td style = \"text-align: right;\">0.629146</td><td style = \"text-align: right;\">0.299041</td><td style = \"text-align: right;\">0.974502</td><td style = \"text-align: right;\">0.692867</td><td style = \"text-align: right;\">0.345167</td><td style = \"text-align: right;\">0.849801</td><td style = \"text-align: right;\">0.780448</td><td style = \"text-align: right;\">0.996857</td><td style = \"text-align: right;\">0.201303</td><td style = \"text-align: right;\">0.772422</td><td style = \"text-align: right;\">0.975436</td><td style = \"text-align: right;\">0.217481</td><td style = \"text-align: right;\">0.815831</td><td style = \"text-align: right;\">0.954749</td><td style = \"text-align: right;\">0.422407</td><td style = \"text-align: right;\">0.11536</td><td style = \"text-align: right;\">0.299591</td><td style = \"text-align: right;\">0.0983382</td><td style = \"text-align: right;\">0.607535</td><td style = \"text-align: right;\">0.831629</td><td style = \"text-align: right;\">0.725771</td><td style = \"text-align: right;\">0.89952</td><td style = \"text-align: right;\">0.509813</td><td style = \"text-align: right;\">0.325287</td><td style = \"text-align: right;\">0.770408</td><td style = \"text-align: right;\">0.832314</td><td style = \"text-align: right;\">0.590819</td><td style = \"text-align: right;\">0.85131</td><td style = \"text-align: right;\">0.412898</td><td style = \"text-align: right;\">0.290767</td><td style = \"text-align: right;\">0.0165873</td><td style = \"text-align: right;\">0.652004</td><td style = \"text-align: right;\">0.767971</td><td style = \"text-align: right;\">0.92733</td><td style = \"text-align: right;\">0.20991</td><td style = \"text-align: right;\">0.808502</td><td style = \"text-align: right;\">0.145529</td><td style = \"text-align: right;\">&ctdot;</td></tr><tr><td class = \"rowNumber\" style = \"font-weight: bold; text-align: right;\">100</td><td style = \"text-align: right;\">0.362643</td><td style = \"text-align: right;\">0.386452</td><td style = \"text-align: right;\">0.854737</td><td style = \"text-align: right;\">0.517233</td><td style = \"text-align: right;\">0.626676</td><td style = \"text-align: right;\">0.0814273</td><td style = \"text-align: right;\">0.868697</td><td style = \"text-align: right;\">0.0842273</td><td style = \"text-align: right;\">0.787943</td><td style = \"text-align: right;\">0.267247</td><td style = \"text-align: right;\">0.188579</td><td style = \"text-align: right;\">0.475336</td><td style = \"text-align: right;\">0.373139</td><td style = \"text-align: right;\">0.368213</td><td style = \"text-align: right;\">0.956035</td><td style = \"text-align: right;\">0.45486</td><td style = \"text-align: right;\">0.0680082</td><td style = \"text-align: right;\">0.834666</td><td style = \"text-align: right;\">0.513556</td><td style = \"text-align: right;\">0.530289</td><td style = \"text-align: right;\">0.637453</td><td style = \"text-align: right;\">0.0258898</td><td style = \"text-align: right;\">0.753317</td><td style = \"text-align: right;\">0.529061</td><td style = \"text-align: right;\">0.0341561</td><td style = \"text-align: right;\">0.327137</td><td style = \"text-align: right;\">0.157296</td><td style = \"text-align: right;\">0.20671</td><td style = \"text-align: right;\">0.496086</td><td style = \"text-align: right;\">0.53922</td><td style = \"text-align: right;\">0.810344</td><td style = \"text-align: right;\">0.0346523</td><td style = \"text-align: right;\">0.598195</td><td style = \"text-align: right;\">0.287244</td><td style = \"text-align: right;\">0.649126</td><td style = \"text-align: right;\">0.913598</td><td style = \"text-align: right;\">0.396043</td><td style = \"text-align: right;\">0.614053</td><td style = \"text-align: right;\">0.355292</td><td style = \"text-align: right;\">0.066274</td><td style = \"text-align: right;\">0.160926</td><td style = \"text-align: right;\">0.516514</td><td style = \"text-align: right;\">0.0610403</td><td style = \"text-align: right;\">0.593183</td><td style = \"text-align: right;\">0.463234</td><td style = \"text-align: right;\">0.617502</td><td style = \"text-align: right;\">0.136497</td><td style = \"text-align: right;\">0.781512</td><td style = \"text-align: right;\">0.329109</td><td style = \"text-align: right;\">0.0234345</td><td style = \"text-align: right;\">0.862239</td><td style = \"text-align: right;\">0.334437</td><td style = \"text-align: right;\">0.634029</td><td style = \"text-align: right;\">0.066167</td><td style = \"text-align: right;\">0.0810508</td><td style = \"text-align: right;\">0.35197</td><td style = \"text-align: right;\">0.135036</td><td style = \"text-align: right;\">0.413869</td><td style = \"text-align: right;\">0.0964058</td><td style = \"text-align: right;\">0.973995</td><td style = \"text-align: right;\">0.255769</td><td style = \"text-align: right;\">0.313009</td><td style = \"text-align: right;\">0.291709</td><td style = \"text-align: right;\">0.242771</td><td style = \"text-align: right;\">0.824925</td><td style = \"text-align: right;\">0.0847614</td><td style = \"text-align: right;\">0.2544</td><td style = \"text-align: right;\">0.645295</td><td style = \"text-align: right;\">0.225083</td><td style = \"text-align: right;\">0.88417</td><td style = \"text-align: right;\">0.0723831</td><td style = \"text-align: right;\">0.784108</td><td style = \"text-align: right;\">0.941819</td><td style = \"text-align: right;\">0.724552</td><td style = \"text-align: right;\">0.833245</td><td style = \"text-align: right;\">0.856146</td><td style = \"text-align: right;\">0.575921</td><td style = \"text-align: right;\">0.758629</td><td style = \"text-align: right;\">0.181202</td><td style = \"text-align: right;\">0.432947</td><td style = \"text-align: right;\">0.641216</td><td style = \"text-align: right;\">0.850491</td><td style = \"text-align: right;\">0.280244</td><td style = \"text-align: right;\">0.744715</td><td style = \"text-align: right;\">0.066778</td><td style = \"text-align: right;\">0.957883</td><td style = \"text-align: right;\">0.986992</td><td style = \"text-align: right;\">0.342219</td><td style = \"text-align: right;\">0.911738</td><td style = \"text-align: right;\">0.905899</td><td style = \"text-align: right;\">0.770494</td><td style = \"text-align: right;\">0.264084</td><td style = \"text-align: right;\">0.671989</td><td style = \"text-align: right;\">0.669716</td><td style = \"text-align: right;\">0.674243</td><td style = \"text-align: right;\">0.653955</td><td style = \"text-align: right;\">0.915837</td><td style = \"text-align: right;\">0.78396</td><td style = \"text-align: right;\">0.318931</td><td style = \"text-align: right;\">0.480601</td><td style = \"text-align: right;\">&ctdot;</td></tr></tbody></table></div>"
      ],
      "text/latex": [
       "\\begin{tabular}{r|ccccccccc}\n",
       "\t& x1 & x2 & x3 & x4 & x5 & x6 & x7 & x8 & \\\\\n",
       "\t\\hline\n",
       "\t& Float64 & Float64 & Float64 & Float64 & Float64 & Float64 & Float64 & Float64 & \\\\\n",
       "\t\\hline\n",
       "\t1 & 0.0903367 & 0.163747 & 0.684125 & 0.359433 & 0.391201 & 0.553945 & 0.386801 & 0.170243 & $\\dots$ \\\\\n",
       "\t2 & 0.344177 & 0.69609 & 0.486624 & 0.493705 & 0.582797 & 0.173189 & 0.820015 & 0.0771206 & $\\dots$ \\\\\n",
       "\t3 & 0.521849 & 0.253648 & 0.40574 & 0.306684 & 0.966418 & 0.828701 & 0.393079 & 0.4522 & $\\dots$ \\\\\n",
       "\t4 & 0.0239116 & 0.505325 & 6.37694e-5 & 0.347586 & 0.330535 & 0.901262 & 0.37116 & 0.627739 & $\\dots$ \\\\\n",
       "\t5 & 0.117069 & 0.404614 & 0.85863 & 0.990846 & 0.913568 & 0.932765 & 0.789538 & 0.973082 & $\\dots$ \\\\\n",
       "\t6 & 0.0167691 & 0.229781 & 0.0466419 & 0.227757 & 0.581592 & 0.754182 & 0.677089 & 0.0405953 & $\\dots$ \\\\\n",
       "\t7 & 0.829454 & 0.171552 & 0.335295 & 0.505614 & 0.951612 & 0.10853 & 0.616172 & 0.985029 & $\\dots$ \\\\\n",
       "\t8 & 0.824704 & 0.906847 & 0.0605448 & 0.18075 & 0.957496 & 0.389088 & 0.584492 & 0.25725 & $\\dots$ \\\\\n",
       "\t9 & 0.475488 & 0.785214 & 0.385425 & 0.758421 & 0.955782 & 0.18349 & 0.694819 & 0.336287 & $\\dots$ \\\\\n",
       "\t10 & 0.362039 & 0.407333 & 0.00678357 & 0.516851 & 0.260016 & 0.767214 & 0.391855 & 0.0129791 & $\\dots$ \\\\\n",
       "\t11 & 0.675239 & 0.00547467 & 0.291587 & 0.115018 & 0.358066 & 0.845831 & 0.686792 & 0.00396753 & $\\dots$ \\\\\n",
       "\t12 & 0.259129 & 0.226946 & 0.0438531 & 0.540878 & 0.885449 & 0.1637 & 0.627423 & 0.0585852 & $\\dots$ \\\\\n",
       "\t13 & 0.455214 & 0.0307412 & 0.915245 & 0.702836 & 0.861522 & 0.35542 & 0.212023 & 0.598892 & $\\dots$ \\\\\n",
       "\t14 & 0.611035 & 0.893576 & 0.743957 & 0.207573 & 0.338543 & 0.231101 & 0.866737 & 0.763004 & $\\dots$ \\\\\n",
       "\t15 & 0.478994 & 0.227507 & 0.768898 & 0.772749 & 0.887964 & 0.838002 & 0.474361 & 0.572865 & $\\dots$ \\\\\n",
       "\t16 & 0.0900042 & 0.360421 & 0.0755404 & 0.898272 & 0.732881 & 0.27681 & 0.183419 & 0.405874 & $\\dots$ \\\\\n",
       "\t17 & 0.902777 & 0.102288 & 0.998578 & 0.568922 & 0.528156 & 0.957093 & 0.137492 & 0.586787 & $\\dots$ \\\\\n",
       "\t18 & 0.0330357 & 0.59265 & 0.430063 & 0.179443 & 0.150715 & 0.675477 & 0.508848 & 0.138078 & $\\dots$ \\\\\n",
       "\t19 & 0.892057 & 0.109294 & 0.150867 & 0.488577 & 0.0920671 & 0.195283 & 0.798626 & 0.651829 & $\\dots$ \\\\\n",
       "\t20 & 0.798359 & 0.176218 & 0.296961 & 0.344906 & 0.692843 & 0.902476 & 0.673058 & 0.633311 & $\\dots$ \\\\\n",
       "\t21 & 0.740336 & 0.925672 & 0.011491 & 0.152578 & 0.781195 & 0.594155 & 0.647103 & 0.359903 & $\\dots$ \\\\\n",
       "\t22 & 0.519661 & 0.182445 & 0.427602 & 0.857105 & 0.677874 & 0.247123 & 0.844823 & 0.0581791 & $\\dots$ \\\\\n",
       "\t23 & 0.246405 & 0.854554 & 0.744366 & 0.79834 & 0.18204 & 0.821628 & 0.326438 & 0.299869 & $\\dots$ \\\\\n",
       "\t24 & 0.776711 & 0.749183 & 0.504972 & 0.890087 & 0.685475 & 0.29345 & 0.508269 & 0.469021 & $\\dots$ \\\\\n",
       "\t25 & 0.143917 & 0.39205 & 0.506978 & 0.0248889 & 0.558834 & 0.7944 & 0.688564 & 0.911225 & $\\dots$ \\\\\n",
       "\t26 & 0.456179 & 0.484034 & 0.771548 & 0.106765 & 0.247228 & 0.072994 & 0.0364733 & 0.276427 & $\\dots$ \\\\\n",
       "\t27 & 0.914083 & 0.0490109 & 0.237575 & 0.599702 & 0.588259 & 0.0442758 & 0.117725 & 0.332278 & $\\dots$ \\\\\n",
       "\t28 & 0.926227 & 0.292509 & 0.941625 & 0.856411 & 0.532795 & 0.826272 & 0.393439 & 0.370942 & $\\dots$ \\\\\n",
       "\t29 & 0.365711 & 0.347696 & 0.67901 & 0.484352 & 0.781463 & 0.375607 & 0.58781 & 0.883291 & $\\dots$ \\\\\n",
       "\t30 & 0.856311 & 0.775546 & 0.0665557 & 0.342148 & 0.988886 & 0.739524 & 0.330123 & 0.534708 & $\\dots$ \\\\\n",
       "\t$\\dots$ & $\\dots$ & $\\dots$ & $\\dots$ & $\\dots$ & $\\dots$ & $\\dots$ & $\\dots$ & $\\dots$ &  \\\\\n",
       "\\end{tabular}\n"
      ],
      "text/plain": [
       "\u001b[1m100×1000 DataFrame\u001b[0m\n",
       "\u001b[1m Row \u001b[0m│\u001b[1m x1        \u001b[0m\u001b[1m x2         \u001b[0m\u001b[1m x3         \u001b[0m\u001b[1m x4       \u001b[0m\u001b[1m x5        \u001b[0m\u001b[1m x6        \u001b[0m\u001b[1m x7  \u001b[0m ⋯\n",
       "     │\u001b[90m Float64   \u001b[0m\u001b[90m Float64    \u001b[0m\u001b[90m Float64    \u001b[0m\u001b[90m Float64  \u001b[0m\u001b[90m Float64   \u001b[0m\u001b[90m Float64   \u001b[0m\u001b[90m Floa\u001b[0m ⋯\n",
       "─────┼──────────────────────────────────────────────────────────────────────────\n",
       "   1 │ 0.0903367  0.163747    0.684125    0.359433  0.391201   0.553945   0.38 ⋯\n",
       "   2 │ 0.344177   0.69609     0.486624    0.493705  0.582797   0.173189   0.82\n",
       "   3 │ 0.521849   0.253648    0.40574     0.306684  0.966418   0.828701   0.39\n",
       "   4 │ 0.0239116  0.505325    6.37694e-5  0.347586  0.330535   0.901262   0.37\n",
       "   5 │ 0.117069   0.404614    0.85863     0.990846  0.913568   0.932765   0.78 ⋯\n",
       "   6 │ 0.0167691  0.229781    0.0466419   0.227757  0.581592   0.754182   0.67\n",
       "   7 │ 0.829454   0.171552    0.335295    0.505614  0.951612   0.10853    0.61\n",
       "   8 │ 0.824704   0.906847    0.0605448   0.18075   0.957496   0.389088   0.58\n",
       "   9 │ 0.475488   0.785214    0.385425    0.758421  0.955782   0.18349    0.69 ⋯\n",
       "  10 │ 0.362039   0.407333    0.00678357  0.516851  0.260016   0.767214   0.39\n",
       "  11 │ 0.675239   0.00547467  0.291587    0.115018  0.358066   0.845831   0.68\n",
       "  ⋮  │     ⋮          ⋮           ⋮          ⋮          ⋮          ⋮           ⋱\n",
       "  91 │ 0.362299   0.876264    0.883843    0.606238  0.420708   0.897986   0.88\n",
       "  92 │ 0.742146   0.593184    0.649465    0.920757  0.427052   0.724018   0.69 ⋯\n",
       "  93 │ 0.840003   0.429186    0.881643    0.174076  0.925689   0.212341   0.25\n",
       "  94 │ 0.945585   0.721851    0.456302    0.447657  0.810484   0.770983   0.11\n",
       "  95 │ 0.0279927  0.126131    0.426269    0.670125  0.337946   0.57458    0.47\n",
       "  96 │ 0.839403   0.646285    0.73349     0.988319  0.50672    0.123383   0.47 ⋯\n",
       "  97 │ 0.981992   0.102632    0.0566597   0.197039  0.396888   0.871891   0.69\n",
       "  98 │ 0.356062   0.00161124  0.961467    0.278566  0.547309   0.910877   0.09\n",
       "  99 │ 0.614168   0.754572    0.879011    0.207261  0.126653   0.869711   0.89\n",
       " 100 │ 0.362643   0.386452    0.854737    0.517233  0.626676   0.0814273  0.86 ⋯\n",
       "\u001b[36m                                                 994 columns and 79 rows omitted\u001b[0m"
      ]
     },
     "execution_count": 22,
     "metadata": {},
     "output_type": "execute_result"
    }
   ],
   "source": [
    "x = DataFrame(rand(100, 1000), :auto)"
   ]
  },
  {
   "cell_type": "code",
   "execution_count": 23,
   "metadata": {},
   "outputs": [
    {
     "name": "stdout",
     "output_type": "stream",
     "text": [
      "  158.100 μs (2986 allocations: 159.50 KiB)\n"
     ]
    },
    {
     "data": {
      "text/html": [
       "<div><div style = \"float: left;\"><span>1×1000 DataFrame</span></div><div style = \"float: right;\"><span style = \"font-style: italic;\">900 columns omitted</span></div><div style = \"clear: both;\"></div></div><div class = \"data-frame\" style = \"overflow-x: scroll;\"><table class = \"data-frame\" style = \"margin-bottom: 6px;\"><thead><tr class = \"header\"><th class = \"rowNumber\" style = \"font-weight: bold; text-align: right;\">Row</th><th style = \"text-align: left;\">x1</th><th style = \"text-align: left;\">x2</th><th style = \"text-align: left;\">x3</th><th style = \"text-align: left;\">x4</th><th style = \"text-align: left;\">x5</th><th style = \"text-align: left;\">x6</th><th style = \"text-align: left;\">x7</th><th style = \"text-align: left;\">x8</th><th style = \"text-align: left;\">x9</th><th style = \"text-align: left;\">x10</th><th style = \"text-align: left;\">x11</th><th style = \"text-align: left;\">x12</th><th style = \"text-align: left;\">x13</th><th style = \"text-align: left;\">x14</th><th style = \"text-align: left;\">x15</th><th style = \"text-align: left;\">x16</th><th style = \"text-align: left;\">x17</th><th style = \"text-align: left;\">x18</th><th style = \"text-align: left;\">x19</th><th style = \"text-align: left;\">x20</th><th style = \"text-align: left;\">x21</th><th style = \"text-align: left;\">x22</th><th style = \"text-align: left;\">x23</th><th style = \"text-align: left;\">x24</th><th style = \"text-align: left;\">x25</th><th style = \"text-align: left;\">x26</th><th style = \"text-align: left;\">x27</th><th style = \"text-align: left;\">x28</th><th style = \"text-align: left;\">x29</th><th style = \"text-align: left;\">x30</th><th style = \"text-align: left;\">x31</th><th style = \"text-align: left;\">x32</th><th style = \"text-align: left;\">x33</th><th style = \"text-align: left;\">x34</th><th style = \"text-align: left;\">x35</th><th style = \"text-align: left;\">x36</th><th style = \"text-align: left;\">x37</th><th style = \"text-align: left;\">x38</th><th style = \"text-align: left;\">x39</th><th style = \"text-align: left;\">x40</th><th style = \"text-align: left;\">x41</th><th style = \"text-align: left;\">x42</th><th style = \"text-align: left;\">x43</th><th style = \"text-align: left;\">x44</th><th style = \"text-align: left;\">x45</th><th style = \"text-align: left;\">x46</th><th style = \"text-align: left;\">x47</th><th style = \"text-align: left;\">x48</th><th style = \"text-align: left;\">x49</th><th style = \"text-align: left;\">x50</th><th style = \"text-align: left;\">x51</th><th style = \"text-align: left;\">x52</th><th style = \"text-align: left;\">x53</th><th style = \"text-align: left;\">x54</th><th style = \"text-align: left;\">x55</th><th style = \"text-align: left;\">x56</th><th style = \"text-align: left;\">x57</th><th style = \"text-align: left;\">x58</th><th style = \"text-align: left;\">x59</th><th style = \"text-align: left;\">x60</th><th style = \"text-align: left;\">x61</th><th style = \"text-align: left;\">x62</th><th style = \"text-align: left;\">x63</th><th style = \"text-align: left;\">x64</th><th style = \"text-align: left;\">x65</th><th style = \"text-align: left;\">x66</th><th style = \"text-align: left;\">x67</th><th style = \"text-align: left;\">x68</th><th style = \"text-align: left;\">x69</th><th style = \"text-align: left;\">x70</th><th style = \"text-align: left;\">x71</th><th style = \"text-align: left;\">x72</th><th style = \"text-align: left;\">x73</th><th style = \"text-align: left;\">x74</th><th style = \"text-align: left;\">x75</th><th style = \"text-align: left;\">x76</th><th style = \"text-align: left;\">x77</th><th style = \"text-align: left;\">x78</th><th style = \"text-align: left;\">x79</th><th style = \"text-align: left;\">x80</th><th style = \"text-align: left;\">x81</th><th style = \"text-align: left;\">x82</th><th style = \"text-align: left;\">x83</th><th style = \"text-align: left;\">x84</th><th style = \"text-align: left;\">x85</th><th style = \"text-align: left;\">x86</th><th style = \"text-align: left;\">x87</th><th style = \"text-align: left;\">x88</th><th style = \"text-align: left;\">x89</th><th style = \"text-align: left;\">x90</th><th style = \"text-align: left;\">x91</th><th style = \"text-align: left;\">x92</th><th style = \"text-align: left;\">x93</th><th style = \"text-align: left;\">x94</th><th style = \"text-align: left;\">x95</th><th style = \"text-align: left;\">x96</th><th style = \"text-align: left;\">x97</th><th style = \"text-align: left;\">x98</th><th style = \"text-align: left;\">x99</th><th style = \"text-align: left;\">x100</th><th style = \"text-align: right;\">&ctdot;</th></tr><tr class = \"subheader headerLastRow\"><th class = \"rowNumber\" style = \"font-weight: bold; text-align: right;\"></th><th title = \"Float64\" style = \"text-align: left;\">Float64</th><th title = \"Float64\" style = \"text-align: left;\">Float64</th><th title = \"Float64\" style = \"text-align: left;\">Float64</th><th title = \"Float64\" style = \"text-align: left;\">Float64</th><th title = \"Float64\" style = \"text-align: left;\">Float64</th><th title = \"Float64\" style = \"text-align: left;\">Float64</th><th title = \"Float64\" style = \"text-align: left;\">Float64</th><th title = \"Float64\" style = \"text-align: left;\">Float64</th><th title = \"Float64\" style = \"text-align: left;\">Float64</th><th title = \"Float64\" style = \"text-align: left;\">Float64</th><th title = \"Float64\" style = \"text-align: left;\">Float64</th><th title = \"Float64\" style = \"text-align: left;\">Float64</th><th title = \"Float64\" style = \"text-align: left;\">Float64</th><th title = \"Float64\" style = \"text-align: left;\">Float64</th><th title = \"Float64\" style = \"text-align: left;\">Float64</th><th title = \"Float64\" style = \"text-align: left;\">Float64</th><th title = \"Float64\" style = \"text-align: left;\">Float64</th><th title = \"Float64\" style = \"text-align: left;\">Float64</th><th title = \"Float64\" style = \"text-align: left;\">Float64</th><th title = \"Float64\" style = \"text-align: left;\">Float64</th><th title = \"Float64\" style = \"text-align: left;\">Float64</th><th title = \"Float64\" style = \"text-align: left;\">Float64</th><th title = \"Float64\" style = \"text-align: left;\">Float64</th><th title = \"Float64\" style = \"text-align: left;\">Float64</th><th title = \"Float64\" style = \"text-align: left;\">Float64</th><th title = \"Float64\" style = \"text-align: left;\">Float64</th><th title = \"Float64\" style = \"text-align: left;\">Float64</th><th title = \"Float64\" style = \"text-align: left;\">Float64</th><th title = \"Float64\" style = \"text-align: left;\">Float64</th><th title = \"Float64\" style = \"text-align: left;\">Float64</th><th title = \"Float64\" style = \"text-align: left;\">Float64</th><th title = \"Float64\" style = \"text-align: left;\">Float64</th><th title = \"Float64\" style = \"text-align: left;\">Float64</th><th title = \"Float64\" style = \"text-align: left;\">Float64</th><th title = \"Float64\" style = \"text-align: left;\">Float64</th><th title = \"Float64\" style = \"text-align: left;\">Float64</th><th title = \"Float64\" style = \"text-align: left;\">Float64</th><th title = \"Float64\" style = \"text-align: left;\">Float64</th><th title = \"Float64\" style = \"text-align: left;\">Float64</th><th title = \"Float64\" style = \"text-align: left;\">Float64</th><th title = \"Float64\" style = \"text-align: left;\">Float64</th><th title = \"Float64\" style = \"text-align: left;\">Float64</th><th title = \"Float64\" style = \"text-align: left;\">Float64</th><th title = \"Float64\" style = \"text-align: left;\">Float64</th><th title = \"Float64\" style = \"text-align: left;\">Float64</th><th title = \"Float64\" style = \"text-align: left;\">Float64</th><th title = \"Float64\" style = \"text-align: left;\">Float64</th><th title = \"Float64\" style = \"text-align: left;\">Float64</th><th title = \"Float64\" style = \"text-align: left;\">Float64</th><th title = \"Float64\" style = \"text-align: left;\">Float64</th><th title = \"Float64\" style = \"text-align: left;\">Float64</th><th title = \"Float64\" style = \"text-align: left;\">Float64</th><th title = \"Float64\" style = \"text-align: left;\">Float64</th><th title = \"Float64\" style = \"text-align: left;\">Float64</th><th title = \"Float64\" style = \"text-align: left;\">Float64</th><th title = \"Float64\" style = \"text-align: left;\">Float64</th><th title = \"Float64\" style = \"text-align: left;\">Float64</th><th title = \"Float64\" style = \"text-align: left;\">Float64</th><th title = \"Float64\" style = \"text-align: left;\">Float64</th><th title = \"Float64\" style = \"text-align: left;\">Float64</th><th title = \"Float64\" style = \"text-align: left;\">Float64</th><th title = \"Float64\" style = \"text-align: left;\">Float64</th><th title = \"Float64\" style = \"text-align: left;\">Float64</th><th title = \"Float64\" style = \"text-align: left;\">Float64</th><th title = \"Float64\" style = \"text-align: left;\">Float64</th><th title = \"Float64\" style = \"text-align: left;\">Float64</th><th title = \"Float64\" style = \"text-align: left;\">Float64</th><th title = \"Float64\" style = \"text-align: left;\">Float64</th><th title = \"Float64\" style = \"text-align: left;\">Float64</th><th title = \"Float64\" style = \"text-align: left;\">Float64</th><th title = \"Float64\" style = \"text-align: left;\">Float64</th><th title = \"Float64\" style = \"text-align: left;\">Float64</th><th title = \"Float64\" style = \"text-align: left;\">Float64</th><th title = \"Float64\" style = \"text-align: left;\">Float64</th><th title = \"Float64\" style = \"text-align: left;\">Float64</th><th title = \"Float64\" style = \"text-align: left;\">Float64</th><th title = \"Float64\" style = \"text-align: left;\">Float64</th><th title = \"Float64\" style = \"text-align: left;\">Float64</th><th title = \"Float64\" style = \"text-align: left;\">Float64</th><th title = \"Float64\" style = \"text-align: left;\">Float64</th><th title = \"Float64\" style = \"text-align: left;\">Float64</th><th title = \"Float64\" style = \"text-align: left;\">Float64</th><th title = \"Float64\" style = \"text-align: left;\">Float64</th><th title = \"Float64\" style = \"text-align: left;\">Float64</th><th title = \"Float64\" style = \"text-align: left;\">Float64</th><th title = \"Float64\" style = \"text-align: left;\">Float64</th><th title = \"Float64\" style = \"text-align: left;\">Float64</th><th title = \"Float64\" style = \"text-align: left;\">Float64</th><th title = \"Float64\" style = \"text-align: left;\">Float64</th><th title = \"Float64\" style = \"text-align: left;\">Float64</th><th title = \"Float64\" style = \"text-align: left;\">Float64</th><th title = \"Float64\" style = \"text-align: left;\">Float64</th><th title = \"Float64\" style = \"text-align: left;\">Float64</th><th title = \"Float64\" style = \"text-align: left;\">Float64</th><th title = \"Float64\" style = \"text-align: left;\">Float64</th><th title = \"Float64\" style = \"text-align: left;\">Float64</th><th title = \"Float64\" style = \"text-align: left;\">Float64</th><th title = \"Float64\" style = \"text-align: left;\">Float64</th><th title = \"Float64\" style = \"text-align: left;\">Float64</th><th title = \"Float64\" style = \"text-align: left;\">Float64</th><th title = \"Float64\" style = \"text-align: right;\">&ctdot;</th></tr></thead><tbody><tr><td class = \"rowNumber\" style = \"font-weight: bold; text-align: right;\">1</td><td style = \"text-align: right;\">0.0903367</td><td style = \"text-align: right;\">0.163747</td><td style = \"text-align: right;\">0.684125</td><td style = \"text-align: right;\">0.359433</td><td style = \"text-align: right;\">0.391201</td><td style = \"text-align: right;\">0.553945</td><td style = \"text-align: right;\">0.386801</td><td style = \"text-align: right;\">0.170243</td><td style = \"text-align: right;\">0.785965</td><td style = \"text-align: right;\">0.37364</td><td style = \"text-align: right;\">0.121847</td><td style = \"text-align: right;\">0.319183</td><td style = \"text-align: right;\">0.318759</td><td style = \"text-align: right;\">0.816578</td><td style = \"text-align: right;\">0.158892</td><td style = \"text-align: right;\">0.146362</td><td style = \"text-align: right;\">0.0662521</td><td style = \"text-align: right;\">0.293301</td><td style = \"text-align: right;\">0.965506</td><td style = \"text-align: right;\">0.992222</td><td style = \"text-align: right;\">0.387689</td><td style = \"text-align: right;\">0.901977</td><td style = \"text-align: right;\">0.266571</td><td style = \"text-align: right;\">0.904297</td><td style = \"text-align: right;\">0.996896</td><td style = \"text-align: right;\">0.822812</td><td style = \"text-align: right;\">0.00759657</td><td style = \"text-align: right;\">0.0638031</td><td style = \"text-align: right;\">0.231909</td><td style = \"text-align: right;\">0.199771</td><td style = \"text-align: right;\">0.971534</td><td style = \"text-align: right;\">0.795822</td><td style = \"text-align: right;\">0.258391</td><td style = \"text-align: right;\">0.99457</td><td style = \"text-align: right;\">0.718742</td><td style = \"text-align: right;\">0.85089</td><td style = \"text-align: right;\">0.836376</td><td style = \"text-align: right;\">0.264602</td><td style = \"text-align: right;\">0.208107</td><td style = \"text-align: right;\">0.046411</td><td style = \"text-align: right;\">0.289224</td><td style = \"text-align: right;\">0.329341</td><td style = \"text-align: right;\">0.414283</td><td style = \"text-align: right;\">0.597822</td><td style = \"text-align: right;\">0.9839</td><td style = \"text-align: right;\">0.359793</td><td style = \"text-align: right;\">0.676169</td><td style = \"text-align: right;\">0.595102</td><td style = \"text-align: right;\">0.85256</td><td style = \"text-align: right;\">0.411566</td><td style = \"text-align: right;\">0.848235</td><td style = \"text-align: right;\">0.114632</td><td style = \"text-align: right;\">0.280953</td><td style = \"text-align: right;\">0.146555</td><td style = \"text-align: right;\">0.113455</td><td style = \"text-align: right;\">0.282086</td><td style = \"text-align: right;\">0.703041</td><td style = \"text-align: right;\">0.240051</td><td style = \"text-align: right;\">0.490823</td><td style = \"text-align: right;\">0.539732</td><td style = \"text-align: right;\">0.623681</td><td style = \"text-align: right;\">0.988882</td><td style = \"text-align: right;\">0.457174</td><td style = \"text-align: right;\">0.465744</td><td style = \"text-align: right;\">0.182501</td><td style = \"text-align: right;\">0.465968</td><td style = \"text-align: right;\">0.961894</td><td style = \"text-align: right;\">0.680664</td><td style = \"text-align: right;\">0.70148</td><td style = \"text-align: right;\">0.480709</td><td style = \"text-align: right;\">0.338984</td><td style = \"text-align: right;\">0.0535537</td><td style = \"text-align: right;\">0.794744</td><td style = \"text-align: right;\">0.403971</td><td style = \"text-align: right;\">0.481755</td><td style = \"text-align: right;\">0.541795</td><td style = \"text-align: right;\">0.915109</td><td style = \"text-align: right;\">0.245369</td><td style = \"text-align: right;\">0.172523</td><td style = \"text-align: right;\">0.677059</td><td style = \"text-align: right;\">0.152196</td><td style = \"text-align: right;\">0.487205</td><td style = \"text-align: right;\">0.110634</td><td style = \"text-align: right;\">0.715605</td><td style = \"text-align: right;\">0.781465</td><td style = \"text-align: right;\">0.833483</td><td style = \"text-align: right;\">0.244138</td><td style = \"text-align: right;\">0.789438</td><td style = \"text-align: right;\">0.407008</td><td style = \"text-align: right;\">0.476403</td><td style = \"text-align: right;\">0.677984</td><td style = \"text-align: right;\">0.173702</td><td style = \"text-align: right;\">0.461884</td><td style = \"text-align: right;\">0.730055</td><td style = \"text-align: right;\">0.489883</td><td style = \"text-align: right;\">0.583402</td><td style = \"text-align: right;\">0.272328</td><td style = \"text-align: right;\">0.403047</td><td style = \"text-align: right;\">0.946289</td><td style = \"text-align: right;\">0.174344</td><td style = \"text-align: right;\">&ctdot;</td></tr></tbody></table></div>"
      ],
      "text/latex": [
       "\\begin{tabular}{r|ccccccccc}\n",
       "\t& x1 & x2 & x3 & x4 & x5 & x6 & x7 & x8 & \\\\\n",
       "\t\\hline\n",
       "\t& Float64 & Float64 & Float64 & Float64 & Float64 & Float64 & Float64 & Float64 & \\\\\n",
       "\t\\hline\n",
       "\t1 & 0.0903367 & 0.163747 & 0.684125 & 0.359433 & 0.391201 & 0.553945 & 0.386801 & 0.170243 & $\\dots$ \\\\\n",
       "\\end{tabular}\n"
      ],
      "text/plain": [
       "\u001b[1m1×1000 DataFrame\u001b[0m\n",
       "\u001b[1m Row \u001b[0m│\u001b[1m x1        \u001b[0m\u001b[1m x2       \u001b[0m\u001b[1m x3       \u001b[0m\u001b[1m x4       \u001b[0m\u001b[1m x5       \u001b[0m\u001b[1m x6       \u001b[0m\u001b[1m x7       \u001b[0m\u001b[1m \u001b[0m ⋯\n",
       "     │\u001b[90m Float64   \u001b[0m\u001b[90m Float64  \u001b[0m\u001b[90m Float64  \u001b[0m\u001b[90m Float64  \u001b[0m\u001b[90m Float64  \u001b[0m\u001b[90m Float64  \u001b[0m\u001b[90m Float64  \u001b[0m\u001b[90m \u001b[0m ⋯\n",
       "─────┼──────────────────────────────────────────────────────────────────────────\n",
       "   1 │ 0.0903367  0.163747  0.684125  0.359433  0.391201  0.553945  0.386801   ⋯\n",
       "\u001b[36m                                                             993 columns omitted\u001b[0m"
      ]
     },
     "execution_count": 23,
     "metadata": {},
     "output_type": "execute_result"
    }
   ],
   "source": [
    "@btime $x[1:1, :]"
   ]
  },
  {
   "cell_type": "code",
   "execution_count": 24,
   "metadata": {},
   "outputs": [
    {
     "name": "stdout",
     "output_type": "stream",
     "text": [
      "  23.618 ns (0 allocations: 0 bytes)\n"
     ]
    },
    {
     "data": {
      "text/html": [
       "<div><div style = \"float: left;\"><span>DataFrameRow (1000 columns)</span></div><div style = \"float: right;\"><span style = \"font-style: italic;\">900 columns omitted</span></div><div style = \"clear: both;\"></div></div><div class = \"data-frame\" style = \"overflow-x: scroll;\"><table class = \"data-frame\" style = \"margin-bottom: 6px;\"><thead><tr class = \"header\"><th class = \"rowLabel\" style = \"font-weight: bold; text-align: right;\">Row</th><th style = \"text-align: left;\">x1</th><th style = \"text-align: left;\">x2</th><th style = \"text-align: left;\">x3</th><th style = \"text-align: left;\">x4</th><th style = \"text-align: left;\">x5</th><th style = \"text-align: left;\">x6</th><th style = \"text-align: left;\">x7</th><th style = \"text-align: left;\">x8</th><th style = \"text-align: left;\">x9</th><th style = \"text-align: left;\">x10</th><th style = \"text-align: left;\">x11</th><th style = \"text-align: left;\">x12</th><th style = \"text-align: left;\">x13</th><th style = \"text-align: left;\">x14</th><th style = \"text-align: left;\">x15</th><th style = \"text-align: left;\">x16</th><th style = \"text-align: left;\">x17</th><th style = \"text-align: left;\">x18</th><th style = \"text-align: left;\">x19</th><th style = \"text-align: left;\">x20</th><th style = \"text-align: left;\">x21</th><th style = \"text-align: left;\">x22</th><th style = \"text-align: left;\">x23</th><th style = \"text-align: left;\">x24</th><th style = \"text-align: left;\">x25</th><th style = \"text-align: left;\">x26</th><th style = \"text-align: left;\">x27</th><th style = \"text-align: left;\">x28</th><th style = \"text-align: left;\">x29</th><th style = \"text-align: left;\">x30</th><th style = \"text-align: left;\">x31</th><th style = \"text-align: left;\">x32</th><th style = \"text-align: left;\">x33</th><th style = \"text-align: left;\">x34</th><th style = \"text-align: left;\">x35</th><th style = \"text-align: left;\">x36</th><th style = \"text-align: left;\">x37</th><th style = \"text-align: left;\">x38</th><th style = \"text-align: left;\">x39</th><th style = \"text-align: left;\">x40</th><th style = \"text-align: left;\">x41</th><th style = \"text-align: left;\">x42</th><th style = \"text-align: left;\">x43</th><th style = \"text-align: left;\">x44</th><th style = \"text-align: left;\">x45</th><th style = \"text-align: left;\">x46</th><th style = \"text-align: left;\">x47</th><th style = \"text-align: left;\">x48</th><th style = \"text-align: left;\">x49</th><th style = \"text-align: left;\">x50</th><th style = \"text-align: left;\">x51</th><th style = \"text-align: left;\">x52</th><th style = \"text-align: left;\">x53</th><th style = \"text-align: left;\">x54</th><th style = \"text-align: left;\">x55</th><th style = \"text-align: left;\">x56</th><th style = \"text-align: left;\">x57</th><th style = \"text-align: left;\">x58</th><th style = \"text-align: left;\">x59</th><th style = \"text-align: left;\">x60</th><th style = \"text-align: left;\">x61</th><th style = \"text-align: left;\">x62</th><th style = \"text-align: left;\">x63</th><th style = \"text-align: left;\">x64</th><th style = \"text-align: left;\">x65</th><th style = \"text-align: left;\">x66</th><th style = \"text-align: left;\">x67</th><th style = \"text-align: left;\">x68</th><th style = \"text-align: left;\">x69</th><th style = \"text-align: left;\">x70</th><th style = \"text-align: left;\">x71</th><th style = \"text-align: left;\">x72</th><th style = \"text-align: left;\">x73</th><th style = \"text-align: left;\">x74</th><th style = \"text-align: left;\">x75</th><th style = \"text-align: left;\">x76</th><th style = \"text-align: left;\">x77</th><th style = \"text-align: left;\">x78</th><th style = \"text-align: left;\">x79</th><th style = \"text-align: left;\">x80</th><th style = \"text-align: left;\">x81</th><th style = \"text-align: left;\">x82</th><th style = \"text-align: left;\">x83</th><th style = \"text-align: left;\">x84</th><th style = \"text-align: left;\">x85</th><th style = \"text-align: left;\">x86</th><th style = \"text-align: left;\">x87</th><th style = \"text-align: left;\">x88</th><th style = \"text-align: left;\">x89</th><th style = \"text-align: left;\">x90</th><th style = \"text-align: left;\">x91</th><th style = \"text-align: left;\">x92</th><th style = \"text-align: left;\">x93</th><th style = \"text-align: left;\">x94</th><th style = \"text-align: left;\">x95</th><th style = \"text-align: left;\">x96</th><th style = \"text-align: left;\">x97</th><th style = \"text-align: left;\">x98</th><th style = \"text-align: left;\">x99</th><th style = \"text-align: left;\">x100</th><th style = \"text-align: right;\">&ctdot;</th></tr><tr class = \"subheader headerLastRow\"><th class = \"rowLabel\" style = \"font-weight: bold; text-align: right;\"></th><th title = \"Float64\" style = \"text-align: left;\">Float64</th><th title = \"Float64\" style = \"text-align: left;\">Float64</th><th title = \"Float64\" style = \"text-align: left;\">Float64</th><th title = \"Float64\" style = \"text-align: left;\">Float64</th><th title = \"Float64\" style = \"text-align: left;\">Float64</th><th title = \"Float64\" style = \"text-align: left;\">Float64</th><th title = \"Float64\" style = \"text-align: left;\">Float64</th><th title = \"Float64\" style = \"text-align: left;\">Float64</th><th title = \"Float64\" style = \"text-align: left;\">Float64</th><th title = \"Float64\" style = \"text-align: left;\">Float64</th><th title = \"Float64\" style = \"text-align: left;\">Float64</th><th title = \"Float64\" style = \"text-align: left;\">Float64</th><th title = \"Float64\" style = \"text-align: left;\">Float64</th><th title = \"Float64\" style = \"text-align: left;\">Float64</th><th title = \"Float64\" style = \"text-align: left;\">Float64</th><th title = \"Float64\" style = \"text-align: left;\">Float64</th><th title = \"Float64\" style = \"text-align: left;\">Float64</th><th title = \"Float64\" style = \"text-align: left;\">Float64</th><th title = \"Float64\" style = \"text-align: left;\">Float64</th><th title = \"Float64\" style = \"text-align: left;\">Float64</th><th title = \"Float64\" style = \"text-align: left;\">Float64</th><th title = \"Float64\" style = \"text-align: left;\">Float64</th><th title = \"Float64\" style = \"text-align: left;\">Float64</th><th title = \"Float64\" style = \"text-align: left;\">Float64</th><th title = \"Float64\" style = \"text-align: left;\">Float64</th><th title = \"Float64\" style = \"text-align: left;\">Float64</th><th title = \"Float64\" style = \"text-align: left;\">Float64</th><th title = \"Float64\" style = \"text-align: left;\">Float64</th><th title = \"Float64\" style = \"text-align: left;\">Float64</th><th title = \"Float64\" style = \"text-align: left;\">Float64</th><th title = \"Float64\" style = \"text-align: left;\">Float64</th><th title = \"Float64\" style = \"text-align: left;\">Float64</th><th title = \"Float64\" style = \"text-align: left;\">Float64</th><th title = \"Float64\" style = \"text-align: left;\">Float64</th><th title = \"Float64\" style = \"text-align: left;\">Float64</th><th title = \"Float64\" style = \"text-align: left;\">Float64</th><th title = \"Float64\" style = \"text-align: left;\">Float64</th><th title = \"Float64\" style = \"text-align: left;\">Float64</th><th title = \"Float64\" style = \"text-align: left;\">Float64</th><th title = \"Float64\" style = \"text-align: left;\">Float64</th><th title = \"Float64\" style = \"text-align: left;\">Float64</th><th title = \"Float64\" style = \"text-align: left;\">Float64</th><th title = \"Float64\" style = \"text-align: left;\">Float64</th><th title = \"Float64\" style = \"text-align: left;\">Float64</th><th title = \"Float64\" style = \"text-align: left;\">Float64</th><th title = \"Float64\" style = \"text-align: left;\">Float64</th><th title = \"Float64\" style = \"text-align: left;\">Float64</th><th title = \"Float64\" style = \"text-align: left;\">Float64</th><th title = \"Float64\" style = \"text-align: left;\">Float64</th><th title = \"Float64\" style = \"text-align: left;\">Float64</th><th title = \"Float64\" style = \"text-align: left;\">Float64</th><th title = \"Float64\" style = \"text-align: left;\">Float64</th><th title = \"Float64\" style = \"text-align: left;\">Float64</th><th title = \"Float64\" style = \"text-align: left;\">Float64</th><th title = \"Float64\" style = \"text-align: left;\">Float64</th><th title = \"Float64\" style = \"text-align: left;\">Float64</th><th title = \"Float64\" style = \"text-align: left;\">Float64</th><th title = \"Float64\" style = \"text-align: left;\">Float64</th><th title = \"Float64\" style = \"text-align: left;\">Float64</th><th title = \"Float64\" style = \"text-align: left;\">Float64</th><th title = \"Float64\" style = \"text-align: left;\">Float64</th><th title = \"Float64\" style = \"text-align: left;\">Float64</th><th title = \"Float64\" style = \"text-align: left;\">Float64</th><th title = \"Float64\" style = \"text-align: left;\">Float64</th><th title = \"Float64\" style = \"text-align: left;\">Float64</th><th title = \"Float64\" style = \"text-align: left;\">Float64</th><th title = \"Float64\" style = \"text-align: left;\">Float64</th><th title = \"Float64\" style = \"text-align: left;\">Float64</th><th title = \"Float64\" style = \"text-align: left;\">Float64</th><th title = \"Float64\" style = \"text-align: left;\">Float64</th><th title = \"Float64\" style = \"text-align: left;\">Float64</th><th title = \"Float64\" style = \"text-align: left;\">Float64</th><th title = \"Float64\" style = \"text-align: left;\">Float64</th><th title = \"Float64\" style = \"text-align: left;\">Float64</th><th title = \"Float64\" style = \"text-align: left;\">Float64</th><th title = \"Float64\" style = \"text-align: left;\">Float64</th><th title = \"Float64\" style = \"text-align: left;\">Float64</th><th title = \"Float64\" style = \"text-align: left;\">Float64</th><th title = \"Float64\" style = \"text-align: left;\">Float64</th><th title = \"Float64\" style = \"text-align: left;\">Float64</th><th title = \"Float64\" style = \"text-align: left;\">Float64</th><th title = \"Float64\" style = \"text-align: left;\">Float64</th><th title = \"Float64\" style = \"text-align: left;\">Float64</th><th title = \"Float64\" style = \"text-align: left;\">Float64</th><th title = \"Float64\" style = \"text-align: left;\">Float64</th><th title = \"Float64\" style = \"text-align: left;\">Float64</th><th title = \"Float64\" style = \"text-align: left;\">Float64</th><th title = \"Float64\" style = \"text-align: left;\">Float64</th><th title = \"Float64\" style = \"text-align: left;\">Float64</th><th title = \"Float64\" style = \"text-align: left;\">Float64</th><th title = \"Float64\" style = \"text-align: left;\">Float64</th><th title = \"Float64\" style = \"text-align: left;\">Float64</th><th title = \"Float64\" style = \"text-align: left;\">Float64</th><th title = \"Float64\" style = \"text-align: left;\">Float64</th><th title = \"Float64\" style = \"text-align: left;\">Float64</th><th title = \"Float64\" style = \"text-align: left;\">Float64</th><th title = \"Float64\" style = \"text-align: left;\">Float64</th><th title = \"Float64\" style = \"text-align: left;\">Float64</th><th title = \"Float64\" style = \"text-align: left;\">Float64</th><th title = \"Float64\" style = \"text-align: left;\">Float64</th><th title = \"Float64\" style = \"text-align: right;\">&ctdot;</th></tr></thead><tbody><tr><td class = \"rowLabel\" style = \"font-weight: bold; text-align: right;\">1</td><td style = \"text-align: right;\">0.0903367</td><td style = \"text-align: right;\">0.163747</td><td style = \"text-align: right;\">0.684125</td><td style = \"text-align: right;\">0.359433</td><td style = \"text-align: right;\">0.391201</td><td style = \"text-align: right;\">0.553945</td><td style = \"text-align: right;\">0.386801</td><td style = \"text-align: right;\">0.170243</td><td style = \"text-align: right;\">0.785965</td><td style = \"text-align: right;\">0.37364</td><td style = \"text-align: right;\">0.121847</td><td style = \"text-align: right;\">0.319183</td><td style = \"text-align: right;\">0.318759</td><td style = \"text-align: right;\">0.816578</td><td style = \"text-align: right;\">0.158892</td><td style = \"text-align: right;\">0.146362</td><td style = \"text-align: right;\">0.0662521</td><td style = \"text-align: right;\">0.293301</td><td style = \"text-align: right;\">0.965506</td><td style = \"text-align: right;\">0.992222</td><td style = \"text-align: right;\">0.387689</td><td style = \"text-align: right;\">0.901977</td><td style = \"text-align: right;\">0.266571</td><td style = \"text-align: right;\">0.904297</td><td style = \"text-align: right;\">0.996896</td><td style = \"text-align: right;\">0.822812</td><td style = \"text-align: right;\">0.00759657</td><td style = \"text-align: right;\">0.0638031</td><td style = \"text-align: right;\">0.231909</td><td style = \"text-align: right;\">0.199771</td><td style = \"text-align: right;\">0.971534</td><td style = \"text-align: right;\">0.795822</td><td style = \"text-align: right;\">0.258391</td><td style = \"text-align: right;\">0.99457</td><td style = \"text-align: right;\">0.718742</td><td style = \"text-align: right;\">0.85089</td><td style = \"text-align: right;\">0.836376</td><td style = \"text-align: right;\">0.264602</td><td style = \"text-align: right;\">0.208107</td><td style = \"text-align: right;\">0.046411</td><td style = \"text-align: right;\">0.289224</td><td style = \"text-align: right;\">0.329341</td><td style = \"text-align: right;\">0.414283</td><td style = \"text-align: right;\">0.597822</td><td style = \"text-align: right;\">0.9839</td><td style = \"text-align: right;\">0.359793</td><td style = \"text-align: right;\">0.676169</td><td style = \"text-align: right;\">0.595102</td><td style = \"text-align: right;\">0.85256</td><td style = \"text-align: right;\">0.411566</td><td style = \"text-align: right;\">0.848235</td><td style = \"text-align: right;\">0.114632</td><td style = \"text-align: right;\">0.280953</td><td style = \"text-align: right;\">0.146555</td><td style = \"text-align: right;\">0.113455</td><td style = \"text-align: right;\">0.282086</td><td style = \"text-align: right;\">0.703041</td><td style = \"text-align: right;\">0.240051</td><td style = \"text-align: right;\">0.490823</td><td style = \"text-align: right;\">0.539732</td><td style = \"text-align: right;\">0.623681</td><td style = \"text-align: right;\">0.988882</td><td style = \"text-align: right;\">0.457174</td><td style = \"text-align: right;\">0.465744</td><td style = \"text-align: right;\">0.182501</td><td style = \"text-align: right;\">0.465968</td><td style = \"text-align: right;\">0.961894</td><td style = \"text-align: right;\">0.680664</td><td style = \"text-align: right;\">0.70148</td><td style = \"text-align: right;\">0.480709</td><td style = \"text-align: right;\">0.338984</td><td style = \"text-align: right;\">0.0535537</td><td style = \"text-align: right;\">0.794744</td><td style = \"text-align: right;\">0.403971</td><td style = \"text-align: right;\">0.481755</td><td style = \"text-align: right;\">0.541795</td><td style = \"text-align: right;\">0.915109</td><td style = \"text-align: right;\">0.245369</td><td style = \"text-align: right;\">0.172523</td><td style = \"text-align: right;\">0.677059</td><td style = \"text-align: right;\">0.152196</td><td style = \"text-align: right;\">0.487205</td><td style = \"text-align: right;\">0.110634</td><td style = \"text-align: right;\">0.715605</td><td style = \"text-align: right;\">0.781465</td><td style = \"text-align: right;\">0.833483</td><td style = \"text-align: right;\">0.244138</td><td style = \"text-align: right;\">0.789438</td><td style = \"text-align: right;\">0.407008</td><td style = \"text-align: right;\">0.476403</td><td style = \"text-align: right;\">0.677984</td><td style = \"text-align: right;\">0.173702</td><td style = \"text-align: right;\">0.461884</td><td style = \"text-align: right;\">0.730055</td><td style = \"text-align: right;\">0.489883</td><td style = \"text-align: right;\">0.583402</td><td style = \"text-align: right;\">0.272328</td><td style = \"text-align: right;\">0.403047</td><td style = \"text-align: right;\">0.946289</td><td style = \"text-align: right;\">0.174344</td><td style = \"text-align: right;\">&ctdot;</td></tr></tbody></table></div>"
      ],
      "text/latex": [
       "\\begin{tabular}{r|ccccccccc}\n",
       "\t& x1 & x2 & x3 & x4 & x5 & x6 & x7 & x8 & \\\\\n",
       "\t\\hline\n",
       "\t& Float64 & Float64 & Float64 & Float64 & Float64 & Float64 & Float64 & Float64 & \\\\\n",
       "\t\\hline\n",
       "\t1 & 0.0903367 & 0.163747 & 0.684125 & 0.359433 & 0.391201 & 0.553945 & 0.386801 & 0.170243 & $\\dots$ \\\\\n",
       "\\end{tabular}\n"
      ],
      "text/plain": [
       "\u001b[1mDataFrameRow\u001b[0m\n",
       "\u001b[1m Row \u001b[0m│\u001b[1m x1        \u001b[0m\u001b[1m x2       \u001b[0m\u001b[1m x3       \u001b[0m\u001b[1m x4       \u001b[0m\u001b[1m x5       \u001b[0m\u001b[1m x6       \u001b[0m\u001b[1m x7       \u001b[0m\u001b[1m \u001b[0m ⋯\n",
       "     │\u001b[90m Float64   \u001b[0m\u001b[90m Float64  \u001b[0m\u001b[90m Float64  \u001b[0m\u001b[90m Float64  \u001b[0m\u001b[90m Float64  \u001b[0m\u001b[90m Float64  \u001b[0m\u001b[90m Float64  \u001b[0m\u001b[90m \u001b[0m ⋯\n",
       "─────┼──────────────────────────────────────────────────────────────────────────\n",
       "   1 │ 0.0903367  0.163747  0.684125  0.359433  0.391201  0.553945  0.386801   ⋯\n",
       "\u001b[36m                                                             993 columns omitted\u001b[0m"
      ]
     },
     "execution_count": 24,
     "metadata": {},
     "output_type": "execute_result"
    }
   ],
   "source": [
    "@btime $x[1, :]"
   ]
  },
  {
   "cell_type": "code",
   "execution_count": 25,
   "metadata": {},
   "outputs": [
    {
     "name": "stdout",
     "output_type": "stream",
     "text": [
      "  24.422 ns (0 allocations: 0 bytes)\n"
     ]
    },
    {
     "data": {
      "text/html": [
       "<div><div style = \"float: left;\"><span>1×1000 SubDataFrame</span></div><div style = \"float: right;\"><span style = \"font-style: italic;\">900 columns omitted</span></div><div style = \"clear: both;\"></div></div><div class = \"data-frame\" style = \"overflow-x: scroll;\"><table class = \"data-frame\" style = \"margin-bottom: 6px;\"><thead><tr class = \"header\"><th class = \"rowNumber\" style = \"font-weight: bold; text-align: right;\">Row</th><th style = \"text-align: left;\">x1</th><th style = \"text-align: left;\">x2</th><th style = \"text-align: left;\">x3</th><th style = \"text-align: left;\">x4</th><th style = \"text-align: left;\">x5</th><th style = \"text-align: left;\">x6</th><th style = \"text-align: left;\">x7</th><th style = \"text-align: left;\">x8</th><th style = \"text-align: left;\">x9</th><th style = \"text-align: left;\">x10</th><th style = \"text-align: left;\">x11</th><th style = \"text-align: left;\">x12</th><th style = \"text-align: left;\">x13</th><th style = \"text-align: left;\">x14</th><th style = \"text-align: left;\">x15</th><th style = \"text-align: left;\">x16</th><th style = \"text-align: left;\">x17</th><th style = \"text-align: left;\">x18</th><th style = \"text-align: left;\">x19</th><th style = \"text-align: left;\">x20</th><th style = \"text-align: left;\">x21</th><th style = \"text-align: left;\">x22</th><th style = \"text-align: left;\">x23</th><th style = \"text-align: left;\">x24</th><th style = \"text-align: left;\">x25</th><th style = \"text-align: left;\">x26</th><th style = \"text-align: left;\">x27</th><th style = \"text-align: left;\">x28</th><th style = \"text-align: left;\">x29</th><th style = \"text-align: left;\">x30</th><th style = \"text-align: left;\">x31</th><th style = \"text-align: left;\">x32</th><th style = \"text-align: left;\">x33</th><th style = \"text-align: left;\">x34</th><th style = \"text-align: left;\">x35</th><th style = \"text-align: left;\">x36</th><th style = \"text-align: left;\">x37</th><th style = \"text-align: left;\">x38</th><th style = \"text-align: left;\">x39</th><th style = \"text-align: left;\">x40</th><th style = \"text-align: left;\">x41</th><th style = \"text-align: left;\">x42</th><th style = \"text-align: left;\">x43</th><th style = \"text-align: left;\">x44</th><th style = \"text-align: left;\">x45</th><th style = \"text-align: left;\">x46</th><th style = \"text-align: left;\">x47</th><th style = \"text-align: left;\">x48</th><th style = \"text-align: left;\">x49</th><th style = \"text-align: left;\">x50</th><th style = \"text-align: left;\">x51</th><th style = \"text-align: left;\">x52</th><th style = \"text-align: left;\">x53</th><th style = \"text-align: left;\">x54</th><th style = \"text-align: left;\">x55</th><th style = \"text-align: left;\">x56</th><th style = \"text-align: left;\">x57</th><th style = \"text-align: left;\">x58</th><th style = \"text-align: left;\">x59</th><th style = \"text-align: left;\">x60</th><th style = \"text-align: left;\">x61</th><th style = \"text-align: left;\">x62</th><th style = \"text-align: left;\">x63</th><th style = \"text-align: left;\">x64</th><th style = \"text-align: left;\">x65</th><th style = \"text-align: left;\">x66</th><th style = \"text-align: left;\">x67</th><th style = \"text-align: left;\">x68</th><th style = \"text-align: left;\">x69</th><th style = \"text-align: left;\">x70</th><th style = \"text-align: left;\">x71</th><th style = \"text-align: left;\">x72</th><th style = \"text-align: left;\">x73</th><th style = \"text-align: left;\">x74</th><th style = \"text-align: left;\">x75</th><th style = \"text-align: left;\">x76</th><th style = \"text-align: left;\">x77</th><th style = \"text-align: left;\">x78</th><th style = \"text-align: left;\">x79</th><th style = \"text-align: left;\">x80</th><th style = \"text-align: left;\">x81</th><th style = \"text-align: left;\">x82</th><th style = \"text-align: left;\">x83</th><th style = \"text-align: left;\">x84</th><th style = \"text-align: left;\">x85</th><th style = \"text-align: left;\">x86</th><th style = \"text-align: left;\">x87</th><th style = \"text-align: left;\">x88</th><th style = \"text-align: left;\">x89</th><th style = \"text-align: left;\">x90</th><th style = \"text-align: left;\">x91</th><th style = \"text-align: left;\">x92</th><th style = \"text-align: left;\">x93</th><th style = \"text-align: left;\">x94</th><th style = \"text-align: left;\">x95</th><th style = \"text-align: left;\">x96</th><th style = \"text-align: left;\">x97</th><th style = \"text-align: left;\">x98</th><th style = \"text-align: left;\">x99</th><th style = \"text-align: left;\">x100</th><th style = \"text-align: right;\">&ctdot;</th></tr><tr class = \"subheader headerLastRow\"><th class = \"rowNumber\" style = \"font-weight: bold; text-align: right;\"></th><th title = \"Float64\" style = \"text-align: left;\">Float64</th><th title = \"Float64\" style = \"text-align: left;\">Float64</th><th title = \"Float64\" style = \"text-align: left;\">Float64</th><th title = \"Float64\" style = \"text-align: left;\">Float64</th><th title = \"Float64\" style = \"text-align: left;\">Float64</th><th title = \"Float64\" style = \"text-align: left;\">Float64</th><th title = \"Float64\" style = \"text-align: left;\">Float64</th><th title = \"Float64\" style = \"text-align: left;\">Float64</th><th title = \"Float64\" style = \"text-align: left;\">Float64</th><th title = \"Float64\" style = \"text-align: left;\">Float64</th><th title = \"Float64\" style = \"text-align: left;\">Float64</th><th title = \"Float64\" style = \"text-align: left;\">Float64</th><th title = \"Float64\" style = \"text-align: left;\">Float64</th><th title = \"Float64\" style = \"text-align: left;\">Float64</th><th title = \"Float64\" style = \"text-align: left;\">Float64</th><th title = \"Float64\" style = \"text-align: left;\">Float64</th><th title = \"Float64\" style = \"text-align: left;\">Float64</th><th title = \"Float64\" style = \"text-align: left;\">Float64</th><th title = \"Float64\" style = \"text-align: left;\">Float64</th><th title = \"Float64\" style = \"text-align: left;\">Float64</th><th title = \"Float64\" style = \"text-align: left;\">Float64</th><th title = \"Float64\" style = \"text-align: left;\">Float64</th><th title = \"Float64\" style = \"text-align: left;\">Float64</th><th title = \"Float64\" style = \"text-align: left;\">Float64</th><th title = \"Float64\" style = \"text-align: left;\">Float64</th><th title = \"Float64\" style = \"text-align: left;\">Float64</th><th title = \"Float64\" style = \"text-align: left;\">Float64</th><th title = \"Float64\" style = \"text-align: left;\">Float64</th><th title = \"Float64\" style = \"text-align: left;\">Float64</th><th title = \"Float64\" style = \"text-align: left;\">Float64</th><th title = \"Float64\" style = \"text-align: left;\">Float64</th><th title = \"Float64\" style = \"text-align: left;\">Float64</th><th title = \"Float64\" style = \"text-align: left;\">Float64</th><th title = \"Float64\" style = \"text-align: left;\">Float64</th><th title = \"Float64\" style = \"text-align: left;\">Float64</th><th title = \"Float64\" style = \"text-align: left;\">Float64</th><th title = \"Float64\" style = \"text-align: left;\">Float64</th><th title = \"Float64\" style = \"text-align: left;\">Float64</th><th title = \"Float64\" style = \"text-align: left;\">Float64</th><th title = \"Float64\" style = \"text-align: left;\">Float64</th><th title = \"Float64\" style = \"text-align: left;\">Float64</th><th title = \"Float64\" style = \"text-align: left;\">Float64</th><th title = \"Float64\" style = \"text-align: left;\">Float64</th><th title = \"Float64\" style = \"text-align: left;\">Float64</th><th title = \"Float64\" style = \"text-align: left;\">Float64</th><th title = \"Float64\" style = \"text-align: left;\">Float64</th><th title = \"Float64\" style = \"text-align: left;\">Float64</th><th title = \"Float64\" style = \"text-align: left;\">Float64</th><th title = \"Float64\" style = \"text-align: left;\">Float64</th><th title = \"Float64\" style = \"text-align: left;\">Float64</th><th title = \"Float64\" style = \"text-align: left;\">Float64</th><th title = \"Float64\" style = \"text-align: left;\">Float64</th><th title = \"Float64\" style = \"text-align: left;\">Float64</th><th title = \"Float64\" style = \"text-align: left;\">Float64</th><th title = \"Float64\" style = \"text-align: left;\">Float64</th><th title = \"Float64\" style = \"text-align: left;\">Float64</th><th title = \"Float64\" style = \"text-align: left;\">Float64</th><th title = \"Float64\" style = \"text-align: left;\">Float64</th><th title = \"Float64\" style = \"text-align: left;\">Float64</th><th title = \"Float64\" style = \"text-align: left;\">Float64</th><th title = \"Float64\" style = \"text-align: left;\">Float64</th><th title = \"Float64\" style = \"text-align: left;\">Float64</th><th title = \"Float64\" style = \"text-align: left;\">Float64</th><th title = \"Float64\" style = \"text-align: left;\">Float64</th><th title = \"Float64\" style = \"text-align: left;\">Float64</th><th title = \"Float64\" style = \"text-align: left;\">Float64</th><th title = \"Float64\" style = \"text-align: left;\">Float64</th><th title = \"Float64\" style = \"text-align: left;\">Float64</th><th title = \"Float64\" style = \"text-align: left;\">Float64</th><th title = \"Float64\" style = \"text-align: left;\">Float64</th><th title = \"Float64\" style = \"text-align: left;\">Float64</th><th title = \"Float64\" style = \"text-align: left;\">Float64</th><th title = \"Float64\" style = \"text-align: left;\">Float64</th><th title = \"Float64\" style = \"text-align: left;\">Float64</th><th title = \"Float64\" style = \"text-align: left;\">Float64</th><th title = \"Float64\" style = \"text-align: left;\">Float64</th><th title = \"Float64\" style = \"text-align: left;\">Float64</th><th title = \"Float64\" style = \"text-align: left;\">Float64</th><th title = \"Float64\" style = \"text-align: left;\">Float64</th><th title = \"Float64\" style = \"text-align: left;\">Float64</th><th title = \"Float64\" style = \"text-align: left;\">Float64</th><th title = \"Float64\" style = \"text-align: left;\">Float64</th><th title = \"Float64\" style = \"text-align: left;\">Float64</th><th title = \"Float64\" style = \"text-align: left;\">Float64</th><th title = \"Float64\" style = \"text-align: left;\">Float64</th><th title = \"Float64\" style = \"text-align: left;\">Float64</th><th title = \"Float64\" style = \"text-align: left;\">Float64</th><th title = \"Float64\" style = \"text-align: left;\">Float64</th><th title = \"Float64\" style = \"text-align: left;\">Float64</th><th title = \"Float64\" style = \"text-align: left;\">Float64</th><th title = \"Float64\" style = \"text-align: left;\">Float64</th><th title = \"Float64\" style = \"text-align: left;\">Float64</th><th title = \"Float64\" style = \"text-align: left;\">Float64</th><th title = \"Float64\" style = \"text-align: left;\">Float64</th><th title = \"Float64\" style = \"text-align: left;\">Float64</th><th title = \"Float64\" style = \"text-align: left;\">Float64</th><th title = \"Float64\" style = \"text-align: left;\">Float64</th><th title = \"Float64\" style = \"text-align: left;\">Float64</th><th title = \"Float64\" style = \"text-align: left;\">Float64</th><th title = \"Float64\" style = \"text-align: left;\">Float64</th><th title = \"Float64\" style = \"text-align: right;\">&ctdot;</th></tr></thead><tbody><tr><td class = \"rowNumber\" style = \"font-weight: bold; text-align: right;\">1</td><td style = \"text-align: right;\">0.0903367</td><td style = \"text-align: right;\">0.163747</td><td style = \"text-align: right;\">0.684125</td><td style = \"text-align: right;\">0.359433</td><td style = \"text-align: right;\">0.391201</td><td style = \"text-align: right;\">0.553945</td><td style = \"text-align: right;\">0.386801</td><td style = \"text-align: right;\">0.170243</td><td style = \"text-align: right;\">0.785965</td><td style = \"text-align: right;\">0.37364</td><td style = \"text-align: right;\">0.121847</td><td style = \"text-align: right;\">0.319183</td><td style = \"text-align: right;\">0.318759</td><td style = \"text-align: right;\">0.816578</td><td style = \"text-align: right;\">0.158892</td><td style = \"text-align: right;\">0.146362</td><td style = \"text-align: right;\">0.0662521</td><td style = \"text-align: right;\">0.293301</td><td style = \"text-align: right;\">0.965506</td><td style = \"text-align: right;\">0.992222</td><td style = \"text-align: right;\">0.387689</td><td style = \"text-align: right;\">0.901977</td><td style = \"text-align: right;\">0.266571</td><td style = \"text-align: right;\">0.904297</td><td style = \"text-align: right;\">0.996896</td><td style = \"text-align: right;\">0.822812</td><td style = \"text-align: right;\">0.00759657</td><td style = \"text-align: right;\">0.0638031</td><td style = \"text-align: right;\">0.231909</td><td style = \"text-align: right;\">0.199771</td><td style = \"text-align: right;\">0.971534</td><td style = \"text-align: right;\">0.795822</td><td style = \"text-align: right;\">0.258391</td><td style = \"text-align: right;\">0.99457</td><td style = \"text-align: right;\">0.718742</td><td style = \"text-align: right;\">0.85089</td><td style = \"text-align: right;\">0.836376</td><td style = \"text-align: right;\">0.264602</td><td style = \"text-align: right;\">0.208107</td><td style = \"text-align: right;\">0.046411</td><td style = \"text-align: right;\">0.289224</td><td style = \"text-align: right;\">0.329341</td><td style = \"text-align: right;\">0.414283</td><td style = \"text-align: right;\">0.597822</td><td style = \"text-align: right;\">0.9839</td><td style = \"text-align: right;\">0.359793</td><td style = \"text-align: right;\">0.676169</td><td style = \"text-align: right;\">0.595102</td><td style = \"text-align: right;\">0.85256</td><td style = \"text-align: right;\">0.411566</td><td style = \"text-align: right;\">0.848235</td><td style = \"text-align: right;\">0.114632</td><td style = \"text-align: right;\">0.280953</td><td style = \"text-align: right;\">0.146555</td><td style = \"text-align: right;\">0.113455</td><td style = \"text-align: right;\">0.282086</td><td style = \"text-align: right;\">0.703041</td><td style = \"text-align: right;\">0.240051</td><td style = \"text-align: right;\">0.490823</td><td style = \"text-align: right;\">0.539732</td><td style = \"text-align: right;\">0.623681</td><td style = \"text-align: right;\">0.988882</td><td style = \"text-align: right;\">0.457174</td><td style = \"text-align: right;\">0.465744</td><td style = \"text-align: right;\">0.182501</td><td style = \"text-align: right;\">0.465968</td><td style = \"text-align: right;\">0.961894</td><td style = \"text-align: right;\">0.680664</td><td style = \"text-align: right;\">0.70148</td><td style = \"text-align: right;\">0.480709</td><td style = \"text-align: right;\">0.338984</td><td style = \"text-align: right;\">0.0535537</td><td style = \"text-align: right;\">0.794744</td><td style = \"text-align: right;\">0.403971</td><td style = \"text-align: right;\">0.481755</td><td style = \"text-align: right;\">0.541795</td><td style = \"text-align: right;\">0.915109</td><td style = \"text-align: right;\">0.245369</td><td style = \"text-align: right;\">0.172523</td><td style = \"text-align: right;\">0.677059</td><td style = \"text-align: right;\">0.152196</td><td style = \"text-align: right;\">0.487205</td><td style = \"text-align: right;\">0.110634</td><td style = \"text-align: right;\">0.715605</td><td style = \"text-align: right;\">0.781465</td><td style = \"text-align: right;\">0.833483</td><td style = \"text-align: right;\">0.244138</td><td style = \"text-align: right;\">0.789438</td><td style = \"text-align: right;\">0.407008</td><td style = \"text-align: right;\">0.476403</td><td style = \"text-align: right;\">0.677984</td><td style = \"text-align: right;\">0.173702</td><td style = \"text-align: right;\">0.461884</td><td style = \"text-align: right;\">0.730055</td><td style = \"text-align: right;\">0.489883</td><td style = \"text-align: right;\">0.583402</td><td style = \"text-align: right;\">0.272328</td><td style = \"text-align: right;\">0.403047</td><td style = \"text-align: right;\">0.946289</td><td style = \"text-align: right;\">0.174344</td><td style = \"text-align: right;\">&ctdot;</td></tr></tbody></table></div>"
      ],
      "text/latex": [
       "\\begin{tabular}{r|ccccccccc}\n",
       "\t& x1 & x2 & x3 & x4 & x5 & x6 & x7 & x8 & \\\\\n",
       "\t\\hline\n",
       "\t& Float64 & Float64 & Float64 & Float64 & Float64 & Float64 & Float64 & Float64 & \\\\\n",
       "\t\\hline\n",
       "\t1 & 0.0903367 & 0.163747 & 0.684125 & 0.359433 & 0.391201 & 0.553945 & 0.386801 & 0.170243 & $\\dots$ \\\\\n",
       "\\end{tabular}\n"
      ],
      "text/plain": [
       "\u001b[1m1×1000 SubDataFrame\u001b[0m\n",
       "\u001b[1m Row \u001b[0m│\u001b[1m x1        \u001b[0m\u001b[1m x2       \u001b[0m\u001b[1m x3       \u001b[0m\u001b[1m x4       \u001b[0m\u001b[1m x5       \u001b[0m\u001b[1m x6       \u001b[0m\u001b[1m x7       \u001b[0m\u001b[1m \u001b[0m ⋯\n",
       "     │\u001b[90m Float64   \u001b[0m\u001b[90m Float64  \u001b[0m\u001b[90m Float64  \u001b[0m\u001b[90m Float64  \u001b[0m\u001b[90m Float64  \u001b[0m\u001b[90m Float64  \u001b[0m\u001b[90m Float64  \u001b[0m\u001b[90m \u001b[0m ⋯\n",
       "─────┼──────────────────────────────────────────────────────────────────────────\n",
       "   1 │ 0.0903367  0.163747  0.684125  0.359433  0.391201  0.553945  0.386801   ⋯\n",
       "\u001b[36m                                                             993 columns omitted\u001b[0m"
      ]
     },
     "execution_count": 25,
     "metadata": {},
     "output_type": "execute_result"
    }
   ],
   "source": [
    "@btime view($x, 1:1, :)"
   ]
  },
  {
   "cell_type": "code",
   "execution_count": 26,
   "metadata": {},
   "outputs": [
    {
     "name": "stdout",
     "output_type": "stream",
     "text": [
      "  3.750 μs (51 allocations: 4.28 KiB)\n"
     ]
    },
    {
     "data": {
      "text/html": [
       "<div><div style = \"float: left;\"><span>1×20 DataFrame</span></div><div style = \"clear: both;\"></div></div><div class = \"data-frame\" style = \"overflow-x: scroll;\"><table class = \"data-frame\" style = \"margin-bottom: 6px;\"><thead><tr class = \"header\"><th class = \"rowNumber\" style = \"font-weight: bold; text-align: right;\">Row</th><th style = \"text-align: left;\">x1</th><th style = \"text-align: left;\">x2</th><th style = \"text-align: left;\">x3</th><th style = \"text-align: left;\">x4</th><th style = \"text-align: left;\">x5</th><th style = \"text-align: left;\">x6</th><th style = \"text-align: left;\">x7</th><th style = \"text-align: left;\">x8</th><th style = \"text-align: left;\">x9</th><th style = \"text-align: left;\">x10</th><th style = \"text-align: left;\">x11</th><th style = \"text-align: left;\">x12</th><th style = \"text-align: left;\">x13</th><th style = \"text-align: left;\">x14</th><th style = \"text-align: left;\">x15</th><th style = \"text-align: left;\">x16</th><th style = \"text-align: left;\">x17</th><th style = \"text-align: left;\">x18</th><th style = \"text-align: left;\">x19</th><th style = \"text-align: left;\">x20</th></tr><tr class = \"subheader headerLastRow\"><th class = \"rowNumber\" style = \"font-weight: bold; text-align: right;\"></th><th title = \"Float64\" style = \"text-align: left;\">Float64</th><th title = \"Float64\" style = \"text-align: left;\">Float64</th><th title = \"Float64\" style = \"text-align: left;\">Float64</th><th title = \"Float64\" style = \"text-align: left;\">Float64</th><th title = \"Float64\" style = \"text-align: left;\">Float64</th><th title = \"Float64\" style = \"text-align: left;\">Float64</th><th title = \"Float64\" style = \"text-align: left;\">Float64</th><th title = \"Float64\" style = \"text-align: left;\">Float64</th><th title = \"Float64\" style = \"text-align: left;\">Float64</th><th title = \"Float64\" style = \"text-align: left;\">Float64</th><th title = \"Float64\" style = \"text-align: left;\">Float64</th><th title = \"Float64\" style = \"text-align: left;\">Float64</th><th title = \"Float64\" style = \"text-align: left;\">Float64</th><th title = \"Float64\" style = \"text-align: left;\">Float64</th><th title = \"Float64\" style = \"text-align: left;\">Float64</th><th title = \"Float64\" style = \"text-align: left;\">Float64</th><th title = \"Float64\" style = \"text-align: left;\">Float64</th><th title = \"Float64\" style = \"text-align: left;\">Float64</th><th title = \"Float64\" style = \"text-align: left;\">Float64</th><th title = \"Float64\" style = \"text-align: left;\">Float64</th></tr></thead><tbody><tr><td class = \"rowNumber\" style = \"font-weight: bold; text-align: right;\">1</td><td style = \"text-align: right;\">0.0903367</td><td style = \"text-align: right;\">0.163747</td><td style = \"text-align: right;\">0.684125</td><td style = \"text-align: right;\">0.359433</td><td style = \"text-align: right;\">0.391201</td><td style = \"text-align: right;\">0.553945</td><td style = \"text-align: right;\">0.386801</td><td style = \"text-align: right;\">0.170243</td><td style = \"text-align: right;\">0.785965</td><td style = \"text-align: right;\">0.37364</td><td style = \"text-align: right;\">0.121847</td><td style = \"text-align: right;\">0.319183</td><td style = \"text-align: right;\">0.318759</td><td style = \"text-align: right;\">0.816578</td><td style = \"text-align: right;\">0.158892</td><td style = \"text-align: right;\">0.146362</td><td style = \"text-align: right;\">0.0662521</td><td style = \"text-align: right;\">0.293301</td><td style = \"text-align: right;\">0.965506</td><td style = \"text-align: right;\">0.992222</td></tr></tbody></table></div>"
      ],
      "text/latex": [
       "\\begin{tabular}{r|ccccccccc}\n",
       "\t& x1 & x2 & x3 & x4 & x5 & x6 & x7 & x8 & \\\\\n",
       "\t\\hline\n",
       "\t& Float64 & Float64 & Float64 & Float64 & Float64 & Float64 & Float64 & Float64 & \\\\\n",
       "\t\\hline\n",
       "\t1 & 0.0903367 & 0.163747 & 0.684125 & 0.359433 & 0.391201 & 0.553945 & 0.386801 & 0.170243 & $\\dots$ \\\\\n",
       "\\end{tabular}\n"
      ],
      "text/plain": [
       "\u001b[1m1×20 DataFrame\u001b[0m\n",
       "\u001b[1m Row \u001b[0m│\u001b[1m x1        \u001b[0m\u001b[1m x2       \u001b[0m\u001b[1m x3       \u001b[0m\u001b[1m x4       \u001b[0m\u001b[1m x5       \u001b[0m\u001b[1m x6       \u001b[0m\u001b[1m x7       \u001b[0m\u001b[1m \u001b[0m ⋯\n",
       "     │\u001b[90m Float64   \u001b[0m\u001b[90m Float64  \u001b[0m\u001b[90m Float64  \u001b[0m\u001b[90m Float64  \u001b[0m\u001b[90m Float64  \u001b[0m\u001b[90m Float64  \u001b[0m\u001b[90m Float64  \u001b[0m\u001b[90m \u001b[0m ⋯\n",
       "─────┼──────────────────────────────────────────────────────────────────────────\n",
       "   1 │ 0.0903367  0.163747  0.684125  0.359433  0.391201  0.553945  0.386801   ⋯\n",
       "\u001b[36m                                                              13 columns omitted\u001b[0m"
      ]
     },
     "execution_count": 26,
     "metadata": {},
     "output_type": "execute_result"
    }
   ],
   "source": [
    "@btime $x[1:1, 1:20]"
   ]
  },
  {
   "cell_type": "code",
   "execution_count": 27,
   "metadata": {},
   "outputs": [
    {
     "name": "stdout",
     "output_type": "stream",
     "text": [
      "  29.548 ns (0 allocations: 0 bytes)\n"
     ]
    },
    {
     "data": {
      "text/html": [
       "<div><div style = \"float: left;\"><span>DataFrameRow (20 columns)</span></div><div style = \"clear: both;\"></div></div><div class = \"data-frame\" style = \"overflow-x: scroll;\"><table class = \"data-frame\" style = \"margin-bottom: 6px;\"><thead><tr class = \"header\"><th class = \"rowLabel\" style = \"font-weight: bold; text-align: right;\">Row</th><th style = \"text-align: left;\">x1</th><th style = \"text-align: left;\">x2</th><th style = \"text-align: left;\">x3</th><th style = \"text-align: left;\">x4</th><th style = \"text-align: left;\">x5</th><th style = \"text-align: left;\">x6</th><th style = \"text-align: left;\">x7</th><th style = \"text-align: left;\">x8</th><th style = \"text-align: left;\">x9</th><th style = \"text-align: left;\">x10</th><th style = \"text-align: left;\">x11</th><th style = \"text-align: left;\">x12</th><th style = \"text-align: left;\">x13</th><th style = \"text-align: left;\">x14</th><th style = \"text-align: left;\">x15</th><th style = \"text-align: left;\">x16</th><th style = \"text-align: left;\">x17</th><th style = \"text-align: left;\">x18</th><th style = \"text-align: left;\">x19</th><th style = \"text-align: left;\">x20</th></tr><tr class = \"subheader headerLastRow\"><th class = \"rowLabel\" style = \"font-weight: bold; text-align: right;\"></th><th title = \"Float64\" style = \"text-align: left;\">Float64</th><th title = \"Float64\" style = \"text-align: left;\">Float64</th><th title = \"Float64\" style = \"text-align: left;\">Float64</th><th title = \"Float64\" style = \"text-align: left;\">Float64</th><th title = \"Float64\" style = \"text-align: left;\">Float64</th><th title = \"Float64\" style = \"text-align: left;\">Float64</th><th title = \"Float64\" style = \"text-align: left;\">Float64</th><th title = \"Float64\" style = \"text-align: left;\">Float64</th><th title = \"Float64\" style = \"text-align: left;\">Float64</th><th title = \"Float64\" style = \"text-align: left;\">Float64</th><th title = \"Float64\" style = \"text-align: left;\">Float64</th><th title = \"Float64\" style = \"text-align: left;\">Float64</th><th title = \"Float64\" style = \"text-align: left;\">Float64</th><th title = \"Float64\" style = \"text-align: left;\">Float64</th><th title = \"Float64\" style = \"text-align: left;\">Float64</th><th title = \"Float64\" style = \"text-align: left;\">Float64</th><th title = \"Float64\" style = \"text-align: left;\">Float64</th><th title = \"Float64\" style = \"text-align: left;\">Float64</th><th title = \"Float64\" style = \"text-align: left;\">Float64</th><th title = \"Float64\" style = \"text-align: left;\">Float64</th></tr></thead><tbody><tr><td class = \"rowLabel\" style = \"font-weight: bold; text-align: right;\">1</td><td style = \"text-align: right;\">0.0903367</td><td style = \"text-align: right;\">0.163747</td><td style = \"text-align: right;\">0.684125</td><td style = \"text-align: right;\">0.359433</td><td style = \"text-align: right;\">0.391201</td><td style = \"text-align: right;\">0.553945</td><td style = \"text-align: right;\">0.386801</td><td style = \"text-align: right;\">0.170243</td><td style = \"text-align: right;\">0.785965</td><td style = \"text-align: right;\">0.37364</td><td style = \"text-align: right;\">0.121847</td><td style = \"text-align: right;\">0.319183</td><td style = \"text-align: right;\">0.318759</td><td style = \"text-align: right;\">0.816578</td><td style = \"text-align: right;\">0.158892</td><td style = \"text-align: right;\">0.146362</td><td style = \"text-align: right;\">0.0662521</td><td style = \"text-align: right;\">0.293301</td><td style = \"text-align: right;\">0.965506</td><td style = \"text-align: right;\">0.992222</td></tr></tbody></table></div>"
      ],
      "text/latex": [
       "\\begin{tabular}{r|ccccccccc}\n",
       "\t& x1 & x2 & x3 & x4 & x5 & x6 & x7 & x8 & \\\\\n",
       "\t\\hline\n",
       "\t& Float64 & Float64 & Float64 & Float64 & Float64 & Float64 & Float64 & Float64 & \\\\\n",
       "\t\\hline\n",
       "\t1 & 0.0903367 & 0.163747 & 0.684125 & 0.359433 & 0.391201 & 0.553945 & 0.386801 & 0.170243 & $\\dots$ \\\\\n",
       "\\end{tabular}\n"
      ],
      "text/plain": [
       "\u001b[1mDataFrameRow\u001b[0m\n",
       "\u001b[1m Row \u001b[0m│\u001b[1m x1        \u001b[0m\u001b[1m x2       \u001b[0m\u001b[1m x3       \u001b[0m\u001b[1m x4       \u001b[0m\u001b[1m x5       \u001b[0m\u001b[1m x6       \u001b[0m\u001b[1m x7       \u001b[0m\u001b[1m \u001b[0m ⋯\n",
       "     │\u001b[90m Float64   \u001b[0m\u001b[90m Float64  \u001b[0m\u001b[90m Float64  \u001b[0m\u001b[90m Float64  \u001b[0m\u001b[90m Float64  \u001b[0m\u001b[90m Float64  \u001b[0m\u001b[90m Float64  \u001b[0m\u001b[90m \u001b[0m ⋯\n",
       "─────┼──────────────────────────────────────────────────────────────────────────\n",
       "   1 │ 0.0903367  0.163747  0.684125  0.359433  0.391201  0.553945  0.386801   ⋯\n",
       "\u001b[36m                                                              13 columns omitted\u001b[0m"
      ]
     },
     "execution_count": 27,
     "metadata": {},
     "output_type": "execute_result"
    }
   ],
   "source": [
    "@btime $x[1, 1:20]"
   ]
  },
  {
   "cell_type": "code",
   "execution_count": 28,
   "metadata": {},
   "outputs": [
    {
     "name": "stdout",
     "output_type": "stream",
     "text": [
      "  27.739 ns (0 allocations: 0 bytes)\n"
     ]
    },
    {
     "data": {
      "text/html": [
       "<div><div style = \"float: left;\"><span>1×20 SubDataFrame</span></div><div style = \"clear: both;\"></div></div><div class = \"data-frame\" style = \"overflow-x: scroll;\"><table class = \"data-frame\" style = \"margin-bottom: 6px;\"><thead><tr class = \"header\"><th class = \"rowNumber\" style = \"font-weight: bold; text-align: right;\">Row</th><th style = \"text-align: left;\">x1</th><th style = \"text-align: left;\">x2</th><th style = \"text-align: left;\">x3</th><th style = \"text-align: left;\">x4</th><th style = \"text-align: left;\">x5</th><th style = \"text-align: left;\">x6</th><th style = \"text-align: left;\">x7</th><th style = \"text-align: left;\">x8</th><th style = \"text-align: left;\">x9</th><th style = \"text-align: left;\">x10</th><th style = \"text-align: left;\">x11</th><th style = \"text-align: left;\">x12</th><th style = \"text-align: left;\">x13</th><th style = \"text-align: left;\">x14</th><th style = \"text-align: left;\">x15</th><th style = \"text-align: left;\">x16</th><th style = \"text-align: left;\">x17</th><th style = \"text-align: left;\">x18</th><th style = \"text-align: left;\">x19</th><th style = \"text-align: left;\">x20</th></tr><tr class = \"subheader headerLastRow\"><th class = \"rowNumber\" style = \"font-weight: bold; text-align: right;\"></th><th title = \"Float64\" style = \"text-align: left;\">Float64</th><th title = \"Float64\" style = \"text-align: left;\">Float64</th><th title = \"Float64\" style = \"text-align: left;\">Float64</th><th title = \"Float64\" style = \"text-align: left;\">Float64</th><th title = \"Float64\" style = \"text-align: left;\">Float64</th><th title = \"Float64\" style = \"text-align: left;\">Float64</th><th title = \"Float64\" style = \"text-align: left;\">Float64</th><th title = \"Float64\" style = \"text-align: left;\">Float64</th><th title = \"Float64\" style = \"text-align: left;\">Float64</th><th title = \"Float64\" style = \"text-align: left;\">Float64</th><th title = \"Float64\" style = \"text-align: left;\">Float64</th><th title = \"Float64\" style = \"text-align: left;\">Float64</th><th title = \"Float64\" style = \"text-align: left;\">Float64</th><th title = \"Float64\" style = \"text-align: left;\">Float64</th><th title = \"Float64\" style = \"text-align: left;\">Float64</th><th title = \"Float64\" style = \"text-align: left;\">Float64</th><th title = \"Float64\" style = \"text-align: left;\">Float64</th><th title = \"Float64\" style = \"text-align: left;\">Float64</th><th title = \"Float64\" style = \"text-align: left;\">Float64</th><th title = \"Float64\" style = \"text-align: left;\">Float64</th></tr></thead><tbody><tr><td class = \"rowNumber\" style = \"font-weight: bold; text-align: right;\">1</td><td style = \"text-align: right;\">0.0903367</td><td style = \"text-align: right;\">0.163747</td><td style = \"text-align: right;\">0.684125</td><td style = \"text-align: right;\">0.359433</td><td style = \"text-align: right;\">0.391201</td><td style = \"text-align: right;\">0.553945</td><td style = \"text-align: right;\">0.386801</td><td style = \"text-align: right;\">0.170243</td><td style = \"text-align: right;\">0.785965</td><td style = \"text-align: right;\">0.37364</td><td style = \"text-align: right;\">0.121847</td><td style = \"text-align: right;\">0.319183</td><td style = \"text-align: right;\">0.318759</td><td style = \"text-align: right;\">0.816578</td><td style = \"text-align: right;\">0.158892</td><td style = \"text-align: right;\">0.146362</td><td style = \"text-align: right;\">0.0662521</td><td style = \"text-align: right;\">0.293301</td><td style = \"text-align: right;\">0.965506</td><td style = \"text-align: right;\">0.992222</td></tr></tbody></table></div>"
      ],
      "text/latex": [
       "\\begin{tabular}{r|ccccccccc}\n",
       "\t& x1 & x2 & x3 & x4 & x5 & x6 & x7 & x8 & \\\\\n",
       "\t\\hline\n",
       "\t& Float64 & Float64 & Float64 & Float64 & Float64 & Float64 & Float64 & Float64 & \\\\\n",
       "\t\\hline\n",
       "\t1 & 0.0903367 & 0.163747 & 0.684125 & 0.359433 & 0.391201 & 0.553945 & 0.386801 & 0.170243 & $\\dots$ \\\\\n",
       "\\end{tabular}\n"
      ],
      "text/plain": [
       "\u001b[1m1×20 SubDataFrame\u001b[0m\n",
       "\u001b[1m Row \u001b[0m│\u001b[1m x1        \u001b[0m\u001b[1m x2       \u001b[0m\u001b[1m x3       \u001b[0m\u001b[1m x4       \u001b[0m\u001b[1m x5       \u001b[0m\u001b[1m x6       \u001b[0m\u001b[1m x7       \u001b[0m\u001b[1m \u001b[0m ⋯\n",
       "     │\u001b[90m Float64   \u001b[0m\u001b[90m Float64  \u001b[0m\u001b[90m Float64  \u001b[0m\u001b[90m Float64  \u001b[0m\u001b[90m Float64  \u001b[0m\u001b[90m Float64  \u001b[0m\u001b[90m Float64  \u001b[0m\u001b[90m \u001b[0m ⋯\n",
       "─────┼──────────────────────────────────────────────────────────────────────────\n",
       "   1 │ 0.0903367  0.163747  0.684125  0.359433  0.391201  0.553945  0.386801   ⋯\n",
       "\u001b[36m                                                              13 columns omitted\u001b[0m"
      ]
     },
     "execution_count": 28,
     "metadata": {},
     "output_type": "execute_result"
    }
   ],
   "source": [
    "@btime view($x, 1:1, 1:20)"
   ]
  }
 ],
 "metadata": {
  "@webio": {
   "lastCommId": null,
   "lastKernelId": null
  },
  "kernelspec": {
   "display_name": "Julia 1.8.2",
   "language": "julia",
   "name": "julia-1.8"
  },
  "language_info": {
   "file_extension": ".jl",
   "mimetype": "application/julia",
   "name": "julia",
   "version": "1.8.2"
  }
 },
 "nbformat": 4,
 "nbformat_minor": 1
}
