{
 "cells": [
  {
   "cell_type": "markdown",
   "metadata": {},
   "source": [
    "# Introduction to DataFrames\n",
    "**[Bogumił Kamiński](http://bogumilkaminski.pl/about/), May 15, 2021**"
   ]
  },
  {
   "cell_type": "code",
   "execution_count": 1,
   "metadata": {},
   "outputs": [],
   "source": [
    "using DataFrames"
   ]
  },
  {
   "cell_type": "code",
   "execution_count": 2,
   "metadata": {},
   "outputs": [],
   "source": [
    "using BenchmarkTools"
   ]
  },
  {
   "cell_type": "code",
   "execution_count": 3,
   "metadata": {},
   "outputs": [],
   "source": [
    "using CategoricalArrays"
   ]
  },
  {
   "cell_type": "code",
   "execution_count": 4,
   "metadata": {},
   "outputs": [],
   "source": [
    "using PooledArrays"
   ]
  },
  {
   "cell_type": "markdown",
   "metadata": {},
   "source": [
    "## Performance tips"
   ]
  },
  {
   "cell_type": "markdown",
   "metadata": {},
   "source": [
    "### Access by column number is faster than by name"
   ]
  },
  {
   "cell_type": "code",
   "execution_count": 5,
   "metadata": {},
   "outputs": [
    {
     "name": "stdout",
     "output_type": "stream",
     "text": [
      "  5.832 ns (0 allocations: 0 bytes)\n",
      "  24.397 ns (1 allocation: 32 bytes)\n"
     ]
    }
   ],
   "source": [
    "x = DataFrame(rand(5, 1000), :auto)\n",
    "@btime $x[!, 500];\n",
    "@btime $x.x500;"
   ]
  },
  {
   "cell_type": "markdown",
   "metadata": {},
   "source": [
    "### When working with data `DataFrame` use barrier functions or type annotation"
   ]
  },
  {
   "cell_type": "code",
   "execution_count": 6,
   "metadata": {},
   "outputs": [
    {
     "name": "stdout",
     "output_type": "stream",
     "text": [
      "  78.966 ms (5999015 allocations: 122.06 MiB)\n"
     ]
    }
   ],
   "source": [
    "using Random\n",
    "function f_bad() # this function will be slow\n",
    "    Random.seed!(1); x = DataFrame(rand(1000000,2), :auto)\n",
    "    y, z = x[!, 1], x[!, 2]\n",
    "    p = 0.0\n",
    "    for i in 1:nrow(x)\n",
    "        p += y[i]*z[i]\n",
    "    end\n",
    "    p\n",
    "end\n",
    "\n",
    "@btime f_bad();\n",
    "# if you run @code_warntype f_bad() then you notice\n",
    "# that Julia does not know column types of `DataFrame`\n"
   ]
  },
  {
   "cell_type": "code",
   "execution_count": 7,
   "metadata": {},
   "outputs": [
    {
     "name": "stdout",
     "output_type": "stream",
     "text": [
      "  5.644 ms (35 allocations: 30.52 MiB)\n",
      "  5.596 ms (35 allocations: 30.52 MiB)\n"
     ]
    }
   ],
   "source": [
    "# solution 1 is to use barrier function (it should be possible to use it in almost any code)\n",
    "function f_inner(y,z)\n",
    "   p = 0.0\n",
    "   for i in 1:length(y)\n",
    "       p += y[i]*z[i]\n",
    "   end\n",
    "   p\n",
    "end\n",
    "\n",
    "function f_barrier() # extract the work to an inner function\n",
    "    Random.seed!(1); x = DataFrame(rand(1000000,2), :auto)\n",
    "    f_inner(x[!, 1], x[!, 2])\n",
    "end\n",
    "\n",
    "using LinearAlgebra\n",
    "function f_inbuilt() # or use inbuilt function if possible\n",
    "    Random.seed!(1); x = DataFrame(rand(1000000,2), :auto)\n",
    "    dot(x[!, 1], x[!, 2])\n",
    "end\n",
    "\n",
    "@btime f_barrier();\n",
    "@btime f_inbuilt();"
   ]
  },
  {
   "cell_type": "code",
   "execution_count": 8,
   "metadata": {},
   "outputs": [
    {
     "name": "stdout",
     "output_type": "stream",
     "text": [
      "  5.451 ms (35 allocations: 30.52 MiB)\n"
     ]
    }
   ],
   "source": [
    "# solution 2 is to provide the types of extracted columns\n",
    "# it is simpler but there are cases in which you will not know these types\n",
    "# This example  assumes that you have DataFrames master at least from August 31, 2018\n",
    "function f_typed()\n",
    "    Random.seed!(1); x = DataFrame(rand(1000000,2), :auto)\n",
    "    y::Vector{Float64}, z::Vector{Float64} = x[!, 1], x[!, 2]\n",
    "    p = 0.0\n",
    "    for i in 1:nrow(x)\n",
    "        p += y[i]*z[i]\n",
    "    end\n",
    "    p\n",
    "end\n",
    "\n",
    "@btime f_typed();"
   ]
  },
  {
   "cell_type": "markdown",
   "metadata": {},
   "source": [
    "In general for tall and narrow tables it is often useful to use `Tables.rowtable`, `Tables.columntable` or `Tables.namedtupleiterator` for intermediate processing of data in a type-stable way."
   ]
  },
  {
   "cell_type": "markdown",
   "metadata": {},
   "source": [
    "### Consider using delayed `DataFrame` creation technique"
   ]
  },
  {
   "cell_type": "markdown",
   "metadata": {},
   "source": [
    "also notice the difference in performance between copying vs non-copying data frame creation"
   ]
  },
  {
   "cell_type": "code",
   "execution_count": 9,
   "metadata": {},
   "outputs": [
    {
     "name": "stdout",
     "output_type": "stream",
     "text": [
      "  24.082 ms (1949523 allocations: 37.40 MiB)\n",
      "  26.004 ms (1949723 allocations: 45.04 MiB)\n",
      "  3.932 ms (623 allocations: 7.66 MiB)\n",
      "  5.144 ms (823 allocations: 15.30 MiB)\n"
     ]
    }
   ],
   "source": [
    "function f1()\n",
    "    x = DataFrame([Vector{Float64}(undef, 10^4) for i in 1:100], :auto, copycols=false) # we work with a DataFrame directly\n",
    "    for c in 1:ncol(x)\n",
    "        d = x[!, c]\n",
    "        for r in 1:nrow(x)\n",
    "            d[r] = rand()\n",
    "        end\n",
    "    end\n",
    "    x\n",
    "end\n",
    "\n",
    "function f1a()\n",
    "    x = DataFrame([Vector{Float64}(undef, 10^4) for i in 1:100], :auto) # we work with a DataFrame directly\n",
    "    for c in 1:ncol(x)\n",
    "        d = x[!, c]\n",
    "        for r in 1:nrow(x)\n",
    "            d[r] = rand()\n",
    "        end\n",
    "    end\n",
    "    x\n",
    "end\n",
    "\n",
    "function f2()\n",
    "    x = Vector{Any}(undef, 100)\n",
    "    for c in 1:length(x)\n",
    "        d = Vector{Float64}(undef, 10^4)\n",
    "        for r in 1:length(d)\n",
    "            d[r] = rand()\n",
    "        end\n",
    "        x[c] = d\n",
    "    end\n",
    "    DataFrame(x, :auto, copycols=false) # we delay creation of DataFrame after we have our job done\n",
    "end\n",
    "\n",
    "function f2a()\n",
    "    x = Vector{Any}(undef, 100)\n",
    "    for c in 1:length(x)\n",
    "        d = Vector{Float64}(undef, 10^4)\n",
    "        for r in 1:length(d)\n",
    "            d[r] = rand()\n",
    "        end\n",
    "        x[c] = d\n",
    "    end\n",
    "    DataFrame(x, :auto) # we delay creation of DataFrame after we have our job done\n",
    "end\n",
    "\n",
    "@btime f1();\n",
    "@btime f1a();\n",
    "@btime f2();\n",
    "@btime f2a();"
   ]
  },
  {
   "cell_type": "markdown",
   "metadata": {},
   "source": [
    "### You can add rows to a `DataFrame` in place and it is fast"
   ]
  },
  {
   "cell_type": "code",
   "execution_count": 10,
   "metadata": {},
   "outputs": [
    {
     "name": "stdout",
     "output_type": "stream",
     "text": [
      "  3.413 ms (153 allocations: 38.16 MiB)\n",
      "  999.200 ns (17 allocations: 832 bytes)\n",
      "  406.851 ns (16 allocations: 256 bytes)\n"
     ]
    }
   ],
   "source": [
    "x = DataFrame(rand(10^6, 5), :auto)\n",
    "y = DataFrame(transpose(1.0:5.0), :auto)\n",
    "z = [1.0:5.0;]\n",
    "\n",
    "@btime vcat($x, $y); # creates a new DataFrame - slow\n",
    "@btime append!($x, $y); # in place - fast\n",
    "\n",
    "x = DataFrame(rand(10^6, 5), :auto) # reset to the same starting point\n",
    "@btime push!($x, $z); # add a single row in place - fast"
   ]
  },
  {
   "cell_type": "markdown",
   "metadata": {},
   "source": [
    "### Allowing `missing` as well as `categorical` slows down computations"
   ]
  },
  {
   "cell_type": "code",
   "execution_count": 11,
   "metadata": {},
   "outputs": [
    {
     "name": "stdout",
     "output_type": "stream",
     "text": [
      "Int64\n",
      " raw:\n",
      "  3.505 ms (7 allocations: 7.63 MiB)\n",
      " categorical:\n",
      "  14.791 ms (1000004 allocations: 30.52 MiB)\n",
      "String\n",
      " raw:\n",
      "  24.178 ms (4 allocations: 608 bytes)\n",
      " categorical:\n",
      "  27.281 ms (1000004 allocations: 30.52 MiB)\n",
      "Union{Missing, Int64}\n",
      " raw:\n",
      "  5.706 ms (4 allocations: 624 bytes)\n",
      " categorical:\n",
      "  15.537 ms (1000004 allocations: 30.52 MiB)\n",
      "Union{Missing, String}\n",
      " raw:\n",
      "  14.729 ms (4 allocations: 608 bytes)\n",
      " categorical:\n",
      "  22.769 ms (1000004 allocations: 30.52 MiB)\n"
     ]
    }
   ],
   "source": [
    "using StatsBase\n",
    "\n",
    "function test(data) # uses countmap function to test performance\n",
    "    println(eltype(data))\n",
    "    x = rand(data, 10^6)\n",
    "    y = categorical(x)\n",
    "    println(\" raw:\")\n",
    "    @btime countmap($x)\n",
    "    println(\" categorical:\")\n",
    "    @btime countmap($y)\n",
    "    nothing\n",
    "end\n",
    "\n",
    "test(1:10)\n",
    "test([randstring() for i in 1:10])\n",
    "test(allowmissing(1:10))\n",
    "test(allowmissing([randstring() for i in 1:10]))\n"
   ]
  },
  {
   "cell_type": "markdown",
   "metadata": {},
   "source": [
    "### When aggregating use column selector and prefer categorical or pooled array grouping variable"
   ]
  },
  {
   "cell_type": "code",
   "execution_count": 12,
   "metadata": {},
   "outputs": [],
   "source": [
    "df = DataFrame(x=rand('a':'d', 10^7), y=1);"
   ]
  },
  {
   "cell_type": "code",
   "execution_count": 13,
   "metadata": {
    "scrolled": true
   },
   "outputs": [
    {
     "data": {
      "text/html": [
       "<p><b>GroupedDataFrame with 4 groups based on key: x</b></p><p><i>First Group (2499032 rows): x = 'b'</i></p><table class=\"data-frame\"><thead><tr><th></th><th>x</th><th>y</th></tr><tr><th></th><th>Char</th><th>Int64</th></tr></thead><tbody><tr><th>1</th><td>b</td><td>1</td></tr><tr><th>2</th><td>b</td><td>1</td></tr><tr><th>3</th><td>b</td><td>1</td></tr><tr><th>4</th><td>b</td><td>1</td></tr><tr><th>5</th><td>b</td><td>1</td></tr><tr><th>6</th><td>b</td><td>1</td></tr><tr><th>7</th><td>b</td><td>1</td></tr><tr><th>8</th><td>b</td><td>1</td></tr><tr><th>9</th><td>b</td><td>1</td></tr><tr><th>10</th><td>b</td><td>1</td></tr><tr><th>11</th><td>b</td><td>1</td></tr><tr><th>12</th><td>b</td><td>1</td></tr><tr><th>13</th><td>b</td><td>1</td></tr><tr><th>14</th><td>b</td><td>1</td></tr><tr><th>15</th><td>b</td><td>1</td></tr><tr><th>16</th><td>b</td><td>1</td></tr><tr><th>17</th><td>b</td><td>1</td></tr><tr><th>18</th><td>b</td><td>1</td></tr><tr><th>19</th><td>b</td><td>1</td></tr><tr><th>20</th><td>b</td><td>1</td></tr><tr><th>21</th><td>b</td><td>1</td></tr><tr><th>22</th><td>b</td><td>1</td></tr><tr><th>23</th><td>b</td><td>1</td></tr><tr><th>24</th><td>b</td><td>1</td></tr><tr><th>25</th><td>b</td><td>1</td></tr><tr><th>26</th><td>b</td><td>1</td></tr><tr><th>27</th><td>b</td><td>1</td></tr><tr><th>28</th><td>b</td><td>1</td></tr><tr><th>29</th><td>b</td><td>1</td></tr><tr><th>30</th><td>b</td><td>1</td></tr><tr><th>&vellip;</th><td>&vellip;</td><td>&vellip;</td></tr></tbody></table><p>&vellip;</p><p><i>Last Group (2500817 rows): x = 'a'</i></p><table class=\"data-frame\"><thead><tr><th></th><th>x</th><th>y</th></tr><tr><th></th><th>Char</th><th>Int64</th></tr></thead><tbody><tr><th>1</th><td>a</td><td>1</td></tr><tr><th>2</th><td>a</td><td>1</td></tr><tr><th>3</th><td>a</td><td>1</td></tr><tr><th>4</th><td>a</td><td>1</td></tr><tr><th>5</th><td>a</td><td>1</td></tr><tr><th>6</th><td>a</td><td>1</td></tr><tr><th>7</th><td>a</td><td>1</td></tr><tr><th>8</th><td>a</td><td>1</td></tr><tr><th>9</th><td>a</td><td>1</td></tr><tr><th>10</th><td>a</td><td>1</td></tr><tr><th>11</th><td>a</td><td>1</td></tr><tr><th>12</th><td>a</td><td>1</td></tr><tr><th>13</th><td>a</td><td>1</td></tr><tr><th>14</th><td>a</td><td>1</td></tr><tr><th>15</th><td>a</td><td>1</td></tr><tr><th>16</th><td>a</td><td>1</td></tr><tr><th>17</th><td>a</td><td>1</td></tr><tr><th>18</th><td>a</td><td>1</td></tr><tr><th>19</th><td>a</td><td>1</td></tr><tr><th>20</th><td>a</td><td>1</td></tr><tr><th>21</th><td>a</td><td>1</td></tr><tr><th>22</th><td>a</td><td>1</td></tr><tr><th>23</th><td>a</td><td>1</td></tr><tr><th>24</th><td>a</td><td>1</td></tr><tr><th>25</th><td>a</td><td>1</td></tr><tr><th>26</th><td>a</td><td>1</td></tr><tr><th>27</th><td>a</td><td>1</td></tr><tr><th>28</th><td>a</td><td>1</td></tr><tr><th>29</th><td>a</td><td>1</td></tr><tr><th>30</th><td>a</td><td>1</td></tr><tr><th>&vellip;</th><td>&vellip;</td><td>&vellip;</td></tr></tbody></table>"
      ],
      "text/latex": [
       "GroupedDataFrame with 4 groups based on key: x\n",
       "\n",
       "First Group (2499032 rows): x = 'b'\n",
       "\n",
       "\\begin{tabular}{r|cc}\n",
       "\t& x & y\\\\\n",
       "\t\\hline\n",
       "\t& Char & Int64\\\\\n",
       "\t\\hline\n",
       "\t1 & b & 1 \\\\\n",
       "\t2 & b & 1 \\\\\n",
       "\t3 & b & 1 \\\\\n",
       "\t4 & b & 1 \\\\\n",
       "\t5 & b & 1 \\\\\n",
       "\t6 & b & 1 \\\\\n",
       "\t7 & b & 1 \\\\\n",
       "\t8 & b & 1 \\\\\n",
       "\t9 & b & 1 \\\\\n",
       "\t10 & b & 1 \\\\\n",
       "\t11 & b & 1 \\\\\n",
       "\t12 & b & 1 \\\\\n",
       "\t13 & b & 1 \\\\\n",
       "\t14 & b & 1 \\\\\n",
       "\t15 & b & 1 \\\\\n",
       "\t16 & b & 1 \\\\\n",
       "\t17 & b & 1 \\\\\n",
       "\t18 & b & 1 \\\\\n",
       "\t19 & b & 1 \\\\\n",
       "\t20 & b & 1 \\\\\n",
       "\t21 & b & 1 \\\\\n",
       "\t22 & b & 1 \\\\\n",
       "\t23 & b & 1 \\\\\n",
       "\t24 & b & 1 \\\\\n",
       "\t25 & b & 1 \\\\\n",
       "\t26 & b & 1 \\\\\n",
       "\t27 & b & 1 \\\\\n",
       "\t28 & b & 1 \\\\\n",
       "\t29 & b & 1 \\\\\n",
       "\t30 & b & 1 \\\\\n",
       "\t$\\dots$ & $\\dots$ & $\\dots$ \\\\\n",
       "\\end{tabular}\n",
       "\n",
       "$\\dots$\n",
       "\n",
       "Last Group (2500817 rows): x = 'a'\n",
       "\n",
       "\\begin{tabular}{r|cc}\n",
       "\t& x & y\\\\\n",
       "\t\\hline\n",
       "\t& Char & Int64\\\\\n",
       "\t\\hline\n",
       "\t1 & a & 1 \\\\\n",
       "\t2 & a & 1 \\\\\n",
       "\t3 & a & 1 \\\\\n",
       "\t4 & a & 1 \\\\\n",
       "\t5 & a & 1 \\\\\n",
       "\t6 & a & 1 \\\\\n",
       "\t7 & a & 1 \\\\\n",
       "\t8 & a & 1 \\\\\n",
       "\t9 & a & 1 \\\\\n",
       "\t10 & a & 1 \\\\\n",
       "\t11 & a & 1 \\\\\n",
       "\t12 & a & 1 \\\\\n",
       "\t13 & a & 1 \\\\\n",
       "\t14 & a & 1 \\\\\n",
       "\t15 & a & 1 \\\\\n",
       "\t16 & a & 1 \\\\\n",
       "\t17 & a & 1 \\\\\n",
       "\t18 & a & 1 \\\\\n",
       "\t19 & a & 1 \\\\\n",
       "\t20 & a & 1 \\\\\n",
       "\t21 & a & 1 \\\\\n",
       "\t22 & a & 1 \\\\\n",
       "\t23 & a & 1 \\\\\n",
       "\t24 & a & 1 \\\\\n",
       "\t25 & a & 1 \\\\\n",
       "\t26 & a & 1 \\\\\n",
       "\t27 & a & 1 \\\\\n",
       "\t28 & a & 1 \\\\\n",
       "\t29 & a & 1 \\\\\n",
       "\t30 & a & 1 \\\\\n",
       "\t$\\dots$ & $\\dots$ & $\\dots$ \\\\\n",
       "\\end{tabular}\n"
      ],
      "text/plain": [
       "GroupedDataFrame with 4 groups based on key: x\n",
       "First Group (2499032 rows): x = 'b'\n",
       "\u001b[1m     Row \u001b[0m│\u001b[1m x    \u001b[0m\u001b[1m y     \u001b[0m\n",
       "\u001b[1m         \u001b[0m│\u001b[90m Char \u001b[0m\u001b[90m Int64 \u001b[0m\n",
       "─────────┼─────────────\n",
       "       1 │ b         1\n",
       "       2 │ b         1\n",
       "       3 │ b         1\n",
       "       4 │ b         1\n",
       "       5 │ b         1\n",
       "       6 │ b         1\n",
       "       7 │ b         1\n",
       "       8 │ b         1\n",
       "       9 │ b         1\n",
       "      10 │ b         1\n",
       "      11 │ b         1\n",
       "    ⋮    │  ⋮      ⋮\n",
       " 2499022 │ b         1\n",
       " 2499023 │ b         1\n",
       " 2499024 │ b         1\n",
       " 2499025 │ b         1\n",
       " 2499026 │ b         1\n",
       " 2499027 │ b         1\n",
       " 2499028 │ b         1\n",
       " 2499029 │ b         1\n",
       " 2499030 │ b         1\n",
       " 2499031 │ b         1\n",
       " 2499032 │ b         1\n",
       "\u001b[36m   2499010 rows omitted\u001b[0m\n",
       "⋮\n",
       "Last Group (2500817 rows): x = 'a'\n",
       "\u001b[1m     Row \u001b[0m│\u001b[1m x    \u001b[0m\u001b[1m y     \u001b[0m\n",
       "\u001b[1m         \u001b[0m│\u001b[90m Char \u001b[0m\u001b[90m Int64 \u001b[0m\n",
       "─────────┼─────────────\n",
       "       1 │ a         1\n",
       "       2 │ a         1\n",
       "       3 │ a         1\n",
       "       4 │ a         1\n",
       "       5 │ a         1\n",
       "       6 │ a         1\n",
       "       7 │ a         1\n",
       "       8 │ a         1\n",
       "       9 │ a         1\n",
       "      10 │ a         1\n",
       "      11 │ a         1\n",
       "    ⋮    │  ⋮      ⋮\n",
       " 2500807 │ a         1\n",
       " 2500808 │ a         1\n",
       " 2500809 │ a         1\n",
       " 2500810 │ a         1\n",
       " 2500811 │ a         1\n",
       " 2500812 │ a         1\n",
       " 2500813 │ a         1\n",
       " 2500814 │ a         1\n",
       " 2500815 │ a         1\n",
       " 2500816 │ a         1\n",
       " 2500817 │ a         1\n",
       "\u001b[36m   2500795 rows omitted\u001b[0m"
      ]
     },
     "execution_count": 13,
     "metadata": {},
     "output_type": "execute_result"
    }
   ],
   "source": [
    "gdf = groupby(df, :x)"
   ]
  },
  {
   "cell_type": "code",
   "execution_count": 14,
   "metadata": {},
   "outputs": [
    {
     "name": "stdout",
     "output_type": "stream",
     "text": [
      "  55.567 ms (299 allocations: 19.08 MiB)\n"
     ]
    },
    {
     "data": {
      "text/html": [
       "<table class=\"data-frame\"><thead><tr><th></th><th>x</th><th>x1</th></tr><tr><th></th><th>Char</th><th>Int64</th></tr></thead><tbody><p>4 rows × 2 columns</p><tr><th>1</th><td>b</td><td>2499032</td></tr><tr><th>2</th><td>c</td><td>2500708</td></tr><tr><th>3</th><td>d</td><td>2499443</td></tr><tr><th>4</th><td>a</td><td>2500817</td></tr></tbody></table>"
      ],
      "text/latex": [
       "\\begin{tabular}{r|cc}\n",
       "\t& x & x1\\\\\n",
       "\t\\hline\n",
       "\t& Char & Int64\\\\\n",
       "\t\\hline\n",
       "\t1 & b & 2499032 \\\\\n",
       "\t2 & c & 2500708 \\\\\n",
       "\t3 & d & 2499443 \\\\\n",
       "\t4 & a & 2500817 \\\\\n",
       "\\end{tabular}\n"
      ],
      "text/plain": [
       "\u001b[1m4×2 DataFrame\u001b[0m\n",
       "\u001b[1m Row \u001b[0m│\u001b[1m x    \u001b[0m\u001b[1m x1      \u001b[0m\n",
       "\u001b[1m     \u001b[0m│\u001b[90m Char \u001b[0m\u001b[90m Int64   \u001b[0m\n",
       "─────┼───────────────\n",
       "   1 │ b     2499032\n",
       "   2 │ c     2500708\n",
       "   3 │ d     2499443\n",
       "   4 │ a     2500817"
      ]
     },
     "execution_count": 14,
     "metadata": {},
     "output_type": "execute_result"
    }
   ],
   "source": [
    "@btime combine(v -> sum(v.y), $gdf) # traditional syntax, slow"
   ]
  },
  {
   "cell_type": "code",
   "execution_count": 15,
   "metadata": {
    "scrolled": true
   },
   "outputs": [
    {
     "name": "stdout",
     "output_type": "stream",
     "text": [
      "  12.366 ms (204 allocations: 14.47 KiB)\n"
     ]
    },
    {
     "data": {
      "text/html": [
       "<table class=\"data-frame\"><thead><tr><th></th><th>x</th><th>y_sum</th></tr><tr><th></th><th>Char</th><th>Int64</th></tr></thead><tbody><p>4 rows × 2 columns</p><tr><th>1</th><td>b</td><td>2499032</td></tr><tr><th>2</th><td>c</td><td>2500708</td></tr><tr><th>3</th><td>d</td><td>2499443</td></tr><tr><th>4</th><td>a</td><td>2500817</td></tr></tbody></table>"
      ],
      "text/latex": [
       "\\begin{tabular}{r|cc}\n",
       "\t& x & y\\_sum\\\\\n",
       "\t\\hline\n",
       "\t& Char & Int64\\\\\n",
       "\t\\hline\n",
       "\t1 & b & 2499032 \\\\\n",
       "\t2 & c & 2500708 \\\\\n",
       "\t3 & d & 2499443 \\\\\n",
       "\t4 & a & 2500817 \\\\\n",
       "\\end{tabular}\n"
      ],
      "text/plain": [
       "\u001b[1m4×2 DataFrame\u001b[0m\n",
       "\u001b[1m Row \u001b[0m│\u001b[1m x    \u001b[0m\u001b[1m y_sum   \u001b[0m\n",
       "\u001b[1m     \u001b[0m│\u001b[90m Char \u001b[0m\u001b[90m Int64   \u001b[0m\n",
       "─────┼───────────────\n",
       "   1 │ b     2499032\n",
       "   2 │ c     2500708\n",
       "   3 │ d     2499443\n",
       "   4 │ a     2500817"
      ]
     },
     "execution_count": 15,
     "metadata": {},
     "output_type": "execute_result"
    }
   ],
   "source": [
    "@btime combine($gdf, :y=>sum) # use column selector"
   ]
  },
  {
   "cell_type": "code",
   "execution_count": 16,
   "metadata": {},
   "outputs": [],
   "source": [
    "transform!(df, :x => categorical => :x);"
   ]
  },
  {
   "cell_type": "code",
   "execution_count": 17,
   "metadata": {},
   "outputs": [
    {
     "data": {
      "text/html": [
       "<p><b>GroupedDataFrame with 4 groups based on key: x</b></p><p><i>First Group (2500817 rows): x = CategoricalValue{Char, UInt32} 'a'</i></p><table class=\"data-frame\"><thead><tr><th></th><th>x</th><th>y</th></tr><tr><th></th><th>Cat…</th><th>Int64</th></tr></thead><tbody><tr><th>1</th><td>a</td><td>1</td></tr><tr><th>2</th><td>a</td><td>1</td></tr><tr><th>3</th><td>a</td><td>1</td></tr><tr><th>4</th><td>a</td><td>1</td></tr><tr><th>5</th><td>a</td><td>1</td></tr><tr><th>6</th><td>a</td><td>1</td></tr><tr><th>7</th><td>a</td><td>1</td></tr><tr><th>8</th><td>a</td><td>1</td></tr><tr><th>9</th><td>a</td><td>1</td></tr><tr><th>10</th><td>a</td><td>1</td></tr><tr><th>11</th><td>a</td><td>1</td></tr><tr><th>12</th><td>a</td><td>1</td></tr><tr><th>13</th><td>a</td><td>1</td></tr><tr><th>14</th><td>a</td><td>1</td></tr><tr><th>15</th><td>a</td><td>1</td></tr><tr><th>16</th><td>a</td><td>1</td></tr><tr><th>17</th><td>a</td><td>1</td></tr><tr><th>18</th><td>a</td><td>1</td></tr><tr><th>19</th><td>a</td><td>1</td></tr><tr><th>20</th><td>a</td><td>1</td></tr><tr><th>21</th><td>a</td><td>1</td></tr><tr><th>22</th><td>a</td><td>1</td></tr><tr><th>23</th><td>a</td><td>1</td></tr><tr><th>24</th><td>a</td><td>1</td></tr><tr><th>25</th><td>a</td><td>1</td></tr><tr><th>26</th><td>a</td><td>1</td></tr><tr><th>27</th><td>a</td><td>1</td></tr><tr><th>28</th><td>a</td><td>1</td></tr><tr><th>29</th><td>a</td><td>1</td></tr><tr><th>30</th><td>a</td><td>1</td></tr><tr><th>&vellip;</th><td>&vellip;</td><td>&vellip;</td></tr></tbody></table><p>&vellip;</p><p><i>Last Group (2499443 rows): x = CategoricalValue{Char, UInt32} 'd'</i></p><table class=\"data-frame\"><thead><tr><th></th><th>x</th><th>y</th></tr><tr><th></th><th>Cat…</th><th>Int64</th></tr></thead><tbody><tr><th>1</th><td>d</td><td>1</td></tr><tr><th>2</th><td>d</td><td>1</td></tr><tr><th>3</th><td>d</td><td>1</td></tr><tr><th>4</th><td>d</td><td>1</td></tr><tr><th>5</th><td>d</td><td>1</td></tr><tr><th>6</th><td>d</td><td>1</td></tr><tr><th>7</th><td>d</td><td>1</td></tr><tr><th>8</th><td>d</td><td>1</td></tr><tr><th>9</th><td>d</td><td>1</td></tr><tr><th>10</th><td>d</td><td>1</td></tr><tr><th>11</th><td>d</td><td>1</td></tr><tr><th>12</th><td>d</td><td>1</td></tr><tr><th>13</th><td>d</td><td>1</td></tr><tr><th>14</th><td>d</td><td>1</td></tr><tr><th>15</th><td>d</td><td>1</td></tr><tr><th>16</th><td>d</td><td>1</td></tr><tr><th>17</th><td>d</td><td>1</td></tr><tr><th>18</th><td>d</td><td>1</td></tr><tr><th>19</th><td>d</td><td>1</td></tr><tr><th>20</th><td>d</td><td>1</td></tr><tr><th>21</th><td>d</td><td>1</td></tr><tr><th>22</th><td>d</td><td>1</td></tr><tr><th>23</th><td>d</td><td>1</td></tr><tr><th>24</th><td>d</td><td>1</td></tr><tr><th>25</th><td>d</td><td>1</td></tr><tr><th>26</th><td>d</td><td>1</td></tr><tr><th>27</th><td>d</td><td>1</td></tr><tr><th>28</th><td>d</td><td>1</td></tr><tr><th>29</th><td>d</td><td>1</td></tr><tr><th>30</th><td>d</td><td>1</td></tr><tr><th>&vellip;</th><td>&vellip;</td><td>&vellip;</td></tr></tbody></table>"
      ],
      "text/latex": [
       "GroupedDataFrame with 4 groups based on key: x\n",
       "\n",
       "First Group (2500817 rows): x = CategoricalValue\\{Char, UInt32\\} 'a'\n",
       "\n",
       "\\begin{tabular}{r|cc}\n",
       "\t& x & y\\\\\n",
       "\t\\hline\n",
       "\t& Cat… & Int64\\\\\n",
       "\t\\hline\n",
       "\t1 & a & 1 \\\\\n",
       "\t2 & a & 1 \\\\\n",
       "\t3 & a & 1 \\\\\n",
       "\t4 & a & 1 \\\\\n",
       "\t5 & a & 1 \\\\\n",
       "\t6 & a & 1 \\\\\n",
       "\t7 & a & 1 \\\\\n",
       "\t8 & a & 1 \\\\\n",
       "\t9 & a & 1 \\\\\n",
       "\t10 & a & 1 \\\\\n",
       "\t11 & a & 1 \\\\\n",
       "\t12 & a & 1 \\\\\n",
       "\t13 & a & 1 \\\\\n",
       "\t14 & a & 1 \\\\\n",
       "\t15 & a & 1 \\\\\n",
       "\t16 & a & 1 \\\\\n",
       "\t17 & a & 1 \\\\\n",
       "\t18 & a & 1 \\\\\n",
       "\t19 & a & 1 \\\\\n",
       "\t20 & a & 1 \\\\\n",
       "\t21 & a & 1 \\\\\n",
       "\t22 & a & 1 \\\\\n",
       "\t23 & a & 1 \\\\\n",
       "\t24 & a & 1 \\\\\n",
       "\t25 & a & 1 \\\\\n",
       "\t26 & a & 1 \\\\\n",
       "\t27 & a & 1 \\\\\n",
       "\t28 & a & 1 \\\\\n",
       "\t29 & a & 1 \\\\\n",
       "\t30 & a & 1 \\\\\n",
       "\t$\\dots$ & $\\dots$ & $\\dots$ \\\\\n",
       "\\end{tabular}\n",
       "\n",
       "$\\dots$\n",
       "\n",
       "Last Group (2499443 rows): x = CategoricalValue\\{Char, UInt32\\} 'd'\n",
       "\n",
       "\\begin{tabular}{r|cc}\n",
       "\t& x & y\\\\\n",
       "\t\\hline\n",
       "\t& Cat… & Int64\\\\\n",
       "\t\\hline\n",
       "\t1 & d & 1 \\\\\n",
       "\t2 & d & 1 \\\\\n",
       "\t3 & d & 1 \\\\\n",
       "\t4 & d & 1 \\\\\n",
       "\t5 & d & 1 \\\\\n",
       "\t6 & d & 1 \\\\\n",
       "\t7 & d & 1 \\\\\n",
       "\t8 & d & 1 \\\\\n",
       "\t9 & d & 1 \\\\\n",
       "\t10 & d & 1 \\\\\n",
       "\t11 & d & 1 \\\\\n",
       "\t12 & d & 1 \\\\\n",
       "\t13 & d & 1 \\\\\n",
       "\t14 & d & 1 \\\\\n",
       "\t15 & d & 1 \\\\\n",
       "\t16 & d & 1 \\\\\n",
       "\t17 & d & 1 \\\\\n",
       "\t18 & d & 1 \\\\\n",
       "\t19 & d & 1 \\\\\n",
       "\t20 & d & 1 \\\\\n",
       "\t21 & d & 1 \\\\\n",
       "\t22 & d & 1 \\\\\n",
       "\t23 & d & 1 \\\\\n",
       "\t24 & d & 1 \\\\\n",
       "\t25 & d & 1 \\\\\n",
       "\t26 & d & 1 \\\\\n",
       "\t27 & d & 1 \\\\\n",
       "\t28 & d & 1 \\\\\n",
       "\t29 & d & 1 \\\\\n",
       "\t30 & d & 1 \\\\\n",
       "\t$\\dots$ & $\\dots$ & $\\dots$ \\\\\n",
       "\\end{tabular}\n"
      ],
      "text/plain": [
       "GroupedDataFrame with 4 groups based on key: x\n",
       "First Group (2500817 rows): x = CategoricalValue{Char, UInt32} 'a'\n",
       "\u001b[1m     Row \u001b[0m│\u001b[1m x    \u001b[0m\u001b[1m y     \u001b[0m\n",
       "\u001b[1m         \u001b[0m│\u001b[90m Cat… \u001b[0m\u001b[90m Int64 \u001b[0m\n",
       "─────────┼─────────────\n",
       "       1 │ a         1\n",
       "       2 │ a         1\n",
       "       3 │ a         1\n",
       "       4 │ a         1\n",
       "       5 │ a         1\n",
       "       6 │ a         1\n",
       "       7 │ a         1\n",
       "       8 │ a         1\n",
       "       9 │ a         1\n",
       "      10 │ a         1\n",
       "      11 │ a         1\n",
       "    ⋮    │  ⋮      ⋮\n",
       " 2500807 │ a         1\n",
       " 2500808 │ a         1\n",
       " 2500809 │ a         1\n",
       " 2500810 │ a         1\n",
       " 2500811 │ a         1\n",
       " 2500812 │ a         1\n",
       " 2500813 │ a         1\n",
       " 2500814 │ a         1\n",
       " 2500815 │ a         1\n",
       " 2500816 │ a         1\n",
       " 2500817 │ a         1\n",
       "\u001b[36m   2500795 rows omitted\u001b[0m\n",
       "⋮\n",
       "Last Group (2499443 rows): x = CategoricalValue{Char, UInt32} 'd'\n",
       "\u001b[1m     Row \u001b[0m│\u001b[1m x    \u001b[0m\u001b[1m y     \u001b[0m\n",
       "\u001b[1m         \u001b[0m│\u001b[90m Cat… \u001b[0m\u001b[90m Int64 \u001b[0m\n",
       "─────────┼─────────────\n",
       "       1 │ d         1\n",
       "       2 │ d         1\n",
       "       3 │ d         1\n",
       "       4 │ d         1\n",
       "       5 │ d         1\n",
       "       6 │ d         1\n",
       "       7 │ d         1\n",
       "       8 │ d         1\n",
       "       9 │ d         1\n",
       "      10 │ d         1\n",
       "      11 │ d         1\n",
       "    ⋮    │  ⋮      ⋮\n",
       " 2499433 │ d         1\n",
       " 2499434 │ d         1\n",
       " 2499435 │ d         1\n",
       " 2499436 │ d         1\n",
       " 2499437 │ d         1\n",
       " 2499438 │ d         1\n",
       " 2499439 │ d         1\n",
       " 2499440 │ d         1\n",
       " 2499441 │ d         1\n",
       " 2499442 │ d         1\n",
       " 2499443 │ d         1\n",
       "\u001b[36m   2499421 rows omitted\u001b[0m"
      ]
     },
     "execution_count": 17,
     "metadata": {},
     "output_type": "execute_result"
    }
   ],
   "source": [
    "gdf = groupby(df, :x)"
   ]
  },
  {
   "cell_type": "code",
   "execution_count": 18,
   "metadata": {
    "scrolled": true
   },
   "outputs": [
    {
     "name": "stdout",
     "output_type": "stream",
     "text": [
      "  12.659 ms (211 allocations: 15.12 KiB)\n"
     ]
    },
    {
     "data": {
      "text/html": [
       "<table class=\"data-frame\"><thead><tr><th></th><th>x</th><th>y_sum</th></tr><tr><th></th><th>Cat…</th><th>Int64</th></tr></thead><tbody><p>4 rows × 2 columns</p><tr><th>1</th><td>a</td><td>2500817</td></tr><tr><th>2</th><td>b</td><td>2499032</td></tr><tr><th>3</th><td>c</td><td>2500708</td></tr><tr><th>4</th><td>d</td><td>2499443</td></tr></tbody></table>"
      ],
      "text/latex": [
       "\\begin{tabular}{r|cc}\n",
       "\t& x & y\\_sum\\\\\n",
       "\t\\hline\n",
       "\t& Cat… & Int64\\\\\n",
       "\t\\hline\n",
       "\t1 & a & 2500817 \\\\\n",
       "\t2 & b & 2499032 \\\\\n",
       "\t3 & c & 2500708 \\\\\n",
       "\t4 & d & 2499443 \\\\\n",
       "\\end{tabular}\n"
      ],
      "text/plain": [
       "\u001b[1m4×2 DataFrame\u001b[0m\n",
       "\u001b[1m Row \u001b[0m│\u001b[1m x    \u001b[0m\u001b[1m y_sum   \u001b[0m\n",
       "\u001b[1m     \u001b[0m│\u001b[90m Cat… \u001b[0m\u001b[90m Int64   \u001b[0m\n",
       "─────┼───────────────\n",
       "   1 │ a     2500817\n",
       "   2 │ b     2499032\n",
       "   3 │ c     2500708\n",
       "   4 │ d     2499443"
      ]
     },
     "execution_count": 18,
     "metadata": {},
     "output_type": "execute_result"
    }
   ],
   "source": [
    "@btime combine($gdf, :y=>sum)"
   ]
  },
  {
   "cell_type": "code",
   "execution_count": 19,
   "metadata": {},
   "outputs": [
    {
     "data": {
      "text/html": [
       "<table class=\"data-frame\"><thead><tr><th></th><th>x</th><th>y</th></tr><tr><th></th><th>Char</th><th>Int64</th></tr></thead><tbody><p>10,000,000 rows × 2 columns</p><tr><th>1</th><td>b</td><td>1</td></tr><tr><th>2</th><td>c</td><td>1</td></tr><tr><th>3</th><td>d</td><td>1</td></tr><tr><th>4</th><td>d</td><td>1</td></tr><tr><th>5</th><td>d</td><td>1</td></tr><tr><th>6</th><td>a</td><td>1</td></tr><tr><th>7</th><td>a</td><td>1</td></tr><tr><th>8</th><td>d</td><td>1</td></tr><tr><th>9</th><td>b</td><td>1</td></tr><tr><th>10</th><td>b</td><td>1</td></tr><tr><th>11</th><td>a</td><td>1</td></tr><tr><th>12</th><td>a</td><td>1</td></tr><tr><th>13</th><td>b</td><td>1</td></tr><tr><th>14</th><td>a</td><td>1</td></tr><tr><th>15</th><td>d</td><td>1</td></tr><tr><th>16</th><td>c</td><td>1</td></tr><tr><th>17</th><td>c</td><td>1</td></tr><tr><th>18</th><td>c</td><td>1</td></tr><tr><th>19</th><td>c</td><td>1</td></tr><tr><th>20</th><td>d</td><td>1</td></tr><tr><th>21</th><td>c</td><td>1</td></tr><tr><th>22</th><td>c</td><td>1</td></tr><tr><th>23</th><td>a</td><td>1</td></tr><tr><th>24</th><td>d</td><td>1</td></tr><tr><th>25</th><td>d</td><td>1</td></tr><tr><th>26</th><td>d</td><td>1</td></tr><tr><th>27</th><td>c</td><td>1</td></tr><tr><th>28</th><td>b</td><td>1</td></tr><tr><th>29</th><td>b</td><td>1</td></tr><tr><th>30</th><td>c</td><td>1</td></tr><tr><th>&vellip;</th><td>&vellip;</td><td>&vellip;</td></tr></tbody></table>"
      ],
      "text/latex": [
       "\\begin{tabular}{r|cc}\n",
       "\t& x & y\\\\\n",
       "\t\\hline\n",
       "\t& Char & Int64\\\\\n",
       "\t\\hline\n",
       "\t1 & b & 1 \\\\\n",
       "\t2 & c & 1 \\\\\n",
       "\t3 & d & 1 \\\\\n",
       "\t4 & d & 1 \\\\\n",
       "\t5 & d & 1 \\\\\n",
       "\t6 & a & 1 \\\\\n",
       "\t7 & a & 1 \\\\\n",
       "\t8 & d & 1 \\\\\n",
       "\t9 & b & 1 \\\\\n",
       "\t10 & b & 1 \\\\\n",
       "\t11 & a & 1 \\\\\n",
       "\t12 & a & 1 \\\\\n",
       "\t13 & b & 1 \\\\\n",
       "\t14 & a & 1 \\\\\n",
       "\t15 & d & 1 \\\\\n",
       "\t16 & c & 1 \\\\\n",
       "\t17 & c & 1 \\\\\n",
       "\t18 & c & 1 \\\\\n",
       "\t19 & c & 1 \\\\\n",
       "\t20 & d & 1 \\\\\n",
       "\t21 & c & 1 \\\\\n",
       "\t22 & c & 1 \\\\\n",
       "\t23 & a & 1 \\\\\n",
       "\t24 & d & 1 \\\\\n",
       "\t25 & d & 1 \\\\\n",
       "\t26 & d & 1 \\\\\n",
       "\t27 & c & 1 \\\\\n",
       "\t28 & b & 1 \\\\\n",
       "\t29 & b & 1 \\\\\n",
       "\t30 & c & 1 \\\\\n",
       "\t$\\dots$ & $\\dots$ & $\\dots$ \\\\\n",
       "\\end{tabular}\n"
      ],
      "text/plain": [
       "\u001b[1m10000000×2 DataFrame\u001b[0m\n",
       "\u001b[1m      Row \u001b[0m│\u001b[1m x    \u001b[0m\u001b[1m y     \u001b[0m\n",
       "\u001b[1m          \u001b[0m│\u001b[90m Char \u001b[0m\u001b[90m Int64 \u001b[0m\n",
       "──────────┼─────────────\n",
       "        1 │ b         1\n",
       "        2 │ c         1\n",
       "        3 │ d         1\n",
       "        4 │ d         1\n",
       "        5 │ d         1\n",
       "        6 │ a         1\n",
       "        7 │ a         1\n",
       "        8 │ d         1\n",
       "        9 │ b         1\n",
       "       10 │ b         1\n",
       "       11 │ a         1\n",
       "    ⋮     │  ⋮      ⋮\n",
       "  9999991 │ b         1\n",
       "  9999992 │ c         1\n",
       "  9999993 │ c         1\n",
       "  9999994 │ c         1\n",
       "  9999995 │ b         1\n",
       "  9999996 │ c         1\n",
       "  9999997 │ b         1\n",
       "  9999998 │ b         1\n",
       "  9999999 │ c         1\n",
       " 10000000 │ c         1\n",
       "\u001b[36m    9999979 rows omitted\u001b[0m"
      ]
     },
     "execution_count": 19,
     "metadata": {},
     "output_type": "execute_result"
    }
   ],
   "source": [
    "transform!(df, :x => PooledArray{Char} => :x)"
   ]
  },
  {
   "cell_type": "code",
   "execution_count": 20,
   "metadata": {},
   "outputs": [
    {
     "data": {
      "text/html": [
       "<p><b>GroupedDataFrame with 4 groups based on key: x</b></p><p><i>First Group (2499032 rows): x = 'b'</i></p><table class=\"data-frame\"><thead><tr><th></th><th>x</th><th>y</th></tr><tr><th></th><th>Char</th><th>Int64</th></tr></thead><tbody><tr><th>1</th><td>b</td><td>1</td></tr><tr><th>2</th><td>b</td><td>1</td></tr><tr><th>3</th><td>b</td><td>1</td></tr><tr><th>4</th><td>b</td><td>1</td></tr><tr><th>5</th><td>b</td><td>1</td></tr><tr><th>6</th><td>b</td><td>1</td></tr><tr><th>7</th><td>b</td><td>1</td></tr><tr><th>8</th><td>b</td><td>1</td></tr><tr><th>9</th><td>b</td><td>1</td></tr><tr><th>10</th><td>b</td><td>1</td></tr><tr><th>11</th><td>b</td><td>1</td></tr><tr><th>12</th><td>b</td><td>1</td></tr><tr><th>13</th><td>b</td><td>1</td></tr><tr><th>14</th><td>b</td><td>1</td></tr><tr><th>15</th><td>b</td><td>1</td></tr><tr><th>16</th><td>b</td><td>1</td></tr><tr><th>17</th><td>b</td><td>1</td></tr><tr><th>18</th><td>b</td><td>1</td></tr><tr><th>19</th><td>b</td><td>1</td></tr><tr><th>20</th><td>b</td><td>1</td></tr><tr><th>21</th><td>b</td><td>1</td></tr><tr><th>22</th><td>b</td><td>1</td></tr><tr><th>23</th><td>b</td><td>1</td></tr><tr><th>24</th><td>b</td><td>1</td></tr><tr><th>25</th><td>b</td><td>1</td></tr><tr><th>26</th><td>b</td><td>1</td></tr><tr><th>27</th><td>b</td><td>1</td></tr><tr><th>28</th><td>b</td><td>1</td></tr><tr><th>29</th><td>b</td><td>1</td></tr><tr><th>30</th><td>b</td><td>1</td></tr><tr><th>&vellip;</th><td>&vellip;</td><td>&vellip;</td></tr></tbody></table><p>&vellip;</p><p><i>Last Group (2500817 rows): x = 'a'</i></p><table class=\"data-frame\"><thead><tr><th></th><th>x</th><th>y</th></tr><tr><th></th><th>Char</th><th>Int64</th></tr></thead><tbody><tr><th>1</th><td>a</td><td>1</td></tr><tr><th>2</th><td>a</td><td>1</td></tr><tr><th>3</th><td>a</td><td>1</td></tr><tr><th>4</th><td>a</td><td>1</td></tr><tr><th>5</th><td>a</td><td>1</td></tr><tr><th>6</th><td>a</td><td>1</td></tr><tr><th>7</th><td>a</td><td>1</td></tr><tr><th>8</th><td>a</td><td>1</td></tr><tr><th>9</th><td>a</td><td>1</td></tr><tr><th>10</th><td>a</td><td>1</td></tr><tr><th>11</th><td>a</td><td>1</td></tr><tr><th>12</th><td>a</td><td>1</td></tr><tr><th>13</th><td>a</td><td>1</td></tr><tr><th>14</th><td>a</td><td>1</td></tr><tr><th>15</th><td>a</td><td>1</td></tr><tr><th>16</th><td>a</td><td>1</td></tr><tr><th>17</th><td>a</td><td>1</td></tr><tr><th>18</th><td>a</td><td>1</td></tr><tr><th>19</th><td>a</td><td>1</td></tr><tr><th>20</th><td>a</td><td>1</td></tr><tr><th>21</th><td>a</td><td>1</td></tr><tr><th>22</th><td>a</td><td>1</td></tr><tr><th>23</th><td>a</td><td>1</td></tr><tr><th>24</th><td>a</td><td>1</td></tr><tr><th>25</th><td>a</td><td>1</td></tr><tr><th>26</th><td>a</td><td>1</td></tr><tr><th>27</th><td>a</td><td>1</td></tr><tr><th>28</th><td>a</td><td>1</td></tr><tr><th>29</th><td>a</td><td>1</td></tr><tr><th>30</th><td>a</td><td>1</td></tr><tr><th>&vellip;</th><td>&vellip;</td><td>&vellip;</td></tr></tbody></table>"
      ],
      "text/latex": [
       "GroupedDataFrame with 4 groups based on key: x\n",
       "\n",
       "First Group (2499032 rows): x = 'b'\n",
       "\n",
       "\\begin{tabular}{r|cc}\n",
       "\t& x & y\\\\\n",
       "\t\\hline\n",
       "\t& Char & Int64\\\\\n",
       "\t\\hline\n",
       "\t1 & b & 1 \\\\\n",
       "\t2 & b & 1 \\\\\n",
       "\t3 & b & 1 \\\\\n",
       "\t4 & b & 1 \\\\\n",
       "\t5 & b & 1 \\\\\n",
       "\t6 & b & 1 \\\\\n",
       "\t7 & b & 1 \\\\\n",
       "\t8 & b & 1 \\\\\n",
       "\t9 & b & 1 \\\\\n",
       "\t10 & b & 1 \\\\\n",
       "\t11 & b & 1 \\\\\n",
       "\t12 & b & 1 \\\\\n",
       "\t13 & b & 1 \\\\\n",
       "\t14 & b & 1 \\\\\n",
       "\t15 & b & 1 \\\\\n",
       "\t16 & b & 1 \\\\\n",
       "\t17 & b & 1 \\\\\n",
       "\t18 & b & 1 \\\\\n",
       "\t19 & b & 1 \\\\\n",
       "\t20 & b & 1 \\\\\n",
       "\t21 & b & 1 \\\\\n",
       "\t22 & b & 1 \\\\\n",
       "\t23 & b & 1 \\\\\n",
       "\t24 & b & 1 \\\\\n",
       "\t25 & b & 1 \\\\\n",
       "\t26 & b & 1 \\\\\n",
       "\t27 & b & 1 \\\\\n",
       "\t28 & b & 1 \\\\\n",
       "\t29 & b & 1 \\\\\n",
       "\t30 & b & 1 \\\\\n",
       "\t$\\dots$ & $\\dots$ & $\\dots$ \\\\\n",
       "\\end{tabular}\n",
       "\n",
       "$\\dots$\n",
       "\n",
       "Last Group (2500817 rows): x = 'a'\n",
       "\n",
       "\\begin{tabular}{r|cc}\n",
       "\t& x & y\\\\\n",
       "\t\\hline\n",
       "\t& Char & Int64\\\\\n",
       "\t\\hline\n",
       "\t1 & a & 1 \\\\\n",
       "\t2 & a & 1 \\\\\n",
       "\t3 & a & 1 \\\\\n",
       "\t4 & a & 1 \\\\\n",
       "\t5 & a & 1 \\\\\n",
       "\t6 & a & 1 \\\\\n",
       "\t7 & a & 1 \\\\\n",
       "\t8 & a & 1 \\\\\n",
       "\t9 & a & 1 \\\\\n",
       "\t10 & a & 1 \\\\\n",
       "\t11 & a & 1 \\\\\n",
       "\t12 & a & 1 \\\\\n",
       "\t13 & a & 1 \\\\\n",
       "\t14 & a & 1 \\\\\n",
       "\t15 & a & 1 \\\\\n",
       "\t16 & a & 1 \\\\\n",
       "\t17 & a & 1 \\\\\n",
       "\t18 & a & 1 \\\\\n",
       "\t19 & a & 1 \\\\\n",
       "\t20 & a & 1 \\\\\n",
       "\t21 & a & 1 \\\\\n",
       "\t22 & a & 1 \\\\\n",
       "\t23 & a & 1 \\\\\n",
       "\t24 & a & 1 \\\\\n",
       "\t25 & a & 1 \\\\\n",
       "\t26 & a & 1 \\\\\n",
       "\t27 & a & 1 \\\\\n",
       "\t28 & a & 1 \\\\\n",
       "\t29 & a & 1 \\\\\n",
       "\t30 & a & 1 \\\\\n",
       "\t$\\dots$ & $\\dots$ & $\\dots$ \\\\\n",
       "\\end{tabular}\n"
      ],
      "text/plain": [
       "GroupedDataFrame with 4 groups based on key: x\n",
       "First Group (2499032 rows): x = 'b'\n",
       "\u001b[1m     Row \u001b[0m│\u001b[1m x    \u001b[0m\u001b[1m y     \u001b[0m\n",
       "\u001b[1m         \u001b[0m│\u001b[90m Char \u001b[0m\u001b[90m Int64 \u001b[0m\n",
       "─────────┼─────────────\n",
       "       1 │ b         1\n",
       "       2 │ b         1\n",
       "       3 │ b         1\n",
       "       4 │ b         1\n",
       "       5 │ b         1\n",
       "       6 │ b         1\n",
       "       7 │ b         1\n",
       "       8 │ b         1\n",
       "       9 │ b         1\n",
       "      10 │ b         1\n",
       "      11 │ b         1\n",
       "    ⋮    │  ⋮      ⋮\n",
       " 2499022 │ b         1\n",
       " 2499023 │ b         1\n",
       " 2499024 │ b         1\n",
       " 2499025 │ b         1\n",
       " 2499026 │ b         1\n",
       " 2499027 │ b         1\n",
       " 2499028 │ b         1\n",
       " 2499029 │ b         1\n",
       " 2499030 │ b         1\n",
       " 2499031 │ b         1\n",
       " 2499032 │ b         1\n",
       "\u001b[36m   2499010 rows omitted\u001b[0m\n",
       "⋮\n",
       "Last Group (2500817 rows): x = 'a'\n",
       "\u001b[1m     Row \u001b[0m│\u001b[1m x    \u001b[0m\u001b[1m y     \u001b[0m\n",
       "\u001b[1m         \u001b[0m│\u001b[90m Char \u001b[0m\u001b[90m Int64 \u001b[0m\n",
       "─────────┼─────────────\n",
       "       1 │ a         1\n",
       "       2 │ a         1\n",
       "       3 │ a         1\n",
       "       4 │ a         1\n",
       "       5 │ a         1\n",
       "       6 │ a         1\n",
       "       7 │ a         1\n",
       "       8 │ a         1\n",
       "       9 │ a         1\n",
       "      10 │ a         1\n",
       "      11 │ a         1\n",
       "    ⋮    │  ⋮      ⋮\n",
       " 2500807 │ a         1\n",
       " 2500808 │ a         1\n",
       " 2500809 │ a         1\n",
       " 2500810 │ a         1\n",
       " 2500811 │ a         1\n",
       " 2500812 │ a         1\n",
       " 2500813 │ a         1\n",
       " 2500814 │ a         1\n",
       " 2500815 │ a         1\n",
       " 2500816 │ a         1\n",
       " 2500817 │ a         1\n",
       "\u001b[36m   2500795 rows omitted\u001b[0m"
      ]
     },
     "execution_count": 20,
     "metadata": {},
     "output_type": "execute_result"
    }
   ],
   "source": [
    "gdf = groupby(df, :x)"
   ]
  },
  {
   "cell_type": "code",
   "execution_count": 21,
   "metadata": {
    "scrolled": true
   },
   "outputs": [
    {
     "name": "stdout",
     "output_type": "stream",
     "text": [
      "  12.579 ms (206 allocations: 14.53 KiB)\n"
     ]
    },
    {
     "data": {
      "text/html": [
       "<table class=\"data-frame\"><thead><tr><th></th><th>x</th><th>y_sum</th></tr><tr><th></th><th>Char</th><th>Int64</th></tr></thead><tbody><p>4 rows × 2 columns</p><tr><th>1</th><td>b</td><td>2499032</td></tr><tr><th>2</th><td>c</td><td>2500708</td></tr><tr><th>3</th><td>d</td><td>2499443</td></tr><tr><th>4</th><td>a</td><td>2500817</td></tr></tbody></table>"
      ],
      "text/latex": [
       "\\begin{tabular}{r|cc}\n",
       "\t& x & y\\_sum\\\\\n",
       "\t\\hline\n",
       "\t& Char & Int64\\\\\n",
       "\t\\hline\n",
       "\t1 & b & 2499032 \\\\\n",
       "\t2 & c & 2500708 \\\\\n",
       "\t3 & d & 2499443 \\\\\n",
       "\t4 & a & 2500817 \\\\\n",
       "\\end{tabular}\n"
      ],
      "text/plain": [
       "\u001b[1m4×2 DataFrame\u001b[0m\n",
       "\u001b[1m Row \u001b[0m│\u001b[1m x    \u001b[0m\u001b[1m y_sum   \u001b[0m\n",
       "\u001b[1m     \u001b[0m│\u001b[90m Char \u001b[0m\u001b[90m Int64   \u001b[0m\n",
       "─────┼───────────────\n",
       "   1 │ b     2499032\n",
       "   2 │ c     2500708\n",
       "   3 │ d     2499443\n",
       "   4 │ a     2500817"
      ]
     },
     "execution_count": 21,
     "metadata": {},
     "output_type": "execute_result"
    }
   ],
   "source": [
    "@btime combine($gdf, :y=>sum)"
   ]
  },
  {
   "cell_type": "markdown",
   "metadata": {},
   "source": [
    "### Use views instead of materializing a new DataFrame"
   ]
  },
  {
   "cell_type": "code",
   "execution_count": 22,
   "metadata": {
    "scrolled": true
   },
   "outputs": [
    {
     "data": {
      "text/html": [
       "<table class=\"data-frame\"><thead><tr><th></th><th>x1</th><th>x2</th><th>x3</th><th>x4</th><th>x5</th><th>x6</th><th>x7</th><th>x8</th></tr><tr><th></th><th>Float64</th><th>Float64</th><th>Float64</th><th>Float64</th><th>Float64</th><th>Float64</th><th>Float64</th><th>Float64</th></tr></thead><tbody><p>100 rows × 1,000 columns (omitted printing of 992 columns)</p><tr><th>1</th><td>0.766316</td><td>0.316707</td><td>0.343028</td><td>0.965914</td><td>0.62647</td><td>0.0856604</td><td>0.904061</td><td>0.321208</td></tr><tr><th>2</th><td>0.259236</td><td>0.689041</td><td>0.653378</td><td>0.290464</td><td>0.798324</td><td>0.679658</td><td>0.992848</td><td>0.549183</td></tr><tr><th>3</th><td>0.662806</td><td>0.661069</td><td>0.414882</td><td>0.0283973</td><td>0.0725591</td><td>0.197549</td><td>0.479039</td><td>0.0510472</td></tr><tr><th>4</th><td>0.0950638</td><td>0.299294</td><td>0.68422</td><td>0.0325769</td><td>0.285205</td><td>0.274216</td><td>0.148808</td><td>0.887337</td></tr><tr><th>5</th><td>0.49026</td><td>0.887202</td><td>0.944367</td><td>0.346795</td><td>0.984099</td><td>0.273077</td><td>0.099737</td><td>0.690124</td></tr><tr><th>6</th><td>0.406854</td><td>0.60399</td><td>0.333629</td><td>0.0830925</td><td>0.157933</td><td>0.541711</td><td>0.48406</td><td>0.862885</td></tr><tr><th>7</th><td>0.499201</td><td>0.581658</td><td>0.366791</td><td>0.904021</td><td>0.527428</td><td>0.322</td><td>0.726671</td><td>0.0845636</td></tr><tr><th>8</th><td>0.158473</td><td>0.502546</td><td>0.992313</td><td>0.300413</td><td>0.731632</td><td>0.765302</td><td>0.857465</td><td>0.41926</td></tr><tr><th>9</th><td>0.971737</td><td>0.28474</td><td>0.513548</td><td>0.369635</td><td>0.186662</td><td>0.537873</td><td>0.296569</td><td>0.57022</td></tr><tr><th>10</th><td>0.544748</td><td>0.883141</td><td>0.214432</td><td>0.294907</td><td>0.4785</td><td>0.814737</td><td>0.836181</td><td>0.215015</td></tr><tr><th>11</th><td>0.884554</td><td>0.948369</td><td>0.508816</td><td>0.5253</td><td>0.308274</td><td>0.701091</td><td>0.83115</td><td>0.652586</td></tr><tr><th>12</th><td>0.0385492</td><td>0.627485</td><td>0.182781</td><td>0.962041</td><td>0.361186</td><td>0.320959</td><td>0.473113</td><td>0.864898</td></tr><tr><th>13</th><td>0.629725</td><td>0.52651</td><td>0.481552</td><td>0.0240245</td><td>0.987645</td><td>0.925279</td><td>0.69159</td><td>0.337845</td></tr><tr><th>14</th><td>0.376901</td><td>0.768801</td><td>0.451747</td><td>0.711778</td><td>0.189698</td><td>0.516794</td><td>0.59053</td><td>0.878006</td></tr><tr><th>15</th><td>0.725951</td><td>0.845127</td><td>0.518791</td><td>0.464254</td><td>0.684363</td><td>0.957299</td><td>0.476267</td><td>0.00808975</td></tr><tr><th>16</th><td>0.67325</td><td>0.539369</td><td>0.357803</td><td>0.559256</td><td>0.608265</td><td>0.657364</td><td>0.319508</td><td>0.400758</td></tr><tr><th>17</th><td>0.693895</td><td>0.0352463</td><td>0.351611</td><td>0.420606</td><td>0.128912</td><td>0.980275</td><td>0.914405</td><td>0.224127</td></tr><tr><th>18</th><td>0.905379</td><td>0.280348</td><td>0.410989</td><td>0.294941</td><td>0.00995731</td><td>0.811178</td><td>0.111291</td><td>0.0919449</td></tr><tr><th>19</th><td>0.544498</td><td>0.409585</td><td>0.775222</td><td>0.259578</td><td>0.954535</td><td>0.136481</td><td>0.229547</td><td>0.650162</td></tr><tr><th>20</th><td>0.985129</td><td>0.0640383</td><td>0.895713</td><td>0.34078</td><td>0.322908</td><td>0.433721</td><td>0.706408</td><td>0.700115</td></tr><tr><th>21</th><td>0.870088</td><td>0.518458</td><td>0.301502</td><td>0.0435209</td><td>0.934164</td><td>0.0362907</td><td>0.171656</td><td>0.0698889</td></tr><tr><th>22</th><td>0.96555</td><td>0.936295</td><td>0.861374</td><td>0.0949961</td><td>0.90676</td><td>0.700573</td><td>0.778032</td><td>0.801038</td></tr><tr><th>23</th><td>0.831341</td><td>0.544732</td><td>0.182606</td><td>0.948171</td><td>0.7762</td><td>0.969622</td><td>0.0620431</td><td>0.468645</td></tr><tr><th>24</th><td>0.79294</td><td>0.745086</td><td>0.26209</td><td>0.490689</td><td>0.234524</td><td>0.114051</td><td>0.874541</td><td>0.555204</td></tr><tr><th>25</th><td>0.350699</td><td>0.775876</td><td>0.959611</td><td>0.822964</td><td>0.637575</td><td>0.957479</td><td>0.848439</td><td>0.881789</td></tr><tr><th>26</th><td>0.749657</td><td>0.430389</td><td>0.225264</td><td>0.186918</td><td>0.2284</td><td>0.0435587</td><td>0.553189</td><td>0.712512</td></tr><tr><th>27</th><td>0.387499</td><td>0.24231</td><td>0.868435</td><td>0.863157</td><td>0.611097</td><td>0.591758</td><td>0.0946072</td><td>0.908963</td></tr><tr><th>28</th><td>0.609505</td><td>0.0345991</td><td>0.588353</td><td>0.0781211</td><td>0.301369</td><td>0.333382</td><td>0.381476</td><td>0.880795</td></tr><tr><th>29</th><td>0.183944</td><td>0.432429</td><td>0.815236</td><td>0.699212</td><td>0.691719</td><td>0.616546</td><td>0.878625</td><td>0.590071</td></tr><tr><th>30</th><td>0.729731</td><td>0.213026</td><td>0.902077</td><td>0.527658</td><td>0.437162</td><td>0.191977</td><td>0.237371</td><td>0.513735</td></tr><tr><th>&vellip;</th><td>&vellip;</td><td>&vellip;</td><td>&vellip;</td><td>&vellip;</td><td>&vellip;</td><td>&vellip;</td><td>&vellip;</td><td>&vellip;</td></tr></tbody></table>"
      ],
      "text/latex": [
       "\\begin{tabular}{r|ccccccccc}\n",
       "\t& x1 & x2 & x3 & x4 & x5 & x6 & x7 & x8 & \\\\\n",
       "\t\\hline\n",
       "\t& Float64 & Float64 & Float64 & Float64 & Float64 & Float64 & Float64 & Float64 & \\\\\n",
       "\t\\hline\n",
       "\t1 & 0.766316 & 0.316707 & 0.343028 & 0.965914 & 0.62647 & 0.0856604 & 0.904061 & 0.321208 & $\\dots$ \\\\\n",
       "\t2 & 0.259236 & 0.689041 & 0.653378 & 0.290464 & 0.798324 & 0.679658 & 0.992848 & 0.549183 & $\\dots$ \\\\\n",
       "\t3 & 0.662806 & 0.661069 & 0.414882 & 0.0283973 & 0.0725591 & 0.197549 & 0.479039 & 0.0510472 & $\\dots$ \\\\\n",
       "\t4 & 0.0950638 & 0.299294 & 0.68422 & 0.0325769 & 0.285205 & 0.274216 & 0.148808 & 0.887337 & $\\dots$ \\\\\n",
       "\t5 & 0.49026 & 0.887202 & 0.944367 & 0.346795 & 0.984099 & 0.273077 & 0.099737 & 0.690124 & $\\dots$ \\\\\n",
       "\t6 & 0.406854 & 0.60399 & 0.333629 & 0.0830925 & 0.157933 & 0.541711 & 0.48406 & 0.862885 & $\\dots$ \\\\\n",
       "\t7 & 0.499201 & 0.581658 & 0.366791 & 0.904021 & 0.527428 & 0.322 & 0.726671 & 0.0845636 & $\\dots$ \\\\\n",
       "\t8 & 0.158473 & 0.502546 & 0.992313 & 0.300413 & 0.731632 & 0.765302 & 0.857465 & 0.41926 & $\\dots$ \\\\\n",
       "\t9 & 0.971737 & 0.28474 & 0.513548 & 0.369635 & 0.186662 & 0.537873 & 0.296569 & 0.57022 & $\\dots$ \\\\\n",
       "\t10 & 0.544748 & 0.883141 & 0.214432 & 0.294907 & 0.4785 & 0.814737 & 0.836181 & 0.215015 & $\\dots$ \\\\\n",
       "\t11 & 0.884554 & 0.948369 & 0.508816 & 0.5253 & 0.308274 & 0.701091 & 0.83115 & 0.652586 & $\\dots$ \\\\\n",
       "\t12 & 0.0385492 & 0.627485 & 0.182781 & 0.962041 & 0.361186 & 0.320959 & 0.473113 & 0.864898 & $\\dots$ \\\\\n",
       "\t13 & 0.629725 & 0.52651 & 0.481552 & 0.0240245 & 0.987645 & 0.925279 & 0.69159 & 0.337845 & $\\dots$ \\\\\n",
       "\t14 & 0.376901 & 0.768801 & 0.451747 & 0.711778 & 0.189698 & 0.516794 & 0.59053 & 0.878006 & $\\dots$ \\\\\n",
       "\t15 & 0.725951 & 0.845127 & 0.518791 & 0.464254 & 0.684363 & 0.957299 & 0.476267 & 0.00808975 & $\\dots$ \\\\\n",
       "\t16 & 0.67325 & 0.539369 & 0.357803 & 0.559256 & 0.608265 & 0.657364 & 0.319508 & 0.400758 & $\\dots$ \\\\\n",
       "\t17 & 0.693895 & 0.0352463 & 0.351611 & 0.420606 & 0.128912 & 0.980275 & 0.914405 & 0.224127 & $\\dots$ \\\\\n",
       "\t18 & 0.905379 & 0.280348 & 0.410989 & 0.294941 & 0.00995731 & 0.811178 & 0.111291 & 0.0919449 & $\\dots$ \\\\\n",
       "\t19 & 0.544498 & 0.409585 & 0.775222 & 0.259578 & 0.954535 & 0.136481 & 0.229547 & 0.650162 & $\\dots$ \\\\\n",
       "\t20 & 0.985129 & 0.0640383 & 0.895713 & 0.34078 & 0.322908 & 0.433721 & 0.706408 & 0.700115 & $\\dots$ \\\\\n",
       "\t21 & 0.870088 & 0.518458 & 0.301502 & 0.0435209 & 0.934164 & 0.0362907 & 0.171656 & 0.0698889 & $\\dots$ \\\\\n",
       "\t22 & 0.96555 & 0.936295 & 0.861374 & 0.0949961 & 0.90676 & 0.700573 & 0.778032 & 0.801038 & $\\dots$ \\\\\n",
       "\t23 & 0.831341 & 0.544732 & 0.182606 & 0.948171 & 0.7762 & 0.969622 & 0.0620431 & 0.468645 & $\\dots$ \\\\\n",
       "\t24 & 0.79294 & 0.745086 & 0.26209 & 0.490689 & 0.234524 & 0.114051 & 0.874541 & 0.555204 & $\\dots$ \\\\\n",
       "\t25 & 0.350699 & 0.775876 & 0.959611 & 0.822964 & 0.637575 & 0.957479 & 0.848439 & 0.881789 & $\\dots$ \\\\\n",
       "\t26 & 0.749657 & 0.430389 & 0.225264 & 0.186918 & 0.2284 & 0.0435587 & 0.553189 & 0.712512 & $\\dots$ \\\\\n",
       "\t27 & 0.387499 & 0.24231 & 0.868435 & 0.863157 & 0.611097 & 0.591758 & 0.0946072 & 0.908963 & $\\dots$ \\\\\n",
       "\t28 & 0.609505 & 0.0345991 & 0.588353 & 0.0781211 & 0.301369 & 0.333382 & 0.381476 & 0.880795 & $\\dots$ \\\\\n",
       "\t29 & 0.183944 & 0.432429 & 0.815236 & 0.699212 & 0.691719 & 0.616546 & 0.878625 & 0.590071 & $\\dots$ \\\\\n",
       "\t30 & 0.729731 & 0.213026 & 0.902077 & 0.527658 & 0.437162 & 0.191977 & 0.237371 & 0.513735 & $\\dots$ \\\\\n",
       "\t$\\dots$ & $\\dots$ & $\\dots$ & $\\dots$ & $\\dots$ & $\\dots$ & $\\dots$ & $\\dots$ & $\\dots$ &  \\\\\n",
       "\\end{tabular}\n"
      ],
      "text/plain": [
       "\u001b[1m100×1000 DataFrame\u001b[0m\n",
       "\u001b[1m Row \u001b[0m│\u001b[1m x1        \u001b[0m\u001b[1m x2       \u001b[0m\u001b[1m x3        \u001b[0m\u001b[1m x4        \u001b[0m\u001b[1m x5        \u001b[0m\u001b[1m x6        \u001b[0m\u001b[1m x7    \u001b[0m ⋯\n",
       "\u001b[1m     \u001b[0m│\u001b[90m Float64   \u001b[0m\u001b[90m Float64  \u001b[0m\u001b[90m Float64   \u001b[0m\u001b[90m Float64   \u001b[0m\u001b[90m Float64   \u001b[0m\u001b[90m Float64   \u001b[0m\u001b[90m Float6\u001b[0m ⋯\n",
       "─────┼──────────────────────────────────────────────────────────────────────────\n",
       "   1 │ 0.766316   0.316707  0.343028   0.965914   0.62647    0.0856604  0.9040 ⋯\n",
       "   2 │ 0.259236   0.689041  0.653378   0.290464   0.798324   0.679658   0.9928\n",
       "   3 │ 0.662806   0.661069  0.414882   0.0283973  0.0725591  0.197549   0.4790\n",
       "   4 │ 0.0950638  0.299294  0.68422    0.0325769  0.285205   0.274216   0.1488\n",
       "   5 │ 0.49026    0.887202  0.944367   0.346795   0.984099   0.273077   0.0997 ⋯\n",
       "   6 │ 0.406854   0.60399   0.333629   0.0830925  0.157933   0.541711   0.4840\n",
       "   7 │ 0.499201   0.581658  0.366791   0.904021   0.527428   0.322      0.7266\n",
       "   8 │ 0.158473   0.502546  0.992313   0.300413   0.731632   0.765302   0.8574\n",
       "   9 │ 0.971737   0.28474   0.513548   0.369635   0.186662   0.537873   0.2965 ⋯\n",
       "  10 │ 0.544748   0.883141  0.214432   0.294907   0.4785     0.814737   0.8361\n",
       "  11 │ 0.884554   0.948369  0.508816   0.5253     0.308274   0.701091   0.8311\n",
       "  ⋮  │     ⋮         ⋮          ⋮          ⋮          ⋮          ⋮          ⋮  ⋱\n",
       "  91 │ 0.413147   0.692457  0.799958   0.168276   0.747139   0.291545   0.3813\n",
       "  92 │ 0.711927   0.413212  0.87628    0.836738   0.878358   0.997564   0.9721 ⋯\n",
       "  93 │ 0.186096   0.616523  0.0313403  0.633016   0.165172   0.538786   0.1547\n",
       "  94 │ 0.982025   0.472199  0.0525874  0.110098   0.399254   0.364225   0.1843\n",
       "  95 │ 0.0253462  0.731072  0.668378   0.989739   0.940594   0.478228   0.1125\n",
       "  96 │ 0.229177   0.865745  0.645602   0.819334   0.677705   0.57668    0.7672 ⋯\n",
       "  97 │ 0.29068    0.670145  0.239323   0.475185   0.688165   0.68585    0.1765\n",
       "  98 │ 0.353126   0.688445  0.0567354  0.110406   0.0774002  0.182999   0.4770\n",
       "  99 │ 0.608953   0.777087  0.23391    0.878464   0.408698   0.968303   0.3778\n",
       " 100 │ 0.359306   0.590281  0.304109   0.491616   0.987233   0.0625167  0.3648 ⋯\n",
       "\u001b[36m                                                 994 columns and 79 rows omitted\u001b[0m"
      ]
     },
     "execution_count": 22,
     "metadata": {},
     "output_type": "execute_result"
    }
   ],
   "source": [
    "x = DataFrame(rand(100, 1000), :auto)"
   ]
  },
  {
   "cell_type": "code",
   "execution_count": 23,
   "metadata": {},
   "outputs": [
    {
     "name": "stdout",
     "output_type": "stream",
     "text": [
      "  169.615 μs (1985 allocations: 159.44 KiB)\n"
     ]
    },
    {
     "data": {
      "text/html": [
       "<table class=\"data-frame\"><thead><tr><th></th><th>x1</th><th>x2</th><th>x3</th><th>x4</th><th>x5</th><th>x6</th><th>x7</th><th>x8</th></tr><tr><th></th><th>Float64</th><th>Float64</th><th>Float64</th><th>Float64</th><th>Float64</th><th>Float64</th><th>Float64</th><th>Float64</th></tr></thead><tbody><p>1 rows × 1,000 columns (omitted printing of 992 columns)</p><tr><th>1</th><td>0.766316</td><td>0.316707</td><td>0.343028</td><td>0.965914</td><td>0.62647</td><td>0.0856604</td><td>0.904061</td><td>0.321208</td></tr></tbody></table>"
      ],
      "text/latex": [
       "\\begin{tabular}{r|ccccccccc}\n",
       "\t& x1 & x2 & x3 & x4 & x5 & x6 & x7 & x8 & \\\\\n",
       "\t\\hline\n",
       "\t& Float64 & Float64 & Float64 & Float64 & Float64 & Float64 & Float64 & Float64 & \\\\\n",
       "\t\\hline\n",
       "\t1 & 0.766316 & 0.316707 & 0.343028 & 0.965914 & 0.62647 & 0.0856604 & 0.904061 & 0.321208 & $\\dots$ \\\\\n",
       "\\end{tabular}\n"
      ],
      "text/plain": [
       "\u001b[1m1×1000 DataFrame\u001b[0m\n",
       "\u001b[1m Row \u001b[0m│\u001b[1m x1       \u001b[0m\u001b[1m x2       \u001b[0m\u001b[1m x3       \u001b[0m\u001b[1m x4       \u001b[0m\u001b[1m x5      \u001b[0m\u001b[1m x6        \u001b[0m\u001b[1m x7       \u001b[0m\u001b[1m x\u001b[0m ⋯\n",
       "\u001b[1m     \u001b[0m│\u001b[90m Float64  \u001b[0m\u001b[90m Float64  \u001b[0m\u001b[90m Float64  \u001b[0m\u001b[90m Float64  \u001b[0m\u001b[90m Float64 \u001b[0m\u001b[90m Float64   \u001b[0m\u001b[90m Float64  \u001b[0m\u001b[90m F\u001b[0m ⋯\n",
       "─────┼──────────────────────────────────────────────────────────────────────────\n",
       "   1 │ 0.766316  0.316707  0.343028  0.965914  0.62647  0.0856604  0.904061  0 ⋯\n",
       "\u001b[36m                                                             993 columns omitted\u001b[0m"
      ]
     },
     "execution_count": 23,
     "metadata": {},
     "output_type": "execute_result"
    }
   ],
   "source": [
    "@btime $x[1:1, :]"
   ]
  },
  {
   "cell_type": "code",
   "execution_count": 24,
   "metadata": {},
   "outputs": [
    {
     "name": "stdout",
     "output_type": "stream",
     "text": [
      "  21.486 ns (0 allocations: 0 bytes)\n"
     ]
    },
    {
     "data": {
      "text/html": [
       "<p>DataFrameRow (1000 columns)</p><table class=\"data-frame\"><thead><tr><th></th><th>x1</th><th>x2</th><th>x3</th><th>x4</th><th>x5</th><th>x6</th><th>x7</th><th>x8</th></tr><tr><th></th><th>Float64</th><th>Float64</th><th>Float64</th><th>Float64</th><th>Float64</th><th>Float64</th><th>Float64</th><th>Float64</th></tr></thead><tbody><tr><th>1</th><td>0.766316</td><td>0.316707</td><td>0.343028</td><td>0.965914</td><td>0.62647</td><td>0.0856604</td><td>0.904061</td><td>0.321208</td></tr></tbody></table>"
      ],
      "text/latex": [
       "\\begin{tabular}{r|ccccccccc}\n",
       "\t& x1 & x2 & x3 & x4 & x5 & x6 & x7 & x8 & \\\\\n",
       "\t\\hline\n",
       "\t& Float64 & Float64 & Float64 & Float64 & Float64 & Float64 & Float64 & Float64 & \\\\\n",
       "\t\\hline\n",
       "\t1 & 0.766316 & 0.316707 & 0.343028 & 0.965914 & 0.62647 & 0.0856604 & 0.904061 & 0.321208 & $\\dots$ \\\\\n",
       "\\end{tabular}\n"
      ],
      "text/plain": [
       "\u001b[1mDataFrameRow\u001b[0m\n",
       "\u001b[1m Row \u001b[0m│\u001b[1m x1       \u001b[0m\u001b[1m x2       \u001b[0m\u001b[1m x3       \u001b[0m\u001b[1m x4       \u001b[0m\u001b[1m x5      \u001b[0m\u001b[1m x6        \u001b[0m\u001b[1m x7       \u001b[0m\u001b[1m x\u001b[0m ⋯\n",
       "\u001b[1m     \u001b[0m│\u001b[90m Float64  \u001b[0m\u001b[90m Float64  \u001b[0m\u001b[90m Float64  \u001b[0m\u001b[90m Float64  \u001b[0m\u001b[90m Float64 \u001b[0m\u001b[90m Float64   \u001b[0m\u001b[90m Float64  \u001b[0m\u001b[90m F\u001b[0m ⋯\n",
       "─────┼──────────────────────────────────────────────────────────────────────────\n",
       "   1 │ 0.766316  0.316707  0.343028  0.965914  0.62647  0.0856604  0.904061  0 ⋯\n",
       "\u001b[36m                                                             993 columns omitted\u001b[0m"
      ]
     },
     "execution_count": 24,
     "metadata": {},
     "output_type": "execute_result"
    }
   ],
   "source": [
    "@btime $x[1, :]"
   ]
  },
  {
   "cell_type": "code",
   "execution_count": 25,
   "metadata": {},
   "outputs": [
    {
     "name": "stdout",
     "output_type": "stream",
     "text": [
      "  21.966 ns (0 allocations: 0 bytes)\n"
     ]
    },
    {
     "data": {
      "text/html": [
       "<table class=\"data-frame\"><thead><tr><th></th><th>x1</th><th>x2</th><th>x3</th><th>x4</th><th>x5</th><th>x6</th><th>x7</th><th>x8</th></tr><tr><th></th><th>Float64</th><th>Float64</th><th>Float64</th><th>Float64</th><th>Float64</th><th>Float64</th><th>Float64</th><th>Float64</th></tr></thead><tbody><p>1 rows × 1,000 columns (omitted printing of 992 columns)</p><tr><th>1</th><td>0.766316</td><td>0.316707</td><td>0.343028</td><td>0.965914</td><td>0.62647</td><td>0.0856604</td><td>0.904061</td><td>0.321208</td></tr></tbody></table>"
      ],
      "text/latex": [
       "\\begin{tabular}{r|ccccccccc}\n",
       "\t& x1 & x2 & x3 & x4 & x5 & x6 & x7 & x8 & \\\\\n",
       "\t\\hline\n",
       "\t& Float64 & Float64 & Float64 & Float64 & Float64 & Float64 & Float64 & Float64 & \\\\\n",
       "\t\\hline\n",
       "\t1 & 0.766316 & 0.316707 & 0.343028 & 0.965914 & 0.62647 & 0.0856604 & 0.904061 & 0.321208 & $\\dots$ \\\\\n",
       "\\end{tabular}\n"
      ],
      "text/plain": [
       "\u001b[1m1×1000 SubDataFrame\u001b[0m\n",
       "\u001b[1m Row \u001b[0m│\u001b[1m x1       \u001b[0m\u001b[1m x2       \u001b[0m\u001b[1m x3       \u001b[0m\u001b[1m x4       \u001b[0m\u001b[1m x5      \u001b[0m\u001b[1m x6        \u001b[0m\u001b[1m x7       \u001b[0m\u001b[1m x\u001b[0m ⋯\n",
       "\u001b[1m     \u001b[0m│\u001b[90m Float64  \u001b[0m\u001b[90m Float64  \u001b[0m\u001b[90m Float64  \u001b[0m\u001b[90m Float64  \u001b[0m\u001b[90m Float64 \u001b[0m\u001b[90m Float64   \u001b[0m\u001b[90m Float64  \u001b[0m\u001b[90m F\u001b[0m ⋯\n",
       "─────┼──────────────────────────────────────────────────────────────────────────\n",
       "   1 │ 0.766316  0.316707  0.343028  0.965914  0.62647  0.0856604  0.904061  0 ⋯\n",
       "\u001b[36m                                                             993 columns omitted\u001b[0m"
      ]
     },
     "execution_count": 25,
     "metadata": {},
     "output_type": "execute_result"
    }
   ],
   "source": [
    "@btime view($x, 1:1, :)"
   ]
  },
  {
   "cell_type": "code",
   "execution_count": 26,
   "metadata": {},
   "outputs": [
    {
     "name": "stdout",
     "output_type": "stream",
     "text": [
      "  3.635 μs (30 allocations: 3.53 KiB)\n"
     ]
    },
    {
     "data": {
      "text/html": [
       "<table class=\"data-frame\"><thead><tr><th></th><th>x1</th><th>x2</th><th>x3</th><th>x4</th><th>x5</th><th>x6</th><th>x7</th><th>x8</th></tr><tr><th></th><th>Float64</th><th>Float64</th><th>Float64</th><th>Float64</th><th>Float64</th><th>Float64</th><th>Float64</th><th>Float64</th></tr></thead><tbody><p>1 rows × 20 columns (omitted printing of 12 columns)</p><tr><th>1</th><td>0.766316</td><td>0.316707</td><td>0.343028</td><td>0.965914</td><td>0.62647</td><td>0.0856604</td><td>0.904061</td><td>0.321208</td></tr></tbody></table>"
      ],
      "text/latex": [
       "\\begin{tabular}{r|ccccccccc}\n",
       "\t& x1 & x2 & x3 & x4 & x5 & x6 & x7 & x8 & \\\\\n",
       "\t\\hline\n",
       "\t& Float64 & Float64 & Float64 & Float64 & Float64 & Float64 & Float64 & Float64 & \\\\\n",
       "\t\\hline\n",
       "\t1 & 0.766316 & 0.316707 & 0.343028 & 0.965914 & 0.62647 & 0.0856604 & 0.904061 & 0.321208 & $\\dots$ \\\\\n",
       "\\end{tabular}\n"
      ],
      "text/plain": [
       "\u001b[1m1×20 DataFrame\u001b[0m\n",
       "\u001b[1m Row \u001b[0m│\u001b[1m x1       \u001b[0m\u001b[1m x2       \u001b[0m\u001b[1m x3       \u001b[0m\u001b[1m x4       \u001b[0m\u001b[1m x5      \u001b[0m\u001b[1m x6        \u001b[0m\u001b[1m x7       \u001b[0m\u001b[1m x\u001b[0m ⋯\n",
       "\u001b[1m     \u001b[0m│\u001b[90m Float64  \u001b[0m\u001b[90m Float64  \u001b[0m\u001b[90m Float64  \u001b[0m\u001b[90m Float64  \u001b[0m\u001b[90m Float64 \u001b[0m\u001b[90m Float64   \u001b[0m\u001b[90m Float64  \u001b[0m\u001b[90m F\u001b[0m ⋯\n",
       "─────┼──────────────────────────────────────────────────────────────────────────\n",
       "   1 │ 0.766316  0.316707  0.343028  0.965914  0.62647  0.0856604  0.904061  0 ⋯\n",
       "\u001b[36m                                                              13 columns omitted\u001b[0m"
      ]
     },
     "execution_count": 26,
     "metadata": {},
     "output_type": "execute_result"
    }
   ],
   "source": [
    "@btime $x[1:1, 1:20]"
   ]
  },
  {
   "cell_type": "code",
   "execution_count": 27,
   "metadata": {},
   "outputs": [
    {
     "name": "stdout",
     "output_type": "stream",
     "text": [
      "  19.697 ns (0 allocations: 0 bytes)\n"
     ]
    },
    {
     "data": {
      "text/html": [
       "<p>DataFrameRow (20 columns)</p><table class=\"data-frame\"><thead><tr><th></th><th>x1</th><th>x2</th><th>x3</th><th>x4</th><th>x5</th><th>x6</th><th>x7</th><th>x8</th></tr><tr><th></th><th>Float64</th><th>Float64</th><th>Float64</th><th>Float64</th><th>Float64</th><th>Float64</th><th>Float64</th><th>Float64</th></tr></thead><tbody><tr><th>1</th><td>0.766316</td><td>0.316707</td><td>0.343028</td><td>0.965914</td><td>0.62647</td><td>0.0856604</td><td>0.904061</td><td>0.321208</td></tr></tbody></table>"
      ],
      "text/latex": [
       "\\begin{tabular}{r|ccccccccc}\n",
       "\t& x1 & x2 & x3 & x4 & x5 & x6 & x7 & x8 & \\\\\n",
       "\t\\hline\n",
       "\t& Float64 & Float64 & Float64 & Float64 & Float64 & Float64 & Float64 & Float64 & \\\\\n",
       "\t\\hline\n",
       "\t1 & 0.766316 & 0.316707 & 0.343028 & 0.965914 & 0.62647 & 0.0856604 & 0.904061 & 0.321208 & $\\dots$ \\\\\n",
       "\\end{tabular}\n"
      ],
      "text/plain": [
       "\u001b[1mDataFrameRow\u001b[0m\n",
       "\u001b[1m Row \u001b[0m│\u001b[1m x1       \u001b[0m\u001b[1m x2       \u001b[0m\u001b[1m x3       \u001b[0m\u001b[1m x4       \u001b[0m\u001b[1m x5      \u001b[0m\u001b[1m x6        \u001b[0m\u001b[1m x7       \u001b[0m\u001b[1m x\u001b[0m ⋯\n",
       "\u001b[1m     \u001b[0m│\u001b[90m Float64  \u001b[0m\u001b[90m Float64  \u001b[0m\u001b[90m Float64  \u001b[0m\u001b[90m Float64  \u001b[0m\u001b[90m Float64 \u001b[0m\u001b[90m Float64   \u001b[0m\u001b[90m Float64  \u001b[0m\u001b[90m F\u001b[0m ⋯\n",
       "─────┼──────────────────────────────────────────────────────────────────────────\n",
       "   1 │ 0.766316  0.316707  0.343028  0.965914  0.62647  0.0856604  0.904061  0 ⋯\n",
       "\u001b[36m                                                              13 columns omitted\u001b[0m"
      ]
     },
     "execution_count": 27,
     "metadata": {},
     "output_type": "execute_result"
    }
   ],
   "source": [
    "@btime $x[1, 1:20]"
   ]
  },
  {
   "cell_type": "code",
   "execution_count": 28,
   "metadata": {},
   "outputs": [
    {
     "name": "stdout",
     "output_type": "stream",
     "text": [
      "  19.713 ns (0 allocations: 0 bytes)\n"
     ]
    },
    {
     "data": {
      "text/html": [
       "<table class=\"data-frame\"><thead><tr><th></th><th>x1</th><th>x2</th><th>x3</th><th>x4</th><th>x5</th><th>x6</th><th>x7</th><th>x8</th></tr><tr><th></th><th>Float64</th><th>Float64</th><th>Float64</th><th>Float64</th><th>Float64</th><th>Float64</th><th>Float64</th><th>Float64</th></tr></thead><tbody><p>1 rows × 20 columns (omitted printing of 12 columns)</p><tr><th>1</th><td>0.766316</td><td>0.316707</td><td>0.343028</td><td>0.965914</td><td>0.62647</td><td>0.0856604</td><td>0.904061</td><td>0.321208</td></tr></tbody></table>"
      ],
      "text/latex": [
       "\\begin{tabular}{r|ccccccccc}\n",
       "\t& x1 & x2 & x3 & x4 & x5 & x6 & x7 & x8 & \\\\\n",
       "\t\\hline\n",
       "\t& Float64 & Float64 & Float64 & Float64 & Float64 & Float64 & Float64 & Float64 & \\\\\n",
       "\t\\hline\n",
       "\t1 & 0.766316 & 0.316707 & 0.343028 & 0.965914 & 0.62647 & 0.0856604 & 0.904061 & 0.321208 & $\\dots$ \\\\\n",
       "\\end{tabular}\n"
      ],
      "text/plain": [
       "\u001b[1m1×20 SubDataFrame\u001b[0m\n",
       "\u001b[1m Row \u001b[0m│\u001b[1m x1       \u001b[0m\u001b[1m x2       \u001b[0m\u001b[1m x3       \u001b[0m\u001b[1m x4       \u001b[0m\u001b[1m x5      \u001b[0m\u001b[1m x6        \u001b[0m\u001b[1m x7       \u001b[0m\u001b[1m x\u001b[0m ⋯\n",
       "\u001b[1m     \u001b[0m│\u001b[90m Float64  \u001b[0m\u001b[90m Float64  \u001b[0m\u001b[90m Float64  \u001b[0m\u001b[90m Float64  \u001b[0m\u001b[90m Float64 \u001b[0m\u001b[90m Float64   \u001b[0m\u001b[90m Float64  \u001b[0m\u001b[90m F\u001b[0m ⋯\n",
       "─────┼──────────────────────────────────────────────────────────────────────────\n",
       "   1 │ 0.766316  0.316707  0.343028  0.965914  0.62647  0.0856604  0.904061  0 ⋯\n",
       "\u001b[36m                                                              13 columns omitted\u001b[0m"
      ]
     },
     "execution_count": 28,
     "metadata": {},
     "output_type": "execute_result"
    }
   ],
   "source": [
    "@btime view($x, 1:1, 1:20)"
   ]
  }
 ],
 "metadata": {
  "@webio": {
   "lastCommId": null,
   "lastKernelId": null
  },
  "kernelspec": {
   "display_name": "Julia 1.6.1",
   "language": "julia",
   "name": "julia-1.6"
  },
  "language_info": {
   "file_extension": ".jl",
   "mimetype": "application/julia",
   "name": "julia",
   "version": "1.6.1"
  }
 },
 "nbformat": 4,
 "nbformat_minor": 1
}
