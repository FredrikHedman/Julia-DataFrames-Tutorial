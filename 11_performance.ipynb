{
 "cells": [
  {
   "cell_type": "markdown",
   "metadata": {},
   "source": [
    "# Introduction to DataFrames\n",
    "**[Bogumił Kamiński](http://bogumilkaminski.pl/about/), July 17, 2021**"
   ]
  },
  {
   "cell_type": "code",
   "execution_count": 1,
   "metadata": {},
   "outputs": [],
   "source": [
    "using DataFrames"
   ]
  },
  {
   "cell_type": "code",
   "execution_count": 2,
   "metadata": {},
   "outputs": [],
   "source": [
    "using BenchmarkTools"
   ]
  },
  {
   "cell_type": "code",
   "execution_count": 3,
   "metadata": {},
   "outputs": [],
   "source": [
    "using CategoricalArrays"
   ]
  },
  {
   "cell_type": "code",
   "execution_count": 4,
   "metadata": {},
   "outputs": [],
   "source": [
    "using PooledArrays"
   ]
  },
  {
   "cell_type": "markdown",
   "metadata": {},
   "source": [
    "## Performance tips"
   ]
  },
  {
   "cell_type": "markdown",
   "metadata": {},
   "source": [
    "### Access by column number is faster than by name"
   ]
  },
  {
   "cell_type": "code",
   "execution_count": 5,
   "metadata": {},
   "outputs": [
    {
     "name": "stdout",
     "output_type": "stream",
     "text": [
      "  5.000 ns (0 allocations: 0 bytes)\n",
      "  36.714 ns (1 allocation: 32 bytes)\n"
     ]
    }
   ],
   "source": [
    "x = DataFrame(rand(5, 1000), :auto)\n",
    "@btime $x[!, 500];\n",
    "@btime $x.x500;"
   ]
  },
  {
   "cell_type": "markdown",
   "metadata": {},
   "source": [
    "### When working with data `DataFrame` use barrier functions or type annotation"
   ]
  },
  {
   "cell_type": "code",
   "execution_count": 6,
   "metadata": {},
   "outputs": [
    {
     "name": "stdout",
     "output_type": "stream",
     "text": [
      "  111.635 ms (5999015 allocations: 122.06 MiB)\n"
     ]
    }
   ],
   "source": [
    "using Random\n",
    "function f_bad() # this function will be slow\n",
    "    Random.seed!(1); x = DataFrame(rand(1000000,2), :auto)\n",
    "    y, z = x[!, 1], x[!, 2]\n",
    "    p = 0.0\n",
    "    for i in 1:nrow(x)\n",
    "        p += y[i]*z[i]\n",
    "    end\n",
    "    p\n",
    "end\n",
    "\n",
    "@btime f_bad();\n",
    "# if you run @code_warntype f_bad() then you notice\n",
    "# that Julia does not know column types of `DataFrame`\n"
   ]
  },
  {
   "cell_type": "code",
   "execution_count": 7,
   "metadata": {},
   "outputs": [
    {
     "name": "stdout",
     "output_type": "stream",
     "text": [
      "  8.125 ms (35 allocations: 30.52 MiB)\n",
      "  7.509 ms (35 allocations: 30.52 MiB)\n"
     ]
    }
   ],
   "source": [
    "# solution 1 is to use barrier function (it should be possible to use it in almost any code)\n",
    "function f_inner(y,z)\n",
    "   p = 0.0\n",
    "   for i in 1:length(y)\n",
    "       p += y[i]*z[i]\n",
    "   end\n",
    "   p\n",
    "end\n",
    "\n",
    "function f_barrier() # extract the work to an inner function\n",
    "    Random.seed!(1); x = DataFrame(rand(1000000,2), :auto)\n",
    "    f_inner(x[!, 1], x[!, 2])\n",
    "end\n",
    "\n",
    "using LinearAlgebra\n",
    "function f_inbuilt() # or use inbuilt function if possible\n",
    "    Random.seed!(1); x = DataFrame(rand(1000000,2), :auto)\n",
    "    dot(x[!, 1], x[!, 2])\n",
    "end\n",
    "\n",
    "@btime f_barrier();\n",
    "@btime f_inbuilt();"
   ]
  },
  {
   "cell_type": "code",
   "execution_count": 8,
   "metadata": {},
   "outputs": [
    {
     "name": "stdout",
     "output_type": "stream",
     "text": [
      "  8.166 ms (35 allocations: 30.52 MiB)\n"
     ]
    }
   ],
   "source": [
    "# solution 2 is to provide the types of extracted columns\n",
    "# it is simpler but there are cases in which you will not know these types\n",
    "# This example  assumes that you have DataFrames master at least from August 31, 2018\n",
    "function f_typed()\n",
    "    Random.seed!(1); x = DataFrame(rand(1000000,2), :auto)\n",
    "    y::Vector{Float64}, z::Vector{Float64} = x[!, 1], x[!, 2]\n",
    "    p = 0.0\n",
    "    for i in 1:nrow(x)\n",
    "        p += y[i]*z[i]\n",
    "    end\n",
    "    p\n",
    "end\n",
    "\n",
    "@btime f_typed();"
   ]
  },
  {
   "cell_type": "markdown",
   "metadata": {},
   "source": [
    "In general for tall and narrow tables it is often useful to use `Tables.rowtable`, `Tables.columntable` or `Tables.namedtupleiterator` for intermediate processing of data in a type-stable way."
   ]
  },
  {
   "cell_type": "markdown",
   "metadata": {},
   "source": [
    "### Consider using delayed `DataFrame` creation technique"
   ]
  },
  {
   "cell_type": "markdown",
   "metadata": {},
   "source": [
    "also notice the difference in performance between copying vs non-copying data frame creation"
   ]
  },
  {
   "cell_type": "code",
   "execution_count": 9,
   "metadata": {},
   "outputs": [
    {
     "name": "stdout",
     "output_type": "stream",
     "text": [
      "  32.414 ms (1949523 allocations: 37.40 MiB)\n",
      "  35.522 ms (1949723 allocations: 45.04 MiB)\n",
      "  4.253 ms (623 allocations: 7.66 MiB)\n",
      "  5.616 ms (823 allocations: 15.30 MiB)\n"
     ]
    }
   ],
   "source": [
    "function f1()\n",
    "    x = DataFrame([Vector{Float64}(undef, 10^4) for i in 1:100], :auto, copycols=false) # we work with a DataFrame directly\n",
    "    for c in 1:ncol(x)\n",
    "        d = x[!, c]\n",
    "        for r in 1:nrow(x)\n",
    "            d[r] = rand()\n",
    "        end\n",
    "    end\n",
    "    x\n",
    "end\n",
    "\n",
    "function f1a()\n",
    "    x = DataFrame([Vector{Float64}(undef, 10^4) for i in 1:100], :auto) # we work with a DataFrame directly\n",
    "    for c in 1:ncol(x)\n",
    "        d = x[!, c]\n",
    "        for r in 1:nrow(x)\n",
    "            d[r] = rand()\n",
    "        end\n",
    "    end\n",
    "    x\n",
    "end\n",
    "\n",
    "function f2()\n",
    "    x = Vector{Any}(undef, 100)\n",
    "    for c in 1:length(x)\n",
    "        d = Vector{Float64}(undef, 10^4)\n",
    "        for r in 1:length(d)\n",
    "            d[r] = rand()\n",
    "        end\n",
    "        x[c] = d\n",
    "    end\n",
    "    DataFrame(x, :auto, copycols=false) # we delay creation of DataFrame after we have our job done\n",
    "end\n",
    "\n",
    "function f2a()\n",
    "    x = Vector{Any}(undef, 100)\n",
    "    for c in 1:length(x)\n",
    "        d = Vector{Float64}(undef, 10^4)\n",
    "        for r in 1:length(d)\n",
    "            d[r] = rand()\n",
    "        end\n",
    "        x[c] = d\n",
    "    end\n",
    "    DataFrame(x, :auto) # we delay creation of DataFrame after we have our job done\n",
    "end\n",
    "\n",
    "@btime f1();\n",
    "@btime f1a();\n",
    "@btime f2();\n",
    "@btime f2a();"
   ]
  },
  {
   "cell_type": "markdown",
   "metadata": {},
   "source": [
    "### You can add rows to a `DataFrame` in place and it is fast"
   ]
  },
  {
   "cell_type": "code",
   "execution_count": 10,
   "metadata": {},
   "outputs": [
    {
     "name": "stdout",
     "output_type": "stream",
     "text": [
      "  6.926 ms (153 allocations: 38.16 MiB)\n",
      "  1.270 μs (17 allocations: 832 bytes)\n",
      "  553.226 ns (16 allocations: 256 bytes)\n"
     ]
    }
   ],
   "source": [
    "x = DataFrame(rand(10^6, 5), :auto)\n",
    "y = DataFrame(transpose(1.0:5.0), :auto)\n",
    "z = [1.0:5.0;]\n",
    "\n",
    "@btime vcat($x, $y); # creates a new DataFrame - slow\n",
    "@btime append!($x, $y); # in place - fast\n",
    "\n",
    "x = DataFrame(rand(10^6, 5), :auto) # reset to the same starting point\n",
    "@btime push!($x, $z); # add a single row in place - fast"
   ]
  },
  {
   "cell_type": "markdown",
   "metadata": {},
   "source": [
    "### Allowing `missing` as well as `categorical` slows down computations"
   ]
  },
  {
   "cell_type": "code",
   "execution_count": 11,
   "metadata": {},
   "outputs": [
    {
     "name": "stdout",
     "output_type": "stream",
     "text": [
      "Int64\n",
      " raw:\n",
      "  3.558 ms (7 allocations: 7.63 MiB)\n",
      " categorical:\n",
      "  21.997 ms (1000004 allocations: 30.52 MiB)\n",
      "String\n",
      " raw:\n",
      "  28.855 ms (4 allocations: 608 bytes)\n",
      " categorical:\n",
      "  36.338 ms (1000004 allocations: 30.52 MiB)\n",
      "Union{Missing, Int64}\n",
      " raw:\n",
      "  6.906 ms (4 allocations: 624 bytes)\n",
      " categorical:\n",
      "  19.068 ms (1000004 allocations: 30.52 MiB)\n",
      "Union{Missing, String}\n",
      " raw:\n",
      "  21.905 ms (4 allocations: 608 bytes)\n",
      " categorical:\n",
      "  30.331 ms (1000004 allocations: 30.52 MiB)\n"
     ]
    }
   ],
   "source": [
    "using StatsBase\n",
    "\n",
    "function test(data) # uses countmap function to test performance\n",
    "    println(eltype(data))\n",
    "    x = rand(data, 10^6)\n",
    "    y = categorical(x)\n",
    "    println(\" raw:\")\n",
    "    @btime countmap($x)\n",
    "    println(\" categorical:\")\n",
    "    @btime countmap($y)\n",
    "    nothing\n",
    "end\n",
    "\n",
    "test(1:10)\n",
    "test([randstring() for i in 1:10])\n",
    "test(allowmissing(1:10))\n",
    "test(allowmissing([randstring() for i in 1:10]))\n"
   ]
  },
  {
   "cell_type": "markdown",
   "metadata": {},
   "source": [
    "### When aggregating use column selector and prefer integer, categorical, or pooled array grouping variable"
   ]
  },
  {
   "cell_type": "code",
   "execution_count": 12,
   "metadata": {},
   "outputs": [],
   "source": [
    "df = DataFrame(x=rand('a':'d', 10^7), y=1);"
   ]
  },
  {
   "cell_type": "code",
   "execution_count": 13,
   "metadata": {
    "scrolled": true
   },
   "outputs": [
    {
     "data": {
      "text/html": [
       "<p><b>GroupedDataFrame with 4 groups based on key: x</b></p><p><i>First Group (2499188 rows): x = &apos;d&apos;</i></p><div class=\"data-frame\"><table class=\"data-frame\"><thead><tr><th></th><th>x</th><th>y</th></tr><tr><th></th><th title=\"Char\">Char</th><th title=\"Int64\">Int64</th></tr></thead><tbody><tr><th>1</th><td>d</td><td>1</td></tr><tr><th>2</th><td>d</td><td>1</td></tr><tr><th>3</th><td>d</td><td>1</td></tr><tr><th>4</th><td>d</td><td>1</td></tr><tr><th>5</th><td>d</td><td>1</td></tr><tr><th>6</th><td>d</td><td>1</td></tr><tr><th>7</th><td>d</td><td>1</td></tr><tr><th>8</th><td>d</td><td>1</td></tr><tr><th>9</th><td>d</td><td>1</td></tr><tr><th>10</th><td>d</td><td>1</td></tr><tr><th>11</th><td>d</td><td>1</td></tr><tr><th>12</th><td>d</td><td>1</td></tr><tr><th>13</th><td>d</td><td>1</td></tr><tr><th>14</th><td>d</td><td>1</td></tr><tr><th>15</th><td>d</td><td>1</td></tr><tr><th>16</th><td>d</td><td>1</td></tr><tr><th>17</th><td>d</td><td>1</td></tr><tr><th>18</th><td>d</td><td>1</td></tr><tr><th>19</th><td>d</td><td>1</td></tr><tr><th>20</th><td>d</td><td>1</td></tr><tr><th>21</th><td>d</td><td>1</td></tr><tr><th>22</th><td>d</td><td>1</td></tr><tr><th>23</th><td>d</td><td>1</td></tr><tr><th>24</th><td>d</td><td>1</td></tr><tr><th>25</th><td>d</td><td>1</td></tr><tr><th>26</th><td>d</td><td>1</td></tr><tr><th>27</th><td>d</td><td>1</td></tr><tr><th>28</th><td>d</td><td>1</td></tr><tr><th>29</th><td>d</td><td>1</td></tr><tr><th>30</th><td>d</td><td>1</td></tr><tr><th>&vellip;</th><td>&vellip;</td><td>&vellip;</td></tr></tbody></table></div><p>&vellip;</p><p><i>Last Group (2502940 rows): x = &apos;c&apos;</i></p><div class=\"data-frame\"><table class=\"data-frame\"><thead><tr><th></th><th>x</th><th>y</th></tr><tr><th></th><th title=\"Char\">Char</th><th title=\"Int64\">Int64</th></tr></thead><tbody><tr><th>1</th><td>c</td><td>1</td></tr><tr><th>2</th><td>c</td><td>1</td></tr><tr><th>3</th><td>c</td><td>1</td></tr><tr><th>4</th><td>c</td><td>1</td></tr><tr><th>5</th><td>c</td><td>1</td></tr><tr><th>6</th><td>c</td><td>1</td></tr><tr><th>7</th><td>c</td><td>1</td></tr><tr><th>8</th><td>c</td><td>1</td></tr><tr><th>9</th><td>c</td><td>1</td></tr><tr><th>10</th><td>c</td><td>1</td></tr><tr><th>11</th><td>c</td><td>1</td></tr><tr><th>12</th><td>c</td><td>1</td></tr><tr><th>13</th><td>c</td><td>1</td></tr><tr><th>14</th><td>c</td><td>1</td></tr><tr><th>15</th><td>c</td><td>1</td></tr><tr><th>16</th><td>c</td><td>1</td></tr><tr><th>17</th><td>c</td><td>1</td></tr><tr><th>18</th><td>c</td><td>1</td></tr><tr><th>19</th><td>c</td><td>1</td></tr><tr><th>20</th><td>c</td><td>1</td></tr><tr><th>21</th><td>c</td><td>1</td></tr><tr><th>22</th><td>c</td><td>1</td></tr><tr><th>23</th><td>c</td><td>1</td></tr><tr><th>24</th><td>c</td><td>1</td></tr><tr><th>25</th><td>c</td><td>1</td></tr><tr><th>26</th><td>c</td><td>1</td></tr><tr><th>27</th><td>c</td><td>1</td></tr><tr><th>28</th><td>c</td><td>1</td></tr><tr><th>29</th><td>c</td><td>1</td></tr><tr><th>30</th><td>c</td><td>1</td></tr><tr><th>&vellip;</th><td>&vellip;</td><td>&vellip;</td></tr></tbody></table></div>"
      ],
      "text/latex": [
       "GroupedDataFrame with 4 groups based on key: x\n",
       "\n",
       "First Group (2499188 rows): x = 'd'\n",
       "\n",
       "\\begin{tabular}{r|cc}\n",
       "\t& x & y\\\\\n",
       "\t\\hline\n",
       "\t& Char & Int64\\\\\n",
       "\t\\hline\n",
       "\t1 & d & 1 \\\\\n",
       "\t2 & d & 1 \\\\\n",
       "\t3 & d & 1 \\\\\n",
       "\t4 & d & 1 \\\\\n",
       "\t5 & d & 1 \\\\\n",
       "\t6 & d & 1 \\\\\n",
       "\t7 & d & 1 \\\\\n",
       "\t8 & d & 1 \\\\\n",
       "\t9 & d & 1 \\\\\n",
       "\t10 & d & 1 \\\\\n",
       "\t11 & d & 1 \\\\\n",
       "\t12 & d & 1 \\\\\n",
       "\t13 & d & 1 \\\\\n",
       "\t14 & d & 1 \\\\\n",
       "\t15 & d & 1 \\\\\n",
       "\t16 & d & 1 \\\\\n",
       "\t17 & d & 1 \\\\\n",
       "\t18 & d & 1 \\\\\n",
       "\t19 & d & 1 \\\\\n",
       "\t20 & d & 1 \\\\\n",
       "\t21 & d & 1 \\\\\n",
       "\t22 & d & 1 \\\\\n",
       "\t23 & d & 1 \\\\\n",
       "\t24 & d & 1 \\\\\n",
       "\t25 & d & 1 \\\\\n",
       "\t26 & d & 1 \\\\\n",
       "\t27 & d & 1 \\\\\n",
       "\t28 & d & 1 \\\\\n",
       "\t29 & d & 1 \\\\\n",
       "\t30 & d & 1 \\\\\n",
       "\t$\\dots$ & $\\dots$ & $\\dots$ \\\\\n",
       "\\end{tabular}\n",
       "\n",
       "$\\dots$\n",
       "\n",
       "Last Group (2502940 rows): x = 'c'\n",
       "\n",
       "\\begin{tabular}{r|cc}\n",
       "\t& x & y\\\\\n",
       "\t\\hline\n",
       "\t& Char & Int64\\\\\n",
       "\t\\hline\n",
       "\t1 & c & 1 \\\\\n",
       "\t2 & c & 1 \\\\\n",
       "\t3 & c & 1 \\\\\n",
       "\t4 & c & 1 \\\\\n",
       "\t5 & c & 1 \\\\\n",
       "\t6 & c & 1 \\\\\n",
       "\t7 & c & 1 \\\\\n",
       "\t8 & c & 1 \\\\\n",
       "\t9 & c & 1 \\\\\n",
       "\t10 & c & 1 \\\\\n",
       "\t11 & c & 1 \\\\\n",
       "\t12 & c & 1 \\\\\n",
       "\t13 & c & 1 \\\\\n",
       "\t14 & c & 1 \\\\\n",
       "\t15 & c & 1 \\\\\n",
       "\t16 & c & 1 \\\\\n",
       "\t17 & c & 1 \\\\\n",
       "\t18 & c & 1 \\\\\n",
       "\t19 & c & 1 \\\\\n",
       "\t20 & c & 1 \\\\\n",
       "\t21 & c & 1 \\\\\n",
       "\t22 & c & 1 \\\\\n",
       "\t23 & c & 1 \\\\\n",
       "\t24 & c & 1 \\\\\n",
       "\t25 & c & 1 \\\\\n",
       "\t26 & c & 1 \\\\\n",
       "\t27 & c & 1 \\\\\n",
       "\t28 & c & 1 \\\\\n",
       "\t29 & c & 1 \\\\\n",
       "\t30 & c & 1 \\\\\n",
       "\t$\\dots$ & $\\dots$ & $\\dots$ \\\\\n",
       "\\end{tabular}\n"
      ],
      "text/plain": [
       "GroupedDataFrame with 4 groups based on key: x\n",
       "First Group (2499188 rows): x = 'd'\n",
       "\u001b[1m     Row \u001b[0m│\u001b[1m x    \u001b[0m\u001b[1m y     \u001b[0m\n",
       "\u001b[1m         \u001b[0m│\u001b[90m Char \u001b[0m\u001b[90m Int64 \u001b[0m\n",
       "─────────┼─────────────\n",
       "       1 │ d         1\n",
       "       2 │ d         1\n",
       "       3 │ d         1\n",
       "       4 │ d         1\n",
       "       5 │ d         1\n",
       "       6 │ d         1\n",
       "       7 │ d         1\n",
       "       8 │ d         1\n",
       "       9 │ d         1\n",
       "      10 │ d         1\n",
       "      11 │ d         1\n",
       "    ⋮    │  ⋮      ⋮\n",
       " 2499178 │ d         1\n",
       " 2499179 │ d         1\n",
       " 2499180 │ d         1\n",
       " 2499181 │ d         1\n",
       " 2499182 │ d         1\n",
       " 2499183 │ d         1\n",
       " 2499184 │ d         1\n",
       " 2499185 │ d         1\n",
       " 2499186 │ d         1\n",
       " 2499187 │ d         1\n",
       " 2499188 │ d         1\n",
       "\u001b[36m   2499166 rows omitted\u001b[0m\n",
       "⋮\n",
       "Last Group (2502940 rows): x = 'c'\n",
       "\u001b[1m     Row \u001b[0m│\u001b[1m x    \u001b[0m\u001b[1m y     \u001b[0m\n",
       "\u001b[1m         \u001b[0m│\u001b[90m Char \u001b[0m\u001b[90m Int64 \u001b[0m\n",
       "─────────┼─────────────\n",
       "       1 │ c         1\n",
       "       2 │ c         1\n",
       "       3 │ c         1\n",
       "       4 │ c         1\n",
       "       5 │ c         1\n",
       "       6 │ c         1\n",
       "       7 │ c         1\n",
       "       8 │ c         1\n",
       "       9 │ c         1\n",
       "      10 │ c         1\n",
       "      11 │ c         1\n",
       "    ⋮    │  ⋮      ⋮\n",
       " 2502930 │ c         1\n",
       " 2502931 │ c         1\n",
       " 2502932 │ c         1\n",
       " 2502933 │ c         1\n",
       " 2502934 │ c         1\n",
       " 2502935 │ c         1\n",
       " 2502936 │ c         1\n",
       " 2502937 │ c         1\n",
       " 2502938 │ c         1\n",
       " 2502939 │ c         1\n",
       " 2502940 │ c         1\n",
       "\u001b[36m   2502918 rows omitted\u001b[0m"
      ]
     },
     "execution_count": 13,
     "metadata": {},
     "output_type": "execute_result"
    }
   ],
   "source": [
    "gdf = groupby(df, :x)"
   ]
  },
  {
   "cell_type": "code",
   "execution_count": 14,
   "metadata": {},
   "outputs": [
    {
     "name": "stdout",
     "output_type": "stream",
     "text": [
      "  56.403 ms (342 allocations: 19.09 MiB)\n"
     ]
    },
    {
     "data": {
      "text/html": [
       "<div class=\"data-frame\"><p>4 rows × 2 columns</p><table class=\"data-frame\"><thead><tr><th></th><th>x</th><th>x1</th></tr><tr><th></th><th title=\"Char\">Char</th><th title=\"Int64\">Int64</th></tr></thead><tbody><tr><th>1</th><td>d</td><td>2499188</td></tr><tr><th>2</th><td>a</td><td>2499372</td></tr><tr><th>3</th><td>b</td><td>2498500</td></tr><tr><th>4</th><td>c</td><td>2502940</td></tr></tbody></table></div>"
      ],
      "text/latex": [
       "\\begin{tabular}{r|cc}\n",
       "\t& x & x1\\\\\n",
       "\t\\hline\n",
       "\t& Char & Int64\\\\\n",
       "\t\\hline\n",
       "\t1 & d & 2499188 \\\\\n",
       "\t2 & a & 2499372 \\\\\n",
       "\t3 & b & 2498500 \\\\\n",
       "\t4 & c & 2502940 \\\\\n",
       "\\end{tabular}\n"
      ],
      "text/plain": [
       "\u001b[1m4×2 DataFrame\u001b[0m\n",
       "\u001b[1m Row \u001b[0m│\u001b[1m x    \u001b[0m\u001b[1m x1      \u001b[0m\n",
       "\u001b[1m     \u001b[0m│\u001b[90m Char \u001b[0m\u001b[90m Int64   \u001b[0m\n",
       "─────┼───────────────\n",
       "   1 │ d     2499188\n",
       "   2 │ a     2499372\n",
       "   3 │ b     2498500\n",
       "   4 │ c     2502940"
      ]
     },
     "execution_count": 14,
     "metadata": {},
     "output_type": "execute_result"
    }
   ],
   "source": [
    "@btime combine(v -> sum(v.y), $gdf) # traditional syntax, slow"
   ]
  },
  {
   "cell_type": "code",
   "execution_count": 15,
   "metadata": {
    "scrolled": true
   },
   "outputs": [
    {
     "name": "stdout",
     "output_type": "stream",
     "text": [
      "  10.352 ms (231 allocations: 15.03 KiB)\n"
     ]
    },
    {
     "data": {
      "text/html": [
       "<div class=\"data-frame\"><p>4 rows × 2 columns</p><table class=\"data-frame\"><thead><tr><th></th><th>x</th><th>y_sum</th></tr><tr><th></th><th title=\"Char\">Char</th><th title=\"Int64\">Int64</th></tr></thead><tbody><tr><th>1</th><td>d</td><td>2499188</td></tr><tr><th>2</th><td>a</td><td>2499372</td></tr><tr><th>3</th><td>b</td><td>2498500</td></tr><tr><th>4</th><td>c</td><td>2502940</td></tr></tbody></table></div>"
      ],
      "text/latex": [
       "\\begin{tabular}{r|cc}\n",
       "\t& x & y\\_sum\\\\\n",
       "\t\\hline\n",
       "\t& Char & Int64\\\\\n",
       "\t\\hline\n",
       "\t1 & d & 2499188 \\\\\n",
       "\t2 & a & 2499372 \\\\\n",
       "\t3 & b & 2498500 \\\\\n",
       "\t4 & c & 2502940 \\\\\n",
       "\\end{tabular}\n"
      ],
      "text/plain": [
       "\u001b[1m4×2 DataFrame\u001b[0m\n",
       "\u001b[1m Row \u001b[0m│\u001b[1m x    \u001b[0m\u001b[1m y_sum   \u001b[0m\n",
       "\u001b[1m     \u001b[0m│\u001b[90m Char \u001b[0m\u001b[90m Int64   \u001b[0m\n",
       "─────┼───────────────\n",
       "   1 │ d     2499188\n",
       "   2 │ a     2499372\n",
       "   3 │ b     2498500\n",
       "   4 │ c     2502940"
      ]
     },
     "execution_count": 15,
     "metadata": {},
     "output_type": "execute_result"
    }
   ],
   "source": [
    "@btime combine($gdf, :y=>sum) # use column selector"
   ]
  },
  {
   "cell_type": "code",
   "execution_count": 16,
   "metadata": {},
   "outputs": [],
   "source": [
    "transform!(df, :x => categorical => :x);"
   ]
  },
  {
   "cell_type": "code",
   "execution_count": 17,
   "metadata": {},
   "outputs": [
    {
     "data": {
      "text/html": [
       "<p><b>GroupedDataFrame with 4 groups based on key: x</b></p><p><i>First Group (2499372 rows): x = CategoricalValue{Char, UInt32} &apos;a&apos;</i></p><div class=\"data-frame\"><table class=\"data-frame\"><thead><tr><th></th><th>x</th><th>y</th></tr><tr><th></th><th title=\"CategoricalValue{Char, UInt32}\">Cat…</th><th title=\"Int64\">Int64</th></tr></thead><tbody><tr><th>1</th><td>a</td><td>1</td></tr><tr><th>2</th><td>a</td><td>1</td></tr><tr><th>3</th><td>a</td><td>1</td></tr><tr><th>4</th><td>a</td><td>1</td></tr><tr><th>5</th><td>a</td><td>1</td></tr><tr><th>6</th><td>a</td><td>1</td></tr><tr><th>7</th><td>a</td><td>1</td></tr><tr><th>8</th><td>a</td><td>1</td></tr><tr><th>9</th><td>a</td><td>1</td></tr><tr><th>10</th><td>a</td><td>1</td></tr><tr><th>11</th><td>a</td><td>1</td></tr><tr><th>12</th><td>a</td><td>1</td></tr><tr><th>13</th><td>a</td><td>1</td></tr><tr><th>14</th><td>a</td><td>1</td></tr><tr><th>15</th><td>a</td><td>1</td></tr><tr><th>16</th><td>a</td><td>1</td></tr><tr><th>17</th><td>a</td><td>1</td></tr><tr><th>18</th><td>a</td><td>1</td></tr><tr><th>19</th><td>a</td><td>1</td></tr><tr><th>20</th><td>a</td><td>1</td></tr><tr><th>21</th><td>a</td><td>1</td></tr><tr><th>22</th><td>a</td><td>1</td></tr><tr><th>23</th><td>a</td><td>1</td></tr><tr><th>24</th><td>a</td><td>1</td></tr><tr><th>25</th><td>a</td><td>1</td></tr><tr><th>26</th><td>a</td><td>1</td></tr><tr><th>27</th><td>a</td><td>1</td></tr><tr><th>28</th><td>a</td><td>1</td></tr><tr><th>29</th><td>a</td><td>1</td></tr><tr><th>30</th><td>a</td><td>1</td></tr><tr><th>&vellip;</th><td>&vellip;</td><td>&vellip;</td></tr></tbody></table></div><p>&vellip;</p><p><i>Last Group (2499188 rows): x = CategoricalValue{Char, UInt32} &apos;d&apos;</i></p><div class=\"data-frame\"><table class=\"data-frame\"><thead><tr><th></th><th>x</th><th>y</th></tr><tr><th></th><th title=\"CategoricalValue{Char, UInt32}\">Cat…</th><th title=\"Int64\">Int64</th></tr></thead><tbody><tr><th>1</th><td>d</td><td>1</td></tr><tr><th>2</th><td>d</td><td>1</td></tr><tr><th>3</th><td>d</td><td>1</td></tr><tr><th>4</th><td>d</td><td>1</td></tr><tr><th>5</th><td>d</td><td>1</td></tr><tr><th>6</th><td>d</td><td>1</td></tr><tr><th>7</th><td>d</td><td>1</td></tr><tr><th>8</th><td>d</td><td>1</td></tr><tr><th>9</th><td>d</td><td>1</td></tr><tr><th>10</th><td>d</td><td>1</td></tr><tr><th>11</th><td>d</td><td>1</td></tr><tr><th>12</th><td>d</td><td>1</td></tr><tr><th>13</th><td>d</td><td>1</td></tr><tr><th>14</th><td>d</td><td>1</td></tr><tr><th>15</th><td>d</td><td>1</td></tr><tr><th>16</th><td>d</td><td>1</td></tr><tr><th>17</th><td>d</td><td>1</td></tr><tr><th>18</th><td>d</td><td>1</td></tr><tr><th>19</th><td>d</td><td>1</td></tr><tr><th>20</th><td>d</td><td>1</td></tr><tr><th>21</th><td>d</td><td>1</td></tr><tr><th>22</th><td>d</td><td>1</td></tr><tr><th>23</th><td>d</td><td>1</td></tr><tr><th>24</th><td>d</td><td>1</td></tr><tr><th>25</th><td>d</td><td>1</td></tr><tr><th>26</th><td>d</td><td>1</td></tr><tr><th>27</th><td>d</td><td>1</td></tr><tr><th>28</th><td>d</td><td>1</td></tr><tr><th>29</th><td>d</td><td>1</td></tr><tr><th>30</th><td>d</td><td>1</td></tr><tr><th>&vellip;</th><td>&vellip;</td><td>&vellip;</td></tr></tbody></table></div>"
      ],
      "text/latex": [
       "GroupedDataFrame with 4 groups based on key: x\n",
       "\n",
       "First Group (2499372 rows): x = CategoricalValue\\{Char, UInt32\\} 'a'\n",
       "\n",
       "\\begin{tabular}{r|cc}\n",
       "\t& x & y\\\\\n",
       "\t\\hline\n",
       "\t& Cat… & Int64\\\\\n",
       "\t\\hline\n",
       "\t1 & a & 1 \\\\\n",
       "\t2 & a & 1 \\\\\n",
       "\t3 & a & 1 \\\\\n",
       "\t4 & a & 1 \\\\\n",
       "\t5 & a & 1 \\\\\n",
       "\t6 & a & 1 \\\\\n",
       "\t7 & a & 1 \\\\\n",
       "\t8 & a & 1 \\\\\n",
       "\t9 & a & 1 \\\\\n",
       "\t10 & a & 1 \\\\\n",
       "\t11 & a & 1 \\\\\n",
       "\t12 & a & 1 \\\\\n",
       "\t13 & a & 1 \\\\\n",
       "\t14 & a & 1 \\\\\n",
       "\t15 & a & 1 \\\\\n",
       "\t16 & a & 1 \\\\\n",
       "\t17 & a & 1 \\\\\n",
       "\t18 & a & 1 \\\\\n",
       "\t19 & a & 1 \\\\\n",
       "\t20 & a & 1 \\\\\n",
       "\t21 & a & 1 \\\\\n",
       "\t22 & a & 1 \\\\\n",
       "\t23 & a & 1 \\\\\n",
       "\t24 & a & 1 \\\\\n",
       "\t25 & a & 1 \\\\\n",
       "\t26 & a & 1 \\\\\n",
       "\t27 & a & 1 \\\\\n",
       "\t28 & a & 1 \\\\\n",
       "\t29 & a & 1 \\\\\n",
       "\t30 & a & 1 \\\\\n",
       "\t$\\dots$ & $\\dots$ & $\\dots$ \\\\\n",
       "\\end{tabular}\n",
       "\n",
       "$\\dots$\n",
       "\n",
       "Last Group (2499188 rows): x = CategoricalValue\\{Char, UInt32\\} 'd'\n",
       "\n",
       "\\begin{tabular}{r|cc}\n",
       "\t& x & y\\\\\n",
       "\t\\hline\n",
       "\t& Cat… & Int64\\\\\n",
       "\t\\hline\n",
       "\t1 & d & 1 \\\\\n",
       "\t2 & d & 1 \\\\\n",
       "\t3 & d & 1 \\\\\n",
       "\t4 & d & 1 \\\\\n",
       "\t5 & d & 1 \\\\\n",
       "\t6 & d & 1 \\\\\n",
       "\t7 & d & 1 \\\\\n",
       "\t8 & d & 1 \\\\\n",
       "\t9 & d & 1 \\\\\n",
       "\t10 & d & 1 \\\\\n",
       "\t11 & d & 1 \\\\\n",
       "\t12 & d & 1 \\\\\n",
       "\t13 & d & 1 \\\\\n",
       "\t14 & d & 1 \\\\\n",
       "\t15 & d & 1 \\\\\n",
       "\t16 & d & 1 \\\\\n",
       "\t17 & d & 1 \\\\\n",
       "\t18 & d & 1 \\\\\n",
       "\t19 & d & 1 \\\\\n",
       "\t20 & d & 1 \\\\\n",
       "\t21 & d & 1 \\\\\n",
       "\t22 & d & 1 \\\\\n",
       "\t23 & d & 1 \\\\\n",
       "\t24 & d & 1 \\\\\n",
       "\t25 & d & 1 \\\\\n",
       "\t26 & d & 1 \\\\\n",
       "\t27 & d & 1 \\\\\n",
       "\t28 & d & 1 \\\\\n",
       "\t29 & d & 1 \\\\\n",
       "\t30 & d & 1 \\\\\n",
       "\t$\\dots$ & $\\dots$ & $\\dots$ \\\\\n",
       "\\end{tabular}\n"
      ],
      "text/plain": [
       "GroupedDataFrame with 4 groups based on key: x\n",
       "First Group (2499372 rows): x = CategoricalValue{Char, UInt32} 'a'\n",
       "\u001b[1m     Row \u001b[0m│\u001b[1m x    \u001b[0m\u001b[1m y     \u001b[0m\n",
       "\u001b[1m         \u001b[0m│\u001b[90m Cat… \u001b[0m\u001b[90m Int64 \u001b[0m\n",
       "─────────┼─────────────\n",
       "       1 │ a         1\n",
       "       2 │ a         1\n",
       "       3 │ a         1\n",
       "       4 │ a         1\n",
       "       5 │ a         1\n",
       "       6 │ a         1\n",
       "       7 │ a         1\n",
       "       8 │ a         1\n",
       "       9 │ a         1\n",
       "      10 │ a         1\n",
       "      11 │ a         1\n",
       "    ⋮    │  ⋮      ⋮\n",
       " 2499362 │ a         1\n",
       " 2499363 │ a         1\n",
       " 2499364 │ a         1\n",
       " 2499365 │ a         1\n",
       " 2499366 │ a         1\n",
       " 2499367 │ a         1\n",
       " 2499368 │ a         1\n",
       " 2499369 │ a         1\n",
       " 2499370 │ a         1\n",
       " 2499371 │ a         1\n",
       " 2499372 │ a         1\n",
       "\u001b[36m   2499350 rows omitted\u001b[0m\n",
       "⋮\n",
       "Last Group (2499188 rows): x = CategoricalValue{Char, UInt32} 'd'\n",
       "\u001b[1m     Row \u001b[0m│\u001b[1m x    \u001b[0m\u001b[1m y     \u001b[0m\n",
       "\u001b[1m         \u001b[0m│\u001b[90m Cat… \u001b[0m\u001b[90m Int64 \u001b[0m\n",
       "─────────┼─────────────\n",
       "       1 │ d         1\n",
       "       2 │ d         1\n",
       "       3 │ d         1\n",
       "       4 │ d         1\n",
       "       5 │ d         1\n",
       "       6 │ d         1\n",
       "       7 │ d         1\n",
       "       8 │ d         1\n",
       "       9 │ d         1\n",
       "      10 │ d         1\n",
       "      11 │ d         1\n",
       "    ⋮    │  ⋮      ⋮\n",
       " 2499178 │ d         1\n",
       " 2499179 │ d         1\n",
       " 2499180 │ d         1\n",
       " 2499181 │ d         1\n",
       " 2499182 │ d         1\n",
       " 2499183 │ d         1\n",
       " 2499184 │ d         1\n",
       " 2499185 │ d         1\n",
       " 2499186 │ d         1\n",
       " 2499187 │ d         1\n",
       " 2499188 │ d         1\n",
       "\u001b[36m   2499166 rows omitted\u001b[0m"
      ]
     },
     "execution_count": 17,
     "metadata": {},
     "output_type": "execute_result"
    }
   ],
   "source": [
    "gdf = groupby(df, :x)"
   ]
  },
  {
   "cell_type": "code",
   "execution_count": 18,
   "metadata": {
    "scrolled": true
   },
   "outputs": [
    {
     "name": "stdout",
     "output_type": "stream",
     "text": [
      "  11.954 ms (238 allocations: 15.69 KiB)\n"
     ]
    },
    {
     "data": {
      "text/html": [
       "<div class=\"data-frame\"><p>4 rows × 2 columns</p><table class=\"data-frame\"><thead><tr><th></th><th>x</th><th>y_sum</th></tr><tr><th></th><th title=\"CategoricalValue{Char, UInt32}\">Cat…</th><th title=\"Int64\">Int64</th></tr></thead><tbody><tr><th>1</th><td>a</td><td>2499372</td></tr><tr><th>2</th><td>b</td><td>2498500</td></tr><tr><th>3</th><td>c</td><td>2502940</td></tr><tr><th>4</th><td>d</td><td>2499188</td></tr></tbody></table></div>"
      ],
      "text/latex": [
       "\\begin{tabular}{r|cc}\n",
       "\t& x & y\\_sum\\\\\n",
       "\t\\hline\n",
       "\t& Cat… & Int64\\\\\n",
       "\t\\hline\n",
       "\t1 & a & 2499372 \\\\\n",
       "\t2 & b & 2498500 \\\\\n",
       "\t3 & c & 2502940 \\\\\n",
       "\t4 & d & 2499188 \\\\\n",
       "\\end{tabular}\n"
      ],
      "text/plain": [
       "\u001b[1m4×2 DataFrame\u001b[0m\n",
       "\u001b[1m Row \u001b[0m│\u001b[1m x    \u001b[0m\u001b[1m y_sum   \u001b[0m\n",
       "\u001b[1m     \u001b[0m│\u001b[90m Cat… \u001b[0m\u001b[90m Int64   \u001b[0m\n",
       "─────┼───────────────\n",
       "   1 │ a     2499372\n",
       "   2 │ b     2498500\n",
       "   3 │ c     2502940\n",
       "   4 │ d     2499188"
      ]
     },
     "execution_count": 18,
     "metadata": {},
     "output_type": "execute_result"
    }
   ],
   "source": [
    "@btime combine($gdf, :y=>sum)"
   ]
  },
  {
   "cell_type": "code",
   "execution_count": 19,
   "metadata": {},
   "outputs": [
    {
     "data": {
      "text/html": [
       "<div class=\"data-frame\"><p>10,000,000 rows × 2 columns</p><table class=\"data-frame\"><thead><tr><th></th><th>x</th><th>y</th></tr><tr><th></th><th title=\"Char\">Char</th><th title=\"Int64\">Int64</th></tr></thead><tbody><tr><th>1</th><td>d</td><td>1</td></tr><tr><th>2</th><td>d</td><td>1</td></tr><tr><th>3</th><td>a</td><td>1</td></tr><tr><th>4</th><td>a</td><td>1</td></tr><tr><th>5</th><td>a</td><td>1</td></tr><tr><th>6</th><td>d</td><td>1</td></tr><tr><th>7</th><td>a</td><td>1</td></tr><tr><th>8</th><td>a</td><td>1</td></tr><tr><th>9</th><td>d</td><td>1</td></tr><tr><th>10</th><td>b</td><td>1</td></tr><tr><th>11</th><td>d</td><td>1</td></tr><tr><th>12</th><td>d</td><td>1</td></tr><tr><th>13</th><td>a</td><td>1</td></tr><tr><th>14</th><td>b</td><td>1</td></tr><tr><th>15</th><td>a</td><td>1</td></tr><tr><th>16</th><td>d</td><td>1</td></tr><tr><th>17</th><td>a</td><td>1</td></tr><tr><th>18</th><td>a</td><td>1</td></tr><tr><th>19</th><td>d</td><td>1</td></tr><tr><th>20</th><td>a</td><td>1</td></tr><tr><th>21</th><td>d</td><td>1</td></tr><tr><th>22</th><td>c</td><td>1</td></tr><tr><th>23</th><td>d</td><td>1</td></tr><tr><th>24</th><td>b</td><td>1</td></tr><tr><th>25</th><td>c</td><td>1</td></tr><tr><th>26</th><td>b</td><td>1</td></tr><tr><th>27</th><td>a</td><td>1</td></tr><tr><th>28</th><td>a</td><td>1</td></tr><tr><th>29</th><td>a</td><td>1</td></tr><tr><th>30</th><td>b</td><td>1</td></tr><tr><th>&vellip;</th><td>&vellip;</td><td>&vellip;</td></tr></tbody></table></div>"
      ],
      "text/latex": [
       "\\begin{tabular}{r|cc}\n",
       "\t& x & y\\\\\n",
       "\t\\hline\n",
       "\t& Char & Int64\\\\\n",
       "\t\\hline\n",
       "\t1 & d & 1 \\\\\n",
       "\t2 & d & 1 \\\\\n",
       "\t3 & a & 1 \\\\\n",
       "\t4 & a & 1 \\\\\n",
       "\t5 & a & 1 \\\\\n",
       "\t6 & d & 1 \\\\\n",
       "\t7 & a & 1 \\\\\n",
       "\t8 & a & 1 \\\\\n",
       "\t9 & d & 1 \\\\\n",
       "\t10 & b & 1 \\\\\n",
       "\t11 & d & 1 \\\\\n",
       "\t12 & d & 1 \\\\\n",
       "\t13 & a & 1 \\\\\n",
       "\t14 & b & 1 \\\\\n",
       "\t15 & a & 1 \\\\\n",
       "\t16 & d & 1 \\\\\n",
       "\t17 & a & 1 \\\\\n",
       "\t18 & a & 1 \\\\\n",
       "\t19 & d & 1 \\\\\n",
       "\t20 & a & 1 \\\\\n",
       "\t21 & d & 1 \\\\\n",
       "\t22 & c & 1 \\\\\n",
       "\t23 & d & 1 \\\\\n",
       "\t24 & b & 1 \\\\\n",
       "\t25 & c & 1 \\\\\n",
       "\t26 & b & 1 \\\\\n",
       "\t27 & a & 1 \\\\\n",
       "\t28 & a & 1 \\\\\n",
       "\t29 & a & 1 \\\\\n",
       "\t30 & b & 1 \\\\\n",
       "\t$\\dots$ & $\\dots$ & $\\dots$ \\\\\n",
       "\\end{tabular}\n"
      ],
      "text/plain": [
       "\u001b[1m10000000×2 DataFrame\u001b[0m\n",
       "\u001b[1m      Row \u001b[0m│\u001b[1m x    \u001b[0m\u001b[1m y     \u001b[0m\n",
       "\u001b[1m          \u001b[0m│\u001b[90m Char \u001b[0m\u001b[90m Int64 \u001b[0m\n",
       "──────────┼─────────────\n",
       "        1 │ d         1\n",
       "        2 │ d         1\n",
       "        3 │ a         1\n",
       "        4 │ a         1\n",
       "        5 │ a         1\n",
       "        6 │ d         1\n",
       "        7 │ a         1\n",
       "        8 │ a         1\n",
       "        9 │ d         1\n",
       "       10 │ b         1\n",
       "       11 │ d         1\n",
       "    ⋮     │  ⋮      ⋮\n",
       "  9999991 │ d         1\n",
       "  9999992 │ b         1\n",
       "  9999993 │ d         1\n",
       "  9999994 │ d         1\n",
       "  9999995 │ d         1\n",
       "  9999996 │ c         1\n",
       "  9999997 │ d         1\n",
       "  9999998 │ c         1\n",
       "  9999999 │ d         1\n",
       " 10000000 │ b         1\n",
       "\u001b[36m    9999979 rows omitted\u001b[0m"
      ]
     },
     "execution_count": 19,
     "metadata": {},
     "output_type": "execute_result"
    }
   ],
   "source": [
    "transform!(df, :x => PooledArray{Char} => :x)"
   ]
  },
  {
   "cell_type": "code",
   "execution_count": 20,
   "metadata": {},
   "outputs": [
    {
     "data": {
      "text/html": [
       "<p><b>GroupedDataFrame with 4 groups based on key: x</b></p><p><i>First Group (2499188 rows): x = &apos;d&apos;</i></p><div class=\"data-frame\"><table class=\"data-frame\"><thead><tr><th></th><th>x</th><th>y</th></tr><tr><th></th><th title=\"Char\">Char</th><th title=\"Int64\">Int64</th></tr></thead><tbody><tr><th>1</th><td>d</td><td>1</td></tr><tr><th>2</th><td>d</td><td>1</td></tr><tr><th>3</th><td>d</td><td>1</td></tr><tr><th>4</th><td>d</td><td>1</td></tr><tr><th>5</th><td>d</td><td>1</td></tr><tr><th>6</th><td>d</td><td>1</td></tr><tr><th>7</th><td>d</td><td>1</td></tr><tr><th>8</th><td>d</td><td>1</td></tr><tr><th>9</th><td>d</td><td>1</td></tr><tr><th>10</th><td>d</td><td>1</td></tr><tr><th>11</th><td>d</td><td>1</td></tr><tr><th>12</th><td>d</td><td>1</td></tr><tr><th>13</th><td>d</td><td>1</td></tr><tr><th>14</th><td>d</td><td>1</td></tr><tr><th>15</th><td>d</td><td>1</td></tr><tr><th>16</th><td>d</td><td>1</td></tr><tr><th>17</th><td>d</td><td>1</td></tr><tr><th>18</th><td>d</td><td>1</td></tr><tr><th>19</th><td>d</td><td>1</td></tr><tr><th>20</th><td>d</td><td>1</td></tr><tr><th>21</th><td>d</td><td>1</td></tr><tr><th>22</th><td>d</td><td>1</td></tr><tr><th>23</th><td>d</td><td>1</td></tr><tr><th>24</th><td>d</td><td>1</td></tr><tr><th>25</th><td>d</td><td>1</td></tr><tr><th>26</th><td>d</td><td>1</td></tr><tr><th>27</th><td>d</td><td>1</td></tr><tr><th>28</th><td>d</td><td>1</td></tr><tr><th>29</th><td>d</td><td>1</td></tr><tr><th>30</th><td>d</td><td>1</td></tr><tr><th>&vellip;</th><td>&vellip;</td><td>&vellip;</td></tr></tbody></table></div><p>&vellip;</p><p><i>Last Group (2502940 rows): x = &apos;c&apos;</i></p><div class=\"data-frame\"><table class=\"data-frame\"><thead><tr><th></th><th>x</th><th>y</th></tr><tr><th></th><th title=\"Char\">Char</th><th title=\"Int64\">Int64</th></tr></thead><tbody><tr><th>1</th><td>c</td><td>1</td></tr><tr><th>2</th><td>c</td><td>1</td></tr><tr><th>3</th><td>c</td><td>1</td></tr><tr><th>4</th><td>c</td><td>1</td></tr><tr><th>5</th><td>c</td><td>1</td></tr><tr><th>6</th><td>c</td><td>1</td></tr><tr><th>7</th><td>c</td><td>1</td></tr><tr><th>8</th><td>c</td><td>1</td></tr><tr><th>9</th><td>c</td><td>1</td></tr><tr><th>10</th><td>c</td><td>1</td></tr><tr><th>11</th><td>c</td><td>1</td></tr><tr><th>12</th><td>c</td><td>1</td></tr><tr><th>13</th><td>c</td><td>1</td></tr><tr><th>14</th><td>c</td><td>1</td></tr><tr><th>15</th><td>c</td><td>1</td></tr><tr><th>16</th><td>c</td><td>1</td></tr><tr><th>17</th><td>c</td><td>1</td></tr><tr><th>18</th><td>c</td><td>1</td></tr><tr><th>19</th><td>c</td><td>1</td></tr><tr><th>20</th><td>c</td><td>1</td></tr><tr><th>21</th><td>c</td><td>1</td></tr><tr><th>22</th><td>c</td><td>1</td></tr><tr><th>23</th><td>c</td><td>1</td></tr><tr><th>24</th><td>c</td><td>1</td></tr><tr><th>25</th><td>c</td><td>1</td></tr><tr><th>26</th><td>c</td><td>1</td></tr><tr><th>27</th><td>c</td><td>1</td></tr><tr><th>28</th><td>c</td><td>1</td></tr><tr><th>29</th><td>c</td><td>1</td></tr><tr><th>30</th><td>c</td><td>1</td></tr><tr><th>&vellip;</th><td>&vellip;</td><td>&vellip;</td></tr></tbody></table></div>"
      ],
      "text/latex": [
       "GroupedDataFrame with 4 groups based on key: x\n",
       "\n",
       "First Group (2499188 rows): x = 'd'\n",
       "\n",
       "\\begin{tabular}{r|cc}\n",
       "\t& x & y\\\\\n",
       "\t\\hline\n",
       "\t& Char & Int64\\\\\n",
       "\t\\hline\n",
       "\t1 & d & 1 \\\\\n",
       "\t2 & d & 1 \\\\\n",
       "\t3 & d & 1 \\\\\n",
       "\t4 & d & 1 \\\\\n",
       "\t5 & d & 1 \\\\\n",
       "\t6 & d & 1 \\\\\n",
       "\t7 & d & 1 \\\\\n",
       "\t8 & d & 1 \\\\\n",
       "\t9 & d & 1 \\\\\n",
       "\t10 & d & 1 \\\\\n",
       "\t11 & d & 1 \\\\\n",
       "\t12 & d & 1 \\\\\n",
       "\t13 & d & 1 \\\\\n",
       "\t14 & d & 1 \\\\\n",
       "\t15 & d & 1 \\\\\n",
       "\t16 & d & 1 \\\\\n",
       "\t17 & d & 1 \\\\\n",
       "\t18 & d & 1 \\\\\n",
       "\t19 & d & 1 \\\\\n",
       "\t20 & d & 1 \\\\\n",
       "\t21 & d & 1 \\\\\n",
       "\t22 & d & 1 \\\\\n",
       "\t23 & d & 1 \\\\\n",
       "\t24 & d & 1 \\\\\n",
       "\t25 & d & 1 \\\\\n",
       "\t26 & d & 1 \\\\\n",
       "\t27 & d & 1 \\\\\n",
       "\t28 & d & 1 \\\\\n",
       "\t29 & d & 1 \\\\\n",
       "\t30 & d & 1 \\\\\n",
       "\t$\\dots$ & $\\dots$ & $\\dots$ \\\\\n",
       "\\end{tabular}\n",
       "\n",
       "$\\dots$\n",
       "\n",
       "Last Group (2502940 rows): x = 'c'\n",
       "\n",
       "\\begin{tabular}{r|cc}\n",
       "\t& x & y\\\\\n",
       "\t\\hline\n",
       "\t& Char & Int64\\\\\n",
       "\t\\hline\n",
       "\t1 & c & 1 \\\\\n",
       "\t2 & c & 1 \\\\\n",
       "\t3 & c & 1 \\\\\n",
       "\t4 & c & 1 \\\\\n",
       "\t5 & c & 1 \\\\\n",
       "\t6 & c & 1 \\\\\n",
       "\t7 & c & 1 \\\\\n",
       "\t8 & c & 1 \\\\\n",
       "\t9 & c & 1 \\\\\n",
       "\t10 & c & 1 \\\\\n",
       "\t11 & c & 1 \\\\\n",
       "\t12 & c & 1 \\\\\n",
       "\t13 & c & 1 \\\\\n",
       "\t14 & c & 1 \\\\\n",
       "\t15 & c & 1 \\\\\n",
       "\t16 & c & 1 \\\\\n",
       "\t17 & c & 1 \\\\\n",
       "\t18 & c & 1 \\\\\n",
       "\t19 & c & 1 \\\\\n",
       "\t20 & c & 1 \\\\\n",
       "\t21 & c & 1 \\\\\n",
       "\t22 & c & 1 \\\\\n",
       "\t23 & c & 1 \\\\\n",
       "\t24 & c & 1 \\\\\n",
       "\t25 & c & 1 \\\\\n",
       "\t26 & c & 1 \\\\\n",
       "\t27 & c & 1 \\\\\n",
       "\t28 & c & 1 \\\\\n",
       "\t29 & c & 1 \\\\\n",
       "\t30 & c & 1 \\\\\n",
       "\t$\\dots$ & $\\dots$ & $\\dots$ \\\\\n",
       "\\end{tabular}\n"
      ],
      "text/plain": [
       "GroupedDataFrame with 4 groups based on key: x\n",
       "First Group (2499188 rows): x = 'd'\n",
       "\u001b[1m     Row \u001b[0m│\u001b[1m x    \u001b[0m\u001b[1m y     \u001b[0m\n",
       "\u001b[1m         \u001b[0m│\u001b[90m Char \u001b[0m\u001b[90m Int64 \u001b[0m\n",
       "─────────┼─────────────\n",
       "       1 │ d         1\n",
       "       2 │ d         1\n",
       "       3 │ d         1\n",
       "       4 │ d         1\n",
       "       5 │ d         1\n",
       "       6 │ d         1\n",
       "       7 │ d         1\n",
       "       8 │ d         1\n",
       "       9 │ d         1\n",
       "      10 │ d         1\n",
       "      11 │ d         1\n",
       "    ⋮    │  ⋮      ⋮\n",
       " 2499178 │ d         1\n",
       " 2499179 │ d         1\n",
       " 2499180 │ d         1\n",
       " 2499181 │ d         1\n",
       " 2499182 │ d         1\n",
       " 2499183 │ d         1\n",
       " 2499184 │ d         1\n",
       " 2499185 │ d         1\n",
       " 2499186 │ d         1\n",
       " 2499187 │ d         1\n",
       " 2499188 │ d         1\n",
       "\u001b[36m   2499166 rows omitted\u001b[0m\n",
       "⋮\n",
       "Last Group (2502940 rows): x = 'c'\n",
       "\u001b[1m     Row \u001b[0m│\u001b[1m x    \u001b[0m\u001b[1m y     \u001b[0m\n",
       "\u001b[1m         \u001b[0m│\u001b[90m Char \u001b[0m\u001b[90m Int64 \u001b[0m\n",
       "─────────┼─────────────\n",
       "       1 │ c         1\n",
       "       2 │ c         1\n",
       "       3 │ c         1\n",
       "       4 │ c         1\n",
       "       5 │ c         1\n",
       "       6 │ c         1\n",
       "       7 │ c         1\n",
       "       8 │ c         1\n",
       "       9 │ c         1\n",
       "      10 │ c         1\n",
       "      11 │ c         1\n",
       "    ⋮    │  ⋮      ⋮\n",
       " 2502930 │ c         1\n",
       " 2502931 │ c         1\n",
       " 2502932 │ c         1\n",
       " 2502933 │ c         1\n",
       " 2502934 │ c         1\n",
       " 2502935 │ c         1\n",
       " 2502936 │ c         1\n",
       " 2502937 │ c         1\n",
       " 2502938 │ c         1\n",
       " 2502939 │ c         1\n",
       " 2502940 │ c         1\n",
       "\u001b[36m   2502918 rows omitted\u001b[0m"
      ]
     },
     "execution_count": 20,
     "metadata": {},
     "output_type": "execute_result"
    }
   ],
   "source": [
    "gdf = groupby(df, :x)"
   ]
  },
  {
   "cell_type": "code",
   "execution_count": 21,
   "metadata": {
    "scrolled": true
   },
   "outputs": [
    {
     "name": "stdout",
     "output_type": "stream",
     "text": [
      "  10.550 ms (233 allocations: 15.09 KiB)\n"
     ]
    },
    {
     "data": {
      "text/html": [
       "<div class=\"data-frame\"><p>4 rows × 2 columns</p><table class=\"data-frame\"><thead><tr><th></th><th>x</th><th>y_sum</th></tr><tr><th></th><th title=\"Char\">Char</th><th title=\"Int64\">Int64</th></tr></thead><tbody><tr><th>1</th><td>d</td><td>2499188</td></tr><tr><th>2</th><td>a</td><td>2499372</td></tr><tr><th>3</th><td>b</td><td>2498500</td></tr><tr><th>4</th><td>c</td><td>2502940</td></tr></tbody></table></div>"
      ],
      "text/latex": [
       "\\begin{tabular}{r|cc}\n",
       "\t& x & y\\_sum\\\\\n",
       "\t\\hline\n",
       "\t& Char & Int64\\\\\n",
       "\t\\hline\n",
       "\t1 & d & 2499188 \\\\\n",
       "\t2 & a & 2499372 \\\\\n",
       "\t3 & b & 2498500 \\\\\n",
       "\t4 & c & 2502940 \\\\\n",
       "\\end{tabular}\n"
      ],
      "text/plain": [
       "\u001b[1m4×2 DataFrame\u001b[0m\n",
       "\u001b[1m Row \u001b[0m│\u001b[1m x    \u001b[0m\u001b[1m y_sum   \u001b[0m\n",
       "\u001b[1m     \u001b[0m│\u001b[90m Char \u001b[0m\u001b[90m Int64   \u001b[0m\n",
       "─────┼───────────────\n",
       "   1 │ d     2499188\n",
       "   2 │ a     2499372\n",
       "   3 │ b     2498500\n",
       "   4 │ c     2502940"
      ]
     },
     "execution_count": 21,
     "metadata": {},
     "output_type": "execute_result"
    }
   ],
   "source": [
    "@btime combine($gdf, :y=>sum)"
   ]
  },
  {
   "cell_type": "markdown",
   "metadata": {},
   "source": [
    "### Use views instead of materializing a new DataFrame"
   ]
  },
  {
   "cell_type": "code",
   "execution_count": 22,
   "metadata": {
    "scrolled": true
   },
   "outputs": [
    {
     "data": {
      "text/html": [
       "<div class=\"data-frame\"><p>100 rows × 1,000 columns (omitted printing of 992 columns)</p><table class=\"data-frame\"><thead><tr><th></th><th>x1</th><th>x2</th><th>x3</th><th>x4</th><th>x5</th><th>x6</th><th>x7</th><th>x8</th></tr><tr><th></th><th title=\"Float64\">Float64</th><th title=\"Float64\">Float64</th><th title=\"Float64\">Float64</th><th title=\"Float64\">Float64</th><th title=\"Float64\">Float64</th><th title=\"Float64\">Float64</th><th title=\"Float64\">Float64</th><th title=\"Float64\">Float64</th></tr></thead><tbody><tr><th>1</th><td>0.822841</td><td>0.627123</td><td>0.0787094</td><td>0.880556</td><td>0.315632</td><td>0.232786</td><td>0.577346</td><td>0.371028</td></tr><tr><th>2</th><td>0.402965</td><td>0.0229243</td><td>0.768259</td><td>0.03316</td><td>0.0257622</td><td>0.0568977</td><td>0.648605</td><td>0.8735</td></tr><tr><th>3</th><td>0.910438</td><td>0.440111</td><td>0.926592</td><td>0.982104</td><td>0.701911</td><td>0.809936</td><td>0.644246</td><td>0.35027</td></tr><tr><th>4</th><td>0.114476</td><td>0.88898</td><td>0.856592</td><td>0.955567</td><td>0.537406</td><td>0.614434</td><td>0.781799</td><td>0.399502</td></tr><tr><th>5</th><td>0.139316</td><td>0.436851</td><td>0.806506</td><td>0.222235</td><td>0.5632</td><td>0.221634</td><td>0.804874</td><td>0.253417</td></tr><tr><th>6</th><td>0.346014</td><td>0.00208929</td><td>0.305866</td><td>0.102841</td><td>0.649045</td><td>0.512559</td><td>0.793464</td><td>0.142623</td></tr><tr><th>7</th><td>0.279502</td><td>0.125278</td><td>0.46532</td><td>0.508624</td><td>0.770491</td><td>0.250046</td><td>0.964776</td><td>0.440098</td></tr><tr><th>8</th><td>0.125844</td><td>0.100991</td><td>0.537101</td><td>0.15584</td><td>0.155365</td><td>0.520906</td><td>0.74011</td><td>0.0436753</td></tr><tr><th>9</th><td>0.864695</td><td>0.783787</td><td>0.523708</td><td>0.733103</td><td>0.306951</td><td>0.867453</td><td>0.168743</td><td>0.904454</td></tr><tr><th>10</th><td>0.98536</td><td>0.994226</td><td>0.656058</td><td>0.403829</td><td>0.821321</td><td>0.275431</td><td>0.474932</td><td>0.0293327</td></tr><tr><th>11</th><td>0.469607</td><td>0.175446</td><td>0.54531</td><td>0.345367</td><td>0.929905</td><td>0.0771414</td><td>0.883376</td><td>0.34381</td></tr><tr><th>12</th><td>0.0429806</td><td>0.890865</td><td>0.21954</td><td>0.546222</td><td>0.716457</td><td>0.651615</td><td>0.155557</td><td>0.146957</td></tr><tr><th>13</th><td>0.419455</td><td>0.394454</td><td>0.642032</td><td>0.455324</td><td>0.469956</td><td>0.238641</td><td>0.629709</td><td>0.442596</td></tr><tr><th>14</th><td>0.635499</td><td>0.972549</td><td>0.0544711</td><td>0.619026</td><td>0.614042</td><td>0.15242</td><td>0.11865</td><td>0.71182</td></tr><tr><th>15</th><td>0.0690674</td><td>0.502333</td><td>0.956121</td><td>0.580618</td><td>0.770023</td><td>0.443249</td><td>0.0405437</td><td>0.24363</td></tr><tr><th>16</th><td>0.73765</td><td>0.292352</td><td>0.628538</td><td>0.849797</td><td>0.267386</td><td>0.863734</td><td>0.228531</td><td>0.588234</td></tr><tr><th>17</th><td>0.450495</td><td>0.660661</td><td>0.202153</td><td>0.0194885</td><td>0.972381</td><td>0.813316</td><td>0.72859</td><td>0.202893</td></tr><tr><th>18</th><td>0.130585</td><td>0.610086</td><td>0.967989</td><td>0.611592</td><td>0.927177</td><td>0.793076</td><td>0.520442</td><td>0.857915</td></tr><tr><th>19</th><td>0.311515</td><td>0.386568</td><td>0.18499</td><td>0.789133</td><td>0.679807</td><td>0.209903</td><td>0.135709</td><td>0.646164</td></tr><tr><th>20</th><td>0.370169</td><td>0.940268</td><td>0.251904</td><td>0.63452</td><td>0.929561</td><td>0.725761</td><td>0.17023</td><td>0.0950251</td></tr><tr><th>21</th><td>0.801261</td><td>0.709054</td><td>0.0631459</td><td>0.418699</td><td>0.968132</td><td>0.452822</td><td>0.0278735</td><td>0.878031</td></tr><tr><th>22</th><td>0.534341</td><td>0.317374</td><td>0.658347</td><td>0.790054</td><td>0.117768</td><td>0.280055</td><td>0.696277</td><td>0.279152</td></tr><tr><th>23</th><td>0.544936</td><td>0.176095</td><td>0.880178</td><td>0.448072</td><td>0.95309</td><td>0.323796</td><td>0.363747</td><td>0.587035</td></tr><tr><th>24</th><td>0.861233</td><td>0.974083</td><td>0.273547</td><td>0.269268</td><td>0.141495</td><td>0.866327</td><td>0.09597</td><td>0.154668</td></tr><tr><th>25</th><td>0.230246</td><td>0.514018</td><td>0.362454</td><td>0.389744</td><td>0.119775</td><td>0.654777</td><td>0.251752</td><td>0.314394</td></tr><tr><th>26</th><td>0.404351</td><td>0.45415</td><td>0.545187</td><td>0.658728</td><td>0.638306</td><td>0.174572</td><td>0.0674544</td><td>0.331246</td></tr><tr><th>27</th><td>0.68664</td><td>0.338039</td><td>0.783537</td><td>0.278237</td><td>0.693353</td><td>0.274595</td><td>0.600702</td><td>0.632208</td></tr><tr><th>28</th><td>0.633745</td><td>0.589715</td><td>0.754156</td><td>0.345287</td><td>0.352624</td><td>0.475119</td><td>0.868217</td><td>0.740468</td></tr><tr><th>29</th><td>0.228314</td><td>0.294203</td><td>0.545986</td><td>0.0542119</td><td>0.286619</td><td>0.884706</td><td>0.928838</td><td>0.0329139</td></tr><tr><th>30</th><td>0.332718</td><td>0.655109</td><td>0.320356</td><td>0.898355</td><td>0.40626</td><td>0.938562</td><td>0.755184</td><td>0.260724</td></tr><tr><th>&vellip;</th><td>&vellip;</td><td>&vellip;</td><td>&vellip;</td><td>&vellip;</td><td>&vellip;</td><td>&vellip;</td><td>&vellip;</td><td>&vellip;</td></tr></tbody></table></div>"
      ],
      "text/latex": [
       "\\begin{tabular}{r|ccccccccc}\n",
       "\t& x1 & x2 & x3 & x4 & x5 & x6 & x7 & x8 & \\\\\n",
       "\t\\hline\n",
       "\t& Float64 & Float64 & Float64 & Float64 & Float64 & Float64 & Float64 & Float64 & \\\\\n",
       "\t\\hline\n",
       "\t1 & 0.822841 & 0.627123 & 0.0787094 & 0.880556 & 0.315632 & 0.232786 & 0.577346 & 0.371028 & $\\dots$ \\\\\n",
       "\t2 & 0.402965 & 0.0229243 & 0.768259 & 0.03316 & 0.0257622 & 0.0568977 & 0.648605 & 0.8735 & $\\dots$ \\\\\n",
       "\t3 & 0.910438 & 0.440111 & 0.926592 & 0.982104 & 0.701911 & 0.809936 & 0.644246 & 0.35027 & $\\dots$ \\\\\n",
       "\t4 & 0.114476 & 0.88898 & 0.856592 & 0.955567 & 0.537406 & 0.614434 & 0.781799 & 0.399502 & $\\dots$ \\\\\n",
       "\t5 & 0.139316 & 0.436851 & 0.806506 & 0.222235 & 0.5632 & 0.221634 & 0.804874 & 0.253417 & $\\dots$ \\\\\n",
       "\t6 & 0.346014 & 0.00208929 & 0.305866 & 0.102841 & 0.649045 & 0.512559 & 0.793464 & 0.142623 & $\\dots$ \\\\\n",
       "\t7 & 0.279502 & 0.125278 & 0.46532 & 0.508624 & 0.770491 & 0.250046 & 0.964776 & 0.440098 & $\\dots$ \\\\\n",
       "\t8 & 0.125844 & 0.100991 & 0.537101 & 0.15584 & 0.155365 & 0.520906 & 0.74011 & 0.0436753 & $\\dots$ \\\\\n",
       "\t9 & 0.864695 & 0.783787 & 0.523708 & 0.733103 & 0.306951 & 0.867453 & 0.168743 & 0.904454 & $\\dots$ \\\\\n",
       "\t10 & 0.98536 & 0.994226 & 0.656058 & 0.403829 & 0.821321 & 0.275431 & 0.474932 & 0.0293327 & $\\dots$ \\\\\n",
       "\t11 & 0.469607 & 0.175446 & 0.54531 & 0.345367 & 0.929905 & 0.0771414 & 0.883376 & 0.34381 & $\\dots$ \\\\\n",
       "\t12 & 0.0429806 & 0.890865 & 0.21954 & 0.546222 & 0.716457 & 0.651615 & 0.155557 & 0.146957 & $\\dots$ \\\\\n",
       "\t13 & 0.419455 & 0.394454 & 0.642032 & 0.455324 & 0.469956 & 0.238641 & 0.629709 & 0.442596 & $\\dots$ \\\\\n",
       "\t14 & 0.635499 & 0.972549 & 0.0544711 & 0.619026 & 0.614042 & 0.15242 & 0.11865 & 0.71182 & $\\dots$ \\\\\n",
       "\t15 & 0.0690674 & 0.502333 & 0.956121 & 0.580618 & 0.770023 & 0.443249 & 0.0405437 & 0.24363 & $\\dots$ \\\\\n",
       "\t16 & 0.73765 & 0.292352 & 0.628538 & 0.849797 & 0.267386 & 0.863734 & 0.228531 & 0.588234 & $\\dots$ \\\\\n",
       "\t17 & 0.450495 & 0.660661 & 0.202153 & 0.0194885 & 0.972381 & 0.813316 & 0.72859 & 0.202893 & $\\dots$ \\\\\n",
       "\t18 & 0.130585 & 0.610086 & 0.967989 & 0.611592 & 0.927177 & 0.793076 & 0.520442 & 0.857915 & $\\dots$ \\\\\n",
       "\t19 & 0.311515 & 0.386568 & 0.18499 & 0.789133 & 0.679807 & 0.209903 & 0.135709 & 0.646164 & $\\dots$ \\\\\n",
       "\t20 & 0.370169 & 0.940268 & 0.251904 & 0.63452 & 0.929561 & 0.725761 & 0.17023 & 0.0950251 & $\\dots$ \\\\\n",
       "\t21 & 0.801261 & 0.709054 & 0.0631459 & 0.418699 & 0.968132 & 0.452822 & 0.0278735 & 0.878031 & $\\dots$ \\\\\n",
       "\t22 & 0.534341 & 0.317374 & 0.658347 & 0.790054 & 0.117768 & 0.280055 & 0.696277 & 0.279152 & $\\dots$ \\\\\n",
       "\t23 & 0.544936 & 0.176095 & 0.880178 & 0.448072 & 0.95309 & 0.323796 & 0.363747 & 0.587035 & $\\dots$ \\\\\n",
       "\t24 & 0.861233 & 0.974083 & 0.273547 & 0.269268 & 0.141495 & 0.866327 & 0.09597 & 0.154668 & $\\dots$ \\\\\n",
       "\t25 & 0.230246 & 0.514018 & 0.362454 & 0.389744 & 0.119775 & 0.654777 & 0.251752 & 0.314394 & $\\dots$ \\\\\n",
       "\t26 & 0.404351 & 0.45415 & 0.545187 & 0.658728 & 0.638306 & 0.174572 & 0.0674544 & 0.331246 & $\\dots$ \\\\\n",
       "\t27 & 0.68664 & 0.338039 & 0.783537 & 0.278237 & 0.693353 & 0.274595 & 0.600702 & 0.632208 & $\\dots$ \\\\\n",
       "\t28 & 0.633745 & 0.589715 & 0.754156 & 0.345287 & 0.352624 & 0.475119 & 0.868217 & 0.740468 & $\\dots$ \\\\\n",
       "\t29 & 0.228314 & 0.294203 & 0.545986 & 0.0542119 & 0.286619 & 0.884706 & 0.928838 & 0.0329139 & $\\dots$ \\\\\n",
       "\t30 & 0.332718 & 0.655109 & 0.320356 & 0.898355 & 0.40626 & 0.938562 & 0.755184 & 0.260724 & $\\dots$ \\\\\n",
       "\t$\\dots$ & $\\dots$ & $\\dots$ & $\\dots$ & $\\dots$ & $\\dots$ & $\\dots$ & $\\dots$ & $\\dots$ &  \\\\\n",
       "\\end{tabular}\n"
      ],
      "text/plain": [
       "\u001b[1m100×1000 DataFrame\u001b[0m\n",
       "\u001b[1m Row \u001b[0m│\u001b[1m x1        \u001b[0m\u001b[1m x2         \u001b[0m\u001b[1m x3        \u001b[0m\u001b[1m x4        \u001b[0m\u001b[1m x5        \u001b[0m\u001b[1m x6        \u001b[0m\u001b[1m x7  \u001b[0m ⋯\n",
       "\u001b[1m     \u001b[0m│\u001b[90m Float64   \u001b[0m\u001b[90m Float64    \u001b[0m\u001b[90m Float64   \u001b[0m\u001b[90m Float64   \u001b[0m\u001b[90m Float64   \u001b[0m\u001b[90m Float64   \u001b[0m\u001b[90m Floa\u001b[0m ⋯\n",
       "─────┼──────────────────────────────────────────────────────────────────────────\n",
       "   1 │ 0.822841   0.627123    0.0787094  0.880556   0.315632   0.232786   0.57 ⋯\n",
       "   2 │ 0.402965   0.0229243   0.768259   0.03316    0.0257622  0.0568977  0.64\n",
       "   3 │ 0.910438   0.440111    0.926592   0.982104   0.701911   0.809936   0.64\n",
       "   4 │ 0.114476   0.88898     0.856592   0.955567   0.537406   0.614434   0.78\n",
       "   5 │ 0.139316   0.436851    0.806506   0.222235   0.5632     0.221634   0.80 ⋯\n",
       "   6 │ 0.346014   0.00208929  0.305866   0.102841   0.649045   0.512559   0.79\n",
       "   7 │ 0.279502   0.125278    0.46532    0.508624   0.770491   0.250046   0.96\n",
       "   8 │ 0.125844   0.100991    0.537101   0.15584    0.155365   0.520906   0.74\n",
       "   9 │ 0.864695   0.783787    0.523708   0.733103   0.306951   0.867453   0.16 ⋯\n",
       "  10 │ 0.98536    0.994226    0.656058   0.403829   0.821321   0.275431   0.47\n",
       "  11 │ 0.469607   0.175446    0.54531    0.345367   0.929905   0.0771414  0.88\n",
       "  ⋮  │     ⋮          ⋮           ⋮          ⋮          ⋮          ⋮           ⋱\n",
       "  91 │ 0.61506    0.927086    0.653901   0.0201255  0.951071   0.187013   0.96\n",
       "  92 │ 0.901334   0.379118    0.621854   0.496147   0.660273   0.65503    0.83 ⋯\n",
       "  93 │ 0.731709   0.782369    0.101184   0.644714   0.187738   0.0333865  0.71\n",
       "  94 │ 0.392648   0.654159    0.762933   0.518523   0.114294   0.334631   0.18\n",
       "  95 │ 0.418397   0.184342    0.486652   0.436275   0.660192   0.454513   0.84\n",
       "  96 │ 0.31756    0.513183    0.0849784  0.429009   0.647201   0.389349   0.79 ⋯\n",
       "  97 │ 0.85556    0.787063    0.411061   0.186945   0.0845755  0.288788   0.01\n",
       "  98 │ 0.634807   0.943347    0.98719    0.284598   0.65305    0.151464   0.40\n",
       "  99 │ 0.0469106  0.700273    0.969965   0.89659    0.875914   0.579548   0.57\n",
       " 100 │ 0.246908   0.98205     0.434212   0.997002   0.559411   0.864542   0.53 ⋯\n",
       "\u001b[36m                                                 994 columns and 79 rows omitted\u001b[0m"
      ]
     },
     "execution_count": 22,
     "metadata": {},
     "output_type": "execute_result"
    }
   ],
   "source": [
    "x = DataFrame(rand(100, 1000), :auto)"
   ]
  },
  {
   "cell_type": "code",
   "execution_count": 23,
   "metadata": {},
   "outputs": [
    {
     "name": "stdout",
     "output_type": "stream",
     "text": [
      "  204.700 μs (2985 allocations: 190.69 KiB)\n"
     ]
    },
    {
     "data": {
      "text/html": [
       "<div class=\"data-frame\"><p>1 rows × 1,000 columns (omitted printing of 992 columns)</p><table class=\"data-frame\"><thead><tr><th></th><th>x1</th><th>x2</th><th>x3</th><th>x4</th><th>x5</th><th>x6</th><th>x7</th><th>x8</th></tr><tr><th></th><th title=\"Float64\">Float64</th><th title=\"Float64\">Float64</th><th title=\"Float64\">Float64</th><th title=\"Float64\">Float64</th><th title=\"Float64\">Float64</th><th title=\"Float64\">Float64</th><th title=\"Float64\">Float64</th><th title=\"Float64\">Float64</th></tr></thead><tbody><tr><th>1</th><td>0.822841</td><td>0.627123</td><td>0.0787094</td><td>0.880556</td><td>0.315632</td><td>0.232786</td><td>0.577346</td><td>0.371028</td></tr></tbody></table></div>"
      ],
      "text/latex": [
       "\\begin{tabular}{r|ccccccccc}\n",
       "\t& x1 & x2 & x3 & x4 & x5 & x6 & x7 & x8 & \\\\\n",
       "\t\\hline\n",
       "\t& Float64 & Float64 & Float64 & Float64 & Float64 & Float64 & Float64 & Float64 & \\\\\n",
       "\t\\hline\n",
       "\t1 & 0.822841 & 0.627123 & 0.0787094 & 0.880556 & 0.315632 & 0.232786 & 0.577346 & 0.371028 & $\\dots$ \\\\\n",
       "\\end{tabular}\n"
      ],
      "text/plain": [
       "\u001b[1m1×1000 DataFrame\u001b[0m\n",
       "\u001b[1m Row \u001b[0m│\u001b[1m x1       \u001b[0m\u001b[1m x2       \u001b[0m\u001b[1m x3        \u001b[0m\u001b[1m x4       \u001b[0m\u001b[1m x5       \u001b[0m\u001b[1m x6       \u001b[0m\u001b[1m x7       \u001b[0m\u001b[1m \u001b[0m ⋯\n",
       "\u001b[1m     \u001b[0m│\u001b[90m Float64  \u001b[0m\u001b[90m Float64  \u001b[0m\u001b[90m Float64   \u001b[0m\u001b[90m Float64  \u001b[0m\u001b[90m Float64  \u001b[0m\u001b[90m Float64  \u001b[0m\u001b[90m Float64  \u001b[0m\u001b[90m \u001b[0m ⋯\n",
       "─────┼──────────────────────────────────────────────────────────────────────────\n",
       "   1 │ 0.822841  0.627123  0.0787094  0.880556  0.315632  0.232786  0.577346   ⋯\n",
       "\u001b[36m                                                             993 columns omitted\u001b[0m"
      ]
     },
     "execution_count": 23,
     "metadata": {},
     "output_type": "execute_result"
    }
   ],
   "source": [
    "@btime $x[1:1, :]"
   ]
  },
  {
   "cell_type": "code",
   "execution_count": 24,
   "metadata": {},
   "outputs": [
    {
     "name": "stdout",
     "output_type": "stream",
     "text": [
      "  29.032 ns (0 allocations: 0 bytes)\n"
     ]
    },
    {
     "data": {
      "text/html": [
       "<p>DataFrameRow (1000 columns)</p><div class=\"data-frame\"><table class=\"data-frame\"><thead><tr><th></th><th>x1</th><th>x2</th><th>x3</th><th>x4</th><th>x5</th><th>x6</th><th>x7</th><th>x8</th></tr><tr><th></th><th title=\"Float64\">Float64</th><th title=\"Float64\">Float64</th><th title=\"Float64\">Float64</th><th title=\"Float64\">Float64</th><th title=\"Float64\">Float64</th><th title=\"Float64\">Float64</th><th title=\"Float64\">Float64</th><th title=\"Float64\">Float64</th></tr></thead><tbody><tr><th>1</th><td>0.822841</td><td>0.627123</td><td>0.0787094</td><td>0.880556</td><td>0.315632</td><td>0.232786</td><td>0.577346</td><td>0.371028</td></tr></tbody></table></div>"
      ],
      "text/latex": [
       "\\begin{tabular}{r|ccccccccc}\n",
       "\t& x1 & x2 & x3 & x4 & x5 & x6 & x7 & x8 & \\\\\n",
       "\t\\hline\n",
       "\t& Float64 & Float64 & Float64 & Float64 & Float64 & Float64 & Float64 & Float64 & \\\\\n",
       "\t\\hline\n",
       "\t1 & 0.822841 & 0.627123 & 0.0787094 & 0.880556 & 0.315632 & 0.232786 & 0.577346 & 0.371028 & $\\dots$ \\\\\n",
       "\\end{tabular}\n"
      ],
      "text/plain": [
       "\u001b[1mDataFrameRow\u001b[0m\n",
       "\u001b[1m Row \u001b[0m│\u001b[1m x1       \u001b[0m\u001b[1m x2       \u001b[0m\u001b[1m x3        \u001b[0m\u001b[1m x4       \u001b[0m\u001b[1m x5       \u001b[0m\u001b[1m x6       \u001b[0m\u001b[1m x7       \u001b[0m\u001b[1m \u001b[0m ⋯\n",
       "\u001b[1m     \u001b[0m│\u001b[90m Float64  \u001b[0m\u001b[90m Float64  \u001b[0m\u001b[90m Float64   \u001b[0m\u001b[90m Float64  \u001b[0m\u001b[90m Float64  \u001b[0m\u001b[90m Float64  \u001b[0m\u001b[90m Float64  \u001b[0m\u001b[90m \u001b[0m ⋯\n",
       "─────┼──────────────────────────────────────────────────────────────────────────\n",
       "   1 │ 0.822841  0.627123  0.0787094  0.880556  0.315632  0.232786  0.577346   ⋯\n",
       "\u001b[36m                                                             993 columns omitted\u001b[0m"
      ]
     },
     "execution_count": 24,
     "metadata": {},
     "output_type": "execute_result"
    }
   ],
   "source": [
    "@btime $x[1, :]"
   ]
  },
  {
   "cell_type": "code",
   "execution_count": 25,
   "metadata": {},
   "outputs": [
    {
     "name": "stdout",
     "output_type": "stream",
     "text": [
      "  27.520 ns (0 allocations: 0 bytes)\n"
     ]
    },
    {
     "data": {
      "text/html": [
       "<div class=\"data-frame\"><p>1 rows × 1,000 columns (omitted printing of 992 columns)</p><table class=\"data-frame\"><thead><tr><th></th><th>x1</th><th>x2</th><th>x3</th><th>x4</th><th>x5</th><th>x6</th><th>x7</th><th>x8</th></tr><tr><th></th><th title=\"Float64\">Float64</th><th title=\"Float64\">Float64</th><th title=\"Float64\">Float64</th><th title=\"Float64\">Float64</th><th title=\"Float64\">Float64</th><th title=\"Float64\">Float64</th><th title=\"Float64\">Float64</th><th title=\"Float64\">Float64</th></tr></thead><tbody><tr><th>1</th><td>0.822841</td><td>0.627123</td><td>0.0787094</td><td>0.880556</td><td>0.315632</td><td>0.232786</td><td>0.577346</td><td>0.371028</td></tr></tbody></table></div>"
      ],
      "text/latex": [
       "\\begin{tabular}{r|ccccccccc}\n",
       "\t& x1 & x2 & x3 & x4 & x5 & x6 & x7 & x8 & \\\\\n",
       "\t\\hline\n",
       "\t& Float64 & Float64 & Float64 & Float64 & Float64 & Float64 & Float64 & Float64 & \\\\\n",
       "\t\\hline\n",
       "\t1 & 0.822841 & 0.627123 & 0.0787094 & 0.880556 & 0.315632 & 0.232786 & 0.577346 & 0.371028 & $\\dots$ \\\\\n",
       "\\end{tabular}\n"
      ],
      "text/plain": [
       "\u001b[1m1×1000 SubDataFrame\u001b[0m\n",
       "\u001b[1m Row \u001b[0m│\u001b[1m x1       \u001b[0m\u001b[1m x2       \u001b[0m\u001b[1m x3        \u001b[0m\u001b[1m x4       \u001b[0m\u001b[1m x5       \u001b[0m\u001b[1m x6       \u001b[0m\u001b[1m x7       \u001b[0m\u001b[1m \u001b[0m ⋯\n",
       "\u001b[1m     \u001b[0m│\u001b[90m Float64  \u001b[0m\u001b[90m Float64  \u001b[0m\u001b[90m Float64   \u001b[0m\u001b[90m Float64  \u001b[0m\u001b[90m Float64  \u001b[0m\u001b[90m Float64  \u001b[0m\u001b[90m Float64  \u001b[0m\u001b[90m \u001b[0m ⋯\n",
       "─────┼──────────────────────────────────────────────────────────────────────────\n",
       "   1 │ 0.822841  0.627123  0.0787094  0.880556  0.315632  0.232786  0.577346   ⋯\n",
       "\u001b[36m                                                             993 columns omitted\u001b[0m"
      ]
     },
     "execution_count": 25,
     "metadata": {},
     "output_type": "execute_result"
    }
   ],
   "source": [
    "@btime view($x, 1:1, :)"
   ]
  },
  {
   "cell_type": "code",
   "execution_count": 26,
   "metadata": {},
   "outputs": [
    {
     "name": "stdout",
     "output_type": "stream",
     "text": [
      "  4.643 μs (50 allocations: 4.16 KiB)\n"
     ]
    },
    {
     "data": {
      "text/html": [
       "<div class=\"data-frame\"><p>1 rows × 20 columns (omitted printing of 12 columns)</p><table class=\"data-frame\"><thead><tr><th></th><th>x1</th><th>x2</th><th>x3</th><th>x4</th><th>x5</th><th>x6</th><th>x7</th><th>x8</th></tr><tr><th></th><th title=\"Float64\">Float64</th><th title=\"Float64\">Float64</th><th title=\"Float64\">Float64</th><th title=\"Float64\">Float64</th><th title=\"Float64\">Float64</th><th title=\"Float64\">Float64</th><th title=\"Float64\">Float64</th><th title=\"Float64\">Float64</th></tr></thead><tbody><tr><th>1</th><td>0.822841</td><td>0.627123</td><td>0.0787094</td><td>0.880556</td><td>0.315632</td><td>0.232786</td><td>0.577346</td><td>0.371028</td></tr></tbody></table></div>"
      ],
      "text/latex": [
       "\\begin{tabular}{r|ccccccccc}\n",
       "\t& x1 & x2 & x3 & x4 & x5 & x6 & x7 & x8 & \\\\\n",
       "\t\\hline\n",
       "\t& Float64 & Float64 & Float64 & Float64 & Float64 & Float64 & Float64 & Float64 & \\\\\n",
       "\t\\hline\n",
       "\t1 & 0.822841 & 0.627123 & 0.0787094 & 0.880556 & 0.315632 & 0.232786 & 0.577346 & 0.371028 & $\\dots$ \\\\\n",
       "\\end{tabular}\n"
      ],
      "text/plain": [
       "\u001b[1m1×20 DataFrame\u001b[0m\n",
       "\u001b[1m Row \u001b[0m│\u001b[1m x1       \u001b[0m\u001b[1m x2       \u001b[0m\u001b[1m x3        \u001b[0m\u001b[1m x4       \u001b[0m\u001b[1m x5       \u001b[0m\u001b[1m x6       \u001b[0m\u001b[1m x7       \u001b[0m\u001b[1m \u001b[0m ⋯\n",
       "\u001b[1m     \u001b[0m│\u001b[90m Float64  \u001b[0m\u001b[90m Float64  \u001b[0m\u001b[90m Float64   \u001b[0m\u001b[90m Float64  \u001b[0m\u001b[90m Float64  \u001b[0m\u001b[90m Float64  \u001b[0m\u001b[90m Float64  \u001b[0m\u001b[90m \u001b[0m ⋯\n",
       "─────┼──────────────────────────────────────────────────────────────────────────\n",
       "   1 │ 0.822841  0.627123  0.0787094  0.880556  0.315632  0.232786  0.577346   ⋯\n",
       "\u001b[36m                                                              13 columns omitted\u001b[0m"
      ]
     },
     "execution_count": 26,
     "metadata": {},
     "output_type": "execute_result"
    }
   ],
   "source": [
    "@btime $x[1:1, 1:20]"
   ]
  },
  {
   "cell_type": "code",
   "execution_count": 27,
   "metadata": {},
   "outputs": [
    {
     "name": "stdout",
     "output_type": "stream",
     "text": [
      "  31.552 ns (0 allocations: 0 bytes)\n"
     ]
    },
    {
     "data": {
      "text/html": [
       "<p>DataFrameRow (20 columns)</p><div class=\"data-frame\"><table class=\"data-frame\"><thead><tr><th></th><th>x1</th><th>x2</th><th>x3</th><th>x4</th><th>x5</th><th>x6</th><th>x7</th><th>x8</th></tr><tr><th></th><th title=\"Float64\">Float64</th><th title=\"Float64\">Float64</th><th title=\"Float64\">Float64</th><th title=\"Float64\">Float64</th><th title=\"Float64\">Float64</th><th title=\"Float64\">Float64</th><th title=\"Float64\">Float64</th><th title=\"Float64\">Float64</th></tr></thead><tbody><tr><th>1</th><td>0.822841</td><td>0.627123</td><td>0.0787094</td><td>0.880556</td><td>0.315632</td><td>0.232786</td><td>0.577346</td><td>0.371028</td></tr></tbody></table></div>"
      ],
      "text/latex": [
       "\\begin{tabular}{r|ccccccccc}\n",
       "\t& x1 & x2 & x3 & x4 & x5 & x6 & x7 & x8 & \\\\\n",
       "\t\\hline\n",
       "\t& Float64 & Float64 & Float64 & Float64 & Float64 & Float64 & Float64 & Float64 & \\\\\n",
       "\t\\hline\n",
       "\t1 & 0.822841 & 0.627123 & 0.0787094 & 0.880556 & 0.315632 & 0.232786 & 0.577346 & 0.371028 & $\\dots$ \\\\\n",
       "\\end{tabular}\n"
      ],
      "text/plain": [
       "\u001b[1mDataFrameRow\u001b[0m\n",
       "\u001b[1m Row \u001b[0m│\u001b[1m x1       \u001b[0m\u001b[1m x2       \u001b[0m\u001b[1m x3        \u001b[0m\u001b[1m x4       \u001b[0m\u001b[1m x5       \u001b[0m\u001b[1m x6       \u001b[0m\u001b[1m x7       \u001b[0m\u001b[1m \u001b[0m ⋯\n",
       "\u001b[1m     \u001b[0m│\u001b[90m Float64  \u001b[0m\u001b[90m Float64  \u001b[0m\u001b[90m Float64   \u001b[0m\u001b[90m Float64  \u001b[0m\u001b[90m Float64  \u001b[0m\u001b[90m Float64  \u001b[0m\u001b[90m Float64  \u001b[0m\u001b[90m \u001b[0m ⋯\n",
       "─────┼──────────────────────────────────────────────────────────────────────────\n",
       "   1 │ 0.822841  0.627123  0.0787094  0.880556  0.315632  0.232786  0.577346   ⋯\n",
       "\u001b[36m                                                              13 columns omitted\u001b[0m"
      ]
     },
     "execution_count": 27,
     "metadata": {},
     "output_type": "execute_result"
    }
   ],
   "source": [
    "@btime $x[1, 1:20]"
   ]
  },
  {
   "cell_type": "code",
   "execution_count": 28,
   "metadata": {},
   "outputs": [
    {
     "name": "stdout",
     "output_type": "stream",
     "text": [
      "  31.621 ns (0 allocations: 0 bytes)\n"
     ]
    },
    {
     "data": {
      "text/html": [
       "<div class=\"data-frame\"><p>1 rows × 20 columns (omitted printing of 12 columns)</p><table class=\"data-frame\"><thead><tr><th></th><th>x1</th><th>x2</th><th>x3</th><th>x4</th><th>x5</th><th>x6</th><th>x7</th><th>x8</th></tr><tr><th></th><th title=\"Float64\">Float64</th><th title=\"Float64\">Float64</th><th title=\"Float64\">Float64</th><th title=\"Float64\">Float64</th><th title=\"Float64\">Float64</th><th title=\"Float64\">Float64</th><th title=\"Float64\">Float64</th><th title=\"Float64\">Float64</th></tr></thead><tbody><tr><th>1</th><td>0.822841</td><td>0.627123</td><td>0.0787094</td><td>0.880556</td><td>0.315632</td><td>0.232786</td><td>0.577346</td><td>0.371028</td></tr></tbody></table></div>"
      ],
      "text/latex": [
       "\\begin{tabular}{r|ccccccccc}\n",
       "\t& x1 & x2 & x3 & x4 & x5 & x6 & x7 & x8 & \\\\\n",
       "\t\\hline\n",
       "\t& Float64 & Float64 & Float64 & Float64 & Float64 & Float64 & Float64 & Float64 & \\\\\n",
       "\t\\hline\n",
       "\t1 & 0.822841 & 0.627123 & 0.0787094 & 0.880556 & 0.315632 & 0.232786 & 0.577346 & 0.371028 & $\\dots$ \\\\\n",
       "\\end{tabular}\n"
      ],
      "text/plain": [
       "\u001b[1m1×20 SubDataFrame\u001b[0m\n",
       "\u001b[1m Row \u001b[0m│\u001b[1m x1       \u001b[0m\u001b[1m x2       \u001b[0m\u001b[1m x3        \u001b[0m\u001b[1m x4       \u001b[0m\u001b[1m x5       \u001b[0m\u001b[1m x6       \u001b[0m\u001b[1m x7       \u001b[0m\u001b[1m \u001b[0m ⋯\n",
       "\u001b[1m     \u001b[0m│\u001b[90m Float64  \u001b[0m\u001b[90m Float64  \u001b[0m\u001b[90m Float64   \u001b[0m\u001b[90m Float64  \u001b[0m\u001b[90m Float64  \u001b[0m\u001b[90m Float64  \u001b[0m\u001b[90m Float64  \u001b[0m\u001b[90m \u001b[0m ⋯\n",
       "─────┼──────────────────────────────────────────────────────────────────────────\n",
       "   1 │ 0.822841  0.627123  0.0787094  0.880556  0.315632  0.232786  0.577346   ⋯\n",
       "\u001b[36m                                                              13 columns omitted\u001b[0m"
      ]
     },
     "execution_count": 28,
     "metadata": {},
     "output_type": "execute_result"
    }
   ],
   "source": [
    "@btime view($x, 1:1, 1:20)"
   ]
  }
 ],
 "metadata": {
  "@webio": {
   "lastCommId": null,
   "lastKernelId": null
  },
  "kernelspec": {
   "display_name": "Julia 1.6.1",
   "language": "julia",
   "name": "julia-1.6"
  },
  "language_info": {
   "file_extension": ".jl",
   "mimetype": "application/julia",
   "name": "julia",
   "version": "1.6.1"
  }
 },
 "nbformat": 4,
 "nbformat_minor": 1
}
