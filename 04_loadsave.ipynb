{
 "cells": [
  {
   "cell_type": "markdown",
   "metadata": {},
   "source": [
    "# Introduction to DataFrames\n",
    "**[Bogumił Kamiński](http://bogumilkaminski.pl/about/), October 5, 2022**"
   ]
  },
  {
   "cell_type": "code",
   "execution_count": 1,
   "metadata": {},
   "outputs": [],
   "source": [
    "using DataFrames"
   ]
  },
  {
   "cell_type": "markdown",
   "metadata": {},
   "source": [
    "## Load and save DataFrames\n",
    "We do not cover all features of the packages. Please refer to their documentation to learn them.\n",
    "\n",
    "Here we'll load CSV.jl to read and write CSV files and Arrow.jl, JLSO.jl, and serialization, which allow us to work with a binary format and JSONTables.jl for JSON interaction. Finally we consider a custom JDF.jl format."
   ]
  },
  {
   "cell_type": "code",
   "execution_count": 2,
   "metadata": {},
   "outputs": [],
   "source": [
    "using Arrow\n",
    "using CSV\n",
    "using Serialization\n",
    "using JLSO\n",
    "using JSONTables\n",
    "using CodecZlib\n",
    "using ZipFile\n",
    "using JDF\n",
    "using StatsPlots # for charts\n",
    "using Mmap # for compression"
   ]
  },
  {
   "cell_type": "markdown",
   "metadata": {},
   "source": [
    "Let's create a simple `DataFrame` for testing purposes,"
   ]
  },
  {
   "cell_type": "code",
   "execution_count": 3,
   "metadata": {},
   "outputs": [
    {
     "data": {
      "text/html": [
       "<div><div style = \"float: left;\"><span>3×4 DataFrame</span></div><div style = \"clear: both;\"></div></div><div class = \"data-frame\" style = \"overflow-x: scroll;\"><table class = \"data-frame\" style = \"margin-bottom: 6px;\"><thead><tr class = \"header\"><th class = \"rowNumber\" style = \"font-weight: bold; text-align: right;\">Row</th><th style = \"text-align: left;\">A</th><th style = \"text-align: left;\">B</th><th style = \"text-align: left;\">C</th><th style = \"text-align: left;\">D</th></tr><tr class = \"subheader headerLastRow\"><th class = \"rowNumber\" style = \"font-weight: bold; text-align: right;\"></th><th title = \"Bool\" style = \"text-align: left;\">Bool</th><th title = \"Union{Missing, Int64}\" style = \"text-align: left;\">Int64?</th><th title = \"Union{Missing, String}\" style = \"text-align: left;\">String?</th><th title = \"Union{Missing, Char}\" style = \"text-align: left;\">Char?</th></tr></thead><tbody><tr><td class = \"rowNumber\" style = \"font-weight: bold; text-align: right;\">1</td><td style = \"text-align: right;\">true</td><td style = \"text-align: right;\">1</td><td style = \"font-style: italic; text-align: left;\">missing</td><td style = \"text-align: left;\">a</td></tr><tr><td class = \"rowNumber\" style = \"font-weight: bold; text-align: right;\">2</td><td style = \"text-align: right;\">false</td><td style = \"text-align: right;\">2</td><td style = \"text-align: left;\">b</td><td style = \"font-style: italic; text-align: left;\">missing</td></tr><tr><td class = \"rowNumber\" style = \"font-weight: bold; text-align: right;\">3</td><td style = \"text-align: right;\">true</td><td style = \"font-style: italic; text-align: right;\">missing</td><td style = \"text-align: left;\">c</td><td style = \"text-align: left;\">c</td></tr></tbody></table></div>"
      ],
      "text/latex": [
       "\\begin{tabular}{r|cccc}\n",
       "\t& A & B & C & D\\\\\n",
       "\t\\hline\n",
       "\t& Bool & Int64? & String? & Char?\\\\\n",
       "\t\\hline\n",
       "\t1 & 1 & 1 & \\emph{missing} & a \\\\\n",
       "\t2 & 0 & 2 & b & \\emph{missing} \\\\\n",
       "\t3 & 1 & \\emph{missing} & c & c \\\\\n",
       "\\end{tabular}\n"
      ],
      "text/plain": [
       "\u001b[1m3×4 DataFrame\u001b[0m\n",
       "\u001b[1m Row \u001b[0m│\u001b[1m A     \u001b[0m\u001b[1m B       \u001b[0m\u001b[1m C       \u001b[0m\u001b[1m D       \u001b[0m\n",
       "     │\u001b[90m Bool  \u001b[0m\u001b[90m Int64?  \u001b[0m\u001b[90m String? \u001b[0m\u001b[90m Char?   \u001b[0m\n",
       "─────┼──────────────────────────────────\n",
       "   1 │  true        1 \u001b[90m missing \u001b[0m a\n",
       "   2 │ false        2  b       \u001b[90m missing \u001b[0m\n",
       "   3 │  true \u001b[90m missing \u001b[0m c        c"
      ]
     },
     "execution_count": 3,
     "metadata": {},
     "output_type": "execute_result"
    }
   ],
   "source": [
    "x = DataFrame(A=[true, false, true], B=[1, 2, missing],\n",
    "              C=[missing, \"b\", \"c\"], D=['a', missing, 'c'])"
   ]
  },
  {
   "cell_type": "markdown",
   "metadata": {},
   "source": [
    "and use `eltypes` to look at the columnwise types."
   ]
  },
  {
   "cell_type": "code",
   "execution_count": 4,
   "metadata": {},
   "outputs": [
    {
     "data": {
      "text/plain": [
       "4-element Vector{Type}:\n",
       " Bool\n",
       " Union{Missing, Int64}\n",
       " Union{Missing, String}\n",
       " Union{Missing, Char}"
      ]
     },
     "execution_count": 4,
     "metadata": {},
     "output_type": "execute_result"
    }
   ],
   "source": [
    "eltype.(eachcol(x))"
   ]
  },
  {
   "cell_type": "markdown",
   "metadata": {},
   "source": [
    "### CSV.jl"
   ]
  },
  {
   "cell_type": "markdown",
   "metadata": {},
   "source": [
    "Let's use `CSV` to save `x` to disk; make sure `x1.csv` does not conflict with some file in your working directory."
   ]
  },
  {
   "cell_type": "code",
   "execution_count": 5,
   "metadata": {},
   "outputs": [
    {
     "data": {
      "text/plain": [
       "\"x1.csv\""
      ]
     },
     "execution_count": 5,
     "metadata": {},
     "output_type": "execute_result"
    }
   ],
   "source": [
    "CSV.write(\"x1.csv\", x)"
   ]
  },
  {
   "cell_type": "markdown",
   "metadata": {},
   "source": [
    "Now we can see how it was saved by reading `x.csv`."
   ]
  },
  {
   "cell_type": "code",
   "execution_count": 6,
   "metadata": {},
   "outputs": [
    {
     "name": "stdout",
     "output_type": "stream",
     "text": [
      "A,B,C,D\n",
      "true,1,,a\n",
      "false,2,b,\n",
      "true,,c,c\n"
     ]
    }
   ],
   "source": [
    "print(read(\"x1.csv\", String))"
   ]
  },
  {
   "cell_type": "markdown",
   "metadata": {},
   "source": [
    "We can also load it back."
   ]
  },
  {
   "cell_type": "code",
   "execution_count": 7,
   "metadata": {},
   "outputs": [
    {
     "data": {
      "text/html": [
       "<div><div style = \"float: left;\"><span>3×4 DataFrame</span></div><div style = \"clear: both;\"></div></div><div class = \"data-frame\" style = \"overflow-x: scroll;\"><table class = \"data-frame\" style = \"margin-bottom: 6px;\"><thead><tr class = \"header\"><th class = \"rowNumber\" style = \"font-weight: bold; text-align: right;\">Row</th><th style = \"text-align: left;\">A</th><th style = \"text-align: left;\">B</th><th style = \"text-align: left;\">C</th><th style = \"text-align: left;\">D</th></tr><tr class = \"subheader headerLastRow\"><th class = \"rowNumber\" style = \"font-weight: bold; text-align: right;\"></th><th title = \"Bool\" style = \"text-align: left;\">Bool</th><th title = \"Union{Missing, Int64}\" style = \"text-align: left;\">Int64?</th><th title = \"Union{Missing, String1}\" style = \"text-align: left;\">String1?</th><th title = \"Union{Missing, String1}\" style = \"text-align: left;\">String1?</th></tr></thead><tbody><tr><td class = \"rowNumber\" style = \"font-weight: bold; text-align: right;\">1</td><td style = \"text-align: right;\">true</td><td style = \"text-align: right;\">1</td><td style = \"font-style: italic; text-align: left;\">missing</td><td style = \"text-align: left;\">a</td></tr><tr><td class = \"rowNumber\" style = \"font-weight: bold; text-align: right;\">2</td><td style = \"text-align: right;\">false</td><td style = \"text-align: right;\">2</td><td style = \"text-align: left;\">b</td><td style = \"font-style: italic; text-align: left;\">missing</td></tr><tr><td class = \"rowNumber\" style = \"font-weight: bold; text-align: right;\">3</td><td style = \"text-align: right;\">true</td><td style = \"font-style: italic; text-align: right;\">missing</td><td style = \"text-align: left;\">c</td><td style = \"text-align: left;\">c</td></tr></tbody></table></div>"
      ],
      "text/latex": [
       "\\begin{tabular}{r|cccc}\n",
       "\t& A & B & C & D\\\\\n",
       "\t\\hline\n",
       "\t& Bool & Int64? & String1? & String1?\\\\\n",
       "\t\\hline\n",
       "\t1 & 1 & 1 & \\emph{missing} & a \\\\\n",
       "\t2 & 0 & 2 & b & \\emph{missing} \\\\\n",
       "\t3 & 1 & \\emph{missing} & c & c \\\\\n",
       "\\end{tabular}\n"
      ],
      "text/plain": [
       "\u001b[1m3×4 DataFrame\u001b[0m\n",
       "\u001b[1m Row \u001b[0m│\u001b[1m A     \u001b[0m\u001b[1m B       \u001b[0m\u001b[1m C        \u001b[0m\u001b[1m D        \u001b[0m\n",
       "     │\u001b[90m Bool  \u001b[0m\u001b[90m Int64?  \u001b[0m\u001b[90m String1? \u001b[0m\u001b[90m String1? \u001b[0m\n",
       "─────┼────────────────────────────────────\n",
       "   1 │  true        1 \u001b[90m missing  \u001b[0m a\n",
       "   2 │ false        2  b        \u001b[90m missing  \u001b[0m\n",
       "   3 │  true \u001b[90m missing \u001b[0m c         c"
      ]
     },
     "execution_count": 7,
     "metadata": {},
     "output_type": "execute_result"
    }
   ],
   "source": [
    "y = CSV.read(\"x1.csv\", DataFrame)"
   ]
  },
  {
   "cell_type": "markdown",
   "metadata": {},
   "source": [
    "Note that when loading in a `DataFrame` from a `CSV` the column type for columns `:C` `:D` have changed to use special strings defined in the InlineStrings.jl package."
   ]
  },
  {
   "cell_type": "code",
   "execution_count": 8,
   "metadata": {},
   "outputs": [
    {
     "data": {
      "text/plain": [
       "4-element Vector{Type}:\n",
       " Bool\n",
       " Union{Missing, Int64}\n",
       " Union{Missing, String1}\n",
       " Union{Missing, String1}"
      ]
     },
     "execution_count": 8,
     "metadata": {},
     "output_type": "execute_result"
    }
   ],
   "source": [
    "eltype.(eachcol(y))"
   ]
  },
  {
   "cell_type": "markdown",
   "metadata": {},
   "source": [
    "### Serialization, JDF.jl, and JLSO.jl\n",
    "\n",
    "#### Serialization"
   ]
  },
  {
   "cell_type": "markdown",
   "metadata": {},
   "source": [
    "Now we use serialization to save `x`.\n",
    "\n",
    "There are two ways to perform serialization. The first way is to use the `Serialization.serialize` as below:"
   ]
  },
  {
   "cell_type": "markdown",
   "metadata": {},
   "source": [
    "Note that in general, this process will not work if the reading and writing are done by different versions of Julia, or an instance of Julia with a different system image."
   ]
  },
  {
   "cell_type": "code",
   "execution_count": 9,
   "metadata": {},
   "outputs": [],
   "source": [
    "open(\"x.bin\", \"w\") do io\n",
    "    serialize(io, x)\n",
    "end"
   ]
  },
  {
   "cell_type": "markdown",
   "metadata": {},
   "source": [
    "Now we load back the saved file to `y` variable. Again `y` is identical to `x`. However, please beware that if you session does not have DataFrames.jl loaded, then it may not recognise the content as DataFrames.jl"
   ]
  },
  {
   "cell_type": "code",
   "execution_count": 10,
   "metadata": {},
   "outputs": [
    {
     "data": {
      "text/html": [
       "<div><div style = \"float: left;\"><span>3×4 DataFrame</span></div><div style = \"clear: both;\"></div></div><div class = \"data-frame\" style = \"overflow-x: scroll;\"><table class = \"data-frame\" style = \"margin-bottom: 6px;\"><thead><tr class = \"header\"><th class = \"rowNumber\" style = \"font-weight: bold; text-align: right;\">Row</th><th style = \"text-align: left;\">A</th><th style = \"text-align: left;\">B</th><th style = \"text-align: left;\">C</th><th style = \"text-align: left;\">D</th></tr><tr class = \"subheader headerLastRow\"><th class = \"rowNumber\" style = \"font-weight: bold; text-align: right;\"></th><th title = \"Bool\" style = \"text-align: left;\">Bool</th><th title = \"Union{Missing, Int64}\" style = \"text-align: left;\">Int64?</th><th title = \"Union{Missing, String}\" style = \"text-align: left;\">String?</th><th title = \"Union{Missing, Char}\" style = \"text-align: left;\">Char?</th></tr></thead><tbody><tr><td class = \"rowNumber\" style = \"font-weight: bold; text-align: right;\">1</td><td style = \"text-align: right;\">true</td><td style = \"text-align: right;\">1</td><td style = \"font-style: italic; text-align: left;\">missing</td><td style = \"text-align: left;\">a</td></tr><tr><td class = \"rowNumber\" style = \"font-weight: bold; text-align: right;\">2</td><td style = \"text-align: right;\">false</td><td style = \"text-align: right;\">2</td><td style = \"text-align: left;\">b</td><td style = \"font-style: italic; text-align: left;\">missing</td></tr><tr><td class = \"rowNumber\" style = \"font-weight: bold; text-align: right;\">3</td><td style = \"text-align: right;\">true</td><td style = \"font-style: italic; text-align: right;\">missing</td><td style = \"text-align: left;\">c</td><td style = \"text-align: left;\">c</td></tr></tbody></table></div>"
      ],
      "text/latex": [
       "\\begin{tabular}{r|cccc}\n",
       "\t& A & B & C & D\\\\\n",
       "\t\\hline\n",
       "\t& Bool & Int64? & String? & Char?\\\\\n",
       "\t\\hline\n",
       "\t1 & 1 & 1 & \\emph{missing} & a \\\\\n",
       "\t2 & 0 & 2 & b & \\emph{missing} \\\\\n",
       "\t3 & 1 & \\emph{missing} & c & c \\\\\n",
       "\\end{tabular}\n"
      ],
      "text/plain": [
       "\u001b[1m3×4 DataFrame\u001b[0m\n",
       "\u001b[1m Row \u001b[0m│\u001b[1m A     \u001b[0m\u001b[1m B       \u001b[0m\u001b[1m C       \u001b[0m\u001b[1m D       \u001b[0m\n",
       "     │\u001b[90m Bool  \u001b[0m\u001b[90m Int64?  \u001b[0m\u001b[90m String? \u001b[0m\u001b[90m Char?   \u001b[0m\n",
       "─────┼──────────────────────────────────\n",
       "   1 │  true        1 \u001b[90m missing \u001b[0m a\n",
       "   2 │ false        2  b       \u001b[90m missing \u001b[0m\n",
       "   3 │  true \u001b[90m missing \u001b[0m c        c"
      ]
     },
     "execution_count": 10,
     "metadata": {},
     "output_type": "execute_result"
    }
   ],
   "source": [
    "y = open(deserialize, \"x.bin\")"
   ]
  },
  {
   "cell_type": "code",
   "execution_count": 11,
   "metadata": {},
   "outputs": [
    {
     "data": {
      "text/plain": [
       "4-element Vector{Type}:\n",
       " Bool\n",
       " Union{Missing, Int64}\n",
       " Union{Missing, String}\n",
       " Union{Missing, Char}"
      ]
     },
     "execution_count": 11,
     "metadata": {},
     "output_type": "execute_result"
    }
   ],
   "source": [
    "eltype.(eachcol(y))"
   ]
  },
  {
   "cell_type": "markdown",
   "metadata": {},
   "source": [
    "#### JDF.jl\n",
    "\n",
    "[JDF.jl](https://github.com/xiaodaigh/JDF) is a relatively new package designed to serialize DataFrames. You can save a DataFrame with the `savejdf` function."
   ]
  },
  {
   "cell_type": "code",
   "execution_count": 12,
   "metadata": {},
   "outputs": [],
   "source": [
    "JDF.save(\"x.jdf\", x);"
   ]
  },
  {
   "cell_type": "markdown",
   "metadata": {},
   "source": [
    "To load the saved JDF file, one can use the `loadjdf` function"
   ]
  },
  {
   "cell_type": "code",
   "execution_count": 13,
   "metadata": {},
   "outputs": [
    {
     "data": {
      "text/html": [
       "<div><div style = \"float: left;\"><span>3×4 DataFrame</span></div><div style = \"clear: both;\"></div></div><div class = \"data-frame\" style = \"overflow-x: scroll;\"><table class = \"data-frame\" style = \"margin-bottom: 6px;\"><thead><tr class = \"header\"><th class = \"rowNumber\" style = \"font-weight: bold; text-align: right;\">Row</th><th style = \"text-align: left;\">A</th><th style = \"text-align: left;\">B</th><th style = \"text-align: left;\">C</th><th style = \"text-align: left;\">D</th></tr><tr class = \"subheader headerLastRow\"><th class = \"rowNumber\" style = \"font-weight: bold; text-align: right;\"></th><th title = \"Bool\" style = \"text-align: left;\">Bool</th><th title = \"Union{Missing, Int64}\" style = \"text-align: left;\">Int64?</th><th title = \"Union{Missing, String}\" style = \"text-align: left;\">String?</th><th title = \"Union{Missing, Char}\" style = \"text-align: left;\">Char?</th></tr></thead><tbody><tr><td class = \"rowNumber\" style = \"font-weight: bold; text-align: right;\">1</td><td style = \"text-align: right;\">true</td><td style = \"text-align: right;\">1</td><td style = \"font-style: italic; text-align: left;\">missing</td><td style = \"text-align: left;\">a</td></tr><tr><td class = \"rowNumber\" style = \"font-weight: bold; text-align: right;\">2</td><td style = \"text-align: right;\">false</td><td style = \"text-align: right;\">2</td><td style = \"text-align: left;\">b</td><td style = \"font-style: italic; text-align: left;\">missing</td></tr><tr><td class = \"rowNumber\" style = \"font-weight: bold; text-align: right;\">3</td><td style = \"text-align: right;\">true</td><td style = \"font-style: italic; text-align: right;\">missing</td><td style = \"text-align: left;\">c</td><td style = \"text-align: left;\">c</td></tr></tbody></table></div>"
      ],
      "text/latex": [
       "\\begin{tabular}{r|cccc}\n",
       "\t& A & B & C & D\\\\\n",
       "\t\\hline\n",
       "\t& Bool & Int64? & String? & Char?\\\\\n",
       "\t\\hline\n",
       "\t1 & 1 & 1 & \\emph{missing} & a \\\\\n",
       "\t2 & 0 & 2 & b & \\emph{missing} \\\\\n",
       "\t3 & 1 & \\emph{missing} & c & c \\\\\n",
       "\\end{tabular}\n"
      ],
      "text/plain": [
       "\u001b[1m3×4 DataFrame\u001b[0m\n",
       "\u001b[1m Row \u001b[0m│\u001b[1m A     \u001b[0m\u001b[1m B       \u001b[0m\u001b[1m C       \u001b[0m\u001b[1m D       \u001b[0m\n",
       "     │\u001b[90m Bool  \u001b[0m\u001b[90m Int64?  \u001b[0m\u001b[90m String? \u001b[0m\u001b[90m Char?   \u001b[0m\n",
       "─────┼──────────────────────────────────\n",
       "   1 │  true        1 \u001b[90m missing \u001b[0m a\n",
       "   2 │ false        2  b       \u001b[90m missing \u001b[0m\n",
       "   3 │  true \u001b[90m missing \u001b[0m c        c"
      ]
     },
     "execution_count": 13,
     "metadata": {},
     "output_type": "execute_result"
    }
   ],
   "source": [
    "x_loaded = JDF.load(\"x.jdf\") |> DataFrame"
   ]
  },
  {
   "cell_type": "markdown",
   "metadata": {},
   "source": [
    "You can see that they are the same"
   ]
  },
  {
   "cell_type": "code",
   "execution_count": 14,
   "metadata": {},
   "outputs": [
    {
     "data": {
      "text/plain": [
       "true"
      ]
     },
     "execution_count": 14,
     "metadata": {},
     "output_type": "execute_result"
    }
   ],
   "source": [
    "isequal(x_loaded, x)"
   ]
  },
  {
   "cell_type": "markdown",
   "metadata": {},
   "source": [
    "JDF.jl offers the ability to load only certain columns from disk to help with working with large files"
   ]
  },
  {
   "cell_type": "code",
   "execution_count": 15,
   "metadata": {},
   "outputs": [
    {
     "data": {
      "text/plain": [
       "JDFFile{String}(\"x.jdf\")"
      ]
     },
     "execution_count": 15,
     "metadata": {},
     "output_type": "execute_result"
    }
   ],
   "source": [
    "# set up a JDFFile which is a on disk representation of `x` backed by JDF.jl\n",
    "x_ondisk = jdf\"x.jdf\""
   ]
  },
  {
   "cell_type": "markdown",
   "metadata": {},
   "source": [
    "We can see all the names of `x` without loading it into memory"
   ]
  },
  {
   "cell_type": "code",
   "execution_count": 16,
   "metadata": {},
   "outputs": [
    {
     "data": {
      "text/plain": [
       "4-element Vector{Symbol}:\n",
       " :A\n",
       " :B\n",
       " :C\n",
       " :D"
      ]
     },
     "execution_count": 16,
     "metadata": {},
     "output_type": "execute_result"
    }
   ],
   "source": [
    "names(x_ondisk)"
   ]
  },
  {
   "cell_type": "markdown",
   "metadata": {},
   "source": [
    "The below is an example of how to load only columns `:A` and `:D` "
   ]
  },
  {
   "cell_type": "code",
   "execution_count": 17,
   "metadata": {},
   "outputs": [
    {
     "data": {
      "text/html": [
       "<div><div style = \"float: left;\"><span>3×2 DataFrame</span></div><div style = \"clear: both;\"></div></div><div class = \"data-frame\" style = \"overflow-x: scroll;\"><table class = \"data-frame\" style = \"margin-bottom: 6px;\"><thead><tr class = \"header\"><th class = \"rowNumber\" style = \"font-weight: bold; text-align: right;\">Row</th><th style = \"text-align: left;\">A</th><th style = \"text-align: left;\">D</th></tr><tr class = \"subheader headerLastRow\"><th class = \"rowNumber\" style = \"font-weight: bold; text-align: right;\"></th><th title = \"Bool\" style = \"text-align: left;\">Bool</th><th title = \"Union{Missing, Char}\" style = \"text-align: left;\">Char?</th></tr></thead><tbody><tr><td class = \"rowNumber\" style = \"font-weight: bold; text-align: right;\">1</td><td style = \"text-align: right;\">true</td><td style = \"text-align: left;\">a</td></tr><tr><td class = \"rowNumber\" style = \"font-weight: bold; text-align: right;\">2</td><td style = \"text-align: right;\">false</td><td style = \"font-style: italic; text-align: left;\">missing</td></tr><tr><td class = \"rowNumber\" style = \"font-weight: bold; text-align: right;\">3</td><td style = \"text-align: right;\">true</td><td style = \"text-align: left;\">c</td></tr></tbody></table></div>"
      ],
      "text/latex": [
       "\\begin{tabular}{r|cc}\n",
       "\t& A & D\\\\\n",
       "\t\\hline\n",
       "\t& Bool & Char?\\\\\n",
       "\t\\hline\n",
       "\t1 & 1 & a \\\\\n",
       "\t2 & 0 & \\emph{missing} \\\\\n",
       "\t3 & 1 & c \\\\\n",
       "\\end{tabular}\n"
      ],
      "text/plain": [
       "\u001b[1m3×2 DataFrame\u001b[0m\n",
       "\u001b[1m Row \u001b[0m│\u001b[1m A     \u001b[0m\u001b[1m D       \u001b[0m\n",
       "     │\u001b[90m Bool  \u001b[0m\u001b[90m Char?   \u001b[0m\n",
       "─────┼────────────────\n",
       "   1 │  true  a\n",
       "   2 │ false \u001b[90m missing \u001b[0m\n",
       "   3 │  true  c"
      ]
     },
     "execution_count": 17,
     "metadata": {},
     "output_type": "execute_result"
    }
   ],
   "source": [
    "xd = JDF.load(x_ondisk; cols = [\"A\", \"D\"]) |> DataFrame"
   ]
  },
  {
   "cell_type": "markdown",
   "metadata": {},
   "source": [
    "##### JDF.jl vs others\n",
    "\n",
    "For more details about design assumptions and limitations of JDF.jl check out https://github.com/xiaodaigh/JDF.jl."
   ]
  },
  {
   "cell_type": "markdown",
   "metadata": {},
   "source": [
    "#### JLSO.jl\n",
    "\n",
    "Another way to perform serialization is by using the [JLSO.jl](https://github.com/invenia/JLSO.jl) library:"
   ]
  },
  {
   "cell_type": "code",
   "execution_count": 18,
   "metadata": {},
   "outputs": [],
   "source": [
    "JLSO.save(\"x.jlso\", :data => x)"
   ]
  },
  {
   "cell_type": "markdown",
   "metadata": {},
   "source": [
    "Now we can laod back the file to `y`"
   ]
  },
  {
   "cell_type": "code",
   "execution_count": 19,
   "metadata": {},
   "outputs": [
    {
     "data": {
      "text/html": [
       "<div><div style = \"float: left;\"><span>3×4 DataFrame</span></div><div style = \"clear: both;\"></div></div><div class = \"data-frame\" style = \"overflow-x: scroll;\"><table class = \"data-frame\" style = \"margin-bottom: 6px;\"><thead><tr class = \"header\"><th class = \"rowNumber\" style = \"font-weight: bold; text-align: right;\">Row</th><th style = \"text-align: left;\">A</th><th style = \"text-align: left;\">B</th><th style = \"text-align: left;\">C</th><th style = \"text-align: left;\">D</th></tr><tr class = \"subheader headerLastRow\"><th class = \"rowNumber\" style = \"font-weight: bold; text-align: right;\"></th><th title = \"Bool\" style = \"text-align: left;\">Bool</th><th title = \"Union{Missing, Int64}\" style = \"text-align: left;\">Int64?</th><th title = \"Union{Missing, String}\" style = \"text-align: left;\">String?</th><th title = \"Union{Missing, Char}\" style = \"text-align: left;\">Char?</th></tr></thead><tbody><tr><td class = \"rowNumber\" style = \"font-weight: bold; text-align: right;\">1</td><td style = \"text-align: right;\">true</td><td style = \"text-align: right;\">1</td><td style = \"font-style: italic; text-align: left;\">missing</td><td style = \"text-align: left;\">a</td></tr><tr><td class = \"rowNumber\" style = \"font-weight: bold; text-align: right;\">2</td><td style = \"text-align: right;\">false</td><td style = \"text-align: right;\">2</td><td style = \"text-align: left;\">b</td><td style = \"font-style: italic; text-align: left;\">missing</td></tr><tr><td class = \"rowNumber\" style = \"font-weight: bold; text-align: right;\">3</td><td style = \"text-align: right;\">true</td><td style = \"font-style: italic; text-align: right;\">missing</td><td style = \"text-align: left;\">c</td><td style = \"text-align: left;\">c</td></tr></tbody></table></div>"
      ],
      "text/latex": [
       "\\begin{tabular}{r|cccc}\n",
       "\t& A & B & C & D\\\\\n",
       "\t\\hline\n",
       "\t& Bool & Int64? & String? & Char?\\\\\n",
       "\t\\hline\n",
       "\t1 & 1 & 1 & \\emph{missing} & a \\\\\n",
       "\t2 & 0 & 2 & b & \\emph{missing} \\\\\n",
       "\t3 & 1 & \\emph{missing} & c & c \\\\\n",
       "\\end{tabular}\n"
      ],
      "text/plain": [
       "\u001b[1m3×4 DataFrame\u001b[0m\n",
       "\u001b[1m Row \u001b[0m│\u001b[1m A     \u001b[0m\u001b[1m B       \u001b[0m\u001b[1m C       \u001b[0m\u001b[1m D       \u001b[0m\n",
       "     │\u001b[90m Bool  \u001b[0m\u001b[90m Int64?  \u001b[0m\u001b[90m String? \u001b[0m\u001b[90m Char?   \u001b[0m\n",
       "─────┼──────────────────────────────────\n",
       "   1 │  true        1 \u001b[90m missing \u001b[0m a\n",
       "   2 │ false        2  b       \u001b[90m missing \u001b[0m\n",
       "   3 │  true \u001b[90m missing \u001b[0m c        c"
      ]
     },
     "execution_count": 19,
     "metadata": {},
     "output_type": "execute_result"
    }
   ],
   "source": [
    "y = JLSO.load(\"x.jlso\")[:data]"
   ]
  },
  {
   "cell_type": "code",
   "execution_count": 20,
   "metadata": {},
   "outputs": [
    {
     "data": {
      "text/plain": [
       "4-element Vector{Type}:\n",
       " Bool\n",
       " Union{Missing, Int64}\n",
       " Union{Missing, String}\n",
       " Union{Missing, Char}"
      ]
     },
     "execution_count": 20,
     "metadata": {},
     "output_type": "execute_result"
    }
   ],
   "source": [
    "eltype.(eachcol(y))"
   ]
  },
  {
   "cell_type": "markdown",
   "metadata": {},
   "source": [
    "### JSONTables.jl"
   ]
  },
  {
   "cell_type": "markdown",
   "metadata": {},
   "source": [
    "Often you might need to read and write data stored in JSON format. JSONTables.jl provides a way to process them in row-oriented or column-oriented layout. We present both options below."
   ]
  },
  {
   "cell_type": "code",
   "execution_count": 21,
   "metadata": {},
   "outputs": [
    {
     "data": {
      "text/plain": [
       "106"
      ]
     },
     "execution_count": 21,
     "metadata": {},
     "output_type": "execute_result"
    }
   ],
   "source": [
    "open(io -> arraytable(io, x), \"x1.json\", \"w\")"
   ]
  },
  {
   "cell_type": "code",
   "execution_count": 22,
   "metadata": {},
   "outputs": [
    {
     "data": {
      "text/plain": [
       "76"
      ]
     },
     "execution_count": 22,
     "metadata": {},
     "output_type": "execute_result"
    }
   ],
   "source": [
    "open(io -> objecttable(io, x), \"x2.json\", \"w\")"
   ]
  },
  {
   "cell_type": "code",
   "execution_count": 23,
   "metadata": {},
   "outputs": [
    {
     "name": "stdout",
     "output_type": "stream",
     "text": [
      "[{\"A\":true,\"B\":1,\"C\":null,\"D\":\"a\"},{\"A\":false,\"B\":2,\"C\":\"b\",\"D\":null},{\"A\":true,\"B\":null,\"C\":\"c\",\"D\":\"c\"}]"
     ]
    }
   ],
   "source": [
    "print(read(\"x1.json\", String))"
   ]
  },
  {
   "cell_type": "code",
   "execution_count": 24,
   "metadata": {},
   "outputs": [
    {
     "name": "stdout",
     "output_type": "stream",
     "text": [
      "{\"A\":[true,false,true],\"B\":[1,2,null],\"C\":[null,\"b\",\"c\"],\"D\":[\"a\",null,\"c\"]}"
     ]
    }
   ],
   "source": [
    "print(read(\"x2.json\", String))"
   ]
  },
  {
   "cell_type": "code",
   "execution_count": 25,
   "metadata": {},
   "outputs": [
    {
     "data": {
      "text/html": [
       "<div><div style = \"float: left;\"><span>3×4 DataFrame</span></div><div style = \"clear: both;\"></div></div><div class = \"data-frame\" style = \"overflow-x: scroll;\"><table class = \"data-frame\" style = \"margin-bottom: 6px;\"><thead><tr class = \"header\"><th class = \"rowNumber\" style = \"font-weight: bold; text-align: right;\">Row</th><th style = \"text-align: left;\">A</th><th style = \"text-align: left;\">B</th><th style = \"text-align: left;\">C</th><th style = \"text-align: left;\">D</th></tr><tr class = \"subheader headerLastRow\"><th class = \"rowNumber\" style = \"font-weight: bold; text-align: right;\"></th><th title = \"Bool\" style = \"text-align: left;\">Bool</th><th title = \"Union{Missing, Int64}\" style = \"text-align: left;\">Int64?</th><th title = \"Union{Missing, String}\" style = \"text-align: left;\">String?</th><th title = \"Union{Missing, String}\" style = \"text-align: left;\">String?</th></tr></thead><tbody><tr><td class = \"rowNumber\" style = \"font-weight: bold; text-align: right;\">1</td><td style = \"text-align: right;\">true</td><td style = \"text-align: right;\">1</td><td style = \"font-style: italic; text-align: left;\">missing</td><td style = \"text-align: left;\">a</td></tr><tr><td class = \"rowNumber\" style = \"font-weight: bold; text-align: right;\">2</td><td style = \"text-align: right;\">false</td><td style = \"text-align: right;\">2</td><td style = \"text-align: left;\">b</td><td style = \"font-style: italic; text-align: left;\">missing</td></tr><tr><td class = \"rowNumber\" style = \"font-weight: bold; text-align: right;\">3</td><td style = \"text-align: right;\">true</td><td style = \"font-style: italic; text-align: right;\">missing</td><td style = \"text-align: left;\">c</td><td style = \"text-align: left;\">c</td></tr></tbody></table></div>"
      ],
      "text/latex": [
       "\\begin{tabular}{r|cccc}\n",
       "\t& A & B & C & D\\\\\n",
       "\t\\hline\n",
       "\t& Bool & Int64? & String? & String?\\\\\n",
       "\t\\hline\n",
       "\t1 & 1 & 1 & \\emph{missing} & a \\\\\n",
       "\t2 & 0 & 2 & b & \\emph{missing} \\\\\n",
       "\t3 & 1 & \\emph{missing} & c & c \\\\\n",
       "\\end{tabular}\n"
      ],
      "text/plain": [
       "\u001b[1m3×4 DataFrame\u001b[0m\n",
       "\u001b[1m Row \u001b[0m│\u001b[1m A     \u001b[0m\u001b[1m B       \u001b[0m\u001b[1m C       \u001b[0m\u001b[1m D       \u001b[0m\n",
       "     │\u001b[90m Bool  \u001b[0m\u001b[90m Int64?  \u001b[0m\u001b[90m String? \u001b[0m\u001b[90m String? \u001b[0m\n",
       "─────┼──────────────────────────────────\n",
       "   1 │  true        1 \u001b[90m missing \u001b[0m a\n",
       "   2 │ false        2  b       \u001b[90m missing \u001b[0m\n",
       "   3 │  true \u001b[90m missing \u001b[0m c        c"
      ]
     },
     "execution_count": 25,
     "metadata": {},
     "output_type": "execute_result"
    }
   ],
   "source": [
    "y1 = open(jsontable, \"x1.json\") |> DataFrame"
   ]
  },
  {
   "cell_type": "code",
   "execution_count": 26,
   "metadata": {},
   "outputs": [
    {
     "data": {
      "text/plain": [
       "4-element Vector{Type}:\n",
       " Bool\n",
       " Union{Missing, Int64}\n",
       " Union{Missing, String}\n",
       " Union{Missing, String}"
      ]
     },
     "execution_count": 26,
     "metadata": {},
     "output_type": "execute_result"
    }
   ],
   "source": [
    "eltype.(eachcol(y1))"
   ]
  },
  {
   "cell_type": "code",
   "execution_count": 27,
   "metadata": {},
   "outputs": [
    {
     "data": {
      "text/html": [
       "<div><div style = \"float: left;\"><span>3×4 DataFrame</span></div><div style = \"clear: both;\"></div></div><div class = \"data-frame\" style = \"overflow-x: scroll;\"><table class = \"data-frame\" style = \"margin-bottom: 6px;\"><thead><tr class = \"header\"><th class = \"rowNumber\" style = \"font-weight: bold; text-align: right;\">Row</th><th style = \"text-align: left;\">A</th><th style = \"text-align: left;\">B</th><th style = \"text-align: left;\">C</th><th style = \"text-align: left;\">D</th></tr><tr class = \"subheader headerLastRow\"><th class = \"rowNumber\" style = \"font-weight: bold; text-align: right;\"></th><th title = \"Bool\" style = \"text-align: left;\">Bool</th><th title = \"Union{Missing, Int64}\" style = \"text-align: left;\">Int64?</th><th title = \"Union{Missing, String}\" style = \"text-align: left;\">String?</th><th title = \"Union{Missing, String}\" style = \"text-align: left;\">String?</th></tr></thead><tbody><tr><td class = \"rowNumber\" style = \"font-weight: bold; text-align: right;\">1</td><td style = \"text-align: right;\">true</td><td style = \"text-align: right;\">1</td><td style = \"font-style: italic; text-align: left;\">missing</td><td style = \"text-align: left;\">a</td></tr><tr><td class = \"rowNumber\" style = \"font-weight: bold; text-align: right;\">2</td><td style = \"text-align: right;\">false</td><td style = \"text-align: right;\">2</td><td style = \"text-align: left;\">b</td><td style = \"font-style: italic; text-align: left;\">missing</td></tr><tr><td class = \"rowNumber\" style = \"font-weight: bold; text-align: right;\">3</td><td style = \"text-align: right;\">true</td><td style = \"font-style: italic; text-align: right;\">missing</td><td style = \"text-align: left;\">c</td><td style = \"text-align: left;\">c</td></tr></tbody></table></div>"
      ],
      "text/latex": [
       "\\begin{tabular}{r|cccc}\n",
       "\t& A & B & C & D\\\\\n",
       "\t\\hline\n",
       "\t& Bool & Int64? & String? & String?\\\\\n",
       "\t\\hline\n",
       "\t1 & 1 & 1 & \\emph{missing} & a \\\\\n",
       "\t2 & 0 & 2 & b & \\emph{missing} \\\\\n",
       "\t3 & 1 & \\emph{missing} & c & c \\\\\n",
       "\\end{tabular}\n"
      ],
      "text/plain": [
       "\u001b[1m3×4 DataFrame\u001b[0m\n",
       "\u001b[1m Row \u001b[0m│\u001b[1m A     \u001b[0m\u001b[1m B       \u001b[0m\u001b[1m C       \u001b[0m\u001b[1m D       \u001b[0m\n",
       "     │\u001b[90m Bool  \u001b[0m\u001b[90m Int64?  \u001b[0m\u001b[90m String? \u001b[0m\u001b[90m String? \u001b[0m\n",
       "─────┼──────────────────────────────────\n",
       "   1 │  true        1 \u001b[90m missing \u001b[0m a\n",
       "   2 │ false        2  b       \u001b[90m missing \u001b[0m\n",
       "   3 │  true \u001b[90m missing \u001b[0m c        c"
      ]
     },
     "execution_count": 27,
     "metadata": {},
     "output_type": "execute_result"
    }
   ],
   "source": [
    "y2 = open(jsontable, \"x2.json\") |> DataFrame"
   ]
  },
  {
   "cell_type": "code",
   "execution_count": 28,
   "metadata": {},
   "outputs": [
    {
     "data": {
      "text/plain": [
       "4-element Vector{Type}:\n",
       " Bool\n",
       " Union{Missing, Int64}\n",
       " Union{Missing, String}\n",
       " Union{Missing, String}"
      ]
     },
     "execution_count": 28,
     "metadata": {},
     "output_type": "execute_result"
    }
   ],
   "source": [
    "eltype.(eachcol(y2))"
   ]
  },
  {
   "cell_type": "markdown",
   "metadata": {},
   "source": [
    "### Arrow.jl"
   ]
  },
  {
   "cell_type": "markdown",
   "metadata": {},
   "source": [
    "Finally we use Apache Arrow format that allows, in particular, for data interchange with R or Python."
   ]
  },
  {
   "cell_type": "code",
   "execution_count": 29,
   "metadata": {},
   "outputs": [
    {
     "data": {
      "text/plain": [
       "\"x.arrow\""
      ]
     },
     "execution_count": 29,
     "metadata": {},
     "output_type": "execute_result"
    }
   ],
   "source": [
    "Arrow.write(\"x.arrow\", x)"
   ]
  },
  {
   "cell_type": "code",
   "execution_count": 30,
   "metadata": {},
   "outputs": [
    {
     "data": {
      "text/html": [
       "<div><div style = \"float: left;\"><span>3×4 DataFrame</span></div><div style = \"clear: both;\"></div></div><div class = \"data-frame\" style = \"overflow-x: scroll;\"><table class = \"data-frame\" style = \"margin-bottom: 6px;\"><thead><tr class = \"header\"><th class = \"rowNumber\" style = \"font-weight: bold; text-align: right;\">Row</th><th style = \"text-align: left;\">A</th><th style = \"text-align: left;\">B</th><th style = \"text-align: left;\">C</th><th style = \"text-align: left;\">D</th></tr><tr class = \"subheader headerLastRow\"><th class = \"rowNumber\" style = \"font-weight: bold; text-align: right;\"></th><th title = \"Bool\" style = \"text-align: left;\">Bool</th><th title = \"Union{Missing, Int64}\" style = \"text-align: left;\">Int64?</th><th title = \"Union{Missing, String}\" style = \"text-align: left;\">String?</th><th title = \"Union{Missing, Char}\" style = \"text-align: left;\">Char?</th></tr></thead><tbody><tr><td class = \"rowNumber\" style = \"font-weight: bold; text-align: right;\">1</td><td style = \"text-align: right;\">true</td><td style = \"text-align: right;\">1</td><td style = \"font-style: italic; text-align: left;\">missing</td><td style = \"text-align: left;\">a</td></tr><tr><td class = \"rowNumber\" style = \"font-weight: bold; text-align: right;\">2</td><td style = \"text-align: right;\">false</td><td style = \"text-align: right;\">2</td><td style = \"text-align: left;\">b</td><td style = \"font-style: italic; text-align: left;\">missing</td></tr><tr><td class = \"rowNumber\" style = \"font-weight: bold; text-align: right;\">3</td><td style = \"text-align: right;\">true</td><td style = \"font-style: italic; text-align: right;\">missing</td><td style = \"text-align: left;\">c</td><td style = \"text-align: left;\">c</td></tr></tbody></table></div>"
      ],
      "text/latex": [
       "\\begin{tabular}{r|cccc}\n",
       "\t& A & B & C & D\\\\\n",
       "\t\\hline\n",
       "\t& Bool & Int64? & String? & Char?\\\\\n",
       "\t\\hline\n",
       "\t1 & 1 & 1 & \\emph{missing} & a \\\\\n",
       "\t2 & 0 & 2 & b & \\emph{missing} \\\\\n",
       "\t3 & 1 & \\emph{missing} & c & c \\\\\n",
       "\\end{tabular}\n"
      ],
      "text/plain": [
       "\u001b[1m3×4 DataFrame\u001b[0m\n",
       "\u001b[1m Row \u001b[0m│\u001b[1m A     \u001b[0m\u001b[1m B       \u001b[0m\u001b[1m C       \u001b[0m\u001b[1m D       \u001b[0m\n",
       "     │\u001b[90m Bool  \u001b[0m\u001b[90m Int64?  \u001b[0m\u001b[90m String? \u001b[0m\u001b[90m Char?   \u001b[0m\n",
       "─────┼──────────────────────────────────\n",
       "   1 │  true        1 \u001b[90m missing \u001b[0m a\n",
       "   2 │ false        2  b       \u001b[90m missing \u001b[0m\n",
       "   3 │  true \u001b[90m missing \u001b[0m c        c"
      ]
     },
     "execution_count": 30,
     "metadata": {},
     "output_type": "execute_result"
    }
   ],
   "source": [
    "y = Arrow.Table(\"x.arrow\") |> DataFrame"
   ]
  },
  {
   "cell_type": "code",
   "execution_count": 31,
   "metadata": {},
   "outputs": [
    {
     "data": {
      "text/plain": [
       "4-element Vector{Type}:\n",
       " Bool\n",
       " Union{Missing, Int64}\n",
       " Union{Missing, String}\n",
       " Union{Missing, Char}"
      ]
     },
     "execution_count": 31,
     "metadata": {},
     "output_type": "execute_result"
    }
   ],
   "source": [
    "eltype.(eachcol(y))"
   ]
  },
  {
   "cell_type": "markdown",
   "metadata": {},
   "source": [
    "Note that columns of `y` are immutable"
   ]
  },
  {
   "cell_type": "code",
   "execution_count": 32,
   "metadata": {},
   "outputs": [
    {
     "ename": "LoadError",
     "evalue": "ReadOnlyMemoryError()",
     "output_type": "error",
     "traceback": [
      "ReadOnlyMemoryError()",
      "",
      "Stacktrace:",
      " [1] setindex!",
      "   @ .\\array.jl:966 [inlined]",
      " [2] setindex!(p::Arrow.BoolVector{Bool}, v::Bool, i::Int64)",
      "   @ Arrow C:\\Users\\bogum\\.julia\\packages\\Arrow\\ZlMFU\\src\\arraytypes\\bool.jl:49",
      " [3] top-level scope",
      "   @ In[32]:1",
      " [4] eval",
      "   @ .\\boot.jl:368 [inlined]",
      " [5] include_string(mapexpr::typeof(REPL.softscope), mod::Module, code::String, filename::String)",
      "   @ Base .\\loading.jl:1428"
     ]
    }
   ],
   "source": [
    "y.A[1] = false"
   ]
  },
  {
   "cell_type": "markdown",
   "metadata": {},
   "source": [
    "This is because `Arrow.Table` uses memory mapping and thus uses a custom vector types:"
   ]
  },
  {
   "cell_type": "code",
   "execution_count": 33,
   "metadata": {},
   "outputs": [
    {
     "data": {
      "text/plain": [
       "3-element Arrow.BoolVector{Bool}:\n",
       " 1\n",
       " 0\n",
       " 1"
      ]
     },
     "execution_count": 33,
     "metadata": {},
     "output_type": "execute_result"
    }
   ],
   "source": [
    "y.A"
   ]
  },
  {
   "cell_type": "code",
   "execution_count": 34,
   "metadata": {},
   "outputs": [
    {
     "data": {
      "text/plain": [
       "3-element Arrow.Primitive{Union{Missing, Int64}, Vector{Int64}}:\n",
       " 1\n",
       " 2\n",
       "  missing"
      ]
     },
     "execution_count": 34,
     "metadata": {},
     "output_type": "execute_result"
    }
   ],
   "source": [
    "y.B"
   ]
  },
  {
   "cell_type": "markdown",
   "metadata": {},
   "source": [
    "You can get standard Julia Base vectors by copying a data frame"
   ]
  },
  {
   "cell_type": "code",
   "execution_count": 35,
   "metadata": {},
   "outputs": [
    {
     "data": {
      "text/html": [
       "<div><div style = \"float: left;\"><span>3×4 DataFrame</span></div><div style = \"clear: both;\"></div></div><div class = \"data-frame\" style = \"overflow-x: scroll;\"><table class = \"data-frame\" style = \"margin-bottom: 6px;\"><thead><tr class = \"header\"><th class = \"rowNumber\" style = \"font-weight: bold; text-align: right;\">Row</th><th style = \"text-align: left;\">A</th><th style = \"text-align: left;\">B</th><th style = \"text-align: left;\">C</th><th style = \"text-align: left;\">D</th></tr><tr class = \"subheader headerLastRow\"><th class = \"rowNumber\" style = \"font-weight: bold; text-align: right;\"></th><th title = \"Bool\" style = \"text-align: left;\">Bool</th><th title = \"Union{Missing, Int64}\" style = \"text-align: left;\">Int64?</th><th title = \"Union{Missing, String}\" style = \"text-align: left;\">String?</th><th title = \"Union{Missing, Char}\" style = \"text-align: left;\">Char?</th></tr></thead><tbody><tr><td class = \"rowNumber\" style = \"font-weight: bold; text-align: right;\">1</td><td style = \"text-align: right;\">true</td><td style = \"text-align: right;\">1</td><td style = \"font-style: italic; text-align: left;\">missing</td><td style = \"text-align: left;\">a</td></tr><tr><td class = \"rowNumber\" style = \"font-weight: bold; text-align: right;\">2</td><td style = \"text-align: right;\">false</td><td style = \"text-align: right;\">2</td><td style = \"text-align: left;\">b</td><td style = \"font-style: italic; text-align: left;\">missing</td></tr><tr><td class = \"rowNumber\" style = \"font-weight: bold; text-align: right;\">3</td><td style = \"text-align: right;\">true</td><td style = \"font-style: italic; text-align: right;\">missing</td><td style = \"text-align: left;\">c</td><td style = \"text-align: left;\">c</td></tr></tbody></table></div>"
      ],
      "text/latex": [
       "\\begin{tabular}{r|cccc}\n",
       "\t& A & B & C & D\\\\\n",
       "\t\\hline\n",
       "\t& Bool & Int64? & String? & Char?\\\\\n",
       "\t\\hline\n",
       "\t1 & 1 & 1 & \\emph{missing} & a \\\\\n",
       "\t2 & 0 & 2 & b & \\emph{missing} \\\\\n",
       "\t3 & 1 & \\emph{missing} & c & c \\\\\n",
       "\\end{tabular}\n"
      ],
      "text/plain": [
       "\u001b[1m3×4 DataFrame\u001b[0m\n",
       "\u001b[1m Row \u001b[0m│\u001b[1m A     \u001b[0m\u001b[1m B       \u001b[0m\u001b[1m C       \u001b[0m\u001b[1m D       \u001b[0m\n",
       "     │\u001b[90m Bool  \u001b[0m\u001b[90m Int64?  \u001b[0m\u001b[90m String? \u001b[0m\u001b[90m Char?   \u001b[0m\n",
       "─────┼──────────────────────────────────\n",
       "   1 │  true        1 \u001b[90m missing \u001b[0m a\n",
       "   2 │ false        2  b       \u001b[90m missing \u001b[0m\n",
       "   3 │  true \u001b[90m missing \u001b[0m c        c"
      ]
     },
     "execution_count": 35,
     "metadata": {},
     "output_type": "execute_result"
    }
   ],
   "source": [
    "y2 = copy(y)"
   ]
  },
  {
   "cell_type": "code",
   "execution_count": 36,
   "metadata": {},
   "outputs": [
    {
     "data": {
      "text/plain": [
       "3-element Vector{Bool}:\n",
       " 1\n",
       " 0\n",
       " 1"
      ]
     },
     "execution_count": 36,
     "metadata": {},
     "output_type": "execute_result"
    }
   ],
   "source": [
    "y2.A"
   ]
  },
  {
   "cell_type": "code",
   "execution_count": 37,
   "metadata": {},
   "outputs": [
    {
     "data": {
      "text/plain": [
       "3-element Vector{Union{Missing, Int64}}:\n",
       " 1\n",
       " 2\n",
       "  missing"
      ]
     },
     "execution_count": 37,
     "metadata": {},
     "output_type": "execute_result"
    }
   ],
   "source": [
    "y2.B"
   ]
  },
  {
   "cell_type": "markdown",
   "metadata": {},
   "source": [
    "### Basic bechmarking"
   ]
  },
  {
   "cell_type": "markdown",
   "metadata": {},
   "source": [
    "Next, we'll create some files, so be careful that you don't already have these files in your working directory!\n",
    "\n",
    "In particular, we'll time how long it takes us to write a `DataFrame` with 10^3 rows and 10^5 columns."
   ]
  },
  {
   "cell_type": "code",
   "execution_count": 38,
   "metadata": {},
   "outputs": [
    {
     "name": "stdout",
     "output_type": "stream",
     "text": [
      "First run\n",
      "CSV.jl\n",
      " 41.618369 seconds (598.97 M allocations: 16.426 GiB, 4.29% gc time, 6.77% compilation time)\n",
      "Serialization\n",
      "  1.565913 seconds (415.54 k allocations: 18.105 MiB, 3.39% compilation time)\n",
      "JDF.jl\n",
      "  1.161739 seconds (86.31 k allocations: 323.954 MiB, 3.11% gc time, 3.92% compilation time)\n",
      "JLSO.jl\n",
      "  8.546654 seconds (373.20 k allocations: 35.287 MiB, 0.19% gc time, 0.74% compilation time)\n",
      "Arrow.jl\n",
      "  2.606477 seconds (7.04 M allocations: 364.835 MiB, 0.92% gc time, 74.14% compilation time)\n",
      "JSONTables.jl arraytable\n",
      "128.912625 seconds (2.30 G allocations: 53.866 GiB, 6.59% gc time, 0.12% compilation time)\n",
      "JSONTables.jl objecttable\n",
      "  2.268418 seconds (195.63 k allocations: 2.717 GiB, 6.33% gc time, 9.22% compilation time)\n",
      "Second run\n",
      "CSV.jl\n",
      " 41.494548 seconds (597.48 M allocations: 16.358 GiB, 5.36% gc time)\n",
      "Serialization\n",
      "  1.640524 seconds (105.31 k allocations: 2.232 MiB, 0.41% compilation time)\n",
      "JDF.jl\n",
      "  0.995465 seconds (43.14 k allocations: 321.779 MiB, 3.73% gc time)\n",
      "JLSO.jl\n",
      "  8.647692 seconds (130.54 k allocations: 22.970 MiB)\n",
      "Arrow.jl\n",
      "  0.697370 seconds (1.60 M allocations: 44.406 MiB, 2.19% gc time)\n",
      "JSONTables.jl arraytable\n",
      "126.647126 seconds (2.30 G allocations: 53.843 GiB, 6.50% gc time, 0.01% compilation time)\n",
      "JSONTables.jl objecttable\n",
      "  1.837892 seconds (16.95 k allocations: 2.710 GiB, 6.67% gc time, 0.33% compilation time)\n"
     ]
    },
    {
     "data": {
      "text/plain": [
       "1.8382283"
      ]
     },
     "execution_count": 38,
     "metadata": {},
     "output_type": "execute_result"
    }
   ],
   "source": [
    "bigdf = DataFrame(rand(Bool, 10^5, 1000), :auto)\n",
    "bigdf[!, 1] = Int.(bigdf[!, 1])\n",
    "bigdf[!, 2] = bigdf[!, 2] .+ 0.5\n",
    "bigdf[!, 3] = string.(bigdf[!, 3], \", as string\")\n",
    "println(\"First run\")\n",
    "println(\"CSV.jl\")\n",
    "csvwrite1 = @elapsed @time CSV.write(\"bigdf1.csv\", bigdf)\n",
    "println(\"Serialization\")\n",
    "serializewrite1 = @elapsed @time open(io -> serialize(io, bigdf), \"bigdf.bin\", \"w\")\n",
    "println(\"JDF.jl\")\n",
    "jdfwrite1 = @elapsed @time JDF.save(\"bigdf.jdf\", bigdf)\n",
    "println(\"JLSO.jl\")\n",
    "jlsowrite1 = @elapsed @time JLSO.save(\"bigdf.jlso\", :data => bigdf)\n",
    "println(\"Arrow.jl\")\n",
    "arrowwrite1 = @elapsed @time Arrow.write(\"bigdf.arrow\", bigdf)\n",
    "println(\"JSONTables.jl arraytable\")\n",
    "jsontablesawrite1 = @elapsed @time open(io -> arraytable(io, bigdf), \"bigdf1.json\", \"w\")\n",
    "println(\"JSONTables.jl objecttable\")\n",
    "jsontablesowrite1 = @elapsed @time open(io -> objecttable(io, bigdf), \"bigdf2.json\", \"w\")\n",
    "println(\"Second run\")\n",
    "println(\"CSV.jl\")\n",
    "csvwrite2 = @elapsed @time CSV.write(\"bigdf1.csv\", bigdf)\n",
    "println(\"Serialization\")\n",
    "serializewrite2 = @elapsed @time open(io -> serialize(io, bigdf), \"bigdf.bin\", \"w\")\n",
    "println(\"JDF.jl\")\n",
    "jdfwrite2 = @elapsed @time JDF.save(\"bigdf.jdf\", bigdf)\n",
    "println(\"JLSO.jl\")\n",
    "jlsowrite2 = @elapsed @time JLSO.save(\"bigdf.jlso\", :data => bigdf)\n",
    "println(\"Arrow.jl\")\n",
    "arrowwrite2 = @elapsed @time Arrow.write(\"bigdf.arrow\", bigdf)\n",
    "println(\"JSONTables.jl arraytable\")\n",
    "jsontablesawrite2 = @elapsed @time open(io -> arraytable(io, bigdf), \"bigdf1.json\", \"w\")\n",
    "println(\"JSONTables.jl objecttable\")\n",
    "jsontablesowrite2 = @elapsed @time open(io -> objecttable(io, bigdf), \"bigdf2.json\", \"w\")"
   ]
  },
  {
   "cell_type": "code",
   "execution_count": 39,
   "metadata": {},
   "outputs": [
    {
     "data": {
      "image/svg+xml": [
       "<?xml version=\"1.0\" encoding=\"utf-8\"?>\n",
       "<svg xmlns=\"http://www.w3.org/2000/svg\" xmlns:xlink=\"http://www.w3.org/1999/xlink\" width=\"600\" height=\"400\" viewBox=\"0 0 2400 1600\">\n",
       "<defs>\n",
       "  <clipPath id=\"clip810\">\n",
       "    <rect x=\"0\" y=\"0\" width=\"2400\" height=\"1600\"/>\n",
       "  </clipPath>\n",
       "</defs>\n",
       "<path clip-path=\"url(#clip810)\" d=\"\n",
       "M0 1600 L2400 1600 L2400 0 L0 0  Z\n",
       "  \" fill=\"#ffffff\" fill-rule=\"evenodd\" fill-opacity=\"1\"/>\n",
       "<defs>\n",
       "  <clipPath id=\"clip811\">\n",
       "    <rect x=\"480\" y=\"0\" width=\"1681\" height=\"1600\"/>\n",
       "  </clipPath>\n",
       "</defs>\n",
       "<path clip-path=\"url(#clip810)\" d=\"\n",
       "M205.121 1451.89 L2352.76 1451.89 L2352.76 244.432 L205.121 244.432  Z\n",
       "  \" fill=\"#ffffff\" fill-rule=\"evenodd\" fill-opacity=\"1\"/>\n",
       "<defs>\n",
       "  <clipPath id=\"clip812\">\n",
       "    <rect x=\"205\" y=\"244\" width=\"2149\" height=\"1208\"/>\n",
       "  </clipPath>\n",
       "</defs>\n",
       "<polyline clip-path=\"url(#clip812)\" style=\"stroke:#000000; stroke-linecap:round; stroke-linejoin:round; stroke-width:2; stroke-opacity:0.1; fill:none\" points=\"\n",
       "  451.836,1451.89 451.836,244.432 \n",
       "  \"/>\n",
       "<polyline clip-path=\"url(#clip812)\" style=\"stroke:#000000; stroke-linecap:round; stroke-linejoin:round; stroke-width:2; stroke-opacity:0.1; fill:none\" points=\"\n",
       "  782.677,1451.89 782.677,244.432 \n",
       "  \"/>\n",
       "<polyline clip-path=\"url(#clip812)\" style=\"stroke:#000000; stroke-linecap:round; stroke-linejoin:round; stroke-width:2; stroke-opacity:0.1; fill:none\" points=\"\n",
       "  1113.52,1451.89 1113.52,244.432 \n",
       "  \"/>\n",
       "<polyline clip-path=\"url(#clip812)\" style=\"stroke:#000000; stroke-linecap:round; stroke-linejoin:round; stroke-width:2; stroke-opacity:0.1; fill:none\" points=\"\n",
       "  1444.36,1451.89 1444.36,244.432 \n",
       "  \"/>\n",
       "<polyline clip-path=\"url(#clip812)\" style=\"stroke:#000000; stroke-linecap:round; stroke-linejoin:round; stroke-width:2; stroke-opacity:0.1; fill:none\" points=\"\n",
       "  1775.2,1451.89 1775.2,244.432 \n",
       "  \"/>\n",
       "<polyline clip-path=\"url(#clip812)\" style=\"stroke:#000000; stroke-linecap:round; stroke-linejoin:round; stroke-width:2; stroke-opacity:0.1; fill:none\" points=\"\n",
       "  2106.04,1451.89 2106.04,244.432 \n",
       "  \"/>\n",
       "<polyline clip-path=\"url(#clip810)\" style=\"stroke:#000000; stroke-linecap:round; stroke-linejoin:round; stroke-width:4; stroke-opacity:1; fill:none\" points=\"\n",
       "  205.121,1451.89 2352.76,1451.89 \n",
       "  \"/>\n",
       "<polyline clip-path=\"url(#clip810)\" style=\"stroke:#000000; stroke-linecap:round; stroke-linejoin:round; stroke-width:4; stroke-opacity:1; fill:none\" points=\"\n",
       "  451.836,1451.89 451.836,1432.99 \n",
       "  \"/>\n",
       "<polyline clip-path=\"url(#clip810)\" style=\"stroke:#000000; stroke-linecap:round; stroke-linejoin:round; stroke-width:4; stroke-opacity:1; fill:none\" points=\"\n",
       "  782.677,1451.89 782.677,1432.99 \n",
       "  \"/>\n",
       "<polyline clip-path=\"url(#clip810)\" style=\"stroke:#000000; stroke-linecap:round; stroke-linejoin:round; stroke-width:4; stroke-opacity:1; fill:none\" points=\"\n",
       "  1113.52,1451.89 1113.52,1432.99 \n",
       "  \"/>\n",
       "<polyline clip-path=\"url(#clip810)\" style=\"stroke:#000000; stroke-linecap:round; stroke-linejoin:round; stroke-width:4; stroke-opacity:1; fill:none\" points=\"\n",
       "  1444.36,1451.89 1444.36,1432.99 \n",
       "  \"/>\n",
       "<polyline clip-path=\"url(#clip810)\" style=\"stroke:#000000; stroke-linecap:round; stroke-linejoin:round; stroke-width:4; stroke-opacity:1; fill:none\" points=\"\n",
       "  1775.2,1451.89 1775.2,1432.99 \n",
       "  \"/>\n",
       "<polyline clip-path=\"url(#clip810)\" style=\"stroke:#000000; stroke-linecap:round; stroke-linejoin:round; stroke-width:4; stroke-opacity:1; fill:none\" points=\"\n",
       "  2106.04,1451.89 2106.04,1432.99 \n",
       "  \"/>\n",
       "<path clip-path=\"url(#clip810)\" d=\"M382.889 1484.33 L376.547 1501.53 L389.255 1501.53 L382.889 1484.33 M380.251 1479.73 L385.551 1479.73 L398.723 1514.29 L393.862 1514.29 L390.713 1505.42 L375.135 1505.42 L371.987 1514.29 L367.056 1514.29 L380.251 1479.73 Z\" fill=\"#000000\" fill-rule=\"evenodd\" fill-opacity=\"1\" /><path clip-path=\"url(#clip810)\" d=\"M418.607 1492.34 Q417.889 1491.93 417.033 1491.74 Q416.199 1491.53 415.181 1491.53 Q411.57 1491.53 409.625 1493.89 Q407.704 1496.23 407.704 1500.63 L407.704 1514.29 L403.422 1514.29 L403.422 1488.36 L407.704 1488.36 L407.704 1492.39 Q409.047 1490.03 411.199 1488.89 Q413.352 1487.74 416.431 1487.74 Q416.871 1487.74 417.403 1487.81 Q417.935 1487.85 418.584 1487.97 L418.607 1492.34 Z\" fill=\"#000000\" fill-rule=\"evenodd\" fill-opacity=\"1\" /><path clip-path=\"url(#clip810)\" d=\"M437.264 1492.34 Q436.547 1491.93 435.69 1491.74 Q434.857 1491.53 433.838 1491.53 Q430.227 1491.53 428.283 1493.89 Q426.361 1496.23 426.361 1500.63 L426.361 1514.29 L422.079 1514.29 L422.079 1488.36 L426.361 1488.36 L426.361 1492.39 Q427.704 1490.03 429.857 1488.89 Q432.009 1487.74 435.088 1487.74 Q435.528 1487.74 436.06 1487.81 Q436.593 1487.85 437.241 1487.97 L437.264 1492.34 Z\" fill=\"#000000\" fill-rule=\"evenodd\" fill-opacity=\"1\" /><path clip-path=\"url(#clip810)\" d=\"M450.736 1491.35 Q447.31 1491.35 445.32 1494.03 Q443.329 1496.7 443.329 1501.35 Q443.329 1506 445.296 1508.69 Q447.287 1511.35 450.736 1511.35 Q454.139 1511.35 456.13 1508.66 Q458.12 1505.98 458.12 1501.35 Q458.12 1496.74 456.13 1494.06 Q454.139 1491.35 450.736 1491.35 M450.736 1487.74 Q456.292 1487.74 459.463 1491.35 Q462.634 1494.96 462.634 1501.35 Q462.634 1507.71 459.463 1511.35 Q456.292 1514.96 450.736 1514.96 Q445.158 1514.96 441.986 1511.35 Q438.838 1507.71 438.838 1501.35 Q438.838 1494.96 441.986 1491.35 Q445.158 1487.74 450.736 1487.74 Z\" fill=\"#000000\" fill-rule=\"evenodd\" fill-opacity=\"1\" /><path clip-path=\"url(#clip810)\" d=\"M467.218 1488.36 L471.477 1488.36 L476.801 1508.59 L482.102 1488.36 L487.125 1488.36 L492.449 1508.59 L497.75 1488.36 L502.009 1488.36 L495.227 1514.29 L490.204 1514.29 L484.625 1493.04 L479.023 1514.29 L474 1514.29 L467.218 1488.36 Z\" fill=\"#000000\" fill-rule=\"evenodd\" fill-opacity=\"1\" /><path clip-path=\"url(#clip810)\" d=\"M504.717 1508.41 L509.602 1508.41 L509.602 1514.29 L504.717 1514.29 L504.717 1508.41 Z\" fill=\"#000000\" fill-rule=\"evenodd\" fill-opacity=\"1\" /><path clip-path=\"url(#clip810)\" d=\"M519.185 1488.36 L523.444 1488.36 L523.444 1514.75 Q523.444 1519.7 521.546 1521.93 Q519.671 1524.15 515.481 1524.15 L513.861 1524.15 L513.861 1520.54 L514.995 1520.54 Q517.426 1520.54 518.305 1519.4 Q519.185 1518.29 519.185 1514.75 L519.185 1488.36 M519.185 1478.27 L523.444 1478.27 L523.444 1483.66 L519.185 1483.66 L519.185 1478.27 Z\" fill=\"#000000\" fill-rule=\"evenodd\" fill-opacity=\"1\" /><path clip-path=\"url(#clip810)\" d=\"M532.356 1478.27 L536.615 1478.27 L536.615 1514.29 L532.356 1514.29 L532.356 1478.27 Z\" fill=\"#000000\" fill-rule=\"evenodd\" fill-opacity=\"1\" /><path clip-path=\"url(#clip810)\" d=\"M748.638 1482.39 L748.638 1487.32 Q746.277 1485.12 743.591 1484.03 Q740.929 1482.95 737.92 1482.95 Q731.994 1482.95 728.846 1486.58 Q725.698 1490.19 725.698 1497.04 Q725.698 1503.87 728.846 1507.51 Q731.994 1511.12 737.92 1511.12 Q740.929 1511.12 743.591 1510.03 Q746.277 1508.94 748.638 1506.74 L748.638 1511.63 Q746.184 1513.29 743.429 1514.13 Q740.698 1514.96 737.642 1514.96 Q729.795 1514.96 725.281 1510.17 Q720.767 1505.35 720.767 1497.04 Q720.767 1488.71 725.281 1483.92 Q729.795 1479.1 737.642 1479.1 Q740.744 1479.1 743.476 1479.94 Q746.23 1480.75 748.638 1482.39 Z\" fill=\"#000000\" fill-rule=\"evenodd\" fill-opacity=\"1\" /><path clip-path=\"url(#clip810)\" d=\"M776.577 1480.86 L776.577 1485.42 Q773.915 1484.15 771.554 1483.52 Q769.193 1482.9 766.994 1482.9 Q763.175 1482.9 761.091 1484.38 Q759.031 1485.86 759.031 1488.59 Q759.031 1490.89 760.397 1492.07 Q761.786 1493.22 765.628 1493.94 L768.452 1494.52 Q773.684 1495.51 776.161 1498.04 Q778.661 1500.54 778.661 1504.75 Q778.661 1509.77 775.281 1512.37 Q771.925 1514.96 765.42 1514.96 Q762.966 1514.96 760.189 1514.4 Q757.434 1513.85 754.471 1512.76 L754.471 1507.95 Q757.318 1509.54 760.05 1510.35 Q762.781 1511.16 765.42 1511.16 Q769.425 1511.16 771.601 1509.59 Q773.776 1508.01 773.776 1505.1 Q773.776 1502.55 772.202 1501.12 Q770.651 1499.68 767.087 1498.96 L764.239 1498.41 Q759.008 1497.37 756.67 1495.14 Q754.332 1492.92 754.332 1488.96 Q754.332 1484.38 757.55 1481.74 Q760.79 1479.1 766.462 1479.1 Q768.892 1479.1 771.415 1479.54 Q773.938 1479.98 776.577 1480.86 Z\" fill=\"#000000\" fill-rule=\"evenodd\" fill-opacity=\"1\" /><path clip-path=\"url(#clip810)\" d=\"M794.864 1514.29 L781.67 1479.73 L786.554 1479.73 L797.503 1508.82 L808.475 1479.73 L813.336 1479.73 L800.165 1514.29 L794.864 1514.29 Z\" fill=\"#000000\" fill-rule=\"evenodd\" fill-opacity=\"1\" /><path clip-path=\"url(#clip810)\" d=\"M812.688 1508.41 L817.572 1508.41 L817.572 1514.29 L812.688 1514.29 L812.688 1508.41 Z\" fill=\"#000000\" fill-rule=\"evenodd\" fill-opacity=\"1\" /><path clip-path=\"url(#clip810)\" d=\"M827.156 1488.36 L831.415 1488.36 L831.415 1514.75 Q831.415 1519.7 829.517 1521.93 Q827.642 1524.15 823.452 1524.15 L821.832 1524.15 L821.832 1520.54 L822.966 1520.54 Q825.397 1520.54 826.276 1519.4 Q827.156 1518.29 827.156 1514.75 L827.156 1488.36 M827.156 1478.27 L831.415 1478.27 L831.415 1483.66 L827.156 1483.66 L827.156 1478.27 Z\" fill=\"#000000\" fill-rule=\"evenodd\" fill-opacity=\"1\" /><path clip-path=\"url(#clip810)\" d=\"M840.327 1478.27 L844.586 1478.27 L844.586 1514.29 L840.327 1514.29 L840.327 1478.27 Z\" fill=\"#000000\" fill-rule=\"evenodd\" fill-opacity=\"1\" /><path clip-path=\"url(#clip810)\" d=\"M1065.84 1479.73 L1070.52 1479.73 L1070.52 1511.88 Q1070.52 1518.13 1068.14 1520.95 Q1065.78 1523.78 1060.52 1523.78 L1058.74 1523.78 L1058.74 1519.84 L1060.2 1519.84 Q1063.3 1519.84 1064.57 1518.11 Q1065.84 1516.37 1065.84 1511.88 L1065.84 1479.73 Z\" fill=\"#000000\" fill-rule=\"evenodd\" fill-opacity=\"1\" /><path clip-path=\"url(#clip810)\" d=\"M1084.5 1483.57 L1084.5 1510.45 L1090.15 1510.45 Q1097.3 1510.45 1100.61 1507.2 Q1103.95 1503.96 1103.95 1496.97 Q1103.95 1490.03 1100.61 1486.81 Q1097.3 1483.57 1090.15 1483.57 L1084.5 1483.57 M1079.83 1479.73 L1089.43 1479.73 Q1099.48 1479.73 1104.18 1483.92 Q1108.88 1488.08 1108.88 1496.97 Q1108.88 1505.91 1104.15 1510.1 Q1099.43 1514.29 1089.43 1514.29 L1079.83 1514.29 L1079.83 1479.73 Z\" fill=\"#000000\" fill-rule=\"evenodd\" fill-opacity=\"1\" /><path clip-path=\"url(#clip810)\" d=\"M1116.33 1479.73 L1136.19 1479.73 L1136.19 1483.66 L1121.01 1483.66 L1121.01 1493.85 L1134.71 1493.85 L1134.71 1497.78 L1121.01 1497.78 L1121.01 1514.29 L1116.33 1514.29 L1116.33 1479.73 Z\" fill=\"#000000\" fill-rule=\"evenodd\" fill-opacity=\"1\" /><path clip-path=\"url(#clip810)\" d=\"M1136.4 1508.41 L1141.28 1508.41 L1141.28 1514.29 L1136.4 1514.29 L1136.4 1508.41 Z\" fill=\"#000000\" fill-rule=\"evenodd\" fill-opacity=\"1\" /><path clip-path=\"url(#clip810)\" d=\"M1150.87 1488.36 L1155.13 1488.36 L1155.13 1514.75 Q1155.13 1519.7 1153.23 1521.93 Q1151.35 1524.15 1147.16 1524.15 L1145.54 1524.15 L1145.54 1520.54 L1146.68 1520.54 Q1149.11 1520.54 1149.99 1519.4 Q1150.87 1518.29 1150.87 1514.75 L1150.87 1488.36 M1150.87 1478.27 L1155.13 1478.27 L1155.13 1483.66 L1150.87 1483.66 L1150.87 1478.27 Z\" fill=\"#000000\" fill-rule=\"evenodd\" fill-opacity=\"1\" /><path clip-path=\"url(#clip810)\" d=\"M1164.04 1478.27 L1168.3 1478.27 L1168.3 1514.29 L1164.04 1514.29 L1164.04 1478.27 Z\" fill=\"#000000\" fill-rule=\"evenodd\" fill-opacity=\"1\" /><path clip-path=\"url(#clip810)\" d=\"M1378.82 1479.73 L1383.49 1479.73 L1383.49 1511.88 Q1383.49 1518.13 1381.11 1520.95 Q1378.75 1523.78 1373.49 1523.78 L1371.71 1523.78 L1371.71 1519.84 L1373.17 1519.84 Q1376.27 1519.84 1377.54 1518.11 Q1378.82 1516.37 1378.82 1511.88 L1378.82 1479.73 Z\" fill=\"#000000\" fill-rule=\"evenodd\" fill-opacity=\"1\" /><path clip-path=\"url(#clip810)\" d=\"M1392.8 1479.73 L1397.47 1479.73 L1397.47 1510.35 L1414.3 1510.35 L1414.3 1514.29 L1392.8 1514.29 L1392.8 1479.73 Z\" fill=\"#000000\" fill-rule=\"evenodd\" fill-opacity=\"1\" /><path clip-path=\"url(#clip810)\" d=\"M1439.93 1480.86 L1439.93 1485.42 Q1437.26 1484.15 1434.9 1483.52 Q1432.54 1482.9 1430.34 1482.9 Q1426.52 1482.9 1424.44 1484.38 Q1422.38 1485.86 1422.38 1488.59 Q1422.38 1490.89 1423.75 1492.07 Q1425.13 1493.22 1428.98 1493.94 L1431.8 1494.52 Q1437.03 1495.51 1439.51 1498.04 Q1442.01 1500.54 1442.01 1504.75 Q1442.01 1509.77 1438.63 1512.37 Q1435.27 1514.96 1428.77 1514.96 Q1426.32 1514.96 1423.54 1514.4 Q1420.78 1513.85 1417.82 1512.76 L1417.82 1507.95 Q1420.67 1509.54 1423.4 1510.35 Q1426.13 1511.16 1428.77 1511.16 Q1432.77 1511.16 1434.95 1509.59 Q1437.13 1508.01 1437.13 1505.1 Q1437.13 1502.55 1435.55 1501.12 Q1434 1499.68 1430.44 1498.96 L1427.59 1498.41 Q1422.36 1497.37 1420.02 1495.14 Q1417.68 1492.92 1417.68 1488.96 Q1417.68 1484.38 1420.9 1481.74 Q1424.14 1479.1 1429.81 1479.1 Q1432.24 1479.1 1434.76 1479.54 Q1437.29 1479.98 1439.93 1480.86 Z\" fill=\"#000000\" fill-rule=\"evenodd\" fill-opacity=\"1\" /><path clip-path=\"url(#clip810)\" d=\"M1463.33 1482.9 Q1458.24 1482.9 1455.23 1486.7 Q1452.24 1490.49 1452.24 1497.04 Q1452.24 1503.57 1455.23 1507.37 Q1458.24 1511.16 1463.33 1511.16 Q1468.42 1511.16 1471.38 1507.37 Q1474.37 1503.57 1474.37 1497.04 Q1474.37 1490.49 1471.38 1486.7 Q1468.42 1482.9 1463.33 1482.9 M1463.33 1479.1 Q1470.6 1479.1 1474.95 1483.99 Q1479.3 1488.85 1479.3 1497.04 Q1479.3 1505.21 1474.95 1510.1 Q1470.6 1514.96 1463.33 1514.96 Q1456.04 1514.96 1451.66 1510.1 Q1447.31 1505.24 1447.31 1497.04 Q1447.31 1488.85 1451.66 1483.99 Q1456.04 1479.1 1463.33 1479.1 Z\" fill=\"#000000\" fill-rule=\"evenodd\" fill-opacity=\"1\" /><path clip-path=\"url(#clip810)\" d=\"M1485.11 1508.41 L1490 1508.41 L1490 1514.29 L1485.11 1514.29 L1485.11 1508.41 Z\" fill=\"#000000\" fill-rule=\"evenodd\" fill-opacity=\"1\" /><path clip-path=\"url(#clip810)\" d=\"M1499.58 1488.36 L1503.84 1488.36 L1503.84 1514.75 Q1503.84 1519.7 1501.94 1521.93 Q1500.06 1524.15 1495.87 1524.15 L1494.25 1524.15 L1494.25 1520.54 L1495.39 1520.54 Q1497.82 1520.54 1498.7 1519.4 Q1499.58 1518.29 1499.58 1514.75 L1499.58 1488.36 M1499.58 1478.27 L1503.84 1478.27 L1503.84 1483.66 L1499.58 1483.66 L1499.58 1478.27 Z\" fill=\"#000000\" fill-rule=\"evenodd\" fill-opacity=\"1\" /><path clip-path=\"url(#clip810)\" d=\"M1512.75 1478.27 L1517.01 1478.27 L1517.01 1514.29 L1512.75 1514.29 L1512.75 1478.27 Z\" fill=\"#000000\" fill-rule=\"evenodd\" fill-opacity=\"1\" /><path clip-path=\"url(#clip810)\" d=\"M1630.52 1479.73 L1635.2 1479.73 L1635.2 1511.88 Q1635.2 1518.13 1632.82 1520.95 Q1630.46 1523.78 1625.2 1523.78 L1623.42 1523.78 L1623.42 1519.84 L1624.88 1519.84 Q1627.98 1519.84 1629.25 1518.11 Q1630.52 1516.37 1630.52 1511.88 L1630.52 1479.73 Z\" fill=\"#000000\" fill-rule=\"evenodd\" fill-opacity=\"1\" /><path clip-path=\"url(#clip810)\" d=\"M1665.22 1480.86 L1665.22 1485.42 Q1662.56 1484.15 1660.2 1483.52 Q1657.84 1482.9 1655.64 1482.9 Q1651.82 1482.9 1649.74 1484.38 Q1647.68 1485.86 1647.68 1488.59 Q1647.68 1490.89 1649.04 1492.07 Q1650.43 1493.22 1654.27 1493.94 L1657.1 1494.52 Q1662.33 1495.51 1664.81 1498.04 Q1667.31 1500.54 1667.31 1504.75 Q1667.31 1509.77 1663.93 1512.37 Q1660.57 1514.96 1654.07 1514.96 Q1651.61 1514.96 1648.83 1514.4 Q1646.08 1513.85 1643.12 1512.76 L1643.12 1507.95 Q1645.96 1509.54 1648.7 1510.35 Q1651.43 1511.16 1654.07 1511.16 Q1658.07 1511.16 1660.25 1509.59 Q1662.42 1508.01 1662.42 1505.1 Q1662.42 1502.55 1660.85 1501.12 Q1659.3 1499.68 1655.73 1498.96 L1652.89 1498.41 Q1647.65 1497.37 1645.32 1495.14 Q1642.98 1492.92 1642.98 1488.96 Q1642.98 1484.38 1646.2 1481.74 Q1649.44 1479.1 1655.11 1479.1 Q1657.54 1479.1 1660.06 1479.54 Q1662.58 1479.98 1665.22 1480.86 Z\" fill=\"#000000\" fill-rule=\"evenodd\" fill-opacity=\"1\" /><path clip-path=\"url(#clip810)\" d=\"M1688.63 1482.9 Q1683.53 1482.9 1680.52 1486.7 Q1677.54 1490.49 1677.54 1497.04 Q1677.54 1503.57 1680.52 1507.37 Q1683.53 1511.16 1688.63 1511.16 Q1693.72 1511.16 1696.68 1507.37 Q1699.67 1503.57 1699.67 1497.04 Q1699.67 1490.49 1696.68 1486.7 Q1693.72 1482.9 1688.63 1482.9 M1688.63 1479.1 Q1695.89 1479.1 1700.25 1483.99 Q1704.6 1488.85 1704.6 1497.04 Q1704.6 1505.21 1700.25 1510.1 Q1695.89 1514.96 1688.63 1514.96 Q1681.33 1514.96 1676.96 1510.1 Q1672.61 1505.24 1672.61 1497.04 Q1672.61 1488.85 1676.96 1483.99 Q1681.33 1479.1 1688.63 1479.1 Z\" fill=\"#000000\" fill-rule=\"evenodd\" fill-opacity=\"1\" /><path clip-path=\"url(#clip810)\" d=\"M1711.91 1479.73 L1718.21 1479.73 L1733.53 1508.64 L1733.53 1479.73 L1738.07 1479.73 L1738.07 1514.29 L1731.77 1514.29 L1716.45 1485.38 L1716.45 1514.29 L1711.91 1514.29 L1711.91 1479.73 Z\" fill=\"#000000\" fill-rule=\"evenodd\" fill-opacity=\"1\" /><path clip-path=\"url(#clip810)\" d=\"M1742.58 1479.73 L1771.82 1479.73 L1771.82 1483.66 L1759.55 1483.66 L1759.55 1514.29 L1754.85 1514.29 L1754.85 1483.66 L1742.58 1483.66 L1742.58 1479.73 Z\" fill=\"#000000\" fill-rule=\"evenodd\" fill-opacity=\"1\" /><path clip-path=\"url(#clip810)\" d=\"M1780.08 1501.26 Q1774.92 1501.26 1772.93 1502.44 Q1770.94 1503.62 1770.94 1506.46 Q1770.94 1508.73 1772.42 1510.07 Q1773.93 1511.39 1776.5 1511.39 Q1780.04 1511.39 1782.17 1508.89 Q1784.32 1506.37 1784.32 1502.2 L1784.32 1501.26 L1780.08 1501.26 M1788.58 1499.5 L1788.58 1514.29 L1784.32 1514.29 L1784.32 1510.35 Q1782.86 1512.71 1780.69 1513.85 Q1778.51 1514.96 1775.36 1514.96 Q1771.38 1514.96 1769.02 1512.74 Q1766.68 1510.49 1766.68 1506.74 Q1766.68 1502.37 1769.6 1500.14 Q1772.54 1497.92 1778.35 1497.92 L1784.32 1497.92 L1784.32 1497.51 Q1784.32 1494.57 1782.38 1492.97 Q1780.45 1491.35 1776.96 1491.35 Q1774.74 1491.35 1772.63 1491.88 Q1770.52 1492.41 1768.58 1493.48 L1768.58 1489.54 Q1770.92 1488.64 1773.12 1488.2 Q1775.32 1487.74 1777.4 1487.74 Q1783.02 1487.74 1785.8 1490.65 Q1788.58 1493.57 1788.58 1499.5 Z\" fill=\"#000000\" fill-rule=\"evenodd\" fill-opacity=\"1\" /><path clip-path=\"url(#clip810)\" d=\"M1815.96 1501.35 Q1815.96 1496.65 1814.02 1493.99 Q1812.1 1491.3 1808.72 1491.3 Q1805.34 1491.3 1803.39 1493.99 Q1801.47 1496.65 1801.47 1501.35 Q1801.47 1506.05 1803.39 1508.73 Q1805.34 1511.39 1808.72 1511.39 Q1812.1 1511.39 1814.02 1508.73 Q1815.96 1506.05 1815.96 1501.35 M1801.47 1492.3 Q1802.82 1489.98 1804.85 1488.87 Q1806.91 1487.74 1809.76 1487.74 Q1814.48 1487.74 1817.42 1491.49 Q1820.38 1495.24 1820.38 1501.35 Q1820.38 1507.46 1817.42 1511.21 Q1814.48 1514.96 1809.76 1514.96 Q1806.91 1514.96 1804.85 1513.85 Q1802.82 1512.71 1801.47 1510.4 L1801.47 1514.29 L1797.19 1514.29 L1797.19 1478.27 L1801.47 1478.27 L1801.47 1492.3 Z\" fill=\"#000000\" fill-rule=\"evenodd\" fill-opacity=\"1\" /><path clip-path=\"url(#clip810)\" d=\"M1827.45 1478.27 L1831.7 1478.27 L1831.7 1514.29 L1827.45 1514.29 L1827.45 1478.27 Z\" fill=\"#000000\" fill-rule=\"evenodd\" fill-opacity=\"1\" /><path clip-path=\"url(#clip810)\" d=\"M1862.79 1500.26 L1862.79 1502.34 L1843.21 1502.34 Q1843.49 1506.74 1845.85 1509.06 Q1848.23 1511.35 1852.47 1511.35 Q1854.92 1511.35 1857.21 1510.75 Q1859.53 1510.14 1861.8 1508.94 L1861.8 1512.97 Q1859.51 1513.94 1857.1 1514.45 Q1854.69 1514.96 1852.21 1514.96 Q1846.01 1514.96 1842.38 1511.35 Q1838.76 1507.74 1838.76 1501.58 Q1838.76 1495.21 1842.19 1491.49 Q1845.64 1487.74 1851.47 1487.74 Q1856.7 1487.74 1859.74 1491.12 Q1862.79 1494.47 1862.79 1500.26 M1858.53 1499.01 Q1858.49 1495.51 1856.57 1493.43 Q1854.67 1491.35 1851.52 1491.35 Q1847.95 1491.35 1845.8 1493.36 Q1843.67 1495.38 1843.35 1499.03 L1858.53 1499.01 Z\" fill=\"#000000\" fill-rule=\"evenodd\" fill-opacity=\"1\" /><path clip-path=\"url(#clip810)\" d=\"M1886.31 1489.13 L1886.31 1493.15 Q1884.51 1492.23 1882.56 1491.76 Q1880.62 1491.3 1878.53 1491.3 Q1875.36 1491.3 1873.76 1492.27 Q1872.19 1493.25 1872.19 1495.19 Q1872.19 1496.67 1873.32 1497.53 Q1874.46 1498.36 1877.88 1499.13 L1879.34 1499.45 Q1883.88 1500.42 1885.78 1502.2 Q1887.7 1503.96 1887.7 1507.14 Q1887.7 1510.75 1884.83 1512.85 Q1881.98 1514.96 1876.98 1514.96 Q1874.9 1514.96 1872.63 1514.54 Q1870.38 1514.15 1867.88 1513.34 L1867.88 1508.94 Q1870.25 1510.17 1872.54 1510.79 Q1874.83 1511.39 1877.07 1511.39 Q1880.08 1511.39 1881.7 1510.38 Q1883.32 1509.33 1883.32 1507.46 Q1883.32 1505.72 1882.14 1504.8 Q1880.99 1503.87 1877.03 1503.01 L1875.55 1502.67 Q1871.59 1501.83 1869.83 1500.12 Q1868.07 1498.39 1868.07 1495.38 Q1868.07 1491.72 1870.66 1489.73 Q1873.26 1487.74 1878.02 1487.74 Q1880.38 1487.74 1882.47 1488.08 Q1884.55 1488.43 1886.31 1489.13 Z\" fill=\"#000000\" fill-rule=\"evenodd\" fill-opacity=\"1\" /><path clip-path=\"url(#clip810)\" d=\"M1895.08 1508.41 L1899.97 1508.41 L1899.97 1514.29 L1895.08 1514.29 L1895.08 1508.41 Z\" fill=\"#000000\" fill-rule=\"evenodd\" fill-opacity=\"1\" /><path clip-path=\"url(#clip810)\" d=\"M1909.55 1488.36 L1913.81 1488.36 L1913.81 1514.75 Q1913.81 1519.7 1911.91 1521.93 Q1910.04 1524.15 1905.85 1524.15 L1904.23 1524.15 L1904.23 1520.54 L1905.36 1520.54 Q1907.79 1520.54 1908.67 1519.4 Q1909.55 1518.29 1909.55 1514.75 L1909.55 1488.36 M1909.55 1478.27 L1913.81 1478.27 L1913.81 1483.66 L1909.55 1483.66 L1909.55 1478.27 Z\" fill=\"#000000\" fill-rule=\"evenodd\" fill-opacity=\"1\" /><path clip-path=\"url(#clip810)\" d=\"M1922.72 1478.27 L1926.98 1478.27 L1926.98 1514.29 L1922.72 1514.29 L1922.72 1478.27 Z\" fill=\"#000000\" fill-rule=\"evenodd\" fill-opacity=\"1\" /><path clip-path=\"url(#clip810)\" d=\"M1656.59 1543.19 Q1653.16 1543.19 1651.17 1545.87 Q1649.18 1548.54 1649.18 1553.19 Q1649.18 1557.84 1651.15 1560.53 Q1653.14 1563.19 1656.59 1563.19 Q1659.99 1563.19 1661.98 1560.5 Q1663.97 1557.82 1663.97 1553.19 Q1663.97 1548.58 1661.98 1545.9 Q1659.99 1543.19 1656.59 1543.19 M1656.59 1539.58 Q1662.15 1539.58 1665.32 1543.19 Q1668.49 1546.8 1668.49 1553.19 Q1668.49 1559.55 1665.32 1563.19 Q1662.15 1566.8 1656.59 1566.8 Q1651.01 1566.8 1647.84 1563.19 Q1644.69 1559.55 1644.69 1553.19 Q1644.69 1546.8 1647.84 1543.19 Q1651.01 1539.58 1656.59 1539.58 Z\" fill=\"#000000\" fill-rule=\"evenodd\" fill-opacity=\"1\" /><path clip-path=\"url(#clip810)\" d=\"M1694.16 1553.19 Q1694.16 1548.49 1692.21 1545.83 Q1690.29 1543.14 1686.91 1543.14 Q1683.53 1543.14 1681.59 1545.83 Q1679.67 1548.49 1679.67 1553.19 Q1679.67 1557.89 1681.59 1560.57 Q1683.53 1563.23 1686.91 1563.23 Q1690.29 1563.23 1692.21 1560.57 Q1694.16 1557.89 1694.16 1553.19 M1679.67 1544.14 Q1681.01 1541.82 1683.05 1540.71 Q1685.11 1539.58 1687.96 1539.58 Q1692.68 1539.58 1695.62 1543.33 Q1698.58 1547.08 1698.58 1553.19 Q1698.58 1559.3 1695.62 1563.05 Q1692.68 1566.8 1687.96 1566.8 Q1685.11 1566.8 1683.05 1565.69 Q1681.01 1564.55 1679.67 1562.24 L1679.67 1566.13 L1675.39 1566.13 L1675.39 1530.11 L1679.67 1530.11 L1679.67 1544.14 Z\" fill=\"#000000\" fill-rule=\"evenodd\" fill-opacity=\"1\" /><path clip-path=\"url(#clip810)\" d=\"M1705.64 1540.2 L1709.9 1540.2 L1709.9 1566.59 Q1709.9 1571.54 1708 1573.77 Q1706.13 1575.99 1701.94 1575.99 L1700.32 1575.99 L1700.32 1572.38 L1701.45 1572.38 Q1703.88 1572.38 1704.76 1571.24 Q1705.64 1570.13 1705.64 1566.59 L1705.64 1540.2 M1705.64 1530.11 L1709.9 1530.11 L1709.9 1535.5 L1705.64 1535.5 L1705.64 1530.11 Z\" fill=\"#000000\" fill-rule=\"evenodd\" fill-opacity=\"1\" /><path clip-path=\"url(#clip810)\" d=\"M1740.99 1552.1 L1740.99 1554.18 L1721.4 1554.18 Q1721.68 1558.58 1724.04 1560.9 Q1726.43 1563.19 1730.66 1563.19 Q1733.12 1563.19 1735.41 1562.59 Q1737.72 1561.98 1739.99 1560.78 L1739.99 1564.81 Q1737.7 1565.78 1735.29 1566.29 Q1732.89 1566.8 1730.41 1566.8 Q1724.2 1566.8 1720.57 1563.19 Q1716.96 1559.58 1716.96 1553.42 Q1716.96 1547.05 1720.39 1543.33 Q1723.83 1539.58 1729.67 1539.58 Q1734.9 1539.58 1737.93 1542.96 Q1740.99 1546.31 1740.99 1552.1 M1736.73 1550.85 Q1736.68 1547.35 1734.76 1545.27 Q1732.86 1543.19 1729.71 1543.19 Q1726.15 1543.19 1724 1545.2 Q1721.87 1547.22 1721.54 1550.87 L1736.73 1550.85 Z\" fill=\"#000000\" fill-rule=\"evenodd\" fill-opacity=\"1\" /><path clip-path=\"url(#clip810)\" d=\"M1766.64 1541.2 L1766.64 1545.18 Q1764.83 1544.18 1763 1543.7 Q1761.2 1543.19 1759.34 1543.19 Q1755.2 1543.19 1752.91 1545.83 Q1750.62 1548.44 1750.62 1553.19 Q1750.62 1557.93 1752.91 1560.57 Q1755.2 1563.19 1759.34 1563.19 Q1761.2 1563.19 1763 1562.7 Q1764.83 1562.19 1766.64 1561.2 L1766.64 1565.13 Q1764.85 1565.97 1762.93 1566.38 Q1761.03 1566.8 1758.88 1566.8 Q1753.02 1566.8 1749.58 1563.12 Q1746.13 1559.44 1746.13 1553.19 Q1746.13 1546.85 1749.6 1543.21 Q1753.09 1539.58 1759.16 1539.58 Q1761.13 1539.58 1763 1539.99 Q1764.88 1540.39 1766.64 1541.2 Z\" fill=\"#000000\" fill-rule=\"evenodd\" fill-opacity=\"1\" /><path clip-path=\"url(#clip810)\" d=\"M1778.26 1532.84 L1778.26 1540.2 L1787.03 1540.2 L1787.03 1543.51 L1778.26 1543.51 L1778.26 1557.59 Q1778.26 1560.76 1779.11 1561.66 Q1779.99 1562.56 1782.65 1562.56 L1787.03 1562.56 L1787.03 1566.13 L1782.65 1566.13 Q1777.72 1566.13 1775.85 1564.3 Q1773.97 1562.45 1773.97 1557.59 L1773.97 1543.51 L1770.85 1543.51 L1770.85 1540.2 L1773.97 1540.2 L1773.97 1532.84 L1778.26 1532.84 Z\" fill=\"#000000\" fill-rule=\"evenodd\" fill-opacity=\"1\" /><path clip-path=\"url(#clip810)\" d=\"M1796.84 1532.84 L1796.84 1540.2 L1805.62 1540.2 L1805.62 1543.51 L1796.84 1543.51 L1796.84 1557.59 Q1796.84 1560.76 1797.7 1561.66 Q1798.58 1562.56 1801.24 1562.56 L1805.62 1562.56 L1805.62 1566.13 L1801.24 1566.13 Q1796.31 1566.13 1794.44 1564.3 Q1792.56 1562.45 1792.56 1557.59 L1792.56 1543.51 L1789.44 1543.51 L1789.44 1540.2 L1792.56 1540.2 L1792.56 1532.84 L1796.84 1532.84 Z\" fill=\"#000000\" fill-rule=\"evenodd\" fill-opacity=\"1\" /><path clip-path=\"url(#clip810)\" d=\"M1823 1553.1 Q1817.84 1553.1 1815.85 1554.28 Q1813.86 1555.46 1813.86 1558.3 Q1813.86 1560.57 1815.34 1561.91 Q1816.84 1563.23 1819.41 1563.23 Q1822.95 1563.23 1825.08 1560.73 Q1827.24 1558.21 1827.24 1554.04 L1827.24 1553.1 L1823 1553.1 M1831.5 1551.34 L1831.5 1566.13 L1827.24 1566.13 L1827.24 1562.19 Q1825.78 1564.55 1823.6 1565.69 Q1821.43 1566.8 1818.28 1566.8 Q1814.3 1566.8 1811.94 1564.58 Q1809.6 1562.33 1809.6 1558.58 Q1809.6 1554.21 1812.51 1551.98 Q1815.45 1549.76 1821.26 1549.76 L1827.24 1549.76 L1827.24 1549.35 Q1827.24 1546.41 1825.29 1544.81 Q1823.37 1543.19 1819.88 1543.19 Q1817.65 1543.19 1815.55 1543.72 Q1813.44 1544.25 1811.5 1545.32 L1811.5 1541.38 Q1813.83 1540.48 1816.03 1540.04 Q1818.23 1539.58 1820.32 1539.58 Q1825.94 1539.58 1828.72 1542.49 Q1831.5 1545.41 1831.5 1551.34 Z\" fill=\"#000000\" fill-rule=\"evenodd\" fill-opacity=\"1\" /><path clip-path=\"url(#clip810)\" d=\"M1858.88 1553.19 Q1858.88 1548.49 1856.94 1545.83 Q1855.01 1543.14 1851.63 1543.14 Q1848.26 1543.14 1846.31 1545.83 Q1844.39 1548.49 1844.39 1553.19 Q1844.39 1557.89 1846.31 1560.57 Q1848.26 1563.23 1851.63 1563.23 Q1855.01 1563.23 1856.94 1560.57 Q1858.88 1557.89 1858.88 1553.19 M1844.39 1544.14 Q1845.73 1541.82 1847.77 1540.71 Q1849.83 1539.58 1852.68 1539.58 Q1857.4 1539.58 1860.34 1543.33 Q1863.3 1547.08 1863.3 1553.19 Q1863.3 1559.3 1860.34 1563.05 Q1857.4 1566.8 1852.68 1566.8 Q1849.83 1566.8 1847.77 1565.69 Q1845.73 1564.55 1844.39 1562.24 L1844.39 1566.13 L1840.11 1566.13 L1840.11 1530.11 L1844.39 1530.11 L1844.39 1544.14 Z\" fill=\"#000000\" fill-rule=\"evenodd\" fill-opacity=\"1\" /><path clip-path=\"url(#clip810)\" d=\"M1870.36 1530.11 L1874.62 1530.11 L1874.62 1566.13 L1870.36 1566.13 L1870.36 1530.11 Z\" fill=\"#000000\" fill-rule=\"evenodd\" fill-opacity=\"1\" /><path clip-path=\"url(#clip810)\" d=\"M1905.71 1552.1 L1905.71 1554.18 L1886.13 1554.18 Q1886.4 1558.58 1888.76 1560.9 Q1891.15 1563.19 1895.38 1563.19 Q1897.84 1563.19 1900.13 1562.59 Q1902.44 1561.98 1904.71 1560.78 L1904.71 1564.81 Q1902.42 1565.78 1900.01 1566.29 Q1897.61 1566.8 1895.13 1566.8 Q1888.93 1566.8 1885.29 1563.19 Q1881.68 1559.58 1881.68 1553.42 Q1881.68 1547.05 1885.11 1543.33 Q1888.56 1539.58 1894.39 1539.58 Q1899.62 1539.58 1902.65 1542.96 Q1905.71 1546.31 1905.71 1552.1 M1901.45 1550.85 Q1901.4 1547.35 1899.48 1545.27 Q1897.58 1543.19 1894.44 1543.19 Q1890.87 1543.19 1888.72 1545.2 Q1886.59 1547.22 1886.26 1550.87 L1901.45 1550.85 Z\" fill=\"#000000\" fill-rule=\"evenodd\" fill-opacity=\"1\" /><path clip-path=\"url(#clip810)\" d=\"M1985.83 1480.86 L1985.83 1485.42 Q1983.17 1484.15 1980.81 1483.52 Q1978.45 1482.9 1976.25 1482.9 Q1972.43 1482.9 1970.35 1484.38 Q1968.29 1485.86 1968.29 1488.59 Q1968.29 1490.89 1969.65 1492.07 Q1971.04 1493.22 1974.88 1493.94 L1977.71 1494.52 Q1982.94 1495.51 1985.42 1498.04 Q1987.92 1500.54 1987.92 1504.75 Q1987.92 1509.77 1984.54 1512.37 Q1981.18 1514.96 1974.68 1514.96 Q1972.22 1514.96 1969.44 1514.4 Q1966.69 1513.85 1963.73 1512.76 L1963.73 1507.95 Q1966.57 1509.54 1969.31 1510.35 Q1972.04 1511.16 1974.68 1511.16 Q1978.68 1511.16 1980.86 1509.59 Q1983.03 1508.01 1983.03 1505.1 Q1983.03 1502.55 1981.46 1501.12 Q1979.91 1499.68 1976.34 1498.96 L1973.5 1498.41 Q1968.26 1497.37 1965.93 1495.14 Q1963.59 1492.92 1963.59 1488.96 Q1963.59 1484.38 1966.81 1481.74 Q1970.05 1479.1 1975.72 1479.1 Q1978.15 1479.1 1980.67 1479.54 Q1983.19 1479.98 1985.83 1480.86 Z\" fill=\"#000000\" fill-rule=\"evenodd\" fill-opacity=\"1\" /><path clip-path=\"url(#clip810)\" d=\"M2017.2 1500.26 L2017.2 1502.34 L1997.62 1502.34 Q1997.89 1506.74 2000.25 1509.06 Q2002.64 1511.35 2006.87 1511.35 Q2009.33 1511.35 2011.62 1510.75 Q2013.94 1510.14 2016.2 1508.94 L2016.2 1512.97 Q2013.91 1513.94 2011.5 1514.45 Q2009.1 1514.96 2006.62 1514.96 Q2000.42 1514.96 1996.78 1511.35 Q1993.17 1507.74 1993.17 1501.58 Q1993.17 1495.21 1996.6 1491.49 Q2000.05 1487.74 2005.88 1487.74 Q2011.11 1487.74 2014.14 1491.12 Q2017.2 1494.47 2017.2 1500.26 M2012.94 1499.01 Q2012.89 1495.51 2010.97 1493.43 Q2009.07 1491.35 2005.93 1491.35 Q2002.36 1491.35 2000.21 1493.36 Q1998.08 1495.38 1997.75 1499.03 L2012.94 1499.01 Z\" fill=\"#000000\" fill-rule=\"evenodd\" fill-opacity=\"1\" /><path clip-path=\"url(#clip810)\" d=\"M2039.21 1492.34 Q2038.5 1491.93 2037.64 1491.74 Q2036.81 1491.53 2035.79 1491.53 Q2032.18 1491.53 2030.23 1493.89 Q2028.31 1496.23 2028.31 1500.63 L2028.31 1514.29 L2024.03 1514.29 L2024.03 1488.36 L2028.31 1488.36 L2028.31 1492.39 Q2029.65 1490.03 2031.81 1488.89 Q2033.96 1487.74 2037.04 1487.74 Q2037.48 1487.74 2038.01 1487.81 Q2038.54 1487.85 2039.19 1487.97 L2039.21 1492.34 Z\" fill=\"#000000\" fill-rule=\"evenodd\" fill-opacity=\"1\" /><path clip-path=\"url(#clip810)\" d=\"M2043.68 1488.36 L2047.94 1488.36 L2047.94 1514.29 L2043.68 1514.29 L2043.68 1488.36 M2043.68 1478.27 L2047.94 1478.27 L2047.94 1483.66 L2043.68 1483.66 L2043.68 1478.27 Z\" fill=\"#000000\" fill-rule=\"evenodd\" fill-opacity=\"1\" /><path clip-path=\"url(#clip810)\" d=\"M2068.63 1501.26 Q2063.47 1501.26 2061.48 1502.44 Q2059.49 1503.62 2059.49 1506.46 Q2059.49 1508.73 2060.97 1510.07 Q2062.48 1511.39 2065.05 1511.39 Q2068.59 1511.39 2070.72 1508.89 Q2072.87 1506.37 2072.87 1502.2 L2072.87 1501.26 L2068.63 1501.26 M2077.13 1499.5 L2077.13 1514.29 L2072.87 1514.29 L2072.87 1510.35 Q2071.41 1512.71 2069.24 1513.85 Q2067.06 1514.96 2063.91 1514.96 Q2059.93 1514.96 2057.57 1512.74 Q2055.23 1510.49 2055.23 1506.74 Q2055.23 1502.37 2058.15 1500.14 Q2061.09 1497.92 2066.9 1497.92 L2072.87 1497.92 L2072.87 1497.51 Q2072.87 1494.57 2070.93 1492.97 Q2069 1491.35 2065.51 1491.35 Q2063.29 1491.35 2061.18 1491.88 Q2059.07 1492.41 2057.13 1493.48 L2057.13 1489.54 Q2059.47 1488.64 2061.67 1488.2 Q2063.87 1487.74 2065.95 1487.74 Q2071.57 1487.74 2074.35 1490.65 Q2077.13 1493.57 2077.13 1499.5 Z\" fill=\"#000000\" fill-rule=\"evenodd\" fill-opacity=\"1\" /><path clip-path=\"url(#clip810)\" d=\"M2085.9 1478.27 L2090.16 1478.27 L2090.16 1514.29 L2085.9 1514.29 L2085.9 1478.27 Z\" fill=\"#000000\" fill-rule=\"evenodd\" fill-opacity=\"1\" /><path clip-path=\"url(#clip810)\" d=\"M2099.07 1488.36 L2103.33 1488.36 L2103.33 1514.29 L2099.07 1514.29 L2099.07 1488.36 M2099.07 1478.27 L2103.33 1478.27 L2103.33 1483.66 L2099.07 1483.66 L2099.07 1478.27 Z\" fill=\"#000000\" fill-rule=\"evenodd\" fill-opacity=\"1\" /><path clip-path=\"url(#clip810)\" d=\"M2110.39 1488.36 L2130.62 1488.36 L2130.62 1492.25 L2114.61 1510.89 L2130.62 1510.89 L2130.62 1514.29 L2109.81 1514.29 L2109.81 1510.4 L2125.83 1491.76 L2110.39 1491.76 L2110.39 1488.36 Z\" fill=\"#000000\" fill-rule=\"evenodd\" fill-opacity=\"1\" /><path clip-path=\"url(#clip810)\" d=\"M2148.91 1501.26 Q2143.75 1501.26 2141.76 1502.44 Q2139.77 1503.62 2139.77 1506.46 Q2139.77 1508.73 2141.25 1510.07 Q2142.75 1511.39 2145.32 1511.39 Q2148.86 1511.39 2150.99 1508.89 Q2153.15 1506.37 2153.15 1502.2 L2153.15 1501.26 L2148.91 1501.26 M2157.41 1499.5 L2157.41 1514.29 L2153.15 1514.29 L2153.15 1510.35 Q2151.69 1512.71 2149.51 1513.85 Q2147.34 1514.96 2144.19 1514.96 Q2140.21 1514.96 2137.85 1512.74 Q2135.51 1510.49 2135.51 1506.74 Q2135.51 1502.37 2138.43 1500.14 Q2141.36 1497.92 2147.18 1497.92 L2153.15 1497.92 L2153.15 1497.51 Q2153.15 1494.57 2151.2 1492.97 Q2149.28 1491.35 2145.79 1491.35 Q2143.56 1491.35 2141.46 1491.88 Q2139.35 1492.41 2137.41 1493.48 L2137.41 1489.54 Q2139.74 1488.64 2141.94 1488.2 Q2144.14 1487.74 2146.23 1487.74 Q2151.85 1487.74 2154.63 1490.65 Q2157.41 1493.57 2157.41 1499.5 Z\" fill=\"#000000\" fill-rule=\"evenodd\" fill-opacity=\"1\" /><path clip-path=\"url(#clip810)\" d=\"M2170.39 1481 L2170.39 1488.36 L2179.17 1488.36 L2179.17 1491.67 L2170.39 1491.67 L2170.39 1505.75 Q2170.39 1508.92 2171.25 1509.82 Q2172.13 1510.72 2174.79 1510.72 L2179.17 1510.72 L2179.17 1514.29 L2174.79 1514.29 Q2169.86 1514.29 2167.99 1512.46 Q2166.11 1510.61 2166.11 1505.75 L2166.11 1491.67 L2162.99 1491.67 L2162.99 1488.36 L2166.11 1488.36 L2166.11 1481 L2170.39 1481 Z\" fill=\"#000000\" fill-rule=\"evenodd\" fill-opacity=\"1\" /><path clip-path=\"url(#clip810)\" d=\"M2184.77 1488.36 L2189.03 1488.36 L2189.03 1514.29 L2184.77 1514.29 L2184.77 1488.36 M2184.77 1478.27 L2189.03 1478.27 L2189.03 1483.66 L2184.77 1483.66 L2184.77 1478.27 Z\" fill=\"#000000\" fill-rule=\"evenodd\" fill-opacity=\"1\" /><path clip-path=\"url(#clip810)\" d=\"M2207.99 1491.35 Q2204.56 1491.35 2202.57 1494.03 Q2200.58 1496.7 2200.58 1501.35 Q2200.58 1506 2202.55 1508.69 Q2204.54 1511.35 2207.99 1511.35 Q2211.39 1511.35 2213.38 1508.66 Q2215.37 1505.98 2215.37 1501.35 Q2215.37 1496.74 2213.38 1494.06 Q2211.39 1491.35 2207.99 1491.35 M2207.99 1487.74 Q2213.54 1487.74 2216.71 1491.35 Q2219.88 1494.96 2219.88 1501.35 Q2219.88 1507.71 2216.71 1511.35 Q2213.54 1514.96 2207.99 1514.96 Q2202.41 1514.96 2199.24 1511.35 Q2196.09 1507.71 2196.09 1501.35 Q2196.09 1494.96 2199.24 1491.35 Q2202.41 1487.74 2207.99 1487.74 Z\" fill=\"#000000\" fill-rule=\"evenodd\" fill-opacity=\"1\" /><path clip-path=\"url(#clip810)\" d=\"M2248.49 1498.64 L2248.49 1514.29 L2244.23 1514.29 L2244.23 1498.78 Q2244.23 1495.1 2242.8 1493.27 Q2241.36 1491.44 2238.49 1491.44 Q2235.05 1491.44 2233.05 1493.64 Q2231.06 1495.84 2231.06 1499.64 L2231.06 1514.29 L2226.78 1514.29 L2226.78 1488.36 L2231.06 1488.36 L2231.06 1492.39 Q2232.59 1490.05 2234.65 1488.89 Q2236.73 1487.74 2239.44 1487.74 Q2243.91 1487.74 2246.2 1490.51 Q2248.49 1493.27 2248.49 1498.64 Z\" fill=\"#000000\" fill-rule=\"evenodd\" fill-opacity=\"1\" /><polyline clip-path=\"url(#clip812)\" style=\"stroke:#000000; stroke-linecap:round; stroke-linejoin:round; stroke-width:2; stroke-opacity:0.1; fill:none\" points=\"\n",
       "  205.121,1417.71 2352.76,1417.71 \n",
       "  \"/>\n",
       "<polyline clip-path=\"url(#clip812)\" style=\"stroke:#000000; stroke-linecap:round; stroke-linejoin:round; stroke-width:2; stroke-opacity:0.1; fill:none\" points=\"\n",
       "  205.121,1144.08 2352.76,1144.08 \n",
       "  \"/>\n",
       "<polyline clip-path=\"url(#clip812)\" style=\"stroke:#000000; stroke-linecap:round; stroke-linejoin:round; stroke-width:2; stroke-opacity:0.1; fill:none\" points=\"\n",
       "  205.121,870.441 2352.76,870.441 \n",
       "  \"/>\n",
       "<polyline clip-path=\"url(#clip812)\" style=\"stroke:#000000; stroke-linecap:round; stroke-linejoin:round; stroke-width:2; stroke-opacity:0.1; fill:none\" points=\"\n",
       "  205.121,596.804 2352.76,596.804 \n",
       "  \"/>\n",
       "<polyline clip-path=\"url(#clip812)\" style=\"stroke:#000000; stroke-linecap:round; stroke-linejoin:round; stroke-width:2; stroke-opacity:0.1; fill:none\" points=\"\n",
       "  205.121,323.167 2352.76,323.167 \n",
       "  \"/>\n",
       "<polyline clip-path=\"url(#clip810)\" style=\"stroke:#000000; stroke-linecap:round; stroke-linejoin:round; stroke-width:4; stroke-opacity:1; fill:none\" points=\"\n",
       "  205.121,1451.89 205.121,244.432 \n",
       "  \"/>\n",
       "<polyline clip-path=\"url(#clip810)\" style=\"stroke:#000000; stroke-linecap:round; stroke-linejoin:round; stroke-width:4; stroke-opacity:1; fill:none\" points=\"\n",
       "  205.121,1417.71 224.019,1417.71 \n",
       "  \"/>\n",
       "<polyline clip-path=\"url(#clip810)\" style=\"stroke:#000000; stroke-linecap:round; stroke-linejoin:round; stroke-width:4; stroke-opacity:1; fill:none\" points=\"\n",
       "  205.121,1144.08 224.019,1144.08 \n",
       "  \"/>\n",
       "<polyline clip-path=\"url(#clip810)\" style=\"stroke:#000000; stroke-linecap:round; stroke-linejoin:round; stroke-width:4; stroke-opacity:1; fill:none\" points=\"\n",
       "  205.121,870.441 224.019,870.441 \n",
       "  \"/>\n",
       "<polyline clip-path=\"url(#clip810)\" style=\"stroke:#000000; stroke-linecap:round; stroke-linejoin:round; stroke-width:4; stroke-opacity:1; fill:none\" points=\"\n",
       "  205.121,596.804 224.019,596.804 \n",
       "  \"/>\n",
       "<polyline clip-path=\"url(#clip810)\" style=\"stroke:#000000; stroke-linecap:round; stroke-linejoin:round; stroke-width:4; stroke-opacity:1; fill:none\" points=\"\n",
       "  205.121,323.167 224.019,323.167 \n",
       "  \"/>\n",
       "<path clip-path=\"url(#clip810)\" d=\"M157.177 1403.51 Q153.566 1403.51 151.737 1407.08 Q149.931 1410.62 149.931 1417.75 Q149.931 1424.86 151.737 1428.42 Q153.566 1431.96 157.177 1431.96 Q160.811 1431.96 162.616 1428.42 Q164.445 1424.86 164.445 1417.75 Q164.445 1410.62 162.616 1407.08 Q160.811 1403.51 157.177 1403.51 M157.177 1399.81 Q162.987 1399.81 166.042 1404.42 Q169.121 1409 169.121 1417.75 Q169.121 1426.48 166.042 1431.08 Q162.987 1435.67 157.177 1435.67 Q151.366 1435.67 148.288 1431.08 Q145.232 1426.48 145.232 1417.75 Q145.232 1409 148.288 1404.42 Q151.366 1399.81 157.177 1399.81 Z\" fill=\"#000000\" fill-rule=\"evenodd\" fill-opacity=\"1\" /><path clip-path=\"url(#clip810)\" d=\"M117.825 1157.42 L125.464 1157.42 L125.464 1131.06 L117.154 1132.72 L117.154 1128.46 L125.418 1126.8 L130.093 1126.8 L130.093 1157.42 L137.732 1157.42 L137.732 1161.36 L117.825 1161.36 L117.825 1157.42 Z\" fill=\"#000000\" fill-rule=\"evenodd\" fill-opacity=\"1\" /><path clip-path=\"url(#clip810)\" d=\"M157.177 1129.88 Q153.566 1129.88 151.737 1133.44 Q149.931 1136.98 149.931 1144.11 Q149.931 1151.22 151.737 1154.78 Q153.566 1158.33 157.177 1158.33 Q160.811 1158.33 162.616 1154.78 Q164.445 1151.22 164.445 1144.11 Q164.445 1136.98 162.616 1133.44 Q160.811 1129.88 157.177 1129.88 M157.177 1126.17 Q162.987 1126.17 166.042 1130.78 Q169.121 1135.36 169.121 1144.11 Q169.121 1152.84 166.042 1157.45 Q162.987 1162.03 157.177 1162.03 Q151.366 1162.03 148.288 1157.45 Q145.232 1152.84 145.232 1144.11 Q145.232 1135.36 148.288 1130.78 Q151.366 1126.17 157.177 1126.17 Z\" fill=\"#000000\" fill-rule=\"evenodd\" fill-opacity=\"1\" /><path clip-path=\"url(#clip810)\" d=\"M121.043 883.785 L137.362 883.785 L137.362 887.721 L115.418 887.721 L115.418 883.785 Q118.08 881.031 122.663 876.401 Q127.269 871.749 128.45 870.406 Q130.695 867.883 131.575 866.147 Q132.478 864.387 132.478 862.698 Q132.478 859.943 130.533 858.207 Q128.612 856.471 125.51 856.471 Q123.311 856.471 120.857 857.235 Q118.427 857.999 115.649 859.549 L115.649 854.827 Q118.473 853.693 120.927 853.114 Q123.38 852.536 125.418 852.536 Q130.788 852.536 133.982 855.221 Q137.177 857.906 137.177 862.397 Q137.177 864.526 136.367 866.448 Q135.579 868.346 133.473 870.938 Q132.894 871.61 129.792 874.827 Q126.691 878.022 121.043 883.785 Z\" fill=\"#000000\" fill-rule=\"evenodd\" fill-opacity=\"1\" /><path clip-path=\"url(#clip810)\" d=\"M157.177 856.239 Q153.566 856.239 151.737 859.804 Q149.931 863.346 149.931 870.475 Q149.931 877.582 151.737 881.147 Q153.566 884.688 157.177 884.688 Q160.811 884.688 162.616 881.147 Q164.445 877.582 164.445 870.475 Q164.445 863.346 162.616 859.804 Q160.811 856.239 157.177 856.239 M157.177 852.536 Q162.987 852.536 166.042 857.142 Q169.121 861.725 169.121 870.475 Q169.121 879.202 166.042 883.809 Q162.987 888.392 157.177 888.392 Q151.366 888.392 148.288 883.809 Q145.232 879.202 145.232 870.475 Q145.232 861.725 148.288 857.142 Q151.366 852.536 157.177 852.536 Z\" fill=\"#000000\" fill-rule=\"evenodd\" fill-opacity=\"1\" /><path clip-path=\"url(#clip810)\" d=\"M131.181 595.45 Q134.538 596.167 136.413 598.436 Q138.311 600.704 138.311 604.037 Q138.311 609.153 134.792 611.954 Q131.274 614.755 124.793 614.755 Q122.617 614.755 120.302 614.315 Q118.01 613.898 115.556 613.042 L115.556 608.528 Q117.501 609.662 119.816 610.241 Q122.13 610.82 124.654 610.82 Q129.052 610.82 131.343 609.084 Q133.658 607.348 133.658 604.037 Q133.658 600.982 131.505 599.269 Q129.376 597.533 125.556 597.533 L121.529 597.533 L121.529 593.69 L125.742 593.69 Q129.191 593.69 131.019 592.325 Q132.848 590.936 132.848 588.343 Q132.848 585.681 130.95 584.269 Q129.075 582.834 125.556 582.834 Q123.635 582.834 121.436 583.25 Q119.237 583.667 116.598 584.547 L116.598 580.38 Q119.26 579.639 121.575 579.269 Q123.913 578.899 125.973 578.899 Q131.297 578.899 134.399 581.329 Q137.501 583.737 137.501 587.857 Q137.501 590.727 135.857 592.718 Q134.214 594.686 131.181 595.45 Z\" fill=\"#000000\" fill-rule=\"evenodd\" fill-opacity=\"1\" /><path clip-path=\"url(#clip810)\" d=\"M157.177 582.602 Q153.566 582.602 151.737 586.167 Q149.931 589.709 149.931 596.838 Q149.931 603.945 151.737 607.51 Q153.566 611.051 157.177 611.051 Q160.811 611.051 162.616 607.51 Q164.445 603.945 164.445 596.838 Q164.445 589.709 162.616 586.167 Q160.811 582.602 157.177 582.602 M157.177 578.899 Q162.987 578.899 166.042 583.505 Q169.121 588.088 169.121 596.838 Q169.121 605.565 166.042 610.172 Q162.987 614.755 157.177 614.755 Q151.366 614.755 148.288 610.172 Q145.232 605.565 145.232 596.838 Q145.232 588.088 148.288 583.505 Q151.366 578.899 157.177 578.899 Z\" fill=\"#000000\" fill-rule=\"evenodd\" fill-opacity=\"1\" /><path clip-path=\"url(#clip810)\" d=\"M129.862 309.961 L118.056 328.41 L129.862 328.41 L129.862 309.961 M128.635 305.887 L134.515 305.887 L134.515 328.41 L139.445 328.41 L139.445 332.299 L134.515 332.299 L134.515 340.447 L129.862 340.447 L129.862 332.299 L114.26 332.299 L114.26 327.785 L128.635 305.887 Z\" fill=\"#000000\" fill-rule=\"evenodd\" fill-opacity=\"1\" /><path clip-path=\"url(#clip810)\" d=\"M157.177 308.965 Q153.566 308.965 151.737 312.53 Q149.931 316.072 149.931 323.201 Q149.931 330.308 151.737 333.873 Q153.566 337.414 157.177 337.414 Q160.811 337.414 162.616 333.873 Q164.445 330.308 164.445 323.201 Q164.445 316.072 162.616 312.53 Q160.811 308.965 157.177 308.965 M157.177 305.262 Q162.987 305.262 166.042 309.868 Q169.121 314.451 169.121 323.201 Q169.121 331.928 166.042 336.535 Q162.987 341.118 157.177 341.118 Q151.366 341.118 148.288 336.535 Q145.232 331.928 145.232 323.201 Q145.232 314.451 148.288 309.868 Q151.366 305.262 157.177 305.262 Z\" fill=\"#000000\" fill-rule=\"evenodd\" fill-opacity=\"1\" /><path clip-path=\"url(#clip810)\" d=\"M18.0438 932.41 L24.314 932.41 Q22.5634 936.07 21.704 939.317 Q20.8447 942.563 20.8447 945.587 Q20.8447 950.839 22.8817 953.703 Q24.9187 956.536 28.6745 956.536 Q31.8255 956.536 33.4488 954.658 Q35.0402 952.749 36.0269 947.465 L36.8226 943.582 Q38.1912 936.389 41.6605 932.983 Q45.098 929.546 50.8908 929.546 Q57.7976 929.546 61.3624 934.193 Q64.9272 938.808 64.9272 947.751 Q64.9272 951.125 64.1633 954.945 Q63.3994 958.732 61.9035 962.806 L55.2831 962.806 Q57.4793 958.891 58.5933 955.136 Q59.7073 951.38 59.7073 947.751 Q59.7073 942.245 57.543 939.253 Q55.3786 936.261 51.3682 936.261 Q47.8671 936.261 45.8937 938.426 Q43.9204 940.558 42.9337 945.46 L42.1698 949.375 Q40.7375 956.568 37.682 959.783 Q34.6264 962.997 29.1837 962.997 Q22.8817 962.997 19.2532 958.573 Q15.6248 954.117 15.6248 946.319 Q15.6248 942.977 16.2295 939.508 Q16.8343 936.039 18.0438 932.41 Z\" fill=\"#000000\" fill-rule=\"evenodd\" fill-opacity=\"1\" /><path clip-path=\"url(#clip810)\" d=\"M44.7161 889.282 L47.5806 889.282 L47.5806 916.209 Q53.6281 915.827 56.8109 912.581 Q59.9619 909.303 59.9619 903.478 Q59.9619 900.104 59.1344 896.953 Q58.3069 893.77 56.6518 890.651 L62.1899 890.651 Q63.5267 893.802 64.227 897.112 Q64.9272 900.422 64.9272 903.828 Q64.9272 912.358 59.9619 917.355 Q54.9967 922.32 46.5303 922.32 Q37.7774 922.32 32.6531 917.61 Q27.4968 912.867 27.4968 904.847 Q27.4968 897.653 32.1438 893.484 Q36.7589 889.282 44.7161 889.282 M42.9973 895.139 Q38.1912 895.203 35.3266 897.844 Q32.4621 900.454 32.4621 904.783 Q32.4621 909.685 35.2312 912.645 Q38.0002 915.573 43.0292 916.018 L42.9973 895.139 Z\" fill=\"#000000\" fill-rule=\"evenodd\" fill-opacity=\"1\" /><path clip-path=\"url(#clip810)\" d=\"M29.7248 854.016 L35.1993 854.016 Q33.8307 856.499 33.1623 859.014 Q32.4621 861.496 32.4621 864.042 Q32.4621 869.74 36.0905 872.891 Q39.6872 876.042 46.212 876.042 Q52.7369 876.042 56.3653 872.891 Q59.9619 869.74 59.9619 864.042 Q59.9619 861.496 59.2935 859.014 Q58.5933 856.499 57.2247 854.016 L62.6355 854.016 Q63.7814 856.467 64.3543 859.109 Q64.9272 861.719 64.9272 864.679 Q64.9272 872.732 59.8664 877.474 Q54.8057 882.217 46.212 882.217 Q37.491 882.217 32.4939 877.442 Q27.4968 872.636 27.4968 864.297 Q27.4968 861.592 28.0697 859.014 Q28.6108 856.435 29.7248 854.016 Z\" fill=\"#000000\" fill-rule=\"evenodd\" fill-opacity=\"1\" /><path clip-path=\"url(#clip810)\" d=\"M32.4621 830.018 Q32.4621 834.728 36.1542 837.466 Q39.8145 840.203 46.212 840.203 Q52.6095 840.203 56.3017 837.497 Q59.9619 834.76 59.9619 830.018 Q59.9619 825.339 56.2698 822.602 Q52.5777 819.864 46.212 819.864 Q39.8781 819.864 36.186 822.602 Q32.4621 825.339 32.4621 830.018 M27.4968 830.018 Q27.4968 822.379 32.4621 818.018 Q37.4273 813.658 46.212 813.658 Q54.9649 813.658 59.9619 818.018 Q64.9272 822.379 64.9272 830.018 Q64.9272 837.688 59.9619 842.049 Q54.9649 846.378 46.212 846.378 Q37.4273 846.378 32.4621 842.049 Q27.4968 837.688 27.4968 830.018 Z\" fill=\"#000000\" fill-rule=\"evenodd\" fill-opacity=\"1\" /><path clip-path=\"url(#clip810)\" d=\"M42.4881 774.318 L64.0042 774.318 L64.0042 780.174 L42.679 780.174 Q37.6183 780.174 35.1038 782.148 Q32.5894 784.121 32.5894 788.068 Q32.5894 792.81 35.6131 795.547 Q38.6368 798.285 43.8567 798.285 L64.0042 798.285 L64.0042 804.173 L28.3562 804.173 L28.3562 798.285 L33.8944 798.285 Q30.6797 796.184 29.0883 793.351 Q27.4968 790.487 27.4968 786.763 Q27.4968 780.62 31.3163 777.469 Q35.1038 774.318 42.4881 774.318 Z\" fill=\"#000000\" fill-rule=\"evenodd\" fill-opacity=\"1\" /><path clip-path=\"url(#clip810)\" d=\"M33.7671 739.179 L14.479 739.179 L14.479 733.323 L64.0042 733.323 L64.0042 739.179 L58.657 739.179 Q61.8398 741.025 63.3994 743.858 Q64.9272 746.659 64.9272 750.606 Q64.9272 757.067 59.771 761.141 Q54.6147 765.183 46.212 765.183 Q37.8093 765.183 32.6531 761.141 Q27.4968 757.067 27.4968 750.606 Q27.4968 746.659 29.0564 743.858 Q30.5842 741.025 33.7671 739.179 M46.212 759.136 Q52.6732 759.136 56.3653 756.494 Q60.0256 753.82 60.0256 749.173 Q60.0256 744.526 56.3653 741.853 Q52.6732 739.179 46.212 739.179 Q39.7508 739.179 36.0905 741.853 Q32.3984 744.526 32.3984 749.173 Q32.3984 753.82 36.0905 756.494 Q39.7508 759.136 46.212 759.136 Z\" fill=\"#000000\" fill-rule=\"evenodd\" fill-opacity=\"1\" /><path clip-path=\"url(#clip810)\" d=\"M896.958 42.336 L905.222 42.336 L917.942 93.4584 L930.621 42.336 L939.817 42.336 L952.537 93.4584 L965.216 42.336 L973.521 42.336 L958.33 102.816 L948.04 102.816 L935.28 50.3163 L922.398 102.816 L912.109 102.816 L896.958 42.336 Z\" fill=\"#000000\" fill-rule=\"evenodd\" fill-opacity=\"1\" /><path clip-path=\"url(#clip810)\" d=\"M1006.62 64.4134 Q1005.36 63.6843 1003.86 63.3602 Q1002.4 62.9956 1000.62 62.9956 Q994.302 62.9956 990.899 67.1275 Q987.537 71.2189 987.537 78.9157 L987.537 102.816 L980.042 102.816 L980.042 57.4459 L987.537 57.4459 L987.537 64.4944 Q989.886 60.3625 993.654 58.3776 Q997.421 56.3521 1002.81 56.3521 Q1003.58 56.3521 1004.51 56.4737 Q1005.44 56.5547 1006.58 56.7572 L1006.62 64.4134 Z\" fill=\"#000000\" fill-rule=\"evenodd\" fill-opacity=\"1\" /><path clip-path=\"url(#clip810)\" d=\"M1014.43 57.4459 L1021.89 57.4459 L1021.89 102.816 L1014.43 102.816 L1014.43 57.4459 M1014.43 39.7839 L1021.89 39.7839 L1021.89 49.2225 L1014.43 49.2225 L1014.43 39.7839 Z\" fill=\"#000000\" fill-rule=\"evenodd\" fill-opacity=\"1\" /><path clip-path=\"url(#clip810)\" d=\"M1044.86 44.564 L1044.86 57.4459 L1060.21 57.4459 L1060.21 63.2387 L1044.86 63.2387 L1044.86 87.8682 Q1044.86 93.4179 1046.36 94.9978 Q1047.9 96.5776 1052.55 96.5776 L1060.21 96.5776 L1060.21 102.816 L1052.55 102.816 Q1043.93 102.816 1040.64 99.6158 Q1037.36 96.3751 1037.36 87.8682 L1037.36 63.2387 L1031.89 63.2387 L1031.89 57.4459 L1037.36 57.4459 L1037.36 44.564 L1044.86 44.564 Z\" fill=\"#000000\" fill-rule=\"evenodd\" fill-opacity=\"1\" /><path clip-path=\"url(#clip810)\" d=\"M1108.82 78.2675 L1108.82 81.9133 L1074.55 81.9133 Q1075.04 89.6101 1079.17 93.661 Q1083.34 97.6714 1090.75 97.6714 Q1095.05 97.6714 1099.06 96.6181 Q1103.11 95.5649 1107.08 93.4584 L1107.08 100.507 Q1103.07 102.208 1098.86 103.1 Q1094.64 103.991 1090.31 103.991 Q1079.45 103.991 1073.09 97.6714 Q1066.77 91.3519 1066.77 80.5765 Q1066.77 69.4365 1072.77 62.9146 Q1078.8 56.3521 1089.01 56.3521 Q1098.17 56.3521 1103.47 62.2664 Q1108.82 68.1403 1108.82 78.2675 M1101.37 76.08 Q1101.29 69.9632 1097.92 66.3174 Q1094.6 62.6715 1089.09 62.6715 Q1082.85 62.6715 1079.09 66.1958 Q1075.36 69.7201 1074.79 76.1205 L1101.37 76.08 Z\" fill=\"#000000\" fill-rule=\"evenodd\" fill-opacity=\"1\" /><path clip-path=\"url(#clip810)\" d=\"M1155.93 49.0605 L1155.93 71.7861 L1166.22 71.7861 Q1171.93 71.7861 1175.05 68.8289 Q1178.17 65.8718 1178.17 60.403 Q1178.17 54.9748 1175.05 52.0177 Q1171.93 49.0605 1166.22 49.0605 L1155.93 49.0605 M1147.75 42.336 L1166.22 42.336 Q1176.39 42.336 1181.57 46.954 Q1186.8 51.5316 1186.8 60.403 Q1186.8 69.3555 1181.57 73.9331 Q1176.39 78.5106 1166.22 78.5106 L1155.93 78.5106 L1155.93 102.816 L1147.75 102.816 L1147.75 42.336 Z\" fill=\"#000000\" fill-rule=\"evenodd\" fill-opacity=\"1\" /><path clip-path=\"url(#clip810)\" d=\"M1233.31 78.2675 L1233.31 81.9133 L1199.03 81.9133 Q1199.52 89.6101 1203.65 93.661 Q1207.82 97.6714 1215.24 97.6714 Q1219.53 97.6714 1223.54 96.6181 Q1227.59 95.5649 1231.56 93.4584 L1231.56 100.507 Q1227.55 102.208 1223.34 103.1 Q1219.13 103.991 1214.79 103.991 Q1203.94 103.991 1197.58 97.6714 Q1191.26 91.3519 1191.26 80.5765 Q1191.26 69.4365 1197.25 62.9146 Q1203.29 56.3521 1213.5 56.3521 Q1222.65 56.3521 1227.96 62.2664 Q1233.31 68.1403 1233.31 78.2675 M1225.85 76.08 Q1225.77 69.9632 1222.41 66.3174 Q1219.09 62.6715 1213.58 62.6715 Q1207.34 62.6715 1203.57 66.1958 Q1199.84 69.7201 1199.28 76.1205 L1225.85 76.08 Z\" fill=\"#000000\" fill-rule=\"evenodd\" fill-opacity=\"1\" /><path clip-path=\"url(#clip810)\" d=\"M1271.83 64.4134 Q1270.57 63.6843 1269.07 63.3602 Q1267.62 62.9956 1265.83 62.9956 Q1259.51 62.9956 1256.11 67.1275 Q1252.75 71.2189 1252.75 78.9157 L1252.75 102.816 L1245.26 102.816 L1245.26 57.4459 L1252.75 57.4459 L1252.75 64.4944 Q1255.1 60.3625 1258.87 58.3776 Q1262.63 56.3521 1268.02 56.3521 Q1268.79 56.3521 1269.72 56.4737 Q1270.65 56.5547 1271.79 56.7572 L1271.83 64.4134 Z\" fill=\"#000000\" fill-rule=\"evenodd\" fill-opacity=\"1\" /><path clip-path=\"url(#clip810)\" d=\"M1302.62 39.7839 L1302.62 45.9818 L1295.49 45.9818 Q1291.48 45.9818 1289.9 47.6022 Q1288.36 49.2225 1288.36 53.4355 L1288.36 57.4459 L1300.63 57.4459 L1300.63 63.2387 L1288.36 63.2387 L1288.36 102.816 L1280.86 102.816 L1280.86 63.2387 L1273.73 63.2387 L1273.73 57.4459 L1280.86 57.4459 L1280.86 54.2862 Q1280.86 46.711 1284.39 43.2677 Q1287.91 39.7839 1295.57 39.7839 L1302.62 39.7839 Z\" fill=\"#000000\" fill-rule=\"evenodd\" fill-opacity=\"1\" /><path clip-path=\"url(#clip810)\" d=\"M1326.44 62.6715 Q1320.44 62.6715 1316.96 67.3706 Q1313.47 72.0291 1313.47 80.1714 Q1313.47 88.3138 1316.92 93.0128 Q1320.4 97.6714 1326.44 97.6714 Q1332.39 97.6714 1335.87 92.9723 Q1339.36 88.2733 1339.36 80.1714 Q1339.36 72.1101 1335.87 67.4111 Q1332.39 62.6715 1326.44 62.6715 M1326.44 56.3521 Q1336.16 56.3521 1341.71 62.6715 Q1347.26 68.9909 1347.26 80.1714 Q1347.26 91.3114 1341.71 97.6714 Q1336.16 103.991 1326.44 103.991 Q1316.67 103.991 1311.12 97.6714 Q1305.61 91.3114 1305.61 80.1714 Q1305.61 68.9909 1311.12 62.6715 Q1316.67 56.3521 1326.44 56.3521 Z\" fill=\"#000000\" fill-rule=\"evenodd\" fill-opacity=\"1\" /><path clip-path=\"url(#clip810)\" d=\"M1385.9 64.4134 Q1384.65 63.6843 1383.15 63.3602 Q1381.69 62.9956 1379.91 62.9956 Q1373.59 62.9956 1370.19 67.1275 Q1366.82 71.2189 1366.82 78.9157 L1366.82 102.816 L1359.33 102.816 L1359.33 57.4459 L1366.82 57.4459 L1366.82 64.4944 Q1369.17 60.3625 1372.94 58.3776 Q1376.71 56.3521 1382.09 56.3521 Q1382.86 56.3521 1383.8 56.4737 Q1384.73 56.5547 1385.86 56.7572 L1385.9 64.4134 Z\" fill=\"#000000\" fill-rule=\"evenodd\" fill-opacity=\"1\" /><path clip-path=\"url(#clip810)\" d=\"M1427.59 66.1553 Q1430.38 61.1322 1434.27 58.7422 Q1438.16 56.3521 1443.43 56.3521 Q1450.51 56.3521 1454.36 61.3347 Q1458.21 66.2768 1458.21 75.4319 L1458.21 102.816 L1450.72 102.816 L1450.72 75.6749 Q1450.72 69.153 1448.41 65.9933 Q1446.1 62.8336 1441.36 62.8336 Q1435.57 62.8336 1432.2 66.6819 Q1428.84 70.5303 1428.84 77.1738 L1428.84 102.816 L1421.35 102.816 L1421.35 75.6749 Q1421.35 69.1125 1419.04 65.9933 Q1416.73 62.8336 1411.91 62.8336 Q1406.2 62.8336 1402.84 66.7224 Q1399.47 70.5708 1399.47 77.1738 L1399.47 102.816 L1391.98 102.816 L1391.98 57.4459 L1399.47 57.4459 L1399.47 64.4944 Q1402.03 60.322 1405.59 58.3371 Q1409.15 56.3521 1414.06 56.3521 Q1419 56.3521 1422.44 58.8637 Q1425.93 61.3752 1427.59 66.1553 Z\" fill=\"#000000\" fill-rule=\"evenodd\" fill-opacity=\"1\" /><path clip-path=\"url(#clip810)\" d=\"M1493.7 80.0094 Q1484.66 80.0094 1481.18 82.0754 Q1477.7 84.1413 1477.7 89.1239 Q1477.7 93.0938 1480.29 95.4434 Q1482.92 97.7524 1487.42 97.7524 Q1493.62 97.7524 1497.34 93.3774 Q1501.11 88.9619 1501.11 81.6703 L1501.11 80.0094 L1493.7 80.0094 M1508.56 76.9307 L1508.56 102.816 L1501.11 102.816 L1501.11 95.9295 Q1498.56 100.061 1494.75 102.046 Q1490.94 103.991 1485.43 103.991 Q1478.47 103.991 1474.33 100.102 Q1470.24 96.1725 1470.24 89.6101 Q1470.24 81.9538 1475.35 78.065 Q1480.49 74.1761 1490.66 74.1761 L1501.11 74.1761 L1501.11 73.4469 Q1501.11 68.3023 1497.71 65.5072 Q1494.35 62.6715 1488.23 62.6715 Q1484.34 62.6715 1480.65 63.6032 Q1476.97 64.535 1473.56 66.3984 L1473.56 59.5118 Q1477.66 57.932 1481.5 57.1623 Q1485.35 56.3521 1489 56.3521 Q1498.84 56.3521 1503.7 61.4563 Q1508.56 66.5604 1508.56 76.9307 Z\" fill=\"#000000\" fill-rule=\"evenodd\" fill-opacity=\"1\" /><path clip-path=\"url(#clip810)\" d=\"M1561.63 75.4319 L1561.63 102.816 L1554.18 102.816 L1554.18 75.6749 Q1554.18 69.234 1551.67 66.0338 Q1549.15 62.8336 1544.13 62.8336 Q1538.1 62.8336 1534.61 66.6819 Q1531.13 70.5303 1531.13 77.1738 L1531.13 102.816 L1523.63 102.816 L1523.63 57.4459 L1531.13 57.4459 L1531.13 64.4944 Q1533.8 60.403 1537.41 58.3776 Q1541.05 56.3521 1545.79 56.3521 Q1553.61 56.3521 1557.62 61.2132 Q1561.63 66.0338 1561.63 75.4319 Z\" fill=\"#000000\" fill-rule=\"evenodd\" fill-opacity=\"1\" /><path clip-path=\"url(#clip810)\" d=\"M1609.15 59.1878 L1609.15 66.1553 Q1605.99 64.4134 1602.79 63.5627 Q1599.63 62.6715 1596.39 62.6715 Q1589.14 62.6715 1585.13 67.2896 Q1581.12 71.8671 1581.12 80.1714 Q1581.12 88.4758 1585.13 93.0938 Q1589.14 97.6714 1596.39 97.6714 Q1599.63 97.6714 1602.79 96.8207 Q1605.99 95.9295 1609.15 94.1876 L1609.15 101.074 Q1606.03 102.532 1602.67 103.262 Q1599.34 103.991 1595.58 103.991 Q1585.33 103.991 1579.29 97.5498 Q1573.26 91.1089 1573.26 80.1714 Q1573.26 69.072 1579.33 62.712 Q1585.45 56.3521 1596.06 56.3521 Q1599.51 56.3521 1602.79 57.0813 Q1606.07 57.7699 1609.15 59.1878 Z\" fill=\"#000000\" fill-rule=\"evenodd\" fill-opacity=\"1\" /><path clip-path=\"url(#clip810)\" d=\"M1660.92 78.2675 L1660.92 81.9133 L1626.65 81.9133 Q1627.13 89.6101 1631.27 93.661 Q1635.44 97.6714 1642.85 97.6714 Q1647.15 97.6714 1651.16 96.6181 Q1655.21 95.5649 1659.18 93.4584 L1659.18 100.507 Q1655.17 102.208 1650.95 103.1 Q1646.74 103.991 1642.41 103.991 Q1631.55 103.991 1625.19 97.6714 Q1618.87 91.3519 1618.87 80.5765 Q1618.87 69.4365 1624.87 62.9146 Q1630.9 56.3521 1641.11 56.3521 Q1650.26 56.3521 1655.57 62.2664 Q1660.92 68.1403 1660.92 78.2675 M1653.46 76.08 Q1653.38 69.9632 1650.02 66.3174 Q1646.7 62.6715 1641.19 62.6715 Q1634.95 62.6715 1631.18 66.1958 Q1627.46 69.7201 1626.89 76.1205 L1653.46 76.08 Z\" fill=\"#000000\" fill-rule=\"evenodd\" fill-opacity=\"1\" /><path clip-path=\"url(#clip810)\" d=\"M929.832 139.781 L929.832 186.811 L939.716 186.811 Q952.233 186.811 958.026 181.14 Q963.859 175.469 963.859 163.235 Q963.859 151.083 958.026 145.452 Q952.233 139.781 939.716 139.781 L929.832 139.781 M921.649 133.056 L938.46 133.056 Q956.041 133.056 964.264 140.388 Q972.488 147.68 972.488 163.235 Q972.488 178.872 964.224 186.204 Q955.96 193.536 938.46 193.536 L921.649 193.536 L921.649 133.056 Z\" fill=\"#000000\" fill-rule=\"evenodd\" fill-opacity=\"1\" /><path clip-path=\"url(#clip810)\" d=\"M1005.83 170.729 Q996.793 170.729 993.309 172.795 Q989.825 174.861 989.825 179.844 Q989.825 183.814 992.418 186.163 Q995.051 188.472 999.548 188.472 Q1005.75 188.472 1009.47 184.097 Q1013.24 179.682 1013.24 172.39 L1013.24 170.729 L1005.83 170.729 M1020.69 167.651 L1020.69 193.536 L1013.24 193.536 L1013.24 186.649 Q1010.69 190.781 1006.88 192.766 Q1003.07 194.711 997.563 194.711 Q990.595 194.711 986.463 190.822 Q982.372 186.893 982.372 180.33 Q982.372 172.674 987.476 168.785 Q992.621 164.896 1002.79 164.896 L1013.24 164.896 L1013.24 164.167 Q1013.24 159.022 1009.84 156.227 Q1006.47 153.392 1000.36 153.392 Q996.469 153.392 992.783 154.323 Q989.096 155.255 985.693 157.118 L985.693 150.232 Q989.785 148.652 993.633 147.882 Q997.482 147.072 1001.13 147.072 Q1010.97 147.072 1015.83 152.176 Q1020.69 157.28 1020.69 167.651 Z\" fill=\"#000000\" fill-rule=\"evenodd\" fill-opacity=\"1\" /><path clip-path=\"url(#clip810)\" d=\"M1043.42 135.284 L1043.42 148.166 L1058.77 148.166 L1058.77 153.959 L1043.42 153.959 L1043.42 178.588 Q1043.42 184.138 1044.92 185.718 Q1046.46 187.298 1051.12 187.298 L1058.77 187.298 L1058.77 193.536 L1051.12 193.536 Q1042.49 193.536 1039.21 190.336 Q1035.92 187.095 1035.92 178.588 L1035.92 153.959 L1030.46 153.959 L1030.46 148.166 L1035.92 148.166 L1035.92 135.284 L1043.42 135.284 Z\" fill=\"#000000\" fill-rule=\"evenodd\" fill-opacity=\"1\" /><path clip-path=\"url(#clip810)\" d=\"M1089.19 170.729 Q1080.16 170.729 1076.68 172.795 Q1073.19 174.861 1073.19 179.844 Q1073.19 183.814 1075.79 186.163 Q1078.42 188.472 1082.92 188.472 Q1089.11 188.472 1092.84 184.097 Q1096.61 179.682 1096.61 172.39 L1096.61 170.729 L1089.19 170.729 M1104.06 167.651 L1104.06 193.536 L1096.61 193.536 L1096.61 186.649 Q1094.06 190.781 1090.25 192.766 Q1086.44 194.711 1080.93 194.711 Q1073.96 194.711 1069.83 190.822 Q1065.74 186.893 1065.74 180.33 Q1065.74 172.674 1070.84 168.785 Q1075.99 164.896 1086.16 164.896 L1096.61 164.896 L1096.61 164.167 Q1096.61 159.022 1093.2 156.227 Q1089.84 153.392 1083.73 153.392 Q1079.84 153.392 1076.15 154.323 Q1072.46 155.255 1069.06 157.118 L1069.06 150.232 Q1073.15 148.652 1077 147.882 Q1080.85 147.072 1084.5 147.072 Q1094.34 147.072 1099.2 152.176 Q1104.06 157.28 1104.06 167.651 Z\" fill=\"#000000\" fill-rule=\"evenodd\" fill-opacity=\"1\" /><path clip-path=\"url(#clip810)\" d=\"M1119.74 133.056 L1154.49 133.056 L1154.49 139.943 L1127.92 139.943 L1127.92 157.767 L1151.9 157.767 L1151.9 164.653 L1127.92 164.653 L1127.92 193.536 L1119.74 193.536 L1119.74 133.056 Z\" fill=\"#000000\" fill-rule=\"evenodd\" fill-opacity=\"1\" /><path clip-path=\"url(#clip810)\" d=\"M1187.39 155.133 Q1186.13 154.404 1184.63 154.08 Q1183.18 153.716 1181.39 153.716 Q1175.07 153.716 1171.67 157.848 Q1168.31 161.939 1168.31 169.636 L1168.31 193.536 L1160.81 193.536 L1160.81 148.166 L1168.31 148.166 L1168.31 155.214 Q1170.66 151.083 1174.43 149.098 Q1178.19 147.072 1183.58 147.072 Q1184.35 147.072 1185.28 147.194 Q1186.21 147.275 1187.35 147.477 L1187.39 155.133 Z\" fill=\"#000000\" fill-rule=\"evenodd\" fill-opacity=\"1\" /><path clip-path=\"url(#clip810)\" d=\"M1215.83 170.729 Q1206.79 170.729 1203.31 172.795 Q1199.82 174.861 1199.82 179.844 Q1199.82 183.814 1202.42 186.163 Q1205.05 188.472 1209.55 188.472 Q1215.74 188.472 1219.47 184.097 Q1223.24 179.682 1223.24 172.39 L1223.24 170.729 L1215.83 170.729 M1230.69 167.651 L1230.69 193.536 L1223.24 193.536 L1223.24 186.649 Q1220.69 190.781 1216.88 192.766 Q1213.07 194.711 1207.56 194.711 Q1200.59 194.711 1196.46 190.822 Q1192.37 186.893 1192.37 180.33 Q1192.37 172.674 1197.47 168.785 Q1202.62 164.896 1212.79 164.896 L1223.24 164.896 L1223.24 164.167 Q1223.24 159.022 1219.84 156.227 Q1216.47 153.392 1210.36 153.392 Q1206.47 153.392 1202.78 154.323 Q1199.1 155.255 1195.69 157.118 L1195.69 150.232 Q1199.78 148.652 1203.63 147.882 Q1207.48 147.072 1211.13 147.072 Q1220.97 147.072 1225.83 152.176 Q1230.69 157.28 1230.69 167.651 Z\" fill=\"#000000\" fill-rule=\"evenodd\" fill-opacity=\"1\" /><path clip-path=\"url(#clip810)\" d=\"M1281.37 156.875 Q1284.16 151.852 1288.05 149.462 Q1291.94 147.072 1297.21 147.072 Q1304.3 147.072 1308.15 152.055 Q1311.99 156.997 1311.99 166.152 L1311.99 193.536 L1304.5 193.536 L1304.5 166.395 Q1304.5 159.873 1302.19 156.713 Q1299.88 153.554 1295.14 153.554 Q1289.35 153.554 1285.99 157.402 Q1282.62 161.25 1282.62 167.894 L1282.62 193.536 L1275.13 193.536 L1275.13 166.395 Q1275.13 159.832 1272.82 156.713 Q1270.51 153.554 1265.69 153.554 Q1259.98 153.554 1256.62 157.442 Q1253.26 161.291 1253.26 167.894 L1253.26 193.536 L1245.76 193.536 L1245.76 148.166 L1253.26 148.166 L1253.26 155.214 Q1255.81 151.042 1259.37 149.057 Q1262.94 147.072 1267.84 147.072 Q1272.78 147.072 1276.22 149.584 Q1279.71 152.095 1281.37 156.875 Z\" fill=\"#000000\" fill-rule=\"evenodd\" fill-opacity=\"1\" /><path clip-path=\"url(#clip810)\" d=\"M1365.67 168.988 L1365.67 172.633 L1331.4 172.633 Q1331.88 180.33 1336.02 184.381 Q1340.19 188.391 1347.6 188.391 Q1351.9 188.391 1355.91 187.338 Q1359.96 186.285 1363.93 184.178 L1363.93 191.227 Q1359.92 192.928 1355.7 193.82 Q1351.49 194.711 1347.16 194.711 Q1336.3 194.711 1329.94 188.391 Q1323.62 182.072 1323.62 171.297 Q1323.62 160.157 1329.62 153.635 Q1335.65 147.072 1345.86 147.072 Q1355.01 147.072 1360.32 152.986 Q1365.67 158.86 1365.67 168.988 M1358.21 166.8 Q1358.13 160.683 1354.77 157.037 Q1351.45 153.392 1345.94 153.392 Q1339.7 153.392 1335.93 156.916 Q1332.21 160.44 1331.64 166.841 L1358.21 166.8 Z\" fill=\"#000000\" fill-rule=\"evenodd\" fill-opacity=\"1\" /><path clip-path=\"url(#clip810)\" d=\"M1379.81 183.247 L1388.35 183.247 L1388.35 193.536 L1379.81 193.536 L1379.81 183.247 M1379.81 150.637 L1388.35 150.637 L1388.35 160.926 L1379.81 160.926 L1379.81 150.637 Z\" fill=\"#000000\" fill-rule=\"evenodd\" fill-opacity=\"1\" /><path clip-path=\"url(#clip810)\" d=\"M1464.79 170.891 Q1464.79 162.668 1461.39 158.01 Q1458.03 153.311 1452.11 153.311 Q1446.2 153.311 1442.8 158.01 Q1439.44 162.668 1439.44 170.891 Q1439.44 179.115 1442.8 183.814 Q1446.2 188.472 1452.11 188.472 Q1458.03 188.472 1461.39 183.814 Q1464.79 179.115 1464.79 170.891 M1439.44 155.052 Q1441.78 151.002 1445.35 149.057 Q1448.95 147.072 1453.94 147.072 Q1462.2 147.072 1467.35 153.635 Q1472.53 160.197 1472.53 170.891 Q1472.53 181.586 1467.35 188.148 Q1462.2 194.711 1453.94 194.711 Q1448.95 194.711 1445.35 192.766 Q1441.78 190.781 1439.44 186.73 L1439.44 193.536 L1431.94 193.536 L1431.94 130.504 L1439.44 130.504 L1439.44 155.052 Z\" fill=\"#000000\" fill-rule=\"evenodd\" fill-opacity=\"1\" /><path clip-path=\"url(#clip810)\" d=\"M1484.89 148.166 L1492.34 148.166 L1492.34 193.536 L1484.89 193.536 L1484.89 148.166 M1484.89 130.504 L1492.34 130.504 L1492.34 139.943 L1484.89 139.943 L1484.89 130.504 Z\" fill=\"#000000\" fill-rule=\"evenodd\" fill-opacity=\"1\" /><path clip-path=\"url(#clip810)\" d=\"M1537.79 170.324 Q1537.79 162.223 1534.43 157.767 Q1531.11 153.311 1525.07 153.311 Q1519.08 153.311 1515.71 157.767 Q1512.39 162.223 1512.39 170.324 Q1512.39 178.386 1515.71 182.842 Q1519.08 187.298 1525.07 187.298 Q1531.11 187.298 1534.43 182.842 Q1537.79 178.386 1537.79 170.324 M1545.24 187.905 Q1545.24 199.491 1540.1 205.122 Q1534.96 210.793 1524.34 210.793 Q1520.41 210.793 1516.93 210.185 Q1513.45 209.618 1510.16 208.403 L1510.16 201.152 Q1513.45 202.934 1516.65 203.785 Q1519.85 204.635 1523.17 204.635 Q1530.5 204.635 1534.15 200.787 Q1537.79 196.979 1537.79 189.242 L1537.79 185.556 Q1535.48 189.566 1531.88 191.551 Q1528.27 193.536 1523.25 193.536 Q1514.9 193.536 1509.8 187.176 Q1504.7 180.816 1504.7 170.324 Q1504.7 159.792 1509.8 153.432 Q1514.9 147.072 1523.25 147.072 Q1528.27 147.072 1531.88 149.057 Q1535.48 151.042 1537.79 155.052 L1537.79 148.166 L1545.24 148.166 L1545.24 187.905 Z\" fill=\"#000000\" fill-rule=\"evenodd\" fill-opacity=\"1\" /><path clip-path=\"url(#clip810)\" d=\"M1590.45 155.052 L1590.45 130.504 L1597.91 130.504 L1597.91 193.536 L1590.45 193.536 L1590.45 186.73 Q1588.1 190.781 1584.5 192.766 Q1580.93 194.711 1575.91 194.711 Q1567.69 194.711 1562.5 188.148 Q1557.36 181.586 1557.36 170.891 Q1557.36 160.197 1562.5 153.635 Q1567.69 147.072 1575.91 147.072 Q1580.93 147.072 1584.5 149.057 Q1588.1 151.002 1590.45 155.052 M1565.05 170.891 Q1565.05 179.115 1568.42 183.814 Q1571.82 188.472 1577.73 188.472 Q1583.65 188.472 1587.05 183.814 Q1590.45 179.115 1590.45 170.891 Q1590.45 162.668 1587.05 158.01 Q1583.65 153.311 1577.73 153.311 Q1571.82 153.311 1568.42 158.01 Q1565.05 162.668 1565.05 170.891 Z\" fill=\"#000000\" fill-rule=\"evenodd\" fill-opacity=\"1\" /><path clip-path=\"url(#clip810)\" d=\"M1636.23 130.504 L1636.23 136.702 L1629.1 136.702 Q1625.09 136.702 1623.51 138.322 Q1621.97 139.943 1621.97 144.155 L1621.97 148.166 L1634.24 148.166 L1634.24 153.959 L1621.97 153.959 L1621.97 193.536 L1614.47 193.536 L1614.47 153.959 L1607.35 153.959 L1607.35 148.166 L1614.47 148.166 L1614.47 145.006 Q1614.47 137.431 1618 133.988 Q1621.52 130.504 1629.18 130.504 L1636.23 130.504 Z\" fill=\"#000000\" fill-rule=\"evenodd\" fill-opacity=\"1\" /><path clip-path=\"url(#clip810)\" d=\"M889.201 225.761 L889.201 233.741 Q884.542 231.513 880.41 230.419 Q876.279 229.326 872.43 229.326 Q865.746 229.326 862.1 231.918 Q858.495 234.511 858.495 239.291 Q858.495 243.301 860.885 245.367 Q863.316 247.393 870.04 248.649 L874.982 249.661 Q884.137 251.403 888.472 255.819 Q892.847 260.194 892.847 267.566 Q892.847 276.357 886.932 280.894 Q881.059 285.431 869.676 285.431 Q865.382 285.431 860.521 284.459 Q855.7 283.486 850.515 281.582 L850.515 273.157 Q855.497 275.952 860.277 277.369 Q865.058 278.787 869.676 278.787 Q876.684 278.787 880.492 276.033 Q884.299 273.278 884.299 268.174 Q884.299 263.718 881.545 261.206 Q878.831 258.695 872.592 257.439 L867.61 256.467 Q858.455 254.644 854.363 250.755 Q850.272 246.866 850.272 239.939 Q850.272 231.918 855.903 227.3 Q861.574 222.682 871.498 222.682 Q875.752 222.682 880.167 223.452 Q884.583 224.222 889.201 225.761 Z\" fill=\"#000000\" fill-rule=\"evenodd\" fill-opacity=\"1\" /><path clip-path=\"url(#clip810)\" d=\"M905.283 238.886 L912.737 238.886 L912.737 284.256 L905.283 284.256 L905.283 238.886 M905.283 221.224 L912.737 221.224 L912.737 230.663 L905.283 230.663 L905.283 221.224 Z\" fill=\"#000000\" fill-rule=\"evenodd\" fill-opacity=\"1\" /><path clip-path=\"url(#clip810)\" d=\"M925.092 238.886 L960.497 238.886 L960.497 245.691 L932.465 278.301 L960.497 278.301 L960.497 284.256 L924.079 284.256 L924.079 277.45 L952.111 244.841 L925.092 244.841 L925.092 238.886 Z\" fill=\"#000000\" fill-rule=\"evenodd\" fill-opacity=\"1\" /><path clip-path=\"url(#clip810)\" d=\"M1010.69 259.708 L1010.69 263.353 L976.417 263.353 Q976.903 271.05 981.035 275.101 Q985.207 279.111 992.621 279.111 Q996.914 279.111 1000.92 278.058 Q1004.98 277.005 1008.95 274.898 L1008.95 281.947 Q1004.94 283.648 1000.72 284.54 Q996.509 285.431 992.175 285.431 Q981.319 285.431 974.959 279.111 Q968.639 272.792 968.639 262.017 Q968.639 250.877 974.635 244.355 Q980.67 237.792 990.879 237.792 Q1000.03 237.792 1005.34 243.706 Q1010.69 249.58 1010.69 259.708 M1003.23 257.52 Q1003.15 251.403 999.791 247.757 Q996.469 244.112 990.96 244.112 Q984.721 244.112 980.954 247.636 Q977.227 251.16 976.66 257.561 L1003.23 257.52 Z\" fill=\"#000000\" fill-rule=\"evenodd\" fill-opacity=\"1\" /><path clip-path=\"url(#clip810)\" d=\"M1024.83 273.967 L1033.37 273.967 L1033.37 284.256 L1024.83 284.256 L1024.83 273.967 M1024.83 241.357 L1033.37 241.357 L1033.37 251.646 L1024.83 251.646 L1024.83 241.357 Z\" fill=\"#000000\" fill-rule=\"evenodd\" fill-opacity=\"1\" /><path clip-path=\"url(#clip810)\" d=\"M1095.15 221.305 Q1089.72 230.622 1087.09 239.737 Q1084.45 248.851 1084.45 258.209 Q1084.45 267.566 1087.09 276.762 Q1089.76 285.917 1095.15 295.193 L1088.67 295.193 Q1082.59 285.674 1079.55 276.478 Q1076.56 267.283 1076.56 258.209 Q1076.56 249.175 1079.55 240.02 Q1082.55 230.865 1088.67 221.305 L1095.15 221.305 Z\" fill=\"#000000\" fill-rule=\"evenodd\" fill-opacity=\"1\" /><path clip-path=\"url(#clip810)\" d=\"M1112.08 277.369 L1125.45 277.369 L1125.45 231.23 L1110.91 234.146 L1110.91 226.693 L1125.37 223.776 L1133.55 223.776 L1133.55 277.369 L1146.92 277.369 L1146.92 284.256 L1112.08 284.256 L1112.08 277.369 Z\" fill=\"#000000\" fill-rule=\"evenodd\" fill-opacity=\"1\" /><path clip-path=\"url(#clip810)\" d=\"M1180.95 229.164 Q1174.63 229.164 1171.43 235.402 Q1168.27 241.6 1168.27 254.077 Q1168.27 266.513 1171.43 272.751 Q1174.63 278.949 1180.95 278.949 Q1187.31 278.949 1190.47 272.751 Q1193.67 266.513 1193.67 254.077 Q1193.67 241.6 1190.47 235.402 Q1187.31 229.164 1180.95 229.164 M1180.95 222.682 Q1191.11 222.682 1196.46 230.744 Q1201.85 238.764 1201.85 254.077 Q1201.85 269.349 1196.46 277.41 Q1191.11 285.431 1180.95 285.431 Q1170.78 285.431 1165.39 277.41 Q1160.04 269.349 1160.04 254.077 Q1160.04 238.764 1165.39 230.744 Q1170.78 222.682 1180.95 222.682 Z\" fill=\"#000000\" fill-rule=\"evenodd\" fill-opacity=\"1\" /><path clip-path=\"url(#clip810)\" d=\"M1233.73 229.164 Q1227.41 229.164 1224.21 235.402 Q1221.05 241.6 1221.05 254.077 Q1221.05 266.513 1224.21 272.751 Q1227.41 278.949 1233.73 278.949 Q1240.09 278.949 1243.25 272.751 Q1246.45 266.513 1246.45 254.077 Q1246.45 241.6 1243.25 235.402 Q1240.09 229.164 1233.73 229.164 M1233.73 222.682 Q1243.9 222.682 1249.25 230.744 Q1254.63 238.764 1254.63 254.077 Q1254.63 269.349 1249.25 277.41 Q1243.9 285.431 1233.73 285.431 Q1223.56 285.431 1218.17 277.41 Q1212.83 269.349 1212.83 254.077 Q1212.83 238.764 1218.17 230.744 Q1223.56 222.682 1233.73 222.682 Z\" fill=\"#000000\" fill-rule=\"evenodd\" fill-opacity=\"1\" /><path clip-path=\"url(#clip810)\" d=\"M1286.51 229.164 Q1280.19 229.164 1276.99 235.402 Q1273.83 241.6 1273.83 254.077 Q1273.83 266.513 1276.99 272.751 Q1280.19 278.949 1286.51 278.949 Q1292.87 278.949 1296.03 272.751 Q1299.23 266.513 1299.23 254.077 Q1299.23 241.6 1296.03 235.402 Q1292.87 229.164 1286.51 229.164 M1286.51 222.682 Q1296.68 222.682 1302.03 230.744 Q1307.42 238.764 1307.42 254.077 Q1307.42 269.349 1302.03 277.41 Q1296.68 285.431 1286.51 285.431 Q1276.35 285.431 1270.96 277.41 Q1265.61 269.349 1265.61 254.077 Q1265.61 238.764 1270.96 230.744 Q1276.35 222.682 1286.51 222.682 Z\" fill=\"#000000\" fill-rule=\"evenodd\" fill-opacity=\"1\" /><path clip-path=\"url(#clip810)\" d=\"M1339.3 229.164 Q1332.98 229.164 1329.78 235.402 Q1326.62 241.6 1326.62 254.077 Q1326.62 266.513 1329.78 272.751 Q1332.98 278.949 1339.3 278.949 Q1345.66 278.949 1348.82 272.751 Q1352.02 266.513 1352.02 254.077 Q1352.02 241.6 1348.82 235.402 Q1345.66 229.164 1339.3 229.164 M1339.3 222.682 Q1349.46 222.682 1354.81 230.744 Q1360.2 238.764 1360.2 254.077 Q1360.2 269.349 1354.81 277.41 Q1349.46 285.431 1339.3 285.431 Q1329.13 285.431 1323.74 277.41 Q1318.39 269.349 1318.39 254.077 Q1318.39 238.764 1323.74 230.744 Q1329.13 222.682 1339.3 222.682 Z\" fill=\"#000000\" fill-rule=\"evenodd\" fill-opacity=\"1\" /><path clip-path=\"url(#clip810)\" d=\"M1392.08 229.164 Q1385.76 229.164 1382.56 235.402 Q1379.4 241.6 1379.4 254.077 Q1379.4 266.513 1382.56 272.751 Q1385.76 278.949 1392.08 278.949 Q1398.44 278.949 1401.6 272.751 Q1404.8 266.513 1404.8 254.077 Q1404.8 241.6 1401.6 235.402 Q1398.44 229.164 1392.08 229.164 M1392.08 222.682 Q1402.25 222.682 1407.6 230.744 Q1412.98 238.764 1412.98 254.077 Q1412.98 269.349 1407.6 277.41 Q1402.25 285.431 1392.08 285.431 Q1381.91 285.431 1376.52 277.41 Q1371.18 269.349 1371.18 254.077 Q1371.18 238.764 1376.52 230.744 Q1381.91 222.682 1392.08 222.682 Z\" fill=\"#000000\" fill-rule=\"evenodd\" fill-opacity=\"1\" /><path clip-path=\"url(#clip810)\" d=\"M1428.21 273.967 L1436.76 273.967 L1436.76 280.934 L1430.12 293.897 L1424.89 293.897 L1428.21 280.934 L1428.21 273.967 Z\" fill=\"#000000\" fill-rule=\"evenodd\" fill-opacity=\"1\" /><path clip-path=\"url(#clip810)\" d=\"M1481.52 277.369 L1494.89 277.369 L1494.89 231.23 L1480.35 234.146 L1480.35 226.693 L1494.81 223.776 L1502.99 223.776 L1502.99 277.369 L1516.36 277.369 L1516.36 284.256 L1481.52 284.256 L1481.52 277.369 Z\" fill=\"#000000\" fill-rule=\"evenodd\" fill-opacity=\"1\" /><path clip-path=\"url(#clip810)\" d=\"M1550.39 229.164 Q1544.07 229.164 1540.87 235.402 Q1537.71 241.6 1537.71 254.077 Q1537.71 266.513 1540.87 272.751 Q1544.07 278.949 1550.39 278.949 Q1556.75 278.949 1559.91 272.751 Q1563.11 266.513 1563.11 254.077 Q1563.11 241.6 1559.91 235.402 Q1556.75 229.164 1550.39 229.164 M1550.39 222.682 Q1560.56 222.682 1565.9 230.744 Q1571.29 238.764 1571.29 254.077 Q1571.29 269.349 1565.9 277.41 Q1560.56 285.431 1550.39 285.431 Q1540.22 285.431 1534.83 277.41 Q1529.49 269.349 1529.49 254.077 Q1529.49 238.764 1534.83 230.744 Q1540.22 222.682 1550.39 222.682 Z\" fill=\"#000000\" fill-rule=\"evenodd\" fill-opacity=\"1\" /><path clip-path=\"url(#clip810)\" d=\"M1603.17 229.164 Q1596.85 229.164 1593.65 235.402 Q1590.49 241.6 1590.49 254.077 Q1590.49 266.513 1593.65 272.751 Q1596.85 278.949 1603.17 278.949 Q1609.53 278.949 1612.69 272.751 Q1615.89 266.513 1615.89 254.077 Q1615.89 241.6 1612.69 235.402 Q1609.53 229.164 1603.17 229.164 M1603.17 222.682 Q1613.34 222.682 1618.69 230.744 Q1624.08 238.764 1624.08 254.077 Q1624.08 269.349 1618.69 277.41 Q1613.34 285.431 1603.17 285.431 Q1593.01 285.431 1587.62 277.41 Q1582.27 269.349 1582.27 254.077 Q1582.27 238.764 1587.62 230.744 Q1593.01 222.682 1603.17 222.682 Z\" fill=\"#000000\" fill-rule=\"evenodd\" fill-opacity=\"1\" /><path clip-path=\"url(#clip810)\" d=\"M1655.96 229.164 Q1649.64 229.164 1646.44 235.402 Q1643.28 241.6 1643.28 254.077 Q1643.28 266.513 1646.44 272.751 Q1649.64 278.949 1655.96 278.949 Q1662.32 278.949 1665.48 272.751 Q1668.68 266.513 1668.68 254.077 Q1668.68 241.6 1665.48 235.402 Q1662.32 229.164 1655.96 229.164 M1655.96 222.682 Q1666.12 222.682 1671.47 230.744 Q1676.86 238.764 1676.86 254.077 Q1676.86 269.349 1671.47 277.41 Q1666.12 285.431 1655.96 285.431 Q1645.79 285.431 1640.4 277.41 Q1635.05 269.349 1635.05 254.077 Q1635.05 238.764 1640.4 230.744 Q1645.79 222.682 1655.96 222.682 Z\" fill=\"#000000\" fill-rule=\"evenodd\" fill-opacity=\"1\" /><path clip-path=\"url(#clip810)\" d=\"M1689.01 221.305 L1695.49 221.305 Q1701.57 230.865 1704.57 240.02 Q1707.61 249.175 1707.61 258.209 Q1707.61 267.283 1704.57 276.478 Q1701.57 285.674 1695.49 295.193 L1689.01 295.193 Q1694.4 285.917 1697.03 276.762 Q1699.71 267.566 1699.71 258.209 Q1699.71 248.851 1697.03 239.737 Q1694.4 230.622 1689.01 221.305 Z\" fill=\"#000000\" fill-rule=\"evenodd\" fill-opacity=\"1\" /><path clip-path=\"url(#clip812)\" d=\"\n",
       "M319.499 1346.38 L319.499 1417.71 L451.836 1417.71 L451.836 1346.38 L319.499 1346.38 L319.499 1346.38  Z\n",
       "  \" fill=\"#009af9\" fill-rule=\"evenodd\" fill-opacity=\"1\"/>\n",
       "<polyline clip-path=\"url(#clip812)\" style=\"stroke:#000000; stroke-linecap:round; stroke-linejoin:round; stroke-width:4; stroke-opacity:1; fill:none\" points=\"\n",
       "  319.499,1346.38 319.499,1417.71 451.836,1417.71 451.836,1346.38 319.499,1346.38 \n",
       "  \"/>\n",
       "<path clip-path=\"url(#clip812)\" d=\"\n",
       "M650.34 278.605 L650.34 1417.71 L782.677 1417.71 L782.677 278.605 L650.34 278.605 L650.34 278.605  Z\n",
       "  \" fill=\"#009af9\" fill-rule=\"evenodd\" fill-opacity=\"1\"/>\n",
       "<polyline clip-path=\"url(#clip812)\" style=\"stroke:#000000; stroke-linecap:round; stroke-linejoin:round; stroke-width:4; stroke-opacity:1; fill:none\" points=\"\n",
       "  650.34,278.605 650.34,1417.71 782.677,1417.71 782.677,278.605 650.34,278.605 \n",
       "  \"/>\n",
       "<path clip-path=\"url(#clip812)\" d=\"\n",
       "M981.181 1385.92 L981.181 1417.71 L1113.52 1417.71 L1113.52 1385.92 L981.181 1385.92 L981.181 1385.92  Z\n",
       "  \" fill=\"#009af9\" fill-rule=\"evenodd\" fill-opacity=\"1\"/>\n",
       "<polyline clip-path=\"url(#clip812)\" style=\"stroke:#000000; stroke-linecap:round; stroke-linejoin:round; stroke-width:4; stroke-opacity:1; fill:none\" points=\"\n",
       "  981.181,1385.92 981.181,1417.71 1113.52,1417.71 1113.52,1385.92 981.181,1385.92 \n",
       "  \"/>\n",
       "<path clip-path=\"url(#clip812)\" d=\"\n",
       "M1312.02 1183.84 L1312.02 1417.71 L1444.36 1417.71 L1444.36 1183.84 L1312.02 1183.84 L1312.02 1183.84  Z\n",
       "  \" fill=\"#009af9\" fill-rule=\"evenodd\" fill-opacity=\"1\"/>\n",
       "<polyline clip-path=\"url(#clip812)\" style=\"stroke:#000000; stroke-linecap:round; stroke-linejoin:round; stroke-width:4; stroke-opacity:1; fill:none\" points=\"\n",
       "  1312.02,1183.84 1312.02,1417.71 1444.36,1417.71 1444.36,1183.84 1312.02,1183.84 \n",
       "  \"/>\n",
       "<path clip-path=\"url(#clip812)\" d=\"\n",
       "M1642.86 1367.41 L1642.86 1417.71 L1775.2 1417.71 L1775.2 1367.41 L1642.86 1367.41 L1642.86 1367.41  Z\n",
       "  \" fill=\"#009af9\" fill-rule=\"evenodd\" fill-opacity=\"1\"/>\n",
       "<polyline clip-path=\"url(#clip812)\" style=\"stroke:#000000; stroke-linecap:round; stroke-linejoin:round; stroke-width:4; stroke-opacity:1; fill:none\" points=\"\n",
       "  1642.86,1367.41 1642.86,1417.71 1775.2,1417.71 1775.2,1367.41 1642.86,1367.41 \n",
       "  \"/>\n",
       "<path clip-path=\"url(#clip812)\" d=\"\n",
       "M1973.7 1373.96 L1973.7 1417.71 L2106.04 1417.71 L2106.04 1373.96 L1973.7 1373.96 L1973.7 1373.96  Z\n",
       "  \" fill=\"#009af9\" fill-rule=\"evenodd\" fill-opacity=\"1\"/>\n",
       "<polyline clip-path=\"url(#clip812)\" style=\"stroke:#000000; stroke-linecap:round; stroke-linejoin:round; stroke-width:4; stroke-opacity:1; fill:none\" points=\"\n",
       "  1973.7,1373.96 1973.7,1417.71 2106.04,1417.71 2106.04,1373.96 1973.7,1373.96 \n",
       "  \"/>\n",
       "<circle clip-path=\"url(#clip812)\" style=\"fill:#009af9; stroke:none; fill-opacity:0\" cx=\"385.668\" cy=\"1346.38\" r=\"2\"/>\n",
       "<circle clip-path=\"url(#clip812)\" style=\"fill:#009af9; stroke:none; fill-opacity:0\" cx=\"716.509\" cy=\"278.605\" r=\"2\"/>\n",
       "<circle clip-path=\"url(#clip812)\" style=\"fill:#009af9; stroke:none; fill-opacity:0\" cx=\"1047.35\" cy=\"1385.92\" r=\"2\"/>\n",
       "<circle clip-path=\"url(#clip812)\" style=\"fill:#009af9; stroke:none; fill-opacity:0\" cx=\"1378.19\" cy=\"1183.84\" r=\"2\"/>\n",
       "<circle clip-path=\"url(#clip812)\" style=\"fill:#009af9; stroke:none; fill-opacity:0\" cx=\"1709.03\" cy=\"1367.41\" r=\"2\"/>\n",
       "<circle clip-path=\"url(#clip812)\" style=\"fill:#009af9; stroke:none; fill-opacity:0\" cx=\"2039.87\" cy=\"1373.96\" r=\"2\"/>\n",
       "<path clip-path=\"url(#clip812)\" d=\"\n",
       "M451.836 1398.63 L451.836 1417.71 L584.172 1417.71 L584.172 1398.63 L451.836 1398.63 L451.836 1398.63  Z\n",
       "  \" fill=\"#e26f46\" fill-rule=\"evenodd\" fill-opacity=\"1\"/>\n",
       "<polyline clip-path=\"url(#clip812)\" style=\"stroke:#000000; stroke-linecap:round; stroke-linejoin:round; stroke-width:4; stroke-opacity:1; fill:none\" points=\"\n",
       "  451.836,1398.63 451.836,1417.71 584.172,1417.71 584.172,1398.63 451.836,1398.63 \n",
       "  \"/>\n",
       "<path clip-path=\"url(#clip812)\" d=\"\n",
       "M782.677 282.259 L782.677 1417.71 L915.013 1417.71 L915.013 282.259 L782.677 282.259 L782.677 282.259  Z\n",
       "  \" fill=\"#e26f46\" fill-rule=\"evenodd\" fill-opacity=\"1\"/>\n",
       "<polyline clip-path=\"url(#clip812)\" style=\"stroke:#000000; stroke-linecap:round; stroke-linejoin:round; stroke-width:4; stroke-opacity:1; fill:none\" points=\"\n",
       "  782.677,282.259 782.677,1417.71 915.013,1417.71 915.013,282.259 782.677,282.259 \n",
       "  \"/>\n",
       "<path clip-path=\"url(#clip812)\" d=\"\n",
       "M1113.52 1390.46 L1113.52 1417.71 L1245.85 1417.71 L1245.85 1390.46 L1113.52 1390.46 L1113.52 1390.46  Z\n",
       "  \" fill=\"#e26f46\" fill-rule=\"evenodd\" fill-opacity=\"1\"/>\n",
       "<polyline clip-path=\"url(#clip812)\" style=\"stroke:#000000; stroke-linecap:round; stroke-linejoin:round; stroke-width:4; stroke-opacity:1; fill:none\" points=\"\n",
       "  1113.52,1390.46 1113.52,1417.71 1245.85,1417.71 1245.85,1390.46 1113.52,1390.46 \n",
       "  \"/>\n",
       "<path clip-path=\"url(#clip812)\" d=\"\n",
       "M1444.36 1181.07 L1444.36 1417.71 L1576.7 1417.71 L1576.7 1181.07 L1444.36 1181.07 L1444.36 1181.07  Z\n",
       "  \" fill=\"#e26f46\" fill-rule=\"evenodd\" fill-opacity=\"1\"/>\n",
       "<polyline clip-path=\"url(#clip812)\" style=\"stroke:#000000; stroke-linecap:round; stroke-linejoin:round; stroke-width:4; stroke-opacity:1; fill:none\" points=\"\n",
       "  1444.36,1181.07 1444.36,1417.71 1576.7,1417.71 1576.7,1181.07 1444.36,1181.07 \n",
       "  \"/>\n",
       "<path clip-path=\"url(#clip812)\" d=\"\n",
       "M1775.2 1367.41 L1775.2 1417.71 L1907.54 1417.71 L1907.54 1367.41 L1775.2 1367.41 L1775.2 1367.41  Z\n",
       "  \" fill=\"#e26f46\" fill-rule=\"evenodd\" fill-opacity=\"1\"/>\n",
       "<polyline clip-path=\"url(#clip812)\" style=\"stroke:#000000; stroke-linecap:round; stroke-linejoin:round; stroke-width:4; stroke-opacity:1; fill:none\" points=\"\n",
       "  1775.2,1367.41 1775.2,1417.71 1907.54,1417.71 1907.54,1367.41 1775.2,1367.41 \n",
       "  \"/>\n",
       "<path clip-path=\"url(#clip812)\" d=\"\n",
       "M2106.04 1373.96 L2106.04 1417.71 L2238.38 1417.71 L2238.38 1373.96 L2106.04 1373.96 L2106.04 1373.96  Z\n",
       "  \" fill=\"#e26f46\" fill-rule=\"evenodd\" fill-opacity=\"1\"/>\n",
       "<polyline clip-path=\"url(#clip812)\" style=\"stroke:#000000; stroke-linecap:round; stroke-linejoin:round; stroke-width:4; stroke-opacity:1; fill:none\" points=\"\n",
       "  2106.04,1373.96 2106.04,1417.71 2238.38,1417.71 2238.38,1373.96 2106.04,1373.96 \n",
       "  \"/>\n",
       "<circle clip-path=\"url(#clip812)\" style=\"fill:#e26f46; stroke:none; fill-opacity:0\" cx=\"518.004\" cy=\"1398.63\" r=\"2\"/>\n",
       "<circle clip-path=\"url(#clip812)\" style=\"fill:#e26f46; stroke:none; fill-opacity:0\" cx=\"848.845\" cy=\"282.259\" r=\"2\"/>\n",
       "<circle clip-path=\"url(#clip812)\" style=\"fill:#e26f46; stroke:none; fill-opacity:0\" cx=\"1179.69\" cy=\"1390.46\" r=\"2\"/>\n",
       "<circle clip-path=\"url(#clip812)\" style=\"fill:#e26f46; stroke:none; fill-opacity:0\" cx=\"1510.53\" cy=\"1181.07\" r=\"2\"/>\n",
       "<circle clip-path=\"url(#clip812)\" style=\"fill:#e26f46; stroke:none; fill-opacity:0\" cx=\"1841.37\" cy=\"1367.41\" r=\"2\"/>\n",
       "<circle clip-path=\"url(#clip812)\" style=\"fill:#e26f46; stroke:none; fill-opacity:0\" cx=\"2172.21\" cy=\"1373.96\" r=\"2\"/>\n",
       "<path clip-path=\"url(#clip810)\" d=\"\n",
       "M1960.02 440.201 L2281.17 440.201 L2281.17 284.681 L1960.02 284.681  Z\n",
       "  \" fill=\"#ffffff\" fill-rule=\"evenodd\" fill-opacity=\"1\"/>\n",
       "<polyline clip-path=\"url(#clip810)\" style=\"stroke:#000000; stroke-linecap:round; stroke-linejoin:round; stroke-width:4; stroke-opacity:1; fill:none\" points=\"\n",
       "  1960.02,440.201 2281.17,440.201 2281.17,284.681 1960.02,284.681 1960.02,440.201 \n",
       "  \"/>\n",
       "<path clip-path=\"url(#clip810)\" d=\"\n",
       "M1983.88 357.257 L2127.06 357.257 L2127.06 315.785 L1983.88 315.785 L1983.88 357.257  Z\n",
       "  \" fill=\"#009af9\" fill-rule=\"evenodd\" fill-opacity=\"1\"/>\n",
       "<polyline clip-path=\"url(#clip810)\" style=\"stroke:#000000; stroke-linecap:round; stroke-linejoin:round; stroke-width:4; stroke-opacity:1; fill:none\" points=\"\n",
       "  1983.88,357.257 2127.06,357.257 2127.06,315.785 1983.88,315.785 1983.88,357.257 \n",
       "  \"/>\n",
       "<path clip-path=\"url(#clip810)\" d=\"M2151.59 349.865 L2159.23 349.865 L2159.23 323.5 L2150.92 325.167 L2150.92 320.907 L2159.18 319.241 L2163.86 319.241 L2163.86 349.865 L2171.5 349.865 L2171.5 353.801 L2151.59 353.801 L2151.59 349.865 Z\" fill=\"#000000\" fill-rule=\"evenodd\" fill-opacity=\"1\" /><path clip-path=\"url(#clip810)\" d=\"M2196.87 328.639 L2196.87 332.667 Q2195.06 331.741 2193.12 331.278 Q2191.17 330.815 2189.09 330.815 Q2185.92 330.815 2184.32 331.787 Q2182.75 332.759 2182.75 334.704 Q2182.75 336.185 2183.88 337.041 Q2185.02 337.875 2188.44 338.639 L2189.9 338.963 Q2194.44 339.935 2196.34 341.717 Q2198.26 343.477 2198.26 346.648 Q2198.26 350.259 2195.39 352.365 Q2192.54 354.472 2187.54 354.472 Q2185.46 354.472 2183.19 354.055 Q2180.94 353.662 2178.44 352.852 L2178.44 348.453 Q2180.8 349.68 2183.1 350.305 Q2185.39 350.907 2187.63 350.907 Q2190.64 350.907 2192.26 349.889 Q2193.88 348.847 2193.88 346.972 Q2193.88 345.236 2192.7 344.31 Q2191.54 343.384 2187.59 342.528 L2186.11 342.18 Q2182.15 341.347 2180.39 339.634 Q2178.63 337.898 2178.63 334.889 Q2178.63 331.231 2181.22 329.241 Q2183.81 327.25 2188.58 327.25 Q2190.94 327.25 2193.03 327.597 Q2195.11 327.944 2196.87 328.639 Z\" fill=\"#000000\" fill-rule=\"evenodd\" fill-opacity=\"1\" /><path clip-path=\"url(#clip810)\" d=\"M2209.25 320.514 L2209.25 327.875 L2218.03 327.875 L2218.03 331.185 L2209.25 331.185 L2209.25 345.259 Q2209.25 348.43 2210.11 349.333 Q2210.99 350.236 2213.65 350.236 L2218.03 350.236 L2218.03 353.801 L2213.65 353.801 Q2208.72 353.801 2206.85 351.972 Q2204.97 350.12 2204.97 345.259 L2204.97 331.185 L2201.85 331.185 L2201.85 327.875 L2204.97 327.875 L2204.97 320.514 L2209.25 320.514 Z\" fill=\"#000000\" fill-rule=\"evenodd\" fill-opacity=\"1\" /><path clip-path=\"url(#clip810)\" d=\"\n",
       "M1983.88 409.097 L2127.06 409.097 L2127.06 367.625 L1983.88 367.625 L1983.88 409.097  Z\n",
       "  \" fill=\"#e26f46\" fill-rule=\"evenodd\" fill-opacity=\"1\"/>\n",
       "<polyline clip-path=\"url(#clip810)\" style=\"stroke:#000000; stroke-linecap:round; stroke-linejoin:round; stroke-width:4; stroke-opacity:1; fill:none\" points=\"\n",
       "  1983.88,409.097 2127.06,409.097 2127.06,367.625 1983.88,367.625 1983.88,409.097 \n",
       "  \"/>\n",
       "<path clip-path=\"url(#clip810)\" d=\"M2156.55 401.705 L2172.86 401.705 L2172.86 405.641 L2150.92 405.641 L2150.92 401.705 Q2153.58 398.951 2158.17 394.321 Q2162.77 389.669 2163.95 388.326 Q2166.2 385.803 2167.08 384.067 Q2167.98 382.307 2167.98 380.618 Q2167.98 377.863 2166.04 376.127 Q2164.11 374.391 2161.01 374.391 Q2158.81 374.391 2156.36 375.155 Q2153.93 375.919 2151.15 377.47 L2151.15 372.747 Q2153.98 371.613 2156.43 371.034 Q2158.88 370.456 2160.92 370.456 Q2166.29 370.456 2169.48 373.141 Q2172.68 375.826 2172.68 380.317 Q2172.68 382.446 2171.87 384.368 Q2171.08 386.266 2168.98 388.858 Q2168.4 389.53 2165.3 392.747 Q2162.19 395.942 2156.55 401.705 Z\" fill=\"#000000\" fill-rule=\"evenodd\" fill-opacity=\"1\" /><path clip-path=\"url(#clip810)\" d=\"M2203.63 389.993 L2203.63 405.641 L2199.37 405.641 L2199.37 390.131 Q2199.37 386.451 2197.93 384.622 Q2196.5 382.794 2193.63 382.794 Q2190.18 382.794 2188.19 384.993 Q2186.2 387.192 2186.2 390.988 L2186.2 405.641 L2181.92 405.641 L2181.92 379.715 L2186.2 379.715 L2186.2 383.743 Q2187.73 381.405 2189.79 380.247 Q2191.87 379.09 2194.58 379.09 Q2199.04 379.09 2201.34 381.868 Q2203.63 384.622 2203.63 389.993 Z\" fill=\"#000000\" fill-rule=\"evenodd\" fill-opacity=\"1\" /><path clip-path=\"url(#clip810)\" d=\"M2229.18 383.65 L2229.18 369.622 L2233.44 369.622 L2233.44 405.641 L2229.18 405.641 L2229.18 401.752 Q2227.84 404.067 2225.78 405.201 Q2223.74 406.312 2220.87 406.312 Q2216.17 406.312 2213.21 402.562 Q2210.27 398.812 2210.27 392.701 Q2210.27 386.59 2213.21 382.84 Q2216.17 379.09 2220.87 379.09 Q2223.74 379.09 2225.78 380.224 Q2227.84 381.335 2229.18 383.65 M2214.67 392.701 Q2214.67 397.4 2216.59 400.085 Q2218.54 402.747 2221.92 402.747 Q2225.29 402.747 2227.24 400.085 Q2229.18 397.4 2229.18 392.701 Q2229.18 388.002 2227.24 385.34 Q2225.29 382.655 2221.92 382.655 Q2218.54 382.655 2216.59 385.34 Q2214.67 388.002 2214.67 392.701 Z\" fill=\"#000000\" fill-rule=\"evenodd\" fill-opacity=\"1\" /></svg>\n"
      ]
     },
     "execution_count": 39,
     "metadata": {},
     "output_type": "execute_result"
    }
   ],
   "source": [
    "groupedbar(\n",
    "    # Exclude JSONTables.jl arraytable due to timing\n",
    "    repeat([\"CSV.jl\", \"Serialization\", \"JDF.jl\", \"JLSO.jl\", \"Arrow.jl\", \"JSONTables.jl\\nobjecttable\"],\n",
    "            inner = 2),\n",
    "    [csvwrite1, csvwrite2, serializewrite1, serializewrite1, jdfwrite1, jdfwrite2,\n",
    "     jlsowrite1, jlsowrite2, arrowwrite1, arrowwrite2, jsontablesowrite2, jsontablesowrite2],\n",
    "    group = repeat([\"1st\", \"2nd\"], outer = 6),\n",
    "    ylab = \"Second\",\n",
    "    title = \"Write Performance\\nDataFrame: bigdf\\nSize: $(size(bigdf))\"\n",
    ")"
   ]
  },
  {
   "cell_type": "code",
   "execution_count": 40,
   "metadata": {},
   "outputs": [
    {
     "data": {
      "text/html": [
       "<div><div style = \"float: left;\"><span>6×2 DataFrame</span></div><div style = \"clear: both;\"></div></div><div class = \"data-frame\" style = \"overflow-x: scroll;\"><table class = \"data-frame\" style = \"margin-bottom: 6px;\"><thead><tr class = \"header\"><th class = \"rowNumber\" style = \"font-weight: bold; text-align: right;\">Row</th><th style = \"text-align: left;\">file</th><th style = \"text-align: left;\">size</th></tr><tr class = \"subheader headerLastRow\"><th class = \"rowNumber\" style = \"font-weight: bold; text-align: right;\"></th><th title = \"String\" style = \"text-align: left;\">String</th><th title = \"Int64\" style = \"text-align: left;\">Int64</th></tr></thead><tbody><tr><td class = \"rowNumber\" style = \"font-weight: bold; text-align: right;\">1</td><td style = \"text-align: left;\">bigdf.arrow</td><td style = \"text-align: right;\">16151954</td></tr><tr><td class = \"rowNumber\" style = \"font-weight: bold; text-align: right;\">2</td><td style = \"text-align: left;\">bigdf.jdf</td><td style = \"text-align: right;\">51713966</td></tr><tr><td class = \"rowNumber\" style = \"font-weight: bold; text-align: right;\">3</td><td style = \"text-align: left;\">bigdf.bin</td><td style = \"text-align: right;\">51770076</td></tr><tr><td class = \"rowNumber\" style = \"font-weight: bold; text-align: right;\">4</td><td style = \"text-align: left;\">bigdf1.csv</td><td style = \"text-align: right;\">550805145</td></tr><tr><td class = \"rowNumber\" style = \"font-weight: bold; text-align: right;\">5</td><td style = \"text-align: left;\">bigdf2.json</td><td style = \"text-align: right;\">550809146</td></tr><tr><td class = \"rowNumber\" style = \"font-weight: bold; text-align: right;\">6</td><td style = \"text-align: left;\">bigdf1.json</td><td style = \"text-align: right;\">1240300253</td></tr></tbody></table></div>"
      ],
      "text/latex": [
       "\\begin{tabular}{r|cc}\n",
       "\t& file & size\\\\\n",
       "\t\\hline\n",
       "\t& String & Int64\\\\\n",
       "\t\\hline\n",
       "\t1 & bigdf.arrow & 16151954 \\\\\n",
       "\t2 & bigdf.jdf & 51713966 \\\\\n",
       "\t3 & bigdf.bin & 51770076 \\\\\n",
       "\t4 & bigdf1.csv & 550805145 \\\\\n",
       "\t5 & bigdf2.json & 550809146 \\\\\n",
       "\t6 & bigdf1.json & 1240300253 \\\\\n",
       "\\end{tabular}\n"
      ],
      "text/plain": [
       "\u001b[1m6×2 DataFrame\u001b[0m\n",
       "\u001b[1m Row \u001b[0m│\u001b[1m file        \u001b[0m\u001b[1m size       \u001b[0m\n",
       "     │\u001b[90m String      \u001b[0m\u001b[90m Int64      \u001b[0m\n",
       "─────┼─────────────────────────\n",
       "   1 │ bigdf.arrow    16151954\n",
       "   2 │ bigdf.jdf      51713966\n",
       "   3 │ bigdf.bin      51770076\n",
       "   4 │ bigdf1.csv    550805145\n",
       "   5 │ bigdf2.json   550809146\n",
       "   6 │ bigdf1.json  1240300253"
      ]
     },
     "execution_count": 40,
     "metadata": {},
     "output_type": "execute_result"
    }
   ],
   "source": [
    "data_files = [\"bigdf1.csv\", \"bigdf.bin\", \"bigdf.arrow\", \"bigdf1.json\", \"bigdf2.json\"]\n",
    "df = DataFrame(file = data_files, size = getfield.(stat.(data_files), :size))\n",
    "append!(df, DataFrame(file = \"bigdf.jdf\", size=reduce((x,y)->x+y.size,\n",
    "                                                      stat.(joinpath.(\"bigdf.jdf\", readdir(\"bigdf.jdf\"))),\n",
    "                                                      init=0)))\n",
    "sort!(df, :size)"
   ]
  },
  {
   "cell_type": "code",
   "execution_count": 41,
   "metadata": {},
   "outputs": [
    {
     "data": {
      "image/svg+xml": [
       "<?xml version=\"1.0\" encoding=\"utf-8\"?>\n",
       "<svg xmlns=\"http://www.w3.org/2000/svg\" xmlns:xlink=\"http://www.w3.org/1999/xlink\" width=\"600\" height=\"400\" viewBox=\"0 0 2400 1600\">\n",
       "<defs>\n",
       "  <clipPath id=\"clip850\">\n",
       "    <rect x=\"0\" y=\"0\" width=\"2400\" height=\"1600\"/>\n",
       "  </clipPath>\n",
       "</defs>\n",
       "<path clip-path=\"url(#clip850)\" d=\"\n",
       "M0 1600 L2400 1600 L2400 0 L0 0  Z\n",
       "  \" fill=\"#ffffff\" fill-rule=\"evenodd\" fill-opacity=\"1\"/>\n",
       "<defs>\n",
       "  <clipPath id=\"clip851\">\n",
       "    <rect x=\"480\" y=\"0\" width=\"1681\" height=\"1600\"/>\n",
       "  </clipPath>\n",
       "</defs>\n",
       "<path clip-path=\"url(#clip850)\" d=\"\n",
       "M262.551 1486.45 L2352.76 1486.45 L2352.76 123.472 L262.551 123.472  Z\n",
       "  \" fill=\"#ffffff\" fill-rule=\"evenodd\" fill-opacity=\"1\"/>\n",
       "<defs>\n",
       "  <clipPath id=\"clip852\">\n",
       "    <rect x=\"262\" y=\"123\" width=\"2091\" height=\"1364\"/>\n",
       "  </clipPath>\n",
       "</defs>\n",
       "<polyline clip-path=\"url(#clip852)\" style=\"stroke:#000000; stroke-linecap:round; stroke-linejoin:round; stroke-width:2; stroke-opacity:0.1; fill:none\" points=\"\n",
       "  505.811,1486.45 505.811,123.472 \n",
       "  \"/>\n",
       "<polyline clip-path=\"url(#clip852)\" style=\"stroke:#000000; stroke-linecap:round; stroke-linejoin:round; stroke-width:2; stroke-opacity:0.1; fill:none\" points=\"\n",
       "  826.548,1486.45 826.548,123.472 \n",
       "  \"/>\n",
       "<polyline clip-path=\"url(#clip852)\" style=\"stroke:#000000; stroke-linecap:round; stroke-linejoin:round; stroke-width:2; stroke-opacity:0.1; fill:none\" points=\"\n",
       "  1147.29,1486.45 1147.29,123.472 \n",
       "  \"/>\n",
       "<polyline clip-path=\"url(#clip852)\" style=\"stroke:#000000; stroke-linecap:round; stroke-linejoin:round; stroke-width:2; stroke-opacity:0.1; fill:none\" points=\"\n",
       "  1468.02,1486.45 1468.02,123.472 \n",
       "  \"/>\n",
       "<polyline clip-path=\"url(#clip852)\" style=\"stroke:#000000; stroke-linecap:round; stroke-linejoin:round; stroke-width:2; stroke-opacity:0.1; fill:none\" points=\"\n",
       "  1788.76,1486.45 1788.76,123.472 \n",
       "  \"/>\n",
       "<polyline clip-path=\"url(#clip852)\" style=\"stroke:#000000; stroke-linecap:round; stroke-linejoin:round; stroke-width:2; stroke-opacity:0.1; fill:none\" points=\"\n",
       "  2109.5,1486.45 2109.5,123.472 \n",
       "  \"/>\n",
       "<polyline clip-path=\"url(#clip850)\" style=\"stroke:#000000; stroke-linecap:round; stroke-linejoin:round; stroke-width:4; stroke-opacity:1; fill:none\" points=\"\n",
       "  262.551,1486.45 2352.76,1486.45 \n",
       "  \"/>\n",
       "<polyline clip-path=\"url(#clip850)\" style=\"stroke:#000000; stroke-linecap:round; stroke-linejoin:round; stroke-width:4; stroke-opacity:1; fill:none\" points=\"\n",
       "  505.811,1486.45 505.811,1467.55 \n",
       "  \"/>\n",
       "<polyline clip-path=\"url(#clip850)\" style=\"stroke:#000000; stroke-linecap:round; stroke-linejoin:round; stroke-width:4; stroke-opacity:1; fill:none\" points=\"\n",
       "  826.548,1486.45 826.548,1467.55 \n",
       "  \"/>\n",
       "<polyline clip-path=\"url(#clip850)\" style=\"stroke:#000000; stroke-linecap:round; stroke-linejoin:round; stroke-width:4; stroke-opacity:1; fill:none\" points=\"\n",
       "  1147.29,1486.45 1147.29,1467.55 \n",
       "  \"/>\n",
       "<polyline clip-path=\"url(#clip850)\" style=\"stroke:#000000; stroke-linecap:round; stroke-linejoin:round; stroke-width:4; stroke-opacity:1; fill:none\" points=\"\n",
       "  1468.02,1486.45 1468.02,1467.55 \n",
       "  \"/>\n",
       "<polyline clip-path=\"url(#clip850)\" style=\"stroke:#000000; stroke-linecap:round; stroke-linejoin:round; stroke-width:4; stroke-opacity:1; fill:none\" points=\"\n",
       "  1788.76,1486.45 1788.76,1467.55 \n",
       "  \"/>\n",
       "<polyline clip-path=\"url(#clip850)\" style=\"stroke:#000000; stroke-linecap:round; stroke-linejoin:round; stroke-width:4; stroke-opacity:1; fill:none\" points=\"\n",
       "  2109.5,1486.45 2109.5,1467.55 \n",
       "  \"/>\n",
       "<path clip-path=\"url(#clip850)\" d=\"M394.886 1535.91 Q394.886 1531.21 392.941 1528.55 Q391.02 1525.86 387.64 1525.86 Q384.261 1525.86 382.316 1528.55 Q380.395 1531.21 380.395 1535.91 Q380.395 1540.61 382.316 1543.29 Q384.261 1545.95 387.64 1545.95 Q391.02 1545.95 392.941 1543.29 Q394.886 1540.61 394.886 1535.91 M380.395 1526.86 Q381.738 1524.54 383.775 1523.43 Q385.835 1522.3 388.682 1522.3 Q393.404 1522.3 396.344 1526.05 Q399.307 1529.8 399.307 1535.91 Q399.307 1542.02 396.344 1545.77 Q393.404 1549.52 388.682 1549.52 Q385.835 1549.52 383.775 1548.41 Q381.738 1547.27 380.395 1544.96 L380.395 1548.85 L376.113 1548.85 L376.113 1512.83 L380.395 1512.83 L380.395 1526.86 Z\" fill=\"#000000\" fill-rule=\"evenodd\" fill-opacity=\"1\" /><path clip-path=\"url(#clip850)\" d=\"M406.367 1522.92 L410.626 1522.92 L410.626 1548.85 L406.367 1548.85 L406.367 1522.92 M406.367 1512.83 L410.626 1512.83 L410.626 1518.22 L406.367 1518.22 L406.367 1512.83 Z\" fill=\"#000000\" fill-rule=\"evenodd\" fill-opacity=\"1\" /><path clip-path=\"url(#clip850)\" d=\"M436.598 1535.58 Q436.598 1530.95 434.677 1528.41 Q432.779 1525.86 429.33 1525.86 Q425.904 1525.86 423.983 1528.41 Q422.085 1530.95 422.085 1535.58 Q422.085 1540.19 423.983 1542.74 Q425.904 1545.28 429.33 1545.28 Q432.779 1545.28 434.677 1542.74 Q436.598 1540.19 436.598 1535.58 M440.858 1545.63 Q440.858 1552.25 437.918 1555.47 Q434.978 1558.71 428.913 1558.71 Q426.668 1558.71 424.677 1558.36 Q422.686 1558.04 420.811 1557.34 L420.811 1553.2 Q422.686 1554.22 424.515 1554.7 Q426.344 1555.19 428.242 1555.19 Q432.432 1555.19 434.515 1552.99 Q436.598 1550.82 436.598 1546.39 L436.598 1544.29 Q435.279 1546.58 433.219 1547.71 Q431.159 1548.85 428.288 1548.85 Q423.52 1548.85 420.603 1545.21 Q417.686 1541.58 417.686 1535.58 Q417.686 1529.57 420.603 1525.93 Q423.52 1522.3 428.288 1522.3 Q431.159 1522.3 433.219 1523.43 Q435.279 1524.57 436.598 1526.86 L436.598 1522.92 L440.858 1522.92 L440.858 1545.63 Z\" fill=\"#000000\" fill-rule=\"evenodd\" fill-opacity=\"1\" /><path clip-path=\"url(#clip850)\" d=\"M466.691 1526.86 L466.691 1512.83 L470.95 1512.83 L470.95 1548.85 L466.691 1548.85 L466.691 1544.96 Q465.348 1547.27 463.288 1548.41 Q461.251 1549.52 458.381 1549.52 Q453.682 1549.52 450.719 1545.77 Q447.779 1542.02 447.779 1535.91 Q447.779 1529.8 450.719 1526.05 Q453.682 1522.3 458.381 1522.3 Q461.251 1522.3 463.288 1523.43 Q465.348 1524.54 466.691 1526.86 M452.177 1535.91 Q452.177 1540.61 454.098 1543.29 Q456.043 1545.95 459.422 1545.95 Q462.802 1545.95 464.746 1543.29 Q466.691 1540.61 466.691 1535.91 Q466.691 1531.21 464.746 1528.55 Q462.802 1525.86 459.422 1525.86 Q456.043 1525.86 454.098 1528.55 Q452.177 1531.21 452.177 1535.91 Z\" fill=\"#000000\" fill-rule=\"evenodd\" fill-opacity=\"1\" /><path clip-path=\"url(#clip850)\" d=\"M492.848 1512.83 L492.848 1516.37 L488.774 1516.37 Q486.482 1516.37 485.58 1517.3 Q484.7 1518.22 484.7 1520.63 L484.7 1522.92 L491.714 1522.92 L491.714 1526.23 L484.7 1526.23 L484.7 1548.85 L480.418 1548.85 L480.418 1526.23 L476.344 1526.23 L476.344 1522.92 L480.418 1522.92 L480.418 1521.12 Q480.418 1516.79 482.432 1514.82 Q484.445 1512.83 488.82 1512.83 L492.848 1512.83 Z\" fill=\"#000000\" fill-rule=\"evenodd\" fill-opacity=\"1\" /><path clip-path=\"url(#clip850)\" d=\"M493.566 1542.97 L498.45 1542.97 L498.45 1548.85 L493.566 1548.85 L493.566 1542.97 Z\" fill=\"#000000\" fill-rule=\"evenodd\" fill-opacity=\"1\" /><path clip-path=\"url(#clip850)\" d=\"M519.816 1535.82 Q514.654 1535.82 512.663 1537 Q510.672 1538.18 510.672 1541.02 Q510.672 1543.29 512.154 1544.63 Q513.658 1545.95 516.228 1545.95 Q519.769 1545.95 521.899 1543.45 Q524.052 1540.93 524.052 1536.76 L524.052 1535.82 L519.816 1535.82 M528.311 1534.06 L528.311 1548.85 L524.052 1548.85 L524.052 1544.91 Q522.593 1547.27 520.417 1548.41 Q518.241 1549.52 515.093 1549.52 Q511.112 1549.52 508.751 1547.3 Q506.413 1545.05 506.413 1541.3 Q506.413 1536.93 509.33 1534.7 Q512.269 1532.48 518.079 1532.48 L524.052 1532.48 L524.052 1532.07 Q524.052 1529.13 522.107 1527.53 Q520.186 1525.91 516.691 1525.91 Q514.468 1525.91 512.362 1526.44 Q510.255 1526.97 508.311 1528.04 L508.311 1524.1 Q510.649 1523.2 512.848 1522.76 Q515.047 1522.3 517.13 1522.3 Q522.755 1522.3 525.533 1525.21 Q528.311 1528.13 528.311 1534.06 Z\" fill=\"#000000\" fill-rule=\"evenodd\" fill-opacity=\"1\" /><path clip-path=\"url(#clip850)\" d=\"M552.107 1526.9 Q551.389 1526.49 550.533 1526.3 Q549.7 1526.09 548.681 1526.09 Q545.07 1526.09 543.126 1528.45 Q541.204 1530.79 541.204 1535.19 L541.204 1548.85 L536.922 1548.85 L536.922 1522.92 L541.204 1522.92 L541.204 1526.95 Q542.547 1524.59 544.7 1523.45 Q546.852 1522.3 549.931 1522.3 Q550.371 1522.3 550.903 1522.37 Q551.436 1522.41 552.084 1522.53 L552.107 1526.9 Z\" fill=\"#000000\" fill-rule=\"evenodd\" fill-opacity=\"1\" /><path clip-path=\"url(#clip850)\" d=\"M570.764 1526.9 Q570.047 1526.49 569.19 1526.3 Q568.357 1526.09 567.338 1526.09 Q563.727 1526.09 561.783 1528.45 Q559.862 1530.79 559.862 1535.19 L559.862 1548.85 L555.579 1548.85 L555.579 1522.92 L559.862 1522.92 L559.862 1526.95 Q561.204 1524.59 563.357 1523.45 Q565.51 1522.3 568.588 1522.3 Q569.028 1522.3 569.561 1522.37 Q570.093 1522.41 570.741 1522.53 L570.764 1526.9 Z\" fill=\"#000000\" fill-rule=\"evenodd\" fill-opacity=\"1\" /><path clip-path=\"url(#clip850)\" d=\"M584.237 1525.91 Q580.811 1525.91 578.82 1528.59 Q576.829 1531.26 576.829 1535.91 Q576.829 1540.56 578.797 1543.25 Q580.787 1545.91 584.237 1545.91 Q587.639 1545.91 589.63 1543.22 Q591.621 1540.54 591.621 1535.91 Q591.621 1531.3 589.63 1528.62 Q587.639 1525.91 584.237 1525.91 M584.237 1522.3 Q589.792 1522.3 592.963 1525.91 Q596.135 1529.52 596.135 1535.91 Q596.135 1542.27 592.963 1545.91 Q589.792 1549.52 584.237 1549.52 Q578.658 1549.52 575.487 1545.91 Q572.338 1542.27 572.338 1535.91 Q572.338 1529.52 575.487 1525.91 Q578.658 1522.3 584.237 1522.3 Z\" fill=\"#000000\" fill-rule=\"evenodd\" fill-opacity=\"1\" /><path clip-path=\"url(#clip850)\" d=\"M600.718 1522.92 L604.977 1522.92 L610.301 1543.15 L615.602 1522.92 L620.625 1522.92 L625.949 1543.15 L631.25 1522.92 L635.509 1522.92 L628.727 1548.85 L623.704 1548.85 L618.125 1527.6 L612.523 1548.85 L607.5 1548.85 L600.718 1522.92 Z\" fill=\"#000000\" fill-rule=\"evenodd\" fill-opacity=\"1\" /><path clip-path=\"url(#clip850)\" d=\"M751.166 1535.91 Q751.166 1531.21 749.222 1528.55 Q747.301 1525.86 743.921 1525.86 Q740.542 1525.86 738.597 1528.55 Q736.676 1531.21 736.676 1535.91 Q736.676 1540.61 738.597 1543.29 Q740.542 1545.95 743.921 1545.95 Q747.301 1545.95 749.222 1543.29 Q751.166 1540.61 751.166 1535.91 M736.676 1526.86 Q738.018 1524.54 740.055 1523.43 Q742.116 1522.3 744.963 1522.3 Q749.685 1522.3 752.625 1526.05 Q755.588 1529.8 755.588 1535.91 Q755.588 1542.02 752.625 1545.77 Q749.685 1549.52 744.963 1549.52 Q742.116 1549.52 740.055 1548.41 Q738.018 1547.27 736.676 1544.96 L736.676 1548.85 L732.393 1548.85 L732.393 1512.83 L736.676 1512.83 L736.676 1526.86 Z\" fill=\"#000000\" fill-rule=\"evenodd\" fill-opacity=\"1\" /><path clip-path=\"url(#clip850)\" d=\"M762.648 1522.92 L766.907 1522.92 L766.907 1548.85 L762.648 1548.85 L762.648 1522.92 M762.648 1512.83 L766.907 1512.83 L766.907 1518.22 L762.648 1518.22 L762.648 1512.83 Z\" fill=\"#000000\" fill-rule=\"evenodd\" fill-opacity=\"1\" /><path clip-path=\"url(#clip850)\" d=\"M792.879 1535.58 Q792.879 1530.95 790.958 1528.41 Q789.06 1525.86 785.611 1525.86 Q782.185 1525.86 780.264 1528.41 Q778.365 1530.95 778.365 1535.58 Q778.365 1540.19 780.264 1542.74 Q782.185 1545.28 785.611 1545.28 Q789.06 1545.28 790.958 1542.74 Q792.879 1540.19 792.879 1535.58 M797.138 1545.63 Q797.138 1552.25 794.199 1555.47 Q791.259 1558.71 785.194 1558.71 Q782.949 1558.71 780.958 1558.36 Q778.967 1558.04 777.092 1557.34 L777.092 1553.2 Q778.967 1554.22 780.796 1554.7 Q782.625 1555.19 784.523 1555.19 Q788.713 1555.19 790.796 1552.99 Q792.879 1550.82 792.879 1546.39 L792.879 1544.29 Q791.56 1546.58 789.5 1547.71 Q787.439 1548.85 784.569 1548.85 Q779.801 1548.85 776.884 1545.21 Q773.967 1541.58 773.967 1535.58 Q773.967 1529.57 776.884 1525.93 Q779.801 1522.3 784.569 1522.3 Q787.439 1522.3 789.5 1523.43 Q791.56 1524.57 792.879 1526.86 L792.879 1522.92 L797.138 1522.92 L797.138 1545.63 Z\" fill=\"#000000\" fill-rule=\"evenodd\" fill-opacity=\"1\" /><path clip-path=\"url(#clip850)\" d=\"M822.972 1526.86 L822.972 1512.83 L827.231 1512.83 L827.231 1548.85 L822.972 1548.85 L822.972 1544.96 Q821.629 1547.27 819.569 1548.41 Q817.532 1549.52 814.662 1549.52 Q809.962 1549.52 807 1545.77 Q804.06 1542.02 804.06 1535.91 Q804.06 1529.8 807 1526.05 Q809.962 1522.3 814.662 1522.3 Q817.532 1522.3 819.569 1523.43 Q821.629 1524.54 822.972 1526.86 M808.458 1535.91 Q808.458 1540.61 810.379 1543.29 Q812.324 1545.95 815.703 1545.95 Q819.083 1545.95 821.027 1543.29 Q822.972 1540.61 822.972 1535.91 Q822.972 1531.21 821.027 1528.55 Q819.083 1525.86 815.703 1525.86 Q812.324 1525.86 810.379 1528.55 Q808.458 1531.21 808.458 1535.91 Z\" fill=\"#000000\" fill-rule=\"evenodd\" fill-opacity=\"1\" /><path clip-path=\"url(#clip850)\" d=\"M849.129 1512.83 L849.129 1516.37 L845.055 1516.37 Q842.763 1516.37 841.86 1517.3 Q840.981 1518.22 840.981 1520.63 L840.981 1522.92 L847.995 1522.92 L847.995 1526.23 L840.981 1526.23 L840.981 1548.85 L836.698 1548.85 L836.698 1526.23 L832.624 1526.23 L832.624 1522.92 L836.698 1522.92 L836.698 1521.12 Q836.698 1516.79 838.712 1514.82 Q840.726 1512.83 845.101 1512.83 L849.129 1512.83 Z\" fill=\"#000000\" fill-rule=\"evenodd\" fill-opacity=\"1\" /><path clip-path=\"url(#clip850)\" d=\"M849.847 1542.97 L854.731 1542.97 L854.731 1548.85 L849.847 1548.85 L849.847 1542.97 Z\" fill=\"#000000\" fill-rule=\"evenodd\" fill-opacity=\"1\" /><path clip-path=\"url(#clip850)\" d=\"M864.314 1522.92 L868.573 1522.92 L868.573 1549.31 Q868.573 1554.26 866.675 1556.49 Q864.8 1558.71 860.61 1558.71 L858.99 1558.71 L858.99 1555.1 L860.124 1555.1 Q862.555 1555.1 863.434 1553.96 Q864.314 1552.85 864.314 1549.31 L864.314 1522.92 M864.314 1512.83 L868.573 1512.83 L868.573 1518.22 L864.314 1518.22 L864.314 1512.83 Z\" fill=\"#000000\" fill-rule=\"evenodd\" fill-opacity=\"1\" /><path clip-path=\"url(#clip850)\" d=\"M894.545 1526.86 L894.545 1512.83 L898.805 1512.83 L898.805 1548.85 L894.545 1548.85 L894.545 1544.96 Q893.203 1547.27 891.143 1548.41 Q889.106 1549.52 886.235 1549.52 Q881.536 1549.52 878.573 1545.77 Q875.633 1542.02 875.633 1535.91 Q875.633 1529.8 878.573 1526.05 Q881.536 1522.3 886.235 1522.3 Q889.106 1522.3 891.143 1523.43 Q893.203 1524.54 894.545 1526.86 M880.032 1535.91 Q880.032 1540.61 881.953 1543.29 Q883.897 1545.95 887.277 1545.95 Q890.656 1545.95 892.601 1543.29 Q894.545 1540.61 894.545 1535.91 Q894.545 1531.21 892.601 1528.55 Q890.656 1525.86 887.277 1525.86 Q883.897 1525.86 881.953 1528.55 Q880.032 1531.21 880.032 1535.91 Z\" fill=\"#000000\" fill-rule=\"evenodd\" fill-opacity=\"1\" /><path clip-path=\"url(#clip850)\" d=\"M920.703 1512.83 L920.703 1516.37 L916.629 1516.37 Q914.337 1516.37 913.434 1517.3 Q912.555 1518.22 912.555 1520.63 L912.555 1522.92 L919.568 1522.92 L919.568 1526.23 L912.555 1526.23 L912.555 1548.85 L908.272 1548.85 L908.272 1526.23 L904.198 1526.23 L904.198 1522.92 L908.272 1522.92 L908.272 1521.12 Q908.272 1516.79 910.286 1514.82 Q912.3 1512.83 916.675 1512.83 L920.703 1512.83 Z\" fill=\"#000000\" fill-rule=\"evenodd\" fill-opacity=\"1\" /><path clip-path=\"url(#clip850)\" d=\"M1067.69 1535.91 Q1067.69 1531.21 1065.75 1528.55 Q1063.82 1525.86 1060.45 1525.86 Q1057.07 1525.86 1055.12 1528.55 Q1053.2 1531.21 1053.2 1535.91 Q1053.2 1540.61 1055.12 1543.29 Q1057.07 1545.95 1060.45 1545.95 Q1063.82 1545.95 1065.75 1543.29 Q1067.69 1540.61 1067.69 1535.91 M1053.2 1526.86 Q1054.54 1524.54 1056.58 1523.43 Q1058.64 1522.3 1061.49 1522.3 Q1066.21 1522.3 1069.15 1526.05 Q1072.11 1529.8 1072.11 1535.91 Q1072.11 1542.02 1069.15 1545.77 Q1066.21 1549.52 1061.49 1549.52 Q1058.64 1549.52 1056.58 1548.41 Q1054.54 1547.27 1053.2 1544.96 L1053.2 1548.85 L1048.92 1548.85 L1048.92 1512.83 L1053.2 1512.83 L1053.2 1526.86 Z\" fill=\"#000000\" fill-rule=\"evenodd\" fill-opacity=\"1\" /><path clip-path=\"url(#clip850)\" d=\"M1079.17 1522.92 L1083.43 1522.92 L1083.43 1548.85 L1079.17 1548.85 L1079.17 1522.92 M1079.17 1512.83 L1083.43 1512.83 L1083.43 1518.22 L1079.17 1518.22 L1079.17 1512.83 Z\" fill=\"#000000\" fill-rule=\"evenodd\" fill-opacity=\"1\" /><path clip-path=\"url(#clip850)\" d=\"M1109.4 1535.58 Q1109.4 1530.95 1107.48 1528.41 Q1105.58 1525.86 1102.13 1525.86 Q1098.71 1525.86 1096.79 1528.41 Q1094.89 1530.95 1094.89 1535.58 Q1094.89 1540.19 1096.79 1542.74 Q1098.71 1545.28 1102.13 1545.28 Q1105.58 1545.28 1107.48 1542.74 Q1109.4 1540.19 1109.4 1535.58 M1113.66 1545.63 Q1113.66 1552.25 1110.72 1555.47 Q1107.78 1558.71 1101.72 1558.71 Q1099.47 1558.71 1097.48 1558.36 Q1095.49 1558.04 1093.62 1557.34 L1093.62 1553.2 Q1095.49 1554.22 1097.32 1554.7 Q1099.15 1555.19 1101.05 1555.19 Q1105.24 1555.19 1107.32 1552.99 Q1109.4 1550.82 1109.4 1546.39 L1109.4 1544.29 Q1108.08 1546.58 1106.02 1547.71 Q1103.96 1548.85 1101.09 1548.85 Q1096.32 1548.85 1093.41 1545.21 Q1090.49 1541.58 1090.49 1535.58 Q1090.49 1529.57 1093.41 1525.93 Q1096.32 1522.3 1101.09 1522.3 Q1103.96 1522.3 1106.02 1523.43 Q1108.08 1524.57 1109.4 1526.86 L1109.4 1522.92 L1113.66 1522.92 L1113.66 1545.63 Z\" fill=\"#000000\" fill-rule=\"evenodd\" fill-opacity=\"1\" /><path clip-path=\"url(#clip850)\" d=\"M1139.5 1526.86 L1139.5 1512.83 L1143.75 1512.83 L1143.75 1548.85 L1139.5 1548.85 L1139.5 1544.96 Q1138.15 1547.27 1136.09 1548.41 Q1134.06 1549.52 1131.19 1549.52 Q1126.49 1549.52 1123.52 1545.77 Q1120.58 1542.02 1120.58 1535.91 Q1120.58 1529.8 1123.52 1526.05 Q1126.49 1522.3 1131.19 1522.3 Q1134.06 1522.3 1136.09 1523.43 Q1138.15 1524.54 1139.5 1526.86 M1124.98 1535.91 Q1124.98 1540.61 1126.9 1543.29 Q1128.85 1545.95 1132.23 1545.95 Q1135.61 1545.95 1137.55 1543.29 Q1139.5 1540.61 1139.5 1535.91 Q1139.5 1531.21 1137.55 1528.55 Q1135.61 1525.86 1132.23 1525.86 Q1128.85 1525.86 1126.9 1528.55 Q1124.98 1531.21 1124.98 1535.91 Z\" fill=\"#000000\" fill-rule=\"evenodd\" fill-opacity=\"1\" /><path clip-path=\"url(#clip850)\" d=\"M1165.65 1512.83 L1165.65 1516.37 L1161.58 1516.37 Q1159.29 1516.37 1158.38 1517.3 Q1157.5 1518.22 1157.5 1520.63 L1157.5 1522.92 L1164.52 1522.92 L1164.52 1526.23 L1157.5 1526.23 L1157.5 1548.85 L1153.22 1548.85 L1153.22 1526.23 L1149.15 1526.23 L1149.15 1522.92 L1153.22 1522.92 L1153.22 1521.12 Q1153.22 1516.79 1155.24 1514.82 Q1157.25 1512.83 1161.63 1512.83 L1165.65 1512.83 Z\" fill=\"#000000\" fill-rule=\"evenodd\" fill-opacity=\"1\" /><path clip-path=\"url(#clip850)\" d=\"M1166.37 1542.97 L1171.25 1542.97 L1171.25 1548.85 L1166.37 1548.85 L1166.37 1542.97 Z\" fill=\"#000000\" fill-rule=\"evenodd\" fill-opacity=\"1\" /><path clip-path=\"url(#clip850)\" d=\"M1199.45 1535.91 Q1199.45 1531.21 1197.5 1528.55 Q1195.58 1525.86 1192.2 1525.86 Q1188.82 1525.86 1186.88 1528.55 Q1184.96 1531.21 1184.96 1535.91 Q1184.96 1540.61 1186.88 1543.29 Q1188.82 1545.95 1192.2 1545.95 Q1195.58 1545.95 1197.5 1543.29 Q1199.45 1540.61 1199.45 1535.91 M1184.96 1526.86 Q1186.3 1524.54 1188.34 1523.43 Q1190.4 1522.3 1193.25 1522.3 Q1197.97 1522.3 1200.91 1526.05 Q1203.87 1529.8 1203.87 1535.91 Q1203.87 1542.02 1200.91 1545.77 Q1197.97 1549.52 1193.25 1549.52 Q1190.4 1549.52 1188.34 1548.41 Q1186.3 1547.27 1184.96 1544.96 L1184.96 1548.85 L1180.68 1548.85 L1180.68 1512.83 L1184.96 1512.83 L1184.96 1526.86 Z\" fill=\"#000000\" fill-rule=\"evenodd\" fill-opacity=\"1\" /><path clip-path=\"url(#clip850)\" d=\"M1210.93 1522.92 L1215.19 1522.92 L1215.19 1548.85 L1210.93 1548.85 L1210.93 1522.92 M1210.93 1512.83 L1215.19 1512.83 L1215.19 1518.22 L1210.93 1518.22 L1210.93 1512.83 Z\" fill=\"#000000\" fill-rule=\"evenodd\" fill-opacity=\"1\" /><path clip-path=\"url(#clip850)\" d=\"M1245.65 1533.2 L1245.65 1548.85 L1241.39 1548.85 L1241.39 1533.34 Q1241.39 1529.66 1239.96 1527.83 Q1238.52 1526 1235.65 1526 Q1232.2 1526 1230.21 1528.2 Q1228.22 1530.4 1228.22 1534.2 L1228.22 1548.85 L1223.94 1548.85 L1223.94 1522.92 L1228.22 1522.92 L1228.22 1526.95 Q1229.75 1524.61 1231.81 1523.45 Q1233.89 1522.3 1236.6 1522.3 Q1241.07 1522.3 1243.36 1525.07 Q1245.65 1527.83 1245.65 1533.2 Z\" fill=\"#000000\" fill-rule=\"evenodd\" fill-opacity=\"1\" /><path clip-path=\"url(#clip850)\" d=\"M1367.56 1535.91 Q1367.56 1531.21 1365.62 1528.55 Q1363.69 1525.86 1360.31 1525.86 Q1356.93 1525.86 1354.99 1528.55 Q1353.07 1531.21 1353.07 1535.91 Q1353.07 1540.61 1354.99 1543.29 Q1356.93 1545.95 1360.31 1545.95 Q1363.69 1545.95 1365.62 1543.29 Q1367.56 1540.61 1367.56 1535.91 M1353.07 1526.86 Q1354.41 1524.54 1356.45 1523.43 Q1358.51 1522.3 1361.36 1522.3 Q1366.08 1522.3 1369.02 1526.05 Q1371.98 1529.8 1371.98 1535.91 Q1371.98 1542.02 1369.02 1545.77 Q1366.08 1549.52 1361.36 1549.52 Q1358.51 1549.52 1356.45 1548.41 Q1354.41 1547.27 1353.07 1544.96 L1353.07 1548.85 L1348.79 1548.85 L1348.79 1512.83 L1353.07 1512.83 L1353.07 1526.86 Z\" fill=\"#000000\" fill-rule=\"evenodd\" fill-opacity=\"1\" /><path clip-path=\"url(#clip850)\" d=\"M1379.04 1522.92 L1383.3 1522.92 L1383.3 1548.85 L1379.04 1548.85 L1379.04 1522.92 M1379.04 1512.83 L1383.3 1512.83 L1383.3 1518.22 L1379.04 1518.22 L1379.04 1512.83 Z\" fill=\"#000000\" fill-rule=\"evenodd\" fill-opacity=\"1\" /><path clip-path=\"url(#clip850)\" d=\"M1409.27 1535.58 Q1409.27 1530.95 1407.35 1528.41 Q1405.45 1525.86 1402 1525.86 Q1398.58 1525.86 1396.66 1528.41 Q1394.76 1530.95 1394.76 1535.58 Q1394.76 1540.19 1396.66 1542.74 Q1398.58 1545.28 1402 1545.28 Q1405.45 1545.28 1407.35 1542.74 Q1409.27 1540.19 1409.27 1535.58 M1413.53 1545.63 Q1413.53 1552.25 1410.59 1555.47 Q1407.65 1558.71 1401.59 1558.71 Q1399.34 1558.71 1397.35 1558.36 Q1395.36 1558.04 1393.49 1557.34 L1393.49 1553.2 Q1395.36 1554.22 1397.19 1554.7 Q1399.02 1555.19 1400.92 1555.19 Q1405.11 1555.19 1407.19 1552.99 Q1409.27 1550.82 1409.27 1546.39 L1409.27 1544.29 Q1407.95 1546.58 1405.89 1547.71 Q1403.83 1548.85 1400.96 1548.85 Q1396.19 1548.85 1393.28 1545.21 Q1390.36 1541.58 1390.36 1535.58 Q1390.36 1529.57 1393.28 1525.93 Q1396.19 1522.3 1400.96 1522.3 Q1403.83 1522.3 1405.89 1523.43 Q1407.95 1524.57 1409.27 1526.86 L1409.27 1522.92 L1413.53 1522.92 L1413.53 1545.63 Z\" fill=\"#000000\" fill-rule=\"evenodd\" fill-opacity=\"1\" /><path clip-path=\"url(#clip850)\" d=\"M1439.36 1526.86 L1439.36 1512.83 L1443.62 1512.83 L1443.62 1548.85 L1439.36 1548.85 L1439.36 1544.96 Q1438.02 1547.27 1435.96 1548.41 Q1433.93 1549.52 1431.05 1549.52 Q1426.36 1549.52 1423.39 1545.77 Q1420.45 1542.02 1420.45 1535.91 Q1420.45 1529.8 1423.39 1526.05 Q1426.36 1522.3 1431.05 1522.3 Q1433.93 1522.3 1435.96 1523.43 Q1438.02 1524.54 1439.36 1526.86 M1424.85 1535.91 Q1424.85 1540.61 1426.77 1543.29 Q1428.72 1545.95 1432.1 1545.95 Q1435.48 1545.95 1437.42 1543.29 Q1439.36 1540.61 1439.36 1535.91 Q1439.36 1531.21 1437.42 1528.55 Q1435.48 1525.86 1432.1 1525.86 Q1428.72 1525.86 1426.77 1528.55 Q1424.85 1531.21 1424.85 1535.91 Z\" fill=\"#000000\" fill-rule=\"evenodd\" fill-opacity=\"1\" /><path clip-path=\"url(#clip850)\" d=\"M1465.52 1512.83 L1465.52 1516.37 L1461.45 1516.37 Q1459.16 1516.37 1458.25 1517.3 Q1457.37 1518.22 1457.37 1520.63 L1457.37 1522.92 L1464.39 1522.92 L1464.39 1526.23 L1457.37 1526.23 L1457.37 1548.85 L1453.09 1548.85 L1453.09 1526.23 L1449.02 1526.23 L1449.02 1522.92 L1453.09 1522.92 L1453.09 1521.12 Q1453.09 1516.79 1455.11 1514.82 Q1457.12 1512.83 1461.49 1512.83 L1465.52 1512.83 Z\" fill=\"#000000\" fill-rule=\"evenodd\" fill-opacity=\"1\" /><path clip-path=\"url(#clip850)\" d=\"M1470.5 1544.91 L1478.14 1544.91 L1478.14 1518.55 L1469.83 1520.21 L1469.83 1515.95 L1478.09 1514.29 L1482.77 1514.29 L1482.77 1544.91 L1490.41 1544.91 L1490.41 1548.85 L1470.5 1548.85 L1470.5 1544.91 Z\" fill=\"#000000\" fill-rule=\"evenodd\" fill-opacity=\"1\" /><path clip-path=\"url(#clip850)\" d=\"M1499.85 1542.97 L1504.73 1542.97 L1504.73 1548.85 L1499.85 1548.85 L1499.85 1542.97 Z\" fill=\"#000000\" fill-rule=\"evenodd\" fill-opacity=\"1\" /><path clip-path=\"url(#clip850)\" d=\"M1532.98 1523.92 L1532.98 1527.9 Q1531.17 1526.9 1529.34 1526.42 Q1527.54 1525.91 1525.68 1525.91 Q1521.54 1525.91 1519.25 1528.55 Q1516.96 1531.16 1516.96 1535.91 Q1516.96 1540.65 1519.25 1543.29 Q1521.54 1545.91 1525.68 1545.91 Q1527.54 1545.91 1529.34 1545.42 Q1531.17 1544.91 1532.98 1543.92 L1532.98 1547.85 Q1531.19 1548.69 1529.27 1549.1 Q1527.37 1549.52 1525.22 1549.52 Q1519.36 1549.52 1515.92 1545.84 Q1512.47 1542.16 1512.47 1535.91 Q1512.47 1529.57 1515.94 1525.93 Q1519.43 1522.3 1525.5 1522.3 Q1527.47 1522.3 1529.34 1522.71 Q1531.22 1523.11 1532.98 1523.92 Z\" fill=\"#000000\" fill-rule=\"evenodd\" fill-opacity=\"1\" /><path clip-path=\"url(#clip850)\" d=\"M1556.91 1523.69 L1556.91 1527.71 Q1555.1 1526.79 1553.16 1526.32 Q1551.22 1525.86 1549.13 1525.86 Q1545.96 1525.86 1544.36 1526.83 Q1542.79 1527.81 1542.79 1529.75 Q1542.79 1531.23 1543.92 1532.09 Q1545.06 1532.92 1548.48 1533.69 L1549.94 1534.01 Q1554.48 1534.98 1556.38 1536.76 Q1558.3 1538.52 1558.3 1541.7 Q1558.3 1545.31 1555.43 1547.41 Q1552.58 1549.52 1547.58 1549.52 Q1545.5 1549.52 1543.23 1549.1 Q1540.98 1548.71 1538.48 1547.9 L1538.48 1543.5 Q1540.85 1544.73 1543.14 1545.35 Q1545.43 1545.95 1547.67 1545.95 Q1550.68 1545.95 1552.3 1544.94 Q1553.92 1543.89 1553.92 1542.02 Q1553.92 1540.28 1552.74 1539.36 Q1551.59 1538.43 1547.63 1537.57 L1546.15 1537.23 Q1542.19 1536.39 1540.43 1534.68 Q1538.67 1532.95 1538.67 1529.94 Q1538.67 1526.28 1541.26 1524.29 Q1543.86 1522.3 1548.62 1522.3 Q1550.98 1522.3 1553.07 1522.64 Q1555.15 1522.99 1556.91 1523.69 Z\" fill=\"#000000\" fill-rule=\"evenodd\" fill-opacity=\"1\" /><path clip-path=\"url(#clip850)\" d=\"M1562.03 1522.92 L1566.54 1522.92 L1574.64 1544.68 L1582.74 1522.92 L1587.26 1522.92 L1577.54 1548.85 L1571.75 1548.85 L1562.03 1522.92 Z\" fill=\"#000000\" fill-rule=\"evenodd\" fill-opacity=\"1\" /><path clip-path=\"url(#clip850)\" d=\"M1680.55 1535.91 Q1680.55 1531.21 1678.61 1528.55 Q1676.69 1525.86 1673.31 1525.86 Q1669.93 1525.86 1667.98 1528.55 Q1666.06 1531.21 1666.06 1535.91 Q1666.06 1540.61 1667.98 1543.29 Q1669.93 1545.95 1673.31 1545.95 Q1676.69 1545.95 1678.61 1543.29 Q1680.55 1540.61 1680.55 1535.91 M1666.06 1526.86 Q1667.41 1524.54 1669.44 1523.43 Q1671.5 1522.3 1674.35 1522.3 Q1679.07 1522.3 1682.01 1526.05 Q1684.97 1529.8 1684.97 1535.91 Q1684.97 1542.02 1682.01 1545.77 Q1679.07 1549.52 1674.35 1549.52 Q1671.5 1549.52 1669.44 1548.41 Q1667.41 1547.27 1666.06 1544.96 L1666.06 1548.85 L1661.78 1548.85 L1661.78 1512.83 L1666.06 1512.83 L1666.06 1526.86 Z\" fill=\"#000000\" fill-rule=\"evenodd\" fill-opacity=\"1\" /><path clip-path=\"url(#clip850)\" d=\"M1692.04 1522.92 L1696.29 1522.92 L1696.29 1548.85 L1692.04 1548.85 L1692.04 1522.92 M1692.04 1512.83 L1696.29 1512.83 L1696.29 1518.22 L1692.04 1518.22 L1692.04 1512.83 Z\" fill=\"#000000\" fill-rule=\"evenodd\" fill-opacity=\"1\" /><path clip-path=\"url(#clip850)\" d=\"M1722.27 1535.58 Q1722.27 1530.95 1720.35 1528.41 Q1718.45 1525.86 1715 1525.86 Q1711.57 1525.86 1709.65 1528.41 Q1707.75 1530.95 1707.75 1535.58 Q1707.75 1540.19 1709.65 1542.74 Q1711.57 1545.28 1715 1545.28 Q1718.45 1545.28 1720.35 1542.74 Q1722.27 1540.19 1722.27 1535.58 M1726.53 1545.63 Q1726.53 1552.25 1723.59 1555.47 Q1720.65 1558.71 1714.58 1558.71 Q1712.34 1558.71 1710.35 1558.36 Q1708.35 1558.04 1706.48 1557.34 L1706.48 1553.2 Q1708.35 1554.22 1710.18 1554.7 Q1712.01 1555.19 1713.91 1555.19 Q1718.1 1555.19 1720.18 1552.99 Q1722.27 1550.82 1722.27 1546.39 L1722.27 1544.29 Q1720.95 1546.58 1718.89 1547.71 Q1716.83 1548.85 1713.96 1548.85 Q1709.19 1548.85 1706.27 1545.21 Q1703.35 1541.58 1703.35 1535.58 Q1703.35 1529.57 1706.27 1525.93 Q1709.19 1522.3 1713.96 1522.3 Q1716.83 1522.3 1718.89 1523.43 Q1720.95 1524.57 1722.27 1526.86 L1722.27 1522.92 L1726.53 1522.92 L1726.53 1545.63 Z\" fill=\"#000000\" fill-rule=\"evenodd\" fill-opacity=\"1\" /><path clip-path=\"url(#clip850)\" d=\"M1752.36 1526.86 L1752.36 1512.83 L1756.62 1512.83 L1756.62 1548.85 L1752.36 1548.85 L1752.36 1544.96 Q1751.02 1547.27 1748.96 1548.41 Q1746.92 1549.52 1744.05 1549.52 Q1739.35 1549.52 1736.39 1545.77 Q1733.45 1542.02 1733.45 1535.91 Q1733.45 1529.8 1736.39 1526.05 Q1739.35 1522.3 1744.05 1522.3 Q1746.92 1522.3 1748.96 1523.43 Q1751.02 1524.54 1752.36 1526.86 M1737.85 1535.91 Q1737.85 1540.61 1739.77 1543.29 Q1741.71 1545.95 1745.09 1545.95 Q1748.47 1545.95 1750.41 1543.29 Q1752.36 1540.61 1752.36 1535.91 Q1752.36 1531.21 1750.41 1528.55 Q1748.47 1525.86 1745.09 1525.86 Q1741.71 1525.86 1739.77 1528.55 Q1737.85 1531.21 1737.85 1535.91 Z\" fill=\"#000000\" fill-rule=\"evenodd\" fill-opacity=\"1\" /><path clip-path=\"url(#clip850)\" d=\"M1778.52 1512.83 L1778.52 1516.37 L1774.44 1516.37 Q1772.15 1516.37 1771.25 1517.3 Q1770.37 1518.22 1770.37 1520.63 L1770.37 1522.92 L1777.38 1522.92 L1777.38 1526.23 L1770.37 1526.23 L1770.37 1548.85 L1766.09 1548.85 L1766.09 1526.23 L1762.01 1526.23 L1762.01 1522.92 L1766.09 1522.92 L1766.09 1521.12 Q1766.09 1516.79 1768.1 1514.82 Q1770.11 1512.83 1774.49 1512.83 L1778.52 1512.83 Z\" fill=\"#000000\" fill-rule=\"evenodd\" fill-opacity=\"1\" /><path clip-path=\"url(#clip850)\" d=\"M1786.71 1544.91 L1803.03 1544.91 L1803.03 1548.85 L1781.09 1548.85 L1781.09 1544.91 Q1783.75 1542.16 1788.33 1537.53 Q1792.94 1532.88 1794.12 1531.53 Q1796.36 1529.01 1797.24 1527.27 Q1798.15 1525.51 1798.15 1523.82 Q1798.15 1521.07 1796.2 1519.33 Q1794.28 1517.6 1791.18 1517.6 Q1788.98 1517.6 1786.53 1518.36 Q1784.09 1519.13 1781.32 1520.68 L1781.32 1515.95 Q1784.14 1514.82 1786.59 1514.24 Q1789.05 1513.66 1791.09 1513.66 Q1796.46 1513.66 1799.65 1516.35 Q1802.84 1519.03 1802.84 1523.52 Q1802.84 1525.65 1802.03 1527.57 Q1801.25 1529.47 1799.14 1532.07 Q1798.56 1532.74 1795.46 1535.95 Q1792.36 1539.15 1786.71 1544.91 Z\" fill=\"#000000\" fill-rule=\"evenodd\" fill-opacity=\"1\" /><path clip-path=\"url(#clip850)\" d=\"M1812.84 1542.97 L1817.73 1542.97 L1817.73 1548.85 L1812.84 1548.85 L1812.84 1542.97 Z\" fill=\"#000000\" fill-rule=\"evenodd\" fill-opacity=\"1\" /><path clip-path=\"url(#clip850)\" d=\"M1827.31 1522.92 L1831.57 1522.92 L1831.57 1549.31 Q1831.57 1554.26 1829.67 1556.49 Q1827.8 1558.71 1823.61 1558.71 L1821.99 1558.71 L1821.99 1555.1 L1823.12 1555.1 Q1825.55 1555.1 1826.43 1553.96 Q1827.31 1552.85 1827.31 1549.31 L1827.31 1522.92 M1827.31 1512.83 L1831.57 1512.83 L1831.57 1518.22 L1827.31 1518.22 L1827.31 1512.83 Z\" fill=\"#000000\" fill-rule=\"evenodd\" fill-opacity=\"1\" /><path clip-path=\"url(#clip850)\" d=\"M1857.01 1523.69 L1857.01 1527.71 Q1855.21 1526.79 1853.26 1526.32 Q1851.32 1525.86 1849.23 1525.86 Q1846.06 1525.86 1844.46 1526.83 Q1842.89 1527.81 1842.89 1529.75 Q1842.89 1531.23 1844.03 1532.09 Q1845.16 1532.92 1848.59 1533.69 L1850.04 1534.01 Q1854.58 1534.98 1856.48 1536.76 Q1858.4 1538.52 1858.4 1541.7 Q1858.4 1545.31 1855.53 1547.41 Q1852.68 1549.52 1847.68 1549.52 Q1845.6 1549.52 1843.33 1549.1 Q1841.09 1548.71 1838.59 1547.9 L1838.59 1543.5 Q1840.95 1544.73 1843.24 1545.35 Q1845.53 1545.95 1847.77 1545.95 Q1850.78 1545.95 1852.4 1544.94 Q1854.02 1543.89 1854.02 1542.02 Q1854.02 1540.28 1852.84 1539.36 Q1851.69 1538.43 1847.73 1537.57 L1846.25 1537.23 Q1842.29 1536.39 1840.53 1534.68 Q1838.77 1532.95 1838.77 1529.94 Q1838.77 1526.28 1841.36 1524.29 Q1843.96 1522.3 1848.72 1522.3 Q1851.09 1522.3 1853.17 1522.64 Q1855.25 1522.99 1857.01 1523.69 Z\" fill=\"#000000\" fill-rule=\"evenodd\" fill-opacity=\"1\" /><path clip-path=\"url(#clip850)\" d=\"M1875.23 1525.91 Q1871.8 1525.91 1869.81 1528.59 Q1867.82 1531.26 1867.82 1535.91 Q1867.82 1540.56 1869.79 1543.25 Q1871.78 1545.91 1875.23 1545.91 Q1878.63 1545.91 1880.62 1543.22 Q1882.61 1540.54 1882.61 1535.91 Q1882.61 1531.3 1880.62 1528.62 Q1878.63 1525.91 1875.23 1525.91 M1875.23 1522.3 Q1880.78 1522.3 1883.96 1525.91 Q1887.13 1529.52 1887.13 1535.91 Q1887.13 1542.27 1883.96 1545.91 Q1880.78 1549.52 1875.23 1549.52 Q1869.65 1549.52 1866.48 1545.91 Q1863.33 1542.27 1863.33 1535.91 Q1863.33 1529.52 1866.48 1525.91 Q1869.65 1522.3 1875.23 1522.3 Z\" fill=\"#000000\" fill-rule=\"evenodd\" fill-opacity=\"1\" /><path clip-path=\"url(#clip850)\" d=\"M1915.74 1533.2 L1915.74 1548.85 L1911.48 1548.85 L1911.48 1533.34 Q1911.48 1529.66 1910.04 1527.83 Q1908.61 1526 1905.74 1526 Q1902.29 1526 1900.3 1528.2 Q1898.31 1530.4 1898.31 1534.2 L1898.31 1548.85 L1894.02 1548.85 L1894.02 1522.92 L1898.31 1522.92 L1898.31 1526.95 Q1899.83 1524.61 1901.9 1523.45 Q1903.98 1522.3 1906.69 1522.3 Q1911.15 1522.3 1913.45 1525.07 Q1915.74 1527.83 1915.74 1533.2 Z\" fill=\"#000000\" fill-rule=\"evenodd\" fill-opacity=\"1\" /><path clip-path=\"url(#clip850)\" d=\"M2001.29 1535.91 Q2001.29 1531.21 1999.35 1528.55 Q1997.42 1525.86 1994.05 1525.86 Q1990.67 1525.86 1988.72 1528.55 Q1986.8 1531.21 1986.8 1535.91 Q1986.8 1540.61 1988.72 1543.29 Q1990.67 1545.95 1994.05 1545.95 Q1997.42 1545.95 1999.35 1543.29 Q2001.29 1540.61 2001.29 1535.91 M1986.8 1526.86 Q1988.14 1524.54 1990.18 1523.43 Q1992.24 1522.3 1995.09 1522.3 Q1999.81 1522.3 2002.75 1526.05 Q2005.71 1529.8 2005.71 1535.91 Q2005.71 1542.02 2002.75 1545.77 Q1999.81 1549.52 1995.09 1549.52 Q1992.24 1549.52 1990.18 1548.41 Q1988.14 1547.27 1986.8 1544.96 L1986.8 1548.85 L1982.52 1548.85 L1982.52 1512.83 L1986.8 1512.83 L1986.8 1526.86 Z\" fill=\"#000000\" fill-rule=\"evenodd\" fill-opacity=\"1\" /><path clip-path=\"url(#clip850)\" d=\"M2012.77 1522.92 L2017.03 1522.92 L2017.03 1548.85 L2012.77 1548.85 L2012.77 1522.92 M2012.77 1512.83 L2017.03 1512.83 L2017.03 1518.22 L2012.77 1518.22 L2012.77 1512.83 Z\" fill=\"#000000\" fill-rule=\"evenodd\" fill-opacity=\"1\" /><path clip-path=\"url(#clip850)\" d=\"M2043 1535.58 Q2043 1530.95 2041.08 1528.41 Q2039.18 1525.86 2035.73 1525.86 Q2032.31 1525.86 2030.39 1528.41 Q2028.49 1530.95 2028.49 1535.58 Q2028.49 1540.19 2030.39 1542.74 Q2032.31 1545.28 2035.73 1545.28 Q2039.18 1545.28 2041.08 1542.74 Q2043 1540.19 2043 1535.58 M2047.26 1545.63 Q2047.26 1552.25 2044.32 1555.47 Q2041.38 1558.71 2035.32 1558.71 Q2033.07 1558.71 2031.08 1558.36 Q2029.09 1558.04 2027.22 1557.34 L2027.22 1553.2 Q2029.09 1554.22 2030.92 1554.7 Q2032.75 1555.19 2034.65 1555.19 Q2038.84 1555.19 2040.92 1552.99 Q2043 1550.82 2043 1546.39 L2043 1544.29 Q2041.68 1546.58 2039.62 1547.71 Q2037.56 1548.85 2034.69 1548.85 Q2029.92 1548.85 2027.01 1545.21 Q2024.09 1541.58 2024.09 1535.58 Q2024.09 1529.57 2027.01 1525.93 Q2029.92 1522.3 2034.69 1522.3 Q2037.56 1522.3 2039.62 1523.43 Q2041.68 1524.57 2043 1526.86 L2043 1522.92 L2047.26 1522.92 L2047.26 1545.63 Z\" fill=\"#000000\" fill-rule=\"evenodd\" fill-opacity=\"1\" /><path clip-path=\"url(#clip850)\" d=\"M2073.1 1526.86 L2073.1 1512.83 L2077.36 1512.83 L2077.36 1548.85 L2073.1 1548.85 L2073.1 1544.96 Q2071.75 1547.27 2069.69 1548.41 Q2067.66 1549.52 2064.79 1549.52 Q2060.09 1549.52 2057.12 1545.77 Q2054.18 1542.02 2054.18 1535.91 Q2054.18 1529.8 2057.12 1526.05 Q2060.09 1522.3 2064.79 1522.3 Q2067.66 1522.3 2069.69 1523.43 Q2071.75 1524.54 2073.1 1526.86 M2058.58 1535.91 Q2058.58 1540.61 2060.5 1543.29 Q2062.45 1545.95 2065.83 1545.95 Q2069.21 1545.95 2071.15 1543.29 Q2073.1 1540.61 2073.1 1535.91 Q2073.1 1531.21 2071.15 1528.55 Q2069.21 1525.86 2065.83 1525.86 Q2062.45 1525.86 2060.5 1528.55 Q2058.58 1531.21 2058.58 1535.91 Z\" fill=\"#000000\" fill-rule=\"evenodd\" fill-opacity=\"1\" /><path clip-path=\"url(#clip850)\" d=\"M2099.25 1512.83 L2099.25 1516.37 L2095.18 1516.37 Q2092.89 1516.37 2091.98 1517.3 Q2091.11 1518.22 2091.11 1520.63 L2091.11 1522.92 L2098.12 1522.92 L2098.12 1526.23 L2091.11 1526.23 L2091.11 1548.85 L2086.82 1548.85 L2086.82 1526.23 L2082.75 1526.23 L2082.75 1522.92 L2086.82 1522.92 L2086.82 1521.12 Q2086.82 1516.79 2088.84 1514.82 Q2090.85 1512.83 2095.23 1512.83 L2099.25 1512.83 Z\" fill=\"#000000\" fill-rule=\"evenodd\" fill-opacity=\"1\" /><path clip-path=\"url(#clip850)\" d=\"M2104.23 1544.91 L2111.87 1544.91 L2111.87 1518.55 L2103.56 1520.21 L2103.56 1515.95 L2111.82 1514.29 L2116.5 1514.29 L2116.5 1544.91 L2124.14 1544.91 L2124.14 1548.85 L2104.23 1548.85 L2104.23 1544.91 Z\" fill=\"#000000\" fill-rule=\"evenodd\" fill-opacity=\"1\" /><path clip-path=\"url(#clip850)\" d=\"M2133.58 1542.97 L2138.47 1542.97 L2138.47 1548.85 L2133.58 1548.85 L2133.58 1542.97 Z\" fill=\"#000000\" fill-rule=\"evenodd\" fill-opacity=\"1\" /><path clip-path=\"url(#clip850)\" d=\"M2148.05 1522.92 L2152.31 1522.92 L2152.31 1549.31 Q2152.31 1554.26 2150.41 1556.49 Q2148.54 1558.71 2144.35 1558.71 L2142.73 1558.71 L2142.73 1555.1 L2143.86 1555.1 Q2146.29 1555.1 2147.17 1553.96 Q2148.05 1552.85 2148.05 1549.31 L2148.05 1522.92 M2148.05 1512.83 L2152.31 1512.83 L2152.31 1518.22 L2148.05 1518.22 L2148.05 1512.83 Z\" fill=\"#000000\" fill-rule=\"evenodd\" fill-opacity=\"1\" /><path clip-path=\"url(#clip850)\" d=\"M2177.75 1523.69 L2177.75 1527.71 Q2175.94 1526.79 2174 1526.32 Q2172.05 1525.86 2169.97 1525.86 Q2166.8 1525.86 2165.2 1526.83 Q2163.63 1527.81 2163.63 1529.75 Q2163.63 1531.23 2164.76 1532.09 Q2165.9 1532.92 2169.32 1533.69 L2170.78 1534.01 Q2175.32 1534.98 2177.22 1536.76 Q2179.14 1538.52 2179.14 1541.7 Q2179.14 1545.31 2176.27 1547.41 Q2173.42 1549.52 2168.42 1549.52 Q2166.34 1549.52 2164.07 1549.1 Q2161.82 1548.71 2159.32 1547.9 L2159.32 1543.5 Q2161.68 1544.73 2163.97 1545.35 Q2166.27 1545.95 2168.51 1545.95 Q2171.52 1545.95 2173.14 1544.94 Q2174.76 1543.89 2174.76 1542.02 Q2174.76 1540.28 2173.58 1539.36 Q2172.42 1538.43 2168.47 1537.57 L2166.98 1537.23 Q2163.03 1536.39 2161.27 1534.68 Q2159.51 1532.95 2159.51 1529.94 Q2159.51 1526.28 2162.1 1524.29 Q2164.69 1522.3 2169.46 1522.3 Q2171.82 1522.3 2173.91 1522.64 Q2175.99 1522.99 2177.75 1523.69 Z\" fill=\"#000000\" fill-rule=\"evenodd\" fill-opacity=\"1\" /><path clip-path=\"url(#clip850)\" d=\"M2195.97 1525.91 Q2192.54 1525.91 2190.55 1528.59 Q2188.56 1531.26 2188.56 1535.91 Q2188.56 1540.56 2190.53 1543.25 Q2192.52 1545.91 2195.97 1545.91 Q2199.37 1545.91 2201.36 1543.22 Q2203.35 1540.54 2203.35 1535.91 Q2203.35 1531.3 2201.36 1528.62 Q2199.37 1525.91 2195.97 1525.91 M2195.97 1522.3 Q2201.52 1522.3 2204.69 1525.91 Q2207.86 1529.52 2207.86 1535.91 Q2207.86 1542.27 2204.69 1545.91 Q2201.52 1549.52 2195.97 1549.52 Q2190.39 1549.52 2187.22 1545.91 Q2184.07 1542.27 2184.07 1535.91 Q2184.07 1529.52 2187.22 1525.91 Q2190.39 1522.3 2195.97 1522.3 Z\" fill=\"#000000\" fill-rule=\"evenodd\" fill-opacity=\"1\" /><path clip-path=\"url(#clip850)\" d=\"M2236.47 1533.2 L2236.47 1548.85 L2232.22 1548.85 L2232.22 1533.34 Q2232.22 1529.66 2230.78 1527.83 Q2229.35 1526 2226.47 1526 Q2223.03 1526 2221.03 1528.2 Q2219.04 1530.4 2219.04 1534.2 L2219.04 1548.85 L2214.76 1548.85 L2214.76 1522.92 L2219.04 1522.92 L2219.04 1526.95 Q2220.57 1524.61 2222.63 1523.45 Q2224.72 1522.3 2227.42 1522.3 Q2231.89 1522.3 2234.18 1525.07 Q2236.47 1527.83 2236.47 1533.2 Z\" fill=\"#000000\" fill-rule=\"evenodd\" fill-opacity=\"1\" /><polyline clip-path=\"url(#clip852)\" style=\"stroke:#000000; stroke-linecap:round; stroke-linejoin:round; stroke-width:2; stroke-opacity:0.1; fill:none\" points=\"\n",
       "  262.551,1447.87 2352.76,1447.87 \n",
       "  \"/>\n",
       "<polyline clip-path=\"url(#clip852)\" style=\"stroke:#000000; stroke-linecap:round; stroke-linejoin:round; stroke-width:2; stroke-opacity:0.1; fill:none\" points=\"\n",
       "  262.551,1176.11 2352.76,1176.11 \n",
       "  \"/>\n",
       "<polyline clip-path=\"url(#clip852)\" style=\"stroke:#000000; stroke-linecap:round; stroke-linejoin:round; stroke-width:2; stroke-opacity:0.1; fill:none\" points=\"\n",
       "  262.551,904.341 2352.76,904.341 \n",
       "  \"/>\n",
       "<polyline clip-path=\"url(#clip852)\" style=\"stroke:#000000; stroke-linecap:round; stroke-linejoin:round; stroke-width:2; stroke-opacity:0.1; fill:none\" points=\"\n",
       "  262.551,632.575 2352.76,632.575 \n",
       "  \"/>\n",
       "<polyline clip-path=\"url(#clip852)\" style=\"stroke:#000000; stroke-linecap:round; stroke-linejoin:round; stroke-width:2; stroke-opacity:0.1; fill:none\" points=\"\n",
       "  262.551,360.809 2352.76,360.809 \n",
       "  \"/>\n",
       "<polyline clip-path=\"url(#clip850)\" style=\"stroke:#000000; stroke-linecap:round; stroke-linejoin:round; stroke-width:4; stroke-opacity:1; fill:none\" points=\"\n",
       "  262.551,1486.45 262.551,123.472 \n",
       "  \"/>\n",
       "<polyline clip-path=\"url(#clip850)\" style=\"stroke:#000000; stroke-linecap:round; stroke-linejoin:round; stroke-width:4; stroke-opacity:1; fill:none\" points=\"\n",
       "  262.551,1447.87 281.449,1447.87 \n",
       "  \"/>\n",
       "<polyline clip-path=\"url(#clip850)\" style=\"stroke:#000000; stroke-linecap:round; stroke-linejoin:round; stroke-width:4; stroke-opacity:1; fill:none\" points=\"\n",
       "  262.551,1176.11 281.449,1176.11 \n",
       "  \"/>\n",
       "<polyline clip-path=\"url(#clip850)\" style=\"stroke:#000000; stroke-linecap:round; stroke-linejoin:round; stroke-width:4; stroke-opacity:1; fill:none\" points=\"\n",
       "  262.551,904.341 281.449,904.341 \n",
       "  \"/>\n",
       "<polyline clip-path=\"url(#clip850)\" style=\"stroke:#000000; stroke-linecap:round; stroke-linejoin:round; stroke-width:4; stroke-opacity:1; fill:none\" points=\"\n",
       "  262.551,632.575 281.449,632.575 \n",
       "  \"/>\n",
       "<polyline clip-path=\"url(#clip850)\" style=\"stroke:#000000; stroke-linecap:round; stroke-linejoin:round; stroke-width:4; stroke-opacity:1; fill:none\" points=\"\n",
       "  262.551,360.809 281.449,360.809 \n",
       "  \"/>\n",
       "<path clip-path=\"url(#clip850)\" d=\"M214.607 1433.67 Q210.996 1433.67 209.167 1437.24 Q207.362 1440.78 207.362 1447.91 Q207.362 1455.01 209.167 1458.58 Q210.996 1462.12 214.607 1462.12 Q218.241 1462.12 220.047 1458.58 Q221.875 1455.01 221.875 1447.91 Q221.875 1440.78 220.047 1437.24 Q218.241 1433.67 214.607 1433.67 M214.607 1429.97 Q220.417 1429.97 223.473 1434.57 Q226.551 1439.16 226.551 1447.91 Q226.551 1456.63 223.473 1461.24 Q220.417 1465.82 214.607 1465.82 Q208.797 1465.82 205.718 1461.24 Q202.662 1456.63 202.662 1447.91 Q202.662 1439.16 205.718 1434.57 Q208.797 1429.97 214.607 1429.97 Z\" fill=\"#000000\" fill-rule=\"evenodd\" fill-opacity=\"1\" /><path clip-path=\"url(#clip850)\" d=\"M148.311 1189.45 L164.63 1189.45 L164.63 1193.39 L142.686 1193.39 L142.686 1189.45 Q145.348 1186.7 149.931 1182.07 Q154.538 1177.41 155.718 1176.07 Q157.964 1173.55 158.843 1171.81 Q159.746 1170.05 159.746 1168.36 Q159.746 1165.61 157.802 1163.87 Q155.88 1162.14 152.778 1162.14 Q150.579 1162.14 148.126 1162.9 Q145.695 1163.66 142.917 1165.22 L142.917 1160.49 Q145.741 1159.36 148.195 1158.78 Q150.649 1158.2 152.686 1158.2 Q158.056 1158.2 161.251 1160.89 Q164.445 1163.57 164.445 1168.06 Q164.445 1170.19 163.635 1172.11 Q162.848 1174.01 160.741 1176.6 Q160.163 1177.28 157.061 1180.49 Q153.959 1183.69 148.311 1189.45 Z\" fill=\"#000000\" fill-rule=\"evenodd\" fill-opacity=\"1\" /><path clip-path=\"url(#clip850)\" d=\"M174.491 1158.83 L192.848 1158.83 L192.848 1162.76 L178.774 1162.76 L178.774 1171.23 Q179.792 1170.89 180.811 1170.73 Q181.829 1170.54 182.848 1170.54 Q188.635 1170.54 192.014 1173.71 Q195.394 1176.88 195.394 1182.3 Q195.394 1187.88 191.922 1190.98 Q188.45 1194.06 182.13 1194.06 Q179.954 1194.06 177.686 1193.69 Q175.44 1193.32 173.033 1192.58 L173.033 1187.88 Q175.116 1189.01 177.339 1189.57 Q179.561 1190.12 182.038 1190.12 Q186.042 1190.12 188.38 1188.02 Q190.718 1185.91 190.718 1182.3 Q190.718 1178.69 188.38 1176.58 Q186.042 1174.48 182.038 1174.48 Q180.163 1174.48 178.288 1174.89 Q176.436 1175.31 174.491 1176.19 L174.491 1158.83 Z\" fill=\"#000000\" fill-rule=\"evenodd\" fill-opacity=\"1\" /><path clip-path=\"url(#clip850)\" d=\"M214.607 1161.91 Q210.996 1161.91 209.167 1165.47 Q207.362 1169.01 207.362 1176.14 Q207.362 1183.25 209.167 1186.81 Q210.996 1190.35 214.607 1190.35 Q218.241 1190.35 220.047 1186.81 Q221.875 1183.25 221.875 1176.14 Q221.875 1169.01 220.047 1165.47 Q218.241 1161.91 214.607 1161.91 M214.607 1158.2 Q220.417 1158.2 223.473 1162.81 Q226.551 1167.39 226.551 1176.14 Q226.551 1184.87 223.473 1189.47 Q220.417 1194.06 214.607 1194.06 Q208.797 1194.06 205.718 1189.47 Q202.662 1184.87 202.662 1176.14 Q202.662 1167.39 205.718 1162.81 Q208.797 1158.2 214.607 1158.2 Z\" fill=\"#000000\" fill-rule=\"evenodd\" fill-opacity=\"1\" /><path clip-path=\"url(#clip850)\" d=\"M144.329 887.061 L162.686 887.061 L162.686 890.996 L148.612 890.996 L148.612 899.468 Q149.63 899.121 150.649 898.959 Q151.667 898.774 152.686 898.774 Q158.473 898.774 161.852 901.945 Q165.232 905.116 165.232 910.533 Q165.232 916.112 161.76 919.213 Q158.288 922.292 151.968 922.292 Q149.792 922.292 147.524 921.922 Q145.279 921.551 142.871 920.811 L142.871 916.112 Q144.954 917.246 147.177 917.801 Q149.399 918.357 151.876 918.357 Q155.88 918.357 158.218 916.25 Q160.556 914.144 160.556 910.533 Q160.556 906.922 158.218 904.815 Q155.88 902.709 151.876 902.709 Q150.001 902.709 148.126 903.126 Q146.274 903.542 144.329 904.422 L144.329 887.061 Z\" fill=\"#000000\" fill-rule=\"evenodd\" fill-opacity=\"1\" /><path clip-path=\"url(#clip850)\" d=\"M184.445 890.139 Q180.834 890.139 179.005 893.704 Q177.2 897.246 177.2 904.376 Q177.2 911.482 179.005 915.047 Q180.834 918.588 184.445 918.588 Q188.079 918.588 189.885 915.047 Q191.713 911.482 191.713 904.376 Q191.713 897.246 189.885 893.704 Q188.079 890.139 184.445 890.139 M184.445 886.436 Q190.255 886.436 193.311 891.042 Q196.389 895.626 196.389 904.376 Q196.389 913.102 193.311 917.709 Q190.255 922.292 184.445 922.292 Q178.635 922.292 175.556 917.709 Q172.501 913.102 172.501 904.376 Q172.501 895.626 175.556 891.042 Q178.635 886.436 184.445 886.436 Z\" fill=\"#000000\" fill-rule=\"evenodd\" fill-opacity=\"1\" /><path clip-path=\"url(#clip850)\" d=\"M214.607 890.139 Q210.996 890.139 209.167 893.704 Q207.362 897.246 207.362 904.376 Q207.362 911.482 209.167 915.047 Q210.996 918.588 214.607 918.588 Q218.241 918.588 220.047 915.047 Q221.875 911.482 221.875 904.376 Q221.875 897.246 220.047 893.704 Q218.241 890.139 214.607 890.139 M214.607 886.436 Q220.417 886.436 223.473 891.042 Q226.551 895.626 226.551 904.376 Q226.551 913.102 223.473 917.709 Q220.417 922.292 214.607 922.292 Q208.797 922.292 205.718 917.709 Q202.662 913.102 202.662 904.376 Q202.662 895.626 205.718 891.042 Q208.797 886.436 214.607 886.436 Z\" fill=\"#000000\" fill-rule=\"evenodd\" fill-opacity=\"1\" /><path clip-path=\"url(#clip850)\" d=\"M143.103 615.295 L165.325 615.295 L165.325 617.285 L152.778 649.855 L147.894 649.855 L159.7 619.23 L143.103 619.23 L143.103 615.295 Z\" fill=\"#000000\" fill-rule=\"evenodd\" fill-opacity=\"1\" /><path clip-path=\"url(#clip850)\" d=\"M174.491 615.295 L192.848 615.295 L192.848 619.23 L178.774 619.23 L178.774 627.702 Q179.792 627.355 180.811 627.193 Q181.829 627.008 182.848 627.008 Q188.635 627.008 192.014 630.179 Q195.394 633.35 195.394 638.767 Q195.394 644.345 191.922 647.447 Q188.45 650.526 182.13 650.526 Q179.954 650.526 177.686 650.156 Q175.44 649.785 173.033 649.044 L173.033 644.345 Q175.116 645.48 177.339 646.035 Q179.561 646.591 182.038 646.591 Q186.042 646.591 188.38 644.484 Q190.718 642.378 190.718 638.767 Q190.718 635.156 188.38 633.049 Q186.042 630.943 182.038 630.943 Q180.163 630.943 178.288 631.359 Q176.436 631.776 174.491 632.656 L174.491 615.295 Z\" fill=\"#000000\" fill-rule=\"evenodd\" fill-opacity=\"1\" /><path clip-path=\"url(#clip850)\" d=\"M214.607 618.373 Q210.996 618.373 209.167 621.938 Q207.362 625.48 207.362 632.609 Q207.362 639.716 209.167 643.281 Q210.996 646.822 214.607 646.822 Q218.241 646.822 220.047 643.281 Q221.875 639.716 221.875 632.609 Q221.875 625.48 220.047 621.938 Q218.241 618.373 214.607 618.373 M214.607 614.67 Q220.417 614.67 223.473 619.276 Q226.551 623.859 226.551 632.609 Q226.551 641.336 223.473 645.943 Q220.417 650.526 214.607 650.526 Q208.797 650.526 205.718 645.943 Q202.662 641.336 202.662 632.609 Q202.662 623.859 205.718 619.276 Q208.797 614.67 214.607 614.67 Z\" fill=\"#000000\" fill-rule=\"evenodd\" fill-opacity=\"1\" /><path clip-path=\"url(#clip850)\" d=\"M114.931 374.153 L122.57 374.153 L122.57 347.788 L114.26 349.454 L114.26 345.195 L122.524 343.529 L127.2 343.529 L127.2 374.153 L134.839 374.153 L134.839 378.089 L114.931 378.089 L114.931 374.153 Z\" fill=\"#000000\" fill-rule=\"evenodd\" fill-opacity=\"1\" /><path clip-path=\"url(#clip850)\" d=\"M154.283 346.607 Q150.672 346.607 148.843 350.172 Q147.038 353.714 147.038 360.843 Q147.038 367.95 148.843 371.514 Q150.672 375.056 154.283 375.056 Q157.917 375.056 159.723 371.514 Q161.552 367.95 161.552 360.843 Q161.552 353.714 159.723 350.172 Q157.917 346.607 154.283 346.607 M154.283 342.904 Q160.093 342.904 163.149 347.51 Q166.227 352.093 166.227 360.843 Q166.227 369.57 163.149 374.176 Q160.093 378.76 154.283 378.76 Q148.473 378.76 145.394 374.176 Q142.339 369.57 142.339 360.843 Q142.339 352.093 145.394 347.51 Q148.473 342.904 154.283 342.904 Z\" fill=\"#000000\" fill-rule=\"evenodd\" fill-opacity=\"1\" /><path clip-path=\"url(#clip850)\" d=\"M184.445 346.607 Q180.834 346.607 179.005 350.172 Q177.2 353.714 177.2 360.843 Q177.2 367.95 179.005 371.514 Q180.834 375.056 184.445 375.056 Q188.079 375.056 189.885 371.514 Q191.713 367.95 191.713 360.843 Q191.713 353.714 189.885 350.172 Q188.079 346.607 184.445 346.607 M184.445 342.904 Q190.255 342.904 193.311 347.51 Q196.389 352.093 196.389 360.843 Q196.389 369.57 193.311 374.176 Q190.255 378.76 184.445 378.76 Q178.635 378.76 175.556 374.176 Q172.501 369.57 172.501 360.843 Q172.501 352.093 175.556 347.51 Q178.635 342.904 184.445 342.904 Z\" fill=\"#000000\" fill-rule=\"evenodd\" fill-opacity=\"1\" /><path clip-path=\"url(#clip850)\" d=\"M214.607 346.607 Q210.996 346.607 209.167 350.172 Q207.362 353.714 207.362 360.843 Q207.362 367.95 209.167 371.514 Q210.996 375.056 214.607 375.056 Q218.241 375.056 220.047 371.514 Q221.875 367.95 221.875 360.843 Q221.875 353.714 220.047 350.172 Q218.241 346.607 214.607 346.607 M214.607 342.904 Q220.417 342.904 223.473 347.51 Q226.551 352.093 226.551 360.843 Q226.551 369.57 223.473 374.176 Q220.417 378.76 214.607 378.76 Q208.797 378.76 205.718 374.176 Q202.662 369.57 202.662 360.843 Q202.662 352.093 205.718 347.51 Q208.797 342.904 214.607 342.904 Z\" fill=\"#000000\" fill-rule=\"evenodd\" fill-opacity=\"1\" /><path clip-path=\"url(#clip850)\" d=\"M16.4842 849.934 L16.4842 840.353 L48.8219 828.227 L16.4842 816.036 L16.4842 806.456 L64.0042 806.456 L64.0042 812.726 L22.277 812.726 L54.8694 824.98 L54.8694 831.441 L22.277 843.695 L64.0042 843.695 L64.0042 849.934 L16.4842 849.934 Z\" fill=\"#000000\" fill-rule=\"evenodd\" fill-opacity=\"1\" /><path clip-path=\"url(#clip850)\" d=\"M41.3104 787.263 L58.7206 787.263 L58.7206 776.951 Q58.7206 771.763 56.5881 769.28 Q54.4238 766.766 49.9996 766.766 Q45.5436 766.766 43.4429 769.28 Q41.3104 771.763 41.3104 776.951 L41.3104 787.263 M21.7677 787.263 L36.0905 787.263 L36.0905 777.747 Q36.0905 773.036 34.34 770.744 Q32.5576 768.421 28.9291 768.421 Q25.3325 768.421 23.5501 770.744 Q21.7677 773.036 21.7677 777.747 L21.7677 787.263 M16.4842 793.693 L16.4842 777.269 Q16.4842 769.917 19.5397 765.938 Q22.5952 761.96 28.2289 761.96 Q32.5894 761.96 35.1675 763.997 Q37.7456 766.034 38.3822 769.98 Q39.4007 765.238 42.6472 762.628 Q45.8619 759.986 50.6998 759.986 Q57.0655 759.986 60.5348 764.315 Q64.0042 768.644 64.0042 776.633 L64.0042 793.693 L16.4842 793.693 Z\" fill=\"#000000\" fill-rule=\"evenodd\" fill-opacity=\"1\" /><path clip-path=\"url(#clip850)\" d=\"M878.379 12.096 L913.136 12.096 L913.136 18.9825 L886.562 18.9825 L886.562 36.8065 L910.543 36.8065 L910.543 43.6931 L886.562 43.6931 L886.562 72.576 L878.379 72.576 L878.379 12.096 Z\" fill=\"#000000\" fill-rule=\"evenodd\" fill-opacity=\"1\" /><path clip-path=\"url(#clip850)\" d=\"M940.399 32.4315 Q934.403 32.4315 930.919 37.1306 Q927.436 41.7891 927.436 49.9314 Q927.436 58.0738 930.879 62.7728 Q934.363 67.4314 940.399 67.4314 Q946.353 67.4314 949.837 62.7323 Q953.321 58.0333 953.321 49.9314 Q953.321 41.8701 949.837 37.1711 Q946.353 32.4315 940.399 32.4315 M940.399 26.1121 Q950.121 26.1121 955.67 32.4315 Q961.22 38.7509 961.22 49.9314 Q961.22 61.0714 955.67 67.4314 Q950.121 73.7508 940.399 73.7508 Q930.636 73.7508 925.086 67.4314 Q919.577 61.0714 919.577 49.9314 Q919.577 38.7509 925.086 32.4315 Q930.636 26.1121 940.399 26.1121 Z\" fill=\"#000000\" fill-rule=\"evenodd\" fill-opacity=\"1\" /><path clip-path=\"url(#clip850)\" d=\"M999.866 34.1734 Q998.61 33.4443 997.111 33.1202 Q995.653 32.7556 993.871 32.7556 Q987.551 32.7556 984.148 36.8875 Q980.786 40.9789 980.786 48.6757 L980.786 72.576 L973.292 72.576 L973.292 27.2059 L980.786 27.2059 L980.786 34.2544 Q983.136 30.1225 986.903 28.1376 Q990.67 26.1121 996.058 26.1121 Q996.828 26.1121 997.759 26.2337 Q998.691 26.3147 999.825 26.5172 L999.866 34.1734 Z\" fill=\"#000000\" fill-rule=\"evenodd\" fill-opacity=\"1\" /><path clip-path=\"url(#clip850)\" d=\"M1041.55 35.9153 Q1044.34 30.8922 1048.23 28.5022 Q1052.12 26.1121 1057.39 26.1121 Q1064.48 26.1121 1068.33 31.0947 Q1072.17 36.0368 1072.17 45.1919 L1072.17 72.576 L1064.68 72.576 L1064.68 45.4349 Q1064.68 38.913 1062.37 35.7533 Q1060.06 32.5936 1055.32 32.5936 Q1049.53 32.5936 1046.17 36.4419 Q1042.81 40.2903 1042.81 46.9338 L1042.81 72.576 L1035.31 72.576 L1035.31 45.4349 Q1035.31 38.8725 1033 35.7533 Q1030.69 32.5936 1025.87 32.5936 Q1020.16 32.5936 1016.8 36.4824 Q1013.44 40.3308 1013.44 46.9338 L1013.44 72.576 L1005.94 72.576 L1005.94 27.2059 L1013.44 27.2059 L1013.44 34.2544 Q1015.99 30.082 1019.55 28.0971 Q1023.12 26.1121 1028.02 26.1121 Q1032.96 26.1121 1036.41 28.6237 Q1039.89 31.1352 1041.55 35.9153 Z\" fill=\"#000000\" fill-rule=\"evenodd\" fill-opacity=\"1\" /><path clip-path=\"url(#clip850)\" d=\"M1107.66 49.7694 Q1098.63 49.7694 1095.14 51.8354 Q1091.66 53.9013 1091.66 58.8839 Q1091.66 62.8538 1094.25 65.2034 Q1096.89 67.5124 1101.38 67.5124 Q1107.58 67.5124 1111.31 63.1374 Q1115.07 58.7219 1115.07 51.4303 L1115.07 49.7694 L1107.66 49.7694 M1122.53 46.6907 L1122.53 72.576 L1115.07 72.576 L1115.07 65.6895 Q1112.52 69.8214 1108.71 71.8063 Q1104.91 73.7508 1099.4 73.7508 Q1092.43 73.7508 1088.3 69.8619 Q1084.21 65.9325 1084.21 59.3701 Q1084.21 51.7138 1089.31 47.825 Q1094.45 43.9361 1104.62 43.9361 L1115.07 43.9361 L1115.07 43.2069 Q1115.07 38.0623 1111.67 35.2672 Q1108.31 32.4315 1102.19 32.4315 Q1098.3 32.4315 1094.62 33.3632 Q1090.93 34.295 1087.53 36.1584 L1087.53 29.2718 Q1091.62 27.692 1095.47 26.9223 Q1099.32 26.1121 1102.96 26.1121 Q1112.81 26.1121 1117.67 31.2163 Q1122.53 36.3204 1122.53 46.6907 Z\" fill=\"#000000\" fill-rule=\"evenodd\" fill-opacity=\"1\" /><path clip-path=\"url(#clip850)\" d=\"M1145.25 14.324 L1145.25 27.2059 L1160.61 27.2059 L1160.61 32.9987 L1145.25 32.9987 L1145.25 57.6282 Q1145.25 63.1779 1146.75 64.7578 Q1148.29 66.3376 1152.95 66.3376 L1160.61 66.3376 L1160.61 72.576 L1152.95 72.576 Q1144.32 72.576 1141.04 69.3758 Q1137.76 66.1351 1137.76 57.6282 L1137.76 32.9987 L1132.29 32.9987 L1132.29 27.2059 L1137.76 27.2059 L1137.76 14.324 L1145.25 14.324 Z\" fill=\"#000000\" fill-rule=\"evenodd\" fill-opacity=\"1\" /><path clip-path=\"url(#clip850)\" d=\"M1197.1 12.096 L1231.86 12.096 L1231.86 18.9825 L1205.29 18.9825 L1205.29 36.8065 L1229.27 36.8065 L1229.27 43.6931 L1205.29 43.6931 L1205.29 72.576 L1197.1 72.576 L1197.1 12.096 Z\" fill=\"#000000\" fill-rule=\"evenodd\" fill-opacity=\"1\" /><path clip-path=\"url(#clip850)\" d=\"M1238.46 27.2059 L1245.92 27.2059 L1245.92 72.576 L1238.46 72.576 L1238.46 27.2059 M1238.46 9.54393 L1245.92 9.54393 L1245.92 18.9825 L1238.46 18.9825 L1238.46 9.54393 Z\" fill=\"#000000\" fill-rule=\"evenodd\" fill-opacity=\"1\" /><path clip-path=\"url(#clip850)\" d=\"M1261.51 9.54393 L1268.97 9.54393 L1268.97 72.576 L1261.51 72.576 L1261.51 9.54393 Z\" fill=\"#000000\" fill-rule=\"evenodd\" fill-opacity=\"1\" /><path clip-path=\"url(#clip850)\" d=\"M1323.37 48.0275 L1323.37 51.6733 L1289.1 51.6733 Q1289.59 59.3701 1293.72 63.421 Q1297.89 67.4314 1305.3 67.4314 Q1309.6 67.4314 1313.61 66.3781 Q1317.66 65.3249 1321.63 63.2184 L1321.63 70.267 Q1317.62 71.9684 1313.41 72.8596 Q1309.19 73.7508 1304.86 73.7508 Q1294 73.7508 1287.64 67.4314 Q1281.32 61.1119 1281.32 50.3365 Q1281.32 39.1965 1287.32 32.6746 Q1293.35 26.1121 1303.56 26.1121 Q1312.72 26.1121 1318.02 32.0264 Q1323.37 37.9003 1323.37 48.0275 M1315.92 45.84 Q1315.84 39.7232 1312.47 36.0774 Q1309.15 32.4315 1303.64 32.4315 Q1297.4 32.4315 1293.64 35.9558 Q1289.91 39.4801 1289.34 45.8805 L1315.92 45.84 Z\" fill=\"#000000\" fill-rule=\"evenodd\" fill-opacity=\"1\" /><path clip-path=\"url(#clip850)\" d=\"M1398.56 14.0809 L1398.56 22.0612 Q1393.9 19.8332 1389.77 18.7395 Q1385.63 17.6457 1381.79 17.6457 Q1375.1 17.6457 1371.46 20.2383 Q1367.85 22.8309 1367.85 27.611 Q1367.85 31.6214 1370.24 33.6873 Q1372.67 35.7128 1379.4 36.9686 L1384.34 37.9813 Q1393.49 39.7232 1397.83 44.1387 Q1402.2 48.5136 1402.2 55.8863 Q1402.2 64.6767 1396.29 69.2137 Q1390.41 73.7508 1379.03 73.7508 Q1374.74 73.7508 1369.88 72.7785 Q1365.05 71.8063 1359.87 69.9024 L1359.87 61.4765 Q1364.85 64.2716 1369.63 65.6895 Q1374.41 67.1073 1379.03 67.1073 Q1386.04 67.1073 1389.85 64.3527 Q1393.65 61.598 1393.65 56.4939 Q1393.65 52.0379 1390.9 49.5264 Q1388.19 47.0148 1381.95 45.759 L1376.96 44.7868 Q1367.81 42.9639 1363.72 39.075 Q1359.63 35.1862 1359.63 28.2591 Q1359.63 20.2383 1365.26 15.6203 Q1370.93 11.0023 1380.85 11.0023 Q1385.11 11.0023 1389.52 11.7719 Q1393.94 12.5416 1398.56 14.0809 Z\" fill=\"#000000\" fill-rule=\"evenodd\" fill-opacity=\"1\" /><path clip-path=\"url(#clip850)\" d=\"M1414.64 27.2059 L1422.09 27.2059 L1422.09 72.576 L1414.64 72.576 L1414.64 27.2059 M1414.64 9.54393 L1422.09 9.54393 L1422.09 18.9825 L1414.64 18.9825 L1414.64 9.54393 Z\" fill=\"#000000\" fill-rule=\"evenodd\" fill-opacity=\"1\" /><path clip-path=\"url(#clip850)\" d=\"M1434.45 27.2059 L1469.85 27.2059 L1469.85 34.0114 L1441.82 66.6212 L1469.85 66.6212 L1469.85 72.576 L1433.43 72.576 L1433.43 65.7705 L1461.47 33.1607 L1434.45 33.1607 L1434.45 27.2059 Z\" fill=\"#000000\" fill-rule=\"evenodd\" fill-opacity=\"1\" /><path clip-path=\"url(#clip850)\" d=\"M1520.04 48.0275 L1520.04 51.6733 L1485.77 51.6733 Q1486.26 59.3701 1490.39 63.421 Q1494.56 67.4314 1501.98 67.4314 Q1506.27 67.4314 1510.28 66.3781 Q1514.33 65.3249 1518.3 63.2184 L1518.3 70.267 Q1514.29 71.9684 1510.08 72.8596 Q1505.86 73.7508 1501.53 73.7508 Q1490.67 73.7508 1484.31 67.4314 Q1477.99 61.1119 1477.99 50.3365 Q1477.99 39.1965 1483.99 32.6746 Q1490.03 26.1121 1500.23 26.1121 Q1509.39 26.1121 1514.7 32.0264 Q1520.04 37.9003 1520.04 48.0275 M1512.59 45.84 Q1512.51 39.7232 1509.15 36.0774 Q1505.82 32.4315 1500.31 32.4315 Q1494.08 32.4315 1490.31 35.9558 Q1486.58 39.4801 1486.01 45.8805 L1512.59 45.84 Z\" fill=\"#000000\" fill-rule=\"evenodd\" fill-opacity=\"1\" /><path clip-path=\"url(#clip850)\" d=\"M1576.55 9.62495 Q1571.12 18.942 1568.49 28.0566 Q1565.86 37.1711 1565.86 46.5287 Q1565.86 55.8863 1568.49 65.0818 Q1571.16 74.2369 1576.55 83.5134 L1570.07 83.5134 Q1563.99 73.9938 1560.96 64.7983 Q1557.96 55.6027 1557.96 46.5287 Q1557.96 37.4952 1560.96 28.3401 Q1563.95 19.1851 1570.07 9.62495 L1576.55 9.62495 Z\" fill=\"#000000\" fill-rule=\"evenodd\" fill-opacity=\"1\" /><path clip-path=\"url(#clip850)\" d=\"M1591.34 12.096 L1603.53 12.096 L1618.97 53.2532 L1634.48 12.096 L1646.67 12.096 L1646.67 72.576 L1638.69 72.576 L1638.69 19.4686 L1623.1 60.9499 L1614.87 60.9499 L1599.28 19.4686 L1599.28 72.576 L1591.34 72.576 L1591.34 12.096 Z\" fill=\"#000000\" fill-rule=\"evenodd\" fill-opacity=\"1\" /><path clip-path=\"url(#clip850)\" d=\"M1671.1 43.6931 L1671.1 65.8515 L1684.23 65.8515 Q1690.83 65.8515 1693.99 63.1374 Q1697.19 60.3828 1697.19 54.752 Q1697.19 49.0808 1693.99 46.4072 Q1690.83 43.6931 1684.23 43.6931 L1671.1 43.6931 M1671.1 18.8205 L1671.1 37.0496 L1683.21 37.0496 Q1689.21 37.0496 1692.12 34.8216 Q1695.08 32.5531 1695.08 27.935 Q1695.08 23.3575 1692.12 21.089 Q1689.21 18.8205 1683.21 18.8205 L1671.1 18.8205 M1662.92 12.096 L1683.82 12.096 Q1693.18 12.096 1698.24 15.9849 Q1703.31 19.8737 1703.31 27.0438 Q1703.31 32.5936 1700.71 35.8748 Q1698.12 39.156 1693.1 39.9662 Q1699.13 41.2625 1702.45 45.3944 Q1705.82 49.4858 1705.82 55.6432 Q1705.82 63.745 1700.31 68.1605 Q1694.8 72.576 1684.63 72.576 L1662.92 72.576 L1662.92 12.096 Z\" fill=\"#000000\" fill-rule=\"evenodd\" fill-opacity=\"1\" /><path clip-path=\"url(#clip850)\" d=\"M1718.33 9.62495 L1724.82 9.62495 Q1730.89 19.1851 1733.89 28.3401 Q1736.93 37.4952 1736.93 46.5287 Q1736.93 55.6027 1733.89 64.7983 Q1730.89 73.9938 1724.82 83.5134 L1718.33 83.5134 Q1723.72 74.2369 1726.36 65.0818 Q1729.03 55.8863 1729.03 46.5287 Q1729.03 37.1711 1726.36 28.0566 Q1723.72 18.942 1718.33 9.62495 Z\" fill=\"#000000\" fill-rule=\"evenodd\" fill-opacity=\"1\" /><path clip-path=\"url(#clip852)\" d=\"\n",
       "M377.516 1431.13 L377.516 1447.87 L634.106 1447.87 L634.106 1431.13 L377.516 1431.13 L377.516 1431.13  Z\n",
       "  \" fill=\"#009af9\" fill-rule=\"evenodd\" fill-opacity=\"1\"/>\n",
       "<polyline clip-path=\"url(#clip852)\" style=\"stroke:#000000; stroke-linecap:round; stroke-linejoin:round; stroke-width:4; stroke-opacity:1; fill:none\" points=\"\n",
       "  377.516,1431.13 377.516,1447.87 634.106,1447.87 634.106,1431.13 377.516,1431.13 \n",
       "  \"/>\n",
       "<path clip-path=\"url(#clip852)\" d=\"\n",
       "M698.253 1394.26 L698.253 1447.87 L954.843 1447.87 L954.843 1394.26 L698.253 1394.26 L698.253 1394.26  Z\n",
       "  \" fill=\"#009af9\" fill-rule=\"evenodd\" fill-opacity=\"1\"/>\n",
       "<polyline clip-path=\"url(#clip852)\" style=\"stroke:#000000; stroke-linecap:round; stroke-linejoin:round; stroke-width:4; stroke-opacity:1; fill:none\" points=\"\n",
       "  698.253,1394.26 698.253,1447.87 954.843,1447.87 954.843,1394.26 698.253,1394.26 \n",
       "  \"/>\n",
       "<path clip-path=\"url(#clip852)\" d=\"\n",
       "M1018.99 1394.2 L1018.99 1447.87 L1275.58 1447.87 L1275.58 1394.2 L1018.99 1394.2 L1018.99 1394.2  Z\n",
       "  \" fill=\"#009af9\" fill-rule=\"evenodd\" fill-opacity=\"1\"/>\n",
       "<polyline clip-path=\"url(#clip852)\" style=\"stroke:#000000; stroke-linecap:round; stroke-linejoin:round; stroke-width:4; stroke-opacity:1; fill:none\" points=\"\n",
       "  1018.99,1394.2 1018.99,1447.87 1275.58,1447.87 1275.58,1394.2 1018.99,1394.2 \n",
       "  \"/>\n",
       "<path clip-path=\"url(#clip852)\" d=\"\n",
       "M1339.73 876.85 L1339.73 1447.87 L1596.32 1447.87 L1596.32 876.85 L1339.73 876.85 L1339.73 876.85  Z\n",
       "  \" fill=\"#009af9\" fill-rule=\"evenodd\" fill-opacity=\"1\"/>\n",
       "<polyline clip-path=\"url(#clip852)\" style=\"stroke:#000000; stroke-linecap:round; stroke-linejoin:round; stroke-width:4; stroke-opacity:1; fill:none\" points=\"\n",
       "  1339.73,876.85 1339.73,1447.87 1596.32,1447.87 1596.32,876.85 1339.73,876.85 \n",
       "  \"/>\n",
       "<path clip-path=\"url(#clip852)\" d=\"\n",
       "M1660.46 876.846 L1660.46 1447.87 L1917.05 1447.87 L1917.05 876.846 L1660.46 876.846 L1660.46 876.846  Z\n",
       "  \" fill=\"#009af9\" fill-rule=\"evenodd\" fill-opacity=\"1\"/>\n",
       "<polyline clip-path=\"url(#clip852)\" style=\"stroke:#000000; stroke-linecap:round; stroke-linejoin:round; stroke-width:4; stroke-opacity:1; fill:none\" points=\"\n",
       "  1660.46,876.846 1660.46,1447.87 1917.05,1447.87 1917.05,876.846 1660.46,876.846 \n",
       "  \"/>\n",
       "<path clip-path=\"url(#clip852)\" d=\"\n",
       "M1981.2 162.047 L1981.2 1447.87 L2237.79 1447.87 L2237.79 162.047 L1981.2 162.047 L1981.2 162.047  Z\n",
       "  \" fill=\"#009af9\" fill-rule=\"evenodd\" fill-opacity=\"1\"/>\n",
       "<polyline clip-path=\"url(#clip852)\" style=\"stroke:#000000; stroke-linecap:round; stroke-linejoin:round; stroke-width:4; stroke-opacity:1; fill:none\" points=\"\n",
       "  1981.2,162.047 1981.2,1447.87 2237.79,1447.87 2237.79,162.047 1981.2,162.047 \n",
       "  \"/>\n",
       "<circle clip-path=\"url(#clip852)\" style=\"fill:#009af9; stroke:none; fill-opacity:0\" cx=\"505.811\" cy=\"1431.13\" r=\"2\"/>\n",
       "<circle clip-path=\"url(#clip852)\" style=\"fill:#009af9; stroke:none; fill-opacity:0\" cx=\"826.548\" cy=\"1394.26\" r=\"2\"/>\n",
       "<circle clip-path=\"url(#clip852)\" style=\"fill:#009af9; stroke:none; fill-opacity:0\" cx=\"1147.29\" cy=\"1394.2\" r=\"2\"/>\n",
       "<circle clip-path=\"url(#clip852)\" style=\"fill:#009af9; stroke:none; fill-opacity:0\" cx=\"1468.02\" cy=\"876.85\" r=\"2\"/>\n",
       "<circle clip-path=\"url(#clip852)\" style=\"fill:#009af9; stroke:none; fill-opacity:0\" cx=\"1788.76\" cy=\"876.846\" r=\"2\"/>\n",
       "<circle clip-path=\"url(#clip852)\" style=\"fill:#009af9; stroke:none; fill-opacity:0\" cx=\"2109.5\" cy=\"162.047\" r=\"2\"/>\n",
       "<path clip-path=\"url(#clip850)\" d=\"\n",
       "M1959.17 272.585 L2283.08 272.585 L2283.08 168.905 L1959.17 168.905  Z\n",
       "  \" fill=\"#ffffff\" fill-rule=\"evenodd\" fill-opacity=\"1\"/>\n",
       "<polyline clip-path=\"url(#clip850)\" style=\"stroke:#000000; stroke-linecap:round; stroke-linejoin:round; stroke-width:4; stroke-opacity:1; fill:none\" points=\"\n",
       "  1959.17,272.585 2283.08,272.585 2283.08,168.905 1959.17,168.905 1959.17,272.585 \n",
       "  \"/>\n",
       "<path clip-path=\"url(#clip850)\" d=\"\n",
       "M1982.4 241.481 L2121.74 241.481 L2121.74 200.009 L1982.4 200.009 L1982.4 241.481  Z\n",
       "  \" fill=\"#009af9\" fill-rule=\"evenodd\" fill-opacity=\"1\"/>\n",
       "<polyline clip-path=\"url(#clip850)\" style=\"stroke:#000000; stroke-linecap:round; stroke-linejoin:round; stroke-width:4; stroke-opacity:1; fill:none\" points=\"\n",
       "  1982.4,241.481 2121.74,241.481 2121.74,200.009 1982.4,200.009 1982.4,241.481 \n",
       "  \"/>\n",
       "<path clip-path=\"url(#clip850)\" d=\"M2167.21 204.599 L2167.21 209.159 Q2164.55 207.886 2162.19 207.261 Q2159.83 206.636 2157.63 206.636 Q2153.81 206.636 2151.73 208.117 Q2149.67 209.599 2149.67 212.33 Q2149.67 214.622 2151.03 215.803 Q2152.42 216.96 2156.26 217.678 L2159.09 218.256 Q2164.32 219.252 2166.8 221.775 Q2169.3 224.275 2169.3 228.488 Q2169.3 233.511 2165.92 236.103 Q2162.56 238.696 2156.06 238.696 Q2153.6 238.696 2150.82 238.14 Q2148.07 237.585 2145.11 236.497 L2145.11 231.682 Q2147.95 233.279 2150.68 234.089 Q2153.42 234.9 2156.06 234.9 Q2160.06 234.9 2162.24 233.326 Q2164.41 231.752 2164.41 228.835 Q2164.41 226.289 2162.84 224.853 Q2161.29 223.418 2157.72 222.701 L2154.87 222.145 Q2149.64 221.103 2147.31 218.881 Q2144.97 216.659 2144.97 212.701 Q2144.97 208.117 2148.18 205.479 Q2151.43 202.84 2157.1 202.84 Q2159.53 202.84 2162.05 203.279 Q2164.57 203.719 2167.21 204.599 Z\" fill=\"#000000\" fill-rule=\"evenodd\" fill-opacity=\"1\" /><path clip-path=\"url(#clip850)\" d=\"M2176.4 212.099 L2180.66 212.099 L2180.66 238.025 L2176.4 238.025 L2176.4 212.099 M2176.4 202.006 L2180.66 202.006 L2180.66 207.4 L2176.4 207.4 L2176.4 202.006 Z\" fill=\"#000000\" fill-rule=\"evenodd\" fill-opacity=\"1\" /><path clip-path=\"url(#clip850)\" d=\"M2187.72 212.099 L2207.95 212.099 L2207.95 215.988 L2191.93 234.622 L2207.95 234.622 L2207.95 238.025 L2187.14 238.025 L2187.14 234.136 L2203.16 215.502 L2187.72 215.502 L2187.72 212.099 Z\" fill=\"#000000\" fill-rule=\"evenodd\" fill-opacity=\"1\" /><path clip-path=\"url(#clip850)\" d=\"M2236.63 223.997 L2236.63 226.08 L2217.05 226.08 Q2217.33 230.478 2219.69 232.793 Q2222.07 235.085 2226.31 235.085 Q2228.76 235.085 2231.05 234.483 Q2233.37 233.881 2235.64 232.677 L2235.64 236.705 Q2233.35 237.677 2230.94 238.187 Q2228.53 238.696 2226.05 238.696 Q2219.85 238.696 2216.22 235.085 Q2212.61 231.474 2212.61 225.316 Q2212.61 218.951 2216.03 215.224 Q2219.48 211.474 2225.31 211.474 Q2230.55 211.474 2233.58 214.853 Q2236.63 218.21 2236.63 223.997 M2232.37 222.747 Q2232.33 219.252 2230.41 217.168 Q2228.51 215.085 2225.36 215.085 Q2221.8 215.085 2219.64 217.099 Q2217.51 219.113 2217.19 222.77 L2232.37 222.747 Z\" fill=\"#000000\" fill-rule=\"evenodd\" fill-opacity=\"1\" /></svg>\n"
      ]
     },
     "execution_count": 41,
     "metadata": {},
     "output_type": "execute_result"
    }
   ],
   "source": [
    "@df df plot(:file, :size/1024^2, seriestype=:bar, title = \"Format File Size (MB)\", label=\"Size\", ylab=\"MB\")"
   ]
  },
  {
   "cell_type": "code",
   "execution_count": 42,
   "metadata": {},
   "outputs": [
    {
     "name": "stdout",
     "output_type": "stream",
     "text": [
      "First run\n",
      "CSV.jl\n",
      "  7.184918 seconds (754.18 k allocations: 353.726 MiB, 6.50% compilation time)\n",
      "Serialization\n",
      "  4.623841 seconds (99.31 M allocations: 1.576 GiB, 11.40% gc time, 0.40% compilation time)\n",
      "JDF.jl\n",
      "  1.542239 seconds (325.69 k allocations: 327.475 MiB, 51.87% compilation time)\n",
      "JLSO.jl\n",
      "  3.929559 seconds (99.42 M allocations: 1.627 GiB, 14.71% gc time, 0.37% compilation time)\n",
      "Arrow.jl\n",
      "  0.318712 seconds (586.67 k allocations: 30.316 MiB, 98.42% compilation time)\n",
      "  0.858840 seconds (103.50 k allocations: 100.951 MiB, 7.39% gc time)\n",
      "JSONTables.jl arraytable\n",
      " 71.173948 seconds (2.40 M allocations: 13.532 GiB, 1.28% gc time, 0.00% compilation time)\n",
      "JSONTables.jl objecttable\n",
      " 15.865440 seconds (62.59 k allocations: 2.975 GiB, 72.16% gc time, 0.24% compilation time)\n",
      "Second run\n",
      "  7.494070 seconds (127.42 k allocations: 316.057 MiB)\n",
      "Serialization\n",
      "  4.669004 seconds (99.30 M allocations: 1.575 GiB, 8.90% gc time)\n",
      "JDF.jl\n",
      "  0.782573 seconds (80.74 k allocations: 316.750 MiB, 6.39% gc time)\n",
      "JLSO.jl\n",
      "  3.786899 seconds (99.41 M allocations: 1.626 GiB, 5.86% gc time)\n",
      "Arrow.jl\n",
      "  0.004020 seconds (66.52 k allocations: 3.245 MiB)\n",
      "  0.808926 seconds (103.50 k allocations: 100.951 MiB)\n",
      "JSONTables.jl arraytable\n",
      " 79.274370 seconds (2.40 M allocations: 13.532 GiB, 13.57% gc time)\n",
      "JSONTables.jl objecttable\n",
      "  4.473682 seconds (9.06 k allocations: 2.972 GiB, 0.42% gc time)\n"
     ]
    }
   ],
   "source": [
    "println(\"First run\")\n",
    "println(\"CSV.jl\")\n",
    "csvread1 = @elapsed @time CSV.read(\"bigdf1.csv\", DataFrame)\n",
    "println(\"Serialization\")\n",
    "serializeread1 = @elapsed @time open(deserialize, \"bigdf.bin\")\n",
    "println(\"JDF.jl\")\n",
    "jdfread1 = @elapsed @time JDF.load(\"bigdf.jdf\") |> DataFrame\n",
    "println(\"JLSO.jl\")\n",
    "jlsoread1 = @elapsed @time JLSO.load(\"bigdf.jlso\")\n",
    "println(\"Arrow.jl\")\n",
    "arrowread1 = @elapsed @time df_tmp = Arrow.Table(\"bigdf.arrow\") |> DataFrame\n",
    "arrowread1copy = @elapsed @time copy(df_tmp)\n",
    "println(\"JSONTables.jl arraytable\")\n",
    "jsontablesaread1 = @elapsed @time open(jsontable, \"bigdf1.json\")\n",
    "println(\"JSONTables.jl objecttable\")\n",
    "jsontablesoread1 = @elapsed @time open(jsontable, \"bigdf2.json\")\n",
    "println(\"Second run\")\n",
    "csvread2 = @elapsed @time CSV.read(\"bigdf1.csv\", DataFrame)\n",
    "println(\"Serialization\")\n",
    "serializeread2 = @elapsed @time open(deserialize, \"bigdf.bin\")\n",
    "println(\"JDF.jl\")\n",
    "jdfread2 = @elapsed @time JDF.load(\"bigdf.jdf\") |> DataFrame\n",
    "println(\"JLSO.jl\")\n",
    "jlsoread2 = @elapsed @time JLSO.load(\"bigdf.jlso\")\n",
    "println(\"Arrow.jl\")\n",
    "arrowread2 = @elapsed @time df_tmp = Arrow.Table(\"bigdf.arrow\") |> DataFrame\n",
    "arrowread2copy = @elapsed @time copy(df_tmp)\n",
    "println(\"JSONTables.jl arraytable\")\n",
    "jsontablesaread2 = @elapsed @time open(jsontable, \"bigdf1.json\")\n",
    "println(\"JSONTables.jl objecttable\")\n",
    "jsontablesoread2 = @elapsed @time open(jsontable, \"bigdf2.json\");"
   ]
  },
  {
   "cell_type": "code",
   "execution_count": 43,
   "metadata": {},
   "outputs": [
    {
     "data": {
      "image/svg+xml": [
       "<?xml version=\"1.0\" encoding=\"utf-8\"?>\n",
       "<svg xmlns=\"http://www.w3.org/2000/svg\" xmlns:xlink=\"http://www.w3.org/1999/xlink\" width=\"600\" height=\"400\" viewBox=\"0 0 2400 1600\">\n",
       "<defs>\n",
       "  <clipPath id=\"clip890\">\n",
       "    <rect x=\"0\" y=\"0\" width=\"2400\" height=\"1600\"/>\n",
       "  </clipPath>\n",
       "</defs>\n",
       "<path clip-path=\"url(#clip890)\" d=\"\n",
       "M0 1600 L2400 1600 L2400 0 L0 0  Z\n",
       "  \" fill=\"#ffffff\" fill-rule=\"evenodd\" fill-opacity=\"1\"/>\n",
       "<defs>\n",
       "  <clipPath id=\"clip891\">\n",
       "    <rect x=\"480\" y=\"0\" width=\"1681\" height=\"1600\"/>\n",
       "  </clipPath>\n",
       "</defs>\n",
       "<path clip-path=\"url(#clip890)\" d=\"\n",
       "M202.227 1451.89 L2352.76 1451.89 L2352.76 244.432 L202.227 244.432  Z\n",
       "  \" fill=\"#ffffff\" fill-rule=\"evenodd\" fill-opacity=\"1\"/>\n",
       "<defs>\n",
       "  <clipPath id=\"clip892\">\n",
       "    <rect x=\"202\" y=\"244\" width=\"2152\" height=\"1208\"/>\n",
       "  </clipPath>\n",
       "</defs>\n",
       "<polyline clip-path=\"url(#clip892)\" style=\"stroke:#000000; stroke-linecap:round; stroke-linejoin:round; stroke-width:2; stroke-opacity:0.1; fill:none\" points=\"\n",
       "  430.275,1451.89 430.275,244.432 \n",
       "  \"/>\n",
       "<polyline clip-path=\"url(#clip892)\" style=\"stroke:#000000; stroke-linecap:round; stroke-linejoin:round; stroke-width:2; stroke-opacity:0.1; fill:none\" points=\"\n",
       "  712.681,1451.89 712.681,244.432 \n",
       "  \"/>\n",
       "<polyline clip-path=\"url(#clip892)\" style=\"stroke:#000000; stroke-linecap:round; stroke-linejoin:round; stroke-width:2; stroke-opacity:0.1; fill:none\" points=\"\n",
       "  995.086,1451.89 995.086,244.432 \n",
       "  \"/>\n",
       "<polyline clip-path=\"url(#clip892)\" style=\"stroke:#000000; stroke-linecap:round; stroke-linejoin:round; stroke-width:2; stroke-opacity:0.1; fill:none\" points=\"\n",
       "  1277.49,1451.89 1277.49,244.432 \n",
       "  \"/>\n",
       "<polyline clip-path=\"url(#clip892)\" style=\"stroke:#000000; stroke-linecap:round; stroke-linejoin:round; stroke-width:2; stroke-opacity:0.1; fill:none\" points=\"\n",
       "  1559.9,1451.89 1559.9,244.432 \n",
       "  \"/>\n",
       "<polyline clip-path=\"url(#clip892)\" style=\"stroke:#000000; stroke-linecap:round; stroke-linejoin:round; stroke-width:2; stroke-opacity:0.1; fill:none\" points=\"\n",
       "  1842.3,1451.89 1842.3,244.432 \n",
       "  \"/>\n",
       "<polyline clip-path=\"url(#clip892)\" style=\"stroke:#000000; stroke-linecap:round; stroke-linejoin:round; stroke-width:2; stroke-opacity:0.1; fill:none\" points=\"\n",
       "  2124.71,1451.89 2124.71,244.432 \n",
       "  \"/>\n",
       "<polyline clip-path=\"url(#clip890)\" style=\"stroke:#000000; stroke-linecap:round; stroke-linejoin:round; stroke-width:4; stroke-opacity:1; fill:none\" points=\"\n",
       "  202.227,1451.89 2352.76,1451.89 \n",
       "  \"/>\n",
       "<polyline clip-path=\"url(#clip890)\" style=\"stroke:#000000; stroke-linecap:round; stroke-linejoin:round; stroke-width:4; stroke-opacity:1; fill:none\" points=\"\n",
       "  430.275,1451.89 430.275,1432.99 \n",
       "  \"/>\n",
       "<polyline clip-path=\"url(#clip890)\" style=\"stroke:#000000; stroke-linecap:round; stroke-linejoin:round; stroke-width:4; stroke-opacity:1; fill:none\" points=\"\n",
       "  712.681,1451.89 712.681,1432.99 \n",
       "  \"/>\n",
       "<polyline clip-path=\"url(#clip890)\" style=\"stroke:#000000; stroke-linecap:round; stroke-linejoin:round; stroke-width:4; stroke-opacity:1; fill:none\" points=\"\n",
       "  995.086,1451.89 995.086,1432.99 \n",
       "  \"/>\n",
       "<polyline clip-path=\"url(#clip890)\" style=\"stroke:#000000; stroke-linecap:round; stroke-linejoin:round; stroke-width:4; stroke-opacity:1; fill:none\" points=\"\n",
       "  1277.49,1451.89 1277.49,1432.99 \n",
       "  \"/>\n",
       "<polyline clip-path=\"url(#clip890)\" style=\"stroke:#000000; stroke-linecap:round; stroke-linejoin:round; stroke-width:4; stroke-opacity:1; fill:none\" points=\"\n",
       "  1559.9,1451.89 1559.9,1432.99 \n",
       "  \"/>\n",
       "<polyline clip-path=\"url(#clip890)\" style=\"stroke:#000000; stroke-linecap:round; stroke-linejoin:round; stroke-width:4; stroke-opacity:1; fill:none\" points=\"\n",
       "  1842.3,1451.89 1842.3,1432.99 \n",
       "  \"/>\n",
       "<polyline clip-path=\"url(#clip890)\" style=\"stroke:#000000; stroke-linecap:round; stroke-linejoin:round; stroke-width:4; stroke-opacity:1; fill:none\" points=\"\n",
       "  2124.71,1451.89 2124.71,1432.99 \n",
       "  \"/>\n",
       "<path clip-path=\"url(#clip890)\" d=\"M361.329 1484.33 L354.987 1501.53 L367.695 1501.53 L361.329 1484.33 M358.69 1479.73 L363.991 1479.73 L377.162 1514.29 L372.301 1514.29 L369.153 1505.42 L353.575 1505.42 L350.426 1514.29 L345.496 1514.29 L358.69 1479.73 Z\" fill=\"#000000\" fill-rule=\"evenodd\" fill-opacity=\"1\" /><path clip-path=\"url(#clip890)\" d=\"M397.046 1492.34 Q396.329 1491.93 395.472 1491.74 Q394.639 1491.53 393.621 1491.53 Q390.009 1491.53 388.065 1493.89 Q386.144 1496.23 386.144 1500.63 L386.144 1514.29 L381.861 1514.29 L381.861 1488.36 L386.144 1488.36 L386.144 1492.39 Q387.486 1490.03 389.639 1488.89 Q391.792 1487.74 394.871 1487.74 Q395.31 1487.74 395.843 1487.81 Q396.375 1487.85 397.023 1487.97 L397.046 1492.34 Z\" fill=\"#000000\" fill-rule=\"evenodd\" fill-opacity=\"1\" /><path clip-path=\"url(#clip890)\" d=\"M415.704 1492.34 Q414.986 1491.93 414.13 1491.74 Q413.296 1491.53 412.278 1491.53 Q408.667 1491.53 406.722 1493.89 Q404.801 1496.23 404.801 1500.63 L404.801 1514.29 L400.519 1514.29 L400.519 1488.36 L404.801 1488.36 L404.801 1492.39 Q406.144 1490.03 408.296 1488.89 Q410.449 1487.74 413.528 1487.74 Q413.968 1487.74 414.5 1487.81 Q415.033 1487.85 415.681 1487.97 L415.704 1492.34 Z\" fill=\"#000000\" fill-rule=\"evenodd\" fill-opacity=\"1\" /><path clip-path=\"url(#clip890)\" d=\"M429.176 1491.35 Q425.75 1491.35 423.759 1494.03 Q421.769 1496.7 421.769 1501.35 Q421.769 1506 423.736 1508.69 Q425.727 1511.35 429.176 1511.35 Q432.579 1511.35 434.569 1508.66 Q436.56 1505.98 436.56 1501.35 Q436.56 1496.74 434.569 1494.06 Q432.579 1491.35 429.176 1491.35 M429.176 1487.74 Q434.731 1487.74 437.903 1491.35 Q441.074 1494.96 441.074 1501.35 Q441.074 1507.71 437.903 1511.35 Q434.731 1514.96 429.176 1514.96 Q423.597 1514.96 420.426 1511.35 Q417.278 1507.71 417.278 1501.35 Q417.278 1494.96 420.426 1491.35 Q423.597 1487.74 429.176 1487.74 Z\" fill=\"#000000\" fill-rule=\"evenodd\" fill-opacity=\"1\" /><path clip-path=\"url(#clip890)\" d=\"M445.657 1488.36 L449.917 1488.36 L455.241 1508.59 L460.542 1488.36 L465.565 1488.36 L470.889 1508.59 L476.19 1488.36 L480.449 1488.36 L473.666 1514.29 L468.643 1514.29 L463.065 1493.04 L457.463 1514.29 L452.44 1514.29 L445.657 1488.36 Z\" fill=\"#000000\" fill-rule=\"evenodd\" fill-opacity=\"1\" /><path clip-path=\"url(#clip890)\" d=\"M483.157 1508.41 L488.041 1508.41 L488.041 1514.29 L483.157 1514.29 L483.157 1508.41 Z\" fill=\"#000000\" fill-rule=\"evenodd\" fill-opacity=\"1\" /><path clip-path=\"url(#clip890)\" d=\"M497.625 1488.36 L501.884 1488.36 L501.884 1514.75 Q501.884 1519.7 499.986 1521.93 Q498.111 1524.15 493.921 1524.15 L492.301 1524.15 L492.301 1520.54 L493.435 1520.54 Q495.865 1520.54 496.745 1519.4 Q497.625 1518.29 497.625 1514.75 L497.625 1488.36 M497.625 1478.27 L501.884 1478.27 L501.884 1483.66 L497.625 1483.66 L497.625 1478.27 Z\" fill=\"#000000\" fill-rule=\"evenodd\" fill-opacity=\"1\" /><path clip-path=\"url(#clip890)\" d=\"M510.796 1478.27 L515.055 1478.27 L515.055 1514.29 L510.796 1514.29 L510.796 1478.27 Z\" fill=\"#000000\" fill-rule=\"evenodd\" fill-opacity=\"1\" /><path clip-path=\"url(#clip890)\" d=\"M643.734 1484.33 L637.392 1501.53 L650.1 1501.53 L643.734 1484.33 M641.096 1479.73 L646.397 1479.73 L659.568 1514.29 L654.707 1514.29 L651.559 1505.42 L635.98 1505.42 L632.832 1514.29 L627.901 1514.29 L641.096 1479.73 Z\" fill=\"#000000\" fill-rule=\"evenodd\" fill-opacity=\"1\" /><path clip-path=\"url(#clip890)\" d=\"M679.452 1492.34 Q678.734 1491.93 677.878 1491.74 Q677.045 1491.53 676.026 1491.53 Q672.415 1491.53 670.47 1493.89 Q668.549 1496.23 668.549 1500.63 L668.549 1514.29 L664.267 1514.29 L664.267 1488.36 L668.549 1488.36 L668.549 1492.39 Q669.892 1490.03 672.045 1488.89 Q674.197 1487.74 677.276 1487.74 Q677.716 1487.74 678.248 1487.81 Q678.781 1487.85 679.429 1487.97 L679.452 1492.34 Z\" fill=\"#000000\" fill-rule=\"evenodd\" fill-opacity=\"1\" /><path clip-path=\"url(#clip890)\" d=\"M698.109 1492.34 Q697.392 1491.93 696.535 1491.74 Q695.702 1491.53 694.683 1491.53 Q691.072 1491.53 689.128 1493.89 Q687.206 1496.23 687.206 1500.63 L687.206 1514.29 L682.924 1514.29 L682.924 1488.36 L687.206 1488.36 L687.206 1492.39 Q688.549 1490.03 690.702 1488.89 Q692.855 1487.74 695.933 1487.74 Q696.373 1487.74 696.906 1487.81 Q697.438 1487.85 698.086 1487.97 L698.109 1492.34 Z\" fill=\"#000000\" fill-rule=\"evenodd\" fill-opacity=\"1\" /><path clip-path=\"url(#clip890)\" d=\"M711.581 1491.35 Q708.155 1491.35 706.165 1494.03 Q704.174 1496.7 704.174 1501.35 Q704.174 1506 706.142 1508.69 Q708.132 1511.35 711.581 1511.35 Q714.984 1511.35 716.975 1508.66 Q718.966 1505.98 718.966 1501.35 Q718.966 1496.74 716.975 1494.06 Q714.984 1491.35 711.581 1491.35 M711.581 1487.74 Q717.137 1487.74 720.308 1491.35 Q723.479 1494.96 723.479 1501.35 Q723.479 1507.71 720.308 1511.35 Q717.137 1514.96 711.581 1514.96 Q706.003 1514.96 702.831 1511.35 Q699.683 1507.71 699.683 1501.35 Q699.683 1494.96 702.831 1491.35 Q706.003 1487.74 711.581 1487.74 Z\" fill=\"#000000\" fill-rule=\"evenodd\" fill-opacity=\"1\" /><path clip-path=\"url(#clip890)\" d=\"M728.063 1488.36 L732.322 1488.36 L737.646 1508.59 L742.947 1488.36 L747.97 1488.36 L753.294 1508.59 L758.595 1488.36 L762.854 1488.36 L756.072 1514.29 L751.049 1514.29 L745.47 1493.04 L739.868 1514.29 L734.845 1514.29 L728.063 1488.36 Z\" fill=\"#000000\" fill-rule=\"evenodd\" fill-opacity=\"1\" /><path clip-path=\"url(#clip890)\" d=\"M765.563 1508.41 L770.447 1508.41 L770.447 1514.29 L765.563 1514.29 L765.563 1508.41 Z\" fill=\"#000000\" fill-rule=\"evenodd\" fill-opacity=\"1\" /><path clip-path=\"url(#clip890)\" d=\"M780.03 1488.36 L784.289 1488.36 L784.289 1514.75 Q784.289 1519.7 782.391 1521.93 Q780.516 1524.15 776.326 1524.15 L774.706 1524.15 L774.706 1520.54 L775.84 1520.54 Q778.271 1520.54 779.15 1519.4 Q780.03 1518.29 780.03 1514.75 L780.03 1488.36 M780.03 1478.27 L784.289 1478.27 L784.289 1483.66 L780.03 1483.66 L780.03 1478.27 Z\" fill=\"#000000\" fill-rule=\"evenodd\" fill-opacity=\"1\" /><path clip-path=\"url(#clip890)\" d=\"M793.201 1478.27 L797.461 1478.27 L797.461 1514.29 L793.201 1514.29 L793.201 1478.27 Z\" fill=\"#000000\" fill-rule=\"evenodd\" fill-opacity=\"1\" /><path clip-path=\"url(#clip890)\" d=\"M678.595 1541.2 L678.595 1545.18 Q676.79 1544.18 674.961 1543.7 Q673.156 1543.19 671.304 1543.19 Q667.16 1543.19 664.869 1545.83 Q662.577 1548.44 662.577 1553.19 Q662.577 1557.93 664.869 1560.57 Q667.16 1563.19 671.304 1563.19 Q673.156 1563.19 674.961 1562.7 Q676.79 1562.19 678.595 1561.2 L678.595 1565.13 Q676.813 1565.97 674.892 1566.38 Q672.994 1566.8 670.841 1566.8 Q664.984 1566.8 661.535 1563.12 Q658.086 1559.44 658.086 1553.19 Q658.086 1546.85 661.558 1543.21 Q665.054 1539.58 671.119 1539.58 Q673.086 1539.58 674.961 1539.99 Q676.836 1540.39 678.595 1541.2 Z\" fill=\"#000000\" fill-rule=\"evenodd\" fill-opacity=\"1\" /><path clip-path=\"url(#clip890)\" d=\"M696.049 1543.19 Q692.623 1543.19 690.632 1545.87 Q688.642 1548.54 688.642 1553.19 Q688.642 1557.84 690.609 1560.53 Q692.6 1563.19 696.049 1563.19 Q699.452 1563.19 701.443 1560.5 Q703.433 1557.82 703.433 1553.19 Q703.433 1548.58 701.443 1545.9 Q699.452 1543.19 696.049 1543.19 M696.049 1539.58 Q701.605 1539.58 704.776 1543.19 Q707.947 1546.8 707.947 1553.19 Q707.947 1559.55 704.776 1563.19 Q701.605 1566.8 696.049 1566.8 Q690.47 1566.8 687.299 1563.19 Q684.151 1559.55 684.151 1553.19 Q684.151 1546.8 687.299 1543.19 Q690.47 1539.58 696.049 1539.58 Z\" fill=\"#000000\" fill-rule=\"evenodd\" fill-opacity=\"1\" /><path clip-path=\"url(#clip890)\" d=\"M719.128 1562.24 L719.128 1575.99 L714.845 1575.99 L714.845 1540.2 L719.128 1540.2 L719.128 1544.14 Q720.47 1541.82 722.507 1540.71 Q724.567 1539.58 727.415 1539.58 Q732.137 1539.58 735.077 1543.33 Q738.04 1547.08 738.04 1553.19 Q738.04 1559.3 735.077 1563.05 Q732.137 1566.8 727.415 1566.8 Q724.567 1566.8 722.507 1565.69 Q720.47 1564.55 719.128 1562.24 M733.618 1553.19 Q733.618 1548.49 731.674 1545.83 Q729.753 1543.14 726.373 1543.14 Q722.993 1543.14 721.049 1545.83 Q719.128 1548.49 719.128 1553.19 Q719.128 1557.89 721.049 1560.57 Q722.993 1563.23 726.373 1563.23 Q729.753 1563.23 731.674 1560.57 Q733.618 1557.89 733.618 1553.19 Z\" fill=\"#000000\" fill-rule=\"evenodd\" fill-opacity=\"1\" /><path clip-path=\"url(#clip890)\" d=\"M755.887 1568.54 Q754.081 1573.16 752.368 1574.58 Q750.655 1575.99 747.785 1575.99 L744.382 1575.99 L744.382 1572.42 L746.882 1572.42 Q748.641 1572.42 749.614 1571.59 Q750.586 1570.76 751.766 1567.66 L752.53 1565.71 L742.044 1540.2 L746.558 1540.2 L754.66 1560.48 L762.762 1540.2 L767.275 1540.2 L755.887 1568.54 Z\" fill=\"#000000\" fill-rule=\"evenodd\" fill-opacity=\"1\" /><path clip-path=\"url(#clip890)\" d=\"M961.047 1482.39 L961.047 1487.32 Q958.686 1485.12 956.001 1484.03 Q953.339 1482.95 950.33 1482.95 Q944.404 1482.95 941.256 1486.58 Q938.107 1490.19 938.107 1497.04 Q938.107 1503.87 941.256 1507.51 Q944.404 1511.12 950.33 1511.12 Q953.339 1511.12 956.001 1510.03 Q958.686 1508.94 961.047 1506.74 L961.047 1511.63 Q958.593 1513.29 955.839 1514.13 Q953.107 1514.96 950.052 1514.96 Q942.205 1514.96 937.691 1510.17 Q933.177 1505.35 933.177 1497.04 Q933.177 1488.71 937.691 1483.92 Q942.205 1479.1 950.052 1479.1 Q953.154 1479.1 955.885 1479.94 Q958.64 1480.75 961.047 1482.39 Z\" fill=\"#000000\" fill-rule=\"evenodd\" fill-opacity=\"1\" /><path clip-path=\"url(#clip890)\" d=\"M988.987 1480.86 L988.987 1485.42 Q986.325 1484.15 983.964 1483.52 Q981.603 1482.9 979.404 1482.9 Q975.584 1482.9 973.501 1484.38 Q971.441 1485.86 971.441 1488.59 Q971.441 1490.89 972.806 1492.07 Q974.195 1493.22 978.038 1493.94 L980.862 1494.52 Q986.093 1495.51 988.57 1498.04 Q991.07 1500.54 991.07 1504.75 Q991.07 1509.77 987.69 1512.37 Q984.334 1514.96 977.829 1514.96 Q975.376 1514.96 972.598 1514.4 Q969.843 1513.85 966.88 1512.76 L966.88 1507.95 Q969.728 1509.54 972.459 1510.35 Q975.191 1511.16 977.829 1511.16 Q981.834 1511.16 984.01 1509.59 Q986.186 1508.01 986.186 1505.1 Q986.186 1502.55 984.612 1501.12 Q983.061 1499.68 979.496 1498.96 L976.649 1498.41 Q971.417 1497.37 969.079 1495.14 Q966.742 1492.92 966.742 1488.96 Q966.742 1484.38 969.959 1481.74 Q973.2 1479.1 978.871 1479.1 Q981.302 1479.1 983.825 1479.54 Q986.348 1479.98 988.987 1480.86 Z\" fill=\"#000000\" fill-rule=\"evenodd\" fill-opacity=\"1\" /><path clip-path=\"url(#clip890)\" d=\"M1007.27 1514.29 L994.079 1479.73 L998.964 1479.73 L1009.91 1508.82 L1020.88 1479.73 L1025.75 1479.73 L1012.57 1514.29 L1007.27 1514.29 Z\" fill=\"#000000\" fill-rule=\"evenodd\" fill-opacity=\"1\" /><path clip-path=\"url(#clip890)\" d=\"M1025.1 1508.41 L1029.98 1508.41 L1029.98 1514.29 L1025.1 1514.29 L1025.1 1508.41 Z\" fill=\"#000000\" fill-rule=\"evenodd\" fill-opacity=\"1\" /><path clip-path=\"url(#clip890)\" d=\"M1039.57 1488.36 L1043.82 1488.36 L1043.82 1514.75 Q1043.82 1519.7 1041.93 1521.93 Q1040.05 1524.15 1035.86 1524.15 L1034.24 1524.15 L1034.24 1520.54 L1035.38 1520.54 Q1037.81 1520.54 1038.69 1519.4 Q1039.57 1518.29 1039.57 1514.75 L1039.57 1488.36 M1039.57 1478.27 L1043.82 1478.27 L1043.82 1483.66 L1039.57 1483.66 L1039.57 1478.27 Z\" fill=\"#000000\" fill-rule=\"evenodd\" fill-opacity=\"1\" /><path clip-path=\"url(#clip890)\" d=\"M1052.74 1478.27 L1057 1478.27 L1057 1514.29 L1052.74 1514.29 L1052.74 1478.27 Z\" fill=\"#000000\" fill-rule=\"evenodd\" fill-opacity=\"1\" /><path clip-path=\"url(#clip890)\" d=\"M1229.82 1479.73 L1234.49 1479.73 L1234.49 1511.88 Q1234.49 1518.13 1232.11 1520.95 Q1229.75 1523.78 1224.49 1523.78 L1222.71 1523.78 L1222.71 1519.84 L1224.17 1519.84 Q1227.27 1519.84 1228.55 1518.11 Q1229.82 1516.37 1229.82 1511.88 L1229.82 1479.73 Z\" fill=\"#000000\" fill-rule=\"evenodd\" fill-opacity=\"1\" /><path clip-path=\"url(#clip890)\" d=\"M1248.48 1483.57 L1248.48 1510.45 L1254.12 1510.45 Q1261.28 1510.45 1264.59 1507.2 Q1267.92 1503.96 1267.92 1496.97 Q1267.92 1490.03 1264.59 1486.81 Q1261.28 1483.57 1254.12 1483.57 L1248.48 1483.57 M1243.8 1479.73 L1253.41 1479.73 Q1263.45 1479.73 1268.15 1483.92 Q1272.85 1488.08 1272.85 1496.97 Q1272.85 1505.91 1268.13 1510.1 Q1263.41 1514.29 1253.41 1514.29 L1243.8 1514.29 L1243.8 1479.73 Z\" fill=\"#000000\" fill-rule=\"evenodd\" fill-opacity=\"1\" /><path clip-path=\"url(#clip890)\" d=\"M1280.3 1479.73 L1300.17 1479.73 L1300.17 1483.66 L1284.98 1483.66 L1284.98 1493.85 L1298.68 1493.85 L1298.68 1497.78 L1284.98 1497.78 L1284.98 1514.29 L1280.3 1514.29 L1280.3 1479.73 Z\" fill=\"#000000\" fill-rule=\"evenodd\" fill-opacity=\"1\" /><path clip-path=\"url(#clip890)\" d=\"M1300.37 1508.41 L1305.26 1508.41 L1305.26 1514.29 L1300.37 1514.29 L1300.37 1508.41 Z\" fill=\"#000000\" fill-rule=\"evenodd\" fill-opacity=\"1\" /><path clip-path=\"url(#clip890)\" d=\"M1314.84 1488.36 L1319.1 1488.36 L1319.1 1514.75 Q1319.1 1519.7 1317.2 1521.93 Q1315.33 1524.15 1311.14 1524.15 L1309.52 1524.15 L1309.52 1520.54 L1310.65 1520.54 Q1313.08 1520.54 1313.96 1519.4 Q1314.84 1518.29 1314.84 1514.75 L1314.84 1488.36 M1314.84 1478.27 L1319.1 1478.27 L1319.1 1483.66 L1314.84 1483.66 L1314.84 1478.27 Z\" fill=\"#000000\" fill-rule=\"evenodd\" fill-opacity=\"1\" /><path clip-path=\"url(#clip890)\" d=\"M1328.01 1478.27 L1332.27 1478.27 L1332.27 1514.29 L1328.01 1514.29 L1328.01 1478.27 Z\" fill=\"#000000\" fill-rule=\"evenodd\" fill-opacity=\"1\" /><path clip-path=\"url(#clip890)\" d=\"M1494.35 1479.73 L1499.03 1479.73 L1499.03 1511.88 Q1499.03 1518.13 1496.65 1520.95 Q1494.28 1523.78 1489.03 1523.78 L1487.25 1523.78 L1487.25 1519.84 L1488.71 1519.84 Q1491.81 1519.84 1493.08 1518.11 Q1494.35 1516.37 1494.35 1511.88 L1494.35 1479.73 Z\" fill=\"#000000\" fill-rule=\"evenodd\" fill-opacity=\"1\" /><path clip-path=\"url(#clip890)\" d=\"M1508.33 1479.73 L1513.01 1479.73 L1513.01 1510.35 L1529.84 1510.35 L1529.84 1514.29 L1508.33 1514.29 L1508.33 1479.73 Z\" fill=\"#000000\" fill-rule=\"evenodd\" fill-opacity=\"1\" /><path clip-path=\"url(#clip890)\" d=\"M1555.46 1480.86 L1555.46 1485.42 Q1552.8 1484.15 1550.44 1483.52 Q1548.08 1482.9 1545.88 1482.9 Q1542.06 1482.9 1539.98 1484.38 Q1537.92 1485.86 1537.92 1488.59 Q1537.92 1490.89 1539.28 1492.07 Q1540.67 1493.22 1544.52 1493.94 L1547.34 1494.52 Q1552.57 1495.51 1555.05 1498.04 Q1557.55 1500.54 1557.55 1504.75 Q1557.55 1509.77 1554.17 1512.37 Q1550.81 1514.96 1544.31 1514.96 Q1541.85 1514.96 1539.08 1514.4 Q1536.32 1513.85 1533.36 1512.76 L1533.36 1507.95 Q1536.21 1509.54 1538.94 1510.35 Q1541.67 1511.16 1544.31 1511.16 Q1548.31 1511.16 1550.49 1509.59 Q1552.66 1508.01 1552.66 1505.1 Q1552.66 1502.55 1551.09 1501.12 Q1549.54 1499.68 1545.97 1498.96 L1543.13 1498.41 Q1537.89 1497.37 1535.56 1495.14 Q1533.22 1492.92 1533.22 1488.96 Q1533.22 1484.38 1536.44 1481.74 Q1539.68 1479.1 1545.35 1479.1 Q1547.78 1479.1 1550.3 1479.54 Q1552.83 1479.98 1555.46 1480.86 Z\" fill=\"#000000\" fill-rule=\"evenodd\" fill-opacity=\"1\" /><path clip-path=\"url(#clip890)\" d=\"M1578.87 1482.9 Q1573.77 1482.9 1570.77 1486.7 Q1567.78 1490.49 1567.78 1497.04 Q1567.78 1503.57 1570.77 1507.37 Q1573.77 1511.16 1578.87 1511.16 Q1583.96 1511.16 1586.92 1507.37 Q1589.91 1503.57 1589.91 1497.04 Q1589.91 1490.49 1586.92 1486.7 Q1583.96 1482.9 1578.87 1482.9 M1578.87 1479.1 Q1586.14 1479.1 1590.49 1483.99 Q1594.84 1488.85 1594.84 1497.04 Q1594.84 1505.21 1590.49 1510.1 Q1586.14 1514.96 1578.87 1514.96 Q1571.58 1514.96 1567.2 1510.1 Q1562.85 1505.24 1562.85 1497.04 Q1562.85 1488.85 1567.2 1483.99 Q1571.58 1479.1 1578.87 1479.1 Z\" fill=\"#000000\" fill-rule=\"evenodd\" fill-opacity=\"1\" /><path clip-path=\"url(#clip890)\" d=\"M1600.65 1508.41 L1605.53 1508.41 L1605.53 1514.29 L1600.65 1514.29 L1600.65 1508.41 Z\" fill=\"#000000\" fill-rule=\"evenodd\" fill-opacity=\"1\" /><path clip-path=\"url(#clip890)\" d=\"M1615.12 1488.36 L1619.38 1488.36 L1619.38 1514.75 Q1619.38 1519.7 1617.48 1521.93 Q1615.6 1524.15 1611.41 1524.15 L1609.79 1524.15 L1609.79 1520.54 L1610.93 1520.54 Q1613.36 1520.54 1614.24 1519.4 Q1615.12 1518.29 1615.12 1514.75 L1615.12 1488.36 M1615.12 1478.27 L1619.38 1478.27 L1619.38 1483.66 L1615.12 1483.66 L1615.12 1478.27 Z\" fill=\"#000000\" fill-rule=\"evenodd\" fill-opacity=\"1\" /><path clip-path=\"url(#clip890)\" d=\"M1628.29 1478.27 L1632.55 1478.27 L1632.55 1514.29 L1628.29 1514.29 L1628.29 1478.27 Z\" fill=\"#000000\" fill-rule=\"evenodd\" fill-opacity=\"1\" /><path clip-path=\"url(#clip890)\" d=\"M1792.08 1479.73 L1796.76 1479.73 L1796.76 1511.88 Q1796.76 1518.13 1794.37 1520.95 Q1792.01 1523.78 1786.76 1523.78 L1784.98 1523.78 L1784.98 1519.84 L1786.43 1519.84 Q1789.54 1519.84 1790.81 1518.11 Q1792.08 1516.37 1792.08 1511.88 L1792.08 1479.73 Z\" fill=\"#000000\" fill-rule=\"evenodd\" fill-opacity=\"1\" /><path clip-path=\"url(#clip890)\" d=\"M1826.78 1480.86 L1826.78 1485.42 Q1824.12 1484.15 1821.76 1483.52 Q1819.4 1482.9 1817.2 1482.9 Q1813.38 1482.9 1811.3 1484.38 Q1809.24 1485.86 1809.24 1488.59 Q1809.24 1490.89 1810.6 1492.07 Q1811.99 1493.22 1815.83 1493.94 L1818.66 1494.52 Q1823.89 1495.51 1826.37 1498.04 Q1828.87 1500.54 1828.87 1504.75 Q1828.87 1509.77 1825.49 1512.37 Q1822.13 1514.96 1815.62 1514.96 Q1813.17 1514.96 1810.39 1514.4 Q1807.64 1513.85 1804.68 1512.76 L1804.68 1507.95 Q1807.52 1509.54 1810.25 1510.35 Q1812.99 1511.16 1815.62 1511.16 Q1819.63 1511.16 1821.8 1509.59 Q1823.98 1508.01 1823.98 1505.1 Q1823.98 1502.55 1822.41 1501.12 Q1820.86 1499.68 1817.29 1498.96 L1814.44 1498.41 Q1809.21 1497.37 1806.87 1495.14 Q1804.54 1492.92 1804.54 1488.96 Q1804.54 1484.38 1807.75 1481.74 Q1810.99 1479.1 1816.67 1479.1 Q1819.1 1479.1 1821.62 1479.54 Q1824.14 1479.98 1826.78 1480.86 Z\" fill=\"#000000\" fill-rule=\"evenodd\" fill-opacity=\"1\" /><path clip-path=\"url(#clip890)\" d=\"M1850.18 1482.9 Q1845.09 1482.9 1842.08 1486.7 Q1839.1 1490.49 1839.1 1497.04 Q1839.1 1503.57 1842.08 1507.37 Q1845.09 1511.16 1850.18 1511.16 Q1855.28 1511.16 1858.24 1507.37 Q1861.23 1503.57 1861.23 1497.04 Q1861.23 1490.49 1858.24 1486.7 Q1855.28 1482.9 1850.18 1482.9 M1850.18 1479.1 Q1857.45 1479.1 1861.8 1483.99 Q1866.16 1488.85 1866.16 1497.04 Q1866.16 1505.21 1861.8 1510.1 Q1857.45 1514.96 1850.18 1514.96 Q1842.89 1514.96 1838.52 1510.1 Q1834.17 1505.24 1834.17 1497.04 Q1834.17 1488.85 1838.52 1483.99 Q1842.89 1479.1 1850.18 1479.1 Z\" fill=\"#000000\" fill-rule=\"evenodd\" fill-opacity=\"1\" /><path clip-path=\"url(#clip890)\" d=\"M1873.47 1479.73 L1879.77 1479.73 L1895.09 1508.64 L1895.09 1479.73 L1899.63 1479.73 L1899.63 1514.29 L1893.33 1514.29 L1878.01 1485.38 L1878.01 1514.29 L1873.47 1514.29 L1873.47 1479.73 Z\" fill=\"#000000\" fill-rule=\"evenodd\" fill-opacity=\"1\" /><path clip-path=\"url(#clip890)\" d=\"M1723.69 1543.19 Q1720.27 1543.19 1718.28 1545.87 Q1716.28 1548.54 1716.28 1553.19 Q1716.28 1557.84 1718.25 1560.53 Q1720.24 1563.19 1723.69 1563.19 Q1727.09 1563.19 1729.09 1560.5 Q1731.08 1557.82 1731.08 1553.19 Q1731.08 1548.58 1729.09 1545.9 Q1727.09 1543.19 1723.69 1543.19 M1723.69 1539.58 Q1729.25 1539.58 1732.42 1543.19 Q1735.59 1546.8 1735.59 1553.19 Q1735.59 1559.55 1732.42 1563.19 Q1729.25 1566.8 1723.69 1566.8 Q1718.11 1566.8 1714.94 1563.19 Q1711.79 1559.55 1711.79 1553.19 Q1711.79 1546.8 1714.94 1543.19 Q1718.11 1539.58 1723.69 1539.58 Z\" fill=\"#000000\" fill-rule=\"evenodd\" fill-opacity=\"1\" /><path clip-path=\"url(#clip890)\" d=\"M1761.26 1553.19 Q1761.26 1548.49 1759.32 1545.83 Q1757.4 1543.14 1754.02 1543.14 Q1750.64 1543.14 1748.69 1545.83 Q1746.77 1548.49 1746.77 1553.19 Q1746.77 1557.89 1748.69 1560.57 Q1750.64 1563.23 1754.02 1563.23 Q1757.4 1563.23 1759.32 1560.57 Q1761.26 1557.89 1761.26 1553.19 M1746.77 1544.14 Q1748.11 1541.82 1750.15 1540.71 Q1752.21 1539.58 1755.06 1539.58 Q1759.78 1539.58 1762.72 1543.33 Q1765.68 1547.08 1765.68 1553.19 Q1765.68 1559.3 1762.72 1563.05 Q1759.78 1566.8 1755.06 1566.8 Q1752.21 1566.8 1750.15 1565.69 Q1748.11 1564.55 1746.77 1562.24 L1746.77 1566.13 L1742.49 1566.13 L1742.49 1530.11 L1746.77 1530.11 L1746.77 1544.14 Z\" fill=\"#000000\" fill-rule=\"evenodd\" fill-opacity=\"1\" /><path clip-path=\"url(#clip890)\" d=\"M1772.74 1540.2 L1777 1540.2 L1777 1566.59 Q1777 1571.54 1775.1 1573.77 Q1773.23 1575.99 1769.04 1575.99 L1767.42 1575.99 L1767.42 1572.38 L1768.55 1572.38 Q1770.98 1572.38 1771.86 1571.24 Q1772.74 1570.13 1772.74 1566.59 L1772.74 1540.2 M1772.74 1530.11 L1777 1530.11 L1777 1535.5 L1772.74 1535.5 L1772.74 1530.11 Z\" fill=\"#000000\" fill-rule=\"evenodd\" fill-opacity=\"1\" /><path clip-path=\"url(#clip890)\" d=\"M1808.09 1552.1 L1808.09 1554.18 L1788.51 1554.18 Q1788.78 1558.58 1791.15 1560.9 Q1793.53 1563.19 1797.77 1563.19 Q1800.22 1563.19 1802.51 1562.59 Q1804.83 1561.98 1807.09 1560.78 L1807.09 1564.81 Q1804.8 1565.78 1802.4 1566.29 Q1799.99 1566.8 1797.51 1566.8 Q1791.31 1566.8 1787.67 1563.19 Q1784.06 1559.58 1784.06 1553.42 Q1784.06 1547.05 1787.49 1543.33 Q1790.94 1539.58 1796.77 1539.58 Q1802 1539.58 1805.03 1542.96 Q1808.09 1546.31 1808.09 1552.1 M1803.83 1550.85 Q1803.78 1547.35 1801.86 1545.27 Q1799.96 1543.19 1796.82 1543.19 Q1793.25 1543.19 1791.1 1545.2 Q1788.97 1547.22 1788.65 1550.87 L1803.83 1550.85 Z\" fill=\"#000000\" fill-rule=\"evenodd\" fill-opacity=\"1\" /><path clip-path=\"url(#clip890)\" d=\"M1833.74 1541.2 L1833.74 1545.18 Q1831.93 1544.18 1830.1 1543.7 Q1828.3 1543.19 1826.45 1543.19 Q1822.3 1543.19 1820.01 1545.83 Q1817.72 1548.44 1817.72 1553.19 Q1817.72 1557.93 1820.01 1560.57 Q1822.3 1563.19 1826.45 1563.19 Q1828.3 1563.19 1830.1 1562.7 Q1831.93 1562.19 1833.74 1561.2 L1833.74 1565.13 Q1831.96 1565.97 1830.03 1566.38 Q1828.14 1566.8 1825.98 1566.8 Q1820.13 1566.8 1816.68 1563.12 Q1813.23 1559.44 1813.23 1553.19 Q1813.23 1546.85 1816.7 1543.21 Q1820.2 1539.58 1826.26 1539.58 Q1828.23 1539.58 1830.1 1539.99 Q1831.98 1540.39 1833.74 1541.2 Z\" fill=\"#000000\" fill-rule=\"evenodd\" fill-opacity=\"1\" /><path clip-path=\"url(#clip890)\" d=\"M1845.36 1532.84 L1845.36 1540.2 L1854.13 1540.2 L1854.13 1543.51 L1845.36 1543.51 L1845.36 1557.59 Q1845.36 1560.76 1846.21 1561.66 Q1847.09 1562.56 1849.76 1562.56 L1854.13 1562.56 L1854.13 1566.13 L1849.76 1566.13 Q1844.83 1566.13 1842.95 1564.3 Q1841.08 1562.45 1841.08 1557.59 L1841.08 1543.51 L1837.95 1543.51 L1837.95 1540.2 L1841.08 1540.2 L1841.08 1532.84 L1845.36 1532.84 Z\" fill=\"#000000\" fill-rule=\"evenodd\" fill-opacity=\"1\" /><path clip-path=\"url(#clip890)\" d=\"M1863.95 1532.84 L1863.95 1540.2 L1872.72 1540.2 L1872.72 1543.51 L1863.95 1543.51 L1863.95 1557.59 Q1863.95 1560.76 1864.8 1561.66 Q1865.68 1562.56 1868.34 1562.56 L1872.72 1562.56 L1872.72 1566.13 L1868.34 1566.13 Q1863.41 1566.13 1861.54 1564.3 Q1859.66 1562.45 1859.66 1557.59 L1859.66 1543.51 L1856.54 1543.51 L1856.54 1540.2 L1859.66 1540.2 L1859.66 1532.84 L1863.95 1532.84 Z\" fill=\"#000000\" fill-rule=\"evenodd\" fill-opacity=\"1\" /><path clip-path=\"url(#clip890)\" d=\"M1890.1 1553.1 Q1884.94 1553.1 1882.95 1554.28 Q1880.96 1555.46 1880.96 1558.3 Q1880.96 1560.57 1882.44 1561.91 Q1883.95 1563.23 1886.52 1563.23 Q1890.06 1563.23 1892.19 1560.73 Q1894.34 1558.21 1894.34 1554.04 L1894.34 1553.1 L1890.1 1553.1 M1898.6 1551.34 L1898.6 1566.13 L1894.34 1566.13 L1894.34 1562.19 Q1892.88 1564.55 1890.71 1565.69 Q1888.53 1566.8 1885.38 1566.8 Q1881.4 1566.8 1879.04 1564.58 Q1876.7 1562.33 1876.7 1558.58 Q1876.7 1554.21 1879.62 1551.98 Q1882.56 1549.76 1888.37 1549.76 L1894.34 1549.76 L1894.34 1549.35 Q1894.34 1546.41 1892.39 1544.81 Q1890.47 1543.19 1886.98 1543.19 Q1884.76 1543.19 1882.65 1543.72 Q1880.54 1544.25 1878.6 1545.32 L1878.6 1541.38 Q1880.94 1540.48 1883.14 1540.04 Q1885.33 1539.58 1887.42 1539.58 Q1893.04 1539.58 1895.82 1542.49 Q1898.6 1545.41 1898.6 1551.34 Z\" fill=\"#000000\" fill-rule=\"evenodd\" fill-opacity=\"1\" /><path clip-path=\"url(#clip890)\" d=\"M1925.98 1553.19 Q1925.98 1548.49 1924.04 1545.83 Q1922.12 1543.14 1918.74 1543.14 Q1915.36 1543.14 1913.41 1545.83 Q1911.49 1548.49 1911.49 1553.19 Q1911.49 1557.89 1913.41 1560.57 Q1915.36 1563.23 1918.74 1563.23 Q1922.12 1563.23 1924.04 1560.57 Q1925.98 1557.89 1925.98 1553.19 M1911.49 1544.14 Q1912.83 1541.82 1914.87 1540.71 Q1916.93 1539.58 1919.78 1539.58 Q1924.5 1539.58 1927.44 1543.33 Q1930.4 1547.08 1930.4 1553.19 Q1930.4 1559.3 1927.44 1563.05 Q1924.5 1566.8 1919.78 1566.8 Q1916.93 1566.8 1914.87 1565.69 Q1912.83 1564.55 1911.49 1562.24 L1911.49 1566.13 L1907.21 1566.13 L1907.21 1530.11 L1911.49 1530.11 L1911.49 1544.14 Z\" fill=\"#000000\" fill-rule=\"evenodd\" fill-opacity=\"1\" /><path clip-path=\"url(#clip890)\" d=\"M1937.46 1530.11 L1941.72 1530.11 L1941.72 1566.13 L1937.46 1566.13 L1937.46 1530.11 Z\" fill=\"#000000\" fill-rule=\"evenodd\" fill-opacity=\"1\" /><path clip-path=\"url(#clip890)\" d=\"M1972.81 1552.1 L1972.81 1554.18 L1953.23 1554.18 Q1953.51 1558.58 1955.87 1560.9 Q1958.25 1563.19 1962.49 1563.19 Q1964.94 1563.19 1967.23 1562.59 Q1969.55 1561.98 1971.82 1560.78 L1971.82 1564.81 Q1969.52 1565.78 1967.12 1566.29 Q1964.71 1566.8 1962.23 1566.8 Q1956.03 1566.8 1952.39 1563.19 Q1948.78 1559.58 1948.78 1553.42 Q1948.78 1547.05 1952.21 1543.33 Q1955.66 1539.58 1961.49 1539.58 Q1966.72 1539.58 1969.76 1542.96 Q1972.81 1546.31 1972.81 1552.1 M1968.55 1550.85 Q1968.51 1547.35 1966.58 1545.27 Q1964.69 1543.19 1961.54 1543.19 Q1957.97 1543.19 1955.82 1545.2 Q1953.69 1547.22 1953.37 1550.87 L1968.55 1550.85 Z\" fill=\"#000000\" fill-rule=\"evenodd\" fill-opacity=\"1\" /><path clip-path=\"url(#clip890)\" d=\"M2004.5 1480.86 L2004.5 1485.42 Q2001.84 1484.15 1999.48 1483.52 Q1997.12 1482.9 1994.92 1482.9 Q1991.1 1482.9 1989.01 1484.38 Q1986.95 1485.86 1986.95 1488.59 Q1986.95 1490.89 1988.32 1492.07 Q1989.71 1493.22 1993.55 1493.94 L1996.38 1494.52 Q2001.61 1495.51 2004.08 1498.04 Q2006.58 1500.54 2006.58 1504.75 Q2006.58 1509.77 2003.2 1512.37 Q1999.85 1514.96 1993.34 1514.96 Q1990.89 1514.96 1988.11 1514.4 Q1985.36 1513.85 1982.39 1512.76 L1982.39 1507.95 Q1985.24 1509.54 1987.97 1510.35 Q1990.7 1511.16 1993.34 1511.16 Q1997.35 1511.16 1999.52 1509.59 Q2001.7 1508.01 2001.7 1505.1 Q2001.7 1502.55 2000.13 1501.12 Q1998.57 1499.68 1995.01 1498.96 L1992.16 1498.41 Q1986.93 1497.37 1984.59 1495.14 Q1982.25 1492.92 1982.25 1488.96 Q1982.25 1484.38 1985.47 1481.74 Q1988.71 1479.1 1994.38 1479.1 Q1996.82 1479.1 1999.34 1479.54 Q2001.86 1479.98 2004.5 1480.86 Z\" fill=\"#000000\" fill-rule=\"evenodd\" fill-opacity=\"1\" /><path clip-path=\"url(#clip890)\" d=\"M2035.87 1500.26 L2035.87 1502.34 L2016.28 1502.34 Q2016.56 1506.74 2018.92 1509.06 Q2021.31 1511.35 2025.54 1511.35 Q2028 1511.35 2030.29 1510.75 Q2032.6 1510.14 2034.87 1508.94 L2034.87 1512.97 Q2032.58 1513.94 2030.17 1514.45 Q2027.76 1514.96 2025.29 1514.96 Q2019.08 1514.96 2015.45 1511.35 Q2011.84 1507.74 2011.84 1501.58 Q2011.84 1495.21 2015.26 1491.49 Q2018.71 1487.74 2024.55 1487.74 Q2029.78 1487.74 2032.81 1491.12 Q2035.87 1494.47 2035.87 1500.26 M2031.61 1499.01 Q2031.56 1495.51 2029.64 1493.43 Q2027.74 1491.35 2024.59 1491.35 Q2021.03 1491.35 2018.88 1493.36 Q2016.75 1495.38 2016.42 1499.03 L2031.61 1499.01 Z\" fill=\"#000000\" fill-rule=\"evenodd\" fill-opacity=\"1\" /><path clip-path=\"url(#clip890)\" d=\"M2057.88 1492.34 Q2057.16 1491.93 2056.31 1491.74 Q2055.47 1491.53 2054.45 1491.53 Q2050.84 1491.53 2048.9 1493.89 Q2046.98 1496.23 2046.98 1500.63 L2046.98 1514.29 L2042.69 1514.29 L2042.69 1488.36 L2046.98 1488.36 L2046.98 1492.39 Q2048.32 1490.03 2050.47 1488.89 Q2052.62 1487.74 2055.7 1487.74 Q2056.14 1487.74 2056.68 1487.81 Q2057.21 1487.85 2057.86 1487.97 L2057.88 1492.34 Z\" fill=\"#000000\" fill-rule=\"evenodd\" fill-opacity=\"1\" /><path clip-path=\"url(#clip890)\" d=\"M2062.35 1488.36 L2066.61 1488.36 L2066.61 1514.29 L2062.35 1514.29 L2062.35 1488.36 M2062.35 1478.27 L2066.61 1478.27 L2066.61 1483.66 L2062.35 1483.66 L2062.35 1478.27 Z\" fill=\"#000000\" fill-rule=\"evenodd\" fill-opacity=\"1\" /><path clip-path=\"url(#clip890)\" d=\"M2087.3 1501.26 Q2082.14 1501.26 2080.15 1502.44 Q2078.16 1503.62 2078.16 1506.46 Q2078.16 1508.73 2079.64 1510.07 Q2081.14 1511.39 2083.71 1511.39 Q2087.25 1511.39 2089.38 1508.89 Q2091.54 1506.37 2091.54 1502.2 L2091.54 1501.26 L2087.3 1501.26 M2095.8 1499.5 L2095.8 1514.29 L2091.54 1514.29 L2091.54 1510.35 Q2090.08 1512.71 2087.9 1513.85 Q2085.73 1514.96 2082.58 1514.96 Q2078.6 1514.96 2076.24 1512.74 Q2073.9 1510.49 2073.9 1506.74 Q2073.9 1502.37 2076.81 1500.14 Q2079.75 1497.92 2085.56 1497.92 L2091.54 1497.92 L2091.54 1497.51 Q2091.54 1494.57 2089.59 1492.97 Q2087.67 1491.35 2084.18 1491.35 Q2081.95 1491.35 2079.85 1491.88 Q2077.74 1492.41 2075.8 1493.48 L2075.8 1489.54 Q2078.13 1488.64 2080.33 1488.2 Q2082.53 1487.74 2084.62 1487.74 Q2090.24 1487.74 2093.02 1490.65 Q2095.8 1493.57 2095.8 1499.5 Z\" fill=\"#000000\" fill-rule=\"evenodd\" fill-opacity=\"1\" /><path clip-path=\"url(#clip890)\" d=\"M2104.57 1478.27 L2108.83 1478.27 L2108.83 1514.29 L2104.57 1514.29 L2104.57 1478.27 Z\" fill=\"#000000\" fill-rule=\"evenodd\" fill-opacity=\"1\" /><path clip-path=\"url(#clip890)\" d=\"M2117.74 1488.36 L2122 1488.36 L2122 1514.29 L2117.74 1514.29 L2117.74 1488.36 M2117.74 1478.27 L2122 1478.27 L2122 1483.66 L2117.74 1483.66 L2117.74 1478.27 Z\" fill=\"#000000\" fill-rule=\"evenodd\" fill-opacity=\"1\" /><path clip-path=\"url(#clip890)\" d=\"M2129.06 1488.36 L2149.29 1488.36 L2149.29 1492.25 L2133.27 1510.89 L2149.29 1510.89 L2149.29 1514.29 L2128.48 1514.29 L2128.48 1510.4 L2144.5 1491.76 L2129.06 1491.76 L2129.06 1488.36 Z\" fill=\"#000000\" fill-rule=\"evenodd\" fill-opacity=\"1\" /><path clip-path=\"url(#clip890)\" d=\"M2167.58 1501.26 Q2162.42 1501.26 2160.43 1502.44 Q2158.43 1503.62 2158.43 1506.46 Q2158.43 1508.73 2159.92 1510.07 Q2161.42 1511.39 2163.99 1511.39 Q2167.53 1511.39 2169.66 1508.89 Q2171.81 1506.37 2171.81 1502.2 L2171.81 1501.26 L2167.58 1501.26 M2176.07 1499.5 L2176.07 1514.29 L2171.81 1514.29 L2171.81 1510.35 Q2170.36 1512.71 2168.18 1513.85 Q2166 1514.96 2162.86 1514.96 Q2158.87 1514.96 2156.51 1512.74 Q2154.18 1510.49 2154.18 1506.74 Q2154.18 1502.37 2157.09 1500.14 Q2160.03 1497.92 2165.84 1497.92 L2171.81 1497.92 L2171.81 1497.51 Q2171.81 1494.57 2169.87 1492.97 Q2167.95 1491.35 2164.45 1491.35 Q2162.23 1491.35 2160.12 1491.88 Q2158.02 1492.41 2156.07 1493.48 L2156.07 1489.54 Q2158.41 1488.64 2160.61 1488.2 Q2162.81 1487.74 2164.89 1487.74 Q2170.52 1487.74 2173.3 1490.65 Q2176.07 1493.57 2176.07 1499.5 Z\" fill=\"#000000\" fill-rule=\"evenodd\" fill-opacity=\"1\" /><path clip-path=\"url(#clip890)\" d=\"M2189.06 1481 L2189.06 1488.36 L2197.83 1488.36 L2197.83 1491.67 L2189.06 1491.67 L2189.06 1505.75 Q2189.06 1508.92 2189.92 1509.82 Q2190.8 1510.72 2193.46 1510.72 L2197.83 1510.72 L2197.83 1514.29 L2193.46 1514.29 Q2188.53 1514.29 2186.65 1512.46 Q2184.78 1510.61 2184.78 1505.75 L2184.78 1491.67 L2181.65 1491.67 L2181.65 1488.36 L2184.78 1488.36 L2184.78 1481 L2189.06 1481 Z\" fill=\"#000000\" fill-rule=\"evenodd\" fill-opacity=\"1\" /><path clip-path=\"url(#clip890)\" d=\"M2203.43 1488.36 L2207.69 1488.36 L2207.69 1514.29 L2203.43 1514.29 L2203.43 1488.36 M2203.43 1478.27 L2207.69 1478.27 L2207.69 1483.66 L2203.43 1483.66 L2203.43 1478.27 Z\" fill=\"#000000\" fill-rule=\"evenodd\" fill-opacity=\"1\" /><path clip-path=\"url(#clip890)\" d=\"M2226.65 1491.35 Q2223.23 1491.35 2221.24 1494.03 Q2219.24 1496.7 2219.24 1501.35 Q2219.24 1506 2221.21 1508.69 Q2223.2 1511.35 2226.65 1511.35 Q2230.05 1511.35 2232.05 1508.66 Q2234.04 1505.98 2234.04 1501.35 Q2234.04 1496.74 2232.05 1494.06 Q2230.05 1491.35 2226.65 1491.35 M2226.65 1487.74 Q2232.21 1487.74 2235.38 1491.35 Q2238.55 1494.96 2238.55 1501.35 Q2238.55 1507.71 2235.38 1511.35 Q2232.21 1514.96 2226.65 1514.96 Q2221.07 1514.96 2217.9 1511.35 Q2214.75 1507.71 2214.75 1501.35 Q2214.75 1494.96 2217.9 1491.35 Q2221.07 1487.74 2226.65 1487.74 Z\" fill=\"#000000\" fill-rule=\"evenodd\" fill-opacity=\"1\" /><path clip-path=\"url(#clip890)\" d=\"M2267.16 1498.64 L2267.16 1514.29 L2262.9 1514.29 L2262.9 1498.78 Q2262.9 1495.1 2261.47 1493.27 Q2260.03 1491.44 2257.16 1491.44 Q2253.71 1491.44 2251.72 1493.64 Q2249.73 1495.84 2249.73 1499.64 L2249.73 1514.29 L2245.45 1514.29 L2245.45 1488.36 L2249.73 1488.36 L2249.73 1492.39 Q2251.26 1490.05 2253.32 1488.89 Q2255.4 1487.74 2258.11 1487.74 Q2262.58 1487.74 2264.87 1490.51 Q2267.16 1493.27 2267.16 1498.64 Z\" fill=\"#000000\" fill-rule=\"evenodd\" fill-opacity=\"1\" /><polyline clip-path=\"url(#clip892)\" style=\"stroke:#000000; stroke-linecap:round; stroke-linejoin:round; stroke-width:2; stroke-opacity:0.1; fill:none\" points=\"\n",
       "  202.227,1417.71 2352.76,1417.71 \n",
       "  \"/>\n",
       "<polyline clip-path=\"url(#clip892)\" style=\"stroke:#000000; stroke-linecap:round; stroke-linejoin:round; stroke-width:2; stroke-opacity:0.1; fill:none\" points=\"\n",
       "  202.227,1058.73 2352.76,1058.73 \n",
       "  \"/>\n",
       "<polyline clip-path=\"url(#clip892)\" style=\"stroke:#000000; stroke-linecap:round; stroke-linejoin:round; stroke-width:2; stroke-opacity:0.1; fill:none\" points=\"\n",
       "  202.227,699.746 2352.76,699.746 \n",
       "  \"/>\n",
       "<polyline clip-path=\"url(#clip892)\" style=\"stroke:#000000; stroke-linecap:round; stroke-linejoin:round; stroke-width:2; stroke-opacity:0.1; fill:none\" points=\"\n",
       "  202.227,340.762 2352.76,340.762 \n",
       "  \"/>\n",
       "<polyline clip-path=\"url(#clip890)\" style=\"stroke:#000000; stroke-linecap:round; stroke-linejoin:round; stroke-width:4; stroke-opacity:1; fill:none\" points=\"\n",
       "  202.227,1451.89 202.227,244.432 \n",
       "  \"/>\n",
       "<polyline clip-path=\"url(#clip890)\" style=\"stroke:#000000; stroke-linecap:round; stroke-linejoin:round; stroke-width:4; stroke-opacity:1; fill:none\" points=\"\n",
       "  202.227,1417.71 221.125,1417.71 \n",
       "  \"/>\n",
       "<polyline clip-path=\"url(#clip890)\" style=\"stroke:#000000; stroke-linecap:round; stroke-linejoin:round; stroke-width:4; stroke-opacity:1; fill:none\" points=\"\n",
       "  202.227,1058.73 221.125,1058.73 \n",
       "  \"/>\n",
       "<polyline clip-path=\"url(#clip890)\" style=\"stroke:#000000; stroke-linecap:round; stroke-linejoin:round; stroke-width:4; stroke-opacity:1; fill:none\" points=\"\n",
       "  202.227,699.746 221.125,699.746 \n",
       "  \"/>\n",
       "<polyline clip-path=\"url(#clip890)\" style=\"stroke:#000000; stroke-linecap:round; stroke-linejoin:round; stroke-width:4; stroke-opacity:1; fill:none\" points=\"\n",
       "  202.227,340.762 221.125,340.762 \n",
       "  \"/>\n",
       "<path clip-path=\"url(#clip890)\" d=\"M154.283 1403.51 Q150.672 1403.51 148.843 1407.08 Q147.038 1410.62 147.038 1417.75 Q147.038 1424.86 148.843 1428.42 Q150.672 1431.96 154.283 1431.96 Q157.917 1431.96 159.723 1428.42 Q161.552 1424.86 161.552 1417.75 Q161.552 1410.62 159.723 1407.08 Q157.917 1403.51 154.283 1403.51 M154.283 1399.81 Q160.093 1399.81 163.149 1404.42 Q166.227 1409 166.227 1417.75 Q166.227 1426.48 163.149 1431.08 Q160.093 1435.67 154.283 1435.67 Q148.473 1435.67 145.394 1431.08 Q142.339 1426.48 142.339 1417.75 Q142.339 1409 145.394 1404.42 Q148.473 1399.81 154.283 1399.81 Z\" fill=\"#000000\" fill-rule=\"evenodd\" fill-opacity=\"1\" /><path clip-path=\"url(#clip890)\" d=\"M145.325 1041.45 L163.681 1041.45 L163.681 1045.39 L149.607 1045.39 L149.607 1053.86 Q150.626 1053.51 151.644 1053.35 Q152.663 1053.16 153.681 1053.16 Q159.468 1053.16 162.848 1056.33 Q166.227 1059.51 166.227 1064.92 Q166.227 1070.5 162.755 1073.6 Q159.283 1076.68 152.964 1076.68 Q150.788 1076.68 148.519 1076.31 Q146.274 1075.94 143.866 1075.2 L143.866 1070.5 Q145.95 1071.64 148.172 1072.19 Q150.394 1072.75 152.871 1072.75 Q156.876 1072.75 159.214 1070.64 Q161.552 1068.53 161.552 1064.92 Q161.552 1061.31 159.214 1059.2 Q156.876 1057.1 152.871 1057.1 Q150.996 1057.1 149.121 1057.52 Q147.269 1057.93 145.325 1058.81 L145.325 1041.45 Z\" fill=\"#000000\" fill-rule=\"evenodd\" fill-opacity=\"1\" /><path clip-path=\"url(#clip890)\" d=\"M114.931 713.091 L122.57 713.091 L122.57 686.725 L114.26 688.392 L114.26 684.133 L122.524 682.466 L127.2 682.466 L127.2 713.091 L134.839 713.091 L134.839 717.026 L114.931 717.026 L114.931 713.091 Z\" fill=\"#000000\" fill-rule=\"evenodd\" fill-opacity=\"1\" /><path clip-path=\"url(#clip890)\" d=\"M154.283 685.545 Q150.672 685.545 148.843 689.11 Q147.038 692.651 147.038 699.781 Q147.038 706.887 148.843 710.452 Q150.672 713.994 154.283 713.994 Q157.917 713.994 159.723 710.452 Q161.552 706.887 161.552 699.781 Q161.552 692.651 159.723 689.11 Q157.917 685.545 154.283 685.545 M154.283 681.841 Q160.093 681.841 163.149 686.448 Q166.227 691.031 166.227 699.781 Q166.227 708.508 163.149 713.114 Q160.093 717.697 154.283 717.697 Q148.473 717.697 145.394 713.114 Q142.339 708.508 142.339 699.781 Q142.339 691.031 145.394 686.448 Q148.473 681.841 154.283 681.841 Z\" fill=\"#000000\" fill-rule=\"evenodd\" fill-opacity=\"1\" /><path clip-path=\"url(#clip890)\" d=\"M115.927 354.107 L123.566 354.107 L123.566 327.741 L115.256 329.408 L115.256 325.149 L123.519 323.482 L128.195 323.482 L128.195 354.107 L135.834 354.107 L135.834 358.042 L115.927 358.042 L115.927 354.107 Z\" fill=\"#000000\" fill-rule=\"evenodd\" fill-opacity=\"1\" /><path clip-path=\"url(#clip890)\" d=\"M145.325 323.482 L163.681 323.482 L163.681 327.417 L149.607 327.417 L149.607 335.889 Q150.626 335.542 151.644 335.38 Q152.663 335.195 153.681 335.195 Q159.468 335.195 162.848 338.366 Q166.227 341.537 166.227 346.954 Q166.227 352.533 162.755 355.635 Q159.283 358.713 152.964 358.713 Q150.788 358.713 148.519 358.343 Q146.274 357.972 143.866 357.232 L143.866 352.533 Q145.95 353.667 148.172 354.223 Q150.394 354.778 152.871 354.778 Q156.876 354.778 159.214 352.672 Q161.552 350.565 161.552 346.954 Q161.552 343.343 159.214 341.236 Q156.876 339.13 152.871 339.13 Q150.996 339.13 149.121 339.547 Q147.269 339.963 145.325 340.843 L145.325 323.482 Z\" fill=\"#000000\" fill-rule=\"evenodd\" fill-opacity=\"1\" /><path clip-path=\"url(#clip890)\" d=\"M18.0438 932.41 L24.314 932.41 Q22.5634 936.07 21.704 939.317 Q20.8447 942.563 20.8447 945.587 Q20.8447 950.839 22.8817 953.703 Q24.9187 956.536 28.6745 956.536 Q31.8255 956.536 33.4488 954.658 Q35.0402 952.749 36.0269 947.465 L36.8226 943.582 Q38.1912 936.389 41.6605 932.983 Q45.098 929.546 50.8908 929.546 Q57.7976 929.546 61.3624 934.193 Q64.9272 938.808 64.9272 947.751 Q64.9272 951.125 64.1633 954.945 Q63.3994 958.732 61.9035 962.806 L55.2831 962.806 Q57.4793 958.891 58.5933 955.136 Q59.7073 951.38 59.7073 947.751 Q59.7073 942.245 57.543 939.253 Q55.3786 936.261 51.3682 936.261 Q47.8671 936.261 45.8937 938.426 Q43.9204 940.558 42.9337 945.46 L42.1698 949.375 Q40.7375 956.568 37.682 959.783 Q34.6264 962.997 29.1837 962.997 Q22.8817 962.997 19.2532 958.573 Q15.6248 954.117 15.6248 946.319 Q15.6248 942.977 16.2295 939.508 Q16.8343 936.039 18.0438 932.41 Z\" fill=\"#000000\" fill-rule=\"evenodd\" fill-opacity=\"1\" /><path clip-path=\"url(#clip890)\" d=\"M44.7161 889.282 L47.5806 889.282 L47.5806 916.209 Q53.6281 915.827 56.8109 912.581 Q59.9619 909.303 59.9619 903.478 Q59.9619 900.104 59.1344 896.953 Q58.3069 893.77 56.6518 890.651 L62.1899 890.651 Q63.5267 893.802 64.227 897.112 Q64.9272 900.422 64.9272 903.828 Q64.9272 912.358 59.9619 917.355 Q54.9967 922.32 46.5303 922.32 Q37.7774 922.32 32.6531 917.61 Q27.4968 912.867 27.4968 904.847 Q27.4968 897.653 32.1438 893.484 Q36.7589 889.282 44.7161 889.282 M42.9973 895.139 Q38.1912 895.203 35.3266 897.844 Q32.4621 900.454 32.4621 904.783 Q32.4621 909.685 35.2312 912.645 Q38.0002 915.573 43.0292 916.018 L42.9973 895.139 Z\" fill=\"#000000\" fill-rule=\"evenodd\" fill-opacity=\"1\" /><path clip-path=\"url(#clip890)\" d=\"M29.7248 854.016 L35.1993 854.016 Q33.8307 856.499 33.1623 859.014 Q32.4621 861.496 32.4621 864.042 Q32.4621 869.74 36.0905 872.891 Q39.6872 876.042 46.212 876.042 Q52.7369 876.042 56.3653 872.891 Q59.9619 869.74 59.9619 864.042 Q59.9619 861.496 59.2935 859.014 Q58.5933 856.499 57.2247 854.016 L62.6355 854.016 Q63.7814 856.467 64.3543 859.109 Q64.9272 861.719 64.9272 864.679 Q64.9272 872.732 59.8664 877.474 Q54.8057 882.217 46.212 882.217 Q37.491 882.217 32.4939 877.442 Q27.4968 872.636 27.4968 864.297 Q27.4968 861.592 28.0697 859.014 Q28.6108 856.435 29.7248 854.016 Z\" fill=\"#000000\" fill-rule=\"evenodd\" fill-opacity=\"1\" /><path clip-path=\"url(#clip890)\" d=\"M32.4621 830.018 Q32.4621 834.728 36.1542 837.466 Q39.8145 840.203 46.212 840.203 Q52.6095 840.203 56.3017 837.497 Q59.9619 834.76 59.9619 830.018 Q59.9619 825.339 56.2698 822.602 Q52.5777 819.864 46.212 819.864 Q39.8781 819.864 36.186 822.602 Q32.4621 825.339 32.4621 830.018 M27.4968 830.018 Q27.4968 822.379 32.4621 818.018 Q37.4273 813.658 46.212 813.658 Q54.9649 813.658 59.9619 818.018 Q64.9272 822.379 64.9272 830.018 Q64.9272 837.688 59.9619 842.049 Q54.9649 846.378 46.212 846.378 Q37.4273 846.378 32.4621 842.049 Q27.4968 837.688 27.4968 830.018 Z\" fill=\"#000000\" fill-rule=\"evenodd\" fill-opacity=\"1\" /><path clip-path=\"url(#clip890)\" d=\"M42.4881 774.318 L64.0042 774.318 L64.0042 780.174 L42.679 780.174 Q37.6183 780.174 35.1038 782.148 Q32.5894 784.121 32.5894 788.068 Q32.5894 792.81 35.6131 795.547 Q38.6368 798.285 43.8567 798.285 L64.0042 798.285 L64.0042 804.173 L28.3562 804.173 L28.3562 798.285 L33.8944 798.285 Q30.6797 796.184 29.0883 793.351 Q27.4968 790.487 27.4968 786.763 Q27.4968 780.62 31.3163 777.469 Q35.1038 774.318 42.4881 774.318 Z\" fill=\"#000000\" fill-rule=\"evenodd\" fill-opacity=\"1\" /><path clip-path=\"url(#clip890)\" d=\"M33.7671 739.179 L14.479 739.179 L14.479 733.323 L64.0042 733.323 L64.0042 739.179 L58.657 739.179 Q61.8398 741.025 63.3994 743.858 Q64.9272 746.659 64.9272 750.606 Q64.9272 757.067 59.771 761.141 Q54.6147 765.183 46.212 765.183 Q37.8093 765.183 32.6531 761.141 Q27.4968 757.067 27.4968 750.606 Q27.4968 746.659 29.0564 743.858 Q30.5842 741.025 33.7671 739.179 M46.212 759.136 Q52.6732 759.136 56.3653 756.494 Q60.0256 753.82 60.0256 749.173 Q60.0256 744.526 56.3653 741.853 Q52.6732 739.179 46.212 739.179 Q39.7508 739.179 36.0905 741.853 Q32.3984 744.526 32.3984 749.173 Q32.3984 753.82 36.0905 756.494 Q39.7508 759.136 46.212 759.136 Z\" fill=\"#000000\" fill-rule=\"evenodd\" fill-opacity=\"1\" /><path clip-path=\"url(#clip890)\" d=\"M932.172 74.4597 Q934.805 75.3509 937.276 78.2675 Q939.788 81.1842 942.3 86.2883 L950.604 102.816 L941.814 102.816 L934.076 87.301 Q931.079 81.2247 928.243 79.2397 Q925.448 77.2548 920.587 77.2548 L911.675 77.2548 L911.675 102.816 L903.492 102.816 L903.492 42.336 L921.964 42.336 Q932.334 42.336 937.439 46.6705 Q942.543 51.0049 942.543 59.7549 Q942.543 65.4667 939.869 69.234 Q937.236 73.0013 932.172 74.4597 M911.675 49.0605 L911.675 70.5303 L921.964 70.5303 Q927.878 70.5303 930.876 67.8162 Q933.914 65.0616 933.914 59.7549 Q933.914 54.4482 930.876 51.7746 Q927.878 49.0605 921.964 49.0605 L911.675 49.0605 Z\" fill=\"#000000\" fill-rule=\"evenodd\" fill-opacity=\"1\" /><path clip-path=\"url(#clip890)\" d=\"M995.893 78.2675 L995.893 81.9133 L961.622 81.9133 Q962.109 89.6101 966.24 93.661 Q970.413 97.6714 977.826 97.6714 Q982.12 97.6714 986.13 96.6181 Q990.181 95.5649 994.151 93.4584 L994.151 100.507 Q990.141 102.208 985.928 103.1 Q981.715 103.991 977.38 103.991 Q966.524 103.991 960.164 97.6714 Q953.845 91.3519 953.845 80.5765 Q953.845 69.4365 959.84 62.9146 Q965.876 56.3521 976.084 56.3521 Q985.239 56.3521 990.546 62.2664 Q995.893 68.1403 995.893 78.2675 M988.439 76.08 Q988.358 69.9632 984.996 66.3174 Q981.674 62.6715 976.165 62.6715 Q969.927 62.6715 966.159 66.1958 Q962.433 69.7201 961.865 76.1205 L988.439 76.08 Z\" fill=\"#000000\" fill-rule=\"evenodd\" fill-opacity=\"1\" /><path clip-path=\"url(#clip890)\" d=\"M1028.75 80.0094 Q1019.71 80.0094 1016.23 82.0754 Q1012.74 84.1413 1012.74 89.1239 Q1012.74 93.0938 1015.34 95.4434 Q1017.97 97.7524 1022.47 97.7524 Q1028.66 97.7524 1032.39 93.3774 Q1036.16 88.9619 1036.16 81.6703 L1036.16 80.0094 L1028.75 80.0094 M1043.61 76.9307 L1043.61 102.816 L1036.16 102.816 L1036.16 95.9295 Q1033.61 100.061 1029.8 102.046 Q1025.99 103.991 1020.48 103.991 Q1013.51 103.991 1009.38 100.102 Q1005.29 96.1725 1005.29 89.6101 Q1005.29 81.9538 1010.4 78.065 Q1015.54 74.1761 1025.71 74.1761 L1036.16 74.1761 L1036.16 73.4469 Q1036.16 68.3023 1032.76 65.5072 Q1029.39 62.6715 1023.28 62.6715 Q1019.39 62.6715 1015.7 63.6032 Q1012.02 64.535 1008.61 66.3984 L1008.61 59.5118 Q1012.7 57.932 1016.55 57.1623 Q1020.4 56.3521 1024.05 56.3521 Q1033.89 56.3521 1038.75 61.4563 Q1043.61 66.5604 1043.61 76.9307 Z\" fill=\"#000000\" fill-rule=\"evenodd\" fill-opacity=\"1\" /><path clip-path=\"url(#clip890)\" d=\"M1088.82 64.3324 L1088.82 39.7839 L1096.27 39.7839 L1096.27 102.816 L1088.82 102.816 L1088.82 96.0105 Q1086.47 100.061 1082.87 102.046 Q1079.3 103.991 1074.28 103.991 Q1066.05 103.991 1060.87 97.4283 Q1055.72 90.8658 1055.72 80.1714 Q1055.72 69.4771 1060.87 62.9146 Q1066.05 56.3521 1074.28 56.3521 Q1079.3 56.3521 1082.87 58.3371 Q1086.47 60.2815 1088.82 64.3324 M1063.42 80.1714 Q1063.42 88.3948 1066.78 93.0938 Q1070.19 97.7524 1076.1 97.7524 Q1082.02 97.7524 1085.42 93.0938 Q1088.82 88.3948 1088.82 80.1714 Q1088.82 71.9481 1085.42 67.2896 Q1082.02 62.5905 1076.1 62.5905 Q1070.19 62.5905 1066.78 67.2896 Q1063.42 71.9481 1063.42 80.1714 Z\" fill=\"#000000\" fill-rule=\"evenodd\" fill-opacity=\"1\" /><path clip-path=\"url(#clip890)\" d=\"M1146.51 49.0605 L1146.51 71.7861 L1156.79 71.7861 Q1162.51 71.7861 1165.63 68.8289 Q1168.75 65.8718 1168.75 60.403 Q1168.75 54.9748 1165.63 52.0177 Q1162.51 49.0605 1156.79 49.0605 L1146.51 49.0605 M1138.32 42.336 L1156.79 42.336 Q1166.96 42.336 1172.15 46.954 Q1177.37 51.5316 1177.37 60.403 Q1177.37 69.3555 1172.15 73.9331 Q1166.96 78.5106 1156.79 78.5106 L1146.51 78.5106 L1146.51 102.816 L1138.32 102.816 L1138.32 42.336 Z\" fill=\"#000000\" fill-rule=\"evenodd\" fill-opacity=\"1\" /><path clip-path=\"url(#clip890)\" d=\"M1223.88 78.2675 L1223.88 81.9133 L1189.61 81.9133 Q1190.09 89.6101 1194.23 93.661 Q1198.4 97.6714 1205.81 97.6714 Q1210.1 97.6714 1214.12 96.6181 Q1218.17 95.5649 1222.14 93.4584 L1222.14 100.507 Q1218.13 102.208 1213.91 103.1 Q1209.7 103.991 1205.37 103.991 Q1194.51 103.991 1188.15 97.6714 Q1181.83 91.3519 1181.83 80.5765 Q1181.83 69.4365 1187.82 62.9146 Q1193.86 56.3521 1204.07 56.3521 Q1213.22 56.3521 1218.53 62.2664 Q1223.88 68.1403 1223.88 78.2675 M1216.42 76.08 Q1216.34 69.9632 1212.98 66.3174 Q1209.66 62.6715 1204.15 62.6715 Q1197.91 62.6715 1194.14 66.1958 Q1190.42 69.7201 1189.85 76.1205 L1216.42 76.08 Z\" fill=\"#000000\" fill-rule=\"evenodd\" fill-opacity=\"1\" /><path clip-path=\"url(#clip890)\" d=\"M1262.4 64.4134 Q1261.15 63.6843 1259.65 63.3602 Q1258.19 62.9956 1256.41 62.9956 Q1250.09 62.9956 1246.68 67.1275 Q1243.32 71.2189 1243.32 78.9157 L1243.32 102.816 L1235.83 102.816 L1235.83 57.4459 L1243.32 57.4459 L1243.32 64.4944 Q1245.67 60.3625 1249.44 58.3776 Q1253.21 56.3521 1258.59 56.3521 Q1259.36 56.3521 1260.3 56.4737 Q1261.23 56.5547 1262.36 56.7572 L1262.4 64.4134 Z\" fill=\"#000000\" fill-rule=\"evenodd\" fill-opacity=\"1\" /><path clip-path=\"url(#clip890)\" d=\"M1293.19 39.7839 L1293.19 45.9818 L1286.06 45.9818 Q1282.05 45.9818 1280.47 47.6022 Q1278.93 49.2225 1278.93 53.4355 L1278.93 57.4459 L1291.2 57.4459 L1291.2 63.2387 L1278.93 63.2387 L1278.93 102.816 L1271.44 102.816 L1271.44 63.2387 L1264.31 63.2387 L1264.31 57.4459 L1271.44 57.4459 L1271.44 54.2862 Q1271.44 46.711 1274.96 43.2677 Q1278.48 39.7839 1286.14 39.7839 L1293.19 39.7839 Z\" fill=\"#000000\" fill-rule=\"evenodd\" fill-opacity=\"1\" /><path clip-path=\"url(#clip890)\" d=\"M1317.01 62.6715 Q1311.01 62.6715 1307.53 67.3706 Q1304.05 72.0291 1304.05 80.1714 Q1304.05 88.3138 1307.49 93.0128 Q1310.97 97.6714 1317.01 97.6714 Q1322.96 97.6714 1326.45 92.9723 Q1329.93 88.2733 1329.93 80.1714 Q1329.93 72.1101 1326.45 67.4111 Q1322.96 62.6715 1317.01 62.6715 M1317.01 56.3521 Q1326.73 56.3521 1332.28 62.6715 Q1337.83 68.9909 1337.83 80.1714 Q1337.83 91.3114 1332.28 97.6714 Q1326.73 103.991 1317.01 103.991 Q1307.25 103.991 1301.7 97.6714 Q1296.19 91.3114 1296.19 80.1714 Q1296.19 68.9909 1301.7 62.6715 Q1307.25 56.3521 1317.01 56.3521 Z\" fill=\"#000000\" fill-rule=\"evenodd\" fill-opacity=\"1\" /><path clip-path=\"url(#clip890)\" d=\"M1376.48 64.4134 Q1375.22 63.6843 1373.72 63.3602 Q1372.26 62.9956 1370.48 62.9956 Q1364.16 62.9956 1360.76 67.1275 Q1357.4 71.2189 1357.4 78.9157 L1357.4 102.816 L1349.9 102.816 L1349.9 57.4459 L1357.4 57.4459 L1357.4 64.4944 Q1359.75 60.3625 1363.51 58.3776 Q1367.28 56.3521 1372.67 56.3521 Q1373.44 56.3521 1374.37 56.4737 Q1375.3 56.5547 1376.44 56.7572 L1376.48 64.4134 Z\" fill=\"#000000\" fill-rule=\"evenodd\" fill-opacity=\"1\" /><path clip-path=\"url(#clip890)\" d=\"M1418.16 66.1553 Q1420.95 61.1322 1424.84 58.7422 Q1428.73 56.3521 1434 56.3521 Q1441.09 56.3521 1444.94 61.3347 Q1448.78 66.2768 1448.78 75.4319 L1448.78 102.816 L1441.29 102.816 L1441.29 75.6749 Q1441.29 69.153 1438.98 65.9933 Q1436.67 62.8336 1431.93 62.8336 Q1426.14 62.8336 1422.78 66.6819 Q1419.42 70.5303 1419.42 77.1738 L1419.42 102.816 L1411.92 102.816 L1411.92 75.6749 Q1411.92 69.1125 1409.61 65.9933 Q1407.3 62.8336 1402.48 62.8336 Q1396.77 62.8336 1393.41 66.7224 Q1390.05 70.5708 1390.05 77.1738 L1390.05 102.816 L1382.55 102.816 L1382.55 57.4459 L1390.05 57.4459 L1390.05 64.4944 Q1392.6 60.322 1396.16 58.3371 Q1399.73 56.3521 1404.63 56.3521 Q1409.57 56.3521 1413.01 58.8637 Q1416.5 61.3752 1418.16 66.1553 Z\" fill=\"#000000\" fill-rule=\"evenodd\" fill-opacity=\"1\" /><path clip-path=\"url(#clip890)\" d=\"M1484.27 80.0094 Q1475.24 80.0094 1471.75 82.0754 Q1468.27 84.1413 1468.27 89.1239 Q1468.27 93.0938 1470.86 95.4434 Q1473.49 97.7524 1477.99 97.7524 Q1484.19 97.7524 1487.92 93.3774 Q1491.68 88.9619 1491.68 81.6703 L1491.68 80.0094 L1484.27 80.0094 M1499.14 76.9307 L1499.14 102.816 L1491.68 102.816 L1491.68 95.9295 Q1489.13 100.061 1485.32 102.046 Q1481.52 103.991 1476.01 103.991 Q1469.04 103.991 1464.91 100.102 Q1460.82 96.1725 1460.82 89.6101 Q1460.82 81.9538 1465.92 78.065 Q1471.06 74.1761 1481.23 74.1761 L1491.68 74.1761 L1491.68 73.4469 Q1491.68 68.3023 1488.28 65.5072 Q1484.92 62.6715 1478.8 62.6715 Q1474.91 62.6715 1471.23 63.6032 Q1467.54 64.535 1464.14 66.3984 L1464.14 59.5118 Q1468.23 57.932 1472.08 57.1623 Q1475.93 56.3521 1479.57 56.3521 Q1489.41 56.3521 1494.28 61.4563 Q1499.14 66.5604 1499.14 76.9307 Z\" fill=\"#000000\" fill-rule=\"evenodd\" fill-opacity=\"1\" /><path clip-path=\"url(#clip890)\" d=\"M1552.2 75.4319 L1552.2 102.816 L1544.75 102.816 L1544.75 75.6749 Q1544.75 69.234 1542.24 66.0338 Q1539.73 62.8336 1534.7 62.8336 Q1528.67 62.8336 1525.18 66.6819 Q1521.7 70.5303 1521.7 77.1738 L1521.7 102.816 L1514.21 102.816 L1514.21 57.4459 L1521.7 57.4459 L1521.7 64.4944 Q1524.37 60.403 1527.98 58.3776 Q1531.63 56.3521 1536.36 56.3521 Q1544.18 56.3521 1548.19 61.2132 Q1552.2 66.0338 1552.2 75.4319 Z\" fill=\"#000000\" fill-rule=\"evenodd\" fill-opacity=\"1\" /><path clip-path=\"url(#clip890)\" d=\"M1599.72 59.1878 L1599.72 66.1553 Q1596.56 64.4134 1593.36 63.5627 Q1590.2 62.6715 1586.96 62.6715 Q1579.71 62.6715 1575.7 67.2896 Q1571.69 71.8671 1571.69 80.1714 Q1571.69 88.4758 1575.7 93.0938 Q1579.71 97.6714 1586.96 97.6714 Q1590.2 97.6714 1593.36 96.8207 Q1596.56 95.9295 1599.72 94.1876 L1599.72 101.074 Q1596.6 102.532 1593.24 103.262 Q1589.92 103.991 1586.15 103.991 Q1575.9 103.991 1569.87 97.5498 Q1563.83 91.1089 1563.83 80.1714 Q1563.83 69.072 1569.91 62.712 Q1576.02 56.3521 1586.64 56.3521 Q1590.08 56.3521 1593.36 57.0813 Q1596.64 57.7699 1599.72 59.1878 Z\" fill=\"#000000\" fill-rule=\"evenodd\" fill-opacity=\"1\" /><path clip-path=\"url(#clip890)\" d=\"M1651.49 78.2675 L1651.49 81.9133 L1617.22 81.9133 Q1617.71 89.6101 1621.84 93.661 Q1626.01 97.6714 1633.42 97.6714 Q1637.72 97.6714 1641.73 96.6181 Q1645.78 95.5649 1649.75 93.4584 L1649.75 100.507 Q1645.74 102.208 1641.53 103.1 Q1637.31 103.991 1632.98 103.991 Q1622.12 103.991 1615.76 97.6714 Q1609.44 91.3519 1609.44 80.5765 Q1609.44 69.4365 1615.44 62.9146 Q1621.47 56.3521 1631.68 56.3521 Q1640.84 56.3521 1646.14 62.2664 Q1651.49 68.1403 1651.49 78.2675 M1644.04 76.08 Q1643.96 69.9632 1640.59 66.3174 Q1637.27 62.6715 1631.76 62.6715 Q1625.53 62.6715 1621.76 66.1958 Q1618.03 69.7201 1617.46 76.1205 L1644.04 76.08 Z\" fill=\"#000000\" fill-rule=\"evenodd\" fill-opacity=\"1\" /><path clip-path=\"url(#clip890)\" d=\"M928.385 139.781 L928.385 186.811 L938.269 186.811 Q950.786 186.811 956.579 181.14 Q962.412 175.469 962.412 163.235 Q962.412 151.083 956.579 145.452 Q950.786 139.781 938.269 139.781 L928.385 139.781 M920.202 133.056 L937.013 133.056 Q954.594 133.056 962.817 140.388 Q971.041 147.68 971.041 163.235 Q971.041 178.872 962.777 186.204 Q954.513 193.536 937.013 193.536 L920.202 193.536 L920.202 133.056 Z\" fill=\"#000000\" fill-rule=\"evenodd\" fill-opacity=\"1\" /><path clip-path=\"url(#clip890)\" d=\"M1004.38 170.729 Q995.346 170.729 991.862 172.795 Q988.379 174.861 988.379 179.844 Q988.379 183.814 990.971 186.163 Q993.604 188.472 998.101 188.472 Q1004.3 188.472 1008.03 184.097 Q1011.79 179.682 1011.79 172.39 L1011.79 170.729 L1004.38 170.729 M1019.25 167.651 L1019.25 193.536 L1011.79 193.536 L1011.79 186.649 Q1009.24 190.781 1005.43 192.766 Q1001.63 194.711 996.116 194.711 Q989.148 194.711 985.016 190.822 Q980.925 186.893 980.925 180.33 Q980.925 172.674 986.029 168.785 Q991.174 164.896 1001.34 164.896 L1011.79 164.896 L1011.79 164.167 Q1011.79 159.022 1008.39 156.227 Q1005.03 153.392 998.911 153.392 Q995.022 153.392 991.336 154.323 Q987.649 155.255 984.247 157.118 L984.247 150.232 Q988.338 148.652 992.187 147.882 Q996.035 147.072 999.681 147.072 Q1009.52 147.072 1014.39 152.176 Q1019.25 157.28 1019.25 167.651 Z\" fill=\"#000000\" fill-rule=\"evenodd\" fill-opacity=\"1\" /><path clip-path=\"url(#clip890)\" d=\"M1041.97 135.284 L1041.97 148.166 L1057.33 148.166 L1057.33 153.959 L1041.97 153.959 L1041.97 178.588 Q1041.97 184.138 1043.47 185.718 Q1045.01 187.298 1049.67 187.298 L1057.33 187.298 L1057.33 193.536 L1049.67 193.536 Q1041.04 193.536 1037.76 190.336 Q1034.48 187.095 1034.48 178.588 L1034.48 153.959 L1029.01 153.959 L1029.01 148.166 L1034.48 148.166 L1034.48 135.284 L1041.97 135.284 Z\" fill=\"#000000\" fill-rule=\"evenodd\" fill-opacity=\"1\" /><path clip-path=\"url(#clip890)\" d=\"M1087.75 170.729 Q1078.71 170.729 1075.23 172.795 Q1071.75 174.861 1071.75 179.844 Q1071.75 183.814 1074.34 186.163 Q1076.97 188.472 1081.47 188.472 Q1087.67 188.472 1091.39 184.097 Q1095.16 179.682 1095.16 172.39 L1095.16 170.729 L1087.75 170.729 M1102.61 167.651 L1102.61 193.536 L1095.16 193.536 L1095.16 186.649 Q1092.61 190.781 1088.8 192.766 Q1084.99 194.711 1079.48 194.711 Q1072.52 194.711 1068.38 190.822 Q1064.29 186.893 1064.29 180.33 Q1064.29 172.674 1069.4 168.785 Q1074.54 164.896 1084.71 164.896 L1095.16 164.896 L1095.16 164.167 Q1095.16 159.022 1091.76 156.227 Q1088.4 153.392 1082.28 153.392 Q1078.39 153.392 1074.7 154.323 Q1071.02 155.255 1067.61 157.118 L1067.61 150.232 Q1071.71 148.652 1075.55 147.882 Q1079.4 147.072 1083.05 147.072 Q1092.89 147.072 1097.75 152.176 Q1102.61 157.28 1102.61 167.651 Z\" fill=\"#000000\" fill-rule=\"evenodd\" fill-opacity=\"1\" /><path clip-path=\"url(#clip890)\" d=\"M1118.29 133.056 L1153.05 133.056 L1153.05 139.943 L1126.47 139.943 L1126.47 157.767 L1150.46 157.767 L1150.46 164.653 L1126.47 164.653 L1126.47 193.536 L1118.29 193.536 L1118.29 133.056 Z\" fill=\"#000000\" fill-rule=\"evenodd\" fill-opacity=\"1\" /><path clip-path=\"url(#clip890)\" d=\"M1185.94 155.133 Q1184.69 154.404 1183.19 154.08 Q1181.73 153.716 1179.95 153.716 Q1173.63 153.716 1170.22 157.848 Q1166.86 161.939 1166.86 169.636 L1166.86 193.536 L1159.37 193.536 L1159.37 148.166 L1166.86 148.166 L1166.86 155.214 Q1169.21 151.083 1172.98 149.098 Q1176.75 147.072 1182.13 147.072 Q1182.9 147.072 1183.83 147.194 Q1184.77 147.275 1185.9 147.477 L1185.94 155.133 Z\" fill=\"#000000\" fill-rule=\"evenodd\" fill-opacity=\"1\" /><path clip-path=\"url(#clip890)\" d=\"M1214.38 170.729 Q1205.35 170.729 1201.86 172.795 Q1198.38 174.861 1198.38 179.844 Q1198.38 183.814 1200.97 186.163 Q1203.6 188.472 1208.1 188.472 Q1214.3 188.472 1218.02 184.097 Q1221.79 179.682 1221.79 172.39 L1221.79 170.729 L1214.38 170.729 M1229.25 167.651 L1229.25 193.536 L1221.79 193.536 L1221.79 186.649 Q1219.24 190.781 1215.43 192.766 Q1211.62 194.711 1206.11 194.711 Q1199.15 194.711 1195.02 190.822 Q1190.92 186.893 1190.92 180.33 Q1190.92 172.674 1196.03 168.785 Q1201.17 164.896 1211.34 164.896 L1221.79 164.896 L1221.79 164.167 Q1221.79 159.022 1218.39 156.227 Q1215.03 153.392 1208.91 153.392 Q1205.02 153.392 1201.33 154.323 Q1197.65 155.255 1194.25 157.118 L1194.25 150.232 Q1198.34 148.652 1202.19 147.882 Q1206.03 147.072 1209.68 147.072 Q1219.52 147.072 1224.38 152.176 Q1229.25 157.28 1229.25 167.651 Z\" fill=\"#000000\" fill-rule=\"evenodd\" fill-opacity=\"1\" /><path clip-path=\"url(#clip890)\" d=\"M1279.92 156.875 Q1282.72 151.852 1286.61 149.462 Q1290.5 147.072 1295.76 147.072 Q1302.85 147.072 1306.7 152.055 Q1310.55 156.997 1310.55 166.152 L1310.55 193.536 L1303.05 193.536 L1303.05 166.395 Q1303.05 159.873 1300.74 156.713 Q1298.43 153.554 1293.7 153.554 Q1287.9 153.554 1284.54 157.402 Q1281.18 161.25 1281.18 167.894 L1281.18 193.536 L1273.68 193.536 L1273.68 166.395 Q1273.68 159.832 1271.37 156.713 Q1269.07 153.554 1264.25 153.554 Q1258.53 153.554 1255.17 157.442 Q1251.81 161.291 1251.81 167.894 L1251.81 193.536 L1244.31 193.536 L1244.31 148.166 L1251.81 148.166 L1251.81 155.214 Q1254.36 151.042 1257.93 149.057 Q1261.49 147.072 1266.39 147.072 Q1271.33 147.072 1274.78 149.584 Q1278.26 152.095 1279.92 156.875 Z\" fill=\"#000000\" fill-rule=\"evenodd\" fill-opacity=\"1\" /><path clip-path=\"url(#clip890)\" d=\"M1364.22 168.988 L1364.22 172.633 L1329.95 172.633 Q1330.44 180.33 1334.57 184.381 Q1338.74 188.391 1346.15 188.391 Q1350.45 188.391 1354.46 187.338 Q1358.51 186.285 1362.48 184.178 L1362.48 191.227 Q1358.47 192.928 1354.26 193.82 Q1350.04 194.711 1345.71 194.711 Q1334.85 194.711 1328.49 188.391 Q1322.17 182.072 1322.17 171.297 Q1322.17 160.157 1328.17 153.635 Q1334.2 147.072 1344.41 147.072 Q1353.57 147.072 1358.87 152.986 Q1364.22 158.86 1364.22 168.988 M1356.77 166.8 Q1356.69 160.683 1353.32 157.037 Q1350 153.392 1344.49 153.392 Q1338.26 153.392 1334.49 156.916 Q1330.76 160.44 1330.19 166.841 L1356.77 166.8 Z\" fill=\"#000000\" fill-rule=\"evenodd\" fill-opacity=\"1\" /><path clip-path=\"url(#clip890)\" d=\"M1378.36 183.247 L1386.91 183.247 L1386.91 193.536 L1378.36 193.536 L1378.36 183.247 M1378.36 150.637 L1386.91 150.637 L1386.91 160.926 L1378.36 160.926 L1378.36 150.637 Z\" fill=\"#000000\" fill-rule=\"evenodd\" fill-opacity=\"1\" /><path clip-path=\"url(#clip890)\" d=\"M1463.35 170.891 Q1463.35 162.668 1459.94 158.01 Q1456.58 153.311 1450.67 153.311 Q1444.75 153.311 1441.35 158.01 Q1437.99 162.668 1437.99 170.891 Q1437.99 179.115 1441.35 183.814 Q1444.75 188.472 1450.67 188.472 Q1456.58 188.472 1459.94 183.814 Q1463.35 179.115 1463.35 170.891 M1437.99 155.052 Q1440.34 151.002 1443.9 149.057 Q1447.51 147.072 1452.49 147.072 Q1460.75 147.072 1465.9 153.635 Q1471.08 160.197 1471.08 170.891 Q1471.08 181.586 1465.9 188.148 Q1460.75 194.711 1452.49 194.711 Q1447.51 194.711 1443.9 192.766 Q1440.34 190.781 1437.99 186.73 L1437.99 193.536 L1430.49 193.536 L1430.49 130.504 L1437.99 130.504 L1437.99 155.052 Z\" fill=\"#000000\" fill-rule=\"evenodd\" fill-opacity=\"1\" /><path clip-path=\"url(#clip890)\" d=\"M1483.44 148.166 L1490.89 148.166 L1490.89 193.536 L1483.44 193.536 L1483.44 148.166 M1483.44 130.504 L1490.89 130.504 L1490.89 139.943 L1483.44 139.943 L1483.44 130.504 Z\" fill=\"#000000\" fill-rule=\"evenodd\" fill-opacity=\"1\" /><path clip-path=\"url(#clip890)\" d=\"M1536.34 170.324 Q1536.34 162.223 1532.98 157.767 Q1529.66 153.311 1523.62 153.311 Q1517.63 153.311 1514.27 157.767 Q1510.95 162.223 1510.95 170.324 Q1510.95 178.386 1514.27 182.842 Q1517.63 187.298 1523.62 187.298 Q1529.66 187.298 1532.98 182.842 Q1536.34 178.386 1536.34 170.324 M1543.8 187.905 Q1543.8 199.491 1538.65 205.122 Q1533.51 210.793 1522.9 210.793 Q1518.97 210.793 1515.48 210.185 Q1512 209.618 1508.72 208.403 L1508.72 201.152 Q1512 202.934 1515.2 203.785 Q1518.4 204.635 1521.72 204.635 Q1529.05 204.635 1532.7 200.787 Q1536.34 196.979 1536.34 189.242 L1536.34 185.556 Q1534.04 189.566 1530.43 191.551 Q1526.82 193.536 1521.8 193.536 Q1513.46 193.536 1508.35 187.176 Q1503.25 180.816 1503.25 170.324 Q1503.25 159.792 1508.35 153.432 Q1513.46 147.072 1521.8 147.072 Q1526.82 147.072 1530.43 149.057 Q1534.04 151.042 1536.34 155.052 L1536.34 148.166 L1543.8 148.166 L1543.8 187.905 Z\" fill=\"#000000\" fill-rule=\"evenodd\" fill-opacity=\"1\" /><path clip-path=\"url(#clip890)\" d=\"M1589.01 155.052 L1589.01 130.504 L1596.46 130.504 L1596.46 193.536 L1589.01 193.536 L1589.01 186.73 Q1586.66 190.781 1583.05 192.766 Q1579.49 194.711 1574.46 194.711 Q1566.24 194.711 1561.05 188.148 Q1555.91 181.586 1555.91 170.891 Q1555.91 160.197 1561.05 153.635 Q1566.24 147.072 1574.46 147.072 Q1579.49 147.072 1583.05 149.057 Q1586.66 151.002 1589.01 155.052 M1563.61 170.891 Q1563.61 179.115 1566.97 183.814 Q1570.37 188.472 1576.29 188.472 Q1582.2 188.472 1585.6 183.814 Q1589.01 179.115 1589.01 170.891 Q1589.01 162.668 1585.6 158.01 Q1582.2 153.311 1576.29 153.311 Q1570.37 153.311 1566.97 158.01 Q1563.61 162.668 1563.61 170.891 Z\" fill=\"#000000\" fill-rule=\"evenodd\" fill-opacity=\"1\" /><path clip-path=\"url(#clip890)\" d=\"M1634.78 130.504 L1634.78 136.702 L1627.65 136.702 Q1623.64 136.702 1622.06 138.322 Q1620.52 139.943 1620.52 144.155 L1620.52 148.166 L1632.8 148.166 L1632.8 153.959 L1620.52 153.959 L1620.52 193.536 L1613.03 193.536 L1613.03 153.959 L1605.9 153.959 L1605.9 148.166 L1613.03 148.166 L1613.03 145.006 Q1613.03 137.431 1616.55 133.988 Q1620.08 130.504 1627.73 130.504 L1634.78 130.504 Z\" fill=\"#000000\" fill-rule=\"evenodd\" fill-opacity=\"1\" /><path clip-path=\"url(#clip890)\" d=\"M887.754 225.761 L887.754 233.741 Q883.096 231.513 878.964 230.419 Q874.832 229.326 870.983 229.326 Q864.299 229.326 860.654 231.918 Q857.048 234.511 857.048 239.291 Q857.048 243.301 859.438 245.367 Q861.869 247.393 868.593 248.649 L873.536 249.661 Q882.691 251.403 887.025 255.819 Q891.4 260.194 891.4 267.566 Q891.4 276.357 885.486 280.894 Q879.612 285.431 868.229 285.431 Q863.935 285.431 859.074 284.459 Q854.253 283.486 849.068 281.582 L849.068 273.157 Q854.051 275.952 858.831 277.369 Q863.611 278.787 868.229 278.787 Q875.237 278.787 879.045 276.033 Q882.853 273.278 882.853 268.174 Q882.853 263.718 880.098 261.206 Q877.384 258.695 871.145 257.439 L866.163 256.467 Q857.008 254.644 852.916 250.755 Q848.825 246.866 848.825 239.939 Q848.825 231.918 854.456 227.3 Q860.127 222.682 870.052 222.682 Q874.305 222.682 878.721 223.452 Q883.136 224.222 887.754 225.761 Z\" fill=\"#000000\" fill-rule=\"evenodd\" fill-opacity=\"1\" /><path clip-path=\"url(#clip890)\" d=\"M903.836 238.886 L911.29 238.886 L911.29 284.256 L903.836 284.256 L903.836 238.886 M903.836 221.224 L911.29 221.224 L911.29 230.663 L903.836 230.663 L903.836 221.224 Z\" fill=\"#000000\" fill-rule=\"evenodd\" fill-opacity=\"1\" /><path clip-path=\"url(#clip890)\" d=\"M923.645 238.886 L959.05 238.886 L959.05 245.691 L931.018 278.301 L959.05 278.301 L959.05 284.256 L922.632 284.256 L922.632 277.45 L950.665 244.841 L923.645 244.841 L923.645 238.886 Z\" fill=\"#000000\" fill-rule=\"evenodd\" fill-opacity=\"1\" /><path clip-path=\"url(#clip890)\" d=\"M1009.24 259.708 L1009.24 263.353 L974.97 263.353 Q975.456 271.05 979.588 275.101 Q983.761 279.111 991.174 279.111 Q995.468 279.111 999.478 278.058 Q1003.53 277.005 1007.5 274.898 L1007.5 281.947 Q1003.49 283.648 999.276 284.54 Q995.063 285.431 990.728 285.431 Q979.872 285.431 973.512 279.111 Q967.192 272.792 967.192 262.017 Q967.192 250.877 973.188 244.355 Q979.224 237.792 989.432 237.792 Q998.587 237.792 1003.89 243.706 Q1009.24 249.58 1009.24 259.708 M1001.79 257.52 Q1001.71 251.403 998.344 247.757 Q995.022 244.112 989.513 244.112 Q983.275 244.112 979.507 247.636 Q975.78 251.16 975.213 257.561 L1001.79 257.52 Z\" fill=\"#000000\" fill-rule=\"evenodd\" fill-opacity=\"1\" /><path clip-path=\"url(#clip890)\" d=\"M1023.38 273.967 L1031.93 273.967 L1031.93 284.256 L1023.38 284.256 L1023.38 273.967 M1023.38 241.357 L1031.93 241.357 L1031.93 251.646 L1023.38 251.646 L1023.38 241.357 Z\" fill=\"#000000\" fill-rule=\"evenodd\" fill-opacity=\"1\" /><path clip-path=\"url(#clip890)\" d=\"M1093.7 221.305 Q1088.27 230.622 1085.64 239.737 Q1083.01 248.851 1083.01 258.209 Q1083.01 267.566 1085.64 276.762 Q1088.31 285.917 1093.7 295.193 L1087.22 295.193 Q1081.14 285.674 1078.11 276.478 Q1075.11 267.283 1075.11 258.209 Q1075.11 249.175 1078.11 240.02 Q1081.1 230.865 1087.22 221.305 L1093.7 221.305 Z\" fill=\"#000000\" fill-rule=\"evenodd\" fill-opacity=\"1\" /><path clip-path=\"url(#clip890)\" d=\"M1110.63 277.369 L1124 277.369 L1124 231.23 L1109.46 234.146 L1109.46 226.693 L1123.92 223.776 L1132.1 223.776 L1132.1 277.369 L1145.47 277.369 L1145.47 284.256 L1110.63 284.256 L1110.63 277.369 Z\" fill=\"#000000\" fill-rule=\"evenodd\" fill-opacity=\"1\" /><path clip-path=\"url(#clip890)\" d=\"M1179.5 229.164 Q1173.18 229.164 1169.98 235.402 Q1166.82 241.6 1166.82 254.077 Q1166.82 266.513 1169.98 272.751 Q1173.18 278.949 1179.5 278.949 Q1185.86 278.949 1189.02 272.751 Q1192.22 266.513 1192.22 254.077 Q1192.22 241.6 1189.02 235.402 Q1185.86 229.164 1179.5 229.164 M1179.5 222.682 Q1189.67 222.682 1195.02 230.744 Q1200.4 238.764 1200.4 254.077 Q1200.4 269.349 1195.02 277.41 Q1189.67 285.431 1179.5 285.431 Q1169.33 285.431 1163.94 277.41 Q1158.6 269.349 1158.6 254.077 Q1158.6 238.764 1163.94 230.744 Q1169.33 222.682 1179.5 222.682 Z\" fill=\"#000000\" fill-rule=\"evenodd\" fill-opacity=\"1\" /><path clip-path=\"url(#clip890)\" d=\"M1232.28 229.164 Q1225.96 229.164 1222.76 235.402 Q1219.6 241.6 1219.6 254.077 Q1219.6 266.513 1222.76 272.751 Q1225.96 278.949 1232.28 278.949 Q1238.64 278.949 1241.8 272.751 Q1245 266.513 1245 254.077 Q1245 241.6 1241.8 235.402 Q1238.64 229.164 1232.28 229.164 M1232.28 222.682 Q1242.45 222.682 1247.8 230.744 Q1253.19 238.764 1253.19 254.077 Q1253.19 269.349 1247.8 277.41 Q1242.45 285.431 1232.28 285.431 Q1222.12 285.431 1216.73 277.41 Q1211.38 269.349 1211.38 254.077 Q1211.38 238.764 1216.73 230.744 Q1222.12 222.682 1232.28 222.682 Z\" fill=\"#000000\" fill-rule=\"evenodd\" fill-opacity=\"1\" /><path clip-path=\"url(#clip890)\" d=\"M1285.07 229.164 Q1278.75 229.164 1275.55 235.402 Q1272.39 241.6 1272.39 254.077 Q1272.39 266.513 1275.55 272.751 Q1278.75 278.949 1285.07 278.949 Q1291.43 278.949 1294.59 272.751 Q1297.79 266.513 1297.79 254.077 Q1297.79 241.6 1294.59 235.402 Q1291.43 229.164 1285.07 229.164 M1285.07 222.682 Q1295.23 222.682 1300.58 230.744 Q1305.97 238.764 1305.97 254.077 Q1305.97 269.349 1300.58 277.41 Q1295.23 285.431 1285.07 285.431 Q1274.9 285.431 1269.51 277.41 Q1264.16 269.349 1264.16 254.077 Q1264.16 238.764 1269.51 230.744 Q1274.9 222.682 1285.07 222.682 Z\" fill=\"#000000\" fill-rule=\"evenodd\" fill-opacity=\"1\" /><path clip-path=\"url(#clip890)\" d=\"M1337.85 229.164 Q1331.53 229.164 1328.33 235.402 Q1325.17 241.6 1325.17 254.077 Q1325.17 266.513 1328.33 272.751 Q1331.53 278.949 1337.85 278.949 Q1344.21 278.949 1347.37 272.751 Q1350.57 266.513 1350.57 254.077 Q1350.57 241.6 1347.37 235.402 Q1344.21 229.164 1337.85 229.164 M1337.85 222.682 Q1348.02 222.682 1353.37 230.744 Q1358.75 238.764 1358.75 254.077 Q1358.75 269.349 1353.37 277.41 Q1348.02 285.431 1337.85 285.431 Q1327.68 285.431 1322.29 277.41 Q1316.95 269.349 1316.95 254.077 Q1316.95 238.764 1322.29 230.744 Q1327.68 222.682 1337.85 222.682 Z\" fill=\"#000000\" fill-rule=\"evenodd\" fill-opacity=\"1\" /><path clip-path=\"url(#clip890)\" d=\"M1390.63 229.164 Q1384.31 229.164 1381.11 235.402 Q1377.95 241.6 1377.95 254.077 Q1377.95 266.513 1381.11 272.751 Q1384.31 278.949 1390.63 278.949 Q1396.99 278.949 1400.15 272.751 Q1403.35 266.513 1403.35 254.077 Q1403.35 241.6 1400.15 235.402 Q1396.99 229.164 1390.63 229.164 M1390.63 222.682 Q1400.8 222.682 1406.15 230.744 Q1411.54 238.764 1411.54 254.077 Q1411.54 269.349 1406.15 277.41 Q1400.8 285.431 1390.63 285.431 Q1380.47 285.431 1375.08 277.41 Q1369.73 269.349 1369.73 254.077 Q1369.73 238.764 1375.08 230.744 Q1380.47 222.682 1390.63 222.682 Z\" fill=\"#000000\" fill-rule=\"evenodd\" fill-opacity=\"1\" /><path clip-path=\"url(#clip890)\" d=\"M1426.77 273.967 L1435.31 273.967 L1435.31 280.934 L1428.67 293.897 L1423.45 293.897 L1426.77 280.934 L1426.77 273.967 Z\" fill=\"#000000\" fill-rule=\"evenodd\" fill-opacity=\"1\" /><path clip-path=\"url(#clip890)\" d=\"M1480.08 277.369 L1493.45 277.369 L1493.45 231.23 L1478.9 234.146 L1478.9 226.693 L1493.36 223.776 L1501.55 223.776 L1501.55 277.369 L1514.92 277.369 L1514.92 284.256 L1480.08 284.256 L1480.08 277.369 Z\" fill=\"#000000\" fill-rule=\"evenodd\" fill-opacity=\"1\" /><path clip-path=\"url(#clip890)\" d=\"M1548.94 229.164 Q1542.62 229.164 1539.42 235.402 Q1536.26 241.6 1536.26 254.077 Q1536.26 266.513 1539.42 272.751 Q1542.62 278.949 1548.94 278.949 Q1555.3 278.949 1558.46 272.751 Q1561.66 266.513 1561.66 254.077 Q1561.66 241.6 1558.46 235.402 Q1555.3 229.164 1548.94 229.164 M1548.94 222.682 Q1559.11 222.682 1564.46 230.744 Q1569.85 238.764 1569.85 254.077 Q1569.85 269.349 1564.46 277.41 Q1559.11 285.431 1548.94 285.431 Q1538.78 285.431 1533.39 277.41 Q1528.04 269.349 1528.04 254.077 Q1528.04 238.764 1533.39 230.744 Q1538.78 222.682 1548.94 222.682 Z\" fill=\"#000000\" fill-rule=\"evenodd\" fill-opacity=\"1\" /><path clip-path=\"url(#clip890)\" d=\"M1601.73 229.164 Q1595.41 229.164 1592.21 235.402 Q1589.05 241.6 1589.05 254.077 Q1589.05 266.513 1592.21 272.751 Q1595.41 278.949 1601.73 278.949 Q1608.09 278.949 1611.25 272.751 Q1614.45 266.513 1614.45 254.077 Q1614.45 241.6 1611.25 235.402 Q1608.09 229.164 1601.73 229.164 M1601.73 222.682 Q1611.89 222.682 1617.24 230.744 Q1622.63 238.764 1622.63 254.077 Q1622.63 269.349 1617.24 277.41 Q1611.89 285.431 1601.73 285.431 Q1591.56 285.431 1586.17 277.41 Q1580.82 269.349 1580.82 254.077 Q1580.82 238.764 1586.17 230.744 Q1591.56 222.682 1601.73 222.682 Z\" fill=\"#000000\" fill-rule=\"evenodd\" fill-opacity=\"1\" /><path clip-path=\"url(#clip890)\" d=\"M1654.51 229.164 Q1648.19 229.164 1644.99 235.402 Q1641.83 241.6 1641.83 254.077 Q1641.83 266.513 1644.99 272.751 Q1648.19 278.949 1654.51 278.949 Q1660.87 278.949 1664.03 272.751 Q1667.23 266.513 1667.23 254.077 Q1667.23 241.6 1664.03 235.402 Q1660.87 229.164 1654.51 229.164 M1654.51 222.682 Q1664.68 222.682 1670.02 230.744 Q1675.41 238.764 1675.41 254.077 Q1675.41 269.349 1670.02 277.41 Q1664.68 285.431 1654.51 285.431 Q1644.34 285.431 1638.95 277.41 Q1633.61 269.349 1633.61 254.077 Q1633.61 238.764 1638.95 230.744 Q1644.34 222.682 1654.51 222.682 Z\" fill=\"#000000\" fill-rule=\"evenodd\" fill-opacity=\"1\" /><path clip-path=\"url(#clip890)\" d=\"M1687.56 221.305 L1694.05 221.305 Q1700.12 230.865 1703.12 240.02 Q1706.16 249.175 1706.16 258.209 Q1706.16 267.283 1703.12 276.478 Q1700.12 285.674 1694.05 295.193 L1687.56 295.193 Q1692.95 285.917 1695.59 276.762 Q1698.26 267.566 1698.26 258.209 Q1698.26 248.851 1695.59 239.737 Q1692.95 230.622 1687.56 221.305 Z\" fill=\"#000000\" fill-rule=\"evenodd\" fill-opacity=\"1\" /><path clip-path=\"url(#clip892)\" d=\"\n",
       "M317.313 1394.81 L317.313 1417.71 L430.275 1417.71 L430.275 1394.81 L317.313 1394.81 L317.313 1394.81  Z\n",
       "  \" fill=\"#009af9\" fill-rule=\"evenodd\" fill-opacity=\"1\"/>\n",
       "<polyline clip-path=\"url(#clip892)\" style=\"stroke:#000000; stroke-linecap:round; stroke-linejoin:round; stroke-width:4; stroke-opacity:1; fill:none\" points=\"\n",
       "  317.313,1394.81 317.313,1417.71 430.275,1417.71 430.275,1394.81 317.313,1394.81 \n",
       "  \"/>\n",
       "<path clip-path=\"url(#clip892)\" d=\"\n",
       "M599.719 1333.13 L599.719 1417.71 L712.681 1417.71 L712.681 1333.13 L599.719 1333.13 L599.719 1333.13  Z\n",
       "  \" fill=\"#009af9\" fill-rule=\"evenodd\" fill-opacity=\"1\"/>\n",
       "<polyline clip-path=\"url(#clip892)\" style=\"stroke:#000000; stroke-linecap:round; stroke-linejoin:round; stroke-width:4; stroke-opacity:1; fill:none\" points=\"\n",
       "  599.719,1333.13 599.719,1417.71 712.681,1417.71 712.681,1333.13 599.719,1333.13 \n",
       "  \"/>\n",
       "<path clip-path=\"url(#clip892)\" d=\"\n",
       "M882.124 901.838 L882.124 1417.71 L995.086 1417.71 L995.086 901.838 L882.124 901.838 L882.124 901.838  Z\n",
       "  \" fill=\"#009af9\" fill-rule=\"evenodd\" fill-opacity=\"1\"/>\n",
       "<polyline clip-path=\"url(#clip892)\" style=\"stroke:#000000; stroke-linecap:round; stroke-linejoin:round; stroke-width:4; stroke-opacity:1; fill:none\" points=\"\n",
       "  882.124,901.838 882.124,1417.71 995.086,1417.71 995.086,901.838 882.124,901.838 \n",
       "  \"/>\n",
       "<path clip-path=\"url(#clip892)\" d=\"\n",
       "M1164.53 1306.97 L1164.53 1417.71 L1277.49 1417.71 L1277.49 1306.97 L1164.53 1306.97 L1164.53 1306.97  Z\n",
       "  \" fill=\"#009af9\" fill-rule=\"evenodd\" fill-opacity=\"1\"/>\n",
       "<polyline clip-path=\"url(#clip892)\" style=\"stroke:#000000; stroke-linecap:round; stroke-linejoin:round; stroke-width:4; stroke-opacity:1; fill:none\" points=\"\n",
       "  1164.53,1306.97 1164.53,1417.71 1277.49,1417.71 1277.49,1306.97 1164.53,1306.97 \n",
       "  \"/>\n",
       "<path clip-path=\"url(#clip892)\" d=\"\n",
       "M1446.93 1135.56 L1446.93 1417.71 L1559.9 1417.71 L1559.9 1135.56 L1446.93 1135.56 L1446.93 1135.56  Z\n",
       "  \" fill=\"#009af9\" fill-rule=\"evenodd\" fill-opacity=\"1\"/>\n",
       "<polyline clip-path=\"url(#clip892)\" style=\"stroke:#000000; stroke-linecap:round; stroke-linejoin:round; stroke-width:4; stroke-opacity:1; fill:none\" points=\"\n",
       "  1446.93,1135.56 1446.93,1417.71 1559.9,1417.71 1559.9,1135.56 1446.93,1135.56 \n",
       "  \"/>\n",
       "<path clip-path=\"url(#clip892)\" d=\"\n",
       "M1729.34 278.605 L1729.34 1417.71 L1842.3 1417.71 L1842.3 278.605 L1729.34 278.605 L1729.34 278.605  Z\n",
       "  \" fill=\"#009af9\" fill-rule=\"evenodd\" fill-opacity=\"1\"/>\n",
       "<polyline clip-path=\"url(#clip892)\" style=\"stroke:#000000; stroke-linecap:round; stroke-linejoin:round; stroke-width:4; stroke-opacity:1; fill:none\" points=\"\n",
       "  1729.34,278.605 1729.34,1417.71 1842.3,1417.71 1842.3,278.605 1729.34,278.605 \n",
       "  \"/>\n",
       "<path clip-path=\"url(#clip892)\" d=\"\n",
       "M2011.75 1085.72 L2011.75 1417.71 L2124.71 1417.71 L2124.71 1085.72 L2011.75 1085.72 L2011.75 1085.72  Z\n",
       "  \" fill=\"#009af9\" fill-rule=\"evenodd\" fill-opacity=\"1\"/>\n",
       "<polyline clip-path=\"url(#clip892)\" style=\"stroke:#000000; stroke-linecap:round; stroke-linejoin:round; stroke-width:4; stroke-opacity:1; fill:none\" points=\"\n",
       "  2011.75,1085.72 2011.75,1417.71 2124.71,1417.71 2124.71,1085.72 2011.75,1085.72 \n",
       "  \"/>\n",
       "<circle clip-path=\"url(#clip892)\" style=\"fill:#009af9; stroke:none; fill-opacity:0\" cx=\"373.794\" cy=\"1394.81\" r=\"2\"/>\n",
       "<circle clip-path=\"url(#clip892)\" style=\"fill:#009af9; stroke:none; fill-opacity:0\" cx=\"656.2\" cy=\"1333.13\" r=\"2\"/>\n",
       "<circle clip-path=\"url(#clip892)\" style=\"fill:#009af9; stroke:none; fill-opacity:0\" cx=\"938.605\" cy=\"901.838\" r=\"2\"/>\n",
       "<circle clip-path=\"url(#clip892)\" style=\"fill:#009af9; stroke:none; fill-opacity:0\" cx=\"1221.01\" cy=\"1306.97\" r=\"2\"/>\n",
       "<circle clip-path=\"url(#clip892)\" style=\"fill:#009af9; stroke:none; fill-opacity:0\" cx=\"1503.42\" cy=\"1135.56\" r=\"2\"/>\n",
       "<circle clip-path=\"url(#clip892)\" style=\"fill:#009af9; stroke:none; fill-opacity:0\" cx=\"1785.82\" cy=\"278.605\" r=\"2\"/>\n",
       "<circle clip-path=\"url(#clip892)\" style=\"fill:#009af9; stroke:none; fill-opacity:0\" cx=\"2068.23\" cy=\"1085.72\" r=\"2\"/>\n",
       "<path clip-path=\"url(#clip892)\" d=\"\n",
       "M430.275 1417.41 L430.275 1417.71 L543.238 1417.71 L543.238 1417.41 L430.275 1417.41 L430.275 1417.41  Z\n",
       "  \" fill=\"#e26f46\" fill-rule=\"evenodd\" fill-opacity=\"1\"/>\n",
       "<polyline clip-path=\"url(#clip892)\" style=\"stroke:#000000; stroke-linecap:round; stroke-linejoin:round; stroke-width:4; stroke-opacity:1; fill:none\" points=\"\n",
       "  430.275,1417.41 430.275,1417.71 543.238,1417.71 543.238,1417.41 430.275,1417.41 \n",
       "  \"/>\n",
       "<path clip-path=\"url(#clip892)\" d=\"\n",
       "M712.681 1359.31 L712.681 1417.71 L825.643 1417.71 L825.643 1359.31 L712.681 1359.31 L712.681 1359.31  Z\n",
       "  \" fill=\"#e26f46\" fill-rule=\"evenodd\" fill-opacity=\"1\"/>\n",
       "<polyline clip-path=\"url(#clip892)\" style=\"stroke:#000000; stroke-linecap:round; stroke-linejoin:round; stroke-width:4; stroke-opacity:1; fill:none\" points=\"\n",
       "  712.681,1359.31 712.681,1417.71 825.643,1417.71 825.643,1359.31 712.681,1359.31 \n",
       "  \"/>\n",
       "<path clip-path=\"url(#clip892)\" d=\"\n",
       "M995.086 879.643 L995.086 1417.71 L1108.05 1417.71 L1108.05 879.643 L995.086 879.643 L995.086 879.643  Z\n",
       "  \" fill=\"#e26f46\" fill-rule=\"evenodd\" fill-opacity=\"1\"/>\n",
       "<polyline clip-path=\"url(#clip892)\" style=\"stroke:#000000; stroke-linecap:round; stroke-linejoin:round; stroke-width:4; stroke-opacity:1; fill:none\" points=\"\n",
       "  995.086,879.643 995.086,1417.71 1108.05,1417.71 1108.05,879.643 995.086,879.643 \n",
       "  \"/>\n",
       "<path clip-path=\"url(#clip892)\" d=\"\n",
       "M1277.49 1361.51 L1277.49 1417.71 L1390.45 1417.71 L1390.45 1361.51 L1277.49 1361.51 L1277.49 1361.51  Z\n",
       "  \" fill=\"#e26f46\" fill-rule=\"evenodd\" fill-opacity=\"1\"/>\n",
       "<polyline clip-path=\"url(#clip892)\" style=\"stroke:#000000; stroke-linecap:round; stroke-linejoin:round; stroke-width:4; stroke-opacity:1; fill:none\" points=\"\n",
       "  1277.49,1361.51 1277.49,1417.71 1390.45,1417.71 1390.45,1361.51 1277.49,1361.51 \n",
       "  \"/>\n",
       "<path clip-path=\"url(#clip892)\" d=\"\n",
       "M1559.9 1145.81 L1559.9 1417.71 L1672.86 1417.71 L1672.86 1145.81 L1559.9 1145.81 L1559.9 1145.81  Z\n",
       "  \" fill=\"#e26f46\" fill-rule=\"evenodd\" fill-opacity=\"1\"/>\n",
       "<polyline clip-path=\"url(#clip892)\" style=\"stroke:#000000; stroke-linecap:round; stroke-linejoin:round; stroke-width:4; stroke-opacity:1; fill:none\" points=\"\n",
       "  1559.9,1145.81 1559.9,1417.71 1672.86,1417.71 1672.86,1145.81 1559.9,1145.81 \n",
       "  \"/>\n",
       "<path clip-path=\"url(#clip892)\" d=\"\n",
       "M1842.3 1095.21 L1842.3 1417.71 L1955.26 1417.71 L1955.26 1095.21 L1842.3 1095.21 L1842.3 1095.21  Z\n",
       "  \" fill=\"#e26f46\" fill-rule=\"evenodd\" fill-opacity=\"1\"/>\n",
       "<polyline clip-path=\"url(#clip892)\" style=\"stroke:#000000; stroke-linecap:round; stroke-linejoin:round; stroke-width:4; stroke-opacity:1; fill:none\" points=\"\n",
       "  1842.3,1095.21 1842.3,1417.71 1955.26,1417.71 1955.26,1095.21 1842.3,1095.21 \n",
       "  \"/>\n",
       "<path clip-path=\"url(#clip892)\" d=\"\n",
       "M2124.71 1082.47 L2124.71 1417.71 L2237.67 1417.71 L2237.67 1082.47 L2124.71 1082.47 L2124.71 1082.47  Z\n",
       "  \" fill=\"#e26f46\" fill-rule=\"evenodd\" fill-opacity=\"1\"/>\n",
       "<polyline clip-path=\"url(#clip892)\" style=\"stroke:#000000; stroke-linecap:round; stroke-linejoin:round; stroke-width:4; stroke-opacity:1; fill:none\" points=\"\n",
       "  2124.71,1082.47 2124.71,1417.71 2237.67,1417.71 2237.67,1082.47 2124.71,1082.47 \n",
       "  \"/>\n",
       "<circle clip-path=\"url(#clip892)\" style=\"fill:#e26f46; stroke:none; fill-opacity:0\" cx=\"486.757\" cy=\"1417.41\" r=\"2\"/>\n",
       "<circle clip-path=\"url(#clip892)\" style=\"fill:#e26f46; stroke:none; fill-opacity:0\" cx=\"769.162\" cy=\"1359.31\" r=\"2\"/>\n",
       "<circle clip-path=\"url(#clip892)\" style=\"fill:#e26f46; stroke:none; fill-opacity:0\" cx=\"1051.57\" cy=\"879.643\" r=\"2\"/>\n",
       "<circle clip-path=\"url(#clip892)\" style=\"fill:#e26f46; stroke:none; fill-opacity:0\" cx=\"1333.97\" cy=\"1361.51\" r=\"2\"/>\n",
       "<circle clip-path=\"url(#clip892)\" style=\"fill:#e26f46; stroke:none; fill-opacity:0\" cx=\"1616.38\" cy=\"1145.81\" r=\"2\"/>\n",
       "<circle clip-path=\"url(#clip892)\" style=\"fill:#e26f46; stroke:none; fill-opacity:0\" cx=\"1898.78\" cy=\"1095.21\" r=\"2\"/>\n",
       "<circle clip-path=\"url(#clip892)\" style=\"fill:#e26f46; stroke:none; fill-opacity:0\" cx=\"2181.19\" cy=\"1082.47\" r=\"2\"/>\n",
       "<path clip-path=\"url(#clip890)\" d=\"\n",
       "M1959.6 440.201 L2281.07 440.201 L2281.07 284.681 L1959.6 284.681  Z\n",
       "  \" fill=\"#ffffff\" fill-rule=\"evenodd\" fill-opacity=\"1\"/>\n",
       "<polyline clip-path=\"url(#clip890)\" style=\"stroke:#000000; stroke-linecap:round; stroke-linejoin:round; stroke-width:4; stroke-opacity:1; fill:none\" points=\"\n",
       "  1959.6,440.201 2281.07,440.201 2281.07,284.681 1959.6,284.681 1959.6,440.201 \n",
       "  \"/>\n",
       "<path clip-path=\"url(#clip890)\" d=\"\n",
       "M1983.5 357.257 L2126.86 357.257 L2126.86 315.785 L1983.5 315.785 L1983.5 357.257  Z\n",
       "  \" fill=\"#009af9\" fill-rule=\"evenodd\" fill-opacity=\"1\"/>\n",
       "<polyline clip-path=\"url(#clip890)\" style=\"stroke:#000000; stroke-linecap:round; stroke-linejoin:round; stroke-width:4; stroke-opacity:1; fill:none\" points=\"\n",
       "  1983.5,357.257 2126.86,357.257 2126.86,315.785 1983.5,315.785 1983.5,357.257 \n",
       "  \"/>\n",
       "<path clip-path=\"url(#clip890)\" d=\"M2151.43 349.865 L2159.07 349.865 L2159.07 323.5 L2150.76 325.167 L2150.76 320.907 L2159.02 319.241 L2163.7 319.241 L2163.7 349.865 L2171.34 349.865 L2171.34 353.801 L2151.43 353.801 L2151.43 349.865 Z\" fill=\"#000000\" fill-rule=\"evenodd\" fill-opacity=\"1\" /><path clip-path=\"url(#clip890)\" d=\"M2196.71 328.639 L2196.71 332.667 Q2194.9 331.741 2192.96 331.278 Q2191.01 330.815 2188.93 330.815 Q2185.76 330.815 2184.16 331.787 Q2182.59 332.759 2182.59 334.704 Q2182.59 336.185 2183.72 337.041 Q2184.86 337.875 2188.28 338.639 L2189.74 338.963 Q2194.28 339.935 2196.18 341.717 Q2198.1 343.477 2198.1 346.648 Q2198.1 350.259 2195.23 352.365 Q2192.38 354.472 2187.38 354.472 Q2185.3 354.472 2183.03 354.055 Q2180.78 353.662 2178.28 352.852 L2178.28 348.453 Q2180.64 349.68 2182.94 350.305 Q2185.23 350.907 2187.47 350.907 Q2190.48 350.907 2192.1 349.889 Q2193.72 348.847 2193.72 346.972 Q2193.72 345.236 2192.54 344.31 Q2191.38 343.384 2187.43 342.528 L2185.94 342.18 Q2181.99 341.347 2180.23 339.634 Q2178.47 337.898 2178.47 334.889 Q2178.47 331.231 2181.06 329.241 Q2183.65 327.25 2188.42 327.25 Q2190.78 327.25 2192.87 327.597 Q2194.95 327.944 2196.71 328.639 Z\" fill=\"#000000\" fill-rule=\"evenodd\" fill-opacity=\"1\" /><path clip-path=\"url(#clip890)\" d=\"M2209.09 320.514 L2209.09 327.875 L2217.87 327.875 L2217.87 331.185 L2209.09 331.185 L2209.09 345.259 Q2209.09 348.43 2209.95 349.333 Q2210.83 350.236 2213.49 350.236 L2217.87 350.236 L2217.87 353.801 L2213.49 353.801 Q2208.56 353.801 2206.69 351.972 Q2204.81 350.12 2204.81 345.259 L2204.81 331.185 L2201.69 331.185 L2201.69 327.875 L2204.81 327.875 L2204.81 320.514 L2209.09 320.514 Z\" fill=\"#000000\" fill-rule=\"evenodd\" fill-opacity=\"1\" /><path clip-path=\"url(#clip890)\" d=\"\n",
       "M1983.5 409.097 L2126.86 409.097 L2126.86 367.625 L1983.5 367.625 L1983.5 409.097  Z\n",
       "  \" fill=\"#e26f46\" fill-rule=\"evenodd\" fill-opacity=\"1\"/>\n",
       "<polyline clip-path=\"url(#clip890)\" style=\"stroke:#000000; stroke-linecap:round; stroke-linejoin:round; stroke-width:4; stroke-opacity:1; fill:none\" points=\"\n",
       "  1983.5,409.097 2126.86,409.097 2126.86,367.625 1983.5,367.625 1983.5,409.097 \n",
       "  \"/>\n",
       "<path clip-path=\"url(#clip890)\" d=\"M2156.38 401.705 L2172.7 401.705 L2172.7 405.641 L2150.76 405.641 L2150.76 401.705 Q2153.42 398.951 2158 394.321 Q2162.61 389.669 2163.79 388.326 Q2166.04 385.803 2166.92 384.067 Q2167.82 382.307 2167.82 380.618 Q2167.82 377.863 2165.88 376.127 Q2163.95 374.391 2160.85 374.391 Q2158.65 374.391 2156.2 375.155 Q2153.77 375.919 2150.99 377.47 L2150.99 372.747 Q2153.81 371.613 2156.27 371.034 Q2158.72 370.456 2160.76 370.456 Q2166.13 370.456 2169.32 373.141 Q2172.52 375.826 2172.52 380.317 Q2172.52 382.446 2171.71 384.368 Q2170.92 386.266 2168.81 388.858 Q2168.24 389.53 2165.13 392.747 Q2162.03 395.942 2156.38 401.705 Z\" fill=\"#000000\" fill-rule=\"evenodd\" fill-opacity=\"1\" /><path clip-path=\"url(#clip890)\" d=\"M2203.47 389.993 L2203.47 405.641 L2199.21 405.641 L2199.21 390.131 Q2199.21 386.451 2197.77 384.622 Q2196.34 382.794 2193.47 382.794 Q2190.02 382.794 2188.03 384.993 Q2186.04 387.192 2186.04 390.988 L2186.04 405.641 L2181.75 405.641 L2181.75 379.715 L2186.04 379.715 L2186.04 383.743 Q2187.56 381.405 2189.62 380.247 Q2191.71 379.09 2194.42 379.09 Q2198.88 379.09 2201.18 381.868 Q2203.47 384.622 2203.47 389.993 Z\" fill=\"#000000\" fill-rule=\"evenodd\" fill-opacity=\"1\" /><path clip-path=\"url(#clip890)\" d=\"M2229.02 383.65 L2229.02 369.622 L2233.28 369.622 L2233.28 405.641 L2229.02 405.641 L2229.02 401.752 Q2227.68 404.067 2225.62 405.201 Q2223.58 406.312 2220.71 406.312 Q2216.01 406.312 2213.05 402.562 Q2210.11 398.812 2210.11 392.701 Q2210.11 386.59 2213.05 382.84 Q2216.01 379.09 2220.71 379.09 Q2223.58 379.09 2225.62 380.224 Q2227.68 381.335 2229.02 383.65 M2214.51 392.701 Q2214.51 397.4 2216.43 400.085 Q2218.37 402.747 2221.75 402.747 Q2225.13 402.747 2227.08 400.085 Q2229.02 397.4 2229.02 392.701 Q2229.02 388.002 2227.08 385.34 Q2225.13 382.655 2221.75 382.655 Q2218.37 382.655 2216.43 385.34 Q2214.51 388.002 2214.51 392.701 Z\" fill=\"#000000\" fill-rule=\"evenodd\" fill-opacity=\"1\" /></svg>\n"
      ]
     },
     "execution_count": 43,
     "metadata": {},
     "output_type": "execute_result"
    }
   ],
   "source": [
    "# Exclude JSON\\narraytable arraytable due to much longer timing\n",
    "groupedbar(\n",
    "    repeat([\"CSV.jl\", \"Serialization\", \"JDF.jl\", \"JLSO.jl\", \"Arrow.jl\", \"Arrow.jl\\ncopy\", #\"JSON\\narraytable\",\n",
    "            \"JSON\\nobjecttable\"], inner = 2),\n",
    "    [csvread1, csvread2, serializeread1, serializeread2, jdfread1, jdfread2, jlsoread1, jlsoread2,\n",
    "     arrowread1, arrowread2, arrowread1+arrowread1copy, arrowread2+arrowread2copy,\n",
    "     # jsontablesaread1, jsontablesaread2,\n",
    "     jsontablesoread1, jsontablesoread2],    \n",
    "    group = repeat([\"1st\", \"2nd\"], outer = 7),\n",
    "    ylab = \"Second\",\n",
    "    title = \"Read Performance\\nDataFrame: bigdf\\nSize: $(size(bigdf))\"\n",
    ")"
   ]
  },
  {
   "cell_type": "markdown",
   "metadata": {},
   "source": [
    "### Using gzip compression"
   ]
  },
  {
   "cell_type": "markdown",
   "metadata": {},
   "source": [
    "A common user requirement is to be able to load and save CSV that are compressed using gzip.\n",
    "Below we show how this can be accomplished using CodecZlib.jl.\n",
    "The same pattern is applicable to JSONTables.jl compression/decompression.\n",
    "\n",
    "Again make sure that you do not have file named `df_compress_test.csv.gz` in your working directory"
   ]
  },
  {
   "cell_type": "markdown",
   "metadata": {},
   "source": [
    "We first generate a random data frame"
   ]
  },
  {
   "cell_type": "code",
   "execution_count": 44,
   "metadata": {},
   "outputs": [
    {
     "data": {
      "text/html": [
       "<div><div style = \"float: left;\"><span>10×1000 DataFrame</span></div><div style = \"float: right;\"><span style = \"font-style: italic;\">900 columns omitted</span></div><div style = \"clear: both;\"></div></div><div class = \"data-frame\" style = \"overflow-x: scroll;\"><table class = \"data-frame\" style = \"margin-bottom: 6px;\"><thead><tr class = \"header\"><th class = \"rowNumber\" style = \"font-weight: bold; text-align: right;\">Row</th><th style = \"text-align: left;\">x1</th><th style = \"text-align: left;\">x2</th><th style = \"text-align: left;\">x3</th><th style = \"text-align: left;\">x4</th><th style = \"text-align: left;\">x5</th><th style = \"text-align: left;\">x6</th><th style = \"text-align: left;\">x7</th><th style = \"text-align: left;\">x8</th><th style = \"text-align: left;\">x9</th><th style = \"text-align: left;\">x10</th><th style = \"text-align: left;\">x11</th><th style = \"text-align: left;\">x12</th><th style = \"text-align: left;\">x13</th><th style = \"text-align: left;\">x14</th><th style = \"text-align: left;\">x15</th><th style = \"text-align: left;\">x16</th><th style = \"text-align: left;\">x17</th><th style = \"text-align: left;\">x18</th><th style = \"text-align: left;\">x19</th><th style = \"text-align: left;\">x20</th><th style = \"text-align: left;\">x21</th><th style = \"text-align: left;\">x22</th><th style = \"text-align: left;\">x23</th><th style = \"text-align: left;\">x24</th><th style = \"text-align: left;\">x25</th><th style = \"text-align: left;\">x26</th><th style = \"text-align: left;\">x27</th><th style = \"text-align: left;\">x28</th><th style = \"text-align: left;\">x29</th><th style = \"text-align: left;\">x30</th><th style = \"text-align: left;\">x31</th><th style = \"text-align: left;\">x32</th><th style = \"text-align: left;\">x33</th><th style = \"text-align: left;\">x34</th><th style = \"text-align: left;\">x35</th><th style = \"text-align: left;\">x36</th><th style = \"text-align: left;\">x37</th><th style = \"text-align: left;\">x38</th><th style = \"text-align: left;\">x39</th><th style = \"text-align: left;\">x40</th><th style = \"text-align: left;\">x41</th><th style = \"text-align: left;\">x42</th><th style = \"text-align: left;\">x43</th><th style = \"text-align: left;\">x44</th><th style = \"text-align: left;\">x45</th><th style = \"text-align: left;\">x46</th><th style = \"text-align: left;\">x47</th><th style = \"text-align: left;\">x48</th><th style = \"text-align: left;\">x49</th><th style = \"text-align: left;\">x50</th><th style = \"text-align: left;\">x51</th><th style = \"text-align: left;\">x52</th><th style = \"text-align: left;\">x53</th><th style = \"text-align: left;\">x54</th><th style = \"text-align: left;\">x55</th><th style = \"text-align: left;\">x56</th><th style = \"text-align: left;\">x57</th><th style = \"text-align: left;\">x58</th><th style = \"text-align: left;\">x59</th><th style = \"text-align: left;\">x60</th><th style = \"text-align: left;\">x61</th><th style = \"text-align: left;\">x62</th><th style = \"text-align: left;\">x63</th><th style = \"text-align: left;\">x64</th><th style = \"text-align: left;\">x65</th><th style = \"text-align: left;\">x66</th><th style = \"text-align: left;\">x67</th><th style = \"text-align: left;\">x68</th><th style = \"text-align: left;\">x69</th><th style = \"text-align: left;\">x70</th><th style = \"text-align: left;\">x71</th><th style = \"text-align: left;\">x72</th><th style = \"text-align: left;\">x73</th><th style = \"text-align: left;\">x74</th><th style = \"text-align: left;\">x75</th><th style = \"text-align: left;\">x76</th><th style = \"text-align: left;\">x77</th><th style = \"text-align: left;\">x78</th><th style = \"text-align: left;\">x79</th><th style = \"text-align: left;\">x80</th><th style = \"text-align: left;\">x81</th><th style = \"text-align: left;\">x82</th><th style = \"text-align: left;\">x83</th><th style = \"text-align: left;\">x84</th><th style = \"text-align: left;\">x85</th><th style = \"text-align: left;\">x86</th><th style = \"text-align: left;\">x87</th><th style = \"text-align: left;\">x88</th><th style = \"text-align: left;\">x89</th><th style = \"text-align: left;\">x90</th><th style = \"text-align: left;\">x91</th><th style = \"text-align: left;\">x92</th><th style = \"text-align: left;\">x93</th><th style = \"text-align: left;\">x94</th><th style = \"text-align: left;\">x95</th><th style = \"text-align: left;\">x96</th><th style = \"text-align: left;\">x97</th><th style = \"text-align: left;\">x98</th><th style = \"text-align: left;\">x99</th><th style = \"text-align: left;\">x100</th><th style = \"text-align: right;\">&ctdot;</th></tr><tr class = \"subheader headerLastRow\"><th class = \"rowNumber\" style = \"font-weight: bold; text-align: right;\"></th><th title = \"Int64\" style = \"text-align: left;\">Int64</th><th title = \"Int64\" style = \"text-align: left;\">Int64</th><th title = \"Int64\" style = \"text-align: left;\">Int64</th><th title = \"Int64\" style = \"text-align: left;\">Int64</th><th title = \"Int64\" style = \"text-align: left;\">Int64</th><th title = \"Int64\" style = \"text-align: left;\">Int64</th><th title = \"Int64\" style = \"text-align: left;\">Int64</th><th title = \"Int64\" style = \"text-align: left;\">Int64</th><th title = \"Int64\" style = \"text-align: left;\">Int64</th><th title = \"Int64\" style = \"text-align: left;\">Int64</th><th title = \"Int64\" style = \"text-align: left;\">Int64</th><th title = \"Int64\" style = \"text-align: left;\">Int64</th><th title = \"Int64\" style = \"text-align: left;\">Int64</th><th title = \"Int64\" style = \"text-align: left;\">Int64</th><th title = \"Int64\" style = \"text-align: left;\">Int64</th><th title = \"Int64\" style = \"text-align: left;\">Int64</th><th title = \"Int64\" style = \"text-align: left;\">Int64</th><th title = \"Int64\" style = \"text-align: left;\">Int64</th><th title = \"Int64\" style = \"text-align: left;\">Int64</th><th title = \"Int64\" style = \"text-align: left;\">Int64</th><th title = \"Int64\" style = \"text-align: left;\">Int64</th><th title = \"Int64\" style = \"text-align: left;\">Int64</th><th title = \"Int64\" style = \"text-align: left;\">Int64</th><th title = \"Int64\" style = \"text-align: left;\">Int64</th><th title = \"Int64\" style = \"text-align: left;\">Int64</th><th title = \"Int64\" style = \"text-align: left;\">Int64</th><th title = \"Int64\" style = \"text-align: left;\">Int64</th><th title = \"Int64\" style = \"text-align: left;\">Int64</th><th title = \"Int64\" style = \"text-align: left;\">Int64</th><th title = \"Int64\" style = \"text-align: left;\">Int64</th><th title = \"Int64\" style = \"text-align: left;\">Int64</th><th title = \"Int64\" style = \"text-align: left;\">Int64</th><th title = \"Int64\" style = \"text-align: left;\">Int64</th><th title = \"Int64\" style = \"text-align: left;\">Int64</th><th title = \"Int64\" style = \"text-align: left;\">Int64</th><th title = \"Int64\" style = \"text-align: left;\">Int64</th><th title = \"Int64\" style = \"text-align: left;\">Int64</th><th title = \"Int64\" style = \"text-align: left;\">Int64</th><th title = \"Int64\" style = \"text-align: left;\">Int64</th><th title = \"Int64\" style = \"text-align: left;\">Int64</th><th title = \"Int64\" style = \"text-align: left;\">Int64</th><th title = \"Int64\" style = \"text-align: left;\">Int64</th><th title = \"Int64\" style = \"text-align: left;\">Int64</th><th title = \"Int64\" style = \"text-align: left;\">Int64</th><th title = \"Int64\" style = \"text-align: left;\">Int64</th><th title = \"Int64\" style = \"text-align: left;\">Int64</th><th title = \"Int64\" style = \"text-align: left;\">Int64</th><th title = \"Int64\" style = \"text-align: left;\">Int64</th><th title = \"Int64\" style = \"text-align: left;\">Int64</th><th title = \"Int64\" style = \"text-align: left;\">Int64</th><th title = \"Int64\" style = \"text-align: left;\">Int64</th><th title = \"Int64\" style = \"text-align: left;\">Int64</th><th title = \"Int64\" style = \"text-align: left;\">Int64</th><th title = \"Int64\" style = \"text-align: left;\">Int64</th><th title = \"Int64\" style = \"text-align: left;\">Int64</th><th title = \"Int64\" style = \"text-align: left;\">Int64</th><th title = \"Int64\" style = \"text-align: left;\">Int64</th><th title = \"Int64\" style = \"text-align: left;\">Int64</th><th title = \"Int64\" style = \"text-align: left;\">Int64</th><th title = \"Int64\" style = \"text-align: left;\">Int64</th><th title = \"Int64\" style = \"text-align: left;\">Int64</th><th title = \"Int64\" style = \"text-align: left;\">Int64</th><th title = \"Int64\" style = \"text-align: left;\">Int64</th><th title = \"Int64\" style = \"text-align: left;\">Int64</th><th title = \"Int64\" style = \"text-align: left;\">Int64</th><th title = \"Int64\" style = \"text-align: left;\">Int64</th><th title = \"Int64\" style = \"text-align: left;\">Int64</th><th title = \"Int64\" style = \"text-align: left;\">Int64</th><th title = \"Int64\" style = \"text-align: left;\">Int64</th><th title = \"Int64\" style = \"text-align: left;\">Int64</th><th title = \"Int64\" style = \"text-align: left;\">Int64</th><th title = \"Int64\" style = \"text-align: left;\">Int64</th><th title = \"Int64\" style = \"text-align: left;\">Int64</th><th title = \"Int64\" style = \"text-align: left;\">Int64</th><th title = \"Int64\" style = \"text-align: left;\">Int64</th><th title = \"Int64\" style = \"text-align: left;\">Int64</th><th title = \"Int64\" style = \"text-align: left;\">Int64</th><th title = \"Int64\" style = \"text-align: left;\">Int64</th><th title = \"Int64\" style = \"text-align: left;\">Int64</th><th title = \"Int64\" style = \"text-align: left;\">Int64</th><th title = \"Int64\" style = \"text-align: left;\">Int64</th><th title = \"Int64\" style = \"text-align: left;\">Int64</th><th title = \"Int64\" style = \"text-align: left;\">Int64</th><th title = \"Int64\" style = \"text-align: left;\">Int64</th><th title = \"Int64\" style = \"text-align: left;\">Int64</th><th title = \"Int64\" style = \"text-align: left;\">Int64</th><th title = \"Int64\" style = \"text-align: left;\">Int64</th><th title = \"Int64\" style = \"text-align: left;\">Int64</th><th title = \"Int64\" style = \"text-align: left;\">Int64</th><th title = \"Int64\" style = \"text-align: left;\">Int64</th><th title = \"Int64\" style = \"text-align: left;\">Int64</th><th title = \"Int64\" style = \"text-align: left;\">Int64</th><th title = \"Int64\" style = \"text-align: left;\">Int64</th><th title = \"Int64\" style = \"text-align: left;\">Int64</th><th title = \"Int64\" style = \"text-align: left;\">Int64</th><th title = \"Int64\" style = \"text-align: left;\">Int64</th><th title = \"Int64\" style = \"text-align: left;\">Int64</th><th title = \"Int64\" style = \"text-align: left;\">Int64</th><th title = \"Int64\" style = \"text-align: left;\">Int64</th><th title = \"Int64\" style = \"text-align: left;\">Int64</th><th title = \"Int64\" style = \"text-align: right;\">&ctdot;</th></tr></thead><tbody><tr><td class = \"rowNumber\" style = \"font-weight: bold; text-align: right;\">1</td><td style = \"text-align: right;\">10</td><td style = \"text-align: right;\">8</td><td style = \"text-align: right;\">3</td><td style = \"text-align: right;\">2</td><td style = \"text-align: right;\">7</td><td style = \"text-align: right;\">2</td><td style = \"text-align: right;\">2</td><td style = \"text-align: right;\">3</td><td style = \"text-align: right;\">6</td><td style = \"text-align: right;\">10</td><td style = \"text-align: right;\">5</td><td style = \"text-align: right;\">5</td><td style = \"text-align: right;\">7</td><td style = \"text-align: right;\">8</td><td style = \"text-align: right;\">3</td><td style = \"text-align: right;\">8</td><td style = \"text-align: right;\">9</td><td style = \"text-align: right;\">4</td><td style = \"text-align: right;\">3</td><td style = \"text-align: right;\">3</td><td style = \"text-align: right;\">6</td><td style = \"text-align: right;\">5</td><td style = \"text-align: right;\">6</td><td style = \"text-align: right;\">2</td><td style = \"text-align: right;\">7</td><td style = \"text-align: right;\">4</td><td style = \"text-align: right;\">7</td><td style = \"text-align: right;\">10</td><td style = \"text-align: right;\">9</td><td style = \"text-align: right;\">9</td><td style = \"text-align: right;\">3</td><td style = \"text-align: right;\">9</td><td style = \"text-align: right;\">8</td><td style = \"text-align: right;\">5</td><td style = \"text-align: right;\">10</td><td style = \"text-align: right;\">3</td><td style = \"text-align: right;\">3</td><td style = \"text-align: right;\">1</td><td style = \"text-align: right;\">3</td><td style = \"text-align: right;\">2</td><td style = \"text-align: right;\">9</td><td style = \"text-align: right;\">6</td><td style = \"text-align: right;\">10</td><td style = \"text-align: right;\">2</td><td style = \"text-align: right;\">10</td><td style = \"text-align: right;\">3</td><td style = \"text-align: right;\">4</td><td style = \"text-align: right;\">2</td><td style = \"text-align: right;\">8</td><td style = \"text-align: right;\">6</td><td style = \"text-align: right;\">4</td><td style = \"text-align: right;\">7</td><td style = \"text-align: right;\">4</td><td style = \"text-align: right;\">1</td><td style = \"text-align: right;\">2</td><td style = \"text-align: right;\">10</td><td style = \"text-align: right;\">8</td><td style = \"text-align: right;\">8</td><td style = \"text-align: right;\">3</td><td style = \"text-align: right;\">9</td><td style = \"text-align: right;\">6</td><td style = \"text-align: right;\">4</td><td style = \"text-align: right;\">8</td><td style = \"text-align: right;\">10</td><td style = \"text-align: right;\">7</td><td style = \"text-align: right;\">9</td><td style = \"text-align: right;\">5</td><td style = \"text-align: right;\">6</td><td style = \"text-align: right;\">10</td><td style = \"text-align: right;\">9</td><td style = \"text-align: right;\">3</td><td style = \"text-align: right;\">7</td><td style = \"text-align: right;\">9</td><td style = \"text-align: right;\">3</td><td style = \"text-align: right;\">8</td><td style = \"text-align: right;\">5</td><td style = \"text-align: right;\">4</td><td style = \"text-align: right;\">3</td><td style = \"text-align: right;\">4</td><td style = \"text-align: right;\">2</td><td style = \"text-align: right;\">1</td><td style = \"text-align: right;\">8</td><td style = \"text-align: right;\">7</td><td style = \"text-align: right;\">1</td><td style = \"text-align: right;\">9</td><td style = \"text-align: right;\">6</td><td style = \"text-align: right;\">7</td><td style = \"text-align: right;\">5</td><td style = \"text-align: right;\">9</td><td style = \"text-align: right;\">2</td><td style = \"text-align: right;\">1</td><td style = \"text-align: right;\">6</td><td style = \"text-align: right;\">5</td><td style = \"text-align: right;\">8</td><td style = \"text-align: right;\">2</td><td style = \"text-align: right;\">3</td><td style = \"text-align: right;\">5</td><td style = \"text-align: right;\">3</td><td style = \"text-align: right;\">5</td><td style = \"text-align: right;\">5</td><td style = \"text-align: right;\">&ctdot;</td></tr><tr><td class = \"rowNumber\" style = \"font-weight: bold; text-align: right;\">2</td><td style = \"text-align: right;\">9</td><td style = \"text-align: right;\">3</td><td style = \"text-align: right;\">9</td><td style = \"text-align: right;\">7</td><td style = \"text-align: right;\">2</td><td style = \"text-align: right;\">8</td><td style = \"text-align: right;\">1</td><td style = \"text-align: right;\">4</td><td style = \"text-align: right;\">8</td><td style = \"text-align: right;\">1</td><td style = \"text-align: right;\">4</td><td style = \"text-align: right;\">3</td><td style = \"text-align: right;\">8</td><td style = \"text-align: right;\">7</td><td style = \"text-align: right;\">8</td><td style = \"text-align: right;\">6</td><td style = \"text-align: right;\">10</td><td style = \"text-align: right;\">1</td><td style = \"text-align: right;\">8</td><td style = \"text-align: right;\">5</td><td style = \"text-align: right;\">9</td><td style = \"text-align: right;\">1</td><td style = \"text-align: right;\">8</td><td style = \"text-align: right;\">6</td><td style = \"text-align: right;\">9</td><td style = \"text-align: right;\">6</td><td style = \"text-align: right;\">4</td><td style = \"text-align: right;\">5</td><td style = \"text-align: right;\">1</td><td style = \"text-align: right;\">1</td><td style = \"text-align: right;\">7</td><td style = \"text-align: right;\">4</td><td style = \"text-align: right;\">8</td><td style = \"text-align: right;\">3</td><td style = \"text-align: right;\">9</td><td style = \"text-align: right;\">1</td><td style = \"text-align: right;\">1</td><td style = \"text-align: right;\">8</td><td style = \"text-align: right;\">4</td><td style = \"text-align: right;\">2</td><td style = \"text-align: right;\">4</td><td style = \"text-align: right;\">10</td><td style = \"text-align: right;\">3</td><td style = \"text-align: right;\">1</td><td style = \"text-align: right;\">7</td><td style = \"text-align: right;\">10</td><td style = \"text-align: right;\">9</td><td style = \"text-align: right;\">2</td><td style = \"text-align: right;\">9</td><td style = \"text-align: right;\">1</td><td style = \"text-align: right;\">1</td><td style = \"text-align: right;\">1</td><td style = \"text-align: right;\">2</td><td style = \"text-align: right;\">7</td><td style = \"text-align: right;\">9</td><td style = \"text-align: right;\">2</td><td style = \"text-align: right;\">4</td><td style = \"text-align: right;\">5</td><td style = \"text-align: right;\">7</td><td style = \"text-align: right;\">2</td><td style = \"text-align: right;\">9</td><td style = \"text-align: right;\">4</td><td style = \"text-align: right;\">4</td><td style = \"text-align: right;\">8</td><td style = \"text-align: right;\">1</td><td style = \"text-align: right;\">9</td><td style = \"text-align: right;\">5</td><td style = \"text-align: right;\">1</td><td style = \"text-align: right;\">6</td><td style = \"text-align: right;\">1</td><td style = \"text-align: right;\">7</td><td style = \"text-align: right;\">7</td><td style = \"text-align: right;\">4</td><td style = \"text-align: right;\">3</td><td style = \"text-align: right;\">4</td><td style = \"text-align: right;\">9</td><td style = \"text-align: right;\">8</td><td style = \"text-align: right;\">1</td><td style = \"text-align: right;\">7</td><td style = \"text-align: right;\">1</td><td style = \"text-align: right;\">10</td><td style = \"text-align: right;\">8</td><td style = \"text-align: right;\">5</td><td style = \"text-align: right;\">3</td><td style = \"text-align: right;\">8</td><td style = \"text-align: right;\">3</td><td style = \"text-align: right;\">8</td><td style = \"text-align: right;\">9</td><td style = \"text-align: right;\">3</td><td style = \"text-align: right;\">10</td><td style = \"text-align: right;\">6</td><td style = \"text-align: right;\">7</td><td style = \"text-align: right;\">9</td><td style = \"text-align: right;\">7</td><td style = \"text-align: right;\">5</td><td style = \"text-align: right;\">3</td><td style = \"text-align: right;\">2</td><td style = \"text-align: right;\">5</td><td style = \"text-align: right;\">10</td><td style = \"text-align: right;\">2</td><td style = \"text-align: right;\">&ctdot;</td></tr><tr><td class = \"rowNumber\" style = \"font-weight: bold; text-align: right;\">3</td><td style = \"text-align: right;\">8</td><td style = \"text-align: right;\">8</td><td style = \"text-align: right;\">9</td><td style = \"text-align: right;\">6</td><td style = \"text-align: right;\">10</td><td style = \"text-align: right;\">6</td><td style = \"text-align: right;\">1</td><td style = \"text-align: right;\">5</td><td style = \"text-align: right;\">3</td><td style = \"text-align: right;\">3</td><td style = \"text-align: right;\">4</td><td style = \"text-align: right;\">5</td><td style = \"text-align: right;\">9</td><td style = \"text-align: right;\">8</td><td style = \"text-align: right;\">1</td><td style = \"text-align: right;\">8</td><td style = \"text-align: right;\">6</td><td style = \"text-align: right;\">9</td><td style = \"text-align: right;\">3</td><td style = \"text-align: right;\">4</td><td style = \"text-align: right;\">6</td><td style = \"text-align: right;\">1</td><td style = \"text-align: right;\">5</td><td style = \"text-align: right;\">5</td><td style = \"text-align: right;\">10</td><td style = \"text-align: right;\">1</td><td style = \"text-align: right;\">5</td><td style = \"text-align: right;\">6</td><td style = \"text-align: right;\">3</td><td style = \"text-align: right;\">7</td><td style = \"text-align: right;\">6</td><td style = \"text-align: right;\">7</td><td style = \"text-align: right;\">4</td><td style = \"text-align: right;\">7</td><td style = \"text-align: right;\">8</td><td style = \"text-align: right;\">8</td><td style = \"text-align: right;\">1</td><td style = \"text-align: right;\">5</td><td style = \"text-align: right;\">7</td><td style = \"text-align: right;\">8</td><td style = \"text-align: right;\">3</td><td style = \"text-align: right;\">8</td><td style = \"text-align: right;\">7</td><td style = \"text-align: right;\">5</td><td style = \"text-align: right;\">2</td><td style = \"text-align: right;\">5</td><td style = \"text-align: right;\">10</td><td style = \"text-align: right;\">6</td><td style = \"text-align: right;\">3</td><td style = \"text-align: right;\">7</td><td style = \"text-align: right;\">6</td><td style = \"text-align: right;\">9</td><td style = \"text-align: right;\">1</td><td style = \"text-align: right;\">5</td><td style = \"text-align: right;\">5</td><td style = \"text-align: right;\">1</td><td style = \"text-align: right;\">5</td><td style = \"text-align: right;\">6</td><td style = \"text-align: right;\">1</td><td style = \"text-align: right;\">3</td><td style = \"text-align: right;\">8</td><td style = \"text-align: right;\">5</td><td style = \"text-align: right;\">9</td><td style = \"text-align: right;\">7</td><td style = \"text-align: right;\">9</td><td style = \"text-align: right;\">1</td><td style = \"text-align: right;\">5</td><td style = \"text-align: right;\">8</td><td style = \"text-align: right;\">3</td><td style = \"text-align: right;\">5</td><td style = \"text-align: right;\">7</td><td style = \"text-align: right;\">8</td><td style = \"text-align: right;\">9</td><td style = \"text-align: right;\">2</td><td style = \"text-align: right;\">1</td><td style = \"text-align: right;\">6</td><td style = \"text-align: right;\">6</td><td style = \"text-align: right;\">10</td><td style = \"text-align: right;\">1</td><td style = \"text-align: right;\">9</td><td style = \"text-align: right;\">2</td><td style = \"text-align: right;\">7</td><td style = \"text-align: right;\">3</td><td style = \"text-align: right;\">9</td><td style = \"text-align: right;\">5</td><td style = \"text-align: right;\">3</td><td style = \"text-align: right;\">9</td><td style = \"text-align: right;\">10</td><td style = \"text-align: right;\">10</td><td style = \"text-align: right;\">8</td><td style = \"text-align: right;\">5</td><td style = \"text-align: right;\">6</td><td style = \"text-align: right;\">1</td><td style = \"text-align: right;\">5</td><td style = \"text-align: right;\">5</td><td style = \"text-align: right;\">9</td><td style = \"text-align: right;\">6</td><td style = \"text-align: right;\">5</td><td style = \"text-align: right;\">5</td><td style = \"text-align: right;\">9</td><td style = \"text-align: right;\">&ctdot;</td></tr><tr><td class = \"rowNumber\" style = \"font-weight: bold; text-align: right;\">4</td><td style = \"text-align: right;\">9</td><td style = \"text-align: right;\">5</td><td style = \"text-align: right;\">7</td><td style = \"text-align: right;\">10</td><td style = \"text-align: right;\">4</td><td style = \"text-align: right;\">4</td><td style = \"text-align: right;\">1</td><td style = \"text-align: right;\">3</td><td style = \"text-align: right;\">9</td><td style = \"text-align: right;\">1</td><td style = \"text-align: right;\">2</td><td style = \"text-align: right;\">10</td><td style = \"text-align: right;\">1</td><td style = \"text-align: right;\">5</td><td style = \"text-align: right;\">9</td><td style = \"text-align: right;\">2</td><td style = \"text-align: right;\">1</td><td style = \"text-align: right;\">8</td><td style = \"text-align: right;\">4</td><td style = \"text-align: right;\">10</td><td style = \"text-align: right;\">10</td><td style = \"text-align: right;\">3</td><td style = \"text-align: right;\">6</td><td style = \"text-align: right;\">2</td><td style = \"text-align: right;\">6</td><td style = \"text-align: right;\">3</td><td style = \"text-align: right;\">3</td><td style = \"text-align: right;\">9</td><td style = \"text-align: right;\">9</td><td style = \"text-align: right;\">9</td><td style = \"text-align: right;\">2</td><td style = \"text-align: right;\">2</td><td style = \"text-align: right;\">6</td><td style = \"text-align: right;\">2</td><td style = \"text-align: right;\">3</td><td style = \"text-align: right;\">9</td><td style = \"text-align: right;\">6</td><td style = \"text-align: right;\">4</td><td style = \"text-align: right;\">6</td><td style = \"text-align: right;\">8</td><td style = \"text-align: right;\">5</td><td style = \"text-align: right;\">3</td><td style = \"text-align: right;\">9</td><td style = \"text-align: right;\">3</td><td style = \"text-align: right;\">2</td><td style = \"text-align: right;\">5</td><td style = \"text-align: right;\">6</td><td style = \"text-align: right;\">7</td><td style = \"text-align: right;\">3</td><td style = \"text-align: right;\">1</td><td style = \"text-align: right;\">1</td><td style = \"text-align: right;\">5</td><td style = \"text-align: right;\">2</td><td style = \"text-align: right;\">9</td><td style = \"text-align: right;\">5</td><td style = \"text-align: right;\">9</td><td style = \"text-align: right;\">7</td><td style = \"text-align: right;\">2</td><td style = \"text-align: right;\">6</td><td style = \"text-align: right;\">10</td><td style = \"text-align: right;\">1</td><td style = \"text-align: right;\">9</td><td style = \"text-align: right;\">7</td><td style = \"text-align: right;\">2</td><td style = \"text-align: right;\">8</td><td style = \"text-align: right;\">5</td><td style = \"text-align: right;\">9</td><td style = \"text-align: right;\">1</td><td style = \"text-align: right;\">10</td><td style = \"text-align: right;\">2</td><td style = \"text-align: right;\">2</td><td style = \"text-align: right;\">7</td><td style = \"text-align: right;\">6</td><td style = \"text-align: right;\">1</td><td style = \"text-align: right;\">4</td><td style = \"text-align: right;\">7</td><td style = \"text-align: right;\">2</td><td style = \"text-align: right;\">4</td><td style = \"text-align: right;\">10</td><td style = \"text-align: right;\">8</td><td style = \"text-align: right;\">5</td><td style = \"text-align: right;\">3</td><td style = \"text-align: right;\">2</td><td style = \"text-align: right;\">9</td><td style = \"text-align: right;\">3</td><td style = \"text-align: right;\">4</td><td style = \"text-align: right;\">2</td><td style = \"text-align: right;\">7</td><td style = \"text-align: right;\">5</td><td style = \"text-align: right;\">5</td><td style = \"text-align: right;\">6</td><td style = \"text-align: right;\">9</td><td style = \"text-align: right;\">8</td><td style = \"text-align: right;\">4</td><td style = \"text-align: right;\">1</td><td style = \"text-align: right;\">8</td><td style = \"text-align: right;\">4</td><td style = \"text-align: right;\">4</td><td style = \"text-align: right;\">4</td><td style = \"text-align: right;\">7</td><td style = \"text-align: right;\">&ctdot;</td></tr><tr><td class = \"rowNumber\" style = \"font-weight: bold; text-align: right;\">5</td><td style = \"text-align: right;\">5</td><td style = \"text-align: right;\">3</td><td style = \"text-align: right;\">3</td><td style = \"text-align: right;\">6</td><td style = \"text-align: right;\">2</td><td style = \"text-align: right;\">4</td><td style = \"text-align: right;\">4</td><td style = \"text-align: right;\">4</td><td style = \"text-align: right;\">1</td><td style = \"text-align: right;\">4</td><td style = \"text-align: right;\">4</td><td style = \"text-align: right;\">8</td><td style = \"text-align: right;\">4</td><td style = \"text-align: right;\">7</td><td style = \"text-align: right;\">10</td><td style = \"text-align: right;\">3</td><td style = \"text-align: right;\">4</td><td style = \"text-align: right;\">1</td><td style = \"text-align: right;\">8</td><td style = \"text-align: right;\">5</td><td style = \"text-align: right;\">6</td><td style = \"text-align: right;\">2</td><td style = \"text-align: right;\">10</td><td style = \"text-align: right;\">5</td><td style = \"text-align: right;\">7</td><td style = \"text-align: right;\">4</td><td style = \"text-align: right;\">5</td><td style = \"text-align: right;\">7</td><td style = \"text-align: right;\">5</td><td style = \"text-align: right;\">2</td><td style = \"text-align: right;\">4</td><td style = \"text-align: right;\">6</td><td style = \"text-align: right;\">10</td><td style = \"text-align: right;\">5</td><td style = \"text-align: right;\">5</td><td style = \"text-align: right;\">2</td><td style = \"text-align: right;\">4</td><td style = \"text-align: right;\">6</td><td style = \"text-align: right;\">10</td><td style = \"text-align: right;\">7</td><td style = \"text-align: right;\">4</td><td style = \"text-align: right;\">2</td><td style = \"text-align: right;\">8</td><td style = \"text-align: right;\">10</td><td style = \"text-align: right;\">9</td><td style = \"text-align: right;\">7</td><td style = \"text-align: right;\">10</td><td style = \"text-align: right;\">3</td><td style = \"text-align: right;\">6</td><td style = \"text-align: right;\">3</td><td style = \"text-align: right;\">5</td><td style = \"text-align: right;\">4</td><td style = \"text-align: right;\">6</td><td style = \"text-align: right;\">4</td><td style = \"text-align: right;\">5</td><td style = \"text-align: right;\">6</td><td style = \"text-align: right;\">4</td><td style = \"text-align: right;\">7</td><td style = \"text-align: right;\">1</td><td style = \"text-align: right;\">3</td><td style = \"text-align: right;\">2</td><td style = \"text-align: right;\">2</td><td style = \"text-align: right;\">7</td><td style = \"text-align: right;\">10</td><td style = \"text-align: right;\">9</td><td style = \"text-align: right;\">6</td><td style = \"text-align: right;\">7</td><td style = \"text-align: right;\">7</td><td style = \"text-align: right;\">10</td><td style = \"text-align: right;\">5</td><td style = \"text-align: right;\">3</td><td style = \"text-align: right;\">1</td><td style = \"text-align: right;\">3</td><td style = \"text-align: right;\">8</td><td style = \"text-align: right;\">7</td><td style = \"text-align: right;\">2</td><td style = \"text-align: right;\">7</td><td style = \"text-align: right;\">5</td><td style = \"text-align: right;\">10</td><td style = \"text-align: right;\">4</td><td style = \"text-align: right;\">9</td><td style = \"text-align: right;\">1</td><td style = \"text-align: right;\">5</td><td style = \"text-align: right;\">7</td><td style = \"text-align: right;\">2</td><td style = \"text-align: right;\">5</td><td style = \"text-align: right;\">6</td><td style = \"text-align: right;\">6</td><td style = \"text-align: right;\">2</td><td style = \"text-align: right;\">1</td><td style = \"text-align: right;\">2</td><td style = \"text-align: right;\">6</td><td style = \"text-align: right;\">5</td><td style = \"text-align: right;\">10</td><td style = \"text-align: right;\">2</td><td style = \"text-align: right;\">3</td><td style = \"text-align: right;\">7</td><td style = \"text-align: right;\">10</td><td style = \"text-align: right;\">5</td><td style = \"text-align: right;\">8</td><td style = \"text-align: right;\">&ctdot;</td></tr><tr><td class = \"rowNumber\" style = \"font-weight: bold; text-align: right;\">6</td><td style = \"text-align: right;\">8</td><td style = \"text-align: right;\">4</td><td style = \"text-align: right;\">5</td><td style = \"text-align: right;\">9</td><td style = \"text-align: right;\">1</td><td style = \"text-align: right;\">7</td><td style = \"text-align: right;\">4</td><td style = \"text-align: right;\">2</td><td style = \"text-align: right;\">4</td><td style = \"text-align: right;\">4</td><td style = \"text-align: right;\">1</td><td style = \"text-align: right;\">8</td><td style = \"text-align: right;\">4</td><td style = \"text-align: right;\">6</td><td style = \"text-align: right;\">3</td><td style = \"text-align: right;\">3</td><td style = \"text-align: right;\">10</td><td style = \"text-align: right;\">6</td><td style = \"text-align: right;\">5</td><td style = \"text-align: right;\">9</td><td style = \"text-align: right;\">10</td><td style = \"text-align: right;\">7</td><td style = \"text-align: right;\">8</td><td style = \"text-align: right;\">8</td><td style = \"text-align: right;\">5</td><td style = \"text-align: right;\">6</td><td style = \"text-align: right;\">10</td><td style = \"text-align: right;\">5</td><td style = \"text-align: right;\">6</td><td style = \"text-align: right;\">1</td><td style = \"text-align: right;\">5</td><td style = \"text-align: right;\">10</td><td style = \"text-align: right;\">9</td><td style = \"text-align: right;\">7</td><td style = \"text-align: right;\">8</td><td style = \"text-align: right;\">6</td><td style = \"text-align: right;\">3</td><td style = \"text-align: right;\">5</td><td style = \"text-align: right;\">10</td><td style = \"text-align: right;\">6</td><td style = \"text-align: right;\">1</td><td style = \"text-align: right;\">2</td><td style = \"text-align: right;\">2</td><td style = \"text-align: right;\">3</td><td style = \"text-align: right;\">9</td><td style = \"text-align: right;\">1</td><td style = \"text-align: right;\">5</td><td style = \"text-align: right;\">3</td><td style = \"text-align: right;\">1</td><td style = \"text-align: right;\">9</td><td style = \"text-align: right;\">10</td><td style = \"text-align: right;\">6</td><td style = \"text-align: right;\">1</td><td style = \"text-align: right;\">2</td><td style = \"text-align: right;\">8</td><td style = \"text-align: right;\">2</td><td style = \"text-align: right;\">10</td><td style = \"text-align: right;\">7</td><td style = \"text-align: right;\">7</td><td style = \"text-align: right;\">2</td><td style = \"text-align: right;\">6</td><td style = \"text-align: right;\">3</td><td style = \"text-align: right;\">2</td><td style = \"text-align: right;\">4</td><td style = \"text-align: right;\">9</td><td style = \"text-align: right;\">4</td><td style = \"text-align: right;\">5</td><td style = \"text-align: right;\">2</td><td style = \"text-align: right;\">2</td><td style = \"text-align: right;\">7</td><td style = \"text-align: right;\">2</td><td style = \"text-align: right;\">4</td><td style = \"text-align: right;\">10</td><td style = \"text-align: right;\">6</td><td style = \"text-align: right;\">9</td><td style = \"text-align: right;\">6</td><td style = \"text-align: right;\">8</td><td style = \"text-align: right;\">1</td><td style = \"text-align: right;\">8</td><td style = \"text-align: right;\">6</td><td style = \"text-align: right;\">7</td><td style = \"text-align: right;\">6</td><td style = \"text-align: right;\">6</td><td style = \"text-align: right;\">4</td><td style = \"text-align: right;\">2</td><td style = \"text-align: right;\">3</td><td style = \"text-align: right;\">7</td><td style = \"text-align: right;\">10</td><td style = \"text-align: right;\">10</td><td style = \"text-align: right;\">8</td><td style = \"text-align: right;\">5</td><td style = \"text-align: right;\">2</td><td style = \"text-align: right;\">9</td><td style = \"text-align: right;\">5</td><td style = \"text-align: right;\">7</td><td style = \"text-align: right;\">9</td><td style = \"text-align: right;\">4</td><td style = \"text-align: right;\">8</td><td style = \"text-align: right;\">8</td><td style = \"text-align: right;\">3</td><td style = \"text-align: right;\">&ctdot;</td></tr><tr><td class = \"rowNumber\" style = \"font-weight: bold; text-align: right;\">7</td><td style = \"text-align: right;\">7</td><td style = \"text-align: right;\">2</td><td style = \"text-align: right;\">10</td><td style = \"text-align: right;\">2</td><td style = \"text-align: right;\">10</td><td style = \"text-align: right;\">4</td><td style = \"text-align: right;\">8</td><td style = \"text-align: right;\">6</td><td style = \"text-align: right;\">9</td><td style = \"text-align: right;\">2</td><td style = \"text-align: right;\">4</td><td style = \"text-align: right;\">6</td><td style = \"text-align: right;\">9</td><td style = \"text-align: right;\">3</td><td style = \"text-align: right;\">9</td><td style = \"text-align: right;\">2</td><td style = \"text-align: right;\">8</td><td style = \"text-align: right;\">3</td><td style = \"text-align: right;\">1</td><td style = \"text-align: right;\">1</td><td style = \"text-align: right;\">6</td><td style = \"text-align: right;\">10</td><td style = \"text-align: right;\">8</td><td style = \"text-align: right;\">5</td><td style = \"text-align: right;\">8</td><td style = \"text-align: right;\">5</td><td style = \"text-align: right;\">7</td><td style = \"text-align: right;\">9</td><td style = \"text-align: right;\">8</td><td style = \"text-align: right;\">5</td><td style = \"text-align: right;\">10</td><td style = \"text-align: right;\">4</td><td style = \"text-align: right;\">8</td><td style = \"text-align: right;\">5</td><td style = \"text-align: right;\">1</td><td style = \"text-align: right;\">2</td><td style = \"text-align: right;\">7</td><td style = \"text-align: right;\">4</td><td style = \"text-align: right;\">5</td><td style = \"text-align: right;\">7</td><td style = \"text-align: right;\">10</td><td style = \"text-align: right;\">3</td><td style = \"text-align: right;\">6</td><td style = \"text-align: right;\">10</td><td style = \"text-align: right;\">10</td><td style = \"text-align: right;\">10</td><td style = \"text-align: right;\">2</td><td style = \"text-align: right;\">9</td><td style = \"text-align: right;\">1</td><td style = \"text-align: right;\">10</td><td style = \"text-align: right;\">8</td><td style = \"text-align: right;\">7</td><td style = \"text-align: right;\">2</td><td style = \"text-align: right;\">9</td><td style = \"text-align: right;\">7</td><td style = \"text-align: right;\">10</td><td style = \"text-align: right;\">2</td><td style = \"text-align: right;\">2</td><td style = \"text-align: right;\">4</td><td style = \"text-align: right;\">8</td><td style = \"text-align: right;\">8</td><td style = \"text-align: right;\">2</td><td style = \"text-align: right;\">4</td><td style = \"text-align: right;\">8</td><td style = \"text-align: right;\">4</td><td style = \"text-align: right;\">7</td><td style = \"text-align: right;\">3</td><td style = \"text-align: right;\">2</td><td style = \"text-align: right;\">4</td><td style = \"text-align: right;\">4</td><td style = \"text-align: right;\">6</td><td style = \"text-align: right;\">10</td><td style = \"text-align: right;\">7</td><td style = \"text-align: right;\">8</td><td style = \"text-align: right;\">2</td><td style = \"text-align: right;\">6</td><td style = \"text-align: right;\">3</td><td style = \"text-align: right;\">1</td><td style = \"text-align: right;\">4</td><td style = \"text-align: right;\">6</td><td style = \"text-align: right;\">9</td><td style = \"text-align: right;\">3</td><td style = \"text-align: right;\">8</td><td style = \"text-align: right;\">10</td><td style = \"text-align: right;\">3</td><td style = \"text-align: right;\">7</td><td style = \"text-align: right;\">2</td><td style = \"text-align: right;\">7</td><td style = \"text-align: right;\">6</td><td style = \"text-align: right;\">3</td><td style = \"text-align: right;\">10</td><td style = \"text-align: right;\">9</td><td style = \"text-align: right;\">6</td><td style = \"text-align: right;\">2</td><td style = \"text-align: right;\">4</td><td style = \"text-align: right;\">9</td><td style = \"text-align: right;\">8</td><td style = \"text-align: right;\">8</td><td style = \"text-align: right;\">10</td><td style = \"text-align: right;\">4</td><td style = \"text-align: right;\">&ctdot;</td></tr><tr><td class = \"rowNumber\" style = \"font-weight: bold; text-align: right;\">8</td><td style = \"text-align: right;\">7</td><td style = \"text-align: right;\">8</td><td style = \"text-align: right;\">1</td><td style = \"text-align: right;\">8</td><td style = \"text-align: right;\">1</td><td style = \"text-align: right;\">8</td><td style = \"text-align: right;\">2</td><td style = \"text-align: right;\">7</td><td style = \"text-align: right;\">6</td><td style = \"text-align: right;\">8</td><td style = \"text-align: right;\">7</td><td style = \"text-align: right;\">3</td><td style = \"text-align: right;\">6</td><td style = \"text-align: right;\">8</td><td style = \"text-align: right;\">7</td><td style = \"text-align: right;\">3</td><td style = \"text-align: right;\">5</td><td style = \"text-align: right;\">1</td><td style = \"text-align: right;\">9</td><td style = \"text-align: right;\">4</td><td style = \"text-align: right;\">6</td><td style = \"text-align: right;\">9</td><td style = \"text-align: right;\">6</td><td style = \"text-align: right;\">3</td><td style = \"text-align: right;\">3</td><td style = \"text-align: right;\">9</td><td style = \"text-align: right;\">10</td><td style = \"text-align: right;\">4</td><td style = \"text-align: right;\">3</td><td style = \"text-align: right;\">8</td><td style = \"text-align: right;\">1</td><td style = \"text-align: right;\">2</td><td style = \"text-align: right;\">10</td><td style = \"text-align: right;\">8</td><td style = \"text-align: right;\">10</td><td style = \"text-align: right;\">10</td><td style = \"text-align: right;\">10</td><td style = \"text-align: right;\">1</td><td style = \"text-align: right;\">1</td><td style = \"text-align: right;\">2</td><td style = \"text-align: right;\">2</td><td style = \"text-align: right;\">1</td><td style = \"text-align: right;\">4</td><td style = \"text-align: right;\">4</td><td style = \"text-align: right;\">5</td><td style = \"text-align: right;\">1</td><td style = \"text-align: right;\">7</td><td style = \"text-align: right;\">6</td><td style = \"text-align: right;\">5</td><td style = \"text-align: right;\">3</td><td style = \"text-align: right;\">9</td><td style = \"text-align: right;\">2</td><td style = \"text-align: right;\">6</td><td style = \"text-align: right;\">3</td><td style = \"text-align: right;\">8</td><td style = \"text-align: right;\">4</td><td style = \"text-align: right;\">8</td><td style = \"text-align: right;\">6</td><td style = \"text-align: right;\">7</td><td style = \"text-align: right;\">10</td><td style = \"text-align: right;\">4</td><td style = \"text-align: right;\">6</td><td style = \"text-align: right;\">4</td><td style = \"text-align: right;\">8</td><td style = \"text-align: right;\">1</td><td style = \"text-align: right;\">1</td><td style = \"text-align: right;\">5</td><td style = \"text-align: right;\">4</td><td style = \"text-align: right;\">10</td><td style = \"text-align: right;\">8</td><td style = \"text-align: right;\">1</td><td style = \"text-align: right;\">1</td><td style = \"text-align: right;\">5</td><td style = \"text-align: right;\">4</td><td style = \"text-align: right;\">1</td><td style = \"text-align: right;\">10</td><td style = \"text-align: right;\">7</td><td style = \"text-align: right;\">5</td><td style = \"text-align: right;\">2</td><td style = \"text-align: right;\">7</td><td style = \"text-align: right;\">9</td><td style = \"text-align: right;\">1</td><td style = \"text-align: right;\">9</td><td style = \"text-align: right;\">1</td><td style = \"text-align: right;\">2</td><td style = \"text-align: right;\">7</td><td style = \"text-align: right;\">2</td><td style = \"text-align: right;\">3</td><td style = \"text-align: right;\">5</td><td style = \"text-align: right;\">1</td><td style = \"text-align: right;\">5</td><td style = \"text-align: right;\">9</td><td style = \"text-align: right;\">6</td><td style = \"text-align: right;\">10</td><td style = \"text-align: right;\">7</td><td style = \"text-align: right;\">9</td><td style = \"text-align: right;\">6</td><td style = \"text-align: right;\">1</td><td style = \"text-align: right;\">3</td><td style = \"text-align: right;\">10</td><td style = \"text-align: right;\">&ctdot;</td></tr><tr><td class = \"rowNumber\" style = \"font-weight: bold; text-align: right;\">9</td><td style = \"text-align: right;\">2</td><td style = \"text-align: right;\">5</td><td style = \"text-align: right;\">10</td><td style = \"text-align: right;\">5</td><td style = \"text-align: right;\">7</td><td style = \"text-align: right;\">2</td><td style = \"text-align: right;\">7</td><td style = \"text-align: right;\">5</td><td style = \"text-align: right;\">5</td><td style = \"text-align: right;\">10</td><td style = \"text-align: right;\">9</td><td style = \"text-align: right;\">7</td><td style = \"text-align: right;\">7</td><td style = \"text-align: right;\">10</td><td style = \"text-align: right;\">4</td><td style = \"text-align: right;\">6</td><td style = \"text-align: right;\">1</td><td style = \"text-align: right;\">7</td><td style = \"text-align: right;\">4</td><td style = \"text-align: right;\">9</td><td style = \"text-align: right;\">8</td><td style = \"text-align: right;\">8</td><td style = \"text-align: right;\">6</td><td style = \"text-align: right;\">1</td><td style = \"text-align: right;\">9</td><td style = \"text-align: right;\">3</td><td style = \"text-align: right;\">3</td><td style = \"text-align: right;\">10</td><td style = \"text-align: right;\">2</td><td style = \"text-align: right;\">4</td><td style = \"text-align: right;\">8</td><td style = \"text-align: right;\">1</td><td style = \"text-align: right;\">3</td><td style = \"text-align: right;\">9</td><td style = \"text-align: right;\">8</td><td style = \"text-align: right;\">6</td><td style = \"text-align: right;\">2</td><td style = \"text-align: right;\">7</td><td style = \"text-align: right;\">10</td><td style = \"text-align: right;\">10</td><td style = \"text-align: right;\">1</td><td style = \"text-align: right;\">1</td><td style = \"text-align: right;\">7</td><td style = \"text-align: right;\">4</td><td style = \"text-align: right;\">4</td><td style = \"text-align: right;\">7</td><td style = \"text-align: right;\">3</td><td style = \"text-align: right;\">4</td><td style = \"text-align: right;\">6</td><td style = \"text-align: right;\">2</td><td style = \"text-align: right;\">9</td><td style = \"text-align: right;\">8</td><td style = \"text-align: right;\">3</td><td style = \"text-align: right;\">3</td><td style = \"text-align: right;\">4</td><td style = \"text-align: right;\">7</td><td style = \"text-align: right;\">8</td><td style = \"text-align: right;\">3</td><td style = \"text-align: right;\">6</td><td style = \"text-align: right;\">8</td><td style = \"text-align: right;\">2</td><td style = \"text-align: right;\">2</td><td style = \"text-align: right;\">1</td><td style = \"text-align: right;\">2</td><td style = \"text-align: right;\">2</td><td style = \"text-align: right;\">9</td><td style = \"text-align: right;\">1</td><td style = \"text-align: right;\">9</td><td style = \"text-align: right;\">10</td><td style = \"text-align: right;\">10</td><td style = \"text-align: right;\">8</td><td style = \"text-align: right;\">8</td><td style = \"text-align: right;\">8</td><td style = \"text-align: right;\">3</td><td style = \"text-align: right;\">5</td><td style = \"text-align: right;\">5</td><td style = \"text-align: right;\">5</td><td style = \"text-align: right;\">2</td><td style = \"text-align: right;\">10</td><td style = \"text-align: right;\">7</td><td style = \"text-align: right;\">5</td><td style = \"text-align: right;\">3</td><td style = \"text-align: right;\">9</td><td style = \"text-align: right;\">2</td><td style = \"text-align: right;\">9</td><td style = \"text-align: right;\">5</td><td style = \"text-align: right;\">9</td><td style = \"text-align: right;\">7</td><td style = \"text-align: right;\">1</td><td style = \"text-align: right;\">3</td><td style = \"text-align: right;\">3</td><td style = \"text-align: right;\">7</td><td style = \"text-align: right;\">7</td><td style = \"text-align: right;\">9</td><td style = \"text-align: right;\">8</td><td style = \"text-align: right;\">8</td><td style = \"text-align: right;\">6</td><td style = \"text-align: right;\">7</td><td style = \"text-align: right;\">2</td><td style = \"text-align: right;\">8</td><td style = \"text-align: right;\">&ctdot;</td></tr><tr><td class = \"rowNumber\" style = \"font-weight: bold; text-align: right;\">10</td><td style = \"text-align: right;\">4</td><td style = \"text-align: right;\">2</td><td style = \"text-align: right;\">7</td><td style = \"text-align: right;\">2</td><td style = \"text-align: right;\">4</td><td style = \"text-align: right;\">4</td><td style = \"text-align: right;\">5</td><td style = \"text-align: right;\">4</td><td style = \"text-align: right;\">5</td><td style = \"text-align: right;\">8</td><td style = \"text-align: right;\">2</td><td style = \"text-align: right;\">6</td><td style = \"text-align: right;\">7</td><td style = \"text-align: right;\">3</td><td style = \"text-align: right;\">9</td><td style = \"text-align: right;\">5</td><td style = \"text-align: right;\">3</td><td style = \"text-align: right;\">1</td><td style = \"text-align: right;\">5</td><td style = \"text-align: right;\">4</td><td style = \"text-align: right;\">2</td><td style = \"text-align: right;\">4</td><td style = \"text-align: right;\">6</td><td style = \"text-align: right;\">10</td><td style = \"text-align: right;\">9</td><td style = \"text-align: right;\">6</td><td style = \"text-align: right;\">2</td><td style = \"text-align: right;\">3</td><td style = \"text-align: right;\">2</td><td style = \"text-align: right;\">2</td><td style = \"text-align: right;\">9</td><td style = \"text-align: right;\">10</td><td style = \"text-align: right;\">3</td><td style = \"text-align: right;\">4</td><td style = \"text-align: right;\">5</td><td style = \"text-align: right;\">8</td><td style = \"text-align: right;\">8</td><td style = \"text-align: right;\">4</td><td style = \"text-align: right;\">6</td><td style = \"text-align: right;\">2</td><td style = \"text-align: right;\">6</td><td style = \"text-align: right;\">9</td><td style = \"text-align: right;\">4</td><td style = \"text-align: right;\">6</td><td style = \"text-align: right;\">3</td><td style = \"text-align: right;\">4</td><td style = \"text-align: right;\">8</td><td style = \"text-align: right;\">9</td><td style = \"text-align: right;\">1</td><td style = \"text-align: right;\">4</td><td style = \"text-align: right;\">10</td><td style = \"text-align: right;\">4</td><td style = \"text-align: right;\">2</td><td style = \"text-align: right;\">10</td><td style = \"text-align: right;\">10</td><td style = \"text-align: right;\">4</td><td style = \"text-align: right;\">3</td><td style = \"text-align: right;\">7</td><td style = \"text-align: right;\">9</td><td style = \"text-align: right;\">7</td><td style = \"text-align: right;\">8</td><td style = \"text-align: right;\">1</td><td style = \"text-align: right;\">7</td><td style = \"text-align: right;\">4</td><td style = \"text-align: right;\">3</td><td style = \"text-align: right;\">1</td><td style = \"text-align: right;\">3</td><td style = \"text-align: right;\">7</td><td style = \"text-align: right;\">2</td><td style = \"text-align: right;\">3</td><td style = \"text-align: right;\">10</td><td style = \"text-align: right;\">1</td><td style = \"text-align: right;\">10</td><td style = \"text-align: right;\">10</td><td style = \"text-align: right;\">9</td><td style = \"text-align: right;\">1</td><td style = \"text-align: right;\">9</td><td style = \"text-align: right;\">4</td><td style = \"text-align: right;\">4</td><td style = \"text-align: right;\">9</td><td style = \"text-align: right;\">3</td><td style = \"text-align: right;\">1</td><td style = \"text-align: right;\">7</td><td style = \"text-align: right;\">2</td><td style = \"text-align: right;\">9</td><td style = \"text-align: right;\">5</td><td style = \"text-align: right;\">2</td><td style = \"text-align: right;\">5</td><td style = \"text-align: right;\">7</td><td style = \"text-align: right;\">2</td><td style = \"text-align: right;\">6</td><td style = \"text-align: right;\">10</td><td style = \"text-align: right;\">10</td><td style = \"text-align: right;\">3</td><td style = \"text-align: right;\">10</td><td style = \"text-align: right;\">9</td><td style = \"text-align: right;\">7</td><td style = \"text-align: right;\">1</td><td style = \"text-align: right;\">4</td><td style = \"text-align: right;\">10</td><td style = \"text-align: right;\">&ctdot;</td></tr></tbody></table></div>"
      ],
      "text/latex": [
       "\\begin{tabular}{r|ccccccccccccc}\n",
       "\t& x1 & x2 & x3 & x4 & x5 & x6 & x7 & x8 & x9 & x10 & x11 & x12 & \\\\\n",
       "\t\\hline\n",
       "\t& Int64 & Int64 & Int64 & Int64 & Int64 & Int64 & Int64 & Int64 & Int64 & Int64 & Int64 & Int64 & \\\\\n",
       "\t\\hline\n",
       "\t1 & 10 & 8 & 3 & 2 & 7 & 2 & 2 & 3 & 6 & 10 & 5 & 5 & $\\dots$ \\\\\n",
       "\t2 & 9 & 3 & 9 & 7 & 2 & 8 & 1 & 4 & 8 & 1 & 4 & 3 & $\\dots$ \\\\\n",
       "\t3 & 8 & 8 & 9 & 6 & 10 & 6 & 1 & 5 & 3 & 3 & 4 & 5 & $\\dots$ \\\\\n",
       "\t4 & 9 & 5 & 7 & 10 & 4 & 4 & 1 & 3 & 9 & 1 & 2 & 10 & $\\dots$ \\\\\n",
       "\t5 & 5 & 3 & 3 & 6 & 2 & 4 & 4 & 4 & 1 & 4 & 4 & 8 & $\\dots$ \\\\\n",
       "\t6 & 8 & 4 & 5 & 9 & 1 & 7 & 4 & 2 & 4 & 4 & 1 & 8 & $\\dots$ \\\\\n",
       "\t7 & 7 & 2 & 10 & 2 & 10 & 4 & 8 & 6 & 9 & 2 & 4 & 6 & $\\dots$ \\\\\n",
       "\t8 & 7 & 8 & 1 & 8 & 1 & 8 & 2 & 7 & 6 & 8 & 7 & 3 & $\\dots$ \\\\\n",
       "\t9 & 2 & 5 & 10 & 5 & 7 & 2 & 7 & 5 & 5 & 10 & 9 & 7 & $\\dots$ \\\\\n",
       "\t10 & 4 & 2 & 7 & 2 & 4 & 4 & 5 & 4 & 5 & 8 & 2 & 6 & $\\dots$ \\\\\n",
       "\\end{tabular}\n"
      ],
      "text/plain": [
       "\u001b[1m10×1000 DataFrame\u001b[0m\n",
       "\u001b[1m Row \u001b[0m│\u001b[1m x1    \u001b[0m\u001b[1m x2    \u001b[0m\u001b[1m x3    \u001b[0m\u001b[1m x4    \u001b[0m\u001b[1m x5    \u001b[0m\u001b[1m x6    \u001b[0m\u001b[1m x7    \u001b[0m\u001b[1m x8    \u001b[0m\u001b[1m x9    \u001b[0m\u001b[1m x10   \u001b[0m\u001b[1m x\u001b[0m ⋯\n",
       "     │\u001b[90m Int64 \u001b[0m\u001b[90m Int64 \u001b[0m\u001b[90m Int64 \u001b[0m\u001b[90m Int64 \u001b[0m\u001b[90m Int64 \u001b[0m\u001b[90m Int64 \u001b[0m\u001b[90m Int64 \u001b[0m\u001b[90m Int64 \u001b[0m\u001b[90m Int64 \u001b[0m\u001b[90m Int64 \u001b[0m\u001b[90m I\u001b[0m ⋯\n",
       "─────┼──────────────────────────────────────────────────────────────────────────\n",
       "   1 │    10      8      3      2      7      2      2      3      6     10    ⋯\n",
       "   2 │     9      3      9      7      2      8      1      4      8      1\n",
       "   3 │     8      8      9      6     10      6      1      5      3      3\n",
       "   4 │     9      5      7     10      4      4      1      3      9      1\n",
       "   5 │     5      3      3      6      2      4      4      4      1      4    ⋯\n",
       "   6 │     8      4      5      9      1      7      4      2      4      4\n",
       "   7 │     7      2     10      2     10      4      8      6      9      2\n",
       "   8 │     7      8      1      8      1      8      2      7      6      8\n",
       "   9 │     2      5     10      5      7      2      7      5      5     10    ⋯\n",
       "  10 │     4      2      7      2      4      4      5      4      5      8\n",
       "\u001b[36m                                                             990 columns omitted\u001b[0m"
      ]
     },
     "execution_count": 44,
     "metadata": {},
     "output_type": "execute_result"
    }
   ],
   "source": [
    "df = DataFrame(rand(1:10, 10, 1000), :auto)"
   ]
  },
  {
   "cell_type": "code",
   "execution_count": 45,
   "metadata": {},
   "outputs": [],
   "source": [
    "# GzipCompressorStream comes from CodecZlib\n",
    "\n",
    "open(\"df_compress_test.csv.gz\", \"w\") do io\n",
    "    stream = GzipCompressorStream(io)\n",
    "    CSV.write(stream, df)\n",
    "    close(stream)\n",
    "end"
   ]
  },
  {
   "cell_type": "code",
   "execution_count": 46,
   "metadata": {},
   "outputs": [
    {
     "data": {
      "text/html": [
       "<div><div style = \"float: left;\"><span>10×1000 DataFrame</span></div><div style = \"float: right;\"><span style = \"font-style: italic;\">900 columns omitted</span></div><div style = \"clear: both;\"></div></div><div class = \"data-frame\" style = \"overflow-x: scroll;\"><table class = \"data-frame\" style = \"margin-bottom: 6px;\"><thead><tr class = \"header\"><th class = \"rowNumber\" style = \"font-weight: bold; text-align: right;\">Row</th><th style = \"text-align: left;\">x1</th><th style = \"text-align: left;\">x2</th><th style = \"text-align: left;\">x3</th><th style = \"text-align: left;\">x4</th><th style = \"text-align: left;\">x5</th><th style = \"text-align: left;\">x6</th><th style = \"text-align: left;\">x7</th><th style = \"text-align: left;\">x8</th><th style = \"text-align: left;\">x9</th><th style = \"text-align: left;\">x10</th><th style = \"text-align: left;\">x11</th><th style = \"text-align: left;\">x12</th><th style = \"text-align: left;\">x13</th><th style = \"text-align: left;\">x14</th><th style = \"text-align: left;\">x15</th><th style = \"text-align: left;\">x16</th><th style = \"text-align: left;\">x17</th><th style = \"text-align: left;\">x18</th><th style = \"text-align: left;\">x19</th><th style = \"text-align: left;\">x20</th><th style = \"text-align: left;\">x21</th><th style = \"text-align: left;\">x22</th><th style = \"text-align: left;\">x23</th><th style = \"text-align: left;\">x24</th><th style = \"text-align: left;\">x25</th><th style = \"text-align: left;\">x26</th><th style = \"text-align: left;\">x27</th><th style = \"text-align: left;\">x28</th><th style = \"text-align: left;\">x29</th><th style = \"text-align: left;\">x30</th><th style = \"text-align: left;\">x31</th><th style = \"text-align: left;\">x32</th><th style = \"text-align: left;\">x33</th><th style = \"text-align: left;\">x34</th><th style = \"text-align: left;\">x35</th><th style = \"text-align: left;\">x36</th><th style = \"text-align: left;\">x37</th><th style = \"text-align: left;\">x38</th><th style = \"text-align: left;\">x39</th><th style = \"text-align: left;\">x40</th><th style = \"text-align: left;\">x41</th><th style = \"text-align: left;\">x42</th><th style = \"text-align: left;\">x43</th><th style = \"text-align: left;\">x44</th><th style = \"text-align: left;\">x45</th><th style = \"text-align: left;\">x46</th><th style = \"text-align: left;\">x47</th><th style = \"text-align: left;\">x48</th><th style = \"text-align: left;\">x49</th><th style = \"text-align: left;\">x50</th><th style = \"text-align: left;\">x51</th><th style = \"text-align: left;\">x52</th><th style = \"text-align: left;\">x53</th><th style = \"text-align: left;\">x54</th><th style = \"text-align: left;\">x55</th><th style = \"text-align: left;\">x56</th><th style = \"text-align: left;\">x57</th><th style = \"text-align: left;\">x58</th><th style = \"text-align: left;\">x59</th><th style = \"text-align: left;\">x60</th><th style = \"text-align: left;\">x61</th><th style = \"text-align: left;\">x62</th><th style = \"text-align: left;\">x63</th><th style = \"text-align: left;\">x64</th><th style = \"text-align: left;\">x65</th><th style = \"text-align: left;\">x66</th><th style = \"text-align: left;\">x67</th><th style = \"text-align: left;\">x68</th><th style = \"text-align: left;\">x69</th><th style = \"text-align: left;\">x70</th><th style = \"text-align: left;\">x71</th><th style = \"text-align: left;\">x72</th><th style = \"text-align: left;\">x73</th><th style = \"text-align: left;\">x74</th><th style = \"text-align: left;\">x75</th><th style = \"text-align: left;\">x76</th><th style = \"text-align: left;\">x77</th><th style = \"text-align: left;\">x78</th><th style = \"text-align: left;\">x79</th><th style = \"text-align: left;\">x80</th><th style = \"text-align: left;\">x81</th><th style = \"text-align: left;\">x82</th><th style = \"text-align: left;\">x83</th><th style = \"text-align: left;\">x84</th><th style = \"text-align: left;\">x85</th><th style = \"text-align: left;\">x86</th><th style = \"text-align: left;\">x87</th><th style = \"text-align: left;\">x88</th><th style = \"text-align: left;\">x89</th><th style = \"text-align: left;\">x90</th><th style = \"text-align: left;\">x91</th><th style = \"text-align: left;\">x92</th><th style = \"text-align: left;\">x93</th><th style = \"text-align: left;\">x94</th><th style = \"text-align: left;\">x95</th><th style = \"text-align: left;\">x96</th><th style = \"text-align: left;\">x97</th><th style = \"text-align: left;\">x98</th><th style = \"text-align: left;\">x99</th><th style = \"text-align: left;\">x100</th><th style = \"text-align: right;\">&ctdot;</th></tr><tr class = \"subheader headerLastRow\"><th class = \"rowNumber\" style = \"font-weight: bold; text-align: right;\"></th><th title = \"Int64\" style = \"text-align: left;\">Int64</th><th title = \"Int64\" style = \"text-align: left;\">Int64</th><th title = \"Int64\" style = \"text-align: left;\">Int64</th><th title = \"Int64\" style = \"text-align: left;\">Int64</th><th title = \"Int64\" style = \"text-align: left;\">Int64</th><th title = \"Int64\" style = \"text-align: left;\">Int64</th><th title = \"Int64\" style = \"text-align: left;\">Int64</th><th title = \"Int64\" style = \"text-align: left;\">Int64</th><th title = \"Int64\" style = \"text-align: left;\">Int64</th><th title = \"Int64\" style = \"text-align: left;\">Int64</th><th title = \"Int64\" style = \"text-align: left;\">Int64</th><th title = \"Int64\" style = \"text-align: left;\">Int64</th><th title = \"Int64\" style = \"text-align: left;\">Int64</th><th title = \"Int64\" style = \"text-align: left;\">Int64</th><th title = \"Int64\" style = \"text-align: left;\">Int64</th><th title = \"Int64\" style = \"text-align: left;\">Int64</th><th title = \"Int64\" style = \"text-align: left;\">Int64</th><th title = \"Int64\" style = \"text-align: left;\">Int64</th><th title = \"Int64\" style = \"text-align: left;\">Int64</th><th title = \"Int64\" style = \"text-align: left;\">Int64</th><th title = \"Int64\" style = \"text-align: left;\">Int64</th><th title = \"Int64\" style = \"text-align: left;\">Int64</th><th title = \"Int64\" style = \"text-align: left;\">Int64</th><th title = \"Int64\" style = \"text-align: left;\">Int64</th><th title = \"Int64\" style = \"text-align: left;\">Int64</th><th title = \"Int64\" style = \"text-align: left;\">Int64</th><th title = \"Int64\" style = \"text-align: left;\">Int64</th><th title = \"Int64\" style = \"text-align: left;\">Int64</th><th title = \"Int64\" style = \"text-align: left;\">Int64</th><th title = \"Int64\" style = \"text-align: left;\">Int64</th><th title = \"Int64\" style = \"text-align: left;\">Int64</th><th title = \"Int64\" style = \"text-align: left;\">Int64</th><th title = \"Int64\" style = \"text-align: left;\">Int64</th><th title = \"Int64\" style = \"text-align: left;\">Int64</th><th title = \"Int64\" style = \"text-align: left;\">Int64</th><th title = \"Int64\" style = \"text-align: left;\">Int64</th><th title = \"Int64\" style = \"text-align: left;\">Int64</th><th title = \"Int64\" style = \"text-align: left;\">Int64</th><th title = \"Int64\" style = \"text-align: left;\">Int64</th><th title = \"Int64\" style = \"text-align: left;\">Int64</th><th title = \"Int64\" style = \"text-align: left;\">Int64</th><th title = \"Int64\" style = \"text-align: left;\">Int64</th><th title = \"Int64\" style = \"text-align: left;\">Int64</th><th title = \"Int64\" style = \"text-align: left;\">Int64</th><th title = \"Int64\" style = \"text-align: left;\">Int64</th><th title = \"Int64\" style = \"text-align: left;\">Int64</th><th title = \"Int64\" style = \"text-align: left;\">Int64</th><th title = \"Int64\" style = \"text-align: left;\">Int64</th><th title = \"Int64\" style = \"text-align: left;\">Int64</th><th title = \"Int64\" style = \"text-align: left;\">Int64</th><th title = \"Int64\" style = \"text-align: left;\">Int64</th><th title = \"Int64\" style = \"text-align: left;\">Int64</th><th title = \"Int64\" style = \"text-align: left;\">Int64</th><th title = \"Int64\" style = \"text-align: left;\">Int64</th><th title = \"Int64\" style = \"text-align: left;\">Int64</th><th title = \"Int64\" style = \"text-align: left;\">Int64</th><th title = \"Int64\" style = \"text-align: left;\">Int64</th><th title = \"Int64\" style = \"text-align: left;\">Int64</th><th title = \"Int64\" style = \"text-align: left;\">Int64</th><th title = \"Int64\" style = \"text-align: left;\">Int64</th><th title = \"Int64\" style = \"text-align: left;\">Int64</th><th title = \"Int64\" style = \"text-align: left;\">Int64</th><th title = \"Int64\" style = \"text-align: left;\">Int64</th><th title = \"Int64\" style = \"text-align: left;\">Int64</th><th title = \"Int64\" style = \"text-align: left;\">Int64</th><th title = \"Int64\" style = \"text-align: left;\">Int64</th><th title = \"Int64\" style = \"text-align: left;\">Int64</th><th title = \"Int64\" style = \"text-align: left;\">Int64</th><th title = \"Int64\" style = \"text-align: left;\">Int64</th><th title = \"Int64\" style = \"text-align: left;\">Int64</th><th title = \"Int64\" style = \"text-align: left;\">Int64</th><th title = \"Int64\" style = \"text-align: left;\">Int64</th><th title = \"Int64\" style = \"text-align: left;\">Int64</th><th title = \"Int64\" style = \"text-align: left;\">Int64</th><th title = \"Int64\" style = \"text-align: left;\">Int64</th><th title = \"Int64\" style = \"text-align: left;\">Int64</th><th title = \"Int64\" style = \"text-align: left;\">Int64</th><th title = \"Int64\" style = \"text-align: left;\">Int64</th><th title = \"Int64\" style = \"text-align: left;\">Int64</th><th title = \"Int64\" style = \"text-align: left;\">Int64</th><th title = \"Int64\" style = \"text-align: left;\">Int64</th><th title = \"Int64\" style = \"text-align: left;\">Int64</th><th title = \"Int64\" style = \"text-align: left;\">Int64</th><th title = \"Int64\" style = \"text-align: left;\">Int64</th><th title = \"Int64\" style = \"text-align: left;\">Int64</th><th title = \"Int64\" style = \"text-align: left;\">Int64</th><th title = \"Int64\" style = \"text-align: left;\">Int64</th><th title = \"Int64\" style = \"text-align: left;\">Int64</th><th title = \"Int64\" style = \"text-align: left;\">Int64</th><th title = \"Int64\" style = \"text-align: left;\">Int64</th><th title = \"Int64\" style = \"text-align: left;\">Int64</th><th title = \"Int64\" style = \"text-align: left;\">Int64</th><th title = \"Int64\" style = \"text-align: left;\">Int64</th><th title = \"Int64\" style = \"text-align: left;\">Int64</th><th title = \"Int64\" style = \"text-align: left;\">Int64</th><th title = \"Int64\" style = \"text-align: left;\">Int64</th><th title = \"Int64\" style = \"text-align: left;\">Int64</th><th title = \"Int64\" style = \"text-align: left;\">Int64</th><th title = \"Int64\" style = \"text-align: left;\">Int64</th><th title = \"Int64\" style = \"text-align: left;\">Int64</th><th title = \"Int64\" style = \"text-align: right;\">&ctdot;</th></tr></thead><tbody><tr><td class = \"rowNumber\" style = \"font-weight: bold; text-align: right;\">1</td><td style = \"text-align: right;\">10</td><td style = \"text-align: right;\">8</td><td style = \"text-align: right;\">3</td><td style = \"text-align: right;\">2</td><td style = \"text-align: right;\">7</td><td style = \"text-align: right;\">2</td><td style = \"text-align: right;\">2</td><td style = \"text-align: right;\">3</td><td style = \"text-align: right;\">6</td><td style = \"text-align: right;\">10</td><td style = \"text-align: right;\">5</td><td style = \"text-align: right;\">5</td><td style = \"text-align: right;\">7</td><td style = \"text-align: right;\">8</td><td style = \"text-align: right;\">3</td><td style = \"text-align: right;\">8</td><td style = \"text-align: right;\">9</td><td style = \"text-align: right;\">4</td><td style = \"text-align: right;\">3</td><td style = \"text-align: right;\">3</td><td style = \"text-align: right;\">6</td><td style = \"text-align: right;\">5</td><td style = \"text-align: right;\">6</td><td style = \"text-align: right;\">2</td><td style = \"text-align: right;\">7</td><td style = \"text-align: right;\">4</td><td style = \"text-align: right;\">7</td><td style = \"text-align: right;\">10</td><td style = \"text-align: right;\">9</td><td style = \"text-align: right;\">9</td><td style = \"text-align: right;\">3</td><td style = \"text-align: right;\">9</td><td style = \"text-align: right;\">8</td><td style = \"text-align: right;\">5</td><td style = \"text-align: right;\">10</td><td style = \"text-align: right;\">3</td><td style = \"text-align: right;\">3</td><td style = \"text-align: right;\">1</td><td style = \"text-align: right;\">3</td><td style = \"text-align: right;\">2</td><td style = \"text-align: right;\">9</td><td style = \"text-align: right;\">6</td><td style = \"text-align: right;\">10</td><td style = \"text-align: right;\">2</td><td style = \"text-align: right;\">10</td><td style = \"text-align: right;\">3</td><td style = \"text-align: right;\">4</td><td style = \"text-align: right;\">2</td><td style = \"text-align: right;\">8</td><td style = \"text-align: right;\">6</td><td style = \"text-align: right;\">4</td><td style = \"text-align: right;\">7</td><td style = \"text-align: right;\">4</td><td style = \"text-align: right;\">1</td><td style = \"text-align: right;\">2</td><td style = \"text-align: right;\">10</td><td style = \"text-align: right;\">8</td><td style = \"text-align: right;\">8</td><td style = \"text-align: right;\">3</td><td style = \"text-align: right;\">9</td><td style = \"text-align: right;\">6</td><td style = \"text-align: right;\">4</td><td style = \"text-align: right;\">8</td><td style = \"text-align: right;\">10</td><td style = \"text-align: right;\">7</td><td style = \"text-align: right;\">9</td><td style = \"text-align: right;\">5</td><td style = \"text-align: right;\">6</td><td style = \"text-align: right;\">10</td><td style = \"text-align: right;\">9</td><td style = \"text-align: right;\">3</td><td style = \"text-align: right;\">7</td><td style = \"text-align: right;\">9</td><td style = \"text-align: right;\">3</td><td style = \"text-align: right;\">8</td><td style = \"text-align: right;\">5</td><td style = \"text-align: right;\">4</td><td style = \"text-align: right;\">3</td><td style = \"text-align: right;\">4</td><td style = \"text-align: right;\">2</td><td style = \"text-align: right;\">1</td><td style = \"text-align: right;\">8</td><td style = \"text-align: right;\">7</td><td style = \"text-align: right;\">1</td><td style = \"text-align: right;\">9</td><td style = \"text-align: right;\">6</td><td style = \"text-align: right;\">7</td><td style = \"text-align: right;\">5</td><td style = \"text-align: right;\">9</td><td style = \"text-align: right;\">2</td><td style = \"text-align: right;\">1</td><td style = \"text-align: right;\">6</td><td style = \"text-align: right;\">5</td><td style = \"text-align: right;\">8</td><td style = \"text-align: right;\">2</td><td style = \"text-align: right;\">3</td><td style = \"text-align: right;\">5</td><td style = \"text-align: right;\">3</td><td style = \"text-align: right;\">5</td><td style = \"text-align: right;\">5</td><td style = \"text-align: right;\">&ctdot;</td></tr><tr><td class = \"rowNumber\" style = \"font-weight: bold; text-align: right;\">2</td><td style = \"text-align: right;\">9</td><td style = \"text-align: right;\">3</td><td style = \"text-align: right;\">9</td><td style = \"text-align: right;\">7</td><td style = \"text-align: right;\">2</td><td style = \"text-align: right;\">8</td><td style = \"text-align: right;\">1</td><td style = \"text-align: right;\">4</td><td style = \"text-align: right;\">8</td><td style = \"text-align: right;\">1</td><td style = \"text-align: right;\">4</td><td style = \"text-align: right;\">3</td><td style = \"text-align: right;\">8</td><td style = \"text-align: right;\">7</td><td style = \"text-align: right;\">8</td><td style = \"text-align: right;\">6</td><td style = \"text-align: right;\">10</td><td style = \"text-align: right;\">1</td><td style = \"text-align: right;\">8</td><td style = \"text-align: right;\">5</td><td style = \"text-align: right;\">9</td><td style = \"text-align: right;\">1</td><td style = \"text-align: right;\">8</td><td style = \"text-align: right;\">6</td><td style = \"text-align: right;\">9</td><td style = \"text-align: right;\">6</td><td style = \"text-align: right;\">4</td><td style = \"text-align: right;\">5</td><td style = \"text-align: right;\">1</td><td style = \"text-align: right;\">1</td><td style = \"text-align: right;\">7</td><td style = \"text-align: right;\">4</td><td style = \"text-align: right;\">8</td><td style = \"text-align: right;\">3</td><td style = \"text-align: right;\">9</td><td style = \"text-align: right;\">1</td><td style = \"text-align: right;\">1</td><td style = \"text-align: right;\">8</td><td style = \"text-align: right;\">4</td><td style = \"text-align: right;\">2</td><td style = \"text-align: right;\">4</td><td style = \"text-align: right;\">10</td><td style = \"text-align: right;\">3</td><td style = \"text-align: right;\">1</td><td style = \"text-align: right;\">7</td><td style = \"text-align: right;\">10</td><td style = \"text-align: right;\">9</td><td style = \"text-align: right;\">2</td><td style = \"text-align: right;\">9</td><td style = \"text-align: right;\">1</td><td style = \"text-align: right;\">1</td><td style = \"text-align: right;\">1</td><td style = \"text-align: right;\">2</td><td style = \"text-align: right;\">7</td><td style = \"text-align: right;\">9</td><td style = \"text-align: right;\">2</td><td style = \"text-align: right;\">4</td><td style = \"text-align: right;\">5</td><td style = \"text-align: right;\">7</td><td style = \"text-align: right;\">2</td><td style = \"text-align: right;\">9</td><td style = \"text-align: right;\">4</td><td style = \"text-align: right;\">4</td><td style = \"text-align: right;\">8</td><td style = \"text-align: right;\">1</td><td style = \"text-align: right;\">9</td><td style = \"text-align: right;\">5</td><td style = \"text-align: right;\">1</td><td style = \"text-align: right;\">6</td><td style = \"text-align: right;\">1</td><td style = \"text-align: right;\">7</td><td style = \"text-align: right;\">7</td><td style = \"text-align: right;\">4</td><td style = \"text-align: right;\">3</td><td style = \"text-align: right;\">4</td><td style = \"text-align: right;\">9</td><td style = \"text-align: right;\">8</td><td style = \"text-align: right;\">1</td><td style = \"text-align: right;\">7</td><td style = \"text-align: right;\">1</td><td style = \"text-align: right;\">10</td><td style = \"text-align: right;\">8</td><td style = \"text-align: right;\">5</td><td style = \"text-align: right;\">3</td><td style = \"text-align: right;\">8</td><td style = \"text-align: right;\">3</td><td style = \"text-align: right;\">8</td><td style = \"text-align: right;\">9</td><td style = \"text-align: right;\">3</td><td style = \"text-align: right;\">10</td><td style = \"text-align: right;\">6</td><td style = \"text-align: right;\">7</td><td style = \"text-align: right;\">9</td><td style = \"text-align: right;\">7</td><td style = \"text-align: right;\">5</td><td style = \"text-align: right;\">3</td><td style = \"text-align: right;\">2</td><td style = \"text-align: right;\">5</td><td style = \"text-align: right;\">10</td><td style = \"text-align: right;\">2</td><td style = \"text-align: right;\">&ctdot;</td></tr><tr><td class = \"rowNumber\" style = \"font-weight: bold; text-align: right;\">3</td><td style = \"text-align: right;\">8</td><td style = \"text-align: right;\">8</td><td style = \"text-align: right;\">9</td><td style = \"text-align: right;\">6</td><td style = \"text-align: right;\">10</td><td style = \"text-align: right;\">6</td><td style = \"text-align: right;\">1</td><td style = \"text-align: right;\">5</td><td style = \"text-align: right;\">3</td><td style = \"text-align: right;\">3</td><td style = \"text-align: right;\">4</td><td style = \"text-align: right;\">5</td><td style = \"text-align: right;\">9</td><td style = \"text-align: right;\">8</td><td style = \"text-align: right;\">1</td><td style = \"text-align: right;\">8</td><td style = \"text-align: right;\">6</td><td style = \"text-align: right;\">9</td><td style = \"text-align: right;\">3</td><td style = \"text-align: right;\">4</td><td style = \"text-align: right;\">6</td><td style = \"text-align: right;\">1</td><td style = \"text-align: right;\">5</td><td style = \"text-align: right;\">5</td><td style = \"text-align: right;\">10</td><td style = \"text-align: right;\">1</td><td style = \"text-align: right;\">5</td><td style = \"text-align: right;\">6</td><td style = \"text-align: right;\">3</td><td style = \"text-align: right;\">7</td><td style = \"text-align: right;\">6</td><td style = \"text-align: right;\">7</td><td style = \"text-align: right;\">4</td><td style = \"text-align: right;\">7</td><td style = \"text-align: right;\">8</td><td style = \"text-align: right;\">8</td><td style = \"text-align: right;\">1</td><td style = \"text-align: right;\">5</td><td style = \"text-align: right;\">7</td><td style = \"text-align: right;\">8</td><td style = \"text-align: right;\">3</td><td style = \"text-align: right;\">8</td><td style = \"text-align: right;\">7</td><td style = \"text-align: right;\">5</td><td style = \"text-align: right;\">2</td><td style = \"text-align: right;\">5</td><td style = \"text-align: right;\">10</td><td style = \"text-align: right;\">6</td><td style = \"text-align: right;\">3</td><td style = \"text-align: right;\">7</td><td style = \"text-align: right;\">6</td><td style = \"text-align: right;\">9</td><td style = \"text-align: right;\">1</td><td style = \"text-align: right;\">5</td><td style = \"text-align: right;\">5</td><td style = \"text-align: right;\">1</td><td style = \"text-align: right;\">5</td><td style = \"text-align: right;\">6</td><td style = \"text-align: right;\">1</td><td style = \"text-align: right;\">3</td><td style = \"text-align: right;\">8</td><td style = \"text-align: right;\">5</td><td style = \"text-align: right;\">9</td><td style = \"text-align: right;\">7</td><td style = \"text-align: right;\">9</td><td style = \"text-align: right;\">1</td><td style = \"text-align: right;\">5</td><td style = \"text-align: right;\">8</td><td style = \"text-align: right;\">3</td><td style = \"text-align: right;\">5</td><td style = \"text-align: right;\">7</td><td style = \"text-align: right;\">8</td><td style = \"text-align: right;\">9</td><td style = \"text-align: right;\">2</td><td style = \"text-align: right;\">1</td><td style = \"text-align: right;\">6</td><td style = \"text-align: right;\">6</td><td style = \"text-align: right;\">10</td><td style = \"text-align: right;\">1</td><td style = \"text-align: right;\">9</td><td style = \"text-align: right;\">2</td><td style = \"text-align: right;\">7</td><td style = \"text-align: right;\">3</td><td style = \"text-align: right;\">9</td><td style = \"text-align: right;\">5</td><td style = \"text-align: right;\">3</td><td style = \"text-align: right;\">9</td><td style = \"text-align: right;\">10</td><td style = \"text-align: right;\">10</td><td style = \"text-align: right;\">8</td><td style = \"text-align: right;\">5</td><td style = \"text-align: right;\">6</td><td style = \"text-align: right;\">1</td><td style = \"text-align: right;\">5</td><td style = \"text-align: right;\">5</td><td style = \"text-align: right;\">9</td><td style = \"text-align: right;\">6</td><td style = \"text-align: right;\">5</td><td style = \"text-align: right;\">5</td><td style = \"text-align: right;\">9</td><td style = \"text-align: right;\">&ctdot;</td></tr><tr><td class = \"rowNumber\" style = \"font-weight: bold; text-align: right;\">4</td><td style = \"text-align: right;\">9</td><td style = \"text-align: right;\">5</td><td style = \"text-align: right;\">7</td><td style = \"text-align: right;\">10</td><td style = \"text-align: right;\">4</td><td style = \"text-align: right;\">4</td><td style = \"text-align: right;\">1</td><td style = \"text-align: right;\">3</td><td style = \"text-align: right;\">9</td><td style = \"text-align: right;\">1</td><td style = \"text-align: right;\">2</td><td style = \"text-align: right;\">10</td><td style = \"text-align: right;\">1</td><td style = \"text-align: right;\">5</td><td style = \"text-align: right;\">9</td><td style = \"text-align: right;\">2</td><td style = \"text-align: right;\">1</td><td style = \"text-align: right;\">8</td><td style = \"text-align: right;\">4</td><td style = \"text-align: right;\">10</td><td style = \"text-align: right;\">10</td><td style = \"text-align: right;\">3</td><td style = \"text-align: right;\">6</td><td style = \"text-align: right;\">2</td><td style = \"text-align: right;\">6</td><td style = \"text-align: right;\">3</td><td style = \"text-align: right;\">3</td><td style = \"text-align: right;\">9</td><td style = \"text-align: right;\">9</td><td style = \"text-align: right;\">9</td><td style = \"text-align: right;\">2</td><td style = \"text-align: right;\">2</td><td style = \"text-align: right;\">6</td><td style = \"text-align: right;\">2</td><td style = \"text-align: right;\">3</td><td style = \"text-align: right;\">9</td><td style = \"text-align: right;\">6</td><td style = \"text-align: right;\">4</td><td style = \"text-align: right;\">6</td><td style = \"text-align: right;\">8</td><td style = \"text-align: right;\">5</td><td style = \"text-align: right;\">3</td><td style = \"text-align: right;\">9</td><td style = \"text-align: right;\">3</td><td style = \"text-align: right;\">2</td><td style = \"text-align: right;\">5</td><td style = \"text-align: right;\">6</td><td style = \"text-align: right;\">7</td><td style = \"text-align: right;\">3</td><td style = \"text-align: right;\">1</td><td style = \"text-align: right;\">1</td><td style = \"text-align: right;\">5</td><td style = \"text-align: right;\">2</td><td style = \"text-align: right;\">9</td><td style = \"text-align: right;\">5</td><td style = \"text-align: right;\">9</td><td style = \"text-align: right;\">7</td><td style = \"text-align: right;\">2</td><td style = \"text-align: right;\">6</td><td style = \"text-align: right;\">10</td><td style = \"text-align: right;\">1</td><td style = \"text-align: right;\">9</td><td style = \"text-align: right;\">7</td><td style = \"text-align: right;\">2</td><td style = \"text-align: right;\">8</td><td style = \"text-align: right;\">5</td><td style = \"text-align: right;\">9</td><td style = \"text-align: right;\">1</td><td style = \"text-align: right;\">10</td><td style = \"text-align: right;\">2</td><td style = \"text-align: right;\">2</td><td style = \"text-align: right;\">7</td><td style = \"text-align: right;\">6</td><td style = \"text-align: right;\">1</td><td style = \"text-align: right;\">4</td><td style = \"text-align: right;\">7</td><td style = \"text-align: right;\">2</td><td style = \"text-align: right;\">4</td><td style = \"text-align: right;\">10</td><td style = \"text-align: right;\">8</td><td style = \"text-align: right;\">5</td><td style = \"text-align: right;\">3</td><td style = \"text-align: right;\">2</td><td style = \"text-align: right;\">9</td><td style = \"text-align: right;\">3</td><td style = \"text-align: right;\">4</td><td style = \"text-align: right;\">2</td><td style = \"text-align: right;\">7</td><td style = \"text-align: right;\">5</td><td style = \"text-align: right;\">5</td><td style = \"text-align: right;\">6</td><td style = \"text-align: right;\">9</td><td style = \"text-align: right;\">8</td><td style = \"text-align: right;\">4</td><td style = \"text-align: right;\">1</td><td style = \"text-align: right;\">8</td><td style = \"text-align: right;\">4</td><td style = \"text-align: right;\">4</td><td style = \"text-align: right;\">4</td><td style = \"text-align: right;\">7</td><td style = \"text-align: right;\">&ctdot;</td></tr><tr><td class = \"rowNumber\" style = \"font-weight: bold; text-align: right;\">5</td><td style = \"text-align: right;\">5</td><td style = \"text-align: right;\">3</td><td style = \"text-align: right;\">3</td><td style = \"text-align: right;\">6</td><td style = \"text-align: right;\">2</td><td style = \"text-align: right;\">4</td><td style = \"text-align: right;\">4</td><td style = \"text-align: right;\">4</td><td style = \"text-align: right;\">1</td><td style = \"text-align: right;\">4</td><td style = \"text-align: right;\">4</td><td style = \"text-align: right;\">8</td><td style = \"text-align: right;\">4</td><td style = \"text-align: right;\">7</td><td style = \"text-align: right;\">10</td><td style = \"text-align: right;\">3</td><td style = \"text-align: right;\">4</td><td style = \"text-align: right;\">1</td><td style = \"text-align: right;\">8</td><td style = \"text-align: right;\">5</td><td style = \"text-align: right;\">6</td><td style = \"text-align: right;\">2</td><td style = \"text-align: right;\">10</td><td style = \"text-align: right;\">5</td><td style = \"text-align: right;\">7</td><td style = \"text-align: right;\">4</td><td style = \"text-align: right;\">5</td><td style = \"text-align: right;\">7</td><td style = \"text-align: right;\">5</td><td style = \"text-align: right;\">2</td><td style = \"text-align: right;\">4</td><td style = \"text-align: right;\">6</td><td style = \"text-align: right;\">10</td><td style = \"text-align: right;\">5</td><td style = \"text-align: right;\">5</td><td style = \"text-align: right;\">2</td><td style = \"text-align: right;\">4</td><td style = \"text-align: right;\">6</td><td style = \"text-align: right;\">10</td><td style = \"text-align: right;\">7</td><td style = \"text-align: right;\">4</td><td style = \"text-align: right;\">2</td><td style = \"text-align: right;\">8</td><td style = \"text-align: right;\">10</td><td style = \"text-align: right;\">9</td><td style = \"text-align: right;\">7</td><td style = \"text-align: right;\">10</td><td style = \"text-align: right;\">3</td><td style = \"text-align: right;\">6</td><td style = \"text-align: right;\">3</td><td style = \"text-align: right;\">5</td><td style = \"text-align: right;\">4</td><td style = \"text-align: right;\">6</td><td style = \"text-align: right;\">4</td><td style = \"text-align: right;\">5</td><td style = \"text-align: right;\">6</td><td style = \"text-align: right;\">4</td><td style = \"text-align: right;\">7</td><td style = \"text-align: right;\">1</td><td style = \"text-align: right;\">3</td><td style = \"text-align: right;\">2</td><td style = \"text-align: right;\">2</td><td style = \"text-align: right;\">7</td><td style = \"text-align: right;\">10</td><td style = \"text-align: right;\">9</td><td style = \"text-align: right;\">6</td><td style = \"text-align: right;\">7</td><td style = \"text-align: right;\">7</td><td style = \"text-align: right;\">10</td><td style = \"text-align: right;\">5</td><td style = \"text-align: right;\">3</td><td style = \"text-align: right;\">1</td><td style = \"text-align: right;\">3</td><td style = \"text-align: right;\">8</td><td style = \"text-align: right;\">7</td><td style = \"text-align: right;\">2</td><td style = \"text-align: right;\">7</td><td style = \"text-align: right;\">5</td><td style = \"text-align: right;\">10</td><td style = \"text-align: right;\">4</td><td style = \"text-align: right;\">9</td><td style = \"text-align: right;\">1</td><td style = \"text-align: right;\">5</td><td style = \"text-align: right;\">7</td><td style = \"text-align: right;\">2</td><td style = \"text-align: right;\">5</td><td style = \"text-align: right;\">6</td><td style = \"text-align: right;\">6</td><td style = \"text-align: right;\">2</td><td style = \"text-align: right;\">1</td><td style = \"text-align: right;\">2</td><td style = \"text-align: right;\">6</td><td style = \"text-align: right;\">5</td><td style = \"text-align: right;\">10</td><td style = \"text-align: right;\">2</td><td style = \"text-align: right;\">3</td><td style = \"text-align: right;\">7</td><td style = \"text-align: right;\">10</td><td style = \"text-align: right;\">5</td><td style = \"text-align: right;\">8</td><td style = \"text-align: right;\">&ctdot;</td></tr><tr><td class = \"rowNumber\" style = \"font-weight: bold; text-align: right;\">6</td><td style = \"text-align: right;\">8</td><td style = \"text-align: right;\">4</td><td style = \"text-align: right;\">5</td><td style = \"text-align: right;\">9</td><td style = \"text-align: right;\">1</td><td style = \"text-align: right;\">7</td><td style = \"text-align: right;\">4</td><td style = \"text-align: right;\">2</td><td style = \"text-align: right;\">4</td><td style = \"text-align: right;\">4</td><td style = \"text-align: right;\">1</td><td style = \"text-align: right;\">8</td><td style = \"text-align: right;\">4</td><td style = \"text-align: right;\">6</td><td style = \"text-align: right;\">3</td><td style = \"text-align: right;\">3</td><td style = \"text-align: right;\">10</td><td style = \"text-align: right;\">6</td><td style = \"text-align: right;\">5</td><td style = \"text-align: right;\">9</td><td style = \"text-align: right;\">10</td><td style = \"text-align: right;\">7</td><td style = \"text-align: right;\">8</td><td style = \"text-align: right;\">8</td><td style = \"text-align: right;\">5</td><td style = \"text-align: right;\">6</td><td style = \"text-align: right;\">10</td><td style = \"text-align: right;\">5</td><td style = \"text-align: right;\">6</td><td style = \"text-align: right;\">1</td><td style = \"text-align: right;\">5</td><td style = \"text-align: right;\">10</td><td style = \"text-align: right;\">9</td><td style = \"text-align: right;\">7</td><td style = \"text-align: right;\">8</td><td style = \"text-align: right;\">6</td><td style = \"text-align: right;\">3</td><td style = \"text-align: right;\">5</td><td style = \"text-align: right;\">10</td><td style = \"text-align: right;\">6</td><td style = \"text-align: right;\">1</td><td style = \"text-align: right;\">2</td><td style = \"text-align: right;\">2</td><td style = \"text-align: right;\">3</td><td style = \"text-align: right;\">9</td><td style = \"text-align: right;\">1</td><td style = \"text-align: right;\">5</td><td style = \"text-align: right;\">3</td><td style = \"text-align: right;\">1</td><td style = \"text-align: right;\">9</td><td style = \"text-align: right;\">10</td><td style = \"text-align: right;\">6</td><td style = \"text-align: right;\">1</td><td style = \"text-align: right;\">2</td><td style = \"text-align: right;\">8</td><td style = \"text-align: right;\">2</td><td style = \"text-align: right;\">10</td><td style = \"text-align: right;\">7</td><td style = \"text-align: right;\">7</td><td style = \"text-align: right;\">2</td><td style = \"text-align: right;\">6</td><td style = \"text-align: right;\">3</td><td style = \"text-align: right;\">2</td><td style = \"text-align: right;\">4</td><td style = \"text-align: right;\">9</td><td style = \"text-align: right;\">4</td><td style = \"text-align: right;\">5</td><td style = \"text-align: right;\">2</td><td style = \"text-align: right;\">2</td><td style = \"text-align: right;\">7</td><td style = \"text-align: right;\">2</td><td style = \"text-align: right;\">4</td><td style = \"text-align: right;\">10</td><td style = \"text-align: right;\">6</td><td style = \"text-align: right;\">9</td><td style = \"text-align: right;\">6</td><td style = \"text-align: right;\">8</td><td style = \"text-align: right;\">1</td><td style = \"text-align: right;\">8</td><td style = \"text-align: right;\">6</td><td style = \"text-align: right;\">7</td><td style = \"text-align: right;\">6</td><td style = \"text-align: right;\">6</td><td style = \"text-align: right;\">4</td><td style = \"text-align: right;\">2</td><td style = \"text-align: right;\">3</td><td style = \"text-align: right;\">7</td><td style = \"text-align: right;\">10</td><td style = \"text-align: right;\">10</td><td style = \"text-align: right;\">8</td><td style = \"text-align: right;\">5</td><td style = \"text-align: right;\">2</td><td style = \"text-align: right;\">9</td><td style = \"text-align: right;\">5</td><td style = \"text-align: right;\">7</td><td style = \"text-align: right;\">9</td><td style = \"text-align: right;\">4</td><td style = \"text-align: right;\">8</td><td style = \"text-align: right;\">8</td><td style = \"text-align: right;\">3</td><td style = \"text-align: right;\">&ctdot;</td></tr><tr><td class = \"rowNumber\" style = \"font-weight: bold; text-align: right;\">7</td><td style = \"text-align: right;\">7</td><td style = \"text-align: right;\">2</td><td style = \"text-align: right;\">10</td><td style = \"text-align: right;\">2</td><td style = \"text-align: right;\">10</td><td style = \"text-align: right;\">4</td><td style = \"text-align: right;\">8</td><td style = \"text-align: right;\">6</td><td style = \"text-align: right;\">9</td><td style = \"text-align: right;\">2</td><td style = \"text-align: right;\">4</td><td style = \"text-align: right;\">6</td><td style = \"text-align: right;\">9</td><td style = \"text-align: right;\">3</td><td style = \"text-align: right;\">9</td><td style = \"text-align: right;\">2</td><td style = \"text-align: right;\">8</td><td style = \"text-align: right;\">3</td><td style = \"text-align: right;\">1</td><td style = \"text-align: right;\">1</td><td style = \"text-align: right;\">6</td><td style = \"text-align: right;\">10</td><td style = \"text-align: right;\">8</td><td style = \"text-align: right;\">5</td><td style = \"text-align: right;\">8</td><td style = \"text-align: right;\">5</td><td style = \"text-align: right;\">7</td><td style = \"text-align: right;\">9</td><td style = \"text-align: right;\">8</td><td style = \"text-align: right;\">5</td><td style = \"text-align: right;\">10</td><td style = \"text-align: right;\">4</td><td style = \"text-align: right;\">8</td><td style = \"text-align: right;\">5</td><td style = \"text-align: right;\">1</td><td style = \"text-align: right;\">2</td><td style = \"text-align: right;\">7</td><td style = \"text-align: right;\">4</td><td style = \"text-align: right;\">5</td><td style = \"text-align: right;\">7</td><td style = \"text-align: right;\">10</td><td style = \"text-align: right;\">3</td><td style = \"text-align: right;\">6</td><td style = \"text-align: right;\">10</td><td style = \"text-align: right;\">10</td><td style = \"text-align: right;\">10</td><td style = \"text-align: right;\">2</td><td style = \"text-align: right;\">9</td><td style = \"text-align: right;\">1</td><td style = \"text-align: right;\">10</td><td style = \"text-align: right;\">8</td><td style = \"text-align: right;\">7</td><td style = \"text-align: right;\">2</td><td style = \"text-align: right;\">9</td><td style = \"text-align: right;\">7</td><td style = \"text-align: right;\">10</td><td style = \"text-align: right;\">2</td><td style = \"text-align: right;\">2</td><td style = \"text-align: right;\">4</td><td style = \"text-align: right;\">8</td><td style = \"text-align: right;\">8</td><td style = \"text-align: right;\">2</td><td style = \"text-align: right;\">4</td><td style = \"text-align: right;\">8</td><td style = \"text-align: right;\">4</td><td style = \"text-align: right;\">7</td><td style = \"text-align: right;\">3</td><td style = \"text-align: right;\">2</td><td style = \"text-align: right;\">4</td><td style = \"text-align: right;\">4</td><td style = \"text-align: right;\">6</td><td style = \"text-align: right;\">10</td><td style = \"text-align: right;\">7</td><td style = \"text-align: right;\">8</td><td style = \"text-align: right;\">2</td><td style = \"text-align: right;\">6</td><td style = \"text-align: right;\">3</td><td style = \"text-align: right;\">1</td><td style = \"text-align: right;\">4</td><td style = \"text-align: right;\">6</td><td style = \"text-align: right;\">9</td><td style = \"text-align: right;\">3</td><td style = \"text-align: right;\">8</td><td style = \"text-align: right;\">10</td><td style = \"text-align: right;\">3</td><td style = \"text-align: right;\">7</td><td style = \"text-align: right;\">2</td><td style = \"text-align: right;\">7</td><td style = \"text-align: right;\">6</td><td style = \"text-align: right;\">3</td><td style = \"text-align: right;\">10</td><td style = \"text-align: right;\">9</td><td style = \"text-align: right;\">6</td><td style = \"text-align: right;\">2</td><td style = \"text-align: right;\">4</td><td style = \"text-align: right;\">9</td><td style = \"text-align: right;\">8</td><td style = \"text-align: right;\">8</td><td style = \"text-align: right;\">10</td><td style = \"text-align: right;\">4</td><td style = \"text-align: right;\">&ctdot;</td></tr><tr><td class = \"rowNumber\" style = \"font-weight: bold; text-align: right;\">8</td><td style = \"text-align: right;\">7</td><td style = \"text-align: right;\">8</td><td style = \"text-align: right;\">1</td><td style = \"text-align: right;\">8</td><td style = \"text-align: right;\">1</td><td style = \"text-align: right;\">8</td><td style = \"text-align: right;\">2</td><td style = \"text-align: right;\">7</td><td style = \"text-align: right;\">6</td><td style = \"text-align: right;\">8</td><td style = \"text-align: right;\">7</td><td style = \"text-align: right;\">3</td><td style = \"text-align: right;\">6</td><td style = \"text-align: right;\">8</td><td style = \"text-align: right;\">7</td><td style = \"text-align: right;\">3</td><td style = \"text-align: right;\">5</td><td style = \"text-align: right;\">1</td><td style = \"text-align: right;\">9</td><td style = \"text-align: right;\">4</td><td style = \"text-align: right;\">6</td><td style = \"text-align: right;\">9</td><td style = \"text-align: right;\">6</td><td style = \"text-align: right;\">3</td><td style = \"text-align: right;\">3</td><td style = \"text-align: right;\">9</td><td style = \"text-align: right;\">10</td><td style = \"text-align: right;\">4</td><td style = \"text-align: right;\">3</td><td style = \"text-align: right;\">8</td><td style = \"text-align: right;\">1</td><td style = \"text-align: right;\">2</td><td style = \"text-align: right;\">10</td><td style = \"text-align: right;\">8</td><td style = \"text-align: right;\">10</td><td style = \"text-align: right;\">10</td><td style = \"text-align: right;\">10</td><td style = \"text-align: right;\">1</td><td style = \"text-align: right;\">1</td><td style = \"text-align: right;\">2</td><td style = \"text-align: right;\">2</td><td style = \"text-align: right;\">1</td><td style = \"text-align: right;\">4</td><td style = \"text-align: right;\">4</td><td style = \"text-align: right;\">5</td><td style = \"text-align: right;\">1</td><td style = \"text-align: right;\">7</td><td style = \"text-align: right;\">6</td><td style = \"text-align: right;\">5</td><td style = \"text-align: right;\">3</td><td style = \"text-align: right;\">9</td><td style = \"text-align: right;\">2</td><td style = \"text-align: right;\">6</td><td style = \"text-align: right;\">3</td><td style = \"text-align: right;\">8</td><td style = \"text-align: right;\">4</td><td style = \"text-align: right;\">8</td><td style = \"text-align: right;\">6</td><td style = \"text-align: right;\">7</td><td style = \"text-align: right;\">10</td><td style = \"text-align: right;\">4</td><td style = \"text-align: right;\">6</td><td style = \"text-align: right;\">4</td><td style = \"text-align: right;\">8</td><td style = \"text-align: right;\">1</td><td style = \"text-align: right;\">1</td><td style = \"text-align: right;\">5</td><td style = \"text-align: right;\">4</td><td style = \"text-align: right;\">10</td><td style = \"text-align: right;\">8</td><td style = \"text-align: right;\">1</td><td style = \"text-align: right;\">1</td><td style = \"text-align: right;\">5</td><td style = \"text-align: right;\">4</td><td style = \"text-align: right;\">1</td><td style = \"text-align: right;\">10</td><td style = \"text-align: right;\">7</td><td style = \"text-align: right;\">5</td><td style = \"text-align: right;\">2</td><td style = \"text-align: right;\">7</td><td style = \"text-align: right;\">9</td><td style = \"text-align: right;\">1</td><td style = \"text-align: right;\">9</td><td style = \"text-align: right;\">1</td><td style = \"text-align: right;\">2</td><td style = \"text-align: right;\">7</td><td style = \"text-align: right;\">2</td><td style = \"text-align: right;\">3</td><td style = \"text-align: right;\">5</td><td style = \"text-align: right;\">1</td><td style = \"text-align: right;\">5</td><td style = \"text-align: right;\">9</td><td style = \"text-align: right;\">6</td><td style = \"text-align: right;\">10</td><td style = \"text-align: right;\">7</td><td style = \"text-align: right;\">9</td><td style = \"text-align: right;\">6</td><td style = \"text-align: right;\">1</td><td style = \"text-align: right;\">3</td><td style = \"text-align: right;\">10</td><td style = \"text-align: right;\">&ctdot;</td></tr><tr><td class = \"rowNumber\" style = \"font-weight: bold; text-align: right;\">9</td><td style = \"text-align: right;\">2</td><td style = \"text-align: right;\">5</td><td style = \"text-align: right;\">10</td><td style = \"text-align: right;\">5</td><td style = \"text-align: right;\">7</td><td style = \"text-align: right;\">2</td><td style = \"text-align: right;\">7</td><td style = \"text-align: right;\">5</td><td style = \"text-align: right;\">5</td><td style = \"text-align: right;\">10</td><td style = \"text-align: right;\">9</td><td style = \"text-align: right;\">7</td><td style = \"text-align: right;\">7</td><td style = \"text-align: right;\">10</td><td style = \"text-align: right;\">4</td><td style = \"text-align: right;\">6</td><td style = \"text-align: right;\">1</td><td style = \"text-align: right;\">7</td><td style = \"text-align: right;\">4</td><td style = \"text-align: right;\">9</td><td style = \"text-align: right;\">8</td><td style = \"text-align: right;\">8</td><td style = \"text-align: right;\">6</td><td style = \"text-align: right;\">1</td><td style = \"text-align: right;\">9</td><td style = \"text-align: right;\">3</td><td style = \"text-align: right;\">3</td><td style = \"text-align: right;\">10</td><td style = \"text-align: right;\">2</td><td style = \"text-align: right;\">4</td><td style = \"text-align: right;\">8</td><td style = \"text-align: right;\">1</td><td style = \"text-align: right;\">3</td><td style = \"text-align: right;\">9</td><td style = \"text-align: right;\">8</td><td style = \"text-align: right;\">6</td><td style = \"text-align: right;\">2</td><td style = \"text-align: right;\">7</td><td style = \"text-align: right;\">10</td><td style = \"text-align: right;\">10</td><td style = \"text-align: right;\">1</td><td style = \"text-align: right;\">1</td><td style = \"text-align: right;\">7</td><td style = \"text-align: right;\">4</td><td style = \"text-align: right;\">4</td><td style = \"text-align: right;\">7</td><td style = \"text-align: right;\">3</td><td style = \"text-align: right;\">4</td><td style = \"text-align: right;\">6</td><td style = \"text-align: right;\">2</td><td style = \"text-align: right;\">9</td><td style = \"text-align: right;\">8</td><td style = \"text-align: right;\">3</td><td style = \"text-align: right;\">3</td><td style = \"text-align: right;\">4</td><td style = \"text-align: right;\">7</td><td style = \"text-align: right;\">8</td><td style = \"text-align: right;\">3</td><td style = \"text-align: right;\">6</td><td style = \"text-align: right;\">8</td><td style = \"text-align: right;\">2</td><td style = \"text-align: right;\">2</td><td style = \"text-align: right;\">1</td><td style = \"text-align: right;\">2</td><td style = \"text-align: right;\">2</td><td style = \"text-align: right;\">9</td><td style = \"text-align: right;\">1</td><td style = \"text-align: right;\">9</td><td style = \"text-align: right;\">10</td><td style = \"text-align: right;\">10</td><td style = \"text-align: right;\">8</td><td style = \"text-align: right;\">8</td><td style = \"text-align: right;\">8</td><td style = \"text-align: right;\">3</td><td style = \"text-align: right;\">5</td><td style = \"text-align: right;\">5</td><td style = \"text-align: right;\">5</td><td style = \"text-align: right;\">2</td><td style = \"text-align: right;\">10</td><td style = \"text-align: right;\">7</td><td style = \"text-align: right;\">5</td><td style = \"text-align: right;\">3</td><td style = \"text-align: right;\">9</td><td style = \"text-align: right;\">2</td><td style = \"text-align: right;\">9</td><td style = \"text-align: right;\">5</td><td style = \"text-align: right;\">9</td><td style = \"text-align: right;\">7</td><td style = \"text-align: right;\">1</td><td style = \"text-align: right;\">3</td><td style = \"text-align: right;\">3</td><td style = \"text-align: right;\">7</td><td style = \"text-align: right;\">7</td><td style = \"text-align: right;\">9</td><td style = \"text-align: right;\">8</td><td style = \"text-align: right;\">8</td><td style = \"text-align: right;\">6</td><td style = \"text-align: right;\">7</td><td style = \"text-align: right;\">2</td><td style = \"text-align: right;\">8</td><td style = \"text-align: right;\">&ctdot;</td></tr><tr><td class = \"rowNumber\" style = \"font-weight: bold; text-align: right;\">10</td><td style = \"text-align: right;\">4</td><td style = \"text-align: right;\">2</td><td style = \"text-align: right;\">7</td><td style = \"text-align: right;\">2</td><td style = \"text-align: right;\">4</td><td style = \"text-align: right;\">4</td><td style = \"text-align: right;\">5</td><td style = \"text-align: right;\">4</td><td style = \"text-align: right;\">5</td><td style = \"text-align: right;\">8</td><td style = \"text-align: right;\">2</td><td style = \"text-align: right;\">6</td><td style = \"text-align: right;\">7</td><td style = \"text-align: right;\">3</td><td style = \"text-align: right;\">9</td><td style = \"text-align: right;\">5</td><td style = \"text-align: right;\">3</td><td style = \"text-align: right;\">1</td><td style = \"text-align: right;\">5</td><td style = \"text-align: right;\">4</td><td style = \"text-align: right;\">2</td><td style = \"text-align: right;\">4</td><td style = \"text-align: right;\">6</td><td style = \"text-align: right;\">10</td><td style = \"text-align: right;\">9</td><td style = \"text-align: right;\">6</td><td style = \"text-align: right;\">2</td><td style = \"text-align: right;\">3</td><td style = \"text-align: right;\">2</td><td style = \"text-align: right;\">2</td><td style = \"text-align: right;\">9</td><td style = \"text-align: right;\">10</td><td style = \"text-align: right;\">3</td><td style = \"text-align: right;\">4</td><td style = \"text-align: right;\">5</td><td style = \"text-align: right;\">8</td><td style = \"text-align: right;\">8</td><td style = \"text-align: right;\">4</td><td style = \"text-align: right;\">6</td><td style = \"text-align: right;\">2</td><td style = \"text-align: right;\">6</td><td style = \"text-align: right;\">9</td><td style = \"text-align: right;\">4</td><td style = \"text-align: right;\">6</td><td style = \"text-align: right;\">3</td><td style = \"text-align: right;\">4</td><td style = \"text-align: right;\">8</td><td style = \"text-align: right;\">9</td><td style = \"text-align: right;\">1</td><td style = \"text-align: right;\">4</td><td style = \"text-align: right;\">10</td><td style = \"text-align: right;\">4</td><td style = \"text-align: right;\">2</td><td style = \"text-align: right;\">10</td><td style = \"text-align: right;\">10</td><td style = \"text-align: right;\">4</td><td style = \"text-align: right;\">3</td><td style = \"text-align: right;\">7</td><td style = \"text-align: right;\">9</td><td style = \"text-align: right;\">7</td><td style = \"text-align: right;\">8</td><td style = \"text-align: right;\">1</td><td style = \"text-align: right;\">7</td><td style = \"text-align: right;\">4</td><td style = \"text-align: right;\">3</td><td style = \"text-align: right;\">1</td><td style = \"text-align: right;\">3</td><td style = \"text-align: right;\">7</td><td style = \"text-align: right;\">2</td><td style = \"text-align: right;\">3</td><td style = \"text-align: right;\">10</td><td style = \"text-align: right;\">1</td><td style = \"text-align: right;\">10</td><td style = \"text-align: right;\">10</td><td style = \"text-align: right;\">9</td><td style = \"text-align: right;\">1</td><td style = \"text-align: right;\">9</td><td style = \"text-align: right;\">4</td><td style = \"text-align: right;\">4</td><td style = \"text-align: right;\">9</td><td style = \"text-align: right;\">3</td><td style = \"text-align: right;\">1</td><td style = \"text-align: right;\">7</td><td style = \"text-align: right;\">2</td><td style = \"text-align: right;\">9</td><td style = \"text-align: right;\">5</td><td style = \"text-align: right;\">2</td><td style = \"text-align: right;\">5</td><td style = \"text-align: right;\">7</td><td style = \"text-align: right;\">2</td><td style = \"text-align: right;\">6</td><td style = \"text-align: right;\">10</td><td style = \"text-align: right;\">10</td><td style = \"text-align: right;\">3</td><td style = \"text-align: right;\">10</td><td style = \"text-align: right;\">9</td><td style = \"text-align: right;\">7</td><td style = \"text-align: right;\">1</td><td style = \"text-align: right;\">4</td><td style = \"text-align: right;\">10</td><td style = \"text-align: right;\">&ctdot;</td></tr></tbody></table></div>"
      ],
      "text/latex": [
       "\\begin{tabular}{r|ccccccccccccc}\n",
       "\t& x1 & x2 & x3 & x4 & x5 & x6 & x7 & x8 & x9 & x10 & x11 & x12 & \\\\\n",
       "\t\\hline\n",
       "\t& Int64 & Int64 & Int64 & Int64 & Int64 & Int64 & Int64 & Int64 & Int64 & Int64 & Int64 & Int64 & \\\\\n",
       "\t\\hline\n",
       "\t1 & 10 & 8 & 3 & 2 & 7 & 2 & 2 & 3 & 6 & 10 & 5 & 5 & $\\dots$ \\\\\n",
       "\t2 & 9 & 3 & 9 & 7 & 2 & 8 & 1 & 4 & 8 & 1 & 4 & 3 & $\\dots$ \\\\\n",
       "\t3 & 8 & 8 & 9 & 6 & 10 & 6 & 1 & 5 & 3 & 3 & 4 & 5 & $\\dots$ \\\\\n",
       "\t4 & 9 & 5 & 7 & 10 & 4 & 4 & 1 & 3 & 9 & 1 & 2 & 10 & $\\dots$ \\\\\n",
       "\t5 & 5 & 3 & 3 & 6 & 2 & 4 & 4 & 4 & 1 & 4 & 4 & 8 & $\\dots$ \\\\\n",
       "\t6 & 8 & 4 & 5 & 9 & 1 & 7 & 4 & 2 & 4 & 4 & 1 & 8 & $\\dots$ \\\\\n",
       "\t7 & 7 & 2 & 10 & 2 & 10 & 4 & 8 & 6 & 9 & 2 & 4 & 6 & $\\dots$ \\\\\n",
       "\t8 & 7 & 8 & 1 & 8 & 1 & 8 & 2 & 7 & 6 & 8 & 7 & 3 & $\\dots$ \\\\\n",
       "\t9 & 2 & 5 & 10 & 5 & 7 & 2 & 7 & 5 & 5 & 10 & 9 & 7 & $\\dots$ \\\\\n",
       "\t10 & 4 & 2 & 7 & 2 & 4 & 4 & 5 & 4 & 5 & 8 & 2 & 6 & $\\dots$ \\\\\n",
       "\\end{tabular}\n"
      ],
      "text/plain": [
       "\u001b[1m10×1000 DataFrame\u001b[0m\n",
       "\u001b[1m Row \u001b[0m│\u001b[1m x1    \u001b[0m\u001b[1m x2    \u001b[0m\u001b[1m x3    \u001b[0m\u001b[1m x4    \u001b[0m\u001b[1m x5    \u001b[0m\u001b[1m x6    \u001b[0m\u001b[1m x7    \u001b[0m\u001b[1m x8    \u001b[0m\u001b[1m x9    \u001b[0m\u001b[1m x10   \u001b[0m\u001b[1m x\u001b[0m ⋯\n",
       "     │\u001b[90m Int64 \u001b[0m\u001b[90m Int64 \u001b[0m\u001b[90m Int64 \u001b[0m\u001b[90m Int64 \u001b[0m\u001b[90m Int64 \u001b[0m\u001b[90m Int64 \u001b[0m\u001b[90m Int64 \u001b[0m\u001b[90m Int64 \u001b[0m\u001b[90m Int64 \u001b[0m\u001b[90m Int64 \u001b[0m\u001b[90m I\u001b[0m ⋯\n",
       "─────┼──────────────────────────────────────────────────────────────────────────\n",
       "   1 │    10      8      3      2      7      2      2      3      6     10    ⋯\n",
       "   2 │     9      3      9      7      2      8      1      4      8      1\n",
       "   3 │     8      8      9      6     10      6      1      5      3      3\n",
       "   4 │     9      5      7     10      4      4      1      3      9      1\n",
       "   5 │     5      3      3      6      2      4      4      4      1      4    ⋯\n",
       "   6 │     8      4      5      9      1      7      4      2      4      4\n",
       "   7 │     7      2     10      2     10      4      8      6      9      2\n",
       "   8 │     7      8      1      8      1      8      2      7      6      8\n",
       "   9 │     2      5     10      5      7      2      7      5      5     10    ⋯\n",
       "  10 │     4      2      7      2      4      4      5      4      5      8\n",
       "\u001b[36m                                                             990 columns omitted\u001b[0m"
      ]
     },
     "execution_count": 46,
     "metadata": {},
     "output_type": "execute_result"
    }
   ],
   "source": [
    "df2 = CSV.File(transcode(GzipDecompressor, Mmap.mmap(\"df_compress_test.csv.gz\"))) |> DataFrame"
   ]
  },
  {
   "cell_type": "code",
   "execution_count": 47,
   "metadata": {},
   "outputs": [
    {
     "data": {
      "text/plain": [
       "true"
      ]
     },
     "execution_count": 47,
     "metadata": {},
     "output_type": "execute_result"
    }
   ],
   "source": [
    "df == df2"
   ]
  },
  {
   "cell_type": "markdown",
   "metadata": {},
   "source": [
    "### Using zip files"
   ]
  },
  {
   "cell_type": "markdown",
   "metadata": {},
   "source": [
    "Sometimes you may have files compressed inside a zip file.\n",
    "\n",
    "In such a situation you may use [ZipFile.jl](https://github.com/fhs/ZipFile.jl) in conjunction an an appropriate reader to read the files."
   ]
  },
  {
   "cell_type": "markdown",
   "metadata": {},
   "source": [
    "Here we first create a ZIP file and then read back its contents into a `DataFrame`."
   ]
  },
  {
   "cell_type": "code",
   "execution_count": 48,
   "metadata": {},
   "outputs": [
    {
     "data": {
      "text/html": [
       "<div><div style = \"float: left;\"><span>3×4 DataFrame</span></div><div style = \"clear: both;\"></div></div><div class = \"data-frame\" style = \"overflow-x: scroll;\"><table class = \"data-frame\" style = \"margin-bottom: 6px;\"><thead><tr class = \"header\"><th class = \"rowNumber\" style = \"font-weight: bold; text-align: right;\">Row</th><th style = \"text-align: left;\">x1</th><th style = \"text-align: left;\">x2</th><th style = \"text-align: left;\">x3</th><th style = \"text-align: left;\">x4</th></tr><tr class = \"subheader headerLastRow\"><th class = \"rowNumber\" style = \"font-weight: bold; text-align: right;\"></th><th title = \"Int64\" style = \"text-align: left;\">Int64</th><th title = \"Int64\" style = \"text-align: left;\">Int64</th><th title = \"Int64\" style = \"text-align: left;\">Int64</th><th title = \"Int64\" style = \"text-align: left;\">Int64</th></tr></thead><tbody><tr><td class = \"rowNumber\" style = \"font-weight: bold; text-align: right;\">1</td><td style = \"text-align: right;\">10</td><td style = \"text-align: right;\">9</td><td style = \"text-align: right;\">6</td><td style = \"text-align: right;\">2</td></tr><tr><td class = \"rowNumber\" style = \"font-weight: bold; text-align: right;\">2</td><td style = \"text-align: right;\">9</td><td style = \"text-align: right;\">10</td><td style = \"text-align: right;\">10</td><td style = \"text-align: right;\">10</td></tr><tr><td class = \"rowNumber\" style = \"font-weight: bold; text-align: right;\">3</td><td style = \"text-align: right;\">4</td><td style = \"text-align: right;\">9</td><td style = \"text-align: right;\">6</td><td style = \"text-align: right;\">3</td></tr></tbody></table></div>"
      ],
      "text/latex": [
       "\\begin{tabular}{r|cccc}\n",
       "\t& x1 & x2 & x3 & x4\\\\\n",
       "\t\\hline\n",
       "\t& Int64 & Int64 & Int64 & Int64\\\\\n",
       "\t\\hline\n",
       "\t1 & 10 & 9 & 6 & 2 \\\\\n",
       "\t2 & 9 & 10 & 10 & 10 \\\\\n",
       "\t3 & 4 & 9 & 6 & 3 \\\\\n",
       "\\end{tabular}\n"
      ],
      "text/plain": [
       "\u001b[1m3×4 DataFrame\u001b[0m\n",
       "\u001b[1m Row \u001b[0m│\u001b[1m x1    \u001b[0m\u001b[1m x2    \u001b[0m\u001b[1m x3    \u001b[0m\u001b[1m x4    \u001b[0m\n",
       "     │\u001b[90m Int64 \u001b[0m\u001b[90m Int64 \u001b[0m\u001b[90m Int64 \u001b[0m\u001b[90m Int64 \u001b[0m\n",
       "─────┼────────────────────────────\n",
       "   1 │    10      9      6      2\n",
       "   2 │     9     10     10     10\n",
       "   3 │     4      9      6      3"
      ]
     },
     "execution_count": 48,
     "metadata": {},
     "output_type": "execute_result"
    }
   ],
   "source": [
    "df1 = DataFrame(rand(1:10, 3, 4), :auto)"
   ]
  },
  {
   "cell_type": "code",
   "execution_count": 49,
   "metadata": {},
   "outputs": [
    {
     "data": {
      "text/html": [
       "<div><div style = \"float: left;\"><span>3×4 DataFrame</span></div><div style = \"clear: both;\"></div></div><div class = \"data-frame\" style = \"overflow-x: scroll;\"><table class = \"data-frame\" style = \"margin-bottom: 6px;\"><thead><tr class = \"header\"><th class = \"rowNumber\" style = \"font-weight: bold; text-align: right;\">Row</th><th style = \"text-align: left;\">x1</th><th style = \"text-align: left;\">x2</th><th style = \"text-align: left;\">x3</th><th style = \"text-align: left;\">x4</th></tr><tr class = \"subheader headerLastRow\"><th class = \"rowNumber\" style = \"font-weight: bold; text-align: right;\"></th><th title = \"Int64\" style = \"text-align: left;\">Int64</th><th title = \"Int64\" style = \"text-align: left;\">Int64</th><th title = \"Int64\" style = \"text-align: left;\">Int64</th><th title = \"Int64\" style = \"text-align: left;\">Int64</th></tr></thead><tbody><tr><td class = \"rowNumber\" style = \"font-weight: bold; text-align: right;\">1</td><td style = \"text-align: right;\">9</td><td style = \"text-align: right;\">10</td><td style = \"text-align: right;\">9</td><td style = \"text-align: right;\">2</td></tr><tr><td class = \"rowNumber\" style = \"font-weight: bold; text-align: right;\">2</td><td style = \"text-align: right;\">5</td><td style = \"text-align: right;\">4</td><td style = \"text-align: right;\">6</td><td style = \"text-align: right;\">4</td></tr><tr><td class = \"rowNumber\" style = \"font-weight: bold; text-align: right;\">3</td><td style = \"text-align: right;\">7</td><td style = \"text-align: right;\">6</td><td style = \"text-align: right;\">9</td><td style = \"text-align: right;\">3</td></tr></tbody></table></div>"
      ],
      "text/latex": [
       "\\begin{tabular}{r|cccc}\n",
       "\t& x1 & x2 & x3 & x4\\\\\n",
       "\t\\hline\n",
       "\t& Int64 & Int64 & Int64 & Int64\\\\\n",
       "\t\\hline\n",
       "\t1 & 9 & 10 & 9 & 2 \\\\\n",
       "\t2 & 5 & 4 & 6 & 4 \\\\\n",
       "\t3 & 7 & 6 & 9 & 3 \\\\\n",
       "\\end{tabular}\n"
      ],
      "text/plain": [
       "\u001b[1m3×4 DataFrame\u001b[0m\n",
       "\u001b[1m Row \u001b[0m│\u001b[1m x1    \u001b[0m\u001b[1m x2    \u001b[0m\u001b[1m x3    \u001b[0m\u001b[1m x4    \u001b[0m\n",
       "     │\u001b[90m Int64 \u001b[0m\u001b[90m Int64 \u001b[0m\u001b[90m Int64 \u001b[0m\u001b[90m Int64 \u001b[0m\n",
       "─────┼────────────────────────────\n",
       "   1 │     9     10      9      2\n",
       "   2 │     5      4      6      4\n",
       "   3 │     7      6      9      3"
      ]
     },
     "execution_count": 49,
     "metadata": {},
     "output_type": "execute_result"
    }
   ],
   "source": [
    "df2 = DataFrame(rand(1:10, 3, 4), :auto)"
   ]
  },
  {
   "cell_type": "markdown",
   "metadata": {},
   "source": [
    "And we show yet another way to write a `DataFrame` into a CSV file"
   ]
  },
  {
   "cell_type": "code",
   "execution_count": 50,
   "metadata": {},
   "outputs": [],
   "source": [
    "# write a CSV file into the zip file\n",
    "w = ZipFile.Writer(\"x.zip\")\n",
    "\n",
    "f1 = ZipFile.addfile(w, \"x1.csv\")\n",
    "write(f1, sprint(show, \"text/csv\", df1))\n",
    "\n",
    "# write a second CSV file into zip file\n",
    "f2 = ZipFile.addfile(w, \"x2.csv\", method=ZipFile.Deflate)\n",
    "write(f2, sprint(show, \"text/csv\", df2))\n",
    "\n",
    "close(w)"
   ]
  },
  {
   "cell_type": "markdown",
   "metadata": {},
   "source": [
    "Now we read the CSV we have written:"
   ]
  },
  {
   "cell_type": "code",
   "execution_count": 51,
   "metadata": {},
   "outputs": [],
   "source": [
    "z = ZipFile.Reader(\"x.zip\");"
   ]
  },
  {
   "cell_type": "code",
   "execution_count": 52,
   "metadata": {},
   "outputs": [
    {
     "data": {
      "text/html": [
       "<div><div style = \"float: left;\"><span>3×4 DataFrame</span></div><div style = \"clear: both;\"></div></div><div class = \"data-frame\" style = \"overflow-x: scroll;\"><table class = \"data-frame\" style = \"margin-bottom: 6px;\"><thead><tr class = \"header\"><th class = \"rowNumber\" style = \"font-weight: bold; text-align: right;\">Row</th><th style = \"text-align: left;\">x1</th><th style = \"text-align: left;\">x2</th><th style = \"text-align: left;\">x3</th><th style = \"text-align: left;\">x4</th></tr><tr class = \"subheader headerLastRow\"><th class = \"rowNumber\" style = \"font-weight: bold; text-align: right;\"></th><th title = \"Int64\" style = \"text-align: left;\">Int64</th><th title = \"Int64\" style = \"text-align: left;\">Int64</th><th title = \"Int64\" style = \"text-align: left;\">Int64</th><th title = \"Int64\" style = \"text-align: left;\">Int64</th></tr></thead><tbody><tr><td class = \"rowNumber\" style = \"font-weight: bold; text-align: right;\">1</td><td style = \"text-align: right;\">10</td><td style = \"text-align: right;\">9</td><td style = \"text-align: right;\">6</td><td style = \"text-align: right;\">2</td></tr><tr><td class = \"rowNumber\" style = \"font-weight: bold; text-align: right;\">2</td><td style = \"text-align: right;\">9</td><td style = \"text-align: right;\">10</td><td style = \"text-align: right;\">10</td><td style = \"text-align: right;\">10</td></tr><tr><td class = \"rowNumber\" style = \"font-weight: bold; text-align: right;\">3</td><td style = \"text-align: right;\">4</td><td style = \"text-align: right;\">9</td><td style = \"text-align: right;\">6</td><td style = \"text-align: right;\">3</td></tr></tbody></table></div>"
      ],
      "text/latex": [
       "\\begin{tabular}{r|cccc}\n",
       "\t& x1 & x2 & x3 & x4\\\\\n",
       "\t\\hline\n",
       "\t& Int64 & Int64 & Int64 & Int64\\\\\n",
       "\t\\hline\n",
       "\t1 & 10 & 9 & 6 & 2 \\\\\n",
       "\t2 & 9 & 10 & 10 & 10 \\\\\n",
       "\t3 & 4 & 9 & 6 & 3 \\\\\n",
       "\\end{tabular}\n"
      ],
      "text/plain": [
       "\u001b[1m3×4 DataFrame\u001b[0m\n",
       "\u001b[1m Row \u001b[0m│\u001b[1m x1    \u001b[0m\u001b[1m x2    \u001b[0m\u001b[1m x3    \u001b[0m\u001b[1m x4    \u001b[0m\n",
       "     │\u001b[90m Int64 \u001b[0m\u001b[90m Int64 \u001b[0m\u001b[90m Int64 \u001b[0m\u001b[90m Int64 \u001b[0m\n",
       "─────┼────────────────────────────\n",
       "   1 │    10      9      6      2\n",
       "   2 │     9     10     10     10\n",
       "   3 │     4      9      6      3"
      ]
     },
     "execution_count": 52,
     "metadata": {},
     "output_type": "execute_result"
    }
   ],
   "source": [
    "# find the index index of file called x1.csv\n",
    "index_xcsv = findfirst(x->x.name == \"x1.csv\", z.files)\n",
    "# to read the x1.csv file in the zip file\n",
    "df1_2 = CSV.read(read(z.files[index_xcsv]), DataFrame)"
   ]
  },
  {
   "cell_type": "code",
   "execution_count": 53,
   "metadata": {},
   "outputs": [
    {
     "data": {
      "text/plain": [
       "true"
      ]
     },
     "execution_count": 53,
     "metadata": {},
     "output_type": "execute_result"
    }
   ],
   "source": [
    "df1_2 == df1"
   ]
  },
  {
   "cell_type": "code",
   "execution_count": 54,
   "metadata": {},
   "outputs": [
    {
     "data": {
      "text/html": [
       "<div><div style = \"float: left;\"><span>3×4 DataFrame</span></div><div style = \"clear: both;\"></div></div><div class = \"data-frame\" style = \"overflow-x: scroll;\"><table class = \"data-frame\" style = \"margin-bottom: 6px;\"><thead><tr class = \"header\"><th class = \"rowNumber\" style = \"font-weight: bold; text-align: right;\">Row</th><th style = \"text-align: left;\">x1</th><th style = \"text-align: left;\">x2</th><th style = \"text-align: left;\">x3</th><th style = \"text-align: left;\">x4</th></tr><tr class = \"subheader headerLastRow\"><th class = \"rowNumber\" style = \"font-weight: bold; text-align: right;\"></th><th title = \"Int64\" style = \"text-align: left;\">Int64</th><th title = \"Int64\" style = \"text-align: left;\">Int64</th><th title = \"Int64\" style = \"text-align: left;\">Int64</th><th title = \"Int64\" style = \"text-align: left;\">Int64</th></tr></thead><tbody><tr><td class = \"rowNumber\" style = \"font-weight: bold; text-align: right;\">1</td><td style = \"text-align: right;\">9</td><td style = \"text-align: right;\">10</td><td style = \"text-align: right;\">9</td><td style = \"text-align: right;\">2</td></tr><tr><td class = \"rowNumber\" style = \"font-weight: bold; text-align: right;\">2</td><td style = \"text-align: right;\">5</td><td style = \"text-align: right;\">4</td><td style = \"text-align: right;\">6</td><td style = \"text-align: right;\">4</td></tr><tr><td class = \"rowNumber\" style = \"font-weight: bold; text-align: right;\">3</td><td style = \"text-align: right;\">7</td><td style = \"text-align: right;\">6</td><td style = \"text-align: right;\">9</td><td style = \"text-align: right;\">3</td></tr></tbody></table></div>"
      ],
      "text/latex": [
       "\\begin{tabular}{r|cccc}\n",
       "\t& x1 & x2 & x3 & x4\\\\\n",
       "\t\\hline\n",
       "\t& Int64 & Int64 & Int64 & Int64\\\\\n",
       "\t\\hline\n",
       "\t1 & 9 & 10 & 9 & 2 \\\\\n",
       "\t2 & 5 & 4 & 6 & 4 \\\\\n",
       "\t3 & 7 & 6 & 9 & 3 \\\\\n",
       "\\end{tabular}\n"
      ],
      "text/plain": [
       "\u001b[1m3×4 DataFrame\u001b[0m\n",
       "\u001b[1m Row \u001b[0m│\u001b[1m x1    \u001b[0m\u001b[1m x2    \u001b[0m\u001b[1m x3    \u001b[0m\u001b[1m x4    \u001b[0m\n",
       "     │\u001b[90m Int64 \u001b[0m\u001b[90m Int64 \u001b[0m\u001b[90m Int64 \u001b[0m\u001b[90m Int64 \u001b[0m\n",
       "─────┼────────────────────────────\n",
       "   1 │     9     10      9      2\n",
       "   2 │     5      4      6      4\n",
       "   3 │     7      6      9      3"
      ]
     },
     "execution_count": 54,
     "metadata": {},
     "output_type": "execute_result"
    }
   ],
   "source": [
    "# find the index index of file called x2.csv\n",
    "index_xcsv = findfirst(x->x.name == \"x2.csv\", z.files)\n",
    "# to read the x2.csv file in the zip file\n",
    "df2_2 = CSV.read(read(z.files[index_xcsv]), DataFrame)"
   ]
  },
  {
   "cell_type": "code",
   "execution_count": 55,
   "metadata": {},
   "outputs": [
    {
     "data": {
      "text/plain": [
       "true"
      ]
     },
     "execution_count": 55,
     "metadata": {},
     "output_type": "execute_result"
    }
   ],
   "source": [
    "df2_2 == df2"
   ]
  },
  {
   "cell_type": "markdown",
   "metadata": {},
   "source": [
    "Note that once you read a given file from `z` object its stream is all used-up (it is at its end). Therefore to read it again you need to close `z` and open it again.\n",
    "\n",
    "Also do not forget to close the zip file once done."
   ]
  },
  {
   "cell_type": "code",
   "execution_count": 56,
   "metadata": {},
   "outputs": [],
   "source": [
    "close(z)"
   ]
  },
  {
   "cell_type": "markdown",
   "metadata": {},
   "source": [
    "Finally, let's clean up. Do not run the next cell unless you are sure that it will not erase your important files."
   ]
  },
  {
   "cell_type": "code",
   "execution_count": 57,
   "metadata": {},
   "outputs": [],
   "source": [
    "foreach(rm, [\"x1.csv\", \"x.bin\", \"x.jlso\", \"x1.json\", \"x2.json\",\n",
    "             \"bigdf1.csv\", \"bigdf.bin\", \"bigdf.jlso\", \"bigdf1.json\", \"bigdf2.json\", \n",
    "             \"x.zip\"])"
   ]
  },
  {
   "cell_type": "code",
   "execution_count": 58,
   "metadata": {},
   "outputs": [],
   "source": [
    "rm(\"bigdf.jdf\", recursive=true)\n",
    "rm(\"x.jdf\", recursive=true)"
   ]
  },
  {
   "cell_type": "markdown",
   "metadata": {},
   "source": [
    "Note that we did not remove `x.arrow` and `bigdf.arrow` and `df_compress_test.csv.gz` - you have to do it manually, as these files are memory mapped."
   ]
  }
 ],
 "metadata": {
  "@webio": {
   "lastCommId": null,
   "lastKernelId": null
  },
  "kernelspec": {
   "display_name": "Julia 1.8.2",
   "language": "julia",
   "name": "julia-1.8"
  },
  "language_info": {
   "file_extension": ".jl",
   "mimetype": "application/julia",
   "name": "julia",
   "version": "1.8.2"
  }
 },
 "nbformat": 4,
 "nbformat_minor": 4
}
