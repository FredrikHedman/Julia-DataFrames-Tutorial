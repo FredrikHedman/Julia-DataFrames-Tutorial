{
 "cells": [
  {
   "cell_type": "markdown",
   "metadata": {},
   "source": [
    "# Introduction to DataFrames\n",
    "**[Bogumił Kamiński](http://bogumilkaminski.pl/about/), December 12, 2021**"
   ]
  },
  {
   "cell_type": "code",
   "execution_count": 1,
   "metadata": {},
   "outputs": [],
   "source": [
    "using DataFrames"
   ]
  },
  {
   "cell_type": "markdown",
   "metadata": {},
   "source": [
    "## Load and save DataFrames\n",
    "We do not cover all features of the packages. Please refer to their documentation to learn them.\n",
    "\n",
    "Here we'll load CSV.jl to read and write CSV files and Arrow.jl, JLSO.jl, and serialization, which allow us to work with a binary format and JSONTables.jl for JSON interaction. Finally we consider a custom JDF.jl format."
   ]
  },
  {
   "cell_type": "code",
   "execution_count": 2,
   "metadata": {},
   "outputs": [],
   "source": [
    "using Arrow\n",
    "using CSV\n",
    "using Serialization\n",
    "using JLSO\n",
    "using JSONTables\n",
    "using CodecZlib\n",
    "using ZipFile\n",
    "using JDF\n",
    "using StatsPlots # for charts\n",
    "using Mmap # for compression"
   ]
  },
  {
   "cell_type": "markdown",
   "metadata": {},
   "source": [
    "Let's create a simple `DataFrame` for testing purposes,"
   ]
  },
  {
   "cell_type": "code",
   "execution_count": 3,
   "metadata": {},
   "outputs": [
    {
     "data": {
      "text/html": [
       "<div class=\"data-frame\"><p>3 rows × 4 columns</p><table class=\"data-frame\"><thead><tr><th></th><th>A</th><th>B</th><th>C</th><th>D</th></tr><tr><th></th><th title=\"Bool\">Bool</th><th title=\"Union{Missing, Int64}\">Int64?</th><th title=\"Union{Missing, String}\">String?</th><th title=\"Union{Missing, Char}\">Char?</th></tr></thead><tbody><tr><th>1</th><td>1</td><td>1</td><td><em>missing</em></td><td>a</td></tr><tr><th>2</th><td>0</td><td>2</td><td>b</td><td><em>missing</em></td></tr><tr><th>3</th><td>1</td><td><em>missing</em></td><td>c</td><td>c</td></tr></tbody></table></div>"
      ],
      "text/latex": [
       "\\begin{tabular}{r|cccc}\n",
       "\t& A & B & C & D\\\\\n",
       "\t\\hline\n",
       "\t& Bool & Int64? & String? & Char?\\\\\n",
       "\t\\hline\n",
       "\t1 & 1 & 1 & \\emph{missing} & a \\\\\n",
       "\t2 & 0 & 2 & b & \\emph{missing} \\\\\n",
       "\t3 & 1 & \\emph{missing} & c & c \\\\\n",
       "\\end{tabular}\n"
      ],
      "text/plain": [
       "\u001b[1m3×4 DataFrame\u001b[0m\n",
       "\u001b[1m Row \u001b[0m│\u001b[1m A     \u001b[0m\u001b[1m B       \u001b[0m\u001b[1m C       \u001b[0m\u001b[1m D       \u001b[0m\n",
       "\u001b[1m     \u001b[0m│\u001b[90m Bool  \u001b[0m\u001b[90m Int64?  \u001b[0m\u001b[90m String? \u001b[0m\u001b[90m Char?   \u001b[0m\n",
       "─────┼──────────────────────────────────\n",
       "   1 │  true        1 \u001b[90m missing \u001b[0m a\n",
       "   2 │ false        2  b       \u001b[90m missing \u001b[0m\n",
       "   3 │  true \u001b[90m missing \u001b[0m c        c"
      ]
     },
     "execution_count": 3,
     "metadata": {},
     "output_type": "execute_result"
    }
   ],
   "source": [
    "x = DataFrame(A=[true, false, true], B=[1, 2, missing],\n",
    "              C=[missing, \"b\", \"c\"], D=['a', missing, 'c'])"
   ]
  },
  {
   "cell_type": "markdown",
   "metadata": {},
   "source": [
    "and use `eltypes` to look at the columnwise types."
   ]
  },
  {
   "cell_type": "code",
   "execution_count": 4,
   "metadata": {},
   "outputs": [
    {
     "data": {
      "text/plain": [
       "4-element Vector{Type}:\n",
       " Bool\n",
       " Union{Missing, Int64}\n",
       " Union{Missing, String}\n",
       " Union{Missing, Char}"
      ]
     },
     "execution_count": 4,
     "metadata": {},
     "output_type": "execute_result"
    }
   ],
   "source": [
    "eltype.(eachcol(x))"
   ]
  },
  {
   "cell_type": "markdown",
   "metadata": {},
   "source": [
    "### CSV.jl"
   ]
  },
  {
   "cell_type": "markdown",
   "metadata": {},
   "source": [
    "Let's use `CSV` to save `x` to disk; make sure `x1.csv` does not conflict with some file in your working directory."
   ]
  },
  {
   "cell_type": "code",
   "execution_count": 5,
   "metadata": {},
   "outputs": [
    {
     "data": {
      "text/plain": [
       "\"x1.csv\""
      ]
     },
     "execution_count": 5,
     "metadata": {},
     "output_type": "execute_result"
    }
   ],
   "source": [
    "CSV.write(\"x1.csv\", x)"
   ]
  },
  {
   "cell_type": "markdown",
   "metadata": {},
   "source": [
    "Now we can see how it was saved by reading `x.csv`."
   ]
  },
  {
   "cell_type": "code",
   "execution_count": 6,
   "metadata": {},
   "outputs": [
    {
     "name": "stdout",
     "output_type": "stream",
     "text": [
      "A,B,C,D\n",
      "true,1,,a\n",
      "false,2,b,\n",
      "true,,c,c\n"
     ]
    }
   ],
   "source": [
    "print(read(\"x1.csv\", String))"
   ]
  },
  {
   "cell_type": "markdown",
   "metadata": {},
   "source": [
    "We can also load it back."
   ]
  },
  {
   "cell_type": "code",
   "execution_count": 7,
   "metadata": {},
   "outputs": [
    {
     "data": {
      "text/html": [
       "<div class=\"data-frame\"><p>3 rows × 4 columns</p><table class=\"data-frame\"><thead><tr><th></th><th>A</th><th>B</th><th>C</th><th>D</th></tr><tr><th></th><th title=\"Bool\">Bool</th><th title=\"Union{Missing, Int64}\">Int64?</th><th title=\"Union{Missing, String1}\">String1?</th><th title=\"Union{Missing, String1}\">String1?</th></tr></thead><tbody><tr><th>1</th><td>1</td><td>1</td><td><em>missing</em></td><td>a</td></tr><tr><th>2</th><td>0</td><td>2</td><td>b</td><td><em>missing</em></td></tr><tr><th>3</th><td>1</td><td><em>missing</em></td><td>c</td><td>c</td></tr></tbody></table></div>"
      ],
      "text/latex": [
       "\\begin{tabular}{r|cccc}\n",
       "\t& A & B & C & D\\\\\n",
       "\t\\hline\n",
       "\t& Bool & Int64? & String1? & String1?\\\\\n",
       "\t\\hline\n",
       "\t1 & 1 & 1 & \\emph{missing} & a \\\\\n",
       "\t2 & 0 & 2 & b & \\emph{missing} \\\\\n",
       "\t3 & 1 & \\emph{missing} & c & c \\\\\n",
       "\\end{tabular}\n"
      ],
      "text/plain": [
       "\u001b[1m3×4 DataFrame\u001b[0m\n",
       "\u001b[1m Row \u001b[0m│\u001b[1m A     \u001b[0m\u001b[1m B       \u001b[0m\u001b[1m C        \u001b[0m\u001b[1m D        \u001b[0m\n",
       "\u001b[1m     \u001b[0m│\u001b[90m Bool  \u001b[0m\u001b[90m Int64?  \u001b[0m\u001b[90m String1? \u001b[0m\u001b[90m String1? \u001b[0m\n",
       "─────┼────────────────────────────────────\n",
       "   1 │  true        1 \u001b[90m missing  \u001b[0m a\n",
       "   2 │ false        2  b        \u001b[90m missing  \u001b[0m\n",
       "   3 │  true \u001b[90m missing \u001b[0m c         c"
      ]
     },
     "execution_count": 7,
     "metadata": {},
     "output_type": "execute_result"
    }
   ],
   "source": [
    "y = CSV.read(\"x1.csv\", DataFrame)"
   ]
  },
  {
   "cell_type": "markdown",
   "metadata": {},
   "source": [
    "Note that when loading in a `DataFrame` from a `CSV` the column type for columns `:C` `:D` have changed to use special strings defined in the InlineStrings.jl package."
   ]
  },
  {
   "cell_type": "code",
   "execution_count": 8,
   "metadata": {},
   "outputs": [
    {
     "data": {
      "text/plain": [
       "4-element Vector{Type}:\n",
       " Bool\n",
       " Union{Missing, Int64}\n",
       " Union{Missing, String1}\n",
       " Union{Missing, String1}"
      ]
     },
     "execution_count": 8,
     "metadata": {},
     "output_type": "execute_result"
    }
   ],
   "source": [
    "eltype.(eachcol(y))"
   ]
  },
  {
   "cell_type": "markdown",
   "metadata": {},
   "source": [
    "### Serialization, JDF.jl, and JLSO.jl\n",
    "\n",
    "#### Serialization"
   ]
  },
  {
   "cell_type": "markdown",
   "metadata": {},
   "source": [
    "Now we use serialization to save `x`.\n",
    "\n",
    "There are two ways to perform serialization. The first way is to use the `Serialization.serialize` as below:"
   ]
  },
  {
   "cell_type": "markdown",
   "metadata": {},
   "source": [
    "Note that in general, this process will not work if the reading and writing are done by different versions of Julia, or an instance of Julia with a different system image."
   ]
  },
  {
   "cell_type": "code",
   "execution_count": 9,
   "metadata": {},
   "outputs": [],
   "source": [
    "open(\"x.bin\", \"w\") do io\n",
    "    serialize(io, x)\n",
    "end"
   ]
  },
  {
   "cell_type": "markdown",
   "metadata": {},
   "source": [
    "Now we load back the saved file to `y` variable. Again `y` is identical to `x`. However, please beware that if you session does not have DataFrames.jl loaded, then it may not recognise the content as DataFrames.jl"
   ]
  },
  {
   "cell_type": "code",
   "execution_count": 10,
   "metadata": {},
   "outputs": [
    {
     "data": {
      "text/html": [
       "<div class=\"data-frame\"><p>3 rows × 4 columns</p><table class=\"data-frame\"><thead><tr><th></th><th>A</th><th>B</th><th>C</th><th>D</th></tr><tr><th></th><th title=\"Bool\">Bool</th><th title=\"Union{Missing, Int64}\">Int64?</th><th title=\"Union{Missing, String}\">String?</th><th title=\"Union{Missing, Char}\">Char?</th></tr></thead><tbody><tr><th>1</th><td>1</td><td>1</td><td><em>missing</em></td><td>a</td></tr><tr><th>2</th><td>0</td><td>2</td><td>b</td><td><em>missing</em></td></tr><tr><th>3</th><td>1</td><td><em>missing</em></td><td>c</td><td>c</td></tr></tbody></table></div>"
      ],
      "text/latex": [
       "\\begin{tabular}{r|cccc}\n",
       "\t& A & B & C & D\\\\\n",
       "\t\\hline\n",
       "\t& Bool & Int64? & String? & Char?\\\\\n",
       "\t\\hline\n",
       "\t1 & 1 & 1 & \\emph{missing} & a \\\\\n",
       "\t2 & 0 & 2 & b & \\emph{missing} \\\\\n",
       "\t3 & 1 & \\emph{missing} & c & c \\\\\n",
       "\\end{tabular}\n"
      ],
      "text/plain": [
       "\u001b[1m3×4 DataFrame\u001b[0m\n",
       "\u001b[1m Row \u001b[0m│\u001b[1m A     \u001b[0m\u001b[1m B       \u001b[0m\u001b[1m C       \u001b[0m\u001b[1m D       \u001b[0m\n",
       "\u001b[1m     \u001b[0m│\u001b[90m Bool  \u001b[0m\u001b[90m Int64?  \u001b[0m\u001b[90m String? \u001b[0m\u001b[90m Char?   \u001b[0m\n",
       "─────┼──────────────────────────────────\n",
       "   1 │  true        1 \u001b[90m missing \u001b[0m a\n",
       "   2 │ false        2  b       \u001b[90m missing \u001b[0m\n",
       "   3 │  true \u001b[90m missing \u001b[0m c        c"
      ]
     },
     "execution_count": 10,
     "metadata": {},
     "output_type": "execute_result"
    }
   ],
   "source": [
    "y = open(deserialize, \"x.bin\")"
   ]
  },
  {
   "cell_type": "code",
   "execution_count": 11,
   "metadata": {},
   "outputs": [
    {
     "data": {
      "text/plain": [
       "4-element Vector{Type}:\n",
       " Bool\n",
       " Union{Missing, Int64}\n",
       " Union{Missing, String}\n",
       " Union{Missing, Char}"
      ]
     },
     "execution_count": 11,
     "metadata": {},
     "output_type": "execute_result"
    }
   ],
   "source": [
    "eltype.(eachcol(y))"
   ]
  },
  {
   "cell_type": "markdown",
   "metadata": {},
   "source": [
    "#### JDF.jl\n",
    "\n",
    "[JDF.jl](https://github.com/xiaodaigh/JDF) is a relatively new package designed to serialize DataFrames. You can save a DataFrame with the `savejdf` function."
   ]
  },
  {
   "cell_type": "code",
   "execution_count": 12,
   "metadata": {},
   "outputs": [],
   "source": [
    "JDF.save(\"x.jdf\", x);"
   ]
  },
  {
   "cell_type": "markdown",
   "metadata": {},
   "source": [
    "To load the saved JDF file, one can use the `loadjdf` function"
   ]
  },
  {
   "cell_type": "code",
   "execution_count": 13,
   "metadata": {},
   "outputs": [
    {
     "data": {
      "text/html": [
       "<div class=\"data-frame\"><p>3 rows × 4 columns</p><table class=\"data-frame\"><thead><tr><th></th><th>A</th><th>B</th><th>C</th><th>D</th></tr><tr><th></th><th title=\"Bool\">Bool</th><th title=\"Union{Missing, Int64}\">Int64?</th><th title=\"Union{Missing, String}\">String?</th><th title=\"Union{Missing, Char}\">Char?</th></tr></thead><tbody><tr><th>1</th><td>1</td><td>1</td><td><em>missing</em></td><td>a</td></tr><tr><th>2</th><td>0</td><td>2</td><td>b</td><td><em>missing</em></td></tr><tr><th>3</th><td>1</td><td><em>missing</em></td><td>c</td><td>c</td></tr></tbody></table></div>"
      ],
      "text/latex": [
       "\\begin{tabular}{r|cccc}\n",
       "\t& A & B & C & D\\\\\n",
       "\t\\hline\n",
       "\t& Bool & Int64? & String? & Char?\\\\\n",
       "\t\\hline\n",
       "\t1 & 1 & 1 & \\emph{missing} & a \\\\\n",
       "\t2 & 0 & 2 & b & \\emph{missing} \\\\\n",
       "\t3 & 1 & \\emph{missing} & c & c \\\\\n",
       "\\end{tabular}\n"
      ],
      "text/plain": [
       "\u001b[1m3×4 DataFrame\u001b[0m\n",
       "\u001b[1m Row \u001b[0m│\u001b[1m A     \u001b[0m\u001b[1m B       \u001b[0m\u001b[1m C       \u001b[0m\u001b[1m D       \u001b[0m\n",
       "\u001b[1m     \u001b[0m│\u001b[90m Bool  \u001b[0m\u001b[90m Int64?  \u001b[0m\u001b[90m String? \u001b[0m\u001b[90m Char?   \u001b[0m\n",
       "─────┼──────────────────────────────────\n",
       "   1 │  true        1 \u001b[90m missing \u001b[0m a\n",
       "   2 │ false        2  b       \u001b[90m missing \u001b[0m\n",
       "   3 │  true \u001b[90m missing \u001b[0m c        c"
      ]
     },
     "execution_count": 13,
     "metadata": {},
     "output_type": "execute_result"
    }
   ],
   "source": [
    "x_loaded = JDF.load(\"x.jdf\") |> DataFrame"
   ]
  },
  {
   "cell_type": "markdown",
   "metadata": {},
   "source": [
    "You can see that they are the same"
   ]
  },
  {
   "cell_type": "code",
   "execution_count": 14,
   "metadata": {},
   "outputs": [
    {
     "data": {
      "text/plain": [
       "true"
      ]
     },
     "execution_count": 14,
     "metadata": {},
     "output_type": "execute_result"
    }
   ],
   "source": [
    "isequal(x_loaded, x)"
   ]
  },
  {
   "cell_type": "markdown",
   "metadata": {},
   "source": [
    "JDF.jl offers the ability to load only certain columns from disk to help with working with large files"
   ]
  },
  {
   "cell_type": "code",
   "execution_count": 15,
   "metadata": {},
   "outputs": [
    {
     "data": {
      "text/plain": [
       "JDFFile{String}(\"x.jdf\")"
      ]
     },
     "execution_count": 15,
     "metadata": {},
     "output_type": "execute_result"
    }
   ],
   "source": [
    "# set up a JDFFile which is a on disk representation of `x` backed by JDF.jl\n",
    "x_ondisk = jdf\"x.jdf\""
   ]
  },
  {
   "cell_type": "markdown",
   "metadata": {},
   "source": [
    "We can see all the names of `x` without loading it into memory"
   ]
  },
  {
   "cell_type": "code",
   "execution_count": 16,
   "metadata": {},
   "outputs": [
    {
     "data": {
      "text/plain": [
       "4-element Vector{Symbol}:\n",
       " :A\n",
       " :B\n",
       " :C\n",
       " :D"
      ]
     },
     "execution_count": 16,
     "metadata": {},
     "output_type": "execute_result"
    }
   ],
   "source": [
    "names(x_ondisk)"
   ]
  },
  {
   "cell_type": "markdown",
   "metadata": {},
   "source": [
    "The below is an example of how to load only columns `:A` and `:D` "
   ]
  },
  {
   "cell_type": "code",
   "execution_count": 17,
   "metadata": {},
   "outputs": [
    {
     "data": {
      "text/html": [
       "<div class=\"data-frame\"><p>3 rows × 2 columns</p><table class=\"data-frame\"><thead><tr><th></th><th>A</th><th>D</th></tr><tr><th></th><th title=\"Bool\">Bool</th><th title=\"Union{Missing, Char}\">Char?</th></tr></thead><tbody><tr><th>1</th><td>1</td><td>a</td></tr><tr><th>2</th><td>0</td><td><em>missing</em></td></tr><tr><th>3</th><td>1</td><td>c</td></tr></tbody></table></div>"
      ],
      "text/latex": [
       "\\begin{tabular}{r|cc}\n",
       "\t& A & D\\\\\n",
       "\t\\hline\n",
       "\t& Bool & Char?\\\\\n",
       "\t\\hline\n",
       "\t1 & 1 & a \\\\\n",
       "\t2 & 0 & \\emph{missing} \\\\\n",
       "\t3 & 1 & c \\\\\n",
       "\\end{tabular}\n"
      ],
      "text/plain": [
       "\u001b[1m3×2 DataFrame\u001b[0m\n",
       "\u001b[1m Row \u001b[0m│\u001b[1m A     \u001b[0m\u001b[1m D       \u001b[0m\n",
       "\u001b[1m     \u001b[0m│\u001b[90m Bool  \u001b[0m\u001b[90m Char?   \u001b[0m\n",
       "─────┼────────────────\n",
       "   1 │  true  a\n",
       "   2 │ false \u001b[90m missing \u001b[0m\n",
       "   3 │  true  c"
      ]
     },
     "execution_count": 17,
     "metadata": {},
     "output_type": "execute_result"
    }
   ],
   "source": [
    "xd = JDF.load(x_ondisk; cols = [\"A\", \"D\"]) |> DataFrame"
   ]
  },
  {
   "cell_type": "markdown",
   "metadata": {},
   "source": [
    "##### JDF.jl vs others\n",
    "\n",
    "For more details about design assumptions and limitations of JDF.jl check out https://github.com/xiaodaigh/JDF.jl."
   ]
  },
  {
   "cell_type": "markdown",
   "metadata": {},
   "source": [
    "#### JLSO.jl\n",
    "\n",
    "Another way to perform serialization is by using the [JLSO.jl](https://github.com/invenia/JLSO.jl) library:"
   ]
  },
  {
   "cell_type": "code",
   "execution_count": 18,
   "metadata": {},
   "outputs": [],
   "source": [
    "JLSO.save(\"x.jlso\", :data => x)"
   ]
  },
  {
   "cell_type": "markdown",
   "metadata": {},
   "source": [
    "Now we can laod back the file to `y`"
   ]
  },
  {
   "cell_type": "code",
   "execution_count": 19,
   "metadata": {},
   "outputs": [
    {
     "data": {
      "text/html": [
       "<div class=\"data-frame\"><p>3 rows × 4 columns</p><table class=\"data-frame\"><thead><tr><th></th><th>A</th><th>B</th><th>C</th><th>D</th></tr><tr><th></th><th title=\"Bool\">Bool</th><th title=\"Union{Missing, Int64}\">Int64?</th><th title=\"Union{Missing, String}\">String?</th><th title=\"Union{Missing, Char}\">Char?</th></tr></thead><tbody><tr><th>1</th><td>1</td><td>1</td><td><em>missing</em></td><td>a</td></tr><tr><th>2</th><td>0</td><td>2</td><td>b</td><td><em>missing</em></td></tr><tr><th>3</th><td>1</td><td><em>missing</em></td><td>c</td><td>c</td></tr></tbody></table></div>"
      ],
      "text/latex": [
       "\\begin{tabular}{r|cccc}\n",
       "\t& A & B & C & D\\\\\n",
       "\t\\hline\n",
       "\t& Bool & Int64? & String? & Char?\\\\\n",
       "\t\\hline\n",
       "\t1 & 1 & 1 & \\emph{missing} & a \\\\\n",
       "\t2 & 0 & 2 & b & \\emph{missing} \\\\\n",
       "\t3 & 1 & \\emph{missing} & c & c \\\\\n",
       "\\end{tabular}\n"
      ],
      "text/plain": [
       "\u001b[1m3×4 DataFrame\u001b[0m\n",
       "\u001b[1m Row \u001b[0m│\u001b[1m A     \u001b[0m\u001b[1m B       \u001b[0m\u001b[1m C       \u001b[0m\u001b[1m D       \u001b[0m\n",
       "\u001b[1m     \u001b[0m│\u001b[90m Bool  \u001b[0m\u001b[90m Int64?  \u001b[0m\u001b[90m String? \u001b[0m\u001b[90m Char?   \u001b[0m\n",
       "─────┼──────────────────────────────────\n",
       "   1 │  true        1 \u001b[90m missing \u001b[0m a\n",
       "   2 │ false        2  b       \u001b[90m missing \u001b[0m\n",
       "   3 │  true \u001b[90m missing \u001b[0m c        c"
      ]
     },
     "execution_count": 19,
     "metadata": {},
     "output_type": "execute_result"
    }
   ],
   "source": [
    "y = JLSO.load(\"x.jlso\")[:data]"
   ]
  },
  {
   "cell_type": "code",
   "execution_count": 20,
   "metadata": {},
   "outputs": [
    {
     "data": {
      "text/plain": [
       "4-element Vector{Type}:\n",
       " Bool\n",
       " Union{Missing, Int64}\n",
       " Union{Missing, String}\n",
       " Union{Missing, Char}"
      ]
     },
     "execution_count": 20,
     "metadata": {},
     "output_type": "execute_result"
    }
   ],
   "source": [
    "eltype.(eachcol(y))"
   ]
  },
  {
   "cell_type": "markdown",
   "metadata": {},
   "source": [
    "### JSONTables.jl"
   ]
  },
  {
   "cell_type": "markdown",
   "metadata": {},
   "source": [
    "Often you might need to read and write data stored in JSON format. JSONTables.jl provides a way to process them in row-oriented or column-oriented layout. We present both options below."
   ]
  },
  {
   "cell_type": "code",
   "execution_count": 21,
   "metadata": {},
   "outputs": [
    {
     "data": {
      "text/plain": [
       "106"
      ]
     },
     "execution_count": 21,
     "metadata": {},
     "output_type": "execute_result"
    }
   ],
   "source": [
    "open(io -> arraytable(io, x), \"x1.json\", \"w\")"
   ]
  },
  {
   "cell_type": "code",
   "execution_count": 22,
   "metadata": {},
   "outputs": [
    {
     "data": {
      "text/plain": [
       "76"
      ]
     },
     "execution_count": 22,
     "metadata": {},
     "output_type": "execute_result"
    }
   ],
   "source": [
    "open(io -> objecttable(io, x), \"x2.json\", \"w\")"
   ]
  },
  {
   "cell_type": "code",
   "execution_count": 23,
   "metadata": {},
   "outputs": [
    {
     "name": "stdout",
     "output_type": "stream",
     "text": [
      "[{\"A\":true,\"B\":1,\"C\":null,\"D\":\"a\"},{\"A\":false,\"B\":2,\"C\":\"b\",\"D\":null},{\"A\":true,\"B\":null,\"C\":\"c\",\"D\":\"c\"}]"
     ]
    }
   ],
   "source": [
    "print(read(\"x1.json\", String))"
   ]
  },
  {
   "cell_type": "code",
   "execution_count": 24,
   "metadata": {},
   "outputs": [
    {
     "name": "stdout",
     "output_type": "stream",
     "text": [
      "{\"A\":[true,false,true],\"B\":[1,2,null],\"C\":[null,\"b\",\"c\"],\"D\":[\"a\",null,\"c\"]}"
     ]
    }
   ],
   "source": [
    "print(read(\"x2.json\", String))"
   ]
  },
  {
   "cell_type": "code",
   "execution_count": 25,
   "metadata": {},
   "outputs": [
    {
     "data": {
      "text/html": [
       "<div class=\"data-frame\"><p>3 rows × 4 columns</p><table class=\"data-frame\"><thead><tr><th></th><th>A</th><th>B</th><th>C</th><th>D</th></tr><tr><th></th><th title=\"Bool\">Bool</th><th title=\"Union{Missing, Int64}\">Int64?</th><th title=\"Union{Missing, String}\">String?</th><th title=\"Union{Missing, String}\">String?</th></tr></thead><tbody><tr><th>1</th><td>1</td><td>1</td><td><em>missing</em></td><td>a</td></tr><tr><th>2</th><td>0</td><td>2</td><td>b</td><td><em>missing</em></td></tr><tr><th>3</th><td>1</td><td><em>missing</em></td><td>c</td><td>c</td></tr></tbody></table></div>"
      ],
      "text/latex": [
       "\\begin{tabular}{r|cccc}\n",
       "\t& A & B & C & D\\\\\n",
       "\t\\hline\n",
       "\t& Bool & Int64? & String? & String?\\\\\n",
       "\t\\hline\n",
       "\t1 & 1 & 1 & \\emph{missing} & a \\\\\n",
       "\t2 & 0 & 2 & b & \\emph{missing} \\\\\n",
       "\t3 & 1 & \\emph{missing} & c & c \\\\\n",
       "\\end{tabular}\n"
      ],
      "text/plain": [
       "\u001b[1m3×4 DataFrame\u001b[0m\n",
       "\u001b[1m Row \u001b[0m│\u001b[1m A     \u001b[0m\u001b[1m B       \u001b[0m\u001b[1m C       \u001b[0m\u001b[1m D       \u001b[0m\n",
       "\u001b[1m     \u001b[0m│\u001b[90m Bool  \u001b[0m\u001b[90m Int64?  \u001b[0m\u001b[90m String? \u001b[0m\u001b[90m String? \u001b[0m\n",
       "─────┼──────────────────────────────────\n",
       "   1 │  true        1 \u001b[90m missing \u001b[0m a\n",
       "   2 │ false        2  b       \u001b[90m missing \u001b[0m\n",
       "   3 │  true \u001b[90m missing \u001b[0m c        c"
      ]
     },
     "execution_count": 25,
     "metadata": {},
     "output_type": "execute_result"
    }
   ],
   "source": [
    "y1 = open(jsontable, \"x1.json\") |> DataFrame"
   ]
  },
  {
   "cell_type": "code",
   "execution_count": 26,
   "metadata": {},
   "outputs": [
    {
     "data": {
      "text/plain": [
       "4-element Vector{Type}:\n",
       " Bool\n",
       " Union{Missing, Int64}\n",
       " Union{Missing, String}\n",
       " Union{Missing, String}"
      ]
     },
     "execution_count": 26,
     "metadata": {},
     "output_type": "execute_result"
    }
   ],
   "source": [
    "eltype.(eachcol(y1))"
   ]
  },
  {
   "cell_type": "code",
   "execution_count": 27,
   "metadata": {},
   "outputs": [
    {
     "data": {
      "text/html": [
       "<div class=\"data-frame\"><p>3 rows × 4 columns</p><table class=\"data-frame\"><thead><tr><th></th><th>A</th><th>B</th><th>C</th><th>D</th></tr><tr><th></th><th title=\"Bool\">Bool</th><th title=\"Union{Missing, Int64}\">Int64?</th><th title=\"Union{Missing, String}\">String?</th><th title=\"Union{Missing, String}\">String?</th></tr></thead><tbody><tr><th>1</th><td>1</td><td>1</td><td><em>missing</em></td><td>a</td></tr><tr><th>2</th><td>0</td><td>2</td><td>b</td><td><em>missing</em></td></tr><tr><th>3</th><td>1</td><td><em>missing</em></td><td>c</td><td>c</td></tr></tbody></table></div>"
      ],
      "text/latex": [
       "\\begin{tabular}{r|cccc}\n",
       "\t& A & B & C & D\\\\\n",
       "\t\\hline\n",
       "\t& Bool & Int64? & String? & String?\\\\\n",
       "\t\\hline\n",
       "\t1 & 1 & 1 & \\emph{missing} & a \\\\\n",
       "\t2 & 0 & 2 & b & \\emph{missing} \\\\\n",
       "\t3 & 1 & \\emph{missing} & c & c \\\\\n",
       "\\end{tabular}\n"
      ],
      "text/plain": [
       "\u001b[1m3×4 DataFrame\u001b[0m\n",
       "\u001b[1m Row \u001b[0m│\u001b[1m A     \u001b[0m\u001b[1m B       \u001b[0m\u001b[1m C       \u001b[0m\u001b[1m D       \u001b[0m\n",
       "\u001b[1m     \u001b[0m│\u001b[90m Bool  \u001b[0m\u001b[90m Int64?  \u001b[0m\u001b[90m String? \u001b[0m\u001b[90m String? \u001b[0m\n",
       "─────┼──────────────────────────────────\n",
       "   1 │  true        1 \u001b[90m missing \u001b[0m a\n",
       "   2 │ false        2  b       \u001b[90m missing \u001b[0m\n",
       "   3 │  true \u001b[90m missing \u001b[0m c        c"
      ]
     },
     "execution_count": 27,
     "metadata": {},
     "output_type": "execute_result"
    }
   ],
   "source": [
    "y2 = open(jsontable, \"x2.json\") |> DataFrame"
   ]
  },
  {
   "cell_type": "code",
   "execution_count": 28,
   "metadata": {},
   "outputs": [
    {
     "data": {
      "text/plain": [
       "4-element Vector{Type}:\n",
       " Bool\n",
       " Union{Missing, Int64}\n",
       " Union{Missing, String}\n",
       " Union{Missing, String}"
      ]
     },
     "execution_count": 28,
     "metadata": {},
     "output_type": "execute_result"
    }
   ],
   "source": [
    "eltype.(eachcol(y2))"
   ]
  },
  {
   "cell_type": "markdown",
   "metadata": {},
   "source": [
    "### Arrow.jl"
   ]
  },
  {
   "cell_type": "markdown",
   "metadata": {},
   "source": [
    "Finally we use Apache Arrow format that allows, in particular, for data interchange with R or Python."
   ]
  },
  {
   "cell_type": "code",
   "execution_count": 29,
   "metadata": {},
   "outputs": [
    {
     "data": {
      "text/plain": [
       "\"x.arrow\""
      ]
     },
     "execution_count": 29,
     "metadata": {},
     "output_type": "execute_result"
    }
   ],
   "source": [
    "Arrow.write(\"x.arrow\", x)"
   ]
  },
  {
   "cell_type": "code",
   "execution_count": 30,
   "metadata": {},
   "outputs": [
    {
     "data": {
      "text/html": [
       "<div class=\"data-frame\"><p>3 rows × 4 columns</p><table class=\"data-frame\"><thead><tr><th></th><th>A</th><th>B</th><th>C</th><th>D</th></tr><tr><th></th><th title=\"Bool\">Bool</th><th title=\"Union{Missing, Int64}\">Int64?</th><th title=\"Union{Missing, String}\">String?</th><th title=\"Union{Missing, Char}\">Char?</th></tr></thead><tbody><tr><th>1</th><td>1</td><td>1</td><td><em>missing</em></td><td>a</td></tr><tr><th>2</th><td>0</td><td>2</td><td>b</td><td><em>missing</em></td></tr><tr><th>3</th><td>1</td><td><em>missing</em></td><td>c</td><td>c</td></tr></tbody></table></div>"
      ],
      "text/latex": [
       "\\begin{tabular}{r|cccc}\n",
       "\t& A & B & C & D\\\\\n",
       "\t\\hline\n",
       "\t& Bool & Int64? & String? & Char?\\\\\n",
       "\t\\hline\n",
       "\t1 & 1 & 1 & \\emph{missing} & a \\\\\n",
       "\t2 & 0 & 2 & b & \\emph{missing} \\\\\n",
       "\t3 & 1 & \\emph{missing} & c & c \\\\\n",
       "\\end{tabular}\n"
      ],
      "text/plain": [
       "\u001b[1m3×4 DataFrame\u001b[0m\n",
       "\u001b[1m Row \u001b[0m│\u001b[1m A     \u001b[0m\u001b[1m B       \u001b[0m\u001b[1m C       \u001b[0m\u001b[1m D       \u001b[0m\n",
       "\u001b[1m     \u001b[0m│\u001b[90m Bool  \u001b[0m\u001b[90m Int64?  \u001b[0m\u001b[90m String? \u001b[0m\u001b[90m Char?   \u001b[0m\n",
       "─────┼──────────────────────────────────\n",
       "   1 │  true        1 \u001b[90m missing \u001b[0m a\n",
       "   2 │ false        2  b       \u001b[90m missing \u001b[0m\n",
       "   3 │  true \u001b[90m missing \u001b[0m c        c"
      ]
     },
     "execution_count": 30,
     "metadata": {},
     "output_type": "execute_result"
    }
   ],
   "source": [
    "y = Arrow.Table(\"x.arrow\") |> DataFrame"
   ]
  },
  {
   "cell_type": "code",
   "execution_count": 31,
   "metadata": {},
   "outputs": [
    {
     "data": {
      "text/plain": [
       "4-element Vector{Type}:\n",
       " Bool\n",
       " Union{Missing, Int64}\n",
       " Union{Missing, String}\n",
       " Union{Missing, Char}"
      ]
     },
     "execution_count": 31,
     "metadata": {},
     "output_type": "execute_result"
    }
   ],
   "source": [
    "eltype.(eachcol(y))"
   ]
  },
  {
   "cell_type": "markdown",
   "metadata": {},
   "source": [
    "Note that columns of `y` are immutable"
   ]
  },
  {
   "cell_type": "code",
   "execution_count": 32,
   "metadata": {},
   "outputs": [
    {
     "ename": "LoadError",
     "evalue": "ReadOnlyMemoryError()",
     "output_type": "error",
     "traceback": [
      "ReadOnlyMemoryError()",
      "",
      "Stacktrace:",
      " [1] setindex!",
      "   @ .\\array.jl:903 [inlined]",
      " [2] setindex!(p::Arrow.BoolVector{Bool}, v::Bool, i::Int64)",
      "   @ Arrow C:\\Users\\bogum\\.julia\\packages\\Arrow\\x6smw\\src\\arraytypes\\bool.jl:49",
      " [3] top-level scope",
      "   @ In[32]:1",
      " [4] eval",
      "   @ .\\boot.jl:373 [inlined]",
      " [5] include_string(mapexpr::typeof(REPL.softscope), mod::Module, code::String, filename::String)",
      "   @ Base .\\loading.jl:1196"
     ]
    }
   ],
   "source": [
    "y.A[1] = false"
   ]
  },
  {
   "cell_type": "markdown",
   "metadata": {},
   "source": [
    "This is because `Arrow.Table` uses memory mapping and thus uses a custom vector types:"
   ]
  },
  {
   "cell_type": "code",
   "execution_count": 33,
   "metadata": {},
   "outputs": [
    {
     "data": {
      "text/plain": [
       "3-element Arrow.BoolVector{Bool}:\n",
       " 1\n",
       " 0\n",
       " 1"
      ]
     },
     "execution_count": 33,
     "metadata": {},
     "output_type": "execute_result"
    }
   ],
   "source": [
    "y.A"
   ]
  },
  {
   "cell_type": "code",
   "execution_count": 34,
   "metadata": {},
   "outputs": [
    {
     "data": {
      "text/plain": [
       "3-element Arrow.Primitive{Union{Missing, Int64}, Vector{Int64}}:\n",
       " 1\n",
       " 2\n",
       "  missing"
      ]
     },
     "execution_count": 34,
     "metadata": {},
     "output_type": "execute_result"
    }
   ],
   "source": [
    "y.B"
   ]
  },
  {
   "cell_type": "markdown",
   "metadata": {},
   "source": [
    "You can get standard Julia Base vectors by copying a data frame"
   ]
  },
  {
   "cell_type": "code",
   "execution_count": 35,
   "metadata": {},
   "outputs": [
    {
     "data": {
      "text/html": [
       "<div class=\"data-frame\"><p>3 rows × 4 columns</p><table class=\"data-frame\"><thead><tr><th></th><th>A</th><th>B</th><th>C</th><th>D</th></tr><tr><th></th><th title=\"Bool\">Bool</th><th title=\"Union{Missing, Int64}\">Int64?</th><th title=\"Union{Missing, String}\">String?</th><th title=\"Union{Missing, Char}\">Char?</th></tr></thead><tbody><tr><th>1</th><td>1</td><td>1</td><td><em>missing</em></td><td>a</td></tr><tr><th>2</th><td>0</td><td>2</td><td>b</td><td><em>missing</em></td></tr><tr><th>3</th><td>1</td><td><em>missing</em></td><td>c</td><td>c</td></tr></tbody></table></div>"
      ],
      "text/latex": [
       "\\begin{tabular}{r|cccc}\n",
       "\t& A & B & C & D\\\\\n",
       "\t\\hline\n",
       "\t& Bool & Int64? & String? & Char?\\\\\n",
       "\t\\hline\n",
       "\t1 & 1 & 1 & \\emph{missing} & a \\\\\n",
       "\t2 & 0 & 2 & b & \\emph{missing} \\\\\n",
       "\t3 & 1 & \\emph{missing} & c & c \\\\\n",
       "\\end{tabular}\n"
      ],
      "text/plain": [
       "\u001b[1m3×4 DataFrame\u001b[0m\n",
       "\u001b[1m Row \u001b[0m│\u001b[1m A     \u001b[0m\u001b[1m B       \u001b[0m\u001b[1m C       \u001b[0m\u001b[1m D       \u001b[0m\n",
       "\u001b[1m     \u001b[0m│\u001b[90m Bool  \u001b[0m\u001b[90m Int64?  \u001b[0m\u001b[90m String? \u001b[0m\u001b[90m Char?   \u001b[0m\n",
       "─────┼──────────────────────────────────\n",
       "   1 │  true        1 \u001b[90m missing \u001b[0m a\n",
       "   2 │ false        2  b       \u001b[90m missing \u001b[0m\n",
       "   3 │  true \u001b[90m missing \u001b[0m c        c"
      ]
     },
     "execution_count": 35,
     "metadata": {},
     "output_type": "execute_result"
    }
   ],
   "source": [
    "y2 = copy(y)"
   ]
  },
  {
   "cell_type": "code",
   "execution_count": 36,
   "metadata": {},
   "outputs": [
    {
     "data": {
      "text/plain": [
       "3-element Vector{Bool}:\n",
       " 1\n",
       " 0\n",
       " 1"
      ]
     },
     "execution_count": 36,
     "metadata": {},
     "output_type": "execute_result"
    }
   ],
   "source": [
    "y2.A"
   ]
  },
  {
   "cell_type": "code",
   "execution_count": 37,
   "metadata": {},
   "outputs": [
    {
     "data": {
      "text/plain": [
       "3-element Vector{Union{Missing, Int64}}:\n",
       " 1\n",
       " 2\n",
       "  missing"
      ]
     },
     "execution_count": 37,
     "metadata": {},
     "output_type": "execute_result"
    }
   ],
   "source": [
    "y2.B"
   ]
  },
  {
   "cell_type": "markdown",
   "metadata": {},
   "source": [
    "### Basic bechmarking"
   ]
  },
  {
   "cell_type": "markdown",
   "metadata": {},
   "source": [
    "Next, we'll create some files, so be careful that you don't already have these files in your working directory!\n",
    "\n",
    "In particular, we'll time how long it takes us to write a `DataFrame` with 10^3 rows and 10^5 columns."
   ]
  },
  {
   "cell_type": "code",
   "execution_count": 38,
   "metadata": {},
   "outputs": [
    {
     "name": "stdout",
     "output_type": "stream",
     "text": [
      "First run\n",
      "CSV.jl\n",
      " 58.907381 seconds (599.26 M allocations: 17.936 GiB, 4.06% gc time, 13.19% compilation time)\n",
      "Serialization\n",
      "  4.165694 seconds (491.32 k allocations: 23.415 MiB, 2.25% compilation time)\n",
      "JDF.jl\n",
      "  1.086102 seconds (88.23 k allocations: 324.244 MiB, 3.29% gc time, 5.47% compilation time)\n",
      "JLSO.jl\n",
      " 11.766074 seconds (398.68 k allocations: 37.424 MiB, 0.16% gc time, 1.09% compilation time)\n",
      "Arrow.jl\n",
      "  3.382308 seconds (5.59 M allocations: 366.103 MiB, 2.24% gc time, 75.54% compilation time)\n",
      "JSONTables.jl arraytable\n",
      "153.526720 seconds (2.30 G allocations: 54.623 GiB, 6.67% gc time, 0.17% compilation time)\n",
      "JSONTables.jl objecttable\n",
      "  2.788020 seconds (295.71 k allocations: 3.085 GiB, 6.00% gc time, 9.10% compilation time)\n",
      "Second run\n",
      "CSV.jl\n",
      " 56.067522 seconds (597.48 M allocations: 17.848 GiB, 4.75% gc time)\n",
      "Serialization\n",
      "  4.240141 seconds (106.71 k allocations: 2.303 MiB, 0.28% compilation time)\n",
      "JDF.jl\n",
      "  1.039499 seconds (43.16 k allocations: 321.807 MiB)\n",
      "JLSO.jl\n",
      " 11.340237 seconds (127.46 k allocations: 22.782 MiB)\n",
      "Arrow.jl\n",
      "  0.787875 seconds (52.15 k allocations: 20.764 MiB)\n",
      "JSONTables.jl arraytable\n",
      "149.394285 seconds (2.30 G allocations: 54.590 GiB, 6.02% gc time, 0.01% compilation time)\n",
      "JSONTables.jl objecttable\n",
      "  2.548299 seconds (18.34 k allocations: 3.071 GiB, 7.61% gc time, 0.58% compilation time)\n"
     ]
    },
    {
     "data": {
      "text/plain": [
       "2.564755"
      ]
     },
     "execution_count": 38,
     "metadata": {},
     "output_type": "execute_result"
    }
   ],
   "source": [
    "bigdf = DataFrame(rand(Bool, 10^5, 1000), :auto)\n",
    "bigdf[!, 1] = Int.(bigdf[!, 1])\n",
    "bigdf[!, 2] = bigdf[!, 2] .+ 0.5\n",
    "bigdf[!, 3] = string.(bigdf[!, 3], \", as string\")\n",
    "println(\"First run\")\n",
    "println(\"CSV.jl\")\n",
    "csvwrite1 = @elapsed @time CSV.write(\"bigdf1.csv\", bigdf)\n",
    "println(\"Serialization\")\n",
    "serializewrite1 = @elapsed @time open(io -> serialize(io, bigdf), \"bigdf.bin\", \"w\")\n",
    "println(\"JDF.jl\")\n",
    "jdfwrite1 = @elapsed @time JDF.save(\"bigdf.jdf\", bigdf)\n",
    "println(\"JLSO.jl\")\n",
    "jlsowrite1 = @elapsed @time JLSO.save(\"bigdf.jlso\", :data => bigdf)\n",
    "println(\"Arrow.jl\")\n",
    "arrowwrite1 = @elapsed @time Arrow.write(\"bigdf.arrow\", bigdf)\n",
    "println(\"JSONTables.jl arraytable\")\n",
    "jsontablesawrite1 = @elapsed @time open(io -> arraytable(io, bigdf), \"bigdf1.json\", \"w\")\n",
    "println(\"JSONTables.jl objecttable\")\n",
    "jsontablesowrite1 = @elapsed @time open(io -> objecttable(io, bigdf), \"bigdf2.json\", \"w\")\n",
    "println(\"Second run\")\n",
    "println(\"CSV.jl\")\n",
    "csvwrite2 = @elapsed @time CSV.write(\"bigdf1.csv\", bigdf)\n",
    "println(\"Serialization\")\n",
    "serializewrite2 = @elapsed @time open(io -> serialize(io, bigdf), \"bigdf.bin\", \"w\")\n",
    "println(\"JDF.jl\")\n",
    "jdfwrite2 = @elapsed @time JDF.save(\"bigdf.jdf\", bigdf)\n",
    "println(\"JLSO.jl\")\n",
    "jlsowrite2 = @elapsed @time JLSO.save(\"bigdf.jlso\", :data => bigdf)\n",
    "println(\"Arrow.jl\")\n",
    "arrowwrite2 = @elapsed @time Arrow.write(\"bigdf.arrow\", bigdf)\n",
    "println(\"JSONTables.jl arraytable\")\n",
    "jsontablesawrite2 = @elapsed @time open(io -> arraytable(io, bigdf), \"bigdf1.json\", \"w\")\n",
    "println(\"JSONTables.jl objecttable\")\n",
    "jsontablesowrite2 = @elapsed @time open(io -> objecttable(io, bigdf), \"bigdf2.json\", \"w\")"
   ]
  },
  {
   "cell_type": "code",
   "execution_count": 39,
   "metadata": {},
   "outputs": [
    {
     "data": {
      "image/svg+xml": [
       "<?xml version=\"1.0\" encoding=\"utf-8\"?>\n",
       "<svg xmlns=\"http://www.w3.org/2000/svg\" xmlns:xlink=\"http://www.w3.org/1999/xlink\" width=\"600\" height=\"400\" viewBox=\"0 0 2400 1600\">\n",
       "<defs>\n",
       "  <clipPath id=\"clip800\">\n",
       "    <rect x=\"0\" y=\"0\" width=\"2400\" height=\"1600\"/>\n",
       "  </clipPath>\n",
       "</defs>\n",
       "<path clip-path=\"url(#clip800)\" d=\"\n",
       "M0 1600 L2400 1600 L2400 0 L0 0  Z\n",
       "  \" fill=\"#ffffff\" fill-rule=\"evenodd\" fill-opacity=\"1\"/>\n",
       "<defs>\n",
       "  <clipPath id=\"clip801\">\n",
       "    <rect x=\"480\" y=\"0\" width=\"1681\" height=\"1600\"/>\n",
       "  </clipPath>\n",
       "</defs>\n",
       "<path clip-path=\"url(#clip800)\" d=\"\n",
       "M205.121 1451.89 L2352.76 1451.89 L2352.76 244.432 L205.121 244.432  Z\n",
       "  \" fill=\"#ffffff\" fill-rule=\"evenodd\" fill-opacity=\"1\"/>\n",
       "<defs>\n",
       "  <clipPath id=\"clip802\">\n",
       "    <rect x=\"205\" y=\"244\" width=\"2149\" height=\"1208\"/>\n",
       "  </clipPath>\n",
       "</defs>\n",
       "<polyline clip-path=\"url(#clip802)\" style=\"stroke:#000000; stroke-linecap:butt; stroke-linejoin:round; stroke-width:2; stroke-opacity:0.1; fill:none\" points=\"\n",
       "  451.836,1451.89 451.836,244.432 \n",
       "  \"/>\n",
       "<polyline clip-path=\"url(#clip802)\" style=\"stroke:#000000; stroke-linecap:butt; stroke-linejoin:round; stroke-width:2; stroke-opacity:0.1; fill:none\" points=\"\n",
       "  782.677,1451.89 782.677,244.432 \n",
       "  \"/>\n",
       "<polyline clip-path=\"url(#clip802)\" style=\"stroke:#000000; stroke-linecap:butt; stroke-linejoin:round; stroke-width:2; stroke-opacity:0.1; fill:none\" points=\"\n",
       "  1113.52,1451.89 1113.52,244.432 \n",
       "  \"/>\n",
       "<polyline clip-path=\"url(#clip802)\" style=\"stroke:#000000; stroke-linecap:butt; stroke-linejoin:round; stroke-width:2; stroke-opacity:0.1; fill:none\" points=\"\n",
       "  1444.36,1451.89 1444.36,244.432 \n",
       "  \"/>\n",
       "<polyline clip-path=\"url(#clip802)\" style=\"stroke:#000000; stroke-linecap:butt; stroke-linejoin:round; stroke-width:2; stroke-opacity:0.1; fill:none\" points=\"\n",
       "  1775.2,1451.89 1775.2,244.432 \n",
       "  \"/>\n",
       "<polyline clip-path=\"url(#clip802)\" style=\"stroke:#000000; stroke-linecap:butt; stroke-linejoin:round; stroke-width:2; stroke-opacity:0.1; fill:none\" points=\"\n",
       "  2106.04,1451.89 2106.04,244.432 \n",
       "  \"/>\n",
       "<polyline clip-path=\"url(#clip800)\" style=\"stroke:#000000; stroke-linecap:butt; stroke-linejoin:round; stroke-width:4; stroke-opacity:1; fill:none\" points=\"\n",
       "  205.121,1451.89 2352.76,1451.89 \n",
       "  \"/>\n",
       "<polyline clip-path=\"url(#clip800)\" style=\"stroke:#000000; stroke-linecap:butt; stroke-linejoin:round; stroke-width:4; stroke-opacity:1; fill:none\" points=\"\n",
       "  451.836,1451.89 451.836,1432.99 \n",
       "  \"/>\n",
       "<polyline clip-path=\"url(#clip800)\" style=\"stroke:#000000; stroke-linecap:butt; stroke-linejoin:round; stroke-width:4; stroke-opacity:1; fill:none\" points=\"\n",
       "  782.677,1451.89 782.677,1432.99 \n",
       "  \"/>\n",
       "<polyline clip-path=\"url(#clip800)\" style=\"stroke:#000000; stroke-linecap:butt; stroke-linejoin:round; stroke-width:4; stroke-opacity:1; fill:none\" points=\"\n",
       "  1113.52,1451.89 1113.52,1432.99 \n",
       "  \"/>\n",
       "<polyline clip-path=\"url(#clip800)\" style=\"stroke:#000000; stroke-linecap:butt; stroke-linejoin:round; stroke-width:4; stroke-opacity:1; fill:none\" points=\"\n",
       "  1444.36,1451.89 1444.36,1432.99 \n",
       "  \"/>\n",
       "<polyline clip-path=\"url(#clip800)\" style=\"stroke:#000000; stroke-linecap:butt; stroke-linejoin:round; stroke-width:4; stroke-opacity:1; fill:none\" points=\"\n",
       "  1775.2,1451.89 1775.2,1432.99 \n",
       "  \"/>\n",
       "<polyline clip-path=\"url(#clip800)\" style=\"stroke:#000000; stroke-linecap:butt; stroke-linejoin:round; stroke-width:4; stroke-opacity:1; fill:none\" points=\"\n",
       "  2106.04,1451.89 2106.04,1432.99 \n",
       "  \"/>\n",
       "<path clip-path=\"url(#clip800)\" d=\"M382.889 1484.33 L376.547 1501.53 L389.255 1501.53 L382.889 1484.33 M380.251 1479.73 L385.551 1479.73 L398.723 1514.29 L393.862 1514.29 L390.713 1505.42 L375.135 1505.42 L371.987 1514.29 L367.056 1514.29 L380.251 1479.73 Z\" fill=\"#000000\" fill-rule=\"evenodd\" fill-opacity=\"1\" /><path clip-path=\"url(#clip800)\" d=\"M418.607 1492.34 Q417.889 1491.93 417.033 1491.74 Q416.199 1491.53 415.181 1491.53 Q411.57 1491.53 409.625 1493.89 Q407.704 1496.23 407.704 1500.63 L407.704 1514.29 L403.422 1514.29 L403.422 1488.36 L407.704 1488.36 L407.704 1492.39 Q409.047 1490.03 411.199 1488.89 Q413.352 1487.74 416.431 1487.74 Q416.871 1487.74 417.403 1487.81 Q417.935 1487.85 418.584 1487.97 L418.607 1492.34 Z\" fill=\"#000000\" fill-rule=\"evenodd\" fill-opacity=\"1\" /><path clip-path=\"url(#clip800)\" d=\"M437.264 1492.34 Q436.547 1491.93 435.69 1491.74 Q434.857 1491.53 433.838 1491.53 Q430.227 1491.53 428.283 1493.89 Q426.361 1496.23 426.361 1500.63 L426.361 1514.29 L422.079 1514.29 L422.079 1488.36 L426.361 1488.36 L426.361 1492.39 Q427.704 1490.03 429.857 1488.89 Q432.009 1487.74 435.088 1487.74 Q435.528 1487.74 436.06 1487.81 Q436.593 1487.85 437.241 1487.97 L437.264 1492.34 Z\" fill=\"#000000\" fill-rule=\"evenodd\" fill-opacity=\"1\" /><path clip-path=\"url(#clip800)\" d=\"M450.736 1491.35 Q447.31 1491.35 445.32 1494.03 Q443.329 1496.7 443.329 1501.35 Q443.329 1506 445.296 1508.69 Q447.287 1511.35 450.736 1511.35 Q454.139 1511.35 456.13 1508.66 Q458.12 1505.98 458.12 1501.35 Q458.12 1496.74 456.13 1494.06 Q454.139 1491.35 450.736 1491.35 M450.736 1487.74 Q456.292 1487.74 459.463 1491.35 Q462.634 1494.96 462.634 1501.35 Q462.634 1507.71 459.463 1511.35 Q456.292 1514.96 450.736 1514.96 Q445.158 1514.96 441.986 1511.35 Q438.838 1507.71 438.838 1501.35 Q438.838 1494.96 441.986 1491.35 Q445.158 1487.74 450.736 1487.74 Z\" fill=\"#000000\" fill-rule=\"evenodd\" fill-opacity=\"1\" /><path clip-path=\"url(#clip800)\" d=\"M467.218 1488.36 L471.477 1488.36 L476.801 1508.59 L482.102 1488.36 L487.125 1488.36 L492.449 1508.59 L497.75 1488.36 L502.009 1488.36 L495.227 1514.29 L490.204 1514.29 L484.625 1493.04 L479.023 1514.29 L474 1514.29 L467.218 1488.36 Z\" fill=\"#000000\" fill-rule=\"evenodd\" fill-opacity=\"1\" /><path clip-path=\"url(#clip800)\" d=\"M504.717 1508.41 L509.602 1508.41 L509.602 1514.29 L504.717 1514.29 L504.717 1508.41 Z\" fill=\"#000000\" fill-rule=\"evenodd\" fill-opacity=\"1\" /><path clip-path=\"url(#clip800)\" d=\"M519.185 1488.36 L523.444 1488.36 L523.444 1514.75 Q523.444 1519.7 521.546 1521.93 Q519.671 1524.15 515.481 1524.15 L513.861 1524.15 L513.861 1520.54 L514.995 1520.54 Q517.426 1520.54 518.305 1519.4 Q519.185 1518.29 519.185 1514.75 L519.185 1488.36 M519.185 1478.27 L523.444 1478.27 L523.444 1483.66 L519.185 1483.66 L519.185 1478.27 Z\" fill=\"#000000\" fill-rule=\"evenodd\" fill-opacity=\"1\" /><path clip-path=\"url(#clip800)\" d=\"M532.356 1478.27 L536.615 1478.27 L536.615 1514.29 L532.356 1514.29 L532.356 1478.27 Z\" fill=\"#000000\" fill-rule=\"evenodd\" fill-opacity=\"1\" /><path clip-path=\"url(#clip800)\" d=\"M748.638 1482.39 L748.638 1487.32 Q746.277 1485.12 743.591 1484.03 Q740.929 1482.95 737.92 1482.95 Q731.994 1482.95 728.846 1486.58 Q725.698 1490.19 725.698 1497.04 Q725.698 1503.87 728.846 1507.51 Q731.994 1511.12 737.92 1511.12 Q740.929 1511.12 743.591 1510.03 Q746.277 1508.94 748.638 1506.74 L748.638 1511.63 Q746.184 1513.29 743.429 1514.13 Q740.698 1514.96 737.642 1514.96 Q729.795 1514.96 725.281 1510.17 Q720.767 1505.35 720.767 1497.04 Q720.767 1488.71 725.281 1483.92 Q729.795 1479.1 737.642 1479.1 Q740.744 1479.1 743.476 1479.94 Q746.23 1480.75 748.638 1482.39 Z\" fill=\"#000000\" fill-rule=\"evenodd\" fill-opacity=\"1\" /><path clip-path=\"url(#clip800)\" d=\"M776.577 1480.86 L776.577 1485.42 Q773.915 1484.15 771.554 1483.52 Q769.193 1482.9 766.994 1482.9 Q763.175 1482.9 761.091 1484.38 Q759.031 1485.86 759.031 1488.59 Q759.031 1490.89 760.397 1492.07 Q761.786 1493.22 765.628 1493.94 L768.452 1494.52 Q773.684 1495.51 776.161 1498.04 Q778.661 1500.54 778.661 1504.75 Q778.661 1509.77 775.281 1512.37 Q771.925 1514.96 765.42 1514.96 Q762.966 1514.96 760.189 1514.4 Q757.434 1513.85 754.471 1512.76 L754.471 1507.95 Q757.318 1509.54 760.05 1510.35 Q762.781 1511.16 765.42 1511.16 Q769.425 1511.16 771.601 1509.59 Q773.776 1508.01 773.776 1505.1 Q773.776 1502.55 772.202 1501.12 Q770.651 1499.68 767.087 1498.96 L764.239 1498.41 Q759.008 1497.37 756.67 1495.14 Q754.332 1492.92 754.332 1488.96 Q754.332 1484.38 757.55 1481.74 Q760.79 1479.1 766.462 1479.1 Q768.892 1479.1 771.415 1479.54 Q773.938 1479.98 776.577 1480.86 Z\" fill=\"#000000\" fill-rule=\"evenodd\" fill-opacity=\"1\" /><path clip-path=\"url(#clip800)\" d=\"M794.864 1514.29 L781.67 1479.73 L786.554 1479.73 L797.503 1508.82 L808.475 1479.73 L813.336 1479.73 L800.165 1514.29 L794.864 1514.29 Z\" fill=\"#000000\" fill-rule=\"evenodd\" fill-opacity=\"1\" /><path clip-path=\"url(#clip800)\" d=\"M812.688 1508.41 L817.572 1508.41 L817.572 1514.29 L812.688 1514.29 L812.688 1508.41 Z\" fill=\"#000000\" fill-rule=\"evenodd\" fill-opacity=\"1\" /><path clip-path=\"url(#clip800)\" d=\"M827.156 1488.36 L831.415 1488.36 L831.415 1514.75 Q831.415 1519.7 829.517 1521.93 Q827.642 1524.15 823.452 1524.15 L821.832 1524.15 L821.832 1520.54 L822.966 1520.54 Q825.397 1520.54 826.276 1519.4 Q827.156 1518.29 827.156 1514.75 L827.156 1488.36 M827.156 1478.27 L831.415 1478.27 L831.415 1483.66 L827.156 1483.66 L827.156 1478.27 Z\" fill=\"#000000\" fill-rule=\"evenodd\" fill-opacity=\"1\" /><path clip-path=\"url(#clip800)\" d=\"M840.327 1478.27 L844.586 1478.27 L844.586 1514.29 L840.327 1514.29 L840.327 1478.27 Z\" fill=\"#000000\" fill-rule=\"evenodd\" fill-opacity=\"1\" /><path clip-path=\"url(#clip800)\" d=\"M1065.84 1479.73 L1070.52 1479.73 L1070.52 1511.88 Q1070.52 1518.13 1068.14 1520.95 Q1065.78 1523.78 1060.52 1523.78 L1058.74 1523.78 L1058.74 1519.84 L1060.2 1519.84 Q1063.3 1519.84 1064.57 1518.11 Q1065.84 1516.37 1065.84 1511.88 L1065.84 1479.73 Z\" fill=\"#000000\" fill-rule=\"evenodd\" fill-opacity=\"1\" /><path clip-path=\"url(#clip800)\" d=\"M1084.5 1483.57 L1084.5 1510.45 L1090.15 1510.45 Q1097.3 1510.45 1100.61 1507.2 Q1103.95 1503.96 1103.95 1496.97 Q1103.95 1490.03 1100.61 1486.81 Q1097.3 1483.57 1090.15 1483.57 L1084.5 1483.57 M1079.83 1479.73 L1089.43 1479.73 Q1099.48 1479.73 1104.18 1483.92 Q1108.88 1488.08 1108.88 1496.97 Q1108.88 1505.91 1104.15 1510.1 Q1099.43 1514.29 1089.43 1514.29 L1079.83 1514.29 L1079.83 1479.73 Z\" fill=\"#000000\" fill-rule=\"evenodd\" fill-opacity=\"1\" /><path clip-path=\"url(#clip800)\" d=\"M1116.33 1479.73 L1136.19 1479.73 L1136.19 1483.66 L1121.01 1483.66 L1121.01 1493.85 L1134.71 1493.85 L1134.71 1497.78 L1121.01 1497.78 L1121.01 1514.29 L1116.33 1514.29 L1116.33 1479.73 Z\" fill=\"#000000\" fill-rule=\"evenodd\" fill-opacity=\"1\" /><path clip-path=\"url(#clip800)\" d=\"M1136.4 1508.41 L1141.28 1508.41 L1141.28 1514.29 L1136.4 1514.29 L1136.4 1508.41 Z\" fill=\"#000000\" fill-rule=\"evenodd\" fill-opacity=\"1\" /><path clip-path=\"url(#clip800)\" d=\"M1150.87 1488.36 L1155.13 1488.36 L1155.13 1514.75 Q1155.13 1519.7 1153.23 1521.93 Q1151.35 1524.15 1147.16 1524.15 L1145.54 1524.15 L1145.54 1520.54 L1146.68 1520.54 Q1149.11 1520.54 1149.99 1519.4 Q1150.87 1518.29 1150.87 1514.75 L1150.87 1488.36 M1150.87 1478.27 L1155.13 1478.27 L1155.13 1483.66 L1150.87 1483.66 L1150.87 1478.27 Z\" fill=\"#000000\" fill-rule=\"evenodd\" fill-opacity=\"1\" /><path clip-path=\"url(#clip800)\" d=\"M1164.04 1478.27 L1168.3 1478.27 L1168.3 1514.29 L1164.04 1514.29 L1164.04 1478.27 Z\" fill=\"#000000\" fill-rule=\"evenodd\" fill-opacity=\"1\" /><path clip-path=\"url(#clip800)\" d=\"M1378.82 1479.73 L1383.49 1479.73 L1383.49 1511.88 Q1383.49 1518.13 1381.11 1520.95 Q1378.75 1523.78 1373.49 1523.78 L1371.71 1523.78 L1371.71 1519.84 L1373.17 1519.84 Q1376.27 1519.84 1377.54 1518.11 Q1378.82 1516.37 1378.82 1511.88 L1378.82 1479.73 Z\" fill=\"#000000\" fill-rule=\"evenodd\" fill-opacity=\"1\" /><path clip-path=\"url(#clip800)\" d=\"M1392.8 1479.73 L1397.47 1479.73 L1397.47 1510.35 L1414.3 1510.35 L1414.3 1514.29 L1392.8 1514.29 L1392.8 1479.73 Z\" fill=\"#000000\" fill-rule=\"evenodd\" fill-opacity=\"1\" /><path clip-path=\"url(#clip800)\" d=\"M1439.93 1480.86 L1439.93 1485.42 Q1437.26 1484.15 1434.9 1483.52 Q1432.54 1482.9 1430.34 1482.9 Q1426.52 1482.9 1424.44 1484.38 Q1422.38 1485.86 1422.38 1488.59 Q1422.38 1490.89 1423.75 1492.07 Q1425.13 1493.22 1428.98 1493.94 L1431.8 1494.52 Q1437.03 1495.51 1439.51 1498.04 Q1442.01 1500.54 1442.01 1504.75 Q1442.01 1509.77 1438.63 1512.37 Q1435.27 1514.96 1428.77 1514.96 Q1426.32 1514.96 1423.54 1514.4 Q1420.78 1513.85 1417.82 1512.76 L1417.82 1507.95 Q1420.67 1509.54 1423.4 1510.35 Q1426.13 1511.16 1428.77 1511.16 Q1432.77 1511.16 1434.95 1509.59 Q1437.13 1508.01 1437.13 1505.1 Q1437.13 1502.55 1435.55 1501.12 Q1434 1499.68 1430.44 1498.96 L1427.59 1498.41 Q1422.36 1497.37 1420.02 1495.14 Q1417.68 1492.92 1417.68 1488.96 Q1417.68 1484.38 1420.9 1481.74 Q1424.14 1479.1 1429.81 1479.1 Q1432.24 1479.1 1434.76 1479.54 Q1437.29 1479.98 1439.93 1480.86 Z\" fill=\"#000000\" fill-rule=\"evenodd\" fill-opacity=\"1\" /><path clip-path=\"url(#clip800)\" d=\"M1463.33 1482.9 Q1458.24 1482.9 1455.23 1486.7 Q1452.24 1490.49 1452.24 1497.04 Q1452.24 1503.57 1455.23 1507.37 Q1458.24 1511.16 1463.33 1511.16 Q1468.42 1511.16 1471.38 1507.37 Q1474.37 1503.57 1474.37 1497.04 Q1474.37 1490.49 1471.38 1486.7 Q1468.42 1482.9 1463.33 1482.9 M1463.33 1479.1 Q1470.6 1479.1 1474.95 1483.99 Q1479.3 1488.85 1479.3 1497.04 Q1479.3 1505.21 1474.95 1510.1 Q1470.6 1514.96 1463.33 1514.96 Q1456.04 1514.96 1451.66 1510.1 Q1447.31 1505.24 1447.31 1497.04 Q1447.31 1488.85 1451.66 1483.99 Q1456.04 1479.1 1463.33 1479.1 Z\" fill=\"#000000\" fill-rule=\"evenodd\" fill-opacity=\"1\" /><path clip-path=\"url(#clip800)\" d=\"M1485.11 1508.41 L1490 1508.41 L1490 1514.29 L1485.11 1514.29 L1485.11 1508.41 Z\" fill=\"#000000\" fill-rule=\"evenodd\" fill-opacity=\"1\" /><path clip-path=\"url(#clip800)\" d=\"M1499.58 1488.36 L1503.84 1488.36 L1503.84 1514.75 Q1503.84 1519.7 1501.94 1521.93 Q1500.06 1524.15 1495.87 1524.15 L1494.25 1524.15 L1494.25 1520.54 L1495.39 1520.54 Q1497.82 1520.54 1498.7 1519.4 Q1499.58 1518.29 1499.58 1514.75 L1499.58 1488.36 M1499.58 1478.27 L1503.84 1478.27 L1503.84 1483.66 L1499.58 1483.66 L1499.58 1478.27 Z\" fill=\"#000000\" fill-rule=\"evenodd\" fill-opacity=\"1\" /><path clip-path=\"url(#clip800)\" d=\"M1512.75 1478.27 L1517.01 1478.27 L1517.01 1514.29 L1512.75 1514.29 L1512.75 1478.27 Z\" fill=\"#000000\" fill-rule=\"evenodd\" fill-opacity=\"1\" /><path clip-path=\"url(#clip800)\" d=\"M1630.52 1486.64 L1635.2 1486.64 L1635.2 1518.79 Q1635.2 1525.04 1632.82 1527.87 Q1630.46 1530.69 1625.2 1530.69 L1623.42 1530.69 L1623.42 1526.76 L1624.88 1526.76 Q1627.98 1526.76 1629.25 1525.02 Q1630.52 1523.28 1630.52 1518.79 L1630.52 1486.64 Z\" fill=\"#000000\" fill-rule=\"evenodd\" fill-opacity=\"1\" /><path clip-path=\"url(#clip800)\" d=\"M1665.22 1487.77 L1665.22 1492.33 Q1662.56 1491.06 1660.2 1490.44 Q1657.84 1489.81 1655.64 1489.81 Q1651.82 1489.81 1649.74 1491.29 Q1647.68 1492.77 1647.68 1495.51 Q1647.68 1497.8 1649.04 1498.98 Q1650.43 1500.14 1654.27 1500.85 L1657.1 1501.43 Q1662.33 1502.43 1664.81 1504.95 Q1667.31 1507.45 1667.31 1511.66 Q1667.31 1516.69 1663.93 1519.28 Q1660.57 1521.87 1654.07 1521.87 Q1651.61 1521.87 1648.83 1521.32 Q1646.08 1520.76 1643.12 1519.67 L1643.12 1514.86 Q1645.96 1516.45 1648.7 1517.26 Q1651.43 1518.07 1654.07 1518.07 Q1658.07 1518.07 1660.25 1516.5 Q1662.42 1514.93 1662.42 1512.01 Q1662.42 1509.46 1660.85 1508.03 Q1659.3 1506.59 1655.73 1505.88 L1652.89 1505.32 Q1647.65 1504.28 1645.32 1502.06 Q1642.98 1499.83 1642.98 1495.88 Q1642.98 1491.29 1646.2 1488.65 Q1649.44 1486.01 1655.11 1486.01 Q1657.54 1486.01 1660.06 1486.45 Q1662.58 1486.89 1665.22 1487.77 Z\" fill=\"#000000\" fill-rule=\"evenodd\" fill-opacity=\"1\" /><path clip-path=\"url(#clip800)\" d=\"M1688.63 1489.81 Q1683.53 1489.81 1680.52 1493.61 Q1677.54 1497.4 1677.54 1503.95 Q1677.54 1510.48 1680.52 1514.28 Q1683.53 1518.07 1688.63 1518.07 Q1693.72 1518.07 1696.68 1514.28 Q1699.67 1510.48 1699.67 1503.95 Q1699.67 1497.4 1696.68 1493.61 Q1693.72 1489.81 1688.63 1489.81 M1688.63 1486.01 Q1695.89 1486.01 1700.25 1490.9 Q1704.6 1495.76 1704.6 1503.95 Q1704.6 1512.13 1700.25 1517.01 Q1695.89 1521.87 1688.63 1521.87 Q1681.33 1521.87 1676.96 1517.01 Q1672.61 1512.15 1672.61 1503.95 Q1672.61 1495.76 1676.96 1490.9 Q1681.33 1486.01 1688.63 1486.01 Z\" fill=\"#000000\" fill-rule=\"evenodd\" fill-opacity=\"1\" /><path clip-path=\"url(#clip800)\" d=\"M1711.91 1486.64 L1718.21 1486.64 L1733.53 1515.55 L1733.53 1486.64 L1738.07 1486.64 L1738.07 1521.2 L1731.77 1521.2 L1716.45 1492.29 L1716.45 1521.2 L1711.91 1521.2 L1711.91 1486.64 Z\" fill=\"#000000\" fill-rule=\"evenodd\" fill-opacity=\"1\" /><path clip-path=\"url(#clip800)\" d=\"M1742.58 1486.64 L1771.82 1486.64 L1771.82 1490.58 L1759.55 1490.58 L1759.55 1521.2 L1754.85 1521.2 L1754.85 1490.58 L1742.58 1490.58 L1742.58 1486.64 Z\" fill=\"#000000\" fill-rule=\"evenodd\" fill-opacity=\"1\" /><path clip-path=\"url(#clip800)\" d=\"M1780.08 1508.17 Q1774.92 1508.17 1772.93 1509.35 Q1770.94 1510.53 1770.94 1513.38 Q1770.94 1515.64 1772.42 1516.99 Q1773.93 1518.31 1776.5 1518.31 Q1780.04 1518.31 1782.17 1515.81 Q1784.32 1513.28 1784.32 1509.12 L1784.32 1508.17 L1780.08 1508.17 M1788.58 1506.41 L1788.58 1521.2 L1784.32 1521.2 L1784.32 1517.26 Q1782.86 1519.63 1780.69 1520.76 Q1778.51 1521.87 1775.36 1521.87 Q1771.38 1521.87 1769.02 1519.65 Q1766.68 1517.4 1766.68 1513.65 Q1766.68 1509.28 1769.6 1507.06 Q1772.54 1504.83 1778.35 1504.83 L1784.32 1504.83 L1784.32 1504.42 Q1784.32 1501.48 1782.38 1499.88 Q1780.45 1498.26 1776.96 1498.26 Q1774.74 1498.26 1772.63 1498.79 Q1770.52 1499.32 1768.58 1500.39 L1768.58 1496.45 Q1770.92 1495.55 1773.12 1495.11 Q1775.32 1494.65 1777.4 1494.65 Q1783.02 1494.65 1785.8 1497.57 Q1788.58 1500.48 1788.58 1506.41 Z\" fill=\"#000000\" fill-rule=\"evenodd\" fill-opacity=\"1\" /><path clip-path=\"url(#clip800)\" d=\"M1815.96 1508.26 Q1815.96 1503.56 1814.02 1500.9 Q1812.1 1498.21 1808.72 1498.21 Q1805.34 1498.21 1803.39 1500.9 Q1801.47 1503.56 1801.47 1508.26 Q1801.47 1512.96 1803.39 1515.64 Q1805.34 1518.31 1808.72 1518.31 Q1812.1 1518.31 1814.02 1515.64 Q1815.96 1512.96 1815.96 1508.26 M1801.47 1499.21 Q1802.82 1496.89 1804.85 1495.78 Q1806.91 1494.65 1809.76 1494.65 Q1814.48 1494.65 1817.42 1498.4 Q1820.38 1502.15 1820.38 1508.26 Q1820.38 1514.37 1817.42 1518.12 Q1814.48 1521.87 1809.76 1521.87 Q1806.91 1521.87 1804.85 1520.76 Q1802.82 1519.63 1801.47 1517.31 L1801.47 1521.2 L1797.19 1521.2 L1797.19 1485.18 L1801.47 1485.18 L1801.47 1499.21 Z\" fill=\"#000000\" fill-rule=\"evenodd\" fill-opacity=\"1\" /><path clip-path=\"url(#clip800)\" d=\"M1827.45 1485.18 L1831.7 1485.18 L1831.7 1521.2 L1827.45 1521.2 L1827.45 1485.18 Z\" fill=\"#000000\" fill-rule=\"evenodd\" fill-opacity=\"1\" /><path clip-path=\"url(#clip800)\" d=\"M1862.79 1507.17 L1862.79 1509.26 L1843.21 1509.26 Q1843.49 1513.65 1845.85 1515.97 Q1848.23 1518.26 1852.47 1518.26 Q1854.92 1518.26 1857.21 1517.66 Q1859.53 1517.06 1861.8 1515.85 L1861.8 1519.88 Q1859.51 1520.85 1857.1 1521.36 Q1854.69 1521.87 1852.21 1521.87 Q1846.01 1521.87 1842.38 1518.26 Q1838.76 1514.65 1838.76 1508.49 Q1838.76 1502.13 1842.19 1498.4 Q1845.64 1494.65 1851.47 1494.65 Q1856.7 1494.65 1859.74 1498.03 Q1862.79 1501.39 1862.79 1507.17 M1858.53 1505.92 Q1858.49 1502.43 1856.57 1500.34 Q1854.67 1498.26 1851.52 1498.26 Q1847.95 1498.26 1845.8 1500.27 Q1843.67 1502.29 1843.35 1505.95 L1858.53 1505.92 Z\" fill=\"#000000\" fill-rule=\"evenodd\" fill-opacity=\"1\" /><path clip-path=\"url(#clip800)\" d=\"M1886.31 1496.04 L1886.31 1500.07 Q1884.51 1499.14 1882.56 1498.68 Q1880.62 1498.21 1878.53 1498.21 Q1875.36 1498.21 1873.76 1499.19 Q1872.19 1500.16 1872.19 1502.1 Q1872.19 1503.58 1873.32 1504.44 Q1874.46 1505.27 1877.88 1506.04 L1879.34 1506.36 Q1883.88 1507.33 1885.78 1509.12 Q1887.7 1510.88 1887.7 1514.05 Q1887.7 1517.66 1884.83 1519.76 Q1881.98 1521.87 1876.98 1521.87 Q1874.9 1521.87 1872.63 1521.45 Q1870.38 1521.06 1867.88 1520.25 L1867.88 1515.85 Q1870.25 1517.08 1872.54 1517.7 Q1874.83 1518.31 1877.07 1518.31 Q1880.08 1518.31 1881.7 1517.29 Q1883.32 1516.25 1883.32 1514.37 Q1883.32 1512.64 1882.14 1511.71 Q1880.99 1510.78 1877.03 1509.93 L1875.55 1509.58 Q1871.59 1508.75 1869.83 1507.03 Q1868.07 1505.3 1868.07 1502.29 Q1868.07 1498.63 1870.66 1496.64 Q1873.26 1494.65 1878.02 1494.65 Q1880.38 1494.65 1882.47 1495 Q1884.55 1495.34 1886.31 1496.04 Z\" fill=\"#000000\" fill-rule=\"evenodd\" fill-opacity=\"1\" /><path clip-path=\"url(#clip800)\" d=\"M1895.08 1515.32 L1899.97 1515.32 L1899.97 1521.2 L1895.08 1521.2 L1895.08 1515.32 Z\" fill=\"#000000\" fill-rule=\"evenodd\" fill-opacity=\"1\" /><path clip-path=\"url(#clip800)\" d=\"M1909.55 1495.27 L1913.81 1495.27 L1913.81 1521.66 Q1913.81 1526.62 1911.91 1528.84 Q1910.04 1531.06 1905.85 1531.06 L1904.23 1531.06 L1904.23 1527.45 L1905.36 1527.45 Q1907.79 1527.45 1908.67 1526.32 Q1909.55 1525.2 1909.55 1521.66 L1909.55 1495.27 M1909.55 1485.18 L1913.81 1485.18 L1913.81 1490.58 L1909.55 1490.58 L1909.55 1485.18 Z\" fill=\"#000000\" fill-rule=\"evenodd\" fill-opacity=\"1\" /><path clip-path=\"url(#clip800)\" d=\"M1922.72 1485.18 L1926.98 1485.18 L1926.98 1521.2 L1922.72 1521.2 L1922.72 1485.18 Z\" fill=\"#000000\" fill-rule=\"evenodd\" fill-opacity=\"1\" /><path clip-path=\"url(#clip800)\" d=\"M1656.59 1550.1 Q1653.16 1550.1 1651.17 1552.79 Q1649.18 1555.45 1649.18 1560.1 Q1649.18 1564.75 1651.15 1567.44 Q1653.14 1570.1 1656.59 1570.1 Q1659.99 1570.1 1661.98 1567.41 Q1663.97 1564.73 1663.97 1560.1 Q1663.97 1555.49 1661.98 1552.81 Q1659.99 1550.1 1656.59 1550.1 M1656.59 1546.49 Q1662.15 1546.49 1665.32 1550.1 Q1668.49 1553.71 1668.49 1560.1 Q1668.49 1566.47 1665.32 1570.1 Q1662.15 1573.71 1656.59 1573.71 Q1651.01 1573.71 1647.84 1570.1 Q1644.69 1566.47 1644.69 1560.1 Q1644.69 1553.71 1647.84 1550.1 Q1651.01 1546.49 1656.59 1546.49 Z\" fill=\"#000000\" fill-rule=\"evenodd\" fill-opacity=\"1\" /><path clip-path=\"url(#clip800)\" d=\"M1694.16 1560.1 Q1694.16 1555.4 1692.21 1552.74 Q1690.29 1550.05 1686.91 1550.05 Q1683.53 1550.05 1681.59 1552.74 Q1679.67 1555.4 1679.67 1560.1 Q1679.67 1564.8 1681.59 1567.48 Q1683.53 1570.15 1686.91 1570.15 Q1690.29 1570.15 1692.21 1567.48 Q1694.16 1564.8 1694.16 1560.1 M1679.67 1551.05 Q1681.01 1548.73 1683.05 1547.62 Q1685.11 1546.49 1687.96 1546.49 Q1692.68 1546.49 1695.62 1550.24 Q1698.58 1553.99 1698.58 1560.1 Q1698.58 1566.21 1695.62 1569.96 Q1692.68 1573.71 1687.96 1573.71 Q1685.11 1573.71 1683.05 1572.6 Q1681.01 1571.47 1679.67 1569.15 L1679.67 1573.04 L1675.39 1573.04 L1675.39 1537.02 L1679.67 1537.02 L1679.67 1551.05 Z\" fill=\"#000000\" fill-rule=\"evenodd\" fill-opacity=\"1\" /><path clip-path=\"url(#clip800)\" d=\"M1705.64 1547.11 L1709.9 1547.11 L1709.9 1573.5 Q1709.9 1578.46 1708 1580.68 Q1706.13 1582.9 1701.94 1582.9 L1700.32 1582.9 L1700.32 1579.29 L1701.45 1579.29 Q1703.88 1579.29 1704.76 1578.16 Q1705.64 1577.04 1705.64 1573.5 L1705.64 1547.11 M1705.64 1537.02 L1709.9 1537.02 L1709.9 1542.42 L1705.64 1542.42 L1705.64 1537.02 Z\" fill=\"#000000\" fill-rule=\"evenodd\" fill-opacity=\"1\" /><path clip-path=\"url(#clip800)\" d=\"M1740.99 1559.01 L1740.99 1561.1 L1721.4 1561.1 Q1721.68 1565.49 1724.04 1567.81 Q1726.43 1570.1 1730.66 1570.1 Q1733.12 1570.1 1735.41 1569.5 Q1737.72 1568.9 1739.99 1567.69 L1739.99 1571.72 Q1737.7 1572.69 1735.29 1573.2 Q1732.89 1573.71 1730.41 1573.71 Q1724.2 1573.71 1720.57 1570.1 Q1716.96 1566.49 1716.96 1560.33 Q1716.96 1553.97 1720.39 1550.24 Q1723.83 1546.49 1729.67 1546.49 Q1734.9 1546.49 1737.93 1549.87 Q1740.99 1553.23 1740.99 1559.01 M1736.73 1557.76 Q1736.68 1554.27 1734.76 1552.18 Q1732.86 1550.1 1729.71 1550.1 Q1726.15 1550.1 1724 1552.11 Q1721.87 1554.13 1721.54 1557.79 L1736.73 1557.76 Z\" fill=\"#000000\" fill-rule=\"evenodd\" fill-opacity=\"1\" /><path clip-path=\"url(#clip800)\" d=\"M1766.64 1548.11 L1766.64 1552.09 Q1764.83 1551.1 1763 1550.61 Q1761.2 1550.1 1759.34 1550.1 Q1755.2 1550.1 1752.91 1552.74 Q1750.62 1555.35 1750.62 1560.1 Q1750.62 1564.85 1752.91 1567.48 Q1755.2 1570.1 1759.34 1570.1 Q1761.2 1570.1 1763 1569.61 Q1764.83 1569.1 1766.64 1568.11 L1766.64 1572.04 Q1764.85 1572.88 1762.93 1573.29 Q1761.03 1573.71 1758.88 1573.71 Q1753.02 1573.71 1749.58 1570.03 Q1746.13 1566.35 1746.13 1560.1 Q1746.13 1553.76 1749.6 1550.12 Q1753.09 1546.49 1759.16 1546.49 Q1761.13 1546.49 1763 1546.91 Q1764.88 1547.3 1766.64 1548.11 Z\" fill=\"#000000\" fill-rule=\"evenodd\" fill-opacity=\"1\" /><path clip-path=\"url(#clip800)\" d=\"M1778.26 1539.75 L1778.26 1547.11 L1787.03 1547.11 L1787.03 1550.42 L1778.26 1550.42 L1778.26 1564.5 Q1778.26 1567.67 1779.11 1568.57 Q1779.99 1569.48 1782.65 1569.48 L1787.03 1569.48 L1787.03 1573.04 L1782.65 1573.04 Q1777.72 1573.04 1775.85 1571.21 Q1773.97 1569.36 1773.97 1564.5 L1773.97 1550.42 L1770.85 1550.42 L1770.85 1547.11 L1773.97 1547.11 L1773.97 1539.75 L1778.26 1539.75 Z\" fill=\"#000000\" fill-rule=\"evenodd\" fill-opacity=\"1\" /><path clip-path=\"url(#clip800)\" d=\"M1796.84 1539.75 L1796.84 1547.11 L1805.62 1547.11 L1805.62 1550.42 L1796.84 1550.42 L1796.84 1564.5 Q1796.84 1567.67 1797.7 1568.57 Q1798.58 1569.48 1801.24 1569.48 L1805.62 1569.48 L1805.62 1573.04 L1801.24 1573.04 Q1796.31 1573.04 1794.44 1571.21 Q1792.56 1569.36 1792.56 1564.5 L1792.56 1550.42 L1789.44 1550.42 L1789.44 1547.11 L1792.56 1547.11 L1792.56 1539.75 L1796.84 1539.75 Z\" fill=\"#000000\" fill-rule=\"evenodd\" fill-opacity=\"1\" /><path clip-path=\"url(#clip800)\" d=\"M1823 1560.01 Q1817.84 1560.01 1815.85 1561.19 Q1813.86 1562.37 1813.86 1565.22 Q1813.86 1567.48 1815.34 1568.83 Q1816.84 1570.15 1819.41 1570.15 Q1822.95 1570.15 1825.08 1567.65 Q1827.24 1565.12 1827.24 1560.96 L1827.24 1560.01 L1823 1560.01 M1831.5 1558.25 L1831.5 1573.04 L1827.24 1573.04 L1827.24 1569.1 Q1825.78 1571.47 1823.6 1572.6 Q1821.43 1573.71 1818.28 1573.71 Q1814.3 1573.71 1811.94 1571.49 Q1809.6 1569.24 1809.6 1565.49 Q1809.6 1561.12 1812.51 1558.9 Q1815.45 1556.67 1821.26 1556.67 L1827.24 1556.67 L1827.24 1556.26 Q1827.24 1553.32 1825.29 1551.72 Q1823.37 1550.1 1819.88 1550.1 Q1817.65 1550.1 1815.55 1550.63 Q1813.44 1551.16 1811.5 1552.23 L1811.5 1548.29 Q1813.83 1547.39 1816.03 1546.95 Q1818.23 1546.49 1820.32 1546.49 Q1825.94 1546.49 1828.72 1549.41 Q1831.5 1552.32 1831.5 1558.25 Z\" fill=\"#000000\" fill-rule=\"evenodd\" fill-opacity=\"1\" /><path clip-path=\"url(#clip800)\" d=\"M1858.88 1560.1 Q1858.88 1555.4 1856.94 1552.74 Q1855.01 1550.05 1851.63 1550.05 Q1848.26 1550.05 1846.31 1552.74 Q1844.39 1555.4 1844.39 1560.1 Q1844.39 1564.8 1846.31 1567.48 Q1848.26 1570.15 1851.63 1570.15 Q1855.01 1570.15 1856.94 1567.48 Q1858.88 1564.8 1858.88 1560.1 M1844.39 1551.05 Q1845.73 1548.73 1847.77 1547.62 Q1849.83 1546.49 1852.68 1546.49 Q1857.4 1546.49 1860.34 1550.24 Q1863.3 1553.99 1863.3 1560.1 Q1863.3 1566.21 1860.34 1569.96 Q1857.4 1573.71 1852.68 1573.71 Q1849.83 1573.71 1847.77 1572.6 Q1845.73 1571.47 1844.39 1569.15 L1844.39 1573.04 L1840.11 1573.04 L1840.11 1537.02 L1844.39 1537.02 L1844.39 1551.05 Z\" fill=\"#000000\" fill-rule=\"evenodd\" fill-opacity=\"1\" /><path clip-path=\"url(#clip800)\" d=\"M1870.36 1537.02 L1874.62 1537.02 L1874.62 1573.04 L1870.36 1573.04 L1870.36 1537.02 Z\" fill=\"#000000\" fill-rule=\"evenodd\" fill-opacity=\"1\" /><path clip-path=\"url(#clip800)\" d=\"M1905.71 1559.01 L1905.71 1561.1 L1886.13 1561.1 Q1886.4 1565.49 1888.76 1567.81 Q1891.15 1570.1 1895.38 1570.1 Q1897.84 1570.1 1900.13 1569.5 Q1902.44 1568.9 1904.71 1567.69 L1904.71 1571.72 Q1902.42 1572.69 1900.01 1573.2 Q1897.61 1573.71 1895.13 1573.71 Q1888.93 1573.71 1885.29 1570.1 Q1881.68 1566.49 1881.68 1560.33 Q1881.68 1553.97 1885.11 1550.24 Q1888.56 1546.49 1894.39 1546.49 Q1899.62 1546.49 1902.65 1549.87 Q1905.71 1553.23 1905.71 1559.01 M1901.45 1557.76 Q1901.4 1554.27 1899.48 1552.18 Q1897.58 1550.1 1894.44 1550.1 Q1890.87 1550.1 1888.72 1552.11 Q1886.59 1554.13 1886.26 1557.79 L1901.45 1557.76 Z\" fill=\"#000000\" fill-rule=\"evenodd\" fill-opacity=\"1\" /><path clip-path=\"url(#clip800)\" d=\"M1985.83 1480.86 L1985.83 1485.42 Q1983.17 1484.15 1980.81 1483.52 Q1978.45 1482.9 1976.25 1482.9 Q1972.43 1482.9 1970.35 1484.38 Q1968.29 1485.86 1968.29 1488.59 Q1968.29 1490.89 1969.65 1492.07 Q1971.04 1493.22 1974.88 1493.94 L1977.71 1494.52 Q1982.94 1495.51 1985.42 1498.04 Q1987.92 1500.54 1987.92 1504.75 Q1987.92 1509.77 1984.54 1512.37 Q1981.18 1514.96 1974.68 1514.96 Q1972.22 1514.96 1969.44 1514.4 Q1966.69 1513.85 1963.73 1512.76 L1963.73 1507.95 Q1966.57 1509.54 1969.31 1510.35 Q1972.04 1511.16 1974.68 1511.16 Q1978.68 1511.16 1980.86 1509.59 Q1983.03 1508.01 1983.03 1505.1 Q1983.03 1502.55 1981.46 1501.12 Q1979.91 1499.68 1976.34 1498.96 L1973.5 1498.41 Q1968.26 1497.37 1965.93 1495.14 Q1963.59 1492.92 1963.59 1488.96 Q1963.59 1484.38 1966.81 1481.74 Q1970.05 1479.1 1975.72 1479.1 Q1978.15 1479.1 1980.67 1479.54 Q1983.19 1479.98 1985.83 1480.86 Z\" fill=\"#000000\" fill-rule=\"evenodd\" fill-opacity=\"1\" /><path clip-path=\"url(#clip800)\" d=\"M2017.2 1500.26 L2017.2 1502.34 L1997.62 1502.34 Q1997.89 1506.74 2000.25 1509.06 Q2002.64 1511.35 2006.87 1511.35 Q2009.33 1511.35 2011.62 1510.75 Q2013.94 1510.14 2016.2 1508.94 L2016.2 1512.97 Q2013.91 1513.94 2011.5 1514.45 Q2009.1 1514.96 2006.62 1514.96 Q2000.42 1514.96 1996.78 1511.35 Q1993.17 1507.74 1993.17 1501.58 Q1993.17 1495.21 1996.6 1491.49 Q2000.05 1487.74 2005.88 1487.74 Q2011.11 1487.74 2014.14 1491.12 Q2017.2 1494.47 2017.2 1500.26 M2012.94 1499.01 Q2012.89 1495.51 2010.97 1493.43 Q2009.07 1491.35 2005.93 1491.35 Q2002.36 1491.35 2000.21 1493.36 Q1998.08 1495.38 1997.75 1499.03 L2012.94 1499.01 Z\" fill=\"#000000\" fill-rule=\"evenodd\" fill-opacity=\"1\" /><path clip-path=\"url(#clip800)\" d=\"M2039.21 1492.34 Q2038.5 1491.93 2037.64 1491.74 Q2036.81 1491.53 2035.79 1491.53 Q2032.18 1491.53 2030.23 1493.89 Q2028.31 1496.23 2028.31 1500.63 L2028.31 1514.29 L2024.03 1514.29 L2024.03 1488.36 L2028.31 1488.36 L2028.31 1492.39 Q2029.65 1490.03 2031.81 1488.89 Q2033.96 1487.74 2037.04 1487.74 Q2037.48 1487.74 2038.01 1487.81 Q2038.54 1487.85 2039.19 1487.97 L2039.21 1492.34 Z\" fill=\"#000000\" fill-rule=\"evenodd\" fill-opacity=\"1\" /><path clip-path=\"url(#clip800)\" d=\"M2043.68 1488.36 L2047.94 1488.36 L2047.94 1514.29 L2043.68 1514.29 L2043.68 1488.36 M2043.68 1478.27 L2047.94 1478.27 L2047.94 1483.66 L2043.68 1483.66 L2043.68 1478.27 Z\" fill=\"#000000\" fill-rule=\"evenodd\" fill-opacity=\"1\" /><path clip-path=\"url(#clip800)\" d=\"M2068.63 1501.26 Q2063.47 1501.26 2061.48 1502.44 Q2059.49 1503.62 2059.49 1506.46 Q2059.49 1508.73 2060.97 1510.07 Q2062.48 1511.39 2065.05 1511.39 Q2068.59 1511.39 2070.72 1508.89 Q2072.87 1506.37 2072.87 1502.2 L2072.87 1501.26 L2068.63 1501.26 M2077.13 1499.5 L2077.13 1514.29 L2072.87 1514.29 L2072.87 1510.35 Q2071.41 1512.71 2069.24 1513.85 Q2067.06 1514.96 2063.91 1514.96 Q2059.93 1514.96 2057.57 1512.74 Q2055.23 1510.49 2055.23 1506.74 Q2055.23 1502.37 2058.15 1500.14 Q2061.09 1497.92 2066.9 1497.92 L2072.87 1497.92 L2072.87 1497.51 Q2072.87 1494.57 2070.93 1492.97 Q2069 1491.35 2065.51 1491.35 Q2063.29 1491.35 2061.18 1491.88 Q2059.07 1492.41 2057.13 1493.48 L2057.13 1489.54 Q2059.47 1488.64 2061.67 1488.2 Q2063.87 1487.74 2065.95 1487.74 Q2071.57 1487.74 2074.35 1490.65 Q2077.13 1493.57 2077.13 1499.5 Z\" fill=\"#000000\" fill-rule=\"evenodd\" fill-opacity=\"1\" /><path clip-path=\"url(#clip800)\" d=\"M2085.9 1478.27 L2090.16 1478.27 L2090.16 1514.29 L2085.9 1514.29 L2085.9 1478.27 Z\" fill=\"#000000\" fill-rule=\"evenodd\" fill-opacity=\"1\" /><path clip-path=\"url(#clip800)\" d=\"M2099.07 1488.36 L2103.33 1488.36 L2103.33 1514.29 L2099.07 1514.29 L2099.07 1488.36 M2099.07 1478.27 L2103.33 1478.27 L2103.33 1483.66 L2099.07 1483.66 L2099.07 1478.27 Z\" fill=\"#000000\" fill-rule=\"evenodd\" fill-opacity=\"1\" /><path clip-path=\"url(#clip800)\" d=\"M2110.39 1488.36 L2130.62 1488.36 L2130.62 1492.25 L2114.61 1510.89 L2130.62 1510.89 L2130.62 1514.29 L2109.81 1514.29 L2109.81 1510.4 L2125.83 1491.76 L2110.39 1491.76 L2110.39 1488.36 Z\" fill=\"#000000\" fill-rule=\"evenodd\" fill-opacity=\"1\" /><path clip-path=\"url(#clip800)\" d=\"M2148.91 1501.26 Q2143.75 1501.26 2141.76 1502.44 Q2139.77 1503.62 2139.77 1506.46 Q2139.77 1508.73 2141.25 1510.07 Q2142.75 1511.39 2145.32 1511.39 Q2148.86 1511.39 2150.99 1508.89 Q2153.15 1506.37 2153.15 1502.2 L2153.15 1501.26 L2148.91 1501.26 M2157.41 1499.5 L2157.41 1514.29 L2153.15 1514.29 L2153.15 1510.35 Q2151.69 1512.71 2149.51 1513.85 Q2147.34 1514.96 2144.19 1514.96 Q2140.21 1514.96 2137.85 1512.74 Q2135.51 1510.49 2135.51 1506.74 Q2135.51 1502.37 2138.43 1500.14 Q2141.36 1497.92 2147.18 1497.92 L2153.15 1497.92 L2153.15 1497.51 Q2153.15 1494.57 2151.2 1492.97 Q2149.28 1491.35 2145.79 1491.35 Q2143.56 1491.35 2141.46 1491.88 Q2139.35 1492.41 2137.41 1493.48 L2137.41 1489.54 Q2139.74 1488.64 2141.94 1488.2 Q2144.14 1487.74 2146.23 1487.74 Q2151.85 1487.74 2154.63 1490.65 Q2157.41 1493.57 2157.41 1499.5 Z\" fill=\"#000000\" fill-rule=\"evenodd\" fill-opacity=\"1\" /><path clip-path=\"url(#clip800)\" d=\"M2170.39 1481 L2170.39 1488.36 L2179.17 1488.36 L2179.17 1491.67 L2170.39 1491.67 L2170.39 1505.75 Q2170.39 1508.92 2171.25 1509.82 Q2172.13 1510.72 2174.79 1510.72 L2179.17 1510.72 L2179.17 1514.29 L2174.79 1514.29 Q2169.86 1514.29 2167.99 1512.46 Q2166.11 1510.61 2166.11 1505.75 L2166.11 1491.67 L2162.99 1491.67 L2162.99 1488.36 L2166.11 1488.36 L2166.11 1481 L2170.39 1481 Z\" fill=\"#000000\" fill-rule=\"evenodd\" fill-opacity=\"1\" /><path clip-path=\"url(#clip800)\" d=\"M2184.77 1488.36 L2189.03 1488.36 L2189.03 1514.29 L2184.77 1514.29 L2184.77 1488.36 M2184.77 1478.27 L2189.03 1478.27 L2189.03 1483.66 L2184.77 1483.66 L2184.77 1478.27 Z\" fill=\"#000000\" fill-rule=\"evenodd\" fill-opacity=\"1\" /><path clip-path=\"url(#clip800)\" d=\"M2207.99 1491.35 Q2204.56 1491.35 2202.57 1494.03 Q2200.58 1496.7 2200.58 1501.35 Q2200.58 1506 2202.55 1508.69 Q2204.54 1511.35 2207.99 1511.35 Q2211.39 1511.35 2213.38 1508.66 Q2215.37 1505.98 2215.37 1501.35 Q2215.37 1496.74 2213.38 1494.06 Q2211.39 1491.35 2207.99 1491.35 M2207.99 1487.74 Q2213.54 1487.74 2216.71 1491.35 Q2219.88 1494.96 2219.88 1501.35 Q2219.88 1507.71 2216.71 1511.35 Q2213.54 1514.96 2207.99 1514.96 Q2202.41 1514.96 2199.24 1511.35 Q2196.09 1507.71 2196.09 1501.35 Q2196.09 1494.96 2199.24 1491.35 Q2202.41 1487.74 2207.99 1487.74 Z\" fill=\"#000000\" fill-rule=\"evenodd\" fill-opacity=\"1\" /><path clip-path=\"url(#clip800)\" d=\"M2248.49 1498.64 L2248.49 1514.29 L2244.23 1514.29 L2244.23 1498.78 Q2244.23 1495.1 2242.8 1493.27 Q2241.36 1491.44 2238.49 1491.44 Q2235.05 1491.44 2233.05 1493.64 Q2231.06 1495.84 2231.06 1499.64 L2231.06 1514.29 L2226.78 1514.29 L2226.78 1488.36 L2231.06 1488.36 L2231.06 1492.39 Q2232.59 1490.05 2234.65 1488.89 Q2236.73 1487.74 2239.44 1487.74 Q2243.91 1487.74 2246.2 1490.51 Q2248.49 1493.27 2248.49 1498.64 Z\" fill=\"#000000\" fill-rule=\"evenodd\" fill-opacity=\"1\" /><polyline clip-path=\"url(#clip802)\" style=\"stroke:#000000; stroke-linecap:butt; stroke-linejoin:round; stroke-width:2; stroke-opacity:0.1; fill:none\" points=\"\n",
       "  205.121,1417.71 2352.76,1417.71 \n",
       "  \"/>\n",
       "<polyline clip-path=\"url(#clip802)\" style=\"stroke:#000000; stroke-linecap:butt; stroke-linejoin:round; stroke-width:2; stroke-opacity:0.1; fill:none\" points=\"\n",
       "  205.121,1224.39 2352.76,1224.39 \n",
       "  \"/>\n",
       "<polyline clip-path=\"url(#clip802)\" style=\"stroke:#000000; stroke-linecap:butt; stroke-linejoin:round; stroke-width:2; stroke-opacity:0.1; fill:none\" points=\"\n",
       "  205.121,1031.07 2352.76,1031.07 \n",
       "  \"/>\n",
       "<polyline clip-path=\"url(#clip802)\" style=\"stroke:#000000; stroke-linecap:butt; stroke-linejoin:round; stroke-width:2; stroke-opacity:0.1; fill:none\" points=\"\n",
       "  205.121,837.751 2352.76,837.751 \n",
       "  \"/>\n",
       "<polyline clip-path=\"url(#clip802)\" style=\"stroke:#000000; stroke-linecap:butt; stroke-linejoin:round; stroke-width:2; stroke-opacity:0.1; fill:none\" points=\"\n",
       "  205.121,644.429 2352.76,644.429 \n",
       "  \"/>\n",
       "<polyline clip-path=\"url(#clip802)\" style=\"stroke:#000000; stroke-linecap:butt; stroke-linejoin:round; stroke-width:2; stroke-opacity:0.1; fill:none\" points=\"\n",
       "  205.121,451.108 2352.76,451.108 \n",
       "  \"/>\n",
       "<polyline clip-path=\"url(#clip802)\" style=\"stroke:#000000; stroke-linecap:butt; stroke-linejoin:round; stroke-width:2; stroke-opacity:0.1; fill:none\" points=\"\n",
       "  205.121,257.787 2352.76,257.787 \n",
       "  \"/>\n",
       "<polyline clip-path=\"url(#clip800)\" style=\"stroke:#000000; stroke-linecap:butt; stroke-linejoin:round; stroke-width:4; stroke-opacity:1; fill:none\" points=\"\n",
       "  205.121,1451.89 205.121,244.432 \n",
       "  \"/>\n",
       "<polyline clip-path=\"url(#clip800)\" style=\"stroke:#000000; stroke-linecap:butt; stroke-linejoin:round; stroke-width:4; stroke-opacity:1; fill:none\" points=\"\n",
       "  205.121,1417.71 224.019,1417.71 \n",
       "  \"/>\n",
       "<polyline clip-path=\"url(#clip800)\" style=\"stroke:#000000; stroke-linecap:butt; stroke-linejoin:round; stroke-width:4; stroke-opacity:1; fill:none\" points=\"\n",
       "  205.121,1224.39 224.019,1224.39 \n",
       "  \"/>\n",
       "<polyline clip-path=\"url(#clip800)\" style=\"stroke:#000000; stroke-linecap:butt; stroke-linejoin:round; stroke-width:4; stroke-opacity:1; fill:none\" points=\"\n",
       "  205.121,1031.07 224.019,1031.07 \n",
       "  \"/>\n",
       "<polyline clip-path=\"url(#clip800)\" style=\"stroke:#000000; stroke-linecap:butt; stroke-linejoin:round; stroke-width:4; stroke-opacity:1; fill:none\" points=\"\n",
       "  205.121,837.751 224.019,837.751 \n",
       "  \"/>\n",
       "<polyline clip-path=\"url(#clip800)\" style=\"stroke:#000000; stroke-linecap:butt; stroke-linejoin:round; stroke-width:4; stroke-opacity:1; fill:none\" points=\"\n",
       "  205.121,644.429 224.019,644.429 \n",
       "  \"/>\n",
       "<polyline clip-path=\"url(#clip800)\" style=\"stroke:#000000; stroke-linecap:butt; stroke-linejoin:round; stroke-width:4; stroke-opacity:1; fill:none\" points=\"\n",
       "  205.121,451.108 224.019,451.108 \n",
       "  \"/>\n",
       "<polyline clip-path=\"url(#clip800)\" style=\"stroke:#000000; stroke-linecap:butt; stroke-linejoin:round; stroke-width:4; stroke-opacity:1; fill:none\" points=\"\n",
       "  205.121,257.787 224.019,257.787 \n",
       "  \"/>\n",
       "<path clip-path=\"url(#clip800)\" d=\"M157.177 1403.51 Q153.566 1403.51 151.737 1407.08 Q149.931 1410.62 149.931 1417.75 Q149.931 1424.86 151.737 1428.42 Q153.566 1431.96 157.177 1431.96 Q160.811 1431.96 162.616 1428.42 Q164.445 1424.86 164.445 1417.75 Q164.445 1410.62 162.616 1407.08 Q160.811 1403.51 157.177 1403.51 M157.177 1399.81 Q162.987 1399.81 166.042 1404.42 Q169.121 1409 169.121 1417.75 Q169.121 1426.48 166.042 1431.08 Q162.987 1435.67 157.177 1435.67 Q151.366 1435.67 148.288 1431.08 Q145.232 1426.48 145.232 1417.75 Q145.232 1409 148.288 1404.42 Q151.366 1399.81 157.177 1399.81 Z\" fill=\"#000000\" fill-rule=\"evenodd\" fill-opacity=\"1\" /><path clip-path=\"url(#clip800)\" d=\"M117.825 1237.74 L125.464 1237.74 L125.464 1211.37 L117.154 1213.04 L117.154 1208.78 L125.418 1207.11 L130.093 1207.11 L130.093 1237.74 L137.732 1237.74 L137.732 1241.67 L117.825 1241.67 L117.825 1237.74 Z\" fill=\"#000000\" fill-rule=\"evenodd\" fill-opacity=\"1\" /><path clip-path=\"url(#clip800)\" d=\"M157.177 1210.19 Q153.566 1210.19 151.737 1213.76 Q149.931 1217.3 149.931 1224.43 Q149.931 1231.53 151.737 1235.1 Q153.566 1238.64 157.177 1238.64 Q160.811 1238.64 162.616 1235.1 Q164.445 1231.53 164.445 1224.43 Q164.445 1217.3 162.616 1213.76 Q160.811 1210.19 157.177 1210.19 M157.177 1206.49 Q162.987 1206.49 166.042 1211.09 Q169.121 1215.68 169.121 1224.43 Q169.121 1233.15 166.042 1237.76 Q162.987 1242.34 157.177 1242.34 Q151.366 1242.34 148.288 1237.76 Q145.232 1233.15 145.232 1224.43 Q145.232 1215.68 148.288 1211.09 Q151.366 1206.49 157.177 1206.49 Z\" fill=\"#000000\" fill-rule=\"evenodd\" fill-opacity=\"1\" /><path clip-path=\"url(#clip800)\" d=\"M121.043 1044.42 L137.362 1044.42 L137.362 1048.35 L115.418 1048.35 L115.418 1044.42 Q118.08 1041.66 122.663 1037.03 Q127.269 1032.38 128.45 1031.04 Q130.695 1028.51 131.575 1026.78 Q132.478 1025.02 132.478 1023.33 Q132.478 1020.57 130.533 1018.84 Q128.612 1017.1 125.51 1017.1 Q123.311 1017.1 120.857 1017.87 Q118.427 1018.63 115.649 1020.18 L115.649 1015.46 Q118.473 1014.32 120.927 1013.75 Q123.38 1013.17 125.418 1013.17 Q130.788 1013.17 133.982 1015.85 Q137.177 1018.54 137.177 1023.03 Q137.177 1025.16 136.367 1027.08 Q135.579 1028.98 133.473 1031.57 Q132.894 1032.24 129.792 1035.46 Q126.691 1038.65 121.043 1044.42 Z\" fill=\"#000000\" fill-rule=\"evenodd\" fill-opacity=\"1\" /><path clip-path=\"url(#clip800)\" d=\"M157.177 1016.87 Q153.566 1016.87 151.737 1020.44 Q149.931 1023.98 149.931 1031.11 Q149.931 1038.21 151.737 1041.78 Q153.566 1045.32 157.177 1045.32 Q160.811 1045.32 162.616 1041.78 Q164.445 1038.21 164.445 1031.11 Q164.445 1023.98 162.616 1020.44 Q160.811 1016.87 157.177 1016.87 M157.177 1013.17 Q162.987 1013.17 166.042 1017.77 Q169.121 1022.36 169.121 1031.11 Q169.121 1039.83 166.042 1044.44 Q162.987 1049.02 157.177 1049.02 Q151.366 1049.02 148.288 1044.44 Q145.232 1039.83 145.232 1031.11 Q145.232 1022.36 148.288 1017.77 Q151.366 1013.17 157.177 1013.17 Z\" fill=\"#000000\" fill-rule=\"evenodd\" fill-opacity=\"1\" /><path clip-path=\"url(#clip800)\" d=\"M131.181 836.397 Q134.538 837.114 136.413 839.383 Q138.311 841.651 138.311 844.984 Q138.311 850.1 134.792 852.901 Q131.274 855.702 124.793 855.702 Q122.617 855.702 120.302 855.262 Q118.01 854.846 115.556 853.989 L115.556 849.475 Q117.501 850.609 119.816 851.188 Q122.13 851.767 124.654 851.767 Q129.052 851.767 131.343 850.031 Q133.658 848.295 133.658 844.984 Q133.658 841.929 131.505 840.216 Q129.376 838.48 125.556 838.48 L121.529 838.48 L121.529 834.637 L125.742 834.637 Q129.191 834.637 131.019 833.272 Q132.848 831.883 132.848 829.29 Q132.848 826.628 130.95 825.216 Q129.075 823.781 125.556 823.781 Q123.635 823.781 121.436 824.198 Q119.237 824.614 116.598 825.494 L116.598 821.327 Q119.26 820.586 121.575 820.216 Q123.913 819.846 125.973 819.846 Q131.297 819.846 134.399 822.276 Q137.501 824.684 137.501 828.804 Q137.501 831.674 135.857 833.665 Q134.214 835.633 131.181 836.397 Z\" fill=\"#000000\" fill-rule=\"evenodd\" fill-opacity=\"1\" /><path clip-path=\"url(#clip800)\" d=\"M157.177 823.549 Q153.566 823.549 151.737 827.114 Q149.931 830.656 149.931 837.785 Q149.931 844.892 151.737 848.457 Q153.566 851.998 157.177 851.998 Q160.811 851.998 162.616 848.457 Q164.445 844.892 164.445 837.785 Q164.445 830.656 162.616 827.114 Q160.811 823.549 157.177 823.549 M157.177 819.846 Q162.987 819.846 166.042 824.452 Q169.121 829.035 169.121 837.785 Q169.121 846.512 166.042 851.119 Q162.987 855.702 157.177 855.702 Q151.366 855.702 148.288 851.119 Q145.232 846.512 145.232 837.785 Q145.232 829.035 148.288 824.452 Q151.366 819.846 157.177 819.846 Z\" fill=\"#000000\" fill-rule=\"evenodd\" fill-opacity=\"1\" /><path clip-path=\"url(#clip800)\" d=\"M129.862 631.223 L118.056 649.672 L129.862 649.672 L129.862 631.223 M128.635 627.149 L134.515 627.149 L134.515 649.672 L139.445 649.672 L139.445 653.561 L134.515 653.561 L134.515 661.709 L129.862 661.709 L129.862 653.561 L114.26 653.561 L114.26 649.047 L128.635 627.149 Z\" fill=\"#000000\" fill-rule=\"evenodd\" fill-opacity=\"1\" /><path clip-path=\"url(#clip800)\" d=\"M157.177 630.228 Q153.566 630.228 151.737 633.793 Q149.931 637.335 149.931 644.464 Q149.931 651.571 151.737 655.135 Q153.566 658.677 157.177 658.677 Q160.811 658.677 162.616 655.135 Q164.445 651.571 164.445 644.464 Q164.445 637.335 162.616 633.793 Q160.811 630.228 157.177 630.228 M157.177 626.524 Q162.987 626.524 166.042 631.131 Q169.121 635.714 169.121 644.464 Q169.121 653.191 166.042 657.797 Q162.987 662.381 157.177 662.381 Q151.366 662.381 148.288 657.797 Q145.232 653.191 145.232 644.464 Q145.232 635.714 148.288 631.131 Q151.366 626.524 157.177 626.524 Z\" fill=\"#000000\" fill-rule=\"evenodd\" fill-opacity=\"1\" /><path clip-path=\"url(#clip800)\" d=\"M117.061 433.828 L135.417 433.828 L135.417 437.763 L121.343 437.763 L121.343 446.235 Q122.362 445.888 123.38 445.726 Q124.399 445.541 125.418 445.541 Q131.205 445.541 134.584 448.712 Q137.964 451.884 137.964 457.3 Q137.964 462.879 134.492 465.981 Q131.019 469.059 124.7 469.059 Q122.524 469.059 120.255 468.689 Q118.01 468.319 115.603 467.578 L115.603 462.879 Q117.686 464.013 119.908 464.569 Q122.13 465.124 124.607 465.124 Q128.612 465.124 130.95 463.018 Q133.288 460.911 133.288 457.3 Q133.288 453.689 130.95 451.583 Q128.612 449.476 124.607 449.476 Q122.732 449.476 120.857 449.893 Q119.006 450.309 117.061 451.189 L117.061 433.828 Z\" fill=\"#000000\" fill-rule=\"evenodd\" fill-opacity=\"1\" /><path clip-path=\"url(#clip800)\" d=\"M157.177 436.907 Q153.566 436.907 151.737 440.472 Q149.931 444.013 149.931 451.143 Q149.931 458.249 151.737 461.814 Q153.566 465.356 157.177 465.356 Q160.811 465.356 162.616 461.814 Q164.445 458.249 164.445 451.143 Q164.445 444.013 162.616 440.472 Q160.811 436.907 157.177 436.907 M157.177 433.203 Q162.987 433.203 166.042 437.81 Q169.121 442.393 169.121 451.143 Q169.121 459.87 166.042 464.476 Q162.987 469.059 157.177 469.059 Q151.366 469.059 148.288 464.476 Q145.232 459.87 145.232 451.143 Q145.232 442.393 148.288 437.81 Q151.366 433.203 157.177 433.203 Z\" fill=\"#000000\" fill-rule=\"evenodd\" fill-opacity=\"1\" /><path clip-path=\"url(#clip800)\" d=\"M127.593 255.923 Q124.445 255.923 122.593 258.076 Q120.765 260.229 120.765 263.979 Q120.765 267.706 122.593 269.882 Q124.445 272.034 127.593 272.034 Q130.742 272.034 132.57 269.882 Q134.422 267.706 134.422 263.979 Q134.422 260.229 132.57 258.076 Q130.742 255.923 127.593 255.923 M136.876 241.271 L136.876 245.53 Q135.117 244.697 133.311 244.257 Q131.529 243.817 129.769 243.817 Q125.14 243.817 122.686 246.942 Q120.255 250.067 119.908 256.386 Q121.274 254.372 123.334 253.308 Q125.394 252.22 127.871 252.22 Q133.08 252.22 136.089 255.391 Q139.121 258.539 139.121 263.979 Q139.121 269.303 135.973 272.52 Q132.825 275.738 127.593 275.738 Q121.598 275.738 118.427 271.155 Q115.256 266.548 115.256 257.821 Q115.256 249.627 119.144 244.766 Q123.033 239.882 129.584 239.882 Q131.343 239.882 133.126 240.229 Q134.931 240.576 136.876 241.271 Z\" fill=\"#000000\" fill-rule=\"evenodd\" fill-opacity=\"1\" /><path clip-path=\"url(#clip800)\" d=\"M157.177 243.585 Q153.566 243.585 151.737 247.15 Q149.931 250.692 149.931 257.821 Q149.931 264.928 151.737 268.493 Q153.566 272.034 157.177 272.034 Q160.811 272.034 162.616 268.493 Q164.445 264.928 164.445 257.821 Q164.445 250.692 162.616 247.15 Q160.811 243.585 157.177 243.585 M157.177 239.882 Q162.987 239.882 166.042 244.488 Q169.121 249.072 169.121 257.821 Q169.121 266.548 166.042 271.155 Q162.987 275.738 157.177 275.738 Q151.366 275.738 148.288 271.155 Q145.232 266.548 145.232 257.821 Q145.232 249.072 148.288 244.488 Q151.366 239.882 157.177 239.882 Z\" fill=\"#000000\" fill-rule=\"evenodd\" fill-opacity=\"1\" /><path clip-path=\"url(#clip800)\" d=\"M18.0438 932.41 L24.314 932.41 Q22.5634 936.07 21.704 939.317 Q20.8447 942.563 20.8447 945.587 Q20.8447 950.839 22.8817 953.703 Q24.9187 956.536 28.6745 956.536 Q31.8255 956.536 33.4488 954.658 Q35.0402 952.749 36.0269 947.465 L36.8226 943.582 Q38.1912 936.389 41.6605 932.983 Q45.098 929.546 50.8908 929.546 Q57.7976 929.546 61.3624 934.193 Q64.9272 938.808 64.9272 947.751 Q64.9272 951.125 64.1633 954.945 Q63.3994 958.732 61.9035 962.806 L55.2831 962.806 Q57.4793 958.891 58.5933 955.136 Q59.7073 951.38 59.7073 947.751 Q59.7073 942.245 57.543 939.253 Q55.3786 936.261 51.3682 936.261 Q47.8671 936.261 45.8937 938.426 Q43.9204 940.558 42.9337 945.46 L42.1698 949.375 Q40.7375 956.568 37.682 959.783 Q34.6264 962.997 29.1837 962.997 Q22.8817 962.997 19.2532 958.573 Q15.6248 954.117 15.6248 946.319 Q15.6248 942.977 16.2295 939.508 Q16.8343 936.039 18.0438 932.41 Z\" fill=\"#000000\" fill-rule=\"evenodd\" fill-opacity=\"1\" /><path clip-path=\"url(#clip800)\" d=\"M44.7161 889.282 L47.5806 889.282 L47.5806 916.209 Q53.6281 915.827 56.8109 912.581 Q59.9619 909.303 59.9619 903.478 Q59.9619 900.104 59.1344 896.953 Q58.3069 893.77 56.6518 890.651 L62.1899 890.651 Q63.5267 893.802 64.227 897.112 Q64.9272 900.422 64.9272 903.828 Q64.9272 912.358 59.9619 917.355 Q54.9967 922.32 46.5303 922.32 Q37.7774 922.32 32.6531 917.61 Q27.4968 912.867 27.4968 904.847 Q27.4968 897.653 32.1438 893.484 Q36.7589 889.282 44.7161 889.282 M42.9973 895.139 Q38.1912 895.203 35.3266 897.844 Q32.4621 900.454 32.4621 904.783 Q32.4621 909.685 35.2312 912.645 Q38.0002 915.573 43.0292 916.018 L42.9973 895.139 Z\" fill=\"#000000\" fill-rule=\"evenodd\" fill-opacity=\"1\" /><path clip-path=\"url(#clip800)\" d=\"M29.7248 854.016 L35.1993 854.016 Q33.8307 856.499 33.1623 859.014 Q32.4621 861.496 32.4621 864.042 Q32.4621 869.74 36.0905 872.891 Q39.6872 876.042 46.212 876.042 Q52.7369 876.042 56.3653 872.891 Q59.9619 869.74 59.9619 864.042 Q59.9619 861.496 59.2935 859.014 Q58.5933 856.499 57.2247 854.016 L62.6355 854.016 Q63.7814 856.467 64.3543 859.109 Q64.9272 861.719 64.9272 864.679 Q64.9272 872.732 59.8664 877.474 Q54.8057 882.217 46.212 882.217 Q37.491 882.217 32.4939 877.442 Q27.4968 872.636 27.4968 864.297 Q27.4968 861.592 28.0697 859.014 Q28.6108 856.435 29.7248 854.016 Z\" fill=\"#000000\" fill-rule=\"evenodd\" fill-opacity=\"1\" /><path clip-path=\"url(#clip800)\" d=\"M32.4621 830.018 Q32.4621 834.728 36.1542 837.466 Q39.8145 840.203 46.212 840.203 Q52.6095 840.203 56.3017 837.497 Q59.9619 834.76 59.9619 830.018 Q59.9619 825.339 56.2698 822.602 Q52.5777 819.864 46.212 819.864 Q39.8781 819.864 36.186 822.602 Q32.4621 825.339 32.4621 830.018 M27.4968 830.018 Q27.4968 822.379 32.4621 818.018 Q37.4273 813.658 46.212 813.658 Q54.9649 813.658 59.9619 818.018 Q64.9272 822.379 64.9272 830.018 Q64.9272 837.688 59.9619 842.049 Q54.9649 846.378 46.212 846.378 Q37.4273 846.378 32.4621 842.049 Q27.4968 837.688 27.4968 830.018 Z\" fill=\"#000000\" fill-rule=\"evenodd\" fill-opacity=\"1\" /><path clip-path=\"url(#clip800)\" d=\"M42.4881 774.318 L64.0042 774.318 L64.0042 780.174 L42.679 780.174 Q37.6183 780.174 35.1038 782.148 Q32.5894 784.121 32.5894 788.068 Q32.5894 792.81 35.6131 795.547 Q38.6368 798.285 43.8567 798.285 L64.0042 798.285 L64.0042 804.173 L28.3562 804.173 L28.3562 798.285 L33.8944 798.285 Q30.6797 796.184 29.0883 793.351 Q27.4968 790.487 27.4968 786.763 Q27.4968 780.62 31.3163 777.469 Q35.1038 774.318 42.4881 774.318 Z\" fill=\"#000000\" fill-rule=\"evenodd\" fill-opacity=\"1\" /><path clip-path=\"url(#clip800)\" d=\"M33.7671 739.179 L14.479 739.179 L14.479 733.323 L64.0042 733.323 L64.0042 739.179 L58.657 739.179 Q61.8398 741.025 63.3994 743.858 Q64.9272 746.659 64.9272 750.606 Q64.9272 757.067 59.771 761.141 Q54.6147 765.183 46.212 765.183 Q37.8093 765.183 32.6531 761.141 Q27.4968 757.067 27.4968 750.606 Q27.4968 746.659 29.0564 743.858 Q30.5842 741.025 33.7671 739.179 M46.212 759.136 Q52.6732 759.136 56.3653 756.494 Q60.0256 753.82 60.0256 749.173 Q60.0256 744.526 56.3653 741.853 Q52.6732 739.179 46.212 739.179 Q39.7508 739.179 36.0905 741.853 Q32.3984 744.526 32.3984 749.173 Q32.3984 753.82 36.0905 756.494 Q39.7508 759.136 46.212 759.136 Z\" fill=\"#000000\" fill-rule=\"evenodd\" fill-opacity=\"1\" /><path clip-path=\"url(#clip800)\" d=\"M896.958 27.216 L905.222 27.216 L917.942 78.3384 L930.621 27.216 L939.817 27.216 L952.537 78.3384 L965.216 27.216 L973.521 27.216 L958.33 87.696 L948.04 87.696 L935.28 35.1963 L922.398 87.696 L912.109 87.696 L896.958 27.216 Z\" fill=\"#000000\" fill-rule=\"evenodd\" fill-opacity=\"1\" /><path clip-path=\"url(#clip800)\" d=\"M1006.62 49.2934 Q1005.36 48.5643 1003.86 48.2402 Q1002.4 47.8756 1000.62 47.8756 Q994.302 47.8756 990.899 52.0075 Q987.537 56.0989 987.537 63.7957 L987.537 87.696 L980.042 87.696 L980.042 42.3259 L987.537 42.3259 L987.537 49.3744 Q989.886 45.2425 993.654 43.2576 Q997.421 41.2321 1002.81 41.2321 Q1003.58 41.2321 1004.51 41.3537 Q1005.44 41.4347 1006.58 41.6372 L1006.62 49.2934 Z\" fill=\"#000000\" fill-rule=\"evenodd\" fill-opacity=\"1\" /><path clip-path=\"url(#clip800)\" d=\"M1014.43 42.3259 L1021.89 42.3259 L1021.89 87.696 L1014.43 87.696 L1014.43 42.3259 M1014.43 24.6639 L1021.89 24.6639 L1021.89 34.1025 L1014.43 34.1025 L1014.43 24.6639 Z\" fill=\"#000000\" fill-rule=\"evenodd\" fill-opacity=\"1\" /><path clip-path=\"url(#clip800)\" d=\"M1044.86 29.444 L1044.86 42.3259 L1060.21 42.3259 L1060.21 48.1187 L1044.86 48.1187 L1044.86 72.7482 Q1044.86 78.2979 1046.36 79.8778 Q1047.9 81.4576 1052.55 81.4576 L1060.21 81.4576 L1060.21 87.696 L1052.55 87.696 Q1043.93 87.696 1040.64 84.4958 Q1037.36 81.2551 1037.36 72.7482 L1037.36 48.1187 L1031.89 48.1187 L1031.89 42.3259 L1037.36 42.3259 L1037.36 29.444 L1044.86 29.444 Z\" fill=\"#000000\" fill-rule=\"evenodd\" fill-opacity=\"1\" /><path clip-path=\"url(#clip800)\" d=\"M1108.82 63.1475 L1108.82 66.7933 L1074.55 66.7933 Q1075.04 74.4901 1079.17 78.541 Q1083.34 82.5514 1090.75 82.5514 Q1095.05 82.5514 1099.06 81.4981 Q1103.11 80.4449 1107.08 78.3384 L1107.08 85.387 Q1103.07 87.0884 1098.86 87.9796 Q1094.64 88.8708 1090.31 88.8708 Q1079.45 88.8708 1073.09 82.5514 Q1066.77 76.2319 1066.77 65.4565 Q1066.77 54.3165 1072.77 47.7946 Q1078.8 41.2321 1089.01 41.2321 Q1098.17 41.2321 1103.47 47.1464 Q1108.82 53.0203 1108.82 63.1475 M1101.37 60.96 Q1101.29 54.8432 1097.92 51.1974 Q1094.6 47.5515 1089.09 47.5515 Q1082.85 47.5515 1079.09 51.0758 Q1075.36 54.6001 1074.79 61.0005 L1101.37 60.96 Z\" fill=\"#000000\" fill-rule=\"evenodd\" fill-opacity=\"1\" /><path clip-path=\"url(#clip800)\" d=\"M1155.93 33.9405 L1155.93 56.6661 L1166.22 56.6661 Q1171.93 56.6661 1175.05 53.7089 Q1178.17 50.7518 1178.17 45.283 Q1178.17 39.8548 1175.05 36.8977 Q1171.93 33.9405 1166.22 33.9405 L1155.93 33.9405 M1147.75 27.216 L1166.22 27.216 Q1176.39 27.216 1181.57 31.834 Q1186.8 36.4116 1186.8 45.283 Q1186.8 54.2355 1181.57 58.8131 Q1176.39 63.3906 1166.22 63.3906 L1155.93 63.3906 L1155.93 87.696 L1147.75 87.696 L1147.75 27.216 Z\" fill=\"#000000\" fill-rule=\"evenodd\" fill-opacity=\"1\" /><path clip-path=\"url(#clip800)\" d=\"M1233.31 63.1475 L1233.31 66.7933 L1199.03 66.7933 Q1199.52 74.4901 1203.65 78.541 Q1207.82 82.5514 1215.24 82.5514 Q1219.53 82.5514 1223.54 81.4981 Q1227.59 80.4449 1231.56 78.3384 L1231.56 85.387 Q1227.55 87.0884 1223.34 87.9796 Q1219.13 88.8708 1214.79 88.8708 Q1203.94 88.8708 1197.58 82.5514 Q1191.26 76.2319 1191.26 65.4565 Q1191.26 54.3165 1197.25 47.7946 Q1203.29 41.2321 1213.5 41.2321 Q1222.65 41.2321 1227.96 47.1464 Q1233.31 53.0203 1233.31 63.1475 M1225.85 60.96 Q1225.77 54.8432 1222.41 51.1974 Q1219.09 47.5515 1213.58 47.5515 Q1207.34 47.5515 1203.57 51.0758 Q1199.84 54.6001 1199.28 61.0005 L1225.85 60.96 Z\" fill=\"#000000\" fill-rule=\"evenodd\" fill-opacity=\"1\" /><path clip-path=\"url(#clip800)\" d=\"M1271.83 49.2934 Q1270.57 48.5643 1269.07 48.2402 Q1267.62 47.8756 1265.83 47.8756 Q1259.51 47.8756 1256.11 52.0075 Q1252.75 56.0989 1252.75 63.7957 L1252.75 87.696 L1245.26 87.696 L1245.26 42.3259 L1252.75 42.3259 L1252.75 49.3744 Q1255.1 45.2425 1258.87 43.2576 Q1262.63 41.2321 1268.02 41.2321 Q1268.79 41.2321 1269.72 41.3537 Q1270.65 41.4347 1271.79 41.6372 L1271.83 49.2934 Z\" fill=\"#000000\" fill-rule=\"evenodd\" fill-opacity=\"1\" /><path clip-path=\"url(#clip800)\" d=\"M1302.62 24.6639 L1302.62 30.8618 L1295.49 30.8618 Q1291.48 30.8618 1289.9 32.4822 Q1288.36 34.1025 1288.36 38.3155 L1288.36 42.3259 L1300.63 42.3259 L1300.63 48.1187 L1288.36 48.1187 L1288.36 87.696 L1280.86 87.696 L1280.86 48.1187 L1273.73 48.1187 L1273.73 42.3259 L1280.86 42.3259 L1280.86 39.1662 Q1280.86 31.591 1284.39 28.1477 Q1287.91 24.6639 1295.57 24.6639 L1302.62 24.6639 Z\" fill=\"#000000\" fill-rule=\"evenodd\" fill-opacity=\"1\" /><path clip-path=\"url(#clip800)\" d=\"M1326.44 47.5515 Q1320.44 47.5515 1316.96 52.2506 Q1313.47 56.9091 1313.47 65.0514 Q1313.47 73.1938 1316.92 77.8928 Q1320.4 82.5514 1326.44 82.5514 Q1332.39 82.5514 1335.87 77.8523 Q1339.36 73.1533 1339.36 65.0514 Q1339.36 56.9901 1335.87 52.2911 Q1332.39 47.5515 1326.44 47.5515 M1326.44 41.2321 Q1336.16 41.2321 1341.71 47.5515 Q1347.26 53.8709 1347.26 65.0514 Q1347.26 76.1914 1341.71 82.5514 Q1336.16 88.8708 1326.44 88.8708 Q1316.67 88.8708 1311.12 82.5514 Q1305.61 76.1914 1305.61 65.0514 Q1305.61 53.8709 1311.12 47.5515 Q1316.67 41.2321 1326.44 41.2321 Z\" fill=\"#000000\" fill-rule=\"evenodd\" fill-opacity=\"1\" /><path clip-path=\"url(#clip800)\" d=\"M1385.9 49.2934 Q1384.65 48.5643 1383.15 48.2402 Q1381.69 47.8756 1379.91 47.8756 Q1373.59 47.8756 1370.19 52.0075 Q1366.82 56.0989 1366.82 63.7957 L1366.82 87.696 L1359.33 87.696 L1359.33 42.3259 L1366.82 42.3259 L1366.82 49.3744 Q1369.17 45.2425 1372.94 43.2576 Q1376.71 41.2321 1382.09 41.2321 Q1382.86 41.2321 1383.8 41.3537 Q1384.73 41.4347 1385.86 41.6372 L1385.9 49.2934 Z\" fill=\"#000000\" fill-rule=\"evenodd\" fill-opacity=\"1\" /><path clip-path=\"url(#clip800)\" d=\"M1427.59 51.0353 Q1430.38 46.0122 1434.27 43.6222 Q1438.16 41.2321 1443.43 41.2321 Q1450.51 41.2321 1454.36 46.2147 Q1458.21 51.1568 1458.21 60.3119 L1458.21 87.696 L1450.72 87.696 L1450.72 60.5549 Q1450.72 54.033 1448.41 50.8733 Q1446.1 47.7136 1441.36 47.7136 Q1435.57 47.7136 1432.2 51.5619 Q1428.84 55.4103 1428.84 62.0538 L1428.84 87.696 L1421.35 87.696 L1421.35 60.5549 Q1421.35 53.9925 1419.04 50.8733 Q1416.73 47.7136 1411.91 47.7136 Q1406.2 47.7136 1402.84 51.6024 Q1399.47 55.4508 1399.47 62.0538 L1399.47 87.696 L1391.98 87.696 L1391.98 42.3259 L1399.47 42.3259 L1399.47 49.3744 Q1402.03 45.202 1405.59 43.2171 Q1409.15 41.2321 1414.06 41.2321 Q1419 41.2321 1422.44 43.7437 Q1425.93 46.2552 1427.59 51.0353 Z\" fill=\"#000000\" fill-rule=\"evenodd\" fill-opacity=\"1\" /><path clip-path=\"url(#clip800)\" d=\"M1493.7 64.8894 Q1484.66 64.8894 1481.18 66.9554 Q1477.7 69.0213 1477.7 74.0039 Q1477.7 77.9738 1480.29 80.3234 Q1482.92 82.6324 1487.42 82.6324 Q1493.62 82.6324 1497.34 78.2574 Q1501.11 73.8419 1501.11 66.5503 L1501.11 64.8894 L1493.7 64.8894 M1508.56 61.8107 L1508.56 87.696 L1501.11 87.696 L1501.11 80.8095 Q1498.56 84.9414 1494.75 86.9263 Q1490.94 88.8708 1485.43 88.8708 Q1478.47 88.8708 1474.33 84.9819 Q1470.24 81.0525 1470.24 74.4901 Q1470.24 66.8338 1475.35 62.945 Q1480.49 59.0561 1490.66 59.0561 L1501.11 59.0561 L1501.11 58.3269 Q1501.11 53.1823 1497.71 50.3872 Q1494.35 47.5515 1488.23 47.5515 Q1484.34 47.5515 1480.65 48.4832 Q1476.97 49.415 1473.56 51.2784 L1473.56 44.3918 Q1477.66 42.812 1481.5 42.0423 Q1485.35 41.2321 1489 41.2321 Q1498.84 41.2321 1503.7 46.3363 Q1508.56 51.4404 1508.56 61.8107 Z\" fill=\"#000000\" fill-rule=\"evenodd\" fill-opacity=\"1\" /><path clip-path=\"url(#clip800)\" d=\"M1561.63 60.3119 L1561.63 87.696 L1554.18 87.696 L1554.18 60.5549 Q1554.18 54.114 1551.67 50.9138 Q1549.15 47.7136 1544.13 47.7136 Q1538.1 47.7136 1534.61 51.5619 Q1531.13 55.4103 1531.13 62.0538 L1531.13 87.696 L1523.63 87.696 L1523.63 42.3259 L1531.13 42.3259 L1531.13 49.3744 Q1533.8 45.283 1537.41 43.2576 Q1541.05 41.2321 1545.79 41.2321 Q1553.61 41.2321 1557.62 46.0932 Q1561.63 50.9138 1561.63 60.3119 Z\" fill=\"#000000\" fill-rule=\"evenodd\" fill-opacity=\"1\" /><path clip-path=\"url(#clip800)\" d=\"M1609.15 44.0678 L1609.15 51.0353 Q1605.99 49.2934 1602.79 48.4427 Q1599.63 47.5515 1596.39 47.5515 Q1589.14 47.5515 1585.13 52.1696 Q1581.12 56.7471 1581.12 65.0514 Q1581.12 73.3558 1585.13 77.9738 Q1589.14 82.5514 1596.39 82.5514 Q1599.63 82.5514 1602.79 81.7007 Q1605.99 80.8095 1609.15 79.0676 L1609.15 85.9541 Q1606.03 87.4124 1602.67 88.1416 Q1599.34 88.8708 1595.58 88.8708 Q1585.33 88.8708 1579.29 82.4298 Q1573.26 75.9889 1573.26 65.0514 Q1573.26 53.952 1579.33 47.592 Q1585.45 41.2321 1596.06 41.2321 Q1599.51 41.2321 1602.79 41.9613 Q1606.07 42.6499 1609.15 44.0678 Z\" fill=\"#000000\" fill-rule=\"evenodd\" fill-opacity=\"1\" /><path clip-path=\"url(#clip800)\" d=\"M1660.92 63.1475 L1660.92 66.7933 L1626.65 66.7933 Q1627.13 74.4901 1631.27 78.541 Q1635.44 82.5514 1642.85 82.5514 Q1647.15 82.5514 1651.16 81.4981 Q1655.21 80.4449 1659.18 78.3384 L1659.18 85.387 Q1655.17 87.0884 1650.95 87.9796 Q1646.74 88.8708 1642.41 88.8708 Q1631.55 88.8708 1625.19 82.5514 Q1618.87 76.2319 1618.87 65.4565 Q1618.87 54.3165 1624.87 47.7946 Q1630.9 41.2321 1641.11 41.2321 Q1650.26 41.2321 1655.57 47.1464 Q1660.92 53.0203 1660.92 63.1475 M1653.46 60.96 Q1653.38 54.8432 1650.02 51.1974 Q1646.7 47.5515 1641.19 47.5515 Q1634.95 47.5515 1631.18 51.0758 Q1627.46 54.6001 1626.89 61.0005 L1653.46 60.96 Z\" fill=\"#000000\" fill-rule=\"evenodd\" fill-opacity=\"1\" /><path clip-path=\"url(#clip800)\" d=\"M929.832 124.661 L929.832 171.691 L939.716 171.691 Q952.233 171.691 958.026 166.02 Q963.859 160.349 963.859 148.115 Q963.859 135.963 958.026 130.332 Q952.233 124.661 939.716 124.661 L929.832 124.661 M921.649 117.936 L938.46 117.936 Q956.041 117.936 964.264 125.268 Q972.488 132.56 972.488 148.115 Q972.488 163.752 964.224 171.084 Q955.96 178.416 938.46 178.416 L921.649 178.416 L921.649 117.936 Z\" fill=\"#000000\" fill-rule=\"evenodd\" fill-opacity=\"1\" /><path clip-path=\"url(#clip800)\" d=\"M1005.83 155.609 Q996.793 155.609 993.309 157.675 Q989.825 159.741 989.825 164.724 Q989.825 168.694 992.418 171.043 Q995.051 173.352 999.548 173.352 Q1005.75 173.352 1009.47 168.977 Q1013.24 164.562 1013.24 157.27 L1013.24 155.609 L1005.83 155.609 M1020.69 152.531 L1020.69 178.416 L1013.24 178.416 L1013.24 171.529 Q1010.69 175.661 1006.88 177.646 Q1003.07 179.591 997.563 179.591 Q990.595 179.591 986.463 175.702 Q982.372 171.773 982.372 165.21 Q982.372 157.554 987.476 153.665 Q992.621 149.776 1002.79 149.776 L1013.24 149.776 L1013.24 149.047 Q1013.24 143.902 1009.84 141.107 Q1006.47 138.272 1000.36 138.272 Q996.469 138.272 992.783 139.203 Q989.096 140.135 985.693 141.998 L985.693 135.112 Q989.785 133.532 993.633 132.762 Q997.482 131.952 1001.13 131.952 Q1010.97 131.952 1015.83 137.056 Q1020.69 142.16 1020.69 152.531 Z\" fill=\"#000000\" fill-rule=\"evenodd\" fill-opacity=\"1\" /><path clip-path=\"url(#clip800)\" d=\"M1043.42 120.164 L1043.42 133.046 L1058.77 133.046 L1058.77 138.839 L1043.42 138.839 L1043.42 163.468 Q1043.42 169.018 1044.92 170.598 Q1046.46 172.178 1051.12 172.178 L1058.77 172.178 L1058.77 178.416 L1051.12 178.416 Q1042.49 178.416 1039.21 175.216 Q1035.92 171.975 1035.92 163.468 L1035.92 138.839 L1030.46 138.839 L1030.46 133.046 L1035.92 133.046 L1035.92 120.164 L1043.42 120.164 Z\" fill=\"#000000\" fill-rule=\"evenodd\" fill-opacity=\"1\" /><path clip-path=\"url(#clip800)\" d=\"M1089.19 155.609 Q1080.16 155.609 1076.68 157.675 Q1073.19 159.741 1073.19 164.724 Q1073.19 168.694 1075.79 171.043 Q1078.42 173.352 1082.92 173.352 Q1089.11 173.352 1092.84 168.977 Q1096.61 164.562 1096.61 157.27 L1096.61 155.609 L1089.19 155.609 M1104.06 152.531 L1104.06 178.416 L1096.61 178.416 L1096.61 171.529 Q1094.06 175.661 1090.25 177.646 Q1086.44 179.591 1080.93 179.591 Q1073.96 179.591 1069.83 175.702 Q1065.74 171.773 1065.74 165.21 Q1065.74 157.554 1070.84 153.665 Q1075.99 149.776 1086.16 149.776 L1096.61 149.776 L1096.61 149.047 Q1096.61 143.902 1093.2 141.107 Q1089.84 138.272 1083.73 138.272 Q1079.84 138.272 1076.15 139.203 Q1072.46 140.135 1069.06 141.998 L1069.06 135.112 Q1073.15 133.532 1077 132.762 Q1080.85 131.952 1084.5 131.952 Q1094.34 131.952 1099.2 137.056 Q1104.06 142.16 1104.06 152.531 Z\" fill=\"#000000\" fill-rule=\"evenodd\" fill-opacity=\"1\" /><path clip-path=\"url(#clip800)\" d=\"M1119.74 117.936 L1154.49 117.936 L1154.49 124.823 L1127.92 124.823 L1127.92 142.647 L1151.9 142.647 L1151.9 149.533 L1127.92 149.533 L1127.92 178.416 L1119.74 178.416 L1119.74 117.936 Z\" fill=\"#000000\" fill-rule=\"evenodd\" fill-opacity=\"1\" /><path clip-path=\"url(#clip800)\" d=\"M1187.39 140.013 Q1186.13 139.284 1184.63 138.96 Q1183.18 138.596 1181.39 138.596 Q1175.07 138.596 1171.67 142.728 Q1168.31 146.819 1168.31 154.516 L1168.31 178.416 L1160.81 178.416 L1160.81 133.046 L1168.31 133.046 L1168.31 140.094 Q1170.66 135.963 1174.43 133.978 Q1178.19 131.952 1183.58 131.952 Q1184.35 131.952 1185.28 132.074 Q1186.21 132.155 1187.35 132.357 L1187.39 140.013 Z\" fill=\"#000000\" fill-rule=\"evenodd\" fill-opacity=\"1\" /><path clip-path=\"url(#clip800)\" d=\"M1215.83 155.609 Q1206.79 155.609 1203.31 157.675 Q1199.82 159.741 1199.82 164.724 Q1199.82 168.694 1202.42 171.043 Q1205.05 173.352 1209.55 173.352 Q1215.74 173.352 1219.47 168.977 Q1223.24 164.562 1223.24 157.27 L1223.24 155.609 L1215.83 155.609 M1230.69 152.531 L1230.69 178.416 L1223.24 178.416 L1223.24 171.529 Q1220.69 175.661 1216.88 177.646 Q1213.07 179.591 1207.56 179.591 Q1200.59 179.591 1196.46 175.702 Q1192.37 171.773 1192.37 165.21 Q1192.37 157.554 1197.47 153.665 Q1202.62 149.776 1212.79 149.776 L1223.24 149.776 L1223.24 149.047 Q1223.24 143.902 1219.84 141.107 Q1216.47 138.272 1210.36 138.272 Q1206.47 138.272 1202.78 139.203 Q1199.1 140.135 1195.69 141.998 L1195.69 135.112 Q1199.78 133.532 1203.63 132.762 Q1207.48 131.952 1211.13 131.952 Q1220.97 131.952 1225.83 137.056 Q1230.69 142.16 1230.69 152.531 Z\" fill=\"#000000\" fill-rule=\"evenodd\" fill-opacity=\"1\" /><path clip-path=\"url(#clip800)\" d=\"M1281.37 141.755 Q1284.16 136.732 1288.05 134.342 Q1291.94 131.952 1297.21 131.952 Q1304.3 131.952 1308.15 136.935 Q1311.99 141.877 1311.99 151.032 L1311.99 178.416 L1304.5 178.416 L1304.5 151.275 Q1304.5 144.753 1302.19 141.593 Q1299.88 138.434 1295.14 138.434 Q1289.35 138.434 1285.99 142.282 Q1282.62 146.13 1282.62 152.774 L1282.62 178.416 L1275.13 178.416 L1275.13 151.275 Q1275.13 144.712 1272.82 141.593 Q1270.51 138.434 1265.69 138.434 Q1259.98 138.434 1256.62 142.322 Q1253.26 146.171 1253.26 152.774 L1253.26 178.416 L1245.76 178.416 L1245.76 133.046 L1253.26 133.046 L1253.26 140.094 Q1255.81 135.922 1259.37 133.937 Q1262.94 131.952 1267.84 131.952 Q1272.78 131.952 1276.22 134.464 Q1279.71 136.975 1281.37 141.755 Z\" fill=\"#000000\" fill-rule=\"evenodd\" fill-opacity=\"1\" /><path clip-path=\"url(#clip800)\" d=\"M1365.67 153.868 L1365.67 157.513 L1331.4 157.513 Q1331.88 165.21 1336.02 169.261 Q1340.19 173.271 1347.6 173.271 Q1351.9 173.271 1355.91 172.218 Q1359.96 171.165 1363.93 169.058 L1363.93 176.107 Q1359.92 177.808 1355.7 178.7 Q1351.49 179.591 1347.16 179.591 Q1336.3 179.591 1329.94 173.271 Q1323.62 166.952 1323.62 156.177 Q1323.62 145.037 1329.62 138.515 Q1335.65 131.952 1345.86 131.952 Q1355.01 131.952 1360.32 137.866 Q1365.67 143.74 1365.67 153.868 M1358.21 151.68 Q1358.13 145.563 1354.77 141.917 Q1351.45 138.272 1345.94 138.272 Q1339.7 138.272 1335.93 141.796 Q1332.21 145.32 1331.64 151.721 L1358.21 151.68 Z\" fill=\"#000000\" fill-rule=\"evenodd\" fill-opacity=\"1\" /><path clip-path=\"url(#clip800)\" d=\"M1379.81 168.127 L1388.35 168.127 L1388.35 178.416 L1379.81 178.416 L1379.81 168.127 M1379.81 135.517 L1388.35 135.517 L1388.35 145.806 L1379.81 145.806 L1379.81 135.517 Z\" fill=\"#000000\" fill-rule=\"evenodd\" fill-opacity=\"1\" /><path clip-path=\"url(#clip800)\" d=\"M1464.79 155.771 Q1464.79 147.548 1461.39 142.89 Q1458.03 138.191 1452.11 138.191 Q1446.2 138.191 1442.8 142.89 Q1439.44 147.548 1439.44 155.771 Q1439.44 163.995 1442.8 168.694 Q1446.2 173.352 1452.11 173.352 Q1458.03 173.352 1461.39 168.694 Q1464.79 163.995 1464.79 155.771 M1439.44 139.932 Q1441.78 135.882 1445.35 133.937 Q1448.95 131.952 1453.94 131.952 Q1462.2 131.952 1467.35 138.515 Q1472.53 145.077 1472.53 155.771 Q1472.53 166.466 1467.35 173.028 Q1462.2 179.591 1453.94 179.591 Q1448.95 179.591 1445.35 177.646 Q1441.78 175.661 1439.44 171.61 L1439.44 178.416 L1431.94 178.416 L1431.94 115.384 L1439.44 115.384 L1439.44 139.932 Z\" fill=\"#000000\" fill-rule=\"evenodd\" fill-opacity=\"1\" /><path clip-path=\"url(#clip800)\" d=\"M1484.89 133.046 L1492.34 133.046 L1492.34 178.416 L1484.89 178.416 L1484.89 133.046 M1484.89 115.384 L1492.34 115.384 L1492.34 124.823 L1484.89 124.823 L1484.89 115.384 Z\" fill=\"#000000\" fill-rule=\"evenodd\" fill-opacity=\"1\" /><path clip-path=\"url(#clip800)\" d=\"M1537.79 155.204 Q1537.79 147.103 1534.43 142.647 Q1531.11 138.191 1525.07 138.191 Q1519.08 138.191 1515.71 142.647 Q1512.39 147.103 1512.39 155.204 Q1512.39 163.266 1515.71 167.722 Q1519.08 172.178 1525.07 172.178 Q1531.11 172.178 1534.43 167.722 Q1537.79 163.266 1537.79 155.204 M1545.24 172.785 Q1545.24 184.371 1540.1 190.002 Q1534.96 195.673 1524.34 195.673 Q1520.41 195.673 1516.93 195.065 Q1513.45 194.498 1510.16 193.283 L1510.16 186.032 Q1513.45 187.814 1516.65 188.665 Q1519.85 189.515 1523.17 189.515 Q1530.5 189.515 1534.15 185.667 Q1537.79 181.859 1537.79 174.122 L1537.79 170.436 Q1535.48 174.446 1531.88 176.431 Q1528.27 178.416 1523.25 178.416 Q1514.9 178.416 1509.8 172.056 Q1504.7 165.696 1504.7 155.204 Q1504.7 144.672 1509.8 138.312 Q1514.9 131.952 1523.25 131.952 Q1528.27 131.952 1531.88 133.937 Q1535.48 135.922 1537.79 139.932 L1537.79 133.046 L1545.24 133.046 L1545.24 172.785 Z\" fill=\"#000000\" fill-rule=\"evenodd\" fill-opacity=\"1\" /><path clip-path=\"url(#clip800)\" d=\"M1590.45 139.932 L1590.45 115.384 L1597.91 115.384 L1597.91 178.416 L1590.45 178.416 L1590.45 171.61 Q1588.1 175.661 1584.5 177.646 Q1580.93 179.591 1575.91 179.591 Q1567.69 179.591 1562.5 173.028 Q1557.36 166.466 1557.36 155.771 Q1557.36 145.077 1562.5 138.515 Q1567.69 131.952 1575.91 131.952 Q1580.93 131.952 1584.5 133.937 Q1588.1 135.882 1590.45 139.932 M1565.05 155.771 Q1565.05 163.995 1568.42 168.694 Q1571.82 173.352 1577.73 173.352 Q1583.65 173.352 1587.05 168.694 Q1590.45 163.995 1590.45 155.771 Q1590.45 147.548 1587.05 142.89 Q1583.65 138.191 1577.73 138.191 Q1571.82 138.191 1568.42 142.89 Q1565.05 147.548 1565.05 155.771 Z\" fill=\"#000000\" fill-rule=\"evenodd\" fill-opacity=\"1\" /><path clip-path=\"url(#clip800)\" d=\"M1636.23 115.384 L1636.23 121.582 L1629.1 121.582 Q1625.09 121.582 1623.51 123.202 Q1621.97 124.823 1621.97 129.035 L1621.97 133.046 L1634.24 133.046 L1634.24 138.839 L1621.97 138.839 L1621.97 178.416 L1614.47 178.416 L1614.47 138.839 L1607.35 138.839 L1607.35 133.046 L1614.47 133.046 L1614.47 129.886 Q1614.47 122.311 1618 118.868 Q1621.52 115.384 1629.18 115.384 L1636.23 115.384 Z\" fill=\"#000000\" fill-rule=\"evenodd\" fill-opacity=\"1\" /><path clip-path=\"url(#clip800)\" d=\"M889.201 210.641 L889.201 218.621 Q884.542 216.393 880.41 215.299 Q876.279 214.206 872.43 214.206 Q865.746 214.206 862.1 216.798 Q858.495 219.391 858.495 224.171 Q858.495 228.181 860.885 230.247 Q863.316 232.273 870.04 233.529 L874.982 234.541 Q884.137 236.283 888.472 240.699 Q892.847 245.074 892.847 252.446 Q892.847 261.237 886.932 265.774 Q881.059 270.311 869.676 270.311 Q865.382 270.311 860.521 269.339 Q855.7 268.366 850.515 266.462 L850.515 258.037 Q855.497 260.832 860.277 262.249 Q865.058 263.667 869.676 263.667 Q876.684 263.667 880.492 260.913 Q884.299 258.158 884.299 253.054 Q884.299 248.598 881.545 246.086 Q878.831 243.575 872.592 242.319 L867.61 241.347 Q858.455 239.524 854.363 235.635 Q850.272 231.746 850.272 224.819 Q850.272 216.798 855.903 212.18 Q861.574 207.562 871.498 207.562 Q875.752 207.562 880.167 208.332 Q884.583 209.102 889.201 210.641 Z\" fill=\"#000000\" fill-rule=\"evenodd\" fill-opacity=\"1\" /><path clip-path=\"url(#clip800)\" d=\"M905.283 223.766 L912.737 223.766 L912.737 269.136 L905.283 269.136 L905.283 223.766 M905.283 206.104 L912.737 206.104 L912.737 215.543 L905.283 215.543 L905.283 206.104 Z\" fill=\"#000000\" fill-rule=\"evenodd\" fill-opacity=\"1\" /><path clip-path=\"url(#clip800)\" d=\"M925.092 223.766 L960.497 223.766 L960.497 230.571 L932.465 263.181 L960.497 263.181 L960.497 269.136 L924.079 269.136 L924.079 262.33 L952.111 229.721 L925.092 229.721 L925.092 223.766 Z\" fill=\"#000000\" fill-rule=\"evenodd\" fill-opacity=\"1\" /><path clip-path=\"url(#clip800)\" d=\"M1010.69 244.588 L1010.69 248.233 L976.417 248.233 Q976.903 255.93 981.035 259.981 Q985.207 263.991 992.621 263.991 Q996.914 263.991 1000.92 262.938 Q1004.98 261.885 1008.95 259.778 L1008.95 266.827 Q1004.94 268.528 1000.72 269.42 Q996.509 270.311 992.175 270.311 Q981.319 270.311 974.959 263.991 Q968.639 257.672 968.639 246.897 Q968.639 235.757 974.635 229.235 Q980.67 222.672 990.879 222.672 Q1000.03 222.672 1005.34 228.586 Q1010.69 234.46 1010.69 244.588 M1003.23 242.4 Q1003.15 236.283 999.791 232.637 Q996.469 228.992 990.96 228.992 Q984.721 228.992 980.954 232.516 Q977.227 236.04 976.66 242.441 L1003.23 242.4 Z\" fill=\"#000000\" fill-rule=\"evenodd\" fill-opacity=\"1\" /><path clip-path=\"url(#clip800)\" d=\"M1024.83 258.847 L1033.37 258.847 L1033.37 269.136 L1024.83 269.136 L1024.83 258.847 M1024.83 226.237 L1033.37 226.237 L1033.37 236.526 L1024.83 236.526 L1024.83 226.237 Z\" fill=\"#000000\" fill-rule=\"evenodd\" fill-opacity=\"1\" /><path clip-path=\"url(#clip800)\" d=\"M1095.15 206.185 Q1089.72 215.502 1087.09 224.617 Q1084.45 233.731 1084.45 243.089 Q1084.45 252.446 1087.09 261.642 Q1089.76 270.797 1095.15 280.073 L1088.67 280.073 Q1082.59 270.554 1079.55 261.358 Q1076.56 252.163 1076.56 243.089 Q1076.56 234.055 1079.55 224.9 Q1082.55 215.745 1088.67 206.185 L1095.15 206.185 Z\" fill=\"#000000\" fill-rule=\"evenodd\" fill-opacity=\"1\" /><path clip-path=\"url(#clip800)\" d=\"M1112.08 262.249 L1125.45 262.249 L1125.45 216.11 L1110.91 219.026 L1110.91 211.573 L1125.37 208.656 L1133.55 208.656 L1133.55 262.249 L1146.92 262.249 L1146.92 269.136 L1112.08 269.136 L1112.08 262.249 Z\" fill=\"#000000\" fill-rule=\"evenodd\" fill-opacity=\"1\" /><path clip-path=\"url(#clip800)\" d=\"M1180.95 214.044 Q1174.63 214.044 1171.43 220.282 Q1168.27 226.48 1168.27 238.957 Q1168.27 251.393 1171.43 257.631 Q1174.63 263.829 1180.95 263.829 Q1187.31 263.829 1190.47 257.631 Q1193.67 251.393 1193.67 238.957 Q1193.67 226.48 1190.47 220.282 Q1187.31 214.044 1180.95 214.044 M1180.95 207.562 Q1191.11 207.562 1196.46 215.624 Q1201.85 223.644 1201.85 238.957 Q1201.85 254.229 1196.46 262.29 Q1191.11 270.311 1180.95 270.311 Q1170.78 270.311 1165.39 262.29 Q1160.04 254.229 1160.04 238.957 Q1160.04 223.644 1165.39 215.624 Q1170.78 207.562 1180.95 207.562 Z\" fill=\"#000000\" fill-rule=\"evenodd\" fill-opacity=\"1\" /><path clip-path=\"url(#clip800)\" d=\"M1233.73 214.044 Q1227.41 214.044 1224.21 220.282 Q1221.05 226.48 1221.05 238.957 Q1221.05 251.393 1224.21 257.631 Q1227.41 263.829 1233.73 263.829 Q1240.09 263.829 1243.25 257.631 Q1246.45 251.393 1246.45 238.957 Q1246.45 226.48 1243.25 220.282 Q1240.09 214.044 1233.73 214.044 M1233.73 207.562 Q1243.9 207.562 1249.25 215.624 Q1254.63 223.644 1254.63 238.957 Q1254.63 254.229 1249.25 262.29 Q1243.9 270.311 1233.73 270.311 Q1223.56 270.311 1218.17 262.29 Q1212.83 254.229 1212.83 238.957 Q1212.83 223.644 1218.17 215.624 Q1223.56 207.562 1233.73 207.562 Z\" fill=\"#000000\" fill-rule=\"evenodd\" fill-opacity=\"1\" /><path clip-path=\"url(#clip800)\" d=\"M1286.51 214.044 Q1280.19 214.044 1276.99 220.282 Q1273.83 226.48 1273.83 238.957 Q1273.83 251.393 1276.99 257.631 Q1280.19 263.829 1286.51 263.829 Q1292.87 263.829 1296.03 257.631 Q1299.23 251.393 1299.23 238.957 Q1299.23 226.48 1296.03 220.282 Q1292.87 214.044 1286.51 214.044 M1286.51 207.562 Q1296.68 207.562 1302.03 215.624 Q1307.42 223.644 1307.42 238.957 Q1307.42 254.229 1302.03 262.29 Q1296.68 270.311 1286.51 270.311 Q1276.35 270.311 1270.96 262.29 Q1265.61 254.229 1265.61 238.957 Q1265.61 223.644 1270.96 215.624 Q1276.35 207.562 1286.51 207.562 Z\" fill=\"#000000\" fill-rule=\"evenodd\" fill-opacity=\"1\" /><path clip-path=\"url(#clip800)\" d=\"M1339.3 214.044 Q1332.98 214.044 1329.78 220.282 Q1326.62 226.48 1326.62 238.957 Q1326.62 251.393 1329.78 257.631 Q1332.98 263.829 1339.3 263.829 Q1345.66 263.829 1348.82 257.631 Q1352.02 251.393 1352.02 238.957 Q1352.02 226.48 1348.82 220.282 Q1345.66 214.044 1339.3 214.044 M1339.3 207.562 Q1349.46 207.562 1354.81 215.624 Q1360.2 223.644 1360.2 238.957 Q1360.2 254.229 1354.81 262.29 Q1349.46 270.311 1339.3 270.311 Q1329.13 270.311 1323.74 262.29 Q1318.39 254.229 1318.39 238.957 Q1318.39 223.644 1323.74 215.624 Q1329.13 207.562 1339.3 207.562 Z\" fill=\"#000000\" fill-rule=\"evenodd\" fill-opacity=\"1\" /><path clip-path=\"url(#clip800)\" d=\"M1392.08 214.044 Q1385.76 214.044 1382.56 220.282 Q1379.4 226.48 1379.4 238.957 Q1379.4 251.393 1382.56 257.631 Q1385.76 263.829 1392.08 263.829 Q1398.44 263.829 1401.6 257.631 Q1404.8 251.393 1404.8 238.957 Q1404.8 226.48 1401.6 220.282 Q1398.44 214.044 1392.08 214.044 M1392.08 207.562 Q1402.25 207.562 1407.6 215.624 Q1412.98 223.644 1412.98 238.957 Q1412.98 254.229 1407.6 262.29 Q1402.25 270.311 1392.08 270.311 Q1381.91 270.311 1376.52 262.29 Q1371.18 254.229 1371.18 238.957 Q1371.18 223.644 1376.52 215.624 Q1381.91 207.562 1392.08 207.562 Z\" fill=\"#000000\" fill-rule=\"evenodd\" fill-opacity=\"1\" /><path clip-path=\"url(#clip800)\" d=\"M1428.21 258.847 L1436.76 258.847 L1436.76 265.814 L1430.12 278.777 L1424.89 278.777 L1428.21 265.814 L1428.21 258.847 Z\" fill=\"#000000\" fill-rule=\"evenodd\" fill-opacity=\"1\" /><path clip-path=\"url(#clip800)\" d=\"M1481.52 262.249 L1494.89 262.249 L1494.89 216.11 L1480.35 219.026 L1480.35 211.573 L1494.81 208.656 L1502.99 208.656 L1502.99 262.249 L1516.36 262.249 L1516.36 269.136 L1481.52 269.136 L1481.52 262.249 Z\" fill=\"#000000\" fill-rule=\"evenodd\" fill-opacity=\"1\" /><path clip-path=\"url(#clip800)\" d=\"M1550.39 214.044 Q1544.07 214.044 1540.87 220.282 Q1537.71 226.48 1537.71 238.957 Q1537.71 251.393 1540.87 257.631 Q1544.07 263.829 1550.39 263.829 Q1556.75 263.829 1559.91 257.631 Q1563.11 251.393 1563.11 238.957 Q1563.11 226.48 1559.91 220.282 Q1556.75 214.044 1550.39 214.044 M1550.39 207.562 Q1560.56 207.562 1565.9 215.624 Q1571.29 223.644 1571.29 238.957 Q1571.29 254.229 1565.9 262.29 Q1560.56 270.311 1550.39 270.311 Q1540.22 270.311 1534.83 262.29 Q1529.49 254.229 1529.49 238.957 Q1529.49 223.644 1534.83 215.624 Q1540.22 207.562 1550.39 207.562 Z\" fill=\"#000000\" fill-rule=\"evenodd\" fill-opacity=\"1\" /><path clip-path=\"url(#clip800)\" d=\"M1603.17 214.044 Q1596.85 214.044 1593.65 220.282 Q1590.49 226.48 1590.49 238.957 Q1590.49 251.393 1593.65 257.631 Q1596.85 263.829 1603.17 263.829 Q1609.53 263.829 1612.69 257.631 Q1615.89 251.393 1615.89 238.957 Q1615.89 226.48 1612.69 220.282 Q1609.53 214.044 1603.17 214.044 M1603.17 207.562 Q1613.34 207.562 1618.69 215.624 Q1624.08 223.644 1624.08 238.957 Q1624.08 254.229 1618.69 262.29 Q1613.34 270.311 1603.17 270.311 Q1593.01 270.311 1587.62 262.29 Q1582.27 254.229 1582.27 238.957 Q1582.27 223.644 1587.62 215.624 Q1593.01 207.562 1603.17 207.562 Z\" fill=\"#000000\" fill-rule=\"evenodd\" fill-opacity=\"1\" /><path clip-path=\"url(#clip800)\" d=\"M1655.96 214.044 Q1649.64 214.044 1646.44 220.282 Q1643.28 226.48 1643.28 238.957 Q1643.28 251.393 1646.44 257.631 Q1649.64 263.829 1655.96 263.829 Q1662.32 263.829 1665.48 257.631 Q1668.68 251.393 1668.68 238.957 Q1668.68 226.48 1665.48 220.282 Q1662.32 214.044 1655.96 214.044 M1655.96 207.562 Q1666.12 207.562 1671.47 215.624 Q1676.86 223.644 1676.86 238.957 Q1676.86 254.229 1671.47 262.29 Q1666.12 270.311 1655.96 270.311 Q1645.79 270.311 1640.4 262.29 Q1635.05 254.229 1635.05 238.957 Q1635.05 223.644 1640.4 215.624 Q1645.79 207.562 1655.96 207.562 Z\" fill=\"#000000\" fill-rule=\"evenodd\" fill-opacity=\"1\" /><path clip-path=\"url(#clip800)\" d=\"M1689.01 206.185 L1695.49 206.185 Q1701.57 215.745 1704.57 224.9 Q1707.61 234.055 1707.61 243.089 Q1707.61 252.163 1704.57 261.358 Q1701.57 270.554 1695.49 280.073 L1689.01 280.073 Q1694.4 270.797 1697.03 261.642 Q1699.71 252.446 1699.71 243.089 Q1699.71 233.731 1697.03 224.617 Q1694.4 215.502 1689.01 206.185 Z\" fill=\"#000000\" fill-rule=\"evenodd\" fill-opacity=\"1\" /><path clip-path=\"url(#clip802)\" d=\"\n",
       "M319.499 1351.92 L319.499 1417.71 L451.836 1417.71 L451.836 1351.92 L319.499 1351.92 L319.499 1351.92  Z\n",
       "  \" fill=\"#009af9\" fill-rule=\"evenodd\" fill-opacity=\"1\"/>\n",
       "<polyline clip-path=\"url(#clip802)\" style=\"stroke:#000000; stroke-linecap:butt; stroke-linejoin:round; stroke-width:4; stroke-opacity:1; fill:none\" points=\"\n",
       "  319.499,1351.92 319.499,1417.71 451.836,1417.71 451.836,1351.92 319.499,1351.92 \n",
       "  \"/>\n",
       "<path clip-path=\"url(#clip802)\" d=\"\n",
       "M650.34 278.605 L650.34 1417.71 L782.677 1417.71 L782.677 278.605 L650.34 278.605 L650.34 278.605  Z\n",
       "  \" fill=\"#009af9\" fill-rule=\"evenodd\" fill-opacity=\"1\"/>\n",
       "<polyline clip-path=\"url(#clip802)\" style=\"stroke:#000000; stroke-linecap:butt; stroke-linejoin:round; stroke-width:4; stroke-opacity:1; fill:none\" points=\"\n",
       "  650.34,278.605 650.34,1417.71 782.677,1417.71 782.677,278.605 650.34,278.605 \n",
       "  \"/>\n",
       "<path clip-path=\"url(#clip802)\" d=\"\n",
       "M981.181 1396.71 L981.181 1417.71 L1113.52 1417.71 L1113.52 1396.71 L981.181 1396.71 L981.181 1396.71  Z\n",
       "  \" fill=\"#009af9\" fill-rule=\"evenodd\" fill-opacity=\"1\"/>\n",
       "<polyline clip-path=\"url(#clip802)\" style=\"stroke:#000000; stroke-linecap:butt; stroke-linejoin:round; stroke-width:4; stroke-opacity:1; fill:none\" points=\"\n",
       "  981.181,1396.71 981.181,1417.71 1113.52,1417.71 1113.52,1396.71 981.181,1396.71 \n",
       "  \"/>\n",
       "<path clip-path=\"url(#clip802)\" d=\"\n",
       "M1312.02 1190.25 L1312.02 1417.71 L1444.36 1417.71 L1444.36 1190.25 L1312.02 1190.25 L1312.02 1190.25  Z\n",
       "  \" fill=\"#009af9\" fill-rule=\"evenodd\" fill-opacity=\"1\"/>\n",
       "<polyline clip-path=\"url(#clip802)\" style=\"stroke:#000000; stroke-linecap:butt; stroke-linejoin:round; stroke-width:4; stroke-opacity:1; fill:none\" points=\"\n",
       "  1312.02,1190.25 1312.02,1417.71 1444.36,1417.71 1444.36,1190.25 1312.02,1190.25 \n",
       "  \"/>\n",
       "<path clip-path=\"url(#clip802)\" d=\"\n",
       "M1642.86 1368.13 L1642.86 1417.71 L1775.2 1417.71 L1775.2 1368.13 L1642.86 1368.13 L1642.86 1368.13  Z\n",
       "  \" fill=\"#009af9\" fill-rule=\"evenodd\" fill-opacity=\"1\"/>\n",
       "<polyline clip-path=\"url(#clip802)\" style=\"stroke:#000000; stroke-linecap:butt; stroke-linejoin:round; stroke-width:4; stroke-opacity:1; fill:none\" points=\"\n",
       "  1642.86,1368.13 1642.86,1417.71 1775.2,1417.71 1775.2,1368.13 1642.86,1368.13 \n",
       "  \"/>\n",
       "<path clip-path=\"url(#clip802)\" d=\"\n",
       "M1973.7 1336.41 L1973.7 1417.71 L2106.04 1417.71 L2106.04 1336.41 L1973.7 1336.41 L1973.7 1336.41  Z\n",
       "  \" fill=\"#009af9\" fill-rule=\"evenodd\" fill-opacity=\"1\"/>\n",
       "<polyline clip-path=\"url(#clip802)\" style=\"stroke:#000000; stroke-linecap:butt; stroke-linejoin:round; stroke-width:4; stroke-opacity:1; fill:none\" points=\"\n",
       "  1973.7,1336.41 1973.7,1417.71 2106.04,1417.71 2106.04,1336.41 1973.7,1336.41 \n",
       "  \"/>\n",
       "<circle clip-path=\"url(#clip802)\" style=\"fill:#009af9; stroke:none; fill-opacity:0\" cx=\"385.668\" cy=\"1351.92\" r=\"2\"/>\n",
       "<circle clip-path=\"url(#clip802)\" style=\"fill:#009af9; stroke:none; fill-opacity:0\" cx=\"716.509\" cy=\"278.605\" r=\"2\"/>\n",
       "<circle clip-path=\"url(#clip802)\" style=\"fill:#009af9; stroke:none; fill-opacity:0\" cx=\"1047.35\" cy=\"1396.71\" r=\"2\"/>\n",
       "<circle clip-path=\"url(#clip802)\" style=\"fill:#009af9; stroke:none; fill-opacity:0\" cx=\"1378.19\" cy=\"1190.25\" r=\"2\"/>\n",
       "<circle clip-path=\"url(#clip802)\" style=\"fill:#009af9; stroke:none; fill-opacity:0\" cx=\"1709.03\" cy=\"1368.13\" r=\"2\"/>\n",
       "<circle clip-path=\"url(#clip802)\" style=\"fill:#009af9; stroke:none; fill-opacity:0\" cx=\"2039.87\" cy=\"1336.41\" r=\"2\"/>\n",
       "<path clip-path=\"url(#clip802)\" d=\"\n",
       "M451.836 1402.48 L451.836 1417.71 L584.172 1417.71 L584.172 1402.48 L451.836 1402.48 L451.836 1402.48  Z\n",
       "  \" fill=\"#e26f46\" fill-rule=\"evenodd\" fill-opacity=\"1\"/>\n",
       "<polyline clip-path=\"url(#clip802)\" style=\"stroke:#000000; stroke-linecap:butt; stroke-linejoin:round; stroke-width:4; stroke-opacity:1; fill:none\" points=\"\n",
       "  451.836,1402.48 451.836,1417.71 584.172,1417.71 584.172,1402.48 451.836,1402.48 \n",
       "  \"/>\n",
       "<path clip-path=\"url(#clip802)\" d=\"\n",
       "M782.677 333.806 L782.677 1417.71 L915.013 1417.71 L915.013 333.806 L782.677 333.806 L782.677 333.806  Z\n",
       "  \" fill=\"#e26f46\" fill-rule=\"evenodd\" fill-opacity=\"1\"/>\n",
       "<polyline clip-path=\"url(#clip802)\" style=\"stroke:#000000; stroke-linecap:butt; stroke-linejoin:round; stroke-width:4; stroke-opacity:1; fill:none\" points=\"\n",
       "  782.677,333.806 782.677,1417.71 915.013,1417.71 915.013,333.806 782.677,333.806 \n",
       "  \"/>\n",
       "<path clip-path=\"url(#clip802)\" d=\"\n",
       "M1113.52 1397.35 L1113.52 1417.71 L1245.85 1417.71 L1245.85 1397.35 L1113.52 1397.35 L1113.52 1397.35  Z\n",
       "  \" fill=\"#e26f46\" fill-rule=\"evenodd\" fill-opacity=\"1\"/>\n",
       "<polyline clip-path=\"url(#clip802)\" style=\"stroke:#000000; stroke-linecap:butt; stroke-linejoin:round; stroke-width:4; stroke-opacity:1; fill:none\" points=\"\n",
       "  1113.52,1397.35 1113.52,1417.71 1245.85,1417.71 1245.85,1397.35 1113.52,1397.35 \n",
       "  \"/>\n",
       "<path clip-path=\"url(#clip802)\" d=\"\n",
       "M1444.36 1198.48 L1444.36 1417.71 L1576.7 1417.71 L1576.7 1198.48 L1444.36 1198.48 L1444.36 1198.48  Z\n",
       "  \" fill=\"#e26f46\" fill-rule=\"evenodd\" fill-opacity=\"1\"/>\n",
       "<polyline clip-path=\"url(#clip802)\" style=\"stroke:#000000; stroke-linecap:butt; stroke-linejoin:round; stroke-width:4; stroke-opacity:1; fill:none\" points=\"\n",
       "  1444.36,1198.48 1444.36,1417.71 1576.7,1417.71 1576.7,1198.48 1444.36,1198.48 \n",
       "  \"/>\n",
       "<path clip-path=\"url(#clip802)\" d=\"\n",
       "M1775.2 1368.13 L1775.2 1417.71 L1907.54 1417.71 L1907.54 1368.13 L1775.2 1368.13 L1775.2 1368.13  Z\n",
       "  \" fill=\"#e26f46\" fill-rule=\"evenodd\" fill-opacity=\"1\"/>\n",
       "<polyline clip-path=\"url(#clip802)\" style=\"stroke:#000000; stroke-linecap:butt; stroke-linejoin:round; stroke-width:4; stroke-opacity:1; fill:none\" points=\"\n",
       "  1775.2,1368.13 1775.2,1417.71 1907.54,1417.71 1907.54,1368.13 1775.2,1368.13 \n",
       "  \"/>\n",
       "<path clip-path=\"url(#clip802)\" d=\"\n",
       "M2106.04 1336.41 L2106.04 1417.71 L2238.38 1417.71 L2238.38 1336.41 L2106.04 1336.41 L2106.04 1336.41  Z\n",
       "  \" fill=\"#e26f46\" fill-rule=\"evenodd\" fill-opacity=\"1\"/>\n",
       "<polyline clip-path=\"url(#clip802)\" style=\"stroke:#000000; stroke-linecap:butt; stroke-linejoin:round; stroke-width:4; stroke-opacity:1; fill:none\" points=\"\n",
       "  2106.04,1336.41 2106.04,1417.71 2238.38,1417.71 2238.38,1336.41 2106.04,1336.41 \n",
       "  \"/>\n",
       "<circle clip-path=\"url(#clip802)\" style=\"fill:#e26f46; stroke:none; fill-opacity:0\" cx=\"518.004\" cy=\"1402.48\" r=\"2\"/>\n",
       "<circle clip-path=\"url(#clip802)\" style=\"fill:#e26f46; stroke:none; fill-opacity:0\" cx=\"848.845\" cy=\"333.806\" r=\"2\"/>\n",
       "<circle clip-path=\"url(#clip802)\" style=\"fill:#e26f46; stroke:none; fill-opacity:0\" cx=\"1179.69\" cy=\"1397.35\" r=\"2\"/>\n",
       "<circle clip-path=\"url(#clip802)\" style=\"fill:#e26f46; stroke:none; fill-opacity:0\" cx=\"1510.53\" cy=\"1198.48\" r=\"2\"/>\n",
       "<circle clip-path=\"url(#clip802)\" style=\"fill:#e26f46; stroke:none; fill-opacity:0\" cx=\"1841.37\" cy=\"1368.13\" r=\"2\"/>\n",
       "<circle clip-path=\"url(#clip802)\" style=\"fill:#e26f46; stroke:none; fill-opacity:0\" cx=\"2172.21\" cy=\"1336.41\" r=\"2\"/>\n",
       "<path clip-path=\"url(#clip800)\" d=\"\n",
       "M1960.02 440.201 L2281.17 440.201 L2281.17 284.681 L1960.02 284.681  Z\n",
       "  \" fill=\"#ffffff\" fill-rule=\"evenodd\" fill-opacity=\"1\"/>\n",
       "<polyline clip-path=\"url(#clip800)\" style=\"stroke:#000000; stroke-linecap:butt; stroke-linejoin:round; stroke-width:4; stroke-opacity:1; fill:none\" points=\"\n",
       "  1960.02,440.201 2281.17,440.201 2281.17,284.681 1960.02,284.681 1960.02,440.201 \n",
       "  \"/>\n",
       "<path clip-path=\"url(#clip800)\" d=\"\n",
       "M1983.88 357.257 L2127.06 357.257 L2127.06 315.785 L1983.88 315.785 L1983.88 357.257  Z\n",
       "  \" fill=\"#009af9\" fill-rule=\"evenodd\" fill-opacity=\"1\"/>\n",
       "<polyline clip-path=\"url(#clip800)\" style=\"stroke:#000000; stroke-linecap:butt; stroke-linejoin:round; stroke-width:4; stroke-opacity:1; fill:none\" points=\"\n",
       "  1983.88,357.257 2127.06,357.257 2127.06,315.785 1983.88,315.785 1983.88,357.257 \n",
       "  \"/>\n",
       "<path clip-path=\"url(#clip800)\" d=\"M2151.59 349.865 L2159.23 349.865 L2159.23 323.5 L2150.92 325.167 L2150.92 320.907 L2159.18 319.241 L2163.86 319.241 L2163.86 349.865 L2171.5 349.865 L2171.5 353.801 L2151.59 353.801 L2151.59 349.865 Z\" fill=\"#000000\" fill-rule=\"evenodd\" fill-opacity=\"1\" /><path clip-path=\"url(#clip800)\" d=\"M2196.87 328.639 L2196.87 332.667 Q2195.06 331.741 2193.12 331.278 Q2191.17 330.815 2189.09 330.815 Q2185.92 330.815 2184.32 331.787 Q2182.75 332.759 2182.75 334.704 Q2182.75 336.185 2183.88 337.041 Q2185.02 337.875 2188.44 338.639 L2189.9 338.963 Q2194.44 339.935 2196.34 341.717 Q2198.26 343.477 2198.26 346.648 Q2198.26 350.259 2195.39 352.365 Q2192.54 354.472 2187.54 354.472 Q2185.46 354.472 2183.19 354.055 Q2180.94 353.662 2178.44 352.852 L2178.44 348.453 Q2180.8 349.68 2183.1 350.305 Q2185.39 350.907 2187.63 350.907 Q2190.64 350.907 2192.26 349.889 Q2193.88 348.847 2193.88 346.972 Q2193.88 345.236 2192.7 344.31 Q2191.54 343.384 2187.59 342.528 L2186.11 342.18 Q2182.15 341.347 2180.39 339.634 Q2178.63 337.898 2178.63 334.889 Q2178.63 331.231 2181.22 329.241 Q2183.81 327.25 2188.58 327.25 Q2190.94 327.25 2193.03 327.597 Q2195.11 327.944 2196.87 328.639 Z\" fill=\"#000000\" fill-rule=\"evenodd\" fill-opacity=\"1\" /><path clip-path=\"url(#clip800)\" d=\"M2209.25 320.514 L2209.25 327.875 L2218.03 327.875 L2218.03 331.185 L2209.25 331.185 L2209.25 345.259 Q2209.25 348.43 2210.11 349.333 Q2210.99 350.236 2213.65 350.236 L2218.03 350.236 L2218.03 353.801 L2213.65 353.801 Q2208.72 353.801 2206.85 351.972 Q2204.97 350.12 2204.97 345.259 L2204.97 331.185 L2201.85 331.185 L2201.85 327.875 L2204.97 327.875 L2204.97 320.514 L2209.25 320.514 Z\" fill=\"#000000\" fill-rule=\"evenodd\" fill-opacity=\"1\" /><path clip-path=\"url(#clip800)\" d=\"\n",
       "M1983.88 409.097 L2127.06 409.097 L2127.06 367.625 L1983.88 367.625 L1983.88 409.097  Z\n",
       "  \" fill=\"#e26f46\" fill-rule=\"evenodd\" fill-opacity=\"1\"/>\n",
       "<polyline clip-path=\"url(#clip800)\" style=\"stroke:#000000; stroke-linecap:butt; stroke-linejoin:round; stroke-width:4; stroke-opacity:1; fill:none\" points=\"\n",
       "  1983.88,409.097 2127.06,409.097 2127.06,367.625 1983.88,367.625 1983.88,409.097 \n",
       "  \"/>\n",
       "<path clip-path=\"url(#clip800)\" d=\"M2156.55 401.705 L2172.86 401.705 L2172.86 405.641 L2150.92 405.641 L2150.92 401.705 Q2153.58 398.951 2158.17 394.321 Q2162.77 389.669 2163.95 388.326 Q2166.2 385.803 2167.08 384.067 Q2167.98 382.307 2167.98 380.618 Q2167.98 377.863 2166.04 376.127 Q2164.11 374.391 2161.01 374.391 Q2158.81 374.391 2156.36 375.155 Q2153.93 375.919 2151.15 377.47 L2151.15 372.747 Q2153.98 371.613 2156.43 371.034 Q2158.88 370.456 2160.92 370.456 Q2166.29 370.456 2169.48 373.141 Q2172.68 375.826 2172.68 380.317 Q2172.68 382.446 2171.87 384.368 Q2171.08 386.266 2168.98 388.858 Q2168.4 389.53 2165.3 392.747 Q2162.19 395.942 2156.55 401.705 Z\" fill=\"#000000\" fill-rule=\"evenodd\" fill-opacity=\"1\" /><path clip-path=\"url(#clip800)\" d=\"M2203.63 389.993 L2203.63 405.641 L2199.37 405.641 L2199.37 390.131 Q2199.37 386.451 2197.93 384.622 Q2196.5 382.794 2193.63 382.794 Q2190.18 382.794 2188.19 384.993 Q2186.2 387.192 2186.2 390.988 L2186.2 405.641 L2181.92 405.641 L2181.92 379.715 L2186.2 379.715 L2186.2 383.743 Q2187.73 381.405 2189.79 380.247 Q2191.87 379.09 2194.58 379.09 Q2199.04 379.09 2201.34 381.868 Q2203.63 384.622 2203.63 389.993 Z\" fill=\"#000000\" fill-rule=\"evenodd\" fill-opacity=\"1\" /><path clip-path=\"url(#clip800)\" d=\"M2229.18 383.65 L2229.18 369.622 L2233.44 369.622 L2233.44 405.641 L2229.18 405.641 L2229.18 401.752 Q2227.84 404.067 2225.78 405.201 Q2223.74 406.312 2220.87 406.312 Q2216.17 406.312 2213.21 402.562 Q2210.27 398.812 2210.27 392.701 Q2210.27 386.59 2213.21 382.84 Q2216.17 379.09 2220.87 379.09 Q2223.74 379.09 2225.78 380.224 Q2227.84 381.335 2229.18 383.65 M2214.67 392.701 Q2214.67 397.4 2216.59 400.085 Q2218.54 402.747 2221.92 402.747 Q2225.29 402.747 2227.24 400.085 Q2229.18 397.4 2229.18 392.701 Q2229.18 388.002 2227.24 385.34 Q2225.29 382.655 2221.92 382.655 Q2218.54 382.655 2216.59 385.34 Q2214.67 388.002 2214.67 392.701 Z\" fill=\"#000000\" fill-rule=\"evenodd\" fill-opacity=\"1\" /></svg>\n"
      ]
     },
     "execution_count": 39,
     "metadata": {},
     "output_type": "execute_result"
    }
   ],
   "source": [
    "groupedbar(\n",
    "    # Exclude JSONTables.jl arraytable due to timing\n",
    "    repeat([\"CSV.jl\", \"Serialization\", \"JDF.jl\", \"JLSO.jl\", \"Arrow.jl\", \"JSONTables.jl\\nobjecttable\"],\n",
    "            inner = 2),\n",
    "    [csvwrite1, csvwrite2, serializewrite1, serializewrite1, jdfwrite1, jdfwrite2,\n",
    "     jlsowrite1, jlsowrite2, arrowwrite1, arrowwrite2, jsontablesowrite2, jsontablesowrite2],\n",
    "    group = repeat([\"1st\", \"2nd\"], outer = 6),\n",
    "    ylab = \"Second\",\n",
    "    title = \"Write Performance\\nDataFrame: bigdf\\nSize: $(size(bigdf))\"\n",
    ")"
   ]
  },
  {
   "cell_type": "code",
   "execution_count": 40,
   "metadata": {},
   "outputs": [
    {
     "data": {
      "text/html": [
       "<div class=\"data-frame\"><p>6 rows × 2 columns</p><table class=\"data-frame\"><thead><tr><th></th><th>file</th><th>size</th></tr><tr><th></th><th title=\"String\">String</th><th title=\"Int64\">Int64</th></tr></thead><tbody><tr><th>1</th><td>bigdf.arrow</td><td>16151962</td></tr><tr><th>2</th><td>bigdf.jdf</td><td>51725859</td></tr><tr><th>3</th><td>bigdf.bin</td><td>51780483</td></tr><tr><th>4</th><td>bigdf1.csv</td><td>550810272</td></tr><tr><th>5</th><td>bigdf2.json</td><td>550814273</td></tr><tr><th>6</th><td>bigdf1.json</td><td>1240305380</td></tr></tbody></table></div>"
      ],
      "text/latex": [
       "\\begin{tabular}{r|cc}\n",
       "\t& file & size\\\\\n",
       "\t\\hline\n",
       "\t& String & Int64\\\\\n",
       "\t\\hline\n",
       "\t1 & bigdf.arrow & 16151962 \\\\\n",
       "\t2 & bigdf.jdf & 51725859 \\\\\n",
       "\t3 & bigdf.bin & 51780483 \\\\\n",
       "\t4 & bigdf1.csv & 550810272 \\\\\n",
       "\t5 & bigdf2.json & 550814273 \\\\\n",
       "\t6 & bigdf1.json & 1240305380 \\\\\n",
       "\\end{tabular}\n"
      ],
      "text/plain": [
       "\u001b[1m6×2 DataFrame\u001b[0m\n",
       "\u001b[1m Row \u001b[0m│\u001b[1m file        \u001b[0m\u001b[1m size       \u001b[0m\n",
       "\u001b[1m     \u001b[0m│\u001b[90m String      \u001b[0m\u001b[90m Int64      \u001b[0m\n",
       "─────┼─────────────────────────\n",
       "   1 │ bigdf.arrow    16151962\n",
       "   2 │ bigdf.jdf      51725859\n",
       "   3 │ bigdf.bin      51780483\n",
       "   4 │ bigdf1.csv    550810272\n",
       "   5 │ bigdf2.json   550814273\n",
       "   6 │ bigdf1.json  1240305380"
      ]
     },
     "execution_count": 40,
     "metadata": {},
     "output_type": "execute_result"
    }
   ],
   "source": [
    "data_files = [\"bigdf1.csv\", \"bigdf.bin\", \"bigdf.arrow\", \"bigdf1.json\", \"bigdf2.json\"]\n",
    "df = DataFrame(file = data_files, size = getfield.(stat.(data_files), :size))\n",
    "append!(df, DataFrame(file = \"bigdf.jdf\", size=reduce((x,y)->x+y.size,\n",
    "                                                      stat.(joinpath.(\"bigdf.jdf\", readdir(\"bigdf.jdf\"))),\n",
    "                                                      init=0)))\n",
    "sort!(df, :size)"
   ]
  },
  {
   "cell_type": "code",
   "execution_count": 41,
   "metadata": {},
   "outputs": [
    {
     "data": {
      "image/svg+xml": [
       "<?xml version=\"1.0\" encoding=\"utf-8\"?>\n",
       "<svg xmlns=\"http://www.w3.org/2000/svg\" xmlns:xlink=\"http://www.w3.org/1999/xlink\" width=\"600\" height=\"400\" viewBox=\"0 0 2400 1600\">\n",
       "<defs>\n",
       "  <clipPath id=\"clip840\">\n",
       "    <rect x=\"0\" y=\"0\" width=\"2400\" height=\"1600\"/>\n",
       "  </clipPath>\n",
       "</defs>\n",
       "<path clip-path=\"url(#clip840)\" d=\"\n",
       "M0 1600 L2400 1600 L2400 0 L0 0  Z\n",
       "  \" fill=\"#ffffff\" fill-rule=\"evenodd\" fill-opacity=\"1\"/>\n",
       "<defs>\n",
       "  <clipPath id=\"clip841\">\n",
       "    <rect x=\"480\" y=\"0\" width=\"1681\" height=\"1600\"/>\n",
       "  </clipPath>\n",
       "</defs>\n",
       "<path clip-path=\"url(#clip840)\" d=\"\n",
       "M262.551 1486.45 L2352.76 1486.45 L2352.76 123.472 L262.551 123.472  Z\n",
       "  \" fill=\"#ffffff\" fill-rule=\"evenodd\" fill-opacity=\"1\"/>\n",
       "<defs>\n",
       "  <clipPath id=\"clip842\">\n",
       "    <rect x=\"262\" y=\"123\" width=\"2091\" height=\"1364\"/>\n",
       "  </clipPath>\n",
       "</defs>\n",
       "<polyline clip-path=\"url(#clip842)\" style=\"stroke:#000000; stroke-linecap:butt; stroke-linejoin:round; stroke-width:2; stroke-opacity:0.1; fill:none\" points=\"\n",
       "  505.811,1486.45 505.811,123.472 \n",
       "  \"/>\n",
       "<polyline clip-path=\"url(#clip842)\" style=\"stroke:#000000; stroke-linecap:butt; stroke-linejoin:round; stroke-width:2; stroke-opacity:0.1; fill:none\" points=\"\n",
       "  826.548,1486.45 826.548,123.472 \n",
       "  \"/>\n",
       "<polyline clip-path=\"url(#clip842)\" style=\"stroke:#000000; stroke-linecap:butt; stroke-linejoin:round; stroke-width:2; stroke-opacity:0.1; fill:none\" points=\"\n",
       "  1147.29,1486.45 1147.29,123.472 \n",
       "  \"/>\n",
       "<polyline clip-path=\"url(#clip842)\" style=\"stroke:#000000; stroke-linecap:butt; stroke-linejoin:round; stroke-width:2; stroke-opacity:0.1; fill:none\" points=\"\n",
       "  1468.02,1486.45 1468.02,123.472 \n",
       "  \"/>\n",
       "<polyline clip-path=\"url(#clip842)\" style=\"stroke:#000000; stroke-linecap:butt; stroke-linejoin:round; stroke-width:2; stroke-opacity:0.1; fill:none\" points=\"\n",
       "  1788.76,1486.45 1788.76,123.472 \n",
       "  \"/>\n",
       "<polyline clip-path=\"url(#clip842)\" style=\"stroke:#000000; stroke-linecap:butt; stroke-linejoin:round; stroke-width:2; stroke-opacity:0.1; fill:none\" points=\"\n",
       "  2109.5,1486.45 2109.5,123.472 \n",
       "  \"/>\n",
       "<polyline clip-path=\"url(#clip840)\" style=\"stroke:#000000; stroke-linecap:butt; stroke-linejoin:round; stroke-width:4; stroke-opacity:1; fill:none\" points=\"\n",
       "  262.551,1486.45 2352.76,1486.45 \n",
       "  \"/>\n",
       "<polyline clip-path=\"url(#clip840)\" style=\"stroke:#000000; stroke-linecap:butt; stroke-linejoin:round; stroke-width:4; stroke-opacity:1; fill:none\" points=\"\n",
       "  505.811,1486.45 505.811,1467.55 \n",
       "  \"/>\n",
       "<polyline clip-path=\"url(#clip840)\" style=\"stroke:#000000; stroke-linecap:butt; stroke-linejoin:round; stroke-width:4; stroke-opacity:1; fill:none\" points=\"\n",
       "  826.548,1486.45 826.548,1467.55 \n",
       "  \"/>\n",
       "<polyline clip-path=\"url(#clip840)\" style=\"stroke:#000000; stroke-linecap:butt; stroke-linejoin:round; stroke-width:4; stroke-opacity:1; fill:none\" points=\"\n",
       "  1147.29,1486.45 1147.29,1467.55 \n",
       "  \"/>\n",
       "<polyline clip-path=\"url(#clip840)\" style=\"stroke:#000000; stroke-linecap:butt; stroke-linejoin:round; stroke-width:4; stroke-opacity:1; fill:none\" points=\"\n",
       "  1468.02,1486.45 1468.02,1467.55 \n",
       "  \"/>\n",
       "<polyline clip-path=\"url(#clip840)\" style=\"stroke:#000000; stroke-linecap:butt; stroke-linejoin:round; stroke-width:4; stroke-opacity:1; fill:none\" points=\"\n",
       "  1788.76,1486.45 1788.76,1467.55 \n",
       "  \"/>\n",
       "<polyline clip-path=\"url(#clip840)\" style=\"stroke:#000000; stroke-linecap:butt; stroke-linejoin:round; stroke-width:4; stroke-opacity:1; fill:none\" points=\"\n",
       "  2109.5,1486.45 2109.5,1467.55 \n",
       "  \"/>\n",
       "<path clip-path=\"url(#clip840)\" d=\"M394.886 1535.91 Q394.886 1531.21 392.941 1528.55 Q391.02 1525.86 387.64 1525.86 Q384.261 1525.86 382.316 1528.55 Q380.395 1531.21 380.395 1535.91 Q380.395 1540.61 382.316 1543.29 Q384.261 1545.95 387.64 1545.95 Q391.02 1545.95 392.941 1543.29 Q394.886 1540.61 394.886 1535.91 M380.395 1526.86 Q381.738 1524.54 383.775 1523.43 Q385.835 1522.3 388.682 1522.3 Q393.404 1522.3 396.344 1526.05 Q399.307 1529.8 399.307 1535.91 Q399.307 1542.02 396.344 1545.77 Q393.404 1549.52 388.682 1549.52 Q385.835 1549.52 383.775 1548.41 Q381.738 1547.27 380.395 1544.96 L380.395 1548.85 L376.113 1548.85 L376.113 1512.83 L380.395 1512.83 L380.395 1526.86 Z\" fill=\"#000000\" fill-rule=\"evenodd\" fill-opacity=\"1\" /><path clip-path=\"url(#clip840)\" d=\"M406.367 1522.92 L410.626 1522.92 L410.626 1548.85 L406.367 1548.85 L406.367 1522.92 M406.367 1512.83 L410.626 1512.83 L410.626 1518.22 L406.367 1518.22 L406.367 1512.83 Z\" fill=\"#000000\" fill-rule=\"evenodd\" fill-opacity=\"1\" /><path clip-path=\"url(#clip840)\" d=\"M436.598 1535.58 Q436.598 1530.95 434.677 1528.41 Q432.779 1525.86 429.33 1525.86 Q425.904 1525.86 423.983 1528.41 Q422.085 1530.95 422.085 1535.58 Q422.085 1540.19 423.983 1542.74 Q425.904 1545.28 429.33 1545.28 Q432.779 1545.28 434.677 1542.74 Q436.598 1540.19 436.598 1535.58 M440.858 1545.63 Q440.858 1552.25 437.918 1555.47 Q434.978 1558.71 428.913 1558.71 Q426.668 1558.71 424.677 1558.36 Q422.686 1558.04 420.811 1557.34 L420.811 1553.2 Q422.686 1554.22 424.515 1554.7 Q426.344 1555.19 428.242 1555.19 Q432.432 1555.19 434.515 1552.99 Q436.598 1550.82 436.598 1546.39 L436.598 1544.29 Q435.279 1546.58 433.219 1547.71 Q431.159 1548.85 428.288 1548.85 Q423.52 1548.85 420.603 1545.21 Q417.686 1541.58 417.686 1535.58 Q417.686 1529.57 420.603 1525.93 Q423.52 1522.3 428.288 1522.3 Q431.159 1522.3 433.219 1523.43 Q435.279 1524.57 436.598 1526.86 L436.598 1522.92 L440.858 1522.92 L440.858 1545.63 Z\" fill=\"#000000\" fill-rule=\"evenodd\" fill-opacity=\"1\" /><path clip-path=\"url(#clip840)\" d=\"M466.691 1526.86 L466.691 1512.83 L470.95 1512.83 L470.95 1548.85 L466.691 1548.85 L466.691 1544.96 Q465.348 1547.27 463.288 1548.41 Q461.251 1549.52 458.381 1549.52 Q453.682 1549.52 450.719 1545.77 Q447.779 1542.02 447.779 1535.91 Q447.779 1529.8 450.719 1526.05 Q453.682 1522.3 458.381 1522.3 Q461.251 1522.3 463.288 1523.43 Q465.348 1524.54 466.691 1526.86 M452.177 1535.91 Q452.177 1540.61 454.098 1543.29 Q456.043 1545.95 459.422 1545.95 Q462.802 1545.95 464.746 1543.29 Q466.691 1540.61 466.691 1535.91 Q466.691 1531.21 464.746 1528.55 Q462.802 1525.86 459.422 1525.86 Q456.043 1525.86 454.098 1528.55 Q452.177 1531.21 452.177 1535.91 Z\" fill=\"#000000\" fill-rule=\"evenodd\" fill-opacity=\"1\" /><path clip-path=\"url(#clip840)\" d=\"M492.848 1512.83 L492.848 1516.37 L488.774 1516.37 Q486.482 1516.37 485.58 1517.3 Q484.7 1518.22 484.7 1520.63 L484.7 1522.92 L491.714 1522.92 L491.714 1526.23 L484.7 1526.23 L484.7 1548.85 L480.418 1548.85 L480.418 1526.23 L476.344 1526.23 L476.344 1522.92 L480.418 1522.92 L480.418 1521.12 Q480.418 1516.79 482.432 1514.82 Q484.445 1512.83 488.82 1512.83 L492.848 1512.83 Z\" fill=\"#000000\" fill-rule=\"evenodd\" fill-opacity=\"1\" /><path clip-path=\"url(#clip840)\" d=\"M493.566 1542.97 L498.45 1542.97 L498.45 1548.85 L493.566 1548.85 L493.566 1542.97 Z\" fill=\"#000000\" fill-rule=\"evenodd\" fill-opacity=\"1\" /><path clip-path=\"url(#clip840)\" d=\"M519.816 1535.82 Q514.654 1535.82 512.663 1537 Q510.672 1538.18 510.672 1541.02 Q510.672 1543.29 512.154 1544.63 Q513.658 1545.95 516.228 1545.95 Q519.769 1545.95 521.899 1543.45 Q524.052 1540.93 524.052 1536.76 L524.052 1535.82 L519.816 1535.82 M528.311 1534.06 L528.311 1548.85 L524.052 1548.85 L524.052 1544.91 Q522.593 1547.27 520.417 1548.41 Q518.241 1549.52 515.093 1549.52 Q511.112 1549.52 508.751 1547.3 Q506.413 1545.05 506.413 1541.3 Q506.413 1536.93 509.33 1534.7 Q512.269 1532.48 518.079 1532.48 L524.052 1532.48 L524.052 1532.07 Q524.052 1529.13 522.107 1527.53 Q520.186 1525.91 516.691 1525.91 Q514.468 1525.91 512.362 1526.44 Q510.255 1526.97 508.311 1528.04 L508.311 1524.1 Q510.649 1523.2 512.848 1522.76 Q515.047 1522.3 517.13 1522.3 Q522.755 1522.3 525.533 1525.21 Q528.311 1528.13 528.311 1534.06 Z\" fill=\"#000000\" fill-rule=\"evenodd\" fill-opacity=\"1\" /><path clip-path=\"url(#clip840)\" d=\"M552.107 1526.9 Q551.389 1526.49 550.533 1526.3 Q549.7 1526.09 548.681 1526.09 Q545.07 1526.09 543.126 1528.45 Q541.204 1530.79 541.204 1535.19 L541.204 1548.85 L536.922 1548.85 L536.922 1522.92 L541.204 1522.92 L541.204 1526.95 Q542.547 1524.59 544.7 1523.45 Q546.852 1522.3 549.931 1522.3 Q550.371 1522.3 550.903 1522.37 Q551.436 1522.41 552.084 1522.53 L552.107 1526.9 Z\" fill=\"#000000\" fill-rule=\"evenodd\" fill-opacity=\"1\" /><path clip-path=\"url(#clip840)\" d=\"M570.764 1526.9 Q570.047 1526.49 569.19 1526.3 Q568.357 1526.09 567.338 1526.09 Q563.727 1526.09 561.783 1528.45 Q559.862 1530.79 559.862 1535.19 L559.862 1548.85 L555.579 1548.85 L555.579 1522.92 L559.862 1522.92 L559.862 1526.95 Q561.204 1524.59 563.357 1523.45 Q565.51 1522.3 568.588 1522.3 Q569.028 1522.3 569.561 1522.37 Q570.093 1522.41 570.741 1522.53 L570.764 1526.9 Z\" fill=\"#000000\" fill-rule=\"evenodd\" fill-opacity=\"1\" /><path clip-path=\"url(#clip840)\" d=\"M584.237 1525.91 Q580.811 1525.91 578.82 1528.59 Q576.829 1531.26 576.829 1535.91 Q576.829 1540.56 578.797 1543.25 Q580.787 1545.91 584.237 1545.91 Q587.639 1545.91 589.63 1543.22 Q591.621 1540.54 591.621 1535.91 Q591.621 1531.3 589.63 1528.62 Q587.639 1525.91 584.237 1525.91 M584.237 1522.3 Q589.792 1522.3 592.963 1525.91 Q596.135 1529.52 596.135 1535.91 Q596.135 1542.27 592.963 1545.91 Q589.792 1549.52 584.237 1549.52 Q578.658 1549.52 575.487 1545.91 Q572.338 1542.27 572.338 1535.91 Q572.338 1529.52 575.487 1525.91 Q578.658 1522.3 584.237 1522.3 Z\" fill=\"#000000\" fill-rule=\"evenodd\" fill-opacity=\"1\" /><path clip-path=\"url(#clip840)\" d=\"M600.718 1522.92 L604.977 1522.92 L610.301 1543.15 L615.602 1522.92 L620.625 1522.92 L625.949 1543.15 L631.25 1522.92 L635.509 1522.92 L628.727 1548.85 L623.704 1548.85 L618.125 1527.6 L612.523 1548.85 L607.5 1548.85 L600.718 1522.92 Z\" fill=\"#000000\" fill-rule=\"evenodd\" fill-opacity=\"1\" /><path clip-path=\"url(#clip840)\" d=\"M751.166 1535.91 Q751.166 1531.21 749.222 1528.55 Q747.301 1525.86 743.921 1525.86 Q740.542 1525.86 738.597 1528.55 Q736.676 1531.21 736.676 1535.91 Q736.676 1540.61 738.597 1543.29 Q740.542 1545.95 743.921 1545.95 Q747.301 1545.95 749.222 1543.29 Q751.166 1540.61 751.166 1535.91 M736.676 1526.86 Q738.018 1524.54 740.055 1523.43 Q742.116 1522.3 744.963 1522.3 Q749.685 1522.3 752.625 1526.05 Q755.588 1529.8 755.588 1535.91 Q755.588 1542.02 752.625 1545.77 Q749.685 1549.52 744.963 1549.52 Q742.116 1549.52 740.055 1548.41 Q738.018 1547.27 736.676 1544.96 L736.676 1548.85 L732.393 1548.85 L732.393 1512.83 L736.676 1512.83 L736.676 1526.86 Z\" fill=\"#000000\" fill-rule=\"evenodd\" fill-opacity=\"1\" /><path clip-path=\"url(#clip840)\" d=\"M762.648 1522.92 L766.907 1522.92 L766.907 1548.85 L762.648 1548.85 L762.648 1522.92 M762.648 1512.83 L766.907 1512.83 L766.907 1518.22 L762.648 1518.22 L762.648 1512.83 Z\" fill=\"#000000\" fill-rule=\"evenodd\" fill-opacity=\"1\" /><path clip-path=\"url(#clip840)\" d=\"M792.879 1535.58 Q792.879 1530.95 790.958 1528.41 Q789.06 1525.86 785.611 1525.86 Q782.185 1525.86 780.264 1528.41 Q778.365 1530.95 778.365 1535.58 Q778.365 1540.19 780.264 1542.74 Q782.185 1545.28 785.611 1545.28 Q789.06 1545.28 790.958 1542.74 Q792.879 1540.19 792.879 1535.58 M797.138 1545.63 Q797.138 1552.25 794.199 1555.47 Q791.259 1558.71 785.194 1558.71 Q782.949 1558.71 780.958 1558.36 Q778.967 1558.04 777.092 1557.34 L777.092 1553.2 Q778.967 1554.22 780.796 1554.7 Q782.625 1555.19 784.523 1555.19 Q788.713 1555.19 790.796 1552.99 Q792.879 1550.82 792.879 1546.39 L792.879 1544.29 Q791.56 1546.58 789.5 1547.71 Q787.439 1548.85 784.569 1548.85 Q779.801 1548.85 776.884 1545.21 Q773.967 1541.58 773.967 1535.58 Q773.967 1529.57 776.884 1525.93 Q779.801 1522.3 784.569 1522.3 Q787.439 1522.3 789.5 1523.43 Q791.56 1524.57 792.879 1526.86 L792.879 1522.92 L797.138 1522.92 L797.138 1545.63 Z\" fill=\"#000000\" fill-rule=\"evenodd\" fill-opacity=\"1\" /><path clip-path=\"url(#clip840)\" d=\"M822.972 1526.86 L822.972 1512.83 L827.231 1512.83 L827.231 1548.85 L822.972 1548.85 L822.972 1544.96 Q821.629 1547.27 819.569 1548.41 Q817.532 1549.52 814.662 1549.52 Q809.962 1549.52 807 1545.77 Q804.06 1542.02 804.06 1535.91 Q804.06 1529.8 807 1526.05 Q809.962 1522.3 814.662 1522.3 Q817.532 1522.3 819.569 1523.43 Q821.629 1524.54 822.972 1526.86 M808.458 1535.91 Q808.458 1540.61 810.379 1543.29 Q812.324 1545.95 815.703 1545.95 Q819.083 1545.95 821.027 1543.29 Q822.972 1540.61 822.972 1535.91 Q822.972 1531.21 821.027 1528.55 Q819.083 1525.86 815.703 1525.86 Q812.324 1525.86 810.379 1528.55 Q808.458 1531.21 808.458 1535.91 Z\" fill=\"#000000\" fill-rule=\"evenodd\" fill-opacity=\"1\" /><path clip-path=\"url(#clip840)\" d=\"M849.129 1512.83 L849.129 1516.37 L845.055 1516.37 Q842.763 1516.37 841.86 1517.3 Q840.981 1518.22 840.981 1520.63 L840.981 1522.92 L847.995 1522.92 L847.995 1526.23 L840.981 1526.23 L840.981 1548.85 L836.698 1548.85 L836.698 1526.23 L832.624 1526.23 L832.624 1522.92 L836.698 1522.92 L836.698 1521.12 Q836.698 1516.79 838.712 1514.82 Q840.726 1512.83 845.101 1512.83 L849.129 1512.83 Z\" fill=\"#000000\" fill-rule=\"evenodd\" fill-opacity=\"1\" /><path clip-path=\"url(#clip840)\" d=\"M849.847 1542.97 L854.731 1542.97 L854.731 1548.85 L849.847 1548.85 L849.847 1542.97 Z\" fill=\"#000000\" fill-rule=\"evenodd\" fill-opacity=\"1\" /><path clip-path=\"url(#clip840)\" d=\"M864.314 1522.92 L868.573 1522.92 L868.573 1549.31 Q868.573 1554.26 866.675 1556.49 Q864.8 1558.71 860.61 1558.71 L858.99 1558.71 L858.99 1555.1 L860.124 1555.1 Q862.555 1555.1 863.434 1553.96 Q864.314 1552.85 864.314 1549.31 L864.314 1522.92 M864.314 1512.83 L868.573 1512.83 L868.573 1518.22 L864.314 1518.22 L864.314 1512.83 Z\" fill=\"#000000\" fill-rule=\"evenodd\" fill-opacity=\"1\" /><path clip-path=\"url(#clip840)\" d=\"M894.545 1526.86 L894.545 1512.83 L898.805 1512.83 L898.805 1548.85 L894.545 1548.85 L894.545 1544.96 Q893.203 1547.27 891.143 1548.41 Q889.106 1549.52 886.235 1549.52 Q881.536 1549.52 878.573 1545.77 Q875.633 1542.02 875.633 1535.91 Q875.633 1529.8 878.573 1526.05 Q881.536 1522.3 886.235 1522.3 Q889.106 1522.3 891.143 1523.43 Q893.203 1524.54 894.545 1526.86 M880.032 1535.91 Q880.032 1540.61 881.953 1543.29 Q883.897 1545.95 887.277 1545.95 Q890.656 1545.95 892.601 1543.29 Q894.545 1540.61 894.545 1535.91 Q894.545 1531.21 892.601 1528.55 Q890.656 1525.86 887.277 1525.86 Q883.897 1525.86 881.953 1528.55 Q880.032 1531.21 880.032 1535.91 Z\" fill=\"#000000\" fill-rule=\"evenodd\" fill-opacity=\"1\" /><path clip-path=\"url(#clip840)\" d=\"M920.703 1512.83 L920.703 1516.37 L916.629 1516.37 Q914.337 1516.37 913.434 1517.3 Q912.555 1518.22 912.555 1520.63 L912.555 1522.92 L919.568 1522.92 L919.568 1526.23 L912.555 1526.23 L912.555 1548.85 L908.272 1548.85 L908.272 1526.23 L904.198 1526.23 L904.198 1522.92 L908.272 1522.92 L908.272 1521.12 Q908.272 1516.79 910.286 1514.82 Q912.3 1512.83 916.675 1512.83 L920.703 1512.83 Z\" fill=\"#000000\" fill-rule=\"evenodd\" fill-opacity=\"1\" /><path clip-path=\"url(#clip840)\" d=\"M1067.69 1535.91 Q1067.69 1531.21 1065.75 1528.55 Q1063.82 1525.86 1060.45 1525.86 Q1057.07 1525.86 1055.12 1528.55 Q1053.2 1531.21 1053.2 1535.91 Q1053.2 1540.61 1055.12 1543.29 Q1057.07 1545.95 1060.45 1545.95 Q1063.82 1545.95 1065.75 1543.29 Q1067.69 1540.61 1067.69 1535.91 M1053.2 1526.86 Q1054.54 1524.54 1056.58 1523.43 Q1058.64 1522.3 1061.49 1522.3 Q1066.21 1522.3 1069.15 1526.05 Q1072.11 1529.8 1072.11 1535.91 Q1072.11 1542.02 1069.15 1545.77 Q1066.21 1549.52 1061.49 1549.52 Q1058.64 1549.52 1056.58 1548.41 Q1054.54 1547.27 1053.2 1544.96 L1053.2 1548.85 L1048.92 1548.85 L1048.92 1512.83 L1053.2 1512.83 L1053.2 1526.86 Z\" fill=\"#000000\" fill-rule=\"evenodd\" fill-opacity=\"1\" /><path clip-path=\"url(#clip840)\" d=\"M1079.17 1522.92 L1083.43 1522.92 L1083.43 1548.85 L1079.17 1548.85 L1079.17 1522.92 M1079.17 1512.83 L1083.43 1512.83 L1083.43 1518.22 L1079.17 1518.22 L1079.17 1512.83 Z\" fill=\"#000000\" fill-rule=\"evenodd\" fill-opacity=\"1\" /><path clip-path=\"url(#clip840)\" d=\"M1109.4 1535.58 Q1109.4 1530.95 1107.48 1528.41 Q1105.58 1525.86 1102.13 1525.86 Q1098.71 1525.86 1096.79 1528.41 Q1094.89 1530.95 1094.89 1535.58 Q1094.89 1540.19 1096.79 1542.74 Q1098.71 1545.28 1102.13 1545.28 Q1105.58 1545.28 1107.48 1542.74 Q1109.4 1540.19 1109.4 1535.58 M1113.66 1545.63 Q1113.66 1552.25 1110.72 1555.47 Q1107.78 1558.71 1101.72 1558.71 Q1099.47 1558.71 1097.48 1558.36 Q1095.49 1558.04 1093.62 1557.34 L1093.62 1553.2 Q1095.49 1554.22 1097.32 1554.7 Q1099.15 1555.19 1101.05 1555.19 Q1105.24 1555.19 1107.32 1552.99 Q1109.4 1550.82 1109.4 1546.39 L1109.4 1544.29 Q1108.08 1546.58 1106.02 1547.71 Q1103.96 1548.85 1101.09 1548.85 Q1096.32 1548.85 1093.41 1545.21 Q1090.49 1541.58 1090.49 1535.58 Q1090.49 1529.57 1093.41 1525.93 Q1096.32 1522.3 1101.09 1522.3 Q1103.96 1522.3 1106.02 1523.43 Q1108.08 1524.57 1109.4 1526.86 L1109.4 1522.92 L1113.66 1522.92 L1113.66 1545.63 Z\" fill=\"#000000\" fill-rule=\"evenodd\" fill-opacity=\"1\" /><path clip-path=\"url(#clip840)\" d=\"M1139.5 1526.86 L1139.5 1512.83 L1143.75 1512.83 L1143.75 1548.85 L1139.5 1548.85 L1139.5 1544.96 Q1138.15 1547.27 1136.09 1548.41 Q1134.06 1549.52 1131.19 1549.52 Q1126.49 1549.52 1123.52 1545.77 Q1120.58 1542.02 1120.58 1535.91 Q1120.58 1529.8 1123.52 1526.05 Q1126.49 1522.3 1131.19 1522.3 Q1134.06 1522.3 1136.09 1523.43 Q1138.15 1524.54 1139.5 1526.86 M1124.98 1535.91 Q1124.98 1540.61 1126.9 1543.29 Q1128.85 1545.95 1132.23 1545.95 Q1135.61 1545.95 1137.55 1543.29 Q1139.5 1540.61 1139.5 1535.91 Q1139.5 1531.21 1137.55 1528.55 Q1135.61 1525.86 1132.23 1525.86 Q1128.85 1525.86 1126.9 1528.55 Q1124.98 1531.21 1124.98 1535.91 Z\" fill=\"#000000\" fill-rule=\"evenodd\" fill-opacity=\"1\" /><path clip-path=\"url(#clip840)\" d=\"M1165.65 1512.83 L1165.65 1516.37 L1161.58 1516.37 Q1159.29 1516.37 1158.38 1517.3 Q1157.5 1518.22 1157.5 1520.63 L1157.5 1522.92 L1164.52 1522.92 L1164.52 1526.23 L1157.5 1526.23 L1157.5 1548.85 L1153.22 1548.85 L1153.22 1526.23 L1149.15 1526.23 L1149.15 1522.92 L1153.22 1522.92 L1153.22 1521.12 Q1153.22 1516.79 1155.24 1514.82 Q1157.25 1512.83 1161.63 1512.83 L1165.65 1512.83 Z\" fill=\"#000000\" fill-rule=\"evenodd\" fill-opacity=\"1\" /><path clip-path=\"url(#clip840)\" d=\"M1166.37 1542.97 L1171.25 1542.97 L1171.25 1548.85 L1166.37 1548.85 L1166.37 1542.97 Z\" fill=\"#000000\" fill-rule=\"evenodd\" fill-opacity=\"1\" /><path clip-path=\"url(#clip840)\" d=\"M1199.45 1535.91 Q1199.45 1531.21 1197.5 1528.55 Q1195.58 1525.86 1192.2 1525.86 Q1188.82 1525.86 1186.88 1528.55 Q1184.96 1531.21 1184.96 1535.91 Q1184.96 1540.61 1186.88 1543.29 Q1188.82 1545.95 1192.2 1545.95 Q1195.58 1545.95 1197.5 1543.29 Q1199.45 1540.61 1199.45 1535.91 M1184.96 1526.86 Q1186.3 1524.54 1188.34 1523.43 Q1190.4 1522.3 1193.25 1522.3 Q1197.97 1522.3 1200.91 1526.05 Q1203.87 1529.8 1203.87 1535.91 Q1203.87 1542.02 1200.91 1545.77 Q1197.97 1549.52 1193.25 1549.52 Q1190.4 1549.52 1188.34 1548.41 Q1186.3 1547.27 1184.96 1544.96 L1184.96 1548.85 L1180.68 1548.85 L1180.68 1512.83 L1184.96 1512.83 L1184.96 1526.86 Z\" fill=\"#000000\" fill-rule=\"evenodd\" fill-opacity=\"1\" /><path clip-path=\"url(#clip840)\" d=\"M1210.93 1522.92 L1215.19 1522.92 L1215.19 1548.85 L1210.93 1548.85 L1210.93 1522.92 M1210.93 1512.83 L1215.19 1512.83 L1215.19 1518.22 L1210.93 1518.22 L1210.93 1512.83 Z\" fill=\"#000000\" fill-rule=\"evenodd\" fill-opacity=\"1\" /><path clip-path=\"url(#clip840)\" d=\"M1245.65 1533.2 L1245.65 1548.85 L1241.39 1548.85 L1241.39 1533.34 Q1241.39 1529.66 1239.96 1527.83 Q1238.52 1526 1235.65 1526 Q1232.2 1526 1230.21 1528.2 Q1228.22 1530.4 1228.22 1534.2 L1228.22 1548.85 L1223.94 1548.85 L1223.94 1522.92 L1228.22 1522.92 L1228.22 1526.95 Q1229.75 1524.61 1231.81 1523.45 Q1233.89 1522.3 1236.6 1522.3 Q1241.07 1522.3 1243.36 1525.07 Q1245.65 1527.83 1245.65 1533.2 Z\" fill=\"#000000\" fill-rule=\"evenodd\" fill-opacity=\"1\" /><path clip-path=\"url(#clip840)\" d=\"M1367.56 1535.91 Q1367.56 1531.21 1365.62 1528.55 Q1363.69 1525.86 1360.31 1525.86 Q1356.93 1525.86 1354.99 1528.55 Q1353.07 1531.21 1353.07 1535.91 Q1353.07 1540.61 1354.99 1543.29 Q1356.93 1545.95 1360.31 1545.95 Q1363.69 1545.95 1365.62 1543.29 Q1367.56 1540.61 1367.56 1535.91 M1353.07 1526.86 Q1354.41 1524.54 1356.45 1523.43 Q1358.51 1522.3 1361.36 1522.3 Q1366.08 1522.3 1369.02 1526.05 Q1371.98 1529.8 1371.98 1535.91 Q1371.98 1542.02 1369.02 1545.77 Q1366.08 1549.52 1361.36 1549.52 Q1358.51 1549.52 1356.45 1548.41 Q1354.41 1547.27 1353.07 1544.96 L1353.07 1548.85 L1348.79 1548.85 L1348.79 1512.83 L1353.07 1512.83 L1353.07 1526.86 Z\" fill=\"#000000\" fill-rule=\"evenodd\" fill-opacity=\"1\" /><path clip-path=\"url(#clip840)\" d=\"M1379.04 1522.92 L1383.3 1522.92 L1383.3 1548.85 L1379.04 1548.85 L1379.04 1522.92 M1379.04 1512.83 L1383.3 1512.83 L1383.3 1518.22 L1379.04 1518.22 L1379.04 1512.83 Z\" fill=\"#000000\" fill-rule=\"evenodd\" fill-opacity=\"1\" /><path clip-path=\"url(#clip840)\" d=\"M1409.27 1535.58 Q1409.27 1530.95 1407.35 1528.41 Q1405.45 1525.86 1402 1525.86 Q1398.58 1525.86 1396.66 1528.41 Q1394.76 1530.95 1394.76 1535.58 Q1394.76 1540.19 1396.66 1542.74 Q1398.58 1545.28 1402 1545.28 Q1405.45 1545.28 1407.35 1542.74 Q1409.27 1540.19 1409.27 1535.58 M1413.53 1545.63 Q1413.53 1552.25 1410.59 1555.47 Q1407.65 1558.71 1401.59 1558.71 Q1399.34 1558.71 1397.35 1558.36 Q1395.36 1558.04 1393.49 1557.34 L1393.49 1553.2 Q1395.36 1554.22 1397.19 1554.7 Q1399.02 1555.19 1400.92 1555.19 Q1405.11 1555.19 1407.19 1552.99 Q1409.27 1550.82 1409.27 1546.39 L1409.27 1544.29 Q1407.95 1546.58 1405.89 1547.71 Q1403.83 1548.85 1400.96 1548.85 Q1396.19 1548.85 1393.28 1545.21 Q1390.36 1541.58 1390.36 1535.58 Q1390.36 1529.57 1393.28 1525.93 Q1396.19 1522.3 1400.96 1522.3 Q1403.83 1522.3 1405.89 1523.43 Q1407.95 1524.57 1409.27 1526.86 L1409.27 1522.92 L1413.53 1522.92 L1413.53 1545.63 Z\" fill=\"#000000\" fill-rule=\"evenodd\" fill-opacity=\"1\" /><path clip-path=\"url(#clip840)\" d=\"M1439.36 1526.86 L1439.36 1512.83 L1443.62 1512.83 L1443.62 1548.85 L1439.36 1548.85 L1439.36 1544.96 Q1438.02 1547.27 1435.96 1548.41 Q1433.93 1549.52 1431.05 1549.52 Q1426.36 1549.52 1423.39 1545.77 Q1420.45 1542.02 1420.45 1535.91 Q1420.45 1529.8 1423.39 1526.05 Q1426.36 1522.3 1431.05 1522.3 Q1433.93 1522.3 1435.96 1523.43 Q1438.02 1524.54 1439.36 1526.86 M1424.85 1535.91 Q1424.85 1540.61 1426.77 1543.29 Q1428.72 1545.95 1432.1 1545.95 Q1435.48 1545.95 1437.42 1543.29 Q1439.36 1540.61 1439.36 1535.91 Q1439.36 1531.21 1437.42 1528.55 Q1435.48 1525.86 1432.1 1525.86 Q1428.72 1525.86 1426.77 1528.55 Q1424.85 1531.21 1424.85 1535.91 Z\" fill=\"#000000\" fill-rule=\"evenodd\" fill-opacity=\"1\" /><path clip-path=\"url(#clip840)\" d=\"M1465.52 1512.83 L1465.52 1516.37 L1461.45 1516.37 Q1459.16 1516.37 1458.25 1517.3 Q1457.37 1518.22 1457.37 1520.63 L1457.37 1522.92 L1464.39 1522.92 L1464.39 1526.23 L1457.37 1526.23 L1457.37 1548.85 L1453.09 1548.85 L1453.09 1526.23 L1449.02 1526.23 L1449.02 1522.92 L1453.09 1522.92 L1453.09 1521.12 Q1453.09 1516.79 1455.11 1514.82 Q1457.12 1512.83 1461.49 1512.83 L1465.52 1512.83 Z\" fill=\"#000000\" fill-rule=\"evenodd\" fill-opacity=\"1\" /><path clip-path=\"url(#clip840)\" d=\"M1470.5 1544.91 L1478.14 1544.91 L1478.14 1518.55 L1469.83 1520.21 L1469.83 1515.95 L1478.09 1514.29 L1482.77 1514.29 L1482.77 1544.91 L1490.41 1544.91 L1490.41 1548.85 L1470.5 1548.85 L1470.5 1544.91 Z\" fill=\"#000000\" fill-rule=\"evenodd\" fill-opacity=\"1\" /><path clip-path=\"url(#clip840)\" d=\"M1499.85 1542.97 L1504.73 1542.97 L1504.73 1548.85 L1499.85 1548.85 L1499.85 1542.97 Z\" fill=\"#000000\" fill-rule=\"evenodd\" fill-opacity=\"1\" /><path clip-path=\"url(#clip840)\" d=\"M1532.98 1523.92 L1532.98 1527.9 Q1531.17 1526.9 1529.34 1526.42 Q1527.54 1525.91 1525.68 1525.91 Q1521.54 1525.91 1519.25 1528.55 Q1516.96 1531.16 1516.96 1535.91 Q1516.96 1540.65 1519.25 1543.29 Q1521.54 1545.91 1525.68 1545.91 Q1527.54 1545.91 1529.34 1545.42 Q1531.17 1544.91 1532.98 1543.92 L1532.98 1547.85 Q1531.19 1548.69 1529.27 1549.1 Q1527.37 1549.52 1525.22 1549.52 Q1519.36 1549.52 1515.92 1545.84 Q1512.47 1542.16 1512.47 1535.91 Q1512.47 1529.57 1515.94 1525.93 Q1519.43 1522.3 1525.5 1522.3 Q1527.47 1522.3 1529.34 1522.71 Q1531.22 1523.11 1532.98 1523.92 Z\" fill=\"#000000\" fill-rule=\"evenodd\" fill-opacity=\"1\" /><path clip-path=\"url(#clip840)\" d=\"M1556.91 1523.69 L1556.91 1527.71 Q1555.1 1526.79 1553.16 1526.32 Q1551.22 1525.86 1549.13 1525.86 Q1545.96 1525.86 1544.36 1526.83 Q1542.79 1527.81 1542.79 1529.75 Q1542.79 1531.23 1543.92 1532.09 Q1545.06 1532.92 1548.48 1533.69 L1549.94 1534.01 Q1554.48 1534.98 1556.38 1536.76 Q1558.3 1538.52 1558.3 1541.7 Q1558.3 1545.31 1555.43 1547.41 Q1552.58 1549.52 1547.58 1549.52 Q1545.5 1549.52 1543.23 1549.1 Q1540.98 1548.71 1538.48 1547.9 L1538.48 1543.5 Q1540.85 1544.73 1543.14 1545.35 Q1545.43 1545.95 1547.67 1545.95 Q1550.68 1545.95 1552.3 1544.94 Q1553.92 1543.89 1553.92 1542.02 Q1553.92 1540.28 1552.74 1539.36 Q1551.59 1538.43 1547.63 1537.57 L1546.15 1537.23 Q1542.19 1536.39 1540.43 1534.68 Q1538.67 1532.95 1538.67 1529.94 Q1538.67 1526.28 1541.26 1524.29 Q1543.86 1522.3 1548.62 1522.3 Q1550.98 1522.3 1553.07 1522.64 Q1555.15 1522.99 1556.91 1523.69 Z\" fill=\"#000000\" fill-rule=\"evenodd\" fill-opacity=\"1\" /><path clip-path=\"url(#clip840)\" d=\"M1562.03 1522.92 L1566.54 1522.92 L1574.64 1544.68 L1582.74 1522.92 L1587.26 1522.92 L1577.54 1548.85 L1571.75 1548.85 L1562.03 1522.92 Z\" fill=\"#000000\" fill-rule=\"evenodd\" fill-opacity=\"1\" /><path clip-path=\"url(#clip840)\" d=\"M1680.55 1535.91 Q1680.55 1531.21 1678.61 1528.55 Q1676.69 1525.86 1673.31 1525.86 Q1669.93 1525.86 1667.98 1528.55 Q1666.06 1531.21 1666.06 1535.91 Q1666.06 1540.61 1667.98 1543.29 Q1669.93 1545.95 1673.31 1545.95 Q1676.69 1545.95 1678.61 1543.29 Q1680.55 1540.61 1680.55 1535.91 M1666.06 1526.86 Q1667.41 1524.54 1669.44 1523.43 Q1671.5 1522.3 1674.35 1522.3 Q1679.07 1522.3 1682.01 1526.05 Q1684.97 1529.8 1684.97 1535.91 Q1684.97 1542.02 1682.01 1545.77 Q1679.07 1549.52 1674.35 1549.52 Q1671.5 1549.52 1669.44 1548.41 Q1667.41 1547.27 1666.06 1544.96 L1666.06 1548.85 L1661.78 1548.85 L1661.78 1512.83 L1666.06 1512.83 L1666.06 1526.86 Z\" fill=\"#000000\" fill-rule=\"evenodd\" fill-opacity=\"1\" /><path clip-path=\"url(#clip840)\" d=\"M1692.04 1522.92 L1696.29 1522.92 L1696.29 1548.85 L1692.04 1548.85 L1692.04 1522.92 M1692.04 1512.83 L1696.29 1512.83 L1696.29 1518.22 L1692.04 1518.22 L1692.04 1512.83 Z\" fill=\"#000000\" fill-rule=\"evenodd\" fill-opacity=\"1\" /><path clip-path=\"url(#clip840)\" d=\"M1722.27 1535.58 Q1722.27 1530.95 1720.35 1528.41 Q1718.45 1525.86 1715 1525.86 Q1711.57 1525.86 1709.65 1528.41 Q1707.75 1530.95 1707.75 1535.58 Q1707.75 1540.19 1709.65 1542.74 Q1711.57 1545.28 1715 1545.28 Q1718.45 1545.28 1720.35 1542.74 Q1722.27 1540.19 1722.27 1535.58 M1726.53 1545.63 Q1726.53 1552.25 1723.59 1555.47 Q1720.65 1558.71 1714.58 1558.71 Q1712.34 1558.71 1710.35 1558.36 Q1708.35 1558.04 1706.48 1557.34 L1706.48 1553.2 Q1708.35 1554.22 1710.18 1554.7 Q1712.01 1555.19 1713.91 1555.19 Q1718.1 1555.19 1720.18 1552.99 Q1722.27 1550.82 1722.27 1546.39 L1722.27 1544.29 Q1720.95 1546.58 1718.89 1547.71 Q1716.83 1548.85 1713.96 1548.85 Q1709.19 1548.85 1706.27 1545.21 Q1703.35 1541.58 1703.35 1535.58 Q1703.35 1529.57 1706.27 1525.93 Q1709.19 1522.3 1713.96 1522.3 Q1716.83 1522.3 1718.89 1523.43 Q1720.95 1524.57 1722.27 1526.86 L1722.27 1522.92 L1726.53 1522.92 L1726.53 1545.63 Z\" fill=\"#000000\" fill-rule=\"evenodd\" fill-opacity=\"1\" /><path clip-path=\"url(#clip840)\" d=\"M1752.36 1526.86 L1752.36 1512.83 L1756.62 1512.83 L1756.62 1548.85 L1752.36 1548.85 L1752.36 1544.96 Q1751.02 1547.27 1748.96 1548.41 Q1746.92 1549.52 1744.05 1549.52 Q1739.35 1549.52 1736.39 1545.77 Q1733.45 1542.02 1733.45 1535.91 Q1733.45 1529.8 1736.39 1526.05 Q1739.35 1522.3 1744.05 1522.3 Q1746.92 1522.3 1748.96 1523.43 Q1751.02 1524.54 1752.36 1526.86 M1737.85 1535.91 Q1737.85 1540.61 1739.77 1543.29 Q1741.71 1545.95 1745.09 1545.95 Q1748.47 1545.95 1750.41 1543.29 Q1752.36 1540.61 1752.36 1535.91 Q1752.36 1531.21 1750.41 1528.55 Q1748.47 1525.86 1745.09 1525.86 Q1741.71 1525.86 1739.77 1528.55 Q1737.85 1531.21 1737.85 1535.91 Z\" fill=\"#000000\" fill-rule=\"evenodd\" fill-opacity=\"1\" /><path clip-path=\"url(#clip840)\" d=\"M1778.52 1512.83 L1778.52 1516.37 L1774.44 1516.37 Q1772.15 1516.37 1771.25 1517.3 Q1770.37 1518.22 1770.37 1520.63 L1770.37 1522.92 L1777.38 1522.92 L1777.38 1526.23 L1770.37 1526.23 L1770.37 1548.85 L1766.09 1548.85 L1766.09 1526.23 L1762.01 1526.23 L1762.01 1522.92 L1766.09 1522.92 L1766.09 1521.12 Q1766.09 1516.79 1768.1 1514.82 Q1770.11 1512.83 1774.49 1512.83 L1778.52 1512.83 Z\" fill=\"#000000\" fill-rule=\"evenodd\" fill-opacity=\"1\" /><path clip-path=\"url(#clip840)\" d=\"M1786.71 1544.91 L1803.03 1544.91 L1803.03 1548.85 L1781.09 1548.85 L1781.09 1544.91 Q1783.75 1542.16 1788.33 1537.53 Q1792.94 1532.88 1794.12 1531.53 Q1796.36 1529.01 1797.24 1527.27 Q1798.15 1525.51 1798.15 1523.82 Q1798.15 1521.07 1796.2 1519.33 Q1794.28 1517.6 1791.18 1517.6 Q1788.98 1517.6 1786.53 1518.36 Q1784.09 1519.13 1781.32 1520.68 L1781.32 1515.95 Q1784.14 1514.82 1786.59 1514.24 Q1789.05 1513.66 1791.09 1513.66 Q1796.46 1513.66 1799.65 1516.35 Q1802.84 1519.03 1802.84 1523.52 Q1802.84 1525.65 1802.03 1527.57 Q1801.25 1529.47 1799.14 1532.07 Q1798.56 1532.74 1795.46 1535.95 Q1792.36 1539.15 1786.71 1544.91 Z\" fill=\"#000000\" fill-rule=\"evenodd\" fill-opacity=\"1\" /><path clip-path=\"url(#clip840)\" d=\"M1812.84 1542.97 L1817.73 1542.97 L1817.73 1548.85 L1812.84 1548.85 L1812.84 1542.97 Z\" fill=\"#000000\" fill-rule=\"evenodd\" fill-opacity=\"1\" /><path clip-path=\"url(#clip840)\" d=\"M1827.31 1522.92 L1831.57 1522.92 L1831.57 1549.31 Q1831.57 1554.26 1829.67 1556.49 Q1827.8 1558.71 1823.61 1558.71 L1821.99 1558.71 L1821.99 1555.1 L1823.12 1555.1 Q1825.55 1555.1 1826.43 1553.96 Q1827.31 1552.85 1827.31 1549.31 L1827.31 1522.92 M1827.31 1512.83 L1831.57 1512.83 L1831.57 1518.22 L1827.31 1518.22 L1827.31 1512.83 Z\" fill=\"#000000\" fill-rule=\"evenodd\" fill-opacity=\"1\" /><path clip-path=\"url(#clip840)\" d=\"M1857.01 1523.69 L1857.01 1527.71 Q1855.21 1526.79 1853.26 1526.32 Q1851.32 1525.86 1849.23 1525.86 Q1846.06 1525.86 1844.46 1526.83 Q1842.89 1527.81 1842.89 1529.75 Q1842.89 1531.23 1844.03 1532.09 Q1845.16 1532.92 1848.59 1533.69 L1850.04 1534.01 Q1854.58 1534.98 1856.48 1536.76 Q1858.4 1538.52 1858.4 1541.7 Q1858.4 1545.31 1855.53 1547.41 Q1852.68 1549.52 1847.68 1549.52 Q1845.6 1549.52 1843.33 1549.1 Q1841.09 1548.71 1838.59 1547.9 L1838.59 1543.5 Q1840.95 1544.73 1843.24 1545.35 Q1845.53 1545.95 1847.77 1545.95 Q1850.78 1545.95 1852.4 1544.94 Q1854.02 1543.89 1854.02 1542.02 Q1854.02 1540.28 1852.84 1539.36 Q1851.69 1538.43 1847.73 1537.57 L1846.25 1537.23 Q1842.29 1536.39 1840.53 1534.68 Q1838.77 1532.95 1838.77 1529.94 Q1838.77 1526.28 1841.36 1524.29 Q1843.96 1522.3 1848.72 1522.3 Q1851.09 1522.3 1853.17 1522.64 Q1855.25 1522.99 1857.01 1523.69 Z\" fill=\"#000000\" fill-rule=\"evenodd\" fill-opacity=\"1\" /><path clip-path=\"url(#clip840)\" d=\"M1875.23 1525.91 Q1871.8 1525.91 1869.81 1528.59 Q1867.82 1531.26 1867.82 1535.91 Q1867.82 1540.56 1869.79 1543.25 Q1871.78 1545.91 1875.23 1545.91 Q1878.63 1545.91 1880.62 1543.22 Q1882.61 1540.54 1882.61 1535.91 Q1882.61 1531.3 1880.62 1528.62 Q1878.63 1525.91 1875.23 1525.91 M1875.23 1522.3 Q1880.78 1522.3 1883.96 1525.91 Q1887.13 1529.52 1887.13 1535.91 Q1887.13 1542.27 1883.96 1545.91 Q1880.78 1549.52 1875.23 1549.52 Q1869.65 1549.52 1866.48 1545.91 Q1863.33 1542.27 1863.33 1535.91 Q1863.33 1529.52 1866.48 1525.91 Q1869.65 1522.3 1875.23 1522.3 Z\" fill=\"#000000\" fill-rule=\"evenodd\" fill-opacity=\"1\" /><path clip-path=\"url(#clip840)\" d=\"M1915.74 1533.2 L1915.74 1548.85 L1911.48 1548.85 L1911.48 1533.34 Q1911.48 1529.66 1910.04 1527.83 Q1908.61 1526 1905.74 1526 Q1902.29 1526 1900.3 1528.2 Q1898.31 1530.4 1898.31 1534.2 L1898.31 1548.85 L1894.02 1548.85 L1894.02 1522.92 L1898.31 1522.92 L1898.31 1526.95 Q1899.83 1524.61 1901.9 1523.45 Q1903.98 1522.3 1906.69 1522.3 Q1911.15 1522.3 1913.45 1525.07 Q1915.74 1527.83 1915.74 1533.2 Z\" fill=\"#000000\" fill-rule=\"evenodd\" fill-opacity=\"1\" /><path clip-path=\"url(#clip840)\" d=\"M2001.29 1535.91 Q2001.29 1531.21 1999.35 1528.55 Q1997.42 1525.86 1994.05 1525.86 Q1990.67 1525.86 1988.72 1528.55 Q1986.8 1531.21 1986.8 1535.91 Q1986.8 1540.61 1988.72 1543.29 Q1990.67 1545.95 1994.05 1545.95 Q1997.42 1545.95 1999.35 1543.29 Q2001.29 1540.61 2001.29 1535.91 M1986.8 1526.86 Q1988.14 1524.54 1990.18 1523.43 Q1992.24 1522.3 1995.09 1522.3 Q1999.81 1522.3 2002.75 1526.05 Q2005.71 1529.8 2005.71 1535.91 Q2005.71 1542.02 2002.75 1545.77 Q1999.81 1549.52 1995.09 1549.52 Q1992.24 1549.52 1990.18 1548.41 Q1988.14 1547.27 1986.8 1544.96 L1986.8 1548.85 L1982.52 1548.85 L1982.52 1512.83 L1986.8 1512.83 L1986.8 1526.86 Z\" fill=\"#000000\" fill-rule=\"evenodd\" fill-opacity=\"1\" /><path clip-path=\"url(#clip840)\" d=\"M2012.77 1522.92 L2017.03 1522.92 L2017.03 1548.85 L2012.77 1548.85 L2012.77 1522.92 M2012.77 1512.83 L2017.03 1512.83 L2017.03 1518.22 L2012.77 1518.22 L2012.77 1512.83 Z\" fill=\"#000000\" fill-rule=\"evenodd\" fill-opacity=\"1\" /><path clip-path=\"url(#clip840)\" d=\"M2043 1535.58 Q2043 1530.95 2041.08 1528.41 Q2039.18 1525.86 2035.73 1525.86 Q2032.31 1525.86 2030.39 1528.41 Q2028.49 1530.95 2028.49 1535.58 Q2028.49 1540.19 2030.39 1542.74 Q2032.31 1545.28 2035.73 1545.28 Q2039.18 1545.28 2041.08 1542.74 Q2043 1540.19 2043 1535.58 M2047.26 1545.63 Q2047.26 1552.25 2044.32 1555.47 Q2041.38 1558.71 2035.32 1558.71 Q2033.07 1558.71 2031.08 1558.36 Q2029.09 1558.04 2027.22 1557.34 L2027.22 1553.2 Q2029.09 1554.22 2030.92 1554.7 Q2032.75 1555.19 2034.65 1555.19 Q2038.84 1555.19 2040.92 1552.99 Q2043 1550.82 2043 1546.39 L2043 1544.29 Q2041.68 1546.58 2039.62 1547.71 Q2037.56 1548.85 2034.69 1548.85 Q2029.92 1548.85 2027.01 1545.21 Q2024.09 1541.58 2024.09 1535.58 Q2024.09 1529.57 2027.01 1525.93 Q2029.92 1522.3 2034.69 1522.3 Q2037.56 1522.3 2039.62 1523.43 Q2041.68 1524.57 2043 1526.86 L2043 1522.92 L2047.26 1522.92 L2047.26 1545.63 Z\" fill=\"#000000\" fill-rule=\"evenodd\" fill-opacity=\"1\" /><path clip-path=\"url(#clip840)\" d=\"M2073.1 1526.86 L2073.1 1512.83 L2077.36 1512.83 L2077.36 1548.85 L2073.1 1548.85 L2073.1 1544.96 Q2071.75 1547.27 2069.69 1548.41 Q2067.66 1549.52 2064.79 1549.52 Q2060.09 1549.52 2057.12 1545.77 Q2054.18 1542.02 2054.18 1535.91 Q2054.18 1529.8 2057.12 1526.05 Q2060.09 1522.3 2064.79 1522.3 Q2067.66 1522.3 2069.69 1523.43 Q2071.75 1524.54 2073.1 1526.86 M2058.58 1535.91 Q2058.58 1540.61 2060.5 1543.29 Q2062.45 1545.95 2065.83 1545.95 Q2069.21 1545.95 2071.15 1543.29 Q2073.1 1540.61 2073.1 1535.91 Q2073.1 1531.21 2071.15 1528.55 Q2069.21 1525.86 2065.83 1525.86 Q2062.45 1525.86 2060.5 1528.55 Q2058.58 1531.21 2058.58 1535.91 Z\" fill=\"#000000\" fill-rule=\"evenodd\" fill-opacity=\"1\" /><path clip-path=\"url(#clip840)\" d=\"M2099.25 1512.83 L2099.25 1516.37 L2095.18 1516.37 Q2092.89 1516.37 2091.98 1517.3 Q2091.11 1518.22 2091.11 1520.63 L2091.11 1522.92 L2098.12 1522.92 L2098.12 1526.23 L2091.11 1526.23 L2091.11 1548.85 L2086.82 1548.85 L2086.82 1526.23 L2082.75 1526.23 L2082.75 1522.92 L2086.82 1522.92 L2086.82 1521.12 Q2086.82 1516.79 2088.84 1514.82 Q2090.85 1512.83 2095.23 1512.83 L2099.25 1512.83 Z\" fill=\"#000000\" fill-rule=\"evenodd\" fill-opacity=\"1\" /><path clip-path=\"url(#clip840)\" d=\"M2104.23 1544.91 L2111.87 1544.91 L2111.87 1518.55 L2103.56 1520.21 L2103.56 1515.95 L2111.82 1514.29 L2116.5 1514.29 L2116.5 1544.91 L2124.14 1544.91 L2124.14 1548.85 L2104.23 1548.85 L2104.23 1544.91 Z\" fill=\"#000000\" fill-rule=\"evenodd\" fill-opacity=\"1\" /><path clip-path=\"url(#clip840)\" d=\"M2133.58 1542.97 L2138.47 1542.97 L2138.47 1548.85 L2133.58 1548.85 L2133.58 1542.97 Z\" fill=\"#000000\" fill-rule=\"evenodd\" fill-opacity=\"1\" /><path clip-path=\"url(#clip840)\" d=\"M2148.05 1522.92 L2152.31 1522.92 L2152.31 1549.31 Q2152.31 1554.26 2150.41 1556.49 Q2148.54 1558.71 2144.35 1558.71 L2142.73 1558.71 L2142.73 1555.1 L2143.86 1555.1 Q2146.29 1555.1 2147.17 1553.96 Q2148.05 1552.85 2148.05 1549.31 L2148.05 1522.92 M2148.05 1512.83 L2152.31 1512.83 L2152.31 1518.22 L2148.05 1518.22 L2148.05 1512.83 Z\" fill=\"#000000\" fill-rule=\"evenodd\" fill-opacity=\"1\" /><path clip-path=\"url(#clip840)\" d=\"M2177.75 1523.69 L2177.75 1527.71 Q2175.94 1526.79 2174 1526.32 Q2172.05 1525.86 2169.97 1525.86 Q2166.8 1525.86 2165.2 1526.83 Q2163.63 1527.81 2163.63 1529.75 Q2163.63 1531.23 2164.76 1532.09 Q2165.9 1532.92 2169.32 1533.69 L2170.78 1534.01 Q2175.32 1534.98 2177.22 1536.76 Q2179.14 1538.52 2179.14 1541.7 Q2179.14 1545.31 2176.27 1547.41 Q2173.42 1549.52 2168.42 1549.52 Q2166.34 1549.52 2164.07 1549.1 Q2161.82 1548.71 2159.32 1547.9 L2159.32 1543.5 Q2161.68 1544.73 2163.97 1545.35 Q2166.27 1545.95 2168.51 1545.95 Q2171.52 1545.95 2173.14 1544.94 Q2174.76 1543.89 2174.76 1542.02 Q2174.76 1540.28 2173.58 1539.36 Q2172.42 1538.43 2168.47 1537.57 L2166.98 1537.23 Q2163.03 1536.39 2161.27 1534.68 Q2159.51 1532.95 2159.51 1529.94 Q2159.51 1526.28 2162.1 1524.29 Q2164.69 1522.3 2169.46 1522.3 Q2171.82 1522.3 2173.91 1522.64 Q2175.99 1522.99 2177.75 1523.69 Z\" fill=\"#000000\" fill-rule=\"evenodd\" fill-opacity=\"1\" /><path clip-path=\"url(#clip840)\" d=\"M2195.97 1525.91 Q2192.54 1525.91 2190.55 1528.59 Q2188.56 1531.26 2188.56 1535.91 Q2188.56 1540.56 2190.53 1543.25 Q2192.52 1545.91 2195.97 1545.91 Q2199.37 1545.91 2201.36 1543.22 Q2203.35 1540.54 2203.35 1535.91 Q2203.35 1531.3 2201.36 1528.62 Q2199.37 1525.91 2195.97 1525.91 M2195.97 1522.3 Q2201.52 1522.3 2204.69 1525.91 Q2207.86 1529.52 2207.86 1535.91 Q2207.86 1542.27 2204.69 1545.91 Q2201.52 1549.52 2195.97 1549.52 Q2190.39 1549.52 2187.22 1545.91 Q2184.07 1542.27 2184.07 1535.91 Q2184.07 1529.52 2187.22 1525.91 Q2190.39 1522.3 2195.97 1522.3 Z\" fill=\"#000000\" fill-rule=\"evenodd\" fill-opacity=\"1\" /><path clip-path=\"url(#clip840)\" d=\"M2236.47 1533.2 L2236.47 1548.85 L2232.22 1548.85 L2232.22 1533.34 Q2232.22 1529.66 2230.78 1527.83 Q2229.35 1526 2226.47 1526 Q2223.03 1526 2221.03 1528.2 Q2219.04 1530.4 2219.04 1534.2 L2219.04 1548.85 L2214.76 1548.85 L2214.76 1522.92 L2219.04 1522.92 L2219.04 1526.95 Q2220.57 1524.61 2222.63 1523.45 Q2224.72 1522.3 2227.42 1522.3 Q2231.89 1522.3 2234.18 1525.07 Q2236.47 1527.83 2236.47 1533.2 Z\" fill=\"#000000\" fill-rule=\"evenodd\" fill-opacity=\"1\" /><polyline clip-path=\"url(#clip842)\" style=\"stroke:#000000; stroke-linecap:butt; stroke-linejoin:round; stroke-width:2; stroke-opacity:0.1; fill:none\" points=\"\n",
       "  262.551,1447.87 2352.76,1447.87 \n",
       "  \"/>\n",
       "<polyline clip-path=\"url(#clip842)\" style=\"stroke:#000000; stroke-linecap:butt; stroke-linejoin:round; stroke-width:2; stroke-opacity:0.1; fill:none\" points=\"\n",
       "  262.551,1176.11 2352.76,1176.11 \n",
       "  \"/>\n",
       "<polyline clip-path=\"url(#clip842)\" style=\"stroke:#000000; stroke-linecap:butt; stroke-linejoin:round; stroke-width:2; stroke-opacity:0.1; fill:none\" points=\"\n",
       "  262.551,904.343 2352.76,904.343 \n",
       "  \"/>\n",
       "<polyline clip-path=\"url(#clip842)\" style=\"stroke:#000000; stroke-linecap:butt; stroke-linejoin:round; stroke-width:2; stroke-opacity:0.1; fill:none\" points=\"\n",
       "  262.551,632.578 2352.76,632.578 \n",
       "  \"/>\n",
       "<polyline clip-path=\"url(#clip842)\" style=\"stroke:#000000; stroke-linecap:butt; stroke-linejoin:round; stroke-width:2; stroke-opacity:0.1; fill:none\" points=\"\n",
       "  262.551,360.813 2352.76,360.813 \n",
       "  \"/>\n",
       "<polyline clip-path=\"url(#clip840)\" style=\"stroke:#000000; stroke-linecap:butt; stroke-linejoin:round; stroke-width:4; stroke-opacity:1; fill:none\" points=\"\n",
       "  262.551,1486.45 262.551,123.472 \n",
       "  \"/>\n",
       "<polyline clip-path=\"url(#clip840)\" style=\"stroke:#000000; stroke-linecap:butt; stroke-linejoin:round; stroke-width:4; stroke-opacity:1; fill:none\" points=\"\n",
       "  262.551,1447.87 281.449,1447.87 \n",
       "  \"/>\n",
       "<polyline clip-path=\"url(#clip840)\" style=\"stroke:#000000; stroke-linecap:butt; stroke-linejoin:round; stroke-width:4; stroke-opacity:1; fill:none\" points=\"\n",
       "  262.551,1176.11 281.449,1176.11 \n",
       "  \"/>\n",
       "<polyline clip-path=\"url(#clip840)\" style=\"stroke:#000000; stroke-linecap:butt; stroke-linejoin:round; stroke-width:4; stroke-opacity:1; fill:none\" points=\"\n",
       "  262.551,904.343 281.449,904.343 \n",
       "  \"/>\n",
       "<polyline clip-path=\"url(#clip840)\" style=\"stroke:#000000; stroke-linecap:butt; stroke-linejoin:round; stroke-width:4; stroke-opacity:1; fill:none\" points=\"\n",
       "  262.551,632.578 281.449,632.578 \n",
       "  \"/>\n",
       "<polyline clip-path=\"url(#clip840)\" style=\"stroke:#000000; stroke-linecap:butt; stroke-linejoin:round; stroke-width:4; stroke-opacity:1; fill:none\" points=\"\n",
       "  262.551,360.813 281.449,360.813 \n",
       "  \"/>\n",
       "<path clip-path=\"url(#clip840)\" d=\"M214.607 1433.67 Q210.996 1433.67 209.167 1437.24 Q207.362 1440.78 207.362 1447.91 Q207.362 1455.01 209.167 1458.58 Q210.996 1462.12 214.607 1462.12 Q218.241 1462.12 220.047 1458.58 Q221.875 1455.01 221.875 1447.91 Q221.875 1440.78 220.047 1437.24 Q218.241 1433.67 214.607 1433.67 M214.607 1429.97 Q220.417 1429.97 223.473 1434.57 Q226.551 1439.16 226.551 1447.91 Q226.551 1456.63 223.473 1461.24 Q220.417 1465.82 214.607 1465.82 Q208.797 1465.82 205.718 1461.24 Q202.662 1456.63 202.662 1447.91 Q202.662 1439.16 205.718 1434.57 Q208.797 1429.97 214.607 1429.97 Z\" fill=\"#000000\" fill-rule=\"evenodd\" fill-opacity=\"1\" /><path clip-path=\"url(#clip840)\" d=\"M148.311 1189.45 L164.63 1189.45 L164.63 1193.39 L142.686 1193.39 L142.686 1189.45 Q145.348 1186.7 149.931 1182.07 Q154.538 1177.42 155.718 1176.07 Q157.964 1173.55 158.843 1171.81 Q159.746 1170.05 159.746 1168.37 Q159.746 1165.61 157.802 1163.87 Q155.88 1162.14 152.778 1162.14 Q150.579 1162.14 148.126 1162.9 Q145.695 1163.67 142.917 1165.22 L142.917 1160.49 Q145.741 1159.36 148.195 1158.78 Q150.649 1158.2 152.686 1158.2 Q158.056 1158.2 161.251 1160.89 Q164.445 1163.57 164.445 1168.06 Q164.445 1170.19 163.635 1172.12 Q162.848 1174.01 160.741 1176.61 Q160.163 1177.28 157.061 1180.49 Q153.959 1183.69 148.311 1189.45 Z\" fill=\"#000000\" fill-rule=\"evenodd\" fill-opacity=\"1\" /><path clip-path=\"url(#clip840)\" d=\"M174.491 1158.83 L192.848 1158.83 L192.848 1162.76 L178.774 1162.76 L178.774 1171.24 Q179.792 1170.89 180.811 1170.73 Q181.829 1170.54 182.848 1170.54 Q188.635 1170.54 192.014 1173.71 Q195.394 1176.88 195.394 1182.3 Q195.394 1187.88 191.922 1190.98 Q188.45 1194.06 182.13 1194.06 Q179.954 1194.06 177.686 1193.69 Q175.44 1193.32 173.033 1192.58 L173.033 1187.88 Q175.116 1189.01 177.339 1189.57 Q179.561 1190.12 182.038 1190.12 Q186.042 1190.12 188.38 1188.02 Q190.718 1185.91 190.718 1182.3 Q190.718 1178.69 188.38 1176.58 Q186.042 1174.48 182.038 1174.48 Q180.163 1174.48 178.288 1174.89 Q176.436 1175.31 174.491 1176.19 L174.491 1158.83 Z\" fill=\"#000000\" fill-rule=\"evenodd\" fill-opacity=\"1\" /><path clip-path=\"url(#clip840)\" d=\"M214.607 1161.91 Q210.996 1161.91 209.167 1165.47 Q207.362 1169.01 207.362 1176.14 Q207.362 1183.25 209.167 1186.81 Q210.996 1190.36 214.607 1190.36 Q218.241 1190.36 220.047 1186.81 Q221.875 1183.25 221.875 1176.14 Q221.875 1169.01 220.047 1165.47 Q218.241 1161.91 214.607 1161.91 M214.607 1158.2 Q220.417 1158.2 223.473 1162.81 Q226.551 1167.39 226.551 1176.14 Q226.551 1184.87 223.473 1189.48 Q220.417 1194.06 214.607 1194.06 Q208.797 1194.06 205.718 1189.48 Q202.662 1184.87 202.662 1176.14 Q202.662 1167.39 205.718 1162.81 Q208.797 1158.2 214.607 1158.2 Z\" fill=\"#000000\" fill-rule=\"evenodd\" fill-opacity=\"1\" /><path clip-path=\"url(#clip840)\" d=\"M144.329 887.063 L162.686 887.063 L162.686 890.998 L148.612 890.998 L148.612 899.47 Q149.63 899.123 150.649 898.961 Q151.667 898.776 152.686 898.776 Q158.473 898.776 161.852 901.947 Q165.232 905.119 165.232 910.535 Q165.232 916.114 161.76 919.216 Q158.288 922.294 151.968 922.294 Q149.792 922.294 147.524 921.924 Q145.279 921.554 142.871 920.813 L142.871 916.114 Q144.954 917.248 147.177 917.804 Q149.399 918.359 151.876 918.359 Q155.88 918.359 158.218 916.253 Q160.556 914.146 160.556 910.535 Q160.556 906.924 158.218 904.818 Q155.88 902.711 151.876 902.711 Q150.001 902.711 148.126 903.128 Q146.274 903.544 144.329 904.424 L144.329 887.063 Z\" fill=\"#000000\" fill-rule=\"evenodd\" fill-opacity=\"1\" /><path clip-path=\"url(#clip840)\" d=\"M184.445 890.142 Q180.834 890.142 179.005 893.707 Q177.2 897.248 177.2 904.378 Q177.2 911.484 179.005 915.049 Q180.834 918.591 184.445 918.591 Q188.079 918.591 189.885 915.049 Q191.713 911.484 191.713 904.378 Q191.713 897.248 189.885 893.707 Q188.079 890.142 184.445 890.142 M184.445 886.438 Q190.255 886.438 193.311 891.045 Q196.389 895.628 196.389 904.378 Q196.389 913.105 193.311 917.711 Q190.255 922.294 184.445 922.294 Q178.635 922.294 175.556 917.711 Q172.501 913.105 172.501 904.378 Q172.501 895.628 175.556 891.045 Q178.635 886.438 184.445 886.438 Z\" fill=\"#000000\" fill-rule=\"evenodd\" fill-opacity=\"1\" /><path clip-path=\"url(#clip840)\" d=\"M214.607 890.142 Q210.996 890.142 209.167 893.707 Q207.362 897.248 207.362 904.378 Q207.362 911.484 209.167 915.049 Q210.996 918.591 214.607 918.591 Q218.241 918.591 220.047 915.049 Q221.875 911.484 221.875 904.378 Q221.875 897.248 220.047 893.707 Q218.241 890.142 214.607 890.142 M214.607 886.438 Q220.417 886.438 223.473 891.045 Q226.551 895.628 226.551 904.378 Q226.551 913.105 223.473 917.711 Q220.417 922.294 214.607 922.294 Q208.797 922.294 205.718 917.711 Q202.662 913.105 202.662 904.378 Q202.662 895.628 205.718 891.045 Q208.797 886.438 214.607 886.438 Z\" fill=\"#000000\" fill-rule=\"evenodd\" fill-opacity=\"1\" /><path clip-path=\"url(#clip840)\" d=\"M143.103 615.298 L165.325 615.298 L165.325 617.289 L152.778 649.858 L147.894 649.858 L159.7 619.233 L143.103 619.233 L143.103 615.298 Z\" fill=\"#000000\" fill-rule=\"evenodd\" fill-opacity=\"1\" /><path clip-path=\"url(#clip840)\" d=\"M174.491 615.298 L192.848 615.298 L192.848 619.233 L178.774 619.233 L178.774 627.705 Q179.792 627.358 180.811 627.196 Q181.829 627.011 182.848 627.011 Q188.635 627.011 192.014 630.182 Q195.394 633.353 195.394 638.77 Q195.394 644.349 191.922 647.451 Q188.45 650.529 182.13 650.529 Q179.954 650.529 177.686 650.159 Q175.44 649.789 173.033 649.048 L173.033 644.349 Q175.116 645.483 177.339 646.039 Q179.561 646.594 182.038 646.594 Q186.042 646.594 188.38 644.488 Q190.718 642.381 190.718 638.77 Q190.718 635.159 188.38 633.053 Q186.042 630.946 182.038 630.946 Q180.163 630.946 178.288 631.363 Q176.436 631.779 174.491 632.659 L174.491 615.298 Z\" fill=\"#000000\" fill-rule=\"evenodd\" fill-opacity=\"1\" /><path clip-path=\"url(#clip840)\" d=\"M214.607 618.377 Q210.996 618.377 209.167 621.942 Q207.362 625.483 207.362 632.613 Q207.362 639.719 209.167 643.284 Q210.996 646.826 214.607 646.826 Q218.241 646.826 220.047 643.284 Q221.875 639.719 221.875 632.613 Q221.875 625.483 220.047 621.942 Q218.241 618.377 214.607 618.377 M214.607 614.673 Q220.417 614.673 223.473 619.279 Q226.551 623.863 226.551 632.613 Q226.551 641.34 223.473 645.946 Q220.417 650.529 214.607 650.529 Q208.797 650.529 205.718 645.946 Q202.662 641.34 202.662 632.613 Q202.662 623.863 205.718 619.279 Q208.797 614.673 214.607 614.673 Z\" fill=\"#000000\" fill-rule=\"evenodd\" fill-opacity=\"1\" /><path clip-path=\"url(#clip840)\" d=\"M114.931 374.158 L122.57 374.158 L122.57 347.792 L114.26 349.459 L114.26 345.2 L122.524 343.533 L127.2 343.533 L127.2 374.158 L134.839 374.158 L134.839 378.093 L114.931 378.093 L114.931 374.158 Z\" fill=\"#000000\" fill-rule=\"evenodd\" fill-opacity=\"1\" /><path clip-path=\"url(#clip840)\" d=\"M154.283 346.612 Q150.672 346.612 148.843 350.176 Q147.038 353.718 147.038 360.848 Q147.038 367.954 148.843 371.519 Q150.672 375.061 154.283 375.061 Q157.917 375.061 159.723 371.519 Q161.552 367.954 161.552 360.848 Q161.552 353.718 159.723 350.176 Q157.917 346.612 154.283 346.612 M154.283 342.908 Q160.093 342.908 163.149 347.514 Q166.227 352.098 166.227 360.848 Q166.227 369.575 163.149 374.181 Q160.093 378.764 154.283 378.764 Q148.473 378.764 145.394 374.181 Q142.339 369.575 142.339 360.848 Q142.339 352.098 145.394 347.514 Q148.473 342.908 154.283 342.908 Z\" fill=\"#000000\" fill-rule=\"evenodd\" fill-opacity=\"1\" /><path clip-path=\"url(#clip840)\" d=\"M184.445 346.612 Q180.834 346.612 179.005 350.176 Q177.2 353.718 177.2 360.848 Q177.2 367.954 179.005 371.519 Q180.834 375.061 184.445 375.061 Q188.079 375.061 189.885 371.519 Q191.713 367.954 191.713 360.848 Q191.713 353.718 189.885 350.176 Q188.079 346.612 184.445 346.612 M184.445 342.908 Q190.255 342.908 193.311 347.514 Q196.389 352.098 196.389 360.848 Q196.389 369.575 193.311 374.181 Q190.255 378.764 184.445 378.764 Q178.635 378.764 175.556 374.181 Q172.501 369.575 172.501 360.848 Q172.501 352.098 175.556 347.514 Q178.635 342.908 184.445 342.908 Z\" fill=\"#000000\" fill-rule=\"evenodd\" fill-opacity=\"1\" /><path clip-path=\"url(#clip840)\" d=\"M214.607 346.612 Q210.996 346.612 209.167 350.176 Q207.362 353.718 207.362 360.848 Q207.362 367.954 209.167 371.519 Q210.996 375.061 214.607 375.061 Q218.241 375.061 220.047 371.519 Q221.875 367.954 221.875 360.848 Q221.875 353.718 220.047 350.176 Q218.241 346.612 214.607 346.612 M214.607 342.908 Q220.417 342.908 223.473 347.514 Q226.551 352.098 226.551 360.848 Q226.551 369.575 223.473 374.181 Q220.417 378.764 214.607 378.764 Q208.797 378.764 205.718 374.181 Q202.662 369.575 202.662 360.848 Q202.662 352.098 205.718 347.514 Q208.797 342.908 214.607 342.908 Z\" fill=\"#000000\" fill-rule=\"evenodd\" fill-opacity=\"1\" /><path clip-path=\"url(#clip840)\" d=\"M16.4842 849.934 L16.4842 840.353 L48.8219 828.227 L16.4842 816.036 L16.4842 806.456 L64.0042 806.456 L64.0042 812.726 L22.277 812.726 L54.8694 824.98 L54.8694 831.441 L22.277 843.695 L64.0042 843.695 L64.0042 849.934 L16.4842 849.934 Z\" fill=\"#000000\" fill-rule=\"evenodd\" fill-opacity=\"1\" /><path clip-path=\"url(#clip840)\" d=\"M41.3104 787.263 L58.7206 787.263 L58.7206 776.951 Q58.7206 771.763 56.5881 769.28 Q54.4238 766.766 49.9996 766.766 Q45.5436 766.766 43.4429 769.28 Q41.3104 771.763 41.3104 776.951 L41.3104 787.263 M21.7677 787.263 L36.0905 787.263 L36.0905 777.747 Q36.0905 773.036 34.34 770.744 Q32.5576 768.421 28.9291 768.421 Q25.3325 768.421 23.5501 770.744 Q21.7677 773.036 21.7677 777.747 L21.7677 787.263 M16.4842 793.693 L16.4842 777.269 Q16.4842 769.917 19.5397 765.938 Q22.5952 761.96 28.2289 761.96 Q32.5894 761.96 35.1675 763.997 Q37.7456 766.034 38.3822 769.98 Q39.4007 765.238 42.6472 762.628 Q45.8619 759.986 50.6998 759.986 Q57.0655 759.986 60.5348 764.315 Q64.0042 768.644 64.0042 776.633 L64.0042 793.693 L16.4842 793.693 Z\" fill=\"#000000\" fill-rule=\"evenodd\" fill-opacity=\"1\" /><path clip-path=\"url(#clip840)\" d=\"M878.379 12.096 L913.136 12.096 L913.136 18.9825 L886.562 18.9825 L886.562 36.8065 L910.543 36.8065 L910.543 43.6931 L886.562 43.6931 L886.562 72.576 L878.379 72.576 L878.379 12.096 Z\" fill=\"#000000\" fill-rule=\"evenodd\" fill-opacity=\"1\" /><path clip-path=\"url(#clip840)\" d=\"M940.399 32.4315 Q934.403 32.4315 930.919 37.1306 Q927.436 41.7891 927.436 49.9314 Q927.436 58.0738 930.879 62.7728 Q934.363 67.4314 940.399 67.4314 Q946.353 67.4314 949.837 62.7323 Q953.321 58.0333 953.321 49.9314 Q953.321 41.8701 949.837 37.1711 Q946.353 32.4315 940.399 32.4315 M940.399 26.1121 Q950.121 26.1121 955.67 32.4315 Q961.22 38.7509 961.22 49.9314 Q961.22 61.0714 955.67 67.4314 Q950.121 73.7508 940.399 73.7508 Q930.636 73.7508 925.086 67.4314 Q919.577 61.0714 919.577 49.9314 Q919.577 38.7509 925.086 32.4315 Q930.636 26.1121 940.399 26.1121 Z\" fill=\"#000000\" fill-rule=\"evenodd\" fill-opacity=\"1\" /><path clip-path=\"url(#clip840)\" d=\"M999.866 34.1734 Q998.61 33.4443 997.111 33.1202 Q995.653 32.7556 993.871 32.7556 Q987.551 32.7556 984.148 36.8875 Q980.786 40.9789 980.786 48.6757 L980.786 72.576 L973.292 72.576 L973.292 27.2059 L980.786 27.2059 L980.786 34.2544 Q983.136 30.1225 986.903 28.1376 Q990.67 26.1121 996.058 26.1121 Q996.828 26.1121 997.759 26.2337 Q998.691 26.3147 999.825 26.5172 L999.866 34.1734 Z\" fill=\"#000000\" fill-rule=\"evenodd\" fill-opacity=\"1\" /><path clip-path=\"url(#clip840)\" d=\"M1041.55 35.9153 Q1044.34 30.8922 1048.23 28.5022 Q1052.12 26.1121 1057.39 26.1121 Q1064.48 26.1121 1068.33 31.0947 Q1072.17 36.0368 1072.17 45.1919 L1072.17 72.576 L1064.68 72.576 L1064.68 45.4349 Q1064.68 38.913 1062.37 35.7533 Q1060.06 32.5936 1055.32 32.5936 Q1049.53 32.5936 1046.17 36.4419 Q1042.81 40.2903 1042.81 46.9338 L1042.81 72.576 L1035.31 72.576 L1035.31 45.4349 Q1035.31 38.8725 1033 35.7533 Q1030.69 32.5936 1025.87 32.5936 Q1020.16 32.5936 1016.8 36.4824 Q1013.44 40.3308 1013.44 46.9338 L1013.44 72.576 L1005.94 72.576 L1005.94 27.2059 L1013.44 27.2059 L1013.44 34.2544 Q1015.99 30.082 1019.55 28.0971 Q1023.12 26.1121 1028.02 26.1121 Q1032.96 26.1121 1036.41 28.6237 Q1039.89 31.1352 1041.55 35.9153 Z\" fill=\"#000000\" fill-rule=\"evenodd\" fill-opacity=\"1\" /><path clip-path=\"url(#clip840)\" d=\"M1107.66 49.7694 Q1098.63 49.7694 1095.14 51.8354 Q1091.66 53.9013 1091.66 58.8839 Q1091.66 62.8538 1094.25 65.2034 Q1096.89 67.5124 1101.38 67.5124 Q1107.58 67.5124 1111.31 63.1374 Q1115.07 58.7219 1115.07 51.4303 L1115.07 49.7694 L1107.66 49.7694 M1122.53 46.6907 L1122.53 72.576 L1115.07 72.576 L1115.07 65.6895 Q1112.52 69.8214 1108.71 71.8063 Q1104.91 73.7508 1099.4 73.7508 Q1092.43 73.7508 1088.3 69.8619 Q1084.21 65.9325 1084.21 59.3701 Q1084.21 51.7138 1089.31 47.825 Q1094.45 43.9361 1104.62 43.9361 L1115.07 43.9361 L1115.07 43.2069 Q1115.07 38.0623 1111.67 35.2672 Q1108.31 32.4315 1102.19 32.4315 Q1098.3 32.4315 1094.62 33.3632 Q1090.93 34.295 1087.53 36.1584 L1087.53 29.2718 Q1091.62 27.692 1095.47 26.9223 Q1099.32 26.1121 1102.96 26.1121 Q1112.81 26.1121 1117.67 31.2163 Q1122.53 36.3204 1122.53 46.6907 Z\" fill=\"#000000\" fill-rule=\"evenodd\" fill-opacity=\"1\" /><path clip-path=\"url(#clip840)\" d=\"M1145.25 14.324 L1145.25 27.2059 L1160.61 27.2059 L1160.61 32.9987 L1145.25 32.9987 L1145.25 57.6282 Q1145.25 63.1779 1146.75 64.7578 Q1148.29 66.3376 1152.95 66.3376 L1160.61 66.3376 L1160.61 72.576 L1152.95 72.576 Q1144.32 72.576 1141.04 69.3758 Q1137.76 66.1351 1137.76 57.6282 L1137.76 32.9987 L1132.29 32.9987 L1132.29 27.2059 L1137.76 27.2059 L1137.76 14.324 L1145.25 14.324 Z\" fill=\"#000000\" fill-rule=\"evenodd\" fill-opacity=\"1\" /><path clip-path=\"url(#clip840)\" d=\"M1197.1 12.096 L1231.86 12.096 L1231.86 18.9825 L1205.29 18.9825 L1205.29 36.8065 L1229.27 36.8065 L1229.27 43.6931 L1205.29 43.6931 L1205.29 72.576 L1197.1 72.576 L1197.1 12.096 Z\" fill=\"#000000\" fill-rule=\"evenodd\" fill-opacity=\"1\" /><path clip-path=\"url(#clip840)\" d=\"M1238.46 27.2059 L1245.92 27.2059 L1245.92 72.576 L1238.46 72.576 L1238.46 27.2059 M1238.46 9.54393 L1245.92 9.54393 L1245.92 18.9825 L1238.46 18.9825 L1238.46 9.54393 Z\" fill=\"#000000\" fill-rule=\"evenodd\" fill-opacity=\"1\" /><path clip-path=\"url(#clip840)\" d=\"M1261.51 9.54393 L1268.97 9.54393 L1268.97 72.576 L1261.51 72.576 L1261.51 9.54393 Z\" fill=\"#000000\" fill-rule=\"evenodd\" fill-opacity=\"1\" /><path clip-path=\"url(#clip840)\" d=\"M1323.37 48.0275 L1323.37 51.6733 L1289.1 51.6733 Q1289.59 59.3701 1293.72 63.421 Q1297.89 67.4314 1305.3 67.4314 Q1309.6 67.4314 1313.61 66.3781 Q1317.66 65.3249 1321.63 63.2184 L1321.63 70.267 Q1317.62 71.9684 1313.41 72.8596 Q1309.19 73.7508 1304.86 73.7508 Q1294 73.7508 1287.64 67.4314 Q1281.32 61.1119 1281.32 50.3365 Q1281.32 39.1965 1287.32 32.6746 Q1293.35 26.1121 1303.56 26.1121 Q1312.72 26.1121 1318.02 32.0264 Q1323.37 37.9003 1323.37 48.0275 M1315.92 45.84 Q1315.84 39.7232 1312.47 36.0774 Q1309.15 32.4315 1303.64 32.4315 Q1297.4 32.4315 1293.64 35.9558 Q1289.91 39.4801 1289.34 45.8805 L1315.92 45.84 Z\" fill=\"#000000\" fill-rule=\"evenodd\" fill-opacity=\"1\" /><path clip-path=\"url(#clip840)\" d=\"M1398.56 14.0809 L1398.56 22.0612 Q1393.9 19.8332 1389.77 18.7395 Q1385.63 17.6457 1381.79 17.6457 Q1375.1 17.6457 1371.46 20.2383 Q1367.85 22.8309 1367.85 27.611 Q1367.85 31.6214 1370.24 33.6873 Q1372.67 35.7128 1379.4 36.9686 L1384.34 37.9813 Q1393.49 39.7232 1397.83 44.1387 Q1402.2 48.5136 1402.2 55.8863 Q1402.2 64.6767 1396.29 69.2137 Q1390.41 73.7508 1379.03 73.7508 Q1374.74 73.7508 1369.88 72.7785 Q1365.05 71.8063 1359.87 69.9024 L1359.87 61.4765 Q1364.85 64.2716 1369.63 65.6895 Q1374.41 67.1073 1379.03 67.1073 Q1386.04 67.1073 1389.85 64.3527 Q1393.65 61.598 1393.65 56.4939 Q1393.65 52.0379 1390.9 49.5264 Q1388.19 47.0148 1381.95 45.759 L1376.96 44.7868 Q1367.81 42.9639 1363.72 39.075 Q1359.63 35.1862 1359.63 28.2591 Q1359.63 20.2383 1365.26 15.6203 Q1370.93 11.0023 1380.85 11.0023 Q1385.11 11.0023 1389.52 11.7719 Q1393.94 12.5416 1398.56 14.0809 Z\" fill=\"#000000\" fill-rule=\"evenodd\" fill-opacity=\"1\" /><path clip-path=\"url(#clip840)\" d=\"M1414.64 27.2059 L1422.09 27.2059 L1422.09 72.576 L1414.64 72.576 L1414.64 27.2059 M1414.64 9.54393 L1422.09 9.54393 L1422.09 18.9825 L1414.64 18.9825 L1414.64 9.54393 Z\" fill=\"#000000\" fill-rule=\"evenodd\" fill-opacity=\"1\" /><path clip-path=\"url(#clip840)\" d=\"M1434.45 27.2059 L1469.85 27.2059 L1469.85 34.0114 L1441.82 66.6212 L1469.85 66.6212 L1469.85 72.576 L1433.43 72.576 L1433.43 65.7705 L1461.47 33.1607 L1434.45 33.1607 L1434.45 27.2059 Z\" fill=\"#000000\" fill-rule=\"evenodd\" fill-opacity=\"1\" /><path clip-path=\"url(#clip840)\" d=\"M1520.04 48.0275 L1520.04 51.6733 L1485.77 51.6733 Q1486.26 59.3701 1490.39 63.421 Q1494.56 67.4314 1501.98 67.4314 Q1506.27 67.4314 1510.28 66.3781 Q1514.33 65.3249 1518.3 63.2184 L1518.3 70.267 Q1514.29 71.9684 1510.08 72.8596 Q1505.86 73.7508 1501.53 73.7508 Q1490.67 73.7508 1484.31 67.4314 Q1477.99 61.1119 1477.99 50.3365 Q1477.99 39.1965 1483.99 32.6746 Q1490.03 26.1121 1500.23 26.1121 Q1509.39 26.1121 1514.7 32.0264 Q1520.04 37.9003 1520.04 48.0275 M1512.59 45.84 Q1512.51 39.7232 1509.15 36.0774 Q1505.82 32.4315 1500.31 32.4315 Q1494.08 32.4315 1490.31 35.9558 Q1486.58 39.4801 1486.01 45.8805 L1512.59 45.84 Z\" fill=\"#000000\" fill-rule=\"evenodd\" fill-opacity=\"1\" /><path clip-path=\"url(#clip840)\" d=\"M1576.55 9.62495 Q1571.12 18.942 1568.49 28.0566 Q1565.86 37.1711 1565.86 46.5287 Q1565.86 55.8863 1568.49 65.0818 Q1571.16 74.2369 1576.55 83.5134 L1570.07 83.5134 Q1563.99 73.9938 1560.96 64.7983 Q1557.96 55.6027 1557.96 46.5287 Q1557.96 37.4952 1560.96 28.3401 Q1563.95 19.1851 1570.07 9.62495 L1576.55 9.62495 Z\" fill=\"#000000\" fill-rule=\"evenodd\" fill-opacity=\"1\" /><path clip-path=\"url(#clip840)\" d=\"M1591.34 12.096 L1603.53 12.096 L1618.97 53.2532 L1634.48 12.096 L1646.67 12.096 L1646.67 72.576 L1638.69 72.576 L1638.69 19.4686 L1623.1 60.9499 L1614.87 60.9499 L1599.28 19.4686 L1599.28 72.576 L1591.34 72.576 L1591.34 12.096 Z\" fill=\"#000000\" fill-rule=\"evenodd\" fill-opacity=\"1\" /><path clip-path=\"url(#clip840)\" d=\"M1671.1 43.6931 L1671.1 65.8515 L1684.23 65.8515 Q1690.83 65.8515 1693.99 63.1374 Q1697.19 60.3828 1697.19 54.752 Q1697.19 49.0808 1693.99 46.4072 Q1690.83 43.6931 1684.23 43.6931 L1671.1 43.6931 M1671.1 18.8205 L1671.1 37.0496 L1683.21 37.0496 Q1689.21 37.0496 1692.12 34.8216 Q1695.08 32.5531 1695.08 27.935 Q1695.08 23.3575 1692.12 21.089 Q1689.21 18.8205 1683.21 18.8205 L1671.1 18.8205 M1662.92 12.096 L1683.82 12.096 Q1693.18 12.096 1698.24 15.9849 Q1703.31 19.8737 1703.31 27.0438 Q1703.31 32.5936 1700.71 35.8748 Q1698.12 39.156 1693.1 39.9662 Q1699.13 41.2625 1702.45 45.3944 Q1705.82 49.4858 1705.82 55.6432 Q1705.82 63.745 1700.31 68.1605 Q1694.8 72.576 1684.63 72.576 L1662.92 72.576 L1662.92 12.096 Z\" fill=\"#000000\" fill-rule=\"evenodd\" fill-opacity=\"1\" /><path clip-path=\"url(#clip840)\" d=\"M1718.33 9.62495 L1724.82 9.62495 Q1730.89 19.1851 1733.89 28.3401 Q1736.93 37.4952 1736.93 46.5287 Q1736.93 55.6027 1733.89 64.7983 Q1730.89 73.9938 1724.82 83.5134 L1718.33 83.5134 Q1723.72 74.2369 1726.36 65.0818 Q1729.03 55.8863 1729.03 46.5287 Q1729.03 37.1711 1726.36 28.0566 Q1723.72 18.942 1718.33 9.62495 Z\" fill=\"#000000\" fill-rule=\"evenodd\" fill-opacity=\"1\" /><path clip-path=\"url(#clip842)\" d=\"\n",
       "M377.516 1431.13 L377.516 1447.87 L634.106 1447.87 L634.106 1431.13 L377.516 1431.13 L377.516 1431.13  Z\n",
       "  \" fill=\"#009af9\" fill-rule=\"evenodd\" fill-opacity=\"1\"/>\n",
       "<polyline clip-path=\"url(#clip842)\" style=\"stroke:#000000; stroke-linecap:butt; stroke-linejoin:round; stroke-width:4; stroke-opacity:1; fill:none\" points=\"\n",
       "  377.516,1431.13 377.516,1447.87 634.106,1447.87 634.106,1431.13 377.516,1431.13 \n",
       "  \"/>\n",
       "<path clip-path=\"url(#clip842)\" d=\"\n",
       "M698.253 1394.25 L698.253 1447.87 L954.843 1447.87 L954.843 1394.25 L698.253 1394.25 L698.253 1394.25  Z\n",
       "  \" fill=\"#009af9\" fill-rule=\"evenodd\" fill-opacity=\"1\"/>\n",
       "<polyline clip-path=\"url(#clip842)\" style=\"stroke:#000000; stroke-linecap:butt; stroke-linejoin:round; stroke-width:4; stroke-opacity:1; fill:none\" points=\"\n",
       "  698.253,1394.25 698.253,1447.87 954.843,1447.87 954.843,1394.25 698.253,1394.25 \n",
       "  \"/>\n",
       "<path clip-path=\"url(#clip842)\" d=\"\n",
       "M1018.99 1394.19 L1018.99 1447.87 L1275.58 1447.87 L1275.58 1394.19 L1018.99 1394.19 L1018.99 1394.19  Z\n",
       "  \" fill=\"#009af9\" fill-rule=\"evenodd\" fill-opacity=\"1\"/>\n",
       "<polyline clip-path=\"url(#clip842)\" style=\"stroke:#000000; stroke-linecap:butt; stroke-linejoin:round; stroke-width:4; stroke-opacity:1; fill:none\" points=\"\n",
       "  1018.99,1394.19 1018.99,1447.87 1275.58,1447.87 1275.58,1394.19 1018.99,1394.19 \n",
       "  \"/>\n",
       "<path clip-path=\"url(#clip842)\" d=\"\n",
       "M1339.73 876.847 L1339.73 1447.87 L1596.32 1447.87 L1596.32 876.847 L1339.73 876.847 L1339.73 876.847  Z\n",
       "  \" fill=\"#009af9\" fill-rule=\"evenodd\" fill-opacity=\"1\"/>\n",
       "<polyline clip-path=\"url(#clip842)\" style=\"stroke:#000000; stroke-linecap:butt; stroke-linejoin:round; stroke-width:4; stroke-opacity:1; fill:none\" points=\"\n",
       "  1339.73,876.847 1339.73,1447.87 1596.32,1447.87 1596.32,876.847 1339.73,876.847 \n",
       "  \"/>\n",
       "<path clip-path=\"url(#clip842)\" d=\"\n",
       "M1660.46 876.843 L1660.46 1447.87 L1917.05 1447.87 L1917.05 876.843 L1660.46 876.843 L1660.46 876.843  Z\n",
       "  \" fill=\"#009af9\" fill-rule=\"evenodd\" fill-opacity=\"1\"/>\n",
       "<polyline clip-path=\"url(#clip842)\" style=\"stroke:#000000; stroke-linecap:butt; stroke-linejoin:round; stroke-width:4; stroke-opacity:1; fill:none\" points=\"\n",
       "  1660.46,876.843 1660.46,1447.87 1917.05,1447.87 1917.05,876.843 1660.46,876.843 \n",
       "  \"/>\n",
       "<path clip-path=\"url(#clip842)\" d=\"\n",
       "M1981.2 162.047 L1981.2 1447.87 L2237.79 1447.87 L2237.79 162.047 L1981.2 162.047 L1981.2 162.047  Z\n",
       "  \" fill=\"#009af9\" fill-rule=\"evenodd\" fill-opacity=\"1\"/>\n",
       "<polyline clip-path=\"url(#clip842)\" style=\"stroke:#000000; stroke-linecap:butt; stroke-linejoin:round; stroke-width:4; stroke-opacity:1; fill:none\" points=\"\n",
       "  1981.2,162.047 1981.2,1447.87 2237.79,1447.87 2237.79,162.047 1981.2,162.047 \n",
       "  \"/>\n",
       "<circle clip-path=\"url(#clip842)\" style=\"fill:#009af9; stroke:none; fill-opacity:0\" cx=\"505.811\" cy=\"1431.13\" r=\"2\"/>\n",
       "<circle clip-path=\"url(#clip842)\" style=\"fill:#009af9; stroke:none; fill-opacity:0\" cx=\"826.548\" cy=\"1394.25\" r=\"2\"/>\n",
       "<circle clip-path=\"url(#clip842)\" style=\"fill:#009af9; stroke:none; fill-opacity:0\" cx=\"1147.29\" cy=\"1394.19\" r=\"2\"/>\n",
       "<circle clip-path=\"url(#clip842)\" style=\"fill:#009af9; stroke:none; fill-opacity:0\" cx=\"1468.02\" cy=\"876.847\" r=\"2\"/>\n",
       "<circle clip-path=\"url(#clip842)\" style=\"fill:#009af9; stroke:none; fill-opacity:0\" cx=\"1788.76\" cy=\"876.843\" r=\"2\"/>\n",
       "<circle clip-path=\"url(#clip842)\" style=\"fill:#009af9; stroke:none; fill-opacity:0\" cx=\"2109.5\" cy=\"162.047\" r=\"2\"/>\n",
       "<path clip-path=\"url(#clip840)\" d=\"\n",
       "M1959.17 272.585 L2283.08 272.585 L2283.08 168.905 L1959.17 168.905  Z\n",
       "  \" fill=\"#ffffff\" fill-rule=\"evenodd\" fill-opacity=\"1\"/>\n",
       "<polyline clip-path=\"url(#clip840)\" style=\"stroke:#000000; stroke-linecap:butt; stroke-linejoin:round; stroke-width:4; stroke-opacity:1; fill:none\" points=\"\n",
       "  1959.17,272.585 2283.08,272.585 2283.08,168.905 1959.17,168.905 1959.17,272.585 \n",
       "  \"/>\n",
       "<path clip-path=\"url(#clip840)\" d=\"\n",
       "M1982.4 241.481 L2121.74 241.481 L2121.74 200.009 L1982.4 200.009 L1982.4 241.481  Z\n",
       "  \" fill=\"#009af9\" fill-rule=\"evenodd\" fill-opacity=\"1\"/>\n",
       "<polyline clip-path=\"url(#clip840)\" style=\"stroke:#000000; stroke-linecap:butt; stroke-linejoin:round; stroke-width:4; stroke-opacity:1; fill:none\" points=\"\n",
       "  1982.4,241.481 2121.74,241.481 2121.74,200.009 1982.4,200.009 1982.4,241.481 \n",
       "  \"/>\n",
       "<path clip-path=\"url(#clip840)\" d=\"M2167.21 204.599 L2167.21 209.159 Q2164.55 207.886 2162.19 207.261 Q2159.83 206.636 2157.63 206.636 Q2153.81 206.636 2151.73 208.117 Q2149.67 209.599 2149.67 212.33 Q2149.67 214.622 2151.03 215.803 Q2152.42 216.96 2156.26 217.678 L2159.09 218.256 Q2164.32 219.252 2166.8 221.775 Q2169.3 224.275 2169.3 228.488 Q2169.3 233.511 2165.92 236.103 Q2162.56 238.696 2156.06 238.696 Q2153.6 238.696 2150.82 238.14 Q2148.07 237.585 2145.11 236.497 L2145.11 231.682 Q2147.95 233.279 2150.68 234.089 Q2153.42 234.9 2156.06 234.9 Q2160.06 234.9 2162.24 233.326 Q2164.41 231.752 2164.41 228.835 Q2164.41 226.289 2162.84 224.853 Q2161.29 223.418 2157.72 222.701 L2154.87 222.145 Q2149.64 221.103 2147.31 218.881 Q2144.97 216.659 2144.97 212.701 Q2144.97 208.117 2148.18 205.479 Q2151.43 202.84 2157.1 202.84 Q2159.53 202.84 2162.05 203.279 Q2164.57 203.719 2167.21 204.599 Z\" fill=\"#000000\" fill-rule=\"evenodd\" fill-opacity=\"1\" /><path clip-path=\"url(#clip840)\" d=\"M2176.4 212.099 L2180.66 212.099 L2180.66 238.025 L2176.4 238.025 L2176.4 212.099 M2176.4 202.006 L2180.66 202.006 L2180.66 207.4 L2176.4 207.4 L2176.4 202.006 Z\" fill=\"#000000\" fill-rule=\"evenodd\" fill-opacity=\"1\" /><path clip-path=\"url(#clip840)\" d=\"M2187.72 212.099 L2207.95 212.099 L2207.95 215.988 L2191.93 234.622 L2207.95 234.622 L2207.95 238.025 L2187.14 238.025 L2187.14 234.136 L2203.16 215.502 L2187.72 215.502 L2187.72 212.099 Z\" fill=\"#000000\" fill-rule=\"evenodd\" fill-opacity=\"1\" /><path clip-path=\"url(#clip840)\" d=\"M2236.63 223.997 L2236.63 226.08 L2217.05 226.08 Q2217.33 230.478 2219.69 232.793 Q2222.07 235.085 2226.31 235.085 Q2228.76 235.085 2231.05 234.483 Q2233.37 233.881 2235.64 232.677 L2235.64 236.705 Q2233.35 237.677 2230.94 238.187 Q2228.53 238.696 2226.05 238.696 Q2219.85 238.696 2216.22 235.085 Q2212.61 231.474 2212.61 225.316 Q2212.61 218.951 2216.03 215.224 Q2219.48 211.474 2225.31 211.474 Q2230.55 211.474 2233.58 214.853 Q2236.63 218.21 2236.63 223.997 M2232.37 222.747 Q2232.33 219.252 2230.41 217.168 Q2228.51 215.085 2225.36 215.085 Q2221.8 215.085 2219.64 217.099 Q2217.51 219.113 2217.19 222.77 L2232.37 222.747 Z\" fill=\"#000000\" fill-rule=\"evenodd\" fill-opacity=\"1\" /></svg>\n"
      ]
     },
     "execution_count": 41,
     "metadata": {},
     "output_type": "execute_result"
    }
   ],
   "source": [
    "@df df plot(:file, :size/1024^2, seriestype=:bar, title = \"Format File Size (MB)\", label=\"Size\", ylab=\"MB\")"
   ]
  },
  {
   "cell_type": "code",
   "execution_count": 42,
   "metadata": {},
   "outputs": [
    {
     "name": "stdout",
     "output_type": "stream",
     "text": [
      "First run\n",
      "CSV.jl\n",
      "  9.591809 seconds (1.19 M allocations: 378.971 MiB, 1.49% gc time, 8.59% compilation time)\n",
      "Serialization\n",
      "  7.485597 seconds (99.32 M allocations: 1.576 GiB, 3.55% gc time, 0.65% compilation time)\n",
      "JDF.jl\n",
      "  1.914232 seconds (347.85 k allocations: 329.198 MiB, 49.90% compilation time)\n",
      "JLSO.jl\n",
      "  4.620171 seconds (99.42 M allocations: 1.595 GiB, 6.12% gc time, 0.97% compilation time)\n",
      "Arrow.jl\n",
      "  0.393807 seconds (490.49 k allocations: 26.209 MiB, 98.14% compilation time)\n",
      "  1.098786 seconds (103.50 k allocations: 101.331 MiB)\n",
      "JSONTables.jl arraytable\n",
      " 92.349228 seconds (2.40 M allocations: 13.533 GiB, 2.03% gc time, 0.00% compilation time)\n",
      "JSONTables.jl objecttable\n",
      "  6.808298 seconds (54.19 k allocations: 2.974 GiB, 14.03% gc time, 0.98% compilation time)\n",
      "Second run\n",
      "  8.771823 seconds (22.25 k allocations: 309.540 MiB)\n",
      "Serialization\n",
      "  8.042124 seconds (99.30 M allocations: 1.575 GiB, 3.82% gc time)\n",
      "JDF.jl\n",
      "  0.930131 seconds (89.24 k allocations: 316.902 MiB)\n",
      "JLSO.jl\n",
      "  4.547233 seconds (99.41 M allocations: 1.594 GiB, 4.07% gc time)\n",
      "Arrow.jl\n",
      "  0.015875 seconds (68.52 k allocations: 3.344 MiB)\n",
      "  1.093313 seconds (103.50 k allocations: 101.331 MiB)\n",
      "JSONTables.jl arraytable\n",
      " 90.192542 seconds (2.40 M allocations: 13.533 GiB, 1.61% gc time)\n",
      "JSONTables.jl objecttable\n",
      "  6.580386 seconds (9.06 k allocations: 2.972 GiB, 14.28% gc time)\n"
     ]
    }
   ],
   "source": [
    "println(\"First run\")\n",
    "println(\"CSV.jl\")\n",
    "csvread1 = @elapsed @time CSV.read(\"bigdf1.csv\", DataFrame)\n",
    "println(\"Serialization\")\n",
    "serializeread1 = @elapsed @time open(deserialize, \"bigdf.bin\")\n",
    "println(\"JDF.jl\")\n",
    "jdfread1 = @elapsed @time JDF.load(\"bigdf.jdf\") |> DataFrame\n",
    "println(\"JLSO.jl\")\n",
    "jlsoread1 = @elapsed @time JLSO.load(\"bigdf.jlso\")\n",
    "println(\"Arrow.jl\")\n",
    "arrowread1 = @elapsed @time df_tmp = Arrow.Table(\"bigdf.arrow\") |> DataFrame\n",
    "arrowread1copy = @elapsed @time copy(df_tmp)\n",
    "println(\"JSONTables.jl arraytable\")\n",
    "jsontablesaread1 = @elapsed @time open(jsontable, \"bigdf1.json\")\n",
    "println(\"JSONTables.jl objecttable\")\n",
    "jsontablesoread1 = @elapsed @time open(jsontable, \"bigdf2.json\")\n",
    "println(\"Second run\")\n",
    "csvread2 = @elapsed @time CSV.read(\"bigdf1.csv\", DataFrame)\n",
    "println(\"Serialization\")\n",
    "serializeread2 = @elapsed @time open(deserialize, \"bigdf.bin\")\n",
    "println(\"JDF.jl\")\n",
    "jdfread2 = @elapsed @time JDF.load(\"bigdf.jdf\") |> DataFrame\n",
    "println(\"JLSO.jl\")\n",
    "jlsoread2 = @elapsed @time JLSO.load(\"bigdf.jlso\")\n",
    "println(\"Arrow.jl\")\n",
    "arrowread2 = @elapsed @time df_tmp = Arrow.Table(\"bigdf.arrow\") |> DataFrame\n",
    "arrowread2copy = @elapsed @time copy(df_tmp)\n",
    "println(\"JSONTables.jl arraytable\")\n",
    "jsontablesaread2 = @elapsed @time open(jsontable, \"bigdf1.json\")\n",
    "println(\"JSONTables.jl objecttable\")\n",
    "jsontablesoread2 = @elapsed @time open(jsontable, \"bigdf2.json\");"
   ]
  },
  {
   "cell_type": "code",
   "execution_count": 43,
   "metadata": {},
   "outputs": [
    {
     "data": {
      "image/svg+xml": [
       "<?xml version=\"1.0\" encoding=\"utf-8\"?>\n",
       "<svg xmlns=\"http://www.w3.org/2000/svg\" xmlns:xlink=\"http://www.w3.org/1999/xlink\" width=\"600\" height=\"400\" viewBox=\"0 0 2400 1600\">\n",
       "<defs>\n",
       "  <clipPath id=\"clip880\">\n",
       "    <rect x=\"0\" y=\"0\" width=\"2400\" height=\"1600\"/>\n",
       "  </clipPath>\n",
       "</defs>\n",
       "<path clip-path=\"url(#clip880)\" d=\"\n",
       "M0 1600 L2400 1600 L2400 0 L0 0  Z\n",
       "  \" fill=\"#ffffff\" fill-rule=\"evenodd\" fill-opacity=\"1\"/>\n",
       "<defs>\n",
       "  <clipPath id=\"clip881\">\n",
       "    <rect x=\"480\" y=\"0\" width=\"1681\" height=\"1600\"/>\n",
       "  </clipPath>\n",
       "</defs>\n",
       "<path clip-path=\"url(#clip880)\" d=\"\n",
       "M175.445 1451.89 L2352.76 1451.89 L2352.76 244.432 L175.445 244.432  Z\n",
       "  \" fill=\"#ffffff\" fill-rule=\"evenodd\" fill-opacity=\"1\"/>\n",
       "<defs>\n",
       "  <clipPath id=\"clip882\">\n",
       "    <rect x=\"175\" y=\"244\" width=\"2178\" height=\"1208\"/>\n",
       "  </clipPath>\n",
       "</defs>\n",
       "<polyline clip-path=\"url(#clip882)\" style=\"stroke:#000000; stroke-linecap:butt; stroke-linejoin:round; stroke-width:2; stroke-opacity:0.1; fill:none\" points=\"\n",
       "  406.333,1451.89 406.333,244.432 \n",
       "  \"/>\n",
       "<polyline clip-path=\"url(#clip882)\" style=\"stroke:#000000; stroke-linecap:butt; stroke-linejoin:round; stroke-width:2; stroke-opacity:0.1; fill:none\" points=\"\n",
       "  692.256,1451.89 692.256,244.432 \n",
       "  \"/>\n",
       "<polyline clip-path=\"url(#clip882)\" style=\"stroke:#000000; stroke-linecap:butt; stroke-linejoin:round; stroke-width:2; stroke-opacity:0.1; fill:none\" points=\"\n",
       "  978.178,1451.89 978.178,244.432 \n",
       "  \"/>\n",
       "<polyline clip-path=\"url(#clip882)\" style=\"stroke:#000000; stroke-linecap:butt; stroke-linejoin:round; stroke-width:2; stroke-opacity:0.1; fill:none\" points=\"\n",
       "  1264.1,1451.89 1264.1,244.432 \n",
       "  \"/>\n",
       "<polyline clip-path=\"url(#clip882)\" style=\"stroke:#000000; stroke-linecap:butt; stroke-linejoin:round; stroke-width:2; stroke-opacity:0.1; fill:none\" points=\"\n",
       "  1550.02,1451.89 1550.02,244.432 \n",
       "  \"/>\n",
       "<polyline clip-path=\"url(#clip882)\" style=\"stroke:#000000; stroke-linecap:butt; stroke-linejoin:round; stroke-width:2; stroke-opacity:0.1; fill:none\" points=\"\n",
       "  1835.95,1451.89 1835.95,244.432 \n",
       "  \"/>\n",
       "<polyline clip-path=\"url(#clip882)\" style=\"stroke:#000000; stroke-linecap:butt; stroke-linejoin:round; stroke-width:2; stroke-opacity:0.1; fill:none\" points=\"\n",
       "  2121.87,1451.89 2121.87,244.432 \n",
       "  \"/>\n",
       "<polyline clip-path=\"url(#clip880)\" style=\"stroke:#000000; stroke-linecap:butt; stroke-linejoin:round; stroke-width:4; stroke-opacity:1; fill:none\" points=\"\n",
       "  175.445,1451.89 2352.76,1451.89 \n",
       "  \"/>\n",
       "<polyline clip-path=\"url(#clip880)\" style=\"stroke:#000000; stroke-linecap:butt; stroke-linejoin:round; stroke-width:4; stroke-opacity:1; fill:none\" points=\"\n",
       "  406.333,1451.89 406.333,1432.99 \n",
       "  \"/>\n",
       "<polyline clip-path=\"url(#clip880)\" style=\"stroke:#000000; stroke-linecap:butt; stroke-linejoin:round; stroke-width:4; stroke-opacity:1; fill:none\" points=\"\n",
       "  692.256,1451.89 692.256,1432.99 \n",
       "  \"/>\n",
       "<polyline clip-path=\"url(#clip880)\" style=\"stroke:#000000; stroke-linecap:butt; stroke-linejoin:round; stroke-width:4; stroke-opacity:1; fill:none\" points=\"\n",
       "  978.178,1451.89 978.178,1432.99 \n",
       "  \"/>\n",
       "<polyline clip-path=\"url(#clip880)\" style=\"stroke:#000000; stroke-linecap:butt; stroke-linejoin:round; stroke-width:4; stroke-opacity:1; fill:none\" points=\"\n",
       "  1264.1,1451.89 1264.1,1432.99 \n",
       "  \"/>\n",
       "<polyline clip-path=\"url(#clip880)\" style=\"stroke:#000000; stroke-linecap:butt; stroke-linejoin:round; stroke-width:4; stroke-opacity:1; fill:none\" points=\"\n",
       "  1550.02,1451.89 1550.02,1432.99 \n",
       "  \"/>\n",
       "<polyline clip-path=\"url(#clip880)\" style=\"stroke:#000000; stroke-linecap:butt; stroke-linejoin:round; stroke-width:4; stroke-opacity:1; fill:none\" points=\"\n",
       "  1835.95,1451.89 1835.95,1432.99 \n",
       "  \"/>\n",
       "<polyline clip-path=\"url(#clip880)\" style=\"stroke:#000000; stroke-linecap:butt; stroke-linejoin:round; stroke-width:4; stroke-opacity:1; fill:none\" points=\"\n",
       "  2121.87,1451.89 2121.87,1432.99 \n",
       "  \"/>\n",
       "<path clip-path=\"url(#clip880)\" d=\"M337.387 1484.33 L331.044 1501.53 L343.753 1501.53 L337.387 1484.33 M334.748 1479.73 L340.049 1479.73 L353.22 1514.29 L348.359 1514.29 L345.211 1505.42 L329.632 1505.42 L326.484 1514.29 L321.554 1514.29 L334.748 1479.73 Z\" fill=\"#000000\" fill-rule=\"evenodd\" fill-opacity=\"1\" /><path clip-path=\"url(#clip880)\" d=\"M373.104 1492.34 Q372.387 1491.93 371.53 1491.74 Q370.697 1491.53 369.678 1491.53 Q366.067 1491.53 364.123 1493.89 Q362.202 1496.23 362.202 1500.63 L362.202 1514.29 L357.919 1514.29 L357.919 1488.36 L362.202 1488.36 L362.202 1492.39 Q363.544 1490.03 365.697 1488.89 Q367.85 1487.74 370.928 1487.74 Q371.368 1487.74 371.901 1487.81 Q372.433 1487.85 373.081 1487.97 L373.104 1492.34 Z\" fill=\"#000000\" fill-rule=\"evenodd\" fill-opacity=\"1\" /><path clip-path=\"url(#clip880)\" d=\"M391.762 1492.34 Q391.044 1491.93 390.188 1491.74 Q389.354 1491.53 388.336 1491.53 Q384.725 1491.53 382.78 1493.89 Q380.859 1496.23 380.859 1500.63 L380.859 1514.29 L376.576 1514.29 L376.576 1488.36 L380.859 1488.36 L380.859 1492.39 Q382.201 1490.03 384.354 1488.89 Q386.507 1487.74 389.586 1487.74 Q390.026 1487.74 390.558 1487.81 Q391.09 1487.85 391.738 1487.97 L391.762 1492.34 Z\" fill=\"#000000\" fill-rule=\"evenodd\" fill-opacity=\"1\" /><path clip-path=\"url(#clip880)\" d=\"M405.234 1491.35 Q401.808 1491.35 399.817 1494.03 Q397.826 1496.7 397.826 1501.35 Q397.826 1506 399.794 1508.69 Q401.785 1511.35 405.234 1511.35 Q408.637 1511.35 410.627 1508.66 Q412.618 1505.98 412.618 1501.35 Q412.618 1496.74 410.627 1494.06 Q408.637 1491.35 405.234 1491.35 M405.234 1487.74 Q410.789 1487.74 413.961 1491.35 Q417.132 1494.96 417.132 1501.35 Q417.132 1507.71 413.961 1511.35 Q410.789 1514.96 405.234 1514.96 Q399.655 1514.96 396.484 1511.35 Q393.336 1507.71 393.336 1501.35 Q393.336 1494.96 396.484 1491.35 Q399.655 1487.74 405.234 1487.74 Z\" fill=\"#000000\" fill-rule=\"evenodd\" fill-opacity=\"1\" /><path clip-path=\"url(#clip880)\" d=\"M421.715 1488.36 L425.974 1488.36 L431.298 1508.59 L436.599 1488.36 L441.622 1488.36 L446.946 1508.59 L452.247 1488.36 L456.507 1488.36 L449.724 1514.29 L444.701 1514.29 L439.122 1493.04 L433.521 1514.29 L428.498 1514.29 L421.715 1488.36 Z\" fill=\"#000000\" fill-rule=\"evenodd\" fill-opacity=\"1\" /><path clip-path=\"url(#clip880)\" d=\"M459.215 1508.41 L464.099 1508.41 L464.099 1514.29 L459.215 1514.29 L459.215 1508.41 Z\" fill=\"#000000\" fill-rule=\"evenodd\" fill-opacity=\"1\" /><path clip-path=\"url(#clip880)\" d=\"M473.682 1488.36 L477.942 1488.36 L477.942 1514.75 Q477.942 1519.7 476.044 1521.93 Q474.169 1524.15 469.979 1524.15 L468.358 1524.15 L468.358 1520.54 L469.493 1520.54 Q471.923 1520.54 472.803 1519.4 Q473.682 1518.29 473.682 1514.75 L473.682 1488.36 M473.682 1478.27 L477.942 1478.27 L477.942 1483.66 L473.682 1483.66 L473.682 1478.27 Z\" fill=\"#000000\" fill-rule=\"evenodd\" fill-opacity=\"1\" /><path clip-path=\"url(#clip880)\" d=\"M486.854 1478.27 L491.113 1478.27 L491.113 1514.29 L486.854 1514.29 L486.854 1478.27 Z\" fill=\"#000000\" fill-rule=\"evenodd\" fill-opacity=\"1\" /><path clip-path=\"url(#clip880)\" d=\"M623.309 1491.25 L616.967 1508.45 L629.675 1508.45 L623.309 1491.25 M620.67 1486.64 L625.971 1486.64 L639.143 1521.2 L634.281 1521.2 L631.133 1512.33 L615.555 1512.33 L612.407 1521.2 L607.476 1521.2 L620.67 1486.64 Z\" fill=\"#000000\" fill-rule=\"evenodd\" fill-opacity=\"1\" /><path clip-path=\"url(#clip880)\" d=\"M659.027 1499.26 Q658.309 1498.84 657.453 1498.65 Q656.619 1498.45 655.601 1498.45 Q651.99 1498.45 650.045 1500.81 Q648.124 1503.14 648.124 1507.54 L648.124 1521.2 L643.842 1521.2 L643.842 1495.27 L648.124 1495.27 L648.124 1499.3 Q649.467 1496.94 651.619 1495.81 Q653.772 1494.65 656.851 1494.65 Q657.291 1494.65 657.823 1494.72 Q658.355 1494.76 659.004 1494.88 L659.027 1499.26 Z\" fill=\"#000000\" fill-rule=\"evenodd\" fill-opacity=\"1\" /><path clip-path=\"url(#clip880)\" d=\"M677.684 1499.26 Q676.966 1498.84 676.11 1498.65 Q675.277 1498.45 674.258 1498.45 Q670.647 1498.45 668.703 1500.81 Q666.781 1503.14 666.781 1507.54 L666.781 1521.2 L662.499 1521.2 L662.499 1495.27 L666.781 1495.27 L666.781 1499.3 Q668.124 1496.94 670.277 1495.81 Q672.429 1494.65 675.508 1494.65 Q675.948 1494.65 676.48 1494.72 Q677.013 1494.76 677.661 1494.88 L677.684 1499.26 Z\" fill=\"#000000\" fill-rule=\"evenodd\" fill-opacity=\"1\" /><path clip-path=\"url(#clip880)\" d=\"M691.156 1498.26 Q687.73 1498.26 685.74 1500.95 Q683.749 1503.61 683.749 1508.26 Q683.749 1512.91 685.716 1515.6 Q687.707 1518.26 691.156 1518.26 Q694.559 1518.26 696.55 1515.57 Q698.54 1512.89 698.54 1508.26 Q698.54 1503.65 696.55 1500.97 Q694.559 1498.26 691.156 1498.26 M691.156 1494.65 Q696.712 1494.65 699.883 1498.26 Q703.054 1501.87 703.054 1508.26 Q703.054 1514.63 699.883 1518.26 Q696.712 1521.87 691.156 1521.87 Q685.578 1521.87 682.406 1518.26 Q679.258 1514.63 679.258 1508.26 Q679.258 1501.87 682.406 1498.26 Q685.578 1494.65 691.156 1494.65 Z\" fill=\"#000000\" fill-rule=\"evenodd\" fill-opacity=\"1\" /><path clip-path=\"url(#clip880)\" d=\"M707.638 1495.27 L711.897 1495.27 L717.221 1515.51 L722.522 1495.27 L727.545 1495.27 L732.869 1515.51 L738.17 1495.27 L742.429 1495.27 L735.647 1521.2 L730.624 1521.2 L725.045 1499.95 L719.443 1521.2 L714.42 1521.2 L707.638 1495.27 Z\" fill=\"#000000\" fill-rule=\"evenodd\" fill-opacity=\"1\" /><path clip-path=\"url(#clip880)\" d=\"M745.137 1515.32 L750.022 1515.32 L750.022 1521.2 L745.137 1521.2 L745.137 1515.32 Z\" fill=\"#000000\" fill-rule=\"evenodd\" fill-opacity=\"1\" /><path clip-path=\"url(#clip880)\" d=\"M759.605 1495.27 L763.864 1495.27 L763.864 1521.66 Q763.864 1526.62 761.966 1528.84 Q760.091 1531.06 755.901 1531.06 L754.281 1531.06 L754.281 1527.45 L755.415 1527.45 Q757.846 1527.45 758.725 1526.32 Q759.605 1525.2 759.605 1521.66 L759.605 1495.27 M759.605 1485.18 L763.864 1485.18 L763.864 1490.58 L759.605 1490.58 L759.605 1485.18 Z\" fill=\"#000000\" fill-rule=\"evenodd\" fill-opacity=\"1\" /><path clip-path=\"url(#clip880)\" d=\"M772.776 1485.18 L777.035 1485.18 L777.035 1521.2 L772.776 1521.2 L772.776 1485.18 Z\" fill=\"#000000\" fill-rule=\"evenodd\" fill-opacity=\"1\" /><path clip-path=\"url(#clip880)\" d=\"M658.17 1548.11 L658.17 1552.09 Q656.365 1551.1 654.536 1550.61 Q652.73 1550.1 650.879 1550.1 Q646.735 1550.1 644.443 1552.74 Q642.152 1555.35 642.152 1560.1 Q642.152 1564.85 644.443 1567.48 Q646.735 1570.1 650.879 1570.1 Q652.73 1570.1 654.536 1569.61 Q656.365 1569.1 658.17 1568.11 L658.17 1572.04 Q656.388 1572.88 654.467 1573.29 Q652.568 1573.71 650.416 1573.71 Q644.559 1573.71 641.11 1570.03 Q637.661 1566.35 637.661 1560.1 Q637.661 1553.76 641.133 1550.12 Q644.629 1546.49 650.693 1546.49 Q652.661 1546.49 654.536 1546.91 Q656.411 1547.3 658.17 1548.11 Z\" fill=\"#000000\" fill-rule=\"evenodd\" fill-opacity=\"1\" /><path clip-path=\"url(#clip880)\" d=\"M675.624 1550.1 Q672.198 1550.1 670.207 1552.79 Q668.216 1555.45 668.216 1560.1 Q668.216 1564.75 670.184 1567.44 Q672.175 1570.1 675.624 1570.1 Q679.027 1570.1 681.017 1567.41 Q683.008 1564.73 683.008 1560.1 Q683.008 1555.49 681.017 1552.81 Q679.027 1550.1 675.624 1550.1 M675.624 1546.49 Q681.179 1546.49 684.351 1550.1 Q687.522 1553.71 687.522 1560.1 Q687.522 1566.47 684.351 1570.1 Q681.179 1573.71 675.624 1573.71 Q670.045 1573.71 666.874 1570.1 Q663.726 1566.47 663.726 1560.1 Q663.726 1553.71 666.874 1550.1 Q670.045 1546.49 675.624 1546.49 Z\" fill=\"#000000\" fill-rule=\"evenodd\" fill-opacity=\"1\" /><path clip-path=\"url(#clip880)\" d=\"M698.702 1569.15 L698.702 1582.9 L694.42 1582.9 L694.42 1547.11 L698.702 1547.11 L698.702 1551.05 Q700.045 1548.73 702.082 1547.62 Q704.142 1546.49 706.989 1546.49 Q711.712 1546.49 714.651 1550.24 Q717.614 1553.99 717.614 1560.1 Q717.614 1566.21 714.651 1569.96 Q711.712 1573.71 706.989 1573.71 Q704.142 1573.71 702.082 1572.6 Q700.045 1571.47 698.702 1569.15 M713.193 1560.1 Q713.193 1555.4 711.249 1552.74 Q709.327 1550.05 705.948 1550.05 Q702.568 1550.05 700.624 1552.74 Q698.702 1555.4 698.702 1560.1 Q698.702 1564.8 700.624 1567.48 Q702.568 1570.15 705.948 1570.15 Q709.327 1570.15 711.249 1567.48 Q713.193 1564.8 713.193 1560.1 Z\" fill=\"#000000\" fill-rule=\"evenodd\" fill-opacity=\"1\" /><path clip-path=\"url(#clip880)\" d=\"M735.461 1575.45 Q733.656 1580.08 731.943 1581.49 Q730.23 1582.9 727.36 1582.9 L723.957 1582.9 L723.957 1579.34 L726.457 1579.34 Q728.216 1579.34 729.188 1578.5 Q730.161 1577.67 731.341 1574.57 L732.105 1572.62 L721.619 1547.11 L726.133 1547.11 L734.235 1567.39 L742.336 1547.11 L746.85 1547.11 L735.461 1575.45 Z\" fill=\"#000000\" fill-rule=\"evenodd\" fill-opacity=\"1\" /><path clip-path=\"url(#clip880)\" d=\"M944.139 1482.39 L944.139 1487.32 Q941.778 1485.12 939.093 1484.03 Q936.431 1482.95 933.421 1482.95 Q927.496 1482.95 924.347 1486.58 Q921.199 1490.19 921.199 1497.04 Q921.199 1503.87 924.347 1507.51 Q927.496 1511.12 933.421 1511.12 Q936.431 1511.12 939.093 1510.03 Q941.778 1508.94 944.139 1506.74 L944.139 1511.63 Q941.685 1513.29 938.931 1514.13 Q936.199 1514.96 933.144 1514.96 Q925.296 1514.96 920.783 1510.17 Q916.269 1505.35 916.269 1497.04 Q916.269 1488.71 920.783 1483.92 Q925.296 1479.1 933.144 1479.1 Q936.245 1479.1 938.977 1479.94 Q941.732 1480.75 944.139 1482.39 Z\" fill=\"#000000\" fill-rule=\"evenodd\" fill-opacity=\"1\" /><path clip-path=\"url(#clip880)\" d=\"M972.079 1480.86 L972.079 1485.42 Q969.417 1484.15 967.056 1483.52 Q964.694 1482.9 962.495 1482.9 Q958.676 1482.9 956.593 1484.38 Q954.532 1485.86 954.532 1488.59 Q954.532 1490.89 955.898 1492.07 Q957.287 1493.22 961.13 1493.94 L963.954 1494.52 Q969.185 1495.51 971.662 1498.04 Q974.162 1500.54 974.162 1504.75 Q974.162 1509.77 970.782 1512.37 Q967.426 1514.96 960.921 1514.96 Q958.468 1514.96 955.69 1514.4 Q952.935 1513.85 949.972 1512.76 L949.972 1507.95 Q952.819 1509.54 955.551 1510.35 Q958.282 1511.16 960.921 1511.16 Q964.926 1511.16 967.102 1509.59 Q969.278 1508.01 969.278 1505.1 Q969.278 1502.55 967.704 1501.12 Q966.153 1499.68 962.588 1498.96 L959.741 1498.41 Q954.509 1497.37 952.171 1495.14 Q949.833 1492.92 949.833 1488.96 Q949.833 1484.38 953.051 1481.74 Q956.292 1479.1 961.963 1479.1 Q964.393 1479.1 966.917 1479.54 Q969.44 1479.98 972.079 1480.86 Z\" fill=\"#000000\" fill-rule=\"evenodd\" fill-opacity=\"1\" /><path clip-path=\"url(#clip880)\" d=\"M990.366 1514.29 L977.171 1479.73 L982.055 1479.73 L993.004 1508.82 L1003.98 1479.73 L1008.84 1479.73 L995.666 1514.29 L990.366 1514.29 Z\" fill=\"#000000\" fill-rule=\"evenodd\" fill-opacity=\"1\" /><path clip-path=\"url(#clip880)\" d=\"M1008.19 1508.41 L1013.07 1508.41 L1013.07 1514.29 L1008.19 1514.29 L1008.19 1508.41 Z\" fill=\"#000000\" fill-rule=\"evenodd\" fill-opacity=\"1\" /><path clip-path=\"url(#clip880)\" d=\"M1022.66 1488.36 L1026.92 1488.36 L1026.92 1514.75 Q1026.92 1519.7 1025.02 1521.93 Q1023.14 1524.15 1018.95 1524.15 L1017.33 1524.15 L1017.33 1520.54 L1018.47 1520.54 Q1020.9 1520.54 1021.78 1519.4 Q1022.66 1518.29 1022.66 1514.75 L1022.66 1488.36 M1022.66 1478.27 L1026.92 1478.27 L1026.92 1483.66 L1022.66 1483.66 L1022.66 1478.27 Z\" fill=\"#000000\" fill-rule=\"evenodd\" fill-opacity=\"1\" /><path clip-path=\"url(#clip880)\" d=\"M1035.83 1478.27 L1040.09 1478.27 L1040.09 1514.29 L1035.83 1514.29 L1035.83 1478.27 Z\" fill=\"#000000\" fill-rule=\"evenodd\" fill-opacity=\"1\" /><path clip-path=\"url(#clip880)\" d=\"M1216.43 1479.73 L1221.1 1479.73 L1221.1 1511.88 Q1221.1 1518.13 1218.72 1520.95 Q1216.36 1523.78 1211.1 1523.78 L1209.32 1523.78 L1209.32 1519.84 L1210.78 1519.84 Q1213.88 1519.84 1215.15 1518.11 Q1216.43 1516.37 1216.43 1511.88 L1216.43 1479.73 Z\" fill=\"#000000\" fill-rule=\"evenodd\" fill-opacity=\"1\" /><path clip-path=\"url(#clip880)\" d=\"M1235.08 1483.57 L1235.08 1510.45 L1240.73 1510.45 Q1247.89 1510.45 1251.2 1507.2 Q1254.53 1503.96 1254.53 1496.97 Q1254.53 1490.03 1251.2 1486.81 Q1247.89 1483.57 1240.73 1483.57 L1235.08 1483.57 M1230.41 1479.73 L1240.02 1479.73 Q1250.06 1479.73 1254.76 1483.92 Q1259.46 1488.08 1259.46 1496.97 Q1259.46 1505.91 1254.74 1510.1 Q1250.01 1514.29 1240.02 1514.29 L1230.41 1514.29 L1230.41 1479.73 Z\" fill=\"#000000\" fill-rule=\"evenodd\" fill-opacity=\"1\" /><path clip-path=\"url(#clip880)\" d=\"M1266.91 1479.73 L1286.77 1479.73 L1286.77 1483.66 L1271.59 1483.66 L1271.59 1493.85 L1285.29 1493.85 L1285.29 1497.78 L1271.59 1497.78 L1271.59 1514.29 L1266.91 1514.29 L1266.91 1479.73 Z\" fill=\"#000000\" fill-rule=\"evenodd\" fill-opacity=\"1\" /><path clip-path=\"url(#clip880)\" d=\"M1286.98 1508.41 L1291.87 1508.41 L1291.87 1514.29 L1286.98 1514.29 L1286.98 1508.41 Z\" fill=\"#000000\" fill-rule=\"evenodd\" fill-opacity=\"1\" /><path clip-path=\"url(#clip880)\" d=\"M1301.45 1488.36 L1305.71 1488.36 L1305.71 1514.75 Q1305.71 1519.7 1303.81 1521.93 Q1301.94 1524.15 1297.75 1524.15 L1296.13 1524.15 L1296.13 1520.54 L1297.26 1520.54 Q1299.69 1520.54 1300.57 1519.4 Q1301.45 1518.29 1301.45 1514.75 L1301.45 1488.36 M1301.45 1478.27 L1305.71 1478.27 L1305.71 1483.66 L1301.45 1483.66 L1301.45 1478.27 Z\" fill=\"#000000\" fill-rule=\"evenodd\" fill-opacity=\"1\" /><path clip-path=\"url(#clip880)\" d=\"M1314.62 1478.27 L1318.88 1478.27 L1318.88 1514.29 L1314.62 1514.29 L1314.62 1478.27 Z\" fill=\"#000000\" fill-rule=\"evenodd\" fill-opacity=\"1\" /><path clip-path=\"url(#clip880)\" d=\"M1484.48 1479.73 L1489.16 1479.73 L1489.16 1511.88 Q1489.16 1518.13 1486.77 1520.95 Q1484.41 1523.78 1479.16 1523.78 L1477.37 1523.78 L1477.37 1519.84 L1478.83 1519.84 Q1481.93 1519.84 1483.21 1518.11 Q1484.48 1516.37 1484.48 1511.88 L1484.48 1479.73 Z\" fill=\"#000000\" fill-rule=\"evenodd\" fill-opacity=\"1\" /><path clip-path=\"url(#clip880)\" d=\"M1498.46 1479.73 L1503.14 1479.73 L1503.14 1510.35 L1519.97 1510.35 L1519.97 1514.29 L1498.46 1514.29 L1498.46 1479.73 Z\" fill=\"#000000\" fill-rule=\"evenodd\" fill-opacity=\"1\" /><path clip-path=\"url(#clip880)\" d=\"M1545.59 1480.86 L1545.59 1485.42 Q1542.93 1484.15 1540.57 1483.52 Q1538.21 1482.9 1536.01 1482.9 Q1532.19 1482.9 1530.1 1484.38 Q1528.04 1485.86 1528.04 1488.59 Q1528.04 1490.89 1529.41 1492.07 Q1530.8 1493.22 1534.64 1493.94 L1537.47 1494.52 Q1542.7 1495.51 1545.17 1498.04 Q1547.67 1500.54 1547.67 1504.75 Q1547.67 1509.77 1544.29 1512.37 Q1540.94 1514.96 1534.43 1514.96 Q1531.98 1514.96 1529.2 1514.4 Q1526.45 1513.85 1523.48 1512.76 L1523.48 1507.95 Q1526.33 1509.54 1529.06 1510.35 Q1531.79 1511.16 1534.43 1511.16 Q1538.44 1511.16 1540.61 1509.59 Q1542.79 1508.01 1542.79 1505.1 Q1542.79 1502.55 1541.22 1501.12 Q1539.66 1499.68 1536.1 1498.96 L1533.25 1498.41 Q1528.02 1497.37 1525.68 1495.14 Q1523.34 1492.92 1523.34 1488.96 Q1523.34 1484.38 1526.56 1481.74 Q1529.8 1479.1 1535.47 1479.1 Q1537.9 1479.1 1540.43 1479.54 Q1542.95 1479.98 1545.59 1480.86 Z\" fill=\"#000000\" fill-rule=\"evenodd\" fill-opacity=\"1\" /><path clip-path=\"url(#clip880)\" d=\"M1568.99 1482.9 Q1563.9 1482.9 1560.89 1486.7 Q1557.9 1490.49 1557.9 1497.04 Q1557.9 1503.57 1560.89 1507.37 Q1563.9 1511.16 1568.99 1511.16 Q1574.09 1511.16 1577.05 1507.37 Q1580.03 1503.57 1580.03 1497.04 Q1580.03 1490.49 1577.05 1486.7 Q1574.09 1482.9 1568.99 1482.9 M1568.99 1479.1 Q1576.26 1479.1 1580.61 1483.99 Q1584.96 1488.85 1584.96 1497.04 Q1584.96 1505.21 1580.61 1510.1 Q1576.26 1514.96 1568.99 1514.96 Q1561.7 1514.96 1557.33 1510.1 Q1552.97 1505.24 1552.97 1497.04 Q1552.97 1488.85 1557.33 1483.99 Q1561.7 1479.1 1568.99 1479.1 Z\" fill=\"#000000\" fill-rule=\"evenodd\" fill-opacity=\"1\" /><path clip-path=\"url(#clip880)\" d=\"M1590.78 1508.41 L1595.66 1508.41 L1595.66 1514.29 L1590.78 1514.29 L1590.78 1508.41 Z\" fill=\"#000000\" fill-rule=\"evenodd\" fill-opacity=\"1\" /><path clip-path=\"url(#clip880)\" d=\"M1605.24 1488.36 L1609.5 1488.36 L1609.5 1514.75 Q1609.5 1519.7 1607.6 1521.93 Q1605.73 1524.15 1601.54 1524.15 L1599.92 1524.15 L1599.92 1520.54 L1601.05 1520.54 Q1603.48 1520.54 1604.36 1519.4 Q1605.24 1518.29 1605.24 1514.75 L1605.24 1488.36 M1605.24 1478.27 L1609.5 1478.27 L1609.5 1483.66 L1605.24 1483.66 L1605.24 1478.27 Z\" fill=\"#000000\" fill-rule=\"evenodd\" fill-opacity=\"1\" /><path clip-path=\"url(#clip880)\" d=\"M1618.41 1478.27 L1622.67 1478.27 L1622.67 1514.29 L1618.41 1514.29 L1618.41 1478.27 Z\" fill=\"#000000\" fill-rule=\"evenodd\" fill-opacity=\"1\" /><path clip-path=\"url(#clip880)\" d=\"M1785.73 1486.64 L1790.4 1486.64 L1790.4 1518.79 Q1790.4 1525.04 1788.02 1527.87 Q1785.66 1530.69 1780.4 1530.69 L1778.62 1530.69 L1778.62 1526.76 L1780.08 1526.76 Q1783.18 1526.76 1784.45 1525.02 Q1785.73 1523.28 1785.73 1518.79 L1785.73 1486.64 Z\" fill=\"#000000\" fill-rule=\"evenodd\" fill-opacity=\"1\" /><path clip-path=\"url(#clip880)\" d=\"M1820.42 1487.77 L1820.42 1492.33 Q1817.76 1491.06 1815.4 1490.44 Q1813.04 1489.81 1810.84 1489.81 Q1807.02 1489.81 1804.94 1491.29 Q1802.88 1492.77 1802.88 1495.51 Q1802.88 1497.8 1804.24 1498.98 Q1805.63 1500.14 1809.48 1500.85 L1812.3 1501.43 Q1817.53 1502.43 1820.01 1504.95 Q1822.51 1507.45 1822.51 1511.66 Q1822.51 1516.69 1819.13 1519.28 Q1815.77 1521.87 1809.27 1521.87 Q1806.81 1521.87 1804.04 1521.32 Q1801.28 1520.76 1798.32 1519.67 L1798.32 1514.86 Q1801.17 1516.45 1803.9 1517.26 Q1806.63 1518.07 1809.27 1518.07 Q1813.27 1518.07 1815.45 1516.5 Q1817.62 1514.93 1817.62 1512.01 Q1817.62 1509.46 1816.05 1508.03 Q1814.5 1506.59 1810.93 1505.88 L1808.09 1505.32 Q1802.86 1504.28 1800.52 1502.06 Q1798.18 1499.83 1798.18 1495.88 Q1798.18 1491.29 1801.4 1488.65 Q1804.64 1486.01 1810.31 1486.01 Q1812.74 1486.01 1815.26 1486.45 Q1817.79 1486.89 1820.42 1487.77 Z\" fill=\"#000000\" fill-rule=\"evenodd\" fill-opacity=\"1\" /><path clip-path=\"url(#clip880)\" d=\"M1843.83 1489.81 Q1838.73 1489.81 1835.73 1493.61 Q1832.74 1497.4 1832.74 1503.95 Q1832.74 1510.48 1835.73 1514.28 Q1838.73 1518.07 1843.83 1518.07 Q1848.92 1518.07 1851.88 1514.28 Q1854.87 1510.48 1854.87 1503.95 Q1854.87 1497.4 1851.88 1493.61 Q1848.92 1489.81 1843.83 1489.81 M1843.83 1486.01 Q1851.1 1486.01 1855.45 1490.9 Q1859.8 1495.76 1859.8 1503.95 Q1859.8 1512.13 1855.45 1517.01 Q1851.1 1521.87 1843.83 1521.87 Q1836.54 1521.87 1832.16 1517.01 Q1827.81 1512.15 1827.81 1503.95 Q1827.81 1495.76 1832.16 1490.9 Q1836.54 1486.01 1843.83 1486.01 Z\" fill=\"#000000\" fill-rule=\"evenodd\" fill-opacity=\"1\" /><path clip-path=\"url(#clip880)\" d=\"M1867.11 1486.64 L1873.41 1486.64 L1888.73 1515.55 L1888.73 1486.64 L1893.27 1486.64 L1893.27 1521.2 L1886.98 1521.2 L1871.65 1492.29 L1871.65 1521.2 L1867.11 1521.2 L1867.11 1486.64 Z\" fill=\"#000000\" fill-rule=\"evenodd\" fill-opacity=\"1\" /><path clip-path=\"url(#clip880)\" d=\"M1717.33 1550.1 Q1713.91 1550.1 1711.92 1552.79 Q1709.93 1555.45 1709.93 1560.1 Q1709.93 1564.75 1711.9 1567.44 Q1713.89 1570.1 1717.33 1570.1 Q1720.74 1570.1 1722.73 1567.41 Q1724.72 1564.73 1724.72 1560.1 Q1724.72 1555.49 1722.73 1552.81 Q1720.74 1550.1 1717.33 1550.1 M1717.33 1546.49 Q1722.89 1546.49 1726.06 1550.1 Q1729.23 1553.71 1729.23 1560.1 Q1729.23 1566.47 1726.06 1570.1 Q1722.89 1573.71 1717.33 1573.71 Q1711.76 1573.71 1708.58 1570.1 Q1705.44 1566.47 1705.44 1560.1 Q1705.44 1553.71 1708.58 1550.1 Q1711.76 1546.49 1717.33 1546.49 Z\" fill=\"#000000\" fill-rule=\"evenodd\" fill-opacity=\"1\" /><path clip-path=\"url(#clip880)\" d=\"M1754.9 1560.1 Q1754.9 1555.4 1752.96 1552.74 Q1751.04 1550.05 1747.66 1550.05 Q1744.28 1550.05 1742.33 1552.74 Q1740.41 1555.4 1740.41 1560.1 Q1740.41 1564.8 1742.33 1567.48 Q1744.28 1570.15 1747.66 1570.15 Q1751.04 1570.15 1752.96 1567.48 Q1754.9 1564.8 1754.9 1560.1 M1740.41 1551.05 Q1741.76 1548.73 1743.79 1547.62 Q1745.85 1546.49 1748.7 1546.49 Q1753.42 1546.49 1756.36 1550.24 Q1759.33 1553.99 1759.33 1560.1 Q1759.33 1566.21 1756.36 1569.96 Q1753.42 1573.71 1748.7 1573.71 Q1745.85 1573.71 1743.79 1572.6 Q1741.76 1571.47 1740.41 1569.15 L1740.41 1573.04 L1736.13 1573.04 L1736.13 1537.02 L1740.41 1537.02 L1740.41 1551.05 Z\" fill=\"#000000\" fill-rule=\"evenodd\" fill-opacity=\"1\" /><path clip-path=\"url(#clip880)\" d=\"M1766.39 1547.11 L1770.64 1547.11 L1770.64 1573.5 Q1770.64 1578.46 1768.75 1580.68 Q1766.87 1582.9 1762.68 1582.9 L1761.06 1582.9 L1761.06 1579.29 L1762.2 1579.29 Q1764.63 1579.29 1765.51 1578.16 Q1766.39 1577.04 1766.39 1573.5 L1766.39 1547.11 M1766.39 1537.02 L1770.64 1537.02 L1770.64 1542.42 L1766.39 1542.42 L1766.39 1537.02 Z\" fill=\"#000000\" fill-rule=\"evenodd\" fill-opacity=\"1\" /><path clip-path=\"url(#clip880)\" d=\"M1801.73 1559.01 L1801.73 1561.1 L1782.15 1561.1 Q1782.43 1565.49 1784.79 1567.81 Q1787.17 1570.1 1791.41 1570.1 Q1793.86 1570.1 1796.15 1569.5 Q1798.47 1568.9 1800.74 1567.69 L1800.74 1571.72 Q1798.45 1572.69 1796.04 1573.2 Q1793.63 1573.71 1791.15 1573.71 Q1784.95 1573.71 1781.32 1570.1 Q1777.7 1566.49 1777.7 1560.33 Q1777.7 1553.97 1781.13 1550.24 Q1784.58 1546.49 1790.41 1546.49 Q1795.64 1546.49 1798.68 1549.87 Q1801.73 1553.23 1801.73 1559.01 M1797.47 1557.76 Q1797.43 1554.27 1795.51 1552.18 Q1793.61 1550.1 1790.46 1550.1 Q1786.89 1550.1 1784.74 1552.11 Q1782.61 1554.13 1782.29 1557.79 L1797.47 1557.76 Z\" fill=\"#000000\" fill-rule=\"evenodd\" fill-opacity=\"1\" /><path clip-path=\"url(#clip880)\" d=\"M1827.38 1548.11 L1827.38 1552.09 Q1825.58 1551.1 1823.75 1550.61 Q1821.94 1550.1 1820.09 1550.1 Q1815.95 1550.1 1813.65 1552.74 Q1811.36 1555.35 1811.36 1560.1 Q1811.36 1564.85 1813.65 1567.48 Q1815.95 1570.1 1820.09 1570.1 Q1821.94 1570.1 1823.75 1569.61 Q1825.58 1569.1 1827.38 1568.11 L1827.38 1572.04 Q1825.6 1572.88 1823.68 1573.29 Q1821.78 1573.71 1819.63 1573.71 Q1813.77 1573.71 1810.32 1570.03 Q1806.87 1566.35 1806.87 1560.1 Q1806.87 1553.76 1810.34 1550.12 Q1813.84 1546.49 1819.9 1546.49 Q1821.87 1546.49 1823.75 1546.91 Q1825.62 1547.3 1827.38 1548.11 Z\" fill=\"#000000\" fill-rule=\"evenodd\" fill-opacity=\"1\" /><path clip-path=\"url(#clip880)\" d=\"M1839 1539.75 L1839 1547.11 L1847.77 1547.11 L1847.77 1550.42 L1839 1550.42 L1839 1564.5 Q1839 1567.67 1839.86 1568.57 Q1840.74 1569.48 1843.4 1569.48 L1847.77 1569.48 L1847.77 1573.04 L1843.4 1573.04 Q1838.47 1573.04 1836.59 1571.21 Q1834.72 1569.36 1834.72 1564.5 L1834.72 1550.42 L1831.59 1550.42 L1831.59 1547.11 L1834.72 1547.11 L1834.72 1539.75 L1839 1539.75 Z\" fill=\"#000000\" fill-rule=\"evenodd\" fill-opacity=\"1\" /><path clip-path=\"url(#clip880)\" d=\"M1857.59 1539.75 L1857.59 1547.11 L1866.36 1547.11 L1866.36 1550.42 L1857.59 1550.42 L1857.59 1564.5 Q1857.59 1567.67 1858.45 1568.57 Q1859.32 1569.48 1861.99 1569.48 L1866.36 1569.48 L1866.36 1573.04 L1861.99 1573.04 Q1857.06 1573.04 1855.18 1571.21 Q1853.31 1569.36 1853.31 1564.5 L1853.31 1550.42 L1850.18 1550.42 L1850.18 1547.11 L1853.31 1547.11 L1853.31 1539.75 L1857.59 1539.75 Z\" fill=\"#000000\" fill-rule=\"evenodd\" fill-opacity=\"1\" /><path clip-path=\"url(#clip880)\" d=\"M1883.75 1560.01 Q1878.58 1560.01 1876.59 1561.19 Q1874.6 1562.37 1874.6 1565.22 Q1874.6 1567.48 1876.08 1568.83 Q1877.59 1570.15 1880.16 1570.15 Q1883.7 1570.15 1885.83 1567.65 Q1887.98 1565.12 1887.98 1560.96 L1887.98 1560.01 L1883.75 1560.01 M1892.24 1558.25 L1892.24 1573.04 L1887.98 1573.04 L1887.98 1569.1 Q1886.52 1571.47 1884.35 1572.6 Q1882.17 1573.71 1879.02 1573.71 Q1875.04 1573.71 1872.68 1571.49 Q1870.34 1569.24 1870.34 1565.49 Q1870.34 1561.12 1873.26 1558.9 Q1876.2 1556.67 1882.01 1556.67 L1887.98 1556.67 L1887.98 1556.26 Q1887.98 1553.32 1886.04 1551.72 Q1884.12 1550.1 1880.62 1550.1 Q1878.4 1550.1 1876.29 1550.63 Q1874.19 1551.16 1872.24 1552.23 L1872.24 1548.29 Q1874.58 1547.39 1876.78 1546.95 Q1878.98 1546.49 1881.06 1546.49 Q1886.69 1546.49 1889.46 1549.41 Q1892.24 1552.32 1892.24 1558.25 Z\" fill=\"#000000\" fill-rule=\"evenodd\" fill-opacity=\"1\" /><path clip-path=\"url(#clip880)\" d=\"M1919.63 1560.1 Q1919.63 1555.4 1917.68 1552.74 Q1915.76 1550.05 1912.38 1550.05 Q1909 1550.05 1907.06 1552.74 Q1905.13 1555.4 1905.13 1560.1 Q1905.13 1564.8 1907.06 1567.48 Q1909 1570.15 1912.38 1570.15 Q1915.76 1570.15 1917.68 1567.48 Q1919.63 1564.8 1919.63 1560.1 M1905.13 1551.05 Q1906.48 1548.73 1908.51 1547.62 Q1910.57 1546.49 1913.42 1546.49 Q1918.14 1546.49 1921.08 1550.24 Q1924.05 1553.99 1924.05 1560.1 Q1924.05 1566.21 1921.08 1569.96 Q1918.14 1573.71 1913.42 1573.71 Q1910.57 1573.71 1908.51 1572.6 Q1906.48 1571.47 1905.13 1569.15 L1905.13 1573.04 L1900.85 1573.04 L1900.85 1537.02 L1905.13 1537.02 L1905.13 1551.05 Z\" fill=\"#000000\" fill-rule=\"evenodd\" fill-opacity=\"1\" /><path clip-path=\"url(#clip880)\" d=\"M1931.11 1537.02 L1935.37 1537.02 L1935.37 1573.04 L1931.11 1573.04 L1931.11 1537.02 Z\" fill=\"#000000\" fill-rule=\"evenodd\" fill-opacity=\"1\" /><path clip-path=\"url(#clip880)\" d=\"M1966.45 1559.01 L1966.45 1561.1 L1946.87 1561.1 Q1947.15 1565.49 1949.51 1567.81 Q1951.89 1570.1 1956.13 1570.1 Q1958.58 1570.1 1960.88 1569.5 Q1963.19 1568.9 1965.46 1567.69 L1965.46 1571.72 Q1963.17 1572.69 1960.76 1573.2 Q1958.35 1573.71 1955.88 1573.71 Q1949.67 1573.71 1946.04 1570.1 Q1942.43 1566.49 1942.43 1560.33 Q1942.43 1553.97 1945.85 1550.24 Q1949.3 1546.49 1955.13 1546.49 Q1960.37 1546.49 1963.4 1549.87 Q1966.45 1553.23 1966.45 1559.01 M1962.19 1557.76 Q1962.15 1554.27 1960.23 1552.18 Q1958.33 1550.1 1955.18 1550.1 Q1951.62 1550.1 1949.46 1552.11 Q1947.33 1554.13 1947.01 1557.79 L1962.19 1557.76 Z\" fill=\"#000000\" fill-rule=\"evenodd\" fill-opacity=\"1\" /><path clip-path=\"url(#clip880)\" d=\"M2001.66 1480.86 L2001.66 1485.42 Q1999 1484.15 1996.64 1483.52 Q1994.28 1482.9 1992.08 1482.9 Q1988.26 1482.9 1986.17 1484.38 Q1984.11 1485.86 1984.11 1488.59 Q1984.11 1490.89 1985.48 1492.07 Q1986.87 1493.22 1990.71 1493.94 L1993.54 1494.52 Q1998.77 1495.51 2001.24 1498.04 Q2003.74 1500.54 2003.74 1504.75 Q2003.74 1509.77 2000.36 1512.37 Q1997.01 1514.96 1990.5 1514.96 Q1988.05 1514.96 1985.27 1514.4 Q1982.52 1513.85 1979.55 1512.76 L1979.55 1507.95 Q1982.4 1509.54 1985.13 1510.35 Q1987.86 1511.16 1990.5 1511.16 Q1994.51 1511.16 1996.68 1509.59 Q1998.86 1508.01 1998.86 1505.1 Q1998.86 1502.55 1997.29 1501.12 Q1995.73 1499.68 1992.17 1498.96 L1989.32 1498.41 Q1984.09 1497.37 1981.75 1495.14 Q1979.41 1492.92 1979.41 1488.96 Q1979.41 1484.38 1982.63 1481.74 Q1985.87 1479.1 1991.54 1479.1 Q1993.97 1479.1 1996.5 1479.54 Q1999.02 1479.98 2001.66 1480.86 Z\" fill=\"#000000\" fill-rule=\"evenodd\" fill-opacity=\"1\" /><path clip-path=\"url(#clip880)\" d=\"M2033.03 1500.26 L2033.03 1502.34 L2013.44 1502.34 Q2013.72 1506.74 2016.08 1509.06 Q2018.47 1511.35 2022.7 1511.35 Q2025.16 1511.35 2027.45 1510.75 Q2029.76 1510.14 2032.03 1508.94 L2032.03 1512.97 Q2029.74 1513.94 2027.33 1514.45 Q2024.92 1514.96 2022.45 1514.96 Q2016.24 1514.96 2012.61 1511.35 Q2009 1507.74 2009 1501.58 Q2009 1495.21 2012.42 1491.49 Q2015.87 1487.74 2021.71 1487.74 Q2026.94 1487.74 2029.97 1491.12 Q2033.03 1494.47 2033.03 1500.26 M2028.77 1499.01 Q2028.72 1495.51 2026.8 1493.43 Q2024.9 1491.35 2021.75 1491.35 Q2018.19 1491.35 2016.04 1493.36 Q2013.91 1495.38 2013.58 1499.03 L2028.77 1499.01 Z\" fill=\"#000000\" fill-rule=\"evenodd\" fill-opacity=\"1\" /><path clip-path=\"url(#clip880)\" d=\"M2055.04 1492.34 Q2054.32 1491.93 2053.47 1491.74 Q2052.63 1491.53 2051.61 1491.53 Q2048 1491.53 2046.06 1493.89 Q2044.14 1496.23 2044.14 1500.63 L2044.14 1514.29 L2039.85 1514.29 L2039.85 1488.36 L2044.14 1488.36 L2044.14 1492.39 Q2045.48 1490.03 2047.63 1488.89 Q2049.78 1487.74 2052.86 1487.74 Q2053.3 1487.74 2053.84 1487.81 Q2054.37 1487.85 2055.02 1487.97 L2055.04 1492.34 Z\" fill=\"#000000\" fill-rule=\"evenodd\" fill-opacity=\"1\" /><path clip-path=\"url(#clip880)\" d=\"M2059.51 1488.36 L2063.77 1488.36 L2063.77 1514.29 L2059.51 1514.29 L2059.51 1488.36 M2059.51 1478.27 L2063.77 1478.27 L2063.77 1483.66 L2059.51 1483.66 L2059.51 1478.27 Z\" fill=\"#000000\" fill-rule=\"evenodd\" fill-opacity=\"1\" /><path clip-path=\"url(#clip880)\" d=\"M2084.46 1501.26 Q2079.3 1501.26 2077.31 1502.44 Q2075.32 1503.62 2075.32 1506.46 Q2075.32 1508.73 2076.8 1510.07 Q2078.3 1511.39 2080.87 1511.39 Q2084.41 1511.39 2086.54 1508.89 Q2088.7 1506.37 2088.7 1502.2 L2088.7 1501.26 L2084.46 1501.26 M2092.96 1499.5 L2092.96 1514.29 L2088.7 1514.29 L2088.7 1510.35 Q2087.24 1512.71 2085.06 1513.85 Q2082.89 1514.96 2079.74 1514.96 Q2075.76 1514.96 2073.4 1512.74 Q2071.06 1510.49 2071.06 1506.74 Q2071.06 1502.37 2073.97 1500.14 Q2076.91 1497.92 2082.72 1497.92 L2088.7 1497.92 L2088.7 1497.51 Q2088.7 1494.57 2086.75 1492.97 Q2084.83 1491.35 2081.34 1491.35 Q2079.11 1491.35 2077.01 1491.88 Q2074.9 1492.41 2072.96 1493.48 L2072.96 1489.54 Q2075.29 1488.64 2077.49 1488.2 Q2079.69 1487.74 2081.78 1487.74 Q2087.4 1487.74 2090.18 1490.65 Q2092.96 1493.57 2092.96 1499.5 Z\" fill=\"#000000\" fill-rule=\"evenodd\" fill-opacity=\"1\" /><path clip-path=\"url(#clip880)\" d=\"M2101.73 1478.27 L2105.99 1478.27 L2105.99 1514.29 L2101.73 1514.29 L2101.73 1478.27 Z\" fill=\"#000000\" fill-rule=\"evenodd\" fill-opacity=\"1\" /><path clip-path=\"url(#clip880)\" d=\"M2114.9 1488.36 L2119.16 1488.36 L2119.16 1514.29 L2114.9 1514.29 L2114.9 1488.36 M2114.9 1478.27 L2119.16 1478.27 L2119.16 1483.66 L2114.9 1483.66 L2114.9 1478.27 Z\" fill=\"#000000\" fill-rule=\"evenodd\" fill-opacity=\"1\" /><path clip-path=\"url(#clip880)\" d=\"M2126.22 1488.36 L2146.45 1488.36 L2146.45 1492.25 L2130.43 1510.89 L2146.45 1510.89 L2146.45 1514.29 L2125.64 1514.29 L2125.64 1510.4 L2141.66 1491.76 L2126.22 1491.76 L2126.22 1488.36 Z\" fill=\"#000000\" fill-rule=\"evenodd\" fill-opacity=\"1\" /><path clip-path=\"url(#clip880)\" d=\"M2164.74 1501.26 Q2159.58 1501.26 2157.59 1502.44 Q2155.59 1503.62 2155.59 1506.46 Q2155.59 1508.73 2157.08 1510.07 Q2158.58 1511.39 2161.15 1511.39 Q2164.69 1511.39 2166.82 1508.89 Q2168.97 1506.37 2168.97 1502.2 L2168.97 1501.26 L2164.74 1501.26 M2173.23 1499.5 L2173.23 1514.29 L2168.97 1514.29 L2168.97 1510.35 Q2167.52 1512.71 2165.34 1513.85 Q2163.16 1514.96 2160.02 1514.96 Q2156.03 1514.96 2153.67 1512.74 Q2151.34 1510.49 2151.34 1506.74 Q2151.34 1502.37 2154.25 1500.14 Q2157.19 1497.92 2163 1497.92 L2168.97 1497.92 L2168.97 1497.51 Q2168.97 1494.57 2167.03 1492.97 Q2165.11 1491.35 2161.61 1491.35 Q2159.39 1491.35 2157.28 1491.88 Q2155.18 1492.41 2153.23 1493.48 L2153.23 1489.54 Q2155.57 1488.64 2157.77 1488.2 Q2159.97 1487.74 2162.05 1487.74 Q2167.68 1487.74 2170.46 1490.65 Q2173.23 1493.57 2173.23 1499.5 Z\" fill=\"#000000\" fill-rule=\"evenodd\" fill-opacity=\"1\" /><path clip-path=\"url(#clip880)\" d=\"M2186.22 1481 L2186.22 1488.36 L2194.99 1488.36 L2194.99 1491.67 L2186.22 1491.67 L2186.22 1505.75 Q2186.22 1508.92 2187.08 1509.82 Q2187.96 1510.72 2190.62 1510.72 L2194.99 1510.72 L2194.99 1514.29 L2190.62 1514.29 Q2185.69 1514.29 2183.81 1512.46 Q2181.94 1510.61 2181.94 1505.75 L2181.94 1491.67 L2178.81 1491.67 L2178.81 1488.36 L2181.94 1488.36 L2181.94 1481 L2186.22 1481 Z\" fill=\"#000000\" fill-rule=\"evenodd\" fill-opacity=\"1\" /><path clip-path=\"url(#clip880)\" d=\"M2200.59 1488.36 L2204.85 1488.36 L2204.85 1514.29 L2200.59 1514.29 L2200.59 1488.36 M2200.59 1478.27 L2204.85 1478.27 L2204.85 1483.66 L2200.59 1483.66 L2200.59 1478.27 Z\" fill=\"#000000\" fill-rule=\"evenodd\" fill-opacity=\"1\" /><path clip-path=\"url(#clip880)\" d=\"M2223.81 1491.35 Q2220.39 1491.35 2218.4 1494.03 Q2216.4 1496.7 2216.4 1501.35 Q2216.4 1506 2218.37 1508.69 Q2220.36 1511.35 2223.81 1511.35 Q2227.21 1511.35 2229.21 1508.66 Q2231.2 1505.98 2231.2 1501.35 Q2231.2 1496.74 2229.21 1494.06 Q2227.21 1491.35 2223.81 1491.35 M2223.81 1487.74 Q2229.37 1487.74 2232.54 1491.35 Q2235.71 1494.96 2235.71 1501.35 Q2235.71 1507.71 2232.54 1511.35 Q2229.37 1514.96 2223.81 1514.96 Q2218.23 1514.96 2215.06 1511.35 Q2211.91 1507.71 2211.91 1501.35 Q2211.91 1494.96 2215.06 1491.35 Q2218.23 1487.74 2223.81 1487.74 Z\" fill=\"#000000\" fill-rule=\"evenodd\" fill-opacity=\"1\" /><path clip-path=\"url(#clip880)\" d=\"M2264.32 1498.64 L2264.32 1514.29 L2260.06 1514.29 L2260.06 1498.78 Q2260.06 1495.1 2258.63 1493.27 Q2257.19 1491.44 2254.32 1491.44 Q2250.87 1491.44 2248.88 1493.64 Q2246.89 1495.84 2246.89 1499.64 L2246.89 1514.29 L2242.61 1514.29 L2242.61 1488.36 L2246.89 1488.36 L2246.89 1492.39 Q2248.42 1490.05 2250.48 1488.89 Q2252.56 1487.74 2255.27 1487.74 Q2259.74 1487.74 2262.03 1490.51 Q2264.32 1493.27 2264.32 1498.64 Z\" fill=\"#000000\" fill-rule=\"evenodd\" fill-opacity=\"1\" /><polyline clip-path=\"url(#clip882)\" style=\"stroke:#000000; stroke-linecap:butt; stroke-linejoin:round; stroke-width:2; stroke-opacity:0.1; fill:none\" points=\"\n",
       "  175.445,1417.71 2352.76,1417.71 \n",
       "  \"/>\n",
       "<polyline clip-path=\"url(#clip882)\" style=\"stroke:#000000; stroke-linecap:butt; stroke-linejoin:round; stroke-width:2; stroke-opacity:0.1; fill:none\" points=\"\n",
       "  175.445,1181.02 2352.76,1181.02 \n",
       "  \"/>\n",
       "<polyline clip-path=\"url(#clip882)\" style=\"stroke:#000000; stroke-linecap:butt; stroke-linejoin:round; stroke-width:2; stroke-opacity:0.1; fill:none\" points=\"\n",
       "  175.445,944.332 2352.76,944.332 \n",
       "  \"/>\n",
       "<polyline clip-path=\"url(#clip882)\" style=\"stroke:#000000; stroke-linecap:butt; stroke-linejoin:round; stroke-width:2; stroke-opacity:0.1; fill:none\" points=\"\n",
       "  175.445,707.641 2352.76,707.641 \n",
       "  \"/>\n",
       "<polyline clip-path=\"url(#clip882)\" style=\"stroke:#000000; stroke-linecap:butt; stroke-linejoin:round; stroke-width:2; stroke-opacity:0.1; fill:none\" points=\"\n",
       "  175.445,470.95 2352.76,470.95 \n",
       "  \"/>\n",
       "<polyline clip-path=\"url(#clip880)\" style=\"stroke:#000000; stroke-linecap:butt; stroke-linejoin:round; stroke-width:4; stroke-opacity:1; fill:none\" points=\"\n",
       "  175.445,1451.89 175.445,244.432 \n",
       "  \"/>\n",
       "<polyline clip-path=\"url(#clip880)\" style=\"stroke:#000000; stroke-linecap:butt; stroke-linejoin:round; stroke-width:4; stroke-opacity:1; fill:none\" points=\"\n",
       "  175.445,1417.71 194.343,1417.71 \n",
       "  \"/>\n",
       "<polyline clip-path=\"url(#clip880)\" style=\"stroke:#000000; stroke-linecap:butt; stroke-linejoin:round; stroke-width:4; stroke-opacity:1; fill:none\" points=\"\n",
       "  175.445,1181.02 194.343,1181.02 \n",
       "  \"/>\n",
       "<polyline clip-path=\"url(#clip880)\" style=\"stroke:#000000; stroke-linecap:butt; stroke-linejoin:round; stroke-width:4; stroke-opacity:1; fill:none\" points=\"\n",
       "  175.445,944.332 194.343,944.332 \n",
       "  \"/>\n",
       "<polyline clip-path=\"url(#clip880)\" style=\"stroke:#000000; stroke-linecap:butt; stroke-linejoin:round; stroke-width:4; stroke-opacity:1; fill:none\" points=\"\n",
       "  175.445,707.641 194.343,707.641 \n",
       "  \"/>\n",
       "<polyline clip-path=\"url(#clip880)\" style=\"stroke:#000000; stroke-linecap:butt; stroke-linejoin:round; stroke-width:4; stroke-opacity:1; fill:none\" points=\"\n",
       "  175.445,470.95 194.343,470.95 \n",
       "  \"/>\n",
       "<path clip-path=\"url(#clip880)\" d=\"M127.501 1403.51 Q123.89 1403.51 122.061 1407.08 Q120.255 1410.62 120.255 1417.75 Q120.255 1424.86 122.061 1428.42 Q123.89 1431.96 127.501 1431.96 Q131.135 1431.96 132.941 1428.42 Q134.769 1424.86 134.769 1417.75 Q134.769 1410.62 132.941 1407.08 Q131.135 1403.51 127.501 1403.51 M127.501 1399.81 Q133.311 1399.81 136.367 1404.42 Q139.445 1409 139.445 1417.75 Q139.445 1426.48 136.367 1431.08 Q133.311 1435.67 127.501 1435.67 Q121.691 1435.67 118.612 1431.08 Q115.556 1426.48 115.556 1417.75 Q115.556 1409 118.612 1404.42 Q121.691 1399.81 127.501 1399.81 Z\" fill=\"#000000\" fill-rule=\"evenodd\" fill-opacity=\"1\" /><path clip-path=\"url(#clip880)\" d=\"M123.126 1194.37 L139.445 1194.37 L139.445 1198.3 L117.501 1198.3 L117.501 1194.37 Q120.163 1191.61 124.746 1186.98 Q129.353 1182.33 130.533 1180.99 Q132.779 1178.47 133.658 1176.73 Q134.561 1174.97 134.561 1173.28 Q134.561 1170.53 132.617 1168.79 Q130.695 1167.05 127.593 1167.05 Q125.394 1167.05 122.941 1167.82 Q120.51 1168.58 117.732 1170.13 L117.732 1165.41 Q120.556 1164.28 123.01 1163.7 Q125.464 1163.12 127.501 1163.12 Q132.871 1163.12 136.066 1165.8 Q139.26 1168.49 139.26 1172.98 Q139.26 1175.11 138.45 1177.03 Q137.663 1178.93 135.556 1181.52 Q134.978 1182.19 131.876 1185.41 Q128.774 1188.6 123.126 1194.37 Z\" fill=\"#000000\" fill-rule=\"evenodd\" fill-opacity=\"1\" /><path clip-path=\"url(#clip880)\" d=\"M129.862 931.126 L118.056 949.575 L129.862 949.575 L129.862 931.126 M128.635 927.052 L134.515 927.052 L134.515 949.575 L139.445 949.575 L139.445 953.464 L134.515 953.464 L134.515 961.612 L129.862 961.612 L129.862 953.464 L114.26 953.464 L114.26 948.95 L128.635 927.052 Z\" fill=\"#000000\" fill-rule=\"evenodd\" fill-opacity=\"1\" /><path clip-path=\"url(#clip880)\" d=\"M127.917 705.778 Q124.769 705.778 122.918 707.93 Q121.089 710.083 121.089 713.833 Q121.089 717.56 122.918 719.736 Q124.769 721.889 127.917 721.889 Q131.066 721.889 132.894 719.736 Q134.746 717.56 134.746 713.833 Q134.746 710.083 132.894 707.93 Q131.066 705.778 127.917 705.778 M137.2 691.125 L137.2 695.384 Q135.441 694.551 133.635 694.111 Q131.853 693.671 130.093 693.671 Q125.464 693.671 123.01 696.796 Q120.58 699.921 120.232 706.241 Q121.598 704.227 123.658 703.162 Q125.718 702.074 128.195 702.074 Q133.404 702.074 136.413 705.245 Q139.445 708.393 139.445 713.833 Q139.445 719.157 136.297 722.375 Q133.149 725.592 127.917 725.592 Q121.922 725.592 118.751 721.009 Q115.58 716.403 115.58 707.676 Q115.58 699.481 119.468 694.62 Q123.357 689.736 129.908 689.736 Q131.667 689.736 133.45 690.083 Q135.255 690.43 137.2 691.125 Z\" fill=\"#000000\" fill-rule=\"evenodd\" fill-opacity=\"1\" /><path clip-path=\"url(#clip880)\" d=\"M127.593 471.818 Q124.26 471.818 122.339 473.6 Q120.441 475.383 120.441 478.508 Q120.441 481.633 122.339 483.415 Q124.26 485.197 127.593 485.197 Q130.927 485.197 132.848 483.415 Q134.769 481.609 134.769 478.508 Q134.769 475.383 132.848 473.6 Q130.95 471.818 127.593 471.818 M122.918 469.827 Q119.908 469.086 118.218 467.026 Q116.552 464.966 116.552 462.003 Q116.552 457.86 119.492 455.452 Q122.455 453.045 127.593 453.045 Q132.755 453.045 135.695 455.452 Q138.635 457.86 138.635 462.003 Q138.635 464.966 136.945 467.026 Q135.279 469.086 132.292 469.827 Q135.672 470.614 137.547 472.906 Q139.445 475.197 139.445 478.508 Q139.445 483.531 136.367 486.216 Q133.311 488.901 127.593 488.901 Q121.876 488.901 118.797 486.216 Q115.742 483.531 115.742 478.508 Q115.742 475.197 117.64 472.906 Q119.538 470.614 122.918 469.827 M121.205 462.443 Q121.205 465.128 122.871 466.633 Q124.561 468.137 127.593 468.137 Q130.603 468.137 132.292 466.633 Q134.005 465.128 134.005 462.443 Q134.005 459.758 132.292 458.253 Q130.603 456.748 127.593 456.748 Q124.561 456.748 122.871 458.253 Q121.205 459.758 121.205 462.443 Z\" fill=\"#000000\" fill-rule=\"evenodd\" fill-opacity=\"1\" /><path clip-path=\"url(#clip880)\" d=\"M18.0438 932.41 L24.314 932.41 Q22.5634 936.07 21.704 939.317 Q20.8447 942.563 20.8447 945.587 Q20.8447 950.839 22.8817 953.703 Q24.9187 956.536 28.6745 956.536 Q31.8255 956.536 33.4488 954.658 Q35.0402 952.749 36.0269 947.465 L36.8226 943.582 Q38.1912 936.389 41.6605 932.983 Q45.098 929.546 50.8908 929.546 Q57.7976 929.546 61.3624 934.193 Q64.9272 938.808 64.9272 947.751 Q64.9272 951.125 64.1633 954.945 Q63.3994 958.732 61.9035 962.806 L55.2831 962.806 Q57.4793 958.891 58.5933 955.136 Q59.7073 951.38 59.7073 947.751 Q59.7073 942.245 57.543 939.253 Q55.3786 936.261 51.3682 936.261 Q47.8671 936.261 45.8937 938.426 Q43.9204 940.558 42.9337 945.46 L42.1698 949.375 Q40.7375 956.568 37.682 959.783 Q34.6264 962.997 29.1837 962.997 Q22.8817 962.997 19.2532 958.573 Q15.6248 954.117 15.6248 946.319 Q15.6248 942.977 16.2295 939.508 Q16.8343 936.039 18.0438 932.41 Z\" fill=\"#000000\" fill-rule=\"evenodd\" fill-opacity=\"1\" /><path clip-path=\"url(#clip880)\" d=\"M44.7161 889.282 L47.5806 889.282 L47.5806 916.209 Q53.6281 915.827 56.8109 912.581 Q59.9619 909.303 59.9619 903.478 Q59.9619 900.104 59.1344 896.953 Q58.3069 893.77 56.6518 890.651 L62.1899 890.651 Q63.5267 893.802 64.227 897.112 Q64.9272 900.422 64.9272 903.828 Q64.9272 912.358 59.9619 917.355 Q54.9967 922.32 46.5303 922.32 Q37.7774 922.32 32.6531 917.61 Q27.4968 912.867 27.4968 904.847 Q27.4968 897.653 32.1438 893.484 Q36.7589 889.282 44.7161 889.282 M42.9973 895.139 Q38.1912 895.203 35.3266 897.844 Q32.4621 900.454 32.4621 904.783 Q32.4621 909.685 35.2312 912.645 Q38.0002 915.573 43.0292 916.018 L42.9973 895.139 Z\" fill=\"#000000\" fill-rule=\"evenodd\" fill-opacity=\"1\" /><path clip-path=\"url(#clip880)\" d=\"M29.7248 854.016 L35.1993 854.016 Q33.8307 856.499 33.1623 859.014 Q32.4621 861.496 32.4621 864.042 Q32.4621 869.74 36.0905 872.891 Q39.6872 876.042 46.212 876.042 Q52.7369 876.042 56.3653 872.891 Q59.9619 869.74 59.9619 864.042 Q59.9619 861.496 59.2935 859.014 Q58.5933 856.499 57.2247 854.016 L62.6355 854.016 Q63.7814 856.467 64.3543 859.109 Q64.9272 861.719 64.9272 864.679 Q64.9272 872.732 59.8664 877.474 Q54.8057 882.217 46.212 882.217 Q37.491 882.217 32.4939 877.442 Q27.4968 872.636 27.4968 864.297 Q27.4968 861.592 28.0697 859.014 Q28.6108 856.435 29.7248 854.016 Z\" fill=\"#000000\" fill-rule=\"evenodd\" fill-opacity=\"1\" /><path clip-path=\"url(#clip880)\" d=\"M32.4621 830.018 Q32.4621 834.728 36.1542 837.466 Q39.8145 840.203 46.212 840.203 Q52.6095 840.203 56.3017 837.497 Q59.9619 834.76 59.9619 830.018 Q59.9619 825.339 56.2698 822.602 Q52.5777 819.864 46.212 819.864 Q39.8781 819.864 36.186 822.602 Q32.4621 825.339 32.4621 830.018 M27.4968 830.018 Q27.4968 822.379 32.4621 818.018 Q37.4273 813.658 46.212 813.658 Q54.9649 813.658 59.9619 818.018 Q64.9272 822.379 64.9272 830.018 Q64.9272 837.688 59.9619 842.049 Q54.9649 846.378 46.212 846.378 Q37.4273 846.378 32.4621 842.049 Q27.4968 837.688 27.4968 830.018 Z\" fill=\"#000000\" fill-rule=\"evenodd\" fill-opacity=\"1\" /><path clip-path=\"url(#clip880)\" d=\"M42.4881 774.318 L64.0042 774.318 L64.0042 780.174 L42.679 780.174 Q37.6183 780.174 35.1038 782.148 Q32.5894 784.121 32.5894 788.068 Q32.5894 792.81 35.6131 795.547 Q38.6368 798.285 43.8567 798.285 L64.0042 798.285 L64.0042 804.173 L28.3562 804.173 L28.3562 798.285 L33.8944 798.285 Q30.6797 796.184 29.0883 793.351 Q27.4968 790.487 27.4968 786.763 Q27.4968 780.62 31.3163 777.469 Q35.1038 774.318 42.4881 774.318 Z\" fill=\"#000000\" fill-rule=\"evenodd\" fill-opacity=\"1\" /><path clip-path=\"url(#clip880)\" d=\"M33.7671 739.179 L14.479 739.179 L14.479 733.323 L64.0042 733.323 L64.0042 739.179 L58.657 739.179 Q61.8398 741.025 63.3994 743.858 Q64.9272 746.659 64.9272 750.606 Q64.9272 757.067 59.771 761.141 Q54.6147 765.183 46.212 765.183 Q37.8093 765.183 32.6531 761.141 Q27.4968 757.067 27.4968 750.606 Q27.4968 746.659 29.0564 743.858 Q30.5842 741.025 33.7671 739.179 M46.212 759.136 Q52.6732 759.136 56.3653 756.494 Q60.0256 753.82 60.0256 749.173 Q60.0256 744.526 56.3653 741.853 Q52.6732 739.179 46.212 739.179 Q39.7508 739.179 36.0905 741.853 Q32.3984 744.526 32.3984 749.173 Q32.3984 753.82 36.0905 756.494 Q39.7508 759.136 46.212 759.136 Z\" fill=\"#000000\" fill-rule=\"evenodd\" fill-opacity=\"1\" /><path clip-path=\"url(#clip880)\" d=\"M918.781 59.3397 Q921.414 60.2309 923.885 63.1475 Q926.397 66.0642 928.908 71.1683 L937.213 87.696 L928.422 87.696 L920.685 72.181 Q917.687 66.1047 914.852 64.1197 Q912.057 62.1348 907.196 62.1348 L898.284 62.1348 L898.284 87.696 L890.101 87.696 L890.101 27.216 L908.573 27.216 Q918.943 27.216 924.047 31.5505 Q929.152 35.8849 929.152 44.6349 Q929.152 50.3467 926.478 54.114 Q923.845 57.8813 918.781 59.3397 M898.284 33.9405 L898.284 55.4103 L908.573 55.4103 Q914.487 55.4103 917.485 52.6962 Q920.523 49.9416 920.523 44.6349 Q920.523 39.3282 917.485 36.6546 Q914.487 33.9405 908.573 33.9405 L898.284 33.9405 Z\" fill=\"#000000\" fill-rule=\"evenodd\" fill-opacity=\"1\" /><path clip-path=\"url(#clip880)\" d=\"M982.502 63.1475 L982.502 66.7933 L948.231 66.7933 Q948.717 74.4901 952.849 78.541 Q957.022 82.5514 964.435 82.5514 Q968.729 82.5514 972.739 81.4981 Q976.79 80.4449 980.76 78.3384 L980.76 85.387 Q976.75 87.0884 972.537 87.9796 Q968.324 88.8708 963.989 88.8708 Q953.133 88.8708 946.773 82.5514 Q940.454 76.2319 940.454 65.4565 Q940.454 54.3165 946.449 47.7946 Q952.485 41.2321 962.693 41.2321 Q971.848 41.2321 977.155 47.1464 Q982.502 53.0203 982.502 63.1475 M975.048 60.96 Q974.967 54.8432 971.605 51.1974 Q968.283 47.5515 962.774 47.5515 Q956.536 47.5515 952.768 51.0758 Q949.041 54.6001 948.474 61.0005 L975.048 60.96 Z\" fill=\"#000000\" fill-rule=\"evenodd\" fill-opacity=\"1\" /><path clip-path=\"url(#clip880)\" d=\"M1015.35 64.8894 Q1006.32 64.8894 1002.84 66.9554 Q999.354 69.0213 999.354 74.0039 Q999.354 77.9738 1001.95 80.3234 Q1004.58 82.6324 1009.08 82.6324 Q1015.27 82.6324 1019 78.2574 Q1022.77 73.8419 1022.77 66.5503 L1022.77 64.8894 L1015.35 64.8894 M1030.22 61.8107 L1030.22 87.696 L1022.77 87.696 L1022.77 80.8095 Q1020.22 84.9414 1016.41 86.9263 Q1012.6 88.8708 1007.09 88.8708 Q1000.12 88.8708 995.991 84.9819 Q991.9 81.0525 991.9 74.4901 Q991.9 66.8338 997.004 62.945 Q1002.15 59.0561 1012.32 59.0561 L1022.77 59.0561 L1022.77 58.3269 Q1022.77 53.1823 1019.37 50.3872 Q1016 47.5515 1009.89 47.5515 Q1006 47.5515 1002.31 48.4832 Q998.625 49.415 995.222 51.2784 L995.222 44.3918 Q999.313 42.812 1003.16 42.0423 Q1007.01 41.2321 1010.66 41.2321 Q1020.5 41.2321 1025.36 46.3363 Q1030.22 51.4404 1030.22 61.8107 Z\" fill=\"#000000\" fill-rule=\"evenodd\" fill-opacity=\"1\" /><path clip-path=\"url(#clip880)\" d=\"M1075.43 49.2124 L1075.43 24.6639 L1082.88 24.6639 L1082.88 87.696 L1075.43 87.696 L1075.43 80.8905 Q1073.08 84.9414 1069.47 86.9263 Q1065.91 88.8708 1060.89 88.8708 Q1052.66 88.8708 1047.48 82.3083 Q1042.33 75.7458 1042.33 65.0514 Q1042.33 54.3571 1047.48 47.7946 Q1052.66 41.2321 1060.89 41.2321 Q1065.91 41.2321 1069.47 43.2171 Q1073.08 45.1615 1075.43 49.2124 M1050.03 65.0514 Q1050.03 73.2748 1053.39 77.9738 Q1056.8 82.6324 1062.71 82.6324 Q1068.62 82.6324 1072.03 77.9738 Q1075.43 73.2748 1075.43 65.0514 Q1075.43 56.8281 1072.03 52.1696 Q1068.62 47.4705 1062.71 47.4705 Q1056.8 47.4705 1053.39 52.1696 Q1050.03 56.8281 1050.03 65.0514 Z\" fill=\"#000000\" fill-rule=\"evenodd\" fill-opacity=\"1\" /><path clip-path=\"url(#clip880)\" d=\"M1133.11 33.9405 L1133.11 56.6661 L1143.4 56.6661 Q1149.12 56.6661 1152.23 53.7089 Q1155.35 50.7518 1155.35 45.283 Q1155.35 39.8548 1152.23 36.8977 Q1149.12 33.9405 1143.4 33.9405 L1133.11 33.9405 M1124.93 27.216 L1143.4 27.216 Q1153.57 27.216 1158.76 31.834 Q1163.98 36.4116 1163.98 45.283 Q1163.98 54.2355 1158.76 58.8131 Q1153.57 63.3906 1143.4 63.3906 L1133.11 63.3906 L1133.11 87.696 L1124.93 87.696 L1124.93 27.216 Z\" fill=\"#000000\" fill-rule=\"evenodd\" fill-opacity=\"1\" /><path clip-path=\"url(#clip880)\" d=\"M1210.49 63.1475 L1210.49 66.7933 L1176.22 66.7933 Q1176.7 74.4901 1180.83 78.541 Q1185.01 82.5514 1192.42 82.5514 Q1196.71 82.5514 1200.72 81.4981 Q1204.78 80.4449 1208.74 78.3384 L1208.74 85.387 Q1204.73 87.0884 1200.52 87.9796 Q1196.31 88.8708 1191.97 88.8708 Q1181.12 88.8708 1174.76 82.5514 Q1168.44 76.2319 1168.44 65.4565 Q1168.44 54.3165 1174.43 47.7946 Q1180.47 41.2321 1190.68 41.2321 Q1199.83 41.2321 1205.14 47.1464 Q1210.49 53.0203 1210.49 63.1475 M1203.03 60.96 Q1202.95 54.8432 1199.59 51.1974 Q1196.27 47.5515 1190.76 47.5515 Q1184.52 47.5515 1180.75 51.0758 Q1177.03 54.6001 1176.46 61.0005 L1203.03 60.96 Z\" fill=\"#000000\" fill-rule=\"evenodd\" fill-opacity=\"1\" /><path clip-path=\"url(#clip880)\" d=\"M1249.01 49.2934 Q1247.76 48.5643 1246.26 48.2402 Q1244.8 47.8756 1243.02 47.8756 Q1236.7 47.8756 1233.29 52.0075 Q1229.93 56.0989 1229.93 63.7957 L1229.93 87.696 L1222.44 87.696 L1222.44 42.3259 L1229.93 42.3259 L1229.93 49.3744 Q1232.28 45.2425 1236.05 43.2576 Q1239.82 41.2321 1245.2 41.2321 Q1245.97 41.2321 1246.9 41.3537 Q1247.84 41.4347 1248.97 41.6372 L1249.01 49.2934 Z\" fill=\"#000000\" fill-rule=\"evenodd\" fill-opacity=\"1\" /><path clip-path=\"url(#clip880)\" d=\"M1279.8 24.6639 L1279.8 30.8618 L1272.67 30.8618 Q1268.66 30.8618 1267.08 32.4822 Q1265.54 34.1025 1265.54 38.3155 L1265.54 42.3259 L1277.81 42.3259 L1277.81 48.1187 L1265.54 48.1187 L1265.54 87.696 L1258.04 87.696 L1258.04 48.1187 L1250.91 48.1187 L1250.91 42.3259 L1258.04 42.3259 L1258.04 39.1662 Q1258.04 31.591 1261.57 28.1477 Q1265.09 24.6639 1272.75 24.6639 L1279.8 24.6639 Z\" fill=\"#000000\" fill-rule=\"evenodd\" fill-opacity=\"1\" /><path clip-path=\"url(#clip880)\" d=\"M1303.62 47.5515 Q1297.62 47.5515 1294.14 52.2506 Q1290.65 56.9091 1290.65 65.0514 Q1290.65 73.1938 1294.1 77.8928 Q1297.58 82.5514 1303.62 82.5514 Q1309.57 82.5514 1313.06 77.8523 Q1316.54 73.1533 1316.54 65.0514 Q1316.54 56.9901 1313.06 52.2911 Q1309.57 47.5515 1303.62 47.5515 M1303.62 41.2321 Q1313.34 41.2321 1318.89 47.5515 Q1324.44 53.8709 1324.44 65.0514 Q1324.44 76.1914 1318.89 82.5514 Q1313.34 88.8708 1303.62 88.8708 Q1293.85 88.8708 1288.3 82.5514 Q1282.8 76.1914 1282.8 65.0514 Q1282.8 53.8709 1288.3 47.5515 Q1293.85 41.2321 1303.62 41.2321 Z\" fill=\"#000000\" fill-rule=\"evenodd\" fill-opacity=\"1\" /><path clip-path=\"url(#clip880)\" d=\"M1363.08 49.2934 Q1361.83 48.5643 1360.33 48.2402 Q1358.87 47.8756 1357.09 47.8756 Q1350.77 47.8756 1347.37 52.0075 Q1344 56.0989 1344 63.7957 L1344 87.696 L1336.51 87.696 L1336.51 42.3259 L1344 42.3259 L1344 49.3744 Q1346.35 45.2425 1350.12 43.2576 Q1353.89 41.2321 1359.28 41.2321 Q1360.05 41.2321 1360.98 41.3537 Q1361.91 41.4347 1363.04 41.6372 L1363.08 49.2934 Z\" fill=\"#000000\" fill-rule=\"evenodd\" fill-opacity=\"1\" /><path clip-path=\"url(#clip880)\" d=\"M1404.77 51.0353 Q1407.56 46.0122 1411.45 43.6222 Q1415.34 41.2321 1420.61 41.2321 Q1427.7 41.2321 1431.54 46.2147 Q1435.39 51.1568 1435.39 60.3119 L1435.39 87.696 L1427.9 87.696 L1427.9 60.5549 Q1427.9 54.033 1425.59 50.8733 Q1423.28 47.7136 1418.54 47.7136 Q1412.75 47.7136 1409.39 51.5619 Q1406.02 55.4103 1406.02 62.0538 L1406.02 87.696 L1398.53 87.696 L1398.53 60.5549 Q1398.53 53.9925 1396.22 50.8733 Q1393.91 47.7136 1389.09 47.7136 Q1383.38 47.7136 1380.02 51.6024 Q1376.65 55.4508 1376.65 62.0538 L1376.65 87.696 L1369.16 87.696 L1369.16 42.3259 L1376.65 42.3259 L1376.65 49.3744 Q1379.21 45.202 1382.77 43.2171 Q1386.34 41.2321 1391.24 41.2321 Q1396.18 41.2321 1399.62 43.7437 Q1403.11 46.2552 1404.77 51.0353 Z\" fill=\"#000000\" fill-rule=\"evenodd\" fill-opacity=\"1\" /><path clip-path=\"url(#clip880)\" d=\"M1470.88 64.8894 Q1461.85 64.8894 1458.36 66.9554 Q1454.88 69.0213 1454.88 74.0039 Q1454.88 77.9738 1457.47 80.3234 Q1460.1 82.6324 1464.6 82.6324 Q1470.8 82.6324 1474.52 78.2574 Q1478.29 73.8419 1478.29 66.5503 L1478.29 64.8894 L1470.88 64.8894 M1485.75 61.8107 L1485.75 87.696 L1478.29 87.696 L1478.29 80.8095 Q1475.74 84.9414 1471.93 86.9263 Q1468.12 88.8708 1462.62 88.8708 Q1455.65 88.8708 1451.52 84.9819 Q1447.42 81.0525 1447.42 74.4901 Q1447.42 66.8338 1452.53 62.945 Q1457.67 59.0561 1467.84 59.0561 L1478.29 59.0561 L1478.29 58.3269 Q1478.29 53.1823 1474.89 50.3872 Q1471.53 47.5515 1465.41 47.5515 Q1461.52 47.5515 1457.84 48.4832 Q1454.15 49.415 1450.75 51.2784 L1450.75 44.3918 Q1454.84 42.812 1458.69 42.0423 Q1462.53 41.2321 1466.18 41.2321 Q1476.02 41.2321 1480.88 46.3363 Q1485.75 51.4404 1485.75 61.8107 Z\" fill=\"#000000\" fill-rule=\"evenodd\" fill-opacity=\"1\" /><path clip-path=\"url(#clip880)\" d=\"M1538.81 60.3119 L1538.81 87.696 L1531.36 87.696 L1531.36 60.5549 Q1531.36 54.114 1528.85 50.9138 Q1526.34 47.7136 1521.31 47.7136 Q1515.28 47.7136 1511.79 51.5619 Q1508.31 55.4103 1508.31 62.0538 L1508.31 87.696 L1500.82 87.696 L1500.82 42.3259 L1508.31 42.3259 L1508.31 49.3744 Q1510.98 45.283 1514.59 43.2576 Q1518.23 41.2321 1522.97 41.2321 Q1530.79 41.2321 1534.8 46.0932 Q1538.81 50.9138 1538.81 60.3119 Z\" fill=\"#000000\" fill-rule=\"evenodd\" fill-opacity=\"1\" /><path clip-path=\"url(#clip880)\" d=\"M1586.33 44.0678 L1586.33 51.0353 Q1583.17 49.2934 1579.97 48.4427 Q1576.81 47.5515 1573.57 47.5515 Q1566.32 47.5515 1562.31 52.1696 Q1558.3 56.7471 1558.3 65.0514 Q1558.3 73.3558 1562.31 77.9738 Q1566.32 82.5514 1573.57 82.5514 Q1576.81 82.5514 1579.97 81.7007 Q1583.17 80.8095 1586.33 79.0676 L1586.33 85.9541 Q1583.21 87.4124 1579.85 88.1416 Q1576.53 88.8708 1572.76 88.8708 Q1562.51 88.8708 1556.47 82.4298 Q1550.44 75.9889 1550.44 65.0514 Q1550.44 53.952 1556.52 47.592 Q1562.63 41.2321 1573.25 41.2321 Q1576.69 41.2321 1579.97 41.9613 Q1583.25 42.6499 1586.33 44.0678 Z\" fill=\"#000000\" fill-rule=\"evenodd\" fill-opacity=\"1\" /><path clip-path=\"url(#clip880)\" d=\"M1638.1 63.1475 L1638.1 66.7933 L1603.83 66.7933 Q1604.32 74.4901 1608.45 78.541 Q1612.62 82.5514 1620.03 82.5514 Q1624.33 82.5514 1628.34 81.4981 Q1632.39 80.4449 1636.36 78.3384 L1636.36 85.387 Q1632.35 87.0884 1628.14 87.9796 Q1623.92 88.8708 1619.59 88.8708 Q1608.73 88.8708 1602.37 82.5514 Q1596.05 76.2319 1596.05 65.4565 Q1596.05 54.3165 1602.05 47.7946 Q1608.08 41.2321 1618.29 41.2321 Q1627.45 41.2321 1632.75 47.1464 Q1638.1 53.0203 1638.1 63.1475 M1630.65 60.96 Q1630.57 54.8432 1627.2 51.1974 Q1623.88 47.5515 1618.37 47.5515 Q1612.13 47.5515 1608.37 51.0758 Q1604.64 54.6001 1604.07 61.0005 L1630.65 60.96 Z\" fill=\"#000000\" fill-rule=\"evenodd\" fill-opacity=\"1\" /><path clip-path=\"url(#clip880)\" d=\"M914.994 124.661 L914.994 171.691 L924.878 171.691 Q937.395 171.691 943.188 166.02 Q949.021 160.349 949.021 148.115 Q949.021 135.963 943.188 130.332 Q937.395 124.661 924.878 124.661 L914.994 124.661 M906.811 117.936 L923.622 117.936 Q941.203 117.936 949.426 125.268 Q957.65 132.56 957.65 148.115 Q957.65 163.752 949.386 171.084 Q941.122 178.416 923.622 178.416 L906.811 178.416 L906.811 117.936 Z\" fill=\"#000000\" fill-rule=\"evenodd\" fill-opacity=\"1\" /><path clip-path=\"url(#clip880)\" d=\"M990.989 155.609 Q981.955 155.609 978.471 157.675 Q974.988 159.741 974.988 164.724 Q974.988 168.694 977.58 171.043 Q980.213 173.352 984.71 173.352 Q990.908 173.352 994.634 168.977 Q998.402 164.562 998.402 157.27 L998.402 155.609 L990.989 155.609 M1005.86 152.531 L1005.86 178.416 L998.402 178.416 L998.402 171.529 Q995.85 175.661 992.042 177.646 Q988.234 179.591 982.725 179.591 Q975.757 179.591 971.625 175.702 Q967.534 171.773 967.534 165.21 Q967.534 157.554 972.638 153.665 Q977.783 149.776 987.95 149.776 L998.402 149.776 L998.402 149.047 Q998.402 143.902 994.999 141.107 Q991.637 138.272 985.52 138.272 Q981.631 138.272 977.945 139.203 Q974.258 140.135 970.856 141.998 L970.856 135.112 Q974.947 133.532 978.795 132.762 Q982.644 131.952 986.29 131.952 Q996.133 131.952 1000.99 137.056 Q1005.86 142.16 1005.86 152.531 Z\" fill=\"#000000\" fill-rule=\"evenodd\" fill-opacity=\"1\" /><path clip-path=\"url(#clip880)\" d=\"M1028.58 120.164 L1028.58 133.046 L1043.93 133.046 L1043.93 138.839 L1028.58 138.839 L1028.58 163.468 Q1028.58 169.018 1030.08 170.598 Q1031.62 172.178 1036.28 172.178 L1043.93 172.178 L1043.93 178.416 L1036.28 178.416 Q1027.65 178.416 1024.37 175.216 Q1021.09 171.975 1021.09 163.468 L1021.09 138.839 L1015.62 138.839 L1015.62 133.046 L1021.09 133.046 L1021.09 120.164 L1028.58 120.164 Z\" fill=\"#000000\" fill-rule=\"evenodd\" fill-opacity=\"1\" /><path clip-path=\"url(#clip880)\" d=\"M1074.36 155.609 Q1065.32 155.609 1061.84 157.675 Q1058.36 159.741 1058.36 164.724 Q1058.36 168.694 1060.95 171.043 Q1063.58 173.352 1068.08 173.352 Q1074.28 173.352 1078 168.977 Q1081.77 164.562 1081.77 157.27 L1081.77 155.609 L1074.36 155.609 M1089.22 152.531 L1089.22 178.416 L1081.77 178.416 L1081.77 171.529 Q1079.22 175.661 1075.41 177.646 Q1071.6 179.591 1066.09 179.591 Q1059.12 179.591 1054.99 175.702 Q1050.9 171.773 1050.9 165.21 Q1050.9 157.554 1056.01 153.665 Q1061.15 149.776 1071.32 149.776 L1081.77 149.776 L1081.77 149.047 Q1081.77 143.902 1078.37 141.107 Q1075 138.272 1068.89 138.272 Q1065 138.272 1061.31 139.203 Q1057.63 140.135 1054.22 141.998 L1054.22 135.112 Q1058.31 133.532 1062.16 132.762 Q1066.01 131.952 1069.66 131.952 Q1079.5 131.952 1084.36 137.056 Q1089.22 142.16 1089.22 152.531 Z\" fill=\"#000000\" fill-rule=\"evenodd\" fill-opacity=\"1\" /><path clip-path=\"url(#clip880)\" d=\"M1104.9 117.936 L1139.66 117.936 L1139.66 124.823 L1113.08 124.823 L1113.08 142.647 L1137.06 142.647 L1137.06 149.533 L1113.08 149.533 L1113.08 178.416 L1104.9 178.416 L1104.9 117.936 Z\" fill=\"#000000\" fill-rule=\"evenodd\" fill-opacity=\"1\" /><path clip-path=\"url(#clip880)\" d=\"M1172.55 140.013 Q1171.29 139.284 1169.8 138.96 Q1168.34 138.596 1166.55 138.596 Q1160.24 138.596 1156.83 142.728 Q1153.47 146.819 1153.47 154.516 L1153.47 178.416 L1145.98 178.416 L1145.98 133.046 L1153.47 133.046 L1153.47 140.094 Q1155.82 135.963 1159.59 133.978 Q1163.35 131.952 1168.74 131.952 Q1169.51 131.952 1170.44 132.074 Q1171.38 132.155 1172.51 132.357 L1172.55 140.013 Z\" fill=\"#000000\" fill-rule=\"evenodd\" fill-opacity=\"1\" /><path clip-path=\"url(#clip880)\" d=\"M1200.99 155.609 Q1191.95 155.609 1188.47 157.675 Q1184.99 159.741 1184.99 164.724 Q1184.99 168.694 1187.58 171.043 Q1190.21 173.352 1194.71 173.352 Q1200.91 173.352 1204.63 168.977 Q1208.4 164.562 1208.4 157.27 L1208.4 155.609 L1200.99 155.609 M1215.85 152.531 L1215.85 178.416 L1208.4 178.416 L1208.4 171.529 Q1205.85 175.661 1202.04 177.646 Q1198.23 179.591 1192.72 179.591 Q1185.76 179.591 1181.62 175.702 Q1177.53 171.773 1177.53 165.21 Q1177.53 157.554 1182.64 153.665 Q1187.78 149.776 1197.95 149.776 L1208.4 149.776 L1208.4 149.047 Q1208.4 143.902 1205 141.107 Q1201.64 138.272 1195.52 138.272 Q1191.63 138.272 1187.94 139.203 Q1184.26 140.135 1180.85 141.998 L1180.85 135.112 Q1184.95 133.532 1188.79 132.762 Q1192.64 131.952 1196.29 131.952 Q1206.13 131.952 1210.99 137.056 Q1215.85 142.16 1215.85 152.531 Z\" fill=\"#000000\" fill-rule=\"evenodd\" fill-opacity=\"1\" /><path clip-path=\"url(#clip880)\" d=\"M1266.53 141.755 Q1269.33 136.732 1273.22 134.342 Q1277.1 131.952 1282.37 131.952 Q1289.46 131.952 1293.31 136.935 Q1297.16 141.877 1297.16 151.032 L1297.16 178.416 L1289.66 178.416 L1289.66 151.275 Q1289.66 144.753 1287.35 141.593 Q1285.04 138.434 1280.3 138.434 Q1274.51 138.434 1271.15 142.282 Q1267.79 146.13 1267.79 152.774 L1267.79 178.416 L1260.29 178.416 L1260.29 151.275 Q1260.29 144.712 1257.98 141.593 Q1255.67 138.434 1250.85 138.434 Q1245.14 138.434 1241.78 142.322 Q1238.42 146.171 1238.42 152.774 L1238.42 178.416 L1230.92 178.416 L1230.92 133.046 L1238.42 133.046 L1238.42 140.094 Q1240.97 135.922 1244.53 133.937 Q1248.1 131.952 1253 131.952 Q1257.94 131.952 1261.39 134.464 Q1264.87 136.975 1266.53 141.755 Z\" fill=\"#000000\" fill-rule=\"evenodd\" fill-opacity=\"1\" /><path clip-path=\"url(#clip880)\" d=\"M1350.83 153.868 L1350.83 157.513 L1316.56 157.513 Q1317.05 165.21 1321.18 169.261 Q1325.35 173.271 1332.76 173.271 Q1337.06 173.271 1341.07 172.218 Q1345.12 171.165 1349.09 169.058 L1349.09 176.107 Q1345.08 177.808 1340.87 178.7 Q1336.65 179.591 1332.32 179.591 Q1321.46 179.591 1315.1 173.271 Q1308.78 166.952 1308.78 156.177 Q1308.78 145.037 1314.78 138.515 Q1320.81 131.952 1331.02 131.952 Q1340.18 131.952 1345.48 137.866 Q1350.83 143.74 1350.83 153.868 M1343.38 151.68 Q1343.3 145.563 1339.93 141.917 Q1336.61 138.272 1331.1 138.272 Q1324.86 138.272 1321.1 141.796 Q1317.37 145.32 1316.8 151.721 L1343.38 151.68 Z\" fill=\"#000000\" fill-rule=\"evenodd\" fill-opacity=\"1\" /><path clip-path=\"url(#clip880)\" d=\"M1364.97 168.127 L1373.52 168.127 L1373.52 178.416 L1364.97 178.416 L1364.97 168.127 M1364.97 135.517 L1373.52 135.517 L1373.52 145.806 L1364.97 145.806 L1364.97 135.517 Z\" fill=\"#000000\" fill-rule=\"evenodd\" fill-opacity=\"1\" /><path clip-path=\"url(#clip880)\" d=\"M1449.96 155.771 Q1449.96 147.548 1446.55 142.89 Q1443.19 138.191 1437.28 138.191 Q1431.36 138.191 1427.96 142.89 Q1424.6 147.548 1424.6 155.771 Q1424.6 163.995 1427.96 168.694 Q1431.36 173.352 1437.28 173.352 Q1443.19 173.352 1446.55 168.694 Q1449.96 163.995 1449.96 155.771 M1424.6 139.932 Q1426.95 135.882 1430.51 133.937 Q1434.12 131.952 1439.1 131.952 Q1447.36 131.952 1452.51 138.515 Q1457.69 145.077 1457.69 155.771 Q1457.69 166.466 1452.51 173.028 Q1447.36 179.591 1439.1 179.591 Q1434.12 179.591 1430.51 177.646 Q1426.95 175.661 1424.6 171.61 L1424.6 178.416 L1417.1 178.416 L1417.1 115.384 L1424.6 115.384 L1424.6 139.932 Z\" fill=\"#000000\" fill-rule=\"evenodd\" fill-opacity=\"1\" /><path clip-path=\"url(#clip880)\" d=\"M1470.05 133.046 L1477.5 133.046 L1477.5 178.416 L1470.05 178.416 L1470.05 133.046 M1470.05 115.384 L1477.5 115.384 L1477.5 124.823 L1470.05 124.823 L1470.05 115.384 Z\" fill=\"#000000\" fill-rule=\"evenodd\" fill-opacity=\"1\" /><path clip-path=\"url(#clip880)\" d=\"M1522.95 155.204 Q1522.95 147.103 1519.59 142.647 Q1516.27 138.191 1510.23 138.191 Q1504.24 138.191 1500.88 142.647 Q1497.55 147.103 1497.55 155.204 Q1497.55 163.266 1500.88 167.722 Q1504.24 172.178 1510.23 172.178 Q1516.27 172.178 1519.59 167.722 Q1522.95 163.266 1522.95 155.204 M1530.41 172.785 Q1530.41 184.371 1525.26 190.002 Q1520.12 195.673 1509.5 195.673 Q1505.57 195.673 1502.09 195.065 Q1498.61 194.498 1495.33 193.283 L1495.33 186.032 Q1498.61 187.814 1501.81 188.665 Q1505.01 189.515 1508.33 189.515 Q1515.66 189.515 1519.31 185.667 Q1522.95 181.859 1522.95 174.122 L1522.95 170.436 Q1520.64 174.446 1517.04 176.431 Q1513.43 178.416 1508.41 178.416 Q1500.07 178.416 1494.96 172.056 Q1489.86 165.696 1489.86 155.204 Q1489.86 144.672 1494.96 138.312 Q1500.07 131.952 1508.41 131.952 Q1513.43 131.952 1517.04 133.937 Q1520.64 135.922 1522.95 139.932 L1522.95 133.046 L1530.41 133.046 L1530.41 172.785 Z\" fill=\"#000000\" fill-rule=\"evenodd\" fill-opacity=\"1\" /><path clip-path=\"url(#clip880)\" d=\"M1575.62 139.932 L1575.62 115.384 L1583.07 115.384 L1583.07 178.416 L1575.62 178.416 L1575.62 171.61 Q1573.27 175.661 1569.66 177.646 Q1566.1 179.591 1561.07 179.591 Q1552.85 179.591 1547.66 173.028 Q1542.52 166.466 1542.52 155.771 Q1542.52 145.077 1547.66 138.515 Q1552.85 131.952 1561.07 131.952 Q1566.1 131.952 1569.66 133.937 Q1573.27 135.882 1575.62 139.932 M1550.22 155.771 Q1550.22 163.995 1553.58 168.694 Q1556.98 173.352 1562.9 173.352 Q1568.81 173.352 1572.21 168.694 Q1575.62 163.995 1575.62 155.771 Q1575.62 147.548 1572.21 142.89 Q1568.81 138.191 1562.9 138.191 Q1556.98 138.191 1553.58 142.89 Q1550.22 147.548 1550.22 155.771 Z\" fill=\"#000000\" fill-rule=\"evenodd\" fill-opacity=\"1\" /><path clip-path=\"url(#clip880)\" d=\"M1621.39 115.384 L1621.39 121.582 L1614.26 121.582 Q1610.25 121.582 1608.67 123.202 Q1607.13 124.823 1607.13 129.035 L1607.13 133.046 L1619.41 133.046 L1619.41 138.839 L1607.13 138.839 L1607.13 178.416 L1599.64 178.416 L1599.64 138.839 L1592.51 138.839 L1592.51 133.046 L1599.64 133.046 L1599.64 129.886 Q1599.64 122.311 1603.16 118.868 Q1606.69 115.384 1614.34 115.384 L1621.39 115.384 Z\" fill=\"#000000\" fill-rule=\"evenodd\" fill-opacity=\"1\" /><path clip-path=\"url(#clip880)\" d=\"M874.363 210.641 L874.363 218.621 Q869.705 216.393 865.573 215.299 Q861.441 214.206 857.592 214.206 Q850.908 214.206 847.263 216.798 Q843.657 219.391 843.657 224.171 Q843.657 228.181 846.047 230.247 Q848.478 232.273 855.202 233.529 L860.144 234.541 Q869.299 236.283 873.634 240.699 Q878.009 245.074 878.009 252.446 Q878.009 261.237 872.095 265.774 Q866.221 270.311 854.838 270.311 Q850.544 270.311 845.683 269.339 Q840.862 268.366 835.677 266.462 L835.677 258.037 Q840.66 260.832 845.44 262.249 Q850.22 263.667 854.838 263.667 Q861.846 263.667 865.654 260.913 Q869.461 258.158 869.461 253.054 Q869.461 248.598 866.707 246.086 Q863.993 243.575 857.754 242.319 L852.772 241.347 Q843.617 239.524 839.525 235.635 Q835.434 231.746 835.434 224.819 Q835.434 216.798 841.065 212.18 Q846.736 207.562 856.661 207.562 Q860.914 207.562 865.33 208.332 Q869.745 209.102 874.363 210.641 Z\" fill=\"#000000\" fill-rule=\"evenodd\" fill-opacity=\"1\" /><path clip-path=\"url(#clip880)\" d=\"M890.445 223.766 L897.899 223.766 L897.899 269.136 L890.445 269.136 L890.445 223.766 M890.445 206.104 L897.899 206.104 L897.899 215.543 L890.445 215.543 L890.445 206.104 Z\" fill=\"#000000\" fill-rule=\"evenodd\" fill-opacity=\"1\" /><path clip-path=\"url(#clip880)\" d=\"M910.254 223.766 L945.659 223.766 L945.659 230.571 L917.627 263.181 L945.659 263.181 L945.659 269.136 L909.241 269.136 L909.241 262.33 L937.274 229.721 L910.254 229.721 L910.254 223.766 Z\" fill=\"#000000\" fill-rule=\"evenodd\" fill-opacity=\"1\" /><path clip-path=\"url(#clip880)\" d=\"M995.85 244.588 L995.85 248.233 L961.579 248.233 Q962.065 255.93 966.197 259.981 Q970.369 263.991 977.783 263.991 Q982.077 263.991 986.087 262.938 Q990.138 261.885 994.108 259.778 L994.108 266.827 Q990.097 268.528 985.884 269.42 Q981.672 270.311 977.337 270.311 Q966.481 270.311 960.121 263.991 Q953.801 257.672 953.801 246.897 Q953.801 235.757 959.797 229.235 Q965.832 222.672 976.041 222.672 Q985.196 222.672 990.502 228.586 Q995.85 234.46 995.85 244.588 M988.396 242.4 Q988.315 236.283 984.953 232.637 Q981.631 228.992 976.122 228.992 Q969.883 228.992 966.116 232.516 Q962.389 236.04 961.822 242.441 L988.396 242.4 Z\" fill=\"#000000\" fill-rule=\"evenodd\" fill-opacity=\"1\" /><path clip-path=\"url(#clip880)\" d=\"M1009.99 258.847 L1018.53 258.847 L1018.53 269.136 L1009.99 269.136 L1009.99 258.847 M1009.99 226.237 L1018.53 226.237 L1018.53 236.526 L1009.99 236.526 L1009.99 226.237 Z\" fill=\"#000000\" fill-rule=\"evenodd\" fill-opacity=\"1\" /><path clip-path=\"url(#clip880)\" d=\"M1080.31 206.185 Q1074.88 215.502 1072.25 224.617 Q1069.62 233.731 1069.62 243.089 Q1069.62 252.446 1072.25 261.642 Q1074.92 270.797 1080.31 280.073 L1073.83 280.073 Q1067.75 270.554 1064.72 261.358 Q1061.72 252.163 1061.72 243.089 Q1061.72 234.055 1064.72 224.9 Q1067.71 215.745 1073.83 206.185 L1080.31 206.185 Z\" fill=\"#000000\" fill-rule=\"evenodd\" fill-opacity=\"1\" /><path clip-path=\"url(#clip880)\" d=\"M1097.24 262.249 L1110.61 262.249 L1110.61 216.11 L1096.07 219.026 L1096.07 211.573 L1110.53 208.656 L1118.71 208.656 L1118.71 262.249 L1132.08 262.249 L1132.08 269.136 L1097.24 269.136 L1097.24 262.249 Z\" fill=\"#000000\" fill-rule=\"evenodd\" fill-opacity=\"1\" /><path clip-path=\"url(#clip880)\" d=\"M1166.11 214.044 Q1159.79 214.044 1156.59 220.282 Q1153.43 226.48 1153.43 238.957 Q1153.43 251.393 1156.59 257.631 Q1159.79 263.829 1166.11 263.829 Q1172.47 263.829 1175.63 257.631 Q1178.83 251.393 1178.83 238.957 Q1178.83 226.48 1175.63 220.282 Q1172.47 214.044 1166.11 214.044 M1166.11 207.562 Q1176.28 207.562 1181.62 215.624 Q1187.01 223.644 1187.01 238.957 Q1187.01 254.229 1181.62 262.29 Q1176.28 270.311 1166.11 270.311 Q1155.94 270.311 1150.55 262.29 Q1145.21 254.229 1145.21 238.957 Q1145.21 223.644 1150.55 215.624 Q1155.94 207.562 1166.11 207.562 Z\" fill=\"#000000\" fill-rule=\"evenodd\" fill-opacity=\"1\" /><path clip-path=\"url(#clip880)\" d=\"M1218.89 214.044 Q1212.57 214.044 1209.37 220.282 Q1206.21 226.48 1206.21 238.957 Q1206.21 251.393 1209.37 257.631 Q1212.57 263.829 1218.89 263.829 Q1225.25 263.829 1228.41 257.631 Q1231.61 251.393 1231.61 238.957 Q1231.61 226.48 1228.41 220.282 Q1225.25 214.044 1218.89 214.044 M1218.89 207.562 Q1229.06 207.562 1234.41 215.624 Q1239.8 223.644 1239.8 238.957 Q1239.8 254.229 1234.41 262.29 Q1229.06 270.311 1218.89 270.311 Q1208.72 270.311 1203.34 262.29 Q1197.99 254.229 1197.99 238.957 Q1197.99 223.644 1203.34 215.624 Q1208.72 207.562 1218.89 207.562 Z\" fill=\"#000000\" fill-rule=\"evenodd\" fill-opacity=\"1\" /><path clip-path=\"url(#clip880)\" d=\"M1271.68 214.044 Q1265.36 214.044 1262.16 220.282 Q1259 226.48 1259 238.957 Q1259 251.393 1262.16 257.631 Q1265.36 263.829 1271.68 263.829 Q1278.04 263.829 1281.2 257.631 Q1284.4 251.393 1284.4 238.957 Q1284.4 226.48 1281.2 220.282 Q1278.04 214.044 1271.68 214.044 M1271.68 207.562 Q1281.84 207.562 1287.19 215.624 Q1292.58 223.644 1292.58 238.957 Q1292.58 254.229 1287.19 262.29 Q1281.84 270.311 1271.68 270.311 Q1261.51 270.311 1256.12 262.29 Q1250.77 254.229 1250.77 238.957 Q1250.77 223.644 1256.12 215.624 Q1261.51 207.562 1271.68 207.562 Z\" fill=\"#000000\" fill-rule=\"evenodd\" fill-opacity=\"1\" /><path clip-path=\"url(#clip880)\" d=\"M1324.46 214.044 Q1318.14 214.044 1314.94 220.282 Q1311.78 226.48 1311.78 238.957 Q1311.78 251.393 1314.94 257.631 Q1318.14 263.829 1324.46 263.829 Q1330.82 263.829 1333.98 257.631 Q1337.18 251.393 1337.18 238.957 Q1337.18 226.48 1333.98 220.282 Q1330.82 214.044 1324.46 214.044 M1324.46 207.562 Q1334.63 207.562 1339.97 215.624 Q1345.36 223.644 1345.36 238.957 Q1345.36 254.229 1339.97 262.29 Q1334.63 270.311 1324.46 270.311 Q1314.29 270.311 1308.9 262.29 Q1303.56 254.229 1303.56 238.957 Q1303.56 223.644 1308.9 215.624 Q1314.29 207.562 1324.46 207.562 Z\" fill=\"#000000\" fill-rule=\"evenodd\" fill-opacity=\"1\" /><path clip-path=\"url(#clip880)\" d=\"M1377.24 214.044 Q1370.92 214.044 1367.72 220.282 Q1364.56 226.48 1364.56 238.957 Q1364.56 251.393 1367.72 257.631 Q1370.92 263.829 1377.24 263.829 Q1383.6 263.829 1386.76 257.631 Q1389.96 251.393 1389.96 238.957 Q1389.96 226.48 1386.76 220.282 Q1383.6 214.044 1377.24 214.044 M1377.24 207.562 Q1387.41 207.562 1392.76 215.624 Q1398.14 223.644 1398.14 238.957 Q1398.14 254.229 1392.76 262.29 Q1387.41 270.311 1377.24 270.311 Q1367.07 270.311 1361.69 262.29 Q1356.34 254.229 1356.34 238.957 Q1356.34 223.644 1361.69 215.624 Q1367.07 207.562 1377.24 207.562 Z\" fill=\"#000000\" fill-rule=\"evenodd\" fill-opacity=\"1\" /><path clip-path=\"url(#clip880)\" d=\"M1413.38 258.847 L1421.92 258.847 L1421.92 265.814 L1415.28 278.777 L1410.05 278.777 L1413.38 265.814 L1413.38 258.847 Z\" fill=\"#000000\" fill-rule=\"evenodd\" fill-opacity=\"1\" /><path clip-path=\"url(#clip880)\" d=\"M1466.69 262.249 L1480.05 262.249 L1480.05 216.11 L1465.51 219.026 L1465.51 211.573 L1479.97 208.656 L1488.16 208.656 L1488.16 262.249 L1501.52 262.249 L1501.52 269.136 L1466.69 269.136 L1466.69 262.249 Z\" fill=\"#000000\" fill-rule=\"evenodd\" fill-opacity=\"1\" /><path clip-path=\"url(#clip880)\" d=\"M1535.55 214.044 Q1529.23 214.044 1526.03 220.282 Q1522.87 226.48 1522.87 238.957 Q1522.87 251.393 1526.03 257.631 Q1529.23 263.829 1535.55 263.829 Q1541.91 263.829 1545.07 257.631 Q1548.27 251.393 1548.27 238.957 Q1548.27 226.48 1545.07 220.282 Q1541.91 214.044 1535.55 214.044 M1535.55 207.562 Q1545.72 207.562 1551.07 215.624 Q1556.45 223.644 1556.45 238.957 Q1556.45 254.229 1551.07 262.29 Q1545.72 270.311 1535.55 270.311 Q1525.38 270.311 1520 262.29 Q1514.65 254.229 1514.65 238.957 Q1514.65 223.644 1520 215.624 Q1525.38 207.562 1535.55 207.562 Z\" fill=\"#000000\" fill-rule=\"evenodd\" fill-opacity=\"1\" /><path clip-path=\"url(#clip880)\" d=\"M1588.33 214.044 Q1582.02 214.044 1578.82 220.282 Q1575.66 226.48 1575.66 238.957 Q1575.66 251.393 1578.82 257.631 Q1582.02 263.829 1588.33 263.829 Q1594.69 263.829 1597.85 257.631 Q1601.05 251.393 1601.05 238.957 Q1601.05 226.48 1597.85 220.282 Q1594.69 214.044 1588.33 214.044 M1588.33 207.562 Q1598.5 207.562 1603.85 215.624 Q1609.24 223.644 1609.24 238.957 Q1609.24 254.229 1603.85 262.29 Q1598.5 270.311 1588.33 270.311 Q1578.17 270.311 1572.78 262.29 Q1567.43 254.229 1567.43 238.957 Q1567.43 223.644 1572.78 215.624 Q1578.17 207.562 1588.33 207.562 Z\" fill=\"#000000\" fill-rule=\"evenodd\" fill-opacity=\"1\" /><path clip-path=\"url(#clip880)\" d=\"M1641.12 214.044 Q1634.8 214.044 1631.6 220.282 Q1628.44 226.48 1628.44 238.957 Q1628.44 251.393 1631.6 257.631 Q1634.8 263.829 1641.12 263.829 Q1647.48 263.829 1650.64 257.631 Q1653.84 251.393 1653.84 238.957 Q1653.84 226.48 1650.64 220.282 Q1647.48 214.044 1641.12 214.044 M1641.12 207.562 Q1651.29 207.562 1656.63 215.624 Q1662.02 223.644 1662.02 238.957 Q1662.02 254.229 1656.63 262.29 Q1651.29 270.311 1641.12 270.311 Q1630.95 270.311 1625.56 262.29 Q1620.22 254.229 1620.22 238.957 Q1620.22 223.644 1625.56 215.624 Q1630.95 207.562 1641.12 207.562 Z\" fill=\"#000000\" fill-rule=\"evenodd\" fill-opacity=\"1\" /><path clip-path=\"url(#clip880)\" d=\"M1674.17 206.185 L1680.66 206.185 Q1686.73 215.745 1689.73 224.9 Q1692.77 234.055 1692.77 243.089 Q1692.77 252.163 1689.73 261.358 Q1686.73 270.554 1680.66 280.073 L1674.17 280.073 Q1679.56 270.797 1682.19 261.642 Q1684.87 252.446 1684.87 243.089 Q1684.87 233.731 1682.19 224.617 Q1679.56 215.502 1674.17 206.185 Z\" fill=\"#000000\" fill-rule=\"evenodd\" fill-opacity=\"1\" /><path clip-path=\"url(#clip882)\" d=\"\n",
       "M291.964 1367.9 L291.964 1417.71 L406.333 1417.71 L406.333 1367.9 L291.964 1367.9 L291.964 1367.9  Z\n",
       "  \" fill=\"#009af9\" fill-rule=\"evenodd\" fill-opacity=\"1\"/>\n",
       "<polyline clip-path=\"url(#clip882)\" style=\"stroke:#000000; stroke-linecap:butt; stroke-linejoin:round; stroke-width:4; stroke-opacity:1; fill:none\" points=\"\n",
       "  291.964,1367.9 291.964,1417.71 406.333,1417.71 406.333,1367.9 291.964,1367.9 \n",
       "  \"/>\n",
       "<path clip-path=\"url(#clip882)\" d=\"\n",
       "M577.887 1236.46 L577.887 1417.71 L692.256 1417.71 L692.256 1236.46 L577.887 1236.46 L577.887 1236.46  Z\n",
       "  \" fill=\"#009af9\" fill-rule=\"evenodd\" fill-opacity=\"1\"/>\n",
       "<polyline clip-path=\"url(#clip882)\" style=\"stroke:#000000; stroke-linecap:butt; stroke-linejoin:round; stroke-width:4; stroke-opacity:1; fill:none\" points=\"\n",
       "  577.887,1236.46 577.887,1417.71 692.256,1417.71 692.256,1236.46 577.887,1236.46 \n",
       "  \"/>\n",
       "<path clip-path=\"url(#clip882)\" d=\"\n",
       "M863.809 278.605 L863.809 1417.71 L978.178 1417.71 L978.178 278.605 L863.809 278.605 L863.809 278.605  Z\n",
       "  \" fill=\"#009af9\" fill-rule=\"evenodd\" fill-opacity=\"1\"/>\n",
       "<polyline clip-path=\"url(#clip882)\" style=\"stroke:#000000; stroke-linecap:butt; stroke-linejoin:round; stroke-width:4; stroke-opacity:1; fill:none\" points=\"\n",
       "  863.809,278.605 863.809,1417.71 978.178,1417.71 978.178,278.605 863.809,278.605 \n",
       "  \"/>\n",
       "<path clip-path=\"url(#clip882)\" d=\"\n",
       "M1149.73 1188.57 L1149.73 1417.71 L1264.1 1417.71 L1264.1 1188.57 L1149.73 1188.57 L1149.73 1188.57  Z\n",
       "  \" fill=\"#009af9\" fill-rule=\"evenodd\" fill-opacity=\"1\"/>\n",
       "<polyline clip-path=\"url(#clip882)\" style=\"stroke:#000000; stroke-linecap:butt; stroke-linejoin:round; stroke-width:4; stroke-opacity:1; fill:none\" points=\"\n",
       "  1149.73,1188.57 1149.73,1417.71 1264.1,1417.71 1264.1,1188.57 1149.73,1188.57 \n",
       "  \"/>\n",
       "<path clip-path=\"url(#clip882)\" d=\"\n",
       "M1435.65 870.923 L1435.65 1417.71 L1550.02 1417.71 L1550.02 870.923 L1435.65 870.923 L1435.65 870.923  Z\n",
       "  \" fill=\"#009af9\" fill-rule=\"evenodd\" fill-opacity=\"1\"/>\n",
       "<polyline clip-path=\"url(#clip882)\" style=\"stroke:#000000; stroke-linecap:butt; stroke-linejoin:round; stroke-width:4; stroke-opacity:1; fill:none\" points=\"\n",
       "  1435.65,870.923 1435.65,1417.71 1550.02,1417.71 1550.02,870.923 1435.65,870.923 \n",
       "  \"/>\n",
       "<path clip-path=\"url(#clip882)\" d=\"\n",
       "M1721.58 611.97 L1721.58 1417.71 L1835.95 1417.71 L1835.95 611.97 L1721.58 611.97 L1721.58 611.97  Z\n",
       "  \" fill=\"#009af9\" fill-rule=\"evenodd\" fill-opacity=\"1\"/>\n",
       "<polyline clip-path=\"url(#clip882)\" style=\"stroke:#000000; stroke-linecap:butt; stroke-linejoin:round; stroke-width:4; stroke-opacity:1; fill:none\" points=\"\n",
       "  1721.58,611.97 1721.58,1417.71 1835.95,1417.71 1835.95,611.97 1721.58,611.97 \n",
       "  \"/>\n",
       "<path clip-path=\"url(#clip882)\" d=\"\n",
       "M2007.5 528.938 L2007.5 1417.71 L2121.87 1417.71 L2121.87 528.938 L2007.5 528.938 L2007.5 528.938  Z\n",
       "  \" fill=\"#009af9\" fill-rule=\"evenodd\" fill-opacity=\"1\"/>\n",
       "<polyline clip-path=\"url(#clip882)\" style=\"stroke:#000000; stroke-linecap:butt; stroke-linejoin:round; stroke-width:4; stroke-opacity:1; fill:none\" points=\"\n",
       "  2007.5,528.938 2007.5,1417.71 2121.87,1417.71 2121.87,528.938 2007.5,528.938 \n",
       "  \"/>\n",
       "<circle clip-path=\"url(#clip882)\" style=\"fill:#009af9; stroke:none; fill-opacity:0\" cx=\"349.149\" cy=\"1367.9\" r=\"2\"/>\n",
       "<circle clip-path=\"url(#clip882)\" style=\"fill:#009af9; stroke:none; fill-opacity:0\" cx=\"635.071\" cy=\"1236.46\" r=\"2\"/>\n",
       "<circle clip-path=\"url(#clip882)\" style=\"fill:#009af9; stroke:none; fill-opacity:0\" cx=\"920.994\" cy=\"278.605\" r=\"2\"/>\n",
       "<circle clip-path=\"url(#clip882)\" style=\"fill:#009af9; stroke:none; fill-opacity:0\" cx=\"1206.92\" cy=\"1188.57\" r=\"2\"/>\n",
       "<circle clip-path=\"url(#clip882)\" style=\"fill:#009af9; stroke:none; fill-opacity:0\" cx=\"1492.84\" cy=\"870.923\" r=\"2\"/>\n",
       "<circle clip-path=\"url(#clip882)\" style=\"fill:#009af9; stroke:none; fill-opacity:0\" cx=\"1778.76\" cy=\"611.97\" r=\"2\"/>\n",
       "<circle clip-path=\"url(#clip882)\" style=\"fill:#009af9; stroke:none; fill-opacity:0\" cx=\"2064.68\" cy=\"528.938\" r=\"2\"/>\n",
       "<path clip-path=\"url(#clip882)\" d=\"\n",
       "M406.333 1415.8 L406.333 1417.71 L520.702 1417.71 L520.702 1415.8 L406.333 1415.8 L406.333 1415.8  Z\n",
       "  \" fill=\"#e26f46\" fill-rule=\"evenodd\" fill-opacity=\"1\"/>\n",
       "<polyline clip-path=\"url(#clip882)\" style=\"stroke:#000000; stroke-linecap:butt; stroke-linejoin:round; stroke-width:4; stroke-opacity:1; fill:none\" points=\"\n",
       "  406.333,1415.8 406.333,1417.71 520.702,1417.71 520.702,1415.8 406.333,1415.8 \n",
       "  \"/>\n",
       "<path clip-path=\"url(#clip882)\" d=\"\n",
       "M692.256 1286.39 L692.256 1417.71 L806.625 1417.71 L806.625 1286.39 L692.256 1286.39 L692.256 1286.39  Z\n",
       "  \" fill=\"#e26f46\" fill-rule=\"evenodd\" fill-opacity=\"1\"/>\n",
       "<polyline clip-path=\"url(#clip882)\" style=\"stroke:#000000; stroke-linecap:butt; stroke-linejoin:round; stroke-width:4; stroke-opacity:1; fill:none\" points=\"\n",
       "  692.256,1286.39 692.256,1417.71 806.625,1417.71 806.625,1286.39 692.256,1286.39 \n",
       "  \"/>\n",
       "<path clip-path=\"url(#clip882)\" d=\"\n",
       "M978.178 376.278 L978.178 1417.71 L1092.55 1417.71 L1092.55 376.278 L978.178 376.278 L978.178 376.278  Z\n",
       "  \" fill=\"#e26f46\" fill-rule=\"evenodd\" fill-opacity=\"1\"/>\n",
       "<polyline clip-path=\"url(#clip882)\" style=\"stroke:#000000; stroke-linecap:butt; stroke-linejoin:round; stroke-width:4; stroke-opacity:1; fill:none\" points=\"\n",
       "  978.178,376.278 978.178,1417.71 1092.55,1417.71 1092.55,376.278 978.178,376.278 \n",
       "  \"/>\n",
       "<path clip-path=\"url(#clip882)\" d=\"\n",
       "M1264.1 1307.62 L1264.1 1417.71 L1378.47 1417.71 L1378.47 1307.62 L1264.1 1307.62 L1264.1 1307.62  Z\n",
       "  \" fill=\"#e26f46\" fill-rule=\"evenodd\" fill-opacity=\"1\"/>\n",
       "<polyline clip-path=\"url(#clip882)\" style=\"stroke:#000000; stroke-linecap:butt; stroke-linejoin:round; stroke-width:4; stroke-opacity:1; fill:none\" points=\"\n",
       "  1264.1,1307.62 1264.1,1417.71 1378.47,1417.71 1378.47,1307.62 1264.1,1307.62 \n",
       "  \"/>\n",
       "<path clip-path=\"url(#clip882)\" d=\"\n",
       "M1550.02 879.555 L1550.02 1417.71 L1664.39 1417.71 L1664.39 879.555 L1550.02 879.555 L1550.02 879.555  Z\n",
       "  \" fill=\"#e26f46\" fill-rule=\"evenodd\" fill-opacity=\"1\"/>\n",
       "<polyline clip-path=\"url(#clip882)\" style=\"stroke:#000000; stroke-linecap:butt; stroke-linejoin:round; stroke-width:4; stroke-opacity:1; fill:none\" points=\"\n",
       "  1550.02,879.555 1550.02,1417.71 1664.39,1417.71 1664.39,879.555 1550.02,879.555 \n",
       "  \"/>\n",
       "<path clip-path=\"url(#clip882)\" d=\"\n",
       "M1835.95 638.94 L1835.95 1417.71 L1950.31 1417.71 L1950.31 638.94 L1835.95 638.94 L1835.95 638.94  Z\n",
       "  \" fill=\"#e26f46\" fill-rule=\"evenodd\" fill-opacity=\"1\"/>\n",
       "<polyline clip-path=\"url(#clip882)\" style=\"stroke:#000000; stroke-linecap:butt; stroke-linejoin:round; stroke-width:4; stroke-opacity:1; fill:none\" points=\"\n",
       "  1835.95,638.94 1835.95,1417.71 1950.31,1417.71 1950.31,638.94 1835.95,638.94 \n",
       "  \"/>\n",
       "<path clip-path=\"url(#clip882)\" d=\"\n",
       "M2121.87 465.946 L2121.87 1417.71 L2236.24 1417.71 L2236.24 465.946 L2121.87 465.946 L2121.87 465.946  Z\n",
       "  \" fill=\"#e26f46\" fill-rule=\"evenodd\" fill-opacity=\"1\"/>\n",
       "<polyline clip-path=\"url(#clip882)\" style=\"stroke:#000000; stroke-linecap:butt; stroke-linejoin:round; stroke-width:4; stroke-opacity:1; fill:none\" points=\"\n",
       "  2121.87,465.946 2121.87,1417.71 2236.24,1417.71 2236.24,465.946 2121.87,465.946 \n",
       "  \"/>\n",
       "<circle clip-path=\"url(#clip882)\" style=\"fill:#e26f46; stroke:none; fill-opacity:0\" cx=\"463.518\" cy=\"1415.8\" r=\"2\"/>\n",
       "<circle clip-path=\"url(#clip882)\" style=\"fill:#e26f46; stroke:none; fill-opacity:0\" cx=\"749.44\" cy=\"1286.39\" r=\"2\"/>\n",
       "<circle clip-path=\"url(#clip882)\" style=\"fill:#e26f46; stroke:none; fill-opacity:0\" cx=\"1035.36\" cy=\"376.278\" r=\"2\"/>\n",
       "<circle clip-path=\"url(#clip882)\" style=\"fill:#e26f46; stroke:none; fill-opacity:0\" cx=\"1321.29\" cy=\"1307.62\" r=\"2\"/>\n",
       "<circle clip-path=\"url(#clip882)\" style=\"fill:#e26f46; stroke:none; fill-opacity:0\" cx=\"1607.21\" cy=\"879.555\" r=\"2\"/>\n",
       "<circle clip-path=\"url(#clip882)\" style=\"fill:#e26f46; stroke:none; fill-opacity:0\" cx=\"1893.13\" cy=\"638.94\" r=\"2\"/>\n",
       "<circle clip-path=\"url(#clip882)\" style=\"fill:#e26f46; stroke:none; fill-opacity:0\" cx=\"2179.05\" cy=\"465.946\" r=\"2\"/>\n",
       "<path clip-path=\"url(#clip880)\" d=\"\n",
       "M1955.73 440.201 L2280.18 440.201 L2280.18 284.681 L1955.73 284.681  Z\n",
       "  \" fill=\"#ffffff\" fill-rule=\"evenodd\" fill-opacity=\"1\"/>\n",
       "<polyline clip-path=\"url(#clip880)\" style=\"stroke:#000000; stroke-linecap:butt; stroke-linejoin:round; stroke-width:4; stroke-opacity:1; fill:none\" points=\"\n",
       "  1955.73,440.201 2280.18,440.201 2280.18,284.681 1955.73,284.681 1955.73,440.201 \n",
       "  \"/>\n",
       "<path clip-path=\"url(#clip880)\" d=\"\n",
       "M1979.93 357.257 L2125.08 357.257 L2125.08 315.785 L1979.93 315.785 L1979.93 357.257  Z\n",
       "  \" fill=\"#009af9\" fill-rule=\"evenodd\" fill-opacity=\"1\"/>\n",
       "<polyline clip-path=\"url(#clip880)\" style=\"stroke:#000000; stroke-linecap:butt; stroke-linejoin:round; stroke-width:4; stroke-opacity:1; fill:none\" points=\"\n",
       "  1979.93,357.257 2125.08,357.257 2125.08,315.785 1979.93,315.785 1979.93,357.257 \n",
       "  \"/>\n",
       "<path clip-path=\"url(#clip880)\" d=\"M2149.94 349.865 L2157.58 349.865 L2157.58 323.5 L2149.27 325.167 L2149.27 320.907 L2157.54 319.241 L2162.21 319.241 L2162.21 349.865 L2169.85 349.865 L2169.85 353.801 L2149.94 353.801 L2149.94 349.865 Z\" fill=\"#000000\" fill-rule=\"evenodd\" fill-opacity=\"1\" /><path clip-path=\"url(#clip880)\" d=\"M2195.22 328.639 L2195.22 332.667 Q2193.41 331.741 2191.47 331.278 Q2189.53 330.815 2187.44 330.815 Q2184.27 330.815 2182.67 331.787 Q2181.1 332.759 2181.1 334.704 Q2181.1 336.185 2182.23 337.041 Q2183.37 337.875 2186.79 338.639 L2188.25 338.963 Q2192.79 339.935 2194.69 341.717 Q2196.61 343.477 2196.61 346.648 Q2196.61 350.259 2193.74 352.365 Q2190.89 354.472 2185.89 354.472 Q2183.81 354.472 2181.54 354.055 Q2179.29 353.662 2176.79 352.852 L2176.79 348.453 Q2179.16 349.68 2181.45 350.305 Q2183.74 350.907 2185.98 350.907 Q2188.99 350.907 2190.61 349.889 Q2192.23 348.847 2192.23 346.972 Q2192.23 345.236 2191.05 344.31 Q2189.9 343.384 2185.94 342.528 L2184.46 342.18 Q2180.5 341.347 2178.74 339.634 Q2176.98 337.898 2176.98 334.889 Q2176.98 331.231 2179.57 329.241 Q2182.16 327.25 2186.93 327.25 Q2189.29 327.25 2191.38 327.597 Q2193.46 327.944 2195.22 328.639 Z\" fill=\"#000000\" fill-rule=\"evenodd\" fill-opacity=\"1\" /><path clip-path=\"url(#clip880)\" d=\"M2207.6 320.514 L2207.6 327.875 L2216.38 327.875 L2216.38 331.185 L2207.6 331.185 L2207.6 345.259 Q2207.6 348.43 2208.46 349.333 Q2209.34 350.236 2212 350.236 L2216.38 350.236 L2216.38 353.801 L2212 353.801 Q2207.07 353.801 2205.2 351.972 Q2203.32 350.12 2203.32 345.259 L2203.32 331.185 L2200.2 331.185 L2200.2 327.875 L2203.32 327.875 L2203.32 320.514 L2207.6 320.514 Z\" fill=\"#000000\" fill-rule=\"evenodd\" fill-opacity=\"1\" /><path clip-path=\"url(#clip880)\" d=\"\n",
       "M1979.93 409.097 L2125.08 409.097 L2125.08 367.625 L1979.93 367.625 L1979.93 409.097  Z\n",
       "  \" fill=\"#e26f46\" fill-rule=\"evenodd\" fill-opacity=\"1\"/>\n",
       "<polyline clip-path=\"url(#clip880)\" style=\"stroke:#000000; stroke-linecap:butt; stroke-linejoin:round; stroke-width:4; stroke-opacity:1; fill:none\" points=\"\n",
       "  1979.93,409.097 2125.08,409.097 2125.08,367.625 1979.93,367.625 1979.93,409.097 \n",
       "  \"/>\n",
       "<path clip-path=\"url(#clip880)\" d=\"M2154.9 401.705 L2171.22 401.705 L2171.22 405.641 L2149.27 405.641 L2149.27 401.705 Q2151.93 398.951 2156.52 394.321 Q2161.12 389.669 2162.3 388.326 Q2164.55 385.803 2165.43 384.067 Q2166.33 382.307 2166.33 380.618 Q2166.33 377.863 2164.39 376.127 Q2162.47 374.391 2159.36 374.391 Q2157.16 374.391 2154.71 375.155 Q2152.28 375.919 2149.5 377.47 L2149.5 372.747 Q2152.33 371.613 2154.78 371.034 Q2157.23 370.456 2159.27 370.456 Q2164.64 370.456 2167.84 373.141 Q2171.03 375.826 2171.03 380.317 Q2171.03 382.446 2170.22 384.368 Q2169.43 386.266 2167.33 388.858 Q2166.75 389.53 2163.65 392.747 Q2160.54 395.942 2154.9 401.705 Z\" fill=\"#000000\" fill-rule=\"evenodd\" fill-opacity=\"1\" /><path clip-path=\"url(#clip880)\" d=\"M2201.98 389.993 L2201.98 405.641 L2197.72 405.641 L2197.72 390.131 Q2197.72 386.451 2196.29 384.622 Q2194.85 382.794 2191.98 382.794 Q2188.53 382.794 2186.54 384.993 Q2184.55 387.192 2184.55 390.988 L2184.55 405.641 L2180.27 405.641 L2180.27 379.715 L2184.55 379.715 L2184.55 383.743 Q2186.08 381.405 2188.14 380.247 Q2190.22 379.09 2192.93 379.09 Q2197.4 379.09 2199.69 381.868 Q2201.98 384.622 2201.98 389.993 Z\" fill=\"#000000\" fill-rule=\"evenodd\" fill-opacity=\"1\" /><path clip-path=\"url(#clip880)\" d=\"M2227.53 383.65 L2227.53 369.622 L2231.79 369.622 L2231.79 405.641 L2227.53 405.641 L2227.53 401.752 Q2226.19 404.067 2224.13 405.201 Q2222.1 406.312 2219.22 406.312 Q2214.53 406.312 2211.56 402.562 Q2208.62 398.812 2208.62 392.701 Q2208.62 386.59 2211.56 382.84 Q2214.53 379.09 2219.22 379.09 Q2222.1 379.09 2224.13 380.224 Q2226.19 381.335 2227.53 383.65 M2213.02 392.701 Q2213.02 397.4 2214.94 400.085 Q2216.89 402.747 2220.27 402.747 Q2223.65 402.747 2225.59 400.085 Q2227.53 397.4 2227.53 392.701 Q2227.53 388.002 2225.59 385.34 Q2223.65 382.655 2220.27 382.655 Q2216.89 382.655 2214.94 385.34 Q2213.02 388.002 2213.02 392.701 Z\" fill=\"#000000\" fill-rule=\"evenodd\" fill-opacity=\"1\" /></svg>\n"
      ]
     },
     "execution_count": 43,
     "metadata": {},
     "output_type": "execute_result"
    }
   ],
   "source": [
    "# Exclude JSON\\narraytable arraytable due to much longer timing\n",
    "groupedbar(\n",
    "    repeat([\"CSV.jl\", \"Serialization\", \"JDF.jl\", \"JLSO.jl\", \"Arrow.jl\", \"Arrow.jl\\ncopy\", #\"JSON\\narraytable\",\n",
    "            \"JSON\\nobjecttable\"], inner = 2),\n",
    "    [csvread1, csvread2, serializeread1, serializeread2, jdfread1, jdfread2, jlsoread1, jlsoread2,\n",
    "     arrowread1, arrowread2, arrowread1+arrowread1copy, arrowread2+arrowread2copy,\n",
    "     # jsontablesaread1, jsontablesaread2,\n",
    "     jsontablesoread1, jsontablesoread2],    \n",
    "    group = repeat([\"1st\", \"2nd\"], outer = 7),\n",
    "    ylab = \"Second\",\n",
    "    title = \"Read Performance\\nDataFrame: bigdf\\nSize: $(size(bigdf))\"\n",
    ")"
   ]
  },
  {
   "cell_type": "markdown",
   "metadata": {},
   "source": [
    "### Using gzip compression"
   ]
  },
  {
   "cell_type": "markdown",
   "metadata": {},
   "source": [
    "A common user requirement is to be able to load and save CSV that are compressed using gzip.\n",
    "Below we show how this can be accomplished using CodecZlib.jl.\n",
    "The same pattern is applicable to JSONTables.jl compression/decompression.\n",
    "\n",
    "Again make sure that you do not have file named `df_compress_test.csv.gz` in your working directory"
   ]
  },
  {
   "cell_type": "markdown",
   "metadata": {},
   "source": [
    "We first generate a random data frame"
   ]
  },
  {
   "cell_type": "code",
   "execution_count": 44,
   "metadata": {},
   "outputs": [
    {
     "data": {
      "text/html": [
       "<div class=\"data-frame\"><p>10 rows × 1,000 columns (omitted printing of 988 columns)</p><table class=\"data-frame\"><thead><tr><th></th><th>x1</th><th>x2</th><th>x3</th><th>x4</th><th>x5</th><th>x6</th><th>x7</th><th>x8</th><th>x9</th><th>x10</th><th>x11</th><th>x12</th></tr><tr><th></th><th title=\"Int64\">Int64</th><th title=\"Int64\">Int64</th><th title=\"Int64\">Int64</th><th title=\"Int64\">Int64</th><th title=\"Int64\">Int64</th><th title=\"Int64\">Int64</th><th title=\"Int64\">Int64</th><th title=\"Int64\">Int64</th><th title=\"Int64\">Int64</th><th title=\"Int64\">Int64</th><th title=\"Int64\">Int64</th><th title=\"Int64\">Int64</th></tr></thead><tbody><tr><th>1</th><td>8</td><td>5</td><td>5</td><td>9</td><td>8</td><td>6</td><td>2</td><td>3</td><td>5</td><td>8</td><td>1</td><td>2</td></tr><tr><th>2</th><td>2</td><td>3</td><td>9</td><td>6</td><td>10</td><td>8</td><td>2</td><td>1</td><td>3</td><td>5</td><td>9</td><td>2</td></tr><tr><th>3</th><td>5</td><td>8</td><td>1</td><td>1</td><td>8</td><td>5</td><td>3</td><td>9</td><td>10</td><td>4</td><td>4</td><td>6</td></tr><tr><th>4</th><td>10</td><td>6</td><td>1</td><td>10</td><td>5</td><td>2</td><td>4</td><td>10</td><td>2</td><td>2</td><td>8</td><td>5</td></tr><tr><th>5</th><td>1</td><td>2</td><td>7</td><td>4</td><td>4</td><td>9</td><td>6</td><td>3</td><td>4</td><td>3</td><td>3</td><td>8</td></tr><tr><th>6</th><td>1</td><td>5</td><td>1</td><td>3</td><td>9</td><td>10</td><td>6</td><td>7</td><td>8</td><td>1</td><td>8</td><td>3</td></tr><tr><th>7</th><td>4</td><td>8</td><td>1</td><td>8</td><td>4</td><td>7</td><td>2</td><td>9</td><td>6</td><td>3</td><td>6</td><td>8</td></tr><tr><th>8</th><td>8</td><td>1</td><td>8</td><td>2</td><td>2</td><td>9</td><td>10</td><td>4</td><td>7</td><td>3</td><td>6</td><td>6</td></tr><tr><th>9</th><td>10</td><td>10</td><td>2</td><td>1</td><td>2</td><td>9</td><td>4</td><td>6</td><td>5</td><td>10</td><td>3</td><td>5</td></tr><tr><th>10</th><td>6</td><td>9</td><td>10</td><td>1</td><td>4</td><td>9</td><td>3</td><td>8</td><td>7</td><td>3</td><td>10</td><td>1</td></tr></tbody></table></div>"
      ],
      "text/latex": [
       "\\begin{tabular}{r|ccccccccccccc}\n",
       "\t& x1 & x2 & x3 & x4 & x5 & x6 & x7 & x8 & x9 & x10 & x11 & x12 & \\\\\n",
       "\t\\hline\n",
       "\t& Int64 & Int64 & Int64 & Int64 & Int64 & Int64 & Int64 & Int64 & Int64 & Int64 & Int64 & Int64 & \\\\\n",
       "\t\\hline\n",
       "\t1 & 8 & 5 & 5 & 9 & 8 & 6 & 2 & 3 & 5 & 8 & 1 & 2 & $\\dots$ \\\\\n",
       "\t2 & 2 & 3 & 9 & 6 & 10 & 8 & 2 & 1 & 3 & 5 & 9 & 2 & $\\dots$ \\\\\n",
       "\t3 & 5 & 8 & 1 & 1 & 8 & 5 & 3 & 9 & 10 & 4 & 4 & 6 & $\\dots$ \\\\\n",
       "\t4 & 10 & 6 & 1 & 10 & 5 & 2 & 4 & 10 & 2 & 2 & 8 & 5 & $\\dots$ \\\\\n",
       "\t5 & 1 & 2 & 7 & 4 & 4 & 9 & 6 & 3 & 4 & 3 & 3 & 8 & $\\dots$ \\\\\n",
       "\t6 & 1 & 5 & 1 & 3 & 9 & 10 & 6 & 7 & 8 & 1 & 8 & 3 & $\\dots$ \\\\\n",
       "\t7 & 4 & 8 & 1 & 8 & 4 & 7 & 2 & 9 & 6 & 3 & 6 & 8 & $\\dots$ \\\\\n",
       "\t8 & 8 & 1 & 8 & 2 & 2 & 9 & 10 & 4 & 7 & 3 & 6 & 6 & $\\dots$ \\\\\n",
       "\t9 & 10 & 10 & 2 & 1 & 2 & 9 & 4 & 6 & 5 & 10 & 3 & 5 & $\\dots$ \\\\\n",
       "\t10 & 6 & 9 & 10 & 1 & 4 & 9 & 3 & 8 & 7 & 3 & 10 & 1 & $\\dots$ \\\\\n",
       "\\end{tabular}\n"
      ],
      "text/plain": [
       "\u001b[1m10×1000 DataFrame\u001b[0m\n",
       "\u001b[1m Row \u001b[0m│\u001b[1m x1    \u001b[0m\u001b[1m x2    \u001b[0m\u001b[1m x3    \u001b[0m\u001b[1m x4    \u001b[0m\u001b[1m x5    \u001b[0m\u001b[1m x6    \u001b[0m\u001b[1m x7    \u001b[0m\u001b[1m x8    \u001b[0m\u001b[1m x9    \u001b[0m\u001b[1m x10   \u001b[0m\u001b[1m x\u001b[0m ⋯\n",
       "\u001b[1m     \u001b[0m│\u001b[90m Int64 \u001b[0m\u001b[90m Int64 \u001b[0m\u001b[90m Int64 \u001b[0m\u001b[90m Int64 \u001b[0m\u001b[90m Int64 \u001b[0m\u001b[90m Int64 \u001b[0m\u001b[90m Int64 \u001b[0m\u001b[90m Int64 \u001b[0m\u001b[90m Int64 \u001b[0m\u001b[90m Int64 \u001b[0m\u001b[90m I\u001b[0m ⋯\n",
       "─────┼──────────────────────────────────────────────────────────────────────────\n",
       "   1 │     8      5      5      9      8      6      2      3      5      8    ⋯\n",
       "   2 │     2      3      9      6     10      8      2      1      3      5\n",
       "   3 │     5      8      1      1      8      5      3      9     10      4\n",
       "   4 │    10      6      1     10      5      2      4     10      2      2\n",
       "   5 │     1      2      7      4      4      9      6      3      4      3    ⋯\n",
       "   6 │     1      5      1      3      9     10      6      7      8      1\n",
       "   7 │     4      8      1      8      4      7      2      9      6      3\n",
       "   8 │     8      1      8      2      2      9     10      4      7      3\n",
       "   9 │    10     10      2      1      2      9      4      6      5     10    ⋯\n",
       "  10 │     6      9     10      1      4      9      3      8      7      3\n",
       "\u001b[36m                                                             990 columns omitted\u001b[0m"
      ]
     },
     "execution_count": 44,
     "metadata": {},
     "output_type": "execute_result"
    }
   ],
   "source": [
    "df = DataFrame(rand(1:10, 10, 1000), :auto)"
   ]
  },
  {
   "cell_type": "code",
   "execution_count": 45,
   "metadata": {},
   "outputs": [],
   "source": [
    "# GzipCompressorStream comes from CodecZlib\n",
    "\n",
    "open(\"df_compress_test.csv.gz\", \"w\") do io\n",
    "    stream = GzipCompressorStream(io)\n",
    "    CSV.write(stream, df)\n",
    "    close(stream)\n",
    "end"
   ]
  },
  {
   "cell_type": "code",
   "execution_count": 46,
   "metadata": {},
   "outputs": [
    {
     "data": {
      "text/html": [
       "<div class=\"data-frame\"><p>10 rows × 1,000 columns (omitted printing of 988 columns)</p><table class=\"data-frame\"><thead><tr><th></th><th>x1</th><th>x2</th><th>x3</th><th>x4</th><th>x5</th><th>x6</th><th>x7</th><th>x8</th><th>x9</th><th>x10</th><th>x11</th><th>x12</th></tr><tr><th></th><th title=\"Int64\">Int64</th><th title=\"Int64\">Int64</th><th title=\"Int64\">Int64</th><th title=\"Int64\">Int64</th><th title=\"Int64\">Int64</th><th title=\"Int64\">Int64</th><th title=\"Int64\">Int64</th><th title=\"Int64\">Int64</th><th title=\"Int64\">Int64</th><th title=\"Int64\">Int64</th><th title=\"Int64\">Int64</th><th title=\"Int64\">Int64</th></tr></thead><tbody><tr><th>1</th><td>8</td><td>5</td><td>5</td><td>9</td><td>8</td><td>6</td><td>2</td><td>3</td><td>5</td><td>8</td><td>1</td><td>2</td></tr><tr><th>2</th><td>2</td><td>3</td><td>9</td><td>6</td><td>10</td><td>8</td><td>2</td><td>1</td><td>3</td><td>5</td><td>9</td><td>2</td></tr><tr><th>3</th><td>5</td><td>8</td><td>1</td><td>1</td><td>8</td><td>5</td><td>3</td><td>9</td><td>10</td><td>4</td><td>4</td><td>6</td></tr><tr><th>4</th><td>10</td><td>6</td><td>1</td><td>10</td><td>5</td><td>2</td><td>4</td><td>10</td><td>2</td><td>2</td><td>8</td><td>5</td></tr><tr><th>5</th><td>1</td><td>2</td><td>7</td><td>4</td><td>4</td><td>9</td><td>6</td><td>3</td><td>4</td><td>3</td><td>3</td><td>8</td></tr><tr><th>6</th><td>1</td><td>5</td><td>1</td><td>3</td><td>9</td><td>10</td><td>6</td><td>7</td><td>8</td><td>1</td><td>8</td><td>3</td></tr><tr><th>7</th><td>4</td><td>8</td><td>1</td><td>8</td><td>4</td><td>7</td><td>2</td><td>9</td><td>6</td><td>3</td><td>6</td><td>8</td></tr><tr><th>8</th><td>8</td><td>1</td><td>8</td><td>2</td><td>2</td><td>9</td><td>10</td><td>4</td><td>7</td><td>3</td><td>6</td><td>6</td></tr><tr><th>9</th><td>10</td><td>10</td><td>2</td><td>1</td><td>2</td><td>9</td><td>4</td><td>6</td><td>5</td><td>10</td><td>3</td><td>5</td></tr><tr><th>10</th><td>6</td><td>9</td><td>10</td><td>1</td><td>4</td><td>9</td><td>3</td><td>8</td><td>7</td><td>3</td><td>10</td><td>1</td></tr></tbody></table></div>"
      ],
      "text/latex": [
       "\\begin{tabular}{r|ccccccccccccc}\n",
       "\t& x1 & x2 & x3 & x4 & x5 & x6 & x7 & x8 & x9 & x10 & x11 & x12 & \\\\\n",
       "\t\\hline\n",
       "\t& Int64 & Int64 & Int64 & Int64 & Int64 & Int64 & Int64 & Int64 & Int64 & Int64 & Int64 & Int64 & \\\\\n",
       "\t\\hline\n",
       "\t1 & 8 & 5 & 5 & 9 & 8 & 6 & 2 & 3 & 5 & 8 & 1 & 2 & $\\dots$ \\\\\n",
       "\t2 & 2 & 3 & 9 & 6 & 10 & 8 & 2 & 1 & 3 & 5 & 9 & 2 & $\\dots$ \\\\\n",
       "\t3 & 5 & 8 & 1 & 1 & 8 & 5 & 3 & 9 & 10 & 4 & 4 & 6 & $\\dots$ \\\\\n",
       "\t4 & 10 & 6 & 1 & 10 & 5 & 2 & 4 & 10 & 2 & 2 & 8 & 5 & $\\dots$ \\\\\n",
       "\t5 & 1 & 2 & 7 & 4 & 4 & 9 & 6 & 3 & 4 & 3 & 3 & 8 & $\\dots$ \\\\\n",
       "\t6 & 1 & 5 & 1 & 3 & 9 & 10 & 6 & 7 & 8 & 1 & 8 & 3 & $\\dots$ \\\\\n",
       "\t7 & 4 & 8 & 1 & 8 & 4 & 7 & 2 & 9 & 6 & 3 & 6 & 8 & $\\dots$ \\\\\n",
       "\t8 & 8 & 1 & 8 & 2 & 2 & 9 & 10 & 4 & 7 & 3 & 6 & 6 & $\\dots$ \\\\\n",
       "\t9 & 10 & 10 & 2 & 1 & 2 & 9 & 4 & 6 & 5 & 10 & 3 & 5 & $\\dots$ \\\\\n",
       "\t10 & 6 & 9 & 10 & 1 & 4 & 9 & 3 & 8 & 7 & 3 & 10 & 1 & $\\dots$ \\\\\n",
       "\\end{tabular}\n"
      ],
      "text/plain": [
       "\u001b[1m10×1000 DataFrame\u001b[0m\n",
       "\u001b[1m Row \u001b[0m│\u001b[1m x1    \u001b[0m\u001b[1m x2    \u001b[0m\u001b[1m x3    \u001b[0m\u001b[1m x4    \u001b[0m\u001b[1m x5    \u001b[0m\u001b[1m x6    \u001b[0m\u001b[1m x7    \u001b[0m\u001b[1m x8    \u001b[0m\u001b[1m x9    \u001b[0m\u001b[1m x10   \u001b[0m\u001b[1m x\u001b[0m ⋯\n",
       "\u001b[1m     \u001b[0m│\u001b[90m Int64 \u001b[0m\u001b[90m Int64 \u001b[0m\u001b[90m Int64 \u001b[0m\u001b[90m Int64 \u001b[0m\u001b[90m Int64 \u001b[0m\u001b[90m Int64 \u001b[0m\u001b[90m Int64 \u001b[0m\u001b[90m Int64 \u001b[0m\u001b[90m Int64 \u001b[0m\u001b[90m Int64 \u001b[0m\u001b[90m I\u001b[0m ⋯\n",
       "─────┼──────────────────────────────────────────────────────────────────────────\n",
       "   1 │     8      5      5      9      8      6      2      3      5      8    ⋯\n",
       "   2 │     2      3      9      6     10      8      2      1      3      5\n",
       "   3 │     5      8      1      1      8      5      3      9     10      4\n",
       "   4 │    10      6      1     10      5      2      4     10      2      2\n",
       "   5 │     1      2      7      4      4      9      6      3      4      3    ⋯\n",
       "   6 │     1      5      1      3      9     10      6      7      8      1\n",
       "   7 │     4      8      1      8      4      7      2      9      6      3\n",
       "   8 │     8      1      8      2      2      9     10      4      7      3\n",
       "   9 │    10     10      2      1      2      9      4      6      5     10    ⋯\n",
       "  10 │     6      9     10      1      4      9      3      8      7      3\n",
       "\u001b[36m                                                             990 columns omitted\u001b[0m"
      ]
     },
     "execution_count": 46,
     "metadata": {},
     "output_type": "execute_result"
    }
   ],
   "source": [
    "df2 = CSV.File(transcode(GzipDecompressor, Mmap.mmap(\"df_compress_test.csv.gz\"))) |> DataFrame"
   ]
  },
  {
   "cell_type": "code",
   "execution_count": 47,
   "metadata": {},
   "outputs": [
    {
     "data": {
      "text/plain": [
       "true"
      ]
     },
     "execution_count": 47,
     "metadata": {},
     "output_type": "execute_result"
    }
   ],
   "source": [
    "df == df2"
   ]
  },
  {
   "cell_type": "markdown",
   "metadata": {},
   "source": [
    "### Using zip files"
   ]
  },
  {
   "cell_type": "markdown",
   "metadata": {},
   "source": [
    "Sometimes you may have files compressed inside a zip file.\n",
    "\n",
    "In such a situation you may use [ZipFile.jl](https://github.com/fhs/ZipFile.jl) in conjunction an an appropriate reader to read the files."
   ]
  },
  {
   "cell_type": "markdown",
   "metadata": {},
   "source": [
    "Here we first create a ZIP file and then read back its contents into a `DataFrame`."
   ]
  },
  {
   "cell_type": "code",
   "execution_count": 48,
   "metadata": {},
   "outputs": [
    {
     "data": {
      "text/html": [
       "<div class=\"data-frame\"><p>3 rows × 4 columns</p><table class=\"data-frame\"><thead><tr><th></th><th>x1</th><th>x2</th><th>x3</th><th>x4</th></tr><tr><th></th><th title=\"Int64\">Int64</th><th title=\"Int64\">Int64</th><th title=\"Int64\">Int64</th><th title=\"Int64\">Int64</th></tr></thead><tbody><tr><th>1</th><td>8</td><td>9</td><td>7</td><td>6</td></tr><tr><th>2</th><td>7</td><td>7</td><td>2</td><td>1</td></tr><tr><th>3</th><td>9</td><td>6</td><td>4</td><td>10</td></tr></tbody></table></div>"
      ],
      "text/latex": [
       "\\begin{tabular}{r|cccc}\n",
       "\t& x1 & x2 & x3 & x4\\\\\n",
       "\t\\hline\n",
       "\t& Int64 & Int64 & Int64 & Int64\\\\\n",
       "\t\\hline\n",
       "\t1 & 8 & 9 & 7 & 6 \\\\\n",
       "\t2 & 7 & 7 & 2 & 1 \\\\\n",
       "\t3 & 9 & 6 & 4 & 10 \\\\\n",
       "\\end{tabular}\n"
      ],
      "text/plain": [
       "\u001b[1m3×4 DataFrame\u001b[0m\n",
       "\u001b[1m Row \u001b[0m│\u001b[1m x1    \u001b[0m\u001b[1m x2    \u001b[0m\u001b[1m x3    \u001b[0m\u001b[1m x4    \u001b[0m\n",
       "\u001b[1m     \u001b[0m│\u001b[90m Int64 \u001b[0m\u001b[90m Int64 \u001b[0m\u001b[90m Int64 \u001b[0m\u001b[90m Int64 \u001b[0m\n",
       "─────┼────────────────────────────\n",
       "   1 │     8      9      7      6\n",
       "   2 │     7      7      2      1\n",
       "   3 │     9      6      4     10"
      ]
     },
     "execution_count": 48,
     "metadata": {},
     "output_type": "execute_result"
    }
   ],
   "source": [
    "df1 = DataFrame(rand(1:10, 3, 4), :auto)"
   ]
  },
  {
   "cell_type": "code",
   "execution_count": 49,
   "metadata": {},
   "outputs": [
    {
     "data": {
      "text/html": [
       "<div class=\"data-frame\"><p>3 rows × 4 columns</p><table class=\"data-frame\"><thead><tr><th></th><th>x1</th><th>x2</th><th>x3</th><th>x4</th></tr><tr><th></th><th title=\"Int64\">Int64</th><th title=\"Int64\">Int64</th><th title=\"Int64\">Int64</th><th title=\"Int64\">Int64</th></tr></thead><tbody><tr><th>1</th><td>8</td><td>9</td><td>6</td><td>10</td></tr><tr><th>2</th><td>4</td><td>4</td><td>2</td><td>3</td></tr><tr><th>3</th><td>7</td><td>3</td><td>4</td><td>7</td></tr></tbody></table></div>"
      ],
      "text/latex": [
       "\\begin{tabular}{r|cccc}\n",
       "\t& x1 & x2 & x3 & x4\\\\\n",
       "\t\\hline\n",
       "\t& Int64 & Int64 & Int64 & Int64\\\\\n",
       "\t\\hline\n",
       "\t1 & 8 & 9 & 6 & 10 \\\\\n",
       "\t2 & 4 & 4 & 2 & 3 \\\\\n",
       "\t3 & 7 & 3 & 4 & 7 \\\\\n",
       "\\end{tabular}\n"
      ],
      "text/plain": [
       "\u001b[1m3×4 DataFrame\u001b[0m\n",
       "\u001b[1m Row \u001b[0m│\u001b[1m x1    \u001b[0m\u001b[1m x2    \u001b[0m\u001b[1m x3    \u001b[0m\u001b[1m x4    \u001b[0m\n",
       "\u001b[1m     \u001b[0m│\u001b[90m Int64 \u001b[0m\u001b[90m Int64 \u001b[0m\u001b[90m Int64 \u001b[0m\u001b[90m Int64 \u001b[0m\n",
       "─────┼────────────────────────────\n",
       "   1 │     8      9      6     10\n",
       "   2 │     4      4      2      3\n",
       "   3 │     7      3      4      7"
      ]
     },
     "execution_count": 49,
     "metadata": {},
     "output_type": "execute_result"
    }
   ],
   "source": [
    "df2 = DataFrame(rand(1:10, 3, 4), :auto)"
   ]
  },
  {
   "cell_type": "markdown",
   "metadata": {},
   "source": [
    "And we show yet another way to write a `DataFrame` into a CSV file"
   ]
  },
  {
   "cell_type": "code",
   "execution_count": 50,
   "metadata": {},
   "outputs": [],
   "source": [
    "# write a CSV file into the zip file\n",
    "w = ZipFile.Writer(\"x.zip\")\n",
    "\n",
    "f1 = ZipFile.addfile(w, \"x1.csv\")\n",
    "write(f1, sprint(show, \"text/csv\", df1))\n",
    "\n",
    "# write a second CSV file into zip file\n",
    "f2 = ZipFile.addfile(w, \"x2.csv\", method=ZipFile.Deflate)\n",
    "write(f2, sprint(show, \"text/csv\", df2))\n",
    "\n",
    "close(w)"
   ]
  },
  {
   "cell_type": "markdown",
   "metadata": {},
   "source": [
    "Now we read the CSV we have written:"
   ]
  },
  {
   "cell_type": "code",
   "execution_count": 51,
   "metadata": {},
   "outputs": [],
   "source": [
    "z = ZipFile.Reader(\"x.zip\");"
   ]
  },
  {
   "cell_type": "code",
   "execution_count": 52,
   "metadata": {},
   "outputs": [
    {
     "data": {
      "text/html": [
       "<div class=\"data-frame\"><p>3 rows × 4 columns</p><table class=\"data-frame\"><thead><tr><th></th><th>x1</th><th>x2</th><th>x3</th><th>x4</th></tr><tr><th></th><th title=\"Int64\">Int64</th><th title=\"Int64\">Int64</th><th title=\"Int64\">Int64</th><th title=\"Int64\">Int64</th></tr></thead><tbody><tr><th>1</th><td>8</td><td>9</td><td>7</td><td>6</td></tr><tr><th>2</th><td>7</td><td>7</td><td>2</td><td>1</td></tr><tr><th>3</th><td>9</td><td>6</td><td>4</td><td>10</td></tr></tbody></table></div>"
      ],
      "text/latex": [
       "\\begin{tabular}{r|cccc}\n",
       "\t& x1 & x2 & x3 & x4\\\\\n",
       "\t\\hline\n",
       "\t& Int64 & Int64 & Int64 & Int64\\\\\n",
       "\t\\hline\n",
       "\t1 & 8 & 9 & 7 & 6 \\\\\n",
       "\t2 & 7 & 7 & 2 & 1 \\\\\n",
       "\t3 & 9 & 6 & 4 & 10 \\\\\n",
       "\\end{tabular}\n"
      ],
      "text/plain": [
       "\u001b[1m3×4 DataFrame\u001b[0m\n",
       "\u001b[1m Row \u001b[0m│\u001b[1m x1    \u001b[0m\u001b[1m x2    \u001b[0m\u001b[1m x3    \u001b[0m\u001b[1m x4    \u001b[0m\n",
       "\u001b[1m     \u001b[0m│\u001b[90m Int64 \u001b[0m\u001b[90m Int64 \u001b[0m\u001b[90m Int64 \u001b[0m\u001b[90m Int64 \u001b[0m\n",
       "─────┼────────────────────────────\n",
       "   1 │     8      9      7      6\n",
       "   2 │     7      7      2      1\n",
       "   3 │     9      6      4     10"
      ]
     },
     "execution_count": 52,
     "metadata": {},
     "output_type": "execute_result"
    }
   ],
   "source": [
    "# find the index index of file called x1.csv\n",
    "index_xcsv = findfirst(x->x.name == \"x1.csv\", z.files)\n",
    "# to read the x1.csv file in the zip file\n",
    "df1_2 = CSV.read(read(z.files[index_xcsv]), DataFrame)"
   ]
  },
  {
   "cell_type": "code",
   "execution_count": 53,
   "metadata": {},
   "outputs": [
    {
     "data": {
      "text/plain": [
       "true"
      ]
     },
     "execution_count": 53,
     "metadata": {},
     "output_type": "execute_result"
    }
   ],
   "source": [
    "df1_2 == df1"
   ]
  },
  {
   "cell_type": "code",
   "execution_count": 54,
   "metadata": {},
   "outputs": [
    {
     "data": {
      "text/html": [
       "<div class=\"data-frame\"><p>3 rows × 4 columns</p><table class=\"data-frame\"><thead><tr><th></th><th>x1</th><th>x2</th><th>x3</th><th>x4</th></tr><tr><th></th><th title=\"Int64\">Int64</th><th title=\"Int64\">Int64</th><th title=\"Int64\">Int64</th><th title=\"Int64\">Int64</th></tr></thead><tbody><tr><th>1</th><td>8</td><td>9</td><td>6</td><td>10</td></tr><tr><th>2</th><td>4</td><td>4</td><td>2</td><td>3</td></tr><tr><th>3</th><td>7</td><td>3</td><td>4</td><td>7</td></tr></tbody></table></div>"
      ],
      "text/latex": [
       "\\begin{tabular}{r|cccc}\n",
       "\t& x1 & x2 & x3 & x4\\\\\n",
       "\t\\hline\n",
       "\t& Int64 & Int64 & Int64 & Int64\\\\\n",
       "\t\\hline\n",
       "\t1 & 8 & 9 & 6 & 10 \\\\\n",
       "\t2 & 4 & 4 & 2 & 3 \\\\\n",
       "\t3 & 7 & 3 & 4 & 7 \\\\\n",
       "\\end{tabular}\n"
      ],
      "text/plain": [
       "\u001b[1m3×4 DataFrame\u001b[0m\n",
       "\u001b[1m Row \u001b[0m│\u001b[1m x1    \u001b[0m\u001b[1m x2    \u001b[0m\u001b[1m x3    \u001b[0m\u001b[1m x4    \u001b[0m\n",
       "\u001b[1m     \u001b[0m│\u001b[90m Int64 \u001b[0m\u001b[90m Int64 \u001b[0m\u001b[90m Int64 \u001b[0m\u001b[90m Int64 \u001b[0m\n",
       "─────┼────────────────────────────\n",
       "   1 │     8      9      6     10\n",
       "   2 │     4      4      2      3\n",
       "   3 │     7      3      4      7"
      ]
     },
     "execution_count": 54,
     "metadata": {},
     "output_type": "execute_result"
    }
   ],
   "source": [
    "# find the index index of file called x2.csv\n",
    "index_xcsv = findfirst(x->x.name == \"x2.csv\", z.files)\n",
    "# to read the x2.csv file in the zip file\n",
    "df2_2 = CSV.read(read(z.files[index_xcsv]), DataFrame)"
   ]
  },
  {
   "cell_type": "code",
   "execution_count": 55,
   "metadata": {},
   "outputs": [
    {
     "data": {
      "text/plain": [
       "true"
      ]
     },
     "execution_count": 55,
     "metadata": {},
     "output_type": "execute_result"
    }
   ],
   "source": [
    "df2_2 == df2"
   ]
  },
  {
   "cell_type": "markdown",
   "metadata": {},
   "source": [
    "Note that once you read a given file from `z` object its stream is all used-up (it is at its end). Therefore to read it again you need to close `z` and open it again.\n",
    "\n",
    "Also do not forget to close the zip file once done."
   ]
  },
  {
   "cell_type": "code",
   "execution_count": 56,
   "metadata": {},
   "outputs": [],
   "source": [
    "close(z)"
   ]
  },
  {
   "cell_type": "markdown",
   "metadata": {},
   "source": [
    "Finally, let's clean up. Do not run the next cell unless you are sure that it will not erase your important files."
   ]
  },
  {
   "cell_type": "code",
   "execution_count": 57,
   "metadata": {},
   "outputs": [],
   "source": [
    "foreach(rm, [\"x1.csv\", \"x.bin\", \"x.jlso\", \"x1.json\", \"x2.json\",\n",
    "             \"bigdf1.csv\", \"bigdf.bin\", \"bigdf.jlso\", \"bigdf1.json\", \"bigdf2.json\", \n",
    "             \"x.zip\"])"
   ]
  },
  {
   "cell_type": "code",
   "execution_count": 58,
   "metadata": {},
   "outputs": [],
   "source": [
    "rm(\"bigdf.jdf\", recursive=true)\n",
    "rm(\"x.jdf\", recursive=true)"
   ]
  },
  {
   "cell_type": "markdown",
   "metadata": {},
   "source": [
    "Note that we did not remove `x.arrow` and `bigdf.arrow` and `df_compress_test.csv.gz` - you have to do it manually, as these files are memory mapped."
   ]
  }
 ],
 "metadata": {
  "@webio": {
   "lastCommId": null,
   "lastKernelId": null
  },
  "kernelspec": {
   "display_name": "Julia 1.7.0",
   "language": "julia",
   "name": "julia-1.7"
  },
  "language_info": {
   "file_extension": ".jl",
   "mimetype": "application/julia",
   "name": "julia",
   "version": "1.7.0"
  }
 },
 "nbformat": 4,
 "nbformat_minor": 4
}
