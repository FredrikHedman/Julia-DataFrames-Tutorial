{
 "cells": [
  {
   "cell_type": "markdown",
   "metadata": {},
   "source": [
    "# Introduction to DataFrames\n",
    "**[Bogumił Kamiński](http://bogumilkaminski.pl/about/), February 13, 2023**"
   ]
  },
  {
   "cell_type": "code",
   "execution_count": 1,
   "metadata": {},
   "outputs": [],
   "source": [
    "using DataFrames"
   ]
  },
  {
   "cell_type": "markdown",
   "metadata": {},
   "source": [
    "## Load and save DataFrames\n",
    "We do not cover all features of the packages. Please refer to their documentation to learn them.\n",
    "\n",
    "Here we'll load CSV.jl to read and write CSV files and Arrow.jl, JLSO.jl, and serialization, which allow us to work with a binary format and JSONTables.jl for JSON interaction. Finally we consider a custom JDF.jl format."
   ]
  },
  {
   "cell_type": "code",
   "execution_count": 2,
   "metadata": {},
   "outputs": [],
   "source": [
    "using Arrow\n",
    "using CSV\n",
    "using Serialization\n",
    "using JLSO\n",
    "using JSONTables\n",
    "using CodecZlib\n",
    "using ZipFile\n",
    "using JDF\n",
    "using StatsPlots # for charts\n",
    "using Mmap # for compression"
   ]
  },
  {
   "cell_type": "markdown",
   "metadata": {},
   "source": [
    "Let's create a simple `DataFrame` for testing purposes,"
   ]
  },
  {
   "cell_type": "code",
   "execution_count": 3,
   "metadata": {},
   "outputs": [
    {
     "data": {
      "text/html": [
       "<div><div style = \"float: left;\"><span>3×4 DataFrame</span></div><div style = \"clear: both;\"></div></div><div class = \"data-frame\" style = \"overflow-x: scroll;\"><table class = \"data-frame\" style = \"margin-bottom: 6px;\"><thead><tr class = \"header\"><th class = \"rowNumber\" style = \"font-weight: bold; text-align: right;\">Row</th><th style = \"text-align: left;\">A</th><th style = \"text-align: left;\">B</th><th style = \"text-align: left;\">C</th><th style = \"text-align: left;\">D</th></tr><tr class = \"subheader headerLastRow\"><th class = \"rowNumber\" style = \"font-weight: bold; text-align: right;\"></th><th title = \"Bool\" style = \"text-align: left;\">Bool</th><th title = \"Union{Missing, Int64}\" style = \"text-align: left;\">Int64?</th><th title = \"Union{Missing, String}\" style = \"text-align: left;\">String?</th><th title = \"Union{Missing, Char}\" style = \"text-align: left;\">Char?</th></tr></thead><tbody><tr><td class = \"rowNumber\" style = \"font-weight: bold; text-align: right;\">1</td><td style = \"text-align: right;\">true</td><td style = \"text-align: right;\">1</td><td style = \"font-style: italic; text-align: left;\">missing</td><td style = \"text-align: left;\">a</td></tr><tr><td class = \"rowNumber\" style = \"font-weight: bold; text-align: right;\">2</td><td style = \"text-align: right;\">false</td><td style = \"text-align: right;\">2</td><td style = \"text-align: left;\">b</td><td style = \"font-style: italic; text-align: left;\">missing</td></tr><tr><td class = \"rowNumber\" style = \"font-weight: bold; text-align: right;\">3</td><td style = \"text-align: right;\">true</td><td style = \"font-style: italic; text-align: right;\">missing</td><td style = \"text-align: left;\">c</td><td style = \"text-align: left;\">c</td></tr></tbody></table></div>"
      ],
      "text/latex": [
       "\\begin{tabular}{r|cccc}\n",
       "\t& A & B & C & D\\\\\n",
       "\t\\hline\n",
       "\t& Bool & Int64? & String? & Char?\\\\\n",
       "\t\\hline\n",
       "\t1 & 1 & 1 & \\emph{missing} & a \\\\\n",
       "\t2 & 0 & 2 & b & \\emph{missing} \\\\\n",
       "\t3 & 1 & \\emph{missing} & c & c \\\\\n",
       "\\end{tabular}\n"
      ],
      "text/plain": [
       "\u001b[1m3×4 DataFrame\u001b[0m\n",
       "\u001b[1m Row \u001b[0m│\u001b[1m A     \u001b[0m\u001b[1m B       \u001b[0m\u001b[1m C       \u001b[0m\u001b[1m D       \u001b[0m\n",
       "     │\u001b[90m Bool  \u001b[0m\u001b[90m Int64?  \u001b[0m\u001b[90m String? \u001b[0m\u001b[90m Char?   \u001b[0m\n",
       "─────┼──────────────────────────────────\n",
       "   1 │  true        1 \u001b[90m missing \u001b[0m a\n",
       "   2 │ false        2  b       \u001b[90m missing \u001b[0m\n",
       "   3 │  true \u001b[90m missing \u001b[0m c        c"
      ]
     },
     "execution_count": 3,
     "metadata": {},
     "output_type": "execute_result"
    }
   ],
   "source": [
    "x = DataFrame(A=[true, false, true], B=[1, 2, missing],\n",
    "              C=[missing, \"b\", \"c\"], D=['a', missing, 'c'])"
   ]
  },
  {
   "cell_type": "markdown",
   "metadata": {},
   "source": [
    "and use `eltypes` to look at the columnwise types."
   ]
  },
  {
   "cell_type": "code",
   "execution_count": 4,
   "metadata": {},
   "outputs": [
    {
     "data": {
      "text/plain": [
       "4-element Vector{Type}:\n",
       " Bool\n",
       " Union{Missing, Int64}\n",
       " Union{Missing, String}\n",
       " Union{Missing, Char}"
      ]
     },
     "execution_count": 4,
     "metadata": {},
     "output_type": "execute_result"
    }
   ],
   "source": [
    "eltype.(eachcol(x))"
   ]
  },
  {
   "cell_type": "markdown",
   "metadata": {},
   "source": [
    "### CSV.jl"
   ]
  },
  {
   "cell_type": "markdown",
   "metadata": {},
   "source": [
    "Let's use `CSV` to save `x` to disk; make sure `x1.csv` does not conflict with some file in your working directory."
   ]
  },
  {
   "cell_type": "code",
   "execution_count": 5,
   "metadata": {},
   "outputs": [
    {
     "data": {
      "text/plain": [
       "\"x1.csv\""
      ]
     },
     "execution_count": 5,
     "metadata": {},
     "output_type": "execute_result"
    }
   ],
   "source": [
    "CSV.write(\"x1.csv\", x)"
   ]
  },
  {
   "cell_type": "markdown",
   "metadata": {},
   "source": [
    "Now we can see how it was saved by reading `x.csv`."
   ]
  },
  {
   "cell_type": "code",
   "execution_count": 6,
   "metadata": {},
   "outputs": [
    {
     "name": "stdout",
     "output_type": "stream",
     "text": [
      "A,B,C,D\n",
      "true,1,,a\n",
      "false,2,b,\n",
      "true,,c,c\n"
     ]
    }
   ],
   "source": [
    "print(read(\"x1.csv\", String))"
   ]
  },
  {
   "cell_type": "markdown",
   "metadata": {},
   "source": [
    "We can also load it back."
   ]
  },
  {
   "cell_type": "code",
   "execution_count": 7,
   "metadata": {},
   "outputs": [
    {
     "data": {
      "text/html": [
       "<div><div style = \"float: left;\"><span>3×4 DataFrame</span></div><div style = \"clear: both;\"></div></div><div class = \"data-frame\" style = \"overflow-x: scroll;\"><table class = \"data-frame\" style = \"margin-bottom: 6px;\"><thead><tr class = \"header\"><th class = \"rowNumber\" style = \"font-weight: bold; text-align: right;\">Row</th><th style = \"text-align: left;\">A</th><th style = \"text-align: left;\">B</th><th style = \"text-align: left;\">C</th><th style = \"text-align: left;\">D</th></tr><tr class = \"subheader headerLastRow\"><th class = \"rowNumber\" style = \"font-weight: bold; text-align: right;\"></th><th title = \"Bool\" style = \"text-align: left;\">Bool</th><th title = \"Union{Missing, Int64}\" style = \"text-align: left;\">Int64?</th><th title = \"Union{Missing, String1}\" style = \"text-align: left;\">String1?</th><th title = \"Union{Missing, String1}\" style = \"text-align: left;\">String1?</th></tr></thead><tbody><tr><td class = \"rowNumber\" style = \"font-weight: bold; text-align: right;\">1</td><td style = \"text-align: right;\">true</td><td style = \"text-align: right;\">1</td><td style = \"font-style: italic; text-align: left;\">missing</td><td style = \"text-align: left;\">a</td></tr><tr><td class = \"rowNumber\" style = \"font-weight: bold; text-align: right;\">2</td><td style = \"text-align: right;\">false</td><td style = \"text-align: right;\">2</td><td style = \"text-align: left;\">b</td><td style = \"font-style: italic; text-align: left;\">missing</td></tr><tr><td class = \"rowNumber\" style = \"font-weight: bold; text-align: right;\">3</td><td style = \"text-align: right;\">true</td><td style = \"font-style: italic; text-align: right;\">missing</td><td style = \"text-align: left;\">c</td><td style = \"text-align: left;\">c</td></tr></tbody></table></div>"
      ],
      "text/latex": [
       "\\begin{tabular}{r|cccc}\n",
       "\t& A & B & C & D\\\\\n",
       "\t\\hline\n",
       "\t& Bool & Int64? & String1? & String1?\\\\\n",
       "\t\\hline\n",
       "\t1 & 1 & 1 & \\emph{missing} & a \\\\\n",
       "\t2 & 0 & 2 & b & \\emph{missing} \\\\\n",
       "\t3 & 1 & \\emph{missing} & c & c \\\\\n",
       "\\end{tabular}\n"
      ],
      "text/plain": [
       "\u001b[1m3×4 DataFrame\u001b[0m\n",
       "\u001b[1m Row \u001b[0m│\u001b[1m A     \u001b[0m\u001b[1m B       \u001b[0m\u001b[1m C        \u001b[0m\u001b[1m D        \u001b[0m\n",
       "     │\u001b[90m Bool  \u001b[0m\u001b[90m Int64?  \u001b[0m\u001b[90m String1? \u001b[0m\u001b[90m String1? \u001b[0m\n",
       "─────┼────────────────────────────────────\n",
       "   1 │  true        1 \u001b[90m missing  \u001b[0m a\n",
       "   2 │ false        2  b        \u001b[90m missing  \u001b[0m\n",
       "   3 │  true \u001b[90m missing \u001b[0m c         c"
      ]
     },
     "execution_count": 7,
     "metadata": {},
     "output_type": "execute_result"
    }
   ],
   "source": [
    "y = CSV.read(\"x1.csv\", DataFrame)"
   ]
  },
  {
   "cell_type": "markdown",
   "metadata": {},
   "source": [
    "Note that when loading in a `DataFrame` from a `CSV` the column type for columns `:C` `:D` have changed to use special strings defined in the InlineStrings.jl package."
   ]
  },
  {
   "cell_type": "code",
   "execution_count": 8,
   "metadata": {},
   "outputs": [
    {
     "data": {
      "text/plain": [
       "4-element Vector{Type}:\n",
       " Bool\n",
       " Union{Missing, Int64}\n",
       " Union{Missing, String1}\n",
       " Union{Missing, String1}"
      ]
     },
     "execution_count": 8,
     "metadata": {},
     "output_type": "execute_result"
    }
   ],
   "source": [
    "eltype.(eachcol(y))"
   ]
  },
  {
   "cell_type": "markdown",
   "metadata": {},
   "source": [
    "### Serialization, JDF.jl, and JLSO.jl\n",
    "\n",
    "#### Serialization"
   ]
  },
  {
   "cell_type": "markdown",
   "metadata": {},
   "source": [
    "Now we use serialization to save `x`.\n",
    "\n",
    "There are two ways to perform serialization. The first way is to use the `Serialization.serialize` as below:"
   ]
  },
  {
   "cell_type": "markdown",
   "metadata": {},
   "source": [
    "Note that in general, this process will not work if the reading and writing are done by different versions of Julia, or an instance of Julia with a different system image."
   ]
  },
  {
   "cell_type": "code",
   "execution_count": 9,
   "metadata": {},
   "outputs": [],
   "source": [
    "open(\"x.bin\", \"w\") do io\n",
    "    serialize(io, x)\n",
    "end"
   ]
  },
  {
   "cell_type": "markdown",
   "metadata": {},
   "source": [
    "Now we load back the saved file to `y` variable. Again `y` is identical to `x`. However, please beware that if you session does not have DataFrames.jl loaded, then it may not recognise the content as DataFrames.jl"
   ]
  },
  {
   "cell_type": "code",
   "execution_count": 10,
   "metadata": {},
   "outputs": [
    {
     "data": {
      "text/html": [
       "<div><div style = \"float: left;\"><span>3×4 DataFrame</span></div><div style = \"clear: both;\"></div></div><div class = \"data-frame\" style = \"overflow-x: scroll;\"><table class = \"data-frame\" style = \"margin-bottom: 6px;\"><thead><tr class = \"header\"><th class = \"rowNumber\" style = \"font-weight: bold; text-align: right;\">Row</th><th style = \"text-align: left;\">A</th><th style = \"text-align: left;\">B</th><th style = \"text-align: left;\">C</th><th style = \"text-align: left;\">D</th></tr><tr class = \"subheader headerLastRow\"><th class = \"rowNumber\" style = \"font-weight: bold; text-align: right;\"></th><th title = \"Bool\" style = \"text-align: left;\">Bool</th><th title = \"Union{Missing, Int64}\" style = \"text-align: left;\">Int64?</th><th title = \"Union{Missing, String}\" style = \"text-align: left;\">String?</th><th title = \"Union{Missing, Char}\" style = \"text-align: left;\">Char?</th></tr></thead><tbody><tr><td class = \"rowNumber\" style = \"font-weight: bold; text-align: right;\">1</td><td style = \"text-align: right;\">true</td><td style = \"text-align: right;\">1</td><td style = \"font-style: italic; text-align: left;\">missing</td><td style = \"text-align: left;\">a</td></tr><tr><td class = \"rowNumber\" style = \"font-weight: bold; text-align: right;\">2</td><td style = \"text-align: right;\">false</td><td style = \"text-align: right;\">2</td><td style = \"text-align: left;\">b</td><td style = \"font-style: italic; text-align: left;\">missing</td></tr><tr><td class = \"rowNumber\" style = \"font-weight: bold; text-align: right;\">3</td><td style = \"text-align: right;\">true</td><td style = \"font-style: italic; text-align: right;\">missing</td><td style = \"text-align: left;\">c</td><td style = \"text-align: left;\">c</td></tr></tbody></table></div>"
      ],
      "text/latex": [
       "\\begin{tabular}{r|cccc}\n",
       "\t& A & B & C & D\\\\\n",
       "\t\\hline\n",
       "\t& Bool & Int64? & String? & Char?\\\\\n",
       "\t\\hline\n",
       "\t1 & 1 & 1 & \\emph{missing} & a \\\\\n",
       "\t2 & 0 & 2 & b & \\emph{missing} \\\\\n",
       "\t3 & 1 & \\emph{missing} & c & c \\\\\n",
       "\\end{tabular}\n"
      ],
      "text/plain": [
       "\u001b[1m3×4 DataFrame\u001b[0m\n",
       "\u001b[1m Row \u001b[0m│\u001b[1m A     \u001b[0m\u001b[1m B       \u001b[0m\u001b[1m C       \u001b[0m\u001b[1m D       \u001b[0m\n",
       "     │\u001b[90m Bool  \u001b[0m\u001b[90m Int64?  \u001b[0m\u001b[90m String? \u001b[0m\u001b[90m Char?   \u001b[0m\n",
       "─────┼──────────────────────────────────\n",
       "   1 │  true        1 \u001b[90m missing \u001b[0m a\n",
       "   2 │ false        2  b       \u001b[90m missing \u001b[0m\n",
       "   3 │  true \u001b[90m missing \u001b[0m c        c"
      ]
     },
     "execution_count": 10,
     "metadata": {},
     "output_type": "execute_result"
    }
   ],
   "source": [
    "y = open(deserialize, \"x.bin\")"
   ]
  },
  {
   "cell_type": "code",
   "execution_count": 11,
   "metadata": {},
   "outputs": [
    {
     "data": {
      "text/plain": [
       "4-element Vector{Type}:\n",
       " Bool\n",
       " Union{Missing, Int64}\n",
       " Union{Missing, String}\n",
       " Union{Missing, Char}"
      ]
     },
     "execution_count": 11,
     "metadata": {},
     "output_type": "execute_result"
    }
   ],
   "source": [
    "eltype.(eachcol(y))"
   ]
  },
  {
   "cell_type": "markdown",
   "metadata": {},
   "source": [
    "#### JDF.jl\n",
    "\n",
    "[JDF.jl](https://github.com/xiaodaigh/JDF) is a relatively new package designed to serialize DataFrames. You can save a DataFrame with the `savejdf` function."
   ]
  },
  {
   "cell_type": "code",
   "execution_count": 12,
   "metadata": {},
   "outputs": [],
   "source": [
    "JDF.save(\"x.jdf\", x);"
   ]
  },
  {
   "cell_type": "markdown",
   "metadata": {},
   "source": [
    "To load the saved JDF file, one can use the `loadjdf` function"
   ]
  },
  {
   "cell_type": "code",
   "execution_count": 13,
   "metadata": {},
   "outputs": [
    {
     "data": {
      "text/html": [
       "<div><div style = \"float: left;\"><span>3×4 DataFrame</span></div><div style = \"clear: both;\"></div></div><div class = \"data-frame\" style = \"overflow-x: scroll;\"><table class = \"data-frame\" style = \"margin-bottom: 6px;\"><thead><tr class = \"header\"><th class = \"rowNumber\" style = \"font-weight: bold; text-align: right;\">Row</th><th style = \"text-align: left;\">A</th><th style = \"text-align: left;\">B</th><th style = \"text-align: left;\">C</th><th style = \"text-align: left;\">D</th></tr><tr class = \"subheader headerLastRow\"><th class = \"rowNumber\" style = \"font-weight: bold; text-align: right;\"></th><th title = \"Bool\" style = \"text-align: left;\">Bool</th><th title = \"Union{Missing, Int64}\" style = \"text-align: left;\">Int64?</th><th title = \"Union{Missing, String}\" style = \"text-align: left;\">String?</th><th title = \"Union{Missing, Char}\" style = \"text-align: left;\">Char?</th></tr></thead><tbody><tr><td class = \"rowNumber\" style = \"font-weight: bold; text-align: right;\">1</td><td style = \"text-align: right;\">true</td><td style = \"text-align: right;\">1</td><td style = \"font-style: italic; text-align: left;\">missing</td><td style = \"text-align: left;\">a</td></tr><tr><td class = \"rowNumber\" style = \"font-weight: bold; text-align: right;\">2</td><td style = \"text-align: right;\">false</td><td style = \"text-align: right;\">2</td><td style = \"text-align: left;\">b</td><td style = \"font-style: italic; text-align: left;\">missing</td></tr><tr><td class = \"rowNumber\" style = \"font-weight: bold; text-align: right;\">3</td><td style = \"text-align: right;\">true</td><td style = \"font-style: italic; text-align: right;\">missing</td><td style = \"text-align: left;\">c</td><td style = \"text-align: left;\">c</td></tr></tbody></table></div>"
      ],
      "text/latex": [
       "\\begin{tabular}{r|cccc}\n",
       "\t& A & B & C & D\\\\\n",
       "\t\\hline\n",
       "\t& Bool & Int64? & String? & Char?\\\\\n",
       "\t\\hline\n",
       "\t1 & 1 & 1 & \\emph{missing} & a \\\\\n",
       "\t2 & 0 & 2 & b & \\emph{missing} \\\\\n",
       "\t3 & 1 & \\emph{missing} & c & c \\\\\n",
       "\\end{tabular}\n"
      ],
      "text/plain": [
       "\u001b[1m3×4 DataFrame\u001b[0m\n",
       "\u001b[1m Row \u001b[0m│\u001b[1m A     \u001b[0m\u001b[1m B       \u001b[0m\u001b[1m C       \u001b[0m\u001b[1m D       \u001b[0m\n",
       "     │\u001b[90m Bool  \u001b[0m\u001b[90m Int64?  \u001b[0m\u001b[90m String? \u001b[0m\u001b[90m Char?   \u001b[0m\n",
       "─────┼──────────────────────────────────\n",
       "   1 │  true        1 \u001b[90m missing \u001b[0m a\n",
       "   2 │ false        2  b       \u001b[90m missing \u001b[0m\n",
       "   3 │  true \u001b[90m missing \u001b[0m c        c"
      ]
     },
     "execution_count": 13,
     "metadata": {},
     "output_type": "execute_result"
    }
   ],
   "source": [
    "x_loaded = JDF.load(\"x.jdf\") |> DataFrame"
   ]
  },
  {
   "cell_type": "markdown",
   "metadata": {},
   "source": [
    "You can see that they are the same"
   ]
  },
  {
   "cell_type": "code",
   "execution_count": 14,
   "metadata": {},
   "outputs": [
    {
     "data": {
      "text/plain": [
       "true"
      ]
     },
     "execution_count": 14,
     "metadata": {},
     "output_type": "execute_result"
    }
   ],
   "source": [
    "isequal(x_loaded, x)"
   ]
  },
  {
   "cell_type": "markdown",
   "metadata": {},
   "source": [
    "JDF.jl offers the ability to load only certain columns from disk to help with working with large files"
   ]
  },
  {
   "cell_type": "code",
   "execution_count": 15,
   "metadata": {},
   "outputs": [
    {
     "data": {
      "text/plain": [
       "JDFFile{String}(\"x.jdf\")"
      ]
     },
     "execution_count": 15,
     "metadata": {},
     "output_type": "execute_result"
    }
   ],
   "source": [
    "# set up a JDFFile which is a on disk representation of `x` backed by JDF.jl\n",
    "x_ondisk = jdf\"x.jdf\""
   ]
  },
  {
   "cell_type": "markdown",
   "metadata": {},
   "source": [
    "We can see all the names of `x` without loading it into memory"
   ]
  },
  {
   "cell_type": "code",
   "execution_count": 16,
   "metadata": {},
   "outputs": [
    {
     "data": {
      "text/plain": [
       "4-element Vector{Symbol}:\n",
       " :A\n",
       " :B\n",
       " :C\n",
       " :D"
      ]
     },
     "execution_count": 16,
     "metadata": {},
     "output_type": "execute_result"
    }
   ],
   "source": [
    "names(x_ondisk)"
   ]
  },
  {
   "cell_type": "markdown",
   "metadata": {},
   "source": [
    "The below is an example of how to load only columns `:A` and `:D` "
   ]
  },
  {
   "cell_type": "code",
   "execution_count": 17,
   "metadata": {},
   "outputs": [
    {
     "data": {
      "text/html": [
       "<div><div style = \"float: left;\"><span>3×2 DataFrame</span></div><div style = \"clear: both;\"></div></div><div class = \"data-frame\" style = \"overflow-x: scroll;\"><table class = \"data-frame\" style = \"margin-bottom: 6px;\"><thead><tr class = \"header\"><th class = \"rowNumber\" style = \"font-weight: bold; text-align: right;\">Row</th><th style = \"text-align: left;\">A</th><th style = \"text-align: left;\">D</th></tr><tr class = \"subheader headerLastRow\"><th class = \"rowNumber\" style = \"font-weight: bold; text-align: right;\"></th><th title = \"Bool\" style = \"text-align: left;\">Bool</th><th title = \"Union{Missing, Char}\" style = \"text-align: left;\">Char?</th></tr></thead><tbody><tr><td class = \"rowNumber\" style = \"font-weight: bold; text-align: right;\">1</td><td style = \"text-align: right;\">true</td><td style = \"text-align: left;\">a</td></tr><tr><td class = \"rowNumber\" style = \"font-weight: bold; text-align: right;\">2</td><td style = \"text-align: right;\">false</td><td style = \"font-style: italic; text-align: left;\">missing</td></tr><tr><td class = \"rowNumber\" style = \"font-weight: bold; text-align: right;\">3</td><td style = \"text-align: right;\">true</td><td style = \"text-align: left;\">c</td></tr></tbody></table></div>"
      ],
      "text/latex": [
       "\\begin{tabular}{r|cc}\n",
       "\t& A & D\\\\\n",
       "\t\\hline\n",
       "\t& Bool & Char?\\\\\n",
       "\t\\hline\n",
       "\t1 & 1 & a \\\\\n",
       "\t2 & 0 & \\emph{missing} \\\\\n",
       "\t3 & 1 & c \\\\\n",
       "\\end{tabular}\n"
      ],
      "text/plain": [
       "\u001b[1m3×2 DataFrame\u001b[0m\n",
       "\u001b[1m Row \u001b[0m│\u001b[1m A     \u001b[0m\u001b[1m D       \u001b[0m\n",
       "     │\u001b[90m Bool  \u001b[0m\u001b[90m Char?   \u001b[0m\n",
       "─────┼────────────────\n",
       "   1 │  true  a\n",
       "   2 │ false \u001b[90m missing \u001b[0m\n",
       "   3 │  true  c"
      ]
     },
     "execution_count": 17,
     "metadata": {},
     "output_type": "execute_result"
    }
   ],
   "source": [
    "xd = JDF.load(x_ondisk; cols = [\"A\", \"D\"]) |> DataFrame"
   ]
  },
  {
   "cell_type": "markdown",
   "metadata": {},
   "source": [
    "##### JDF.jl vs others\n",
    "\n",
    "For more details about design assumptions and limitations of JDF.jl check out https://github.com/xiaodaigh/JDF.jl."
   ]
  },
  {
   "cell_type": "markdown",
   "metadata": {},
   "source": [
    "#### JLSO.jl\n",
    "\n",
    "Another way to perform serialization is by using the [JLSO.jl](https://github.com/invenia/JLSO.jl) library:"
   ]
  },
  {
   "cell_type": "code",
   "execution_count": 18,
   "metadata": {},
   "outputs": [],
   "source": [
    "JLSO.save(\"x.jlso\", :data => x)"
   ]
  },
  {
   "cell_type": "markdown",
   "metadata": {},
   "source": [
    "Now we can laod back the file to `y`"
   ]
  },
  {
   "cell_type": "code",
   "execution_count": 19,
   "metadata": {},
   "outputs": [
    {
     "data": {
      "text/html": [
       "<div><div style = \"float: left;\"><span>3×4 DataFrame</span></div><div style = \"clear: both;\"></div></div><div class = \"data-frame\" style = \"overflow-x: scroll;\"><table class = \"data-frame\" style = \"margin-bottom: 6px;\"><thead><tr class = \"header\"><th class = \"rowNumber\" style = \"font-weight: bold; text-align: right;\">Row</th><th style = \"text-align: left;\">A</th><th style = \"text-align: left;\">B</th><th style = \"text-align: left;\">C</th><th style = \"text-align: left;\">D</th></tr><tr class = \"subheader headerLastRow\"><th class = \"rowNumber\" style = \"font-weight: bold; text-align: right;\"></th><th title = \"Bool\" style = \"text-align: left;\">Bool</th><th title = \"Union{Missing, Int64}\" style = \"text-align: left;\">Int64?</th><th title = \"Union{Missing, String}\" style = \"text-align: left;\">String?</th><th title = \"Union{Missing, Char}\" style = \"text-align: left;\">Char?</th></tr></thead><tbody><tr><td class = \"rowNumber\" style = \"font-weight: bold; text-align: right;\">1</td><td style = \"text-align: right;\">true</td><td style = \"text-align: right;\">1</td><td style = \"font-style: italic; text-align: left;\">missing</td><td style = \"text-align: left;\">a</td></tr><tr><td class = \"rowNumber\" style = \"font-weight: bold; text-align: right;\">2</td><td style = \"text-align: right;\">false</td><td style = \"text-align: right;\">2</td><td style = \"text-align: left;\">b</td><td style = \"font-style: italic; text-align: left;\">missing</td></tr><tr><td class = \"rowNumber\" style = \"font-weight: bold; text-align: right;\">3</td><td style = \"text-align: right;\">true</td><td style = \"font-style: italic; text-align: right;\">missing</td><td style = \"text-align: left;\">c</td><td style = \"text-align: left;\">c</td></tr></tbody></table></div>"
      ],
      "text/latex": [
       "\\begin{tabular}{r|cccc}\n",
       "\t& A & B & C & D\\\\\n",
       "\t\\hline\n",
       "\t& Bool & Int64? & String? & Char?\\\\\n",
       "\t\\hline\n",
       "\t1 & 1 & 1 & \\emph{missing} & a \\\\\n",
       "\t2 & 0 & 2 & b & \\emph{missing} \\\\\n",
       "\t3 & 1 & \\emph{missing} & c & c \\\\\n",
       "\\end{tabular}\n"
      ],
      "text/plain": [
       "\u001b[1m3×4 DataFrame\u001b[0m\n",
       "\u001b[1m Row \u001b[0m│\u001b[1m A     \u001b[0m\u001b[1m B       \u001b[0m\u001b[1m C       \u001b[0m\u001b[1m D       \u001b[0m\n",
       "     │\u001b[90m Bool  \u001b[0m\u001b[90m Int64?  \u001b[0m\u001b[90m String? \u001b[0m\u001b[90m Char?   \u001b[0m\n",
       "─────┼──────────────────────────────────\n",
       "   1 │  true        1 \u001b[90m missing \u001b[0m a\n",
       "   2 │ false        2  b       \u001b[90m missing \u001b[0m\n",
       "   3 │  true \u001b[90m missing \u001b[0m c        c"
      ]
     },
     "execution_count": 19,
     "metadata": {},
     "output_type": "execute_result"
    }
   ],
   "source": [
    "y = JLSO.load(\"x.jlso\")[:data]"
   ]
  },
  {
   "cell_type": "code",
   "execution_count": 20,
   "metadata": {},
   "outputs": [
    {
     "data": {
      "text/plain": [
       "4-element Vector{Type}:\n",
       " Bool\n",
       " Union{Missing, Int64}\n",
       " Union{Missing, String}\n",
       " Union{Missing, Char}"
      ]
     },
     "execution_count": 20,
     "metadata": {},
     "output_type": "execute_result"
    }
   ],
   "source": [
    "eltype.(eachcol(y))"
   ]
  },
  {
   "cell_type": "markdown",
   "metadata": {},
   "source": [
    "### JSONTables.jl"
   ]
  },
  {
   "cell_type": "markdown",
   "metadata": {},
   "source": [
    "Often you might need to read and write data stored in JSON format. JSONTables.jl provides a way to process them in row-oriented or column-oriented layout. We present both options below."
   ]
  },
  {
   "cell_type": "code",
   "execution_count": 21,
   "metadata": {},
   "outputs": [
    {
     "data": {
      "text/plain": [
       "106"
      ]
     },
     "execution_count": 21,
     "metadata": {},
     "output_type": "execute_result"
    }
   ],
   "source": [
    "open(io -> arraytable(io, x), \"x1.json\", \"w\")"
   ]
  },
  {
   "cell_type": "code",
   "execution_count": 22,
   "metadata": {},
   "outputs": [
    {
     "data": {
      "text/plain": [
       "76"
      ]
     },
     "execution_count": 22,
     "metadata": {},
     "output_type": "execute_result"
    }
   ],
   "source": [
    "open(io -> objecttable(io, x), \"x2.json\", \"w\")"
   ]
  },
  {
   "cell_type": "code",
   "execution_count": 23,
   "metadata": {},
   "outputs": [
    {
     "name": "stdout",
     "output_type": "stream",
     "text": [
      "[{\"A\":true,\"B\":1,\"C\":null,\"D\":\"a\"},{\"A\":false,\"B\":2,\"C\":\"b\",\"D\":null},{\"A\":true,\"B\":null,\"C\":\"c\",\"D\":\"c\"}]"
     ]
    }
   ],
   "source": [
    "print(read(\"x1.json\", String))"
   ]
  },
  {
   "cell_type": "code",
   "execution_count": 24,
   "metadata": {},
   "outputs": [
    {
     "name": "stdout",
     "output_type": "stream",
     "text": [
      "{\"A\":[true,false,true],\"B\":[1,2,null],\"C\":[null,\"b\",\"c\"],\"D\":[\"a\",null,\"c\"]}"
     ]
    }
   ],
   "source": [
    "print(read(\"x2.json\", String))"
   ]
  },
  {
   "cell_type": "code",
   "execution_count": 25,
   "metadata": {},
   "outputs": [
    {
     "data": {
      "text/html": [
       "<div><div style = \"float: left;\"><span>3×4 DataFrame</span></div><div style = \"clear: both;\"></div></div><div class = \"data-frame\" style = \"overflow-x: scroll;\"><table class = \"data-frame\" style = \"margin-bottom: 6px;\"><thead><tr class = \"header\"><th class = \"rowNumber\" style = \"font-weight: bold; text-align: right;\">Row</th><th style = \"text-align: left;\">A</th><th style = \"text-align: left;\">B</th><th style = \"text-align: left;\">C</th><th style = \"text-align: left;\">D</th></tr><tr class = \"subheader headerLastRow\"><th class = \"rowNumber\" style = \"font-weight: bold; text-align: right;\"></th><th title = \"Bool\" style = \"text-align: left;\">Bool</th><th title = \"Union{Missing, Int64}\" style = \"text-align: left;\">Int64?</th><th title = \"Union{Missing, String}\" style = \"text-align: left;\">String?</th><th title = \"Union{Missing, String}\" style = \"text-align: left;\">String?</th></tr></thead><tbody><tr><td class = \"rowNumber\" style = \"font-weight: bold; text-align: right;\">1</td><td style = \"text-align: right;\">true</td><td style = \"text-align: right;\">1</td><td style = \"font-style: italic; text-align: left;\">missing</td><td style = \"text-align: left;\">a</td></tr><tr><td class = \"rowNumber\" style = \"font-weight: bold; text-align: right;\">2</td><td style = \"text-align: right;\">false</td><td style = \"text-align: right;\">2</td><td style = \"text-align: left;\">b</td><td style = \"font-style: italic; text-align: left;\">missing</td></tr><tr><td class = \"rowNumber\" style = \"font-weight: bold; text-align: right;\">3</td><td style = \"text-align: right;\">true</td><td style = \"font-style: italic; text-align: right;\">missing</td><td style = \"text-align: left;\">c</td><td style = \"text-align: left;\">c</td></tr></tbody></table></div>"
      ],
      "text/latex": [
       "\\begin{tabular}{r|cccc}\n",
       "\t& A & B & C & D\\\\\n",
       "\t\\hline\n",
       "\t& Bool & Int64? & String? & String?\\\\\n",
       "\t\\hline\n",
       "\t1 & 1 & 1 & \\emph{missing} & a \\\\\n",
       "\t2 & 0 & 2 & b & \\emph{missing} \\\\\n",
       "\t3 & 1 & \\emph{missing} & c & c \\\\\n",
       "\\end{tabular}\n"
      ],
      "text/plain": [
       "\u001b[1m3×4 DataFrame\u001b[0m\n",
       "\u001b[1m Row \u001b[0m│\u001b[1m A     \u001b[0m\u001b[1m B       \u001b[0m\u001b[1m C       \u001b[0m\u001b[1m D       \u001b[0m\n",
       "     │\u001b[90m Bool  \u001b[0m\u001b[90m Int64?  \u001b[0m\u001b[90m String? \u001b[0m\u001b[90m String? \u001b[0m\n",
       "─────┼──────────────────────────────────\n",
       "   1 │  true        1 \u001b[90m missing \u001b[0m a\n",
       "   2 │ false        2  b       \u001b[90m missing \u001b[0m\n",
       "   3 │  true \u001b[90m missing \u001b[0m c        c"
      ]
     },
     "execution_count": 25,
     "metadata": {},
     "output_type": "execute_result"
    }
   ],
   "source": [
    "y1 = open(jsontable, \"x1.json\") |> DataFrame"
   ]
  },
  {
   "cell_type": "code",
   "execution_count": 26,
   "metadata": {},
   "outputs": [
    {
     "data": {
      "text/plain": [
       "4-element Vector{Type}:\n",
       " Bool\n",
       " Union{Missing, Int64}\n",
       " Union{Missing, String}\n",
       " Union{Missing, String}"
      ]
     },
     "execution_count": 26,
     "metadata": {},
     "output_type": "execute_result"
    }
   ],
   "source": [
    "eltype.(eachcol(y1))"
   ]
  },
  {
   "cell_type": "code",
   "execution_count": 27,
   "metadata": {},
   "outputs": [
    {
     "data": {
      "text/html": [
       "<div><div style = \"float: left;\"><span>3×4 DataFrame</span></div><div style = \"clear: both;\"></div></div><div class = \"data-frame\" style = \"overflow-x: scroll;\"><table class = \"data-frame\" style = \"margin-bottom: 6px;\"><thead><tr class = \"header\"><th class = \"rowNumber\" style = \"font-weight: bold; text-align: right;\">Row</th><th style = \"text-align: left;\">A</th><th style = \"text-align: left;\">B</th><th style = \"text-align: left;\">C</th><th style = \"text-align: left;\">D</th></tr><tr class = \"subheader headerLastRow\"><th class = \"rowNumber\" style = \"font-weight: bold; text-align: right;\"></th><th title = \"Bool\" style = \"text-align: left;\">Bool</th><th title = \"Union{Missing, Int64}\" style = \"text-align: left;\">Int64?</th><th title = \"Union{Missing, String}\" style = \"text-align: left;\">String?</th><th title = \"Union{Missing, String}\" style = \"text-align: left;\">String?</th></tr></thead><tbody><tr><td class = \"rowNumber\" style = \"font-weight: bold; text-align: right;\">1</td><td style = \"text-align: right;\">true</td><td style = \"text-align: right;\">1</td><td style = \"font-style: italic; text-align: left;\">missing</td><td style = \"text-align: left;\">a</td></tr><tr><td class = \"rowNumber\" style = \"font-weight: bold; text-align: right;\">2</td><td style = \"text-align: right;\">false</td><td style = \"text-align: right;\">2</td><td style = \"text-align: left;\">b</td><td style = \"font-style: italic; text-align: left;\">missing</td></tr><tr><td class = \"rowNumber\" style = \"font-weight: bold; text-align: right;\">3</td><td style = \"text-align: right;\">true</td><td style = \"font-style: italic; text-align: right;\">missing</td><td style = \"text-align: left;\">c</td><td style = \"text-align: left;\">c</td></tr></tbody></table></div>"
      ],
      "text/latex": [
       "\\begin{tabular}{r|cccc}\n",
       "\t& A & B & C & D\\\\\n",
       "\t\\hline\n",
       "\t& Bool & Int64? & String? & String?\\\\\n",
       "\t\\hline\n",
       "\t1 & 1 & 1 & \\emph{missing} & a \\\\\n",
       "\t2 & 0 & 2 & b & \\emph{missing} \\\\\n",
       "\t3 & 1 & \\emph{missing} & c & c \\\\\n",
       "\\end{tabular}\n"
      ],
      "text/plain": [
       "\u001b[1m3×4 DataFrame\u001b[0m\n",
       "\u001b[1m Row \u001b[0m│\u001b[1m A     \u001b[0m\u001b[1m B       \u001b[0m\u001b[1m C       \u001b[0m\u001b[1m D       \u001b[0m\n",
       "     │\u001b[90m Bool  \u001b[0m\u001b[90m Int64?  \u001b[0m\u001b[90m String? \u001b[0m\u001b[90m String? \u001b[0m\n",
       "─────┼──────────────────────────────────\n",
       "   1 │  true        1 \u001b[90m missing \u001b[0m a\n",
       "   2 │ false        2  b       \u001b[90m missing \u001b[0m\n",
       "   3 │  true \u001b[90m missing \u001b[0m c        c"
      ]
     },
     "execution_count": 27,
     "metadata": {},
     "output_type": "execute_result"
    }
   ],
   "source": [
    "y2 = open(jsontable, \"x2.json\") |> DataFrame"
   ]
  },
  {
   "cell_type": "code",
   "execution_count": 28,
   "metadata": {},
   "outputs": [
    {
     "data": {
      "text/plain": [
       "4-element Vector{Type}:\n",
       " Bool\n",
       " Union{Missing, Int64}\n",
       " Union{Missing, String}\n",
       " Union{Missing, String}"
      ]
     },
     "execution_count": 28,
     "metadata": {},
     "output_type": "execute_result"
    }
   ],
   "source": [
    "eltype.(eachcol(y2))"
   ]
  },
  {
   "cell_type": "markdown",
   "metadata": {},
   "source": [
    "### Arrow.jl"
   ]
  },
  {
   "cell_type": "markdown",
   "metadata": {},
   "source": [
    "Finally we use Apache Arrow format that allows, in particular, for data interchange with R or Python."
   ]
  },
  {
   "cell_type": "code",
   "execution_count": 29,
   "metadata": {},
   "outputs": [
    {
     "data": {
      "text/plain": [
       "\"x.arrow\""
      ]
     },
     "execution_count": 29,
     "metadata": {},
     "output_type": "execute_result"
    }
   ],
   "source": [
    "Arrow.write(\"x.arrow\", x)"
   ]
  },
  {
   "cell_type": "code",
   "execution_count": 30,
   "metadata": {},
   "outputs": [
    {
     "data": {
      "text/html": [
       "<div><div style = \"float: left;\"><span>3×4 DataFrame</span></div><div style = \"clear: both;\"></div></div><div class = \"data-frame\" style = \"overflow-x: scroll;\"><table class = \"data-frame\" style = \"margin-bottom: 6px;\"><thead><tr class = \"header\"><th class = \"rowNumber\" style = \"font-weight: bold; text-align: right;\">Row</th><th style = \"text-align: left;\">A</th><th style = \"text-align: left;\">B</th><th style = \"text-align: left;\">C</th><th style = \"text-align: left;\">D</th></tr><tr class = \"subheader headerLastRow\"><th class = \"rowNumber\" style = \"font-weight: bold; text-align: right;\"></th><th title = \"Bool\" style = \"text-align: left;\">Bool</th><th title = \"Union{Missing, Int64}\" style = \"text-align: left;\">Int64?</th><th title = \"Union{Missing, String}\" style = \"text-align: left;\">String?</th><th title = \"Union{Missing, Char}\" style = \"text-align: left;\">Char?</th></tr></thead><tbody><tr><td class = \"rowNumber\" style = \"font-weight: bold; text-align: right;\">1</td><td style = \"text-align: right;\">true</td><td style = \"text-align: right;\">1</td><td style = \"font-style: italic; text-align: left;\">missing</td><td style = \"text-align: left;\">a</td></tr><tr><td class = \"rowNumber\" style = \"font-weight: bold; text-align: right;\">2</td><td style = \"text-align: right;\">false</td><td style = \"text-align: right;\">2</td><td style = \"text-align: left;\">b</td><td style = \"font-style: italic; text-align: left;\">missing</td></tr><tr><td class = \"rowNumber\" style = \"font-weight: bold; text-align: right;\">3</td><td style = \"text-align: right;\">true</td><td style = \"font-style: italic; text-align: right;\">missing</td><td style = \"text-align: left;\">c</td><td style = \"text-align: left;\">c</td></tr></tbody></table></div>"
      ],
      "text/latex": [
       "\\begin{tabular}{r|cccc}\n",
       "\t& A & B & C & D\\\\\n",
       "\t\\hline\n",
       "\t& Bool & Int64? & String? & Char?\\\\\n",
       "\t\\hline\n",
       "\t1 & 1 & 1 & \\emph{missing} & a \\\\\n",
       "\t2 & 0 & 2 & b & \\emph{missing} \\\\\n",
       "\t3 & 1 & \\emph{missing} & c & c \\\\\n",
       "\\end{tabular}\n"
      ],
      "text/plain": [
       "\u001b[1m3×4 DataFrame\u001b[0m\n",
       "\u001b[1m Row \u001b[0m│\u001b[1m A     \u001b[0m\u001b[1m B       \u001b[0m\u001b[1m C       \u001b[0m\u001b[1m D       \u001b[0m\n",
       "     │\u001b[90m Bool  \u001b[0m\u001b[90m Int64?  \u001b[0m\u001b[90m String? \u001b[0m\u001b[90m Char?   \u001b[0m\n",
       "─────┼──────────────────────────────────\n",
       "   1 │  true        1 \u001b[90m missing \u001b[0m a\n",
       "   2 │ false        2  b       \u001b[90m missing \u001b[0m\n",
       "   3 │  true \u001b[90m missing \u001b[0m c        c"
      ]
     },
     "execution_count": 30,
     "metadata": {},
     "output_type": "execute_result"
    }
   ],
   "source": [
    "y = Arrow.Table(\"x.arrow\") |> DataFrame"
   ]
  },
  {
   "cell_type": "code",
   "execution_count": 31,
   "metadata": {},
   "outputs": [
    {
     "data": {
      "text/plain": [
       "4-element Vector{Type}:\n",
       " Bool\n",
       " Union{Missing, Int64}\n",
       " Union{Missing, String}\n",
       " Union{Missing, Char}"
      ]
     },
     "execution_count": 31,
     "metadata": {},
     "output_type": "execute_result"
    }
   ],
   "source": [
    "eltype.(eachcol(y))"
   ]
  },
  {
   "cell_type": "markdown",
   "metadata": {},
   "source": [
    "Note that columns of `y` are immutable"
   ]
  },
  {
   "cell_type": "code",
   "execution_count": 32,
   "metadata": {},
   "outputs": [
    {
     "ename": "LoadError",
     "evalue": "ReadOnlyMemoryError()",
     "output_type": "error",
     "traceback": [
      "ReadOnlyMemoryError()",
      "",
      "Stacktrace:",
      " [1] setindex!",
      "   @ .\\array.jl:969 [inlined]",
      " [2] setindex!(p::Arrow.BoolVector{Bool}, v::Bool, i::Int64)",
      "   @ Arrow C:\\Users\\bogum\\.julia\\packages\\Arrow\\MJoOf\\src\\arraytypes\\bool.jl:49",
      " [3] top-level scope",
      "   @ In[32]:1"
     ]
    }
   ],
   "source": [
    "y.A[1] = false"
   ]
  },
  {
   "cell_type": "markdown",
   "metadata": {},
   "source": [
    "This is because `Arrow.Table` uses memory mapping and thus uses a custom vector types:"
   ]
  },
  {
   "cell_type": "code",
   "execution_count": 33,
   "metadata": {},
   "outputs": [
    {
     "data": {
      "text/plain": [
       "3-element Arrow.BoolVector{Bool}:\n",
       " 1\n",
       " 0\n",
       " 1"
      ]
     },
     "execution_count": 33,
     "metadata": {},
     "output_type": "execute_result"
    }
   ],
   "source": [
    "y.A"
   ]
  },
  {
   "cell_type": "code",
   "execution_count": 34,
   "metadata": {},
   "outputs": [
    {
     "data": {
      "text/plain": [
       "3-element Arrow.Primitive{Union{Missing, Int64}, Vector{Int64}}:\n",
       " 1\n",
       " 2\n",
       "  missing"
      ]
     },
     "execution_count": 34,
     "metadata": {},
     "output_type": "execute_result"
    }
   ],
   "source": [
    "y.B"
   ]
  },
  {
   "cell_type": "markdown",
   "metadata": {},
   "source": [
    "You can get standard Julia Base vectors by copying a data frame"
   ]
  },
  {
   "cell_type": "code",
   "execution_count": 35,
   "metadata": {},
   "outputs": [
    {
     "data": {
      "text/html": [
       "<div><div style = \"float: left;\"><span>3×4 DataFrame</span></div><div style = \"clear: both;\"></div></div><div class = \"data-frame\" style = \"overflow-x: scroll;\"><table class = \"data-frame\" style = \"margin-bottom: 6px;\"><thead><tr class = \"header\"><th class = \"rowNumber\" style = \"font-weight: bold; text-align: right;\">Row</th><th style = \"text-align: left;\">A</th><th style = \"text-align: left;\">B</th><th style = \"text-align: left;\">C</th><th style = \"text-align: left;\">D</th></tr><tr class = \"subheader headerLastRow\"><th class = \"rowNumber\" style = \"font-weight: bold; text-align: right;\"></th><th title = \"Bool\" style = \"text-align: left;\">Bool</th><th title = \"Union{Missing, Int64}\" style = \"text-align: left;\">Int64?</th><th title = \"Union{Missing, String}\" style = \"text-align: left;\">String?</th><th title = \"Union{Missing, Char}\" style = \"text-align: left;\">Char?</th></tr></thead><tbody><tr><td class = \"rowNumber\" style = \"font-weight: bold; text-align: right;\">1</td><td style = \"text-align: right;\">true</td><td style = \"text-align: right;\">1</td><td style = \"font-style: italic; text-align: left;\">missing</td><td style = \"text-align: left;\">a</td></tr><tr><td class = \"rowNumber\" style = \"font-weight: bold; text-align: right;\">2</td><td style = \"text-align: right;\">false</td><td style = \"text-align: right;\">2</td><td style = \"text-align: left;\">b</td><td style = \"font-style: italic; text-align: left;\">missing</td></tr><tr><td class = \"rowNumber\" style = \"font-weight: bold; text-align: right;\">3</td><td style = \"text-align: right;\">true</td><td style = \"font-style: italic; text-align: right;\">missing</td><td style = \"text-align: left;\">c</td><td style = \"text-align: left;\">c</td></tr></tbody></table></div>"
      ],
      "text/latex": [
       "\\begin{tabular}{r|cccc}\n",
       "\t& A & B & C & D\\\\\n",
       "\t\\hline\n",
       "\t& Bool & Int64? & String? & Char?\\\\\n",
       "\t\\hline\n",
       "\t1 & 1 & 1 & \\emph{missing} & a \\\\\n",
       "\t2 & 0 & 2 & b & \\emph{missing} \\\\\n",
       "\t3 & 1 & \\emph{missing} & c & c \\\\\n",
       "\\end{tabular}\n"
      ],
      "text/plain": [
       "\u001b[1m3×4 DataFrame\u001b[0m\n",
       "\u001b[1m Row \u001b[0m│\u001b[1m A     \u001b[0m\u001b[1m B       \u001b[0m\u001b[1m C       \u001b[0m\u001b[1m D       \u001b[0m\n",
       "     │\u001b[90m Bool  \u001b[0m\u001b[90m Int64?  \u001b[0m\u001b[90m String? \u001b[0m\u001b[90m Char?   \u001b[0m\n",
       "─────┼──────────────────────────────────\n",
       "   1 │  true        1 \u001b[90m missing \u001b[0m a\n",
       "   2 │ false        2  b       \u001b[90m missing \u001b[0m\n",
       "   3 │  true \u001b[90m missing \u001b[0m c        c"
      ]
     },
     "execution_count": 35,
     "metadata": {},
     "output_type": "execute_result"
    }
   ],
   "source": [
    "y2 = copy(y)"
   ]
  },
  {
   "cell_type": "code",
   "execution_count": 36,
   "metadata": {},
   "outputs": [
    {
     "data": {
      "text/plain": [
       "3-element Vector{Bool}:\n",
       " 1\n",
       " 0\n",
       " 1"
      ]
     },
     "execution_count": 36,
     "metadata": {},
     "output_type": "execute_result"
    }
   ],
   "source": [
    "y2.A"
   ]
  },
  {
   "cell_type": "code",
   "execution_count": 37,
   "metadata": {},
   "outputs": [
    {
     "data": {
      "text/plain": [
       "3-element Vector{Union{Missing, Int64}}:\n",
       " 1\n",
       " 2\n",
       "  missing"
      ]
     },
     "execution_count": 37,
     "metadata": {},
     "output_type": "execute_result"
    }
   ],
   "source": [
    "y2.B"
   ]
  },
  {
   "cell_type": "markdown",
   "metadata": {},
   "source": [
    "### Basic bechmarking"
   ]
  },
  {
   "cell_type": "markdown",
   "metadata": {},
   "source": [
    "Next, we'll create some files, so be careful that you don't already have these files in your working directory!\n",
    "\n",
    "In particular, we'll time how long it takes us to write a `DataFrame` with 20,000 rows and 500 columns."
   ]
  },
  {
   "cell_type": "code",
   "execution_count": 38,
   "metadata": {},
   "outputs": [
    {
     "name": "stdout",
     "output_type": "stream",
     "text": [
      "First run\n",
      "CSV.jl\n",
      "  3.283824 seconds (40.03 M allocations: 1.060 GiB, 8.51% gc time, 37.86% compilation time)\n",
      "Serialization\n",
      "  0.262582 seconds (187.80 k allocations: 11.432 MiB, 27.28% compilation time)\n",
      "JDF.jl\n",
      "  0.710423 seconds (42.50 k allocations: 85.206 MiB, 5.51% gc time, 11.57% compilation time)\n",
      "JLSO.jl\n",
      "  1.176828 seconds (206.74 k allocations: 16.556 MiB, 1.51% gc time, 10.60% compilation time)\n",
      "Arrow.jl\n",
      "  3.938905 seconds (7.83 M allocations: 537.319 MiB, 9.41% gc time, 97.58% compilation time)\n",
      "JSONTables.jl arraytable\n",
      " 13.672869 seconds (229.99 M allocations: 5.430 GiB, 6.73% gc time, 0.07% compilation time)\n",
      "JSONTables.jl objecttable\n",
      "  0.444853 seconds (53.29 k allocations: 302.214 MiB, 21.97% gc time, 21.43% compilation time)\n",
      "Second run\n",
      "CSV.jl\n",
      "  2.408964 seconds (39.78 M allocations: 1.044 GiB, 9.72% gc time)\n",
      "Serialization\n",
      "  0.183141 seconds (22.93 k allocations: 596.169 KiB, 5.57% compilation time)\n",
      "JDF.jl\n",
      "  0.473582 seconds (21.64 k allocations: 83.814 MiB)\n",
      "JLSO.jl\n",
      "  1.018204 seconds (40.89 k allocations: 4.999 MiB)\n",
      "Arrow.jl\n",
      "  0.098347 seconds (347.02 k allocations: 10.075 MiB)\n",
      "JSONTables.jl arraytable\n",
      " 13.582579 seconds (229.99 M allocations: 5.430 GiB, 6.26% gc time, 0.07% compilation time)\n",
      "JSONTables.jl objecttable\n",
      "  0.325636 seconds (9.05 k allocations: 299.300 MiB, 28.60% gc time, 3.45% compilation time)\n"
     ]
    },
    {
     "data": {
      "text/plain": [
       "0.3260445"
      ]
     },
     "execution_count": 38,
     "metadata": {},
     "output_type": "execute_result"
    }
   ],
   "source": [
    "bigdf = DataFrame(rand(Bool, 20_000, 500), :auto)\n",
    "bigdf[!, 1] = Int.(bigdf[!, 1])\n",
    "bigdf[!, 2] = bigdf[!, 2] .+ 0.5\n",
    "bigdf[!, 3] = string.(bigdf[!, 3], \", as string\")\n",
    "println(\"First run\")\n",
    "println(\"CSV.jl\")\n",
    "csvwrite1 = @elapsed @time CSV.write(\"bigdf1.csv\", bigdf)\n",
    "println(\"Serialization\")\n",
    "serializewrite1 = @elapsed @time open(io -> serialize(io, bigdf), \"bigdf.bin\", \"w\")\n",
    "println(\"JDF.jl\")\n",
    "jdfwrite1 = @elapsed @time JDF.save(\"bigdf.jdf\", bigdf)\n",
    "println(\"JLSO.jl\")\n",
    "jlsowrite1 = @elapsed @time JLSO.save(\"bigdf.jlso\", :data => bigdf)\n",
    "println(\"Arrow.jl\")\n",
    "arrowwrite1 = @elapsed @time Arrow.write(\"bigdf.arrow\", bigdf)\n",
    "println(\"JSONTables.jl arraytable\")\n",
    "jsontablesawrite1 = @elapsed @time open(io -> arraytable(io, bigdf), \"bigdf1.json\", \"w\")\n",
    "println(\"JSONTables.jl objecttable\")\n",
    "jsontablesowrite1 = @elapsed @time open(io -> objecttable(io, bigdf), \"bigdf2.json\", \"w\")\n",
    "println(\"Second run\")\n",
    "println(\"CSV.jl\")\n",
    "csvwrite2 = @elapsed @time CSV.write(\"bigdf1.csv\", bigdf)\n",
    "println(\"Serialization\")\n",
    "serializewrite2 = @elapsed @time open(io -> serialize(io, bigdf), \"bigdf.bin\", \"w\")\n",
    "println(\"JDF.jl\")\n",
    "jdfwrite2 = @elapsed @time JDF.save(\"bigdf.jdf\", bigdf)\n",
    "println(\"JLSO.jl\")\n",
    "jlsowrite2 = @elapsed @time JLSO.save(\"bigdf.jlso\", :data => bigdf)\n",
    "println(\"Arrow.jl\")\n",
    "arrowwrite2 = @elapsed @time Arrow.write(\"bigdf.arrow\", bigdf)\n",
    "println(\"JSONTables.jl arraytable\")\n",
    "jsontablesawrite2 = @elapsed @time open(io -> arraytable(io, bigdf), \"bigdf1.json\", \"w\")\n",
    "println(\"JSONTables.jl objecttable\")\n",
    "jsontablesowrite2 = @elapsed @time open(io -> objecttable(io, bigdf), \"bigdf2.json\", \"w\")"
   ]
  },
  {
   "cell_type": "code",
   "execution_count": 39,
   "metadata": {},
   "outputs": [
    {
     "data": {
      "image/svg+xml": [
       "<?xml version=\"1.0\" encoding=\"utf-8\"?>\n",
       "<svg xmlns=\"http://www.w3.org/2000/svg\" xmlns:xlink=\"http://www.w3.org/1999/xlink\" width=\"600\" height=\"400\" viewBox=\"0 0 2400 1600\">\n",
       "<defs>\n",
       "  <clipPath id=\"clip350\">\n",
       "    <rect x=\"0\" y=\"0\" width=\"2400\" height=\"1600\"/>\n",
       "  </clipPath>\n",
       "</defs>\n",
       "<path clip-path=\"url(#clip350)\" d=\"M0 1600 L2400 1600 L2400 0 L0 0  Z\" fill=\"#ffffff\" fill-rule=\"evenodd\" fill-opacity=\"1\"/>\n",
       "<defs>\n",
       "  <clipPath id=\"clip351\">\n",
       "    <rect x=\"480\" y=\"0\" width=\"1681\" height=\"1600\"/>\n",
       "  </clipPath>\n",
       "</defs>\n",
       "<path clip-path=\"url(#clip350)\" d=\"M175.445 1451.89 L2352.76 1451.89 L2352.76 244.432 L175.445 244.432  Z\" fill=\"#ffffff\" fill-rule=\"evenodd\" fill-opacity=\"1\"/>\n",
       "<defs>\n",
       "  <clipPath id=\"clip352\">\n",
       "    <rect x=\"175\" y=\"244\" width=\"2178\" height=\"1208\"/>\n",
       "  </clipPath>\n",
       "</defs>\n",
       "<polyline clip-path=\"url(#clip352)\" style=\"stroke:#000000; stroke-linecap:round; stroke-linejoin:round; stroke-width:2; stroke-opacity:0.1; fill:none\" points=\"425.569,1451.89 425.569,244.432 \"/>\n",
       "<polyline clip-path=\"url(#clip352)\" style=\"stroke:#000000; stroke-linecap:round; stroke-linejoin:round; stroke-width:2; stroke-opacity:0.1; fill:none\" points=\"760.982,1451.89 760.982,244.432 \"/>\n",
       "<polyline clip-path=\"url(#clip352)\" style=\"stroke:#000000; stroke-linecap:round; stroke-linejoin:round; stroke-width:2; stroke-opacity:0.1; fill:none\" points=\"1096.39,1451.89 1096.39,244.432 \"/>\n",
       "<polyline clip-path=\"url(#clip352)\" style=\"stroke:#000000; stroke-linecap:round; stroke-linejoin:round; stroke-width:2; stroke-opacity:0.1; fill:none\" points=\"1431.81,1451.89 1431.81,244.432 \"/>\n",
       "<polyline clip-path=\"url(#clip352)\" style=\"stroke:#000000; stroke-linecap:round; stroke-linejoin:round; stroke-width:2; stroke-opacity:0.1; fill:none\" points=\"1767.22,1451.89 1767.22,244.432 \"/>\n",
       "<polyline clip-path=\"url(#clip352)\" style=\"stroke:#000000; stroke-linecap:round; stroke-linejoin:round; stroke-width:2; stroke-opacity:0.1; fill:none\" points=\"2102.63,1451.89 2102.63,244.432 \"/>\n",
       "<polyline clip-path=\"url(#clip350)\" style=\"stroke:#000000; stroke-linecap:round; stroke-linejoin:round; stroke-width:4; stroke-opacity:1; fill:none\" points=\"175.445,1451.89 2352.76,1451.89 \"/>\n",
       "<polyline clip-path=\"url(#clip350)\" style=\"stroke:#000000; stroke-linecap:round; stroke-linejoin:round; stroke-width:4; stroke-opacity:1; fill:none\" points=\"425.569,1451.89 425.569,1432.99 \"/>\n",
       "<polyline clip-path=\"url(#clip350)\" style=\"stroke:#000000; stroke-linecap:round; stroke-linejoin:round; stroke-width:4; stroke-opacity:1; fill:none\" points=\"760.982,1451.89 760.982,1432.99 \"/>\n",
       "<polyline clip-path=\"url(#clip350)\" style=\"stroke:#000000; stroke-linecap:round; stroke-linejoin:round; stroke-width:4; stroke-opacity:1; fill:none\" points=\"1096.39,1451.89 1096.39,1432.99 \"/>\n",
       "<polyline clip-path=\"url(#clip350)\" style=\"stroke:#000000; stroke-linecap:round; stroke-linejoin:round; stroke-width:4; stroke-opacity:1; fill:none\" points=\"1431.81,1451.89 1431.81,1432.99 \"/>\n",
       "<polyline clip-path=\"url(#clip350)\" style=\"stroke:#000000; stroke-linecap:round; stroke-linejoin:round; stroke-width:4; stroke-opacity:1; fill:none\" points=\"1767.22,1451.89 1767.22,1432.99 \"/>\n",
       "<polyline clip-path=\"url(#clip350)\" style=\"stroke:#000000; stroke-linecap:round; stroke-linejoin:round; stroke-width:4; stroke-opacity:1; fill:none\" points=\"2102.63,1451.89 2102.63,1432.99 \"/>\n",
       "<path clip-path=\"url(#clip350)\" d=\"M356.623 1484.33 L350.28 1501.53 L362.988 1501.53 L356.623 1484.33 M353.984 1479.73 L359.285 1479.73 L372.456 1514.29 L367.595 1514.29 L364.447 1505.42 L348.868 1505.42 L345.72 1514.29 L340.789 1514.29 L353.984 1479.73 Z\" fill=\"#000000\" fill-rule=\"evenodd\" fill-opacity=\"1\" /><path clip-path=\"url(#clip350)\" d=\"M392.34 1492.34 Q391.623 1491.93 390.766 1491.74 Q389.933 1491.53 388.914 1491.53 Q385.303 1491.53 383.359 1493.89 Q381.437 1496.23 381.437 1500.63 L381.437 1514.29 L377.155 1514.29 L377.155 1488.36 L381.437 1488.36 L381.437 1492.39 Q382.78 1490.03 384.933 1488.89 Q387.085 1487.74 390.164 1487.74 Q390.604 1487.74 391.136 1487.81 Q391.669 1487.85 392.317 1487.97 L392.34 1492.34 Z\" fill=\"#000000\" fill-rule=\"evenodd\" fill-opacity=\"1\" /><path clip-path=\"url(#clip350)\" d=\"M410.997 1492.34 Q410.28 1491.93 409.423 1491.74 Q408.59 1491.53 407.571 1491.53 Q403.96 1491.53 402.016 1493.89 Q400.095 1496.23 400.095 1500.63 L400.095 1514.29 L395.812 1514.29 L395.812 1488.36 L400.095 1488.36 L400.095 1492.39 Q401.437 1490.03 403.59 1488.89 Q405.743 1487.74 408.821 1487.74 Q409.261 1487.74 409.794 1487.81 Q410.326 1487.85 410.974 1487.97 L410.997 1492.34 Z\" fill=\"#000000\" fill-rule=\"evenodd\" fill-opacity=\"1\" /><path clip-path=\"url(#clip350)\" d=\"M424.47 1491.35 Q421.044 1491.35 419.053 1494.03 Q417.062 1496.7 417.062 1501.35 Q417.062 1506 419.03 1508.69 Q421.02 1511.35 424.47 1511.35 Q427.872 1511.35 429.863 1508.66 Q431.854 1505.98 431.854 1501.35 Q431.854 1496.74 429.863 1494.06 Q427.872 1491.35 424.47 1491.35 M424.47 1487.74 Q430.025 1487.74 433.196 1491.35 Q436.368 1494.96 436.368 1501.35 Q436.368 1507.71 433.196 1511.35 Q430.025 1514.96 424.47 1514.96 Q418.891 1514.96 415.72 1511.35 Q412.571 1507.71 412.571 1501.35 Q412.571 1494.96 415.72 1491.35 Q418.891 1487.74 424.47 1487.74 Z\" fill=\"#000000\" fill-rule=\"evenodd\" fill-opacity=\"1\" /><path clip-path=\"url(#clip350)\" d=\"M440.951 1488.36 L445.21 1488.36 L450.534 1508.59 L455.835 1488.36 L460.858 1488.36 L466.182 1508.59 L471.483 1488.36 L475.742 1488.36 L468.96 1514.29 L463.937 1514.29 L458.358 1493.04 L452.756 1514.29 L447.733 1514.29 L440.951 1488.36 Z\" fill=\"#000000\" fill-rule=\"evenodd\" fill-opacity=\"1\" /><path clip-path=\"url(#clip350)\" d=\"M478.451 1508.41 L483.335 1508.41 L483.335 1514.29 L478.451 1514.29 L478.451 1508.41 Z\" fill=\"#000000\" fill-rule=\"evenodd\" fill-opacity=\"1\" /><path clip-path=\"url(#clip350)\" d=\"M492.918 1488.36 L497.177 1488.36 L497.177 1514.75 Q497.177 1519.7 495.279 1521.93 Q493.404 1524.15 489.215 1524.15 L487.594 1524.15 L487.594 1520.54 L488.728 1520.54 Q491.159 1520.54 492.039 1519.4 Q492.918 1518.29 492.918 1514.75 L492.918 1488.36 M492.918 1478.27 L497.177 1478.27 L497.177 1483.66 L492.918 1483.66 L492.918 1478.27 Z\" fill=\"#000000\" fill-rule=\"evenodd\" fill-opacity=\"1\" /><path clip-path=\"url(#clip350)\" d=\"M506.089 1478.27 L510.349 1478.27 L510.349 1514.29 L506.089 1514.29 L506.089 1478.27 Z\" fill=\"#000000\" fill-rule=\"evenodd\" fill-opacity=\"1\" /><path clip-path=\"url(#clip350)\" d=\"M726.943 1482.39 L726.943 1487.32 Q724.581 1485.12 721.896 1484.03 Q719.234 1482.95 716.225 1482.95 Q710.299 1482.95 707.151 1486.58 Q704.003 1490.19 704.003 1497.04 Q704.003 1503.87 707.151 1507.51 Q710.299 1511.12 716.225 1511.12 Q719.234 1511.12 721.896 1510.03 Q724.581 1508.94 726.943 1506.74 L726.943 1511.63 Q724.489 1513.29 721.734 1514.13 Q719.003 1514.96 715.947 1514.96 Q708.1 1514.96 703.586 1510.17 Q699.072 1505.35 699.072 1497.04 Q699.072 1488.71 703.586 1483.92 Q708.1 1479.1 715.947 1479.1 Q719.049 1479.1 721.78 1479.94 Q724.535 1480.75 726.943 1482.39 Z\" fill=\"#000000\" fill-rule=\"evenodd\" fill-opacity=\"1\" /><path clip-path=\"url(#clip350)\" d=\"M754.882 1480.86 L754.882 1485.42 Q752.22 1484.15 749.859 1483.52 Q747.498 1482.9 745.299 1482.9 Q741.479 1482.9 739.396 1484.38 Q737.336 1485.86 737.336 1488.59 Q737.336 1490.89 738.702 1492.07 Q740.091 1493.22 743.933 1493.94 L746.757 1494.52 Q751.989 1495.51 754.466 1498.04 Q756.965 1500.54 756.965 1504.75 Q756.965 1509.77 753.586 1512.37 Q750.229 1514.96 743.725 1514.96 Q741.271 1514.96 738.493 1514.4 Q735.739 1513.85 732.776 1512.76 L732.776 1507.95 Q735.623 1509.54 738.354 1510.35 Q741.086 1511.16 743.725 1511.16 Q747.729 1511.16 749.905 1509.59 Q752.081 1508.01 752.081 1505.1 Q752.081 1502.55 750.507 1501.12 Q748.956 1499.68 745.391 1498.96 L742.544 1498.41 Q737.313 1497.37 734.975 1495.14 Q732.637 1492.92 732.637 1488.96 Q732.637 1484.38 735.854 1481.74 Q739.095 1479.1 744.766 1479.1 Q747.197 1479.1 749.72 1479.54 Q752.243 1479.98 754.882 1480.86 Z\" fill=\"#000000\" fill-rule=\"evenodd\" fill-opacity=\"1\" /><path clip-path=\"url(#clip350)\" d=\"M773.169 1514.29 L759.975 1479.73 L764.859 1479.73 L775.808 1508.82 L786.78 1479.73 L791.641 1479.73 L778.47 1514.29 L773.169 1514.29 Z\" fill=\"#000000\" fill-rule=\"evenodd\" fill-opacity=\"1\" /><path clip-path=\"url(#clip350)\" d=\"M790.993 1508.41 L795.877 1508.41 L795.877 1514.29 L790.993 1514.29 L790.993 1508.41 Z\" fill=\"#000000\" fill-rule=\"evenodd\" fill-opacity=\"1\" /><path clip-path=\"url(#clip350)\" d=\"M805.461 1488.36 L809.72 1488.36 L809.72 1514.75 Q809.72 1519.7 807.822 1521.93 Q805.947 1524.15 801.757 1524.15 L800.137 1524.15 L800.137 1520.54 L801.271 1520.54 Q803.701 1520.54 804.581 1519.4 Q805.461 1518.29 805.461 1514.75 L805.461 1488.36 M805.461 1478.27 L809.72 1478.27 L809.72 1483.66 L805.461 1483.66 L805.461 1478.27 Z\" fill=\"#000000\" fill-rule=\"evenodd\" fill-opacity=\"1\" /><path clip-path=\"url(#clip350)\" d=\"M818.632 1478.27 L822.891 1478.27 L822.891 1514.29 L818.632 1514.29 L818.632 1478.27 Z\" fill=\"#000000\" fill-rule=\"evenodd\" fill-opacity=\"1\" /><path clip-path=\"url(#clip350)\" d=\"M1048.72 1479.73 L1053.4 1479.73 L1053.4 1511.88 Q1053.4 1518.13 1051.01 1520.95 Q1048.65 1523.78 1043.4 1523.78 L1041.61 1523.78 L1041.61 1519.84 L1043.07 1519.84 Q1046.17 1519.84 1047.45 1518.11 Q1048.72 1516.37 1048.72 1511.88 L1048.72 1479.73 Z\" fill=\"#000000\" fill-rule=\"evenodd\" fill-opacity=\"1\" /><path clip-path=\"url(#clip350)\" d=\"M1067.38 1483.57 L1067.38 1510.45 L1073.03 1510.45 Q1080.18 1510.45 1083.49 1507.2 Q1086.82 1503.96 1086.82 1496.97 Q1086.82 1490.03 1083.49 1486.81 Q1080.18 1483.57 1073.03 1483.57 L1067.38 1483.57 M1062.7 1479.73 L1072.31 1479.73 Q1082.35 1479.73 1087.05 1483.92 Q1091.75 1488.08 1091.75 1496.97 Q1091.75 1505.91 1087.03 1510.1 Q1082.31 1514.29 1072.31 1514.29 L1062.7 1514.29 L1062.7 1479.73 Z\" fill=\"#000000\" fill-rule=\"evenodd\" fill-opacity=\"1\" /><path clip-path=\"url(#clip350)\" d=\"M1099.21 1479.73 L1119.07 1479.73 L1119.07 1483.66 L1103.88 1483.66 L1103.88 1493.85 L1117.59 1493.85 L1117.59 1497.78 L1103.88 1497.78 L1103.88 1514.29 L1099.21 1514.29 L1099.21 1479.73 Z\" fill=\"#000000\" fill-rule=\"evenodd\" fill-opacity=\"1\" /><path clip-path=\"url(#clip350)\" d=\"M1119.28 1508.41 L1124.16 1508.41 L1124.16 1514.29 L1119.28 1514.29 L1119.28 1508.41 Z\" fill=\"#000000\" fill-rule=\"evenodd\" fill-opacity=\"1\" /><path clip-path=\"url(#clip350)\" d=\"M1133.74 1488.36 L1138 1488.36 L1138 1514.75 Q1138 1519.7 1136.1 1521.93 Q1134.23 1524.15 1130.04 1524.15 L1128.42 1524.15 L1128.42 1520.54 L1129.55 1520.54 Q1131.98 1520.54 1132.86 1519.4 Q1133.74 1518.29 1133.74 1514.75 L1133.74 1488.36 M1133.74 1478.27 L1138 1478.27 L1138 1483.66 L1133.74 1483.66 L1133.74 1478.27 Z\" fill=\"#000000\" fill-rule=\"evenodd\" fill-opacity=\"1\" /><path clip-path=\"url(#clip350)\" d=\"M1146.91 1478.27 L1151.17 1478.27 L1151.17 1514.29 L1146.91 1514.29 L1146.91 1478.27 Z\" fill=\"#000000\" fill-rule=\"evenodd\" fill-opacity=\"1\" /><path clip-path=\"url(#clip350)\" d=\"M1366.26 1479.73 L1370.94 1479.73 L1370.94 1511.88 Q1370.94 1518.13 1368.55 1520.95 Q1366.19 1523.78 1360.94 1523.78 L1359.16 1523.78 L1359.16 1519.84 L1360.62 1519.84 Q1363.72 1519.84 1364.99 1518.11 Q1366.26 1516.37 1366.26 1511.88 L1366.26 1479.73 Z\" fill=\"#000000\" fill-rule=\"evenodd\" fill-opacity=\"1\" /><path clip-path=\"url(#clip350)\" d=\"M1380.24 1479.73 L1384.92 1479.73 L1384.92 1510.35 L1401.75 1510.35 L1401.75 1514.29 L1380.24 1514.29 L1380.24 1479.73 Z\" fill=\"#000000\" fill-rule=\"evenodd\" fill-opacity=\"1\" /><path clip-path=\"url(#clip350)\" d=\"M1427.37 1480.86 L1427.37 1485.42 Q1424.71 1484.15 1422.35 1483.52 Q1419.99 1482.9 1417.79 1482.9 Q1413.97 1482.9 1411.89 1484.38 Q1409.83 1485.86 1409.83 1488.59 Q1409.83 1490.89 1411.19 1492.07 Q1412.58 1493.22 1416.42 1493.94 L1419.25 1494.52 Q1424.48 1495.51 1426.96 1498.04 Q1429.46 1500.54 1429.46 1504.75 Q1429.46 1509.77 1426.08 1512.37 Q1422.72 1514.96 1416.22 1514.96 Q1413.76 1514.96 1410.99 1514.4 Q1408.23 1513.85 1405.27 1512.76 L1405.27 1507.95 Q1408.11 1509.54 1410.85 1510.35 Q1413.58 1511.16 1416.22 1511.16 Q1420.22 1511.16 1422.4 1509.59 Q1424.57 1508.01 1424.57 1505.1 Q1424.57 1502.55 1423 1501.12 Q1421.45 1499.68 1417.88 1498.96 L1415.04 1498.41 Q1409.8 1497.37 1407.47 1495.14 Q1405.13 1492.92 1405.13 1488.96 Q1405.13 1484.38 1408.35 1481.74 Q1411.59 1479.1 1417.26 1479.1 Q1419.69 1479.1 1422.21 1479.54 Q1424.74 1479.98 1427.37 1480.86 Z\" fill=\"#000000\" fill-rule=\"evenodd\" fill-opacity=\"1\" /><path clip-path=\"url(#clip350)\" d=\"M1450.78 1482.9 Q1445.68 1482.9 1442.67 1486.7 Q1439.69 1490.49 1439.69 1497.04 Q1439.69 1503.57 1442.67 1507.37 Q1445.68 1511.16 1450.78 1511.16 Q1455.87 1511.16 1458.83 1507.37 Q1461.82 1503.57 1461.82 1497.04 Q1461.82 1490.49 1458.83 1486.7 Q1455.87 1482.9 1450.78 1482.9 M1450.78 1479.1 Q1458.05 1479.1 1462.4 1483.99 Q1466.75 1488.85 1466.75 1497.04 Q1466.75 1505.21 1462.4 1510.1 Q1458.05 1514.96 1450.78 1514.96 Q1443.49 1514.96 1439.11 1510.1 Q1434.76 1505.24 1434.76 1497.04 Q1434.76 1488.85 1439.11 1483.99 Q1443.49 1479.1 1450.78 1479.1 Z\" fill=\"#000000\" fill-rule=\"evenodd\" fill-opacity=\"1\" /><path clip-path=\"url(#clip350)\" d=\"M1472.56 1508.41 L1477.44 1508.41 L1477.44 1514.29 L1472.56 1514.29 L1472.56 1508.41 Z\" fill=\"#000000\" fill-rule=\"evenodd\" fill-opacity=\"1\" /><path clip-path=\"url(#clip350)\" d=\"M1487.03 1488.36 L1491.29 1488.36 L1491.29 1514.75 Q1491.29 1519.7 1489.39 1521.93 Q1487.51 1524.15 1483.32 1524.15 L1481.7 1524.15 L1481.7 1520.54 L1482.84 1520.54 Q1485.27 1520.54 1486.15 1519.4 Q1487.03 1518.29 1487.03 1514.75 L1487.03 1488.36 M1487.03 1478.27 L1491.29 1478.27 L1491.29 1483.66 L1487.03 1483.66 L1487.03 1478.27 Z\" fill=\"#000000\" fill-rule=\"evenodd\" fill-opacity=\"1\" /><path clip-path=\"url(#clip350)\" d=\"M1500.2 1478.27 L1504.46 1478.27 L1504.46 1514.29 L1500.2 1514.29 L1500.2 1478.27 Z\" fill=\"#000000\" fill-rule=\"evenodd\" fill-opacity=\"1\" /><path clip-path=\"url(#clip350)\" d=\"M1622.54 1479.73 L1627.22 1479.73 L1627.22 1511.88 Q1627.22 1518.13 1624.84 1520.95 Q1622.47 1523.78 1617.22 1523.78 L1615.44 1523.78 L1615.44 1519.84 L1616.9 1519.84 Q1620 1519.84 1621.27 1518.11 Q1622.54 1516.37 1622.54 1511.88 L1622.54 1479.73 Z\" fill=\"#000000\" fill-rule=\"evenodd\" fill-opacity=\"1\" /><path clip-path=\"url(#clip350)\" d=\"M1657.24 1480.86 L1657.24 1485.42 Q1654.58 1484.15 1652.22 1483.52 Q1649.86 1482.9 1647.66 1482.9 Q1643.84 1482.9 1641.76 1484.38 Q1639.7 1485.86 1639.7 1488.59 Q1639.7 1490.89 1641.06 1492.07 Q1642.45 1493.22 1646.29 1493.94 L1649.12 1494.52 Q1654.35 1495.51 1656.83 1498.04 Q1659.33 1500.54 1659.33 1504.75 Q1659.33 1509.77 1655.95 1512.37 Q1652.59 1514.96 1646.09 1514.96 Q1643.63 1514.96 1640.85 1514.4 Q1638.1 1513.85 1635.14 1512.76 L1635.14 1507.95 Q1637.98 1509.54 1640.72 1510.35 Q1643.45 1511.16 1646.09 1511.16 Q1650.09 1511.16 1652.27 1509.59 Q1654.44 1508.01 1654.44 1505.1 Q1654.44 1502.55 1652.87 1501.12 Q1651.32 1499.68 1647.75 1498.96 L1644.91 1498.41 Q1639.67 1497.37 1637.34 1495.14 Q1635 1492.92 1635 1488.96 Q1635 1484.38 1638.22 1481.74 Q1641.46 1479.1 1647.13 1479.1 Q1649.56 1479.1 1652.08 1479.54 Q1654.6 1479.98 1657.24 1480.86 Z\" fill=\"#000000\" fill-rule=\"evenodd\" fill-opacity=\"1\" /><path clip-path=\"url(#clip350)\" d=\"M1680.65 1482.9 Q1675.55 1482.9 1672.54 1486.7 Q1669.56 1490.49 1669.56 1497.04 Q1669.56 1503.57 1672.54 1507.37 Q1675.55 1511.16 1680.65 1511.16 Q1685.74 1511.16 1688.7 1507.37 Q1691.69 1503.57 1691.69 1497.04 Q1691.69 1490.49 1688.7 1486.7 Q1685.74 1482.9 1680.65 1482.9 M1680.65 1479.1 Q1687.91 1479.1 1692.27 1483.99 Q1696.62 1488.85 1696.62 1497.04 Q1696.62 1505.21 1692.27 1510.1 Q1687.91 1514.96 1680.65 1514.96 Q1673.35 1514.96 1668.98 1510.1 Q1664.63 1505.24 1664.63 1497.04 Q1664.63 1488.85 1668.98 1483.99 Q1673.35 1479.1 1680.65 1479.1 Z\" fill=\"#000000\" fill-rule=\"evenodd\" fill-opacity=\"1\" /><path clip-path=\"url(#clip350)\" d=\"M1703.93 1479.73 L1710.23 1479.73 L1725.55 1508.64 L1725.55 1479.73 L1730.09 1479.73 L1730.09 1514.29 L1723.79 1514.29 L1708.47 1485.38 L1708.47 1514.29 L1703.93 1514.29 L1703.93 1479.73 Z\" fill=\"#000000\" fill-rule=\"evenodd\" fill-opacity=\"1\" /><path clip-path=\"url(#clip350)\" d=\"M1734.6 1479.73 L1763.84 1479.73 L1763.84 1483.66 L1751.57 1483.66 L1751.57 1514.29 L1746.87 1514.29 L1746.87 1483.66 L1734.6 1483.66 L1734.6 1479.73 Z\" fill=\"#000000\" fill-rule=\"evenodd\" fill-opacity=\"1\" /><path clip-path=\"url(#clip350)\" d=\"M1772.1 1501.26 Q1766.94 1501.26 1764.95 1502.44 Q1762.96 1503.62 1762.96 1506.46 Q1762.96 1508.73 1764.44 1510.07 Q1765.95 1511.39 1768.52 1511.39 Q1772.06 1511.39 1774.19 1508.89 Q1776.34 1506.37 1776.34 1502.2 L1776.34 1501.26 L1772.1 1501.26 M1780.6 1499.5 L1780.6 1514.29 L1776.34 1514.29 L1776.34 1510.35 Q1774.88 1512.71 1772.71 1513.85 Q1770.53 1514.96 1767.38 1514.96 Q1763.4 1514.96 1761.04 1512.74 Q1758.7 1510.49 1758.7 1506.74 Q1758.7 1502.37 1761.62 1500.14 Q1764.56 1497.92 1770.37 1497.92 L1776.34 1497.92 L1776.34 1497.51 Q1776.34 1494.57 1774.4 1492.97 Q1772.47 1491.35 1768.98 1491.35 Q1766.76 1491.35 1764.65 1491.88 Q1762.54 1492.41 1760.6 1493.48 L1760.6 1489.54 Q1762.94 1488.64 1765.14 1488.2 Q1767.34 1487.74 1769.42 1487.74 Q1775.04 1487.74 1777.82 1490.65 Q1780.6 1493.57 1780.6 1499.5 Z\" fill=\"#000000\" fill-rule=\"evenodd\" fill-opacity=\"1\" /><path clip-path=\"url(#clip350)\" d=\"M1807.98 1501.35 Q1807.98 1496.65 1806.04 1493.99 Q1804.12 1491.3 1800.74 1491.3 Q1797.36 1491.3 1795.41 1493.99 Q1793.49 1496.65 1793.49 1501.35 Q1793.49 1506.05 1795.41 1508.73 Q1797.36 1511.39 1800.74 1511.39 Q1804.12 1511.39 1806.04 1508.73 Q1807.98 1506.05 1807.98 1501.35 M1793.49 1492.3 Q1794.84 1489.98 1796.87 1488.87 Q1798.93 1487.74 1801.78 1487.74 Q1806.5 1487.74 1809.44 1491.49 Q1812.4 1495.24 1812.4 1501.35 Q1812.4 1507.46 1809.44 1511.21 Q1806.5 1514.96 1801.78 1514.96 Q1798.93 1514.96 1796.87 1513.85 Q1794.84 1512.71 1793.49 1510.4 L1793.49 1514.29 L1789.21 1514.29 L1789.21 1478.27 L1793.49 1478.27 L1793.49 1492.3 Z\" fill=\"#000000\" fill-rule=\"evenodd\" fill-opacity=\"1\" /><path clip-path=\"url(#clip350)\" d=\"M1819.46 1478.27 L1823.72 1478.27 L1823.72 1514.29 L1819.46 1514.29 L1819.46 1478.27 Z\" fill=\"#000000\" fill-rule=\"evenodd\" fill-opacity=\"1\" /><path clip-path=\"url(#clip350)\" d=\"M1854.81 1500.26 L1854.81 1502.34 L1835.23 1502.34 Q1835.51 1506.74 1837.87 1509.06 Q1840.25 1511.35 1844.49 1511.35 Q1846.94 1511.35 1849.23 1510.75 Q1851.55 1510.14 1853.82 1508.94 L1853.82 1512.97 Q1851.52 1513.94 1849.12 1514.45 Q1846.71 1514.96 1844.23 1514.96 Q1838.03 1514.96 1834.4 1511.35 Q1830.78 1507.74 1830.78 1501.58 Q1830.78 1495.21 1834.21 1491.49 Q1837.66 1487.74 1843.49 1487.74 Q1848.72 1487.74 1851.76 1491.12 Q1854.81 1494.47 1854.81 1500.26 M1850.55 1499.01 Q1850.51 1495.51 1848.58 1493.43 Q1846.69 1491.35 1843.54 1491.35 Q1839.97 1491.35 1837.82 1493.36 Q1835.69 1495.38 1835.37 1499.03 L1850.55 1499.01 Z\" fill=\"#000000\" fill-rule=\"evenodd\" fill-opacity=\"1\" /><path clip-path=\"url(#clip350)\" d=\"M1878.33 1489.13 L1878.33 1493.15 Q1876.52 1492.23 1874.58 1491.76 Q1872.64 1491.3 1870.55 1491.3 Q1867.38 1491.3 1865.78 1492.27 Q1864.21 1493.25 1864.21 1495.19 Q1864.21 1496.67 1865.34 1497.53 Q1866.48 1498.36 1869.9 1499.13 L1871.36 1499.45 Q1875.9 1500.42 1877.8 1502.2 Q1879.72 1503.96 1879.72 1507.14 Q1879.72 1510.75 1876.85 1512.85 Q1874 1514.96 1869 1514.96 Q1866.92 1514.96 1864.65 1514.54 Q1862.4 1514.15 1859.9 1513.34 L1859.9 1508.94 Q1862.27 1510.17 1864.56 1510.79 Q1866.85 1511.39 1869.09 1511.39 Q1872.1 1511.39 1873.72 1510.38 Q1875.34 1509.33 1875.34 1507.46 Q1875.34 1505.72 1874.16 1504.8 Q1873.01 1503.87 1869.05 1503.01 L1867.57 1502.67 Q1863.61 1501.83 1861.85 1500.12 Q1860.09 1498.39 1860.09 1495.38 Q1860.09 1491.72 1862.68 1489.73 Q1865.27 1487.74 1870.04 1487.74 Q1872.4 1487.74 1874.49 1488.08 Q1876.57 1488.43 1878.33 1489.13 Z\" fill=\"#000000\" fill-rule=\"evenodd\" fill-opacity=\"1\" /><path clip-path=\"url(#clip350)\" d=\"M1887.1 1508.41 L1891.99 1508.41 L1891.99 1514.29 L1887.1 1514.29 L1887.1 1508.41 Z\" fill=\"#000000\" fill-rule=\"evenodd\" fill-opacity=\"1\" /><path clip-path=\"url(#clip350)\" d=\"M1901.57 1488.36 L1905.83 1488.36 L1905.83 1514.75 Q1905.83 1519.7 1903.93 1521.93 Q1902.06 1524.15 1897.87 1524.15 L1896.25 1524.15 L1896.25 1520.54 L1897.38 1520.54 Q1899.81 1520.54 1900.69 1519.4 Q1901.57 1518.29 1901.57 1514.75 L1901.57 1488.36 M1901.57 1478.27 L1905.83 1478.27 L1905.83 1483.66 L1901.57 1483.66 L1901.57 1478.27 Z\" fill=\"#000000\" fill-rule=\"evenodd\" fill-opacity=\"1\" /><path clip-path=\"url(#clip350)\" d=\"M1914.74 1478.27 L1919 1478.27 L1919 1514.29 L1914.74 1514.29 L1914.74 1478.27 Z\" fill=\"#000000\" fill-rule=\"evenodd\" fill-opacity=\"1\" /><path clip-path=\"url(#clip350)\" d=\"M1648.61 1543.19 Q1645.18 1543.19 1643.19 1545.87 Q1641.2 1548.54 1641.2 1553.19 Q1641.2 1557.84 1643.17 1560.53 Q1645.16 1563.19 1648.61 1563.19 Q1652.01 1563.19 1654 1560.5 Q1655.99 1557.82 1655.99 1553.19 Q1655.99 1548.58 1654 1545.9 Q1652.01 1543.19 1648.61 1543.19 M1648.61 1539.58 Q1654.16 1539.58 1657.34 1543.19 Q1660.51 1546.8 1660.51 1553.19 Q1660.51 1559.55 1657.34 1563.19 Q1654.16 1566.8 1648.61 1566.8 Q1643.03 1566.8 1639.86 1563.19 Q1636.71 1559.55 1636.71 1553.19 Q1636.71 1546.8 1639.86 1543.19 Q1643.03 1539.58 1648.61 1539.58 Z\" fill=\"#000000\" fill-rule=\"evenodd\" fill-opacity=\"1\" /><path clip-path=\"url(#clip350)\" d=\"M1686.18 1553.19 Q1686.18 1548.49 1684.23 1545.83 Q1682.31 1543.14 1678.93 1543.14 Q1675.55 1543.14 1673.61 1545.83 Q1671.69 1548.49 1671.69 1553.19 Q1671.69 1557.89 1673.61 1560.57 Q1675.55 1563.23 1678.93 1563.23 Q1682.31 1563.23 1684.23 1560.57 Q1686.18 1557.89 1686.18 1553.19 M1671.69 1544.14 Q1673.03 1541.82 1675.07 1540.71 Q1677.13 1539.58 1679.97 1539.58 Q1684.7 1539.58 1687.64 1543.33 Q1690.6 1547.08 1690.6 1553.19 Q1690.6 1559.3 1687.64 1563.05 Q1684.7 1566.8 1679.97 1566.8 Q1677.13 1566.8 1675.07 1565.69 Q1673.03 1564.55 1671.69 1562.24 L1671.69 1566.13 L1667.41 1566.13 L1667.41 1530.11 L1671.69 1530.11 L1671.69 1544.14 Z\" fill=\"#000000\" fill-rule=\"evenodd\" fill-opacity=\"1\" /><path clip-path=\"url(#clip350)\" d=\"M1697.66 1540.2 L1701.92 1540.2 L1701.92 1566.59 Q1701.92 1571.54 1700.02 1573.77 Q1698.15 1575.99 1693.96 1575.99 L1692.34 1575.99 L1692.34 1572.38 L1693.47 1572.38 Q1695.9 1572.38 1696.78 1571.24 Q1697.66 1570.13 1697.66 1566.59 L1697.66 1540.2 M1697.66 1530.11 L1701.92 1530.11 L1701.92 1535.5 L1697.66 1535.5 L1697.66 1530.11 Z\" fill=\"#000000\" fill-rule=\"evenodd\" fill-opacity=\"1\" /><path clip-path=\"url(#clip350)\" d=\"M1733.01 1552.1 L1733.01 1554.18 L1713.42 1554.18 Q1713.7 1558.58 1716.06 1560.9 Q1718.45 1563.19 1722.68 1563.19 Q1725.14 1563.19 1727.43 1562.59 Q1729.74 1561.98 1732.01 1560.78 L1732.01 1564.81 Q1729.72 1565.78 1727.31 1566.29 Q1724.9 1566.8 1722.43 1566.8 Q1716.22 1566.8 1712.59 1563.19 Q1708.98 1559.58 1708.98 1553.42 Q1708.98 1547.05 1712.4 1543.33 Q1715.85 1539.58 1721.69 1539.58 Q1726.92 1539.58 1729.95 1542.96 Q1733.01 1546.31 1733.01 1552.1 M1728.75 1550.85 Q1728.7 1547.35 1726.78 1545.27 Q1724.88 1543.19 1721.73 1543.19 Q1718.17 1543.19 1716.02 1545.2 Q1713.89 1547.22 1713.56 1550.87 L1728.75 1550.85 Z\" fill=\"#000000\" fill-rule=\"evenodd\" fill-opacity=\"1\" /><path clip-path=\"url(#clip350)\" d=\"M1758.65 1541.2 L1758.65 1545.18 Q1756.85 1544.18 1755.02 1543.7 Q1753.21 1543.19 1751.36 1543.19 Q1747.22 1543.19 1744.93 1545.83 Q1742.64 1548.44 1742.64 1553.19 Q1742.64 1557.93 1744.93 1560.57 Q1747.22 1563.19 1751.36 1563.19 Q1753.21 1563.19 1755.02 1562.7 Q1756.85 1562.19 1758.65 1561.2 L1758.65 1565.13 Q1756.87 1565.97 1754.95 1566.38 Q1753.05 1566.8 1750.9 1566.8 Q1745.04 1566.8 1741.59 1563.12 Q1738.15 1559.44 1738.15 1553.19 Q1738.15 1546.85 1741.62 1543.21 Q1745.11 1539.58 1751.18 1539.58 Q1753.15 1539.58 1755.02 1539.99 Q1756.9 1540.39 1758.65 1541.2 Z\" fill=\"#000000\" fill-rule=\"evenodd\" fill-opacity=\"1\" /><path clip-path=\"url(#clip350)\" d=\"M1770.27 1532.84 L1770.27 1540.2 L1779.05 1540.2 L1779.05 1543.51 L1770.27 1543.51 L1770.27 1557.59 Q1770.27 1560.76 1771.13 1561.66 Q1772.01 1562.56 1774.67 1562.56 L1779.05 1562.56 L1779.05 1566.13 L1774.67 1566.13 Q1769.74 1566.13 1767.87 1564.3 Q1765.99 1562.45 1765.99 1557.59 L1765.99 1543.51 L1762.87 1543.51 L1762.87 1540.2 L1765.99 1540.2 L1765.99 1532.84 L1770.27 1532.84 Z\" fill=\"#000000\" fill-rule=\"evenodd\" fill-opacity=\"1\" /><path clip-path=\"url(#clip350)\" d=\"M1788.86 1532.84 L1788.86 1540.2 L1797.64 1540.2 L1797.64 1543.51 L1788.86 1543.51 L1788.86 1557.59 Q1788.86 1560.76 1789.72 1561.66 Q1790.6 1562.56 1793.26 1562.56 L1797.64 1562.56 L1797.64 1566.13 L1793.26 1566.13 Q1788.33 1566.13 1786.46 1564.3 Q1784.58 1562.45 1784.58 1557.59 L1784.58 1543.51 L1781.46 1543.51 L1781.46 1540.2 L1784.58 1540.2 L1784.58 1532.84 L1788.86 1532.84 Z\" fill=\"#000000\" fill-rule=\"evenodd\" fill-opacity=\"1\" /><path clip-path=\"url(#clip350)\" d=\"M1815.02 1553.1 Q1809.86 1553.1 1807.87 1554.28 Q1805.88 1555.46 1805.88 1558.3 Q1805.88 1560.57 1807.36 1561.91 Q1808.86 1563.23 1811.43 1563.23 Q1814.97 1563.23 1817.1 1560.73 Q1819.26 1558.21 1819.26 1554.04 L1819.26 1553.1 L1815.02 1553.1 M1823.52 1551.34 L1823.52 1566.13 L1819.26 1566.13 L1819.26 1562.19 Q1817.8 1564.55 1815.62 1565.69 Q1813.45 1566.8 1810.3 1566.8 Q1806.32 1566.8 1803.96 1564.58 Q1801.62 1562.33 1801.62 1558.58 Q1801.62 1554.21 1804.53 1551.98 Q1807.47 1549.76 1813.28 1549.76 L1819.26 1549.76 L1819.26 1549.35 Q1819.26 1546.41 1817.31 1544.81 Q1815.39 1543.19 1811.9 1543.19 Q1809.67 1543.19 1807.57 1543.72 Q1805.46 1544.25 1803.52 1545.32 L1803.52 1541.38 Q1805.85 1540.48 1808.05 1540.04 Q1810.25 1539.58 1812.33 1539.58 Q1817.96 1539.58 1820.74 1542.49 Q1823.52 1545.41 1823.52 1551.34 Z\" fill=\"#000000\" fill-rule=\"evenodd\" fill-opacity=\"1\" /><path clip-path=\"url(#clip350)\" d=\"M1850.9 1553.19 Q1850.9 1548.49 1848.96 1545.83 Q1847.03 1543.14 1843.65 1543.14 Q1840.27 1543.14 1838.33 1545.83 Q1836.41 1548.49 1836.41 1553.19 Q1836.41 1557.89 1838.33 1560.57 Q1840.27 1563.23 1843.65 1563.23 Q1847.03 1563.23 1848.96 1560.57 Q1850.9 1557.89 1850.9 1553.19 M1836.41 1544.14 Q1837.75 1541.82 1839.79 1540.71 Q1841.85 1539.58 1844.7 1539.58 Q1849.42 1539.58 1852.36 1543.33 Q1855.32 1547.08 1855.32 1553.19 Q1855.32 1559.3 1852.36 1563.05 Q1849.42 1566.8 1844.7 1566.8 Q1841.85 1566.8 1839.79 1565.69 Q1837.75 1564.55 1836.41 1562.24 L1836.41 1566.13 L1832.13 1566.13 L1832.13 1530.11 L1836.41 1530.11 L1836.41 1544.14 Z\" fill=\"#000000\" fill-rule=\"evenodd\" fill-opacity=\"1\" /><path clip-path=\"url(#clip350)\" d=\"M1862.38 1530.11 L1866.64 1530.11 L1866.64 1566.13 L1862.38 1566.13 L1862.38 1530.11 Z\" fill=\"#000000\" fill-rule=\"evenodd\" fill-opacity=\"1\" /><path clip-path=\"url(#clip350)\" d=\"M1897.73 1552.1 L1897.73 1554.18 L1878.14 1554.18 Q1878.42 1558.58 1880.78 1560.9 Q1883.17 1563.19 1887.4 1563.19 Q1889.86 1563.19 1892.15 1562.59 Q1894.46 1561.98 1896.73 1560.78 L1896.73 1564.81 Q1894.44 1565.78 1892.03 1566.29 Q1889.63 1566.8 1887.15 1566.8 Q1880.95 1566.8 1877.31 1563.19 Q1873.7 1559.58 1873.7 1553.42 Q1873.7 1547.05 1877.13 1543.33 Q1880.58 1539.58 1886.41 1539.58 Q1891.64 1539.58 1894.67 1542.96 Q1897.73 1546.31 1897.73 1552.1 M1893.47 1550.85 Q1893.42 1547.35 1891.5 1545.27 Q1889.6 1543.19 1886.45 1543.19 Q1882.89 1543.19 1880.74 1545.2 Q1878.61 1547.22 1878.28 1550.87 L1893.47 1550.85 Z\" fill=\"#000000\" fill-rule=\"evenodd\" fill-opacity=\"1\" /><path clip-path=\"url(#clip350)\" d=\"M1982.42 1480.86 L1982.42 1485.42 Q1979.76 1484.15 1977.4 1483.52 Q1975.04 1482.9 1972.84 1482.9 Q1969.02 1482.9 1966.94 1484.38 Q1964.88 1485.86 1964.88 1488.59 Q1964.88 1490.89 1966.24 1492.07 Q1967.63 1493.22 1971.48 1493.94 L1974.3 1494.52 Q1979.53 1495.51 1982.01 1498.04 Q1984.51 1500.54 1984.51 1504.75 Q1984.51 1509.77 1981.13 1512.37 Q1977.77 1514.96 1971.27 1514.96 Q1968.81 1514.96 1966.04 1514.4 Q1963.28 1513.85 1960.32 1512.76 L1960.32 1507.95 Q1963.17 1509.54 1965.9 1510.35 Q1968.63 1511.16 1971.27 1511.16 Q1975.27 1511.16 1977.45 1509.59 Q1979.62 1508.01 1979.62 1505.1 Q1979.62 1502.55 1978.05 1501.12 Q1976.5 1499.68 1972.93 1498.96 L1970.09 1498.41 Q1964.85 1497.37 1962.52 1495.14 Q1960.18 1492.92 1960.18 1488.96 Q1960.18 1484.38 1963.4 1481.74 Q1966.64 1479.1 1972.31 1479.1 Q1974.74 1479.1 1977.26 1479.54 Q1979.79 1479.98 1982.42 1480.86 Z\" fill=\"#000000\" fill-rule=\"evenodd\" fill-opacity=\"1\" /><path clip-path=\"url(#clip350)\" d=\"M2013.79 1500.26 L2013.79 1502.34 L1994.21 1502.34 Q1994.48 1506.74 1996.85 1509.06 Q1999.23 1511.35 2003.47 1511.35 Q2005.92 1511.35 2008.21 1510.75 Q2010.53 1510.14 2012.79 1508.94 L2012.79 1512.97 Q2010.5 1513.94 2008.1 1514.45 Q2005.69 1514.96 2003.21 1514.96 Q1997.01 1514.96 1993.37 1511.35 Q1989.76 1507.74 1989.76 1501.58 Q1989.76 1495.21 1993.19 1491.49 Q1996.64 1487.74 2002.47 1487.74 Q2007.7 1487.74 2010.73 1491.12 Q2013.79 1494.47 2013.79 1500.26 M2009.53 1499.01 Q2009.48 1495.51 2007.56 1493.43 Q2005.66 1491.35 2002.52 1491.35 Q1998.95 1491.35 1996.8 1493.36 Q1994.67 1495.38 1994.35 1499.03 L2009.53 1499.01 Z\" fill=\"#000000\" fill-rule=\"evenodd\" fill-opacity=\"1\" /><path clip-path=\"url(#clip350)\" d=\"M2035.8 1492.34 Q2035.09 1491.93 2034.23 1491.74 Q2033.4 1491.53 2032.38 1491.53 Q2028.77 1491.53 2026.82 1493.89 Q2024.9 1496.23 2024.9 1500.63 L2024.9 1514.29 L2020.62 1514.29 L2020.62 1488.36 L2024.9 1488.36 L2024.9 1492.39 Q2026.24 1490.03 2028.4 1488.89 Q2030.55 1487.74 2033.63 1487.74 Q2034.07 1487.74 2034.6 1487.81 Q2035.13 1487.85 2035.78 1487.97 L2035.8 1492.34 Z\" fill=\"#000000\" fill-rule=\"evenodd\" fill-opacity=\"1\" /><path clip-path=\"url(#clip350)\" d=\"M2040.27 1488.36 L2044.53 1488.36 L2044.53 1514.29 L2040.27 1514.29 L2040.27 1488.36 M2040.27 1478.27 L2044.53 1478.27 L2044.53 1483.66 L2040.27 1483.66 L2040.27 1478.27 Z\" fill=\"#000000\" fill-rule=\"evenodd\" fill-opacity=\"1\" /><path clip-path=\"url(#clip350)\" d=\"M2065.22 1501.26 Q2060.06 1501.26 2058.07 1502.44 Q2056.08 1503.62 2056.08 1506.46 Q2056.08 1508.73 2057.56 1510.07 Q2059.07 1511.39 2061.64 1511.39 Q2065.18 1511.39 2067.31 1508.89 Q2069.46 1506.37 2069.46 1502.2 L2069.46 1501.26 L2065.22 1501.26 M2073.72 1499.5 L2073.72 1514.29 L2069.46 1514.29 L2069.46 1510.35 Q2068 1512.71 2065.83 1513.85 Q2063.65 1514.96 2060.5 1514.96 Q2056.52 1514.96 2054.16 1512.74 Q2051.82 1510.49 2051.82 1506.74 Q2051.82 1502.37 2054.74 1500.14 Q2057.68 1497.92 2063.49 1497.92 L2069.46 1497.92 L2069.46 1497.51 Q2069.46 1494.57 2067.52 1492.97 Q2065.6 1491.35 2062.1 1491.35 Q2059.88 1491.35 2057.77 1491.88 Q2055.66 1492.41 2053.72 1493.48 L2053.72 1489.54 Q2056.06 1488.64 2058.26 1488.2 Q2060.46 1487.74 2062.54 1487.74 Q2068.16 1487.74 2070.94 1490.65 Q2073.72 1493.57 2073.72 1499.5 Z\" fill=\"#000000\" fill-rule=\"evenodd\" fill-opacity=\"1\" /><path clip-path=\"url(#clip350)\" d=\"M2082.49 1478.27 L2086.75 1478.27 L2086.75 1514.29 L2082.49 1514.29 L2082.49 1478.27 Z\" fill=\"#000000\" fill-rule=\"evenodd\" fill-opacity=\"1\" /><path clip-path=\"url(#clip350)\" d=\"M2095.66 1488.36 L2099.92 1488.36 L2099.92 1514.29 L2095.66 1514.29 L2095.66 1488.36 M2095.66 1478.27 L2099.92 1478.27 L2099.92 1483.66 L2095.66 1483.66 L2095.66 1478.27 Z\" fill=\"#000000\" fill-rule=\"evenodd\" fill-opacity=\"1\" /><path clip-path=\"url(#clip350)\" d=\"M2106.98 1488.36 L2127.22 1488.36 L2127.22 1492.25 L2111.2 1510.89 L2127.22 1510.89 L2127.22 1514.29 L2106.41 1514.29 L2106.41 1510.4 L2122.42 1491.76 L2106.98 1491.76 L2106.98 1488.36 Z\" fill=\"#000000\" fill-rule=\"evenodd\" fill-opacity=\"1\" /><path clip-path=\"url(#clip350)\" d=\"M2145.5 1501.26 Q2140.34 1501.26 2138.35 1502.44 Q2136.36 1503.62 2136.36 1506.46 Q2136.36 1508.73 2137.84 1510.07 Q2139.34 1511.39 2141.91 1511.39 Q2145.46 1511.39 2147.59 1508.89 Q2149.74 1506.37 2149.74 1502.2 L2149.74 1501.26 L2145.5 1501.26 M2154 1499.5 L2154 1514.29 L2149.74 1514.29 L2149.74 1510.35 Q2148.28 1512.71 2146.1 1513.85 Q2143.93 1514.96 2140.78 1514.96 Q2136.8 1514.96 2134.44 1512.74 Q2132.1 1510.49 2132.1 1506.74 Q2132.1 1502.37 2135.02 1500.14 Q2137.96 1497.92 2143.77 1497.92 L2149.74 1497.92 L2149.74 1497.51 Q2149.74 1494.57 2147.79 1492.97 Q2145.87 1491.35 2142.38 1491.35 Q2140.15 1491.35 2138.05 1491.88 Q2135.94 1492.41 2134 1493.48 L2134 1489.54 Q2136.34 1488.64 2138.53 1488.2 Q2140.73 1487.74 2142.82 1487.74 Q2148.44 1487.74 2151.22 1490.65 Q2154 1493.57 2154 1499.5 Z\" fill=\"#000000\" fill-rule=\"evenodd\" fill-opacity=\"1\" /><path clip-path=\"url(#clip350)\" d=\"M2166.98 1481 L2166.98 1488.36 L2175.76 1488.36 L2175.76 1491.67 L2166.98 1491.67 L2166.98 1505.75 Q2166.98 1508.92 2167.84 1509.82 Q2168.72 1510.72 2171.38 1510.72 L2175.76 1510.72 L2175.76 1514.29 L2171.38 1514.29 Q2166.45 1514.29 2164.58 1512.46 Q2162.7 1510.61 2162.7 1505.75 L2162.7 1491.67 L2159.58 1491.67 L2159.58 1488.36 L2162.7 1488.36 L2162.7 1481 L2166.98 1481 Z\" fill=\"#000000\" fill-rule=\"evenodd\" fill-opacity=\"1\" /><path clip-path=\"url(#clip350)\" d=\"M2181.36 1488.36 L2185.62 1488.36 L2185.62 1514.29 L2181.36 1514.29 L2181.36 1488.36 M2181.36 1478.27 L2185.62 1478.27 L2185.62 1483.66 L2181.36 1483.66 L2181.36 1478.27 Z\" fill=\"#000000\" fill-rule=\"evenodd\" fill-opacity=\"1\" /><path clip-path=\"url(#clip350)\" d=\"M2204.58 1491.35 Q2201.15 1491.35 2199.16 1494.03 Q2197.17 1496.7 2197.17 1501.35 Q2197.17 1506 2199.14 1508.69 Q2201.13 1511.35 2204.58 1511.35 Q2207.98 1511.35 2209.97 1508.66 Q2211.96 1505.98 2211.96 1501.35 Q2211.96 1496.74 2209.97 1494.06 Q2207.98 1491.35 2204.58 1491.35 M2204.58 1487.74 Q2210.13 1487.74 2213.3 1491.35 Q2216.47 1494.96 2216.47 1501.35 Q2216.47 1507.71 2213.3 1511.35 Q2210.13 1514.96 2204.58 1514.96 Q2199 1514.96 2195.83 1511.35 Q2192.68 1507.71 2192.68 1501.35 Q2192.68 1494.96 2195.83 1491.35 Q2199 1487.74 2204.58 1487.74 Z\" fill=\"#000000\" fill-rule=\"evenodd\" fill-opacity=\"1\" /><path clip-path=\"url(#clip350)\" d=\"M2245.08 1498.64 L2245.08 1514.29 L2240.83 1514.29 L2240.83 1498.78 Q2240.83 1495.1 2239.39 1493.27 Q2237.96 1491.44 2235.09 1491.44 Q2231.64 1491.44 2229.65 1493.64 Q2227.65 1495.84 2227.65 1499.64 L2227.65 1514.29 L2223.37 1514.29 L2223.37 1488.36 L2227.65 1488.36 L2227.65 1492.39 Q2229.18 1490.05 2231.24 1488.89 Q2233.33 1487.74 2236.03 1487.74 Q2240.5 1487.74 2242.79 1490.51 Q2245.08 1493.27 2245.08 1498.64 Z\" fill=\"#000000\" fill-rule=\"evenodd\" fill-opacity=\"1\" /><polyline clip-path=\"url(#clip352)\" style=\"stroke:#000000; stroke-linecap:round; stroke-linejoin:round; stroke-width:2; stroke-opacity:0.1; fill:none\" points=\"175.445,1417.71 2352.76,1417.71 \"/>\n",
       "<polyline clip-path=\"url(#clip352)\" style=\"stroke:#000000; stroke-linecap:round; stroke-linejoin:round; stroke-width:2; stroke-opacity:0.1; fill:none\" points=\"175.445,1128.54 2352.76,1128.54 \"/>\n",
       "<polyline clip-path=\"url(#clip352)\" style=\"stroke:#000000; stroke-linecap:round; stroke-linejoin:round; stroke-width:2; stroke-opacity:0.1; fill:none\" points=\"175.445,839.371 2352.76,839.371 \"/>\n",
       "<polyline clip-path=\"url(#clip352)\" style=\"stroke:#000000; stroke-linecap:round; stroke-linejoin:round; stroke-width:2; stroke-opacity:0.1; fill:none\" points=\"175.445,550.199 2352.76,550.199 \"/>\n",
       "<polyline clip-path=\"url(#clip352)\" style=\"stroke:#000000; stroke-linecap:round; stroke-linejoin:round; stroke-width:2; stroke-opacity:0.1; fill:none\" points=\"175.445,261.027 2352.76,261.027 \"/>\n",
       "<polyline clip-path=\"url(#clip350)\" style=\"stroke:#000000; stroke-linecap:round; stroke-linejoin:round; stroke-width:4; stroke-opacity:1; fill:none\" points=\"175.445,1451.89 175.445,244.432 \"/>\n",
       "<polyline clip-path=\"url(#clip350)\" style=\"stroke:#000000; stroke-linecap:round; stroke-linejoin:round; stroke-width:4; stroke-opacity:1; fill:none\" points=\"175.445,1417.71 194.343,1417.71 \"/>\n",
       "<polyline clip-path=\"url(#clip350)\" style=\"stroke:#000000; stroke-linecap:round; stroke-linejoin:round; stroke-width:4; stroke-opacity:1; fill:none\" points=\"175.445,1128.54 194.343,1128.54 \"/>\n",
       "<polyline clip-path=\"url(#clip350)\" style=\"stroke:#000000; stroke-linecap:round; stroke-linejoin:round; stroke-width:4; stroke-opacity:1; fill:none\" points=\"175.445,839.371 194.343,839.371 \"/>\n",
       "<polyline clip-path=\"url(#clip350)\" style=\"stroke:#000000; stroke-linecap:round; stroke-linejoin:round; stroke-width:4; stroke-opacity:1; fill:none\" points=\"175.445,550.199 194.343,550.199 \"/>\n",
       "<polyline clip-path=\"url(#clip350)\" style=\"stroke:#000000; stroke-linecap:round; stroke-linejoin:round; stroke-width:4; stroke-opacity:1; fill:none\" points=\"175.445,261.027 194.343,261.027 \"/>\n",
       "<path clip-path=\"url(#clip350)\" d=\"M127.501 1403.51 Q123.89 1403.51 122.061 1407.08 Q120.255 1410.62 120.255 1417.75 Q120.255 1424.86 122.061 1428.42 Q123.89 1431.96 127.501 1431.96 Q131.135 1431.96 132.941 1428.42 Q134.769 1424.86 134.769 1417.75 Q134.769 1410.62 132.941 1407.08 Q131.135 1403.51 127.501 1403.51 M127.501 1399.81 Q133.311 1399.81 136.367 1404.42 Q139.445 1409 139.445 1417.75 Q139.445 1426.48 136.367 1431.08 Q133.311 1435.67 127.501 1435.67 Q121.691 1435.67 118.612 1431.08 Q115.556 1426.48 115.556 1417.75 Q115.556 1409 118.612 1404.42 Q121.691 1399.81 127.501 1399.81 Z\" fill=\"#000000\" fill-rule=\"evenodd\" fill-opacity=\"1\" /><path clip-path=\"url(#clip350)\" d=\"M119.538 1141.89 L127.177 1141.89 L127.177 1115.52 L118.867 1117.19 L118.867 1112.93 L127.13 1111.26 L131.806 1111.26 L131.806 1141.89 L139.445 1141.89 L139.445 1145.82 L119.538 1145.82 L119.538 1141.89 Z\" fill=\"#000000\" fill-rule=\"evenodd\" fill-opacity=\"1\" /><path clip-path=\"url(#clip350)\" d=\"M123.126 852.716 L139.445 852.716 L139.445 856.651 L117.501 856.651 L117.501 852.716 Q120.163 849.961 124.746 845.331 Q129.353 840.679 130.533 839.336 Q132.779 836.813 133.658 835.077 Q134.561 833.318 134.561 831.628 Q134.561 828.873 132.617 827.137 Q130.695 825.401 127.593 825.401 Q125.394 825.401 122.941 826.165 Q120.51 826.929 117.732 828.48 L117.732 823.757 Q120.556 822.623 123.01 822.045 Q125.464 821.466 127.501 821.466 Q132.871 821.466 136.066 824.151 Q139.26 826.836 139.26 831.327 Q139.26 833.457 138.45 835.378 Q137.663 837.276 135.556 839.869 Q134.978 840.54 131.876 843.757 Q128.774 846.952 123.126 852.716 Z\" fill=\"#000000\" fill-rule=\"evenodd\" fill-opacity=\"1\" /><path clip-path=\"url(#clip350)\" d=\"M132.316 548.845 Q135.672 549.562 137.547 551.831 Q139.445 554.099 139.445 557.433 Q139.445 562.548 135.927 565.349 Q132.408 568.15 125.927 568.15 Q123.751 568.15 121.436 567.71 Q119.144 567.294 116.691 566.437 L116.691 561.923 Q118.635 563.058 120.95 563.636 Q123.265 564.215 125.788 564.215 Q130.186 564.215 132.478 562.479 Q134.792 560.743 134.792 557.433 Q134.792 554.377 132.64 552.664 Q130.51 550.928 126.691 550.928 L122.663 550.928 L122.663 547.086 L126.876 547.086 Q130.325 547.086 132.154 545.72 Q133.982 544.331 133.982 541.738 Q133.982 539.076 132.084 537.664 Q130.209 536.229 126.691 536.229 Q124.769 536.229 122.57 536.646 Q120.371 537.062 117.732 537.942 L117.732 533.775 Q120.394 533.035 122.709 532.664 Q125.047 532.294 127.107 532.294 Q132.431 532.294 135.533 534.725 Q138.635 537.132 138.635 541.252 Q138.635 544.123 136.992 546.113 Q135.348 548.081 132.316 548.845 Z\" fill=\"#000000\" fill-rule=\"evenodd\" fill-opacity=\"1\" /><path clip-path=\"url(#clip350)\" d=\"M129.862 247.821 L118.056 266.27 L129.862 266.27 L129.862 247.821 M128.635 243.747 L134.515 243.747 L134.515 266.27 L139.445 266.27 L139.445 270.159 L134.515 270.159 L134.515 278.307 L129.862 278.307 L129.862 270.159 L114.26 270.159 L114.26 265.645 L128.635 243.747 Z\" fill=\"#000000\" fill-rule=\"evenodd\" fill-opacity=\"1\" /><path clip-path=\"url(#clip350)\" d=\"M18.0438 932.41 L24.314 932.41 Q22.5634 936.07 21.704 939.317 Q20.8447 942.563 20.8447 945.587 Q20.8447 950.839 22.8817 953.703 Q24.9187 956.536 28.6745 956.536 Q31.8255 956.536 33.4488 954.658 Q35.0402 952.749 36.0269 947.465 L36.8226 943.582 Q38.1912 936.389 41.6605 932.983 Q45.098 929.546 50.8908 929.546 Q57.7976 929.546 61.3624 934.193 Q64.9272 938.808 64.9272 947.751 Q64.9272 951.125 64.1633 954.945 Q63.3994 958.732 61.9035 962.806 L55.2831 962.806 Q57.4793 958.891 58.5933 955.136 Q59.7073 951.38 59.7073 947.751 Q59.7073 942.245 57.543 939.253 Q55.3786 936.261 51.3682 936.261 Q47.8671 936.261 45.8937 938.426 Q43.9204 940.558 42.9337 945.46 L42.1698 949.375 Q40.7375 956.568 37.682 959.783 Q34.6264 962.997 29.1837 962.997 Q22.8817 962.997 19.2532 958.573 Q15.6248 954.117 15.6248 946.319 Q15.6248 942.977 16.2295 939.508 Q16.8343 936.039 18.0438 932.41 Z\" fill=\"#000000\" fill-rule=\"evenodd\" fill-opacity=\"1\" /><path clip-path=\"url(#clip350)\" d=\"M44.7161 889.282 L47.5806 889.282 L47.5806 916.209 Q53.6281 915.827 56.8109 912.581 Q59.9619 909.303 59.9619 903.478 Q59.9619 900.104 59.1344 896.953 Q58.3069 893.77 56.6518 890.651 L62.1899 890.651 Q63.5267 893.802 64.227 897.112 Q64.9272 900.422 64.9272 903.828 Q64.9272 912.358 59.9619 917.355 Q54.9967 922.32 46.5303 922.32 Q37.7774 922.32 32.6531 917.61 Q27.4968 912.867 27.4968 904.847 Q27.4968 897.653 32.1438 893.484 Q36.7589 889.282 44.7161 889.282 M42.9973 895.139 Q38.1912 895.203 35.3266 897.844 Q32.4621 900.454 32.4621 904.783 Q32.4621 909.685 35.2312 912.645 Q38.0002 915.573 43.0292 916.018 L42.9973 895.139 Z\" fill=\"#000000\" fill-rule=\"evenodd\" fill-opacity=\"1\" /><path clip-path=\"url(#clip350)\" d=\"M29.7248 854.016 L35.1993 854.016 Q33.8307 856.499 33.1623 859.014 Q32.4621 861.496 32.4621 864.042 Q32.4621 869.74 36.0905 872.891 Q39.6872 876.042 46.212 876.042 Q52.7369 876.042 56.3653 872.891 Q59.9619 869.74 59.9619 864.042 Q59.9619 861.496 59.2935 859.014 Q58.5933 856.499 57.2247 854.016 L62.6355 854.016 Q63.7814 856.467 64.3543 859.109 Q64.9272 861.719 64.9272 864.679 Q64.9272 872.732 59.8664 877.474 Q54.8057 882.217 46.212 882.217 Q37.491 882.217 32.4939 877.442 Q27.4968 872.636 27.4968 864.297 Q27.4968 861.592 28.0697 859.014 Q28.6108 856.435 29.7248 854.016 Z\" fill=\"#000000\" fill-rule=\"evenodd\" fill-opacity=\"1\" /><path clip-path=\"url(#clip350)\" d=\"M32.4621 830.018 Q32.4621 834.728 36.1542 837.466 Q39.8145 840.203 46.212 840.203 Q52.6095 840.203 56.3017 837.497 Q59.9619 834.76 59.9619 830.018 Q59.9619 825.339 56.2698 822.602 Q52.5777 819.864 46.212 819.864 Q39.8781 819.864 36.186 822.602 Q32.4621 825.339 32.4621 830.018 M27.4968 830.018 Q27.4968 822.379 32.4621 818.018 Q37.4273 813.658 46.212 813.658 Q54.9649 813.658 59.9619 818.018 Q64.9272 822.379 64.9272 830.018 Q64.9272 837.688 59.9619 842.049 Q54.9649 846.378 46.212 846.378 Q37.4273 846.378 32.4621 842.049 Q27.4968 837.688 27.4968 830.018 Z\" fill=\"#000000\" fill-rule=\"evenodd\" fill-opacity=\"1\" /><path clip-path=\"url(#clip350)\" d=\"M42.4881 774.318 L64.0042 774.318 L64.0042 780.174 L42.679 780.174 Q37.6183 780.174 35.1038 782.148 Q32.5894 784.121 32.5894 788.068 Q32.5894 792.81 35.6131 795.547 Q38.6368 798.285 43.8567 798.285 L64.0042 798.285 L64.0042 804.173 L28.3562 804.173 L28.3562 798.285 L33.8944 798.285 Q30.6797 796.184 29.0883 793.351 Q27.4968 790.487 27.4968 786.763 Q27.4968 780.62 31.3163 777.469 Q35.1038 774.318 42.4881 774.318 Z\" fill=\"#000000\" fill-rule=\"evenodd\" fill-opacity=\"1\" /><path clip-path=\"url(#clip350)\" d=\"M33.7671 739.179 L14.479 739.179 L14.479 733.323 L64.0042 733.323 L64.0042 739.179 L58.657 739.179 Q61.8398 741.025 63.3994 743.858 Q64.9272 746.659 64.9272 750.606 Q64.9272 757.067 59.771 761.141 Q54.6147 765.183 46.212 765.183 Q37.8093 765.183 32.6531 761.141 Q27.4968 757.067 27.4968 750.606 Q27.4968 746.659 29.0564 743.858 Q30.5842 741.025 33.7671 739.179 M46.212 759.136 Q52.6732 759.136 56.3653 756.494 Q60.0256 753.82 60.0256 749.173 Q60.0256 744.526 56.3653 741.853 Q52.6732 739.179 46.212 739.179 Q39.7508 739.179 36.0905 741.853 Q32.3984 744.526 32.3984 749.173 Q32.3984 753.82 36.0905 756.494 Q39.7508 759.136 46.212 759.136 Z\" fill=\"#000000\" fill-rule=\"evenodd\" fill-opacity=\"1\" /><path clip-path=\"url(#clip350)\" d=\"M882.121 42.336 L890.384 42.336 L903.104 93.4584 L915.784 42.336 L924.979 42.336 L937.699 93.4584 L950.378 42.336 L958.683 42.336 L943.492 102.816 L933.202 102.816 L920.442 50.3163 L907.56 102.816 L897.271 102.816 L882.121 42.336 Z\" fill=\"#000000\" fill-rule=\"evenodd\" fill-opacity=\"1\" /><path clip-path=\"url(#clip350)\" d=\"M991.779 64.4134 Q990.523 63.6843 989.024 63.3602 Q987.566 62.9956 985.783 62.9956 Q979.464 62.9956 976.061 67.1275 Q972.699 71.2189 972.699 78.9157 L972.699 102.816 L965.205 102.816 L965.205 57.4459 L972.699 57.4459 L972.699 64.4944 Q975.048 60.3625 978.816 58.3776 Q982.583 56.3521 987.971 56.3521 Q988.74 56.3521 989.672 56.4737 Q990.604 56.5547 991.738 56.7572 L991.779 64.4134 Z\" fill=\"#000000\" fill-rule=\"evenodd\" fill-opacity=\"1\" /><path clip-path=\"url(#clip350)\" d=\"M999.597 57.4459 L1007.05 57.4459 L1007.05 102.816 L999.597 102.816 L999.597 57.4459 M999.597 39.7839 L1007.05 39.7839 L1007.05 49.2225 L999.597 49.2225 L999.597 39.7839 Z\" fill=\"#000000\" fill-rule=\"evenodd\" fill-opacity=\"1\" /><path clip-path=\"url(#clip350)\" d=\"M1030.02 44.564 L1030.02 57.4459 L1045.37 57.4459 L1045.37 63.2387 L1030.02 63.2387 L1030.02 87.8682 Q1030.02 93.4179 1031.52 94.9978 Q1033.06 96.5776 1037.72 96.5776 L1045.37 96.5776 L1045.37 102.816 L1037.72 102.816 Q1029.09 102.816 1025.81 99.6158 Q1022.52 96.3751 1022.52 87.8682 L1022.52 63.2387 L1017.06 63.2387 L1017.06 57.4459 L1022.52 57.4459 L1022.52 44.564 L1030.02 44.564 Z\" fill=\"#000000\" fill-rule=\"evenodd\" fill-opacity=\"1\" /><path clip-path=\"url(#clip350)\" d=\"M1093.98 78.2675 L1093.98 81.9133 L1059.71 81.9133 Q1060.2 89.6101 1064.33 93.661 Q1068.5 97.6714 1075.92 97.6714 Q1080.21 97.6714 1084.22 96.6181 Q1088.27 95.5649 1092.24 93.4584 L1092.24 100.507 Q1088.23 102.208 1084.02 103.1 Q1079.8 103.991 1075.47 103.991 Q1064.61 103.991 1058.25 97.6714 Q1051.93 91.3519 1051.93 80.5765 Q1051.93 69.4365 1057.93 62.9146 Q1063.97 56.3521 1074.17 56.3521 Q1083.33 56.3521 1088.64 62.2664 Q1093.98 68.1403 1093.98 78.2675 M1086.53 76.08 Q1086.45 69.9632 1083.09 66.3174 Q1079.76 62.6715 1074.25 62.6715 Q1068.02 62.6715 1064.25 66.1958 Q1060.52 69.7201 1059.96 76.1205 L1086.53 76.08 Z\" fill=\"#000000\" fill-rule=\"evenodd\" fill-opacity=\"1\" /><path clip-path=\"url(#clip350)\" d=\"M1141.09 49.0605 L1141.09 71.7861 L1151.38 71.7861 Q1157.1 71.7861 1160.22 68.8289 Q1163.33 65.8718 1163.33 60.403 Q1163.33 54.9748 1160.22 52.0177 Q1157.1 49.0605 1151.38 49.0605 L1141.09 49.0605 M1132.91 42.336 L1151.38 42.336 Q1161.55 42.336 1166.74 46.954 Q1171.96 51.5316 1171.96 60.403 Q1171.96 69.3555 1166.74 73.9331 Q1161.55 78.5106 1151.38 78.5106 L1141.09 78.5106 L1141.09 102.816 L1132.91 102.816 L1132.91 42.336 Z\" fill=\"#000000\" fill-rule=\"evenodd\" fill-opacity=\"1\" /><path clip-path=\"url(#clip350)\" d=\"M1218.47 78.2675 L1218.47 81.9133 L1184.2 81.9133 Q1184.68 89.6101 1188.81 93.661 Q1192.99 97.6714 1200.4 97.6714 Q1204.69 97.6714 1208.7 96.6181 Q1212.76 95.5649 1216.73 93.4584 L1216.73 100.507 Q1212.71 102.208 1208.5 103.1 Q1204.29 103.991 1199.95 103.991 Q1189.1 103.991 1182.74 97.6714 Q1176.42 91.3519 1176.42 80.5765 Q1176.42 69.4365 1182.41 62.9146 Q1188.45 56.3521 1198.66 56.3521 Q1207.81 56.3521 1213.12 62.2664 Q1218.47 68.1403 1218.47 78.2675 M1211.01 76.08 Q1210.93 69.9632 1207.57 66.3174 Q1204.25 62.6715 1198.74 62.6715 Q1192.5 62.6715 1188.73 66.1958 Q1185.01 69.7201 1184.44 76.1205 L1211.01 76.08 Z\" fill=\"#000000\" fill-rule=\"evenodd\" fill-opacity=\"1\" /><path clip-path=\"url(#clip350)\" d=\"M1256.99 64.4134 Q1255.74 63.6843 1254.24 63.3602 Q1252.78 62.9956 1251 62.9956 Q1244.68 62.9956 1241.27 67.1275 Q1237.91 71.2189 1237.91 78.9157 L1237.91 102.816 L1230.42 102.816 L1230.42 57.4459 L1237.91 57.4459 L1237.91 64.4944 Q1240.26 60.3625 1244.03 58.3776 Q1247.8 56.3521 1253.18 56.3521 Q1253.95 56.3521 1254.88 56.4737 Q1255.82 56.5547 1256.95 56.7572 L1256.99 64.4134 Z\" fill=\"#000000\" fill-rule=\"evenodd\" fill-opacity=\"1\" /><path clip-path=\"url(#clip350)\" d=\"M1287.78 39.7839 L1287.78 45.9818 L1280.65 45.9818 Q1276.64 45.9818 1275.06 47.6022 Q1273.52 49.2225 1273.52 53.4355 L1273.52 57.4459 L1285.79 57.4459 L1285.79 63.2387 L1273.52 63.2387 L1273.52 102.816 L1266.02 102.816 L1266.02 63.2387 L1258.9 63.2387 L1258.9 57.4459 L1266.02 57.4459 L1266.02 54.2862 Q1266.02 46.711 1269.55 43.2677 Q1273.07 39.7839 1280.73 39.7839 L1287.78 39.7839 Z\" fill=\"#000000\" fill-rule=\"evenodd\" fill-opacity=\"1\" /><path clip-path=\"url(#clip350)\" d=\"M1311.6 62.6715 Q1305.6 62.6715 1302.12 67.3706 Q1298.63 72.0291 1298.63 80.1714 Q1298.63 88.3138 1302.08 93.0128 Q1305.56 97.6714 1311.6 97.6714 Q1317.55 97.6714 1321.04 92.9723 Q1324.52 88.2733 1324.52 80.1714 Q1324.52 72.1101 1321.04 67.4111 Q1317.55 62.6715 1311.6 62.6715 M1311.6 56.3521 Q1321.32 56.3521 1326.87 62.6715 Q1332.42 68.9909 1332.42 80.1714 Q1332.42 91.3114 1326.87 97.6714 Q1321.32 103.991 1311.6 103.991 Q1301.83 103.991 1296.28 97.6714 Q1290.78 91.3114 1290.78 80.1714 Q1290.78 68.9909 1296.28 62.6715 Q1301.83 56.3521 1311.6 56.3521 Z\" fill=\"#000000\" fill-rule=\"evenodd\" fill-opacity=\"1\" /><path clip-path=\"url(#clip350)\" d=\"M1371.06 64.4134 Q1369.81 63.6843 1368.31 63.3602 Q1366.85 62.9956 1365.07 62.9956 Q1358.75 62.9956 1355.35 67.1275 Q1351.98 71.2189 1351.98 78.9157 L1351.98 102.816 L1344.49 102.816 L1344.49 57.4459 L1351.98 57.4459 L1351.98 64.4944 Q1354.33 60.3625 1358.1 58.3776 Q1361.87 56.3521 1367.26 56.3521 Q1368.03 56.3521 1368.96 56.4737 Q1369.89 56.5547 1371.02 56.7572 L1371.06 64.4134 Z\" fill=\"#000000\" fill-rule=\"evenodd\" fill-opacity=\"1\" /><path clip-path=\"url(#clip350)\" d=\"M1412.75 66.1553 Q1415.54 61.1322 1419.43 58.7422 Q1423.32 56.3521 1428.59 56.3521 Q1435.68 56.3521 1439.52 61.3347 Q1443.37 66.2768 1443.37 75.4319 L1443.37 102.816 L1435.88 102.816 L1435.88 75.6749 Q1435.88 69.153 1433.57 65.9933 Q1431.26 62.8336 1426.52 62.8336 Q1420.73 62.8336 1417.37 66.6819 Q1414 70.5303 1414 77.1738 L1414 102.816 L1406.51 102.816 L1406.51 75.6749 Q1406.51 69.1125 1404.2 65.9933 Q1401.89 62.8336 1397.07 62.8336 Q1391.36 62.8336 1388 66.7224 Q1384.64 70.5708 1384.64 77.1738 L1384.64 102.816 L1377.14 102.816 L1377.14 57.4459 L1384.64 57.4459 L1384.64 64.4944 Q1387.19 60.322 1390.75 58.3371 Q1394.32 56.3521 1399.22 56.3521 Q1404.16 56.3521 1407.6 58.8637 Q1411.09 61.3752 1412.75 66.1553 Z\" fill=\"#000000\" fill-rule=\"evenodd\" fill-opacity=\"1\" /><path clip-path=\"url(#clip350)\" d=\"M1478.86 80.0094 Q1469.83 80.0094 1466.34 82.0754 Q1462.86 84.1413 1462.86 89.1239 Q1462.86 93.0938 1465.45 95.4434 Q1468.08 97.7524 1472.58 97.7524 Q1478.78 97.7524 1482.51 93.3774 Q1486.27 88.9619 1486.27 81.6703 L1486.27 80.0094 L1478.86 80.0094 M1493.73 76.9307 L1493.73 102.816 L1486.27 102.816 L1486.27 95.9295 Q1483.72 100.061 1479.91 102.046 Q1476.1 103.991 1470.6 103.991 Q1463.63 103.991 1459.5 100.102 Q1455.4 96.1725 1455.4 89.6101 Q1455.4 81.9538 1460.51 78.065 Q1465.65 74.1761 1475.82 74.1761 L1486.27 74.1761 L1486.27 73.4469 Q1486.27 68.3023 1482.87 65.5072 Q1479.51 62.6715 1473.39 62.6715 Q1469.5 62.6715 1465.82 63.6032 Q1462.13 64.535 1458.73 66.3984 L1458.73 59.5118 Q1462.82 57.932 1466.67 57.1623 Q1470.51 56.3521 1474.16 56.3521 Q1484 56.3521 1488.86 61.4563 Q1493.73 66.5604 1493.73 76.9307 Z\" fill=\"#000000\" fill-rule=\"evenodd\" fill-opacity=\"1\" /><path clip-path=\"url(#clip350)\" d=\"M1546.79 75.4319 L1546.79 102.816 L1539.34 102.816 L1539.34 75.6749 Q1539.34 69.234 1536.83 66.0338 Q1534.32 62.8336 1529.29 62.8336 Q1523.26 62.8336 1519.77 66.6819 Q1516.29 70.5303 1516.29 77.1738 L1516.29 102.816 L1508.8 102.816 L1508.8 57.4459 L1516.29 57.4459 L1516.29 64.4944 Q1518.96 60.403 1522.57 58.3776 Q1526.21 56.3521 1530.95 56.3521 Q1538.77 56.3521 1542.78 61.2132 Q1546.79 66.0338 1546.79 75.4319 Z\" fill=\"#000000\" fill-rule=\"evenodd\" fill-opacity=\"1\" /><path clip-path=\"url(#clip350)\" d=\"M1594.31 59.1878 L1594.31 66.1553 Q1591.15 64.4134 1587.95 63.5627 Q1584.79 62.6715 1581.55 62.6715 Q1574.3 62.6715 1570.29 67.2896 Q1566.28 71.8671 1566.28 80.1714 Q1566.28 88.4758 1570.29 93.0938 Q1574.3 97.6714 1581.55 97.6714 Q1584.79 97.6714 1587.95 96.8207 Q1591.15 95.9295 1594.31 94.1876 L1594.31 101.074 Q1591.19 102.532 1587.83 103.262 Q1584.51 103.991 1580.74 103.991 Q1570.49 103.991 1564.45 97.5498 Q1558.42 91.1089 1558.42 80.1714 Q1558.42 69.072 1564.5 62.712 Q1570.61 56.3521 1581.23 56.3521 Q1584.67 56.3521 1587.95 57.0813 Q1591.23 57.7699 1594.31 59.1878 Z\" fill=\"#000000\" fill-rule=\"evenodd\" fill-opacity=\"1\" /><path clip-path=\"url(#clip350)\" d=\"M1646.08 78.2675 L1646.08 81.9133 L1611.81 81.9133 Q1612.3 89.6101 1616.43 93.661 Q1620.6 97.6714 1628.01 97.6714 Q1632.31 97.6714 1636.32 96.6181 Q1640.37 95.5649 1644.34 93.4584 L1644.34 100.507 Q1640.33 102.208 1636.12 103.1 Q1631.9 103.991 1627.57 103.991 Q1616.71 103.991 1610.35 97.6714 Q1604.03 91.3519 1604.03 80.5765 Q1604.03 69.4365 1610.03 62.9146 Q1616.06 56.3521 1626.27 56.3521 Q1635.43 56.3521 1640.73 62.2664 Q1646.08 68.1403 1646.08 78.2675 M1638.63 76.08 Q1638.55 69.9632 1635.18 66.3174 Q1631.86 62.6715 1626.35 62.6715 Q1620.11 62.6715 1616.35 66.1958 Q1612.62 69.7201 1612.05 76.1205 L1638.63 76.08 Z\" fill=\"#000000\" fill-rule=\"evenodd\" fill-opacity=\"1\" /><path clip-path=\"url(#clip350)\" d=\"M914.994 139.781 L914.994 186.811 L924.878 186.811 Q937.395 186.811 943.188 181.14 Q949.021 175.469 949.021 163.235 Q949.021 151.083 943.188 145.452 Q937.395 139.781 924.878 139.781 L914.994 139.781 M906.811 133.056 L923.622 133.056 Q941.203 133.056 949.426 140.388 Q957.65 147.68 957.65 163.235 Q957.65 178.872 949.386 186.204 Q941.122 193.536 923.622 193.536 L906.811 193.536 L906.811 133.056 Z\" fill=\"#000000\" fill-rule=\"evenodd\" fill-opacity=\"1\" /><path clip-path=\"url(#clip350)\" d=\"M990.989 170.729 Q981.955 170.729 978.471 172.795 Q974.988 174.861 974.988 179.844 Q974.988 183.814 977.58 186.163 Q980.213 188.472 984.71 188.472 Q990.908 188.472 994.634 184.097 Q998.402 179.682 998.402 172.39 L998.402 170.729 L990.989 170.729 M1005.86 167.651 L1005.86 193.536 L998.402 193.536 L998.402 186.649 Q995.85 190.781 992.042 192.766 Q988.234 194.711 982.725 194.711 Q975.757 194.711 971.625 190.822 Q967.534 186.893 967.534 180.33 Q967.534 172.674 972.638 168.785 Q977.783 164.896 987.95 164.896 L998.402 164.896 L998.402 164.167 Q998.402 159.022 994.999 156.227 Q991.637 153.392 985.52 153.392 Q981.631 153.392 977.945 154.323 Q974.258 155.255 970.856 157.118 L970.856 150.232 Q974.947 148.652 978.795 147.882 Q982.644 147.072 986.29 147.072 Q996.133 147.072 1000.99 152.176 Q1005.86 157.28 1005.86 167.651 Z\" fill=\"#000000\" fill-rule=\"evenodd\" fill-opacity=\"1\" /><path clip-path=\"url(#clip350)\" d=\"M1028.58 135.284 L1028.58 148.166 L1043.93 148.166 L1043.93 153.959 L1028.58 153.959 L1028.58 178.588 Q1028.58 184.138 1030.08 185.718 Q1031.62 187.298 1036.28 187.298 L1043.93 187.298 L1043.93 193.536 L1036.28 193.536 Q1027.65 193.536 1024.37 190.336 Q1021.09 187.095 1021.09 178.588 L1021.09 153.959 L1015.62 153.959 L1015.62 148.166 L1021.09 148.166 L1021.09 135.284 L1028.58 135.284 Z\" fill=\"#000000\" fill-rule=\"evenodd\" fill-opacity=\"1\" /><path clip-path=\"url(#clip350)\" d=\"M1074.36 170.729 Q1065.32 170.729 1061.84 172.795 Q1058.36 174.861 1058.36 179.844 Q1058.36 183.814 1060.95 186.163 Q1063.58 188.472 1068.08 188.472 Q1074.28 188.472 1078 184.097 Q1081.77 179.682 1081.77 172.39 L1081.77 170.729 L1074.36 170.729 M1089.22 167.651 L1089.22 193.536 L1081.77 193.536 L1081.77 186.649 Q1079.22 190.781 1075.41 192.766 Q1071.6 194.711 1066.09 194.711 Q1059.12 194.711 1054.99 190.822 Q1050.9 186.893 1050.9 180.33 Q1050.9 172.674 1056.01 168.785 Q1061.15 164.896 1071.32 164.896 L1081.77 164.896 L1081.77 164.167 Q1081.77 159.022 1078.37 156.227 Q1075 153.392 1068.89 153.392 Q1065 153.392 1061.31 154.323 Q1057.63 155.255 1054.22 157.118 L1054.22 150.232 Q1058.31 148.652 1062.16 147.882 Q1066.01 147.072 1069.66 147.072 Q1079.5 147.072 1084.36 152.176 Q1089.22 157.28 1089.22 167.651 Z\" fill=\"#000000\" fill-rule=\"evenodd\" fill-opacity=\"1\" /><path clip-path=\"url(#clip350)\" d=\"M1104.9 133.056 L1139.66 133.056 L1139.66 139.943 L1113.08 139.943 L1113.08 157.767 L1137.06 157.767 L1137.06 164.653 L1113.08 164.653 L1113.08 193.536 L1104.9 193.536 L1104.9 133.056 Z\" fill=\"#000000\" fill-rule=\"evenodd\" fill-opacity=\"1\" /><path clip-path=\"url(#clip350)\" d=\"M1172.55 155.133 Q1171.29 154.404 1169.8 154.08 Q1168.34 153.716 1166.55 153.716 Q1160.24 153.716 1156.83 157.848 Q1153.47 161.939 1153.47 169.636 L1153.47 193.536 L1145.98 193.536 L1145.98 148.166 L1153.47 148.166 L1153.47 155.214 Q1155.82 151.083 1159.59 149.098 Q1163.35 147.072 1168.74 147.072 Q1169.51 147.072 1170.44 147.194 Q1171.38 147.275 1172.51 147.477 L1172.55 155.133 Z\" fill=\"#000000\" fill-rule=\"evenodd\" fill-opacity=\"1\" /><path clip-path=\"url(#clip350)\" d=\"M1200.99 170.729 Q1191.95 170.729 1188.47 172.795 Q1184.99 174.861 1184.99 179.844 Q1184.99 183.814 1187.58 186.163 Q1190.21 188.472 1194.71 188.472 Q1200.91 188.472 1204.63 184.097 Q1208.4 179.682 1208.4 172.39 L1208.4 170.729 L1200.99 170.729 M1215.85 167.651 L1215.85 193.536 L1208.4 193.536 L1208.4 186.649 Q1205.85 190.781 1202.04 192.766 Q1198.23 194.711 1192.72 194.711 Q1185.76 194.711 1181.62 190.822 Q1177.53 186.893 1177.53 180.33 Q1177.53 172.674 1182.64 168.785 Q1187.78 164.896 1197.95 164.896 L1208.4 164.896 L1208.4 164.167 Q1208.4 159.022 1205 156.227 Q1201.64 153.392 1195.52 153.392 Q1191.63 153.392 1187.94 154.323 Q1184.26 155.255 1180.85 157.118 L1180.85 150.232 Q1184.95 148.652 1188.79 147.882 Q1192.64 147.072 1196.29 147.072 Q1206.13 147.072 1210.99 152.176 Q1215.85 157.28 1215.85 167.651 Z\" fill=\"#000000\" fill-rule=\"evenodd\" fill-opacity=\"1\" /><path clip-path=\"url(#clip350)\" d=\"M1266.53 156.875 Q1269.33 151.852 1273.22 149.462 Q1277.1 147.072 1282.37 147.072 Q1289.46 147.072 1293.31 152.055 Q1297.16 156.997 1297.16 166.152 L1297.16 193.536 L1289.66 193.536 L1289.66 166.395 Q1289.66 159.873 1287.35 156.713 Q1285.04 153.554 1280.3 153.554 Q1274.51 153.554 1271.15 157.402 Q1267.79 161.25 1267.79 167.894 L1267.79 193.536 L1260.29 193.536 L1260.29 166.395 Q1260.29 159.832 1257.98 156.713 Q1255.67 153.554 1250.85 153.554 Q1245.14 153.554 1241.78 157.442 Q1238.42 161.291 1238.42 167.894 L1238.42 193.536 L1230.92 193.536 L1230.92 148.166 L1238.42 148.166 L1238.42 155.214 Q1240.97 151.042 1244.53 149.057 Q1248.1 147.072 1253 147.072 Q1257.94 147.072 1261.39 149.584 Q1264.87 152.095 1266.53 156.875 Z\" fill=\"#000000\" fill-rule=\"evenodd\" fill-opacity=\"1\" /><path clip-path=\"url(#clip350)\" d=\"M1350.83 168.988 L1350.83 172.633 L1316.56 172.633 Q1317.05 180.33 1321.18 184.381 Q1325.35 188.391 1332.76 188.391 Q1337.06 188.391 1341.07 187.338 Q1345.12 186.285 1349.09 184.178 L1349.09 191.227 Q1345.08 192.928 1340.87 193.82 Q1336.65 194.711 1332.32 194.711 Q1321.46 194.711 1315.1 188.391 Q1308.78 182.072 1308.78 171.297 Q1308.78 160.157 1314.78 153.635 Q1320.81 147.072 1331.02 147.072 Q1340.18 147.072 1345.48 152.986 Q1350.83 158.86 1350.83 168.988 M1343.38 166.8 Q1343.3 160.683 1339.93 157.037 Q1336.61 153.392 1331.1 153.392 Q1324.86 153.392 1321.1 156.916 Q1317.37 160.44 1316.8 166.841 L1343.38 166.8 Z\" fill=\"#000000\" fill-rule=\"evenodd\" fill-opacity=\"1\" /><path clip-path=\"url(#clip350)\" d=\"M1364.97 183.247 L1373.52 183.247 L1373.52 193.536 L1364.97 193.536 L1364.97 183.247 M1364.97 150.637 L1373.52 150.637 L1373.52 160.926 L1364.97 160.926 L1364.97 150.637 Z\" fill=\"#000000\" fill-rule=\"evenodd\" fill-opacity=\"1\" /><path clip-path=\"url(#clip350)\" d=\"M1449.96 170.891 Q1449.96 162.668 1446.55 158.01 Q1443.19 153.311 1437.28 153.311 Q1431.36 153.311 1427.96 158.01 Q1424.6 162.668 1424.6 170.891 Q1424.6 179.115 1427.96 183.814 Q1431.36 188.472 1437.28 188.472 Q1443.19 188.472 1446.55 183.814 Q1449.96 179.115 1449.96 170.891 M1424.6 155.052 Q1426.95 151.002 1430.51 149.057 Q1434.12 147.072 1439.1 147.072 Q1447.36 147.072 1452.51 153.635 Q1457.69 160.197 1457.69 170.891 Q1457.69 181.586 1452.51 188.148 Q1447.36 194.711 1439.1 194.711 Q1434.12 194.711 1430.51 192.766 Q1426.95 190.781 1424.6 186.73 L1424.6 193.536 L1417.1 193.536 L1417.1 130.504 L1424.6 130.504 L1424.6 155.052 Z\" fill=\"#000000\" fill-rule=\"evenodd\" fill-opacity=\"1\" /><path clip-path=\"url(#clip350)\" d=\"M1470.05 148.166 L1477.5 148.166 L1477.5 193.536 L1470.05 193.536 L1470.05 148.166 M1470.05 130.504 L1477.5 130.504 L1477.5 139.943 L1470.05 139.943 L1470.05 130.504 Z\" fill=\"#000000\" fill-rule=\"evenodd\" fill-opacity=\"1\" /><path clip-path=\"url(#clip350)\" d=\"M1522.95 170.324 Q1522.95 162.223 1519.59 157.767 Q1516.27 153.311 1510.23 153.311 Q1504.24 153.311 1500.88 157.767 Q1497.55 162.223 1497.55 170.324 Q1497.55 178.386 1500.88 182.842 Q1504.24 187.298 1510.23 187.298 Q1516.27 187.298 1519.59 182.842 Q1522.95 178.386 1522.95 170.324 M1530.41 187.905 Q1530.41 199.491 1525.26 205.122 Q1520.12 210.793 1509.5 210.793 Q1505.57 210.793 1502.09 210.185 Q1498.61 209.618 1495.33 208.403 L1495.33 201.152 Q1498.61 202.934 1501.81 203.785 Q1505.01 204.635 1508.33 204.635 Q1515.66 204.635 1519.31 200.787 Q1522.95 196.979 1522.95 189.242 L1522.95 185.556 Q1520.64 189.566 1517.04 191.551 Q1513.43 193.536 1508.41 193.536 Q1500.07 193.536 1494.96 187.176 Q1489.86 180.816 1489.86 170.324 Q1489.86 159.792 1494.96 153.432 Q1500.07 147.072 1508.41 147.072 Q1513.43 147.072 1517.04 149.057 Q1520.64 151.042 1522.95 155.052 L1522.95 148.166 L1530.41 148.166 L1530.41 187.905 Z\" fill=\"#000000\" fill-rule=\"evenodd\" fill-opacity=\"1\" /><path clip-path=\"url(#clip350)\" d=\"M1575.62 155.052 L1575.62 130.504 L1583.07 130.504 L1583.07 193.536 L1575.62 193.536 L1575.62 186.73 Q1573.27 190.781 1569.66 192.766 Q1566.1 194.711 1561.07 194.711 Q1552.85 194.711 1547.66 188.148 Q1542.52 181.586 1542.52 170.891 Q1542.52 160.197 1547.66 153.635 Q1552.85 147.072 1561.07 147.072 Q1566.1 147.072 1569.66 149.057 Q1573.27 151.002 1575.62 155.052 M1550.22 170.891 Q1550.22 179.115 1553.58 183.814 Q1556.98 188.472 1562.9 188.472 Q1568.81 188.472 1572.21 183.814 Q1575.62 179.115 1575.62 170.891 Q1575.62 162.668 1572.21 158.01 Q1568.81 153.311 1562.9 153.311 Q1556.98 153.311 1553.58 158.01 Q1550.22 162.668 1550.22 170.891 Z\" fill=\"#000000\" fill-rule=\"evenodd\" fill-opacity=\"1\" /><path clip-path=\"url(#clip350)\" d=\"M1621.39 130.504 L1621.39 136.702 L1614.26 136.702 Q1610.25 136.702 1608.67 138.322 Q1607.13 139.943 1607.13 144.155 L1607.13 148.166 L1619.41 148.166 L1619.41 153.959 L1607.13 153.959 L1607.13 193.536 L1599.64 193.536 L1599.64 153.959 L1592.51 153.959 L1592.51 148.166 L1599.64 148.166 L1599.64 145.006 Q1599.64 137.431 1603.16 133.988 Q1606.69 130.504 1614.34 130.504 L1621.39 130.504 Z\" fill=\"#000000\" fill-rule=\"evenodd\" fill-opacity=\"1\" /><path clip-path=\"url(#clip350)\" d=\"M927.146 225.761 L927.146 233.741 Q922.488 231.513 918.356 230.419 Q914.224 229.326 910.376 229.326 Q903.692 229.326 900.046 231.918 Q896.44 234.511 896.44 239.291 Q896.44 243.301 898.831 245.367 Q901.261 247.393 907.986 248.649 L912.928 249.661 Q922.083 251.403 926.417 255.819 Q930.792 260.194 930.792 267.566 Q930.792 276.357 924.878 280.894 Q919.004 285.431 907.621 285.431 Q903.327 285.431 898.466 284.459 Q893.645 283.486 888.46 281.582 L888.46 273.157 Q893.443 275.952 898.223 277.369 Q903.003 278.787 907.621 278.787 Q914.629 278.787 918.437 276.033 Q922.245 273.278 922.245 268.174 Q922.245 263.718 919.49 261.206 Q916.776 258.695 910.538 257.439 L905.555 256.467 Q896.4 254.644 892.309 250.755 Q888.217 246.866 888.217 239.939 Q888.217 231.918 893.848 227.3 Q899.519 222.682 909.444 222.682 Q913.697 222.682 918.113 223.452 Q922.528 224.222 927.146 225.761 Z\" fill=\"#000000\" fill-rule=\"evenodd\" fill-opacity=\"1\" /><path clip-path=\"url(#clip350)\" d=\"M943.228 238.886 L950.682 238.886 L950.682 284.256 L943.228 284.256 L943.228 238.886 M943.228 221.224 L950.682 221.224 L950.682 230.663 L943.228 230.663 L943.228 221.224 Z\" fill=\"#000000\" fill-rule=\"evenodd\" fill-opacity=\"1\" /><path clip-path=\"url(#clip350)\" d=\"M963.037 238.886 L998.442 238.886 L998.442 245.691 L970.41 278.301 L998.442 278.301 L998.442 284.256 L962.025 284.256 L962.025 277.45 L990.057 244.841 L963.037 244.841 L963.037 238.886 Z\" fill=\"#000000\" fill-rule=\"evenodd\" fill-opacity=\"1\" /><path clip-path=\"url(#clip350)\" d=\"M1048.63 259.708 L1048.63 263.353 L1014.36 263.353 Q1014.85 271.05 1018.98 275.101 Q1023.15 279.111 1030.57 279.111 Q1034.86 279.111 1038.87 278.058 Q1042.92 277.005 1046.89 274.898 L1046.89 281.947 Q1042.88 283.648 1038.67 284.54 Q1034.45 285.431 1030.12 285.431 Q1019.26 285.431 1012.9 279.111 Q1006.58 272.792 1006.58 262.017 Q1006.58 250.877 1012.58 244.355 Q1018.62 237.792 1028.82 237.792 Q1037.98 237.792 1043.29 243.706 Q1048.63 249.58 1048.63 259.708 M1041.18 257.52 Q1041.1 251.403 1037.74 247.757 Q1034.41 244.112 1028.91 244.112 Q1022.67 244.112 1018.9 247.636 Q1015.17 251.16 1014.61 257.561 L1041.18 257.52 Z\" fill=\"#000000\" fill-rule=\"evenodd\" fill-opacity=\"1\" /><path clip-path=\"url(#clip350)\" d=\"M1062.77 273.967 L1071.32 273.967 L1071.32 284.256 L1062.77 284.256 L1062.77 273.967 M1062.77 241.357 L1071.32 241.357 L1071.32 251.646 L1062.77 251.646 L1062.77 241.357 Z\" fill=\"#000000\" fill-rule=\"evenodd\" fill-opacity=\"1\" /><path clip-path=\"url(#clip350)\" d=\"M1133.09 221.305 Q1127.67 230.622 1125.03 239.737 Q1122.4 248.851 1122.4 258.209 Q1122.4 267.566 1125.03 276.762 Q1127.71 285.917 1133.09 295.193 L1126.61 295.193 Q1120.54 285.674 1117.5 276.478 Q1114.5 267.283 1114.5 258.209 Q1114.5 249.175 1117.5 240.02 Q1120.5 230.865 1126.61 221.305 L1133.09 221.305 Z\" fill=\"#000000\" fill-rule=\"evenodd\" fill-opacity=\"1\" /><path clip-path=\"url(#clip350)\" d=\"M1155.66 277.369 L1184.22 277.369 L1184.22 284.256 L1145.81 284.256 L1145.81 277.369 Q1150.47 272.549 1158.49 264.447 Q1166.55 256.305 1168.62 253.955 Q1172.55 249.54 1174.09 246.502 Q1175.67 243.423 1175.67 240.466 Q1175.67 235.645 1172.27 232.607 Q1168.9 229.569 1163.48 229.569 Q1159.63 229.569 1155.33 230.906 Q1151.08 232.242 1146.22 234.956 L1146.22 226.693 Q1151.16 224.708 1155.46 223.695 Q1159.75 222.682 1163.31 222.682 Q1172.71 222.682 1178.3 227.381 Q1183.89 232.08 1183.89 239.939 Q1183.89 243.666 1182.47 247.028 Q1181.1 250.35 1177.41 254.887 Q1176.4 256.062 1170.97 261.692 Q1165.54 267.283 1155.66 277.369 Z\" fill=\"#000000\" fill-rule=\"evenodd\" fill-opacity=\"1\" /><path clip-path=\"url(#clip350)\" d=\"M1218.89 229.164 Q1212.57 229.164 1209.37 235.402 Q1206.21 241.6 1206.21 254.077 Q1206.21 266.513 1209.37 272.751 Q1212.57 278.949 1218.89 278.949 Q1225.25 278.949 1228.41 272.751 Q1231.61 266.513 1231.61 254.077 Q1231.61 241.6 1228.41 235.402 Q1225.25 229.164 1218.89 229.164 M1218.89 222.682 Q1229.06 222.682 1234.41 230.744 Q1239.8 238.764 1239.8 254.077 Q1239.8 269.349 1234.41 277.41 Q1229.06 285.431 1218.89 285.431 Q1208.72 285.431 1203.34 277.41 Q1197.99 269.349 1197.99 254.077 Q1197.99 238.764 1203.34 230.744 Q1208.72 222.682 1218.89 222.682 Z\" fill=\"#000000\" fill-rule=\"evenodd\" fill-opacity=\"1\" /><path clip-path=\"url(#clip350)\" d=\"M1271.68 229.164 Q1265.36 229.164 1262.16 235.402 Q1259 241.6 1259 254.077 Q1259 266.513 1262.16 272.751 Q1265.36 278.949 1271.68 278.949 Q1278.04 278.949 1281.2 272.751 Q1284.4 266.513 1284.4 254.077 Q1284.4 241.6 1281.2 235.402 Q1278.04 229.164 1271.68 229.164 M1271.68 222.682 Q1281.84 222.682 1287.19 230.744 Q1292.58 238.764 1292.58 254.077 Q1292.58 269.349 1287.19 277.41 Q1281.84 285.431 1271.68 285.431 Q1261.51 285.431 1256.12 277.41 Q1250.77 269.349 1250.77 254.077 Q1250.77 238.764 1256.12 230.744 Q1261.51 222.682 1271.68 222.682 Z\" fill=\"#000000\" fill-rule=\"evenodd\" fill-opacity=\"1\" /><path clip-path=\"url(#clip350)\" d=\"M1324.46 229.164 Q1318.14 229.164 1314.94 235.402 Q1311.78 241.6 1311.78 254.077 Q1311.78 266.513 1314.94 272.751 Q1318.14 278.949 1324.46 278.949 Q1330.82 278.949 1333.98 272.751 Q1337.18 266.513 1337.18 254.077 Q1337.18 241.6 1333.98 235.402 Q1330.82 229.164 1324.46 229.164 M1324.46 222.682 Q1334.63 222.682 1339.97 230.744 Q1345.36 238.764 1345.36 254.077 Q1345.36 269.349 1339.97 277.41 Q1334.63 285.431 1324.46 285.431 Q1314.29 285.431 1308.9 277.41 Q1303.56 269.349 1303.56 254.077 Q1303.56 238.764 1308.9 230.744 Q1314.29 222.682 1324.46 222.682 Z\" fill=\"#000000\" fill-rule=\"evenodd\" fill-opacity=\"1\" /><path clip-path=\"url(#clip350)\" d=\"M1377.24 229.164 Q1370.92 229.164 1367.72 235.402 Q1364.56 241.6 1364.56 254.077 Q1364.56 266.513 1367.72 272.751 Q1370.92 278.949 1377.24 278.949 Q1383.6 278.949 1386.76 272.751 Q1389.96 266.513 1389.96 254.077 Q1389.96 241.6 1386.76 235.402 Q1383.6 229.164 1377.24 229.164 M1377.24 222.682 Q1387.41 222.682 1392.76 230.744 Q1398.14 238.764 1398.14 254.077 Q1398.14 269.349 1392.76 277.41 Q1387.41 285.431 1377.24 285.431 Q1367.07 285.431 1361.69 277.41 Q1356.34 269.349 1356.34 254.077 Q1356.34 238.764 1361.69 230.744 Q1367.07 222.682 1377.24 222.682 Z\" fill=\"#000000\" fill-rule=\"evenodd\" fill-opacity=\"1\" /><path clip-path=\"url(#clip350)\" d=\"M1413.38 273.967 L1421.92 273.967 L1421.92 280.934 L1415.28 293.897 L1410.05 293.897 L1413.38 280.934 L1413.38 273.967 Z\" fill=\"#000000\" fill-rule=\"evenodd\" fill-opacity=\"1\" /><path clip-path=\"url(#clip350)\" d=\"M1465.35 223.776 L1497.47 223.776 L1497.47 230.663 L1472.84 230.663 L1472.84 245.489 Q1474.63 244.881 1476.41 244.598 Q1478.19 244.274 1479.97 244.274 Q1490.1 244.274 1496.01 249.823 Q1501.93 255.373 1501.93 264.852 Q1501.93 274.615 1495.85 280.043 Q1489.78 285.431 1478.72 285.431 Q1474.91 285.431 1470.94 284.783 Q1467.01 284.134 1462.8 282.838 L1462.8 274.615 Q1466.44 276.6 1470.33 277.572 Q1474.22 278.544 1478.56 278.544 Q1485.56 278.544 1489.65 274.858 Q1493.75 271.172 1493.75 264.852 Q1493.75 258.533 1489.65 254.846 Q1485.56 251.16 1478.56 251.16 Q1475.27 251.16 1471.99 251.889 Q1468.75 252.618 1465.35 254.158 L1465.35 223.776 Z\" fill=\"#000000\" fill-rule=\"evenodd\" fill-opacity=\"1\" /><path clip-path=\"url(#clip350)\" d=\"M1535.55 229.164 Q1529.23 229.164 1526.03 235.402 Q1522.87 241.6 1522.87 254.077 Q1522.87 266.513 1526.03 272.751 Q1529.23 278.949 1535.55 278.949 Q1541.91 278.949 1545.07 272.751 Q1548.27 266.513 1548.27 254.077 Q1548.27 241.6 1545.07 235.402 Q1541.91 229.164 1535.55 229.164 M1535.55 222.682 Q1545.72 222.682 1551.07 230.744 Q1556.45 238.764 1556.45 254.077 Q1556.45 269.349 1551.07 277.41 Q1545.72 285.431 1535.55 285.431 Q1525.38 285.431 1520 277.41 Q1514.65 269.349 1514.65 254.077 Q1514.65 238.764 1520 230.744 Q1525.38 222.682 1535.55 222.682 Z\" fill=\"#000000\" fill-rule=\"evenodd\" fill-opacity=\"1\" /><path clip-path=\"url(#clip350)\" d=\"M1588.33 229.164 Q1582.02 229.164 1578.82 235.402 Q1575.66 241.6 1575.66 254.077 Q1575.66 266.513 1578.82 272.751 Q1582.02 278.949 1588.33 278.949 Q1594.69 278.949 1597.85 272.751 Q1601.05 266.513 1601.05 254.077 Q1601.05 241.6 1597.85 235.402 Q1594.69 229.164 1588.33 229.164 M1588.33 222.682 Q1598.5 222.682 1603.85 230.744 Q1609.24 238.764 1609.24 254.077 Q1609.24 269.349 1603.85 277.41 Q1598.5 285.431 1588.33 285.431 Q1578.17 285.431 1572.78 277.41 Q1567.43 269.349 1567.43 254.077 Q1567.43 238.764 1572.78 230.744 Q1578.17 222.682 1588.33 222.682 Z\" fill=\"#000000\" fill-rule=\"evenodd\" fill-opacity=\"1\" /><path clip-path=\"url(#clip350)\" d=\"M1621.39 221.305 L1627.87 221.305 Q1633.95 230.865 1636.95 240.02 Q1639.98 249.175 1639.98 258.209 Q1639.98 267.283 1636.95 276.478 Q1633.95 285.674 1627.87 295.193 L1621.39 295.193 Q1626.78 285.917 1629.41 276.762 Q1632.08 267.566 1632.08 258.209 Q1632.08 248.851 1629.41 239.737 Q1626.78 230.622 1621.39 221.305 Z\" fill=\"#000000\" fill-rule=\"evenodd\" fill-opacity=\"1\" /><path clip-path=\"url(#clip352)\" d=\"M291.404 278.605 L291.404 1417.71 L425.569 1417.71 L425.569 278.605 L291.404 278.605 L291.404 278.605  Z\" fill=\"#009af9\" fill-rule=\"evenodd\" fill-opacity=\"1\"/>\n",
       "<polyline clip-path=\"url(#clip352)\" style=\"stroke:#000000; stroke-linecap:round; stroke-linejoin:round; stroke-width:4; stroke-opacity:1; fill:none\" points=\"291.404,278.605 291.404,1417.71 425.569,1417.71 425.569,278.605 291.404,278.605 \"/>\n",
       "<path clip-path=\"url(#clip352)\" d=\"M626.817 459.137 L626.817 1417.71 L760.982 1417.71 L760.982 459.137 L626.817 459.137 L626.817 459.137  Z\" fill=\"#009af9\" fill-rule=\"evenodd\" fill-opacity=\"1\"/>\n",
       "<polyline clip-path=\"url(#clip352)\" style=\"stroke:#000000; stroke-linecap:round; stroke-linejoin:round; stroke-width:4; stroke-opacity:1; fill:none\" points=\"626.817,459.137 626.817,1417.71 760.982,1417.71 760.982,459.137 626.817,459.137 \"/>\n",
       "<path clip-path=\"url(#clip352)\" d=\"M962.229 1212.14 L962.229 1417.71 L1096.39 1417.71 L1096.39 1212.14 L962.229 1212.14 L962.229 1212.14  Z\" fill=\"#009af9\" fill-rule=\"evenodd\" fill-opacity=\"1\"/>\n",
       "<polyline clip-path=\"url(#clip352)\" style=\"stroke:#000000; stroke-linecap:round; stroke-linejoin:round; stroke-width:4; stroke-opacity:1; fill:none\" points=\"962.229,1212.14 962.229,1417.71 1096.39,1417.71 1096.39,1212.14 962.229,1212.14 \"/>\n",
       "<path clip-path=\"url(#clip352)\" d=\"M1297.64 1077.33 L1297.64 1417.71 L1431.81 1417.71 L1431.81 1077.33 L1297.64 1077.33 L1297.64 1077.33  Z\" fill=\"#009af9\" fill-rule=\"evenodd\" fill-opacity=\"1\"/>\n",
       "<polyline clip-path=\"url(#clip352)\" style=\"stroke:#000000; stroke-linecap:round; stroke-linejoin:round; stroke-width:4; stroke-opacity:1; fill:none\" points=\"1297.64,1077.33 1297.64,1417.71 1431.81,1417.71 1431.81,1077.33 1297.64,1077.33 \"/>\n",
       "<path clip-path=\"url(#clip352)\" d=\"M1633.05 1323.43 L1633.05 1417.71 L1767.22 1417.71 L1767.22 1323.43 L1633.05 1323.43 L1633.05 1323.43  Z\" fill=\"#009af9\" fill-rule=\"evenodd\" fill-opacity=\"1\"/>\n",
       "<polyline clip-path=\"url(#clip352)\" style=\"stroke:#000000; stroke-linecap:round; stroke-linejoin:round; stroke-width:4; stroke-opacity:1; fill:none\" points=\"1633.05,1323.43 1633.05,1417.71 1767.22,1417.71 1767.22,1323.43 1633.05,1323.43 \"/>\n",
       "<path clip-path=\"url(#clip352)\" d=\"M1968.47 1323.4 L1968.47 1417.71 L2102.63 1417.71 L2102.63 1323.4 L1968.47 1323.4 L1968.47 1323.4  Z\" fill=\"#009af9\" fill-rule=\"evenodd\" fill-opacity=\"1\"/>\n",
       "<polyline clip-path=\"url(#clip352)\" style=\"stroke:#000000; stroke-linecap:round; stroke-linejoin:round; stroke-width:4; stroke-opacity:1; fill:none\" points=\"1968.47,1323.4 1968.47,1417.71 2102.63,1417.71 2102.63,1323.4 1968.47,1323.4 \"/>\n",
       "<circle clip-path=\"url(#clip352)\" style=\"fill:#009af9; stroke:none; fill-opacity:0\" cx=\"358.487\" cy=\"278.605\" r=\"2\"/>\n",
       "<circle clip-path=\"url(#clip352)\" style=\"fill:#009af9; stroke:none; fill-opacity:0\" cx=\"693.899\" cy=\"459.137\" r=\"2\"/>\n",
       "<circle clip-path=\"url(#clip352)\" style=\"fill:#009af9; stroke:none; fill-opacity:0\" cx=\"1029.31\" cy=\"1212.14\" r=\"2\"/>\n",
       "<circle clip-path=\"url(#clip352)\" style=\"fill:#009af9; stroke:none; fill-opacity:0\" cx=\"1364.72\" cy=\"1077.33\" r=\"2\"/>\n",
       "<circle clip-path=\"url(#clip352)\" style=\"fill:#009af9; stroke:none; fill-opacity:0\" cx=\"1700.14\" cy=\"1323.43\" r=\"2\"/>\n",
       "<circle clip-path=\"url(#clip352)\" style=\"fill:#009af9; stroke:none; fill-opacity:0\" cx=\"2035.55\" cy=\"1323.4\" r=\"2\"/>\n",
       "<path clip-path=\"url(#clip352)\" d=\"M425.569 1389.22 L425.569 1417.71 L559.734 1417.71 L559.734 1389.22 L425.569 1389.22 L425.569 1389.22  Z\" fill=\"#e26f46\" fill-rule=\"evenodd\" fill-opacity=\"1\"/>\n",
       "<polyline clip-path=\"url(#clip352)\" style=\"stroke:#000000; stroke-linecap:round; stroke-linejoin:round; stroke-width:4; stroke-opacity:1; fill:none\" points=\"425.569,1389.22 425.569,1417.71 559.734,1417.71 559.734,1389.22 425.569,1389.22 \"/>\n",
       "<path clip-path=\"url(#clip352)\" d=\"M760.982 709.599 L760.982 1417.71 L895.147 1417.71 L895.147 709.599 L760.982 709.599 L760.982 709.599  Z\" fill=\"#e26f46\" fill-rule=\"evenodd\" fill-opacity=\"1\"/>\n",
       "<polyline clip-path=\"url(#clip352)\" style=\"stroke:#000000; stroke-linecap:round; stroke-linejoin:round; stroke-width:4; stroke-opacity:1; fill:none\" points=\"760.982,709.599 760.982,1417.71 895.147,1417.71 895.147,709.599 760.982,709.599 \"/>\n",
       "<path clip-path=\"url(#clip352)\" d=\"M1096.39 1278.52 L1096.39 1417.71 L1230.56 1417.71 L1230.56 1278.52 L1096.39 1278.52 L1096.39 1278.52  Z\" fill=\"#e26f46\" fill-rule=\"evenodd\" fill-opacity=\"1\"/>\n",
       "<polyline clip-path=\"url(#clip352)\" style=\"stroke:#000000; stroke-linecap:round; stroke-linejoin:round; stroke-width:4; stroke-opacity:1; fill:none\" points=\"1096.39,1278.52 1096.39,1417.71 1230.56,1417.71 1230.56,1278.52 1096.39,1278.52 \"/>\n",
       "<path clip-path=\"url(#clip352)\" d=\"M1431.81 1118.26 L1431.81 1417.71 L1565.97 1417.71 L1565.97 1118.26 L1431.81 1118.26 L1431.81 1118.26  Z\" fill=\"#e26f46\" fill-rule=\"evenodd\" fill-opacity=\"1\"/>\n",
       "<polyline clip-path=\"url(#clip352)\" style=\"stroke:#000000; stroke-linecap:round; stroke-linejoin:round; stroke-width:4; stroke-opacity:1; fill:none\" points=\"1431.81,1118.26 1431.81,1417.71 1565.97,1417.71 1565.97,1118.26 1431.81,1118.26 \"/>\n",
       "<path clip-path=\"url(#clip352)\" d=\"M1767.22 1323.43 L1767.22 1417.71 L1901.38 1417.71 L1901.38 1323.43 L1767.22 1323.43 L1767.22 1323.43  Z\" fill=\"#e26f46\" fill-rule=\"evenodd\" fill-opacity=\"1\"/>\n",
       "<polyline clip-path=\"url(#clip352)\" style=\"stroke:#000000; stroke-linecap:round; stroke-linejoin:round; stroke-width:4; stroke-opacity:1; fill:none\" points=\"1767.22,1323.43 1767.22,1417.71 1901.38,1417.71 1901.38,1323.43 1767.22,1323.43 \"/>\n",
       "<path clip-path=\"url(#clip352)\" d=\"M2102.63 1323.4 L2102.63 1417.71 L2236.8 1417.71 L2236.8 1323.4 L2102.63 1323.4 L2102.63 1323.4  Z\" fill=\"#e26f46\" fill-rule=\"evenodd\" fill-opacity=\"1\"/>\n",
       "<polyline clip-path=\"url(#clip352)\" style=\"stroke:#000000; stroke-linecap:round; stroke-linejoin:round; stroke-width:4; stroke-opacity:1; fill:none\" points=\"2102.63,1323.4 2102.63,1417.71 2236.8,1417.71 2236.8,1323.4 2102.63,1323.4 \"/>\n",
       "<circle clip-path=\"url(#clip352)\" style=\"fill:#e26f46; stroke:none; fill-opacity:0\" cx=\"492.652\" cy=\"1389.22\" r=\"2\"/>\n",
       "<circle clip-path=\"url(#clip352)\" style=\"fill:#e26f46; stroke:none; fill-opacity:0\" cx=\"828.064\" cy=\"709.599\" r=\"2\"/>\n",
       "<circle clip-path=\"url(#clip352)\" style=\"fill:#e26f46; stroke:none; fill-opacity:0\" cx=\"1163.48\" cy=\"1278.52\" r=\"2\"/>\n",
       "<circle clip-path=\"url(#clip352)\" style=\"fill:#e26f46; stroke:none; fill-opacity:0\" cx=\"1498.89\" cy=\"1118.26\" r=\"2\"/>\n",
       "<circle clip-path=\"url(#clip352)\" style=\"fill:#e26f46; stroke:none; fill-opacity:0\" cx=\"1834.3\" cy=\"1323.43\" r=\"2\"/>\n",
       "<circle clip-path=\"url(#clip352)\" style=\"fill:#e26f46; stroke:none; fill-opacity:0\" cx=\"2169.71\" cy=\"1323.4\" r=\"2\"/>\n",
       "<path clip-path=\"url(#clip350)\" d=\"M1979.93 440.201 L2280.18 440.201 L2280.18 284.681 L1979.93 284.681  Z\" fill=\"#ffffff\" fill-rule=\"evenodd\" fill-opacity=\"1\"/>\n",
       "<polyline clip-path=\"url(#clip350)\" style=\"stroke:#000000; stroke-linecap:round; stroke-linejoin:round; stroke-width:4; stroke-opacity:1; fill:none\" points=\"1979.93,440.201 2280.18,440.201 2280.18,284.681 1979.93,284.681 1979.93,440.201 \"/>\n",
       "<path clip-path=\"url(#clip350)\" d=\"M2004.12 357.257 L2149.27 357.257 L2149.27 315.785 L2004.12 315.785 L2004.12 357.257  Z\" fill=\"#009af9\" fill-rule=\"evenodd\" fill-opacity=\"1\"/>\n",
       "<polyline clip-path=\"url(#clip350)\" style=\"stroke:#000000; stroke-linecap:round; stroke-linejoin:round; stroke-width:4; stroke-opacity:1; fill:none\" points=\"2004.12,357.257 2149.27,357.257 2149.27,315.785 2004.12,315.785 2004.12,357.257 \"/>\n",
       "<path clip-path=\"url(#clip350)\" d=\"M2174.14 349.865 L2181.77 349.865 L2181.77 323.5 L2173.46 325.167 L2173.46 320.907 L2181.73 319.241 L2186.4 319.241 L2186.4 349.865 L2194.04 349.865 L2194.04 353.801 L2174.14 353.801 L2174.14 349.865 Z\" fill=\"#000000\" fill-rule=\"evenodd\" fill-opacity=\"1\" /><path clip-path=\"url(#clip350)\" d=\"M2219.41 328.639 L2219.41 332.667 Q2217.61 331.741 2215.66 331.278 Q2213.72 330.815 2211.63 330.815 Q2208.46 330.815 2206.87 331.787 Q2205.29 332.759 2205.29 334.704 Q2205.29 336.185 2206.43 337.041 Q2207.56 337.875 2210.99 338.639 L2212.45 338.963 Q2216.98 339.935 2218.88 341.717 Q2220.8 343.477 2220.8 346.648 Q2220.8 350.259 2217.93 352.365 Q2215.08 354.472 2210.08 354.472 Q2208 354.472 2205.73 354.055 Q2203.49 353.662 2200.99 352.852 L2200.99 348.453 Q2203.35 349.68 2205.64 350.305 Q2207.93 350.907 2210.18 350.907 Q2213.19 350.907 2214.81 349.889 Q2216.43 348.847 2216.43 346.972 Q2216.43 345.236 2215.25 344.31 Q2214.09 343.384 2210.13 342.528 L2208.65 342.18 Q2204.69 341.347 2202.93 339.634 Q2201.17 337.898 2201.17 334.889 Q2201.17 331.231 2203.76 329.241 Q2206.36 327.25 2211.13 327.25 Q2213.49 327.25 2215.57 327.597 Q2217.65 327.944 2219.41 328.639 Z\" fill=\"#000000\" fill-rule=\"evenodd\" fill-opacity=\"1\" /><path clip-path=\"url(#clip350)\" d=\"M2231.8 320.514 L2231.8 327.875 L2240.57 327.875 L2240.57 331.185 L2231.8 331.185 L2231.8 345.259 Q2231.8 348.43 2232.65 349.333 Q2233.53 350.236 2236.19 350.236 L2240.57 350.236 L2240.57 353.801 L2236.19 353.801 Q2231.26 353.801 2229.39 351.972 Q2227.51 350.12 2227.51 345.259 L2227.51 331.185 L2224.39 331.185 L2224.39 327.875 L2227.51 327.875 L2227.51 320.514 L2231.8 320.514 Z\" fill=\"#000000\" fill-rule=\"evenodd\" fill-opacity=\"1\" /><path clip-path=\"url(#clip350)\" d=\"M2004.12 409.097 L2149.27 409.097 L2149.27 367.625 L2004.12 367.625 L2004.12 409.097  Z\" fill=\"#e26f46\" fill-rule=\"evenodd\" fill-opacity=\"1\"/>\n",
       "<polyline clip-path=\"url(#clip350)\" style=\"stroke:#000000; stroke-linecap:round; stroke-linejoin:round; stroke-width:4; stroke-opacity:1; fill:none\" points=\"2004.12,409.097 2149.27,409.097 2149.27,367.625 2004.12,367.625 2004.12,409.097 \"/>\n",
       "<path clip-path=\"url(#clip350)\" d=\"M2179.09 401.705 L2195.41 401.705 L2195.41 405.641 L2173.46 405.641 L2173.46 401.705 Q2176.13 398.951 2180.71 394.321 Q2185.32 389.669 2186.5 388.326 Q2188.74 385.803 2189.62 384.067 Q2190.52 382.307 2190.52 380.618 Q2190.52 377.863 2188.58 376.127 Q2186.66 374.391 2183.56 374.391 Q2181.36 374.391 2178.9 375.155 Q2176.47 375.919 2173.7 377.47 L2173.7 372.747 Q2176.52 371.613 2178.97 371.034 Q2181.43 370.456 2183.46 370.456 Q2188.83 370.456 2192.03 373.141 Q2195.22 375.826 2195.22 380.317 Q2195.22 382.446 2194.41 384.368 Q2193.63 386.266 2191.52 388.858 Q2190.94 389.53 2187.84 392.747 Q2184.74 395.942 2179.09 401.705 Z\" fill=\"#000000\" fill-rule=\"evenodd\" fill-opacity=\"1\" /><path clip-path=\"url(#clip350)\" d=\"M2226.17 389.993 L2226.17 405.641 L2221.91 405.641 L2221.91 390.131 Q2221.91 386.451 2220.48 384.622 Q2219.04 382.794 2216.17 382.794 Q2212.72 382.794 2210.73 384.993 Q2208.74 387.192 2208.74 390.988 L2208.74 405.641 L2204.46 405.641 L2204.46 379.715 L2208.74 379.715 L2208.74 383.743 Q2210.27 381.405 2212.33 380.247 Q2214.41 379.09 2217.12 379.09 Q2221.59 379.09 2223.88 381.868 Q2226.17 384.622 2226.17 389.993 Z\" fill=\"#000000\" fill-rule=\"evenodd\" fill-opacity=\"1\" /><path clip-path=\"url(#clip350)\" d=\"M2251.73 383.65 L2251.73 369.622 L2255.99 369.622 L2255.99 405.641 L2251.73 405.641 L2251.73 401.752 Q2250.38 404.067 2248.32 405.201 Q2246.29 406.312 2243.42 406.312 Q2238.72 406.312 2235.76 402.562 Q2232.82 398.812 2232.82 392.701 Q2232.82 386.59 2235.76 382.84 Q2238.72 379.09 2243.42 379.09 Q2246.29 379.09 2248.32 380.224 Q2250.38 381.335 2251.73 383.65 M2237.21 392.701 Q2237.21 397.4 2239.13 400.085 Q2241.08 402.747 2244.46 402.747 Q2247.84 402.747 2249.78 400.085 Q2251.73 397.4 2251.73 392.701 Q2251.73 388.002 2249.78 385.34 Q2247.84 382.655 2244.46 382.655 Q2241.08 382.655 2239.13 385.34 Q2237.21 388.002 2237.21 392.701 Z\" fill=\"#000000\" fill-rule=\"evenodd\" fill-opacity=\"1\" /></svg>\n"
      ]
     },
     "execution_count": 39,
     "metadata": {},
     "output_type": "execute_result"
    }
   ],
   "source": [
    "groupedbar(\n",
    "    # Exclude JSONTables.jl arraytable due to timing\n",
    "    repeat([\"CSV.jl\", \"Serialization\", \"JDF.jl\", \"JLSO.jl\", \"Arrow.jl\", \"JSONTables.jl\\nobjecttable\"],\n",
    "            inner = 2),\n",
    "    [csvwrite1, csvwrite2, serializewrite1, serializewrite1, jdfwrite1, jdfwrite2,\n",
    "     jlsowrite1, jlsowrite2, arrowwrite1, arrowwrite2, jsontablesowrite2, jsontablesowrite2],\n",
    "    group = repeat([\"1st\", \"2nd\"], outer = 6),\n",
    "    ylab = \"Second\",\n",
    "    title = \"Write Performance\\nDataFrame: bigdf\\nSize: $(size(bigdf))\"\n",
    ")"
   ]
  },
  {
   "cell_type": "code",
   "execution_count": 40,
   "metadata": {},
   "outputs": [
    {
     "data": {
      "text/html": [
       "<div><div style = \"float: left;\"><span>6×2 DataFrame</span></div><div style = \"clear: both;\"></div></div><div class = \"data-frame\" style = \"overflow-x: scroll;\"><table class = \"data-frame\" style = \"margin-bottom: 6px;\"><thead><tr class = \"header\"><th class = \"rowNumber\" style = \"font-weight: bold; text-align: right;\">Row</th><th style = \"text-align: left;\">file</th><th style = \"text-align: left;\">size</th></tr><tr class = \"subheader headerLastRow\"><th class = \"rowNumber\" style = \"font-weight: bold; text-align: right;\"></th><th title = \"String\" style = \"text-align: left;\">String</th><th title = \"Int64\" style = \"text-align: left;\">Int64</th></tr></thead><tbody><tr><td class = \"rowNumber\" style = \"font-weight: bold; text-align: right;\">1</td><td style = \"text-align: left;\">bigdf.arrow</td><td style = \"text-align: right;\">2022202</td></tr><tr><td class = \"rowNumber\" style = \"font-weight: bold; text-align: right;\">2</td><td style = \"text-align: left;\">bigdf.jdf</td><td style = \"text-align: right;\">5270589</td></tr><tr><td class = \"rowNumber\" style = \"font-weight: bold; text-align: right;\">3</td><td style = \"text-align: left;\">bigdf.bin</td><td style = \"text-align: right;\">5363897</td></tr><tr><td class = \"rowNumber\" style = \"font-weight: bold; text-align: right;\">4</td><td style = \"text-align: left;\">bigdf1.csv</td><td style = \"text-align: right;\">55159820</td></tr><tr><td class = \"rowNumber\" style = \"font-weight: bold; text-align: right;\">5</td><td style = \"text-align: left;\">bigdf2.json</td><td style = \"text-align: right;\">55161821</td></tr><tr><td class = \"rowNumber\" style = \"font-weight: bold; text-align: right;\">6</td><td style = \"text-align: left;\">bigdf1.json</td><td style = \"text-align: right;\">123037429</td></tr></tbody></table></div>"
      ],
      "text/latex": [
       "\\begin{tabular}{r|cc}\n",
       "\t& file & size\\\\\n",
       "\t\\hline\n",
       "\t& String & Int64\\\\\n",
       "\t\\hline\n",
       "\t1 & bigdf.arrow & 2022202 \\\\\n",
       "\t2 & bigdf.jdf & 5270589 \\\\\n",
       "\t3 & bigdf.bin & 5363897 \\\\\n",
       "\t4 & bigdf1.csv & 55159820 \\\\\n",
       "\t5 & bigdf2.json & 55161821 \\\\\n",
       "\t6 & bigdf1.json & 123037429 \\\\\n",
       "\\end{tabular}\n"
      ],
      "text/plain": [
       "\u001b[1m6×2 DataFrame\u001b[0m\n",
       "\u001b[1m Row \u001b[0m│\u001b[1m file        \u001b[0m\u001b[1m size      \u001b[0m\n",
       "     │\u001b[90m String      \u001b[0m\u001b[90m Int64     \u001b[0m\n",
       "─────┼────────────────────────\n",
       "   1 │ bigdf.arrow    2022202\n",
       "   2 │ bigdf.jdf      5270589\n",
       "   3 │ bigdf.bin      5363897\n",
       "   4 │ bigdf1.csv    55159820\n",
       "   5 │ bigdf2.json   55161821\n",
       "   6 │ bigdf1.json  123037429"
      ]
     },
     "execution_count": 40,
     "metadata": {},
     "output_type": "execute_result"
    }
   ],
   "source": [
    "data_files = [\"bigdf1.csv\", \"bigdf.bin\", \"bigdf.arrow\", \"bigdf1.json\", \"bigdf2.json\"]\n",
    "df = DataFrame(file = data_files, size = getfield.(stat.(data_files), :size))\n",
    "append!(df, DataFrame(file = \"bigdf.jdf\", size=reduce((x,y)->x+y.size,\n",
    "                                                      stat.(joinpath.(\"bigdf.jdf\", readdir(\"bigdf.jdf\"))),\n",
    "                                                      init=0)))\n",
    "sort!(df, :size)"
   ]
  },
  {
   "cell_type": "code",
   "execution_count": 41,
   "metadata": {},
   "outputs": [
    {
     "data": {
      "image/svg+xml": [
       "<?xml version=\"1.0\" encoding=\"utf-8\"?>\n",
       "<svg xmlns=\"http://www.w3.org/2000/svg\" xmlns:xlink=\"http://www.w3.org/1999/xlink\" width=\"600\" height=\"400\" viewBox=\"0 0 2400 1600\">\n",
       "<defs>\n",
       "  <clipPath id=\"clip390\">\n",
       "    <rect x=\"0\" y=\"0\" width=\"2400\" height=\"1600\"/>\n",
       "  </clipPath>\n",
       "</defs>\n",
       "<path clip-path=\"url(#clip390)\" d=\"M0 1600 L2400 1600 L2400 0 L0 0  Z\" fill=\"#ffffff\" fill-rule=\"evenodd\" fill-opacity=\"1\"/>\n",
       "<defs>\n",
       "  <clipPath id=\"clip391\">\n",
       "    <rect x=\"480\" y=\"0\" width=\"1681\" height=\"1600\"/>\n",
       "  </clipPath>\n",
       "</defs>\n",
       "<path clip-path=\"url(#clip390)\" d=\"M232.389 1486.45 L2352.76 1486.45 L2352.76 123.472 L232.389 123.472  Z\" fill=\"#ffffff\" fill-rule=\"evenodd\" fill-opacity=\"1\"/>\n",
       "<defs>\n",
       "  <clipPath id=\"clip392\">\n",
       "    <rect x=\"232\" y=\"123\" width=\"2121\" height=\"1364\"/>\n",
       "  </clipPath>\n",
       "</defs>\n",
       "<polyline clip-path=\"url(#clip392)\" style=\"stroke:#000000; stroke-linecap:round; stroke-linejoin:round; stroke-width:2; stroke-opacity:0.1; fill:none\" points=\"479.159,1486.45 479.159,123.472 \"/>\n",
       "<polyline clip-path=\"url(#clip392)\" style=\"stroke:#000000; stroke-linecap:round; stroke-linejoin:round; stroke-width:2; stroke-opacity:0.1; fill:none\" points=\"804.525,1486.45 804.525,123.472 \"/>\n",
       "<polyline clip-path=\"url(#clip392)\" style=\"stroke:#000000; stroke-linecap:round; stroke-linejoin:round; stroke-width:2; stroke-opacity:0.1; fill:none\" points=\"1129.89,1486.45 1129.89,123.472 \"/>\n",
       "<polyline clip-path=\"url(#clip392)\" style=\"stroke:#000000; stroke-linecap:round; stroke-linejoin:round; stroke-width:2; stroke-opacity:0.1; fill:none\" points=\"1455.26,1486.45 1455.26,123.472 \"/>\n",
       "<polyline clip-path=\"url(#clip392)\" style=\"stroke:#000000; stroke-linecap:round; stroke-linejoin:round; stroke-width:2; stroke-opacity:0.1; fill:none\" points=\"1780.62,1486.45 1780.62,123.472 \"/>\n",
       "<polyline clip-path=\"url(#clip392)\" style=\"stroke:#000000; stroke-linecap:round; stroke-linejoin:round; stroke-width:2; stroke-opacity:0.1; fill:none\" points=\"2105.99,1486.45 2105.99,123.472 \"/>\n",
       "<polyline clip-path=\"url(#clip390)\" style=\"stroke:#000000; stroke-linecap:round; stroke-linejoin:round; stroke-width:4; stroke-opacity:1; fill:none\" points=\"232.389,1486.45 2352.76,1486.45 \"/>\n",
       "<polyline clip-path=\"url(#clip390)\" style=\"stroke:#000000; stroke-linecap:round; stroke-linejoin:round; stroke-width:4; stroke-opacity:1; fill:none\" points=\"479.159,1486.45 479.159,1467.55 \"/>\n",
       "<polyline clip-path=\"url(#clip390)\" style=\"stroke:#000000; stroke-linecap:round; stroke-linejoin:round; stroke-width:4; stroke-opacity:1; fill:none\" points=\"804.525,1486.45 804.525,1467.55 \"/>\n",
       "<polyline clip-path=\"url(#clip390)\" style=\"stroke:#000000; stroke-linecap:round; stroke-linejoin:round; stroke-width:4; stroke-opacity:1; fill:none\" points=\"1129.89,1486.45 1129.89,1467.55 \"/>\n",
       "<polyline clip-path=\"url(#clip390)\" style=\"stroke:#000000; stroke-linecap:round; stroke-linejoin:round; stroke-width:4; stroke-opacity:1; fill:none\" points=\"1455.26,1486.45 1455.26,1467.55 \"/>\n",
       "<polyline clip-path=\"url(#clip390)\" style=\"stroke:#000000; stroke-linecap:round; stroke-linejoin:round; stroke-width:4; stroke-opacity:1; fill:none\" points=\"1780.62,1486.45 1780.62,1467.55 \"/>\n",
       "<polyline clip-path=\"url(#clip390)\" style=\"stroke:#000000; stroke-linecap:round; stroke-linejoin:round; stroke-width:4; stroke-opacity:1; fill:none\" points=\"2105.99,1486.45 2105.99,1467.55 \"/>\n",
       "<path clip-path=\"url(#clip390)\" d=\"M368.234 1535.91 Q368.234 1531.21 366.29 1528.55 Q364.368 1525.86 360.989 1525.86 Q357.609 1525.86 355.665 1528.55 Q353.743 1531.21 353.743 1535.91 Q353.743 1540.61 355.665 1543.29 Q357.609 1545.95 360.989 1545.95 Q364.368 1545.95 366.29 1543.29 Q368.234 1540.61 368.234 1535.91 M353.743 1526.86 Q355.086 1524.54 357.123 1523.43 Q359.183 1522.3 362.03 1522.3 Q366.753 1522.3 369.692 1526.05 Q372.655 1529.8 372.655 1535.91 Q372.655 1542.02 369.692 1545.77 Q366.753 1549.52 362.03 1549.52 Q359.183 1549.52 357.123 1548.41 Q355.086 1547.27 353.743 1544.96 L353.743 1548.85 L349.461 1548.85 L349.461 1512.83 L353.743 1512.83 L353.743 1526.86 Z\" fill=\"#000000\" fill-rule=\"evenodd\" fill-opacity=\"1\" /><path clip-path=\"url(#clip390)\" d=\"M379.715 1522.92 L383.975 1522.92 L383.975 1548.85 L379.715 1548.85 L379.715 1522.92 M379.715 1512.83 L383.975 1512.83 L383.975 1518.22 L379.715 1518.22 L379.715 1512.83 Z\" fill=\"#000000\" fill-rule=\"evenodd\" fill-opacity=\"1\" /><path clip-path=\"url(#clip390)\" d=\"M409.947 1535.58 Q409.947 1530.95 408.026 1528.41 Q406.127 1525.86 402.678 1525.86 Q399.252 1525.86 397.331 1528.41 Q395.433 1530.95 395.433 1535.58 Q395.433 1540.19 397.331 1542.74 Q399.252 1545.28 402.678 1545.28 Q406.127 1545.28 408.026 1542.74 Q409.947 1540.19 409.947 1535.58 M414.206 1545.63 Q414.206 1552.25 411.266 1555.47 Q408.326 1558.71 402.262 1558.71 Q400.016 1558.71 398.026 1558.36 Q396.035 1558.04 394.16 1557.34 L394.16 1553.2 Q396.035 1554.22 397.864 1554.7 Q399.692 1555.19 401.59 1555.19 Q405.78 1555.19 407.863 1552.99 Q409.947 1550.82 409.947 1546.39 L409.947 1544.29 Q408.627 1546.58 406.567 1547.71 Q404.507 1548.85 401.637 1548.85 Q396.868 1548.85 393.952 1545.21 Q391.035 1541.58 391.035 1535.58 Q391.035 1529.57 393.952 1525.93 Q396.868 1522.3 401.637 1522.3 Q404.507 1522.3 406.567 1523.43 Q408.627 1524.57 409.947 1526.86 L409.947 1522.92 L414.206 1522.92 L414.206 1545.63 Z\" fill=\"#000000\" fill-rule=\"evenodd\" fill-opacity=\"1\" /><path clip-path=\"url(#clip390)\" d=\"M440.039 1526.86 L440.039 1512.83 L444.298 1512.83 L444.298 1548.85 L440.039 1548.85 L440.039 1544.96 Q438.697 1547.27 436.636 1548.41 Q434.599 1549.52 431.729 1549.52 Q427.03 1549.52 424.067 1545.77 Q421.127 1542.02 421.127 1535.91 Q421.127 1529.8 424.067 1526.05 Q427.03 1522.3 431.729 1522.3 Q434.599 1522.3 436.636 1523.43 Q438.697 1524.54 440.039 1526.86 M425.525 1535.91 Q425.525 1540.61 427.447 1543.29 Q429.391 1545.95 432.771 1545.95 Q436.15 1545.95 438.095 1543.29 Q440.039 1540.61 440.039 1535.91 Q440.039 1531.21 438.095 1528.55 Q436.15 1525.86 432.771 1525.86 Q429.391 1525.86 427.447 1528.55 Q425.525 1531.21 425.525 1535.91 Z\" fill=\"#000000\" fill-rule=\"evenodd\" fill-opacity=\"1\" /><path clip-path=\"url(#clip390)\" d=\"M466.197 1512.83 L466.197 1516.37 L462.122 1516.37 Q459.831 1516.37 458.928 1517.3 Q458.048 1518.22 458.048 1520.63 L458.048 1522.92 L465.062 1522.92 L465.062 1526.23 L458.048 1526.23 L458.048 1548.85 L453.766 1548.85 L453.766 1526.23 L449.692 1526.23 L449.692 1522.92 L453.766 1522.92 L453.766 1521.12 Q453.766 1516.79 455.78 1514.82 Q457.794 1512.83 462.169 1512.83 L466.197 1512.83 Z\" fill=\"#000000\" fill-rule=\"evenodd\" fill-opacity=\"1\" /><path clip-path=\"url(#clip390)\" d=\"M466.914 1542.97 L471.798 1542.97 L471.798 1548.85 L466.914 1548.85 L466.914 1542.97 Z\" fill=\"#000000\" fill-rule=\"evenodd\" fill-opacity=\"1\" /><path clip-path=\"url(#clip390)\" d=\"M493.164 1535.82 Q488.002 1535.82 486.011 1537 Q484.02 1538.18 484.02 1541.02 Q484.02 1543.29 485.502 1544.63 Q487.007 1545.95 489.576 1545.95 Q493.118 1545.95 495.247 1543.45 Q497.4 1540.93 497.4 1536.76 L497.4 1535.82 L493.164 1535.82 M501.659 1534.06 L501.659 1548.85 L497.4 1548.85 L497.4 1544.91 Q495.942 1547.27 493.766 1548.41 Q491.59 1549.52 488.442 1549.52 Q484.46 1549.52 482.099 1547.3 Q479.761 1545.05 479.761 1541.3 Q479.761 1536.93 482.678 1534.7 Q485.618 1532.48 491.428 1532.48 L497.4 1532.48 L497.4 1532.07 Q497.4 1529.13 495.456 1527.53 Q493.534 1525.91 490.039 1525.91 Q487.817 1525.91 485.71 1526.44 Q483.604 1526.97 481.659 1528.04 L481.659 1524.1 Q483.997 1523.2 486.196 1522.76 Q488.395 1522.3 490.479 1522.3 Q496.104 1522.3 498.882 1525.21 Q501.659 1528.13 501.659 1534.06 Z\" fill=\"#000000\" fill-rule=\"evenodd\" fill-opacity=\"1\" /><path clip-path=\"url(#clip390)\" d=\"M525.455 1526.9 Q524.738 1526.49 523.881 1526.3 Q523.048 1526.09 522.03 1526.09 Q518.418 1526.09 516.474 1528.45 Q514.553 1530.79 514.553 1535.19 L514.553 1548.85 L510.27 1548.85 L510.27 1522.92 L514.553 1522.92 L514.553 1526.95 Q515.895 1524.59 518.048 1523.45 Q520.201 1522.3 523.28 1522.3 Q523.719 1522.3 524.252 1522.37 Q524.784 1522.41 525.432 1522.53 L525.455 1526.9 Z\" fill=\"#000000\" fill-rule=\"evenodd\" fill-opacity=\"1\" /><path clip-path=\"url(#clip390)\" d=\"M544.113 1526.9 Q543.395 1526.49 542.539 1526.3 Q541.705 1526.09 540.687 1526.09 Q537.076 1526.09 535.131 1528.45 Q533.21 1530.79 533.21 1535.19 L533.21 1548.85 L528.928 1548.85 L528.928 1522.92 L533.21 1522.92 L533.21 1526.95 Q534.553 1524.59 536.705 1523.45 Q538.858 1522.3 541.937 1522.3 Q542.377 1522.3 542.909 1522.37 Q543.441 1522.41 544.09 1522.53 L544.113 1526.9 Z\" fill=\"#000000\" fill-rule=\"evenodd\" fill-opacity=\"1\" /><path clip-path=\"url(#clip390)\" d=\"M557.585 1525.91 Q554.159 1525.91 552.168 1528.59 Q550.178 1531.26 550.178 1535.91 Q550.178 1540.56 552.145 1543.25 Q554.136 1545.91 557.585 1545.91 Q560.988 1545.91 562.978 1543.22 Q564.969 1540.54 564.969 1535.91 Q564.969 1531.3 562.978 1528.62 Q560.988 1525.91 557.585 1525.91 M557.585 1522.3 Q563.14 1522.3 566.312 1525.91 Q569.483 1529.52 569.483 1535.91 Q569.483 1542.27 566.312 1545.91 Q563.14 1549.52 557.585 1549.52 Q552.006 1549.52 548.835 1545.91 Q545.687 1542.27 545.687 1535.91 Q545.687 1529.52 548.835 1525.91 Q552.006 1522.3 557.585 1522.3 Z\" fill=\"#000000\" fill-rule=\"evenodd\" fill-opacity=\"1\" /><path clip-path=\"url(#clip390)\" d=\"M574.066 1522.92 L578.326 1522.92 L583.65 1543.15 L588.95 1522.92 L593.974 1522.92 L599.298 1543.15 L604.599 1522.92 L608.858 1522.92 L602.075 1548.85 L597.052 1548.85 L591.474 1527.6 L585.872 1548.85 L580.849 1548.85 L574.066 1522.92 Z\" fill=\"#000000\" fill-rule=\"evenodd\" fill-opacity=\"1\" /><path clip-path=\"url(#clip390)\" d=\"M729.143 1535.91 Q729.143 1531.21 727.199 1528.55 Q725.277 1525.86 721.898 1525.86 Q718.518 1525.86 716.574 1528.55 Q714.652 1531.21 714.652 1535.91 Q714.652 1540.61 716.574 1543.29 Q718.518 1545.95 721.898 1545.95 Q725.277 1545.95 727.199 1543.29 Q729.143 1540.61 729.143 1535.91 M714.652 1526.86 Q715.995 1524.54 718.032 1523.43 Q720.092 1522.3 722.939 1522.3 Q727.662 1522.3 730.601 1526.05 Q733.564 1529.8 733.564 1535.91 Q733.564 1542.02 730.601 1545.77 Q727.662 1549.52 722.939 1549.52 Q720.092 1549.52 718.032 1548.41 Q715.995 1547.27 714.652 1544.96 L714.652 1548.85 L710.37 1548.85 L710.37 1512.83 L714.652 1512.83 L714.652 1526.86 Z\" fill=\"#000000\" fill-rule=\"evenodd\" fill-opacity=\"1\" /><path clip-path=\"url(#clip390)\" d=\"M740.625 1522.92 L744.884 1522.92 L744.884 1548.85 L740.625 1548.85 L740.625 1522.92 M740.625 1512.83 L744.884 1512.83 L744.884 1518.22 L740.625 1518.22 L740.625 1512.83 Z\" fill=\"#000000\" fill-rule=\"evenodd\" fill-opacity=\"1\" /><path clip-path=\"url(#clip390)\" d=\"M770.856 1535.58 Q770.856 1530.95 768.935 1528.41 Q767.036 1525.86 763.587 1525.86 Q760.162 1525.86 758.24 1528.41 Q756.342 1530.95 756.342 1535.58 Q756.342 1540.19 758.24 1542.74 Q760.162 1545.28 763.587 1545.28 Q767.036 1545.28 768.935 1542.74 Q770.856 1540.19 770.856 1535.58 M775.115 1545.63 Q775.115 1552.25 772.175 1555.47 Q769.236 1558.71 763.171 1558.71 Q760.925 1558.71 758.935 1558.36 Q756.944 1558.04 755.069 1557.34 L755.069 1553.2 Q756.944 1554.22 758.773 1554.7 Q760.601 1555.19 762.499 1555.19 Q766.689 1555.19 768.773 1552.99 Q770.856 1550.82 770.856 1546.39 L770.856 1544.29 Q769.536 1546.58 767.476 1547.71 Q765.416 1548.85 762.546 1548.85 Q757.777 1548.85 754.861 1545.21 Q751.944 1541.58 751.944 1535.58 Q751.944 1529.57 754.861 1525.93 Q757.777 1522.3 762.546 1522.3 Q765.416 1522.3 767.476 1523.43 Q769.536 1524.57 770.856 1526.86 L770.856 1522.92 L775.115 1522.92 L775.115 1545.63 Z\" fill=\"#000000\" fill-rule=\"evenodd\" fill-opacity=\"1\" /><path clip-path=\"url(#clip390)\" d=\"M800.948 1526.86 L800.948 1512.83 L805.208 1512.83 L805.208 1548.85 L800.948 1548.85 L800.948 1544.96 Q799.606 1547.27 797.546 1548.41 Q795.509 1549.52 792.638 1549.52 Q787.939 1549.52 784.976 1545.77 Q782.036 1542.02 782.036 1535.91 Q782.036 1529.8 784.976 1526.05 Q787.939 1522.3 792.638 1522.3 Q795.509 1522.3 797.546 1523.43 Q799.606 1524.54 800.948 1526.86 M786.435 1535.91 Q786.435 1540.61 788.356 1543.29 Q790.3 1545.95 793.68 1545.95 Q797.059 1545.95 799.004 1543.29 Q800.948 1540.61 800.948 1535.91 Q800.948 1531.21 799.004 1528.55 Q797.059 1525.86 793.68 1525.86 Q790.3 1525.86 788.356 1528.55 Q786.435 1531.21 786.435 1535.91 Z\" fill=\"#000000\" fill-rule=\"evenodd\" fill-opacity=\"1\" /><path clip-path=\"url(#clip390)\" d=\"M827.106 1512.83 L827.106 1516.37 L823.032 1516.37 Q820.74 1516.37 819.837 1517.3 Q818.957 1518.22 818.957 1520.63 L818.957 1522.92 L825.971 1522.92 L825.971 1526.23 L818.957 1526.23 L818.957 1548.85 L814.675 1548.85 L814.675 1526.23 L810.601 1526.23 L810.601 1522.92 L814.675 1522.92 L814.675 1521.12 Q814.675 1516.79 816.689 1514.82 Q818.703 1512.83 823.078 1512.83 L827.106 1512.83 Z\" fill=\"#000000\" fill-rule=\"evenodd\" fill-opacity=\"1\" /><path clip-path=\"url(#clip390)\" d=\"M827.823 1542.97 L832.707 1542.97 L832.707 1548.85 L827.823 1548.85 L827.823 1542.97 Z\" fill=\"#000000\" fill-rule=\"evenodd\" fill-opacity=\"1\" /><path clip-path=\"url(#clip390)\" d=\"M842.291 1522.92 L846.55 1522.92 L846.55 1549.31 Q846.55 1554.26 844.652 1556.49 Q842.777 1558.71 838.587 1558.71 L836.967 1558.71 L836.967 1555.1 L838.101 1555.1 Q840.531 1555.1 841.411 1553.96 Q842.291 1552.85 842.291 1549.31 L842.291 1522.92 M842.291 1512.83 L846.55 1512.83 L846.55 1518.22 L842.291 1518.22 L842.291 1512.83 Z\" fill=\"#000000\" fill-rule=\"evenodd\" fill-opacity=\"1\" /><path clip-path=\"url(#clip390)\" d=\"M872.522 1526.86 L872.522 1512.83 L876.781 1512.83 L876.781 1548.85 L872.522 1548.85 L872.522 1544.96 Q871.179 1547.27 869.119 1548.41 Q867.082 1549.52 864.212 1549.52 Q859.513 1549.52 856.55 1545.77 Q853.61 1542.02 853.61 1535.91 Q853.61 1529.8 856.55 1526.05 Q859.513 1522.3 864.212 1522.3 Q867.082 1522.3 869.119 1523.43 Q871.179 1524.54 872.522 1526.86 M858.008 1535.91 Q858.008 1540.61 859.929 1543.29 Q861.874 1545.95 865.254 1545.95 Q868.633 1545.95 870.578 1543.29 Q872.522 1540.61 872.522 1535.91 Q872.522 1531.21 870.578 1528.55 Q868.633 1525.86 865.254 1525.86 Q861.874 1525.86 859.929 1528.55 Q858.008 1531.21 858.008 1535.91 Z\" fill=\"#000000\" fill-rule=\"evenodd\" fill-opacity=\"1\" /><path clip-path=\"url(#clip390)\" d=\"M898.679 1512.83 L898.679 1516.37 L894.605 1516.37 Q892.314 1516.37 891.411 1517.3 Q890.531 1518.22 890.531 1520.63 L890.531 1522.92 L897.545 1522.92 L897.545 1526.23 L890.531 1526.23 L890.531 1548.85 L886.249 1548.85 L886.249 1526.23 L882.175 1526.23 L882.175 1522.92 L886.249 1522.92 L886.249 1521.12 Q886.249 1516.79 888.263 1514.82 Q890.277 1512.83 894.652 1512.83 L898.679 1512.83 Z\" fill=\"#000000\" fill-rule=\"evenodd\" fill-opacity=\"1\" /><path clip-path=\"url(#clip390)\" d=\"M1050.3 1535.91 Q1050.3 1531.21 1048.35 1528.55 Q1046.43 1525.86 1043.05 1525.86 Q1039.67 1525.86 1037.73 1528.55 Q1035.8 1531.21 1035.8 1535.91 Q1035.8 1540.61 1037.73 1543.29 Q1039.67 1545.95 1043.05 1545.95 Q1046.43 1545.95 1048.35 1543.29 Q1050.3 1540.61 1050.3 1535.91 M1035.8 1526.86 Q1037.15 1524.54 1039.18 1523.43 Q1041.24 1522.3 1044.09 1522.3 Q1048.81 1522.3 1051.75 1526.05 Q1054.72 1529.8 1054.72 1535.91 Q1054.72 1542.02 1051.75 1545.77 Q1048.81 1549.52 1044.09 1549.52 Q1041.24 1549.52 1039.18 1548.41 Q1037.15 1547.27 1035.8 1544.96 L1035.8 1548.85 L1031.52 1548.85 L1031.52 1512.83 L1035.8 1512.83 L1035.8 1526.86 Z\" fill=\"#000000\" fill-rule=\"evenodd\" fill-opacity=\"1\" /><path clip-path=\"url(#clip390)\" d=\"M1061.78 1522.92 L1066.04 1522.92 L1066.04 1548.85 L1061.78 1548.85 L1061.78 1522.92 M1061.78 1512.83 L1066.04 1512.83 L1066.04 1518.22 L1061.78 1518.22 L1061.78 1512.83 Z\" fill=\"#000000\" fill-rule=\"evenodd\" fill-opacity=\"1\" /><path clip-path=\"url(#clip390)\" d=\"M1092.01 1535.58 Q1092.01 1530.95 1090.09 1528.41 Q1088.19 1525.86 1084.74 1525.86 Q1081.31 1525.86 1079.39 1528.41 Q1077.49 1530.95 1077.49 1535.58 Q1077.49 1540.19 1079.39 1542.74 Q1081.31 1545.28 1084.74 1545.28 Q1088.19 1545.28 1090.09 1542.74 Q1092.01 1540.19 1092.01 1535.58 M1096.27 1545.63 Q1096.27 1552.25 1093.33 1555.47 Q1090.39 1558.71 1084.32 1558.71 Q1082.08 1558.71 1080.09 1558.36 Q1078.1 1558.04 1076.22 1557.34 L1076.22 1553.2 Q1078.1 1554.22 1079.92 1554.7 Q1081.75 1555.19 1083.65 1555.19 Q1087.84 1555.19 1089.92 1552.99 Q1092.01 1550.82 1092.01 1546.39 L1092.01 1544.29 Q1090.69 1546.58 1088.63 1547.71 Q1086.57 1548.85 1083.7 1548.85 Q1078.93 1548.85 1076.01 1545.21 Q1073.1 1541.58 1073.1 1535.58 Q1073.1 1529.57 1076.01 1525.93 Q1078.93 1522.3 1083.7 1522.3 Q1086.57 1522.3 1088.63 1523.43 Q1090.69 1524.57 1092.01 1526.86 L1092.01 1522.92 L1096.27 1522.92 L1096.27 1545.63 Z\" fill=\"#000000\" fill-rule=\"evenodd\" fill-opacity=\"1\" /><path clip-path=\"url(#clip390)\" d=\"M1122.1 1526.86 L1122.1 1512.83 L1126.36 1512.83 L1126.36 1548.85 L1122.1 1548.85 L1122.1 1544.96 Q1120.76 1547.27 1118.7 1548.41 Q1116.66 1549.52 1113.79 1549.52 Q1109.09 1549.52 1106.13 1545.77 Q1103.19 1542.02 1103.19 1535.91 Q1103.19 1529.8 1106.13 1526.05 Q1109.09 1522.3 1113.79 1522.3 Q1116.66 1522.3 1118.7 1523.43 Q1120.76 1524.54 1122.1 1526.86 M1107.59 1535.91 Q1107.59 1540.61 1109.51 1543.29 Q1111.45 1545.95 1114.83 1545.95 Q1118.21 1545.95 1120.16 1543.29 Q1122.1 1540.61 1122.1 1535.91 Q1122.1 1531.21 1120.16 1528.55 Q1118.21 1525.86 1114.83 1525.86 Q1111.45 1525.86 1109.51 1528.55 Q1107.59 1531.21 1107.59 1535.91 Z\" fill=\"#000000\" fill-rule=\"evenodd\" fill-opacity=\"1\" /><path clip-path=\"url(#clip390)\" d=\"M1148.26 1512.83 L1148.26 1516.37 L1144.18 1516.37 Q1141.89 1516.37 1140.99 1517.3 Q1140.11 1518.22 1140.11 1520.63 L1140.11 1522.92 L1147.12 1522.92 L1147.12 1526.23 L1140.11 1526.23 L1140.11 1548.85 L1135.83 1548.85 L1135.83 1526.23 L1131.75 1526.23 L1131.75 1522.92 L1135.83 1522.92 L1135.83 1521.12 Q1135.83 1516.79 1137.84 1514.82 Q1139.86 1512.83 1144.23 1512.83 L1148.26 1512.83 Z\" fill=\"#000000\" fill-rule=\"evenodd\" fill-opacity=\"1\" /><path clip-path=\"url(#clip390)\" d=\"M1148.98 1542.97 L1153.86 1542.97 L1153.86 1548.85 L1148.98 1548.85 L1148.98 1542.97 Z\" fill=\"#000000\" fill-rule=\"evenodd\" fill-opacity=\"1\" /><path clip-path=\"url(#clip390)\" d=\"M1182.05 1535.91 Q1182.05 1531.21 1180.11 1528.55 Q1178.19 1525.86 1174.81 1525.86 Q1171.43 1525.86 1169.48 1528.55 Q1167.56 1531.21 1167.56 1535.91 Q1167.56 1540.61 1169.48 1543.29 Q1171.43 1545.95 1174.81 1545.95 Q1178.19 1545.95 1180.11 1543.29 Q1182.05 1540.61 1182.05 1535.91 M1167.56 1526.86 Q1168.91 1524.54 1170.94 1523.43 Q1173 1522.3 1175.85 1522.3 Q1180.57 1522.3 1183.51 1526.05 Q1186.48 1529.8 1186.48 1535.91 Q1186.48 1542.02 1183.51 1545.77 Q1180.57 1549.52 1175.85 1549.52 Q1173 1549.52 1170.94 1548.41 Q1168.91 1547.27 1167.56 1544.96 L1167.56 1548.85 L1163.28 1548.85 L1163.28 1512.83 L1167.56 1512.83 L1167.56 1526.86 Z\" fill=\"#000000\" fill-rule=\"evenodd\" fill-opacity=\"1\" /><path clip-path=\"url(#clip390)\" d=\"M1193.54 1522.92 L1197.79 1522.92 L1197.79 1548.85 L1193.54 1548.85 L1193.54 1522.92 M1193.54 1512.83 L1197.79 1512.83 L1197.79 1518.22 L1193.54 1518.22 L1193.54 1512.83 Z\" fill=\"#000000\" fill-rule=\"evenodd\" fill-opacity=\"1\" /><path clip-path=\"url(#clip390)\" d=\"M1228.26 1533.2 L1228.26 1548.85 L1224 1548.85 L1224 1533.34 Q1224 1529.66 1222.56 1527.83 Q1221.13 1526 1218.26 1526 Q1214.81 1526 1212.82 1528.2 Q1210.83 1530.4 1210.83 1534.2 L1210.83 1548.85 L1206.54 1548.85 L1206.54 1522.92 L1210.83 1522.92 L1210.83 1526.95 Q1212.35 1524.61 1214.41 1523.45 Q1216.5 1522.3 1219.21 1522.3 Q1223.67 1522.3 1225.97 1525.07 Q1228.26 1527.83 1228.26 1533.2 Z\" fill=\"#000000\" fill-rule=\"evenodd\" fill-opacity=\"1\" /><path clip-path=\"url(#clip390)\" d=\"M1354.79 1535.91 Q1354.79 1531.21 1352.85 1528.55 Q1350.93 1525.86 1347.55 1525.86 Q1344.17 1525.86 1342.22 1528.55 Q1340.3 1531.21 1340.3 1535.91 Q1340.3 1540.61 1342.22 1543.29 Q1344.17 1545.95 1347.55 1545.95 Q1350.93 1545.95 1352.85 1543.29 Q1354.79 1540.61 1354.79 1535.91 M1340.3 1526.86 Q1341.64 1524.54 1343.68 1523.43 Q1345.74 1522.3 1348.59 1522.3 Q1353.31 1522.3 1356.25 1526.05 Q1359.21 1529.8 1359.21 1535.91 Q1359.21 1542.02 1356.25 1545.77 Q1353.31 1549.52 1348.59 1549.52 Q1345.74 1549.52 1343.68 1548.41 Q1341.64 1547.27 1340.3 1544.96 L1340.3 1548.85 L1336.02 1548.85 L1336.02 1512.83 L1340.3 1512.83 L1340.3 1526.86 Z\" fill=\"#000000\" fill-rule=\"evenodd\" fill-opacity=\"1\" /><path clip-path=\"url(#clip390)\" d=\"M1366.27 1522.92 L1370.53 1522.92 L1370.53 1548.85 L1366.27 1548.85 L1366.27 1522.92 M1366.27 1512.83 L1370.53 1512.83 L1370.53 1518.22 L1366.27 1518.22 L1366.27 1512.83 Z\" fill=\"#000000\" fill-rule=\"evenodd\" fill-opacity=\"1\" /><path clip-path=\"url(#clip390)\" d=\"M1396.51 1535.58 Q1396.51 1530.95 1394.58 1528.41 Q1392.69 1525.86 1389.24 1525.86 Q1385.81 1525.86 1383.89 1528.41 Q1381.99 1530.95 1381.99 1535.58 Q1381.99 1540.19 1383.89 1542.74 Q1385.81 1545.28 1389.24 1545.28 Q1392.69 1545.28 1394.58 1542.74 Q1396.51 1540.19 1396.51 1535.58 M1400.76 1545.63 Q1400.76 1552.25 1397.83 1555.47 Q1394.89 1558.71 1388.82 1558.71 Q1386.58 1558.71 1384.58 1558.36 Q1382.59 1558.04 1380.72 1557.34 L1380.72 1553.2 Q1382.59 1554.22 1384.42 1554.7 Q1386.25 1555.19 1388.15 1555.19 Q1392.34 1555.19 1394.42 1552.99 Q1396.51 1550.82 1396.51 1546.39 L1396.51 1544.29 Q1395.19 1546.58 1393.13 1547.71 Q1391.07 1548.85 1388.2 1548.85 Q1383.43 1548.85 1380.51 1545.21 Q1377.59 1541.58 1377.59 1535.58 Q1377.59 1529.57 1380.51 1525.93 Q1383.43 1522.3 1388.2 1522.3 Q1391.07 1522.3 1393.13 1523.43 Q1395.19 1524.57 1396.51 1526.86 L1396.51 1522.92 L1400.76 1522.92 L1400.76 1545.63 Z\" fill=\"#000000\" fill-rule=\"evenodd\" fill-opacity=\"1\" /><path clip-path=\"url(#clip390)\" d=\"M1426.6 1526.86 L1426.6 1512.83 L1430.86 1512.83 L1430.86 1548.85 L1426.6 1548.85 L1426.6 1544.96 Q1425.26 1547.27 1423.2 1548.41 Q1421.16 1549.52 1418.29 1549.52 Q1413.59 1549.52 1410.63 1545.77 Q1407.69 1542.02 1407.69 1535.91 Q1407.69 1529.8 1410.63 1526.05 Q1413.59 1522.3 1418.29 1522.3 Q1421.16 1522.3 1423.2 1523.43 Q1425.26 1524.54 1426.6 1526.86 M1412.08 1535.91 Q1412.08 1540.61 1414.01 1543.29 Q1415.95 1545.95 1419.33 1545.95 Q1422.71 1545.95 1424.65 1543.29 Q1426.6 1540.61 1426.6 1535.91 Q1426.6 1531.21 1424.65 1528.55 Q1422.71 1525.86 1419.33 1525.86 Q1415.95 1525.86 1414.01 1528.55 Q1412.08 1531.21 1412.08 1535.91 Z\" fill=\"#000000\" fill-rule=\"evenodd\" fill-opacity=\"1\" /><path clip-path=\"url(#clip390)\" d=\"M1452.76 1512.83 L1452.76 1516.37 L1448.68 1516.37 Q1446.39 1516.37 1445.49 1517.3 Q1444.61 1518.22 1444.61 1520.63 L1444.61 1522.92 L1451.62 1522.92 L1451.62 1526.23 L1444.61 1526.23 L1444.61 1548.85 L1440.32 1548.85 L1440.32 1526.23 L1436.25 1526.23 L1436.25 1522.92 L1440.32 1522.92 L1440.32 1521.12 Q1440.32 1516.79 1442.34 1514.82 Q1444.35 1512.83 1448.73 1512.83 L1452.76 1512.83 Z\" fill=\"#000000\" fill-rule=\"evenodd\" fill-opacity=\"1\" /><path clip-path=\"url(#clip390)\" d=\"M1457.73 1544.91 L1465.37 1544.91 L1465.37 1518.55 L1457.06 1520.21 L1457.06 1515.95 L1465.32 1514.29 L1470 1514.29 L1470 1544.91 L1477.64 1544.91 L1477.64 1548.85 L1457.73 1548.85 L1457.73 1544.91 Z\" fill=\"#000000\" fill-rule=\"evenodd\" fill-opacity=\"1\" /><path clip-path=\"url(#clip390)\" d=\"M1487.08 1542.97 L1491.97 1542.97 L1491.97 1548.85 L1487.08 1548.85 L1487.08 1542.97 Z\" fill=\"#000000\" fill-rule=\"evenodd\" fill-opacity=\"1\" /><path clip-path=\"url(#clip390)\" d=\"M1520.21 1523.92 L1520.21 1527.9 Q1518.4 1526.9 1516.57 1526.42 Q1514.77 1525.91 1512.92 1525.91 Q1508.77 1525.91 1506.48 1528.55 Q1504.19 1531.16 1504.19 1535.91 Q1504.19 1540.65 1506.48 1543.29 Q1508.77 1545.91 1512.92 1545.91 Q1514.77 1545.91 1516.57 1545.42 Q1518.4 1544.91 1520.21 1543.92 L1520.21 1547.85 Q1518.43 1548.69 1516.5 1549.1 Q1514.61 1549.52 1512.45 1549.52 Q1506.6 1549.52 1503.15 1545.84 Q1499.7 1542.16 1499.7 1535.91 Q1499.7 1529.57 1503.17 1525.93 Q1506.67 1522.3 1512.73 1522.3 Q1514.7 1522.3 1516.57 1522.71 Q1518.45 1523.11 1520.21 1523.92 Z\" fill=\"#000000\" fill-rule=\"evenodd\" fill-opacity=\"1\" /><path clip-path=\"url(#clip390)\" d=\"M1544.14 1523.69 L1544.14 1527.71 Q1542.34 1526.79 1540.39 1526.32 Q1538.45 1525.86 1536.37 1525.86 Q1533.19 1525.86 1531.6 1526.83 Q1530.02 1527.81 1530.02 1529.75 Q1530.02 1531.23 1531.16 1532.09 Q1532.29 1532.92 1535.72 1533.69 L1537.18 1534.01 Q1541.71 1534.98 1543.61 1536.76 Q1545.53 1538.52 1545.53 1541.7 Q1545.53 1545.31 1542.66 1547.41 Q1539.82 1549.52 1534.82 1549.52 Q1532.73 1549.52 1530.46 1549.1 Q1528.22 1548.71 1525.72 1547.9 L1525.72 1543.5 Q1528.08 1544.73 1530.37 1545.35 Q1532.66 1545.95 1534.91 1545.95 Q1537.92 1545.95 1539.54 1544.94 Q1541.16 1543.89 1541.16 1542.02 Q1541.16 1540.28 1539.98 1539.36 Q1538.82 1538.43 1534.86 1537.57 L1533.38 1537.23 Q1529.42 1536.39 1527.66 1534.68 Q1525.9 1532.95 1525.9 1529.94 Q1525.9 1526.28 1528.5 1524.29 Q1531.09 1522.3 1535.86 1522.3 Q1538.22 1522.3 1540.3 1522.64 Q1542.38 1522.99 1544.14 1523.69 Z\" fill=\"#000000\" fill-rule=\"evenodd\" fill-opacity=\"1\" /><path clip-path=\"url(#clip390)\" d=\"M1549.26 1522.92 L1553.77 1522.92 L1561.88 1544.68 L1569.98 1522.92 L1574.49 1522.92 L1564.77 1548.85 L1558.98 1548.85 L1549.26 1522.92 Z\" fill=\"#000000\" fill-rule=\"evenodd\" fill-opacity=\"1\" /><path clip-path=\"url(#clip390)\" d=\"M1672.42 1535.91 Q1672.42 1531.21 1670.47 1528.55 Q1668.55 1525.86 1665.17 1525.86 Q1661.79 1525.86 1659.85 1528.55 Q1657.92 1531.21 1657.92 1535.91 Q1657.92 1540.61 1659.85 1543.29 Q1661.79 1545.95 1665.17 1545.95 Q1668.55 1545.95 1670.47 1543.29 Q1672.42 1540.61 1672.42 1535.91 M1657.92 1526.86 Q1659.27 1524.54 1661.3 1523.43 Q1663.36 1522.3 1666.21 1522.3 Q1670.93 1522.3 1673.87 1526.05 Q1676.84 1529.8 1676.84 1535.91 Q1676.84 1542.02 1673.87 1545.77 Q1670.93 1549.52 1666.21 1549.52 Q1663.36 1549.52 1661.3 1548.41 Q1659.27 1547.27 1657.92 1544.96 L1657.92 1548.85 L1653.64 1548.85 L1653.64 1512.83 L1657.92 1512.83 L1657.92 1526.86 Z\" fill=\"#000000\" fill-rule=\"evenodd\" fill-opacity=\"1\" /><path clip-path=\"url(#clip390)\" d=\"M1683.9 1522.92 L1688.16 1522.92 L1688.16 1548.85 L1683.9 1548.85 L1683.9 1522.92 M1683.9 1512.83 L1688.16 1512.83 L1688.16 1518.22 L1683.9 1518.22 L1683.9 1512.83 Z\" fill=\"#000000\" fill-rule=\"evenodd\" fill-opacity=\"1\" /><path clip-path=\"url(#clip390)\" d=\"M1714.13 1535.58 Q1714.13 1530.95 1712.21 1528.41 Q1710.31 1525.86 1706.86 1525.86 Q1703.43 1525.86 1701.51 1528.41 Q1699.61 1530.95 1699.61 1535.58 Q1699.61 1540.19 1701.51 1542.74 Q1703.43 1545.28 1706.86 1545.28 Q1710.31 1545.28 1712.21 1542.74 Q1714.13 1540.19 1714.13 1535.58 M1718.39 1545.63 Q1718.39 1552.25 1715.45 1555.47 Q1712.51 1558.71 1706.44 1558.71 Q1704.2 1558.71 1702.21 1558.36 Q1700.22 1558.04 1698.34 1557.34 L1698.34 1553.2 Q1700.22 1554.22 1702.04 1554.7 Q1703.87 1555.19 1705.77 1555.19 Q1709.96 1555.19 1712.04 1552.99 Q1714.13 1550.82 1714.13 1546.39 L1714.13 1544.29 Q1712.81 1546.58 1710.75 1547.71 Q1708.69 1548.85 1705.82 1548.85 Q1701.05 1548.85 1698.13 1545.21 Q1695.22 1541.58 1695.22 1535.58 Q1695.22 1529.57 1698.13 1525.93 Q1701.05 1522.3 1705.82 1522.3 Q1708.69 1522.3 1710.75 1523.43 Q1712.81 1524.57 1714.13 1526.86 L1714.13 1522.92 L1718.39 1522.92 L1718.39 1545.63 Z\" fill=\"#000000\" fill-rule=\"evenodd\" fill-opacity=\"1\" /><path clip-path=\"url(#clip390)\" d=\"M1744.22 1526.86 L1744.22 1512.83 L1748.48 1512.83 L1748.48 1548.85 L1744.22 1548.85 L1744.22 1544.96 Q1742.88 1547.27 1740.82 1548.41 Q1738.78 1549.52 1735.91 1549.52 Q1731.21 1549.52 1728.25 1545.77 Q1725.31 1542.02 1725.31 1535.91 Q1725.31 1529.8 1728.25 1526.05 Q1731.21 1522.3 1735.91 1522.3 Q1738.78 1522.3 1740.82 1523.43 Q1742.88 1524.54 1744.22 1526.86 M1729.71 1535.91 Q1729.71 1540.61 1731.63 1543.29 Q1733.57 1545.95 1736.95 1545.95 Q1740.33 1545.95 1742.28 1543.29 Q1744.22 1540.61 1744.22 1535.91 Q1744.22 1531.21 1742.28 1528.55 Q1740.33 1525.86 1736.95 1525.86 Q1733.57 1525.86 1731.63 1528.55 Q1729.71 1531.21 1729.71 1535.91 Z\" fill=\"#000000\" fill-rule=\"evenodd\" fill-opacity=\"1\" /><path clip-path=\"url(#clip390)\" d=\"M1770.38 1512.83 L1770.38 1516.37 L1766.3 1516.37 Q1764.01 1516.37 1763.11 1517.3 Q1762.23 1518.22 1762.23 1520.63 L1762.23 1522.92 L1769.24 1522.92 L1769.24 1526.23 L1762.23 1526.23 L1762.23 1548.85 L1757.95 1548.85 L1757.95 1526.23 L1753.87 1526.23 L1753.87 1522.92 L1757.95 1522.92 L1757.95 1521.12 Q1757.95 1516.79 1759.96 1514.82 Q1761.97 1512.83 1766.35 1512.83 L1770.38 1512.83 Z\" fill=\"#000000\" fill-rule=\"evenodd\" fill-opacity=\"1\" /><path clip-path=\"url(#clip390)\" d=\"M1778.57 1544.91 L1794.89 1544.91 L1794.89 1548.85 L1772.95 1548.85 L1772.95 1544.91 Q1775.61 1542.16 1780.19 1537.53 Q1784.8 1532.88 1785.98 1531.53 Q1788.22 1529.01 1789.1 1527.27 Q1790.01 1525.51 1790.01 1523.82 Q1790.01 1521.07 1788.06 1519.33 Q1786.14 1517.6 1783.04 1517.6 Q1780.84 1517.6 1778.39 1518.36 Q1775.96 1519.13 1773.18 1520.68 L1773.18 1515.95 Q1776 1514.82 1778.46 1514.24 Q1780.91 1513.66 1782.95 1513.66 Q1788.32 1513.66 1791.51 1516.35 Q1794.71 1519.03 1794.71 1523.52 Q1794.71 1525.65 1793.9 1527.57 Q1793.11 1529.47 1791 1532.07 Q1790.42 1532.74 1787.32 1535.95 Q1784.22 1539.15 1778.57 1544.91 Z\" fill=\"#000000\" fill-rule=\"evenodd\" fill-opacity=\"1\" /><path clip-path=\"url(#clip390)\" d=\"M1804.71 1542.97 L1809.59 1542.97 L1809.59 1548.85 L1804.71 1548.85 L1804.71 1542.97 Z\" fill=\"#000000\" fill-rule=\"evenodd\" fill-opacity=\"1\" /><path clip-path=\"url(#clip390)\" d=\"M1819.17 1522.92 L1823.43 1522.92 L1823.43 1549.31 Q1823.43 1554.26 1821.53 1556.49 Q1819.66 1558.71 1815.47 1558.71 L1813.85 1558.71 L1813.85 1555.1 L1814.98 1555.1 Q1817.41 1555.1 1818.29 1553.96 Q1819.17 1552.85 1819.17 1549.31 L1819.17 1522.92 M1819.17 1512.83 L1823.43 1512.83 L1823.43 1518.22 L1819.17 1518.22 L1819.17 1512.83 Z\" fill=\"#000000\" fill-rule=\"evenodd\" fill-opacity=\"1\" /><path clip-path=\"url(#clip390)\" d=\"M1848.87 1523.69 L1848.87 1527.71 Q1847.07 1526.79 1845.12 1526.32 Q1843.18 1525.86 1841.09 1525.86 Q1837.92 1525.86 1836.33 1526.83 Q1834.75 1527.81 1834.75 1529.75 Q1834.75 1531.23 1835.89 1532.09 Q1837.02 1532.92 1840.45 1533.69 L1841.9 1534.01 Q1846.44 1534.98 1848.34 1536.76 Q1850.26 1538.52 1850.26 1541.7 Q1850.26 1545.31 1847.39 1547.41 Q1844.54 1549.52 1839.54 1549.52 Q1837.46 1549.52 1835.19 1549.1 Q1832.95 1548.71 1830.45 1547.9 L1830.45 1543.5 Q1832.81 1544.73 1835.1 1545.35 Q1837.39 1545.95 1839.64 1545.95 Q1842.65 1545.95 1844.27 1544.94 Q1845.89 1543.89 1845.89 1542.02 Q1845.89 1540.28 1844.71 1539.36 Q1843.55 1538.43 1839.59 1537.57 L1838.11 1537.23 Q1834.15 1536.39 1832.39 1534.68 Q1830.63 1532.95 1830.63 1529.94 Q1830.63 1526.28 1833.22 1524.29 Q1835.82 1522.3 1840.59 1522.3 Q1842.95 1522.3 1845.03 1522.64 Q1847.11 1522.99 1848.87 1523.69 Z\" fill=\"#000000\" fill-rule=\"evenodd\" fill-opacity=\"1\" /><path clip-path=\"url(#clip390)\" d=\"M1867.09 1525.91 Q1863.66 1525.91 1861.67 1528.59 Q1859.68 1531.26 1859.68 1535.91 Q1859.68 1540.56 1861.65 1543.25 Q1863.64 1545.91 1867.09 1545.91 Q1870.49 1545.91 1872.48 1543.22 Q1874.47 1540.54 1874.47 1535.91 Q1874.47 1531.3 1872.48 1528.62 Q1870.49 1525.91 1867.09 1525.91 M1867.09 1522.3 Q1872.65 1522.3 1875.82 1525.91 Q1878.99 1529.52 1878.99 1535.91 Q1878.99 1542.27 1875.82 1545.91 Q1872.65 1549.52 1867.09 1549.52 Q1861.51 1549.52 1858.34 1545.91 Q1855.19 1542.27 1855.19 1535.91 Q1855.19 1529.52 1858.34 1525.91 Q1861.51 1522.3 1867.09 1522.3 Z\" fill=\"#000000\" fill-rule=\"evenodd\" fill-opacity=\"1\" /><path clip-path=\"url(#clip390)\" d=\"M1907.6 1533.2 L1907.6 1548.85 L1903.34 1548.85 L1903.34 1533.34 Q1903.34 1529.66 1901.9 1527.83 Q1900.47 1526 1897.6 1526 Q1894.15 1526 1892.16 1528.2 Q1890.17 1530.4 1890.17 1534.2 L1890.17 1548.85 L1885.89 1548.85 L1885.89 1522.92 L1890.17 1522.92 L1890.17 1526.95 Q1891.7 1524.61 1893.76 1523.45 Q1895.84 1522.3 1898.55 1522.3 Q1903.02 1522.3 1905.31 1525.07 Q1907.6 1527.83 1907.6 1533.2 Z\" fill=\"#000000\" fill-rule=\"evenodd\" fill-opacity=\"1\" /><path clip-path=\"url(#clip390)\" d=\"M1997.78 1535.91 Q1997.78 1531.21 1995.84 1528.55 Q1993.91 1525.86 1990.54 1525.86 Q1987.16 1525.86 1985.21 1528.55 Q1983.29 1531.21 1983.29 1535.91 Q1983.29 1540.61 1985.21 1543.29 Q1987.16 1545.95 1990.54 1545.95 Q1993.91 1545.95 1995.84 1543.29 Q1997.78 1540.61 1997.78 1535.91 M1983.29 1526.86 Q1984.63 1524.54 1986.67 1523.43 Q1988.73 1522.3 1991.58 1522.3 Q1996.3 1522.3 1999.24 1526.05 Q2002.2 1529.8 2002.2 1535.91 Q2002.2 1542.02 1999.24 1545.77 Q1996.3 1549.52 1991.58 1549.52 Q1988.73 1549.52 1986.67 1548.41 Q1984.63 1547.27 1983.29 1544.96 L1983.29 1548.85 L1979.01 1548.85 L1979.01 1512.83 L1983.29 1512.83 L1983.29 1526.86 Z\" fill=\"#000000\" fill-rule=\"evenodd\" fill-opacity=\"1\" /><path clip-path=\"url(#clip390)\" d=\"M2009.26 1522.92 L2013.52 1522.92 L2013.52 1548.85 L2009.26 1548.85 L2009.26 1522.92 M2009.26 1512.83 L2013.52 1512.83 L2013.52 1518.22 L2009.26 1518.22 L2009.26 1512.83 Z\" fill=\"#000000\" fill-rule=\"evenodd\" fill-opacity=\"1\" /><path clip-path=\"url(#clip390)\" d=\"M2039.49 1535.58 Q2039.49 1530.95 2037.57 1528.41 Q2035.67 1525.86 2032.22 1525.86 Q2028.8 1525.86 2026.88 1528.41 Q2024.98 1530.95 2024.98 1535.58 Q2024.98 1540.19 2026.88 1542.74 Q2028.8 1545.28 2032.22 1545.28 Q2035.67 1545.28 2037.57 1542.74 Q2039.49 1540.19 2039.49 1535.58 M2043.75 1545.63 Q2043.75 1552.25 2040.81 1555.47 Q2037.87 1558.71 2031.81 1558.71 Q2029.56 1558.71 2027.57 1558.36 Q2025.58 1558.04 2023.71 1557.34 L2023.71 1553.2 Q2025.58 1554.22 2027.41 1554.7 Q2029.24 1555.19 2031.14 1555.19 Q2035.33 1555.19 2037.41 1552.99 Q2039.49 1550.82 2039.49 1546.39 L2039.49 1544.29 Q2038.17 1546.58 2036.11 1547.71 Q2034.05 1548.85 2031.18 1548.85 Q2026.41 1548.85 2023.5 1545.21 Q2020.58 1541.58 2020.58 1535.58 Q2020.58 1529.57 2023.5 1525.93 Q2026.41 1522.3 2031.18 1522.3 Q2034.05 1522.3 2036.11 1523.43 Q2038.17 1524.57 2039.49 1526.86 L2039.49 1522.92 L2043.75 1522.92 L2043.75 1545.63 Z\" fill=\"#000000\" fill-rule=\"evenodd\" fill-opacity=\"1\" /><path clip-path=\"url(#clip390)\" d=\"M2069.59 1526.86 L2069.59 1512.83 L2073.84 1512.83 L2073.84 1548.85 L2069.59 1548.85 L2069.59 1544.96 Q2068.24 1547.27 2066.18 1548.41 Q2064.15 1549.52 2061.28 1549.52 Q2056.58 1549.52 2053.61 1545.77 Q2050.67 1542.02 2050.67 1535.91 Q2050.67 1529.8 2053.61 1526.05 Q2056.58 1522.3 2061.28 1522.3 Q2064.15 1522.3 2066.18 1523.43 Q2068.24 1524.54 2069.59 1526.86 M2055.07 1535.91 Q2055.07 1540.61 2056.99 1543.29 Q2058.94 1545.95 2062.32 1545.95 Q2065.7 1545.95 2067.64 1543.29 Q2069.59 1540.61 2069.59 1535.91 Q2069.59 1531.21 2067.64 1528.55 Q2065.7 1525.86 2062.32 1525.86 Q2058.94 1525.86 2056.99 1528.55 Q2055.07 1531.21 2055.07 1535.91 Z\" fill=\"#000000\" fill-rule=\"evenodd\" fill-opacity=\"1\" /><path clip-path=\"url(#clip390)\" d=\"M2095.74 1512.83 L2095.74 1516.37 L2091.67 1516.37 Q2089.38 1516.37 2088.47 1517.3 Q2087.59 1518.22 2087.59 1520.63 L2087.59 1522.92 L2094.61 1522.92 L2094.61 1526.23 L2087.59 1526.23 L2087.59 1548.85 L2083.31 1548.85 L2083.31 1526.23 L2079.24 1526.23 L2079.24 1522.92 L2083.31 1522.92 L2083.31 1521.12 Q2083.31 1516.79 2085.33 1514.82 Q2087.34 1512.83 2091.72 1512.83 L2095.74 1512.83 Z\" fill=\"#000000\" fill-rule=\"evenodd\" fill-opacity=\"1\" /><path clip-path=\"url(#clip390)\" d=\"M2100.72 1544.91 L2108.36 1544.91 L2108.36 1518.55 L2100.05 1520.21 L2100.05 1515.95 L2108.31 1514.29 L2112.99 1514.29 L2112.99 1544.91 L2120.63 1544.91 L2120.63 1548.85 L2100.72 1548.85 L2100.72 1544.91 Z\" fill=\"#000000\" fill-rule=\"evenodd\" fill-opacity=\"1\" /><path clip-path=\"url(#clip390)\" d=\"M2130.07 1542.97 L2134.96 1542.97 L2134.96 1548.85 L2130.07 1548.85 L2130.07 1542.97 Z\" fill=\"#000000\" fill-rule=\"evenodd\" fill-opacity=\"1\" /><path clip-path=\"url(#clip390)\" d=\"M2144.54 1522.92 L2148.8 1522.92 L2148.8 1549.31 Q2148.8 1554.26 2146.9 1556.49 Q2145.02 1558.71 2140.84 1558.71 L2139.21 1558.71 L2139.21 1555.1 L2140.35 1555.1 Q2142.78 1555.1 2143.66 1553.96 Q2144.54 1552.85 2144.54 1549.31 L2144.54 1522.92 M2144.54 1512.83 L2148.8 1512.83 L2148.8 1518.22 L2144.54 1518.22 L2144.54 1512.83 Z\" fill=\"#000000\" fill-rule=\"evenodd\" fill-opacity=\"1\" /><path clip-path=\"url(#clip390)\" d=\"M2174.24 1523.69 L2174.24 1527.71 Q2172.43 1526.79 2170.49 1526.32 Q2168.54 1525.86 2166.46 1525.86 Q2163.29 1525.86 2161.69 1526.83 Q2160.12 1527.81 2160.12 1529.75 Q2160.12 1531.23 2161.25 1532.09 Q2162.39 1532.92 2165.81 1533.69 L2167.27 1534.01 Q2171.81 1534.98 2173.71 1536.76 Q2175.63 1538.52 2175.63 1541.7 Q2175.63 1545.31 2172.76 1547.41 Q2169.91 1549.52 2164.91 1549.52 Q2162.83 1549.52 2160.56 1549.1 Q2158.31 1548.71 2155.81 1547.9 L2155.81 1543.5 Q2158.17 1544.73 2160.46 1545.35 Q2162.76 1545.95 2165 1545.95 Q2168.01 1545.95 2169.63 1544.94 Q2171.25 1543.89 2171.25 1542.02 Q2171.25 1540.28 2170.07 1539.36 Q2168.91 1538.43 2164.96 1537.57 L2163.47 1537.23 Q2159.52 1536.39 2157.76 1534.68 Q2156 1532.95 2156 1529.94 Q2156 1526.28 2158.59 1524.29 Q2161.18 1522.3 2165.95 1522.3 Q2168.31 1522.3 2170.4 1522.64 Q2172.48 1522.99 2174.24 1523.69 Z\" fill=\"#000000\" fill-rule=\"evenodd\" fill-opacity=\"1\" /><path clip-path=\"url(#clip390)\" d=\"M2192.46 1525.91 Q2189.03 1525.91 2187.04 1528.59 Q2185.05 1531.26 2185.05 1535.91 Q2185.05 1540.56 2187.02 1543.25 Q2189.01 1545.91 2192.46 1545.91 Q2195.86 1545.91 2197.85 1543.22 Q2199.84 1540.54 2199.84 1535.91 Q2199.84 1531.3 2197.85 1528.62 Q2195.86 1525.91 2192.46 1525.91 M2192.46 1522.3 Q2198.01 1522.3 2201.18 1525.91 Q2204.35 1529.52 2204.35 1535.91 Q2204.35 1542.27 2201.18 1545.91 Q2198.01 1549.52 2192.46 1549.52 Q2186.88 1549.52 2183.71 1545.91 Q2180.56 1542.27 2180.56 1535.91 Q2180.56 1529.52 2183.71 1525.91 Q2186.88 1522.3 2192.46 1522.3 Z\" fill=\"#000000\" fill-rule=\"evenodd\" fill-opacity=\"1\" /><path clip-path=\"url(#clip390)\" d=\"M2232.96 1533.2 L2232.96 1548.85 L2228.71 1548.85 L2228.71 1533.34 Q2228.71 1529.66 2227.27 1527.83 Q2225.83 1526 2222.96 1526 Q2219.52 1526 2217.52 1528.2 Q2215.53 1530.4 2215.53 1534.2 L2215.53 1548.85 L2211.25 1548.85 L2211.25 1522.92 L2215.53 1522.92 L2215.53 1526.95 Q2217.06 1524.61 2219.12 1523.45 Q2221.21 1522.3 2223.91 1522.3 Q2228.38 1522.3 2230.67 1525.07 Q2232.96 1527.83 2232.96 1533.2 Z\" fill=\"#000000\" fill-rule=\"evenodd\" fill-opacity=\"1\" /><polyline clip-path=\"url(#clip392)\" style=\"stroke:#000000; stroke-linecap:round; stroke-linejoin:round; stroke-width:2; stroke-opacity:0.1; fill:none\" points=\"232.389,1447.87 2352.76,1447.87 \"/>\n",
       "<polyline clip-path=\"url(#clip392)\" style=\"stroke:#000000; stroke-linecap:round; stroke-linejoin:round; stroke-width:2; stroke-opacity:0.1; fill:none\" points=\"232.389,1173.91 2352.76,1173.91 \"/>\n",
       "<polyline clip-path=\"url(#clip392)\" style=\"stroke:#000000; stroke-linecap:round; stroke-linejoin:round; stroke-width:2; stroke-opacity:0.1; fill:none\" points=\"232.389,899.956 2352.76,899.956 \"/>\n",
       "<polyline clip-path=\"url(#clip392)\" style=\"stroke:#000000; stroke-linecap:round; stroke-linejoin:round; stroke-width:2; stroke-opacity:0.1; fill:none\" points=\"232.389,625.997 2352.76,625.997 \"/>\n",
       "<polyline clip-path=\"url(#clip392)\" style=\"stroke:#000000; stroke-linecap:round; stroke-linejoin:round; stroke-width:2; stroke-opacity:0.1; fill:none\" points=\"232.389,352.039 2352.76,352.039 \"/>\n",
       "<polyline clip-path=\"url(#clip390)\" style=\"stroke:#000000; stroke-linecap:round; stroke-linejoin:round; stroke-width:4; stroke-opacity:1; fill:none\" points=\"232.389,1486.45 232.389,123.472 \"/>\n",
       "<polyline clip-path=\"url(#clip390)\" style=\"stroke:#000000; stroke-linecap:round; stroke-linejoin:round; stroke-width:4; stroke-opacity:1; fill:none\" points=\"232.389,1447.87 251.287,1447.87 \"/>\n",
       "<polyline clip-path=\"url(#clip390)\" style=\"stroke:#000000; stroke-linecap:round; stroke-linejoin:round; stroke-width:4; stroke-opacity:1; fill:none\" points=\"232.389,1173.91 251.287,1173.91 \"/>\n",
       "<polyline clip-path=\"url(#clip390)\" style=\"stroke:#000000; stroke-linecap:round; stroke-linejoin:round; stroke-width:4; stroke-opacity:1; fill:none\" points=\"232.389,899.956 251.287,899.956 \"/>\n",
       "<polyline clip-path=\"url(#clip390)\" style=\"stroke:#000000; stroke-linecap:round; stroke-linejoin:round; stroke-width:4; stroke-opacity:1; fill:none\" points=\"232.389,625.997 251.287,625.997 \"/>\n",
       "<polyline clip-path=\"url(#clip390)\" style=\"stroke:#000000; stroke-linecap:round; stroke-linejoin:round; stroke-width:4; stroke-opacity:1; fill:none\" points=\"232.389,352.039 251.287,352.039 \"/>\n",
       "<path clip-path=\"url(#clip390)\" d=\"M184.445 1433.67 Q180.834 1433.67 179.005 1437.24 Q177.2 1440.78 177.2 1447.91 Q177.2 1455.01 179.005 1458.58 Q180.834 1462.12 184.445 1462.12 Q188.079 1462.12 189.885 1458.58 Q191.713 1455.01 191.713 1447.91 Q191.713 1440.78 189.885 1437.24 Q188.079 1433.67 184.445 1433.67 M184.445 1429.97 Q190.255 1429.97 193.311 1434.57 Q196.389 1439.16 196.389 1447.91 Q196.389 1456.63 193.311 1461.24 Q190.255 1465.82 184.445 1465.82 Q178.635 1465.82 175.556 1461.24 Q172.501 1456.63 172.501 1447.91 Q172.501 1439.16 175.556 1434.57 Q178.635 1429.97 184.445 1429.97 Z\" fill=\"#000000\" fill-rule=\"evenodd\" fill-opacity=\"1\" /><path clip-path=\"url(#clip390)\" d=\"M149.306 1187.26 L165.626 1187.26 L165.626 1191.19 L143.681 1191.19 L143.681 1187.26 Q146.343 1184.5 150.927 1179.88 Q155.533 1175.22 156.714 1173.88 Q158.959 1171.36 159.839 1169.62 Q160.741 1167.86 160.741 1166.17 Q160.741 1163.42 158.797 1161.68 Q156.876 1159.94 153.774 1159.94 Q151.575 1159.94 149.121 1160.71 Q146.691 1161.47 143.913 1163.02 L143.913 1158.3 Q146.737 1157.17 149.191 1156.59 Q151.644 1156.01 153.681 1156.01 Q159.052 1156.01 162.246 1158.69 Q165.44 1161.38 165.44 1165.87 Q165.44 1168 164.63 1169.92 Q163.843 1171.82 161.737 1174.41 Q161.158 1175.08 158.056 1178.3 Q154.954 1181.5 149.306 1187.26 Z\" fill=\"#000000\" fill-rule=\"evenodd\" fill-opacity=\"1\" /><path clip-path=\"url(#clip390)\" d=\"M175.487 1156.63 L193.843 1156.63 L193.843 1160.57 L179.769 1160.57 L179.769 1169.04 Q180.788 1168.69 181.806 1168.53 Q182.825 1168.35 183.843 1168.35 Q189.63 1168.35 193.01 1171.52 Q196.389 1174.69 196.389 1180.11 Q196.389 1185.69 192.917 1188.79 Q189.445 1191.87 183.126 1191.87 Q180.95 1191.87 178.681 1191.5 Q176.436 1191.13 174.028 1190.38 L174.028 1185.69 Q176.112 1186.82 178.334 1187.38 Q180.556 1187.93 183.033 1187.93 Q187.038 1187.93 189.375 1185.82 Q191.713 1183.72 191.713 1180.11 Q191.713 1176.5 189.375 1174.39 Q187.038 1172.28 183.033 1172.28 Q181.158 1172.28 179.283 1172.7 Q177.431 1173.12 175.487 1174 L175.487 1156.63 Z\" fill=\"#000000\" fill-rule=\"evenodd\" fill-opacity=\"1\" /><path clip-path=\"url(#clip390)\" d=\"M144.329 882.676 L162.686 882.676 L162.686 886.611 L148.612 886.611 L148.612 895.083 Q149.63 894.736 150.649 894.574 Q151.667 894.389 152.686 894.389 Q158.473 894.389 161.852 897.56 Q165.232 900.731 165.232 906.148 Q165.232 911.727 161.76 914.828 Q158.288 917.907 151.968 917.907 Q149.792 917.907 147.524 917.537 Q145.279 917.166 142.871 916.426 L142.871 911.727 Q144.954 912.861 147.177 913.416 Q149.399 913.972 151.876 913.972 Q155.88 913.972 158.218 911.866 Q160.556 909.759 160.556 906.148 Q160.556 902.537 158.218 900.43 Q155.88 898.324 151.876 898.324 Q150.001 898.324 148.126 898.741 Q146.274 899.157 144.329 900.037 L144.329 882.676 Z\" fill=\"#000000\" fill-rule=\"evenodd\" fill-opacity=\"1\" /><path clip-path=\"url(#clip390)\" d=\"M184.445 885.755 Q180.834 885.755 179.005 889.319 Q177.2 892.861 177.2 899.991 Q177.2 907.097 179.005 910.662 Q180.834 914.203 184.445 914.203 Q188.079 914.203 189.885 910.662 Q191.713 907.097 191.713 899.991 Q191.713 892.861 189.885 889.319 Q188.079 885.755 184.445 885.755 M184.445 882.051 Q190.255 882.051 193.311 886.657 Q196.389 891.241 196.389 899.991 Q196.389 908.717 193.311 913.324 Q190.255 917.907 184.445 917.907 Q178.635 917.907 175.556 913.324 Q172.501 908.717 172.501 899.991 Q172.501 891.241 175.556 886.657 Q178.635 882.051 184.445 882.051 Z\" fill=\"#000000\" fill-rule=\"evenodd\" fill-opacity=\"1\" /><path clip-path=\"url(#clip390)\" d=\"M144.098 608.717 L166.32 608.717 L166.32 610.708 L153.774 643.277 L148.89 643.277 L160.695 612.652 L144.098 612.652 L144.098 608.717 Z\" fill=\"#000000\" fill-rule=\"evenodd\" fill-opacity=\"1\" /><path clip-path=\"url(#clip390)\" d=\"M175.487 608.717 L193.843 608.717 L193.843 612.652 L179.769 612.652 L179.769 621.125 Q180.788 620.777 181.806 620.615 Q182.825 620.43 183.843 620.43 Q189.63 620.43 193.01 623.601 Q196.389 626.773 196.389 632.189 Q196.389 637.768 192.917 640.87 Q189.445 643.949 183.126 643.949 Q180.95 643.949 178.681 643.578 Q176.436 643.208 174.028 642.467 L174.028 637.768 Q176.112 638.902 178.334 639.458 Q180.556 640.013 183.033 640.013 Q187.038 640.013 189.375 637.907 Q191.713 635.8 191.713 632.189 Q191.713 628.578 189.375 626.472 Q187.038 624.365 183.033 624.365 Q181.158 624.365 179.283 624.782 Q177.431 625.199 175.487 626.078 L175.487 608.717 Z\" fill=\"#000000\" fill-rule=\"evenodd\" fill-opacity=\"1\" /><path clip-path=\"url(#clip390)\" d=\"M114.931 365.384 L122.57 365.384 L122.57 339.018 L114.26 340.685 L114.26 336.425 L122.524 334.759 L127.2 334.759 L127.2 365.384 L134.839 365.384 L134.839 369.319 L114.931 369.319 L114.931 365.384 Z\" fill=\"#000000\" fill-rule=\"evenodd\" fill-opacity=\"1\" /><path clip-path=\"url(#clip390)\" d=\"M154.283 337.837 Q150.672 337.837 148.843 341.402 Q147.038 344.944 147.038 352.073 Q147.038 359.18 148.843 362.745 Q150.672 366.286 154.283 366.286 Q157.917 366.286 159.723 362.745 Q161.552 359.18 161.552 352.073 Q161.552 344.944 159.723 341.402 Q157.917 337.837 154.283 337.837 M154.283 334.134 Q160.093 334.134 163.149 338.74 Q166.227 343.323 166.227 352.073 Q166.227 360.8 163.149 365.407 Q160.093 369.99 154.283 369.99 Q148.473 369.99 145.394 365.407 Q142.339 360.8 142.339 352.073 Q142.339 343.323 145.394 338.74 Q148.473 334.134 154.283 334.134 Z\" fill=\"#000000\" fill-rule=\"evenodd\" fill-opacity=\"1\" /><path clip-path=\"url(#clip390)\" d=\"M184.445 337.837 Q180.834 337.837 179.005 341.402 Q177.2 344.944 177.2 352.073 Q177.2 359.18 179.005 362.745 Q180.834 366.286 184.445 366.286 Q188.079 366.286 189.885 362.745 Q191.713 359.18 191.713 352.073 Q191.713 344.944 189.885 341.402 Q188.079 337.837 184.445 337.837 M184.445 334.134 Q190.255 334.134 193.311 338.74 Q196.389 343.323 196.389 352.073 Q196.389 360.8 193.311 365.407 Q190.255 369.99 184.445 369.99 Q178.635 369.99 175.556 365.407 Q172.501 360.8 172.501 352.073 Q172.501 343.323 175.556 338.74 Q178.635 334.134 184.445 334.134 Z\" fill=\"#000000\" fill-rule=\"evenodd\" fill-opacity=\"1\" /><path clip-path=\"url(#clip390)\" d=\"M16.4842 849.934 L16.4842 840.353 L48.8219 828.227 L16.4842 816.036 L16.4842 806.456 L64.0042 806.456 L64.0042 812.726 L22.277 812.726 L54.8694 824.98 L54.8694 831.441 L22.277 843.695 L64.0042 843.695 L64.0042 849.934 L16.4842 849.934 Z\" fill=\"#000000\" fill-rule=\"evenodd\" fill-opacity=\"1\" /><path clip-path=\"url(#clip390)\" d=\"M41.3104 787.263 L58.7206 787.263 L58.7206 776.951 Q58.7206 771.763 56.5881 769.28 Q54.4238 766.766 49.9996 766.766 Q45.5436 766.766 43.4429 769.28 Q41.3104 771.763 41.3104 776.951 L41.3104 787.263 M21.7677 787.263 L36.0905 787.263 L36.0905 777.747 Q36.0905 773.036 34.34 770.744 Q32.5576 768.421 28.9291 768.421 Q25.3325 768.421 23.5501 770.744 Q21.7677 773.036 21.7677 777.747 L21.7677 787.263 M16.4842 793.693 L16.4842 777.269 Q16.4842 769.917 19.5397 765.938 Q22.5952 761.96 28.2289 761.96 Q32.5894 761.96 35.1675 763.997 Q37.7456 766.034 38.3822 769.98 Q39.4007 765.238 42.6472 762.628 Q45.8619 759.986 50.6998 759.986 Q57.0655 759.986 60.5348 764.315 Q64.0042 768.644 64.0042 776.633 L64.0042 793.693 L16.4842 793.693 Z\" fill=\"#000000\" fill-rule=\"evenodd\" fill-opacity=\"1\" /><path clip-path=\"url(#clip390)\" d=\"M863.298 12.096 L898.055 12.096 L898.055 18.9825 L871.481 18.9825 L871.481 36.8065 L895.462 36.8065 L895.462 43.6931 L871.481 43.6931 L871.481 72.576 L863.298 72.576 L863.298 12.096 Z\" fill=\"#000000\" fill-rule=\"evenodd\" fill-opacity=\"1\" /><path clip-path=\"url(#clip390)\" d=\"M925.318 32.4315 Q919.322 32.4315 915.839 37.1306 Q912.355 41.7891 912.355 49.9314 Q912.355 58.0738 915.798 62.7728 Q919.282 67.4314 925.318 67.4314 Q931.272 67.4314 934.756 62.7323 Q938.24 58.0333 938.24 49.9314 Q938.24 41.8701 934.756 37.1711 Q931.272 32.4315 925.318 32.4315 M925.318 26.1121 Q935.04 26.1121 940.59 32.4315 Q946.139 38.7509 946.139 49.9314 Q946.139 61.0714 940.59 67.4314 Q935.04 73.7508 925.318 73.7508 Q915.555 73.7508 910.005 67.4314 Q904.496 61.0714 904.496 49.9314 Q904.496 38.7509 910.005 32.4315 Q915.555 26.1121 925.318 26.1121 Z\" fill=\"#000000\" fill-rule=\"evenodd\" fill-opacity=\"1\" /><path clip-path=\"url(#clip390)\" d=\"M984.785 34.1734 Q983.529 33.4443 982.03 33.1202 Q980.572 32.7556 978.79 32.7556 Q972.47 32.7556 969.067 36.8875 Q965.705 40.9789 965.705 48.6757 L965.705 72.576 L958.211 72.576 L958.211 27.2059 L965.705 27.2059 L965.705 34.2544 Q968.055 30.1225 971.822 28.1376 Q975.589 26.1121 980.977 26.1121 Q981.747 26.1121 982.678 26.2337 Q983.61 26.3147 984.744 26.5172 L984.785 34.1734 Z\" fill=\"#000000\" fill-rule=\"evenodd\" fill-opacity=\"1\" /><path clip-path=\"url(#clip390)\" d=\"M1026.47 35.9153 Q1029.26 30.8922 1033.15 28.5022 Q1037.04 26.1121 1042.31 26.1121 Q1049.4 26.1121 1053.25 31.0947 Q1057.09 36.0368 1057.09 45.1919 L1057.09 72.576 L1049.6 72.576 L1049.6 45.4349 Q1049.6 38.913 1047.29 35.7533 Q1044.98 32.5936 1040.24 32.5936 Q1034.45 32.5936 1031.09 36.4419 Q1027.72 40.2903 1027.72 46.9338 L1027.72 72.576 L1020.23 72.576 L1020.23 45.4349 Q1020.23 38.8725 1017.92 35.7533 Q1015.61 32.5936 1010.79 32.5936 Q1005.08 32.5936 1001.72 36.4824 Q998.355 40.3308 998.355 46.9338 L998.355 72.576 L990.861 72.576 L990.861 27.2059 L998.355 27.2059 L998.355 34.2544 Q1000.91 30.082 1004.47 28.0971 Q1008.04 26.1121 1012.94 26.1121 Q1017.88 26.1121 1021.32 28.6237 Q1024.81 31.1352 1026.47 35.9153 Z\" fill=\"#000000\" fill-rule=\"evenodd\" fill-opacity=\"1\" /><path clip-path=\"url(#clip390)\" d=\"M1092.58 49.7694 Q1083.55 49.7694 1080.06 51.8354 Q1076.58 53.9013 1076.58 58.8839 Q1076.58 62.8538 1079.17 65.2034 Q1081.8 67.5124 1086.3 67.5124 Q1092.5 67.5124 1096.23 63.1374 Q1099.99 58.7219 1099.99 51.4303 L1099.99 49.7694 L1092.58 49.7694 M1107.45 46.6907 L1107.45 72.576 L1099.99 72.576 L1099.99 65.6895 Q1097.44 69.8214 1093.63 71.8063 Q1089.82 73.7508 1084.32 73.7508 Q1077.35 73.7508 1073.22 69.8619 Q1069.12 65.9325 1069.12 59.3701 Q1069.12 51.7138 1074.23 47.825 Q1079.37 43.9361 1089.54 43.9361 L1099.99 43.9361 L1099.99 43.2069 Q1099.99 38.0623 1096.59 35.2672 Q1093.23 32.4315 1087.11 32.4315 Q1083.22 32.4315 1079.54 33.3632 Q1075.85 34.295 1072.45 36.1584 L1072.45 29.2718 Q1076.54 27.692 1080.39 26.9223 Q1084.23 26.1121 1087.88 26.1121 Q1097.72 26.1121 1102.59 31.2163 Q1107.45 36.3204 1107.45 46.6907 Z\" fill=\"#000000\" fill-rule=\"evenodd\" fill-opacity=\"1\" /><path clip-path=\"url(#clip390)\" d=\"M1130.17 14.324 L1130.17 27.2059 L1145.52 27.2059 L1145.52 32.9987 L1130.17 32.9987 L1130.17 57.6282 Q1130.17 63.1779 1131.67 64.7578 Q1133.21 66.3376 1137.87 66.3376 L1145.52 66.3376 L1145.52 72.576 L1137.87 72.576 Q1129.24 72.576 1125.96 69.3758 Q1122.68 66.1351 1122.68 57.6282 L1122.68 32.9987 L1117.21 32.9987 L1117.21 27.2059 L1122.68 27.2059 L1122.68 14.324 L1130.17 14.324 Z\" fill=\"#000000\" fill-rule=\"evenodd\" fill-opacity=\"1\" /><path clip-path=\"url(#clip390)\" d=\"M1182.02 12.096 L1216.78 12.096 L1216.78 18.9825 L1190.21 18.9825 L1190.21 36.8065 L1214.19 36.8065 L1214.19 43.6931 L1190.21 43.6931 L1190.21 72.576 L1182.02 72.576 L1182.02 12.096 Z\" fill=\"#000000\" fill-rule=\"evenodd\" fill-opacity=\"1\" /><path clip-path=\"url(#clip390)\" d=\"M1223.38 27.2059 L1230.84 27.2059 L1230.84 72.576 L1223.38 72.576 L1223.38 27.2059 M1223.38 9.54393 L1230.84 9.54393 L1230.84 18.9825 L1223.38 18.9825 L1223.38 9.54393 Z\" fill=\"#000000\" fill-rule=\"evenodd\" fill-opacity=\"1\" /><path clip-path=\"url(#clip390)\" d=\"M1246.43 9.54393 L1253.89 9.54393 L1253.89 72.576 L1246.43 72.576 L1246.43 9.54393 Z\" fill=\"#000000\" fill-rule=\"evenodd\" fill-opacity=\"1\" /><path clip-path=\"url(#clip390)\" d=\"M1308.29 48.0275 L1308.29 51.6733 L1274.02 51.6733 Q1274.51 59.3701 1278.64 63.421 Q1282.81 67.4314 1290.22 67.4314 Q1294.52 67.4314 1298.53 66.3781 Q1302.58 65.3249 1306.55 63.2184 L1306.55 70.267 Q1302.54 71.9684 1298.32 72.8596 Q1294.11 73.7508 1289.78 73.7508 Q1278.92 73.7508 1272.56 67.4314 Q1266.24 61.1119 1266.24 50.3365 Q1266.24 39.1965 1272.24 32.6746 Q1278.27 26.1121 1288.48 26.1121 Q1297.64 26.1121 1302.94 32.0264 Q1308.29 37.9003 1308.29 48.0275 M1300.84 45.84 Q1300.76 39.7232 1297.39 36.0774 Q1294.07 32.4315 1288.56 32.4315 Q1282.32 32.4315 1278.56 35.9558 Q1274.83 39.4801 1274.26 45.8805 L1300.84 45.84 Z\" fill=\"#000000\" fill-rule=\"evenodd\" fill-opacity=\"1\" /><path clip-path=\"url(#clip390)\" d=\"M1383.47 14.0809 L1383.47 22.0612 Q1378.82 19.8332 1374.68 18.7395 Q1370.55 17.6457 1366.7 17.6457 Q1360.02 17.6457 1356.37 20.2383 Q1352.77 22.8309 1352.77 27.611 Q1352.77 31.6214 1355.16 33.6873 Q1357.59 35.7128 1364.31 36.9686 L1369.26 37.9813 Q1378.41 39.7232 1382.75 44.1387 Q1387.12 48.5136 1387.12 55.8863 Q1387.12 64.6767 1381.21 69.2137 Q1375.33 73.7508 1363.95 73.7508 Q1359.66 73.7508 1354.79 72.7785 Q1349.97 71.8063 1344.79 69.9024 L1344.79 61.4765 Q1349.77 64.2716 1354.55 65.6895 Q1359.33 67.1073 1363.95 67.1073 Q1370.96 67.1073 1374.77 64.3527 Q1378.57 61.598 1378.57 56.4939 Q1378.57 52.0379 1375.82 49.5264 Q1373.1 47.0148 1366.87 45.759 L1361.88 44.7868 Q1352.73 42.9639 1348.64 39.075 Q1344.55 35.1862 1344.55 28.2591 Q1344.55 20.2383 1350.18 15.6203 Q1355.85 11.0023 1365.77 11.0023 Q1370.03 11.0023 1374.44 11.7719 Q1378.86 12.5416 1383.47 14.0809 Z\" fill=\"#000000\" fill-rule=\"evenodd\" fill-opacity=\"1\" /><path clip-path=\"url(#clip390)\" d=\"M1399.56 27.2059 L1407.01 27.2059 L1407.01 72.576 L1399.56 72.576 L1399.56 27.2059 M1399.56 9.54393 L1407.01 9.54393 L1407.01 18.9825 L1399.56 18.9825 L1399.56 9.54393 Z\" fill=\"#000000\" fill-rule=\"evenodd\" fill-opacity=\"1\" /><path clip-path=\"url(#clip390)\" d=\"M1419.37 27.2059 L1454.77 27.2059 L1454.77 34.0114 L1426.74 66.6212 L1454.77 66.6212 L1454.77 72.576 L1418.35 72.576 L1418.35 65.7705 L1446.39 33.1607 L1419.37 33.1607 L1419.37 27.2059 Z\" fill=\"#000000\" fill-rule=\"evenodd\" fill-opacity=\"1\" /><path clip-path=\"url(#clip390)\" d=\"M1504.96 48.0275 L1504.96 51.6733 L1470.69 51.6733 Q1471.18 59.3701 1475.31 63.421 Q1479.48 67.4314 1486.89 67.4314 Q1491.19 67.4314 1495.2 66.3781 Q1499.25 65.3249 1503.22 63.2184 L1503.22 70.267 Q1499.21 71.9684 1495 72.8596 Q1490.78 73.7508 1486.45 73.7508 Q1475.59 73.7508 1469.23 67.4314 Q1462.91 61.1119 1462.91 50.3365 Q1462.91 39.1965 1468.91 32.6746 Q1474.94 26.1121 1485.15 26.1121 Q1494.31 26.1121 1499.61 32.0264 Q1504.96 37.9003 1504.96 48.0275 M1497.51 45.84 Q1497.43 39.7232 1494.06 36.0774 Q1490.74 32.4315 1485.23 32.4315 Q1479 32.4315 1475.23 35.9558 Q1471.5 39.4801 1470.93 45.8805 L1497.51 45.84 Z\" fill=\"#000000\" fill-rule=\"evenodd\" fill-opacity=\"1\" /><path clip-path=\"url(#clip390)\" d=\"M1561.47 9.62495 Q1556.04 18.942 1553.41 28.0566 Q1550.78 37.1711 1550.78 46.5287 Q1550.78 55.8863 1553.41 65.0818 Q1556.08 74.2369 1561.47 83.5134 L1554.99 83.5134 Q1548.91 73.9938 1545.88 64.7983 Q1542.88 55.6027 1542.88 46.5287 Q1542.88 37.4952 1545.88 28.3401 Q1548.87 19.1851 1554.99 9.62495 L1561.47 9.62495 Z\" fill=\"#000000\" fill-rule=\"evenodd\" fill-opacity=\"1\" /><path clip-path=\"url(#clip390)\" d=\"M1576.26 12.096 L1588.45 12.096 L1603.88 53.2532 L1619.4 12.096 L1631.59 12.096 L1631.59 72.576 L1623.61 72.576 L1623.61 19.4686 L1608.02 60.9499 L1599.79 60.9499 L1584.2 19.4686 L1584.2 72.576 L1576.26 72.576 L1576.26 12.096 Z\" fill=\"#000000\" fill-rule=\"evenodd\" fill-opacity=\"1\" /><path clip-path=\"url(#clip390)\" d=\"M1656.02 43.6931 L1656.02 65.8515 L1669.14 65.8515 Q1675.75 65.8515 1678.91 63.1374 Q1682.11 60.3828 1682.11 54.752 Q1682.11 49.0808 1678.91 46.4072 Q1675.75 43.6931 1669.14 43.6931 L1656.02 43.6931 M1656.02 18.8205 L1656.02 37.0496 L1668.13 37.0496 Q1674.13 37.0496 1677.04 34.8216 Q1680 32.5531 1680 27.935 Q1680 23.3575 1677.04 21.089 Q1674.13 18.8205 1668.13 18.8205 L1656.02 18.8205 M1647.84 12.096 L1668.74 12.096 Q1678.1 12.096 1683.16 15.9849 Q1688.22 19.8737 1688.22 27.0438 Q1688.22 32.5936 1685.63 35.8748 Q1683.04 39.156 1678.02 39.9662 Q1684.05 41.2625 1687.37 45.3944 Q1690.74 49.4858 1690.74 55.6432 Q1690.74 63.745 1685.23 68.1605 Q1679.72 72.576 1669.55 72.576 L1647.84 72.576 L1647.84 12.096 Z\" fill=\"#000000\" fill-rule=\"evenodd\" fill-opacity=\"1\" /><path clip-path=\"url(#clip390)\" d=\"M1703.25 9.62495 L1709.73 9.62495 Q1715.81 19.1851 1718.81 28.3401 Q1721.85 37.4952 1721.85 46.5287 Q1721.85 55.6027 1718.81 64.7983 Q1715.81 73.9938 1709.73 83.5134 L1703.25 83.5134 Q1708.64 74.2369 1711.27 65.0818 Q1713.95 55.8863 1713.95 46.5287 Q1713.95 37.1711 1711.27 28.0566 Q1708.64 18.942 1703.25 9.62495 Z\" fill=\"#000000\" fill-rule=\"evenodd\" fill-opacity=\"1\" /><path clip-path=\"url(#clip392)\" d=\"M349.013 1426.74 L349.013 1447.87 L609.306 1447.87 L609.306 1426.74 L349.013 1426.74 L349.013 1426.74  Z\" fill=\"#009af9\" fill-rule=\"evenodd\" fill-opacity=\"1\"/>\n",
       "<polyline clip-path=\"url(#clip392)\" style=\"stroke:#000000; stroke-linecap:round; stroke-linejoin:round; stroke-width:4; stroke-opacity:1; fill:none\" points=\"349.013,1426.74 349.013,1447.87 609.306,1447.87 609.306,1426.74 349.013,1426.74 \"/>\n",
       "<path clip-path=\"url(#clip392)\" d=\"M674.379 1392.79 L674.379 1447.87 L934.671 1447.87 L934.671 1392.79 L674.379 1392.79 L674.379 1392.79  Z\" fill=\"#009af9\" fill-rule=\"evenodd\" fill-opacity=\"1\"/>\n",
       "<polyline clip-path=\"url(#clip392)\" style=\"stroke:#000000; stroke-linecap:round; stroke-linejoin:round; stroke-width:4; stroke-opacity:1; fill:none\" points=\"674.379,1392.79 674.379,1447.87 934.671,1447.87 934.671,1392.79 674.379,1392.79 \"/>\n",
       "<path clip-path=\"url(#clip392)\" d=\"M999.744 1391.82 L999.744 1447.87 L1260.04 1447.87 L1260.04 1391.82 L999.744 1391.82 L999.744 1391.82  Z\" fill=\"#009af9\" fill-rule=\"evenodd\" fill-opacity=\"1\"/>\n",
       "<polyline clip-path=\"url(#clip392)\" style=\"stroke:#000000; stroke-linecap:round; stroke-linejoin:round; stroke-width:4; stroke-opacity:1; fill:none\" points=\"999.744,1391.82 999.744,1447.87 1260.04,1447.87 1260.04,1391.82 999.744,1391.82 \"/>\n",
       "<path clip-path=\"url(#clip392)\" d=\"M1325.11 871.415 L1325.11 1447.87 L1585.4 1447.87 L1585.4 871.415 L1325.11 871.415 L1325.11 871.415  Z\" fill=\"#009af9\" fill-rule=\"evenodd\" fill-opacity=\"1\"/>\n",
       "<polyline clip-path=\"url(#clip392)\" style=\"stroke:#000000; stroke-linecap:round; stroke-linejoin:round; stroke-width:4; stroke-opacity:1; fill:none\" points=\"1325.11,871.415 1325.11,1447.87 1585.4,1447.87 1585.4,871.415 1325.11,871.415 \"/>\n",
       "<path clip-path=\"url(#clip392)\" d=\"M1650.47 871.394 L1650.47 1447.87 L1910.77 1447.87 L1910.77 871.394 L1650.47 871.394 L1650.47 871.394  Z\" fill=\"#009af9\" fill-rule=\"evenodd\" fill-opacity=\"1\"/>\n",
       "<polyline clip-path=\"url(#clip392)\" style=\"stroke:#000000; stroke-linecap:round; stroke-linejoin:round; stroke-width:4; stroke-opacity:1; fill:none\" points=\"1650.47,871.394 1650.47,1447.87 1910.77,1447.87 1910.77,871.394 1650.47,871.394 \"/>\n",
       "<path clip-path=\"url(#clip392)\" d=\"M1975.84 162.047 L1975.84 1447.87 L2236.13 1447.87 L2236.13 162.047 L1975.84 162.047 L1975.84 162.047  Z\" fill=\"#009af9\" fill-rule=\"evenodd\" fill-opacity=\"1\"/>\n",
       "<polyline clip-path=\"url(#clip392)\" style=\"stroke:#000000; stroke-linecap:round; stroke-linejoin:round; stroke-width:4; stroke-opacity:1; fill:none\" points=\"1975.84,162.047 1975.84,1447.87 2236.13,1447.87 2236.13,162.047 1975.84,162.047 \"/>\n",
       "<circle clip-path=\"url(#clip392)\" style=\"fill:#009af9; stroke:none; fill-opacity:0\" cx=\"479.159\" cy=\"1426.74\" r=\"2\"/>\n",
       "<circle clip-path=\"url(#clip392)\" style=\"fill:#009af9; stroke:none; fill-opacity:0\" cx=\"804.525\" cy=\"1392.79\" r=\"2\"/>\n",
       "<circle clip-path=\"url(#clip392)\" style=\"fill:#009af9; stroke:none; fill-opacity:0\" cx=\"1129.89\" cy=\"1391.82\" r=\"2\"/>\n",
       "<circle clip-path=\"url(#clip392)\" style=\"fill:#009af9; stroke:none; fill-opacity:0\" cx=\"1455.26\" cy=\"871.415\" r=\"2\"/>\n",
       "<circle clip-path=\"url(#clip392)\" style=\"fill:#009af9; stroke:none; fill-opacity:0\" cx=\"1780.62\" cy=\"871.394\" r=\"2\"/>\n",
       "<circle clip-path=\"url(#clip392)\" style=\"fill:#009af9; stroke:none; fill-opacity:0\" cx=\"2105.99\" cy=\"162.047\" r=\"2\"/>\n",
       "<path clip-path=\"url(#clip390)\" d=\"M303.068 272.585 L606.771 272.585 L606.771 168.905 L303.068 168.905  Z\" fill=\"#ffffff\" fill-rule=\"evenodd\" fill-opacity=\"1\"/>\n",
       "<polyline clip-path=\"url(#clip390)\" style=\"stroke:#000000; stroke-linecap:round; stroke-linejoin:round; stroke-width:4; stroke-opacity:1; fill:none\" points=\"303.068,272.585 606.771,272.585 606.771,168.905 303.068,168.905 303.068,272.585 \"/>\n",
       "<path clip-path=\"url(#clip390)\" d=\"M326.628 241.481 L467.986 241.481 L467.986 200.009 L326.628 200.009 L326.628 241.481  Z\" fill=\"#009af9\" fill-rule=\"evenodd\" fill-opacity=\"1\"/>\n",
       "<polyline clip-path=\"url(#clip390)\" style=\"stroke:#000000; stroke-linecap:round; stroke-linejoin:round; stroke-width:4; stroke-opacity:1; fill:none\" points=\"326.628,241.481 467.986,241.481 467.986,200.009 326.628,200.009 326.628,241.481 \"/>\n",
       "<path clip-path=\"url(#clip390)\" d=\"M513.791 204.599 L513.791 209.159 Q511.128 207.886 508.767 207.261 Q506.406 206.636 504.207 206.636 Q500.388 206.636 498.304 208.117 Q496.244 209.599 496.244 212.33 Q496.244 214.622 497.61 215.803 Q498.999 216.96 502.841 217.678 L505.666 218.256 Q510.897 219.252 513.374 221.775 Q515.874 224.275 515.874 228.488 Q515.874 233.511 512.494 236.103 Q509.138 238.696 502.633 238.696 Q500.179 238.696 497.402 238.14 Q494.647 237.585 491.684 236.497 L491.684 231.682 Q494.531 233.279 497.263 234.089 Q499.994 234.9 502.633 234.9 Q506.638 234.9 508.814 233.326 Q510.99 231.752 510.99 228.835 Q510.99 226.289 509.416 224.853 Q507.865 223.418 504.3 222.701 L501.453 222.145 Q496.221 221.103 493.883 218.881 Q491.545 216.659 491.545 212.701 Q491.545 208.117 494.763 205.479 Q498.004 202.84 503.675 202.84 Q506.105 202.84 508.629 203.279 Q511.152 203.719 513.791 204.599 Z\" fill=\"#000000\" fill-rule=\"evenodd\" fill-opacity=\"1\" /><path clip-path=\"url(#clip390)\" d=\"M522.98 212.099 L527.24 212.099 L527.24 238.025 L522.98 238.025 L522.98 212.099 M522.98 202.006 L527.24 202.006 L527.24 207.4 L522.98 207.4 L522.98 202.006 Z\" fill=\"#000000\" fill-rule=\"evenodd\" fill-opacity=\"1\" /><path clip-path=\"url(#clip390)\" d=\"M534.3 212.099 L554.531 212.099 L554.531 215.988 L538.513 234.622 L554.531 234.622 L554.531 238.025 L533.721 238.025 L533.721 234.136 L549.739 215.502 L534.3 215.502 L534.3 212.099 Z\" fill=\"#000000\" fill-rule=\"evenodd\" fill-opacity=\"1\" /><path clip-path=\"url(#clip390)\" d=\"M583.211 223.997 L583.211 226.08 L563.628 226.08 Q563.906 230.478 566.267 232.793 Q568.651 235.085 572.887 235.085 Q575.341 235.085 577.633 234.483 Q579.948 233.881 582.216 232.677 L582.216 236.705 Q579.924 237.677 577.517 238.187 Q575.11 238.696 572.633 238.696 Q566.429 238.696 562.795 235.085 Q559.184 231.474 559.184 225.316 Q559.184 218.951 562.61 215.224 Q566.059 211.474 571.892 211.474 Q577.124 211.474 580.156 214.853 Q583.211 218.21 583.211 223.997 M578.952 222.747 Q578.906 219.252 576.985 217.168 Q575.086 215.085 571.938 215.085 Q568.374 215.085 566.221 217.099 Q564.091 219.113 563.767 222.77 L578.952 222.747 Z\" fill=\"#000000\" fill-rule=\"evenodd\" fill-opacity=\"1\" /></svg>\n"
      ]
     },
     "execution_count": 41,
     "metadata": {},
     "output_type": "execute_result"
    }
   ],
   "source": [
    "@df df plot(:file, :size/1024^2, seriestype=:bar, title = \"Format File Size (MB)\", label=\"Size\", ylab=\"MB\")"
   ]
  },
  {
   "cell_type": "code",
   "execution_count": 42,
   "metadata": {},
   "outputs": [
    {
     "name": "stdout",
     "output_type": "stream",
     "text": [
      "First run\n",
      "CSV.jl\n",
      "  1.284889 seconds (558.31 k allocations: 66.884 MiB, 29.36% compilation time)\n",
      "Serialization\n",
      "  0.484369 seconds (9.72 M allocations: 158.767 MiB, 4.73% compilation time)\n",
      "JDF.jl\n",
      "  0.771087 seconds (129.46 k allocations: 92.848 MiB, 81.06% compilation time)\n",
      "JLSO.jl\n",
      "  0.539299 seconds (9.74 M allocations: 161.459 MiB, 17.68% gc time, 4.61% compilation time)\n",
      "Arrow.jl\n",
      "  0.473688 seconds (367.48 k allocations: 24.175 MiB, 96.43% compilation time)\n",
      "  0.104741 seconds (21.51 k allocations: 10.696 MiB)\n",
      "JSONTables.jl arraytable\n",
      " 16.186853 seconds (40.38 M allocations: 2.550 GiB, 2.28% gc time)\n",
      "JSONTables.jl objecttable\n",
      "  0.642286 seconds (57.11 k allocations: 285.899 MiB, 10.93% gc time, 4.49% compilation time)\n",
      "Second run\n",
      "  1.124207 seconds (67.20 k allocations: 33.199 MiB)\n",
      "Serialization\n",
      "  0.464462 seconds (9.71 M allocations: 158.273 MiB)\n",
      "JDF.jl\n",
      "  0.132816 seconds (38.82 k allocations: 86.973 MiB)\n",
      "JLSO.jl\n",
      "  0.434510 seconds (9.74 M allocations: 161.084 MiB)\n",
      "Arrow.jl\n",
      "  0.020483 seconds (36.63 k allocations: 1.863 MiB)\n",
      "  0.089482 seconds (21.51 k allocations: 10.696 MiB)\n",
      "JSONTables.jl arraytable\n",
      " 16.576991 seconds (40.38 M allocations: 2.550 GiB, 3.12% gc time)\n",
      "JSONTables.jl objecttable\n",
      "  0.616051 seconds (34.07 k allocations: 284.348 MiB)\n"
     ]
    }
   ],
   "source": [
    "println(\"First run\")\n",
    "println(\"CSV.jl\")\n",
    "csvread1 = @elapsed @time CSV.read(\"bigdf1.csv\", DataFrame)\n",
    "println(\"Serialization\")\n",
    "serializeread1 = @elapsed @time open(deserialize, \"bigdf.bin\")\n",
    "println(\"JDF.jl\")\n",
    "jdfread1 = @elapsed @time JDF.load(\"bigdf.jdf\") |> DataFrame\n",
    "println(\"JLSO.jl\")\n",
    "jlsoread1 = @elapsed @time JLSO.load(\"bigdf.jlso\")\n",
    "println(\"Arrow.jl\")\n",
    "arrowread1 = @elapsed @time df_tmp = Arrow.Table(\"bigdf.arrow\") |> DataFrame\n",
    "arrowread1copy = @elapsed @time copy(df_tmp)\n",
    "println(\"JSONTables.jl arraytable\")\n",
    "jsontablesaread1 = @elapsed @time open(jsontable, \"bigdf1.json\")\n",
    "println(\"JSONTables.jl objecttable\")\n",
    "jsontablesoread1 = @elapsed @time open(jsontable, \"bigdf2.json\")\n",
    "println(\"Second run\")\n",
    "csvread2 = @elapsed @time CSV.read(\"bigdf1.csv\", DataFrame)\n",
    "println(\"Serialization\")\n",
    "serializeread2 = @elapsed @time open(deserialize, \"bigdf.bin\")\n",
    "println(\"JDF.jl\")\n",
    "jdfread2 = @elapsed @time JDF.load(\"bigdf.jdf\") |> DataFrame\n",
    "println(\"JLSO.jl\")\n",
    "jlsoread2 = @elapsed @time JLSO.load(\"bigdf.jlso\")\n",
    "println(\"Arrow.jl\")\n",
    "arrowread2 = @elapsed @time df_tmp = Arrow.Table(\"bigdf.arrow\") |> DataFrame\n",
    "arrowread2copy = @elapsed @time copy(df_tmp)\n",
    "println(\"JSONTables.jl arraytable\")\n",
    "jsontablesaread2 = @elapsed @time open(jsontable, \"bigdf1.json\")\n",
    "println(\"JSONTables.jl objecttable\")\n",
    "jsontablesoread2 = @elapsed @time open(jsontable, \"bigdf2.json\");"
   ]
  },
  {
   "cell_type": "code",
   "execution_count": 43,
   "metadata": {},
   "outputs": [
    {
     "data": {
      "image/svg+xml": [
       "<?xml version=\"1.0\" encoding=\"utf-8\"?>\n",
       "<svg xmlns=\"http://www.w3.org/2000/svg\" xmlns:xlink=\"http://www.w3.org/1999/xlink\" width=\"600\" height=\"400\" viewBox=\"0 0 2400 1600\">\n",
       "<defs>\n",
       "  <clipPath id=\"clip430\">\n",
       "    <rect x=\"0\" y=\"0\" width=\"2400\" height=\"1600\"/>\n",
       "  </clipPath>\n",
       "</defs>\n",
       "<path clip-path=\"url(#clip430)\" d=\"M0 1600 L2400 1600 L2400 0 L0 0  Z\" fill=\"#ffffff\" fill-rule=\"evenodd\" fill-opacity=\"1\"/>\n",
       "<defs>\n",
       "  <clipPath id=\"clip431\">\n",
       "    <rect x=\"480\" y=\"0\" width=\"1681\" height=\"1600\"/>\n",
       "  </clipPath>\n",
       "</defs>\n",
       "<path clip-path=\"url(#clip430)\" d=\"M219.866 1451.89 L2352.76 1451.89 L2352.76 244.432 L219.866 244.432  Z\" fill=\"#ffffff\" fill-rule=\"evenodd\" fill-opacity=\"1\"/>\n",
       "<defs>\n",
       "  <clipPath id=\"clip432\">\n",
       "    <rect x=\"219\" y=\"244\" width=\"2134\" height=\"1208\"/>\n",
       "  </clipPath>\n",
       "</defs>\n",
       "<polyline clip-path=\"url(#clip432)\" style=\"stroke:#000000; stroke-linecap:round; stroke-linejoin:round; stroke-width:2; stroke-opacity:0.1; fill:none\" points=\"446.044,1451.89 446.044,244.432 \"/>\n",
       "<polyline clip-path=\"url(#clip432)\" style=\"stroke:#000000; stroke-linecap:round; stroke-linejoin:round; stroke-width:2; stroke-opacity:0.1; fill:none\" points=\"726.133,1451.89 726.133,244.432 \"/>\n",
       "<polyline clip-path=\"url(#clip432)\" style=\"stroke:#000000; stroke-linecap:round; stroke-linejoin:round; stroke-width:2; stroke-opacity:0.1; fill:none\" points=\"1006.22,1451.89 1006.22,244.432 \"/>\n",
       "<polyline clip-path=\"url(#clip432)\" style=\"stroke:#000000; stroke-linecap:round; stroke-linejoin:round; stroke-width:2; stroke-opacity:0.1; fill:none\" points=\"1286.31,1451.89 1286.31,244.432 \"/>\n",
       "<polyline clip-path=\"url(#clip432)\" style=\"stroke:#000000; stroke-linecap:round; stroke-linejoin:round; stroke-width:2; stroke-opacity:0.1; fill:none\" points=\"1566.4,1451.89 1566.4,244.432 \"/>\n",
       "<polyline clip-path=\"url(#clip432)\" style=\"stroke:#000000; stroke-linecap:round; stroke-linejoin:round; stroke-width:2; stroke-opacity:0.1; fill:none\" points=\"1846.49,1451.89 1846.49,244.432 \"/>\n",
       "<polyline clip-path=\"url(#clip432)\" style=\"stroke:#000000; stroke-linecap:round; stroke-linejoin:round; stroke-width:2; stroke-opacity:0.1; fill:none\" points=\"2126.58,1451.89 2126.58,244.432 \"/>\n",
       "<polyline clip-path=\"url(#clip430)\" style=\"stroke:#000000; stroke-linecap:round; stroke-linejoin:round; stroke-width:4; stroke-opacity:1; fill:none\" points=\"219.866,1451.89 2352.76,1451.89 \"/>\n",
       "<polyline clip-path=\"url(#clip430)\" style=\"stroke:#000000; stroke-linecap:round; stroke-linejoin:round; stroke-width:4; stroke-opacity:1; fill:none\" points=\"446.044,1451.89 446.044,1432.99 \"/>\n",
       "<polyline clip-path=\"url(#clip430)\" style=\"stroke:#000000; stroke-linecap:round; stroke-linejoin:round; stroke-width:4; stroke-opacity:1; fill:none\" points=\"726.133,1451.89 726.133,1432.99 \"/>\n",
       "<polyline clip-path=\"url(#clip430)\" style=\"stroke:#000000; stroke-linecap:round; stroke-linejoin:round; stroke-width:4; stroke-opacity:1; fill:none\" points=\"1006.22,1451.89 1006.22,1432.99 \"/>\n",
       "<polyline clip-path=\"url(#clip430)\" style=\"stroke:#000000; stroke-linecap:round; stroke-linejoin:round; stroke-width:4; stroke-opacity:1; fill:none\" points=\"1286.31,1451.89 1286.31,1432.99 \"/>\n",
       "<polyline clip-path=\"url(#clip430)\" style=\"stroke:#000000; stroke-linecap:round; stroke-linejoin:round; stroke-width:4; stroke-opacity:1; fill:none\" points=\"1566.4,1451.89 1566.4,1432.99 \"/>\n",
       "<polyline clip-path=\"url(#clip430)\" style=\"stroke:#000000; stroke-linecap:round; stroke-linejoin:round; stroke-width:4; stroke-opacity:1; fill:none\" points=\"1846.49,1451.89 1846.49,1432.99 \"/>\n",
       "<polyline clip-path=\"url(#clip430)\" style=\"stroke:#000000; stroke-linecap:round; stroke-linejoin:round; stroke-width:4; stroke-opacity:1; fill:none\" points=\"2126.58,1451.89 2126.58,1432.99 \"/>\n",
       "<path clip-path=\"url(#clip430)\" d=\"M377.097 1484.33 L370.755 1501.53 L383.463 1501.53 L377.097 1484.33 M374.459 1479.73 L379.759 1479.73 L392.931 1514.29 L388.07 1514.29 L384.921 1505.42 L369.343 1505.42 L366.195 1514.29 L361.264 1514.29 L374.459 1479.73 Z\" fill=\"#000000\" fill-rule=\"evenodd\" fill-opacity=\"1\" /><path clip-path=\"url(#clip430)\" d=\"M412.815 1492.34 Q412.097 1491.93 411.241 1491.74 Q410.407 1491.53 409.389 1491.53 Q405.778 1491.53 403.833 1493.89 Q401.912 1496.23 401.912 1500.63 L401.912 1514.29 L397.63 1514.29 L397.63 1488.36 L401.912 1488.36 L401.912 1492.39 Q403.255 1490.03 405.407 1488.89 Q407.56 1487.74 410.639 1487.74 Q411.079 1487.74 411.611 1487.81 Q412.144 1487.85 412.792 1487.97 L412.815 1492.34 Z\" fill=\"#000000\" fill-rule=\"evenodd\" fill-opacity=\"1\" /><path clip-path=\"url(#clip430)\" d=\"M431.472 1492.34 Q430.755 1491.93 429.898 1491.74 Q429.065 1491.53 428.046 1491.53 Q424.435 1491.53 422.491 1493.89 Q420.569 1496.23 420.569 1500.63 L420.569 1514.29 L416.287 1514.29 L416.287 1488.36 L420.569 1488.36 L420.569 1492.39 Q421.912 1490.03 424.065 1488.89 Q426.218 1487.74 429.296 1487.74 Q429.736 1487.74 430.268 1487.81 Q430.801 1487.85 431.449 1487.97 L431.472 1492.34 Z\" fill=\"#000000\" fill-rule=\"evenodd\" fill-opacity=\"1\" /><path clip-path=\"url(#clip430)\" d=\"M444.944 1491.35 Q441.518 1491.35 439.528 1494.03 Q437.537 1496.7 437.537 1501.35 Q437.537 1506 439.504 1508.69 Q441.495 1511.35 444.944 1511.35 Q448.347 1511.35 450.338 1508.66 Q452.328 1505.98 452.328 1501.35 Q452.328 1496.74 450.338 1494.06 Q448.347 1491.35 444.944 1491.35 M444.944 1487.74 Q450.5 1487.74 453.671 1491.35 Q456.842 1494.96 456.842 1501.35 Q456.842 1507.71 453.671 1511.35 Q450.5 1514.96 444.944 1514.96 Q439.366 1514.96 436.194 1511.35 Q433.046 1507.71 433.046 1501.35 Q433.046 1494.96 436.194 1491.35 Q439.366 1487.74 444.944 1487.74 Z\" fill=\"#000000\" fill-rule=\"evenodd\" fill-opacity=\"1\" /><path clip-path=\"url(#clip430)\" d=\"M461.426 1488.36 L465.685 1488.36 L471.009 1508.59 L476.31 1488.36 L481.333 1488.36 L486.657 1508.59 L491.958 1488.36 L496.217 1488.36 L489.435 1514.29 L484.412 1514.29 L478.833 1493.04 L473.231 1514.29 L468.208 1514.29 L461.426 1488.36 Z\" fill=\"#000000\" fill-rule=\"evenodd\" fill-opacity=\"1\" /><path clip-path=\"url(#clip430)\" d=\"M498.925 1508.41 L503.81 1508.41 L503.81 1514.29 L498.925 1514.29 L498.925 1508.41 Z\" fill=\"#000000\" fill-rule=\"evenodd\" fill-opacity=\"1\" /><path clip-path=\"url(#clip430)\" d=\"M513.393 1488.36 L517.652 1488.36 L517.652 1514.75 Q517.652 1519.7 515.754 1521.93 Q513.879 1524.15 509.689 1524.15 L508.069 1524.15 L508.069 1520.54 L509.203 1520.54 Q511.634 1520.54 512.513 1519.4 Q513.393 1518.29 513.393 1514.75 L513.393 1488.36 M513.393 1478.27 L517.652 1478.27 L517.652 1483.66 L513.393 1483.66 L513.393 1478.27 Z\" fill=\"#000000\" fill-rule=\"evenodd\" fill-opacity=\"1\" /><path clip-path=\"url(#clip430)\" d=\"M526.564 1478.27 L530.823 1478.27 L530.823 1514.29 L526.564 1514.29 L526.564 1478.27 Z\" fill=\"#000000\" fill-rule=\"evenodd\" fill-opacity=\"1\" /><path clip-path=\"url(#clip430)\" d=\"M657.187 1484.33 L650.844 1501.53 L663.552 1501.53 L657.187 1484.33 M654.548 1479.73 L659.849 1479.73 L673.02 1514.29 L668.159 1514.29 L665.011 1505.42 L649.432 1505.42 L646.284 1514.29 L641.353 1514.29 L654.548 1479.73 Z\" fill=\"#000000\" fill-rule=\"evenodd\" fill-opacity=\"1\" /><path clip-path=\"url(#clip430)\" d=\"M692.904 1492.34 Q692.186 1491.93 691.33 1491.74 Q690.497 1491.53 689.478 1491.53 Q685.867 1491.53 683.922 1493.89 Q682.001 1496.23 682.001 1500.63 L682.001 1514.29 L677.719 1514.29 L677.719 1488.36 L682.001 1488.36 L682.001 1492.39 Q683.344 1490.03 685.497 1488.89 Q687.649 1487.74 690.728 1487.74 Q691.168 1487.74 691.7 1487.81 Q692.233 1487.85 692.881 1487.97 L692.904 1492.34 Z\" fill=\"#000000\" fill-rule=\"evenodd\" fill-opacity=\"1\" /><path clip-path=\"url(#clip430)\" d=\"M711.561 1492.34 Q710.844 1491.93 709.987 1491.74 Q709.154 1491.53 708.135 1491.53 Q704.524 1491.53 702.58 1493.89 Q700.659 1496.23 700.659 1500.63 L700.659 1514.29 L696.376 1514.29 L696.376 1488.36 L700.659 1488.36 L700.659 1492.39 Q702.001 1490.03 704.154 1488.89 Q706.307 1487.74 709.385 1487.74 Q709.825 1487.74 710.358 1487.81 Q710.89 1487.85 711.538 1487.97 L711.561 1492.34 Z\" fill=\"#000000\" fill-rule=\"evenodd\" fill-opacity=\"1\" /><path clip-path=\"url(#clip430)\" d=\"M725.033 1491.35 Q721.607 1491.35 719.617 1494.03 Q717.626 1496.7 717.626 1501.35 Q717.626 1506 719.594 1508.69 Q721.584 1511.35 725.033 1511.35 Q728.436 1511.35 730.427 1508.66 Q732.418 1505.98 732.418 1501.35 Q732.418 1496.74 730.427 1494.06 Q728.436 1491.35 725.033 1491.35 M725.033 1487.74 Q730.589 1487.74 733.76 1491.35 Q736.931 1494.96 736.931 1501.35 Q736.931 1507.71 733.76 1511.35 Q730.589 1514.96 725.033 1514.96 Q719.455 1514.96 716.283 1511.35 Q713.135 1507.71 713.135 1501.35 Q713.135 1494.96 716.283 1491.35 Q719.455 1487.74 725.033 1487.74 Z\" fill=\"#000000\" fill-rule=\"evenodd\" fill-opacity=\"1\" /><path clip-path=\"url(#clip430)\" d=\"M741.515 1488.36 L745.774 1488.36 L751.098 1508.59 L756.399 1488.36 L761.422 1488.36 L766.746 1508.59 L772.047 1488.36 L776.306 1488.36 L769.524 1514.29 L764.501 1514.29 L758.922 1493.04 L753.32 1514.29 L748.297 1514.29 L741.515 1488.36 Z\" fill=\"#000000\" fill-rule=\"evenodd\" fill-opacity=\"1\" /><path clip-path=\"url(#clip430)\" d=\"M779.015 1508.41 L783.899 1508.41 L783.899 1514.29 L779.015 1514.29 L779.015 1508.41 Z\" fill=\"#000000\" fill-rule=\"evenodd\" fill-opacity=\"1\" /><path clip-path=\"url(#clip430)\" d=\"M793.482 1488.36 L797.741 1488.36 L797.741 1514.75 Q797.741 1519.7 795.843 1521.93 Q793.968 1524.15 789.778 1524.15 L788.158 1524.15 L788.158 1520.54 L789.292 1520.54 Q791.723 1520.54 792.602 1519.4 Q793.482 1518.29 793.482 1514.75 L793.482 1488.36 M793.482 1478.27 L797.741 1478.27 L797.741 1483.66 L793.482 1483.66 L793.482 1478.27 Z\" fill=\"#000000\" fill-rule=\"evenodd\" fill-opacity=\"1\" /><path clip-path=\"url(#clip430)\" d=\"M806.653 1478.27 L810.913 1478.27 L810.913 1514.29 L806.653 1514.29 L806.653 1478.27 Z\" fill=\"#000000\" fill-rule=\"evenodd\" fill-opacity=\"1\" /><path clip-path=\"url(#clip430)\" d=\"M692.047 1541.2 L692.047 1545.18 Q690.242 1544.18 688.413 1543.7 Q686.608 1543.19 684.756 1543.19 Q680.612 1543.19 678.321 1545.83 Q676.029 1548.44 676.029 1553.19 Q676.029 1557.93 678.321 1560.57 Q680.612 1563.19 684.756 1563.19 Q686.608 1563.19 688.413 1562.7 Q690.242 1562.19 692.047 1561.2 L692.047 1565.13 Q690.265 1565.97 688.344 1566.38 Q686.446 1566.8 684.293 1566.8 Q678.436 1566.8 674.987 1563.12 Q671.538 1559.44 671.538 1553.19 Q671.538 1546.85 675.01 1543.21 Q678.506 1539.58 684.571 1539.58 Q686.538 1539.58 688.413 1539.99 Q690.288 1540.39 692.047 1541.2 Z\" fill=\"#000000\" fill-rule=\"evenodd\" fill-opacity=\"1\" /><path clip-path=\"url(#clip430)\" d=\"M709.501 1543.19 Q706.075 1543.19 704.084 1545.87 Q702.094 1548.54 702.094 1553.19 Q702.094 1557.84 704.061 1560.53 Q706.052 1563.19 709.501 1563.19 Q712.904 1563.19 714.895 1560.5 Q716.885 1557.82 716.885 1553.19 Q716.885 1548.58 714.895 1545.9 Q712.904 1543.19 709.501 1543.19 M709.501 1539.58 Q715.057 1539.58 718.228 1543.19 Q721.399 1546.8 721.399 1553.19 Q721.399 1559.55 718.228 1563.19 Q715.057 1566.8 709.501 1566.8 Q703.922 1566.8 700.751 1563.19 Q697.603 1559.55 697.603 1553.19 Q697.603 1546.8 700.751 1543.19 Q703.922 1539.58 709.501 1539.58 Z\" fill=\"#000000\" fill-rule=\"evenodd\" fill-opacity=\"1\" /><path clip-path=\"url(#clip430)\" d=\"M732.58 1562.24 L732.58 1575.99 L728.297 1575.99 L728.297 1540.2 L732.58 1540.2 L732.58 1544.14 Q733.922 1541.82 735.959 1540.71 Q738.019 1539.58 740.867 1539.58 Q745.589 1539.58 748.529 1543.33 Q751.492 1547.08 751.492 1553.19 Q751.492 1559.3 748.529 1563.05 Q745.589 1566.8 740.867 1566.8 Q738.019 1566.8 735.959 1565.69 Q733.922 1564.55 732.58 1562.24 M747.07 1553.19 Q747.07 1548.49 745.126 1545.83 Q743.205 1543.14 739.825 1543.14 Q736.445 1543.14 734.501 1545.83 Q732.58 1548.49 732.58 1553.19 Q732.58 1557.89 734.501 1560.57 Q736.445 1563.23 739.825 1563.23 Q743.205 1563.23 745.126 1560.57 Q747.07 1557.89 747.07 1553.19 Z\" fill=\"#000000\" fill-rule=\"evenodd\" fill-opacity=\"1\" /><path clip-path=\"url(#clip430)\" d=\"M769.339 1568.54 Q767.533 1573.16 765.82 1574.58 Q764.107 1575.99 761.237 1575.99 L757.834 1575.99 L757.834 1572.42 L760.334 1572.42 Q762.093 1572.42 763.066 1571.59 Q764.038 1570.76 765.218 1567.66 L765.982 1565.71 L755.496 1540.2 L760.01 1540.2 L768.112 1560.48 L776.214 1540.2 L780.728 1540.2 L769.339 1568.54 Z\" fill=\"#000000\" fill-rule=\"evenodd\" fill-opacity=\"1\" /><path clip-path=\"url(#clip430)\" d=\"M972.183 1482.39 L972.183 1487.32 Q969.822 1485.12 967.137 1484.03 Q964.475 1482.95 961.465 1482.95 Q955.539 1482.95 952.391 1486.58 Q949.243 1490.19 949.243 1497.04 Q949.243 1503.87 952.391 1507.51 Q955.539 1511.12 961.465 1511.12 Q964.475 1511.12 967.137 1510.03 Q969.822 1508.94 972.183 1506.74 L972.183 1511.63 Q969.729 1513.29 966.975 1514.13 Q964.243 1514.96 961.188 1514.96 Q953.34 1514.96 948.826 1510.17 Q944.313 1505.35 944.313 1497.04 Q944.313 1488.71 948.826 1483.92 Q953.34 1479.1 961.188 1479.1 Q964.289 1479.1 967.021 1479.94 Q969.775 1480.75 972.183 1482.39 Z\" fill=\"#000000\" fill-rule=\"evenodd\" fill-opacity=\"1\" /><path clip-path=\"url(#clip430)\" d=\"M1000.12 1480.86 L1000.12 1485.42 Q997.46 1484.15 995.099 1483.52 Q992.738 1482.9 990.539 1482.9 Q986.72 1482.9 984.636 1484.38 Q982.576 1485.86 982.576 1488.59 Q982.576 1490.89 983.942 1492.07 Q985.331 1493.22 989.173 1493.94 L991.998 1494.52 Q997.229 1495.51 999.706 1498.04 Q1002.21 1500.54 1002.21 1504.75 Q1002.21 1509.77 998.826 1512.37 Q995.47 1514.96 988.965 1514.96 Q986.511 1514.96 983.734 1514.4 Q980.979 1513.85 978.016 1512.76 L978.016 1507.95 Q980.863 1509.54 983.595 1510.35 Q986.326 1511.16 988.965 1511.16 Q992.97 1511.16 995.146 1509.59 Q997.322 1508.01 997.322 1505.1 Q997.322 1502.55 995.748 1501.12 Q994.197 1499.68 990.632 1498.96 L987.785 1498.41 Q982.553 1497.37 980.215 1495.14 Q977.877 1492.92 977.877 1488.96 Q977.877 1484.38 981.095 1481.74 Q984.336 1479.1 990.007 1479.1 Q992.437 1479.1 994.96 1479.54 Q997.484 1479.98 1000.12 1480.86 Z\" fill=\"#000000\" fill-rule=\"evenodd\" fill-opacity=\"1\" /><path clip-path=\"url(#clip430)\" d=\"M1018.41 1514.29 L1005.22 1479.73 L1010.1 1479.73 L1021.05 1508.82 L1032.02 1479.73 L1036.88 1479.73 L1023.71 1514.29 L1018.41 1514.29 Z\" fill=\"#000000\" fill-rule=\"evenodd\" fill-opacity=\"1\" /><path clip-path=\"url(#clip430)\" d=\"M1036.23 1508.41 L1041.12 1508.41 L1041.12 1514.29 L1036.23 1514.29 L1036.23 1508.41 Z\" fill=\"#000000\" fill-rule=\"evenodd\" fill-opacity=\"1\" /><path clip-path=\"url(#clip430)\" d=\"M1050.7 1488.36 L1054.96 1488.36 L1054.96 1514.75 Q1054.96 1519.7 1053.06 1521.93 Q1051.19 1524.15 1047 1524.15 L1045.38 1524.15 L1045.38 1520.54 L1046.51 1520.54 Q1048.94 1520.54 1049.82 1519.4 Q1050.7 1518.29 1050.7 1514.75 L1050.7 1488.36 M1050.7 1478.27 L1054.96 1478.27 L1054.96 1483.66 L1050.7 1483.66 L1050.7 1478.27 Z\" fill=\"#000000\" fill-rule=\"evenodd\" fill-opacity=\"1\" /><path clip-path=\"url(#clip430)\" d=\"M1063.87 1478.27 L1068.13 1478.27 L1068.13 1514.29 L1063.87 1514.29 L1063.87 1478.27 Z\" fill=\"#000000\" fill-rule=\"evenodd\" fill-opacity=\"1\" /><path clip-path=\"url(#clip430)\" d=\"M1238.64 1479.73 L1243.31 1479.73 L1243.31 1511.88 Q1243.31 1518.13 1240.93 1520.95 Q1238.57 1523.78 1233.31 1523.78 L1231.53 1523.78 L1231.53 1519.84 L1232.99 1519.84 Q1236.09 1519.84 1237.36 1518.11 Q1238.64 1516.37 1238.64 1511.88 L1238.64 1479.73 Z\" fill=\"#000000\" fill-rule=\"evenodd\" fill-opacity=\"1\" /><path clip-path=\"url(#clip430)\" d=\"M1257.3 1483.57 L1257.3 1510.45 L1262.94 1510.45 Q1270.1 1510.45 1273.41 1507.2 Q1276.74 1503.96 1276.74 1496.97 Q1276.74 1490.03 1273.41 1486.81 Q1270.1 1483.57 1262.94 1483.57 L1257.3 1483.57 M1252.62 1479.73 L1262.23 1479.73 Q1272.27 1479.73 1276.97 1483.92 Q1281.67 1488.08 1281.67 1496.97 Q1281.67 1505.91 1276.95 1510.1 Q1272.23 1514.29 1262.23 1514.29 L1252.62 1514.29 L1252.62 1479.73 Z\" fill=\"#000000\" fill-rule=\"evenodd\" fill-opacity=\"1\" /><path clip-path=\"url(#clip430)\" d=\"M1289.12 1479.73 L1308.98 1479.73 L1308.98 1483.66 L1293.8 1483.66 L1293.8 1493.85 L1307.5 1493.85 L1307.5 1497.78 L1293.8 1497.78 L1293.8 1514.29 L1289.12 1514.29 L1289.12 1479.73 Z\" fill=\"#000000\" fill-rule=\"evenodd\" fill-opacity=\"1\" /><path clip-path=\"url(#clip430)\" d=\"M1309.19 1508.41 L1314.08 1508.41 L1314.08 1514.29 L1309.19 1514.29 L1309.19 1508.41 Z\" fill=\"#000000\" fill-rule=\"evenodd\" fill-opacity=\"1\" /><path clip-path=\"url(#clip430)\" d=\"M1323.66 1488.36 L1327.92 1488.36 L1327.92 1514.75 Q1327.92 1519.7 1326.02 1521.93 Q1324.15 1524.15 1319.96 1524.15 L1318.34 1524.15 L1318.34 1520.54 L1319.47 1520.54 Q1321.9 1520.54 1322.78 1519.4 Q1323.66 1518.29 1323.66 1514.75 L1323.66 1488.36 M1323.66 1478.27 L1327.92 1478.27 L1327.92 1483.66 L1323.66 1483.66 L1323.66 1478.27 Z\" fill=\"#000000\" fill-rule=\"evenodd\" fill-opacity=\"1\" /><path clip-path=\"url(#clip430)\" d=\"M1336.83 1478.27 L1341.09 1478.27 L1341.09 1514.29 L1336.83 1514.29 L1336.83 1478.27 Z\" fill=\"#000000\" fill-rule=\"evenodd\" fill-opacity=\"1\" /><path clip-path=\"url(#clip430)\" d=\"M1500.86 1479.73 L1505.53 1479.73 L1505.53 1511.88 Q1505.53 1518.13 1503.15 1520.95 Q1500.79 1523.78 1495.53 1523.78 L1493.75 1523.78 L1493.75 1519.84 L1495.21 1519.84 Q1498.31 1519.84 1499.58 1518.11 Q1500.86 1516.37 1500.86 1511.88 L1500.86 1479.73 Z\" fill=\"#000000\" fill-rule=\"evenodd\" fill-opacity=\"1\" /><path clip-path=\"url(#clip430)\" d=\"M1514.84 1479.73 L1519.51 1479.73 L1519.51 1510.35 L1536.34 1510.35 L1536.34 1514.29 L1514.84 1514.29 L1514.84 1479.73 Z\" fill=\"#000000\" fill-rule=\"evenodd\" fill-opacity=\"1\" /><path clip-path=\"url(#clip430)\" d=\"M1561.97 1480.86 L1561.97 1485.42 Q1559.31 1484.15 1556.94 1483.52 Q1554.58 1482.9 1552.38 1482.9 Q1548.56 1482.9 1546.48 1484.38 Q1544.42 1485.86 1544.42 1488.59 Q1544.42 1490.89 1545.79 1492.07 Q1547.18 1493.22 1551.02 1493.94 L1553.84 1494.52 Q1559.07 1495.51 1561.55 1498.04 Q1564.05 1500.54 1564.05 1504.75 Q1564.05 1509.77 1560.67 1512.37 Q1557.31 1514.96 1550.81 1514.96 Q1548.36 1514.96 1545.58 1514.4 Q1542.82 1513.85 1539.86 1512.76 L1539.86 1507.95 Q1542.71 1509.54 1545.44 1510.35 Q1548.17 1511.16 1550.81 1511.16 Q1554.81 1511.16 1556.99 1509.59 Q1559.17 1508.01 1559.17 1505.1 Q1559.17 1502.55 1557.59 1501.12 Q1556.04 1499.68 1552.48 1498.96 L1549.63 1498.41 Q1544.4 1497.37 1542.06 1495.14 Q1539.72 1492.92 1539.72 1488.96 Q1539.72 1484.38 1542.94 1481.74 Q1546.18 1479.1 1551.85 1479.1 Q1554.28 1479.1 1556.81 1479.54 Q1559.33 1479.98 1561.97 1480.86 Z\" fill=\"#000000\" fill-rule=\"evenodd\" fill-opacity=\"1\" /><path clip-path=\"url(#clip430)\" d=\"M1585.37 1482.9 Q1580.28 1482.9 1577.27 1486.7 Q1574.28 1490.49 1574.28 1497.04 Q1574.28 1503.57 1577.27 1507.37 Q1580.28 1511.16 1585.37 1511.16 Q1590.46 1511.16 1593.43 1507.37 Q1596.41 1503.57 1596.41 1497.04 Q1596.41 1490.49 1593.43 1486.7 Q1590.46 1482.9 1585.37 1482.9 M1585.37 1479.1 Q1592.64 1479.1 1596.99 1483.99 Q1601.34 1488.85 1601.34 1497.04 Q1601.34 1505.21 1596.99 1510.1 Q1592.64 1514.96 1585.37 1514.96 Q1578.08 1514.96 1573.7 1510.1 Q1569.35 1505.24 1569.35 1497.04 Q1569.35 1488.85 1573.7 1483.99 Q1578.08 1479.1 1585.37 1479.1 Z\" fill=\"#000000\" fill-rule=\"evenodd\" fill-opacity=\"1\" /><path clip-path=\"url(#clip430)\" d=\"M1607.15 1508.41 L1612.04 1508.41 L1612.04 1514.29 L1607.15 1514.29 L1607.15 1508.41 Z\" fill=\"#000000\" fill-rule=\"evenodd\" fill-opacity=\"1\" /><path clip-path=\"url(#clip430)\" d=\"M1621.62 1488.36 L1625.88 1488.36 L1625.88 1514.75 Q1625.88 1519.7 1623.98 1521.93 Q1622.11 1524.15 1617.92 1524.15 L1616.3 1524.15 L1616.3 1520.54 L1617.43 1520.54 Q1619.86 1520.54 1620.74 1519.4 Q1621.62 1518.29 1621.62 1514.75 L1621.62 1488.36 M1621.62 1478.27 L1625.88 1478.27 L1625.88 1483.66 L1621.62 1483.66 L1621.62 1478.27 Z\" fill=\"#000000\" fill-rule=\"evenodd\" fill-opacity=\"1\" /><path clip-path=\"url(#clip430)\" d=\"M1634.79 1478.27 L1639.05 1478.27 L1639.05 1514.29 L1634.79 1514.29 L1634.79 1478.27 Z\" fill=\"#000000\" fill-rule=\"evenodd\" fill-opacity=\"1\" /><path clip-path=\"url(#clip430)\" d=\"M1796.27 1479.73 L1800.95 1479.73 L1800.95 1511.88 Q1800.95 1518.13 1798.56 1520.95 Q1796.2 1523.78 1790.95 1523.78 L1789.16 1523.78 L1789.16 1519.84 L1790.62 1519.84 Q1793.72 1519.84 1795 1518.11 Q1796.27 1516.37 1796.27 1511.88 L1796.27 1479.73 Z\" fill=\"#000000\" fill-rule=\"evenodd\" fill-opacity=\"1\" /><path clip-path=\"url(#clip430)\" d=\"M1830.97 1480.86 L1830.97 1485.42 Q1828.31 1484.15 1825.95 1483.52 Q1823.58 1482.9 1821.39 1482.9 Q1817.57 1482.9 1815.48 1484.38 Q1813.42 1485.86 1813.42 1488.59 Q1813.42 1490.89 1814.79 1492.07 Q1816.18 1493.22 1820.02 1493.94 L1822.84 1494.52 Q1828.08 1495.51 1830.55 1498.04 Q1833.05 1500.54 1833.05 1504.75 Q1833.05 1509.77 1829.67 1512.37 Q1826.32 1514.96 1819.81 1514.96 Q1817.36 1514.96 1814.58 1514.4 Q1811.83 1513.85 1808.86 1512.76 L1808.86 1507.95 Q1811.71 1509.54 1814.44 1510.35 Q1817.17 1511.16 1819.81 1511.16 Q1823.82 1511.16 1825.99 1509.59 Q1828.17 1508.01 1828.17 1505.1 Q1828.17 1502.55 1826.59 1501.12 Q1825.04 1499.68 1821.48 1498.96 L1818.63 1498.41 Q1813.4 1497.37 1811.06 1495.14 Q1808.72 1492.92 1808.72 1488.96 Q1808.72 1484.38 1811.94 1481.74 Q1815.18 1479.1 1820.85 1479.1 Q1823.28 1479.1 1825.81 1479.54 Q1828.33 1479.98 1830.97 1480.86 Z\" fill=\"#000000\" fill-rule=\"evenodd\" fill-opacity=\"1\" /><path clip-path=\"url(#clip430)\" d=\"M1854.37 1482.9 Q1849.28 1482.9 1846.27 1486.7 Q1843.28 1490.49 1843.28 1497.04 Q1843.28 1503.57 1846.27 1507.37 Q1849.28 1511.16 1854.37 1511.16 Q1859.46 1511.16 1862.43 1507.37 Q1865.41 1503.57 1865.41 1497.04 Q1865.41 1490.49 1862.43 1486.7 Q1859.46 1482.9 1854.37 1482.9 M1854.37 1479.1 Q1861.64 1479.1 1865.99 1483.99 Q1870.34 1488.85 1870.34 1497.04 Q1870.34 1505.21 1865.99 1510.1 Q1861.64 1514.96 1854.37 1514.96 Q1847.08 1514.96 1842.7 1510.1 Q1838.35 1505.24 1838.35 1497.04 Q1838.35 1488.85 1842.7 1483.99 Q1847.08 1479.1 1854.37 1479.1 Z\" fill=\"#000000\" fill-rule=\"evenodd\" fill-opacity=\"1\" /><path clip-path=\"url(#clip430)\" d=\"M1877.66 1479.73 L1883.95 1479.73 L1899.28 1508.64 L1899.28 1479.73 L1903.82 1479.73 L1903.82 1514.29 L1897.52 1514.29 L1882.2 1485.38 L1882.2 1514.29 L1877.66 1514.29 L1877.66 1479.73 Z\" fill=\"#000000\" fill-rule=\"evenodd\" fill-opacity=\"1\" /><path clip-path=\"url(#clip430)\" d=\"M1727.88 1543.19 Q1724.45 1543.19 1722.46 1545.87 Q1720.47 1548.54 1720.47 1553.19 Q1720.47 1557.84 1722.44 1560.53 Q1724.43 1563.19 1727.88 1563.19 Q1731.28 1563.19 1733.27 1560.5 Q1735.26 1557.82 1735.26 1553.19 Q1735.26 1548.58 1733.27 1545.9 Q1731.28 1543.19 1727.88 1543.19 M1727.88 1539.58 Q1733.43 1539.58 1736.61 1543.19 Q1739.78 1546.8 1739.78 1553.19 Q1739.78 1559.55 1736.61 1563.19 Q1733.43 1566.8 1727.88 1566.8 Q1722.3 1566.8 1719.13 1563.19 Q1715.98 1559.55 1715.98 1553.19 Q1715.98 1546.8 1719.13 1543.19 Q1722.3 1539.58 1727.88 1539.58 Z\" fill=\"#000000\" fill-rule=\"evenodd\" fill-opacity=\"1\" /><path clip-path=\"url(#clip430)\" d=\"M1765.45 1553.19 Q1765.45 1548.49 1763.5 1545.83 Q1761.58 1543.14 1758.2 1543.14 Q1754.82 1543.14 1752.88 1545.83 Q1750.96 1548.49 1750.96 1553.19 Q1750.96 1557.89 1752.88 1560.57 Q1754.82 1563.23 1758.2 1563.23 Q1761.58 1563.23 1763.5 1560.57 Q1765.45 1557.89 1765.45 1553.19 M1750.96 1544.14 Q1752.3 1541.82 1754.34 1540.71 Q1756.4 1539.58 1759.24 1539.58 Q1763.97 1539.58 1766.91 1543.33 Q1769.87 1547.08 1769.87 1553.19 Q1769.87 1559.3 1766.91 1563.05 Q1763.97 1566.8 1759.24 1566.8 Q1756.4 1566.8 1754.34 1565.69 Q1752.3 1564.55 1750.96 1562.24 L1750.96 1566.13 L1746.67 1566.13 L1746.67 1530.11 L1750.96 1530.11 L1750.96 1544.14 Z\" fill=\"#000000\" fill-rule=\"evenodd\" fill-opacity=\"1\" /><path clip-path=\"url(#clip430)\" d=\"M1776.93 1540.2 L1781.19 1540.2 L1781.19 1566.59 Q1781.19 1571.54 1779.29 1573.77 Q1777.42 1575.99 1773.23 1575.99 L1771.61 1575.99 L1771.61 1572.38 L1772.74 1572.38 Q1775.17 1572.38 1776.05 1571.24 Q1776.93 1570.13 1776.93 1566.59 L1776.93 1540.2 M1776.93 1530.11 L1781.19 1530.11 L1781.19 1535.5 L1776.93 1535.5 L1776.93 1530.11 Z\" fill=\"#000000\" fill-rule=\"evenodd\" fill-opacity=\"1\" /><path clip-path=\"url(#clip430)\" d=\"M1812.28 1552.1 L1812.28 1554.18 L1792.69 1554.18 Q1792.97 1558.58 1795.33 1560.9 Q1797.72 1563.19 1801.95 1563.19 Q1804.41 1563.19 1806.7 1562.59 Q1809.01 1561.98 1811.28 1560.78 L1811.28 1564.81 Q1808.99 1565.78 1806.58 1566.29 Q1804.17 1566.8 1801.7 1566.8 Q1795.49 1566.8 1791.86 1563.19 Q1788.25 1559.58 1788.25 1553.42 Q1788.25 1547.05 1791.67 1543.33 Q1795.12 1539.58 1800.96 1539.58 Q1806.19 1539.58 1809.22 1542.96 Q1812.28 1546.31 1812.28 1552.1 M1808.02 1550.85 Q1807.97 1547.35 1806.05 1545.27 Q1804.15 1543.19 1801 1543.19 Q1797.44 1543.19 1795.29 1545.2 Q1793.16 1547.22 1792.83 1550.87 L1808.02 1550.85 Z\" fill=\"#000000\" fill-rule=\"evenodd\" fill-opacity=\"1\" /><path clip-path=\"url(#clip430)\" d=\"M1837.92 1541.2 L1837.92 1545.18 Q1836.12 1544.18 1834.29 1543.7 Q1832.48 1543.19 1830.63 1543.19 Q1826.49 1543.19 1824.2 1545.83 Q1821.91 1548.44 1821.91 1553.19 Q1821.91 1557.93 1824.2 1560.57 Q1826.49 1563.19 1830.63 1563.19 Q1832.48 1563.19 1834.29 1562.7 Q1836.12 1562.19 1837.92 1561.2 L1837.92 1565.13 Q1836.14 1565.97 1834.22 1566.38 Q1832.32 1566.8 1830.17 1566.8 Q1824.31 1566.8 1820.86 1563.12 Q1817.42 1559.44 1817.42 1553.19 Q1817.42 1546.85 1820.89 1543.21 Q1824.38 1539.58 1830.45 1539.58 Q1832.42 1539.58 1834.29 1539.99 Q1836.17 1540.39 1837.92 1541.2 Z\" fill=\"#000000\" fill-rule=\"evenodd\" fill-opacity=\"1\" /><path clip-path=\"url(#clip430)\" d=\"M1849.54 1532.84 L1849.54 1540.2 L1858.32 1540.2 L1858.32 1543.51 L1849.54 1543.51 L1849.54 1557.59 Q1849.54 1560.76 1850.4 1561.66 Q1851.28 1562.56 1853.94 1562.56 L1858.32 1562.56 L1858.32 1566.13 L1853.94 1566.13 Q1849.01 1566.13 1847.14 1564.3 Q1845.26 1562.45 1845.26 1557.59 L1845.26 1543.51 L1842.14 1543.51 L1842.14 1540.2 L1845.26 1540.2 L1845.26 1532.84 L1849.54 1532.84 Z\" fill=\"#000000\" fill-rule=\"evenodd\" fill-opacity=\"1\" /><path clip-path=\"url(#clip430)\" d=\"M1868.13 1532.84 L1868.13 1540.2 L1876.91 1540.2 L1876.91 1543.51 L1868.13 1543.51 L1868.13 1557.59 Q1868.13 1560.76 1868.99 1561.66 Q1869.87 1562.56 1872.53 1562.56 L1876.91 1562.56 L1876.91 1566.13 L1872.53 1566.13 Q1867.6 1566.13 1865.73 1564.3 Q1863.85 1562.45 1863.85 1557.59 L1863.85 1543.51 L1860.73 1543.51 L1860.73 1540.2 L1863.85 1540.2 L1863.85 1532.84 L1868.13 1532.84 Z\" fill=\"#000000\" fill-rule=\"evenodd\" fill-opacity=\"1\" /><path clip-path=\"url(#clip430)\" d=\"M1894.29 1553.1 Q1889.13 1553.1 1887.14 1554.28 Q1885.15 1555.46 1885.15 1558.3 Q1885.15 1560.57 1886.63 1561.91 Q1888.13 1563.23 1890.7 1563.23 Q1894.24 1563.23 1896.37 1560.73 Q1898.53 1558.21 1898.53 1554.04 L1898.53 1553.1 L1894.29 1553.1 M1902.79 1551.34 L1902.79 1566.13 L1898.53 1566.13 L1898.53 1562.19 Q1897.07 1564.55 1894.89 1565.69 Q1892.72 1566.8 1889.57 1566.8 Q1885.59 1566.8 1883.23 1564.58 Q1880.89 1562.33 1880.89 1558.58 Q1880.89 1554.21 1883.8 1551.98 Q1886.74 1549.76 1892.55 1549.76 L1898.53 1549.76 L1898.53 1549.35 Q1898.53 1546.41 1896.58 1544.81 Q1894.66 1543.19 1891.16 1543.19 Q1888.94 1543.19 1886.84 1543.72 Q1884.73 1544.25 1882.79 1545.32 L1882.79 1541.38 Q1885.12 1540.48 1887.32 1540.04 Q1889.52 1539.58 1891.6 1539.58 Q1897.23 1539.58 1900.01 1542.49 Q1902.79 1545.41 1902.79 1551.34 Z\" fill=\"#000000\" fill-rule=\"evenodd\" fill-opacity=\"1\" /><path clip-path=\"url(#clip430)\" d=\"M1930.17 1553.19 Q1930.17 1548.49 1928.22 1545.83 Q1926.3 1543.14 1922.92 1543.14 Q1919.54 1543.14 1917.6 1545.83 Q1915.68 1548.49 1915.68 1553.19 Q1915.68 1557.89 1917.6 1560.57 Q1919.54 1563.23 1922.92 1563.23 Q1926.3 1563.23 1928.22 1560.57 Q1930.17 1557.89 1930.17 1553.19 M1915.68 1544.14 Q1917.02 1541.82 1919.06 1540.71 Q1921.12 1539.58 1923.97 1539.58 Q1928.69 1539.58 1931.63 1543.33 Q1934.59 1547.08 1934.59 1553.19 Q1934.59 1559.3 1931.63 1563.05 Q1928.69 1566.8 1923.97 1566.8 Q1921.12 1566.8 1919.06 1565.69 Q1917.02 1564.55 1915.68 1562.24 L1915.68 1566.13 L1911.4 1566.13 L1911.4 1530.11 L1915.68 1530.11 L1915.68 1544.14 Z\" fill=\"#000000\" fill-rule=\"evenodd\" fill-opacity=\"1\" /><path clip-path=\"url(#clip430)\" d=\"M1941.65 1530.11 L1945.91 1530.11 L1945.91 1566.13 L1941.65 1566.13 L1941.65 1530.11 Z\" fill=\"#000000\" fill-rule=\"evenodd\" fill-opacity=\"1\" /><path clip-path=\"url(#clip430)\" d=\"M1977 1552.1 L1977 1554.18 L1957.41 1554.18 Q1957.69 1558.58 1960.05 1560.9 Q1962.44 1563.19 1966.67 1563.19 Q1969.13 1563.19 1971.42 1562.59 Q1973.73 1561.98 1976 1560.78 L1976 1564.81 Q1973.71 1565.78 1971.3 1566.29 Q1968.9 1566.8 1966.42 1566.8 Q1960.22 1566.8 1956.58 1563.19 Q1952.97 1559.58 1952.97 1553.42 Q1952.97 1547.05 1956.4 1543.33 Q1959.85 1539.58 1965.68 1539.58 Q1970.91 1539.58 1973.94 1542.96 Q1977 1546.31 1977 1552.1 M1972.74 1550.85 Q1972.69 1547.35 1970.77 1545.27 Q1968.87 1543.19 1965.72 1543.19 Q1962.16 1543.19 1960.01 1545.2 Q1957.88 1547.22 1957.55 1550.87 L1972.74 1550.85 Z\" fill=\"#000000\" fill-rule=\"evenodd\" fill-opacity=\"1\" /><path clip-path=\"url(#clip430)\" d=\"M2006.37 1480.86 L2006.37 1485.42 Q2003.71 1484.15 2001.35 1483.52 Q1998.99 1482.9 1996.79 1482.9 Q1992.97 1482.9 1990.88 1484.38 Q1988.82 1485.86 1988.82 1488.59 Q1988.82 1490.89 1990.19 1492.07 Q1991.58 1493.22 1995.42 1493.94 L1998.25 1494.52 Q2003.48 1495.51 2005.95 1498.04 Q2008.45 1500.54 2008.45 1504.75 Q2008.45 1509.77 2005.07 1512.37 Q2001.72 1514.96 1995.21 1514.96 Q1992.76 1514.96 1989.98 1514.4 Q1987.23 1513.85 1984.26 1512.76 L1984.26 1507.95 Q1987.11 1509.54 1989.84 1510.35 Q1992.57 1511.16 1995.21 1511.16 Q1999.22 1511.16 2001.39 1509.59 Q2003.57 1508.01 2003.57 1505.1 Q2003.57 1502.55 2002 1501.12 Q2000.44 1499.68 1996.88 1498.96 L1994.03 1498.41 Q1988.8 1497.37 1986.46 1495.14 Q1984.13 1492.92 1984.13 1488.96 Q1984.13 1484.38 1987.34 1481.74 Q1990.58 1479.1 1996.25 1479.1 Q1998.69 1479.1 2001.21 1479.54 Q2003.73 1479.98 2006.37 1480.86 Z\" fill=\"#000000\" fill-rule=\"evenodd\" fill-opacity=\"1\" /><path clip-path=\"url(#clip430)\" d=\"M2037.74 1500.26 L2037.74 1502.34 L2018.15 1502.34 Q2018.43 1506.74 2020.79 1509.06 Q2023.18 1511.35 2027.41 1511.35 Q2029.87 1511.35 2032.16 1510.75 Q2034.47 1510.14 2036.74 1508.94 L2036.74 1512.97 Q2034.45 1513.94 2032.04 1514.45 Q2029.63 1514.96 2027.16 1514.96 Q2020.95 1514.96 2017.32 1511.35 Q2013.71 1507.74 2013.71 1501.58 Q2013.71 1495.21 2017.13 1491.49 Q2020.58 1487.74 2026.42 1487.74 Q2031.65 1487.74 2034.68 1491.12 Q2037.74 1494.47 2037.74 1500.26 M2033.48 1499.01 Q2033.43 1495.51 2031.51 1493.43 Q2029.61 1491.35 2026.46 1491.35 Q2022.9 1491.35 2020.75 1493.36 Q2018.62 1495.38 2018.29 1499.03 L2033.48 1499.01 Z\" fill=\"#000000\" fill-rule=\"evenodd\" fill-opacity=\"1\" /><path clip-path=\"url(#clip430)\" d=\"M2059.75 1492.34 Q2059.03 1491.93 2058.18 1491.74 Q2057.34 1491.53 2056.32 1491.53 Q2052.71 1491.53 2050.77 1493.89 Q2048.85 1496.23 2048.85 1500.63 L2048.85 1514.29 L2044.56 1514.29 L2044.56 1488.36 L2048.85 1488.36 L2048.85 1492.39 Q2050.19 1490.03 2052.34 1488.89 Q2054.5 1487.74 2057.57 1487.74 Q2058.01 1487.74 2058.55 1487.81 Q2059.08 1487.85 2059.73 1487.97 L2059.75 1492.34 Z\" fill=\"#000000\" fill-rule=\"evenodd\" fill-opacity=\"1\" /><path clip-path=\"url(#clip430)\" d=\"M2064.22 1488.36 L2068.48 1488.36 L2068.48 1514.29 L2064.22 1514.29 L2064.22 1488.36 M2064.22 1478.27 L2068.48 1478.27 L2068.48 1483.66 L2064.22 1483.66 L2064.22 1478.27 Z\" fill=\"#000000\" fill-rule=\"evenodd\" fill-opacity=\"1\" /><path clip-path=\"url(#clip430)\" d=\"M2089.17 1501.26 Q2084.01 1501.26 2082.02 1502.44 Q2080.03 1503.62 2080.03 1506.46 Q2080.03 1508.73 2081.51 1510.07 Q2083.01 1511.39 2085.58 1511.39 Q2089.12 1511.39 2091.25 1508.89 Q2093.41 1506.37 2093.41 1502.2 L2093.41 1501.26 L2089.17 1501.26 M2097.67 1499.5 L2097.67 1514.29 L2093.41 1514.29 L2093.41 1510.35 Q2091.95 1512.71 2089.77 1513.85 Q2087.6 1514.96 2084.45 1514.96 Q2080.47 1514.96 2078.11 1512.74 Q2075.77 1510.49 2075.77 1506.74 Q2075.77 1502.37 2078.69 1500.14 Q2081.62 1497.92 2087.44 1497.92 L2093.41 1497.92 L2093.41 1497.51 Q2093.41 1494.57 2091.46 1492.97 Q2089.54 1491.35 2086.05 1491.35 Q2083.82 1491.35 2081.72 1491.88 Q2079.61 1492.41 2077.67 1493.48 L2077.67 1489.54 Q2080 1488.64 2082.2 1488.2 Q2084.4 1487.74 2086.49 1487.74 Q2092.11 1487.74 2094.89 1490.65 Q2097.67 1493.57 2097.67 1499.5 Z\" fill=\"#000000\" fill-rule=\"evenodd\" fill-opacity=\"1\" /><path clip-path=\"url(#clip430)\" d=\"M2106.44 1478.27 L2110.7 1478.27 L2110.7 1514.29 L2106.44 1514.29 L2106.44 1478.27 Z\" fill=\"#000000\" fill-rule=\"evenodd\" fill-opacity=\"1\" /><path clip-path=\"url(#clip430)\" d=\"M2119.61 1488.36 L2123.87 1488.36 L2123.87 1514.29 L2119.61 1514.29 L2119.61 1488.36 M2119.61 1478.27 L2123.87 1478.27 L2123.87 1483.66 L2119.61 1483.66 L2119.61 1478.27 Z\" fill=\"#000000\" fill-rule=\"evenodd\" fill-opacity=\"1\" /><path clip-path=\"url(#clip430)\" d=\"M2130.93 1488.36 L2151.16 1488.36 L2151.16 1492.25 L2135.14 1510.89 L2151.16 1510.89 L2151.16 1514.29 L2130.35 1514.29 L2130.35 1510.4 L2146.37 1491.76 L2130.93 1491.76 L2130.93 1488.36 Z\" fill=\"#000000\" fill-rule=\"evenodd\" fill-opacity=\"1\" /><path clip-path=\"url(#clip430)\" d=\"M2169.45 1501.26 Q2164.29 1501.26 2162.3 1502.44 Q2160.31 1503.62 2160.31 1506.46 Q2160.31 1508.73 2161.79 1510.07 Q2163.29 1511.39 2165.86 1511.39 Q2169.4 1511.39 2171.53 1508.89 Q2173.68 1506.37 2173.68 1502.2 L2173.68 1501.26 L2169.45 1501.26 M2177.94 1499.5 L2177.94 1514.29 L2173.68 1514.29 L2173.68 1510.35 Q2172.23 1512.71 2170.05 1513.85 Q2167.87 1514.96 2164.73 1514.96 Q2160.74 1514.96 2158.38 1512.74 Q2156.05 1510.49 2156.05 1506.74 Q2156.05 1502.37 2158.96 1500.14 Q2161.9 1497.92 2167.71 1497.92 L2173.68 1497.92 L2173.68 1497.51 Q2173.68 1494.57 2171.74 1492.97 Q2169.82 1491.35 2166.32 1491.35 Q2164.1 1491.35 2161.99 1491.88 Q2159.89 1492.41 2157.94 1493.48 L2157.94 1489.54 Q2160.28 1488.64 2162.48 1488.2 Q2164.68 1487.74 2166.76 1487.74 Q2172.39 1487.74 2175.17 1490.65 Q2177.94 1493.57 2177.94 1499.5 Z\" fill=\"#000000\" fill-rule=\"evenodd\" fill-opacity=\"1\" /><path clip-path=\"url(#clip430)\" d=\"M2190.93 1481 L2190.93 1488.36 L2199.7 1488.36 L2199.7 1491.67 L2190.93 1491.67 L2190.93 1505.75 Q2190.93 1508.92 2191.79 1509.82 Q2192.67 1510.72 2195.33 1510.72 L2199.7 1510.72 L2199.7 1514.29 L2195.33 1514.29 Q2190.4 1514.29 2188.52 1512.46 Q2186.65 1510.61 2186.65 1505.75 L2186.65 1491.67 L2183.52 1491.67 L2183.52 1488.36 L2186.65 1488.36 L2186.65 1481 L2190.93 1481 Z\" fill=\"#000000\" fill-rule=\"evenodd\" fill-opacity=\"1\" /><path clip-path=\"url(#clip430)\" d=\"M2205.3 1488.36 L2209.56 1488.36 L2209.56 1514.29 L2205.3 1514.29 L2205.3 1488.36 M2205.3 1478.27 L2209.56 1478.27 L2209.56 1483.66 L2205.3 1483.66 L2205.3 1478.27 Z\" fill=\"#000000\" fill-rule=\"evenodd\" fill-opacity=\"1\" /><path clip-path=\"url(#clip430)\" d=\"M2228.52 1491.35 Q2225.1 1491.35 2223.11 1494.03 Q2221.11 1496.7 2221.11 1501.35 Q2221.11 1506 2223.08 1508.69 Q2225.07 1511.35 2228.52 1511.35 Q2231.93 1511.35 2233.92 1508.66 Q2235.91 1505.98 2235.91 1501.35 Q2235.91 1496.74 2233.92 1494.06 Q2231.93 1491.35 2228.52 1491.35 M2228.52 1487.74 Q2234.08 1487.74 2237.25 1491.35 Q2240.42 1494.96 2240.42 1501.35 Q2240.42 1507.71 2237.25 1511.35 Q2234.08 1514.96 2228.52 1514.96 Q2222.94 1514.96 2219.77 1511.35 Q2216.62 1507.71 2216.62 1501.35 Q2216.62 1494.96 2219.77 1491.35 Q2222.94 1487.74 2228.52 1487.74 Z\" fill=\"#000000\" fill-rule=\"evenodd\" fill-opacity=\"1\" /><path clip-path=\"url(#clip430)\" d=\"M2269.03 1498.64 L2269.03 1514.29 L2264.77 1514.29 L2264.77 1498.78 Q2264.77 1495.1 2263.34 1493.27 Q2261.9 1491.44 2259.03 1491.44 Q2255.58 1491.44 2253.59 1493.64 Q2251.6 1495.84 2251.6 1499.64 L2251.6 1514.29 L2247.32 1514.29 L2247.32 1488.36 L2251.6 1488.36 L2251.6 1492.39 Q2253.13 1490.05 2255.19 1488.89 Q2257.27 1487.74 2259.98 1487.74 Q2264.45 1487.74 2266.74 1490.51 Q2269.03 1493.27 2269.03 1498.64 Z\" fill=\"#000000\" fill-rule=\"evenodd\" fill-opacity=\"1\" /><polyline clip-path=\"url(#clip432)\" style=\"stroke:#000000; stroke-linecap:round; stroke-linejoin:round; stroke-width:2; stroke-opacity:0.1; fill:none\" points=\"219.866,1417.71 2352.76,1417.71 \"/>\n",
       "<polyline clip-path=\"url(#clip432)\" style=\"stroke:#000000; stroke-linecap:round; stroke-linejoin:round; stroke-width:2; stroke-opacity:0.1; fill:none\" points=\"219.866,1243.74 2352.76,1243.74 \"/>\n",
       "<polyline clip-path=\"url(#clip432)\" style=\"stroke:#000000; stroke-linecap:round; stroke-linejoin:round; stroke-width:2; stroke-opacity:0.1; fill:none\" points=\"219.866,1069.77 2352.76,1069.77 \"/>\n",
       "<polyline clip-path=\"url(#clip432)\" style=\"stroke:#000000; stroke-linecap:round; stroke-linejoin:round; stroke-width:2; stroke-opacity:0.1; fill:none\" points=\"219.866,895.804 2352.76,895.804 \"/>\n",
       "<polyline clip-path=\"url(#clip432)\" style=\"stroke:#000000; stroke-linecap:round; stroke-linejoin:round; stroke-width:2; stroke-opacity:0.1; fill:none\" points=\"219.866,721.833 2352.76,721.833 \"/>\n",
       "<polyline clip-path=\"url(#clip432)\" style=\"stroke:#000000; stroke-linecap:round; stroke-linejoin:round; stroke-width:2; stroke-opacity:0.1; fill:none\" points=\"219.866,547.863 2352.76,547.863 \"/>\n",
       "<polyline clip-path=\"url(#clip432)\" style=\"stroke:#000000; stroke-linecap:round; stroke-linejoin:round; stroke-width:2; stroke-opacity:0.1; fill:none\" points=\"219.866,373.892 2352.76,373.892 \"/>\n",
       "<polyline clip-path=\"url(#clip430)\" style=\"stroke:#000000; stroke-linecap:round; stroke-linejoin:round; stroke-width:4; stroke-opacity:1; fill:none\" points=\"219.866,1451.89 219.866,244.432 \"/>\n",
       "<polyline clip-path=\"url(#clip430)\" style=\"stroke:#000000; stroke-linecap:round; stroke-linejoin:round; stroke-width:4; stroke-opacity:1; fill:none\" points=\"219.866,1417.71 238.764,1417.71 \"/>\n",
       "<polyline clip-path=\"url(#clip430)\" style=\"stroke:#000000; stroke-linecap:round; stroke-linejoin:round; stroke-width:4; stroke-opacity:1; fill:none\" points=\"219.866,1243.74 238.764,1243.74 \"/>\n",
       "<polyline clip-path=\"url(#clip430)\" style=\"stroke:#000000; stroke-linecap:round; stroke-linejoin:round; stroke-width:4; stroke-opacity:1; fill:none\" points=\"219.866,1069.77 238.764,1069.77 \"/>\n",
       "<polyline clip-path=\"url(#clip430)\" style=\"stroke:#000000; stroke-linecap:round; stroke-linejoin:round; stroke-width:4; stroke-opacity:1; fill:none\" points=\"219.866,895.804 238.764,895.804 \"/>\n",
       "<polyline clip-path=\"url(#clip430)\" style=\"stroke:#000000; stroke-linecap:round; stroke-linejoin:round; stroke-width:4; stroke-opacity:1; fill:none\" points=\"219.866,721.833 238.764,721.833 \"/>\n",
       "<polyline clip-path=\"url(#clip430)\" style=\"stroke:#000000; stroke-linecap:round; stroke-linejoin:round; stroke-width:4; stroke-opacity:1; fill:none\" points=\"219.866,547.863 238.764,547.863 \"/>\n",
       "<polyline clip-path=\"url(#clip430)\" style=\"stroke:#000000; stroke-linecap:round; stroke-linejoin:round; stroke-width:4; stroke-opacity:1; fill:none\" points=\"219.866,373.892 238.764,373.892 \"/>\n",
       "<path clip-path=\"url(#clip430)\" d=\"M126.691 1403.51 Q123.08 1403.51 121.251 1407.08 Q119.445 1410.62 119.445 1417.75 Q119.445 1424.86 121.251 1428.42 Q123.08 1431.96 126.691 1431.96 Q130.325 1431.96 132.13 1428.42 Q133.959 1424.86 133.959 1417.75 Q133.959 1410.62 132.13 1407.08 Q130.325 1403.51 126.691 1403.51 M126.691 1399.81 Q132.501 1399.81 135.556 1404.42 Q138.635 1409 138.635 1417.75 Q138.635 1426.48 135.556 1431.08 Q132.501 1435.67 126.691 1435.67 Q120.88 1435.67 117.802 1431.08 Q114.746 1426.48 114.746 1417.75 Q114.746 1409 117.802 1404.42 Q120.88 1399.81 126.691 1399.81 Z\" fill=\"#000000\" fill-rule=\"evenodd\" fill-opacity=\"1\" /><path clip-path=\"url(#clip430)\" d=\"M146.853 1429.12 L151.737 1429.12 L151.737 1434.99 L146.853 1434.99 L146.853 1429.12 Z\" fill=\"#000000\" fill-rule=\"evenodd\" fill-opacity=\"1\" /><path clip-path=\"url(#clip430)\" d=\"M171.922 1403.51 Q168.311 1403.51 166.482 1407.08 Q164.677 1410.62 164.677 1417.75 Q164.677 1424.86 166.482 1428.42 Q168.311 1431.96 171.922 1431.96 Q175.556 1431.96 177.362 1428.42 Q179.19 1424.86 179.19 1417.75 Q179.19 1410.62 177.362 1407.08 Q175.556 1403.51 171.922 1403.51 M171.922 1399.81 Q177.732 1399.81 180.788 1404.42 Q183.866 1409 183.866 1417.75 Q183.866 1426.48 180.788 1431.08 Q177.732 1435.67 171.922 1435.67 Q166.112 1435.67 163.033 1431.08 Q159.978 1426.48 159.978 1417.75 Q159.978 1409 163.033 1404.42 Q166.112 1399.81 171.922 1399.81 Z\" fill=\"#000000\" fill-rule=\"evenodd\" fill-opacity=\"1\" /><path clip-path=\"url(#clip430)\" d=\"M128.288 1229.54 Q124.677 1229.54 122.848 1233.11 Q121.043 1236.65 121.043 1243.78 Q121.043 1250.89 122.848 1254.45 Q124.677 1257.99 128.288 1257.99 Q131.922 1257.99 133.728 1254.45 Q135.556 1250.89 135.556 1243.78 Q135.556 1236.65 133.728 1233.11 Q131.922 1229.54 128.288 1229.54 M128.288 1225.84 Q134.098 1225.84 137.154 1230.45 Q140.232 1235.03 140.232 1243.78 Q140.232 1252.51 137.154 1257.11 Q134.098 1261.7 128.288 1261.7 Q122.478 1261.7 119.399 1257.11 Q116.343 1252.51 116.343 1243.78 Q116.343 1235.03 119.399 1230.45 Q122.478 1225.84 128.288 1225.84 Z\" fill=\"#000000\" fill-rule=\"evenodd\" fill-opacity=\"1\" /><path clip-path=\"url(#clip430)\" d=\"M148.45 1255.14 L153.334 1255.14 L153.334 1261.02 L148.45 1261.02 L148.45 1255.14 Z\" fill=\"#000000\" fill-rule=\"evenodd\" fill-opacity=\"1\" /><path clip-path=\"url(#clip430)\" d=\"M167.547 1257.09 L183.866 1257.09 L183.866 1261.02 L161.922 1261.02 L161.922 1257.09 Q164.584 1254.33 169.167 1249.7 Q173.774 1245.05 174.954 1243.71 Q177.2 1241.19 178.079 1239.45 Q178.982 1237.69 178.982 1236 Q178.982 1233.25 177.038 1231.51 Q175.116 1229.77 172.014 1229.77 Q169.815 1229.77 167.362 1230.54 Q164.931 1231.3 162.153 1232.85 L162.153 1228.13 Q164.977 1227 167.431 1226.42 Q169.885 1225.84 171.922 1225.84 Q177.292 1225.84 180.487 1228.52 Q183.681 1231.21 183.681 1235.7 Q183.681 1237.83 182.871 1239.75 Q182.084 1241.65 179.977 1244.24 Q179.399 1244.91 176.297 1248.13 Q173.195 1251.33 167.547 1257.09 Z\" fill=\"#000000\" fill-rule=\"evenodd\" fill-opacity=\"1\" /><path clip-path=\"url(#clip430)\" d=\"M126.205 1055.57 Q122.593 1055.57 120.765 1059.14 Q118.959 1062.68 118.959 1069.81 Q118.959 1076.92 120.765 1080.48 Q122.593 1084.02 126.205 1084.02 Q129.839 1084.02 131.644 1080.48 Q133.473 1076.92 133.473 1069.81 Q133.473 1062.68 131.644 1059.14 Q129.839 1055.57 126.205 1055.57 M126.205 1051.87 Q132.015 1051.87 135.07 1056.48 Q138.149 1061.06 138.149 1069.81 Q138.149 1078.54 135.07 1083.14 Q132.015 1087.73 126.205 1087.73 Q120.394 1087.73 117.316 1083.14 Q114.26 1078.54 114.26 1069.81 Q114.26 1061.06 117.316 1056.48 Q120.394 1051.87 126.205 1051.87 Z\" fill=\"#000000\" fill-rule=\"evenodd\" fill-opacity=\"1\" /><path clip-path=\"url(#clip430)\" d=\"M146.366 1081.17 L151.251 1081.17 L151.251 1087.05 L146.366 1087.05 L146.366 1081.17 Z\" fill=\"#000000\" fill-rule=\"evenodd\" fill-opacity=\"1\" /><path clip-path=\"url(#clip430)\" d=\"M174.283 1056.57 L162.477 1075.02 L174.283 1075.02 L174.283 1056.57 M173.056 1052.49 L178.936 1052.49 L178.936 1075.02 L183.866 1075.02 L183.866 1078.91 L178.936 1078.91 L178.936 1087.05 L174.283 1087.05 L174.283 1078.91 L158.681 1078.91 L158.681 1074.39 L173.056 1052.49 Z\" fill=\"#000000\" fill-rule=\"evenodd\" fill-opacity=\"1\" /><path clip-path=\"url(#clip430)\" d=\"M126.529 881.602 Q122.918 881.602 121.089 885.167 Q119.283 888.709 119.283 895.838 Q119.283 902.945 121.089 906.509 Q122.918 910.051 126.529 910.051 Q130.163 910.051 131.968 906.509 Q133.797 902.945 133.797 895.838 Q133.797 888.709 131.968 885.167 Q130.163 881.602 126.529 881.602 M126.529 877.899 Q132.339 877.899 135.394 882.505 Q138.473 887.088 138.473 895.838 Q138.473 904.565 135.394 909.172 Q132.339 913.755 126.529 913.755 Q120.718 913.755 117.64 909.172 Q114.584 904.565 114.584 895.838 Q114.584 887.088 117.64 882.505 Q120.718 877.899 126.529 877.899 Z\" fill=\"#000000\" fill-rule=\"evenodd\" fill-opacity=\"1\" /><path clip-path=\"url(#clip430)\" d=\"M146.691 907.204 L151.575 907.204 L151.575 913.084 L146.691 913.084 L146.691 907.204 Z\" fill=\"#000000\" fill-rule=\"evenodd\" fill-opacity=\"1\" /><path clip-path=\"url(#clip430)\" d=\"M172.339 893.94 Q169.19 893.94 167.339 896.093 Q165.51 898.246 165.51 901.996 Q165.51 905.722 167.339 907.898 Q169.19 910.051 172.339 910.051 Q175.487 910.051 177.315 907.898 Q179.167 905.722 179.167 901.996 Q179.167 898.246 177.315 896.093 Q175.487 893.94 172.339 893.94 M181.621 879.287 L181.621 883.547 Q179.862 882.713 178.056 882.274 Q176.274 881.834 174.514 881.834 Q169.885 881.834 167.431 884.959 Q165.001 888.084 164.653 894.403 Q166.019 892.389 168.079 891.324 Q170.139 890.236 172.616 890.236 Q177.825 890.236 180.834 893.408 Q183.866 896.556 183.866 901.996 Q183.866 907.32 180.718 910.537 Q177.57 913.755 172.339 913.755 Q166.343 913.755 163.172 909.172 Q160.001 904.565 160.001 895.838 Q160.001 887.644 163.89 882.783 Q167.778 877.899 174.329 877.899 Q176.089 877.899 177.871 878.246 Q179.676 878.593 181.621 879.287 Z\" fill=\"#000000\" fill-rule=\"evenodd\" fill-opacity=\"1\" /><path clip-path=\"url(#clip430)\" d=\"M126.783 707.632 Q123.172 707.632 121.343 711.197 Q119.538 714.738 119.538 721.868 Q119.538 728.974 121.343 732.539 Q123.172 736.081 126.783 736.081 Q130.417 736.081 132.223 732.539 Q134.052 728.974 134.052 721.868 Q134.052 714.738 132.223 711.197 Q130.417 707.632 126.783 707.632 M126.783 703.928 Q132.593 703.928 135.649 708.535 Q138.728 713.118 138.728 721.868 Q138.728 730.595 135.649 735.201 Q132.593 739.784 126.783 739.784 Q120.973 739.784 117.894 735.201 Q114.839 730.595 114.839 721.868 Q114.839 713.118 117.894 708.535 Q120.973 703.928 126.783 703.928 Z\" fill=\"#000000\" fill-rule=\"evenodd\" fill-opacity=\"1\" /><path clip-path=\"url(#clip430)\" d=\"M146.945 733.234 L151.829 733.234 L151.829 739.113 L146.945 739.113 L146.945 733.234 Z\" fill=\"#000000\" fill-rule=\"evenodd\" fill-opacity=\"1\" /><path clip-path=\"url(#clip430)\" d=\"M172.014 722.701 Q168.681 722.701 166.76 724.484 Q164.862 726.266 164.862 729.391 Q164.862 732.516 166.76 734.298 Q168.681 736.081 172.014 736.081 Q175.348 736.081 177.269 734.298 Q179.19 732.493 179.19 729.391 Q179.19 726.266 177.269 724.484 Q175.371 722.701 172.014 722.701 M167.339 720.71 Q164.329 719.97 162.64 717.91 Q160.973 715.849 160.973 712.886 Q160.973 708.743 163.913 706.336 Q166.876 703.928 172.014 703.928 Q177.176 703.928 180.116 706.336 Q183.056 708.743 183.056 712.886 Q183.056 715.849 181.366 717.91 Q179.7 719.97 176.714 720.71 Q180.093 721.498 181.968 723.789 Q183.866 726.081 183.866 729.391 Q183.866 734.414 180.788 737.099 Q177.732 739.784 172.014 739.784 Q166.297 739.784 163.218 737.099 Q160.163 734.414 160.163 729.391 Q160.163 726.081 162.061 723.789 Q163.959 721.498 167.339 720.71 M165.626 713.326 Q165.626 716.011 167.292 717.516 Q168.982 719.021 172.014 719.021 Q175.024 719.021 176.714 717.516 Q178.426 716.011 178.426 713.326 Q178.426 710.641 176.714 709.136 Q175.024 707.632 172.014 707.632 Q168.982 707.632 167.292 709.136 Q165.626 710.641 165.626 713.326 Z\" fill=\"#000000\" fill-rule=\"evenodd\" fill-opacity=\"1\" /><path clip-path=\"url(#clip430)\" d=\"M117.501 561.208 L125.14 561.208 L125.14 534.842 L116.83 536.509 L116.83 532.249 L125.093 530.583 L129.769 530.583 L129.769 561.208 L137.408 561.208 L137.408 565.143 L117.501 565.143 L117.501 561.208 Z\" fill=\"#000000\" fill-rule=\"evenodd\" fill-opacity=\"1\" /><path clip-path=\"url(#clip430)\" d=\"M146.853 559.263 L151.737 559.263 L151.737 565.143 L146.853 565.143 L146.853 559.263 Z\" fill=\"#000000\" fill-rule=\"evenodd\" fill-opacity=\"1\" /><path clip-path=\"url(#clip430)\" d=\"M171.922 533.661 Q168.311 533.661 166.482 537.226 Q164.677 540.768 164.677 547.898 Q164.677 555.004 166.482 558.569 Q168.311 562.11 171.922 562.11 Q175.556 562.11 177.362 558.569 Q179.19 555.004 179.19 547.898 Q179.19 540.768 177.362 537.226 Q175.556 533.661 171.922 533.661 M171.922 529.958 Q177.732 529.958 180.788 534.564 Q183.866 539.148 183.866 547.898 Q183.866 556.624 180.788 561.231 Q177.732 565.814 171.922 565.814 Q166.112 565.814 163.033 561.231 Q159.978 556.624 159.978 547.898 Q159.978 539.148 163.033 534.564 Q166.112 529.958 171.922 529.958 Z\" fill=\"#000000\" fill-rule=\"evenodd\" fill-opacity=\"1\" /><path clip-path=\"url(#clip430)\" d=\"M119.098 387.237 L126.737 387.237 L126.737 360.872 L118.427 362.538 L118.427 358.279 L126.691 356.612 L131.367 356.612 L131.367 387.237 L139.005 387.237 L139.005 391.172 L119.098 391.172 L119.098 387.237 Z\" fill=\"#000000\" fill-rule=\"evenodd\" fill-opacity=\"1\" /><path clip-path=\"url(#clip430)\" d=\"M148.45 385.293 L153.334 385.293 L153.334 391.172 L148.45 391.172 L148.45 385.293 Z\" fill=\"#000000\" fill-rule=\"evenodd\" fill-opacity=\"1\" /><path clip-path=\"url(#clip430)\" d=\"M167.547 387.237 L183.866 387.237 L183.866 391.172 L161.922 391.172 L161.922 387.237 Q164.584 384.483 169.167 379.853 Q173.774 375.2 174.954 373.858 Q177.2 371.335 178.079 369.598 Q178.982 367.839 178.982 366.149 Q178.982 363.395 177.038 361.659 Q175.116 359.923 172.014 359.923 Q169.815 359.923 167.362 360.686 Q164.931 361.45 162.153 363.001 L162.153 358.279 Q164.977 357.145 167.431 356.566 Q169.885 355.987 171.922 355.987 Q177.292 355.987 180.487 358.673 Q183.681 361.358 183.681 365.849 Q183.681 367.978 182.871 369.899 Q182.084 371.798 179.977 374.39 Q179.399 375.061 176.297 378.279 Q173.195 381.473 167.547 387.237 Z\" fill=\"#000000\" fill-rule=\"evenodd\" fill-opacity=\"1\" /><path clip-path=\"url(#clip430)\" d=\"M18.0438 932.41 L24.314 932.41 Q22.5634 936.07 21.704 939.317 Q20.8447 942.563 20.8447 945.587 Q20.8447 950.839 22.8817 953.703 Q24.9187 956.536 28.6745 956.536 Q31.8255 956.536 33.4488 954.658 Q35.0402 952.749 36.0269 947.465 L36.8226 943.582 Q38.1912 936.389 41.6605 932.983 Q45.098 929.546 50.8908 929.546 Q57.7976 929.546 61.3624 934.193 Q64.9272 938.808 64.9272 947.751 Q64.9272 951.125 64.1633 954.945 Q63.3994 958.732 61.9035 962.806 L55.2831 962.806 Q57.4793 958.891 58.5933 955.136 Q59.7073 951.38 59.7073 947.751 Q59.7073 942.245 57.543 939.253 Q55.3786 936.261 51.3682 936.261 Q47.8671 936.261 45.8937 938.426 Q43.9204 940.558 42.9337 945.46 L42.1698 949.375 Q40.7375 956.568 37.682 959.783 Q34.6264 962.997 29.1837 962.997 Q22.8817 962.997 19.2532 958.573 Q15.6248 954.117 15.6248 946.319 Q15.6248 942.977 16.2295 939.508 Q16.8343 936.039 18.0438 932.41 Z\" fill=\"#000000\" fill-rule=\"evenodd\" fill-opacity=\"1\" /><path clip-path=\"url(#clip430)\" d=\"M44.7161 889.282 L47.5806 889.282 L47.5806 916.209 Q53.6281 915.827 56.8109 912.581 Q59.9619 909.303 59.9619 903.478 Q59.9619 900.104 59.1344 896.953 Q58.3069 893.77 56.6518 890.651 L62.1899 890.651 Q63.5267 893.802 64.227 897.112 Q64.9272 900.422 64.9272 903.828 Q64.9272 912.358 59.9619 917.355 Q54.9967 922.32 46.5303 922.32 Q37.7774 922.32 32.6531 917.61 Q27.4968 912.867 27.4968 904.847 Q27.4968 897.653 32.1438 893.484 Q36.7589 889.282 44.7161 889.282 M42.9973 895.139 Q38.1912 895.203 35.3266 897.844 Q32.4621 900.454 32.4621 904.783 Q32.4621 909.685 35.2312 912.645 Q38.0002 915.573 43.0292 916.018 L42.9973 895.139 Z\" fill=\"#000000\" fill-rule=\"evenodd\" fill-opacity=\"1\" /><path clip-path=\"url(#clip430)\" d=\"M29.7248 854.016 L35.1993 854.016 Q33.8307 856.499 33.1623 859.014 Q32.4621 861.496 32.4621 864.042 Q32.4621 869.74 36.0905 872.891 Q39.6872 876.042 46.212 876.042 Q52.7369 876.042 56.3653 872.891 Q59.9619 869.74 59.9619 864.042 Q59.9619 861.496 59.2935 859.014 Q58.5933 856.499 57.2247 854.016 L62.6355 854.016 Q63.7814 856.467 64.3543 859.109 Q64.9272 861.719 64.9272 864.679 Q64.9272 872.732 59.8664 877.474 Q54.8057 882.217 46.212 882.217 Q37.491 882.217 32.4939 877.442 Q27.4968 872.636 27.4968 864.297 Q27.4968 861.592 28.0697 859.014 Q28.6108 856.435 29.7248 854.016 Z\" fill=\"#000000\" fill-rule=\"evenodd\" fill-opacity=\"1\" /><path clip-path=\"url(#clip430)\" d=\"M32.4621 830.018 Q32.4621 834.728 36.1542 837.466 Q39.8145 840.203 46.212 840.203 Q52.6095 840.203 56.3017 837.497 Q59.9619 834.76 59.9619 830.018 Q59.9619 825.339 56.2698 822.602 Q52.5777 819.864 46.212 819.864 Q39.8781 819.864 36.186 822.602 Q32.4621 825.339 32.4621 830.018 M27.4968 830.018 Q27.4968 822.379 32.4621 818.018 Q37.4273 813.658 46.212 813.658 Q54.9649 813.658 59.9619 818.018 Q64.9272 822.379 64.9272 830.018 Q64.9272 837.688 59.9619 842.049 Q54.9649 846.378 46.212 846.378 Q37.4273 846.378 32.4621 842.049 Q27.4968 837.688 27.4968 830.018 Z\" fill=\"#000000\" fill-rule=\"evenodd\" fill-opacity=\"1\" /><path clip-path=\"url(#clip430)\" d=\"M42.4881 774.318 L64.0042 774.318 L64.0042 780.174 L42.679 780.174 Q37.6183 780.174 35.1038 782.148 Q32.5894 784.121 32.5894 788.068 Q32.5894 792.81 35.6131 795.547 Q38.6368 798.285 43.8567 798.285 L64.0042 798.285 L64.0042 804.173 L28.3562 804.173 L28.3562 798.285 L33.8944 798.285 Q30.6797 796.184 29.0883 793.351 Q27.4968 790.487 27.4968 786.763 Q27.4968 780.62 31.3163 777.469 Q35.1038 774.318 42.4881 774.318 Z\" fill=\"#000000\" fill-rule=\"evenodd\" fill-opacity=\"1\" /><path clip-path=\"url(#clip430)\" d=\"M33.7671 739.179 L14.479 739.179 L14.479 733.323 L64.0042 733.323 L64.0042 739.179 L58.657 739.179 Q61.8398 741.025 63.3994 743.858 Q64.9272 746.659 64.9272 750.606 Q64.9272 757.067 59.771 761.141 Q54.6147 765.183 46.212 765.183 Q37.8093 765.183 32.6531 761.141 Q27.4968 757.067 27.4968 750.606 Q27.4968 746.659 29.0564 743.858 Q30.5842 741.025 33.7671 739.179 M46.212 759.136 Q52.6732 759.136 56.3653 756.494 Q60.0256 753.82 60.0256 749.173 Q60.0256 744.526 56.3653 741.853 Q52.6732 739.179 46.212 739.179 Q39.7508 739.179 36.0905 741.853 Q32.3984 744.526 32.3984 749.173 Q32.3984 753.82 36.0905 756.494 Q39.7508 759.136 46.212 759.136 Z\" fill=\"#000000\" fill-rule=\"evenodd\" fill-opacity=\"1\" /><path clip-path=\"url(#clip430)\" d=\"M940.992 74.4597 Q943.625 75.3509 946.096 78.2675 Q948.607 81.1842 951.119 86.2883 L959.423 102.816 L950.633 102.816 L942.896 87.301 Q939.898 81.2247 937.062 79.2397 Q934.267 77.2548 929.406 77.2548 L920.494 77.2548 L920.494 102.816 L912.311 102.816 L912.311 42.336 L930.783 42.336 Q941.154 42.336 946.258 46.6705 Q951.362 51.0049 951.362 59.7549 Q951.362 65.4667 948.688 69.234 Q946.055 73.0013 940.992 74.4597 M920.494 49.0605 L920.494 70.5303 L930.783 70.5303 Q936.698 70.5303 939.695 67.8162 Q942.734 65.0616 942.734 59.7549 Q942.734 54.4482 939.695 51.7746 Q936.698 49.0605 930.783 49.0605 L920.494 49.0605 Z\" fill=\"#000000\" fill-rule=\"evenodd\" fill-opacity=\"1\" /><path clip-path=\"url(#clip430)\" d=\"M1004.71 78.2675 L1004.71 81.9133 L970.442 81.9133 Q970.928 89.6101 975.06 93.661 Q979.232 97.6714 986.645 97.6714 Q990.939 97.6714 994.95 96.6181 Q999.001 95.5649 1002.97 93.4584 L1002.97 100.507 Q998.96 102.208 994.747 103.1 Q990.534 103.991 986.2 103.991 Q975.343 103.991 968.984 97.6714 Q962.664 91.3519 962.664 80.5765 Q962.664 69.4365 968.659 62.9146 Q974.695 56.3521 984.904 56.3521 Q994.059 56.3521 999.365 62.2664 Q1004.71 68.1403 1004.71 78.2675 M997.259 76.08 Q997.178 69.9632 993.816 66.3174 Q990.494 62.6715 984.985 62.6715 Q978.746 62.6715 974.979 66.1958 Q971.252 69.7201 970.685 76.1205 L997.259 76.08 Z\" fill=\"#000000\" fill-rule=\"evenodd\" fill-opacity=\"1\" /><path clip-path=\"url(#clip430)\" d=\"M1037.57 80.0094 Q1028.53 80.0094 1025.05 82.0754 Q1021.56 84.1413 1021.56 89.1239 Q1021.56 93.0938 1024.16 95.4434 Q1026.79 97.7524 1031.29 97.7524 Q1037.48 97.7524 1041.21 93.3774 Q1044.98 88.9619 1044.98 81.6703 L1044.98 80.0094 L1037.57 80.0094 M1052.43 76.9307 L1052.43 102.816 L1044.98 102.816 L1044.98 95.9295 Q1042.43 100.061 1038.62 102.046 Q1034.81 103.991 1029.3 103.991 Q1022.33 103.991 1018.2 100.102 Q1014.11 96.1725 1014.11 89.6101 Q1014.11 81.9538 1019.21 78.065 Q1024.36 74.1761 1034.53 74.1761 L1044.98 74.1761 L1044.98 73.4469 Q1044.98 68.3023 1041.58 65.5072 Q1038.21 62.6715 1032.1 62.6715 Q1028.21 62.6715 1024.52 63.6032 Q1020.84 64.535 1017.43 66.3984 L1017.43 59.5118 Q1021.52 57.932 1025.37 57.1623 Q1029.22 56.3521 1032.87 56.3521 Q1042.71 56.3521 1047.57 61.4563 Q1052.43 66.5604 1052.43 76.9307 Z\" fill=\"#000000\" fill-rule=\"evenodd\" fill-opacity=\"1\" /><path clip-path=\"url(#clip430)\" d=\"M1097.64 64.3324 L1097.64 39.7839 L1105.09 39.7839 L1105.09 102.816 L1097.64 102.816 L1097.64 96.0105 Q1095.29 100.061 1091.69 102.046 Q1088.12 103.991 1083.1 103.991 Q1074.87 103.991 1069.69 97.4283 Q1064.54 90.8658 1064.54 80.1714 Q1064.54 69.4771 1069.69 62.9146 Q1074.87 56.3521 1083.1 56.3521 Q1088.12 56.3521 1091.69 58.3371 Q1095.29 60.2815 1097.64 64.3324 M1072.24 80.1714 Q1072.24 88.3948 1075.6 93.0938 Q1079.01 97.7524 1084.92 97.7524 Q1090.83 97.7524 1094.24 93.0938 Q1097.64 88.3948 1097.64 80.1714 Q1097.64 71.9481 1094.24 67.2896 Q1090.83 62.5905 1084.92 62.5905 Q1079.01 62.5905 1075.6 67.2896 Q1072.24 71.9481 1072.24 80.1714 Z\" fill=\"#000000\" fill-rule=\"evenodd\" fill-opacity=\"1\" /><path clip-path=\"url(#clip430)\" d=\"M1155.33 49.0605 L1155.33 71.7861 L1165.61 71.7861 Q1171.33 71.7861 1174.45 68.8289 Q1177.56 65.8718 1177.56 60.403 Q1177.56 54.9748 1174.45 52.0177 Q1171.33 49.0605 1165.61 49.0605 L1155.33 49.0605 M1147.14 42.336 L1165.61 42.336 Q1175.78 42.336 1180.97 46.954 Q1186.19 51.5316 1186.19 60.403 Q1186.19 69.3555 1180.97 73.9331 Q1175.78 78.5106 1165.61 78.5106 L1155.33 78.5106 L1155.33 102.816 L1147.14 102.816 L1147.14 42.336 Z\" fill=\"#000000\" fill-rule=\"evenodd\" fill-opacity=\"1\" /><path clip-path=\"url(#clip430)\" d=\"M1232.7 78.2675 L1232.7 81.9133 L1198.43 81.9133 Q1198.91 89.6101 1203.04 93.661 Q1207.22 97.6714 1214.63 97.6714 Q1218.92 97.6714 1222.93 96.6181 Q1226.99 95.5649 1230.96 93.4584 L1230.96 100.507 Q1226.95 102.208 1222.73 103.1 Q1218.52 103.991 1214.18 103.991 Q1203.33 103.991 1196.97 97.6714 Q1190.65 91.3519 1190.65 80.5765 Q1190.65 69.4365 1196.64 62.9146 Q1202.68 56.3521 1212.89 56.3521 Q1222.04 56.3521 1227.35 62.2664 Q1232.7 68.1403 1232.7 78.2675 M1225.24 76.08 Q1225.16 69.9632 1221.8 66.3174 Q1218.48 62.6715 1212.97 62.6715 Q1206.73 62.6715 1202.96 66.1958 Q1199.24 69.7201 1198.67 76.1205 L1225.24 76.08 Z\" fill=\"#000000\" fill-rule=\"evenodd\" fill-opacity=\"1\" /><path clip-path=\"url(#clip430)\" d=\"M1271.22 64.4134 Q1269.97 63.6843 1268.47 63.3602 Q1267.01 62.9956 1265.23 62.9956 Q1258.91 62.9956 1255.5 67.1275 Q1252.14 71.2189 1252.14 78.9157 L1252.14 102.816 L1244.65 102.816 L1244.65 57.4459 L1252.14 57.4459 L1252.14 64.4944 Q1254.49 60.3625 1258.26 58.3776 Q1262.03 56.3521 1267.41 56.3521 Q1268.18 56.3521 1269.11 56.4737 Q1270.05 56.5547 1271.18 56.7572 L1271.22 64.4134 Z\" fill=\"#000000\" fill-rule=\"evenodd\" fill-opacity=\"1\" /><path clip-path=\"url(#clip430)\" d=\"M1302.01 39.7839 L1302.01 45.9818 L1294.88 45.9818 Q1290.87 45.9818 1289.29 47.6022 Q1287.75 49.2225 1287.75 53.4355 L1287.75 57.4459 L1300.02 57.4459 L1300.02 63.2387 L1287.75 63.2387 L1287.75 102.816 L1280.25 102.816 L1280.25 63.2387 L1273.13 63.2387 L1273.13 57.4459 L1280.25 57.4459 L1280.25 54.2862 Q1280.25 46.711 1283.78 43.2677 Q1287.3 39.7839 1294.96 39.7839 L1302.01 39.7839 Z\" fill=\"#000000\" fill-rule=\"evenodd\" fill-opacity=\"1\" /><path clip-path=\"url(#clip430)\" d=\"M1325.83 62.6715 Q1319.83 62.6715 1316.35 67.3706 Q1312.86 72.0291 1312.86 80.1714 Q1312.86 88.3138 1316.31 93.0128 Q1319.79 97.6714 1325.83 97.6714 Q1331.78 97.6714 1335.27 92.9723 Q1338.75 88.2733 1338.75 80.1714 Q1338.75 72.1101 1335.27 67.4111 Q1331.78 62.6715 1325.83 62.6715 M1325.83 56.3521 Q1335.55 56.3521 1341.1 62.6715 Q1346.65 68.9909 1346.65 80.1714 Q1346.65 91.3114 1341.1 97.6714 Q1335.55 103.991 1325.83 103.991 Q1316.06 103.991 1310.52 97.6714 Q1305.01 91.3114 1305.01 80.1714 Q1305.01 68.9909 1310.52 62.6715 Q1316.06 56.3521 1325.83 56.3521 Z\" fill=\"#000000\" fill-rule=\"evenodd\" fill-opacity=\"1\" /><path clip-path=\"url(#clip430)\" d=\"M1385.29 64.4134 Q1384.04 63.6843 1382.54 63.3602 Q1381.08 62.9956 1379.3 62.9956 Q1372.98 62.9956 1369.58 67.1275 Q1366.22 71.2189 1366.22 78.9157 L1366.22 102.816 L1358.72 102.816 L1358.72 57.4459 L1366.22 57.4459 L1366.22 64.4944 Q1368.56 60.3625 1372.33 58.3776 Q1376.1 56.3521 1381.49 56.3521 Q1382.26 56.3521 1383.19 56.4737 Q1384.12 56.5547 1385.25 56.7572 L1385.29 64.4134 Z\" fill=\"#000000\" fill-rule=\"evenodd\" fill-opacity=\"1\" /><path clip-path=\"url(#clip430)\" d=\"M1426.98 66.1553 Q1429.77 61.1322 1433.66 58.7422 Q1437.55 56.3521 1442.82 56.3521 Q1449.91 56.3521 1453.76 61.3347 Q1457.6 66.2768 1457.6 75.4319 L1457.6 102.816 L1450.11 102.816 L1450.11 75.6749 Q1450.11 69.153 1447.8 65.9933 Q1445.49 62.8336 1440.75 62.8336 Q1434.96 62.8336 1431.6 66.6819 Q1428.23 70.5303 1428.23 77.1738 L1428.23 102.816 L1420.74 102.816 L1420.74 75.6749 Q1420.74 69.1125 1418.43 65.9933 Q1416.12 62.8336 1411.3 62.8336 Q1405.59 62.8336 1402.23 66.7224 Q1398.87 70.5708 1398.87 77.1738 L1398.87 102.816 L1391.37 102.816 L1391.37 57.4459 L1398.87 57.4459 L1398.87 64.4944 Q1401.42 60.322 1404.98 58.3371 Q1408.55 56.3521 1413.45 56.3521 Q1418.39 56.3521 1421.83 58.8637 Q1425.32 61.3752 1426.98 66.1553 Z\" fill=\"#000000\" fill-rule=\"evenodd\" fill-opacity=\"1\" /><path clip-path=\"url(#clip430)\" d=\"M1493.09 80.0094 Q1484.06 80.0094 1480.57 82.0754 Q1477.09 84.1413 1477.09 89.1239 Q1477.09 93.0938 1479.68 95.4434 Q1482.31 97.7524 1486.81 97.7524 Q1493.01 97.7524 1496.74 93.3774 Q1500.5 88.9619 1500.5 81.6703 L1500.5 80.0094 L1493.09 80.0094 M1507.96 76.9307 L1507.96 102.816 L1500.5 102.816 L1500.5 95.9295 Q1497.95 100.061 1494.14 102.046 Q1490.33 103.991 1484.83 103.991 Q1477.86 103.991 1473.73 100.102 Q1469.63 96.1725 1469.63 89.6101 Q1469.63 81.9538 1474.74 78.065 Q1479.88 74.1761 1490.05 74.1761 L1500.5 74.1761 L1500.5 73.4469 Q1500.5 68.3023 1497.1 65.5072 Q1493.74 62.6715 1487.62 62.6715 Q1483.73 62.6715 1480.05 63.6032 Q1476.36 64.535 1472.96 66.3984 L1472.96 59.5118 Q1477.05 57.932 1480.9 57.1623 Q1484.74 56.3521 1488.39 56.3521 Q1498.23 56.3521 1503.1 61.4563 Q1507.96 66.5604 1507.96 76.9307 Z\" fill=\"#000000\" fill-rule=\"evenodd\" fill-opacity=\"1\" /><path clip-path=\"url(#clip430)\" d=\"M1561.02 75.4319 L1561.02 102.816 L1553.57 102.816 L1553.57 75.6749 Q1553.57 69.234 1551.06 66.0338 Q1548.55 62.8336 1543.52 62.8336 Q1537.49 62.8336 1534 66.6819 Q1530.52 70.5303 1530.52 77.1738 L1530.52 102.816 L1523.03 102.816 L1523.03 57.4459 L1530.52 57.4459 L1530.52 64.4944 Q1533.19 60.403 1536.8 58.3776 Q1540.44 56.3521 1545.18 56.3521 Q1553 56.3521 1557.01 61.2132 Q1561.02 66.0338 1561.02 75.4319 Z\" fill=\"#000000\" fill-rule=\"evenodd\" fill-opacity=\"1\" /><path clip-path=\"url(#clip430)\" d=\"M1608.54 59.1878 L1608.54 66.1553 Q1605.38 64.4134 1602.18 63.5627 Q1599.02 62.6715 1595.78 62.6715 Q1588.53 62.6715 1584.52 67.2896 Q1580.51 71.8671 1580.51 80.1714 Q1580.51 88.4758 1584.52 93.0938 Q1588.53 97.6714 1595.78 97.6714 Q1599.02 97.6714 1602.18 96.8207 Q1605.38 95.9295 1608.54 94.1876 L1608.54 101.074 Q1605.42 102.532 1602.06 103.262 Q1598.74 103.991 1594.97 103.991 Q1584.72 103.991 1578.69 97.5498 Q1572.65 91.1089 1572.65 80.1714 Q1572.65 69.072 1578.73 62.712 Q1584.84 56.3521 1595.46 56.3521 Q1598.9 56.3521 1602.18 57.0813 Q1605.46 57.7699 1608.54 59.1878 Z\" fill=\"#000000\" fill-rule=\"evenodd\" fill-opacity=\"1\" /><path clip-path=\"url(#clip430)\" d=\"M1660.31 78.2675 L1660.31 81.9133 L1626.04 81.9133 Q1626.53 89.6101 1630.66 93.661 Q1634.83 97.6714 1642.24 97.6714 Q1646.54 97.6714 1650.55 96.6181 Q1654.6 95.5649 1658.57 93.4584 L1658.57 100.507 Q1654.56 102.208 1650.35 103.1 Q1646.13 103.991 1641.8 103.991 Q1630.94 103.991 1624.58 97.6714 Q1618.26 91.3519 1618.26 80.5765 Q1618.26 69.4365 1624.26 62.9146 Q1630.29 56.3521 1640.5 56.3521 Q1649.66 56.3521 1654.96 62.2664 Q1660.31 68.1403 1660.31 78.2675 M1652.86 76.08 Q1652.78 69.9632 1649.41 66.3174 Q1646.09 62.6715 1640.58 62.6715 Q1634.34 62.6715 1630.58 66.1958 Q1626.85 69.7201 1626.28 76.1205 L1652.86 76.08 Z\" fill=\"#000000\" fill-rule=\"evenodd\" fill-opacity=\"1\" /><path clip-path=\"url(#clip430)\" d=\"M937.204 139.781 L937.204 186.811 L947.088 186.811 Q959.606 186.811 965.398 181.14 Q971.232 175.469 971.232 163.235 Q971.232 151.083 965.398 145.452 Q959.606 139.781 947.088 139.781 L937.204 139.781 M929.021 133.056 L945.833 133.056 Q963.414 133.056 971.637 140.388 Q979.86 147.68 979.86 163.235 Q979.86 178.872 971.596 186.204 Q963.332 193.536 945.833 193.536 L929.021 193.536 L929.021 133.056 Z\" fill=\"#000000\" fill-rule=\"evenodd\" fill-opacity=\"1\" /><path clip-path=\"url(#clip430)\" d=\"M1013.2 170.729 Q1004.17 170.729 1000.68 172.795 Q997.198 174.861 997.198 179.844 Q997.198 183.814 999.791 186.163 Q1002.42 188.472 1006.92 188.472 Q1013.12 188.472 1016.84 184.097 Q1020.61 179.682 1020.61 172.39 L1020.61 170.729 L1013.2 170.729 M1028.07 167.651 L1028.07 193.536 L1020.61 193.536 L1020.61 186.649 Q1018.06 190.781 1014.25 192.766 Q1010.44 194.711 1004.94 194.711 Q997.968 194.711 993.836 190.822 Q989.744 186.893 989.744 180.33 Q989.744 172.674 994.849 168.785 Q999.993 164.896 1010.16 164.896 L1020.61 164.896 L1020.61 164.167 Q1020.61 159.022 1017.21 156.227 Q1013.85 153.392 1007.73 153.392 Q1003.84 153.392 1000.16 154.323 Q996.469 155.255 993.066 157.118 L993.066 150.232 Q997.158 148.652 1001.01 147.882 Q1004.85 147.072 1008.5 147.072 Q1018.34 147.072 1023.2 152.176 Q1028.07 157.28 1028.07 167.651 Z\" fill=\"#000000\" fill-rule=\"evenodd\" fill-opacity=\"1\" /><path clip-path=\"url(#clip430)\" d=\"M1050.79 135.284 L1050.79 148.166 L1066.14 148.166 L1066.14 153.959 L1050.79 153.959 L1050.79 178.588 Q1050.79 184.138 1052.29 185.718 Q1053.83 187.298 1058.49 187.298 L1066.14 187.298 L1066.14 193.536 L1058.49 193.536 Q1049.86 193.536 1046.58 190.336 Q1043.3 187.095 1043.3 178.588 L1043.3 153.959 L1037.83 153.959 L1037.83 148.166 L1043.3 148.166 L1043.3 135.284 L1050.79 135.284 Z\" fill=\"#000000\" fill-rule=\"evenodd\" fill-opacity=\"1\" /><path clip-path=\"url(#clip430)\" d=\"M1096.57 170.729 Q1087.53 170.729 1084.05 172.795 Q1080.57 174.861 1080.57 179.844 Q1080.57 183.814 1083.16 186.163 Q1085.79 188.472 1090.29 188.472 Q1096.49 188.472 1100.21 184.097 Q1103.98 179.682 1103.98 172.39 L1103.98 170.729 L1096.57 170.729 M1111.43 167.651 L1111.43 193.536 L1103.98 193.536 L1103.98 186.649 Q1101.43 190.781 1097.62 192.766 Q1093.81 194.711 1088.3 194.711 Q1081.34 194.711 1077.2 190.822 Q1073.11 186.893 1073.11 180.33 Q1073.11 172.674 1078.22 168.785 Q1083.36 164.896 1093.53 164.896 L1103.98 164.896 L1103.98 164.167 Q1103.98 159.022 1100.58 156.227 Q1097.21 153.392 1091.1 153.392 Q1087.21 153.392 1083.52 154.323 Q1079.84 155.255 1076.43 157.118 L1076.43 150.232 Q1080.53 148.652 1084.37 147.882 Q1088.22 147.072 1091.87 147.072 Q1101.71 147.072 1106.57 152.176 Q1111.43 157.28 1111.43 167.651 Z\" fill=\"#000000\" fill-rule=\"evenodd\" fill-opacity=\"1\" /><path clip-path=\"url(#clip430)\" d=\"M1127.11 133.056 L1161.87 133.056 L1161.87 139.943 L1135.29 139.943 L1135.29 157.767 L1159.27 157.767 L1159.27 164.653 L1135.29 164.653 L1135.29 193.536 L1127.11 193.536 L1127.11 133.056 Z\" fill=\"#000000\" fill-rule=\"evenodd\" fill-opacity=\"1\" /><path clip-path=\"url(#clip430)\" d=\"M1194.76 155.133 Q1193.5 154.404 1192.01 154.08 Q1190.55 153.716 1188.77 153.716 Q1182.45 153.716 1179.04 157.848 Q1175.68 161.939 1175.68 169.636 L1175.68 193.536 L1168.19 193.536 L1168.19 148.166 L1175.68 148.166 L1175.68 155.214 Q1178.03 151.083 1181.8 149.098 Q1185.57 147.072 1190.95 147.072 Q1191.72 147.072 1192.65 147.194 Q1193.59 147.275 1194.72 147.477 L1194.76 155.133 Z\" fill=\"#000000\" fill-rule=\"evenodd\" fill-opacity=\"1\" /><path clip-path=\"url(#clip430)\" d=\"M1223.2 170.729 Q1214.16 170.729 1210.68 172.795 Q1207.2 174.861 1207.2 179.844 Q1207.2 183.814 1209.79 186.163 Q1212.42 188.472 1216.92 188.472 Q1223.12 188.472 1226.84 184.097 Q1230.61 179.682 1230.61 172.39 L1230.61 170.729 L1223.2 170.729 M1238.06 167.651 L1238.06 193.536 L1230.61 193.536 L1230.61 186.649 Q1228.06 190.781 1224.25 192.766 Q1220.44 194.711 1214.93 194.711 Q1207.97 194.711 1203.83 190.822 Q1199.74 186.893 1199.74 180.33 Q1199.74 172.674 1204.85 168.785 Q1209.99 164.896 1220.16 164.896 L1230.61 164.896 L1230.61 164.167 Q1230.61 159.022 1227.21 156.227 Q1223.85 153.392 1217.73 153.392 Q1213.84 153.392 1210.15 154.323 Q1206.47 155.255 1203.07 157.118 L1203.07 150.232 Q1207.16 148.652 1211 147.882 Q1214.85 147.072 1218.5 147.072 Q1228.34 147.072 1233.2 152.176 Q1238.06 157.28 1238.06 167.651 Z\" fill=\"#000000\" fill-rule=\"evenodd\" fill-opacity=\"1\" /><path clip-path=\"url(#clip430)\" d=\"M1288.74 156.875 Q1291.54 151.852 1295.43 149.462 Q1299.31 147.072 1304.58 147.072 Q1311.67 147.072 1315.52 152.055 Q1319.37 156.997 1319.37 166.152 L1319.37 193.536 L1311.87 193.536 L1311.87 166.395 Q1311.87 159.873 1309.56 156.713 Q1307.25 153.554 1302.51 153.554 Q1296.72 153.554 1293.36 157.402 Q1290 161.25 1290 167.894 L1290 193.536 L1282.5 193.536 L1282.5 166.395 Q1282.5 159.832 1280.19 156.713 Q1277.89 153.554 1273.06 153.554 Q1267.35 153.554 1263.99 157.442 Q1260.63 161.291 1260.63 167.894 L1260.63 193.536 L1253.13 193.536 L1253.13 148.166 L1260.63 148.166 L1260.63 155.214 Q1263.18 151.042 1266.75 149.057 Q1270.31 147.072 1275.21 147.072 Q1280.15 147.072 1283.6 149.584 Q1287.08 152.095 1288.74 156.875 Z\" fill=\"#000000\" fill-rule=\"evenodd\" fill-opacity=\"1\" /><path clip-path=\"url(#clip430)\" d=\"M1373.04 168.988 L1373.04 172.633 L1338.77 172.633 Q1339.26 180.33 1343.39 184.381 Q1347.56 188.391 1354.97 188.391 Q1359.27 188.391 1363.28 187.338 Q1367.33 186.285 1371.3 184.178 L1371.3 191.227 Q1367.29 192.928 1363.08 193.82 Q1358.86 194.711 1354.53 194.711 Q1343.67 194.711 1337.31 188.391 Q1330.99 182.072 1330.99 171.297 Q1330.99 160.157 1336.99 153.635 Q1343.02 147.072 1353.23 147.072 Q1362.39 147.072 1367.69 152.986 Q1373.04 158.86 1373.04 168.988 M1365.59 166.8 Q1365.51 160.683 1362.14 157.037 Q1358.82 153.392 1353.31 153.392 Q1347.07 153.392 1343.31 156.916 Q1339.58 160.44 1339.01 166.841 L1365.59 166.8 Z\" fill=\"#000000\" fill-rule=\"evenodd\" fill-opacity=\"1\" /><path clip-path=\"url(#clip430)\" d=\"M1387.18 183.247 L1395.73 183.247 L1395.73 193.536 L1387.18 193.536 L1387.18 183.247 M1387.18 150.637 L1395.73 150.637 L1395.73 160.926 L1387.18 160.926 L1387.18 150.637 Z\" fill=\"#000000\" fill-rule=\"evenodd\" fill-opacity=\"1\" /><path clip-path=\"url(#clip430)\" d=\"M1472.17 170.891 Q1472.17 162.668 1468.76 158.01 Q1465.4 153.311 1459.49 153.311 Q1453.57 153.311 1450.17 158.01 Q1446.81 162.668 1446.81 170.891 Q1446.81 179.115 1450.17 183.814 Q1453.57 188.472 1459.49 188.472 Q1465.4 188.472 1468.76 183.814 Q1472.17 179.115 1472.17 170.891 M1446.81 155.052 Q1449.16 151.002 1452.72 149.057 Q1456.33 147.072 1461.31 147.072 Q1469.57 147.072 1474.72 153.635 Q1479.9 160.197 1479.9 170.891 Q1479.9 181.586 1474.72 188.148 Q1469.57 194.711 1461.31 194.711 Q1456.33 194.711 1452.72 192.766 Q1449.16 190.781 1446.81 186.73 L1446.81 193.536 L1439.31 193.536 L1439.31 130.504 L1446.81 130.504 L1446.81 155.052 Z\" fill=\"#000000\" fill-rule=\"evenodd\" fill-opacity=\"1\" /><path clip-path=\"url(#clip430)\" d=\"M1492.26 148.166 L1499.71 148.166 L1499.71 193.536 L1492.26 193.536 L1492.26 148.166 M1492.26 130.504 L1499.71 130.504 L1499.71 139.943 L1492.26 139.943 L1492.26 130.504 Z\" fill=\"#000000\" fill-rule=\"evenodd\" fill-opacity=\"1\" /><path clip-path=\"url(#clip430)\" d=\"M1545.16 170.324 Q1545.16 162.223 1541.8 157.767 Q1538.48 153.311 1532.44 153.311 Q1526.45 153.311 1523.09 157.767 Q1519.76 162.223 1519.76 170.324 Q1519.76 178.386 1523.09 182.842 Q1526.45 187.298 1532.44 187.298 Q1538.48 187.298 1541.8 182.842 Q1545.16 178.386 1545.16 170.324 M1552.62 187.905 Q1552.62 199.491 1547.47 205.122 Q1542.33 210.793 1531.71 210.793 Q1527.79 210.793 1524.3 210.185 Q1520.82 209.618 1517.54 208.403 L1517.54 201.152 Q1520.82 202.934 1524.02 203.785 Q1527.22 204.635 1530.54 204.635 Q1537.87 204.635 1541.52 200.787 Q1545.16 196.979 1545.16 189.242 L1545.16 185.556 Q1542.85 189.566 1539.25 191.551 Q1535.64 193.536 1530.62 193.536 Q1522.28 193.536 1517.17 187.176 Q1512.07 180.816 1512.07 170.324 Q1512.07 159.792 1517.17 153.432 Q1522.28 147.072 1530.62 147.072 Q1535.64 147.072 1539.25 149.057 Q1542.85 151.042 1545.16 155.052 L1545.16 148.166 L1552.62 148.166 L1552.62 187.905 Z\" fill=\"#000000\" fill-rule=\"evenodd\" fill-opacity=\"1\" /><path clip-path=\"url(#clip430)\" d=\"M1597.83 155.052 L1597.83 130.504 L1605.28 130.504 L1605.28 193.536 L1597.83 193.536 L1597.83 186.73 Q1595.48 190.781 1591.87 192.766 Q1588.31 194.711 1583.28 194.711 Q1575.06 194.711 1569.87 188.148 Q1564.73 181.586 1564.73 170.891 Q1564.73 160.197 1569.87 153.635 Q1575.06 147.072 1583.28 147.072 Q1588.31 147.072 1591.87 149.057 Q1595.48 151.002 1597.83 155.052 M1572.43 170.891 Q1572.43 179.115 1575.79 183.814 Q1579.19 188.472 1585.11 188.472 Q1591.02 188.472 1594.42 183.814 Q1597.83 179.115 1597.83 170.891 Q1597.83 162.668 1594.42 158.01 Q1591.02 153.311 1585.11 153.311 Q1579.19 153.311 1575.79 158.01 Q1572.43 162.668 1572.43 170.891 Z\" fill=\"#000000\" fill-rule=\"evenodd\" fill-opacity=\"1\" /><path clip-path=\"url(#clip430)\" d=\"M1643.6 130.504 L1643.6 136.702 L1636.47 136.702 Q1632.46 136.702 1630.88 138.322 Q1629.34 139.943 1629.34 144.155 L1629.34 148.166 L1641.62 148.166 L1641.62 153.959 L1629.34 153.959 L1629.34 193.536 L1621.85 193.536 L1621.85 153.959 L1614.72 153.959 L1614.72 148.166 L1621.85 148.166 L1621.85 145.006 Q1621.85 137.431 1625.37 133.988 Q1628.9 130.504 1636.55 130.504 L1643.6 130.504 Z\" fill=\"#000000\" fill-rule=\"evenodd\" fill-opacity=\"1\" /><path clip-path=\"url(#clip430)\" d=\"M949.357 225.761 L949.357 233.741 Q944.698 231.513 940.566 230.419 Q936.434 229.326 932.586 229.326 Q925.902 229.326 922.256 231.918 Q918.651 234.511 918.651 239.291 Q918.651 243.301 921.041 245.367 Q923.472 247.393 930.196 248.649 L935.138 249.661 Q944.293 251.403 948.628 255.819 Q953.003 260.194 953.003 267.566 Q953.003 276.357 947.088 280.894 Q941.215 285.431 929.832 285.431 Q925.538 285.431 920.676 284.459 Q915.856 283.486 910.671 281.582 L910.671 273.157 Q915.653 275.952 920.433 277.369 Q925.213 278.787 929.832 278.787 Q936.84 278.787 940.647 276.033 Q944.455 273.278 944.455 268.174 Q944.455 263.718 941.701 261.206 Q938.987 258.695 932.748 257.439 L927.766 256.467 Q918.611 254.644 914.519 250.755 Q910.428 246.866 910.428 239.939 Q910.428 231.918 916.058 227.3 Q921.73 222.682 931.654 222.682 Q935.908 222.682 940.323 223.452 Q944.739 224.222 949.357 225.761 Z\" fill=\"#000000\" fill-rule=\"evenodd\" fill-opacity=\"1\" /><path clip-path=\"url(#clip430)\" d=\"M965.439 238.886 L972.893 238.886 L972.893 284.256 L965.439 284.256 L965.439 238.886 M965.439 221.224 L972.893 221.224 L972.893 230.663 L965.439 230.663 L965.439 221.224 Z\" fill=\"#000000\" fill-rule=\"evenodd\" fill-opacity=\"1\" /><path clip-path=\"url(#clip430)\" d=\"M985.248 238.886 L1020.65 238.886 L1020.65 245.691 L992.621 278.301 L1020.65 278.301 L1020.65 284.256 L984.235 284.256 L984.235 277.45 L1012.27 244.841 L985.248 244.841 L985.248 238.886 Z\" fill=\"#000000\" fill-rule=\"evenodd\" fill-opacity=\"1\" /><path clip-path=\"url(#clip430)\" d=\"M1070.84 259.708 L1070.84 263.353 L1036.57 263.353 Q1037.06 271.05 1041.19 275.101 Q1045.36 279.111 1052.78 279.111 Q1057.07 279.111 1061.08 278.058 Q1065.13 277.005 1069.1 274.898 L1069.1 281.947 Q1065.09 283.648 1060.88 284.54 Q1056.67 285.431 1052.33 285.431 Q1041.47 285.431 1035.11 279.111 Q1028.8 272.792 1028.8 262.017 Q1028.8 250.877 1034.79 244.355 Q1040.83 237.792 1051.03 237.792 Q1060.19 237.792 1065.5 243.706 Q1070.84 249.58 1070.84 259.708 M1063.39 257.52 Q1063.31 251.403 1059.95 247.757 Q1056.62 244.112 1051.12 244.112 Q1044.88 244.112 1041.11 247.636 Q1037.38 251.16 1036.82 257.561 L1063.39 257.52 Z\" fill=\"#000000\" fill-rule=\"evenodd\" fill-opacity=\"1\" /><path clip-path=\"url(#clip430)\" d=\"M1084.98 273.967 L1093.53 273.967 L1093.53 284.256 L1084.98 284.256 L1084.98 273.967 M1084.98 241.357 L1093.53 241.357 L1093.53 251.646 L1084.98 251.646 L1084.98 241.357 Z\" fill=\"#000000\" fill-rule=\"evenodd\" fill-opacity=\"1\" /><path clip-path=\"url(#clip430)\" d=\"M1155.3 221.305 Q1149.88 230.622 1147.24 239.737 Q1144.61 248.851 1144.61 258.209 Q1144.61 267.566 1147.24 276.762 Q1149.92 285.917 1155.3 295.193 L1148.82 295.193 Q1142.75 285.674 1139.71 276.478 Q1136.71 267.283 1136.71 258.209 Q1136.71 249.175 1139.71 240.02 Q1142.71 230.865 1148.82 221.305 L1155.3 221.305 Z\" fill=\"#000000\" fill-rule=\"evenodd\" fill-opacity=\"1\" /><path clip-path=\"url(#clip430)\" d=\"M1177.87 277.369 L1206.43 277.369 L1206.43 284.256 L1168.02 284.256 L1168.02 277.369 Q1172.68 272.549 1180.7 264.447 Q1188.77 256.305 1190.83 253.955 Q1194.76 249.54 1196.3 246.502 Q1197.88 243.423 1197.88 240.466 Q1197.88 235.645 1194.48 232.607 Q1191.11 229.569 1185.69 229.569 Q1181.84 229.569 1177.54 230.906 Q1173.29 232.242 1168.43 234.956 L1168.43 226.693 Q1173.37 224.708 1177.67 223.695 Q1181.96 222.682 1185.52 222.682 Q1194.92 222.682 1200.51 227.381 Q1206.1 232.08 1206.1 239.939 Q1206.1 243.666 1204.69 247.028 Q1203.31 250.35 1199.62 254.887 Q1198.61 256.062 1193.18 261.692 Q1187.75 267.283 1177.87 277.369 Z\" fill=\"#000000\" fill-rule=\"evenodd\" fill-opacity=\"1\" /><path clip-path=\"url(#clip430)\" d=\"M1241.1 229.164 Q1234.78 229.164 1231.58 235.402 Q1228.42 241.6 1228.42 254.077 Q1228.42 266.513 1231.58 272.751 Q1234.78 278.949 1241.1 278.949 Q1247.46 278.949 1250.62 272.751 Q1253.82 266.513 1253.82 254.077 Q1253.82 241.6 1250.62 235.402 Q1247.46 229.164 1241.1 229.164 M1241.1 222.682 Q1251.27 222.682 1256.62 230.744 Q1262.01 238.764 1262.01 254.077 Q1262.01 269.349 1256.62 277.41 Q1251.27 285.431 1241.1 285.431 Q1230.94 285.431 1225.55 277.41 Q1220.2 269.349 1220.2 254.077 Q1220.2 238.764 1225.55 230.744 Q1230.94 222.682 1241.1 222.682 Z\" fill=\"#000000\" fill-rule=\"evenodd\" fill-opacity=\"1\" /><path clip-path=\"url(#clip430)\" d=\"M1293.89 229.164 Q1287.57 229.164 1284.37 235.402 Q1281.21 241.6 1281.21 254.077 Q1281.21 266.513 1284.37 272.751 Q1287.57 278.949 1293.89 278.949 Q1300.25 278.949 1303.41 272.751 Q1306.61 266.513 1306.61 254.077 Q1306.61 241.6 1303.41 235.402 Q1300.25 229.164 1293.89 229.164 M1293.89 222.682 Q1304.05 222.682 1309.4 230.744 Q1314.79 238.764 1314.79 254.077 Q1314.79 269.349 1309.4 277.41 Q1304.05 285.431 1293.89 285.431 Q1283.72 285.431 1278.33 277.41 Q1272.98 269.349 1272.98 254.077 Q1272.98 238.764 1278.33 230.744 Q1283.72 222.682 1293.89 222.682 Z\" fill=\"#000000\" fill-rule=\"evenodd\" fill-opacity=\"1\" /><path clip-path=\"url(#clip430)\" d=\"M1346.67 229.164 Q1340.35 229.164 1337.15 235.402 Q1333.99 241.6 1333.99 254.077 Q1333.99 266.513 1337.15 272.751 Q1340.35 278.949 1346.67 278.949 Q1353.03 278.949 1356.19 272.751 Q1359.39 266.513 1359.39 254.077 Q1359.39 241.6 1356.19 235.402 Q1353.03 229.164 1346.67 229.164 M1346.67 222.682 Q1356.84 222.682 1362.18 230.744 Q1367.57 238.764 1367.57 254.077 Q1367.57 269.349 1362.18 277.41 Q1356.84 285.431 1346.67 285.431 Q1336.5 285.431 1331.11 277.41 Q1325.77 269.349 1325.77 254.077 Q1325.77 238.764 1331.11 230.744 Q1336.5 222.682 1346.67 222.682 Z\" fill=\"#000000\" fill-rule=\"evenodd\" fill-opacity=\"1\" /><path clip-path=\"url(#clip430)\" d=\"M1399.45 229.164 Q1393.13 229.164 1389.93 235.402 Q1386.77 241.6 1386.77 254.077 Q1386.77 266.513 1389.93 272.751 Q1393.13 278.949 1399.45 278.949 Q1405.81 278.949 1408.97 272.751 Q1412.17 266.513 1412.17 254.077 Q1412.17 241.6 1408.97 235.402 Q1405.81 229.164 1399.45 229.164 M1399.45 222.682 Q1409.62 222.682 1414.97 230.744 Q1420.36 238.764 1420.36 254.077 Q1420.36 269.349 1414.97 277.41 Q1409.62 285.431 1399.45 285.431 Q1389.29 285.431 1383.9 277.41 Q1378.55 269.349 1378.55 254.077 Q1378.55 238.764 1383.9 230.744 Q1389.29 222.682 1399.45 222.682 Z\" fill=\"#000000\" fill-rule=\"evenodd\" fill-opacity=\"1\" /><path clip-path=\"url(#clip430)\" d=\"M1435.59 273.967 L1444.13 273.967 L1444.13 280.934 L1437.49 293.897 L1432.27 293.897 L1435.59 280.934 L1435.59 273.967 Z\" fill=\"#000000\" fill-rule=\"evenodd\" fill-opacity=\"1\" /><path clip-path=\"url(#clip430)\" d=\"M1487.56 223.776 L1519.68 223.776 L1519.68 230.663 L1495.05 230.663 L1495.05 245.489 Q1496.84 244.881 1498.62 244.598 Q1500.4 244.274 1502.18 244.274 Q1512.31 244.274 1518.23 249.823 Q1524.14 255.373 1524.14 264.852 Q1524.14 274.615 1518.06 280.043 Q1511.99 285.431 1500.93 285.431 Q1497.12 285.431 1493.15 284.783 Q1489.22 284.134 1485.01 282.838 L1485.01 274.615 Q1488.65 276.6 1492.54 277.572 Q1496.43 278.544 1500.77 278.544 Q1507.77 278.544 1511.87 274.858 Q1515.96 271.172 1515.96 264.852 Q1515.96 258.533 1511.87 254.846 Q1507.77 251.16 1500.77 251.16 Q1497.48 251.16 1494.2 251.889 Q1490.96 252.618 1487.56 254.158 L1487.56 223.776 Z\" fill=\"#000000\" fill-rule=\"evenodd\" fill-opacity=\"1\" /><path clip-path=\"url(#clip430)\" d=\"M1557.76 229.164 Q1551.44 229.164 1548.24 235.402 Q1545.08 241.6 1545.08 254.077 Q1545.08 266.513 1548.24 272.751 Q1551.44 278.949 1557.76 278.949 Q1564.12 278.949 1567.28 272.751 Q1570.48 266.513 1570.48 254.077 Q1570.48 241.6 1567.28 235.402 Q1564.12 229.164 1557.76 229.164 M1557.76 222.682 Q1567.93 222.682 1573.28 230.744 Q1578.66 238.764 1578.66 254.077 Q1578.66 269.349 1573.28 277.41 Q1567.93 285.431 1557.76 285.431 Q1547.59 285.431 1542.21 277.41 Q1536.86 269.349 1536.86 254.077 Q1536.86 238.764 1542.21 230.744 Q1547.59 222.682 1557.76 222.682 Z\" fill=\"#000000\" fill-rule=\"evenodd\" fill-opacity=\"1\" /><path clip-path=\"url(#clip430)\" d=\"M1610.55 229.164 Q1604.23 229.164 1601.03 235.402 Q1597.87 241.6 1597.87 254.077 Q1597.87 266.513 1601.03 272.751 Q1604.23 278.949 1610.55 278.949 Q1616.91 278.949 1620.07 272.751 Q1623.27 266.513 1623.27 254.077 Q1623.27 241.6 1620.07 235.402 Q1616.91 229.164 1610.55 229.164 M1610.55 222.682 Q1620.71 222.682 1626.06 230.744 Q1631.45 238.764 1631.45 254.077 Q1631.45 269.349 1626.06 277.41 Q1620.71 285.431 1610.55 285.431 Q1600.38 285.431 1594.99 277.41 Q1589.64 269.349 1589.64 254.077 Q1589.64 238.764 1594.99 230.744 Q1600.38 222.682 1610.55 222.682 Z\" fill=\"#000000\" fill-rule=\"evenodd\" fill-opacity=\"1\" /><path clip-path=\"url(#clip430)\" d=\"M1643.6 221.305 L1650.08 221.305 Q1656.16 230.865 1659.16 240.02 Q1662.19 249.175 1662.19 258.209 Q1662.19 267.283 1659.16 276.478 Q1656.16 285.674 1650.08 295.193 L1643.6 295.193 Q1648.99 285.917 1651.62 276.762 Q1654.3 267.566 1654.3 258.209 Q1654.3 248.851 1651.62 239.737 Q1648.99 230.622 1643.6 221.305 Z\" fill=\"#000000\" fill-rule=\"evenodd\" fill-opacity=\"1\" /><path clip-path=\"url(#clip432)\" d=\"M334.008 1005.6 L334.008 1417.71 L446.044 1417.71 L446.044 1005.6 L334.008 1005.6 L334.008 1005.6  Z\" fill=\"#009af9\" fill-rule=\"evenodd\" fill-opacity=\"1\"/>\n",
       "<polyline clip-path=\"url(#clip432)\" style=\"stroke:#000000; stroke-linecap:round; stroke-linejoin:round; stroke-width:4; stroke-opacity:1; fill:none\" points=\"334.008,1005.6 334.008,1417.71 446.044,1417.71 446.044,1005.6 334.008,1005.6 \"/>\n",
       "<path clip-path=\"url(#clip432)\" d=\"M614.097 914.224 L614.097 1417.71 L726.133 1417.71 L726.133 914.224 L614.097 914.224 L614.097 914.224  Z\" fill=\"#009af9\" fill-rule=\"evenodd\" fill-opacity=\"1\"/>\n",
       "<polyline clip-path=\"url(#clip432)\" style=\"stroke:#000000; stroke-linecap:round; stroke-linejoin:round; stroke-width:4; stroke-opacity:1; fill:none\" points=\"614.097,914.224 614.097,1417.71 726.133,1417.71 726.133,914.224 614.097,914.224 \"/>\n",
       "<path clip-path=\"url(#clip432)\" d=\"M894.186 278.605 L894.186 1417.71 L1006.22 1417.71 L1006.22 278.605 L894.186 278.605 L894.186 278.605  Z\" fill=\"#009af9\" fill-rule=\"evenodd\" fill-opacity=\"1\"/>\n",
       "<polyline clip-path=\"url(#clip432)\" style=\"stroke:#000000; stroke-linecap:round; stroke-linejoin:round; stroke-width:4; stroke-opacity:1; fill:none\" points=\"894.186,278.605 894.186,1417.71 1006.22,1417.71 1006.22,278.605 894.186,278.605 \"/>\n",
       "<path clip-path=\"url(#clip432)\" d=\"M1174.28 746.7 L1174.28 1417.71 L1286.31 1417.71 L1286.31 746.7 L1174.28 746.7 L1174.28 746.7  Z\" fill=\"#009af9\" fill-rule=\"evenodd\" fill-opacity=\"1\"/>\n",
       "<polyline clip-path=\"url(#clip432)\" style=\"stroke:#000000; stroke-linecap:round; stroke-linejoin:round; stroke-width:4; stroke-opacity:1; fill:none\" points=\"1174.28,746.7 1174.28,1417.71 1286.31,1417.71 1286.31,746.7 1174.28,746.7 \"/>\n",
       "<path clip-path=\"url(#clip432)\" d=\"M1454.36 948.357 L1454.36 1417.71 L1566.4 1417.71 L1566.4 948.357 L1454.36 948.357 L1454.36 948.357  Z\" fill=\"#009af9\" fill-rule=\"evenodd\" fill-opacity=\"1\"/>\n",
       "<polyline clip-path=\"url(#clip432)\" style=\"stroke:#000000; stroke-linecap:round; stroke-linejoin:round; stroke-width:4; stroke-opacity:1; fill:none\" points=\"1454.36,948.357 1454.36,1417.71 1566.4,1417.71 1566.4,948.357 1454.36,948.357 \"/>\n",
       "<path clip-path=\"url(#clip432)\" d=\"M1734.45 843.851 L1734.45 1417.71 L1846.49 1417.71 L1846.49 843.851 L1734.45 843.851 L1734.45 843.851  Z\" fill=\"#009af9\" fill-rule=\"evenodd\" fill-opacity=\"1\"/>\n",
       "<polyline clip-path=\"url(#clip432)\" style=\"stroke:#000000; stroke-linecap:round; stroke-linejoin:round; stroke-width:4; stroke-opacity:1; fill:none\" points=\"1734.45,843.851 1734.45,1417.71 1846.49,1417.71 1846.49,843.851 1734.45,843.851 \"/>\n",
       "<path clip-path=\"url(#clip432)\" d=\"M2014.54 996.063 L2014.54 1417.71 L2126.58 1417.71 L2126.58 996.063 L2014.54 996.063 L2014.54 996.063  Z\" fill=\"#009af9\" fill-rule=\"evenodd\" fill-opacity=\"1\"/>\n",
       "<polyline clip-path=\"url(#clip432)\" style=\"stroke:#000000; stroke-linecap:round; stroke-linejoin:round; stroke-width:4; stroke-opacity:1; fill:none\" points=\"2014.54,996.063 2014.54,1417.71 2126.58,1417.71 2126.58,996.063 2014.54,996.063 \"/>\n",
       "<circle clip-path=\"url(#clip432)\" style=\"fill:#009af9; stroke:none; fill-opacity:0\" cx=\"390.026\" cy=\"1005.6\" r=\"2\"/>\n",
       "<circle clip-path=\"url(#clip432)\" style=\"fill:#009af9; stroke:none; fill-opacity:0\" cx=\"670.115\" cy=\"914.224\" r=\"2\"/>\n",
       "<circle clip-path=\"url(#clip432)\" style=\"fill:#009af9; stroke:none; fill-opacity:0\" cx=\"950.204\" cy=\"278.605\" r=\"2\"/>\n",
       "<circle clip-path=\"url(#clip432)\" style=\"fill:#009af9; stroke:none; fill-opacity:0\" cx=\"1230.29\" cy=\"746.7\" r=\"2\"/>\n",
       "<circle clip-path=\"url(#clip432)\" style=\"fill:#009af9; stroke:none; fill-opacity:0\" cx=\"1510.38\" cy=\"948.357\" r=\"2\"/>\n",
       "<circle clip-path=\"url(#clip432)\" style=\"fill:#009af9; stroke:none; fill-opacity:0\" cx=\"1790.47\" cy=\"843.851\" r=\"2\"/>\n",
       "<circle clip-path=\"url(#clip432)\" style=\"fill:#009af9; stroke:none; fill-opacity:0\" cx=\"2070.56\" cy=\"996.063\" r=\"2\"/>\n",
       "<path clip-path=\"url(#clip432)\" d=\"M446.044 1399.79 L446.044 1417.71 L558.079 1417.71 L558.079 1399.79 L446.044 1399.79 L446.044 1399.79  Z\" fill=\"#e26f46\" fill-rule=\"evenodd\" fill-opacity=\"1\"/>\n",
       "<polyline clip-path=\"url(#clip432)\" style=\"stroke:#000000; stroke-linecap:round; stroke-linejoin:round; stroke-width:4; stroke-opacity:1; fill:none\" points=\"446.044,1399.79 446.044,1417.71 558.079,1417.71 558.079,1399.79 446.044,1399.79 \"/>\n",
       "<path clip-path=\"url(#clip432)\" d=\"M726.133 1321.67 L726.133 1417.71 L838.169 1417.71 L838.169 1321.67 L726.133 1321.67 L726.133 1321.67  Z\" fill=\"#e26f46\" fill-rule=\"evenodd\" fill-opacity=\"1\"/>\n",
       "<polyline clip-path=\"url(#clip432)\" style=\"stroke:#000000; stroke-linecap:round; stroke-linejoin:round; stroke-width:4; stroke-opacity:1; fill:none\" points=\"726.133,1321.67 726.133,1417.71 838.169,1417.71 838.169,1321.67 726.133,1321.67 \"/>\n",
       "<path clip-path=\"url(#clip432)\" d=\"M1006.22 418.447 L1006.22 1417.71 L1118.26 1417.71 L1118.26 418.447 L1006.22 418.447 L1006.22 418.447  Z\" fill=\"#e26f46\" fill-rule=\"evenodd\" fill-opacity=\"1\"/>\n",
       "<polyline clip-path=\"url(#clip432)\" style=\"stroke:#000000; stroke-linecap:round; stroke-linejoin:round; stroke-width:4; stroke-opacity:1; fill:none\" points=\"1006.22,418.447 1006.22,1417.71 1118.26,1417.71 1118.26,418.447 1006.22,418.447 \"/>\n",
       "<path clip-path=\"url(#clip432)\" d=\"M1286.31 1301.94 L1286.31 1417.71 L1398.35 1417.71 L1398.35 1301.94 L1286.31 1301.94 L1286.31 1301.94  Z\" fill=\"#e26f46\" fill-rule=\"evenodd\" fill-opacity=\"1\"/>\n",
       "<polyline clip-path=\"url(#clip432)\" style=\"stroke:#000000; stroke-linecap:round; stroke-linejoin:round; stroke-width:4; stroke-opacity:1; fill:none\" points=\"1286.31,1301.94 1286.31,1417.71 1398.35,1417.71 1398.35,1301.94 1286.31,1301.94 \"/>\n",
       "<path clip-path=\"url(#clip432)\" d=\"M1566.4 1028.31 L1566.4 1417.71 L1678.44 1417.71 L1678.44 1028.31 L1566.4 1028.31 L1566.4 1028.31  Z\" fill=\"#e26f46\" fill-rule=\"evenodd\" fill-opacity=\"1\"/>\n",
       "<polyline clip-path=\"url(#clip432)\" style=\"stroke:#000000; stroke-linecap:round; stroke-linejoin:round; stroke-width:4; stroke-opacity:1; fill:none\" points=\"1566.4,1028.31 1566.4,1417.71 1678.44,1417.71 1678.44,1028.31 1566.4,1028.31 \"/>\n",
       "<path clip-path=\"url(#clip432)\" d=\"M1846.49 881.527 L1846.49 1417.71 L1958.52 1417.71 L1958.52 881.527 L1846.49 881.527 L1846.49 881.527  Z\" fill=\"#e26f46\" fill-rule=\"evenodd\" fill-opacity=\"1\"/>\n",
       "<polyline clip-path=\"url(#clip432)\" style=\"stroke:#000000; stroke-linecap:round; stroke-linejoin:round; stroke-width:4; stroke-opacity:1; fill:none\" points=\"1846.49,881.527 1846.49,1417.71 1958.52,1417.71 1958.52,881.527 1846.49,881.527 \"/>\n",
       "<path clip-path=\"url(#clip432)\" d=\"M2126.58 1013.37 L2126.58 1417.71 L2238.61 1417.71 L2238.61 1013.37 L2126.58 1013.37 L2126.58 1013.37  Z\" fill=\"#e26f46\" fill-rule=\"evenodd\" fill-opacity=\"1\"/>\n",
       "<polyline clip-path=\"url(#clip432)\" style=\"stroke:#000000; stroke-linecap:round; stroke-linejoin:round; stroke-width:4; stroke-opacity:1; fill:none\" points=\"2126.58,1013.37 2126.58,1417.71 2238.61,1417.71 2238.61,1013.37 2126.58,1013.37 \"/>\n",
       "<circle clip-path=\"url(#clip432)\" style=\"fill:#e26f46; stroke:none; fill-opacity:0\" cx=\"502.062\" cy=\"1399.79\" r=\"2\"/>\n",
       "<circle clip-path=\"url(#clip432)\" style=\"fill:#e26f46; stroke:none; fill-opacity:0\" cx=\"782.151\" cy=\"1321.67\" r=\"2\"/>\n",
       "<circle clip-path=\"url(#clip432)\" style=\"fill:#e26f46; stroke:none; fill-opacity:0\" cx=\"1062.24\" cy=\"418.447\" r=\"2\"/>\n",
       "<circle clip-path=\"url(#clip432)\" style=\"fill:#e26f46; stroke:none; fill-opacity:0\" cx=\"1342.33\" cy=\"1301.94\" r=\"2\"/>\n",
       "<circle clip-path=\"url(#clip432)\" style=\"fill:#e26f46; stroke:none; fill-opacity:0\" cx=\"1622.42\" cy=\"1028.31\" r=\"2\"/>\n",
       "<circle clip-path=\"url(#clip432)\" style=\"fill:#e26f46; stroke:none; fill-opacity:0\" cx=\"1902.51\" cy=\"881.527\" r=\"2\"/>\n",
       "<circle clip-path=\"url(#clip432)\" style=\"fill:#e26f46; stroke:none; fill-opacity:0\" cx=\"2182.6\" cy=\"1013.37\" r=\"2\"/>\n",
       "<path clip-path=\"url(#clip430)\" d=\"M1985.85 440.201 L2281.66 440.201 L2281.66 284.681 L1985.85 284.681  Z\" fill=\"#ffffff\" fill-rule=\"evenodd\" fill-opacity=\"1\"/>\n",
       "<polyline clip-path=\"url(#clip430)\" style=\"stroke:#000000; stroke-linecap:round; stroke-linejoin:round; stroke-width:4; stroke-opacity:1; fill:none\" points=\"1985.85,440.201 2281.66,440.201 2281.66,284.681 1985.85,284.681 1985.85,440.201 \"/>\n",
       "<path clip-path=\"url(#clip430)\" d=\"M2009.55 357.257 L2151.74 357.257 L2151.74 315.785 L2009.55 315.785 L2009.55 357.257  Z\" fill=\"#009af9\" fill-rule=\"evenodd\" fill-opacity=\"1\"/>\n",
       "<polyline clip-path=\"url(#clip430)\" style=\"stroke:#000000; stroke-linecap:round; stroke-linejoin:round; stroke-width:4; stroke-opacity:1; fill:none\" points=\"2009.55,357.257 2151.74,357.257 2151.74,315.785 2009.55,315.785 2009.55,357.257 \"/>\n",
       "<path clip-path=\"url(#clip430)\" d=\"M2176.11 349.865 L2183.75 349.865 L2183.75 323.5 L2175.44 325.167 L2175.44 320.907 L2183.7 319.241 L2188.38 319.241 L2188.38 349.865 L2196.02 349.865 L2196.02 353.801 L2176.11 353.801 L2176.11 349.865 Z\" fill=\"#000000\" fill-rule=\"evenodd\" fill-opacity=\"1\" /><path clip-path=\"url(#clip430)\" d=\"M2221.39 328.639 L2221.39 332.667 Q2219.58 331.741 2217.64 331.278 Q2215.69 330.815 2213.61 330.815 Q2210.44 330.815 2208.84 331.787 Q2207.27 332.759 2207.27 334.704 Q2207.27 336.185 2208.4 337.041 Q2209.54 337.875 2212.96 338.639 L2214.42 338.963 Q2218.96 339.935 2220.85 341.717 Q2222.78 343.477 2222.78 346.648 Q2222.78 350.259 2219.91 352.365 Q2217.06 354.472 2212.06 354.472 Q2209.97 354.472 2207.71 354.055 Q2205.46 353.662 2202.96 352.852 L2202.96 348.453 Q2205.32 349.68 2207.61 350.305 Q2209.91 350.907 2212.15 350.907 Q2215.16 350.907 2216.78 349.889 Q2218.4 348.847 2218.4 346.972 Q2218.4 345.236 2217.22 344.31 Q2216.06 343.384 2212.1 342.528 L2210.62 342.18 Q2206.66 341.347 2204.91 339.634 Q2203.15 337.898 2203.15 334.889 Q2203.15 331.231 2205.74 329.241 Q2208.33 327.25 2213.1 327.25 Q2215.46 327.25 2217.54 327.597 Q2219.63 327.944 2221.39 328.639 Z\" fill=\"#000000\" fill-rule=\"evenodd\" fill-opacity=\"1\" /><path clip-path=\"url(#clip430)\" d=\"M2233.77 320.514 L2233.77 327.875 L2242.54 327.875 L2242.54 331.185 L2233.77 331.185 L2233.77 345.259 Q2233.77 348.43 2234.63 349.333 Q2235.51 350.236 2238.17 350.236 L2242.54 350.236 L2242.54 353.801 L2238.17 353.801 Q2233.24 353.801 2231.36 351.972 Q2229.49 350.12 2229.49 345.259 L2229.49 331.185 L2226.36 331.185 L2226.36 327.875 L2229.49 327.875 L2229.49 320.514 L2233.77 320.514 Z\" fill=\"#000000\" fill-rule=\"evenodd\" fill-opacity=\"1\" /><path clip-path=\"url(#clip430)\" d=\"M2009.55 409.097 L2151.74 409.097 L2151.74 367.625 L2009.55 367.625 L2009.55 409.097  Z\" fill=\"#e26f46\" fill-rule=\"evenodd\" fill-opacity=\"1\"/>\n",
       "<polyline clip-path=\"url(#clip430)\" style=\"stroke:#000000; stroke-linecap:round; stroke-linejoin:round; stroke-width:4; stroke-opacity:1; fill:none\" points=\"2009.55,409.097 2151.74,409.097 2151.74,367.625 2009.55,367.625 2009.55,409.097 \"/>\n",
       "<path clip-path=\"url(#clip430)\" d=\"M2181.06 401.705 L2197.38 401.705 L2197.38 405.641 L2175.44 405.641 L2175.44 401.705 Q2178.1 398.951 2182.68 394.321 Q2187.29 389.669 2188.47 388.326 Q2190.72 385.803 2191.6 384.067 Q2192.5 382.307 2192.5 380.618 Q2192.5 377.863 2190.55 376.127 Q2188.63 374.391 2185.53 374.391 Q2183.33 374.391 2180.88 375.155 Q2178.45 375.919 2175.67 377.47 L2175.67 372.747 Q2178.49 371.613 2180.95 371.034 Q2183.4 370.456 2185.44 370.456 Q2190.81 370.456 2194 373.141 Q2197.2 375.826 2197.2 380.317 Q2197.2 382.446 2196.39 384.368 Q2195.6 386.266 2193.49 388.858 Q2192.91 389.53 2189.81 392.747 Q2186.71 395.942 2181.06 401.705 Z\" fill=\"#000000\" fill-rule=\"evenodd\" fill-opacity=\"1\" /><path clip-path=\"url(#clip430)\" d=\"M2228.15 389.993 L2228.15 405.641 L2223.89 405.641 L2223.89 390.131 Q2223.89 386.451 2222.45 384.622 Q2221.02 382.794 2218.15 382.794 Q2214.7 382.794 2212.71 384.993 Q2210.72 387.192 2210.72 390.988 L2210.72 405.641 L2206.43 405.641 L2206.43 379.715 L2210.72 379.715 L2210.72 383.743 Q2212.24 381.405 2214.3 380.247 Q2216.39 379.09 2219.1 379.09 Q2223.56 379.09 2225.85 381.868 Q2228.15 384.622 2228.15 389.993 Z\" fill=\"#000000\" fill-rule=\"evenodd\" fill-opacity=\"1\" /><path clip-path=\"url(#clip430)\" d=\"M2253.7 383.65 L2253.7 369.622 L2257.96 369.622 L2257.96 405.641 L2253.7 405.641 L2253.7 401.752 Q2252.36 404.067 2250.3 405.201 Q2248.26 406.312 2245.39 406.312 Q2240.69 406.312 2237.73 402.562 Q2234.79 398.812 2234.79 392.701 Q2234.79 386.59 2237.73 382.84 Q2240.69 379.09 2245.39 379.09 Q2248.26 379.09 2250.3 380.224 Q2252.36 381.335 2253.7 383.65 M2239.19 392.701 Q2239.19 397.4 2241.11 400.085 Q2243.05 402.747 2246.43 402.747 Q2249.81 402.747 2251.76 400.085 Q2253.7 397.4 2253.7 392.701 Q2253.7 388.002 2251.76 385.34 Q2249.81 382.655 2246.43 382.655 Q2243.05 382.655 2241.11 385.34 Q2239.19 388.002 2239.19 392.701 Z\" fill=\"#000000\" fill-rule=\"evenodd\" fill-opacity=\"1\" /></svg>\n"
      ]
     },
     "execution_count": 43,
     "metadata": {},
     "output_type": "execute_result"
    }
   ],
   "source": [
    "# Exclude JSON\\narraytable arraytable due to much longer timing\n",
    "groupedbar(\n",
    "    repeat([\"CSV.jl\", \"Serialization\", \"JDF.jl\", \"JLSO.jl\", \"Arrow.jl\", \"Arrow.jl\\ncopy\", #\"JSON\\narraytable\",\n",
    "            \"JSON\\nobjecttable\"], inner = 2),\n",
    "    [csvread1, csvread2, serializeread1, serializeread2, jdfread1, jdfread2, jlsoread1, jlsoread2,\n",
    "     arrowread1, arrowread2, arrowread1+arrowread1copy, arrowread2+arrowread2copy,\n",
    "     # jsontablesaread1, jsontablesaread2,\n",
    "     jsontablesoread1, jsontablesoread2],    \n",
    "    group = repeat([\"1st\", \"2nd\"], outer = 7),\n",
    "    ylab = \"Second\",\n",
    "    title = \"Read Performance\\nDataFrame: bigdf\\nSize: $(size(bigdf))\"\n",
    ")"
   ]
  },
  {
   "cell_type": "markdown",
   "metadata": {},
   "source": [
    "### Using gzip compression"
   ]
  },
  {
   "cell_type": "markdown",
   "metadata": {},
   "source": [
    "A common user requirement is to be able to load and save CSV that are compressed using gzip.\n",
    "Below we show how this can be accomplished using CodecZlib.jl.\n",
    "The same pattern is applicable to JSONTables.jl compression/decompression.\n",
    "\n",
    "Again make sure that you do not have file named `df_compress_test.csv.gz` in your working directory"
   ]
  },
  {
   "cell_type": "markdown",
   "metadata": {},
   "source": [
    "We first generate a random data frame"
   ]
  },
  {
   "cell_type": "code",
   "execution_count": 44,
   "metadata": {},
   "outputs": [
    {
     "data": {
      "text/html": [
       "<div><div style = \"float: left;\"><span>10×1000 DataFrame</span></div><div style = \"float: right;\"><span style = \"font-style: italic;\">900 columns omitted</span></div><div style = \"clear: both;\"></div></div><div class = \"data-frame\" style = \"overflow-x: scroll;\"><table class = \"data-frame\" style = \"margin-bottom: 6px;\"><thead><tr class = \"header\"><th class = \"rowNumber\" style = \"font-weight: bold; text-align: right;\">Row</th><th style = \"text-align: left;\">x1</th><th style = \"text-align: left;\">x2</th><th style = \"text-align: left;\">x3</th><th style = \"text-align: left;\">x4</th><th style = \"text-align: left;\">x5</th><th style = \"text-align: left;\">x6</th><th style = \"text-align: left;\">x7</th><th style = \"text-align: left;\">x8</th><th style = \"text-align: left;\">x9</th><th style = \"text-align: left;\">x10</th><th style = \"text-align: left;\">x11</th><th style = \"text-align: left;\">x12</th><th style = \"text-align: left;\">x13</th><th style = \"text-align: left;\">x14</th><th style = \"text-align: left;\">x15</th><th style = \"text-align: left;\">x16</th><th style = \"text-align: left;\">x17</th><th style = \"text-align: left;\">x18</th><th style = \"text-align: left;\">x19</th><th style = \"text-align: left;\">x20</th><th style = \"text-align: left;\">x21</th><th style = \"text-align: left;\">x22</th><th style = \"text-align: left;\">x23</th><th style = \"text-align: left;\">x24</th><th style = \"text-align: left;\">x25</th><th style = \"text-align: left;\">x26</th><th style = \"text-align: left;\">x27</th><th style = \"text-align: left;\">x28</th><th style = \"text-align: left;\">x29</th><th style = \"text-align: left;\">x30</th><th style = \"text-align: left;\">x31</th><th style = \"text-align: left;\">x32</th><th style = \"text-align: left;\">x33</th><th style = \"text-align: left;\">x34</th><th style = \"text-align: left;\">x35</th><th style = \"text-align: left;\">x36</th><th style = \"text-align: left;\">x37</th><th style = \"text-align: left;\">x38</th><th style = \"text-align: left;\">x39</th><th style = \"text-align: left;\">x40</th><th style = \"text-align: left;\">x41</th><th style = \"text-align: left;\">x42</th><th style = \"text-align: left;\">x43</th><th style = \"text-align: left;\">x44</th><th style = \"text-align: left;\">x45</th><th style = \"text-align: left;\">x46</th><th style = \"text-align: left;\">x47</th><th style = \"text-align: left;\">x48</th><th style = \"text-align: left;\">x49</th><th style = \"text-align: left;\">x50</th><th style = \"text-align: left;\">x51</th><th style = \"text-align: left;\">x52</th><th style = \"text-align: left;\">x53</th><th style = \"text-align: left;\">x54</th><th style = \"text-align: left;\">x55</th><th style = \"text-align: left;\">x56</th><th style = \"text-align: left;\">x57</th><th style = \"text-align: left;\">x58</th><th style = \"text-align: left;\">x59</th><th style = \"text-align: left;\">x60</th><th style = \"text-align: left;\">x61</th><th style = \"text-align: left;\">x62</th><th style = \"text-align: left;\">x63</th><th style = \"text-align: left;\">x64</th><th style = \"text-align: left;\">x65</th><th style = \"text-align: left;\">x66</th><th style = \"text-align: left;\">x67</th><th style = \"text-align: left;\">x68</th><th style = \"text-align: left;\">x69</th><th style = \"text-align: left;\">x70</th><th style = \"text-align: left;\">x71</th><th style = \"text-align: left;\">x72</th><th style = \"text-align: left;\">x73</th><th style = \"text-align: left;\">x74</th><th style = \"text-align: left;\">x75</th><th style = \"text-align: left;\">x76</th><th style = \"text-align: left;\">x77</th><th style = \"text-align: left;\">x78</th><th style = \"text-align: left;\">x79</th><th style = \"text-align: left;\">x80</th><th style = \"text-align: left;\">x81</th><th style = \"text-align: left;\">x82</th><th style = \"text-align: left;\">x83</th><th style = \"text-align: left;\">x84</th><th style = \"text-align: left;\">x85</th><th style = \"text-align: left;\">x86</th><th style = \"text-align: left;\">x87</th><th style = \"text-align: left;\">x88</th><th style = \"text-align: left;\">x89</th><th style = \"text-align: left;\">x90</th><th style = \"text-align: left;\">x91</th><th style = \"text-align: left;\">x92</th><th style = \"text-align: left;\">x93</th><th style = \"text-align: left;\">x94</th><th style = \"text-align: left;\">x95</th><th style = \"text-align: left;\">x96</th><th style = \"text-align: left;\">x97</th><th style = \"text-align: left;\">x98</th><th style = \"text-align: left;\">x99</th><th style = \"text-align: left;\">x100</th><th style = \"text-align: right;\">&ctdot;</th></tr><tr class = \"subheader headerLastRow\"><th class = \"rowNumber\" style = \"font-weight: bold; text-align: right;\"></th><th title = \"Int64\" style = \"text-align: left;\">Int64</th><th title = \"Int64\" style = \"text-align: left;\">Int64</th><th title = \"Int64\" style = \"text-align: left;\">Int64</th><th title = \"Int64\" style = \"text-align: left;\">Int64</th><th title = \"Int64\" style = \"text-align: left;\">Int64</th><th title = \"Int64\" style = \"text-align: left;\">Int64</th><th title = \"Int64\" style = \"text-align: left;\">Int64</th><th title = \"Int64\" style = \"text-align: left;\">Int64</th><th title = \"Int64\" style = \"text-align: left;\">Int64</th><th title = \"Int64\" style = \"text-align: left;\">Int64</th><th title = \"Int64\" style = \"text-align: left;\">Int64</th><th title = \"Int64\" style = \"text-align: left;\">Int64</th><th title = \"Int64\" style = \"text-align: left;\">Int64</th><th title = \"Int64\" style = \"text-align: left;\">Int64</th><th title = \"Int64\" style = \"text-align: left;\">Int64</th><th title = \"Int64\" style = \"text-align: left;\">Int64</th><th title = \"Int64\" style = \"text-align: left;\">Int64</th><th title = \"Int64\" style = \"text-align: left;\">Int64</th><th title = \"Int64\" style = \"text-align: left;\">Int64</th><th title = \"Int64\" style = \"text-align: left;\">Int64</th><th title = \"Int64\" style = \"text-align: left;\">Int64</th><th title = \"Int64\" style = \"text-align: left;\">Int64</th><th title = \"Int64\" style = \"text-align: left;\">Int64</th><th title = \"Int64\" style = \"text-align: left;\">Int64</th><th title = \"Int64\" style = \"text-align: left;\">Int64</th><th title = \"Int64\" style = \"text-align: left;\">Int64</th><th title = \"Int64\" style = \"text-align: left;\">Int64</th><th title = \"Int64\" style = \"text-align: left;\">Int64</th><th title = \"Int64\" style = \"text-align: left;\">Int64</th><th title = \"Int64\" style = \"text-align: left;\">Int64</th><th title = \"Int64\" style = \"text-align: left;\">Int64</th><th title = \"Int64\" style = \"text-align: left;\">Int64</th><th title = \"Int64\" style = \"text-align: left;\">Int64</th><th title = \"Int64\" style = \"text-align: left;\">Int64</th><th title = \"Int64\" style = \"text-align: left;\">Int64</th><th title = \"Int64\" style = \"text-align: left;\">Int64</th><th title = \"Int64\" style = \"text-align: left;\">Int64</th><th title = \"Int64\" style = \"text-align: left;\">Int64</th><th title = \"Int64\" style = \"text-align: left;\">Int64</th><th title = \"Int64\" style = \"text-align: left;\">Int64</th><th title = \"Int64\" style = \"text-align: left;\">Int64</th><th title = \"Int64\" style = \"text-align: left;\">Int64</th><th title = \"Int64\" style = \"text-align: left;\">Int64</th><th title = \"Int64\" style = \"text-align: left;\">Int64</th><th title = \"Int64\" style = \"text-align: left;\">Int64</th><th title = \"Int64\" style = \"text-align: left;\">Int64</th><th title = \"Int64\" style = \"text-align: left;\">Int64</th><th title = \"Int64\" style = \"text-align: left;\">Int64</th><th title = \"Int64\" style = \"text-align: left;\">Int64</th><th title = \"Int64\" style = \"text-align: left;\">Int64</th><th title = \"Int64\" style = \"text-align: left;\">Int64</th><th title = \"Int64\" style = \"text-align: left;\">Int64</th><th title = \"Int64\" style = \"text-align: left;\">Int64</th><th title = \"Int64\" style = \"text-align: left;\">Int64</th><th title = \"Int64\" style = \"text-align: left;\">Int64</th><th title = \"Int64\" style = \"text-align: left;\">Int64</th><th title = \"Int64\" style = \"text-align: left;\">Int64</th><th title = \"Int64\" style = \"text-align: left;\">Int64</th><th title = \"Int64\" style = \"text-align: left;\">Int64</th><th title = \"Int64\" style = \"text-align: left;\">Int64</th><th title = \"Int64\" style = \"text-align: left;\">Int64</th><th title = \"Int64\" style = \"text-align: left;\">Int64</th><th title = \"Int64\" style = \"text-align: left;\">Int64</th><th title = \"Int64\" style = \"text-align: left;\">Int64</th><th title = \"Int64\" style = \"text-align: left;\">Int64</th><th title = \"Int64\" style = \"text-align: left;\">Int64</th><th title = \"Int64\" style = \"text-align: left;\">Int64</th><th title = \"Int64\" style = \"text-align: left;\">Int64</th><th title = \"Int64\" style = \"text-align: left;\">Int64</th><th title = \"Int64\" style = \"text-align: left;\">Int64</th><th title = \"Int64\" style = \"text-align: left;\">Int64</th><th title = \"Int64\" style = \"text-align: left;\">Int64</th><th title = \"Int64\" style = \"text-align: left;\">Int64</th><th title = \"Int64\" style = \"text-align: left;\">Int64</th><th title = \"Int64\" style = \"text-align: left;\">Int64</th><th title = \"Int64\" style = \"text-align: left;\">Int64</th><th title = \"Int64\" style = \"text-align: left;\">Int64</th><th title = \"Int64\" style = \"text-align: left;\">Int64</th><th title = \"Int64\" style = \"text-align: left;\">Int64</th><th title = \"Int64\" style = \"text-align: left;\">Int64</th><th title = \"Int64\" style = \"text-align: left;\">Int64</th><th title = \"Int64\" style = \"text-align: left;\">Int64</th><th title = \"Int64\" style = \"text-align: left;\">Int64</th><th title = \"Int64\" style = \"text-align: left;\">Int64</th><th title = \"Int64\" style = \"text-align: left;\">Int64</th><th title = \"Int64\" style = \"text-align: left;\">Int64</th><th title = \"Int64\" style = \"text-align: left;\">Int64</th><th title = \"Int64\" style = \"text-align: left;\">Int64</th><th title = \"Int64\" style = \"text-align: left;\">Int64</th><th title = \"Int64\" style = \"text-align: left;\">Int64</th><th title = \"Int64\" style = \"text-align: left;\">Int64</th><th title = \"Int64\" style = \"text-align: left;\">Int64</th><th title = \"Int64\" style = \"text-align: left;\">Int64</th><th title = \"Int64\" style = \"text-align: left;\">Int64</th><th title = \"Int64\" style = \"text-align: left;\">Int64</th><th title = \"Int64\" style = \"text-align: left;\">Int64</th><th title = \"Int64\" style = \"text-align: left;\">Int64</th><th title = \"Int64\" style = \"text-align: left;\">Int64</th><th title = \"Int64\" style = \"text-align: left;\">Int64</th><th title = \"Int64\" style = \"text-align: left;\">Int64</th><th title = \"Int64\" style = \"text-align: right;\">&ctdot;</th></tr></thead><tbody><tr><td class = \"rowNumber\" style = \"font-weight: bold; text-align: right;\">1</td><td style = \"text-align: right;\">6</td><td style = \"text-align: right;\">8</td><td style = \"text-align: right;\">5</td><td style = \"text-align: right;\">9</td><td style = \"text-align: right;\">10</td><td style = \"text-align: right;\">9</td><td style = \"text-align: right;\">5</td><td style = \"text-align: right;\">4</td><td style = \"text-align: right;\">8</td><td style = \"text-align: right;\">9</td><td style = \"text-align: right;\">6</td><td style = \"text-align: right;\">4</td><td style = \"text-align: right;\">1</td><td style = \"text-align: right;\">7</td><td style = \"text-align: right;\">4</td><td style = \"text-align: right;\">7</td><td style = \"text-align: right;\">1</td><td style = \"text-align: right;\">10</td><td style = \"text-align: right;\">3</td><td style = \"text-align: right;\">7</td><td style = \"text-align: right;\">5</td><td style = \"text-align: right;\">2</td><td style = \"text-align: right;\">3</td><td style = \"text-align: right;\">1</td><td style = \"text-align: right;\">7</td><td style = \"text-align: right;\">4</td><td style = \"text-align: right;\">4</td><td style = \"text-align: right;\">6</td><td style = \"text-align: right;\">8</td><td style = \"text-align: right;\">9</td><td style = \"text-align: right;\">8</td><td style = \"text-align: right;\">3</td><td style = \"text-align: right;\">1</td><td style = \"text-align: right;\">4</td><td style = \"text-align: right;\">9</td><td style = \"text-align: right;\">3</td><td style = \"text-align: right;\">7</td><td style = \"text-align: right;\">2</td><td style = \"text-align: right;\">6</td><td style = \"text-align: right;\">4</td><td style = \"text-align: right;\">1</td><td style = \"text-align: right;\">10</td><td style = \"text-align: right;\">3</td><td style = \"text-align: right;\">10</td><td style = \"text-align: right;\">1</td><td style = \"text-align: right;\">8</td><td style = \"text-align: right;\">3</td><td style = \"text-align: right;\">3</td><td style = \"text-align: right;\">5</td><td style = \"text-align: right;\">5</td><td style = \"text-align: right;\">10</td><td style = \"text-align: right;\">5</td><td style = \"text-align: right;\">9</td><td style = \"text-align: right;\">5</td><td style = \"text-align: right;\">3</td><td style = \"text-align: right;\">6</td><td style = \"text-align: right;\">9</td><td style = \"text-align: right;\">10</td><td style = \"text-align: right;\">1</td><td style = \"text-align: right;\">7</td><td style = \"text-align: right;\">3</td><td style = \"text-align: right;\">1</td><td style = \"text-align: right;\">8</td><td style = \"text-align: right;\">3</td><td style = \"text-align: right;\">4</td><td style = \"text-align: right;\">3</td><td style = \"text-align: right;\">4</td><td style = \"text-align: right;\">10</td><td style = \"text-align: right;\">3</td><td style = \"text-align: right;\">6</td><td style = \"text-align: right;\">7</td><td style = \"text-align: right;\">5</td><td style = \"text-align: right;\">8</td><td style = \"text-align: right;\">9</td><td style = \"text-align: right;\">7</td><td style = \"text-align: right;\">2</td><td style = \"text-align: right;\">6</td><td style = \"text-align: right;\">10</td><td style = \"text-align: right;\">8</td><td style = \"text-align: right;\">9</td><td style = \"text-align: right;\">2</td><td style = \"text-align: right;\">4</td><td style = \"text-align: right;\">6</td><td style = \"text-align: right;\">10</td><td style = \"text-align: right;\">4</td><td style = \"text-align: right;\">10</td><td style = \"text-align: right;\">9</td><td style = \"text-align: right;\">3</td><td style = \"text-align: right;\">9</td><td style = \"text-align: right;\">7</td><td style = \"text-align: right;\">5</td><td style = \"text-align: right;\">6</td><td style = \"text-align: right;\">4</td><td style = \"text-align: right;\">6</td><td style = \"text-align: right;\">9</td><td style = \"text-align: right;\">9</td><td style = \"text-align: right;\">2</td><td style = \"text-align: right;\">1</td><td style = \"text-align: right;\">9</td><td style = \"text-align: right;\">10</td><td style = \"text-align: right;\">&ctdot;</td></tr><tr><td class = \"rowNumber\" style = \"font-weight: bold; text-align: right;\">2</td><td style = \"text-align: right;\">1</td><td style = \"text-align: right;\">10</td><td style = \"text-align: right;\">7</td><td style = \"text-align: right;\">9</td><td style = \"text-align: right;\">8</td><td style = \"text-align: right;\">8</td><td style = \"text-align: right;\">5</td><td style = \"text-align: right;\">10</td><td style = \"text-align: right;\">2</td><td style = \"text-align: right;\">10</td><td style = \"text-align: right;\">8</td><td style = \"text-align: right;\">4</td><td style = \"text-align: right;\">9</td><td style = \"text-align: right;\">9</td><td style = \"text-align: right;\">7</td><td style = \"text-align: right;\">6</td><td style = \"text-align: right;\">6</td><td style = \"text-align: right;\">2</td><td style = \"text-align: right;\">10</td><td style = \"text-align: right;\">9</td><td style = \"text-align: right;\">2</td><td style = \"text-align: right;\">3</td><td style = \"text-align: right;\">2</td><td style = \"text-align: right;\">2</td><td style = \"text-align: right;\">9</td><td style = \"text-align: right;\">7</td><td style = \"text-align: right;\">1</td><td style = \"text-align: right;\">5</td><td style = \"text-align: right;\">2</td><td style = \"text-align: right;\">8</td><td style = \"text-align: right;\">6</td><td style = \"text-align: right;\">3</td><td style = \"text-align: right;\">6</td><td style = \"text-align: right;\">2</td><td style = \"text-align: right;\">7</td><td style = \"text-align: right;\">9</td><td style = \"text-align: right;\">7</td><td style = \"text-align: right;\">10</td><td style = \"text-align: right;\">4</td><td style = \"text-align: right;\">7</td><td style = \"text-align: right;\">6</td><td style = \"text-align: right;\">1</td><td style = \"text-align: right;\">2</td><td style = \"text-align: right;\">2</td><td style = \"text-align: right;\">9</td><td style = \"text-align: right;\">2</td><td style = \"text-align: right;\">10</td><td style = \"text-align: right;\">10</td><td style = \"text-align: right;\">4</td><td style = \"text-align: right;\">10</td><td style = \"text-align: right;\">1</td><td style = \"text-align: right;\">5</td><td style = \"text-align: right;\">6</td><td style = \"text-align: right;\">7</td><td style = \"text-align: right;\">6</td><td style = \"text-align: right;\">4</td><td style = \"text-align: right;\">7</td><td style = \"text-align: right;\">6</td><td style = \"text-align: right;\">6</td><td style = \"text-align: right;\">5</td><td style = \"text-align: right;\">4</td><td style = \"text-align: right;\">10</td><td style = \"text-align: right;\">10</td><td style = \"text-align: right;\">8</td><td style = \"text-align: right;\">3</td><td style = \"text-align: right;\">1</td><td style = \"text-align: right;\">5</td><td style = \"text-align: right;\">4</td><td style = \"text-align: right;\">3</td><td style = \"text-align: right;\">6</td><td style = \"text-align: right;\">3</td><td style = \"text-align: right;\">7</td><td style = \"text-align: right;\">10</td><td style = \"text-align: right;\">9</td><td style = \"text-align: right;\">2</td><td style = \"text-align: right;\">1</td><td style = \"text-align: right;\">10</td><td style = \"text-align: right;\">6</td><td style = \"text-align: right;\">1</td><td style = \"text-align: right;\">8</td><td style = \"text-align: right;\">5</td><td style = \"text-align: right;\">3</td><td style = \"text-align: right;\">4</td><td style = \"text-align: right;\">8</td><td style = \"text-align: right;\">9</td><td style = \"text-align: right;\">9</td><td style = \"text-align: right;\">9</td><td style = \"text-align: right;\">2</td><td style = \"text-align: right;\">4</td><td style = \"text-align: right;\">3</td><td style = \"text-align: right;\">9</td><td style = \"text-align: right;\">8</td><td style = \"text-align: right;\">5</td><td style = \"text-align: right;\">3</td><td style = \"text-align: right;\">1</td><td style = \"text-align: right;\">3</td><td style = \"text-align: right;\">10</td><td style = \"text-align: right;\">6</td><td style = \"text-align: right;\">8</td><td style = \"text-align: right;\">2</td><td style = \"text-align: right;\">&ctdot;</td></tr><tr><td class = \"rowNumber\" style = \"font-weight: bold; text-align: right;\">3</td><td style = \"text-align: right;\">5</td><td style = \"text-align: right;\">7</td><td style = \"text-align: right;\">7</td><td style = \"text-align: right;\">1</td><td style = \"text-align: right;\">6</td><td style = \"text-align: right;\">2</td><td style = \"text-align: right;\">6</td><td style = \"text-align: right;\">1</td><td style = \"text-align: right;\">9</td><td style = \"text-align: right;\">9</td><td style = \"text-align: right;\">5</td><td style = \"text-align: right;\">1</td><td style = \"text-align: right;\">9</td><td style = \"text-align: right;\">3</td><td style = \"text-align: right;\">3</td><td style = \"text-align: right;\">5</td><td style = \"text-align: right;\">2</td><td style = \"text-align: right;\">1</td><td style = \"text-align: right;\">1</td><td style = \"text-align: right;\">4</td><td style = \"text-align: right;\">9</td><td style = \"text-align: right;\">7</td><td style = \"text-align: right;\">10</td><td style = \"text-align: right;\">5</td><td style = \"text-align: right;\">7</td><td style = \"text-align: right;\">7</td><td style = \"text-align: right;\">6</td><td style = \"text-align: right;\">2</td><td style = \"text-align: right;\">5</td><td style = \"text-align: right;\">2</td><td style = \"text-align: right;\">4</td><td style = \"text-align: right;\">2</td><td style = \"text-align: right;\">9</td><td style = \"text-align: right;\">9</td><td style = \"text-align: right;\">8</td><td style = \"text-align: right;\">8</td><td style = \"text-align: right;\">4</td><td style = \"text-align: right;\">7</td><td style = \"text-align: right;\">7</td><td style = \"text-align: right;\">3</td><td style = \"text-align: right;\">4</td><td style = \"text-align: right;\">1</td><td style = \"text-align: right;\">4</td><td style = \"text-align: right;\">6</td><td style = \"text-align: right;\">9</td><td style = \"text-align: right;\">9</td><td style = \"text-align: right;\">5</td><td style = \"text-align: right;\">9</td><td style = \"text-align: right;\">7</td><td style = \"text-align: right;\">3</td><td style = \"text-align: right;\">5</td><td style = \"text-align: right;\">2</td><td style = \"text-align: right;\">4</td><td style = \"text-align: right;\">1</td><td style = \"text-align: right;\">3</td><td style = \"text-align: right;\">8</td><td style = \"text-align: right;\">5</td><td style = \"text-align: right;\">8</td><td style = \"text-align: right;\">3</td><td style = \"text-align: right;\">2</td><td style = \"text-align: right;\">4</td><td style = \"text-align: right;\">10</td><td style = \"text-align: right;\">7</td><td style = \"text-align: right;\">1</td><td style = \"text-align: right;\">9</td><td style = \"text-align: right;\">7</td><td style = \"text-align: right;\">4</td><td style = \"text-align: right;\">4</td><td style = \"text-align: right;\">10</td><td style = \"text-align: right;\">5</td><td style = \"text-align: right;\">2</td><td style = \"text-align: right;\">2</td><td style = \"text-align: right;\">6</td><td style = \"text-align: right;\">7</td><td style = \"text-align: right;\">7</td><td style = \"text-align: right;\">9</td><td style = \"text-align: right;\">3</td><td style = \"text-align: right;\">3</td><td style = \"text-align: right;\">8</td><td style = \"text-align: right;\">8</td><td style = \"text-align: right;\">8</td><td style = \"text-align: right;\">9</td><td style = \"text-align: right;\">8</td><td style = \"text-align: right;\">6</td><td style = \"text-align: right;\">6</td><td style = \"text-align: right;\">8</td><td style = \"text-align: right;\">8</td><td style = \"text-align: right;\">3</td><td style = \"text-align: right;\">4</td><td style = \"text-align: right;\">10</td><td style = \"text-align: right;\">10</td><td style = \"text-align: right;\">2</td><td style = \"text-align: right;\">4</td><td style = \"text-align: right;\">9</td><td style = \"text-align: right;\">6</td><td style = \"text-align: right;\">9</td><td style = \"text-align: right;\">9</td><td style = \"text-align: right;\">5</td><td style = \"text-align: right;\">4</td><td style = \"text-align: right;\">4</td><td style = \"text-align: right;\">&ctdot;</td></tr><tr><td class = \"rowNumber\" style = \"font-weight: bold; text-align: right;\">4</td><td style = \"text-align: right;\">1</td><td style = \"text-align: right;\">7</td><td style = \"text-align: right;\">4</td><td style = \"text-align: right;\">10</td><td style = \"text-align: right;\">8</td><td style = \"text-align: right;\">5</td><td style = \"text-align: right;\">1</td><td style = \"text-align: right;\">3</td><td style = \"text-align: right;\">8</td><td style = \"text-align: right;\">1</td><td style = \"text-align: right;\">5</td><td style = \"text-align: right;\">1</td><td style = \"text-align: right;\">1</td><td style = \"text-align: right;\">8</td><td style = \"text-align: right;\">7</td><td style = \"text-align: right;\">3</td><td style = \"text-align: right;\">5</td><td style = \"text-align: right;\">8</td><td style = \"text-align: right;\">8</td><td style = \"text-align: right;\">6</td><td style = \"text-align: right;\">2</td><td style = \"text-align: right;\">3</td><td style = \"text-align: right;\">9</td><td style = \"text-align: right;\">9</td><td style = \"text-align: right;\">8</td><td style = \"text-align: right;\">7</td><td style = \"text-align: right;\">8</td><td style = \"text-align: right;\">6</td><td style = \"text-align: right;\">1</td><td style = \"text-align: right;\">9</td><td style = \"text-align: right;\">3</td><td style = \"text-align: right;\">6</td><td style = \"text-align: right;\">2</td><td style = \"text-align: right;\">1</td><td style = \"text-align: right;\">8</td><td style = \"text-align: right;\">3</td><td style = \"text-align: right;\">1</td><td style = \"text-align: right;\">4</td><td style = \"text-align: right;\">6</td><td style = \"text-align: right;\">10</td><td style = \"text-align: right;\">10</td><td style = \"text-align: right;\">4</td><td style = \"text-align: right;\">2</td><td style = \"text-align: right;\">9</td><td style = \"text-align: right;\">9</td><td style = \"text-align: right;\">1</td><td style = \"text-align: right;\">2</td><td style = \"text-align: right;\">7</td><td style = \"text-align: right;\">7</td><td style = \"text-align: right;\">5</td><td style = \"text-align: right;\">5</td><td style = \"text-align: right;\">10</td><td style = \"text-align: right;\">4</td><td style = \"text-align: right;\">3</td><td style = \"text-align: right;\">8</td><td style = \"text-align: right;\">6</td><td style = \"text-align: right;\">7</td><td style = \"text-align: right;\">4</td><td style = \"text-align: right;\">2</td><td style = \"text-align: right;\">2</td><td style = \"text-align: right;\">4</td><td style = \"text-align: right;\">8</td><td style = \"text-align: right;\">9</td><td style = \"text-align: right;\">6</td><td style = \"text-align: right;\">1</td><td style = \"text-align: right;\">10</td><td style = \"text-align: right;\">3</td><td style = \"text-align: right;\">7</td><td style = \"text-align: right;\">6</td><td style = \"text-align: right;\">2</td><td style = \"text-align: right;\">6</td><td style = \"text-align: right;\">6</td><td style = \"text-align: right;\">8</td><td style = \"text-align: right;\">2</td><td style = \"text-align: right;\">9</td><td style = \"text-align: right;\">5</td><td style = \"text-align: right;\">2</td><td style = \"text-align: right;\">5</td><td style = \"text-align: right;\">4</td><td style = \"text-align: right;\">10</td><td style = \"text-align: right;\">2</td><td style = \"text-align: right;\">3</td><td style = \"text-align: right;\">2</td><td style = \"text-align: right;\">4</td><td style = \"text-align: right;\">9</td><td style = \"text-align: right;\">3</td><td style = \"text-align: right;\">2</td><td style = \"text-align: right;\">3</td><td style = \"text-align: right;\">4</td><td style = \"text-align: right;\">5</td><td style = \"text-align: right;\">8</td><td style = \"text-align: right;\">9</td><td style = \"text-align: right;\">10</td><td style = \"text-align: right;\">5</td><td style = \"text-align: right;\">9</td><td style = \"text-align: right;\">10</td><td style = \"text-align: right;\">5</td><td style = \"text-align: right;\">1</td><td style = \"text-align: right;\">6</td><td style = \"text-align: right;\">10</td><td style = \"text-align: right;\">&ctdot;</td></tr><tr><td class = \"rowNumber\" style = \"font-weight: bold; text-align: right;\">5</td><td style = \"text-align: right;\">5</td><td style = \"text-align: right;\">4</td><td style = \"text-align: right;\">1</td><td style = \"text-align: right;\">9</td><td style = \"text-align: right;\">3</td><td style = \"text-align: right;\">5</td><td style = \"text-align: right;\">10</td><td style = \"text-align: right;\">10</td><td style = \"text-align: right;\">5</td><td style = \"text-align: right;\">5</td><td style = \"text-align: right;\">6</td><td style = \"text-align: right;\">10</td><td style = \"text-align: right;\">4</td><td style = \"text-align: right;\">2</td><td style = \"text-align: right;\">9</td><td style = \"text-align: right;\">4</td><td style = \"text-align: right;\">4</td><td style = \"text-align: right;\">1</td><td style = \"text-align: right;\">5</td><td style = \"text-align: right;\">10</td><td style = \"text-align: right;\">4</td><td style = \"text-align: right;\">8</td><td style = \"text-align: right;\">3</td><td style = \"text-align: right;\">6</td><td style = \"text-align: right;\">6</td><td style = \"text-align: right;\">8</td><td style = \"text-align: right;\">1</td><td style = \"text-align: right;\">3</td><td style = \"text-align: right;\">10</td><td style = \"text-align: right;\">8</td><td style = \"text-align: right;\">3</td><td style = \"text-align: right;\">2</td><td style = \"text-align: right;\">8</td><td style = \"text-align: right;\">10</td><td style = \"text-align: right;\">10</td><td style = \"text-align: right;\">2</td><td style = \"text-align: right;\">8</td><td style = \"text-align: right;\">2</td><td style = \"text-align: right;\">1</td><td style = \"text-align: right;\">9</td><td style = \"text-align: right;\">10</td><td style = \"text-align: right;\">3</td><td style = \"text-align: right;\">10</td><td style = \"text-align: right;\">7</td><td style = \"text-align: right;\">3</td><td style = \"text-align: right;\">1</td><td style = \"text-align: right;\">7</td><td style = \"text-align: right;\">7</td><td style = \"text-align: right;\">2</td><td style = \"text-align: right;\">6</td><td style = \"text-align: right;\">2</td><td style = \"text-align: right;\">6</td><td style = \"text-align: right;\">10</td><td style = \"text-align: right;\">8</td><td style = \"text-align: right;\">2</td><td style = \"text-align: right;\">9</td><td style = \"text-align: right;\">7</td><td style = \"text-align: right;\">4</td><td style = \"text-align: right;\">7</td><td style = \"text-align: right;\">3</td><td style = \"text-align: right;\">8</td><td style = \"text-align: right;\">5</td><td style = \"text-align: right;\">4</td><td style = \"text-align: right;\">9</td><td style = \"text-align: right;\">1</td><td style = \"text-align: right;\">10</td><td style = \"text-align: right;\">6</td><td style = \"text-align: right;\">6</td><td style = \"text-align: right;\">2</td><td style = \"text-align: right;\">7</td><td style = \"text-align: right;\">5</td><td style = \"text-align: right;\">7</td><td style = \"text-align: right;\">8</td><td style = \"text-align: right;\">7</td><td style = \"text-align: right;\">3</td><td style = \"text-align: right;\">10</td><td style = \"text-align: right;\">4</td><td style = \"text-align: right;\">5</td><td style = \"text-align: right;\">6</td><td style = \"text-align: right;\">4</td><td style = \"text-align: right;\">9</td><td style = \"text-align: right;\">1</td><td style = \"text-align: right;\">7</td><td style = \"text-align: right;\">9</td><td style = \"text-align: right;\">7</td><td style = \"text-align: right;\">7</td><td style = \"text-align: right;\">8</td><td style = \"text-align: right;\">7</td><td style = \"text-align: right;\">10</td><td style = \"text-align: right;\">1</td><td style = \"text-align: right;\">2</td><td style = \"text-align: right;\">2</td><td style = \"text-align: right;\">5</td><td style = \"text-align: right;\">5</td><td style = \"text-align: right;\">10</td><td style = \"text-align: right;\">10</td><td style = \"text-align: right;\">2</td><td style = \"text-align: right;\">3</td><td style = \"text-align: right;\">8</td><td style = \"text-align: right;\">10</td><td style = \"text-align: right;\">&ctdot;</td></tr><tr><td class = \"rowNumber\" style = \"font-weight: bold; text-align: right;\">6</td><td style = \"text-align: right;\">2</td><td style = \"text-align: right;\">1</td><td style = \"text-align: right;\">4</td><td style = \"text-align: right;\">8</td><td style = \"text-align: right;\">5</td><td style = \"text-align: right;\">5</td><td style = \"text-align: right;\">6</td><td style = \"text-align: right;\">2</td><td style = \"text-align: right;\">4</td><td style = \"text-align: right;\">2</td><td style = \"text-align: right;\">2</td><td style = \"text-align: right;\">1</td><td style = \"text-align: right;\">3</td><td style = \"text-align: right;\">10</td><td style = \"text-align: right;\">4</td><td style = \"text-align: right;\">3</td><td style = \"text-align: right;\">1</td><td style = \"text-align: right;\">4</td><td style = \"text-align: right;\">6</td><td style = \"text-align: right;\">8</td><td style = \"text-align: right;\">5</td><td style = \"text-align: right;\">9</td><td style = \"text-align: right;\">6</td><td style = \"text-align: right;\">4</td><td style = \"text-align: right;\">6</td><td style = \"text-align: right;\">9</td><td style = \"text-align: right;\">5</td><td style = \"text-align: right;\">4</td><td style = \"text-align: right;\">2</td><td style = \"text-align: right;\">6</td><td style = \"text-align: right;\">8</td><td style = \"text-align: right;\">10</td><td style = \"text-align: right;\">3</td><td style = \"text-align: right;\">8</td><td style = \"text-align: right;\">7</td><td style = \"text-align: right;\">3</td><td style = \"text-align: right;\">3</td><td style = \"text-align: right;\">3</td><td style = \"text-align: right;\">9</td><td style = \"text-align: right;\">9</td><td style = \"text-align: right;\">5</td><td style = \"text-align: right;\">10</td><td style = \"text-align: right;\">6</td><td style = \"text-align: right;\">10</td><td style = \"text-align: right;\">4</td><td style = \"text-align: right;\">7</td><td style = \"text-align: right;\">4</td><td style = \"text-align: right;\">5</td><td style = \"text-align: right;\">6</td><td style = \"text-align: right;\">6</td><td style = \"text-align: right;\">10</td><td style = \"text-align: right;\">4</td><td style = \"text-align: right;\">9</td><td style = \"text-align: right;\">6</td><td style = \"text-align: right;\">4</td><td style = \"text-align: right;\">6</td><td style = \"text-align: right;\">4</td><td style = \"text-align: right;\">4</td><td style = \"text-align: right;\">2</td><td style = \"text-align: right;\">2</td><td style = \"text-align: right;\">1</td><td style = \"text-align: right;\">10</td><td style = \"text-align: right;\">4</td><td style = \"text-align: right;\">9</td><td style = \"text-align: right;\">2</td><td style = \"text-align: right;\">6</td><td style = \"text-align: right;\">1</td><td style = \"text-align: right;\">5</td><td style = \"text-align: right;\">4</td><td style = \"text-align: right;\">4</td><td style = \"text-align: right;\">9</td><td style = \"text-align: right;\">4</td><td style = \"text-align: right;\">8</td><td style = \"text-align: right;\">4</td><td style = \"text-align: right;\">7</td><td style = \"text-align: right;\">3</td><td style = \"text-align: right;\">9</td><td style = \"text-align: right;\">8</td><td style = \"text-align: right;\">10</td><td style = \"text-align: right;\">10</td><td style = \"text-align: right;\">6</td><td style = \"text-align: right;\">2</td><td style = \"text-align: right;\">7</td><td style = \"text-align: right;\">6</td><td style = \"text-align: right;\">10</td><td style = \"text-align: right;\">4</td><td style = \"text-align: right;\">7</td><td style = \"text-align: right;\">4</td><td style = \"text-align: right;\">7</td><td style = \"text-align: right;\">2</td><td style = \"text-align: right;\">5</td><td style = \"text-align: right;\">6</td><td style = \"text-align: right;\">9</td><td style = \"text-align: right;\">8</td><td style = \"text-align: right;\">4</td><td style = \"text-align: right;\">4</td><td style = \"text-align: right;\">5</td><td style = \"text-align: right;\">7</td><td style = \"text-align: right;\">1</td><td style = \"text-align: right;\">4</td><td style = \"text-align: right;\">&ctdot;</td></tr><tr><td class = \"rowNumber\" style = \"font-weight: bold; text-align: right;\">7</td><td style = \"text-align: right;\">7</td><td style = \"text-align: right;\">8</td><td style = \"text-align: right;\">6</td><td style = \"text-align: right;\">10</td><td style = \"text-align: right;\">6</td><td style = \"text-align: right;\">8</td><td style = \"text-align: right;\">1</td><td style = \"text-align: right;\">9</td><td style = \"text-align: right;\">9</td><td style = \"text-align: right;\">7</td><td style = \"text-align: right;\">3</td><td style = \"text-align: right;\">2</td><td style = \"text-align: right;\">3</td><td style = \"text-align: right;\">4</td><td style = \"text-align: right;\">9</td><td style = \"text-align: right;\">4</td><td style = \"text-align: right;\">1</td><td style = \"text-align: right;\">3</td><td style = \"text-align: right;\">9</td><td style = \"text-align: right;\">5</td><td style = \"text-align: right;\">1</td><td style = \"text-align: right;\">6</td><td style = \"text-align: right;\">3</td><td style = \"text-align: right;\">1</td><td style = \"text-align: right;\">6</td><td style = \"text-align: right;\">5</td><td style = \"text-align: right;\">7</td><td style = \"text-align: right;\">9</td><td style = \"text-align: right;\">8</td><td style = \"text-align: right;\">5</td><td style = \"text-align: right;\">7</td><td style = \"text-align: right;\">4</td><td style = \"text-align: right;\">4</td><td style = \"text-align: right;\">2</td><td style = \"text-align: right;\">1</td><td style = \"text-align: right;\">3</td><td style = \"text-align: right;\">6</td><td style = \"text-align: right;\">3</td><td style = \"text-align: right;\">5</td><td style = \"text-align: right;\">6</td><td style = \"text-align: right;\">3</td><td style = \"text-align: right;\">6</td><td style = \"text-align: right;\">7</td><td style = \"text-align: right;\">8</td><td style = \"text-align: right;\">4</td><td style = \"text-align: right;\">10</td><td style = \"text-align: right;\">5</td><td style = \"text-align: right;\">9</td><td style = \"text-align: right;\">6</td><td style = \"text-align: right;\">5</td><td style = \"text-align: right;\">10</td><td style = \"text-align: right;\">7</td><td style = \"text-align: right;\">10</td><td style = \"text-align: right;\">6</td><td style = \"text-align: right;\">6</td><td style = \"text-align: right;\">8</td><td style = \"text-align: right;\">4</td><td style = \"text-align: right;\">2</td><td style = \"text-align: right;\">9</td><td style = \"text-align: right;\">5</td><td style = \"text-align: right;\">10</td><td style = \"text-align: right;\">2</td><td style = \"text-align: right;\">2</td><td style = \"text-align: right;\">1</td><td style = \"text-align: right;\">4</td><td style = \"text-align: right;\">5</td><td style = \"text-align: right;\">1</td><td style = \"text-align: right;\">10</td><td style = \"text-align: right;\">3</td><td style = \"text-align: right;\">6</td><td style = \"text-align: right;\">5</td><td style = \"text-align: right;\">1</td><td style = \"text-align: right;\">9</td><td style = \"text-align: right;\">9</td><td style = \"text-align: right;\">10</td><td style = \"text-align: right;\">9</td><td style = \"text-align: right;\">3</td><td style = \"text-align: right;\">2</td><td style = \"text-align: right;\">1</td><td style = \"text-align: right;\">5</td><td style = \"text-align: right;\">10</td><td style = \"text-align: right;\">3</td><td style = \"text-align: right;\">8</td><td style = \"text-align: right;\">3</td><td style = \"text-align: right;\">8</td><td style = \"text-align: right;\">6</td><td style = \"text-align: right;\">8</td><td style = \"text-align: right;\">4</td><td style = \"text-align: right;\">6</td><td style = \"text-align: right;\">3</td><td style = \"text-align: right;\">4</td><td style = \"text-align: right;\">10</td><td style = \"text-align: right;\">1</td><td style = \"text-align: right;\">2</td><td style = \"text-align: right;\">3</td><td style = \"text-align: right;\">8</td><td style = \"text-align: right;\">3</td><td style = \"text-align: right;\">4</td><td style = \"text-align: right;\">7</td><td style = \"text-align: right;\">10</td><td style = \"text-align: right;\">&ctdot;</td></tr><tr><td class = \"rowNumber\" style = \"font-weight: bold; text-align: right;\">8</td><td style = \"text-align: right;\">9</td><td style = \"text-align: right;\">4</td><td style = \"text-align: right;\">3</td><td style = \"text-align: right;\">6</td><td style = \"text-align: right;\">1</td><td style = \"text-align: right;\">7</td><td style = \"text-align: right;\">9</td><td style = \"text-align: right;\">3</td><td style = \"text-align: right;\">4</td><td style = \"text-align: right;\">8</td><td style = \"text-align: right;\">7</td><td style = \"text-align: right;\">6</td><td style = \"text-align: right;\">7</td><td style = \"text-align: right;\">9</td><td style = \"text-align: right;\">8</td><td style = \"text-align: right;\">9</td><td style = \"text-align: right;\">3</td><td style = \"text-align: right;\">2</td><td style = \"text-align: right;\">3</td><td style = \"text-align: right;\">6</td><td style = \"text-align: right;\">1</td><td style = \"text-align: right;\">6</td><td style = \"text-align: right;\">1</td><td style = \"text-align: right;\">4</td><td style = \"text-align: right;\">2</td><td style = \"text-align: right;\">1</td><td style = \"text-align: right;\">7</td><td style = \"text-align: right;\">3</td><td style = \"text-align: right;\">2</td><td style = \"text-align: right;\">3</td><td style = \"text-align: right;\">6</td><td style = \"text-align: right;\">6</td><td style = \"text-align: right;\">5</td><td style = \"text-align: right;\">2</td><td style = \"text-align: right;\">3</td><td style = \"text-align: right;\">3</td><td style = \"text-align: right;\">7</td><td style = \"text-align: right;\">1</td><td style = \"text-align: right;\">3</td><td style = \"text-align: right;\">3</td><td style = \"text-align: right;\">2</td><td style = \"text-align: right;\">3</td><td style = \"text-align: right;\">2</td><td style = \"text-align: right;\">5</td><td style = \"text-align: right;\">4</td><td style = \"text-align: right;\">10</td><td style = \"text-align: right;\">1</td><td style = \"text-align: right;\">2</td><td style = \"text-align: right;\">4</td><td style = \"text-align: right;\">7</td><td style = \"text-align: right;\">6</td><td style = \"text-align: right;\">8</td><td style = \"text-align: right;\">6</td><td style = \"text-align: right;\">9</td><td style = \"text-align: right;\">9</td><td style = \"text-align: right;\">10</td><td style = \"text-align: right;\">2</td><td style = \"text-align: right;\">9</td><td style = \"text-align: right;\">1</td><td style = \"text-align: right;\">8</td><td style = \"text-align: right;\">1</td><td style = \"text-align: right;\">9</td><td style = \"text-align: right;\">7</td><td style = \"text-align: right;\">1</td><td style = \"text-align: right;\">4</td><td style = \"text-align: right;\">10</td><td style = \"text-align: right;\">5</td><td style = \"text-align: right;\">8</td><td style = \"text-align: right;\">9</td><td style = \"text-align: right;\">8</td><td style = \"text-align: right;\">5</td><td style = \"text-align: right;\">1</td><td style = \"text-align: right;\">3</td><td style = \"text-align: right;\">9</td><td style = \"text-align: right;\">9</td><td style = \"text-align: right;\">3</td><td style = \"text-align: right;\">8</td><td style = \"text-align: right;\">7</td><td style = \"text-align: right;\">1</td><td style = \"text-align: right;\">4</td><td style = \"text-align: right;\">8</td><td style = \"text-align: right;\">3</td><td style = \"text-align: right;\">3</td><td style = \"text-align: right;\">4</td><td style = \"text-align: right;\">6</td><td style = \"text-align: right;\">5</td><td style = \"text-align: right;\">5</td><td style = \"text-align: right;\">2</td><td style = \"text-align: right;\">2</td><td style = \"text-align: right;\">1</td><td style = \"text-align: right;\">4</td><td style = \"text-align: right;\">9</td><td style = \"text-align: right;\">10</td><td style = \"text-align: right;\">6</td><td style = \"text-align: right;\">6</td><td style = \"text-align: right;\">1</td><td style = \"text-align: right;\">3</td><td style = \"text-align: right;\">7</td><td style = \"text-align: right;\">2</td><td style = \"text-align: right;\">10</td><td style = \"text-align: right;\">&ctdot;</td></tr><tr><td class = \"rowNumber\" style = \"font-weight: bold; text-align: right;\">9</td><td style = \"text-align: right;\">1</td><td style = \"text-align: right;\">4</td><td style = \"text-align: right;\">6</td><td style = \"text-align: right;\">4</td><td style = \"text-align: right;\">10</td><td style = \"text-align: right;\">2</td><td style = \"text-align: right;\">1</td><td style = \"text-align: right;\">5</td><td style = \"text-align: right;\">6</td><td style = \"text-align: right;\">9</td><td style = \"text-align: right;\">4</td><td style = \"text-align: right;\">9</td><td style = \"text-align: right;\">6</td><td style = \"text-align: right;\">8</td><td style = \"text-align: right;\">6</td><td style = \"text-align: right;\">8</td><td style = \"text-align: right;\">4</td><td style = \"text-align: right;\">2</td><td style = \"text-align: right;\">3</td><td style = \"text-align: right;\">7</td><td style = \"text-align: right;\">2</td><td style = \"text-align: right;\">3</td><td style = \"text-align: right;\">6</td><td style = \"text-align: right;\">6</td><td style = \"text-align: right;\">9</td><td style = \"text-align: right;\">7</td><td style = \"text-align: right;\">6</td><td style = \"text-align: right;\">3</td><td style = \"text-align: right;\">6</td><td style = \"text-align: right;\">3</td><td style = \"text-align: right;\">7</td><td style = \"text-align: right;\">9</td><td style = \"text-align: right;\">7</td><td style = \"text-align: right;\">5</td><td style = \"text-align: right;\">7</td><td style = \"text-align: right;\">3</td><td style = \"text-align: right;\">6</td><td style = \"text-align: right;\">9</td><td style = \"text-align: right;\">9</td><td style = \"text-align: right;\">10</td><td style = \"text-align: right;\">1</td><td style = \"text-align: right;\">3</td><td style = \"text-align: right;\">5</td><td style = \"text-align: right;\">2</td><td style = \"text-align: right;\">6</td><td style = \"text-align: right;\">4</td><td style = \"text-align: right;\">2</td><td style = \"text-align: right;\">8</td><td style = \"text-align: right;\">2</td><td style = \"text-align: right;\">6</td><td style = \"text-align: right;\">10</td><td style = \"text-align: right;\">8</td><td style = \"text-align: right;\">1</td><td style = \"text-align: right;\">9</td><td style = \"text-align: right;\">2</td><td style = \"text-align: right;\">8</td><td style = \"text-align: right;\">9</td><td style = \"text-align: right;\">5</td><td style = \"text-align: right;\">10</td><td style = \"text-align: right;\">1</td><td style = \"text-align: right;\">8</td><td style = \"text-align: right;\">9</td><td style = \"text-align: right;\">7</td><td style = \"text-align: right;\">1</td><td style = \"text-align: right;\">5</td><td style = \"text-align: right;\">9</td><td style = \"text-align: right;\">6</td><td style = \"text-align: right;\">5</td><td style = \"text-align: right;\">4</td><td style = \"text-align: right;\">5</td><td style = \"text-align: right;\">9</td><td style = \"text-align: right;\">3</td><td style = \"text-align: right;\">6</td><td style = \"text-align: right;\">4</td><td style = \"text-align: right;\">4</td><td style = \"text-align: right;\">7</td><td style = \"text-align: right;\">1</td><td style = \"text-align: right;\">1</td><td style = \"text-align: right;\">6</td><td style = \"text-align: right;\">1</td><td style = \"text-align: right;\">2</td><td style = \"text-align: right;\">1</td><td style = \"text-align: right;\">1</td><td style = \"text-align: right;\">2</td><td style = \"text-align: right;\">1</td><td style = \"text-align: right;\">8</td><td style = \"text-align: right;\">9</td><td style = \"text-align: right;\">8</td><td style = \"text-align: right;\">8</td><td style = \"text-align: right;\">9</td><td style = \"text-align: right;\">8</td><td style = \"text-align: right;\">8</td><td style = \"text-align: right;\">2</td><td style = \"text-align: right;\">5</td><td style = \"text-align: right;\">2</td><td style = \"text-align: right;\">4</td><td style = \"text-align: right;\">2</td><td style = \"text-align: right;\">5</td><td style = \"text-align: right;\">2</td><td style = \"text-align: right;\">3</td><td style = \"text-align: right;\">&ctdot;</td></tr><tr><td class = \"rowNumber\" style = \"font-weight: bold; text-align: right;\">10</td><td style = \"text-align: right;\">9</td><td style = \"text-align: right;\">5</td><td style = \"text-align: right;\">5</td><td style = \"text-align: right;\">3</td><td style = \"text-align: right;\">2</td><td style = \"text-align: right;\">5</td><td style = \"text-align: right;\">3</td><td style = \"text-align: right;\">1</td><td style = \"text-align: right;\">4</td><td style = \"text-align: right;\">8</td><td style = \"text-align: right;\">6</td><td style = \"text-align: right;\">5</td><td style = \"text-align: right;\">9</td><td style = \"text-align: right;\">3</td><td style = \"text-align: right;\">5</td><td style = \"text-align: right;\">9</td><td style = \"text-align: right;\">5</td><td style = \"text-align: right;\">8</td><td style = \"text-align: right;\">7</td><td style = \"text-align: right;\">10</td><td style = \"text-align: right;\">8</td><td style = \"text-align: right;\">6</td><td style = \"text-align: right;\">5</td><td style = \"text-align: right;\">6</td><td style = \"text-align: right;\">7</td><td style = \"text-align: right;\">10</td><td style = \"text-align: right;\">10</td><td style = \"text-align: right;\">2</td><td style = \"text-align: right;\">8</td><td style = \"text-align: right;\">5</td><td style = \"text-align: right;\">2</td><td style = \"text-align: right;\">6</td><td style = \"text-align: right;\">6</td><td style = \"text-align: right;\">3</td><td style = \"text-align: right;\">3</td><td style = \"text-align: right;\">9</td><td style = \"text-align: right;\">4</td><td style = \"text-align: right;\">9</td><td style = \"text-align: right;\">4</td><td style = \"text-align: right;\">7</td><td style = \"text-align: right;\">7</td><td style = \"text-align: right;\">7</td><td style = \"text-align: right;\">4</td><td style = \"text-align: right;\">6</td><td style = \"text-align: right;\">1</td><td style = \"text-align: right;\">8</td><td style = \"text-align: right;\">3</td><td style = \"text-align: right;\">1</td><td style = \"text-align: right;\">7</td><td style = \"text-align: right;\">9</td><td style = \"text-align: right;\">10</td><td style = \"text-align: right;\">2</td><td style = \"text-align: right;\">10</td><td style = \"text-align: right;\">2</td><td style = \"text-align: right;\">5</td><td style = \"text-align: right;\">7</td><td style = \"text-align: right;\">9</td><td style = \"text-align: right;\">3</td><td style = \"text-align: right;\">1</td><td style = \"text-align: right;\">2</td><td style = \"text-align: right;\">4</td><td style = \"text-align: right;\">6</td><td style = \"text-align: right;\">2</td><td style = \"text-align: right;\">4</td><td style = \"text-align: right;\">9</td><td style = \"text-align: right;\">7</td><td style = \"text-align: right;\">1</td><td style = \"text-align: right;\">2</td><td style = \"text-align: right;\">2</td><td style = \"text-align: right;\">10</td><td style = \"text-align: right;\">8</td><td style = \"text-align: right;\">1</td><td style = \"text-align: right;\">4</td><td style = \"text-align: right;\">2</td><td style = \"text-align: right;\">8</td><td style = \"text-align: right;\">2</td><td style = \"text-align: right;\">9</td><td style = \"text-align: right;\">2</td><td style = \"text-align: right;\">9</td><td style = \"text-align: right;\">9</td><td style = \"text-align: right;\">3</td><td style = \"text-align: right;\">3</td><td style = \"text-align: right;\">3</td><td style = \"text-align: right;\">8</td><td style = \"text-align: right;\">1</td><td style = \"text-align: right;\">7</td><td style = \"text-align: right;\">8</td><td style = \"text-align: right;\">3</td><td style = \"text-align: right;\">9</td><td style = \"text-align: right;\">3</td><td style = \"text-align: right;\">10</td><td style = \"text-align: right;\">7</td><td style = \"text-align: right;\">7</td><td style = \"text-align: right;\">8</td><td style = \"text-align: right;\">1</td><td style = \"text-align: right;\">8</td><td style = \"text-align: right;\">7</td><td style = \"text-align: right;\">8</td><td style = \"text-align: right;\">9</td><td style = \"text-align: right;\">4</td><td style = \"text-align: right;\">&ctdot;</td></tr></tbody></table></div>"
      ],
      "text/latex": [
       "\\begin{tabular}{r|ccccccccccccc}\n",
       "\t& x1 & x2 & x3 & x4 & x5 & x6 & x7 & x8 & x9 & x10 & x11 & x12 & \\\\\n",
       "\t\\hline\n",
       "\t& Int64 & Int64 & Int64 & Int64 & Int64 & Int64 & Int64 & Int64 & Int64 & Int64 & Int64 & Int64 & \\\\\n",
       "\t\\hline\n",
       "\t1 & 6 & 8 & 5 & 9 & 10 & 9 & 5 & 4 & 8 & 9 & 6 & 4 & $\\dots$ \\\\\n",
       "\t2 & 1 & 10 & 7 & 9 & 8 & 8 & 5 & 10 & 2 & 10 & 8 & 4 & $\\dots$ \\\\\n",
       "\t3 & 5 & 7 & 7 & 1 & 6 & 2 & 6 & 1 & 9 & 9 & 5 & 1 & $\\dots$ \\\\\n",
       "\t4 & 1 & 7 & 4 & 10 & 8 & 5 & 1 & 3 & 8 & 1 & 5 & 1 & $\\dots$ \\\\\n",
       "\t5 & 5 & 4 & 1 & 9 & 3 & 5 & 10 & 10 & 5 & 5 & 6 & 10 & $\\dots$ \\\\\n",
       "\t6 & 2 & 1 & 4 & 8 & 5 & 5 & 6 & 2 & 4 & 2 & 2 & 1 & $\\dots$ \\\\\n",
       "\t7 & 7 & 8 & 6 & 10 & 6 & 8 & 1 & 9 & 9 & 7 & 3 & 2 & $\\dots$ \\\\\n",
       "\t8 & 9 & 4 & 3 & 6 & 1 & 7 & 9 & 3 & 4 & 8 & 7 & 6 & $\\dots$ \\\\\n",
       "\t9 & 1 & 4 & 6 & 4 & 10 & 2 & 1 & 5 & 6 & 9 & 4 & 9 & $\\dots$ \\\\\n",
       "\t10 & 9 & 5 & 5 & 3 & 2 & 5 & 3 & 1 & 4 & 8 & 6 & 5 & $\\dots$ \\\\\n",
       "\\end{tabular}\n"
      ],
      "text/plain": [
       "\u001b[1m10×1000 DataFrame\u001b[0m\n",
       "\u001b[1m Row \u001b[0m│\u001b[1m x1    \u001b[0m\u001b[1m x2    \u001b[0m\u001b[1m x3    \u001b[0m\u001b[1m x4    \u001b[0m\u001b[1m x5    \u001b[0m\u001b[1m x6    \u001b[0m\u001b[1m x7    \u001b[0m\u001b[1m x8    \u001b[0m\u001b[1m x9    \u001b[0m\u001b[1m x10   \u001b[0m\u001b[1m x\u001b[0m ⋯\n",
       "     │\u001b[90m Int64 \u001b[0m\u001b[90m Int64 \u001b[0m\u001b[90m Int64 \u001b[0m\u001b[90m Int64 \u001b[0m\u001b[90m Int64 \u001b[0m\u001b[90m Int64 \u001b[0m\u001b[90m Int64 \u001b[0m\u001b[90m Int64 \u001b[0m\u001b[90m Int64 \u001b[0m\u001b[90m Int64 \u001b[0m\u001b[90m I\u001b[0m ⋯\n",
       "─────┼──────────────────────────────────────────────────────────────────────────\n",
       "   1 │     6      8      5      9     10      9      5      4      8      9    ⋯\n",
       "   2 │     1     10      7      9      8      8      5     10      2     10\n",
       "   3 │     5      7      7      1      6      2      6      1      9      9\n",
       "   4 │     1      7      4     10      8      5      1      3      8      1\n",
       "   5 │     5      4      1      9      3      5     10     10      5      5    ⋯\n",
       "   6 │     2      1      4      8      5      5      6      2      4      2\n",
       "   7 │     7      8      6     10      6      8      1      9      9      7\n",
       "   8 │     9      4      3      6      1      7      9      3      4      8\n",
       "   9 │     1      4      6      4     10      2      1      5      6      9    ⋯\n",
       "  10 │     9      5      5      3      2      5      3      1      4      8\n",
       "\u001b[36m                                                             990 columns omitted\u001b[0m"
      ]
     },
     "execution_count": 44,
     "metadata": {},
     "output_type": "execute_result"
    }
   ],
   "source": [
    "df = DataFrame(rand(1:10, 10, 1000), :auto)"
   ]
  },
  {
   "cell_type": "code",
   "execution_count": 45,
   "metadata": {},
   "outputs": [],
   "source": [
    "# GzipCompressorStream comes from CodecZlib\n",
    "\n",
    "open(\"df_compress_test.csv.gz\", \"w\") do io\n",
    "    stream = GzipCompressorStream(io)\n",
    "    CSV.write(stream, df)\n",
    "    close(stream)\n",
    "end"
   ]
  },
  {
   "cell_type": "code",
   "execution_count": 46,
   "metadata": {},
   "outputs": [
    {
     "data": {
      "text/html": [
       "<div><div style = \"float: left;\"><span>10×1000 DataFrame</span></div><div style = \"float: right;\"><span style = \"font-style: italic;\">900 columns omitted</span></div><div style = \"clear: both;\"></div></div><div class = \"data-frame\" style = \"overflow-x: scroll;\"><table class = \"data-frame\" style = \"margin-bottom: 6px;\"><thead><tr class = \"header\"><th class = \"rowNumber\" style = \"font-weight: bold; text-align: right;\">Row</th><th style = \"text-align: left;\">x1</th><th style = \"text-align: left;\">x2</th><th style = \"text-align: left;\">x3</th><th style = \"text-align: left;\">x4</th><th style = \"text-align: left;\">x5</th><th style = \"text-align: left;\">x6</th><th style = \"text-align: left;\">x7</th><th style = \"text-align: left;\">x8</th><th style = \"text-align: left;\">x9</th><th style = \"text-align: left;\">x10</th><th style = \"text-align: left;\">x11</th><th style = \"text-align: left;\">x12</th><th style = \"text-align: left;\">x13</th><th style = \"text-align: left;\">x14</th><th style = \"text-align: left;\">x15</th><th style = \"text-align: left;\">x16</th><th style = \"text-align: left;\">x17</th><th style = \"text-align: left;\">x18</th><th style = \"text-align: left;\">x19</th><th style = \"text-align: left;\">x20</th><th style = \"text-align: left;\">x21</th><th style = \"text-align: left;\">x22</th><th style = \"text-align: left;\">x23</th><th style = \"text-align: left;\">x24</th><th style = \"text-align: left;\">x25</th><th style = \"text-align: left;\">x26</th><th style = \"text-align: left;\">x27</th><th style = \"text-align: left;\">x28</th><th style = \"text-align: left;\">x29</th><th style = \"text-align: left;\">x30</th><th style = \"text-align: left;\">x31</th><th style = \"text-align: left;\">x32</th><th style = \"text-align: left;\">x33</th><th style = \"text-align: left;\">x34</th><th style = \"text-align: left;\">x35</th><th style = \"text-align: left;\">x36</th><th style = \"text-align: left;\">x37</th><th style = \"text-align: left;\">x38</th><th style = \"text-align: left;\">x39</th><th style = \"text-align: left;\">x40</th><th style = \"text-align: left;\">x41</th><th style = \"text-align: left;\">x42</th><th style = \"text-align: left;\">x43</th><th style = \"text-align: left;\">x44</th><th style = \"text-align: left;\">x45</th><th style = \"text-align: left;\">x46</th><th style = \"text-align: left;\">x47</th><th style = \"text-align: left;\">x48</th><th style = \"text-align: left;\">x49</th><th style = \"text-align: left;\">x50</th><th style = \"text-align: left;\">x51</th><th style = \"text-align: left;\">x52</th><th style = \"text-align: left;\">x53</th><th style = \"text-align: left;\">x54</th><th style = \"text-align: left;\">x55</th><th style = \"text-align: left;\">x56</th><th style = \"text-align: left;\">x57</th><th style = \"text-align: left;\">x58</th><th style = \"text-align: left;\">x59</th><th style = \"text-align: left;\">x60</th><th style = \"text-align: left;\">x61</th><th style = \"text-align: left;\">x62</th><th style = \"text-align: left;\">x63</th><th style = \"text-align: left;\">x64</th><th style = \"text-align: left;\">x65</th><th style = \"text-align: left;\">x66</th><th style = \"text-align: left;\">x67</th><th style = \"text-align: left;\">x68</th><th style = \"text-align: left;\">x69</th><th style = \"text-align: left;\">x70</th><th style = \"text-align: left;\">x71</th><th style = \"text-align: left;\">x72</th><th style = \"text-align: left;\">x73</th><th style = \"text-align: left;\">x74</th><th style = \"text-align: left;\">x75</th><th style = \"text-align: left;\">x76</th><th style = \"text-align: left;\">x77</th><th style = \"text-align: left;\">x78</th><th style = \"text-align: left;\">x79</th><th style = \"text-align: left;\">x80</th><th style = \"text-align: left;\">x81</th><th style = \"text-align: left;\">x82</th><th style = \"text-align: left;\">x83</th><th style = \"text-align: left;\">x84</th><th style = \"text-align: left;\">x85</th><th style = \"text-align: left;\">x86</th><th style = \"text-align: left;\">x87</th><th style = \"text-align: left;\">x88</th><th style = \"text-align: left;\">x89</th><th style = \"text-align: left;\">x90</th><th style = \"text-align: left;\">x91</th><th style = \"text-align: left;\">x92</th><th style = \"text-align: left;\">x93</th><th style = \"text-align: left;\">x94</th><th style = \"text-align: left;\">x95</th><th style = \"text-align: left;\">x96</th><th style = \"text-align: left;\">x97</th><th style = \"text-align: left;\">x98</th><th style = \"text-align: left;\">x99</th><th style = \"text-align: left;\">x100</th><th style = \"text-align: right;\">&ctdot;</th></tr><tr class = \"subheader headerLastRow\"><th class = \"rowNumber\" style = \"font-weight: bold; text-align: right;\"></th><th title = \"Int64\" style = \"text-align: left;\">Int64</th><th title = \"Int64\" style = \"text-align: left;\">Int64</th><th title = \"Int64\" style = \"text-align: left;\">Int64</th><th title = \"Int64\" style = \"text-align: left;\">Int64</th><th title = \"Int64\" style = \"text-align: left;\">Int64</th><th title = \"Int64\" style = \"text-align: left;\">Int64</th><th title = \"Int64\" style = \"text-align: left;\">Int64</th><th title = \"Int64\" style = \"text-align: left;\">Int64</th><th title = \"Int64\" style = \"text-align: left;\">Int64</th><th title = \"Int64\" style = \"text-align: left;\">Int64</th><th title = \"Int64\" style = \"text-align: left;\">Int64</th><th title = \"Int64\" style = \"text-align: left;\">Int64</th><th title = \"Int64\" style = \"text-align: left;\">Int64</th><th title = \"Int64\" style = \"text-align: left;\">Int64</th><th title = \"Int64\" style = \"text-align: left;\">Int64</th><th title = \"Int64\" style = \"text-align: left;\">Int64</th><th title = \"Int64\" style = \"text-align: left;\">Int64</th><th title = \"Int64\" style = \"text-align: left;\">Int64</th><th title = \"Int64\" style = \"text-align: left;\">Int64</th><th title = \"Int64\" style = \"text-align: left;\">Int64</th><th title = \"Int64\" style = \"text-align: left;\">Int64</th><th title = \"Int64\" style = \"text-align: left;\">Int64</th><th title = \"Int64\" style = \"text-align: left;\">Int64</th><th title = \"Int64\" style = \"text-align: left;\">Int64</th><th title = \"Int64\" style = \"text-align: left;\">Int64</th><th title = \"Int64\" style = \"text-align: left;\">Int64</th><th title = \"Int64\" style = \"text-align: left;\">Int64</th><th title = \"Int64\" style = \"text-align: left;\">Int64</th><th title = \"Int64\" style = \"text-align: left;\">Int64</th><th title = \"Int64\" style = \"text-align: left;\">Int64</th><th title = \"Int64\" style = \"text-align: left;\">Int64</th><th title = \"Int64\" style = \"text-align: left;\">Int64</th><th title = \"Int64\" style = \"text-align: left;\">Int64</th><th title = \"Int64\" style = \"text-align: left;\">Int64</th><th title = \"Int64\" style = \"text-align: left;\">Int64</th><th title = \"Int64\" style = \"text-align: left;\">Int64</th><th title = \"Int64\" style = \"text-align: left;\">Int64</th><th title = \"Int64\" style = \"text-align: left;\">Int64</th><th title = \"Int64\" style = \"text-align: left;\">Int64</th><th title = \"Int64\" style = \"text-align: left;\">Int64</th><th title = \"Int64\" style = \"text-align: left;\">Int64</th><th title = \"Int64\" style = \"text-align: left;\">Int64</th><th title = \"Int64\" style = \"text-align: left;\">Int64</th><th title = \"Int64\" style = \"text-align: left;\">Int64</th><th title = \"Int64\" style = \"text-align: left;\">Int64</th><th title = \"Int64\" style = \"text-align: left;\">Int64</th><th title = \"Int64\" style = \"text-align: left;\">Int64</th><th title = \"Int64\" style = \"text-align: left;\">Int64</th><th title = \"Int64\" style = \"text-align: left;\">Int64</th><th title = \"Int64\" style = \"text-align: left;\">Int64</th><th title = \"Int64\" style = \"text-align: left;\">Int64</th><th title = \"Int64\" style = \"text-align: left;\">Int64</th><th title = \"Int64\" style = \"text-align: left;\">Int64</th><th title = \"Int64\" style = \"text-align: left;\">Int64</th><th title = \"Int64\" style = \"text-align: left;\">Int64</th><th title = \"Int64\" style = \"text-align: left;\">Int64</th><th title = \"Int64\" style = \"text-align: left;\">Int64</th><th title = \"Int64\" style = \"text-align: left;\">Int64</th><th title = \"Int64\" style = \"text-align: left;\">Int64</th><th title = \"Int64\" style = \"text-align: left;\">Int64</th><th title = \"Int64\" style = \"text-align: left;\">Int64</th><th title = \"Int64\" style = \"text-align: left;\">Int64</th><th title = \"Int64\" style = \"text-align: left;\">Int64</th><th title = \"Int64\" style = \"text-align: left;\">Int64</th><th title = \"Int64\" style = \"text-align: left;\">Int64</th><th title = \"Int64\" style = \"text-align: left;\">Int64</th><th title = \"Int64\" style = \"text-align: left;\">Int64</th><th title = \"Int64\" style = \"text-align: left;\">Int64</th><th title = \"Int64\" style = \"text-align: left;\">Int64</th><th title = \"Int64\" style = \"text-align: left;\">Int64</th><th title = \"Int64\" style = \"text-align: left;\">Int64</th><th title = \"Int64\" style = \"text-align: left;\">Int64</th><th title = \"Int64\" style = \"text-align: left;\">Int64</th><th title = \"Int64\" style = \"text-align: left;\">Int64</th><th title = \"Int64\" style = \"text-align: left;\">Int64</th><th title = \"Int64\" style = \"text-align: left;\">Int64</th><th title = \"Int64\" style = \"text-align: left;\">Int64</th><th title = \"Int64\" style = \"text-align: left;\">Int64</th><th title = \"Int64\" style = \"text-align: left;\">Int64</th><th title = \"Int64\" style = \"text-align: left;\">Int64</th><th title = \"Int64\" style = \"text-align: left;\">Int64</th><th title = \"Int64\" style = \"text-align: left;\">Int64</th><th title = \"Int64\" style = \"text-align: left;\">Int64</th><th title = \"Int64\" style = \"text-align: left;\">Int64</th><th title = \"Int64\" style = \"text-align: left;\">Int64</th><th title = \"Int64\" style = \"text-align: left;\">Int64</th><th title = \"Int64\" style = \"text-align: left;\">Int64</th><th title = \"Int64\" style = \"text-align: left;\">Int64</th><th title = \"Int64\" style = \"text-align: left;\">Int64</th><th title = \"Int64\" style = \"text-align: left;\">Int64</th><th title = \"Int64\" style = \"text-align: left;\">Int64</th><th title = \"Int64\" style = \"text-align: left;\">Int64</th><th title = \"Int64\" style = \"text-align: left;\">Int64</th><th title = \"Int64\" style = \"text-align: left;\">Int64</th><th title = \"Int64\" style = \"text-align: left;\">Int64</th><th title = \"Int64\" style = \"text-align: left;\">Int64</th><th title = \"Int64\" style = \"text-align: left;\">Int64</th><th title = \"Int64\" style = \"text-align: left;\">Int64</th><th title = \"Int64\" style = \"text-align: left;\">Int64</th><th title = \"Int64\" style = \"text-align: left;\">Int64</th><th title = \"Int64\" style = \"text-align: right;\">&ctdot;</th></tr></thead><tbody><tr><td class = \"rowNumber\" style = \"font-weight: bold; text-align: right;\">1</td><td style = \"text-align: right;\">6</td><td style = \"text-align: right;\">8</td><td style = \"text-align: right;\">5</td><td style = \"text-align: right;\">9</td><td style = \"text-align: right;\">10</td><td style = \"text-align: right;\">9</td><td style = \"text-align: right;\">5</td><td style = \"text-align: right;\">4</td><td style = \"text-align: right;\">8</td><td style = \"text-align: right;\">9</td><td style = \"text-align: right;\">6</td><td style = \"text-align: right;\">4</td><td style = \"text-align: right;\">1</td><td style = \"text-align: right;\">7</td><td style = \"text-align: right;\">4</td><td style = \"text-align: right;\">7</td><td style = \"text-align: right;\">1</td><td style = \"text-align: right;\">10</td><td style = \"text-align: right;\">3</td><td style = \"text-align: right;\">7</td><td style = \"text-align: right;\">5</td><td style = \"text-align: right;\">2</td><td style = \"text-align: right;\">3</td><td style = \"text-align: right;\">1</td><td style = \"text-align: right;\">7</td><td style = \"text-align: right;\">4</td><td style = \"text-align: right;\">4</td><td style = \"text-align: right;\">6</td><td style = \"text-align: right;\">8</td><td style = \"text-align: right;\">9</td><td style = \"text-align: right;\">8</td><td style = \"text-align: right;\">3</td><td style = \"text-align: right;\">1</td><td style = \"text-align: right;\">4</td><td style = \"text-align: right;\">9</td><td style = \"text-align: right;\">3</td><td style = \"text-align: right;\">7</td><td style = \"text-align: right;\">2</td><td style = \"text-align: right;\">6</td><td style = \"text-align: right;\">4</td><td style = \"text-align: right;\">1</td><td style = \"text-align: right;\">10</td><td style = \"text-align: right;\">3</td><td style = \"text-align: right;\">10</td><td style = \"text-align: right;\">1</td><td style = \"text-align: right;\">8</td><td style = \"text-align: right;\">3</td><td style = \"text-align: right;\">3</td><td style = \"text-align: right;\">5</td><td style = \"text-align: right;\">5</td><td style = \"text-align: right;\">10</td><td style = \"text-align: right;\">5</td><td style = \"text-align: right;\">9</td><td style = \"text-align: right;\">5</td><td style = \"text-align: right;\">3</td><td style = \"text-align: right;\">6</td><td style = \"text-align: right;\">9</td><td style = \"text-align: right;\">10</td><td style = \"text-align: right;\">1</td><td style = \"text-align: right;\">7</td><td style = \"text-align: right;\">3</td><td style = \"text-align: right;\">1</td><td style = \"text-align: right;\">8</td><td style = \"text-align: right;\">3</td><td style = \"text-align: right;\">4</td><td style = \"text-align: right;\">3</td><td style = \"text-align: right;\">4</td><td style = \"text-align: right;\">10</td><td style = \"text-align: right;\">3</td><td style = \"text-align: right;\">6</td><td style = \"text-align: right;\">7</td><td style = \"text-align: right;\">5</td><td style = \"text-align: right;\">8</td><td style = \"text-align: right;\">9</td><td style = \"text-align: right;\">7</td><td style = \"text-align: right;\">2</td><td style = \"text-align: right;\">6</td><td style = \"text-align: right;\">10</td><td style = \"text-align: right;\">8</td><td style = \"text-align: right;\">9</td><td style = \"text-align: right;\">2</td><td style = \"text-align: right;\">4</td><td style = \"text-align: right;\">6</td><td style = \"text-align: right;\">10</td><td style = \"text-align: right;\">4</td><td style = \"text-align: right;\">10</td><td style = \"text-align: right;\">9</td><td style = \"text-align: right;\">3</td><td style = \"text-align: right;\">9</td><td style = \"text-align: right;\">7</td><td style = \"text-align: right;\">5</td><td style = \"text-align: right;\">6</td><td style = \"text-align: right;\">4</td><td style = \"text-align: right;\">6</td><td style = \"text-align: right;\">9</td><td style = \"text-align: right;\">9</td><td style = \"text-align: right;\">2</td><td style = \"text-align: right;\">1</td><td style = \"text-align: right;\">9</td><td style = \"text-align: right;\">10</td><td style = \"text-align: right;\">&ctdot;</td></tr><tr><td class = \"rowNumber\" style = \"font-weight: bold; text-align: right;\">2</td><td style = \"text-align: right;\">1</td><td style = \"text-align: right;\">10</td><td style = \"text-align: right;\">7</td><td style = \"text-align: right;\">9</td><td style = \"text-align: right;\">8</td><td style = \"text-align: right;\">8</td><td style = \"text-align: right;\">5</td><td style = \"text-align: right;\">10</td><td style = \"text-align: right;\">2</td><td style = \"text-align: right;\">10</td><td style = \"text-align: right;\">8</td><td style = \"text-align: right;\">4</td><td style = \"text-align: right;\">9</td><td style = \"text-align: right;\">9</td><td style = \"text-align: right;\">7</td><td style = \"text-align: right;\">6</td><td style = \"text-align: right;\">6</td><td style = \"text-align: right;\">2</td><td style = \"text-align: right;\">10</td><td style = \"text-align: right;\">9</td><td style = \"text-align: right;\">2</td><td style = \"text-align: right;\">3</td><td style = \"text-align: right;\">2</td><td style = \"text-align: right;\">2</td><td style = \"text-align: right;\">9</td><td style = \"text-align: right;\">7</td><td style = \"text-align: right;\">1</td><td style = \"text-align: right;\">5</td><td style = \"text-align: right;\">2</td><td style = \"text-align: right;\">8</td><td style = \"text-align: right;\">6</td><td style = \"text-align: right;\">3</td><td style = \"text-align: right;\">6</td><td style = \"text-align: right;\">2</td><td style = \"text-align: right;\">7</td><td style = \"text-align: right;\">9</td><td style = \"text-align: right;\">7</td><td style = \"text-align: right;\">10</td><td style = \"text-align: right;\">4</td><td style = \"text-align: right;\">7</td><td style = \"text-align: right;\">6</td><td style = \"text-align: right;\">1</td><td style = \"text-align: right;\">2</td><td style = \"text-align: right;\">2</td><td style = \"text-align: right;\">9</td><td style = \"text-align: right;\">2</td><td style = \"text-align: right;\">10</td><td style = \"text-align: right;\">10</td><td style = \"text-align: right;\">4</td><td style = \"text-align: right;\">10</td><td style = \"text-align: right;\">1</td><td style = \"text-align: right;\">5</td><td style = \"text-align: right;\">6</td><td style = \"text-align: right;\">7</td><td style = \"text-align: right;\">6</td><td style = \"text-align: right;\">4</td><td style = \"text-align: right;\">7</td><td style = \"text-align: right;\">6</td><td style = \"text-align: right;\">6</td><td style = \"text-align: right;\">5</td><td style = \"text-align: right;\">4</td><td style = \"text-align: right;\">10</td><td style = \"text-align: right;\">10</td><td style = \"text-align: right;\">8</td><td style = \"text-align: right;\">3</td><td style = \"text-align: right;\">1</td><td style = \"text-align: right;\">5</td><td style = \"text-align: right;\">4</td><td style = \"text-align: right;\">3</td><td style = \"text-align: right;\">6</td><td style = \"text-align: right;\">3</td><td style = \"text-align: right;\">7</td><td style = \"text-align: right;\">10</td><td style = \"text-align: right;\">9</td><td style = \"text-align: right;\">2</td><td style = \"text-align: right;\">1</td><td style = \"text-align: right;\">10</td><td style = \"text-align: right;\">6</td><td style = \"text-align: right;\">1</td><td style = \"text-align: right;\">8</td><td style = \"text-align: right;\">5</td><td style = \"text-align: right;\">3</td><td style = \"text-align: right;\">4</td><td style = \"text-align: right;\">8</td><td style = \"text-align: right;\">9</td><td style = \"text-align: right;\">9</td><td style = \"text-align: right;\">9</td><td style = \"text-align: right;\">2</td><td style = \"text-align: right;\">4</td><td style = \"text-align: right;\">3</td><td style = \"text-align: right;\">9</td><td style = \"text-align: right;\">8</td><td style = \"text-align: right;\">5</td><td style = \"text-align: right;\">3</td><td style = \"text-align: right;\">1</td><td style = \"text-align: right;\">3</td><td style = \"text-align: right;\">10</td><td style = \"text-align: right;\">6</td><td style = \"text-align: right;\">8</td><td style = \"text-align: right;\">2</td><td style = \"text-align: right;\">&ctdot;</td></tr><tr><td class = \"rowNumber\" style = \"font-weight: bold; text-align: right;\">3</td><td style = \"text-align: right;\">5</td><td style = \"text-align: right;\">7</td><td style = \"text-align: right;\">7</td><td style = \"text-align: right;\">1</td><td style = \"text-align: right;\">6</td><td style = \"text-align: right;\">2</td><td style = \"text-align: right;\">6</td><td style = \"text-align: right;\">1</td><td style = \"text-align: right;\">9</td><td style = \"text-align: right;\">9</td><td style = \"text-align: right;\">5</td><td style = \"text-align: right;\">1</td><td style = \"text-align: right;\">9</td><td style = \"text-align: right;\">3</td><td style = \"text-align: right;\">3</td><td style = \"text-align: right;\">5</td><td style = \"text-align: right;\">2</td><td style = \"text-align: right;\">1</td><td style = \"text-align: right;\">1</td><td style = \"text-align: right;\">4</td><td style = \"text-align: right;\">9</td><td style = \"text-align: right;\">7</td><td style = \"text-align: right;\">10</td><td style = \"text-align: right;\">5</td><td style = \"text-align: right;\">7</td><td style = \"text-align: right;\">7</td><td style = \"text-align: right;\">6</td><td style = \"text-align: right;\">2</td><td style = \"text-align: right;\">5</td><td style = \"text-align: right;\">2</td><td style = \"text-align: right;\">4</td><td style = \"text-align: right;\">2</td><td style = \"text-align: right;\">9</td><td style = \"text-align: right;\">9</td><td style = \"text-align: right;\">8</td><td style = \"text-align: right;\">8</td><td style = \"text-align: right;\">4</td><td style = \"text-align: right;\">7</td><td style = \"text-align: right;\">7</td><td style = \"text-align: right;\">3</td><td style = \"text-align: right;\">4</td><td style = \"text-align: right;\">1</td><td style = \"text-align: right;\">4</td><td style = \"text-align: right;\">6</td><td style = \"text-align: right;\">9</td><td style = \"text-align: right;\">9</td><td style = \"text-align: right;\">5</td><td style = \"text-align: right;\">9</td><td style = \"text-align: right;\">7</td><td style = \"text-align: right;\">3</td><td style = \"text-align: right;\">5</td><td style = \"text-align: right;\">2</td><td style = \"text-align: right;\">4</td><td style = \"text-align: right;\">1</td><td style = \"text-align: right;\">3</td><td style = \"text-align: right;\">8</td><td style = \"text-align: right;\">5</td><td style = \"text-align: right;\">8</td><td style = \"text-align: right;\">3</td><td style = \"text-align: right;\">2</td><td style = \"text-align: right;\">4</td><td style = \"text-align: right;\">10</td><td style = \"text-align: right;\">7</td><td style = \"text-align: right;\">1</td><td style = \"text-align: right;\">9</td><td style = \"text-align: right;\">7</td><td style = \"text-align: right;\">4</td><td style = \"text-align: right;\">4</td><td style = \"text-align: right;\">10</td><td style = \"text-align: right;\">5</td><td style = \"text-align: right;\">2</td><td style = \"text-align: right;\">2</td><td style = \"text-align: right;\">6</td><td style = \"text-align: right;\">7</td><td style = \"text-align: right;\">7</td><td style = \"text-align: right;\">9</td><td style = \"text-align: right;\">3</td><td style = \"text-align: right;\">3</td><td style = \"text-align: right;\">8</td><td style = \"text-align: right;\">8</td><td style = \"text-align: right;\">8</td><td style = \"text-align: right;\">9</td><td style = \"text-align: right;\">8</td><td style = \"text-align: right;\">6</td><td style = \"text-align: right;\">6</td><td style = \"text-align: right;\">8</td><td style = \"text-align: right;\">8</td><td style = \"text-align: right;\">3</td><td style = \"text-align: right;\">4</td><td style = \"text-align: right;\">10</td><td style = \"text-align: right;\">10</td><td style = \"text-align: right;\">2</td><td style = \"text-align: right;\">4</td><td style = \"text-align: right;\">9</td><td style = \"text-align: right;\">6</td><td style = \"text-align: right;\">9</td><td style = \"text-align: right;\">9</td><td style = \"text-align: right;\">5</td><td style = \"text-align: right;\">4</td><td style = \"text-align: right;\">4</td><td style = \"text-align: right;\">&ctdot;</td></tr><tr><td class = \"rowNumber\" style = \"font-weight: bold; text-align: right;\">4</td><td style = \"text-align: right;\">1</td><td style = \"text-align: right;\">7</td><td style = \"text-align: right;\">4</td><td style = \"text-align: right;\">10</td><td style = \"text-align: right;\">8</td><td style = \"text-align: right;\">5</td><td style = \"text-align: right;\">1</td><td style = \"text-align: right;\">3</td><td style = \"text-align: right;\">8</td><td style = \"text-align: right;\">1</td><td style = \"text-align: right;\">5</td><td style = \"text-align: right;\">1</td><td style = \"text-align: right;\">1</td><td style = \"text-align: right;\">8</td><td style = \"text-align: right;\">7</td><td style = \"text-align: right;\">3</td><td style = \"text-align: right;\">5</td><td style = \"text-align: right;\">8</td><td style = \"text-align: right;\">8</td><td style = \"text-align: right;\">6</td><td style = \"text-align: right;\">2</td><td style = \"text-align: right;\">3</td><td style = \"text-align: right;\">9</td><td style = \"text-align: right;\">9</td><td style = \"text-align: right;\">8</td><td style = \"text-align: right;\">7</td><td style = \"text-align: right;\">8</td><td style = \"text-align: right;\">6</td><td style = \"text-align: right;\">1</td><td style = \"text-align: right;\">9</td><td style = \"text-align: right;\">3</td><td style = \"text-align: right;\">6</td><td style = \"text-align: right;\">2</td><td style = \"text-align: right;\">1</td><td style = \"text-align: right;\">8</td><td style = \"text-align: right;\">3</td><td style = \"text-align: right;\">1</td><td style = \"text-align: right;\">4</td><td style = \"text-align: right;\">6</td><td style = \"text-align: right;\">10</td><td style = \"text-align: right;\">10</td><td style = \"text-align: right;\">4</td><td style = \"text-align: right;\">2</td><td style = \"text-align: right;\">9</td><td style = \"text-align: right;\">9</td><td style = \"text-align: right;\">1</td><td style = \"text-align: right;\">2</td><td style = \"text-align: right;\">7</td><td style = \"text-align: right;\">7</td><td style = \"text-align: right;\">5</td><td style = \"text-align: right;\">5</td><td style = \"text-align: right;\">10</td><td style = \"text-align: right;\">4</td><td style = \"text-align: right;\">3</td><td style = \"text-align: right;\">8</td><td style = \"text-align: right;\">6</td><td style = \"text-align: right;\">7</td><td style = \"text-align: right;\">4</td><td style = \"text-align: right;\">2</td><td style = \"text-align: right;\">2</td><td style = \"text-align: right;\">4</td><td style = \"text-align: right;\">8</td><td style = \"text-align: right;\">9</td><td style = \"text-align: right;\">6</td><td style = \"text-align: right;\">1</td><td style = \"text-align: right;\">10</td><td style = \"text-align: right;\">3</td><td style = \"text-align: right;\">7</td><td style = \"text-align: right;\">6</td><td style = \"text-align: right;\">2</td><td style = \"text-align: right;\">6</td><td style = \"text-align: right;\">6</td><td style = \"text-align: right;\">8</td><td style = \"text-align: right;\">2</td><td style = \"text-align: right;\">9</td><td style = \"text-align: right;\">5</td><td style = \"text-align: right;\">2</td><td style = \"text-align: right;\">5</td><td style = \"text-align: right;\">4</td><td style = \"text-align: right;\">10</td><td style = \"text-align: right;\">2</td><td style = \"text-align: right;\">3</td><td style = \"text-align: right;\">2</td><td style = \"text-align: right;\">4</td><td style = \"text-align: right;\">9</td><td style = \"text-align: right;\">3</td><td style = \"text-align: right;\">2</td><td style = \"text-align: right;\">3</td><td style = \"text-align: right;\">4</td><td style = \"text-align: right;\">5</td><td style = \"text-align: right;\">8</td><td style = \"text-align: right;\">9</td><td style = \"text-align: right;\">10</td><td style = \"text-align: right;\">5</td><td style = \"text-align: right;\">9</td><td style = \"text-align: right;\">10</td><td style = \"text-align: right;\">5</td><td style = \"text-align: right;\">1</td><td style = \"text-align: right;\">6</td><td style = \"text-align: right;\">10</td><td style = \"text-align: right;\">&ctdot;</td></tr><tr><td class = \"rowNumber\" style = \"font-weight: bold; text-align: right;\">5</td><td style = \"text-align: right;\">5</td><td style = \"text-align: right;\">4</td><td style = \"text-align: right;\">1</td><td style = \"text-align: right;\">9</td><td style = \"text-align: right;\">3</td><td style = \"text-align: right;\">5</td><td style = \"text-align: right;\">10</td><td style = \"text-align: right;\">10</td><td style = \"text-align: right;\">5</td><td style = \"text-align: right;\">5</td><td style = \"text-align: right;\">6</td><td style = \"text-align: right;\">10</td><td style = \"text-align: right;\">4</td><td style = \"text-align: right;\">2</td><td style = \"text-align: right;\">9</td><td style = \"text-align: right;\">4</td><td style = \"text-align: right;\">4</td><td style = \"text-align: right;\">1</td><td style = \"text-align: right;\">5</td><td style = \"text-align: right;\">10</td><td style = \"text-align: right;\">4</td><td style = \"text-align: right;\">8</td><td style = \"text-align: right;\">3</td><td style = \"text-align: right;\">6</td><td style = \"text-align: right;\">6</td><td style = \"text-align: right;\">8</td><td style = \"text-align: right;\">1</td><td style = \"text-align: right;\">3</td><td style = \"text-align: right;\">10</td><td style = \"text-align: right;\">8</td><td style = \"text-align: right;\">3</td><td style = \"text-align: right;\">2</td><td style = \"text-align: right;\">8</td><td style = \"text-align: right;\">10</td><td style = \"text-align: right;\">10</td><td style = \"text-align: right;\">2</td><td style = \"text-align: right;\">8</td><td style = \"text-align: right;\">2</td><td style = \"text-align: right;\">1</td><td style = \"text-align: right;\">9</td><td style = \"text-align: right;\">10</td><td style = \"text-align: right;\">3</td><td style = \"text-align: right;\">10</td><td style = \"text-align: right;\">7</td><td style = \"text-align: right;\">3</td><td style = \"text-align: right;\">1</td><td style = \"text-align: right;\">7</td><td style = \"text-align: right;\">7</td><td style = \"text-align: right;\">2</td><td style = \"text-align: right;\">6</td><td style = \"text-align: right;\">2</td><td style = \"text-align: right;\">6</td><td style = \"text-align: right;\">10</td><td style = \"text-align: right;\">8</td><td style = \"text-align: right;\">2</td><td style = \"text-align: right;\">9</td><td style = \"text-align: right;\">7</td><td style = \"text-align: right;\">4</td><td style = \"text-align: right;\">7</td><td style = \"text-align: right;\">3</td><td style = \"text-align: right;\">8</td><td style = \"text-align: right;\">5</td><td style = \"text-align: right;\">4</td><td style = \"text-align: right;\">9</td><td style = \"text-align: right;\">1</td><td style = \"text-align: right;\">10</td><td style = \"text-align: right;\">6</td><td style = \"text-align: right;\">6</td><td style = \"text-align: right;\">2</td><td style = \"text-align: right;\">7</td><td style = \"text-align: right;\">5</td><td style = \"text-align: right;\">7</td><td style = \"text-align: right;\">8</td><td style = \"text-align: right;\">7</td><td style = \"text-align: right;\">3</td><td style = \"text-align: right;\">10</td><td style = \"text-align: right;\">4</td><td style = \"text-align: right;\">5</td><td style = \"text-align: right;\">6</td><td style = \"text-align: right;\">4</td><td style = \"text-align: right;\">9</td><td style = \"text-align: right;\">1</td><td style = \"text-align: right;\">7</td><td style = \"text-align: right;\">9</td><td style = \"text-align: right;\">7</td><td style = \"text-align: right;\">7</td><td style = \"text-align: right;\">8</td><td style = \"text-align: right;\">7</td><td style = \"text-align: right;\">10</td><td style = \"text-align: right;\">1</td><td style = \"text-align: right;\">2</td><td style = \"text-align: right;\">2</td><td style = \"text-align: right;\">5</td><td style = \"text-align: right;\">5</td><td style = \"text-align: right;\">10</td><td style = \"text-align: right;\">10</td><td style = \"text-align: right;\">2</td><td style = \"text-align: right;\">3</td><td style = \"text-align: right;\">8</td><td style = \"text-align: right;\">10</td><td style = \"text-align: right;\">&ctdot;</td></tr><tr><td class = \"rowNumber\" style = \"font-weight: bold; text-align: right;\">6</td><td style = \"text-align: right;\">2</td><td style = \"text-align: right;\">1</td><td style = \"text-align: right;\">4</td><td style = \"text-align: right;\">8</td><td style = \"text-align: right;\">5</td><td style = \"text-align: right;\">5</td><td style = \"text-align: right;\">6</td><td style = \"text-align: right;\">2</td><td style = \"text-align: right;\">4</td><td style = \"text-align: right;\">2</td><td style = \"text-align: right;\">2</td><td style = \"text-align: right;\">1</td><td style = \"text-align: right;\">3</td><td style = \"text-align: right;\">10</td><td style = \"text-align: right;\">4</td><td style = \"text-align: right;\">3</td><td style = \"text-align: right;\">1</td><td style = \"text-align: right;\">4</td><td style = \"text-align: right;\">6</td><td style = \"text-align: right;\">8</td><td style = \"text-align: right;\">5</td><td style = \"text-align: right;\">9</td><td style = \"text-align: right;\">6</td><td style = \"text-align: right;\">4</td><td style = \"text-align: right;\">6</td><td style = \"text-align: right;\">9</td><td style = \"text-align: right;\">5</td><td style = \"text-align: right;\">4</td><td style = \"text-align: right;\">2</td><td style = \"text-align: right;\">6</td><td style = \"text-align: right;\">8</td><td style = \"text-align: right;\">10</td><td style = \"text-align: right;\">3</td><td style = \"text-align: right;\">8</td><td style = \"text-align: right;\">7</td><td style = \"text-align: right;\">3</td><td style = \"text-align: right;\">3</td><td style = \"text-align: right;\">3</td><td style = \"text-align: right;\">9</td><td style = \"text-align: right;\">9</td><td style = \"text-align: right;\">5</td><td style = \"text-align: right;\">10</td><td style = \"text-align: right;\">6</td><td style = \"text-align: right;\">10</td><td style = \"text-align: right;\">4</td><td style = \"text-align: right;\">7</td><td style = \"text-align: right;\">4</td><td style = \"text-align: right;\">5</td><td style = \"text-align: right;\">6</td><td style = \"text-align: right;\">6</td><td style = \"text-align: right;\">10</td><td style = \"text-align: right;\">4</td><td style = \"text-align: right;\">9</td><td style = \"text-align: right;\">6</td><td style = \"text-align: right;\">4</td><td style = \"text-align: right;\">6</td><td style = \"text-align: right;\">4</td><td style = \"text-align: right;\">4</td><td style = \"text-align: right;\">2</td><td style = \"text-align: right;\">2</td><td style = \"text-align: right;\">1</td><td style = \"text-align: right;\">10</td><td style = \"text-align: right;\">4</td><td style = \"text-align: right;\">9</td><td style = \"text-align: right;\">2</td><td style = \"text-align: right;\">6</td><td style = \"text-align: right;\">1</td><td style = \"text-align: right;\">5</td><td style = \"text-align: right;\">4</td><td style = \"text-align: right;\">4</td><td style = \"text-align: right;\">9</td><td style = \"text-align: right;\">4</td><td style = \"text-align: right;\">8</td><td style = \"text-align: right;\">4</td><td style = \"text-align: right;\">7</td><td style = \"text-align: right;\">3</td><td style = \"text-align: right;\">9</td><td style = \"text-align: right;\">8</td><td style = \"text-align: right;\">10</td><td style = \"text-align: right;\">10</td><td style = \"text-align: right;\">6</td><td style = \"text-align: right;\">2</td><td style = \"text-align: right;\">7</td><td style = \"text-align: right;\">6</td><td style = \"text-align: right;\">10</td><td style = \"text-align: right;\">4</td><td style = \"text-align: right;\">7</td><td style = \"text-align: right;\">4</td><td style = \"text-align: right;\">7</td><td style = \"text-align: right;\">2</td><td style = \"text-align: right;\">5</td><td style = \"text-align: right;\">6</td><td style = \"text-align: right;\">9</td><td style = \"text-align: right;\">8</td><td style = \"text-align: right;\">4</td><td style = \"text-align: right;\">4</td><td style = \"text-align: right;\">5</td><td style = \"text-align: right;\">7</td><td style = \"text-align: right;\">1</td><td style = \"text-align: right;\">4</td><td style = \"text-align: right;\">&ctdot;</td></tr><tr><td class = \"rowNumber\" style = \"font-weight: bold; text-align: right;\">7</td><td style = \"text-align: right;\">7</td><td style = \"text-align: right;\">8</td><td style = \"text-align: right;\">6</td><td style = \"text-align: right;\">10</td><td style = \"text-align: right;\">6</td><td style = \"text-align: right;\">8</td><td style = \"text-align: right;\">1</td><td style = \"text-align: right;\">9</td><td style = \"text-align: right;\">9</td><td style = \"text-align: right;\">7</td><td style = \"text-align: right;\">3</td><td style = \"text-align: right;\">2</td><td style = \"text-align: right;\">3</td><td style = \"text-align: right;\">4</td><td style = \"text-align: right;\">9</td><td style = \"text-align: right;\">4</td><td style = \"text-align: right;\">1</td><td style = \"text-align: right;\">3</td><td style = \"text-align: right;\">9</td><td style = \"text-align: right;\">5</td><td style = \"text-align: right;\">1</td><td style = \"text-align: right;\">6</td><td style = \"text-align: right;\">3</td><td style = \"text-align: right;\">1</td><td style = \"text-align: right;\">6</td><td style = \"text-align: right;\">5</td><td style = \"text-align: right;\">7</td><td style = \"text-align: right;\">9</td><td style = \"text-align: right;\">8</td><td style = \"text-align: right;\">5</td><td style = \"text-align: right;\">7</td><td style = \"text-align: right;\">4</td><td style = \"text-align: right;\">4</td><td style = \"text-align: right;\">2</td><td style = \"text-align: right;\">1</td><td style = \"text-align: right;\">3</td><td style = \"text-align: right;\">6</td><td style = \"text-align: right;\">3</td><td style = \"text-align: right;\">5</td><td style = \"text-align: right;\">6</td><td style = \"text-align: right;\">3</td><td style = \"text-align: right;\">6</td><td style = \"text-align: right;\">7</td><td style = \"text-align: right;\">8</td><td style = \"text-align: right;\">4</td><td style = \"text-align: right;\">10</td><td style = \"text-align: right;\">5</td><td style = \"text-align: right;\">9</td><td style = \"text-align: right;\">6</td><td style = \"text-align: right;\">5</td><td style = \"text-align: right;\">10</td><td style = \"text-align: right;\">7</td><td style = \"text-align: right;\">10</td><td style = \"text-align: right;\">6</td><td style = \"text-align: right;\">6</td><td style = \"text-align: right;\">8</td><td style = \"text-align: right;\">4</td><td style = \"text-align: right;\">2</td><td style = \"text-align: right;\">9</td><td style = \"text-align: right;\">5</td><td style = \"text-align: right;\">10</td><td style = \"text-align: right;\">2</td><td style = \"text-align: right;\">2</td><td style = \"text-align: right;\">1</td><td style = \"text-align: right;\">4</td><td style = \"text-align: right;\">5</td><td style = \"text-align: right;\">1</td><td style = \"text-align: right;\">10</td><td style = \"text-align: right;\">3</td><td style = \"text-align: right;\">6</td><td style = \"text-align: right;\">5</td><td style = \"text-align: right;\">1</td><td style = \"text-align: right;\">9</td><td style = \"text-align: right;\">9</td><td style = \"text-align: right;\">10</td><td style = \"text-align: right;\">9</td><td style = \"text-align: right;\">3</td><td style = \"text-align: right;\">2</td><td style = \"text-align: right;\">1</td><td style = \"text-align: right;\">5</td><td style = \"text-align: right;\">10</td><td style = \"text-align: right;\">3</td><td style = \"text-align: right;\">8</td><td style = \"text-align: right;\">3</td><td style = \"text-align: right;\">8</td><td style = \"text-align: right;\">6</td><td style = \"text-align: right;\">8</td><td style = \"text-align: right;\">4</td><td style = \"text-align: right;\">6</td><td style = \"text-align: right;\">3</td><td style = \"text-align: right;\">4</td><td style = \"text-align: right;\">10</td><td style = \"text-align: right;\">1</td><td style = \"text-align: right;\">2</td><td style = \"text-align: right;\">3</td><td style = \"text-align: right;\">8</td><td style = \"text-align: right;\">3</td><td style = \"text-align: right;\">4</td><td style = \"text-align: right;\">7</td><td style = \"text-align: right;\">10</td><td style = \"text-align: right;\">&ctdot;</td></tr><tr><td class = \"rowNumber\" style = \"font-weight: bold; text-align: right;\">8</td><td style = \"text-align: right;\">9</td><td style = \"text-align: right;\">4</td><td style = \"text-align: right;\">3</td><td style = \"text-align: right;\">6</td><td style = \"text-align: right;\">1</td><td style = \"text-align: right;\">7</td><td style = \"text-align: right;\">9</td><td style = \"text-align: right;\">3</td><td style = \"text-align: right;\">4</td><td style = \"text-align: right;\">8</td><td style = \"text-align: right;\">7</td><td style = \"text-align: right;\">6</td><td style = \"text-align: right;\">7</td><td style = \"text-align: right;\">9</td><td style = \"text-align: right;\">8</td><td style = \"text-align: right;\">9</td><td style = \"text-align: right;\">3</td><td style = \"text-align: right;\">2</td><td style = \"text-align: right;\">3</td><td style = \"text-align: right;\">6</td><td style = \"text-align: right;\">1</td><td style = \"text-align: right;\">6</td><td style = \"text-align: right;\">1</td><td style = \"text-align: right;\">4</td><td style = \"text-align: right;\">2</td><td style = \"text-align: right;\">1</td><td style = \"text-align: right;\">7</td><td style = \"text-align: right;\">3</td><td style = \"text-align: right;\">2</td><td style = \"text-align: right;\">3</td><td style = \"text-align: right;\">6</td><td style = \"text-align: right;\">6</td><td style = \"text-align: right;\">5</td><td style = \"text-align: right;\">2</td><td style = \"text-align: right;\">3</td><td style = \"text-align: right;\">3</td><td style = \"text-align: right;\">7</td><td style = \"text-align: right;\">1</td><td style = \"text-align: right;\">3</td><td style = \"text-align: right;\">3</td><td style = \"text-align: right;\">2</td><td style = \"text-align: right;\">3</td><td style = \"text-align: right;\">2</td><td style = \"text-align: right;\">5</td><td style = \"text-align: right;\">4</td><td style = \"text-align: right;\">10</td><td style = \"text-align: right;\">1</td><td style = \"text-align: right;\">2</td><td style = \"text-align: right;\">4</td><td style = \"text-align: right;\">7</td><td style = \"text-align: right;\">6</td><td style = \"text-align: right;\">8</td><td style = \"text-align: right;\">6</td><td style = \"text-align: right;\">9</td><td style = \"text-align: right;\">9</td><td style = \"text-align: right;\">10</td><td style = \"text-align: right;\">2</td><td style = \"text-align: right;\">9</td><td style = \"text-align: right;\">1</td><td style = \"text-align: right;\">8</td><td style = \"text-align: right;\">1</td><td style = \"text-align: right;\">9</td><td style = \"text-align: right;\">7</td><td style = \"text-align: right;\">1</td><td style = \"text-align: right;\">4</td><td style = \"text-align: right;\">10</td><td style = \"text-align: right;\">5</td><td style = \"text-align: right;\">8</td><td style = \"text-align: right;\">9</td><td style = \"text-align: right;\">8</td><td style = \"text-align: right;\">5</td><td style = \"text-align: right;\">1</td><td style = \"text-align: right;\">3</td><td style = \"text-align: right;\">9</td><td style = \"text-align: right;\">9</td><td style = \"text-align: right;\">3</td><td style = \"text-align: right;\">8</td><td style = \"text-align: right;\">7</td><td style = \"text-align: right;\">1</td><td style = \"text-align: right;\">4</td><td style = \"text-align: right;\">8</td><td style = \"text-align: right;\">3</td><td style = \"text-align: right;\">3</td><td style = \"text-align: right;\">4</td><td style = \"text-align: right;\">6</td><td style = \"text-align: right;\">5</td><td style = \"text-align: right;\">5</td><td style = \"text-align: right;\">2</td><td style = \"text-align: right;\">2</td><td style = \"text-align: right;\">1</td><td style = \"text-align: right;\">4</td><td style = \"text-align: right;\">9</td><td style = \"text-align: right;\">10</td><td style = \"text-align: right;\">6</td><td style = \"text-align: right;\">6</td><td style = \"text-align: right;\">1</td><td style = \"text-align: right;\">3</td><td style = \"text-align: right;\">7</td><td style = \"text-align: right;\">2</td><td style = \"text-align: right;\">10</td><td style = \"text-align: right;\">&ctdot;</td></tr><tr><td class = \"rowNumber\" style = \"font-weight: bold; text-align: right;\">9</td><td style = \"text-align: right;\">1</td><td style = \"text-align: right;\">4</td><td style = \"text-align: right;\">6</td><td style = \"text-align: right;\">4</td><td style = \"text-align: right;\">10</td><td style = \"text-align: right;\">2</td><td style = \"text-align: right;\">1</td><td style = \"text-align: right;\">5</td><td style = \"text-align: right;\">6</td><td style = \"text-align: right;\">9</td><td style = \"text-align: right;\">4</td><td style = \"text-align: right;\">9</td><td style = \"text-align: right;\">6</td><td style = \"text-align: right;\">8</td><td style = \"text-align: right;\">6</td><td style = \"text-align: right;\">8</td><td style = \"text-align: right;\">4</td><td style = \"text-align: right;\">2</td><td style = \"text-align: right;\">3</td><td style = \"text-align: right;\">7</td><td style = \"text-align: right;\">2</td><td style = \"text-align: right;\">3</td><td style = \"text-align: right;\">6</td><td style = \"text-align: right;\">6</td><td style = \"text-align: right;\">9</td><td style = \"text-align: right;\">7</td><td style = \"text-align: right;\">6</td><td style = \"text-align: right;\">3</td><td style = \"text-align: right;\">6</td><td style = \"text-align: right;\">3</td><td style = \"text-align: right;\">7</td><td style = \"text-align: right;\">9</td><td style = \"text-align: right;\">7</td><td style = \"text-align: right;\">5</td><td style = \"text-align: right;\">7</td><td style = \"text-align: right;\">3</td><td style = \"text-align: right;\">6</td><td style = \"text-align: right;\">9</td><td style = \"text-align: right;\">9</td><td style = \"text-align: right;\">10</td><td style = \"text-align: right;\">1</td><td style = \"text-align: right;\">3</td><td style = \"text-align: right;\">5</td><td style = \"text-align: right;\">2</td><td style = \"text-align: right;\">6</td><td style = \"text-align: right;\">4</td><td style = \"text-align: right;\">2</td><td style = \"text-align: right;\">8</td><td style = \"text-align: right;\">2</td><td style = \"text-align: right;\">6</td><td style = \"text-align: right;\">10</td><td style = \"text-align: right;\">8</td><td style = \"text-align: right;\">1</td><td style = \"text-align: right;\">9</td><td style = \"text-align: right;\">2</td><td style = \"text-align: right;\">8</td><td style = \"text-align: right;\">9</td><td style = \"text-align: right;\">5</td><td style = \"text-align: right;\">10</td><td style = \"text-align: right;\">1</td><td style = \"text-align: right;\">8</td><td style = \"text-align: right;\">9</td><td style = \"text-align: right;\">7</td><td style = \"text-align: right;\">1</td><td style = \"text-align: right;\">5</td><td style = \"text-align: right;\">9</td><td style = \"text-align: right;\">6</td><td style = \"text-align: right;\">5</td><td style = \"text-align: right;\">4</td><td style = \"text-align: right;\">5</td><td style = \"text-align: right;\">9</td><td style = \"text-align: right;\">3</td><td style = \"text-align: right;\">6</td><td style = \"text-align: right;\">4</td><td style = \"text-align: right;\">4</td><td style = \"text-align: right;\">7</td><td style = \"text-align: right;\">1</td><td style = \"text-align: right;\">1</td><td style = \"text-align: right;\">6</td><td style = \"text-align: right;\">1</td><td style = \"text-align: right;\">2</td><td style = \"text-align: right;\">1</td><td style = \"text-align: right;\">1</td><td style = \"text-align: right;\">2</td><td style = \"text-align: right;\">1</td><td style = \"text-align: right;\">8</td><td style = \"text-align: right;\">9</td><td style = \"text-align: right;\">8</td><td style = \"text-align: right;\">8</td><td style = \"text-align: right;\">9</td><td style = \"text-align: right;\">8</td><td style = \"text-align: right;\">8</td><td style = \"text-align: right;\">2</td><td style = \"text-align: right;\">5</td><td style = \"text-align: right;\">2</td><td style = \"text-align: right;\">4</td><td style = \"text-align: right;\">2</td><td style = \"text-align: right;\">5</td><td style = \"text-align: right;\">2</td><td style = \"text-align: right;\">3</td><td style = \"text-align: right;\">&ctdot;</td></tr><tr><td class = \"rowNumber\" style = \"font-weight: bold; text-align: right;\">10</td><td style = \"text-align: right;\">9</td><td style = \"text-align: right;\">5</td><td style = \"text-align: right;\">5</td><td style = \"text-align: right;\">3</td><td style = \"text-align: right;\">2</td><td style = \"text-align: right;\">5</td><td style = \"text-align: right;\">3</td><td style = \"text-align: right;\">1</td><td style = \"text-align: right;\">4</td><td style = \"text-align: right;\">8</td><td style = \"text-align: right;\">6</td><td style = \"text-align: right;\">5</td><td style = \"text-align: right;\">9</td><td style = \"text-align: right;\">3</td><td style = \"text-align: right;\">5</td><td style = \"text-align: right;\">9</td><td style = \"text-align: right;\">5</td><td style = \"text-align: right;\">8</td><td style = \"text-align: right;\">7</td><td style = \"text-align: right;\">10</td><td style = \"text-align: right;\">8</td><td style = \"text-align: right;\">6</td><td style = \"text-align: right;\">5</td><td style = \"text-align: right;\">6</td><td style = \"text-align: right;\">7</td><td style = \"text-align: right;\">10</td><td style = \"text-align: right;\">10</td><td style = \"text-align: right;\">2</td><td style = \"text-align: right;\">8</td><td style = \"text-align: right;\">5</td><td style = \"text-align: right;\">2</td><td style = \"text-align: right;\">6</td><td style = \"text-align: right;\">6</td><td style = \"text-align: right;\">3</td><td style = \"text-align: right;\">3</td><td style = \"text-align: right;\">9</td><td style = \"text-align: right;\">4</td><td style = \"text-align: right;\">9</td><td style = \"text-align: right;\">4</td><td style = \"text-align: right;\">7</td><td style = \"text-align: right;\">7</td><td style = \"text-align: right;\">7</td><td style = \"text-align: right;\">4</td><td style = \"text-align: right;\">6</td><td style = \"text-align: right;\">1</td><td style = \"text-align: right;\">8</td><td style = \"text-align: right;\">3</td><td style = \"text-align: right;\">1</td><td style = \"text-align: right;\">7</td><td style = \"text-align: right;\">9</td><td style = \"text-align: right;\">10</td><td style = \"text-align: right;\">2</td><td style = \"text-align: right;\">10</td><td style = \"text-align: right;\">2</td><td style = \"text-align: right;\">5</td><td style = \"text-align: right;\">7</td><td style = \"text-align: right;\">9</td><td style = \"text-align: right;\">3</td><td style = \"text-align: right;\">1</td><td style = \"text-align: right;\">2</td><td style = \"text-align: right;\">4</td><td style = \"text-align: right;\">6</td><td style = \"text-align: right;\">2</td><td style = \"text-align: right;\">4</td><td style = \"text-align: right;\">9</td><td style = \"text-align: right;\">7</td><td style = \"text-align: right;\">1</td><td style = \"text-align: right;\">2</td><td style = \"text-align: right;\">2</td><td style = \"text-align: right;\">10</td><td style = \"text-align: right;\">8</td><td style = \"text-align: right;\">1</td><td style = \"text-align: right;\">4</td><td style = \"text-align: right;\">2</td><td style = \"text-align: right;\">8</td><td style = \"text-align: right;\">2</td><td style = \"text-align: right;\">9</td><td style = \"text-align: right;\">2</td><td style = \"text-align: right;\">9</td><td style = \"text-align: right;\">9</td><td style = \"text-align: right;\">3</td><td style = \"text-align: right;\">3</td><td style = \"text-align: right;\">3</td><td style = \"text-align: right;\">8</td><td style = \"text-align: right;\">1</td><td style = \"text-align: right;\">7</td><td style = \"text-align: right;\">8</td><td style = \"text-align: right;\">3</td><td style = \"text-align: right;\">9</td><td style = \"text-align: right;\">3</td><td style = \"text-align: right;\">10</td><td style = \"text-align: right;\">7</td><td style = \"text-align: right;\">7</td><td style = \"text-align: right;\">8</td><td style = \"text-align: right;\">1</td><td style = \"text-align: right;\">8</td><td style = \"text-align: right;\">7</td><td style = \"text-align: right;\">8</td><td style = \"text-align: right;\">9</td><td style = \"text-align: right;\">4</td><td style = \"text-align: right;\">&ctdot;</td></tr></tbody></table></div>"
      ],
      "text/latex": [
       "\\begin{tabular}{r|ccccccccccccc}\n",
       "\t& x1 & x2 & x3 & x4 & x5 & x6 & x7 & x8 & x9 & x10 & x11 & x12 & \\\\\n",
       "\t\\hline\n",
       "\t& Int64 & Int64 & Int64 & Int64 & Int64 & Int64 & Int64 & Int64 & Int64 & Int64 & Int64 & Int64 & \\\\\n",
       "\t\\hline\n",
       "\t1 & 6 & 8 & 5 & 9 & 10 & 9 & 5 & 4 & 8 & 9 & 6 & 4 & $\\dots$ \\\\\n",
       "\t2 & 1 & 10 & 7 & 9 & 8 & 8 & 5 & 10 & 2 & 10 & 8 & 4 & $\\dots$ \\\\\n",
       "\t3 & 5 & 7 & 7 & 1 & 6 & 2 & 6 & 1 & 9 & 9 & 5 & 1 & $\\dots$ \\\\\n",
       "\t4 & 1 & 7 & 4 & 10 & 8 & 5 & 1 & 3 & 8 & 1 & 5 & 1 & $\\dots$ \\\\\n",
       "\t5 & 5 & 4 & 1 & 9 & 3 & 5 & 10 & 10 & 5 & 5 & 6 & 10 & $\\dots$ \\\\\n",
       "\t6 & 2 & 1 & 4 & 8 & 5 & 5 & 6 & 2 & 4 & 2 & 2 & 1 & $\\dots$ \\\\\n",
       "\t7 & 7 & 8 & 6 & 10 & 6 & 8 & 1 & 9 & 9 & 7 & 3 & 2 & $\\dots$ \\\\\n",
       "\t8 & 9 & 4 & 3 & 6 & 1 & 7 & 9 & 3 & 4 & 8 & 7 & 6 & $\\dots$ \\\\\n",
       "\t9 & 1 & 4 & 6 & 4 & 10 & 2 & 1 & 5 & 6 & 9 & 4 & 9 & $\\dots$ \\\\\n",
       "\t10 & 9 & 5 & 5 & 3 & 2 & 5 & 3 & 1 & 4 & 8 & 6 & 5 & $\\dots$ \\\\\n",
       "\\end{tabular}\n"
      ],
      "text/plain": [
       "\u001b[1m10×1000 DataFrame\u001b[0m\n",
       "\u001b[1m Row \u001b[0m│\u001b[1m x1    \u001b[0m\u001b[1m x2    \u001b[0m\u001b[1m x3    \u001b[0m\u001b[1m x4    \u001b[0m\u001b[1m x5    \u001b[0m\u001b[1m x6    \u001b[0m\u001b[1m x7    \u001b[0m\u001b[1m x8    \u001b[0m\u001b[1m x9    \u001b[0m\u001b[1m x10   \u001b[0m\u001b[1m x\u001b[0m ⋯\n",
       "     │\u001b[90m Int64 \u001b[0m\u001b[90m Int64 \u001b[0m\u001b[90m Int64 \u001b[0m\u001b[90m Int64 \u001b[0m\u001b[90m Int64 \u001b[0m\u001b[90m Int64 \u001b[0m\u001b[90m Int64 \u001b[0m\u001b[90m Int64 \u001b[0m\u001b[90m Int64 \u001b[0m\u001b[90m Int64 \u001b[0m\u001b[90m I\u001b[0m ⋯\n",
       "─────┼──────────────────────────────────────────────────────────────────────────\n",
       "   1 │     6      8      5      9     10      9      5      4      8      9    ⋯\n",
       "   2 │     1     10      7      9      8      8      5     10      2     10\n",
       "   3 │     5      7      7      1      6      2      6      1      9      9\n",
       "   4 │     1      7      4     10      8      5      1      3      8      1\n",
       "   5 │     5      4      1      9      3      5     10     10      5      5    ⋯\n",
       "   6 │     2      1      4      8      5      5      6      2      4      2\n",
       "   7 │     7      8      6     10      6      8      1      9      9      7\n",
       "   8 │     9      4      3      6      1      7      9      3      4      8\n",
       "   9 │     1      4      6      4     10      2      1      5      6      9    ⋯\n",
       "  10 │     9      5      5      3      2      5      3      1      4      8\n",
       "\u001b[36m                                                             990 columns omitted\u001b[0m"
      ]
     },
     "execution_count": 46,
     "metadata": {},
     "output_type": "execute_result"
    }
   ],
   "source": [
    "df2 = CSV.File(transcode(GzipDecompressor, Mmap.mmap(\"df_compress_test.csv.gz\"))) |> DataFrame"
   ]
  },
  {
   "cell_type": "code",
   "execution_count": 47,
   "metadata": {},
   "outputs": [
    {
     "data": {
      "text/plain": [
       "true"
      ]
     },
     "execution_count": 47,
     "metadata": {},
     "output_type": "execute_result"
    }
   ],
   "source": [
    "df == df2"
   ]
  },
  {
   "cell_type": "markdown",
   "metadata": {},
   "source": [
    "### Using zip files"
   ]
  },
  {
   "cell_type": "markdown",
   "metadata": {},
   "source": [
    "Sometimes you may have files compressed inside a zip file.\n",
    "\n",
    "In such a situation you may use [ZipFile.jl](https://github.com/fhs/ZipFile.jl) in conjunction an an appropriate reader to read the files."
   ]
  },
  {
   "cell_type": "markdown",
   "metadata": {},
   "source": [
    "Here we first create a ZIP file and then read back its contents into a `DataFrame`."
   ]
  },
  {
   "cell_type": "code",
   "execution_count": 48,
   "metadata": {},
   "outputs": [
    {
     "data": {
      "text/html": [
       "<div><div style = \"float: left;\"><span>3×4 DataFrame</span></div><div style = \"clear: both;\"></div></div><div class = \"data-frame\" style = \"overflow-x: scroll;\"><table class = \"data-frame\" style = \"margin-bottom: 6px;\"><thead><tr class = \"header\"><th class = \"rowNumber\" style = \"font-weight: bold; text-align: right;\">Row</th><th style = \"text-align: left;\">x1</th><th style = \"text-align: left;\">x2</th><th style = \"text-align: left;\">x3</th><th style = \"text-align: left;\">x4</th></tr><tr class = \"subheader headerLastRow\"><th class = \"rowNumber\" style = \"font-weight: bold; text-align: right;\"></th><th title = \"Int64\" style = \"text-align: left;\">Int64</th><th title = \"Int64\" style = \"text-align: left;\">Int64</th><th title = \"Int64\" style = \"text-align: left;\">Int64</th><th title = \"Int64\" style = \"text-align: left;\">Int64</th></tr></thead><tbody><tr><td class = \"rowNumber\" style = \"font-weight: bold; text-align: right;\">1</td><td style = \"text-align: right;\">1</td><td style = \"text-align: right;\">2</td><td style = \"text-align: right;\">9</td><td style = \"text-align: right;\">7</td></tr><tr><td class = \"rowNumber\" style = \"font-weight: bold; text-align: right;\">2</td><td style = \"text-align: right;\">8</td><td style = \"text-align: right;\">10</td><td style = \"text-align: right;\">9</td><td style = \"text-align: right;\">10</td></tr><tr><td class = \"rowNumber\" style = \"font-weight: bold; text-align: right;\">3</td><td style = \"text-align: right;\">4</td><td style = \"text-align: right;\">8</td><td style = \"text-align: right;\">6</td><td style = \"text-align: right;\">3</td></tr></tbody></table></div>"
      ],
      "text/latex": [
       "\\begin{tabular}{r|cccc}\n",
       "\t& x1 & x2 & x3 & x4\\\\\n",
       "\t\\hline\n",
       "\t& Int64 & Int64 & Int64 & Int64\\\\\n",
       "\t\\hline\n",
       "\t1 & 1 & 2 & 9 & 7 \\\\\n",
       "\t2 & 8 & 10 & 9 & 10 \\\\\n",
       "\t3 & 4 & 8 & 6 & 3 \\\\\n",
       "\\end{tabular}\n"
      ],
      "text/plain": [
       "\u001b[1m3×4 DataFrame\u001b[0m\n",
       "\u001b[1m Row \u001b[0m│\u001b[1m x1    \u001b[0m\u001b[1m x2    \u001b[0m\u001b[1m x3    \u001b[0m\u001b[1m x4    \u001b[0m\n",
       "     │\u001b[90m Int64 \u001b[0m\u001b[90m Int64 \u001b[0m\u001b[90m Int64 \u001b[0m\u001b[90m Int64 \u001b[0m\n",
       "─────┼────────────────────────────\n",
       "   1 │     1      2      9      7\n",
       "   2 │     8     10      9     10\n",
       "   3 │     4      8      6      3"
      ]
     },
     "execution_count": 48,
     "metadata": {},
     "output_type": "execute_result"
    }
   ],
   "source": [
    "df1 = DataFrame(rand(1:10, 3, 4), :auto)"
   ]
  },
  {
   "cell_type": "code",
   "execution_count": 49,
   "metadata": {},
   "outputs": [
    {
     "data": {
      "text/html": [
       "<div><div style = \"float: left;\"><span>3×4 DataFrame</span></div><div style = \"clear: both;\"></div></div><div class = \"data-frame\" style = \"overflow-x: scroll;\"><table class = \"data-frame\" style = \"margin-bottom: 6px;\"><thead><tr class = \"header\"><th class = \"rowNumber\" style = \"font-weight: bold; text-align: right;\">Row</th><th style = \"text-align: left;\">x1</th><th style = \"text-align: left;\">x2</th><th style = \"text-align: left;\">x3</th><th style = \"text-align: left;\">x4</th></tr><tr class = \"subheader headerLastRow\"><th class = \"rowNumber\" style = \"font-weight: bold; text-align: right;\"></th><th title = \"Int64\" style = \"text-align: left;\">Int64</th><th title = \"Int64\" style = \"text-align: left;\">Int64</th><th title = \"Int64\" style = \"text-align: left;\">Int64</th><th title = \"Int64\" style = \"text-align: left;\">Int64</th></tr></thead><tbody><tr><td class = \"rowNumber\" style = \"font-weight: bold; text-align: right;\">1</td><td style = \"text-align: right;\">5</td><td style = \"text-align: right;\">5</td><td style = \"text-align: right;\">5</td><td style = \"text-align: right;\">7</td></tr><tr><td class = \"rowNumber\" style = \"font-weight: bold; text-align: right;\">2</td><td style = \"text-align: right;\">2</td><td style = \"text-align: right;\">5</td><td style = \"text-align: right;\">2</td><td style = \"text-align: right;\">6</td></tr><tr><td class = \"rowNumber\" style = \"font-weight: bold; text-align: right;\">3</td><td style = \"text-align: right;\">5</td><td style = \"text-align: right;\">9</td><td style = \"text-align: right;\">6</td><td style = \"text-align: right;\">2</td></tr></tbody></table></div>"
      ],
      "text/latex": [
       "\\begin{tabular}{r|cccc}\n",
       "\t& x1 & x2 & x3 & x4\\\\\n",
       "\t\\hline\n",
       "\t& Int64 & Int64 & Int64 & Int64\\\\\n",
       "\t\\hline\n",
       "\t1 & 5 & 5 & 5 & 7 \\\\\n",
       "\t2 & 2 & 5 & 2 & 6 \\\\\n",
       "\t3 & 5 & 9 & 6 & 2 \\\\\n",
       "\\end{tabular}\n"
      ],
      "text/plain": [
       "\u001b[1m3×4 DataFrame\u001b[0m\n",
       "\u001b[1m Row \u001b[0m│\u001b[1m x1    \u001b[0m\u001b[1m x2    \u001b[0m\u001b[1m x3    \u001b[0m\u001b[1m x4    \u001b[0m\n",
       "     │\u001b[90m Int64 \u001b[0m\u001b[90m Int64 \u001b[0m\u001b[90m Int64 \u001b[0m\u001b[90m Int64 \u001b[0m\n",
       "─────┼────────────────────────────\n",
       "   1 │     5      5      5      7\n",
       "   2 │     2      5      2      6\n",
       "   3 │     5      9      6      2"
      ]
     },
     "execution_count": 49,
     "metadata": {},
     "output_type": "execute_result"
    }
   ],
   "source": [
    "df2 = DataFrame(rand(1:10, 3, 4), :auto)"
   ]
  },
  {
   "cell_type": "markdown",
   "metadata": {},
   "source": [
    "And we show yet another way to write a `DataFrame` into a CSV file"
   ]
  },
  {
   "cell_type": "code",
   "execution_count": 50,
   "metadata": {},
   "outputs": [],
   "source": [
    "# write a CSV file into the zip file\n",
    "w = ZipFile.Writer(\"x.zip\")\n",
    "\n",
    "f1 = ZipFile.addfile(w, \"x1.csv\")\n",
    "write(f1, sprint(show, \"text/csv\", df1))\n",
    "\n",
    "# write a second CSV file into zip file\n",
    "f2 = ZipFile.addfile(w, \"x2.csv\", method=ZipFile.Deflate)\n",
    "write(f2, sprint(show, \"text/csv\", df2))\n",
    "\n",
    "close(w)"
   ]
  },
  {
   "cell_type": "markdown",
   "metadata": {},
   "source": [
    "Now we read the CSV we have written:"
   ]
  },
  {
   "cell_type": "code",
   "execution_count": 51,
   "metadata": {},
   "outputs": [],
   "source": [
    "z = ZipFile.Reader(\"x.zip\");"
   ]
  },
  {
   "cell_type": "code",
   "execution_count": 52,
   "metadata": {},
   "outputs": [
    {
     "data": {
      "text/html": [
       "<div><div style = \"float: left;\"><span>3×4 DataFrame</span></div><div style = \"clear: both;\"></div></div><div class = \"data-frame\" style = \"overflow-x: scroll;\"><table class = \"data-frame\" style = \"margin-bottom: 6px;\"><thead><tr class = \"header\"><th class = \"rowNumber\" style = \"font-weight: bold; text-align: right;\">Row</th><th style = \"text-align: left;\">x1</th><th style = \"text-align: left;\">x2</th><th style = \"text-align: left;\">x3</th><th style = \"text-align: left;\">x4</th></tr><tr class = \"subheader headerLastRow\"><th class = \"rowNumber\" style = \"font-weight: bold; text-align: right;\"></th><th title = \"Int64\" style = \"text-align: left;\">Int64</th><th title = \"Int64\" style = \"text-align: left;\">Int64</th><th title = \"Int64\" style = \"text-align: left;\">Int64</th><th title = \"Int64\" style = \"text-align: left;\">Int64</th></tr></thead><tbody><tr><td class = \"rowNumber\" style = \"font-weight: bold; text-align: right;\">1</td><td style = \"text-align: right;\">1</td><td style = \"text-align: right;\">2</td><td style = \"text-align: right;\">9</td><td style = \"text-align: right;\">7</td></tr><tr><td class = \"rowNumber\" style = \"font-weight: bold; text-align: right;\">2</td><td style = \"text-align: right;\">8</td><td style = \"text-align: right;\">10</td><td style = \"text-align: right;\">9</td><td style = \"text-align: right;\">10</td></tr><tr><td class = \"rowNumber\" style = \"font-weight: bold; text-align: right;\">3</td><td style = \"text-align: right;\">4</td><td style = \"text-align: right;\">8</td><td style = \"text-align: right;\">6</td><td style = \"text-align: right;\">3</td></tr></tbody></table></div>"
      ],
      "text/latex": [
       "\\begin{tabular}{r|cccc}\n",
       "\t& x1 & x2 & x3 & x4\\\\\n",
       "\t\\hline\n",
       "\t& Int64 & Int64 & Int64 & Int64\\\\\n",
       "\t\\hline\n",
       "\t1 & 1 & 2 & 9 & 7 \\\\\n",
       "\t2 & 8 & 10 & 9 & 10 \\\\\n",
       "\t3 & 4 & 8 & 6 & 3 \\\\\n",
       "\\end{tabular}\n"
      ],
      "text/plain": [
       "\u001b[1m3×4 DataFrame\u001b[0m\n",
       "\u001b[1m Row \u001b[0m│\u001b[1m x1    \u001b[0m\u001b[1m x2    \u001b[0m\u001b[1m x3    \u001b[0m\u001b[1m x4    \u001b[0m\n",
       "     │\u001b[90m Int64 \u001b[0m\u001b[90m Int64 \u001b[0m\u001b[90m Int64 \u001b[0m\u001b[90m Int64 \u001b[0m\n",
       "─────┼────────────────────────────\n",
       "   1 │     1      2      9      7\n",
       "   2 │     8     10      9     10\n",
       "   3 │     4      8      6      3"
      ]
     },
     "execution_count": 52,
     "metadata": {},
     "output_type": "execute_result"
    }
   ],
   "source": [
    "# find the index index of file called x1.csv\n",
    "index_xcsv = findfirst(x->x.name == \"x1.csv\", z.files)\n",
    "# to read the x1.csv file in the zip file\n",
    "df1_2 = CSV.read(read(z.files[index_xcsv]), DataFrame)"
   ]
  },
  {
   "cell_type": "code",
   "execution_count": 53,
   "metadata": {},
   "outputs": [
    {
     "data": {
      "text/plain": [
       "true"
      ]
     },
     "execution_count": 53,
     "metadata": {},
     "output_type": "execute_result"
    }
   ],
   "source": [
    "df1_2 == df1"
   ]
  },
  {
   "cell_type": "code",
   "execution_count": 54,
   "metadata": {},
   "outputs": [
    {
     "data": {
      "text/html": [
       "<div><div style = \"float: left;\"><span>3×4 DataFrame</span></div><div style = \"clear: both;\"></div></div><div class = \"data-frame\" style = \"overflow-x: scroll;\"><table class = \"data-frame\" style = \"margin-bottom: 6px;\"><thead><tr class = \"header\"><th class = \"rowNumber\" style = \"font-weight: bold; text-align: right;\">Row</th><th style = \"text-align: left;\">x1</th><th style = \"text-align: left;\">x2</th><th style = \"text-align: left;\">x3</th><th style = \"text-align: left;\">x4</th></tr><tr class = \"subheader headerLastRow\"><th class = \"rowNumber\" style = \"font-weight: bold; text-align: right;\"></th><th title = \"Int64\" style = \"text-align: left;\">Int64</th><th title = \"Int64\" style = \"text-align: left;\">Int64</th><th title = \"Int64\" style = \"text-align: left;\">Int64</th><th title = \"Int64\" style = \"text-align: left;\">Int64</th></tr></thead><tbody><tr><td class = \"rowNumber\" style = \"font-weight: bold; text-align: right;\">1</td><td style = \"text-align: right;\">5</td><td style = \"text-align: right;\">5</td><td style = \"text-align: right;\">5</td><td style = \"text-align: right;\">7</td></tr><tr><td class = \"rowNumber\" style = \"font-weight: bold; text-align: right;\">2</td><td style = \"text-align: right;\">2</td><td style = \"text-align: right;\">5</td><td style = \"text-align: right;\">2</td><td style = \"text-align: right;\">6</td></tr><tr><td class = \"rowNumber\" style = \"font-weight: bold; text-align: right;\">3</td><td style = \"text-align: right;\">5</td><td style = \"text-align: right;\">9</td><td style = \"text-align: right;\">6</td><td style = \"text-align: right;\">2</td></tr></tbody></table></div>"
      ],
      "text/latex": [
       "\\begin{tabular}{r|cccc}\n",
       "\t& x1 & x2 & x3 & x4\\\\\n",
       "\t\\hline\n",
       "\t& Int64 & Int64 & Int64 & Int64\\\\\n",
       "\t\\hline\n",
       "\t1 & 5 & 5 & 5 & 7 \\\\\n",
       "\t2 & 2 & 5 & 2 & 6 \\\\\n",
       "\t3 & 5 & 9 & 6 & 2 \\\\\n",
       "\\end{tabular}\n"
      ],
      "text/plain": [
       "\u001b[1m3×4 DataFrame\u001b[0m\n",
       "\u001b[1m Row \u001b[0m│\u001b[1m x1    \u001b[0m\u001b[1m x2    \u001b[0m\u001b[1m x3    \u001b[0m\u001b[1m x4    \u001b[0m\n",
       "     │\u001b[90m Int64 \u001b[0m\u001b[90m Int64 \u001b[0m\u001b[90m Int64 \u001b[0m\u001b[90m Int64 \u001b[0m\n",
       "─────┼────────────────────────────\n",
       "   1 │     5      5      5      7\n",
       "   2 │     2      5      2      6\n",
       "   3 │     5      9      6      2"
      ]
     },
     "execution_count": 54,
     "metadata": {},
     "output_type": "execute_result"
    }
   ],
   "source": [
    "# find the index index of file called x2.csv\n",
    "index_xcsv = findfirst(x->x.name == \"x2.csv\", z.files)\n",
    "# to read the x2.csv file in the zip file\n",
    "df2_2 = CSV.read(read(z.files[index_xcsv]), DataFrame)"
   ]
  },
  {
   "cell_type": "code",
   "execution_count": 55,
   "metadata": {},
   "outputs": [
    {
     "data": {
      "text/plain": [
       "true"
      ]
     },
     "execution_count": 55,
     "metadata": {},
     "output_type": "execute_result"
    }
   ],
   "source": [
    "df2_2 == df2"
   ]
  },
  {
   "cell_type": "markdown",
   "metadata": {},
   "source": [
    "Note that once you read a given file from `z` object its stream is all used-up (it is at its end). Therefore to read it again you need to close `z` and open it again.\n",
    "\n",
    "Also do not forget to close the zip file once done."
   ]
  },
  {
   "cell_type": "code",
   "execution_count": 56,
   "metadata": {},
   "outputs": [],
   "source": [
    "close(z)"
   ]
  },
  {
   "cell_type": "markdown",
   "metadata": {},
   "source": [
    "Finally, let's clean up. Do not run the next cell unless you are sure that it will not erase your important files."
   ]
  },
  {
   "cell_type": "code",
   "execution_count": 57,
   "metadata": {},
   "outputs": [],
   "source": [
    "foreach(rm, [\"x1.csv\", \"x.bin\", \"x.jlso\", \"x1.json\", \"x2.json\",\n",
    "             \"bigdf1.csv\", \"bigdf.bin\", \"bigdf.jlso\", \"bigdf1.json\", \"bigdf2.json\", \n",
    "             \"x.zip\"])"
   ]
  },
  {
   "cell_type": "code",
   "execution_count": 58,
   "metadata": {},
   "outputs": [],
   "source": [
    "rm(\"bigdf.jdf\", recursive=true)\n",
    "rm(\"x.jdf\", recursive=true)"
   ]
  },
  {
   "cell_type": "markdown",
   "metadata": {},
   "source": [
    "Note that we did not remove `x.arrow` and `bigdf.arrow` and `df_compress_test.csv.gz` - you have to do it manually, as these files are memory mapped."
   ]
  }
 ],
 "metadata": {
  "@webio": {
   "lastCommId": null,
   "lastKernelId": null
  },
  "kernelspec": {
   "display_name": "Julia 1.9.0",
   "language": "julia",
   "name": "julia-1.9"
  },
  "language_info": {
   "file_extension": ".jl",
   "mimetype": "application/julia",
   "name": "julia",
   "version": "1.9.0"
  }
 },
 "nbformat": 4,
 "nbformat_minor": 4
}
