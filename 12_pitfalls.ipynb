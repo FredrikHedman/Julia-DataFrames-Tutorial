{
 "cells": [
  {
   "cell_type": "markdown",
   "metadata": {},
   "source": [
    "# Introduction to DataFrames\n",
    "**[Bogumił Kamiński](http://bogumilkaminski.pl/about/), May 15, 2021**"
   ]
  },
  {
   "cell_type": "code",
   "execution_count": 1,
   "metadata": {},
   "outputs": [],
   "source": [
    "using DataFrames"
   ]
  },
  {
   "cell_type": "markdown",
   "metadata": {},
   "source": [
    "## Possible pitfalls"
   ]
  },
  {
   "cell_type": "markdown",
   "metadata": {},
   "source": [
    "### Know what is copied when creating a `DataFrame`"
   ]
  },
  {
   "cell_type": "code",
   "execution_count": 2,
   "metadata": {},
   "outputs": [
    {
     "data": {
      "text/html": [
       "<table class=\"data-frame\"><thead><tr><th></th><th>x1</th><th>x2</th><th>x3</th><th>x4</th><th>x5</th></tr><tr><th></th><th>Float64</th><th>Float64</th><th>Float64</th><th>Float64</th><th>Float64</th></tr></thead><tbody><p>3 rows × 5 columns</p><tr><th>1</th><td>0.976481</td><td>0.275304</td><td>0.0564721</td><td>0.0683025</td><td>0.286872</td></tr><tr><th>2</th><td>0.725549</td><td>0.475192</td><td>0.117808</td><td>0.838682</td><td>0.411452</td></tr><tr><th>3</th><td>0.862387</td><td>0.120068</td><td>0.0747617</td><td>0.107699</td><td>0.407875</td></tr></tbody></table>"
      ],
      "text/latex": [
       "\\begin{tabular}{r|ccccc}\n",
       "\t& x1 & x2 & x3 & x4 & x5\\\\\n",
       "\t\\hline\n",
       "\t& Float64 & Float64 & Float64 & Float64 & Float64\\\\\n",
       "\t\\hline\n",
       "\t1 & 0.976481 & 0.275304 & 0.0564721 & 0.0683025 & 0.286872 \\\\\n",
       "\t2 & 0.725549 & 0.475192 & 0.117808 & 0.838682 & 0.411452 \\\\\n",
       "\t3 & 0.862387 & 0.120068 & 0.0747617 & 0.107699 & 0.407875 \\\\\n",
       "\\end{tabular}\n"
      ],
      "text/plain": [
       "\u001b[1m3×5 DataFrame\u001b[0m\n",
       "\u001b[1m Row \u001b[0m│\u001b[1m x1       \u001b[0m\u001b[1m x2       \u001b[0m\u001b[1m x3        \u001b[0m\u001b[1m x4        \u001b[0m\u001b[1m x5       \u001b[0m\n",
       "\u001b[1m     \u001b[0m│\u001b[90m Float64  \u001b[0m\u001b[90m Float64  \u001b[0m\u001b[90m Float64   \u001b[0m\u001b[90m Float64   \u001b[0m\u001b[90m Float64  \u001b[0m\n",
       "─────┼────────────────────────────────────────────────────\n",
       "   1 │ 0.976481  0.275304  0.0564721  0.0683025  0.286872\n",
       "   2 │ 0.725549  0.475192  0.117808   0.838682   0.411452\n",
       "   3 │ 0.862387  0.120068  0.0747617  0.107699   0.407875"
      ]
     },
     "execution_count": 2,
     "metadata": {},
     "output_type": "execute_result"
    }
   ],
   "source": [
    "x = DataFrame(rand(3, 5), :auto)"
   ]
  },
  {
   "cell_type": "code",
   "execution_count": 3,
   "metadata": {},
   "outputs": [
    {
     "data": {
      "text/plain": [
       "false"
      ]
     },
     "execution_count": 3,
     "metadata": {},
     "output_type": "execute_result"
    }
   ],
   "source": [
    "y = copy(x)\n",
    "x === y # not the same object"
   ]
  },
  {
   "cell_type": "code",
   "execution_count": 4,
   "metadata": {},
   "outputs": [
    {
     "data": {
      "text/plain": [
       "false"
      ]
     },
     "execution_count": 4,
     "metadata": {},
     "output_type": "execute_result"
    }
   ],
   "source": [
    "y = DataFrame(x)\n",
    "x === y"
   ]
  },
  {
   "cell_type": "code",
   "execution_count": 5,
   "metadata": {},
   "outputs": [
    {
     "data": {
      "text/plain": [
       "false"
      ]
     },
     "execution_count": 5,
     "metadata": {},
     "output_type": "execute_result"
    }
   ],
   "source": [
    "any(x[!, i] === y[!, i] for i in ncol(x)) # the columns are also not the same"
   ]
  },
  {
   "cell_type": "code",
   "execution_count": 6,
   "metadata": {},
   "outputs": [
    {
     "data": {
      "text/plain": [
       "false"
      ]
     },
     "execution_count": 6,
     "metadata": {},
     "output_type": "execute_result"
    }
   ],
   "source": [
    "y = DataFrame(x, copycols=false)\n",
    "x === y"
   ]
  },
  {
   "cell_type": "code",
   "execution_count": 7,
   "metadata": {},
   "outputs": [
    {
     "data": {
      "text/plain": [
       "true"
      ]
     },
     "execution_count": 7,
     "metadata": {},
     "output_type": "execute_result"
    }
   ],
   "source": [
    "all(x[!, i] === y[!, i] for i in ncol(x)) # the columns are the same"
   ]
  },
  {
   "cell_type": "code",
   "execution_count": 8,
   "metadata": {},
   "outputs": [
    {
     "data": {
      "text/html": [
       "<table class=\"data-frame\"><thead><tr><th></th><th>x</th><th>y</th></tr><tr><th></th><th>Int64</th><th>Int64</th></tr></thead><tbody><p>3 rows × 2 columns</p><tr><th>1</th><td>1</td><td>1</td></tr><tr><th>2</th><td>2</td><td>2</td></tr><tr><th>3</th><td>3</td><td>3</td></tr></tbody></table>"
      ],
      "text/latex": [
       "\\begin{tabular}{r|cc}\n",
       "\t& x & y\\\\\n",
       "\t\\hline\n",
       "\t& Int64 & Int64\\\\\n",
       "\t\\hline\n",
       "\t1 & 1 & 1 \\\\\n",
       "\t2 & 2 & 2 \\\\\n",
       "\t3 & 3 & 3 \\\\\n",
       "\\end{tabular}\n"
      ],
      "text/plain": [
       "\u001b[1m3×2 DataFrame\u001b[0m\n",
       "\u001b[1m Row \u001b[0m│\u001b[1m x     \u001b[0m\u001b[1m y     \u001b[0m\n",
       "\u001b[1m     \u001b[0m│\u001b[90m Int64 \u001b[0m\u001b[90m Int64 \u001b[0m\n",
       "─────┼──────────────\n",
       "   1 │     1      1\n",
       "   2 │     2      2\n",
       "   3 │     3      3"
      ]
     },
     "execution_count": 8,
     "metadata": {},
     "output_type": "execute_result"
    }
   ],
   "source": [
    "x = 1:3; y = [1, 2, 3]; df = DataFrame(x=x,y=y) # the same when creating data frames using kwarg syntax"
   ]
  },
  {
   "cell_type": "code",
   "execution_count": 9,
   "metadata": {},
   "outputs": [
    {
     "data": {
      "text/plain": [
       "false"
      ]
     },
     "execution_count": 9,
     "metadata": {},
     "output_type": "execute_result"
    }
   ],
   "source": [
    "y === df.y # different object"
   ]
  },
  {
   "cell_type": "code",
   "execution_count": 10,
   "metadata": {},
   "outputs": [
    {
     "data": {
      "text/plain": [
       "(UnitRange{Int64}, Vector{Int64})"
      ]
     },
     "execution_count": 10,
     "metadata": {},
     "output_type": "execute_result"
    }
   ],
   "source": [
    "typeof(x), typeof(df.x) # range is converted to a vector"
   ]
  },
  {
   "cell_type": "code",
   "execution_count": 11,
   "metadata": {},
   "outputs": [
    {
     "data": {
      "text/plain": [
       "false"
      ]
     },
     "execution_count": 11,
     "metadata": {},
     "output_type": "execute_result"
    }
   ],
   "source": [
    "y === df[:, :y] # slicing rows always creates a copy"
   ]
  },
  {
   "cell_type": "markdown",
   "metadata": {},
   "source": [
    "you can avoid copying by using `copycols=false` keyword argument in functions."
   ]
  },
  {
   "cell_type": "code",
   "execution_count": 12,
   "metadata": {},
   "outputs": [
    {
     "data": {
      "text/html": [
       "<table class=\"data-frame\"><thead><tr><th></th><th>x</th><th>y</th></tr><tr><th></th><th>Int64</th><th>Int64</th></tr></thead><tbody><p>3 rows × 2 columns</p><tr><th>1</th><td>1</td><td>1</td></tr><tr><th>2</th><td>2</td><td>2</td></tr><tr><th>3</th><td>3</td><td>3</td></tr></tbody></table>"
      ],
      "text/latex": [
       "\\begin{tabular}{r|cc}\n",
       "\t& x & y\\\\\n",
       "\t\\hline\n",
       "\t& Int64 & Int64\\\\\n",
       "\t\\hline\n",
       "\t1 & 1 & 1 \\\\\n",
       "\t2 & 2 & 2 \\\\\n",
       "\t3 & 3 & 3 \\\\\n",
       "\\end{tabular}\n"
      ],
      "text/plain": [
       "\u001b[1m3×2 DataFrame\u001b[0m\n",
       "\u001b[1m Row \u001b[0m│\u001b[1m x     \u001b[0m\u001b[1m y     \u001b[0m\n",
       "\u001b[1m     \u001b[0m│\u001b[90m Int64 \u001b[0m\u001b[90m Int64 \u001b[0m\n",
       "─────┼──────────────\n",
       "   1 │     1      1\n",
       "   2 │     2      2\n",
       "   3 │     3      3"
      ]
     },
     "execution_count": 12,
     "metadata": {},
     "output_type": "execute_result"
    }
   ],
   "source": [
    "df = DataFrame(x=x,y=y, copycols=false)"
   ]
  },
  {
   "cell_type": "code",
   "execution_count": 13,
   "metadata": {},
   "outputs": [
    {
     "data": {
      "text/plain": [
       "true"
      ]
     },
     "execution_count": 13,
     "metadata": {},
     "output_type": "execute_result"
    }
   ],
   "source": [
    "y === df.y # now it is the same"
   ]
  },
  {
   "cell_type": "code",
   "execution_count": 14,
   "metadata": {},
   "outputs": [
    {
     "data": {
      "text/plain": [
       "false"
      ]
     },
     "execution_count": 14,
     "metadata": {},
     "output_type": "execute_result"
    }
   ],
   "source": [
    "select(df, :y)[!, 1] === y # not the same"
   ]
  },
  {
   "cell_type": "code",
   "execution_count": 15,
   "metadata": {},
   "outputs": [
    {
     "data": {
      "text/plain": [
       "true"
      ]
     },
     "execution_count": 15,
     "metadata": {},
     "output_type": "execute_result"
    }
   ],
   "source": [
    "select(df, :y, copycols=false)[!, 1] === y # the same"
   ]
  },
  {
   "cell_type": "markdown",
   "metadata": {},
   "source": [
    "### Do not modify the parent of `GroupedDataFrame` or `view`"
   ]
  },
  {
   "cell_type": "code",
   "execution_count": 16,
   "metadata": {},
   "outputs": [
    {
     "data": {
      "text/html": [
       "<p><b>GroupedDataFrame with 2 groups based on key: id</b></p><p><i>First Group (3 rows): id = 1</i></p><table class=\"data-frame\"><thead><tr><th></th><th>id</th><th>x</th></tr><tr><th></th><th>Int64</th><th>Int64</th></tr></thead><tbody><tr><th>1</th><td>1</td><td>1</td></tr><tr><th>2</th><td>1</td><td>3</td></tr><tr><th>3</th><td>1</td><td>5</td></tr></tbody></table><p>&vellip;</p><p><i>Last Group (3 rows): id = 2</i></p><table class=\"data-frame\"><thead><tr><th></th><th>id</th><th>x</th></tr><tr><th></th><th>Int64</th><th>Int64</th></tr></thead><tbody><tr><th>1</th><td>2</td><td>2</td></tr><tr><th>2</th><td>2</td><td>4</td></tr><tr><th>3</th><td>2</td><td>6</td></tr></tbody></table>"
      ],
      "text/latex": [
       "GroupedDataFrame with 2 groups based on key: id\n",
       "\n",
       "First Group (3 rows): id = 1\n",
       "\n",
       "\\begin{tabular}{r|cc}\n",
       "\t& id & x\\\\\n",
       "\t\\hline\n",
       "\t& Int64 & Int64\\\\\n",
       "\t\\hline\n",
       "\t1 & 1 & 1 \\\\\n",
       "\t2 & 1 & 3 \\\\\n",
       "\t3 & 1 & 5 \\\\\n",
       "\\end{tabular}\n",
       "\n",
       "$\\dots$\n",
       "\n",
       "Last Group (3 rows): id = 2\n",
       "\n",
       "\\begin{tabular}{r|cc}\n",
       "\t& id & x\\\\\n",
       "\t\\hline\n",
       "\t& Int64 & Int64\\\\\n",
       "\t\\hline\n",
       "\t1 & 2 & 2 \\\\\n",
       "\t2 & 2 & 4 \\\\\n",
       "\t3 & 2 & 6 \\\\\n",
       "\\end{tabular}\n"
      ],
      "text/plain": [
       "GroupedDataFrame with 2 groups based on key: id\n",
       "First Group (3 rows): id = 1\n",
       "\u001b[1m Row \u001b[0m│\u001b[1m id    \u001b[0m\u001b[1m x     \u001b[0m\n",
       "\u001b[1m     \u001b[0m│\u001b[90m Int64 \u001b[0m\u001b[90m Int64 \u001b[0m\n",
       "─────┼──────────────\n",
       "   1 │     1      1\n",
       "   2 │     1      3\n",
       "   3 │     1      5\n",
       "⋮\n",
       "Last Group (3 rows): id = 2\n",
       "\u001b[1m Row \u001b[0m│\u001b[1m id    \u001b[0m\u001b[1m x     \u001b[0m\n",
       "\u001b[1m     \u001b[0m│\u001b[90m Int64 \u001b[0m\u001b[90m Int64 \u001b[0m\n",
       "─────┼──────────────\n",
       "   1 │     2      2\n",
       "   2 │     2      4\n",
       "   3 │     2      6"
      ]
     },
     "execution_count": 16,
     "metadata": {},
     "output_type": "execute_result"
    }
   ],
   "source": [
    "x = DataFrame(id=repeat([1,2], outer=3), x=1:6)\n",
    "g = groupby(x, :id)"
   ]
  },
  {
   "cell_type": "code",
   "execution_count": 17,
   "metadata": {},
   "outputs": [
    {
     "data": {
      "text/html": [
       "<p><b>GroupedDataFrame with 2 groups based on key: id</b></p><p><i>First Group (3 rows): id = 2</i></p><table class=\"data-frame\"><thead><tr><th></th><th>id</th><th>x</th></tr><tr><th></th><th>Int64</th><th>Int64</th></tr></thead><tbody><tr><th>1</th><td>2</td><td>1</td></tr><tr><th>2</th><td>2</td><td>3</td></tr><tr><th>3</th><td>1</td><td>5</td></tr></tbody></table><p>&vellip;</p><p><i>Last Group (3 rows): id = 2</i></p><table class=\"data-frame\"><thead><tr><th></th><th>id</th><th>x</th></tr><tr><th></th><th>Int64</th><th>Int64</th></tr></thead><tbody><tr><th>1</th><td>2</td><td>2</td></tr><tr><th>2</th><td>2</td><td>4</td></tr><tr><th>3</th><td>2</td><td>6</td></tr></tbody></table>"
      ],
      "text/latex": [
       "GroupedDataFrame with 2 groups based on key: id\n",
       "\n",
       "First Group (3 rows): id = 2\n",
       "\n",
       "\\begin{tabular}{r|cc}\n",
       "\t& id & x\\\\\n",
       "\t\\hline\n",
       "\t& Int64 & Int64\\\\\n",
       "\t\\hline\n",
       "\t1 & 2 & 1 \\\\\n",
       "\t2 & 2 & 3 \\\\\n",
       "\t3 & 1 & 5 \\\\\n",
       "\\end{tabular}\n",
       "\n",
       "$\\dots$\n",
       "\n",
       "Last Group (3 rows): id = 2\n",
       "\n",
       "\\begin{tabular}{r|cc}\n",
       "\t& id & x\\\\\n",
       "\t\\hline\n",
       "\t& Int64 & Int64\\\\\n",
       "\t\\hline\n",
       "\t1 & 2 & 2 \\\\\n",
       "\t2 & 2 & 4 \\\\\n",
       "\t3 & 2 & 6 \\\\\n",
       "\\end{tabular}\n"
      ],
      "text/plain": [
       "GroupedDataFrame with 2 groups based on key: id\n",
       "First Group (3 rows): id = 2\n",
       "\u001b[1m Row \u001b[0m│\u001b[1m id    \u001b[0m\u001b[1m x     \u001b[0m\n",
       "\u001b[1m     \u001b[0m│\u001b[90m Int64 \u001b[0m\u001b[90m Int64 \u001b[0m\n",
       "─────┼──────────────\n",
       "   1 │     2      1\n",
       "   2 │     2      3\n",
       "   3 │     1      5\n",
       "⋮\n",
       "Last Group (3 rows): id = 2\n",
       "\u001b[1m Row \u001b[0m│\u001b[1m id    \u001b[0m\u001b[1m x     \u001b[0m\n",
       "\u001b[1m     \u001b[0m│\u001b[90m Int64 \u001b[0m\u001b[90m Int64 \u001b[0m\n",
       "─────┼──────────────\n",
       "   1 │     2      2\n",
       "   2 │     2      4\n",
       "   3 │     2      6"
      ]
     },
     "execution_count": 17,
     "metadata": {},
     "output_type": "execute_result"
    }
   ],
   "source": [
    "x[1:3, 1] = [2,2,2]\n",
    "g # well - it is wrong now, g is only a view"
   ]
  },
  {
   "cell_type": "code",
   "execution_count": 18,
   "metadata": {},
   "outputs": [
    {
     "data": {
      "text/html": [
       "<table class=\"data-frame\"><thead><tr><th></th><th>id</th><th>x</th></tr><tr><th></th><th>Int64</th><th>Int64</th></tr></thead><tbody><p>2 rows × 2 columns</p><tr><th>1</th><td>1</td><td>5</td></tr><tr><th>2</th><td>2</td><td>6</td></tr></tbody></table>"
      ],
      "text/latex": [
       "\\begin{tabular}{r|cc}\n",
       "\t& id & x\\\\\n",
       "\t\\hline\n",
       "\t& Int64 & Int64\\\\\n",
       "\t\\hline\n",
       "\t1 & 1 & 5 \\\\\n",
       "\t2 & 2 & 6 \\\\\n",
       "\\end{tabular}\n"
      ],
      "text/plain": [
       "\u001b[1m2×2 SubDataFrame\u001b[0m\n",
       "\u001b[1m Row \u001b[0m│\u001b[1m id    \u001b[0m\u001b[1m x     \u001b[0m\n",
       "\u001b[1m     \u001b[0m│\u001b[90m Int64 \u001b[0m\u001b[90m Int64 \u001b[0m\n",
       "─────┼──────────────\n",
       "   1 │     1      5\n",
       "   2 │     2      6"
      ]
     },
     "execution_count": 18,
     "metadata": {},
     "output_type": "execute_result"
    }
   ],
   "source": [
    "s = view(x, 5:6, :)"
   ]
  },
  {
   "cell_type": "code",
   "execution_count": 19,
   "metadata": {},
   "outputs": [
    {
     "data": {
      "text/html": [
       "<table class=\"data-frame\"><thead><tr><th></th><th>id</th><th>x</th></tr><tr><th></th><th>Int64</th><th>Int64</th></tr></thead><tbody><p>2 rows × 2 columns</p><tr><th>1</th><td>2</td><td>1</td></tr><tr><th>2</th><td>2</td><td>2</td></tr></tbody></table>"
      ],
      "text/latex": [
       "\\begin{tabular}{r|cc}\n",
       "\t& id & x\\\\\n",
       "\t\\hline\n",
       "\t& Int64 & Int64\\\\\n",
       "\t\\hline\n",
       "\t1 & 2 & 1 \\\\\n",
       "\t2 & 2 & 2 \\\\\n",
       "\\end{tabular}\n"
      ],
      "text/plain": [
       "\u001b[1m2×2 DataFrame\u001b[0m\n",
       "\u001b[1m Row \u001b[0m│\u001b[1m id    \u001b[0m\u001b[1m x     \u001b[0m\n",
       "\u001b[1m     \u001b[0m│\u001b[90m Int64 \u001b[0m\u001b[90m Int64 \u001b[0m\n",
       "─────┼──────────────\n",
       "   1 │     2      1\n",
       "   2 │     2      2"
      ]
     },
     "execution_count": 19,
     "metadata": {},
     "output_type": "execute_result"
    }
   ],
   "source": [
    "delete!(x, 3:6)"
   ]
  },
  {
   "cell_type": "code",
   "execution_count": 20,
   "metadata": {},
   "outputs": [
    {
     "ename": "BoundsError",
     "evalue": "BoundsError: attempt to access 2-element Vector{Int64} at index [5:6]",
     "output_type": "error",
     "traceback": [
      "BoundsError: attempt to access 2-element Vector{Int64} at index [5:6]",
      "",
      "Stacktrace:",
      "  [1] throw_boundserror(A::Vector{Int64}, I::Tuple{UnitRange{Int64}})",
      "    @ Base ./abstractarray.jl:651",
      "  [2] checkbounds",
      "    @ ./abstractarray.jl:616 [inlined]",
      "  [3] view(A::Vector{Int64}, I::UnitRange{Int64})",
      "    @ Base ./subarray.jl:177",
      "  [4] view",
      "    @ ~/.julia/packages/DataFrames/nxjiD/src/subdataframe/subdataframe.jl:129 [inlined]",
      "  [5] getindex",
      "    @ ~/.julia/packages/DataFrames/nxjiD/src/subdataframe/subdataframe.jl:166 [inlined]",
      "  [6] getindex",
      "    @ ~/.julia/packages/DataFrames/nxjiD/src/abstractdataframe/iteration.jl:200 [inlined]",
      "  [7] iterate(itr::DataFrames.DataFrameColumns{SubDataFrame{DataFrame, DataFrames.Index, UnitRange{Int64}}}, i::Int64) (repeats 2 times)",
      "    @ DataFrames ~/.julia/packages/DataFrames/nxjiD/src/abstractdataframe/iteration.jl:198",
      "  [8] _show(io::IOContext{IOBuffer}, df::SubDataFrame{DataFrame, DataFrames.Index, UnitRange{Int64}}; allrows::Bool, allcols::Bool, rowlabel::Symbol, summary::Bool, eltypes::Bool, rowid::Nothing, truncate::Int64, kwargs::Base.Iterators.Pairs{Union{}, Union{}, Tuple{}, NamedTuple{(), Tuple{}}})",
      "    @ DataFrames ~/.julia/packages/DataFrames/nxjiD/src/abstractdataframe/show.jl:167",
      "  [9] #show#695",
      "    @ ~/.julia/packages/DataFrames/nxjiD/src/abstractdataframe/show.jl:337 [inlined]",
      " [10] show(io::IOContext{IOBuffer}, df::SubDataFrame{DataFrame, DataFrames.Index, UnitRange{Int64}})",
      "    @ DataFrames ~/.julia/packages/DataFrames/nxjiD/src/abstractdataframe/show.jl:337",
      " [11] #show#710",
      "    @ ~/.julia/packages/DataFrames/nxjiD/src/abstractdataframe/io.jl:138 [inlined]",
      " [12] show",
      "    @ ~/.julia/packages/DataFrames/nxjiD/src/abstractdataframe/io.jl:138 [inlined]",
      " [13] limitstringmime(mime::MIME{Symbol(\"text/plain\")}, x::SubDataFrame{DataFrame, DataFrames.Index, UnitRange{Int64}})",
      "    @ IJulia ~/.julia/packages/IJulia/e8kqU/src/inline.jl:43",
      " [14] display_mimestring",
      "    @ ~/.julia/packages/IJulia/e8kqU/src/display.jl:71 [inlined]",
      " [15] display_dict(x::SubDataFrame{DataFrame, DataFrames.Index, UnitRange{Int64}})",
      "    @ IJulia ~/.julia/packages/IJulia/e8kqU/src/display.jl:102",
      " [16] #invokelatest#2",
      "    @ ./essentials.jl:708 [inlined]",
      " [17] invokelatest",
      "    @ ./essentials.jl:706 [inlined]",
      " [18] execute_request(socket::ZMQ.Socket, msg::IJulia.Msg)",
      "    @ IJulia ~/.julia/packages/IJulia/e8kqU/src/execute_request.jl:112",
      " [19] #invokelatest#2",
      "    @ ./essentials.jl:708 [inlined]",
      " [20] invokelatest",
      "    @ ./essentials.jl:706 [inlined]",
      " [21] eventloop(socket::ZMQ.Socket)",
      "    @ IJulia ~/.julia/packages/IJulia/e8kqU/src/eventloop.jl:8",
      " [22] (::IJulia.var\"#15#18\")()",
      "    @ IJulia ./task.jl:411"
     ]
    }
   ],
   "source": [
    "s # error"
   ]
  },
  {
   "cell_type": "markdown",
   "metadata": {},
   "source": [
    "### Single column selection for `DataFrame` creates aliases with `!` and `getproperty` syntax and copies with `:`"
   ]
  },
  {
   "cell_type": "code",
   "execution_count": 21,
   "metadata": {},
   "outputs": [
    {
     "data": {
      "text/html": [
       "<table class=\"data-frame\"><thead><tr><th></th><th>a</th><th>b</th><th>c</th><th>d</th><th>e</th></tr><tr><th></th><th>Int64</th><th>Int64</th><th>Int64</th><th>Int64</th><th>Int64</th></tr></thead><tbody><p>3 rows × 5 columns</p><tr><th>1</th><td>1</td><td>1</td><td>1</td><td>1</td><td>1</td></tr><tr><th>2</th><td>2</td><td>2</td><td>2</td><td>2</td><td>2</td></tr><tr><th>3</th><td>3</td><td>3</td><td>3</td><td>3</td><td>3</td></tr></tbody></table>"
      ],
      "text/latex": [
       "\\begin{tabular}{r|ccccc}\n",
       "\t& a & b & c & d & e\\\\\n",
       "\t\\hline\n",
       "\t& Int64 & Int64 & Int64 & Int64 & Int64\\\\\n",
       "\t\\hline\n",
       "\t1 & 1 & 1 & 1 & 1 & 1 \\\\\n",
       "\t2 & 2 & 2 & 2 & 2 & 2 \\\\\n",
       "\t3 & 3 & 3 & 3 & 3 & 3 \\\\\n",
       "\\end{tabular}\n"
      ],
      "text/plain": [
       "\u001b[1m3×5 DataFrame\u001b[0m\n",
       "\u001b[1m Row \u001b[0m│\u001b[1m a     \u001b[0m\u001b[1m b     \u001b[0m\u001b[1m c     \u001b[0m\u001b[1m d     \u001b[0m\u001b[1m e     \u001b[0m\n",
       "\u001b[1m     \u001b[0m│\u001b[90m Int64 \u001b[0m\u001b[90m Int64 \u001b[0m\u001b[90m Int64 \u001b[0m\u001b[90m Int64 \u001b[0m\u001b[90m Int64 \u001b[0m\n",
       "─────┼───────────────────────────────────\n",
       "   1 │     1      1      1      1      1\n",
       "   2 │     2      2      2      2      2\n",
       "   3 │     3      3      3      3      3"
      ]
     },
     "metadata": {},
     "output_type": "display_data"
    },
    {
     "data": {
      "text/html": [
       "<table class=\"data-frame\"><thead><tr><th></th><th>a</th><th>b</th><th>c</th><th>d</th><th>e</th></tr><tr><th></th><th>Int64</th><th>Int64</th><th>Int64</th><th>Int64</th><th>Int64</th></tr></thead><tbody><p>3 rows × 5 columns</p><tr><th>1</th><td>100</td><td>100</td><td>1</td><td>1</td><td>1</td></tr><tr><th>2</th><td>2</td><td>2</td><td>2</td><td>2</td><td>2</td></tr><tr><th>3</th><td>3</td><td>3</td><td>3</td><td>3</td><td>3</td></tr></tbody></table>"
      ],
      "text/latex": [
       "\\begin{tabular}{r|ccccc}\n",
       "\t& a & b & c & d & e\\\\\n",
       "\t\\hline\n",
       "\t& Int64 & Int64 & Int64 & Int64 & Int64\\\\\n",
       "\t\\hline\n",
       "\t1 & 100 & 100 & 1 & 1 & 1 \\\\\n",
       "\t2 & 2 & 2 & 2 & 2 & 2 \\\\\n",
       "\t3 & 3 & 3 & 3 & 3 & 3 \\\\\n",
       "\\end{tabular}\n"
      ],
      "text/plain": [
       "\u001b[1m3×5 DataFrame\u001b[0m\n",
       "\u001b[1m Row \u001b[0m│\u001b[1m a     \u001b[0m\u001b[1m b     \u001b[0m\u001b[1m c     \u001b[0m\u001b[1m d     \u001b[0m\u001b[1m e     \u001b[0m\n",
       "\u001b[1m     \u001b[0m│\u001b[90m Int64 \u001b[0m\u001b[90m Int64 \u001b[0m\u001b[90m Int64 \u001b[0m\u001b[90m Int64 \u001b[0m\u001b[90m Int64 \u001b[0m\n",
       "─────┼───────────────────────────────────\n",
       "   1 │   100    100      1      1      1\n",
       "   2 │     2      2      2      2      2\n",
       "   3 │     3      3      3      3      3"
      ]
     },
     "metadata": {},
     "output_type": "display_data"
    }
   ],
   "source": [
    "x = DataFrame(a=1:3)\n",
    "x.b = x[!, 1] # alias\n",
    "x.c = x[:, 1] # copy\n",
    "x.d = x[!, 1][:] # copy\n",
    "x.e = copy(x[!, 1]) # explicit copy\n",
    "display(x)\n",
    "x[1,1] = 100\n",
    "display(x)"
   ]
  },
  {
   "cell_type": "markdown",
   "metadata": {},
   "source": [
    "### When iterating rows of a data frame use `eachrow` to avoid compilation cost (wide tables), but `Tables.namedtupleiterator` for fast execution (tall tables)"
   ]
  },
  {
   "cell_type": "markdown",
   "metadata": {},
   "source": [
    "this table is wide"
   ]
  },
  {
   "cell_type": "code",
   "execution_count": 22,
   "metadata": {},
   "outputs": [
    {
     "data": {
      "text/html": [
       "<table class=\"data-frame\"><thead><tr><th></th><th>x1</th><th>x2</th><th>x3</th><th>x4</th><th>x5</th><th>x6</th><th>x7</th><th>x8</th><th>x9</th><th>x10</th><th>x11</th><th>x12</th></tr><tr><th></th><th>Float64</th><th>Bool</th><th>Char</th><th>Bool</th><th>Char</th><th>Char</th><th>Float64</th><th>Char</th><th>Int64</th><th>Int64</th><th>Char</th><th>Char</th></tr></thead><tbody><p>2 rows × 900 columns (omitted printing of 888 columns)</p><tr><th>1</th><td>1.0</td><td>0</td><td>a</td><td>0</td><td>a</td><td>a</td><td>1.0</td><td>a</td><td>1</td><td>1</td><td>a</td><td>a</td></tr><tr><th>2</th><td>2.0</td><td>1</td><td>b</td><td>1</td><td>b</td><td>b</td><td>2.0</td><td>b</td><td>2</td><td>2</td><td>b</td><td>b</td></tr></tbody></table>"
      ],
      "text/latex": [
       "\\begin{tabular}{r|ccccccccccccc}\n",
       "\t& x1 & x2 & x3 & x4 & x5 & x6 & x7 & x8 & x9 & x10 & x11 & x12 & \\\\\n",
       "\t\\hline\n",
       "\t& Float64 & Bool & Char & Bool & Char & Char & Float64 & Char & Int64 & Int64 & Char & Char & \\\\\n",
       "\t\\hline\n",
       "\t1 & 1.0 & 0 & a & 0 & a & a & 1.0 & a & 1 & 1 & a & a & $\\dots$ \\\\\n",
       "\t2 & 2.0 & 1 & b & 1 & b & b & 2.0 & b & 2 & 2 & b & b & $\\dots$ \\\\\n",
       "\\end{tabular}\n"
      ],
      "text/plain": [
       "\u001b[1m2×900 DataFrame\u001b[0m\n",
       "\u001b[1m Row \u001b[0m│\u001b[1m x1      \u001b[0m\u001b[1m x2    \u001b[0m\u001b[1m x3   \u001b[0m\u001b[1m x4    \u001b[0m\u001b[1m x5   \u001b[0m\u001b[1m x6   \u001b[0m\u001b[1m x7      \u001b[0m\u001b[1m x8   \u001b[0m\u001b[1m x9    \u001b[0m\u001b[1m x10   \u001b[0m\u001b[1m x\u001b[0m ⋯\n",
       "\u001b[1m     \u001b[0m│\u001b[90m Float64 \u001b[0m\u001b[90m Bool  \u001b[0m\u001b[90m Char \u001b[0m\u001b[90m Bool  \u001b[0m\u001b[90m Char \u001b[0m\u001b[90m Char \u001b[0m\u001b[90m Float64 \u001b[0m\u001b[90m Char \u001b[0m\u001b[90m Int64 \u001b[0m\u001b[90m Int64 \u001b[0m\u001b[90m C\u001b[0m ⋯\n",
       "─────┼──────────────────────────────────────────────────────────────────────────\n",
       "   1 │     1.0  false  a     false  a     a         1.0  a         1      1  a ⋯\n",
       "   2 │     2.0   true  b      true  b     b         2.0  b         2      2  b\n",
       "\u001b[36m                                                             890 columns omitted\u001b[0m"
      ]
     },
     "execution_count": 22,
     "metadata": {},
     "output_type": "execute_result"
    }
   ],
   "source": [
    "df1 = DataFrame([rand([1:2, 'a':'b', false:true, 1.0:2.0]) for i in 1:900], :auto)"
   ]
  },
  {
   "cell_type": "code",
   "execution_count": 23,
   "metadata": {},
   "outputs": [
    {
     "name": "stdout",
     "output_type": "stream",
     "text": [
      "  0.089423 seconds (84.22 k allocations: 5.169 MiB, 15.41% gc time, 99.86% compilation time)\n"
     ]
    },
    {
     "data": {
      "text/plain": [
       "2-element Vector{DataFrameRow}:\n",
       " \u001b[1mDataFrameRow\u001b[0m\n",
       "\u001b[1m Row \u001b[0m│\u001b[1m x1      \u001b[0m\u001b[1m x2    \u001b[0m\u001b[1m x3   \u001b[0m\u001b[1m x4    \u001b[0m\u001b[1m x5   \u001b[0m\u001b[1m x6   \u001b[0m\u001b[1m x7      \u001b[0m\u001b[1m x8   \u001b[0m\u001b[1m x9    \u001b[0m\u001b[1m x10   \u001b[0m\u001b[1m x\u001b[0m ⋯\n",
       "\u001b[1m     \u001b[0m│\u001b[90m Float64 \u001b[0m\u001b[90m Bool  \u001b[0m\u001b[90m Char \u001b[0m\u001b[90m Bool  \u001b[0m\u001b[90m Char \u001b[0m\u001b[90m Char \u001b[0m\u001b[90m Float64 \u001b[0m\u001b[90m Char \u001b[0m\u001b[90m Int64 \u001b[0m\u001b[90m Int64 \u001b[0m\u001b[90m C\u001b[0m ⋯\n",
       "─────┼──────────────────────────────────────────────────────────────────────────\n",
       "   1 │     1.0  false  a     false  a     a         1.0  a         1      1  a ⋯\n",
       "\u001b[36m                                                             890 columns omitted\u001b[0m\n",
       " \u001b[1mDataFrameRow\u001b[0m\n",
       "\u001b[1m Row \u001b[0m│\u001b[1m x1      \u001b[0m\u001b[1m x2   \u001b[0m\u001b[1m x3   \u001b[0m\u001b[1m x4   \u001b[0m\u001b[1m x5   \u001b[0m\u001b[1m x6   \u001b[0m\u001b[1m x7      \u001b[0m\u001b[1m x8   \u001b[0m\u001b[1m x9    \u001b[0m\u001b[1m x10   \u001b[0m\u001b[1m x11\u001b[0m ⋯\n",
       "\u001b[1m     \u001b[0m│\u001b[90m Float64 \u001b[0m\u001b[90m Bool \u001b[0m\u001b[90m Char \u001b[0m\u001b[90m Bool \u001b[0m\u001b[90m Char \u001b[0m\u001b[90m Char \u001b[0m\u001b[90m Float64 \u001b[0m\u001b[90m Char \u001b[0m\u001b[90m Int64 \u001b[0m\u001b[90m Int64 \u001b[0m\u001b[90m Cha\u001b[0m ⋯\n",
       "─────┼──────────────────────────────────────────────────────────────────────────\n",
       "   2 │     2.0  true  b     true  b     b         2.0  b         2      2  b   ⋯\n",
       "\u001b[36m                                                             890 columns omitted\u001b[0m"
      ]
     },
     "execution_count": 23,
     "metadata": {},
     "output_type": "execute_result"
    }
   ],
   "source": [
    "@time collect(eachrow(df1))"
   ]
  },
  {
   "cell_type": "code",
   "execution_count": 24,
   "metadata": {},
   "outputs": [
    {
     "name": "stdout",
     "output_type": "stream",
     "text": [
      "  8.521188 seconds (2.16 M allocations: 137.889 MiB, 0.48% gc time, 99.84% compilation time)\n"
     ]
    }
   ],
   "source": [
    "@time collect(Tables.namedtupleiterator(df1));"
   ]
  },
  {
   "cell_type": "markdown",
   "metadata": {},
   "source": [
    "as you can see the time to compile `Tables.namedtupleiterator` is very large in this case, and it would get much worse if the table was wider (that is why we include this tip in pitfalls notebook)"
   ]
  },
  {
   "cell_type": "markdown",
   "metadata": {},
   "source": [
    "the table below is tall"
   ]
  },
  {
   "cell_type": "code",
   "execution_count": 25,
   "metadata": {},
   "outputs": [
    {
     "data": {
      "text/html": [
       "<table class=\"data-frame\"><thead><tr><th></th><th>x1</th><th>x2</th><th>x3</th><th>x4</th><th>x5</th><th>x6</th><th>x7</th><th>x8</th></tr><tr><th></th><th>Float64</th><th>Float64</th><th>Float64</th><th>Float64</th><th>Float64</th><th>Float64</th><th>Float64</th><th>Float64</th></tr></thead><tbody><p>1,000,000 rows × 10 columns (omitted printing of 2 columns)</p><tr><th>1</th><td>0.0884655</td><td>0.0510019</td><td>0.418001</td><td>0.275263</td><td>0.196886</td><td>0.577606</td><td>0.632162</td><td>0.365267</td></tr><tr><th>2</th><td>0.0238469</td><td>0.858567</td><td>0.873395</td><td>0.0980489</td><td>0.783281</td><td>0.992697</td><td>0.998073</td><td>0.154986</td></tr><tr><th>3</th><td>0.0993084</td><td>0.173046</td><td>0.461451</td><td>0.776819</td><td>0.688546</td><td>0.45026</td><td>0.575941</td><td>0.379185</td></tr><tr><th>4</th><td>0.192213</td><td>0.868402</td><td>0.810197</td><td>0.825681</td><td>0.107654</td><td>0.652194</td><td>0.995758</td><td>0.992064</td></tr><tr><th>5</th><td>0.484915</td><td>0.781096</td><td>0.188717</td><td>0.0551245</td><td>0.582094</td><td>0.10756</td><td>0.69763</td><td>0.440782</td></tr><tr><th>6</th><td>0.647591</td><td>0.380823</td><td>0.708158</td><td>0.688091</td><td>0.108107</td><td>0.470009</td><td>0.316223</td><td>0.440454</td></tr><tr><th>7</th><td>0.669742</td><td>0.790828</td><td>0.479396</td><td>0.494966</td><td>0.807786</td><td>0.761803</td><td>0.104153</td><td>0.643289</td></tr><tr><th>8</th><td>0.922929</td><td>0.645575</td><td>0.357334</td><td>0.866658</td><td>0.231557</td><td>0.952013</td><td>0.367215</td><td>0.0662225</td></tr><tr><th>9</th><td>0.495266</td><td>0.284814</td><td>0.0686187</td><td>0.158368</td><td>0.895262</td><td>0.13835</td><td>0.866163</td><td>0.558396</td></tr><tr><th>10</th><td>0.437317</td><td>0.161811</td><td>0.708778</td><td>0.163434</td><td>0.810803</td><td>0.0457139</td><td>0.339694</td><td>0.319919</td></tr><tr><th>11</th><td>0.288426</td><td>0.87696</td><td>0.767848</td><td>0.113259</td><td>0.699343</td><td>0.599908</td><td>0.0176168</td><td>0.486346</td></tr><tr><th>12</th><td>0.821381</td><td>0.851951</td><td>0.299807</td><td>0.532541</td><td>0.495983</td><td>0.497657</td><td>0.0531582</td><td>0.85554</td></tr><tr><th>13</th><td>0.322532</td><td>0.494094</td><td>0.434555</td><td>0.188559</td><td>0.920332</td><td>0.829663</td><td>0.604228</td><td>0.29661</td></tr><tr><th>14</th><td>0.295109</td><td>0.803713</td><td>0.281266</td><td>0.906927</td><td>0.223985</td><td>0.971085</td><td>0.599117</td><td>0.824446</td></tr><tr><th>15</th><td>0.591672</td><td>0.588271</td><td>0.975076</td><td>0.376939</td><td>0.0561882</td><td>0.907194</td><td>0.1725</td><td>0.184552</td></tr><tr><th>16</th><td>0.701592</td><td>0.11728</td><td>0.42524</td><td>0.0352674</td><td>0.887161</td><td>0.724352</td><td>0.3283</td><td>0.500421</td></tr><tr><th>17</th><td>0.724232</td><td>0.371164</td><td>0.557093</td><td>0.888694</td><td>0.667172</td><td>0.299682</td><td>0.0888223</td><td>0.452631</td></tr><tr><th>18</th><td>0.526135</td><td>0.372868</td><td>0.595934</td><td>0.219517</td><td>0.342345</td><td>0.557033</td><td>0.935506</td><td>0.700116</td></tr><tr><th>19</th><td>0.924678</td><td>0.10931</td><td>0.6856</td><td>0.131795</td><td>0.506792</td><td>0.917075</td><td>0.290936</td><td>0.0374959</td></tr><tr><th>20</th><td>0.413287</td><td>0.724632</td><td>0.286455</td><td>0.469745</td><td>0.147335</td><td>0.617939</td><td>0.0531548</td><td>0.811991</td></tr><tr><th>21</th><td>0.247603</td><td>0.655398</td><td>0.576381</td><td>0.726458</td><td>0.942405</td><td>0.425488</td><td>0.791173</td><td>0.58446</td></tr><tr><th>22</th><td>0.518299</td><td>0.413584</td><td>0.585056</td><td>0.396374</td><td>0.951526</td><td>0.817861</td><td>0.105698</td><td>0.361205</td></tr><tr><th>23</th><td>0.108239</td><td>0.839676</td><td>0.789647</td><td>0.105878</td><td>0.61754</td><td>0.452692</td><td>0.455767</td><td>0.533056</td></tr><tr><th>24</th><td>0.35138</td><td>0.404648</td><td>0.720893</td><td>0.707441</td><td>0.765009</td><td>0.865063</td><td>0.634213</td><td>0.664611</td></tr><tr><th>25</th><td>0.00452253</td><td>0.607996</td><td>0.486473</td><td>0.281109</td><td>0.730759</td><td>0.143318</td><td>0.636305</td><td>0.802279</td></tr><tr><th>26</th><td>0.542166</td><td>0.0511993</td><td>0.160612</td><td>0.794342</td><td>0.328388</td><td>0.369641</td><td>0.840697</td><td>0.831327</td></tr><tr><th>27</th><td>0.312066</td><td>0.837975</td><td>0.445165</td><td>0.0114394</td><td>0.0273416</td><td>0.904918</td><td>0.984169</td><td>0.340347</td></tr><tr><th>28</th><td>0.0758103</td><td>0.0496031</td><td>0.276544</td><td>0.826771</td><td>0.944418</td><td>0.146108</td><td>0.613498</td><td>0.905762</td></tr><tr><th>29</th><td>0.164311</td><td>0.883999</td><td>0.186683</td><td>0.981385</td><td>0.510115</td><td>0.217197</td><td>0.063605</td><td>0.408688</td></tr><tr><th>30</th><td>0.618382</td><td>0.627392</td><td>0.0594402</td><td>0.0460238</td><td>0.668559</td><td>0.580662</td><td>0.00332108</td><td>0.785675</td></tr><tr><th>&vellip;</th><td>&vellip;</td><td>&vellip;</td><td>&vellip;</td><td>&vellip;</td><td>&vellip;</td><td>&vellip;</td><td>&vellip;</td><td>&vellip;</td></tr></tbody></table>"
      ],
      "text/latex": [
       "\\begin{tabular}{r|ccccccccc}\n",
       "\t& x1 & x2 & x3 & x4 & x5 & x6 & x7 & x8 & \\\\\n",
       "\t\\hline\n",
       "\t& Float64 & Float64 & Float64 & Float64 & Float64 & Float64 & Float64 & Float64 & \\\\\n",
       "\t\\hline\n",
       "\t1 & 0.0884655 & 0.0510019 & 0.418001 & 0.275263 & 0.196886 & 0.577606 & 0.632162 & 0.365267 & $\\dots$ \\\\\n",
       "\t2 & 0.0238469 & 0.858567 & 0.873395 & 0.0980489 & 0.783281 & 0.992697 & 0.998073 & 0.154986 & $\\dots$ \\\\\n",
       "\t3 & 0.0993084 & 0.173046 & 0.461451 & 0.776819 & 0.688546 & 0.45026 & 0.575941 & 0.379185 & $\\dots$ \\\\\n",
       "\t4 & 0.192213 & 0.868402 & 0.810197 & 0.825681 & 0.107654 & 0.652194 & 0.995758 & 0.992064 & $\\dots$ \\\\\n",
       "\t5 & 0.484915 & 0.781096 & 0.188717 & 0.0551245 & 0.582094 & 0.10756 & 0.69763 & 0.440782 & $\\dots$ \\\\\n",
       "\t6 & 0.647591 & 0.380823 & 0.708158 & 0.688091 & 0.108107 & 0.470009 & 0.316223 & 0.440454 & $\\dots$ \\\\\n",
       "\t7 & 0.669742 & 0.790828 & 0.479396 & 0.494966 & 0.807786 & 0.761803 & 0.104153 & 0.643289 & $\\dots$ \\\\\n",
       "\t8 & 0.922929 & 0.645575 & 0.357334 & 0.866658 & 0.231557 & 0.952013 & 0.367215 & 0.0662225 & $\\dots$ \\\\\n",
       "\t9 & 0.495266 & 0.284814 & 0.0686187 & 0.158368 & 0.895262 & 0.13835 & 0.866163 & 0.558396 & $\\dots$ \\\\\n",
       "\t10 & 0.437317 & 0.161811 & 0.708778 & 0.163434 & 0.810803 & 0.0457139 & 0.339694 & 0.319919 & $\\dots$ \\\\\n",
       "\t11 & 0.288426 & 0.87696 & 0.767848 & 0.113259 & 0.699343 & 0.599908 & 0.0176168 & 0.486346 & $\\dots$ \\\\\n",
       "\t12 & 0.821381 & 0.851951 & 0.299807 & 0.532541 & 0.495983 & 0.497657 & 0.0531582 & 0.85554 & $\\dots$ \\\\\n",
       "\t13 & 0.322532 & 0.494094 & 0.434555 & 0.188559 & 0.920332 & 0.829663 & 0.604228 & 0.29661 & $\\dots$ \\\\\n",
       "\t14 & 0.295109 & 0.803713 & 0.281266 & 0.906927 & 0.223985 & 0.971085 & 0.599117 & 0.824446 & $\\dots$ \\\\\n",
       "\t15 & 0.591672 & 0.588271 & 0.975076 & 0.376939 & 0.0561882 & 0.907194 & 0.1725 & 0.184552 & $\\dots$ \\\\\n",
       "\t16 & 0.701592 & 0.11728 & 0.42524 & 0.0352674 & 0.887161 & 0.724352 & 0.3283 & 0.500421 & $\\dots$ \\\\\n",
       "\t17 & 0.724232 & 0.371164 & 0.557093 & 0.888694 & 0.667172 & 0.299682 & 0.0888223 & 0.452631 & $\\dots$ \\\\\n",
       "\t18 & 0.526135 & 0.372868 & 0.595934 & 0.219517 & 0.342345 & 0.557033 & 0.935506 & 0.700116 & $\\dots$ \\\\\n",
       "\t19 & 0.924678 & 0.10931 & 0.6856 & 0.131795 & 0.506792 & 0.917075 & 0.290936 & 0.0374959 & $\\dots$ \\\\\n",
       "\t20 & 0.413287 & 0.724632 & 0.286455 & 0.469745 & 0.147335 & 0.617939 & 0.0531548 & 0.811991 & $\\dots$ \\\\\n",
       "\t21 & 0.247603 & 0.655398 & 0.576381 & 0.726458 & 0.942405 & 0.425488 & 0.791173 & 0.58446 & $\\dots$ \\\\\n",
       "\t22 & 0.518299 & 0.413584 & 0.585056 & 0.396374 & 0.951526 & 0.817861 & 0.105698 & 0.361205 & $\\dots$ \\\\\n",
       "\t23 & 0.108239 & 0.839676 & 0.789647 & 0.105878 & 0.61754 & 0.452692 & 0.455767 & 0.533056 & $\\dots$ \\\\\n",
       "\t24 & 0.35138 & 0.404648 & 0.720893 & 0.707441 & 0.765009 & 0.865063 & 0.634213 & 0.664611 & $\\dots$ \\\\\n",
       "\t25 & 0.00452253 & 0.607996 & 0.486473 & 0.281109 & 0.730759 & 0.143318 & 0.636305 & 0.802279 & $\\dots$ \\\\\n",
       "\t26 & 0.542166 & 0.0511993 & 0.160612 & 0.794342 & 0.328388 & 0.369641 & 0.840697 & 0.831327 & $\\dots$ \\\\\n",
       "\t27 & 0.312066 & 0.837975 & 0.445165 & 0.0114394 & 0.0273416 & 0.904918 & 0.984169 & 0.340347 & $\\dots$ \\\\\n",
       "\t28 & 0.0758103 & 0.0496031 & 0.276544 & 0.826771 & 0.944418 & 0.146108 & 0.613498 & 0.905762 & $\\dots$ \\\\\n",
       "\t29 & 0.164311 & 0.883999 & 0.186683 & 0.981385 & 0.510115 & 0.217197 & 0.063605 & 0.408688 & $\\dots$ \\\\\n",
       "\t30 & 0.618382 & 0.627392 & 0.0594402 & 0.0460238 & 0.668559 & 0.580662 & 0.00332108 & 0.785675 & $\\dots$ \\\\\n",
       "\t$\\dots$ & $\\dots$ & $\\dots$ & $\\dots$ & $\\dots$ & $\\dots$ & $\\dots$ & $\\dots$ & $\\dots$ &  \\\\\n",
       "\\end{tabular}\n"
      ],
      "text/plain": [
       "\u001b[1m1000000×10 DataFrame\u001b[0m\n",
       "\u001b[1m     Row \u001b[0m│\u001b[1m x1        \u001b[0m\u001b[1m x2        \u001b[0m\u001b[1m x3        \u001b[0m\u001b[1m x4         \u001b[0m\u001b[1m x5       \u001b[0m\u001b[1m x6        \u001b[0m\u001b[1m x\u001b[0m ⋯\n",
       "\u001b[1m         \u001b[0m│\u001b[90m Float64   \u001b[0m\u001b[90m Float64   \u001b[0m\u001b[90m Float64   \u001b[0m\u001b[90m Float64    \u001b[0m\u001b[90m Float64  \u001b[0m\u001b[90m Float64   \u001b[0m\u001b[90m F\u001b[0m ⋯\n",
       "─────────┼──────────────────────────────────────────────────────────────────────\n",
       "       1 │ 0.0884655  0.0510019  0.418001   0.275263    0.196886  0.577606   0 ⋯\n",
       "       2 │ 0.0238469  0.858567   0.873395   0.0980489   0.783281  0.992697   0\n",
       "       3 │ 0.0993084  0.173046   0.461451   0.776819    0.688546  0.45026    0\n",
       "       4 │ 0.192213   0.868402   0.810197   0.825681    0.107654  0.652194   0\n",
       "       5 │ 0.484915   0.781096   0.188717   0.0551245   0.582094  0.10756    0 ⋯\n",
       "       6 │ 0.647591   0.380823   0.708158   0.688091    0.108107  0.470009   0\n",
       "       7 │ 0.669742   0.790828   0.479396   0.494966    0.807786  0.761803   0\n",
       "       8 │ 0.922929   0.645575   0.357334   0.866658    0.231557  0.952013   0\n",
       "       9 │ 0.495266   0.284814   0.0686187  0.158368    0.895262  0.13835    0 ⋯\n",
       "      10 │ 0.437317   0.161811   0.708778   0.163434    0.810803  0.0457139  0\n",
       "      11 │ 0.288426   0.87696    0.767848   0.113259    0.699343  0.599908   0\n",
       "    ⋮    │     ⋮          ⋮          ⋮          ⋮          ⋮          ⋮        ⋱\n",
       "  999991 │ 0.860486   0.564559   0.881784   0.00493387  0.678168  0.940879   0\n",
       "  999992 │ 0.181601   0.835451   0.878254   0.380959    0.964759  0.536982   0 ⋯\n",
       "  999993 │ 0.818771   0.433527   0.0352003  0.0443157   0.329066  0.0603518  0\n",
       "  999994 │ 0.63414    0.622949   0.673378   0.451724    0.550438  0.0160469  0\n",
       "  999995 │ 0.880298   0.496854   0.191839   0.0568151   0.619864  0.236361   0\n",
       "  999996 │ 0.545831   0.140222   0.0436704  0.801964    0.450432  0.295057   0 ⋯\n",
       "  999997 │ 0.107911   0.214325   0.62293    0.595401    0.305428  0.788145   0\n",
       "  999998 │ 0.601765   0.0636031  0.928237   0.464406    0.508043  0.968812   0\n",
       "  999999 │ 0.185094   0.150903   0.477465   0.299377    0.700792  0.400407   0\n",
       " 1000000 │ 0.656654   0.624324   0.165524   0.573496    0.837263  0.848563   0 ⋯\n",
       "\u001b[36m                                               4 columns and 999979 rows omitted\u001b[0m"
      ]
     },
     "execution_count": 25,
     "metadata": {},
     "output_type": "execute_result"
    }
   ],
   "source": [
    "df2 = DataFrame(rand(10^6, 10), :auto)"
   ]
  },
  {
   "cell_type": "code",
   "execution_count": 26,
   "metadata": {},
   "outputs": [
    {
     "name": "stdout",
     "output_type": "stream",
     "text": [
      "  2.174921 seconds (60.18 M allocations: 1.062 GiB, 12.13% gc time, 6.81% compilation time)\n"
     ]
    },
    {
     "data": {
      "text/plain": [
       "1000000-element Vector{Float64}:\n",
       " 3.087291028381489\n",
       " 5.345627504830888\n",
       " 5.235889869866188\n",
       " 7.327630528555932\n",
       " 4.064692319349455\n",
       " 4.778736743160573\n",
       " 5.772862362490546\n",
       " 5.228269781093092\n",
       " 4.816404857302385\n",
       " 3.8098906622639586\n",
       " 4.99862788869052\n",
       " 4.917802521802978\n",
       " 5.961152448858158\n",
       " ⋮\n",
       " 6.0338386399380175\n",
       " 2.454927895878434\n",
       " 5.276538143330482\n",
       " 5.357233468184416\n",
       " 3.845470319321367\n",
       " 6.355833709116523\n",
       " 4.800912227041232\n",
       " 5.151766316639874\n",
       " 5.643323475970824\n",
       " 4.8604648205245224\n",
       " 3.534161598723104\n",
       " 5.294559441519406"
      ]
     },
     "execution_count": 26,
     "metadata": {},
     "output_type": "execute_result"
    }
   ],
   "source": [
    "@time map(sum, eachrow(df2))"
   ]
  },
  {
   "cell_type": "code",
   "execution_count": 27,
   "metadata": {},
   "outputs": [
    {
     "name": "stdout",
     "output_type": "stream",
     "text": [
      "  2.005875 seconds (59.99 M allocations: 1.050 GiB, 4.06% gc time)\n"
     ]
    },
    {
     "data": {
      "text/plain": [
       "1000000-element Vector{Float64}:\n",
       " 3.087291028381489\n",
       " 5.345627504830888\n",
       " 5.235889869866188\n",
       " 7.327630528555932\n",
       " 4.064692319349455\n",
       " 4.778736743160573\n",
       " 5.772862362490546\n",
       " 5.228269781093092\n",
       " 4.816404857302385\n",
       " 3.8098906622639586\n",
       " 4.99862788869052\n",
       " 4.917802521802978\n",
       " 5.961152448858158\n",
       " ⋮\n",
       " 6.0338386399380175\n",
       " 2.454927895878434\n",
       " 5.276538143330482\n",
       " 5.357233468184416\n",
       " 3.845470319321367\n",
       " 6.355833709116523\n",
       " 4.800912227041232\n",
       " 5.151766316639874\n",
       " 5.643323475970824\n",
       " 4.8604648205245224\n",
       " 3.534161598723104\n",
       " 5.294559441519406"
      ]
     },
     "execution_count": 27,
     "metadata": {},
     "output_type": "execute_result"
    }
   ],
   "source": [
    "@time map(sum, eachrow(df2))"
   ]
  },
  {
   "cell_type": "code",
   "execution_count": 28,
   "metadata": {},
   "outputs": [
    {
     "name": "stdout",
     "output_type": "stream",
     "text": [
      "  0.257138 seconds (508.38 k allocations: 38.440 MiB, 3.33% gc time, 90.47% compilation time)\n"
     ]
    },
    {
     "data": {
      "text/plain": [
       "1000000-element Vector{Float64}:\n",
       " 3.087291028381489\n",
       " 5.345627504830888\n",
       " 5.235889869866188\n",
       " 7.327630528555932\n",
       " 4.064692319349455\n",
       " 4.778736743160573\n",
       " 5.772862362490546\n",
       " 5.228269781093092\n",
       " 4.816404857302385\n",
       " 3.8098906622639586\n",
       " 4.99862788869052\n",
       " 4.917802521802978\n",
       " 5.961152448858158\n",
       " ⋮\n",
       " 6.0338386399380175\n",
       " 2.454927895878434\n",
       " 5.276538143330482\n",
       " 5.357233468184416\n",
       " 3.845470319321367\n",
       " 6.355833709116523\n",
       " 4.800912227041232\n",
       " 5.151766316639874\n",
       " 5.643323475970824\n",
       " 4.8604648205245224\n",
       " 3.534161598723104\n",
       " 5.294559441519406"
      ]
     },
     "execution_count": 28,
     "metadata": {},
     "output_type": "execute_result"
    }
   ],
   "source": [
    "@time map(sum, Tables.namedtupleiterator(df2))"
   ]
  },
  {
   "cell_type": "code",
   "execution_count": 29,
   "metadata": {},
   "outputs": [
    {
     "name": "stdout",
     "output_type": "stream",
     "text": [
      "  0.015502 seconds (16 allocations: 7.631 MiB)\n"
     ]
    },
    {
     "data": {
      "text/plain": [
       "1000000-element Vector{Float64}:\n",
       " 3.087291028381489\n",
       " 5.345627504830888\n",
       " 5.235889869866188\n",
       " 7.327630528555932\n",
       " 4.064692319349455\n",
       " 4.778736743160573\n",
       " 5.772862362490546\n",
       " 5.228269781093092\n",
       " 4.816404857302385\n",
       " 3.8098906622639586\n",
       " 4.99862788869052\n",
       " 4.917802521802978\n",
       " 5.961152448858158\n",
       " ⋮\n",
       " 6.0338386399380175\n",
       " 2.454927895878434\n",
       " 5.276538143330482\n",
       " 5.357233468184416\n",
       " 3.845470319321367\n",
       " 6.355833709116523\n",
       " 4.800912227041232\n",
       " 5.151766316639874\n",
       " 5.643323475970824\n",
       " 4.8604648205245224\n",
       " 3.534161598723104\n",
       " 5.294559441519406"
      ]
     },
     "execution_count": 29,
     "metadata": {},
     "output_type": "execute_result"
    }
   ],
   "source": [
    "@time map(sum, Tables.namedtupleiterator(df2))"
   ]
  },
  {
   "cell_type": "markdown",
   "metadata": {},
   "source": [
    "as you can see - this time it is much faster to iterate a type stable container"
   ]
  }
 ],
 "metadata": {
  "@webio": {
   "lastCommId": null,
   "lastKernelId": null
  },
  "kernelspec": {
   "display_name": "Julia 1.6.1",
   "language": "julia",
   "name": "julia-1.6"
  },
  "language_info": {
   "file_extension": ".jl",
   "mimetype": "application/julia",
   "name": "julia",
   "version": "1.6.1"
  }
 },
 "nbformat": 4,
 "nbformat_minor": 1
}
