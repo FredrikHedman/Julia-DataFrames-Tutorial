{
 "cells": [
  {
   "cell_type": "markdown",
   "metadata": {},
   "source": [
    "# Introduction to DataFrames\n",
    "**[Bogumił Kamiński](http://bogumilkaminski.pl/about/), February 13, 2023**"
   ]
  },
  {
   "cell_type": "code",
   "execution_count": 1,
   "metadata": {},
   "outputs": [],
   "source": [
    "using DataFrames"
   ]
  },
  {
   "cell_type": "markdown",
   "metadata": {},
   "source": [
    "## Possible pitfalls"
   ]
  },
  {
   "cell_type": "markdown",
   "metadata": {},
   "source": [
    "### Know what is copied when creating a `DataFrame`"
   ]
  },
  {
   "cell_type": "code",
   "execution_count": 2,
   "metadata": {},
   "outputs": [
    {
     "data": {
      "text/html": [
       "<div><div style = \"float: left;\"><span>3×5 DataFrame</span></div><div style = \"clear: both;\"></div></div><div class = \"data-frame\" style = \"overflow-x: scroll;\"><table class = \"data-frame\" style = \"margin-bottom: 6px;\"><thead><tr class = \"header\"><th class = \"rowNumber\" style = \"font-weight: bold; text-align: right;\">Row</th><th style = \"text-align: left;\">x1</th><th style = \"text-align: left;\">x2</th><th style = \"text-align: left;\">x3</th><th style = \"text-align: left;\">x4</th><th style = \"text-align: left;\">x5</th></tr><tr class = \"subheader headerLastRow\"><th class = \"rowNumber\" style = \"font-weight: bold; text-align: right;\"></th><th title = \"Float64\" style = \"text-align: left;\">Float64</th><th title = \"Float64\" style = \"text-align: left;\">Float64</th><th title = \"Float64\" style = \"text-align: left;\">Float64</th><th title = \"Float64\" style = \"text-align: left;\">Float64</th><th title = \"Float64\" style = \"text-align: left;\">Float64</th></tr></thead><tbody><tr><td class = \"rowNumber\" style = \"font-weight: bold; text-align: right;\">1</td><td style = \"text-align: right;\">0.182172</td><td style = \"text-align: right;\">0.0214047</td><td style = \"text-align: right;\">0.298923</td><td style = \"text-align: right;\">0.431279</td><td style = \"text-align: right;\">0.872178</td></tr><tr><td class = \"rowNumber\" style = \"font-weight: bold; text-align: right;\">2</td><td style = \"text-align: right;\">0.398011</td><td style = \"text-align: right;\">0.0102083</td><td style = \"text-align: right;\">0.321484</td><td style = \"text-align: right;\">0.282343</td><td style = \"text-align: right;\">0.463992</td></tr><tr><td class = \"rowNumber\" style = \"font-weight: bold; text-align: right;\">3</td><td style = \"text-align: right;\">0.15172</td><td style = \"text-align: right;\">0.591452</td><td style = \"text-align: right;\">0.273743</td><td style = \"text-align: right;\">0.636897</td><td style = \"text-align: right;\">0.589512</td></tr></tbody></table></div>"
      ],
      "text/latex": [
       "\\begin{tabular}{r|ccccc}\n",
       "\t& x1 & x2 & x3 & x4 & x5\\\\\n",
       "\t\\hline\n",
       "\t& Float64 & Float64 & Float64 & Float64 & Float64\\\\\n",
       "\t\\hline\n",
       "\t1 & 0.182172 & 0.0214047 & 0.298923 & 0.431279 & 0.872178 \\\\\n",
       "\t2 & 0.398011 & 0.0102083 & 0.321484 & 0.282343 & 0.463992 \\\\\n",
       "\t3 & 0.15172 & 0.591452 & 0.273743 & 0.636897 & 0.589512 \\\\\n",
       "\\end{tabular}\n"
      ],
      "text/plain": [
       "\u001b[1m3×5 DataFrame\u001b[0m\n",
       "\u001b[1m Row \u001b[0m│\u001b[1m x1       \u001b[0m\u001b[1m x2        \u001b[0m\u001b[1m x3       \u001b[0m\u001b[1m x4       \u001b[0m\u001b[1m x5       \u001b[0m\n",
       "     │\u001b[90m Float64  \u001b[0m\u001b[90m Float64   \u001b[0m\u001b[90m Float64  \u001b[0m\u001b[90m Float64  \u001b[0m\u001b[90m Float64  \u001b[0m\n",
       "─────┼───────────────────────────────────────────────────\n",
       "   1 │ 0.182172  0.0214047  0.298923  0.431279  0.872178\n",
       "   2 │ 0.398011  0.0102083  0.321484  0.282343  0.463992\n",
       "   3 │ 0.15172   0.591452   0.273743  0.636897  0.589512"
      ]
     },
     "execution_count": 2,
     "metadata": {},
     "output_type": "execute_result"
    }
   ],
   "source": [
    "x = DataFrame(rand(3, 5), :auto)"
   ]
  },
  {
   "cell_type": "code",
   "execution_count": 3,
   "metadata": {},
   "outputs": [
    {
     "data": {
      "text/plain": [
       "false"
      ]
     },
     "execution_count": 3,
     "metadata": {},
     "output_type": "execute_result"
    }
   ],
   "source": [
    "y = copy(x)\n",
    "x === y # not the same object"
   ]
  },
  {
   "cell_type": "code",
   "execution_count": 4,
   "metadata": {},
   "outputs": [
    {
     "data": {
      "text/plain": [
       "false"
      ]
     },
     "execution_count": 4,
     "metadata": {},
     "output_type": "execute_result"
    }
   ],
   "source": [
    "y = DataFrame(x)\n",
    "x === y"
   ]
  },
  {
   "cell_type": "code",
   "execution_count": 5,
   "metadata": {},
   "outputs": [
    {
     "data": {
      "text/plain": [
       "false"
      ]
     },
     "execution_count": 5,
     "metadata": {},
     "output_type": "execute_result"
    }
   ],
   "source": [
    "any(x[!, i] === y[!, i] for i in ncol(x)) # the columns are also not the same"
   ]
  },
  {
   "cell_type": "code",
   "execution_count": 6,
   "metadata": {},
   "outputs": [
    {
     "data": {
      "text/plain": [
       "false"
      ]
     },
     "execution_count": 6,
     "metadata": {},
     "output_type": "execute_result"
    }
   ],
   "source": [
    "y = DataFrame(x, copycols=false)\n",
    "x === y"
   ]
  },
  {
   "cell_type": "code",
   "execution_count": 7,
   "metadata": {},
   "outputs": [
    {
     "data": {
      "text/plain": [
       "true"
      ]
     },
     "execution_count": 7,
     "metadata": {},
     "output_type": "execute_result"
    }
   ],
   "source": [
    "all(x[!, i] === y[!, i] for i in ncol(x)) # the columns are the same"
   ]
  },
  {
   "cell_type": "code",
   "execution_count": 8,
   "metadata": {},
   "outputs": [
    {
     "data": {
      "text/html": [
       "<div><div style = \"float: left;\"><span>3×2 DataFrame</span></div><div style = \"clear: both;\"></div></div><div class = \"data-frame\" style = \"overflow-x: scroll;\"><table class = \"data-frame\" style = \"margin-bottom: 6px;\"><thead><tr class = \"header\"><th class = \"rowNumber\" style = \"font-weight: bold; text-align: right;\">Row</th><th style = \"text-align: left;\">x</th><th style = \"text-align: left;\">y</th></tr><tr class = \"subheader headerLastRow\"><th class = \"rowNumber\" style = \"font-weight: bold; text-align: right;\"></th><th title = \"Int64\" style = \"text-align: left;\">Int64</th><th title = \"Int64\" style = \"text-align: left;\">Int64</th></tr></thead><tbody><tr><td class = \"rowNumber\" style = \"font-weight: bold; text-align: right;\">1</td><td style = \"text-align: right;\">1</td><td style = \"text-align: right;\">1</td></tr><tr><td class = \"rowNumber\" style = \"font-weight: bold; text-align: right;\">2</td><td style = \"text-align: right;\">2</td><td style = \"text-align: right;\">2</td></tr><tr><td class = \"rowNumber\" style = \"font-weight: bold; text-align: right;\">3</td><td style = \"text-align: right;\">3</td><td style = \"text-align: right;\">3</td></tr></tbody></table></div>"
      ],
      "text/latex": [
       "\\begin{tabular}{r|cc}\n",
       "\t& x & y\\\\\n",
       "\t\\hline\n",
       "\t& Int64 & Int64\\\\\n",
       "\t\\hline\n",
       "\t1 & 1 & 1 \\\\\n",
       "\t2 & 2 & 2 \\\\\n",
       "\t3 & 3 & 3 \\\\\n",
       "\\end{tabular}\n"
      ],
      "text/plain": [
       "\u001b[1m3×2 DataFrame\u001b[0m\n",
       "\u001b[1m Row \u001b[0m│\u001b[1m x     \u001b[0m\u001b[1m y     \u001b[0m\n",
       "     │\u001b[90m Int64 \u001b[0m\u001b[90m Int64 \u001b[0m\n",
       "─────┼──────────────\n",
       "   1 │     1      1\n",
       "   2 │     2      2\n",
       "   3 │     3      3"
      ]
     },
     "execution_count": 8,
     "metadata": {},
     "output_type": "execute_result"
    }
   ],
   "source": [
    "x = 1:3; y = [1, 2, 3]; df = DataFrame(x=x,y=y) # the same when creating data frames using kwarg syntax"
   ]
  },
  {
   "cell_type": "code",
   "execution_count": 9,
   "metadata": {},
   "outputs": [
    {
     "data": {
      "text/plain": [
       "false"
      ]
     },
     "execution_count": 9,
     "metadata": {},
     "output_type": "execute_result"
    }
   ],
   "source": [
    "y === df.y # different object"
   ]
  },
  {
   "cell_type": "code",
   "execution_count": 10,
   "metadata": {},
   "outputs": [
    {
     "data": {
      "text/plain": [
       "(UnitRange{Int64}, Vector{Int64})"
      ]
     },
     "execution_count": 10,
     "metadata": {},
     "output_type": "execute_result"
    }
   ],
   "source": [
    "typeof(x), typeof(df.x) # range is converted to a vector"
   ]
  },
  {
   "cell_type": "code",
   "execution_count": 11,
   "metadata": {},
   "outputs": [
    {
     "data": {
      "text/plain": [
       "false"
      ]
     },
     "execution_count": 11,
     "metadata": {},
     "output_type": "execute_result"
    }
   ],
   "source": [
    "y === df[:, :y] # slicing rows always creates a copy"
   ]
  },
  {
   "cell_type": "markdown",
   "metadata": {},
   "source": [
    "you can avoid copying by using `copycols=false` keyword argument in functions."
   ]
  },
  {
   "cell_type": "code",
   "execution_count": 12,
   "metadata": {},
   "outputs": [
    {
     "data": {
      "text/html": [
       "<div><div style = \"float: left;\"><span>3×2 DataFrame</span></div><div style = \"clear: both;\"></div></div><div class = \"data-frame\" style = \"overflow-x: scroll;\"><table class = \"data-frame\" style = \"margin-bottom: 6px;\"><thead><tr class = \"header\"><th class = \"rowNumber\" style = \"font-weight: bold; text-align: right;\">Row</th><th style = \"text-align: left;\">x</th><th style = \"text-align: left;\">y</th></tr><tr class = \"subheader headerLastRow\"><th class = \"rowNumber\" style = \"font-weight: bold; text-align: right;\"></th><th title = \"Int64\" style = \"text-align: left;\">Int64</th><th title = \"Int64\" style = \"text-align: left;\">Int64</th></tr></thead><tbody><tr><td class = \"rowNumber\" style = \"font-weight: bold; text-align: right;\">1</td><td style = \"text-align: right;\">1</td><td style = \"text-align: right;\">1</td></tr><tr><td class = \"rowNumber\" style = \"font-weight: bold; text-align: right;\">2</td><td style = \"text-align: right;\">2</td><td style = \"text-align: right;\">2</td></tr><tr><td class = \"rowNumber\" style = \"font-weight: bold; text-align: right;\">3</td><td style = \"text-align: right;\">3</td><td style = \"text-align: right;\">3</td></tr></tbody></table></div>"
      ],
      "text/latex": [
       "\\begin{tabular}{r|cc}\n",
       "\t& x & y\\\\\n",
       "\t\\hline\n",
       "\t& Int64 & Int64\\\\\n",
       "\t\\hline\n",
       "\t1 & 1 & 1 \\\\\n",
       "\t2 & 2 & 2 \\\\\n",
       "\t3 & 3 & 3 \\\\\n",
       "\\end{tabular}\n"
      ],
      "text/plain": [
       "\u001b[1m3×2 DataFrame\u001b[0m\n",
       "\u001b[1m Row \u001b[0m│\u001b[1m x     \u001b[0m\u001b[1m y     \u001b[0m\n",
       "     │\u001b[90m Int64 \u001b[0m\u001b[90m Int64 \u001b[0m\n",
       "─────┼──────────────\n",
       "   1 │     1      1\n",
       "   2 │     2      2\n",
       "   3 │     3      3"
      ]
     },
     "execution_count": 12,
     "metadata": {},
     "output_type": "execute_result"
    }
   ],
   "source": [
    "df = DataFrame(x=x,y=y, copycols=false)"
   ]
  },
  {
   "cell_type": "code",
   "execution_count": 13,
   "metadata": {},
   "outputs": [
    {
     "data": {
      "text/plain": [
       "true"
      ]
     },
     "execution_count": 13,
     "metadata": {},
     "output_type": "execute_result"
    }
   ],
   "source": [
    "y === df.y # now it is the same"
   ]
  },
  {
   "cell_type": "code",
   "execution_count": 14,
   "metadata": {},
   "outputs": [
    {
     "data": {
      "text/plain": [
       "false"
      ]
     },
     "execution_count": 14,
     "metadata": {},
     "output_type": "execute_result"
    }
   ],
   "source": [
    "select(df, :y)[!, 1] === y # not the same"
   ]
  },
  {
   "cell_type": "code",
   "execution_count": 15,
   "metadata": {},
   "outputs": [
    {
     "data": {
      "text/plain": [
       "true"
      ]
     },
     "execution_count": 15,
     "metadata": {},
     "output_type": "execute_result"
    }
   ],
   "source": [
    "select(df, :y, copycols=false)[!, 1] === y # the same"
   ]
  },
  {
   "cell_type": "markdown",
   "metadata": {},
   "source": [
    "### Do not modify the parent of `GroupedDataFrame` or `view`"
   ]
  },
  {
   "cell_type": "code",
   "execution_count": 16,
   "metadata": {},
   "outputs": [
    {
     "data": {
      "text/html": [
       "<p><b>GroupedDataFrame with 2 groups based on key: id</b></p><div><div style = \"float: left;\"><span>First Group (3 rows): id = 1</span></div><div style = \"clear: both;\"></div></div><div class = \"data-frame\" style = \"overflow-x: scroll;\"><table class = \"data-frame\" style = \"margin-bottom: 6px;\"><thead><tr class = \"header\"><th class = \"rowNumber\" style = \"font-weight: bold; text-align: right;\">Row</th><th style = \"text-align: left;\">id</th><th style = \"text-align: left;\">x</th></tr><tr class = \"subheader headerLastRow\"><th class = \"rowNumber\" style = \"font-weight: bold; text-align: right;\"></th><th title = \"Int64\" style = \"text-align: left;\">Int64</th><th title = \"Int64\" style = \"text-align: left;\">Int64</th></tr></thead><tbody><tr><td class = \"rowNumber\" style = \"font-weight: bold; text-align: right;\">1</td><td style = \"text-align: right;\">1</td><td style = \"text-align: right;\">1</td></tr><tr><td class = \"rowNumber\" style = \"font-weight: bold; text-align: right;\">2</td><td style = \"text-align: right;\">1</td><td style = \"text-align: right;\">3</td></tr><tr><td class = \"rowNumber\" style = \"font-weight: bold; text-align: right;\">3</td><td style = \"text-align: right;\">1</td><td style = \"text-align: right;\">5</td></tr></tbody></table></div><p>&vellip;</p><div><div style = \"float: left;\"><span>Last Group (3 rows): id = 2</span></div><div style = \"clear: both;\"></div></div><div class = \"data-frame\" style = \"overflow-x: scroll;\"><table class = \"data-frame\" style = \"margin-bottom: 6px;\"><thead><tr class = \"header\"><th class = \"rowNumber\" style = \"font-weight: bold; text-align: right;\">Row</th><th style = \"text-align: left;\">id</th><th style = \"text-align: left;\">x</th></tr><tr class = \"subheader headerLastRow\"><th class = \"rowNumber\" style = \"font-weight: bold; text-align: right;\"></th><th title = \"Int64\" style = \"text-align: left;\">Int64</th><th title = \"Int64\" style = \"text-align: left;\">Int64</th></tr></thead><tbody><tr><td class = \"rowNumber\" style = \"font-weight: bold; text-align: right;\">1</td><td style = \"text-align: right;\">2</td><td style = \"text-align: right;\">2</td></tr><tr><td class = \"rowNumber\" style = \"font-weight: bold; text-align: right;\">2</td><td style = \"text-align: right;\">2</td><td style = \"text-align: right;\">4</td></tr><tr><td class = \"rowNumber\" style = \"font-weight: bold; text-align: right;\">3</td><td style = \"text-align: right;\">2</td><td style = \"text-align: right;\">6</td></tr></tbody></table></div>"
      ],
      "text/latex": [
       "GroupedDataFrame with 2 groups based on key: id\n",
       "\n",
       "First Group (3 rows): id = 1\n",
       "\n",
       "\\begin{tabular}{r|cc}\n",
       "\t& id & x\\\\\n",
       "\t\\hline\n",
       "\t& Int64 & Int64\\\\\n",
       "\t\\hline\n",
       "\t1 & 1 & 1 \\\\\n",
       "\t2 & 1 & 3 \\\\\n",
       "\t3 & 1 & 5 \\\\\n",
       "\\end{tabular}\n",
       "\n",
       "$\\dots$\n",
       "\n",
       "Last Group (3 rows): id = 2\n",
       "\n",
       "\\begin{tabular}{r|cc}\n",
       "\t& id & x\\\\\n",
       "\t\\hline\n",
       "\t& Int64 & Int64\\\\\n",
       "\t\\hline\n",
       "\t1 & 2 & 2 \\\\\n",
       "\t2 & 2 & 4 \\\\\n",
       "\t3 & 2 & 6 \\\\\n",
       "\\end{tabular}\n"
      ],
      "text/plain": [
       "GroupedDataFrame with 2 groups based on key: id\n",
       "First Group (3 rows): id = 1\n",
       "\u001b[1m Row \u001b[0m│\u001b[1m id    \u001b[0m\u001b[1m x     \u001b[0m\n",
       "     │\u001b[90m Int64 \u001b[0m\u001b[90m Int64 \u001b[0m\n",
       "─────┼──────────────\n",
       "   1 │     1      1\n",
       "   2 │     1      3\n",
       "   3 │     1      5\n",
       "⋮\n",
       "Last Group (3 rows): id = 2\n",
       "\u001b[1m Row \u001b[0m│\u001b[1m id    \u001b[0m\u001b[1m x     \u001b[0m\n",
       "     │\u001b[90m Int64 \u001b[0m\u001b[90m Int64 \u001b[0m\n",
       "─────┼──────────────\n",
       "   1 │     2      2\n",
       "   2 │     2      4\n",
       "   3 │     2      6"
      ]
     },
     "execution_count": 16,
     "metadata": {},
     "output_type": "execute_result"
    }
   ],
   "source": [
    "x = DataFrame(id=repeat([1,2], outer=3), x=1:6)\n",
    "g = groupby(x, :id)"
   ]
  },
  {
   "cell_type": "code",
   "execution_count": 17,
   "metadata": {},
   "outputs": [
    {
     "data": {
      "text/html": [
       "<p><b>GroupedDataFrame with 2 groups based on key: id</b></p><div><div style = \"float: left;\"><span>First Group (3 rows): id = 2</span></div><div style = \"clear: both;\"></div></div><div class = \"data-frame\" style = \"overflow-x: scroll;\"><table class = \"data-frame\" style = \"margin-bottom: 6px;\"><thead><tr class = \"header\"><th class = \"rowNumber\" style = \"font-weight: bold; text-align: right;\">Row</th><th style = \"text-align: left;\">id</th><th style = \"text-align: left;\">x</th></tr><tr class = \"subheader headerLastRow\"><th class = \"rowNumber\" style = \"font-weight: bold; text-align: right;\"></th><th title = \"Int64\" style = \"text-align: left;\">Int64</th><th title = \"Int64\" style = \"text-align: left;\">Int64</th></tr></thead><tbody><tr><td class = \"rowNumber\" style = \"font-weight: bold; text-align: right;\">1</td><td style = \"text-align: right;\">2</td><td style = \"text-align: right;\">1</td></tr><tr><td class = \"rowNumber\" style = \"font-weight: bold; text-align: right;\">2</td><td style = \"text-align: right;\">2</td><td style = \"text-align: right;\">3</td></tr><tr><td class = \"rowNumber\" style = \"font-weight: bold; text-align: right;\">3</td><td style = \"text-align: right;\">1</td><td style = \"text-align: right;\">5</td></tr></tbody></table></div><p>&vellip;</p><div><div style = \"float: left;\"><span>Last Group (3 rows): id = 2</span></div><div style = \"clear: both;\"></div></div><div class = \"data-frame\" style = \"overflow-x: scroll;\"><table class = \"data-frame\" style = \"margin-bottom: 6px;\"><thead><tr class = \"header\"><th class = \"rowNumber\" style = \"font-weight: bold; text-align: right;\">Row</th><th style = \"text-align: left;\">id</th><th style = \"text-align: left;\">x</th></tr><tr class = \"subheader headerLastRow\"><th class = \"rowNumber\" style = \"font-weight: bold; text-align: right;\"></th><th title = \"Int64\" style = \"text-align: left;\">Int64</th><th title = \"Int64\" style = \"text-align: left;\">Int64</th></tr></thead><tbody><tr><td class = \"rowNumber\" style = \"font-weight: bold; text-align: right;\">1</td><td style = \"text-align: right;\">2</td><td style = \"text-align: right;\">2</td></tr><tr><td class = \"rowNumber\" style = \"font-weight: bold; text-align: right;\">2</td><td style = \"text-align: right;\">2</td><td style = \"text-align: right;\">4</td></tr><tr><td class = \"rowNumber\" style = \"font-weight: bold; text-align: right;\">3</td><td style = \"text-align: right;\">2</td><td style = \"text-align: right;\">6</td></tr></tbody></table></div>"
      ],
      "text/latex": [
       "GroupedDataFrame with 2 groups based on key: id\n",
       "\n",
       "First Group (3 rows): id = 2\n",
       "\n",
       "\\begin{tabular}{r|cc}\n",
       "\t& id & x\\\\\n",
       "\t\\hline\n",
       "\t& Int64 & Int64\\\\\n",
       "\t\\hline\n",
       "\t1 & 2 & 1 \\\\\n",
       "\t2 & 2 & 3 \\\\\n",
       "\t3 & 1 & 5 \\\\\n",
       "\\end{tabular}\n",
       "\n",
       "$\\dots$\n",
       "\n",
       "Last Group (3 rows): id = 2\n",
       "\n",
       "\\begin{tabular}{r|cc}\n",
       "\t& id & x\\\\\n",
       "\t\\hline\n",
       "\t& Int64 & Int64\\\\\n",
       "\t\\hline\n",
       "\t1 & 2 & 2 \\\\\n",
       "\t2 & 2 & 4 \\\\\n",
       "\t3 & 2 & 6 \\\\\n",
       "\\end{tabular}\n"
      ],
      "text/plain": [
       "GroupedDataFrame with 2 groups based on key: id\n",
       "First Group (3 rows): id = 2\n",
       "\u001b[1m Row \u001b[0m│\u001b[1m id    \u001b[0m\u001b[1m x     \u001b[0m\n",
       "     │\u001b[90m Int64 \u001b[0m\u001b[90m Int64 \u001b[0m\n",
       "─────┼──────────────\n",
       "   1 │     2      1\n",
       "   2 │     2      3\n",
       "   3 │     1      5\n",
       "⋮\n",
       "Last Group (3 rows): id = 2\n",
       "\u001b[1m Row \u001b[0m│\u001b[1m id    \u001b[0m\u001b[1m x     \u001b[0m\n",
       "     │\u001b[90m Int64 \u001b[0m\u001b[90m Int64 \u001b[0m\n",
       "─────┼──────────────\n",
       "   1 │     2      2\n",
       "   2 │     2      4\n",
       "   3 │     2      6"
      ]
     },
     "execution_count": 17,
     "metadata": {},
     "output_type": "execute_result"
    }
   ],
   "source": [
    "x[1:3, 1] = [2,2,2]\n",
    "g # well - it is wrong now, g is only a view"
   ]
  },
  {
   "cell_type": "code",
   "execution_count": 18,
   "metadata": {},
   "outputs": [
    {
     "data": {
      "text/html": [
       "<div><div style = \"float: left;\"><span>2×2 SubDataFrame</span></div><div style = \"clear: both;\"></div></div><div class = \"data-frame\" style = \"overflow-x: scroll;\"><table class = \"data-frame\" style = \"margin-bottom: 6px;\"><thead><tr class = \"header\"><th class = \"rowNumber\" style = \"font-weight: bold; text-align: right;\">Row</th><th style = \"text-align: left;\">id</th><th style = \"text-align: left;\">x</th></tr><tr class = \"subheader headerLastRow\"><th class = \"rowNumber\" style = \"font-weight: bold; text-align: right;\"></th><th title = \"Int64\" style = \"text-align: left;\">Int64</th><th title = \"Int64\" style = \"text-align: left;\">Int64</th></tr></thead><tbody><tr><td class = \"rowNumber\" style = \"font-weight: bold; text-align: right;\">1</td><td style = \"text-align: right;\">1</td><td style = \"text-align: right;\">5</td></tr><tr><td class = \"rowNumber\" style = \"font-weight: bold; text-align: right;\">2</td><td style = \"text-align: right;\">2</td><td style = \"text-align: right;\">6</td></tr></tbody></table></div>"
      ],
      "text/latex": [
       "\\begin{tabular}{r|cc}\n",
       "\t& id & x\\\\\n",
       "\t\\hline\n",
       "\t& Int64 & Int64\\\\\n",
       "\t\\hline\n",
       "\t1 & 1 & 5 \\\\\n",
       "\t2 & 2 & 6 \\\\\n",
       "\\end{tabular}\n"
      ],
      "text/plain": [
       "\u001b[1m2×2 SubDataFrame\u001b[0m\n",
       "\u001b[1m Row \u001b[0m│\u001b[1m id    \u001b[0m\u001b[1m x     \u001b[0m\n",
       "     │\u001b[90m Int64 \u001b[0m\u001b[90m Int64 \u001b[0m\n",
       "─────┼──────────────\n",
       "   1 │     1      5\n",
       "   2 │     2      6"
      ]
     },
     "execution_count": 18,
     "metadata": {},
     "output_type": "execute_result"
    }
   ],
   "source": [
    "s = view(x, 5:6, :)"
   ]
  },
  {
   "cell_type": "code",
   "execution_count": 19,
   "metadata": {},
   "outputs": [
    {
     "data": {
      "text/html": [
       "<div><div style = \"float: left;\"><span>2×2 DataFrame</span></div><div style = \"clear: both;\"></div></div><div class = \"data-frame\" style = \"overflow-x: scroll;\"><table class = \"data-frame\" style = \"margin-bottom: 6px;\"><thead><tr class = \"header\"><th class = \"rowNumber\" style = \"font-weight: bold; text-align: right;\">Row</th><th style = \"text-align: left;\">id</th><th style = \"text-align: left;\">x</th></tr><tr class = \"subheader headerLastRow\"><th class = \"rowNumber\" style = \"font-weight: bold; text-align: right;\"></th><th title = \"Int64\" style = \"text-align: left;\">Int64</th><th title = \"Int64\" style = \"text-align: left;\">Int64</th></tr></thead><tbody><tr><td class = \"rowNumber\" style = \"font-weight: bold; text-align: right;\">1</td><td style = \"text-align: right;\">2</td><td style = \"text-align: right;\">1</td></tr><tr><td class = \"rowNumber\" style = \"font-weight: bold; text-align: right;\">2</td><td style = \"text-align: right;\">2</td><td style = \"text-align: right;\">2</td></tr></tbody></table></div>"
      ],
      "text/latex": [
       "\\begin{tabular}{r|cc}\n",
       "\t& id & x\\\\\n",
       "\t\\hline\n",
       "\t& Int64 & Int64\\\\\n",
       "\t\\hline\n",
       "\t1 & 2 & 1 \\\\\n",
       "\t2 & 2 & 2 \\\\\n",
       "\\end{tabular}\n"
      ],
      "text/plain": [
       "\u001b[1m2×2 DataFrame\u001b[0m\n",
       "\u001b[1m Row \u001b[0m│\u001b[1m id    \u001b[0m\u001b[1m x     \u001b[0m\n",
       "     │\u001b[90m Int64 \u001b[0m\u001b[90m Int64 \u001b[0m\n",
       "─────┼──────────────\n",
       "   1 │     2      1\n",
       "   2 │     2      2"
      ]
     },
     "execution_count": 19,
     "metadata": {},
     "output_type": "execute_result"
    }
   ],
   "source": [
    "delete!(x, 3:6)"
   ]
  },
  {
   "cell_type": "code",
   "execution_count": 20,
   "metadata": {},
   "outputs": [
    {
     "ename": "BoundsError",
     "evalue": "BoundsError: attempt to access 2-element Vector{Int64} at index [5:6]",
     "output_type": "error",
     "traceback": [
      "BoundsError: attempt to access 2-element Vector{Int64} at index [5:6]",
      "",
      "Stacktrace:",
      "  [1] throw_boundserror(A::Vector{Int64}, I::Tuple{UnitRange{Int64}})",
      "    @ Base .\\abstractarray.jl:744",
      "  [2] checkbounds",
      "    @ .\\abstractarray.jl:709 [inlined]",
      "  [3] view(A::Vector{Int64}, I::UnitRange{Int64})",
      "    @ Base .\\subarray.jl:177",
      "  [4] view",
      "    @ C:\\Users\\bogum\\.julia\\packages\\DataFrames\\LteEl\\src\\subdataframe\\subdataframe.jl:140 [inlined]",
      "  [5] getindex",
      "    @ C:\\Users\\bogum\\.julia\\packages\\DataFrames\\LteEl\\src\\subdataframe\\subdataframe.jl:175 [inlined]",
      "  [6] getindex",
      "    @ C:\\Users\\bogum\\.julia\\packages\\DataFrames\\LteEl\\src\\abstractdataframe\\iteration.jl:198 [inlined]",
      "  [7] iterate(itr::DataFrames.DataFrameColumns{SubDataFrame{DataFrame, DataFrames.Index, UnitRange{Int64}}}, i::Int64)",
      "    @ DataFrames C:\\Users\\bogum\\.julia\\packages\\DataFrames\\LteEl\\src\\abstractdataframe\\iteration.jl:196",
      "  [8] iterate",
      "    @ C:\\Users\\bogum\\.julia\\packages\\DataFrames\\LteEl\\src\\abstractdataframe\\iteration.jl:196 [inlined]",
      "  [9] _show(io::IOContext{IOBuffer}, df::SubDataFrame{DataFrame, DataFrames.Index, UnitRange{Int64}}; allrows::Bool, allcols::Bool, rowlabel::Symbol, summary::Bool, eltypes::Bool, rowid::Nothing, truncate::Int64, kwargs::Base.Pairs{Symbol, Union{}, Tuple{}, NamedTuple{(), Tuple{}}})",
      "    @ DataFrames C:\\Users\\bogum\\.julia\\packages\\DataFrames\\LteEl\\src\\abstractdataframe\\show.jl:163",
      " [10] #show#837",
      "    @ C:\\Users\\bogum\\.julia\\packages\\DataFrames\\LteEl\\src\\abstractdataframe\\show.jl:349 [inlined]",
      " [11] show(io::IOContext{IOBuffer}, df::SubDataFrame{DataFrame, DataFrames.Index, UnitRange{Int64}})",
      "    @ DataFrames C:\\Users\\bogum\\.julia\\packages\\DataFrames\\LteEl\\src\\abstractdataframe\\show.jl:336",
      " [12] #show#863",
      "    @ C:\\Users\\bogum\\.julia\\packages\\DataFrames\\LteEl\\src\\abstractdataframe\\io.jl:150 [inlined]",
      " [13] show",
      "    @ C:\\Users\\bogum\\.julia\\packages\\DataFrames\\LteEl\\src\\abstractdataframe\\io.jl:150 [inlined]",
      " [14] limitstringmime(mime::MIME{Symbol(\"text/plain\")}, x::SubDataFrame{DataFrame, DataFrames.Index, UnitRange{Int64}})",
      "    @ IJulia C:\\Users\\bogum\\.julia\\packages\\IJulia\\6TIq1\\src\\inline.jl:43",
      " [15] display_mimestring",
      "    @ C:\\Users\\bogum\\.julia\\packages\\IJulia\\6TIq1\\src\\display.jl:71 [inlined]",
      " [16] display_dict(x::SubDataFrame{DataFrame, DataFrames.Index, UnitRange{Int64}})",
      "    @ IJulia C:\\Users\\bogum\\.julia\\packages\\IJulia\\6TIq1\\src\\display.jl:102",
      " [17] #invokelatest#2",
      "    @ .\\essentials.jl:816 [inlined]",
      " [18] invokelatest",
      "    @ .\\essentials.jl:813 [inlined]",
      " [19] execute_request(socket::ZMQ.Socket, msg::IJulia.Msg)",
      "    @ IJulia C:\\Users\\bogum\\.julia\\packages\\IJulia\\6TIq1\\src\\execute_request.jl:112",
      " [20] #invokelatest#2",
      "    @ .\\essentials.jl:816 [inlined]",
      " [21] invokelatest",
      "    @ .\\essentials.jl:813 [inlined]",
      " [22] eventloop(socket::ZMQ.Socket)",
      "    @ IJulia C:\\Users\\bogum\\.julia\\packages\\IJulia\\6TIq1\\src\\eventloop.jl:8",
      " [23] (::IJulia.var\"#15#18\")()",
      "    @ IJulia .\\task.jl:514"
     ]
    }
   ],
   "source": [
    "s # error"
   ]
  },
  {
   "cell_type": "markdown",
   "metadata": {},
   "source": [
    "### Single column selection for `DataFrame` creates aliases with `!` and `getproperty` syntax and copies with `:`"
   ]
  },
  {
   "cell_type": "code",
   "execution_count": 21,
   "metadata": {},
   "outputs": [
    {
     "data": {
      "text/html": [
       "<div><div style = \"float: left;\"><span>3×5 DataFrame</span></div><div style = \"clear: both;\"></div></div><div class = \"data-frame\" style = \"overflow-x: scroll;\"><table class = \"data-frame\" style = \"margin-bottom: 6px;\"><thead><tr class = \"header\"><th class = \"rowNumber\" style = \"font-weight: bold; text-align: right;\">Row</th><th style = \"text-align: left;\">a</th><th style = \"text-align: left;\">b</th><th style = \"text-align: left;\">c</th><th style = \"text-align: left;\">d</th><th style = \"text-align: left;\">e</th></tr><tr class = \"subheader headerLastRow\"><th class = \"rowNumber\" style = \"font-weight: bold; text-align: right;\"></th><th title = \"Int64\" style = \"text-align: left;\">Int64</th><th title = \"Int64\" style = \"text-align: left;\">Int64</th><th title = \"Int64\" style = \"text-align: left;\">Int64</th><th title = \"Int64\" style = \"text-align: left;\">Int64</th><th title = \"Int64\" style = \"text-align: left;\">Int64</th></tr></thead><tbody><tr><td class = \"rowNumber\" style = \"font-weight: bold; text-align: right;\">1</td><td style = \"text-align: right;\">1</td><td style = \"text-align: right;\">1</td><td style = \"text-align: right;\">1</td><td style = \"text-align: right;\">1</td><td style = \"text-align: right;\">1</td></tr><tr><td class = \"rowNumber\" style = \"font-weight: bold; text-align: right;\">2</td><td style = \"text-align: right;\">2</td><td style = \"text-align: right;\">2</td><td style = \"text-align: right;\">2</td><td style = \"text-align: right;\">2</td><td style = \"text-align: right;\">2</td></tr><tr><td class = \"rowNumber\" style = \"font-weight: bold; text-align: right;\">3</td><td style = \"text-align: right;\">3</td><td style = \"text-align: right;\">3</td><td style = \"text-align: right;\">3</td><td style = \"text-align: right;\">3</td><td style = \"text-align: right;\">3</td></tr></tbody></table></div>"
      ],
      "text/latex": [
       "\\begin{tabular}{r|ccccc}\n",
       "\t& a & b & c & d & e\\\\\n",
       "\t\\hline\n",
       "\t& Int64 & Int64 & Int64 & Int64 & Int64\\\\\n",
       "\t\\hline\n",
       "\t1 & 1 & 1 & 1 & 1 & 1 \\\\\n",
       "\t2 & 2 & 2 & 2 & 2 & 2 \\\\\n",
       "\t3 & 3 & 3 & 3 & 3 & 3 \\\\\n",
       "\\end{tabular}\n"
      ],
      "text/plain": [
       "\u001b[1m3×5 DataFrame\u001b[0m\n",
       "\u001b[1m Row \u001b[0m│\u001b[1m a     \u001b[0m\u001b[1m b     \u001b[0m\u001b[1m c     \u001b[0m\u001b[1m d     \u001b[0m\u001b[1m e     \u001b[0m\n",
       "     │\u001b[90m Int64 \u001b[0m\u001b[90m Int64 \u001b[0m\u001b[90m Int64 \u001b[0m\u001b[90m Int64 \u001b[0m\u001b[90m Int64 \u001b[0m\n",
       "─────┼───────────────────────────────────\n",
       "   1 │     1      1      1      1      1\n",
       "   2 │     2      2      2      2      2\n",
       "   3 │     3      3      3      3      3"
      ]
     },
     "metadata": {},
     "output_type": "display_data"
    },
    {
     "data": {
      "text/html": [
       "<div><div style = \"float: left;\"><span>3×5 DataFrame</span></div><div style = \"clear: both;\"></div></div><div class = \"data-frame\" style = \"overflow-x: scroll;\"><table class = \"data-frame\" style = \"margin-bottom: 6px;\"><thead><tr class = \"header\"><th class = \"rowNumber\" style = \"font-weight: bold; text-align: right;\">Row</th><th style = \"text-align: left;\">a</th><th style = \"text-align: left;\">b</th><th style = \"text-align: left;\">c</th><th style = \"text-align: left;\">d</th><th style = \"text-align: left;\">e</th></tr><tr class = \"subheader headerLastRow\"><th class = \"rowNumber\" style = \"font-weight: bold; text-align: right;\"></th><th title = \"Int64\" style = \"text-align: left;\">Int64</th><th title = \"Int64\" style = \"text-align: left;\">Int64</th><th title = \"Int64\" style = \"text-align: left;\">Int64</th><th title = \"Int64\" style = \"text-align: left;\">Int64</th><th title = \"Int64\" style = \"text-align: left;\">Int64</th></tr></thead><tbody><tr><td class = \"rowNumber\" style = \"font-weight: bold; text-align: right;\">1</td><td style = \"text-align: right;\">100</td><td style = \"text-align: right;\">100</td><td style = \"text-align: right;\">1</td><td style = \"text-align: right;\">1</td><td style = \"text-align: right;\">1</td></tr><tr><td class = \"rowNumber\" style = \"font-weight: bold; text-align: right;\">2</td><td style = \"text-align: right;\">2</td><td style = \"text-align: right;\">2</td><td style = \"text-align: right;\">2</td><td style = \"text-align: right;\">2</td><td style = \"text-align: right;\">2</td></tr><tr><td class = \"rowNumber\" style = \"font-weight: bold; text-align: right;\">3</td><td style = \"text-align: right;\">3</td><td style = \"text-align: right;\">3</td><td style = \"text-align: right;\">3</td><td style = \"text-align: right;\">3</td><td style = \"text-align: right;\">3</td></tr></tbody></table></div>"
      ],
      "text/latex": [
       "\\begin{tabular}{r|ccccc}\n",
       "\t& a & b & c & d & e\\\\\n",
       "\t\\hline\n",
       "\t& Int64 & Int64 & Int64 & Int64 & Int64\\\\\n",
       "\t\\hline\n",
       "\t1 & 100 & 100 & 1 & 1 & 1 \\\\\n",
       "\t2 & 2 & 2 & 2 & 2 & 2 \\\\\n",
       "\t3 & 3 & 3 & 3 & 3 & 3 \\\\\n",
       "\\end{tabular}\n"
      ],
      "text/plain": [
       "\u001b[1m3×5 DataFrame\u001b[0m\n",
       "\u001b[1m Row \u001b[0m│\u001b[1m a     \u001b[0m\u001b[1m b     \u001b[0m\u001b[1m c     \u001b[0m\u001b[1m d     \u001b[0m\u001b[1m e     \u001b[0m\n",
       "     │\u001b[90m Int64 \u001b[0m\u001b[90m Int64 \u001b[0m\u001b[90m Int64 \u001b[0m\u001b[90m Int64 \u001b[0m\u001b[90m Int64 \u001b[0m\n",
       "─────┼───────────────────────────────────\n",
       "   1 │   100    100      1      1      1\n",
       "   2 │     2      2      2      2      2\n",
       "   3 │     3      3      3      3      3"
      ]
     },
     "metadata": {},
     "output_type": "display_data"
    }
   ],
   "source": [
    "x = DataFrame(a=1:3)\n",
    "x.b = x[!, 1] # alias\n",
    "x.c = x[:, 1] # copy\n",
    "x.d = x[!, 1][:] # copy\n",
    "x.e = copy(x[!, 1]) # explicit copy\n",
    "display(x)\n",
    "x[1,1] = 100\n",
    "display(x)"
   ]
  },
  {
   "cell_type": "markdown",
   "metadata": {},
   "source": [
    "### When iterating rows of a data frame use `eachrow` to avoid compilation cost (wide tables), but `Tables.namedtupleiterator` for fast execution (tall tables)"
   ]
  },
  {
   "cell_type": "markdown",
   "metadata": {},
   "source": [
    "this table is wide"
   ]
  },
  {
   "cell_type": "code",
   "execution_count": 22,
   "metadata": {},
   "outputs": [
    {
     "data": {
      "text/html": [
       "<div><div style = \"float: left;\"><span>2×900 DataFrame</span></div><div style = \"float: right;\"><span style = \"font-style: italic;\">800 columns omitted</span></div><div style = \"clear: both;\"></div></div><div class = \"data-frame\" style = \"overflow-x: scroll;\"><table class = \"data-frame\" style = \"margin-bottom: 6px;\"><thead><tr class = \"header\"><th class = \"rowNumber\" style = \"font-weight: bold; text-align: right;\">Row</th><th style = \"text-align: left;\">x1</th><th style = \"text-align: left;\">x2</th><th style = \"text-align: left;\">x3</th><th style = \"text-align: left;\">x4</th><th style = \"text-align: left;\">x5</th><th style = \"text-align: left;\">x6</th><th style = \"text-align: left;\">x7</th><th style = \"text-align: left;\">x8</th><th style = \"text-align: left;\">x9</th><th style = \"text-align: left;\">x10</th><th style = \"text-align: left;\">x11</th><th style = \"text-align: left;\">x12</th><th style = \"text-align: left;\">x13</th><th style = \"text-align: left;\">x14</th><th style = \"text-align: left;\">x15</th><th style = \"text-align: left;\">x16</th><th style = \"text-align: left;\">x17</th><th style = \"text-align: left;\">x18</th><th style = \"text-align: left;\">x19</th><th style = \"text-align: left;\">x20</th><th style = \"text-align: left;\">x21</th><th style = \"text-align: left;\">x22</th><th style = \"text-align: left;\">x23</th><th style = \"text-align: left;\">x24</th><th style = \"text-align: left;\">x25</th><th style = \"text-align: left;\">x26</th><th style = \"text-align: left;\">x27</th><th style = \"text-align: left;\">x28</th><th style = \"text-align: left;\">x29</th><th style = \"text-align: left;\">x30</th><th style = \"text-align: left;\">x31</th><th style = \"text-align: left;\">x32</th><th style = \"text-align: left;\">x33</th><th style = \"text-align: left;\">x34</th><th style = \"text-align: left;\">x35</th><th style = \"text-align: left;\">x36</th><th style = \"text-align: left;\">x37</th><th style = \"text-align: left;\">x38</th><th style = \"text-align: left;\">x39</th><th style = \"text-align: left;\">x40</th><th style = \"text-align: left;\">x41</th><th style = \"text-align: left;\">x42</th><th style = \"text-align: left;\">x43</th><th style = \"text-align: left;\">x44</th><th style = \"text-align: left;\">x45</th><th style = \"text-align: left;\">x46</th><th style = \"text-align: left;\">x47</th><th style = \"text-align: left;\">x48</th><th style = \"text-align: left;\">x49</th><th style = \"text-align: left;\">x50</th><th style = \"text-align: left;\">x51</th><th style = \"text-align: left;\">x52</th><th style = \"text-align: left;\">x53</th><th style = \"text-align: left;\">x54</th><th style = \"text-align: left;\">x55</th><th style = \"text-align: left;\">x56</th><th style = \"text-align: left;\">x57</th><th style = \"text-align: left;\">x58</th><th style = \"text-align: left;\">x59</th><th style = \"text-align: left;\">x60</th><th style = \"text-align: left;\">x61</th><th style = \"text-align: left;\">x62</th><th style = \"text-align: left;\">x63</th><th style = \"text-align: left;\">x64</th><th style = \"text-align: left;\">x65</th><th style = \"text-align: left;\">x66</th><th style = \"text-align: left;\">x67</th><th style = \"text-align: left;\">x68</th><th style = \"text-align: left;\">x69</th><th style = \"text-align: left;\">x70</th><th style = \"text-align: left;\">x71</th><th style = \"text-align: left;\">x72</th><th style = \"text-align: left;\">x73</th><th style = \"text-align: left;\">x74</th><th style = \"text-align: left;\">x75</th><th style = \"text-align: left;\">x76</th><th style = \"text-align: left;\">x77</th><th style = \"text-align: left;\">x78</th><th style = \"text-align: left;\">x79</th><th style = \"text-align: left;\">x80</th><th style = \"text-align: left;\">x81</th><th style = \"text-align: left;\">x82</th><th style = \"text-align: left;\">x83</th><th style = \"text-align: left;\">x84</th><th style = \"text-align: left;\">x85</th><th style = \"text-align: left;\">x86</th><th style = \"text-align: left;\">x87</th><th style = \"text-align: left;\">x88</th><th style = \"text-align: left;\">x89</th><th style = \"text-align: left;\">x90</th><th style = \"text-align: left;\">x91</th><th style = \"text-align: left;\">x92</th><th style = \"text-align: left;\">x93</th><th style = \"text-align: left;\">x94</th><th style = \"text-align: left;\">x95</th><th style = \"text-align: left;\">x96</th><th style = \"text-align: left;\">x97</th><th style = \"text-align: left;\">x98</th><th style = \"text-align: left;\">x99</th><th style = \"text-align: left;\">x100</th><th style = \"text-align: right;\">&ctdot;</th></tr><tr class = \"subheader headerLastRow\"><th class = \"rowNumber\" style = \"font-weight: bold; text-align: right;\"></th><th title = \"Float64\" style = \"text-align: left;\">Float64</th><th title = \"Int64\" style = \"text-align: left;\">Int64</th><th title = \"Char\" style = \"text-align: left;\">Char</th><th title = \"Char\" style = \"text-align: left;\">Char</th><th title = \"Bool\" style = \"text-align: left;\">Bool</th><th title = \"Float64\" style = \"text-align: left;\">Float64</th><th title = \"Int64\" style = \"text-align: left;\">Int64</th><th title = \"Int64\" style = \"text-align: left;\">Int64</th><th title = \"Int64\" style = \"text-align: left;\">Int64</th><th title = \"Int64\" style = \"text-align: left;\">Int64</th><th title = \"Bool\" style = \"text-align: left;\">Bool</th><th title = \"Char\" style = \"text-align: left;\">Char</th><th title = \"Bool\" style = \"text-align: left;\">Bool</th><th title = \"Bool\" style = \"text-align: left;\">Bool</th><th title = \"Int64\" style = \"text-align: left;\">Int64</th><th title = \"Float64\" style = \"text-align: left;\">Float64</th><th title = \"Int64\" style = \"text-align: left;\">Int64</th><th title = \"Float64\" style = \"text-align: left;\">Float64</th><th title = \"Char\" style = \"text-align: left;\">Char</th><th title = \"Float64\" style = \"text-align: left;\">Float64</th><th title = \"Float64\" style = \"text-align: left;\">Float64</th><th title = \"Bool\" style = \"text-align: left;\">Bool</th><th title = \"Int64\" style = \"text-align: left;\">Int64</th><th title = \"Float64\" style = \"text-align: left;\">Float64</th><th title = \"Bool\" style = \"text-align: left;\">Bool</th><th title = \"Bool\" style = \"text-align: left;\">Bool</th><th title = \"Char\" style = \"text-align: left;\">Char</th><th title = \"Int64\" style = \"text-align: left;\">Int64</th><th title = \"Bool\" style = \"text-align: left;\">Bool</th><th title = \"Bool\" style = \"text-align: left;\">Bool</th><th title = \"Int64\" style = \"text-align: left;\">Int64</th><th title = \"Int64\" style = \"text-align: left;\">Int64</th><th title = \"Bool\" style = \"text-align: left;\">Bool</th><th title = \"Bool\" style = \"text-align: left;\">Bool</th><th title = \"Float64\" style = \"text-align: left;\">Float64</th><th title = \"Bool\" style = \"text-align: left;\">Bool</th><th title = \"Float64\" style = \"text-align: left;\">Float64</th><th title = \"Char\" style = \"text-align: left;\">Char</th><th title = \"Char\" style = \"text-align: left;\">Char</th><th title = \"Char\" style = \"text-align: left;\">Char</th><th title = \"Int64\" style = \"text-align: left;\">Int64</th><th title = \"Int64\" style = \"text-align: left;\">Int64</th><th title = \"Char\" style = \"text-align: left;\">Char</th><th title = \"Float64\" style = \"text-align: left;\">Float64</th><th title = \"Bool\" style = \"text-align: left;\">Bool</th><th title = \"Float64\" style = \"text-align: left;\">Float64</th><th title = \"Int64\" style = \"text-align: left;\">Int64</th><th title = \"Float64\" style = \"text-align: left;\">Float64</th><th title = \"Bool\" style = \"text-align: left;\">Bool</th><th title = \"Int64\" style = \"text-align: left;\">Int64</th><th title = \"Bool\" style = \"text-align: left;\">Bool</th><th title = \"Bool\" style = \"text-align: left;\">Bool</th><th title = \"Float64\" style = \"text-align: left;\">Float64</th><th title = \"Char\" style = \"text-align: left;\">Char</th><th title = \"Float64\" style = \"text-align: left;\">Float64</th><th title = \"Bool\" style = \"text-align: left;\">Bool</th><th title = \"Bool\" style = \"text-align: left;\">Bool</th><th title = \"Float64\" style = \"text-align: left;\">Float64</th><th title = \"Int64\" style = \"text-align: left;\">Int64</th><th title = \"Int64\" style = \"text-align: left;\">Int64</th><th title = \"Float64\" style = \"text-align: left;\">Float64</th><th title = \"Float64\" style = \"text-align: left;\">Float64</th><th title = \"Bool\" style = \"text-align: left;\">Bool</th><th title = \"Float64\" style = \"text-align: left;\">Float64</th><th title = \"Int64\" style = \"text-align: left;\">Int64</th><th title = \"Float64\" style = \"text-align: left;\">Float64</th><th title = \"Char\" style = \"text-align: left;\">Char</th><th title = \"Bool\" style = \"text-align: left;\">Bool</th><th title = \"Int64\" style = \"text-align: left;\">Int64</th><th title = \"Int64\" style = \"text-align: left;\">Int64</th><th title = \"Int64\" style = \"text-align: left;\">Int64</th><th title = \"Bool\" style = \"text-align: left;\">Bool</th><th title = \"Char\" style = \"text-align: left;\">Char</th><th title = \"Bool\" style = \"text-align: left;\">Bool</th><th title = \"Char\" style = \"text-align: left;\">Char</th><th title = \"Float64\" style = \"text-align: left;\">Float64</th><th title = \"Bool\" style = \"text-align: left;\">Bool</th><th title = \"Float64\" style = \"text-align: left;\">Float64</th><th title = \"Int64\" style = \"text-align: left;\">Int64</th><th title = \"Bool\" style = \"text-align: left;\">Bool</th><th title = \"Char\" style = \"text-align: left;\">Char</th><th title = \"Char\" style = \"text-align: left;\">Char</th><th title = \"Float64\" style = \"text-align: left;\">Float64</th><th title = \"Char\" style = \"text-align: left;\">Char</th><th title = \"Int64\" style = \"text-align: left;\">Int64</th><th title = \"Char\" style = \"text-align: left;\">Char</th><th title = \"Bool\" style = \"text-align: left;\">Bool</th><th title = \"Bool\" style = \"text-align: left;\">Bool</th><th title = \"Bool\" style = \"text-align: left;\">Bool</th><th title = \"Char\" style = \"text-align: left;\">Char</th><th title = \"Char\" style = \"text-align: left;\">Char</th><th title = \"Float64\" style = \"text-align: left;\">Float64</th><th title = \"Bool\" style = \"text-align: left;\">Bool</th><th title = \"Int64\" style = \"text-align: left;\">Int64</th><th title = \"Char\" style = \"text-align: left;\">Char</th><th title = \"Int64\" style = \"text-align: left;\">Int64</th><th title = \"Int64\" style = \"text-align: left;\">Int64</th><th title = \"Bool\" style = \"text-align: left;\">Bool</th><th title = \"Int64\" style = \"text-align: left;\">Int64</th><th title = \"Float64\" style = \"text-align: left;\">Float64</th><th title = \"Float64\" style = \"text-align: right;\">&ctdot;</th></tr></thead><tbody><tr><td class = \"rowNumber\" style = \"font-weight: bold; text-align: right;\">1</td><td style = \"text-align: right;\">1.0</td><td style = \"text-align: right;\">1</td><td style = \"text-align: left;\">a</td><td style = \"text-align: left;\">a</td><td style = \"text-align: right;\">false</td><td style = \"text-align: right;\">1.0</td><td style = \"text-align: right;\">1</td><td style = \"text-align: right;\">1</td><td style = \"text-align: right;\">1</td><td style = \"text-align: right;\">1</td><td style = \"text-align: right;\">false</td><td style = \"text-align: left;\">a</td><td style = \"text-align: right;\">false</td><td style = \"text-align: right;\">false</td><td style = \"text-align: right;\">1</td><td style = \"text-align: right;\">1.0</td><td style = \"text-align: right;\">1</td><td style = \"text-align: right;\">1.0</td><td style = \"text-align: left;\">a</td><td style = \"text-align: right;\">1.0</td><td style = \"text-align: right;\">1.0</td><td style = \"text-align: right;\">false</td><td style = \"text-align: right;\">1</td><td style = \"text-align: right;\">1.0</td><td style = \"text-align: right;\">false</td><td style = \"text-align: right;\">false</td><td style = \"text-align: left;\">a</td><td style = \"text-align: right;\">1</td><td style = \"text-align: right;\">false</td><td style = \"text-align: right;\">false</td><td style = \"text-align: right;\">1</td><td style = \"text-align: right;\">1</td><td style = \"text-align: right;\">false</td><td style = \"text-align: right;\">false</td><td style = \"text-align: right;\">1.0</td><td style = \"text-align: right;\">false</td><td style = \"text-align: right;\">1.0</td><td style = \"text-align: left;\">a</td><td style = \"text-align: left;\">a</td><td style = \"text-align: left;\">a</td><td style = \"text-align: right;\">1</td><td style = \"text-align: right;\">1</td><td style = \"text-align: left;\">a</td><td style = \"text-align: right;\">1.0</td><td style = \"text-align: right;\">false</td><td style = \"text-align: right;\">1.0</td><td style = \"text-align: right;\">1</td><td style = \"text-align: right;\">1.0</td><td style = \"text-align: right;\">false</td><td style = \"text-align: right;\">1</td><td style = \"text-align: right;\">false</td><td style = \"text-align: right;\">false</td><td style = \"text-align: right;\">1.0</td><td style = \"text-align: left;\">a</td><td style = \"text-align: right;\">1.0</td><td style = \"text-align: right;\">false</td><td style = \"text-align: right;\">false</td><td style = \"text-align: right;\">1.0</td><td style = \"text-align: right;\">1</td><td style = \"text-align: right;\">1</td><td style = \"text-align: right;\">1.0</td><td style = \"text-align: right;\">1.0</td><td style = \"text-align: right;\">false</td><td style = \"text-align: right;\">1.0</td><td style = \"text-align: right;\">1</td><td style = \"text-align: right;\">1.0</td><td style = \"text-align: left;\">a</td><td style = \"text-align: right;\">false</td><td style = \"text-align: right;\">1</td><td style = \"text-align: right;\">1</td><td style = \"text-align: right;\">1</td><td style = \"text-align: right;\">false</td><td style = \"text-align: left;\">a</td><td style = \"text-align: right;\">false</td><td style = \"text-align: left;\">a</td><td style = \"text-align: right;\">1.0</td><td style = \"text-align: right;\">false</td><td style = \"text-align: right;\">1.0</td><td style = \"text-align: right;\">1</td><td style = \"text-align: right;\">false</td><td style = \"text-align: left;\">a</td><td style = \"text-align: left;\">a</td><td style = \"text-align: right;\">1.0</td><td style = \"text-align: left;\">a</td><td style = \"text-align: right;\">1</td><td style = \"text-align: left;\">a</td><td style = \"text-align: right;\">false</td><td style = \"text-align: right;\">false</td><td style = \"text-align: right;\">false</td><td style = \"text-align: left;\">a</td><td style = \"text-align: left;\">a</td><td style = \"text-align: right;\">1.0</td><td style = \"text-align: right;\">false</td><td style = \"text-align: right;\">1</td><td style = \"text-align: left;\">a</td><td style = \"text-align: right;\">1</td><td style = \"text-align: right;\">1</td><td style = \"text-align: right;\">false</td><td style = \"text-align: right;\">1</td><td style = \"text-align: right;\">1.0</td><td style = \"text-align: right;\">&ctdot;</td></tr><tr><td class = \"rowNumber\" style = \"font-weight: bold; text-align: right;\">2</td><td style = \"text-align: right;\">2.0</td><td style = \"text-align: right;\">2</td><td style = \"text-align: left;\">b</td><td style = \"text-align: left;\">b</td><td style = \"text-align: right;\">true</td><td style = \"text-align: right;\">2.0</td><td style = \"text-align: right;\">2</td><td style = \"text-align: right;\">2</td><td style = \"text-align: right;\">2</td><td style = \"text-align: right;\">2</td><td style = \"text-align: right;\">true</td><td style = \"text-align: left;\">b</td><td style = \"text-align: right;\">true</td><td style = \"text-align: right;\">true</td><td style = \"text-align: right;\">2</td><td style = \"text-align: right;\">2.0</td><td style = \"text-align: right;\">2</td><td style = \"text-align: right;\">2.0</td><td style = \"text-align: left;\">b</td><td style = \"text-align: right;\">2.0</td><td style = \"text-align: right;\">2.0</td><td style = \"text-align: right;\">true</td><td style = \"text-align: right;\">2</td><td style = \"text-align: right;\">2.0</td><td style = \"text-align: right;\">true</td><td style = \"text-align: right;\">true</td><td style = \"text-align: left;\">b</td><td style = \"text-align: right;\">2</td><td style = \"text-align: right;\">true</td><td style = \"text-align: right;\">true</td><td style = \"text-align: right;\">2</td><td style = \"text-align: right;\">2</td><td style = \"text-align: right;\">true</td><td style = \"text-align: right;\">true</td><td style = \"text-align: right;\">2.0</td><td style = \"text-align: right;\">true</td><td style = \"text-align: right;\">2.0</td><td style = \"text-align: left;\">b</td><td style = \"text-align: left;\">b</td><td style = \"text-align: left;\">b</td><td style = \"text-align: right;\">2</td><td style = \"text-align: right;\">2</td><td style = \"text-align: left;\">b</td><td style = \"text-align: right;\">2.0</td><td style = \"text-align: right;\">true</td><td style = \"text-align: right;\">2.0</td><td style = \"text-align: right;\">2</td><td style = \"text-align: right;\">2.0</td><td style = \"text-align: right;\">true</td><td style = \"text-align: right;\">2</td><td style = \"text-align: right;\">true</td><td style = \"text-align: right;\">true</td><td style = \"text-align: right;\">2.0</td><td style = \"text-align: left;\">b</td><td style = \"text-align: right;\">2.0</td><td style = \"text-align: right;\">true</td><td style = \"text-align: right;\">true</td><td style = \"text-align: right;\">2.0</td><td style = \"text-align: right;\">2</td><td style = \"text-align: right;\">2</td><td style = \"text-align: right;\">2.0</td><td style = \"text-align: right;\">2.0</td><td style = \"text-align: right;\">true</td><td style = \"text-align: right;\">2.0</td><td style = \"text-align: right;\">2</td><td style = \"text-align: right;\">2.0</td><td style = \"text-align: left;\">b</td><td style = \"text-align: right;\">true</td><td style = \"text-align: right;\">2</td><td style = \"text-align: right;\">2</td><td style = \"text-align: right;\">2</td><td style = \"text-align: right;\">true</td><td style = \"text-align: left;\">b</td><td style = \"text-align: right;\">true</td><td style = \"text-align: left;\">b</td><td style = \"text-align: right;\">2.0</td><td style = \"text-align: right;\">true</td><td style = \"text-align: right;\">2.0</td><td style = \"text-align: right;\">2</td><td style = \"text-align: right;\">true</td><td style = \"text-align: left;\">b</td><td style = \"text-align: left;\">b</td><td style = \"text-align: right;\">2.0</td><td style = \"text-align: left;\">b</td><td style = \"text-align: right;\">2</td><td style = \"text-align: left;\">b</td><td style = \"text-align: right;\">true</td><td style = \"text-align: right;\">true</td><td style = \"text-align: right;\">true</td><td style = \"text-align: left;\">b</td><td style = \"text-align: left;\">b</td><td style = \"text-align: right;\">2.0</td><td style = \"text-align: right;\">true</td><td style = \"text-align: right;\">2</td><td style = \"text-align: left;\">b</td><td style = \"text-align: right;\">2</td><td style = \"text-align: right;\">2</td><td style = \"text-align: right;\">true</td><td style = \"text-align: right;\">2</td><td style = \"text-align: right;\">2.0</td><td style = \"text-align: right;\">&ctdot;</td></tr></tbody></table></div>"
      ],
      "text/latex": [
       "\\begin{tabular}{r|ccccccccccccc}\n",
       "\t& x1 & x2 & x3 & x4 & x5 & x6 & x7 & x8 & x9 & x10 & x11 & x12 & \\\\\n",
       "\t\\hline\n",
       "\t& Float64 & Int64 & Char & Char & Bool & Float64 & Int64 & Int64 & Int64 & Int64 & Bool & Char & \\\\\n",
       "\t\\hline\n",
       "\t1 & 1.0 & 1 & a & a & 0 & 1.0 & 1 & 1 & 1 & 1 & 0 & a & $\\dots$ \\\\\n",
       "\t2 & 2.0 & 2 & b & b & 1 & 2.0 & 2 & 2 & 2 & 2 & 1 & b & $\\dots$ \\\\\n",
       "\\end{tabular}\n"
      ],
      "text/plain": [
       "\u001b[1m2×900 DataFrame\u001b[0m\n",
       "\u001b[1m Row \u001b[0m│\u001b[1m x1      \u001b[0m\u001b[1m x2    \u001b[0m\u001b[1m x3   \u001b[0m\u001b[1m x4   \u001b[0m\u001b[1m x5    \u001b[0m\u001b[1m x6      \u001b[0m\u001b[1m x7    \u001b[0m\u001b[1m x8    \u001b[0m\u001b[1m x9    \u001b[0m\u001b[1m x10   \u001b[0m\u001b[1m\u001b[0m ⋯\n",
       "     │\u001b[90m Float64 \u001b[0m\u001b[90m Int64 \u001b[0m\u001b[90m Char \u001b[0m\u001b[90m Char \u001b[0m\u001b[90m Bool  \u001b[0m\u001b[90m Float64 \u001b[0m\u001b[90m Int64 \u001b[0m\u001b[90m Int64 \u001b[0m\u001b[90m Int64 \u001b[0m\u001b[90m Int64 \u001b[0m\u001b[90m\u001b[0m ⋯\n",
       "─────┼──────────────────────────────────────────────────────────────────────────\n",
       "   1 │     1.0      1  a     a     false      1.0      1      1      1      1  ⋯\n",
       "   2 │     2.0      2  b     b      true      2.0      2      2      2      2\n",
       "\u001b[36m                                                             890 columns omitted\u001b[0m"
      ]
     },
     "execution_count": 22,
     "metadata": {},
     "output_type": "execute_result"
    }
   ],
   "source": [
    "df1 = DataFrame([rand([1:2, 'a':'b', false:true, 1.0:2.0]) for i in 1:900], :auto)"
   ]
  },
  {
   "cell_type": "code",
   "execution_count": 23,
   "metadata": {},
   "outputs": [
    {
     "name": "stdout",
     "output_type": "stream",
     "text": [
      "  0.039638 seconds (66.81 k allocations: 4.511 MiB, 99.90% compilation time)\n"
     ]
    },
    {
     "data": {
      "text/plain": [
       "2-element Vector{DataFrameRow}:\n",
       " \u001b[1mDataFrameRow\u001b[0m\n",
       "\u001b[1m Row \u001b[0m│\u001b[1m x1      \u001b[0m\u001b[1m x2    \u001b[0m\u001b[1m x3   \u001b[0m\u001b[1m x4   \u001b[0m\u001b[1m x5    \u001b[0m\u001b[1m x6      \u001b[0m\u001b[1m x7    \u001b[0m\u001b[1m x8    \u001b[0m\u001b[1m x9    \u001b[0m\u001b[1m x10   \u001b[0m\u001b[1m\u001b[0m ⋯\n",
       "     │\u001b[90m Float64 \u001b[0m\u001b[90m Int64 \u001b[0m\u001b[90m Char \u001b[0m\u001b[90m Char \u001b[0m\u001b[90m Bool  \u001b[0m\u001b[90m Float64 \u001b[0m\u001b[90m Int64 \u001b[0m\u001b[90m Int64 \u001b[0m\u001b[90m Int64 \u001b[0m\u001b[90m Int64 \u001b[0m\u001b[90m\u001b[0m ⋯\n",
       "─────┼──────────────────────────────────────────────────────────────────────────\n",
       "   1 │     1.0      1  a     a     false      1.0      1      1      1      1  ⋯\n",
       "\u001b[36m                                                             890 columns omitted\u001b[0m\n",
       " \u001b[1mDataFrameRow\u001b[0m\n",
       "\u001b[1m Row \u001b[0m│\u001b[1m x1      \u001b[0m\u001b[1m x2    \u001b[0m\u001b[1m x3   \u001b[0m\u001b[1m x4   \u001b[0m\u001b[1m x5   \u001b[0m\u001b[1m x6      \u001b[0m\u001b[1m x7    \u001b[0m\u001b[1m x8    \u001b[0m\u001b[1m x9    \u001b[0m\u001b[1m x10   \u001b[0m\u001b[1m \u001b[0m ⋯\n",
       "     │\u001b[90m Float64 \u001b[0m\u001b[90m Int64 \u001b[0m\u001b[90m Char \u001b[0m\u001b[90m Char \u001b[0m\u001b[90m Bool \u001b[0m\u001b[90m Float64 \u001b[0m\u001b[90m Int64 \u001b[0m\u001b[90m Int64 \u001b[0m\u001b[90m Int64 \u001b[0m\u001b[90m Int64 \u001b[0m\u001b[90m \u001b[0m ⋯\n",
       "─────┼──────────────────────────────────────────────────────────────────────────\n",
       "   2 │     2.0      2  b     b     true      2.0      2      2      2      2   ⋯\n",
       "\u001b[36m                                                             890 columns omitted\u001b[0m"
      ]
     },
     "execution_count": 23,
     "metadata": {},
     "output_type": "execute_result"
    }
   ],
   "source": [
    "@time collect(eachrow(df1))"
   ]
  },
  {
   "cell_type": "code",
   "execution_count": 24,
   "metadata": {},
   "outputs": [
    {
     "name": "stdout",
     "output_type": "stream",
     "text": [
      "  7.774781 seconds (1.64 M allocations: 116.145 MiB, 0.30% gc time, 99.88% compilation time)\n"
     ]
    }
   ],
   "source": [
    "@time collect(Tables.namedtupleiterator(df1));"
   ]
  },
  {
   "cell_type": "markdown",
   "metadata": {},
   "source": [
    "as you can see the time to compile `Tables.namedtupleiterator` is very large in this case, and it would get much worse if the table was wider (that is why we include this tip in pitfalls notebook)"
   ]
  },
  {
   "cell_type": "markdown",
   "metadata": {},
   "source": [
    "the table below is tall"
   ]
  },
  {
   "cell_type": "code",
   "execution_count": 25,
   "metadata": {},
   "outputs": [
    {
     "data": {
      "text/html": [
       "<div><div style = \"float: left;\"><span>1000000×10 DataFrame</span></div><div style = \"float: right;\"><span style = \"font-style: italic;\">999975 rows omitted</span></div><div style = \"clear: both;\"></div></div><div class = \"data-frame\" style = \"overflow-x: scroll;\"><table class = \"data-frame\" style = \"margin-bottom: 6px;\"><thead><tr class = \"header\"><th class = \"rowNumber\" style = \"font-weight: bold; text-align: right;\">Row</th><th style = \"text-align: left;\">x1</th><th style = \"text-align: left;\">x2</th><th style = \"text-align: left;\">x3</th><th style = \"text-align: left;\">x4</th><th style = \"text-align: left;\">x5</th><th style = \"text-align: left;\">x6</th><th style = \"text-align: left;\">x7</th><th style = \"text-align: left;\">x8</th><th style = \"text-align: left;\">x9</th><th style = \"text-align: left;\">x10</th></tr><tr class = \"subheader headerLastRow\"><th class = \"rowNumber\" style = \"font-weight: bold; text-align: right;\"></th><th title = \"Float64\" style = \"text-align: left;\">Float64</th><th title = \"Float64\" style = \"text-align: left;\">Float64</th><th title = \"Float64\" style = \"text-align: left;\">Float64</th><th title = \"Float64\" style = \"text-align: left;\">Float64</th><th title = \"Float64\" style = \"text-align: left;\">Float64</th><th title = \"Float64\" style = \"text-align: left;\">Float64</th><th title = \"Float64\" style = \"text-align: left;\">Float64</th><th title = \"Float64\" style = \"text-align: left;\">Float64</th><th title = \"Float64\" style = \"text-align: left;\">Float64</th><th title = \"Float64\" style = \"text-align: left;\">Float64</th></tr></thead><tbody><tr><td class = \"rowNumber\" style = \"font-weight: bold; text-align: right;\">1</td><td style = \"text-align: right;\">0.424322</td><td style = \"text-align: right;\">0.0387172</td><td style = \"text-align: right;\">0.165538</td><td style = \"text-align: right;\">0.375359</td><td style = \"text-align: right;\">0.124302</td><td style = \"text-align: right;\">0.0640515</td><td style = \"text-align: right;\">0.12196</td><td style = \"text-align: right;\">0.586493</td><td style = \"text-align: right;\">0.604638</td><td style = \"text-align: right;\">0.703147</td></tr><tr><td class = \"rowNumber\" style = \"font-weight: bold; text-align: right;\">2</td><td style = \"text-align: right;\">0.15205</td><td style = \"text-align: right;\">0.272963</td><td style = \"text-align: right;\">0.700006</td><td style = \"text-align: right;\">0.829304</td><td style = \"text-align: right;\">0.0415525</td><td style = \"text-align: right;\">0.943028</td><td style = \"text-align: right;\">0.477391</td><td style = \"text-align: right;\">0.920519</td><td style = \"text-align: right;\">0.733945</td><td style = \"text-align: right;\">0.38232</td></tr><tr><td class = \"rowNumber\" style = \"font-weight: bold; text-align: right;\">3</td><td style = \"text-align: right;\">0.725465</td><td style = \"text-align: right;\">0.580529</td><td style = \"text-align: right;\">0.50084</td><td style = \"text-align: right;\">0.987348</td><td style = \"text-align: right;\">0.075047</td><td style = \"text-align: right;\">0.558718</td><td style = \"text-align: right;\">0.676676</td><td style = \"text-align: right;\">0.947075</td><td style = \"text-align: right;\">0.409558</td><td style = \"text-align: right;\">0.66122</td></tr><tr><td class = \"rowNumber\" style = \"font-weight: bold; text-align: right;\">4</td><td style = \"text-align: right;\">0.925171</td><td style = \"text-align: right;\">0.318553</td><td style = \"text-align: right;\">0.812868</td><td style = \"text-align: right;\">0.401339</td><td style = \"text-align: right;\">0.604567</td><td style = \"text-align: right;\">0.269032</td><td style = \"text-align: right;\">0.916789</td><td style = \"text-align: right;\">0.900742</td><td style = \"text-align: right;\">0.147204</td><td style = \"text-align: right;\">0.398988</td></tr><tr><td class = \"rowNumber\" style = \"font-weight: bold; text-align: right;\">5</td><td style = \"text-align: right;\">0.246163</td><td style = \"text-align: right;\">0.226364</td><td style = \"text-align: right;\">0.31503</td><td style = \"text-align: right;\">0.148128</td><td style = \"text-align: right;\">0.369622</td><td style = \"text-align: right;\">0.150685</td><td style = \"text-align: right;\">0.102971</td><td style = \"text-align: right;\">0.230194</td><td style = \"text-align: right;\">0.182942</td><td style = \"text-align: right;\">0.709785</td></tr><tr><td class = \"rowNumber\" style = \"font-weight: bold; text-align: right;\">6</td><td style = \"text-align: right;\">0.0492007</td><td style = \"text-align: right;\">0.794896</td><td style = \"text-align: right;\">0.60956</td><td style = \"text-align: right;\">0.816386</td><td style = \"text-align: right;\">0.11619</td><td style = \"text-align: right;\">0.801362</td><td style = \"text-align: right;\">0.686194</td><td style = \"text-align: right;\">0.301658</td><td style = \"text-align: right;\">0.507337</td><td style = \"text-align: right;\">0.135642</td></tr><tr><td class = \"rowNumber\" style = \"font-weight: bold; text-align: right;\">7</td><td style = \"text-align: right;\">0.946628</td><td style = \"text-align: right;\">0.0157797</td><td style = \"text-align: right;\">0.568566</td><td style = \"text-align: right;\">0.336721</td><td style = \"text-align: right;\">0.414166</td><td style = \"text-align: right;\">0.430364</td><td style = \"text-align: right;\">0.842273</td><td style = \"text-align: right;\">0.146307</td><td style = \"text-align: right;\">0.964439</td><td style = \"text-align: right;\">0.152112</td></tr><tr><td class = \"rowNumber\" style = \"font-weight: bold; text-align: right;\">8</td><td style = \"text-align: right;\">0.821027</td><td style = \"text-align: right;\">0.539961</td><td style = \"text-align: right;\">0.951991</td><td style = \"text-align: right;\">0.0557496</td><td style = \"text-align: right;\">0.307656</td><td style = \"text-align: right;\">0.00224519</td><td style = \"text-align: right;\">0.948003</td><td style = \"text-align: right;\">0.629882</td><td style = \"text-align: right;\">0.076703</td><td style = \"text-align: right;\">0.963577</td></tr><tr><td class = \"rowNumber\" style = \"font-weight: bold; text-align: right;\">9</td><td style = \"text-align: right;\">0.215563</td><td style = \"text-align: right;\">0.799691</td><td style = \"text-align: right;\">0.430948</td><td style = \"text-align: right;\">0.456424</td><td style = \"text-align: right;\">0.750694</td><td style = \"text-align: right;\">0.511513</td><td style = \"text-align: right;\">0.102725</td><td style = \"text-align: right;\">0.952334</td><td style = \"text-align: right;\">0.443177</td><td style = \"text-align: right;\">0.128398</td></tr><tr><td class = \"rowNumber\" style = \"font-weight: bold; text-align: right;\">10</td><td style = \"text-align: right;\">0.351084</td><td style = \"text-align: right;\">0.648419</td><td style = \"text-align: right;\">0.922247</td><td style = \"text-align: right;\">0.221091</td><td style = \"text-align: right;\">0.321099</td><td style = \"text-align: right;\">0.239239</td><td style = \"text-align: right;\">0.367316</td><td style = \"text-align: right;\">0.698181</td><td style = \"text-align: right;\">0.137452</td><td style = \"text-align: right;\">0.744402</td></tr><tr><td class = \"rowNumber\" style = \"font-weight: bold; text-align: right;\">11</td><td style = \"text-align: right;\">0.634526</td><td style = \"text-align: right;\">0.200147</td><td style = \"text-align: right;\">0.0238826</td><td style = \"text-align: right;\">0.68533</td><td style = \"text-align: right;\">0.364414</td><td style = \"text-align: right;\">0.833254</td><td style = \"text-align: right;\">0.31153</td><td style = \"text-align: right;\">0.37502</td><td style = \"text-align: right;\">0.00581241</td><td style = \"text-align: right;\">0.233852</td></tr><tr><td class = \"rowNumber\" style = \"font-weight: bold; text-align: right;\">12</td><td style = \"text-align: right;\">0.448756</td><td style = \"text-align: right;\">0.101825</td><td style = \"text-align: right;\">0.631599</td><td style = \"text-align: right;\">0.437243</td><td style = \"text-align: right;\">0.35259</td><td style = \"text-align: right;\">0.636154</td><td style = \"text-align: right;\">0.122082</td><td style = \"text-align: right;\">0.202788</td><td style = \"text-align: right;\">0.939381</td><td style = \"text-align: right;\">0.833234</td></tr><tr><td class = \"rowNumber\" style = \"font-weight: bold; text-align: right;\">13</td><td style = \"text-align: right;\">0.135853</td><td style = \"text-align: right;\">0.484475</td><td style = \"text-align: right;\">0.92664</td><td style = \"text-align: right;\">0.0126425</td><td style = \"text-align: right;\">0.865088</td><td style = \"text-align: right;\">0.181231</td><td style = \"text-align: right;\">0.524171</td><td style = \"text-align: right;\">0.424756</td><td style = \"text-align: right;\">0.0367793</td><td style = \"text-align: right;\">0.856461</td></tr><tr><td style = \"text-align: right;\">&vellip;</td><td style = \"text-align: right;\">&vellip;</td><td style = \"text-align: right;\">&vellip;</td><td style = \"text-align: right;\">&vellip;</td><td style = \"text-align: right;\">&vellip;</td><td style = \"text-align: right;\">&vellip;</td><td style = \"text-align: right;\">&vellip;</td><td style = \"text-align: right;\">&vellip;</td><td style = \"text-align: right;\">&vellip;</td><td style = \"text-align: right;\">&vellip;</td><td style = \"text-align: right;\">&vellip;</td></tr><tr><td class = \"rowNumber\" style = \"font-weight: bold; text-align: right;\">999989</td><td style = \"text-align: right;\">0.231906</td><td style = \"text-align: right;\">0.532146</td><td style = \"text-align: right;\">0.446583</td><td style = \"text-align: right;\">0.0479473</td><td style = \"text-align: right;\">0.761418</td><td style = \"text-align: right;\">0.254846</td><td style = \"text-align: right;\">0.100642</td><td style = \"text-align: right;\">0.796148</td><td style = \"text-align: right;\">0.340285</td><td style = \"text-align: right;\">0.514327</td></tr><tr><td class = \"rowNumber\" style = \"font-weight: bold; text-align: right;\">999990</td><td style = \"text-align: right;\">0.432072</td><td style = \"text-align: right;\">0.00947262</td><td style = \"text-align: right;\">0.454363</td><td style = \"text-align: right;\">0.295801</td><td style = \"text-align: right;\">0.625069</td><td style = \"text-align: right;\">0.0480738</td><td style = \"text-align: right;\">0.218288</td><td style = \"text-align: right;\">0.238328</td><td style = \"text-align: right;\">0.414531</td><td style = \"text-align: right;\">0.510436</td></tr><tr><td class = \"rowNumber\" style = \"font-weight: bold; text-align: right;\">999991</td><td style = \"text-align: right;\">0.293058</td><td style = \"text-align: right;\">0.85798</td><td style = \"text-align: right;\">0.0908207</td><td style = \"text-align: right;\">0.0407962</td><td style = \"text-align: right;\">0.439286</td><td style = \"text-align: right;\">0.397058</td><td style = \"text-align: right;\">0.812895</td><td style = \"text-align: right;\">0.0623947</td><td style = \"text-align: right;\">0.859286</td><td style = \"text-align: right;\">0.548074</td></tr><tr><td class = \"rowNumber\" style = \"font-weight: bold; text-align: right;\">999992</td><td style = \"text-align: right;\">0.747334</td><td style = \"text-align: right;\">0.0841135</td><td style = \"text-align: right;\">0.822291</td><td style = \"text-align: right;\">0.456747</td><td style = \"text-align: right;\">0.0539644</td><td style = \"text-align: right;\">0.718927</td><td style = \"text-align: right;\">0.366689</td><td style = \"text-align: right;\">0.566142</td><td style = \"text-align: right;\">0.71731</td><td style = \"text-align: right;\">0.0635235</td></tr><tr><td class = \"rowNumber\" style = \"font-weight: bold; text-align: right;\">999993</td><td style = \"text-align: right;\">0.307358</td><td style = \"text-align: right;\">0.68353</td><td style = \"text-align: right;\">0.437273</td><td style = \"text-align: right;\">0.282132</td><td style = \"text-align: right;\">0.337247</td><td style = \"text-align: right;\">0.581644</td><td style = \"text-align: right;\">0.120104</td><td style = \"text-align: right;\">0.74646</td><td style = \"text-align: right;\">0.149621</td><td style = \"text-align: right;\">0.0423545</td></tr><tr><td class = \"rowNumber\" style = \"font-weight: bold; text-align: right;\">999994</td><td style = \"text-align: right;\">0.710704</td><td style = \"text-align: right;\">0.26435</td><td style = \"text-align: right;\">0.0705538</td><td style = \"text-align: right;\">0.192525</td><td style = \"text-align: right;\">0.30919</td><td style = \"text-align: right;\">0.0334383</td><td style = \"text-align: right;\">0.543724</td><td style = \"text-align: right;\">0.156188</td><td style = \"text-align: right;\">0.231032</td><td style = \"text-align: right;\">0.82887</td></tr><tr><td class = \"rowNumber\" style = \"font-weight: bold; text-align: right;\">999995</td><td style = \"text-align: right;\">0.125242</td><td style = \"text-align: right;\">0.828246</td><td style = \"text-align: right;\">0.383085</td><td style = \"text-align: right;\">0.970571</td><td style = \"text-align: right;\">0.72649</td><td style = \"text-align: right;\">0.371941</td><td style = \"text-align: right;\">0.877713</td><td style = \"text-align: right;\">0.960275</td><td style = \"text-align: right;\">0.191343</td><td style = \"text-align: right;\">0.50226</td></tr><tr><td class = \"rowNumber\" style = \"font-weight: bold; text-align: right;\">999996</td><td style = \"text-align: right;\">0.012753</td><td style = \"text-align: right;\">0.149198</td><td style = \"text-align: right;\">0.374865</td><td style = \"text-align: right;\">0.879607</td><td style = \"text-align: right;\">0.647115</td><td style = \"text-align: right;\">0.114821</td><td style = \"text-align: right;\">0.0537263</td><td style = \"text-align: right;\">0.683975</td><td style = \"text-align: right;\">0.270931</td><td style = \"text-align: right;\">0.334178</td></tr><tr><td class = \"rowNumber\" style = \"font-weight: bold; text-align: right;\">999997</td><td style = \"text-align: right;\">0.725933</td><td style = \"text-align: right;\">0.505753</td><td style = \"text-align: right;\">0.196926</td><td style = \"text-align: right;\">0.252256</td><td style = \"text-align: right;\">0.595012</td><td style = \"text-align: right;\">0.99685</td><td style = \"text-align: right;\">0.652626</td><td style = \"text-align: right;\">0.0591113</td><td style = \"text-align: right;\">0.110663</td><td style = \"text-align: right;\">0.00211617</td></tr><tr><td class = \"rowNumber\" style = \"font-weight: bold; text-align: right;\">999998</td><td style = \"text-align: right;\">0.421539</td><td style = \"text-align: right;\">0.76732</td><td style = \"text-align: right;\">0.799875</td><td style = \"text-align: right;\">2.48301e-5</td><td style = \"text-align: right;\">0.405756</td><td style = \"text-align: right;\">0.608365</td><td style = \"text-align: right;\">0.416099</td><td style = \"text-align: right;\">0.976028</td><td style = \"text-align: right;\">0.220407</td><td style = \"text-align: right;\">0.986781</td></tr><tr><td class = \"rowNumber\" style = \"font-weight: bold; text-align: right;\">999999</td><td style = \"text-align: right;\">0.106546</td><td style = \"text-align: right;\">0.71378</td><td style = \"text-align: right;\">0.529052</td><td style = \"text-align: right;\">0.978746</td><td style = \"text-align: right;\">0.968754</td><td style = \"text-align: right;\">0.0432323</td><td style = \"text-align: right;\">0.80262</td><td style = \"text-align: right;\">0.988589</td><td style = \"text-align: right;\">0.514948</td><td style = \"text-align: right;\">0.924076</td></tr><tr><td class = \"rowNumber\" style = \"font-weight: bold; text-align: right;\">1000000</td><td style = \"text-align: right;\">0.102737</td><td style = \"text-align: right;\">0.646347</td><td style = \"text-align: right;\">0.594512</td><td style = \"text-align: right;\">0.429091</td><td style = \"text-align: right;\">0.720344</td><td style = \"text-align: right;\">0.460733</td><td style = \"text-align: right;\">0.0614539</td><td style = \"text-align: right;\">0.516155</td><td style = \"text-align: right;\">0.23304</td><td style = \"text-align: right;\">0.110741</td></tr></tbody></table></div>"
      ],
      "text/latex": [
       "\\begin{tabular}{r|cccccccc}\n",
       "\t& x1 & x2 & x3 & x4 & x5 & x6 & x7 & \\\\\n",
       "\t\\hline\n",
       "\t& Float64 & Float64 & Float64 & Float64 & Float64 & Float64 & Float64 & \\\\\n",
       "\t\\hline\n",
       "\t1 & 0.424322 & 0.0387172 & 0.165538 & 0.375359 & 0.124302 & 0.0640515 & 0.12196 & $\\dots$ \\\\\n",
       "\t2 & 0.15205 & 0.272963 & 0.700006 & 0.829304 & 0.0415525 & 0.943028 & 0.477391 & $\\dots$ \\\\\n",
       "\t3 & 0.725465 & 0.580529 & 0.50084 & 0.987348 & 0.075047 & 0.558718 & 0.676676 & $\\dots$ \\\\\n",
       "\t4 & 0.925171 & 0.318553 & 0.812868 & 0.401339 & 0.604567 & 0.269032 & 0.916789 & $\\dots$ \\\\\n",
       "\t5 & 0.246163 & 0.226364 & 0.31503 & 0.148128 & 0.369622 & 0.150685 & 0.102971 & $\\dots$ \\\\\n",
       "\t6 & 0.0492007 & 0.794896 & 0.60956 & 0.816386 & 0.11619 & 0.801362 & 0.686194 & $\\dots$ \\\\\n",
       "\t7 & 0.946628 & 0.0157797 & 0.568566 & 0.336721 & 0.414166 & 0.430364 & 0.842273 & $\\dots$ \\\\\n",
       "\t8 & 0.821027 & 0.539961 & 0.951991 & 0.0557496 & 0.307656 & 0.00224519 & 0.948003 & $\\dots$ \\\\\n",
       "\t9 & 0.215563 & 0.799691 & 0.430948 & 0.456424 & 0.750694 & 0.511513 & 0.102725 & $\\dots$ \\\\\n",
       "\t10 & 0.351084 & 0.648419 & 0.922247 & 0.221091 & 0.321099 & 0.239239 & 0.367316 & $\\dots$ \\\\\n",
       "\t11 & 0.634526 & 0.200147 & 0.0238826 & 0.68533 & 0.364414 & 0.833254 & 0.31153 & $\\dots$ \\\\\n",
       "\t12 & 0.448756 & 0.101825 & 0.631599 & 0.437243 & 0.35259 & 0.636154 & 0.122082 & $\\dots$ \\\\\n",
       "\t13 & 0.135853 & 0.484475 & 0.92664 & 0.0126425 & 0.865088 & 0.181231 & 0.524171 & $\\dots$ \\\\\n",
       "\t14 & 0.50085 & 0.603397 & 0.896835 & 0.466855 & 0.587581 & 0.941894 & 0.504338 & $\\dots$ \\\\\n",
       "\t15 & 0.722534 & 0.898753 & 0.963802 & 0.577375 & 0.816186 & 0.347593 & 0.312672 & $\\dots$ \\\\\n",
       "\t16 & 0.656654 & 0.653684 & 0.24894 & 0.240923 & 0.67514 & 0.514846 & 0.0305185 & $\\dots$ \\\\\n",
       "\t17 & 0.852793 & 0.987694 & 0.381396 & 0.846474 & 0.000651678 & 0.963987 & 0.594966 & $\\dots$ \\\\\n",
       "\t18 & 0.856729 & 0.685847 & 0.524632 & 0.554276 & 0.226881 & 0.956428 & 0.436712 & $\\dots$ \\\\\n",
       "\t19 & 0.0269019 & 0.361588 & 0.135475 & 0.695811 & 0.669339 & 0.707316 & 0.00686476 & $\\dots$ \\\\\n",
       "\t20 & 0.562866 & 0.561362 & 0.572078 & 0.060052 & 0.335117 & 0.000158876 & 0.110666 & $\\dots$ \\\\\n",
       "\t21 & 0.300335 & 0.408125 & 0.209481 & 0.955035 & 0.914041 & 0.0238858 & 0.930856 & $\\dots$ \\\\\n",
       "\t22 & 0.295202 & 0.341521 & 0.898278 & 0.0252958 & 0.27843 & 0.534743 & 0.842186 & $\\dots$ \\\\\n",
       "\t23 & 0.218515 & 0.616054 & 0.179838 & 0.724115 & 0.496071 & 0.651881 & 0.866924 & $\\dots$ \\\\\n",
       "\t24 & 0.719793 & 0.0409379 & 0.320799 & 0.0823777 & 0.185501 & 0.974274 & 0.743803 & $\\dots$ \\\\\n",
       "\t25 & 0.675881 & 0.171764 & 0.488866 & 0.765593 & 0.673196 & 0.812019 & 0.290032 & $\\dots$ \\\\\n",
       "\t26 & 0.219229 & 0.943816 & 0.181774 & 0.198607 & 0.0416173 & 0.932243 & 0.148943 & $\\dots$ \\\\\n",
       "\t27 & 0.731019 & 0.0676203 & 0.504395 & 0.415557 & 0.824329 & 0.59965 & 0.673434 & $\\dots$ \\\\\n",
       "\t28 & 0.430203 & 0.390497 & 0.556522 & 0.646472 & 0.919621 & 0.40566 & 0.0226374 & $\\dots$ \\\\\n",
       "\t29 & 0.605084 & 0.703579 & 0.815264 & 0.645125 & 0.75374 & 0.197778 & 0.267743 & $\\dots$ \\\\\n",
       "\t30 & 0.328747 & 0.107723 & 0.463993 & 0.459476 & 0.722447 & 0.574372 & 0.00774792 & $\\dots$ \\\\\n",
       "\t$\\dots$ & $\\dots$ & $\\dots$ & $\\dots$ & $\\dots$ & $\\dots$ & $\\dots$ & $\\dots$ &  \\\\\n",
       "\\end{tabular}\n"
      ],
      "text/plain": [
       "\u001b[1m1000000×10 DataFrame\u001b[0m\n",
       "\u001b[1m     Row \u001b[0m│\u001b[1m x1        \u001b[0m\u001b[1m x2         \u001b[0m\u001b[1m x3        \u001b[0m\u001b[1m x4         \u001b[0m\u001b[1m x5        \u001b[0m\u001b[1m x6        \u001b[0m ⋯\n",
       "         │\u001b[90m Float64   \u001b[0m\u001b[90m Float64    \u001b[0m\u001b[90m Float64   \u001b[0m\u001b[90m Float64    \u001b[0m\u001b[90m Float64   \u001b[0m\u001b[90m Float64   \u001b[0m ⋯\n",
       "─────────┼──────────────────────────────────────────────────────────────────────\n",
       "       1 │ 0.424322   0.0387172   0.165538   0.375359    0.124302   0.0640515  ⋯\n",
       "       2 │ 0.15205    0.272963    0.700006   0.829304    0.0415525  0.943028\n",
       "       3 │ 0.725465   0.580529    0.50084    0.987348    0.075047   0.558718\n",
       "       4 │ 0.925171   0.318553    0.812868   0.401339    0.604567   0.269032\n",
       "       5 │ 0.246163   0.226364    0.31503    0.148128    0.369622   0.150685   ⋯\n",
       "       6 │ 0.0492007  0.794896    0.60956    0.816386    0.11619    0.801362\n",
       "       7 │ 0.946628   0.0157797   0.568566   0.336721    0.414166   0.430364\n",
       "       8 │ 0.821027   0.539961    0.951991   0.0557496   0.307656   0.00224519\n",
       "       9 │ 0.215563   0.799691    0.430948   0.456424    0.750694   0.511513   ⋯\n",
       "      10 │ 0.351084   0.648419    0.922247   0.221091    0.321099   0.239239\n",
       "      11 │ 0.634526   0.200147    0.0238826  0.68533     0.364414   0.833254\n",
       "    ⋮    │     ⋮          ⋮           ⋮          ⋮           ⋮          ⋮      ⋱\n",
       "  999991 │ 0.293058   0.85798     0.0908207  0.0407962   0.439286   0.397058\n",
       "  999992 │ 0.747334   0.0841135   0.822291   0.456747    0.0539644  0.718927   ⋯\n",
       "  999993 │ 0.307358   0.68353     0.437273   0.282132    0.337247   0.581644\n",
       "  999994 │ 0.710704   0.26435     0.0705538  0.192525    0.30919    0.0334383\n",
       "  999995 │ 0.125242   0.828246    0.383085   0.970571    0.72649    0.371941\n",
       "  999996 │ 0.012753   0.149198    0.374865   0.879607    0.647115   0.114821   ⋯\n",
       "  999997 │ 0.725933   0.505753    0.196926   0.252256    0.595012   0.99685\n",
       "  999998 │ 0.421539   0.76732     0.799875   2.48301e-5  0.405756   0.608365\n",
       "  999999 │ 0.106546   0.71378     0.529052   0.978746    0.968754   0.0432323\n",
       " 1000000 │ 0.102737   0.646347    0.594512   0.429091    0.720344   0.460733   ⋯\n",
       "\u001b[36m                                               4 columns and 999979 rows omitted\u001b[0m"
      ]
     },
     "execution_count": 25,
     "metadata": {},
     "output_type": "execute_result"
    }
   ],
   "source": [
    "df2 = DataFrame(rand(10^6, 10), :auto)"
   ]
  },
  {
   "cell_type": "code",
   "execution_count": 26,
   "metadata": {},
   "outputs": [
    {
     "name": "stdout",
     "output_type": "stream",
     "text": [
      "  2.375425 seconds (60.11 M allocations: 1.058 GiB, 6.06% gc time, 4.08% compilation time)\n"
     ]
    },
    {
     "data": {
      "text/plain": [
       "1000000-element Vector{Float64}:\n",
       " 3.2085280065644035\n",
       " 5.453078720387793\n",
       " 6.122475264709386\n",
       " 5.695252453849797\n",
       " 2.6818844243721185\n",
       " 4.818425816634775\n",
       " 4.817355199044771\n",
       " 5.296794147868831\n",
       " 4.791467327272049\n",
       " 4.650529563996984\n",
       " 3.6677680401851025\n",
       " 4.705650893054499\n",
       " 4.448097647798718\n",
       " ⋮\n",
       " 4.026247702243423\n",
       " 3.2464343021300115\n",
       " 4.401648676752053\n",
       " 4.5970393787236\n",
       " 3.6877232629240018\n",
       " 3.3405753484373895\n",
       " 5.937165225771452\n",
       " 3.521171557784275\n",
       " 4.097246522668247\n",
       " 5.602193794286321\n",
       " 6.570343754548945\n",
       " 3.8751540034469354"
      ]
     },
     "execution_count": 26,
     "metadata": {},
     "output_type": "execute_result"
    }
   ],
   "source": [
    "@time map(sum, eachrow(df2))"
   ]
  },
  {
   "cell_type": "code",
   "execution_count": 27,
   "metadata": {},
   "outputs": [
    {
     "name": "stdout",
     "output_type": "stream",
     "text": [
      "  2.304615 seconds (59.99 M allocations: 1.050 GiB, 6.11% gc time)\n"
     ]
    },
    {
     "data": {
      "text/plain": [
       "1000000-element Vector{Float64}:\n",
       " 3.2085280065644035\n",
       " 5.453078720387793\n",
       " 6.122475264709386\n",
       " 5.695252453849797\n",
       " 2.6818844243721185\n",
       " 4.818425816634775\n",
       " 4.817355199044771\n",
       " 5.296794147868831\n",
       " 4.791467327272049\n",
       " 4.650529563996984\n",
       " 3.6677680401851025\n",
       " 4.705650893054499\n",
       " 4.448097647798718\n",
       " ⋮\n",
       " 4.026247702243423\n",
       " 3.2464343021300115\n",
       " 4.401648676752053\n",
       " 4.5970393787236\n",
       " 3.6877232629240018\n",
       " 3.3405753484373895\n",
       " 5.937165225771452\n",
       " 3.521171557784275\n",
       " 4.097246522668247\n",
       " 5.602193794286321\n",
       " 6.570343754548945\n",
       " 3.8751540034469354"
      ]
     },
     "execution_count": 27,
     "metadata": {},
     "output_type": "execute_result"
    }
   ],
   "source": [
    "@time map(sum, eachrow(df2))"
   ]
  },
  {
   "cell_type": "code",
   "execution_count": 28,
   "metadata": {},
   "outputs": [
    {
     "name": "stdout",
     "output_type": "stream",
     "text": [
      "  0.203013 seconds (270.07 k allocations: 25.450 MiB, 4.53% gc time, 93.26% compilation time)\n"
     ]
    },
    {
     "data": {
      "text/plain": [
       "1000000-element Vector{Float64}:\n",
       " 3.2085280065644035\n",
       " 5.453078720387793\n",
       " 6.122475264709386\n",
       " 5.695252453849797\n",
       " 2.6818844243721185\n",
       " 4.818425816634775\n",
       " 4.817355199044771\n",
       " 5.296794147868831\n",
       " 4.791467327272049\n",
       " 4.650529563996984\n",
       " 3.6677680401851025\n",
       " 4.705650893054499\n",
       " 4.448097647798718\n",
       " ⋮\n",
       " 4.026247702243423\n",
       " 3.2464343021300115\n",
       " 4.401648676752053\n",
       " 4.5970393787236\n",
       " 3.6877232629240018\n",
       " 3.3405753484373895\n",
       " 5.937165225771452\n",
       " 3.521171557784275\n",
       " 4.097246522668247\n",
       " 5.602193794286321\n",
       " 6.570343754548945\n",
       " 3.8751540034469354"
      ]
     },
     "execution_count": 28,
     "metadata": {},
     "output_type": "execute_result"
    }
   ],
   "source": [
    "@time map(sum, Tables.namedtupleiterator(df2))"
   ]
  },
  {
   "cell_type": "code",
   "execution_count": 29,
   "metadata": {},
   "outputs": [
    {
     "name": "stdout",
     "output_type": "stream",
     "text": [
      "  0.011576 seconds (20 allocations: 7.631 MiB)\n"
     ]
    },
    {
     "data": {
      "text/plain": [
       "1000000-element Vector{Float64}:\n",
       " 3.2085280065644035\n",
       " 5.453078720387793\n",
       " 6.122475264709386\n",
       " 5.695252453849797\n",
       " 2.6818844243721185\n",
       " 4.818425816634775\n",
       " 4.817355199044771\n",
       " 5.296794147868831\n",
       " 4.791467327272049\n",
       " 4.650529563996984\n",
       " 3.6677680401851025\n",
       " 4.705650893054499\n",
       " 4.448097647798718\n",
       " ⋮\n",
       " 4.026247702243423\n",
       " 3.2464343021300115\n",
       " 4.401648676752053\n",
       " 4.5970393787236\n",
       " 3.6877232629240018\n",
       " 3.3405753484373895\n",
       " 5.937165225771452\n",
       " 3.521171557784275\n",
       " 4.097246522668247\n",
       " 5.602193794286321\n",
       " 6.570343754548945\n",
       " 3.8751540034469354"
      ]
     },
     "execution_count": 29,
     "metadata": {},
     "output_type": "execute_result"
    }
   ],
   "source": [
    "@time map(sum, Tables.namedtupleiterator(df2))"
   ]
  },
  {
   "cell_type": "markdown",
   "metadata": {},
   "source": [
    "as you can see - this time it is much faster to iterate a type stable container"
   ]
  },
  {
   "cell_type": "markdown",
   "metadata": {},
   "source": [
    "still you might want to use the `select` syntax, which is optimized for such reductions:"
   ]
  },
  {
   "cell_type": "code",
   "execution_count": 30,
   "metadata": {},
   "outputs": [
    {
     "name": "stdout",
     "output_type": "stream",
     "text": [
      "  0.045867 seconds (14.20 k allocations: 8.574 MiB, 78.01% compilation time)\n"
     ]
    },
    {
     "data": {
      "text/plain": [
       "1000000-element Vector{Float64}:\n",
       " 3.2085280065644035\n",
       " 5.453078720387793\n",
       " 6.122475264709386\n",
       " 5.695252453849797\n",
       " 2.6818844243721185\n",
       " 4.818425816634775\n",
       " 4.817355199044771\n",
       " 5.296794147868831\n",
       " 4.791467327272049\n",
       " 4.650529563996984\n",
       " 3.6677680401851025\n",
       " 4.705650893054499\n",
       " 4.448097647798718\n",
       " ⋮\n",
       " 4.026247702243423\n",
       " 3.2464343021300115\n",
       " 4.401648676752053\n",
       " 4.5970393787236\n",
       " 3.6877232629240018\n",
       " 3.3405753484373895\n",
       " 5.937165225771452\n",
       " 3.521171557784275\n",
       " 4.097246522668247\n",
       " 5.602193794286321\n",
       " 6.570343754548945\n",
       " 3.8751540034469354"
      ]
     },
     "execution_count": 30,
     "metadata": {},
     "output_type": "execute_result"
    }
   ],
   "source": [
    "@time select(df2, AsTable(:) => ByRow(sum) => \"sum\").sum # this includes compilation time"
   ]
  },
  {
   "cell_type": "code",
   "execution_count": 31,
   "metadata": {},
   "outputs": [
    {
     "name": "stdout",
     "output_type": "stream",
     "text": [
      "  0.009749 seconds (163 allocations: 7.638 MiB)\n"
     ]
    },
    {
     "data": {
      "text/plain": [
       "1000000-element Vector{Float64}:\n",
       " 3.2085280065644035\n",
       " 5.453078720387793\n",
       " 6.122475264709386\n",
       " 5.695252453849797\n",
       " 2.6818844243721185\n",
       " 4.818425816634775\n",
       " 4.817355199044771\n",
       " 5.296794147868831\n",
       " 4.791467327272049\n",
       " 4.650529563996984\n",
       " 3.6677680401851025\n",
       " 4.705650893054499\n",
       " 4.448097647798718\n",
       " ⋮\n",
       " 4.026247702243423\n",
       " 3.2464343021300115\n",
       " 4.401648676752053\n",
       " 4.5970393787236\n",
       " 3.6877232629240018\n",
       " 3.3405753484373895\n",
       " 5.937165225771452\n",
       " 3.521171557784275\n",
       " 4.097246522668247\n",
       " 5.602193794286321\n",
       " 6.570343754548945\n",
       " 3.8751540034469354"
      ]
     },
     "execution_count": 31,
     "metadata": {},
     "output_type": "execute_result"
    }
   ],
   "source": [
    "@time select(df2, AsTable(:) => ByRow(sum) => \"sum\").sum"
   ]
  }
 ],
 "metadata": {
  "@webio": {
   "lastCommId": null,
   "lastKernelId": null
  },
  "kernelspec": {
   "display_name": "Julia 1.9.0",
   "language": "julia",
   "name": "julia-1.9"
  },
  "language_info": {
   "file_extension": ".jl",
   "mimetype": "application/julia",
   "name": "julia",
   "version": "1.9.0"
  }
 },
 "nbformat": 4,
 "nbformat_minor": 1
}
