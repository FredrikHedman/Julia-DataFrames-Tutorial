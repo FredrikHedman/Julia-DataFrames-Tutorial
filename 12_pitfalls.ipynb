{
 "cells": [
  {
   "cell_type": "markdown",
   "metadata": {},
   "source": [
    "# Introduction to DataFrames\n",
    "**[Bogumił Kamiński](http://bogumilkaminski.pl/about/), July 17, 2021**"
   ]
  },
  {
   "cell_type": "code",
   "execution_count": 1,
   "metadata": {},
   "outputs": [],
   "source": [
    "using DataFrames"
   ]
  },
  {
   "cell_type": "markdown",
   "metadata": {},
   "source": [
    "## Possible pitfalls"
   ]
  },
  {
   "cell_type": "markdown",
   "metadata": {},
   "source": [
    "### Know what is copied when creating a `DataFrame`"
   ]
  },
  {
   "cell_type": "code",
   "execution_count": 2,
   "metadata": {},
   "outputs": [
    {
     "data": {
      "text/html": [
       "<div class=\"data-frame\"><p>3 rows × 5 columns</p><table class=\"data-frame\"><thead><tr><th></th><th>x1</th><th>x2</th><th>x3</th><th>x4</th><th>x5</th></tr><tr><th></th><th title=\"Float64\">Float64</th><th title=\"Float64\">Float64</th><th title=\"Float64\">Float64</th><th title=\"Float64\">Float64</th><th title=\"Float64\">Float64</th></tr></thead><tbody><tr><th>1</th><td>0.967459</td><td>0.604687</td><td>0.298296</td><td>0.976798</td><td>0.417961</td></tr><tr><th>2</th><td>0.772129</td><td>0.503242</td><td>0.394637</td><td>0.410221</td><td>0.908613</td></tr><tr><th>3</th><td>0.854332</td><td>0.294652</td><td>0.681667</td><td>0.177108</td><td>0.112114</td></tr></tbody></table></div>"
      ],
      "text/latex": [
       "\\begin{tabular}{r|ccccc}\n",
       "\t& x1 & x2 & x3 & x4 & x5\\\\\n",
       "\t\\hline\n",
       "\t& Float64 & Float64 & Float64 & Float64 & Float64\\\\\n",
       "\t\\hline\n",
       "\t1 & 0.967459 & 0.604687 & 0.298296 & 0.976798 & 0.417961 \\\\\n",
       "\t2 & 0.772129 & 0.503242 & 0.394637 & 0.410221 & 0.908613 \\\\\n",
       "\t3 & 0.854332 & 0.294652 & 0.681667 & 0.177108 & 0.112114 \\\\\n",
       "\\end{tabular}\n"
      ],
      "text/plain": [
       "\u001b[1m3×5 DataFrame\u001b[0m\n",
       "\u001b[1m Row \u001b[0m│\u001b[1m x1       \u001b[0m\u001b[1m x2       \u001b[0m\u001b[1m x3       \u001b[0m\u001b[1m x4       \u001b[0m\u001b[1m x5       \u001b[0m\n",
       "\u001b[1m     \u001b[0m│\u001b[90m Float64  \u001b[0m\u001b[90m Float64  \u001b[0m\u001b[90m Float64  \u001b[0m\u001b[90m Float64  \u001b[0m\u001b[90m Float64  \u001b[0m\n",
       "─────┼──────────────────────────────────────────────────\n",
       "   1 │ 0.967459  0.604687  0.298296  0.976798  0.417961\n",
       "   2 │ 0.772129  0.503242  0.394637  0.410221  0.908613\n",
       "   3 │ 0.854332  0.294652  0.681667  0.177108  0.112114"
      ]
     },
     "execution_count": 2,
     "metadata": {},
     "output_type": "execute_result"
    }
   ],
   "source": [
    "x = DataFrame(rand(3, 5), :auto)"
   ]
  },
  {
   "cell_type": "code",
   "execution_count": 3,
   "metadata": {},
   "outputs": [
    {
     "data": {
      "text/plain": [
       "false"
      ]
     },
     "execution_count": 3,
     "metadata": {},
     "output_type": "execute_result"
    }
   ],
   "source": [
    "y = copy(x)\n",
    "x === y # not the same object"
   ]
  },
  {
   "cell_type": "code",
   "execution_count": 4,
   "metadata": {},
   "outputs": [
    {
     "data": {
      "text/plain": [
       "false"
      ]
     },
     "execution_count": 4,
     "metadata": {},
     "output_type": "execute_result"
    }
   ],
   "source": [
    "y = DataFrame(x)\n",
    "x === y"
   ]
  },
  {
   "cell_type": "code",
   "execution_count": 5,
   "metadata": {},
   "outputs": [
    {
     "data": {
      "text/plain": [
       "false"
      ]
     },
     "execution_count": 5,
     "metadata": {},
     "output_type": "execute_result"
    }
   ],
   "source": [
    "any(x[!, i] === y[!, i] for i in ncol(x)) # the columns are also not the same"
   ]
  },
  {
   "cell_type": "code",
   "execution_count": 6,
   "metadata": {},
   "outputs": [
    {
     "data": {
      "text/plain": [
       "false"
      ]
     },
     "execution_count": 6,
     "metadata": {},
     "output_type": "execute_result"
    }
   ],
   "source": [
    "y = DataFrame(x, copycols=false)\n",
    "x === y"
   ]
  },
  {
   "cell_type": "code",
   "execution_count": 7,
   "metadata": {},
   "outputs": [
    {
     "data": {
      "text/plain": [
       "true"
      ]
     },
     "execution_count": 7,
     "metadata": {},
     "output_type": "execute_result"
    }
   ],
   "source": [
    "all(x[!, i] === y[!, i] for i in ncol(x)) # the columns are the same"
   ]
  },
  {
   "cell_type": "code",
   "execution_count": 8,
   "metadata": {},
   "outputs": [
    {
     "data": {
      "text/html": [
       "<div class=\"data-frame\"><p>3 rows × 2 columns</p><table class=\"data-frame\"><thead><tr><th></th><th>x</th><th>y</th></tr><tr><th></th><th title=\"Int64\">Int64</th><th title=\"Int64\">Int64</th></tr></thead><tbody><tr><th>1</th><td>1</td><td>1</td></tr><tr><th>2</th><td>2</td><td>2</td></tr><tr><th>3</th><td>3</td><td>3</td></tr></tbody></table></div>"
      ],
      "text/latex": [
       "\\begin{tabular}{r|cc}\n",
       "\t& x & y\\\\\n",
       "\t\\hline\n",
       "\t& Int64 & Int64\\\\\n",
       "\t\\hline\n",
       "\t1 & 1 & 1 \\\\\n",
       "\t2 & 2 & 2 \\\\\n",
       "\t3 & 3 & 3 \\\\\n",
       "\\end{tabular}\n"
      ],
      "text/plain": [
       "\u001b[1m3×2 DataFrame\u001b[0m\n",
       "\u001b[1m Row \u001b[0m│\u001b[1m x     \u001b[0m\u001b[1m y     \u001b[0m\n",
       "\u001b[1m     \u001b[0m│\u001b[90m Int64 \u001b[0m\u001b[90m Int64 \u001b[0m\n",
       "─────┼──────────────\n",
       "   1 │     1      1\n",
       "   2 │     2      2\n",
       "   3 │     3      3"
      ]
     },
     "execution_count": 8,
     "metadata": {},
     "output_type": "execute_result"
    }
   ],
   "source": [
    "x = 1:3; y = [1, 2, 3]; df = DataFrame(x=x,y=y) # the same when creating data frames using kwarg syntax"
   ]
  },
  {
   "cell_type": "code",
   "execution_count": 9,
   "metadata": {},
   "outputs": [
    {
     "data": {
      "text/plain": [
       "false"
      ]
     },
     "execution_count": 9,
     "metadata": {},
     "output_type": "execute_result"
    }
   ],
   "source": [
    "y === df.y # different object"
   ]
  },
  {
   "cell_type": "code",
   "execution_count": 10,
   "metadata": {},
   "outputs": [
    {
     "data": {
      "text/plain": [
       "(UnitRange{Int64}, Vector{Int64})"
      ]
     },
     "execution_count": 10,
     "metadata": {},
     "output_type": "execute_result"
    }
   ],
   "source": [
    "typeof(x), typeof(df.x) # range is converted to a vector"
   ]
  },
  {
   "cell_type": "code",
   "execution_count": 11,
   "metadata": {},
   "outputs": [
    {
     "data": {
      "text/plain": [
       "false"
      ]
     },
     "execution_count": 11,
     "metadata": {},
     "output_type": "execute_result"
    }
   ],
   "source": [
    "y === df[:, :y] # slicing rows always creates a copy"
   ]
  },
  {
   "cell_type": "markdown",
   "metadata": {},
   "source": [
    "you can avoid copying by using `copycols=false` keyword argument in functions."
   ]
  },
  {
   "cell_type": "code",
   "execution_count": 12,
   "metadata": {},
   "outputs": [
    {
     "data": {
      "text/html": [
       "<div class=\"data-frame\"><p>3 rows × 2 columns</p><table class=\"data-frame\"><thead><tr><th></th><th>x</th><th>y</th></tr><tr><th></th><th title=\"Int64\">Int64</th><th title=\"Int64\">Int64</th></tr></thead><tbody><tr><th>1</th><td>1</td><td>1</td></tr><tr><th>2</th><td>2</td><td>2</td></tr><tr><th>3</th><td>3</td><td>3</td></tr></tbody></table></div>"
      ],
      "text/latex": [
       "\\begin{tabular}{r|cc}\n",
       "\t& x & y\\\\\n",
       "\t\\hline\n",
       "\t& Int64 & Int64\\\\\n",
       "\t\\hline\n",
       "\t1 & 1 & 1 \\\\\n",
       "\t2 & 2 & 2 \\\\\n",
       "\t3 & 3 & 3 \\\\\n",
       "\\end{tabular}\n"
      ],
      "text/plain": [
       "\u001b[1m3×2 DataFrame\u001b[0m\n",
       "\u001b[1m Row \u001b[0m│\u001b[1m x     \u001b[0m\u001b[1m y     \u001b[0m\n",
       "\u001b[1m     \u001b[0m│\u001b[90m Int64 \u001b[0m\u001b[90m Int64 \u001b[0m\n",
       "─────┼──────────────\n",
       "   1 │     1      1\n",
       "   2 │     2      2\n",
       "   3 │     3      3"
      ]
     },
     "execution_count": 12,
     "metadata": {},
     "output_type": "execute_result"
    }
   ],
   "source": [
    "df = DataFrame(x=x,y=y, copycols=false)"
   ]
  },
  {
   "cell_type": "code",
   "execution_count": 13,
   "metadata": {},
   "outputs": [
    {
     "data": {
      "text/plain": [
       "true"
      ]
     },
     "execution_count": 13,
     "metadata": {},
     "output_type": "execute_result"
    }
   ],
   "source": [
    "y === df.y # now it is the same"
   ]
  },
  {
   "cell_type": "code",
   "execution_count": 14,
   "metadata": {},
   "outputs": [
    {
     "data": {
      "text/plain": [
       "false"
      ]
     },
     "execution_count": 14,
     "metadata": {},
     "output_type": "execute_result"
    }
   ],
   "source": [
    "select(df, :y)[!, 1] === y # not the same"
   ]
  },
  {
   "cell_type": "code",
   "execution_count": 15,
   "metadata": {},
   "outputs": [
    {
     "data": {
      "text/plain": [
       "true"
      ]
     },
     "execution_count": 15,
     "metadata": {},
     "output_type": "execute_result"
    }
   ],
   "source": [
    "select(df, :y, copycols=false)[!, 1] === y # the same"
   ]
  },
  {
   "cell_type": "markdown",
   "metadata": {},
   "source": [
    "### Do not modify the parent of `GroupedDataFrame` or `view`"
   ]
  },
  {
   "cell_type": "code",
   "execution_count": 16,
   "metadata": {},
   "outputs": [
    {
     "data": {
      "text/html": [
       "<p><b>GroupedDataFrame with 2 groups based on key: id</b></p><p><i>First Group (3 rows): id = 1</i></p><div class=\"data-frame\"><table class=\"data-frame\"><thead><tr><th></th><th>id</th><th>x</th></tr><tr><th></th><th title=\"Int64\">Int64</th><th title=\"Int64\">Int64</th></tr></thead><tbody><tr><th>1</th><td>1</td><td>1</td></tr><tr><th>2</th><td>1</td><td>3</td></tr><tr><th>3</th><td>1</td><td>5</td></tr></tbody></table></div><p>&vellip;</p><p><i>Last Group (3 rows): id = 2</i></p><div class=\"data-frame\"><table class=\"data-frame\"><thead><tr><th></th><th>id</th><th>x</th></tr><tr><th></th><th title=\"Int64\">Int64</th><th title=\"Int64\">Int64</th></tr></thead><tbody><tr><th>1</th><td>2</td><td>2</td></tr><tr><th>2</th><td>2</td><td>4</td></tr><tr><th>3</th><td>2</td><td>6</td></tr></tbody></table></div>"
      ],
      "text/latex": [
       "GroupedDataFrame with 2 groups based on key: id\n",
       "\n",
       "First Group (3 rows): id = 1\n",
       "\n",
       "\\begin{tabular}{r|cc}\n",
       "\t& id & x\\\\\n",
       "\t\\hline\n",
       "\t& Int64 & Int64\\\\\n",
       "\t\\hline\n",
       "\t1 & 1 & 1 \\\\\n",
       "\t2 & 1 & 3 \\\\\n",
       "\t3 & 1 & 5 \\\\\n",
       "\\end{tabular}\n",
       "\n",
       "$\\dots$\n",
       "\n",
       "Last Group (3 rows): id = 2\n",
       "\n",
       "\\begin{tabular}{r|cc}\n",
       "\t& id & x\\\\\n",
       "\t\\hline\n",
       "\t& Int64 & Int64\\\\\n",
       "\t\\hline\n",
       "\t1 & 2 & 2 \\\\\n",
       "\t2 & 2 & 4 \\\\\n",
       "\t3 & 2 & 6 \\\\\n",
       "\\end{tabular}\n"
      ],
      "text/plain": [
       "GroupedDataFrame with 2 groups based on key: id\n",
       "First Group (3 rows): id = 1\n",
       "\u001b[1m Row \u001b[0m│\u001b[1m id    \u001b[0m\u001b[1m x     \u001b[0m\n",
       "\u001b[1m     \u001b[0m│\u001b[90m Int64 \u001b[0m\u001b[90m Int64 \u001b[0m\n",
       "─────┼──────────────\n",
       "   1 │     1      1\n",
       "   2 │     1      3\n",
       "   3 │     1      5\n",
       "⋮\n",
       "Last Group (3 rows): id = 2\n",
       "\u001b[1m Row \u001b[0m│\u001b[1m id    \u001b[0m\u001b[1m x     \u001b[0m\n",
       "\u001b[1m     \u001b[0m│\u001b[90m Int64 \u001b[0m\u001b[90m Int64 \u001b[0m\n",
       "─────┼──────────────\n",
       "   1 │     2      2\n",
       "   2 │     2      4\n",
       "   3 │     2      6"
      ]
     },
     "execution_count": 16,
     "metadata": {},
     "output_type": "execute_result"
    }
   ],
   "source": [
    "x = DataFrame(id=repeat([1,2], outer=3), x=1:6)\n",
    "g = groupby(x, :id)"
   ]
  },
  {
   "cell_type": "code",
   "execution_count": 17,
   "metadata": {},
   "outputs": [
    {
     "data": {
      "text/html": [
       "<p><b>GroupedDataFrame with 2 groups based on key: id</b></p><p><i>First Group (3 rows): id = 2</i></p><div class=\"data-frame\"><table class=\"data-frame\"><thead><tr><th></th><th>id</th><th>x</th></tr><tr><th></th><th title=\"Int64\">Int64</th><th title=\"Int64\">Int64</th></tr></thead><tbody><tr><th>1</th><td>2</td><td>1</td></tr><tr><th>2</th><td>2</td><td>3</td></tr><tr><th>3</th><td>1</td><td>5</td></tr></tbody></table></div><p>&vellip;</p><p><i>Last Group (3 rows): id = 2</i></p><div class=\"data-frame\"><table class=\"data-frame\"><thead><tr><th></th><th>id</th><th>x</th></tr><tr><th></th><th title=\"Int64\">Int64</th><th title=\"Int64\">Int64</th></tr></thead><tbody><tr><th>1</th><td>2</td><td>2</td></tr><tr><th>2</th><td>2</td><td>4</td></tr><tr><th>3</th><td>2</td><td>6</td></tr></tbody></table></div>"
      ],
      "text/latex": [
       "GroupedDataFrame with 2 groups based on key: id\n",
       "\n",
       "First Group (3 rows): id = 2\n",
       "\n",
       "\\begin{tabular}{r|cc}\n",
       "\t& id & x\\\\\n",
       "\t\\hline\n",
       "\t& Int64 & Int64\\\\\n",
       "\t\\hline\n",
       "\t1 & 2 & 1 \\\\\n",
       "\t2 & 2 & 3 \\\\\n",
       "\t3 & 1 & 5 \\\\\n",
       "\\end{tabular}\n",
       "\n",
       "$\\dots$\n",
       "\n",
       "Last Group (3 rows): id = 2\n",
       "\n",
       "\\begin{tabular}{r|cc}\n",
       "\t& id & x\\\\\n",
       "\t\\hline\n",
       "\t& Int64 & Int64\\\\\n",
       "\t\\hline\n",
       "\t1 & 2 & 2 \\\\\n",
       "\t2 & 2 & 4 \\\\\n",
       "\t3 & 2 & 6 \\\\\n",
       "\\end{tabular}\n"
      ],
      "text/plain": [
       "GroupedDataFrame with 2 groups based on key: id\n",
       "First Group (3 rows): id = 2\n",
       "\u001b[1m Row \u001b[0m│\u001b[1m id    \u001b[0m\u001b[1m x     \u001b[0m\n",
       "\u001b[1m     \u001b[0m│\u001b[90m Int64 \u001b[0m\u001b[90m Int64 \u001b[0m\n",
       "─────┼──────────────\n",
       "   1 │     2      1\n",
       "   2 │     2      3\n",
       "   3 │     1      5\n",
       "⋮\n",
       "Last Group (3 rows): id = 2\n",
       "\u001b[1m Row \u001b[0m│\u001b[1m id    \u001b[0m\u001b[1m x     \u001b[0m\n",
       "\u001b[1m     \u001b[0m│\u001b[90m Int64 \u001b[0m\u001b[90m Int64 \u001b[0m\n",
       "─────┼──────────────\n",
       "   1 │     2      2\n",
       "   2 │     2      4\n",
       "   3 │     2      6"
      ]
     },
     "execution_count": 17,
     "metadata": {},
     "output_type": "execute_result"
    }
   ],
   "source": [
    "x[1:3, 1] = [2,2,2]\n",
    "g # well - it is wrong now, g is only a view"
   ]
  },
  {
   "cell_type": "code",
   "execution_count": 18,
   "metadata": {},
   "outputs": [
    {
     "data": {
      "text/html": [
       "<div class=\"data-frame\"><p>2 rows × 2 columns</p><table class=\"data-frame\"><thead><tr><th></th><th>id</th><th>x</th></tr><tr><th></th><th title=\"Int64\">Int64</th><th title=\"Int64\">Int64</th></tr></thead><tbody><tr><th>1</th><td>1</td><td>5</td></tr><tr><th>2</th><td>2</td><td>6</td></tr></tbody></table></div>"
      ],
      "text/latex": [
       "\\begin{tabular}{r|cc}\n",
       "\t& id & x\\\\\n",
       "\t\\hline\n",
       "\t& Int64 & Int64\\\\\n",
       "\t\\hline\n",
       "\t1 & 1 & 5 \\\\\n",
       "\t2 & 2 & 6 \\\\\n",
       "\\end{tabular}\n"
      ],
      "text/plain": [
       "\u001b[1m2×2 SubDataFrame\u001b[0m\n",
       "\u001b[1m Row \u001b[0m│\u001b[1m id    \u001b[0m\u001b[1m x     \u001b[0m\n",
       "\u001b[1m     \u001b[0m│\u001b[90m Int64 \u001b[0m\u001b[90m Int64 \u001b[0m\n",
       "─────┼──────────────\n",
       "   1 │     1      5\n",
       "   2 │     2      6"
      ]
     },
     "execution_count": 18,
     "metadata": {},
     "output_type": "execute_result"
    }
   ],
   "source": [
    "s = view(x, 5:6, :)"
   ]
  },
  {
   "cell_type": "code",
   "execution_count": 19,
   "metadata": {},
   "outputs": [
    {
     "data": {
      "text/html": [
       "<div class=\"data-frame\"><p>2 rows × 2 columns</p><table class=\"data-frame\"><thead><tr><th></th><th>id</th><th>x</th></tr><tr><th></th><th title=\"Int64\">Int64</th><th title=\"Int64\">Int64</th></tr></thead><tbody><tr><th>1</th><td>2</td><td>1</td></tr><tr><th>2</th><td>2</td><td>2</td></tr></tbody></table></div>"
      ],
      "text/latex": [
       "\\begin{tabular}{r|cc}\n",
       "\t& id & x\\\\\n",
       "\t\\hline\n",
       "\t& Int64 & Int64\\\\\n",
       "\t\\hline\n",
       "\t1 & 2 & 1 \\\\\n",
       "\t2 & 2 & 2 \\\\\n",
       "\\end{tabular}\n"
      ],
      "text/plain": [
       "\u001b[1m2×2 DataFrame\u001b[0m\n",
       "\u001b[1m Row \u001b[0m│\u001b[1m id    \u001b[0m\u001b[1m x     \u001b[0m\n",
       "\u001b[1m     \u001b[0m│\u001b[90m Int64 \u001b[0m\u001b[90m Int64 \u001b[0m\n",
       "─────┼──────────────\n",
       "   1 │     2      1\n",
       "   2 │     2      2"
      ]
     },
     "execution_count": 19,
     "metadata": {},
     "output_type": "execute_result"
    }
   ],
   "source": [
    "delete!(x, 3:6)"
   ]
  },
  {
   "cell_type": "code",
   "execution_count": 20,
   "metadata": {},
   "outputs": [
    {
     "ename": "BoundsError",
     "evalue": "BoundsError: attempt to access 2-element Vector{Int64} at index [5:6]",
     "output_type": "error",
     "traceback": [
      "BoundsError: attempt to access 2-element Vector{Int64} at index [5:6]",
      "",
      "Stacktrace:",
      "  [1] throw_boundserror(A::Vector{Int64}, I::Tuple{UnitRange{Int64}})",
      "    @ Base .\\abstractarray.jl:651",
      "  [2] checkbounds",
      "    @ .\\abstractarray.jl:616 [inlined]",
      "  [3] view(A::Vector{Int64}, I::UnitRange{Int64})",
      "    @ Base .\\subarray.jl:177",
      "  [4] view",
      "    @ C:\\Users\\bogum\\.julia\\packages\\DataFrames\\vQokV\\src\\subdataframe\\subdataframe.jl:129 [inlined]",
      "  [5] getindex",
      "    @ C:\\Users\\bogum\\.julia\\packages\\DataFrames\\vQokV\\src\\subdataframe\\subdataframe.jl:166 [inlined]",
      "  [6] getindex",
      "    @ C:\\Users\\bogum\\.julia\\packages\\DataFrames\\vQokV\\src\\abstractdataframe\\iteration.jl:200 [inlined]",
      "  [7] iterate(itr::DataFrames.DataFrameColumns{SubDataFrame{DataFrame, DataFrames.Index, UnitRange{Int64}}}, i::Int64) (repeats 2 times)",
      "    @ DataFrames C:\\Users\\bogum\\.julia\\packages\\DataFrames\\vQokV\\src\\abstractdataframe\\iteration.jl:198",
      "  [8] _show(io::IOContext{IOBuffer}, df::SubDataFrame{DataFrame, DataFrames.Index, UnitRange{Int64}}; allrows::Bool, allcols::Bool, rowlabel::Symbol, summary::Bool, eltypes::Bool, rowid::Nothing, truncate::Int64, kwargs::Base.Iterators.Pairs{Union{}, Union{}, Tuple{}, NamedTuple{(), Tuple{}}})",
      "    @ DataFrames C:\\Users\\bogum\\.julia\\packages\\DataFrames\\vQokV\\src\\abstractdataframe\\show.jl:167",
      "  [9] #show#692",
      "    @ C:\\Users\\bogum\\.julia\\packages\\DataFrames\\vQokV\\src\\abstractdataframe\\show.jl:348 [inlined]",
      " [10] show(io::IOContext{IOBuffer}, df::SubDataFrame{DataFrame, DataFrames.Index, UnitRange{Int64}})",
      "    @ DataFrames C:\\Users\\bogum\\.julia\\packages\\DataFrames\\vQokV\\src\\abstractdataframe\\show.jl:348",
      " [11] #show#707",
      "    @ C:\\Users\\bogum\\.julia\\packages\\DataFrames\\vQokV\\src\\abstractdataframe\\io.jl:138 [inlined]",
      " [12] show",
      "    @ C:\\Users\\bogum\\.julia\\packages\\DataFrames\\vQokV\\src\\abstractdataframe\\io.jl:138 [inlined]",
      " [13] limitstringmime(mime::MIME{Symbol(\"text/plain\")}, x::SubDataFrame{DataFrame, DataFrames.Index, UnitRange{Int64}})",
      "    @ IJulia C:\\Users\\bogum\\.julia\\packages\\IJulia\\e8kqU\\src\\inline.jl:43",
      " [14] display_mimestring",
      "    @ C:\\Users\\bogum\\.julia\\packages\\IJulia\\e8kqU\\src\\display.jl:71 [inlined]",
      " [15] display_dict(x::SubDataFrame{DataFrame, DataFrames.Index, UnitRange{Int64}})",
      "    @ IJulia C:\\Users\\bogum\\.julia\\packages\\IJulia\\e8kqU\\src\\display.jl:102",
      " [16] #invokelatest#2",
      "    @ .\\essentials.jl:708 [inlined]",
      " [17] invokelatest",
      "    @ .\\essentials.jl:706 [inlined]",
      " [18] execute_request(socket::ZMQ.Socket, msg::IJulia.Msg)",
      "    @ IJulia C:\\Users\\bogum\\.julia\\packages\\IJulia\\e8kqU\\src\\execute_request.jl:112",
      " [19] #invokelatest#2",
      "    @ .\\essentials.jl:708 [inlined]",
      " [20] invokelatest",
      "    @ .\\essentials.jl:706 [inlined]",
      " [21] eventloop(socket::ZMQ.Socket)",
      "    @ IJulia C:\\Users\\bogum\\.julia\\packages\\IJulia\\e8kqU\\src\\eventloop.jl:8",
      " [22] (::IJulia.var\"#15#18\")()",
      "    @ IJulia .\\task.jl:411"
     ]
    }
   ],
   "source": [
    "s # error"
   ]
  },
  {
   "cell_type": "markdown",
   "metadata": {},
   "source": [
    "### Single column selection for `DataFrame` creates aliases with `!` and `getproperty` syntax and copies with `:`"
   ]
  },
  {
   "cell_type": "code",
   "execution_count": 21,
   "metadata": {},
   "outputs": [
    {
     "data": {
      "text/html": [
       "<div class=\"data-frame\"><p>3 rows × 5 columns</p><table class=\"data-frame\"><thead><tr><th></th><th>a</th><th>b</th><th>c</th><th>d</th><th>e</th></tr><tr><th></th><th title=\"Int64\">Int64</th><th title=\"Int64\">Int64</th><th title=\"Int64\">Int64</th><th title=\"Int64\">Int64</th><th title=\"Int64\">Int64</th></tr></thead><tbody><tr><th>1</th><td>1</td><td>1</td><td>1</td><td>1</td><td>1</td></tr><tr><th>2</th><td>2</td><td>2</td><td>2</td><td>2</td><td>2</td></tr><tr><th>3</th><td>3</td><td>3</td><td>3</td><td>3</td><td>3</td></tr></tbody></table></div>"
      ],
      "text/latex": [
       "\\begin{tabular}{r|ccccc}\n",
       "\t& a & b & c & d & e\\\\\n",
       "\t\\hline\n",
       "\t& Int64 & Int64 & Int64 & Int64 & Int64\\\\\n",
       "\t\\hline\n",
       "\t1 & 1 & 1 & 1 & 1 & 1 \\\\\n",
       "\t2 & 2 & 2 & 2 & 2 & 2 \\\\\n",
       "\t3 & 3 & 3 & 3 & 3 & 3 \\\\\n",
       "\\end{tabular}\n"
      ],
      "text/plain": [
       "\u001b[1m3×5 DataFrame\u001b[0m\n",
       "\u001b[1m Row \u001b[0m│\u001b[1m a     \u001b[0m\u001b[1m b     \u001b[0m\u001b[1m c     \u001b[0m\u001b[1m d     \u001b[0m\u001b[1m e     \u001b[0m\n",
       "\u001b[1m     \u001b[0m│\u001b[90m Int64 \u001b[0m\u001b[90m Int64 \u001b[0m\u001b[90m Int64 \u001b[0m\u001b[90m Int64 \u001b[0m\u001b[90m Int64 \u001b[0m\n",
       "─────┼───────────────────────────────────\n",
       "   1 │     1      1      1      1      1\n",
       "   2 │     2      2      2      2      2\n",
       "   3 │     3      3      3      3      3"
      ]
     },
     "metadata": {},
     "output_type": "display_data"
    },
    {
     "data": {
      "text/html": [
       "<div class=\"data-frame\"><p>3 rows × 5 columns</p><table class=\"data-frame\"><thead><tr><th></th><th>a</th><th>b</th><th>c</th><th>d</th><th>e</th></tr><tr><th></th><th title=\"Int64\">Int64</th><th title=\"Int64\">Int64</th><th title=\"Int64\">Int64</th><th title=\"Int64\">Int64</th><th title=\"Int64\">Int64</th></tr></thead><tbody><tr><th>1</th><td>100</td><td>100</td><td>1</td><td>1</td><td>1</td></tr><tr><th>2</th><td>2</td><td>2</td><td>2</td><td>2</td><td>2</td></tr><tr><th>3</th><td>3</td><td>3</td><td>3</td><td>3</td><td>3</td></tr></tbody></table></div>"
      ],
      "text/latex": [
       "\\begin{tabular}{r|ccccc}\n",
       "\t& a & b & c & d & e\\\\\n",
       "\t\\hline\n",
       "\t& Int64 & Int64 & Int64 & Int64 & Int64\\\\\n",
       "\t\\hline\n",
       "\t1 & 100 & 100 & 1 & 1 & 1 \\\\\n",
       "\t2 & 2 & 2 & 2 & 2 & 2 \\\\\n",
       "\t3 & 3 & 3 & 3 & 3 & 3 \\\\\n",
       "\\end{tabular}\n"
      ],
      "text/plain": [
       "\u001b[1m3×5 DataFrame\u001b[0m\n",
       "\u001b[1m Row \u001b[0m│\u001b[1m a     \u001b[0m\u001b[1m b     \u001b[0m\u001b[1m c     \u001b[0m\u001b[1m d     \u001b[0m\u001b[1m e     \u001b[0m\n",
       "\u001b[1m     \u001b[0m│\u001b[90m Int64 \u001b[0m\u001b[90m Int64 \u001b[0m\u001b[90m Int64 \u001b[0m\u001b[90m Int64 \u001b[0m\u001b[90m Int64 \u001b[0m\n",
       "─────┼───────────────────────────────────\n",
       "   1 │   100    100      1      1      1\n",
       "   2 │     2      2      2      2      2\n",
       "   3 │     3      3      3      3      3"
      ]
     },
     "metadata": {},
     "output_type": "display_data"
    }
   ],
   "source": [
    "x = DataFrame(a=1:3)\n",
    "x.b = x[!, 1] # alias\n",
    "x.c = x[:, 1] # copy\n",
    "x.d = x[!, 1][:] # copy\n",
    "x.e = copy(x[!, 1]) # explicit copy\n",
    "display(x)\n",
    "x[1,1] = 100\n",
    "display(x)"
   ]
  },
  {
   "cell_type": "markdown",
   "metadata": {},
   "source": [
    "### When iterating rows of a data frame use `eachrow` to avoid compilation cost (wide tables), but `Tables.namedtupleiterator` for fast execution (tall tables)"
   ]
  },
  {
   "cell_type": "markdown",
   "metadata": {},
   "source": [
    "this table is wide"
   ]
  },
  {
   "cell_type": "code",
   "execution_count": 22,
   "metadata": {},
   "outputs": [
    {
     "data": {
      "text/html": [
       "<div class=\"data-frame\"><p>2 rows × 900 columns (omitted printing of 889 columns)</p><table class=\"data-frame\"><thead><tr><th></th><th>x1</th><th>x2</th><th>x3</th><th>x4</th><th>x5</th><th>x6</th><th>x7</th><th>x8</th><th>x9</th><th>x10</th><th>x11</th></tr><tr><th></th><th title=\"Float64\">Float64</th><th title=\"Float64\">Float64</th><th title=\"Bool\">Bool</th><th title=\"Bool\">Bool</th><th title=\"Int64\">Int64</th><th title=\"Float64\">Float64</th><th title=\"Bool\">Bool</th><th title=\"Int64\">Int64</th><th title=\"Float64\">Float64</th><th title=\"Char\">Char</th><th title=\"Char\">Char</th></tr></thead><tbody><tr><th>1</th><td>1.0</td><td>1.0</td><td>0</td><td>0</td><td>1</td><td>1.0</td><td>0</td><td>1</td><td>1.0</td><td>a</td><td>a</td></tr><tr><th>2</th><td>2.0</td><td>2.0</td><td>1</td><td>1</td><td>2</td><td>2.0</td><td>1</td><td>2</td><td>2.0</td><td>b</td><td>b</td></tr></tbody></table></div>"
      ],
      "text/latex": [
       "\\begin{tabular}{r|cccccccccccc}\n",
       "\t& x1 & x2 & x3 & x4 & x5 & x6 & x7 & x8 & x9 & x10 & x11 & \\\\\n",
       "\t\\hline\n",
       "\t& Float64 & Float64 & Bool & Bool & Int64 & Float64 & Bool & Int64 & Float64 & Char & Char & \\\\\n",
       "\t\\hline\n",
       "\t1 & 1.0 & 1.0 & 0 & 0 & 1 & 1.0 & 0 & 1 & 1.0 & a & a & $\\dots$ \\\\\n",
       "\t2 & 2.0 & 2.0 & 1 & 1 & 2 & 2.0 & 1 & 2 & 2.0 & b & b & $\\dots$ \\\\\n",
       "\\end{tabular}\n"
      ],
      "text/plain": [
       "\u001b[1m2×900 DataFrame\u001b[0m\n",
       "\u001b[1m Row \u001b[0m│\u001b[1m x1      \u001b[0m\u001b[1m x2      \u001b[0m\u001b[1m x3    \u001b[0m\u001b[1m x4    \u001b[0m\u001b[1m x5    \u001b[0m\u001b[1m x6      \u001b[0m\u001b[1m x7    \u001b[0m\u001b[1m x8    \u001b[0m\u001b[1m x9      \u001b[0m\u001b[1m \u001b[0m ⋯\n",
       "\u001b[1m     \u001b[0m│\u001b[90m Float64 \u001b[0m\u001b[90m Float64 \u001b[0m\u001b[90m Bool  \u001b[0m\u001b[90m Bool  \u001b[0m\u001b[90m Int64 \u001b[0m\u001b[90m Float64 \u001b[0m\u001b[90m Bool  \u001b[0m\u001b[90m Int64 \u001b[0m\u001b[90m Float64 \u001b[0m\u001b[90m \u001b[0m ⋯\n",
       "─────┼──────────────────────────────────────────────────────────────────────────\n",
       "   1 │     1.0      1.0  false  false      1      1.0  false      1      1.0   ⋯\n",
       "   2 │     2.0      2.0   true   true      2      2.0   true      2      2.0\n",
       "\u001b[36m                                                             891 columns omitted\u001b[0m"
      ]
     },
     "execution_count": 22,
     "metadata": {},
     "output_type": "execute_result"
    }
   ],
   "source": [
    "df1 = DataFrame([rand([1:2, 'a':'b', false:true, 1.0:2.0]) for i in 1:900], :auto)"
   ]
  },
  {
   "cell_type": "code",
   "execution_count": 23,
   "metadata": {},
   "outputs": [
    {
     "name": "stdout",
     "output_type": "stream",
     "text": [
      "  0.052469 seconds (84.22 k allocations: 5.168 MiB, 99.92% compilation time)\n"
     ]
    },
    {
     "data": {
      "text/plain": [
       "2-element Vector{DataFrameRow}:\n",
       " \u001b[1mDataFrameRow\u001b[0m\n",
       "\u001b[1m Row \u001b[0m│\u001b[1m x1      \u001b[0m\u001b[1m x2      \u001b[0m\u001b[1m x3    \u001b[0m\u001b[1m x4    \u001b[0m\u001b[1m x5    \u001b[0m\u001b[1m x6      \u001b[0m\u001b[1m x7    \u001b[0m\u001b[1m x8    \u001b[0m\u001b[1m x9      \u001b[0m\u001b[1m \u001b[0m ⋯\n",
       "\u001b[1m     \u001b[0m│\u001b[90m Float64 \u001b[0m\u001b[90m Float64 \u001b[0m\u001b[90m Bool  \u001b[0m\u001b[90m Bool  \u001b[0m\u001b[90m Int64 \u001b[0m\u001b[90m Float64 \u001b[0m\u001b[90m Bool  \u001b[0m\u001b[90m Int64 \u001b[0m\u001b[90m Float64 \u001b[0m\u001b[90m \u001b[0m ⋯\n",
       "─────┼──────────────────────────────────────────────────────────────────────────\n",
       "   1 │     1.0      1.0  false  false      1      1.0  false      1      1.0   ⋯\n",
       "\u001b[36m                                                             891 columns omitted\u001b[0m\n",
       " \u001b[1mDataFrameRow\u001b[0m\n",
       "\u001b[1m Row \u001b[0m│\u001b[1m x1      \u001b[0m\u001b[1m x2      \u001b[0m\u001b[1m x3   \u001b[0m\u001b[1m x4   \u001b[0m\u001b[1m x5    \u001b[0m\u001b[1m x6      \u001b[0m\u001b[1m x7   \u001b[0m\u001b[1m x8    \u001b[0m\u001b[1m x9      \u001b[0m\u001b[1m x10\u001b[0m ⋯\n",
       "\u001b[1m     \u001b[0m│\u001b[90m Float64 \u001b[0m\u001b[90m Float64 \u001b[0m\u001b[90m Bool \u001b[0m\u001b[90m Bool \u001b[0m\u001b[90m Int64 \u001b[0m\u001b[90m Float64 \u001b[0m\u001b[90m Bool \u001b[0m\u001b[90m Int64 \u001b[0m\u001b[90m Float64 \u001b[0m\u001b[90m Cha\u001b[0m ⋯\n",
       "─────┼──────────────────────────────────────────────────────────────────────────\n",
       "   2 │     2.0      2.0  true  true      2      2.0  true      2      2.0  b   ⋯\n",
       "\u001b[36m                                                             891 columns omitted\u001b[0m"
      ]
     },
     "execution_count": 23,
     "metadata": {},
     "output_type": "execute_result"
    }
   ],
   "source": [
    "@time collect(eachrow(df1))"
   ]
  },
  {
   "cell_type": "code",
   "execution_count": 24,
   "metadata": {},
   "outputs": [
    {
     "name": "stdout",
     "output_type": "stream",
     "text": [
      "  6.964989 seconds (2.32 M allocations: 147.241 MiB, 0.51% gc time, 99.78% compilation time)\n"
     ]
    }
   ],
   "source": [
    "@time collect(Tables.namedtupleiterator(df1));"
   ]
  },
  {
   "cell_type": "markdown",
   "metadata": {},
   "source": [
    "as you can see the time to compile `Tables.namedtupleiterator` is very large in this case, and it would get much worse if the table was wider (that is why we include this tip in pitfalls notebook)"
   ]
  },
  {
   "cell_type": "markdown",
   "metadata": {},
   "source": [
    "the table below is tall"
   ]
  },
  {
   "cell_type": "code",
   "execution_count": 25,
   "metadata": {},
   "outputs": [
    {
     "data": {
      "text/html": [
       "<div class=\"data-frame\"><p>1,000,000 rows × 10 columns (omitted printing of 2 columns)</p><table class=\"data-frame\"><thead><tr><th></th><th>x1</th><th>x2</th><th>x3</th><th>x4</th><th>x5</th><th>x6</th><th>x7</th><th>x8</th></tr><tr><th></th><th title=\"Float64\">Float64</th><th title=\"Float64\">Float64</th><th title=\"Float64\">Float64</th><th title=\"Float64\">Float64</th><th title=\"Float64\">Float64</th><th title=\"Float64\">Float64</th><th title=\"Float64\">Float64</th><th title=\"Float64\">Float64</th></tr></thead><tbody><tr><th>1</th><td>0.620851</td><td>0.75956</td><td>0.086471</td><td>0.141431</td><td>0.258899</td><td>0.413615</td><td>0.934604</td><td>0.39581</td></tr><tr><th>2</th><td>0.105589</td><td>0.209177</td><td>0.685343</td><td>0.0660393</td><td>0.396761</td><td>0.913346</td><td>0.0248727</td><td>0.133875</td></tr><tr><th>3</th><td>0.983523</td><td>0.712555</td><td>0.0992709</td><td>0.759441</td><td>0.440898</td><td>0.10246</td><td>0.990721</td><td>0.904335</td></tr><tr><th>4</th><td>0.388133</td><td>0.102261</td><td>0.316264</td><td>0.900712</td><td>0.977021</td><td>0.968912</td><td>0.699624</td><td>0.163675</td></tr><tr><th>5</th><td>0.399831</td><td>0.967829</td><td>0.12189</td><td>0.722027</td><td>0.162325</td><td>0.209936</td><td>0.847496</td><td>0.0758826</td></tr><tr><th>6</th><td>0.405094</td><td>0.812244</td><td>0.784731</td><td>0.421858</td><td>0.800331</td><td>0.441914</td><td>0.315882</td><td>0.482087</td></tr><tr><th>7</th><td>0.435393</td><td>0.0532526</td><td>0.294183</td><td>0.996928</td><td>0.336332</td><td>0.307938</td><td>0.163823</td><td>0.542819</td></tr><tr><th>8</th><td>0.97882</td><td>0.686855</td><td>0.40084</td><td>0.914398</td><td>0.325452</td><td>0.343381</td><td>0.527434</td><td>0.865557</td></tr><tr><th>9</th><td>0.871545</td><td>0.231649</td><td>0.690776</td><td>0.169682</td><td>0.235853</td><td>0.747655</td><td>0.61211</td><td>0.769123</td></tr><tr><th>10</th><td>0.66691</td><td>0.609028</td><td>0.444258</td><td>0.611758</td><td>0.799476</td><td>0.992992</td><td>0.269694</td><td>0.169853</td></tr><tr><th>11</th><td>0.616764</td><td>0.473014</td><td>0.542561</td><td>0.897769</td><td>0.718072</td><td>0.0486898</td><td>0.53954</td><td>0.828561</td></tr><tr><th>12</th><td>0.33742</td><td>0.814789</td><td>0.904087</td><td>0.753224</td><td>0.0961721</td><td>0.743667</td><td>0.0507017</td><td>0.334991</td></tr><tr><th>13</th><td>0.55791</td><td>0.800691</td><td>0.977115</td><td>0.658768</td><td>0.714706</td><td>0.0102529</td><td>0.689473</td><td>0.466115</td></tr><tr><th>14</th><td>0.0382106</td><td>0.0497365</td><td>0.73205</td><td>0.149566</td><td>0.763087</td><td>0.06551</td><td>0.146618</td><td>0.687288</td></tr><tr><th>15</th><td>0.387137</td><td>0.338529</td><td>0.178211</td><td>0.426885</td><td>0.785403</td><td>0.237437</td><td>0.475808</td><td>0.376445</td></tr><tr><th>16</th><td>0.126657</td><td>0.407145</td><td>0.410831</td><td>0.613361</td><td>0.114839</td><td>0.343594</td><td>0.739666</td><td>0.384577</td></tr><tr><th>17</th><td>0.410139</td><td>0.237269</td><td>0.895881</td><td>0.890376</td><td>0.480104</td><td>0.118778</td><td>0.753431</td><td>0.78769</td></tr><tr><th>18</th><td>0.679641</td><td>0.658109</td><td>0.0941999</td><td>0.569975</td><td>0.678218</td><td>0.833663</td><td>0.73962</td><td>0.0932247</td></tr><tr><th>19</th><td>0.479335</td><td>0.589648</td><td>0.272129</td><td>0.589343</td><td>0.969451</td><td>0.96202</td><td>0.927421</td><td>0.07775</td></tr><tr><th>20</th><td>0.508489</td><td>0.311335</td><td>0.599004</td><td>0.525762</td><td>0.808141</td><td>0.933177</td><td>0.111046</td><td>0.109836</td></tr><tr><th>21</th><td>0.537039</td><td>0.00380621</td><td>0.703834</td><td>0.670375</td><td>0.373565</td><td>0.257144</td><td>0.297077</td><td>0.660614</td></tr><tr><th>22</th><td>0.311515</td><td>0.856124</td><td>0.761599</td><td>0.624097</td><td>0.665249</td><td>0.609987</td><td>0.834182</td><td>0.98651</td></tr><tr><th>23</th><td>0.939534</td><td>0.683052</td><td>0.404555</td><td>0.708679</td><td>0.312037</td><td>0.431104</td><td>0.119324</td><td>0.907766</td></tr><tr><th>24</th><td>0.176181</td><td>0.108681</td><td>0.727118</td><td>0.476308</td><td>0.284447</td><td>0.554775</td><td>0.736628</td><td>0.736151</td></tr><tr><th>25</th><td>0.278923</td><td>0.0706104</td><td>0.135721</td><td>0.370708</td><td>0.469637</td><td>0.368523</td><td>0.4102</td><td>0.532786</td></tr><tr><th>26</th><td>0.70917</td><td>0.597215</td><td>0.37828</td><td>0.556995</td><td>0.11137</td><td>0.728479</td><td>0.880016</td><td>0.0370476</td></tr><tr><th>27</th><td>0.701104</td><td>0.25292</td><td>0.293701</td><td>0.718004</td><td>0.0180204</td><td>0.70976</td><td>0.927593</td><td>0.941623</td></tr><tr><th>28</th><td>0.648473</td><td>0.523681</td><td>0.594046</td><td>0.169827</td><td>0.7796</td><td>0.876093</td><td>0.0589304</td><td>0.667327</td></tr><tr><th>29</th><td>0.560046</td><td>0.63716</td><td>0.748999</td><td>0.684415</td><td>0.680592</td><td>0.977036</td><td>0.632496</td><td>0.0675899</td></tr><tr><th>30</th><td>0.231551</td><td>0.700432</td><td>0.288219</td><td>0.649953</td><td>0.120099</td><td>0.975918</td><td>0.753077</td><td>0.542644</td></tr><tr><th>&vellip;</th><td>&vellip;</td><td>&vellip;</td><td>&vellip;</td><td>&vellip;</td><td>&vellip;</td><td>&vellip;</td><td>&vellip;</td><td>&vellip;</td></tr></tbody></table></div>"
      ],
      "text/latex": [
       "\\begin{tabular}{r|ccccccccc}\n",
       "\t& x1 & x2 & x3 & x4 & x5 & x6 & x7 & x8 & \\\\\n",
       "\t\\hline\n",
       "\t& Float64 & Float64 & Float64 & Float64 & Float64 & Float64 & Float64 & Float64 & \\\\\n",
       "\t\\hline\n",
       "\t1 & 0.620851 & 0.75956 & 0.086471 & 0.141431 & 0.258899 & 0.413615 & 0.934604 & 0.39581 & $\\dots$ \\\\\n",
       "\t2 & 0.105589 & 0.209177 & 0.685343 & 0.0660393 & 0.396761 & 0.913346 & 0.0248727 & 0.133875 & $\\dots$ \\\\\n",
       "\t3 & 0.983523 & 0.712555 & 0.0992709 & 0.759441 & 0.440898 & 0.10246 & 0.990721 & 0.904335 & $\\dots$ \\\\\n",
       "\t4 & 0.388133 & 0.102261 & 0.316264 & 0.900712 & 0.977021 & 0.968912 & 0.699624 & 0.163675 & $\\dots$ \\\\\n",
       "\t5 & 0.399831 & 0.967829 & 0.12189 & 0.722027 & 0.162325 & 0.209936 & 0.847496 & 0.0758826 & $\\dots$ \\\\\n",
       "\t6 & 0.405094 & 0.812244 & 0.784731 & 0.421858 & 0.800331 & 0.441914 & 0.315882 & 0.482087 & $\\dots$ \\\\\n",
       "\t7 & 0.435393 & 0.0532526 & 0.294183 & 0.996928 & 0.336332 & 0.307938 & 0.163823 & 0.542819 & $\\dots$ \\\\\n",
       "\t8 & 0.97882 & 0.686855 & 0.40084 & 0.914398 & 0.325452 & 0.343381 & 0.527434 & 0.865557 & $\\dots$ \\\\\n",
       "\t9 & 0.871545 & 0.231649 & 0.690776 & 0.169682 & 0.235853 & 0.747655 & 0.61211 & 0.769123 & $\\dots$ \\\\\n",
       "\t10 & 0.66691 & 0.609028 & 0.444258 & 0.611758 & 0.799476 & 0.992992 & 0.269694 & 0.169853 & $\\dots$ \\\\\n",
       "\t11 & 0.616764 & 0.473014 & 0.542561 & 0.897769 & 0.718072 & 0.0486898 & 0.53954 & 0.828561 & $\\dots$ \\\\\n",
       "\t12 & 0.33742 & 0.814789 & 0.904087 & 0.753224 & 0.0961721 & 0.743667 & 0.0507017 & 0.334991 & $\\dots$ \\\\\n",
       "\t13 & 0.55791 & 0.800691 & 0.977115 & 0.658768 & 0.714706 & 0.0102529 & 0.689473 & 0.466115 & $\\dots$ \\\\\n",
       "\t14 & 0.0382106 & 0.0497365 & 0.73205 & 0.149566 & 0.763087 & 0.06551 & 0.146618 & 0.687288 & $\\dots$ \\\\\n",
       "\t15 & 0.387137 & 0.338529 & 0.178211 & 0.426885 & 0.785403 & 0.237437 & 0.475808 & 0.376445 & $\\dots$ \\\\\n",
       "\t16 & 0.126657 & 0.407145 & 0.410831 & 0.613361 & 0.114839 & 0.343594 & 0.739666 & 0.384577 & $\\dots$ \\\\\n",
       "\t17 & 0.410139 & 0.237269 & 0.895881 & 0.890376 & 0.480104 & 0.118778 & 0.753431 & 0.78769 & $\\dots$ \\\\\n",
       "\t18 & 0.679641 & 0.658109 & 0.0941999 & 0.569975 & 0.678218 & 0.833663 & 0.73962 & 0.0932247 & $\\dots$ \\\\\n",
       "\t19 & 0.479335 & 0.589648 & 0.272129 & 0.589343 & 0.969451 & 0.96202 & 0.927421 & 0.07775 & $\\dots$ \\\\\n",
       "\t20 & 0.508489 & 0.311335 & 0.599004 & 0.525762 & 0.808141 & 0.933177 & 0.111046 & 0.109836 & $\\dots$ \\\\\n",
       "\t21 & 0.537039 & 0.00380621 & 0.703834 & 0.670375 & 0.373565 & 0.257144 & 0.297077 & 0.660614 & $\\dots$ \\\\\n",
       "\t22 & 0.311515 & 0.856124 & 0.761599 & 0.624097 & 0.665249 & 0.609987 & 0.834182 & 0.98651 & $\\dots$ \\\\\n",
       "\t23 & 0.939534 & 0.683052 & 0.404555 & 0.708679 & 0.312037 & 0.431104 & 0.119324 & 0.907766 & $\\dots$ \\\\\n",
       "\t24 & 0.176181 & 0.108681 & 0.727118 & 0.476308 & 0.284447 & 0.554775 & 0.736628 & 0.736151 & $\\dots$ \\\\\n",
       "\t25 & 0.278923 & 0.0706104 & 0.135721 & 0.370708 & 0.469637 & 0.368523 & 0.4102 & 0.532786 & $\\dots$ \\\\\n",
       "\t26 & 0.70917 & 0.597215 & 0.37828 & 0.556995 & 0.11137 & 0.728479 & 0.880016 & 0.0370476 & $\\dots$ \\\\\n",
       "\t27 & 0.701104 & 0.25292 & 0.293701 & 0.718004 & 0.0180204 & 0.70976 & 0.927593 & 0.941623 & $\\dots$ \\\\\n",
       "\t28 & 0.648473 & 0.523681 & 0.594046 & 0.169827 & 0.7796 & 0.876093 & 0.0589304 & 0.667327 & $\\dots$ \\\\\n",
       "\t29 & 0.560046 & 0.63716 & 0.748999 & 0.684415 & 0.680592 & 0.977036 & 0.632496 & 0.0675899 & $\\dots$ \\\\\n",
       "\t30 & 0.231551 & 0.700432 & 0.288219 & 0.649953 & 0.120099 & 0.975918 & 0.753077 & 0.542644 & $\\dots$ \\\\\n",
       "\t$\\dots$ & $\\dots$ & $\\dots$ & $\\dots$ & $\\dots$ & $\\dots$ & $\\dots$ & $\\dots$ & $\\dots$ &  \\\\\n",
       "\\end{tabular}\n"
      ],
      "text/plain": [
       "\u001b[1m1000000×10 DataFrame\u001b[0m\n",
       "\u001b[1m     Row \u001b[0m│\u001b[1m x1         \u001b[0m\u001b[1m x2        \u001b[0m\u001b[1m x3        \u001b[0m\u001b[1m x4        \u001b[0m\u001b[1m x5        \u001b[0m\u001b[1m x6        \u001b[0m\u001b[1m \u001b[0m ⋯\n",
       "\u001b[1m         \u001b[0m│\u001b[90m Float64    \u001b[0m\u001b[90m Float64   \u001b[0m\u001b[90m Float64   \u001b[0m\u001b[90m Float64   \u001b[0m\u001b[90m Float64   \u001b[0m\u001b[90m Float64   \u001b[0m\u001b[90m \u001b[0m ⋯\n",
       "─────────┼──────────────────────────────────────────────────────────────────────\n",
       "       1 │ 0.620851    0.75956    0.086471   0.141431   0.258899   0.413615    ⋯\n",
       "       2 │ 0.105589    0.209177   0.685343   0.0660393  0.396761   0.913346\n",
       "       3 │ 0.983523    0.712555   0.0992709  0.759441   0.440898   0.10246\n",
       "       4 │ 0.388133    0.102261   0.316264   0.900712   0.977021   0.968912\n",
       "       5 │ 0.399831    0.967829   0.12189    0.722027   0.162325   0.209936    ⋯\n",
       "       6 │ 0.405094    0.812244   0.784731   0.421858   0.800331   0.441914\n",
       "       7 │ 0.435393    0.0532526  0.294183   0.996928   0.336332   0.307938\n",
       "       8 │ 0.97882     0.686855   0.40084    0.914398   0.325452   0.343381\n",
       "       9 │ 0.871545    0.231649   0.690776   0.169682   0.235853   0.747655    ⋯\n",
       "      10 │ 0.66691     0.609028   0.444258   0.611758   0.799476   0.992992\n",
       "      11 │ 0.616764    0.473014   0.542561   0.897769   0.718072   0.0486898\n",
       "    ⋮    │     ⋮           ⋮          ⋮          ⋮          ⋮          ⋮       ⋱\n",
       "  999991 │ 0.873767    0.650091   0.503709   0.389635   0.54565    0.142708\n",
       "  999992 │ 0.513443    0.771703   0.756106   0.708518   0.582456   0.463679    ⋯\n",
       "  999993 │ 0.574996    0.288473   0.933839   0.401632   0.429932   0.345613\n",
       "  999994 │ 0.661974    0.998872   0.918376   0.840554   0.471632   0.372913\n",
       "  999995 │ 0.16519     0.804878   0.0418738  0.230276   0.682658   0.71031\n",
       "  999996 │ 0.583743    0.911401   0.633396   0.943048   0.945325   0.661192    ⋯\n",
       "  999997 │ 0.689317    0.557003   0.780509   0.649112   0.891956   0.0153532\n",
       "  999998 │ 0.0615051   0.926016   0.875032   0.941612   0.441709   0.552278\n",
       "  999999 │ 0.835246    0.50561    0.750724   0.281839   0.527804   0.501949\n",
       " 1000000 │ 0.00733257  0.755766   0.39667    0.996888   0.132422   0.369639    ⋯\n",
       "\u001b[36m                                               4 columns and 999979 rows omitted\u001b[0m"
      ]
     },
     "execution_count": 25,
     "metadata": {},
     "output_type": "execute_result"
    }
   ],
   "source": [
    "df2 = DataFrame(rand(10^6, 10), :auto)"
   ]
  },
  {
   "cell_type": "code",
   "execution_count": 26,
   "metadata": {},
   "outputs": [
    {
     "name": "stdout",
     "output_type": "stream",
     "text": [
      "  2.381582 seconds (60.18 M allocations: 1.061 GiB, 9.77% gc time, 5.24% compilation time)\n"
     ]
    },
    {
     "data": {
      "text/plain": [
       "1000000-element Vector{Float64}:\n",
       " 5.495798903655533\n",
       " 3.8660165001175106\n",
       " 6.862903729428506\n",
       " 4.886936643625564\n",
       " 4.225000638039363\n",
       " 4.903868354093585\n",
       " 3.8553432291243332\n",
       " 6.0265198403912015\n",
       " 5.386701419889809\n",
       " 6.2912782382105865\n",
       " 6.276551945400184\n",
       " 5.60523928826555\n",
       " 5.858276676796322\n",
       " ⋮\n",
       " 4.447862691920903\n",
       " 5.535517660729703\n",
       " 5.814354029712671\n",
       " 6.224623878720433\n",
       " 4.494643103789899\n",
       " 5.826518591421258\n",
       " 4.64247460526621\n",
       " 7.1289860081045235\n",
       " 5.985524441433525\n",
       " 5.580873911160428\n",
       " 6.019561584680654\n",
       " 4.878133442850752"
      ]
     },
     "execution_count": 26,
     "metadata": {},
     "output_type": "execute_result"
    }
   ],
   "source": [
    "@time map(sum, eachrow(df2))"
   ]
  },
  {
   "cell_type": "code",
   "execution_count": 27,
   "metadata": {},
   "outputs": [
    {
     "name": "stdout",
     "output_type": "stream",
     "text": [
      "  2.048501 seconds (59.99 M allocations: 1.050 GiB, 2.75% gc time)\n"
     ]
    },
    {
     "data": {
      "text/plain": [
       "1000000-element Vector{Float64}:\n",
       " 5.495798903655533\n",
       " 3.8660165001175106\n",
       " 6.862903729428506\n",
       " 4.886936643625564\n",
       " 4.225000638039363\n",
       " 4.903868354093585\n",
       " 3.8553432291243332\n",
       " 6.0265198403912015\n",
       " 5.386701419889809\n",
       " 6.2912782382105865\n",
       " 6.276551945400184\n",
       " 5.60523928826555\n",
       " 5.858276676796322\n",
       " ⋮\n",
       " 4.447862691920903\n",
       " 5.535517660729703\n",
       " 5.814354029712671\n",
       " 6.224623878720433\n",
       " 4.494643103789899\n",
       " 5.826518591421258\n",
       " 4.64247460526621\n",
       " 7.1289860081045235\n",
       " 5.985524441433525\n",
       " 5.580873911160428\n",
       " 6.019561584680654\n",
       " 4.878133442850752"
      ]
     },
     "execution_count": 27,
     "metadata": {},
     "output_type": "execute_result"
    }
   ],
   "source": [
    "@time map(sum, eachrow(df2))"
   ]
  },
  {
   "cell_type": "code",
   "execution_count": 28,
   "metadata": {},
   "outputs": [
    {
     "name": "stdout",
     "output_type": "stream",
     "text": [
      "  0.230335 seconds (512.70 k allocations: 38.737 MiB, 3.45% gc time, 94.18% compilation time)\n"
     ]
    },
    {
     "data": {
      "text/plain": [
       "1000000-element Vector{Float64}:\n",
       " 5.495798903655533\n",
       " 3.8660165001175106\n",
       " 6.862903729428506\n",
       " 4.886936643625564\n",
       " 4.225000638039363\n",
       " 4.903868354093585\n",
       " 3.8553432291243332\n",
       " 6.0265198403912015\n",
       " 5.386701419889809\n",
       " 6.2912782382105865\n",
       " 6.276551945400184\n",
       " 5.60523928826555\n",
       " 5.858276676796322\n",
       " ⋮\n",
       " 4.447862691920903\n",
       " 5.535517660729703\n",
       " 5.814354029712671\n",
       " 6.224623878720433\n",
       " 4.494643103789899\n",
       " 5.826518591421258\n",
       " 4.64247460526621\n",
       " 7.1289860081045235\n",
       " 5.985524441433525\n",
       " 5.580873911160428\n",
       " 6.019561584680654\n",
       " 4.878133442850752"
      ]
     },
     "execution_count": 28,
     "metadata": {},
     "output_type": "execute_result"
    }
   ],
   "source": [
    "@time map(sum, Tables.namedtupleiterator(df2))"
   ]
  },
  {
   "cell_type": "code",
   "execution_count": 29,
   "metadata": {},
   "outputs": [
    {
     "name": "stdout",
     "output_type": "stream",
     "text": [
      "  0.014752 seconds (17 allocations: 7.631 MiB)\n"
     ]
    },
    {
     "data": {
      "text/plain": [
       "1000000-element Vector{Float64}:\n",
       " 5.495798903655533\n",
       " 3.8660165001175106\n",
       " 6.862903729428506\n",
       " 4.886936643625564\n",
       " 4.225000638039363\n",
       " 4.903868354093585\n",
       " 3.8553432291243332\n",
       " 6.0265198403912015\n",
       " 5.386701419889809\n",
       " 6.2912782382105865\n",
       " 6.276551945400184\n",
       " 5.60523928826555\n",
       " 5.858276676796322\n",
       " ⋮\n",
       " 4.447862691920903\n",
       " 5.535517660729703\n",
       " 5.814354029712671\n",
       " 6.224623878720433\n",
       " 4.494643103789899\n",
       " 5.826518591421258\n",
       " 4.64247460526621\n",
       " 7.1289860081045235\n",
       " 5.985524441433525\n",
       " 5.580873911160428\n",
       " 6.019561584680654\n",
       " 4.878133442850752"
      ]
     },
     "execution_count": 29,
     "metadata": {},
     "output_type": "execute_result"
    }
   ],
   "source": [
    "@time map(sum, Tables.namedtupleiterator(df2))"
   ]
  },
  {
   "cell_type": "markdown",
   "metadata": {},
   "source": [
    "as you can see - this time it is much faster to iterate a type stable container"
   ]
  }
 ],
 "metadata": {
  "@webio": {
   "lastCommId": null,
   "lastKernelId": null
  },
  "kernelspec": {
   "display_name": "Julia 1.6.1",
   "language": "julia",
   "name": "julia-1.6"
  },
  "language_info": {
   "file_extension": ".jl",
   "mimetype": "application/julia",
   "name": "julia",
   "version": "1.6.1"
  }
 },
 "nbformat": 4,
 "nbformat_minor": 1
}
