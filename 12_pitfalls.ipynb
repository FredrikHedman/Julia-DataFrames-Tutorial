{
 "cells": [
  {
   "cell_type": "markdown",
   "metadata": {},
   "source": [
    "# Introduction to DataFrames\n",
    "**[Bogumił Kamiński](http://bogumilkaminski.pl/about/), October 5, 2022**"
   ]
  },
  {
   "cell_type": "code",
   "execution_count": 1,
   "metadata": {},
   "outputs": [],
   "source": [
    "using DataFrames"
   ]
  },
  {
   "cell_type": "markdown",
   "metadata": {},
   "source": [
    "## Possible pitfalls"
   ]
  },
  {
   "cell_type": "markdown",
   "metadata": {},
   "source": [
    "### Know what is copied when creating a `DataFrame`"
   ]
  },
  {
   "cell_type": "code",
   "execution_count": 2,
   "metadata": {},
   "outputs": [
    {
     "data": {
      "text/html": [
       "<div><div style = \"float: left;\"><span>3×5 DataFrame</span></div><div style = \"clear: both;\"></div></div><div class = \"data-frame\" style = \"overflow-x: scroll;\"><table class = \"data-frame\" style = \"margin-bottom: 6px;\"><thead><tr class = \"header\"><th class = \"rowNumber\" style = \"font-weight: bold; text-align: right;\">Row</th><th style = \"text-align: left;\">x1</th><th style = \"text-align: left;\">x2</th><th style = \"text-align: left;\">x3</th><th style = \"text-align: left;\">x4</th><th style = \"text-align: left;\">x5</th></tr><tr class = \"subheader headerLastRow\"><th class = \"rowNumber\" style = \"font-weight: bold; text-align: right;\"></th><th title = \"Float64\" style = \"text-align: left;\">Float64</th><th title = \"Float64\" style = \"text-align: left;\">Float64</th><th title = \"Float64\" style = \"text-align: left;\">Float64</th><th title = \"Float64\" style = \"text-align: left;\">Float64</th><th title = \"Float64\" style = \"text-align: left;\">Float64</th></tr></thead><tbody><tr><td class = \"rowNumber\" style = \"font-weight: bold; text-align: right;\">1</td><td style = \"text-align: right;\">0.201581</td><td style = \"text-align: right;\">0.808985</td><td style = \"text-align: right;\">0.102587</td><td style = \"text-align: right;\">0.965488</td><td style = \"text-align: right;\">0.743211</td></tr><tr><td class = \"rowNumber\" style = \"font-weight: bold; text-align: right;\">2</td><td style = \"text-align: right;\">0.00583326</td><td style = \"text-align: right;\">0.302103</td><td style = \"text-align: right;\">0.58221</td><td style = \"text-align: right;\">0.458408</td><td style = \"text-align: right;\">0.180463</td></tr><tr><td class = \"rowNumber\" style = \"font-weight: bold; text-align: right;\">3</td><td style = \"text-align: right;\">0.159787</td><td style = \"text-align: right;\">0.613589</td><td style = \"text-align: right;\">0.612709</td><td style = \"text-align: right;\">0.390491</td><td style = \"text-align: right;\">0.197921</td></tr></tbody></table></div>"
      ],
      "text/latex": [
       "\\begin{tabular}{r|ccccc}\n",
       "\t& x1 & x2 & x3 & x4 & x5\\\\\n",
       "\t\\hline\n",
       "\t& Float64 & Float64 & Float64 & Float64 & Float64\\\\\n",
       "\t\\hline\n",
       "\t1 & 0.201581 & 0.808985 & 0.102587 & 0.965488 & 0.743211 \\\\\n",
       "\t2 & 0.00583326 & 0.302103 & 0.58221 & 0.458408 & 0.180463 \\\\\n",
       "\t3 & 0.159787 & 0.613589 & 0.612709 & 0.390491 & 0.197921 \\\\\n",
       "\\end{tabular}\n"
      ],
      "text/plain": [
       "\u001b[1m3×5 DataFrame\u001b[0m\n",
       "\u001b[1m Row \u001b[0m│\u001b[1m x1         \u001b[0m\u001b[1m x2       \u001b[0m\u001b[1m x3       \u001b[0m\u001b[1m x4       \u001b[0m\u001b[1m x5       \u001b[0m\n",
       "     │\u001b[90m Float64    \u001b[0m\u001b[90m Float64  \u001b[0m\u001b[90m Float64  \u001b[0m\u001b[90m Float64  \u001b[0m\u001b[90m Float64  \u001b[0m\n",
       "─────┼────────────────────────────────────────────────────\n",
       "   1 │ 0.201581    0.808985  0.102587  0.965488  0.743211\n",
       "   2 │ 0.00583326  0.302103  0.58221   0.458408  0.180463\n",
       "   3 │ 0.159787    0.613589  0.612709  0.390491  0.197921"
      ]
     },
     "execution_count": 2,
     "metadata": {},
     "output_type": "execute_result"
    }
   ],
   "source": [
    "x = DataFrame(rand(3, 5), :auto)"
   ]
  },
  {
   "cell_type": "code",
   "execution_count": 3,
   "metadata": {},
   "outputs": [
    {
     "data": {
      "text/plain": [
       "false"
      ]
     },
     "execution_count": 3,
     "metadata": {},
     "output_type": "execute_result"
    }
   ],
   "source": [
    "y = copy(x)\n",
    "x === y # not the same object"
   ]
  },
  {
   "cell_type": "code",
   "execution_count": 4,
   "metadata": {},
   "outputs": [
    {
     "data": {
      "text/plain": [
       "false"
      ]
     },
     "execution_count": 4,
     "metadata": {},
     "output_type": "execute_result"
    }
   ],
   "source": [
    "y = DataFrame(x)\n",
    "x === y"
   ]
  },
  {
   "cell_type": "code",
   "execution_count": 5,
   "metadata": {},
   "outputs": [
    {
     "data": {
      "text/plain": [
       "false"
      ]
     },
     "execution_count": 5,
     "metadata": {},
     "output_type": "execute_result"
    }
   ],
   "source": [
    "any(x[!, i] === y[!, i] for i in ncol(x)) # the columns are also not the same"
   ]
  },
  {
   "cell_type": "code",
   "execution_count": 6,
   "metadata": {},
   "outputs": [
    {
     "data": {
      "text/plain": [
       "false"
      ]
     },
     "execution_count": 6,
     "metadata": {},
     "output_type": "execute_result"
    }
   ],
   "source": [
    "y = DataFrame(x, copycols=false)\n",
    "x === y"
   ]
  },
  {
   "cell_type": "code",
   "execution_count": 7,
   "metadata": {},
   "outputs": [
    {
     "data": {
      "text/plain": [
       "true"
      ]
     },
     "execution_count": 7,
     "metadata": {},
     "output_type": "execute_result"
    }
   ],
   "source": [
    "all(x[!, i] === y[!, i] for i in ncol(x)) # the columns are the same"
   ]
  },
  {
   "cell_type": "code",
   "execution_count": 8,
   "metadata": {},
   "outputs": [
    {
     "data": {
      "text/html": [
       "<div><div style = \"float: left;\"><span>3×2 DataFrame</span></div><div style = \"clear: both;\"></div></div><div class = \"data-frame\" style = \"overflow-x: scroll;\"><table class = \"data-frame\" style = \"margin-bottom: 6px;\"><thead><tr class = \"header\"><th class = \"rowNumber\" style = \"font-weight: bold; text-align: right;\">Row</th><th style = \"text-align: left;\">x</th><th style = \"text-align: left;\">y</th></tr><tr class = \"subheader headerLastRow\"><th class = \"rowNumber\" style = \"font-weight: bold; text-align: right;\"></th><th title = \"Int64\" style = \"text-align: left;\">Int64</th><th title = \"Int64\" style = \"text-align: left;\">Int64</th></tr></thead><tbody><tr><td class = \"rowNumber\" style = \"font-weight: bold; text-align: right;\">1</td><td style = \"text-align: right;\">1</td><td style = \"text-align: right;\">1</td></tr><tr><td class = \"rowNumber\" style = \"font-weight: bold; text-align: right;\">2</td><td style = \"text-align: right;\">2</td><td style = \"text-align: right;\">2</td></tr><tr><td class = \"rowNumber\" style = \"font-weight: bold; text-align: right;\">3</td><td style = \"text-align: right;\">3</td><td style = \"text-align: right;\">3</td></tr></tbody></table></div>"
      ],
      "text/latex": [
       "\\begin{tabular}{r|cc}\n",
       "\t& x & y\\\\\n",
       "\t\\hline\n",
       "\t& Int64 & Int64\\\\\n",
       "\t\\hline\n",
       "\t1 & 1 & 1 \\\\\n",
       "\t2 & 2 & 2 \\\\\n",
       "\t3 & 3 & 3 \\\\\n",
       "\\end{tabular}\n"
      ],
      "text/plain": [
       "\u001b[1m3×2 DataFrame\u001b[0m\n",
       "\u001b[1m Row \u001b[0m│\u001b[1m x     \u001b[0m\u001b[1m y     \u001b[0m\n",
       "     │\u001b[90m Int64 \u001b[0m\u001b[90m Int64 \u001b[0m\n",
       "─────┼──────────────\n",
       "   1 │     1      1\n",
       "   2 │     2      2\n",
       "   3 │     3      3"
      ]
     },
     "execution_count": 8,
     "metadata": {},
     "output_type": "execute_result"
    }
   ],
   "source": [
    "x = 1:3; y = [1, 2, 3]; df = DataFrame(x=x,y=y) # the same when creating data frames using kwarg syntax"
   ]
  },
  {
   "cell_type": "code",
   "execution_count": 9,
   "metadata": {},
   "outputs": [
    {
     "data": {
      "text/plain": [
       "false"
      ]
     },
     "execution_count": 9,
     "metadata": {},
     "output_type": "execute_result"
    }
   ],
   "source": [
    "y === df.y # different object"
   ]
  },
  {
   "cell_type": "code",
   "execution_count": 10,
   "metadata": {},
   "outputs": [
    {
     "data": {
      "text/plain": [
       "(UnitRange{Int64}, Vector{Int64})"
      ]
     },
     "execution_count": 10,
     "metadata": {},
     "output_type": "execute_result"
    }
   ],
   "source": [
    "typeof(x), typeof(df.x) # range is converted to a vector"
   ]
  },
  {
   "cell_type": "code",
   "execution_count": 11,
   "metadata": {},
   "outputs": [
    {
     "data": {
      "text/plain": [
       "false"
      ]
     },
     "execution_count": 11,
     "metadata": {},
     "output_type": "execute_result"
    }
   ],
   "source": [
    "y === df[:, :y] # slicing rows always creates a copy"
   ]
  },
  {
   "cell_type": "markdown",
   "metadata": {},
   "source": [
    "you can avoid copying by using `copycols=false` keyword argument in functions."
   ]
  },
  {
   "cell_type": "code",
   "execution_count": 12,
   "metadata": {},
   "outputs": [
    {
     "data": {
      "text/html": [
       "<div><div style = \"float: left;\"><span>3×2 DataFrame</span></div><div style = \"clear: both;\"></div></div><div class = \"data-frame\" style = \"overflow-x: scroll;\"><table class = \"data-frame\" style = \"margin-bottom: 6px;\"><thead><tr class = \"header\"><th class = \"rowNumber\" style = \"font-weight: bold; text-align: right;\">Row</th><th style = \"text-align: left;\">x</th><th style = \"text-align: left;\">y</th></tr><tr class = \"subheader headerLastRow\"><th class = \"rowNumber\" style = \"font-weight: bold; text-align: right;\"></th><th title = \"Int64\" style = \"text-align: left;\">Int64</th><th title = \"Int64\" style = \"text-align: left;\">Int64</th></tr></thead><tbody><tr><td class = \"rowNumber\" style = \"font-weight: bold; text-align: right;\">1</td><td style = \"text-align: right;\">1</td><td style = \"text-align: right;\">1</td></tr><tr><td class = \"rowNumber\" style = \"font-weight: bold; text-align: right;\">2</td><td style = \"text-align: right;\">2</td><td style = \"text-align: right;\">2</td></tr><tr><td class = \"rowNumber\" style = \"font-weight: bold; text-align: right;\">3</td><td style = \"text-align: right;\">3</td><td style = \"text-align: right;\">3</td></tr></tbody></table></div>"
      ],
      "text/latex": [
       "\\begin{tabular}{r|cc}\n",
       "\t& x & y\\\\\n",
       "\t\\hline\n",
       "\t& Int64 & Int64\\\\\n",
       "\t\\hline\n",
       "\t1 & 1 & 1 \\\\\n",
       "\t2 & 2 & 2 \\\\\n",
       "\t3 & 3 & 3 \\\\\n",
       "\\end{tabular}\n"
      ],
      "text/plain": [
       "\u001b[1m3×2 DataFrame\u001b[0m\n",
       "\u001b[1m Row \u001b[0m│\u001b[1m x     \u001b[0m\u001b[1m y     \u001b[0m\n",
       "     │\u001b[90m Int64 \u001b[0m\u001b[90m Int64 \u001b[0m\n",
       "─────┼──────────────\n",
       "   1 │     1      1\n",
       "   2 │     2      2\n",
       "   3 │     3      3"
      ]
     },
     "execution_count": 12,
     "metadata": {},
     "output_type": "execute_result"
    }
   ],
   "source": [
    "df = DataFrame(x=x,y=y, copycols=false)"
   ]
  },
  {
   "cell_type": "code",
   "execution_count": 13,
   "metadata": {},
   "outputs": [
    {
     "data": {
      "text/plain": [
       "true"
      ]
     },
     "execution_count": 13,
     "metadata": {},
     "output_type": "execute_result"
    }
   ],
   "source": [
    "y === df.y # now it is the same"
   ]
  },
  {
   "cell_type": "code",
   "execution_count": 14,
   "metadata": {},
   "outputs": [
    {
     "data": {
      "text/plain": [
       "false"
      ]
     },
     "execution_count": 14,
     "metadata": {},
     "output_type": "execute_result"
    }
   ],
   "source": [
    "select(df, :y)[!, 1] === y # not the same"
   ]
  },
  {
   "cell_type": "code",
   "execution_count": 15,
   "metadata": {},
   "outputs": [
    {
     "data": {
      "text/plain": [
       "true"
      ]
     },
     "execution_count": 15,
     "metadata": {},
     "output_type": "execute_result"
    }
   ],
   "source": [
    "select(df, :y, copycols=false)[!, 1] === y # the same"
   ]
  },
  {
   "cell_type": "markdown",
   "metadata": {},
   "source": [
    "### Do not modify the parent of `GroupedDataFrame` or `view`"
   ]
  },
  {
   "cell_type": "code",
   "execution_count": 16,
   "metadata": {},
   "outputs": [
    {
     "data": {
      "text/html": [
       "<p><b>GroupedDataFrame with 2 groups based on key: id</b></p><div><div style = \"float: left;\"><span>First Group (3 rows): id = 1</span></div><div style = \"clear: both;\"></div></div><div class = \"data-frame\" style = \"overflow-x: scroll;\"><table class = \"data-frame\" style = \"margin-bottom: 6px;\"><thead><tr class = \"header\"><th class = \"rowNumber\" style = \"font-weight: bold; text-align: right;\">Row</th><th style = \"text-align: left;\">id</th><th style = \"text-align: left;\">x</th></tr><tr class = \"subheader headerLastRow\"><th class = \"rowNumber\" style = \"font-weight: bold; text-align: right;\"></th><th title = \"Int64\" style = \"text-align: left;\">Int64</th><th title = \"Int64\" style = \"text-align: left;\">Int64</th></tr></thead><tbody><tr><td class = \"rowNumber\" style = \"font-weight: bold; text-align: right;\">1</td><td style = \"text-align: right;\">1</td><td style = \"text-align: right;\">1</td></tr><tr><td class = \"rowNumber\" style = \"font-weight: bold; text-align: right;\">2</td><td style = \"text-align: right;\">1</td><td style = \"text-align: right;\">3</td></tr><tr><td class = \"rowNumber\" style = \"font-weight: bold; text-align: right;\">3</td><td style = \"text-align: right;\">1</td><td style = \"text-align: right;\">5</td></tr></tbody></table></div><p>&vellip;</p><div><div style = \"float: left;\"><span>Last Group (3 rows): id = 2</span></div><div style = \"clear: both;\"></div></div><div class = \"data-frame\" style = \"overflow-x: scroll;\"><table class = \"data-frame\" style = \"margin-bottom: 6px;\"><thead><tr class = \"header\"><th class = \"rowNumber\" style = \"font-weight: bold; text-align: right;\">Row</th><th style = \"text-align: left;\">id</th><th style = \"text-align: left;\">x</th></tr><tr class = \"subheader headerLastRow\"><th class = \"rowNumber\" style = \"font-weight: bold; text-align: right;\"></th><th title = \"Int64\" style = \"text-align: left;\">Int64</th><th title = \"Int64\" style = \"text-align: left;\">Int64</th></tr></thead><tbody><tr><td class = \"rowNumber\" style = \"font-weight: bold; text-align: right;\">1</td><td style = \"text-align: right;\">2</td><td style = \"text-align: right;\">2</td></tr><tr><td class = \"rowNumber\" style = \"font-weight: bold; text-align: right;\">2</td><td style = \"text-align: right;\">2</td><td style = \"text-align: right;\">4</td></tr><tr><td class = \"rowNumber\" style = \"font-weight: bold; text-align: right;\">3</td><td style = \"text-align: right;\">2</td><td style = \"text-align: right;\">6</td></tr></tbody></table></div>"
      ],
      "text/latex": [
       "GroupedDataFrame with 2 groups based on key: id\n",
       "\n",
       "First Group (3 rows): id = 1\n",
       "\n",
       "\\begin{tabular}{r|cc}\n",
       "\t& id & x\\\\\n",
       "\t\\hline\n",
       "\t& Int64 & Int64\\\\\n",
       "\t\\hline\n",
       "\t1 & 1 & 1 \\\\\n",
       "\t2 & 1 & 3 \\\\\n",
       "\t3 & 1 & 5 \\\\\n",
       "\\end{tabular}\n",
       "\n",
       "$\\dots$\n",
       "\n",
       "Last Group (3 rows): id = 2\n",
       "\n",
       "\\begin{tabular}{r|cc}\n",
       "\t& id & x\\\\\n",
       "\t\\hline\n",
       "\t& Int64 & Int64\\\\\n",
       "\t\\hline\n",
       "\t1 & 2 & 2 \\\\\n",
       "\t2 & 2 & 4 \\\\\n",
       "\t3 & 2 & 6 \\\\\n",
       "\\end{tabular}\n"
      ],
      "text/plain": [
       "GroupedDataFrame with 2 groups based on key: id\n",
       "First Group (3 rows): id = 1\n",
       "\u001b[1m Row \u001b[0m│\u001b[1m id    \u001b[0m\u001b[1m x     \u001b[0m\n",
       "     │\u001b[90m Int64 \u001b[0m\u001b[90m Int64 \u001b[0m\n",
       "─────┼──────────────\n",
       "   1 │     1      1\n",
       "   2 │     1      3\n",
       "   3 │     1      5\n",
       "⋮\n",
       "Last Group (3 rows): id = 2\n",
       "\u001b[1m Row \u001b[0m│\u001b[1m id    \u001b[0m\u001b[1m x     \u001b[0m\n",
       "     │\u001b[90m Int64 \u001b[0m\u001b[90m Int64 \u001b[0m\n",
       "─────┼──────────────\n",
       "   1 │     2      2\n",
       "   2 │     2      4\n",
       "   3 │     2      6"
      ]
     },
     "execution_count": 16,
     "metadata": {},
     "output_type": "execute_result"
    }
   ],
   "source": [
    "x = DataFrame(id=repeat([1,2], outer=3), x=1:6)\n",
    "g = groupby(x, :id)"
   ]
  },
  {
   "cell_type": "code",
   "execution_count": 17,
   "metadata": {},
   "outputs": [
    {
     "data": {
      "text/html": [
       "<p><b>GroupedDataFrame with 2 groups based on key: id</b></p><div><div style = \"float: left;\"><span>First Group (3 rows): id = 2</span></div><div style = \"clear: both;\"></div></div><div class = \"data-frame\" style = \"overflow-x: scroll;\"><table class = \"data-frame\" style = \"margin-bottom: 6px;\"><thead><tr class = \"header\"><th class = \"rowNumber\" style = \"font-weight: bold; text-align: right;\">Row</th><th style = \"text-align: left;\">id</th><th style = \"text-align: left;\">x</th></tr><tr class = \"subheader headerLastRow\"><th class = \"rowNumber\" style = \"font-weight: bold; text-align: right;\"></th><th title = \"Int64\" style = \"text-align: left;\">Int64</th><th title = \"Int64\" style = \"text-align: left;\">Int64</th></tr></thead><tbody><tr><td class = \"rowNumber\" style = \"font-weight: bold; text-align: right;\">1</td><td style = \"text-align: right;\">2</td><td style = \"text-align: right;\">1</td></tr><tr><td class = \"rowNumber\" style = \"font-weight: bold; text-align: right;\">2</td><td style = \"text-align: right;\">2</td><td style = \"text-align: right;\">3</td></tr><tr><td class = \"rowNumber\" style = \"font-weight: bold; text-align: right;\">3</td><td style = \"text-align: right;\">1</td><td style = \"text-align: right;\">5</td></tr></tbody></table></div><p>&vellip;</p><div><div style = \"float: left;\"><span>Last Group (3 rows): id = 2</span></div><div style = \"clear: both;\"></div></div><div class = \"data-frame\" style = \"overflow-x: scroll;\"><table class = \"data-frame\" style = \"margin-bottom: 6px;\"><thead><tr class = \"header\"><th class = \"rowNumber\" style = \"font-weight: bold; text-align: right;\">Row</th><th style = \"text-align: left;\">id</th><th style = \"text-align: left;\">x</th></tr><tr class = \"subheader headerLastRow\"><th class = \"rowNumber\" style = \"font-weight: bold; text-align: right;\"></th><th title = \"Int64\" style = \"text-align: left;\">Int64</th><th title = \"Int64\" style = \"text-align: left;\">Int64</th></tr></thead><tbody><tr><td class = \"rowNumber\" style = \"font-weight: bold; text-align: right;\">1</td><td style = \"text-align: right;\">2</td><td style = \"text-align: right;\">2</td></tr><tr><td class = \"rowNumber\" style = \"font-weight: bold; text-align: right;\">2</td><td style = \"text-align: right;\">2</td><td style = \"text-align: right;\">4</td></tr><tr><td class = \"rowNumber\" style = \"font-weight: bold; text-align: right;\">3</td><td style = \"text-align: right;\">2</td><td style = \"text-align: right;\">6</td></tr></tbody></table></div>"
      ],
      "text/latex": [
       "GroupedDataFrame with 2 groups based on key: id\n",
       "\n",
       "First Group (3 rows): id = 2\n",
       "\n",
       "\\begin{tabular}{r|cc}\n",
       "\t& id & x\\\\\n",
       "\t\\hline\n",
       "\t& Int64 & Int64\\\\\n",
       "\t\\hline\n",
       "\t1 & 2 & 1 \\\\\n",
       "\t2 & 2 & 3 \\\\\n",
       "\t3 & 1 & 5 \\\\\n",
       "\\end{tabular}\n",
       "\n",
       "$\\dots$\n",
       "\n",
       "Last Group (3 rows): id = 2\n",
       "\n",
       "\\begin{tabular}{r|cc}\n",
       "\t& id & x\\\\\n",
       "\t\\hline\n",
       "\t& Int64 & Int64\\\\\n",
       "\t\\hline\n",
       "\t1 & 2 & 2 \\\\\n",
       "\t2 & 2 & 4 \\\\\n",
       "\t3 & 2 & 6 \\\\\n",
       "\\end{tabular}\n"
      ],
      "text/plain": [
       "GroupedDataFrame with 2 groups based on key: id\n",
       "First Group (3 rows): id = 2\n",
       "\u001b[1m Row \u001b[0m│\u001b[1m id    \u001b[0m\u001b[1m x     \u001b[0m\n",
       "     │\u001b[90m Int64 \u001b[0m\u001b[90m Int64 \u001b[0m\n",
       "─────┼──────────────\n",
       "   1 │     2      1\n",
       "   2 │     2      3\n",
       "   3 │     1      5\n",
       "⋮\n",
       "Last Group (3 rows): id = 2\n",
       "\u001b[1m Row \u001b[0m│\u001b[1m id    \u001b[0m\u001b[1m x     \u001b[0m\n",
       "     │\u001b[90m Int64 \u001b[0m\u001b[90m Int64 \u001b[0m\n",
       "─────┼──────────────\n",
       "   1 │     2      2\n",
       "   2 │     2      4\n",
       "   3 │     2      6"
      ]
     },
     "execution_count": 17,
     "metadata": {},
     "output_type": "execute_result"
    }
   ],
   "source": [
    "x[1:3, 1] = [2,2,2]\n",
    "g # well - it is wrong now, g is only a view"
   ]
  },
  {
   "cell_type": "code",
   "execution_count": 18,
   "metadata": {},
   "outputs": [
    {
     "data": {
      "text/html": [
       "<div><div style = \"float: left;\"><span>2×2 SubDataFrame</span></div><div style = \"clear: both;\"></div></div><div class = \"data-frame\" style = \"overflow-x: scroll;\"><table class = \"data-frame\" style = \"margin-bottom: 6px;\"><thead><tr class = \"header\"><th class = \"rowNumber\" style = \"font-weight: bold; text-align: right;\">Row</th><th style = \"text-align: left;\">id</th><th style = \"text-align: left;\">x</th></tr><tr class = \"subheader headerLastRow\"><th class = \"rowNumber\" style = \"font-weight: bold; text-align: right;\"></th><th title = \"Int64\" style = \"text-align: left;\">Int64</th><th title = \"Int64\" style = \"text-align: left;\">Int64</th></tr></thead><tbody><tr><td class = \"rowNumber\" style = \"font-weight: bold; text-align: right;\">1</td><td style = \"text-align: right;\">1</td><td style = \"text-align: right;\">5</td></tr><tr><td class = \"rowNumber\" style = \"font-weight: bold; text-align: right;\">2</td><td style = \"text-align: right;\">2</td><td style = \"text-align: right;\">6</td></tr></tbody></table></div>"
      ],
      "text/latex": [
       "\\begin{tabular}{r|cc}\n",
       "\t& id & x\\\\\n",
       "\t\\hline\n",
       "\t& Int64 & Int64\\\\\n",
       "\t\\hline\n",
       "\t1 & 1 & 5 \\\\\n",
       "\t2 & 2 & 6 \\\\\n",
       "\\end{tabular}\n"
      ],
      "text/plain": [
       "\u001b[1m2×2 SubDataFrame\u001b[0m\n",
       "\u001b[1m Row \u001b[0m│\u001b[1m id    \u001b[0m\u001b[1m x     \u001b[0m\n",
       "     │\u001b[90m Int64 \u001b[0m\u001b[90m Int64 \u001b[0m\n",
       "─────┼──────────────\n",
       "   1 │     1      5\n",
       "   2 │     2      6"
      ]
     },
     "execution_count": 18,
     "metadata": {},
     "output_type": "execute_result"
    }
   ],
   "source": [
    "s = view(x, 5:6, :)"
   ]
  },
  {
   "cell_type": "code",
   "execution_count": 19,
   "metadata": {},
   "outputs": [
    {
     "data": {
      "text/html": [
       "<div><div style = \"float: left;\"><span>2×2 DataFrame</span></div><div style = \"clear: both;\"></div></div><div class = \"data-frame\" style = \"overflow-x: scroll;\"><table class = \"data-frame\" style = \"margin-bottom: 6px;\"><thead><tr class = \"header\"><th class = \"rowNumber\" style = \"font-weight: bold; text-align: right;\">Row</th><th style = \"text-align: left;\">id</th><th style = \"text-align: left;\">x</th></tr><tr class = \"subheader headerLastRow\"><th class = \"rowNumber\" style = \"font-weight: bold; text-align: right;\"></th><th title = \"Int64\" style = \"text-align: left;\">Int64</th><th title = \"Int64\" style = \"text-align: left;\">Int64</th></tr></thead><tbody><tr><td class = \"rowNumber\" style = \"font-weight: bold; text-align: right;\">1</td><td style = \"text-align: right;\">2</td><td style = \"text-align: right;\">1</td></tr><tr><td class = \"rowNumber\" style = \"font-weight: bold; text-align: right;\">2</td><td style = \"text-align: right;\">2</td><td style = \"text-align: right;\">2</td></tr></tbody></table></div>"
      ],
      "text/latex": [
       "\\begin{tabular}{r|cc}\n",
       "\t& id & x\\\\\n",
       "\t\\hline\n",
       "\t& Int64 & Int64\\\\\n",
       "\t\\hline\n",
       "\t1 & 2 & 1 \\\\\n",
       "\t2 & 2 & 2 \\\\\n",
       "\\end{tabular}\n"
      ],
      "text/plain": [
       "\u001b[1m2×2 DataFrame\u001b[0m\n",
       "\u001b[1m Row \u001b[0m│\u001b[1m id    \u001b[0m\u001b[1m x     \u001b[0m\n",
       "     │\u001b[90m Int64 \u001b[0m\u001b[90m Int64 \u001b[0m\n",
       "─────┼──────────────\n",
       "   1 │     2      1\n",
       "   2 │     2      2"
      ]
     },
     "execution_count": 19,
     "metadata": {},
     "output_type": "execute_result"
    }
   ],
   "source": [
    "delete!(x, 3:6)"
   ]
  },
  {
   "cell_type": "code",
   "execution_count": 20,
   "metadata": {},
   "outputs": [
    {
     "ename": "BoundsError",
     "evalue": "BoundsError: attempt to access 2-element Vector{Int64} at index [5:6]",
     "output_type": "error",
     "traceback": [
      "BoundsError: attempt to access 2-element Vector{Int64} at index [5:6]",
      "",
      "Stacktrace:",
      "  [1] throw_boundserror(A::Vector{Int64}, I::Tuple{UnitRange{Int64}})",
      "    @ Base .\\abstractarray.jl:703",
      "  [2] checkbounds",
      "    @ .\\abstractarray.jl:668 [inlined]",
      "  [3] view(A::Vector{Int64}, I::UnitRange{Int64})",
      "    @ Base .\\subarray.jl:177",
      "  [4] view",
      "    @ C:\\Users\\bogum\\.julia\\packages\\DataFrames\\XM9o2\\src\\subdataframe\\subdataframe.jl:133 [inlined]",
      "  [5] getindex",
      "    @ C:\\Users\\bogum\\.julia\\packages\\DataFrames\\XM9o2\\src\\subdataframe\\subdataframe.jl:169 [inlined]",
      "  [6] getindex",
      "    @ C:\\Users\\bogum\\.julia\\packages\\DataFrames\\XM9o2\\src\\abstractdataframe\\iteration.jl:198 [inlined]",
      "  [7] iterate(itr::DataFrames.DataFrameColumns{SubDataFrame{DataFrame, DataFrames.Index, UnitRange{Int64}}}, i::Int64) (repeats 2 times)",
      "    @ DataFrames C:\\Users\\bogum\\.julia\\packages\\DataFrames\\XM9o2\\src\\abstractdataframe\\iteration.jl:196",
      "  [8] _show(io::IOContext{IOBuffer}, df::SubDataFrame{DataFrame, DataFrames.Index, UnitRange{Int64}}; allrows::Bool, allcols::Bool, rowlabel::Symbol, summary::Bool, eltypes::Bool, rowid::Nothing, truncate::Int64, kwargs::Base.Pairs{Symbol, Union{}, Tuple{}, NamedTuple{(), Tuple{}}})",
      "    @ DataFrames C:\\Users\\bogum\\.julia\\packages\\DataFrames\\XM9o2\\src\\abstractdataframe\\show.jl:163",
      "  [9] #show#807",
      "    @ C:\\Users\\bogum\\.julia\\packages\\DataFrames\\XM9o2\\src\\abstractdataframe\\show.jl:349 [inlined]",
      " [10] show(io::IOContext{IOBuffer}, df::SubDataFrame{DataFrame, DataFrames.Index, UnitRange{Int64}})",
      "    @ DataFrames C:\\Users\\bogum\\.julia\\packages\\DataFrames\\XM9o2\\src\\abstractdataframe\\show.jl:336",
      " [11] #show#823",
      "    @ C:\\Users\\bogum\\.julia\\packages\\DataFrames\\XM9o2\\src\\abstractdataframe\\io.jl:150 [inlined]",
      " [12] show",
      "    @ C:\\Users\\bogum\\.julia\\packages\\DataFrames\\XM9o2\\src\\abstractdataframe\\io.jl:150 [inlined]",
      " [13] limitstringmime(mime::MIME{Symbol(\"text/plain\")}, x::SubDataFrame{DataFrame, DataFrames.Index, UnitRange{Int64}})",
      "    @ IJulia C:\\Users\\bogum\\.julia\\packages\\IJulia\\AQu2H\\src\\inline.jl:43",
      " [14] display_mimestring",
      "    @ C:\\Users\\bogum\\.julia\\packages\\IJulia\\AQu2H\\src\\display.jl:71 [inlined]",
      " [15] display_dict(x::SubDataFrame{DataFrame, DataFrames.Index, UnitRange{Int64}})",
      "    @ IJulia C:\\Users\\bogum\\.julia\\packages\\IJulia\\AQu2H\\src\\display.jl:102",
      " [16] #invokelatest#2",
      "    @ .\\essentials.jl:729 [inlined]",
      " [17] invokelatest",
      "    @ .\\essentials.jl:726 [inlined]",
      " [18] execute_request(socket::ZMQ.Socket, msg::IJulia.Msg)",
      "    @ IJulia C:\\Users\\bogum\\.julia\\packages\\IJulia\\AQu2H\\src\\execute_request.jl:112",
      " [19] #invokelatest#2",
      "    @ .\\essentials.jl:729 [inlined]",
      " [20] invokelatest",
      "    @ .\\essentials.jl:726 [inlined]",
      " [21] eventloop(socket::ZMQ.Socket)",
      "    @ IJulia C:\\Users\\bogum\\.julia\\packages\\IJulia\\AQu2H\\src\\eventloop.jl:8",
      " [22] (::IJulia.var\"#15#18\")()",
      "    @ IJulia .\\task.jl:484"
     ]
    }
   ],
   "source": [
    "s # error"
   ]
  },
  {
   "cell_type": "markdown",
   "metadata": {},
   "source": [
    "### Single column selection for `DataFrame` creates aliases with `!` and `getproperty` syntax and copies with `:`"
   ]
  },
  {
   "cell_type": "code",
   "execution_count": 21,
   "metadata": {},
   "outputs": [
    {
     "data": {
      "text/html": [
       "<div><div style = \"float: left;\"><span>3×5 DataFrame</span></div><div style = \"clear: both;\"></div></div><div class = \"data-frame\" style = \"overflow-x: scroll;\"><table class = \"data-frame\" style = \"margin-bottom: 6px;\"><thead><tr class = \"header\"><th class = \"rowNumber\" style = \"font-weight: bold; text-align: right;\">Row</th><th style = \"text-align: left;\">a</th><th style = \"text-align: left;\">b</th><th style = \"text-align: left;\">c</th><th style = \"text-align: left;\">d</th><th style = \"text-align: left;\">e</th></tr><tr class = \"subheader headerLastRow\"><th class = \"rowNumber\" style = \"font-weight: bold; text-align: right;\"></th><th title = \"Int64\" style = \"text-align: left;\">Int64</th><th title = \"Int64\" style = \"text-align: left;\">Int64</th><th title = \"Int64\" style = \"text-align: left;\">Int64</th><th title = \"Int64\" style = \"text-align: left;\">Int64</th><th title = \"Int64\" style = \"text-align: left;\">Int64</th></tr></thead><tbody><tr><td class = \"rowNumber\" style = \"font-weight: bold; text-align: right;\">1</td><td style = \"text-align: right;\">1</td><td style = \"text-align: right;\">1</td><td style = \"text-align: right;\">1</td><td style = \"text-align: right;\">1</td><td style = \"text-align: right;\">1</td></tr><tr><td class = \"rowNumber\" style = \"font-weight: bold; text-align: right;\">2</td><td style = \"text-align: right;\">2</td><td style = \"text-align: right;\">2</td><td style = \"text-align: right;\">2</td><td style = \"text-align: right;\">2</td><td style = \"text-align: right;\">2</td></tr><tr><td class = \"rowNumber\" style = \"font-weight: bold; text-align: right;\">3</td><td style = \"text-align: right;\">3</td><td style = \"text-align: right;\">3</td><td style = \"text-align: right;\">3</td><td style = \"text-align: right;\">3</td><td style = \"text-align: right;\">3</td></tr></tbody></table></div>"
      ],
      "text/latex": [
       "\\begin{tabular}{r|ccccc}\n",
       "\t& a & b & c & d & e\\\\\n",
       "\t\\hline\n",
       "\t& Int64 & Int64 & Int64 & Int64 & Int64\\\\\n",
       "\t\\hline\n",
       "\t1 & 1 & 1 & 1 & 1 & 1 \\\\\n",
       "\t2 & 2 & 2 & 2 & 2 & 2 \\\\\n",
       "\t3 & 3 & 3 & 3 & 3 & 3 \\\\\n",
       "\\end{tabular}\n"
      ],
      "text/plain": [
       "\u001b[1m3×5 DataFrame\u001b[0m\n",
       "\u001b[1m Row \u001b[0m│\u001b[1m a     \u001b[0m\u001b[1m b     \u001b[0m\u001b[1m c     \u001b[0m\u001b[1m d     \u001b[0m\u001b[1m e     \u001b[0m\n",
       "     │\u001b[90m Int64 \u001b[0m\u001b[90m Int64 \u001b[0m\u001b[90m Int64 \u001b[0m\u001b[90m Int64 \u001b[0m\u001b[90m Int64 \u001b[0m\n",
       "─────┼───────────────────────────────────\n",
       "   1 │     1      1      1      1      1\n",
       "   2 │     2      2      2      2      2\n",
       "   3 │     3      3      3      3      3"
      ]
     },
     "metadata": {},
     "output_type": "display_data"
    },
    {
     "data": {
      "text/html": [
       "<div><div style = \"float: left;\"><span>3×5 DataFrame</span></div><div style = \"clear: both;\"></div></div><div class = \"data-frame\" style = \"overflow-x: scroll;\"><table class = \"data-frame\" style = \"margin-bottom: 6px;\"><thead><tr class = \"header\"><th class = \"rowNumber\" style = \"font-weight: bold; text-align: right;\">Row</th><th style = \"text-align: left;\">a</th><th style = \"text-align: left;\">b</th><th style = \"text-align: left;\">c</th><th style = \"text-align: left;\">d</th><th style = \"text-align: left;\">e</th></tr><tr class = \"subheader headerLastRow\"><th class = \"rowNumber\" style = \"font-weight: bold; text-align: right;\"></th><th title = \"Int64\" style = \"text-align: left;\">Int64</th><th title = \"Int64\" style = \"text-align: left;\">Int64</th><th title = \"Int64\" style = \"text-align: left;\">Int64</th><th title = \"Int64\" style = \"text-align: left;\">Int64</th><th title = \"Int64\" style = \"text-align: left;\">Int64</th></tr></thead><tbody><tr><td class = \"rowNumber\" style = \"font-weight: bold; text-align: right;\">1</td><td style = \"text-align: right;\">100</td><td style = \"text-align: right;\">100</td><td style = \"text-align: right;\">1</td><td style = \"text-align: right;\">1</td><td style = \"text-align: right;\">1</td></tr><tr><td class = \"rowNumber\" style = \"font-weight: bold; text-align: right;\">2</td><td style = \"text-align: right;\">2</td><td style = \"text-align: right;\">2</td><td style = \"text-align: right;\">2</td><td style = \"text-align: right;\">2</td><td style = \"text-align: right;\">2</td></tr><tr><td class = \"rowNumber\" style = \"font-weight: bold; text-align: right;\">3</td><td style = \"text-align: right;\">3</td><td style = \"text-align: right;\">3</td><td style = \"text-align: right;\">3</td><td style = \"text-align: right;\">3</td><td style = \"text-align: right;\">3</td></tr></tbody></table></div>"
      ],
      "text/latex": [
       "\\begin{tabular}{r|ccccc}\n",
       "\t& a & b & c & d & e\\\\\n",
       "\t\\hline\n",
       "\t& Int64 & Int64 & Int64 & Int64 & Int64\\\\\n",
       "\t\\hline\n",
       "\t1 & 100 & 100 & 1 & 1 & 1 \\\\\n",
       "\t2 & 2 & 2 & 2 & 2 & 2 \\\\\n",
       "\t3 & 3 & 3 & 3 & 3 & 3 \\\\\n",
       "\\end{tabular}\n"
      ],
      "text/plain": [
       "\u001b[1m3×5 DataFrame\u001b[0m\n",
       "\u001b[1m Row \u001b[0m│\u001b[1m a     \u001b[0m\u001b[1m b     \u001b[0m\u001b[1m c     \u001b[0m\u001b[1m d     \u001b[0m\u001b[1m e     \u001b[0m\n",
       "     │\u001b[90m Int64 \u001b[0m\u001b[90m Int64 \u001b[0m\u001b[90m Int64 \u001b[0m\u001b[90m Int64 \u001b[0m\u001b[90m Int64 \u001b[0m\n",
       "─────┼───────────────────────────────────\n",
       "   1 │   100    100      1      1      1\n",
       "   2 │     2      2      2      2      2\n",
       "   3 │     3      3      3      3      3"
      ]
     },
     "metadata": {},
     "output_type": "display_data"
    }
   ],
   "source": [
    "x = DataFrame(a=1:3)\n",
    "x.b = x[!, 1] # alias\n",
    "x.c = x[:, 1] # copy\n",
    "x.d = x[!, 1][:] # copy\n",
    "x.e = copy(x[!, 1]) # explicit copy\n",
    "display(x)\n",
    "x[1,1] = 100\n",
    "display(x)"
   ]
  },
  {
   "cell_type": "markdown",
   "metadata": {},
   "source": [
    "### When iterating rows of a data frame use `eachrow` to avoid compilation cost (wide tables), but `Tables.namedtupleiterator` for fast execution (tall tables)"
   ]
  },
  {
   "cell_type": "markdown",
   "metadata": {},
   "source": [
    "this table is wide"
   ]
  },
  {
   "cell_type": "code",
   "execution_count": 22,
   "metadata": {},
   "outputs": [
    {
     "data": {
      "text/html": [
       "<div><div style = \"float: left;\"><span>2×900 DataFrame</span></div><div style = \"float: right;\"><span style = \"font-style: italic;\">800 columns omitted</span></div><div style = \"clear: both;\"></div></div><div class = \"data-frame\" style = \"overflow-x: scroll;\"><table class = \"data-frame\" style = \"margin-bottom: 6px;\"><thead><tr class = \"header\"><th class = \"rowNumber\" style = \"font-weight: bold; text-align: right;\">Row</th><th style = \"text-align: left;\">x1</th><th style = \"text-align: left;\">x2</th><th style = \"text-align: left;\">x3</th><th style = \"text-align: left;\">x4</th><th style = \"text-align: left;\">x5</th><th style = \"text-align: left;\">x6</th><th style = \"text-align: left;\">x7</th><th style = \"text-align: left;\">x8</th><th style = \"text-align: left;\">x9</th><th style = \"text-align: left;\">x10</th><th style = \"text-align: left;\">x11</th><th style = \"text-align: left;\">x12</th><th style = \"text-align: left;\">x13</th><th style = \"text-align: left;\">x14</th><th style = \"text-align: left;\">x15</th><th style = \"text-align: left;\">x16</th><th style = \"text-align: left;\">x17</th><th style = \"text-align: left;\">x18</th><th style = \"text-align: left;\">x19</th><th style = \"text-align: left;\">x20</th><th style = \"text-align: left;\">x21</th><th style = \"text-align: left;\">x22</th><th style = \"text-align: left;\">x23</th><th style = \"text-align: left;\">x24</th><th style = \"text-align: left;\">x25</th><th style = \"text-align: left;\">x26</th><th style = \"text-align: left;\">x27</th><th style = \"text-align: left;\">x28</th><th style = \"text-align: left;\">x29</th><th style = \"text-align: left;\">x30</th><th style = \"text-align: left;\">x31</th><th style = \"text-align: left;\">x32</th><th style = \"text-align: left;\">x33</th><th style = \"text-align: left;\">x34</th><th style = \"text-align: left;\">x35</th><th style = \"text-align: left;\">x36</th><th style = \"text-align: left;\">x37</th><th style = \"text-align: left;\">x38</th><th style = \"text-align: left;\">x39</th><th style = \"text-align: left;\">x40</th><th style = \"text-align: left;\">x41</th><th style = \"text-align: left;\">x42</th><th style = \"text-align: left;\">x43</th><th style = \"text-align: left;\">x44</th><th style = \"text-align: left;\">x45</th><th style = \"text-align: left;\">x46</th><th style = \"text-align: left;\">x47</th><th style = \"text-align: left;\">x48</th><th style = \"text-align: left;\">x49</th><th style = \"text-align: left;\">x50</th><th style = \"text-align: left;\">x51</th><th style = \"text-align: left;\">x52</th><th style = \"text-align: left;\">x53</th><th style = \"text-align: left;\">x54</th><th style = \"text-align: left;\">x55</th><th style = \"text-align: left;\">x56</th><th style = \"text-align: left;\">x57</th><th style = \"text-align: left;\">x58</th><th style = \"text-align: left;\">x59</th><th style = \"text-align: left;\">x60</th><th style = \"text-align: left;\">x61</th><th style = \"text-align: left;\">x62</th><th style = \"text-align: left;\">x63</th><th style = \"text-align: left;\">x64</th><th style = \"text-align: left;\">x65</th><th style = \"text-align: left;\">x66</th><th style = \"text-align: left;\">x67</th><th style = \"text-align: left;\">x68</th><th style = \"text-align: left;\">x69</th><th style = \"text-align: left;\">x70</th><th style = \"text-align: left;\">x71</th><th style = \"text-align: left;\">x72</th><th style = \"text-align: left;\">x73</th><th style = \"text-align: left;\">x74</th><th style = \"text-align: left;\">x75</th><th style = \"text-align: left;\">x76</th><th style = \"text-align: left;\">x77</th><th style = \"text-align: left;\">x78</th><th style = \"text-align: left;\">x79</th><th style = \"text-align: left;\">x80</th><th style = \"text-align: left;\">x81</th><th style = \"text-align: left;\">x82</th><th style = \"text-align: left;\">x83</th><th style = \"text-align: left;\">x84</th><th style = \"text-align: left;\">x85</th><th style = \"text-align: left;\">x86</th><th style = \"text-align: left;\">x87</th><th style = \"text-align: left;\">x88</th><th style = \"text-align: left;\">x89</th><th style = \"text-align: left;\">x90</th><th style = \"text-align: left;\">x91</th><th style = \"text-align: left;\">x92</th><th style = \"text-align: left;\">x93</th><th style = \"text-align: left;\">x94</th><th style = \"text-align: left;\">x95</th><th style = \"text-align: left;\">x96</th><th style = \"text-align: left;\">x97</th><th style = \"text-align: left;\">x98</th><th style = \"text-align: left;\">x99</th><th style = \"text-align: left;\">x100</th><th style = \"text-align: right;\">&ctdot;</th></tr><tr class = \"subheader headerLastRow\"><th class = \"rowNumber\" style = \"font-weight: bold; text-align: right;\"></th><th title = \"Int64\" style = \"text-align: left;\">Int64</th><th title = \"Bool\" style = \"text-align: left;\">Bool</th><th title = \"Char\" style = \"text-align: left;\">Char</th><th title = \"Bool\" style = \"text-align: left;\">Bool</th><th title = \"Int64\" style = \"text-align: left;\">Int64</th><th title = \"Float64\" style = \"text-align: left;\">Float64</th><th title = \"Bool\" style = \"text-align: left;\">Bool</th><th title = \"Float64\" style = \"text-align: left;\">Float64</th><th title = \"Float64\" style = \"text-align: left;\">Float64</th><th title = \"Char\" style = \"text-align: left;\">Char</th><th title = \"Float64\" style = \"text-align: left;\">Float64</th><th title = \"Bool\" style = \"text-align: left;\">Bool</th><th title = \"Int64\" style = \"text-align: left;\">Int64</th><th title = \"Bool\" style = \"text-align: left;\">Bool</th><th title = \"Bool\" style = \"text-align: left;\">Bool</th><th title = \"Float64\" style = \"text-align: left;\">Float64</th><th title = \"Int64\" style = \"text-align: left;\">Int64</th><th title = \"Char\" style = \"text-align: left;\">Char</th><th title = \"Char\" style = \"text-align: left;\">Char</th><th title = \"Int64\" style = \"text-align: left;\">Int64</th><th title = \"Bool\" style = \"text-align: left;\">Bool</th><th title = \"Char\" style = \"text-align: left;\">Char</th><th title = \"Bool\" style = \"text-align: left;\">Bool</th><th title = \"Char\" style = \"text-align: left;\">Char</th><th title = \"Int64\" style = \"text-align: left;\">Int64</th><th title = \"Int64\" style = \"text-align: left;\">Int64</th><th title = \"Float64\" style = \"text-align: left;\">Float64</th><th title = \"Int64\" style = \"text-align: left;\">Int64</th><th title = \"Char\" style = \"text-align: left;\">Char</th><th title = \"Bool\" style = \"text-align: left;\">Bool</th><th title = \"Char\" style = \"text-align: left;\">Char</th><th title = \"Char\" style = \"text-align: left;\">Char</th><th title = \"Bool\" style = \"text-align: left;\">Bool</th><th title = \"Float64\" style = \"text-align: left;\">Float64</th><th title = \"Bool\" style = \"text-align: left;\">Bool</th><th title = \"Float64\" style = \"text-align: left;\">Float64</th><th title = \"Bool\" style = \"text-align: left;\">Bool</th><th title = \"Bool\" style = \"text-align: left;\">Bool</th><th title = \"Int64\" style = \"text-align: left;\">Int64</th><th title = \"Char\" style = \"text-align: left;\">Char</th><th title = \"Bool\" style = \"text-align: left;\">Bool</th><th title = \"Char\" style = \"text-align: left;\">Char</th><th title = \"Char\" style = \"text-align: left;\">Char</th><th title = \"Bool\" style = \"text-align: left;\">Bool</th><th title = \"Int64\" style = \"text-align: left;\">Int64</th><th title = \"Int64\" style = \"text-align: left;\">Int64</th><th title = \"Float64\" style = \"text-align: left;\">Float64</th><th title = \"Bool\" style = \"text-align: left;\">Bool</th><th title = \"Int64\" style = \"text-align: left;\">Int64</th><th title = \"Bool\" style = \"text-align: left;\">Bool</th><th title = \"Float64\" style = \"text-align: left;\">Float64</th><th title = \"Bool\" style = \"text-align: left;\">Bool</th><th title = \"Float64\" style = \"text-align: left;\">Float64</th><th title = \"Int64\" style = \"text-align: left;\">Int64</th><th title = \"Char\" style = \"text-align: left;\">Char</th><th title = \"Char\" style = \"text-align: left;\">Char</th><th title = \"Int64\" style = \"text-align: left;\">Int64</th><th title = \"Bool\" style = \"text-align: left;\">Bool</th><th title = \"Float64\" style = \"text-align: left;\">Float64</th><th title = \"Char\" style = \"text-align: left;\">Char</th><th title = \"Char\" style = \"text-align: left;\">Char</th><th title = \"Int64\" style = \"text-align: left;\">Int64</th><th title = \"Int64\" style = \"text-align: left;\">Int64</th><th title = \"Char\" style = \"text-align: left;\">Char</th><th title = \"Char\" style = \"text-align: left;\">Char</th><th title = \"Bool\" style = \"text-align: left;\">Bool</th><th title = \"Int64\" style = \"text-align: left;\">Int64</th><th title = \"Int64\" style = \"text-align: left;\">Int64</th><th title = \"Bool\" style = \"text-align: left;\">Bool</th><th title = \"Char\" style = \"text-align: left;\">Char</th><th title = \"Float64\" style = \"text-align: left;\">Float64</th><th title = \"Float64\" style = \"text-align: left;\">Float64</th><th title = \"Char\" style = \"text-align: left;\">Char</th><th title = \"Float64\" style = \"text-align: left;\">Float64</th><th title = \"Float64\" style = \"text-align: left;\">Float64</th><th title = \"Char\" style = \"text-align: left;\">Char</th><th title = \"Float64\" style = \"text-align: left;\">Float64</th><th title = \"Bool\" style = \"text-align: left;\">Bool</th><th title = \"Char\" style = \"text-align: left;\">Char</th><th title = \"Bool\" style = \"text-align: left;\">Bool</th><th title = \"Bool\" style = \"text-align: left;\">Bool</th><th title = \"Char\" style = \"text-align: left;\">Char</th><th title = \"Int64\" style = \"text-align: left;\">Int64</th><th title = \"Char\" style = \"text-align: left;\">Char</th><th title = \"Char\" style = \"text-align: left;\">Char</th><th title = \"Int64\" style = \"text-align: left;\">Int64</th><th title = \"Char\" style = \"text-align: left;\">Char</th><th title = \"Char\" style = \"text-align: left;\">Char</th><th title = \"Float64\" style = \"text-align: left;\">Float64</th><th title = \"Int64\" style = \"text-align: left;\">Int64</th><th title = \"Bool\" style = \"text-align: left;\">Bool</th><th title = \"Bool\" style = \"text-align: left;\">Bool</th><th title = \"Float64\" style = \"text-align: left;\">Float64</th><th title = \"Bool\" style = \"text-align: left;\">Bool</th><th title = \"Int64\" style = \"text-align: left;\">Int64</th><th title = \"Int64\" style = \"text-align: left;\">Int64</th><th title = \"Float64\" style = \"text-align: left;\">Float64</th><th title = \"Float64\" style = \"text-align: left;\">Float64</th><th title = \"Int64\" style = \"text-align: left;\">Int64</th><th title = \"Bool\" style = \"text-align: left;\">Bool</th><th title = \"Bool\" style = \"text-align: right;\">&ctdot;</th></tr></thead><tbody><tr><td class = \"rowNumber\" style = \"font-weight: bold; text-align: right;\">1</td><td style = \"text-align: right;\">1</td><td style = \"text-align: right;\">false</td><td style = \"text-align: left;\">a</td><td style = \"text-align: right;\">false</td><td style = \"text-align: right;\">1</td><td style = \"text-align: right;\">1.0</td><td style = \"text-align: right;\">false</td><td style = \"text-align: right;\">1.0</td><td style = \"text-align: right;\">1.0</td><td style = \"text-align: left;\">a</td><td style = \"text-align: right;\">1.0</td><td style = \"text-align: right;\">false</td><td style = \"text-align: right;\">1</td><td style = \"text-align: right;\">false</td><td style = \"text-align: right;\">false</td><td style = \"text-align: right;\">1.0</td><td style = \"text-align: right;\">1</td><td style = \"text-align: left;\">a</td><td style = \"text-align: left;\">a</td><td style = \"text-align: right;\">1</td><td style = \"text-align: right;\">false</td><td style = \"text-align: left;\">a</td><td style = \"text-align: right;\">false</td><td style = \"text-align: left;\">a</td><td style = \"text-align: right;\">1</td><td style = \"text-align: right;\">1</td><td style = \"text-align: right;\">1.0</td><td style = \"text-align: right;\">1</td><td style = \"text-align: left;\">a</td><td style = \"text-align: right;\">false</td><td style = \"text-align: left;\">a</td><td style = \"text-align: left;\">a</td><td style = \"text-align: right;\">false</td><td style = \"text-align: right;\">1.0</td><td style = \"text-align: right;\">false</td><td style = \"text-align: right;\">1.0</td><td style = \"text-align: right;\">false</td><td style = \"text-align: right;\">false</td><td style = \"text-align: right;\">1</td><td style = \"text-align: left;\">a</td><td style = \"text-align: right;\">false</td><td style = \"text-align: left;\">a</td><td style = \"text-align: left;\">a</td><td style = \"text-align: right;\">false</td><td style = \"text-align: right;\">1</td><td style = \"text-align: right;\">1</td><td style = \"text-align: right;\">1.0</td><td style = \"text-align: right;\">false</td><td style = \"text-align: right;\">1</td><td style = \"text-align: right;\">false</td><td style = \"text-align: right;\">1.0</td><td style = \"text-align: right;\">false</td><td style = \"text-align: right;\">1.0</td><td style = \"text-align: right;\">1</td><td style = \"text-align: left;\">a</td><td style = \"text-align: left;\">a</td><td style = \"text-align: right;\">1</td><td style = \"text-align: right;\">false</td><td style = \"text-align: right;\">1.0</td><td style = \"text-align: left;\">a</td><td style = \"text-align: left;\">a</td><td style = \"text-align: right;\">1</td><td style = \"text-align: right;\">1</td><td style = \"text-align: left;\">a</td><td style = \"text-align: left;\">a</td><td style = \"text-align: right;\">false</td><td style = \"text-align: right;\">1</td><td style = \"text-align: right;\">1</td><td style = \"text-align: right;\">false</td><td style = \"text-align: left;\">a</td><td style = \"text-align: right;\">1.0</td><td style = \"text-align: right;\">1.0</td><td style = \"text-align: left;\">a</td><td style = \"text-align: right;\">1.0</td><td style = \"text-align: right;\">1.0</td><td style = \"text-align: left;\">a</td><td style = \"text-align: right;\">1.0</td><td style = \"text-align: right;\">false</td><td style = \"text-align: left;\">a</td><td style = \"text-align: right;\">false</td><td style = \"text-align: right;\">false</td><td style = \"text-align: left;\">a</td><td style = \"text-align: right;\">1</td><td style = \"text-align: left;\">a</td><td style = \"text-align: left;\">a</td><td style = \"text-align: right;\">1</td><td style = \"text-align: left;\">a</td><td style = \"text-align: left;\">a</td><td style = \"text-align: right;\">1.0</td><td style = \"text-align: right;\">1</td><td style = \"text-align: right;\">false</td><td style = \"text-align: right;\">false</td><td style = \"text-align: right;\">1.0</td><td style = \"text-align: right;\">false</td><td style = \"text-align: right;\">1</td><td style = \"text-align: right;\">1</td><td style = \"text-align: right;\">1.0</td><td style = \"text-align: right;\">1.0</td><td style = \"text-align: right;\">1</td><td style = \"text-align: right;\">false</td><td style = \"text-align: right;\">&ctdot;</td></tr><tr><td class = \"rowNumber\" style = \"font-weight: bold; text-align: right;\">2</td><td style = \"text-align: right;\">2</td><td style = \"text-align: right;\">true</td><td style = \"text-align: left;\">b</td><td style = \"text-align: right;\">true</td><td style = \"text-align: right;\">2</td><td style = \"text-align: right;\">2.0</td><td style = \"text-align: right;\">true</td><td style = \"text-align: right;\">2.0</td><td style = \"text-align: right;\">2.0</td><td style = \"text-align: left;\">b</td><td style = \"text-align: right;\">2.0</td><td style = \"text-align: right;\">true</td><td style = \"text-align: right;\">2</td><td style = \"text-align: right;\">true</td><td style = \"text-align: right;\">true</td><td style = \"text-align: right;\">2.0</td><td style = \"text-align: right;\">2</td><td style = \"text-align: left;\">b</td><td style = \"text-align: left;\">b</td><td style = \"text-align: right;\">2</td><td style = \"text-align: right;\">true</td><td style = \"text-align: left;\">b</td><td style = \"text-align: right;\">true</td><td style = \"text-align: left;\">b</td><td style = \"text-align: right;\">2</td><td style = \"text-align: right;\">2</td><td style = \"text-align: right;\">2.0</td><td style = \"text-align: right;\">2</td><td style = \"text-align: left;\">b</td><td style = \"text-align: right;\">true</td><td style = \"text-align: left;\">b</td><td style = \"text-align: left;\">b</td><td style = \"text-align: right;\">true</td><td style = \"text-align: right;\">2.0</td><td style = \"text-align: right;\">true</td><td style = \"text-align: right;\">2.0</td><td style = \"text-align: right;\">true</td><td style = \"text-align: right;\">true</td><td style = \"text-align: right;\">2</td><td style = \"text-align: left;\">b</td><td style = \"text-align: right;\">true</td><td style = \"text-align: left;\">b</td><td style = \"text-align: left;\">b</td><td style = \"text-align: right;\">true</td><td style = \"text-align: right;\">2</td><td style = \"text-align: right;\">2</td><td style = \"text-align: right;\">2.0</td><td style = \"text-align: right;\">true</td><td style = \"text-align: right;\">2</td><td style = \"text-align: right;\">true</td><td style = \"text-align: right;\">2.0</td><td style = \"text-align: right;\">true</td><td style = \"text-align: right;\">2.0</td><td style = \"text-align: right;\">2</td><td style = \"text-align: left;\">b</td><td style = \"text-align: left;\">b</td><td style = \"text-align: right;\">2</td><td style = \"text-align: right;\">true</td><td style = \"text-align: right;\">2.0</td><td style = \"text-align: left;\">b</td><td style = \"text-align: left;\">b</td><td style = \"text-align: right;\">2</td><td style = \"text-align: right;\">2</td><td style = \"text-align: left;\">b</td><td style = \"text-align: left;\">b</td><td style = \"text-align: right;\">true</td><td style = \"text-align: right;\">2</td><td style = \"text-align: right;\">2</td><td style = \"text-align: right;\">true</td><td style = \"text-align: left;\">b</td><td style = \"text-align: right;\">2.0</td><td style = \"text-align: right;\">2.0</td><td style = \"text-align: left;\">b</td><td style = \"text-align: right;\">2.0</td><td style = \"text-align: right;\">2.0</td><td style = \"text-align: left;\">b</td><td style = \"text-align: right;\">2.0</td><td style = \"text-align: right;\">true</td><td style = \"text-align: left;\">b</td><td style = \"text-align: right;\">true</td><td style = \"text-align: right;\">true</td><td style = \"text-align: left;\">b</td><td style = \"text-align: right;\">2</td><td style = \"text-align: left;\">b</td><td style = \"text-align: left;\">b</td><td style = \"text-align: right;\">2</td><td style = \"text-align: left;\">b</td><td style = \"text-align: left;\">b</td><td style = \"text-align: right;\">2.0</td><td style = \"text-align: right;\">2</td><td style = \"text-align: right;\">true</td><td style = \"text-align: right;\">true</td><td style = \"text-align: right;\">2.0</td><td style = \"text-align: right;\">true</td><td style = \"text-align: right;\">2</td><td style = \"text-align: right;\">2</td><td style = \"text-align: right;\">2.0</td><td style = \"text-align: right;\">2.0</td><td style = \"text-align: right;\">2</td><td style = \"text-align: right;\">true</td><td style = \"text-align: right;\">&ctdot;</td></tr></tbody></table></div>"
      ],
      "text/latex": [
       "\\begin{tabular}{r|cccccccccccc}\n",
       "\t& x1 & x2 & x3 & x4 & x5 & x6 & x7 & x8 & x9 & x10 & x11 & \\\\\n",
       "\t\\hline\n",
       "\t& Int64 & Bool & Char & Bool & Int64 & Float64 & Bool & Float64 & Float64 & Char & Float64 & \\\\\n",
       "\t\\hline\n",
       "\t1 & 1 & 0 & a & 0 & 1 & 1.0 & 0 & 1.0 & 1.0 & a & 1.0 & $\\dots$ \\\\\n",
       "\t2 & 2 & 1 & b & 1 & 2 & 2.0 & 1 & 2.0 & 2.0 & b & 2.0 & $\\dots$ \\\\\n",
       "\\end{tabular}\n"
      ],
      "text/plain": [
       "\u001b[1m2×900 DataFrame\u001b[0m\n",
       "\u001b[1m Row \u001b[0m│\u001b[1m x1    \u001b[0m\u001b[1m x2    \u001b[0m\u001b[1m x3   \u001b[0m\u001b[1m x4    \u001b[0m\u001b[1m x5    \u001b[0m\u001b[1m x6      \u001b[0m\u001b[1m x7    \u001b[0m\u001b[1m x8      \u001b[0m\u001b[1m x9      \u001b[0m\u001b[1m x10\u001b[0m ⋯\n",
       "     │\u001b[90m Int64 \u001b[0m\u001b[90m Bool  \u001b[0m\u001b[90m Char \u001b[0m\u001b[90m Bool  \u001b[0m\u001b[90m Int64 \u001b[0m\u001b[90m Float64 \u001b[0m\u001b[90m Bool  \u001b[0m\u001b[90m Float64 \u001b[0m\u001b[90m Float64 \u001b[0m\u001b[90m Cha\u001b[0m ⋯\n",
       "─────┼──────────────────────────────────────────────────────────────────────────\n",
       "   1 │     1  false  a     false      1      1.0  false      1.0      1.0  a   ⋯\n",
       "   2 │     2   true  b      true      2      2.0   true      2.0      2.0  b\n",
       "\u001b[36m                                                             891 columns omitted\u001b[0m"
      ]
     },
     "execution_count": 22,
     "metadata": {},
     "output_type": "execute_result"
    }
   ],
   "source": [
    "df1 = DataFrame([rand([1:2, 'a':'b', false:true, 1.0:2.0]) for i in 1:900], :auto)"
   ]
  },
  {
   "cell_type": "code",
   "execution_count": 23,
   "metadata": {},
   "outputs": [
    {
     "name": "stdout",
     "output_type": "stream",
     "text": [
      "  0.043300 seconds (110.77 k allocations: 5.894 MiB, 99.90% compilation time)\n"
     ]
    },
    {
     "data": {
      "text/plain": [
       "2-element Vector{DataFrameRow}:\n",
       " \u001b[1mDataFrameRow\u001b[0m\n",
       "\u001b[1m Row \u001b[0m│\u001b[1m x1    \u001b[0m\u001b[1m x2    \u001b[0m\u001b[1m x3   \u001b[0m\u001b[1m x4    \u001b[0m\u001b[1m x5    \u001b[0m\u001b[1m x6      \u001b[0m\u001b[1m x7    \u001b[0m\u001b[1m x8      \u001b[0m\u001b[1m x9      \u001b[0m\u001b[1m x10\u001b[0m ⋯\n",
       "     │\u001b[90m Int64 \u001b[0m\u001b[90m Bool  \u001b[0m\u001b[90m Char \u001b[0m\u001b[90m Bool  \u001b[0m\u001b[90m Int64 \u001b[0m\u001b[90m Float64 \u001b[0m\u001b[90m Bool  \u001b[0m\u001b[90m Float64 \u001b[0m\u001b[90m Float64 \u001b[0m\u001b[90m Cha\u001b[0m ⋯\n",
       "─────┼──────────────────────────────────────────────────────────────────────────\n",
       "   1 │     1  false  a     false      1      1.0  false      1.0      1.0  a   ⋯\n",
       "\u001b[36m                                                             891 columns omitted\u001b[0m\n",
       " \u001b[1mDataFrameRow\u001b[0m\n",
       "\u001b[1m Row \u001b[0m│\u001b[1m x1    \u001b[0m\u001b[1m x2   \u001b[0m\u001b[1m x3   \u001b[0m\u001b[1m x4   \u001b[0m\u001b[1m x5    \u001b[0m\u001b[1m x6      \u001b[0m\u001b[1m x7   \u001b[0m\u001b[1m x8      \u001b[0m\u001b[1m x9      \u001b[0m\u001b[1m x10  \u001b[0m\u001b[1m \u001b[0m ⋯\n",
       "     │\u001b[90m Int64 \u001b[0m\u001b[90m Bool \u001b[0m\u001b[90m Char \u001b[0m\u001b[90m Bool \u001b[0m\u001b[90m Int64 \u001b[0m\u001b[90m Float64 \u001b[0m\u001b[90m Bool \u001b[0m\u001b[90m Float64 \u001b[0m\u001b[90m Float64 \u001b[0m\u001b[90m Char \u001b[0m\u001b[90m \u001b[0m ⋯\n",
       "─────┼──────────────────────────────────────────────────────────────────────────\n",
       "   2 │     2  true  b     true      2      2.0  true      2.0      2.0  b      ⋯\n",
       "\u001b[36m                                                             890 columns omitted\u001b[0m"
      ]
     },
     "execution_count": 23,
     "metadata": {},
     "output_type": "execute_result"
    }
   ],
   "source": [
    "@time collect(eachrow(df1))"
   ]
  },
  {
   "cell_type": "code",
   "execution_count": 24,
   "metadata": {},
   "outputs": [
    {
     "name": "stdout",
     "output_type": "stream",
     "text": [
      "  6.315561 seconds (2.07 M allocations: 119.292 MiB, 0.50% gc time, 99.87% compilation time)\n"
     ]
    }
   ],
   "source": [
    "@time collect(Tables.namedtupleiterator(df1));"
   ]
  },
  {
   "cell_type": "markdown",
   "metadata": {},
   "source": [
    "as you can see the time to compile `Tables.namedtupleiterator` is very large in this case, and it would get much worse if the table was wider (that is why we include this tip in pitfalls notebook)"
   ]
  },
  {
   "cell_type": "markdown",
   "metadata": {},
   "source": [
    "the table below is tall"
   ]
  },
  {
   "cell_type": "code",
   "execution_count": 25,
   "metadata": {},
   "outputs": [
    {
     "data": {
      "text/html": [
       "<div><div style = \"float: left;\"><span>1000000×10 DataFrame</span></div><div style = \"float: right;\"><span style = \"font-style: italic;\">999975 rows omitted</span></div><div style = \"clear: both;\"></div></div><div class = \"data-frame\" style = \"overflow-x: scroll;\"><table class = \"data-frame\" style = \"margin-bottom: 6px;\"><thead><tr class = \"header\"><th class = \"rowNumber\" style = \"font-weight: bold; text-align: right;\">Row</th><th style = \"text-align: left;\">x1</th><th style = \"text-align: left;\">x2</th><th style = \"text-align: left;\">x3</th><th style = \"text-align: left;\">x4</th><th style = \"text-align: left;\">x5</th><th style = \"text-align: left;\">x6</th><th style = \"text-align: left;\">x7</th><th style = \"text-align: left;\">x8</th><th style = \"text-align: left;\">x9</th><th style = \"text-align: left;\">x10</th></tr><tr class = \"subheader headerLastRow\"><th class = \"rowNumber\" style = \"font-weight: bold; text-align: right;\"></th><th title = \"Float64\" style = \"text-align: left;\">Float64</th><th title = \"Float64\" style = \"text-align: left;\">Float64</th><th title = \"Float64\" style = \"text-align: left;\">Float64</th><th title = \"Float64\" style = \"text-align: left;\">Float64</th><th title = \"Float64\" style = \"text-align: left;\">Float64</th><th title = \"Float64\" style = \"text-align: left;\">Float64</th><th title = \"Float64\" style = \"text-align: left;\">Float64</th><th title = \"Float64\" style = \"text-align: left;\">Float64</th><th title = \"Float64\" style = \"text-align: left;\">Float64</th><th title = \"Float64\" style = \"text-align: left;\">Float64</th></tr></thead><tbody><tr><td class = \"rowNumber\" style = \"font-weight: bold; text-align: right;\">1</td><td style = \"text-align: right;\">0.622619</td><td style = \"text-align: right;\">0.436343</td><td style = \"text-align: right;\">0.728031</td><td style = \"text-align: right;\">0.105606</td><td style = \"text-align: right;\">0.999174</td><td style = \"text-align: right;\">0.0449576</td><td style = \"text-align: right;\">0.19143</td><td style = \"text-align: right;\">0.393511</td><td style = \"text-align: right;\">0.485616</td><td style = \"text-align: right;\">0.979407</td></tr><tr><td class = \"rowNumber\" style = \"font-weight: bold; text-align: right;\">2</td><td style = \"text-align: right;\">0.775199</td><td style = \"text-align: right;\">0.4118</td><td style = \"text-align: right;\">0.325693</td><td style = \"text-align: right;\">0.733648</td><td style = \"text-align: right;\">0.802903</td><td style = \"text-align: right;\">0.000505339</td><td style = \"text-align: right;\">0.53319</td><td style = \"text-align: right;\">0.505315</td><td style = \"text-align: right;\">0.894738</td><td style = \"text-align: right;\">0.720311</td></tr><tr><td class = \"rowNumber\" style = \"font-weight: bold; text-align: right;\">3</td><td style = \"text-align: right;\">0.323058</td><td style = \"text-align: right;\">0.45963</td><td style = \"text-align: right;\">0.191191</td><td style = \"text-align: right;\">0.0162073</td><td style = \"text-align: right;\">0.824213</td><td style = \"text-align: right;\">0.120045</td><td style = \"text-align: right;\">0.014544</td><td style = \"text-align: right;\">0.504028</td><td style = \"text-align: right;\">0.804441</td><td style = \"text-align: right;\">0.412626</td></tr><tr><td class = \"rowNumber\" style = \"font-weight: bold; text-align: right;\">4</td><td style = \"text-align: right;\">0.487134</td><td style = \"text-align: right;\">0.459817</td><td style = \"text-align: right;\">0.953669</td><td style = \"text-align: right;\">0.866734</td><td style = \"text-align: right;\">0.29691</td><td style = \"text-align: right;\">0.0539078</td><td style = \"text-align: right;\">0.673938</td><td style = \"text-align: right;\">0.744832</td><td style = \"text-align: right;\">0.424905</td><td style = \"text-align: right;\">0.855512</td></tr><tr><td class = \"rowNumber\" style = \"font-weight: bold; text-align: right;\">5</td><td style = \"text-align: right;\">0.764617</td><td style = \"text-align: right;\">0.104164</td><td style = \"text-align: right;\">0.305518</td><td style = \"text-align: right;\">0.882695</td><td style = \"text-align: right;\">0.933912</td><td style = \"text-align: right;\">0.58931</td><td style = \"text-align: right;\">0.70341</td><td style = \"text-align: right;\">0.54892</td><td style = \"text-align: right;\">0.0380409</td><td style = \"text-align: right;\">0.316546</td></tr><tr><td class = \"rowNumber\" style = \"font-weight: bold; text-align: right;\">6</td><td style = \"text-align: right;\">0.817391</td><td style = \"text-align: right;\">0.0734525</td><td style = \"text-align: right;\">0.887336</td><td style = \"text-align: right;\">0.853012</td><td style = \"text-align: right;\">0.0613441</td><td style = \"text-align: right;\">0.787182</td><td style = \"text-align: right;\">0.00444137</td><td style = \"text-align: right;\">0.687151</td><td style = \"text-align: right;\">0.0325217</td><td style = \"text-align: right;\">0.822289</td></tr><tr><td class = \"rowNumber\" style = \"font-weight: bold; text-align: right;\">7</td><td style = \"text-align: right;\">0.168903</td><td style = \"text-align: right;\">0.890934</td><td style = \"text-align: right;\">0.88228</td><td style = \"text-align: right;\">0.806285</td><td style = \"text-align: right;\">0.559195</td><td style = \"text-align: right;\">0.699344</td><td style = \"text-align: right;\">0.296276</td><td style = \"text-align: right;\">0.892094</td><td style = \"text-align: right;\">0.133931</td><td style = \"text-align: right;\">0.844231</td></tr><tr><td class = \"rowNumber\" style = \"font-weight: bold; text-align: right;\">8</td><td style = \"text-align: right;\">0.873277</td><td style = \"text-align: right;\">0.205052</td><td style = \"text-align: right;\">0.937417</td><td style = \"text-align: right;\">0.680343</td><td style = \"text-align: right;\">0.506249</td><td style = \"text-align: right;\">0.753223</td><td style = \"text-align: right;\">0.529395</td><td style = \"text-align: right;\">0.975386</td><td style = \"text-align: right;\">0.829405</td><td style = \"text-align: right;\">0.758151</td></tr><tr><td class = \"rowNumber\" style = \"font-weight: bold; text-align: right;\">9</td><td style = \"text-align: right;\">0.775905</td><td style = \"text-align: right;\">0.826503</td><td style = \"text-align: right;\">0.0389343</td><td style = \"text-align: right;\">0.510118</td><td style = \"text-align: right;\">0.658464</td><td style = \"text-align: right;\">0.565723</td><td style = \"text-align: right;\">0.231966</td><td style = \"text-align: right;\">0.608431</td><td style = \"text-align: right;\">0.297745</td><td style = \"text-align: right;\">0.370042</td></tr><tr><td class = \"rowNumber\" style = \"font-weight: bold; text-align: right;\">10</td><td style = \"text-align: right;\">0.0285103</td><td style = \"text-align: right;\">0.943569</td><td style = \"text-align: right;\">0.796121</td><td style = \"text-align: right;\">0.322704</td><td style = \"text-align: right;\">0.470704</td><td style = \"text-align: right;\">0.153233</td><td style = \"text-align: right;\">0.483333</td><td style = \"text-align: right;\">0.524271</td><td style = \"text-align: right;\">0.121153</td><td style = \"text-align: right;\">0.618462</td></tr><tr><td class = \"rowNumber\" style = \"font-weight: bold; text-align: right;\">11</td><td style = \"text-align: right;\">0.956834</td><td style = \"text-align: right;\">0.955028</td><td style = \"text-align: right;\">0.565103</td><td style = \"text-align: right;\">0.648313</td><td style = \"text-align: right;\">0.926739</td><td style = \"text-align: right;\">0.865876</td><td style = \"text-align: right;\">0.078812</td><td style = \"text-align: right;\">0.63875</td><td style = \"text-align: right;\">0.491214</td><td style = \"text-align: right;\">0.385144</td></tr><tr><td class = \"rowNumber\" style = \"font-weight: bold; text-align: right;\">12</td><td style = \"text-align: right;\">0.00993233</td><td style = \"text-align: right;\">0.244166</td><td style = \"text-align: right;\">0.139615</td><td style = \"text-align: right;\">0.0553354</td><td style = \"text-align: right;\">0.868438</td><td style = \"text-align: right;\">0.461724</td><td style = \"text-align: right;\">0.171561</td><td style = \"text-align: right;\">0.16494</td><td style = \"text-align: right;\">0.183469</td><td style = \"text-align: right;\">0.356923</td></tr><tr><td class = \"rowNumber\" style = \"font-weight: bold; text-align: right;\">13</td><td style = \"text-align: right;\">0.448154</td><td style = \"text-align: right;\">0.137298</td><td style = \"text-align: right;\">0.3228</td><td style = \"text-align: right;\">0.0286561</td><td style = \"text-align: right;\">0.447368</td><td style = \"text-align: right;\">0.845181</td><td style = \"text-align: right;\">0.808807</td><td style = \"text-align: right;\">0.125937</td><td style = \"text-align: right;\">0.295498</td><td style = \"text-align: right;\">0.35297</td></tr><tr><td style = \"text-align: right;\">&vellip;</td><td style = \"text-align: right;\">&vellip;</td><td style = \"text-align: right;\">&vellip;</td><td style = \"text-align: right;\">&vellip;</td><td style = \"text-align: right;\">&vellip;</td><td style = \"text-align: right;\">&vellip;</td><td style = \"text-align: right;\">&vellip;</td><td style = \"text-align: right;\">&vellip;</td><td style = \"text-align: right;\">&vellip;</td><td style = \"text-align: right;\">&vellip;</td><td style = \"text-align: right;\">&vellip;</td></tr><tr><td class = \"rowNumber\" style = \"font-weight: bold; text-align: right;\">999989</td><td style = \"text-align: right;\">0.978663</td><td style = \"text-align: right;\">0.987597</td><td style = \"text-align: right;\">0.196973</td><td style = \"text-align: right;\">0.118618</td><td style = \"text-align: right;\">0.152997</td><td style = \"text-align: right;\">0.337308</td><td style = \"text-align: right;\">0.96</td><td style = \"text-align: right;\">0.530571</td><td style = \"text-align: right;\">0.736942</td><td style = \"text-align: right;\">0.648131</td></tr><tr><td class = \"rowNumber\" style = \"font-weight: bold; text-align: right;\">999990</td><td style = \"text-align: right;\">0.286284</td><td style = \"text-align: right;\">0.41764</td><td style = \"text-align: right;\">0.206072</td><td style = \"text-align: right;\">0.858448</td><td style = \"text-align: right;\">0.0676505</td><td style = \"text-align: right;\">0.788083</td><td style = \"text-align: right;\">0.530839</td><td style = \"text-align: right;\">0.816076</td><td style = \"text-align: right;\">0.513002</td><td style = \"text-align: right;\">0.998905</td></tr><tr><td class = \"rowNumber\" style = \"font-weight: bold; text-align: right;\">999991</td><td style = \"text-align: right;\">0.371153</td><td style = \"text-align: right;\">0.911671</td><td style = \"text-align: right;\">0.423898</td><td style = \"text-align: right;\">0.939765</td><td style = \"text-align: right;\">0.733177</td><td style = \"text-align: right;\">0.187074</td><td style = \"text-align: right;\">0.413818</td><td style = \"text-align: right;\">0.621306</td><td style = \"text-align: right;\">0.690506</td><td style = \"text-align: right;\">0.387446</td></tr><tr><td class = \"rowNumber\" style = \"font-weight: bold; text-align: right;\">999992</td><td style = \"text-align: right;\">0.924993</td><td style = \"text-align: right;\">0.747691</td><td style = \"text-align: right;\">0.231147</td><td style = \"text-align: right;\">0.0488025</td><td style = \"text-align: right;\">0.269535</td><td style = \"text-align: right;\">0.836915</td><td style = \"text-align: right;\">0.721665</td><td style = \"text-align: right;\">0.172955</td><td style = \"text-align: right;\">0.156564</td><td style = \"text-align: right;\">0.626953</td></tr><tr><td class = \"rowNumber\" style = \"font-weight: bold; text-align: right;\">999993</td><td style = \"text-align: right;\">0.776062</td><td style = \"text-align: right;\">0.632179</td><td style = \"text-align: right;\">0.16735</td><td style = \"text-align: right;\">0.733432</td><td style = \"text-align: right;\">0.310175</td><td style = \"text-align: right;\">0.179945</td><td style = \"text-align: right;\">0.202645</td><td style = \"text-align: right;\">0.0655033</td><td style = \"text-align: right;\">0.973596</td><td style = \"text-align: right;\">0.29407</td></tr><tr><td class = \"rowNumber\" style = \"font-weight: bold; text-align: right;\">999994</td><td style = \"text-align: right;\">0.956579</td><td style = \"text-align: right;\">0.981833</td><td style = \"text-align: right;\">0.124783</td><td style = \"text-align: right;\">0.608637</td><td style = \"text-align: right;\">0.142491</td><td style = \"text-align: right;\">0.663191</td><td style = \"text-align: right;\">0.260144</td><td style = \"text-align: right;\">0.779393</td><td style = \"text-align: right;\">0.911908</td><td style = \"text-align: right;\">0.301494</td></tr><tr><td class = \"rowNumber\" style = \"font-weight: bold; text-align: right;\">999995</td><td style = \"text-align: right;\">0.838546</td><td style = \"text-align: right;\">0.714447</td><td style = \"text-align: right;\">0.638751</td><td style = \"text-align: right;\">0.59678</td><td style = \"text-align: right;\">0.289222</td><td style = \"text-align: right;\">0.475094</td><td style = \"text-align: right;\">0.330777</td><td style = \"text-align: right;\">0.616072</td><td style = \"text-align: right;\">0.712563</td><td style = \"text-align: right;\">0.684812</td></tr><tr><td class = \"rowNumber\" style = \"font-weight: bold; text-align: right;\">999996</td><td style = \"text-align: right;\">0.158345</td><td style = \"text-align: right;\">0.214111</td><td style = \"text-align: right;\">0.712918</td><td style = \"text-align: right;\">0.885146</td><td style = \"text-align: right;\">0.669071</td><td style = \"text-align: right;\">0.0132294</td><td style = \"text-align: right;\">0.809055</td><td style = \"text-align: right;\">0.657344</td><td style = \"text-align: right;\">0.731855</td><td style = \"text-align: right;\">0.751819</td></tr><tr><td class = \"rowNumber\" style = \"font-weight: bold; text-align: right;\">999997</td><td style = \"text-align: right;\">0.125834</td><td style = \"text-align: right;\">0.337962</td><td style = \"text-align: right;\">0.845818</td><td style = \"text-align: right;\">0.455782</td><td style = \"text-align: right;\">0.285817</td><td style = \"text-align: right;\">0.131564</td><td style = \"text-align: right;\">0.148065</td><td style = \"text-align: right;\">0.301571</td><td style = \"text-align: right;\">0.733966</td><td style = \"text-align: right;\">0.0261541</td></tr><tr><td class = \"rowNumber\" style = \"font-weight: bold; text-align: right;\">999998</td><td style = \"text-align: right;\">0.49382</td><td style = \"text-align: right;\">0.658093</td><td style = \"text-align: right;\">0.504581</td><td style = \"text-align: right;\">0.0711342</td><td style = \"text-align: right;\">0.859425</td><td style = \"text-align: right;\">0.684261</td><td style = \"text-align: right;\">0.686563</td><td style = \"text-align: right;\">0.932903</td><td style = \"text-align: right;\">0.0868392</td><td style = \"text-align: right;\">0.792913</td></tr><tr><td class = \"rowNumber\" style = \"font-weight: bold; text-align: right;\">999999</td><td style = \"text-align: right;\">0.429009</td><td style = \"text-align: right;\">0.917442</td><td style = \"text-align: right;\">0.473477</td><td style = \"text-align: right;\">0.875603</td><td style = \"text-align: right;\">0.567553</td><td style = \"text-align: right;\">0.758976</td><td style = \"text-align: right;\">0.400552</td><td style = \"text-align: right;\">0.15484</td><td style = \"text-align: right;\">0.125057</td><td style = \"text-align: right;\">0.742557</td></tr><tr><td class = \"rowNumber\" style = \"font-weight: bold; text-align: right;\">1000000</td><td style = \"text-align: right;\">0.139943</td><td style = \"text-align: right;\">0.395919</td><td style = \"text-align: right;\">0.402055</td><td style = \"text-align: right;\">0.984267</td><td style = \"text-align: right;\">0.199442</td><td style = \"text-align: right;\">0.478394</td><td style = \"text-align: right;\">0.116576</td><td style = \"text-align: right;\">0.0511251</td><td style = \"text-align: right;\">0.0905075</td><td style = \"text-align: right;\">0.521709</td></tr></tbody></table></div>"
      ],
      "text/latex": [
       "\\begin{tabular}{r|cccccccc}\n",
       "\t& x1 & x2 & x3 & x4 & x5 & x6 & x7 & \\\\\n",
       "\t\\hline\n",
       "\t& Float64 & Float64 & Float64 & Float64 & Float64 & Float64 & Float64 & \\\\\n",
       "\t\\hline\n",
       "\t1 & 0.622619 & 0.436343 & 0.728031 & 0.105606 & 0.999174 & 0.0449576 & 0.19143 & $\\dots$ \\\\\n",
       "\t2 & 0.775199 & 0.4118 & 0.325693 & 0.733648 & 0.802903 & 0.000505339 & 0.53319 & $\\dots$ \\\\\n",
       "\t3 & 0.323058 & 0.45963 & 0.191191 & 0.0162073 & 0.824213 & 0.120045 & 0.014544 & $\\dots$ \\\\\n",
       "\t4 & 0.487134 & 0.459817 & 0.953669 & 0.866734 & 0.29691 & 0.0539078 & 0.673938 & $\\dots$ \\\\\n",
       "\t5 & 0.764617 & 0.104164 & 0.305518 & 0.882695 & 0.933912 & 0.58931 & 0.70341 & $\\dots$ \\\\\n",
       "\t6 & 0.817391 & 0.0734525 & 0.887336 & 0.853012 & 0.0613441 & 0.787182 & 0.00444137 & $\\dots$ \\\\\n",
       "\t7 & 0.168903 & 0.890934 & 0.88228 & 0.806285 & 0.559195 & 0.699344 & 0.296276 & $\\dots$ \\\\\n",
       "\t8 & 0.873277 & 0.205052 & 0.937417 & 0.680343 & 0.506249 & 0.753223 & 0.529395 & $\\dots$ \\\\\n",
       "\t9 & 0.775905 & 0.826503 & 0.0389343 & 0.510118 & 0.658464 & 0.565723 & 0.231966 & $\\dots$ \\\\\n",
       "\t10 & 0.0285103 & 0.943569 & 0.796121 & 0.322704 & 0.470704 & 0.153233 & 0.483333 & $\\dots$ \\\\\n",
       "\t11 & 0.956834 & 0.955028 & 0.565103 & 0.648313 & 0.926739 & 0.865876 & 0.078812 & $\\dots$ \\\\\n",
       "\t12 & 0.00993233 & 0.244166 & 0.139615 & 0.0553354 & 0.868438 & 0.461724 & 0.171561 & $\\dots$ \\\\\n",
       "\t13 & 0.448154 & 0.137298 & 0.3228 & 0.0286561 & 0.447368 & 0.845181 & 0.808807 & $\\dots$ \\\\\n",
       "\t14 & 0.164554 & 0.420637 & 0.955643 & 0.676157 & 0.868686 & 0.737192 & 0.861679 & $\\dots$ \\\\\n",
       "\t15 & 0.59148 & 0.892087 & 0.247291 & 0.775766 & 0.984183 & 0.668072 & 0.208557 & $\\dots$ \\\\\n",
       "\t16 & 0.27602 & 0.538788 & 0.168256 & 0.691528 & 0.316115 & 0.646562 & 0.191367 & $\\dots$ \\\\\n",
       "\t17 & 0.662747 & 0.989927 & 0.861575 & 0.25883 & 0.0949898 & 0.953254 & 0.673375 & $\\dots$ \\\\\n",
       "\t18 & 0.270446 & 0.919607 & 0.0336321 & 0.179524 & 0.40794 & 0.741365 & 0.960979 & $\\dots$ \\\\\n",
       "\t19 & 0.812471 & 0.261661 & 0.929166 & 0.870985 & 0.32548 & 0.68461 & 0.298075 & $\\dots$ \\\\\n",
       "\t20 & 0.457662 & 0.90817 & 0.491466 & 0.840037 & 0.154523 & 0.24982 & 0.403554 & $\\dots$ \\\\\n",
       "\t21 & 0.656209 & 0.823862 & 0.530508 & 0.0754542 & 0.984543 & 0.800149 & 0.476399 & $\\dots$ \\\\\n",
       "\t22 & 0.134301 & 0.0667028 & 0.880475 & 0.644867 & 0.929403 & 0.930946 & 0.123722 & $\\dots$ \\\\\n",
       "\t23 & 0.348488 & 0.876916 & 0.264105 & 0.831202 & 0.321492 & 0.444587 & 0.161281 & $\\dots$ \\\\\n",
       "\t24 & 0.968364 & 0.816671 & 0.685176 & 0.900474 & 0.613948 & 0.0545753 & 0.520291 & $\\dots$ \\\\\n",
       "\t25 & 0.123808 & 0.667503 & 0.809938 & 0.408531 & 0.719795 & 0.491694 & 0.113882 & $\\dots$ \\\\\n",
       "\t26 & 0.190787 & 0.427042 & 0.705631 & 0.848029 & 0.220587 & 0.379744 & 0.366806 & $\\dots$ \\\\\n",
       "\t27 & 0.364842 & 0.909273 & 0.368959 & 0.439176 & 0.645377 & 0.081477 & 0.00937447 & $\\dots$ \\\\\n",
       "\t28 & 0.0222173 & 0.0105818 & 0.590397 & 0.836857 & 0.106587 & 0.564517 & 0.971917 & $\\dots$ \\\\\n",
       "\t29 & 0.815478 & 0.594714 & 0.48457 & 0.464635 & 0.230782 & 0.292507 & 0.658575 & $\\dots$ \\\\\n",
       "\t30 & 0.297426 & 0.582727 & 0.407074 & 0.648319 & 0.0718383 & 0.735511 & 0.186942 & $\\dots$ \\\\\n",
       "\t$\\dots$ & $\\dots$ & $\\dots$ & $\\dots$ & $\\dots$ & $\\dots$ & $\\dots$ & $\\dots$ &  \\\\\n",
       "\\end{tabular}\n"
      ],
      "text/plain": [
       "\u001b[1m1000000×10 DataFrame\u001b[0m\n",
       "\u001b[1m     Row \u001b[0m│\u001b[1m x1         \u001b[0m\u001b[1m x2        \u001b[0m\u001b[1m x3        \u001b[0m\u001b[1m x4        \u001b[0m\u001b[1m x5        \u001b[0m\u001b[1m x6         \u001b[0m ⋯\n",
       "         │\u001b[90m Float64    \u001b[0m\u001b[90m Float64   \u001b[0m\u001b[90m Float64   \u001b[0m\u001b[90m Float64   \u001b[0m\u001b[90m Float64   \u001b[0m\u001b[90m Float64    \u001b[0m ⋯\n",
       "─────────┼──────────────────────────────────────────────────────────────────────\n",
       "       1 │ 0.622619    0.436343   0.728031   0.105606   0.999174   0.0449576   ⋯\n",
       "       2 │ 0.775199    0.4118     0.325693   0.733648   0.802903   0.000505339\n",
       "       3 │ 0.323058    0.45963    0.191191   0.0162073  0.824213   0.120045\n",
       "       4 │ 0.487134    0.459817   0.953669   0.866734   0.29691    0.0539078\n",
       "       5 │ 0.764617    0.104164   0.305518   0.882695   0.933912   0.58931     ⋯\n",
       "       6 │ 0.817391    0.0734525  0.887336   0.853012   0.0613441  0.787182\n",
       "       7 │ 0.168903    0.890934   0.88228    0.806285   0.559195   0.699344\n",
       "       8 │ 0.873277    0.205052   0.937417   0.680343   0.506249   0.753223\n",
       "       9 │ 0.775905    0.826503   0.0389343  0.510118   0.658464   0.565723    ⋯\n",
       "      10 │ 0.0285103   0.943569   0.796121   0.322704   0.470704   0.153233\n",
       "      11 │ 0.956834    0.955028   0.565103   0.648313   0.926739   0.865876\n",
       "    ⋮    │     ⋮           ⋮          ⋮          ⋮          ⋮           ⋮      ⋱\n",
       "  999991 │ 0.371153    0.911671   0.423898   0.939765   0.733177   0.187074\n",
       "  999992 │ 0.924993    0.747691   0.231147   0.0488025  0.269535   0.836915    ⋯\n",
       "  999993 │ 0.776062    0.632179   0.16735    0.733432   0.310175   0.179945\n",
       "  999994 │ 0.956579    0.981833   0.124783   0.608637   0.142491   0.663191\n",
       "  999995 │ 0.838546    0.714447   0.638751   0.59678    0.289222   0.475094\n",
       "  999996 │ 0.158345    0.214111   0.712918   0.885146   0.669071   0.0132294   ⋯\n",
       "  999997 │ 0.125834    0.337962   0.845818   0.455782   0.285817   0.131564\n",
       "  999998 │ 0.49382     0.658093   0.504581   0.0711342  0.859425   0.684261\n",
       "  999999 │ 0.429009    0.917442   0.473477   0.875603   0.567553   0.758976\n",
       " 1000000 │ 0.139943    0.395919   0.402055   0.984267   0.199442   0.478394    ⋯\n",
       "\u001b[36m                                               4 columns and 999979 rows omitted\u001b[0m"
      ]
     },
     "execution_count": 25,
     "metadata": {},
     "output_type": "execute_result"
    }
   ],
   "source": [
    "df2 = DataFrame(rand(10^6, 10), :auto)"
   ]
  },
  {
   "cell_type": "code",
   "execution_count": 26,
   "metadata": {},
   "outputs": [
    {
     "name": "stdout",
     "output_type": "stream",
     "text": [
      "  2.211330 seconds (60.25 M allocations: 1.064 GiB, 10.66% gc time, 4.70% compilation time)\n"
     ]
    },
    {
     "data": {
      "text/plain": [
       "1000000-element Vector{Float64}:\n",
       " 4.986694968551295\n",
       " 5.703301973928069\n",
       " 3.6699821580942373\n",
       " 5.8173604519654365\n",
       " 5.187132612130035\n",
       " 5.0261200831636526\n",
       " 6.173471538651279\n",
       " 7.047896934559805\n",
       " 4.8838311978141355\n",
       " 4.4620607062848165\n",
       " 6.511812188675087\n",
       " 2.65610417120726\n",
       " 3.8126691051180788\n",
       " ⋮\n",
       " 5.647798831400137\n",
       " 5.482999732609254\n",
       " 5.679812696627533\n",
       " 4.737219922862144\n",
       " 4.33495820390455\n",
       " 5.7304529387305765\n",
       " 5.897063907649167\n",
       " 5.602893138716614\n",
       " 3.392533429935587\n",
       " 5.770531985593611\n",
       " 5.445066567576743\n",
       " 3.379936205888135"
      ]
     },
     "execution_count": 26,
     "metadata": {},
     "output_type": "execute_result"
    }
   ],
   "source": [
    "@time map(sum, eachrow(df2))"
   ]
  },
  {
   "cell_type": "code",
   "execution_count": 27,
   "metadata": {},
   "outputs": [
    {
     "name": "stdout",
     "output_type": "stream",
     "text": [
      "  1.945997 seconds (59.99 M allocations: 1.050 GiB, 3.50% gc time)\n"
     ]
    },
    {
     "data": {
      "text/plain": [
       "1000000-element Vector{Float64}:\n",
       " 4.986694968551295\n",
       " 5.703301973928069\n",
       " 3.6699821580942373\n",
       " 5.8173604519654365\n",
       " 5.187132612130035\n",
       " 5.0261200831636526\n",
       " 6.173471538651279\n",
       " 7.047896934559805\n",
       " 4.8838311978141355\n",
       " 4.4620607062848165\n",
       " 6.511812188675087\n",
       " 2.65610417120726\n",
       " 3.8126691051180788\n",
       " ⋮\n",
       " 5.647798831400137\n",
       " 5.482999732609254\n",
       " 5.679812696627533\n",
       " 4.737219922862144\n",
       " 4.33495820390455\n",
       " 5.7304529387305765\n",
       " 5.897063907649167\n",
       " 5.602893138716614\n",
       " 3.392533429935587\n",
       " 5.770531985593611\n",
       " 5.445066567576743\n",
       " 3.379936205888135"
      ]
     },
     "execution_count": 27,
     "metadata": {},
     "output_type": "execute_result"
    }
   ],
   "source": [
    "@time map(sum, eachrow(df2))"
   ]
  },
  {
   "cell_type": "code",
   "execution_count": 28,
   "metadata": {},
   "outputs": [
    {
     "name": "stdout",
     "output_type": "stream",
     "text": [
      "  0.163732 seconds (440.27 k allocations: 30.963 MiB, 92.95% compilation time)\n"
     ]
    },
    {
     "data": {
      "text/plain": [
       "1000000-element Vector{Float64}:\n",
       " 4.986694968551295\n",
       " 5.703301973928069\n",
       " 3.6699821580942373\n",
       " 5.8173604519654365\n",
       " 5.187132612130035\n",
       " 5.0261200831636526\n",
       " 6.173471538651279\n",
       " 7.047896934559805\n",
       " 4.8838311978141355\n",
       " 4.4620607062848165\n",
       " 6.511812188675087\n",
       " 2.65610417120726\n",
       " 3.8126691051180788\n",
       " ⋮\n",
       " 5.647798831400137\n",
       " 5.482999732609254\n",
       " 5.679812696627533\n",
       " 4.737219922862144\n",
       " 4.33495820390455\n",
       " 5.7304529387305765\n",
       " 5.897063907649167\n",
       " 5.602893138716614\n",
       " 3.392533429935587\n",
       " 5.770531985593611\n",
       " 5.445066567576743\n",
       " 3.379936205888135"
      ]
     },
     "execution_count": 28,
     "metadata": {},
     "output_type": "execute_result"
    }
   ],
   "source": [
    "@time map(sum, Tables.namedtupleiterator(df2))"
   ]
  },
  {
   "cell_type": "code",
   "execution_count": 29,
   "metadata": {},
   "outputs": [
    {
     "name": "stdout",
     "output_type": "stream",
     "text": [
      "  0.010230 seconds (13 allocations: 7.630 MiB)\n"
     ]
    },
    {
     "data": {
      "text/plain": [
       "1000000-element Vector{Float64}:\n",
       " 4.986694968551295\n",
       " 5.703301973928069\n",
       " 3.6699821580942373\n",
       " 5.8173604519654365\n",
       " 5.187132612130035\n",
       " 5.0261200831636526\n",
       " 6.173471538651279\n",
       " 7.047896934559805\n",
       " 4.8838311978141355\n",
       " 4.4620607062848165\n",
       " 6.511812188675087\n",
       " 2.65610417120726\n",
       " 3.8126691051180788\n",
       " ⋮\n",
       " 5.647798831400137\n",
       " 5.482999732609254\n",
       " 5.679812696627533\n",
       " 4.737219922862144\n",
       " 4.33495820390455\n",
       " 5.7304529387305765\n",
       " 5.897063907649167\n",
       " 5.602893138716614\n",
       " 3.392533429935587\n",
       " 5.770531985593611\n",
       " 5.445066567576743\n",
       " 3.379936205888135"
      ]
     },
     "execution_count": 29,
     "metadata": {},
     "output_type": "execute_result"
    }
   ],
   "source": [
    "@time map(sum, Tables.namedtupleiterator(df2))"
   ]
  },
  {
   "cell_type": "markdown",
   "metadata": {},
   "source": [
    "as you can see - this time it is much faster to iterate a type stable container"
   ]
  },
  {
   "cell_type": "markdown",
   "metadata": {},
   "source": [
    "still you might want to use the `select` syntax, which is optimized for such reductions:"
   ]
  },
  {
   "cell_type": "code",
   "execution_count": 30,
   "metadata": {},
   "outputs": [
    {
     "name": "stdout",
     "output_type": "stream",
     "text": [
      "  0.453571 seconds (912.14 k allocations: 56.067 MiB, 98.20% compilation time)\n"
     ]
    },
    {
     "data": {
      "text/plain": [
       "1000000-element Vector{Float64}:\n",
       " 4.986694968551295\n",
       " 5.703301973928069\n",
       " 3.6699821580942373\n",
       " 5.8173604519654365\n",
       " 5.187132612130035\n",
       " 5.0261200831636526\n",
       " 6.173471538651279\n",
       " 7.047896934559805\n",
       " 4.8838311978141355\n",
       " 4.4620607062848165\n",
       " 6.511812188675087\n",
       " 2.65610417120726\n",
       " 3.8126691051180788\n",
       " ⋮\n",
       " 5.647798831400137\n",
       " 5.482999732609254\n",
       " 5.679812696627533\n",
       " 4.737219922862144\n",
       " 4.33495820390455\n",
       " 5.7304529387305765\n",
       " 5.897063907649167\n",
       " 5.602893138716614\n",
       " 3.392533429935587\n",
       " 5.770531985593611\n",
       " 5.445066567576743\n",
       " 3.379936205888135"
      ]
     },
     "execution_count": 30,
     "metadata": {},
     "output_type": "execute_result"
    }
   ],
   "source": [
    "@time select(df2, AsTable(:) => ByRow(sum) => \"sum\").sum # this includes compilation time"
   ]
  },
  {
   "cell_type": "code",
   "execution_count": 31,
   "metadata": {},
   "outputs": [
    {
     "name": "stdout",
     "output_type": "stream",
     "text": [
      "  0.006923 seconds (170 allocations: 7.638 MiB)\n"
     ]
    },
    {
     "data": {
      "text/plain": [
       "1000000-element Vector{Float64}:\n",
       " 4.986694968551295\n",
       " 5.703301973928069\n",
       " 3.6699821580942373\n",
       " 5.8173604519654365\n",
       " 5.187132612130035\n",
       " 5.0261200831636526\n",
       " 6.173471538651279\n",
       " 7.047896934559805\n",
       " 4.8838311978141355\n",
       " 4.4620607062848165\n",
       " 6.511812188675087\n",
       " 2.65610417120726\n",
       " 3.8126691051180788\n",
       " ⋮\n",
       " 5.647798831400137\n",
       " 5.482999732609254\n",
       " 5.679812696627533\n",
       " 4.737219922862144\n",
       " 4.33495820390455\n",
       " 5.7304529387305765\n",
       " 5.897063907649167\n",
       " 5.602893138716614\n",
       " 3.392533429935587\n",
       " 5.770531985593611\n",
       " 5.445066567576743\n",
       " 3.379936205888135"
      ]
     },
     "execution_count": 31,
     "metadata": {},
     "output_type": "execute_result"
    }
   ],
   "source": [
    "@time select(df2, AsTable(:) => ByRow(sum) => \"sum\").sum"
   ]
  }
 ],
 "metadata": {
  "@webio": {
   "lastCommId": null,
   "lastKernelId": null
  },
  "kernelspec": {
   "display_name": "Julia 1.8.2",
   "language": "julia",
   "name": "julia-1.8"
  },
  "language_info": {
   "file_extension": ".jl",
   "mimetype": "application/julia",
   "name": "julia",
   "version": "1.8.2"
  }
 },
 "nbformat": 4,
 "nbformat_minor": 1
}
