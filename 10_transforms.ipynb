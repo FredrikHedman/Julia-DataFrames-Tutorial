{
 "cells": [
  {
   "cell_type": "markdown",
   "metadata": {},
   "source": [
    "# Introduction to DataFrames\n",
    "**[Bogumił Kamiński](http://bogumilkaminski.pl/about/), May 15, 2021**"
   ]
  },
  {
   "cell_type": "code",
   "execution_count": 1,
   "metadata": {},
   "outputs": [],
   "source": [
    "using DataFrames"
   ]
  },
  {
   "cell_type": "markdown",
   "metadata": {},
   "source": [
    "## Split-apply-combine"
   ]
  },
  {
   "cell_type": "markdown",
   "metadata": {},
   "source": [
    "### Grouping a data frame"
   ]
  },
  {
   "cell_type": "code",
   "execution_count": 2,
   "metadata": {
    "scrolled": true
   },
   "outputs": [
    {
     "data": {
      "text/html": [
       "<table class=\"data-frame\"><thead><tr><th></th><th>id</th><th>id2</th><th>v</th></tr><tr><th></th><th>Int64</th><th>Int64</th><th>Float64</th></tr></thead><tbody><p>8 rows × 3 columns</p><tr><th>1</th><td>1</td><td>1</td><td>0.413963</td></tr><tr><th>2</th><td>2</td><td>2</td><td>0.222133</td></tr><tr><th>3</th><td>3</td><td>1</td><td>0.448879</td></tr><tr><th>4</th><td>4</td><td>2</td><td>0.451822</td></tr><tr><th>5</th><td>1</td><td>1</td><td>0.850196</td></tr><tr><th>6</th><td>2</td><td>2</td><td>0.187787</td></tr><tr><th>7</th><td>3</td><td>1</td><td>0.934941</td></tr><tr><th>8</th><td>4</td><td>2</td><td>0.512361</td></tr></tbody></table>"
      ],
      "text/latex": [
       "\\begin{tabular}{r|ccc}\n",
       "\t& id & id2 & v\\\\\n",
       "\t\\hline\n",
       "\t& Int64 & Int64 & Float64\\\\\n",
       "\t\\hline\n",
       "\t1 & 1 & 1 & 0.413963 \\\\\n",
       "\t2 & 2 & 2 & 0.222133 \\\\\n",
       "\t3 & 3 & 1 & 0.448879 \\\\\n",
       "\t4 & 4 & 2 & 0.451822 \\\\\n",
       "\t5 & 1 & 1 & 0.850196 \\\\\n",
       "\t6 & 2 & 2 & 0.187787 \\\\\n",
       "\t7 & 3 & 1 & 0.934941 \\\\\n",
       "\t8 & 4 & 2 & 0.512361 \\\\\n",
       "\\end{tabular}\n"
      ],
      "text/plain": [
       "\u001b[1m8×3 DataFrame\u001b[0m\n",
       "\u001b[1m Row \u001b[0m│\u001b[1m id    \u001b[0m\u001b[1m id2   \u001b[0m\u001b[1m v        \u001b[0m\n",
       "\u001b[1m     \u001b[0m│\u001b[90m Int64 \u001b[0m\u001b[90m Int64 \u001b[0m\u001b[90m Float64  \u001b[0m\n",
       "─────┼────────────────────────\n",
       "   1 │     1      1  0.413963\n",
       "   2 │     2      2  0.222133\n",
       "   3 │     3      1  0.448879\n",
       "   4 │     4      2  0.451822\n",
       "   5 │     1      1  0.850196\n",
       "   6 │     2      2  0.187787\n",
       "   7 │     3      1  0.934941\n",
       "   8 │     4      2  0.512361"
      ]
     },
     "execution_count": 2,
     "metadata": {},
     "output_type": "execute_result"
    }
   ],
   "source": [
    "x = DataFrame(id=[1,2,3,4,1,2,3,4], id2=[1,2,1,2,1,2,1,2], v=rand(8))"
   ]
  },
  {
   "cell_type": "code",
   "execution_count": 3,
   "metadata": {
    "scrolled": false
   },
   "outputs": [
    {
     "data": {
      "text/html": [
       "<p><b>GroupedDataFrame with 4 groups based on key: id</b></p><p><i>First Group (2 rows): id = 1</i></p><table class=\"data-frame\"><thead><tr><th></th><th>id</th><th>id2</th><th>v</th></tr><tr><th></th><th>Int64</th><th>Int64</th><th>Float64</th></tr></thead><tbody><tr><th>1</th><td>1</td><td>1</td><td>0.413963</td></tr><tr><th>2</th><td>1</td><td>1</td><td>0.850196</td></tr></tbody></table><p>&vellip;</p><p><i>Last Group (2 rows): id = 4</i></p><table class=\"data-frame\"><thead><tr><th></th><th>id</th><th>id2</th><th>v</th></tr><tr><th></th><th>Int64</th><th>Int64</th><th>Float64</th></tr></thead><tbody><tr><th>1</th><td>4</td><td>2</td><td>0.451822</td></tr><tr><th>2</th><td>4</td><td>2</td><td>0.512361</td></tr></tbody></table>"
      ],
      "text/latex": [
       "GroupedDataFrame with 4 groups based on key: id\n",
       "\n",
       "First Group (2 rows): id = 1\n",
       "\n",
       "\\begin{tabular}{r|ccc}\n",
       "\t& id & id2 & v\\\\\n",
       "\t\\hline\n",
       "\t& Int64 & Int64 & Float64\\\\\n",
       "\t\\hline\n",
       "\t1 & 1 & 1 & 0.413963 \\\\\n",
       "\t2 & 1 & 1 & 0.850196 \\\\\n",
       "\\end{tabular}\n",
       "\n",
       "$\\dots$\n",
       "\n",
       "Last Group (2 rows): id = 4\n",
       "\n",
       "\\begin{tabular}{r|ccc}\n",
       "\t& id & id2 & v\\\\\n",
       "\t\\hline\n",
       "\t& Int64 & Int64 & Float64\\\\\n",
       "\t\\hline\n",
       "\t1 & 4 & 2 & 0.451822 \\\\\n",
       "\t2 & 4 & 2 & 0.512361 \\\\\n",
       "\\end{tabular}\n"
      ],
      "text/plain": [
       "GroupedDataFrame with 4 groups based on key: id\n",
       "First Group (2 rows): id = 1\n",
       "\u001b[1m Row \u001b[0m│\u001b[1m id    \u001b[0m\u001b[1m id2   \u001b[0m\u001b[1m v        \u001b[0m\n",
       "\u001b[1m     \u001b[0m│\u001b[90m Int64 \u001b[0m\u001b[90m Int64 \u001b[0m\u001b[90m Float64  \u001b[0m\n",
       "─────┼────────────────────────\n",
       "   1 │     1      1  0.413963\n",
       "   2 │     1      1  0.850196\n",
       "⋮\n",
       "Last Group (2 rows): id = 4\n",
       "\u001b[1m Row \u001b[0m│\u001b[1m id    \u001b[0m\u001b[1m id2   \u001b[0m\u001b[1m v        \u001b[0m\n",
       "\u001b[1m     \u001b[0m│\u001b[90m Int64 \u001b[0m\u001b[90m Int64 \u001b[0m\u001b[90m Float64  \u001b[0m\n",
       "─────┼────────────────────────\n",
       "   1 │     4      2  0.451822\n",
       "   2 │     4      2  0.512361"
      ]
     },
     "execution_count": 3,
     "metadata": {},
     "output_type": "execute_result"
    }
   ],
   "source": [
    "groupby(x, :id)"
   ]
  },
  {
   "cell_type": "code",
   "execution_count": 4,
   "metadata": {},
   "outputs": [
    {
     "data": {
      "text/html": [
       "<p><b>GroupedDataFrame with 1 group based on key: </b></p><p><i>First Group (8 rows): </i></p><table class=\"data-frame\"><thead><tr><th></th><th>id</th><th>id2</th><th>v</th></tr><tr><th></th><th>Int64</th><th>Int64</th><th>Float64</th></tr></thead><tbody><tr><th>1</th><td>1</td><td>1</td><td>0.413963</td></tr><tr><th>2</th><td>2</td><td>2</td><td>0.222133</td></tr><tr><th>3</th><td>3</td><td>1</td><td>0.448879</td></tr><tr><th>4</th><td>4</td><td>2</td><td>0.451822</td></tr><tr><th>5</th><td>1</td><td>1</td><td>0.850196</td></tr><tr><th>6</th><td>2</td><td>2</td><td>0.187787</td></tr><tr><th>7</th><td>3</td><td>1</td><td>0.934941</td></tr><tr><th>8</th><td>4</td><td>2</td><td>0.512361</td></tr></tbody></table>"
      ],
      "text/latex": [
       "GroupedDataFrame with 1 group based on key: \n",
       "\n",
       "First Group (8 rows): \n",
       "\n",
       "\\begin{tabular}{r|ccc}\n",
       "\t& id & id2 & v\\\\\n",
       "\t\\hline\n",
       "\t& Int64 & Int64 & Float64\\\\\n",
       "\t\\hline\n",
       "\t1 & 1 & 1 & 0.413963 \\\\\n",
       "\t2 & 2 & 2 & 0.222133 \\\\\n",
       "\t3 & 3 & 1 & 0.448879 \\\\\n",
       "\t4 & 4 & 2 & 0.451822 \\\\\n",
       "\t5 & 1 & 1 & 0.850196 \\\\\n",
       "\t6 & 2 & 2 & 0.187787 \\\\\n",
       "\t7 & 3 & 1 & 0.934941 \\\\\n",
       "\t8 & 4 & 2 & 0.512361 \\\\\n",
       "\\end{tabular}\n"
      ],
      "text/plain": [
       "GroupedDataFrame with 1 group based on key: \n",
       "First Group (8 rows): \n",
       "\u001b[1m Row \u001b[0m│\u001b[1m id    \u001b[0m\u001b[1m id2   \u001b[0m\u001b[1m v        \u001b[0m\n",
       "\u001b[1m     \u001b[0m│\u001b[90m Int64 \u001b[0m\u001b[90m Int64 \u001b[0m\u001b[90m Float64  \u001b[0m\n",
       "─────┼────────────────────────\n",
       "   1 │     1      1  0.413963\n",
       "   2 │     2      2  0.222133\n",
       "   3 │     3      1  0.448879\n",
       "   4 │     4      2  0.451822\n",
       "   5 │     1      1  0.850196\n",
       "   6 │     2      2  0.187787\n",
       "   7 │     3      1  0.934941\n",
       "   8 │     4      2  0.512361"
      ]
     },
     "execution_count": 4,
     "metadata": {},
     "output_type": "execute_result"
    }
   ],
   "source": [
    "groupby(x, [])"
   ]
  },
  {
   "cell_type": "code",
   "execution_count": 5,
   "metadata": {},
   "outputs": [
    {
     "data": {
      "text/html": [
       "<p><b>GroupedDataFrame with 4 groups based on keys: id, id2</b></p><p><i>First Group (2 rows): id = 1, id2 = 1</i></p><table class=\"data-frame\"><thead><tr><th></th><th>id</th><th>id2</th><th>v</th></tr><tr><th></th><th>Int64</th><th>Int64</th><th>Float64</th></tr></thead><tbody><tr><th>1</th><td>1</td><td>1</td><td>0.413963</td></tr><tr><th>2</th><td>1</td><td>1</td><td>0.850196</td></tr></tbody></table><p>&vellip;</p><p><i>Last Group (2 rows): id = 4, id2 = 2</i></p><table class=\"data-frame\"><thead><tr><th></th><th>id</th><th>id2</th><th>v</th></tr><tr><th></th><th>Int64</th><th>Int64</th><th>Float64</th></tr></thead><tbody><tr><th>1</th><td>4</td><td>2</td><td>0.451822</td></tr><tr><th>2</th><td>4</td><td>2</td><td>0.512361</td></tr></tbody></table>"
      ],
      "text/latex": [
       "GroupedDataFrame with 4 groups based on keys: id, id2\n",
       "\n",
       "First Group (2 rows): id = 1, id2 = 1\n",
       "\n",
       "\\begin{tabular}{r|ccc}\n",
       "\t& id & id2 & v\\\\\n",
       "\t\\hline\n",
       "\t& Int64 & Int64 & Float64\\\\\n",
       "\t\\hline\n",
       "\t1 & 1 & 1 & 0.413963 \\\\\n",
       "\t2 & 1 & 1 & 0.850196 \\\\\n",
       "\\end{tabular}\n",
       "\n",
       "$\\dots$\n",
       "\n",
       "Last Group (2 rows): id = 4, id2 = 2\n",
       "\n",
       "\\begin{tabular}{r|ccc}\n",
       "\t& id & id2 & v\\\\\n",
       "\t\\hline\n",
       "\t& Int64 & Int64 & Float64\\\\\n",
       "\t\\hline\n",
       "\t1 & 4 & 2 & 0.451822 \\\\\n",
       "\t2 & 4 & 2 & 0.512361 \\\\\n",
       "\\end{tabular}\n"
      ],
      "text/plain": [
       "GroupedDataFrame with 4 groups based on keys: id, id2\n",
       "First Group (2 rows): id = 1, id2 = 1\n",
       "\u001b[1m Row \u001b[0m│\u001b[1m id    \u001b[0m\u001b[1m id2   \u001b[0m\u001b[1m v        \u001b[0m\n",
       "\u001b[1m     \u001b[0m│\u001b[90m Int64 \u001b[0m\u001b[90m Int64 \u001b[0m\u001b[90m Float64  \u001b[0m\n",
       "─────┼────────────────────────\n",
       "   1 │     1      1  0.413963\n",
       "   2 │     1      1  0.850196\n",
       "⋮\n",
       "Last Group (2 rows): id = 4, id2 = 2\n",
       "\u001b[1m Row \u001b[0m│\u001b[1m id    \u001b[0m\u001b[1m id2   \u001b[0m\u001b[1m v        \u001b[0m\n",
       "\u001b[1m     \u001b[0m│\u001b[90m Int64 \u001b[0m\u001b[90m Int64 \u001b[0m\u001b[90m Float64  \u001b[0m\n",
       "─────┼────────────────────────\n",
       "   1 │     4      2  0.451822\n",
       "   2 │     4      2  0.512361"
      ]
     },
     "execution_count": 5,
     "metadata": {},
     "output_type": "execute_result"
    }
   ],
   "source": [
    "gx2 = groupby(x, [:id, :id2])"
   ]
  },
  {
   "cell_type": "code",
   "execution_count": 6,
   "metadata": {},
   "outputs": [
    {
     "data": {
      "text/html": [
       "<table class=\"data-frame\"><thead><tr><th></th><th>id</th><th>id2</th><th>v</th></tr><tr><th></th><th>Int64</th><th>Int64</th><th>Float64</th></tr></thead><tbody><p>8 rows × 3 columns</p><tr><th>1</th><td>1</td><td>1</td><td>0.413963</td></tr><tr><th>2</th><td>2</td><td>2</td><td>0.222133</td></tr><tr><th>3</th><td>3</td><td>1</td><td>0.448879</td></tr><tr><th>4</th><td>4</td><td>2</td><td>0.451822</td></tr><tr><th>5</th><td>1</td><td>1</td><td>0.850196</td></tr><tr><th>6</th><td>2</td><td>2</td><td>0.187787</td></tr><tr><th>7</th><td>3</td><td>1</td><td>0.934941</td></tr><tr><th>8</th><td>4</td><td>2</td><td>0.512361</td></tr></tbody></table>"
      ],
      "text/latex": [
       "\\begin{tabular}{r|ccc}\n",
       "\t& id & id2 & v\\\\\n",
       "\t\\hline\n",
       "\t& Int64 & Int64 & Float64\\\\\n",
       "\t\\hline\n",
       "\t1 & 1 & 1 & 0.413963 \\\\\n",
       "\t2 & 2 & 2 & 0.222133 \\\\\n",
       "\t3 & 3 & 1 & 0.448879 \\\\\n",
       "\t4 & 4 & 2 & 0.451822 \\\\\n",
       "\t5 & 1 & 1 & 0.850196 \\\\\n",
       "\t6 & 2 & 2 & 0.187787 \\\\\n",
       "\t7 & 3 & 1 & 0.934941 \\\\\n",
       "\t8 & 4 & 2 & 0.512361 \\\\\n",
       "\\end{tabular}\n"
      ],
      "text/plain": [
       "\u001b[1m8×3 DataFrame\u001b[0m\n",
       "\u001b[1m Row \u001b[0m│\u001b[1m id    \u001b[0m\u001b[1m id2   \u001b[0m\u001b[1m v        \u001b[0m\n",
       "\u001b[1m     \u001b[0m│\u001b[90m Int64 \u001b[0m\u001b[90m Int64 \u001b[0m\u001b[90m Float64  \u001b[0m\n",
       "─────┼────────────────────────\n",
       "   1 │     1      1  0.413963\n",
       "   2 │     2      2  0.222133\n",
       "   3 │     3      1  0.448879\n",
       "   4 │     4      2  0.451822\n",
       "   5 │     1      1  0.850196\n",
       "   6 │     2      2  0.187787\n",
       "   7 │     3      1  0.934941\n",
       "   8 │     4      2  0.512361"
      ]
     },
     "execution_count": 6,
     "metadata": {},
     "output_type": "execute_result"
    }
   ],
   "source": [
    "parent(gx2) # get the parent DataFrame "
   ]
  },
  {
   "cell_type": "code",
   "execution_count": 7,
   "metadata": {},
   "outputs": [
    {
     "data": {
      "text/html": [
       "<table class=\"data-frame\"><thead><tr><th></th><th>id</th><th>id2</th><th>v</th></tr><tr><th></th><th>Int64</th><th>Int64</th><th>Float64</th></tr></thead><tbody><p>8 rows × 3 columns</p><tr><th>1</th><td>1</td><td>1</td><td>0.413963</td></tr><tr><th>2</th><td>1</td><td>1</td><td>0.850196</td></tr><tr><th>3</th><td>2</td><td>2</td><td>0.222133</td></tr><tr><th>4</th><td>2</td><td>2</td><td>0.187787</td></tr><tr><th>5</th><td>3</td><td>1</td><td>0.448879</td></tr><tr><th>6</th><td>3</td><td>1</td><td>0.934941</td></tr><tr><th>7</th><td>4</td><td>2</td><td>0.451822</td></tr><tr><th>8</th><td>4</td><td>2</td><td>0.512361</td></tr></tbody></table>"
      ],
      "text/latex": [
       "\\begin{tabular}{r|ccc}\n",
       "\t& id & id2 & v\\\\\n",
       "\t\\hline\n",
       "\t& Int64 & Int64 & Float64\\\\\n",
       "\t\\hline\n",
       "\t1 & 1 & 1 & 0.413963 \\\\\n",
       "\t2 & 1 & 1 & 0.850196 \\\\\n",
       "\t3 & 2 & 2 & 0.222133 \\\\\n",
       "\t4 & 2 & 2 & 0.187787 \\\\\n",
       "\t5 & 3 & 1 & 0.448879 \\\\\n",
       "\t6 & 3 & 1 & 0.934941 \\\\\n",
       "\t7 & 4 & 2 & 0.451822 \\\\\n",
       "\t8 & 4 & 2 & 0.512361 \\\\\n",
       "\\end{tabular}\n"
      ],
      "text/plain": [
       "\u001b[1m8×3 DataFrame\u001b[0m\n",
       "\u001b[1m Row \u001b[0m│\u001b[1m id    \u001b[0m\u001b[1m id2   \u001b[0m\u001b[1m v        \u001b[0m\n",
       "\u001b[1m     \u001b[0m│\u001b[90m Int64 \u001b[0m\u001b[90m Int64 \u001b[0m\u001b[90m Float64  \u001b[0m\n",
       "─────┼────────────────────────\n",
       "   1 │     1      1  0.413963\n",
       "   2 │     1      1  0.850196\n",
       "   3 │     2      2  0.222133\n",
       "   4 │     2      2  0.187787\n",
       "   5 │     3      1  0.448879\n",
       "   6 │     3      1  0.934941\n",
       "   7 │     4      2  0.451822\n",
       "   8 │     4      2  0.512361"
      ]
     },
     "execution_count": 7,
     "metadata": {},
     "output_type": "execute_result"
    }
   ],
   "source": [
    "vcat(gx2...) # back to the DataFrame, but in a different order of rows than the original"
   ]
  },
  {
   "cell_type": "code",
   "execution_count": 8,
   "metadata": {},
   "outputs": [
    {
     "data": {
      "text/html": [
       "<table class=\"data-frame\"><thead><tr><th></th><th>id</th><th>id2</th><th>v</th></tr><tr><th></th><th>Int64</th><th>Int64</th><th>Float64</th></tr></thead><tbody><p>8 rows × 3 columns</p><tr><th>1</th><td>1</td><td>1</td><td>0.413963</td></tr><tr><th>2</th><td>1</td><td>1</td><td>0.850196</td></tr><tr><th>3</th><td>2</td><td>2</td><td>0.222133</td></tr><tr><th>4</th><td>2</td><td>2</td><td>0.187787</td></tr><tr><th>5</th><td>3</td><td>1</td><td>0.448879</td></tr><tr><th>6</th><td>3</td><td>1</td><td>0.934941</td></tr><tr><th>7</th><td>4</td><td>2</td><td>0.451822</td></tr><tr><th>8</th><td>4</td><td>2</td><td>0.512361</td></tr></tbody></table>"
      ],
      "text/latex": [
       "\\begin{tabular}{r|ccc}\n",
       "\t& id & id2 & v\\\\\n",
       "\t\\hline\n",
       "\t& Int64 & Int64 & Float64\\\\\n",
       "\t\\hline\n",
       "\t1 & 1 & 1 & 0.413963 \\\\\n",
       "\t2 & 1 & 1 & 0.850196 \\\\\n",
       "\t3 & 2 & 2 & 0.222133 \\\\\n",
       "\t4 & 2 & 2 & 0.187787 \\\\\n",
       "\t5 & 3 & 1 & 0.448879 \\\\\n",
       "\t6 & 3 & 1 & 0.934941 \\\\\n",
       "\t7 & 4 & 2 & 0.451822 \\\\\n",
       "\t8 & 4 & 2 & 0.512361 \\\\\n",
       "\\end{tabular}\n"
      ],
      "text/plain": [
       "\u001b[1m8×3 DataFrame\u001b[0m\n",
       "\u001b[1m Row \u001b[0m│\u001b[1m id    \u001b[0m\u001b[1m id2   \u001b[0m\u001b[1m v        \u001b[0m\n",
       "\u001b[1m     \u001b[0m│\u001b[90m Int64 \u001b[0m\u001b[90m Int64 \u001b[0m\u001b[90m Float64  \u001b[0m\n",
       "─────┼────────────────────────\n",
       "   1 │     1      1  0.413963\n",
       "   2 │     1      1  0.850196\n",
       "   3 │     2      2  0.222133\n",
       "   4 │     2      2  0.187787\n",
       "   5 │     3      1  0.448879\n",
       "   6 │     3      1  0.934941\n",
       "   7 │     4      2  0.451822\n",
       "   8 │     4      2  0.512361"
      ]
     },
     "execution_count": 8,
     "metadata": {},
     "output_type": "execute_result"
    }
   ],
   "source": [
    "DataFrame(gx2) # the same"
   ]
  },
  {
   "cell_type": "code",
   "execution_count": 9,
   "metadata": {},
   "outputs": [
    {
     "data": {
      "text/html": [
       "<table class=\"data-frame\"><thead><tr><th></th><th>v</th></tr><tr><th></th><th>Float64</th></tr></thead><tbody><p>8 rows × 1 columns</p><tr><th>1</th><td>0.413963</td></tr><tr><th>2</th><td>0.850196</td></tr><tr><th>3</th><td>0.222133</td></tr><tr><th>4</th><td>0.187787</td></tr><tr><th>5</th><td>0.448879</td></tr><tr><th>6</th><td>0.934941</td></tr><tr><th>7</th><td>0.451822</td></tr><tr><th>8</th><td>0.512361</td></tr></tbody></table>"
      ],
      "text/latex": [
       "\\begin{tabular}{r|c}\n",
       "\t& v\\\\\n",
       "\t\\hline\n",
       "\t& Float64\\\\\n",
       "\t\\hline\n",
       "\t1 & 0.413963 \\\\\n",
       "\t2 & 0.850196 \\\\\n",
       "\t3 & 0.222133 \\\\\n",
       "\t4 & 0.187787 \\\\\n",
       "\t5 & 0.448879 \\\\\n",
       "\t6 & 0.934941 \\\\\n",
       "\t7 & 0.451822 \\\\\n",
       "\t8 & 0.512361 \\\\\n",
       "\\end{tabular}\n"
      ],
      "text/plain": [
       "\u001b[1m8×1 DataFrame\u001b[0m\n",
       "\u001b[1m Row \u001b[0m│\u001b[1m v        \u001b[0m\n",
       "\u001b[1m     \u001b[0m│\u001b[90m Float64  \u001b[0m\n",
       "─────┼──────────\n",
       "   1 │ 0.413963\n",
       "   2 │ 0.850196\n",
       "   3 │ 0.222133\n",
       "   4 │ 0.187787\n",
       "   5 │ 0.448879\n",
       "   6 │ 0.934941\n",
       "   7 │ 0.451822\n",
       "   8 │ 0.512361"
      ]
     },
     "execution_count": 9,
     "metadata": {},
     "output_type": "execute_result"
    }
   ],
   "source": [
    "DataFrame(gx2, keepkeys=false) # drop grouping columns when creating a data frame"
   ]
  },
  {
   "cell_type": "code",
   "execution_count": 10,
   "metadata": {},
   "outputs": [
    {
     "data": {
      "text/plain": [
       "2-element Vector{Symbol}:\n",
       " :id\n",
       " :id2"
      ]
     },
     "execution_count": 10,
     "metadata": {},
     "output_type": "execute_result"
    }
   ],
   "source": [
    "groupcols(gx2) # vector of names of grouping variables"
   ]
  },
  {
   "cell_type": "code",
   "execution_count": 11,
   "metadata": {},
   "outputs": [
    {
     "data": {
      "text/plain": [
       "1-element Vector{Symbol}:\n",
       " :v"
      ]
     },
     "execution_count": 11,
     "metadata": {},
     "output_type": "execute_result"
    }
   ],
   "source": [
    "valuecols(gx2) # and non-grouping variables"
   ]
  },
  {
   "cell_type": "code",
   "execution_count": 12,
   "metadata": {},
   "outputs": [
    {
     "data": {
      "text/plain": [
       "8-element Vector{Union{Missing, Int64}}:\n",
       " 1\n",
       " 2\n",
       " 3\n",
       " 4\n",
       " 1\n",
       " 2\n",
       " 3\n",
       " 4"
      ]
     },
     "execution_count": 12,
     "metadata": {},
     "output_type": "execute_result"
    }
   ],
   "source": [
    "groupindices(gx2) # group indices in parent(gx2)"
   ]
  },
  {
   "cell_type": "code",
   "execution_count": 13,
   "metadata": {},
   "outputs": [
    {
     "data": {
      "text/plain": [
       "4-element DataFrames.GroupKeys{GroupedDataFrame{DataFrame}}:\n",
       " GroupKey: (id = 1, id2 = 1)\n",
       " GroupKey: (id = 2, id2 = 2)\n",
       " GroupKey: (id = 3, id2 = 1)\n",
       " GroupKey: (id = 4, id2 = 2)"
      ]
     },
     "execution_count": 13,
     "metadata": {},
     "output_type": "execute_result"
    }
   ],
   "source": [
    "kgx2 = keys(gx2)"
   ]
  },
  {
   "cell_type": "markdown",
   "metadata": {},
   "source": [
    "You can index into a `GroupedDataFrame` like to a vector or to a dictionary.\n",
    "The second form acceps `GroupKey`, `NamedTuple` or a `Tuple`"
   ]
  },
  {
   "cell_type": "code",
   "execution_count": 14,
   "metadata": {},
   "outputs": [
    {
     "data": {
      "text/html": [
       "<p><b>GroupedDataFrame with 4 groups based on keys: id, id2</b></p><p><i>First Group (2 rows): id = 1, id2 = 1</i></p><table class=\"data-frame\"><thead><tr><th></th><th>id</th><th>id2</th><th>v</th></tr><tr><th></th><th>Int64</th><th>Int64</th><th>Float64</th></tr></thead><tbody><tr><th>1</th><td>1</td><td>1</td><td>0.413963</td></tr><tr><th>2</th><td>1</td><td>1</td><td>0.850196</td></tr></tbody></table><p>&vellip;</p><p><i>Last Group (2 rows): id = 4, id2 = 2</i></p><table class=\"data-frame\"><thead><tr><th></th><th>id</th><th>id2</th><th>v</th></tr><tr><th></th><th>Int64</th><th>Int64</th><th>Float64</th></tr></thead><tbody><tr><th>1</th><td>4</td><td>2</td><td>0.451822</td></tr><tr><th>2</th><td>4</td><td>2</td><td>0.512361</td></tr></tbody></table>"
      ],
      "text/latex": [
       "GroupedDataFrame with 4 groups based on keys: id, id2\n",
       "\n",
       "First Group (2 rows): id = 1, id2 = 1\n",
       "\n",
       "\\begin{tabular}{r|ccc}\n",
       "\t& id & id2 & v\\\\\n",
       "\t\\hline\n",
       "\t& Int64 & Int64 & Float64\\\\\n",
       "\t\\hline\n",
       "\t1 & 1 & 1 & 0.413963 \\\\\n",
       "\t2 & 1 & 1 & 0.850196 \\\\\n",
       "\\end{tabular}\n",
       "\n",
       "$\\dots$\n",
       "\n",
       "Last Group (2 rows): id = 4, id2 = 2\n",
       "\n",
       "\\begin{tabular}{r|ccc}\n",
       "\t& id & id2 & v\\\\\n",
       "\t\\hline\n",
       "\t& Int64 & Int64 & Float64\\\\\n",
       "\t\\hline\n",
       "\t1 & 4 & 2 & 0.451822 \\\\\n",
       "\t2 & 4 & 2 & 0.512361 \\\\\n",
       "\\end{tabular}\n"
      ],
      "text/plain": [
       "GroupedDataFrame with 4 groups based on keys: id, id2\n",
       "First Group (2 rows): id = 1, id2 = 1\n",
       "\u001b[1m Row \u001b[0m│\u001b[1m id    \u001b[0m\u001b[1m id2   \u001b[0m\u001b[1m v        \u001b[0m\n",
       "\u001b[1m     \u001b[0m│\u001b[90m Int64 \u001b[0m\u001b[90m Int64 \u001b[0m\u001b[90m Float64  \u001b[0m\n",
       "─────┼────────────────────────\n",
       "   1 │     1      1  0.413963\n",
       "   2 │     1      1  0.850196\n",
       "⋮\n",
       "Last Group (2 rows): id = 4, id2 = 2\n",
       "\u001b[1m Row \u001b[0m│\u001b[1m id    \u001b[0m\u001b[1m id2   \u001b[0m\u001b[1m v        \u001b[0m\n",
       "\u001b[1m     \u001b[0m│\u001b[90m Int64 \u001b[0m\u001b[90m Int64 \u001b[0m\u001b[90m Float64  \u001b[0m\n",
       "─────┼────────────────────────\n",
       "   1 │     4      2  0.451822\n",
       "   2 │     4      2  0.512361"
      ]
     },
     "execution_count": 14,
     "metadata": {},
     "output_type": "execute_result"
    }
   ],
   "source": [
    "gx2"
   ]
  },
  {
   "cell_type": "code",
   "execution_count": 15,
   "metadata": {},
   "outputs": [
    {
     "data": {
      "text/plain": [
       "GroupKey: (id = 1, id2 = 1)"
      ]
     },
     "execution_count": 15,
     "metadata": {},
     "output_type": "execute_result"
    }
   ],
   "source": [
    "k = keys(gx2)[1]"
   ]
  },
  {
   "cell_type": "code",
   "execution_count": 16,
   "metadata": {},
   "outputs": [
    {
     "data": {
      "text/plain": [
       "(id = 1, id2 = 1)"
      ]
     },
     "execution_count": 16,
     "metadata": {},
     "output_type": "execute_result"
    }
   ],
   "source": [
    "ntk = NamedTuple(k)"
   ]
  },
  {
   "cell_type": "code",
   "execution_count": 17,
   "metadata": {},
   "outputs": [
    {
     "data": {
      "text/plain": [
       "(1, 1)"
      ]
     },
     "execution_count": 17,
     "metadata": {},
     "output_type": "execute_result"
    }
   ],
   "source": [
    "tk = Tuple(k)"
   ]
  },
  {
   "cell_type": "markdown",
   "metadata": {},
   "source": [
    "the operations below produce the same result and are fast"
   ]
  },
  {
   "cell_type": "code",
   "execution_count": 18,
   "metadata": {},
   "outputs": [
    {
     "data": {
      "text/html": [
       "<table class=\"data-frame\"><thead><tr><th></th><th>id</th><th>id2</th><th>v</th></tr><tr><th></th><th>Int64</th><th>Int64</th><th>Float64</th></tr></thead><tbody><p>2 rows × 3 columns</p><tr><th>1</th><td>1</td><td>1</td><td>0.413963</td></tr><tr><th>2</th><td>1</td><td>1</td><td>0.850196</td></tr></tbody></table>"
      ],
      "text/latex": [
       "\\begin{tabular}{r|ccc}\n",
       "\t& id & id2 & v\\\\\n",
       "\t\\hline\n",
       "\t& Int64 & Int64 & Float64\\\\\n",
       "\t\\hline\n",
       "\t1 & 1 & 1 & 0.413963 \\\\\n",
       "\t2 & 1 & 1 & 0.850196 \\\\\n",
       "\\end{tabular}\n"
      ],
      "text/plain": [
       "\u001b[1m2×3 SubDataFrame\u001b[0m\n",
       "\u001b[1m Row \u001b[0m│\u001b[1m id    \u001b[0m\u001b[1m id2   \u001b[0m\u001b[1m v        \u001b[0m\n",
       "\u001b[1m     \u001b[0m│\u001b[90m Int64 \u001b[0m\u001b[90m Int64 \u001b[0m\u001b[90m Float64  \u001b[0m\n",
       "─────┼────────────────────────\n",
       "   1 │     1      1  0.413963\n",
       "   2 │     1      1  0.850196"
      ]
     },
     "execution_count": 18,
     "metadata": {},
     "output_type": "execute_result"
    }
   ],
   "source": [
    "gx2[1]"
   ]
  },
  {
   "cell_type": "code",
   "execution_count": 19,
   "metadata": {},
   "outputs": [
    {
     "data": {
      "text/html": [
       "<table class=\"data-frame\"><thead><tr><th></th><th>id</th><th>id2</th><th>v</th></tr><tr><th></th><th>Int64</th><th>Int64</th><th>Float64</th></tr></thead><tbody><p>2 rows × 3 columns</p><tr><th>1</th><td>1</td><td>1</td><td>0.413963</td></tr><tr><th>2</th><td>1</td><td>1</td><td>0.850196</td></tr></tbody></table>"
      ],
      "text/latex": [
       "\\begin{tabular}{r|ccc}\n",
       "\t& id & id2 & v\\\\\n",
       "\t\\hline\n",
       "\t& Int64 & Int64 & Float64\\\\\n",
       "\t\\hline\n",
       "\t1 & 1 & 1 & 0.413963 \\\\\n",
       "\t2 & 1 & 1 & 0.850196 \\\\\n",
       "\\end{tabular}\n"
      ],
      "text/plain": [
       "\u001b[1m2×3 SubDataFrame\u001b[0m\n",
       "\u001b[1m Row \u001b[0m│\u001b[1m id    \u001b[0m\u001b[1m id2   \u001b[0m\u001b[1m v        \u001b[0m\n",
       "\u001b[1m     \u001b[0m│\u001b[90m Int64 \u001b[0m\u001b[90m Int64 \u001b[0m\u001b[90m Float64  \u001b[0m\n",
       "─────┼────────────────────────\n",
       "   1 │     1      1  0.413963\n",
       "   2 │     1      1  0.850196"
      ]
     },
     "execution_count": 19,
     "metadata": {},
     "output_type": "execute_result"
    }
   ],
   "source": [
    "gx2[k]"
   ]
  },
  {
   "cell_type": "code",
   "execution_count": 20,
   "metadata": {},
   "outputs": [
    {
     "data": {
      "text/html": [
       "<table class=\"data-frame\"><thead><tr><th></th><th>id</th><th>id2</th><th>v</th></tr><tr><th></th><th>Int64</th><th>Int64</th><th>Float64</th></tr></thead><tbody><p>2 rows × 3 columns</p><tr><th>1</th><td>1</td><td>1</td><td>0.413963</td></tr><tr><th>2</th><td>1</td><td>1</td><td>0.850196</td></tr></tbody></table>"
      ],
      "text/latex": [
       "\\begin{tabular}{r|ccc}\n",
       "\t& id & id2 & v\\\\\n",
       "\t\\hline\n",
       "\t& Int64 & Int64 & Float64\\\\\n",
       "\t\\hline\n",
       "\t1 & 1 & 1 & 0.413963 \\\\\n",
       "\t2 & 1 & 1 & 0.850196 \\\\\n",
       "\\end{tabular}\n"
      ],
      "text/plain": [
       "\u001b[1m2×3 SubDataFrame\u001b[0m\n",
       "\u001b[1m Row \u001b[0m│\u001b[1m id    \u001b[0m\u001b[1m id2   \u001b[0m\u001b[1m v        \u001b[0m\n",
       "\u001b[1m     \u001b[0m│\u001b[90m Int64 \u001b[0m\u001b[90m Int64 \u001b[0m\u001b[90m Float64  \u001b[0m\n",
       "─────┼────────────────────────\n",
       "   1 │     1      1  0.413963\n",
       "   2 │     1      1  0.850196"
      ]
     },
     "execution_count": 20,
     "metadata": {},
     "output_type": "execute_result"
    }
   ],
   "source": [
    "gx2[ntk]"
   ]
  },
  {
   "cell_type": "code",
   "execution_count": 21,
   "metadata": {},
   "outputs": [
    {
     "data": {
      "text/html": [
       "<table class=\"data-frame\"><thead><tr><th></th><th>id</th><th>id2</th><th>v</th></tr><tr><th></th><th>Int64</th><th>Int64</th><th>Float64</th></tr></thead><tbody><p>2 rows × 3 columns</p><tr><th>1</th><td>1</td><td>1</td><td>0.413963</td></tr><tr><th>2</th><td>1</td><td>1</td><td>0.850196</td></tr></tbody></table>"
      ],
      "text/latex": [
       "\\begin{tabular}{r|ccc}\n",
       "\t& id & id2 & v\\\\\n",
       "\t\\hline\n",
       "\t& Int64 & Int64 & Float64\\\\\n",
       "\t\\hline\n",
       "\t1 & 1 & 1 & 0.413963 \\\\\n",
       "\t2 & 1 & 1 & 0.850196 \\\\\n",
       "\\end{tabular}\n"
      ],
      "text/plain": [
       "\u001b[1m2×3 SubDataFrame\u001b[0m\n",
       "\u001b[1m Row \u001b[0m│\u001b[1m id    \u001b[0m\u001b[1m id2   \u001b[0m\u001b[1m v        \u001b[0m\n",
       "\u001b[1m     \u001b[0m│\u001b[90m Int64 \u001b[0m\u001b[90m Int64 \u001b[0m\u001b[90m Float64  \u001b[0m\n",
       "─────┼────────────────────────\n",
       "   1 │     1      1  0.413963\n",
       "   2 │     1      1  0.850196"
      ]
     },
     "execution_count": 21,
     "metadata": {},
     "output_type": "execute_result"
    }
   ],
   "source": [
    "gx2[tk]"
   ]
  },
  {
   "cell_type": "markdown",
   "metadata": {},
   "source": [
    "handling missing values"
   ]
  },
  {
   "cell_type": "code",
   "execution_count": 22,
   "metadata": {},
   "outputs": [
    {
     "data": {
      "text/html": [
       "<table class=\"data-frame\"><thead><tr><th></th><th>id</th><th>x</th></tr><tr><th></th><th>Int64?</th><th>Int64</th></tr></thead><tbody><p>5 rows × 2 columns</p><tr><th>1</th><td><em>missing</em></td><td>1</td></tr><tr><th>2</th><td>5</td><td>2</td></tr><tr><th>3</th><td>1</td><td>3</td></tr><tr><th>4</th><td>3</td><td>4</td></tr><tr><th>5</th><td><em>missing</em></td><td>5</td></tr></tbody></table>"
      ],
      "text/latex": [
       "\\begin{tabular}{r|cc}\n",
       "\t& id & x\\\\\n",
       "\t\\hline\n",
       "\t& Int64? & Int64\\\\\n",
       "\t\\hline\n",
       "\t1 & \\emph{missing} & 1 \\\\\n",
       "\t2 & 5 & 2 \\\\\n",
       "\t3 & 1 & 3 \\\\\n",
       "\t4 & 3 & 4 \\\\\n",
       "\t5 & \\emph{missing} & 5 \\\\\n",
       "\\end{tabular}\n"
      ],
      "text/plain": [
       "\u001b[1m5×2 DataFrame\u001b[0m\n",
       "\u001b[1m Row \u001b[0m│\u001b[1m id      \u001b[0m\u001b[1m x     \u001b[0m\n",
       "\u001b[1m     \u001b[0m│\u001b[90m Int64?  \u001b[0m\u001b[90m Int64 \u001b[0m\n",
       "─────┼────────────────\n",
       "   1 │\u001b[90m missing \u001b[0m     1\n",
       "   2 │       5      2\n",
       "   3 │       1      3\n",
       "   4 │       3      4\n",
       "   5 │\u001b[90m missing \u001b[0m     5"
      ]
     },
     "execution_count": 22,
     "metadata": {},
     "output_type": "execute_result"
    }
   ],
   "source": [
    "x = DataFrame(id = [missing, 5, 1, 3, missing], x = 1:5)"
   ]
  },
  {
   "cell_type": "code",
   "execution_count": 23,
   "metadata": {},
   "outputs": [
    {
     "data": {
      "text/html": [
       "<p><b>GroupedDataFrame with 4 groups based on key: id</b></p><p><i>First Group (1 row): id = 1</i></p><table class=\"data-frame\"><thead><tr><th></th><th>id</th><th>x</th></tr><tr><th></th><th>Int64?</th><th>Int64</th></tr></thead><tbody><tr><th>1</th><td>1</td><td>3</td></tr></tbody></table><p>&vellip;</p><p><i>Last Group (2 rows): id = missing</i></p><table class=\"data-frame\"><thead><tr><th></th><th>id</th><th>x</th></tr><tr><th></th><th>Int64?</th><th>Int64</th></tr></thead><tbody><tr><th>1</th><td><em>missing</em></td><td>1</td></tr><tr><th>2</th><td><em>missing</em></td><td>5</td></tr></tbody></table>"
      ],
      "text/latex": [
       "GroupedDataFrame with 4 groups based on key: id\n",
       "\n",
       "First Group (1 row): id = 1\n",
       "\n",
       "\\begin{tabular}{r|cc}\n",
       "\t& id & x\\\\\n",
       "\t\\hline\n",
       "\t& Int64? & Int64\\\\\n",
       "\t\\hline\n",
       "\t1 & 1 & 3 \\\\\n",
       "\\end{tabular}\n",
       "\n",
       "$\\dots$\n",
       "\n",
       "Last Group (2 rows): id = missing\n",
       "\n",
       "\\begin{tabular}{r|cc}\n",
       "\t& id & x\\\\\n",
       "\t\\hline\n",
       "\t& Int64? & Int64\\\\\n",
       "\t\\hline\n",
       "\t1 & \\emph{missing} & 1 \\\\\n",
       "\t2 & \\emph{missing} & 5 \\\\\n",
       "\\end{tabular}\n"
      ],
      "text/plain": [
       "GroupedDataFrame with 4 groups based on key: id\n",
       "First Group (1 row): id = 1\n",
       "\u001b[1m Row \u001b[0m│\u001b[1m id     \u001b[0m\u001b[1m x     \u001b[0m\n",
       "\u001b[1m     \u001b[0m│\u001b[90m Int64? \u001b[0m\u001b[90m Int64 \u001b[0m\n",
       "─────┼───────────────\n",
       "   1 │      1      3\n",
       "⋮\n",
       "Last Group (2 rows): id = missing\n",
       "\u001b[1m Row \u001b[0m│\u001b[1m id      \u001b[0m\u001b[1m x     \u001b[0m\n",
       "\u001b[1m     \u001b[0m│\u001b[90m Int64?  \u001b[0m\u001b[90m Int64 \u001b[0m\n",
       "─────┼────────────────\n",
       "   1 │\u001b[90m missing \u001b[0m     1\n",
       "   2 │\u001b[90m missing \u001b[0m     5"
      ]
     },
     "execution_count": 23,
     "metadata": {},
     "output_type": "execute_result"
    }
   ],
   "source": [
    "groupby(x, :id) # by default groups include mising values and are not sorted"
   ]
  },
  {
   "cell_type": "code",
   "execution_count": 24,
   "metadata": {},
   "outputs": [
    {
     "data": {
      "text/html": [
       "<p><b>GroupedDataFrame with 3 groups based on key: id</b></p><p><i>First Group (1 row): id = 1</i></p><table class=\"data-frame\"><thead><tr><th></th><th>id</th><th>x</th></tr><tr><th></th><th>Int64?</th><th>Int64</th></tr></thead><tbody><tr><th>1</th><td>1</td><td>3</td></tr></tbody></table><p>&vellip;</p><p><i>Last Group (1 row): id = 5</i></p><table class=\"data-frame\"><thead><tr><th></th><th>id</th><th>x</th></tr><tr><th></th><th>Int64?</th><th>Int64</th></tr></thead><tbody><tr><th>1</th><td>5</td><td>2</td></tr></tbody></table>"
      ],
      "text/latex": [
       "GroupedDataFrame with 3 groups based on key: id\n",
       "\n",
       "First Group (1 row): id = 1\n",
       "\n",
       "\\begin{tabular}{r|cc}\n",
       "\t& id & x\\\\\n",
       "\t\\hline\n",
       "\t& Int64? & Int64\\\\\n",
       "\t\\hline\n",
       "\t1 & 1 & 3 \\\\\n",
       "\\end{tabular}\n",
       "\n",
       "$\\dots$\n",
       "\n",
       "Last Group (1 row): id = 5\n",
       "\n",
       "\\begin{tabular}{r|cc}\n",
       "\t& id & x\\\\\n",
       "\t\\hline\n",
       "\t& Int64? & Int64\\\\\n",
       "\t\\hline\n",
       "\t1 & 5 & 2 \\\\\n",
       "\\end{tabular}\n"
      ],
      "text/plain": [
       "GroupedDataFrame with 3 groups based on key: id\n",
       "First Group (1 row): id = 1\n",
       "\u001b[1m Row \u001b[0m│\u001b[1m id     \u001b[0m\u001b[1m x     \u001b[0m\n",
       "\u001b[1m     \u001b[0m│\u001b[90m Int64? \u001b[0m\u001b[90m Int64 \u001b[0m\n",
       "─────┼───────────────\n",
       "   1 │      1      3\n",
       "⋮\n",
       "Last Group (1 row): id = 5\n",
       "\u001b[1m Row \u001b[0m│\u001b[1m id     \u001b[0m\u001b[1m x     \u001b[0m\n",
       "\u001b[1m     \u001b[0m│\u001b[90m Int64? \u001b[0m\u001b[90m Int64 \u001b[0m\n",
       "─────┼───────────────\n",
       "   1 │      5      2"
      ]
     },
     "execution_count": 24,
     "metadata": {},
     "output_type": "execute_result"
    }
   ],
   "source": [
    "groupby(x, :id, sort=true, skipmissing=true) # but we can change it"
   ]
  },
  {
   "cell_type": "markdown",
   "metadata": {},
   "source": [
    "### Performing transformations by group using `combine`, `select`, `select!`, `transform`, and `transform!`"
   ]
  },
  {
   "cell_type": "code",
   "execution_count": 25,
   "metadata": {},
   "outputs": [],
   "source": [
    "using Statistics\n",
    "using Pipe"
   ]
  },
  {
   "cell_type": "code",
   "execution_count": 26,
   "metadata": {},
   "outputs": [
    {
     "data": {
      "text/plain": [
       "15"
      ]
     },
     "execution_count": 26,
     "metadata": {},
     "output_type": "execute_result"
    }
   ],
   "source": [
    "ENV[\"LINES\"] = 15 # reduce the number of rows in the output"
   ]
  },
  {
   "cell_type": "code",
   "execution_count": 27,
   "metadata": {},
   "outputs": [
    {
     "data": {
      "text/html": [
       "<table class=\"data-frame\"><thead><tr><th></th><th>id</th><th>v</th></tr><tr><th></th><th>Char</th><th>Float64</th></tr></thead><tbody><p>100 rows × 2 columns</p><tr><th>1</th><td>d</td><td>0.830276</td></tr><tr><th>2</th><td>a</td><td>0.0751451</td></tr><tr><th>3</th><td>c</td><td>0.495729</td></tr><tr><th>4</th><td>b</td><td>0.311539</td></tr><tr><th>5</th><td>d</td><td>0.800109</td></tr><tr><th>6</th><td>b</td><td>0.295747</td></tr><tr><th>7</th><td>b</td><td>0.277973</td></tr><tr><th>8</th><td>b</td><td>0.0517359</td></tr><tr><th>9</th><td>d</td><td>0.877831</td></tr><tr><th>10</th><td>c</td><td>0.291347</td></tr><tr><th>11</th><td>b</td><td>0.950299</td></tr><tr><th>12</th><td>b</td><td>0.397151</td></tr><tr><th>13</th><td>d</td><td>0.0213362</td></tr><tr><th>14</th><td>c</td><td>0.952338</td></tr><tr><th>15</th><td>b</td><td>0.985403</td></tr><tr><th>&vellip;</th><td>&vellip;</td><td>&vellip;</td></tr></tbody></table>"
      ],
      "text/latex": [
       "\\begin{tabular}{r|cc}\n",
       "\t& id & v\\\\\n",
       "\t\\hline\n",
       "\t& Char & Float64\\\\\n",
       "\t\\hline\n",
       "\t1 & d & 0.830276 \\\\\n",
       "\t2 & a & 0.0751451 \\\\\n",
       "\t3 & c & 0.495729 \\\\\n",
       "\t4 & b & 0.311539 \\\\\n",
       "\t5 & d & 0.800109 \\\\\n",
       "\t6 & b & 0.295747 \\\\\n",
       "\t7 & b & 0.277973 \\\\\n",
       "\t8 & b & 0.0517359 \\\\\n",
       "\t9 & d & 0.877831 \\\\\n",
       "\t10 & c & 0.291347 \\\\\n",
       "\t11 & b & 0.950299 \\\\\n",
       "\t12 & b & 0.397151 \\\\\n",
       "\t13 & d & 0.0213362 \\\\\n",
       "\t14 & c & 0.952338 \\\\\n",
       "\t15 & b & 0.985403 \\\\\n",
       "\t$\\dots$ & $\\dots$ & $\\dots$ \\\\\n",
       "\\end{tabular}\n"
      ],
      "text/plain": [
       "\u001b[1m100×2 DataFrame\u001b[0m\n",
       "\u001b[1m Row \u001b[0m│\u001b[1m id   \u001b[0m\u001b[1m v         \u001b[0m\n",
       "\u001b[1m     \u001b[0m│\u001b[90m Char \u001b[0m\u001b[90m Float64   \u001b[0m\n",
       "─────┼─────────────────\n",
       "   1 │ d     0.830276\n",
       "   2 │ a     0.0751451\n",
       "   3 │ c     0.495729\n",
       "  ⋮  │  ⋮        ⋮\n",
       "  98 │ a     0.465002\n",
       "  99 │ c     0.418956\n",
       " 100 │ a     0.0853811\n",
       "\u001b[36m        94 rows omitted\u001b[0m"
      ]
     },
     "execution_count": 27,
     "metadata": {},
     "output_type": "execute_result"
    }
   ],
   "source": [
    "x = DataFrame(id=rand('a':'d', 100), v=rand(100))"
   ]
  },
  {
   "cell_type": "code",
   "execution_count": 28,
   "metadata": {},
   "outputs": [
    {
     "data": {
      "text/html": [
       "<table class=\"data-frame\"><thead><tr><th></th><th>id</th><th>v_mean</th></tr><tr><th></th><th>Char</th><th>Float64</th></tr></thead><tbody><p>4 rows × 2 columns</p><tr><th>1</th><td>d</td><td>0.480157</td></tr><tr><th>2</th><td>a</td><td>0.457628</td></tr><tr><th>3</th><td>c</td><td>0.475433</td></tr><tr><th>4</th><td>b</td><td>0.469266</td></tr></tbody></table>"
      ],
      "text/latex": [
       "\\begin{tabular}{r|cc}\n",
       "\t& id & v\\_mean\\\\\n",
       "\t\\hline\n",
       "\t& Char & Float64\\\\\n",
       "\t\\hline\n",
       "\t1 & d & 0.480157 \\\\\n",
       "\t2 & a & 0.457628 \\\\\n",
       "\t3 & c & 0.475433 \\\\\n",
       "\t4 & b & 0.469266 \\\\\n",
       "\\end{tabular}\n"
      ],
      "text/plain": [
       "\u001b[1m4×2 DataFrame\u001b[0m\n",
       "\u001b[1m Row \u001b[0m│\u001b[1m id   \u001b[0m\u001b[1m v_mean   \u001b[0m\n",
       "\u001b[1m     \u001b[0m│\u001b[90m Char \u001b[0m\u001b[90m Float64  \u001b[0m\n",
       "─────┼────────────────\n",
       "   1 │ d     0.480157\n",
       "   2 │ a     0.457628\n",
       "   3 │ c     0.475433\n",
       "   4 │ b     0.469266"
      ]
     },
     "execution_count": 28,
     "metadata": {},
     "output_type": "execute_result"
    }
   ],
   "source": [
    "# apply a function to each group of a data frame\n",
    "# combine keeps as many rows as are returned from the function\n",
    "@pipe x |> groupby(_, :id) |> combine(_, :v=>mean)"
   ]
  },
  {
   "cell_type": "code",
   "execution_count": 29,
   "metadata": {},
   "outputs": [
    {
     "data": {
      "text/plain": [
       "Base.OneTo(100)"
      ]
     },
     "execution_count": 29,
     "metadata": {},
     "output_type": "execute_result"
    }
   ],
   "source": [
    "x.id2 = axes(x, 1)"
   ]
  },
  {
   "cell_type": "code",
   "execution_count": 30,
   "metadata": {},
   "outputs": [
    {
     "data": {
      "text/html": [
       "<table class=\"data-frame\"><thead><tr><th></th><th>id</th><th>v</th><th>id2</th><th>v_mean</th></tr><tr><th></th><th>Char</th><th>Float64</th><th>Int64</th><th>Float64</th></tr></thead><tbody><p>100 rows × 4 columns</p><tr><th>1</th><td>d</td><td>0.830276</td><td>1</td><td>0.480157</td></tr><tr><th>2</th><td>a</td><td>0.0751451</td><td>2</td><td>0.457628</td></tr><tr><th>3</th><td>c</td><td>0.495729</td><td>3</td><td>0.475433</td></tr><tr><th>4</th><td>b</td><td>0.311539</td><td>4</td><td>0.469266</td></tr><tr><th>5</th><td>d</td><td>0.800109</td><td>5</td><td>0.480157</td></tr><tr><th>6</th><td>b</td><td>0.295747</td><td>6</td><td>0.469266</td></tr><tr><th>7</th><td>b</td><td>0.277973</td><td>7</td><td>0.469266</td></tr><tr><th>8</th><td>b</td><td>0.0517359</td><td>8</td><td>0.469266</td></tr><tr><th>9</th><td>d</td><td>0.877831</td><td>9</td><td>0.480157</td></tr><tr><th>10</th><td>c</td><td>0.291347</td><td>10</td><td>0.475433</td></tr><tr><th>11</th><td>b</td><td>0.950299</td><td>11</td><td>0.469266</td></tr><tr><th>12</th><td>b</td><td>0.397151</td><td>12</td><td>0.469266</td></tr><tr><th>13</th><td>d</td><td>0.0213362</td><td>13</td><td>0.480157</td></tr><tr><th>14</th><td>c</td><td>0.952338</td><td>14</td><td>0.475433</td></tr><tr><th>15</th><td>b</td><td>0.985403</td><td>15</td><td>0.469266</td></tr><tr><th>&vellip;</th><td>&vellip;</td><td>&vellip;</td><td>&vellip;</td><td>&vellip;</td></tr></tbody></table>"
      ],
      "text/latex": [
       "\\begin{tabular}{r|cccc}\n",
       "\t& id & v & id2 & v\\_mean\\\\\n",
       "\t\\hline\n",
       "\t& Char & Float64 & Int64 & Float64\\\\\n",
       "\t\\hline\n",
       "\t1 & d & 0.830276 & 1 & 0.480157 \\\\\n",
       "\t2 & a & 0.0751451 & 2 & 0.457628 \\\\\n",
       "\t3 & c & 0.495729 & 3 & 0.475433 \\\\\n",
       "\t4 & b & 0.311539 & 4 & 0.469266 \\\\\n",
       "\t5 & d & 0.800109 & 5 & 0.480157 \\\\\n",
       "\t6 & b & 0.295747 & 6 & 0.469266 \\\\\n",
       "\t7 & b & 0.277973 & 7 & 0.469266 \\\\\n",
       "\t8 & b & 0.0517359 & 8 & 0.469266 \\\\\n",
       "\t9 & d & 0.877831 & 9 & 0.480157 \\\\\n",
       "\t10 & c & 0.291347 & 10 & 0.475433 \\\\\n",
       "\t11 & b & 0.950299 & 11 & 0.469266 \\\\\n",
       "\t12 & b & 0.397151 & 12 & 0.469266 \\\\\n",
       "\t13 & d & 0.0213362 & 13 & 0.480157 \\\\\n",
       "\t14 & c & 0.952338 & 14 & 0.475433 \\\\\n",
       "\t15 & b & 0.985403 & 15 & 0.469266 \\\\\n",
       "\t$\\dots$ & $\\dots$ & $\\dots$ & $\\dots$ & $\\dots$ \\\\\n",
       "\\end{tabular}\n"
      ],
      "text/plain": [
       "\u001b[1m100×4 DataFrame\u001b[0m\n",
       "\u001b[1m Row \u001b[0m│\u001b[1m id   \u001b[0m\u001b[1m v         \u001b[0m\u001b[1m id2   \u001b[0m\u001b[1m v_mean   \u001b[0m\n",
       "\u001b[1m     \u001b[0m│\u001b[90m Char \u001b[0m\u001b[90m Float64   \u001b[0m\u001b[90m Int64 \u001b[0m\u001b[90m Float64  \u001b[0m\n",
       "─────┼──────────────────────────────────\n",
       "   1 │ d     0.830276       1  0.480157\n",
       "   2 │ a     0.0751451      2  0.457628\n",
       "   3 │ c     0.495729       3  0.475433\n",
       "  ⋮  │  ⋮        ⋮        ⋮       ⋮\n",
       "  98 │ a     0.465002      98  0.457628\n",
       "  99 │ c     0.418956      99  0.475433\n",
       " 100 │ a     0.0853811    100  0.457628\n",
       "\u001b[36m                         94 rows omitted\u001b[0m"
      ]
     },
     "execution_count": 30,
     "metadata": {},
     "output_type": "execute_result"
    }
   ],
   "source": [
    "# select and transform keep as many rows as are in the source data frame and in correct order\n",
    "# additionally transform keeps all columns from the source\n",
    "@pipe x |> groupby(_, :id) |> transform(_, :v=>mean)"
   ]
  },
  {
   "cell_type": "code",
   "execution_count": 31,
   "metadata": {},
   "outputs": [
    {
     "data": {
      "text/html": [
       "<table class=\"data-frame\"><thead><tr><th></th><th>id</th><th>id2</th><th>v_mean</th></tr><tr><th></th><th>Char</th><th>Int64</th><th>Float64</th></tr></thead><tbody><p>100 rows × 3 columns</p><tr><th>1</th><td>d</td><td>1</td><td>0.480157</td></tr><tr><th>2</th><td>d</td><td>5</td><td>0.480157</td></tr><tr><th>3</th><td>d</td><td>9</td><td>0.480157</td></tr><tr><th>4</th><td>d</td><td>13</td><td>0.480157</td></tr><tr><th>5</th><td>d</td><td>16</td><td>0.480157</td></tr><tr><th>6</th><td>d</td><td>17</td><td>0.480157</td></tr><tr><th>7</th><td>d</td><td>20</td><td>0.480157</td></tr><tr><th>8</th><td>d</td><td>24</td><td>0.480157</td></tr><tr><th>9</th><td>d</td><td>25</td><td>0.480157</td></tr><tr><th>10</th><td>d</td><td>26</td><td>0.480157</td></tr><tr><th>11</th><td>d</td><td>29</td><td>0.480157</td></tr><tr><th>12</th><td>d</td><td>39</td><td>0.480157</td></tr><tr><th>13</th><td>d</td><td>40</td><td>0.480157</td></tr><tr><th>14</th><td>d</td><td>41</td><td>0.480157</td></tr><tr><th>15</th><td>d</td><td>44</td><td>0.480157</td></tr><tr><th>&vellip;</th><td>&vellip;</td><td>&vellip;</td><td>&vellip;</td></tr></tbody></table>"
      ],
      "text/latex": [
       "\\begin{tabular}{r|ccc}\n",
       "\t& id & id2 & v\\_mean\\\\\n",
       "\t\\hline\n",
       "\t& Char & Int64 & Float64\\\\\n",
       "\t\\hline\n",
       "\t1 & d & 1 & 0.480157 \\\\\n",
       "\t2 & d & 5 & 0.480157 \\\\\n",
       "\t3 & d & 9 & 0.480157 \\\\\n",
       "\t4 & d & 13 & 0.480157 \\\\\n",
       "\t5 & d & 16 & 0.480157 \\\\\n",
       "\t6 & d & 17 & 0.480157 \\\\\n",
       "\t7 & d & 20 & 0.480157 \\\\\n",
       "\t8 & d & 24 & 0.480157 \\\\\n",
       "\t9 & d & 25 & 0.480157 \\\\\n",
       "\t10 & d & 26 & 0.480157 \\\\\n",
       "\t11 & d & 29 & 0.480157 \\\\\n",
       "\t12 & d & 39 & 0.480157 \\\\\n",
       "\t13 & d & 40 & 0.480157 \\\\\n",
       "\t14 & d & 41 & 0.480157 \\\\\n",
       "\t15 & d & 44 & 0.480157 \\\\\n",
       "\t$\\dots$ & $\\dots$ & $\\dots$ & $\\dots$ \\\\\n",
       "\\end{tabular}\n"
      ],
      "text/plain": [
       "\u001b[1m100×3 DataFrame\u001b[0m\n",
       "\u001b[1m Row \u001b[0m│\u001b[1m id   \u001b[0m\u001b[1m id2   \u001b[0m\u001b[1m v_mean   \u001b[0m\n",
       "\u001b[1m     \u001b[0m│\u001b[90m Char \u001b[0m\u001b[90m Int64 \u001b[0m\u001b[90m Float64  \u001b[0m\n",
       "─────┼───────────────────────\n",
       "   1 │ d         1  0.480157\n",
       "   2 │ d         5  0.480157\n",
       "   3 │ d         9  0.480157\n",
       "  ⋮  │  ⋮      ⋮       ⋮\n",
       "  98 │ b        81  0.469266\n",
       "  99 │ b        90  0.469266\n",
       " 100 │ b        95  0.469266\n",
       "\u001b[36m              94 rows omitted\u001b[0m"
      ]
     },
     "execution_count": 31,
     "metadata": {},
     "output_type": "execute_result"
    }
   ],
   "source": [
    "# note that combine reorders rows by group of GroupedDataFrame\n",
    "@pipe x |> groupby(_, :id) |> combine(_, :id2, :v=>mean)"
   ]
  },
  {
   "cell_type": "code",
   "execution_count": 32,
   "metadata": {},
   "outputs": [
    {
     "data": {
      "text/html": [
       "<table class=\"data-frame\"><thead><tr><th></th><th>id</th><th>res</th></tr><tr><th></th><th>Char</th><th>Float64</th></tr></thead><tbody><p>4 rows × 2 columns</p><tr><th>1</th><td>d</td><td>0.480157</td></tr><tr><th>2</th><td>a</td><td>0.457628</td></tr><tr><th>3</th><td>c</td><td>0.475433</td></tr><tr><th>4</th><td>b</td><td>0.469266</td></tr></tbody></table>"
      ],
      "text/latex": [
       "\\begin{tabular}{r|cc}\n",
       "\t& id & res\\\\\n",
       "\t\\hline\n",
       "\t& Char & Float64\\\\\n",
       "\t\\hline\n",
       "\t1 & d & 0.480157 \\\\\n",
       "\t2 & a & 0.457628 \\\\\n",
       "\t3 & c & 0.475433 \\\\\n",
       "\t4 & b & 0.469266 \\\\\n",
       "\\end{tabular}\n"
      ],
      "text/plain": [
       "\u001b[1m4×2 DataFrame\u001b[0m\n",
       "\u001b[1m Row \u001b[0m│\u001b[1m id   \u001b[0m\u001b[1m res      \u001b[0m\n",
       "\u001b[1m     \u001b[0m│\u001b[90m Char \u001b[0m\u001b[90m Float64  \u001b[0m\n",
       "─────┼────────────────\n",
       "   1 │ d     0.480157\n",
       "   2 │ a     0.457628\n",
       "   3 │ c     0.475433\n",
       "   4 │ b     0.469266"
      ]
     },
     "execution_count": 32,
     "metadata": {},
     "output_type": "execute_result"
    }
   ],
   "source": [
    "# we give a custom name for the result column\n",
    "@pipe x |> groupby(_, :id) |> combine(_, :v=>mean=>:res)"
   ]
  },
  {
   "cell_type": "code",
   "execution_count": 33,
   "metadata": {},
   "outputs": [
    {
     "data": {
      "text/html": [
       "<table class=\"data-frame\"><thead><tr><th></th><th>id</th><th>res1</th><th>res2</th><th>n</th></tr><tr><th></th><th>Char</th><th>Float64</th><th>Float64</th><th>Int64</th></tr></thead><tbody><p>4 rows × 4 columns</p><tr><th>1</th><td>d</td><td>0.480157</td><td>15.365</td><td>32</td></tr><tr><th>2</th><td>a</td><td>0.457628</td><td>10.9831</td><td>24</td></tr><tr><th>3</th><td>c</td><td>0.475433</td><td>9.03322</td><td>19</td></tr><tr><th>4</th><td>b</td><td>0.469266</td><td>11.7317</td><td>25</td></tr></tbody></table>"
      ],
      "text/latex": [
       "\\begin{tabular}{r|cccc}\n",
       "\t& id & res1 & res2 & n\\\\\n",
       "\t\\hline\n",
       "\t& Char & Float64 & Float64 & Int64\\\\\n",
       "\t\\hline\n",
       "\t1 & d & 0.480157 & 15.365 & 32 \\\\\n",
       "\t2 & a & 0.457628 & 10.9831 & 24 \\\\\n",
       "\t3 & c & 0.475433 & 9.03322 & 19 \\\\\n",
       "\t4 & b & 0.469266 & 11.7317 & 25 \\\\\n",
       "\\end{tabular}\n"
      ],
      "text/plain": [
       "\u001b[1m4×4 DataFrame\u001b[0m\n",
       "\u001b[1m Row \u001b[0m│\u001b[1m id   \u001b[0m\u001b[1m res1     \u001b[0m\u001b[1m res2     \u001b[0m\u001b[1m n     \u001b[0m\n",
       "\u001b[1m     \u001b[0m│\u001b[90m Char \u001b[0m\u001b[90m Float64  \u001b[0m\u001b[90m Float64  \u001b[0m\u001b[90m Int64 \u001b[0m\n",
       "─────┼─────────────────────────────────\n",
       "   1 │ d     0.480157  15.365       32\n",
       "   2 │ a     0.457628  10.9831      24\n",
       "   3 │ c     0.475433   9.03322     19\n",
       "   4 │ b     0.469266  11.7317      25"
      ]
     },
     "execution_count": 33,
     "metadata": {},
     "output_type": "execute_result"
    }
   ],
   "source": [
    "# you can have multiple operations\n",
    "@pipe x |> groupby(_, :id) |> combine(_, :v=>mean=>:res1, :v=>sum=>:res2, nrow=>:n)"
   ]
  },
  {
   "cell_type": "markdown",
   "metadata": {},
   "source": [
    "Additional notes:\n",
    "* `select!` and `transform!` perform operations in-place\n",
    "* The general syntax for transformation is `source_columns => function => target_column`\n",
    "* if you pass multiple columns to a function they are treated as positional arguments\n",
    "* `ByRow` and `AsTable` work exactly like discussed for operations on data frames in 05_columns.ipynb\n",
    "* you can automatically groupby again the result of `combine`, `select` etc. by passing `ungroup=false` keyword argument to them\n",
    "* similarly `keepkeys` keyword argument allows you to drop grouping columns from the resulting data frame"
   ]
  },
  {
   "cell_type": "markdown",
   "metadata": {},
   "source": [
    "It is also allowed to pass a function to all these functions (also - as a special case, as a first argument). In this case the return value can be a table. In particular it allows for an easy dropping of groups if you return an empty table from the function.\n",
    "\n",
    "If you pass a function you can use a `do` block syntax. In case of passing a function it gets a `SubDataFrame` as its argument.\n",
    "\n",
    "Here is an example:"
   ]
  },
  {
   "cell_type": "code",
   "execution_count": 34,
   "metadata": {},
   "outputs": [
    {
     "data": {
      "text/html": [
       "<table class=\"data-frame\"><thead><tr><th></th><th>id</th><th>n</th></tr><tr><th></th><th>Char</th><th>Int64</th></tr></thead><tbody><p>2 rows × 2 columns</p><tr><th>1</th><td>d</td><td>32</td></tr><tr><th>2</th><td>b</td><td>25</td></tr></tbody></table>"
      ],
      "text/latex": [
       "\\begin{tabular}{r|cc}\n",
       "\t& id & n\\\\\n",
       "\t\\hline\n",
       "\t& Char & Int64\\\\\n",
       "\t\\hline\n",
       "\t1 & d & 32 \\\\\n",
       "\t2 & b & 25 \\\\\n",
       "\\end{tabular}\n"
      ],
      "text/plain": [
       "\u001b[1m2×2 DataFrame\u001b[0m\n",
       "\u001b[1m Row \u001b[0m│\u001b[1m id   \u001b[0m\u001b[1m n     \u001b[0m\n",
       "\u001b[1m     \u001b[0m│\u001b[90m Char \u001b[0m\u001b[90m Int64 \u001b[0m\n",
       "─────┼─────────────\n",
       "   1 │ d        32\n",
       "   2 │ b        25"
      ]
     },
     "execution_count": 34,
     "metadata": {},
     "output_type": "execute_result"
    }
   ],
   "source": [
    "combine(groupby(x, :id)) do sdf\n",
    "    n = nrow(sdf)\n",
    "    n < 25 ? DataFrame() : DataFrame(n=n) # drop groups with low number of rows\n",
    "end"
   ]
  },
  {
   "cell_type": "markdown",
   "metadata": {},
   "source": [
    "You can also produce multiple columns in a single operation, e.g.:"
   ]
  },
  {
   "cell_type": "code",
   "execution_count": 35,
   "metadata": {},
   "outputs": [
    {
     "data": {
      "text/html": [
       "<table class=\"data-frame\"><thead><tr><th></th><th>id</th><th>val</th></tr><tr><th></th><th>Int64</th><th>Int64</th></tr></thead><tbody><p>4 rows × 2 columns</p><tr><th>1</th><td>1</td><td>1</td></tr><tr><th>2</th><td>1</td><td>2</td></tr><tr><th>3</th><td>2</td><td>3</td></tr><tr><th>4</th><td>2</td><td>4</td></tr></tbody></table>"
      ],
      "text/latex": [
       "\\begin{tabular}{r|cc}\n",
       "\t& id & val\\\\\n",
       "\t\\hline\n",
       "\t& Int64 & Int64\\\\\n",
       "\t\\hline\n",
       "\t1 & 1 & 1 \\\\\n",
       "\t2 & 1 & 2 \\\\\n",
       "\t3 & 2 & 3 \\\\\n",
       "\t4 & 2 & 4 \\\\\n",
       "\\end{tabular}\n"
      ],
      "text/plain": [
       "\u001b[1m4×2 DataFrame\u001b[0m\n",
       "\u001b[1m Row \u001b[0m│\u001b[1m id    \u001b[0m\u001b[1m val   \u001b[0m\n",
       "\u001b[1m     \u001b[0m│\u001b[90m Int64 \u001b[0m\u001b[90m Int64 \u001b[0m\n",
       "─────┼──────────────\n",
       "   1 │     1      1\n",
       "   2 │     1      2\n",
       "   3 │     2      3\n",
       "   4 │     2      4"
      ]
     },
     "execution_count": 35,
     "metadata": {},
     "output_type": "execute_result"
    }
   ],
   "source": [
    "df = DataFrame(id=[1,1,2,2], val=[1,2,3,4])"
   ]
  },
  {
   "cell_type": "code",
   "execution_count": 36,
   "metadata": {},
   "outputs": [
    {
     "data": {
      "text/html": [
       "<table class=\"data-frame\"><thead><tr><th></th><th>id</th><th>x1</th><th>x2</th></tr><tr><th></th><th>Int64</th><th>Int64</th><th>Int64</th></tr></thead><tbody><p>2 rows × 3 columns</p><tr><th>1</th><td>1</td><td>1</td><td>2</td></tr><tr><th>2</th><td>2</td><td>3</td><td>4</td></tr></tbody></table>"
      ],
      "text/latex": [
       "\\begin{tabular}{r|ccc}\n",
       "\t& id & x1 & x2\\\\\n",
       "\t\\hline\n",
       "\t& Int64 & Int64 & Int64\\\\\n",
       "\t\\hline\n",
       "\t1 & 1 & 1 & 2 \\\\\n",
       "\t2 & 2 & 3 & 4 \\\\\n",
       "\\end{tabular}\n"
      ],
      "text/plain": [
       "\u001b[1m2×3 DataFrame\u001b[0m\n",
       "\u001b[1m Row \u001b[0m│\u001b[1m id    \u001b[0m\u001b[1m x1    \u001b[0m\u001b[1m x2    \u001b[0m\n",
       "\u001b[1m     \u001b[0m│\u001b[90m Int64 \u001b[0m\u001b[90m Int64 \u001b[0m\u001b[90m Int64 \u001b[0m\n",
       "─────┼─────────────────────\n",
       "   1 │     1      1      2\n",
       "   2 │     2      3      4"
      ]
     },
     "execution_count": 36,
     "metadata": {},
     "output_type": "execute_result"
    }
   ],
   "source": [
    "@pipe df |> groupby(_, :id) |> combine(_, :val => (x -> [x]) => AsTable)"
   ]
  },
  {
   "cell_type": "code",
   "execution_count": 37,
   "metadata": {},
   "outputs": [
    {
     "data": {
      "text/html": [
       "<table class=\"data-frame\"><thead><tr><th></th><th>id</th><th>c1</th><th>c2</th></tr><tr><th></th><th>Int64</th><th>Int64</th><th>Int64</th></tr></thead><tbody><p>2 rows × 3 columns</p><tr><th>1</th><td>1</td><td>1</td><td>2</td></tr><tr><th>2</th><td>2</td><td>3</td><td>4</td></tr></tbody></table>"
      ],
      "text/latex": [
       "\\begin{tabular}{r|ccc}\n",
       "\t& id & c1 & c2\\\\\n",
       "\t\\hline\n",
       "\t& Int64 & Int64 & Int64\\\\\n",
       "\t\\hline\n",
       "\t1 & 1 & 1 & 2 \\\\\n",
       "\t2 & 2 & 3 & 4 \\\\\n",
       "\\end{tabular}\n"
      ],
      "text/plain": [
       "\u001b[1m2×3 DataFrame\u001b[0m\n",
       "\u001b[1m Row \u001b[0m│\u001b[1m id    \u001b[0m\u001b[1m c1    \u001b[0m\u001b[1m c2    \u001b[0m\n",
       "\u001b[1m     \u001b[0m│\u001b[90m Int64 \u001b[0m\u001b[90m Int64 \u001b[0m\u001b[90m Int64 \u001b[0m\n",
       "─────┼─────────────────────\n",
       "   1 │     1      1      2\n",
       "   2 │     2      3      4"
      ]
     },
     "execution_count": 37,
     "metadata": {},
     "output_type": "execute_result"
    }
   ],
   "source": [
    "@pipe df |> groupby(_, :id) |> combine(_, :val => (x -> [x]) => [:c1, :c2])"
   ]
  },
  {
   "cell_type": "markdown",
   "metadata": {},
   "source": [
    "### Aggregation of a data frame using `mapcols`"
   ]
  },
  {
   "cell_type": "code",
   "execution_count": 38,
   "metadata": {},
   "outputs": [
    {
     "data": {
      "text/html": [
       "<table class=\"data-frame\"><thead><tr><th></th><th>x1</th><th>x2</th><th>x3</th><th>x4</th><th>x5</th><th>x6</th><th>x7</th><th>x8</th></tr><tr><th></th><th>Float64</th><th>Float64</th><th>Float64</th><th>Float64</th><th>Float64</th><th>Float64</th><th>Float64</th><th>Float64</th></tr></thead><tbody><p>10 rows × 10 columns (omitted printing of 2 columns)</p><tr><th>1</th><td>0.192541</td><td>0.00823978</td><td>0.759743</td><td>0.627588</td><td>0.210741</td><td>0.641939</td><td>0.913316</td><td>0.373572</td></tr><tr><th>2</th><td>0.233219</td><td>0.774847</td><td>0.764817</td><td>0.236951</td><td>0.552773</td><td>0.293831</td><td>0.031392</td><td>0.472605</td></tr><tr><th>3</th><td>0.00496608</td><td>0.525278</td><td>0.0962988</td><td>0.260287</td><td>0.562414</td><td>0.164036</td><td>0.187594</td><td>0.0981683</td></tr><tr><th>4</th><td>0.702417</td><td>0.175973</td><td>0.889661</td><td>0.651011</td><td>0.195969</td><td>0.785807</td><td>0.547239</td><td>0.549654</td></tr><tr><th>5</th><td>0.831447</td><td>0.690645</td><td>0.208195</td><td>0.785246</td><td>0.231691</td><td>0.570581</td><td>0.562815</td><td>0.499155</td></tr><tr><th>6</th><td>0.811698</td><td>0.999773</td><td>0.152812</td><td>0.708421</td><td>0.980536</td><td>0.520621</td><td>0.667761</td><td>0.717624</td></tr><tr><th>7</th><td>0.0838621</td><td>0.891044</td><td>0.899605</td><td>0.137132</td><td>0.753841</td><td>0.266889</td><td>0.351575</td><td>0.34191</td></tr><tr><th>8</th><td>0.479779</td><td>0.0987629</td><td>0.31926</td><td>0.773762</td><td>0.775632</td><td>0.11155</td><td>0.83326</td><td>0.683657</td></tr><tr><th>9</th><td>0.597412</td><td>0.353388</td><td>0.0932035</td><td>0.570374</td><td>0.927963</td><td>0.341653</td><td>0.905626</td><td>0.825433</td></tr><tr><th>10</th><td>0.766673</td><td>0.156479</td><td>0.635945</td><td>0.427705</td><td>0.869142</td><td>0.478612</td><td>0.266469</td><td>0.128289</td></tr></tbody></table>"
      ],
      "text/latex": [
       "\\begin{tabular}{r|ccccccccc}\n",
       "\t& x1 & x2 & x3 & x4 & x5 & x6 & x7 & x8 & \\\\\n",
       "\t\\hline\n",
       "\t& Float64 & Float64 & Float64 & Float64 & Float64 & Float64 & Float64 & Float64 & \\\\\n",
       "\t\\hline\n",
       "\t1 & 0.192541 & 0.00823978 & 0.759743 & 0.627588 & 0.210741 & 0.641939 & 0.913316 & 0.373572 & $\\dots$ \\\\\n",
       "\t2 & 0.233219 & 0.774847 & 0.764817 & 0.236951 & 0.552773 & 0.293831 & 0.031392 & 0.472605 & $\\dots$ \\\\\n",
       "\t3 & 0.00496608 & 0.525278 & 0.0962988 & 0.260287 & 0.562414 & 0.164036 & 0.187594 & 0.0981683 & $\\dots$ \\\\\n",
       "\t4 & 0.702417 & 0.175973 & 0.889661 & 0.651011 & 0.195969 & 0.785807 & 0.547239 & 0.549654 & $\\dots$ \\\\\n",
       "\t5 & 0.831447 & 0.690645 & 0.208195 & 0.785246 & 0.231691 & 0.570581 & 0.562815 & 0.499155 & $\\dots$ \\\\\n",
       "\t6 & 0.811698 & 0.999773 & 0.152812 & 0.708421 & 0.980536 & 0.520621 & 0.667761 & 0.717624 & $\\dots$ \\\\\n",
       "\t7 & 0.0838621 & 0.891044 & 0.899605 & 0.137132 & 0.753841 & 0.266889 & 0.351575 & 0.34191 & $\\dots$ \\\\\n",
       "\t8 & 0.479779 & 0.0987629 & 0.31926 & 0.773762 & 0.775632 & 0.11155 & 0.83326 & 0.683657 & $\\dots$ \\\\\n",
       "\t9 & 0.597412 & 0.353388 & 0.0932035 & 0.570374 & 0.927963 & 0.341653 & 0.905626 & 0.825433 & $\\dots$ \\\\\n",
       "\t10 & 0.766673 & 0.156479 & 0.635945 & 0.427705 & 0.869142 & 0.478612 & 0.266469 & 0.128289 & $\\dots$ \\\\\n",
       "\\end{tabular}\n"
      ],
      "text/plain": [
       "\u001b[1m10×10 DataFrame\u001b[0m\n",
       "\u001b[1m Row \u001b[0m│\u001b[1m x1         \u001b[0m\u001b[1m x2         \u001b[0m\u001b[1m x3        \u001b[0m\u001b[1m x4       \u001b[0m\u001b[1m x5       \u001b[0m\u001b[1m x6       \u001b[0m\u001b[1m x7    \u001b[0m ⋯\n",
       "\u001b[1m     \u001b[0m│\u001b[90m Float64    \u001b[0m\u001b[90m Float64    \u001b[0m\u001b[90m Float64   \u001b[0m\u001b[90m Float64  \u001b[0m\u001b[90m Float64  \u001b[0m\u001b[90m Float64  \u001b[0m\u001b[90m Float6\u001b[0m ⋯\n",
       "─────┼──────────────────────────────────────────────────────────────────────────\n",
       "   1 │ 0.192541    0.00823978  0.759743   0.627588  0.210741  0.641939  0.9133 ⋯\n",
       "   2 │ 0.233219    0.774847    0.764817   0.236951  0.552773  0.293831  0.0313\n",
       "   3 │ 0.00496608  0.525278    0.0962988  0.260287  0.562414  0.164036  0.1875\n",
       "  ⋮  │     ⋮           ⋮           ⋮         ⋮         ⋮         ⋮         ⋮   ⋱\n",
       "   8 │ 0.479779    0.0987629   0.31926    0.773762  0.775632  0.11155   0.8332\n",
       "   9 │ 0.597412    0.353388    0.0932035  0.570374  0.927963  0.341653  0.9056 ⋯\n",
       "  10 │ 0.766673    0.156479    0.635945   0.427705  0.869142  0.478612  0.2664\n",
       "\u001b[36m                                                    4 columns and 4 rows omitted\u001b[0m"
      ]
     },
     "execution_count": 38,
     "metadata": {},
     "output_type": "execute_result"
    }
   ],
   "source": [
    "x = DataFrame(rand(10, 10), :auto)"
   ]
  },
  {
   "cell_type": "code",
   "execution_count": 39,
   "metadata": {},
   "outputs": [
    {
     "data": {
      "text/html": [
       "<table class=\"data-frame\"><thead><tr><th></th><th>x1</th><th>x2</th><th>x3</th><th>x4</th><th>x5</th><th>x6</th><th>x7</th><th>x8</th><th>x9</th></tr><tr><th></th><th>Float64</th><th>Float64</th><th>Float64</th><th>Float64</th><th>Float64</th><th>Float64</th><th>Float64</th><th>Float64</th><th>Float64</th></tr></thead><tbody><p>1 rows × 10 columns (omitted printing of 1 columns)</p><tr><th>1</th><td>0.470401</td><td>0.467443</td><td>0.481954</td><td>0.517848</td><td>0.60607</td><td>0.417552</td><td>0.526705</td><td>0.469007</td><td>0.510761</td></tr></tbody></table>"
      ],
      "text/latex": [
       "\\begin{tabular}{r|cccccccccc}\n",
       "\t& x1 & x2 & x3 & x4 & x5 & x6 & x7 & x8 & x9 & \\\\\n",
       "\t\\hline\n",
       "\t& Float64 & Float64 & Float64 & Float64 & Float64 & Float64 & Float64 & Float64 & Float64 & \\\\\n",
       "\t\\hline\n",
       "\t1 & 0.470401 & 0.467443 & 0.481954 & 0.517848 & 0.60607 & 0.417552 & 0.526705 & 0.469007 & 0.510761 & $\\dots$ \\\\\n",
       "\\end{tabular}\n"
      ],
      "text/plain": [
       "\u001b[1m1×10 DataFrame\u001b[0m\n",
       "\u001b[1m Row \u001b[0m│\u001b[1m x1       \u001b[0m\u001b[1m x2       \u001b[0m\u001b[1m x3       \u001b[0m\u001b[1m x4       \u001b[0m\u001b[1m x5      \u001b[0m\u001b[1m x6       \u001b[0m\u001b[1m x7       \u001b[0m\u001b[1m x8\u001b[0m ⋯\n",
       "\u001b[1m     \u001b[0m│\u001b[90m Float64  \u001b[0m\u001b[90m Float64  \u001b[0m\u001b[90m Float64  \u001b[0m\u001b[90m Float64  \u001b[0m\u001b[90m Float64 \u001b[0m\u001b[90m Float64  \u001b[0m\u001b[90m Float64  \u001b[0m\u001b[90m Fl\u001b[0m ⋯\n",
       "─────┼──────────────────────────────────────────────────────────────────────────\n",
       "   1 │ 0.470401  0.467443  0.481954  0.517848  0.60607  0.417552  0.526705  0. ⋯\n",
       "\u001b[36m                                                               3 columns omitted\u001b[0m"
      ]
     },
     "execution_count": 39,
     "metadata": {},
     "output_type": "execute_result"
    }
   ],
   "source": [
    "mapcols(mean, x)"
   ]
  },
  {
   "cell_type": "markdown",
   "metadata": {},
   "source": [
    "### Mapping rows and columns using `eachcol` and `eachrow`"
   ]
  },
  {
   "cell_type": "code",
   "execution_count": 40,
   "metadata": {},
   "outputs": [
    {
     "data": {
      "text/plain": [
       "10-element Vector{Float64}:\n",
       " 0.47040144156855535\n",
       " 0.46744292233241913\n",
       " 0.4819539338753063\n",
       " 0.5178477270202617\n",
       " 0.6060702559218771\n",
       " 0.4175518207310521\n",
       " 0.5267046580086261\n",
       " 0.46900663984942953\n",
       " 0.5107610870865886\n",
       " 0.3891861002348541"
      ]
     },
     "execution_count": 40,
     "metadata": {},
     "output_type": "execute_result"
    }
   ],
   "source": [
    "map(mean, eachcol(x)) # map a function over each column and return a vector"
   ]
  },
  {
   "cell_type": "code",
   "execution_count": 41,
   "metadata": {},
   "outputs": [
    {
     "name": "stdout",
     "output_type": "stream",
     "text": [
      "x1: 0.47040144156855535\n",
      "x2: 0.46744292233241913\n",
      "x3: 0.4819539338753063\n",
      "x4: 0.5178477270202617\n",
      "x5: 0.6060702559218771\n",
      "x6: 0.4175518207310521\n",
      "x7: 0.5267046580086261\n",
      "x8: 0.46900663984942953\n",
      "x9: 0.5107610870865886\n",
      "x10: 0.3891861002348541\n"
     ]
    }
   ],
   "source": [
    "# an iteration returns a Pair with column name and values\n",
    "foreach(c -> println(c[1], \": \", mean(c[2])), pairs(eachcol(x)))"
   ]
  },
  {
   "cell_type": "code",
   "execution_count": 42,
   "metadata": {},
   "outputs": [
    {
     "data": {
      "text/plain": [
       "10-element Vector{Float64}:\n",
       " 23.367205350823458\n",
       "  0.30098745348074873\n",
       "  0.009454193184731584\n",
       "  3.9916198369956133\n",
       "  1.2038715564114404\n",
       "  0.8118815979296972\n",
       "  0.09411672133625724\n",
       "  4.85789048301045\n",
       "  1.6905290545338842\n",
       "  4.899517214762139"
      ]
     },
     "execution_count": 42,
     "metadata": {},
     "output_type": "execute_result"
    }
   ],
   "source": [
    "# now the returned value is DataFrameRow which works as a NamedTuple but is a view to a parent DataFrame\n",
    "map(r -> r.x1/r.x2, eachrow(x))"
   ]
  },
  {
   "cell_type": "code",
   "execution_count": 43,
   "metadata": {},
   "outputs": [
    {
     "data": {
      "text/html": [
       "<p>10×10 DataFrameRows</p><table class=\"data-frame\"><thead><tr><th></th><th>x1</th><th>x2</th><th>x3</th><th>x4</th><th>x5</th><th>x6</th><th>x7</th><th>x8</th></tr><tr><th></th><th>Float64</th><th>Float64</th><th>Float64</th><th>Float64</th><th>Float64</th><th>Float64</th><th>Float64</th><th>Float64</th></tr></thead><tbody><tr><th>1</th><td>0.192541</td><td>0.00823978</td><td>0.759743</td><td>0.627588</td><td>0.210741</td><td>0.641939</td><td>0.913316</td><td>0.373572</td></tr><tr><th>2</th><td>0.233219</td><td>0.774847</td><td>0.764817</td><td>0.236951</td><td>0.552773</td><td>0.293831</td><td>0.031392</td><td>0.472605</td></tr><tr><th>3</th><td>0.00496608</td><td>0.525278</td><td>0.0962988</td><td>0.260287</td><td>0.562414</td><td>0.164036</td><td>0.187594</td><td>0.0981683</td></tr><tr><th>4</th><td>0.702417</td><td>0.175973</td><td>0.889661</td><td>0.651011</td><td>0.195969</td><td>0.785807</td><td>0.547239</td><td>0.549654</td></tr><tr><th>5</th><td>0.831447</td><td>0.690645</td><td>0.208195</td><td>0.785246</td><td>0.231691</td><td>0.570581</td><td>0.562815</td><td>0.499155</td></tr><tr><th>6</th><td>0.811698</td><td>0.999773</td><td>0.152812</td><td>0.708421</td><td>0.980536</td><td>0.520621</td><td>0.667761</td><td>0.717624</td></tr><tr><th>7</th><td>0.0838621</td><td>0.891044</td><td>0.899605</td><td>0.137132</td><td>0.753841</td><td>0.266889</td><td>0.351575</td><td>0.34191</td></tr><tr><th>8</th><td>0.479779</td><td>0.0987629</td><td>0.31926</td><td>0.773762</td><td>0.775632</td><td>0.11155</td><td>0.83326</td><td>0.683657</td></tr><tr><th>9</th><td>0.597412</td><td>0.353388</td><td>0.0932035</td><td>0.570374</td><td>0.927963</td><td>0.341653</td><td>0.905626</td><td>0.825433</td></tr><tr><th>10</th><td>0.766673</td><td>0.156479</td><td>0.635945</td><td>0.427705</td><td>0.869142</td><td>0.478612</td><td>0.266469</td><td>0.128289</td></tr></tbody></table>"
      ],
      "text/latex": [
       "\\begin{tabular}{r|ccccccccc}\n",
       "\t& x1 & x2 & x3 & x4 & x5 & x6 & x7 & x8 & \\\\\n",
       "\t\\hline\n",
       "\t& Float64 & Float64 & Float64 & Float64 & Float64 & Float64 & Float64 & Float64 & \\\\\n",
       "\t\\hline\n",
       "\t1 & 0.192541 & 0.00823978 & 0.759743 & 0.627588 & 0.210741 & 0.641939 & 0.913316 & 0.373572 & $\\dots$ \\\\\n",
       "\t2 & 0.233219 & 0.774847 & 0.764817 & 0.236951 & 0.552773 & 0.293831 & 0.031392 & 0.472605 & $\\dots$ \\\\\n",
       "\t3 & 0.00496608 & 0.525278 & 0.0962988 & 0.260287 & 0.562414 & 0.164036 & 0.187594 & 0.0981683 & $\\dots$ \\\\\n",
       "\t4 & 0.702417 & 0.175973 & 0.889661 & 0.651011 & 0.195969 & 0.785807 & 0.547239 & 0.549654 & $\\dots$ \\\\\n",
       "\t5 & 0.831447 & 0.690645 & 0.208195 & 0.785246 & 0.231691 & 0.570581 & 0.562815 & 0.499155 & $\\dots$ \\\\\n",
       "\t6 & 0.811698 & 0.999773 & 0.152812 & 0.708421 & 0.980536 & 0.520621 & 0.667761 & 0.717624 & $\\dots$ \\\\\n",
       "\t7 & 0.0838621 & 0.891044 & 0.899605 & 0.137132 & 0.753841 & 0.266889 & 0.351575 & 0.34191 & $\\dots$ \\\\\n",
       "\t8 & 0.479779 & 0.0987629 & 0.31926 & 0.773762 & 0.775632 & 0.11155 & 0.83326 & 0.683657 & $\\dots$ \\\\\n",
       "\t9 & 0.597412 & 0.353388 & 0.0932035 & 0.570374 & 0.927963 & 0.341653 & 0.905626 & 0.825433 & $\\dots$ \\\\\n",
       "\t10 & 0.766673 & 0.156479 & 0.635945 & 0.427705 & 0.869142 & 0.478612 & 0.266469 & 0.128289 & $\\dots$ \\\\\n",
       "\\end{tabular}\n"
      ],
      "text/plain": [
       "\u001b[1m10×10 DataFrameRows\u001b[0m\n",
       "\u001b[1m Row \u001b[0m│\u001b[1m x1         \u001b[0m\u001b[1m x2         \u001b[0m\u001b[1m x3        \u001b[0m\u001b[1m x4       \u001b[0m\u001b[1m x5       \u001b[0m\u001b[1m x6       \u001b[0m\u001b[1m x7    \u001b[0m ⋯\n",
       "\u001b[1m     \u001b[0m│\u001b[90m Float64    \u001b[0m\u001b[90m Float64    \u001b[0m\u001b[90m Float64   \u001b[0m\u001b[90m Float64  \u001b[0m\u001b[90m Float64  \u001b[0m\u001b[90m Float64  \u001b[0m\u001b[90m Float6\u001b[0m ⋯\n",
       "─────┼──────────────────────────────────────────────────────────────────────────\n",
       "   1 │ 0.192541    0.00823978  0.759743   0.627588  0.210741  0.641939  0.9133 ⋯\n",
       "   2 │ 0.233219    0.774847    0.764817   0.236951  0.552773  0.293831  0.0313\n",
       "   3 │ 0.00496608  0.525278    0.0962988  0.260287  0.562414  0.164036  0.1875\n",
       "  ⋮  │     ⋮           ⋮           ⋮         ⋮         ⋮         ⋮         ⋮   ⋱\n",
       "   8 │ 0.479779    0.0987629   0.31926    0.773762  0.775632  0.11155   0.8332\n",
       "   9 │ 0.597412    0.353388    0.0932035  0.570374  0.927963  0.341653  0.9056 ⋯\n",
       "  10 │ 0.766673    0.156479    0.635945   0.427705  0.869142  0.478612  0.2664\n",
       "\u001b[36m                                                    4 columns and 4 rows omitted\u001b[0m"
      ]
     },
     "execution_count": 43,
     "metadata": {},
     "output_type": "execute_result"
    }
   ],
   "source": [
    "# it prints like a data frame, only the caption is different so that you know the type of the object\n",
    "er = eachrow(x)"
   ]
  },
  {
   "cell_type": "code",
   "execution_count": 44,
   "metadata": {},
   "outputs": [
    {
     "data": {
      "text/plain": [
       "10-element Vector{Float64}:\n",
       " 0.19254068014795966\n",
       " 0.23321927121656771\n",
       " 0.004966076118129603\n",
       " 0.7024168971836942\n",
       " 0.8314473241181026\n",
       " 0.8116976375505227\n",
       " 0.08386212871521459\n",
       " 0.4797794062602667\n",
       " 0.597412329499531\n",
       " 0.766672664875564"
      ]
     },
     "execution_count": 44,
     "metadata": {},
     "output_type": "execute_result"
    }
   ],
   "source": [
    "er.x1 # you can access columns of a parent data frame directly"
   ]
  },
  {
   "cell_type": "code",
   "execution_count": 45,
   "metadata": {},
   "outputs": [
    {
     "data": {
      "text/html": [
       "<p>10×10 DataFrameColumns</p><table class=\"data-frame\"><thead><tr><th></th><th>x1</th><th>x2</th><th>x3</th><th>x4</th><th>x5</th><th>x6</th><th>x7</th><th>x8</th></tr><tr><th></th><th>Float64</th><th>Float64</th><th>Float64</th><th>Float64</th><th>Float64</th><th>Float64</th><th>Float64</th><th>Float64</th></tr></thead><tbody><tr><th>1</th><td>0.192541</td><td>0.00823978</td><td>0.759743</td><td>0.627588</td><td>0.210741</td><td>0.641939</td><td>0.913316</td><td>0.373572</td></tr><tr><th>2</th><td>0.233219</td><td>0.774847</td><td>0.764817</td><td>0.236951</td><td>0.552773</td><td>0.293831</td><td>0.031392</td><td>0.472605</td></tr><tr><th>3</th><td>0.00496608</td><td>0.525278</td><td>0.0962988</td><td>0.260287</td><td>0.562414</td><td>0.164036</td><td>0.187594</td><td>0.0981683</td></tr><tr><th>4</th><td>0.702417</td><td>0.175973</td><td>0.889661</td><td>0.651011</td><td>0.195969</td><td>0.785807</td><td>0.547239</td><td>0.549654</td></tr><tr><th>5</th><td>0.831447</td><td>0.690645</td><td>0.208195</td><td>0.785246</td><td>0.231691</td><td>0.570581</td><td>0.562815</td><td>0.499155</td></tr><tr><th>6</th><td>0.811698</td><td>0.999773</td><td>0.152812</td><td>0.708421</td><td>0.980536</td><td>0.520621</td><td>0.667761</td><td>0.717624</td></tr><tr><th>7</th><td>0.0838621</td><td>0.891044</td><td>0.899605</td><td>0.137132</td><td>0.753841</td><td>0.266889</td><td>0.351575</td><td>0.34191</td></tr><tr><th>8</th><td>0.479779</td><td>0.0987629</td><td>0.31926</td><td>0.773762</td><td>0.775632</td><td>0.11155</td><td>0.83326</td><td>0.683657</td></tr><tr><th>9</th><td>0.597412</td><td>0.353388</td><td>0.0932035</td><td>0.570374</td><td>0.927963</td><td>0.341653</td><td>0.905626</td><td>0.825433</td></tr><tr><th>10</th><td>0.766673</td><td>0.156479</td><td>0.635945</td><td>0.427705</td><td>0.869142</td><td>0.478612</td><td>0.266469</td><td>0.128289</td></tr></tbody></table>"
      ],
      "text/latex": [
       "\\begin{tabular}{r|ccccccccc}\n",
       "\t& x1 & x2 & x3 & x4 & x5 & x6 & x7 & x8 & \\\\\n",
       "\t\\hline\n",
       "\t& Float64 & Float64 & Float64 & Float64 & Float64 & Float64 & Float64 & Float64 & \\\\\n",
       "\t\\hline\n",
       "\t1 & 0.192541 & 0.00823978 & 0.759743 & 0.627588 & 0.210741 & 0.641939 & 0.913316 & 0.373572 & $\\dots$ \\\\\n",
       "\t2 & 0.233219 & 0.774847 & 0.764817 & 0.236951 & 0.552773 & 0.293831 & 0.031392 & 0.472605 & $\\dots$ \\\\\n",
       "\t3 & 0.00496608 & 0.525278 & 0.0962988 & 0.260287 & 0.562414 & 0.164036 & 0.187594 & 0.0981683 & $\\dots$ \\\\\n",
       "\t4 & 0.702417 & 0.175973 & 0.889661 & 0.651011 & 0.195969 & 0.785807 & 0.547239 & 0.549654 & $\\dots$ \\\\\n",
       "\t5 & 0.831447 & 0.690645 & 0.208195 & 0.785246 & 0.231691 & 0.570581 & 0.562815 & 0.499155 & $\\dots$ \\\\\n",
       "\t6 & 0.811698 & 0.999773 & 0.152812 & 0.708421 & 0.980536 & 0.520621 & 0.667761 & 0.717624 & $\\dots$ \\\\\n",
       "\t7 & 0.0838621 & 0.891044 & 0.899605 & 0.137132 & 0.753841 & 0.266889 & 0.351575 & 0.34191 & $\\dots$ \\\\\n",
       "\t8 & 0.479779 & 0.0987629 & 0.31926 & 0.773762 & 0.775632 & 0.11155 & 0.83326 & 0.683657 & $\\dots$ \\\\\n",
       "\t9 & 0.597412 & 0.353388 & 0.0932035 & 0.570374 & 0.927963 & 0.341653 & 0.905626 & 0.825433 & $\\dots$ \\\\\n",
       "\t10 & 0.766673 & 0.156479 & 0.635945 & 0.427705 & 0.869142 & 0.478612 & 0.266469 & 0.128289 & $\\dots$ \\\\\n",
       "\\end{tabular}\n"
      ],
      "text/plain": [
       "\u001b[1m10×10 DataFrameColumns\u001b[0m\n",
       "\u001b[1m Row \u001b[0m│\u001b[1m x1         \u001b[0m\u001b[1m x2         \u001b[0m\u001b[1m x3        \u001b[0m\u001b[1m x4       \u001b[0m\u001b[1m x5       \u001b[0m\u001b[1m x6       \u001b[0m\u001b[1m x7    \u001b[0m ⋯\n",
       "\u001b[1m     \u001b[0m│\u001b[90m Float64    \u001b[0m\u001b[90m Float64    \u001b[0m\u001b[90m Float64   \u001b[0m\u001b[90m Float64  \u001b[0m\u001b[90m Float64  \u001b[0m\u001b[90m Float64  \u001b[0m\u001b[90m Float6\u001b[0m ⋯\n",
       "─────┼──────────────────────────────────────────────────────────────────────────\n",
       "   1 │ 0.192541    0.00823978  0.759743   0.627588  0.210741  0.641939  0.9133 ⋯\n",
       "   2 │ 0.233219    0.774847    0.764817   0.236951  0.552773  0.293831  0.0313\n",
       "   3 │ 0.00496608  0.525278    0.0962988  0.260287  0.562414  0.164036  0.1875\n",
       "  ⋮  │     ⋮           ⋮           ⋮         ⋮         ⋮         ⋮         ⋮   ⋱\n",
       "   8 │ 0.479779    0.0987629   0.31926    0.773762  0.775632  0.11155   0.8332\n",
       "   9 │ 0.597412    0.353388    0.0932035  0.570374  0.927963  0.341653  0.9056 ⋯\n",
       "  10 │ 0.766673    0.156479    0.635945   0.427705  0.869142  0.478612  0.2664\n",
       "\u001b[36m                                                    4 columns and 4 rows omitted\u001b[0m"
      ]
     },
     "execution_count": 45,
     "metadata": {},
     "output_type": "execute_result"
    }
   ],
   "source": [
    "# it prints like a data frame, only the caption is different so that you know the type of the object\n",
    "ec = eachcol(x)"
   ]
  },
  {
   "cell_type": "code",
   "execution_count": 46,
   "metadata": {},
   "outputs": [
    {
     "data": {
      "text/plain": [
       "10-element Vector{Float64}:\n",
       " 0.19254068014795966\n",
       " 0.23321927121656771\n",
       " 0.004966076118129603\n",
       " 0.7024168971836942\n",
       " 0.8314473241181026\n",
       " 0.8116976375505227\n",
       " 0.08386212871521459\n",
       " 0.4797794062602667\n",
       " 0.597412329499531\n",
       " 0.766672664875564"
      ]
     },
     "execution_count": 46,
     "metadata": {},
     "output_type": "execute_result"
    }
   ],
   "source": [
    "ec.x1 # you can access columns of a parent data frame directly"
   ]
  },
  {
   "cell_type": "markdown",
   "metadata": {},
   "source": [
    "### Transposing"
   ]
  },
  {
   "cell_type": "markdown",
   "metadata": {},
   "source": [
    "you can transpose a data frame using `permutedims`:"
   ]
  },
  {
   "cell_type": "code",
   "execution_count": 47,
   "metadata": {},
   "outputs": [
    {
     "data": {
      "text/html": [
       "<table class=\"data-frame\"><thead><tr><th></th><th>x1</th><th>x2</th><th>x3</th><th>x4</th></tr><tr><th></th><th>Int64</th><th>Int64</th><th>Int64</th><th>Int64</th></tr></thead><tbody><p>3 rows × 4 columns</p><tr><th>1</th><td>1</td><td>4</td><td>7</td><td>10</td></tr><tr><th>2</th><td>2</td><td>5</td><td>8</td><td>11</td></tr><tr><th>3</th><td>3</td><td>6</td><td>9</td><td>12</td></tr></tbody></table>"
      ],
      "text/latex": [
       "\\begin{tabular}{r|cccc}\n",
       "\t& x1 & x2 & x3 & x4\\\\\n",
       "\t\\hline\n",
       "\t& Int64 & Int64 & Int64 & Int64\\\\\n",
       "\t\\hline\n",
       "\t1 & 1 & 4 & 7 & 10 \\\\\n",
       "\t2 & 2 & 5 & 8 & 11 \\\\\n",
       "\t3 & 3 & 6 & 9 & 12 \\\\\n",
       "\\end{tabular}\n"
      ],
      "text/plain": [
       "\u001b[1m3×4 DataFrame\u001b[0m\n",
       "\u001b[1m Row \u001b[0m│\u001b[1m x1    \u001b[0m\u001b[1m x2    \u001b[0m\u001b[1m x3    \u001b[0m\u001b[1m x4    \u001b[0m\n",
       "\u001b[1m     \u001b[0m│\u001b[90m Int64 \u001b[0m\u001b[90m Int64 \u001b[0m\u001b[90m Int64 \u001b[0m\u001b[90m Int64 \u001b[0m\n",
       "─────┼────────────────────────────\n",
       "   1 │     1      4      7     10\n",
       "   2 │     2      5      8     11\n",
       "   3 │     3      6      9     12"
      ]
     },
     "execution_count": 47,
     "metadata": {},
     "output_type": "execute_result"
    }
   ],
   "source": [
    "df = DataFrame(reshape(1:12, 3, 4), :auto)"
   ]
  },
  {
   "cell_type": "code",
   "execution_count": 48,
   "metadata": {},
   "outputs": [
    {
     "data": {
      "text/plain": [
       "3-element Vector{String}:\n",
       " \"a\"\n",
       " \"b\"\n",
       " \"c\""
      ]
     },
     "execution_count": 48,
     "metadata": {},
     "output_type": "execute_result"
    }
   ],
   "source": [
    "df.names = [\"a\", \"b\", \"c\"]"
   ]
  },
  {
   "cell_type": "code",
   "execution_count": 49,
   "metadata": {},
   "outputs": [
    {
     "data": {
      "text/html": [
       "<table class=\"data-frame\"><thead><tr><th></th><th>names</th><th>a</th><th>b</th><th>c</th></tr><tr><th></th><th>String</th><th>Int64</th><th>Int64</th><th>Int64</th></tr></thead><tbody><p>4 rows × 4 columns</p><tr><th>1</th><td>x1</td><td>1</td><td>2</td><td>3</td></tr><tr><th>2</th><td>x2</td><td>4</td><td>5</td><td>6</td></tr><tr><th>3</th><td>x3</td><td>7</td><td>8</td><td>9</td></tr><tr><th>4</th><td>x4</td><td>10</td><td>11</td><td>12</td></tr></tbody></table>"
      ],
      "text/latex": [
       "\\begin{tabular}{r|cccc}\n",
       "\t& names & a & b & c\\\\\n",
       "\t\\hline\n",
       "\t& String & Int64 & Int64 & Int64\\\\\n",
       "\t\\hline\n",
       "\t1 & x1 & 1 & 2 & 3 \\\\\n",
       "\t2 & x2 & 4 & 5 & 6 \\\\\n",
       "\t3 & x3 & 7 & 8 & 9 \\\\\n",
       "\t4 & x4 & 10 & 11 & 12 \\\\\n",
       "\\end{tabular}\n"
      ],
      "text/plain": [
       "\u001b[1m4×4 DataFrame\u001b[0m\n",
       "\u001b[1m Row \u001b[0m│\u001b[1m names  \u001b[0m\u001b[1m a     \u001b[0m\u001b[1m b     \u001b[0m\u001b[1m c     \u001b[0m\n",
       "\u001b[1m     \u001b[0m│\u001b[90m String \u001b[0m\u001b[90m Int64 \u001b[0m\u001b[90m Int64 \u001b[0m\u001b[90m Int64 \u001b[0m\n",
       "─────┼─────────────────────────────\n",
       "   1 │ x1          1      2      3\n",
       "   2 │ x2          4      5      6\n",
       "   3 │ x3          7      8      9\n",
       "   4 │ x4         10     11     12"
      ]
     },
     "execution_count": 49,
     "metadata": {},
     "output_type": "execute_result"
    }
   ],
   "source": [
    "permutedims(df, :names)"
   ]
  }
 ],
 "metadata": {
  "@webio": {
   "lastCommId": null,
   "lastKernelId": null
  },
  "kernelspec": {
   "display_name": "Julia 1.6.1",
   "language": "julia",
   "name": "julia-1.6"
  },
  "language_info": {
   "file_extension": ".jl",
   "mimetype": "application/julia",
   "name": "julia",
   "version": "1.6.1"
  }
 },
 "nbformat": 4,
 "nbformat_minor": 1
}
