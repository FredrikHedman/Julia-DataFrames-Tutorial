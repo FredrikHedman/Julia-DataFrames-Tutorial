{
 "cells": [
  {
   "cell_type": "markdown",
   "metadata": {},
   "source": [
    "# Introduction to DataFrames\n",
    "**[Bogumił Kamiński](http://bogumilkaminski.pl/about/), July 17, 2021**"
   ]
  },
  {
   "cell_type": "code",
   "execution_count": 1,
   "metadata": {},
   "outputs": [],
   "source": [
    "using DataFrames"
   ]
  },
  {
   "cell_type": "markdown",
   "metadata": {},
   "source": [
    "## Split-apply-combine"
   ]
  },
  {
   "cell_type": "markdown",
   "metadata": {},
   "source": [
    "### Grouping a data frame"
   ]
  },
  {
   "cell_type": "code",
   "execution_count": 2,
   "metadata": {
    "scrolled": true
   },
   "outputs": [
    {
     "data": {
      "text/html": [
       "<div class=\"data-frame\"><p>8 rows × 3 columns</p><table class=\"data-frame\"><thead><tr><th></th><th>id</th><th>id2</th><th>v</th></tr><tr><th></th><th title=\"Int64\">Int64</th><th title=\"Int64\">Int64</th><th title=\"Float64\">Float64</th></tr></thead><tbody><tr><th>1</th><td>1</td><td>1</td><td>0.225388</td></tr><tr><th>2</th><td>2</td><td>2</td><td>0.385866</td></tr><tr><th>3</th><td>3</td><td>1</td><td>0.349788</td></tr><tr><th>4</th><td>4</td><td>2</td><td>0.242284</td></tr><tr><th>5</th><td>1</td><td>1</td><td>0.345011</td></tr><tr><th>6</th><td>2</td><td>2</td><td>0.0225686</td></tr><tr><th>7</th><td>3</td><td>1</td><td>0.282489</td></tr><tr><th>8</th><td>4</td><td>2</td><td>0.986092</td></tr></tbody></table></div>"
      ],
      "text/latex": [
       "\\begin{tabular}{r|ccc}\n",
       "\t& id & id2 & v\\\\\n",
       "\t\\hline\n",
       "\t& Int64 & Int64 & Float64\\\\\n",
       "\t\\hline\n",
       "\t1 & 1 & 1 & 0.225388 \\\\\n",
       "\t2 & 2 & 2 & 0.385866 \\\\\n",
       "\t3 & 3 & 1 & 0.349788 \\\\\n",
       "\t4 & 4 & 2 & 0.242284 \\\\\n",
       "\t5 & 1 & 1 & 0.345011 \\\\\n",
       "\t6 & 2 & 2 & 0.0225686 \\\\\n",
       "\t7 & 3 & 1 & 0.282489 \\\\\n",
       "\t8 & 4 & 2 & 0.986092 \\\\\n",
       "\\end{tabular}\n"
      ],
      "text/plain": [
       "\u001b[1m8×3 DataFrame\u001b[0m\n",
       "\u001b[1m Row \u001b[0m│\u001b[1m id    \u001b[0m\u001b[1m id2   \u001b[0m\u001b[1m v         \u001b[0m\n",
       "\u001b[1m     \u001b[0m│\u001b[90m Int64 \u001b[0m\u001b[90m Int64 \u001b[0m\u001b[90m Float64   \u001b[0m\n",
       "─────┼─────────────────────────\n",
       "   1 │     1      1  0.225388\n",
       "   2 │     2      2  0.385866\n",
       "   3 │     3      1  0.349788\n",
       "   4 │     4      2  0.242284\n",
       "   5 │     1      1  0.345011\n",
       "   6 │     2      2  0.0225686\n",
       "   7 │     3      1  0.282489\n",
       "   8 │     4      2  0.986092"
      ]
     },
     "execution_count": 2,
     "metadata": {},
     "output_type": "execute_result"
    }
   ],
   "source": [
    "x = DataFrame(id=[1,2,3,4,1,2,3,4], id2=[1,2,1,2,1,2,1,2], v=rand(8))"
   ]
  },
  {
   "cell_type": "code",
   "execution_count": 3,
   "metadata": {
    "scrolled": false
   },
   "outputs": [
    {
     "data": {
      "text/html": [
       "<p><b>GroupedDataFrame with 4 groups based on key: id</b></p><p><i>First Group (2 rows): id = 1</i></p><div class=\"data-frame\"><table class=\"data-frame\"><thead><tr><th></th><th>id</th><th>id2</th><th>v</th></tr><tr><th></th><th title=\"Int64\">Int64</th><th title=\"Int64\">Int64</th><th title=\"Float64\">Float64</th></tr></thead><tbody><tr><th>1</th><td>1</td><td>1</td><td>0.225388</td></tr><tr><th>2</th><td>1</td><td>1</td><td>0.345011</td></tr></tbody></table></div><p>&vellip;</p><p><i>Last Group (2 rows): id = 4</i></p><div class=\"data-frame\"><table class=\"data-frame\"><thead><tr><th></th><th>id</th><th>id2</th><th>v</th></tr><tr><th></th><th title=\"Int64\">Int64</th><th title=\"Int64\">Int64</th><th title=\"Float64\">Float64</th></tr></thead><tbody><tr><th>1</th><td>4</td><td>2</td><td>0.242284</td></tr><tr><th>2</th><td>4</td><td>2</td><td>0.986092</td></tr></tbody></table></div>"
      ],
      "text/latex": [
       "GroupedDataFrame with 4 groups based on key: id\n",
       "\n",
       "First Group (2 rows): id = 1\n",
       "\n",
       "\\begin{tabular}{r|ccc}\n",
       "\t& id & id2 & v\\\\\n",
       "\t\\hline\n",
       "\t& Int64 & Int64 & Float64\\\\\n",
       "\t\\hline\n",
       "\t1 & 1 & 1 & 0.225388 \\\\\n",
       "\t2 & 1 & 1 & 0.345011 \\\\\n",
       "\\end{tabular}\n",
       "\n",
       "$\\dots$\n",
       "\n",
       "Last Group (2 rows): id = 4\n",
       "\n",
       "\\begin{tabular}{r|ccc}\n",
       "\t& id & id2 & v\\\\\n",
       "\t\\hline\n",
       "\t& Int64 & Int64 & Float64\\\\\n",
       "\t\\hline\n",
       "\t1 & 4 & 2 & 0.242284 \\\\\n",
       "\t2 & 4 & 2 & 0.986092 \\\\\n",
       "\\end{tabular}\n"
      ],
      "text/plain": [
       "GroupedDataFrame with 4 groups based on key: id\n",
       "First Group (2 rows): id = 1\n",
       "\u001b[1m Row \u001b[0m│\u001b[1m id    \u001b[0m\u001b[1m id2   \u001b[0m\u001b[1m v        \u001b[0m\n",
       "\u001b[1m     \u001b[0m│\u001b[90m Int64 \u001b[0m\u001b[90m Int64 \u001b[0m\u001b[90m Float64  \u001b[0m\n",
       "─────┼────────────────────────\n",
       "   1 │     1      1  0.225388\n",
       "   2 │     1      1  0.345011\n",
       "⋮\n",
       "Last Group (2 rows): id = 4\n",
       "\u001b[1m Row \u001b[0m│\u001b[1m id    \u001b[0m\u001b[1m id2   \u001b[0m\u001b[1m v        \u001b[0m\n",
       "\u001b[1m     \u001b[0m│\u001b[90m Int64 \u001b[0m\u001b[90m Int64 \u001b[0m\u001b[90m Float64  \u001b[0m\n",
       "─────┼────────────────────────\n",
       "   1 │     4      2  0.242284\n",
       "   2 │     4      2  0.986092"
      ]
     },
     "execution_count": 3,
     "metadata": {},
     "output_type": "execute_result"
    }
   ],
   "source": [
    "groupby(x, :id)"
   ]
  },
  {
   "cell_type": "code",
   "execution_count": 4,
   "metadata": {},
   "outputs": [
    {
     "data": {
      "text/html": [
       "<p><b>GroupedDataFrame with 1 group based on key: </b></p><p><i>First Group (8 rows): </i></p><div class=\"data-frame\"><table class=\"data-frame\"><thead><tr><th></th><th>id</th><th>id2</th><th>v</th></tr><tr><th></th><th title=\"Int64\">Int64</th><th title=\"Int64\">Int64</th><th title=\"Float64\">Float64</th></tr></thead><tbody><tr><th>1</th><td>1</td><td>1</td><td>0.225388</td></tr><tr><th>2</th><td>2</td><td>2</td><td>0.385866</td></tr><tr><th>3</th><td>3</td><td>1</td><td>0.349788</td></tr><tr><th>4</th><td>4</td><td>2</td><td>0.242284</td></tr><tr><th>5</th><td>1</td><td>1</td><td>0.345011</td></tr><tr><th>6</th><td>2</td><td>2</td><td>0.0225686</td></tr><tr><th>7</th><td>3</td><td>1</td><td>0.282489</td></tr><tr><th>8</th><td>4</td><td>2</td><td>0.986092</td></tr></tbody></table></div>"
      ],
      "text/latex": [
       "GroupedDataFrame with 1 group based on key: \n",
       "\n",
       "First Group (8 rows): \n",
       "\n",
       "\\begin{tabular}{r|ccc}\n",
       "\t& id & id2 & v\\\\\n",
       "\t\\hline\n",
       "\t& Int64 & Int64 & Float64\\\\\n",
       "\t\\hline\n",
       "\t1 & 1 & 1 & 0.225388 \\\\\n",
       "\t2 & 2 & 2 & 0.385866 \\\\\n",
       "\t3 & 3 & 1 & 0.349788 \\\\\n",
       "\t4 & 4 & 2 & 0.242284 \\\\\n",
       "\t5 & 1 & 1 & 0.345011 \\\\\n",
       "\t6 & 2 & 2 & 0.0225686 \\\\\n",
       "\t7 & 3 & 1 & 0.282489 \\\\\n",
       "\t8 & 4 & 2 & 0.986092 \\\\\n",
       "\\end{tabular}\n"
      ],
      "text/plain": [
       "GroupedDataFrame with 1 group based on key: \n",
       "First Group (8 rows): \n",
       "\u001b[1m Row \u001b[0m│\u001b[1m id    \u001b[0m\u001b[1m id2   \u001b[0m\u001b[1m v         \u001b[0m\n",
       "\u001b[1m     \u001b[0m│\u001b[90m Int64 \u001b[0m\u001b[90m Int64 \u001b[0m\u001b[90m Float64   \u001b[0m\n",
       "─────┼─────────────────────────\n",
       "   1 │     1      1  0.225388\n",
       "   2 │     2      2  0.385866\n",
       "   3 │     3      1  0.349788\n",
       "   4 │     4      2  0.242284\n",
       "   5 │     1      1  0.345011\n",
       "   6 │     2      2  0.0225686\n",
       "   7 │     3      1  0.282489\n",
       "   8 │     4      2  0.986092"
      ]
     },
     "execution_count": 4,
     "metadata": {},
     "output_type": "execute_result"
    }
   ],
   "source": [
    "groupby(x, [])"
   ]
  },
  {
   "cell_type": "code",
   "execution_count": 5,
   "metadata": {},
   "outputs": [
    {
     "data": {
      "text/html": [
       "<p><b>GroupedDataFrame with 4 groups based on keys: id, id2</b></p><p><i>First Group (2 rows): id = 1, id2 = 1</i></p><div class=\"data-frame\"><table class=\"data-frame\"><thead><tr><th></th><th>id</th><th>id2</th><th>v</th></tr><tr><th></th><th title=\"Int64\">Int64</th><th title=\"Int64\">Int64</th><th title=\"Float64\">Float64</th></tr></thead><tbody><tr><th>1</th><td>1</td><td>1</td><td>0.225388</td></tr><tr><th>2</th><td>1</td><td>1</td><td>0.345011</td></tr></tbody></table></div><p>&vellip;</p><p><i>Last Group (2 rows): id = 4, id2 = 2</i></p><div class=\"data-frame\"><table class=\"data-frame\"><thead><tr><th></th><th>id</th><th>id2</th><th>v</th></tr><tr><th></th><th title=\"Int64\">Int64</th><th title=\"Int64\">Int64</th><th title=\"Float64\">Float64</th></tr></thead><tbody><tr><th>1</th><td>4</td><td>2</td><td>0.242284</td></tr><tr><th>2</th><td>4</td><td>2</td><td>0.986092</td></tr></tbody></table></div>"
      ],
      "text/latex": [
       "GroupedDataFrame with 4 groups based on keys: id, id2\n",
       "\n",
       "First Group (2 rows): id = 1, id2 = 1\n",
       "\n",
       "\\begin{tabular}{r|ccc}\n",
       "\t& id & id2 & v\\\\\n",
       "\t\\hline\n",
       "\t& Int64 & Int64 & Float64\\\\\n",
       "\t\\hline\n",
       "\t1 & 1 & 1 & 0.225388 \\\\\n",
       "\t2 & 1 & 1 & 0.345011 \\\\\n",
       "\\end{tabular}\n",
       "\n",
       "$\\dots$\n",
       "\n",
       "Last Group (2 rows): id = 4, id2 = 2\n",
       "\n",
       "\\begin{tabular}{r|ccc}\n",
       "\t& id & id2 & v\\\\\n",
       "\t\\hline\n",
       "\t& Int64 & Int64 & Float64\\\\\n",
       "\t\\hline\n",
       "\t1 & 4 & 2 & 0.242284 \\\\\n",
       "\t2 & 4 & 2 & 0.986092 \\\\\n",
       "\\end{tabular}\n"
      ],
      "text/plain": [
       "GroupedDataFrame with 4 groups based on keys: id, id2\n",
       "First Group (2 rows): id = 1, id2 = 1\n",
       "\u001b[1m Row \u001b[0m│\u001b[1m id    \u001b[0m\u001b[1m id2   \u001b[0m\u001b[1m v        \u001b[0m\n",
       "\u001b[1m     \u001b[0m│\u001b[90m Int64 \u001b[0m\u001b[90m Int64 \u001b[0m\u001b[90m Float64  \u001b[0m\n",
       "─────┼────────────────────────\n",
       "   1 │     1      1  0.225388\n",
       "   2 │     1      1  0.345011\n",
       "⋮\n",
       "Last Group (2 rows): id = 4, id2 = 2\n",
       "\u001b[1m Row \u001b[0m│\u001b[1m id    \u001b[0m\u001b[1m id2   \u001b[0m\u001b[1m v        \u001b[0m\n",
       "\u001b[1m     \u001b[0m│\u001b[90m Int64 \u001b[0m\u001b[90m Int64 \u001b[0m\u001b[90m Float64  \u001b[0m\n",
       "─────┼────────────────────────\n",
       "   1 │     4      2  0.242284\n",
       "   2 │     4      2  0.986092"
      ]
     },
     "execution_count": 5,
     "metadata": {},
     "output_type": "execute_result"
    }
   ],
   "source": [
    "gx2 = groupby(x, [:id, :id2])"
   ]
  },
  {
   "cell_type": "code",
   "execution_count": 6,
   "metadata": {},
   "outputs": [
    {
     "data": {
      "text/html": [
       "<div class=\"data-frame\"><p>8 rows × 3 columns</p><table class=\"data-frame\"><thead><tr><th></th><th>id</th><th>id2</th><th>v</th></tr><tr><th></th><th title=\"Int64\">Int64</th><th title=\"Int64\">Int64</th><th title=\"Float64\">Float64</th></tr></thead><tbody><tr><th>1</th><td>1</td><td>1</td><td>0.225388</td></tr><tr><th>2</th><td>2</td><td>2</td><td>0.385866</td></tr><tr><th>3</th><td>3</td><td>1</td><td>0.349788</td></tr><tr><th>4</th><td>4</td><td>2</td><td>0.242284</td></tr><tr><th>5</th><td>1</td><td>1</td><td>0.345011</td></tr><tr><th>6</th><td>2</td><td>2</td><td>0.0225686</td></tr><tr><th>7</th><td>3</td><td>1</td><td>0.282489</td></tr><tr><th>8</th><td>4</td><td>2</td><td>0.986092</td></tr></tbody></table></div>"
      ],
      "text/latex": [
       "\\begin{tabular}{r|ccc}\n",
       "\t& id & id2 & v\\\\\n",
       "\t\\hline\n",
       "\t& Int64 & Int64 & Float64\\\\\n",
       "\t\\hline\n",
       "\t1 & 1 & 1 & 0.225388 \\\\\n",
       "\t2 & 2 & 2 & 0.385866 \\\\\n",
       "\t3 & 3 & 1 & 0.349788 \\\\\n",
       "\t4 & 4 & 2 & 0.242284 \\\\\n",
       "\t5 & 1 & 1 & 0.345011 \\\\\n",
       "\t6 & 2 & 2 & 0.0225686 \\\\\n",
       "\t7 & 3 & 1 & 0.282489 \\\\\n",
       "\t8 & 4 & 2 & 0.986092 \\\\\n",
       "\\end{tabular}\n"
      ],
      "text/plain": [
       "\u001b[1m8×3 DataFrame\u001b[0m\n",
       "\u001b[1m Row \u001b[0m│\u001b[1m id    \u001b[0m\u001b[1m id2   \u001b[0m\u001b[1m v         \u001b[0m\n",
       "\u001b[1m     \u001b[0m│\u001b[90m Int64 \u001b[0m\u001b[90m Int64 \u001b[0m\u001b[90m Float64   \u001b[0m\n",
       "─────┼─────────────────────────\n",
       "   1 │     1      1  0.225388\n",
       "   2 │     2      2  0.385866\n",
       "   3 │     3      1  0.349788\n",
       "   4 │     4      2  0.242284\n",
       "   5 │     1      1  0.345011\n",
       "   6 │     2      2  0.0225686\n",
       "   7 │     3      1  0.282489\n",
       "   8 │     4      2  0.986092"
      ]
     },
     "execution_count": 6,
     "metadata": {},
     "output_type": "execute_result"
    }
   ],
   "source": [
    "parent(gx2) # get the parent DataFrame "
   ]
  },
  {
   "cell_type": "code",
   "execution_count": 7,
   "metadata": {},
   "outputs": [
    {
     "data": {
      "text/html": [
       "<div class=\"data-frame\"><p>8 rows × 3 columns</p><table class=\"data-frame\"><thead><tr><th></th><th>id</th><th>id2</th><th>v</th></tr><tr><th></th><th title=\"Int64\">Int64</th><th title=\"Int64\">Int64</th><th title=\"Float64\">Float64</th></tr></thead><tbody><tr><th>1</th><td>1</td><td>1</td><td>0.225388</td></tr><tr><th>2</th><td>1</td><td>1</td><td>0.345011</td></tr><tr><th>3</th><td>2</td><td>2</td><td>0.385866</td></tr><tr><th>4</th><td>2</td><td>2</td><td>0.0225686</td></tr><tr><th>5</th><td>3</td><td>1</td><td>0.349788</td></tr><tr><th>6</th><td>3</td><td>1</td><td>0.282489</td></tr><tr><th>7</th><td>4</td><td>2</td><td>0.242284</td></tr><tr><th>8</th><td>4</td><td>2</td><td>0.986092</td></tr></tbody></table></div>"
      ],
      "text/latex": [
       "\\begin{tabular}{r|ccc}\n",
       "\t& id & id2 & v\\\\\n",
       "\t\\hline\n",
       "\t& Int64 & Int64 & Float64\\\\\n",
       "\t\\hline\n",
       "\t1 & 1 & 1 & 0.225388 \\\\\n",
       "\t2 & 1 & 1 & 0.345011 \\\\\n",
       "\t3 & 2 & 2 & 0.385866 \\\\\n",
       "\t4 & 2 & 2 & 0.0225686 \\\\\n",
       "\t5 & 3 & 1 & 0.349788 \\\\\n",
       "\t6 & 3 & 1 & 0.282489 \\\\\n",
       "\t7 & 4 & 2 & 0.242284 \\\\\n",
       "\t8 & 4 & 2 & 0.986092 \\\\\n",
       "\\end{tabular}\n"
      ],
      "text/plain": [
       "\u001b[1m8×3 DataFrame\u001b[0m\n",
       "\u001b[1m Row \u001b[0m│\u001b[1m id    \u001b[0m\u001b[1m id2   \u001b[0m\u001b[1m v         \u001b[0m\n",
       "\u001b[1m     \u001b[0m│\u001b[90m Int64 \u001b[0m\u001b[90m Int64 \u001b[0m\u001b[90m Float64   \u001b[0m\n",
       "─────┼─────────────────────────\n",
       "   1 │     1      1  0.225388\n",
       "   2 │     1      1  0.345011\n",
       "   3 │     2      2  0.385866\n",
       "   4 │     2      2  0.0225686\n",
       "   5 │     3      1  0.349788\n",
       "   6 │     3      1  0.282489\n",
       "   7 │     4      2  0.242284\n",
       "   8 │     4      2  0.986092"
      ]
     },
     "execution_count": 7,
     "metadata": {},
     "output_type": "execute_result"
    }
   ],
   "source": [
    "vcat(gx2...) # back to the DataFrame, but in a different order of rows than the original"
   ]
  },
  {
   "cell_type": "code",
   "execution_count": 8,
   "metadata": {},
   "outputs": [
    {
     "data": {
      "text/html": [
       "<div class=\"data-frame\"><p>8 rows × 3 columns</p><table class=\"data-frame\"><thead><tr><th></th><th>id</th><th>id2</th><th>v</th></tr><tr><th></th><th title=\"Int64\">Int64</th><th title=\"Int64\">Int64</th><th title=\"Float64\">Float64</th></tr></thead><tbody><tr><th>1</th><td>1</td><td>1</td><td>0.225388</td></tr><tr><th>2</th><td>1</td><td>1</td><td>0.345011</td></tr><tr><th>3</th><td>2</td><td>2</td><td>0.385866</td></tr><tr><th>4</th><td>2</td><td>2</td><td>0.0225686</td></tr><tr><th>5</th><td>3</td><td>1</td><td>0.349788</td></tr><tr><th>6</th><td>3</td><td>1</td><td>0.282489</td></tr><tr><th>7</th><td>4</td><td>2</td><td>0.242284</td></tr><tr><th>8</th><td>4</td><td>2</td><td>0.986092</td></tr></tbody></table></div>"
      ],
      "text/latex": [
       "\\begin{tabular}{r|ccc}\n",
       "\t& id & id2 & v\\\\\n",
       "\t\\hline\n",
       "\t& Int64 & Int64 & Float64\\\\\n",
       "\t\\hline\n",
       "\t1 & 1 & 1 & 0.225388 \\\\\n",
       "\t2 & 1 & 1 & 0.345011 \\\\\n",
       "\t3 & 2 & 2 & 0.385866 \\\\\n",
       "\t4 & 2 & 2 & 0.0225686 \\\\\n",
       "\t5 & 3 & 1 & 0.349788 \\\\\n",
       "\t6 & 3 & 1 & 0.282489 \\\\\n",
       "\t7 & 4 & 2 & 0.242284 \\\\\n",
       "\t8 & 4 & 2 & 0.986092 \\\\\n",
       "\\end{tabular}\n"
      ],
      "text/plain": [
       "\u001b[1m8×3 DataFrame\u001b[0m\n",
       "\u001b[1m Row \u001b[0m│\u001b[1m id    \u001b[0m\u001b[1m id2   \u001b[0m\u001b[1m v         \u001b[0m\n",
       "\u001b[1m     \u001b[0m│\u001b[90m Int64 \u001b[0m\u001b[90m Int64 \u001b[0m\u001b[90m Float64   \u001b[0m\n",
       "─────┼─────────────────────────\n",
       "   1 │     1      1  0.225388\n",
       "   2 │     1      1  0.345011\n",
       "   3 │     2      2  0.385866\n",
       "   4 │     2      2  0.0225686\n",
       "   5 │     3      1  0.349788\n",
       "   6 │     3      1  0.282489\n",
       "   7 │     4      2  0.242284\n",
       "   8 │     4      2  0.986092"
      ]
     },
     "execution_count": 8,
     "metadata": {},
     "output_type": "execute_result"
    }
   ],
   "source": [
    "DataFrame(gx2) # the same"
   ]
  },
  {
   "cell_type": "code",
   "execution_count": 9,
   "metadata": {},
   "outputs": [
    {
     "data": {
      "text/html": [
       "<div class=\"data-frame\"><p>8 rows × 1 columns</p><table class=\"data-frame\"><thead><tr><th></th><th>v</th></tr><tr><th></th><th title=\"Float64\">Float64</th></tr></thead><tbody><tr><th>1</th><td>0.225388</td></tr><tr><th>2</th><td>0.345011</td></tr><tr><th>3</th><td>0.385866</td></tr><tr><th>4</th><td>0.0225686</td></tr><tr><th>5</th><td>0.349788</td></tr><tr><th>6</th><td>0.282489</td></tr><tr><th>7</th><td>0.242284</td></tr><tr><th>8</th><td>0.986092</td></tr></tbody></table></div>"
      ],
      "text/latex": [
       "\\begin{tabular}{r|c}\n",
       "\t& v\\\\\n",
       "\t\\hline\n",
       "\t& Float64\\\\\n",
       "\t\\hline\n",
       "\t1 & 0.225388 \\\\\n",
       "\t2 & 0.345011 \\\\\n",
       "\t3 & 0.385866 \\\\\n",
       "\t4 & 0.0225686 \\\\\n",
       "\t5 & 0.349788 \\\\\n",
       "\t6 & 0.282489 \\\\\n",
       "\t7 & 0.242284 \\\\\n",
       "\t8 & 0.986092 \\\\\n",
       "\\end{tabular}\n"
      ],
      "text/plain": [
       "\u001b[1m8×1 DataFrame\u001b[0m\n",
       "\u001b[1m Row \u001b[0m│\u001b[1m v         \u001b[0m\n",
       "\u001b[1m     \u001b[0m│\u001b[90m Float64   \u001b[0m\n",
       "─────┼───────────\n",
       "   1 │ 0.225388\n",
       "   2 │ 0.345011\n",
       "   3 │ 0.385866\n",
       "   4 │ 0.0225686\n",
       "   5 │ 0.349788\n",
       "   6 │ 0.282489\n",
       "   7 │ 0.242284\n",
       "   8 │ 0.986092"
      ]
     },
     "execution_count": 9,
     "metadata": {},
     "output_type": "execute_result"
    }
   ],
   "source": [
    "DataFrame(gx2, keepkeys=false) # drop grouping columns when creating a data frame"
   ]
  },
  {
   "cell_type": "code",
   "execution_count": 10,
   "metadata": {},
   "outputs": [
    {
     "data": {
      "text/plain": [
       "2-element Vector{Symbol}:\n",
       " :id\n",
       " :id2"
      ]
     },
     "execution_count": 10,
     "metadata": {},
     "output_type": "execute_result"
    }
   ],
   "source": [
    "groupcols(gx2) # vector of names of grouping variables"
   ]
  },
  {
   "cell_type": "code",
   "execution_count": 11,
   "metadata": {},
   "outputs": [
    {
     "data": {
      "text/plain": [
       "1-element Vector{Symbol}:\n",
       " :v"
      ]
     },
     "execution_count": 11,
     "metadata": {},
     "output_type": "execute_result"
    }
   ],
   "source": [
    "valuecols(gx2) # and non-grouping variables"
   ]
  },
  {
   "cell_type": "code",
   "execution_count": 12,
   "metadata": {},
   "outputs": [
    {
     "data": {
      "text/plain": [
       "8-element Vector{Union{Missing, Int64}}:\n",
       " 1\n",
       " 2\n",
       " 3\n",
       " 4\n",
       " 1\n",
       " 2\n",
       " 3\n",
       " 4"
      ]
     },
     "execution_count": 12,
     "metadata": {},
     "output_type": "execute_result"
    }
   ],
   "source": [
    "groupindices(gx2) # group indices in parent(gx2)"
   ]
  },
  {
   "cell_type": "code",
   "execution_count": 13,
   "metadata": {},
   "outputs": [
    {
     "data": {
      "text/plain": [
       "4-element DataFrames.GroupKeys{GroupedDataFrame{DataFrame}}:\n",
       " GroupKey: (id = 1, id2 = 1)\n",
       " GroupKey: (id = 2, id2 = 2)\n",
       " GroupKey: (id = 3, id2 = 1)\n",
       " GroupKey: (id = 4, id2 = 2)"
      ]
     },
     "execution_count": 13,
     "metadata": {},
     "output_type": "execute_result"
    }
   ],
   "source": [
    "kgx2 = keys(gx2)"
   ]
  },
  {
   "cell_type": "markdown",
   "metadata": {},
   "source": [
    "You can index into a `GroupedDataFrame` like to a vector or to a dictionary.\n",
    "The second form acceps `GroupKey`, `NamedTuple` or a `Tuple`"
   ]
  },
  {
   "cell_type": "code",
   "execution_count": 14,
   "metadata": {},
   "outputs": [
    {
     "data": {
      "text/html": [
       "<p><b>GroupedDataFrame with 4 groups based on keys: id, id2</b></p><p><i>First Group (2 rows): id = 1, id2 = 1</i></p><div class=\"data-frame\"><table class=\"data-frame\"><thead><tr><th></th><th>id</th><th>id2</th><th>v</th></tr><tr><th></th><th title=\"Int64\">Int64</th><th title=\"Int64\">Int64</th><th title=\"Float64\">Float64</th></tr></thead><tbody><tr><th>1</th><td>1</td><td>1</td><td>0.225388</td></tr><tr><th>2</th><td>1</td><td>1</td><td>0.345011</td></tr></tbody></table></div><p>&vellip;</p><p><i>Last Group (2 rows): id = 4, id2 = 2</i></p><div class=\"data-frame\"><table class=\"data-frame\"><thead><tr><th></th><th>id</th><th>id2</th><th>v</th></tr><tr><th></th><th title=\"Int64\">Int64</th><th title=\"Int64\">Int64</th><th title=\"Float64\">Float64</th></tr></thead><tbody><tr><th>1</th><td>4</td><td>2</td><td>0.242284</td></tr><tr><th>2</th><td>4</td><td>2</td><td>0.986092</td></tr></tbody></table></div>"
      ],
      "text/latex": [
       "GroupedDataFrame with 4 groups based on keys: id, id2\n",
       "\n",
       "First Group (2 rows): id = 1, id2 = 1\n",
       "\n",
       "\\begin{tabular}{r|ccc}\n",
       "\t& id & id2 & v\\\\\n",
       "\t\\hline\n",
       "\t& Int64 & Int64 & Float64\\\\\n",
       "\t\\hline\n",
       "\t1 & 1 & 1 & 0.225388 \\\\\n",
       "\t2 & 1 & 1 & 0.345011 \\\\\n",
       "\\end{tabular}\n",
       "\n",
       "$\\dots$\n",
       "\n",
       "Last Group (2 rows): id = 4, id2 = 2\n",
       "\n",
       "\\begin{tabular}{r|ccc}\n",
       "\t& id & id2 & v\\\\\n",
       "\t\\hline\n",
       "\t& Int64 & Int64 & Float64\\\\\n",
       "\t\\hline\n",
       "\t1 & 4 & 2 & 0.242284 \\\\\n",
       "\t2 & 4 & 2 & 0.986092 \\\\\n",
       "\\end{tabular}\n"
      ],
      "text/plain": [
       "GroupedDataFrame with 4 groups based on keys: id, id2\n",
       "First Group (2 rows): id = 1, id2 = 1\n",
       "\u001b[1m Row \u001b[0m│\u001b[1m id    \u001b[0m\u001b[1m id2   \u001b[0m\u001b[1m v        \u001b[0m\n",
       "\u001b[1m     \u001b[0m│\u001b[90m Int64 \u001b[0m\u001b[90m Int64 \u001b[0m\u001b[90m Float64  \u001b[0m\n",
       "─────┼────────────────────────\n",
       "   1 │     1      1  0.225388\n",
       "   2 │     1      1  0.345011\n",
       "⋮\n",
       "Last Group (2 rows): id = 4, id2 = 2\n",
       "\u001b[1m Row \u001b[0m│\u001b[1m id    \u001b[0m\u001b[1m id2   \u001b[0m\u001b[1m v        \u001b[0m\n",
       "\u001b[1m     \u001b[0m│\u001b[90m Int64 \u001b[0m\u001b[90m Int64 \u001b[0m\u001b[90m Float64  \u001b[0m\n",
       "─────┼────────────────────────\n",
       "   1 │     4      2  0.242284\n",
       "   2 │     4      2  0.986092"
      ]
     },
     "execution_count": 14,
     "metadata": {},
     "output_type": "execute_result"
    }
   ],
   "source": [
    "gx2"
   ]
  },
  {
   "cell_type": "code",
   "execution_count": 15,
   "metadata": {},
   "outputs": [
    {
     "data": {
      "text/plain": [
       "GroupKey: (id = 1, id2 = 1)"
      ]
     },
     "execution_count": 15,
     "metadata": {},
     "output_type": "execute_result"
    }
   ],
   "source": [
    "k = keys(gx2)[1]"
   ]
  },
  {
   "cell_type": "code",
   "execution_count": 16,
   "metadata": {},
   "outputs": [
    {
     "data": {
      "text/plain": [
       "(id = 1, id2 = 1)"
      ]
     },
     "execution_count": 16,
     "metadata": {},
     "output_type": "execute_result"
    }
   ],
   "source": [
    "ntk = NamedTuple(k)"
   ]
  },
  {
   "cell_type": "code",
   "execution_count": 17,
   "metadata": {},
   "outputs": [
    {
     "data": {
      "text/plain": [
       "(1, 1)"
      ]
     },
     "execution_count": 17,
     "metadata": {},
     "output_type": "execute_result"
    }
   ],
   "source": [
    "tk = Tuple(k)"
   ]
  },
  {
   "cell_type": "markdown",
   "metadata": {},
   "source": [
    "the operations below produce the same result and are fast"
   ]
  },
  {
   "cell_type": "code",
   "execution_count": 18,
   "metadata": {},
   "outputs": [
    {
     "data": {
      "text/html": [
       "<div class=\"data-frame\"><p>2 rows × 3 columns</p><table class=\"data-frame\"><thead><tr><th></th><th>id</th><th>id2</th><th>v</th></tr><tr><th></th><th title=\"Int64\">Int64</th><th title=\"Int64\">Int64</th><th title=\"Float64\">Float64</th></tr></thead><tbody><tr><th>1</th><td>1</td><td>1</td><td>0.225388</td></tr><tr><th>2</th><td>1</td><td>1</td><td>0.345011</td></tr></tbody></table></div>"
      ],
      "text/latex": [
       "\\begin{tabular}{r|ccc}\n",
       "\t& id & id2 & v\\\\\n",
       "\t\\hline\n",
       "\t& Int64 & Int64 & Float64\\\\\n",
       "\t\\hline\n",
       "\t1 & 1 & 1 & 0.225388 \\\\\n",
       "\t2 & 1 & 1 & 0.345011 \\\\\n",
       "\\end{tabular}\n"
      ],
      "text/plain": [
       "\u001b[1m2×3 SubDataFrame\u001b[0m\n",
       "\u001b[1m Row \u001b[0m│\u001b[1m id    \u001b[0m\u001b[1m id2   \u001b[0m\u001b[1m v        \u001b[0m\n",
       "\u001b[1m     \u001b[0m│\u001b[90m Int64 \u001b[0m\u001b[90m Int64 \u001b[0m\u001b[90m Float64  \u001b[0m\n",
       "─────┼────────────────────────\n",
       "   1 │     1      1  0.225388\n",
       "   2 │     1      1  0.345011"
      ]
     },
     "execution_count": 18,
     "metadata": {},
     "output_type": "execute_result"
    }
   ],
   "source": [
    "gx2[1]"
   ]
  },
  {
   "cell_type": "code",
   "execution_count": 19,
   "metadata": {},
   "outputs": [
    {
     "data": {
      "text/html": [
       "<div class=\"data-frame\"><p>2 rows × 3 columns</p><table class=\"data-frame\"><thead><tr><th></th><th>id</th><th>id2</th><th>v</th></tr><tr><th></th><th title=\"Int64\">Int64</th><th title=\"Int64\">Int64</th><th title=\"Float64\">Float64</th></tr></thead><tbody><tr><th>1</th><td>1</td><td>1</td><td>0.225388</td></tr><tr><th>2</th><td>1</td><td>1</td><td>0.345011</td></tr></tbody></table></div>"
      ],
      "text/latex": [
       "\\begin{tabular}{r|ccc}\n",
       "\t& id & id2 & v\\\\\n",
       "\t\\hline\n",
       "\t& Int64 & Int64 & Float64\\\\\n",
       "\t\\hline\n",
       "\t1 & 1 & 1 & 0.225388 \\\\\n",
       "\t2 & 1 & 1 & 0.345011 \\\\\n",
       "\\end{tabular}\n"
      ],
      "text/plain": [
       "\u001b[1m2×3 SubDataFrame\u001b[0m\n",
       "\u001b[1m Row \u001b[0m│\u001b[1m id    \u001b[0m\u001b[1m id2   \u001b[0m\u001b[1m v        \u001b[0m\n",
       "\u001b[1m     \u001b[0m│\u001b[90m Int64 \u001b[0m\u001b[90m Int64 \u001b[0m\u001b[90m Float64  \u001b[0m\n",
       "─────┼────────────────────────\n",
       "   1 │     1      1  0.225388\n",
       "   2 │     1      1  0.345011"
      ]
     },
     "execution_count": 19,
     "metadata": {},
     "output_type": "execute_result"
    }
   ],
   "source": [
    "gx2[k]"
   ]
  },
  {
   "cell_type": "code",
   "execution_count": 20,
   "metadata": {},
   "outputs": [
    {
     "data": {
      "text/html": [
       "<div class=\"data-frame\"><p>2 rows × 3 columns</p><table class=\"data-frame\"><thead><tr><th></th><th>id</th><th>id2</th><th>v</th></tr><tr><th></th><th title=\"Int64\">Int64</th><th title=\"Int64\">Int64</th><th title=\"Float64\">Float64</th></tr></thead><tbody><tr><th>1</th><td>1</td><td>1</td><td>0.225388</td></tr><tr><th>2</th><td>1</td><td>1</td><td>0.345011</td></tr></tbody></table></div>"
      ],
      "text/latex": [
       "\\begin{tabular}{r|ccc}\n",
       "\t& id & id2 & v\\\\\n",
       "\t\\hline\n",
       "\t& Int64 & Int64 & Float64\\\\\n",
       "\t\\hline\n",
       "\t1 & 1 & 1 & 0.225388 \\\\\n",
       "\t2 & 1 & 1 & 0.345011 \\\\\n",
       "\\end{tabular}\n"
      ],
      "text/plain": [
       "\u001b[1m2×3 SubDataFrame\u001b[0m\n",
       "\u001b[1m Row \u001b[0m│\u001b[1m id    \u001b[0m\u001b[1m id2   \u001b[0m\u001b[1m v        \u001b[0m\n",
       "\u001b[1m     \u001b[0m│\u001b[90m Int64 \u001b[0m\u001b[90m Int64 \u001b[0m\u001b[90m Float64  \u001b[0m\n",
       "─────┼────────────────────────\n",
       "   1 │     1      1  0.225388\n",
       "   2 │     1      1  0.345011"
      ]
     },
     "execution_count": 20,
     "metadata": {},
     "output_type": "execute_result"
    }
   ],
   "source": [
    "gx2[ntk]"
   ]
  },
  {
   "cell_type": "code",
   "execution_count": 21,
   "metadata": {},
   "outputs": [
    {
     "data": {
      "text/html": [
       "<div class=\"data-frame\"><p>2 rows × 3 columns</p><table class=\"data-frame\"><thead><tr><th></th><th>id</th><th>id2</th><th>v</th></tr><tr><th></th><th title=\"Int64\">Int64</th><th title=\"Int64\">Int64</th><th title=\"Float64\">Float64</th></tr></thead><tbody><tr><th>1</th><td>1</td><td>1</td><td>0.225388</td></tr><tr><th>2</th><td>1</td><td>1</td><td>0.345011</td></tr></tbody></table></div>"
      ],
      "text/latex": [
       "\\begin{tabular}{r|ccc}\n",
       "\t& id & id2 & v\\\\\n",
       "\t\\hline\n",
       "\t& Int64 & Int64 & Float64\\\\\n",
       "\t\\hline\n",
       "\t1 & 1 & 1 & 0.225388 \\\\\n",
       "\t2 & 1 & 1 & 0.345011 \\\\\n",
       "\\end{tabular}\n"
      ],
      "text/plain": [
       "\u001b[1m2×3 SubDataFrame\u001b[0m\n",
       "\u001b[1m Row \u001b[0m│\u001b[1m id    \u001b[0m\u001b[1m id2   \u001b[0m\u001b[1m v        \u001b[0m\n",
       "\u001b[1m     \u001b[0m│\u001b[90m Int64 \u001b[0m\u001b[90m Int64 \u001b[0m\u001b[90m Float64  \u001b[0m\n",
       "─────┼────────────────────────\n",
       "   1 │     1      1  0.225388\n",
       "   2 │     1      1  0.345011"
      ]
     },
     "execution_count": 21,
     "metadata": {},
     "output_type": "execute_result"
    }
   ],
   "source": [
    "gx2[tk]"
   ]
  },
  {
   "cell_type": "markdown",
   "metadata": {},
   "source": [
    "handling missing values"
   ]
  },
  {
   "cell_type": "code",
   "execution_count": 22,
   "metadata": {},
   "outputs": [
    {
     "data": {
      "text/html": [
       "<div class=\"data-frame\"><p>5 rows × 2 columns</p><table class=\"data-frame\"><thead><tr><th></th><th>id</th><th>x</th></tr><tr><th></th><th title=\"Union{Missing, Int64}\">Int64?</th><th title=\"Int64\">Int64</th></tr></thead><tbody><tr><th>1</th><td><em>missing</em></td><td>1</td></tr><tr><th>2</th><td>5</td><td>2</td></tr><tr><th>3</th><td>1</td><td>3</td></tr><tr><th>4</th><td>3</td><td>4</td></tr><tr><th>5</th><td><em>missing</em></td><td>5</td></tr></tbody></table></div>"
      ],
      "text/latex": [
       "\\begin{tabular}{r|cc}\n",
       "\t& id & x\\\\\n",
       "\t\\hline\n",
       "\t& Int64? & Int64\\\\\n",
       "\t\\hline\n",
       "\t1 & \\emph{missing} & 1 \\\\\n",
       "\t2 & 5 & 2 \\\\\n",
       "\t3 & 1 & 3 \\\\\n",
       "\t4 & 3 & 4 \\\\\n",
       "\t5 & \\emph{missing} & 5 \\\\\n",
       "\\end{tabular}\n"
      ],
      "text/plain": [
       "\u001b[1m5×2 DataFrame\u001b[0m\n",
       "\u001b[1m Row \u001b[0m│\u001b[1m id      \u001b[0m\u001b[1m x     \u001b[0m\n",
       "\u001b[1m     \u001b[0m│\u001b[90m Int64?  \u001b[0m\u001b[90m Int64 \u001b[0m\n",
       "─────┼────────────────\n",
       "   1 │\u001b[90m missing \u001b[0m     1\n",
       "   2 │       5      2\n",
       "   3 │       1      3\n",
       "   4 │       3      4\n",
       "   5 │\u001b[90m missing \u001b[0m     5"
      ]
     },
     "execution_count": 22,
     "metadata": {},
     "output_type": "execute_result"
    }
   ],
   "source": [
    "x = DataFrame(id = [missing, 5, 1, 3, missing], x = 1:5)"
   ]
  },
  {
   "cell_type": "code",
   "execution_count": 23,
   "metadata": {},
   "outputs": [
    {
     "data": {
      "text/html": [
       "<p><b>GroupedDataFrame with 4 groups based on key: id</b></p><p><i>First Group (1 row): id = 1</i></p><div class=\"data-frame\"><table class=\"data-frame\"><thead><tr><th></th><th>id</th><th>x</th></tr><tr><th></th><th title=\"Union{Missing, Int64}\">Int64?</th><th title=\"Int64\">Int64</th></tr></thead><tbody><tr><th>1</th><td>1</td><td>3</td></tr></tbody></table></div><p>&vellip;</p><p><i>Last Group (2 rows): id = missing</i></p><div class=\"data-frame\"><table class=\"data-frame\"><thead><tr><th></th><th>id</th><th>x</th></tr><tr><th></th><th title=\"Union{Missing, Int64}\">Int64?</th><th title=\"Int64\">Int64</th></tr></thead><tbody><tr><th>1</th><td><em>missing</em></td><td>1</td></tr><tr><th>2</th><td><em>missing</em></td><td>5</td></tr></tbody></table></div>"
      ],
      "text/latex": [
       "GroupedDataFrame with 4 groups based on key: id\n",
       "\n",
       "First Group (1 row): id = 1\n",
       "\n",
       "\\begin{tabular}{r|cc}\n",
       "\t& id & x\\\\\n",
       "\t\\hline\n",
       "\t& Int64? & Int64\\\\\n",
       "\t\\hline\n",
       "\t1 & 1 & 3 \\\\\n",
       "\\end{tabular}\n",
       "\n",
       "$\\dots$\n",
       "\n",
       "Last Group (2 rows): id = missing\n",
       "\n",
       "\\begin{tabular}{r|cc}\n",
       "\t& id & x\\\\\n",
       "\t\\hline\n",
       "\t& Int64? & Int64\\\\\n",
       "\t\\hline\n",
       "\t1 & \\emph{missing} & 1 \\\\\n",
       "\t2 & \\emph{missing} & 5 \\\\\n",
       "\\end{tabular}\n"
      ],
      "text/plain": [
       "GroupedDataFrame with 4 groups based on key: id\n",
       "First Group (1 row): id = 1\n",
       "\u001b[1m Row \u001b[0m│\u001b[1m id     \u001b[0m\u001b[1m x     \u001b[0m\n",
       "\u001b[1m     \u001b[0m│\u001b[90m Int64? \u001b[0m\u001b[90m Int64 \u001b[0m\n",
       "─────┼───────────────\n",
       "   1 │      1      3\n",
       "⋮\n",
       "Last Group (2 rows): id = missing\n",
       "\u001b[1m Row \u001b[0m│\u001b[1m id      \u001b[0m\u001b[1m x     \u001b[0m\n",
       "\u001b[1m     \u001b[0m│\u001b[90m Int64?  \u001b[0m\u001b[90m Int64 \u001b[0m\n",
       "─────┼────────────────\n",
       "   1 │\u001b[90m missing \u001b[0m     1\n",
       "   2 │\u001b[90m missing \u001b[0m     5"
      ]
     },
     "execution_count": 23,
     "metadata": {},
     "output_type": "execute_result"
    }
   ],
   "source": [
    "groupby(x, :id) # by default groups include mising values and are not sorted"
   ]
  },
  {
   "cell_type": "code",
   "execution_count": 24,
   "metadata": {},
   "outputs": [
    {
     "data": {
      "text/html": [
       "<p><b>GroupedDataFrame with 3 groups based on key: id</b></p><p><i>First Group (1 row): id = 1</i></p><div class=\"data-frame\"><table class=\"data-frame\"><thead><tr><th></th><th>id</th><th>x</th></tr><tr><th></th><th title=\"Union{Missing, Int64}\">Int64?</th><th title=\"Int64\">Int64</th></tr></thead><tbody><tr><th>1</th><td>1</td><td>3</td></tr></tbody></table></div><p>&vellip;</p><p><i>Last Group (1 row): id = 5</i></p><div class=\"data-frame\"><table class=\"data-frame\"><thead><tr><th></th><th>id</th><th>x</th></tr><tr><th></th><th title=\"Union{Missing, Int64}\">Int64?</th><th title=\"Int64\">Int64</th></tr></thead><tbody><tr><th>1</th><td>5</td><td>2</td></tr></tbody></table></div>"
      ],
      "text/latex": [
       "GroupedDataFrame with 3 groups based on key: id\n",
       "\n",
       "First Group (1 row): id = 1\n",
       "\n",
       "\\begin{tabular}{r|cc}\n",
       "\t& id & x\\\\\n",
       "\t\\hline\n",
       "\t& Int64? & Int64\\\\\n",
       "\t\\hline\n",
       "\t1 & 1 & 3 \\\\\n",
       "\\end{tabular}\n",
       "\n",
       "$\\dots$\n",
       "\n",
       "Last Group (1 row): id = 5\n",
       "\n",
       "\\begin{tabular}{r|cc}\n",
       "\t& id & x\\\\\n",
       "\t\\hline\n",
       "\t& Int64? & Int64\\\\\n",
       "\t\\hline\n",
       "\t1 & 5 & 2 \\\\\n",
       "\\end{tabular}\n"
      ],
      "text/plain": [
       "GroupedDataFrame with 3 groups based on key: id\n",
       "First Group (1 row): id = 1\n",
       "\u001b[1m Row \u001b[0m│\u001b[1m id     \u001b[0m\u001b[1m x     \u001b[0m\n",
       "\u001b[1m     \u001b[0m│\u001b[90m Int64? \u001b[0m\u001b[90m Int64 \u001b[0m\n",
       "─────┼───────────────\n",
       "   1 │      1      3\n",
       "⋮\n",
       "Last Group (1 row): id = 5\n",
       "\u001b[1m Row \u001b[0m│\u001b[1m id     \u001b[0m\u001b[1m x     \u001b[0m\n",
       "\u001b[1m     \u001b[0m│\u001b[90m Int64? \u001b[0m\u001b[90m Int64 \u001b[0m\n",
       "─────┼───────────────\n",
       "   1 │      5      2"
      ]
     },
     "execution_count": 24,
     "metadata": {},
     "output_type": "execute_result"
    }
   ],
   "source": [
    "groupby(x, :id, sort=true, skipmissing=true) # but we can change it"
   ]
  },
  {
   "cell_type": "markdown",
   "metadata": {},
   "source": [
    "### Performing transformations by group using `combine`, `select`, `select!`, `transform`, and `transform!`"
   ]
  },
  {
   "cell_type": "code",
   "execution_count": 25,
   "metadata": {},
   "outputs": [],
   "source": [
    "using Statistics\n",
    "using Chain"
   ]
  },
  {
   "cell_type": "code",
   "execution_count": 26,
   "metadata": {},
   "outputs": [
    {
     "data": {
      "text/plain": [
       "15"
      ]
     },
     "execution_count": 26,
     "metadata": {},
     "output_type": "execute_result"
    }
   ],
   "source": [
    "ENV[\"LINES\"] = 15 # reduce the number of rows in the output"
   ]
  },
  {
   "cell_type": "code",
   "execution_count": 27,
   "metadata": {},
   "outputs": [
    {
     "data": {
      "text/html": [
       "<div class=\"data-frame\"><p>100 rows × 2 columns</p><table class=\"data-frame\"><thead><tr><th></th><th>id</th><th>v</th></tr><tr><th></th><th title=\"Char\">Char</th><th title=\"Float64\">Float64</th></tr></thead><tbody><tr><th>1</th><td>b</td><td>0.67658</td></tr><tr><th>2</th><td>c</td><td>0.0860583</td></tr><tr><th>3</th><td>d</td><td>0.68343</td></tr><tr><th>4</th><td>a</td><td>0.80303</td></tr><tr><th>5</th><td>a</td><td>0.464613</td></tr><tr><th>6</th><td>d</td><td>0.271104</td></tr><tr><th>7</th><td>a</td><td>0.494958</td></tr><tr><th>8</th><td>d</td><td>0.976484</td></tr><tr><th>9</th><td>b</td><td>0.0256035</td></tr><tr><th>10</th><td>b</td><td>0.700907</td></tr><tr><th>11</th><td>d</td><td>0.808998</td></tr><tr><th>12</th><td>d</td><td>0.0418084</td></tr><tr><th>13</th><td>b</td><td>0.699859</td></tr><tr><th>14</th><td>b</td><td>0.577306</td></tr><tr><th>15</th><td>c</td><td>0.585681</td></tr><tr><th>&vellip;</th><td>&vellip;</td><td>&vellip;</td></tr></tbody></table></div>"
      ],
      "text/latex": [
       "\\begin{tabular}{r|cc}\n",
       "\t& id & v\\\\\n",
       "\t\\hline\n",
       "\t& Char & Float64\\\\\n",
       "\t\\hline\n",
       "\t1 & b & 0.67658 \\\\\n",
       "\t2 & c & 0.0860583 \\\\\n",
       "\t3 & d & 0.68343 \\\\\n",
       "\t4 & a & 0.80303 \\\\\n",
       "\t5 & a & 0.464613 \\\\\n",
       "\t6 & d & 0.271104 \\\\\n",
       "\t7 & a & 0.494958 \\\\\n",
       "\t8 & d & 0.976484 \\\\\n",
       "\t9 & b & 0.0256035 \\\\\n",
       "\t10 & b & 0.700907 \\\\\n",
       "\t11 & d & 0.808998 \\\\\n",
       "\t12 & d & 0.0418084 \\\\\n",
       "\t13 & b & 0.699859 \\\\\n",
       "\t14 & b & 0.577306 \\\\\n",
       "\t15 & c & 0.585681 \\\\\n",
       "\t$\\dots$ & $\\dots$ & $\\dots$ \\\\\n",
       "\\end{tabular}\n"
      ],
      "text/plain": [
       "\u001b[1m100×2 DataFrame\u001b[0m\n",
       "\u001b[1m Row \u001b[0m│\u001b[1m id   \u001b[0m\u001b[1m v         \u001b[0m\n",
       "\u001b[1m     \u001b[0m│\u001b[90m Char \u001b[0m\u001b[90m Float64   \u001b[0m\n",
       "─────┼─────────────────\n",
       "   1 │ b     0.67658\n",
       "   2 │ c     0.0860583\n",
       "   3 │ d     0.68343\n",
       "  ⋮  │  ⋮        ⋮\n",
       "  98 │ c     0.950838\n",
       "  99 │ c     0.295687\n",
       " 100 │ a     0.661989\n",
       "\u001b[36m        94 rows omitted\u001b[0m"
      ]
     },
     "execution_count": 27,
     "metadata": {},
     "output_type": "execute_result"
    }
   ],
   "source": [
    "x = DataFrame(id=rand('a':'d', 100), v=rand(100))"
   ]
  },
  {
   "cell_type": "code",
   "execution_count": 28,
   "metadata": {},
   "outputs": [
    {
     "data": {
      "text/html": [
       "<div class=\"data-frame\"><p>4 rows × 2 columns</p><table class=\"data-frame\"><thead><tr><th></th><th>id</th><th>v_mean</th></tr><tr><th></th><th title=\"Char\">Char</th><th title=\"Float64\">Float64</th></tr></thead><tbody><tr><th>1</th><td>b</td><td>0.543869</td></tr><tr><th>2</th><td>c</td><td>0.441219</td></tr><tr><th>3</th><td>d</td><td>0.554413</td></tr><tr><th>4</th><td>a</td><td>0.407734</td></tr></tbody></table></div>"
      ],
      "text/latex": [
       "\\begin{tabular}{r|cc}\n",
       "\t& id & v\\_mean\\\\\n",
       "\t\\hline\n",
       "\t& Char & Float64\\\\\n",
       "\t\\hline\n",
       "\t1 & b & 0.543869 \\\\\n",
       "\t2 & c & 0.441219 \\\\\n",
       "\t3 & d & 0.554413 \\\\\n",
       "\t4 & a & 0.407734 \\\\\n",
       "\\end{tabular}\n"
      ],
      "text/plain": [
       "\u001b[1m4×2 DataFrame\u001b[0m\n",
       "\u001b[1m Row \u001b[0m│\u001b[1m id   \u001b[0m\u001b[1m v_mean   \u001b[0m\n",
       "\u001b[1m     \u001b[0m│\u001b[90m Char \u001b[0m\u001b[90m Float64  \u001b[0m\n",
       "─────┼────────────────\n",
       "   1 │ b     0.543869\n",
       "   2 │ c     0.441219\n",
       "   3 │ d     0.554413\n",
       "   4 │ a     0.407734"
      ]
     },
     "execution_count": 28,
     "metadata": {},
     "output_type": "execute_result"
    }
   ],
   "source": [
    "# apply a function to each group of a data frame\n",
    "# combine keeps as many rows as are returned from the function\n",
    "@chain x begin\n",
    "    groupby(:id)\n",
    "    combine(:v => mean)\n",
    "end"
   ]
  },
  {
   "cell_type": "code",
   "execution_count": 29,
   "metadata": {},
   "outputs": [
    {
     "data": {
      "text/plain": [
       "Base.OneTo(100)"
      ]
     },
     "execution_count": 29,
     "metadata": {},
     "output_type": "execute_result"
    }
   ],
   "source": [
    "x.id2 = axes(x, 1)"
   ]
  },
  {
   "cell_type": "code",
   "execution_count": 30,
   "metadata": {},
   "outputs": [
    {
     "data": {
      "text/html": [
       "<div class=\"data-frame\"><p>100 rows × 4 columns</p><table class=\"data-frame\"><thead><tr><th></th><th>id</th><th>v</th><th>id2</th><th>v_mean</th></tr><tr><th></th><th title=\"Char\">Char</th><th title=\"Float64\">Float64</th><th title=\"Int64\">Int64</th><th title=\"Float64\">Float64</th></tr></thead><tbody><tr><th>1</th><td>b</td><td>0.67658</td><td>1</td><td>0.543869</td></tr><tr><th>2</th><td>c</td><td>0.0860583</td><td>2</td><td>0.441219</td></tr><tr><th>3</th><td>d</td><td>0.68343</td><td>3</td><td>0.554413</td></tr><tr><th>4</th><td>a</td><td>0.80303</td><td>4</td><td>0.407734</td></tr><tr><th>5</th><td>a</td><td>0.464613</td><td>5</td><td>0.407734</td></tr><tr><th>6</th><td>d</td><td>0.271104</td><td>6</td><td>0.554413</td></tr><tr><th>7</th><td>a</td><td>0.494958</td><td>7</td><td>0.407734</td></tr><tr><th>8</th><td>d</td><td>0.976484</td><td>8</td><td>0.554413</td></tr><tr><th>9</th><td>b</td><td>0.0256035</td><td>9</td><td>0.543869</td></tr><tr><th>10</th><td>b</td><td>0.700907</td><td>10</td><td>0.543869</td></tr><tr><th>11</th><td>d</td><td>0.808998</td><td>11</td><td>0.554413</td></tr><tr><th>12</th><td>d</td><td>0.0418084</td><td>12</td><td>0.554413</td></tr><tr><th>13</th><td>b</td><td>0.699859</td><td>13</td><td>0.543869</td></tr><tr><th>14</th><td>b</td><td>0.577306</td><td>14</td><td>0.543869</td></tr><tr><th>15</th><td>c</td><td>0.585681</td><td>15</td><td>0.441219</td></tr><tr><th>&vellip;</th><td>&vellip;</td><td>&vellip;</td><td>&vellip;</td><td>&vellip;</td></tr></tbody></table></div>"
      ],
      "text/latex": [
       "\\begin{tabular}{r|cccc}\n",
       "\t& id & v & id2 & v\\_mean\\\\\n",
       "\t\\hline\n",
       "\t& Char & Float64 & Int64 & Float64\\\\\n",
       "\t\\hline\n",
       "\t1 & b & 0.67658 & 1 & 0.543869 \\\\\n",
       "\t2 & c & 0.0860583 & 2 & 0.441219 \\\\\n",
       "\t3 & d & 0.68343 & 3 & 0.554413 \\\\\n",
       "\t4 & a & 0.80303 & 4 & 0.407734 \\\\\n",
       "\t5 & a & 0.464613 & 5 & 0.407734 \\\\\n",
       "\t6 & d & 0.271104 & 6 & 0.554413 \\\\\n",
       "\t7 & a & 0.494958 & 7 & 0.407734 \\\\\n",
       "\t8 & d & 0.976484 & 8 & 0.554413 \\\\\n",
       "\t9 & b & 0.0256035 & 9 & 0.543869 \\\\\n",
       "\t10 & b & 0.700907 & 10 & 0.543869 \\\\\n",
       "\t11 & d & 0.808998 & 11 & 0.554413 \\\\\n",
       "\t12 & d & 0.0418084 & 12 & 0.554413 \\\\\n",
       "\t13 & b & 0.699859 & 13 & 0.543869 \\\\\n",
       "\t14 & b & 0.577306 & 14 & 0.543869 \\\\\n",
       "\t15 & c & 0.585681 & 15 & 0.441219 \\\\\n",
       "\t$\\dots$ & $\\dots$ & $\\dots$ & $\\dots$ & $\\dots$ \\\\\n",
       "\\end{tabular}\n"
      ],
      "text/plain": [
       "\u001b[1m100×4 DataFrame\u001b[0m\n",
       "\u001b[1m Row \u001b[0m│\u001b[1m id   \u001b[0m\u001b[1m v         \u001b[0m\u001b[1m id2   \u001b[0m\u001b[1m v_mean   \u001b[0m\n",
       "\u001b[1m     \u001b[0m│\u001b[90m Char \u001b[0m\u001b[90m Float64   \u001b[0m\u001b[90m Int64 \u001b[0m\u001b[90m Float64  \u001b[0m\n",
       "─────┼──────────────────────────────────\n",
       "   1 │ b     0.67658        1  0.543869\n",
       "   2 │ c     0.0860583      2  0.441219\n",
       "   3 │ d     0.68343        3  0.554413\n",
       "  ⋮  │  ⋮        ⋮        ⋮       ⋮\n",
       "  98 │ c     0.950838      98  0.441219\n",
       "  99 │ c     0.295687      99  0.441219\n",
       " 100 │ a     0.661989     100  0.407734\n",
       "\u001b[36m                         94 rows omitted\u001b[0m"
      ]
     },
     "execution_count": 30,
     "metadata": {},
     "output_type": "execute_result"
    }
   ],
   "source": [
    "# select and transform keep as many rows as are in the source data frame and in correct order\n",
    "# additionally transform keeps all columns from the source\n",
    "@chain x begin\n",
    "    groupby(:id)\n",
    "    transform(:v => mean)\n",
    "end"
   ]
  },
  {
   "cell_type": "code",
   "execution_count": 31,
   "metadata": {},
   "outputs": [
    {
     "data": {
      "text/html": [
       "<div class=\"data-frame\"><p>100 rows × 3 columns</p><table class=\"data-frame\"><thead><tr><th></th><th>id</th><th>id2</th><th>v_mean</th></tr><tr><th></th><th title=\"Char\">Char</th><th title=\"Int64\">Int64</th><th title=\"Float64\">Float64</th></tr></thead><tbody><tr><th>1</th><td>b</td><td>1</td><td>0.543869</td></tr><tr><th>2</th><td>b</td><td>9</td><td>0.543869</td></tr><tr><th>3</th><td>b</td><td>10</td><td>0.543869</td></tr><tr><th>4</th><td>b</td><td>13</td><td>0.543869</td></tr><tr><th>5</th><td>b</td><td>14</td><td>0.543869</td></tr><tr><th>6</th><td>b</td><td>16</td><td>0.543869</td></tr><tr><th>7</th><td>b</td><td>24</td><td>0.543869</td></tr><tr><th>8</th><td>b</td><td>26</td><td>0.543869</td></tr><tr><th>9</th><td>b</td><td>27</td><td>0.543869</td></tr><tr><th>10</th><td>b</td><td>30</td><td>0.543869</td></tr><tr><th>11</th><td>b</td><td>31</td><td>0.543869</td></tr><tr><th>12</th><td>b</td><td>42</td><td>0.543869</td></tr><tr><th>13</th><td>b</td><td>52</td><td>0.543869</td></tr><tr><th>14</th><td>b</td><td>59</td><td>0.543869</td></tr><tr><th>15</th><td>b</td><td>62</td><td>0.543869</td></tr><tr><th>&vellip;</th><td>&vellip;</td><td>&vellip;</td><td>&vellip;</td></tr></tbody></table></div>"
      ],
      "text/latex": [
       "\\begin{tabular}{r|ccc}\n",
       "\t& id & id2 & v\\_mean\\\\\n",
       "\t\\hline\n",
       "\t& Char & Int64 & Float64\\\\\n",
       "\t\\hline\n",
       "\t1 & b & 1 & 0.543869 \\\\\n",
       "\t2 & b & 9 & 0.543869 \\\\\n",
       "\t3 & b & 10 & 0.543869 \\\\\n",
       "\t4 & b & 13 & 0.543869 \\\\\n",
       "\t5 & b & 14 & 0.543869 \\\\\n",
       "\t6 & b & 16 & 0.543869 \\\\\n",
       "\t7 & b & 24 & 0.543869 \\\\\n",
       "\t8 & b & 26 & 0.543869 \\\\\n",
       "\t9 & b & 27 & 0.543869 \\\\\n",
       "\t10 & b & 30 & 0.543869 \\\\\n",
       "\t11 & b & 31 & 0.543869 \\\\\n",
       "\t12 & b & 42 & 0.543869 \\\\\n",
       "\t13 & b & 52 & 0.543869 \\\\\n",
       "\t14 & b & 59 & 0.543869 \\\\\n",
       "\t15 & b & 62 & 0.543869 \\\\\n",
       "\t$\\dots$ & $\\dots$ & $\\dots$ & $\\dots$ \\\\\n",
       "\\end{tabular}\n"
      ],
      "text/plain": [
       "\u001b[1m100×3 DataFrame\u001b[0m\n",
       "\u001b[1m Row \u001b[0m│\u001b[1m id   \u001b[0m\u001b[1m id2   \u001b[0m\u001b[1m v_mean   \u001b[0m\n",
       "\u001b[1m     \u001b[0m│\u001b[90m Char \u001b[0m\u001b[90m Int64 \u001b[0m\u001b[90m Float64  \u001b[0m\n",
       "─────┼───────────────────────\n",
       "   1 │ b         1  0.543869\n",
       "   2 │ b         9  0.543869\n",
       "   3 │ b        10  0.543869\n",
       "  ⋮  │  ⋮      ⋮       ⋮\n",
       "  98 │ a        93  0.407734\n",
       "  99 │ a        95  0.407734\n",
       " 100 │ a       100  0.407734\n",
       "\u001b[36m              94 rows omitted\u001b[0m"
      ]
     },
     "execution_count": 31,
     "metadata": {},
     "output_type": "execute_result"
    }
   ],
   "source": [
    "# note that combine reorders rows by group of GroupedDataFrame\n",
    "@chain x begin\n",
    "    groupby(:id)\n",
    "    combine(:id2, :v => mean)\n",
    "end"
   ]
  },
  {
   "cell_type": "code",
   "execution_count": 32,
   "metadata": {},
   "outputs": [
    {
     "data": {
      "text/html": [
       "<div class=\"data-frame\"><p>4 rows × 2 columns</p><table class=\"data-frame\"><thead><tr><th></th><th>id</th><th>res</th></tr><tr><th></th><th title=\"Char\">Char</th><th title=\"Float64\">Float64</th></tr></thead><tbody><tr><th>1</th><td>b</td><td>0.543869</td></tr><tr><th>2</th><td>c</td><td>0.441219</td></tr><tr><th>3</th><td>d</td><td>0.554413</td></tr><tr><th>4</th><td>a</td><td>0.407734</td></tr></tbody></table></div>"
      ],
      "text/latex": [
       "\\begin{tabular}{r|cc}\n",
       "\t& id & res\\\\\n",
       "\t\\hline\n",
       "\t& Char & Float64\\\\\n",
       "\t\\hline\n",
       "\t1 & b & 0.543869 \\\\\n",
       "\t2 & c & 0.441219 \\\\\n",
       "\t3 & d & 0.554413 \\\\\n",
       "\t4 & a & 0.407734 \\\\\n",
       "\\end{tabular}\n"
      ],
      "text/plain": [
       "\u001b[1m4×2 DataFrame\u001b[0m\n",
       "\u001b[1m Row \u001b[0m│\u001b[1m id   \u001b[0m\u001b[1m res      \u001b[0m\n",
       "\u001b[1m     \u001b[0m│\u001b[90m Char \u001b[0m\u001b[90m Float64  \u001b[0m\n",
       "─────┼────────────────\n",
       "   1 │ b     0.543869\n",
       "   2 │ c     0.441219\n",
       "   3 │ d     0.554413\n",
       "   4 │ a     0.407734"
      ]
     },
     "execution_count": 32,
     "metadata": {},
     "output_type": "execute_result"
    }
   ],
   "source": [
    "# we give a custom name for the result column\n",
    "@chain x begin\n",
    "    groupby(:id)\n",
    "    combine(:v => mean => :res)\n",
    "end"
   ]
  },
  {
   "cell_type": "code",
   "execution_count": 33,
   "metadata": {},
   "outputs": [
    {
     "data": {
      "text/html": [
       "<div class=\"data-frame\"><p>4 rows × 4 columns</p><table class=\"data-frame\"><thead><tr><th></th><th>id</th><th>res1</th><th>res2</th><th>n</th></tr><tr><th></th><th title=\"Char\">Char</th><th title=\"Float64\">Float64</th><th title=\"Float64\">Float64</th><th title=\"Int64\">Int64</th></tr></thead><tbody><tr><th>1</th><td>b</td><td>0.543869</td><td>14.6845</td><td>27</td></tr><tr><th>2</th><td>c</td><td>0.441219</td><td>11.9129</td><td>27</td></tr><tr><th>3</th><td>d</td><td>0.554413</td><td>14.4147</td><td>26</td></tr><tr><th>4</th><td>a</td><td>0.407734</td><td>8.15469</td><td>20</td></tr></tbody></table></div>"
      ],
      "text/latex": [
       "\\begin{tabular}{r|cccc}\n",
       "\t& id & res1 & res2 & n\\\\\n",
       "\t\\hline\n",
       "\t& Char & Float64 & Float64 & Int64\\\\\n",
       "\t\\hline\n",
       "\t1 & b & 0.543869 & 14.6845 & 27 \\\\\n",
       "\t2 & c & 0.441219 & 11.9129 & 27 \\\\\n",
       "\t3 & d & 0.554413 & 14.4147 & 26 \\\\\n",
       "\t4 & a & 0.407734 & 8.15469 & 20 \\\\\n",
       "\\end{tabular}\n"
      ],
      "text/plain": [
       "\u001b[1m4×4 DataFrame\u001b[0m\n",
       "\u001b[1m Row \u001b[0m│\u001b[1m id   \u001b[0m\u001b[1m res1     \u001b[0m\u001b[1m res2     \u001b[0m\u001b[1m n     \u001b[0m\n",
       "\u001b[1m     \u001b[0m│\u001b[90m Char \u001b[0m\u001b[90m Float64  \u001b[0m\u001b[90m Float64  \u001b[0m\u001b[90m Int64 \u001b[0m\n",
       "─────┼─────────────────────────────────\n",
       "   1 │ b     0.543869  14.6845      27\n",
       "   2 │ c     0.441219  11.9129      27\n",
       "   3 │ d     0.554413  14.4147      26\n",
       "   4 │ a     0.407734   8.15469     20"
      ]
     },
     "execution_count": 33,
     "metadata": {},
     "output_type": "execute_result"
    }
   ],
   "source": [
    "# you can have multiple operations\n",
    "@chain x begin\n",
    "    groupby(:id)\n",
    "    combine(:v => mean => :res1, :v => sum => :res2, nrow => :n)\n",
    "end"
   ]
  },
  {
   "cell_type": "markdown",
   "metadata": {},
   "source": [
    "Additional notes:\n",
    "* `select!` and `transform!` perform operations in-place\n",
    "* The general syntax for transformation is `source_columns => function => target_column`\n",
    "* if you pass multiple columns to a function they are treated as positional arguments\n",
    "* `ByRow` and `AsTable` work exactly like discussed for operations on data frames in 05_columns.ipynb\n",
    "* you can automatically groupby again the result of `combine`, `select` etc. by passing `ungroup=false` keyword argument to them\n",
    "* similarly `keepkeys` keyword argument allows you to drop grouping columns from the resulting data frame"
   ]
  },
  {
   "cell_type": "markdown",
   "metadata": {},
   "source": [
    "It is also allowed to pass a function to all these functions (also - as a special case, as a first argument). In this case the return value can be a table. In particular it allows for an easy dropping of groups if you return an empty table from the function.\n",
    "\n",
    "If you pass a function you can use a `do` block syntax. In case of passing a function it gets a `SubDataFrame` as its argument.\n",
    "\n",
    "Here is an example:"
   ]
  },
  {
   "cell_type": "code",
   "execution_count": 34,
   "metadata": {},
   "outputs": [
    {
     "data": {
      "text/html": [
       "<div class=\"data-frame\"><p>3 rows × 2 columns</p><table class=\"data-frame\"><thead><tr><th></th><th>id</th><th>n</th></tr><tr><th></th><th title=\"Char\">Char</th><th title=\"Int64\">Int64</th></tr></thead><tbody><tr><th>1</th><td>b</td><td>27</td></tr><tr><th>2</th><td>c</td><td>27</td></tr><tr><th>3</th><td>d</td><td>26</td></tr></tbody></table></div>"
      ],
      "text/latex": [
       "\\begin{tabular}{r|cc}\n",
       "\t& id & n\\\\\n",
       "\t\\hline\n",
       "\t& Char & Int64\\\\\n",
       "\t\\hline\n",
       "\t1 & b & 27 \\\\\n",
       "\t2 & c & 27 \\\\\n",
       "\t3 & d & 26 \\\\\n",
       "\\end{tabular}\n"
      ],
      "text/plain": [
       "\u001b[1m3×2 DataFrame\u001b[0m\n",
       "\u001b[1m Row \u001b[0m│\u001b[1m id   \u001b[0m\u001b[1m n     \u001b[0m\n",
       "\u001b[1m     \u001b[0m│\u001b[90m Char \u001b[0m\u001b[90m Int64 \u001b[0m\n",
       "─────┼─────────────\n",
       "   1 │ b        27\n",
       "   2 │ c        27\n",
       "   3 │ d        26"
      ]
     },
     "execution_count": 34,
     "metadata": {},
     "output_type": "execute_result"
    }
   ],
   "source": [
    "combine(groupby(x, :id)) do sdf\n",
    "    n = nrow(sdf)\n",
    "    n < 25 ? DataFrame() : DataFrame(n=n) # drop groups with low number of rows\n",
    "end"
   ]
  },
  {
   "cell_type": "markdown",
   "metadata": {},
   "source": [
    "You can also produce multiple columns in a single operation, e.g.:"
   ]
  },
  {
   "cell_type": "code",
   "execution_count": 35,
   "metadata": {},
   "outputs": [
    {
     "data": {
      "text/html": [
       "<div class=\"data-frame\"><p>4 rows × 2 columns</p><table class=\"data-frame\"><thead><tr><th></th><th>id</th><th>val</th></tr><tr><th></th><th title=\"Int64\">Int64</th><th title=\"Int64\">Int64</th></tr></thead><tbody><tr><th>1</th><td>1</td><td>1</td></tr><tr><th>2</th><td>1</td><td>2</td></tr><tr><th>3</th><td>2</td><td>3</td></tr><tr><th>4</th><td>2</td><td>4</td></tr></tbody></table></div>"
      ],
      "text/latex": [
       "\\begin{tabular}{r|cc}\n",
       "\t& id & val\\\\\n",
       "\t\\hline\n",
       "\t& Int64 & Int64\\\\\n",
       "\t\\hline\n",
       "\t1 & 1 & 1 \\\\\n",
       "\t2 & 1 & 2 \\\\\n",
       "\t3 & 2 & 3 \\\\\n",
       "\t4 & 2 & 4 \\\\\n",
       "\\end{tabular}\n"
      ],
      "text/plain": [
       "\u001b[1m4×2 DataFrame\u001b[0m\n",
       "\u001b[1m Row \u001b[0m│\u001b[1m id    \u001b[0m\u001b[1m val   \u001b[0m\n",
       "\u001b[1m     \u001b[0m│\u001b[90m Int64 \u001b[0m\u001b[90m Int64 \u001b[0m\n",
       "─────┼──────────────\n",
       "   1 │     1      1\n",
       "   2 │     1      2\n",
       "   3 │     2      3\n",
       "   4 │     2      4"
      ]
     },
     "execution_count": 35,
     "metadata": {},
     "output_type": "execute_result"
    }
   ],
   "source": [
    "df = DataFrame(id=[1,1,2,2], val=[1,2,3,4])"
   ]
  },
  {
   "cell_type": "code",
   "execution_count": 36,
   "metadata": {},
   "outputs": [
    {
     "data": {
      "text/html": [
       "<div class=\"data-frame\"><p>2 rows × 3 columns</p><table class=\"data-frame\"><thead><tr><th></th><th>id</th><th>x1</th><th>x2</th></tr><tr><th></th><th title=\"Int64\">Int64</th><th title=\"Int64\">Int64</th><th title=\"Int64\">Int64</th></tr></thead><tbody><tr><th>1</th><td>1</td><td>1</td><td>2</td></tr><tr><th>2</th><td>2</td><td>3</td><td>4</td></tr></tbody></table></div>"
      ],
      "text/latex": [
       "\\begin{tabular}{r|ccc}\n",
       "\t& id & x1 & x2\\\\\n",
       "\t\\hline\n",
       "\t& Int64 & Int64 & Int64\\\\\n",
       "\t\\hline\n",
       "\t1 & 1 & 1 & 2 \\\\\n",
       "\t2 & 2 & 3 & 4 \\\\\n",
       "\\end{tabular}\n"
      ],
      "text/plain": [
       "\u001b[1m2×3 DataFrame\u001b[0m\n",
       "\u001b[1m Row \u001b[0m│\u001b[1m id    \u001b[0m\u001b[1m x1    \u001b[0m\u001b[1m x2    \u001b[0m\n",
       "\u001b[1m     \u001b[0m│\u001b[90m Int64 \u001b[0m\u001b[90m Int64 \u001b[0m\u001b[90m Int64 \u001b[0m\n",
       "─────┼─────────────────────\n",
       "   1 │     1      1      2\n",
       "   2 │     2      3      4"
      ]
     },
     "execution_count": 36,
     "metadata": {},
     "output_type": "execute_result"
    }
   ],
   "source": [
    "@chain df begin\n",
    "    groupby(:id)\n",
    "    combine(:val => (x -> [x]) => AsTable)\n",
    "end"
   ]
  },
  {
   "cell_type": "code",
   "execution_count": 37,
   "metadata": {},
   "outputs": [
    {
     "data": {
      "text/html": [
       "<div class=\"data-frame\"><p>2 rows × 3 columns</p><table class=\"data-frame\"><thead><tr><th></th><th>id</th><th>c1</th><th>c2</th></tr><tr><th></th><th title=\"Int64\">Int64</th><th title=\"Int64\">Int64</th><th title=\"Int64\">Int64</th></tr></thead><tbody><tr><th>1</th><td>1</td><td>1</td><td>2</td></tr><tr><th>2</th><td>2</td><td>3</td><td>4</td></tr></tbody></table></div>"
      ],
      "text/latex": [
       "\\begin{tabular}{r|ccc}\n",
       "\t& id & c1 & c2\\\\\n",
       "\t\\hline\n",
       "\t& Int64 & Int64 & Int64\\\\\n",
       "\t\\hline\n",
       "\t1 & 1 & 1 & 2 \\\\\n",
       "\t2 & 2 & 3 & 4 \\\\\n",
       "\\end{tabular}\n"
      ],
      "text/plain": [
       "\u001b[1m2×3 DataFrame\u001b[0m\n",
       "\u001b[1m Row \u001b[0m│\u001b[1m id    \u001b[0m\u001b[1m c1    \u001b[0m\u001b[1m c2    \u001b[0m\n",
       "\u001b[1m     \u001b[0m│\u001b[90m Int64 \u001b[0m\u001b[90m Int64 \u001b[0m\u001b[90m Int64 \u001b[0m\n",
       "─────┼─────────────────────\n",
       "   1 │     1      1      2\n",
       "   2 │     2      3      4"
      ]
     },
     "execution_count": 37,
     "metadata": {},
     "output_type": "execute_result"
    }
   ],
   "source": [
    "@chain df begin\n",
    "    groupby(:id)\n",
    "    combine(:val => (x -> [x]) => [:c1, :c2])\n",
    "end"
   ]
  },
  {
   "cell_type": "markdown",
   "metadata": {},
   "source": [
    "It is easy to unnest the column into multiple columns, e.g."
   ]
  },
  {
   "cell_type": "code",
   "execution_count": 38,
   "metadata": {},
   "outputs": [
    {
     "data": {
      "text/html": [
       "<div class=\"data-frame\"><p>2 rows × 1 columns</p><table class=\"data-frame\"><thead><tr><th></th><th>a</th></tr><tr><th></th><th title=\"NamedTuple{(:p, :q), Tuple{Int64, Int64}}\">NamedTu…</th></tr></thead><tbody><tr><th>1</th><td>(p = 1, q = 2)</td></tr><tr><th>2</th><td>(p = 3, q = 4)</td></tr></tbody></table></div>"
      ],
      "text/latex": [
       "\\begin{tabular}{r|c}\n",
       "\t& a\\\\\n",
       "\t\\hline\n",
       "\t& NamedTu…\\\\\n",
       "\t\\hline\n",
       "\t1 & (p = 1, q = 2) \\\\\n",
       "\t2 & (p = 3, q = 4) \\\\\n",
       "\\end{tabular}\n"
      ],
      "text/plain": [
       "\u001b[1m2×1 DataFrame\u001b[0m\n",
       "\u001b[1m Row \u001b[0m│\u001b[1m a              \u001b[0m\n",
       "\u001b[1m     \u001b[0m│\u001b[90m NamedTup…      \u001b[0m\n",
       "─────┼────────────────\n",
       "   1 │ (p = 1, q = 2)\n",
       "   2 │ (p = 3, q = 4)"
      ]
     },
     "execution_count": 38,
     "metadata": {},
     "output_type": "execute_result"
    }
   ],
   "source": [
    "df = DataFrame(a=[(p=1, q=2), (p=3, q=4)])"
   ]
  },
  {
   "cell_type": "code",
   "execution_count": 39,
   "metadata": {},
   "outputs": [
    {
     "data": {
      "text/html": [
       "<div class=\"data-frame\"><p>2 rows × 2 columns</p><table class=\"data-frame\"><thead><tr><th></th><th>p</th><th>q</th></tr><tr><th></th><th title=\"Int64\">Int64</th><th title=\"Int64\">Int64</th></tr></thead><tbody><tr><th>1</th><td>1</td><td>2</td></tr><tr><th>2</th><td>3</td><td>4</td></tr></tbody></table></div>"
      ],
      "text/latex": [
       "\\begin{tabular}{r|cc}\n",
       "\t& p & q\\\\\n",
       "\t\\hline\n",
       "\t& Int64 & Int64\\\\\n",
       "\t\\hline\n",
       "\t1 & 1 & 2 \\\\\n",
       "\t2 & 3 & 4 \\\\\n",
       "\\end{tabular}\n"
      ],
      "text/plain": [
       "\u001b[1m2×2 DataFrame\u001b[0m\n",
       "\u001b[1m Row \u001b[0m│\u001b[1m p     \u001b[0m\u001b[1m q     \u001b[0m\n",
       "\u001b[1m     \u001b[0m│\u001b[90m Int64 \u001b[0m\u001b[90m Int64 \u001b[0m\n",
       "─────┼──────────────\n",
       "   1 │     1      2\n",
       "   2 │     3      4"
      ]
     },
     "execution_count": 39,
     "metadata": {},
     "output_type": "execute_result"
    }
   ],
   "source": [
    "select(df, :a => AsTable)"
   ]
  },
  {
   "cell_type": "code",
   "execution_count": 40,
   "metadata": {},
   "outputs": [
    {
     "data": {
      "text/html": [
       "<div class=\"data-frame\"><p>2 rows × 1 columns</p><table class=\"data-frame\"><thead><tr><th></th><th>a</th></tr><tr><th></th><th title=\"Vector{Int64}\">Array…</th></tr></thead><tbody><tr><th>1</th><td>[1, 2]</td></tr><tr><th>2</th><td>[3, 4]</td></tr></tbody></table></div>"
      ],
      "text/latex": [
       "\\begin{tabular}{r|c}\n",
       "\t& a\\\\\n",
       "\t\\hline\n",
       "\t& Array…\\\\\n",
       "\t\\hline\n",
       "\t1 & [1, 2] \\\\\n",
       "\t2 & [3, 4] \\\\\n",
       "\\end{tabular}\n"
      ],
      "text/plain": [
       "\u001b[1m2×1 DataFrame\u001b[0m\n",
       "\u001b[1m Row \u001b[0m│\u001b[1m a      \u001b[0m\n",
       "\u001b[1m     \u001b[0m│\u001b[90m Array… \u001b[0m\n",
       "─────┼────────\n",
       "   1 │ [1, 2]\n",
       "   2 │ [3, 4]"
      ]
     },
     "execution_count": 40,
     "metadata": {},
     "output_type": "execute_result"
    }
   ],
   "source": [
    "df = DataFrame(a=[[1, 2], [3, 4]])"
   ]
  },
  {
   "cell_type": "code",
   "execution_count": 41,
   "metadata": {},
   "outputs": [
    {
     "data": {
      "text/html": [
       "<div class=\"data-frame\"><p>2 rows × 2 columns</p><table class=\"data-frame\"><thead><tr><th></th><th>x1</th><th>x2</th></tr><tr><th></th><th title=\"Int64\">Int64</th><th title=\"Int64\">Int64</th></tr></thead><tbody><tr><th>1</th><td>1</td><td>2</td></tr><tr><th>2</th><td>3</td><td>4</td></tr></tbody></table></div>"
      ],
      "text/latex": [
       "\\begin{tabular}{r|cc}\n",
       "\t& x1 & x2\\\\\n",
       "\t\\hline\n",
       "\t& Int64 & Int64\\\\\n",
       "\t\\hline\n",
       "\t1 & 1 & 2 \\\\\n",
       "\t2 & 3 & 4 \\\\\n",
       "\\end{tabular}\n"
      ],
      "text/plain": [
       "\u001b[1m2×2 DataFrame\u001b[0m\n",
       "\u001b[1m Row \u001b[0m│\u001b[1m x1    \u001b[0m\u001b[1m x2    \u001b[0m\n",
       "\u001b[1m     \u001b[0m│\u001b[90m Int64 \u001b[0m\u001b[90m Int64 \u001b[0m\n",
       "─────┼──────────────\n",
       "   1 │     1      2\n",
       "   2 │     3      4"
      ]
     },
     "execution_count": 41,
     "metadata": {},
     "output_type": "execute_result"
    }
   ],
   "source": [
    "select(df, :a => AsTable) # automatic column names generated"
   ]
  },
  {
   "cell_type": "code",
   "execution_count": 42,
   "metadata": {},
   "outputs": [
    {
     "data": {
      "text/html": [
       "<div class=\"data-frame\"><p>2 rows × 2 columns</p><table class=\"data-frame\"><thead><tr><th></th><th>C1</th><th>C2</th></tr><tr><th></th><th title=\"Int64\">Int64</th><th title=\"Int64\">Int64</th></tr></thead><tbody><tr><th>1</th><td>1</td><td>2</td></tr><tr><th>2</th><td>3</td><td>4</td></tr></tbody></table></div>"
      ],
      "text/latex": [
       "\\begin{tabular}{r|cc}\n",
       "\t& C1 & C2\\\\\n",
       "\t\\hline\n",
       "\t& Int64 & Int64\\\\\n",
       "\t\\hline\n",
       "\t1 & 1 & 2 \\\\\n",
       "\t2 & 3 & 4 \\\\\n",
       "\\end{tabular}\n"
      ],
      "text/plain": [
       "\u001b[1m2×2 DataFrame\u001b[0m\n",
       "\u001b[1m Row \u001b[0m│\u001b[1m C1    \u001b[0m\u001b[1m C2    \u001b[0m\n",
       "\u001b[1m     \u001b[0m│\u001b[90m Int64 \u001b[0m\u001b[90m Int64 \u001b[0m\n",
       "─────┼──────────────\n",
       "   1 │     1      2\n",
       "   2 │     3      4"
      ]
     },
     "execution_count": 42,
     "metadata": {},
     "output_type": "execute_result"
    }
   ],
   "source": [
    "select(df, :a => [:C1, :C2]) # custom column names generated"
   ]
  },
  {
   "cell_type": "markdown",
   "metadata": {},
   "source": [
    "Finally, observe that one can conveniently apply multiple transformations using broadcasting:"
   ]
  },
  {
   "cell_type": "code",
   "execution_count": 43,
   "metadata": {},
   "outputs": [
    {
     "data": {
      "text/html": [
       "<div class=\"data-frame\"><p>100 rows × 3 columns</p><table class=\"data-frame\"><thead><tr><th></th><th>id</th><th>x1</th><th>x2</th></tr><tr><th></th><th title=\"Int64\">Int64</th><th title=\"Int64\">Int64</th><th title=\"Int64\">Int64</th></tr></thead><tbody><tr><th>1</th><td>1</td><td>1</td><td>101</td></tr><tr><th>2</th><td>2</td><td>2</td><td>102</td></tr><tr><th>3</th><td>3</td><td>3</td><td>103</td></tr><tr><th>4</th><td>4</td><td>4</td><td>104</td></tr><tr><th>5</th><td>5</td><td>5</td><td>105</td></tr><tr><th>6</th><td>6</td><td>6</td><td>106</td></tr><tr><th>7</th><td>7</td><td>7</td><td>107</td></tr><tr><th>8</th><td>8</td><td>8</td><td>108</td></tr><tr><th>9</th><td>9</td><td>9</td><td>109</td></tr><tr><th>10</th><td>10</td><td>10</td><td>110</td></tr><tr><th>11</th><td>1</td><td>11</td><td>111</td></tr><tr><th>12</th><td>2</td><td>12</td><td>112</td></tr><tr><th>13</th><td>3</td><td>13</td><td>113</td></tr><tr><th>14</th><td>4</td><td>14</td><td>114</td></tr><tr><th>15</th><td>5</td><td>15</td><td>115</td></tr><tr><th>&vellip;</th><td>&vellip;</td><td>&vellip;</td><td>&vellip;</td></tr></tbody></table></div>"
      ],
      "text/latex": [
       "\\begin{tabular}{r|ccc}\n",
       "\t& id & x1 & x2\\\\\n",
       "\t\\hline\n",
       "\t& Int64 & Int64 & Int64\\\\\n",
       "\t\\hline\n",
       "\t1 & 1 & 1 & 101 \\\\\n",
       "\t2 & 2 & 2 & 102 \\\\\n",
       "\t3 & 3 & 3 & 103 \\\\\n",
       "\t4 & 4 & 4 & 104 \\\\\n",
       "\t5 & 5 & 5 & 105 \\\\\n",
       "\t6 & 6 & 6 & 106 \\\\\n",
       "\t7 & 7 & 7 & 107 \\\\\n",
       "\t8 & 8 & 8 & 108 \\\\\n",
       "\t9 & 9 & 9 & 109 \\\\\n",
       "\t10 & 10 & 10 & 110 \\\\\n",
       "\t11 & 1 & 11 & 111 \\\\\n",
       "\t12 & 2 & 12 & 112 \\\\\n",
       "\t13 & 3 & 13 & 113 \\\\\n",
       "\t14 & 4 & 14 & 114 \\\\\n",
       "\t15 & 5 & 15 & 115 \\\\\n",
       "\t$\\dots$ & $\\dots$ & $\\dots$ & $\\dots$ \\\\\n",
       "\\end{tabular}\n"
      ],
      "text/plain": [
       "\u001b[1m100×3 DataFrame\u001b[0m\n",
       "\u001b[1m Row \u001b[0m│\u001b[1m id    \u001b[0m\u001b[1m x1    \u001b[0m\u001b[1m x2    \u001b[0m\n",
       "\u001b[1m     \u001b[0m│\u001b[90m Int64 \u001b[0m\u001b[90m Int64 \u001b[0m\u001b[90m Int64 \u001b[0m\n",
       "─────┼─────────────────────\n",
       "   1 │     1      1    101\n",
       "   2 │     2      2    102\n",
       "   3 │     3      3    103\n",
       "  ⋮  │   ⋮      ⋮      ⋮\n",
       "  98 │     8     98    198\n",
       "  99 │     9     99    199\n",
       " 100 │    10    100    200\n",
       "\u001b[36m            94 rows omitted\u001b[0m"
      ]
     },
     "execution_count": 43,
     "metadata": {},
     "output_type": "execute_result"
    }
   ],
   "source": [
    "df = DataFrame(id=repeat(1:10, 10), x1=1:100, x2=101:200)"
   ]
  },
  {
   "cell_type": "code",
   "execution_count": 44,
   "metadata": {},
   "outputs": [
    {
     "data": {
      "text/html": [
       "<div class=\"data-frame\"><p>10 rows × 3 columns</p><table class=\"data-frame\"><thead><tr><th></th><th>id</th><th>x1_minimum</th><th>x2_minimum</th></tr><tr><th></th><th title=\"Int64\">Int64</th><th title=\"Int64\">Int64</th><th title=\"Int64\">Int64</th></tr></thead><tbody><tr><th>1</th><td>1</td><td>1</td><td>101</td></tr><tr><th>2</th><td>2</td><td>2</td><td>102</td></tr><tr><th>3</th><td>3</td><td>3</td><td>103</td></tr><tr><th>4</th><td>4</td><td>4</td><td>104</td></tr><tr><th>5</th><td>5</td><td>5</td><td>105</td></tr><tr><th>6</th><td>6</td><td>6</td><td>106</td></tr><tr><th>7</th><td>7</td><td>7</td><td>107</td></tr><tr><th>8</th><td>8</td><td>8</td><td>108</td></tr><tr><th>9</th><td>9</td><td>9</td><td>109</td></tr><tr><th>10</th><td>10</td><td>10</td><td>110</td></tr></tbody></table></div>"
      ],
      "text/latex": [
       "\\begin{tabular}{r|ccc}\n",
       "\t& id & x1\\_minimum & x2\\_minimum\\\\\n",
       "\t\\hline\n",
       "\t& Int64 & Int64 & Int64\\\\\n",
       "\t\\hline\n",
       "\t1 & 1 & 1 & 101 \\\\\n",
       "\t2 & 2 & 2 & 102 \\\\\n",
       "\t3 & 3 & 3 & 103 \\\\\n",
       "\t4 & 4 & 4 & 104 \\\\\n",
       "\t5 & 5 & 5 & 105 \\\\\n",
       "\t6 & 6 & 6 & 106 \\\\\n",
       "\t7 & 7 & 7 & 107 \\\\\n",
       "\t8 & 8 & 8 & 108 \\\\\n",
       "\t9 & 9 & 9 & 109 \\\\\n",
       "\t10 & 10 & 10 & 110 \\\\\n",
       "\\end{tabular}\n"
      ],
      "text/plain": [
       "\u001b[1m10×3 DataFrame\u001b[0m\n",
       "\u001b[1m Row \u001b[0m│\u001b[1m id    \u001b[0m\u001b[1m x1_minimum \u001b[0m\u001b[1m x2_minimum \u001b[0m\n",
       "\u001b[1m     \u001b[0m│\u001b[90m Int64 \u001b[0m\u001b[90m Int64      \u001b[0m\u001b[90m Int64      \u001b[0m\n",
       "─────┼───────────────────────────────\n",
       "   1 │     1           1         101\n",
       "   2 │     2           2         102\n",
       "   3 │     3           3         103\n",
       "  ⋮  │   ⋮        ⋮           ⋮\n",
       "   8 │     8           8         108\n",
       "   9 │     9           9         109\n",
       "  10 │    10          10         110\n",
       "\u001b[36m                       4 rows omitted\u001b[0m"
      ]
     },
     "execution_count": 44,
     "metadata": {},
     "output_type": "execute_result"
    }
   ],
   "source": [
    "@chain df begin\n",
    "    groupby(:id)\n",
    "    combine([:x1, :x2] .=> minimum)\n",
    "end"
   ]
  },
  {
   "cell_type": "code",
   "execution_count": 45,
   "metadata": {},
   "outputs": [
    {
     "data": {
      "text/html": [
       "<div class=\"data-frame\"><p>10 rows × 5 columns</p><table class=\"data-frame\"><thead><tr><th></th><th>id</th><th>x1_minimum</th><th>x2_minimum</th><th>x1_maximum</th><th>x2_maximum</th></tr><tr><th></th><th title=\"Int64\">Int64</th><th title=\"Int64\">Int64</th><th title=\"Int64\">Int64</th><th title=\"Int64\">Int64</th><th title=\"Int64\">Int64</th></tr></thead><tbody><tr><th>1</th><td>1</td><td>1</td><td>101</td><td>91</td><td>191</td></tr><tr><th>2</th><td>2</td><td>2</td><td>102</td><td>92</td><td>192</td></tr><tr><th>3</th><td>3</td><td>3</td><td>103</td><td>93</td><td>193</td></tr><tr><th>4</th><td>4</td><td>4</td><td>104</td><td>94</td><td>194</td></tr><tr><th>5</th><td>5</td><td>5</td><td>105</td><td>95</td><td>195</td></tr><tr><th>6</th><td>6</td><td>6</td><td>106</td><td>96</td><td>196</td></tr><tr><th>7</th><td>7</td><td>7</td><td>107</td><td>97</td><td>197</td></tr><tr><th>8</th><td>8</td><td>8</td><td>108</td><td>98</td><td>198</td></tr><tr><th>9</th><td>9</td><td>9</td><td>109</td><td>99</td><td>199</td></tr><tr><th>10</th><td>10</td><td>10</td><td>110</td><td>100</td><td>200</td></tr></tbody></table></div>"
      ],
      "text/latex": [
       "\\begin{tabular}{r|ccccc}\n",
       "\t& id & x1\\_minimum & x2\\_minimum & x1\\_maximum & x2\\_maximum\\\\\n",
       "\t\\hline\n",
       "\t& Int64 & Int64 & Int64 & Int64 & Int64\\\\\n",
       "\t\\hline\n",
       "\t1 & 1 & 1 & 101 & 91 & 191 \\\\\n",
       "\t2 & 2 & 2 & 102 & 92 & 192 \\\\\n",
       "\t3 & 3 & 3 & 103 & 93 & 193 \\\\\n",
       "\t4 & 4 & 4 & 104 & 94 & 194 \\\\\n",
       "\t5 & 5 & 5 & 105 & 95 & 195 \\\\\n",
       "\t6 & 6 & 6 & 106 & 96 & 196 \\\\\n",
       "\t7 & 7 & 7 & 107 & 97 & 197 \\\\\n",
       "\t8 & 8 & 8 & 108 & 98 & 198 \\\\\n",
       "\t9 & 9 & 9 & 109 & 99 & 199 \\\\\n",
       "\t10 & 10 & 10 & 110 & 100 & 200 \\\\\n",
       "\\end{tabular}\n"
      ],
      "text/plain": [
       "\u001b[1m10×5 DataFrame\u001b[0m\n",
       "\u001b[1m Row \u001b[0m│\u001b[1m id    \u001b[0m\u001b[1m x1_minimum \u001b[0m\u001b[1m x2_minimum \u001b[0m\u001b[1m x1_maximum \u001b[0m\u001b[1m x2_maximum \u001b[0m\n",
       "\u001b[1m     \u001b[0m│\u001b[90m Int64 \u001b[0m\u001b[90m Int64      \u001b[0m\u001b[90m Int64      \u001b[0m\u001b[90m Int64      \u001b[0m\u001b[90m Int64      \u001b[0m\n",
       "─────┼───────────────────────────────────────────────────────\n",
       "   1 │     1           1         101          91         191\n",
       "   2 │     2           2         102          92         192\n",
       "   3 │     3           3         103          93         193\n",
       "  ⋮  │   ⋮        ⋮           ⋮           ⋮           ⋮\n",
       "   8 │     8           8         108          98         198\n",
       "   9 │     9           9         109          99         199\n",
       "  10 │    10          10         110         100         200\n",
       "\u001b[36m                                               4 rows omitted\u001b[0m"
      ]
     },
     "execution_count": 45,
     "metadata": {},
     "output_type": "execute_result"
    }
   ],
   "source": [
    "@chain df begin\n",
    "    groupby(:id)\n",
    "    combine([:x1, :x2] .=> [minimum maximum])\n",
    "end"
   ]
  },
  {
   "cell_type": "markdown",
   "metadata": {},
   "source": [
    "### Aggregation of a data frame using `mapcols`"
   ]
  },
  {
   "cell_type": "code",
   "execution_count": 46,
   "metadata": {},
   "outputs": [
    {
     "data": {
      "text/html": [
       "<div class=\"data-frame\"><p>10 rows × 10 columns (omitted printing of 2 columns)</p><table class=\"data-frame\"><thead><tr><th></th><th>x1</th><th>x2</th><th>x3</th><th>x4</th><th>x5</th><th>x6</th><th>x7</th><th>x8</th></tr><tr><th></th><th title=\"Float64\">Float64</th><th title=\"Float64\">Float64</th><th title=\"Float64\">Float64</th><th title=\"Float64\">Float64</th><th title=\"Float64\">Float64</th><th title=\"Float64\">Float64</th><th title=\"Float64\">Float64</th><th title=\"Float64\">Float64</th></tr></thead><tbody><tr><th>1</th><td>0.991035</td><td>0.465052</td><td>0.380187</td><td>0.960458</td><td>0.313886</td><td>0.132266</td><td>0.976021</td><td>0.808724</td></tr><tr><th>2</th><td>0.683473</td><td>0.840802</td><td>0.0186848</td><td>0.348605</td><td>0.945677</td><td>0.605405</td><td>0.461895</td><td>0.00702123</td></tr><tr><th>3</th><td>0.650546</td><td>0.414467</td><td>0.877956</td><td>0.59157</td><td>0.265558</td><td>0.566195</td><td>0.0079046</td><td>0.608079</td></tr><tr><th>4</th><td>0.268317</td><td>0.319089</td><td>0.609955</td><td>0.902323</td><td>0.770762</td><td>0.991544</td><td>0.0910924</td><td>0.792966</td></tr><tr><th>5</th><td>0.652427</td><td>0.765766</td><td>0.49364</td><td>0.113245</td><td>0.230824</td><td>0.229971</td><td>0.00935943</td><td>0.212565</td></tr><tr><th>6</th><td>0.722184</td><td>0.732389</td><td>0.502374</td><td>0.717295</td><td>0.615377</td><td>0.982335</td><td>0.747881</td><td>0.821812</td></tr><tr><th>7</th><td>0.535124</td><td>0.806856</td><td>0.251819</td><td>0.641313</td><td>0.223733</td><td>0.743746</td><td>0.775601</td><td>0.784478</td></tr><tr><th>8</th><td>0.581566</td><td>0.695011</td><td>0.654364</td><td>0.256979</td><td>0.744593</td><td>0.110663</td><td>0.675994</td><td>0.761357</td></tr><tr><th>9</th><td>0.726788</td><td>0.294234</td><td>0.429835</td><td>0.323258</td><td>0.0581465</td><td>0.996876</td><td>0.776092</td><td>0.323629</td></tr><tr><th>10</th><td>0.602606</td><td>0.0369593</td><td>0.24548</td><td>0.596049</td><td>0.515678</td><td>0.141008</td><td>0.012867</td><td>0.952903</td></tr></tbody></table></div>"
      ],
      "text/latex": [
       "\\begin{tabular}{r|ccccccccc}\n",
       "\t& x1 & x2 & x3 & x4 & x5 & x6 & x7 & x8 & \\\\\n",
       "\t\\hline\n",
       "\t& Float64 & Float64 & Float64 & Float64 & Float64 & Float64 & Float64 & Float64 & \\\\\n",
       "\t\\hline\n",
       "\t1 & 0.991035 & 0.465052 & 0.380187 & 0.960458 & 0.313886 & 0.132266 & 0.976021 & 0.808724 & $\\dots$ \\\\\n",
       "\t2 & 0.683473 & 0.840802 & 0.0186848 & 0.348605 & 0.945677 & 0.605405 & 0.461895 & 0.00702123 & $\\dots$ \\\\\n",
       "\t3 & 0.650546 & 0.414467 & 0.877956 & 0.59157 & 0.265558 & 0.566195 & 0.0079046 & 0.608079 & $\\dots$ \\\\\n",
       "\t4 & 0.268317 & 0.319089 & 0.609955 & 0.902323 & 0.770762 & 0.991544 & 0.0910924 & 0.792966 & $\\dots$ \\\\\n",
       "\t5 & 0.652427 & 0.765766 & 0.49364 & 0.113245 & 0.230824 & 0.229971 & 0.00935943 & 0.212565 & $\\dots$ \\\\\n",
       "\t6 & 0.722184 & 0.732389 & 0.502374 & 0.717295 & 0.615377 & 0.982335 & 0.747881 & 0.821812 & $\\dots$ \\\\\n",
       "\t7 & 0.535124 & 0.806856 & 0.251819 & 0.641313 & 0.223733 & 0.743746 & 0.775601 & 0.784478 & $\\dots$ \\\\\n",
       "\t8 & 0.581566 & 0.695011 & 0.654364 & 0.256979 & 0.744593 & 0.110663 & 0.675994 & 0.761357 & $\\dots$ \\\\\n",
       "\t9 & 0.726788 & 0.294234 & 0.429835 & 0.323258 & 0.0581465 & 0.996876 & 0.776092 & 0.323629 & $\\dots$ \\\\\n",
       "\t10 & 0.602606 & 0.0369593 & 0.24548 & 0.596049 & 0.515678 & 0.141008 & 0.012867 & 0.952903 & $\\dots$ \\\\\n",
       "\\end{tabular}\n"
      ],
      "text/plain": [
       "\u001b[1m10×10 DataFrame\u001b[0m\n",
       "\u001b[1m Row \u001b[0m│\u001b[1m x1       \u001b[0m\u001b[1m x2        \u001b[0m\u001b[1m x3        \u001b[0m\u001b[1m x4       \u001b[0m\u001b[1m x5        \u001b[0m\u001b[1m x6       \u001b[0m\u001b[1m x7      \u001b[0m ⋯\n",
       "\u001b[1m     \u001b[0m│\u001b[90m Float64  \u001b[0m\u001b[90m Float64   \u001b[0m\u001b[90m Float64   \u001b[0m\u001b[90m Float64  \u001b[0m\u001b[90m Float64   \u001b[0m\u001b[90m Float64  \u001b[0m\u001b[90m Float64 \u001b[0m ⋯\n",
       "─────┼──────────────────────────────────────────────────────────────────────────\n",
       "   1 │ 0.991035  0.465052   0.380187   0.960458  0.313886   0.132266  0.976021 ⋯\n",
       "   2 │ 0.683473  0.840802   0.0186848  0.348605  0.945677   0.605405  0.461895\n",
       "   3 │ 0.650546  0.414467   0.877956   0.59157   0.265558   0.566195  0.007904\n",
       "  ⋮  │    ⋮          ⋮          ⋮         ⋮          ⋮         ⋮          ⋮    ⋱\n",
       "   8 │ 0.581566  0.695011   0.654364   0.256979  0.744593   0.110663  0.675994\n",
       "   9 │ 0.726788  0.294234   0.429835   0.323258  0.0581465  0.996876  0.776092 ⋯\n",
       "  10 │ 0.602606  0.0369593  0.24548    0.596049  0.515678   0.141008  0.012867\n",
       "\u001b[36m                                                    4 columns and 4 rows omitted\u001b[0m"
      ]
     },
     "execution_count": 46,
     "metadata": {},
     "output_type": "execute_result"
    }
   ],
   "source": [
    "x = DataFrame(rand(10, 10), :auto)"
   ]
  },
  {
   "cell_type": "code",
   "execution_count": 47,
   "metadata": {},
   "outputs": [
    {
     "data": {
      "text/html": [
       "<div class=\"data-frame\"><p>1 rows × 10 columns (omitted printing of 1 columns)</p><table class=\"data-frame\"><thead><tr><th></th><th>x1</th><th>x2</th><th>x3</th><th>x4</th><th>x5</th><th>x6</th><th>x7</th><th>x8</th><th>x9</th></tr><tr><th></th><th title=\"Float64\">Float64</th><th title=\"Float64\">Float64</th><th title=\"Float64\">Float64</th><th title=\"Float64\">Float64</th><th title=\"Float64\">Float64</th><th title=\"Float64\">Float64</th><th title=\"Float64\">Float64</th><th title=\"Float64\">Float64</th><th title=\"Float64\">Float64</th></tr></thead><tbody><tr><th>1</th><td>0.641407</td><td>0.537062</td><td>0.44643</td><td>0.54511</td><td>0.468423</td><td>0.550001</td><td>0.453471</td><td>0.607353</td><td>0.53172</td></tr></tbody></table></div>"
      ],
      "text/latex": [
       "\\begin{tabular}{r|cccccccccc}\n",
       "\t& x1 & x2 & x3 & x4 & x5 & x6 & x7 & x8 & x9 & \\\\\n",
       "\t\\hline\n",
       "\t& Float64 & Float64 & Float64 & Float64 & Float64 & Float64 & Float64 & Float64 & Float64 & \\\\\n",
       "\t\\hline\n",
       "\t1 & 0.641407 & 0.537062 & 0.44643 & 0.54511 & 0.468423 & 0.550001 & 0.453471 & 0.607353 & 0.53172 & $\\dots$ \\\\\n",
       "\\end{tabular}\n"
      ],
      "text/plain": [
       "\u001b[1m1×10 DataFrame\u001b[0m\n",
       "\u001b[1m Row \u001b[0m│\u001b[1m x1       \u001b[0m\u001b[1m x2       \u001b[0m\u001b[1m x3      \u001b[0m\u001b[1m x4      \u001b[0m\u001b[1m x5       \u001b[0m\u001b[1m x6       \u001b[0m\u001b[1m x7       \u001b[0m\u001b[1m x8 \u001b[0m ⋯\n",
       "\u001b[1m     \u001b[0m│\u001b[90m Float64  \u001b[0m\u001b[90m Float64  \u001b[0m\u001b[90m Float64 \u001b[0m\u001b[90m Float64 \u001b[0m\u001b[90m Float64  \u001b[0m\u001b[90m Float64  \u001b[0m\u001b[90m Float64  \u001b[0m\u001b[90m Flo\u001b[0m ⋯\n",
       "─────┼──────────────────────────────────────────────────────────────────────────\n",
       "   1 │ 0.641407  0.537062  0.44643  0.54511  0.468423  0.550001  0.453471  0.6 ⋯\n",
       "\u001b[36m                                                               3 columns omitted\u001b[0m"
      ]
     },
     "execution_count": 47,
     "metadata": {},
     "output_type": "execute_result"
    }
   ],
   "source": [
    "mapcols(mean, x)"
   ]
  },
  {
   "cell_type": "markdown",
   "metadata": {},
   "source": [
    "### Mapping rows and columns using `eachcol` and `eachrow`"
   ]
  },
  {
   "cell_type": "code",
   "execution_count": 48,
   "metadata": {},
   "outputs": [
    {
     "data": {
      "text/plain": [
       "10-element Vector{Float64}:\n",
       " 0.641406543169046\n",
       " 0.5370624631625194\n",
       " 0.4464296406215696\n",
       " 0.5451097503977332\n",
       " 0.4684234683450052\n",
       " 0.5500008752555339\n",
       " 0.4534707039003424\n",
       " 0.6073533919772265\n",
       " 0.5317198784576151\n",
       " 0.6739648483458158"
      ]
     },
     "execution_count": 48,
     "metadata": {},
     "output_type": "execute_result"
    }
   ],
   "source": [
    "map(mean, eachcol(x)) # map a function over each column and return a vector"
   ]
  },
  {
   "cell_type": "code",
   "execution_count": 49,
   "metadata": {},
   "outputs": [
    {
     "name": "stdout",
     "output_type": "stream",
     "text": [
      "x1: 0.641406543169046\n",
      "x2: 0.5370624631625194\n",
      "x3: 0.4464296406215696\n",
      "x4: 0.5451097503977332\n",
      "x5: 0.4684234683450052\n",
      "x6: 0.5500008752555339\n",
      "x7: 0.4534707039003424\n",
      "x8: 0.6073533919772265\n",
      "x9: 0.5317198784576151\n",
      "x10: 0.6739648483458158\n"
     ]
    }
   ],
   "source": [
    "# an iteration returns a Pair with column name and values\n",
    "foreach(c -> println(c[1], \": \", mean(c[2])), pairs(eachcol(x)))"
   ]
  },
  {
   "cell_type": "code",
   "execution_count": 50,
   "metadata": {},
   "outputs": [
    {
     "data": {
      "text/plain": [
       "10-element Vector{Float64}:\n",
       "  2.1310198464146426\n",
       "  0.8128813289171303\n",
       "  1.5695960635127038\n",
       "  0.8408842693325757\n",
       "  0.8519929685434499\n",
       "  0.9860667946431837\n",
       "  0.663221576003684\n",
       "  0.8367722572181535\n",
       "  2.470105201563278\n",
       " 16.304585899881697"
      ]
     },
     "execution_count": 50,
     "metadata": {},
     "output_type": "execute_result"
    }
   ],
   "source": [
    "# now the returned value is DataFrameRow which works as a NamedTuple but is a view to a parent DataFrame\n",
    "map(r -> r.x1/r.x2, eachrow(x))"
   ]
  },
  {
   "cell_type": "code",
   "execution_count": 51,
   "metadata": {},
   "outputs": [
    {
     "data": {
      "text/html": [
       "<p>10×10 DataFrameRows</p><div class=\"data-frame\"><table class=\"data-frame\"><thead><tr><th></th><th>x1</th><th>x2</th><th>x3</th><th>x4</th><th>x5</th><th>x6</th><th>x7</th><th>x8</th></tr><tr><th></th><th title=\"Float64\">Float64</th><th title=\"Float64\">Float64</th><th title=\"Float64\">Float64</th><th title=\"Float64\">Float64</th><th title=\"Float64\">Float64</th><th title=\"Float64\">Float64</th><th title=\"Float64\">Float64</th><th title=\"Float64\">Float64</th></tr></thead><tbody><tr><th>1</th><td>0.991035</td><td>0.465052</td><td>0.380187</td><td>0.960458</td><td>0.313886</td><td>0.132266</td><td>0.976021</td><td>0.808724</td></tr><tr><th>2</th><td>0.683473</td><td>0.840802</td><td>0.0186848</td><td>0.348605</td><td>0.945677</td><td>0.605405</td><td>0.461895</td><td>0.00702123</td></tr><tr><th>3</th><td>0.650546</td><td>0.414467</td><td>0.877956</td><td>0.59157</td><td>0.265558</td><td>0.566195</td><td>0.0079046</td><td>0.608079</td></tr><tr><th>4</th><td>0.268317</td><td>0.319089</td><td>0.609955</td><td>0.902323</td><td>0.770762</td><td>0.991544</td><td>0.0910924</td><td>0.792966</td></tr><tr><th>5</th><td>0.652427</td><td>0.765766</td><td>0.49364</td><td>0.113245</td><td>0.230824</td><td>0.229971</td><td>0.00935943</td><td>0.212565</td></tr><tr><th>6</th><td>0.722184</td><td>0.732389</td><td>0.502374</td><td>0.717295</td><td>0.615377</td><td>0.982335</td><td>0.747881</td><td>0.821812</td></tr><tr><th>7</th><td>0.535124</td><td>0.806856</td><td>0.251819</td><td>0.641313</td><td>0.223733</td><td>0.743746</td><td>0.775601</td><td>0.784478</td></tr><tr><th>8</th><td>0.581566</td><td>0.695011</td><td>0.654364</td><td>0.256979</td><td>0.744593</td><td>0.110663</td><td>0.675994</td><td>0.761357</td></tr><tr><th>9</th><td>0.726788</td><td>0.294234</td><td>0.429835</td><td>0.323258</td><td>0.0581465</td><td>0.996876</td><td>0.776092</td><td>0.323629</td></tr><tr><th>10</th><td>0.602606</td><td>0.0369593</td><td>0.24548</td><td>0.596049</td><td>0.515678</td><td>0.141008</td><td>0.012867</td><td>0.952903</td></tr></tbody></table></div>"
      ],
      "text/latex": [
       "\\begin{tabular}{r|ccccccccc}\n",
       "\t& x1 & x2 & x3 & x4 & x5 & x6 & x7 & x8 & \\\\\n",
       "\t\\hline\n",
       "\t& Float64 & Float64 & Float64 & Float64 & Float64 & Float64 & Float64 & Float64 & \\\\\n",
       "\t\\hline\n",
       "\t1 & 0.991035 & 0.465052 & 0.380187 & 0.960458 & 0.313886 & 0.132266 & 0.976021 & 0.808724 & $\\dots$ \\\\\n",
       "\t2 & 0.683473 & 0.840802 & 0.0186848 & 0.348605 & 0.945677 & 0.605405 & 0.461895 & 0.00702123 & $\\dots$ \\\\\n",
       "\t3 & 0.650546 & 0.414467 & 0.877956 & 0.59157 & 0.265558 & 0.566195 & 0.0079046 & 0.608079 & $\\dots$ \\\\\n",
       "\t4 & 0.268317 & 0.319089 & 0.609955 & 0.902323 & 0.770762 & 0.991544 & 0.0910924 & 0.792966 & $\\dots$ \\\\\n",
       "\t5 & 0.652427 & 0.765766 & 0.49364 & 0.113245 & 0.230824 & 0.229971 & 0.00935943 & 0.212565 & $\\dots$ \\\\\n",
       "\t6 & 0.722184 & 0.732389 & 0.502374 & 0.717295 & 0.615377 & 0.982335 & 0.747881 & 0.821812 & $\\dots$ \\\\\n",
       "\t7 & 0.535124 & 0.806856 & 0.251819 & 0.641313 & 0.223733 & 0.743746 & 0.775601 & 0.784478 & $\\dots$ \\\\\n",
       "\t8 & 0.581566 & 0.695011 & 0.654364 & 0.256979 & 0.744593 & 0.110663 & 0.675994 & 0.761357 & $\\dots$ \\\\\n",
       "\t9 & 0.726788 & 0.294234 & 0.429835 & 0.323258 & 0.0581465 & 0.996876 & 0.776092 & 0.323629 & $\\dots$ \\\\\n",
       "\t10 & 0.602606 & 0.0369593 & 0.24548 & 0.596049 & 0.515678 & 0.141008 & 0.012867 & 0.952903 & $\\dots$ \\\\\n",
       "\\end{tabular}\n"
      ],
      "text/plain": [
       "\u001b[1m10×10 DataFrameRows\u001b[0m\n",
       "\u001b[1m Row \u001b[0m│\u001b[1m x1       \u001b[0m\u001b[1m x2        \u001b[0m\u001b[1m x3        \u001b[0m\u001b[1m x4       \u001b[0m\u001b[1m x5        \u001b[0m\u001b[1m x6       \u001b[0m\u001b[1m x7      \u001b[0m ⋯\n",
       "\u001b[1m     \u001b[0m│\u001b[90m Float64  \u001b[0m\u001b[90m Float64   \u001b[0m\u001b[90m Float64   \u001b[0m\u001b[90m Float64  \u001b[0m\u001b[90m Float64   \u001b[0m\u001b[90m Float64  \u001b[0m\u001b[90m Float64 \u001b[0m ⋯\n",
       "─────┼──────────────────────────────────────────────────────────────────────────\n",
       "   1 │ 0.991035  0.465052   0.380187   0.960458  0.313886   0.132266  0.976021 ⋯\n",
       "   2 │ 0.683473  0.840802   0.0186848  0.348605  0.945677   0.605405  0.461895\n",
       "   3 │ 0.650546  0.414467   0.877956   0.59157   0.265558   0.566195  0.007904\n",
       "  ⋮  │    ⋮          ⋮          ⋮         ⋮          ⋮         ⋮          ⋮    ⋱\n",
       "   8 │ 0.581566  0.695011   0.654364   0.256979  0.744593   0.110663  0.675994\n",
       "   9 │ 0.726788  0.294234   0.429835   0.323258  0.0581465  0.996876  0.776092 ⋯\n",
       "  10 │ 0.602606  0.0369593  0.24548    0.596049  0.515678   0.141008  0.012867\n",
       "\u001b[36m                                                    4 columns and 4 rows omitted\u001b[0m"
      ]
     },
     "execution_count": 51,
     "metadata": {},
     "output_type": "execute_result"
    }
   ],
   "source": [
    "# it prints like a data frame, only the caption is different so that you know the type of the object\n",
    "er = eachrow(x)"
   ]
  },
  {
   "cell_type": "code",
   "execution_count": 52,
   "metadata": {},
   "outputs": [
    {
     "data": {
      "text/plain": [
       "10-element Vector{Float64}:\n",
       " 0.9910351570546703\n",
       " 0.68347262896937\n",
       " 0.6505455420436681\n",
       " 0.2683169443047404\n",
       " 0.6524268881445072\n",
       " 0.7221844390278147\n",
       " 0.5351243070160154\n",
       " 0.5815656647410734\n",
       " 0.726788246717526\n",
       " 0.602605613671074"
      ]
     },
     "execution_count": 52,
     "metadata": {},
     "output_type": "execute_result"
    }
   ],
   "source": [
    "er.x1 # you can access columns of a parent data frame directly"
   ]
  },
  {
   "cell_type": "code",
   "execution_count": 53,
   "metadata": {},
   "outputs": [
    {
     "data": {
      "text/html": [
       "<p>10×10 DataFrameColumns</p><div class=\"data-frame\"><table class=\"data-frame\"><thead><tr><th></th><th>x1</th><th>x2</th><th>x3</th><th>x4</th><th>x5</th><th>x6</th><th>x7</th><th>x8</th></tr><tr><th></th><th title=\"Float64\">Float64</th><th title=\"Float64\">Float64</th><th title=\"Float64\">Float64</th><th title=\"Float64\">Float64</th><th title=\"Float64\">Float64</th><th title=\"Float64\">Float64</th><th title=\"Float64\">Float64</th><th title=\"Float64\">Float64</th></tr></thead><tbody><tr><th>1</th><td>0.991035</td><td>0.465052</td><td>0.380187</td><td>0.960458</td><td>0.313886</td><td>0.132266</td><td>0.976021</td><td>0.808724</td></tr><tr><th>2</th><td>0.683473</td><td>0.840802</td><td>0.0186848</td><td>0.348605</td><td>0.945677</td><td>0.605405</td><td>0.461895</td><td>0.00702123</td></tr><tr><th>3</th><td>0.650546</td><td>0.414467</td><td>0.877956</td><td>0.59157</td><td>0.265558</td><td>0.566195</td><td>0.0079046</td><td>0.608079</td></tr><tr><th>4</th><td>0.268317</td><td>0.319089</td><td>0.609955</td><td>0.902323</td><td>0.770762</td><td>0.991544</td><td>0.0910924</td><td>0.792966</td></tr><tr><th>5</th><td>0.652427</td><td>0.765766</td><td>0.49364</td><td>0.113245</td><td>0.230824</td><td>0.229971</td><td>0.00935943</td><td>0.212565</td></tr><tr><th>6</th><td>0.722184</td><td>0.732389</td><td>0.502374</td><td>0.717295</td><td>0.615377</td><td>0.982335</td><td>0.747881</td><td>0.821812</td></tr><tr><th>7</th><td>0.535124</td><td>0.806856</td><td>0.251819</td><td>0.641313</td><td>0.223733</td><td>0.743746</td><td>0.775601</td><td>0.784478</td></tr><tr><th>8</th><td>0.581566</td><td>0.695011</td><td>0.654364</td><td>0.256979</td><td>0.744593</td><td>0.110663</td><td>0.675994</td><td>0.761357</td></tr><tr><th>9</th><td>0.726788</td><td>0.294234</td><td>0.429835</td><td>0.323258</td><td>0.0581465</td><td>0.996876</td><td>0.776092</td><td>0.323629</td></tr><tr><th>10</th><td>0.602606</td><td>0.0369593</td><td>0.24548</td><td>0.596049</td><td>0.515678</td><td>0.141008</td><td>0.012867</td><td>0.952903</td></tr></tbody></table></div>"
      ],
      "text/latex": [
       "\\begin{tabular}{r|ccccccccc}\n",
       "\t& x1 & x2 & x3 & x4 & x5 & x6 & x7 & x8 & \\\\\n",
       "\t\\hline\n",
       "\t& Float64 & Float64 & Float64 & Float64 & Float64 & Float64 & Float64 & Float64 & \\\\\n",
       "\t\\hline\n",
       "\t1 & 0.991035 & 0.465052 & 0.380187 & 0.960458 & 0.313886 & 0.132266 & 0.976021 & 0.808724 & $\\dots$ \\\\\n",
       "\t2 & 0.683473 & 0.840802 & 0.0186848 & 0.348605 & 0.945677 & 0.605405 & 0.461895 & 0.00702123 & $\\dots$ \\\\\n",
       "\t3 & 0.650546 & 0.414467 & 0.877956 & 0.59157 & 0.265558 & 0.566195 & 0.0079046 & 0.608079 & $\\dots$ \\\\\n",
       "\t4 & 0.268317 & 0.319089 & 0.609955 & 0.902323 & 0.770762 & 0.991544 & 0.0910924 & 0.792966 & $\\dots$ \\\\\n",
       "\t5 & 0.652427 & 0.765766 & 0.49364 & 0.113245 & 0.230824 & 0.229971 & 0.00935943 & 0.212565 & $\\dots$ \\\\\n",
       "\t6 & 0.722184 & 0.732389 & 0.502374 & 0.717295 & 0.615377 & 0.982335 & 0.747881 & 0.821812 & $\\dots$ \\\\\n",
       "\t7 & 0.535124 & 0.806856 & 0.251819 & 0.641313 & 0.223733 & 0.743746 & 0.775601 & 0.784478 & $\\dots$ \\\\\n",
       "\t8 & 0.581566 & 0.695011 & 0.654364 & 0.256979 & 0.744593 & 0.110663 & 0.675994 & 0.761357 & $\\dots$ \\\\\n",
       "\t9 & 0.726788 & 0.294234 & 0.429835 & 0.323258 & 0.0581465 & 0.996876 & 0.776092 & 0.323629 & $\\dots$ \\\\\n",
       "\t10 & 0.602606 & 0.0369593 & 0.24548 & 0.596049 & 0.515678 & 0.141008 & 0.012867 & 0.952903 & $\\dots$ \\\\\n",
       "\\end{tabular}\n"
      ],
      "text/plain": [
       "\u001b[1m10×10 DataFrameColumns\u001b[0m\n",
       "\u001b[1m Row \u001b[0m│\u001b[1m x1       \u001b[0m\u001b[1m x2        \u001b[0m\u001b[1m x3        \u001b[0m\u001b[1m x4       \u001b[0m\u001b[1m x5        \u001b[0m\u001b[1m x6       \u001b[0m\u001b[1m x7      \u001b[0m ⋯\n",
       "\u001b[1m     \u001b[0m│\u001b[90m Float64  \u001b[0m\u001b[90m Float64   \u001b[0m\u001b[90m Float64   \u001b[0m\u001b[90m Float64  \u001b[0m\u001b[90m Float64   \u001b[0m\u001b[90m Float64  \u001b[0m\u001b[90m Float64 \u001b[0m ⋯\n",
       "─────┼──────────────────────────────────────────────────────────────────────────\n",
       "   1 │ 0.991035  0.465052   0.380187   0.960458  0.313886   0.132266  0.976021 ⋯\n",
       "   2 │ 0.683473  0.840802   0.0186848  0.348605  0.945677   0.605405  0.461895\n",
       "   3 │ 0.650546  0.414467   0.877956   0.59157   0.265558   0.566195  0.007904\n",
       "  ⋮  │    ⋮          ⋮          ⋮         ⋮          ⋮         ⋮          ⋮    ⋱\n",
       "   8 │ 0.581566  0.695011   0.654364   0.256979  0.744593   0.110663  0.675994\n",
       "   9 │ 0.726788  0.294234   0.429835   0.323258  0.0581465  0.996876  0.776092 ⋯\n",
       "  10 │ 0.602606  0.0369593  0.24548    0.596049  0.515678   0.141008  0.012867\n",
       "\u001b[36m                                                    4 columns and 4 rows omitted\u001b[0m"
      ]
     },
     "execution_count": 53,
     "metadata": {},
     "output_type": "execute_result"
    }
   ],
   "source": [
    "# it prints like a data frame, only the caption is different so that you know the type of the object\n",
    "ec = eachcol(x)"
   ]
  },
  {
   "cell_type": "code",
   "execution_count": 54,
   "metadata": {},
   "outputs": [
    {
     "data": {
      "text/plain": [
       "10-element Vector{Float64}:\n",
       " 0.9910351570546703\n",
       " 0.68347262896937\n",
       " 0.6505455420436681\n",
       " 0.2683169443047404\n",
       " 0.6524268881445072\n",
       " 0.7221844390278147\n",
       " 0.5351243070160154\n",
       " 0.5815656647410734\n",
       " 0.726788246717526\n",
       " 0.602605613671074"
      ]
     },
     "execution_count": 54,
     "metadata": {},
     "output_type": "execute_result"
    }
   ],
   "source": [
    "ec.x1 # you can access columns of a parent data frame directly"
   ]
  },
  {
   "cell_type": "markdown",
   "metadata": {},
   "source": [
    "### Transposing"
   ]
  },
  {
   "cell_type": "markdown",
   "metadata": {},
   "source": [
    "you can transpose a data frame using `permutedims`:"
   ]
  },
  {
   "cell_type": "code",
   "execution_count": 55,
   "metadata": {},
   "outputs": [
    {
     "data": {
      "text/html": [
       "<div class=\"data-frame\"><p>3 rows × 4 columns</p><table class=\"data-frame\"><thead><tr><th></th><th>x1</th><th>x2</th><th>x3</th><th>x4</th></tr><tr><th></th><th title=\"Int64\">Int64</th><th title=\"Int64\">Int64</th><th title=\"Int64\">Int64</th><th title=\"Int64\">Int64</th></tr></thead><tbody><tr><th>1</th><td>1</td><td>4</td><td>7</td><td>10</td></tr><tr><th>2</th><td>2</td><td>5</td><td>8</td><td>11</td></tr><tr><th>3</th><td>3</td><td>6</td><td>9</td><td>12</td></tr></tbody></table></div>"
      ],
      "text/latex": [
       "\\begin{tabular}{r|cccc}\n",
       "\t& x1 & x2 & x3 & x4\\\\\n",
       "\t\\hline\n",
       "\t& Int64 & Int64 & Int64 & Int64\\\\\n",
       "\t\\hline\n",
       "\t1 & 1 & 4 & 7 & 10 \\\\\n",
       "\t2 & 2 & 5 & 8 & 11 \\\\\n",
       "\t3 & 3 & 6 & 9 & 12 \\\\\n",
       "\\end{tabular}\n"
      ],
      "text/plain": [
       "\u001b[1m3×4 DataFrame\u001b[0m\n",
       "\u001b[1m Row \u001b[0m│\u001b[1m x1    \u001b[0m\u001b[1m x2    \u001b[0m\u001b[1m x3    \u001b[0m\u001b[1m x4    \u001b[0m\n",
       "\u001b[1m     \u001b[0m│\u001b[90m Int64 \u001b[0m\u001b[90m Int64 \u001b[0m\u001b[90m Int64 \u001b[0m\u001b[90m Int64 \u001b[0m\n",
       "─────┼────────────────────────────\n",
       "   1 │     1      4      7     10\n",
       "   2 │     2      5      8     11\n",
       "   3 │     3      6      9     12"
      ]
     },
     "execution_count": 55,
     "metadata": {},
     "output_type": "execute_result"
    }
   ],
   "source": [
    "df = DataFrame(reshape(1:12, 3, 4), :auto)"
   ]
  },
  {
   "cell_type": "code",
   "execution_count": 56,
   "metadata": {},
   "outputs": [
    {
     "data": {
      "text/plain": [
       "3-element Vector{String}:\n",
       " \"a\"\n",
       " \"b\"\n",
       " \"c\""
      ]
     },
     "execution_count": 56,
     "metadata": {},
     "output_type": "execute_result"
    }
   ],
   "source": [
    "df.names = [\"a\", \"b\", \"c\"]"
   ]
  },
  {
   "cell_type": "code",
   "execution_count": 57,
   "metadata": {},
   "outputs": [
    {
     "data": {
      "text/html": [
       "<div class=\"data-frame\"><p>4 rows × 4 columns</p><table class=\"data-frame\"><thead><tr><th></th><th>names</th><th>a</th><th>b</th><th>c</th></tr><tr><th></th><th title=\"String\">String</th><th title=\"Int64\">Int64</th><th title=\"Int64\">Int64</th><th title=\"Int64\">Int64</th></tr></thead><tbody><tr><th>1</th><td>x1</td><td>1</td><td>2</td><td>3</td></tr><tr><th>2</th><td>x2</td><td>4</td><td>5</td><td>6</td></tr><tr><th>3</th><td>x3</td><td>7</td><td>8</td><td>9</td></tr><tr><th>4</th><td>x4</td><td>10</td><td>11</td><td>12</td></tr></tbody></table></div>"
      ],
      "text/latex": [
       "\\begin{tabular}{r|cccc}\n",
       "\t& names & a & b & c\\\\\n",
       "\t\\hline\n",
       "\t& String & Int64 & Int64 & Int64\\\\\n",
       "\t\\hline\n",
       "\t1 & x1 & 1 & 2 & 3 \\\\\n",
       "\t2 & x2 & 4 & 5 & 6 \\\\\n",
       "\t3 & x3 & 7 & 8 & 9 \\\\\n",
       "\t4 & x4 & 10 & 11 & 12 \\\\\n",
       "\\end{tabular}\n"
      ],
      "text/plain": [
       "\u001b[1m4×4 DataFrame\u001b[0m\n",
       "\u001b[1m Row \u001b[0m│\u001b[1m names  \u001b[0m\u001b[1m a     \u001b[0m\u001b[1m b     \u001b[0m\u001b[1m c     \u001b[0m\n",
       "\u001b[1m     \u001b[0m│\u001b[90m String \u001b[0m\u001b[90m Int64 \u001b[0m\u001b[90m Int64 \u001b[0m\u001b[90m Int64 \u001b[0m\n",
       "─────┼─────────────────────────────\n",
       "   1 │ x1          1      2      3\n",
       "   2 │ x2          4      5      6\n",
       "   3 │ x3          7      8      9\n",
       "   4 │ x4         10     11     12"
      ]
     },
     "execution_count": 57,
     "metadata": {},
     "output_type": "execute_result"
    }
   ],
   "source": [
    "permutedims(df, :names)"
   ]
  }
 ],
 "metadata": {
  "@webio": {
   "lastCommId": null,
   "lastKernelId": null
  },
  "kernelspec": {
   "display_name": "Julia 1.6.1",
   "language": "julia",
   "name": "julia-1.6"
  },
  "language_info": {
   "file_extension": ".jl",
   "mimetype": "application/julia",
   "name": "julia",
   "version": "1.6.1"
  }
 },
 "nbformat": 4,
 "nbformat_minor": 1
}
