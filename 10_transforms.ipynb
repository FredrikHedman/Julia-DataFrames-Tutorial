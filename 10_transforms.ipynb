{
 "cells": [
  {
   "cell_type": "markdown",
   "metadata": {},
   "source": [
    "# Introduction to DataFrames\n",
    "**[Bogumił Kamiński](http://bogumilkaminski.pl/about/), December 12, 2021**"
   ]
  },
  {
   "cell_type": "code",
   "execution_count": 1,
   "metadata": {},
   "outputs": [],
   "source": [
    "using DataFrames"
   ]
  },
  {
   "cell_type": "markdown",
   "metadata": {},
   "source": [
    "## Split-apply-combine"
   ]
  },
  {
   "cell_type": "markdown",
   "metadata": {},
   "source": [
    "### Grouping a data frame"
   ]
  },
  {
   "cell_type": "code",
   "execution_count": 2,
   "metadata": {
    "scrolled": true
   },
   "outputs": [
    {
     "data": {
      "text/html": [
       "<div class=\"data-frame\"><p>8 rows × 3 columns</p><table class=\"data-frame\"><thead><tr><th></th><th>id</th><th>id2</th><th>v</th></tr><tr><th></th><th title=\"Int64\">Int64</th><th title=\"Int64\">Int64</th><th title=\"Float64\">Float64</th></tr></thead><tbody><tr><th>1</th><td>1</td><td>1</td><td>0.751676</td></tr><tr><th>2</th><td>2</td><td>2</td><td>0.887757</td></tr><tr><th>3</th><td>3</td><td>1</td><td>0.272597</td></tr><tr><th>4</th><td>4</td><td>2</td><td>0.211121</td></tr><tr><th>5</th><td>1</td><td>1</td><td>0.446431</td></tr><tr><th>6</th><td>2</td><td>2</td><td>0.625962</td></tr><tr><th>7</th><td>3</td><td>1</td><td>0.0655041</td></tr><tr><th>8</th><td>4</td><td>2</td><td>0.734711</td></tr></tbody></table></div>"
      ],
      "text/latex": [
       "\\begin{tabular}{r|ccc}\n",
       "\t& id & id2 & v\\\\\n",
       "\t\\hline\n",
       "\t& Int64 & Int64 & Float64\\\\\n",
       "\t\\hline\n",
       "\t1 & 1 & 1 & 0.751676 \\\\\n",
       "\t2 & 2 & 2 & 0.887757 \\\\\n",
       "\t3 & 3 & 1 & 0.272597 \\\\\n",
       "\t4 & 4 & 2 & 0.211121 \\\\\n",
       "\t5 & 1 & 1 & 0.446431 \\\\\n",
       "\t6 & 2 & 2 & 0.625962 \\\\\n",
       "\t7 & 3 & 1 & 0.0655041 \\\\\n",
       "\t8 & 4 & 2 & 0.734711 \\\\\n",
       "\\end{tabular}\n"
      ],
      "text/plain": [
       "\u001b[1m8×3 DataFrame\u001b[0m\n",
       "\u001b[1m Row \u001b[0m│\u001b[1m id    \u001b[0m\u001b[1m id2   \u001b[0m\u001b[1m v         \u001b[0m\n",
       "\u001b[1m     \u001b[0m│\u001b[90m Int64 \u001b[0m\u001b[90m Int64 \u001b[0m\u001b[90m Float64   \u001b[0m\n",
       "─────┼─────────────────────────\n",
       "   1 │     1      1  0.751676\n",
       "   2 │     2      2  0.887757\n",
       "   3 │     3      1  0.272597\n",
       "   4 │     4      2  0.211121\n",
       "   5 │     1      1  0.446431\n",
       "   6 │     2      2  0.625962\n",
       "   7 │     3      1  0.0655041\n",
       "   8 │     4      2  0.734711"
      ]
     },
     "execution_count": 2,
     "metadata": {},
     "output_type": "execute_result"
    }
   ],
   "source": [
    "x = DataFrame(id=[1,2,3,4,1,2,3,4], id2=[1,2,1,2,1,2,1,2], v=rand(8))"
   ]
  },
  {
   "cell_type": "code",
   "execution_count": 3,
   "metadata": {
    "scrolled": false
   },
   "outputs": [
    {
     "data": {
      "text/html": [
       "<p><b>GroupedDataFrame with 4 groups based on key: id</b></p><p><i>First Group (2 rows): id = 1</i></p><div class=\"data-frame\"><table class=\"data-frame\"><thead><tr><th></th><th>id</th><th>id2</th><th>v</th></tr><tr><th></th><th title=\"Int64\">Int64</th><th title=\"Int64\">Int64</th><th title=\"Float64\">Float64</th></tr></thead><tbody><tr><th>1</th><td>1</td><td>1</td><td>0.751676</td></tr><tr><th>2</th><td>1</td><td>1</td><td>0.446431</td></tr></tbody></table></div><p>&vellip;</p><p><i>Last Group (2 rows): id = 4</i></p><div class=\"data-frame\"><table class=\"data-frame\"><thead><tr><th></th><th>id</th><th>id2</th><th>v</th></tr><tr><th></th><th title=\"Int64\">Int64</th><th title=\"Int64\">Int64</th><th title=\"Float64\">Float64</th></tr></thead><tbody><tr><th>1</th><td>4</td><td>2</td><td>0.211121</td></tr><tr><th>2</th><td>4</td><td>2</td><td>0.734711</td></tr></tbody></table></div>"
      ],
      "text/latex": [
       "GroupedDataFrame with 4 groups based on key: id\n",
       "\n",
       "First Group (2 rows): id = 1\n",
       "\n",
       "\\begin{tabular}{r|ccc}\n",
       "\t& id & id2 & v\\\\\n",
       "\t\\hline\n",
       "\t& Int64 & Int64 & Float64\\\\\n",
       "\t\\hline\n",
       "\t1 & 1 & 1 & 0.751676 \\\\\n",
       "\t2 & 1 & 1 & 0.446431 \\\\\n",
       "\\end{tabular}\n",
       "\n",
       "$\\dots$\n",
       "\n",
       "Last Group (2 rows): id = 4\n",
       "\n",
       "\\begin{tabular}{r|ccc}\n",
       "\t& id & id2 & v\\\\\n",
       "\t\\hline\n",
       "\t& Int64 & Int64 & Float64\\\\\n",
       "\t\\hline\n",
       "\t1 & 4 & 2 & 0.211121 \\\\\n",
       "\t2 & 4 & 2 & 0.734711 \\\\\n",
       "\\end{tabular}\n"
      ],
      "text/plain": [
       "GroupedDataFrame with 4 groups based on key: id\n",
       "First Group (2 rows): id = 1\n",
       "\u001b[1m Row \u001b[0m│\u001b[1m id    \u001b[0m\u001b[1m id2   \u001b[0m\u001b[1m v        \u001b[0m\n",
       "\u001b[1m     \u001b[0m│\u001b[90m Int64 \u001b[0m\u001b[90m Int64 \u001b[0m\u001b[90m Float64  \u001b[0m\n",
       "─────┼────────────────────────\n",
       "   1 │     1      1  0.751676\n",
       "   2 │     1      1  0.446431\n",
       "⋮\n",
       "Last Group (2 rows): id = 4\n",
       "\u001b[1m Row \u001b[0m│\u001b[1m id    \u001b[0m\u001b[1m id2   \u001b[0m\u001b[1m v        \u001b[0m\n",
       "\u001b[1m     \u001b[0m│\u001b[90m Int64 \u001b[0m\u001b[90m Int64 \u001b[0m\u001b[90m Float64  \u001b[0m\n",
       "─────┼────────────────────────\n",
       "   1 │     4      2  0.211121\n",
       "   2 │     4      2  0.734711"
      ]
     },
     "execution_count": 3,
     "metadata": {},
     "output_type": "execute_result"
    }
   ],
   "source": [
    "groupby(x, :id)"
   ]
  },
  {
   "cell_type": "code",
   "execution_count": 4,
   "metadata": {},
   "outputs": [
    {
     "data": {
      "text/html": [
       "<p><b>GroupedDataFrame with 1 group based on key: </b></p><p><i>First Group (8 rows): </i></p><div class=\"data-frame\"><table class=\"data-frame\"><thead><tr><th></th><th>id</th><th>id2</th><th>v</th></tr><tr><th></th><th title=\"Int64\">Int64</th><th title=\"Int64\">Int64</th><th title=\"Float64\">Float64</th></tr></thead><tbody><tr><th>1</th><td>1</td><td>1</td><td>0.751676</td></tr><tr><th>2</th><td>2</td><td>2</td><td>0.887757</td></tr><tr><th>3</th><td>3</td><td>1</td><td>0.272597</td></tr><tr><th>4</th><td>4</td><td>2</td><td>0.211121</td></tr><tr><th>5</th><td>1</td><td>1</td><td>0.446431</td></tr><tr><th>6</th><td>2</td><td>2</td><td>0.625962</td></tr><tr><th>7</th><td>3</td><td>1</td><td>0.0655041</td></tr><tr><th>8</th><td>4</td><td>2</td><td>0.734711</td></tr></tbody></table></div>"
      ],
      "text/latex": [
       "GroupedDataFrame with 1 group based on key: \n",
       "\n",
       "First Group (8 rows): \n",
       "\n",
       "\\begin{tabular}{r|ccc}\n",
       "\t& id & id2 & v\\\\\n",
       "\t\\hline\n",
       "\t& Int64 & Int64 & Float64\\\\\n",
       "\t\\hline\n",
       "\t1 & 1 & 1 & 0.751676 \\\\\n",
       "\t2 & 2 & 2 & 0.887757 \\\\\n",
       "\t3 & 3 & 1 & 0.272597 \\\\\n",
       "\t4 & 4 & 2 & 0.211121 \\\\\n",
       "\t5 & 1 & 1 & 0.446431 \\\\\n",
       "\t6 & 2 & 2 & 0.625962 \\\\\n",
       "\t7 & 3 & 1 & 0.0655041 \\\\\n",
       "\t8 & 4 & 2 & 0.734711 \\\\\n",
       "\\end{tabular}\n"
      ],
      "text/plain": [
       "GroupedDataFrame with 1 group based on key: \n",
       "First Group (8 rows): \n",
       "\u001b[1m Row \u001b[0m│\u001b[1m id    \u001b[0m\u001b[1m id2   \u001b[0m\u001b[1m v         \u001b[0m\n",
       "\u001b[1m     \u001b[0m│\u001b[90m Int64 \u001b[0m\u001b[90m Int64 \u001b[0m\u001b[90m Float64   \u001b[0m\n",
       "─────┼─────────────────────────\n",
       "   1 │     1      1  0.751676\n",
       "   2 │     2      2  0.887757\n",
       "   3 │     3      1  0.272597\n",
       "   4 │     4      2  0.211121\n",
       "   5 │     1      1  0.446431\n",
       "   6 │     2      2  0.625962\n",
       "   7 │     3      1  0.0655041\n",
       "   8 │     4      2  0.734711"
      ]
     },
     "execution_count": 4,
     "metadata": {},
     "output_type": "execute_result"
    }
   ],
   "source": [
    "groupby(x, [])"
   ]
  },
  {
   "cell_type": "code",
   "execution_count": 5,
   "metadata": {},
   "outputs": [
    {
     "data": {
      "text/html": [
       "<p><b>GroupedDataFrame with 4 groups based on keys: id, id2</b></p><p><i>First Group (2 rows): id = 1, id2 = 1</i></p><div class=\"data-frame\"><table class=\"data-frame\"><thead><tr><th></th><th>id</th><th>id2</th><th>v</th></tr><tr><th></th><th title=\"Int64\">Int64</th><th title=\"Int64\">Int64</th><th title=\"Float64\">Float64</th></tr></thead><tbody><tr><th>1</th><td>1</td><td>1</td><td>0.751676</td></tr><tr><th>2</th><td>1</td><td>1</td><td>0.446431</td></tr></tbody></table></div><p>&vellip;</p><p><i>Last Group (2 rows): id = 4, id2 = 2</i></p><div class=\"data-frame\"><table class=\"data-frame\"><thead><tr><th></th><th>id</th><th>id2</th><th>v</th></tr><tr><th></th><th title=\"Int64\">Int64</th><th title=\"Int64\">Int64</th><th title=\"Float64\">Float64</th></tr></thead><tbody><tr><th>1</th><td>4</td><td>2</td><td>0.211121</td></tr><tr><th>2</th><td>4</td><td>2</td><td>0.734711</td></tr></tbody></table></div>"
      ],
      "text/latex": [
       "GroupedDataFrame with 4 groups based on keys: id, id2\n",
       "\n",
       "First Group (2 rows): id = 1, id2 = 1\n",
       "\n",
       "\\begin{tabular}{r|ccc}\n",
       "\t& id & id2 & v\\\\\n",
       "\t\\hline\n",
       "\t& Int64 & Int64 & Float64\\\\\n",
       "\t\\hline\n",
       "\t1 & 1 & 1 & 0.751676 \\\\\n",
       "\t2 & 1 & 1 & 0.446431 \\\\\n",
       "\\end{tabular}\n",
       "\n",
       "$\\dots$\n",
       "\n",
       "Last Group (2 rows): id = 4, id2 = 2\n",
       "\n",
       "\\begin{tabular}{r|ccc}\n",
       "\t& id & id2 & v\\\\\n",
       "\t\\hline\n",
       "\t& Int64 & Int64 & Float64\\\\\n",
       "\t\\hline\n",
       "\t1 & 4 & 2 & 0.211121 \\\\\n",
       "\t2 & 4 & 2 & 0.734711 \\\\\n",
       "\\end{tabular}\n"
      ],
      "text/plain": [
       "GroupedDataFrame with 4 groups based on keys: id, id2\n",
       "First Group (2 rows): id = 1, id2 = 1\n",
       "\u001b[1m Row \u001b[0m│\u001b[1m id    \u001b[0m\u001b[1m id2   \u001b[0m\u001b[1m v        \u001b[0m\n",
       "\u001b[1m     \u001b[0m│\u001b[90m Int64 \u001b[0m\u001b[90m Int64 \u001b[0m\u001b[90m Float64  \u001b[0m\n",
       "─────┼────────────────────────\n",
       "   1 │     1      1  0.751676\n",
       "   2 │     1      1  0.446431\n",
       "⋮\n",
       "Last Group (2 rows): id = 4, id2 = 2\n",
       "\u001b[1m Row \u001b[0m│\u001b[1m id    \u001b[0m\u001b[1m id2   \u001b[0m\u001b[1m v        \u001b[0m\n",
       "\u001b[1m     \u001b[0m│\u001b[90m Int64 \u001b[0m\u001b[90m Int64 \u001b[0m\u001b[90m Float64  \u001b[0m\n",
       "─────┼────────────────────────\n",
       "   1 │     4      2  0.211121\n",
       "   2 │     4      2  0.734711"
      ]
     },
     "execution_count": 5,
     "metadata": {},
     "output_type": "execute_result"
    }
   ],
   "source": [
    "gx2 = groupby(x, [:id, :id2])"
   ]
  },
  {
   "cell_type": "code",
   "execution_count": 6,
   "metadata": {},
   "outputs": [
    {
     "data": {
      "text/html": [
       "<div class=\"data-frame\"><p>8 rows × 3 columns</p><table class=\"data-frame\"><thead><tr><th></th><th>id</th><th>id2</th><th>v</th></tr><tr><th></th><th title=\"Int64\">Int64</th><th title=\"Int64\">Int64</th><th title=\"Float64\">Float64</th></tr></thead><tbody><tr><th>1</th><td>1</td><td>1</td><td>0.751676</td></tr><tr><th>2</th><td>2</td><td>2</td><td>0.887757</td></tr><tr><th>3</th><td>3</td><td>1</td><td>0.272597</td></tr><tr><th>4</th><td>4</td><td>2</td><td>0.211121</td></tr><tr><th>5</th><td>1</td><td>1</td><td>0.446431</td></tr><tr><th>6</th><td>2</td><td>2</td><td>0.625962</td></tr><tr><th>7</th><td>3</td><td>1</td><td>0.0655041</td></tr><tr><th>8</th><td>4</td><td>2</td><td>0.734711</td></tr></tbody></table></div>"
      ],
      "text/latex": [
       "\\begin{tabular}{r|ccc}\n",
       "\t& id & id2 & v\\\\\n",
       "\t\\hline\n",
       "\t& Int64 & Int64 & Float64\\\\\n",
       "\t\\hline\n",
       "\t1 & 1 & 1 & 0.751676 \\\\\n",
       "\t2 & 2 & 2 & 0.887757 \\\\\n",
       "\t3 & 3 & 1 & 0.272597 \\\\\n",
       "\t4 & 4 & 2 & 0.211121 \\\\\n",
       "\t5 & 1 & 1 & 0.446431 \\\\\n",
       "\t6 & 2 & 2 & 0.625962 \\\\\n",
       "\t7 & 3 & 1 & 0.0655041 \\\\\n",
       "\t8 & 4 & 2 & 0.734711 \\\\\n",
       "\\end{tabular}\n"
      ],
      "text/plain": [
       "\u001b[1m8×3 DataFrame\u001b[0m\n",
       "\u001b[1m Row \u001b[0m│\u001b[1m id    \u001b[0m\u001b[1m id2   \u001b[0m\u001b[1m v         \u001b[0m\n",
       "\u001b[1m     \u001b[0m│\u001b[90m Int64 \u001b[0m\u001b[90m Int64 \u001b[0m\u001b[90m Float64   \u001b[0m\n",
       "─────┼─────────────────────────\n",
       "   1 │     1      1  0.751676\n",
       "   2 │     2      2  0.887757\n",
       "   3 │     3      1  0.272597\n",
       "   4 │     4      2  0.211121\n",
       "   5 │     1      1  0.446431\n",
       "   6 │     2      2  0.625962\n",
       "   7 │     3      1  0.0655041\n",
       "   8 │     4      2  0.734711"
      ]
     },
     "execution_count": 6,
     "metadata": {},
     "output_type": "execute_result"
    }
   ],
   "source": [
    "parent(gx2) # get the parent DataFrame "
   ]
  },
  {
   "cell_type": "code",
   "execution_count": 7,
   "metadata": {},
   "outputs": [
    {
     "data": {
      "text/html": [
       "<div class=\"data-frame\"><p>8 rows × 3 columns</p><table class=\"data-frame\"><thead><tr><th></th><th>id</th><th>id2</th><th>v</th></tr><tr><th></th><th title=\"Int64\">Int64</th><th title=\"Int64\">Int64</th><th title=\"Float64\">Float64</th></tr></thead><tbody><tr><th>1</th><td>1</td><td>1</td><td>0.751676</td></tr><tr><th>2</th><td>1</td><td>1</td><td>0.446431</td></tr><tr><th>3</th><td>2</td><td>2</td><td>0.887757</td></tr><tr><th>4</th><td>2</td><td>2</td><td>0.625962</td></tr><tr><th>5</th><td>3</td><td>1</td><td>0.272597</td></tr><tr><th>6</th><td>3</td><td>1</td><td>0.0655041</td></tr><tr><th>7</th><td>4</td><td>2</td><td>0.211121</td></tr><tr><th>8</th><td>4</td><td>2</td><td>0.734711</td></tr></tbody></table></div>"
      ],
      "text/latex": [
       "\\begin{tabular}{r|ccc}\n",
       "\t& id & id2 & v\\\\\n",
       "\t\\hline\n",
       "\t& Int64 & Int64 & Float64\\\\\n",
       "\t\\hline\n",
       "\t1 & 1 & 1 & 0.751676 \\\\\n",
       "\t2 & 1 & 1 & 0.446431 \\\\\n",
       "\t3 & 2 & 2 & 0.887757 \\\\\n",
       "\t4 & 2 & 2 & 0.625962 \\\\\n",
       "\t5 & 3 & 1 & 0.272597 \\\\\n",
       "\t6 & 3 & 1 & 0.0655041 \\\\\n",
       "\t7 & 4 & 2 & 0.211121 \\\\\n",
       "\t8 & 4 & 2 & 0.734711 \\\\\n",
       "\\end{tabular}\n"
      ],
      "text/plain": [
       "\u001b[1m8×3 DataFrame\u001b[0m\n",
       "\u001b[1m Row \u001b[0m│\u001b[1m id    \u001b[0m\u001b[1m id2   \u001b[0m\u001b[1m v         \u001b[0m\n",
       "\u001b[1m     \u001b[0m│\u001b[90m Int64 \u001b[0m\u001b[90m Int64 \u001b[0m\u001b[90m Float64   \u001b[0m\n",
       "─────┼─────────────────────────\n",
       "   1 │     1      1  0.751676\n",
       "   2 │     1      1  0.446431\n",
       "   3 │     2      2  0.887757\n",
       "   4 │     2      2  0.625962\n",
       "   5 │     3      1  0.272597\n",
       "   6 │     3      1  0.0655041\n",
       "   7 │     4      2  0.211121\n",
       "   8 │     4      2  0.734711"
      ]
     },
     "execution_count": 7,
     "metadata": {},
     "output_type": "execute_result"
    }
   ],
   "source": [
    "vcat(gx2...) # back to the DataFrame, but in a different order of rows than the original"
   ]
  },
  {
   "cell_type": "code",
   "execution_count": 8,
   "metadata": {},
   "outputs": [
    {
     "data": {
      "text/html": [
       "<div class=\"data-frame\"><p>8 rows × 3 columns</p><table class=\"data-frame\"><thead><tr><th></th><th>id</th><th>id2</th><th>v</th></tr><tr><th></th><th title=\"Int64\">Int64</th><th title=\"Int64\">Int64</th><th title=\"Float64\">Float64</th></tr></thead><tbody><tr><th>1</th><td>1</td><td>1</td><td>0.751676</td></tr><tr><th>2</th><td>1</td><td>1</td><td>0.446431</td></tr><tr><th>3</th><td>2</td><td>2</td><td>0.887757</td></tr><tr><th>4</th><td>2</td><td>2</td><td>0.625962</td></tr><tr><th>5</th><td>3</td><td>1</td><td>0.272597</td></tr><tr><th>6</th><td>3</td><td>1</td><td>0.0655041</td></tr><tr><th>7</th><td>4</td><td>2</td><td>0.211121</td></tr><tr><th>8</th><td>4</td><td>2</td><td>0.734711</td></tr></tbody></table></div>"
      ],
      "text/latex": [
       "\\begin{tabular}{r|ccc}\n",
       "\t& id & id2 & v\\\\\n",
       "\t\\hline\n",
       "\t& Int64 & Int64 & Float64\\\\\n",
       "\t\\hline\n",
       "\t1 & 1 & 1 & 0.751676 \\\\\n",
       "\t2 & 1 & 1 & 0.446431 \\\\\n",
       "\t3 & 2 & 2 & 0.887757 \\\\\n",
       "\t4 & 2 & 2 & 0.625962 \\\\\n",
       "\t5 & 3 & 1 & 0.272597 \\\\\n",
       "\t6 & 3 & 1 & 0.0655041 \\\\\n",
       "\t7 & 4 & 2 & 0.211121 \\\\\n",
       "\t8 & 4 & 2 & 0.734711 \\\\\n",
       "\\end{tabular}\n"
      ],
      "text/plain": [
       "\u001b[1m8×3 DataFrame\u001b[0m\n",
       "\u001b[1m Row \u001b[0m│\u001b[1m id    \u001b[0m\u001b[1m id2   \u001b[0m\u001b[1m v         \u001b[0m\n",
       "\u001b[1m     \u001b[0m│\u001b[90m Int64 \u001b[0m\u001b[90m Int64 \u001b[0m\u001b[90m Float64   \u001b[0m\n",
       "─────┼─────────────────────────\n",
       "   1 │     1      1  0.751676\n",
       "   2 │     1      1  0.446431\n",
       "   3 │     2      2  0.887757\n",
       "   4 │     2      2  0.625962\n",
       "   5 │     3      1  0.272597\n",
       "   6 │     3      1  0.0655041\n",
       "   7 │     4      2  0.211121\n",
       "   8 │     4      2  0.734711"
      ]
     },
     "execution_count": 8,
     "metadata": {},
     "output_type": "execute_result"
    }
   ],
   "source": [
    "DataFrame(gx2) # the same"
   ]
  },
  {
   "cell_type": "code",
   "execution_count": 9,
   "metadata": {},
   "outputs": [
    {
     "data": {
      "text/html": [
       "<div class=\"data-frame\"><p>8 rows × 1 columns</p><table class=\"data-frame\"><thead><tr><th></th><th>v</th></tr><tr><th></th><th title=\"Float64\">Float64</th></tr></thead><tbody><tr><th>1</th><td>0.751676</td></tr><tr><th>2</th><td>0.446431</td></tr><tr><th>3</th><td>0.887757</td></tr><tr><th>4</th><td>0.625962</td></tr><tr><th>5</th><td>0.272597</td></tr><tr><th>6</th><td>0.0655041</td></tr><tr><th>7</th><td>0.211121</td></tr><tr><th>8</th><td>0.734711</td></tr></tbody></table></div>"
      ],
      "text/latex": [
       "\\begin{tabular}{r|c}\n",
       "\t& v\\\\\n",
       "\t\\hline\n",
       "\t& Float64\\\\\n",
       "\t\\hline\n",
       "\t1 & 0.751676 \\\\\n",
       "\t2 & 0.446431 \\\\\n",
       "\t3 & 0.887757 \\\\\n",
       "\t4 & 0.625962 \\\\\n",
       "\t5 & 0.272597 \\\\\n",
       "\t6 & 0.0655041 \\\\\n",
       "\t7 & 0.211121 \\\\\n",
       "\t8 & 0.734711 \\\\\n",
       "\\end{tabular}\n"
      ],
      "text/plain": [
       "\u001b[1m8×1 DataFrame\u001b[0m\n",
       "\u001b[1m Row \u001b[0m│\u001b[1m v         \u001b[0m\n",
       "\u001b[1m     \u001b[0m│\u001b[90m Float64   \u001b[0m\n",
       "─────┼───────────\n",
       "   1 │ 0.751676\n",
       "   2 │ 0.446431\n",
       "   3 │ 0.887757\n",
       "   4 │ 0.625962\n",
       "   5 │ 0.272597\n",
       "   6 │ 0.0655041\n",
       "   7 │ 0.211121\n",
       "   8 │ 0.734711"
      ]
     },
     "execution_count": 9,
     "metadata": {},
     "output_type": "execute_result"
    }
   ],
   "source": [
    "DataFrame(gx2, keepkeys=false) # drop grouping columns when creating a data frame"
   ]
  },
  {
   "cell_type": "code",
   "execution_count": 10,
   "metadata": {},
   "outputs": [
    {
     "data": {
      "text/plain": [
       "2-element Vector{Symbol}:\n",
       " :id\n",
       " :id2"
      ]
     },
     "execution_count": 10,
     "metadata": {},
     "output_type": "execute_result"
    }
   ],
   "source": [
    "groupcols(gx2) # vector of names of grouping variables"
   ]
  },
  {
   "cell_type": "code",
   "execution_count": 11,
   "metadata": {},
   "outputs": [
    {
     "data": {
      "text/plain": [
       "1-element Vector{Symbol}:\n",
       " :v"
      ]
     },
     "execution_count": 11,
     "metadata": {},
     "output_type": "execute_result"
    }
   ],
   "source": [
    "valuecols(gx2) # and non-grouping variables"
   ]
  },
  {
   "cell_type": "code",
   "execution_count": 12,
   "metadata": {},
   "outputs": [
    {
     "data": {
      "text/plain": [
       "8-element Vector{Union{Missing, Int64}}:\n",
       " 1\n",
       " 2\n",
       " 3\n",
       " 4\n",
       " 1\n",
       " 2\n",
       " 3\n",
       " 4"
      ]
     },
     "execution_count": 12,
     "metadata": {},
     "output_type": "execute_result"
    }
   ],
   "source": [
    "groupindices(gx2) # group indices in parent(gx2)"
   ]
  },
  {
   "cell_type": "code",
   "execution_count": 13,
   "metadata": {},
   "outputs": [
    {
     "data": {
      "text/plain": [
       "4-element DataFrames.GroupKeys{GroupedDataFrame{DataFrame}}:\n",
       " GroupKey: (id = 1, id2 = 1)\n",
       " GroupKey: (id = 2, id2 = 2)\n",
       " GroupKey: (id = 3, id2 = 1)\n",
       " GroupKey: (id = 4, id2 = 2)"
      ]
     },
     "execution_count": 13,
     "metadata": {},
     "output_type": "execute_result"
    }
   ],
   "source": [
    "kgx2 = keys(gx2)"
   ]
  },
  {
   "cell_type": "markdown",
   "metadata": {},
   "source": [
    "You can index into a `GroupedDataFrame` like to a vector or to a dictionary.\n",
    "The second form acceps `GroupKey`, `NamedTuple` or a `Tuple`"
   ]
  },
  {
   "cell_type": "code",
   "execution_count": 14,
   "metadata": {},
   "outputs": [
    {
     "data": {
      "text/html": [
       "<p><b>GroupedDataFrame with 4 groups based on keys: id, id2</b></p><p><i>First Group (2 rows): id = 1, id2 = 1</i></p><div class=\"data-frame\"><table class=\"data-frame\"><thead><tr><th></th><th>id</th><th>id2</th><th>v</th></tr><tr><th></th><th title=\"Int64\">Int64</th><th title=\"Int64\">Int64</th><th title=\"Float64\">Float64</th></tr></thead><tbody><tr><th>1</th><td>1</td><td>1</td><td>0.751676</td></tr><tr><th>2</th><td>1</td><td>1</td><td>0.446431</td></tr></tbody></table></div><p>&vellip;</p><p><i>Last Group (2 rows): id = 4, id2 = 2</i></p><div class=\"data-frame\"><table class=\"data-frame\"><thead><tr><th></th><th>id</th><th>id2</th><th>v</th></tr><tr><th></th><th title=\"Int64\">Int64</th><th title=\"Int64\">Int64</th><th title=\"Float64\">Float64</th></tr></thead><tbody><tr><th>1</th><td>4</td><td>2</td><td>0.211121</td></tr><tr><th>2</th><td>4</td><td>2</td><td>0.734711</td></tr></tbody></table></div>"
      ],
      "text/latex": [
       "GroupedDataFrame with 4 groups based on keys: id, id2\n",
       "\n",
       "First Group (2 rows): id = 1, id2 = 1\n",
       "\n",
       "\\begin{tabular}{r|ccc}\n",
       "\t& id & id2 & v\\\\\n",
       "\t\\hline\n",
       "\t& Int64 & Int64 & Float64\\\\\n",
       "\t\\hline\n",
       "\t1 & 1 & 1 & 0.751676 \\\\\n",
       "\t2 & 1 & 1 & 0.446431 \\\\\n",
       "\\end{tabular}\n",
       "\n",
       "$\\dots$\n",
       "\n",
       "Last Group (2 rows): id = 4, id2 = 2\n",
       "\n",
       "\\begin{tabular}{r|ccc}\n",
       "\t& id & id2 & v\\\\\n",
       "\t\\hline\n",
       "\t& Int64 & Int64 & Float64\\\\\n",
       "\t\\hline\n",
       "\t1 & 4 & 2 & 0.211121 \\\\\n",
       "\t2 & 4 & 2 & 0.734711 \\\\\n",
       "\\end{tabular}\n"
      ],
      "text/plain": [
       "GroupedDataFrame with 4 groups based on keys: id, id2\n",
       "First Group (2 rows): id = 1, id2 = 1\n",
       "\u001b[1m Row \u001b[0m│\u001b[1m id    \u001b[0m\u001b[1m id2   \u001b[0m\u001b[1m v        \u001b[0m\n",
       "\u001b[1m     \u001b[0m│\u001b[90m Int64 \u001b[0m\u001b[90m Int64 \u001b[0m\u001b[90m Float64  \u001b[0m\n",
       "─────┼────────────────────────\n",
       "   1 │     1      1  0.751676\n",
       "   2 │     1      1  0.446431\n",
       "⋮\n",
       "Last Group (2 rows): id = 4, id2 = 2\n",
       "\u001b[1m Row \u001b[0m│\u001b[1m id    \u001b[0m\u001b[1m id2   \u001b[0m\u001b[1m v        \u001b[0m\n",
       "\u001b[1m     \u001b[0m│\u001b[90m Int64 \u001b[0m\u001b[90m Int64 \u001b[0m\u001b[90m Float64  \u001b[0m\n",
       "─────┼────────────────────────\n",
       "   1 │     4      2  0.211121\n",
       "   2 │     4      2  0.734711"
      ]
     },
     "execution_count": 14,
     "metadata": {},
     "output_type": "execute_result"
    }
   ],
   "source": [
    "gx2"
   ]
  },
  {
   "cell_type": "code",
   "execution_count": 15,
   "metadata": {},
   "outputs": [
    {
     "data": {
      "text/plain": [
       "GroupKey: (id = 1, id2 = 1)"
      ]
     },
     "execution_count": 15,
     "metadata": {},
     "output_type": "execute_result"
    }
   ],
   "source": [
    "k = keys(gx2)[1]"
   ]
  },
  {
   "cell_type": "code",
   "execution_count": 16,
   "metadata": {},
   "outputs": [
    {
     "data": {
      "text/plain": [
       "(id = 1, id2 = 1)"
      ]
     },
     "execution_count": 16,
     "metadata": {},
     "output_type": "execute_result"
    }
   ],
   "source": [
    "ntk = NamedTuple(k)"
   ]
  },
  {
   "cell_type": "code",
   "execution_count": 17,
   "metadata": {},
   "outputs": [
    {
     "data": {
      "text/plain": [
       "(1, 1)"
      ]
     },
     "execution_count": 17,
     "metadata": {},
     "output_type": "execute_result"
    }
   ],
   "source": [
    "tk = Tuple(k)"
   ]
  },
  {
   "cell_type": "markdown",
   "metadata": {},
   "source": [
    "the operations below produce the same result and are fast"
   ]
  },
  {
   "cell_type": "code",
   "execution_count": 18,
   "metadata": {},
   "outputs": [
    {
     "data": {
      "text/html": [
       "<div class=\"data-frame\"><p>2 rows × 3 columns</p><table class=\"data-frame\"><thead><tr><th></th><th>id</th><th>id2</th><th>v</th></tr><tr><th></th><th title=\"Int64\">Int64</th><th title=\"Int64\">Int64</th><th title=\"Float64\">Float64</th></tr></thead><tbody><tr><th>1</th><td>1</td><td>1</td><td>0.751676</td></tr><tr><th>2</th><td>1</td><td>1</td><td>0.446431</td></tr></tbody></table></div>"
      ],
      "text/latex": [
       "\\begin{tabular}{r|ccc}\n",
       "\t& id & id2 & v\\\\\n",
       "\t\\hline\n",
       "\t& Int64 & Int64 & Float64\\\\\n",
       "\t\\hline\n",
       "\t1 & 1 & 1 & 0.751676 \\\\\n",
       "\t2 & 1 & 1 & 0.446431 \\\\\n",
       "\\end{tabular}\n"
      ],
      "text/plain": [
       "\u001b[1m2×3 SubDataFrame\u001b[0m\n",
       "\u001b[1m Row \u001b[0m│\u001b[1m id    \u001b[0m\u001b[1m id2   \u001b[0m\u001b[1m v        \u001b[0m\n",
       "\u001b[1m     \u001b[0m│\u001b[90m Int64 \u001b[0m\u001b[90m Int64 \u001b[0m\u001b[90m Float64  \u001b[0m\n",
       "─────┼────────────────────────\n",
       "   1 │     1      1  0.751676\n",
       "   2 │     1      1  0.446431"
      ]
     },
     "execution_count": 18,
     "metadata": {},
     "output_type": "execute_result"
    }
   ],
   "source": [
    "gx2[1]"
   ]
  },
  {
   "cell_type": "code",
   "execution_count": 19,
   "metadata": {},
   "outputs": [
    {
     "data": {
      "text/html": [
       "<div class=\"data-frame\"><p>2 rows × 3 columns</p><table class=\"data-frame\"><thead><tr><th></th><th>id</th><th>id2</th><th>v</th></tr><tr><th></th><th title=\"Int64\">Int64</th><th title=\"Int64\">Int64</th><th title=\"Float64\">Float64</th></tr></thead><tbody><tr><th>1</th><td>1</td><td>1</td><td>0.751676</td></tr><tr><th>2</th><td>1</td><td>1</td><td>0.446431</td></tr></tbody></table></div>"
      ],
      "text/latex": [
       "\\begin{tabular}{r|ccc}\n",
       "\t& id & id2 & v\\\\\n",
       "\t\\hline\n",
       "\t& Int64 & Int64 & Float64\\\\\n",
       "\t\\hline\n",
       "\t1 & 1 & 1 & 0.751676 \\\\\n",
       "\t2 & 1 & 1 & 0.446431 \\\\\n",
       "\\end{tabular}\n"
      ],
      "text/plain": [
       "\u001b[1m2×3 SubDataFrame\u001b[0m\n",
       "\u001b[1m Row \u001b[0m│\u001b[1m id    \u001b[0m\u001b[1m id2   \u001b[0m\u001b[1m v        \u001b[0m\n",
       "\u001b[1m     \u001b[0m│\u001b[90m Int64 \u001b[0m\u001b[90m Int64 \u001b[0m\u001b[90m Float64  \u001b[0m\n",
       "─────┼────────────────────────\n",
       "   1 │     1      1  0.751676\n",
       "   2 │     1      1  0.446431"
      ]
     },
     "execution_count": 19,
     "metadata": {},
     "output_type": "execute_result"
    }
   ],
   "source": [
    "gx2[k]"
   ]
  },
  {
   "cell_type": "code",
   "execution_count": 20,
   "metadata": {},
   "outputs": [
    {
     "data": {
      "text/html": [
       "<div class=\"data-frame\"><p>2 rows × 3 columns</p><table class=\"data-frame\"><thead><tr><th></th><th>id</th><th>id2</th><th>v</th></tr><tr><th></th><th title=\"Int64\">Int64</th><th title=\"Int64\">Int64</th><th title=\"Float64\">Float64</th></tr></thead><tbody><tr><th>1</th><td>1</td><td>1</td><td>0.751676</td></tr><tr><th>2</th><td>1</td><td>1</td><td>0.446431</td></tr></tbody></table></div>"
      ],
      "text/latex": [
       "\\begin{tabular}{r|ccc}\n",
       "\t& id & id2 & v\\\\\n",
       "\t\\hline\n",
       "\t& Int64 & Int64 & Float64\\\\\n",
       "\t\\hline\n",
       "\t1 & 1 & 1 & 0.751676 \\\\\n",
       "\t2 & 1 & 1 & 0.446431 \\\\\n",
       "\\end{tabular}\n"
      ],
      "text/plain": [
       "\u001b[1m2×3 SubDataFrame\u001b[0m\n",
       "\u001b[1m Row \u001b[0m│\u001b[1m id    \u001b[0m\u001b[1m id2   \u001b[0m\u001b[1m v        \u001b[0m\n",
       "\u001b[1m     \u001b[0m│\u001b[90m Int64 \u001b[0m\u001b[90m Int64 \u001b[0m\u001b[90m Float64  \u001b[0m\n",
       "─────┼────────────────────────\n",
       "   1 │     1      1  0.751676\n",
       "   2 │     1      1  0.446431"
      ]
     },
     "execution_count": 20,
     "metadata": {},
     "output_type": "execute_result"
    }
   ],
   "source": [
    "gx2[ntk]"
   ]
  },
  {
   "cell_type": "code",
   "execution_count": 21,
   "metadata": {},
   "outputs": [
    {
     "data": {
      "text/html": [
       "<div class=\"data-frame\"><p>2 rows × 3 columns</p><table class=\"data-frame\"><thead><tr><th></th><th>id</th><th>id2</th><th>v</th></tr><tr><th></th><th title=\"Int64\">Int64</th><th title=\"Int64\">Int64</th><th title=\"Float64\">Float64</th></tr></thead><tbody><tr><th>1</th><td>1</td><td>1</td><td>0.751676</td></tr><tr><th>2</th><td>1</td><td>1</td><td>0.446431</td></tr></tbody></table></div>"
      ],
      "text/latex": [
       "\\begin{tabular}{r|ccc}\n",
       "\t& id & id2 & v\\\\\n",
       "\t\\hline\n",
       "\t& Int64 & Int64 & Float64\\\\\n",
       "\t\\hline\n",
       "\t1 & 1 & 1 & 0.751676 \\\\\n",
       "\t2 & 1 & 1 & 0.446431 \\\\\n",
       "\\end{tabular}\n"
      ],
      "text/plain": [
       "\u001b[1m2×3 SubDataFrame\u001b[0m\n",
       "\u001b[1m Row \u001b[0m│\u001b[1m id    \u001b[0m\u001b[1m id2   \u001b[0m\u001b[1m v        \u001b[0m\n",
       "\u001b[1m     \u001b[0m│\u001b[90m Int64 \u001b[0m\u001b[90m Int64 \u001b[0m\u001b[90m Float64  \u001b[0m\n",
       "─────┼────────────────────────\n",
       "   1 │     1      1  0.751676\n",
       "   2 │     1      1  0.446431"
      ]
     },
     "execution_count": 21,
     "metadata": {},
     "output_type": "execute_result"
    }
   ],
   "source": [
    "gx2[tk]"
   ]
  },
  {
   "cell_type": "markdown",
   "metadata": {},
   "source": [
    "handling missing values"
   ]
  },
  {
   "cell_type": "code",
   "execution_count": 22,
   "metadata": {},
   "outputs": [
    {
     "data": {
      "text/html": [
       "<div class=\"data-frame\"><p>5 rows × 2 columns</p><table class=\"data-frame\"><thead><tr><th></th><th>id</th><th>x</th></tr><tr><th></th><th title=\"Union{Missing, Int64}\">Int64?</th><th title=\"Int64\">Int64</th></tr></thead><tbody><tr><th>1</th><td><em>missing</em></td><td>1</td></tr><tr><th>2</th><td>5</td><td>2</td></tr><tr><th>3</th><td>1</td><td>3</td></tr><tr><th>4</th><td>3</td><td>4</td></tr><tr><th>5</th><td><em>missing</em></td><td>5</td></tr></tbody></table></div>"
      ],
      "text/latex": [
       "\\begin{tabular}{r|cc}\n",
       "\t& id & x\\\\\n",
       "\t\\hline\n",
       "\t& Int64? & Int64\\\\\n",
       "\t\\hline\n",
       "\t1 & \\emph{missing} & 1 \\\\\n",
       "\t2 & 5 & 2 \\\\\n",
       "\t3 & 1 & 3 \\\\\n",
       "\t4 & 3 & 4 \\\\\n",
       "\t5 & \\emph{missing} & 5 \\\\\n",
       "\\end{tabular}\n"
      ],
      "text/plain": [
       "\u001b[1m5×2 DataFrame\u001b[0m\n",
       "\u001b[1m Row \u001b[0m│\u001b[1m id      \u001b[0m\u001b[1m x     \u001b[0m\n",
       "\u001b[1m     \u001b[0m│\u001b[90m Int64?  \u001b[0m\u001b[90m Int64 \u001b[0m\n",
       "─────┼────────────────\n",
       "   1 │\u001b[90m missing \u001b[0m     1\n",
       "   2 │       5      2\n",
       "   3 │       1      3\n",
       "   4 │       3      4\n",
       "   5 │\u001b[90m missing \u001b[0m     5"
      ]
     },
     "execution_count": 22,
     "metadata": {},
     "output_type": "execute_result"
    }
   ],
   "source": [
    "x = DataFrame(id = [missing, 5, 1, 3, missing], x = 1:5)"
   ]
  },
  {
   "cell_type": "code",
   "execution_count": 23,
   "metadata": {},
   "outputs": [
    {
     "data": {
      "text/html": [
       "<p><b>GroupedDataFrame with 4 groups based on key: id</b></p><p><i>First Group (1 row): id = 1</i></p><div class=\"data-frame\"><table class=\"data-frame\"><thead><tr><th></th><th>id</th><th>x</th></tr><tr><th></th><th title=\"Union{Missing, Int64}\">Int64?</th><th title=\"Int64\">Int64</th></tr></thead><tbody><tr><th>1</th><td>1</td><td>3</td></tr></tbody></table></div><p>&vellip;</p><p><i>Last Group (2 rows): id = missing</i></p><div class=\"data-frame\"><table class=\"data-frame\"><thead><tr><th></th><th>id</th><th>x</th></tr><tr><th></th><th title=\"Union{Missing, Int64}\">Int64?</th><th title=\"Int64\">Int64</th></tr></thead><tbody><tr><th>1</th><td><em>missing</em></td><td>1</td></tr><tr><th>2</th><td><em>missing</em></td><td>5</td></tr></tbody></table></div>"
      ],
      "text/latex": [
       "GroupedDataFrame with 4 groups based on key: id\n",
       "\n",
       "First Group (1 row): id = 1\n",
       "\n",
       "\\begin{tabular}{r|cc}\n",
       "\t& id & x\\\\\n",
       "\t\\hline\n",
       "\t& Int64? & Int64\\\\\n",
       "\t\\hline\n",
       "\t1 & 1 & 3 \\\\\n",
       "\\end{tabular}\n",
       "\n",
       "$\\dots$\n",
       "\n",
       "Last Group (2 rows): id = missing\n",
       "\n",
       "\\begin{tabular}{r|cc}\n",
       "\t& id & x\\\\\n",
       "\t\\hline\n",
       "\t& Int64? & Int64\\\\\n",
       "\t\\hline\n",
       "\t1 & \\emph{missing} & 1 \\\\\n",
       "\t2 & \\emph{missing} & 5 \\\\\n",
       "\\end{tabular}\n"
      ],
      "text/plain": [
       "GroupedDataFrame with 4 groups based on key: id\n",
       "First Group (1 row): id = 1\n",
       "\u001b[1m Row \u001b[0m│\u001b[1m id     \u001b[0m\u001b[1m x     \u001b[0m\n",
       "\u001b[1m     \u001b[0m│\u001b[90m Int64? \u001b[0m\u001b[90m Int64 \u001b[0m\n",
       "─────┼───────────────\n",
       "   1 │      1      3\n",
       "⋮\n",
       "Last Group (2 rows): id = missing\n",
       "\u001b[1m Row \u001b[0m│\u001b[1m id      \u001b[0m\u001b[1m x     \u001b[0m\n",
       "\u001b[1m     \u001b[0m│\u001b[90m Int64?  \u001b[0m\u001b[90m Int64 \u001b[0m\n",
       "─────┼────────────────\n",
       "   1 │\u001b[90m missing \u001b[0m     1\n",
       "   2 │\u001b[90m missing \u001b[0m     5"
      ]
     },
     "execution_count": 23,
     "metadata": {},
     "output_type": "execute_result"
    }
   ],
   "source": [
    "groupby(x, :id) # by default groups include mising values and their order is not guaranteed"
   ]
  },
  {
   "cell_type": "code",
   "execution_count": 24,
   "metadata": {},
   "outputs": [
    {
     "data": {
      "text/html": [
       "<p><b>GroupedDataFrame with 3 groups based on key: id</b></p><p><i>First Group (1 row): id = 1</i></p><div class=\"data-frame\"><table class=\"data-frame\"><thead><tr><th></th><th>id</th><th>x</th></tr><tr><th></th><th title=\"Union{Missing, Int64}\">Int64?</th><th title=\"Int64\">Int64</th></tr></thead><tbody><tr><th>1</th><td>1</td><td>3</td></tr></tbody></table></div><p>&vellip;</p><p><i>Last Group (1 row): id = 5</i></p><div class=\"data-frame\"><table class=\"data-frame\"><thead><tr><th></th><th>id</th><th>x</th></tr><tr><th></th><th title=\"Union{Missing, Int64}\">Int64?</th><th title=\"Int64\">Int64</th></tr></thead><tbody><tr><th>1</th><td>5</td><td>2</td></tr></tbody></table></div>"
      ],
      "text/latex": [
       "GroupedDataFrame with 3 groups based on key: id\n",
       "\n",
       "First Group (1 row): id = 1\n",
       "\n",
       "\\begin{tabular}{r|cc}\n",
       "\t& id & x\\\\\n",
       "\t\\hline\n",
       "\t& Int64? & Int64\\\\\n",
       "\t\\hline\n",
       "\t1 & 1 & 3 \\\\\n",
       "\\end{tabular}\n",
       "\n",
       "$\\dots$\n",
       "\n",
       "Last Group (1 row): id = 5\n",
       "\n",
       "\\begin{tabular}{r|cc}\n",
       "\t& id & x\\\\\n",
       "\t\\hline\n",
       "\t& Int64? & Int64\\\\\n",
       "\t\\hline\n",
       "\t1 & 5 & 2 \\\\\n",
       "\\end{tabular}\n"
      ],
      "text/plain": [
       "GroupedDataFrame with 3 groups based on key: id\n",
       "First Group (1 row): id = 1\n",
       "\u001b[1m Row \u001b[0m│\u001b[1m id     \u001b[0m\u001b[1m x     \u001b[0m\n",
       "\u001b[1m     \u001b[0m│\u001b[90m Int64? \u001b[0m\u001b[90m Int64 \u001b[0m\n",
       "─────┼───────────────\n",
       "   1 │      1      3\n",
       "⋮\n",
       "Last Group (1 row): id = 5\n",
       "\u001b[1m Row \u001b[0m│\u001b[1m id     \u001b[0m\u001b[1m x     \u001b[0m\n",
       "\u001b[1m     \u001b[0m│\u001b[90m Int64? \u001b[0m\u001b[90m Int64 \u001b[0m\n",
       "─────┼───────────────\n",
       "   1 │      5      2"
      ]
     },
     "execution_count": 24,
     "metadata": {},
     "output_type": "execute_result"
    }
   ],
   "source": [
    "groupby(x, :id, sort=true, skipmissing=true) # but we can change it; now they are sorted"
   ]
  },
  {
   "cell_type": "code",
   "execution_count": 25,
   "metadata": {},
   "outputs": [
    {
     "data": {
      "text/html": [
       "<p><b>GroupedDataFrame with 4 groups based on key: id</b></p><p><i>First Group (2 rows): id = missing</i></p><div class=\"data-frame\"><table class=\"data-frame\"><thead><tr><th></th><th>id</th><th>x</th></tr><tr><th></th><th title=\"Union{Missing, Int64}\">Int64?</th><th title=\"Int64\">Int64</th></tr></thead><tbody><tr><th>1</th><td><em>missing</em></td><td>1</td></tr><tr><th>2</th><td><em>missing</em></td><td>5</td></tr></tbody></table></div><p>&vellip;</p><p><i>Last Group (1 row): id = 3</i></p><div class=\"data-frame\"><table class=\"data-frame\"><thead><tr><th></th><th>id</th><th>x</th></tr><tr><th></th><th title=\"Union{Missing, Int64}\">Int64?</th><th title=\"Int64\">Int64</th></tr></thead><tbody><tr><th>1</th><td>3</td><td>4</td></tr></tbody></table></div>"
      ],
      "text/latex": [
       "GroupedDataFrame with 4 groups based on key: id\n",
       "\n",
       "First Group (2 rows): id = missing\n",
       "\n",
       "\\begin{tabular}{r|cc}\n",
       "\t& id & x\\\\\n",
       "\t\\hline\n",
       "\t& Int64? & Int64\\\\\n",
       "\t\\hline\n",
       "\t1 & \\emph{missing} & 1 \\\\\n",
       "\t2 & \\emph{missing} & 5 \\\\\n",
       "\\end{tabular}\n",
       "\n",
       "$\\dots$\n",
       "\n",
       "Last Group (1 row): id = 3\n",
       "\n",
       "\\begin{tabular}{r|cc}\n",
       "\t& id & x\\\\\n",
       "\t\\hline\n",
       "\t& Int64? & Int64\\\\\n",
       "\t\\hline\n",
       "\t1 & 3 & 4 \\\\\n",
       "\\end{tabular}\n"
      ],
      "text/plain": [
       "GroupedDataFrame with 4 groups based on key: id\n",
       "First Group (2 rows): id = missing\n",
       "\u001b[1m Row \u001b[0m│\u001b[1m id      \u001b[0m\u001b[1m x     \u001b[0m\n",
       "\u001b[1m     \u001b[0m│\u001b[90m Int64?  \u001b[0m\u001b[90m Int64 \u001b[0m\n",
       "─────┼────────────────\n",
       "   1 │\u001b[90m missing \u001b[0m     1\n",
       "   2 │\u001b[90m missing \u001b[0m     5\n",
       "⋮\n",
       "Last Group (1 row): id = 3\n",
       "\u001b[1m Row \u001b[0m│\u001b[1m id     \u001b[0m\u001b[1m x     \u001b[0m\n",
       "\u001b[1m     \u001b[0m│\u001b[90m Int64? \u001b[0m\u001b[90m Int64 \u001b[0m\n",
       "─────┼───────────────\n",
       "   1 │      3      4"
      ]
     },
     "execution_count": 25,
     "metadata": {},
     "output_type": "execute_result"
    }
   ],
   "source": [
    "groupby(x, :id, sort=false) # and now they are in the order they appear in the source data frame"
   ]
  },
  {
   "cell_type": "markdown",
   "metadata": {},
   "source": [
    "### Performing transformations by group using `combine`, `select`, `select!`, `transform`, and `transform!`"
   ]
  },
  {
   "cell_type": "code",
   "execution_count": 26,
   "metadata": {},
   "outputs": [],
   "source": [
    "using Statistics\n",
    "using Chain"
   ]
  },
  {
   "cell_type": "code",
   "execution_count": 27,
   "metadata": {},
   "outputs": [
    {
     "data": {
      "text/plain": [
       "15"
      ]
     },
     "execution_count": 27,
     "metadata": {},
     "output_type": "execute_result"
    }
   ],
   "source": [
    "ENV[\"LINES\"] = 15 # reduce the number of rows in the output"
   ]
  },
  {
   "cell_type": "code",
   "execution_count": 28,
   "metadata": {},
   "outputs": [
    {
     "data": {
      "text/html": [
       "<div class=\"data-frame\"><p>100 rows × 2 columns</p><table class=\"data-frame\"><thead><tr><th></th><th>id</th><th>v</th></tr><tr><th></th><th title=\"Char\">Char</th><th title=\"Float64\">Float64</th></tr></thead><tbody><tr><th>1</th><td>b</td><td>0.579621</td></tr><tr><th>2</th><td>a</td><td>0.894544</td></tr><tr><th>3</th><td>c</td><td>0.492607</td></tr><tr><th>4</th><td>d</td><td>0.616283</td></tr><tr><th>5</th><td>b</td><td>0.714875</td></tr><tr><th>6</th><td>b</td><td>0.493625</td></tr><tr><th>7</th><td>b</td><td>0.636216</td></tr><tr><th>8</th><td>a</td><td>0.999821</td></tr><tr><th>9</th><td>c</td><td>0.811971</td></tr><tr><th>10</th><td>d</td><td>0.319235</td></tr><tr><th>11</th><td>b</td><td>0.0624066</td></tr><tr><th>12</th><td>c</td><td>0.135138</td></tr><tr><th>13</th><td>b</td><td>0.745037</td></tr><tr><th>14</th><td>c</td><td>0.353431</td></tr><tr><th>15</th><td>c</td><td>0.523727</td></tr><tr><th>&vellip;</th><td>&vellip;</td><td>&vellip;</td></tr></tbody></table></div>"
      ],
      "text/latex": [
       "\\begin{tabular}{r|cc}\n",
       "\t& id & v\\\\\n",
       "\t\\hline\n",
       "\t& Char & Float64\\\\\n",
       "\t\\hline\n",
       "\t1 & b & 0.579621 \\\\\n",
       "\t2 & a & 0.894544 \\\\\n",
       "\t3 & c & 0.492607 \\\\\n",
       "\t4 & d & 0.616283 \\\\\n",
       "\t5 & b & 0.714875 \\\\\n",
       "\t6 & b & 0.493625 \\\\\n",
       "\t7 & b & 0.636216 \\\\\n",
       "\t8 & a & 0.999821 \\\\\n",
       "\t9 & c & 0.811971 \\\\\n",
       "\t10 & d & 0.319235 \\\\\n",
       "\t11 & b & 0.0624066 \\\\\n",
       "\t12 & c & 0.135138 \\\\\n",
       "\t13 & b & 0.745037 \\\\\n",
       "\t14 & c & 0.353431 \\\\\n",
       "\t15 & c & 0.523727 \\\\\n",
       "\t$\\dots$ & $\\dots$ & $\\dots$ \\\\\n",
       "\\end{tabular}\n"
      ],
      "text/plain": [
       "\u001b[1m100×2 DataFrame\u001b[0m\n",
       "\u001b[1m Row \u001b[0m│\u001b[1m id   \u001b[0m\u001b[1m v         \u001b[0m\n",
       "\u001b[1m     \u001b[0m│\u001b[90m Char \u001b[0m\u001b[90m Float64   \u001b[0m\n",
       "─────┼─────────────────\n",
       "   1 │ b     0.579621\n",
       "   2 │ a     0.894544\n",
       "   3 │ c     0.492607\n",
       "  ⋮  │  ⋮        ⋮\n",
       "  98 │ d     0.120693\n",
       "  99 │ a     0.0294255\n",
       " 100 │ b     0.118581\n",
       "\u001b[36m        94 rows omitted\u001b[0m"
      ]
     },
     "execution_count": 28,
     "metadata": {},
     "output_type": "execute_result"
    }
   ],
   "source": [
    "x = DataFrame(id=rand('a':'d', 100), v=rand(100))"
   ]
  },
  {
   "cell_type": "code",
   "execution_count": 29,
   "metadata": {},
   "outputs": [
    {
     "data": {
      "text/html": [
       "<div class=\"data-frame\"><p>4 rows × 2 columns</p><table class=\"data-frame\"><thead><tr><th></th><th>id</th><th>v_mean</th></tr><tr><th></th><th title=\"Char\">Char</th><th title=\"Float64\">Float64</th></tr></thead><tbody><tr><th>1</th><td>b</td><td>0.529711</td></tr><tr><th>2</th><td>a</td><td>0.624415</td></tr><tr><th>3</th><td>c</td><td>0.507397</td></tr><tr><th>4</th><td>d</td><td>0.497843</td></tr></tbody></table></div>"
      ],
      "text/latex": [
       "\\begin{tabular}{r|cc}\n",
       "\t& id & v\\_mean\\\\\n",
       "\t\\hline\n",
       "\t& Char & Float64\\\\\n",
       "\t\\hline\n",
       "\t1 & b & 0.529711 \\\\\n",
       "\t2 & a & 0.624415 \\\\\n",
       "\t3 & c & 0.507397 \\\\\n",
       "\t4 & d & 0.497843 \\\\\n",
       "\\end{tabular}\n"
      ],
      "text/plain": [
       "\u001b[1m4×2 DataFrame\u001b[0m\n",
       "\u001b[1m Row \u001b[0m│\u001b[1m id   \u001b[0m\u001b[1m v_mean   \u001b[0m\n",
       "\u001b[1m     \u001b[0m│\u001b[90m Char \u001b[0m\u001b[90m Float64  \u001b[0m\n",
       "─────┼────────────────\n",
       "   1 │ b     0.529711\n",
       "   2 │ a     0.624415\n",
       "   3 │ c     0.507397\n",
       "   4 │ d     0.497843"
      ]
     },
     "execution_count": 29,
     "metadata": {},
     "output_type": "execute_result"
    }
   ],
   "source": [
    "# apply a function to each group of a data frame\n",
    "# combine keeps as many rows as are returned from the function\n",
    "@chain x begin\n",
    "    groupby(:id)\n",
    "    combine(:v => mean)\n",
    "end"
   ]
  },
  {
   "cell_type": "code",
   "execution_count": 30,
   "metadata": {},
   "outputs": [
    {
     "data": {
      "text/plain": [
       "Base.OneTo(100)"
      ]
     },
     "execution_count": 30,
     "metadata": {},
     "output_type": "execute_result"
    }
   ],
   "source": [
    "x.id2 = axes(x, 1)"
   ]
  },
  {
   "cell_type": "code",
   "execution_count": 31,
   "metadata": {},
   "outputs": [
    {
     "data": {
      "text/html": [
       "<div class=\"data-frame\"><p>100 rows × 4 columns</p><table class=\"data-frame\"><thead><tr><th></th><th>id</th><th>v</th><th>id2</th><th>v_mean</th></tr><tr><th></th><th title=\"Char\">Char</th><th title=\"Float64\">Float64</th><th title=\"Int64\">Int64</th><th title=\"Float64\">Float64</th></tr></thead><tbody><tr><th>1</th><td>b</td><td>0.579621</td><td>1</td><td>0.529711</td></tr><tr><th>2</th><td>a</td><td>0.894544</td><td>2</td><td>0.624415</td></tr><tr><th>3</th><td>c</td><td>0.492607</td><td>3</td><td>0.507397</td></tr><tr><th>4</th><td>d</td><td>0.616283</td><td>4</td><td>0.497843</td></tr><tr><th>5</th><td>b</td><td>0.714875</td><td>5</td><td>0.529711</td></tr><tr><th>6</th><td>b</td><td>0.493625</td><td>6</td><td>0.529711</td></tr><tr><th>7</th><td>b</td><td>0.636216</td><td>7</td><td>0.529711</td></tr><tr><th>8</th><td>a</td><td>0.999821</td><td>8</td><td>0.624415</td></tr><tr><th>9</th><td>c</td><td>0.811971</td><td>9</td><td>0.507397</td></tr><tr><th>10</th><td>d</td><td>0.319235</td><td>10</td><td>0.497843</td></tr><tr><th>11</th><td>b</td><td>0.0624066</td><td>11</td><td>0.529711</td></tr><tr><th>12</th><td>c</td><td>0.135138</td><td>12</td><td>0.507397</td></tr><tr><th>13</th><td>b</td><td>0.745037</td><td>13</td><td>0.529711</td></tr><tr><th>14</th><td>c</td><td>0.353431</td><td>14</td><td>0.507397</td></tr><tr><th>15</th><td>c</td><td>0.523727</td><td>15</td><td>0.507397</td></tr><tr><th>&vellip;</th><td>&vellip;</td><td>&vellip;</td><td>&vellip;</td><td>&vellip;</td></tr></tbody></table></div>"
      ],
      "text/latex": [
       "\\begin{tabular}{r|cccc}\n",
       "\t& id & v & id2 & v\\_mean\\\\\n",
       "\t\\hline\n",
       "\t& Char & Float64 & Int64 & Float64\\\\\n",
       "\t\\hline\n",
       "\t1 & b & 0.579621 & 1 & 0.529711 \\\\\n",
       "\t2 & a & 0.894544 & 2 & 0.624415 \\\\\n",
       "\t3 & c & 0.492607 & 3 & 0.507397 \\\\\n",
       "\t4 & d & 0.616283 & 4 & 0.497843 \\\\\n",
       "\t5 & b & 0.714875 & 5 & 0.529711 \\\\\n",
       "\t6 & b & 0.493625 & 6 & 0.529711 \\\\\n",
       "\t7 & b & 0.636216 & 7 & 0.529711 \\\\\n",
       "\t8 & a & 0.999821 & 8 & 0.624415 \\\\\n",
       "\t9 & c & 0.811971 & 9 & 0.507397 \\\\\n",
       "\t10 & d & 0.319235 & 10 & 0.497843 \\\\\n",
       "\t11 & b & 0.0624066 & 11 & 0.529711 \\\\\n",
       "\t12 & c & 0.135138 & 12 & 0.507397 \\\\\n",
       "\t13 & b & 0.745037 & 13 & 0.529711 \\\\\n",
       "\t14 & c & 0.353431 & 14 & 0.507397 \\\\\n",
       "\t15 & c & 0.523727 & 15 & 0.507397 \\\\\n",
       "\t$\\dots$ & $\\dots$ & $\\dots$ & $\\dots$ & $\\dots$ \\\\\n",
       "\\end{tabular}\n"
      ],
      "text/plain": [
       "\u001b[1m100×4 DataFrame\u001b[0m\n",
       "\u001b[1m Row \u001b[0m│\u001b[1m id   \u001b[0m\u001b[1m v         \u001b[0m\u001b[1m id2   \u001b[0m\u001b[1m v_mean   \u001b[0m\n",
       "\u001b[1m     \u001b[0m│\u001b[90m Char \u001b[0m\u001b[90m Float64   \u001b[0m\u001b[90m Int64 \u001b[0m\u001b[90m Float64  \u001b[0m\n",
       "─────┼──────────────────────────────────\n",
       "   1 │ b     0.579621       1  0.529711\n",
       "   2 │ a     0.894544       2  0.624415\n",
       "   3 │ c     0.492607       3  0.507397\n",
       "  ⋮  │  ⋮        ⋮        ⋮       ⋮\n",
       "  98 │ d     0.120693      98  0.497843\n",
       "  99 │ a     0.0294255     99  0.624415\n",
       " 100 │ b     0.118581     100  0.529711\n",
       "\u001b[36m                         94 rows omitted\u001b[0m"
      ]
     },
     "execution_count": 31,
     "metadata": {},
     "output_type": "execute_result"
    }
   ],
   "source": [
    "# select and transform keep as many rows as are in the source data frame and in correct order\n",
    "# additionally transform keeps all columns from the source\n",
    "@chain x begin\n",
    "    groupby(:id)\n",
    "    transform(:v => mean)\n",
    "end"
   ]
  },
  {
   "cell_type": "code",
   "execution_count": 32,
   "metadata": {},
   "outputs": [
    {
     "data": {
      "text/html": [
       "<div class=\"data-frame\"><p>100 rows × 3 columns</p><table class=\"data-frame\"><thead><tr><th></th><th>id</th><th>id2</th><th>v_mean</th></tr><tr><th></th><th title=\"Char\">Char</th><th title=\"Int64\">Int64</th><th title=\"Float64\">Float64</th></tr></thead><tbody><tr><th>1</th><td>b</td><td>1</td><td>0.529711</td></tr><tr><th>2</th><td>b</td><td>5</td><td>0.529711</td></tr><tr><th>3</th><td>b</td><td>6</td><td>0.529711</td></tr><tr><th>4</th><td>b</td><td>7</td><td>0.529711</td></tr><tr><th>5</th><td>b</td><td>11</td><td>0.529711</td></tr><tr><th>6</th><td>b</td><td>13</td><td>0.529711</td></tr><tr><th>7</th><td>b</td><td>16</td><td>0.529711</td></tr><tr><th>8</th><td>b</td><td>24</td><td>0.529711</td></tr><tr><th>9</th><td>b</td><td>25</td><td>0.529711</td></tr><tr><th>10</th><td>b</td><td>26</td><td>0.529711</td></tr><tr><th>11</th><td>b</td><td>28</td><td>0.529711</td></tr><tr><th>12</th><td>b</td><td>31</td><td>0.529711</td></tr><tr><th>13</th><td>b</td><td>32</td><td>0.529711</td></tr><tr><th>14</th><td>b</td><td>33</td><td>0.529711</td></tr><tr><th>15</th><td>b</td><td>34</td><td>0.529711</td></tr><tr><th>&vellip;</th><td>&vellip;</td><td>&vellip;</td><td>&vellip;</td></tr></tbody></table></div>"
      ],
      "text/latex": [
       "\\begin{tabular}{r|ccc}\n",
       "\t& id & id2 & v\\_mean\\\\\n",
       "\t\\hline\n",
       "\t& Char & Int64 & Float64\\\\\n",
       "\t\\hline\n",
       "\t1 & b & 1 & 0.529711 \\\\\n",
       "\t2 & b & 5 & 0.529711 \\\\\n",
       "\t3 & b & 6 & 0.529711 \\\\\n",
       "\t4 & b & 7 & 0.529711 \\\\\n",
       "\t5 & b & 11 & 0.529711 \\\\\n",
       "\t6 & b & 13 & 0.529711 \\\\\n",
       "\t7 & b & 16 & 0.529711 \\\\\n",
       "\t8 & b & 24 & 0.529711 \\\\\n",
       "\t9 & b & 25 & 0.529711 \\\\\n",
       "\t10 & b & 26 & 0.529711 \\\\\n",
       "\t11 & b & 28 & 0.529711 \\\\\n",
       "\t12 & b & 31 & 0.529711 \\\\\n",
       "\t13 & b & 32 & 0.529711 \\\\\n",
       "\t14 & b & 33 & 0.529711 \\\\\n",
       "\t15 & b & 34 & 0.529711 \\\\\n",
       "\t$\\dots$ & $\\dots$ & $\\dots$ & $\\dots$ \\\\\n",
       "\\end{tabular}\n"
      ],
      "text/plain": [
       "\u001b[1m100×3 DataFrame\u001b[0m\n",
       "\u001b[1m Row \u001b[0m│\u001b[1m id   \u001b[0m\u001b[1m id2   \u001b[0m\u001b[1m v_mean   \u001b[0m\n",
       "\u001b[1m     \u001b[0m│\u001b[90m Char \u001b[0m\u001b[90m Int64 \u001b[0m\u001b[90m Float64  \u001b[0m\n",
       "─────┼───────────────────────\n",
       "   1 │ b         1  0.529711\n",
       "   2 │ b         5  0.529711\n",
       "   3 │ b         6  0.529711\n",
       "  ⋮  │  ⋮      ⋮       ⋮\n",
       "  98 │ d        87  0.497843\n",
       "  99 │ d        88  0.497843\n",
       " 100 │ d        98  0.497843\n",
       "\u001b[36m              94 rows omitted\u001b[0m"
      ]
     },
     "execution_count": 32,
     "metadata": {},
     "output_type": "execute_result"
    }
   ],
   "source": [
    "# note that combine reorders rows by group of GroupedDataFrame\n",
    "@chain x begin\n",
    "    groupby(:id)\n",
    "    combine(:id2, :v => mean)\n",
    "end"
   ]
  },
  {
   "cell_type": "code",
   "execution_count": 33,
   "metadata": {},
   "outputs": [
    {
     "data": {
      "text/html": [
       "<div class=\"data-frame\"><p>4 rows × 2 columns</p><table class=\"data-frame\"><thead><tr><th></th><th>id</th><th>res</th></tr><tr><th></th><th title=\"Char\">Char</th><th title=\"Float64\">Float64</th></tr></thead><tbody><tr><th>1</th><td>b</td><td>0.529711</td></tr><tr><th>2</th><td>a</td><td>0.624415</td></tr><tr><th>3</th><td>c</td><td>0.507397</td></tr><tr><th>4</th><td>d</td><td>0.497843</td></tr></tbody></table></div>"
      ],
      "text/latex": [
       "\\begin{tabular}{r|cc}\n",
       "\t& id & res\\\\\n",
       "\t\\hline\n",
       "\t& Char & Float64\\\\\n",
       "\t\\hline\n",
       "\t1 & b & 0.529711 \\\\\n",
       "\t2 & a & 0.624415 \\\\\n",
       "\t3 & c & 0.507397 \\\\\n",
       "\t4 & d & 0.497843 \\\\\n",
       "\\end{tabular}\n"
      ],
      "text/plain": [
       "\u001b[1m4×2 DataFrame\u001b[0m\n",
       "\u001b[1m Row \u001b[0m│\u001b[1m id   \u001b[0m\u001b[1m res      \u001b[0m\n",
       "\u001b[1m     \u001b[0m│\u001b[90m Char \u001b[0m\u001b[90m Float64  \u001b[0m\n",
       "─────┼────────────────\n",
       "   1 │ b     0.529711\n",
       "   2 │ a     0.624415\n",
       "   3 │ c     0.507397\n",
       "   4 │ d     0.497843"
      ]
     },
     "execution_count": 33,
     "metadata": {},
     "output_type": "execute_result"
    }
   ],
   "source": [
    "# we give a custom name for the result column\n",
    "@chain x begin\n",
    "    groupby(:id)\n",
    "    combine(:v => mean => :res)\n",
    "end"
   ]
  },
  {
   "cell_type": "code",
   "execution_count": 34,
   "metadata": {},
   "outputs": [
    {
     "data": {
      "text/html": [
       "<div class=\"data-frame\"><p>4 rows × 4 columns</p><table class=\"data-frame\"><thead><tr><th></th><th>id</th><th>res1</th><th>res2</th><th>n</th></tr><tr><th></th><th title=\"Char\">Char</th><th title=\"Float64\">Float64</th><th title=\"Float64\">Float64</th><th title=\"Int64\">Int64</th></tr></thead><tbody><tr><th>1</th><td>b</td><td>0.529711</td><td>12.7131</td><td>24</td></tr><tr><th>2</th><td>a</td><td>0.624415</td><td>14.3616</td><td>23</td></tr><tr><th>3</th><td>c</td><td>0.507397</td><td>11.6701</td><td>23</td></tr><tr><th>4</th><td>d</td><td>0.497843</td><td>14.9353</td><td>30</td></tr></tbody></table></div>"
      ],
      "text/latex": [
       "\\begin{tabular}{r|cccc}\n",
       "\t& id & res1 & res2 & n\\\\\n",
       "\t\\hline\n",
       "\t& Char & Float64 & Float64 & Int64\\\\\n",
       "\t\\hline\n",
       "\t1 & b & 0.529711 & 12.7131 & 24 \\\\\n",
       "\t2 & a & 0.624415 & 14.3616 & 23 \\\\\n",
       "\t3 & c & 0.507397 & 11.6701 & 23 \\\\\n",
       "\t4 & d & 0.497843 & 14.9353 & 30 \\\\\n",
       "\\end{tabular}\n"
      ],
      "text/plain": [
       "\u001b[1m4×4 DataFrame\u001b[0m\n",
       "\u001b[1m Row \u001b[0m│\u001b[1m id   \u001b[0m\u001b[1m res1     \u001b[0m\u001b[1m res2    \u001b[0m\u001b[1m n     \u001b[0m\n",
       "\u001b[1m     \u001b[0m│\u001b[90m Char \u001b[0m\u001b[90m Float64  \u001b[0m\u001b[90m Float64 \u001b[0m\u001b[90m Int64 \u001b[0m\n",
       "─────┼────────────────────────────────\n",
       "   1 │ b     0.529711  12.7131     24\n",
       "   2 │ a     0.624415  14.3616     23\n",
       "   3 │ c     0.507397  11.6701     23\n",
       "   4 │ d     0.497843  14.9353     30"
      ]
     },
     "execution_count": 34,
     "metadata": {},
     "output_type": "execute_result"
    }
   ],
   "source": [
    "# you can have multiple operations\n",
    "@chain x begin\n",
    "    groupby(:id)\n",
    "    combine(:v => mean => :res1, :v => sum => :res2, nrow => :n)\n",
    "end"
   ]
  },
  {
   "cell_type": "markdown",
   "metadata": {},
   "source": [
    "Additional notes:\n",
    "* `select!` and `transform!` perform operations in-place\n",
    "* The general syntax for transformation is `source_columns => function => target_column`\n",
    "* if you pass multiple columns to a function they are treated as positional arguments\n",
    "* `ByRow` and `AsTable` work exactly like discussed for operations on data frames in 05_columns.ipynb\n",
    "* you can automatically groupby again the result of `combine`, `select` etc. by passing `ungroup=false` keyword argument to them\n",
    "* similarly `keepkeys` keyword argument allows you to drop grouping columns from the resulting data frame"
   ]
  },
  {
   "cell_type": "markdown",
   "metadata": {},
   "source": [
    "It is also allowed to pass a function to all these functions (also - as a special case, as a first argument). In this case the return value can be a table. In particular it allows for an easy dropping of groups if you return an empty table from the function.\n",
    "\n",
    "If you pass a function you can use a `do` block syntax. In case of passing a function it gets a `SubDataFrame` as its argument.\n",
    "\n",
    "Here is an example:"
   ]
  },
  {
   "cell_type": "code",
   "execution_count": 35,
   "metadata": {},
   "outputs": [
    {
     "data": {
      "text/html": [
       "<div class=\"data-frame\"><p>1 rows × 2 columns</p><table class=\"data-frame\"><thead><tr><th></th><th>id</th><th>n</th></tr><tr><th></th><th title=\"Char\">Char</th><th title=\"Int64\">Int64</th></tr></thead><tbody><tr><th>1</th><td>d</td><td>30</td></tr></tbody></table></div>"
      ],
      "text/latex": [
       "\\begin{tabular}{r|cc}\n",
       "\t& id & n\\\\\n",
       "\t\\hline\n",
       "\t& Char & Int64\\\\\n",
       "\t\\hline\n",
       "\t1 & d & 30 \\\\\n",
       "\\end{tabular}\n"
      ],
      "text/plain": [
       "\u001b[1m1×2 DataFrame\u001b[0m\n",
       "\u001b[1m Row \u001b[0m│\u001b[1m id   \u001b[0m\u001b[1m n     \u001b[0m\n",
       "\u001b[1m     \u001b[0m│\u001b[90m Char \u001b[0m\u001b[90m Int64 \u001b[0m\n",
       "─────┼─────────────\n",
       "   1 │ d        30"
      ]
     },
     "execution_count": 35,
     "metadata": {},
     "output_type": "execute_result"
    }
   ],
   "source": [
    "combine(groupby(x, :id)) do sdf\n",
    "    n = nrow(sdf)\n",
    "    n < 25 ? DataFrame() : DataFrame(n=n) # drop groups with low number of rows\n",
    "end"
   ]
  },
  {
   "cell_type": "markdown",
   "metadata": {},
   "source": [
    "You can also produce multiple columns in a single operation, e.g.:"
   ]
  },
  {
   "cell_type": "code",
   "execution_count": 36,
   "metadata": {},
   "outputs": [
    {
     "data": {
      "text/html": [
       "<div class=\"data-frame\"><p>4 rows × 2 columns</p><table class=\"data-frame\"><thead><tr><th></th><th>id</th><th>val</th></tr><tr><th></th><th title=\"Int64\">Int64</th><th title=\"Int64\">Int64</th></tr></thead><tbody><tr><th>1</th><td>1</td><td>1</td></tr><tr><th>2</th><td>1</td><td>2</td></tr><tr><th>3</th><td>2</td><td>3</td></tr><tr><th>4</th><td>2</td><td>4</td></tr></tbody></table></div>"
      ],
      "text/latex": [
       "\\begin{tabular}{r|cc}\n",
       "\t& id & val\\\\\n",
       "\t\\hline\n",
       "\t& Int64 & Int64\\\\\n",
       "\t\\hline\n",
       "\t1 & 1 & 1 \\\\\n",
       "\t2 & 1 & 2 \\\\\n",
       "\t3 & 2 & 3 \\\\\n",
       "\t4 & 2 & 4 \\\\\n",
       "\\end{tabular}\n"
      ],
      "text/plain": [
       "\u001b[1m4×2 DataFrame\u001b[0m\n",
       "\u001b[1m Row \u001b[0m│\u001b[1m id    \u001b[0m\u001b[1m val   \u001b[0m\n",
       "\u001b[1m     \u001b[0m│\u001b[90m Int64 \u001b[0m\u001b[90m Int64 \u001b[0m\n",
       "─────┼──────────────\n",
       "   1 │     1      1\n",
       "   2 │     1      2\n",
       "   3 │     2      3\n",
       "   4 │     2      4"
      ]
     },
     "execution_count": 36,
     "metadata": {},
     "output_type": "execute_result"
    }
   ],
   "source": [
    "df = DataFrame(id=[1,1,2,2], val=[1,2,3,4])"
   ]
  },
  {
   "cell_type": "code",
   "execution_count": 37,
   "metadata": {},
   "outputs": [
    {
     "data": {
      "text/html": [
       "<div class=\"data-frame\"><p>2 rows × 3 columns</p><table class=\"data-frame\"><thead><tr><th></th><th>id</th><th>x1</th><th>x2</th></tr><tr><th></th><th title=\"Int64\">Int64</th><th title=\"Int64\">Int64</th><th title=\"Int64\">Int64</th></tr></thead><tbody><tr><th>1</th><td>1</td><td>1</td><td>2</td></tr><tr><th>2</th><td>2</td><td>3</td><td>4</td></tr></tbody></table></div>"
      ],
      "text/latex": [
       "\\begin{tabular}{r|ccc}\n",
       "\t& id & x1 & x2\\\\\n",
       "\t\\hline\n",
       "\t& Int64 & Int64 & Int64\\\\\n",
       "\t\\hline\n",
       "\t1 & 1 & 1 & 2 \\\\\n",
       "\t2 & 2 & 3 & 4 \\\\\n",
       "\\end{tabular}\n"
      ],
      "text/plain": [
       "\u001b[1m2×3 DataFrame\u001b[0m\n",
       "\u001b[1m Row \u001b[0m│\u001b[1m id    \u001b[0m\u001b[1m x1    \u001b[0m\u001b[1m x2    \u001b[0m\n",
       "\u001b[1m     \u001b[0m│\u001b[90m Int64 \u001b[0m\u001b[90m Int64 \u001b[0m\u001b[90m Int64 \u001b[0m\n",
       "─────┼─────────────────────\n",
       "   1 │     1      1      2\n",
       "   2 │     2      3      4"
      ]
     },
     "execution_count": 37,
     "metadata": {},
     "output_type": "execute_result"
    }
   ],
   "source": [
    "@chain df begin\n",
    "    groupby(:id)\n",
    "    combine(:val => (x -> [x]) => AsTable)\n",
    "end"
   ]
  },
  {
   "cell_type": "code",
   "execution_count": 38,
   "metadata": {},
   "outputs": [
    {
     "data": {
      "text/html": [
       "<div class=\"data-frame\"><p>2 rows × 3 columns</p><table class=\"data-frame\"><thead><tr><th></th><th>id</th><th>c1</th><th>c2</th></tr><tr><th></th><th title=\"Int64\">Int64</th><th title=\"Int64\">Int64</th><th title=\"Int64\">Int64</th></tr></thead><tbody><tr><th>1</th><td>1</td><td>1</td><td>2</td></tr><tr><th>2</th><td>2</td><td>3</td><td>4</td></tr></tbody></table></div>"
      ],
      "text/latex": [
       "\\begin{tabular}{r|ccc}\n",
       "\t& id & c1 & c2\\\\\n",
       "\t\\hline\n",
       "\t& Int64 & Int64 & Int64\\\\\n",
       "\t\\hline\n",
       "\t1 & 1 & 1 & 2 \\\\\n",
       "\t2 & 2 & 3 & 4 \\\\\n",
       "\\end{tabular}\n"
      ],
      "text/plain": [
       "\u001b[1m2×3 DataFrame\u001b[0m\n",
       "\u001b[1m Row \u001b[0m│\u001b[1m id    \u001b[0m\u001b[1m c1    \u001b[0m\u001b[1m c2    \u001b[0m\n",
       "\u001b[1m     \u001b[0m│\u001b[90m Int64 \u001b[0m\u001b[90m Int64 \u001b[0m\u001b[90m Int64 \u001b[0m\n",
       "─────┼─────────────────────\n",
       "   1 │     1      1      2\n",
       "   2 │     2      3      4"
      ]
     },
     "execution_count": 38,
     "metadata": {},
     "output_type": "execute_result"
    }
   ],
   "source": [
    "@chain df begin\n",
    "    groupby(:id)\n",
    "    combine(:val => (x -> [x]) => [:c1, :c2])\n",
    "end"
   ]
  },
  {
   "cell_type": "markdown",
   "metadata": {},
   "source": [
    "It is easy to unnest the column into multiple columns, e.g."
   ]
  },
  {
   "cell_type": "code",
   "execution_count": 39,
   "metadata": {},
   "outputs": [
    {
     "data": {
      "text/html": [
       "<div class=\"data-frame\"><p>2 rows × 1 columns</p><table class=\"data-frame\"><thead><tr><th></th><th>a</th></tr><tr><th></th><th title=\"NamedTuple{(:p, :q), Tuple{Int64, Int64}}\">NamedTup…</th></tr></thead><tbody><tr><th>1</th><td>(p = 1, q = 2)</td></tr><tr><th>2</th><td>(p = 3, q = 4)</td></tr></tbody></table></div>"
      ],
      "text/latex": [
       "\\begin{tabular}{r|c}\n",
       "\t& a\\\\\n",
       "\t\\hline\n",
       "\t& NamedTup…\\\\\n",
       "\t\\hline\n",
       "\t1 & (p = 1, q = 2) \\\\\n",
       "\t2 & (p = 3, q = 4) \\\\\n",
       "\\end{tabular}\n"
      ],
      "text/plain": [
       "\u001b[1m2×1 DataFrame\u001b[0m\n",
       "\u001b[1m Row \u001b[0m│\u001b[1m a              \u001b[0m\n",
       "\u001b[1m     \u001b[0m│\u001b[90m NamedTup…      \u001b[0m\n",
       "─────┼────────────────\n",
       "   1 │ (p = 1, q = 2)\n",
       "   2 │ (p = 3, q = 4)"
      ]
     },
     "execution_count": 39,
     "metadata": {},
     "output_type": "execute_result"
    }
   ],
   "source": [
    "df = DataFrame(a=[(p=1, q=2), (p=3, q=4)])"
   ]
  },
  {
   "cell_type": "code",
   "execution_count": 40,
   "metadata": {},
   "outputs": [
    {
     "data": {
      "text/html": [
       "<div class=\"data-frame\"><p>2 rows × 2 columns</p><table class=\"data-frame\"><thead><tr><th></th><th>p</th><th>q</th></tr><tr><th></th><th title=\"Int64\">Int64</th><th title=\"Int64\">Int64</th></tr></thead><tbody><tr><th>1</th><td>1</td><td>2</td></tr><tr><th>2</th><td>3</td><td>4</td></tr></tbody></table></div>"
      ],
      "text/latex": [
       "\\begin{tabular}{r|cc}\n",
       "\t& p & q\\\\\n",
       "\t\\hline\n",
       "\t& Int64 & Int64\\\\\n",
       "\t\\hline\n",
       "\t1 & 1 & 2 \\\\\n",
       "\t2 & 3 & 4 \\\\\n",
       "\\end{tabular}\n"
      ],
      "text/plain": [
       "\u001b[1m2×2 DataFrame\u001b[0m\n",
       "\u001b[1m Row \u001b[0m│\u001b[1m p     \u001b[0m\u001b[1m q     \u001b[0m\n",
       "\u001b[1m     \u001b[0m│\u001b[90m Int64 \u001b[0m\u001b[90m Int64 \u001b[0m\n",
       "─────┼──────────────\n",
       "   1 │     1      2\n",
       "   2 │     3      4"
      ]
     },
     "execution_count": 40,
     "metadata": {},
     "output_type": "execute_result"
    }
   ],
   "source": [
    "select(df, :a => AsTable)"
   ]
  },
  {
   "cell_type": "code",
   "execution_count": 41,
   "metadata": {},
   "outputs": [
    {
     "data": {
      "text/html": [
       "<div class=\"data-frame\"><p>2 rows × 1 columns</p><table class=\"data-frame\"><thead><tr><th></th><th>a</th></tr><tr><th></th><th title=\"Vector{Int64}\">Array…</th></tr></thead><tbody><tr><th>1</th><td>[1, 2]</td></tr><tr><th>2</th><td>[3, 4]</td></tr></tbody></table></div>"
      ],
      "text/latex": [
       "\\begin{tabular}{r|c}\n",
       "\t& a\\\\\n",
       "\t\\hline\n",
       "\t& Array…\\\\\n",
       "\t\\hline\n",
       "\t1 & [1, 2] \\\\\n",
       "\t2 & [3, 4] \\\\\n",
       "\\end{tabular}\n"
      ],
      "text/plain": [
       "\u001b[1m2×1 DataFrame\u001b[0m\n",
       "\u001b[1m Row \u001b[0m│\u001b[1m a      \u001b[0m\n",
       "\u001b[1m     \u001b[0m│\u001b[90m Array… \u001b[0m\n",
       "─────┼────────\n",
       "   1 │ [1, 2]\n",
       "   2 │ [3, 4]"
      ]
     },
     "execution_count": 41,
     "metadata": {},
     "output_type": "execute_result"
    }
   ],
   "source": [
    "df = DataFrame(a=[[1, 2], [3, 4]])"
   ]
  },
  {
   "cell_type": "code",
   "execution_count": 42,
   "metadata": {},
   "outputs": [
    {
     "data": {
      "text/html": [
       "<div class=\"data-frame\"><p>2 rows × 2 columns</p><table class=\"data-frame\"><thead><tr><th></th><th>x1</th><th>x2</th></tr><tr><th></th><th title=\"Int64\">Int64</th><th title=\"Int64\">Int64</th></tr></thead><tbody><tr><th>1</th><td>1</td><td>2</td></tr><tr><th>2</th><td>3</td><td>4</td></tr></tbody></table></div>"
      ],
      "text/latex": [
       "\\begin{tabular}{r|cc}\n",
       "\t& x1 & x2\\\\\n",
       "\t\\hline\n",
       "\t& Int64 & Int64\\\\\n",
       "\t\\hline\n",
       "\t1 & 1 & 2 \\\\\n",
       "\t2 & 3 & 4 \\\\\n",
       "\\end{tabular}\n"
      ],
      "text/plain": [
       "\u001b[1m2×2 DataFrame\u001b[0m\n",
       "\u001b[1m Row \u001b[0m│\u001b[1m x1    \u001b[0m\u001b[1m x2    \u001b[0m\n",
       "\u001b[1m     \u001b[0m│\u001b[90m Int64 \u001b[0m\u001b[90m Int64 \u001b[0m\n",
       "─────┼──────────────\n",
       "   1 │     1      2\n",
       "   2 │     3      4"
      ]
     },
     "execution_count": 42,
     "metadata": {},
     "output_type": "execute_result"
    }
   ],
   "source": [
    "select(df, :a => AsTable) # automatic column names generated"
   ]
  },
  {
   "cell_type": "code",
   "execution_count": 43,
   "metadata": {},
   "outputs": [
    {
     "data": {
      "text/html": [
       "<div class=\"data-frame\"><p>2 rows × 2 columns</p><table class=\"data-frame\"><thead><tr><th></th><th>C1</th><th>C2</th></tr><tr><th></th><th title=\"Int64\">Int64</th><th title=\"Int64\">Int64</th></tr></thead><tbody><tr><th>1</th><td>1</td><td>2</td></tr><tr><th>2</th><td>3</td><td>4</td></tr></tbody></table></div>"
      ],
      "text/latex": [
       "\\begin{tabular}{r|cc}\n",
       "\t& C1 & C2\\\\\n",
       "\t\\hline\n",
       "\t& Int64 & Int64\\\\\n",
       "\t\\hline\n",
       "\t1 & 1 & 2 \\\\\n",
       "\t2 & 3 & 4 \\\\\n",
       "\\end{tabular}\n"
      ],
      "text/plain": [
       "\u001b[1m2×2 DataFrame\u001b[0m\n",
       "\u001b[1m Row \u001b[0m│\u001b[1m C1    \u001b[0m\u001b[1m C2    \u001b[0m\n",
       "\u001b[1m     \u001b[0m│\u001b[90m Int64 \u001b[0m\u001b[90m Int64 \u001b[0m\n",
       "─────┼──────────────\n",
       "   1 │     1      2\n",
       "   2 │     3      4"
      ]
     },
     "execution_count": 43,
     "metadata": {},
     "output_type": "execute_result"
    }
   ],
   "source": [
    "select(df, :a => [:C1, :C2]) # custom column names generated"
   ]
  },
  {
   "cell_type": "markdown",
   "metadata": {},
   "source": [
    "Finally, observe that one can conveniently apply multiple transformations using broadcasting:"
   ]
  },
  {
   "cell_type": "code",
   "execution_count": 44,
   "metadata": {},
   "outputs": [
    {
     "data": {
      "text/html": [
       "<div class=\"data-frame\"><p>100 rows × 3 columns</p><table class=\"data-frame\"><thead><tr><th></th><th>id</th><th>x1</th><th>x2</th></tr><tr><th></th><th title=\"Int64\">Int64</th><th title=\"Int64\">Int64</th><th title=\"Int64\">Int64</th></tr></thead><tbody><tr><th>1</th><td>1</td><td>1</td><td>101</td></tr><tr><th>2</th><td>2</td><td>2</td><td>102</td></tr><tr><th>3</th><td>3</td><td>3</td><td>103</td></tr><tr><th>4</th><td>4</td><td>4</td><td>104</td></tr><tr><th>5</th><td>5</td><td>5</td><td>105</td></tr><tr><th>6</th><td>6</td><td>6</td><td>106</td></tr><tr><th>7</th><td>7</td><td>7</td><td>107</td></tr><tr><th>8</th><td>8</td><td>8</td><td>108</td></tr><tr><th>9</th><td>9</td><td>9</td><td>109</td></tr><tr><th>10</th><td>10</td><td>10</td><td>110</td></tr><tr><th>11</th><td>1</td><td>11</td><td>111</td></tr><tr><th>12</th><td>2</td><td>12</td><td>112</td></tr><tr><th>13</th><td>3</td><td>13</td><td>113</td></tr><tr><th>14</th><td>4</td><td>14</td><td>114</td></tr><tr><th>15</th><td>5</td><td>15</td><td>115</td></tr><tr><th>&vellip;</th><td>&vellip;</td><td>&vellip;</td><td>&vellip;</td></tr></tbody></table></div>"
      ],
      "text/latex": [
       "\\begin{tabular}{r|ccc}\n",
       "\t& id & x1 & x2\\\\\n",
       "\t\\hline\n",
       "\t& Int64 & Int64 & Int64\\\\\n",
       "\t\\hline\n",
       "\t1 & 1 & 1 & 101 \\\\\n",
       "\t2 & 2 & 2 & 102 \\\\\n",
       "\t3 & 3 & 3 & 103 \\\\\n",
       "\t4 & 4 & 4 & 104 \\\\\n",
       "\t5 & 5 & 5 & 105 \\\\\n",
       "\t6 & 6 & 6 & 106 \\\\\n",
       "\t7 & 7 & 7 & 107 \\\\\n",
       "\t8 & 8 & 8 & 108 \\\\\n",
       "\t9 & 9 & 9 & 109 \\\\\n",
       "\t10 & 10 & 10 & 110 \\\\\n",
       "\t11 & 1 & 11 & 111 \\\\\n",
       "\t12 & 2 & 12 & 112 \\\\\n",
       "\t13 & 3 & 13 & 113 \\\\\n",
       "\t14 & 4 & 14 & 114 \\\\\n",
       "\t15 & 5 & 15 & 115 \\\\\n",
       "\t$\\dots$ & $\\dots$ & $\\dots$ & $\\dots$ \\\\\n",
       "\\end{tabular}\n"
      ],
      "text/plain": [
       "\u001b[1m100×3 DataFrame\u001b[0m\n",
       "\u001b[1m Row \u001b[0m│\u001b[1m id    \u001b[0m\u001b[1m x1    \u001b[0m\u001b[1m x2    \u001b[0m\n",
       "\u001b[1m     \u001b[0m│\u001b[90m Int64 \u001b[0m\u001b[90m Int64 \u001b[0m\u001b[90m Int64 \u001b[0m\n",
       "─────┼─────────────────────\n",
       "   1 │     1      1    101\n",
       "   2 │     2      2    102\n",
       "   3 │     3      3    103\n",
       "  ⋮  │   ⋮      ⋮      ⋮\n",
       "  98 │     8     98    198\n",
       "  99 │     9     99    199\n",
       " 100 │    10    100    200\n",
       "\u001b[36m            94 rows omitted\u001b[0m"
      ]
     },
     "execution_count": 44,
     "metadata": {},
     "output_type": "execute_result"
    }
   ],
   "source": [
    "df = DataFrame(id=repeat(1:10, 10), x1=1:100, x2=101:200)"
   ]
  },
  {
   "cell_type": "code",
   "execution_count": 45,
   "metadata": {},
   "outputs": [
    {
     "data": {
      "text/html": [
       "<div class=\"data-frame\"><p>10 rows × 3 columns</p><table class=\"data-frame\"><thead><tr><th></th><th>id</th><th>x1_minimum</th><th>x2_minimum</th></tr><tr><th></th><th title=\"Int64\">Int64</th><th title=\"Int64\">Int64</th><th title=\"Int64\">Int64</th></tr></thead><tbody><tr><th>1</th><td>1</td><td>1</td><td>101</td></tr><tr><th>2</th><td>2</td><td>2</td><td>102</td></tr><tr><th>3</th><td>3</td><td>3</td><td>103</td></tr><tr><th>4</th><td>4</td><td>4</td><td>104</td></tr><tr><th>5</th><td>5</td><td>5</td><td>105</td></tr><tr><th>6</th><td>6</td><td>6</td><td>106</td></tr><tr><th>7</th><td>7</td><td>7</td><td>107</td></tr><tr><th>8</th><td>8</td><td>8</td><td>108</td></tr><tr><th>9</th><td>9</td><td>9</td><td>109</td></tr><tr><th>10</th><td>10</td><td>10</td><td>110</td></tr></tbody></table></div>"
      ],
      "text/latex": [
       "\\begin{tabular}{r|ccc}\n",
       "\t& id & x1\\_minimum & x2\\_minimum\\\\\n",
       "\t\\hline\n",
       "\t& Int64 & Int64 & Int64\\\\\n",
       "\t\\hline\n",
       "\t1 & 1 & 1 & 101 \\\\\n",
       "\t2 & 2 & 2 & 102 \\\\\n",
       "\t3 & 3 & 3 & 103 \\\\\n",
       "\t4 & 4 & 4 & 104 \\\\\n",
       "\t5 & 5 & 5 & 105 \\\\\n",
       "\t6 & 6 & 6 & 106 \\\\\n",
       "\t7 & 7 & 7 & 107 \\\\\n",
       "\t8 & 8 & 8 & 108 \\\\\n",
       "\t9 & 9 & 9 & 109 \\\\\n",
       "\t10 & 10 & 10 & 110 \\\\\n",
       "\\end{tabular}\n"
      ],
      "text/plain": [
       "\u001b[1m10×3 DataFrame\u001b[0m\n",
       "\u001b[1m Row \u001b[0m│\u001b[1m id    \u001b[0m\u001b[1m x1_minimum \u001b[0m\u001b[1m x2_minimum \u001b[0m\n",
       "\u001b[1m     \u001b[0m│\u001b[90m Int64 \u001b[0m\u001b[90m Int64      \u001b[0m\u001b[90m Int64      \u001b[0m\n",
       "─────┼───────────────────────────────\n",
       "   1 │     1           1         101\n",
       "   2 │     2           2         102\n",
       "   3 │     3           3         103\n",
       "  ⋮  │   ⋮        ⋮           ⋮\n",
       "   8 │     8           8         108\n",
       "   9 │     9           9         109\n",
       "  10 │    10          10         110\n",
       "\u001b[36m                       4 rows omitted\u001b[0m"
      ]
     },
     "execution_count": 45,
     "metadata": {},
     "output_type": "execute_result"
    }
   ],
   "source": [
    "@chain df begin\n",
    "    groupby(:id)\n",
    "    combine([:x1, :x2] .=> minimum)\n",
    "end"
   ]
  },
  {
   "cell_type": "code",
   "execution_count": 46,
   "metadata": {},
   "outputs": [
    {
     "data": {
      "text/html": [
       "<div class=\"data-frame\"><p>10 rows × 5 columns</p><table class=\"data-frame\"><thead><tr><th></th><th>id</th><th>x1_minimum</th><th>x2_minimum</th><th>x1_maximum</th><th>x2_maximum</th></tr><tr><th></th><th title=\"Int64\">Int64</th><th title=\"Int64\">Int64</th><th title=\"Int64\">Int64</th><th title=\"Int64\">Int64</th><th title=\"Int64\">Int64</th></tr></thead><tbody><tr><th>1</th><td>1</td><td>1</td><td>101</td><td>91</td><td>191</td></tr><tr><th>2</th><td>2</td><td>2</td><td>102</td><td>92</td><td>192</td></tr><tr><th>3</th><td>3</td><td>3</td><td>103</td><td>93</td><td>193</td></tr><tr><th>4</th><td>4</td><td>4</td><td>104</td><td>94</td><td>194</td></tr><tr><th>5</th><td>5</td><td>5</td><td>105</td><td>95</td><td>195</td></tr><tr><th>6</th><td>6</td><td>6</td><td>106</td><td>96</td><td>196</td></tr><tr><th>7</th><td>7</td><td>7</td><td>107</td><td>97</td><td>197</td></tr><tr><th>8</th><td>8</td><td>8</td><td>108</td><td>98</td><td>198</td></tr><tr><th>9</th><td>9</td><td>9</td><td>109</td><td>99</td><td>199</td></tr><tr><th>10</th><td>10</td><td>10</td><td>110</td><td>100</td><td>200</td></tr></tbody></table></div>"
      ],
      "text/latex": [
       "\\begin{tabular}{r|ccccc}\n",
       "\t& id & x1\\_minimum & x2\\_minimum & x1\\_maximum & x2\\_maximum\\\\\n",
       "\t\\hline\n",
       "\t& Int64 & Int64 & Int64 & Int64 & Int64\\\\\n",
       "\t\\hline\n",
       "\t1 & 1 & 1 & 101 & 91 & 191 \\\\\n",
       "\t2 & 2 & 2 & 102 & 92 & 192 \\\\\n",
       "\t3 & 3 & 3 & 103 & 93 & 193 \\\\\n",
       "\t4 & 4 & 4 & 104 & 94 & 194 \\\\\n",
       "\t5 & 5 & 5 & 105 & 95 & 195 \\\\\n",
       "\t6 & 6 & 6 & 106 & 96 & 196 \\\\\n",
       "\t7 & 7 & 7 & 107 & 97 & 197 \\\\\n",
       "\t8 & 8 & 8 & 108 & 98 & 198 \\\\\n",
       "\t9 & 9 & 9 & 109 & 99 & 199 \\\\\n",
       "\t10 & 10 & 10 & 110 & 100 & 200 \\\\\n",
       "\\end{tabular}\n"
      ],
      "text/plain": [
       "\u001b[1m10×5 DataFrame\u001b[0m\n",
       "\u001b[1m Row \u001b[0m│\u001b[1m id    \u001b[0m\u001b[1m x1_minimum \u001b[0m\u001b[1m x2_minimum \u001b[0m\u001b[1m x1_maximum \u001b[0m\u001b[1m x2_maximum \u001b[0m\n",
       "\u001b[1m     \u001b[0m│\u001b[90m Int64 \u001b[0m\u001b[90m Int64      \u001b[0m\u001b[90m Int64      \u001b[0m\u001b[90m Int64      \u001b[0m\u001b[90m Int64      \u001b[0m\n",
       "─────┼───────────────────────────────────────────────────────\n",
       "   1 │     1           1         101          91         191\n",
       "   2 │     2           2         102          92         192\n",
       "   3 │     3           3         103          93         193\n",
       "  ⋮  │   ⋮        ⋮           ⋮           ⋮           ⋮\n",
       "   8 │     8           8         108          98         198\n",
       "   9 │     9           9         109          99         199\n",
       "  10 │    10          10         110         100         200\n",
       "\u001b[36m                                               4 rows omitted\u001b[0m"
      ]
     },
     "execution_count": 46,
     "metadata": {},
     "output_type": "execute_result"
    }
   ],
   "source": [
    "@chain df begin\n",
    "    groupby(:id)\n",
    "    combine([:x1, :x2] .=> [minimum maximum])\n",
    "end"
   ]
  },
  {
   "cell_type": "markdown",
   "metadata": {},
   "source": [
    "### Aggregation of a data frame using `mapcols`"
   ]
  },
  {
   "cell_type": "code",
   "execution_count": 47,
   "metadata": {},
   "outputs": [
    {
     "data": {
      "text/html": [
       "<div class=\"data-frame\"><p>10 rows × 10 columns (omitted printing of 2 columns)</p><table class=\"data-frame\"><thead><tr><th></th><th>x1</th><th>x2</th><th>x3</th><th>x4</th><th>x5</th><th>x6</th><th>x7</th><th>x8</th></tr><tr><th></th><th title=\"Float64\">Float64</th><th title=\"Float64\">Float64</th><th title=\"Float64\">Float64</th><th title=\"Float64\">Float64</th><th title=\"Float64\">Float64</th><th title=\"Float64\">Float64</th><th title=\"Float64\">Float64</th><th title=\"Float64\">Float64</th></tr></thead><tbody><tr><th>1</th><td>0.110505</td><td>0.965201</td><td>0.331423</td><td>0.937123</td><td>0.138926</td><td>0.911185</td><td>0.770002</td><td>0.214889</td></tr><tr><th>2</th><td>0.786783</td><td>0.696481</td><td>0.107579</td><td>0.857731</td><td>0.185325</td><td>0.10649</td><td>0.42865</td><td>0.0791703</td></tr><tr><th>3</th><td>0.384666</td><td>0.17547</td><td>0.507479</td><td>0.765465</td><td>0.781298</td><td>0.174763</td><td>0.531973</td><td>0.82144</td></tr><tr><th>4</th><td>0.742875</td><td>0.534935</td><td>0.524817</td><td>0.923702</td><td>0.98908</td><td>0.852975</td><td>0.337276</td><td>0.811552</td></tr><tr><th>5</th><td>0.505054</td><td>0.0742155</td><td>0.330711</td><td>0.701384</td><td>0.467586</td><td>0.0275657</td><td>0.241088</td><td>0.765081</td></tr><tr><th>6</th><td>0.872524</td><td>0.968185</td><td>0.94927</td><td>0.698919</td><td>0.15139</td><td>0.647034</td><td>0.328877</td><td>0.797069</td></tr><tr><th>7</th><td>0.0192887</td><td>0.619312</td><td>0.853525</td><td>0.584465</td><td>0.679903</td><td>0.576564</td><td>0.977158</td><td>0.810688</td></tr><tr><th>8</th><td>0.670286</td><td>0.846774</td><td>0.583749</td><td>0.684217</td><td>0.0776146</td><td>0.604345</td><td>0.445025</td><td>0.364179</td></tr><tr><th>9</th><td>0.280338</td><td>0.342745</td><td>0.93098</td><td>0.184023</td><td>0.560151</td><td>0.683693</td><td>0.825101</td><td>0.23244</td></tr><tr><th>10</th><td>0.716477</td><td>0.8853</td><td>0.699546</td><td>0.0101236</td><td>0.120847</td><td>0.281389</td><td>0.757473</td><td>0.805858</td></tr></tbody></table></div>"
      ],
      "text/latex": [
       "\\begin{tabular}{r|ccccccccc}\n",
       "\t& x1 & x2 & x3 & x4 & x5 & x6 & x7 & x8 & \\\\\n",
       "\t\\hline\n",
       "\t& Float64 & Float64 & Float64 & Float64 & Float64 & Float64 & Float64 & Float64 & \\\\\n",
       "\t\\hline\n",
       "\t1 & 0.110505 & 0.965201 & 0.331423 & 0.937123 & 0.138926 & 0.911185 & 0.770002 & 0.214889 & $\\dots$ \\\\\n",
       "\t2 & 0.786783 & 0.696481 & 0.107579 & 0.857731 & 0.185325 & 0.10649 & 0.42865 & 0.0791703 & $\\dots$ \\\\\n",
       "\t3 & 0.384666 & 0.17547 & 0.507479 & 0.765465 & 0.781298 & 0.174763 & 0.531973 & 0.82144 & $\\dots$ \\\\\n",
       "\t4 & 0.742875 & 0.534935 & 0.524817 & 0.923702 & 0.98908 & 0.852975 & 0.337276 & 0.811552 & $\\dots$ \\\\\n",
       "\t5 & 0.505054 & 0.0742155 & 0.330711 & 0.701384 & 0.467586 & 0.0275657 & 0.241088 & 0.765081 & $\\dots$ \\\\\n",
       "\t6 & 0.872524 & 0.968185 & 0.94927 & 0.698919 & 0.15139 & 0.647034 & 0.328877 & 0.797069 & $\\dots$ \\\\\n",
       "\t7 & 0.0192887 & 0.619312 & 0.853525 & 0.584465 & 0.679903 & 0.576564 & 0.977158 & 0.810688 & $\\dots$ \\\\\n",
       "\t8 & 0.670286 & 0.846774 & 0.583749 & 0.684217 & 0.0776146 & 0.604345 & 0.445025 & 0.364179 & $\\dots$ \\\\\n",
       "\t9 & 0.280338 & 0.342745 & 0.93098 & 0.184023 & 0.560151 & 0.683693 & 0.825101 & 0.23244 & $\\dots$ \\\\\n",
       "\t10 & 0.716477 & 0.8853 & 0.699546 & 0.0101236 & 0.120847 & 0.281389 & 0.757473 & 0.805858 & $\\dots$ \\\\\n",
       "\\end{tabular}\n"
      ],
      "text/plain": [
       "\u001b[1m10×10 DataFrame\u001b[0m\n",
       "\u001b[1m Row \u001b[0m│\u001b[1m x1        \u001b[0m\u001b[1m x2        \u001b[0m\u001b[1m x3       \u001b[0m\u001b[1m x4        \u001b[0m\u001b[1m x5        \u001b[0m\u001b[1m x6        \u001b[0m\u001b[1m x7    \u001b[0m ⋯\n",
       "\u001b[1m     \u001b[0m│\u001b[90m Float64   \u001b[0m\u001b[90m Float64   \u001b[0m\u001b[90m Float64  \u001b[0m\u001b[90m Float64   \u001b[0m\u001b[90m Float64   \u001b[0m\u001b[90m Float64   \u001b[0m\u001b[90m Float6\u001b[0m ⋯\n",
       "─────┼──────────────────────────────────────────────────────────────────────────\n",
       "   1 │ 0.110505   0.965201   0.331423  0.937123   0.138926   0.911185   0.7700 ⋯\n",
       "   2 │ 0.786783   0.696481   0.107579  0.857731   0.185325   0.10649    0.4286\n",
       "   3 │ 0.384666   0.17547    0.507479  0.765465   0.781298   0.174763   0.5319\n",
       "  ⋮  │     ⋮          ⋮         ⋮          ⋮          ⋮          ⋮         ⋮   ⋱\n",
       "   8 │ 0.670286   0.846774   0.583749  0.684217   0.0776146  0.604345   0.4450\n",
       "   9 │ 0.280338   0.342745   0.93098   0.184023   0.560151   0.683693   0.8251 ⋯\n",
       "  10 │ 0.716477   0.8853     0.699546  0.0101236  0.120847   0.281389   0.7574\n",
       "\u001b[36m                                                    4 columns and 4 rows omitted\u001b[0m"
      ]
     },
     "execution_count": 47,
     "metadata": {},
     "output_type": "execute_result"
    }
   ],
   "source": [
    "x = DataFrame(rand(10, 10), :auto)"
   ]
  },
  {
   "cell_type": "code",
   "execution_count": 48,
   "metadata": {},
   "outputs": [
    {
     "data": {
      "text/html": [
       "<div class=\"data-frame\"><p>1 rows × 10 columns (omitted printing of 1 columns)</p><table class=\"data-frame\"><thead><tr><th></th><th>x1</th><th>x2</th><th>x3</th><th>x4</th><th>x5</th><th>x6</th><th>x7</th><th>x8</th><th>x9</th></tr><tr><th></th><th title=\"Float64\">Float64</th><th title=\"Float64\">Float64</th><th title=\"Float64\">Float64</th><th title=\"Float64\">Float64</th><th title=\"Float64\">Float64</th><th title=\"Float64\">Float64</th><th title=\"Float64\">Float64</th><th title=\"Float64\">Float64</th><th title=\"Float64\">Float64</th></tr></thead><tbody><tr><th>1</th><td>0.50888</td><td>0.610862</td><td>0.581908</td><td>0.634715</td><td>0.415212</td><td>0.4866</td><td>0.564262</td><td>0.570237</td><td>0.605061</td></tr></tbody></table></div>"
      ],
      "text/latex": [
       "\\begin{tabular}{r|cccccccccc}\n",
       "\t& x1 & x2 & x3 & x4 & x5 & x6 & x7 & x8 & x9 & \\\\\n",
       "\t\\hline\n",
       "\t& Float64 & Float64 & Float64 & Float64 & Float64 & Float64 & Float64 & Float64 & Float64 & \\\\\n",
       "\t\\hline\n",
       "\t1 & 0.50888 & 0.610862 & 0.581908 & 0.634715 & 0.415212 & 0.4866 & 0.564262 & 0.570237 & 0.605061 & $\\dots$ \\\\\n",
       "\\end{tabular}\n"
      ],
      "text/plain": [
       "\u001b[1m1×10 DataFrame\u001b[0m\n",
       "\u001b[1m Row \u001b[0m│\u001b[1m x1      \u001b[0m\u001b[1m x2       \u001b[0m\u001b[1m x3       \u001b[0m\u001b[1m x4       \u001b[0m\u001b[1m x5       \u001b[0m\u001b[1m x6      \u001b[0m\u001b[1m x7       \u001b[0m\u001b[1m x8 \u001b[0m ⋯\n",
       "\u001b[1m     \u001b[0m│\u001b[90m Float64 \u001b[0m\u001b[90m Float64  \u001b[0m\u001b[90m Float64  \u001b[0m\u001b[90m Float64  \u001b[0m\u001b[90m Float64  \u001b[0m\u001b[90m Float64 \u001b[0m\u001b[90m Float64  \u001b[0m\u001b[90m Flo\u001b[0m ⋯\n",
       "─────┼──────────────────────────────────────────────────────────────────────────\n",
       "   1 │ 0.50888  0.610862  0.581908  0.634715  0.415212   0.4866  0.564262  0.5 ⋯\n",
       "\u001b[36m                                                               3 columns omitted\u001b[0m"
      ]
     },
     "execution_count": 48,
     "metadata": {},
     "output_type": "execute_result"
    }
   ],
   "source": [
    "mapcols(mean, x)"
   ]
  },
  {
   "cell_type": "markdown",
   "metadata": {},
   "source": [
    "### Mapping rows and columns using `eachcol` and `eachrow`"
   ]
  },
  {
   "cell_type": "code",
   "execution_count": 49,
   "metadata": {},
   "outputs": [
    {
     "data": {
      "text/plain": [
       "10-element Vector{Float64}:\n",
       " 0.5088797494143702\n",
       " 0.6108619179105791\n",
       " 0.581907842918649\n",
       " 0.6347151784261741\n",
       " 0.4152119972212532\n",
       " 0.48660038738308364\n",
       " 0.5642623575103447\n",
       " 0.5702367028988784\n",
       " 0.6050605606487032\n",
       " 0.5045073692757193"
      ]
     },
     "execution_count": 49,
     "metadata": {},
     "output_type": "execute_result"
    }
   ],
   "source": [
    "map(mean, eachcol(x)) # map a function over each column and return a vector"
   ]
  },
  {
   "cell_type": "code",
   "execution_count": 50,
   "metadata": {},
   "outputs": [
    {
     "name": "stdout",
     "output_type": "stream",
     "text": [
      "x1: 0.5088797494143702\n",
      "x2: 0.6108619179105791\n",
      "x3: 0.581907842918649\n",
      "x4: 0.6347151784261741\n",
      "x5: 0.4152119972212532\n",
      "x6: 0.48660038738308364\n",
      "x7: 0.5642623575103447\n",
      "x8: 0.5702367028988784\n",
      "x9: 0.6050605606487032\n",
      "x10: 0.5045073692757193\n"
     ]
    }
   ],
   "source": [
    "# an iteration returns a Pair with column name and values\n",
    "foreach(c -> println(c[1], \": \", mean(c[2])), pairs(eachcol(x)))"
   ]
  },
  {
   "cell_type": "code",
   "execution_count": 51,
   "metadata": {},
   "outputs": [
    {
     "data": {
      "text/plain": [
       "10-element Vector{Float64}:\n",
       " 0.11448872527970738\n",
       " 1.1296554444601636\n",
       " 2.1921998834884002\n",
       " 1.3887217637513376\n",
       " 6.805242890770891\n",
       " 0.901194756902887\n",
       " 0.031145401059764443\n",
       " 0.7915764873352583\n",
       " 0.8179202067247894\n",
       " 0.8093040493799194"
      ]
     },
     "execution_count": 51,
     "metadata": {},
     "output_type": "execute_result"
    }
   ],
   "source": [
    "# now the returned value is DataFrameRow which works as a NamedTuple but is a view to a parent DataFrame\n",
    "map(r -> r.x1/r.x2, eachrow(x))"
   ]
  },
  {
   "cell_type": "code",
   "execution_count": 52,
   "metadata": {},
   "outputs": [
    {
     "data": {
      "text/html": [
       "<p>10×10 DataFrameRows</p><div class=\"data-frame\"><table class=\"data-frame\"><thead><tr><th></th><th>x1</th><th>x2</th><th>x3</th><th>x4</th><th>x5</th><th>x6</th><th>x7</th><th>x8</th></tr><tr><th></th><th title=\"Float64\">Float64</th><th title=\"Float64\">Float64</th><th title=\"Float64\">Float64</th><th title=\"Float64\">Float64</th><th title=\"Float64\">Float64</th><th title=\"Float64\">Float64</th><th title=\"Float64\">Float64</th><th title=\"Float64\">Float64</th></tr></thead><tbody><tr><th>1</th><td>0.110505</td><td>0.965201</td><td>0.331423</td><td>0.937123</td><td>0.138926</td><td>0.911185</td><td>0.770002</td><td>0.214889</td></tr><tr><th>2</th><td>0.786783</td><td>0.696481</td><td>0.107579</td><td>0.857731</td><td>0.185325</td><td>0.10649</td><td>0.42865</td><td>0.0791703</td></tr><tr><th>3</th><td>0.384666</td><td>0.17547</td><td>0.507479</td><td>0.765465</td><td>0.781298</td><td>0.174763</td><td>0.531973</td><td>0.82144</td></tr><tr><th>4</th><td>0.742875</td><td>0.534935</td><td>0.524817</td><td>0.923702</td><td>0.98908</td><td>0.852975</td><td>0.337276</td><td>0.811552</td></tr><tr><th>5</th><td>0.505054</td><td>0.0742155</td><td>0.330711</td><td>0.701384</td><td>0.467586</td><td>0.0275657</td><td>0.241088</td><td>0.765081</td></tr><tr><th>6</th><td>0.872524</td><td>0.968185</td><td>0.94927</td><td>0.698919</td><td>0.15139</td><td>0.647034</td><td>0.328877</td><td>0.797069</td></tr><tr><th>7</th><td>0.0192887</td><td>0.619312</td><td>0.853525</td><td>0.584465</td><td>0.679903</td><td>0.576564</td><td>0.977158</td><td>0.810688</td></tr><tr><th>8</th><td>0.670286</td><td>0.846774</td><td>0.583749</td><td>0.684217</td><td>0.0776146</td><td>0.604345</td><td>0.445025</td><td>0.364179</td></tr><tr><th>9</th><td>0.280338</td><td>0.342745</td><td>0.93098</td><td>0.184023</td><td>0.560151</td><td>0.683693</td><td>0.825101</td><td>0.23244</td></tr><tr><th>10</th><td>0.716477</td><td>0.8853</td><td>0.699546</td><td>0.0101236</td><td>0.120847</td><td>0.281389</td><td>0.757473</td><td>0.805858</td></tr></tbody></table></div>"
      ],
      "text/latex": [
       "\\begin{tabular}{r|ccccccccc}\n",
       "\t& x1 & x2 & x3 & x4 & x5 & x6 & x7 & x8 & \\\\\n",
       "\t\\hline\n",
       "\t& Float64 & Float64 & Float64 & Float64 & Float64 & Float64 & Float64 & Float64 & \\\\\n",
       "\t\\hline\n",
       "\t1 & 0.110505 & 0.965201 & 0.331423 & 0.937123 & 0.138926 & 0.911185 & 0.770002 & 0.214889 & $\\dots$ \\\\\n",
       "\t2 & 0.786783 & 0.696481 & 0.107579 & 0.857731 & 0.185325 & 0.10649 & 0.42865 & 0.0791703 & $\\dots$ \\\\\n",
       "\t3 & 0.384666 & 0.17547 & 0.507479 & 0.765465 & 0.781298 & 0.174763 & 0.531973 & 0.82144 & $\\dots$ \\\\\n",
       "\t4 & 0.742875 & 0.534935 & 0.524817 & 0.923702 & 0.98908 & 0.852975 & 0.337276 & 0.811552 & $\\dots$ \\\\\n",
       "\t5 & 0.505054 & 0.0742155 & 0.330711 & 0.701384 & 0.467586 & 0.0275657 & 0.241088 & 0.765081 & $\\dots$ \\\\\n",
       "\t6 & 0.872524 & 0.968185 & 0.94927 & 0.698919 & 0.15139 & 0.647034 & 0.328877 & 0.797069 & $\\dots$ \\\\\n",
       "\t7 & 0.0192887 & 0.619312 & 0.853525 & 0.584465 & 0.679903 & 0.576564 & 0.977158 & 0.810688 & $\\dots$ \\\\\n",
       "\t8 & 0.670286 & 0.846774 & 0.583749 & 0.684217 & 0.0776146 & 0.604345 & 0.445025 & 0.364179 & $\\dots$ \\\\\n",
       "\t9 & 0.280338 & 0.342745 & 0.93098 & 0.184023 & 0.560151 & 0.683693 & 0.825101 & 0.23244 & $\\dots$ \\\\\n",
       "\t10 & 0.716477 & 0.8853 & 0.699546 & 0.0101236 & 0.120847 & 0.281389 & 0.757473 & 0.805858 & $\\dots$ \\\\\n",
       "\\end{tabular}\n"
      ],
      "text/plain": [
       "\u001b[1m10×10 DataFrameRows\u001b[0m\n",
       "\u001b[1m Row \u001b[0m│\u001b[1m x1        \u001b[0m\u001b[1m x2        \u001b[0m\u001b[1m x3       \u001b[0m\u001b[1m x4        \u001b[0m\u001b[1m x5        \u001b[0m\u001b[1m x6        \u001b[0m\u001b[1m x7    \u001b[0m ⋯\n",
       "\u001b[1m     \u001b[0m│\u001b[90m Float64   \u001b[0m\u001b[90m Float64   \u001b[0m\u001b[90m Float64  \u001b[0m\u001b[90m Float64   \u001b[0m\u001b[90m Float64   \u001b[0m\u001b[90m Float64   \u001b[0m\u001b[90m Float6\u001b[0m ⋯\n",
       "─────┼──────────────────────────────────────────────────────────────────────────\n",
       "   1 │ 0.110505   0.965201   0.331423  0.937123   0.138926   0.911185   0.7700 ⋯\n",
       "   2 │ 0.786783   0.696481   0.107579  0.857731   0.185325   0.10649    0.4286\n",
       "   3 │ 0.384666   0.17547    0.507479  0.765465   0.781298   0.174763   0.5319\n",
       "  ⋮  │     ⋮          ⋮         ⋮          ⋮          ⋮          ⋮         ⋮   ⋱\n",
       "   8 │ 0.670286   0.846774   0.583749  0.684217   0.0776146  0.604345   0.4450\n",
       "   9 │ 0.280338   0.342745   0.93098   0.184023   0.560151   0.683693   0.8251 ⋯\n",
       "  10 │ 0.716477   0.8853     0.699546  0.0101236  0.120847   0.281389   0.7574\n",
       "\u001b[36m                                                    4 columns and 4 rows omitted\u001b[0m"
      ]
     },
     "execution_count": 52,
     "metadata": {},
     "output_type": "execute_result"
    }
   ],
   "source": [
    "# it prints like a data frame, only the caption is different so that you know the type of the object\n",
    "er = eachrow(x)"
   ]
  },
  {
   "cell_type": "code",
   "execution_count": 53,
   "metadata": {},
   "outputs": [
    {
     "data": {
      "text/plain": [
       "10-element Vector{Float64}:\n",
       " 0.11050461215670915\n",
       " 0.7867831342553142\n",
       " 0.3846660923064339\n",
       " 0.7428753028428708\n",
       " 0.5050543031364177\n",
       " 0.872523561430998\n",
       " 0.01928873418323085\n",
       " 0.6702863442193413\n",
       " 0.28033826199693035\n",
       " 0.7164771476154571"
      ]
     },
     "execution_count": 53,
     "metadata": {},
     "output_type": "execute_result"
    }
   ],
   "source": [
    "er.x1 # you can access columns of a parent data frame directly"
   ]
  },
  {
   "cell_type": "code",
   "execution_count": 54,
   "metadata": {},
   "outputs": [
    {
     "data": {
      "text/html": [
       "<p>10×10 DataFrameColumns</p><div class=\"data-frame\"><table class=\"data-frame\"><thead><tr><th></th><th>x1</th><th>x2</th><th>x3</th><th>x4</th><th>x5</th><th>x6</th><th>x7</th><th>x8</th></tr><tr><th></th><th title=\"Float64\">Float64</th><th title=\"Float64\">Float64</th><th title=\"Float64\">Float64</th><th title=\"Float64\">Float64</th><th title=\"Float64\">Float64</th><th title=\"Float64\">Float64</th><th title=\"Float64\">Float64</th><th title=\"Float64\">Float64</th></tr></thead><tbody><tr><th>1</th><td>0.110505</td><td>0.965201</td><td>0.331423</td><td>0.937123</td><td>0.138926</td><td>0.911185</td><td>0.770002</td><td>0.214889</td></tr><tr><th>2</th><td>0.786783</td><td>0.696481</td><td>0.107579</td><td>0.857731</td><td>0.185325</td><td>0.10649</td><td>0.42865</td><td>0.0791703</td></tr><tr><th>3</th><td>0.384666</td><td>0.17547</td><td>0.507479</td><td>0.765465</td><td>0.781298</td><td>0.174763</td><td>0.531973</td><td>0.82144</td></tr><tr><th>4</th><td>0.742875</td><td>0.534935</td><td>0.524817</td><td>0.923702</td><td>0.98908</td><td>0.852975</td><td>0.337276</td><td>0.811552</td></tr><tr><th>5</th><td>0.505054</td><td>0.0742155</td><td>0.330711</td><td>0.701384</td><td>0.467586</td><td>0.0275657</td><td>0.241088</td><td>0.765081</td></tr><tr><th>6</th><td>0.872524</td><td>0.968185</td><td>0.94927</td><td>0.698919</td><td>0.15139</td><td>0.647034</td><td>0.328877</td><td>0.797069</td></tr><tr><th>7</th><td>0.0192887</td><td>0.619312</td><td>0.853525</td><td>0.584465</td><td>0.679903</td><td>0.576564</td><td>0.977158</td><td>0.810688</td></tr><tr><th>8</th><td>0.670286</td><td>0.846774</td><td>0.583749</td><td>0.684217</td><td>0.0776146</td><td>0.604345</td><td>0.445025</td><td>0.364179</td></tr><tr><th>9</th><td>0.280338</td><td>0.342745</td><td>0.93098</td><td>0.184023</td><td>0.560151</td><td>0.683693</td><td>0.825101</td><td>0.23244</td></tr><tr><th>10</th><td>0.716477</td><td>0.8853</td><td>0.699546</td><td>0.0101236</td><td>0.120847</td><td>0.281389</td><td>0.757473</td><td>0.805858</td></tr></tbody></table></div>"
      ],
      "text/latex": [
       "\\begin{tabular}{r|ccccccccc}\n",
       "\t& x1 & x2 & x3 & x4 & x5 & x6 & x7 & x8 & \\\\\n",
       "\t\\hline\n",
       "\t& Float64 & Float64 & Float64 & Float64 & Float64 & Float64 & Float64 & Float64 & \\\\\n",
       "\t\\hline\n",
       "\t1 & 0.110505 & 0.965201 & 0.331423 & 0.937123 & 0.138926 & 0.911185 & 0.770002 & 0.214889 & $\\dots$ \\\\\n",
       "\t2 & 0.786783 & 0.696481 & 0.107579 & 0.857731 & 0.185325 & 0.10649 & 0.42865 & 0.0791703 & $\\dots$ \\\\\n",
       "\t3 & 0.384666 & 0.17547 & 0.507479 & 0.765465 & 0.781298 & 0.174763 & 0.531973 & 0.82144 & $\\dots$ \\\\\n",
       "\t4 & 0.742875 & 0.534935 & 0.524817 & 0.923702 & 0.98908 & 0.852975 & 0.337276 & 0.811552 & $\\dots$ \\\\\n",
       "\t5 & 0.505054 & 0.0742155 & 0.330711 & 0.701384 & 0.467586 & 0.0275657 & 0.241088 & 0.765081 & $\\dots$ \\\\\n",
       "\t6 & 0.872524 & 0.968185 & 0.94927 & 0.698919 & 0.15139 & 0.647034 & 0.328877 & 0.797069 & $\\dots$ \\\\\n",
       "\t7 & 0.0192887 & 0.619312 & 0.853525 & 0.584465 & 0.679903 & 0.576564 & 0.977158 & 0.810688 & $\\dots$ \\\\\n",
       "\t8 & 0.670286 & 0.846774 & 0.583749 & 0.684217 & 0.0776146 & 0.604345 & 0.445025 & 0.364179 & $\\dots$ \\\\\n",
       "\t9 & 0.280338 & 0.342745 & 0.93098 & 0.184023 & 0.560151 & 0.683693 & 0.825101 & 0.23244 & $\\dots$ \\\\\n",
       "\t10 & 0.716477 & 0.8853 & 0.699546 & 0.0101236 & 0.120847 & 0.281389 & 0.757473 & 0.805858 & $\\dots$ \\\\\n",
       "\\end{tabular}\n"
      ],
      "text/plain": [
       "\u001b[1m10×10 DataFrameColumns\u001b[0m\n",
       "\u001b[1m Row \u001b[0m│\u001b[1m x1        \u001b[0m\u001b[1m x2        \u001b[0m\u001b[1m x3       \u001b[0m\u001b[1m x4        \u001b[0m\u001b[1m x5        \u001b[0m\u001b[1m x6        \u001b[0m\u001b[1m x7    \u001b[0m ⋯\n",
       "\u001b[1m     \u001b[0m│\u001b[90m Float64   \u001b[0m\u001b[90m Float64   \u001b[0m\u001b[90m Float64  \u001b[0m\u001b[90m Float64   \u001b[0m\u001b[90m Float64   \u001b[0m\u001b[90m Float64   \u001b[0m\u001b[90m Float6\u001b[0m ⋯\n",
       "─────┼──────────────────────────────────────────────────────────────────────────\n",
       "   1 │ 0.110505   0.965201   0.331423  0.937123   0.138926   0.911185   0.7700 ⋯\n",
       "   2 │ 0.786783   0.696481   0.107579  0.857731   0.185325   0.10649    0.4286\n",
       "   3 │ 0.384666   0.17547    0.507479  0.765465   0.781298   0.174763   0.5319\n",
       "  ⋮  │     ⋮          ⋮         ⋮          ⋮          ⋮          ⋮         ⋮   ⋱\n",
       "   8 │ 0.670286   0.846774   0.583749  0.684217   0.0776146  0.604345   0.4450\n",
       "   9 │ 0.280338   0.342745   0.93098   0.184023   0.560151   0.683693   0.8251 ⋯\n",
       "  10 │ 0.716477   0.8853     0.699546  0.0101236  0.120847   0.281389   0.7574\n",
       "\u001b[36m                                                    4 columns and 4 rows omitted\u001b[0m"
      ]
     },
     "execution_count": 54,
     "metadata": {},
     "output_type": "execute_result"
    }
   ],
   "source": [
    "# it prints like a data frame, only the caption is different so that you know the type of the object\n",
    "ec = eachcol(x)"
   ]
  },
  {
   "cell_type": "code",
   "execution_count": 55,
   "metadata": {},
   "outputs": [
    {
     "data": {
      "text/plain": [
       "10-element Vector{Float64}:\n",
       " 0.11050461215670915\n",
       " 0.7867831342553142\n",
       " 0.3846660923064339\n",
       " 0.7428753028428708\n",
       " 0.5050543031364177\n",
       " 0.872523561430998\n",
       " 0.01928873418323085\n",
       " 0.6702863442193413\n",
       " 0.28033826199693035\n",
       " 0.7164771476154571"
      ]
     },
     "execution_count": 55,
     "metadata": {},
     "output_type": "execute_result"
    }
   ],
   "source": [
    "ec.x1 # you can access columns of a parent data frame directly"
   ]
  },
  {
   "cell_type": "markdown",
   "metadata": {},
   "source": [
    "### Transposing"
   ]
  },
  {
   "cell_type": "markdown",
   "metadata": {},
   "source": [
    "you can transpose a data frame using `permutedims`:"
   ]
  },
  {
   "cell_type": "code",
   "execution_count": 56,
   "metadata": {},
   "outputs": [
    {
     "data": {
      "text/html": [
       "<div class=\"data-frame\"><p>3 rows × 4 columns</p><table class=\"data-frame\"><thead><tr><th></th><th>x1</th><th>x2</th><th>x3</th><th>x4</th></tr><tr><th></th><th title=\"Int64\">Int64</th><th title=\"Int64\">Int64</th><th title=\"Int64\">Int64</th><th title=\"Int64\">Int64</th></tr></thead><tbody><tr><th>1</th><td>1</td><td>4</td><td>7</td><td>10</td></tr><tr><th>2</th><td>2</td><td>5</td><td>8</td><td>11</td></tr><tr><th>3</th><td>3</td><td>6</td><td>9</td><td>12</td></tr></tbody></table></div>"
      ],
      "text/latex": [
       "\\begin{tabular}{r|cccc}\n",
       "\t& x1 & x2 & x3 & x4\\\\\n",
       "\t\\hline\n",
       "\t& Int64 & Int64 & Int64 & Int64\\\\\n",
       "\t\\hline\n",
       "\t1 & 1 & 4 & 7 & 10 \\\\\n",
       "\t2 & 2 & 5 & 8 & 11 \\\\\n",
       "\t3 & 3 & 6 & 9 & 12 \\\\\n",
       "\\end{tabular}\n"
      ],
      "text/plain": [
       "\u001b[1m3×4 DataFrame\u001b[0m\n",
       "\u001b[1m Row \u001b[0m│\u001b[1m x1    \u001b[0m\u001b[1m x2    \u001b[0m\u001b[1m x3    \u001b[0m\u001b[1m x4    \u001b[0m\n",
       "\u001b[1m     \u001b[0m│\u001b[90m Int64 \u001b[0m\u001b[90m Int64 \u001b[0m\u001b[90m Int64 \u001b[0m\u001b[90m Int64 \u001b[0m\n",
       "─────┼────────────────────────────\n",
       "   1 │     1      4      7     10\n",
       "   2 │     2      5      8     11\n",
       "   3 │     3      6      9     12"
      ]
     },
     "execution_count": 56,
     "metadata": {},
     "output_type": "execute_result"
    }
   ],
   "source": [
    "df = DataFrame(reshape(1:12, 3, 4), :auto)"
   ]
  },
  {
   "cell_type": "code",
   "execution_count": 57,
   "metadata": {},
   "outputs": [
    {
     "data": {
      "text/plain": [
       "3-element Vector{String}:\n",
       " \"a\"\n",
       " \"b\"\n",
       " \"c\""
      ]
     },
     "execution_count": 57,
     "metadata": {},
     "output_type": "execute_result"
    }
   ],
   "source": [
    "df.names = [\"a\", \"b\", \"c\"]"
   ]
  },
  {
   "cell_type": "code",
   "execution_count": 58,
   "metadata": {},
   "outputs": [
    {
     "data": {
      "text/html": [
       "<div class=\"data-frame\"><p>4 rows × 4 columns</p><table class=\"data-frame\"><thead><tr><th></th><th>names</th><th>a</th><th>b</th><th>c</th></tr><tr><th></th><th title=\"String\">String</th><th title=\"Int64\">Int64</th><th title=\"Int64\">Int64</th><th title=\"Int64\">Int64</th></tr></thead><tbody><tr><th>1</th><td>x1</td><td>1</td><td>2</td><td>3</td></tr><tr><th>2</th><td>x2</td><td>4</td><td>5</td><td>6</td></tr><tr><th>3</th><td>x3</td><td>7</td><td>8</td><td>9</td></tr><tr><th>4</th><td>x4</td><td>10</td><td>11</td><td>12</td></tr></tbody></table></div>"
      ],
      "text/latex": [
       "\\begin{tabular}{r|cccc}\n",
       "\t& names & a & b & c\\\\\n",
       "\t\\hline\n",
       "\t& String & Int64 & Int64 & Int64\\\\\n",
       "\t\\hline\n",
       "\t1 & x1 & 1 & 2 & 3 \\\\\n",
       "\t2 & x2 & 4 & 5 & 6 \\\\\n",
       "\t3 & x3 & 7 & 8 & 9 \\\\\n",
       "\t4 & x4 & 10 & 11 & 12 \\\\\n",
       "\\end{tabular}\n"
      ],
      "text/plain": [
       "\u001b[1m4×4 DataFrame\u001b[0m\n",
       "\u001b[1m Row \u001b[0m│\u001b[1m names  \u001b[0m\u001b[1m a     \u001b[0m\u001b[1m b     \u001b[0m\u001b[1m c     \u001b[0m\n",
       "\u001b[1m     \u001b[0m│\u001b[90m String \u001b[0m\u001b[90m Int64 \u001b[0m\u001b[90m Int64 \u001b[0m\u001b[90m Int64 \u001b[0m\n",
       "─────┼─────────────────────────────\n",
       "   1 │ x1          1      2      3\n",
       "   2 │ x2          4      5      6\n",
       "   3 │ x3          7      8      9\n",
       "   4 │ x4         10     11     12"
      ]
     },
     "execution_count": 58,
     "metadata": {},
     "output_type": "execute_result"
    }
   ],
   "source": [
    "permutedims(df, :names)"
   ]
  }
 ],
 "metadata": {
  "@webio": {
   "lastCommId": null,
   "lastKernelId": null
  },
  "kernelspec": {
   "display_name": "Julia 1.7.0",
   "language": "julia",
   "name": "julia-1.7"
  },
  "language_info": {
   "file_extension": ".jl",
   "mimetype": "application/julia",
   "name": "julia",
   "version": "1.7.0"
  }
 },
 "nbformat": 4,
 "nbformat_minor": 1
}
