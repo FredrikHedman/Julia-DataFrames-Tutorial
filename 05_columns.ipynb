{
 "cells": [
  {
   "cell_type": "markdown",
   "metadata": {},
   "source": [
    "# Introduction to DataFrames\n",
    "**[Bogumił Kamiński](http://bogumilkaminski.pl/about/), February 13, 2023**"
   ]
  },
  {
   "cell_type": "code",
   "execution_count": 1,
   "metadata": {},
   "outputs": [],
   "source": [
    "using DataFrames"
   ]
  },
  {
   "cell_type": "markdown",
   "metadata": {},
   "source": [
    "## Manipulating columns of a `DataFrame`"
   ]
  },
  {
   "cell_type": "markdown",
   "metadata": {},
   "source": [
    "### Renaming columns\n",
    "\n",
    "Let's start with a `DataFrame` of `Bool`s that has default column names."
   ]
  },
  {
   "cell_type": "code",
   "execution_count": 2,
   "metadata": {},
   "outputs": [
    {
     "data": {
      "text/html": [
       "<div><div style = \"float: left;\"><span>3×4 DataFrame</span></div><div style = \"clear: both;\"></div></div><div class = \"data-frame\" style = \"overflow-x: scroll;\"><table class = \"data-frame\" style = \"margin-bottom: 6px;\"><thead><tr class = \"header\"><th class = \"rowNumber\" style = \"font-weight: bold; text-align: right;\">Row</th><th style = \"text-align: left;\">x1</th><th style = \"text-align: left;\">x2</th><th style = \"text-align: left;\">x3</th><th style = \"text-align: left;\">x4</th></tr><tr class = \"subheader headerLastRow\"><th class = \"rowNumber\" style = \"font-weight: bold; text-align: right;\"></th><th title = \"Bool\" style = \"text-align: left;\">Bool</th><th title = \"Bool\" style = \"text-align: left;\">Bool</th><th title = \"Bool\" style = \"text-align: left;\">Bool</th><th title = \"Bool\" style = \"text-align: left;\">Bool</th></tr></thead><tbody><tr><td class = \"rowNumber\" style = \"font-weight: bold; text-align: right;\">1</td><td style = \"text-align: right;\">true</td><td style = \"text-align: right;\">false</td><td style = \"text-align: right;\">false</td><td style = \"text-align: right;\">false</td></tr><tr><td class = \"rowNumber\" style = \"font-weight: bold; text-align: right;\">2</td><td style = \"text-align: right;\">false</td><td style = \"text-align: right;\">false</td><td style = \"text-align: right;\">true</td><td style = \"text-align: right;\">true</td></tr><tr><td class = \"rowNumber\" style = \"font-weight: bold; text-align: right;\">3</td><td style = \"text-align: right;\">false</td><td style = \"text-align: right;\">true</td><td style = \"text-align: right;\">true</td><td style = \"text-align: right;\">true</td></tr></tbody></table></div>"
      ],
      "text/latex": [
       "\\begin{tabular}{r|cccc}\n",
       "\t& x1 & x2 & x3 & x4\\\\\n",
       "\t\\hline\n",
       "\t& Bool & Bool & Bool & Bool\\\\\n",
       "\t\\hline\n",
       "\t1 & 1 & 0 & 0 & 0 \\\\\n",
       "\t2 & 0 & 0 & 1 & 1 \\\\\n",
       "\t3 & 0 & 1 & 1 & 1 \\\\\n",
       "\\end{tabular}\n"
      ],
      "text/plain": [
       "\u001b[1m3×4 DataFrame\u001b[0m\n",
       "\u001b[1m Row \u001b[0m│\u001b[1m x1    \u001b[0m\u001b[1m x2    \u001b[0m\u001b[1m x3    \u001b[0m\u001b[1m x4    \u001b[0m\n",
       "     │\u001b[90m Bool  \u001b[0m\u001b[90m Bool  \u001b[0m\u001b[90m Bool  \u001b[0m\u001b[90m Bool  \u001b[0m\n",
       "─────┼────────────────────────────\n",
       "   1 │  true  false  false  false\n",
       "   2 │ false  false   true   true\n",
       "   3 │ false   true   true   true"
      ]
     },
     "execution_count": 2,
     "metadata": {},
     "output_type": "execute_result"
    }
   ],
   "source": [
    "x = DataFrame(rand(Bool, 3, 4), :auto)"
   ]
  },
  {
   "cell_type": "markdown",
   "metadata": {},
   "source": [
    "With `rename`, we create new `DataFrame`; here we rename the column `:x1` to `:A`. (`rename` also accepts collections of Pairs.)"
   ]
  },
  {
   "cell_type": "code",
   "execution_count": 3,
   "metadata": {},
   "outputs": [
    {
     "data": {
      "text/html": [
       "<div><div style = \"float: left;\"><span>3×4 DataFrame</span></div><div style = \"clear: both;\"></div></div><div class = \"data-frame\" style = \"overflow-x: scroll;\"><table class = \"data-frame\" style = \"margin-bottom: 6px;\"><thead><tr class = \"header\"><th class = \"rowNumber\" style = \"font-weight: bold; text-align: right;\">Row</th><th style = \"text-align: left;\">A</th><th style = \"text-align: left;\">x2</th><th style = \"text-align: left;\">x3</th><th style = \"text-align: left;\">x4</th></tr><tr class = \"subheader headerLastRow\"><th class = \"rowNumber\" style = \"font-weight: bold; text-align: right;\"></th><th title = \"Bool\" style = \"text-align: left;\">Bool</th><th title = \"Bool\" style = \"text-align: left;\">Bool</th><th title = \"Bool\" style = \"text-align: left;\">Bool</th><th title = \"Bool\" style = \"text-align: left;\">Bool</th></tr></thead><tbody><tr><td class = \"rowNumber\" style = \"font-weight: bold; text-align: right;\">1</td><td style = \"text-align: right;\">true</td><td style = \"text-align: right;\">false</td><td style = \"text-align: right;\">false</td><td style = \"text-align: right;\">false</td></tr><tr><td class = \"rowNumber\" style = \"font-weight: bold; text-align: right;\">2</td><td style = \"text-align: right;\">false</td><td style = \"text-align: right;\">false</td><td style = \"text-align: right;\">true</td><td style = \"text-align: right;\">true</td></tr><tr><td class = \"rowNumber\" style = \"font-weight: bold; text-align: right;\">3</td><td style = \"text-align: right;\">false</td><td style = \"text-align: right;\">true</td><td style = \"text-align: right;\">true</td><td style = \"text-align: right;\">true</td></tr></tbody></table></div>"
      ],
      "text/latex": [
       "\\begin{tabular}{r|cccc}\n",
       "\t& A & x2 & x3 & x4\\\\\n",
       "\t\\hline\n",
       "\t& Bool & Bool & Bool & Bool\\\\\n",
       "\t\\hline\n",
       "\t1 & 1 & 0 & 0 & 0 \\\\\n",
       "\t2 & 0 & 0 & 1 & 1 \\\\\n",
       "\t3 & 0 & 1 & 1 & 1 \\\\\n",
       "\\end{tabular}\n"
      ],
      "text/plain": [
       "\u001b[1m3×4 DataFrame\u001b[0m\n",
       "\u001b[1m Row \u001b[0m│\u001b[1m A     \u001b[0m\u001b[1m x2    \u001b[0m\u001b[1m x3    \u001b[0m\u001b[1m x4    \u001b[0m\n",
       "     │\u001b[90m Bool  \u001b[0m\u001b[90m Bool  \u001b[0m\u001b[90m Bool  \u001b[0m\u001b[90m Bool  \u001b[0m\n",
       "─────┼────────────────────────────\n",
       "   1 │  true  false  false  false\n",
       "   2 │ false  false   true   true\n",
       "   3 │ false   true   true   true"
      ]
     },
     "execution_count": 3,
     "metadata": {},
     "output_type": "execute_result"
    }
   ],
   "source": [
    "rename(x, :x1 => :A)"
   ]
  },
  {
   "cell_type": "markdown",
   "metadata": {},
   "source": [
    "With `rename!` we do an in place transformation. \n",
    "\n",
    "This time we've applied a function to every column name (note that the function gets a column names as a string)."
   ]
  },
  {
   "cell_type": "code",
   "execution_count": 4,
   "metadata": {},
   "outputs": [
    {
     "data": {
      "text/html": [
       "<div><div style = \"float: left;\"><span>3×4 DataFrame</span></div><div style = \"clear: both;\"></div></div><div class = \"data-frame\" style = \"overflow-x: scroll;\"><table class = \"data-frame\" style = \"margin-bottom: 6px;\"><thead><tr class = \"header\"><th class = \"rowNumber\" style = \"font-weight: bold; text-align: right;\">Row</th><th style = \"text-align: left;\">x1x1</th><th style = \"text-align: left;\">x2x2</th><th style = \"text-align: left;\">x3x3</th><th style = \"text-align: left;\">x4x4</th></tr><tr class = \"subheader headerLastRow\"><th class = \"rowNumber\" style = \"font-weight: bold; text-align: right;\"></th><th title = \"Bool\" style = \"text-align: left;\">Bool</th><th title = \"Bool\" style = \"text-align: left;\">Bool</th><th title = \"Bool\" style = \"text-align: left;\">Bool</th><th title = \"Bool\" style = \"text-align: left;\">Bool</th></tr></thead><tbody><tr><td class = \"rowNumber\" style = \"font-weight: bold; text-align: right;\">1</td><td style = \"text-align: right;\">true</td><td style = \"text-align: right;\">false</td><td style = \"text-align: right;\">false</td><td style = \"text-align: right;\">false</td></tr><tr><td class = \"rowNumber\" style = \"font-weight: bold; text-align: right;\">2</td><td style = \"text-align: right;\">false</td><td style = \"text-align: right;\">false</td><td style = \"text-align: right;\">true</td><td style = \"text-align: right;\">true</td></tr><tr><td class = \"rowNumber\" style = \"font-weight: bold; text-align: right;\">3</td><td style = \"text-align: right;\">false</td><td style = \"text-align: right;\">true</td><td style = \"text-align: right;\">true</td><td style = \"text-align: right;\">true</td></tr></tbody></table></div>"
      ],
      "text/latex": [
       "\\begin{tabular}{r|cccc}\n",
       "\t& x1x1 & x2x2 & x3x3 & x4x4\\\\\n",
       "\t\\hline\n",
       "\t& Bool & Bool & Bool & Bool\\\\\n",
       "\t\\hline\n",
       "\t1 & 1 & 0 & 0 & 0 \\\\\n",
       "\t2 & 0 & 0 & 1 & 1 \\\\\n",
       "\t3 & 0 & 1 & 1 & 1 \\\\\n",
       "\\end{tabular}\n"
      ],
      "text/plain": [
       "\u001b[1m3×4 DataFrame\u001b[0m\n",
       "\u001b[1m Row \u001b[0m│\u001b[1m x1x1  \u001b[0m\u001b[1m x2x2  \u001b[0m\u001b[1m x3x3  \u001b[0m\u001b[1m x4x4  \u001b[0m\n",
       "     │\u001b[90m Bool  \u001b[0m\u001b[90m Bool  \u001b[0m\u001b[90m Bool  \u001b[0m\u001b[90m Bool  \u001b[0m\n",
       "─────┼────────────────────────────\n",
       "   1 │  true  false  false  false\n",
       "   2 │ false  false   true   true\n",
       "   3 │ false   true   true   true"
      ]
     },
     "execution_count": 4,
     "metadata": {},
     "output_type": "execute_result"
    }
   ],
   "source": [
    "rename!(c -> c^2, x)"
   ]
  },
  {
   "cell_type": "markdown",
   "metadata": {},
   "source": [
    "We can also change the name of a particular column without knowing the original.\n",
    "\n",
    "Here we change the name of the third column, creating a new `DataFrame`."
   ]
  },
  {
   "cell_type": "code",
   "execution_count": 5,
   "metadata": {},
   "outputs": [
    {
     "data": {
      "text/html": [
       "<div><div style = \"float: left;\"><span>3×4 DataFrame</span></div><div style = \"clear: both;\"></div></div><div class = \"data-frame\" style = \"overflow-x: scroll;\"><table class = \"data-frame\" style = \"margin-bottom: 6px;\"><thead><tr class = \"header\"><th class = \"rowNumber\" style = \"font-weight: bold; text-align: right;\">Row</th><th style = \"text-align: left;\">x1x1</th><th style = \"text-align: left;\">x2x2</th><th style = \"text-align: left;\">third</th><th style = \"text-align: left;\">x4x4</th></tr><tr class = \"subheader headerLastRow\"><th class = \"rowNumber\" style = \"font-weight: bold; text-align: right;\"></th><th title = \"Bool\" style = \"text-align: left;\">Bool</th><th title = \"Bool\" style = \"text-align: left;\">Bool</th><th title = \"Bool\" style = \"text-align: left;\">Bool</th><th title = \"Bool\" style = \"text-align: left;\">Bool</th></tr></thead><tbody><tr><td class = \"rowNumber\" style = \"font-weight: bold; text-align: right;\">1</td><td style = \"text-align: right;\">true</td><td style = \"text-align: right;\">false</td><td style = \"text-align: right;\">false</td><td style = \"text-align: right;\">false</td></tr><tr><td class = \"rowNumber\" style = \"font-weight: bold; text-align: right;\">2</td><td style = \"text-align: right;\">false</td><td style = \"text-align: right;\">false</td><td style = \"text-align: right;\">true</td><td style = \"text-align: right;\">true</td></tr><tr><td class = \"rowNumber\" style = \"font-weight: bold; text-align: right;\">3</td><td style = \"text-align: right;\">false</td><td style = \"text-align: right;\">true</td><td style = \"text-align: right;\">true</td><td style = \"text-align: right;\">true</td></tr></tbody></table></div>"
      ],
      "text/latex": [
       "\\begin{tabular}{r|cccc}\n",
       "\t& x1x1 & x2x2 & third & x4x4\\\\\n",
       "\t\\hline\n",
       "\t& Bool & Bool & Bool & Bool\\\\\n",
       "\t\\hline\n",
       "\t1 & 1 & 0 & 0 & 0 \\\\\n",
       "\t2 & 0 & 0 & 1 & 1 \\\\\n",
       "\t3 & 0 & 1 & 1 & 1 \\\\\n",
       "\\end{tabular}\n"
      ],
      "text/plain": [
       "\u001b[1m3×4 DataFrame\u001b[0m\n",
       "\u001b[1m Row \u001b[0m│\u001b[1m x1x1  \u001b[0m\u001b[1m x2x2  \u001b[0m\u001b[1m third \u001b[0m\u001b[1m x4x4  \u001b[0m\n",
       "     │\u001b[90m Bool  \u001b[0m\u001b[90m Bool  \u001b[0m\u001b[90m Bool  \u001b[0m\u001b[90m Bool  \u001b[0m\n",
       "─────┼────────────────────────────\n",
       "   1 │  true  false  false  false\n",
       "   2 │ false  false   true   true\n",
       "   3 │ false   true   true   true"
      ]
     },
     "execution_count": 5,
     "metadata": {},
     "output_type": "execute_result"
    }
   ],
   "source": [
    "rename(x, 3 => :third)"
   ]
  },
  {
   "cell_type": "markdown",
   "metadata": {},
   "source": [
    "If we pass a vector of names to `rename!`, we can change the names of all variables."
   ]
  },
  {
   "cell_type": "code",
   "execution_count": 6,
   "metadata": {},
   "outputs": [
    {
     "data": {
      "text/html": [
       "<div><div style = \"float: left;\"><span>3×4 DataFrame</span></div><div style = \"clear: both;\"></div></div><div class = \"data-frame\" style = \"overflow-x: scroll;\"><table class = \"data-frame\" style = \"margin-bottom: 6px;\"><thead><tr class = \"header\"><th class = \"rowNumber\" style = \"font-weight: bold; text-align: right;\">Row</th><th style = \"text-align: left;\">a</th><th style = \"text-align: left;\">b</th><th style = \"text-align: left;\">c</th><th style = \"text-align: left;\">d</th></tr><tr class = \"subheader headerLastRow\"><th class = \"rowNumber\" style = \"font-weight: bold; text-align: right;\"></th><th title = \"Bool\" style = \"text-align: left;\">Bool</th><th title = \"Bool\" style = \"text-align: left;\">Bool</th><th title = \"Bool\" style = \"text-align: left;\">Bool</th><th title = \"Bool\" style = \"text-align: left;\">Bool</th></tr></thead><tbody><tr><td class = \"rowNumber\" style = \"font-weight: bold; text-align: right;\">1</td><td style = \"text-align: right;\">true</td><td style = \"text-align: right;\">false</td><td style = \"text-align: right;\">false</td><td style = \"text-align: right;\">false</td></tr><tr><td class = \"rowNumber\" style = \"font-weight: bold; text-align: right;\">2</td><td style = \"text-align: right;\">false</td><td style = \"text-align: right;\">false</td><td style = \"text-align: right;\">true</td><td style = \"text-align: right;\">true</td></tr><tr><td class = \"rowNumber\" style = \"font-weight: bold; text-align: right;\">3</td><td style = \"text-align: right;\">false</td><td style = \"text-align: right;\">true</td><td style = \"text-align: right;\">true</td><td style = \"text-align: right;\">true</td></tr></tbody></table></div>"
      ],
      "text/latex": [
       "\\begin{tabular}{r|cccc}\n",
       "\t& a & b & c & d\\\\\n",
       "\t\\hline\n",
       "\t& Bool & Bool & Bool & Bool\\\\\n",
       "\t\\hline\n",
       "\t1 & 1 & 0 & 0 & 0 \\\\\n",
       "\t2 & 0 & 0 & 1 & 1 \\\\\n",
       "\t3 & 0 & 1 & 1 & 1 \\\\\n",
       "\\end{tabular}\n"
      ],
      "text/plain": [
       "\u001b[1m3×4 DataFrame\u001b[0m\n",
       "\u001b[1m Row \u001b[0m│\u001b[1m a     \u001b[0m\u001b[1m b     \u001b[0m\u001b[1m c     \u001b[0m\u001b[1m d     \u001b[0m\n",
       "     │\u001b[90m Bool  \u001b[0m\u001b[90m Bool  \u001b[0m\u001b[90m Bool  \u001b[0m\u001b[90m Bool  \u001b[0m\n",
       "─────┼────────────────────────────\n",
       "   1 │  true  false  false  false\n",
       "   2 │ false  false   true   true\n",
       "   3 │ false   true   true   true"
      ]
     },
     "execution_count": 6,
     "metadata": {},
     "output_type": "execute_result"
    }
   ],
   "source": [
    "rename!(x, [:a, :b, :c, :d])"
   ]
  },
  {
   "cell_type": "markdown",
   "metadata": {},
   "source": [
    "In all the above examples you could have used strings instead of symbols, e.g."
   ]
  },
  {
   "cell_type": "code",
   "execution_count": 7,
   "metadata": {},
   "outputs": [
    {
     "data": {
      "text/html": [
       "<div><div style = \"float: left;\"><span>3×4 DataFrame</span></div><div style = \"clear: both;\"></div></div><div class = \"data-frame\" style = \"overflow-x: scroll;\"><table class = \"data-frame\" style = \"margin-bottom: 6px;\"><thead><tr class = \"header\"><th class = \"rowNumber\" style = \"font-weight: bold; text-align: right;\">Row</th><th style = \"text-align: left;\">a</th><th style = \"text-align: left;\">b</th><th style = \"text-align: left;\">c</th><th style = \"text-align: left;\">d</th></tr><tr class = \"subheader headerLastRow\"><th class = \"rowNumber\" style = \"font-weight: bold; text-align: right;\"></th><th title = \"Bool\" style = \"text-align: left;\">Bool</th><th title = \"Bool\" style = \"text-align: left;\">Bool</th><th title = \"Bool\" style = \"text-align: left;\">Bool</th><th title = \"Bool\" style = \"text-align: left;\">Bool</th></tr></thead><tbody><tr><td class = \"rowNumber\" style = \"font-weight: bold; text-align: right;\">1</td><td style = \"text-align: right;\">true</td><td style = \"text-align: right;\">false</td><td style = \"text-align: right;\">false</td><td style = \"text-align: right;\">false</td></tr><tr><td class = \"rowNumber\" style = \"font-weight: bold; text-align: right;\">2</td><td style = \"text-align: right;\">false</td><td style = \"text-align: right;\">false</td><td style = \"text-align: right;\">true</td><td style = \"text-align: right;\">true</td></tr><tr><td class = \"rowNumber\" style = \"font-weight: bold; text-align: right;\">3</td><td style = \"text-align: right;\">false</td><td style = \"text-align: right;\">true</td><td style = \"text-align: right;\">true</td><td style = \"text-align: right;\">true</td></tr></tbody></table></div>"
      ],
      "text/latex": [
       "\\begin{tabular}{r|cccc}\n",
       "\t& a & b & c & d\\\\\n",
       "\t\\hline\n",
       "\t& Bool & Bool & Bool & Bool\\\\\n",
       "\t\\hline\n",
       "\t1 & 1 & 0 & 0 & 0 \\\\\n",
       "\t2 & 0 & 0 & 1 & 1 \\\\\n",
       "\t3 & 0 & 1 & 1 & 1 \\\\\n",
       "\\end{tabular}\n"
      ],
      "text/plain": [
       "\u001b[1m3×4 DataFrame\u001b[0m\n",
       "\u001b[1m Row \u001b[0m│\u001b[1m a     \u001b[0m\u001b[1m b     \u001b[0m\u001b[1m c     \u001b[0m\u001b[1m d     \u001b[0m\n",
       "     │\u001b[90m Bool  \u001b[0m\u001b[90m Bool  \u001b[0m\u001b[90m Bool  \u001b[0m\u001b[90m Bool  \u001b[0m\n",
       "─────┼────────────────────────────\n",
       "   1 │  true  false  false  false\n",
       "   2 │ false  false   true   true\n",
       "   3 │ false   true   true   true"
      ]
     },
     "execution_count": 7,
     "metadata": {},
     "output_type": "execute_result"
    }
   ],
   "source": [
    "rename!(x, string.('a':'d'))"
   ]
  },
  {
   "cell_type": "markdown",
   "metadata": {},
   "source": [
    "`rename!` allows for circular renaming of columns, e.g.:"
   ]
  },
  {
   "cell_type": "code",
   "execution_count": 8,
   "metadata": {},
   "outputs": [
    {
     "data": {
      "text/html": [
       "<div><div style = \"float: left;\"><span>3×4 DataFrame</span></div><div style = \"clear: both;\"></div></div><div class = \"data-frame\" style = \"overflow-x: scroll;\"><table class = \"data-frame\" style = \"margin-bottom: 6px;\"><thead><tr class = \"header\"><th class = \"rowNumber\" style = \"font-weight: bold; text-align: right;\">Row</th><th style = \"text-align: left;\">a</th><th style = \"text-align: left;\">b</th><th style = \"text-align: left;\">c</th><th style = \"text-align: left;\">d</th></tr><tr class = \"subheader headerLastRow\"><th class = \"rowNumber\" style = \"font-weight: bold; text-align: right;\"></th><th title = \"Bool\" style = \"text-align: left;\">Bool</th><th title = \"Bool\" style = \"text-align: left;\">Bool</th><th title = \"Bool\" style = \"text-align: left;\">Bool</th><th title = \"Bool\" style = \"text-align: left;\">Bool</th></tr></thead><tbody><tr><td class = \"rowNumber\" style = \"font-weight: bold; text-align: right;\">1</td><td style = \"text-align: right;\">true</td><td style = \"text-align: right;\">false</td><td style = \"text-align: right;\">false</td><td style = \"text-align: right;\">false</td></tr><tr><td class = \"rowNumber\" style = \"font-weight: bold; text-align: right;\">2</td><td style = \"text-align: right;\">false</td><td style = \"text-align: right;\">false</td><td style = \"text-align: right;\">true</td><td style = \"text-align: right;\">true</td></tr><tr><td class = \"rowNumber\" style = \"font-weight: bold; text-align: right;\">3</td><td style = \"text-align: right;\">false</td><td style = \"text-align: right;\">true</td><td style = \"text-align: right;\">true</td><td style = \"text-align: right;\">true</td></tr></tbody></table></div>"
      ],
      "text/latex": [
       "\\begin{tabular}{r|cccc}\n",
       "\t& a & b & c & d\\\\\n",
       "\t\\hline\n",
       "\t& Bool & Bool & Bool & Bool\\\\\n",
       "\t\\hline\n",
       "\t1 & 1 & 0 & 0 & 0 \\\\\n",
       "\t2 & 0 & 0 & 1 & 1 \\\\\n",
       "\t3 & 0 & 1 & 1 & 1 \\\\\n",
       "\\end{tabular}\n"
      ],
      "text/plain": [
       "\u001b[1m3×4 DataFrame\u001b[0m\n",
       "\u001b[1m Row \u001b[0m│\u001b[1m a     \u001b[0m\u001b[1m b     \u001b[0m\u001b[1m c     \u001b[0m\u001b[1m d     \u001b[0m\n",
       "     │\u001b[90m Bool  \u001b[0m\u001b[90m Bool  \u001b[0m\u001b[90m Bool  \u001b[0m\u001b[90m Bool  \u001b[0m\n",
       "─────┼────────────────────────────\n",
       "   1 │  true  false  false  false\n",
       "   2 │ false  false   true   true\n",
       "   3 │ false   true   true   true"
      ]
     },
     "execution_count": 8,
     "metadata": {},
     "output_type": "execute_result"
    }
   ],
   "source": [
    "x"
   ]
  },
  {
   "cell_type": "code",
   "execution_count": 9,
   "metadata": {},
   "outputs": [
    {
     "data": {
      "text/html": [
       "<div><div style = \"float: left;\"><span>3×4 DataFrame</span></div><div style = \"clear: both;\"></div></div><div class = \"data-frame\" style = \"overflow-x: scroll;\"><table class = \"data-frame\" style = \"margin-bottom: 6px;\"><thead><tr class = \"header\"><th class = \"rowNumber\" style = \"font-weight: bold; text-align: right;\">Row</th><th style = \"text-align: left;\">d</th><th style = \"text-align: left;\">b</th><th style = \"text-align: left;\">c</th><th style = \"text-align: left;\">a</th></tr><tr class = \"subheader headerLastRow\"><th class = \"rowNumber\" style = \"font-weight: bold; text-align: right;\"></th><th title = \"Bool\" style = \"text-align: left;\">Bool</th><th title = \"Bool\" style = \"text-align: left;\">Bool</th><th title = \"Bool\" style = \"text-align: left;\">Bool</th><th title = \"Bool\" style = \"text-align: left;\">Bool</th></tr></thead><tbody><tr><td class = \"rowNumber\" style = \"font-weight: bold; text-align: right;\">1</td><td style = \"text-align: right;\">true</td><td style = \"text-align: right;\">false</td><td style = \"text-align: right;\">false</td><td style = \"text-align: right;\">false</td></tr><tr><td class = \"rowNumber\" style = \"font-weight: bold; text-align: right;\">2</td><td style = \"text-align: right;\">false</td><td style = \"text-align: right;\">false</td><td style = \"text-align: right;\">true</td><td style = \"text-align: right;\">true</td></tr><tr><td class = \"rowNumber\" style = \"font-weight: bold; text-align: right;\">3</td><td style = \"text-align: right;\">false</td><td style = \"text-align: right;\">true</td><td style = \"text-align: right;\">true</td><td style = \"text-align: right;\">true</td></tr></tbody></table></div>"
      ],
      "text/latex": [
       "\\begin{tabular}{r|cccc}\n",
       "\t& d & b & c & a\\\\\n",
       "\t\\hline\n",
       "\t& Bool & Bool & Bool & Bool\\\\\n",
       "\t\\hline\n",
       "\t1 & 1 & 0 & 0 & 0 \\\\\n",
       "\t2 & 0 & 0 & 1 & 1 \\\\\n",
       "\t3 & 0 & 1 & 1 & 1 \\\\\n",
       "\\end{tabular}\n"
      ],
      "text/plain": [
       "\u001b[1m3×4 DataFrame\u001b[0m\n",
       "\u001b[1m Row \u001b[0m│\u001b[1m d     \u001b[0m\u001b[1m b     \u001b[0m\u001b[1m c     \u001b[0m\u001b[1m a     \u001b[0m\n",
       "     │\u001b[90m Bool  \u001b[0m\u001b[90m Bool  \u001b[0m\u001b[90m Bool  \u001b[0m\u001b[90m Bool  \u001b[0m\n",
       "─────┼────────────────────────────\n",
       "   1 │  true  false  false  false\n",
       "   2 │ false  false   true   true\n",
       "   3 │ false   true   true   true"
      ]
     },
     "execution_count": 9,
     "metadata": {},
     "output_type": "execute_result"
    }
   ],
   "source": [
    "rename!(x, \"a\"=>\"d\", \"d\"=>\"a\")"
   ]
  },
  {
   "cell_type": "markdown",
   "metadata": {},
   "source": [
    "We get an error when we try to provide duplicate names"
   ]
  },
  {
   "cell_type": "code",
   "execution_count": 10,
   "metadata": {},
   "outputs": [
    {
     "ename": "LoadError",
     "evalue": "ArgumentError: Duplicate variable names: :a. Pass makeunique=true to make them unique using a suffix automatically.",
     "output_type": "error",
     "traceback": [
      "ArgumentError: Duplicate variable names: :a. Pass makeunique=true to make them unique using a suffix automatically.",
      "",
      "Stacktrace:",
      " [1] rename!(x::DataFrames.Index, nms::Vector{Symbol}; makeunique::Bool)",
      "   @ DataFrames C:\\Users\\bogum\\.julia\\packages\\DataFrames\\LteEl\\src\\other\\index.jl:51",
      " [2] #rename!#57",
      "   @ C:\\Users\\bogum\\.julia\\packages\\DataFrames\\LteEl\\src\\abstractdataframe\\abstractdataframe.jl:201 [inlined]",
      " [3] #rename#63",
      "   @ C:\\Users\\bogum\\.julia\\packages\\DataFrames\\LteEl\\src\\abstractdataframe\\abstractdataframe.jl:349 [inlined]",
      " [4] rename(df::DataFrame, vals::Vector{Symbol})",
      "   @ DataFrames C:\\Users\\bogum\\.julia\\packages\\DataFrames\\LteEl\\src\\abstractdataframe\\abstractdataframe.jl:349",
      " [5] top-level scope",
      "   @ In[10]:1"
     ]
    }
   ],
   "source": [
    "rename(x, fill(:a, 4))"
   ]
  },
  {
   "cell_type": "markdown",
   "metadata": {},
   "source": [
    " unless we pass `makeunique=true`, which allows us to handle duplicates in passed names."
   ]
  },
  {
   "cell_type": "code",
   "execution_count": 11,
   "metadata": {},
   "outputs": [
    {
     "data": {
      "text/html": [
       "<div><div style = \"float: left;\"><span>3×4 DataFrame</span></div><div style = \"clear: both;\"></div></div><div class = \"data-frame\" style = \"overflow-x: scroll;\"><table class = \"data-frame\" style = \"margin-bottom: 6px;\"><thead><tr class = \"header\"><th class = \"rowNumber\" style = \"font-weight: bold; text-align: right;\">Row</th><th style = \"text-align: left;\">a</th><th style = \"text-align: left;\">a_1</th><th style = \"text-align: left;\">a_2</th><th style = \"text-align: left;\">a_3</th></tr><tr class = \"subheader headerLastRow\"><th class = \"rowNumber\" style = \"font-weight: bold; text-align: right;\"></th><th title = \"Bool\" style = \"text-align: left;\">Bool</th><th title = \"Bool\" style = \"text-align: left;\">Bool</th><th title = \"Bool\" style = \"text-align: left;\">Bool</th><th title = \"Bool\" style = \"text-align: left;\">Bool</th></tr></thead><tbody><tr><td class = \"rowNumber\" style = \"font-weight: bold; text-align: right;\">1</td><td style = \"text-align: right;\">true</td><td style = \"text-align: right;\">false</td><td style = \"text-align: right;\">false</td><td style = \"text-align: right;\">false</td></tr><tr><td class = \"rowNumber\" style = \"font-weight: bold; text-align: right;\">2</td><td style = \"text-align: right;\">false</td><td style = \"text-align: right;\">false</td><td style = \"text-align: right;\">true</td><td style = \"text-align: right;\">true</td></tr><tr><td class = \"rowNumber\" style = \"font-weight: bold; text-align: right;\">3</td><td style = \"text-align: right;\">false</td><td style = \"text-align: right;\">true</td><td style = \"text-align: right;\">true</td><td style = \"text-align: right;\">true</td></tr></tbody></table></div>"
      ],
      "text/latex": [
       "\\begin{tabular}{r|cccc}\n",
       "\t& a & a\\_1 & a\\_2 & a\\_3\\\\\n",
       "\t\\hline\n",
       "\t& Bool & Bool & Bool & Bool\\\\\n",
       "\t\\hline\n",
       "\t1 & 1 & 0 & 0 & 0 \\\\\n",
       "\t2 & 0 & 0 & 1 & 1 \\\\\n",
       "\t3 & 0 & 1 & 1 & 1 \\\\\n",
       "\\end{tabular}\n"
      ],
      "text/plain": [
       "\u001b[1m3×4 DataFrame\u001b[0m\n",
       "\u001b[1m Row \u001b[0m│\u001b[1m a     \u001b[0m\u001b[1m a_1   \u001b[0m\u001b[1m a_2   \u001b[0m\u001b[1m a_3   \u001b[0m\n",
       "     │\u001b[90m Bool  \u001b[0m\u001b[90m Bool  \u001b[0m\u001b[90m Bool  \u001b[0m\u001b[90m Bool  \u001b[0m\n",
       "─────┼────────────────────────────\n",
       "   1 │  true  false  false  false\n",
       "   2 │ false  false   true   true\n",
       "   3 │ false   true   true   true"
      ]
     },
     "execution_count": 11,
     "metadata": {},
     "output_type": "execute_result"
    }
   ],
   "source": [
    "rename(x, fill(:a, 4), makeunique=true)"
   ]
  },
  {
   "cell_type": "markdown",
   "metadata": {
    "collapsed": true
   },
   "source": [
    "### Reordering columns"
   ]
  },
  {
   "cell_type": "markdown",
   "metadata": {},
   "source": [
    "We can reorder the `names(x)` vector as needed, creating a new `DataFrame`."
   ]
  },
  {
   "cell_type": "code",
   "execution_count": 12,
   "metadata": {},
   "outputs": [
    {
     "data": {
      "text/html": [
       "<div><div style = \"float: left;\"><span>3×4 DataFrame</span></div><div style = \"clear: both;\"></div></div><div class = \"data-frame\" style = \"overflow-x: scroll;\"><table class = \"data-frame\" style = \"margin-bottom: 6px;\"><thead><tr class = \"header\"><th class = \"rowNumber\" style = \"font-weight: bold; text-align: right;\">Row</th><th style = \"text-align: left;\">d</th><th style = \"text-align: left;\">b</th><th style = \"text-align: left;\">c</th><th style = \"text-align: left;\">a</th></tr><tr class = \"subheader headerLastRow\"><th class = \"rowNumber\" style = \"font-weight: bold; text-align: right;\"></th><th title = \"Bool\" style = \"text-align: left;\">Bool</th><th title = \"Bool\" style = \"text-align: left;\">Bool</th><th title = \"Bool\" style = \"text-align: left;\">Bool</th><th title = \"Bool\" style = \"text-align: left;\">Bool</th></tr></thead><tbody><tr><td class = \"rowNumber\" style = \"font-weight: bold; text-align: right;\">1</td><td style = \"text-align: right;\">true</td><td style = \"text-align: right;\">false</td><td style = \"text-align: right;\">false</td><td style = \"text-align: right;\">false</td></tr><tr><td class = \"rowNumber\" style = \"font-weight: bold; text-align: right;\">2</td><td style = \"text-align: right;\">false</td><td style = \"text-align: right;\">false</td><td style = \"text-align: right;\">true</td><td style = \"text-align: right;\">true</td></tr><tr><td class = \"rowNumber\" style = \"font-weight: bold; text-align: right;\">3</td><td style = \"text-align: right;\">false</td><td style = \"text-align: right;\">true</td><td style = \"text-align: right;\">true</td><td style = \"text-align: right;\">true</td></tr></tbody></table></div>"
      ],
      "text/latex": [
       "\\begin{tabular}{r|cccc}\n",
       "\t& d & b & c & a\\\\\n",
       "\t\\hline\n",
       "\t& Bool & Bool & Bool & Bool\\\\\n",
       "\t\\hline\n",
       "\t1 & 1 & 0 & 0 & 0 \\\\\n",
       "\t2 & 0 & 0 & 1 & 1 \\\\\n",
       "\t3 & 0 & 1 & 1 & 1 \\\\\n",
       "\\end{tabular}\n"
      ],
      "text/plain": [
       "\u001b[1m3×4 DataFrame\u001b[0m\n",
       "\u001b[1m Row \u001b[0m│\u001b[1m d     \u001b[0m\u001b[1m b     \u001b[0m\u001b[1m c     \u001b[0m\u001b[1m a     \u001b[0m\n",
       "     │\u001b[90m Bool  \u001b[0m\u001b[90m Bool  \u001b[0m\u001b[90m Bool  \u001b[0m\u001b[90m Bool  \u001b[0m\n",
       "─────┼────────────────────────────\n",
       "   1 │  true  false  false  false\n",
       "   2 │ false  false   true   true\n",
       "   3 │ false   true   true   true"
      ]
     },
     "execution_count": 12,
     "metadata": {},
     "output_type": "execute_result"
    }
   ],
   "source": [
    "using Random\n",
    "Random.seed!(1234)\n",
    "x[:, shuffle(names(x))]"
   ]
  },
  {
   "cell_type": "markdown",
   "metadata": {},
   "source": [
    "Also `select!` can be used to achieve this in place (or `select` to perform a copy):"
   ]
  },
  {
   "cell_type": "code",
   "execution_count": 13,
   "metadata": {},
   "outputs": [
    {
     "data": {
      "text/html": [
       "<div><div style = \"float: left;\"><span>3×4 DataFrame</span></div><div style = \"clear: both;\"></div></div><div class = \"data-frame\" style = \"overflow-x: scroll;\"><table class = \"data-frame\" style = \"margin-bottom: 6px;\"><thead><tr class = \"header\"><th class = \"rowNumber\" style = \"font-weight: bold; text-align: right;\">Row</th><th style = \"text-align: left;\">d</th><th style = \"text-align: left;\">b</th><th style = \"text-align: left;\">c</th><th style = \"text-align: left;\">a</th></tr><tr class = \"subheader headerLastRow\"><th class = \"rowNumber\" style = \"font-weight: bold; text-align: right;\"></th><th title = \"Bool\" style = \"text-align: left;\">Bool</th><th title = \"Bool\" style = \"text-align: left;\">Bool</th><th title = \"Bool\" style = \"text-align: left;\">Bool</th><th title = \"Bool\" style = \"text-align: left;\">Bool</th></tr></thead><tbody><tr><td class = \"rowNumber\" style = \"font-weight: bold; text-align: right;\">1</td><td style = \"text-align: right;\">true</td><td style = \"text-align: right;\">false</td><td style = \"text-align: right;\">false</td><td style = \"text-align: right;\">false</td></tr><tr><td class = \"rowNumber\" style = \"font-weight: bold; text-align: right;\">2</td><td style = \"text-align: right;\">false</td><td style = \"text-align: right;\">false</td><td style = \"text-align: right;\">true</td><td style = \"text-align: right;\">true</td></tr><tr><td class = \"rowNumber\" style = \"font-weight: bold; text-align: right;\">3</td><td style = \"text-align: right;\">false</td><td style = \"text-align: right;\">true</td><td style = \"text-align: right;\">true</td><td style = \"text-align: right;\">true</td></tr></tbody></table></div>"
      ],
      "text/latex": [
       "\\begin{tabular}{r|cccc}\n",
       "\t& d & b & c & a\\\\\n",
       "\t\\hline\n",
       "\t& Bool & Bool & Bool & Bool\\\\\n",
       "\t\\hline\n",
       "\t1 & 1 & 0 & 0 & 0 \\\\\n",
       "\t2 & 0 & 0 & 1 & 1 \\\\\n",
       "\t3 & 0 & 1 & 1 & 1 \\\\\n",
       "\\end{tabular}\n"
      ],
      "text/plain": [
       "\u001b[1m3×4 DataFrame\u001b[0m\n",
       "\u001b[1m Row \u001b[0m│\u001b[1m d     \u001b[0m\u001b[1m b     \u001b[0m\u001b[1m c     \u001b[0m\u001b[1m a     \u001b[0m\n",
       "     │\u001b[90m Bool  \u001b[0m\u001b[90m Bool  \u001b[0m\u001b[90m Bool  \u001b[0m\u001b[90m Bool  \u001b[0m\n",
       "─────┼────────────────────────────\n",
       "   1 │  true  false  false  false\n",
       "   2 │ false  false   true   true\n",
       "   3 │ false   true   true   true"
      ]
     },
     "execution_count": 13,
     "metadata": {},
     "output_type": "execute_result"
    }
   ],
   "source": [
    "x"
   ]
  },
  {
   "cell_type": "code",
   "execution_count": 14,
   "metadata": {},
   "outputs": [
    {
     "data": {
      "text/html": [
       "<div><div style = \"float: left;\"><span>3×4 DataFrame</span></div><div style = \"clear: both;\"></div></div><div class = \"data-frame\" style = \"overflow-x: scroll;\"><table class = \"data-frame\" style = \"margin-bottom: 6px;\"><thead><tr class = \"header\"><th class = \"rowNumber\" style = \"font-weight: bold; text-align: right;\">Row</th><th style = \"text-align: left;\">a</th><th style = \"text-align: left;\">c</th><th style = \"text-align: left;\">b</th><th style = \"text-align: left;\">d</th></tr><tr class = \"subheader headerLastRow\"><th class = \"rowNumber\" style = \"font-weight: bold; text-align: right;\"></th><th title = \"Bool\" style = \"text-align: left;\">Bool</th><th title = \"Bool\" style = \"text-align: left;\">Bool</th><th title = \"Bool\" style = \"text-align: left;\">Bool</th><th title = \"Bool\" style = \"text-align: left;\">Bool</th></tr></thead><tbody><tr><td class = \"rowNumber\" style = \"font-weight: bold; text-align: right;\">1</td><td style = \"text-align: right;\">false</td><td style = \"text-align: right;\">false</td><td style = \"text-align: right;\">false</td><td style = \"text-align: right;\">true</td></tr><tr><td class = \"rowNumber\" style = \"font-weight: bold; text-align: right;\">2</td><td style = \"text-align: right;\">true</td><td style = \"text-align: right;\">true</td><td style = \"text-align: right;\">false</td><td style = \"text-align: right;\">false</td></tr><tr><td class = \"rowNumber\" style = \"font-weight: bold; text-align: right;\">3</td><td style = \"text-align: right;\">true</td><td style = \"text-align: right;\">true</td><td style = \"text-align: right;\">true</td><td style = \"text-align: right;\">false</td></tr></tbody></table></div>"
      ],
      "text/latex": [
       "\\begin{tabular}{r|cccc}\n",
       "\t& a & c & b & d\\\\\n",
       "\t\\hline\n",
       "\t& Bool & Bool & Bool & Bool\\\\\n",
       "\t\\hline\n",
       "\t1 & 0 & 0 & 0 & 1 \\\\\n",
       "\t2 & 1 & 1 & 0 & 0 \\\\\n",
       "\t3 & 1 & 1 & 1 & 0 \\\\\n",
       "\\end{tabular}\n"
      ],
      "text/plain": [
       "\u001b[1m3×4 DataFrame\u001b[0m\n",
       "\u001b[1m Row \u001b[0m│\u001b[1m a     \u001b[0m\u001b[1m c     \u001b[0m\u001b[1m b     \u001b[0m\u001b[1m d     \u001b[0m\n",
       "     │\u001b[90m Bool  \u001b[0m\u001b[90m Bool  \u001b[0m\u001b[90m Bool  \u001b[0m\u001b[90m Bool  \u001b[0m\n",
       "─────┼────────────────────────────\n",
       "   1 │ false  false  false   true\n",
       "   2 │  true   true  false  false\n",
       "   3 │  true   true   true  false"
      ]
     },
     "execution_count": 14,
     "metadata": {},
     "output_type": "execute_result"
    }
   ],
   "source": [
    "select!(x, 4:-1:1);\n",
    "x"
   ]
  },
  {
   "cell_type": "markdown",
   "metadata": {},
   "source": [
    "### Merging/adding columns"
   ]
  },
  {
   "cell_type": "code",
   "execution_count": 15,
   "metadata": {},
   "outputs": [
    {
     "data": {
      "text/html": [
       "<div><div style = \"float: left;\"><span>3×4 DataFrame</span></div><div style = \"clear: both;\"></div></div><div class = \"data-frame\" style = \"overflow-x: scroll;\"><table class = \"data-frame\" style = \"margin-bottom: 6px;\"><thead><tr class = \"header\"><th class = \"rowNumber\" style = \"font-weight: bold; text-align: right;\">Row</th><th style = \"text-align: left;\">x1</th><th style = \"text-align: left;\">x2</th><th style = \"text-align: left;\">x3</th><th style = \"text-align: left;\">x4</th></tr><tr class = \"subheader headerLastRow\"><th class = \"rowNumber\" style = \"font-weight: bold; text-align: right;\"></th><th title = \"Tuple{Int64, Int64}\" style = \"text-align: left;\">Tuple…</th><th title = \"Tuple{Int64, Int64}\" style = \"text-align: left;\">Tuple…</th><th title = \"Tuple{Int64, Int64}\" style = \"text-align: left;\">Tuple…</th><th title = \"Tuple{Int64, Int64}\" style = \"text-align: left;\">Tuple…</th></tr></thead><tbody><tr><td class = \"rowNumber\" style = \"font-weight: bold; text-align: right;\">1</td><td style = \"text-align: left;\">(1, 1)</td><td style = \"text-align: left;\">(1, 2)</td><td style = \"text-align: left;\">(1, 3)</td><td style = \"text-align: left;\">(1, 4)</td></tr><tr><td class = \"rowNumber\" style = \"font-weight: bold; text-align: right;\">2</td><td style = \"text-align: left;\">(2, 1)</td><td style = \"text-align: left;\">(2, 2)</td><td style = \"text-align: left;\">(2, 3)</td><td style = \"text-align: left;\">(2, 4)</td></tr><tr><td class = \"rowNumber\" style = \"font-weight: bold; text-align: right;\">3</td><td style = \"text-align: left;\">(3, 1)</td><td style = \"text-align: left;\">(3, 2)</td><td style = \"text-align: left;\">(3, 3)</td><td style = \"text-align: left;\">(3, 4)</td></tr></tbody></table></div>"
      ],
      "text/latex": [
       "\\begin{tabular}{r|cccc}\n",
       "\t& x1 & x2 & x3 & x4\\\\\n",
       "\t\\hline\n",
       "\t& Tuple… & Tuple… & Tuple… & Tuple…\\\\\n",
       "\t\\hline\n",
       "\t1 & (1, 1) & (1, 2) & (1, 3) & (1, 4) \\\\\n",
       "\t2 & (2, 1) & (2, 2) & (2, 3) & (2, 4) \\\\\n",
       "\t3 & (3, 1) & (3, 2) & (3, 3) & (3, 4) \\\\\n",
       "\\end{tabular}\n"
      ],
      "text/plain": [
       "\u001b[1m3×4 DataFrame\u001b[0m\n",
       "\u001b[1m Row \u001b[0m│\u001b[1m x1     \u001b[0m\u001b[1m x2     \u001b[0m\u001b[1m x3     \u001b[0m\u001b[1m x4     \u001b[0m\n",
       "     │\u001b[90m Tuple… \u001b[0m\u001b[90m Tuple… \u001b[0m\u001b[90m Tuple… \u001b[0m\u001b[90m Tuple… \u001b[0m\n",
       "─────┼────────────────────────────────\n",
       "   1 │ (1, 1)  (1, 2)  (1, 3)  (1, 4)\n",
       "   2 │ (2, 1)  (2, 2)  (2, 3)  (2, 4)\n",
       "   3 │ (3, 1)  (3, 2)  (3, 3)  (3, 4)"
      ]
     },
     "execution_count": 15,
     "metadata": {},
     "output_type": "execute_result"
    }
   ],
   "source": [
    "x = DataFrame([(i,j) for i in 1:3, j in 1:4], :auto)"
   ]
  },
  {
   "cell_type": "markdown",
   "metadata": {},
   "source": [
    "With `hcat` we can merge two `DataFrame`s. Also [x y] syntax is supported but only when DataFrames have unique column names."
   ]
  },
  {
   "cell_type": "code",
   "execution_count": 16,
   "metadata": {},
   "outputs": [
    {
     "data": {
      "text/html": [
       "<div><div style = \"float: left;\"><span>3×8 DataFrame</span></div><div style = \"clear: both;\"></div></div><div class = \"data-frame\" style = \"overflow-x: scroll;\"><table class = \"data-frame\" style = \"margin-bottom: 6px;\"><thead><tr class = \"header\"><th class = \"rowNumber\" style = \"font-weight: bold; text-align: right;\">Row</th><th style = \"text-align: left;\">x1</th><th style = \"text-align: left;\">x2</th><th style = \"text-align: left;\">x3</th><th style = \"text-align: left;\">x4</th><th style = \"text-align: left;\">x1_1</th><th style = \"text-align: left;\">x2_1</th><th style = \"text-align: left;\">x3_1</th><th style = \"text-align: left;\">x4_1</th></tr><tr class = \"subheader headerLastRow\"><th class = \"rowNumber\" style = \"font-weight: bold; text-align: right;\"></th><th title = \"Tuple{Int64, Int64}\" style = \"text-align: left;\">Tuple…</th><th title = \"Tuple{Int64, Int64}\" style = \"text-align: left;\">Tuple…</th><th title = \"Tuple{Int64, Int64}\" style = \"text-align: left;\">Tuple…</th><th title = \"Tuple{Int64, Int64}\" style = \"text-align: left;\">Tuple…</th><th title = \"Tuple{Int64, Int64}\" style = \"text-align: left;\">Tuple…</th><th title = \"Tuple{Int64, Int64}\" style = \"text-align: left;\">Tuple…</th><th title = \"Tuple{Int64, Int64}\" style = \"text-align: left;\">Tuple…</th><th title = \"Tuple{Int64, Int64}\" style = \"text-align: left;\">Tuple…</th></tr></thead><tbody><tr><td class = \"rowNumber\" style = \"font-weight: bold; text-align: right;\">1</td><td style = \"text-align: left;\">(1, 1)</td><td style = \"text-align: left;\">(1, 2)</td><td style = \"text-align: left;\">(1, 3)</td><td style = \"text-align: left;\">(1, 4)</td><td style = \"text-align: left;\">(1, 1)</td><td style = \"text-align: left;\">(1, 2)</td><td style = \"text-align: left;\">(1, 3)</td><td style = \"text-align: left;\">(1, 4)</td></tr><tr><td class = \"rowNumber\" style = \"font-weight: bold; text-align: right;\">2</td><td style = \"text-align: left;\">(2, 1)</td><td style = \"text-align: left;\">(2, 2)</td><td style = \"text-align: left;\">(2, 3)</td><td style = \"text-align: left;\">(2, 4)</td><td style = \"text-align: left;\">(2, 1)</td><td style = \"text-align: left;\">(2, 2)</td><td style = \"text-align: left;\">(2, 3)</td><td style = \"text-align: left;\">(2, 4)</td></tr><tr><td class = \"rowNumber\" style = \"font-weight: bold; text-align: right;\">3</td><td style = \"text-align: left;\">(3, 1)</td><td style = \"text-align: left;\">(3, 2)</td><td style = \"text-align: left;\">(3, 3)</td><td style = \"text-align: left;\">(3, 4)</td><td style = \"text-align: left;\">(3, 1)</td><td style = \"text-align: left;\">(3, 2)</td><td style = \"text-align: left;\">(3, 3)</td><td style = \"text-align: left;\">(3, 4)</td></tr></tbody></table></div>"
      ],
      "text/latex": [
       "\\begin{tabular}{r|cccccccc}\n",
       "\t& x1 & x2 & x3 & x4 & x1\\_1 & x2\\_1 & x3\\_1 & x4\\_1\\\\\n",
       "\t\\hline\n",
       "\t& Tuple… & Tuple… & Tuple… & Tuple… & Tuple… & Tuple… & Tuple… & Tuple…\\\\\n",
       "\t\\hline\n",
       "\t1 & (1, 1) & (1, 2) & (1, 3) & (1, 4) & (1, 1) & (1, 2) & (1, 3) & (1, 4) \\\\\n",
       "\t2 & (2, 1) & (2, 2) & (2, 3) & (2, 4) & (2, 1) & (2, 2) & (2, 3) & (2, 4) \\\\\n",
       "\t3 & (3, 1) & (3, 2) & (3, 3) & (3, 4) & (3, 1) & (3, 2) & (3, 3) & (3, 4) \\\\\n",
       "\\end{tabular}\n"
      ],
      "text/plain": [
       "\u001b[1m3×8 DataFrame\u001b[0m\n",
       "\u001b[1m Row \u001b[0m│\u001b[1m x1     \u001b[0m\u001b[1m x2     \u001b[0m\u001b[1m x3     \u001b[0m\u001b[1m x4     \u001b[0m\u001b[1m x1_1   \u001b[0m\u001b[1m x2_1   \u001b[0m\u001b[1m x3_1   \u001b[0m\u001b[1m x4_1   \u001b[0m\n",
       "     │\u001b[90m Tuple… \u001b[0m\u001b[90m Tuple… \u001b[0m\u001b[90m Tuple… \u001b[0m\u001b[90m Tuple… \u001b[0m\u001b[90m Tuple… \u001b[0m\u001b[90m Tuple… \u001b[0m\u001b[90m Tuple… \u001b[0m\u001b[90m Tuple… \u001b[0m\n",
       "─────┼────────────────────────────────────────────────────────────────\n",
       "   1 │ (1, 1)  (1, 2)  (1, 3)  (1, 4)  (1, 1)  (1, 2)  (1, 3)  (1, 4)\n",
       "   2 │ (2, 1)  (2, 2)  (2, 3)  (2, 4)  (2, 1)  (2, 2)  (2, 3)  (2, 4)\n",
       "   3 │ (3, 1)  (3, 2)  (3, 3)  (3, 4)  (3, 1)  (3, 2)  (3, 3)  (3, 4)"
      ]
     },
     "execution_count": 16,
     "metadata": {},
     "output_type": "execute_result"
    }
   ],
   "source": [
    "hcat(x, x, makeunique=true)"
   ]
  },
  {
   "cell_type": "markdown",
   "metadata": {},
   "source": [
    "You can append a vector to a data frame with the following syntax:"
   ]
  },
  {
   "cell_type": "code",
   "execution_count": 17,
   "metadata": {},
   "outputs": [
    {
     "data": {
      "text/html": [
       "<div><div style = \"float: left;\"><span>3×5 DataFrame</span></div><div style = \"clear: both;\"></div></div><div class = \"data-frame\" style = \"overflow-x: scroll;\"><table class = \"data-frame\" style = \"margin-bottom: 6px;\"><thead><tr class = \"header\"><th class = \"rowNumber\" style = \"font-weight: bold; text-align: right;\">Row</th><th style = \"text-align: left;\">x1</th><th style = \"text-align: left;\">x2</th><th style = \"text-align: left;\">x3</th><th style = \"text-align: left;\">x4</th><th style = \"text-align: left;\">A</th></tr><tr class = \"subheader headerLastRow\"><th class = \"rowNumber\" style = \"font-weight: bold; text-align: right;\"></th><th title = \"Tuple{Int64, Int64}\" style = \"text-align: left;\">Tuple…</th><th title = \"Tuple{Int64, Int64}\" style = \"text-align: left;\">Tuple…</th><th title = \"Tuple{Int64, Int64}\" style = \"text-align: left;\">Tuple…</th><th title = \"Tuple{Int64, Int64}\" style = \"text-align: left;\">Tuple…</th><th title = \"Int64\" style = \"text-align: left;\">Int64</th></tr></thead><tbody><tr><td class = \"rowNumber\" style = \"font-weight: bold; text-align: right;\">1</td><td style = \"text-align: left;\">(1, 1)</td><td style = \"text-align: left;\">(1, 2)</td><td style = \"text-align: left;\">(1, 3)</td><td style = \"text-align: left;\">(1, 4)</td><td style = \"text-align: right;\">1</td></tr><tr><td class = \"rowNumber\" style = \"font-weight: bold; text-align: right;\">2</td><td style = \"text-align: left;\">(2, 1)</td><td style = \"text-align: left;\">(2, 2)</td><td style = \"text-align: left;\">(2, 3)</td><td style = \"text-align: left;\">(2, 4)</td><td style = \"text-align: right;\">2</td></tr><tr><td class = \"rowNumber\" style = \"font-weight: bold; text-align: right;\">3</td><td style = \"text-align: left;\">(3, 1)</td><td style = \"text-align: left;\">(3, 2)</td><td style = \"text-align: left;\">(3, 3)</td><td style = \"text-align: left;\">(3, 4)</td><td style = \"text-align: right;\">3</td></tr></tbody></table></div>"
      ],
      "text/latex": [
       "\\begin{tabular}{r|ccccc}\n",
       "\t& x1 & x2 & x3 & x4 & A\\\\\n",
       "\t\\hline\n",
       "\t& Tuple… & Tuple… & Tuple… & Tuple… & Int64\\\\\n",
       "\t\\hline\n",
       "\t1 & (1, 1) & (1, 2) & (1, 3) & (1, 4) & 1 \\\\\n",
       "\t2 & (2, 1) & (2, 2) & (2, 3) & (2, 4) & 2 \\\\\n",
       "\t3 & (3, 1) & (3, 2) & (3, 3) & (3, 4) & 3 \\\\\n",
       "\\end{tabular}\n"
      ],
      "text/plain": [
       "\u001b[1m3×5 DataFrame\u001b[0m\n",
       "\u001b[1m Row \u001b[0m│\u001b[1m x1     \u001b[0m\u001b[1m x2     \u001b[0m\u001b[1m x3     \u001b[0m\u001b[1m x4     \u001b[0m\u001b[1m A     \u001b[0m\n",
       "     │\u001b[90m Tuple… \u001b[0m\u001b[90m Tuple… \u001b[0m\u001b[90m Tuple… \u001b[0m\u001b[90m Tuple… \u001b[0m\u001b[90m Int64 \u001b[0m\n",
       "─────┼───────────────────────────────────────\n",
       "   1 │ (1, 1)  (1, 2)  (1, 3)  (1, 4)      1\n",
       "   2 │ (2, 1)  (2, 2)  (2, 3)  (2, 4)      2\n",
       "   3 │ (3, 1)  (3, 2)  (3, 3)  (3, 4)      3"
      ]
     },
     "execution_count": 17,
     "metadata": {},
     "output_type": "execute_result"
    }
   ],
   "source": [
    "y = [x DataFrame(A=[1, 2, 3])]"
   ]
  },
  {
   "cell_type": "markdown",
   "metadata": {},
   "source": [
    "Here we do the same but add column `:A` to the front."
   ]
  },
  {
   "cell_type": "code",
   "execution_count": 18,
   "metadata": {},
   "outputs": [
    {
     "data": {
      "text/html": [
       "<div><div style = \"float: left;\"><span>3×5 DataFrame</span></div><div style = \"clear: both;\"></div></div><div class = \"data-frame\" style = \"overflow-x: scroll;\"><table class = \"data-frame\" style = \"margin-bottom: 6px;\"><thead><tr class = \"header\"><th class = \"rowNumber\" style = \"font-weight: bold; text-align: right;\">Row</th><th style = \"text-align: left;\">A</th><th style = \"text-align: left;\">x1</th><th style = \"text-align: left;\">x2</th><th style = \"text-align: left;\">x3</th><th style = \"text-align: left;\">x4</th></tr><tr class = \"subheader headerLastRow\"><th class = \"rowNumber\" style = \"font-weight: bold; text-align: right;\"></th><th title = \"Int64\" style = \"text-align: left;\">Int64</th><th title = \"Tuple{Int64, Int64}\" style = \"text-align: left;\">Tuple…</th><th title = \"Tuple{Int64, Int64}\" style = \"text-align: left;\">Tuple…</th><th title = \"Tuple{Int64, Int64}\" style = \"text-align: left;\">Tuple…</th><th title = \"Tuple{Int64, Int64}\" style = \"text-align: left;\">Tuple…</th></tr></thead><tbody><tr><td class = \"rowNumber\" style = \"font-weight: bold; text-align: right;\">1</td><td style = \"text-align: right;\">1</td><td style = \"text-align: left;\">(1, 1)</td><td style = \"text-align: left;\">(1, 2)</td><td style = \"text-align: left;\">(1, 3)</td><td style = \"text-align: left;\">(1, 4)</td></tr><tr><td class = \"rowNumber\" style = \"font-weight: bold; text-align: right;\">2</td><td style = \"text-align: right;\">2</td><td style = \"text-align: left;\">(2, 1)</td><td style = \"text-align: left;\">(2, 2)</td><td style = \"text-align: left;\">(2, 3)</td><td style = \"text-align: left;\">(2, 4)</td></tr><tr><td class = \"rowNumber\" style = \"font-weight: bold; text-align: right;\">3</td><td style = \"text-align: right;\">3</td><td style = \"text-align: left;\">(3, 1)</td><td style = \"text-align: left;\">(3, 2)</td><td style = \"text-align: left;\">(3, 3)</td><td style = \"text-align: left;\">(3, 4)</td></tr></tbody></table></div>"
      ],
      "text/latex": [
       "\\begin{tabular}{r|ccccc}\n",
       "\t& A & x1 & x2 & x3 & x4\\\\\n",
       "\t\\hline\n",
       "\t& Int64 & Tuple… & Tuple… & Tuple… & Tuple…\\\\\n",
       "\t\\hline\n",
       "\t1 & 1 & (1, 1) & (1, 2) & (1, 3) & (1, 4) \\\\\n",
       "\t2 & 2 & (2, 1) & (2, 2) & (2, 3) & (2, 4) \\\\\n",
       "\t3 & 3 & (3, 1) & (3, 2) & (3, 3) & (3, 4) \\\\\n",
       "\\end{tabular}\n"
      ],
      "text/plain": [
       "\u001b[1m3×5 DataFrame\u001b[0m\n",
       "\u001b[1m Row \u001b[0m│\u001b[1m A     \u001b[0m\u001b[1m x1     \u001b[0m\u001b[1m x2     \u001b[0m\u001b[1m x3     \u001b[0m\u001b[1m x4     \u001b[0m\n",
       "     │\u001b[90m Int64 \u001b[0m\u001b[90m Tuple… \u001b[0m\u001b[90m Tuple… \u001b[0m\u001b[90m Tuple… \u001b[0m\u001b[90m Tuple… \u001b[0m\n",
       "─────┼───────────────────────────────────────\n",
       "   1 │     1  (1, 1)  (1, 2)  (1, 3)  (1, 4)\n",
       "   2 │     2  (2, 1)  (2, 2)  (2, 3)  (2, 4)\n",
       "   3 │     3  (3, 1)  (3, 2)  (3, 3)  (3, 4)"
      ]
     },
     "execution_count": 18,
     "metadata": {},
     "output_type": "execute_result"
    }
   ],
   "source": [
    "y = [DataFrame(A=[1, 2, 3]) x]"
   ]
  },
  {
   "cell_type": "markdown",
   "metadata": {},
   "source": [
    "A column can also be added in the middle. Here a brute-force method is used and a new `DataFrame` is created."
   ]
  },
  {
   "cell_type": "code",
   "execution_count": 19,
   "metadata": {},
   "outputs": [
    {
     "name": "stdout",
     "output_type": "stream",
     "text": [
      "  3.788 μs (77 allocations: 6.47 KiB)\n"
     ]
    },
    {
     "data": {
      "text/html": [
       "<div><div style = \"float: left;\"><span>3×5 DataFrame</span></div><div style = \"clear: both;\"></div></div><div class = \"data-frame\" style = \"overflow-x: scroll;\"><table class = \"data-frame\" style = \"margin-bottom: 6px;\"><thead><tr class = \"header\"><th class = \"rowNumber\" style = \"font-weight: bold; text-align: right;\">Row</th><th style = \"text-align: left;\">x1</th><th style = \"text-align: left;\">x2</th><th style = \"text-align: left;\">A</th><th style = \"text-align: left;\">x3</th><th style = \"text-align: left;\">x4</th></tr><tr class = \"subheader headerLastRow\"><th class = \"rowNumber\" style = \"font-weight: bold; text-align: right;\"></th><th title = \"Tuple{Int64, Int64}\" style = \"text-align: left;\">Tuple…</th><th title = \"Tuple{Int64, Int64}\" style = \"text-align: left;\">Tuple…</th><th title = \"Int64\" style = \"text-align: left;\">Int64</th><th title = \"Tuple{Int64, Int64}\" style = \"text-align: left;\">Tuple…</th><th title = \"Tuple{Int64, Int64}\" style = \"text-align: left;\">Tuple…</th></tr></thead><tbody><tr><td class = \"rowNumber\" style = \"font-weight: bold; text-align: right;\">1</td><td style = \"text-align: left;\">(1, 1)</td><td style = \"text-align: left;\">(1, 2)</td><td style = \"text-align: right;\">1</td><td style = \"text-align: left;\">(1, 3)</td><td style = \"text-align: left;\">(1, 4)</td></tr><tr><td class = \"rowNumber\" style = \"font-weight: bold; text-align: right;\">2</td><td style = \"text-align: left;\">(2, 1)</td><td style = \"text-align: left;\">(2, 2)</td><td style = \"text-align: right;\">2</td><td style = \"text-align: left;\">(2, 3)</td><td style = \"text-align: left;\">(2, 4)</td></tr><tr><td class = \"rowNumber\" style = \"font-weight: bold; text-align: right;\">3</td><td style = \"text-align: left;\">(3, 1)</td><td style = \"text-align: left;\">(3, 2)</td><td style = \"text-align: right;\">3</td><td style = \"text-align: left;\">(3, 3)</td><td style = \"text-align: left;\">(3, 4)</td></tr></tbody></table></div>"
      ],
      "text/latex": [
       "\\begin{tabular}{r|ccccc}\n",
       "\t& x1 & x2 & A & x3 & x4\\\\\n",
       "\t\\hline\n",
       "\t& Tuple… & Tuple… & Int64 & Tuple… & Tuple…\\\\\n",
       "\t\\hline\n",
       "\t1 & (1, 1) & (1, 2) & 1 & (1, 3) & (1, 4) \\\\\n",
       "\t2 & (2, 1) & (2, 2) & 2 & (2, 3) & (2, 4) \\\\\n",
       "\t3 & (3, 1) & (3, 2) & 3 & (3, 3) & (3, 4) \\\\\n",
       "\\end{tabular}\n"
      ],
      "text/plain": [
       "\u001b[1m3×5 DataFrame\u001b[0m\n",
       "\u001b[1m Row \u001b[0m│\u001b[1m x1     \u001b[0m\u001b[1m x2     \u001b[0m\u001b[1m A     \u001b[0m\u001b[1m x3     \u001b[0m\u001b[1m x4     \u001b[0m\n",
       "     │\u001b[90m Tuple… \u001b[0m\u001b[90m Tuple… \u001b[0m\u001b[90m Int64 \u001b[0m\u001b[90m Tuple… \u001b[0m\u001b[90m Tuple… \u001b[0m\n",
       "─────┼───────────────────────────────────────\n",
       "   1 │ (1, 1)  (1, 2)      1  (1, 3)  (1, 4)\n",
       "   2 │ (2, 1)  (2, 2)      2  (2, 3)  (2, 4)\n",
       "   3 │ (3, 1)  (3, 2)      3  (3, 3)  (3, 4)"
      ]
     },
     "execution_count": 19,
     "metadata": {},
     "output_type": "execute_result"
    }
   ],
   "source": [
    "using BenchmarkTools\n",
    "@btime [$x[!, 1:2] DataFrame(A=[1,2,3]) $x[!, 3:4]]"
   ]
  },
  {
   "cell_type": "markdown",
   "metadata": {},
   "source": [
    "We could also do this with a specialized in place method `insertcols!`. Let's add `:newcol` to the `DataFrame` `y`."
   ]
  },
  {
   "cell_type": "code",
   "execution_count": 20,
   "metadata": {},
   "outputs": [
    {
     "data": {
      "text/html": [
       "<div><div style = \"float: left;\"><span>3×6 DataFrame</span></div><div style = \"clear: both;\"></div></div><div class = \"data-frame\" style = \"overflow-x: scroll;\"><table class = \"data-frame\" style = \"margin-bottom: 6px;\"><thead><tr class = \"header\"><th class = \"rowNumber\" style = \"font-weight: bold; text-align: right;\">Row</th><th style = \"text-align: left;\">A</th><th style = \"text-align: left;\">newcol</th><th style = \"text-align: left;\">x1</th><th style = \"text-align: left;\">x2</th><th style = \"text-align: left;\">x3</th><th style = \"text-align: left;\">x4</th></tr><tr class = \"subheader headerLastRow\"><th class = \"rowNumber\" style = \"font-weight: bold; text-align: right;\"></th><th title = \"Int64\" style = \"text-align: left;\">Int64</th><th title = \"Int64\" style = \"text-align: left;\">Int64</th><th title = \"Tuple{Int64, Int64}\" style = \"text-align: left;\">Tuple…</th><th title = \"Tuple{Int64, Int64}\" style = \"text-align: left;\">Tuple…</th><th title = \"Tuple{Int64, Int64}\" style = \"text-align: left;\">Tuple…</th><th title = \"Tuple{Int64, Int64}\" style = \"text-align: left;\">Tuple…</th></tr></thead><tbody><tr><td class = \"rowNumber\" style = \"font-weight: bold; text-align: right;\">1</td><td style = \"text-align: right;\">1</td><td style = \"text-align: right;\">1</td><td style = \"text-align: left;\">(1, 1)</td><td style = \"text-align: left;\">(1, 2)</td><td style = \"text-align: left;\">(1, 3)</td><td style = \"text-align: left;\">(1, 4)</td></tr><tr><td class = \"rowNumber\" style = \"font-weight: bold; text-align: right;\">2</td><td style = \"text-align: right;\">2</td><td style = \"text-align: right;\">2</td><td style = \"text-align: left;\">(2, 1)</td><td style = \"text-align: left;\">(2, 2)</td><td style = \"text-align: left;\">(2, 3)</td><td style = \"text-align: left;\">(2, 4)</td></tr><tr><td class = \"rowNumber\" style = \"font-weight: bold; text-align: right;\">3</td><td style = \"text-align: right;\">3</td><td style = \"text-align: right;\">3</td><td style = \"text-align: left;\">(3, 1)</td><td style = \"text-align: left;\">(3, 2)</td><td style = \"text-align: left;\">(3, 3)</td><td style = \"text-align: left;\">(3, 4)</td></tr></tbody></table></div>"
      ],
      "text/latex": [
       "\\begin{tabular}{r|cccccc}\n",
       "\t& A & newcol & x1 & x2 & x3 & x4\\\\\n",
       "\t\\hline\n",
       "\t& Int64 & Int64 & Tuple… & Tuple… & Tuple… & Tuple…\\\\\n",
       "\t\\hline\n",
       "\t1 & 1 & 1 & (1, 1) & (1, 2) & (1, 3) & (1, 4) \\\\\n",
       "\t2 & 2 & 2 & (2, 1) & (2, 2) & (2, 3) & (2, 4) \\\\\n",
       "\t3 & 3 & 3 & (3, 1) & (3, 2) & (3, 3) & (3, 4) \\\\\n",
       "\\end{tabular}\n"
      ],
      "text/plain": [
       "\u001b[1m3×6 DataFrame\u001b[0m\n",
       "\u001b[1m Row \u001b[0m│\u001b[1m A     \u001b[0m\u001b[1m newcol \u001b[0m\u001b[1m x1     \u001b[0m\u001b[1m x2     \u001b[0m\u001b[1m x3     \u001b[0m\u001b[1m x4     \u001b[0m\n",
       "     │\u001b[90m Int64 \u001b[0m\u001b[90m Int64  \u001b[0m\u001b[90m Tuple… \u001b[0m\u001b[90m Tuple… \u001b[0m\u001b[90m Tuple… \u001b[0m\u001b[90m Tuple… \u001b[0m\n",
       "─────┼───────────────────────────────────────────────\n",
       "   1 │     1       1  (1, 1)  (1, 2)  (1, 3)  (1, 4)\n",
       "   2 │     2       2  (2, 1)  (2, 2)  (2, 3)  (2, 4)\n",
       "   3 │     3       3  (3, 1)  (3, 2)  (3, 3)  (3, 4)"
      ]
     },
     "execution_count": 20,
     "metadata": {},
     "output_type": "execute_result"
    }
   ],
   "source": [
    "insertcols!(y, 2, \"newcol\" => [1,2,3])"
   ]
  },
  {
   "cell_type": "markdown",
   "metadata": {},
   "source": [
    "If you want to insert the same column name several times `makeunique=true` is needed as usual."
   ]
  },
  {
   "cell_type": "code",
   "execution_count": 21,
   "metadata": {},
   "outputs": [
    {
     "data": {
      "text/html": [
       "<div><div style = \"float: left;\"><span>3×7 DataFrame</span></div><div style = \"clear: both;\"></div></div><div class = \"data-frame\" style = \"overflow-x: scroll;\"><table class = \"data-frame\" style = \"margin-bottom: 6px;\"><thead><tr class = \"header\"><th class = \"rowNumber\" style = \"font-weight: bold; text-align: right;\">Row</th><th style = \"text-align: left;\">A</th><th style = \"text-align: left;\">newcol_1</th><th style = \"text-align: left;\">newcol</th><th style = \"text-align: left;\">x1</th><th style = \"text-align: left;\">x2</th><th style = \"text-align: left;\">x3</th><th style = \"text-align: left;\">x4</th></tr><tr class = \"subheader headerLastRow\"><th class = \"rowNumber\" style = \"font-weight: bold; text-align: right;\"></th><th title = \"Int64\" style = \"text-align: left;\">Int64</th><th title = \"Int64\" style = \"text-align: left;\">Int64</th><th title = \"Int64\" style = \"text-align: left;\">Int64</th><th title = \"Tuple{Int64, Int64}\" style = \"text-align: left;\">Tuple…</th><th title = \"Tuple{Int64, Int64}\" style = \"text-align: left;\">Tuple…</th><th title = \"Tuple{Int64, Int64}\" style = \"text-align: left;\">Tuple…</th><th title = \"Tuple{Int64, Int64}\" style = \"text-align: left;\">Tuple…</th></tr></thead><tbody><tr><td class = \"rowNumber\" style = \"font-weight: bold; text-align: right;\">1</td><td style = \"text-align: right;\">1</td><td style = \"text-align: right;\">1</td><td style = \"text-align: right;\">1</td><td style = \"text-align: left;\">(1, 1)</td><td style = \"text-align: left;\">(1, 2)</td><td style = \"text-align: left;\">(1, 3)</td><td style = \"text-align: left;\">(1, 4)</td></tr><tr><td class = \"rowNumber\" style = \"font-weight: bold; text-align: right;\">2</td><td style = \"text-align: right;\">2</td><td style = \"text-align: right;\">2</td><td style = \"text-align: right;\">2</td><td style = \"text-align: left;\">(2, 1)</td><td style = \"text-align: left;\">(2, 2)</td><td style = \"text-align: left;\">(2, 3)</td><td style = \"text-align: left;\">(2, 4)</td></tr><tr><td class = \"rowNumber\" style = \"font-weight: bold; text-align: right;\">3</td><td style = \"text-align: right;\">3</td><td style = \"text-align: right;\">3</td><td style = \"text-align: right;\">3</td><td style = \"text-align: left;\">(3, 1)</td><td style = \"text-align: left;\">(3, 2)</td><td style = \"text-align: left;\">(3, 3)</td><td style = \"text-align: left;\">(3, 4)</td></tr></tbody></table></div>"
      ],
      "text/latex": [
       "\\begin{tabular}{r|ccccccc}\n",
       "\t& A & newcol\\_1 & newcol & x1 & x2 & x3 & x4\\\\\n",
       "\t\\hline\n",
       "\t& Int64 & Int64 & Int64 & Tuple… & Tuple… & Tuple… & Tuple…\\\\\n",
       "\t\\hline\n",
       "\t1 & 1 & 1 & 1 & (1, 1) & (1, 2) & (1, 3) & (1, 4) \\\\\n",
       "\t2 & 2 & 2 & 2 & (2, 1) & (2, 2) & (2, 3) & (2, 4) \\\\\n",
       "\t3 & 3 & 3 & 3 & (3, 1) & (3, 2) & (3, 3) & (3, 4) \\\\\n",
       "\\end{tabular}\n"
      ],
      "text/plain": [
       "\u001b[1m3×7 DataFrame\u001b[0m\n",
       "\u001b[1m Row \u001b[0m│\u001b[1m A     \u001b[0m\u001b[1m newcol_1 \u001b[0m\u001b[1m newcol \u001b[0m\u001b[1m x1     \u001b[0m\u001b[1m x2     \u001b[0m\u001b[1m x3     \u001b[0m\u001b[1m x4     \u001b[0m\n",
       "     │\u001b[90m Int64 \u001b[0m\u001b[90m Int64    \u001b[0m\u001b[90m Int64  \u001b[0m\u001b[90m Tuple… \u001b[0m\u001b[90m Tuple… \u001b[0m\u001b[90m Tuple… \u001b[0m\u001b[90m Tuple… \u001b[0m\n",
       "─────┼─────────────────────────────────────────────────────────\n",
       "   1 │     1         1       1  (1, 1)  (1, 2)  (1, 3)  (1, 4)\n",
       "   2 │     2         2       2  (2, 1)  (2, 2)  (2, 3)  (2, 4)\n",
       "   3 │     3         3       3  (3, 1)  (3, 2)  (3, 3)  (3, 4)"
      ]
     },
     "execution_count": 21,
     "metadata": {},
     "output_type": "execute_result"
    }
   ],
   "source": [
    "insertcols!(y, 2, :newcol => [1,2,3], makeunique=true)"
   ]
  },
  {
   "cell_type": "markdown",
   "metadata": {},
   "source": [
    "We can see how much faster it is to insert a column with `insertcols!` than with `hcat` using `@btime` (note that we use here a `Pair` notation as an example)."
   ]
  },
  {
   "cell_type": "code",
   "execution_count": 22,
   "metadata": {},
   "outputs": [
    {
     "name": "stdout",
     "output_type": "stream",
     "text": [
      "  900.000 ns (16 allocations: 1.50 KiB)\n"
     ]
    },
    {
     "data": {
      "text/html": [
       "<div><div style = \"float: left;\"><span>3×5 DataFrame</span></div><div style = \"clear: both;\"></div></div><div class = \"data-frame\" style = \"overflow-x: scroll;\"><table class = \"data-frame\" style = \"margin-bottom: 6px;\"><thead><tr class = \"header\"><th class = \"rowNumber\" style = \"font-weight: bold; text-align: right;\">Row</th><th style = \"text-align: left;\">x1</th><th style = \"text-align: left;\">x2</th><th style = \"text-align: left;\">A</th><th style = \"text-align: left;\">x3</th><th style = \"text-align: left;\">x4</th></tr><tr class = \"subheader headerLastRow\"><th class = \"rowNumber\" style = \"font-weight: bold; text-align: right;\"></th><th title = \"Tuple{Int64, Int64}\" style = \"text-align: left;\">Tuple…</th><th title = \"Tuple{Int64, Int64}\" style = \"text-align: left;\">Tuple…</th><th title = \"Int64\" style = \"text-align: left;\">Int64</th><th title = \"Tuple{Int64, Int64}\" style = \"text-align: left;\">Tuple…</th><th title = \"Tuple{Int64, Int64}\" style = \"text-align: left;\">Tuple…</th></tr></thead><tbody><tr><td class = \"rowNumber\" style = \"font-weight: bold; text-align: right;\">1</td><td style = \"text-align: left;\">(1, 1)</td><td style = \"text-align: left;\">(1, 2)</td><td style = \"text-align: right;\">1</td><td style = \"text-align: left;\">(1, 3)</td><td style = \"text-align: left;\">(1, 4)</td></tr><tr><td class = \"rowNumber\" style = \"font-weight: bold; text-align: right;\">2</td><td style = \"text-align: left;\">(2, 1)</td><td style = \"text-align: left;\">(2, 2)</td><td style = \"text-align: right;\">2</td><td style = \"text-align: left;\">(2, 3)</td><td style = \"text-align: left;\">(2, 4)</td></tr><tr><td class = \"rowNumber\" style = \"font-weight: bold; text-align: right;\">3</td><td style = \"text-align: left;\">(3, 1)</td><td style = \"text-align: left;\">(3, 2)</td><td style = \"text-align: right;\">3</td><td style = \"text-align: left;\">(3, 3)</td><td style = \"text-align: left;\">(3, 4)</td></tr></tbody></table></div>"
      ],
      "text/latex": [
       "\\begin{tabular}{r|ccccc}\n",
       "\t& x1 & x2 & A & x3 & x4\\\\\n",
       "\t\\hline\n",
       "\t& Tuple… & Tuple… & Int64 & Tuple… & Tuple…\\\\\n",
       "\t\\hline\n",
       "\t1 & (1, 1) & (1, 2) & 1 & (1, 3) & (1, 4) \\\\\n",
       "\t2 & (2, 1) & (2, 2) & 2 & (2, 3) & (2, 4) \\\\\n",
       "\t3 & (3, 1) & (3, 2) & 3 & (3, 3) & (3, 4) \\\\\n",
       "\\end{tabular}\n"
      ],
      "text/plain": [
       "\u001b[1m3×5 DataFrame\u001b[0m\n",
       "\u001b[1m Row \u001b[0m│\u001b[1m x1     \u001b[0m\u001b[1m x2     \u001b[0m\u001b[1m A     \u001b[0m\u001b[1m x3     \u001b[0m\u001b[1m x4     \u001b[0m\n",
       "     │\u001b[90m Tuple… \u001b[0m\u001b[90m Tuple… \u001b[0m\u001b[90m Int64 \u001b[0m\u001b[90m Tuple… \u001b[0m\u001b[90m Tuple… \u001b[0m\n",
       "─────┼───────────────────────────────────────\n",
       "   1 │ (1, 1)  (1, 2)      1  (1, 3)  (1, 4)\n",
       "   2 │ (2, 1)  (2, 2)      2  (2, 3)  (2, 4)\n",
       "   3 │ (3, 1)  (3, 2)      3  (3, 3)  (3, 4)"
      ]
     },
     "execution_count": 22,
     "metadata": {},
     "output_type": "execute_result"
    }
   ],
   "source": [
    "@btime insertcols!(copy($x), 3, :A => [1,2,3])"
   ]
  },
  {
   "cell_type": "markdown",
   "metadata": {},
   "source": [
    "Let's use `insertcols!` to append a column in place (note that we dropped the index at which we insert the column)"
   ]
  },
  {
   "cell_type": "code",
   "execution_count": 23,
   "metadata": {},
   "outputs": [
    {
     "data": {
      "text/html": [
       "<div><div style = \"float: left;\"><span>3×5 DataFrame</span></div><div style = \"clear: both;\"></div></div><div class = \"data-frame\" style = \"overflow-x: scroll;\"><table class = \"data-frame\" style = \"margin-bottom: 6px;\"><thead><tr class = \"header\"><th class = \"rowNumber\" style = \"font-weight: bold; text-align: right;\">Row</th><th style = \"text-align: left;\">x1</th><th style = \"text-align: left;\">x2</th><th style = \"text-align: left;\">x3</th><th style = \"text-align: left;\">x4</th><th style = \"text-align: left;\">A</th></tr><tr class = \"subheader headerLastRow\"><th class = \"rowNumber\" style = \"font-weight: bold; text-align: right;\"></th><th title = \"Tuple{Int64, Int64}\" style = \"text-align: left;\">Tuple…</th><th title = \"Tuple{Int64, Int64}\" style = \"text-align: left;\">Tuple…</th><th title = \"Tuple{Int64, Int64}\" style = \"text-align: left;\">Tuple…</th><th title = \"Tuple{Int64, Int64}\" style = \"text-align: left;\">Tuple…</th><th title = \"Int64\" style = \"text-align: left;\">Int64</th></tr></thead><tbody><tr><td class = \"rowNumber\" style = \"font-weight: bold; text-align: right;\">1</td><td style = \"text-align: left;\">(1, 1)</td><td style = \"text-align: left;\">(1, 2)</td><td style = \"text-align: left;\">(1, 3)</td><td style = \"text-align: left;\">(1, 4)</td><td style = \"text-align: right;\">1</td></tr><tr><td class = \"rowNumber\" style = \"font-weight: bold; text-align: right;\">2</td><td style = \"text-align: left;\">(2, 1)</td><td style = \"text-align: left;\">(2, 2)</td><td style = \"text-align: left;\">(2, 3)</td><td style = \"text-align: left;\">(2, 4)</td><td style = \"text-align: right;\">2</td></tr><tr><td class = \"rowNumber\" style = \"font-weight: bold; text-align: right;\">3</td><td style = \"text-align: left;\">(3, 1)</td><td style = \"text-align: left;\">(3, 2)</td><td style = \"text-align: left;\">(3, 3)</td><td style = \"text-align: left;\">(3, 4)</td><td style = \"text-align: right;\">3</td></tr></tbody></table></div>"
      ],
      "text/latex": [
       "\\begin{tabular}{r|ccccc}\n",
       "\t& x1 & x2 & x3 & x4 & A\\\\\n",
       "\t\\hline\n",
       "\t& Tuple… & Tuple… & Tuple… & Tuple… & Int64\\\\\n",
       "\t\\hline\n",
       "\t1 & (1, 1) & (1, 2) & (1, 3) & (1, 4) & 1 \\\\\n",
       "\t2 & (2, 1) & (2, 2) & (2, 3) & (2, 4) & 2 \\\\\n",
       "\t3 & (3, 1) & (3, 2) & (3, 3) & (3, 4) & 3 \\\\\n",
       "\\end{tabular}\n"
      ],
      "text/plain": [
       "\u001b[1m3×5 DataFrame\u001b[0m\n",
       "\u001b[1m Row \u001b[0m│\u001b[1m x1     \u001b[0m\u001b[1m x2     \u001b[0m\u001b[1m x3     \u001b[0m\u001b[1m x4     \u001b[0m\u001b[1m A     \u001b[0m\n",
       "     │\u001b[90m Tuple… \u001b[0m\u001b[90m Tuple… \u001b[0m\u001b[90m Tuple… \u001b[0m\u001b[90m Tuple… \u001b[0m\u001b[90m Int64 \u001b[0m\n",
       "─────┼───────────────────────────────────────\n",
       "   1 │ (1, 1)  (1, 2)  (1, 3)  (1, 4)      1\n",
       "   2 │ (2, 1)  (2, 2)  (2, 3)  (2, 4)      2\n",
       "   3 │ (3, 1)  (3, 2)  (3, 3)  (3, 4)      3"
      ]
     },
     "execution_count": 23,
     "metadata": {},
     "output_type": "execute_result"
    }
   ],
   "source": [
    "insertcols!(x, :A => [1,2,3])"
   ]
  },
  {
   "cell_type": "markdown",
   "metadata": {},
   "source": [
    "and to in place prepend a column."
   ]
  },
  {
   "cell_type": "code",
   "execution_count": 24,
   "metadata": {},
   "outputs": [
    {
     "data": {
      "text/html": [
       "<div><div style = \"float: left;\"><span>3×6 DataFrame</span></div><div style = \"clear: both;\"></div></div><div class = \"data-frame\" style = \"overflow-x: scroll;\"><table class = \"data-frame\" style = \"margin-bottom: 6px;\"><thead><tr class = \"header\"><th class = \"rowNumber\" style = \"font-weight: bold; text-align: right;\">Row</th><th style = \"text-align: left;\">B</th><th style = \"text-align: left;\">x1</th><th style = \"text-align: left;\">x2</th><th style = \"text-align: left;\">x3</th><th style = \"text-align: left;\">x4</th><th style = \"text-align: left;\">A</th></tr><tr class = \"subheader headerLastRow\"><th class = \"rowNumber\" style = \"font-weight: bold; text-align: right;\"></th><th title = \"Int64\" style = \"text-align: left;\">Int64</th><th title = \"Tuple{Int64, Int64}\" style = \"text-align: left;\">Tuple…</th><th title = \"Tuple{Int64, Int64}\" style = \"text-align: left;\">Tuple…</th><th title = \"Tuple{Int64, Int64}\" style = \"text-align: left;\">Tuple…</th><th title = \"Tuple{Int64, Int64}\" style = \"text-align: left;\">Tuple…</th><th title = \"Int64\" style = \"text-align: left;\">Int64</th></tr></thead><tbody><tr><td class = \"rowNumber\" style = \"font-weight: bold; text-align: right;\">1</td><td style = \"text-align: right;\">1</td><td style = \"text-align: left;\">(1, 1)</td><td style = \"text-align: left;\">(1, 2)</td><td style = \"text-align: left;\">(1, 3)</td><td style = \"text-align: left;\">(1, 4)</td><td style = \"text-align: right;\">1</td></tr><tr><td class = \"rowNumber\" style = \"font-weight: bold; text-align: right;\">2</td><td style = \"text-align: right;\">2</td><td style = \"text-align: left;\">(2, 1)</td><td style = \"text-align: left;\">(2, 2)</td><td style = \"text-align: left;\">(2, 3)</td><td style = \"text-align: left;\">(2, 4)</td><td style = \"text-align: right;\">2</td></tr><tr><td class = \"rowNumber\" style = \"font-weight: bold; text-align: right;\">3</td><td style = \"text-align: right;\">3</td><td style = \"text-align: left;\">(3, 1)</td><td style = \"text-align: left;\">(3, 2)</td><td style = \"text-align: left;\">(3, 3)</td><td style = \"text-align: left;\">(3, 4)</td><td style = \"text-align: right;\">3</td></tr></tbody></table></div>"
      ],
      "text/latex": [
       "\\begin{tabular}{r|cccccc}\n",
       "\t& B & x1 & x2 & x3 & x4 & A\\\\\n",
       "\t\\hline\n",
       "\t& Int64 & Tuple… & Tuple… & Tuple… & Tuple… & Int64\\\\\n",
       "\t\\hline\n",
       "\t1 & 1 & (1, 1) & (1, 2) & (1, 3) & (1, 4) & 1 \\\\\n",
       "\t2 & 2 & (2, 1) & (2, 2) & (2, 3) & (2, 4) & 2 \\\\\n",
       "\t3 & 3 & (3, 1) & (3, 2) & (3, 3) & (3, 4) & 3 \\\\\n",
       "\\end{tabular}\n"
      ],
      "text/plain": [
       "\u001b[1m3×6 DataFrame\u001b[0m\n",
       "\u001b[1m Row \u001b[0m│\u001b[1m B     \u001b[0m\u001b[1m x1     \u001b[0m\u001b[1m x2     \u001b[0m\u001b[1m x3     \u001b[0m\u001b[1m x4     \u001b[0m\u001b[1m A     \u001b[0m\n",
       "     │\u001b[90m Int64 \u001b[0m\u001b[90m Tuple… \u001b[0m\u001b[90m Tuple… \u001b[0m\u001b[90m Tuple… \u001b[0m\u001b[90m Tuple… \u001b[0m\u001b[90m Int64 \u001b[0m\n",
       "─────┼──────────────────────────────────────────────\n",
       "   1 │     1  (1, 1)  (1, 2)  (1, 3)  (1, 4)      1\n",
       "   2 │     2  (2, 1)  (2, 2)  (2, 3)  (2, 4)      2\n",
       "   3 │     3  (3, 1)  (3, 2)  (3, 3)  (3, 4)      3"
      ]
     },
     "execution_count": 24,
     "metadata": {},
     "output_type": "execute_result"
    }
   ],
   "source": [
    "insertcols!(x, 1, :B => [1,2,3])"
   ]
  },
  {
   "cell_type": "markdown",
   "metadata": {},
   "source": [
    "Note that `insertcols!` can be used to insert several columns to a data frame at once and that it performs broadcasting if needed:"
   ]
  },
  {
   "cell_type": "code",
   "execution_count": 25,
   "metadata": {},
   "outputs": [
    {
     "data": {
      "text/html": [
       "<div><div style = \"float: left;\"><span>3×1 DataFrame</span></div><div style = \"clear: both;\"></div></div><div class = \"data-frame\" style = \"overflow-x: scroll;\"><table class = \"data-frame\" style = \"margin-bottom: 6px;\"><thead><tr class = \"header\"><th class = \"rowNumber\" style = \"font-weight: bold; text-align: right;\">Row</th><th style = \"text-align: left;\">a</th></tr><tr class = \"subheader headerLastRow\"><th class = \"rowNumber\" style = \"font-weight: bold; text-align: right;\"></th><th title = \"Int64\" style = \"text-align: left;\">Int64</th></tr></thead><tbody><tr><td class = \"rowNumber\" style = \"font-weight: bold; text-align: right;\">1</td><td style = \"text-align: right;\">1</td></tr><tr><td class = \"rowNumber\" style = \"font-weight: bold; text-align: right;\">2</td><td style = \"text-align: right;\">2</td></tr><tr><td class = \"rowNumber\" style = \"font-weight: bold; text-align: right;\">3</td><td style = \"text-align: right;\">3</td></tr></tbody></table></div>"
      ],
      "text/latex": [
       "\\begin{tabular}{r|c}\n",
       "\t& a\\\\\n",
       "\t\\hline\n",
       "\t& Int64\\\\\n",
       "\t\\hline\n",
       "\t1 & 1 \\\\\n",
       "\t2 & 2 \\\\\n",
       "\t3 & 3 \\\\\n",
       "\\end{tabular}\n"
      ],
      "text/plain": [
       "\u001b[1m3×1 DataFrame\u001b[0m\n",
       "\u001b[1m Row \u001b[0m│\u001b[1m a     \u001b[0m\n",
       "     │\u001b[90m Int64 \u001b[0m\n",
       "─────┼───────\n",
       "   1 │     1\n",
       "   2 │     2\n",
       "   3 │     3"
      ]
     },
     "execution_count": 25,
     "metadata": {},
     "output_type": "execute_result"
    }
   ],
   "source": [
    "df = DataFrame(a = [1, 2, 3])"
   ]
  },
  {
   "cell_type": "code",
   "execution_count": 26,
   "metadata": {},
   "outputs": [
    {
     "data": {
      "text/html": [
       "<div><div style = \"float: left;\"><span>3×4 DataFrame</span></div><div style = \"clear: both;\"></div></div><div class = \"data-frame\" style = \"overflow-x: scroll;\"><table class = \"data-frame\" style = \"margin-bottom: 6px;\"><thead><tr class = \"header\"><th class = \"rowNumber\" style = \"font-weight: bold; text-align: right;\">Row</th><th style = \"text-align: left;\">a</th><th style = \"text-align: left;\">b</th><th style = \"text-align: left;\">c</th><th style = \"text-align: left;\">d</th></tr><tr class = \"subheader headerLastRow\"><th class = \"rowNumber\" style = \"font-weight: bold; text-align: right;\"></th><th title = \"Int64\" style = \"text-align: left;\">Int64</th><th title = \"String\" style = \"text-align: left;\">String</th><th title = \"Char\" style = \"text-align: left;\">Char</th><th title = \"Vector{Int64}\" style = \"text-align: left;\">Array…</th></tr></thead><tbody><tr><td class = \"rowNumber\" style = \"font-weight: bold; text-align: right;\">1</td><td style = \"text-align: right;\">1</td><td style = \"text-align: left;\">x</td><td style = \"text-align: left;\">a</td><td style = \"text-align: left;\">[1, 2, 3]</td></tr><tr><td class = \"rowNumber\" style = \"font-weight: bold; text-align: right;\">2</td><td style = \"text-align: right;\">2</td><td style = \"text-align: left;\">x</td><td style = \"text-align: left;\">b</td><td style = \"text-align: left;\">[1, 2, 3]</td></tr><tr><td class = \"rowNumber\" style = \"font-weight: bold; text-align: right;\">3</td><td style = \"text-align: right;\">3</td><td style = \"text-align: left;\">x</td><td style = \"text-align: left;\">c</td><td style = \"text-align: left;\">[1, 2, 3]</td></tr></tbody></table></div>"
      ],
      "text/latex": [
       "\\begin{tabular}{r|cccc}\n",
       "\t& a & b & c & d\\\\\n",
       "\t\\hline\n",
       "\t& Int64 & String & Char & Array…\\\\\n",
       "\t\\hline\n",
       "\t1 & 1 & x & a & [1, 2, 3] \\\\\n",
       "\t2 & 2 & x & b & [1, 2, 3] \\\\\n",
       "\t3 & 3 & x & c & [1, 2, 3] \\\\\n",
       "\\end{tabular}\n"
      ],
      "text/plain": [
       "\u001b[1m3×4 DataFrame\u001b[0m\n",
       "\u001b[1m Row \u001b[0m│\u001b[1m a     \u001b[0m\u001b[1m b      \u001b[0m\u001b[1m c    \u001b[0m\u001b[1m d         \u001b[0m\n",
       "     │\u001b[90m Int64 \u001b[0m\u001b[90m String \u001b[0m\u001b[90m Char \u001b[0m\u001b[90m Array…    \u001b[0m\n",
       "─────┼────────────────────────────────\n",
       "   1 │     1  x       a     [1, 2, 3]\n",
       "   2 │     2  x       b     [1, 2, 3]\n",
       "   3 │     3  x       c     [1, 2, 3]"
      ]
     },
     "execution_count": 26,
     "metadata": {},
     "output_type": "execute_result"
    }
   ],
   "source": [
    "insertcols!(df, :b => \"x\", :c => 'a':'c', :d => Ref([1,2,3]))"
   ]
  },
  {
   "cell_type": "markdown",
   "metadata": {},
   "source": [
    "Interestingly we can emulate `hcat` mutating the data frame in-place using `insertcols!`:"
   ]
  },
  {
   "cell_type": "code",
   "execution_count": 27,
   "metadata": {},
   "outputs": [
    {
     "data": {
      "text/html": [
       "<div><div style = \"float: left;\"><span>2×1 DataFrame</span></div><div style = \"clear: both;\"></div></div><div class = \"data-frame\" style = \"overflow-x: scroll;\"><table class = \"data-frame\" style = \"margin-bottom: 6px;\"><thead><tr class = \"header\"><th class = \"rowNumber\" style = \"font-weight: bold; text-align: right;\">Row</th><th style = \"text-align: left;\">a</th></tr><tr class = \"subheader headerLastRow\"><th class = \"rowNumber\" style = \"font-weight: bold; text-align: right;\"></th><th title = \"Int64\" style = \"text-align: left;\">Int64</th></tr></thead><tbody><tr><td class = \"rowNumber\" style = \"font-weight: bold; text-align: right;\">1</td><td style = \"text-align: right;\">1</td></tr><tr><td class = \"rowNumber\" style = \"font-weight: bold; text-align: right;\">2</td><td style = \"text-align: right;\">2</td></tr></tbody></table></div>"
      ],
      "text/latex": [
       "\\begin{tabular}{r|c}\n",
       "\t& a\\\\\n",
       "\t\\hline\n",
       "\t& Int64\\\\\n",
       "\t\\hline\n",
       "\t1 & 1 \\\\\n",
       "\t2 & 2 \\\\\n",
       "\\end{tabular}\n"
      ],
      "text/plain": [
       "\u001b[1m2×1 DataFrame\u001b[0m\n",
       "\u001b[1m Row \u001b[0m│\u001b[1m a     \u001b[0m\n",
       "     │\u001b[90m Int64 \u001b[0m\n",
       "─────┼───────\n",
       "   1 │     1\n",
       "   2 │     2"
      ]
     },
     "execution_count": 27,
     "metadata": {},
     "output_type": "execute_result"
    }
   ],
   "source": [
    "df1 = DataFrame(a=[1,2])"
   ]
  },
  {
   "cell_type": "code",
   "execution_count": 28,
   "metadata": {},
   "outputs": [
    {
     "data": {
      "text/html": [
       "<div><div style = \"float: left;\"><span>2×2 DataFrame</span></div><div style = \"clear: both;\"></div></div><div class = \"data-frame\" style = \"overflow-x: scroll;\"><table class = \"data-frame\" style = \"margin-bottom: 6px;\"><thead><tr class = \"header\"><th class = \"rowNumber\" style = \"font-weight: bold; text-align: right;\">Row</th><th style = \"text-align: left;\">b</th><th style = \"text-align: left;\">c</th></tr><tr class = \"subheader headerLastRow\"><th class = \"rowNumber\" style = \"font-weight: bold; text-align: right;\"></th><th title = \"Int64\" style = \"text-align: left;\">Int64</th><th title = \"Int64\" style = \"text-align: left;\">Int64</th></tr></thead><tbody><tr><td class = \"rowNumber\" style = \"font-weight: bold; text-align: right;\">1</td><td style = \"text-align: right;\">2</td><td style = \"text-align: right;\">3</td></tr><tr><td class = \"rowNumber\" style = \"font-weight: bold; text-align: right;\">2</td><td style = \"text-align: right;\">3</td><td style = \"text-align: right;\">4</td></tr></tbody></table></div>"
      ],
      "text/latex": [
       "\\begin{tabular}{r|cc}\n",
       "\t& b & c\\\\\n",
       "\t\\hline\n",
       "\t& Int64 & Int64\\\\\n",
       "\t\\hline\n",
       "\t1 & 2 & 3 \\\\\n",
       "\t2 & 3 & 4 \\\\\n",
       "\\end{tabular}\n"
      ],
      "text/plain": [
       "\u001b[1m2×2 DataFrame\u001b[0m\n",
       "\u001b[1m Row \u001b[0m│\u001b[1m b     \u001b[0m\u001b[1m c     \u001b[0m\n",
       "     │\u001b[90m Int64 \u001b[0m\u001b[90m Int64 \u001b[0m\n",
       "─────┼──────────────\n",
       "   1 │     2      3\n",
       "   2 │     3      4"
      ]
     },
     "execution_count": 28,
     "metadata": {},
     "output_type": "execute_result"
    }
   ],
   "source": [
    "df2 = DataFrame(b=[2,3], c=[3,4])"
   ]
  },
  {
   "cell_type": "code",
   "execution_count": 29,
   "metadata": {},
   "outputs": [
    {
     "data": {
      "text/html": [
       "<div><div style = \"float: left;\"><span>2×3 DataFrame</span></div><div style = \"clear: both;\"></div></div><div class = \"data-frame\" style = \"overflow-x: scroll;\"><table class = \"data-frame\" style = \"margin-bottom: 6px;\"><thead><tr class = \"header\"><th class = \"rowNumber\" style = \"font-weight: bold; text-align: right;\">Row</th><th style = \"text-align: left;\">a</th><th style = \"text-align: left;\">b</th><th style = \"text-align: left;\">c</th></tr><tr class = \"subheader headerLastRow\"><th class = \"rowNumber\" style = \"font-weight: bold; text-align: right;\"></th><th title = \"Int64\" style = \"text-align: left;\">Int64</th><th title = \"Int64\" style = \"text-align: left;\">Int64</th><th title = \"Int64\" style = \"text-align: left;\">Int64</th></tr></thead><tbody><tr><td class = \"rowNumber\" style = \"font-weight: bold; text-align: right;\">1</td><td style = \"text-align: right;\">1</td><td style = \"text-align: right;\">2</td><td style = \"text-align: right;\">3</td></tr><tr><td class = \"rowNumber\" style = \"font-weight: bold; text-align: right;\">2</td><td style = \"text-align: right;\">2</td><td style = \"text-align: right;\">3</td><td style = \"text-align: right;\">4</td></tr></tbody></table></div>"
      ],
      "text/latex": [
       "\\begin{tabular}{r|ccc}\n",
       "\t& a & b & c\\\\\n",
       "\t\\hline\n",
       "\t& Int64 & Int64 & Int64\\\\\n",
       "\t\\hline\n",
       "\t1 & 1 & 2 & 3 \\\\\n",
       "\t2 & 2 & 3 & 4 \\\\\n",
       "\\end{tabular}\n"
      ],
      "text/plain": [
       "\u001b[1m2×3 DataFrame\u001b[0m\n",
       "\u001b[1m Row \u001b[0m│\u001b[1m a     \u001b[0m\u001b[1m b     \u001b[0m\u001b[1m c     \u001b[0m\n",
       "     │\u001b[90m Int64 \u001b[0m\u001b[90m Int64 \u001b[0m\u001b[90m Int64 \u001b[0m\n",
       "─────┼─────────────────────\n",
       "   1 │     1      2      3\n",
       "   2 │     2      3      4"
      ]
     },
     "execution_count": 29,
     "metadata": {},
     "output_type": "execute_result"
    }
   ],
   "source": [
    "hcat(df1, df2)"
   ]
  },
  {
   "cell_type": "code",
   "execution_count": 30,
   "metadata": {},
   "outputs": [
    {
     "data": {
      "text/html": [
       "<div><div style = \"float: left;\"><span>2×1 DataFrame</span></div><div style = \"clear: both;\"></div></div><div class = \"data-frame\" style = \"overflow-x: scroll;\"><table class = \"data-frame\" style = \"margin-bottom: 6px;\"><thead><tr class = \"header\"><th class = \"rowNumber\" style = \"font-weight: bold; text-align: right;\">Row</th><th style = \"text-align: left;\">a</th></tr><tr class = \"subheader headerLastRow\"><th class = \"rowNumber\" style = \"font-weight: bold; text-align: right;\"></th><th title = \"Int64\" style = \"text-align: left;\">Int64</th></tr></thead><tbody><tr><td class = \"rowNumber\" style = \"font-weight: bold; text-align: right;\">1</td><td style = \"text-align: right;\">1</td></tr><tr><td class = \"rowNumber\" style = \"font-weight: bold; text-align: right;\">2</td><td style = \"text-align: right;\">2</td></tr></tbody></table></div>"
      ],
      "text/latex": [
       "\\begin{tabular}{r|c}\n",
       "\t& a\\\\\n",
       "\t\\hline\n",
       "\t& Int64\\\\\n",
       "\t\\hline\n",
       "\t1 & 1 \\\\\n",
       "\t2 & 2 \\\\\n",
       "\\end{tabular}\n"
      ],
      "text/plain": [
       "\u001b[1m2×1 DataFrame\u001b[0m\n",
       "\u001b[1m Row \u001b[0m│\u001b[1m a     \u001b[0m\n",
       "     │\u001b[90m Int64 \u001b[0m\n",
       "─────┼───────\n",
       "   1 │     1\n",
       "   2 │     2"
      ]
     },
     "execution_count": 30,
     "metadata": {},
     "output_type": "execute_result"
    }
   ],
   "source": [
    "df1 # df1 is not touched"
   ]
  },
  {
   "cell_type": "code",
   "execution_count": 31,
   "metadata": {},
   "outputs": [
    {
     "data": {
      "text/html": [
       "<div><div style = \"float: left;\"><span>2×3 DataFrame</span></div><div style = \"clear: both;\"></div></div><div class = \"data-frame\" style = \"overflow-x: scroll;\"><table class = \"data-frame\" style = \"margin-bottom: 6px;\"><thead><tr class = \"header\"><th class = \"rowNumber\" style = \"font-weight: bold; text-align: right;\">Row</th><th style = \"text-align: left;\">a</th><th style = \"text-align: left;\">b</th><th style = \"text-align: left;\">c</th></tr><tr class = \"subheader headerLastRow\"><th class = \"rowNumber\" style = \"font-weight: bold; text-align: right;\"></th><th title = \"Int64\" style = \"text-align: left;\">Int64</th><th title = \"Int64\" style = \"text-align: left;\">Int64</th><th title = \"Int64\" style = \"text-align: left;\">Int64</th></tr></thead><tbody><tr><td class = \"rowNumber\" style = \"font-weight: bold; text-align: right;\">1</td><td style = \"text-align: right;\">1</td><td style = \"text-align: right;\">2</td><td style = \"text-align: right;\">3</td></tr><tr><td class = \"rowNumber\" style = \"font-weight: bold; text-align: right;\">2</td><td style = \"text-align: right;\">2</td><td style = \"text-align: right;\">3</td><td style = \"text-align: right;\">4</td></tr></tbody></table></div>"
      ],
      "text/latex": [
       "\\begin{tabular}{r|ccc}\n",
       "\t& a & b & c\\\\\n",
       "\t\\hline\n",
       "\t& Int64 & Int64 & Int64\\\\\n",
       "\t\\hline\n",
       "\t1 & 1 & 2 & 3 \\\\\n",
       "\t2 & 2 & 3 & 4 \\\\\n",
       "\\end{tabular}\n"
      ],
      "text/plain": [
       "\u001b[1m2×3 DataFrame\u001b[0m\n",
       "\u001b[1m Row \u001b[0m│\u001b[1m a     \u001b[0m\u001b[1m b     \u001b[0m\u001b[1m c     \u001b[0m\n",
       "     │\u001b[90m Int64 \u001b[0m\u001b[90m Int64 \u001b[0m\u001b[90m Int64 \u001b[0m\n",
       "─────┼─────────────────────\n",
       "   1 │     1      2      3\n",
       "   2 │     2      3      4"
      ]
     },
     "execution_count": 31,
     "metadata": {},
     "output_type": "execute_result"
    }
   ],
   "source": [
    "insertcols!(df1, pairs(eachcol(df2))...)"
   ]
  },
  {
   "cell_type": "code",
   "execution_count": 32,
   "metadata": {},
   "outputs": [
    {
     "data": {
      "text/html": [
       "<div><div style = \"float: left;\"><span>2×3 DataFrame</span></div><div style = \"clear: both;\"></div></div><div class = \"data-frame\" style = \"overflow-x: scroll;\"><table class = \"data-frame\" style = \"margin-bottom: 6px;\"><thead><tr class = \"header\"><th class = \"rowNumber\" style = \"font-weight: bold; text-align: right;\">Row</th><th style = \"text-align: left;\">a</th><th style = \"text-align: left;\">b</th><th style = \"text-align: left;\">c</th></tr><tr class = \"subheader headerLastRow\"><th class = \"rowNumber\" style = \"font-weight: bold; text-align: right;\"></th><th title = \"Int64\" style = \"text-align: left;\">Int64</th><th title = \"Int64\" style = \"text-align: left;\">Int64</th><th title = \"Int64\" style = \"text-align: left;\">Int64</th></tr></thead><tbody><tr><td class = \"rowNumber\" style = \"font-weight: bold; text-align: right;\">1</td><td style = \"text-align: right;\">1</td><td style = \"text-align: right;\">2</td><td style = \"text-align: right;\">3</td></tr><tr><td class = \"rowNumber\" style = \"font-weight: bold; text-align: right;\">2</td><td style = \"text-align: right;\">2</td><td style = \"text-align: right;\">3</td><td style = \"text-align: right;\">4</td></tr></tbody></table></div>"
      ],
      "text/latex": [
       "\\begin{tabular}{r|ccc}\n",
       "\t& a & b & c\\\\\n",
       "\t\\hline\n",
       "\t& Int64 & Int64 & Int64\\\\\n",
       "\t\\hline\n",
       "\t1 & 1 & 2 & 3 \\\\\n",
       "\t2 & 2 & 3 & 4 \\\\\n",
       "\\end{tabular}\n"
      ],
      "text/plain": [
       "\u001b[1m2×3 DataFrame\u001b[0m\n",
       "\u001b[1m Row \u001b[0m│\u001b[1m a     \u001b[0m\u001b[1m b     \u001b[0m\u001b[1m c     \u001b[0m\n",
       "     │\u001b[90m Int64 \u001b[0m\u001b[90m Int64 \u001b[0m\u001b[90m Int64 \u001b[0m\n",
       "─────┼─────────────────────\n",
       "   1 │     1      2      3\n",
       "   2 │     2      3      4"
      ]
     },
     "execution_count": 32,
     "metadata": {},
     "output_type": "execute_result"
    }
   ],
   "source": [
    "df1 # now we have changed df1"
   ]
  },
  {
   "cell_type": "markdown",
   "metadata": {},
   "source": [
    "### Subsetting/removing columns\n",
    "\n",
    "Let's create a new `DataFrame` `x` and show a few ways to create DataFrames with a subset of `x`'s columns."
   ]
  },
  {
   "cell_type": "code",
   "execution_count": 33,
   "metadata": {},
   "outputs": [
    {
     "data": {
      "text/html": [
       "<div><div style = \"float: left;\"><span>3×5 DataFrame</span></div><div style = \"clear: both;\"></div></div><div class = \"data-frame\" style = \"overflow-x: scroll;\"><table class = \"data-frame\" style = \"margin-bottom: 6px;\"><thead><tr class = \"header\"><th class = \"rowNumber\" style = \"font-weight: bold; text-align: right;\">Row</th><th style = \"text-align: left;\">x1</th><th style = \"text-align: left;\">x2</th><th style = \"text-align: left;\">x3</th><th style = \"text-align: left;\">x4</th><th style = \"text-align: left;\">x5</th></tr><tr class = \"subheader headerLastRow\"><th class = \"rowNumber\" style = \"font-weight: bold; text-align: right;\"></th><th title = \"Tuple{Int64, Int64}\" style = \"text-align: left;\">Tuple…</th><th title = \"Tuple{Int64, Int64}\" style = \"text-align: left;\">Tuple…</th><th title = \"Tuple{Int64, Int64}\" style = \"text-align: left;\">Tuple…</th><th title = \"Tuple{Int64, Int64}\" style = \"text-align: left;\">Tuple…</th><th title = \"Tuple{Int64, Int64}\" style = \"text-align: left;\">Tuple…</th></tr></thead><tbody><tr><td class = \"rowNumber\" style = \"font-weight: bold; text-align: right;\">1</td><td style = \"text-align: left;\">(1, 1)</td><td style = \"text-align: left;\">(1, 2)</td><td style = \"text-align: left;\">(1, 3)</td><td style = \"text-align: left;\">(1, 4)</td><td style = \"text-align: left;\">(1, 5)</td></tr><tr><td class = \"rowNumber\" style = \"font-weight: bold; text-align: right;\">2</td><td style = \"text-align: left;\">(2, 1)</td><td style = \"text-align: left;\">(2, 2)</td><td style = \"text-align: left;\">(2, 3)</td><td style = \"text-align: left;\">(2, 4)</td><td style = \"text-align: left;\">(2, 5)</td></tr><tr><td class = \"rowNumber\" style = \"font-weight: bold; text-align: right;\">3</td><td style = \"text-align: left;\">(3, 1)</td><td style = \"text-align: left;\">(3, 2)</td><td style = \"text-align: left;\">(3, 3)</td><td style = \"text-align: left;\">(3, 4)</td><td style = \"text-align: left;\">(3, 5)</td></tr></tbody></table></div>"
      ],
      "text/latex": [
       "\\begin{tabular}{r|ccccc}\n",
       "\t& x1 & x2 & x3 & x4 & x5\\\\\n",
       "\t\\hline\n",
       "\t& Tuple… & Tuple… & Tuple… & Tuple… & Tuple…\\\\\n",
       "\t\\hline\n",
       "\t1 & (1, 1) & (1, 2) & (1, 3) & (1, 4) & (1, 5) \\\\\n",
       "\t2 & (2, 1) & (2, 2) & (2, 3) & (2, 4) & (2, 5) \\\\\n",
       "\t3 & (3, 1) & (3, 2) & (3, 3) & (3, 4) & (3, 5) \\\\\n",
       "\\end{tabular}\n"
      ],
      "text/plain": [
       "\u001b[1m3×5 DataFrame\u001b[0m\n",
       "\u001b[1m Row \u001b[0m│\u001b[1m x1     \u001b[0m\u001b[1m x2     \u001b[0m\u001b[1m x3     \u001b[0m\u001b[1m x4     \u001b[0m\u001b[1m x5     \u001b[0m\n",
       "     │\u001b[90m Tuple… \u001b[0m\u001b[90m Tuple… \u001b[0m\u001b[90m Tuple… \u001b[0m\u001b[90m Tuple… \u001b[0m\u001b[90m Tuple… \u001b[0m\n",
       "─────┼────────────────────────────────────────\n",
       "   1 │ (1, 1)  (1, 2)  (1, 3)  (1, 4)  (1, 5)\n",
       "   2 │ (2, 1)  (2, 2)  (2, 3)  (2, 4)  (2, 5)\n",
       "   3 │ (3, 1)  (3, 2)  (3, 3)  (3, 4)  (3, 5)"
      ]
     },
     "execution_count": 33,
     "metadata": {},
     "output_type": "execute_result"
    }
   ],
   "source": [
    "x = DataFrame([(i,j) for i in 1:3, j in 1:5], :auto)"
   ]
  },
  {
   "cell_type": "markdown",
   "metadata": {},
   "source": [
    "First we could do this by index:"
   ]
  },
  {
   "cell_type": "code",
   "execution_count": 34,
   "metadata": {},
   "outputs": [
    {
     "data": {
      "text/html": [
       "<div><div style = \"float: left;\"><span>3×4 DataFrame</span></div><div style = \"clear: both;\"></div></div><div class = \"data-frame\" style = \"overflow-x: scroll;\"><table class = \"data-frame\" style = \"margin-bottom: 6px;\"><thead><tr class = \"header\"><th class = \"rowNumber\" style = \"font-weight: bold; text-align: right;\">Row</th><th style = \"text-align: left;\">x1</th><th style = \"text-align: left;\">x2</th><th style = \"text-align: left;\">x4</th><th style = \"text-align: left;\">x5</th></tr><tr class = \"subheader headerLastRow\"><th class = \"rowNumber\" style = \"font-weight: bold; text-align: right;\"></th><th title = \"Tuple{Int64, Int64}\" style = \"text-align: left;\">Tuple…</th><th title = \"Tuple{Int64, Int64}\" style = \"text-align: left;\">Tuple…</th><th title = \"Tuple{Int64, Int64}\" style = \"text-align: left;\">Tuple…</th><th title = \"Tuple{Int64, Int64}\" style = \"text-align: left;\">Tuple…</th></tr></thead><tbody><tr><td class = \"rowNumber\" style = \"font-weight: bold; text-align: right;\">1</td><td style = \"text-align: left;\">(1, 1)</td><td style = \"text-align: left;\">(1, 2)</td><td style = \"text-align: left;\">(1, 4)</td><td style = \"text-align: left;\">(1, 5)</td></tr><tr><td class = \"rowNumber\" style = \"font-weight: bold; text-align: right;\">2</td><td style = \"text-align: left;\">(2, 1)</td><td style = \"text-align: left;\">(2, 2)</td><td style = \"text-align: left;\">(2, 4)</td><td style = \"text-align: left;\">(2, 5)</td></tr><tr><td class = \"rowNumber\" style = \"font-weight: bold; text-align: right;\">3</td><td style = \"text-align: left;\">(3, 1)</td><td style = \"text-align: left;\">(3, 2)</td><td style = \"text-align: left;\">(3, 4)</td><td style = \"text-align: left;\">(3, 5)</td></tr></tbody></table></div>"
      ],
      "text/latex": [
       "\\begin{tabular}{r|cccc}\n",
       "\t& x1 & x2 & x4 & x5\\\\\n",
       "\t\\hline\n",
       "\t& Tuple… & Tuple… & Tuple… & Tuple…\\\\\n",
       "\t\\hline\n",
       "\t1 & (1, 1) & (1, 2) & (1, 4) & (1, 5) \\\\\n",
       "\t2 & (2, 1) & (2, 2) & (2, 4) & (2, 5) \\\\\n",
       "\t3 & (3, 1) & (3, 2) & (3, 4) & (3, 5) \\\\\n",
       "\\end{tabular}\n"
      ],
      "text/plain": [
       "\u001b[1m3×4 DataFrame\u001b[0m\n",
       "\u001b[1m Row \u001b[0m│\u001b[1m x1     \u001b[0m\u001b[1m x2     \u001b[0m\u001b[1m x4     \u001b[0m\u001b[1m x5     \u001b[0m\n",
       "     │\u001b[90m Tuple… \u001b[0m\u001b[90m Tuple… \u001b[0m\u001b[90m Tuple… \u001b[0m\u001b[90m Tuple… \u001b[0m\n",
       "─────┼────────────────────────────────\n",
       "   1 │ (1, 1)  (1, 2)  (1, 4)  (1, 5)\n",
       "   2 │ (2, 1)  (2, 2)  (2, 4)  (2, 5)\n",
       "   3 │ (3, 1)  (3, 2)  (3, 4)  (3, 5)"
      ]
     },
     "execution_count": 34,
     "metadata": {},
     "output_type": "execute_result"
    }
   ],
   "source": [
    "x[:, [1,2,4,5]] # use ! instead of : for non-copying operation"
   ]
  },
  {
   "cell_type": "markdown",
   "metadata": {},
   "source": [
    "or by column name:"
   ]
  },
  {
   "cell_type": "code",
   "execution_count": 35,
   "metadata": {},
   "outputs": [
    {
     "data": {
      "text/html": [
       "<div><div style = \"float: left;\"><span>3×2 DataFrame</span></div><div style = \"clear: both;\"></div></div><div class = \"data-frame\" style = \"overflow-x: scroll;\"><table class = \"data-frame\" style = \"margin-bottom: 6px;\"><thead><tr class = \"header\"><th class = \"rowNumber\" style = \"font-weight: bold; text-align: right;\">Row</th><th style = \"text-align: left;\">x1</th><th style = \"text-align: left;\">x4</th></tr><tr class = \"subheader headerLastRow\"><th class = \"rowNumber\" style = \"font-weight: bold; text-align: right;\"></th><th title = \"Tuple{Int64, Int64}\" style = \"text-align: left;\">Tuple…</th><th title = \"Tuple{Int64, Int64}\" style = \"text-align: left;\">Tuple…</th></tr></thead><tbody><tr><td class = \"rowNumber\" style = \"font-weight: bold; text-align: right;\">1</td><td style = \"text-align: left;\">(1, 1)</td><td style = \"text-align: left;\">(1, 4)</td></tr><tr><td class = \"rowNumber\" style = \"font-weight: bold; text-align: right;\">2</td><td style = \"text-align: left;\">(2, 1)</td><td style = \"text-align: left;\">(2, 4)</td></tr><tr><td class = \"rowNumber\" style = \"font-weight: bold; text-align: right;\">3</td><td style = \"text-align: left;\">(3, 1)</td><td style = \"text-align: left;\">(3, 4)</td></tr></tbody></table></div>"
      ],
      "text/latex": [
       "\\begin{tabular}{r|cc}\n",
       "\t& x1 & x4\\\\\n",
       "\t\\hline\n",
       "\t& Tuple… & Tuple…\\\\\n",
       "\t\\hline\n",
       "\t1 & (1, 1) & (1, 4) \\\\\n",
       "\t2 & (2, 1) & (2, 4) \\\\\n",
       "\t3 & (3, 1) & (3, 4) \\\\\n",
       "\\end{tabular}\n"
      ],
      "text/plain": [
       "\u001b[1m3×2 DataFrame\u001b[0m\n",
       "\u001b[1m Row \u001b[0m│\u001b[1m x1     \u001b[0m\u001b[1m x4     \u001b[0m\n",
       "     │\u001b[90m Tuple… \u001b[0m\u001b[90m Tuple… \u001b[0m\n",
       "─────┼────────────────\n",
       "   1 │ (1, 1)  (1, 4)\n",
       "   2 │ (2, 1)  (2, 4)\n",
       "   3 │ (3, 1)  (3, 4)"
      ]
     },
     "execution_count": 35,
     "metadata": {},
     "output_type": "execute_result"
    }
   ],
   "source": [
    "x[:, [:x1, :x4]]"
   ]
  },
  {
   "cell_type": "markdown",
   "metadata": {},
   "source": [
    "We can also choose to keep or exclude columns by `Bool` (we need a vector whose length is the number of columns in the original `DataFrame`)."
   ]
  },
  {
   "cell_type": "code",
   "execution_count": 36,
   "metadata": {},
   "outputs": [
    {
     "data": {
      "text/html": [
       "<div><div style = \"float: left;\"><span>3×3 DataFrame</span></div><div style = \"clear: both;\"></div></div><div class = \"data-frame\" style = \"overflow-x: scroll;\"><table class = \"data-frame\" style = \"margin-bottom: 6px;\"><thead><tr class = \"header\"><th class = \"rowNumber\" style = \"font-weight: bold; text-align: right;\">Row</th><th style = \"text-align: left;\">x1</th><th style = \"text-align: left;\">x3</th><th style = \"text-align: left;\">x5</th></tr><tr class = \"subheader headerLastRow\"><th class = \"rowNumber\" style = \"font-weight: bold; text-align: right;\"></th><th title = \"Tuple{Int64, Int64}\" style = \"text-align: left;\">Tuple…</th><th title = \"Tuple{Int64, Int64}\" style = \"text-align: left;\">Tuple…</th><th title = \"Tuple{Int64, Int64}\" style = \"text-align: left;\">Tuple…</th></tr></thead><tbody><tr><td class = \"rowNumber\" style = \"font-weight: bold; text-align: right;\">1</td><td style = \"text-align: left;\">(1, 1)</td><td style = \"text-align: left;\">(1, 3)</td><td style = \"text-align: left;\">(1, 5)</td></tr><tr><td class = \"rowNumber\" style = \"font-weight: bold; text-align: right;\">2</td><td style = \"text-align: left;\">(2, 1)</td><td style = \"text-align: left;\">(2, 3)</td><td style = \"text-align: left;\">(2, 5)</td></tr><tr><td class = \"rowNumber\" style = \"font-weight: bold; text-align: right;\">3</td><td style = \"text-align: left;\">(3, 1)</td><td style = \"text-align: left;\">(3, 3)</td><td style = \"text-align: left;\">(3, 5)</td></tr></tbody></table></div>"
      ],
      "text/latex": [
       "\\begin{tabular}{r|ccc}\n",
       "\t& x1 & x3 & x5\\\\\n",
       "\t\\hline\n",
       "\t& Tuple… & Tuple… & Tuple…\\\\\n",
       "\t\\hline\n",
       "\t1 & (1, 1) & (1, 3) & (1, 5) \\\\\n",
       "\t2 & (2, 1) & (2, 3) & (2, 5) \\\\\n",
       "\t3 & (3, 1) & (3, 3) & (3, 5) \\\\\n",
       "\\end{tabular}\n"
      ],
      "text/plain": [
       "\u001b[1m3×3 DataFrame\u001b[0m\n",
       "\u001b[1m Row \u001b[0m│\u001b[1m x1     \u001b[0m\u001b[1m x3     \u001b[0m\u001b[1m x5     \u001b[0m\n",
       "     │\u001b[90m Tuple… \u001b[0m\u001b[90m Tuple… \u001b[0m\u001b[90m Tuple… \u001b[0m\n",
       "─────┼────────────────────────\n",
       "   1 │ (1, 1)  (1, 3)  (1, 5)\n",
       "   2 │ (2, 1)  (2, 3)  (2, 5)\n",
       "   3 │ (3, 1)  (3, 3)  (3, 5)"
      ]
     },
     "execution_count": 36,
     "metadata": {},
     "output_type": "execute_result"
    }
   ],
   "source": [
    "x[:, [true, false, true, false, true]]"
   ]
  },
  {
   "cell_type": "markdown",
   "metadata": {},
   "source": [
    "Here we create a single column `DataFrame`,"
   ]
  },
  {
   "cell_type": "code",
   "execution_count": 37,
   "metadata": {},
   "outputs": [
    {
     "data": {
      "text/html": [
       "<div><div style = \"float: left;\"><span>3×1 DataFrame</span></div><div style = \"clear: both;\"></div></div><div class = \"data-frame\" style = \"overflow-x: scroll;\"><table class = \"data-frame\" style = \"margin-bottom: 6px;\"><thead><tr class = \"header\"><th class = \"rowNumber\" style = \"font-weight: bold; text-align: right;\">Row</th><th style = \"text-align: left;\">x1</th></tr><tr class = \"subheader headerLastRow\"><th class = \"rowNumber\" style = \"font-weight: bold; text-align: right;\"></th><th title = \"Tuple{Int64, Int64}\" style = \"text-align: left;\">Tuple…</th></tr></thead><tbody><tr><td class = \"rowNumber\" style = \"font-weight: bold; text-align: right;\">1</td><td style = \"text-align: left;\">(1, 1)</td></tr><tr><td class = \"rowNumber\" style = \"font-weight: bold; text-align: right;\">2</td><td style = \"text-align: left;\">(2, 1)</td></tr><tr><td class = \"rowNumber\" style = \"font-weight: bold; text-align: right;\">3</td><td style = \"text-align: left;\">(3, 1)</td></tr></tbody></table></div>"
      ],
      "text/latex": [
       "\\begin{tabular}{r|c}\n",
       "\t& x1\\\\\n",
       "\t\\hline\n",
       "\t& Tuple…\\\\\n",
       "\t\\hline\n",
       "\t1 & (1, 1) \\\\\n",
       "\t2 & (2, 1) \\\\\n",
       "\t3 & (3, 1) \\\\\n",
       "\\end{tabular}\n"
      ],
      "text/plain": [
       "\u001b[1m3×1 DataFrame\u001b[0m\n",
       "\u001b[1m Row \u001b[0m│\u001b[1m x1     \u001b[0m\n",
       "     │\u001b[90m Tuple… \u001b[0m\n",
       "─────┼────────\n",
       "   1 │ (1, 1)\n",
       "   2 │ (2, 1)\n",
       "   3 │ (3, 1)"
      ]
     },
     "execution_count": 37,
     "metadata": {},
     "output_type": "execute_result"
    }
   ],
   "source": [
    "x[:, [:x1]]"
   ]
  },
  {
   "cell_type": "markdown",
   "metadata": {},
   "source": [
    "and here we access the vector contained in column `:x1`."
   ]
  },
  {
   "cell_type": "code",
   "execution_count": 38,
   "metadata": {},
   "outputs": [
    {
     "data": {
      "text/plain": [
       "3-element Vector{Tuple{Int64, Int64}}:\n",
       " (1, 1)\n",
       " (2, 1)\n",
       " (3, 1)"
      ]
     },
     "execution_count": 38,
     "metadata": {},
     "output_type": "execute_result"
    }
   ],
   "source": [
    "x[!, :x1] # use : instead of ! to copy"
   ]
  },
  {
   "cell_type": "code",
   "execution_count": 39,
   "metadata": {},
   "outputs": [
    {
     "data": {
      "text/plain": [
       "3-element Vector{Tuple{Int64, Int64}}:\n",
       " (1, 1)\n",
       " (2, 1)\n",
       " (3, 1)"
      ]
     },
     "execution_count": 39,
     "metadata": {},
     "output_type": "execute_result"
    }
   ],
   "source": [
    "x.x1 # the same"
   ]
  },
  {
   "cell_type": "markdown",
   "metadata": {},
   "source": [
    "We could grab the same vector by column number"
   ]
  },
  {
   "cell_type": "code",
   "execution_count": 40,
   "metadata": {},
   "outputs": [
    {
     "data": {
      "text/plain": [
       "3-element Vector{Tuple{Int64, Int64}}:\n",
       " (1, 1)\n",
       " (2, 1)\n",
       " (3, 1)"
      ]
     },
     "execution_count": 40,
     "metadata": {},
     "output_type": "execute_result"
    }
   ],
   "source": [
    "x[!, 1]"
   ]
  },
  {
   "cell_type": "markdown",
   "metadata": {},
   "source": [
    "Note that getting a single column returns it without copying while creating a new `DataFrame` performs a copy of the column"
   ]
  },
  {
   "cell_type": "code",
   "execution_count": 41,
   "metadata": {},
   "outputs": [
    {
     "data": {
      "text/plain": [
       "false"
      ]
     },
     "execution_count": 41,
     "metadata": {},
     "output_type": "execute_result"
    }
   ],
   "source": [
    "x[!, 1] === x[!, [1]]"
   ]
  },
  {
   "cell_type": "markdown",
   "metadata": {},
   "source": [
    "you can also use `Regex`, `Cols`, `All`, `Between` and `Not` from InvertedIndies.jl for column selection:"
   ]
  },
  {
   "cell_type": "code",
   "execution_count": 42,
   "metadata": {},
   "outputs": [
    {
     "data": {
      "text/html": [
       "<div><div style = \"float: left;\"><span>3×2 DataFrame</span></div><div style = \"clear: both;\"></div></div><div class = \"data-frame\" style = \"overflow-x: scroll;\"><table class = \"data-frame\" style = \"margin-bottom: 6px;\"><thead><tr class = \"header\"><th class = \"rowNumber\" style = \"font-weight: bold; text-align: right;\">Row</th><th style = \"text-align: left;\">x1</th><th style = \"text-align: left;\">x2</th></tr><tr class = \"subheader headerLastRow\"><th class = \"rowNumber\" style = \"font-weight: bold; text-align: right;\"></th><th title = \"Tuple{Int64, Int64}\" style = \"text-align: left;\">Tuple…</th><th title = \"Tuple{Int64, Int64}\" style = \"text-align: left;\">Tuple…</th></tr></thead><tbody><tr><td class = \"rowNumber\" style = \"font-weight: bold; text-align: right;\">1</td><td style = \"text-align: left;\">(1, 1)</td><td style = \"text-align: left;\">(1, 2)</td></tr><tr><td class = \"rowNumber\" style = \"font-weight: bold; text-align: right;\">2</td><td style = \"text-align: left;\">(2, 1)</td><td style = \"text-align: left;\">(2, 2)</td></tr><tr><td class = \"rowNumber\" style = \"font-weight: bold; text-align: right;\">3</td><td style = \"text-align: left;\">(3, 1)</td><td style = \"text-align: left;\">(3, 2)</td></tr></tbody></table></div>"
      ],
      "text/latex": [
       "\\begin{tabular}{r|cc}\n",
       "\t& x1 & x2\\\\\n",
       "\t\\hline\n",
       "\t& Tuple… & Tuple…\\\\\n",
       "\t\\hline\n",
       "\t1 & (1, 1) & (1, 2) \\\\\n",
       "\t2 & (2, 1) & (2, 2) \\\\\n",
       "\t3 & (3, 1) & (3, 2) \\\\\n",
       "\\end{tabular}\n"
      ],
      "text/plain": [
       "\u001b[1m3×2 DataFrame\u001b[0m\n",
       "\u001b[1m Row \u001b[0m│\u001b[1m x1     \u001b[0m\u001b[1m x2     \u001b[0m\n",
       "     │\u001b[90m Tuple… \u001b[0m\u001b[90m Tuple… \u001b[0m\n",
       "─────┼────────────────\n",
       "   1 │ (1, 1)  (1, 2)\n",
       "   2 │ (2, 1)  (2, 2)\n",
       "   3 │ (3, 1)  (3, 2)"
      ]
     },
     "execution_count": 42,
     "metadata": {},
     "output_type": "execute_result"
    }
   ],
   "source": [
    "x[!, r\"[12]\"]"
   ]
  },
  {
   "cell_type": "code",
   "execution_count": 43,
   "metadata": {},
   "outputs": [
    {
     "data": {
      "text/html": [
       "<div><div style = \"float: left;\"><span>3×4 DataFrame</span></div><div style = \"clear: both;\"></div></div><div class = \"data-frame\" style = \"overflow-x: scroll;\"><table class = \"data-frame\" style = \"margin-bottom: 6px;\"><thead><tr class = \"header\"><th class = \"rowNumber\" style = \"font-weight: bold; text-align: right;\">Row</th><th style = \"text-align: left;\">x2</th><th style = \"text-align: left;\">x3</th><th style = \"text-align: left;\">x4</th><th style = \"text-align: left;\">x5</th></tr><tr class = \"subheader headerLastRow\"><th class = \"rowNumber\" style = \"font-weight: bold; text-align: right;\"></th><th title = \"Tuple{Int64, Int64}\" style = \"text-align: left;\">Tuple…</th><th title = \"Tuple{Int64, Int64}\" style = \"text-align: left;\">Tuple…</th><th title = \"Tuple{Int64, Int64}\" style = \"text-align: left;\">Tuple…</th><th title = \"Tuple{Int64, Int64}\" style = \"text-align: left;\">Tuple…</th></tr></thead><tbody><tr><td class = \"rowNumber\" style = \"font-weight: bold; text-align: right;\">1</td><td style = \"text-align: left;\">(1, 2)</td><td style = \"text-align: left;\">(1, 3)</td><td style = \"text-align: left;\">(1, 4)</td><td style = \"text-align: left;\">(1, 5)</td></tr><tr><td class = \"rowNumber\" style = \"font-weight: bold; text-align: right;\">2</td><td style = \"text-align: left;\">(2, 2)</td><td style = \"text-align: left;\">(2, 3)</td><td style = \"text-align: left;\">(2, 4)</td><td style = \"text-align: left;\">(2, 5)</td></tr><tr><td class = \"rowNumber\" style = \"font-weight: bold; text-align: right;\">3</td><td style = \"text-align: left;\">(3, 2)</td><td style = \"text-align: left;\">(3, 3)</td><td style = \"text-align: left;\">(3, 4)</td><td style = \"text-align: left;\">(3, 5)</td></tr></tbody></table></div>"
      ],
      "text/latex": [
       "\\begin{tabular}{r|cccc}\n",
       "\t& x2 & x3 & x4 & x5\\\\\n",
       "\t\\hline\n",
       "\t& Tuple… & Tuple… & Tuple… & Tuple…\\\\\n",
       "\t\\hline\n",
       "\t1 & (1, 2) & (1, 3) & (1, 4) & (1, 5) \\\\\n",
       "\t2 & (2, 2) & (2, 3) & (2, 4) & (2, 5) \\\\\n",
       "\t3 & (3, 2) & (3, 3) & (3, 4) & (3, 5) \\\\\n",
       "\\end{tabular}\n"
      ],
      "text/plain": [
       "\u001b[1m3×4 DataFrame\u001b[0m\n",
       "\u001b[1m Row \u001b[0m│\u001b[1m x2     \u001b[0m\u001b[1m x3     \u001b[0m\u001b[1m x4     \u001b[0m\u001b[1m x5     \u001b[0m\n",
       "     │\u001b[90m Tuple… \u001b[0m\u001b[90m Tuple… \u001b[0m\u001b[90m Tuple… \u001b[0m\u001b[90m Tuple… \u001b[0m\n",
       "─────┼────────────────────────────────\n",
       "   1 │ (1, 2)  (1, 3)  (1, 4)  (1, 5)\n",
       "   2 │ (2, 2)  (2, 3)  (2, 4)  (2, 5)\n",
       "   3 │ (3, 2)  (3, 3)  (3, 4)  (3, 5)"
      ]
     },
     "execution_count": 43,
     "metadata": {},
     "output_type": "execute_result"
    }
   ],
   "source": [
    "x[!, Not(1)]"
   ]
  },
  {
   "cell_type": "code",
   "execution_count": 44,
   "metadata": {},
   "outputs": [
    {
     "data": {
      "text/html": [
       "<div><div style = \"float: left;\"><span>3×3 DataFrame</span></div><div style = \"clear: both;\"></div></div><div class = \"data-frame\" style = \"overflow-x: scroll;\"><table class = \"data-frame\" style = \"margin-bottom: 6px;\"><thead><tr class = \"header\"><th class = \"rowNumber\" style = \"font-weight: bold; text-align: right;\">Row</th><th style = \"text-align: left;\">x2</th><th style = \"text-align: left;\">x3</th><th style = \"text-align: left;\">x4</th></tr><tr class = \"subheader headerLastRow\"><th class = \"rowNumber\" style = \"font-weight: bold; text-align: right;\"></th><th title = \"Tuple{Int64, Int64}\" style = \"text-align: left;\">Tuple…</th><th title = \"Tuple{Int64, Int64}\" style = \"text-align: left;\">Tuple…</th><th title = \"Tuple{Int64, Int64}\" style = \"text-align: left;\">Tuple…</th></tr></thead><tbody><tr><td class = \"rowNumber\" style = \"font-weight: bold; text-align: right;\">1</td><td style = \"text-align: left;\">(1, 2)</td><td style = \"text-align: left;\">(1, 3)</td><td style = \"text-align: left;\">(1, 4)</td></tr><tr><td class = \"rowNumber\" style = \"font-weight: bold; text-align: right;\">2</td><td style = \"text-align: left;\">(2, 2)</td><td style = \"text-align: left;\">(2, 3)</td><td style = \"text-align: left;\">(2, 4)</td></tr><tr><td class = \"rowNumber\" style = \"font-weight: bold; text-align: right;\">3</td><td style = \"text-align: left;\">(3, 2)</td><td style = \"text-align: left;\">(3, 3)</td><td style = \"text-align: left;\">(3, 4)</td></tr></tbody></table></div>"
      ],
      "text/latex": [
       "\\begin{tabular}{r|ccc}\n",
       "\t& x2 & x3 & x4\\\\\n",
       "\t\\hline\n",
       "\t& Tuple… & Tuple… & Tuple…\\\\\n",
       "\t\\hline\n",
       "\t1 & (1, 2) & (1, 3) & (1, 4) \\\\\n",
       "\t2 & (2, 2) & (2, 3) & (2, 4) \\\\\n",
       "\t3 & (3, 2) & (3, 3) & (3, 4) \\\\\n",
       "\\end{tabular}\n"
      ],
      "text/plain": [
       "\u001b[1m3×3 DataFrame\u001b[0m\n",
       "\u001b[1m Row \u001b[0m│\u001b[1m x2     \u001b[0m\u001b[1m x3     \u001b[0m\u001b[1m x4     \u001b[0m\n",
       "     │\u001b[90m Tuple… \u001b[0m\u001b[90m Tuple… \u001b[0m\u001b[90m Tuple… \u001b[0m\n",
       "─────┼────────────────────────\n",
       "   1 │ (1, 2)  (1, 3)  (1, 4)\n",
       "   2 │ (2, 2)  (2, 3)  (2, 4)\n",
       "   3 │ (3, 2)  (3, 3)  (3, 4)"
      ]
     },
     "execution_count": 44,
     "metadata": {},
     "output_type": "execute_result"
    }
   ],
   "source": [
    "x[!, Between(:x2, :x4)]"
   ]
  },
  {
   "cell_type": "code",
   "execution_count": 45,
   "metadata": {},
   "outputs": [
    {
     "data": {
      "text/html": [
       "<div><div style = \"float: left;\"><span>3×4 DataFrame</span></div><div style = \"clear: both;\"></div></div><div class = \"data-frame\" style = \"overflow-x: scroll;\"><table class = \"data-frame\" style = \"margin-bottom: 6px;\"><thead><tr class = \"header\"><th class = \"rowNumber\" style = \"font-weight: bold; text-align: right;\">Row</th><th style = \"text-align: left;\">x1</th><th style = \"text-align: left;\">x3</th><th style = \"text-align: left;\">x4</th><th style = \"text-align: left;\">x5</th></tr><tr class = \"subheader headerLastRow\"><th class = \"rowNumber\" style = \"font-weight: bold; text-align: right;\"></th><th title = \"Tuple{Int64, Int64}\" style = \"text-align: left;\">Tuple…</th><th title = \"Tuple{Int64, Int64}\" style = \"text-align: left;\">Tuple…</th><th title = \"Tuple{Int64, Int64}\" style = \"text-align: left;\">Tuple…</th><th title = \"Tuple{Int64, Int64}\" style = \"text-align: left;\">Tuple…</th></tr></thead><tbody><tr><td class = \"rowNumber\" style = \"font-weight: bold; text-align: right;\">1</td><td style = \"text-align: left;\">(1, 1)</td><td style = \"text-align: left;\">(1, 3)</td><td style = \"text-align: left;\">(1, 4)</td><td style = \"text-align: left;\">(1, 5)</td></tr><tr><td class = \"rowNumber\" style = \"font-weight: bold; text-align: right;\">2</td><td style = \"text-align: left;\">(2, 1)</td><td style = \"text-align: left;\">(2, 3)</td><td style = \"text-align: left;\">(2, 4)</td><td style = \"text-align: left;\">(2, 5)</td></tr><tr><td class = \"rowNumber\" style = \"font-weight: bold; text-align: right;\">3</td><td style = \"text-align: left;\">(3, 1)</td><td style = \"text-align: left;\">(3, 3)</td><td style = \"text-align: left;\">(3, 4)</td><td style = \"text-align: left;\">(3, 5)</td></tr></tbody></table></div>"
      ],
      "text/latex": [
       "\\begin{tabular}{r|cccc}\n",
       "\t& x1 & x3 & x4 & x5\\\\\n",
       "\t\\hline\n",
       "\t& Tuple… & Tuple… & Tuple… & Tuple…\\\\\n",
       "\t\\hline\n",
       "\t1 & (1, 1) & (1, 3) & (1, 4) & (1, 5) \\\\\n",
       "\t2 & (2, 1) & (2, 3) & (2, 4) & (2, 5) \\\\\n",
       "\t3 & (3, 1) & (3, 3) & (3, 4) & (3, 5) \\\\\n",
       "\\end{tabular}\n"
      ],
      "text/plain": [
       "\u001b[1m3×4 DataFrame\u001b[0m\n",
       "\u001b[1m Row \u001b[0m│\u001b[1m x1     \u001b[0m\u001b[1m x3     \u001b[0m\u001b[1m x4     \u001b[0m\u001b[1m x5     \u001b[0m\n",
       "     │\u001b[90m Tuple… \u001b[0m\u001b[90m Tuple… \u001b[0m\u001b[90m Tuple… \u001b[0m\u001b[90m Tuple… \u001b[0m\n",
       "─────┼────────────────────────────────\n",
       "   1 │ (1, 1)  (1, 3)  (1, 4)  (1, 5)\n",
       "   2 │ (2, 1)  (2, 3)  (2, 4)  (2, 5)\n",
       "   3 │ (3, 1)  (3, 3)  (3, 4)  (3, 5)"
      ]
     },
     "execution_count": 45,
     "metadata": {},
     "output_type": "execute_result"
    }
   ],
   "source": [
    "x[!, Cols(:x1, Between(:x3, :x5))]"
   ]
  },
  {
   "cell_type": "code",
   "execution_count": 46,
   "metadata": {},
   "outputs": [
    {
     "data": {
      "text/html": [
       "<div><div style = \"float: left;\"><span>3×2 DataFrame</span></div><div style = \"clear: both;\"></div></div><div class = \"data-frame\" style = \"overflow-x: scroll;\"><table class = \"data-frame\" style = \"margin-bottom: 6px;\"><thead><tr class = \"header\"><th class = \"rowNumber\" style = \"font-weight: bold; text-align: right;\">Row</th><th style = \"text-align: left;\">x3</th><th style = \"text-align: left;\">x5</th></tr><tr class = \"subheader headerLastRow\"><th class = \"rowNumber\" style = \"font-weight: bold; text-align: right;\"></th><th title = \"Tuple{Int64, Int64}\" style = \"text-align: left;\">Tuple…</th><th title = \"Tuple{Int64, Int64}\" style = \"text-align: left;\">Tuple…</th></tr></thead><tbody><tr><td class = \"rowNumber\" style = \"font-weight: bold; text-align: right;\">1</td><td style = \"text-align: left;\">(1, 3)</td><td style = \"text-align: left;\">(1, 5)</td></tr><tr><td class = \"rowNumber\" style = \"font-weight: bold; text-align: right;\">2</td><td style = \"text-align: left;\">(2, 3)</td><td style = \"text-align: left;\">(2, 5)</td></tr><tr><td class = \"rowNumber\" style = \"font-weight: bold; text-align: right;\">3</td><td style = \"text-align: left;\">(3, 3)</td><td style = \"text-align: left;\">(3, 5)</td></tr></tbody></table></div>"
      ],
      "text/latex": [
       "\\begin{tabular}{r|cc}\n",
       "\t& x3 & x5\\\\\n",
       "\t\\hline\n",
       "\t& Tuple… & Tuple…\\\\\n",
       "\t\\hline\n",
       "\t1 & (1, 3) & (1, 5) \\\\\n",
       "\t2 & (2, 3) & (2, 5) \\\\\n",
       "\t3 & (3, 3) & (3, 5) \\\\\n",
       "\\end{tabular}\n"
      ],
      "text/plain": [
       "\u001b[1m3×2 DataFrame\u001b[0m\n",
       "\u001b[1m Row \u001b[0m│\u001b[1m x3     \u001b[0m\u001b[1m x5     \u001b[0m\n",
       "     │\u001b[90m Tuple… \u001b[0m\u001b[90m Tuple… \u001b[0m\n",
       "─────┼────────────────\n",
       "   1 │ (1, 3)  (1, 5)\n",
       "   2 │ (2, 3)  (2, 5)\n",
       "   3 │ (3, 3)  (3, 5)"
      ]
     },
     "execution_count": 46,
     "metadata": {},
     "output_type": "execute_result"
    }
   ],
   "source": [
    "x[!, Cols(Between(:x3, :x5), :x4, operator=setdiff)]"
   ]
  },
  {
   "cell_type": "code",
   "execution_count": 47,
   "metadata": {},
   "outputs": [
    {
     "data": {
      "text/html": [
       "<div><div style = \"float: left;\"><span>3×4 DataFrame</span></div><div style = \"clear: both;\"></div></div><div class = \"data-frame\" style = \"overflow-x: scroll;\"><table class = \"data-frame\" style = \"margin-bottom: 6px;\"><thead><tr class = \"header\"><th class = \"rowNumber\" style = \"font-weight: bold; text-align: right;\">Row</th><th style = \"text-align: left;\">x1</th><th style = \"text-align: left;\">x3</th><th style = \"text-align: left;\">x4</th><th style = \"text-align: left;\">x5</th></tr><tr class = \"subheader headerLastRow\"><th class = \"rowNumber\" style = \"font-weight: bold; text-align: right;\"></th><th title = \"Tuple{Int64, Int64}\" style = \"text-align: left;\">Tuple…</th><th title = \"Tuple{Int64, Int64}\" style = \"text-align: left;\">Tuple…</th><th title = \"Tuple{Int64, Int64}\" style = \"text-align: left;\">Tuple…</th><th title = \"Tuple{Int64, Int64}\" style = \"text-align: left;\">Tuple…</th></tr></thead><tbody><tr><td class = \"rowNumber\" style = \"font-weight: bold; text-align: right;\">1</td><td style = \"text-align: left;\">(1, 1)</td><td style = \"text-align: left;\">(1, 3)</td><td style = \"text-align: left;\">(1, 4)</td><td style = \"text-align: left;\">(1, 5)</td></tr><tr><td class = \"rowNumber\" style = \"font-weight: bold; text-align: right;\">2</td><td style = \"text-align: left;\">(2, 1)</td><td style = \"text-align: left;\">(2, 3)</td><td style = \"text-align: left;\">(2, 4)</td><td style = \"text-align: left;\">(2, 5)</td></tr><tr><td class = \"rowNumber\" style = \"font-weight: bold; text-align: right;\">3</td><td style = \"text-align: left;\">(3, 1)</td><td style = \"text-align: left;\">(3, 3)</td><td style = \"text-align: left;\">(3, 4)</td><td style = \"text-align: left;\">(3, 5)</td></tr></tbody></table></div>"
      ],
      "text/latex": [
       "\\begin{tabular}{r|cccc}\n",
       "\t& x1 & x3 & x4 & x5\\\\\n",
       "\t\\hline\n",
       "\t& Tuple… & Tuple… & Tuple… & Tuple…\\\\\n",
       "\t\\hline\n",
       "\t1 & (1, 1) & (1, 3) & (1, 4) & (1, 5) \\\\\n",
       "\t2 & (2, 1) & (2, 3) & (2, 4) & (2, 5) \\\\\n",
       "\t3 & (3, 1) & (3, 3) & (3, 4) & (3, 5) \\\\\n",
       "\\end{tabular}\n"
      ],
      "text/plain": [
       "\u001b[1m3×4 DataFrame\u001b[0m\n",
       "\u001b[1m Row \u001b[0m│\u001b[1m x1     \u001b[0m\u001b[1m x3     \u001b[0m\u001b[1m x4     \u001b[0m\u001b[1m x5     \u001b[0m\n",
       "     │\u001b[90m Tuple… \u001b[0m\u001b[90m Tuple… \u001b[0m\u001b[90m Tuple… \u001b[0m\u001b[90m Tuple… \u001b[0m\n",
       "─────┼────────────────────────────────\n",
       "   1 │ (1, 1)  (1, 3)  (1, 4)  (1, 5)\n",
       "   2 │ (2, 1)  (2, 3)  (2, 4)  (2, 5)\n",
       "   3 │ (3, 1)  (3, 3)  (3, 4)  (3, 5)"
      ]
     },
     "execution_count": 47,
     "metadata": {},
     "output_type": "execute_result"
    }
   ],
   "source": [
    "select(x, :x1, Between(:x3, :x5), copycols=false)"
   ]
  },
  {
   "cell_type": "markdown",
   "metadata": {},
   "source": [
    "you can use `select` and `select!` functions to select a subset of columns from a data frame. `select` creates a new data frame and `select!` operates in place"
   ]
  },
  {
   "cell_type": "code",
   "execution_count": 48,
   "metadata": {},
   "outputs": [
    {
     "data": {
      "text/html": [
       "<div><div style = \"float: left;\"><span>3×5 DataFrame</span></div><div style = \"clear: both;\"></div></div><div class = \"data-frame\" style = \"overflow-x: scroll;\"><table class = \"data-frame\" style = \"margin-bottom: 6px;\"><thead><tr class = \"header\"><th class = \"rowNumber\" style = \"font-weight: bold; text-align: right;\">Row</th><th style = \"text-align: left;\">x1</th><th style = \"text-align: left;\">x2</th><th style = \"text-align: left;\">x3</th><th style = \"text-align: left;\">x4</th><th style = \"text-align: left;\">x5</th></tr><tr class = \"subheader headerLastRow\"><th class = \"rowNumber\" style = \"font-weight: bold; text-align: right;\"></th><th title = \"Tuple{Int64, Int64}\" style = \"text-align: left;\">Tuple…</th><th title = \"Tuple{Int64, Int64}\" style = \"text-align: left;\">Tuple…</th><th title = \"Tuple{Int64, Int64}\" style = \"text-align: left;\">Tuple…</th><th title = \"Tuple{Int64, Int64}\" style = \"text-align: left;\">Tuple…</th><th title = \"Tuple{Int64, Int64}\" style = \"text-align: left;\">Tuple…</th></tr></thead><tbody><tr><td class = \"rowNumber\" style = \"font-weight: bold; text-align: right;\">1</td><td style = \"text-align: left;\">(1, 1)</td><td style = \"text-align: left;\">(1, 2)</td><td style = \"text-align: left;\">(1, 3)</td><td style = \"text-align: left;\">(1, 4)</td><td style = \"text-align: left;\">(1, 5)</td></tr><tr><td class = \"rowNumber\" style = \"font-weight: bold; text-align: right;\">2</td><td style = \"text-align: left;\">(2, 1)</td><td style = \"text-align: left;\">(2, 2)</td><td style = \"text-align: left;\">(2, 3)</td><td style = \"text-align: left;\">(2, 4)</td><td style = \"text-align: left;\">(2, 5)</td></tr><tr><td class = \"rowNumber\" style = \"font-weight: bold; text-align: right;\">3</td><td style = \"text-align: left;\">(3, 1)</td><td style = \"text-align: left;\">(3, 2)</td><td style = \"text-align: left;\">(3, 3)</td><td style = \"text-align: left;\">(3, 4)</td><td style = \"text-align: left;\">(3, 5)</td></tr></tbody></table></div>"
      ],
      "text/latex": [
       "\\begin{tabular}{r|ccccc}\n",
       "\t& x1 & x2 & x3 & x4 & x5\\\\\n",
       "\t\\hline\n",
       "\t& Tuple… & Tuple… & Tuple… & Tuple… & Tuple…\\\\\n",
       "\t\\hline\n",
       "\t1 & (1, 1) & (1, 2) & (1, 3) & (1, 4) & (1, 5) \\\\\n",
       "\t2 & (2, 1) & (2, 2) & (2, 3) & (2, 4) & (2, 5) \\\\\n",
       "\t3 & (3, 1) & (3, 2) & (3, 3) & (3, 4) & (3, 5) \\\\\n",
       "\\end{tabular}\n"
      ],
      "text/plain": [
       "\u001b[1m3×5 DataFrame\u001b[0m\n",
       "\u001b[1m Row \u001b[0m│\u001b[1m x1     \u001b[0m\u001b[1m x2     \u001b[0m\u001b[1m x3     \u001b[0m\u001b[1m x4     \u001b[0m\u001b[1m x5     \u001b[0m\n",
       "     │\u001b[90m Tuple… \u001b[0m\u001b[90m Tuple… \u001b[0m\u001b[90m Tuple… \u001b[0m\u001b[90m Tuple… \u001b[0m\u001b[90m Tuple… \u001b[0m\n",
       "─────┼────────────────────────────────────────\n",
       "   1 │ (1, 1)  (1, 2)  (1, 3)  (1, 4)  (1, 5)\n",
       "   2 │ (2, 1)  (2, 2)  (2, 3)  (2, 4)  (2, 5)\n",
       "   3 │ (3, 1)  (3, 2)  (3, 3)  (3, 4)  (3, 5)"
      ]
     },
     "execution_count": 48,
     "metadata": {},
     "output_type": "execute_result"
    }
   ],
   "source": [
    "df = copy(x)"
   ]
  },
  {
   "cell_type": "code",
   "execution_count": 49,
   "metadata": {},
   "outputs": [
    {
     "data": {
      "text/html": [
       "<div><div style = \"float: left;\"><span>3×2 DataFrame</span></div><div style = \"clear: both;\"></div></div><div class = \"data-frame\" style = \"overflow-x: scroll;\"><table class = \"data-frame\" style = \"margin-bottom: 6px;\"><thead><tr class = \"header\"><th class = \"rowNumber\" style = \"font-weight: bold; text-align: right;\">Row</th><th style = \"text-align: left;\">x1</th><th style = \"text-align: left;\">x2</th></tr><tr class = \"subheader headerLastRow\"><th class = \"rowNumber\" style = \"font-weight: bold; text-align: right;\"></th><th title = \"Tuple{Int64, Int64}\" style = \"text-align: left;\">Tuple…</th><th title = \"Tuple{Int64, Int64}\" style = \"text-align: left;\">Tuple…</th></tr></thead><tbody><tr><td class = \"rowNumber\" style = \"font-weight: bold; text-align: right;\">1</td><td style = \"text-align: left;\">(1, 1)</td><td style = \"text-align: left;\">(1, 2)</td></tr><tr><td class = \"rowNumber\" style = \"font-weight: bold; text-align: right;\">2</td><td style = \"text-align: left;\">(2, 1)</td><td style = \"text-align: left;\">(2, 2)</td></tr><tr><td class = \"rowNumber\" style = \"font-weight: bold; text-align: right;\">3</td><td style = \"text-align: left;\">(3, 1)</td><td style = \"text-align: left;\">(3, 2)</td></tr></tbody></table></div>"
      ],
      "text/latex": [
       "\\begin{tabular}{r|cc}\n",
       "\t& x1 & x2\\\\\n",
       "\t\\hline\n",
       "\t& Tuple… & Tuple…\\\\\n",
       "\t\\hline\n",
       "\t1 & (1, 1) & (1, 2) \\\\\n",
       "\t2 & (2, 1) & (2, 2) \\\\\n",
       "\t3 & (3, 1) & (3, 2) \\\\\n",
       "\\end{tabular}\n"
      ],
      "text/plain": [
       "\u001b[1m3×2 DataFrame\u001b[0m\n",
       "\u001b[1m Row \u001b[0m│\u001b[1m x1     \u001b[0m\u001b[1m x2     \u001b[0m\n",
       "     │\u001b[90m Tuple… \u001b[0m\u001b[90m Tuple… \u001b[0m\n",
       "─────┼────────────────\n",
       "   1 │ (1, 1)  (1, 2)\n",
       "   2 │ (2, 1)  (2, 2)\n",
       "   3 │ (3, 1)  (3, 2)"
      ]
     },
     "execution_count": 49,
     "metadata": {},
     "output_type": "execute_result"
    }
   ],
   "source": [
    "df2 = select(df, [1, 2])"
   ]
  },
  {
   "cell_type": "code",
   "execution_count": 50,
   "metadata": {},
   "outputs": [
    {
     "data": {
      "text/html": [
       "<div><div style = \"float: left;\"><span>3×3 DataFrame</span></div><div style = \"clear: both;\"></div></div><div class = \"data-frame\" style = \"overflow-x: scroll;\"><table class = \"data-frame\" style = \"margin-bottom: 6px;\"><thead><tr class = \"header\"><th class = \"rowNumber\" style = \"font-weight: bold; text-align: right;\">Row</th><th style = \"text-align: left;\">x3</th><th style = \"text-align: left;\">x4</th><th style = \"text-align: left;\">x5</th></tr><tr class = \"subheader headerLastRow\"><th class = \"rowNumber\" style = \"font-weight: bold; text-align: right;\"></th><th title = \"Tuple{Int64, Int64}\" style = \"text-align: left;\">Tuple…</th><th title = \"Tuple{Int64, Int64}\" style = \"text-align: left;\">Tuple…</th><th title = \"Tuple{Int64, Int64}\" style = \"text-align: left;\">Tuple…</th></tr></thead><tbody><tr><td class = \"rowNumber\" style = \"font-weight: bold; text-align: right;\">1</td><td style = \"text-align: left;\">(1, 3)</td><td style = \"text-align: left;\">(1, 4)</td><td style = \"text-align: left;\">(1, 5)</td></tr><tr><td class = \"rowNumber\" style = \"font-weight: bold; text-align: right;\">2</td><td style = \"text-align: left;\">(2, 3)</td><td style = \"text-align: left;\">(2, 4)</td><td style = \"text-align: left;\">(2, 5)</td></tr><tr><td class = \"rowNumber\" style = \"font-weight: bold; text-align: right;\">3</td><td style = \"text-align: left;\">(3, 3)</td><td style = \"text-align: left;\">(3, 4)</td><td style = \"text-align: left;\">(3, 5)</td></tr></tbody></table></div>"
      ],
      "text/latex": [
       "\\begin{tabular}{r|ccc}\n",
       "\t& x3 & x4 & x5\\\\\n",
       "\t\\hline\n",
       "\t& Tuple… & Tuple… & Tuple…\\\\\n",
       "\t\\hline\n",
       "\t1 & (1, 3) & (1, 4) & (1, 5) \\\\\n",
       "\t2 & (2, 3) & (2, 4) & (2, 5) \\\\\n",
       "\t3 & (3, 3) & (3, 4) & (3, 5) \\\\\n",
       "\\end{tabular}\n"
      ],
      "text/plain": [
       "\u001b[1m3×3 DataFrame\u001b[0m\n",
       "\u001b[1m Row \u001b[0m│\u001b[1m x3     \u001b[0m\u001b[1m x4     \u001b[0m\u001b[1m x5     \u001b[0m\n",
       "     │\u001b[90m Tuple… \u001b[0m\u001b[90m Tuple… \u001b[0m\u001b[90m Tuple… \u001b[0m\n",
       "─────┼────────────────────────\n",
       "   1 │ (1, 3)  (1, 4)  (1, 5)\n",
       "   2 │ (2, 3)  (2, 4)  (2, 5)\n",
       "   3 │ (3, 3)  (3, 4)  (3, 5)"
      ]
     },
     "execution_count": 50,
     "metadata": {},
     "output_type": "execute_result"
    }
   ],
   "source": [
    "select(df, Not([1, 2]))"
   ]
  },
  {
   "cell_type": "markdown",
   "metadata": {},
   "source": [
    "by default `select` copies columns"
   ]
  },
  {
   "cell_type": "code",
   "execution_count": 51,
   "metadata": {},
   "outputs": [
    {
     "data": {
      "text/plain": [
       "false"
      ]
     },
     "execution_count": 51,
     "metadata": {},
     "output_type": "execute_result"
    }
   ],
   "source": [
    "df2[!, 1] === df[!, 1]"
   ]
  },
  {
   "cell_type": "markdown",
   "metadata": {},
   "source": [
    "this can be avoided by using `copycols=false` keyword argument"
   ]
  },
  {
   "cell_type": "code",
   "execution_count": 52,
   "metadata": {},
   "outputs": [
    {
     "data": {
      "text/html": [
       "<div><div style = \"float: left;\"><span>3×2 DataFrame</span></div><div style = \"clear: both;\"></div></div><div class = \"data-frame\" style = \"overflow-x: scroll;\"><table class = \"data-frame\" style = \"margin-bottom: 6px;\"><thead><tr class = \"header\"><th class = \"rowNumber\" style = \"font-weight: bold; text-align: right;\">Row</th><th style = \"text-align: left;\">x1</th><th style = \"text-align: left;\">x2</th></tr><tr class = \"subheader headerLastRow\"><th class = \"rowNumber\" style = \"font-weight: bold; text-align: right;\"></th><th title = \"Tuple{Int64, Int64}\" style = \"text-align: left;\">Tuple…</th><th title = \"Tuple{Int64, Int64}\" style = \"text-align: left;\">Tuple…</th></tr></thead><tbody><tr><td class = \"rowNumber\" style = \"font-weight: bold; text-align: right;\">1</td><td style = \"text-align: left;\">(1, 1)</td><td style = \"text-align: left;\">(1, 2)</td></tr><tr><td class = \"rowNumber\" style = \"font-weight: bold; text-align: right;\">2</td><td style = \"text-align: left;\">(2, 1)</td><td style = \"text-align: left;\">(2, 2)</td></tr><tr><td class = \"rowNumber\" style = \"font-weight: bold; text-align: right;\">3</td><td style = \"text-align: left;\">(3, 1)</td><td style = \"text-align: left;\">(3, 2)</td></tr></tbody></table></div>"
      ],
      "text/latex": [
       "\\begin{tabular}{r|cc}\n",
       "\t& x1 & x2\\\\\n",
       "\t\\hline\n",
       "\t& Tuple… & Tuple…\\\\\n",
       "\t\\hline\n",
       "\t1 & (1, 1) & (1, 2) \\\\\n",
       "\t2 & (2, 1) & (2, 2) \\\\\n",
       "\t3 & (3, 1) & (3, 2) \\\\\n",
       "\\end{tabular}\n"
      ],
      "text/plain": [
       "\u001b[1m3×2 DataFrame\u001b[0m\n",
       "\u001b[1m Row \u001b[0m│\u001b[1m x1     \u001b[0m\u001b[1m x2     \u001b[0m\n",
       "     │\u001b[90m Tuple… \u001b[0m\u001b[90m Tuple… \u001b[0m\n",
       "─────┼────────────────\n",
       "   1 │ (1, 1)  (1, 2)\n",
       "   2 │ (2, 1)  (2, 2)\n",
       "   3 │ (3, 1)  (3, 2)"
      ]
     },
     "execution_count": 52,
     "metadata": {},
     "output_type": "execute_result"
    }
   ],
   "source": [
    "df2 = select(df, [1, 2], copycols=false)"
   ]
  },
  {
   "cell_type": "code",
   "execution_count": 53,
   "metadata": {},
   "outputs": [
    {
     "data": {
      "text/plain": [
       "true"
      ]
     },
     "execution_count": 53,
     "metadata": {},
     "output_type": "execute_result"
    }
   ],
   "source": [
    "df2[!, 1] === df[!, 1]"
   ]
  },
  {
   "cell_type": "markdown",
   "metadata": {},
   "source": [
    "using `select!` will modify the source data frame"
   ]
  },
  {
   "cell_type": "code",
   "execution_count": 54,
   "metadata": {},
   "outputs": [
    {
     "data": {
      "text/html": [
       "<div><div style = \"float: left;\"><span>3×2 DataFrame</span></div><div style = \"clear: both;\"></div></div><div class = \"data-frame\" style = \"overflow-x: scroll;\"><table class = \"data-frame\" style = \"margin-bottom: 6px;\"><thead><tr class = \"header\"><th class = \"rowNumber\" style = \"font-weight: bold; text-align: right;\">Row</th><th style = \"text-align: left;\">x1</th><th style = \"text-align: left;\">x2</th></tr><tr class = \"subheader headerLastRow\"><th class = \"rowNumber\" style = \"font-weight: bold; text-align: right;\"></th><th title = \"Tuple{Int64, Int64}\" style = \"text-align: left;\">Tuple…</th><th title = \"Tuple{Int64, Int64}\" style = \"text-align: left;\">Tuple…</th></tr></thead><tbody><tr><td class = \"rowNumber\" style = \"font-weight: bold; text-align: right;\">1</td><td style = \"text-align: left;\">(1, 1)</td><td style = \"text-align: left;\">(1, 2)</td></tr><tr><td class = \"rowNumber\" style = \"font-weight: bold; text-align: right;\">2</td><td style = \"text-align: left;\">(2, 1)</td><td style = \"text-align: left;\">(2, 2)</td></tr><tr><td class = \"rowNumber\" style = \"font-weight: bold; text-align: right;\">3</td><td style = \"text-align: left;\">(3, 1)</td><td style = \"text-align: left;\">(3, 2)</td></tr></tbody></table></div>"
      ],
      "text/latex": [
       "\\begin{tabular}{r|cc}\n",
       "\t& x1 & x2\\\\\n",
       "\t\\hline\n",
       "\t& Tuple… & Tuple…\\\\\n",
       "\t\\hline\n",
       "\t1 & (1, 1) & (1, 2) \\\\\n",
       "\t2 & (2, 1) & (2, 2) \\\\\n",
       "\t3 & (3, 1) & (3, 2) \\\\\n",
       "\\end{tabular}\n"
      ],
      "text/plain": [
       "\u001b[1m3×2 DataFrame\u001b[0m\n",
       "\u001b[1m Row \u001b[0m│\u001b[1m x1     \u001b[0m\u001b[1m x2     \u001b[0m\n",
       "     │\u001b[90m Tuple… \u001b[0m\u001b[90m Tuple… \u001b[0m\n",
       "─────┼────────────────\n",
       "   1 │ (1, 1)  (1, 2)\n",
       "   2 │ (2, 1)  (2, 2)\n",
       "   3 │ (3, 1)  (3, 2)"
      ]
     },
     "execution_count": 54,
     "metadata": {},
     "output_type": "execute_result"
    }
   ],
   "source": [
    "select!(df, [1,2])"
   ]
  },
  {
   "cell_type": "code",
   "execution_count": 55,
   "metadata": {},
   "outputs": [
    {
     "data": {
      "text/plain": [
       "true"
      ]
     },
     "execution_count": 55,
     "metadata": {},
     "output_type": "execute_result"
    }
   ],
   "source": [
    "df == df2"
   ]
  },
  {
   "cell_type": "markdown",
   "metadata": {},
   "source": [
    "Here we create a copy of `x` and delete the 3rd column from the copy with `select!` and `Not`."
   ]
  },
  {
   "cell_type": "code",
   "execution_count": 56,
   "metadata": {},
   "outputs": [
    {
     "data": {
      "text/html": [
       "<div><div style = \"float: left;\"><span>3×4 DataFrame</span></div><div style = \"clear: both;\"></div></div><div class = \"data-frame\" style = \"overflow-x: scroll;\"><table class = \"data-frame\" style = \"margin-bottom: 6px;\"><thead><tr class = \"header\"><th class = \"rowNumber\" style = \"font-weight: bold; text-align: right;\">Row</th><th style = \"text-align: left;\">x1</th><th style = \"text-align: left;\">x2</th><th style = \"text-align: left;\">x4</th><th style = \"text-align: left;\">x5</th></tr><tr class = \"subheader headerLastRow\"><th class = \"rowNumber\" style = \"font-weight: bold; text-align: right;\"></th><th title = \"Tuple{Int64, Int64}\" style = \"text-align: left;\">Tuple…</th><th title = \"Tuple{Int64, Int64}\" style = \"text-align: left;\">Tuple…</th><th title = \"Tuple{Int64, Int64}\" style = \"text-align: left;\">Tuple…</th><th title = \"Tuple{Int64, Int64}\" style = \"text-align: left;\">Tuple…</th></tr></thead><tbody><tr><td class = \"rowNumber\" style = \"font-weight: bold; text-align: right;\">1</td><td style = \"text-align: left;\">(1, 1)</td><td style = \"text-align: left;\">(1, 2)</td><td style = \"text-align: left;\">(1, 4)</td><td style = \"text-align: left;\">(1, 5)</td></tr><tr><td class = \"rowNumber\" style = \"font-weight: bold; text-align: right;\">2</td><td style = \"text-align: left;\">(2, 1)</td><td style = \"text-align: left;\">(2, 2)</td><td style = \"text-align: left;\">(2, 4)</td><td style = \"text-align: left;\">(2, 5)</td></tr><tr><td class = \"rowNumber\" style = \"font-weight: bold; text-align: right;\">3</td><td style = \"text-align: left;\">(3, 1)</td><td style = \"text-align: left;\">(3, 2)</td><td style = \"text-align: left;\">(3, 4)</td><td style = \"text-align: left;\">(3, 5)</td></tr></tbody></table></div>"
      ],
      "text/latex": [
       "\\begin{tabular}{r|cccc}\n",
       "\t& x1 & x2 & x4 & x5\\\\\n",
       "\t\\hline\n",
       "\t& Tuple… & Tuple… & Tuple… & Tuple…\\\\\n",
       "\t\\hline\n",
       "\t1 & (1, 1) & (1, 2) & (1, 4) & (1, 5) \\\\\n",
       "\t2 & (2, 1) & (2, 2) & (2, 4) & (2, 5) \\\\\n",
       "\t3 & (3, 1) & (3, 2) & (3, 4) & (3, 5) \\\\\n",
       "\\end{tabular}\n"
      ],
      "text/plain": [
       "\u001b[1m3×4 DataFrame\u001b[0m\n",
       "\u001b[1m Row \u001b[0m│\u001b[1m x1     \u001b[0m\u001b[1m x2     \u001b[0m\u001b[1m x4     \u001b[0m\u001b[1m x5     \u001b[0m\n",
       "     │\u001b[90m Tuple… \u001b[0m\u001b[90m Tuple… \u001b[0m\u001b[90m Tuple… \u001b[0m\u001b[90m Tuple… \u001b[0m\n",
       "─────┼────────────────────────────────\n",
       "   1 │ (1, 1)  (1, 2)  (1, 4)  (1, 5)\n",
       "   2 │ (2, 1)  (2, 2)  (2, 4)  (2, 5)\n",
       "   3 │ (3, 1)  (3, 2)  (3, 4)  (3, 5)"
      ]
     },
     "execution_count": 56,
     "metadata": {},
     "output_type": "execute_result"
    }
   ],
   "source": [
    "z = copy(x)\n",
    "select!(z, Not(3))"
   ]
  },
  {
   "cell_type": "markdown",
   "metadata": {},
   "source": [
    "alternatively we can achieve the same by using the `select` function"
   ]
  },
  {
   "cell_type": "code",
   "execution_count": 57,
   "metadata": {},
   "outputs": [
    {
     "data": {
      "text/html": [
       "<div><div style = \"float: left;\"><span>3×4 DataFrame</span></div><div style = \"clear: both;\"></div></div><div class = \"data-frame\" style = \"overflow-x: scroll;\"><table class = \"data-frame\" style = \"margin-bottom: 6px;\"><thead><tr class = \"header\"><th class = \"rowNumber\" style = \"font-weight: bold; text-align: right;\">Row</th><th style = \"text-align: left;\">x1</th><th style = \"text-align: left;\">x2</th><th style = \"text-align: left;\">x4</th><th style = \"text-align: left;\">x5</th></tr><tr class = \"subheader headerLastRow\"><th class = \"rowNumber\" style = \"font-weight: bold; text-align: right;\"></th><th title = \"Tuple{Int64, Int64}\" style = \"text-align: left;\">Tuple…</th><th title = \"Tuple{Int64, Int64}\" style = \"text-align: left;\">Tuple…</th><th title = \"Tuple{Int64, Int64}\" style = \"text-align: left;\">Tuple…</th><th title = \"Tuple{Int64, Int64}\" style = \"text-align: left;\">Tuple…</th></tr></thead><tbody><tr><td class = \"rowNumber\" style = \"font-weight: bold; text-align: right;\">1</td><td style = \"text-align: left;\">(1, 1)</td><td style = \"text-align: left;\">(1, 2)</td><td style = \"text-align: left;\">(1, 4)</td><td style = \"text-align: left;\">(1, 5)</td></tr><tr><td class = \"rowNumber\" style = \"font-weight: bold; text-align: right;\">2</td><td style = \"text-align: left;\">(2, 1)</td><td style = \"text-align: left;\">(2, 2)</td><td style = \"text-align: left;\">(2, 4)</td><td style = \"text-align: left;\">(2, 5)</td></tr><tr><td class = \"rowNumber\" style = \"font-weight: bold; text-align: right;\">3</td><td style = \"text-align: left;\">(3, 1)</td><td style = \"text-align: left;\">(3, 2)</td><td style = \"text-align: left;\">(3, 4)</td><td style = \"text-align: left;\">(3, 5)</td></tr></tbody></table></div>"
      ],
      "text/latex": [
       "\\begin{tabular}{r|cccc}\n",
       "\t& x1 & x2 & x4 & x5\\\\\n",
       "\t\\hline\n",
       "\t& Tuple… & Tuple… & Tuple… & Tuple…\\\\\n",
       "\t\\hline\n",
       "\t1 & (1, 1) & (1, 2) & (1, 4) & (1, 5) \\\\\n",
       "\t2 & (2, 1) & (2, 2) & (2, 4) & (2, 5) \\\\\n",
       "\t3 & (3, 1) & (3, 2) & (3, 4) & (3, 5) \\\\\n",
       "\\end{tabular}\n"
      ],
      "text/plain": [
       "\u001b[1m3×4 DataFrame\u001b[0m\n",
       "\u001b[1m Row \u001b[0m│\u001b[1m x1     \u001b[0m\u001b[1m x2     \u001b[0m\u001b[1m x4     \u001b[0m\u001b[1m x5     \u001b[0m\n",
       "     │\u001b[90m Tuple… \u001b[0m\u001b[90m Tuple… \u001b[0m\u001b[90m Tuple… \u001b[0m\u001b[90m Tuple… \u001b[0m\n",
       "─────┼────────────────────────────────\n",
       "   1 │ (1, 1)  (1, 2)  (1, 4)  (1, 5)\n",
       "   2 │ (2, 1)  (2, 2)  (2, 4)  (2, 5)\n",
       "   3 │ (3, 1)  (3, 2)  (3, 4)  (3, 5)"
      ]
     },
     "execution_count": 57,
     "metadata": {},
     "output_type": "execute_result"
    }
   ],
   "source": [
    "select(x, Not(3))"
   ]
  },
  {
   "cell_type": "markdown",
   "metadata": {},
   "source": [
    "`x` stays unchanged"
   ]
  },
  {
   "cell_type": "code",
   "execution_count": 58,
   "metadata": {},
   "outputs": [
    {
     "data": {
      "text/html": [
       "<div><div style = \"float: left;\"><span>3×5 DataFrame</span></div><div style = \"clear: both;\"></div></div><div class = \"data-frame\" style = \"overflow-x: scroll;\"><table class = \"data-frame\" style = \"margin-bottom: 6px;\"><thead><tr class = \"header\"><th class = \"rowNumber\" style = \"font-weight: bold; text-align: right;\">Row</th><th style = \"text-align: left;\">x1</th><th style = \"text-align: left;\">x2</th><th style = \"text-align: left;\">x3</th><th style = \"text-align: left;\">x4</th><th style = \"text-align: left;\">x5</th></tr><tr class = \"subheader headerLastRow\"><th class = \"rowNumber\" style = \"font-weight: bold; text-align: right;\"></th><th title = \"Tuple{Int64, Int64}\" style = \"text-align: left;\">Tuple…</th><th title = \"Tuple{Int64, Int64}\" style = \"text-align: left;\">Tuple…</th><th title = \"Tuple{Int64, Int64}\" style = \"text-align: left;\">Tuple…</th><th title = \"Tuple{Int64, Int64}\" style = \"text-align: left;\">Tuple…</th><th title = \"Tuple{Int64, Int64}\" style = \"text-align: left;\">Tuple…</th></tr></thead><tbody><tr><td class = \"rowNumber\" style = \"font-weight: bold; text-align: right;\">1</td><td style = \"text-align: left;\">(1, 1)</td><td style = \"text-align: left;\">(1, 2)</td><td style = \"text-align: left;\">(1, 3)</td><td style = \"text-align: left;\">(1, 4)</td><td style = \"text-align: left;\">(1, 5)</td></tr><tr><td class = \"rowNumber\" style = \"font-weight: bold; text-align: right;\">2</td><td style = \"text-align: left;\">(2, 1)</td><td style = \"text-align: left;\">(2, 2)</td><td style = \"text-align: left;\">(2, 3)</td><td style = \"text-align: left;\">(2, 4)</td><td style = \"text-align: left;\">(2, 5)</td></tr><tr><td class = \"rowNumber\" style = \"font-weight: bold; text-align: right;\">3</td><td style = \"text-align: left;\">(3, 1)</td><td style = \"text-align: left;\">(3, 2)</td><td style = \"text-align: left;\">(3, 3)</td><td style = \"text-align: left;\">(3, 4)</td><td style = \"text-align: left;\">(3, 5)</td></tr></tbody></table></div>"
      ],
      "text/latex": [
       "\\begin{tabular}{r|ccccc}\n",
       "\t& x1 & x2 & x3 & x4 & x5\\\\\n",
       "\t\\hline\n",
       "\t& Tuple… & Tuple… & Tuple… & Tuple… & Tuple…\\\\\n",
       "\t\\hline\n",
       "\t1 & (1, 1) & (1, 2) & (1, 3) & (1, 4) & (1, 5) \\\\\n",
       "\t2 & (2, 1) & (2, 2) & (2, 3) & (2, 4) & (2, 5) \\\\\n",
       "\t3 & (3, 1) & (3, 2) & (3, 3) & (3, 4) & (3, 5) \\\\\n",
       "\\end{tabular}\n"
      ],
      "text/plain": [
       "\u001b[1m3×5 DataFrame\u001b[0m\n",
       "\u001b[1m Row \u001b[0m│\u001b[1m x1     \u001b[0m\u001b[1m x2     \u001b[0m\u001b[1m x3     \u001b[0m\u001b[1m x4     \u001b[0m\u001b[1m x5     \u001b[0m\n",
       "     │\u001b[90m Tuple… \u001b[0m\u001b[90m Tuple… \u001b[0m\u001b[90m Tuple… \u001b[0m\u001b[90m Tuple… \u001b[0m\u001b[90m Tuple… \u001b[0m\n",
       "─────┼────────────────────────────────────────\n",
       "   1 │ (1, 1)  (1, 2)  (1, 3)  (1, 4)  (1, 5)\n",
       "   2 │ (2, 1)  (2, 2)  (2, 3)  (2, 4)  (2, 5)\n",
       "   3 │ (3, 1)  (3, 2)  (3, 3)  (3, 4)  (3, 5)"
      ]
     },
     "execution_count": 58,
     "metadata": {},
     "output_type": "execute_result"
    }
   ],
   "source": [
    "x"
   ]
  },
  {
   "cell_type": "markdown",
   "metadata": {},
   "source": [
    "### Views"
   ]
  },
  {
   "cell_type": "markdown",
   "metadata": {},
   "source": [
    "Note, that you can also create a view of a `DataFrame` when we want a subset of its columns:"
   ]
  },
  {
   "cell_type": "code",
   "execution_count": 59,
   "metadata": {},
   "outputs": [
    {
     "name": "stdout",
     "output_type": "stream",
     "text": [
      "  936.842 ns (18 allocations: 1.67 KiB)\n"
     ]
    },
    {
     "data": {
      "text/html": [
       "<div><div style = \"float: left;\"><span>3×3 DataFrame</span></div><div style = \"clear: both;\"></div></div><div class = \"data-frame\" style = \"overflow-x: scroll;\"><table class = \"data-frame\" style = \"margin-bottom: 6px;\"><thead><tr class = \"header\"><th class = \"rowNumber\" style = \"font-weight: bold; text-align: right;\">Row</th><th style = \"text-align: left;\">x1</th><th style = \"text-align: left;\">x3</th><th style = \"text-align: left;\">x5</th></tr><tr class = \"subheader headerLastRow\"><th class = \"rowNumber\" style = \"font-weight: bold; text-align: right;\"></th><th title = \"Tuple{Int64, Int64}\" style = \"text-align: left;\">Tuple…</th><th title = \"Tuple{Int64, Int64}\" style = \"text-align: left;\">Tuple…</th><th title = \"Tuple{Int64, Int64}\" style = \"text-align: left;\">Tuple…</th></tr></thead><tbody><tr><td class = \"rowNumber\" style = \"font-weight: bold; text-align: right;\">1</td><td style = \"text-align: left;\">(1, 1)</td><td style = \"text-align: left;\">(1, 3)</td><td style = \"text-align: left;\">(1, 5)</td></tr><tr><td class = \"rowNumber\" style = \"font-weight: bold; text-align: right;\">2</td><td style = \"text-align: left;\">(2, 1)</td><td style = \"text-align: left;\">(2, 3)</td><td style = \"text-align: left;\">(2, 5)</td></tr><tr><td class = \"rowNumber\" style = \"font-weight: bold; text-align: right;\">3</td><td style = \"text-align: left;\">(3, 1)</td><td style = \"text-align: left;\">(3, 3)</td><td style = \"text-align: left;\">(3, 5)</td></tr></tbody></table></div>"
      ],
      "text/latex": [
       "\\begin{tabular}{r|ccc}\n",
       "\t& x1 & x3 & x5\\\\\n",
       "\t\\hline\n",
       "\t& Tuple… & Tuple… & Tuple…\\\\\n",
       "\t\\hline\n",
       "\t1 & (1, 1) & (1, 3) & (1, 5) \\\\\n",
       "\t2 & (2, 1) & (2, 3) & (2, 5) \\\\\n",
       "\t3 & (3, 1) & (3, 3) & (3, 5) \\\\\n",
       "\\end{tabular}\n"
      ],
      "text/plain": [
       "\u001b[1m3×3 DataFrame\u001b[0m\n",
       "\u001b[1m Row \u001b[0m│\u001b[1m x1     \u001b[0m\u001b[1m x3     \u001b[0m\u001b[1m x5     \u001b[0m\n",
       "     │\u001b[90m Tuple… \u001b[0m\u001b[90m Tuple… \u001b[0m\u001b[90m Tuple… \u001b[0m\n",
       "─────┼────────────────────────\n",
       "   1 │ (1, 1)  (1, 3)  (1, 5)\n",
       "   2 │ (2, 1)  (2, 3)  (2, 5)\n",
       "   3 │ (3, 1)  (3, 3)  (3, 5)"
      ]
     },
     "execution_count": 59,
     "metadata": {},
     "output_type": "execute_result"
    }
   ],
   "source": [
    "@btime x[:, [1,3,5]]"
   ]
  },
  {
   "cell_type": "code",
   "execution_count": 60,
   "metadata": {},
   "outputs": [
    {
     "name": "stdout",
     "output_type": "stream",
     "text": [
      "  197.431 ns (3 allocations: 240 bytes)\n"
     ]
    },
    {
     "data": {
      "text/html": [
       "<div><div style = \"float: left;\"><span>3×3 SubDataFrame</span></div><div style = \"clear: both;\"></div></div><div class = \"data-frame\" style = \"overflow-x: scroll;\"><table class = \"data-frame\" style = \"margin-bottom: 6px;\"><thead><tr class = \"header\"><th class = \"rowNumber\" style = \"font-weight: bold; text-align: right;\">Row</th><th style = \"text-align: left;\">x1</th><th style = \"text-align: left;\">x3</th><th style = \"text-align: left;\">x5</th></tr><tr class = \"subheader headerLastRow\"><th class = \"rowNumber\" style = \"font-weight: bold; text-align: right;\"></th><th title = \"Tuple{Int64, Int64}\" style = \"text-align: left;\">Tuple…</th><th title = \"Tuple{Int64, Int64}\" style = \"text-align: left;\">Tuple…</th><th title = \"Tuple{Int64, Int64}\" style = \"text-align: left;\">Tuple…</th></tr></thead><tbody><tr><td class = \"rowNumber\" style = \"font-weight: bold; text-align: right;\">1</td><td style = \"text-align: left;\">(1, 1)</td><td style = \"text-align: left;\">(1, 3)</td><td style = \"text-align: left;\">(1, 5)</td></tr><tr><td class = \"rowNumber\" style = \"font-weight: bold; text-align: right;\">2</td><td style = \"text-align: left;\">(2, 1)</td><td style = \"text-align: left;\">(2, 3)</td><td style = \"text-align: left;\">(2, 5)</td></tr><tr><td class = \"rowNumber\" style = \"font-weight: bold; text-align: right;\">3</td><td style = \"text-align: left;\">(3, 1)</td><td style = \"text-align: left;\">(3, 3)</td><td style = \"text-align: left;\">(3, 5)</td></tr></tbody></table></div>"
      ],
      "text/latex": [
       "\\begin{tabular}{r|ccc}\n",
       "\t& x1 & x3 & x5\\\\\n",
       "\t\\hline\n",
       "\t& Tuple… & Tuple… & Tuple…\\\\\n",
       "\t\\hline\n",
       "\t1 & (1, 1) & (1, 3) & (1, 5) \\\\\n",
       "\t2 & (2, 1) & (2, 3) & (2, 5) \\\\\n",
       "\t3 & (3, 1) & (3, 3) & (3, 5) \\\\\n",
       "\\end{tabular}\n"
      ],
      "text/plain": [
       "\u001b[1m3×3 SubDataFrame\u001b[0m\n",
       "\u001b[1m Row \u001b[0m│\u001b[1m x1     \u001b[0m\u001b[1m x3     \u001b[0m\u001b[1m x5     \u001b[0m\n",
       "     │\u001b[90m Tuple… \u001b[0m\u001b[90m Tuple… \u001b[0m\u001b[90m Tuple… \u001b[0m\n",
       "─────┼────────────────────────\n",
       "   1 │ (1, 1)  (1, 3)  (1, 5)\n",
       "   2 │ (2, 1)  (2, 3)  (2, 5)\n",
       "   3 │ (3, 1)  (3, 3)  (3, 5)"
      ]
     },
     "execution_count": 60,
     "metadata": {},
     "output_type": "execute_result"
    }
   ],
   "source": [
    "@btime @view x[:, [1,3,5]]"
   ]
  },
  {
   "cell_type": "markdown",
   "metadata": {},
   "source": [
    "(now creation of the `view` is slow, but in the coming releases of the DataFrames.jl package it will become significantly faster)"
   ]
  },
  {
   "cell_type": "markdown",
   "metadata": {},
   "source": [
    "### Modify column by name"
   ]
  },
  {
   "cell_type": "code",
   "execution_count": 61,
   "metadata": {},
   "outputs": [
    {
     "data": {
      "text/html": [
       "<div><div style = \"float: left;\"><span>3×5 DataFrame</span></div><div style = \"clear: both;\"></div></div><div class = \"data-frame\" style = \"overflow-x: scroll;\"><table class = \"data-frame\" style = \"margin-bottom: 6px;\"><thead><tr class = \"header\"><th class = \"rowNumber\" style = \"font-weight: bold; text-align: right;\">Row</th><th style = \"text-align: left;\">x1</th><th style = \"text-align: left;\">x2</th><th style = \"text-align: left;\">x3</th><th style = \"text-align: left;\">x4</th><th style = \"text-align: left;\">x5</th></tr><tr class = \"subheader headerLastRow\"><th class = \"rowNumber\" style = \"font-weight: bold; text-align: right;\"></th><th title = \"Tuple{Int64, Int64}\" style = \"text-align: left;\">Tuple…</th><th title = \"Tuple{Int64, Int64}\" style = \"text-align: left;\">Tuple…</th><th title = \"Tuple{Int64, Int64}\" style = \"text-align: left;\">Tuple…</th><th title = \"Tuple{Int64, Int64}\" style = \"text-align: left;\">Tuple…</th><th title = \"Tuple{Int64, Int64}\" style = \"text-align: left;\">Tuple…</th></tr></thead><tbody><tr><td class = \"rowNumber\" style = \"font-weight: bold; text-align: right;\">1</td><td style = \"text-align: left;\">(1, 1)</td><td style = \"text-align: left;\">(1, 2)</td><td style = \"text-align: left;\">(1, 3)</td><td style = \"text-align: left;\">(1, 4)</td><td style = \"text-align: left;\">(1, 5)</td></tr><tr><td class = \"rowNumber\" style = \"font-weight: bold; text-align: right;\">2</td><td style = \"text-align: left;\">(2, 1)</td><td style = \"text-align: left;\">(2, 2)</td><td style = \"text-align: left;\">(2, 3)</td><td style = \"text-align: left;\">(2, 4)</td><td style = \"text-align: left;\">(2, 5)</td></tr><tr><td class = \"rowNumber\" style = \"font-weight: bold; text-align: right;\">3</td><td style = \"text-align: left;\">(3, 1)</td><td style = \"text-align: left;\">(3, 2)</td><td style = \"text-align: left;\">(3, 3)</td><td style = \"text-align: left;\">(3, 4)</td><td style = \"text-align: left;\">(3, 5)</td></tr></tbody></table></div>"
      ],
      "text/latex": [
       "\\begin{tabular}{r|ccccc}\n",
       "\t& x1 & x2 & x3 & x4 & x5\\\\\n",
       "\t\\hline\n",
       "\t& Tuple… & Tuple… & Tuple… & Tuple… & Tuple…\\\\\n",
       "\t\\hline\n",
       "\t1 & (1, 1) & (1, 2) & (1, 3) & (1, 4) & (1, 5) \\\\\n",
       "\t2 & (2, 1) & (2, 2) & (2, 3) & (2, 4) & (2, 5) \\\\\n",
       "\t3 & (3, 1) & (3, 2) & (3, 3) & (3, 4) & (3, 5) \\\\\n",
       "\\end{tabular}\n"
      ],
      "text/plain": [
       "\u001b[1m3×5 DataFrame\u001b[0m\n",
       "\u001b[1m Row \u001b[0m│\u001b[1m x1     \u001b[0m\u001b[1m x2     \u001b[0m\u001b[1m x3     \u001b[0m\u001b[1m x4     \u001b[0m\u001b[1m x5     \u001b[0m\n",
       "     │\u001b[90m Tuple… \u001b[0m\u001b[90m Tuple… \u001b[0m\u001b[90m Tuple… \u001b[0m\u001b[90m Tuple… \u001b[0m\u001b[90m Tuple… \u001b[0m\n",
       "─────┼────────────────────────────────────────\n",
       "   1 │ (1, 1)  (1, 2)  (1, 3)  (1, 4)  (1, 5)\n",
       "   2 │ (2, 1)  (2, 2)  (2, 3)  (2, 4)  (2, 5)\n",
       "   3 │ (3, 1)  (3, 2)  (3, 3)  (3, 4)  (3, 5)"
      ]
     },
     "execution_count": 61,
     "metadata": {},
     "output_type": "execute_result"
    }
   ],
   "source": [
    "x = DataFrame([(i,j) for i in 1:3, j in 1:5], :auto)"
   ]
  },
  {
   "cell_type": "markdown",
   "metadata": {},
   "source": [
    "With the following syntax, the existing column is modified without performing any copying (this is discouraged as it creates column alias)."
   ]
  },
  {
   "cell_type": "code",
   "execution_count": 62,
   "metadata": {},
   "outputs": [
    {
     "data": {
      "text/html": [
       "<div><div style = \"float: left;\"><span>3×5 DataFrame</span></div><div style = \"clear: both;\"></div></div><div class = \"data-frame\" style = \"overflow-x: scroll;\"><table class = \"data-frame\" style = \"margin-bottom: 6px;\"><thead><tr class = \"header\"><th class = \"rowNumber\" style = \"font-weight: bold; text-align: right;\">Row</th><th style = \"text-align: left;\">x1</th><th style = \"text-align: left;\">x2</th><th style = \"text-align: left;\">x3</th><th style = \"text-align: left;\">x4</th><th style = \"text-align: left;\">x5</th></tr><tr class = \"subheader headerLastRow\"><th class = \"rowNumber\" style = \"font-weight: bold; text-align: right;\"></th><th title = \"Tuple{Int64, Int64}\" style = \"text-align: left;\">Tuple…</th><th title = \"Tuple{Int64, Int64}\" style = \"text-align: left;\">Tuple…</th><th title = \"Tuple{Int64, Int64}\" style = \"text-align: left;\">Tuple…</th><th title = \"Tuple{Int64, Int64}\" style = \"text-align: left;\">Tuple…</th><th title = \"Tuple{Int64, Int64}\" style = \"text-align: left;\">Tuple…</th></tr></thead><tbody><tr><td class = \"rowNumber\" style = \"font-weight: bold; text-align: right;\">1</td><td style = \"text-align: left;\">(1, 2)</td><td style = \"text-align: left;\">(1, 2)</td><td style = \"text-align: left;\">(1, 3)</td><td style = \"text-align: left;\">(1, 4)</td><td style = \"text-align: left;\">(1, 5)</td></tr><tr><td class = \"rowNumber\" style = \"font-weight: bold; text-align: right;\">2</td><td style = \"text-align: left;\">(2, 2)</td><td style = \"text-align: left;\">(2, 2)</td><td style = \"text-align: left;\">(2, 3)</td><td style = \"text-align: left;\">(2, 4)</td><td style = \"text-align: left;\">(2, 5)</td></tr><tr><td class = \"rowNumber\" style = \"font-weight: bold; text-align: right;\">3</td><td style = \"text-align: left;\">(3, 2)</td><td style = \"text-align: left;\">(3, 2)</td><td style = \"text-align: left;\">(3, 3)</td><td style = \"text-align: left;\">(3, 4)</td><td style = \"text-align: left;\">(3, 5)</td></tr></tbody></table></div>"
      ],
      "text/latex": [
       "\\begin{tabular}{r|ccccc}\n",
       "\t& x1 & x2 & x3 & x4 & x5\\\\\n",
       "\t\\hline\n",
       "\t& Tuple… & Tuple… & Tuple… & Tuple… & Tuple…\\\\\n",
       "\t\\hline\n",
       "\t1 & (1, 2) & (1, 2) & (1, 3) & (1, 4) & (1, 5) \\\\\n",
       "\t2 & (2, 2) & (2, 2) & (2, 3) & (2, 4) & (2, 5) \\\\\n",
       "\t3 & (3, 2) & (3, 2) & (3, 3) & (3, 4) & (3, 5) \\\\\n",
       "\\end{tabular}\n"
      ],
      "text/plain": [
       "\u001b[1m3×5 DataFrame\u001b[0m\n",
       "\u001b[1m Row \u001b[0m│\u001b[1m x1     \u001b[0m\u001b[1m x2     \u001b[0m\u001b[1m x3     \u001b[0m\u001b[1m x4     \u001b[0m\u001b[1m x5     \u001b[0m\n",
       "     │\u001b[90m Tuple… \u001b[0m\u001b[90m Tuple… \u001b[0m\u001b[90m Tuple… \u001b[0m\u001b[90m Tuple… \u001b[0m\u001b[90m Tuple… \u001b[0m\n",
       "─────┼────────────────────────────────────────\n",
       "   1 │ (1, 2)  (1, 2)  (1, 3)  (1, 4)  (1, 5)\n",
       "   2 │ (2, 2)  (2, 2)  (2, 3)  (2, 4)  (2, 5)\n",
       "   3 │ (3, 2)  (3, 2)  (3, 3)  (3, 4)  (3, 5)"
      ]
     },
     "execution_count": 62,
     "metadata": {},
     "output_type": "execute_result"
    }
   ],
   "source": [
    "x[!, :x1] = x[!, :x2]\n",
    "x"
   ]
  },
  {
   "cell_type": "markdown",
   "metadata": {},
   "source": [
    "this syntax is safer"
   ]
  },
  {
   "cell_type": "code",
   "execution_count": 63,
   "metadata": {},
   "outputs": [
    {
     "data": {
      "text/plain": [
       "3-element Vector{Tuple{Int64, Int64}}:\n",
       " (1, 2)\n",
       " (2, 2)\n",
       " (3, 2)"
      ]
     },
     "execution_count": 63,
     "metadata": {},
     "output_type": "execute_result"
    }
   ],
   "source": [
    "x[!, :x1] = x[:, :x2]"
   ]
  },
  {
   "cell_type": "markdown",
   "metadata": {},
   "source": [
    "We can also use the following syntax to add a new column at the end of a `DataFrame`."
   ]
  },
  {
   "cell_type": "code",
   "execution_count": 64,
   "metadata": {},
   "outputs": [
    {
     "data": {
      "text/html": [
       "<div><div style = \"float: left;\"><span>3×6 DataFrame</span></div><div style = \"clear: both;\"></div></div><div class = \"data-frame\" style = \"overflow-x: scroll;\"><table class = \"data-frame\" style = \"margin-bottom: 6px;\"><thead><tr class = \"header\"><th class = \"rowNumber\" style = \"font-weight: bold; text-align: right;\">Row</th><th style = \"text-align: left;\">x1</th><th style = \"text-align: left;\">x2</th><th style = \"text-align: left;\">x3</th><th style = \"text-align: left;\">x4</th><th style = \"text-align: left;\">x5</th><th style = \"text-align: left;\">A</th></tr><tr class = \"subheader headerLastRow\"><th class = \"rowNumber\" style = \"font-weight: bold; text-align: right;\"></th><th title = \"Tuple{Int64, Int64}\" style = \"text-align: left;\">Tuple…</th><th title = \"Tuple{Int64, Int64}\" style = \"text-align: left;\">Tuple…</th><th title = \"Tuple{Int64, Int64}\" style = \"text-align: left;\">Tuple…</th><th title = \"Tuple{Int64, Int64}\" style = \"text-align: left;\">Tuple…</th><th title = \"Tuple{Int64, Int64}\" style = \"text-align: left;\">Tuple…</th><th title = \"Int64\" style = \"text-align: left;\">Int64</th></tr></thead><tbody><tr><td class = \"rowNumber\" style = \"font-weight: bold; text-align: right;\">1</td><td style = \"text-align: left;\">(1, 2)</td><td style = \"text-align: left;\">(1, 2)</td><td style = \"text-align: left;\">(1, 3)</td><td style = \"text-align: left;\">(1, 4)</td><td style = \"text-align: left;\">(1, 5)</td><td style = \"text-align: right;\">1</td></tr><tr><td class = \"rowNumber\" style = \"font-weight: bold; text-align: right;\">2</td><td style = \"text-align: left;\">(2, 2)</td><td style = \"text-align: left;\">(2, 2)</td><td style = \"text-align: left;\">(2, 3)</td><td style = \"text-align: left;\">(2, 4)</td><td style = \"text-align: left;\">(2, 5)</td><td style = \"text-align: right;\">2</td></tr><tr><td class = \"rowNumber\" style = \"font-weight: bold; text-align: right;\">3</td><td style = \"text-align: left;\">(3, 2)</td><td style = \"text-align: left;\">(3, 2)</td><td style = \"text-align: left;\">(3, 3)</td><td style = \"text-align: left;\">(3, 4)</td><td style = \"text-align: left;\">(3, 5)</td><td style = \"text-align: right;\">3</td></tr></tbody></table></div>"
      ],
      "text/latex": [
       "\\begin{tabular}{r|cccccc}\n",
       "\t& x1 & x2 & x3 & x4 & x5 & A\\\\\n",
       "\t\\hline\n",
       "\t& Tuple… & Tuple… & Tuple… & Tuple… & Tuple… & Int64\\\\\n",
       "\t\\hline\n",
       "\t1 & (1, 2) & (1, 2) & (1, 3) & (1, 4) & (1, 5) & 1 \\\\\n",
       "\t2 & (2, 2) & (2, 2) & (2, 3) & (2, 4) & (2, 5) & 2 \\\\\n",
       "\t3 & (3, 2) & (3, 2) & (3, 3) & (3, 4) & (3, 5) & 3 \\\\\n",
       "\\end{tabular}\n"
      ],
      "text/plain": [
       "\u001b[1m3×6 DataFrame\u001b[0m\n",
       "\u001b[1m Row \u001b[0m│\u001b[1m x1     \u001b[0m\u001b[1m x2     \u001b[0m\u001b[1m x3     \u001b[0m\u001b[1m x4     \u001b[0m\u001b[1m x5     \u001b[0m\u001b[1m A     \u001b[0m\n",
       "     │\u001b[90m Tuple… \u001b[0m\u001b[90m Tuple… \u001b[0m\u001b[90m Tuple… \u001b[0m\u001b[90m Tuple… \u001b[0m\u001b[90m Tuple… \u001b[0m\u001b[90m Int64 \u001b[0m\n",
       "─────┼───────────────────────────────────────────────\n",
       "   1 │ (1, 2)  (1, 2)  (1, 3)  (1, 4)  (1, 5)      1\n",
       "   2 │ (2, 2)  (2, 2)  (2, 3)  (2, 4)  (2, 5)      2\n",
       "   3 │ (3, 2)  (3, 2)  (3, 3)  (3, 4)  (3, 5)      3"
      ]
     },
     "execution_count": 64,
     "metadata": {},
     "output_type": "execute_result"
    }
   ],
   "source": [
    "x[!, :A] = [1,2,3]\n",
    "x"
   ]
  },
  {
   "cell_type": "markdown",
   "metadata": {},
   "source": [
    "A new column name will be added to our `DataFrame` with the following syntax as well:"
   ]
  },
  {
   "cell_type": "code",
   "execution_count": 65,
   "metadata": {},
   "outputs": [
    {
     "data": {
      "text/html": [
       "<div><div style = \"float: left;\"><span>3×7 DataFrame</span></div><div style = \"clear: both;\"></div></div><div class = \"data-frame\" style = \"overflow-x: scroll;\"><table class = \"data-frame\" style = \"margin-bottom: 6px;\"><thead><tr class = \"header\"><th class = \"rowNumber\" style = \"font-weight: bold; text-align: right;\">Row</th><th style = \"text-align: left;\">x1</th><th style = \"text-align: left;\">x2</th><th style = \"text-align: left;\">x3</th><th style = \"text-align: left;\">x4</th><th style = \"text-align: left;\">x5</th><th style = \"text-align: left;\">A</th><th style = \"text-align: left;\">B</th></tr><tr class = \"subheader headerLastRow\"><th class = \"rowNumber\" style = \"font-weight: bold; text-align: right;\"></th><th title = \"Tuple{Int64, Int64}\" style = \"text-align: left;\">Tuple…</th><th title = \"Tuple{Int64, Int64}\" style = \"text-align: left;\">Tuple…</th><th title = \"Tuple{Int64, Int64}\" style = \"text-align: left;\">Tuple…</th><th title = \"Tuple{Int64, Int64}\" style = \"text-align: left;\">Tuple…</th><th title = \"Tuple{Int64, Int64}\" style = \"text-align: left;\">Tuple…</th><th title = \"Int64\" style = \"text-align: left;\">Int64</th><th title = \"Int64\" style = \"text-align: left;\">Int64</th></tr></thead><tbody><tr><td class = \"rowNumber\" style = \"font-weight: bold; text-align: right;\">1</td><td style = \"text-align: left;\">(1, 2)</td><td style = \"text-align: left;\">(1, 2)</td><td style = \"text-align: left;\">(1, 3)</td><td style = \"text-align: left;\">(1, 4)</td><td style = \"text-align: left;\">(1, 5)</td><td style = \"text-align: right;\">1</td><td style = \"text-align: right;\">11</td></tr><tr><td class = \"rowNumber\" style = \"font-weight: bold; text-align: right;\">2</td><td style = \"text-align: left;\">(2, 2)</td><td style = \"text-align: left;\">(2, 2)</td><td style = \"text-align: left;\">(2, 3)</td><td style = \"text-align: left;\">(2, 4)</td><td style = \"text-align: left;\">(2, 5)</td><td style = \"text-align: right;\">2</td><td style = \"text-align: right;\">12</td></tr><tr><td class = \"rowNumber\" style = \"font-weight: bold; text-align: right;\">3</td><td style = \"text-align: left;\">(3, 2)</td><td style = \"text-align: left;\">(3, 2)</td><td style = \"text-align: left;\">(3, 3)</td><td style = \"text-align: left;\">(3, 4)</td><td style = \"text-align: left;\">(3, 5)</td><td style = \"text-align: right;\">3</td><td style = \"text-align: right;\">13</td></tr></tbody></table></div>"
      ],
      "text/latex": [
       "\\begin{tabular}{r|ccccccc}\n",
       "\t& x1 & x2 & x3 & x4 & x5 & A & B\\\\\n",
       "\t\\hline\n",
       "\t& Tuple… & Tuple… & Tuple… & Tuple… & Tuple… & Int64 & Int64\\\\\n",
       "\t\\hline\n",
       "\t1 & (1, 2) & (1, 2) & (1, 3) & (1, 4) & (1, 5) & 1 & 11 \\\\\n",
       "\t2 & (2, 2) & (2, 2) & (2, 3) & (2, 4) & (2, 5) & 2 & 12 \\\\\n",
       "\t3 & (3, 2) & (3, 2) & (3, 3) & (3, 4) & (3, 5) & 3 & 13 \\\\\n",
       "\\end{tabular}\n"
      ],
      "text/plain": [
       "\u001b[1m3×7 DataFrame\u001b[0m\n",
       "\u001b[1m Row \u001b[0m│\u001b[1m x1     \u001b[0m\u001b[1m x2     \u001b[0m\u001b[1m x3     \u001b[0m\u001b[1m x4     \u001b[0m\u001b[1m x5     \u001b[0m\u001b[1m A     \u001b[0m\u001b[1m B     \u001b[0m\n",
       "     │\u001b[90m Tuple… \u001b[0m\u001b[90m Tuple… \u001b[0m\u001b[90m Tuple… \u001b[0m\u001b[90m Tuple… \u001b[0m\u001b[90m Tuple… \u001b[0m\u001b[90m Int64 \u001b[0m\u001b[90m Int64 \u001b[0m\n",
       "─────┼──────────────────────────────────────────────────────\n",
       "   1 │ (1, 2)  (1, 2)  (1, 3)  (1, 4)  (1, 5)      1     11\n",
       "   2 │ (2, 2)  (2, 2)  (2, 3)  (2, 4)  (2, 5)      2     12\n",
       "   3 │ (3, 2)  (3, 2)  (3, 3)  (3, 4)  (3, 5)      3     13"
      ]
     },
     "execution_count": 65,
     "metadata": {},
     "output_type": "execute_result"
    }
   ],
   "source": [
    "x.B = 11:13\n",
    "x"
   ]
  },
  {
   "cell_type": "markdown",
   "metadata": {},
   "source": [
    "### Find column name"
   ]
  },
  {
   "cell_type": "code",
   "execution_count": 66,
   "metadata": {},
   "outputs": [
    {
     "data": {
      "text/html": [
       "<div><div style = \"float: left;\"><span>3×5 DataFrame</span></div><div style = \"clear: both;\"></div></div><div class = \"data-frame\" style = \"overflow-x: scroll;\"><table class = \"data-frame\" style = \"margin-bottom: 6px;\"><thead><tr class = \"header\"><th class = \"rowNumber\" style = \"font-weight: bold; text-align: right;\">Row</th><th style = \"text-align: left;\">x1</th><th style = \"text-align: left;\">x2</th><th style = \"text-align: left;\">x3</th><th style = \"text-align: left;\">x4</th><th style = \"text-align: left;\">x5</th></tr><tr class = \"subheader headerLastRow\"><th class = \"rowNumber\" style = \"font-weight: bold; text-align: right;\"></th><th title = \"Tuple{Int64, Int64}\" style = \"text-align: left;\">Tuple…</th><th title = \"Tuple{Int64, Int64}\" style = \"text-align: left;\">Tuple…</th><th title = \"Tuple{Int64, Int64}\" style = \"text-align: left;\">Tuple…</th><th title = \"Tuple{Int64, Int64}\" style = \"text-align: left;\">Tuple…</th><th title = \"Tuple{Int64, Int64}\" style = \"text-align: left;\">Tuple…</th></tr></thead><tbody><tr><td class = \"rowNumber\" style = \"font-weight: bold; text-align: right;\">1</td><td style = \"text-align: left;\">(1, 1)</td><td style = \"text-align: left;\">(1, 2)</td><td style = \"text-align: left;\">(1, 3)</td><td style = \"text-align: left;\">(1, 4)</td><td style = \"text-align: left;\">(1, 5)</td></tr><tr><td class = \"rowNumber\" style = \"font-weight: bold; text-align: right;\">2</td><td style = \"text-align: left;\">(2, 1)</td><td style = \"text-align: left;\">(2, 2)</td><td style = \"text-align: left;\">(2, 3)</td><td style = \"text-align: left;\">(2, 4)</td><td style = \"text-align: left;\">(2, 5)</td></tr><tr><td class = \"rowNumber\" style = \"font-weight: bold; text-align: right;\">3</td><td style = \"text-align: left;\">(3, 1)</td><td style = \"text-align: left;\">(3, 2)</td><td style = \"text-align: left;\">(3, 3)</td><td style = \"text-align: left;\">(3, 4)</td><td style = \"text-align: left;\">(3, 5)</td></tr></tbody></table></div>"
      ],
      "text/latex": [
       "\\begin{tabular}{r|ccccc}\n",
       "\t& x1 & x2 & x3 & x4 & x5\\\\\n",
       "\t\\hline\n",
       "\t& Tuple… & Tuple… & Tuple… & Tuple… & Tuple…\\\\\n",
       "\t\\hline\n",
       "\t1 & (1, 1) & (1, 2) & (1, 3) & (1, 4) & (1, 5) \\\\\n",
       "\t2 & (2, 1) & (2, 2) & (2, 3) & (2, 4) & (2, 5) \\\\\n",
       "\t3 & (3, 1) & (3, 2) & (3, 3) & (3, 4) & (3, 5) \\\\\n",
       "\\end{tabular}\n"
      ],
      "text/plain": [
       "\u001b[1m3×5 DataFrame\u001b[0m\n",
       "\u001b[1m Row \u001b[0m│\u001b[1m x1     \u001b[0m\u001b[1m x2     \u001b[0m\u001b[1m x3     \u001b[0m\u001b[1m x4     \u001b[0m\u001b[1m x5     \u001b[0m\n",
       "     │\u001b[90m Tuple… \u001b[0m\u001b[90m Tuple… \u001b[0m\u001b[90m Tuple… \u001b[0m\u001b[90m Tuple… \u001b[0m\u001b[90m Tuple… \u001b[0m\n",
       "─────┼────────────────────────────────────────\n",
       "   1 │ (1, 1)  (1, 2)  (1, 3)  (1, 4)  (1, 5)\n",
       "   2 │ (2, 1)  (2, 2)  (2, 3)  (2, 4)  (2, 5)\n",
       "   3 │ (3, 1)  (3, 2)  (3, 3)  (3, 4)  (3, 5)"
      ]
     },
     "execution_count": 66,
     "metadata": {},
     "output_type": "execute_result"
    }
   ],
   "source": [
    "x = DataFrame([(i,j) for i in 1:3, j in 1:5], :auto)"
   ]
  },
  {
   "cell_type": "markdown",
   "metadata": {},
   "source": [
    "We can check if a column with a given name exists via"
   ]
  },
  {
   "cell_type": "code",
   "execution_count": 67,
   "metadata": {},
   "outputs": [
    {
     "data": {
      "text/plain": [
       "true"
      ]
     },
     "execution_count": 67,
     "metadata": {},
     "output_type": "execute_result"
    }
   ],
   "source": [
    "hasproperty(x, :x1)"
   ]
  },
  {
   "cell_type": "markdown",
   "metadata": {},
   "source": [
    "and determine its index via"
   ]
  },
  {
   "cell_type": "code",
   "execution_count": 68,
   "metadata": {},
   "outputs": [
    {
     "data": {
      "text/plain": [
       "2"
      ]
     },
     "execution_count": 68,
     "metadata": {},
     "output_type": "execute_result"
    }
   ],
   "source": [
    "columnindex(x, :x2)"
   ]
  },
  {
   "cell_type": "markdown",
   "metadata": {},
   "source": [
    "### Advanced ways of column selection"
   ]
  },
  {
   "cell_type": "markdown",
   "metadata": {},
   "source": [
    "these are most useful for non-standard column names (e.g. containing spaces)"
   ]
  },
  {
   "cell_type": "code",
   "execution_count": 69,
   "metadata": {},
   "outputs": [
    {
     "data": {
      "text/html": [
       "<div><div style = \"float: left;\"><span>3×2 DataFrame</span></div><div style = \"clear: both;\"></div></div><div class = \"data-frame\" style = \"overflow-x: scroll;\"><table class = \"data-frame\" style = \"margin-bottom: 6px;\"><thead><tr class = \"header\"><th class = \"rowNumber\" style = \"font-weight: bold; text-align: right;\">Row</th><th style = \"text-align: left;\">x1</th><th style = \"text-align: left;\">column 2</th></tr><tr class = \"subheader headerLastRow\"><th class = \"rowNumber\" style = \"font-weight: bold; text-align: right;\"></th><th title = \"Int64\" style = \"text-align: left;\">Int64</th><th title = \"Int64\" style = \"text-align: left;\">Int64</th></tr></thead><tbody><tr><td class = \"rowNumber\" style = \"font-weight: bold; text-align: right;\">1</td><td style = \"text-align: right;\">1</td><td style = \"text-align: right;\">4</td></tr><tr><td class = \"rowNumber\" style = \"font-weight: bold; text-align: right;\">2</td><td style = \"text-align: right;\">2</td><td style = \"text-align: right;\">5</td></tr><tr><td class = \"rowNumber\" style = \"font-weight: bold; text-align: right;\">3</td><td style = \"text-align: right;\">3</td><td style = \"text-align: right;\">6</td></tr></tbody></table></div>"
      ],
      "text/latex": [
       "\\begin{tabular}{r|cc}\n",
       "\t& x1 & column 2\\\\\n",
       "\t\\hline\n",
       "\t& Int64 & Int64\\\\\n",
       "\t\\hline\n",
       "\t1 & 1 & 4 \\\\\n",
       "\t2 & 2 & 5 \\\\\n",
       "\t3 & 3 & 6 \\\\\n",
       "\\end{tabular}\n"
      ],
      "text/plain": [
       "\u001b[1m3×2 DataFrame\u001b[0m\n",
       "\u001b[1m Row \u001b[0m│\u001b[1m x1    \u001b[0m\u001b[1m column 2 \u001b[0m\n",
       "     │\u001b[90m Int64 \u001b[0m\u001b[90m Int64    \u001b[0m\n",
       "─────┼─────────────────\n",
       "   1 │     1         4\n",
       "   2 │     2         5\n",
       "   3 │     3         6"
      ]
     },
     "execution_count": 69,
     "metadata": {},
     "output_type": "execute_result"
    }
   ],
   "source": [
    "df = DataFrame()\n",
    "df.x1 = 1:3\n",
    "df[!, \"column 2\"] = 4:6\n",
    "df"
   ]
  },
  {
   "cell_type": "code",
   "execution_count": 70,
   "metadata": {},
   "outputs": [
    {
     "data": {
      "text/plain": [
       "3-element Vector{Int64}:\n",
       " 4\n",
       " 5\n",
       " 6"
      ]
     },
     "execution_count": 70,
     "metadata": {},
     "output_type": "execute_result"
    }
   ],
   "source": [
    "df.\"column 2\""
   ]
  },
  {
   "cell_type": "code",
   "execution_count": 71,
   "metadata": {},
   "outputs": [
    {
     "data": {
      "text/plain": [
       "3-element Vector{Int64}:\n",
       " 4\n",
       " 5\n",
       " 6"
      ]
     },
     "execution_count": 71,
     "metadata": {},
     "output_type": "execute_result"
    }
   ],
   "source": [
    "df[:, \"column 2\"]"
   ]
  },
  {
   "cell_type": "markdown",
   "metadata": {},
   "source": [
    "or you can interpolate column name using `:()` syntax"
   ]
  },
  {
   "cell_type": "code",
   "execution_count": 72,
   "metadata": {},
   "outputs": [
    {
     "name": "stdout",
     "output_type": "stream",
     "text": [
      "x1\n",
      "[1, 2, 3]\n",
      "\n",
      "column 2\n",
      "[4, 5, 6]\n",
      "\n"
     ]
    }
   ],
   "source": [
    "for n in names(df)\n",
    "    println(n, \"\\n\", df.:($n), \"\\n\")\n",
    "end"
   ]
  },
  {
   "cell_type": "markdown",
   "metadata": {},
   "source": [
    "### Working on a collection of columns"
   ]
  },
  {
   "cell_type": "markdown",
   "metadata": {},
   "source": [
    "When using `eachcol` of a data frame the resulting object retains reference to its parent and e.g. can be queried with `getproperty`"
   ]
  },
  {
   "cell_type": "code",
   "execution_count": 73,
   "metadata": {},
   "outputs": [
    {
     "data": {
      "text/html": [
       "<div><div style = \"float: left;\"><span>3×4 DataFrame</span></div><div style = \"clear: both;\"></div></div><div class = \"data-frame\" style = \"overflow-x: scroll;\"><table class = \"data-frame\" style = \"margin-bottom: 6px;\"><thead><tr class = \"header\"><th class = \"rowNumber\" style = \"font-weight: bold; text-align: right;\">Row</th><th style = \"text-align: left;\">x1</th><th style = \"text-align: left;\">x2</th><th style = \"text-align: left;\">x3</th><th style = \"text-align: left;\">x4</th></tr><tr class = \"subheader headerLastRow\"><th class = \"rowNumber\" style = \"font-weight: bold; text-align: right;\"></th><th title = \"Int64\" style = \"text-align: left;\">Int64</th><th title = \"Int64\" style = \"text-align: left;\">Int64</th><th title = \"Int64\" style = \"text-align: left;\">Int64</th><th title = \"Int64\" style = \"text-align: left;\">Int64</th></tr></thead><tbody><tr><td class = \"rowNumber\" style = \"font-weight: bold; text-align: right;\">1</td><td style = \"text-align: right;\">1</td><td style = \"text-align: right;\">4</td><td style = \"text-align: right;\">7</td><td style = \"text-align: right;\">10</td></tr><tr><td class = \"rowNumber\" style = \"font-weight: bold; text-align: right;\">2</td><td style = \"text-align: right;\">2</td><td style = \"text-align: right;\">5</td><td style = \"text-align: right;\">8</td><td style = \"text-align: right;\">11</td></tr><tr><td class = \"rowNumber\" style = \"font-weight: bold; text-align: right;\">3</td><td style = \"text-align: right;\">3</td><td style = \"text-align: right;\">6</td><td style = \"text-align: right;\">9</td><td style = \"text-align: right;\">12</td></tr></tbody></table></div>"
      ],
      "text/latex": [
       "\\begin{tabular}{r|cccc}\n",
       "\t& x1 & x2 & x3 & x4\\\\\n",
       "\t\\hline\n",
       "\t& Int64 & Int64 & Int64 & Int64\\\\\n",
       "\t\\hline\n",
       "\t1 & 1 & 4 & 7 & 10 \\\\\n",
       "\t2 & 2 & 5 & 8 & 11 \\\\\n",
       "\t3 & 3 & 6 & 9 & 12 \\\\\n",
       "\\end{tabular}\n"
      ],
      "text/plain": [
       "\u001b[1m3×4 DataFrame\u001b[0m\n",
       "\u001b[1m Row \u001b[0m│\u001b[1m x1    \u001b[0m\u001b[1m x2    \u001b[0m\u001b[1m x3    \u001b[0m\u001b[1m x4    \u001b[0m\n",
       "     │\u001b[90m Int64 \u001b[0m\u001b[90m Int64 \u001b[0m\u001b[90m Int64 \u001b[0m\u001b[90m Int64 \u001b[0m\n",
       "─────┼────────────────────────────\n",
       "   1 │     1      4      7     10\n",
       "   2 │     2      5      8     11\n",
       "   3 │     3      6      9     12"
      ]
     },
     "execution_count": 73,
     "metadata": {},
     "output_type": "execute_result"
    }
   ],
   "source": [
    "df = DataFrame(reshape(1:12, 3, 4), :auto)"
   ]
  },
  {
   "cell_type": "code",
   "execution_count": 74,
   "metadata": {},
   "outputs": [
    {
     "data": {
      "text/html": [
       "<div><div style = \"float: left;\"><span>3×4 DataFrameColumns</span></div><div style = \"clear: both;\"></div></div><div class = \"data-frame\" style = \"overflow-x: scroll;\"><table class = \"data-frame\" style = \"margin-bottom: 6px;\"><thead><tr class = \"header\"><th class = \"rowNumber\" style = \"font-weight: bold; text-align: right;\">Row</th><th style = \"text-align: left;\">x1</th><th style = \"text-align: left;\">x2</th><th style = \"text-align: left;\">x3</th><th style = \"text-align: left;\">x4</th></tr><tr class = \"subheader headerLastRow\"><th class = \"rowNumber\" style = \"font-weight: bold; text-align: right;\"></th><th title = \"Int64\" style = \"text-align: left;\">Int64</th><th title = \"Int64\" style = \"text-align: left;\">Int64</th><th title = \"Int64\" style = \"text-align: left;\">Int64</th><th title = \"Int64\" style = \"text-align: left;\">Int64</th></tr></thead><tbody><tr><td class = \"rowNumber\" style = \"font-weight: bold; text-align: right;\">1</td><td style = \"text-align: right;\">1</td><td style = \"text-align: right;\">4</td><td style = \"text-align: right;\">7</td><td style = \"text-align: right;\">10</td></tr><tr><td class = \"rowNumber\" style = \"font-weight: bold; text-align: right;\">2</td><td style = \"text-align: right;\">2</td><td style = \"text-align: right;\">5</td><td style = \"text-align: right;\">8</td><td style = \"text-align: right;\">11</td></tr><tr><td class = \"rowNumber\" style = \"font-weight: bold; text-align: right;\">3</td><td style = \"text-align: right;\">3</td><td style = \"text-align: right;\">6</td><td style = \"text-align: right;\">9</td><td style = \"text-align: right;\">12</td></tr></tbody></table></div>"
      ],
      "text/latex": [
       "\\begin{tabular}{r|cccc}\n",
       "\t& x1 & x2 & x3 & x4\\\\\n",
       "\t\\hline\n",
       "\t& Int64 & Int64 & Int64 & Int64\\\\\n",
       "\t\\hline\n",
       "\t1 & 1 & 4 & 7 & 10 \\\\\n",
       "\t2 & 2 & 5 & 8 & 11 \\\\\n",
       "\t3 & 3 & 6 & 9 & 12 \\\\\n",
       "\\end{tabular}\n"
      ],
      "text/plain": [
       "\u001b[1m3×4 DataFrameColumns\u001b[0m\n",
       "\u001b[1m Row \u001b[0m│\u001b[1m x1    \u001b[0m\u001b[1m x2    \u001b[0m\u001b[1m x3    \u001b[0m\u001b[1m x4    \u001b[0m\n",
       "     │\u001b[90m Int64 \u001b[0m\u001b[90m Int64 \u001b[0m\u001b[90m Int64 \u001b[0m\u001b[90m Int64 \u001b[0m\n",
       "─────┼────────────────────────────\n",
       "   1 │     1      4      7     10\n",
       "   2 │     2      5      8     11\n",
       "   3 │     3      6      9     12"
      ]
     },
     "execution_count": 74,
     "metadata": {},
     "output_type": "execute_result"
    }
   ],
   "source": [
    "ec_df = eachcol(df)"
   ]
  },
  {
   "cell_type": "code",
   "execution_count": 75,
   "metadata": {},
   "outputs": [
    {
     "data": {
      "text/plain": [
       "3-element Vector{Int64}:\n",
       " 1\n",
       " 2\n",
       " 3"
      ]
     },
     "execution_count": 75,
     "metadata": {},
     "output_type": "execute_result"
    }
   ],
   "source": [
    "ec_df[1]"
   ]
  },
  {
   "cell_type": "code",
   "execution_count": 76,
   "metadata": {},
   "outputs": [
    {
     "data": {
      "text/plain": [
       "3-element Vector{Int64}:\n",
       " 1\n",
       " 2\n",
       " 3"
      ]
     },
     "execution_count": 76,
     "metadata": {},
     "output_type": "execute_result"
    }
   ],
   "source": [
    "ec_df.x1"
   ]
  },
  {
   "cell_type": "markdown",
   "metadata": {},
   "source": [
    "### Transforming columns"
   ]
  },
  {
   "cell_type": "markdown",
   "metadata": {},
   "source": [
    "We will get to this subject later in 10_transforms.ipynb notebook, but here let us just note that `select`, `select!`, `transform`, `transform!` and `combine` functions allow to generate new columns based on the old columns of a data frame.\n",
    "\n",
    "The general rules are the following:\n",
    "* `select` and `transform` always return the number of rows equal to the source data frame, while `combine` returns any number of rows (`combine` is allowed to *combine* rows of the source data frame)\n",
    "* `transform` retains columns from the old data frame\n",
    "* `select!` and `transform!` are in-place versions of `select` and `transform`"
   ]
  },
  {
   "cell_type": "code",
   "execution_count": 77,
   "metadata": {},
   "outputs": [
    {
     "data": {
      "text/html": [
       "<div><div style = \"float: left;\"><span>3×4 DataFrame</span></div><div style = \"clear: both;\"></div></div><div class = \"data-frame\" style = \"overflow-x: scroll;\"><table class = \"data-frame\" style = \"margin-bottom: 6px;\"><thead><tr class = \"header\"><th class = \"rowNumber\" style = \"font-weight: bold; text-align: right;\">Row</th><th style = \"text-align: left;\">x1</th><th style = \"text-align: left;\">x2</th><th style = \"text-align: left;\">x3</th><th style = \"text-align: left;\">x4</th></tr><tr class = \"subheader headerLastRow\"><th class = \"rowNumber\" style = \"font-weight: bold; text-align: right;\"></th><th title = \"Int64\" style = \"text-align: left;\">Int64</th><th title = \"Int64\" style = \"text-align: left;\">Int64</th><th title = \"Int64\" style = \"text-align: left;\">Int64</th><th title = \"Int64\" style = \"text-align: left;\">Int64</th></tr></thead><tbody><tr><td class = \"rowNumber\" style = \"font-weight: bold; text-align: right;\">1</td><td style = \"text-align: right;\">1</td><td style = \"text-align: right;\">4</td><td style = \"text-align: right;\">7</td><td style = \"text-align: right;\">10</td></tr><tr><td class = \"rowNumber\" style = \"font-weight: bold; text-align: right;\">2</td><td style = \"text-align: right;\">2</td><td style = \"text-align: right;\">5</td><td style = \"text-align: right;\">8</td><td style = \"text-align: right;\">11</td></tr><tr><td class = \"rowNumber\" style = \"font-weight: bold; text-align: right;\">3</td><td style = \"text-align: right;\">3</td><td style = \"text-align: right;\">6</td><td style = \"text-align: right;\">9</td><td style = \"text-align: right;\">12</td></tr></tbody></table></div>"
      ],
      "text/latex": [
       "\\begin{tabular}{r|cccc}\n",
       "\t& x1 & x2 & x3 & x4\\\\\n",
       "\t\\hline\n",
       "\t& Int64 & Int64 & Int64 & Int64\\\\\n",
       "\t\\hline\n",
       "\t1 & 1 & 4 & 7 & 10 \\\\\n",
       "\t2 & 2 & 5 & 8 & 11 \\\\\n",
       "\t3 & 3 & 6 & 9 & 12 \\\\\n",
       "\\end{tabular}\n"
      ],
      "text/plain": [
       "\u001b[1m3×4 DataFrame\u001b[0m\n",
       "\u001b[1m Row \u001b[0m│\u001b[1m x1    \u001b[0m\u001b[1m x2    \u001b[0m\u001b[1m x3    \u001b[0m\u001b[1m x4    \u001b[0m\n",
       "     │\u001b[90m Int64 \u001b[0m\u001b[90m Int64 \u001b[0m\u001b[90m Int64 \u001b[0m\u001b[90m Int64 \u001b[0m\n",
       "─────┼────────────────────────────\n",
       "   1 │     1      4      7     10\n",
       "   2 │     2      5      8     11\n",
       "   3 │     3      6      9     12"
      ]
     },
     "execution_count": 77,
     "metadata": {},
     "output_type": "execute_result"
    }
   ],
   "source": [
    "df = DataFrame(reshape(1:12, 3, 4), :auto)"
   ]
  },
  {
   "cell_type": "markdown",
   "metadata": {},
   "source": [
    "Here we add a new column `:res` that is a sum of columns `:x1` and `:x2`. A general syntax of transformations of this kind is:\n",
    "\n",
    "```\n",
    "source_columns => function_to_apply => target_column_name\n",
    "```\n",
    "then `function_to_apply` gets columns selected by `source_columns` as positional arguments."
   ]
  },
  {
   "cell_type": "code",
   "execution_count": 78,
   "metadata": {},
   "outputs": [
    {
     "data": {
      "text/html": [
       "<div><div style = \"float: left;\"><span>3×5 DataFrame</span></div><div style = \"clear: both;\"></div></div><div class = \"data-frame\" style = \"overflow-x: scroll;\"><table class = \"data-frame\" style = \"margin-bottom: 6px;\"><thead><tr class = \"header\"><th class = \"rowNumber\" style = \"font-weight: bold; text-align: right;\">Row</th><th style = \"text-align: left;\">x1</th><th style = \"text-align: left;\">x2</th><th style = \"text-align: left;\">x3</th><th style = \"text-align: left;\">x4</th><th style = \"text-align: left;\">res</th></tr><tr class = \"subheader headerLastRow\"><th class = \"rowNumber\" style = \"font-weight: bold; text-align: right;\"></th><th title = \"Int64\" style = \"text-align: left;\">Int64</th><th title = \"Int64\" style = \"text-align: left;\">Int64</th><th title = \"Int64\" style = \"text-align: left;\">Int64</th><th title = \"Int64\" style = \"text-align: left;\">Int64</th><th title = \"Int64\" style = \"text-align: left;\">Int64</th></tr></thead><tbody><tr><td class = \"rowNumber\" style = \"font-weight: bold; text-align: right;\">1</td><td style = \"text-align: right;\">1</td><td style = \"text-align: right;\">4</td><td style = \"text-align: right;\">7</td><td style = \"text-align: right;\">10</td><td style = \"text-align: right;\">5</td></tr><tr><td class = \"rowNumber\" style = \"font-weight: bold; text-align: right;\">2</td><td style = \"text-align: right;\">2</td><td style = \"text-align: right;\">5</td><td style = \"text-align: right;\">8</td><td style = \"text-align: right;\">11</td><td style = \"text-align: right;\">7</td></tr><tr><td class = \"rowNumber\" style = \"font-weight: bold; text-align: right;\">3</td><td style = \"text-align: right;\">3</td><td style = \"text-align: right;\">6</td><td style = \"text-align: right;\">9</td><td style = \"text-align: right;\">12</td><td style = \"text-align: right;\">9</td></tr></tbody></table></div>"
      ],
      "text/latex": [
       "\\begin{tabular}{r|ccccc}\n",
       "\t& x1 & x2 & x3 & x4 & res\\\\\n",
       "\t\\hline\n",
       "\t& Int64 & Int64 & Int64 & Int64 & Int64\\\\\n",
       "\t\\hline\n",
       "\t1 & 1 & 4 & 7 & 10 & 5 \\\\\n",
       "\t2 & 2 & 5 & 8 & 11 & 7 \\\\\n",
       "\t3 & 3 & 6 & 9 & 12 & 9 \\\\\n",
       "\\end{tabular}\n"
      ],
      "text/plain": [
       "\u001b[1m3×5 DataFrame\u001b[0m\n",
       "\u001b[1m Row \u001b[0m│\u001b[1m x1    \u001b[0m\u001b[1m x2    \u001b[0m\u001b[1m x3    \u001b[0m\u001b[1m x4    \u001b[0m\u001b[1m res   \u001b[0m\n",
       "     │\u001b[90m Int64 \u001b[0m\u001b[90m Int64 \u001b[0m\u001b[90m Int64 \u001b[0m\u001b[90m Int64 \u001b[0m\u001b[90m Int64 \u001b[0m\n",
       "─────┼───────────────────────────────────\n",
       "   1 │     1      4      7     10      5\n",
       "   2 │     2      5      8     11      7\n",
       "   3 │     3      6      9     12      9"
      ]
     },
     "execution_count": 78,
     "metadata": {},
     "output_type": "execute_result"
    }
   ],
   "source": [
    "transform(df, [:x1, :x2] => (+) => :res)"
   ]
  },
  {
   "cell_type": "markdown",
   "metadata": {},
   "source": [
    "One can omit passing `target_column_name` in which case it is automatically generated:"
   ]
  },
  {
   "cell_type": "code",
   "execution_count": 79,
   "metadata": {},
   "outputs": [],
   "source": [
    "using Statistics"
   ]
  },
  {
   "cell_type": "code",
   "execution_count": 80,
   "metadata": {},
   "outputs": [
    {
     "data": {
      "text/html": [
       "<div><div style = \"float: left;\"><span>1×1 DataFrame</span></div><div style = \"clear: both;\"></div></div><div class = \"data-frame\" style = \"overflow-x: scroll;\"><table class = \"data-frame\" style = \"margin-bottom: 6px;\"><thead><tr class = \"header\"><th class = \"rowNumber\" style = \"font-weight: bold; text-align: right;\">Row</th><th style = \"text-align: left;\">x1_x2_cor</th></tr><tr class = \"subheader headerLastRow\"><th class = \"rowNumber\" style = \"font-weight: bold; text-align: right;\"></th><th title = \"Float64\" style = \"text-align: left;\">Float64</th></tr></thead><tbody><tr><td class = \"rowNumber\" style = \"font-weight: bold; text-align: right;\">1</td><td style = \"text-align: right;\">1.0</td></tr></tbody></table></div>"
      ],
      "text/latex": [
       "\\begin{tabular}{r|c}\n",
       "\t& x1\\_x2\\_cor\\\\\n",
       "\t\\hline\n",
       "\t& Float64\\\\\n",
       "\t\\hline\n",
       "\t1 & 1.0 \\\\\n",
       "\\end{tabular}\n"
      ],
      "text/plain": [
       "\u001b[1m1×1 DataFrame\u001b[0m\n",
       "\u001b[1m Row \u001b[0m│\u001b[1m x1_x2_cor \u001b[0m\n",
       "     │\u001b[90m Float64   \u001b[0m\n",
       "─────┼───────────\n",
       "   1 │       1.0"
      ]
     },
     "execution_count": 80,
     "metadata": {},
     "output_type": "execute_result"
    }
   ],
   "source": [
    "combine(df, [:x1, :x2] => cor)"
   ]
  },
  {
   "cell_type": "markdown",
   "metadata": {},
   "source": [
    "Note that `combine` allowed the number of columns in the resulting data frame to be changed. If we used `select` instead it would automatically broadcast the return value to match the number of rouws of the source:"
   ]
  },
  {
   "cell_type": "code",
   "execution_count": 81,
   "metadata": {},
   "outputs": [
    {
     "data": {
      "text/html": [
       "<div><div style = \"float: left;\"><span>3×1 DataFrame</span></div><div style = \"clear: both;\"></div></div><div class = \"data-frame\" style = \"overflow-x: scroll;\"><table class = \"data-frame\" style = \"margin-bottom: 6px;\"><thead><tr class = \"header\"><th class = \"rowNumber\" style = \"font-weight: bold; text-align: right;\">Row</th><th style = \"text-align: left;\">x1_x2_cor</th></tr><tr class = \"subheader headerLastRow\"><th class = \"rowNumber\" style = \"font-weight: bold; text-align: right;\"></th><th title = \"Float64\" style = \"text-align: left;\">Float64</th></tr></thead><tbody><tr><td class = \"rowNumber\" style = \"font-weight: bold; text-align: right;\">1</td><td style = \"text-align: right;\">1.0</td></tr><tr><td class = \"rowNumber\" style = \"font-weight: bold; text-align: right;\">2</td><td style = \"text-align: right;\">1.0</td></tr><tr><td class = \"rowNumber\" style = \"font-weight: bold; text-align: right;\">3</td><td style = \"text-align: right;\">1.0</td></tr></tbody></table></div>"
      ],
      "text/latex": [
       "\\begin{tabular}{r|c}\n",
       "\t& x1\\_x2\\_cor\\\\\n",
       "\t\\hline\n",
       "\t& Float64\\\\\n",
       "\t\\hline\n",
       "\t1 & 1.0 \\\\\n",
       "\t2 & 1.0 \\\\\n",
       "\t3 & 1.0 \\\\\n",
       "\\end{tabular}\n"
      ],
      "text/plain": [
       "\u001b[1m3×1 DataFrame\u001b[0m\n",
       "\u001b[1m Row \u001b[0m│\u001b[1m x1_x2_cor \u001b[0m\n",
       "     │\u001b[90m Float64   \u001b[0m\n",
       "─────┼───────────\n",
       "   1 │       1.0\n",
       "   2 │       1.0\n",
       "   3 │       1.0"
      ]
     },
     "execution_count": 81,
     "metadata": {},
     "output_type": "execute_result"
    }
   ],
   "source": [
    "select(df, [:x1, :x2] => cor)"
   ]
  },
  {
   "cell_type": "markdown",
   "metadata": {},
   "source": [
    "If you want to apply some function on each row of the source wrap it in `ByRow`:"
   ]
  },
  {
   "cell_type": "code",
   "execution_count": 82,
   "metadata": {},
   "outputs": [
    {
     "data": {
      "text/html": [
       "<div><div style = \"float: left;\"><span>3×3 DataFrame</span></div><div style = \"clear: both;\"></div></div><div class = \"data-frame\" style = \"overflow-x: scroll;\"><table class = \"data-frame\" style = \"margin-bottom: 6px;\"><thead><tr class = \"header\"><th class = \"rowNumber\" style = \"font-weight: bold; text-align: right;\">Row</th><th style = \"text-align: left;\">x1</th><th style = \"text-align: left;\">x2</th><th style = \"text-align: left;\">x1_x2_string</th></tr><tr class = \"subheader headerLastRow\"><th class = \"rowNumber\" style = \"font-weight: bold; text-align: right;\"></th><th title = \"Int64\" style = \"text-align: left;\">Int64</th><th title = \"Int64\" style = \"text-align: left;\">Int64</th><th title = \"String\" style = \"text-align: left;\">String</th></tr></thead><tbody><tr><td class = \"rowNumber\" style = \"font-weight: bold; text-align: right;\">1</td><td style = \"text-align: right;\">1</td><td style = \"text-align: right;\">4</td><td style = \"text-align: left;\">14</td></tr><tr><td class = \"rowNumber\" style = \"font-weight: bold; text-align: right;\">2</td><td style = \"text-align: right;\">2</td><td style = \"text-align: right;\">5</td><td style = \"text-align: left;\">25</td></tr><tr><td class = \"rowNumber\" style = \"font-weight: bold; text-align: right;\">3</td><td style = \"text-align: right;\">3</td><td style = \"text-align: right;\">6</td><td style = \"text-align: left;\">36</td></tr></tbody></table></div>"
      ],
      "text/latex": [
       "\\begin{tabular}{r|ccc}\n",
       "\t& x1 & x2 & x1\\_x2\\_string\\\\\n",
       "\t\\hline\n",
       "\t& Int64 & Int64 & String\\\\\n",
       "\t\\hline\n",
       "\t1 & 1 & 4 & 14 \\\\\n",
       "\t2 & 2 & 5 & 25 \\\\\n",
       "\t3 & 3 & 6 & 36 \\\\\n",
       "\\end{tabular}\n"
      ],
      "text/plain": [
       "\u001b[1m3×3 DataFrame\u001b[0m\n",
       "\u001b[1m Row \u001b[0m│\u001b[1m x1    \u001b[0m\u001b[1m x2    \u001b[0m\u001b[1m x1_x2_string \u001b[0m\n",
       "     │\u001b[90m Int64 \u001b[0m\u001b[90m Int64 \u001b[0m\u001b[90m String       \u001b[0m\n",
       "─────┼────────────────────────────\n",
       "   1 │     1      4  14\n",
       "   2 │     2      5  25\n",
       "   3 │     3      6  36"
      ]
     },
     "execution_count": 82,
     "metadata": {},
     "output_type": "execute_result"
    }
   ],
   "source": [
    "select(df, :x1, :x2, [:x1, :x2] => ByRow(string))"
   ]
  },
  {
   "cell_type": "markdown",
   "metadata": {},
   "source": [
    "Also if you want columns to be passed as a `NamedTuple` to a funcion (instead of being positional arguments) wrap them in `AsTable`:"
   ]
  },
  {
   "cell_type": "code",
   "execution_count": 83,
   "metadata": {},
   "outputs": [
    {
     "data": {
      "text/html": [
       "<div><div style = \"float: left;\"><span>3×3 DataFrame</span></div><div style = \"clear: both;\"></div></div><div class = \"data-frame\" style = \"overflow-x: scroll;\"><table class = \"data-frame\" style = \"margin-bottom: 6px;\"><thead><tr class = \"header\"><th class = \"rowNumber\" style = \"font-weight: bold; text-align: right;\">Row</th><th style = \"text-align: left;\">x1</th><th style = \"text-align: left;\">x2</th><th style = \"text-align: left;\">x1_x2_function</th></tr><tr class = \"subheader headerLastRow\"><th class = \"rowNumber\" style = \"font-weight: bold; text-align: right;\"></th><th title = \"Int64\" style = \"text-align: left;\">Int64</th><th title = \"Int64\" style = \"text-align: left;\">Int64</th><th title = \"Int64\" style = \"text-align: left;\">Int64</th></tr></thead><tbody><tr><td class = \"rowNumber\" style = \"font-weight: bold; text-align: right;\">1</td><td style = \"text-align: right;\">1</td><td style = \"text-align: right;\">4</td><td style = \"text-align: right;\">5</td></tr><tr><td class = \"rowNumber\" style = \"font-weight: bold; text-align: right;\">2</td><td style = \"text-align: right;\">2</td><td style = \"text-align: right;\">5</td><td style = \"text-align: right;\">7</td></tr><tr><td class = \"rowNumber\" style = \"font-weight: bold; text-align: right;\">3</td><td style = \"text-align: right;\">3</td><td style = \"text-align: right;\">6</td><td style = \"text-align: right;\">9</td></tr></tbody></table></div>"
      ],
      "text/latex": [
       "\\begin{tabular}{r|ccc}\n",
       "\t& x1 & x2 & x1\\_x2\\_function\\\\\n",
       "\t\\hline\n",
       "\t& Int64 & Int64 & Int64\\\\\n",
       "\t\\hline\n",
       "\t1 & 1 & 4 & 5 \\\\\n",
       "\t2 & 2 & 5 & 7 \\\\\n",
       "\t3 & 3 & 6 & 9 \\\\\n",
       "\\end{tabular}\n"
      ],
      "text/plain": [
       "\u001b[1m3×3 DataFrame\u001b[0m\n",
       "\u001b[1m Row \u001b[0m│\u001b[1m x1    \u001b[0m\u001b[1m x2    \u001b[0m\u001b[1m x1_x2_function \u001b[0m\n",
       "     │\u001b[90m Int64 \u001b[0m\u001b[90m Int64 \u001b[0m\u001b[90m Int64          \u001b[0m\n",
       "─────┼──────────────────────────────\n",
       "   1 │     1      4               5\n",
       "   2 │     2      5               7\n",
       "   3 │     3      6               9"
      ]
     },
     "execution_count": 83,
     "metadata": {},
     "output_type": "execute_result"
    }
   ],
   "source": [
    "select(df, :x1, :x2, AsTable([:x1, :x2]) => x -> x.x1 + x.x2)"
   ]
  },
  {
   "cell_type": "markdown",
   "metadata": {},
   "source": [
    "For simplicity (as this functionality is often needed) there is a special treatement of `nrow` function that can be just passed as a transformation (without specifying of column selector):"
   ]
  },
  {
   "cell_type": "code",
   "execution_count": 84,
   "metadata": {},
   "outputs": [
    {
     "data": {
      "text/html": [
       "<div><div style = \"float: left;\"><span>3×2 DataFrame</span></div><div style = \"clear: both;\"></div></div><div class = \"data-frame\" style = \"overflow-x: scroll;\"><table class = \"data-frame\" style = \"margin-bottom: 6px;\"><thead><tr class = \"header\"><th class = \"rowNumber\" style = \"font-weight: bold; text-align: right;\">Row</th><th style = \"text-align: left;\">x1</th><th style = \"text-align: left;\">number_of_rows</th></tr><tr class = \"subheader headerLastRow\"><th class = \"rowNumber\" style = \"font-weight: bold; text-align: right;\"></th><th title = \"Int64\" style = \"text-align: left;\">Int64</th><th title = \"Int64\" style = \"text-align: left;\">Int64</th></tr></thead><tbody><tr><td class = \"rowNumber\" style = \"font-weight: bold; text-align: right;\">1</td><td style = \"text-align: right;\">1</td><td style = \"text-align: right;\">3</td></tr><tr><td class = \"rowNumber\" style = \"font-weight: bold; text-align: right;\">2</td><td style = \"text-align: right;\">2</td><td style = \"text-align: right;\">3</td></tr><tr><td class = \"rowNumber\" style = \"font-weight: bold; text-align: right;\">3</td><td style = \"text-align: right;\">3</td><td style = \"text-align: right;\">3</td></tr></tbody></table></div>"
      ],
      "text/latex": [
       "\\begin{tabular}{r|cc}\n",
       "\t& x1 & number\\_of\\_rows\\\\\n",
       "\t\\hline\n",
       "\t& Int64 & Int64\\\\\n",
       "\t\\hline\n",
       "\t1 & 1 & 3 \\\\\n",
       "\t2 & 2 & 3 \\\\\n",
       "\t3 & 3 & 3 \\\\\n",
       "\\end{tabular}\n"
      ],
      "text/plain": [
       "\u001b[1m3×2 DataFrame\u001b[0m\n",
       "\u001b[1m Row \u001b[0m│\u001b[1m x1    \u001b[0m\u001b[1m number_of_rows \u001b[0m\n",
       "     │\u001b[90m Int64 \u001b[0m\u001b[90m Int64          \u001b[0m\n",
       "─────┼───────────────────────\n",
       "   1 │     1               3\n",
       "   2 │     2               3\n",
       "   3 │     3               3"
      ]
     },
     "execution_count": 84,
     "metadata": {},
     "output_type": "execute_result"
    }
   ],
   "source": [
    "select(df, :x1, nrow => \"number_of_rows\")"
   ]
  },
  {
   "cell_type": "markdown",
   "metadata": {},
   "source": [
    "(note that in `select` the number of rows is automatically broadcasted to match the number of rows of the source data frame)"
   ]
  },
  {
   "cell_type": "markdown",
   "metadata": {},
   "source": [
    "Finally you can conveninently create multiple columns with one function, e.g.:"
   ]
  },
  {
   "cell_type": "code",
   "execution_count": 85,
   "metadata": {},
   "outputs": [
    {
     "data": {
      "text/html": [
       "<div><div style = \"float: left;\"><span>3×3 DataFrame</span></div><div style = \"clear: both;\"></div></div><div class = \"data-frame\" style = \"overflow-x: scroll;\"><table class = \"data-frame\" style = \"margin-bottom: 6px;\"><thead><tr class = \"header\"><th class = \"rowNumber\" style = \"font-weight: bold; text-align: right;\">Row</th><th style = \"text-align: left;\">x1</th><th style = \"text-align: left;\">x1²</th><th style = \"text-align: left;\">x1³</th></tr><tr class = \"subheader headerLastRow\"><th class = \"rowNumber\" style = \"font-weight: bold; text-align: right;\"></th><th title = \"Int64\" style = \"text-align: left;\">Int64</th><th title = \"Int64\" style = \"text-align: left;\">Int64</th><th title = \"Int64\" style = \"text-align: left;\">Int64</th></tr></thead><tbody><tr><td class = \"rowNumber\" style = \"font-weight: bold; text-align: right;\">1</td><td style = \"text-align: right;\">1</td><td style = \"text-align: right;\">1</td><td style = \"text-align: right;\">1</td></tr><tr><td class = \"rowNumber\" style = \"font-weight: bold; text-align: right;\">2</td><td style = \"text-align: right;\">2</td><td style = \"text-align: right;\">4</td><td style = \"text-align: right;\">8</td></tr><tr><td class = \"rowNumber\" style = \"font-weight: bold; text-align: right;\">3</td><td style = \"text-align: right;\">3</td><td style = \"text-align: right;\">9</td><td style = \"text-align: right;\">27</td></tr></tbody></table></div>"
      ],
      "text/latex": [
       "\\begin{tabular}{r|ccc}\n",
       "\t& x1 & x1² & x1³\\\\\n",
       "\t\\hline\n",
       "\t& Int64 & Int64 & Int64\\\\\n",
       "\t\\hline\n",
       "\t1 & 1 & 1 & 1 \\\\\n",
       "\t2 & 2 & 4 & 8 \\\\\n",
       "\t3 & 3 & 9 & 27 \\\\\n",
       "\\end{tabular}\n"
      ],
      "text/plain": [
       "\u001b[1m3×3 DataFrame\u001b[0m\n",
       "\u001b[1m Row \u001b[0m│\u001b[1m x1    \u001b[0m\u001b[1m x1²   \u001b[0m\u001b[1m x1³   \u001b[0m\n",
       "     │\u001b[90m Int64 \u001b[0m\u001b[90m Int64 \u001b[0m\u001b[90m Int64 \u001b[0m\n",
       "─────┼─────────────────────\n",
       "   1 │     1      1      1\n",
       "   2 │     2      4      8\n",
       "   3 │     3      9     27"
      ]
     },
     "execution_count": 85,
     "metadata": {},
     "output_type": "execute_result"
    }
   ],
   "source": [
    "select(df, :x1, :x1 => ByRow(x -> [x ^ 2, x ^ 3]) => [\"x1²\", \"x1³\"])"
   ]
  },
  {
   "cell_type": "markdown",
   "metadata": {},
   "source": [
    "or e.g. (this produces the same result)"
   ]
  },
  {
   "cell_type": "code",
   "execution_count": 86,
   "metadata": {},
   "outputs": [
    {
     "data": {
      "text/html": [
       "<div><div style = \"float: left;\"><span>3×3 DataFrame</span></div><div style = \"clear: both;\"></div></div><div class = \"data-frame\" style = \"overflow-x: scroll;\"><table class = \"data-frame\" style = \"margin-bottom: 6px;\"><thead><tr class = \"header\"><th class = \"rowNumber\" style = \"font-weight: bold; text-align: right;\">Row</th><th style = \"text-align: left;\">x1</th><th style = \"text-align: left;\">x1²</th><th style = \"text-align: left;\">x1³</th></tr><tr class = \"subheader headerLastRow\"><th class = \"rowNumber\" style = \"font-weight: bold; text-align: right;\"></th><th title = \"Int64\" style = \"text-align: left;\">Int64</th><th title = \"Int64\" style = \"text-align: left;\">Int64</th><th title = \"Int64\" style = \"text-align: left;\">Int64</th></tr></thead><tbody><tr><td class = \"rowNumber\" style = \"font-weight: bold; text-align: right;\">1</td><td style = \"text-align: right;\">1</td><td style = \"text-align: right;\">1</td><td style = \"text-align: right;\">1</td></tr><tr><td class = \"rowNumber\" style = \"font-weight: bold; text-align: right;\">2</td><td style = \"text-align: right;\">2</td><td style = \"text-align: right;\">4</td><td style = \"text-align: right;\">8</td></tr><tr><td class = \"rowNumber\" style = \"font-weight: bold; text-align: right;\">3</td><td style = \"text-align: right;\">3</td><td style = \"text-align: right;\">9</td><td style = \"text-align: right;\">27</td></tr></tbody></table></div>"
      ],
      "text/latex": [
       "\\begin{tabular}{r|ccc}\n",
       "\t& x1 & x1² & x1³\\\\\n",
       "\t\\hline\n",
       "\t& Int64 & Int64 & Int64\\\\\n",
       "\t\\hline\n",
       "\t1 & 1 & 1 & 1 \\\\\n",
       "\t2 & 2 & 4 & 8 \\\\\n",
       "\t3 & 3 & 9 & 27 \\\\\n",
       "\\end{tabular}\n"
      ],
      "text/plain": [
       "\u001b[1m3×3 DataFrame\u001b[0m\n",
       "\u001b[1m Row \u001b[0m│\u001b[1m x1    \u001b[0m\u001b[1m x1²   \u001b[0m\u001b[1m x1³   \u001b[0m\n",
       "     │\u001b[90m Int64 \u001b[0m\u001b[90m Int64 \u001b[0m\u001b[90m Int64 \u001b[0m\n",
       "─────┼─────────────────────\n",
       "   1 │     1      1      1\n",
       "   2 │     2      4      8\n",
       "   3 │     3      9     27"
      ]
     },
     "execution_count": 86,
     "metadata": {},
     "output_type": "execute_result"
    }
   ],
   "source": [
    "select(df, :x1, :x1 => (x -> DataFrame(\"x1²\" => x .^ 2, \"x1³\" => x .^ 3)) => AsTable)"
   ]
  },
  {
   "cell_type": "markdown",
   "metadata": {},
   "source": [
    "Note that since DataFrames.jl row aggregation for wide tables is efficient. Here is an example of a wide table with `sum` (other standard reductions are similarly supported):"
   ]
  },
  {
   "cell_type": "code",
   "execution_count": 87,
   "metadata": {},
   "outputs": [
    {
     "data": {
      "text/html": [
       "<div><div style = \"float: left;\"><span>1000×10000 DataFrame</span></div><div style = \"float: right;\"><span style = \"font-style: italic;\">9900 columns and 975 rows omitted</span></div><div style = \"clear: both;\"></div></div><div class = \"data-frame\" style = \"overflow-x: scroll;\"><table class = \"data-frame\" style = \"margin-bottom: 6px;\"><thead><tr class = \"header\"><th class = \"rowNumber\" style = \"font-weight: bold; text-align: right;\">Row</th><th style = \"text-align: left;\">x1</th><th style = \"text-align: left;\">x2</th><th style = \"text-align: left;\">x3</th><th style = \"text-align: left;\">x4</th><th style = \"text-align: left;\">x5</th><th style = \"text-align: left;\">x6</th><th style = \"text-align: left;\">x7</th><th style = \"text-align: left;\">x8</th><th style = \"text-align: left;\">x9</th><th style = \"text-align: left;\">x10</th><th style = \"text-align: left;\">x11</th><th style = \"text-align: left;\">x12</th><th style = \"text-align: left;\">x13</th><th style = \"text-align: left;\">x14</th><th style = \"text-align: left;\">x15</th><th style = \"text-align: left;\">x16</th><th style = \"text-align: left;\">x17</th><th style = \"text-align: left;\">x18</th><th style = \"text-align: left;\">x19</th><th style = \"text-align: left;\">x20</th><th style = \"text-align: left;\">x21</th><th style = \"text-align: left;\">x22</th><th style = \"text-align: left;\">x23</th><th style = \"text-align: left;\">x24</th><th style = \"text-align: left;\">x25</th><th style = \"text-align: left;\">x26</th><th style = \"text-align: left;\">x27</th><th style = \"text-align: left;\">x28</th><th style = \"text-align: left;\">x29</th><th style = \"text-align: left;\">x30</th><th style = \"text-align: left;\">x31</th><th style = \"text-align: left;\">x32</th><th style = \"text-align: left;\">x33</th><th style = \"text-align: left;\">x34</th><th style = \"text-align: left;\">x35</th><th style = \"text-align: left;\">x36</th><th style = \"text-align: left;\">x37</th><th style = \"text-align: left;\">x38</th><th style = \"text-align: left;\">x39</th><th style = \"text-align: left;\">x40</th><th style = \"text-align: left;\">x41</th><th style = \"text-align: left;\">x42</th><th style = \"text-align: left;\">x43</th><th style = \"text-align: left;\">x44</th><th style = \"text-align: left;\">x45</th><th style = \"text-align: left;\">x46</th><th style = \"text-align: left;\">x47</th><th style = \"text-align: left;\">x48</th><th style = \"text-align: left;\">x49</th><th style = \"text-align: left;\">x50</th><th style = \"text-align: left;\">x51</th><th style = \"text-align: left;\">x52</th><th style = \"text-align: left;\">x53</th><th style = \"text-align: left;\">x54</th><th style = \"text-align: left;\">x55</th><th style = \"text-align: left;\">x56</th><th style = \"text-align: left;\">x57</th><th style = \"text-align: left;\">x58</th><th style = \"text-align: left;\">x59</th><th style = \"text-align: left;\">x60</th><th style = \"text-align: left;\">x61</th><th style = \"text-align: left;\">x62</th><th style = \"text-align: left;\">x63</th><th style = \"text-align: left;\">x64</th><th style = \"text-align: left;\">x65</th><th style = \"text-align: left;\">x66</th><th style = \"text-align: left;\">x67</th><th style = \"text-align: left;\">x68</th><th style = \"text-align: left;\">x69</th><th style = \"text-align: left;\">x70</th><th style = \"text-align: left;\">x71</th><th style = \"text-align: left;\">x72</th><th style = \"text-align: left;\">x73</th><th style = \"text-align: left;\">x74</th><th style = \"text-align: left;\">x75</th><th style = \"text-align: left;\">x76</th><th style = \"text-align: left;\">x77</th><th style = \"text-align: left;\">x78</th><th style = \"text-align: left;\">x79</th><th style = \"text-align: left;\">x80</th><th style = \"text-align: left;\">x81</th><th style = \"text-align: left;\">x82</th><th style = \"text-align: left;\">x83</th><th style = \"text-align: left;\">x84</th><th style = \"text-align: left;\">x85</th><th style = \"text-align: left;\">x86</th><th style = \"text-align: left;\">x87</th><th style = \"text-align: left;\">x88</th><th style = \"text-align: left;\">x89</th><th style = \"text-align: left;\">x90</th><th style = \"text-align: left;\">x91</th><th style = \"text-align: left;\">x92</th><th style = \"text-align: left;\">x93</th><th style = \"text-align: left;\">x94</th><th style = \"text-align: left;\">x95</th><th style = \"text-align: left;\">x96</th><th style = \"text-align: left;\">x97</th><th style = \"text-align: left;\">x98</th><th style = \"text-align: left;\">x99</th><th style = \"text-align: left;\">x100</th><th style = \"text-align: right;\">&ctdot;</th></tr><tr class = \"subheader headerLastRow\"><th class = \"rowNumber\" style = \"font-weight: bold; text-align: right;\"></th><th title = \"Float64\" style = \"text-align: left;\">Float64</th><th title = \"Float64\" style = \"text-align: left;\">Float64</th><th title = \"Float64\" style = \"text-align: left;\">Float64</th><th title = \"Float64\" style = \"text-align: left;\">Float64</th><th title = \"Float64\" style = \"text-align: left;\">Float64</th><th title = \"Float64\" style = \"text-align: left;\">Float64</th><th title = \"Float64\" style = \"text-align: left;\">Float64</th><th title = \"Float64\" style = \"text-align: left;\">Float64</th><th title = \"Float64\" style = \"text-align: left;\">Float64</th><th title = \"Float64\" style = \"text-align: left;\">Float64</th><th title = \"Float64\" style = \"text-align: left;\">Float64</th><th title = \"Float64\" style = \"text-align: left;\">Float64</th><th title = \"Float64\" style = \"text-align: left;\">Float64</th><th title = \"Float64\" style = \"text-align: left;\">Float64</th><th title = \"Float64\" style = \"text-align: left;\">Float64</th><th title = \"Float64\" style = \"text-align: left;\">Float64</th><th title = \"Float64\" style = \"text-align: left;\">Float64</th><th title = \"Float64\" style = \"text-align: left;\">Float64</th><th title = \"Float64\" style = \"text-align: left;\">Float64</th><th title = \"Float64\" style = \"text-align: left;\">Float64</th><th title = \"Float64\" style = \"text-align: left;\">Float64</th><th title = \"Float64\" style = \"text-align: left;\">Float64</th><th title = \"Float64\" style = \"text-align: left;\">Float64</th><th title = \"Float64\" style = \"text-align: left;\">Float64</th><th title = \"Float64\" style = \"text-align: left;\">Float64</th><th title = \"Float64\" style = \"text-align: left;\">Float64</th><th title = \"Float64\" style = \"text-align: left;\">Float64</th><th title = \"Float64\" style = \"text-align: left;\">Float64</th><th title = \"Float64\" style = \"text-align: left;\">Float64</th><th title = \"Float64\" style = \"text-align: left;\">Float64</th><th title = \"Float64\" style = \"text-align: left;\">Float64</th><th title = \"Float64\" style = \"text-align: left;\">Float64</th><th title = \"Float64\" style = \"text-align: left;\">Float64</th><th title = \"Float64\" style = \"text-align: left;\">Float64</th><th title = \"Float64\" style = \"text-align: left;\">Float64</th><th title = \"Float64\" style = \"text-align: left;\">Float64</th><th title = \"Float64\" style = \"text-align: left;\">Float64</th><th title = \"Float64\" style = \"text-align: left;\">Float64</th><th title = \"Float64\" style = \"text-align: left;\">Float64</th><th title = \"Float64\" style = \"text-align: left;\">Float64</th><th title = \"Float64\" style = \"text-align: left;\">Float64</th><th title = \"Float64\" style = \"text-align: left;\">Float64</th><th title = \"Float64\" style = \"text-align: left;\">Float64</th><th title = \"Float64\" style = \"text-align: left;\">Float64</th><th title = \"Float64\" style = \"text-align: left;\">Float64</th><th title = \"Float64\" style = \"text-align: left;\">Float64</th><th title = \"Float64\" style = \"text-align: left;\">Float64</th><th title = \"Float64\" style = \"text-align: left;\">Float64</th><th title = \"Float64\" style = \"text-align: left;\">Float64</th><th title = \"Float64\" style = \"text-align: left;\">Float64</th><th title = \"Float64\" style = \"text-align: left;\">Float64</th><th title = \"Float64\" style = \"text-align: left;\">Float64</th><th title = \"Float64\" style = \"text-align: left;\">Float64</th><th title = \"Float64\" style = \"text-align: left;\">Float64</th><th title = \"Float64\" style = \"text-align: left;\">Float64</th><th title = \"Float64\" style = \"text-align: left;\">Float64</th><th title = \"Float64\" style = \"text-align: left;\">Float64</th><th title = \"Float64\" style = \"text-align: left;\">Float64</th><th title = \"Float64\" style = \"text-align: left;\">Float64</th><th title = \"Float64\" style = \"text-align: left;\">Float64</th><th title = \"Float64\" style = \"text-align: left;\">Float64</th><th title = \"Float64\" style = \"text-align: left;\">Float64</th><th title = \"Float64\" style = \"text-align: left;\">Float64</th><th title = \"Float64\" style = \"text-align: left;\">Float64</th><th title = \"Float64\" style = \"text-align: left;\">Float64</th><th title = \"Float64\" style = \"text-align: left;\">Float64</th><th title = \"Float64\" style = \"text-align: left;\">Float64</th><th title = \"Float64\" style = \"text-align: left;\">Float64</th><th title = \"Float64\" style = \"text-align: left;\">Float64</th><th title = \"Float64\" style = \"text-align: left;\">Float64</th><th title = \"Float64\" style = \"text-align: left;\">Float64</th><th title = \"Float64\" style = \"text-align: left;\">Float64</th><th title = \"Float64\" style = \"text-align: left;\">Float64</th><th title = \"Float64\" style = \"text-align: left;\">Float64</th><th title = \"Float64\" style = \"text-align: left;\">Float64</th><th title = \"Float64\" style = \"text-align: left;\">Float64</th><th title = \"Float64\" style = \"text-align: left;\">Float64</th><th title = \"Float64\" style = \"text-align: left;\">Float64</th><th title = \"Float64\" style = \"text-align: left;\">Float64</th><th title = \"Float64\" style = \"text-align: left;\">Float64</th><th title = \"Float64\" style = \"text-align: left;\">Float64</th><th title = \"Float64\" style = \"text-align: left;\">Float64</th><th title = \"Float64\" style = \"text-align: left;\">Float64</th><th title = \"Float64\" style = \"text-align: left;\">Float64</th><th title = \"Float64\" style = \"text-align: left;\">Float64</th><th title = \"Float64\" style = \"text-align: left;\">Float64</th><th title = \"Float64\" style = \"text-align: left;\">Float64</th><th title = \"Float64\" style = \"text-align: left;\">Float64</th><th title = \"Float64\" style = \"text-align: left;\">Float64</th><th title = \"Float64\" style = \"text-align: left;\">Float64</th><th title = \"Float64\" style = \"text-align: left;\">Float64</th><th title = \"Float64\" style = \"text-align: left;\">Float64</th><th title = \"Float64\" style = \"text-align: left;\">Float64</th><th title = \"Float64\" style = \"text-align: left;\">Float64</th><th title = \"Float64\" style = \"text-align: left;\">Float64</th><th title = \"Float64\" style = \"text-align: left;\">Float64</th><th title = \"Float64\" style = \"text-align: left;\">Float64</th><th title = \"Float64\" style = \"text-align: left;\">Float64</th><th title = \"Float64\" style = \"text-align: left;\">Float64</th><th title = \"Float64\" style = \"text-align: left;\">Float64</th><th title = \"Float64\" style = \"text-align: right;\">&ctdot;</th></tr></thead><tbody><tr><td class = \"rowNumber\" style = \"font-weight: bold; text-align: right;\">1</td><td style = \"text-align: right;\">0.0149088</td><td style = \"text-align: right;\">0.177963</td><td style = \"text-align: right;\">0.374975</td><td style = \"text-align: right;\">0.694063</td><td style = \"text-align: right;\">0.290585</td><td style = \"text-align: right;\">0.296972</td><td style = \"text-align: right;\">0.151378</td><td style = \"text-align: right;\">0.0895086</td><td style = \"text-align: right;\">0.160365</td><td style = \"text-align: right;\">0.34983</td><td style = \"text-align: right;\">0.620936</td><td style = \"text-align: right;\">0.523452</td><td style = \"text-align: right;\">0.338873</td><td style = \"text-align: right;\">0.345876</td><td style = \"text-align: right;\">0.0554305</td><td style = \"text-align: right;\">0.318905</td><td style = \"text-align: right;\">0.731403</td><td style = \"text-align: right;\">0.0512964</td><td style = \"text-align: right;\">0.410298</td><td style = \"text-align: right;\">0.704251</td><td style = \"text-align: right;\">0.764749</td><td style = \"text-align: right;\">0.433943</td><td style = \"text-align: right;\">0.285334</td><td style = \"text-align: right;\">0.272852</td><td style = \"text-align: right;\">0.347178</td><td style = \"text-align: right;\">0.418385</td><td style = \"text-align: right;\">0.244038</td><td style = \"text-align: right;\">0.80504</td><td style = \"text-align: right;\">0.439898</td><td style = \"text-align: right;\">0.749506</td><td style = \"text-align: right;\">0.786246</td><td style = \"text-align: right;\">0.900965</td><td style = \"text-align: right;\">0.295996</td><td style = \"text-align: right;\">0.746868</td><td style = \"text-align: right;\">0.422829</td><td style = \"text-align: right;\">0.234034</td><td style = \"text-align: right;\">0.577203</td><td style = \"text-align: right;\">0.146846</td><td style = \"text-align: right;\">0.793704</td><td style = \"text-align: right;\">0.487894</td><td style = \"text-align: right;\">0.631279</td><td style = \"text-align: right;\">0.67129</td><td style = \"text-align: right;\">0.106474</td><td style = \"text-align: right;\">0.528607</td><td style = \"text-align: right;\">0.307837</td><td style = \"text-align: right;\">0.502022</td><td style = \"text-align: right;\">0.0295761</td><td style = \"text-align: right;\">0.292053</td><td style = \"text-align: right;\">0.429436</td><td style = \"text-align: right;\">0.565343</td><td style = \"text-align: right;\">0.432389</td><td style = \"text-align: right;\">0.228183</td><td style = \"text-align: right;\">0.490389</td><td style = \"text-align: right;\">0.178154</td><td style = \"text-align: right;\">0.596335</td><td style = \"text-align: right;\">0.896194</td><td style = \"text-align: right;\">0.874415</td><td style = \"text-align: right;\">0.632939</td><td style = \"text-align: right;\">0.76408</td><td style = \"text-align: right;\">0.591913</td><td style = \"text-align: right;\">0.810214</td><td style = \"text-align: right;\">0.547853</td><td style = \"text-align: right;\">0.0568375</td><td style = \"text-align: right;\">0.608492</td><td style = \"text-align: right;\">0.939105</td><td style = \"text-align: right;\">0.858401</td><td style = \"text-align: right;\">0.54132</td><td style = \"text-align: right;\">0.52386</td><td style = \"text-align: right;\">0.0726798</td><td style = \"text-align: right;\">0.0929697</td><td style = \"text-align: right;\">0.735107</td><td style = \"text-align: right;\">0.693431</td><td style = \"text-align: right;\">0.35952</td><td style = \"text-align: right;\">0.303867</td><td style = \"text-align: right;\">0.159923</td><td style = \"text-align: right;\">0.0273659</td><td style = \"text-align: right;\">0.580728</td><td style = \"text-align: right;\">0.146714</td><td style = \"text-align: right;\">0.516603</td><td style = \"text-align: right;\">0.192205</td><td style = \"text-align: right;\">0.773247</td><td style = \"text-align: right;\">0.463275</td><td style = \"text-align: right;\">0.692037</td><td style = \"text-align: right;\">0.721464</td><td style = \"text-align: right;\">0.350054</td><td style = \"text-align: right;\">0.708989</td><td style = \"text-align: right;\">0.0366043</td><td style = \"text-align: right;\">0.732236</td><td style = \"text-align: right;\">0.849192</td><td style = \"text-align: right;\">0.379813</td><td style = \"text-align: right;\">0.389003</td><td style = \"text-align: right;\">0.00313487</td><td style = \"text-align: right;\">0.577076</td><td style = \"text-align: right;\">0.644305</td><td style = \"text-align: right;\">0.848968</td><td style = \"text-align: right;\">0.901229</td><td style = \"text-align: right;\">0.0207003</td><td style = \"text-align: right;\">0.580229</td><td style = \"text-align: right;\">0.113557</td><td style = \"text-align: right;\">0.426518</td><td style = \"text-align: right;\">&ctdot;</td></tr><tr><td class = \"rowNumber\" style = \"font-weight: bold; text-align: right;\">2</td><td style = \"text-align: right;\">0.520355</td><td style = \"text-align: right;\">0.670122</td><td style = \"text-align: right;\">0.387857</td><td style = \"text-align: right;\">0.724383</td><td style = \"text-align: right;\">0.0800228</td><td style = \"text-align: right;\">0.248548</td><td style = \"text-align: right;\">0.911363</td><td style = \"text-align: right;\">0.36889</td><td style = \"text-align: right;\">0.529752</td><td style = \"text-align: right;\">0.910771</td><td style = \"text-align: right;\">0.997118</td><td style = \"text-align: right;\">0.25405</td><td style = \"text-align: right;\">0.653331</td><td style = \"text-align: right;\">0.778802</td><td style = \"text-align: right;\">0.208101</td><td style = \"text-align: right;\">0.147263</td><td style = \"text-align: right;\">0.724127</td><td style = \"text-align: right;\">0.466017</td><td style = \"text-align: right;\">0.315177</td><td style = \"text-align: right;\">0.108208</td><td style = \"text-align: right;\">0.913713</td><td style = \"text-align: right;\">0.287405</td><td style = \"text-align: right;\">0.243088</td><td style = \"text-align: right;\">0.880804</td><td style = \"text-align: right;\">0.688204</td><td style = \"text-align: right;\">0.255706</td><td style = \"text-align: right;\">0.962344</td><td style = \"text-align: right;\">0.470052</td><td style = \"text-align: right;\">0.000956712</td><td style = \"text-align: right;\">0.914209</td><td style = \"text-align: right;\">0.793158</td><td style = \"text-align: right;\">0.282226</td><td style = \"text-align: right;\">0.212236</td><td style = \"text-align: right;\">0.347833</td><td style = \"text-align: right;\">0.662226</td><td style = \"text-align: right;\">0.411696</td><td style = \"text-align: right;\">0.906173</td><td style = \"text-align: right;\">0.0648159</td><td style = \"text-align: right;\">0.382069</td><td style = \"text-align: right;\">0.174568</td><td style = \"text-align: right;\">0.852559</td><td style = \"text-align: right;\">0.861592</td><td style = \"text-align: right;\">0.918437</td><td style = \"text-align: right;\">0.375104</td><td style = \"text-align: right;\">0.343001</td><td style = \"text-align: right;\">0.558225</td><td style = \"text-align: right;\">0.683841</td><td style = \"text-align: right;\">0.23744</td><td style = \"text-align: right;\">0.24166</td><td style = \"text-align: right;\">0.329452</td><td style = \"text-align: right;\">0.828058</td><td style = \"text-align: right;\">0.160971</td><td style = \"text-align: right;\">0.812828</td><td style = \"text-align: right;\">0.885788</td><td style = \"text-align: right;\">0.767927</td><td style = \"text-align: right;\">0.648915</td><td style = \"text-align: right;\">0.93628</td><td style = \"text-align: right;\">0.255611</td><td style = \"text-align: right;\">0.382833</td><td style = \"text-align: right;\">0.832244</td><td style = \"text-align: right;\">0.703672</td><td style = \"text-align: right;\">0.983996</td><td style = \"text-align: right;\">0.280333</td><td style = \"text-align: right;\">0.541443</td><td style = \"text-align: right;\">0.801407</td><td style = \"text-align: right;\">0.44169</td><td style = \"text-align: right;\">0.932841</td><td style = \"text-align: right;\">0.798906</td><td style = \"text-align: right;\">0.425353</td><td style = \"text-align: right;\">0.672373</td><td style = \"text-align: right;\">0.949815</td><td style = \"text-align: right;\">0.263668</td><td style = \"text-align: right;\">0.0377062</td><td style = \"text-align: right;\">0.558003</td><td style = \"text-align: right;\">0.297895</td><td style = \"text-align: right;\">0.526442</td><td style = \"text-align: right;\">0.698634</td><td style = \"text-align: right;\">0.264102</td><td style = \"text-align: right;\">0.83779</td><td style = \"text-align: right;\">0.275102</td><td style = \"text-align: right;\">0.0506671</td><td style = \"text-align: right;\">0.122803</td><td style = \"text-align: right;\">0.768489</td><td style = \"text-align: right;\">0.792194</td><td style = \"text-align: right;\">0.612094</td><td style = \"text-align: right;\">0.301353</td><td style = \"text-align: right;\">0.771368</td><td style = \"text-align: right;\">0.5832</td><td style = \"text-align: right;\">0.491879</td><td style = \"text-align: right;\">0.0327138</td><td style = \"text-align: right;\">0.897539</td><td style = \"text-align: right;\">0.0459418</td><td style = \"text-align: right;\">0.808951</td><td style = \"text-align: right;\">0.15295</td><td style = \"text-align: right;\">0.271582</td><td style = \"text-align: right;\">0.328406</td><td style = \"text-align: right;\">0.811824</td><td style = \"text-align: right;\">0.0813524</td><td style = \"text-align: right;\">0.00851212</td><td style = \"text-align: right;\">0.407592</td><td style = \"text-align: right;\">&ctdot;</td></tr><tr><td class = \"rowNumber\" style = \"font-weight: bold; text-align: right;\">3</td><td style = \"text-align: right;\">0.639562</td><td style = \"text-align: right;\">0.0423618</td><td style = \"text-align: right;\">0.779594</td><td style = \"text-align: right;\">0.130453</td><td style = \"text-align: right;\">0.173812</td><td style = \"text-align: right;\">0.525416</td><td style = \"text-align: right;\">0.324965</td><td style = \"text-align: right;\">0.905649</td><td style = \"text-align: right;\">0.0863895</td><td style = \"text-align: right;\">0.504512</td><td style = \"text-align: right;\">0.831362</td><td style = \"text-align: right;\">0.609332</td><td style = \"text-align: right;\">0.362646</td><td style = \"text-align: right;\">0.296489</td><td style = \"text-align: right;\">0.124294</td><td style = \"text-align: right;\">0.445428</td><td style = \"text-align: right;\">0.383877</td><td style = \"text-align: right;\">0.701939</td><td style = \"text-align: right;\">0.899178</td><td style = \"text-align: right;\">0.802026</td><td style = \"text-align: right;\">0.596313</td><td style = \"text-align: right;\">0.550465</td><td style = \"text-align: right;\">0.0130267</td><td style = \"text-align: right;\">0.305685</td><td style = \"text-align: right;\">0.242941</td><td style = \"text-align: right;\">0.976732</td><td style = \"text-align: right;\">0.855757</td><td style = \"text-align: right;\">0.185339</td><td style = \"text-align: right;\">0.492588</td><td style = \"text-align: right;\">0.886498</td><td style = \"text-align: right;\">0.0670387</td><td style = \"text-align: right;\">0.224632</td><td style = \"text-align: right;\">0.973181</td><td style = \"text-align: right;\">0.700497</td><td style = \"text-align: right;\">0.927605</td><td style = \"text-align: right;\">0.244754</td><td style = \"text-align: right;\">0.552813</td><td style = \"text-align: right;\">0.232683</td><td style = \"text-align: right;\">0.535975</td><td style = \"text-align: right;\">0.756654</td><td style = \"text-align: right;\">0.663562</td><td style = \"text-align: right;\">0.417351</td><td style = \"text-align: right;\">0.610787</td><td style = \"text-align: right;\">0.32249</td><td style = \"text-align: right;\">0.977989</td><td style = \"text-align: right;\">0.959334</td><td style = \"text-align: right;\">0.825686</td><td style = \"text-align: right;\">0.933289</td><td style = \"text-align: right;\">0.15489</td><td style = \"text-align: right;\">0.427586</td><td style = \"text-align: right;\">0.921159</td><td style = \"text-align: right;\">0.0408699</td><td style = \"text-align: right;\">0.178735</td><td style = \"text-align: right;\">0.182879</td><td style = \"text-align: right;\">0.299849</td><td style = \"text-align: right;\">0.646616</td><td style = \"text-align: right;\">0.163978</td><td style = \"text-align: right;\">0.685145</td><td style = \"text-align: right;\">0.897406</td><td style = \"text-align: right;\">0.689855</td><td style = \"text-align: right;\">0.430954</td><td style = \"text-align: right;\">0.695262</td><td style = \"text-align: right;\">0.00489971</td><td style = \"text-align: right;\">0.684737</td><td style = \"text-align: right;\">0.112393</td><td style = \"text-align: right;\">0.620627</td><td style = \"text-align: right;\">0.329097</td><td style = \"text-align: right;\">0.568049</td><td style = \"text-align: right;\">0.53415</td><td style = \"text-align: right;\">0.368477</td><td style = \"text-align: right;\">0.713737</td><td style = \"text-align: right;\">0.791697</td><td style = \"text-align: right;\">0.0436433</td><td style = \"text-align: right;\">0.356715</td><td style = \"text-align: right;\">0.29434</td><td style = \"text-align: right;\">0.8489</td><td style = \"text-align: right;\">0.73944</td><td style = \"text-align: right;\">0.577009</td><td style = \"text-align: right;\">0.369629</td><td style = \"text-align: right;\">0.0308708</td><td style = \"text-align: right;\">0.0632458</td><td style = \"text-align: right;\">0.668124</td><td style = \"text-align: right;\">0.481055</td><td style = \"text-align: right;\">0.629309</td><td style = \"text-align: right;\">0.93324</td><td style = \"text-align: right;\">0.107562</td><td style = \"text-align: right;\">0.982491</td><td style = \"text-align: right;\">0.453432</td><td style = \"text-align: right;\">0.281526</td><td style = \"text-align: right;\">0.372878</td><td style = \"text-align: right;\">0.837115</td><td style = \"text-align: right;\">0.196414</td><td style = \"text-align: right;\">0.776446</td><td style = \"text-align: right;\">0.191924</td><td style = \"text-align: right;\">0.256692</td><td style = \"text-align: right;\">0.0757817</td><td style = \"text-align: right;\">0.274321</td><td style = \"text-align: right;\">0.84296</td><td style = \"text-align: right;\">0.899023</td><td style = \"text-align: right;\">0.00600951</td><td style = \"text-align: right;\">&ctdot;</td></tr><tr><td class = \"rowNumber\" style = \"font-weight: bold; text-align: right;\">4</td><td style = \"text-align: right;\">0.839622</td><td style = \"text-align: right;\">0.740699</td><td style = \"text-align: right;\">0.360969</td><td style = \"text-align: right;\">0.456934</td><td style = \"text-align: right;\">0.398093</td><td style = \"text-align: right;\">0.509447</td><td style = \"text-align: right;\">0.335432</td><td style = \"text-align: right;\">0.373952</td><td style = \"text-align: right;\">0.398662</td><td style = \"text-align: right;\">0.851182</td><td style = \"text-align: right;\">0.402862</td><td style = \"text-align: right;\">0.827348</td><td style = \"text-align: right;\">0.222065</td><td style = \"text-align: right;\">0.646395</td><td style = \"text-align: right;\">0.139992</td><td style = \"text-align: right;\">0.720584</td><td style = \"text-align: right;\">0.0681818</td><td style = \"text-align: right;\">0.452283</td><td style = \"text-align: right;\">0.655416</td><td style = \"text-align: right;\">0.919854</td><td style = \"text-align: right;\">0.634287</td><td style = \"text-align: right;\">0.552484</td><td style = \"text-align: right;\">0.39818</td><td style = \"text-align: right;\">0.722039</td><td style = \"text-align: right;\">0.8756</td><td style = \"text-align: right;\">0.448769</td><td style = \"text-align: right;\">0.554755</td><td style = \"text-align: right;\">0.613562</td><td style = \"text-align: right;\">0.710213</td><td style = \"text-align: right;\">0.00465215</td><td style = \"text-align: right;\">0.963763</td><td style = \"text-align: right;\">0.111464</td><td style = \"text-align: right;\">0.579245</td><td style = \"text-align: right;\">0.0783318</td><td style = \"text-align: right;\">0.811602</td><td style = \"text-align: right;\">0.0586896</td><td style = \"text-align: right;\">0.121353</td><td style = \"text-align: right;\">0.451426</td><td style = \"text-align: right;\">0.416095</td><td style = \"text-align: right;\">0.167802</td><td style = \"text-align: right;\">0.296337</td><td style = \"text-align: right;\">0.68025</td><td style = \"text-align: right;\">0.865083</td><td style = \"text-align: right;\">0.455578</td><td style = \"text-align: right;\">0.984931</td><td style = \"text-align: right;\">0.699277</td><td style = \"text-align: right;\">0.113661</td><td style = \"text-align: right;\">0.0172499</td><td style = \"text-align: right;\">0.389797</td><td style = \"text-align: right;\">0.731438</td><td style = \"text-align: right;\">0.179854</td><td style = \"text-align: right;\">0.181849</td><td style = \"text-align: right;\">0.64722</td><td style = \"text-align: right;\">0.73755</td><td style = \"text-align: right;\">0.0387112</td><td style = \"text-align: right;\">0.163176</td><td style = \"text-align: right;\">0.5831</td><td style = \"text-align: right;\">0.618315</td><td style = \"text-align: right;\">0.858166</td><td style = \"text-align: right;\">0.487437</td><td style = \"text-align: right;\">0.649856</td><td style = \"text-align: right;\">0.510468</td><td style = \"text-align: right;\">0.265383</td><td style = \"text-align: right;\">0.716345</td><td style = \"text-align: right;\">0.858997</td><td style = \"text-align: right;\">0.421035</td><td style = \"text-align: right;\">0.71227</td><td style = \"text-align: right;\">0.210916</td><td style = \"text-align: right;\">0.0728364</td><td style = \"text-align: right;\">0.115068</td><td style = \"text-align: right;\">0.923333</td><td style = \"text-align: right;\">0.872</td><td style = \"text-align: right;\">0.394273</td><td style = \"text-align: right;\">0.575864</td><td style = \"text-align: right;\">0.947865</td><td style = \"text-align: right;\">0.511522</td><td style = \"text-align: right;\">0.00605284</td><td style = \"text-align: right;\">0.818524</td><td style = \"text-align: right;\">0.226928</td><td style = \"text-align: right;\">0.949736</td><td style = \"text-align: right;\">0.757384</td><td style = \"text-align: right;\">0.66079</td><td style = \"text-align: right;\">0.827428</td><td style = \"text-align: right;\">0.568193</td><td style = \"text-align: right;\">0.00421599</td><td style = \"text-align: right;\">0.12546</td><td style = \"text-align: right;\">0.585029</td><td style = \"text-align: right;\">0.31564</td><td style = \"text-align: right;\">0.981435</td><td style = \"text-align: right;\">0.229752</td><td style = \"text-align: right;\">0.826171</td><td style = \"text-align: right;\">0.133524</td><td style = \"text-align: right;\">0.286998</td><td style = \"text-align: right;\">0.544742</td><td style = \"text-align: right;\">0.70628</td><td style = \"text-align: right;\">0.61295</td><td style = \"text-align: right;\">0.130509</td><td style = \"text-align: right;\">0.473567</td><td style = \"text-align: right;\">0.410999</td><td style = \"text-align: right;\">0.685049</td><td style = \"text-align: right;\">&ctdot;</td></tr><tr><td class = \"rowNumber\" style = \"font-weight: bold; text-align: right;\">5</td><td style = \"text-align: right;\">0.967143</td><td style = \"text-align: right;\">0.302672</td><td style = \"text-align: right;\">0.706902</td><td style = \"text-align: right;\">0.0653216</td><td style = \"text-align: right;\">0.644417</td><td style = \"text-align: right;\">0.976457</td><td style = \"text-align: right;\">0.36895</td><td style = \"text-align: right;\">0.80553</td><td style = \"text-align: right;\">0.704988</td><td style = \"text-align: right;\">0.229158</td><td style = \"text-align: right;\">0.422051</td><td style = \"text-align: right;\">0.0835024</td><td style = \"text-align: right;\">0.0600902</td><td style = \"text-align: right;\">0.139551</td><td style = \"text-align: right;\">0.851271</td><td style = \"text-align: right;\">0.513128</td><td style = \"text-align: right;\">0.4164</td><td style = \"text-align: right;\">0.7523</td><td style = \"text-align: right;\">0.173736</td><td style = \"text-align: right;\">0.189301</td><td style = \"text-align: right;\">0.389565</td><td style = \"text-align: right;\">0.701714</td><td style = \"text-align: right;\">0.743298</td><td style = \"text-align: right;\">0.439659</td><td style = \"text-align: right;\">0.646357</td><td style = \"text-align: right;\">0.0539669</td><td style = \"text-align: right;\">0.835487</td><td style = \"text-align: right;\">0.632989</td><td style = \"text-align: right;\">0.374562</td><td style = \"text-align: right;\">0.266812</td><td style = \"text-align: right;\">0.344614</td><td style = \"text-align: right;\">0.0987843</td><td style = \"text-align: right;\">0.205053</td><td style = \"text-align: right;\">0.0121658</td><td style = \"text-align: right;\">0.714131</td><td style = \"text-align: right;\">0.94708</td><td style = \"text-align: right;\">0.161188</td><td style = \"text-align: right;\">0.31177</td><td style = \"text-align: right;\">0.583715</td><td style = \"text-align: right;\">0.887539</td><td style = \"text-align: right;\">0.337576</td><td style = \"text-align: right;\">0.0647835</td><td style = \"text-align: right;\">0.78173</td><td style = \"text-align: right;\">0.796417</td><td style = \"text-align: right;\">0.426654</td><td style = \"text-align: right;\">0.264726</td><td style = \"text-align: right;\">0.10321</td><td style = \"text-align: right;\">0.341679</td><td style = \"text-align: right;\">0.180502</td><td style = \"text-align: right;\">0.347792</td><td style = \"text-align: right;\">0.142075</td><td style = \"text-align: right;\">0.159654</td><td style = \"text-align: right;\">0.847052</td><td style = \"text-align: right;\">0.553683</td><td style = \"text-align: right;\">0.548342</td><td style = \"text-align: right;\">0.898875</td><td style = \"text-align: right;\">0.147509</td><td style = \"text-align: right;\">0.34916</td><td style = \"text-align: right;\">0.49193</td><td style = \"text-align: right;\">0.830147</td><td style = \"text-align: right;\">0.75918</td><td style = \"text-align: right;\">0.29523</td><td style = \"text-align: right;\">0.552179</td><td style = \"text-align: right;\">0.395406</td><td style = \"text-align: right;\">0.203592</td><td style = \"text-align: right;\">0.355477</td><td style = \"text-align: right;\">0.128912</td><td style = \"text-align: right;\">0.460629</td><td style = \"text-align: right;\">0.974718</td><td style = \"text-align: right;\">0.598744</td><td style = \"text-align: right;\">0.536191</td><td style = \"text-align: right;\">0.49289</td><td style = \"text-align: right;\">0.337427</td><td style = \"text-align: right;\">0.266863</td><td style = \"text-align: right;\">0.598862</td><td style = \"text-align: right;\">0.0480737</td><td style = \"text-align: right;\">0.0973554</td><td style = \"text-align: right;\">0.0952945</td><td style = \"text-align: right;\">0.327903</td><td style = \"text-align: right;\">0.33965</td><td style = \"text-align: right;\">0.942363</td><td style = \"text-align: right;\">0.424944</td><td style = \"text-align: right;\">0.609847</td><td style = \"text-align: right;\">0.0431133</td><td style = \"text-align: right;\">0.938313</td><td style = \"text-align: right;\">0.678512</td><td style = \"text-align: right;\">0.246945</td><td style = \"text-align: right;\">0.758531</td><td style = \"text-align: right;\">0.143185</td><td style = \"text-align: right;\">0.54149</td><td style = \"text-align: right;\">0.290775</td><td style = \"text-align: right;\">0.854097</td><td style = \"text-align: right;\">0.5934</td><td style = \"text-align: right;\">0.0493715</td><td style = \"text-align: right;\">0.308289</td><td style = \"text-align: right;\">0.932613</td><td style = \"text-align: right;\">0.100065</td><td style = \"text-align: right;\">0.83117</td><td style = \"text-align: right;\">0.964044</td><td style = \"text-align: right;\">0.532569</td><td style = \"text-align: right;\">&ctdot;</td></tr><tr><td class = \"rowNumber\" style = \"font-weight: bold; text-align: right;\">6</td><td style = \"text-align: right;\">0.205168</td><td style = \"text-align: right;\">0.683128</td><td style = \"text-align: right;\">0.786909</td><td style = \"text-align: right;\">0.819635</td><td style = \"text-align: right;\">0.759663</td><td style = \"text-align: right;\">0.588019</td><td style = \"text-align: right;\">0.244011</td><td style = \"text-align: right;\">0.888136</td><td style = \"text-align: right;\">0.794367</td><td style = \"text-align: right;\">0.360823</td><td style = \"text-align: right;\">0.199259</td><td style = \"text-align: right;\">0.826867</td><td style = \"text-align: right;\">0.761233</td><td style = \"text-align: right;\">0.0448482</td><td style = \"text-align: right;\">0.856025</td><td style = \"text-align: right;\">0.901308</td><td style = \"text-align: right;\">0.540944</td><td style = \"text-align: right;\">0.560751</td><td style = \"text-align: right;\">0.352295</td><td style = \"text-align: right;\">0.767541</td><td style = \"text-align: right;\">0.44367</td><td style = \"text-align: right;\">0.678469</td><td style = \"text-align: right;\">0.19966</td><td style = \"text-align: right;\">0.732522</td><td style = \"text-align: right;\">0.502541</td><td style = \"text-align: right;\">0.597413</td><td style = \"text-align: right;\">0.656933</td><td style = \"text-align: right;\">0.301444</td><td style = \"text-align: right;\">0.181241</td><td style = \"text-align: right;\">0.157532</td><td style = \"text-align: right;\">0.714083</td><td style = \"text-align: right;\">0.171852</td><td style = \"text-align: right;\">0.42279</td><td style = \"text-align: right;\">0.699374</td><td style = \"text-align: right;\">0.13507</td><td style = \"text-align: right;\">0.682853</td><td style = \"text-align: right;\">0.543554</td><td style = \"text-align: right;\">0.0820418</td><td style = \"text-align: right;\">0.270709</td><td style = \"text-align: right;\">0.835811</td><td style = \"text-align: right;\">0.322101</td><td style = \"text-align: right;\">0.383821</td><td style = \"text-align: right;\">0.39942</td><td style = \"text-align: right;\">0.21642</td><td style = \"text-align: right;\">0.689587</td><td style = \"text-align: right;\">0.290182</td><td style = \"text-align: right;\">0.0742331</td><td style = \"text-align: right;\">0.727136</td><td style = \"text-align: right;\">0.208275</td><td style = \"text-align: right;\">0.485364</td><td style = \"text-align: right;\">0.432417</td><td style = \"text-align: right;\">0.643245</td><td style = \"text-align: right;\">0.124293</td><td style = \"text-align: right;\">0.812727</td><td style = \"text-align: right;\">0.335484</td><td style = \"text-align: right;\">0.0194431</td><td style = \"text-align: right;\">0.143856</td><td style = \"text-align: right;\">0.254743</td><td style = \"text-align: right;\">0.47993</td><td style = \"text-align: right;\">0.00236364</td><td style = \"text-align: right;\">0.896375</td><td style = \"text-align: right;\">0.528712</td><td style = \"text-align: right;\">0.600894</td><td style = \"text-align: right;\">0.0705582</td><td style = \"text-align: right;\">0.41725</td><td style = \"text-align: right;\">0.1068</td><td style = \"text-align: right;\">0.267478</td><td style = \"text-align: right;\">0.745548</td><td style = \"text-align: right;\">0.129849</td><td style = \"text-align: right;\">0.269369</td><td style = \"text-align: right;\">0.968378</td><td style = \"text-align: right;\">0.73323</td><td style = \"text-align: right;\">0.250992</td><td style = \"text-align: right;\">0.0711908</td><td style = \"text-align: right;\">0.763779</td><td style = \"text-align: right;\">0.878408</td><td style = \"text-align: right;\">0.695854</td><td style = \"text-align: right;\">0.800981</td><td style = \"text-align: right;\">0.0822155</td><td style = \"text-align: right;\">0.228832</td><td style = \"text-align: right;\">0.640236</td><td style = \"text-align: right;\">0.739513</td><td style = \"text-align: right;\">0.629127</td><td style = \"text-align: right;\">0.175419</td><td style = \"text-align: right;\">0.675191</td><td style = \"text-align: right;\">0.851447</td><td style = \"text-align: right;\">0.841781</td><td style = \"text-align: right;\">0.748765</td><td style = \"text-align: right;\">0.897175</td><td style = \"text-align: right;\">0.518425</td><td style = \"text-align: right;\">0.568143</td><td style = \"text-align: right;\">0.792276</td><td style = \"text-align: right;\">0.561812</td><td style = \"text-align: right;\">0.59942</td><td style = \"text-align: right;\">0.927527</td><td style = \"text-align: right;\">0.105334</td><td style = \"text-align: right;\">0.325056</td><td style = \"text-align: right;\">0.0615128</td><td style = \"text-align: right;\">0.668108</td><td style = \"text-align: right;\">0.584317</td><td style = \"text-align: right;\">&ctdot;</td></tr><tr><td class = \"rowNumber\" style = \"font-weight: bold; text-align: right;\">7</td><td style = \"text-align: right;\">0.527184</td><td style = \"text-align: right;\">0.22961</td><td style = \"text-align: right;\">0.395737</td><td style = \"text-align: right;\">0.712888</td><td style = \"text-align: right;\">0.286281</td><td style = \"text-align: right;\">0.0784137</td><td style = \"text-align: right;\">0.214371</td><td style = \"text-align: right;\">0.693681</td><td style = \"text-align: right;\">0.812741</td><td style = \"text-align: right;\">0.850144</td><td style = \"text-align: right;\">0.633995</td><td style = \"text-align: right;\">0.380388</td><td style = \"text-align: right;\">0.513486</td><td style = \"text-align: right;\">0.104272</td><td style = \"text-align: right;\">0.894109</td><td style = \"text-align: right;\">0.774682</td><td style = \"text-align: right;\">0.79541</td><td style = \"text-align: right;\">0.951264</td><td style = \"text-align: right;\">0.253308</td><td style = \"text-align: right;\">0.294483</td><td style = \"text-align: right;\">0.457423</td><td style = \"text-align: right;\">0.15226</td><td style = \"text-align: right;\">0.517339</td><td style = \"text-align: right;\">0.959809</td><td style = \"text-align: right;\">0.261888</td><td style = \"text-align: right;\">0.562237</td><td style = \"text-align: right;\">0.125323</td><td style = \"text-align: right;\">0.883358</td><td style = \"text-align: right;\">0.301598</td><td style = \"text-align: right;\">0.0422402</td><td style = \"text-align: right;\">0.355124</td><td style = \"text-align: right;\">0.642006</td><td style = \"text-align: right;\">0.691682</td><td style = \"text-align: right;\">0.911635</td><td style = \"text-align: right;\">0.53746</td><td style = \"text-align: right;\">0.596286</td><td style = \"text-align: right;\">0.385353</td><td style = \"text-align: right;\">0.663463</td><td style = \"text-align: right;\">0.581572</td><td style = \"text-align: right;\">0.318694</td><td style = \"text-align: right;\">0.498642</td><td style = \"text-align: right;\">0.525428</td><td style = \"text-align: right;\">0.549403</td><td style = \"text-align: right;\">0.976401</td><td style = \"text-align: right;\">0.144109</td><td style = \"text-align: right;\">0.572332</td><td style = \"text-align: right;\">0.331346</td><td style = \"text-align: right;\">0.641637</td><td style = \"text-align: right;\">0.934612</td><td style = \"text-align: right;\">0.928831</td><td style = \"text-align: right;\">0.642698</td><td style = \"text-align: right;\">0.25521</td><td style = \"text-align: right;\">0.30113</td><td style = \"text-align: right;\">0.698648</td><td style = \"text-align: right;\">0.788803</td><td style = \"text-align: right;\">0.93338</td><td style = \"text-align: right;\">0.188807</td><td style = \"text-align: right;\">0.390641</td><td style = \"text-align: right;\">0.916819</td><td style = \"text-align: right;\">0.517061</td><td style = \"text-align: right;\">0.844072</td><td style = \"text-align: right;\">0.902947</td><td style = \"text-align: right;\">0.322715</td><td style = \"text-align: right;\">0.158913</td><td style = \"text-align: right;\">0.849192</td><td style = \"text-align: right;\">0.0943718</td><td style = \"text-align: right;\">0.539887</td><td style = \"text-align: right;\">0.853765</td><td style = \"text-align: right;\">0.10927</td><td style = \"text-align: right;\">0.558812</td><td style = \"text-align: right;\">0.400448</td><td style = \"text-align: right;\">0.971353</td><td style = \"text-align: right;\">0.830961</td><td style = \"text-align: right;\">0.302348</td><td style = \"text-align: right;\">0.666566</td><td style = \"text-align: right;\">0.17653</td><td style = \"text-align: right;\">0.234576</td><td style = \"text-align: right;\">0.553072</td><td style = \"text-align: right;\">0.804793</td><td style = \"text-align: right;\">0.661114</td><td style = \"text-align: right;\">0.794541</td><td style = \"text-align: right;\">0.495311</td><td style = \"text-align: right;\">0.696857</td><td style = \"text-align: right;\">0.268942</td><td style = \"text-align: right;\">0.792013</td><td style = \"text-align: right;\">0.739865</td><td style = \"text-align: right;\">0.305898</td><td style = \"text-align: right;\">0.784717</td><td style = \"text-align: right;\">0.154662</td><td style = \"text-align: right;\">0.950777</td><td style = \"text-align: right;\">0.810738</td><td style = \"text-align: right;\">0.991764</td><td style = \"text-align: right;\">0.180139</td><td style = \"text-align: right;\">0.954313</td><td style = \"text-align: right;\">0.297343</td><td style = \"text-align: right;\">0.436954</td><td style = \"text-align: right;\">0.978416</td><td style = \"text-align: right;\">0.32379</td><td style = \"text-align: right;\">0.424663</td><td style = \"text-align: right;\">0.877706</td><td style = \"text-align: right;\">&ctdot;</td></tr><tr><td class = \"rowNumber\" style = \"font-weight: bold; text-align: right;\">8</td><td style = \"text-align: right;\">0.951162</td><td style = \"text-align: right;\">0.963781</td><td style = \"text-align: right;\">0.176482</td><td style = \"text-align: right;\">0.751149</td><td style = \"text-align: right;\">0.394366</td><td style = \"text-align: right;\">0.945845</td><td style = \"text-align: right;\">0.62704</td><td style = \"text-align: right;\">0.96774</td><td style = \"text-align: right;\">0.103318</td><td style = \"text-align: right;\">0.674938</td><td style = \"text-align: right;\">0.550164</td><td style = \"text-align: right;\">0.717422</td><td style = \"text-align: right;\">0.606048</td><td style = \"text-align: right;\">0.295866</td><td style = \"text-align: right;\">0.538989</td><td style = \"text-align: right;\">0.13301</td><td style = \"text-align: right;\">0.939215</td><td style = \"text-align: right;\">0.418093</td><td style = \"text-align: right;\">0.649185</td><td style = \"text-align: right;\">0.983029</td><td style = \"text-align: right;\">0.578834</td><td style = \"text-align: right;\">0.0552365</td><td style = \"text-align: right;\">0.154984</td><td style = \"text-align: right;\">0.590466</td><td style = \"text-align: right;\">0.108776</td><td style = \"text-align: right;\">0.449178</td><td style = \"text-align: right;\">0.248731</td><td style = \"text-align: right;\">0.174672</td><td style = \"text-align: right;\">0.983469</td><td style = \"text-align: right;\">0.21593</td><td style = \"text-align: right;\">0.820917</td><td style = \"text-align: right;\">0.556617</td><td style = \"text-align: right;\">0.429342</td><td style = \"text-align: right;\">0.436862</td><td style = \"text-align: right;\">0.435403</td><td style = \"text-align: right;\">0.041061</td><td style = \"text-align: right;\">0.0840443</td><td style = \"text-align: right;\">0.651938</td><td style = \"text-align: right;\">0.818201</td><td style = \"text-align: right;\">0.839926</td><td style = \"text-align: right;\">0.995171</td><td style = \"text-align: right;\">0.78029</td><td style = \"text-align: right;\">0.0299824</td><td style = \"text-align: right;\">0.606447</td><td style = \"text-align: right;\">0.467301</td><td style = \"text-align: right;\">0.838808</td><td style = \"text-align: right;\">0.624765</td><td style = \"text-align: right;\">0.614341</td><td style = \"text-align: right;\">0.740568</td><td style = \"text-align: right;\">0.308466</td><td style = \"text-align: right;\">0.160896</td><td style = \"text-align: right;\">0.682842</td><td style = \"text-align: right;\">0.556888</td><td style = \"text-align: right;\">0.0769152</td><td style = \"text-align: right;\">0.821016</td><td style = \"text-align: right;\">0.416731</td><td style = \"text-align: right;\">0.392941</td><td style = \"text-align: right;\">0.23032</td><td style = \"text-align: right;\">0.425042</td><td style = \"text-align: right;\">0.361674</td><td style = \"text-align: right;\">0.570486</td><td style = \"text-align: right;\">0.383419</td><td style = \"text-align: right;\">0.812583</td><td style = \"text-align: right;\">0.496401</td><td style = \"text-align: right;\">0.538982</td><td style = \"text-align: right;\">0.633557</td><td style = \"text-align: right;\">0.994718</td><td style = \"text-align: right;\">0.893841</td><td style = \"text-align: right;\">0.79299</td><td style = \"text-align: right;\">0.961518</td><td style = \"text-align: right;\">0.627831</td><td style = \"text-align: right;\">0.0425985</td><td style = \"text-align: right;\">0.424132</td><td style = \"text-align: right;\">0.86962</td><td style = \"text-align: right;\">0.78264</td><td style = \"text-align: right;\">0.116515</td><td style = \"text-align: right;\">0.751977</td><td style = \"text-align: right;\">0.0872114</td><td style = \"text-align: right;\">0.148502</td><td style = \"text-align: right;\">0.149564</td><td style = \"text-align: right;\">0.718268</td><td style = \"text-align: right;\">0.719193</td><td style = \"text-align: right;\">0.305653</td><td style = \"text-align: right;\">0.737801</td><td style = \"text-align: right;\">0.0611981</td><td style = \"text-align: right;\">0.285703</td><td style = \"text-align: right;\">0.83414</td><td style = \"text-align: right;\">0.92305</td><td style = \"text-align: right;\">0.0805378</td><td style = \"text-align: right;\">0.436171</td><td style = \"text-align: right;\">0.0366427</td><td style = \"text-align: right;\">0.439864</td><td style = \"text-align: right;\">0.749147</td><td style = \"text-align: right;\">0.925019</td><td style = \"text-align: right;\">0.519798</td><td style = \"text-align: right;\">0.550835</td><td style = \"text-align: right;\">0.229706</td><td style = \"text-align: right;\">0.437717</td><td style = \"text-align: right;\">0.45817</td><td style = \"text-align: right;\">0.104438</td><td style = \"text-align: right;\">&ctdot;</td></tr><tr><td class = \"rowNumber\" style = \"font-weight: bold; text-align: right;\">9</td><td style = \"text-align: right;\">0.536369</td><td style = \"text-align: right;\">0.118179</td><td style = \"text-align: right;\">0.958758</td><td style = \"text-align: right;\">0.161565</td><td style = \"text-align: right;\">0.722348</td><td style = \"text-align: right;\">0.35534</td><td style = \"text-align: right;\">0.734991</td><td style = \"text-align: right;\">0.859331</td><td style = \"text-align: right;\">0.161337</td><td style = \"text-align: right;\">0.937488</td><td style = \"text-align: right;\">0.952916</td><td style = \"text-align: right;\">0.72484</td><td style = \"text-align: right;\">0.551236</td><td style = \"text-align: right;\">0.937295</td><td style = \"text-align: right;\">0.981265</td><td style = \"text-align: right;\">0.447206</td><td style = \"text-align: right;\">0.945109</td><td style = \"text-align: right;\">0.610249</td><td style = \"text-align: right;\">0.628314</td><td style = \"text-align: right;\">0.54268</td><td style = \"text-align: right;\">0.0120982</td><td style = \"text-align: right;\">0.850587</td><td style = \"text-align: right;\">0.569141</td><td style = \"text-align: right;\">0.068651</td><td style = \"text-align: right;\">0.0570009</td><td style = \"text-align: right;\">0.184186</td><td style = \"text-align: right;\">0.228802</td><td style = \"text-align: right;\">0.71854</td><td style = \"text-align: right;\">0.453599</td><td style = \"text-align: right;\">0.226191</td><td style = \"text-align: right;\">0.315366</td><td style = \"text-align: right;\">0.780655</td><td style = \"text-align: right;\">0.0391108</td><td style = \"text-align: right;\">0.25336</td><td style = \"text-align: right;\">0.502131</td><td style = \"text-align: right;\">0.334083</td><td style = \"text-align: right;\">0.324837</td><td style = \"text-align: right;\">0.817279</td><td style = \"text-align: right;\">0.726528</td><td style = \"text-align: right;\">0.967909</td><td style = \"text-align: right;\">0.303368</td><td style = \"text-align: right;\">0.783143</td><td style = \"text-align: right;\">0.014402</td><td style = \"text-align: right;\">0.048123</td><td style = \"text-align: right;\">0.284366</td><td style = \"text-align: right;\">0.158176</td><td style = \"text-align: right;\">0.665071</td><td style = \"text-align: right;\">0.512639</td><td style = \"text-align: right;\">0.106427</td><td style = \"text-align: right;\">0.281117</td><td style = \"text-align: right;\">0.340889</td><td style = \"text-align: right;\">0.336567</td><td style = \"text-align: right;\">0.736707</td><td style = \"text-align: right;\">0.510942</td><td style = \"text-align: right;\">0.806805</td><td style = \"text-align: right;\">0.0741948</td><td style = \"text-align: right;\">0.452598</td><td style = \"text-align: right;\">0.116301</td><td style = \"text-align: right;\">0.700735</td><td style = \"text-align: right;\">0.575428</td><td style = \"text-align: right;\">0.656397</td><td style = \"text-align: right;\">0.316217</td><td style = \"text-align: right;\">0.182634</td><td style = \"text-align: right;\">0.934485</td><td style = \"text-align: right;\">0.602241</td><td style = \"text-align: right;\">0.162334</td><td style = \"text-align: right;\">0.582911</td><td style = \"text-align: right;\">0.73493</td><td style = \"text-align: right;\">0.636253</td><td style = \"text-align: right;\">0.533644</td><td style = \"text-align: right;\">0.820971</td><td style = \"text-align: right;\">0.0575013</td><td style = \"text-align: right;\">0.604868</td><td style = \"text-align: right;\">0.579263</td><td style = \"text-align: right;\">0.259423</td><td style = \"text-align: right;\">0.839358</td><td style = \"text-align: right;\">0.542788</td><td style = \"text-align: right;\">0.428902</td><td style = \"text-align: right;\">0.938494</td><td style = \"text-align: right;\">0.634835</td><td style = \"text-align: right;\">0.0895191</td><td style = \"text-align: right;\">0.571168</td><td style = \"text-align: right;\">0.637538</td><td style = \"text-align: right;\">0.740823</td><td style = \"text-align: right;\">0.955097</td><td style = \"text-align: right;\">0.124968</td><td style = \"text-align: right;\">0.149634</td><td style = \"text-align: right;\">0.981464</td><td style = \"text-align: right;\">0.149791</td><td style = \"text-align: right;\">0.473599</td><td style = \"text-align: right;\">0.262707</td><td style = \"text-align: right;\">0.900575</td><td style = \"text-align: right;\">0.660074</td><td style = \"text-align: right;\">0.591248</td><td style = \"text-align: right;\">0.237099</td><td style = \"text-align: right;\">0.189881</td><td style = \"text-align: right;\">0.953265</td><td style = \"text-align: right;\">0.66572</td><td style = \"text-align: right;\">0.43152</td><td style = \"text-align: right;\">0.147092</td><td style = \"text-align: right;\">&ctdot;</td></tr><tr><td class = \"rowNumber\" style = \"font-weight: bold; text-align: right;\">10</td><td style = \"text-align: right;\">0.711389</td><td style = \"text-align: right;\">0.661071</td><td style = \"text-align: right;\">0.450584</td><td style = \"text-align: right;\">0.791275</td><td style = \"text-align: right;\">0.0225357</td><td style = \"text-align: right;\">0.582416</td><td style = \"text-align: right;\">0.832604</td><td style = \"text-align: right;\">0.0454298</td><td style = \"text-align: right;\">0.797738</td><td style = \"text-align: right;\">0.954529</td><td style = \"text-align: right;\">0.372639</td><td style = \"text-align: right;\">0.58931</td><td style = \"text-align: right;\">0.853659</td><td style = \"text-align: right;\">0.0402739</td><td style = \"text-align: right;\">0.580399</td><td style = \"text-align: right;\">0.350103</td><td style = \"text-align: right;\">0.724024</td><td style = \"text-align: right;\">0.155839</td><td style = \"text-align: right;\">0.43201</td><td style = \"text-align: right;\">0.124057</td><td style = \"text-align: right;\">0.96206</td><td style = \"text-align: right;\">0.00690846</td><td style = \"text-align: right;\">0.724126</td><td style = \"text-align: right;\">0.885301</td><td style = \"text-align: right;\">0.879999</td><td style = \"text-align: right;\">0.226902</td><td style = \"text-align: right;\">0.203364</td><td style = \"text-align: right;\">0.699919</td><td style = \"text-align: right;\">0.704127</td><td style = \"text-align: right;\">0.73523</td><td style = \"text-align: right;\">0.00855446</td><td style = \"text-align: right;\">0.513316</td><td style = \"text-align: right;\">0.683089</td><td style = \"text-align: right;\">0.23465</td><td style = \"text-align: right;\">0.544689</td><td style = \"text-align: right;\">0.728027</td><td style = \"text-align: right;\">0.644509</td><td style = \"text-align: right;\">0.044326</td><td style = \"text-align: right;\">0.706912</td><td style = \"text-align: right;\">0.203673</td><td style = \"text-align: right;\">0.101273</td><td style = \"text-align: right;\">0.260113</td><td style = \"text-align: right;\">0.0854556</td><td style = \"text-align: right;\">0.226671</td><td style = \"text-align: right;\">0.926063</td><td style = \"text-align: right;\">0.954235</td><td style = \"text-align: right;\">0.146336</td><td style = \"text-align: right;\">0.676873</td><td style = \"text-align: right;\">0.283407</td><td style = \"text-align: right;\">0.616687</td><td style = \"text-align: right;\">0.566845</td><td style = \"text-align: right;\">0.359589</td><td style = \"text-align: right;\">0.182991</td><td style = \"text-align: right;\">0.595647</td><td style = \"text-align: right;\">0.599248</td><td style = \"text-align: right;\">0.219112</td><td style = \"text-align: right;\">0.363072</td><td style = \"text-align: right;\">0.0348181</td><td style = \"text-align: right;\">0.175731</td><td style = \"text-align: right;\">0.735806</td><td style = \"text-align: right;\">0.703981</td><td style = \"text-align: right;\">0.300725</td><td style = \"text-align: right;\">0.782669</td><td style = \"text-align: right;\">0.721319</td><td style = \"text-align: right;\">0.459928</td><td style = \"text-align: right;\">0.569251</td><td style = \"text-align: right;\">0.810615</td><td style = \"text-align: right;\">0.575424</td><td style = \"text-align: right;\">0.432598</td><td style = \"text-align: right;\">0.820052</td><td style = \"text-align: right;\">0.530884</td><td style = \"text-align: right;\">0.1676</td><td style = \"text-align: right;\">0.458789</td><td style = \"text-align: right;\">0.154666</td><td style = \"text-align: right;\">0.345783</td><td style = \"text-align: right;\">0.000553644</td><td style = \"text-align: right;\">0.961773</td><td style = \"text-align: right;\">0.555288</td><td style = \"text-align: right;\">0.133719</td><td style = \"text-align: right;\">0.693737</td><td style = \"text-align: right;\">0.495709</td><td style = \"text-align: right;\">0.155871</td><td style = \"text-align: right;\">0.21023</td><td style = \"text-align: right;\">0.791769</td><td style = \"text-align: right;\">0.0313581</td><td style = \"text-align: right;\">0.638755</td><td style = \"text-align: right;\">0.939785</td><td style = \"text-align: right;\">0.643352</td><td style = \"text-align: right;\">0.754186</td><td style = \"text-align: right;\">0.457223</td><td style = \"text-align: right;\">0.749805</td><td style = \"text-align: right;\">0.839532</td><td style = \"text-align: right;\">0.553675</td><td style = \"text-align: right;\">0.282028</td><td style = \"text-align: right;\">0.682128</td><td style = \"text-align: right;\">0.0256411</td><td style = \"text-align: right;\">0.896242</td><td style = \"text-align: right;\">0.716386</td><td style = \"text-align: right;\">0.949385</td><td style = \"text-align: right;\">0.386708</td><td style = \"text-align: right;\">&ctdot;</td></tr><tr><td class = \"rowNumber\" style = \"font-weight: bold; text-align: right;\">11</td><td style = \"text-align: right;\">0.103929</td><td style = \"text-align: right;\">0.489357</td><td style = \"text-align: right;\">0.943654</td><td style = \"text-align: right;\">0.981498</td><td style = \"text-align: right;\">0.906475</td><td style = \"text-align: right;\">0.27605</td><td style = \"text-align: right;\">0.319854</td><td style = \"text-align: right;\">0.505438</td><td style = \"text-align: right;\">0.27844</td><td style = \"text-align: right;\">0.778794</td><td style = \"text-align: right;\">0.130514</td><td style = \"text-align: right;\">0.169551</td><td style = \"text-align: right;\">0.596171</td><td style = \"text-align: right;\">0.458798</td><td style = \"text-align: right;\">0.95805</td><td style = \"text-align: right;\">0.0328401</td><td style = \"text-align: right;\">0.58501</td><td style = \"text-align: right;\">0.834443</td><td style = \"text-align: right;\">0.285972</td><td style = \"text-align: right;\">0.552548</td><td style = \"text-align: right;\">0.724397</td><td style = \"text-align: right;\">0.744955</td><td style = \"text-align: right;\">0.0488314</td><td style = \"text-align: right;\">0.390639</td><td style = \"text-align: right;\">0.465757</td><td style = \"text-align: right;\">0.160463</td><td style = \"text-align: right;\">0.70125</td><td style = \"text-align: right;\">0.194893</td><td style = \"text-align: right;\">0.526646</td><td style = \"text-align: right;\">0.365876</td><td style = \"text-align: right;\">0.0372343</td><td style = \"text-align: right;\">0.726442</td><td style = \"text-align: right;\">0.0175973</td><td style = \"text-align: right;\">0.769848</td><td style = \"text-align: right;\">0.451365</td><td style = \"text-align: right;\">0.401056</td><td style = \"text-align: right;\">0.420727</td><td style = \"text-align: right;\">0.560409</td><td style = \"text-align: right;\">0.471766</td><td style = \"text-align: right;\">0.337263</td><td style = \"text-align: right;\">0.145229</td><td style = \"text-align: right;\">0.0791614</td><td style = \"text-align: right;\">0.758629</td><td style = \"text-align: right;\">0.698382</td><td style = \"text-align: right;\">0.75589</td><td style = \"text-align: right;\">0.629202</td><td style = \"text-align: right;\">0.902828</td><td style = \"text-align: right;\">0.605323</td><td style = \"text-align: right;\">0.034645</td><td style = \"text-align: right;\">0.491409</td><td style = \"text-align: right;\">0.0471005</td><td style = \"text-align: right;\">0.426415</td><td style = \"text-align: right;\">0.518352</td><td style = \"text-align: right;\">0.22079</td><td style = \"text-align: right;\">0.0364343</td><td style = \"text-align: right;\">0.965219</td><td style = \"text-align: right;\">0.239123</td><td style = \"text-align: right;\">0.304706</td><td style = \"text-align: right;\">0.654597</td><td style = \"text-align: right;\">0.311824</td><td style = \"text-align: right;\">0.175638</td><td style = \"text-align: right;\">0.090416</td><td style = \"text-align: right;\">0.977695</td><td style = \"text-align: right;\">0.644337</td><td style = \"text-align: right;\">0.856763</td><td style = \"text-align: right;\">0.637181</td><td style = \"text-align: right;\">0.373946</td><td style = \"text-align: right;\">0.98665</td><td style = \"text-align: right;\">0.468634</td><td style = \"text-align: right;\">0.969294</td><td style = \"text-align: right;\">0.0833085</td><td style = \"text-align: right;\">0.458731</td><td style = \"text-align: right;\">0.822941</td><td style = \"text-align: right;\">0.633568</td><td style = \"text-align: right;\">0.216647</td><td style = \"text-align: right;\">0.680109</td><td style = \"text-align: right;\">0.0503443</td><td style = \"text-align: right;\">0.217752</td><td style = \"text-align: right;\">0.55126</td><td style = \"text-align: right;\">0.0549194</td><td style = \"text-align: right;\">0.968164</td><td style = \"text-align: right;\">0.638207</td><td style = \"text-align: right;\">0.464517</td><td style = \"text-align: right;\">0.383313</td><td style = \"text-align: right;\">0.13081</td><td style = \"text-align: right;\">0.524253</td><td style = \"text-align: right;\">0.327397</td><td style = \"text-align: right;\">0.0178429</td><td style = \"text-align: right;\">0.857295</td><td style = \"text-align: right;\">0.729045</td><td style = \"text-align: right;\">0.556046</td><td style = \"text-align: right;\">0.317141</td><td style = \"text-align: right;\">0.801009</td><td style = \"text-align: right;\">0.381532</td><td style = \"text-align: right;\">0.784044</td><td style = \"text-align: right;\">0.787365</td><td style = \"text-align: right;\">0.311033</td><td style = \"text-align: right;\">0.410349</td><td style = \"text-align: right;\">0.551543</td><td style = \"text-align: right;\">0.933318</td><td style = \"text-align: right;\">&ctdot;</td></tr><tr><td class = \"rowNumber\" style = \"font-weight: bold; text-align: right;\">12</td><td style = \"text-align: right;\">0.806704</td><td style = \"text-align: right;\">0.597994</td><td style = \"text-align: right;\">0.293338</td><td style = \"text-align: right;\">0.71464</td><td style = \"text-align: right;\">0.821485</td><td style = \"text-align: right;\">0.421753</td><td style = \"text-align: right;\">0.578613</td><td style = \"text-align: right;\">0.274216</td><td style = \"text-align: right;\">0.424539</td><td style = \"text-align: right;\">0.379679</td><td style = \"text-align: right;\">0.839805</td><td style = \"text-align: right;\">0.902456</td><td style = \"text-align: right;\">0.252799</td><td style = \"text-align: right;\">0.563533</td><td style = \"text-align: right;\">0.23067</td><td style = \"text-align: right;\">0.806573</td><td style = \"text-align: right;\">0.402857</td><td style = \"text-align: right;\">0.7225</td><td style = \"text-align: right;\">0.763932</td><td style = \"text-align: right;\">0.663562</td><td style = \"text-align: right;\">0.839098</td><td style = \"text-align: right;\">0.026974</td><td style = \"text-align: right;\">0.615383</td><td style = \"text-align: right;\">0.143334</td><td style = \"text-align: right;\">0.444809</td><td style = \"text-align: right;\">0.367943</td><td style = \"text-align: right;\">0.506325</td><td style = \"text-align: right;\">0.0397944</td><td style = \"text-align: right;\">0.604328</td><td style = \"text-align: right;\">0.357131</td><td style = \"text-align: right;\">0.422544</td><td style = \"text-align: right;\">0.0409795</td><td style = \"text-align: right;\">0.533926</td><td style = \"text-align: right;\">0.501725</td><td style = \"text-align: right;\">0.821395</td><td style = \"text-align: right;\">0.374021</td><td style = \"text-align: right;\">0.769564</td><td style = \"text-align: right;\">0.676575</td><td style = \"text-align: right;\">0.439214</td><td style = \"text-align: right;\">0.759525</td><td style = \"text-align: right;\">0.824962</td><td style = \"text-align: right;\">0.58322</td><td style = \"text-align: right;\">0.115094</td><td style = \"text-align: right;\">0.906221</td><td style = \"text-align: right;\">0.826537</td><td style = \"text-align: right;\">0.829707</td><td style = \"text-align: right;\">0.738376</td><td style = \"text-align: right;\">0.418851</td><td style = \"text-align: right;\">0.191779</td><td style = \"text-align: right;\">0.469279</td><td style = \"text-align: right;\">0.222718</td><td style = \"text-align: right;\">0.523448</td><td style = \"text-align: right;\">0.129809</td><td style = \"text-align: right;\">0.00748883</td><td style = \"text-align: right;\">0.437603</td><td style = \"text-align: right;\">0.094494</td><td style = \"text-align: right;\">0.493551</td><td style = \"text-align: right;\">0.191608</td><td style = \"text-align: right;\">0.449934</td><td style = \"text-align: right;\">0.653904</td><td style = \"text-align: right;\">0.684418</td><td style = \"text-align: right;\">0.0223881</td><td style = \"text-align: right;\">0.754044</td><td style = \"text-align: right;\">0.339028</td><td style = \"text-align: right;\">0.384908</td><td style = \"text-align: right;\">0.262317</td><td style = \"text-align: right;\">0.912023</td><td style = \"text-align: right;\">0.754209</td><td style = \"text-align: right;\">0.506818</td><td style = \"text-align: right;\">0.825813</td><td style = \"text-align: right;\">0.460699</td><td style = \"text-align: right;\">0.00281085</td><td style = \"text-align: right;\">0.941587</td><td style = \"text-align: right;\">0.0613782</td><td style = \"text-align: right;\">0.169732</td><td style = \"text-align: right;\">0.403069</td><td style = \"text-align: right;\">0.155711</td><td style = \"text-align: right;\">0.322738</td><td style = \"text-align: right;\">0.973102</td><td style = \"text-align: right;\">0.0762117</td><td style = \"text-align: right;\">0.569624</td><td style = \"text-align: right;\">0.34844</td><td style = \"text-align: right;\">0.335365</td><td style = \"text-align: right;\">0.582599</td><td style = \"text-align: right;\">0.107247</td><td style = \"text-align: right;\">0.607799</td><td style = \"text-align: right;\">0.512198</td><td style = \"text-align: right;\">0.00637144</td><td style = \"text-align: right;\">0.328829</td><td style = \"text-align: right;\">0.714854</td><td style = \"text-align: right;\">0.339914</td><td style = \"text-align: right;\">0.985819</td><td style = \"text-align: right;\">0.500261</td><td style = \"text-align: right;\">0.521552</td><td style = \"text-align: right;\">0.28377</td><td style = \"text-align: right;\">0.20955</td><td style = \"text-align: right;\">0.469604</td><td style = \"text-align: right;\">0.652663</td><td style = \"text-align: right;\">0.683621</td><td style = \"text-align: right;\">0.746581</td><td style = \"text-align: right;\">&ctdot;</td></tr><tr><td class = \"rowNumber\" style = \"font-weight: bold; text-align: right;\">13</td><td style = \"text-align: right;\">0.870539</td><td style = \"text-align: right;\">0.0866983</td><td style = \"text-align: right;\">0.720978</td><td style = \"text-align: right;\">0.957936</td><td style = \"text-align: right;\">0.410978</td><td style = \"text-align: right;\">0.132653</td><td style = \"text-align: right;\">0.665372</td><td style = \"text-align: right;\">0.593325</td><td style = \"text-align: right;\">0.0465987</td><td style = \"text-align: right;\">0.135042</td><td style = \"text-align: right;\">0.0570036</td><td style = \"text-align: right;\">0.121709</td><td style = \"text-align: right;\">0.430551</td><td style = \"text-align: right;\">0.724999</td><td style = \"text-align: right;\">0.46881</td><td style = \"text-align: right;\">0.626354</td><td style = \"text-align: right;\">0.397452</td><td style = \"text-align: right;\">0.254975</td><td style = \"text-align: right;\">0.517491</td><td style = \"text-align: right;\">0.373471</td><td style = \"text-align: right;\">0.384463</td><td style = \"text-align: right;\">0.897556</td><td style = \"text-align: right;\">0.257818</td><td style = \"text-align: right;\">0.167195</td><td style = \"text-align: right;\">0.560633</td><td style = \"text-align: right;\">0.726255</td><td style = \"text-align: right;\">0.478231</td><td style = \"text-align: right;\">0.185042</td><td style = \"text-align: right;\">0.624979</td><td style = \"text-align: right;\">0.771154</td><td style = \"text-align: right;\">0.912102</td><td style = \"text-align: right;\">0.111355</td><td style = \"text-align: right;\">0.464301</td><td style = \"text-align: right;\">0.0200843</td><td style = \"text-align: right;\">0.170537</td><td style = \"text-align: right;\">0.334158</td><td style = \"text-align: right;\">0.588337</td><td style = \"text-align: right;\">0.980649</td><td style = \"text-align: right;\">0.313508</td><td style = \"text-align: right;\">0.800289</td><td style = \"text-align: right;\">0.684536</td><td style = \"text-align: right;\">0.813531</td><td style = \"text-align: right;\">0.748087</td><td style = \"text-align: right;\">0.607404</td><td style = \"text-align: right;\">0.865426</td><td style = \"text-align: right;\">0.364455</td><td style = \"text-align: right;\">0.407324</td><td style = \"text-align: right;\">0.719172</td><td style = \"text-align: right;\">0.47475</td><td style = \"text-align: right;\">0.543448</td><td style = \"text-align: right;\">0.884125</td><td style = \"text-align: right;\">0.495734</td><td style = \"text-align: right;\">0.895777</td><td style = \"text-align: right;\">0.388243</td><td style = \"text-align: right;\">0.788063</td><td style = \"text-align: right;\">0.449247</td><td style = \"text-align: right;\">0.326003</td><td style = \"text-align: right;\">0.975798</td><td style = \"text-align: right;\">0.0260481</td><td style = \"text-align: right;\">0.883035</td><td style = \"text-align: right;\">0.55042</td><td style = \"text-align: right;\">0.871367</td><td style = \"text-align: right;\">0.16296</td><td style = \"text-align: right;\">0.879233</td><td style = \"text-align: right;\">0.590651</td><td style = \"text-align: right;\">0.712671</td><td style = \"text-align: right;\">0.918869</td><td style = \"text-align: right;\">0.872322</td><td style = \"text-align: right;\">0.624434</td><td style = \"text-align: right;\">0.349621</td><td style = \"text-align: right;\">0.216777</td><td style = \"text-align: right;\">0.605672</td><td style = \"text-align: right;\">0.226441</td><td style = \"text-align: right;\">0.0657425</td><td style = \"text-align: right;\">0.117751</td><td style = \"text-align: right;\">0.500955</td><td style = \"text-align: right;\">0.19695</td><td style = \"text-align: right;\">0.0973536</td><td style = \"text-align: right;\">0.0954175</td><td style = \"text-align: right;\">0.0388831</td><td style = \"text-align: right;\">0.646106</td><td style = \"text-align: right;\">0.141421</td><td style = \"text-align: right;\">0.97455</td><td style = \"text-align: right;\">0.100159</td><td style = \"text-align: right;\">0.541999</td><td style = \"text-align: right;\">0.250148</td><td style = \"text-align: right;\">0.974178</td><td style = \"text-align: right;\">0.819375</td><td style = \"text-align: right;\">0.613793</td><td style = \"text-align: right;\">0.302014</td><td style = \"text-align: right;\">0.472027</td><td style = \"text-align: right;\">0.329189</td><td style = \"text-align: right;\">0.177003</td><td style = \"text-align: right;\">0.373291</td><td style = \"text-align: right;\">0.812304</td><td style = \"text-align: right;\">0.433818</td><td style = \"text-align: right;\">0.597939</td><td style = \"text-align: right;\">0.283612</td><td style = \"text-align: right;\">0.781218</td><td style = \"text-align: right;\">0.550587</td><td style = \"text-align: right;\">&ctdot;</td></tr><tr><td style = \"text-align: right;\">&vellip;</td><td style = \"text-align: right;\">&vellip;</td><td style = \"text-align: right;\">&vellip;</td><td style = \"text-align: right;\">&vellip;</td><td style = \"text-align: right;\">&vellip;</td><td style = \"text-align: right;\">&vellip;</td><td style = \"text-align: right;\">&vellip;</td><td style = \"text-align: right;\">&vellip;</td><td style = \"text-align: right;\">&vellip;</td><td style = \"text-align: right;\">&vellip;</td><td style = \"text-align: right;\">&vellip;</td><td style = \"text-align: right;\">&vellip;</td><td style = \"text-align: right;\">&vellip;</td><td style = \"text-align: right;\">&vellip;</td><td style = \"text-align: right;\">&vellip;</td><td style = \"text-align: right;\">&vellip;</td><td style = \"text-align: right;\">&vellip;</td><td style = \"text-align: right;\">&vellip;</td><td style = \"text-align: right;\">&vellip;</td><td style = \"text-align: right;\">&vellip;</td><td style = \"text-align: right;\">&vellip;</td><td style = \"text-align: right;\">&vellip;</td><td style = \"text-align: right;\">&vellip;</td><td style = \"text-align: right;\">&vellip;</td><td style = \"text-align: right;\">&vellip;</td><td style = \"text-align: right;\">&vellip;</td><td style = \"text-align: right;\">&vellip;</td><td style = \"text-align: right;\">&vellip;</td><td style = \"text-align: right;\">&vellip;</td><td style = \"text-align: right;\">&vellip;</td><td style = \"text-align: right;\">&vellip;</td><td style = \"text-align: right;\">&vellip;</td><td style = \"text-align: right;\">&vellip;</td><td style = \"text-align: right;\">&vellip;</td><td style = \"text-align: right;\">&vellip;</td><td style = \"text-align: right;\">&vellip;</td><td style = \"text-align: right;\">&vellip;</td><td style = \"text-align: right;\">&vellip;</td><td style = \"text-align: right;\">&vellip;</td><td style = \"text-align: right;\">&vellip;</td><td style = \"text-align: right;\">&vellip;</td><td style = \"text-align: right;\">&vellip;</td><td style = \"text-align: right;\">&vellip;</td><td style = \"text-align: right;\">&vellip;</td><td style = \"text-align: right;\">&vellip;</td><td style = \"text-align: right;\">&vellip;</td><td style = \"text-align: right;\">&vellip;</td><td style = \"text-align: right;\">&vellip;</td><td style = \"text-align: right;\">&vellip;</td><td style = \"text-align: right;\">&vellip;</td><td style = \"text-align: right;\">&vellip;</td><td style = \"text-align: right;\">&vellip;</td><td style = \"text-align: right;\">&vellip;</td><td style = \"text-align: right;\">&vellip;</td><td style = \"text-align: right;\">&vellip;</td><td style = \"text-align: right;\">&vellip;</td><td style = \"text-align: right;\">&vellip;</td><td style = \"text-align: right;\">&vellip;</td><td style = \"text-align: right;\">&vellip;</td><td style = \"text-align: right;\">&vellip;</td><td style = \"text-align: right;\">&vellip;</td><td style = \"text-align: right;\">&vellip;</td><td style = \"text-align: right;\">&vellip;</td><td style = \"text-align: right;\">&vellip;</td><td style = \"text-align: right;\">&vellip;</td><td style = \"text-align: right;\">&vellip;</td><td style = \"text-align: right;\">&vellip;</td><td style = \"text-align: right;\">&vellip;</td><td style = \"text-align: right;\">&vellip;</td><td style = \"text-align: right;\">&vellip;</td><td style = \"text-align: right;\">&vellip;</td><td style = \"text-align: right;\">&vellip;</td><td style = \"text-align: right;\">&vellip;</td><td style = \"text-align: right;\">&vellip;</td><td style = \"text-align: right;\">&vellip;</td><td style = \"text-align: right;\">&vellip;</td><td style = \"text-align: right;\">&vellip;</td><td style = \"text-align: right;\">&vellip;</td><td style = \"text-align: right;\">&vellip;</td><td style = \"text-align: right;\">&vellip;</td><td style = \"text-align: right;\">&vellip;</td><td style = \"text-align: right;\">&vellip;</td><td style = \"text-align: right;\">&vellip;</td><td style = \"text-align: right;\">&vellip;</td><td style = \"text-align: right;\">&vellip;</td><td style = \"text-align: right;\">&vellip;</td><td style = \"text-align: right;\">&vellip;</td><td style = \"text-align: right;\">&vellip;</td><td style = \"text-align: right;\">&vellip;</td><td style = \"text-align: right;\">&vellip;</td><td style = \"text-align: right;\">&vellip;</td><td style = \"text-align: right;\">&vellip;</td><td style = \"text-align: right;\">&vellip;</td><td style = \"text-align: right;\">&vellip;</td><td style = \"text-align: right;\">&vellip;</td><td style = \"text-align: right;\">&vellip;</td><td style = \"text-align: right;\">&vellip;</td><td style = \"text-align: right;\">&vellip;</td><td style = \"text-align: right;\">&vellip;</td><td style = \"text-align: right;\">&vellip;</td><td style = \"text-align: right;\">&vellip;</td><td style = \"text-align: right;\">&dtdot;</td></tr><tr><td class = \"rowNumber\" style = \"font-weight: bold; text-align: right;\">989</td><td style = \"text-align: right;\">0.7938</td><td style = \"text-align: right;\">0.470203</td><td style = \"text-align: right;\">0.93174</td><td style = \"text-align: right;\">0.441562</td><td style = \"text-align: right;\">0.799881</td><td style = \"text-align: right;\">0.214348</td><td style = \"text-align: right;\">0.0726274</td><td style = \"text-align: right;\">0.802777</td><td style = \"text-align: right;\">0.885255</td><td style = \"text-align: right;\">0.185748</td><td style = \"text-align: right;\">0.584961</td><td style = \"text-align: right;\">0.158936</td><td style = \"text-align: right;\">0.630962</td><td style = \"text-align: right;\">0.320573</td><td style = \"text-align: right;\">0.00954083</td><td style = \"text-align: right;\">0.282687</td><td style = \"text-align: right;\">0.00115615</td><td style = \"text-align: right;\">0.459449</td><td style = \"text-align: right;\">0.823161</td><td style = \"text-align: right;\">0.347262</td><td style = \"text-align: right;\">0.977906</td><td style = \"text-align: right;\">0.941176</td><td style = \"text-align: right;\">0.795364</td><td style = \"text-align: right;\">0.84513</td><td style = \"text-align: right;\">0.844841</td><td style = \"text-align: right;\">0.570935</td><td style = \"text-align: right;\">0.506017</td><td style = \"text-align: right;\">0.957406</td><td style = \"text-align: right;\">0.367465</td><td style = \"text-align: right;\">0.52825</td><td style = \"text-align: right;\">0.0497843</td><td style = \"text-align: right;\">0.555031</td><td style = \"text-align: right;\">0.215266</td><td style = \"text-align: right;\">0.821181</td><td style = \"text-align: right;\">0.622771</td><td style = \"text-align: right;\">0.989031</td><td style = \"text-align: right;\">0.916478</td><td style = \"text-align: right;\">0.0275367</td><td style = \"text-align: right;\">0.771105</td><td style = \"text-align: right;\">0.36826</td><td style = \"text-align: right;\">0.403422</td><td style = \"text-align: right;\">0.527175</td><td style = \"text-align: right;\">0.162078</td><td style = \"text-align: right;\">0.618589</td><td style = \"text-align: right;\">0.996844</td><td style = \"text-align: right;\">0.145187</td><td style = \"text-align: right;\">0.736259</td><td style = \"text-align: right;\">0.0143942</td><td style = \"text-align: right;\">0.245268</td><td style = \"text-align: right;\">0.89905</td><td style = \"text-align: right;\">0.524522</td><td style = \"text-align: right;\">0.174398</td><td style = \"text-align: right;\">0.477557</td><td style = \"text-align: right;\">0.951929</td><td style = \"text-align: right;\">0.501704</td><td style = \"text-align: right;\">0.8789</td><td style = \"text-align: right;\">0.108654</td><td style = \"text-align: right;\">0.487752</td><td style = \"text-align: right;\">0.280716</td><td style = \"text-align: right;\">0.849147</td><td style = \"text-align: right;\">0.515193</td><td style = \"text-align: right;\">0.404184</td><td style = \"text-align: right;\">0.55527</td><td style = \"text-align: right;\">0.870357</td><td style = \"text-align: right;\">0.138122</td><td style = \"text-align: right;\">0.14683</td><td style = \"text-align: right;\">0.264191</td><td style = \"text-align: right;\">0.784621</td><td style = \"text-align: right;\">0.96551</td><td style = \"text-align: right;\">0.483133</td><td style = \"text-align: right;\">0.95682</td><td style = \"text-align: right;\">0.917352</td><td style = \"text-align: right;\">0.757755</td><td style = \"text-align: right;\">0.204985</td><td style = \"text-align: right;\">0.564966</td><td style = \"text-align: right;\">0.17223</td><td style = \"text-align: right;\">0.521205</td><td style = \"text-align: right;\">0.965916</td><td style = \"text-align: right;\">0.79294</td><td style = \"text-align: right;\">0.100891</td><td style = \"text-align: right;\">0.427409</td><td style = \"text-align: right;\">0.311364</td><td style = \"text-align: right;\">0.409801</td><td style = \"text-align: right;\">0.660353</td><td style = \"text-align: right;\">0.206206</td><td style = \"text-align: right;\">0.168982</td><td style = \"text-align: right;\">0.391606</td><td style = \"text-align: right;\">0.71987</td><td style = \"text-align: right;\">0.986182</td><td style = \"text-align: right;\">0.708994</td><td style = \"text-align: right;\">0.480761</td><td style = \"text-align: right;\">0.815604</td><td style = \"text-align: right;\">0.161045</td><td style = \"text-align: right;\">0.534418</td><td style = \"text-align: right;\">0.471593</td><td style = \"text-align: right;\">0.837218</td><td style = \"text-align: right;\">0.905971</td><td style = \"text-align: right;\">0.588907</td><td style = \"text-align: right;\">0.307485</td><td style = \"text-align: right;\">0.253986</td><td style = \"text-align: right;\">&ctdot;</td></tr><tr><td class = \"rowNumber\" style = \"font-weight: bold; text-align: right;\">990</td><td style = \"text-align: right;\">0.335507</td><td style = \"text-align: right;\">0.67085</td><td style = \"text-align: right;\">0.213006</td><td style = \"text-align: right;\">0.712196</td><td style = \"text-align: right;\">0.490469</td><td style = \"text-align: right;\">0.833114</td><td style = \"text-align: right;\">0.553566</td><td style = \"text-align: right;\">0.190972</td><td style = \"text-align: right;\">0.965411</td><td style = \"text-align: right;\">0.773296</td><td style = \"text-align: right;\">0.192789</td><td style = \"text-align: right;\">0.77683</td><td style = \"text-align: right;\">0.923338</td><td style = \"text-align: right;\">0.849017</td><td style = \"text-align: right;\">0.528022</td><td style = \"text-align: right;\">0.170552</td><td style = \"text-align: right;\">0.600123</td><td style = \"text-align: right;\">0.364796</td><td style = \"text-align: right;\">0.0772643</td><td style = \"text-align: right;\">0.343971</td><td style = \"text-align: right;\">0.911577</td><td style = \"text-align: right;\">0.038456</td><td style = \"text-align: right;\">0.236707</td><td style = \"text-align: right;\">0.908477</td><td style = \"text-align: right;\">0.809731</td><td style = \"text-align: right;\">0.946195</td><td style = \"text-align: right;\">0.397111</td><td style = \"text-align: right;\">0.39011</td><td style = \"text-align: right;\">0.00902716</td><td style = \"text-align: right;\">0.19703</td><td style = \"text-align: right;\">0.103327</td><td style = \"text-align: right;\">0.213441</td><td style = \"text-align: right;\">0.149104</td><td style = \"text-align: right;\">0.839598</td><td style = \"text-align: right;\">0.453605</td><td style = \"text-align: right;\">0.164099</td><td style = \"text-align: right;\">0.177608</td><td style = \"text-align: right;\">0.0488344</td><td style = \"text-align: right;\">0.39813</td><td style = \"text-align: right;\">0.530643</td><td style = \"text-align: right;\">0.540876</td><td style = \"text-align: right;\">0.269065</td><td style = \"text-align: right;\">0.733004</td><td style = \"text-align: right;\">0.000307431</td><td style = \"text-align: right;\">0.509096</td><td style = \"text-align: right;\">0.158382</td><td style = \"text-align: right;\">0.565569</td><td style = \"text-align: right;\">0.917348</td><td style = \"text-align: right;\">0.0036253</td><td style = \"text-align: right;\">0.317566</td><td style = \"text-align: right;\">0.603379</td><td style = \"text-align: right;\">0.068804</td><td style = \"text-align: right;\">0.794897</td><td style = \"text-align: right;\">0.838435</td><td style = \"text-align: right;\">0.416257</td><td style = \"text-align: right;\">0.734179</td><td style = \"text-align: right;\">0.958465</td><td style = \"text-align: right;\">0.175242</td><td style = \"text-align: right;\">0.91946</td><td style = \"text-align: right;\">0.421771</td><td style = \"text-align: right;\">0.99784</td><td style = \"text-align: right;\">0.0327437</td><td style = \"text-align: right;\">0.349029</td><td style = \"text-align: right;\">0.224989</td><td style = \"text-align: right;\">0.788229</td><td style = \"text-align: right;\">0.310657</td><td style = \"text-align: right;\">0.626578</td><td style = \"text-align: right;\">0.343402</td><td style = \"text-align: right;\">0.070237</td><td style = \"text-align: right;\">0.73771</td><td style = \"text-align: right;\">0.976649</td><td style = \"text-align: right;\">0.752871</td><td style = \"text-align: right;\">0.762147</td><td style = \"text-align: right;\">0.155486</td><td style = \"text-align: right;\">0.598484</td><td style = \"text-align: right;\">0.52628</td><td style = \"text-align: right;\">0.00475203</td><td style = \"text-align: right;\">0.813156</td><td style = \"text-align: right;\">0.648726</td><td style = \"text-align: right;\">0.960313</td><td style = \"text-align: right;\">0.917382</td><td style = \"text-align: right;\">0.802392</td><td style = \"text-align: right;\">0.846952</td><td style = \"text-align: right;\">0.922317</td><td style = \"text-align: right;\">0.0280845</td><td style = \"text-align: right;\">0.408411</td><td style = \"text-align: right;\">0.430433</td><td style = \"text-align: right;\">0.294435</td><td style = \"text-align: right;\">0.84664</td><td style = \"text-align: right;\">0.822003</td><td style = \"text-align: right;\">0.762444</td><td style = \"text-align: right;\">0.336704</td><td style = \"text-align: right;\">0.292204</td><td style = \"text-align: right;\">0.371234</td><td style = \"text-align: right;\">0.300788</td><td style = \"text-align: right;\">0.265386</td><td style = \"text-align: right;\">0.19183</td><td style = \"text-align: right;\">0.156133</td><td style = \"text-align: right;\">0.122974</td><td style = \"text-align: right;\">0.62161</td><td style = \"text-align: right;\">&ctdot;</td></tr><tr><td class = \"rowNumber\" style = \"font-weight: bold; text-align: right;\">991</td><td style = \"text-align: right;\">0.318699</td><td style = \"text-align: right;\">0.855621</td><td style = \"text-align: right;\">0.89789</td><td style = \"text-align: right;\">0.186005</td><td style = \"text-align: right;\">0.757165</td><td style = \"text-align: right;\">0.537527</td><td style = \"text-align: right;\">0.523455</td><td style = \"text-align: right;\">0.810702</td><td style = \"text-align: right;\">0.413644</td><td style = \"text-align: right;\">0.290425</td><td style = \"text-align: right;\">0.958096</td><td style = \"text-align: right;\">0.578765</td><td style = \"text-align: right;\">0.63485</td><td style = \"text-align: right;\">0.262268</td><td style = \"text-align: right;\">0.245943</td><td style = \"text-align: right;\">0.497027</td><td style = \"text-align: right;\">0.366844</td><td style = \"text-align: right;\">0.414837</td><td style = \"text-align: right;\">0.346189</td><td style = \"text-align: right;\">0.406763</td><td style = \"text-align: right;\">0.811995</td><td style = \"text-align: right;\">0.450049</td><td style = \"text-align: right;\">0.889867</td><td style = \"text-align: right;\">0.0975864</td><td style = \"text-align: right;\">0.698496</td><td style = \"text-align: right;\">0.469912</td><td style = \"text-align: right;\">0.211348</td><td style = \"text-align: right;\">0.270257</td><td style = \"text-align: right;\">0.511298</td><td style = \"text-align: right;\">0.324656</td><td style = \"text-align: right;\">0.567215</td><td style = \"text-align: right;\">0.0882201</td><td style = \"text-align: right;\">0.20443</td><td style = \"text-align: right;\">0.849721</td><td style = \"text-align: right;\">0.139073</td><td style = \"text-align: right;\">0.392252</td><td style = \"text-align: right;\">0.122165</td><td style = \"text-align: right;\">0.545188</td><td style = \"text-align: right;\">0.638874</td><td style = \"text-align: right;\">0.124667</td><td style = \"text-align: right;\">0.784196</td><td style = \"text-align: right;\">0.682275</td><td style = \"text-align: right;\">0.860103</td><td style = \"text-align: right;\">0.787796</td><td style = \"text-align: right;\">0.286325</td><td style = \"text-align: right;\">0.867909</td><td style = \"text-align: right;\">0.988358</td><td style = \"text-align: right;\">0.245936</td><td style = \"text-align: right;\">0.214267</td><td style = \"text-align: right;\">0.0564961</td><td style = \"text-align: right;\">0.207305</td><td style = \"text-align: right;\">0.745315</td><td style = \"text-align: right;\">0.552497</td><td style = \"text-align: right;\">0.53583</td><td style = \"text-align: right;\">0.519448</td><td style = \"text-align: right;\">0.8416</td><td style = \"text-align: right;\">0.806909</td><td style = \"text-align: right;\">0.444427</td><td style = \"text-align: right;\">0.175787</td><td style = \"text-align: right;\">0.744833</td><td style = \"text-align: right;\">0.226012</td><td style = \"text-align: right;\">0.867389</td><td style = \"text-align: right;\">0.523275</td><td style = \"text-align: right;\">0.753208</td><td style = \"text-align: right;\">0.971446</td><td style = \"text-align: right;\">0.930404</td><td style = \"text-align: right;\">0.0443151</td><td style = \"text-align: right;\">0.739493</td><td style = \"text-align: right;\">0.177052</td><td style = \"text-align: right;\">0.411851</td><td style = \"text-align: right;\">0.565202</td><td style = \"text-align: right;\">0.219197</td><td style = \"text-align: right;\">0.741081</td><td style = \"text-align: right;\">0.849491</td><td style = \"text-align: right;\">0.923764</td><td style = \"text-align: right;\">0.160924</td><td style = \"text-align: right;\">0.150755</td><td style = \"text-align: right;\">0.727482</td><td style = \"text-align: right;\">0.347877</td><td style = \"text-align: right;\">0.996283</td><td style = \"text-align: right;\">0.952941</td><td style = \"text-align: right;\">0.81976</td><td style = \"text-align: right;\">0.404814</td><td style = \"text-align: right;\">0.949774</td><td style = \"text-align: right;\">0.726088</td><td style = \"text-align: right;\">0.639014</td><td style = \"text-align: right;\">0.298294</td><td style = \"text-align: right;\">0.490915</td><td style = \"text-align: right;\">0.718063</td><td style = \"text-align: right;\">0.552294</td><td style = \"text-align: right;\">0.384831</td><td style = \"text-align: right;\">0.549358</td><td style = \"text-align: right;\">0.724398</td><td style = \"text-align: right;\">0.626641</td><td style = \"text-align: right;\">0.00012028</td><td style = \"text-align: right;\">0.854545</td><td style = \"text-align: right;\">0.195479</td><td style = \"text-align: right;\">0.0122166</td><td style = \"text-align: right;\">0.495049</td><td style = \"text-align: right;\">0.930874</td><td style = \"text-align: right;\">&ctdot;</td></tr><tr><td class = \"rowNumber\" style = \"font-weight: bold; text-align: right;\">992</td><td style = \"text-align: right;\">0.385526</td><td style = \"text-align: right;\">0.0811559</td><td style = \"text-align: right;\">0.479614</td><td style = \"text-align: right;\">0.163361</td><td style = \"text-align: right;\">0.0102084</td><td style = \"text-align: right;\">0.649546</td><td style = \"text-align: right;\">0.657604</td><td style = \"text-align: right;\">0.720042</td><td style = \"text-align: right;\">0.465867</td><td style = \"text-align: right;\">0.94045</td><td style = \"text-align: right;\">0.782627</td><td style = \"text-align: right;\">0.691367</td><td style = \"text-align: right;\">0.0662754</td><td style = \"text-align: right;\">0.732791</td><td style = \"text-align: right;\">0.574579</td><td style = \"text-align: right;\">0.381599</td><td style = \"text-align: right;\">0.0708026</td><td style = \"text-align: right;\">0.667565</td><td style = \"text-align: right;\">0.531275</td><td style = \"text-align: right;\">0.584148</td><td style = \"text-align: right;\">0.199724</td><td style = \"text-align: right;\">0.455764</td><td style = \"text-align: right;\">0.607253</td><td style = \"text-align: right;\">0.910883</td><td style = \"text-align: right;\">0.737946</td><td style = \"text-align: right;\">0.703731</td><td style = \"text-align: right;\">0.849884</td><td style = \"text-align: right;\">0.495902</td><td style = \"text-align: right;\">0.242281</td><td style = \"text-align: right;\">0.831206</td><td style = \"text-align: right;\">0.207193</td><td style = \"text-align: right;\">0.064264</td><td style = \"text-align: right;\">0.00131496</td><td style = \"text-align: right;\">0.959967</td><td style = \"text-align: right;\">0.312419</td><td style = \"text-align: right;\">0.595587</td><td style = \"text-align: right;\">0.201843</td><td style = \"text-align: right;\">0.0075384</td><td style = \"text-align: right;\">0.846742</td><td style = \"text-align: right;\">0.858428</td><td style = \"text-align: right;\">0.579144</td><td style = \"text-align: right;\">0.434224</td><td style = \"text-align: right;\">0.333309</td><td style = \"text-align: right;\">0.626536</td><td style = \"text-align: right;\">0.590739</td><td style = \"text-align: right;\">0.0646044</td><td style = \"text-align: right;\">0.462775</td><td style = \"text-align: right;\">0.490585</td><td style = \"text-align: right;\">0.740537</td><td style = \"text-align: right;\">0.592094</td><td style = \"text-align: right;\">0.137367</td><td style = \"text-align: right;\">0.549106</td><td style = \"text-align: right;\">0.869887</td><td style = \"text-align: right;\">0.705717</td><td style = \"text-align: right;\">0.717586</td><td style = \"text-align: right;\">0.363997</td><td style = \"text-align: right;\">0.327315</td><td style = \"text-align: right;\">0.654602</td><td style = \"text-align: right;\">0.285881</td><td style = \"text-align: right;\">0.73758</td><td style = \"text-align: right;\">0.476954</td><td style = \"text-align: right;\">0.439074</td><td style = \"text-align: right;\">0.772946</td><td style = \"text-align: right;\">0.774809</td><td style = \"text-align: right;\">0.558633</td><td style = \"text-align: right;\">0.359676</td><td style = \"text-align: right;\">0.249601</td><td style = \"text-align: right;\">0.310865</td><td style = \"text-align: right;\">0.883622</td><td style = \"text-align: right;\">0.594976</td><td style = \"text-align: right;\">0.590758</td><td style = \"text-align: right;\">0.494172</td><td style = \"text-align: right;\">0.97784</td><td style = \"text-align: right;\">0.515925</td><td style = \"text-align: right;\">0.196056</td><td style = \"text-align: right;\">0.759124</td><td style = \"text-align: right;\">0.221263</td><td style = \"text-align: right;\">0.510825</td><td style = \"text-align: right;\">0.68341</td><td style = \"text-align: right;\">0.544371</td><td style = \"text-align: right;\">0.526324</td><td style = \"text-align: right;\">0.192338</td><td style = \"text-align: right;\">0.647001</td><td style = \"text-align: right;\">0.422677</td><td style = \"text-align: right;\">0.833559</td><td style = \"text-align: right;\">0.455662</td><td style = \"text-align: right;\">0.775089</td><td style = \"text-align: right;\">0.554409</td><td style = \"text-align: right;\">0.862595</td><td style = \"text-align: right;\">0.604311</td><td style = \"text-align: right;\">0.348085</td><td style = \"text-align: right;\">0.556081</td><td style = \"text-align: right;\">0.00258774</td><td style = \"text-align: right;\">0.924799</td><td style = \"text-align: right;\">0.840598</td><td style = \"text-align: right;\">0.239618</td><td style = \"text-align: right;\">0.470394</td><td style = \"text-align: right;\">0.967358</td><td style = \"text-align: right;\">0.038375</td><td style = \"text-align: right;\">0.878066</td><td style = \"text-align: right;\">&ctdot;</td></tr><tr><td class = \"rowNumber\" style = \"font-weight: bold; text-align: right;\">993</td><td style = \"text-align: right;\">0.678458</td><td style = \"text-align: right;\">0.557108</td><td style = \"text-align: right;\">0.202757</td><td style = \"text-align: right;\">0.493311</td><td style = \"text-align: right;\">0.343117</td><td style = \"text-align: right;\">0.922908</td><td style = \"text-align: right;\">0.261242</td><td style = \"text-align: right;\">0.357386</td><td style = \"text-align: right;\">0.458701</td><td style = \"text-align: right;\">0.418794</td><td style = \"text-align: right;\">0.282234</td><td style = \"text-align: right;\">0.184072</td><td style = \"text-align: right;\">0.778329</td><td style = \"text-align: right;\">0.119601</td><td style = \"text-align: right;\">0.0760958</td><td style = \"text-align: right;\">0.277757</td><td style = \"text-align: right;\">0.893947</td><td style = \"text-align: right;\">0.0498649</td><td style = \"text-align: right;\">0.60048</td><td style = \"text-align: right;\">0.626055</td><td style = \"text-align: right;\">0.180351</td><td style = \"text-align: right;\">0.609328</td><td style = \"text-align: right;\">0.448955</td><td style = \"text-align: right;\">0.575381</td><td style = \"text-align: right;\">0.589045</td><td style = \"text-align: right;\">0.470628</td><td style = \"text-align: right;\">0.0627738</td><td style = \"text-align: right;\">0.917957</td><td style = \"text-align: right;\">0.139759</td><td style = \"text-align: right;\">0.586553</td><td style = \"text-align: right;\">0.904703</td><td style = \"text-align: right;\">0.503882</td><td style = \"text-align: right;\">0.98279</td><td style = \"text-align: right;\">0.678252</td><td style = \"text-align: right;\">0.279891</td><td style = \"text-align: right;\">0.601591</td><td style = \"text-align: right;\">0.312127</td><td style = \"text-align: right;\">0.56454</td><td style = \"text-align: right;\">0.328936</td><td style = \"text-align: right;\">0.334409</td><td style = \"text-align: right;\">0.888321</td><td style = \"text-align: right;\">0.550556</td><td style = \"text-align: right;\">0.918226</td><td style = \"text-align: right;\">0.0262243</td><td style = \"text-align: right;\">0.444125</td><td style = \"text-align: right;\">0.387428</td><td style = \"text-align: right;\">0.0830277</td><td style = \"text-align: right;\">0.501643</td><td style = \"text-align: right;\">0.261101</td><td style = \"text-align: right;\">0.723811</td><td style = \"text-align: right;\">0.305919</td><td style = \"text-align: right;\">0.60967</td><td style = \"text-align: right;\">0.461639</td><td style = \"text-align: right;\">0.091341</td><td style = \"text-align: right;\">0.553738</td><td style = \"text-align: right;\">0.985621</td><td style = \"text-align: right;\">0.475326</td><td style = \"text-align: right;\">0.905171</td><td style = \"text-align: right;\">0.446904</td><td style = \"text-align: right;\">0.801063</td><td style = \"text-align: right;\">0.933702</td><td style = \"text-align: right;\">0.526014</td><td style = \"text-align: right;\">0.491401</td><td style = \"text-align: right;\">0.103181</td><td style = \"text-align: right;\">0.669805</td><td style = \"text-align: right;\">0.206602</td><td style = \"text-align: right;\">0.929505</td><td style = \"text-align: right;\">0.405348</td><td style = \"text-align: right;\">0.880724</td><td style = \"text-align: right;\">0.134753</td><td style = \"text-align: right;\">0.919921</td><td style = \"text-align: right;\">0.116427</td><td style = \"text-align: right;\">0.585408</td><td style = \"text-align: right;\">0.263611</td><td style = \"text-align: right;\">0.148553</td><td style = \"text-align: right;\">0.880533</td><td style = \"text-align: right;\">0.291908</td><td style = \"text-align: right;\">0.89287</td><td style = \"text-align: right;\">0.81273</td><td style = \"text-align: right;\">0.230538</td><td style = \"text-align: right;\">0.0110548</td><td style = \"text-align: right;\">0.215158</td><td style = \"text-align: right;\">0.188272</td><td style = \"text-align: right;\">0.31742</td><td style = \"text-align: right;\">0.340102</td><td style = \"text-align: right;\">0.578217</td><td style = \"text-align: right;\">0.489938</td><td style = \"text-align: right;\">0.760335</td><td style = \"text-align: right;\">0.663621</td><td style = \"text-align: right;\">0.312315</td><td style = \"text-align: right;\">0.108564</td><td style = \"text-align: right;\">0.651062</td><td style = \"text-align: right;\">0.0475174</td><td style = \"text-align: right;\">0.926033</td><td style = \"text-align: right;\">0.823137</td><td style = \"text-align: right;\">0.300454</td><td style = \"text-align: right;\">0.308243</td><td style = \"text-align: right;\">0.13366</td><td style = \"text-align: right;\">0.865841</td><td style = \"text-align: right;\">0.593067</td><td style = \"text-align: right;\">&ctdot;</td></tr><tr><td class = \"rowNumber\" style = \"font-weight: bold; text-align: right;\">994</td><td style = \"text-align: right;\">0.424295</td><td style = \"text-align: right;\">0.78012</td><td style = \"text-align: right;\">0.577681</td><td style = \"text-align: right;\">0.274228</td><td style = \"text-align: right;\">0.225563</td><td style = \"text-align: right;\">0.29553</td><td style = \"text-align: right;\">0.395957</td><td style = \"text-align: right;\">0.260142</td><td style = \"text-align: right;\">0.277949</td><td style = \"text-align: right;\">0.463644</td><td style = \"text-align: right;\">0.242719</td><td style = \"text-align: right;\">0.830015</td><td style = \"text-align: right;\">0.591877</td><td style = \"text-align: right;\">0.862664</td><td style = \"text-align: right;\">0.41373</td><td style = \"text-align: right;\">0.365988</td><td style = \"text-align: right;\">0.0936457</td><td style = \"text-align: right;\">0.645005</td><td style = \"text-align: right;\">0.709468</td><td style = \"text-align: right;\">0.167342</td><td style = \"text-align: right;\">0.195179</td><td style = \"text-align: right;\">0.245388</td><td style = \"text-align: right;\">0.665987</td><td style = \"text-align: right;\">0.652001</td><td style = \"text-align: right;\">0.382251</td><td style = \"text-align: right;\">0.566473</td><td style = \"text-align: right;\">0.00939404</td><td style = \"text-align: right;\">0.819653</td><td style = \"text-align: right;\">0.288755</td><td style = \"text-align: right;\">0.416332</td><td style = \"text-align: right;\">0.674978</td><td style = \"text-align: right;\">0.026384</td><td style = \"text-align: right;\">0.580484</td><td style = \"text-align: right;\">0.251398</td><td style = \"text-align: right;\">0.120324</td><td style = \"text-align: right;\">0.587503</td><td style = \"text-align: right;\">0.362091</td><td style = \"text-align: right;\">0.279315</td><td style = \"text-align: right;\">0.287151</td><td style = \"text-align: right;\">0.0236091</td><td style = \"text-align: right;\">0.537809</td><td style = \"text-align: right;\">0.82536</td><td style = \"text-align: right;\">0.53102</td><td style = \"text-align: right;\">0.142953</td><td style = \"text-align: right;\">0.421291</td><td style = \"text-align: right;\">0.630039</td><td style = \"text-align: right;\">0.0882846</td><td style = \"text-align: right;\">0.758558</td><td style = \"text-align: right;\">0.289519</td><td style = \"text-align: right;\">0.421927</td><td style = \"text-align: right;\">0.833634</td><td style = \"text-align: right;\">0.533817</td><td style = \"text-align: right;\">0.983997</td><td style = \"text-align: right;\">0.0173648</td><td style = \"text-align: right;\">0.0952976</td><td style = \"text-align: right;\">0.606937</td><td style = \"text-align: right;\">0.690477</td><td style = \"text-align: right;\">0.396225</td><td style = \"text-align: right;\">0.887328</td><td style = \"text-align: right;\">0.484774</td><td style = \"text-align: right;\">0.421553</td><td style = \"text-align: right;\">0.440067</td><td style = \"text-align: right;\">0.667265</td><td style = \"text-align: right;\">0.314631</td><td style = \"text-align: right;\">0.399197</td><td style = \"text-align: right;\">0.874844</td><td style = \"text-align: right;\">0.151715</td><td style = \"text-align: right;\">0.543429</td><td style = \"text-align: right;\">0.562391</td><td style = \"text-align: right;\">0.727646</td><td style = \"text-align: right;\">0.743861</td><td style = \"text-align: right;\">0.403023</td><td style = \"text-align: right;\">0.593945</td><td style = \"text-align: right;\">0.275799</td><td style = \"text-align: right;\">0.0417108</td><td style = \"text-align: right;\">0.837903</td><td style = \"text-align: right;\">0.343106</td><td style = \"text-align: right;\">0.335799</td><td style = \"text-align: right;\">0.32336</td><td style = \"text-align: right;\">0.912103</td><td style = \"text-align: right;\">0.759296</td><td style = \"text-align: right;\">0.551882</td><td style = \"text-align: right;\">0.67661</td><td style = \"text-align: right;\">0.335774</td><td style = \"text-align: right;\">0.99212</td><td style = \"text-align: right;\">0.886219</td><td style = \"text-align: right;\">0.192232</td><td style = \"text-align: right;\">0.506866</td><td style = \"text-align: right;\">0.147</td><td style = \"text-align: right;\">0.720016</td><td style = \"text-align: right;\">0.411017</td><td style = \"text-align: right;\">0.804418</td><td style = \"text-align: right;\">0.833963</td><td style = \"text-align: right;\">0.588914</td><td style = \"text-align: right;\">0.970518</td><td style = \"text-align: right;\">0.723264</td><td style = \"text-align: right;\">0.173712</td><td style = \"text-align: right;\">0.634828</td><td style = \"text-align: right;\">0.57976</td><td style = \"text-align: right;\">0.206616</td><td style = \"text-align: right;\">&ctdot;</td></tr><tr><td class = \"rowNumber\" style = \"font-weight: bold; text-align: right;\">995</td><td style = \"text-align: right;\">0.481554</td><td style = \"text-align: right;\">0.0441882</td><td style = \"text-align: right;\">0.700181</td><td style = \"text-align: right;\">0.317677</td><td style = \"text-align: right;\">0.0846761</td><td style = \"text-align: right;\">0.949135</td><td style = \"text-align: right;\">0.457341</td><td style = \"text-align: right;\">0.571596</td><td style = \"text-align: right;\">0.0640147</td><td style = \"text-align: right;\">0.781281</td><td style = \"text-align: right;\">0.432866</td><td style = \"text-align: right;\">0.119252</td><td style = \"text-align: right;\">0.395297</td><td style = \"text-align: right;\">0.286058</td><td style = \"text-align: right;\">0.512666</td><td style = \"text-align: right;\">0.28892</td><td style = \"text-align: right;\">0.889065</td><td style = \"text-align: right;\">0.392283</td><td style = \"text-align: right;\">0.625326</td><td style = \"text-align: right;\">0.638938</td><td style = \"text-align: right;\">0.267646</td><td style = \"text-align: right;\">0.753392</td><td style = \"text-align: right;\">0.621089</td><td style = \"text-align: right;\">0.0658605</td><td style = \"text-align: right;\">0.59495</td><td style = \"text-align: right;\">0.343818</td><td style = \"text-align: right;\">0.770693</td><td style = \"text-align: right;\">0.94488</td><td style = \"text-align: right;\">0.227965</td><td style = \"text-align: right;\">0.60915</td><td style = \"text-align: right;\">0.296814</td><td style = \"text-align: right;\">0.529701</td><td style = \"text-align: right;\">0.207136</td><td style = \"text-align: right;\">0.959052</td><td style = \"text-align: right;\">0.383638</td><td style = \"text-align: right;\">0.892441</td><td style = \"text-align: right;\">0.62196</td><td style = \"text-align: right;\">0.175727</td><td style = \"text-align: right;\">0.549517</td><td style = \"text-align: right;\">0.137818</td><td style = \"text-align: right;\">0.918747</td><td style = \"text-align: right;\">0.546968</td><td style = \"text-align: right;\">0.668477</td><td style = \"text-align: right;\">0.444744</td><td style = \"text-align: right;\">0.931012</td><td style = \"text-align: right;\">0.148076</td><td style = \"text-align: right;\">0.507896</td><td style = \"text-align: right;\">0.692397</td><td style = \"text-align: right;\">0.942958</td><td style = \"text-align: right;\">0.829974</td><td style = \"text-align: right;\">0.506719</td><td style = \"text-align: right;\">0.667715</td><td style = \"text-align: right;\">0.382446</td><td style = \"text-align: right;\">0.389034</td><td style = \"text-align: right;\">0.592372</td><td style = \"text-align: right;\">0.211112</td><td style = \"text-align: right;\">0.0536174</td><td style = \"text-align: right;\">0.435104</td><td style = \"text-align: right;\">0.654613</td><td style = \"text-align: right;\">0.0985265</td><td style = \"text-align: right;\">0.724492</td><td style = \"text-align: right;\">0.120103</td><td style = \"text-align: right;\">0.193283</td><td style = \"text-align: right;\">0.111822</td><td style = \"text-align: right;\">0.136294</td><td style = \"text-align: right;\">0.871079</td><td style = \"text-align: right;\">0.406365</td><td style = \"text-align: right;\">0.153837</td><td style = \"text-align: right;\">0.492183</td><td style = \"text-align: right;\">0.0707954</td><td style = \"text-align: right;\">0.0270011</td><td style = \"text-align: right;\">0.854367</td><td style = \"text-align: right;\">0.76891</td><td style = \"text-align: right;\">0.960738</td><td style = \"text-align: right;\">0.256492</td><td style = \"text-align: right;\">0.901838</td><td style = \"text-align: right;\">0.457021</td><td style = \"text-align: right;\">0.0812045</td><td style = \"text-align: right;\">0.442128</td><td style = \"text-align: right;\">0.397439</td><td style = \"text-align: right;\">0.51791</td><td style = \"text-align: right;\">0.75772</td><td style = \"text-align: right;\">0.323711</td><td style = \"text-align: right;\">0.779831</td><td style = \"text-align: right;\">0.331937</td><td style = \"text-align: right;\">0.896385</td><td style = \"text-align: right;\">0.151654</td><td style = \"text-align: right;\">0.752883</td><td style = \"text-align: right;\">0.61111</td><td style = \"text-align: right;\">0.233529</td><td style = \"text-align: right;\">0.430181</td><td style = \"text-align: right;\">0.162369</td><td style = \"text-align: right;\">0.685753</td><td style = \"text-align: right;\">0.734598</td><td style = \"text-align: right;\">0.787228</td><td style = \"text-align: right;\">0.327247</td><td style = \"text-align: right;\">0.558746</td><td style = \"text-align: right;\">0.632998</td><td style = \"text-align: right;\">0.592922</td><td style = \"text-align: right;\">0.329131</td><td style = \"text-align: right;\">&ctdot;</td></tr><tr><td class = \"rowNumber\" style = \"font-weight: bold; text-align: right;\">996</td><td style = \"text-align: right;\">0.401528</td><td style = \"text-align: right;\">0.658903</td><td style = \"text-align: right;\">0.438309</td><td style = \"text-align: right;\">0.211217</td><td style = \"text-align: right;\">0.211515</td><td style = \"text-align: right;\">0.441902</td><td style = \"text-align: right;\">0.0280903</td><td style = \"text-align: right;\">0.412717</td><td style = \"text-align: right;\">0.180855</td><td style = \"text-align: right;\">0.628166</td><td style = \"text-align: right;\">0.949295</td><td style = \"text-align: right;\">0.0234695</td><td style = \"text-align: right;\">0.626841</td><td style = \"text-align: right;\">0.70688</td><td style = \"text-align: right;\">0.197621</td><td style = \"text-align: right;\">0.216484</td><td style = \"text-align: right;\">0.607782</td><td style = \"text-align: right;\">0.769642</td><td style = \"text-align: right;\">0.949958</td><td style = \"text-align: right;\">0.249306</td><td style = \"text-align: right;\">0.481014</td><td style = \"text-align: right;\">0.697822</td><td style = \"text-align: right;\">0.681857</td><td style = \"text-align: right;\">0.920842</td><td style = \"text-align: right;\">0.391799</td><td style = \"text-align: right;\">0.567247</td><td style = \"text-align: right;\">0.581468</td><td style = \"text-align: right;\">0.275073</td><td style = \"text-align: right;\">0.0414921</td><td style = \"text-align: right;\">0.960641</td><td style = \"text-align: right;\">0.120329</td><td style = \"text-align: right;\">0.955094</td><td style = \"text-align: right;\">0.84551</td><td style = \"text-align: right;\">0.540647</td><td style = \"text-align: right;\">0.072297</td><td style = \"text-align: right;\">0.423689</td><td style = \"text-align: right;\">0.545505</td><td style = \"text-align: right;\">0.287923</td><td style = \"text-align: right;\">0.281248</td><td style = \"text-align: right;\">0.658782</td><td style = \"text-align: right;\">0.481355</td><td style = \"text-align: right;\">0.586361</td><td style = \"text-align: right;\">0.527756</td><td style = \"text-align: right;\">0.694976</td><td style = \"text-align: right;\">0.772877</td><td style = \"text-align: right;\">0.87787</td><td style = \"text-align: right;\">0.782064</td><td style = \"text-align: right;\">0.981036</td><td style = \"text-align: right;\">0.393483</td><td style = \"text-align: right;\">0.478884</td><td style = \"text-align: right;\">0.673706</td><td style = \"text-align: right;\">0.5727</td><td style = \"text-align: right;\">0.518801</td><td style = \"text-align: right;\">0.518592</td><td style = \"text-align: right;\">0.787306</td><td style = \"text-align: right;\">0.32225</td><td style = \"text-align: right;\">0.668103</td><td style = \"text-align: right;\">0.234636</td><td style = \"text-align: right;\">0.36528</td><td style = \"text-align: right;\">0.954682</td><td style = \"text-align: right;\">0.938105</td><td style = \"text-align: right;\">0.959623</td><td style = \"text-align: right;\">0.151342</td><td style = \"text-align: right;\">0.923438</td><td style = \"text-align: right;\">0.313945</td><td style = \"text-align: right;\">0.00595974</td><td style = \"text-align: right;\">0.947103</td><td style = \"text-align: right;\">0.852135</td><td style = \"text-align: right;\">0.178326</td><td style = \"text-align: right;\">0.546221</td><td style = \"text-align: right;\">0.36211</td><td style = \"text-align: right;\">0.143301</td><td style = \"text-align: right;\">0.371219</td><td style = \"text-align: right;\">0.72453</td><td style = \"text-align: right;\">0.181077</td><td style = \"text-align: right;\">0.591335</td><td style = \"text-align: right;\">0.877893</td><td style = \"text-align: right;\">0.717275</td><td style = \"text-align: right;\">0.383012</td><td style = \"text-align: right;\">0.182125</td><td style = \"text-align: right;\">0.0768744</td><td style = \"text-align: right;\">0.949392</td><td style = \"text-align: right;\">0.437771</td><td style = \"text-align: right;\">0.133059</td><td style = \"text-align: right;\">0.984711</td><td style = \"text-align: right;\">0.725745</td><td style = \"text-align: right;\">0.92119</td><td style = \"text-align: right;\">0.149844</td><td style = \"text-align: right;\">0.591016</td><td style = \"text-align: right;\">0.299839</td><td style = \"text-align: right;\">0.793963</td><td style = \"text-align: right;\">0.435089</td><td style = \"text-align: right;\">0.739725</td><td style = \"text-align: right;\">0.233321</td><td style = \"text-align: right;\">0.0305735</td><td style = \"text-align: right;\">0.945321</td><td style = \"text-align: right;\">0.0268155</td><td style = \"text-align: right;\">0.0756352</td><td style = \"text-align: right;\">0.571333</td><td style = \"text-align: right;\">0.623045</td><td style = \"text-align: right;\">&ctdot;</td></tr><tr><td class = \"rowNumber\" style = \"font-weight: bold; text-align: right;\">997</td><td style = \"text-align: right;\">0.58985</td><td style = \"text-align: right;\">0.909857</td><td style = \"text-align: right;\">0.354735</td><td style = \"text-align: right;\">0.442829</td><td style = \"text-align: right;\">0.438322</td><td style = \"text-align: right;\">0.847835</td><td style = \"text-align: right;\">0.843131</td><td style = \"text-align: right;\">0.727618</td><td style = \"text-align: right;\">0.043537</td><td style = \"text-align: right;\">0.2958</td><td style = \"text-align: right;\">0.0626168</td><td style = \"text-align: right;\">0.0375887</td><td style = \"text-align: right;\">0.480541</td><td style = \"text-align: right;\">0.187324</td><td style = \"text-align: right;\">0.159619</td><td style = \"text-align: right;\">0.681808</td><td style = \"text-align: right;\">0.382427</td><td style = \"text-align: right;\">0.7819</td><td style = \"text-align: right;\">0.193915</td><td style = \"text-align: right;\">0.918742</td><td style = \"text-align: right;\">0.339773</td><td style = \"text-align: right;\">0.996588</td><td style = \"text-align: right;\">0.0750327</td><td style = \"text-align: right;\">0.667384</td><td style = \"text-align: right;\">0.813943</td><td style = \"text-align: right;\">0.648744</td><td style = \"text-align: right;\">0.778451</td><td style = \"text-align: right;\">0.352497</td><td style = \"text-align: right;\">0.805257</td><td style = \"text-align: right;\">0.950376</td><td style = \"text-align: right;\">0.286605</td><td style = \"text-align: right;\">0.861475</td><td style = \"text-align: right;\">0.137177</td><td style = \"text-align: right;\">0.586876</td><td style = \"text-align: right;\">0.747203</td><td style = \"text-align: right;\">0.562411</td><td style = \"text-align: right;\">0.633759</td><td style = \"text-align: right;\">0.00705207</td><td style = \"text-align: right;\">0.544606</td><td style = \"text-align: right;\">0.818714</td><td style = \"text-align: right;\">0.740385</td><td style = \"text-align: right;\">0.56901</td><td style = \"text-align: right;\">0.0370867</td><td style = \"text-align: right;\">0.707534</td><td style = \"text-align: right;\">0.119938</td><td style = \"text-align: right;\">0.754687</td><td style = \"text-align: right;\">0.113022</td><td style = \"text-align: right;\">0.153186</td><td style = \"text-align: right;\">0.571747</td><td style = \"text-align: right;\">0.664875</td><td style = \"text-align: right;\">0.884798</td><td style = \"text-align: right;\">0.686204</td><td style = \"text-align: right;\">0.336496</td><td style = \"text-align: right;\">0.759956</td><td style = \"text-align: right;\">0.0350065</td><td style = \"text-align: right;\">0.238342</td><td style = \"text-align: right;\">0.829981</td><td style = \"text-align: right;\">0.778296</td><td style = \"text-align: right;\">0.400111</td><td style = \"text-align: right;\">0.460372</td><td style = \"text-align: right;\">0.122122</td><td style = \"text-align: right;\">0.0100303</td><td style = \"text-align: right;\">0.514388</td><td style = \"text-align: right;\">0.157644</td><td style = \"text-align: right;\">0.439795</td><td style = \"text-align: right;\">0.43117</td><td style = \"text-align: right;\">0.169505</td><td style = \"text-align: right;\">0.457244</td><td style = \"text-align: right;\">0.557165</td><td style = \"text-align: right;\">0.801513</td><td style = \"text-align: right;\">0.70288</td><td style = \"text-align: right;\">0.081918</td><td style = \"text-align: right;\">0.21622</td><td style = \"text-align: right;\">0.202525</td><td style = \"text-align: right;\">0.973381</td><td style = \"text-align: right;\">0.630359</td><td style = \"text-align: right;\">0.625955</td><td style = \"text-align: right;\">0.868939</td><td style = \"text-align: right;\">0.0546023</td><td style = \"text-align: right;\">0.386919</td><td style = \"text-align: right;\">0.111863</td><td style = \"text-align: right;\">0.444876</td><td style = \"text-align: right;\">0.0105433</td><td style = \"text-align: right;\">0.768942</td><td style = \"text-align: right;\">0.94646</td><td style = \"text-align: right;\">0.266636</td><td style = \"text-align: right;\">0.334259</td><td style = \"text-align: right;\">0.533529</td><td style = \"text-align: right;\">0.342496</td><td style = \"text-align: right;\">0.298016</td><td style = \"text-align: right;\">0.768956</td><td style = \"text-align: right;\">0.207063</td><td style = \"text-align: right;\">0.587475</td><td style = \"text-align: right;\">0.901736</td><td style = \"text-align: right;\">0.337462</td><td style = \"text-align: right;\">0.0886105</td><td style = \"text-align: right;\">0.754298</td><td style = \"text-align: right;\">0.595919</td><td style = \"text-align: right;\">0.955853</td><td style = \"text-align: right;\">0.548087</td><td style = \"text-align: right;\">&ctdot;</td></tr><tr><td class = \"rowNumber\" style = \"font-weight: bold; text-align: right;\">998</td><td style = \"text-align: right;\">0.871944</td><td style = \"text-align: right;\">0.821183</td><td style = \"text-align: right;\">0.725636</td><td style = \"text-align: right;\">0.521645</td><td style = \"text-align: right;\">0.230773</td><td style = \"text-align: right;\">0.506747</td><td style = \"text-align: right;\">0.47283</td><td style = \"text-align: right;\">0.902559</td><td style = \"text-align: right;\">0.806089</td><td style = \"text-align: right;\">0.710561</td><td style = \"text-align: right;\">0.343707</td><td style = \"text-align: right;\">0.291233</td><td style = \"text-align: right;\">0.948628</td><td style = \"text-align: right;\">0.525034</td><td style = \"text-align: right;\">0.408663</td><td style = \"text-align: right;\">0.784639</td><td style = \"text-align: right;\">0.207999</td><td style = \"text-align: right;\">0.916874</td><td style = \"text-align: right;\">0.973697</td><td style = \"text-align: right;\">0.594586</td><td style = \"text-align: right;\">0.120818</td><td style = \"text-align: right;\">0.591678</td><td style = \"text-align: right;\">0.555085</td><td style = \"text-align: right;\">0.269047</td><td style = \"text-align: right;\">0.149341</td><td style = \"text-align: right;\">0.836679</td><td style = \"text-align: right;\">0.174623</td><td style = \"text-align: right;\">0.0653285</td><td style = \"text-align: right;\">0.247579</td><td style = \"text-align: right;\">0.800229</td><td style = \"text-align: right;\">0.805376</td><td style = \"text-align: right;\">0.141725</td><td style = \"text-align: right;\">0.70089</td><td style = \"text-align: right;\">0.484247</td><td style = \"text-align: right;\">0.542784</td><td style = \"text-align: right;\">0.133376</td><td style = \"text-align: right;\">0.706461</td><td style = \"text-align: right;\">0.139403</td><td style = \"text-align: right;\">0.311023</td><td style = \"text-align: right;\">0.252198</td><td style = \"text-align: right;\">0.110557</td><td style = \"text-align: right;\">0.139412</td><td style = \"text-align: right;\">0.402585</td><td style = \"text-align: right;\">0.313334</td><td style = \"text-align: right;\">0.485571</td><td style = \"text-align: right;\">0.923477</td><td style = \"text-align: right;\">0.232277</td><td style = \"text-align: right;\">0.18273</td><td style = \"text-align: right;\">0.216354</td><td style = \"text-align: right;\">0.34598</td><td style = \"text-align: right;\">0.716719</td><td style = \"text-align: right;\">0.89775</td><td style = \"text-align: right;\">0.85979</td><td style = \"text-align: right;\">0.469057</td><td style = \"text-align: right;\">0.353088</td><td style = \"text-align: right;\">0.0658065</td><td style = \"text-align: right;\">0.630643</td><td style = \"text-align: right;\">0.194692</td><td style = \"text-align: right;\">0.945528</td><td style = \"text-align: right;\">0.263228</td><td style = \"text-align: right;\">0.227477</td><td style = \"text-align: right;\">0.898712</td><td style = \"text-align: right;\">0.573841</td><td style = \"text-align: right;\">0.834761</td><td style = \"text-align: right;\">0.678992</td><td style = \"text-align: right;\">0.0698554</td><td style = \"text-align: right;\">0.606778</td><td style = \"text-align: right;\">0.0664735</td><td style = \"text-align: right;\">0.870948</td><td style = \"text-align: right;\">0.0566045</td><td style = \"text-align: right;\">0.240453</td><td style = \"text-align: right;\">0.118974</td><td style = \"text-align: right;\">0.814929</td><td style = \"text-align: right;\">0.628905</td><td style = \"text-align: right;\">0.834959</td><td style = \"text-align: right;\">0.341687</td><td style = \"text-align: right;\">0.303889</td><td style = \"text-align: right;\">0.202003</td><td style = \"text-align: right;\">0.639411</td><td style = \"text-align: right;\">0.697289</td><td style = \"text-align: right;\">0.00421912</td><td style = \"text-align: right;\">0.799744</td><td style = \"text-align: right;\">0.488837</td><td style = \"text-align: right;\">0.335656</td><td style = \"text-align: right;\">0.0953115</td><td style = \"text-align: right;\">0.69099</td><td style = \"text-align: right;\">0.928979</td><td style = \"text-align: right;\">0.630334</td><td style = \"text-align: right;\">0.225244</td><td style = \"text-align: right;\">0.977107</td><td style = \"text-align: right;\">0.108807</td><td style = \"text-align: right;\">0.631775</td><td style = \"text-align: right;\">0.0412976</td><td style = \"text-align: right;\">0.621693</td><td style = \"text-align: right;\">0.401818</td><td style = \"text-align: right;\">0.599301</td><td style = \"text-align: right;\">0.298324</td><td style = \"text-align: right;\">0.427501</td><td style = \"text-align: right;\">0.0149224</td><td style = \"text-align: right;\">0.466253</td><td style = \"text-align: right;\">&ctdot;</td></tr><tr><td class = \"rowNumber\" style = \"font-weight: bold; text-align: right;\">999</td><td style = \"text-align: right;\">0.702069</td><td style = \"text-align: right;\">0.399582</td><td style = \"text-align: right;\">0.377331</td><td style = \"text-align: right;\">0.542735</td><td style = \"text-align: right;\">0.38631</td><td style = \"text-align: right;\">0.555332</td><td style = \"text-align: right;\">0.742833</td><td style = \"text-align: right;\">0.787603</td><td style = \"text-align: right;\">0.728299</td><td style = \"text-align: right;\">0.0205224</td><td style = \"text-align: right;\">0.0392208</td><td style = \"text-align: right;\">0.59181</td><td style = \"text-align: right;\">0.134989</td><td style = \"text-align: right;\">0.0577118</td><td style = \"text-align: right;\">0.237958</td><td style = \"text-align: right;\">0.66476</td><td style = \"text-align: right;\">0.941283</td><td style = \"text-align: right;\">0.801746</td><td style = \"text-align: right;\">0.6268</td><td style = \"text-align: right;\">0.885924</td><td style = \"text-align: right;\">0.98753</td><td style = \"text-align: right;\">0.555681</td><td style = \"text-align: right;\">0.0225242</td><td style = \"text-align: right;\">0.867217</td><td style = \"text-align: right;\">0.213395</td><td style = \"text-align: right;\">0.844451</td><td style = \"text-align: right;\">0.45556</td><td style = \"text-align: right;\">0.404991</td><td style = \"text-align: right;\">0.548041</td><td style = \"text-align: right;\">0.244942</td><td style = \"text-align: right;\">0.378365</td><td style = \"text-align: right;\">0.691279</td><td style = \"text-align: right;\">0.478979</td><td style = \"text-align: right;\">0.925638</td><td style = \"text-align: right;\">0.583101</td><td style = \"text-align: right;\">0.140049</td><td style = \"text-align: right;\">0.772856</td><td style = \"text-align: right;\">0.561587</td><td style = \"text-align: right;\">0.00306217</td><td style = \"text-align: right;\">0.549884</td><td style = \"text-align: right;\">0.342337</td><td style = \"text-align: right;\">0.588316</td><td style = \"text-align: right;\">0.276132</td><td style = \"text-align: right;\">0.589743</td><td style = \"text-align: right;\">0.220219</td><td style = \"text-align: right;\">0.545051</td><td style = \"text-align: right;\">0.63901</td><td style = \"text-align: right;\">0.0112304</td><td style = \"text-align: right;\">0.789922</td><td style = \"text-align: right;\">0.619918</td><td style = \"text-align: right;\">0.888162</td><td style = \"text-align: right;\">0.888522</td><td style = \"text-align: right;\">0.0871537</td><td style = \"text-align: right;\">0.170892</td><td style = \"text-align: right;\">0.257639</td><td style = \"text-align: right;\">0.0514265</td><td style = \"text-align: right;\">0.0285141</td><td style = \"text-align: right;\">0.495923</td><td style = \"text-align: right;\">0.0645104</td><td style = \"text-align: right;\">0.0369986</td><td style = \"text-align: right;\">0.737504</td><td style = \"text-align: right;\">0.352119</td><td style = \"text-align: right;\">0.209841</td><td style = \"text-align: right;\">0.540092</td><td style = \"text-align: right;\">0.592286</td><td style = \"text-align: right;\">0.027314</td><td style = \"text-align: right;\">0.092139</td><td style = \"text-align: right;\">0.600756</td><td style = \"text-align: right;\">0.164885</td><td style = \"text-align: right;\">0.409008</td><td style = \"text-align: right;\">0.947233</td><td style = \"text-align: right;\">0.177876</td><td style = \"text-align: right;\">0.643399</td><td style = \"text-align: right;\">0.742034</td><td style = \"text-align: right;\">0.269545</td><td style = \"text-align: right;\">0.464876</td><td style = \"text-align: right;\">0.338276</td><td style = \"text-align: right;\">0.464954</td><td style = \"text-align: right;\">0.613252</td><td style = \"text-align: right;\">0.561679</td><td style = \"text-align: right;\">0.612696</td><td style = \"text-align: right;\">0.313784</td><td style = \"text-align: right;\">0.7675</td><td style = \"text-align: right;\">0.901055</td><td style = \"text-align: right;\">0.696108</td><td style = \"text-align: right;\">0.0105366</td><td style = \"text-align: right;\">0.266548</td><td style = \"text-align: right;\">0.00447812</td><td style = \"text-align: right;\">0.502627</td><td style = \"text-align: right;\">0.454181</td><td style = \"text-align: right;\">0.249365</td><td style = \"text-align: right;\">0.361495</td><td style = \"text-align: right;\">0.865166</td><td style = \"text-align: right;\">0.546343</td><td style = \"text-align: right;\">0.941237</td><td style = \"text-align: right;\">0.859312</td><td style = \"text-align: right;\">0.409052</td><td style = \"text-align: right;\">0.32661</td><td style = \"text-align: right;\">0.400972</td><td style = \"text-align: right;\">0.768701</td><td style = \"text-align: right;\">&ctdot;</td></tr><tr><td class = \"rowNumber\" style = \"font-weight: bold; text-align: right;\">1000</td><td style = \"text-align: right;\">0.70703</td><td style = \"text-align: right;\">0.166208</td><td style = \"text-align: right;\">0.45823</td><td style = \"text-align: right;\">0.0682235</td><td style = \"text-align: right;\">0.458422</td><td style = \"text-align: right;\">0.836939</td><td style = \"text-align: right;\">0.58208</td><td style = \"text-align: right;\">0.721586</td><td style = \"text-align: right;\">0.171453</td><td style = \"text-align: right;\">0.353899</td><td style = \"text-align: right;\">0.922517</td><td style = \"text-align: right;\">0.394151</td><td style = \"text-align: right;\">0.661091</td><td style = \"text-align: right;\">0.381341</td><td style = \"text-align: right;\">0.558679</td><td style = \"text-align: right;\">0.847687</td><td style = \"text-align: right;\">0.671701</td><td style = \"text-align: right;\">0.373212</td><td style = \"text-align: right;\">0.196267</td><td style = \"text-align: right;\">0.353311</td><td style = \"text-align: right;\">0.813622</td><td style = \"text-align: right;\">0.192031</td><td style = \"text-align: right;\">0.911645</td><td style = \"text-align: right;\">0.452465</td><td style = \"text-align: right;\">0.604791</td><td style = \"text-align: right;\">0.743038</td><td style = \"text-align: right;\">0.776148</td><td style = \"text-align: right;\">0.00348142</td><td style = \"text-align: right;\">0.332103</td><td style = \"text-align: right;\">0.903827</td><td style = \"text-align: right;\">0.88745</td><td style = \"text-align: right;\">0.891842</td><td style = \"text-align: right;\">0.203428</td><td style = \"text-align: right;\">0.259077</td><td style = \"text-align: right;\">0.243465</td><td style = \"text-align: right;\">0.877412</td><td style = \"text-align: right;\">0.614433</td><td style = \"text-align: right;\">0.766943</td><td style = \"text-align: right;\">0.22814</td><td style = \"text-align: right;\">0.302435</td><td style = \"text-align: right;\">0.849376</td><td style = \"text-align: right;\">0.194502</td><td style = \"text-align: right;\">0.903999</td><td style = \"text-align: right;\">0.0363242</td><td style = \"text-align: right;\">0.536268</td><td style = \"text-align: right;\">0.886766</td><td style = \"text-align: right;\">0.491461</td><td style = \"text-align: right;\">0.87315</td><td style = \"text-align: right;\">0.0148271</td><td style = \"text-align: right;\">0.257042</td><td style = \"text-align: right;\">0.210517</td><td style = \"text-align: right;\">0.570115</td><td style = \"text-align: right;\">0.684481</td><td style = \"text-align: right;\">0.466046</td><td style = \"text-align: right;\">0.367677</td><td style = \"text-align: right;\">0.692357</td><td style = \"text-align: right;\">0.922489</td><td style = \"text-align: right;\">0.0315743</td><td style = \"text-align: right;\">0.964974</td><td style = \"text-align: right;\">0.523279</td><td style = \"text-align: right;\">0.338024</td><td style = \"text-align: right;\">0.509674</td><td style = \"text-align: right;\">0.163316</td><td style = \"text-align: right;\">0.362407</td><td style = \"text-align: right;\">0.301272</td><td style = \"text-align: right;\">0.879559</td><td style = \"text-align: right;\">0.499213</td><td style = \"text-align: right;\">0.631802</td><td style = \"text-align: right;\">0.331658</td><td style = \"text-align: right;\">0.370499</td><td style = \"text-align: right;\">0.450381</td><td style = \"text-align: right;\">0.604831</td><td style = \"text-align: right;\">0.125916</td><td style = \"text-align: right;\">0.934434</td><td style = \"text-align: right;\">0.306163</td><td style = \"text-align: right;\">0.207142</td><td style = \"text-align: right;\">0.471049</td><td style = \"text-align: right;\">0.0668867</td><td style = \"text-align: right;\">0.0232546</td><td style = \"text-align: right;\">0.212272</td><td style = \"text-align: right;\">0.267954</td><td style = \"text-align: right;\">0.398719</td><td style = \"text-align: right;\">0.695908</td><td style = \"text-align: right;\">0.850557</td><td style = \"text-align: right;\">0.0875997</td><td style = \"text-align: right;\">0.421732</td><td style = \"text-align: right;\">0.330967</td><td style = \"text-align: right;\">0.784816</td><td style = \"text-align: right;\">0.0130859</td><td style = \"text-align: right;\">0.341161</td><td style = \"text-align: right;\">0.396292</td><td style = \"text-align: right;\">0.412785</td><td style = \"text-align: right;\">0.302764</td><td style = \"text-align: right;\">0.849904</td><td style = \"text-align: right;\">0.175216</td><td style = \"text-align: right;\">0.687009</td><td style = \"text-align: right;\">0.909296</td><td style = \"text-align: right;\">0.692519</td><td style = \"text-align: right;\">0.244417</td><td style = \"text-align: right;\">0.0393655</td><td style = \"text-align: right;\">&ctdot;</td></tr></tbody></table></div>"
      ],
      "text/latex": [
       "\\begin{tabular}{r|ccccccccc}\n",
       "\t& x1 & x2 & x3 & x4 & x5 & x6 & x7 & x8 & \\\\\n",
       "\t\\hline\n",
       "\t& Float64 & Float64 & Float64 & Float64 & Float64 & Float64 & Float64 & Float64 & \\\\\n",
       "\t\\hline\n",
       "\t1 & 0.0149088 & 0.177963 & 0.374975 & 0.694063 & 0.290585 & 0.296972 & 0.151378 & 0.0895086 & $\\dots$ \\\\\n",
       "\t2 & 0.520355 & 0.670122 & 0.387857 & 0.724383 & 0.0800228 & 0.248548 & 0.911363 & 0.36889 & $\\dots$ \\\\\n",
       "\t3 & 0.639562 & 0.0423618 & 0.779594 & 0.130453 & 0.173812 & 0.525416 & 0.324965 & 0.905649 & $\\dots$ \\\\\n",
       "\t4 & 0.839622 & 0.740699 & 0.360969 & 0.456934 & 0.398093 & 0.509447 & 0.335432 & 0.373952 & $\\dots$ \\\\\n",
       "\t5 & 0.967143 & 0.302672 & 0.706902 & 0.0653216 & 0.644417 & 0.976457 & 0.36895 & 0.80553 & $\\dots$ \\\\\n",
       "\t6 & 0.205168 & 0.683128 & 0.786909 & 0.819635 & 0.759663 & 0.588019 & 0.244011 & 0.888136 & $\\dots$ \\\\\n",
       "\t7 & 0.527184 & 0.22961 & 0.395737 & 0.712888 & 0.286281 & 0.0784137 & 0.214371 & 0.693681 & $\\dots$ \\\\\n",
       "\t8 & 0.951162 & 0.963781 & 0.176482 & 0.751149 & 0.394366 & 0.945845 & 0.62704 & 0.96774 & $\\dots$ \\\\\n",
       "\t9 & 0.536369 & 0.118179 & 0.958758 & 0.161565 & 0.722348 & 0.35534 & 0.734991 & 0.859331 & $\\dots$ \\\\\n",
       "\t10 & 0.711389 & 0.661071 & 0.450584 & 0.791275 & 0.0225357 & 0.582416 & 0.832604 & 0.0454298 & $\\dots$ \\\\\n",
       "\t11 & 0.103929 & 0.489357 & 0.943654 & 0.981498 & 0.906475 & 0.27605 & 0.319854 & 0.505438 & $\\dots$ \\\\\n",
       "\t12 & 0.806704 & 0.597994 & 0.293338 & 0.71464 & 0.821485 & 0.421753 & 0.578613 & 0.274216 & $\\dots$ \\\\\n",
       "\t13 & 0.870539 & 0.0866983 & 0.720978 & 0.957936 & 0.410978 & 0.132653 & 0.665372 & 0.593325 & $\\dots$ \\\\\n",
       "\t14 & 0.790207 & 0.957745 & 0.144518 & 0.988098 & 0.558975 & 0.855644 & 0.890067 & 0.0355403 & $\\dots$ \\\\\n",
       "\t15 & 0.800393 & 0.155563 & 0.21758 & 0.898822 & 0.751869 & 0.585648 & 0.993167 & 0.927108 & $\\dots$ \\\\\n",
       "\t16 & 0.898931 & 0.729694 & 0.279658 & 0.205926 & 0.596491 & 0.695755 & 0.695853 & 0.175926 & $\\dots$ \\\\\n",
       "\t17 & 0.939548 & 0.622013 & 0.32406 & 0.971788 & 0.778883 & 0.112 & 0.392893 & 0.968717 & $\\dots$ \\\\\n",
       "\t18 & 0.526344 & 0.615295 & 0.222202 & 0.302713 & 0.89399 & 0.0705911 & 0.0447971 & 0.529437 & $\\dots$ \\\\\n",
       "\t19 & 0.0779683 & 0.349777 & 0.168805 & 0.698644 & 0.131061 & 0.391454 & 0.147786 & 0.664002 & $\\dots$ \\\\\n",
       "\t20 & 0.966197 & 0.918847 & 0.445359 & 0.986339 & 0.364943 & 0.728386 & 0.850772 & 0.740342 & $\\dots$ \\\\\n",
       "\t21 & 0.666558 & 0.785516 & 0.65396 & 0.566016 & 0.790067 & 0.950925 & 0.759014 & 0.750961 & $\\dots$ \\\\\n",
       "\t22 & 0.230104 & 0.303686 & 0.396746 & 0.41203 & 0.836363 & 0.359704 & 0.573183 & 0.631113 & $\\dots$ \\\\\n",
       "\t23 & 0.0585193 & 0.982141 & 0.504897 & 0.0288279 & 0.99351 & 0.521489 & 0.782399 & 0.14326 & $\\dots$ \\\\\n",
       "\t24 & 0.298878 & 0.197828 & 0.921214 & 0.372391 & 0.531751 & 0.160731 & 0.310757 & 0.763507 & $\\dots$ \\\\\n",
       "\t25 & 0.380799 & 0.314726 & 0.574718 & 0.594419 & 0.436391 & 0.109001 & 0.824338 & 0.648367 & $\\dots$ \\\\\n",
       "\t26 & 0.0687591 & 0.930626 & 0.762947 & 0.339501 & 0.350716 & 0.641212 & 0.0405993 & 0.365176 & $\\dots$ \\\\\n",
       "\t27 & 0.861725 & 0.997935 & 0.00707363 & 0.702614 & 0.289486 & 0.699093 & 0.503938 & 0.53228 & $\\dots$ \\\\\n",
       "\t28 & 0.00543656 & 0.67684 & 0.979526 & 0.547557 & 0.797773 & 0.426561 & 0.766105 & 0.552505 & $\\dots$ \\\\\n",
       "\t29 & 0.698478 & 0.643354 & 0.545089 & 0.647449 & 0.62582 & 0.925163 & 0.0579145 & 0.241449 & $\\dots$ \\\\\n",
       "\t30 & 0.637793 & 0.112717 & 0.283882 & 0.359841 & 0.566783 & 0.447965 & 0.0586073 & 0.547599 & $\\dots$ \\\\\n",
       "\t$\\dots$ & $\\dots$ & $\\dots$ & $\\dots$ & $\\dots$ & $\\dots$ & $\\dots$ & $\\dots$ & $\\dots$ &  \\\\\n",
       "\\end{tabular}\n"
      ],
      "text/plain": [
       "\u001b[1m1000×10000 DataFrame\u001b[0m\n",
       "\u001b[1m  Row \u001b[0m│\u001b[1m x1        \u001b[0m\u001b[1m x2        \u001b[0m\u001b[1m x3        \u001b[0m\u001b[1m x4        \u001b[0m\u001b[1m x5        \u001b[0m\u001b[1m x6        \u001b[0m\u001b[1m x7  \u001b[0m ⋯\n",
       "      │\u001b[90m Float64   \u001b[0m\u001b[90m Float64   \u001b[0m\u001b[90m Float64   \u001b[0m\u001b[90m Float64   \u001b[0m\u001b[90m Float64   \u001b[0m\u001b[90m Float64   \u001b[0m\u001b[90m Floa\u001b[0m ⋯\n",
       "──────┼─────────────────────────────────────────────────────────────────────────\n",
       "    1 │ 0.0149088  0.177963   0.374975   0.694063   0.290585   0.296972   0.15 ⋯\n",
       "    2 │ 0.520355   0.670122   0.387857   0.724383   0.0800228  0.248548   0.91\n",
       "    3 │ 0.639562   0.0423618  0.779594   0.130453   0.173812   0.525416   0.32\n",
       "    4 │ 0.839622   0.740699   0.360969   0.456934   0.398093   0.509447   0.33\n",
       "    5 │ 0.967143   0.302672   0.706902   0.0653216  0.644417   0.976457   0.36 ⋯\n",
       "    6 │ 0.205168   0.683128   0.786909   0.819635   0.759663   0.588019   0.24\n",
       "    7 │ 0.527184   0.22961    0.395737   0.712888   0.286281   0.0784137  0.21\n",
       "    8 │ 0.951162   0.963781   0.176482   0.751149   0.394366   0.945845   0.62\n",
       "    9 │ 0.536369   0.118179   0.958758   0.161565   0.722348   0.35534    0.73 ⋯\n",
       "   10 │ 0.711389   0.661071   0.450584   0.791275   0.0225357  0.582416   0.83\n",
       "   11 │ 0.103929   0.489357   0.943654   0.981498   0.906475   0.27605    0.31\n",
       "  ⋮   │     ⋮          ⋮          ⋮          ⋮          ⋮          ⋮           ⋱\n",
       "  991 │ 0.318699   0.855621   0.89789    0.186005   0.757165   0.537527   0.52\n",
       "  992 │ 0.385526   0.0811559  0.479614   0.163361   0.0102084  0.649546   0.65 ⋯\n",
       "  993 │ 0.678458   0.557108   0.202757   0.493311   0.343117   0.922908   0.26\n",
       "  994 │ 0.424295   0.78012    0.577681   0.274228   0.225563   0.29553    0.39\n",
       "  995 │ 0.481554   0.0441882  0.700181   0.317677   0.0846761  0.949135   0.45\n",
       "  996 │ 0.401528   0.658903   0.438309   0.211217   0.211515   0.441902   0.02 ⋯\n",
       "  997 │ 0.58985    0.909857   0.354735   0.442829   0.438322   0.847835   0.84\n",
       "  998 │ 0.871944   0.821183   0.725636   0.521645   0.230773   0.506747   0.47\n",
       "  999 │ 0.702069   0.399582   0.377331   0.542735   0.38631    0.555332   0.74\n",
       " 1000 │ 0.70703    0.166208   0.45823    0.0682235  0.458422   0.836939   0.58 ⋯\n",
       "\u001b[36m                                               9994 columns and 979 rows omitted\u001b[0m"
      ]
     },
     "execution_count": 87,
     "metadata": {},
     "output_type": "execute_result"
    }
   ],
   "source": [
    "large_df = DataFrame(rand(1000, 10000), :auto)"
   ]
  },
  {
   "cell_type": "code",
   "execution_count": 88,
   "metadata": {},
   "outputs": [
    {
     "name": "stdout",
     "output_type": "stream",
     "text": [
      "  0.043922 seconds (34.37 k allocations: 2.051 MiB, 73.29% compilation time)\n"
     ]
    },
    {
     "data": {
      "text/html": [
       "<div><div style = \"float: left;\"><span>1000×1 DataFrame</span></div><div style = \"float: right;\"><span style = \"font-style: italic;\">975 rows omitted</span></div><div style = \"clear: both;\"></div></div><div class = \"data-frame\" style = \"overflow-x: scroll;\"><table class = \"data-frame\" style = \"margin-bottom: 6px;\"><thead><tr class = \"header\"><th class = \"rowNumber\" style = \"font-weight: bold; text-align: right;\">Row</th><th style = \"text-align: left;\">sum</th></tr><tr class = \"subheader headerLastRow\"><th class = \"rowNumber\" style = \"font-weight: bold; text-align: right;\"></th><th title = \"Float64\" style = \"text-align: left;\">Float64</th></tr></thead><tbody><tr><td class = \"rowNumber\" style = \"font-weight: bold; text-align: right;\">1</td><td style = \"text-align: right;\">5010.73</td></tr><tr><td class = \"rowNumber\" style = \"font-weight: bold; text-align: right;\">2</td><td style = \"text-align: right;\">5055.37</td></tr><tr><td class = \"rowNumber\" style = \"font-weight: bold; text-align: right;\">3</td><td style = \"text-align: right;\">4987.2</td></tr><tr><td class = \"rowNumber\" style = \"font-weight: bold; text-align: right;\">4</td><td style = \"text-align: right;\">5016.2</td></tr><tr><td class = \"rowNumber\" style = \"font-weight: bold; text-align: right;\">5</td><td style = \"text-align: right;\">4978.86</td></tr><tr><td class = \"rowNumber\" style = \"font-weight: bold; text-align: right;\">6</td><td style = \"text-align: right;\">5018.0</td></tr><tr><td class = \"rowNumber\" style = \"font-weight: bold; text-align: right;\">7</td><td style = \"text-align: right;\">5011.07</td></tr><tr><td class = \"rowNumber\" style = \"font-weight: bold; text-align: right;\">8</td><td style = \"text-align: right;\">4991.09</td></tr><tr><td class = \"rowNumber\" style = \"font-weight: bold; text-align: right;\">9</td><td style = \"text-align: right;\">4932.78</td></tr><tr><td class = \"rowNumber\" style = \"font-weight: bold; text-align: right;\">10</td><td style = \"text-align: right;\">5017.35</td></tr><tr><td class = \"rowNumber\" style = \"font-weight: bold; text-align: right;\">11</td><td style = \"text-align: right;\">4997.14</td></tr><tr><td class = \"rowNumber\" style = \"font-weight: bold; text-align: right;\">12</td><td style = \"text-align: right;\">4994.29</td></tr><tr><td class = \"rowNumber\" style = \"font-weight: bold; text-align: right;\">13</td><td style = \"text-align: right;\">5020.93</td></tr><tr><td style = \"text-align: right;\">&vellip;</td><td style = \"text-align: right;\">&vellip;</td></tr><tr><td class = \"rowNumber\" style = \"font-weight: bold; text-align: right;\">989</td><td style = \"text-align: right;\">4975.49</td></tr><tr><td class = \"rowNumber\" style = \"font-weight: bold; text-align: right;\">990</td><td style = \"text-align: right;\">4959.65</td></tr><tr><td class = \"rowNumber\" style = \"font-weight: bold; text-align: right;\">991</td><td style = \"text-align: right;\">4997.01</td></tr><tr><td class = \"rowNumber\" style = \"font-weight: bold; text-align: right;\">992</td><td style = \"text-align: right;\">5003.09</td></tr><tr><td class = \"rowNumber\" style = \"font-weight: bold; text-align: right;\">993</td><td style = \"text-align: right;\">4984.85</td></tr><tr><td class = \"rowNumber\" style = \"font-weight: bold; text-align: right;\">994</td><td style = \"text-align: right;\">4933.86</td></tr><tr><td class = \"rowNumber\" style = \"font-weight: bold; text-align: right;\">995</td><td style = \"text-align: right;\">4952.49</td></tr><tr><td class = \"rowNumber\" style = \"font-weight: bold; text-align: right;\">996</td><td style = \"text-align: right;\">5015.75</td></tr><tr><td class = \"rowNumber\" style = \"font-weight: bold; text-align: right;\">997</td><td style = \"text-align: right;\">5013.19</td></tr><tr><td class = \"rowNumber\" style = \"font-weight: bold; text-align: right;\">998</td><td style = \"text-align: right;\">4976.72</td></tr><tr><td class = \"rowNumber\" style = \"font-weight: bold; text-align: right;\">999</td><td style = \"text-align: right;\">5015.42</td></tr><tr><td class = \"rowNumber\" style = \"font-weight: bold; text-align: right;\">1000</td><td style = \"text-align: right;\">5054.93</td></tr></tbody></table></div>"
      ],
      "text/latex": [
       "\\begin{tabular}{r|c}\n",
       "\t& sum\\\\\n",
       "\t\\hline\n",
       "\t& Float64\\\\\n",
       "\t\\hline\n",
       "\t1 & 5010.73 \\\\\n",
       "\t2 & 5055.37 \\\\\n",
       "\t3 & 4987.2 \\\\\n",
       "\t4 & 5016.2 \\\\\n",
       "\t5 & 4978.86 \\\\\n",
       "\t6 & 5018.0 \\\\\n",
       "\t7 & 5011.07 \\\\\n",
       "\t8 & 4991.09 \\\\\n",
       "\t9 & 4932.78 \\\\\n",
       "\t10 & 5017.35 \\\\\n",
       "\t11 & 4997.14 \\\\\n",
       "\t12 & 4994.29 \\\\\n",
       "\t13 & 5020.93 \\\\\n",
       "\t14 & 4917.99 \\\\\n",
       "\t15 & 5023.11 \\\\\n",
       "\t16 & 5007.8 \\\\\n",
       "\t17 & 4982.31 \\\\\n",
       "\t18 & 5010.66 \\\\\n",
       "\t19 & 4962.08 \\\\\n",
       "\t20 & 5013.45 \\\\\n",
       "\t21 & 5008.7 \\\\\n",
       "\t22 & 5050.03 \\\\\n",
       "\t23 & 5009.0 \\\\\n",
       "\t24 & 5016.84 \\\\\n",
       "\t25 & 5015.97 \\\\\n",
       "\t26 & 5009.97 \\\\\n",
       "\t27 & 4966.94 \\\\\n",
       "\t28 & 4961.31 \\\\\n",
       "\t29 & 4992.18 \\\\\n",
       "\t30 & 5037.17 \\\\\n",
       "\t$\\dots$ & $\\dots$ \\\\\n",
       "\\end{tabular}\n"
      ],
      "text/plain": [
       "\u001b[1m1000×1 DataFrame\u001b[0m\n",
       "\u001b[1m  Row \u001b[0m│\u001b[1m sum     \u001b[0m\n",
       "      │\u001b[90m Float64 \u001b[0m\n",
       "──────┼─────────\n",
       "    1 │ 5010.73\n",
       "    2 │ 5055.37\n",
       "    3 │ 4987.2\n",
       "    4 │ 5016.2\n",
       "    5 │ 4978.86\n",
       "    6 │ 5018.0\n",
       "    7 │ 5011.07\n",
       "    8 │ 4991.09\n",
       "    9 │ 4932.78\n",
       "   10 │ 5017.35\n",
       "   11 │ 4997.14\n",
       "  ⋮   │    ⋮\n",
       "  991 │ 4997.01\n",
       "  992 │ 5003.09\n",
       "  993 │ 4984.85\n",
       "  994 │ 4933.86\n",
       "  995 │ 4952.49\n",
       "  996 │ 5015.75\n",
       "  997 │ 5013.19\n",
       "  998 │ 4976.72\n",
       "  999 │ 5015.42\n",
       " 1000 │ 5054.93\n",
       "\u001b[36m979 rows omitted\u001b[0m"
      ]
     },
     "execution_count": 88,
     "metadata": {},
     "output_type": "execute_result"
    }
   ],
   "source": [
    "@time select(large_df, AsTable(:) => ByRow(sum) => :sum)"
   ]
  },
  {
   "cell_type": "code",
   "execution_count": 89,
   "metadata": {},
   "outputs": [
    {
     "name": "stdout",
     "output_type": "stream",
     "text": [
      "  0.009663 seconds (19.67 k allocations: 1.074 MiB)\n"
     ]
    },
    {
     "data": {
      "text/html": [
       "<div><div style = \"float: left;\"><span>1000×1 DataFrame</span></div><div style = \"float: right;\"><span style = \"font-style: italic;\">975 rows omitted</span></div><div style = \"clear: both;\"></div></div><div class = \"data-frame\" style = \"overflow-x: scroll;\"><table class = \"data-frame\" style = \"margin-bottom: 6px;\"><thead><tr class = \"header\"><th class = \"rowNumber\" style = \"font-weight: bold; text-align: right;\">Row</th><th style = \"text-align: left;\">sum</th></tr><tr class = \"subheader headerLastRow\"><th class = \"rowNumber\" style = \"font-weight: bold; text-align: right;\"></th><th title = \"Float64\" style = \"text-align: left;\">Float64</th></tr></thead><tbody><tr><td class = \"rowNumber\" style = \"font-weight: bold; text-align: right;\">1</td><td style = \"text-align: right;\">5010.73</td></tr><tr><td class = \"rowNumber\" style = \"font-weight: bold; text-align: right;\">2</td><td style = \"text-align: right;\">5055.37</td></tr><tr><td class = \"rowNumber\" style = \"font-weight: bold; text-align: right;\">3</td><td style = \"text-align: right;\">4987.2</td></tr><tr><td class = \"rowNumber\" style = \"font-weight: bold; text-align: right;\">4</td><td style = \"text-align: right;\">5016.2</td></tr><tr><td class = \"rowNumber\" style = \"font-weight: bold; text-align: right;\">5</td><td style = \"text-align: right;\">4978.86</td></tr><tr><td class = \"rowNumber\" style = \"font-weight: bold; text-align: right;\">6</td><td style = \"text-align: right;\">5018.0</td></tr><tr><td class = \"rowNumber\" style = \"font-weight: bold; text-align: right;\">7</td><td style = \"text-align: right;\">5011.07</td></tr><tr><td class = \"rowNumber\" style = \"font-weight: bold; text-align: right;\">8</td><td style = \"text-align: right;\">4991.09</td></tr><tr><td class = \"rowNumber\" style = \"font-weight: bold; text-align: right;\">9</td><td style = \"text-align: right;\">4932.78</td></tr><tr><td class = \"rowNumber\" style = \"font-weight: bold; text-align: right;\">10</td><td style = \"text-align: right;\">5017.35</td></tr><tr><td class = \"rowNumber\" style = \"font-weight: bold; text-align: right;\">11</td><td style = \"text-align: right;\">4997.14</td></tr><tr><td class = \"rowNumber\" style = \"font-weight: bold; text-align: right;\">12</td><td style = \"text-align: right;\">4994.29</td></tr><tr><td class = \"rowNumber\" style = \"font-weight: bold; text-align: right;\">13</td><td style = \"text-align: right;\">5020.93</td></tr><tr><td style = \"text-align: right;\">&vellip;</td><td style = \"text-align: right;\">&vellip;</td></tr><tr><td class = \"rowNumber\" style = \"font-weight: bold; text-align: right;\">989</td><td style = \"text-align: right;\">4975.49</td></tr><tr><td class = \"rowNumber\" style = \"font-weight: bold; text-align: right;\">990</td><td style = \"text-align: right;\">4959.65</td></tr><tr><td class = \"rowNumber\" style = \"font-weight: bold; text-align: right;\">991</td><td style = \"text-align: right;\">4997.01</td></tr><tr><td class = \"rowNumber\" style = \"font-weight: bold; text-align: right;\">992</td><td style = \"text-align: right;\">5003.09</td></tr><tr><td class = \"rowNumber\" style = \"font-weight: bold; text-align: right;\">993</td><td style = \"text-align: right;\">4984.85</td></tr><tr><td class = \"rowNumber\" style = \"font-weight: bold; text-align: right;\">994</td><td style = \"text-align: right;\">4933.86</td></tr><tr><td class = \"rowNumber\" style = \"font-weight: bold; text-align: right;\">995</td><td style = \"text-align: right;\">4952.49</td></tr><tr><td class = \"rowNumber\" style = \"font-weight: bold; text-align: right;\">996</td><td style = \"text-align: right;\">5015.75</td></tr><tr><td class = \"rowNumber\" style = \"font-weight: bold; text-align: right;\">997</td><td style = \"text-align: right;\">5013.19</td></tr><tr><td class = \"rowNumber\" style = \"font-weight: bold; text-align: right;\">998</td><td style = \"text-align: right;\">4976.72</td></tr><tr><td class = \"rowNumber\" style = \"font-weight: bold; text-align: right;\">999</td><td style = \"text-align: right;\">5015.42</td></tr><tr><td class = \"rowNumber\" style = \"font-weight: bold; text-align: right;\">1000</td><td style = \"text-align: right;\">5054.93</td></tr></tbody></table></div>"
      ],
      "text/latex": [
       "\\begin{tabular}{r|c}\n",
       "\t& sum\\\\\n",
       "\t\\hline\n",
       "\t& Float64\\\\\n",
       "\t\\hline\n",
       "\t1 & 5010.73 \\\\\n",
       "\t2 & 5055.37 \\\\\n",
       "\t3 & 4987.2 \\\\\n",
       "\t4 & 5016.2 \\\\\n",
       "\t5 & 4978.86 \\\\\n",
       "\t6 & 5018.0 \\\\\n",
       "\t7 & 5011.07 \\\\\n",
       "\t8 & 4991.09 \\\\\n",
       "\t9 & 4932.78 \\\\\n",
       "\t10 & 5017.35 \\\\\n",
       "\t11 & 4997.14 \\\\\n",
       "\t12 & 4994.29 \\\\\n",
       "\t13 & 5020.93 \\\\\n",
       "\t14 & 4917.99 \\\\\n",
       "\t15 & 5023.11 \\\\\n",
       "\t16 & 5007.8 \\\\\n",
       "\t17 & 4982.31 \\\\\n",
       "\t18 & 5010.66 \\\\\n",
       "\t19 & 4962.08 \\\\\n",
       "\t20 & 5013.45 \\\\\n",
       "\t21 & 5008.7 \\\\\n",
       "\t22 & 5050.03 \\\\\n",
       "\t23 & 5009.0 \\\\\n",
       "\t24 & 5016.84 \\\\\n",
       "\t25 & 5015.97 \\\\\n",
       "\t26 & 5009.97 \\\\\n",
       "\t27 & 4966.94 \\\\\n",
       "\t28 & 4961.31 \\\\\n",
       "\t29 & 4992.18 \\\\\n",
       "\t30 & 5037.17 \\\\\n",
       "\t$\\dots$ & $\\dots$ \\\\\n",
       "\\end{tabular}\n"
      ],
      "text/plain": [
       "\u001b[1m1000×1 DataFrame\u001b[0m\n",
       "\u001b[1m  Row \u001b[0m│\u001b[1m sum     \u001b[0m\n",
       "      │\u001b[90m Float64 \u001b[0m\n",
       "──────┼─────────\n",
       "    1 │ 5010.73\n",
       "    2 │ 5055.37\n",
       "    3 │ 4987.2\n",
       "    4 │ 5016.2\n",
       "    5 │ 4978.86\n",
       "    6 │ 5018.0\n",
       "    7 │ 5011.07\n",
       "    8 │ 4991.09\n",
       "    9 │ 4932.78\n",
       "   10 │ 5017.35\n",
       "   11 │ 4997.14\n",
       "  ⋮   │    ⋮\n",
       "  991 │ 4997.01\n",
       "  992 │ 5003.09\n",
       "  993 │ 4984.85\n",
       "  994 │ 4933.86\n",
       "  995 │ 4952.49\n",
       "  996 │ 5015.75\n",
       "  997 │ 5013.19\n",
       "  998 │ 4976.72\n",
       "  999 │ 5015.42\n",
       " 1000 │ 5054.93\n",
       "\u001b[36m979 rows omitted\u001b[0m"
      ]
     },
     "execution_count": 89,
     "metadata": {},
     "output_type": "execute_result"
    }
   ],
   "source": [
    "@time select(large_df, AsTable(:) => ByRow(sum) => :sum)"
   ]
  }
 ],
 "metadata": {
  "@webio": {
   "lastCommId": null,
   "lastKernelId": null
  },
  "kernelspec": {
   "display_name": "Julia 1.9.0",
   "language": "julia",
   "name": "julia-1.9"
  },
  "language_info": {
   "file_extension": ".jl",
   "mimetype": "application/julia",
   "name": "julia",
   "version": "1.9.0"
  }
 },
 "nbformat": 4,
 "nbformat_minor": 1
}
