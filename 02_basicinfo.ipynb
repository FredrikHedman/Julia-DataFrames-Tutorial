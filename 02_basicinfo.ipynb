{
 "cells": [
  {
   "cell_type": "markdown",
   "metadata": {},
   "source": [
    "# Introduction to DataFrames\n",
    "**[Bogumił Kamiński](http://bogumilkaminski.pl/about/), July 17, 2021**"
   ]
  },
  {
   "cell_type": "code",
   "execution_count": 1,
   "metadata": {},
   "outputs": [],
   "source": [
    "using DataFrames"
   ]
  },
  {
   "cell_type": "markdown",
   "metadata": {},
   "source": [
    "## Getting basic information about a data frame\n",
    "\n",
    "Let's start by creating a `DataFrame` object, `x`, so that we can learn how to get information on that data frame."
   ]
  },
  {
   "cell_type": "code",
   "execution_count": 2,
   "metadata": {},
   "outputs": [
    {
     "data": {
      "text/html": [
       "<div class=\"data-frame\"><p>2 rows × 3 columns</p><table class=\"data-frame\"><thead><tr><th></th><th>A</th><th>B</th><th>C</th></tr><tr><th></th><th title=\"Int64\">Int64</th><th title=\"Union{Missing, Float64}\">Float64?</th><th title=\"String\">String</th></tr></thead><tbody><tr><th>1</th><td>1</td><td>1.0</td><td>a</td></tr><tr><th>2</th><td>2</td><td><em>missing</em></td><td>b</td></tr></tbody></table></div>"
      ],
      "text/latex": [
       "\\begin{tabular}{r|ccc}\n",
       "\t& A & B & C\\\\\n",
       "\t\\hline\n",
       "\t& Int64 & Float64? & String\\\\\n",
       "\t\\hline\n",
       "\t1 & 1 & 1.0 & a \\\\\n",
       "\t2 & 2 & \\emph{missing} & b \\\\\n",
       "\\end{tabular}\n"
      ],
      "text/plain": [
       "\u001b[1m2×3 DataFrame\u001b[0m\n",
       "\u001b[1m Row \u001b[0m│\u001b[1m A     \u001b[0m\u001b[1m B         \u001b[0m\u001b[1m C      \u001b[0m\n",
       "\u001b[1m     \u001b[0m│\u001b[90m Int64 \u001b[0m\u001b[90m Float64?  \u001b[0m\u001b[90m String \u001b[0m\n",
       "─────┼──────────────────────────\n",
       "   1 │     1        1.0  a\n",
       "   2 │     2 \u001b[90m missing   \u001b[0m b"
      ]
     },
     "execution_count": 2,
     "metadata": {},
     "output_type": "execute_result"
    }
   ],
   "source": [
    "x = DataFrame(A = [1, 2], B = [1.0, missing], C = [\"a\", \"b\"])"
   ]
  },
  {
   "cell_type": "markdown",
   "metadata": {},
   "source": [
    "The standard `size` function works to get dimensions of the `DataFrame`,"
   ]
  },
  {
   "cell_type": "code",
   "execution_count": 3,
   "metadata": {},
   "outputs": [
    {
     "data": {
      "text/plain": [
       "((2, 3), 2, 3)"
      ]
     },
     "execution_count": 3,
     "metadata": {},
     "output_type": "execute_result"
    }
   ],
   "source": [
    "size(x), size(x, 1), size(x, 2)"
   ]
  },
  {
   "cell_type": "markdown",
   "metadata": {},
   "source": [
    "as well as `nrow` and `ncol` from R."
   ]
  },
  {
   "cell_type": "code",
   "execution_count": 4,
   "metadata": {},
   "outputs": [
    {
     "data": {
      "text/plain": [
       "(2, 3)"
      ]
     },
     "execution_count": 4,
     "metadata": {},
     "output_type": "execute_result"
    }
   ],
   "source": [
    "nrow(x), ncol(x)"
   ]
  },
  {
   "cell_type": "markdown",
   "metadata": {},
   "source": [
    "`describe` gives basic summary statistics of data in your `DataFrame` (check out the help of `describe` for information on how to customize shown statistics)."
   ]
  },
  {
   "cell_type": "code",
   "execution_count": 5,
   "metadata": {},
   "outputs": [
    {
     "data": {
      "text/html": [
       "<div class=\"data-frame\"><p>3 rows × 7 columns</p><table class=\"data-frame\"><thead><tr><th></th><th>variable</th><th>mean</th><th>min</th><th>median</th><th>max</th><th>nmissing</th><th>eltype</th></tr><tr><th></th><th title=\"Symbol\">Symbol</th><th title=\"Union{Nothing, Float64}\">Union…</th><th title=\"Any\">Any</th><th title=\"Union{Nothing, Float64}\">Union…</th><th title=\"Any\">Any</th><th title=\"Int64\">Int64</th><th title=\"Type\">Type</th></tr></thead><tbody><tr><th>1</th><td>A</td><td>1.5</td><td>1</td><td>1.5</td><td>2</td><td>0</td><td>Int64</td></tr><tr><th>2</th><td>B</td><td>1.0</td><td>1.0</td><td>1.0</td><td>1.0</td><td>1</td><td>Union{Missing, Float64}</td></tr><tr><th>3</th><td>C</td><td></td><td>a</td><td></td><td>b</td><td>0</td><td>String</td></tr></tbody></table></div>"
      ],
      "text/latex": [
       "\\begin{tabular}{r|ccccccc}\n",
       "\t& variable & mean & min & median & max & nmissing & eltype\\\\\n",
       "\t\\hline\n",
       "\t& Symbol & Union… & Any & Union… & Any & Int64 & Type\\\\\n",
       "\t\\hline\n",
       "\t1 & A & 1.5 & 1 & 1.5 & 2 & 0 & Int64 \\\\\n",
       "\t2 & B & 1.0 & 1.0 & 1.0 & 1.0 & 1 & Union\\{Missing, Float64\\} \\\\\n",
       "\t3 & C &  & a &  & b & 0 & String \\\\\n",
       "\\end{tabular}\n"
      ],
      "text/plain": [
       "\u001b[1m3×7 DataFrame\u001b[0m\n",
       "\u001b[1m Row \u001b[0m│\u001b[1m variable \u001b[0m\u001b[1m mean   \u001b[0m\u001b[1m min \u001b[0m\u001b[1m median \u001b[0m\u001b[1m max \u001b[0m\u001b[1m nmissing \u001b[0m\u001b[1m eltype                  \u001b[0m\n",
       "\u001b[1m     \u001b[0m│\u001b[90m Symbol   \u001b[0m\u001b[90m Union… \u001b[0m\u001b[90m Any \u001b[0m\u001b[90m Union… \u001b[0m\u001b[90m Any \u001b[0m\u001b[90m Int64    \u001b[0m\u001b[90m Type                    \u001b[0m\n",
       "─────┼───────────────────────────────────────────────────────────────────────\n",
       "   1 │ A         1.5     1    1.5     2           0  Int64\n",
       "   2 │ B         1.0     1.0  1.0     1.0         1  Union{Missing, Float64}\n",
       "   3 │ C        \u001b[90m        \u001b[0m a   \u001b[90m        \u001b[0m b           0  String"
      ]
     },
     "execution_count": 5,
     "metadata": {},
     "output_type": "execute_result"
    }
   ],
   "source": [
    "describe(x)"
   ]
  },
  {
   "cell_type": "markdown",
   "metadata": {},
   "source": [
    "you can limit the columns shown by `describe` using `cols` keyword argument"
   ]
  },
  {
   "cell_type": "code",
   "execution_count": 6,
   "metadata": {},
   "outputs": [
    {
     "data": {
      "text/html": [
       "<div class=\"data-frame\"><p>2 rows × 7 columns</p><table class=\"data-frame\"><thead><tr><th></th><th>variable</th><th>mean</th><th>min</th><th>median</th><th>max</th><th>nmissing</th><th>eltype</th></tr><tr><th></th><th title=\"Symbol\">Symbol</th><th title=\"Float64\">Float64</th><th title=\"Real\">Real</th><th title=\"Float64\">Float64</th><th title=\"Real\">Real</th><th title=\"Int64\">Int64</th><th title=\"Type\">Type</th></tr></thead><tbody><tr><th>1</th><td>A</td><td>1.5</td><td>1</td><td>1.5</td><td>2</td><td>0</td><td>Int64</td></tr><tr><th>2</th><td>B</td><td>1.0</td><td>1.0</td><td>1.0</td><td>1.0</td><td>1</td><td>Union{Missing, Float64}</td></tr></tbody></table></div>"
      ],
      "text/latex": [
       "\\begin{tabular}{r|ccccccc}\n",
       "\t& variable & mean & min & median & max & nmissing & eltype\\\\\n",
       "\t\\hline\n",
       "\t& Symbol & Float64 & Real & Float64 & Real & Int64 & Type\\\\\n",
       "\t\\hline\n",
       "\t1 & A & 1.5 & 1 & 1.5 & 2 & 0 & Int64 \\\\\n",
       "\t2 & B & 1.0 & 1.0 & 1.0 & 1.0 & 1 & Union\\{Missing, Float64\\} \\\\\n",
       "\\end{tabular}\n"
      ],
      "text/plain": [
       "\u001b[1m2×7 DataFrame\u001b[0m\n",
       "\u001b[1m Row \u001b[0m│\u001b[1m variable \u001b[0m\u001b[1m mean    \u001b[0m\u001b[1m min  \u001b[0m\u001b[1m median  \u001b[0m\u001b[1m max  \u001b[0m\u001b[1m nmissing \u001b[0m\u001b[1m eltype               \u001b[0m ⋯\n",
       "\u001b[1m     \u001b[0m│\u001b[90m Symbol   \u001b[0m\u001b[90m Float64 \u001b[0m\u001b[90m Real \u001b[0m\u001b[90m Float64 \u001b[0m\u001b[90m Real \u001b[0m\u001b[90m Int64    \u001b[0m\u001b[90m Type                 \u001b[0m ⋯\n",
       "─────┼──────────────────────────────────────────────────────────────────────────\n",
       "   1 │ A             1.5   1        1.5   2           0  Int64                 ⋯\n",
       "   2 │ B             1.0   1.0      1.0   1.0         1  Union{Missing, Float6\n",
       "\u001b[36m                                                                1 column omitted\u001b[0m"
      ]
     },
     "execution_count": 6,
     "metadata": {},
     "output_type": "execute_result"
    }
   ],
   "source": [
    "describe(x, cols=1:2)"
   ]
  },
  {
   "cell_type": "markdown",
   "metadata": {},
   "source": [
    "`names` will return the names of all columns as strings"
   ]
  },
  {
   "cell_type": "code",
   "execution_count": 7,
   "metadata": {},
   "outputs": [
    {
     "data": {
      "text/plain": [
       "3-element Vector{String}:\n",
       " \"A\"\n",
       " \"B\"\n",
       " \"C\""
      ]
     },
     "execution_count": 7,
     "metadata": {},
     "output_type": "execute_result"
    }
   ],
   "source": [
    "names(x)"
   ]
  },
  {
   "cell_type": "markdown",
   "metadata": {},
   "source": [
    "you can also get column names with a given `eltype`:"
   ]
  },
  {
   "cell_type": "code",
   "execution_count": 8,
   "metadata": {},
   "outputs": [
    {
     "data": {
      "text/plain": [
       "1-element Vector{String}:\n",
       " \"C\""
      ]
     },
     "execution_count": 8,
     "metadata": {},
     "output_type": "execute_result"
    }
   ],
   "source": [
    "names(x, String)"
   ]
  },
  {
   "cell_type": "markdown",
   "metadata": {},
   "source": [
    "use `propertynames` to get a vector of `Symbol`s:"
   ]
  },
  {
   "cell_type": "code",
   "execution_count": 9,
   "metadata": {},
   "outputs": [
    {
     "data": {
      "text/plain": [
       "3-element Vector{Symbol}:\n",
       " :A\n",
       " :B\n",
       " :C"
      ]
     },
     "execution_count": 9,
     "metadata": {},
     "output_type": "execute_result"
    }
   ],
   "source": [
    "propertynames(x)"
   ]
  },
  {
   "cell_type": "markdown",
   "metadata": {},
   "source": [
    "using `eltype` on `eachcol(x)` returns element types of columns:"
   ]
  },
  {
   "cell_type": "code",
   "execution_count": 10,
   "metadata": {},
   "outputs": [
    {
     "data": {
      "text/plain": [
       "3-element Vector{Type}:\n",
       " Int64\n",
       " Union{Missing, Float64}\n",
       " String"
      ]
     },
     "execution_count": 10,
     "metadata": {},
     "output_type": "execute_result"
    }
   ],
   "source": [
    "eltype.(eachcol(x))"
   ]
  },
  {
   "cell_type": "markdown",
   "metadata": {},
   "source": [
    "Here we create some large `DataFrame`"
   ]
  },
  {
   "cell_type": "code",
   "execution_count": 11,
   "metadata": {
    "scrolled": true
   },
   "outputs": [
    {
     "data": {
      "text/html": [
       "<div class=\"data-frame\"><p>1,000 rows × 10 columns</p><table class=\"data-frame\"><thead><tr><th></th><th>x1</th><th>x2</th><th>x3</th><th>x4</th><th>x5</th><th>x6</th><th>x7</th><th>x8</th><th>x9</th><th>x10</th></tr><tr><th></th><th title=\"Int64\">Int64</th><th title=\"Int64\">Int64</th><th title=\"Int64\">Int64</th><th title=\"Int64\">Int64</th><th title=\"Int64\">Int64</th><th title=\"Int64\">Int64</th><th title=\"Int64\">Int64</th><th title=\"Int64\">Int64</th><th title=\"Int64\">Int64</th><th title=\"Int64\">Int64</th></tr></thead><tbody><tr><th>1</th><td>9</td><td>10</td><td>5</td><td>7</td><td>8</td><td>7</td><td>9</td><td>4</td><td>1</td><td>2</td></tr><tr><th>2</th><td>2</td><td>1</td><td>7</td><td>7</td><td>1</td><td>8</td><td>10</td><td>5</td><td>4</td><td>3</td></tr><tr><th>3</th><td>9</td><td>6</td><td>2</td><td>9</td><td>10</td><td>7</td><td>10</td><td>1</td><td>6</td><td>10</td></tr><tr><th>4</th><td>2</td><td>7</td><td>6</td><td>7</td><td>8</td><td>1</td><td>6</td><td>3</td><td>10</td><td>3</td></tr><tr><th>5</th><td>7</td><td>1</td><td>8</td><td>5</td><td>1</td><td>2</td><td>10</td><td>8</td><td>7</td><td>7</td></tr><tr><th>6</th><td>5</td><td>9</td><td>3</td><td>9</td><td>4</td><td>8</td><td>7</td><td>9</td><td>2</td><td>4</td></tr><tr><th>7</th><td>8</td><td>4</td><td>3</td><td>1</td><td>5</td><td>10</td><td>1</td><td>3</td><td>8</td><td>2</td></tr><tr><th>8</th><td>4</td><td>7</td><td>3</td><td>1</td><td>7</td><td>10</td><td>8</td><td>4</td><td>6</td><td>6</td></tr><tr><th>9</th><td>6</td><td>6</td><td>10</td><td>7</td><td>3</td><td>5</td><td>4</td><td>3</td><td>7</td><td>7</td></tr><tr><th>10</th><td>4</td><td>6</td><td>3</td><td>7</td><td>8</td><td>4</td><td>4</td><td>5</td><td>8</td><td>3</td></tr><tr><th>11</th><td>10</td><td>10</td><td>6</td><td>6</td><td>5</td><td>6</td><td>7</td><td>2</td><td>9</td><td>7</td></tr><tr><th>12</th><td>7</td><td>9</td><td>10</td><td>6</td><td>4</td><td>9</td><td>3</td><td>10</td><td>7</td><td>3</td></tr><tr><th>13</th><td>3</td><td>4</td><td>6</td><td>3</td><td>9</td><td>3</td><td>7</td><td>9</td><td>5</td><td>3</td></tr><tr><th>14</th><td>1</td><td>5</td><td>8</td><td>4</td><td>7</td><td>3</td><td>8</td><td>10</td><td>7</td><td>9</td></tr><tr><th>15</th><td>4</td><td>1</td><td>5</td><td>3</td><td>9</td><td>10</td><td>7</td><td>9</td><td>3</td><td>10</td></tr><tr><th>16</th><td>6</td><td>7</td><td>5</td><td>9</td><td>3</td><td>2</td><td>1</td><td>5</td><td>10</td><td>3</td></tr><tr><th>17</th><td>7</td><td>3</td><td>6</td><td>1</td><td>2</td><td>1</td><td>3</td><td>9</td><td>3</td><td>7</td></tr><tr><th>18</th><td>2</td><td>6</td><td>8</td><td>3</td><td>9</td><td>10</td><td>8</td><td>8</td><td>3</td><td>4</td></tr><tr><th>19</th><td>10</td><td>6</td><td>6</td><td>6</td><td>8</td><td>10</td><td>6</td><td>8</td><td>2</td><td>9</td></tr><tr><th>20</th><td>1</td><td>6</td><td>5</td><td>5</td><td>2</td><td>7</td><td>1</td><td>10</td><td>8</td><td>2</td></tr><tr><th>21</th><td>1</td><td>1</td><td>10</td><td>8</td><td>9</td><td>2</td><td>10</td><td>6</td><td>2</td><td>7</td></tr><tr><th>22</th><td>9</td><td>2</td><td>2</td><td>3</td><td>10</td><td>6</td><td>10</td><td>6</td><td>3</td><td>2</td></tr><tr><th>23</th><td>2</td><td>10</td><td>9</td><td>8</td><td>8</td><td>9</td><td>9</td><td>10</td><td>7</td><td>2</td></tr><tr><th>24</th><td>2</td><td>10</td><td>8</td><td>9</td><td>10</td><td>4</td><td>7</td><td>4</td><td>1</td><td>4</td></tr><tr><th>25</th><td>2</td><td>5</td><td>6</td><td>4</td><td>8</td><td>7</td><td>2</td><td>10</td><td>9</td><td>5</td></tr><tr><th>26</th><td>8</td><td>1</td><td>6</td><td>3</td><td>5</td><td>10</td><td>1</td><td>3</td><td>6</td><td>4</td></tr><tr><th>27</th><td>8</td><td>4</td><td>9</td><td>1</td><td>6</td><td>8</td><td>2</td><td>10</td><td>9</td><td>4</td></tr><tr><th>28</th><td>3</td><td>6</td><td>1</td><td>10</td><td>2</td><td>8</td><td>8</td><td>3</td><td>4</td><td>8</td></tr><tr><th>29</th><td>5</td><td>8</td><td>10</td><td>10</td><td>4</td><td>2</td><td>2</td><td>3</td><td>2</td><td>9</td></tr><tr><th>30</th><td>2</td><td>4</td><td>3</td><td>8</td><td>4</td><td>6</td><td>10</td><td>8</td><td>9</td><td>1</td></tr><tr><th>&vellip;</th><td>&vellip;</td><td>&vellip;</td><td>&vellip;</td><td>&vellip;</td><td>&vellip;</td><td>&vellip;</td><td>&vellip;</td><td>&vellip;</td><td>&vellip;</td><td>&vellip;</td></tr></tbody></table></div>"
      ],
      "text/latex": [
       "\\begin{tabular}{r|cccccccccc}\n",
       "\t& x1 & x2 & x3 & x4 & x5 & x6 & x7 & x8 & x9 & x10\\\\\n",
       "\t\\hline\n",
       "\t& Int64 & Int64 & Int64 & Int64 & Int64 & Int64 & Int64 & Int64 & Int64 & Int64\\\\\n",
       "\t\\hline\n",
       "\t1 & 9 & 10 & 5 & 7 & 8 & 7 & 9 & 4 & 1 & 2 \\\\\n",
       "\t2 & 2 & 1 & 7 & 7 & 1 & 8 & 10 & 5 & 4 & 3 \\\\\n",
       "\t3 & 9 & 6 & 2 & 9 & 10 & 7 & 10 & 1 & 6 & 10 \\\\\n",
       "\t4 & 2 & 7 & 6 & 7 & 8 & 1 & 6 & 3 & 10 & 3 \\\\\n",
       "\t5 & 7 & 1 & 8 & 5 & 1 & 2 & 10 & 8 & 7 & 7 \\\\\n",
       "\t6 & 5 & 9 & 3 & 9 & 4 & 8 & 7 & 9 & 2 & 4 \\\\\n",
       "\t7 & 8 & 4 & 3 & 1 & 5 & 10 & 1 & 3 & 8 & 2 \\\\\n",
       "\t8 & 4 & 7 & 3 & 1 & 7 & 10 & 8 & 4 & 6 & 6 \\\\\n",
       "\t9 & 6 & 6 & 10 & 7 & 3 & 5 & 4 & 3 & 7 & 7 \\\\\n",
       "\t10 & 4 & 6 & 3 & 7 & 8 & 4 & 4 & 5 & 8 & 3 \\\\\n",
       "\t11 & 10 & 10 & 6 & 6 & 5 & 6 & 7 & 2 & 9 & 7 \\\\\n",
       "\t12 & 7 & 9 & 10 & 6 & 4 & 9 & 3 & 10 & 7 & 3 \\\\\n",
       "\t13 & 3 & 4 & 6 & 3 & 9 & 3 & 7 & 9 & 5 & 3 \\\\\n",
       "\t14 & 1 & 5 & 8 & 4 & 7 & 3 & 8 & 10 & 7 & 9 \\\\\n",
       "\t15 & 4 & 1 & 5 & 3 & 9 & 10 & 7 & 9 & 3 & 10 \\\\\n",
       "\t16 & 6 & 7 & 5 & 9 & 3 & 2 & 1 & 5 & 10 & 3 \\\\\n",
       "\t17 & 7 & 3 & 6 & 1 & 2 & 1 & 3 & 9 & 3 & 7 \\\\\n",
       "\t18 & 2 & 6 & 8 & 3 & 9 & 10 & 8 & 8 & 3 & 4 \\\\\n",
       "\t19 & 10 & 6 & 6 & 6 & 8 & 10 & 6 & 8 & 2 & 9 \\\\\n",
       "\t20 & 1 & 6 & 5 & 5 & 2 & 7 & 1 & 10 & 8 & 2 \\\\\n",
       "\t21 & 1 & 1 & 10 & 8 & 9 & 2 & 10 & 6 & 2 & 7 \\\\\n",
       "\t22 & 9 & 2 & 2 & 3 & 10 & 6 & 10 & 6 & 3 & 2 \\\\\n",
       "\t23 & 2 & 10 & 9 & 8 & 8 & 9 & 9 & 10 & 7 & 2 \\\\\n",
       "\t24 & 2 & 10 & 8 & 9 & 10 & 4 & 7 & 4 & 1 & 4 \\\\\n",
       "\t25 & 2 & 5 & 6 & 4 & 8 & 7 & 2 & 10 & 9 & 5 \\\\\n",
       "\t26 & 8 & 1 & 6 & 3 & 5 & 10 & 1 & 3 & 6 & 4 \\\\\n",
       "\t27 & 8 & 4 & 9 & 1 & 6 & 8 & 2 & 10 & 9 & 4 \\\\\n",
       "\t28 & 3 & 6 & 1 & 10 & 2 & 8 & 8 & 3 & 4 & 8 \\\\\n",
       "\t29 & 5 & 8 & 10 & 10 & 4 & 2 & 2 & 3 & 2 & 9 \\\\\n",
       "\t30 & 2 & 4 & 3 & 8 & 4 & 6 & 10 & 8 & 9 & 1 \\\\\n",
       "\t$\\dots$ & $\\dots$ & $\\dots$ & $\\dots$ & $\\dots$ & $\\dots$ & $\\dots$ & $\\dots$ & $\\dots$ & $\\dots$ & $\\dots$ \\\\\n",
       "\\end{tabular}\n"
      ],
      "text/plain": [
       "\u001b[1m1000×10 DataFrame\u001b[0m\n",
       "\u001b[1m  Row \u001b[0m│\u001b[1m x1    \u001b[0m\u001b[1m x2    \u001b[0m\u001b[1m x3    \u001b[0m\u001b[1m x4    \u001b[0m\u001b[1m x5    \u001b[0m\u001b[1m x6    \u001b[0m\u001b[1m x7    \u001b[0m\u001b[1m x8    \u001b[0m\u001b[1m x9    \u001b[0m\u001b[1m x10   \u001b[0m\n",
       "\u001b[1m      \u001b[0m│\u001b[90m Int64 \u001b[0m\u001b[90m Int64 \u001b[0m\u001b[90m Int64 \u001b[0m\u001b[90m Int64 \u001b[0m\u001b[90m Int64 \u001b[0m\u001b[90m Int64 \u001b[0m\u001b[90m Int64 \u001b[0m\u001b[90m Int64 \u001b[0m\u001b[90m Int64 \u001b[0m\u001b[90m Int64 \u001b[0m\n",
       "──────┼──────────────────────────────────────────────────────────────────────\n",
       "    1 │     9     10      5      7      8      7      9      4      1      2\n",
       "    2 │     2      1      7      7      1      8     10      5      4      3\n",
       "    3 │     9      6      2      9     10      7     10      1      6     10\n",
       "    4 │     2      7      6      7      8      1      6      3     10      3\n",
       "    5 │     7      1      8      5      1      2     10      8      7      7\n",
       "    6 │     5      9      3      9      4      8      7      9      2      4\n",
       "    7 │     8      4      3      1      5     10      1      3      8      2\n",
       "    8 │     4      7      3      1      7     10      8      4      6      6\n",
       "    9 │     6      6     10      7      3      5      4      3      7      7\n",
       "   10 │     4      6      3      7      8      4      4      5      8      3\n",
       "   11 │    10     10      6      6      5      6      7      2      9      7\n",
       "  ⋮   │   ⋮      ⋮      ⋮      ⋮      ⋮      ⋮      ⋮      ⋮      ⋮      ⋮\n",
       "  991 │     3      9      5      5      4      5      5      7      6      1\n",
       "  992 │     6      7      5      8      7     10      8      2      6      7\n",
       "  993 │     9      6      5     10      3      4      8      3      4      6\n",
       "  994 │     8     10     10      7      3      3      9     10      1      5\n",
       "  995 │     5      9      4      4      6      1      5      4     10      2\n",
       "  996 │     2      9      9     10     10      3      7      6      2      9\n",
       "  997 │     6      6      6      4      5      5      3      8      2      5\n",
       "  998 │     5     10      5     10      3      7     10      8      1     10\n",
       "  999 │     2      6      4      6      8     10     10      3      2      1\n",
       " 1000 │     6      3      1      9      4      4      7      5      7      5\n",
       "\u001b[36m                                                             979 rows omitted\u001b[0m"
      ]
     },
     "execution_count": 11,
     "metadata": {},
     "output_type": "execute_result"
    }
   ],
   "source": [
    "y = DataFrame(rand(1:10, 1000, 10), :auto)"
   ]
  },
  {
   "cell_type": "markdown",
   "metadata": {},
   "source": [
    "and then we can use `first` to peek into its first few rows"
   ]
  },
  {
   "cell_type": "code",
   "execution_count": 12,
   "metadata": {},
   "outputs": [
    {
     "data": {
      "text/html": [
       "<div class=\"data-frame\"><p>5 rows × 10 columns</p><table class=\"data-frame\"><thead><tr><th></th><th>x1</th><th>x2</th><th>x3</th><th>x4</th><th>x5</th><th>x6</th><th>x7</th><th>x8</th><th>x9</th><th>x10</th></tr><tr><th></th><th title=\"Int64\">Int64</th><th title=\"Int64\">Int64</th><th title=\"Int64\">Int64</th><th title=\"Int64\">Int64</th><th title=\"Int64\">Int64</th><th title=\"Int64\">Int64</th><th title=\"Int64\">Int64</th><th title=\"Int64\">Int64</th><th title=\"Int64\">Int64</th><th title=\"Int64\">Int64</th></tr></thead><tbody><tr><th>1</th><td>9</td><td>10</td><td>5</td><td>7</td><td>8</td><td>7</td><td>9</td><td>4</td><td>1</td><td>2</td></tr><tr><th>2</th><td>2</td><td>1</td><td>7</td><td>7</td><td>1</td><td>8</td><td>10</td><td>5</td><td>4</td><td>3</td></tr><tr><th>3</th><td>9</td><td>6</td><td>2</td><td>9</td><td>10</td><td>7</td><td>10</td><td>1</td><td>6</td><td>10</td></tr><tr><th>4</th><td>2</td><td>7</td><td>6</td><td>7</td><td>8</td><td>1</td><td>6</td><td>3</td><td>10</td><td>3</td></tr><tr><th>5</th><td>7</td><td>1</td><td>8</td><td>5</td><td>1</td><td>2</td><td>10</td><td>8</td><td>7</td><td>7</td></tr></tbody></table></div>"
      ],
      "text/latex": [
       "\\begin{tabular}{r|cccccccccc}\n",
       "\t& x1 & x2 & x3 & x4 & x5 & x6 & x7 & x8 & x9 & x10\\\\\n",
       "\t\\hline\n",
       "\t& Int64 & Int64 & Int64 & Int64 & Int64 & Int64 & Int64 & Int64 & Int64 & Int64\\\\\n",
       "\t\\hline\n",
       "\t1 & 9 & 10 & 5 & 7 & 8 & 7 & 9 & 4 & 1 & 2 \\\\\n",
       "\t2 & 2 & 1 & 7 & 7 & 1 & 8 & 10 & 5 & 4 & 3 \\\\\n",
       "\t3 & 9 & 6 & 2 & 9 & 10 & 7 & 10 & 1 & 6 & 10 \\\\\n",
       "\t4 & 2 & 7 & 6 & 7 & 8 & 1 & 6 & 3 & 10 & 3 \\\\\n",
       "\t5 & 7 & 1 & 8 & 5 & 1 & 2 & 10 & 8 & 7 & 7 \\\\\n",
       "\\end{tabular}\n"
      ],
      "text/plain": [
       "\u001b[1m5×10 DataFrame\u001b[0m\n",
       "\u001b[1m Row \u001b[0m│\u001b[1m x1    \u001b[0m\u001b[1m x2    \u001b[0m\u001b[1m x3    \u001b[0m\u001b[1m x4    \u001b[0m\u001b[1m x5    \u001b[0m\u001b[1m x6    \u001b[0m\u001b[1m x7    \u001b[0m\u001b[1m x8    \u001b[0m\u001b[1m x9    \u001b[0m\u001b[1m x10   \u001b[0m\n",
       "\u001b[1m     \u001b[0m│\u001b[90m Int64 \u001b[0m\u001b[90m Int64 \u001b[0m\u001b[90m Int64 \u001b[0m\u001b[90m Int64 \u001b[0m\u001b[90m Int64 \u001b[0m\u001b[90m Int64 \u001b[0m\u001b[90m Int64 \u001b[0m\u001b[90m Int64 \u001b[0m\u001b[90m Int64 \u001b[0m\u001b[90m Int64 \u001b[0m\n",
       "─────┼──────────────────────────────────────────────────────────────────────\n",
       "   1 │     9     10      5      7      8      7      9      4      1      2\n",
       "   2 │     2      1      7      7      1      8     10      5      4      3\n",
       "   3 │     9      6      2      9     10      7     10      1      6     10\n",
       "   4 │     2      7      6      7      8      1      6      3     10      3\n",
       "   5 │     7      1      8      5      1      2     10      8      7      7"
      ]
     },
     "execution_count": 12,
     "metadata": {},
     "output_type": "execute_result"
    }
   ],
   "source": [
    "first(y, 5)"
   ]
  },
  {
   "cell_type": "markdown",
   "metadata": {},
   "source": [
    "and `last` to see its bottom rows."
   ]
  },
  {
   "cell_type": "code",
   "execution_count": 13,
   "metadata": {},
   "outputs": [
    {
     "data": {
      "text/html": [
       "<div class=\"data-frame\"><p>3 rows × 10 columns</p><table class=\"data-frame\"><thead><tr><th></th><th>x1</th><th>x2</th><th>x3</th><th>x4</th><th>x5</th><th>x6</th><th>x7</th><th>x8</th><th>x9</th><th>x10</th></tr><tr><th></th><th title=\"Int64\">Int64</th><th title=\"Int64\">Int64</th><th title=\"Int64\">Int64</th><th title=\"Int64\">Int64</th><th title=\"Int64\">Int64</th><th title=\"Int64\">Int64</th><th title=\"Int64\">Int64</th><th title=\"Int64\">Int64</th><th title=\"Int64\">Int64</th><th title=\"Int64\">Int64</th></tr></thead><tbody><tr><th>1</th><td>5</td><td>10</td><td>5</td><td>10</td><td>3</td><td>7</td><td>10</td><td>8</td><td>1</td><td>10</td></tr><tr><th>2</th><td>2</td><td>6</td><td>4</td><td>6</td><td>8</td><td>10</td><td>10</td><td>3</td><td>2</td><td>1</td></tr><tr><th>3</th><td>6</td><td>3</td><td>1</td><td>9</td><td>4</td><td>4</td><td>7</td><td>5</td><td>7</td><td>5</td></tr></tbody></table></div>"
      ],
      "text/latex": [
       "\\begin{tabular}{r|cccccccccc}\n",
       "\t& x1 & x2 & x3 & x4 & x5 & x6 & x7 & x8 & x9 & x10\\\\\n",
       "\t\\hline\n",
       "\t& Int64 & Int64 & Int64 & Int64 & Int64 & Int64 & Int64 & Int64 & Int64 & Int64\\\\\n",
       "\t\\hline\n",
       "\t1 & 5 & 10 & 5 & 10 & 3 & 7 & 10 & 8 & 1 & 10 \\\\\n",
       "\t2 & 2 & 6 & 4 & 6 & 8 & 10 & 10 & 3 & 2 & 1 \\\\\n",
       "\t3 & 6 & 3 & 1 & 9 & 4 & 4 & 7 & 5 & 7 & 5 \\\\\n",
       "\\end{tabular}\n"
      ],
      "text/plain": [
       "\u001b[1m3×10 DataFrame\u001b[0m\n",
       "\u001b[1m Row \u001b[0m│\u001b[1m x1    \u001b[0m\u001b[1m x2    \u001b[0m\u001b[1m x3    \u001b[0m\u001b[1m x4    \u001b[0m\u001b[1m x5    \u001b[0m\u001b[1m x6    \u001b[0m\u001b[1m x7    \u001b[0m\u001b[1m x8    \u001b[0m\u001b[1m x9    \u001b[0m\u001b[1m x10   \u001b[0m\n",
       "\u001b[1m     \u001b[0m│\u001b[90m Int64 \u001b[0m\u001b[90m Int64 \u001b[0m\u001b[90m Int64 \u001b[0m\u001b[90m Int64 \u001b[0m\u001b[90m Int64 \u001b[0m\u001b[90m Int64 \u001b[0m\u001b[90m Int64 \u001b[0m\u001b[90m Int64 \u001b[0m\u001b[90m Int64 \u001b[0m\u001b[90m Int64 \u001b[0m\n",
       "─────┼──────────────────────────────────────────────────────────────────────\n",
       "   1 │     5     10      5     10      3      7     10      8      1     10\n",
       "   2 │     2      6      4      6      8     10     10      3      2      1\n",
       "   3 │     6      3      1      9      4      4      7      5      7      5"
      ]
     },
     "execution_count": 13,
     "metadata": {},
     "output_type": "execute_result"
    }
   ],
   "source": [
    "last(y, 3)"
   ]
  },
  {
   "cell_type": "markdown",
   "metadata": {},
   "source": [
    "Using `first` and `last` without number of rows will return a first/last `DataFrameRow` in the `DataFrame`"
   ]
  },
  {
   "cell_type": "code",
   "execution_count": 14,
   "metadata": {},
   "outputs": [
    {
     "data": {
      "text/html": [
       "<p>DataFrameRow (10 columns)</p><div class=\"data-frame\"><table class=\"data-frame\"><thead><tr><th></th><th>x1</th><th>x2</th><th>x3</th><th>x4</th><th>x5</th><th>x6</th><th>x7</th><th>x8</th><th>x9</th><th>x10</th></tr><tr><th></th><th title=\"Int64\">Int64</th><th title=\"Int64\">Int64</th><th title=\"Int64\">Int64</th><th title=\"Int64\">Int64</th><th title=\"Int64\">Int64</th><th title=\"Int64\">Int64</th><th title=\"Int64\">Int64</th><th title=\"Int64\">Int64</th><th title=\"Int64\">Int64</th><th title=\"Int64\">Int64</th></tr></thead><tbody><tr><th>1</th><td>9</td><td>10</td><td>5</td><td>7</td><td>8</td><td>7</td><td>9</td><td>4</td><td>1</td><td>2</td></tr></tbody></table></div>"
      ],
      "text/latex": [
       "\\begin{tabular}{r|cccccccccc}\n",
       "\t& x1 & x2 & x3 & x4 & x5 & x6 & x7 & x8 & x9 & x10\\\\\n",
       "\t\\hline\n",
       "\t& Int64 & Int64 & Int64 & Int64 & Int64 & Int64 & Int64 & Int64 & Int64 & Int64\\\\\n",
       "\t\\hline\n",
       "\t1 & 9 & 10 & 5 & 7 & 8 & 7 & 9 & 4 & 1 & 2 \\\\\n",
       "\\end{tabular}\n"
      ],
      "text/plain": [
       "\u001b[1mDataFrameRow\u001b[0m\n",
       "\u001b[1m Row \u001b[0m│\u001b[1m x1    \u001b[0m\u001b[1m x2    \u001b[0m\u001b[1m x3    \u001b[0m\u001b[1m x4    \u001b[0m\u001b[1m x5    \u001b[0m\u001b[1m x6    \u001b[0m\u001b[1m x7    \u001b[0m\u001b[1m x8    \u001b[0m\u001b[1m x9    \u001b[0m\u001b[1m x10   \u001b[0m\n",
       "\u001b[1m     \u001b[0m│\u001b[90m Int64 \u001b[0m\u001b[90m Int64 \u001b[0m\u001b[90m Int64 \u001b[0m\u001b[90m Int64 \u001b[0m\u001b[90m Int64 \u001b[0m\u001b[90m Int64 \u001b[0m\u001b[90m Int64 \u001b[0m\u001b[90m Int64 \u001b[0m\u001b[90m Int64 \u001b[0m\u001b[90m Int64 \u001b[0m\n",
       "─────┼──────────────────────────────────────────────────────────────────────\n",
       "   1 │     9     10      5      7      8      7      9      4      1      2"
      ]
     },
     "execution_count": 14,
     "metadata": {},
     "output_type": "execute_result"
    }
   ],
   "source": [
    "first(y)"
   ]
  },
  {
   "cell_type": "code",
   "execution_count": 15,
   "metadata": {},
   "outputs": [
    {
     "data": {
      "text/html": [
       "<p>DataFrameRow (10 columns)</p><div class=\"data-frame\"><table class=\"data-frame\"><thead><tr><th></th><th>x1</th><th>x2</th><th>x3</th><th>x4</th><th>x5</th><th>x6</th><th>x7</th><th>x8</th><th>x9</th><th>x10</th></tr><tr><th></th><th title=\"Int64\">Int64</th><th title=\"Int64\">Int64</th><th title=\"Int64\">Int64</th><th title=\"Int64\">Int64</th><th title=\"Int64\">Int64</th><th title=\"Int64\">Int64</th><th title=\"Int64\">Int64</th><th title=\"Int64\">Int64</th><th title=\"Int64\">Int64</th><th title=\"Int64\">Int64</th></tr></thead><tbody><tr><th>1000</th><td>6</td><td>3</td><td>1</td><td>9</td><td>4</td><td>4</td><td>7</td><td>5</td><td>7</td><td>5</td></tr></tbody></table></div>"
      ],
      "text/latex": [
       "\\begin{tabular}{r|cccccccccc}\n",
       "\t& x1 & x2 & x3 & x4 & x5 & x6 & x7 & x8 & x9 & x10\\\\\n",
       "\t\\hline\n",
       "\t& Int64 & Int64 & Int64 & Int64 & Int64 & Int64 & Int64 & Int64 & Int64 & Int64\\\\\n",
       "\t\\hline\n",
       "\t1000 & 6 & 3 & 1 & 9 & 4 & 4 & 7 & 5 & 7 & 5 \\\\\n",
       "\\end{tabular}\n"
      ],
      "text/plain": [
       "\u001b[1mDataFrameRow\u001b[0m\n",
       "\u001b[1m  Row \u001b[0m│\u001b[1m x1    \u001b[0m\u001b[1m x2    \u001b[0m\u001b[1m x3    \u001b[0m\u001b[1m x4    \u001b[0m\u001b[1m x5    \u001b[0m\u001b[1m x6    \u001b[0m\u001b[1m x7    \u001b[0m\u001b[1m x8    \u001b[0m\u001b[1m x9    \u001b[0m\u001b[1m x10   \u001b[0m\n",
       "\u001b[1m      \u001b[0m│\u001b[90m Int64 \u001b[0m\u001b[90m Int64 \u001b[0m\u001b[90m Int64 \u001b[0m\u001b[90m Int64 \u001b[0m\u001b[90m Int64 \u001b[0m\u001b[90m Int64 \u001b[0m\u001b[90m Int64 \u001b[0m\u001b[90m Int64 \u001b[0m\u001b[90m Int64 \u001b[0m\u001b[90m Int64 \u001b[0m\n",
       "──────┼──────────────────────────────────────────────────────────────────────\n",
       " 1000 │     6      3      1      9      4      4      7      5      7      5"
      ]
     },
     "execution_count": 15,
     "metadata": {},
     "output_type": "execute_result"
    }
   ],
   "source": [
    "last(y)"
   ]
  },
  {
   "cell_type": "markdown",
   "metadata": {},
   "source": [
    "### Displaying large data frames"
   ]
  },
  {
   "cell_type": "markdown",
   "metadata": {},
   "source": [
    "Create a wide and tall data frame:"
   ]
  },
  {
   "cell_type": "code",
   "execution_count": 16,
   "metadata": {
    "scrolled": true
   },
   "outputs": [
    {
     "data": {
      "text/html": [
       "<div class=\"data-frame\"><p>100 rows × 100 columns (omitted printing of 92 columns)</p><table class=\"data-frame\"><thead><tr><th></th><th>x1</th><th>x2</th><th>x3</th><th>x4</th><th>x5</th><th>x6</th><th>x7</th><th>x8</th></tr><tr><th></th><th title=\"Float64\">Float64</th><th title=\"Float64\">Float64</th><th title=\"Float64\">Float64</th><th title=\"Float64\">Float64</th><th title=\"Float64\">Float64</th><th title=\"Float64\">Float64</th><th title=\"Float64\">Float64</th><th title=\"Float64\">Float64</th></tr></thead><tbody><tr><th>1</th><td>0.404855</td><td>0.243012</td><td>0.683807</td><td>0.192505</td><td>0.177699</td><td>0.490366</td><td>0.256095</td><td>0.905991</td></tr><tr><th>2</th><td>0.690703</td><td>0.98421</td><td>0.562601</td><td>0.328666</td><td>0.744332</td><td>0.720237</td><td>0.274809</td><td>0.251483</td></tr><tr><th>3</th><td>0.360016</td><td>0.543438</td><td>0.665666</td><td>0.108831</td><td>0.97722</td><td>0.907352</td><td>0.882782</td><td>0.89743</td></tr><tr><th>4</th><td>0.40676</td><td>0.138815</td><td>0.836288</td><td>0.152535</td><td>0.363914</td><td>0.92364</td><td>0.968768</td><td>0.239175</td></tr><tr><th>5</th><td>0.574124</td><td>0.0588055</td><td>0.479767</td><td>0.550021</td><td>0.852979</td><td>0.349545</td><td>0.193424</td><td>0.410679</td></tr><tr><th>6</th><td>0.741206</td><td>0.360742</td><td>0.456086</td><td>0.807961</td><td>0.184329</td><td>0.202235</td><td>0.931272</td><td>0.0470354</td></tr><tr><th>7</th><td>0.583758</td><td>0.508866</td><td>0.992778</td><td>0.421772</td><td>0.65335</td><td>0.481035</td><td>0.853926</td><td>0.512148</td></tr><tr><th>8</th><td>0.89155</td><td>0.493118</td><td>0.654586</td><td>0.111203</td><td>0.486452</td><td>0.895107</td><td>0.923835</td><td>0.136125</td></tr><tr><th>9</th><td>0.0134661</td><td>0.652482</td><td>0.482317</td><td>0.0963468</td><td>0.59272</td><td>0.474086</td><td>0.582232</td><td>0.44114</td></tr><tr><th>10</th><td>0.433474</td><td>0.0102393</td><td>0.18827</td><td>0.0993683</td><td>0.140597</td><td>0.199437</td><td>0.179752</td><td>0.14468</td></tr><tr><th>11</th><td>0.068273</td><td>0.199927</td><td>0.933476</td><td>0.681044</td><td>0.0483327</td><td>0.171873</td><td>0.511759</td><td>0.946175</td></tr><tr><th>12</th><td>0.8942</td><td>0.882822</td><td>0.803575</td><td>0.915806</td><td>0.364594</td><td>0.524725</td><td>0.168853</td><td>0.581399</td></tr><tr><th>13</th><td>0.292243</td><td>0.977192</td><td>0.481122</td><td>0.822328</td><td>0.9635</td><td>0.909792</td><td>0.245767</td><td>0.477205</td></tr><tr><th>14</th><td>0.624396</td><td>0.745929</td><td>0.154101</td><td>0.402477</td><td>0.899784</td><td>0.668142</td><td>0.118421</td><td>0.740472</td></tr><tr><th>15</th><td>0.0755794</td><td>0.598056</td><td>0.0775079</td><td>0.291619</td><td>0.577179</td><td>0.441657</td><td>0.748237</td><td>0.291164</td></tr><tr><th>16</th><td>0.66862</td><td>0.878828</td><td>0.501756</td><td>0.846672</td><td>0.771079</td><td>0.540974</td><td>0.920415</td><td>0.750957</td></tr><tr><th>17</th><td>0.418928</td><td>0.247693</td><td>0.0734547</td><td>0.566838</td><td>0.783376</td><td>0.948684</td><td>0.198731</td><td>0.764746</td></tr><tr><th>18</th><td>0.18268</td><td>0.857145</td><td>0.200574</td><td>0.940928</td><td>0.803793</td><td>0.589968</td><td>0.222798</td><td>0.160549</td></tr><tr><th>19</th><td>0.605245</td><td>0.981958</td><td>0.416227</td><td>0.37502</td><td>0.283028</td><td>0.357894</td><td>0.733102</td><td>0.414925</td></tr><tr><th>20</th><td>0.409412</td><td>0.501597</td><td>0.950059</td><td>0.990353</td><td>0.461284</td><td>0.579398</td><td>0.075599</td><td>0.154096</td></tr><tr><th>21</th><td>0.22581</td><td>0.158107</td><td>0.105597</td><td>0.867776</td><td>0.715901</td><td>0.107084</td><td>0.689474</td><td>0.508408</td></tr><tr><th>22</th><td>0.405666</td><td>0.530923</td><td>0.294317</td><td>0.30755</td><td>0.0495696</td><td>0.245744</td><td>0.947395</td><td>0.00486987</td></tr><tr><th>23</th><td>0.339432</td><td>0.33888</td><td>0.2353</td><td>0.623442</td><td>0.279083</td><td>0.119527</td><td>0.0303384</td><td>0.50302</td></tr><tr><th>24</th><td>0.477066</td><td>0.151228</td><td>0.684181</td><td>0.189324</td><td>0.00184309</td><td>0.79285</td><td>0.510296</td><td>0.65894</td></tr><tr><th>25</th><td>0.59371</td><td>0.833588</td><td>0.0510592</td><td>0.243307</td><td>0.621355</td><td>0.728438</td><td>0.840575</td><td>0.547899</td></tr><tr><th>26</th><td>0.112458</td><td>0.584726</td><td>0.0837388</td><td>0.566186</td><td>0.162828</td><td>0.271361</td><td>0.714804</td><td>0.664984</td></tr><tr><th>27</th><td>0.546431</td><td>0.799047</td><td>0.0272388</td><td>0.368537</td><td>0.0218715</td><td>0.616045</td><td>0.90762</td><td>0.796553</td></tr><tr><th>28</th><td>0.680222</td><td>0.45428</td><td>0.263428</td><td>0.0411858</td><td>0.141241</td><td>0.13493</td><td>0.944695</td><td>0.981626</td></tr><tr><th>29</th><td>0.853878</td><td>0.628351</td><td>0.819053</td><td>0.0019574</td><td>0.926464</td><td>0.596363</td><td>0.266955</td><td>0.59737</td></tr><tr><th>30</th><td>0.59347</td><td>0.869069</td><td>0.811942</td><td>0.32035</td><td>0.630335</td><td>0.83591</td><td>0.745304</td><td>0.109592</td></tr><tr><th>&vellip;</th><td>&vellip;</td><td>&vellip;</td><td>&vellip;</td><td>&vellip;</td><td>&vellip;</td><td>&vellip;</td><td>&vellip;</td><td>&vellip;</td></tr></tbody></table></div>"
      ],
      "text/latex": [
       "\\begin{tabular}{r|ccccccccc}\n",
       "\t& x1 & x2 & x3 & x4 & x5 & x6 & x7 & x8 & \\\\\n",
       "\t\\hline\n",
       "\t& Float64 & Float64 & Float64 & Float64 & Float64 & Float64 & Float64 & Float64 & \\\\\n",
       "\t\\hline\n",
       "\t1 & 0.404855 & 0.243012 & 0.683807 & 0.192505 & 0.177699 & 0.490366 & 0.256095 & 0.905991 & $\\dots$ \\\\\n",
       "\t2 & 0.690703 & 0.98421 & 0.562601 & 0.328666 & 0.744332 & 0.720237 & 0.274809 & 0.251483 & $\\dots$ \\\\\n",
       "\t3 & 0.360016 & 0.543438 & 0.665666 & 0.108831 & 0.97722 & 0.907352 & 0.882782 & 0.89743 & $\\dots$ \\\\\n",
       "\t4 & 0.40676 & 0.138815 & 0.836288 & 0.152535 & 0.363914 & 0.92364 & 0.968768 & 0.239175 & $\\dots$ \\\\\n",
       "\t5 & 0.574124 & 0.0588055 & 0.479767 & 0.550021 & 0.852979 & 0.349545 & 0.193424 & 0.410679 & $\\dots$ \\\\\n",
       "\t6 & 0.741206 & 0.360742 & 0.456086 & 0.807961 & 0.184329 & 0.202235 & 0.931272 & 0.0470354 & $\\dots$ \\\\\n",
       "\t7 & 0.583758 & 0.508866 & 0.992778 & 0.421772 & 0.65335 & 0.481035 & 0.853926 & 0.512148 & $\\dots$ \\\\\n",
       "\t8 & 0.89155 & 0.493118 & 0.654586 & 0.111203 & 0.486452 & 0.895107 & 0.923835 & 0.136125 & $\\dots$ \\\\\n",
       "\t9 & 0.0134661 & 0.652482 & 0.482317 & 0.0963468 & 0.59272 & 0.474086 & 0.582232 & 0.44114 & $\\dots$ \\\\\n",
       "\t10 & 0.433474 & 0.0102393 & 0.18827 & 0.0993683 & 0.140597 & 0.199437 & 0.179752 & 0.14468 & $\\dots$ \\\\\n",
       "\t11 & 0.068273 & 0.199927 & 0.933476 & 0.681044 & 0.0483327 & 0.171873 & 0.511759 & 0.946175 & $\\dots$ \\\\\n",
       "\t12 & 0.8942 & 0.882822 & 0.803575 & 0.915806 & 0.364594 & 0.524725 & 0.168853 & 0.581399 & $\\dots$ \\\\\n",
       "\t13 & 0.292243 & 0.977192 & 0.481122 & 0.822328 & 0.9635 & 0.909792 & 0.245767 & 0.477205 & $\\dots$ \\\\\n",
       "\t14 & 0.624396 & 0.745929 & 0.154101 & 0.402477 & 0.899784 & 0.668142 & 0.118421 & 0.740472 & $\\dots$ \\\\\n",
       "\t15 & 0.0755794 & 0.598056 & 0.0775079 & 0.291619 & 0.577179 & 0.441657 & 0.748237 & 0.291164 & $\\dots$ \\\\\n",
       "\t16 & 0.66862 & 0.878828 & 0.501756 & 0.846672 & 0.771079 & 0.540974 & 0.920415 & 0.750957 & $\\dots$ \\\\\n",
       "\t17 & 0.418928 & 0.247693 & 0.0734547 & 0.566838 & 0.783376 & 0.948684 & 0.198731 & 0.764746 & $\\dots$ \\\\\n",
       "\t18 & 0.18268 & 0.857145 & 0.200574 & 0.940928 & 0.803793 & 0.589968 & 0.222798 & 0.160549 & $\\dots$ \\\\\n",
       "\t19 & 0.605245 & 0.981958 & 0.416227 & 0.37502 & 0.283028 & 0.357894 & 0.733102 & 0.414925 & $\\dots$ \\\\\n",
       "\t20 & 0.409412 & 0.501597 & 0.950059 & 0.990353 & 0.461284 & 0.579398 & 0.075599 & 0.154096 & $\\dots$ \\\\\n",
       "\t21 & 0.22581 & 0.158107 & 0.105597 & 0.867776 & 0.715901 & 0.107084 & 0.689474 & 0.508408 & $\\dots$ \\\\\n",
       "\t22 & 0.405666 & 0.530923 & 0.294317 & 0.30755 & 0.0495696 & 0.245744 & 0.947395 & 0.00486987 & $\\dots$ \\\\\n",
       "\t23 & 0.339432 & 0.33888 & 0.2353 & 0.623442 & 0.279083 & 0.119527 & 0.0303384 & 0.50302 & $\\dots$ \\\\\n",
       "\t24 & 0.477066 & 0.151228 & 0.684181 & 0.189324 & 0.00184309 & 0.79285 & 0.510296 & 0.65894 & $\\dots$ \\\\\n",
       "\t25 & 0.59371 & 0.833588 & 0.0510592 & 0.243307 & 0.621355 & 0.728438 & 0.840575 & 0.547899 & $\\dots$ \\\\\n",
       "\t26 & 0.112458 & 0.584726 & 0.0837388 & 0.566186 & 0.162828 & 0.271361 & 0.714804 & 0.664984 & $\\dots$ \\\\\n",
       "\t27 & 0.546431 & 0.799047 & 0.0272388 & 0.368537 & 0.0218715 & 0.616045 & 0.90762 & 0.796553 & $\\dots$ \\\\\n",
       "\t28 & 0.680222 & 0.45428 & 0.263428 & 0.0411858 & 0.141241 & 0.13493 & 0.944695 & 0.981626 & $\\dots$ \\\\\n",
       "\t29 & 0.853878 & 0.628351 & 0.819053 & 0.0019574 & 0.926464 & 0.596363 & 0.266955 & 0.59737 & $\\dots$ \\\\\n",
       "\t30 & 0.59347 & 0.869069 & 0.811942 & 0.32035 & 0.630335 & 0.83591 & 0.745304 & 0.109592 & $\\dots$ \\\\\n",
       "\t$\\dots$ & $\\dots$ & $\\dots$ & $\\dots$ & $\\dots$ & $\\dots$ & $\\dots$ & $\\dots$ & $\\dots$ &  \\\\\n",
       "\\end{tabular}\n"
      ],
      "text/plain": [
       "\u001b[1m100×100 DataFrame\u001b[0m\n",
       "\u001b[1m Row \u001b[0m│\u001b[1m x1        \u001b[0m\u001b[1m x2        \u001b[0m\u001b[1m x3       \u001b[0m\u001b[1m x4        \u001b[0m\u001b[1m x5        \u001b[0m\u001b[1m x6        \u001b[0m\u001b[1m x7    \u001b[0m ⋯\n",
       "\u001b[1m     \u001b[0m│\u001b[90m Float64   \u001b[0m\u001b[90m Float64   \u001b[0m\u001b[90m Float64  \u001b[0m\u001b[90m Float64   \u001b[0m\u001b[90m Float64   \u001b[0m\u001b[90m Float64   \u001b[0m\u001b[90m Float6\u001b[0m ⋯\n",
       "─────┼──────────────────────────────────────────────────────────────────────────\n",
       "   1 │ 0.404855   0.243012   0.683807  0.192505   0.177699   0.490366   0.2560 ⋯\n",
       "   2 │ 0.690703   0.98421    0.562601  0.328666   0.744332   0.720237   0.2748\n",
       "   3 │ 0.360016   0.543438   0.665666  0.108831   0.97722    0.907352   0.8827\n",
       "   4 │ 0.40676    0.138815   0.836288  0.152535   0.363914   0.92364    0.9687\n",
       "   5 │ 0.574124   0.0588055  0.479767  0.550021   0.852979   0.349545   0.1934 ⋯\n",
       "   6 │ 0.741206   0.360742   0.456086  0.807961   0.184329   0.202235   0.9312\n",
       "   7 │ 0.583758   0.508866   0.992778  0.421772   0.65335    0.481035   0.8539\n",
       "   8 │ 0.89155    0.493118   0.654586  0.111203   0.486452   0.895107   0.9238\n",
       "   9 │ 0.0134661  0.652482   0.482317  0.0963468  0.59272    0.474086   0.5822 ⋯\n",
       "  10 │ 0.433474   0.0102393  0.18827   0.0993683  0.140597   0.199437   0.1797\n",
       "  11 │ 0.068273   0.199927   0.933476  0.681044   0.0483327  0.171873   0.5117\n",
       "  ⋮  │     ⋮          ⋮         ⋮          ⋮          ⋮          ⋮          ⋮  ⋱\n",
       "  91 │ 0.832345   0.52094    0.577294  0.024756   0.171694   0.555123   0.4029\n",
       "  92 │ 0.0495063  0.931828   0.912914  0.569708   0.581587   0.127681   0.0851 ⋯\n",
       "  93 │ 0.512341   0.84489    0.880772  0.915787   0.924311   0.213355   0.4679\n",
       "  94 │ 0.636812   0.80987    0.445312  0.485797   0.557108   0.996714   0.1852\n",
       "  95 │ 0.918308   0.278046   0.354582  0.473893   0.155756   0.812591   0.9106\n",
       "  96 │ 0.229041   0.146608   0.892054  0.711804   0.795339   0.367715   0.8669 ⋯\n",
       "  97 │ 0.103867   0.728006   0.63133   0.535612   0.0640217  0.835486   0.0538\n",
       "  98 │ 0.885888   0.625739   0.909379  0.842737   0.805642   0.925935   0.4503\n",
       "  99 │ 0.457821   0.693815   0.020921  0.244325   0.38849    0.972743   0.7578\n",
       " 100 │ 0.352045   0.39379    0.238132  0.765776   0.187883   0.364836   0.1715 ⋯\n",
       "\u001b[36m                                                  94 columns and 79 rows omitted\u001b[0m"
      ]
     },
     "execution_count": 16,
     "metadata": {},
     "output_type": "execute_result"
    }
   ],
   "source": [
    "df = DataFrame(rand(100, 100), :auto)"
   ]
  },
  {
   "cell_type": "markdown",
   "metadata": {},
   "source": [
    "we can see that 92 of its columns were not printed. Also we get its first 30 rows. You can easily change this behavior by changing the value of `ENV[\"LINES\"]` and `ENV[\"COLUMNS\"]`."
   ]
  },
  {
   "cell_type": "code",
   "execution_count": 17,
   "metadata": {},
   "outputs": [
    {
     "data": {
      "text/plain": [
       "10"
      ]
     },
     "execution_count": 17,
     "metadata": {},
     "output_type": "execute_result"
    }
   ],
   "source": [
    "ENV[\"LINES\"] = 10"
   ]
  },
  {
   "cell_type": "code",
   "execution_count": 18,
   "metadata": {},
   "outputs": [
    {
     "data": {
      "text/plain": [
       "200"
      ]
     },
     "execution_count": 18,
     "metadata": {},
     "output_type": "execute_result"
    }
   ],
   "source": [
    "ENV[\"COLUMNS\"] = 200"
   ]
  },
  {
   "cell_type": "code",
   "execution_count": 19,
   "metadata": {},
   "outputs": [
    {
     "data": {
      "text/html": [
       "<div class=\"data-frame\"><p>100 rows × 100 columns (omitted printing of 81 columns)</p><table class=\"data-frame\"><thead><tr><th></th><th>x1</th><th>x2</th><th>x3</th><th>x4</th><th>x5</th><th>x6</th><th>x7</th><th>x8</th><th>x9</th><th>x10</th><th>x11</th><th>x12</th><th>x13</th><th>x14</th><th>x15</th><th>x16</th><th>x17</th><th>x18</th><th>x19</th></tr><tr><th></th><th title=\"Float64\">Float64</th><th title=\"Float64\">Float64</th><th title=\"Float64\">Float64</th><th title=\"Float64\">Float64</th><th title=\"Float64\">Float64</th><th title=\"Float64\">Float64</th><th title=\"Float64\">Float64</th><th title=\"Float64\">Float64</th><th title=\"Float64\">Float64</th><th title=\"Float64\">Float64</th><th title=\"Float64\">Float64</th><th title=\"Float64\">Float64</th><th title=\"Float64\">Float64</th><th title=\"Float64\">Float64</th><th title=\"Float64\">Float64</th><th title=\"Float64\">Float64</th><th title=\"Float64\">Float64</th><th title=\"Float64\">Float64</th><th title=\"Float64\">Float64</th></tr></thead><tbody><tr><th>1</th><td>0.404855</td><td>0.243012</td><td>0.683807</td><td>0.192505</td><td>0.177699</td><td>0.490366</td><td>0.256095</td><td>0.905991</td><td>0.387573</td><td>0.676251</td><td>0.342257</td><td>0.75176</td><td>0.873887</td><td>0.780598</td><td>0.37259</td><td>0.602779</td><td>0.351328</td><td>0.898146</td><td>0.136442</td></tr><tr><th>2</th><td>0.690703</td><td>0.98421</td><td>0.562601</td><td>0.328666</td><td>0.744332</td><td>0.720237</td><td>0.274809</td><td>0.251483</td><td>0.345267</td><td>0.532479</td><td>0.586223</td><td>0.398477</td><td>0.0954523</td><td>0.343082</td><td>0.810024</td><td>0.906448</td><td>0.313045</td><td>0.515277</td><td>0.986998</td></tr><tr><th>3</th><td>0.360016</td><td>0.543438</td><td>0.665666</td><td>0.108831</td><td>0.97722</td><td>0.907352</td><td>0.882782</td><td>0.89743</td><td>0.244234</td><td>0.642323</td><td>0.138691</td><td>0.619279</td><td>0.924233</td><td>0.0231141</td><td>0.795032</td><td>0.715749</td><td>0.157171</td><td>0.155569</td><td>0.603605</td></tr><tr><th>4</th><td>0.40676</td><td>0.138815</td><td>0.836288</td><td>0.152535</td><td>0.363914</td><td>0.92364</td><td>0.968768</td><td>0.239175</td><td>0.121966</td><td>0.473963</td><td>0.810705</td><td>0.535522</td><td>0.368712</td><td>0.496021</td><td>0.422308</td><td>0.176252</td><td>0.94233</td><td>0.376803</td><td>0.945638</td></tr><tr><th>5</th><td>0.574124</td><td>0.0588055</td><td>0.479767</td><td>0.550021</td><td>0.852979</td><td>0.349545</td><td>0.193424</td><td>0.410679</td><td>0.105166</td><td>0.659435</td><td>0.25631</td><td>0.718698</td><td>0.000407438</td><td>0.0910939</td><td>0.313009</td><td>0.0928969</td><td>0.361912</td><td>0.276834</td><td>0.0685941</td></tr><tr><th>6</th><td>0.741206</td><td>0.360742</td><td>0.456086</td><td>0.807961</td><td>0.184329</td><td>0.202235</td><td>0.931272</td><td>0.0470354</td><td>0.945089</td><td>0.33734</td><td>0.754415</td><td>0.0654029</td><td>0.788944</td><td>0.691528</td><td>0.284889</td><td>0.491287</td><td>0.297232</td><td>0.280993</td><td>0.14589</td></tr><tr><th>7</th><td>0.583758</td><td>0.508866</td><td>0.992778</td><td>0.421772</td><td>0.65335</td><td>0.481035</td><td>0.853926</td><td>0.512148</td><td>0.550709</td><td>0.436073</td><td>0.0559767</td><td>0.971778</td><td>0.729512</td><td>0.546261</td><td>0.856627</td><td>0.452861</td><td>0.710556</td><td>0.276183</td><td>0.978197</td></tr><tr><th>8</th><td>0.89155</td><td>0.493118</td><td>0.654586</td><td>0.111203</td><td>0.486452</td><td>0.895107</td><td>0.923835</td><td>0.136125</td><td>0.642167</td><td>0.263163</td><td>0.327283</td><td>0.114689</td><td>0.755289</td><td>0.704462</td><td>0.834631</td><td>0.0254315</td><td>0.876798</td><td>0.657908</td><td>0.19089</td></tr><tr><th>9</th><td>0.0134661</td><td>0.652482</td><td>0.482317</td><td>0.0963468</td><td>0.59272</td><td>0.474086</td><td>0.582232</td><td>0.44114</td><td>0.466024</td><td>0.49818</td><td>0.504244</td><td>0.229541</td><td>0.358785</td><td>0.111</td><td>0.358165</td><td>0.119663</td><td>0.629892</td><td>0.348444</td><td>0.462189</td></tr><tr><th>10</th><td>0.433474</td><td>0.0102393</td><td>0.18827</td><td>0.0993683</td><td>0.140597</td><td>0.199437</td><td>0.179752</td><td>0.14468</td><td>0.728592</td><td>0.913592</td><td>0.733236</td><td>0.929452</td><td>0.64385</td><td>0.786097</td><td>0.213996</td><td>0.945879</td><td>0.284861</td><td>0.228</td><td>0.743188</td></tr><tr><th>&vellip;</th><td>&vellip;</td><td>&vellip;</td><td>&vellip;</td><td>&vellip;</td><td>&vellip;</td><td>&vellip;</td><td>&vellip;</td><td>&vellip;</td><td>&vellip;</td><td>&vellip;</td><td>&vellip;</td><td>&vellip;</td><td>&vellip;</td><td>&vellip;</td><td>&vellip;</td><td>&vellip;</td><td>&vellip;</td><td>&vellip;</td><td>&vellip;</td></tr></tbody></table></div>"
      ],
      "text/latex": [
       "\\begin{tabular}{r|cccccccccccccccccccc}\n",
       "\t& x1 & x2 & x3 & x4 & x5 & x6 & x7 & x8 & x9 & x10 & x11 & x12 & x13 & x14 & x15 & x16 & x17 & x18 & x19 & \\\\\n",
       "\t\\hline\n",
       "\t& Float64 & Float64 & Float64 & Float64 & Float64 & Float64 & Float64 & Float64 & Float64 & Float64 & Float64 & Float64 & Float64 & Float64 & Float64 & Float64 & Float64 & Float64 & Float64 & \\\\\n",
       "\t\\hline\n",
       "\t1 & 0.404855 & 0.243012 & 0.683807 & 0.192505 & 0.177699 & 0.490366 & 0.256095 & 0.905991 & 0.387573 & 0.676251 & 0.342257 & 0.75176 & 0.873887 & 0.780598 & 0.37259 & 0.602779 & 0.351328 & 0.898146 & 0.136442 & $\\dots$ \\\\\n",
       "\t2 & 0.690703 & 0.98421 & 0.562601 & 0.328666 & 0.744332 & 0.720237 & 0.274809 & 0.251483 & 0.345267 & 0.532479 & 0.586223 & 0.398477 & 0.0954523 & 0.343082 & 0.810024 & 0.906448 & 0.313045 & 0.515277 & 0.986998 & $\\dots$ \\\\\n",
       "\t3 & 0.360016 & 0.543438 & 0.665666 & 0.108831 & 0.97722 & 0.907352 & 0.882782 & 0.89743 & 0.244234 & 0.642323 & 0.138691 & 0.619279 & 0.924233 & 0.0231141 & 0.795032 & 0.715749 & 0.157171 & 0.155569 & 0.603605 & $\\dots$ \\\\\n",
       "\t4 & 0.40676 & 0.138815 & 0.836288 & 0.152535 & 0.363914 & 0.92364 & 0.968768 & 0.239175 & 0.121966 & 0.473963 & 0.810705 & 0.535522 & 0.368712 & 0.496021 & 0.422308 & 0.176252 & 0.94233 & 0.376803 & 0.945638 & $\\dots$ \\\\\n",
       "\t5 & 0.574124 & 0.0588055 & 0.479767 & 0.550021 & 0.852979 & 0.349545 & 0.193424 & 0.410679 & 0.105166 & 0.659435 & 0.25631 & 0.718698 & 0.000407438 & 0.0910939 & 0.313009 & 0.0928969 & 0.361912 & 0.276834 & 0.0685941 & $\\dots$ \\\\\n",
       "\t6 & 0.741206 & 0.360742 & 0.456086 & 0.807961 & 0.184329 & 0.202235 & 0.931272 & 0.0470354 & 0.945089 & 0.33734 & 0.754415 & 0.0654029 & 0.788944 & 0.691528 & 0.284889 & 0.491287 & 0.297232 & 0.280993 & 0.14589 & $\\dots$ \\\\\n",
       "\t7 & 0.583758 & 0.508866 & 0.992778 & 0.421772 & 0.65335 & 0.481035 & 0.853926 & 0.512148 & 0.550709 & 0.436073 & 0.0559767 & 0.971778 & 0.729512 & 0.546261 & 0.856627 & 0.452861 & 0.710556 & 0.276183 & 0.978197 & $\\dots$ \\\\\n",
       "\t8 & 0.89155 & 0.493118 & 0.654586 & 0.111203 & 0.486452 & 0.895107 & 0.923835 & 0.136125 & 0.642167 & 0.263163 & 0.327283 & 0.114689 & 0.755289 & 0.704462 & 0.834631 & 0.0254315 & 0.876798 & 0.657908 & 0.19089 & $\\dots$ \\\\\n",
       "\t9 & 0.0134661 & 0.652482 & 0.482317 & 0.0963468 & 0.59272 & 0.474086 & 0.582232 & 0.44114 & 0.466024 & 0.49818 & 0.504244 & 0.229541 & 0.358785 & 0.111 & 0.358165 & 0.119663 & 0.629892 & 0.348444 & 0.462189 & $\\dots$ \\\\\n",
       "\t10 & 0.433474 & 0.0102393 & 0.18827 & 0.0993683 & 0.140597 & 0.199437 & 0.179752 & 0.14468 & 0.728592 & 0.913592 & 0.733236 & 0.929452 & 0.64385 & 0.786097 & 0.213996 & 0.945879 & 0.284861 & 0.228 & 0.743188 & $\\dots$ \\\\\n",
       "\t$\\dots$ & $\\dots$ & $\\dots$ & $\\dots$ & $\\dots$ & $\\dots$ & $\\dots$ & $\\dots$ & $\\dots$ & $\\dots$ & $\\dots$ & $\\dots$ & $\\dots$ & $\\dots$ & $\\dots$ & $\\dots$ & $\\dots$ & $\\dots$ & $\\dots$ & $\\dots$ &  \\\\\n",
       "\\end{tabular}\n"
      ],
      "text/plain": [
       "\u001b[1m100×100 DataFrame\u001b[0m\n",
       "\u001b[1m Row \u001b[0m│\u001b[1m x1       \u001b[0m\u001b[1m x2       \u001b[0m\u001b[1m x3       \u001b[0m\u001b[1m x4       \u001b[0m\u001b[1m x5        \u001b[0m\u001b[1m x6       \u001b[0m\u001b[1m x7        \u001b[0m\u001b[1m x8       \u001b[0m\u001b[1m x9        \u001b[0m\u001b[1m x10       \u001b[0m\u001b[1m x11       \u001b[0m\u001b[1m x12      \u001b[0m\u001b[1m x13       \u001b[0m\u001b[1m x14       \u001b[0m\u001b[1m x15       \u001b[0m\u001b[1m x16      \u001b[0m\u001b[1m x17      \u001b[0m\u001b[1m x18       \u001b[0m\u001b[1m x1\u001b[0m ⋯\n",
       "\u001b[1m     \u001b[0m│\u001b[90m Float64  \u001b[0m\u001b[90m Float64  \u001b[0m\u001b[90m Float64  \u001b[0m\u001b[90m Float64  \u001b[0m\u001b[90m Float64   \u001b[0m\u001b[90m Float64  \u001b[0m\u001b[90m Float64   \u001b[0m\u001b[90m Float64  \u001b[0m\u001b[90m Float64   \u001b[0m\u001b[90m Float64   \u001b[0m\u001b[90m Float64   \u001b[0m\u001b[90m Float64  \u001b[0m\u001b[90m Float64   \u001b[0m\u001b[90m Float64   \u001b[0m\u001b[90m Float64   \u001b[0m\u001b[90m Float64  \u001b[0m\u001b[90m Float64  \u001b[0m\u001b[90m Float64   \u001b[0m\u001b[90m Fl\u001b[0m ⋯\n",
       "─────┼──────────────────────────────────────────────────────────────────────────────────────────────────────────────────────────────────────────────────────────────────────────────────────────────────\n",
       "   1 │ 0.404855  0.243012  0.683807  0.192505  0.177699   0.490366  0.256095   0.905991  0.387573   0.676251   0.342257   0.75176   0.873887   0.780598   0.37259    0.602779  0.351328  0.898146   0. ⋯\n",
       "  ⋮  │    ⋮         ⋮         ⋮         ⋮          ⋮         ⋮          ⋮         ⋮          ⋮          ⋮          ⋮         ⋮          ⋮          ⋮          ⋮         ⋮         ⋮          ⋮         ⋱\n",
       "\u001b[36m                                                                                                                                                                          82 columns and 99 rows omitted\u001b[0m"
      ]
     },
     "execution_count": 19,
     "metadata": {},
     "output_type": "execute_result"
    }
   ],
   "source": [
    "df"
   ]
  },
  {
   "cell_type": "markdown",
   "metadata": {},
   "source": [
    "### Most elementary get and set operations\n",
    "\n",
    "Given the `DataFrame` `x` we have created earlier, here are various ways to grab one of its columns as a `Vector`."
   ]
  },
  {
   "cell_type": "code",
   "execution_count": 20,
   "metadata": {},
   "outputs": [
    {
     "data": {
      "text/html": [
       "<div class=\"data-frame\"><p>2 rows × 3 columns</p><table class=\"data-frame\"><thead><tr><th></th><th>A</th><th>B</th><th>C</th></tr><tr><th></th><th title=\"Int64\">Int64</th><th title=\"Union{Missing, Float64}\">Float64?</th><th title=\"String\">String</th></tr></thead><tbody><tr><th>1</th><td>1</td><td>1.0</td><td>a</td></tr><tr><th>2</th><td>2</td><td><em>missing</em></td><td>b</td></tr></tbody></table></div>"
      ],
      "text/latex": [
       "\\begin{tabular}{r|ccc}\n",
       "\t& A & B & C\\\\\n",
       "\t\\hline\n",
       "\t& Int64 & Float64? & String\\\\\n",
       "\t\\hline\n",
       "\t1 & 1 & 1.0 & a \\\\\n",
       "\t2 & 2 & \\emph{missing} & b \\\\\n",
       "\\end{tabular}\n"
      ],
      "text/plain": [
       "\u001b[1m2×3 DataFrame\u001b[0m\n",
       "\u001b[1m Row \u001b[0m│\u001b[1m A     \u001b[0m\u001b[1m B         \u001b[0m\u001b[1m C      \u001b[0m\n",
       "\u001b[1m     \u001b[0m│\u001b[90m Int64 \u001b[0m\u001b[90m Float64?  \u001b[0m\u001b[90m String \u001b[0m\n",
       "─────┼──────────────────────────\n",
       "   1 │     1        1.0  a\n",
       "   2 │     2 \u001b[90m missing   \u001b[0m b"
      ]
     },
     "execution_count": 20,
     "metadata": {},
     "output_type": "execute_result"
    }
   ],
   "source": [
    "x"
   ]
  },
  {
   "cell_type": "code",
   "execution_count": 21,
   "metadata": {},
   "outputs": [
    {
     "data": {
      "text/plain": [
       "([1, 2], [1, 2], [1, 2])"
      ]
     },
     "execution_count": 21,
     "metadata": {},
     "output_type": "execute_result"
    }
   ],
   "source": [
    "x.A, x[!, 1], x[!, :A] # all get the vector stored in our DataFrame without copying it"
   ]
  },
  {
   "cell_type": "code",
   "execution_count": 22,
   "metadata": {},
   "outputs": [
    {
     "data": {
      "text/plain": [
       "([1, 2], [1, 2])"
      ]
     },
     "execution_count": 22,
     "metadata": {},
     "output_type": "execute_result"
    }
   ],
   "source": [
    "x.\"A\", x[!, \"A\"] # the same using string indexing"
   ]
  },
  {
   "cell_type": "code",
   "execution_count": 23,
   "metadata": {},
   "outputs": [
    {
     "data": {
      "text/plain": [
       "2-element Vector{Int64}:\n",
       " 1\n",
       " 2"
      ]
     },
     "execution_count": 23,
     "metadata": {},
     "output_type": "execute_result"
    }
   ],
   "source": [
    "x[:, 1] # note that this creates a copy"
   ]
  },
  {
   "cell_type": "code",
   "execution_count": 24,
   "metadata": {},
   "outputs": [
    {
     "data": {
      "text/plain": [
       "false"
      ]
     },
     "execution_count": 24,
     "metadata": {},
     "output_type": "execute_result"
    }
   ],
   "source": [
    "x[:, 1] === x[:, 1]"
   ]
  },
  {
   "cell_type": "markdown",
   "metadata": {},
   "source": [
    "To grab one row as a `DataFrame`, we can index as follows."
   ]
  },
  {
   "cell_type": "code",
   "execution_count": 25,
   "metadata": {},
   "outputs": [
    {
     "data": {
      "text/html": [
       "<div class=\"data-frame\"><p>1 rows × 3 columns</p><table class=\"data-frame\"><thead><tr><th></th><th>A</th><th>B</th><th>C</th></tr><tr><th></th><th title=\"Int64\">Int64</th><th title=\"Union{Missing, Float64}\">Float64?</th><th title=\"String\">String</th></tr></thead><tbody><tr><th>1</th><td>1</td><td>1.0</td><td>a</td></tr></tbody></table></div>"
      ],
      "text/latex": [
       "\\begin{tabular}{r|ccc}\n",
       "\t& A & B & C\\\\\n",
       "\t\\hline\n",
       "\t& Int64 & Float64? & String\\\\\n",
       "\t\\hline\n",
       "\t1 & 1 & 1.0 & a \\\\\n",
       "\\end{tabular}\n"
      ],
      "text/plain": [
       "\u001b[1m1×3 DataFrame\u001b[0m\n",
       "\u001b[1m Row \u001b[0m│\u001b[1m A     \u001b[0m\u001b[1m B        \u001b[0m\u001b[1m C      \u001b[0m\n",
       "\u001b[1m     \u001b[0m│\u001b[90m Int64 \u001b[0m\u001b[90m Float64? \u001b[0m\u001b[90m String \u001b[0m\n",
       "─────┼─────────────────────────\n",
       "   1 │     1       1.0  a"
      ]
     },
     "execution_count": 25,
     "metadata": {},
     "output_type": "execute_result"
    }
   ],
   "source": [
    "x[1:1, :]"
   ]
  },
  {
   "cell_type": "code",
   "execution_count": 26,
   "metadata": {},
   "outputs": [
    {
     "data": {
      "text/html": [
       "<p>DataFrameRow (3 columns)</p><div class=\"data-frame\"><table class=\"data-frame\"><thead><tr><th></th><th>A</th><th>B</th><th>C</th></tr><tr><th></th><th title=\"Int64\">Int64</th><th title=\"Union{Missing, Float64}\">Float64?</th><th title=\"String\">String</th></tr></thead><tbody><tr><th>1</th><td>1</td><td>1.0</td><td>a</td></tr></tbody></table></div>"
      ],
      "text/latex": [
       "\\begin{tabular}{r|ccc}\n",
       "\t& A & B & C\\\\\n",
       "\t\\hline\n",
       "\t& Int64 & Float64? & String\\\\\n",
       "\t\\hline\n",
       "\t1 & 1 & 1.0 & a \\\\\n",
       "\\end{tabular}\n"
      ],
      "text/plain": [
       "\u001b[1mDataFrameRow\u001b[0m\n",
       "\u001b[1m Row \u001b[0m│\u001b[1m A     \u001b[0m\u001b[1m B        \u001b[0m\u001b[1m C      \u001b[0m\n",
       "\u001b[1m     \u001b[0m│\u001b[90m Int64 \u001b[0m\u001b[90m Float64? \u001b[0m\u001b[90m String \u001b[0m\n",
       "─────┼─────────────────────────\n",
       "   1 │     1       1.0  a"
      ]
     },
     "execution_count": 26,
     "metadata": {},
     "output_type": "execute_result"
    }
   ],
   "source": [
    "x[1, :] # this produces a DataFrameRow which is treated as 1-dimensional object similar to a NamedTuple"
   ]
  },
  {
   "cell_type": "markdown",
   "metadata": {},
   "source": [
    "We can grab a single cell or element with the same syntax to grab an element of an array."
   ]
  },
  {
   "cell_type": "code",
   "execution_count": 27,
   "metadata": {},
   "outputs": [
    {
     "data": {
      "text/plain": [
       "1"
      ]
     },
     "execution_count": 27,
     "metadata": {},
     "output_type": "execute_result"
    }
   ],
   "source": [
    "x[1, 1]"
   ]
  },
  {
   "cell_type": "markdown",
   "metadata": {},
   "source": [
    "or a new `DataFrame` that is a subset of rows and columns"
   ]
  },
  {
   "cell_type": "code",
   "execution_count": 28,
   "metadata": {},
   "outputs": [
    {
     "data": {
      "text/html": [
       "<div class=\"data-frame\"><p>2 rows × 2 columns</p><table class=\"data-frame\"><thead><tr><th></th><th>A</th><th>B</th></tr><tr><th></th><th title=\"Int64\">Int64</th><th title=\"Union{Missing, Float64}\">Float64?</th></tr></thead><tbody><tr><th>1</th><td>1</td><td>1.0</td></tr><tr><th>2</th><td>2</td><td><em>missing</em></td></tr></tbody></table></div>"
      ],
      "text/latex": [
       "\\begin{tabular}{r|cc}\n",
       "\t& A & B\\\\\n",
       "\t\\hline\n",
       "\t& Int64 & Float64?\\\\\n",
       "\t\\hline\n",
       "\t1 & 1 & 1.0 \\\\\n",
       "\t2 & 2 & \\emph{missing} \\\\\n",
       "\\end{tabular}\n"
      ],
      "text/plain": [
       "\u001b[1m2×2 DataFrame\u001b[0m\n",
       "\u001b[1m Row \u001b[0m│\u001b[1m A     \u001b[0m\u001b[1m B         \u001b[0m\n",
       "\u001b[1m     \u001b[0m│\u001b[90m Int64 \u001b[0m\u001b[90m Float64?  \u001b[0m\n",
       "─────┼──────────────────\n",
       "   1 │     1        1.0\n",
       "   2 │     2 \u001b[90m missing   \u001b[0m"
      ]
     },
     "execution_count": 28,
     "metadata": {},
     "output_type": "execute_result"
    }
   ],
   "source": [
    "x[1:2, 1:2]"
   ]
  },
  {
   "cell_type": "markdown",
   "metadata": {},
   "source": [
    "You can also use `Regex` to select columns and `Not` from InvertedIndices.jl both to select rows and columns"
   ]
  },
  {
   "cell_type": "code",
   "execution_count": 29,
   "metadata": {},
   "outputs": [
    {
     "data": {
      "text/html": [
       "<div class=\"data-frame\"><p>1 rows × 1 columns</p><table class=\"data-frame\"><thead><tr><th></th><th>A</th></tr><tr><th></th><th title=\"Int64\">Int64</th></tr></thead><tbody><tr><th>1</th><td>2</td></tr></tbody></table></div>"
      ],
      "text/latex": [
       "\\begin{tabular}{r|c}\n",
       "\t& A\\\\\n",
       "\t\\hline\n",
       "\t& Int64\\\\\n",
       "\t\\hline\n",
       "\t1 & 2 \\\\\n",
       "\\end{tabular}\n"
      ],
      "text/plain": [
       "\u001b[1m1×1 DataFrame\u001b[0m\n",
       "\u001b[1m Row \u001b[0m│\u001b[1m A     \u001b[0m\n",
       "\u001b[1m     \u001b[0m│\u001b[90m Int64 \u001b[0m\n",
       "─────┼───────\n",
       "   1 │     2"
      ]
     },
     "execution_count": 29,
     "metadata": {},
     "output_type": "execute_result"
    }
   ],
   "source": [
    "x[Not(1), r\"A\"]"
   ]
  },
  {
   "cell_type": "code",
   "execution_count": 30,
   "metadata": {},
   "outputs": [
    {
     "data": {
      "text/html": [
       "<div class=\"data-frame\"><p>2 rows × 2 columns</p><table class=\"data-frame\"><thead><tr><th></th><th>B</th><th>C</th></tr><tr><th></th><th title=\"Union{Missing, Float64}\">Float64?</th><th title=\"String\">String</th></tr></thead><tbody><tr><th>1</th><td>1.0</td><td>a</td></tr><tr><th>2</th><td><em>missing</em></td><td>b</td></tr></tbody></table></div>"
      ],
      "text/latex": [
       "\\begin{tabular}{r|cc}\n",
       "\t& B & C\\\\\n",
       "\t\\hline\n",
       "\t& Float64? & String\\\\\n",
       "\t\\hline\n",
       "\t1 & 1.0 & a \\\\\n",
       "\t2 & \\emph{missing} & b \\\\\n",
       "\\end{tabular}\n"
      ],
      "text/plain": [
       "\u001b[1m2×2 DataFrame\u001b[0m\n",
       "\u001b[1m Row \u001b[0m│\u001b[1m B         \u001b[0m\u001b[1m C      \u001b[0m\n",
       "\u001b[1m     \u001b[0m│\u001b[90m Float64?  \u001b[0m\u001b[90m String \u001b[0m\n",
       "─────┼───────────────────\n",
       "   1 │       1.0  a\n",
       "   2 │\u001b[90m missing   \u001b[0m b"
      ]
     },
     "execution_count": 30,
     "metadata": {},
     "output_type": "execute_result"
    }
   ],
   "source": [
    "x[!, Not(1)] # ! indicates that underlying columns are not copied"
   ]
  },
  {
   "cell_type": "code",
   "execution_count": 31,
   "metadata": {},
   "outputs": [
    {
     "data": {
      "text/html": [
       "<div class=\"data-frame\"><p>2 rows × 2 columns</p><table class=\"data-frame\"><thead><tr><th></th><th>B</th><th>C</th></tr><tr><th></th><th title=\"Union{Missing, Float64}\">Float64?</th><th title=\"String\">String</th></tr></thead><tbody><tr><th>1</th><td>1.0</td><td>a</td></tr><tr><th>2</th><td><em>missing</em></td><td>b</td></tr></tbody></table></div>"
      ],
      "text/latex": [
       "\\begin{tabular}{r|cc}\n",
       "\t& B & C\\\\\n",
       "\t\\hline\n",
       "\t& Float64? & String\\\\\n",
       "\t\\hline\n",
       "\t1 & 1.0 & a \\\\\n",
       "\t2 & \\emph{missing} & b \\\\\n",
       "\\end{tabular}\n"
      ],
      "text/plain": [
       "\u001b[1m2×2 DataFrame\u001b[0m\n",
       "\u001b[1m Row \u001b[0m│\u001b[1m B         \u001b[0m\u001b[1m C      \u001b[0m\n",
       "\u001b[1m     \u001b[0m│\u001b[90m Float64?  \u001b[0m\u001b[90m String \u001b[0m\n",
       "─────┼───────────────────\n",
       "   1 │       1.0  a\n",
       "   2 │\u001b[90m missing   \u001b[0m b"
      ]
     },
     "execution_count": 31,
     "metadata": {},
     "output_type": "execute_result"
    }
   ],
   "source": [
    "x[:, Not(1)] # : means that the columns will get copied"
   ]
  },
  {
   "cell_type": "markdown",
   "metadata": {},
   "source": [
    "Assignment of a scalar to a data frame can be done in ranges using broadcasting:"
   ]
  },
  {
   "cell_type": "code",
   "execution_count": 32,
   "metadata": {},
   "outputs": [
    {
     "data": {
      "text/html": [
       "<div class=\"data-frame\"><p>2 rows × 3 columns</p><table class=\"data-frame\"><thead><tr><th></th><th>A</th><th>B</th><th>C</th></tr><tr><th></th><th title=\"Int64\">Int64</th><th title=\"Union{Missing, Float64}\">Float64?</th><th title=\"String\">String</th></tr></thead><tbody><tr><th>1</th><td>1</td><td>1.0</td><td>a</td></tr><tr><th>2</th><td>1</td><td>1.0</td><td>b</td></tr></tbody></table></div>"
      ],
      "text/latex": [
       "\\begin{tabular}{r|ccc}\n",
       "\t& A & B & C\\\\\n",
       "\t\\hline\n",
       "\t& Int64 & Float64? & String\\\\\n",
       "\t\\hline\n",
       "\t1 & 1 & 1.0 & a \\\\\n",
       "\t2 & 1 & 1.0 & b \\\\\n",
       "\\end{tabular}\n"
      ],
      "text/plain": [
       "\u001b[1m2×3 DataFrame\u001b[0m\n",
       "\u001b[1m Row \u001b[0m│\u001b[1m A     \u001b[0m\u001b[1m B        \u001b[0m\u001b[1m C      \u001b[0m\n",
       "\u001b[1m     \u001b[0m│\u001b[90m Int64 \u001b[0m\u001b[90m Float64? \u001b[0m\u001b[90m String \u001b[0m\n",
       "─────┼─────────────────────────\n",
       "   1 │     1       1.0  a\n",
       "   2 │     1       1.0  b"
      ]
     },
     "execution_count": 32,
     "metadata": {},
     "output_type": "execute_result"
    }
   ],
   "source": [
    "x[1:2, 1:2] .= 1\n",
    "x"
   ]
  },
  {
   "cell_type": "markdown",
   "metadata": {},
   "source": [
    "Assignment of a vector of length equal to the number of assigned rows using broadcasting"
   ]
  },
  {
   "cell_type": "code",
   "execution_count": 33,
   "metadata": {},
   "outputs": [
    {
     "data": {
      "text/html": [
       "<div class=\"data-frame\"><p>2 rows × 3 columns</p><table class=\"data-frame\"><thead><tr><th></th><th>A</th><th>B</th><th>C</th></tr><tr><th></th><th title=\"Int64\">Int64</th><th title=\"Union{Missing, Float64}\">Float64?</th><th title=\"String\">String</th></tr></thead><tbody><tr><th>1</th><td>1</td><td>1.0</td><td>a</td></tr><tr><th>2</th><td>2</td><td>2.0</td><td>b</td></tr></tbody></table></div>"
      ],
      "text/latex": [
       "\\begin{tabular}{r|ccc}\n",
       "\t& A & B & C\\\\\n",
       "\t\\hline\n",
       "\t& Int64 & Float64? & String\\\\\n",
       "\t\\hline\n",
       "\t1 & 1 & 1.0 & a \\\\\n",
       "\t2 & 2 & 2.0 & b \\\\\n",
       "\\end{tabular}\n"
      ],
      "text/plain": [
       "\u001b[1m2×3 DataFrame\u001b[0m\n",
       "\u001b[1m Row \u001b[0m│\u001b[1m A     \u001b[0m\u001b[1m B        \u001b[0m\u001b[1m C      \u001b[0m\n",
       "\u001b[1m     \u001b[0m│\u001b[90m Int64 \u001b[0m\u001b[90m Float64? \u001b[0m\u001b[90m String \u001b[0m\n",
       "─────┼─────────────────────────\n",
       "   1 │     1       1.0  a\n",
       "   2 │     2       2.0  b"
      ]
     },
     "execution_count": 33,
     "metadata": {},
     "output_type": "execute_result"
    }
   ],
   "source": [
    "x[1:2, 1:2] .= [1,2]\n",
    "x"
   ]
  },
  {
   "cell_type": "markdown",
   "metadata": {},
   "source": [
    "Assignment or of another data frame of matching size and column names, again using broadcasting:"
   ]
  },
  {
   "cell_type": "code",
   "execution_count": 34,
   "metadata": {},
   "outputs": [
    {
     "data": {
      "text/html": [
       "<div class=\"data-frame\"><p>2 rows × 3 columns</p><table class=\"data-frame\"><thead><tr><th></th><th>A</th><th>B</th><th>C</th></tr><tr><th></th><th title=\"Int64\">Int64</th><th title=\"Union{Missing, Float64}\">Float64?</th><th title=\"String\">String</th></tr></thead><tbody><tr><th>1</th><td>5</td><td>6.0</td><td>a</td></tr><tr><th>2</th><td>7</td><td>8.0</td><td>b</td></tr></tbody></table></div>"
      ],
      "text/latex": [
       "\\begin{tabular}{r|ccc}\n",
       "\t& A & B & C\\\\\n",
       "\t\\hline\n",
       "\t& Int64 & Float64? & String\\\\\n",
       "\t\\hline\n",
       "\t1 & 5 & 6.0 & a \\\\\n",
       "\t2 & 7 & 8.0 & b \\\\\n",
       "\\end{tabular}\n"
      ],
      "text/plain": [
       "\u001b[1m2×3 DataFrame\u001b[0m\n",
       "\u001b[1m Row \u001b[0m│\u001b[1m A     \u001b[0m\u001b[1m B        \u001b[0m\u001b[1m C      \u001b[0m\n",
       "\u001b[1m     \u001b[0m│\u001b[90m Int64 \u001b[0m\u001b[90m Float64? \u001b[0m\u001b[90m String \u001b[0m\n",
       "─────┼─────────────────────────\n",
       "   1 │     5       6.0  a\n",
       "   2 │     7       8.0  b"
      ]
     },
     "execution_count": 34,
     "metadata": {},
     "output_type": "execute_result"
    }
   ],
   "source": [
    "x[1:2, 1:2] .= DataFrame([5 6; 7 8], [:A, :B])\n",
    "x"
   ]
  },
  {
   "cell_type": "markdown",
   "metadata": {},
   "source": [
    "**Caution**\n",
    "\n",
    "With `df[!, :col]` and `df.col` syntax you get a direct (non copying) access to a column of a data frame.\n",
    "This is potentially unsafe as you can easily corrupt data in the `df` data frame if you resize, sort, etc. the column obtained in this way.\n",
    "Therefore such access should be used with caution.\n",
    "\n",
    "Similarly `df[!, cols]` when `cols` is a collection of columns produces a new data frame that holds the same (not copied) columns as the source `df` data frame. Similarly, modifying the data frame obtained via `df[!, cols]` might cause problems with the consistency of `df`.\n",
    "\n",
    "The `df[:, :col]` and `df[:, cols]` syntaxes always copy columns so they are safe to use (and should generally be preferred except for performance or memory critical use cases)."
   ]
  },
  {
   "cell_type": "markdown",
   "metadata": {},
   "source": [
    "Here are examples of how `Cols` and `Between` can be used to select columns of a data frame."
   ]
  },
  {
   "cell_type": "code",
   "execution_count": 35,
   "metadata": {},
   "outputs": [
    {
     "data": {
      "text/html": [
       "<div class=\"data-frame\"><p>4 rows × 5 columns</p><table class=\"data-frame\"><thead><tr><th></th><th>x1</th><th>x2</th><th>x3</th><th>x4</th><th>x5</th></tr><tr><th></th><th title=\"Float64\">Float64</th><th title=\"Float64\">Float64</th><th title=\"Float64\">Float64</th><th title=\"Float64\">Float64</th><th title=\"Float64\">Float64</th></tr></thead><tbody><tr><th>1</th><td>0.69221</td><td>0.903738</td><td>0.335539</td><td>0.11739</td><td>0.320136</td></tr><tr><th>2</th><td>0.573932</td><td>0.106309</td><td>0.240108</td><td>0.807816</td><td>0.834898</td></tr><tr><th>3</th><td>0.886848</td><td>0.120244</td><td>0.583345</td><td>0.268339</td><td>0.497417</td></tr><tr><th>4</th><td>0.902572</td><td>0.987881</td><td>0.924044</td><td>0.539209</td><td>0.990526</td></tr></tbody></table></div>"
      ],
      "text/latex": [
       "\\begin{tabular}{r|ccccc}\n",
       "\t& x1 & x2 & x3 & x4 & x5\\\\\n",
       "\t\\hline\n",
       "\t& Float64 & Float64 & Float64 & Float64 & Float64\\\\\n",
       "\t\\hline\n",
       "\t1 & 0.69221 & 0.903738 & 0.335539 & 0.11739 & 0.320136 \\\\\n",
       "\t2 & 0.573932 & 0.106309 & 0.240108 & 0.807816 & 0.834898 \\\\\n",
       "\t3 & 0.886848 & 0.120244 & 0.583345 & 0.268339 & 0.497417 \\\\\n",
       "\t4 & 0.902572 & 0.987881 & 0.924044 & 0.539209 & 0.990526 \\\\\n",
       "\\end{tabular}\n"
      ],
      "text/plain": [
       "\u001b[1m4×5 DataFrame\u001b[0m\n",
       "\u001b[1m Row \u001b[0m│\u001b[1m x1       \u001b[0m\u001b[1m x2       \u001b[0m\u001b[1m x3       \u001b[0m\u001b[1m x4       \u001b[0m\u001b[1m x5       \u001b[0m\n",
       "\u001b[1m     \u001b[0m│\u001b[90m Float64  \u001b[0m\u001b[90m Float64  \u001b[0m\u001b[90m Float64  \u001b[0m\u001b[90m Float64  \u001b[0m\u001b[90m Float64  \u001b[0m\n",
       "─────┼──────────────────────────────────────────────────\n",
       "   1 │ 0.69221   0.903738  0.335539  0.11739   0.320136\n",
       "  ⋮  │    ⋮         ⋮         ⋮         ⋮         ⋮\n",
       "\u001b[36m                                          3 rows omitted\u001b[0m"
      ]
     },
     "execution_count": 35,
     "metadata": {},
     "output_type": "execute_result"
    }
   ],
   "source": [
    "x = DataFrame(rand(4, 5), :auto)"
   ]
  },
  {
   "cell_type": "code",
   "execution_count": 36,
   "metadata": {},
   "outputs": [
    {
     "data": {
      "text/html": [
       "<div class=\"data-frame\"><p>4 rows × 3 columns</p><table class=\"data-frame\"><thead><tr><th></th><th>x2</th><th>x3</th><th>x4</th></tr><tr><th></th><th title=\"Float64\">Float64</th><th title=\"Float64\">Float64</th><th title=\"Float64\">Float64</th></tr></thead><tbody><tr><th>1</th><td>0.903738</td><td>0.335539</td><td>0.11739</td></tr><tr><th>2</th><td>0.106309</td><td>0.240108</td><td>0.807816</td></tr><tr><th>3</th><td>0.120244</td><td>0.583345</td><td>0.268339</td></tr><tr><th>4</th><td>0.987881</td><td>0.924044</td><td>0.539209</td></tr></tbody></table></div>"
      ],
      "text/latex": [
       "\\begin{tabular}{r|ccc}\n",
       "\t& x2 & x3 & x4\\\\\n",
       "\t\\hline\n",
       "\t& Float64 & Float64 & Float64\\\\\n",
       "\t\\hline\n",
       "\t1 & 0.903738 & 0.335539 & 0.11739 \\\\\n",
       "\t2 & 0.106309 & 0.240108 & 0.807816 \\\\\n",
       "\t3 & 0.120244 & 0.583345 & 0.268339 \\\\\n",
       "\t4 & 0.987881 & 0.924044 & 0.539209 \\\\\n",
       "\\end{tabular}\n"
      ],
      "text/plain": [
       "\u001b[1m4×3 DataFrame\u001b[0m\n",
       "\u001b[1m Row \u001b[0m│\u001b[1m x2       \u001b[0m\u001b[1m x3       \u001b[0m\u001b[1m x4       \u001b[0m\n",
       "\u001b[1m     \u001b[0m│\u001b[90m Float64  \u001b[0m\u001b[90m Float64  \u001b[0m\u001b[90m Float64  \u001b[0m\n",
       "─────┼──────────────────────────────\n",
       "   1 │ 0.903738  0.335539  0.11739\n",
       "  ⋮  │    ⋮         ⋮         ⋮\n",
       "\u001b[36m                      3 rows omitted\u001b[0m"
      ]
     },
     "execution_count": 36,
     "metadata": {},
     "output_type": "execute_result"
    }
   ],
   "source": [
    "x[:, Between(:x2, :x4)]"
   ]
  },
  {
   "cell_type": "code",
   "execution_count": 37,
   "metadata": {},
   "outputs": [
    {
     "data": {
      "text/html": [
       "<div class=\"data-frame\"><p>4 rows × 4 columns</p><table class=\"data-frame\"><thead><tr><th></th><th>x1</th><th>x2</th><th>x3</th><th>x4</th></tr><tr><th></th><th title=\"Float64\">Float64</th><th title=\"Float64\">Float64</th><th title=\"Float64\">Float64</th><th title=\"Float64\">Float64</th></tr></thead><tbody><tr><th>1</th><td>0.69221</td><td>0.903738</td><td>0.335539</td><td>0.11739</td></tr><tr><th>2</th><td>0.573932</td><td>0.106309</td><td>0.240108</td><td>0.807816</td></tr><tr><th>3</th><td>0.886848</td><td>0.120244</td><td>0.583345</td><td>0.268339</td></tr><tr><th>4</th><td>0.902572</td><td>0.987881</td><td>0.924044</td><td>0.539209</td></tr></tbody></table></div>"
      ],
      "text/latex": [
       "\\begin{tabular}{r|cccc}\n",
       "\t& x1 & x2 & x3 & x4\\\\\n",
       "\t\\hline\n",
       "\t& Float64 & Float64 & Float64 & Float64\\\\\n",
       "\t\\hline\n",
       "\t1 & 0.69221 & 0.903738 & 0.335539 & 0.11739 \\\\\n",
       "\t2 & 0.573932 & 0.106309 & 0.240108 & 0.807816 \\\\\n",
       "\t3 & 0.886848 & 0.120244 & 0.583345 & 0.268339 \\\\\n",
       "\t4 & 0.902572 & 0.987881 & 0.924044 & 0.539209 \\\\\n",
       "\\end{tabular}\n"
      ],
      "text/plain": [
       "\u001b[1m4×4 DataFrame\u001b[0m\n",
       "\u001b[1m Row \u001b[0m│\u001b[1m x1       \u001b[0m\u001b[1m x2       \u001b[0m\u001b[1m x3       \u001b[0m\u001b[1m x4       \u001b[0m\n",
       "\u001b[1m     \u001b[0m│\u001b[90m Float64  \u001b[0m\u001b[90m Float64  \u001b[0m\u001b[90m Float64  \u001b[0m\u001b[90m Float64  \u001b[0m\n",
       "─────┼────────────────────────────────────────\n",
       "   1 │ 0.69221   0.903738  0.335539  0.11739\n",
       "  ⋮  │    ⋮         ⋮         ⋮         ⋮\n",
       "\u001b[36m                                3 rows omitted\u001b[0m"
      ]
     },
     "execution_count": 37,
     "metadata": {},
     "output_type": "execute_result"
    }
   ],
   "source": [
    "x[:, Cols(\"x1\", Between(\"x2\", \"x4\"))]"
   ]
  },
  {
   "cell_type": "markdown",
   "metadata": {},
   "source": [
    "### Views"
   ]
  },
  {
   "cell_type": "markdown",
   "metadata": {},
   "source": [
    "You can simply create a view of a `DataFrame` (it is more efficient than creating a materialized selection). Here are the possible return value options."
   ]
  },
  {
   "cell_type": "code",
   "execution_count": 38,
   "metadata": {},
   "outputs": [
    {
     "data": {
      "text/plain": [
       "2-element view(::Vector{Float64}, 1:2) with eltype Float64:\n",
       " 0.6922102533868262\n",
       " 0.5739317182365873"
      ]
     },
     "execution_count": 38,
     "metadata": {},
     "output_type": "execute_result"
    }
   ],
   "source": [
    "@view x[1:2, 1]"
   ]
  },
  {
   "cell_type": "code",
   "execution_count": 39,
   "metadata": {},
   "outputs": [
    {
     "data": {
      "text/plain": [
       "0-dimensional view(::Vector{Float64}, 1) with eltype Float64:\n",
       "0.6922102533868262"
      ]
     },
     "execution_count": 39,
     "metadata": {},
     "output_type": "execute_result"
    }
   ],
   "source": [
    "@view x[1,1]"
   ]
  },
  {
   "cell_type": "code",
   "execution_count": 40,
   "metadata": {},
   "outputs": [
    {
     "data": {
      "text/html": [
       "<p>DataFrameRow (2 columns)</p><div class=\"data-frame\"><table class=\"data-frame\"><thead><tr><th></th><th>x1</th><th>x2</th></tr><tr><th></th><th title=\"Float64\">Float64</th><th title=\"Float64\">Float64</th></tr></thead><tbody><tr><th>1</th><td>0.69221</td><td>0.903738</td></tr></tbody></table></div>"
      ],
      "text/latex": [
       "\\begin{tabular}{r|cc}\n",
       "\t& x1 & x2\\\\\n",
       "\t\\hline\n",
       "\t& Float64 & Float64\\\\\n",
       "\t\\hline\n",
       "\t1 & 0.69221 & 0.903738 \\\\\n",
       "\\end{tabular}\n"
      ],
      "text/plain": [
       "\u001b[1mDataFrameRow\u001b[0m\n",
       "\u001b[1m Row \u001b[0m│\u001b[1m x1      \u001b[0m\u001b[1m x2       \u001b[0m\n",
       "\u001b[1m     \u001b[0m│\u001b[90m Float64 \u001b[0m\u001b[90m Float64  \u001b[0m\n",
       "─────┼───────────────────\n",
       "   1 │ 0.69221  0.903738"
      ]
     },
     "execution_count": 40,
     "metadata": {},
     "output_type": "execute_result"
    }
   ],
   "source": [
    "@view x[1, 1:2] # a DataFrameRow, the same as for x[1, 1:2] without a view"
   ]
  },
  {
   "cell_type": "code",
   "execution_count": 41,
   "metadata": {},
   "outputs": [
    {
     "data": {
      "text/html": [
       "<div class=\"data-frame\"><p>2 rows × 2 columns</p><table class=\"data-frame\"><thead><tr><th></th><th>x1</th><th>x2</th></tr><tr><th></th><th title=\"Float64\">Float64</th><th title=\"Float64\">Float64</th></tr></thead><tbody><tr><th>1</th><td>0.69221</td><td>0.903738</td></tr><tr><th>2</th><td>0.573932</td><td>0.106309</td></tr></tbody></table></div>"
      ],
      "text/latex": [
       "\\begin{tabular}{r|cc}\n",
       "\t& x1 & x2\\\\\n",
       "\t\\hline\n",
       "\t& Float64 & Float64\\\\\n",
       "\t\\hline\n",
       "\t1 & 0.69221 & 0.903738 \\\\\n",
       "\t2 & 0.573932 & 0.106309 \\\\\n",
       "\\end{tabular}\n"
      ],
      "text/plain": [
       "\u001b[1m2×2 SubDataFrame\u001b[0m\n",
       "\u001b[1m Row \u001b[0m│\u001b[1m x1       \u001b[0m\u001b[1m x2       \u001b[0m\n",
       "\u001b[1m     \u001b[0m│\u001b[90m Float64  \u001b[0m\u001b[90m Float64  \u001b[0m\n",
       "─────┼────────────────────\n",
       "   1 │ 0.69221   0.903738\n",
       "   2 │ 0.573932  0.106309"
      ]
     },
     "execution_count": 41,
     "metadata": {},
     "output_type": "execute_result"
    }
   ],
   "source": [
    "@view x[1:2, 1:2] # a SubDataFrame"
   ]
  },
  {
   "cell_type": "markdown",
   "metadata": {},
   "source": [
    "### Adding new columns to a data frame"
   ]
  },
  {
   "cell_type": "code",
   "execution_count": 42,
   "metadata": {},
   "outputs": [
    {
     "data": {
      "text/html": [
       "<div class=\"data-frame\"><p>0 rows × 0 columns</p><table class=\"data-frame\"><thead><tr><th></th></tr><tr><th></th></tr></thead><tbody></tbody></table></div>"
      ],
      "text/latex": [
       "\\begin{tabular}{r|}\n",
       "\t& \\\\\n",
       "\t\\hline\n",
       "\t& \\\\\n",
       "\t\\hline\n",
       "\\end{tabular}\n"
      ],
      "text/plain": [
       "\u001b[1m0×0 DataFrame\u001b[0m"
      ]
     },
     "execution_count": 42,
     "metadata": {},
     "output_type": "execute_result"
    }
   ],
   "source": [
    "df = DataFrame()"
   ]
  },
  {
   "cell_type": "markdown",
   "metadata": {},
   "source": [
    "using `setproperty!`"
   ]
  },
  {
   "cell_type": "code",
   "execution_count": 43,
   "metadata": {},
   "outputs": [
    {
     "data": {
      "text/html": [
       "<div class=\"data-frame\"><p>3 rows × 1 columns</p><table class=\"data-frame\"><thead><tr><th></th><th>a</th></tr><tr><th></th><th title=\"Int64\">Int64</th></tr></thead><tbody><tr><th>1</th><td>1</td></tr><tr><th>2</th><td>2</td></tr><tr><th>3</th><td>3</td></tr></tbody></table></div>"
      ],
      "text/latex": [
       "\\begin{tabular}{r|c}\n",
       "\t& a\\\\\n",
       "\t\\hline\n",
       "\t& Int64\\\\\n",
       "\t\\hline\n",
       "\t1 & 1 \\\\\n",
       "\t2 & 2 \\\\\n",
       "\t3 & 3 \\\\\n",
       "\\end{tabular}\n"
      ],
      "text/plain": [
       "\u001b[1m3×1 DataFrame\u001b[0m\n",
       "\u001b[1m Row \u001b[0m│\u001b[1m a     \u001b[0m\n",
       "\u001b[1m     \u001b[0m│\u001b[90m Int64 \u001b[0m\n",
       "─────┼───────\n",
       "   1 │     1\n",
       "   2 │     2\n",
       "   3 │     3"
      ]
     },
     "execution_count": 43,
     "metadata": {},
     "output_type": "execute_result"
    }
   ],
   "source": [
    "x = [1, 2, 3]\n",
    "df.a = x\n",
    "df"
   ]
  },
  {
   "cell_type": "code",
   "execution_count": 44,
   "metadata": {},
   "outputs": [
    {
     "data": {
      "text/plain": [
       "true"
      ]
     },
     "execution_count": 44,
     "metadata": {},
     "output_type": "execute_result"
    }
   ],
   "source": [
    "df.a === x # no copy is performed"
   ]
  },
  {
   "cell_type": "markdown",
   "metadata": {},
   "source": [
    "using `setindex!`"
   ]
  },
  {
   "cell_type": "code",
   "execution_count": 45,
   "metadata": {},
   "outputs": [
    {
     "data": {
      "text/html": [
       "<div class=\"data-frame\"><p>3 rows × 3 columns</p><table class=\"data-frame\"><thead><tr><th></th><th>a</th><th>b</th><th>c</th></tr><tr><th></th><th title=\"Int64\">Int64</th><th title=\"Int64\">Int64</th><th title=\"Int64\">Int64</th></tr></thead><tbody><tr><th>1</th><td>1</td><td>1</td><td>1</td></tr><tr><th>2</th><td>2</td><td>2</td><td>2</td></tr><tr><th>3</th><td>3</td><td>3</td><td>3</td></tr></tbody></table></div>"
      ],
      "text/latex": [
       "\\begin{tabular}{r|ccc}\n",
       "\t& a & b & c\\\\\n",
       "\t\\hline\n",
       "\t& Int64 & Int64 & Int64\\\\\n",
       "\t\\hline\n",
       "\t1 & 1 & 1 & 1 \\\\\n",
       "\t2 & 2 & 2 & 2 \\\\\n",
       "\t3 & 3 & 3 & 3 \\\\\n",
       "\\end{tabular}\n"
      ],
      "text/plain": [
       "\u001b[1m3×3 DataFrame\u001b[0m\n",
       "\u001b[1m Row \u001b[0m│\u001b[1m a     \u001b[0m\u001b[1m b     \u001b[0m\u001b[1m c     \u001b[0m\n",
       "\u001b[1m     \u001b[0m│\u001b[90m Int64 \u001b[0m\u001b[90m Int64 \u001b[0m\u001b[90m Int64 \u001b[0m\n",
       "─────┼─────────────────────\n",
       "   1 │     1      1      1\n",
       "   2 │     2      2      2\n",
       "   3 │     3      3      3"
      ]
     },
     "execution_count": 45,
     "metadata": {},
     "output_type": "execute_result"
    }
   ],
   "source": [
    "df[!, :b] = x\n",
    "df[:, :c] = x\n",
    "df"
   ]
  },
  {
   "cell_type": "code",
   "execution_count": 46,
   "metadata": {},
   "outputs": [
    {
     "data": {
      "text/plain": [
       "true"
      ]
     },
     "execution_count": 46,
     "metadata": {},
     "output_type": "execute_result"
    }
   ],
   "source": [
    "df.b === x # no copy"
   ]
  },
  {
   "cell_type": "code",
   "execution_count": 47,
   "metadata": {},
   "outputs": [
    {
     "data": {
      "text/plain": [
       "false"
      ]
     },
     "execution_count": 47,
     "metadata": {},
     "output_type": "execute_result"
    }
   ],
   "source": [
    "df.c === x # copy"
   ]
  },
  {
   "cell_type": "code",
   "execution_count": 48,
   "metadata": {},
   "outputs": [
    {
     "data": {
      "text/html": [
       "<div class=\"data-frame\"><p>3 rows × 5 columns</p><table class=\"data-frame\"><thead><tr><th></th><th>a</th><th>b</th><th>c</th><th>d</th><th>e</th></tr><tr><th></th><th title=\"Int64\">Int64</th><th title=\"Int64\">Int64</th><th title=\"Int64\">Int64</th><th title=\"Int64\">Int64</th><th title=\"Int64\">Int64</th></tr></thead><tbody><tr><th>1</th><td>1</td><td>1</td><td>1</td><td>1</td><td>1</td></tr><tr><th>2</th><td>2</td><td>2</td><td>2</td><td>2</td><td>2</td></tr><tr><th>3</th><td>3</td><td>3</td><td>3</td><td>3</td><td>3</td></tr></tbody></table></div>"
      ],
      "text/latex": [
       "\\begin{tabular}{r|ccccc}\n",
       "\t& a & b & c & d & e\\\\\n",
       "\t\\hline\n",
       "\t& Int64 & Int64 & Int64 & Int64 & Int64\\\\\n",
       "\t\\hline\n",
       "\t1 & 1 & 1 & 1 & 1 & 1 \\\\\n",
       "\t2 & 2 & 2 & 2 & 2 & 2 \\\\\n",
       "\t3 & 3 & 3 & 3 & 3 & 3 \\\\\n",
       "\\end{tabular}\n"
      ],
      "text/plain": [
       "\u001b[1m3×5 DataFrame\u001b[0m\n",
       "\u001b[1m Row \u001b[0m│\u001b[1m a     \u001b[0m\u001b[1m b     \u001b[0m\u001b[1m c     \u001b[0m\u001b[1m d     \u001b[0m\u001b[1m e     \u001b[0m\n",
       "\u001b[1m     \u001b[0m│\u001b[90m Int64 \u001b[0m\u001b[90m Int64 \u001b[0m\u001b[90m Int64 \u001b[0m\u001b[90m Int64 \u001b[0m\u001b[90m Int64 \u001b[0m\n",
       "─────┼───────────────────────────────────\n",
       "   1 │     1      1      1      1      1\n",
       "   2 │     2      2      2      2      2\n",
       "   3 │     3      3      3      3      3"
      ]
     },
     "execution_count": 48,
     "metadata": {},
     "output_type": "execute_result"
    }
   ],
   "source": [
    "df[!, :d] .= x\n",
    "df[:, :e] .= x\n",
    "df"
   ]
  },
  {
   "cell_type": "code",
   "execution_count": 49,
   "metadata": {},
   "outputs": [
    {
     "data": {
      "text/plain": [
       "(false, false)"
      ]
     },
     "execution_count": 49,
     "metadata": {},
     "output_type": "execute_result"
    }
   ],
   "source": [
    "df.d === x, df.e === x # both copy, so in this case `!` and `:` has the same effect"
   ]
  },
  {
   "cell_type": "markdown",
   "metadata": {},
   "source": [
    "note that in our data frame columns `:a` and `:b` store the vector `x` (not a copy)"
   ]
  },
  {
   "cell_type": "code",
   "execution_count": 50,
   "metadata": {},
   "outputs": [
    {
     "data": {
      "text/plain": [
       "true"
      ]
     },
     "execution_count": 50,
     "metadata": {},
     "output_type": "execute_result"
    }
   ],
   "source": [
    "df.a === df.b === x"
   ]
  },
  {
   "cell_type": "markdown",
   "metadata": {},
   "source": [
    "This can lead to silent errors. For example this code leads to a bug (note that calling `pairs` on `eachcol(df)` creates an iterator of (column name, column) pairs):"
   ]
  },
  {
   "cell_type": "code",
   "execution_count": 51,
   "metadata": {},
   "outputs": [
    {
     "name": "stdout",
     "output_type": "stream",
     "text": [
      "a: 3\n",
      "b: 2\n",
      "c: 3\n",
      "d: 3\n",
      "e: 3\n"
     ]
    }
   ],
   "source": [
    "for (n, c) in pairs(eachcol(df))\n",
    "    println(\"$n: \", pop!(c))\n",
    "end"
   ]
  },
  {
   "cell_type": "markdown",
   "metadata": {},
   "source": [
    "note that for column `:b` we printed `2` as `3` was removed from it when we used `pop!` on column `:a`."
   ]
  },
  {
   "cell_type": "markdown",
   "metadata": {},
   "source": [
    "Such mistakes sometimes happen. Because of this DataFrames.jl performs consistency checks before doing an expensive operation (most notably before showing a data frame)."
   ]
  },
  {
   "cell_type": "code",
   "execution_count": 52,
   "metadata": {},
   "outputs": [
    {
     "ename": "AssertionError",
     "evalue": "AssertionError: Data frame is corrupt: length of column :c (2) does not match length of column 1 (1). The column vector has likely been resized unintentionally (either directly or because it is shared with another data frame).",
     "output_type": "error",
     "traceback": [
      "AssertionError: Data frame is corrupt: length of column :c (2) does not match length of column 1 (1). The column vector has likely been resized unintentionally (either directly or because it is shared with another data frame).",
      "",
      "Stacktrace:",
      " [1] _check_consistency(df::DataFrame)",
      "   @ DataFrames C:\\Users\\bogum\\.julia\\packages\\DataFrames\\vQokV\\src\\dataframe\\dataframe.jl:447"
     ]
    }
   ],
   "source": [
    "df"
   ]
  },
  {
   "cell_type": "markdown",
   "metadata": {},
   "source": [
    "We can investigate the columns to find out what happend:"
   ]
  },
  {
   "cell_type": "code",
   "execution_count": 53,
   "metadata": {},
   "outputs": [
    {
     "data": {
      "text/plain": [
       "5-element Vector{Pair{Symbol, AbstractVector{T} where T}}:\n",
       " :a => [1]\n",
       " :b => [1]\n",
       " :c => [1, 2]\n",
       " :d => [1, 2]\n",
       " :e => [1, 2]"
      ]
     },
     "execution_count": 53,
     "metadata": {},
     "output_type": "execute_result"
    }
   ],
   "source": [
    "collect(pairs(eachcol(df)))"
   ]
  },
  {
   "cell_type": "markdown",
   "metadata": {},
   "source": [
    "The output confirms that the data frame `df` got corrupted."
   ]
  },
  {
   "cell_type": "markdown",
   "metadata": {},
   "source": [
    "DataFrames.jl supports a complete set of `getindex`, `getproperty`, `setindex!`, `setproperty!`, `view`, broadcasting, and broadcasting assignment operations. The details are explained here: http://juliadata.github.io/DataFrames.jl/latest/lib/indexing/."
   ]
  },
  {
   "cell_type": "markdown",
   "metadata": {},
   "source": [
    "### Comparisons"
   ]
  },
  {
   "cell_type": "code",
   "execution_count": 54,
   "metadata": {},
   "outputs": [],
   "source": [
    "using DataFrames"
   ]
  },
  {
   "cell_type": "code",
   "execution_count": 55,
   "metadata": {},
   "outputs": [
    {
     "data": {
      "text/html": [
       "<div class=\"data-frame\"><p>2 rows × 3 columns</p><table class=\"data-frame\"><thead><tr><th></th><th>x1</th><th>x2</th><th>x3</th></tr><tr><th></th><th title=\"Float64\">Float64</th><th title=\"Float64\">Float64</th><th title=\"Float64\">Float64</th></tr></thead><tbody><tr><th>1</th><td>0.164412</td><td>0.466921</td><td>0.700084</td></tr><tr><th>2</th><td>0.399886</td><td>0.000657272</td><td>0.531395</td></tr></tbody></table></div>"
      ],
      "text/latex": [
       "\\begin{tabular}{r|ccc}\n",
       "\t& x1 & x2 & x3\\\\\n",
       "\t\\hline\n",
       "\t& Float64 & Float64 & Float64\\\\\n",
       "\t\\hline\n",
       "\t1 & 0.164412 & 0.466921 & 0.700084 \\\\\n",
       "\t2 & 0.399886 & 0.000657272 & 0.531395 \\\\\n",
       "\\end{tabular}\n"
      ],
      "text/plain": [
       "\u001b[1m2×3 DataFrame\u001b[0m\n",
       "\u001b[1m Row \u001b[0m│\u001b[1m x1       \u001b[0m\u001b[1m x2          \u001b[0m\u001b[1m x3       \u001b[0m\n",
       "\u001b[1m     \u001b[0m│\u001b[90m Float64  \u001b[0m\u001b[90m Float64     \u001b[0m\u001b[90m Float64  \u001b[0m\n",
       "─────┼─────────────────────────────────\n",
       "   1 │ 0.164412  0.466921     0.700084\n",
       "   2 │ 0.399886  0.000657272  0.531395"
      ]
     },
     "execution_count": 55,
     "metadata": {},
     "output_type": "execute_result"
    }
   ],
   "source": [
    "df = DataFrame(rand(2,3), :auto)"
   ]
  },
  {
   "cell_type": "code",
   "execution_count": 56,
   "metadata": {},
   "outputs": [
    {
     "data": {
      "text/html": [
       "<div class=\"data-frame\"><p>2 rows × 3 columns</p><table class=\"data-frame\"><thead><tr><th></th><th>x1</th><th>x2</th><th>x3</th></tr><tr><th></th><th title=\"Float64\">Float64</th><th title=\"Float64\">Float64</th><th title=\"Float64\">Float64</th></tr></thead><tbody><tr><th>1</th><td>0.164412</td><td>0.466921</td><td>0.700084</td></tr><tr><th>2</th><td>0.399886</td><td>0.000657272</td><td>0.531395</td></tr></tbody></table></div>"
      ],
      "text/latex": [
       "\\begin{tabular}{r|ccc}\n",
       "\t& x1 & x2 & x3\\\\\n",
       "\t\\hline\n",
       "\t& Float64 & Float64 & Float64\\\\\n",
       "\t\\hline\n",
       "\t1 & 0.164412 & 0.466921 & 0.700084 \\\\\n",
       "\t2 & 0.399886 & 0.000657272 & 0.531395 \\\\\n",
       "\\end{tabular}\n"
      ],
      "text/plain": [
       "\u001b[1m2×3 DataFrame\u001b[0m\n",
       "\u001b[1m Row \u001b[0m│\u001b[1m x1       \u001b[0m\u001b[1m x2          \u001b[0m\u001b[1m x3       \u001b[0m\n",
       "\u001b[1m     \u001b[0m│\u001b[90m Float64  \u001b[0m\u001b[90m Float64     \u001b[0m\u001b[90m Float64  \u001b[0m\n",
       "─────┼─────────────────────────────────\n",
       "   1 │ 0.164412  0.466921     0.700084\n",
       "   2 │ 0.399886  0.000657272  0.531395"
      ]
     },
     "execution_count": 56,
     "metadata": {},
     "output_type": "execute_result"
    }
   ],
   "source": [
    "df2 = copy(df)"
   ]
  },
  {
   "cell_type": "code",
   "execution_count": 57,
   "metadata": {},
   "outputs": [
    {
     "data": {
      "text/plain": [
       "true"
      ]
     },
     "execution_count": 57,
     "metadata": {},
     "output_type": "execute_result"
    }
   ],
   "source": [
    "df == df2 # compares column names and contents"
   ]
  },
  {
   "cell_type": "markdown",
   "metadata": {},
   "source": [
    "create a minimally different data frame and use `isapprox` for comparison"
   ]
  },
  {
   "cell_type": "code",
   "execution_count": 58,
   "metadata": {},
   "outputs": [
    {
     "data": {
      "text/html": [
       "<div class=\"data-frame\"><p>2 rows × 3 columns</p><table class=\"data-frame\"><thead><tr><th></th><th>x1</th><th>x2</th><th>x3</th></tr><tr><th></th><th title=\"Float64\">Float64</th><th title=\"Float64\">Float64</th><th title=\"Float64\">Float64</th></tr></thead><tbody><tr><th>1</th><td>0.164412</td><td>0.466921</td><td>0.700084</td></tr><tr><th>2</th><td>0.399886</td><td>0.000657272</td><td>0.531395</td></tr></tbody></table></div>"
      ],
      "text/latex": [
       "\\begin{tabular}{r|ccc}\n",
       "\t& x1 & x2 & x3\\\\\n",
       "\t\\hline\n",
       "\t& Float64 & Float64 & Float64\\\\\n",
       "\t\\hline\n",
       "\t1 & 0.164412 & 0.466921 & 0.700084 \\\\\n",
       "\t2 & 0.399886 & 0.000657272 & 0.531395 \\\\\n",
       "\\end{tabular}\n"
      ],
      "text/plain": [
       "\u001b[1m2×3 DataFrame\u001b[0m\n",
       "\u001b[1m Row \u001b[0m│\u001b[1m x1       \u001b[0m\u001b[1m x2          \u001b[0m\u001b[1m x3       \u001b[0m\n",
       "\u001b[1m     \u001b[0m│\u001b[90m Float64  \u001b[0m\u001b[90m Float64     \u001b[0m\u001b[90m Float64  \u001b[0m\n",
       "─────┼─────────────────────────────────\n",
       "   1 │ 0.164412  0.466921     0.700084\n",
       "   2 │ 0.399886  0.000657272  0.531395"
      ]
     },
     "execution_count": 58,
     "metadata": {},
     "output_type": "execute_result"
    }
   ],
   "source": [
    "df3 = df2 .+ eps()"
   ]
  },
  {
   "cell_type": "code",
   "execution_count": 59,
   "metadata": {},
   "outputs": [
    {
     "data": {
      "text/plain": [
       "false"
      ]
     },
     "execution_count": 59,
     "metadata": {},
     "output_type": "execute_result"
    }
   ],
   "source": [
    "df == df3"
   ]
  },
  {
   "cell_type": "code",
   "execution_count": 60,
   "metadata": {},
   "outputs": [
    {
     "data": {
      "text/plain": [
       "true"
      ]
     },
     "execution_count": 60,
     "metadata": {},
     "output_type": "execute_result"
    }
   ],
   "source": [
    "isapprox(df, df3)"
   ]
  },
  {
   "cell_type": "code",
   "execution_count": 61,
   "metadata": {},
   "outputs": [
    {
     "data": {
      "text/plain": [
       "false"
      ]
     },
     "execution_count": 61,
     "metadata": {},
     "output_type": "execute_result"
    }
   ],
   "source": [
    "isapprox(df, df3, atol = eps()/2)"
   ]
  },
  {
   "cell_type": "markdown",
   "metadata": {},
   "source": [
    "`missings` are handled as in Julia Base"
   ]
  },
  {
   "cell_type": "code",
   "execution_count": 62,
   "metadata": {},
   "outputs": [
    {
     "data": {
      "text/html": [
       "<div class=\"data-frame\"><p>1 rows × 1 columns</p><table class=\"data-frame\"><thead><tr><th></th><th>a</th></tr><tr><th></th><th title=\"Missing\">Missing</th></tr></thead><tbody><tr><th>1</th><td><em>missing</em></td></tr></tbody></table></div>"
      ],
      "text/latex": [
       "\\begin{tabular}{r|c}\n",
       "\t& a\\\\\n",
       "\t\\hline\n",
       "\t& Missing\\\\\n",
       "\t\\hline\n",
       "\t1 & \\emph{missing} \\\\\n",
       "\\end{tabular}\n"
      ],
      "text/plain": [
       "\u001b[1m1×1 DataFrame\u001b[0m\n",
       "\u001b[1m Row \u001b[0m│\u001b[1m a       \u001b[0m\n",
       "\u001b[1m     \u001b[0m│\u001b[90m Missing \u001b[0m\n",
       "─────┼─────────\n",
       "   1 │\u001b[90m missing \u001b[0m"
      ]
     },
     "execution_count": 62,
     "metadata": {},
     "output_type": "execute_result"
    }
   ],
   "source": [
    "df = DataFrame(a=missing)"
   ]
  },
  {
   "cell_type": "code",
   "execution_count": 63,
   "metadata": {},
   "outputs": [
    {
     "data": {
      "text/plain": [
       "missing"
      ]
     },
     "execution_count": 63,
     "metadata": {},
     "output_type": "execute_result"
    }
   ],
   "source": [
    "df == df"
   ]
  },
  {
   "cell_type": "code",
   "execution_count": 64,
   "metadata": {},
   "outputs": [
    {
     "data": {
      "text/plain": [
       "true"
      ]
     },
     "execution_count": 64,
     "metadata": {},
     "output_type": "execute_result"
    }
   ],
   "source": [
    "df === df"
   ]
  },
  {
   "cell_type": "code",
   "execution_count": 65,
   "metadata": {},
   "outputs": [
    {
     "data": {
      "text/plain": [
       "true"
      ]
     },
     "execution_count": 65,
     "metadata": {},
     "output_type": "execute_result"
    }
   ],
   "source": [
    "isequal(df, df)"
   ]
  }
 ],
 "metadata": {
  "@webio": {
   "lastCommId": null,
   "lastKernelId": null
  },
  "kernelspec": {
   "display_name": "Julia 1.6.1",
   "language": "julia",
   "name": "julia-1.6"
  },
  "language_info": {
   "file_extension": ".jl",
   "mimetype": "application/julia",
   "name": "julia",
   "version": "1.6.1"
  }
 },
 "nbformat": 4,
 "nbformat_minor": 1
}
