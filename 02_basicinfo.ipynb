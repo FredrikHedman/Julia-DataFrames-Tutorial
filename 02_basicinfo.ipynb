{
 "cells": [
  {
   "cell_type": "markdown",
   "metadata": {},
   "source": [
    "# Introduction to DataFrames\n",
    "**[Bogumił Kamiński](http://bogumilkaminski.pl/about/), December 12, 2021**"
   ]
  },
  {
   "cell_type": "code",
   "execution_count": 1,
   "metadata": {},
   "outputs": [],
   "source": [
    "using DataFrames"
   ]
  },
  {
   "cell_type": "markdown",
   "metadata": {},
   "source": [
    "## Getting basic information about a data frame\n",
    "\n",
    "Let's start by creating a `DataFrame` object, `x`, so that we can learn how to get information on that data frame."
   ]
  },
  {
   "cell_type": "code",
   "execution_count": 2,
   "metadata": {},
   "outputs": [
    {
     "data": {
      "text/html": [
       "<div class=\"data-frame\"><p>2 rows × 3 columns</p><table class=\"data-frame\"><thead><tr><th></th><th>A</th><th>B</th><th>C</th></tr><tr><th></th><th title=\"Int64\">Int64</th><th title=\"Union{Missing, Float64}\">Float64?</th><th title=\"String\">String</th></tr></thead><tbody><tr><th>1</th><td>1</td><td>1.0</td><td>a</td></tr><tr><th>2</th><td>2</td><td><em>missing</em></td><td>b</td></tr></tbody></table></div>"
      ],
      "text/latex": [
       "\\begin{tabular}{r|ccc}\n",
       "\t& A & B & C\\\\\n",
       "\t\\hline\n",
       "\t& Int64 & Float64? & String\\\\\n",
       "\t\\hline\n",
       "\t1 & 1 & 1.0 & a \\\\\n",
       "\t2 & 2 & \\emph{missing} & b \\\\\n",
       "\\end{tabular}\n"
      ],
      "text/plain": [
       "\u001b[1m2×3 DataFrame\u001b[0m\n",
       "\u001b[1m Row \u001b[0m│\u001b[1m A     \u001b[0m\u001b[1m B         \u001b[0m\u001b[1m C      \u001b[0m\n",
       "\u001b[1m     \u001b[0m│\u001b[90m Int64 \u001b[0m\u001b[90m Float64?  \u001b[0m\u001b[90m String \u001b[0m\n",
       "─────┼──────────────────────────\n",
       "   1 │     1        1.0  a\n",
       "   2 │     2 \u001b[90m missing   \u001b[0m b"
      ]
     },
     "execution_count": 2,
     "metadata": {},
     "output_type": "execute_result"
    }
   ],
   "source": [
    "x = DataFrame(A = [1, 2], B = [1.0, missing], C = [\"a\", \"b\"])"
   ]
  },
  {
   "cell_type": "markdown",
   "metadata": {},
   "source": [
    "The standard `size` function works to get dimensions of the `DataFrame`,"
   ]
  },
  {
   "cell_type": "code",
   "execution_count": 3,
   "metadata": {},
   "outputs": [
    {
     "data": {
      "text/plain": [
       "((2, 3), 2, 3)"
      ]
     },
     "execution_count": 3,
     "metadata": {},
     "output_type": "execute_result"
    }
   ],
   "source": [
    "size(x), size(x, 1), size(x, 2)"
   ]
  },
  {
   "cell_type": "markdown",
   "metadata": {},
   "source": [
    "as well as `nrow` and `ncol` from R."
   ]
  },
  {
   "cell_type": "code",
   "execution_count": 4,
   "metadata": {},
   "outputs": [
    {
     "data": {
      "text/plain": [
       "(2, 3)"
      ]
     },
     "execution_count": 4,
     "metadata": {},
     "output_type": "execute_result"
    }
   ],
   "source": [
    "nrow(x), ncol(x)"
   ]
  },
  {
   "cell_type": "markdown",
   "metadata": {},
   "source": [
    "`describe` gives basic summary statistics of data in your `DataFrame` (check out the help of `describe` for information on how to customize shown statistics)."
   ]
  },
  {
   "cell_type": "code",
   "execution_count": 5,
   "metadata": {},
   "outputs": [
    {
     "data": {
      "text/html": [
       "<div class=\"data-frame\"><p>3 rows × 7 columns</p><table class=\"data-frame\"><thead><tr><th></th><th>variable</th><th>mean</th><th>min</th><th>median</th><th>max</th><th>nmissing</th><th>eltype</th></tr><tr><th></th><th title=\"Symbol\">Symbol</th><th title=\"Union{Nothing, Float64}\">Union…</th><th title=\"Any\">Any</th><th title=\"Union{Nothing, Float64}\">Union…</th><th title=\"Any\">Any</th><th title=\"Int64\">Int64</th><th title=\"Type\">Type</th></tr></thead><tbody><tr><th>1</th><td>A</td><td>1.5</td><td>1</td><td>1.5</td><td>2</td><td>0</td><td>Int64</td></tr><tr><th>2</th><td>B</td><td>1.0</td><td>1.0</td><td>1.0</td><td>1.0</td><td>1</td><td>Union{Missing, Float64}</td></tr><tr><th>3</th><td>C</td><td></td><td>a</td><td></td><td>b</td><td>0</td><td>String</td></tr></tbody></table></div>"
      ],
      "text/latex": [
       "\\begin{tabular}{r|ccccccc}\n",
       "\t& variable & mean & min & median & max & nmissing & eltype\\\\\n",
       "\t\\hline\n",
       "\t& Symbol & Union… & Any & Union… & Any & Int64 & Type\\\\\n",
       "\t\\hline\n",
       "\t1 & A & 1.5 & 1 & 1.5 & 2 & 0 & Int64 \\\\\n",
       "\t2 & B & 1.0 & 1.0 & 1.0 & 1.0 & 1 & Union\\{Missing, Float64\\} \\\\\n",
       "\t3 & C &  & a &  & b & 0 & String \\\\\n",
       "\\end{tabular}\n"
      ],
      "text/plain": [
       "\u001b[1m3×7 DataFrame\u001b[0m\n",
       "\u001b[1m Row \u001b[0m│\u001b[1m variable \u001b[0m\u001b[1m mean   \u001b[0m\u001b[1m min \u001b[0m\u001b[1m median \u001b[0m\u001b[1m max \u001b[0m\u001b[1m nmissing \u001b[0m\u001b[1m eltype                  \u001b[0m\n",
       "\u001b[1m     \u001b[0m│\u001b[90m Symbol   \u001b[0m\u001b[90m Union… \u001b[0m\u001b[90m Any \u001b[0m\u001b[90m Union… \u001b[0m\u001b[90m Any \u001b[0m\u001b[90m Int64    \u001b[0m\u001b[90m Type                    \u001b[0m\n",
       "─────┼───────────────────────────────────────────────────────────────────────\n",
       "   1 │ A         1.5     1    1.5     2           0  Int64\n",
       "   2 │ B         1.0     1.0  1.0     1.0         1  Union{Missing, Float64}\n",
       "   3 │ C        \u001b[90m        \u001b[0m a   \u001b[90m        \u001b[0m b           0  String"
      ]
     },
     "execution_count": 5,
     "metadata": {},
     "output_type": "execute_result"
    }
   ],
   "source": [
    "describe(x)"
   ]
  },
  {
   "cell_type": "markdown",
   "metadata": {},
   "source": [
    "you can limit the columns shown by `describe` using `cols` keyword argument"
   ]
  },
  {
   "cell_type": "code",
   "execution_count": 6,
   "metadata": {},
   "outputs": [
    {
     "data": {
      "text/html": [
       "<div class=\"data-frame\"><p>2 rows × 7 columns</p><table class=\"data-frame\"><thead><tr><th></th><th>variable</th><th>mean</th><th>min</th><th>median</th><th>max</th><th>nmissing</th><th>eltype</th></tr><tr><th></th><th title=\"Symbol\">Symbol</th><th title=\"Float64\">Float64</th><th title=\"Real\">Real</th><th title=\"Float64\">Float64</th><th title=\"Real\">Real</th><th title=\"Int64\">Int64</th><th title=\"Type\">Type</th></tr></thead><tbody><tr><th>1</th><td>A</td><td>1.5</td><td>1</td><td>1.5</td><td>2</td><td>0</td><td>Int64</td></tr><tr><th>2</th><td>B</td><td>1.0</td><td>1.0</td><td>1.0</td><td>1.0</td><td>1</td><td>Union{Missing, Float64}</td></tr></tbody></table></div>"
      ],
      "text/latex": [
       "\\begin{tabular}{r|ccccccc}\n",
       "\t& variable & mean & min & median & max & nmissing & eltype\\\\\n",
       "\t\\hline\n",
       "\t& Symbol & Float64 & Real & Float64 & Real & Int64 & Type\\\\\n",
       "\t\\hline\n",
       "\t1 & A & 1.5 & 1 & 1.5 & 2 & 0 & Int64 \\\\\n",
       "\t2 & B & 1.0 & 1.0 & 1.0 & 1.0 & 1 & Union\\{Missing, Float64\\} \\\\\n",
       "\\end{tabular}\n"
      ],
      "text/plain": [
       "\u001b[1m2×7 DataFrame\u001b[0m\n",
       "\u001b[1m Row \u001b[0m│\u001b[1m variable \u001b[0m\u001b[1m mean    \u001b[0m\u001b[1m min  \u001b[0m\u001b[1m median  \u001b[0m\u001b[1m max  \u001b[0m\u001b[1m nmissing \u001b[0m\u001b[1m eltype               \u001b[0m ⋯\n",
       "\u001b[1m     \u001b[0m│\u001b[90m Symbol   \u001b[0m\u001b[90m Float64 \u001b[0m\u001b[90m Real \u001b[0m\u001b[90m Float64 \u001b[0m\u001b[90m Real \u001b[0m\u001b[90m Int64    \u001b[0m\u001b[90m Type                 \u001b[0m ⋯\n",
       "─────┼──────────────────────────────────────────────────────────────────────────\n",
       "   1 │ A             1.5   1        1.5   2           0  Int64                 ⋯\n",
       "   2 │ B             1.0   1.0      1.0   1.0         1  Union{Missing, Float6\n",
       "\u001b[36m                                                                1 column omitted\u001b[0m"
      ]
     },
     "execution_count": 6,
     "metadata": {},
     "output_type": "execute_result"
    }
   ],
   "source": [
    "describe(x, cols=1:2)"
   ]
  },
  {
   "cell_type": "markdown",
   "metadata": {},
   "source": [
    "`names` will return the names of all columns as strings"
   ]
  },
  {
   "cell_type": "code",
   "execution_count": 7,
   "metadata": {},
   "outputs": [
    {
     "data": {
      "text/plain": [
       "3-element Vector{String}:\n",
       " \"A\"\n",
       " \"B\"\n",
       " \"C\""
      ]
     },
     "execution_count": 7,
     "metadata": {},
     "output_type": "execute_result"
    }
   ],
   "source": [
    "names(x)"
   ]
  },
  {
   "cell_type": "markdown",
   "metadata": {},
   "source": [
    "you can also get column names with a given `eltype`:"
   ]
  },
  {
   "cell_type": "code",
   "execution_count": 8,
   "metadata": {},
   "outputs": [
    {
     "data": {
      "text/plain": [
       "1-element Vector{String}:\n",
       " \"C\""
      ]
     },
     "execution_count": 8,
     "metadata": {},
     "output_type": "execute_result"
    }
   ],
   "source": [
    "names(x, String)"
   ]
  },
  {
   "cell_type": "markdown",
   "metadata": {},
   "source": [
    "use `propertynames` to get a vector of `Symbol`s:"
   ]
  },
  {
   "cell_type": "code",
   "execution_count": 9,
   "metadata": {},
   "outputs": [
    {
     "data": {
      "text/plain": [
       "3-element Vector{Symbol}:\n",
       " :A\n",
       " :B\n",
       " :C"
      ]
     },
     "execution_count": 9,
     "metadata": {},
     "output_type": "execute_result"
    }
   ],
   "source": [
    "propertynames(x)"
   ]
  },
  {
   "cell_type": "markdown",
   "metadata": {},
   "source": [
    "using `eltype` on `eachcol(x)` returns element types of columns:"
   ]
  },
  {
   "cell_type": "code",
   "execution_count": 10,
   "metadata": {},
   "outputs": [
    {
     "data": {
      "text/plain": [
       "3-element Vector{Type}:\n",
       " Int64\n",
       " Union{Missing, Float64}\n",
       " String"
      ]
     },
     "execution_count": 10,
     "metadata": {},
     "output_type": "execute_result"
    }
   ],
   "source": [
    "eltype.(eachcol(x))"
   ]
  },
  {
   "cell_type": "markdown",
   "metadata": {},
   "source": [
    "Here we create some large `DataFrame`"
   ]
  },
  {
   "cell_type": "code",
   "execution_count": 11,
   "metadata": {
    "scrolled": true
   },
   "outputs": [
    {
     "data": {
      "text/html": [
       "<div class=\"data-frame\"><p>1,000 rows × 10 columns</p><table class=\"data-frame\"><thead><tr><th></th><th>x1</th><th>x2</th><th>x3</th><th>x4</th><th>x5</th><th>x6</th><th>x7</th><th>x8</th><th>x9</th><th>x10</th></tr><tr><th></th><th title=\"Int64\">Int64</th><th title=\"Int64\">Int64</th><th title=\"Int64\">Int64</th><th title=\"Int64\">Int64</th><th title=\"Int64\">Int64</th><th title=\"Int64\">Int64</th><th title=\"Int64\">Int64</th><th title=\"Int64\">Int64</th><th title=\"Int64\">Int64</th><th title=\"Int64\">Int64</th></tr></thead><tbody><tr><th>1</th><td>3</td><td>6</td><td>9</td><td>6</td><td>9</td><td>5</td><td>9</td><td>8</td><td>5</td><td>1</td></tr><tr><th>2</th><td>7</td><td>8</td><td>4</td><td>8</td><td>1</td><td>8</td><td>8</td><td>4</td><td>4</td><td>2</td></tr><tr><th>3</th><td>5</td><td>7</td><td>10</td><td>6</td><td>10</td><td>4</td><td>4</td><td>1</td><td>5</td><td>1</td></tr><tr><th>4</th><td>1</td><td>10</td><td>5</td><td>2</td><td>6</td><td>9</td><td>5</td><td>2</td><td>3</td><td>6</td></tr><tr><th>5</th><td>8</td><td>3</td><td>6</td><td>8</td><td>6</td><td>9</td><td>6</td><td>2</td><td>4</td><td>3</td></tr><tr><th>6</th><td>9</td><td>2</td><td>2</td><td>10</td><td>5</td><td>2</td><td>1</td><td>3</td><td>8</td><td>5</td></tr><tr><th>7</th><td>10</td><td>4</td><td>10</td><td>10</td><td>10</td><td>8</td><td>6</td><td>9</td><td>4</td><td>8</td></tr><tr><th>8</th><td>7</td><td>7</td><td>8</td><td>4</td><td>10</td><td>1</td><td>4</td><td>6</td><td>6</td><td>2</td></tr><tr><th>9</th><td>9</td><td>5</td><td>10</td><td>1</td><td>5</td><td>7</td><td>3</td><td>4</td><td>7</td><td>10</td></tr><tr><th>10</th><td>9</td><td>4</td><td>5</td><td>3</td><td>6</td><td>6</td><td>6</td><td>1</td><td>2</td><td>9</td></tr><tr><th>11</th><td>10</td><td>7</td><td>3</td><td>9</td><td>4</td><td>8</td><td>6</td><td>9</td><td>4</td><td>3</td></tr><tr><th>12</th><td>6</td><td>9</td><td>6</td><td>9</td><td>3</td><td>5</td><td>7</td><td>1</td><td>8</td><td>9</td></tr><tr><th>13</th><td>6</td><td>10</td><td>4</td><td>8</td><td>2</td><td>10</td><td>3</td><td>8</td><td>2</td><td>2</td></tr><tr><th>14</th><td>7</td><td>1</td><td>2</td><td>1</td><td>4</td><td>3</td><td>7</td><td>5</td><td>7</td><td>6</td></tr><tr><th>15</th><td>3</td><td>6</td><td>5</td><td>3</td><td>8</td><td>7</td><td>7</td><td>5</td><td>3</td><td>7</td></tr><tr><th>16</th><td>8</td><td>5</td><td>7</td><td>4</td><td>8</td><td>7</td><td>2</td><td>8</td><td>4</td><td>5</td></tr><tr><th>17</th><td>6</td><td>2</td><td>3</td><td>5</td><td>9</td><td>8</td><td>7</td><td>7</td><td>7</td><td>1</td></tr><tr><th>18</th><td>7</td><td>3</td><td>1</td><td>1</td><td>10</td><td>5</td><td>1</td><td>10</td><td>10</td><td>4</td></tr><tr><th>19</th><td>8</td><td>9</td><td>4</td><td>1</td><td>8</td><td>7</td><td>8</td><td>7</td><td>3</td><td>7</td></tr><tr><th>20</th><td>1</td><td>8</td><td>6</td><td>8</td><td>4</td><td>10</td><td>7</td><td>2</td><td>10</td><td>2</td></tr><tr><th>21</th><td>2</td><td>6</td><td>2</td><td>5</td><td>9</td><td>4</td><td>10</td><td>3</td><td>3</td><td>7</td></tr><tr><th>22</th><td>3</td><td>4</td><td>1</td><td>3</td><td>5</td><td>3</td><td>5</td><td>8</td><td>2</td><td>3</td></tr><tr><th>23</th><td>7</td><td>8</td><td>6</td><td>3</td><td>7</td><td>8</td><td>7</td><td>7</td><td>5</td><td>4</td></tr><tr><th>24</th><td>4</td><td>9</td><td>10</td><td>10</td><td>9</td><td>9</td><td>1</td><td>7</td><td>10</td><td>7</td></tr><tr><th>25</th><td>8</td><td>6</td><td>6</td><td>4</td><td>1</td><td>2</td><td>3</td><td>4</td><td>10</td><td>4</td></tr><tr><th>26</th><td>4</td><td>10</td><td>10</td><td>4</td><td>6</td><td>7</td><td>8</td><td>7</td><td>3</td><td>8</td></tr><tr><th>27</th><td>5</td><td>10</td><td>5</td><td>7</td><td>2</td><td>6</td><td>7</td><td>10</td><td>2</td><td>9</td></tr><tr><th>28</th><td>8</td><td>3</td><td>5</td><td>1</td><td>3</td><td>5</td><td>8</td><td>1</td><td>2</td><td>2</td></tr><tr><th>29</th><td>2</td><td>7</td><td>1</td><td>6</td><td>6</td><td>8</td><td>7</td><td>1</td><td>6</td><td>4</td></tr><tr><th>30</th><td>3</td><td>7</td><td>1</td><td>5</td><td>7</td><td>10</td><td>7</td><td>4</td><td>7</td><td>1</td></tr><tr><th>&vellip;</th><td>&vellip;</td><td>&vellip;</td><td>&vellip;</td><td>&vellip;</td><td>&vellip;</td><td>&vellip;</td><td>&vellip;</td><td>&vellip;</td><td>&vellip;</td><td>&vellip;</td></tr></tbody></table></div>"
      ],
      "text/latex": [
       "\\begin{tabular}{r|cccccccccc}\n",
       "\t& x1 & x2 & x3 & x4 & x5 & x6 & x7 & x8 & x9 & x10\\\\\n",
       "\t\\hline\n",
       "\t& Int64 & Int64 & Int64 & Int64 & Int64 & Int64 & Int64 & Int64 & Int64 & Int64\\\\\n",
       "\t\\hline\n",
       "\t1 & 3 & 6 & 9 & 6 & 9 & 5 & 9 & 8 & 5 & 1 \\\\\n",
       "\t2 & 7 & 8 & 4 & 8 & 1 & 8 & 8 & 4 & 4 & 2 \\\\\n",
       "\t3 & 5 & 7 & 10 & 6 & 10 & 4 & 4 & 1 & 5 & 1 \\\\\n",
       "\t4 & 1 & 10 & 5 & 2 & 6 & 9 & 5 & 2 & 3 & 6 \\\\\n",
       "\t5 & 8 & 3 & 6 & 8 & 6 & 9 & 6 & 2 & 4 & 3 \\\\\n",
       "\t6 & 9 & 2 & 2 & 10 & 5 & 2 & 1 & 3 & 8 & 5 \\\\\n",
       "\t7 & 10 & 4 & 10 & 10 & 10 & 8 & 6 & 9 & 4 & 8 \\\\\n",
       "\t8 & 7 & 7 & 8 & 4 & 10 & 1 & 4 & 6 & 6 & 2 \\\\\n",
       "\t9 & 9 & 5 & 10 & 1 & 5 & 7 & 3 & 4 & 7 & 10 \\\\\n",
       "\t10 & 9 & 4 & 5 & 3 & 6 & 6 & 6 & 1 & 2 & 9 \\\\\n",
       "\t11 & 10 & 7 & 3 & 9 & 4 & 8 & 6 & 9 & 4 & 3 \\\\\n",
       "\t12 & 6 & 9 & 6 & 9 & 3 & 5 & 7 & 1 & 8 & 9 \\\\\n",
       "\t13 & 6 & 10 & 4 & 8 & 2 & 10 & 3 & 8 & 2 & 2 \\\\\n",
       "\t14 & 7 & 1 & 2 & 1 & 4 & 3 & 7 & 5 & 7 & 6 \\\\\n",
       "\t15 & 3 & 6 & 5 & 3 & 8 & 7 & 7 & 5 & 3 & 7 \\\\\n",
       "\t16 & 8 & 5 & 7 & 4 & 8 & 7 & 2 & 8 & 4 & 5 \\\\\n",
       "\t17 & 6 & 2 & 3 & 5 & 9 & 8 & 7 & 7 & 7 & 1 \\\\\n",
       "\t18 & 7 & 3 & 1 & 1 & 10 & 5 & 1 & 10 & 10 & 4 \\\\\n",
       "\t19 & 8 & 9 & 4 & 1 & 8 & 7 & 8 & 7 & 3 & 7 \\\\\n",
       "\t20 & 1 & 8 & 6 & 8 & 4 & 10 & 7 & 2 & 10 & 2 \\\\\n",
       "\t21 & 2 & 6 & 2 & 5 & 9 & 4 & 10 & 3 & 3 & 7 \\\\\n",
       "\t22 & 3 & 4 & 1 & 3 & 5 & 3 & 5 & 8 & 2 & 3 \\\\\n",
       "\t23 & 7 & 8 & 6 & 3 & 7 & 8 & 7 & 7 & 5 & 4 \\\\\n",
       "\t24 & 4 & 9 & 10 & 10 & 9 & 9 & 1 & 7 & 10 & 7 \\\\\n",
       "\t25 & 8 & 6 & 6 & 4 & 1 & 2 & 3 & 4 & 10 & 4 \\\\\n",
       "\t26 & 4 & 10 & 10 & 4 & 6 & 7 & 8 & 7 & 3 & 8 \\\\\n",
       "\t27 & 5 & 10 & 5 & 7 & 2 & 6 & 7 & 10 & 2 & 9 \\\\\n",
       "\t28 & 8 & 3 & 5 & 1 & 3 & 5 & 8 & 1 & 2 & 2 \\\\\n",
       "\t29 & 2 & 7 & 1 & 6 & 6 & 8 & 7 & 1 & 6 & 4 \\\\\n",
       "\t30 & 3 & 7 & 1 & 5 & 7 & 10 & 7 & 4 & 7 & 1 \\\\\n",
       "\t$\\dots$ & $\\dots$ & $\\dots$ & $\\dots$ & $\\dots$ & $\\dots$ & $\\dots$ & $\\dots$ & $\\dots$ & $\\dots$ & $\\dots$ \\\\\n",
       "\\end{tabular}\n"
      ],
      "text/plain": [
       "\u001b[1m1000×10 DataFrame\u001b[0m\n",
       "\u001b[1m  Row \u001b[0m│\u001b[1m x1    \u001b[0m\u001b[1m x2    \u001b[0m\u001b[1m x3    \u001b[0m\u001b[1m x4    \u001b[0m\u001b[1m x5    \u001b[0m\u001b[1m x6    \u001b[0m\u001b[1m x7    \u001b[0m\u001b[1m x8    \u001b[0m\u001b[1m x9    \u001b[0m\u001b[1m x10   \u001b[0m\n",
       "\u001b[1m      \u001b[0m│\u001b[90m Int64 \u001b[0m\u001b[90m Int64 \u001b[0m\u001b[90m Int64 \u001b[0m\u001b[90m Int64 \u001b[0m\u001b[90m Int64 \u001b[0m\u001b[90m Int64 \u001b[0m\u001b[90m Int64 \u001b[0m\u001b[90m Int64 \u001b[0m\u001b[90m Int64 \u001b[0m\u001b[90m Int64 \u001b[0m\n",
       "──────┼──────────────────────────────────────────────────────────────────────\n",
       "    1 │     3      6      9      6      9      5      9      8      5      1\n",
       "    2 │     7      8      4      8      1      8      8      4      4      2\n",
       "    3 │     5      7     10      6     10      4      4      1      5      1\n",
       "    4 │     1     10      5      2      6      9      5      2      3      6\n",
       "    5 │     8      3      6      8      6      9      6      2      4      3\n",
       "    6 │     9      2      2     10      5      2      1      3      8      5\n",
       "    7 │    10      4     10     10     10      8      6      9      4      8\n",
       "    8 │     7      7      8      4     10      1      4      6      6      2\n",
       "    9 │     9      5     10      1      5      7      3      4      7     10\n",
       "   10 │     9      4      5      3      6      6      6      1      2      9\n",
       "   11 │    10      7      3      9      4      8      6      9      4      3\n",
       "  ⋮   │   ⋮      ⋮      ⋮      ⋮      ⋮      ⋮      ⋮      ⋮      ⋮      ⋮\n",
       "  991 │     1      6      9      6      9      7      7      1      9      8\n",
       "  992 │     3      9      4      6      8      9      9      3      9      6\n",
       "  993 │     2      5      1      2      2      3      8      6      4      8\n",
       "  994 │     2      8      9      4      6      1      5      9      4      3\n",
       "  995 │    10      8     10      7      3     10      6      6      7      4\n",
       "  996 │     7      7      9      9      7      2      3      8      9      2\n",
       "  997 │     5      7      4      4      6      6      4      4      3      2\n",
       "  998 │     1      9      8      7      4      4      1      6      2      4\n",
       "  999 │     6      3      9      2      7      9      1      5      3     10\n",
       " 1000 │    10      6      7      5      7      3      1      6      9     10\n",
       "\u001b[36m                                                             979 rows omitted\u001b[0m"
      ]
     },
     "execution_count": 11,
     "metadata": {},
     "output_type": "execute_result"
    }
   ],
   "source": [
    "y = DataFrame(rand(1:10, 1000, 10), :auto)"
   ]
  },
  {
   "cell_type": "markdown",
   "metadata": {},
   "source": [
    "and then we can use `first` to peek into its first few rows"
   ]
  },
  {
   "cell_type": "code",
   "execution_count": 12,
   "metadata": {},
   "outputs": [
    {
     "data": {
      "text/html": [
       "<div class=\"data-frame\"><p>5 rows × 10 columns</p><table class=\"data-frame\"><thead><tr><th></th><th>x1</th><th>x2</th><th>x3</th><th>x4</th><th>x5</th><th>x6</th><th>x7</th><th>x8</th><th>x9</th><th>x10</th></tr><tr><th></th><th title=\"Int64\">Int64</th><th title=\"Int64\">Int64</th><th title=\"Int64\">Int64</th><th title=\"Int64\">Int64</th><th title=\"Int64\">Int64</th><th title=\"Int64\">Int64</th><th title=\"Int64\">Int64</th><th title=\"Int64\">Int64</th><th title=\"Int64\">Int64</th><th title=\"Int64\">Int64</th></tr></thead><tbody><tr><th>1</th><td>3</td><td>6</td><td>9</td><td>6</td><td>9</td><td>5</td><td>9</td><td>8</td><td>5</td><td>1</td></tr><tr><th>2</th><td>7</td><td>8</td><td>4</td><td>8</td><td>1</td><td>8</td><td>8</td><td>4</td><td>4</td><td>2</td></tr><tr><th>3</th><td>5</td><td>7</td><td>10</td><td>6</td><td>10</td><td>4</td><td>4</td><td>1</td><td>5</td><td>1</td></tr><tr><th>4</th><td>1</td><td>10</td><td>5</td><td>2</td><td>6</td><td>9</td><td>5</td><td>2</td><td>3</td><td>6</td></tr><tr><th>5</th><td>8</td><td>3</td><td>6</td><td>8</td><td>6</td><td>9</td><td>6</td><td>2</td><td>4</td><td>3</td></tr></tbody></table></div>"
      ],
      "text/latex": [
       "\\begin{tabular}{r|cccccccccc}\n",
       "\t& x1 & x2 & x3 & x4 & x5 & x6 & x7 & x8 & x9 & x10\\\\\n",
       "\t\\hline\n",
       "\t& Int64 & Int64 & Int64 & Int64 & Int64 & Int64 & Int64 & Int64 & Int64 & Int64\\\\\n",
       "\t\\hline\n",
       "\t1 & 3 & 6 & 9 & 6 & 9 & 5 & 9 & 8 & 5 & 1 \\\\\n",
       "\t2 & 7 & 8 & 4 & 8 & 1 & 8 & 8 & 4 & 4 & 2 \\\\\n",
       "\t3 & 5 & 7 & 10 & 6 & 10 & 4 & 4 & 1 & 5 & 1 \\\\\n",
       "\t4 & 1 & 10 & 5 & 2 & 6 & 9 & 5 & 2 & 3 & 6 \\\\\n",
       "\t5 & 8 & 3 & 6 & 8 & 6 & 9 & 6 & 2 & 4 & 3 \\\\\n",
       "\\end{tabular}\n"
      ],
      "text/plain": [
       "\u001b[1m5×10 DataFrame\u001b[0m\n",
       "\u001b[1m Row \u001b[0m│\u001b[1m x1    \u001b[0m\u001b[1m x2    \u001b[0m\u001b[1m x3    \u001b[0m\u001b[1m x4    \u001b[0m\u001b[1m x5    \u001b[0m\u001b[1m x6    \u001b[0m\u001b[1m x7    \u001b[0m\u001b[1m x8    \u001b[0m\u001b[1m x9    \u001b[0m\u001b[1m x10   \u001b[0m\n",
       "\u001b[1m     \u001b[0m│\u001b[90m Int64 \u001b[0m\u001b[90m Int64 \u001b[0m\u001b[90m Int64 \u001b[0m\u001b[90m Int64 \u001b[0m\u001b[90m Int64 \u001b[0m\u001b[90m Int64 \u001b[0m\u001b[90m Int64 \u001b[0m\u001b[90m Int64 \u001b[0m\u001b[90m Int64 \u001b[0m\u001b[90m Int64 \u001b[0m\n",
       "─────┼──────────────────────────────────────────────────────────────────────\n",
       "   1 │     3      6      9      6      9      5      9      8      5      1\n",
       "   2 │     7      8      4      8      1      8      8      4      4      2\n",
       "   3 │     5      7     10      6     10      4      4      1      5      1\n",
       "   4 │     1     10      5      2      6      9      5      2      3      6\n",
       "   5 │     8      3      6      8      6      9      6      2      4      3"
      ]
     },
     "execution_count": 12,
     "metadata": {},
     "output_type": "execute_result"
    }
   ],
   "source": [
    "first(y, 5)"
   ]
  },
  {
   "cell_type": "markdown",
   "metadata": {},
   "source": [
    "and `last` to see its bottom rows."
   ]
  },
  {
   "cell_type": "code",
   "execution_count": 13,
   "metadata": {},
   "outputs": [
    {
     "data": {
      "text/html": [
       "<div class=\"data-frame\"><p>3 rows × 10 columns</p><table class=\"data-frame\"><thead><tr><th></th><th>x1</th><th>x2</th><th>x3</th><th>x4</th><th>x5</th><th>x6</th><th>x7</th><th>x8</th><th>x9</th><th>x10</th></tr><tr><th></th><th title=\"Int64\">Int64</th><th title=\"Int64\">Int64</th><th title=\"Int64\">Int64</th><th title=\"Int64\">Int64</th><th title=\"Int64\">Int64</th><th title=\"Int64\">Int64</th><th title=\"Int64\">Int64</th><th title=\"Int64\">Int64</th><th title=\"Int64\">Int64</th><th title=\"Int64\">Int64</th></tr></thead><tbody><tr><th>1</th><td>1</td><td>9</td><td>8</td><td>7</td><td>4</td><td>4</td><td>1</td><td>6</td><td>2</td><td>4</td></tr><tr><th>2</th><td>6</td><td>3</td><td>9</td><td>2</td><td>7</td><td>9</td><td>1</td><td>5</td><td>3</td><td>10</td></tr><tr><th>3</th><td>10</td><td>6</td><td>7</td><td>5</td><td>7</td><td>3</td><td>1</td><td>6</td><td>9</td><td>10</td></tr></tbody></table></div>"
      ],
      "text/latex": [
       "\\begin{tabular}{r|cccccccccc}\n",
       "\t& x1 & x2 & x3 & x4 & x5 & x6 & x7 & x8 & x9 & x10\\\\\n",
       "\t\\hline\n",
       "\t& Int64 & Int64 & Int64 & Int64 & Int64 & Int64 & Int64 & Int64 & Int64 & Int64\\\\\n",
       "\t\\hline\n",
       "\t1 & 1 & 9 & 8 & 7 & 4 & 4 & 1 & 6 & 2 & 4 \\\\\n",
       "\t2 & 6 & 3 & 9 & 2 & 7 & 9 & 1 & 5 & 3 & 10 \\\\\n",
       "\t3 & 10 & 6 & 7 & 5 & 7 & 3 & 1 & 6 & 9 & 10 \\\\\n",
       "\\end{tabular}\n"
      ],
      "text/plain": [
       "\u001b[1m3×10 DataFrame\u001b[0m\n",
       "\u001b[1m Row \u001b[0m│\u001b[1m x1    \u001b[0m\u001b[1m x2    \u001b[0m\u001b[1m x3    \u001b[0m\u001b[1m x4    \u001b[0m\u001b[1m x5    \u001b[0m\u001b[1m x6    \u001b[0m\u001b[1m x7    \u001b[0m\u001b[1m x8    \u001b[0m\u001b[1m x9    \u001b[0m\u001b[1m x10   \u001b[0m\n",
       "\u001b[1m     \u001b[0m│\u001b[90m Int64 \u001b[0m\u001b[90m Int64 \u001b[0m\u001b[90m Int64 \u001b[0m\u001b[90m Int64 \u001b[0m\u001b[90m Int64 \u001b[0m\u001b[90m Int64 \u001b[0m\u001b[90m Int64 \u001b[0m\u001b[90m Int64 \u001b[0m\u001b[90m Int64 \u001b[0m\u001b[90m Int64 \u001b[0m\n",
       "─────┼──────────────────────────────────────────────────────────────────────\n",
       "   1 │     1      9      8      7      4      4      1      6      2      4\n",
       "   2 │     6      3      9      2      7      9      1      5      3     10\n",
       "   3 │    10      6      7      5      7      3      1      6      9     10"
      ]
     },
     "execution_count": 13,
     "metadata": {},
     "output_type": "execute_result"
    }
   ],
   "source": [
    "last(y, 3)"
   ]
  },
  {
   "cell_type": "markdown",
   "metadata": {},
   "source": [
    "Using `first` and `last` without number of rows will return a first/last `DataFrameRow` in the `DataFrame`"
   ]
  },
  {
   "cell_type": "code",
   "execution_count": 14,
   "metadata": {},
   "outputs": [
    {
     "data": {
      "text/html": [
       "<p>DataFrameRow (10 columns)</p><div class=\"data-frame\"><table class=\"data-frame\"><thead><tr><th></th><th>x1</th><th>x2</th><th>x3</th><th>x4</th><th>x5</th><th>x6</th><th>x7</th><th>x8</th><th>x9</th><th>x10</th></tr><tr><th></th><th title=\"Int64\">Int64</th><th title=\"Int64\">Int64</th><th title=\"Int64\">Int64</th><th title=\"Int64\">Int64</th><th title=\"Int64\">Int64</th><th title=\"Int64\">Int64</th><th title=\"Int64\">Int64</th><th title=\"Int64\">Int64</th><th title=\"Int64\">Int64</th><th title=\"Int64\">Int64</th></tr></thead><tbody><tr><th>1</th><td>3</td><td>6</td><td>9</td><td>6</td><td>9</td><td>5</td><td>9</td><td>8</td><td>5</td><td>1</td></tr></tbody></table></div>"
      ],
      "text/latex": [
       "\\begin{tabular}{r|cccccccccc}\n",
       "\t& x1 & x2 & x3 & x4 & x5 & x6 & x7 & x8 & x9 & x10\\\\\n",
       "\t\\hline\n",
       "\t& Int64 & Int64 & Int64 & Int64 & Int64 & Int64 & Int64 & Int64 & Int64 & Int64\\\\\n",
       "\t\\hline\n",
       "\t1 & 3 & 6 & 9 & 6 & 9 & 5 & 9 & 8 & 5 & 1 \\\\\n",
       "\\end{tabular}\n"
      ],
      "text/plain": [
       "\u001b[1mDataFrameRow\u001b[0m\n",
       "\u001b[1m Row \u001b[0m│\u001b[1m x1    \u001b[0m\u001b[1m x2    \u001b[0m\u001b[1m x3    \u001b[0m\u001b[1m x4    \u001b[0m\u001b[1m x5    \u001b[0m\u001b[1m x6    \u001b[0m\u001b[1m x7    \u001b[0m\u001b[1m x8    \u001b[0m\u001b[1m x9    \u001b[0m\u001b[1m x10   \u001b[0m\n",
       "\u001b[1m     \u001b[0m│\u001b[90m Int64 \u001b[0m\u001b[90m Int64 \u001b[0m\u001b[90m Int64 \u001b[0m\u001b[90m Int64 \u001b[0m\u001b[90m Int64 \u001b[0m\u001b[90m Int64 \u001b[0m\u001b[90m Int64 \u001b[0m\u001b[90m Int64 \u001b[0m\u001b[90m Int64 \u001b[0m\u001b[90m Int64 \u001b[0m\n",
       "─────┼──────────────────────────────────────────────────────────────────────\n",
       "   1 │     3      6      9      6      9      5      9      8      5      1"
      ]
     },
     "execution_count": 14,
     "metadata": {},
     "output_type": "execute_result"
    }
   ],
   "source": [
    "first(y)"
   ]
  },
  {
   "cell_type": "code",
   "execution_count": 15,
   "metadata": {},
   "outputs": [
    {
     "data": {
      "text/html": [
       "<p>DataFrameRow (10 columns)</p><div class=\"data-frame\"><table class=\"data-frame\"><thead><tr><th></th><th>x1</th><th>x2</th><th>x3</th><th>x4</th><th>x5</th><th>x6</th><th>x7</th><th>x8</th><th>x9</th><th>x10</th></tr><tr><th></th><th title=\"Int64\">Int64</th><th title=\"Int64\">Int64</th><th title=\"Int64\">Int64</th><th title=\"Int64\">Int64</th><th title=\"Int64\">Int64</th><th title=\"Int64\">Int64</th><th title=\"Int64\">Int64</th><th title=\"Int64\">Int64</th><th title=\"Int64\">Int64</th><th title=\"Int64\">Int64</th></tr></thead><tbody><tr><th>1000</th><td>10</td><td>6</td><td>7</td><td>5</td><td>7</td><td>3</td><td>1</td><td>6</td><td>9</td><td>10</td></tr></tbody></table></div>"
      ],
      "text/latex": [
       "\\begin{tabular}{r|cccccccccc}\n",
       "\t& x1 & x2 & x3 & x4 & x5 & x6 & x7 & x8 & x9 & x10\\\\\n",
       "\t\\hline\n",
       "\t& Int64 & Int64 & Int64 & Int64 & Int64 & Int64 & Int64 & Int64 & Int64 & Int64\\\\\n",
       "\t\\hline\n",
       "\t1000 & 10 & 6 & 7 & 5 & 7 & 3 & 1 & 6 & 9 & 10 \\\\\n",
       "\\end{tabular}\n"
      ],
      "text/plain": [
       "\u001b[1mDataFrameRow\u001b[0m\n",
       "\u001b[1m  Row \u001b[0m│\u001b[1m x1    \u001b[0m\u001b[1m x2    \u001b[0m\u001b[1m x3    \u001b[0m\u001b[1m x4    \u001b[0m\u001b[1m x5    \u001b[0m\u001b[1m x6    \u001b[0m\u001b[1m x7    \u001b[0m\u001b[1m x8    \u001b[0m\u001b[1m x9    \u001b[0m\u001b[1m x10   \u001b[0m\n",
       "\u001b[1m      \u001b[0m│\u001b[90m Int64 \u001b[0m\u001b[90m Int64 \u001b[0m\u001b[90m Int64 \u001b[0m\u001b[90m Int64 \u001b[0m\u001b[90m Int64 \u001b[0m\u001b[90m Int64 \u001b[0m\u001b[90m Int64 \u001b[0m\u001b[90m Int64 \u001b[0m\u001b[90m Int64 \u001b[0m\u001b[90m Int64 \u001b[0m\n",
       "──────┼──────────────────────────────────────────────────────────────────────\n",
       " 1000 │    10      6      7      5      7      3      1      6      9     10"
      ]
     },
     "execution_count": 15,
     "metadata": {},
     "output_type": "execute_result"
    }
   ],
   "source": [
    "last(y)"
   ]
  },
  {
   "cell_type": "markdown",
   "metadata": {},
   "source": [
    "### Displaying large data frames"
   ]
  },
  {
   "cell_type": "markdown",
   "metadata": {},
   "source": [
    "Create a wide and tall data frame:"
   ]
  },
  {
   "cell_type": "code",
   "execution_count": 16,
   "metadata": {
    "scrolled": true
   },
   "outputs": [
    {
     "data": {
      "text/html": [
       "<div class=\"data-frame\"><p>100 rows × 100 columns (omitted printing of 92 columns)</p><table class=\"data-frame\"><thead><tr><th></th><th>x1</th><th>x2</th><th>x3</th><th>x4</th><th>x5</th><th>x6</th><th>x7</th><th>x8</th></tr><tr><th></th><th title=\"Float64\">Float64</th><th title=\"Float64\">Float64</th><th title=\"Float64\">Float64</th><th title=\"Float64\">Float64</th><th title=\"Float64\">Float64</th><th title=\"Float64\">Float64</th><th title=\"Float64\">Float64</th><th title=\"Float64\">Float64</th></tr></thead><tbody><tr><th>1</th><td>0.937537</td><td>0.434762</td><td>0.624101</td><td>0.330633</td><td>0.780235</td><td>0.966165</td><td>0.300685</td><td>0.196115</td></tr><tr><th>2</th><td>0.316273</td><td>0.933712</td><td>0.297821</td><td>0.455944</td><td>0.135766</td><td>0.342949</td><td>0.676665</td><td>0.55228</td></tr><tr><th>3</th><td>0.704614</td><td>0.161441</td><td>0.93509</td><td>0.362899</td><td>0.78428</td><td>0.825509</td><td>0.935901</td><td>0.0804371</td></tr><tr><th>4</th><td>0.871178</td><td>0.371284</td><td>0.105463</td><td>0.156164</td><td>0.280341</td><td>0.31227</td><td>0.0334978</td><td>0.12334</td></tr><tr><th>5</th><td>0.0807914</td><td>0.89206</td><td>0.288906</td><td>0.278503</td><td>0.464292</td><td>0.0720536</td><td>0.685766</td><td>0.84284</td></tr><tr><th>6</th><td>0.0850526</td><td>0.823181</td><td>0.541579</td><td>0.18709</td><td>0.113331</td><td>0.682002</td><td>0.119516</td><td>0.565451</td></tr><tr><th>7</th><td>0.316889</td><td>0.0158169</td><td>0.364496</td><td>0.506836</td><td>0.89823</td><td>0.0234474</td><td>0.862016</td><td>0.443777</td></tr><tr><th>8</th><td>0.558646</td><td>0.730943</td><td>0.267209</td><td>0.679209</td><td>0.903464</td><td>0.491354</td><td>0.401884</td><td>0.414432</td></tr><tr><th>9</th><td>0.768379</td><td>0.880277</td><td>0.628593</td><td>0.619127</td><td>0.777861</td><td>0.442033</td><td>0.801788</td><td>0.64136</td></tr><tr><th>10</th><td>0.177642</td><td>0.0513107</td><td>0.221894</td><td>0.089259</td><td>0.727725</td><td>0.164175</td><td>0.483483</td><td>0.775985</td></tr><tr><th>11</th><td>0.87647</td><td>0.363667</td><td>0.39582</td><td>0.404874</td><td>0.38659</td><td>0.629251</td><td>0.919593</td><td>0.823173</td></tr><tr><th>12</th><td>0.744547</td><td>0.959472</td><td>0.6178</td><td>0.974137</td><td>0.00633676</td><td>0.943645</td><td>0.120786</td><td>0.0843212</td></tr><tr><th>13</th><td>0.557375</td><td>0.381222</td><td>0.111335</td><td>0.573321</td><td>0.469994</td><td>0.808662</td><td>0.889488</td><td>0.861648</td></tr><tr><th>14</th><td>0.115085</td><td>0.283442</td><td>0.175224</td><td>0.671391</td><td>0.0851672</td><td>0.696951</td><td>0.795517</td><td>0.608217</td></tr><tr><th>15</th><td>0.51405</td><td>0.828533</td><td>0.0891671</td><td>0.373009</td><td>0.112861</td><td>0.636803</td><td>0.444516</td><td>0.78378</td></tr><tr><th>16</th><td>0.662896</td><td>0.695279</td><td>0.352193</td><td>0.562499</td><td>0.323464</td><td>0.511961</td><td>0.885738</td><td>0.958691</td></tr><tr><th>17</th><td>0.101069</td><td>0.984285</td><td>0.47886</td><td>0.124722</td><td>0.3043</td><td>0.137578</td><td>0.340082</td><td>0.693281</td></tr><tr><th>18</th><td>0.49212</td><td>0.579144</td><td>0.751534</td><td>0.19319</td><td>0.241771</td><td>0.772283</td><td>0.756073</td><td>0.478465</td></tr><tr><th>19</th><td>0.116465</td><td>0.21485</td><td>0.285146</td><td>0.826423</td><td>0.763975</td><td>0.306523</td><td>0.479718</td><td>0.927785</td></tr><tr><th>20</th><td>0.409683</td><td>0.0484484</td><td>0.932279</td><td>0.713822</td><td>0.375353</td><td>0.554329</td><td>0.591018</td><td>0.413648</td></tr><tr><th>21</th><td>0.839589</td><td>0.435515</td><td>0.428965</td><td>0.383549</td><td>0.737875</td><td>0.797236</td><td>0.124599</td><td>0.993483</td></tr><tr><th>22</th><td>0.201694</td><td>0.223377</td><td>0.646111</td><td>0.776673</td><td>0.688733</td><td>0.19993</td><td>0.456978</td><td>0.67693</td></tr><tr><th>23</th><td>0.811033</td><td>0.249968</td><td>0.893822</td><td>0.918764</td><td>0.559621</td><td>0.4413</td><td>0.693939</td><td>0.719232</td></tr><tr><th>24</th><td>0.806726</td><td>0.695618</td><td>0.466341</td><td>0.0935497</td><td>0.301738</td><td>0.129218</td><td>0.339553</td><td>0.415623</td></tr><tr><th>25</th><td>0.197785</td><td>0.0849702</td><td>0.568464</td><td>0.891701</td><td>0.294961</td><td>0.199754</td><td>0.0420927</td><td>0.580445</td></tr><tr><th>26</th><td>0.651814</td><td>0.212029</td><td>0.554017</td><td>0.624581</td><td>0.453318</td><td>0.417538</td><td>0.248383</td><td>0.551807</td></tr><tr><th>27</th><td>0.536668</td><td>0.486349</td><td>0.617707</td><td>0.638541</td><td>0.363123</td><td>0.312741</td><td>0.0339426</td><td>0.91206</td></tr><tr><th>28</th><td>0.46152</td><td>0.618356</td><td>0.504706</td><td>0.117989</td><td>0.634194</td><td>0.922906</td><td>0.636213</td><td>0.629397</td></tr><tr><th>29</th><td>0.447559</td><td>0.994505</td><td>0.870742</td><td>0.101009</td><td>0.210404</td><td>0.263535</td><td>0.115775</td><td>0.29741</td></tr><tr><th>30</th><td>0.829705</td><td>0.128643</td><td>0.867049</td><td>0.580349</td><td>0.387281</td><td>0.392391</td><td>0.415663</td><td>0.756635</td></tr><tr><th>&vellip;</th><td>&vellip;</td><td>&vellip;</td><td>&vellip;</td><td>&vellip;</td><td>&vellip;</td><td>&vellip;</td><td>&vellip;</td><td>&vellip;</td></tr></tbody></table></div>"
      ],
      "text/latex": [
       "\\begin{tabular}{r|ccccccccc}\n",
       "\t& x1 & x2 & x3 & x4 & x5 & x6 & x7 & x8 & \\\\\n",
       "\t\\hline\n",
       "\t& Float64 & Float64 & Float64 & Float64 & Float64 & Float64 & Float64 & Float64 & \\\\\n",
       "\t\\hline\n",
       "\t1 & 0.937537 & 0.434762 & 0.624101 & 0.330633 & 0.780235 & 0.966165 & 0.300685 & 0.196115 & $\\dots$ \\\\\n",
       "\t2 & 0.316273 & 0.933712 & 0.297821 & 0.455944 & 0.135766 & 0.342949 & 0.676665 & 0.55228 & $\\dots$ \\\\\n",
       "\t3 & 0.704614 & 0.161441 & 0.93509 & 0.362899 & 0.78428 & 0.825509 & 0.935901 & 0.0804371 & $\\dots$ \\\\\n",
       "\t4 & 0.871178 & 0.371284 & 0.105463 & 0.156164 & 0.280341 & 0.31227 & 0.0334978 & 0.12334 & $\\dots$ \\\\\n",
       "\t5 & 0.0807914 & 0.89206 & 0.288906 & 0.278503 & 0.464292 & 0.0720536 & 0.685766 & 0.84284 & $\\dots$ \\\\\n",
       "\t6 & 0.0850526 & 0.823181 & 0.541579 & 0.18709 & 0.113331 & 0.682002 & 0.119516 & 0.565451 & $\\dots$ \\\\\n",
       "\t7 & 0.316889 & 0.0158169 & 0.364496 & 0.506836 & 0.89823 & 0.0234474 & 0.862016 & 0.443777 & $\\dots$ \\\\\n",
       "\t8 & 0.558646 & 0.730943 & 0.267209 & 0.679209 & 0.903464 & 0.491354 & 0.401884 & 0.414432 & $\\dots$ \\\\\n",
       "\t9 & 0.768379 & 0.880277 & 0.628593 & 0.619127 & 0.777861 & 0.442033 & 0.801788 & 0.64136 & $\\dots$ \\\\\n",
       "\t10 & 0.177642 & 0.0513107 & 0.221894 & 0.089259 & 0.727725 & 0.164175 & 0.483483 & 0.775985 & $\\dots$ \\\\\n",
       "\t11 & 0.87647 & 0.363667 & 0.39582 & 0.404874 & 0.38659 & 0.629251 & 0.919593 & 0.823173 & $\\dots$ \\\\\n",
       "\t12 & 0.744547 & 0.959472 & 0.6178 & 0.974137 & 0.00633676 & 0.943645 & 0.120786 & 0.0843212 & $\\dots$ \\\\\n",
       "\t13 & 0.557375 & 0.381222 & 0.111335 & 0.573321 & 0.469994 & 0.808662 & 0.889488 & 0.861648 & $\\dots$ \\\\\n",
       "\t14 & 0.115085 & 0.283442 & 0.175224 & 0.671391 & 0.0851672 & 0.696951 & 0.795517 & 0.608217 & $\\dots$ \\\\\n",
       "\t15 & 0.51405 & 0.828533 & 0.0891671 & 0.373009 & 0.112861 & 0.636803 & 0.444516 & 0.78378 & $\\dots$ \\\\\n",
       "\t16 & 0.662896 & 0.695279 & 0.352193 & 0.562499 & 0.323464 & 0.511961 & 0.885738 & 0.958691 & $\\dots$ \\\\\n",
       "\t17 & 0.101069 & 0.984285 & 0.47886 & 0.124722 & 0.3043 & 0.137578 & 0.340082 & 0.693281 & $\\dots$ \\\\\n",
       "\t18 & 0.49212 & 0.579144 & 0.751534 & 0.19319 & 0.241771 & 0.772283 & 0.756073 & 0.478465 & $\\dots$ \\\\\n",
       "\t19 & 0.116465 & 0.21485 & 0.285146 & 0.826423 & 0.763975 & 0.306523 & 0.479718 & 0.927785 & $\\dots$ \\\\\n",
       "\t20 & 0.409683 & 0.0484484 & 0.932279 & 0.713822 & 0.375353 & 0.554329 & 0.591018 & 0.413648 & $\\dots$ \\\\\n",
       "\t21 & 0.839589 & 0.435515 & 0.428965 & 0.383549 & 0.737875 & 0.797236 & 0.124599 & 0.993483 & $\\dots$ \\\\\n",
       "\t22 & 0.201694 & 0.223377 & 0.646111 & 0.776673 & 0.688733 & 0.19993 & 0.456978 & 0.67693 & $\\dots$ \\\\\n",
       "\t23 & 0.811033 & 0.249968 & 0.893822 & 0.918764 & 0.559621 & 0.4413 & 0.693939 & 0.719232 & $\\dots$ \\\\\n",
       "\t24 & 0.806726 & 0.695618 & 0.466341 & 0.0935497 & 0.301738 & 0.129218 & 0.339553 & 0.415623 & $\\dots$ \\\\\n",
       "\t25 & 0.197785 & 0.0849702 & 0.568464 & 0.891701 & 0.294961 & 0.199754 & 0.0420927 & 0.580445 & $\\dots$ \\\\\n",
       "\t26 & 0.651814 & 0.212029 & 0.554017 & 0.624581 & 0.453318 & 0.417538 & 0.248383 & 0.551807 & $\\dots$ \\\\\n",
       "\t27 & 0.536668 & 0.486349 & 0.617707 & 0.638541 & 0.363123 & 0.312741 & 0.0339426 & 0.91206 & $\\dots$ \\\\\n",
       "\t28 & 0.46152 & 0.618356 & 0.504706 & 0.117989 & 0.634194 & 0.922906 & 0.636213 & 0.629397 & $\\dots$ \\\\\n",
       "\t29 & 0.447559 & 0.994505 & 0.870742 & 0.101009 & 0.210404 & 0.263535 & 0.115775 & 0.29741 & $\\dots$ \\\\\n",
       "\t30 & 0.829705 & 0.128643 & 0.867049 & 0.580349 & 0.387281 & 0.392391 & 0.415663 & 0.756635 & $\\dots$ \\\\\n",
       "\t$\\dots$ & $\\dots$ & $\\dots$ & $\\dots$ & $\\dots$ & $\\dots$ & $\\dots$ & $\\dots$ & $\\dots$ &  \\\\\n",
       "\\end{tabular}\n"
      ],
      "text/plain": [
       "\u001b[1m100×100 DataFrame\u001b[0m\n",
       "\u001b[1m Row \u001b[0m│\u001b[1m x1        \u001b[0m\u001b[1m x2        \u001b[0m\u001b[1m x3        \u001b[0m\u001b[1m x4        \u001b[0m\u001b[1m x5         \u001b[0m\u001b[1m x6        \u001b[0m\u001b[1m x7  \u001b[0m ⋯\n",
       "\u001b[1m     \u001b[0m│\u001b[90m Float64   \u001b[0m\u001b[90m Float64   \u001b[0m\u001b[90m Float64   \u001b[0m\u001b[90m Float64   \u001b[0m\u001b[90m Float64    \u001b[0m\u001b[90m Float64   \u001b[0m\u001b[90m Floa\u001b[0m ⋯\n",
       "─────┼──────────────────────────────────────────────────────────────────────────\n",
       "   1 │ 0.937537   0.434762   0.624101   0.330633   0.780235    0.966165   0.30 ⋯\n",
       "   2 │ 0.316273   0.933712   0.297821   0.455944   0.135766    0.342949   0.67\n",
       "   3 │ 0.704614   0.161441   0.93509    0.362899   0.78428     0.825509   0.93\n",
       "   4 │ 0.871178   0.371284   0.105463   0.156164   0.280341    0.31227    0.03\n",
       "   5 │ 0.0807914  0.89206    0.288906   0.278503   0.464292    0.0720536  0.68 ⋯\n",
       "   6 │ 0.0850526  0.823181   0.541579   0.18709    0.113331    0.682002   0.11\n",
       "   7 │ 0.316889   0.0158169  0.364496   0.506836   0.89823     0.0234474  0.86\n",
       "   8 │ 0.558646   0.730943   0.267209   0.679209   0.903464    0.491354   0.40\n",
       "   9 │ 0.768379   0.880277   0.628593   0.619127   0.777861    0.442033   0.80 ⋯\n",
       "  10 │ 0.177642   0.0513107  0.221894   0.089259   0.727725    0.164175   0.48\n",
       "  11 │ 0.87647    0.363667   0.39582    0.404874   0.38659     0.629251   0.91\n",
       "  ⋮  │     ⋮          ⋮          ⋮          ⋮          ⋮           ⋮           ⋱\n",
       "  91 │ 0.691973   0.847043   0.0988513  0.904183   0.0448374   0.303264   0.98\n",
       "  92 │ 0.353217   0.0126329  0.946273   0.500139   0.571732    0.554209   0.04 ⋯\n",
       "  93 │ 0.188546   0.865302   0.415598   0.693287   0.20849     0.869208   0.25\n",
       "  94 │ 0.377006   0.268203   0.618716   0.637754   0.0483362   0.800324   0.75\n",
       "  95 │ 0.583089   0.70584    0.0850553  0.51418    0.317505    0.482498   0.76\n",
       "  96 │ 0.754442   0.116034   0.482958   0.574585   0.593643    0.603036   0.43 ⋯\n",
       "  97 │ 0.566172   0.121887   0.638767   0.0493849  0.642631    0.610439   0.94\n",
       "  98 │ 0.34727    0.738197   0.0283411  0.932029   0.742171    0.483546   0.48\n",
       "  99 │ 0.691484   0.530794   0.444725   0.321533   0.597722    0.975236   0.12\n",
       " 100 │ 0.853553   0.203456   0.208497   0.832861   0.04727     0.866577   0.32 ⋯\n",
       "\u001b[36m                                                  94 columns and 79 rows omitted\u001b[0m"
      ]
     },
     "execution_count": 16,
     "metadata": {},
     "output_type": "execute_result"
    }
   ],
   "source": [
    "df = DataFrame(rand(100, 100), :auto)"
   ]
  },
  {
   "cell_type": "markdown",
   "metadata": {},
   "source": [
    "we can see that 92 of its columns were not printed. Also we get its first 30 rows. You can easily change this behavior by changing the value of `ENV[\"LINES\"]` and `ENV[\"COLUMNS\"]`."
   ]
  },
  {
   "cell_type": "code",
   "execution_count": 17,
   "metadata": {},
   "outputs": [
    {
     "data": {
      "text/plain": [
       "10"
      ]
     },
     "execution_count": 17,
     "metadata": {},
     "output_type": "execute_result"
    }
   ],
   "source": [
    "ENV[\"LINES\"] = 10"
   ]
  },
  {
   "cell_type": "code",
   "execution_count": 18,
   "metadata": {},
   "outputs": [
    {
     "data": {
      "text/plain": [
       "200"
      ]
     },
     "execution_count": 18,
     "metadata": {},
     "output_type": "execute_result"
    }
   ],
   "source": [
    "ENV[\"COLUMNS\"] = 200"
   ]
  },
  {
   "cell_type": "code",
   "execution_count": 19,
   "metadata": {},
   "outputs": [
    {
     "data": {
      "text/html": [
       "<div class=\"data-frame\"><p>100 rows × 100 columns (omitted printing of 81 columns)</p><table class=\"data-frame\"><thead><tr><th></th><th>x1</th><th>x2</th><th>x3</th><th>x4</th><th>x5</th><th>x6</th><th>x7</th><th>x8</th><th>x9</th><th>x10</th><th>x11</th><th>x12</th><th>x13</th><th>x14</th><th>x15</th><th>x16</th><th>x17</th><th>x18</th><th>x19</th></tr><tr><th></th><th title=\"Float64\">Float64</th><th title=\"Float64\">Float64</th><th title=\"Float64\">Float64</th><th title=\"Float64\">Float64</th><th title=\"Float64\">Float64</th><th title=\"Float64\">Float64</th><th title=\"Float64\">Float64</th><th title=\"Float64\">Float64</th><th title=\"Float64\">Float64</th><th title=\"Float64\">Float64</th><th title=\"Float64\">Float64</th><th title=\"Float64\">Float64</th><th title=\"Float64\">Float64</th><th title=\"Float64\">Float64</th><th title=\"Float64\">Float64</th><th title=\"Float64\">Float64</th><th title=\"Float64\">Float64</th><th title=\"Float64\">Float64</th><th title=\"Float64\">Float64</th></tr></thead><tbody><tr><th>1</th><td>0.937537</td><td>0.434762</td><td>0.624101</td><td>0.330633</td><td>0.780235</td><td>0.966165</td><td>0.300685</td><td>0.196115</td><td>0.999093</td><td>0.490282</td><td>0.19984</td><td>0.950018</td><td>0.905897</td><td>0.164993</td><td>0.655526</td><td>0.475493</td><td>0.221768</td><td>0.611937</td><td>0.680317</td></tr><tr><th>2</th><td>0.316273</td><td>0.933712</td><td>0.297821</td><td>0.455944</td><td>0.135766</td><td>0.342949</td><td>0.676665</td><td>0.55228</td><td>0.456232</td><td>0.237123</td><td>0.458375</td><td>0.632109</td><td>0.877576</td><td>0.510561</td><td>0.00994217</td><td>0.465554</td><td>0.554434</td><td>0.783488</td><td>0.786656</td></tr><tr><th>3</th><td>0.704614</td><td>0.161441</td><td>0.93509</td><td>0.362899</td><td>0.78428</td><td>0.825509</td><td>0.935901</td><td>0.0804371</td><td>0.478275</td><td>0.96748</td><td>0.338668</td><td>0.121199</td><td>0.875487</td><td>0.163666</td><td>0.319268</td><td>0.317752</td><td>0.131977</td><td>0.271312</td><td>0.313141</td></tr><tr><th>4</th><td>0.871178</td><td>0.371284</td><td>0.105463</td><td>0.156164</td><td>0.280341</td><td>0.31227</td><td>0.0334978</td><td>0.12334</td><td>0.184612</td><td>0.724425</td><td>0.290446</td><td>0.00651331</td><td>0.0486466</td><td>0.440407</td><td>0.996949</td><td>0.182879</td><td>0.530507</td><td>0.885594</td><td>0.849986</td></tr><tr><th>5</th><td>0.0807914</td><td>0.89206</td><td>0.288906</td><td>0.278503</td><td>0.464292</td><td>0.0720536</td><td>0.685766</td><td>0.84284</td><td>0.903505</td><td>0.459453</td><td>0.0234239</td><td>0.588885</td><td>0.0362375</td><td>0.766705</td><td>0.69943</td><td>0.994435</td><td>0.686968</td><td>0.176177</td><td>0.51632</td></tr><tr><th>6</th><td>0.0850526</td><td>0.823181</td><td>0.541579</td><td>0.18709</td><td>0.113331</td><td>0.682002</td><td>0.119516</td><td>0.565451</td><td>0.368162</td><td>0.394141</td><td>0.753103</td><td>0.970445</td><td>0.488772</td><td>0.300935</td><td>0.4077</td><td>0.147689</td><td>0.332845</td><td>0.759781</td><td>0.280839</td></tr><tr><th>7</th><td>0.316889</td><td>0.0158169</td><td>0.364496</td><td>0.506836</td><td>0.89823</td><td>0.0234474</td><td>0.862016</td><td>0.443777</td><td>0.761403</td><td>0.411127</td><td>0.62072</td><td>0.261861</td><td>0.204788</td><td>0.0613125</td><td>0.0802998</td><td>0.92124</td><td>0.439635</td><td>0.49084</td><td>0.976735</td></tr><tr><th>8</th><td>0.558646</td><td>0.730943</td><td>0.267209</td><td>0.679209</td><td>0.903464</td><td>0.491354</td><td>0.401884</td><td>0.414432</td><td>0.443621</td><td>0.895188</td><td>0.204415</td><td>0.466727</td><td>0.481289</td><td>0.654467</td><td>0.614662</td><td>0.791214</td><td>0.00829345</td><td>0.641154</td><td>0.493376</td></tr><tr><th>9</th><td>0.768379</td><td>0.880277</td><td>0.628593</td><td>0.619127</td><td>0.777861</td><td>0.442033</td><td>0.801788</td><td>0.64136</td><td>0.607006</td><td>0.219696</td><td>0.406148</td><td>0.967594</td><td>0.517552</td><td>0.862473</td><td>0.666879</td><td>0.713703</td><td>0.695816</td><td>0.182099</td><td>0.833874</td></tr><tr><th>10</th><td>0.177642</td><td>0.0513107</td><td>0.221894</td><td>0.089259</td><td>0.727725</td><td>0.164175</td><td>0.483483</td><td>0.775985</td><td>0.522092</td><td>0.733456</td><td>0.616819</td><td>0.693912</td><td>0.241367</td><td>0.985453</td><td>0.869485</td><td>0.0106348</td><td>0.219196</td><td>0.845455</td><td>0.0601673</td></tr><tr><th>&vellip;</th><td>&vellip;</td><td>&vellip;</td><td>&vellip;</td><td>&vellip;</td><td>&vellip;</td><td>&vellip;</td><td>&vellip;</td><td>&vellip;</td><td>&vellip;</td><td>&vellip;</td><td>&vellip;</td><td>&vellip;</td><td>&vellip;</td><td>&vellip;</td><td>&vellip;</td><td>&vellip;</td><td>&vellip;</td><td>&vellip;</td><td>&vellip;</td></tr></tbody></table></div>"
      ],
      "text/latex": [
       "\\begin{tabular}{r|cccccccccccccccccccc}\n",
       "\t& x1 & x2 & x3 & x4 & x5 & x6 & x7 & x8 & x9 & x10 & x11 & x12 & x13 & x14 & x15 & x16 & x17 & x18 & x19 & \\\\\n",
       "\t\\hline\n",
       "\t& Float64 & Float64 & Float64 & Float64 & Float64 & Float64 & Float64 & Float64 & Float64 & Float64 & Float64 & Float64 & Float64 & Float64 & Float64 & Float64 & Float64 & Float64 & Float64 & \\\\\n",
       "\t\\hline\n",
       "\t1 & 0.937537 & 0.434762 & 0.624101 & 0.330633 & 0.780235 & 0.966165 & 0.300685 & 0.196115 & 0.999093 & 0.490282 & 0.19984 & 0.950018 & 0.905897 & 0.164993 & 0.655526 & 0.475493 & 0.221768 & 0.611937 & 0.680317 & $\\dots$ \\\\\n",
       "\t2 & 0.316273 & 0.933712 & 0.297821 & 0.455944 & 0.135766 & 0.342949 & 0.676665 & 0.55228 & 0.456232 & 0.237123 & 0.458375 & 0.632109 & 0.877576 & 0.510561 & 0.00994217 & 0.465554 & 0.554434 & 0.783488 & 0.786656 & $\\dots$ \\\\\n",
       "\t3 & 0.704614 & 0.161441 & 0.93509 & 0.362899 & 0.78428 & 0.825509 & 0.935901 & 0.0804371 & 0.478275 & 0.96748 & 0.338668 & 0.121199 & 0.875487 & 0.163666 & 0.319268 & 0.317752 & 0.131977 & 0.271312 & 0.313141 & $\\dots$ \\\\\n",
       "\t4 & 0.871178 & 0.371284 & 0.105463 & 0.156164 & 0.280341 & 0.31227 & 0.0334978 & 0.12334 & 0.184612 & 0.724425 & 0.290446 & 0.00651331 & 0.0486466 & 0.440407 & 0.996949 & 0.182879 & 0.530507 & 0.885594 & 0.849986 & $\\dots$ \\\\\n",
       "\t5 & 0.0807914 & 0.89206 & 0.288906 & 0.278503 & 0.464292 & 0.0720536 & 0.685766 & 0.84284 & 0.903505 & 0.459453 & 0.0234239 & 0.588885 & 0.0362375 & 0.766705 & 0.69943 & 0.994435 & 0.686968 & 0.176177 & 0.51632 & $\\dots$ \\\\\n",
       "\t6 & 0.0850526 & 0.823181 & 0.541579 & 0.18709 & 0.113331 & 0.682002 & 0.119516 & 0.565451 & 0.368162 & 0.394141 & 0.753103 & 0.970445 & 0.488772 & 0.300935 & 0.4077 & 0.147689 & 0.332845 & 0.759781 & 0.280839 & $\\dots$ \\\\\n",
       "\t7 & 0.316889 & 0.0158169 & 0.364496 & 0.506836 & 0.89823 & 0.0234474 & 0.862016 & 0.443777 & 0.761403 & 0.411127 & 0.62072 & 0.261861 & 0.204788 & 0.0613125 & 0.0802998 & 0.92124 & 0.439635 & 0.49084 & 0.976735 & $\\dots$ \\\\\n",
       "\t8 & 0.558646 & 0.730943 & 0.267209 & 0.679209 & 0.903464 & 0.491354 & 0.401884 & 0.414432 & 0.443621 & 0.895188 & 0.204415 & 0.466727 & 0.481289 & 0.654467 & 0.614662 & 0.791214 & 0.00829345 & 0.641154 & 0.493376 & $\\dots$ \\\\\n",
       "\t9 & 0.768379 & 0.880277 & 0.628593 & 0.619127 & 0.777861 & 0.442033 & 0.801788 & 0.64136 & 0.607006 & 0.219696 & 0.406148 & 0.967594 & 0.517552 & 0.862473 & 0.666879 & 0.713703 & 0.695816 & 0.182099 & 0.833874 & $\\dots$ \\\\\n",
       "\t10 & 0.177642 & 0.0513107 & 0.221894 & 0.089259 & 0.727725 & 0.164175 & 0.483483 & 0.775985 & 0.522092 & 0.733456 & 0.616819 & 0.693912 & 0.241367 & 0.985453 & 0.869485 & 0.0106348 & 0.219196 & 0.845455 & 0.0601673 & $\\dots$ \\\\\n",
       "\t$\\dots$ & $\\dots$ & $\\dots$ & $\\dots$ & $\\dots$ & $\\dots$ & $\\dots$ & $\\dots$ & $\\dots$ & $\\dots$ & $\\dots$ & $\\dots$ & $\\dots$ & $\\dots$ & $\\dots$ & $\\dots$ & $\\dots$ & $\\dots$ & $\\dots$ & $\\dots$ &  \\\\\n",
       "\\end{tabular}\n"
      ],
      "text/plain": [
       "\u001b[1m100×100 DataFrame\u001b[0m\n",
       "\u001b[1m Row \u001b[0m│\u001b[1m x1       \u001b[0m\u001b[1m x2       \u001b[0m\u001b[1m x3        \u001b[0m\u001b[1m x4        \u001b[0m\u001b[1m x5       \u001b[0m\u001b[1m x6       \u001b[0m\u001b[1m x7        \u001b[0m\u001b[1m x8        \u001b[0m\u001b[1m x9       \u001b[0m\u001b[1m x10      \u001b[0m\u001b[1m x11       \u001b[0m\u001b[1m x12        \u001b[0m\u001b[1m x13       \u001b[0m\u001b[1m x14       \u001b[0m\u001b[1m x15        \u001b[0m\u001b[1m x16       \u001b[0m\u001b[1m x17      \u001b[0m\u001b[1m x18      \u001b[0m\u001b[1m\u001b[0m ⋯\n",
       "\u001b[1m     \u001b[0m│\u001b[90m Float64  \u001b[0m\u001b[90m Float64  \u001b[0m\u001b[90m Float64   \u001b[0m\u001b[90m Float64   \u001b[0m\u001b[90m Float64  \u001b[0m\u001b[90m Float64  \u001b[0m\u001b[90m Float64   \u001b[0m\u001b[90m Float64   \u001b[0m\u001b[90m Float64  \u001b[0m\u001b[90m Float64  \u001b[0m\u001b[90m Float64   \u001b[0m\u001b[90m Float64    \u001b[0m\u001b[90m Float64   \u001b[0m\u001b[90m Float64   \u001b[0m\u001b[90m Float64    \u001b[0m\u001b[90m Float64   \u001b[0m\u001b[90m Float64  \u001b[0m\u001b[90m Float64  \u001b[0m\u001b[90m\u001b[0m ⋯\n",
       "─────┼──────────────────────────────────────────────────────────────────────────────────────────────────────────────────────────────────────────────────────────────────────────────────────────────────\n",
       "   1 │ 0.937537  0.434762  0.624101   0.330633   0.780235  0.966165  0.300685   0.196115   0.999093  0.490282  0.19984    0.950018    0.905897   0.164993   0.655526    0.475493   0.221768  0.611937  ⋯\n",
       "  ⋮  │    ⋮         ⋮          ⋮          ⋮         ⋮         ⋮          ⋮          ⋮         ⋮         ⋮          ⋮          ⋮           ⋮          ⋮          ⋮           ⋮         ⋮         ⋮      ⋱\n",
       "\u001b[36m                                                                                                                                                                          82 columns and 99 rows omitted\u001b[0m"
      ]
     },
     "execution_count": 19,
     "metadata": {},
     "output_type": "execute_result"
    }
   ],
   "source": [
    "df"
   ]
  },
  {
   "cell_type": "markdown",
   "metadata": {},
   "source": [
    "### Most elementary get and set operations\n",
    "\n",
    "Given the `DataFrame` `x` we have created earlier, here are various ways to grab one of its columns as a `Vector`."
   ]
  },
  {
   "cell_type": "code",
   "execution_count": 20,
   "metadata": {},
   "outputs": [
    {
     "data": {
      "text/html": [
       "<div class=\"data-frame\"><p>2 rows × 3 columns</p><table class=\"data-frame\"><thead><tr><th></th><th>A</th><th>B</th><th>C</th></tr><tr><th></th><th title=\"Int64\">Int64</th><th title=\"Union{Missing, Float64}\">Float64?</th><th title=\"String\">String</th></tr></thead><tbody><tr><th>1</th><td>1</td><td>1.0</td><td>a</td></tr><tr><th>2</th><td>2</td><td><em>missing</em></td><td>b</td></tr></tbody></table></div>"
      ],
      "text/latex": [
       "\\begin{tabular}{r|ccc}\n",
       "\t& A & B & C\\\\\n",
       "\t\\hline\n",
       "\t& Int64 & Float64? & String\\\\\n",
       "\t\\hline\n",
       "\t1 & 1 & 1.0 & a \\\\\n",
       "\t2 & 2 & \\emph{missing} & b \\\\\n",
       "\\end{tabular}\n"
      ],
      "text/plain": [
       "\u001b[1m2×3 DataFrame\u001b[0m\n",
       "\u001b[1m Row \u001b[0m│\u001b[1m A     \u001b[0m\u001b[1m B         \u001b[0m\u001b[1m C      \u001b[0m\n",
       "\u001b[1m     \u001b[0m│\u001b[90m Int64 \u001b[0m\u001b[90m Float64?  \u001b[0m\u001b[90m String \u001b[0m\n",
       "─────┼──────────────────────────\n",
       "   1 │     1        1.0  a\n",
       "   2 │     2 \u001b[90m missing   \u001b[0m b"
      ]
     },
     "execution_count": 20,
     "metadata": {},
     "output_type": "execute_result"
    }
   ],
   "source": [
    "x"
   ]
  },
  {
   "cell_type": "code",
   "execution_count": 21,
   "metadata": {},
   "outputs": [
    {
     "data": {
      "text/plain": [
       "([1, 2], [1, 2], [1, 2])"
      ]
     },
     "execution_count": 21,
     "metadata": {},
     "output_type": "execute_result"
    }
   ],
   "source": [
    "x.A, x[!, 1], x[!, :A] # all get the vector stored in our DataFrame without copying it"
   ]
  },
  {
   "cell_type": "code",
   "execution_count": 22,
   "metadata": {},
   "outputs": [
    {
     "data": {
      "text/plain": [
       "([1, 2], [1, 2])"
      ]
     },
     "execution_count": 22,
     "metadata": {},
     "output_type": "execute_result"
    }
   ],
   "source": [
    "x.\"A\", x[!, \"A\"] # the same using string indexing"
   ]
  },
  {
   "cell_type": "code",
   "execution_count": 23,
   "metadata": {},
   "outputs": [
    {
     "data": {
      "text/plain": [
       "2-element Vector{Int64}:\n",
       " 1\n",
       " 2"
      ]
     },
     "execution_count": 23,
     "metadata": {},
     "output_type": "execute_result"
    }
   ],
   "source": [
    "x[:, 1] # note that this creates a copy"
   ]
  },
  {
   "cell_type": "code",
   "execution_count": 24,
   "metadata": {},
   "outputs": [
    {
     "data": {
      "text/plain": [
       "false"
      ]
     },
     "execution_count": 24,
     "metadata": {},
     "output_type": "execute_result"
    }
   ],
   "source": [
    "x[:, 1] === x[:, 1]"
   ]
  },
  {
   "cell_type": "markdown",
   "metadata": {},
   "source": [
    "To grab one row as a `DataFrame`, we can index as follows."
   ]
  },
  {
   "cell_type": "code",
   "execution_count": 25,
   "metadata": {},
   "outputs": [
    {
     "data": {
      "text/html": [
       "<div class=\"data-frame\"><p>1 rows × 3 columns</p><table class=\"data-frame\"><thead><tr><th></th><th>A</th><th>B</th><th>C</th></tr><tr><th></th><th title=\"Int64\">Int64</th><th title=\"Union{Missing, Float64}\">Float64?</th><th title=\"String\">String</th></tr></thead><tbody><tr><th>1</th><td>1</td><td>1.0</td><td>a</td></tr></tbody></table></div>"
      ],
      "text/latex": [
       "\\begin{tabular}{r|ccc}\n",
       "\t& A & B & C\\\\\n",
       "\t\\hline\n",
       "\t& Int64 & Float64? & String\\\\\n",
       "\t\\hline\n",
       "\t1 & 1 & 1.0 & a \\\\\n",
       "\\end{tabular}\n"
      ],
      "text/plain": [
       "\u001b[1m1×3 DataFrame\u001b[0m\n",
       "\u001b[1m Row \u001b[0m│\u001b[1m A     \u001b[0m\u001b[1m B        \u001b[0m\u001b[1m C      \u001b[0m\n",
       "\u001b[1m     \u001b[0m│\u001b[90m Int64 \u001b[0m\u001b[90m Float64? \u001b[0m\u001b[90m String \u001b[0m\n",
       "─────┼─────────────────────────\n",
       "   1 │     1       1.0  a"
      ]
     },
     "execution_count": 25,
     "metadata": {},
     "output_type": "execute_result"
    }
   ],
   "source": [
    "x[1:1, :]"
   ]
  },
  {
   "cell_type": "code",
   "execution_count": 26,
   "metadata": {},
   "outputs": [
    {
     "data": {
      "text/html": [
       "<p>DataFrameRow (3 columns)</p><div class=\"data-frame\"><table class=\"data-frame\"><thead><tr><th></th><th>A</th><th>B</th><th>C</th></tr><tr><th></th><th title=\"Int64\">Int64</th><th title=\"Union{Missing, Float64}\">Float64?</th><th title=\"String\">String</th></tr></thead><tbody><tr><th>1</th><td>1</td><td>1.0</td><td>a</td></tr></tbody></table></div>"
      ],
      "text/latex": [
       "\\begin{tabular}{r|ccc}\n",
       "\t& A & B & C\\\\\n",
       "\t\\hline\n",
       "\t& Int64 & Float64? & String\\\\\n",
       "\t\\hline\n",
       "\t1 & 1 & 1.0 & a \\\\\n",
       "\\end{tabular}\n"
      ],
      "text/plain": [
       "\u001b[1mDataFrameRow\u001b[0m\n",
       "\u001b[1m Row \u001b[0m│\u001b[1m A     \u001b[0m\u001b[1m B        \u001b[0m\u001b[1m C      \u001b[0m\n",
       "\u001b[1m     \u001b[0m│\u001b[90m Int64 \u001b[0m\u001b[90m Float64? \u001b[0m\u001b[90m String \u001b[0m\n",
       "─────┼─────────────────────────\n",
       "   1 │     1       1.0  a"
      ]
     },
     "execution_count": 26,
     "metadata": {},
     "output_type": "execute_result"
    }
   ],
   "source": [
    "x[1, :] # this produces a DataFrameRow which is treated as 1-dimensional object similar to a NamedTuple"
   ]
  },
  {
   "cell_type": "markdown",
   "metadata": {},
   "source": [
    "We can grab a single cell or element with the same syntax to grab an element of an array."
   ]
  },
  {
   "cell_type": "code",
   "execution_count": 27,
   "metadata": {},
   "outputs": [
    {
     "data": {
      "text/plain": [
       "1"
      ]
     },
     "execution_count": 27,
     "metadata": {},
     "output_type": "execute_result"
    }
   ],
   "source": [
    "x[1, 1]"
   ]
  },
  {
   "cell_type": "markdown",
   "metadata": {},
   "source": [
    "or a new `DataFrame` that is a subset of rows and columns"
   ]
  },
  {
   "cell_type": "code",
   "execution_count": 28,
   "metadata": {},
   "outputs": [
    {
     "data": {
      "text/html": [
       "<div class=\"data-frame\"><p>2 rows × 2 columns</p><table class=\"data-frame\"><thead><tr><th></th><th>A</th><th>B</th></tr><tr><th></th><th title=\"Int64\">Int64</th><th title=\"Union{Missing, Float64}\">Float64?</th></tr></thead><tbody><tr><th>1</th><td>1</td><td>1.0</td></tr><tr><th>2</th><td>2</td><td><em>missing</em></td></tr></tbody></table></div>"
      ],
      "text/latex": [
       "\\begin{tabular}{r|cc}\n",
       "\t& A & B\\\\\n",
       "\t\\hline\n",
       "\t& Int64 & Float64?\\\\\n",
       "\t\\hline\n",
       "\t1 & 1 & 1.0 \\\\\n",
       "\t2 & 2 & \\emph{missing} \\\\\n",
       "\\end{tabular}\n"
      ],
      "text/plain": [
       "\u001b[1m2×2 DataFrame\u001b[0m\n",
       "\u001b[1m Row \u001b[0m│\u001b[1m A     \u001b[0m\u001b[1m B         \u001b[0m\n",
       "\u001b[1m     \u001b[0m│\u001b[90m Int64 \u001b[0m\u001b[90m Float64?  \u001b[0m\n",
       "─────┼──────────────────\n",
       "   1 │     1        1.0\n",
       "   2 │     2 \u001b[90m missing   \u001b[0m"
      ]
     },
     "execution_count": 28,
     "metadata": {},
     "output_type": "execute_result"
    }
   ],
   "source": [
    "x[1:2, 1:2]"
   ]
  },
  {
   "cell_type": "markdown",
   "metadata": {},
   "source": [
    "You can also use `Regex` to select columns and `Not` from InvertedIndices.jl both to select rows and columns"
   ]
  },
  {
   "cell_type": "code",
   "execution_count": 29,
   "metadata": {},
   "outputs": [
    {
     "data": {
      "text/html": [
       "<div class=\"data-frame\"><p>1 rows × 1 columns</p><table class=\"data-frame\"><thead><tr><th></th><th>A</th></tr><tr><th></th><th title=\"Int64\">Int64</th></tr></thead><tbody><tr><th>1</th><td>2</td></tr></tbody></table></div>"
      ],
      "text/latex": [
       "\\begin{tabular}{r|c}\n",
       "\t& A\\\\\n",
       "\t\\hline\n",
       "\t& Int64\\\\\n",
       "\t\\hline\n",
       "\t1 & 2 \\\\\n",
       "\\end{tabular}\n"
      ],
      "text/plain": [
       "\u001b[1m1×1 DataFrame\u001b[0m\n",
       "\u001b[1m Row \u001b[0m│\u001b[1m A     \u001b[0m\n",
       "\u001b[1m     \u001b[0m│\u001b[90m Int64 \u001b[0m\n",
       "─────┼───────\n",
       "   1 │     2"
      ]
     },
     "execution_count": 29,
     "metadata": {},
     "output_type": "execute_result"
    }
   ],
   "source": [
    "x[Not(1), r\"A\"]"
   ]
  },
  {
   "cell_type": "code",
   "execution_count": 30,
   "metadata": {},
   "outputs": [
    {
     "data": {
      "text/html": [
       "<div class=\"data-frame\"><p>2 rows × 2 columns</p><table class=\"data-frame\"><thead><tr><th></th><th>B</th><th>C</th></tr><tr><th></th><th title=\"Union{Missing, Float64}\">Float64?</th><th title=\"String\">String</th></tr></thead><tbody><tr><th>1</th><td>1.0</td><td>a</td></tr><tr><th>2</th><td><em>missing</em></td><td>b</td></tr></tbody></table></div>"
      ],
      "text/latex": [
       "\\begin{tabular}{r|cc}\n",
       "\t& B & C\\\\\n",
       "\t\\hline\n",
       "\t& Float64? & String\\\\\n",
       "\t\\hline\n",
       "\t1 & 1.0 & a \\\\\n",
       "\t2 & \\emph{missing} & b \\\\\n",
       "\\end{tabular}\n"
      ],
      "text/plain": [
       "\u001b[1m2×2 DataFrame\u001b[0m\n",
       "\u001b[1m Row \u001b[0m│\u001b[1m B         \u001b[0m\u001b[1m C      \u001b[0m\n",
       "\u001b[1m     \u001b[0m│\u001b[90m Float64?  \u001b[0m\u001b[90m String \u001b[0m\n",
       "─────┼───────────────────\n",
       "   1 │       1.0  a\n",
       "   2 │\u001b[90m missing   \u001b[0m b"
      ]
     },
     "execution_count": 30,
     "metadata": {},
     "output_type": "execute_result"
    }
   ],
   "source": [
    "x[!, Not(1)] # ! indicates that underlying columns are not copied"
   ]
  },
  {
   "cell_type": "code",
   "execution_count": 31,
   "metadata": {},
   "outputs": [
    {
     "data": {
      "text/html": [
       "<div class=\"data-frame\"><p>2 rows × 2 columns</p><table class=\"data-frame\"><thead><tr><th></th><th>B</th><th>C</th></tr><tr><th></th><th title=\"Union{Missing, Float64}\">Float64?</th><th title=\"String\">String</th></tr></thead><tbody><tr><th>1</th><td>1.0</td><td>a</td></tr><tr><th>2</th><td><em>missing</em></td><td>b</td></tr></tbody></table></div>"
      ],
      "text/latex": [
       "\\begin{tabular}{r|cc}\n",
       "\t& B & C\\\\\n",
       "\t\\hline\n",
       "\t& Float64? & String\\\\\n",
       "\t\\hline\n",
       "\t1 & 1.0 & a \\\\\n",
       "\t2 & \\emph{missing} & b \\\\\n",
       "\\end{tabular}\n"
      ],
      "text/plain": [
       "\u001b[1m2×2 DataFrame\u001b[0m\n",
       "\u001b[1m Row \u001b[0m│\u001b[1m B         \u001b[0m\u001b[1m C      \u001b[0m\n",
       "\u001b[1m     \u001b[0m│\u001b[90m Float64?  \u001b[0m\u001b[90m String \u001b[0m\n",
       "─────┼───────────────────\n",
       "   1 │       1.0  a\n",
       "   2 │\u001b[90m missing   \u001b[0m b"
      ]
     },
     "execution_count": 31,
     "metadata": {},
     "output_type": "execute_result"
    }
   ],
   "source": [
    "x[:, Not(1)] # : means that the columns will get copied"
   ]
  },
  {
   "cell_type": "markdown",
   "metadata": {},
   "source": [
    "Assignment of a scalar to a data frame can be done in ranges using broadcasting:"
   ]
  },
  {
   "cell_type": "code",
   "execution_count": 32,
   "metadata": {},
   "outputs": [
    {
     "data": {
      "text/html": [
       "<div class=\"data-frame\"><p>2 rows × 3 columns</p><table class=\"data-frame\"><thead><tr><th></th><th>A</th><th>B</th><th>C</th></tr><tr><th></th><th title=\"Int64\">Int64</th><th title=\"Union{Missing, Float64}\">Float64?</th><th title=\"String\">String</th></tr></thead><tbody><tr><th>1</th><td>1</td><td>1.0</td><td>a</td></tr><tr><th>2</th><td>1</td><td>1.0</td><td>b</td></tr></tbody></table></div>"
      ],
      "text/latex": [
       "\\begin{tabular}{r|ccc}\n",
       "\t& A & B & C\\\\\n",
       "\t\\hline\n",
       "\t& Int64 & Float64? & String\\\\\n",
       "\t\\hline\n",
       "\t1 & 1 & 1.0 & a \\\\\n",
       "\t2 & 1 & 1.0 & b \\\\\n",
       "\\end{tabular}\n"
      ],
      "text/plain": [
       "\u001b[1m2×3 DataFrame\u001b[0m\n",
       "\u001b[1m Row \u001b[0m│\u001b[1m A     \u001b[0m\u001b[1m B        \u001b[0m\u001b[1m C      \u001b[0m\n",
       "\u001b[1m     \u001b[0m│\u001b[90m Int64 \u001b[0m\u001b[90m Float64? \u001b[0m\u001b[90m String \u001b[0m\n",
       "─────┼─────────────────────────\n",
       "   1 │     1       1.0  a\n",
       "   2 │     1       1.0  b"
      ]
     },
     "execution_count": 32,
     "metadata": {},
     "output_type": "execute_result"
    }
   ],
   "source": [
    "x[1:2, 1:2] .= 1\n",
    "x"
   ]
  },
  {
   "cell_type": "markdown",
   "metadata": {},
   "source": [
    "Assignment of a vector of length equal to the number of assigned rows using broadcasting"
   ]
  },
  {
   "cell_type": "code",
   "execution_count": 33,
   "metadata": {},
   "outputs": [
    {
     "data": {
      "text/html": [
       "<div class=\"data-frame\"><p>2 rows × 3 columns</p><table class=\"data-frame\"><thead><tr><th></th><th>A</th><th>B</th><th>C</th></tr><tr><th></th><th title=\"Int64\">Int64</th><th title=\"Union{Missing, Float64}\">Float64?</th><th title=\"String\">String</th></tr></thead><tbody><tr><th>1</th><td>1</td><td>1.0</td><td>a</td></tr><tr><th>2</th><td>2</td><td>2.0</td><td>b</td></tr></tbody></table></div>"
      ],
      "text/latex": [
       "\\begin{tabular}{r|ccc}\n",
       "\t& A & B & C\\\\\n",
       "\t\\hline\n",
       "\t& Int64 & Float64? & String\\\\\n",
       "\t\\hline\n",
       "\t1 & 1 & 1.0 & a \\\\\n",
       "\t2 & 2 & 2.0 & b \\\\\n",
       "\\end{tabular}\n"
      ],
      "text/plain": [
       "\u001b[1m2×3 DataFrame\u001b[0m\n",
       "\u001b[1m Row \u001b[0m│\u001b[1m A     \u001b[0m\u001b[1m B        \u001b[0m\u001b[1m C      \u001b[0m\n",
       "\u001b[1m     \u001b[0m│\u001b[90m Int64 \u001b[0m\u001b[90m Float64? \u001b[0m\u001b[90m String \u001b[0m\n",
       "─────┼─────────────────────────\n",
       "   1 │     1       1.0  a\n",
       "   2 │     2       2.0  b"
      ]
     },
     "execution_count": 33,
     "metadata": {},
     "output_type": "execute_result"
    }
   ],
   "source": [
    "x[1:2, 1:2] .= [1,2]\n",
    "x"
   ]
  },
  {
   "cell_type": "markdown",
   "metadata": {},
   "source": [
    "Assignment or of another data frame of matching size and column names, again using broadcasting:"
   ]
  },
  {
   "cell_type": "code",
   "execution_count": 34,
   "metadata": {},
   "outputs": [
    {
     "data": {
      "text/html": [
       "<div class=\"data-frame\"><p>2 rows × 3 columns</p><table class=\"data-frame\"><thead><tr><th></th><th>A</th><th>B</th><th>C</th></tr><tr><th></th><th title=\"Int64\">Int64</th><th title=\"Union{Missing, Float64}\">Float64?</th><th title=\"String\">String</th></tr></thead><tbody><tr><th>1</th><td>5</td><td>6.0</td><td>a</td></tr><tr><th>2</th><td>7</td><td>8.0</td><td>b</td></tr></tbody></table></div>"
      ],
      "text/latex": [
       "\\begin{tabular}{r|ccc}\n",
       "\t& A & B & C\\\\\n",
       "\t\\hline\n",
       "\t& Int64 & Float64? & String\\\\\n",
       "\t\\hline\n",
       "\t1 & 5 & 6.0 & a \\\\\n",
       "\t2 & 7 & 8.0 & b \\\\\n",
       "\\end{tabular}\n"
      ],
      "text/plain": [
       "\u001b[1m2×3 DataFrame\u001b[0m\n",
       "\u001b[1m Row \u001b[0m│\u001b[1m A     \u001b[0m\u001b[1m B        \u001b[0m\u001b[1m C      \u001b[0m\n",
       "\u001b[1m     \u001b[0m│\u001b[90m Int64 \u001b[0m\u001b[90m Float64? \u001b[0m\u001b[90m String \u001b[0m\n",
       "─────┼─────────────────────────\n",
       "   1 │     5       6.0  a\n",
       "   2 │     7       8.0  b"
      ]
     },
     "execution_count": 34,
     "metadata": {},
     "output_type": "execute_result"
    }
   ],
   "source": [
    "x[1:2, 1:2] .= DataFrame([5 6; 7 8], [:A, :B])\n",
    "x"
   ]
  },
  {
   "cell_type": "markdown",
   "metadata": {},
   "source": [
    "**Caution**\n",
    "\n",
    "With `df[!, :col]` and `df.col` syntax you get a direct (non copying) access to a column of a data frame.\n",
    "This is potentially unsafe as you can easily corrupt data in the `df` data frame if you resize, sort, etc. the column obtained in this way.\n",
    "Therefore such access should be used with caution.\n",
    "\n",
    "Similarly `df[!, cols]` when `cols` is a collection of columns produces a new data frame that holds the same (not copied) columns as the source `df` data frame. Similarly, modifying the data frame obtained via `df[!, cols]` might cause problems with the consistency of `df`.\n",
    "\n",
    "The `df[:, :col]` and `df[:, cols]` syntaxes always copy columns so they are safe to use (and should generally be preferred except for performance or memory critical use cases)."
   ]
  },
  {
   "cell_type": "markdown",
   "metadata": {},
   "source": [
    "Here are examples of how `Cols` and `Between` can be used to select columns of a data frame."
   ]
  },
  {
   "cell_type": "code",
   "execution_count": 35,
   "metadata": {},
   "outputs": [
    {
     "data": {
      "text/html": [
       "<div class=\"data-frame\"><p>4 rows × 5 columns</p><table class=\"data-frame\"><thead><tr><th></th><th>x1</th><th>x2</th><th>x3</th><th>x4</th><th>x5</th></tr><tr><th></th><th title=\"Float64\">Float64</th><th title=\"Float64\">Float64</th><th title=\"Float64\">Float64</th><th title=\"Float64\">Float64</th><th title=\"Float64\">Float64</th></tr></thead><tbody><tr><th>1</th><td>0.691577</td><td>0.52603</td><td>0.895686</td><td>0.0981766</td><td>0.20148</td></tr><tr><th>2</th><td>0.372255</td><td>0.696497</td><td>0.729393</td><td>0.50415</td><td>0.422465</td></tr><tr><th>3</th><td>0.856247</td><td>0.150694</td><td>0.318079</td><td>0.613301</td><td>0.862029</td></tr><tr><th>4</th><td>0.628479</td><td>0.122975</td><td>0.0826925</td><td>0.615152</td><td>0.498344</td></tr></tbody></table></div>"
      ],
      "text/latex": [
       "\\begin{tabular}{r|ccccc}\n",
       "\t& x1 & x2 & x3 & x4 & x5\\\\\n",
       "\t\\hline\n",
       "\t& Float64 & Float64 & Float64 & Float64 & Float64\\\\\n",
       "\t\\hline\n",
       "\t1 & 0.691577 & 0.52603 & 0.895686 & 0.0981766 & 0.20148 \\\\\n",
       "\t2 & 0.372255 & 0.696497 & 0.729393 & 0.50415 & 0.422465 \\\\\n",
       "\t3 & 0.856247 & 0.150694 & 0.318079 & 0.613301 & 0.862029 \\\\\n",
       "\t4 & 0.628479 & 0.122975 & 0.0826925 & 0.615152 & 0.498344 \\\\\n",
       "\\end{tabular}\n"
      ],
      "text/plain": [
       "\u001b[1m4×5 DataFrame\u001b[0m\n",
       "\u001b[1m Row \u001b[0m│\u001b[1m x1       \u001b[0m\u001b[1m x2       \u001b[0m\u001b[1m x3        \u001b[0m\u001b[1m x4        \u001b[0m\u001b[1m x5       \u001b[0m\n",
       "\u001b[1m     \u001b[0m│\u001b[90m Float64  \u001b[0m\u001b[90m Float64  \u001b[0m\u001b[90m Float64   \u001b[0m\u001b[90m Float64   \u001b[0m\u001b[90m Float64  \u001b[0m\n",
       "─────┼────────────────────────────────────────────────────\n",
       "   1 │ 0.691577  0.52603   0.895686   0.0981766  0.20148\n",
       "  ⋮  │    ⋮         ⋮          ⋮          ⋮         ⋮\n",
       "\u001b[36m                                            3 rows omitted\u001b[0m"
      ]
     },
     "execution_count": 35,
     "metadata": {},
     "output_type": "execute_result"
    }
   ],
   "source": [
    "x = DataFrame(rand(4, 5), :auto)"
   ]
  },
  {
   "cell_type": "code",
   "execution_count": 36,
   "metadata": {},
   "outputs": [
    {
     "data": {
      "text/html": [
       "<div class=\"data-frame\"><p>4 rows × 3 columns</p><table class=\"data-frame\"><thead><tr><th></th><th>x2</th><th>x3</th><th>x4</th></tr><tr><th></th><th title=\"Float64\">Float64</th><th title=\"Float64\">Float64</th><th title=\"Float64\">Float64</th></tr></thead><tbody><tr><th>1</th><td>0.52603</td><td>0.895686</td><td>0.0981766</td></tr><tr><th>2</th><td>0.696497</td><td>0.729393</td><td>0.50415</td></tr><tr><th>3</th><td>0.150694</td><td>0.318079</td><td>0.613301</td></tr><tr><th>4</th><td>0.122975</td><td>0.0826925</td><td>0.615152</td></tr></tbody></table></div>"
      ],
      "text/latex": [
       "\\begin{tabular}{r|ccc}\n",
       "\t& x2 & x3 & x4\\\\\n",
       "\t\\hline\n",
       "\t& Float64 & Float64 & Float64\\\\\n",
       "\t\\hline\n",
       "\t1 & 0.52603 & 0.895686 & 0.0981766 \\\\\n",
       "\t2 & 0.696497 & 0.729393 & 0.50415 \\\\\n",
       "\t3 & 0.150694 & 0.318079 & 0.613301 \\\\\n",
       "\t4 & 0.122975 & 0.0826925 & 0.615152 \\\\\n",
       "\\end{tabular}\n"
      ],
      "text/plain": [
       "\u001b[1m4×3 DataFrame\u001b[0m\n",
       "\u001b[1m Row \u001b[0m│\u001b[1m x2       \u001b[0m\u001b[1m x3        \u001b[0m\u001b[1m x4        \u001b[0m\n",
       "\u001b[1m     \u001b[0m│\u001b[90m Float64  \u001b[0m\u001b[90m Float64   \u001b[0m\u001b[90m Float64   \u001b[0m\n",
       "─────┼────────────────────────────────\n",
       "   1 │ 0.52603   0.895686   0.0981766\n",
       "  ⋮  │    ⋮          ⋮          ⋮\n",
       "\u001b[36m                        3 rows omitted\u001b[0m"
      ]
     },
     "execution_count": 36,
     "metadata": {},
     "output_type": "execute_result"
    }
   ],
   "source": [
    "x[:, Between(:x2, :x4)]"
   ]
  },
  {
   "cell_type": "code",
   "execution_count": 37,
   "metadata": {},
   "outputs": [
    {
     "data": {
      "text/html": [
       "<div class=\"data-frame\"><p>4 rows × 4 columns</p><table class=\"data-frame\"><thead><tr><th></th><th>x1</th><th>x2</th><th>x3</th><th>x4</th></tr><tr><th></th><th title=\"Float64\">Float64</th><th title=\"Float64\">Float64</th><th title=\"Float64\">Float64</th><th title=\"Float64\">Float64</th></tr></thead><tbody><tr><th>1</th><td>0.691577</td><td>0.52603</td><td>0.895686</td><td>0.0981766</td></tr><tr><th>2</th><td>0.372255</td><td>0.696497</td><td>0.729393</td><td>0.50415</td></tr><tr><th>3</th><td>0.856247</td><td>0.150694</td><td>0.318079</td><td>0.613301</td></tr><tr><th>4</th><td>0.628479</td><td>0.122975</td><td>0.0826925</td><td>0.615152</td></tr></tbody></table></div>"
      ],
      "text/latex": [
       "\\begin{tabular}{r|cccc}\n",
       "\t& x1 & x2 & x3 & x4\\\\\n",
       "\t\\hline\n",
       "\t& Float64 & Float64 & Float64 & Float64\\\\\n",
       "\t\\hline\n",
       "\t1 & 0.691577 & 0.52603 & 0.895686 & 0.0981766 \\\\\n",
       "\t2 & 0.372255 & 0.696497 & 0.729393 & 0.50415 \\\\\n",
       "\t3 & 0.856247 & 0.150694 & 0.318079 & 0.613301 \\\\\n",
       "\t4 & 0.628479 & 0.122975 & 0.0826925 & 0.615152 \\\\\n",
       "\\end{tabular}\n"
      ],
      "text/plain": [
       "\u001b[1m4×4 DataFrame\u001b[0m\n",
       "\u001b[1m Row \u001b[0m│\u001b[1m x1       \u001b[0m\u001b[1m x2       \u001b[0m\u001b[1m x3        \u001b[0m\u001b[1m x4        \u001b[0m\n",
       "\u001b[1m     \u001b[0m│\u001b[90m Float64  \u001b[0m\u001b[90m Float64  \u001b[0m\u001b[90m Float64   \u001b[0m\u001b[90m Float64   \u001b[0m\n",
       "─────┼──────────────────────────────────────────\n",
       "   1 │ 0.691577  0.52603   0.895686   0.0981766\n",
       "  ⋮  │    ⋮         ⋮          ⋮          ⋮\n",
       "\u001b[36m                                  3 rows omitted\u001b[0m"
      ]
     },
     "execution_count": 37,
     "metadata": {},
     "output_type": "execute_result"
    }
   ],
   "source": [
    "x[:, Cols(\"x1\", Between(\"x2\", \"x4\"))]"
   ]
  },
  {
   "cell_type": "markdown",
   "metadata": {},
   "source": [
    "### Views"
   ]
  },
  {
   "cell_type": "markdown",
   "metadata": {},
   "source": [
    "You can simply create a view of a `DataFrame` (it is more efficient than creating a materialized selection). Here are the possible return value options."
   ]
  },
  {
   "cell_type": "code",
   "execution_count": 38,
   "metadata": {},
   "outputs": [
    {
     "data": {
      "text/plain": [
       "2-element view(::Vector{Float64}, 1:2) with eltype Float64:\n",
       " 0.6915767270073034\n",
       " 0.37225450151199246"
      ]
     },
     "execution_count": 38,
     "metadata": {},
     "output_type": "execute_result"
    }
   ],
   "source": [
    "@view x[1:2, 1]"
   ]
  },
  {
   "cell_type": "code",
   "execution_count": 39,
   "metadata": {},
   "outputs": [
    {
     "data": {
      "text/plain": [
       "0-dimensional view(::Vector{Float64}, 1) with eltype Float64:\n",
       "0.6915767270073034"
      ]
     },
     "execution_count": 39,
     "metadata": {},
     "output_type": "execute_result"
    }
   ],
   "source": [
    "@view x[1,1]"
   ]
  },
  {
   "cell_type": "code",
   "execution_count": 40,
   "metadata": {},
   "outputs": [
    {
     "data": {
      "text/html": [
       "<p>DataFrameRow (2 columns)</p><div class=\"data-frame\"><table class=\"data-frame\"><thead><tr><th></th><th>x1</th><th>x2</th></tr><tr><th></th><th title=\"Float64\">Float64</th><th title=\"Float64\">Float64</th></tr></thead><tbody><tr><th>1</th><td>0.691577</td><td>0.52603</td></tr></tbody></table></div>"
      ],
      "text/latex": [
       "\\begin{tabular}{r|cc}\n",
       "\t& x1 & x2\\\\\n",
       "\t\\hline\n",
       "\t& Float64 & Float64\\\\\n",
       "\t\\hline\n",
       "\t1 & 0.691577 & 0.52603 \\\\\n",
       "\\end{tabular}\n"
      ],
      "text/plain": [
       "\u001b[1mDataFrameRow\u001b[0m\n",
       "\u001b[1m Row \u001b[0m│\u001b[1m x1       \u001b[0m\u001b[1m x2      \u001b[0m\n",
       "\u001b[1m     \u001b[0m│\u001b[90m Float64  \u001b[0m\u001b[90m Float64 \u001b[0m\n",
       "─────┼───────────────────\n",
       "   1 │ 0.691577  0.52603"
      ]
     },
     "execution_count": 40,
     "metadata": {},
     "output_type": "execute_result"
    }
   ],
   "source": [
    "@view x[1, 1:2] # a DataFrameRow, the same as for x[1, 1:2] without a view"
   ]
  },
  {
   "cell_type": "code",
   "execution_count": 41,
   "metadata": {},
   "outputs": [
    {
     "data": {
      "text/html": [
       "<div class=\"data-frame\"><p>2 rows × 2 columns</p><table class=\"data-frame\"><thead><tr><th></th><th>x1</th><th>x2</th></tr><tr><th></th><th title=\"Float64\">Float64</th><th title=\"Float64\">Float64</th></tr></thead><tbody><tr><th>1</th><td>0.691577</td><td>0.52603</td></tr><tr><th>2</th><td>0.372255</td><td>0.696497</td></tr></tbody></table></div>"
      ],
      "text/latex": [
       "\\begin{tabular}{r|cc}\n",
       "\t& x1 & x2\\\\\n",
       "\t\\hline\n",
       "\t& Float64 & Float64\\\\\n",
       "\t\\hline\n",
       "\t1 & 0.691577 & 0.52603 \\\\\n",
       "\t2 & 0.372255 & 0.696497 \\\\\n",
       "\\end{tabular}\n"
      ],
      "text/plain": [
       "\u001b[1m2×2 SubDataFrame\u001b[0m\n",
       "\u001b[1m Row \u001b[0m│\u001b[1m x1       \u001b[0m\u001b[1m x2       \u001b[0m\n",
       "\u001b[1m     \u001b[0m│\u001b[90m Float64  \u001b[0m\u001b[90m Float64  \u001b[0m\n",
       "─────┼────────────────────\n",
       "   1 │ 0.691577  0.52603\n",
       "   2 │ 0.372255  0.696497"
      ]
     },
     "execution_count": 41,
     "metadata": {},
     "output_type": "execute_result"
    }
   ],
   "source": [
    "@view x[1:2, 1:2] # a SubDataFrame"
   ]
  },
  {
   "cell_type": "markdown",
   "metadata": {},
   "source": [
    "### Adding new columns to a data frame"
   ]
  },
  {
   "cell_type": "code",
   "execution_count": 42,
   "metadata": {},
   "outputs": [
    {
     "data": {
      "text/html": [
       "<div class=\"data-frame\"><p>0 rows × 0 columns</p><table class=\"data-frame\"><thead><tr><th></th></tr><tr><th></th></tr></thead><tbody></tbody></table></div>"
      ],
      "text/latex": [
       "\\begin{tabular}{r|}\n",
       "\t& \\\\\n",
       "\t\\hline\n",
       "\t& \\\\\n",
       "\t\\hline\n",
       "\\end{tabular}\n"
      ],
      "text/plain": [
       "\u001b[1m0×0 DataFrame\u001b[0m"
      ]
     },
     "execution_count": 42,
     "metadata": {},
     "output_type": "execute_result"
    }
   ],
   "source": [
    "df = DataFrame()"
   ]
  },
  {
   "cell_type": "markdown",
   "metadata": {},
   "source": [
    "using `setproperty!`"
   ]
  },
  {
   "cell_type": "code",
   "execution_count": 43,
   "metadata": {},
   "outputs": [
    {
     "data": {
      "text/html": [
       "<div class=\"data-frame\"><p>3 rows × 1 columns</p><table class=\"data-frame\"><thead><tr><th></th><th>a</th></tr><tr><th></th><th title=\"Int64\">Int64</th></tr></thead><tbody><tr><th>1</th><td>1</td></tr><tr><th>2</th><td>2</td></tr><tr><th>3</th><td>3</td></tr></tbody></table></div>"
      ],
      "text/latex": [
       "\\begin{tabular}{r|c}\n",
       "\t& a\\\\\n",
       "\t\\hline\n",
       "\t& Int64\\\\\n",
       "\t\\hline\n",
       "\t1 & 1 \\\\\n",
       "\t2 & 2 \\\\\n",
       "\t3 & 3 \\\\\n",
       "\\end{tabular}\n"
      ],
      "text/plain": [
       "\u001b[1m3×1 DataFrame\u001b[0m\n",
       "\u001b[1m Row \u001b[0m│\u001b[1m a     \u001b[0m\n",
       "\u001b[1m     \u001b[0m│\u001b[90m Int64 \u001b[0m\n",
       "─────┼───────\n",
       "   1 │     1\n",
       "   2 │     2\n",
       "   3 │     3"
      ]
     },
     "execution_count": 43,
     "metadata": {},
     "output_type": "execute_result"
    }
   ],
   "source": [
    "x = [1, 2, 3]\n",
    "df.a = x\n",
    "df"
   ]
  },
  {
   "cell_type": "code",
   "execution_count": 44,
   "metadata": {},
   "outputs": [
    {
     "data": {
      "text/plain": [
       "true"
      ]
     },
     "execution_count": 44,
     "metadata": {},
     "output_type": "execute_result"
    }
   ],
   "source": [
    "df.a === x # no copy is performed"
   ]
  },
  {
   "cell_type": "markdown",
   "metadata": {},
   "source": [
    "using `setindex!`"
   ]
  },
  {
   "cell_type": "code",
   "execution_count": 45,
   "metadata": {},
   "outputs": [
    {
     "data": {
      "text/html": [
       "<div class=\"data-frame\"><p>3 rows × 3 columns</p><table class=\"data-frame\"><thead><tr><th></th><th>a</th><th>b</th><th>c</th></tr><tr><th></th><th title=\"Int64\">Int64</th><th title=\"Int64\">Int64</th><th title=\"Int64\">Int64</th></tr></thead><tbody><tr><th>1</th><td>1</td><td>1</td><td>1</td></tr><tr><th>2</th><td>2</td><td>2</td><td>2</td></tr><tr><th>3</th><td>3</td><td>3</td><td>3</td></tr></tbody></table></div>"
      ],
      "text/latex": [
       "\\begin{tabular}{r|ccc}\n",
       "\t& a & b & c\\\\\n",
       "\t\\hline\n",
       "\t& Int64 & Int64 & Int64\\\\\n",
       "\t\\hline\n",
       "\t1 & 1 & 1 & 1 \\\\\n",
       "\t2 & 2 & 2 & 2 \\\\\n",
       "\t3 & 3 & 3 & 3 \\\\\n",
       "\\end{tabular}\n"
      ],
      "text/plain": [
       "\u001b[1m3×3 DataFrame\u001b[0m\n",
       "\u001b[1m Row \u001b[0m│\u001b[1m a     \u001b[0m\u001b[1m b     \u001b[0m\u001b[1m c     \u001b[0m\n",
       "\u001b[1m     \u001b[0m│\u001b[90m Int64 \u001b[0m\u001b[90m Int64 \u001b[0m\u001b[90m Int64 \u001b[0m\n",
       "─────┼─────────────────────\n",
       "   1 │     1      1      1\n",
       "   2 │     2      2      2\n",
       "   3 │     3      3      3"
      ]
     },
     "execution_count": 45,
     "metadata": {},
     "output_type": "execute_result"
    }
   ],
   "source": [
    "df[!, :b] = x\n",
    "df[:, :c] = x\n",
    "df"
   ]
  },
  {
   "cell_type": "code",
   "execution_count": 46,
   "metadata": {},
   "outputs": [
    {
     "data": {
      "text/plain": [
       "true"
      ]
     },
     "execution_count": 46,
     "metadata": {},
     "output_type": "execute_result"
    }
   ],
   "source": [
    "df.b === x # no copy"
   ]
  },
  {
   "cell_type": "code",
   "execution_count": 47,
   "metadata": {},
   "outputs": [
    {
     "data": {
      "text/plain": [
       "false"
      ]
     },
     "execution_count": 47,
     "metadata": {},
     "output_type": "execute_result"
    }
   ],
   "source": [
    "df.c === x # copy"
   ]
  },
  {
   "cell_type": "code",
   "execution_count": 48,
   "metadata": {},
   "outputs": [
    {
     "data": {
      "text/html": [
       "<div class=\"data-frame\"><p>3 rows × 5 columns</p><table class=\"data-frame\"><thead><tr><th></th><th>a</th><th>b</th><th>c</th><th>d</th><th>e</th></tr><tr><th></th><th title=\"Int64\">Int64</th><th title=\"Int64\">Int64</th><th title=\"Int64\">Int64</th><th title=\"Int64\">Int64</th><th title=\"Int64\">Int64</th></tr></thead><tbody><tr><th>1</th><td>1</td><td>1</td><td>1</td><td>1</td><td>1</td></tr><tr><th>2</th><td>2</td><td>2</td><td>2</td><td>2</td><td>2</td></tr><tr><th>3</th><td>3</td><td>3</td><td>3</td><td>3</td><td>3</td></tr></tbody></table></div>"
      ],
      "text/latex": [
       "\\begin{tabular}{r|ccccc}\n",
       "\t& a & b & c & d & e\\\\\n",
       "\t\\hline\n",
       "\t& Int64 & Int64 & Int64 & Int64 & Int64\\\\\n",
       "\t\\hline\n",
       "\t1 & 1 & 1 & 1 & 1 & 1 \\\\\n",
       "\t2 & 2 & 2 & 2 & 2 & 2 \\\\\n",
       "\t3 & 3 & 3 & 3 & 3 & 3 \\\\\n",
       "\\end{tabular}\n"
      ],
      "text/plain": [
       "\u001b[1m3×5 DataFrame\u001b[0m\n",
       "\u001b[1m Row \u001b[0m│\u001b[1m a     \u001b[0m\u001b[1m b     \u001b[0m\u001b[1m c     \u001b[0m\u001b[1m d     \u001b[0m\u001b[1m e     \u001b[0m\n",
       "\u001b[1m     \u001b[0m│\u001b[90m Int64 \u001b[0m\u001b[90m Int64 \u001b[0m\u001b[90m Int64 \u001b[0m\u001b[90m Int64 \u001b[0m\u001b[90m Int64 \u001b[0m\n",
       "─────┼───────────────────────────────────\n",
       "   1 │     1      1      1      1      1\n",
       "   2 │     2      2      2      2      2\n",
       "   3 │     3      3      3      3      3"
      ]
     },
     "execution_count": 48,
     "metadata": {},
     "output_type": "execute_result"
    }
   ],
   "source": [
    "df[!, :d] .= x\n",
    "df[:, :e] .= x\n",
    "df"
   ]
  },
  {
   "cell_type": "code",
   "execution_count": 49,
   "metadata": {},
   "outputs": [
    {
     "data": {
      "text/plain": [
       "(false, false)"
      ]
     },
     "execution_count": 49,
     "metadata": {},
     "output_type": "execute_result"
    }
   ],
   "source": [
    "df.d === x, df.e === x # both copy, so in this case `!` and `:` has the same effect"
   ]
  },
  {
   "cell_type": "markdown",
   "metadata": {},
   "source": [
    "note that in our data frame columns `:a` and `:b` store the vector `x` (not a copy)"
   ]
  },
  {
   "cell_type": "code",
   "execution_count": 50,
   "metadata": {},
   "outputs": [
    {
     "data": {
      "text/plain": [
       "true"
      ]
     },
     "execution_count": 50,
     "metadata": {},
     "output_type": "execute_result"
    }
   ],
   "source": [
    "df.a === df.b === x"
   ]
  },
  {
   "cell_type": "markdown",
   "metadata": {},
   "source": [
    "This can lead to silent errors. For example this code leads to a bug (note that calling `pairs` on `eachcol(df)` creates an iterator of (column name, column) pairs):"
   ]
  },
  {
   "cell_type": "code",
   "execution_count": 51,
   "metadata": {},
   "outputs": [
    {
     "name": "stdout",
     "output_type": "stream",
     "text": [
      "a: 3\n",
      "b: 2\n",
      "c: 3\n",
      "d: 3\n",
      "e: 3\n"
     ]
    }
   ],
   "source": [
    "for (n, c) in pairs(eachcol(df))\n",
    "    println(\"$n: \", pop!(c))\n",
    "end"
   ]
  },
  {
   "cell_type": "markdown",
   "metadata": {},
   "source": [
    "note that for column `:b` we printed `2` as `3` was removed from it when we used `pop!` on column `:a`."
   ]
  },
  {
   "cell_type": "markdown",
   "metadata": {},
   "source": [
    "Such mistakes sometimes happen. Because of this DataFrames.jl performs consistency checks before doing an expensive operation (most notably before showing a data frame)."
   ]
  },
  {
   "cell_type": "code",
   "execution_count": 52,
   "metadata": {},
   "outputs": [
    {
     "ename": "AssertionError",
     "evalue": "AssertionError: Data frame is corrupt: length of column :c (2) does not match length of column 1 (1). The column vector has likely been resized unintentionally (either directly or because it is shared with another data frame).",
     "output_type": "error",
     "traceback": [
      "AssertionError: Data frame is corrupt: length of column :c (2) does not match length of column 1 (1). The column vector has likely been resized unintentionally (either directly or because it is shared with another data frame).",
      "",
      "Stacktrace:",
      " [1] _check_consistency(df::DataFrame)",
      "   @ DataFrames C:\\Users\\bogum\\.julia\\packages\\DataFrames\\ORSVA\\src\\dataframe\\dataframe.jl:459"
     ]
    }
   ],
   "source": [
    "df"
   ]
  },
  {
   "cell_type": "markdown",
   "metadata": {},
   "source": [
    "We can investigate the columns to find out what happend:"
   ]
  },
  {
   "cell_type": "code",
   "execution_count": 53,
   "metadata": {},
   "outputs": [
    {
     "data": {
      "text/plain": [
       "5-element Vector{Pair{Symbol, AbstractVector}}:\n",
       " :a => [1]\n",
       " :b => [1]\n",
       " :c => [1, 2]\n",
       " :d => [1, 2]\n",
       " :e => [1, 2]"
      ]
     },
     "execution_count": 53,
     "metadata": {},
     "output_type": "execute_result"
    }
   ],
   "source": [
    "collect(pairs(eachcol(df)))"
   ]
  },
  {
   "cell_type": "markdown",
   "metadata": {},
   "source": [
    "The output confirms that the data frame `df` got corrupted."
   ]
  },
  {
   "cell_type": "markdown",
   "metadata": {},
   "source": [
    "DataFrames.jl supports a complete set of `getindex`, `getproperty`, `setindex!`, `setproperty!`, `view`, broadcasting, and broadcasting assignment operations. The details are explained here: http://juliadata.github.io/DataFrames.jl/latest/lib/indexing/."
   ]
  },
  {
   "cell_type": "markdown",
   "metadata": {},
   "source": [
    "### Comparisons"
   ]
  },
  {
   "cell_type": "code",
   "execution_count": 54,
   "metadata": {},
   "outputs": [],
   "source": [
    "using DataFrames"
   ]
  },
  {
   "cell_type": "code",
   "execution_count": 55,
   "metadata": {},
   "outputs": [
    {
     "data": {
      "text/html": [
       "<div class=\"data-frame\"><p>2 rows × 3 columns</p><table class=\"data-frame\"><thead><tr><th></th><th>x1</th><th>x2</th><th>x3</th></tr><tr><th></th><th title=\"Float64\">Float64</th><th title=\"Float64\">Float64</th><th title=\"Float64\">Float64</th></tr></thead><tbody><tr><th>1</th><td>0.416058</td><td>0.255371</td><td>0.781103</td></tr><tr><th>2</th><td>0.973929</td><td>0.272253</td><td>0.697177</td></tr></tbody></table></div>"
      ],
      "text/latex": [
       "\\begin{tabular}{r|ccc}\n",
       "\t& x1 & x2 & x3\\\\\n",
       "\t\\hline\n",
       "\t& Float64 & Float64 & Float64\\\\\n",
       "\t\\hline\n",
       "\t1 & 0.416058 & 0.255371 & 0.781103 \\\\\n",
       "\t2 & 0.973929 & 0.272253 & 0.697177 \\\\\n",
       "\\end{tabular}\n"
      ],
      "text/plain": [
       "\u001b[1m2×3 DataFrame\u001b[0m\n",
       "\u001b[1m Row \u001b[0m│\u001b[1m x1       \u001b[0m\u001b[1m x2       \u001b[0m\u001b[1m x3       \u001b[0m\n",
       "\u001b[1m     \u001b[0m│\u001b[90m Float64  \u001b[0m\u001b[90m Float64  \u001b[0m\u001b[90m Float64  \u001b[0m\n",
       "─────┼──────────────────────────────\n",
       "   1 │ 0.416058  0.255371  0.781103\n",
       "   2 │ 0.973929  0.272253  0.697177"
      ]
     },
     "execution_count": 55,
     "metadata": {},
     "output_type": "execute_result"
    }
   ],
   "source": [
    "df = DataFrame(rand(2,3), :auto)"
   ]
  },
  {
   "cell_type": "code",
   "execution_count": 56,
   "metadata": {},
   "outputs": [
    {
     "data": {
      "text/html": [
       "<div class=\"data-frame\"><p>2 rows × 3 columns</p><table class=\"data-frame\"><thead><tr><th></th><th>x1</th><th>x2</th><th>x3</th></tr><tr><th></th><th title=\"Float64\">Float64</th><th title=\"Float64\">Float64</th><th title=\"Float64\">Float64</th></tr></thead><tbody><tr><th>1</th><td>0.416058</td><td>0.255371</td><td>0.781103</td></tr><tr><th>2</th><td>0.973929</td><td>0.272253</td><td>0.697177</td></tr></tbody></table></div>"
      ],
      "text/latex": [
       "\\begin{tabular}{r|ccc}\n",
       "\t& x1 & x2 & x3\\\\\n",
       "\t\\hline\n",
       "\t& Float64 & Float64 & Float64\\\\\n",
       "\t\\hline\n",
       "\t1 & 0.416058 & 0.255371 & 0.781103 \\\\\n",
       "\t2 & 0.973929 & 0.272253 & 0.697177 \\\\\n",
       "\\end{tabular}\n"
      ],
      "text/plain": [
       "\u001b[1m2×3 DataFrame\u001b[0m\n",
       "\u001b[1m Row \u001b[0m│\u001b[1m x1       \u001b[0m\u001b[1m x2       \u001b[0m\u001b[1m x3       \u001b[0m\n",
       "\u001b[1m     \u001b[0m│\u001b[90m Float64  \u001b[0m\u001b[90m Float64  \u001b[0m\u001b[90m Float64  \u001b[0m\n",
       "─────┼──────────────────────────────\n",
       "   1 │ 0.416058  0.255371  0.781103\n",
       "   2 │ 0.973929  0.272253  0.697177"
      ]
     },
     "execution_count": 56,
     "metadata": {},
     "output_type": "execute_result"
    }
   ],
   "source": [
    "df2 = copy(df)"
   ]
  },
  {
   "cell_type": "code",
   "execution_count": 57,
   "metadata": {},
   "outputs": [
    {
     "data": {
      "text/plain": [
       "true"
      ]
     },
     "execution_count": 57,
     "metadata": {},
     "output_type": "execute_result"
    }
   ],
   "source": [
    "df == df2 # compares column names and contents"
   ]
  },
  {
   "cell_type": "markdown",
   "metadata": {},
   "source": [
    "create a minimally different data frame and use `isapprox` for comparison"
   ]
  },
  {
   "cell_type": "code",
   "execution_count": 58,
   "metadata": {},
   "outputs": [
    {
     "data": {
      "text/html": [
       "<div class=\"data-frame\"><p>2 rows × 3 columns</p><table class=\"data-frame\"><thead><tr><th></th><th>x1</th><th>x2</th><th>x3</th></tr><tr><th></th><th title=\"Float64\">Float64</th><th title=\"Float64\">Float64</th><th title=\"Float64\">Float64</th></tr></thead><tbody><tr><th>1</th><td>0.416058</td><td>0.255371</td><td>0.781103</td></tr><tr><th>2</th><td>0.973929</td><td>0.272253</td><td>0.697177</td></tr></tbody></table></div>"
      ],
      "text/latex": [
       "\\begin{tabular}{r|ccc}\n",
       "\t& x1 & x2 & x3\\\\\n",
       "\t\\hline\n",
       "\t& Float64 & Float64 & Float64\\\\\n",
       "\t\\hline\n",
       "\t1 & 0.416058 & 0.255371 & 0.781103 \\\\\n",
       "\t2 & 0.973929 & 0.272253 & 0.697177 \\\\\n",
       "\\end{tabular}\n"
      ],
      "text/plain": [
       "\u001b[1m2×3 DataFrame\u001b[0m\n",
       "\u001b[1m Row \u001b[0m│\u001b[1m x1       \u001b[0m\u001b[1m x2       \u001b[0m\u001b[1m x3       \u001b[0m\n",
       "\u001b[1m     \u001b[0m│\u001b[90m Float64  \u001b[0m\u001b[90m Float64  \u001b[0m\u001b[90m Float64  \u001b[0m\n",
       "─────┼──────────────────────────────\n",
       "   1 │ 0.416058  0.255371  0.781103\n",
       "   2 │ 0.973929  0.272253  0.697177"
      ]
     },
     "execution_count": 58,
     "metadata": {},
     "output_type": "execute_result"
    }
   ],
   "source": [
    "df3 = df2 .+ eps()"
   ]
  },
  {
   "cell_type": "code",
   "execution_count": 59,
   "metadata": {},
   "outputs": [
    {
     "data": {
      "text/plain": [
       "false"
      ]
     },
     "execution_count": 59,
     "metadata": {},
     "output_type": "execute_result"
    }
   ],
   "source": [
    "df == df3"
   ]
  },
  {
   "cell_type": "code",
   "execution_count": 60,
   "metadata": {},
   "outputs": [
    {
     "data": {
      "text/plain": [
       "true"
      ]
     },
     "execution_count": 60,
     "metadata": {},
     "output_type": "execute_result"
    }
   ],
   "source": [
    "isapprox(df, df3)"
   ]
  },
  {
   "cell_type": "code",
   "execution_count": 61,
   "metadata": {},
   "outputs": [
    {
     "data": {
      "text/plain": [
       "false"
      ]
     },
     "execution_count": 61,
     "metadata": {},
     "output_type": "execute_result"
    }
   ],
   "source": [
    "isapprox(df, df3, atol = eps()/2)"
   ]
  },
  {
   "cell_type": "markdown",
   "metadata": {},
   "source": [
    "`missings` are handled as in Julia Base"
   ]
  },
  {
   "cell_type": "code",
   "execution_count": 62,
   "metadata": {},
   "outputs": [
    {
     "data": {
      "text/html": [
       "<div class=\"data-frame\"><p>1 rows × 1 columns</p><table class=\"data-frame\"><thead><tr><th></th><th>a</th></tr><tr><th></th><th title=\"Missing\">Missing</th></tr></thead><tbody><tr><th>1</th><td><em>missing</em></td></tr></tbody></table></div>"
      ],
      "text/latex": [
       "\\begin{tabular}{r|c}\n",
       "\t& a\\\\\n",
       "\t\\hline\n",
       "\t& Missing\\\\\n",
       "\t\\hline\n",
       "\t1 & \\emph{missing} \\\\\n",
       "\\end{tabular}\n"
      ],
      "text/plain": [
       "\u001b[1m1×1 DataFrame\u001b[0m\n",
       "\u001b[1m Row \u001b[0m│\u001b[1m a       \u001b[0m\n",
       "\u001b[1m     \u001b[0m│\u001b[90m Missing \u001b[0m\n",
       "─────┼─────────\n",
       "   1 │\u001b[90m missing \u001b[0m"
      ]
     },
     "execution_count": 62,
     "metadata": {},
     "output_type": "execute_result"
    }
   ],
   "source": [
    "df = DataFrame(a=missing)"
   ]
  },
  {
   "cell_type": "code",
   "execution_count": 63,
   "metadata": {},
   "outputs": [
    {
     "data": {
      "text/plain": [
       "missing"
      ]
     },
     "execution_count": 63,
     "metadata": {},
     "output_type": "execute_result"
    }
   ],
   "source": [
    "df == df"
   ]
  },
  {
   "cell_type": "code",
   "execution_count": 64,
   "metadata": {},
   "outputs": [
    {
     "data": {
      "text/plain": [
       "true"
      ]
     },
     "execution_count": 64,
     "metadata": {},
     "output_type": "execute_result"
    }
   ],
   "source": [
    "df === df"
   ]
  },
  {
   "cell_type": "code",
   "execution_count": 65,
   "metadata": {},
   "outputs": [
    {
     "data": {
      "text/plain": [
       "true"
      ]
     },
     "execution_count": 65,
     "metadata": {},
     "output_type": "execute_result"
    }
   ],
   "source": [
    "isequal(df, df)"
   ]
  }
 ],
 "metadata": {
  "@webio": {
   "lastCommId": null,
   "lastKernelId": null
  },
  "kernelspec": {
   "display_name": "Julia 1.7.0",
   "language": "julia",
   "name": "julia-1.7"
  },
  "language_info": {
   "file_extension": ".jl",
   "mimetype": "application/julia",
   "name": "julia",
   "version": "1.7.0"
  }
 },
 "nbformat": 4,
 "nbformat_minor": 1
}
