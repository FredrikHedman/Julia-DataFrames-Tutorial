{
 "cells": [
  {
   "cell_type": "markdown",
   "metadata": {},
   "source": [
    "# Introduction to DataFrames\n",
    "**[Bogumił Kamiński](http://bogumilkaminski.pl/about/), May 15, 2021**"
   ]
  },
  {
   "cell_type": "code",
   "execution_count": null,
   "metadata": {},
   "outputs": [],
   "source": [
    "using DataFrames"
   ]
  },
  {
   "cell_type": "markdown",
   "metadata": {},
   "source": [
    "## Getting basic information about a data frame\n",
    "\n",
    "Let's start by creating a `DataFrame` object, `x`, so that we can learn how to get information on that data frame."
   ]
  },
  {
   "cell_type": "code",
   "execution_count": 2,
   "metadata": {},
   "outputs": [
    {
     "data": {
      "text/html": [
       "<table class=\"data-frame\"><thead><tr><th></th><th>A</th><th>B</th><th>C</th></tr><tr><th></th><th>Int64</th><th>Float64?</th><th>String</th></tr></thead><tbody><p>2 rows × 3 columns</p><tr><th>1</th><td>1</td><td>1.0</td><td>a</td></tr><tr><th>2</th><td>2</td><td><em>missing</em></td><td>b</td></tr></tbody></table>"
      ],
      "text/latex": [
       "\\begin{tabular}{r|ccc}\n",
       "\t& A & B & C\\\\\n",
       "\t\\hline\n",
       "\t& Int64 & Float64? & String\\\\\n",
       "\t\\hline\n",
       "\t1 & 1 & 1.0 & a \\\\\n",
       "\t2 & 2 & \\emph{missing} & b \\\\\n",
       "\\end{tabular}\n"
      ],
      "text/plain": [
       "\u001b[1m2×3 DataFrame\u001b[0m\n",
       "\u001b[1m Row \u001b[0m│\u001b[1m A     \u001b[0m\u001b[1m B         \u001b[0m\u001b[1m C      \u001b[0m\n",
       "\u001b[1m     \u001b[0m│\u001b[90m Int64 \u001b[0m\u001b[90m Float64?  \u001b[0m\u001b[90m String \u001b[0m\n",
       "─────┼──────────────────────────\n",
       "   1 │     1        1.0  a\n",
       "   2 │     2 \u001b[90m missing   \u001b[0m b"
      ]
     },
     "execution_count": 2,
     "metadata": {},
     "output_type": "execute_result"
    }
   ],
   "source": [
    "x = DataFrame(A = [1, 2], B = [1.0, missing], C = [\"a\", \"b\"])"
   ]
  },
  {
   "cell_type": "markdown",
   "metadata": {},
   "source": [
    "The standard `size` function works to get dimensions of the `DataFrame`,"
   ]
  },
  {
   "cell_type": "code",
   "execution_count": 3,
   "metadata": {},
   "outputs": [
    {
     "data": {
      "text/plain": [
       "((2, 3), 2, 3)"
      ]
     },
     "execution_count": 3,
     "metadata": {},
     "output_type": "execute_result"
    }
   ],
   "source": [
    "size(x), size(x, 1), size(x, 2)"
   ]
  },
  {
   "cell_type": "markdown",
   "metadata": {},
   "source": [
    "as well as `nrow` and `ncol` from R."
   ]
  },
  {
   "cell_type": "code",
   "execution_count": 4,
   "metadata": {},
   "outputs": [
    {
     "data": {
      "text/plain": [
       "(2, 3)"
      ]
     },
     "execution_count": 4,
     "metadata": {},
     "output_type": "execute_result"
    }
   ],
   "source": [
    "nrow(x), ncol(x)"
   ]
  },
  {
   "cell_type": "markdown",
   "metadata": {},
   "source": [
    "`describe` gives basic summary statistics of data in your `DataFrame` (check out the help of `describe` for information on how to customize shown statistics)."
   ]
  },
  {
   "cell_type": "code",
   "execution_count": 5,
   "metadata": {},
   "outputs": [
    {
     "data": {
      "text/html": [
       "<table class=\"data-frame\"><thead><tr><th></th><th>variable</th><th>mean</th><th>min</th><th>median</th><th>max</th><th>nmissing</th><th>eltype</th></tr><tr><th></th><th>Symbol</th><th>Union…</th><th>Any</th><th>Union…</th><th>Any</th><th>Int64</th><th>Type</th></tr></thead><tbody><p>3 rows × 7 columns</p><tr><th>1</th><td>A</td><td>1.5</td><td>1</td><td>1.5</td><td>2</td><td>0</td><td>Int64</td></tr><tr><th>2</th><td>B</td><td>1.0</td><td>1.0</td><td>1.0</td><td>1.0</td><td>1</td><td>Union{Missing, Float64}</td></tr><tr><th>3</th><td>C</td><td></td><td>a</td><td></td><td>b</td><td>0</td><td>String</td></tr></tbody></table>"
      ],
      "text/latex": [
       "\\begin{tabular}{r|ccccccc}\n",
       "\t& variable & mean & min & median & max & nmissing & eltype\\\\\n",
       "\t\\hline\n",
       "\t& Symbol & Union… & Any & Union… & Any & Int64 & Type\\\\\n",
       "\t\\hline\n",
       "\t1 & A & 1.5 & 1 & 1.5 & 2 & 0 & Int64 \\\\\n",
       "\t2 & B & 1.0 & 1.0 & 1.0 & 1.0 & 1 & Union\\{Missing, Float64\\} \\\\\n",
       "\t3 & C &  & a &  & b & 0 & String \\\\\n",
       "\\end{tabular}\n"
      ],
      "text/plain": [
       "\u001b[1m3×7 DataFrame\u001b[0m\n",
       "\u001b[1m Row \u001b[0m│\u001b[1m variable \u001b[0m\u001b[1m mean   \u001b[0m\u001b[1m min \u001b[0m\u001b[1m median \u001b[0m\u001b[1m max \u001b[0m\u001b[1m nmissing \u001b[0m\u001b[1m eltype                  \u001b[0m\n",
       "\u001b[1m     \u001b[0m│\u001b[90m Symbol   \u001b[0m\u001b[90m Union… \u001b[0m\u001b[90m Any \u001b[0m\u001b[90m Union… \u001b[0m\u001b[90m Any \u001b[0m\u001b[90m Int64    \u001b[0m\u001b[90m Type                    \u001b[0m\n",
       "─────┼───────────────────────────────────────────────────────────────────────\n",
       "   1 │ A         1.5     1    1.5     2           0  Int64\n",
       "   2 │ B         1.0     1.0  1.0     1.0         1  Union{Missing, Float64}\n",
       "   3 │ C        \u001b[90m        \u001b[0m a   \u001b[90m        \u001b[0m b           0  String"
      ]
     },
     "execution_count": 5,
     "metadata": {},
     "output_type": "execute_result"
    }
   ],
   "source": [
    "describe(x)"
   ]
  },
  {
   "cell_type": "markdown",
   "metadata": {},
   "source": [
    "you can limit the columns shown by `describe` using `cols` keyword argument"
   ]
  },
  {
   "cell_type": "code",
   "execution_count": 6,
   "metadata": {},
   "outputs": [
    {
     "data": {
      "text/html": [
       "<table class=\"data-frame\"><thead><tr><th></th><th>variable</th><th>mean</th><th>min</th><th>median</th><th>max</th><th>nmissing</th><th>eltype</th></tr><tr><th></th><th>Symbol</th><th>Float64</th><th>Real</th><th>Float64</th><th>Real</th><th>Int64</th><th>Type</th></tr></thead><tbody><p>2 rows × 7 columns</p><tr><th>1</th><td>A</td><td>1.5</td><td>1</td><td>1.5</td><td>2</td><td>0</td><td>Int64</td></tr><tr><th>2</th><td>B</td><td>1.0</td><td>1.0</td><td>1.0</td><td>1.0</td><td>1</td><td>Union{Missing, Float64}</td></tr></tbody></table>"
      ],
      "text/latex": [
       "\\begin{tabular}{r|ccccccc}\n",
       "\t& variable & mean & min & median & max & nmissing & eltype\\\\\n",
       "\t\\hline\n",
       "\t& Symbol & Float64 & Real & Float64 & Real & Int64 & Type\\\\\n",
       "\t\\hline\n",
       "\t1 & A & 1.5 & 1 & 1.5 & 2 & 0 & Int64 \\\\\n",
       "\t2 & B & 1.0 & 1.0 & 1.0 & 1.0 & 1 & Union\\{Missing, Float64\\} \\\\\n",
       "\\end{tabular}\n"
      ],
      "text/plain": [
       "\u001b[1m2×7 DataFrame\u001b[0m\n",
       "\u001b[1m Row \u001b[0m│\u001b[1m variable \u001b[0m\u001b[1m mean    \u001b[0m\u001b[1m min  \u001b[0m\u001b[1m median  \u001b[0m\u001b[1m max  \u001b[0m\u001b[1m nmissing \u001b[0m\u001b[1m eltype               \u001b[0m ⋯\n",
       "\u001b[1m     \u001b[0m│\u001b[90m Symbol   \u001b[0m\u001b[90m Float64 \u001b[0m\u001b[90m Real \u001b[0m\u001b[90m Float64 \u001b[0m\u001b[90m Real \u001b[0m\u001b[90m Int64    \u001b[0m\u001b[90m Type                 \u001b[0m ⋯\n",
       "─────┼──────────────────────────────────────────────────────────────────────────\n",
       "   1 │ A             1.5   1        1.5   2           0  Int64                 ⋯\n",
       "   2 │ B             1.0   1.0      1.0   1.0         1  Union{Missing, Float6\n",
       "\u001b[36m                                                                1 column omitted\u001b[0m"
      ]
     },
     "execution_count": 6,
     "metadata": {},
     "output_type": "execute_result"
    }
   ],
   "source": [
    "describe(x, cols=1:2)"
   ]
  },
  {
   "cell_type": "markdown",
   "metadata": {},
   "source": [
    "`names` will return the names of all columns as strings"
   ]
  },
  {
   "cell_type": "code",
   "execution_count": 7,
   "metadata": {},
   "outputs": [
    {
     "data": {
      "text/plain": [
       "3-element Vector{String}:\n",
       " \"A\"\n",
       " \"B\"\n",
       " \"C\""
      ]
     },
     "execution_count": 7,
     "metadata": {},
     "output_type": "execute_result"
    }
   ],
   "source": [
    "names(x)"
   ]
  },
  {
   "cell_type": "markdown",
   "metadata": {},
   "source": [
    "you can also get column names with a given `eltype`:"
   ]
  },
  {
   "cell_type": "code",
   "execution_count": 8,
   "metadata": {},
   "outputs": [
    {
     "data": {
      "text/plain": [
       "1-element Vector{String}:\n",
       " \"C\""
      ]
     },
     "execution_count": 8,
     "metadata": {},
     "output_type": "execute_result"
    }
   ],
   "source": [
    "names(x, String)"
   ]
  },
  {
   "cell_type": "markdown",
   "metadata": {},
   "source": [
    "use `propertynames` to get a vector of `Symbol`s:"
   ]
  },
  {
   "cell_type": "code",
   "execution_count": 9,
   "metadata": {},
   "outputs": [
    {
     "data": {
      "text/plain": [
       "3-element Vector{Symbol}:\n",
       " :A\n",
       " :B\n",
       " :C"
      ]
     },
     "execution_count": 9,
     "metadata": {},
     "output_type": "execute_result"
    }
   ],
   "source": [
    "propertynames(x)"
   ]
  },
  {
   "cell_type": "markdown",
   "metadata": {},
   "source": [
    "using `eltype` on `eachcol(x)` returns element types of columns:"
   ]
  },
  {
   "cell_type": "code",
   "execution_count": 10,
   "metadata": {},
   "outputs": [
    {
     "data": {
      "text/plain": [
       "3-element Vector{Type}:\n",
       " Int64\n",
       " Union{Missing, Float64}\n",
       " String"
      ]
     },
     "execution_count": 10,
     "metadata": {},
     "output_type": "execute_result"
    }
   ],
   "source": [
    "eltype.(eachcol(x))"
   ]
  },
  {
   "cell_type": "markdown",
   "metadata": {},
   "source": [
    "Here we create some large `DataFrame`"
   ]
  },
  {
   "cell_type": "code",
   "execution_count": 11,
   "metadata": {
    "scrolled": true
   },
   "outputs": [
    {
     "data": {
      "text/html": [
       "<table class=\"data-frame\"><thead><tr><th></th><th>x1</th><th>x2</th><th>x3</th><th>x4</th><th>x5</th><th>x6</th><th>x7</th><th>x8</th><th>x9</th><th>x10</th></tr><tr><th></th><th>Int64</th><th>Int64</th><th>Int64</th><th>Int64</th><th>Int64</th><th>Int64</th><th>Int64</th><th>Int64</th><th>Int64</th><th>Int64</th></tr></thead><tbody><p>1,000 rows × 10 columns</p><tr><th>1</th><td>1</td><td>5</td><td>7</td><td>7</td><td>4</td><td>7</td><td>5</td><td>10</td><td>7</td><td>5</td></tr><tr><th>2</th><td>1</td><td>2</td><td>3</td><td>5</td><td>10</td><td>8</td><td>5</td><td>1</td><td>1</td><td>5</td></tr><tr><th>3</th><td>5</td><td>3</td><td>3</td><td>9</td><td>4</td><td>1</td><td>2</td><td>10</td><td>8</td><td>10</td></tr><tr><th>4</th><td>1</td><td>5</td><td>2</td><td>4</td><td>4</td><td>3</td><td>5</td><td>6</td><td>10</td><td>1</td></tr><tr><th>5</th><td>5</td><td>1</td><td>9</td><td>1</td><td>6</td><td>2</td><td>7</td><td>9</td><td>10</td><td>4</td></tr><tr><th>6</th><td>3</td><td>10</td><td>7</td><td>10</td><td>10</td><td>9</td><td>2</td><td>2</td><td>4</td><td>2</td></tr><tr><th>7</th><td>2</td><td>8</td><td>2</td><td>9</td><td>3</td><td>3</td><td>6</td><td>1</td><td>6</td><td>6</td></tr><tr><th>8</th><td>9</td><td>5</td><td>5</td><td>5</td><td>2</td><td>7</td><td>1</td><td>4</td><td>4</td><td>10</td></tr><tr><th>9</th><td>5</td><td>2</td><td>8</td><td>5</td><td>10</td><td>9</td><td>6</td><td>7</td><td>10</td><td>9</td></tr><tr><th>10</th><td>10</td><td>6</td><td>3</td><td>2</td><td>9</td><td>10</td><td>9</td><td>7</td><td>8</td><td>10</td></tr><tr><th>11</th><td>7</td><td>8</td><td>2</td><td>1</td><td>9</td><td>4</td><td>8</td><td>6</td><td>6</td><td>6</td></tr><tr><th>12</th><td>10</td><td>4</td><td>5</td><td>10</td><td>2</td><td>7</td><td>9</td><td>6</td><td>10</td><td>7</td></tr><tr><th>13</th><td>9</td><td>8</td><td>6</td><td>6</td><td>10</td><td>5</td><td>6</td><td>3</td><td>1</td><td>7</td></tr><tr><th>14</th><td>10</td><td>9</td><td>6</td><td>9</td><td>9</td><td>10</td><td>6</td><td>7</td><td>7</td><td>5</td></tr><tr><th>15</th><td>1</td><td>5</td><td>9</td><td>6</td><td>7</td><td>2</td><td>1</td><td>3</td><td>4</td><td>3</td></tr><tr><th>16</th><td>5</td><td>2</td><td>1</td><td>3</td><td>2</td><td>2</td><td>7</td><td>5</td><td>4</td><td>2</td></tr><tr><th>17</th><td>6</td><td>3</td><td>4</td><td>2</td><td>9</td><td>1</td><td>6</td><td>2</td><td>6</td><td>4</td></tr><tr><th>18</th><td>3</td><td>2</td><td>3</td><td>5</td><td>8</td><td>9</td><td>7</td><td>3</td><td>7</td><td>4</td></tr><tr><th>19</th><td>10</td><td>6</td><td>6</td><td>5</td><td>1</td><td>9</td><td>6</td><td>1</td><td>9</td><td>3</td></tr><tr><th>20</th><td>9</td><td>3</td><td>1</td><td>8</td><td>2</td><td>5</td><td>6</td><td>2</td><td>6</td><td>9</td></tr><tr><th>21</th><td>10</td><td>6</td><td>8</td><td>10</td><td>10</td><td>10</td><td>3</td><td>2</td><td>5</td><td>2</td></tr><tr><th>22</th><td>3</td><td>4</td><td>10</td><td>5</td><td>6</td><td>3</td><td>7</td><td>7</td><td>9</td><td>6</td></tr><tr><th>23</th><td>6</td><td>3</td><td>6</td><td>5</td><td>7</td><td>7</td><td>1</td><td>10</td><td>1</td><td>8</td></tr><tr><th>24</th><td>3</td><td>10</td><td>10</td><td>3</td><td>9</td><td>8</td><td>2</td><td>1</td><td>4</td><td>6</td></tr><tr><th>25</th><td>3</td><td>4</td><td>8</td><td>4</td><td>10</td><td>9</td><td>6</td><td>1</td><td>1</td><td>4</td></tr><tr><th>26</th><td>10</td><td>2</td><td>1</td><td>3</td><td>7</td><td>5</td><td>3</td><td>2</td><td>6</td><td>2</td></tr><tr><th>27</th><td>3</td><td>4</td><td>9</td><td>6</td><td>5</td><td>6</td><td>6</td><td>5</td><td>10</td><td>4</td></tr><tr><th>28</th><td>9</td><td>4</td><td>2</td><td>7</td><td>10</td><td>7</td><td>2</td><td>5</td><td>4</td><td>7</td></tr><tr><th>29</th><td>2</td><td>6</td><td>7</td><td>2</td><td>3</td><td>2</td><td>9</td><td>10</td><td>2</td><td>10</td></tr><tr><th>30</th><td>7</td><td>7</td><td>4</td><td>4</td><td>2</td><td>7</td><td>7</td><td>10</td><td>10</td><td>7</td></tr><tr><th>&vellip;</th><td>&vellip;</td><td>&vellip;</td><td>&vellip;</td><td>&vellip;</td><td>&vellip;</td><td>&vellip;</td><td>&vellip;</td><td>&vellip;</td><td>&vellip;</td><td>&vellip;</td></tr></tbody></table>"
      ],
      "text/latex": [
       "\\begin{tabular}{r|cccccccccc}\n",
       "\t& x1 & x2 & x3 & x4 & x5 & x6 & x7 & x8 & x9 & x10\\\\\n",
       "\t\\hline\n",
       "\t& Int64 & Int64 & Int64 & Int64 & Int64 & Int64 & Int64 & Int64 & Int64 & Int64\\\\\n",
       "\t\\hline\n",
       "\t1 & 1 & 5 & 7 & 7 & 4 & 7 & 5 & 10 & 7 & 5 \\\\\n",
       "\t2 & 1 & 2 & 3 & 5 & 10 & 8 & 5 & 1 & 1 & 5 \\\\\n",
       "\t3 & 5 & 3 & 3 & 9 & 4 & 1 & 2 & 10 & 8 & 10 \\\\\n",
       "\t4 & 1 & 5 & 2 & 4 & 4 & 3 & 5 & 6 & 10 & 1 \\\\\n",
       "\t5 & 5 & 1 & 9 & 1 & 6 & 2 & 7 & 9 & 10 & 4 \\\\\n",
       "\t6 & 3 & 10 & 7 & 10 & 10 & 9 & 2 & 2 & 4 & 2 \\\\\n",
       "\t7 & 2 & 8 & 2 & 9 & 3 & 3 & 6 & 1 & 6 & 6 \\\\\n",
       "\t8 & 9 & 5 & 5 & 5 & 2 & 7 & 1 & 4 & 4 & 10 \\\\\n",
       "\t9 & 5 & 2 & 8 & 5 & 10 & 9 & 6 & 7 & 10 & 9 \\\\\n",
       "\t10 & 10 & 6 & 3 & 2 & 9 & 10 & 9 & 7 & 8 & 10 \\\\\n",
       "\t11 & 7 & 8 & 2 & 1 & 9 & 4 & 8 & 6 & 6 & 6 \\\\\n",
       "\t12 & 10 & 4 & 5 & 10 & 2 & 7 & 9 & 6 & 10 & 7 \\\\\n",
       "\t13 & 9 & 8 & 6 & 6 & 10 & 5 & 6 & 3 & 1 & 7 \\\\\n",
       "\t14 & 10 & 9 & 6 & 9 & 9 & 10 & 6 & 7 & 7 & 5 \\\\\n",
       "\t15 & 1 & 5 & 9 & 6 & 7 & 2 & 1 & 3 & 4 & 3 \\\\\n",
       "\t16 & 5 & 2 & 1 & 3 & 2 & 2 & 7 & 5 & 4 & 2 \\\\\n",
       "\t17 & 6 & 3 & 4 & 2 & 9 & 1 & 6 & 2 & 6 & 4 \\\\\n",
       "\t18 & 3 & 2 & 3 & 5 & 8 & 9 & 7 & 3 & 7 & 4 \\\\\n",
       "\t19 & 10 & 6 & 6 & 5 & 1 & 9 & 6 & 1 & 9 & 3 \\\\\n",
       "\t20 & 9 & 3 & 1 & 8 & 2 & 5 & 6 & 2 & 6 & 9 \\\\\n",
       "\t21 & 10 & 6 & 8 & 10 & 10 & 10 & 3 & 2 & 5 & 2 \\\\\n",
       "\t22 & 3 & 4 & 10 & 5 & 6 & 3 & 7 & 7 & 9 & 6 \\\\\n",
       "\t23 & 6 & 3 & 6 & 5 & 7 & 7 & 1 & 10 & 1 & 8 \\\\\n",
       "\t24 & 3 & 10 & 10 & 3 & 9 & 8 & 2 & 1 & 4 & 6 \\\\\n",
       "\t25 & 3 & 4 & 8 & 4 & 10 & 9 & 6 & 1 & 1 & 4 \\\\\n",
       "\t26 & 10 & 2 & 1 & 3 & 7 & 5 & 3 & 2 & 6 & 2 \\\\\n",
       "\t27 & 3 & 4 & 9 & 6 & 5 & 6 & 6 & 5 & 10 & 4 \\\\\n",
       "\t28 & 9 & 4 & 2 & 7 & 10 & 7 & 2 & 5 & 4 & 7 \\\\\n",
       "\t29 & 2 & 6 & 7 & 2 & 3 & 2 & 9 & 10 & 2 & 10 \\\\\n",
       "\t30 & 7 & 7 & 4 & 4 & 2 & 7 & 7 & 10 & 10 & 7 \\\\\n",
       "\t$\\dots$ & $\\dots$ & $\\dots$ & $\\dots$ & $\\dots$ & $\\dots$ & $\\dots$ & $\\dots$ & $\\dots$ & $\\dots$ & $\\dots$ \\\\\n",
       "\\end{tabular}\n"
      ],
      "text/plain": [
       "\u001b[1m1000×10 DataFrame\u001b[0m\n",
       "\u001b[1m  Row \u001b[0m│\u001b[1m x1    \u001b[0m\u001b[1m x2    \u001b[0m\u001b[1m x3    \u001b[0m\u001b[1m x4    \u001b[0m\u001b[1m x5    \u001b[0m\u001b[1m x6    \u001b[0m\u001b[1m x7    \u001b[0m\u001b[1m x8    \u001b[0m\u001b[1m x9    \u001b[0m\u001b[1m x10   \u001b[0m\n",
       "\u001b[1m      \u001b[0m│\u001b[90m Int64 \u001b[0m\u001b[90m Int64 \u001b[0m\u001b[90m Int64 \u001b[0m\u001b[90m Int64 \u001b[0m\u001b[90m Int64 \u001b[0m\u001b[90m Int64 \u001b[0m\u001b[90m Int64 \u001b[0m\u001b[90m Int64 \u001b[0m\u001b[90m Int64 \u001b[0m\u001b[90m Int64 \u001b[0m\n",
       "──────┼──────────────────────────────────────────────────────────────────────\n",
       "    1 │     1      5      7      7      4      7      5     10      7      5\n",
       "    2 │     1      2      3      5     10      8      5      1      1      5\n",
       "    3 │     5      3      3      9      4      1      2     10      8     10\n",
       "    4 │     1      5      2      4      4      3      5      6     10      1\n",
       "    5 │     5      1      9      1      6      2      7      9     10      4\n",
       "    6 │     3     10      7     10     10      9      2      2      4      2\n",
       "    7 │     2      8      2      9      3      3      6      1      6      6\n",
       "    8 │     9      5      5      5      2      7      1      4      4     10\n",
       "    9 │     5      2      8      5     10      9      6      7     10      9\n",
       "   10 │    10      6      3      2      9     10      9      7      8     10\n",
       "   11 │     7      8      2      1      9      4      8      6      6      6\n",
       "  ⋮   │   ⋮      ⋮      ⋮      ⋮      ⋮      ⋮      ⋮      ⋮      ⋮      ⋮\n",
       "  991 │     2      2      1      8      7      6      1      8      3      4\n",
       "  992 │     3      8      9      9      2      2     10      6      4      7\n",
       "  993 │     6      8      4      2      8      2      8      6      6     10\n",
       "  994 │     5      1      3      7      1      5     10      2     10      7\n",
       "  995 │     5      5     10      8      6     10      6      5      4      5\n",
       "  996 │     7      8      8      3      6      5      7      9      9      8\n",
       "  997 │     8      5      5      9      7      9      8      1      3      3\n",
       "  998 │     2      1      4      1     10      2      6      3      2      1\n",
       "  999 │    10      2      1      6      5      3      6      4      6      2\n",
       " 1000 │     1      1      6      4      3      8      9      1      2     10\n",
       "\u001b[36m                                                             979 rows omitted\u001b[0m"
      ]
     },
     "execution_count": 11,
     "metadata": {},
     "output_type": "execute_result"
    }
   ],
   "source": [
    "y = DataFrame(rand(1:10, 1000, 10), :auto)"
   ]
  },
  {
   "cell_type": "markdown",
   "metadata": {},
   "source": [
    "and then we can use `first` to peek into its first few rows"
   ]
  },
  {
   "cell_type": "code",
   "execution_count": 12,
   "metadata": {},
   "outputs": [
    {
     "data": {
      "text/html": [
       "<table class=\"data-frame\"><thead><tr><th></th><th>x1</th><th>x2</th><th>x3</th><th>x4</th><th>x5</th><th>x6</th><th>x7</th><th>x8</th><th>x9</th><th>x10</th></tr><tr><th></th><th>Int64</th><th>Int64</th><th>Int64</th><th>Int64</th><th>Int64</th><th>Int64</th><th>Int64</th><th>Int64</th><th>Int64</th><th>Int64</th></tr></thead><tbody><p>5 rows × 10 columns</p><tr><th>1</th><td>1</td><td>5</td><td>7</td><td>7</td><td>4</td><td>7</td><td>5</td><td>10</td><td>7</td><td>5</td></tr><tr><th>2</th><td>1</td><td>2</td><td>3</td><td>5</td><td>10</td><td>8</td><td>5</td><td>1</td><td>1</td><td>5</td></tr><tr><th>3</th><td>5</td><td>3</td><td>3</td><td>9</td><td>4</td><td>1</td><td>2</td><td>10</td><td>8</td><td>10</td></tr><tr><th>4</th><td>1</td><td>5</td><td>2</td><td>4</td><td>4</td><td>3</td><td>5</td><td>6</td><td>10</td><td>1</td></tr><tr><th>5</th><td>5</td><td>1</td><td>9</td><td>1</td><td>6</td><td>2</td><td>7</td><td>9</td><td>10</td><td>4</td></tr></tbody></table>"
      ],
      "text/latex": [
       "\\begin{tabular}{r|cccccccccc}\n",
       "\t& x1 & x2 & x3 & x4 & x5 & x6 & x7 & x8 & x9 & x10\\\\\n",
       "\t\\hline\n",
       "\t& Int64 & Int64 & Int64 & Int64 & Int64 & Int64 & Int64 & Int64 & Int64 & Int64\\\\\n",
       "\t\\hline\n",
       "\t1 & 1 & 5 & 7 & 7 & 4 & 7 & 5 & 10 & 7 & 5 \\\\\n",
       "\t2 & 1 & 2 & 3 & 5 & 10 & 8 & 5 & 1 & 1 & 5 \\\\\n",
       "\t3 & 5 & 3 & 3 & 9 & 4 & 1 & 2 & 10 & 8 & 10 \\\\\n",
       "\t4 & 1 & 5 & 2 & 4 & 4 & 3 & 5 & 6 & 10 & 1 \\\\\n",
       "\t5 & 5 & 1 & 9 & 1 & 6 & 2 & 7 & 9 & 10 & 4 \\\\\n",
       "\\end{tabular}\n"
      ],
      "text/plain": [
       "\u001b[1m5×10 DataFrame\u001b[0m\n",
       "\u001b[1m Row \u001b[0m│\u001b[1m x1    \u001b[0m\u001b[1m x2    \u001b[0m\u001b[1m x3    \u001b[0m\u001b[1m x4    \u001b[0m\u001b[1m x5    \u001b[0m\u001b[1m x6    \u001b[0m\u001b[1m x7    \u001b[0m\u001b[1m x8    \u001b[0m\u001b[1m x9    \u001b[0m\u001b[1m x10   \u001b[0m\n",
       "\u001b[1m     \u001b[0m│\u001b[90m Int64 \u001b[0m\u001b[90m Int64 \u001b[0m\u001b[90m Int64 \u001b[0m\u001b[90m Int64 \u001b[0m\u001b[90m Int64 \u001b[0m\u001b[90m Int64 \u001b[0m\u001b[90m Int64 \u001b[0m\u001b[90m Int64 \u001b[0m\u001b[90m Int64 \u001b[0m\u001b[90m Int64 \u001b[0m\n",
       "─────┼──────────────────────────────────────────────────────────────────────\n",
       "   1 │     1      5      7      7      4      7      5     10      7      5\n",
       "   2 │     1      2      3      5     10      8      5      1      1      5\n",
       "   3 │     5      3      3      9      4      1      2     10      8     10\n",
       "   4 │     1      5      2      4      4      3      5      6     10      1\n",
       "   5 │     5      1      9      1      6      2      7      9     10      4"
      ]
     },
     "execution_count": 12,
     "metadata": {},
     "output_type": "execute_result"
    }
   ],
   "source": [
    "first(y, 5)"
   ]
  },
  {
   "cell_type": "markdown",
   "metadata": {},
   "source": [
    "and `last` to see its bottom rows."
   ]
  },
  {
   "cell_type": "code",
   "execution_count": 13,
   "metadata": {},
   "outputs": [
    {
     "data": {
      "text/html": [
       "<table class=\"data-frame\"><thead><tr><th></th><th>x1</th><th>x2</th><th>x3</th><th>x4</th><th>x5</th><th>x6</th><th>x7</th><th>x8</th><th>x9</th><th>x10</th></tr><tr><th></th><th>Int64</th><th>Int64</th><th>Int64</th><th>Int64</th><th>Int64</th><th>Int64</th><th>Int64</th><th>Int64</th><th>Int64</th><th>Int64</th></tr></thead><tbody><p>3 rows × 10 columns</p><tr><th>1</th><td>2</td><td>1</td><td>4</td><td>1</td><td>10</td><td>2</td><td>6</td><td>3</td><td>2</td><td>1</td></tr><tr><th>2</th><td>10</td><td>2</td><td>1</td><td>6</td><td>5</td><td>3</td><td>6</td><td>4</td><td>6</td><td>2</td></tr><tr><th>3</th><td>1</td><td>1</td><td>6</td><td>4</td><td>3</td><td>8</td><td>9</td><td>1</td><td>2</td><td>10</td></tr></tbody></table>"
      ],
      "text/latex": [
       "\\begin{tabular}{r|cccccccccc}\n",
       "\t& x1 & x2 & x3 & x4 & x5 & x6 & x7 & x8 & x9 & x10\\\\\n",
       "\t\\hline\n",
       "\t& Int64 & Int64 & Int64 & Int64 & Int64 & Int64 & Int64 & Int64 & Int64 & Int64\\\\\n",
       "\t\\hline\n",
       "\t1 & 2 & 1 & 4 & 1 & 10 & 2 & 6 & 3 & 2 & 1 \\\\\n",
       "\t2 & 10 & 2 & 1 & 6 & 5 & 3 & 6 & 4 & 6 & 2 \\\\\n",
       "\t3 & 1 & 1 & 6 & 4 & 3 & 8 & 9 & 1 & 2 & 10 \\\\\n",
       "\\end{tabular}\n"
      ],
      "text/plain": [
       "\u001b[1m3×10 DataFrame\u001b[0m\n",
       "\u001b[1m Row \u001b[0m│\u001b[1m x1    \u001b[0m\u001b[1m x2    \u001b[0m\u001b[1m x3    \u001b[0m\u001b[1m x4    \u001b[0m\u001b[1m x5    \u001b[0m\u001b[1m x6    \u001b[0m\u001b[1m x7    \u001b[0m\u001b[1m x8    \u001b[0m\u001b[1m x9    \u001b[0m\u001b[1m x10   \u001b[0m\n",
       "\u001b[1m     \u001b[0m│\u001b[90m Int64 \u001b[0m\u001b[90m Int64 \u001b[0m\u001b[90m Int64 \u001b[0m\u001b[90m Int64 \u001b[0m\u001b[90m Int64 \u001b[0m\u001b[90m Int64 \u001b[0m\u001b[90m Int64 \u001b[0m\u001b[90m Int64 \u001b[0m\u001b[90m Int64 \u001b[0m\u001b[90m Int64 \u001b[0m\n",
       "─────┼──────────────────────────────────────────────────────────────────────\n",
       "   1 │     2      1      4      1     10      2      6      3      2      1\n",
       "   2 │    10      2      1      6      5      3      6      4      6      2\n",
       "   3 │     1      1      6      4      3      8      9      1      2     10"
      ]
     },
     "execution_count": 13,
     "metadata": {},
     "output_type": "execute_result"
    }
   ],
   "source": [
    "last(y, 3)"
   ]
  },
  {
   "cell_type": "markdown",
   "metadata": {},
   "source": [
    "Using `first` and `last` without number of rows will return a first/last `DataFrameRow` in the `DataFrame`"
   ]
  },
  {
   "cell_type": "code",
   "execution_count": 14,
   "metadata": {},
   "outputs": [
    {
     "data": {
      "text/html": [
       "<p>DataFrameRow (10 columns)</p><table class=\"data-frame\"><thead><tr><th></th><th>x1</th><th>x2</th><th>x3</th><th>x4</th><th>x5</th><th>x6</th><th>x7</th><th>x8</th><th>x9</th><th>x10</th></tr><tr><th></th><th>Int64</th><th>Int64</th><th>Int64</th><th>Int64</th><th>Int64</th><th>Int64</th><th>Int64</th><th>Int64</th><th>Int64</th><th>Int64</th></tr></thead><tbody><tr><th>1</th><td>1</td><td>5</td><td>7</td><td>7</td><td>4</td><td>7</td><td>5</td><td>10</td><td>7</td><td>5</td></tr></tbody></table>"
      ],
      "text/latex": [
       "\\begin{tabular}{r|cccccccccc}\n",
       "\t& x1 & x2 & x3 & x4 & x5 & x6 & x7 & x8 & x9 & x10\\\\\n",
       "\t\\hline\n",
       "\t& Int64 & Int64 & Int64 & Int64 & Int64 & Int64 & Int64 & Int64 & Int64 & Int64\\\\\n",
       "\t\\hline\n",
       "\t1 & 1 & 5 & 7 & 7 & 4 & 7 & 5 & 10 & 7 & 5 \\\\\n",
       "\\end{tabular}\n"
      ],
      "text/plain": [
       "\u001b[1mDataFrameRow\u001b[0m\n",
       "\u001b[1m Row \u001b[0m│\u001b[1m x1    \u001b[0m\u001b[1m x2    \u001b[0m\u001b[1m x3    \u001b[0m\u001b[1m x4    \u001b[0m\u001b[1m x5    \u001b[0m\u001b[1m x6    \u001b[0m\u001b[1m x7    \u001b[0m\u001b[1m x8    \u001b[0m\u001b[1m x9    \u001b[0m\u001b[1m x10   \u001b[0m\n",
       "\u001b[1m     \u001b[0m│\u001b[90m Int64 \u001b[0m\u001b[90m Int64 \u001b[0m\u001b[90m Int64 \u001b[0m\u001b[90m Int64 \u001b[0m\u001b[90m Int64 \u001b[0m\u001b[90m Int64 \u001b[0m\u001b[90m Int64 \u001b[0m\u001b[90m Int64 \u001b[0m\u001b[90m Int64 \u001b[0m\u001b[90m Int64 \u001b[0m\n",
       "─────┼──────────────────────────────────────────────────────────────────────\n",
       "   1 │     1      5      7      7      4      7      5     10      7      5"
      ]
     },
     "execution_count": 14,
     "metadata": {},
     "output_type": "execute_result"
    }
   ],
   "source": [
    "first(y)"
   ]
  },
  {
   "cell_type": "code",
   "execution_count": 15,
   "metadata": {},
   "outputs": [
    {
     "data": {
      "text/html": [
       "<p>DataFrameRow (10 columns)</p><table class=\"data-frame\"><thead><tr><th></th><th>x1</th><th>x2</th><th>x3</th><th>x4</th><th>x5</th><th>x6</th><th>x7</th><th>x8</th><th>x9</th><th>x10</th></tr><tr><th></th><th>Int64</th><th>Int64</th><th>Int64</th><th>Int64</th><th>Int64</th><th>Int64</th><th>Int64</th><th>Int64</th><th>Int64</th><th>Int64</th></tr></thead><tbody><tr><th>1000</th><td>1</td><td>1</td><td>6</td><td>4</td><td>3</td><td>8</td><td>9</td><td>1</td><td>2</td><td>10</td></tr></tbody></table>"
      ],
      "text/latex": [
       "\\begin{tabular}{r|cccccccccc}\n",
       "\t& x1 & x2 & x3 & x4 & x5 & x6 & x7 & x8 & x9 & x10\\\\\n",
       "\t\\hline\n",
       "\t& Int64 & Int64 & Int64 & Int64 & Int64 & Int64 & Int64 & Int64 & Int64 & Int64\\\\\n",
       "\t\\hline\n",
       "\t1000 & 1 & 1 & 6 & 4 & 3 & 8 & 9 & 1 & 2 & 10 \\\\\n",
       "\\end{tabular}\n"
      ],
      "text/plain": [
       "\u001b[1mDataFrameRow\u001b[0m\n",
       "\u001b[1m  Row \u001b[0m│\u001b[1m x1    \u001b[0m\u001b[1m x2    \u001b[0m\u001b[1m x3    \u001b[0m\u001b[1m x4    \u001b[0m\u001b[1m x5    \u001b[0m\u001b[1m x6    \u001b[0m\u001b[1m x7    \u001b[0m\u001b[1m x8    \u001b[0m\u001b[1m x9    \u001b[0m\u001b[1m x10   \u001b[0m\n",
       "\u001b[1m      \u001b[0m│\u001b[90m Int64 \u001b[0m\u001b[90m Int64 \u001b[0m\u001b[90m Int64 \u001b[0m\u001b[90m Int64 \u001b[0m\u001b[90m Int64 \u001b[0m\u001b[90m Int64 \u001b[0m\u001b[90m Int64 \u001b[0m\u001b[90m Int64 \u001b[0m\u001b[90m Int64 \u001b[0m\u001b[90m Int64 \u001b[0m\n",
       "──────┼──────────────────────────────────────────────────────────────────────\n",
       " 1000 │     1      1      6      4      3      8      9      1      2     10"
      ]
     },
     "execution_count": 15,
     "metadata": {},
     "output_type": "execute_result"
    }
   ],
   "source": [
    "last(y)"
   ]
  },
  {
   "cell_type": "markdown",
   "metadata": {},
   "source": [
    "### Displaying large data frames"
   ]
  },
  {
   "cell_type": "markdown",
   "metadata": {},
   "source": [
    "Create a wide and tall data frame:"
   ]
  },
  {
   "cell_type": "code",
   "execution_count": 16,
   "metadata": {
    "scrolled": true
   },
   "outputs": [
    {
     "data": {
      "text/html": [
       "<table class=\"data-frame\"><thead><tr><th></th><th>x1</th><th>x2</th><th>x3</th><th>x4</th><th>x5</th><th>x6</th><th>x7</th><th>x8</th></tr><tr><th></th><th>Float64</th><th>Float64</th><th>Float64</th><th>Float64</th><th>Float64</th><th>Float64</th><th>Float64</th><th>Float64</th></tr></thead><tbody><p>100 rows × 100 columns (omitted printing of 92 columns)</p><tr><th>1</th><td>0.284863</td><td>0.150485</td><td>0.737636</td><td>0.806588</td><td>0.316241</td><td>0.743701</td><td>0.218102</td><td>0.165176</td></tr><tr><th>2</th><td>0.501957</td><td>0.231188</td><td>0.551661</td><td>0.360076</td><td>0.769242</td><td>0.700422</td><td>0.0486096</td><td>0.7185</td></tr><tr><th>3</th><td>0.973025</td><td>0.537029</td><td>0.00941453</td><td>0.52119</td><td>0.5629</td><td>0.250874</td><td>0.140555</td><td>0.112987</td></tr><tr><th>4</th><td>0.842876</td><td>0.730808</td><td>0.903605</td><td>0.946731</td><td>0.977526</td><td>0.333802</td><td>0.400038</td><td>0.33784</td></tr><tr><th>5</th><td>0.65979</td><td>0.401221</td><td>0.313394</td><td>0.676907</td><td>0.850611</td><td>0.0627812</td><td>0.810162</td><td>0.102764</td></tr><tr><th>6</th><td>0.822837</td><td>0.0276197</td><td>0.658882</td><td>0.016395</td><td>0.0616261</td><td>0.310589</td><td>0.436686</td><td>0.484467</td></tr><tr><th>7</th><td>0.0833133</td><td>0.311927</td><td>0.0744152</td><td>0.0912951</td><td>0.361815</td><td>0.472003</td><td>0.559648</td><td>0.319237</td></tr><tr><th>8</th><td>0.817371</td><td>0.265196</td><td>0.463726</td><td>0.91228</td><td>0.483566</td><td>0.581756</td><td>0.00719598</td><td>0.35739</td></tr><tr><th>9</th><td>0.409563</td><td>0.418353</td><td>0.256868</td><td>0.926944</td><td>0.0589892</td><td>0.291366</td><td>0.326054</td><td>0.461798</td></tr><tr><th>10</th><td>0.0243913</td><td>0.742843</td><td>0.188017</td><td>0.694479</td><td>0.666269</td><td>0.129156</td><td>0.672293</td><td>0.858619</td></tr><tr><th>11</th><td>0.482383</td><td>0.955282</td><td>0.233508</td><td>0.747231</td><td>0.518494</td><td>0.415593</td><td>0.595646</td><td>0.681008</td></tr><tr><th>12</th><td>0.323784</td><td>0.025924</td><td>0.0728444</td><td>0.667763</td><td>0.799078</td><td>0.377997</td><td>0.813016</td><td>0.0357485</td></tr><tr><th>13</th><td>0.777178</td><td>0.374977</td><td>0.232202</td><td>0.301119</td><td>0.0423492</td><td>0.553205</td><td>0.620544</td><td>0.725161</td></tr><tr><th>14</th><td>0.32888</td><td>0.32601</td><td>0.822652</td><td>0.259265</td><td>0.765089</td><td>0.901853</td><td>0.0792847</td><td>0.372975</td></tr><tr><th>15</th><td>0.501727</td><td>0.0398453</td><td>0.937719</td><td>0.439218</td><td>0.804299</td><td>0.138549</td><td>0.895076</td><td>0.00153297</td></tr><tr><th>16</th><td>0.52146</td><td>0.856776</td><td>0.382016</td><td>0.240306</td><td>0.281655</td><td>0.878164</td><td>0.597995</td><td>0.266199</td></tr><tr><th>17</th><td>0.337976</td><td>0.943597</td><td>0.51468</td><td>0.362495</td><td>0.0652686</td><td>0.740983</td><td>0.965501</td><td>0.0989875</td></tr><tr><th>18</th><td>0.69346</td><td>0.624703</td><td>0.420563</td><td>0.467613</td><td>0.112506</td><td>0.183984</td><td>0.65549</td><td>0.848481</td></tr><tr><th>19</th><td>0.353722</td><td>0.723033</td><td>0.790589</td><td>0.345875</td><td>0.561548</td><td>0.707417</td><td>0.629971</td><td>0.197502</td></tr><tr><th>20</th><td>0.127042</td><td>0.990181</td><td>0.346695</td><td>0.365287</td><td>0.887559</td><td>0.190963</td><td>0.424524</td><td>0.663097</td></tr><tr><th>21</th><td>0.701975</td><td>0.678245</td><td>0.284286</td><td>0.334785</td><td>0.282728</td><td>0.941942</td><td>0.723958</td><td>0.364829</td></tr><tr><th>22</th><td>0.789366</td><td>0.482226</td><td>0.0649026</td><td>0.668084</td><td>0.0756364</td><td>0.4073</td><td>0.441314</td><td>0.997686</td></tr><tr><th>23</th><td>0.268174</td><td>0.86607</td><td>0.312644</td><td>0.432063</td><td>0.89475</td><td>0.832465</td><td>0.723634</td><td>0.157679</td></tr><tr><th>24</th><td>0.860302</td><td>0.878146</td><td>0.915211</td><td>0.254229</td><td>0.26843</td><td>0.974284</td><td>0.971391</td><td>0.721182</td></tr><tr><th>25</th><td>0.949685</td><td>0.236915</td><td>0.755018</td><td>0.232379</td><td>0.639003</td><td>0.666543</td><td>0.441419</td><td>0.131415</td></tr><tr><th>26</th><td>0.574088</td><td>0.801623</td><td>0.607616</td><td>0.711027</td><td>0.0477447</td><td>0.890529</td><td>0.849463</td><td>0.131778</td></tr><tr><th>27</th><td>0.291873</td><td>0.768381</td><td>0.704663</td><td>0.514809</td><td>0.977823</td><td>0.324191</td><td>0.997311</td><td>0.104105</td></tr><tr><th>28</th><td>0.291645</td><td>0.868445</td><td>0.782816</td><td>0.715038</td><td>0.512001</td><td>0.901407</td><td>0.167229</td><td>0.769085</td></tr><tr><th>29</th><td>0.754239</td><td>0.853477</td><td>0.0521264</td><td>0.479213</td><td>0.93354</td><td>0.600708</td><td>0.847569</td><td>0.904917</td></tr><tr><th>30</th><td>0.168844</td><td>0.465722</td><td>0.373505</td><td>0.0701296</td><td>0.0514843</td><td>0.247047</td><td>0.0585983</td><td>0.178174</td></tr><tr><th>&vellip;</th><td>&vellip;</td><td>&vellip;</td><td>&vellip;</td><td>&vellip;</td><td>&vellip;</td><td>&vellip;</td><td>&vellip;</td><td>&vellip;</td></tr></tbody></table>"
      ],
      "text/latex": [
       "\\begin{tabular}{r|ccccccccc}\n",
       "\t& x1 & x2 & x3 & x4 & x5 & x6 & x7 & x8 & \\\\\n",
       "\t\\hline\n",
       "\t& Float64 & Float64 & Float64 & Float64 & Float64 & Float64 & Float64 & Float64 & \\\\\n",
       "\t\\hline\n",
       "\t1 & 0.284863 & 0.150485 & 0.737636 & 0.806588 & 0.316241 & 0.743701 & 0.218102 & 0.165176 & $\\dots$ \\\\\n",
       "\t2 & 0.501957 & 0.231188 & 0.551661 & 0.360076 & 0.769242 & 0.700422 & 0.0486096 & 0.7185 & $\\dots$ \\\\\n",
       "\t3 & 0.973025 & 0.537029 & 0.00941453 & 0.52119 & 0.5629 & 0.250874 & 0.140555 & 0.112987 & $\\dots$ \\\\\n",
       "\t4 & 0.842876 & 0.730808 & 0.903605 & 0.946731 & 0.977526 & 0.333802 & 0.400038 & 0.33784 & $\\dots$ \\\\\n",
       "\t5 & 0.65979 & 0.401221 & 0.313394 & 0.676907 & 0.850611 & 0.0627812 & 0.810162 & 0.102764 & $\\dots$ \\\\\n",
       "\t6 & 0.822837 & 0.0276197 & 0.658882 & 0.016395 & 0.0616261 & 0.310589 & 0.436686 & 0.484467 & $\\dots$ \\\\\n",
       "\t7 & 0.0833133 & 0.311927 & 0.0744152 & 0.0912951 & 0.361815 & 0.472003 & 0.559648 & 0.319237 & $\\dots$ \\\\\n",
       "\t8 & 0.817371 & 0.265196 & 0.463726 & 0.91228 & 0.483566 & 0.581756 & 0.00719598 & 0.35739 & $\\dots$ \\\\\n",
       "\t9 & 0.409563 & 0.418353 & 0.256868 & 0.926944 & 0.0589892 & 0.291366 & 0.326054 & 0.461798 & $\\dots$ \\\\\n",
       "\t10 & 0.0243913 & 0.742843 & 0.188017 & 0.694479 & 0.666269 & 0.129156 & 0.672293 & 0.858619 & $\\dots$ \\\\\n",
       "\t11 & 0.482383 & 0.955282 & 0.233508 & 0.747231 & 0.518494 & 0.415593 & 0.595646 & 0.681008 & $\\dots$ \\\\\n",
       "\t12 & 0.323784 & 0.025924 & 0.0728444 & 0.667763 & 0.799078 & 0.377997 & 0.813016 & 0.0357485 & $\\dots$ \\\\\n",
       "\t13 & 0.777178 & 0.374977 & 0.232202 & 0.301119 & 0.0423492 & 0.553205 & 0.620544 & 0.725161 & $\\dots$ \\\\\n",
       "\t14 & 0.32888 & 0.32601 & 0.822652 & 0.259265 & 0.765089 & 0.901853 & 0.0792847 & 0.372975 & $\\dots$ \\\\\n",
       "\t15 & 0.501727 & 0.0398453 & 0.937719 & 0.439218 & 0.804299 & 0.138549 & 0.895076 & 0.00153297 & $\\dots$ \\\\\n",
       "\t16 & 0.52146 & 0.856776 & 0.382016 & 0.240306 & 0.281655 & 0.878164 & 0.597995 & 0.266199 & $\\dots$ \\\\\n",
       "\t17 & 0.337976 & 0.943597 & 0.51468 & 0.362495 & 0.0652686 & 0.740983 & 0.965501 & 0.0989875 & $\\dots$ \\\\\n",
       "\t18 & 0.69346 & 0.624703 & 0.420563 & 0.467613 & 0.112506 & 0.183984 & 0.65549 & 0.848481 & $\\dots$ \\\\\n",
       "\t19 & 0.353722 & 0.723033 & 0.790589 & 0.345875 & 0.561548 & 0.707417 & 0.629971 & 0.197502 & $\\dots$ \\\\\n",
       "\t20 & 0.127042 & 0.990181 & 0.346695 & 0.365287 & 0.887559 & 0.190963 & 0.424524 & 0.663097 & $\\dots$ \\\\\n",
       "\t21 & 0.701975 & 0.678245 & 0.284286 & 0.334785 & 0.282728 & 0.941942 & 0.723958 & 0.364829 & $\\dots$ \\\\\n",
       "\t22 & 0.789366 & 0.482226 & 0.0649026 & 0.668084 & 0.0756364 & 0.4073 & 0.441314 & 0.997686 & $\\dots$ \\\\\n",
       "\t23 & 0.268174 & 0.86607 & 0.312644 & 0.432063 & 0.89475 & 0.832465 & 0.723634 & 0.157679 & $\\dots$ \\\\\n",
       "\t24 & 0.860302 & 0.878146 & 0.915211 & 0.254229 & 0.26843 & 0.974284 & 0.971391 & 0.721182 & $\\dots$ \\\\\n",
       "\t25 & 0.949685 & 0.236915 & 0.755018 & 0.232379 & 0.639003 & 0.666543 & 0.441419 & 0.131415 & $\\dots$ \\\\\n",
       "\t26 & 0.574088 & 0.801623 & 0.607616 & 0.711027 & 0.0477447 & 0.890529 & 0.849463 & 0.131778 & $\\dots$ \\\\\n",
       "\t27 & 0.291873 & 0.768381 & 0.704663 & 0.514809 & 0.977823 & 0.324191 & 0.997311 & 0.104105 & $\\dots$ \\\\\n",
       "\t28 & 0.291645 & 0.868445 & 0.782816 & 0.715038 & 0.512001 & 0.901407 & 0.167229 & 0.769085 & $\\dots$ \\\\\n",
       "\t29 & 0.754239 & 0.853477 & 0.0521264 & 0.479213 & 0.93354 & 0.600708 & 0.847569 & 0.904917 & $\\dots$ \\\\\n",
       "\t30 & 0.168844 & 0.465722 & 0.373505 & 0.0701296 & 0.0514843 & 0.247047 & 0.0585983 & 0.178174 & $\\dots$ \\\\\n",
       "\t$\\dots$ & $\\dots$ & $\\dots$ & $\\dots$ & $\\dots$ & $\\dots$ & $\\dots$ & $\\dots$ & $\\dots$ &  \\\\\n",
       "\\end{tabular}\n"
      ],
      "text/plain": [
       "\u001b[1m100×100 DataFrame\u001b[0m\n",
       "\u001b[1m Row \u001b[0m│\u001b[1m x1         \u001b[0m\u001b[1m x2        \u001b[0m\u001b[1m x3         \u001b[0m\u001b[1m x4        \u001b[0m\u001b[1m x5        \u001b[0m\u001b[1m x6        \u001b[0m\u001b[1m x7 \u001b[0m ⋯\n",
       "\u001b[1m     \u001b[0m│\u001b[90m Float64    \u001b[0m\u001b[90m Float64   \u001b[0m\u001b[90m Float64    \u001b[0m\u001b[90m Float64   \u001b[0m\u001b[90m Float64   \u001b[0m\u001b[90m Float64   \u001b[0m\u001b[90m Flo\u001b[0m ⋯\n",
       "─────┼──────────────────────────────────────────────────────────────────────────\n",
       "   1 │ 0.284863    0.150485   0.737636    0.806588   0.316241   0.743701   0.2 ⋯\n",
       "   2 │ 0.501957    0.231188   0.551661    0.360076   0.769242   0.700422   0.0\n",
       "   3 │ 0.973025    0.537029   0.00941453  0.52119    0.5629     0.250874   0.1\n",
       "   4 │ 0.842876    0.730808   0.903605    0.946731   0.977526   0.333802   0.4\n",
       "   5 │ 0.65979     0.401221   0.313394    0.676907   0.850611   0.0627812  0.8 ⋯\n",
       "   6 │ 0.822837    0.0276197  0.658882    0.016395   0.0616261  0.310589   0.4\n",
       "   7 │ 0.0833133   0.311927   0.0744152   0.0912951  0.361815   0.472003   0.5\n",
       "   8 │ 0.817371    0.265196   0.463726    0.91228    0.483566   0.581756   0.0\n",
       "   9 │ 0.409563    0.418353   0.256868    0.926944   0.0589892  0.291366   0.3 ⋯\n",
       "  10 │ 0.0243913   0.742843   0.188017    0.694479   0.666269   0.129156   0.6\n",
       "  11 │ 0.482383    0.955282   0.233508    0.747231   0.518494   0.415593   0.5\n",
       "  ⋮  │     ⋮           ⋮          ⋮           ⋮          ⋮          ⋮          ⋱\n",
       "  91 │ 0.780897    0.659955   0.685985    0.471389   0.523436   0.909539   0.7\n",
       "  92 │ 0.818819    0.313217   0.114935    0.697498   0.566097   0.175642   0.5 ⋯\n",
       "  93 │ 0.0949382   0.718962   0.0658265   0.552757   0.114074   0.0571597  0.7\n",
       "  94 │ 0.460005    0.134753   0.828335    0.238315   0.450378   0.999853   0.1\n",
       "  95 │ 0.182182    0.764623   0.719823    0.229742   0.761118   0.889701   0.4\n",
       "  96 │ 0.83929     0.564665   0.683635    0.518562   0.352002   0.705222   0.3 ⋯\n",
       "  97 │ 0.510171    0.976375   0.12638     0.980723   0.237461   0.478084   0.7\n",
       "  98 │ 0.857443    0.66959    0.123228    0.0861257  0.850015   0.104      0.1\n",
       "  99 │ 0.76754     0.765136   0.899327    0.727341   0.525397   0.503079   0.1\n",
       " 100 │ 0.971207    0.413363   0.963518    0.154477   0.0880684  0.974757   0.8 ⋯\n",
       "\u001b[36m                                                  94 columns and 79 rows omitted\u001b[0m"
      ]
     },
     "execution_count": 16,
     "metadata": {},
     "output_type": "execute_result"
    }
   ],
   "source": [
    "df = DataFrame(rand(100, 100), :auto)"
   ]
  },
  {
   "cell_type": "markdown",
   "metadata": {},
   "source": [
    "we can see that 92 of its columns were not printed. Also we get its first 30 rows. You can easily change this behavior by changing the value of `ENV[\"LINES\"]` and `ENV[\"COLUMNS\"]`."
   ]
  },
  {
   "cell_type": "code",
   "execution_count": 17,
   "metadata": {},
   "outputs": [
    {
     "data": {
      "text/plain": [
       "10"
      ]
     },
     "execution_count": 17,
     "metadata": {},
     "output_type": "execute_result"
    }
   ],
   "source": [
    "ENV[\"LINES\"] = 10"
   ]
  },
  {
   "cell_type": "code",
   "execution_count": 18,
   "metadata": {},
   "outputs": [
    {
     "data": {
      "text/plain": [
       "200"
      ]
     },
     "execution_count": 18,
     "metadata": {},
     "output_type": "execute_result"
    }
   ],
   "source": [
    "ENV[\"COLUMNS\"] = 200"
   ]
  },
  {
   "cell_type": "code",
   "execution_count": 19,
   "metadata": {},
   "outputs": [
    {
     "data": {
      "text/html": [
       "<table class=\"data-frame\"><thead><tr><th></th><th>x1</th><th>x2</th><th>x3</th><th>x4</th><th>x5</th><th>x6</th><th>x7</th><th>x8</th><th>x9</th><th>x10</th><th>x11</th><th>x12</th><th>x13</th><th>x14</th><th>x15</th><th>x16</th><th>x17</th><th>x18</th><th>x19</th></tr><tr><th></th><th>Float64</th><th>Float64</th><th>Float64</th><th>Float64</th><th>Float64</th><th>Float64</th><th>Float64</th><th>Float64</th><th>Float64</th><th>Float64</th><th>Float64</th><th>Float64</th><th>Float64</th><th>Float64</th><th>Float64</th><th>Float64</th><th>Float64</th><th>Float64</th><th>Float64</th></tr></thead><tbody><p>100 rows × 100 columns (omitted printing of 81 columns)</p><tr><th>1</th><td>0.284863</td><td>0.150485</td><td>0.737636</td><td>0.806588</td><td>0.316241</td><td>0.743701</td><td>0.218102</td><td>0.165176</td><td>0.0818365</td><td>0.0983644</td><td>0.0770015</td><td>0.583222</td><td>0.296157</td><td>0.837324</td><td>0.741328</td><td>0.545649</td><td>0.425016</td><td>0.0116202</td><td>0.918861</td></tr><tr><th>2</th><td>0.501957</td><td>0.231188</td><td>0.551661</td><td>0.360076</td><td>0.769242</td><td>0.700422</td><td>0.0486096</td><td>0.7185</td><td>0.705136</td><td>0.45167</td><td>0.192877</td><td>0.046497</td><td>0.173873</td><td>0.479886</td><td>0.586149</td><td>0.251211</td><td>0.189006</td><td>0.225503</td><td>0.348623</td></tr><tr><th>3</th><td>0.973025</td><td>0.537029</td><td>0.00941453</td><td>0.52119</td><td>0.5629</td><td>0.250874</td><td>0.140555</td><td>0.112987</td><td>0.194617</td><td>0.160313</td><td>0.977295</td><td>0.168291</td><td>0.953982</td><td>0.874838</td><td>0.805281</td><td>0.871176</td><td>0.548642</td><td>0.691007</td><td>0.552542</td></tr><tr><th>4</th><td>0.842876</td><td>0.730808</td><td>0.903605</td><td>0.946731</td><td>0.977526</td><td>0.333802</td><td>0.400038</td><td>0.33784</td><td>0.37407</td><td>0.860041</td><td>0.171666</td><td>0.91238</td><td>0.870106</td><td>0.80575</td><td>0.573598</td><td>0.90186</td><td>0.170766</td><td>0.0448987</td><td>0.656011</td></tr><tr><th>5</th><td>0.65979</td><td>0.401221</td><td>0.313394</td><td>0.676907</td><td>0.850611</td><td>0.0627812</td><td>0.810162</td><td>0.102764</td><td>0.463117</td><td>0.589625</td><td>0.611264</td><td>0.087908</td><td>0.972714</td><td>0.552724</td><td>0.424026</td><td>0.452282</td><td>0.71269</td><td>0.869421</td><td>0.552599</td></tr><tr><th>6</th><td>0.822837</td><td>0.0276197</td><td>0.658882</td><td>0.016395</td><td>0.0616261</td><td>0.310589</td><td>0.436686</td><td>0.484467</td><td>0.0648184</td><td>0.800449</td><td>0.00449887</td><td>0.623002</td><td>0.537856</td><td>0.189178</td><td>0.480624</td><td>0.0794668</td><td>0.639608</td><td>0.756184</td><td>0.324802</td></tr><tr><th>7</th><td>0.0833133</td><td>0.311927</td><td>0.0744152</td><td>0.0912951</td><td>0.361815</td><td>0.472003</td><td>0.559648</td><td>0.319237</td><td>0.62895</td><td>0.496908</td><td>0.736253</td><td>0.910113</td><td>0.173795</td><td>0.90739</td><td>0.159655</td><td>0.639726</td><td>0.150445</td><td>0.340965</td><td>0.942088</td></tr><tr><th>8</th><td>0.817371</td><td>0.265196</td><td>0.463726</td><td>0.91228</td><td>0.483566</td><td>0.581756</td><td>0.00719598</td><td>0.35739</td><td>0.259512</td><td>0.495318</td><td>0.48536</td><td>0.741115</td><td>0.800019</td><td>0.52507</td><td>0.580446</td><td>0.990122</td><td>0.920072</td><td>0.256567</td><td>0.451351</td></tr><tr><th>9</th><td>0.409563</td><td>0.418353</td><td>0.256868</td><td>0.926944</td><td>0.0589892</td><td>0.291366</td><td>0.326054</td><td>0.461798</td><td>0.626255</td><td>0.539294</td><td>0.00208776</td><td>0.354188</td><td>0.744345</td><td>0.99916</td><td>0.27808</td><td>0.553075</td><td>0.70034</td><td>0.707614</td><td>0.253815</td></tr><tr><th>10</th><td>0.0243913</td><td>0.742843</td><td>0.188017</td><td>0.694479</td><td>0.666269</td><td>0.129156</td><td>0.672293</td><td>0.858619</td><td>0.897235</td><td>0.36655</td><td>0.833211</td><td>0.170462</td><td>0.119561</td><td>0.911127</td><td>0.536527</td><td>0.861722</td><td>0.667115</td><td>0.806371</td><td>0.449196</td></tr><tr><th>&vellip;</th><td>&vellip;</td><td>&vellip;</td><td>&vellip;</td><td>&vellip;</td><td>&vellip;</td><td>&vellip;</td><td>&vellip;</td><td>&vellip;</td><td>&vellip;</td><td>&vellip;</td><td>&vellip;</td><td>&vellip;</td><td>&vellip;</td><td>&vellip;</td><td>&vellip;</td><td>&vellip;</td><td>&vellip;</td><td>&vellip;</td><td>&vellip;</td></tr></tbody></table>"
      ],
      "text/latex": [
       "\\begin{tabular}{r|cccccccccccccccccccc}\n",
       "\t& x1 & x2 & x3 & x4 & x5 & x6 & x7 & x8 & x9 & x10 & x11 & x12 & x13 & x14 & x15 & x16 & x17 & x18 & x19 & \\\\\n",
       "\t\\hline\n",
       "\t& Float64 & Float64 & Float64 & Float64 & Float64 & Float64 & Float64 & Float64 & Float64 & Float64 & Float64 & Float64 & Float64 & Float64 & Float64 & Float64 & Float64 & Float64 & Float64 & \\\\\n",
       "\t\\hline\n",
       "\t1 & 0.284863 & 0.150485 & 0.737636 & 0.806588 & 0.316241 & 0.743701 & 0.218102 & 0.165176 & 0.0818365 & 0.0983644 & 0.0770015 & 0.583222 & 0.296157 & 0.837324 & 0.741328 & 0.545649 & 0.425016 & 0.0116202 & 0.918861 & $\\dots$ \\\\\n",
       "\t2 & 0.501957 & 0.231188 & 0.551661 & 0.360076 & 0.769242 & 0.700422 & 0.0486096 & 0.7185 & 0.705136 & 0.45167 & 0.192877 & 0.046497 & 0.173873 & 0.479886 & 0.586149 & 0.251211 & 0.189006 & 0.225503 & 0.348623 & $\\dots$ \\\\\n",
       "\t3 & 0.973025 & 0.537029 & 0.00941453 & 0.52119 & 0.5629 & 0.250874 & 0.140555 & 0.112987 & 0.194617 & 0.160313 & 0.977295 & 0.168291 & 0.953982 & 0.874838 & 0.805281 & 0.871176 & 0.548642 & 0.691007 & 0.552542 & $\\dots$ \\\\\n",
       "\t4 & 0.842876 & 0.730808 & 0.903605 & 0.946731 & 0.977526 & 0.333802 & 0.400038 & 0.33784 & 0.37407 & 0.860041 & 0.171666 & 0.91238 & 0.870106 & 0.80575 & 0.573598 & 0.90186 & 0.170766 & 0.0448987 & 0.656011 & $\\dots$ \\\\\n",
       "\t5 & 0.65979 & 0.401221 & 0.313394 & 0.676907 & 0.850611 & 0.0627812 & 0.810162 & 0.102764 & 0.463117 & 0.589625 & 0.611264 & 0.087908 & 0.972714 & 0.552724 & 0.424026 & 0.452282 & 0.71269 & 0.869421 & 0.552599 & $\\dots$ \\\\\n",
       "\t6 & 0.822837 & 0.0276197 & 0.658882 & 0.016395 & 0.0616261 & 0.310589 & 0.436686 & 0.484467 & 0.0648184 & 0.800449 & 0.00449887 & 0.623002 & 0.537856 & 0.189178 & 0.480624 & 0.0794668 & 0.639608 & 0.756184 & 0.324802 & $\\dots$ \\\\\n",
       "\t7 & 0.0833133 & 0.311927 & 0.0744152 & 0.0912951 & 0.361815 & 0.472003 & 0.559648 & 0.319237 & 0.62895 & 0.496908 & 0.736253 & 0.910113 & 0.173795 & 0.90739 & 0.159655 & 0.639726 & 0.150445 & 0.340965 & 0.942088 & $\\dots$ \\\\\n",
       "\t8 & 0.817371 & 0.265196 & 0.463726 & 0.91228 & 0.483566 & 0.581756 & 0.00719598 & 0.35739 & 0.259512 & 0.495318 & 0.48536 & 0.741115 & 0.800019 & 0.52507 & 0.580446 & 0.990122 & 0.920072 & 0.256567 & 0.451351 & $\\dots$ \\\\\n",
       "\t9 & 0.409563 & 0.418353 & 0.256868 & 0.926944 & 0.0589892 & 0.291366 & 0.326054 & 0.461798 & 0.626255 & 0.539294 & 0.00208776 & 0.354188 & 0.744345 & 0.99916 & 0.27808 & 0.553075 & 0.70034 & 0.707614 & 0.253815 & $\\dots$ \\\\\n",
       "\t10 & 0.0243913 & 0.742843 & 0.188017 & 0.694479 & 0.666269 & 0.129156 & 0.672293 & 0.858619 & 0.897235 & 0.36655 & 0.833211 & 0.170462 & 0.119561 & 0.911127 & 0.536527 & 0.861722 & 0.667115 & 0.806371 & 0.449196 & $\\dots$ \\\\\n",
       "\t$\\dots$ & $\\dots$ & $\\dots$ & $\\dots$ & $\\dots$ & $\\dots$ & $\\dots$ & $\\dots$ & $\\dots$ & $\\dots$ & $\\dots$ & $\\dots$ & $\\dots$ & $\\dots$ & $\\dots$ & $\\dots$ & $\\dots$ & $\\dots$ & $\\dots$ & $\\dots$ &  \\\\\n",
       "\\end{tabular}\n"
      ],
      "text/plain": [
       "\u001b[1m100×100 DataFrame\u001b[0m\n",
       "\u001b[1m Row \u001b[0m│\u001b[1m x1       \u001b[0m\u001b[1m x2       \u001b[0m\u001b[1m x3         \u001b[0m\u001b[1m x4        \u001b[0m\u001b[1m x5        \u001b[0m\u001b[1m x6       \u001b[0m\u001b[1m x7        \u001b[0m\u001b[1m x8       \u001b[0m\u001b[1m x9        \u001b[0m\u001b[1m x10        \u001b[0m\u001b[1m x11       \u001b[0m\u001b[1m x12      \u001b[0m\u001b[1m x13      \u001b[0m\u001b[1m x14       \u001b[0m\u001b[1m x15      \u001b[0m\u001b[1m x16      \u001b[0m\u001b[1m x17      \u001b[0m\u001b[1m x18       \u001b[0m\u001b[1m \u001b[0m ⋯\n",
       "\u001b[1m     \u001b[0m│\u001b[90m Float64  \u001b[0m\u001b[90m Float64  \u001b[0m\u001b[90m Float64    \u001b[0m\u001b[90m Float64   \u001b[0m\u001b[90m Float64   \u001b[0m\u001b[90m Float64  \u001b[0m\u001b[90m Float64   \u001b[0m\u001b[90m Float64  \u001b[0m\u001b[90m Float64   \u001b[0m\u001b[90m Float64    \u001b[0m\u001b[90m Float64   \u001b[0m\u001b[90m Float64  \u001b[0m\u001b[90m Float64  \u001b[0m\u001b[90m Float64   \u001b[0m\u001b[90m Float64  \u001b[0m\u001b[90m Float64  \u001b[0m\u001b[90m Float64  \u001b[0m\u001b[90m Float64   \u001b[0m\u001b[90m \u001b[0m ⋯\n",
       "─────┼──────────────────────────────────────────────────────────────────────────────────────────────────────────────────────────────────────────────────────────────────────────────────────────────────\n",
       "   1 │ 0.284863  0.150485  0.737636    0.806588   0.316241   0.743701  0.218102   0.165176  0.0818365  0.0983644   0.0770015  0.583222  0.296157  0.837324   0.741328  0.545649  0.425016  0.0116202   ⋯\n",
       "  ⋮  │    ⋮         ⋮          ⋮           ⋮          ⋮         ⋮          ⋮         ⋮          ⋮          ⋮           ⋮         ⋮         ⋮          ⋮         ⋮         ⋮         ⋮          ⋮       ⋱\n",
       "\u001b[36m                                                                                                                                                                          82 columns and 99 rows omitted\u001b[0m"
      ]
     },
     "execution_count": 19,
     "metadata": {},
     "output_type": "execute_result"
    }
   ],
   "source": [
    "df"
   ]
  },
  {
   "cell_type": "markdown",
   "metadata": {},
   "source": [
    "### Most elementary get and set operations\n",
    "\n",
    "Given the `DataFrame` `x` we have created earlier, here are various ways to grab one of its columns as a `Vector`."
   ]
  },
  {
   "cell_type": "code",
   "execution_count": 20,
   "metadata": {},
   "outputs": [
    {
     "data": {
      "text/html": [
       "<table class=\"data-frame\"><thead><tr><th></th><th>A</th><th>B</th><th>C</th></tr><tr><th></th><th>Int64</th><th>Float64?</th><th>String</th></tr></thead><tbody><p>2 rows × 3 columns</p><tr><th>1</th><td>1</td><td>1.0</td><td>a</td></tr><tr><th>2</th><td>2</td><td><em>missing</em></td><td>b</td></tr></tbody></table>"
      ],
      "text/latex": [
       "\\begin{tabular}{r|ccc}\n",
       "\t& A & B & C\\\\\n",
       "\t\\hline\n",
       "\t& Int64 & Float64? & String\\\\\n",
       "\t\\hline\n",
       "\t1 & 1 & 1.0 & a \\\\\n",
       "\t2 & 2 & \\emph{missing} & b \\\\\n",
       "\\end{tabular}\n"
      ],
      "text/plain": [
       "\u001b[1m2×3 DataFrame\u001b[0m\n",
       "\u001b[1m Row \u001b[0m│\u001b[1m A     \u001b[0m\u001b[1m B         \u001b[0m\u001b[1m C      \u001b[0m\n",
       "\u001b[1m     \u001b[0m│\u001b[90m Int64 \u001b[0m\u001b[90m Float64?  \u001b[0m\u001b[90m String \u001b[0m\n",
       "─────┼──────────────────────────\n",
       "   1 │     1        1.0  a\n",
       "   2 │     2 \u001b[90m missing   \u001b[0m b"
      ]
     },
     "execution_count": 20,
     "metadata": {},
     "output_type": "execute_result"
    }
   ],
   "source": [
    "x"
   ]
  },
  {
   "cell_type": "code",
   "execution_count": 21,
   "metadata": {},
   "outputs": [
    {
     "data": {
      "text/plain": [
       "([1, 2], [1, 2], [1, 2])"
      ]
     },
     "execution_count": 21,
     "metadata": {},
     "output_type": "execute_result"
    }
   ],
   "source": [
    "x.A, x[!, 1], x[!, :A] # all get the vector stored in our DataFrame without copying it"
   ]
  },
  {
   "cell_type": "code",
   "execution_count": 22,
   "metadata": {},
   "outputs": [
    {
     "data": {
      "text/plain": [
       "([1, 2], [1, 2])"
      ]
     },
     "execution_count": 22,
     "metadata": {},
     "output_type": "execute_result"
    }
   ],
   "source": [
    "x.\"A\", x[!, \"A\"] # the same using string indexing"
   ]
  },
  {
   "cell_type": "code",
   "execution_count": 23,
   "metadata": {},
   "outputs": [
    {
     "data": {
      "text/plain": [
       "2-element Vector{Int64}:\n",
       " 1\n",
       " 2"
      ]
     },
     "execution_count": 23,
     "metadata": {},
     "output_type": "execute_result"
    }
   ],
   "source": [
    "x[:, 1] # note that this creates a copy"
   ]
  },
  {
   "cell_type": "code",
   "execution_count": 24,
   "metadata": {},
   "outputs": [
    {
     "data": {
      "text/plain": [
       "false"
      ]
     },
     "execution_count": 24,
     "metadata": {},
     "output_type": "execute_result"
    }
   ],
   "source": [
    "x[:, 1] === x[:, 1]"
   ]
  },
  {
   "cell_type": "markdown",
   "metadata": {},
   "source": [
    "To grab one row as a `DataFrame`, we can index as follows."
   ]
  },
  {
   "cell_type": "code",
   "execution_count": 25,
   "metadata": {},
   "outputs": [
    {
     "data": {
      "text/html": [
       "<table class=\"data-frame\"><thead><tr><th></th><th>A</th><th>B</th><th>C</th></tr><tr><th></th><th>Int64</th><th>Float64?</th><th>String</th></tr></thead><tbody><p>1 rows × 3 columns</p><tr><th>1</th><td>1</td><td>1.0</td><td>a</td></tr></tbody></table>"
      ],
      "text/latex": [
       "\\begin{tabular}{r|ccc}\n",
       "\t& A & B & C\\\\\n",
       "\t\\hline\n",
       "\t& Int64 & Float64? & String\\\\\n",
       "\t\\hline\n",
       "\t1 & 1 & 1.0 & a \\\\\n",
       "\\end{tabular}\n"
      ],
      "text/plain": [
       "\u001b[1m1×3 DataFrame\u001b[0m\n",
       "\u001b[1m Row \u001b[0m│\u001b[1m A     \u001b[0m\u001b[1m B        \u001b[0m\u001b[1m C      \u001b[0m\n",
       "\u001b[1m     \u001b[0m│\u001b[90m Int64 \u001b[0m\u001b[90m Float64? \u001b[0m\u001b[90m String \u001b[0m\n",
       "─────┼─────────────────────────\n",
       "   1 │     1       1.0  a"
      ]
     },
     "execution_count": 25,
     "metadata": {},
     "output_type": "execute_result"
    }
   ],
   "source": [
    "x[1:1, :]"
   ]
  },
  {
   "cell_type": "code",
   "execution_count": 26,
   "metadata": {},
   "outputs": [
    {
     "data": {
      "text/html": [
       "<p>DataFrameRow (3 columns)</p><table class=\"data-frame\"><thead><tr><th></th><th>A</th><th>B</th><th>C</th></tr><tr><th></th><th>Int64</th><th>Float64?</th><th>String</th></tr></thead><tbody><tr><th>1</th><td>1</td><td>1.0</td><td>a</td></tr></tbody></table>"
      ],
      "text/latex": [
       "\\begin{tabular}{r|ccc}\n",
       "\t& A & B & C\\\\\n",
       "\t\\hline\n",
       "\t& Int64 & Float64? & String\\\\\n",
       "\t\\hline\n",
       "\t1 & 1 & 1.0 & a \\\\\n",
       "\\end{tabular}\n"
      ],
      "text/plain": [
       "\u001b[1mDataFrameRow\u001b[0m\n",
       "\u001b[1m Row \u001b[0m│\u001b[1m A     \u001b[0m\u001b[1m B        \u001b[0m\u001b[1m C      \u001b[0m\n",
       "\u001b[1m     \u001b[0m│\u001b[90m Int64 \u001b[0m\u001b[90m Float64? \u001b[0m\u001b[90m String \u001b[0m\n",
       "─────┼─────────────────────────\n",
       "   1 │     1       1.0  a"
      ]
     },
     "execution_count": 26,
     "metadata": {},
     "output_type": "execute_result"
    }
   ],
   "source": [
    "x[1, :] # this produces a DataFrameRow which is treated as 1-dimensional object similar to a NamedTuple"
   ]
  },
  {
   "cell_type": "markdown",
   "metadata": {},
   "source": [
    "We can grab a single cell or element with the same syntax to grab an element of an array."
   ]
  },
  {
   "cell_type": "code",
   "execution_count": 27,
   "metadata": {},
   "outputs": [
    {
     "data": {
      "text/plain": [
       "1"
      ]
     },
     "execution_count": 27,
     "metadata": {},
     "output_type": "execute_result"
    }
   ],
   "source": [
    "x[1, 1]"
   ]
  },
  {
   "cell_type": "markdown",
   "metadata": {},
   "source": [
    "or a new `DataFrame` that is a subset of rows and columns"
   ]
  },
  {
   "cell_type": "code",
   "execution_count": 28,
   "metadata": {},
   "outputs": [
    {
     "data": {
      "text/html": [
       "<table class=\"data-frame\"><thead><tr><th></th><th>A</th><th>B</th></tr><tr><th></th><th>Int64</th><th>Float64?</th></tr></thead><tbody><p>2 rows × 2 columns</p><tr><th>1</th><td>1</td><td>1.0</td></tr><tr><th>2</th><td>2</td><td><em>missing</em></td></tr></tbody></table>"
      ],
      "text/latex": [
       "\\begin{tabular}{r|cc}\n",
       "\t& A & B\\\\\n",
       "\t\\hline\n",
       "\t& Int64 & Float64?\\\\\n",
       "\t\\hline\n",
       "\t1 & 1 & 1.0 \\\\\n",
       "\t2 & 2 & \\emph{missing} \\\\\n",
       "\\end{tabular}\n"
      ],
      "text/plain": [
       "\u001b[1m2×2 DataFrame\u001b[0m\n",
       "\u001b[1m Row \u001b[0m│\u001b[1m A     \u001b[0m\u001b[1m B         \u001b[0m\n",
       "\u001b[1m     \u001b[0m│\u001b[90m Int64 \u001b[0m\u001b[90m Float64?  \u001b[0m\n",
       "─────┼──────────────────\n",
       "   1 │     1        1.0\n",
       "   2 │     2 \u001b[90m missing   \u001b[0m"
      ]
     },
     "execution_count": 28,
     "metadata": {},
     "output_type": "execute_result"
    }
   ],
   "source": [
    "x[1:2, 1:2]"
   ]
  },
  {
   "cell_type": "markdown",
   "metadata": {},
   "source": [
    "You can also use `Regex` to select columns and `Not` from InvertedIndices.jl both to select rows and columns"
   ]
  },
  {
   "cell_type": "code",
   "execution_count": 29,
   "metadata": {},
   "outputs": [
    {
     "data": {
      "text/html": [
       "<table class=\"data-frame\"><thead><tr><th></th><th>A</th></tr><tr><th></th><th>Int64</th></tr></thead><tbody><p>1 rows × 1 columns</p><tr><th>1</th><td>2</td></tr></tbody></table>"
      ],
      "text/latex": [
       "\\begin{tabular}{r|c}\n",
       "\t& A\\\\\n",
       "\t\\hline\n",
       "\t& Int64\\\\\n",
       "\t\\hline\n",
       "\t1 & 2 \\\\\n",
       "\\end{tabular}\n"
      ],
      "text/plain": [
       "\u001b[1m1×1 DataFrame\u001b[0m\n",
       "\u001b[1m Row \u001b[0m│\u001b[1m A     \u001b[0m\n",
       "\u001b[1m     \u001b[0m│\u001b[90m Int64 \u001b[0m\n",
       "─────┼───────\n",
       "   1 │     2"
      ]
     },
     "execution_count": 29,
     "metadata": {},
     "output_type": "execute_result"
    }
   ],
   "source": [
    "x[Not(1), r\"A\"]"
   ]
  },
  {
   "cell_type": "code",
   "execution_count": 30,
   "metadata": {},
   "outputs": [
    {
     "data": {
      "text/html": [
       "<table class=\"data-frame\"><thead><tr><th></th><th>B</th><th>C</th></tr><tr><th></th><th>Float64?</th><th>String</th></tr></thead><tbody><p>2 rows × 2 columns</p><tr><th>1</th><td>1.0</td><td>a</td></tr><tr><th>2</th><td><em>missing</em></td><td>b</td></tr></tbody></table>"
      ],
      "text/latex": [
       "\\begin{tabular}{r|cc}\n",
       "\t& B & C\\\\\n",
       "\t\\hline\n",
       "\t& Float64? & String\\\\\n",
       "\t\\hline\n",
       "\t1 & 1.0 & a \\\\\n",
       "\t2 & \\emph{missing} & b \\\\\n",
       "\\end{tabular}\n"
      ],
      "text/plain": [
       "\u001b[1m2×2 DataFrame\u001b[0m\n",
       "\u001b[1m Row \u001b[0m│\u001b[1m B         \u001b[0m\u001b[1m C      \u001b[0m\n",
       "\u001b[1m     \u001b[0m│\u001b[90m Float64?  \u001b[0m\u001b[90m String \u001b[0m\n",
       "─────┼───────────────────\n",
       "   1 │       1.0  a\n",
       "   2 │\u001b[90m missing   \u001b[0m b"
      ]
     },
     "execution_count": 30,
     "metadata": {},
     "output_type": "execute_result"
    }
   ],
   "source": [
    "x[!, Not(1)] # ! indicates that underlying columns are not copied"
   ]
  },
  {
   "cell_type": "code",
   "execution_count": 31,
   "metadata": {},
   "outputs": [
    {
     "data": {
      "text/html": [
       "<table class=\"data-frame\"><thead><tr><th></th><th>B</th><th>C</th></tr><tr><th></th><th>Float64?</th><th>String</th></tr></thead><tbody><p>2 rows × 2 columns</p><tr><th>1</th><td>1.0</td><td>a</td></tr><tr><th>2</th><td><em>missing</em></td><td>b</td></tr></tbody></table>"
      ],
      "text/latex": [
       "\\begin{tabular}{r|cc}\n",
       "\t& B & C\\\\\n",
       "\t\\hline\n",
       "\t& Float64? & String\\\\\n",
       "\t\\hline\n",
       "\t1 & 1.0 & a \\\\\n",
       "\t2 & \\emph{missing} & b \\\\\n",
       "\\end{tabular}\n"
      ],
      "text/plain": [
       "\u001b[1m2×2 DataFrame\u001b[0m\n",
       "\u001b[1m Row \u001b[0m│\u001b[1m B         \u001b[0m\u001b[1m C      \u001b[0m\n",
       "\u001b[1m     \u001b[0m│\u001b[90m Float64?  \u001b[0m\u001b[90m String \u001b[0m\n",
       "─────┼───────────────────\n",
       "   1 │       1.0  a\n",
       "   2 │\u001b[90m missing   \u001b[0m b"
      ]
     },
     "execution_count": 31,
     "metadata": {},
     "output_type": "execute_result"
    }
   ],
   "source": [
    "x[:, Not(1)] # : means that the columns will get copied"
   ]
  },
  {
   "cell_type": "markdown",
   "metadata": {},
   "source": [
    "Assignment of a scalar to a data frame can be done in ranges using broadcasting:"
   ]
  },
  {
   "cell_type": "code",
   "execution_count": 32,
   "metadata": {},
   "outputs": [
    {
     "data": {
      "text/html": [
       "<table class=\"data-frame\"><thead><tr><th></th><th>A</th><th>B</th><th>C</th></tr><tr><th></th><th>Int64</th><th>Float64?</th><th>String</th></tr></thead><tbody><p>2 rows × 3 columns</p><tr><th>1</th><td>1</td><td>1.0</td><td>a</td></tr><tr><th>2</th><td>1</td><td>1.0</td><td>b</td></tr></tbody></table>"
      ],
      "text/latex": [
       "\\begin{tabular}{r|ccc}\n",
       "\t& A & B & C\\\\\n",
       "\t\\hline\n",
       "\t& Int64 & Float64? & String\\\\\n",
       "\t\\hline\n",
       "\t1 & 1 & 1.0 & a \\\\\n",
       "\t2 & 1 & 1.0 & b \\\\\n",
       "\\end{tabular}\n"
      ],
      "text/plain": [
       "\u001b[1m2×3 DataFrame\u001b[0m\n",
       "\u001b[1m Row \u001b[0m│\u001b[1m A     \u001b[0m\u001b[1m B        \u001b[0m\u001b[1m C      \u001b[0m\n",
       "\u001b[1m     \u001b[0m│\u001b[90m Int64 \u001b[0m\u001b[90m Float64? \u001b[0m\u001b[90m String \u001b[0m\n",
       "─────┼─────────────────────────\n",
       "   1 │     1       1.0  a\n",
       "   2 │     1       1.0  b"
      ]
     },
     "execution_count": 32,
     "metadata": {},
     "output_type": "execute_result"
    }
   ],
   "source": [
    "x[1:2, 1:2] .= 1\n",
    "x"
   ]
  },
  {
   "cell_type": "markdown",
   "metadata": {},
   "source": [
    "Assignment of a vector of length equal to the number of assigned rows using broadcasting"
   ]
  },
  {
   "cell_type": "code",
   "execution_count": 33,
   "metadata": {},
   "outputs": [
    {
     "data": {
      "text/html": [
       "<table class=\"data-frame\"><thead><tr><th></th><th>A</th><th>B</th><th>C</th></tr><tr><th></th><th>Int64</th><th>Float64?</th><th>String</th></tr></thead><tbody><p>2 rows × 3 columns</p><tr><th>1</th><td>1</td><td>1.0</td><td>a</td></tr><tr><th>2</th><td>2</td><td>2.0</td><td>b</td></tr></tbody></table>"
      ],
      "text/latex": [
       "\\begin{tabular}{r|ccc}\n",
       "\t& A & B & C\\\\\n",
       "\t\\hline\n",
       "\t& Int64 & Float64? & String\\\\\n",
       "\t\\hline\n",
       "\t1 & 1 & 1.0 & a \\\\\n",
       "\t2 & 2 & 2.0 & b \\\\\n",
       "\\end{tabular}\n"
      ],
      "text/plain": [
       "\u001b[1m2×3 DataFrame\u001b[0m\n",
       "\u001b[1m Row \u001b[0m│\u001b[1m A     \u001b[0m\u001b[1m B        \u001b[0m\u001b[1m C      \u001b[0m\n",
       "\u001b[1m     \u001b[0m│\u001b[90m Int64 \u001b[0m\u001b[90m Float64? \u001b[0m\u001b[90m String \u001b[0m\n",
       "─────┼─────────────────────────\n",
       "   1 │     1       1.0  a\n",
       "   2 │     2       2.0  b"
      ]
     },
     "execution_count": 33,
     "metadata": {},
     "output_type": "execute_result"
    }
   ],
   "source": [
    "x[1:2, 1:2] .= [1,2]\n",
    "x"
   ]
  },
  {
   "cell_type": "markdown",
   "metadata": {},
   "source": [
    "Assignment or of another data frame of matching size and column names, again using broadcasting:"
   ]
  },
  {
   "cell_type": "code",
   "execution_count": 34,
   "metadata": {},
   "outputs": [
    {
     "data": {
      "text/html": [
       "<table class=\"data-frame\"><thead><tr><th></th><th>A</th><th>B</th><th>C</th></tr><tr><th></th><th>Int64</th><th>Float64?</th><th>String</th></tr></thead><tbody><p>2 rows × 3 columns</p><tr><th>1</th><td>5</td><td>6.0</td><td>a</td></tr><tr><th>2</th><td>7</td><td>8.0</td><td>b</td></tr></tbody></table>"
      ],
      "text/latex": [
       "\\begin{tabular}{r|ccc}\n",
       "\t& A & B & C\\\\\n",
       "\t\\hline\n",
       "\t& Int64 & Float64? & String\\\\\n",
       "\t\\hline\n",
       "\t1 & 5 & 6.0 & a \\\\\n",
       "\t2 & 7 & 8.0 & b \\\\\n",
       "\\end{tabular}\n"
      ],
      "text/plain": [
       "\u001b[1m2×3 DataFrame\u001b[0m\n",
       "\u001b[1m Row \u001b[0m│\u001b[1m A     \u001b[0m\u001b[1m B        \u001b[0m\u001b[1m C      \u001b[0m\n",
       "\u001b[1m     \u001b[0m│\u001b[90m Int64 \u001b[0m\u001b[90m Float64? \u001b[0m\u001b[90m String \u001b[0m\n",
       "─────┼─────────────────────────\n",
       "   1 │     5       6.0  a\n",
       "   2 │     7       8.0  b"
      ]
     },
     "execution_count": 34,
     "metadata": {},
     "output_type": "execute_result"
    }
   ],
   "source": [
    "x[1:2, 1:2] .= DataFrame([5 6; 7 8], [:A, :B])\n",
    "x"
   ]
  },
  {
   "cell_type": "markdown",
   "metadata": {},
   "source": [
    "**Caution**\n",
    "\n",
    "With `df[!, :col]` and `df.col` syntax you get a direct (non copying) access to a column of a data frame.\n",
    "This is potentially unsafe as you can easily corrupt data in the `df` data frame if you resize, sort, etc. the column obtained in this way.\n",
    "Therefore such access should be used with caution.\n",
    "\n",
    "Similarly `df[!, cols]` when `cols` is a collection of columns produces a new data frame that holds the same (not copied) columns as the source `df` data frame. Similarly, modifying the data frame obtained via `df[!, cols]` might cause problems with the consistency of `df`.\n",
    "\n",
    "The `df[:, :col]` and `df[:, cols]` syntaxes always copy columns so they are safe to use (and should generally be preferred except for performance or memory critical use cases)."
   ]
  },
  {
   "cell_type": "markdown",
   "metadata": {},
   "source": [
    "Here are examples of how `Cols` and `Between` can be used to select columns of a data frame."
   ]
  },
  {
   "cell_type": "code",
   "execution_count": 35,
   "metadata": {},
   "outputs": [
    {
     "data": {
      "text/html": [
       "<table class=\"data-frame\"><thead><tr><th></th><th>x1</th><th>x2</th><th>x3</th><th>x4</th><th>x5</th></tr><tr><th></th><th>Float64</th><th>Float64</th><th>Float64</th><th>Float64</th><th>Float64</th></tr></thead><tbody><p>4 rows × 5 columns</p><tr><th>1</th><td>0.596819</td><td>0.502579</td><td>0.680181</td><td>0.28736</td><td>0.594995</td></tr><tr><th>2</th><td>0.601399</td><td>0.456482</td><td>0.256213</td><td>0.209147</td><td>0.225149</td></tr><tr><th>3</th><td>0.328791</td><td>0.278495</td><td>0.409022</td><td>0.3291</td><td>0.600518</td></tr><tr><th>4</th><td>0.360823</td><td>0.275127</td><td>0.693335</td><td>0.629522</td><td>0.395221</td></tr></tbody></table>"
      ],
      "text/latex": [
       "\\begin{tabular}{r|ccccc}\n",
       "\t& x1 & x2 & x3 & x4 & x5\\\\\n",
       "\t\\hline\n",
       "\t& Float64 & Float64 & Float64 & Float64 & Float64\\\\\n",
       "\t\\hline\n",
       "\t1 & 0.596819 & 0.502579 & 0.680181 & 0.28736 & 0.594995 \\\\\n",
       "\t2 & 0.601399 & 0.456482 & 0.256213 & 0.209147 & 0.225149 \\\\\n",
       "\t3 & 0.328791 & 0.278495 & 0.409022 & 0.3291 & 0.600518 \\\\\n",
       "\t4 & 0.360823 & 0.275127 & 0.693335 & 0.629522 & 0.395221 \\\\\n",
       "\\end{tabular}\n"
      ],
      "text/plain": [
       "\u001b[1m4×5 DataFrame\u001b[0m\n",
       "\u001b[1m Row \u001b[0m│\u001b[1m x1       \u001b[0m\u001b[1m x2       \u001b[0m\u001b[1m x3       \u001b[0m\u001b[1m x4       \u001b[0m\u001b[1m x5       \u001b[0m\n",
       "\u001b[1m     \u001b[0m│\u001b[90m Float64  \u001b[0m\u001b[90m Float64  \u001b[0m\u001b[90m Float64  \u001b[0m\u001b[90m Float64  \u001b[0m\u001b[90m Float64  \u001b[0m\n",
       "─────┼──────────────────────────────────────────────────\n",
       "   1 │ 0.596819  0.502579  0.680181  0.28736   0.594995\n",
       "  ⋮  │    ⋮         ⋮         ⋮         ⋮         ⋮\n",
       "\u001b[36m                                          3 rows omitted\u001b[0m"
      ]
     },
     "execution_count": 35,
     "metadata": {},
     "output_type": "execute_result"
    }
   ],
   "source": [
    "x = DataFrame(rand(4, 5), :auto)"
   ]
  },
  {
   "cell_type": "code",
   "execution_count": 36,
   "metadata": {},
   "outputs": [
    {
     "data": {
      "text/html": [
       "<table class=\"data-frame\"><thead><tr><th></th><th>x2</th><th>x3</th><th>x4</th></tr><tr><th></th><th>Float64</th><th>Float64</th><th>Float64</th></tr></thead><tbody><p>4 rows × 3 columns</p><tr><th>1</th><td>0.502579</td><td>0.680181</td><td>0.28736</td></tr><tr><th>2</th><td>0.456482</td><td>0.256213</td><td>0.209147</td></tr><tr><th>3</th><td>0.278495</td><td>0.409022</td><td>0.3291</td></tr><tr><th>4</th><td>0.275127</td><td>0.693335</td><td>0.629522</td></tr></tbody></table>"
      ],
      "text/latex": [
       "\\begin{tabular}{r|ccc}\n",
       "\t& x2 & x3 & x4\\\\\n",
       "\t\\hline\n",
       "\t& Float64 & Float64 & Float64\\\\\n",
       "\t\\hline\n",
       "\t1 & 0.502579 & 0.680181 & 0.28736 \\\\\n",
       "\t2 & 0.456482 & 0.256213 & 0.209147 \\\\\n",
       "\t3 & 0.278495 & 0.409022 & 0.3291 \\\\\n",
       "\t4 & 0.275127 & 0.693335 & 0.629522 \\\\\n",
       "\\end{tabular}\n"
      ],
      "text/plain": [
       "\u001b[1m4×3 DataFrame\u001b[0m\n",
       "\u001b[1m Row \u001b[0m│\u001b[1m x2       \u001b[0m\u001b[1m x3       \u001b[0m\u001b[1m x4       \u001b[0m\n",
       "\u001b[1m     \u001b[0m│\u001b[90m Float64  \u001b[0m\u001b[90m Float64  \u001b[0m\u001b[90m Float64  \u001b[0m\n",
       "─────┼──────────────────────────────\n",
       "   1 │ 0.502579  0.680181  0.28736\n",
       "  ⋮  │    ⋮         ⋮         ⋮\n",
       "\u001b[36m                      3 rows omitted\u001b[0m"
      ]
     },
     "execution_count": 36,
     "metadata": {},
     "output_type": "execute_result"
    }
   ],
   "source": [
    "x[:, Between(:x2, :x4)]"
   ]
  },
  {
   "cell_type": "code",
   "execution_count": 37,
   "metadata": {},
   "outputs": [
    {
     "data": {
      "text/html": [
       "<table class=\"data-frame\"><thead><tr><th></th><th>x1</th><th>x2</th><th>x3</th><th>x4</th></tr><tr><th></th><th>Float64</th><th>Float64</th><th>Float64</th><th>Float64</th></tr></thead><tbody><p>4 rows × 4 columns</p><tr><th>1</th><td>0.596819</td><td>0.502579</td><td>0.680181</td><td>0.28736</td></tr><tr><th>2</th><td>0.601399</td><td>0.456482</td><td>0.256213</td><td>0.209147</td></tr><tr><th>3</th><td>0.328791</td><td>0.278495</td><td>0.409022</td><td>0.3291</td></tr><tr><th>4</th><td>0.360823</td><td>0.275127</td><td>0.693335</td><td>0.629522</td></tr></tbody></table>"
      ],
      "text/latex": [
       "\\begin{tabular}{r|cccc}\n",
       "\t& x1 & x2 & x3 & x4\\\\\n",
       "\t\\hline\n",
       "\t& Float64 & Float64 & Float64 & Float64\\\\\n",
       "\t\\hline\n",
       "\t1 & 0.596819 & 0.502579 & 0.680181 & 0.28736 \\\\\n",
       "\t2 & 0.601399 & 0.456482 & 0.256213 & 0.209147 \\\\\n",
       "\t3 & 0.328791 & 0.278495 & 0.409022 & 0.3291 \\\\\n",
       "\t4 & 0.360823 & 0.275127 & 0.693335 & 0.629522 \\\\\n",
       "\\end{tabular}\n"
      ],
      "text/plain": [
       "\u001b[1m4×4 DataFrame\u001b[0m\n",
       "\u001b[1m Row \u001b[0m│\u001b[1m x1       \u001b[0m\u001b[1m x2       \u001b[0m\u001b[1m x3       \u001b[0m\u001b[1m x4       \u001b[0m\n",
       "\u001b[1m     \u001b[0m│\u001b[90m Float64  \u001b[0m\u001b[90m Float64  \u001b[0m\u001b[90m Float64  \u001b[0m\u001b[90m Float64  \u001b[0m\n",
       "─────┼────────────────────────────────────────\n",
       "   1 │ 0.596819  0.502579  0.680181  0.28736\n",
       "  ⋮  │    ⋮         ⋮         ⋮         ⋮\n",
       "\u001b[36m                                3 rows omitted\u001b[0m"
      ]
     },
     "execution_count": 37,
     "metadata": {},
     "output_type": "execute_result"
    }
   ],
   "source": [
    "x[:, Cols(\"x1\", Between(\"x2\", \"x4\"))]"
   ]
  },
  {
   "cell_type": "markdown",
   "metadata": {},
   "source": [
    "### Views"
   ]
  },
  {
   "cell_type": "markdown",
   "metadata": {},
   "source": [
    "You can simply create a view of a `DataFrame` (it is more efficient than creating a materialized selection). Here are the possible return value options."
   ]
  },
  {
   "cell_type": "code",
   "execution_count": 38,
   "metadata": {},
   "outputs": [
    {
     "data": {
      "text/plain": [
       "2-element view(::Vector{Float64}, 1:2) with eltype Float64:\n",
       " 0.5968194305122594\n",
       " 0.601398691761077"
      ]
     },
     "execution_count": 38,
     "metadata": {},
     "output_type": "execute_result"
    }
   ],
   "source": [
    "@view x[1:2, 1]"
   ]
  },
  {
   "cell_type": "code",
   "execution_count": 39,
   "metadata": {},
   "outputs": [
    {
     "data": {
      "text/plain": [
       "0-dimensional view(::Vector{Float64}, 1) with eltype Float64:\n",
       "0.5968194305122594"
      ]
     },
     "execution_count": 39,
     "metadata": {},
     "output_type": "execute_result"
    }
   ],
   "source": [
    "@view x[1,1]"
   ]
  },
  {
   "cell_type": "code",
   "execution_count": 40,
   "metadata": {},
   "outputs": [
    {
     "data": {
      "text/html": [
       "<p>DataFrameRow (2 columns)</p><table class=\"data-frame\"><thead><tr><th></th><th>x1</th><th>x2</th></tr><tr><th></th><th>Float64</th><th>Float64</th></tr></thead><tbody><tr><th>1</th><td>0.596819</td><td>0.502579</td></tr></tbody></table>"
      ],
      "text/latex": [
       "\\begin{tabular}{r|cc}\n",
       "\t& x1 & x2\\\\\n",
       "\t\\hline\n",
       "\t& Float64 & Float64\\\\\n",
       "\t\\hline\n",
       "\t1 & 0.596819 & 0.502579 \\\\\n",
       "\\end{tabular}\n"
      ],
      "text/plain": [
       "\u001b[1mDataFrameRow\u001b[0m\n",
       "\u001b[1m Row \u001b[0m│\u001b[1m x1       \u001b[0m\u001b[1m x2       \u001b[0m\n",
       "\u001b[1m     \u001b[0m│\u001b[90m Float64  \u001b[0m\u001b[90m Float64  \u001b[0m\n",
       "─────┼────────────────────\n",
       "   1 │ 0.596819  0.502579"
      ]
     },
     "execution_count": 40,
     "metadata": {},
     "output_type": "execute_result"
    }
   ],
   "source": [
    "@view x[1, 1:2] # a DataFrameRow, the same as for x[1, 1:2] without a view"
   ]
  },
  {
   "cell_type": "code",
   "execution_count": 41,
   "metadata": {},
   "outputs": [
    {
     "data": {
      "text/html": [
       "<table class=\"data-frame\"><thead><tr><th></th><th>x1</th><th>x2</th></tr><tr><th></th><th>Float64</th><th>Float64</th></tr></thead><tbody><p>2 rows × 2 columns</p><tr><th>1</th><td>0.596819</td><td>0.502579</td></tr><tr><th>2</th><td>0.601399</td><td>0.456482</td></tr></tbody></table>"
      ],
      "text/latex": [
       "\\begin{tabular}{r|cc}\n",
       "\t& x1 & x2\\\\\n",
       "\t\\hline\n",
       "\t& Float64 & Float64\\\\\n",
       "\t\\hline\n",
       "\t1 & 0.596819 & 0.502579 \\\\\n",
       "\t2 & 0.601399 & 0.456482 \\\\\n",
       "\\end{tabular}\n"
      ],
      "text/plain": [
       "\u001b[1m2×2 SubDataFrame\u001b[0m\n",
       "\u001b[1m Row \u001b[0m│\u001b[1m x1       \u001b[0m\u001b[1m x2       \u001b[0m\n",
       "\u001b[1m     \u001b[0m│\u001b[90m Float64  \u001b[0m\u001b[90m Float64  \u001b[0m\n",
       "─────┼────────────────────\n",
       "   1 │ 0.596819  0.502579\n",
       "   2 │ 0.601399  0.456482"
      ]
     },
     "execution_count": 41,
     "metadata": {},
     "output_type": "execute_result"
    }
   ],
   "source": [
    "@view x[1:2, 1:2] # a SubDataFrame"
   ]
  },
  {
   "cell_type": "markdown",
   "metadata": {},
   "source": [
    "### Adding new columns to a data frame"
   ]
  },
  {
   "cell_type": "code",
   "execution_count": 42,
   "metadata": {},
   "outputs": [
    {
     "data": {
      "text/html": [
       "<table class=\"data-frame\"><thead><tr><th></th></tr><tr><th></th></tr></thead><tbody><p>0 rows × 0 columns</p></tbody></table>"
      ],
      "text/latex": [
       "\\begin{tabular}{r|}\n",
       "\t& \\\\\n",
       "\t\\hline\n",
       "\t& \\\\\n",
       "\t\\hline\n",
       "\\end{tabular}\n"
      ],
      "text/plain": [
       "\u001b[1m0×0 DataFrame\u001b[0m"
      ]
     },
     "execution_count": 42,
     "metadata": {},
     "output_type": "execute_result"
    }
   ],
   "source": [
    "df = DataFrame()"
   ]
  },
  {
   "cell_type": "markdown",
   "metadata": {},
   "source": [
    "using `setproperty!`"
   ]
  },
  {
   "cell_type": "code",
   "execution_count": 43,
   "metadata": {},
   "outputs": [
    {
     "data": {
      "text/html": [
       "<table class=\"data-frame\"><thead><tr><th></th><th>a</th></tr><tr><th></th><th>Int64</th></tr></thead><tbody><p>3 rows × 1 columns</p><tr><th>1</th><td>1</td></tr><tr><th>2</th><td>2</td></tr><tr><th>3</th><td>3</td></tr></tbody></table>"
      ],
      "text/latex": [
       "\\begin{tabular}{r|c}\n",
       "\t& a\\\\\n",
       "\t\\hline\n",
       "\t& Int64\\\\\n",
       "\t\\hline\n",
       "\t1 & 1 \\\\\n",
       "\t2 & 2 \\\\\n",
       "\t3 & 3 \\\\\n",
       "\\end{tabular}\n"
      ],
      "text/plain": [
       "\u001b[1m3×1 DataFrame\u001b[0m\n",
       "\u001b[1m Row \u001b[0m│\u001b[1m a     \u001b[0m\n",
       "\u001b[1m     \u001b[0m│\u001b[90m Int64 \u001b[0m\n",
       "─────┼───────\n",
       "   1 │     1\n",
       "   2 │     2\n",
       "   3 │     3"
      ]
     },
     "execution_count": 43,
     "metadata": {},
     "output_type": "execute_result"
    }
   ],
   "source": [
    "x = [1, 2, 3]\n",
    "df.a = x\n",
    "df"
   ]
  },
  {
   "cell_type": "code",
   "execution_count": 44,
   "metadata": {},
   "outputs": [
    {
     "data": {
      "text/plain": [
       "true"
      ]
     },
     "execution_count": 44,
     "metadata": {},
     "output_type": "execute_result"
    }
   ],
   "source": [
    "df.a === x # no copy is performed"
   ]
  },
  {
   "cell_type": "markdown",
   "metadata": {},
   "source": [
    "using `setindex!`"
   ]
  },
  {
   "cell_type": "code",
   "execution_count": 45,
   "metadata": {},
   "outputs": [
    {
     "data": {
      "text/html": [
       "<table class=\"data-frame\"><thead><tr><th></th><th>a</th><th>b</th><th>c</th></tr><tr><th></th><th>Int64</th><th>Int64</th><th>Int64</th></tr></thead><tbody><p>3 rows × 3 columns</p><tr><th>1</th><td>1</td><td>1</td><td>1</td></tr><tr><th>2</th><td>2</td><td>2</td><td>2</td></tr><tr><th>3</th><td>3</td><td>3</td><td>3</td></tr></tbody></table>"
      ],
      "text/latex": [
       "\\begin{tabular}{r|ccc}\n",
       "\t& a & b & c\\\\\n",
       "\t\\hline\n",
       "\t& Int64 & Int64 & Int64\\\\\n",
       "\t\\hline\n",
       "\t1 & 1 & 1 & 1 \\\\\n",
       "\t2 & 2 & 2 & 2 \\\\\n",
       "\t3 & 3 & 3 & 3 \\\\\n",
       "\\end{tabular}\n"
      ],
      "text/plain": [
       "\u001b[1m3×3 DataFrame\u001b[0m\n",
       "\u001b[1m Row \u001b[0m│\u001b[1m a     \u001b[0m\u001b[1m b     \u001b[0m\u001b[1m c     \u001b[0m\n",
       "\u001b[1m     \u001b[0m│\u001b[90m Int64 \u001b[0m\u001b[90m Int64 \u001b[0m\u001b[90m Int64 \u001b[0m\n",
       "─────┼─────────────────────\n",
       "   1 │     1      1      1\n",
       "   2 │     2      2      2\n",
       "   3 │     3      3      3"
      ]
     },
     "execution_count": 45,
     "metadata": {},
     "output_type": "execute_result"
    }
   ],
   "source": [
    "df[!, :b] = x\n",
    "df[:, :c] = x\n",
    "df"
   ]
  },
  {
   "cell_type": "code",
   "execution_count": 46,
   "metadata": {},
   "outputs": [
    {
     "data": {
      "text/plain": [
       "true"
      ]
     },
     "execution_count": 46,
     "metadata": {},
     "output_type": "execute_result"
    }
   ],
   "source": [
    "df.b === x # no copy"
   ]
  },
  {
   "cell_type": "code",
   "execution_count": 47,
   "metadata": {},
   "outputs": [
    {
     "data": {
      "text/plain": [
       "false"
      ]
     },
     "execution_count": 47,
     "metadata": {},
     "output_type": "execute_result"
    }
   ],
   "source": [
    "df.c === x # copy"
   ]
  },
  {
   "cell_type": "code",
   "execution_count": 48,
   "metadata": {},
   "outputs": [
    {
     "data": {
      "text/html": [
       "<table class=\"data-frame\"><thead><tr><th></th><th>a</th><th>b</th><th>c</th><th>d</th><th>e</th></tr><tr><th></th><th>Int64</th><th>Int64</th><th>Int64</th><th>Int64</th><th>Int64</th></tr></thead><tbody><p>3 rows × 5 columns</p><tr><th>1</th><td>1</td><td>1</td><td>1</td><td>1</td><td>1</td></tr><tr><th>2</th><td>2</td><td>2</td><td>2</td><td>2</td><td>2</td></tr><tr><th>3</th><td>3</td><td>3</td><td>3</td><td>3</td><td>3</td></tr></tbody></table>"
      ],
      "text/latex": [
       "\\begin{tabular}{r|ccccc}\n",
       "\t& a & b & c & d & e\\\\\n",
       "\t\\hline\n",
       "\t& Int64 & Int64 & Int64 & Int64 & Int64\\\\\n",
       "\t\\hline\n",
       "\t1 & 1 & 1 & 1 & 1 & 1 \\\\\n",
       "\t2 & 2 & 2 & 2 & 2 & 2 \\\\\n",
       "\t3 & 3 & 3 & 3 & 3 & 3 \\\\\n",
       "\\end{tabular}\n"
      ],
      "text/plain": [
       "\u001b[1m3×5 DataFrame\u001b[0m\n",
       "\u001b[1m Row \u001b[0m│\u001b[1m a     \u001b[0m\u001b[1m b     \u001b[0m\u001b[1m c     \u001b[0m\u001b[1m d     \u001b[0m\u001b[1m e     \u001b[0m\n",
       "\u001b[1m     \u001b[0m│\u001b[90m Int64 \u001b[0m\u001b[90m Int64 \u001b[0m\u001b[90m Int64 \u001b[0m\u001b[90m Int64 \u001b[0m\u001b[90m Int64 \u001b[0m\n",
       "─────┼───────────────────────────────────\n",
       "   1 │     1      1      1      1      1\n",
       "   2 │     2      2      2      2      2\n",
       "   3 │     3      3      3      3      3"
      ]
     },
     "execution_count": 48,
     "metadata": {},
     "output_type": "execute_result"
    }
   ],
   "source": [
    "df[!, :d] .= x\n",
    "df[:, :e] .= x\n",
    "df"
   ]
  },
  {
   "cell_type": "code",
   "execution_count": 49,
   "metadata": {},
   "outputs": [
    {
     "data": {
      "text/plain": [
       "(false, false)"
      ]
     },
     "execution_count": 49,
     "metadata": {},
     "output_type": "execute_result"
    }
   ],
   "source": [
    "df.d === x, df.e === x # both copy, so in this case `!` and `:` has the same effect"
   ]
  },
  {
   "cell_type": "markdown",
   "metadata": {},
   "source": [
    "note that in our data frame columns `:a` and `:b` store the vector `x` (not a copy)"
   ]
  },
  {
   "cell_type": "code",
   "execution_count": 50,
   "metadata": {},
   "outputs": [
    {
     "data": {
      "text/plain": [
       "true"
      ]
     },
     "execution_count": 50,
     "metadata": {},
     "output_type": "execute_result"
    }
   ],
   "source": [
    "df.a === df.b === x"
   ]
  },
  {
   "cell_type": "markdown",
   "metadata": {},
   "source": [
    "This can lead to silent errors. For example this code leads to a bug (note that calling `pairs` on `eachcol(df)` creates an iterator of (column name, column) pairs):"
   ]
  },
  {
   "cell_type": "code",
   "execution_count": 51,
   "metadata": {},
   "outputs": [
    {
     "name": "stdout",
     "output_type": "stream",
     "text": [
      "a: 3\n",
      "b: 2\n",
      "c: 3\n",
      "d: 3\n",
      "e: 3\n"
     ]
    }
   ],
   "source": [
    "for (n, c) in pairs(eachcol(df))\n",
    "    println(\"$n: \", pop!(c))\n",
    "end"
   ]
  },
  {
   "cell_type": "markdown",
   "metadata": {},
   "source": [
    "note that for column `:b` we printed `2` as `3` was removed from it when we used `pop!` on column `:a`."
   ]
  },
  {
   "cell_type": "markdown",
   "metadata": {},
   "source": [
    "Such mistakes sometimes happen. Because of this DataFrames.jl performs consistency checks before doing an expensive operation (most notably before showing a data frame)."
   ]
  },
  {
   "cell_type": "code",
   "execution_count": 52,
   "metadata": {},
   "outputs": [
    {
     "ename": "AssertionError",
     "evalue": "AssertionError: Data frame is corrupt: length of column :c (2) does not match length of column 1 (1). The column vector has likely been resized unintentionally (either directly or because it is shared with another data frame).",
     "output_type": "error",
     "traceback": [
      "AssertionError: Data frame is corrupt: length of column :c (2) does not match length of column 1 (1). The column vector has likely been resized unintentionally (either directly or because it is shared with another data frame).",
      "",
      "Stacktrace:",
      "  [1] _check_consistency(df::DataFrame)",
      "    @ DataFrames ~/.julia/packages/DataFrames/nxjiD/src/dataframe/dataframe.jl:442",
      "  [2] _show(io::IOContext{IOBuffer}, df::DataFrame; allrows::Bool, allcols::Bool, rowlabel::Symbol, summary::Bool, eltypes::Bool, rowid::Nothing, truncate::Int64, kwargs::Base.Iterators.Pairs{Union{}, Union{}, Tuple{}, NamedTuple{(), Tuple{}}})",
      "    @ DataFrames ~/.julia/packages/DataFrames/nxjiD/src/abstractdataframe/show.jl:162",
      "  [3] #show#695",
      "    @ ~/.julia/packages/DataFrames/nxjiD/src/abstractdataframe/show.jl:337 [inlined]",
      "  [4] show(io::IOContext{IOBuffer}, df::DataFrame)",
      "    @ DataFrames ~/.julia/packages/DataFrames/nxjiD/src/abstractdataframe/show.jl:337",
      "  [5] #show#710",
      "    @ ~/.julia/packages/DataFrames/nxjiD/src/abstractdataframe/io.jl:138 [inlined]",
      "  [6] show",
      "    @ ~/.julia/packages/DataFrames/nxjiD/src/abstractdataframe/io.jl:138 [inlined]",
      "  [7] limitstringmime(mime::MIME{Symbol(\"text/plain\")}, x::DataFrame)",
      "    @ IJulia ~/.julia/packages/IJulia/e8kqU/src/inline.jl:43",
      "  [8] display_mimestring",
      "    @ ~/.julia/packages/IJulia/e8kqU/src/display.jl:71 [inlined]",
      "  [9] display_dict(x::DataFrame)",
      "    @ IJulia ~/.julia/packages/IJulia/e8kqU/src/display.jl:102",
      " [10] #invokelatest#2",
      "    @ ./essentials.jl:708 [inlined]",
      " [11] invokelatest",
      "    @ ./essentials.jl:706 [inlined]",
      " [12] execute_request(socket::ZMQ.Socket, msg::IJulia.Msg)",
      "    @ IJulia ~/.julia/packages/IJulia/e8kqU/src/execute_request.jl:112",
      " [13] #invokelatest#2",
      "    @ ./essentials.jl:708 [inlined]",
      " [14] invokelatest",
      "    @ ./essentials.jl:706 [inlined]",
      " [15] eventloop(socket::ZMQ.Socket)",
      "    @ IJulia ~/.julia/packages/IJulia/e8kqU/src/eventloop.jl:8",
      " [16] (::IJulia.var\"#15#18\")()",
      "    @ IJulia ./task.jl:411"
     ]
    }
   ],
   "source": [
    "df"
   ]
  },
  {
   "cell_type": "markdown",
   "metadata": {},
   "source": [
    "We can investigate the columns to find out what happend:"
   ]
  },
  {
   "cell_type": "code",
   "execution_count": 53,
   "metadata": {},
   "outputs": [
    {
     "data": {
      "text/plain": [
       "5-element Vector{Pair{Symbol, AbstractVector{T} where T}}:\n",
       " :a => [1]\n",
       " :b => [1]\n",
       " :c => [1, 2]\n",
       " :d => [1, 2]\n",
       " :e => [1, 2]"
      ]
     },
     "execution_count": 53,
     "metadata": {},
     "output_type": "execute_result"
    }
   ],
   "source": [
    "collect(pairs(eachcol(df)))"
   ]
  },
  {
   "cell_type": "markdown",
   "metadata": {},
   "source": [
    "The output confirms that the data frame `df` got corrupted."
   ]
  },
  {
   "cell_type": "markdown",
   "metadata": {},
   "source": [
    "DataFrames.jl supports a complete set of `getindex`, `getproperty`, `setindex!`, `setproperty!`, `view`, broadcasting, and broadcasting assignment operations. The details are explained here: http://juliadata.github.io/DataFrames.jl/latest/lib/indexing/."
   ]
  },
  {
   "cell_type": "markdown",
   "metadata": {},
   "source": [
    "### Comparisons"
   ]
  },
  {
   "cell_type": "code",
   "execution_count": 54,
   "metadata": {},
   "outputs": [],
   "source": [
    "using DataFrames"
   ]
  },
  {
   "cell_type": "code",
   "execution_count": 55,
   "metadata": {},
   "outputs": [
    {
     "data": {
      "text/html": [
       "<table class=\"data-frame\"><thead><tr><th></th><th>x1</th><th>x2</th><th>x3</th></tr><tr><th></th><th>Float64</th><th>Float64</th><th>Float64</th></tr></thead><tbody><p>2 rows × 3 columns</p><tr><th>1</th><td>0.862639</td><td>0.505863</td><td>0.397636</td></tr><tr><th>2</th><td>0.81065</td><td>0.543768</td><td>0.667132</td></tr></tbody></table>"
      ],
      "text/latex": [
       "\\begin{tabular}{r|ccc}\n",
       "\t& x1 & x2 & x3\\\\\n",
       "\t\\hline\n",
       "\t& Float64 & Float64 & Float64\\\\\n",
       "\t\\hline\n",
       "\t1 & 0.862639 & 0.505863 & 0.397636 \\\\\n",
       "\t2 & 0.81065 & 0.543768 & 0.667132 \\\\\n",
       "\\end{tabular}\n"
      ],
      "text/plain": [
       "\u001b[1m2×3 DataFrame\u001b[0m\n",
       "\u001b[1m Row \u001b[0m│\u001b[1m x1       \u001b[0m\u001b[1m x2       \u001b[0m\u001b[1m x3       \u001b[0m\n",
       "\u001b[1m     \u001b[0m│\u001b[90m Float64  \u001b[0m\u001b[90m Float64  \u001b[0m\u001b[90m Float64  \u001b[0m\n",
       "─────┼──────────────────────────────\n",
       "   1 │ 0.862639  0.505863  0.397636\n",
       "   2 │ 0.81065   0.543768  0.667132"
      ]
     },
     "execution_count": 55,
     "metadata": {},
     "output_type": "execute_result"
    }
   ],
   "source": [
    "df = DataFrame(rand(2,3), :auto)"
   ]
  },
  {
   "cell_type": "code",
   "execution_count": 56,
   "metadata": {},
   "outputs": [
    {
     "data": {
      "text/html": [
       "<table class=\"data-frame\"><thead><tr><th></th><th>x1</th><th>x2</th><th>x3</th></tr><tr><th></th><th>Float64</th><th>Float64</th><th>Float64</th></tr></thead><tbody><p>2 rows × 3 columns</p><tr><th>1</th><td>0.862639</td><td>0.505863</td><td>0.397636</td></tr><tr><th>2</th><td>0.81065</td><td>0.543768</td><td>0.667132</td></tr></tbody></table>"
      ],
      "text/latex": [
       "\\begin{tabular}{r|ccc}\n",
       "\t& x1 & x2 & x3\\\\\n",
       "\t\\hline\n",
       "\t& Float64 & Float64 & Float64\\\\\n",
       "\t\\hline\n",
       "\t1 & 0.862639 & 0.505863 & 0.397636 \\\\\n",
       "\t2 & 0.81065 & 0.543768 & 0.667132 \\\\\n",
       "\\end{tabular}\n"
      ],
      "text/plain": [
       "\u001b[1m2×3 DataFrame\u001b[0m\n",
       "\u001b[1m Row \u001b[0m│\u001b[1m x1       \u001b[0m\u001b[1m x2       \u001b[0m\u001b[1m x3       \u001b[0m\n",
       "\u001b[1m     \u001b[0m│\u001b[90m Float64  \u001b[0m\u001b[90m Float64  \u001b[0m\u001b[90m Float64  \u001b[0m\n",
       "─────┼──────────────────────────────\n",
       "   1 │ 0.862639  0.505863  0.397636\n",
       "   2 │ 0.81065   0.543768  0.667132"
      ]
     },
     "execution_count": 56,
     "metadata": {},
     "output_type": "execute_result"
    }
   ],
   "source": [
    "df2 = copy(df)"
   ]
  },
  {
   "cell_type": "code",
   "execution_count": 57,
   "metadata": {},
   "outputs": [
    {
     "data": {
      "text/plain": [
       "true"
      ]
     },
     "execution_count": 57,
     "metadata": {},
     "output_type": "execute_result"
    }
   ],
   "source": [
    "df == df2 # compares column names and contents"
   ]
  },
  {
   "cell_type": "markdown",
   "metadata": {},
   "source": [
    "create a minimally different data frame and use `isapprox` for comparison"
   ]
  },
  {
   "cell_type": "code",
   "execution_count": 58,
   "metadata": {},
   "outputs": [
    {
     "data": {
      "text/html": [
       "<table class=\"data-frame\"><thead><tr><th></th><th>x1</th><th>x2</th><th>x3</th></tr><tr><th></th><th>Float64</th><th>Float64</th><th>Float64</th></tr></thead><tbody><p>2 rows × 3 columns</p><tr><th>1</th><td>0.862639</td><td>0.505863</td><td>0.397636</td></tr><tr><th>2</th><td>0.81065</td><td>0.543768</td><td>0.667132</td></tr></tbody></table>"
      ],
      "text/latex": [
       "\\begin{tabular}{r|ccc}\n",
       "\t& x1 & x2 & x3\\\\\n",
       "\t\\hline\n",
       "\t& Float64 & Float64 & Float64\\\\\n",
       "\t\\hline\n",
       "\t1 & 0.862639 & 0.505863 & 0.397636 \\\\\n",
       "\t2 & 0.81065 & 0.543768 & 0.667132 \\\\\n",
       "\\end{tabular}\n"
      ],
      "text/plain": [
       "\u001b[1m2×3 DataFrame\u001b[0m\n",
       "\u001b[1m Row \u001b[0m│\u001b[1m x1       \u001b[0m\u001b[1m x2       \u001b[0m\u001b[1m x3       \u001b[0m\n",
       "\u001b[1m     \u001b[0m│\u001b[90m Float64  \u001b[0m\u001b[90m Float64  \u001b[0m\u001b[90m Float64  \u001b[0m\n",
       "─────┼──────────────────────────────\n",
       "   1 │ 0.862639  0.505863  0.397636\n",
       "   2 │ 0.81065   0.543768  0.667132"
      ]
     },
     "execution_count": 58,
     "metadata": {},
     "output_type": "execute_result"
    }
   ],
   "source": [
    "df3 = df2 .+ eps()"
   ]
  },
  {
   "cell_type": "code",
   "execution_count": 59,
   "metadata": {},
   "outputs": [
    {
     "data": {
      "text/plain": [
       "false"
      ]
     },
     "execution_count": 59,
     "metadata": {},
     "output_type": "execute_result"
    }
   ],
   "source": [
    "df == df3"
   ]
  },
  {
   "cell_type": "code",
   "execution_count": 60,
   "metadata": {},
   "outputs": [
    {
     "data": {
      "text/plain": [
       "true"
      ]
     },
     "execution_count": 60,
     "metadata": {},
     "output_type": "execute_result"
    }
   ],
   "source": [
    "isapprox(df, df3)"
   ]
  },
  {
   "cell_type": "code",
   "execution_count": 61,
   "metadata": {},
   "outputs": [
    {
     "data": {
      "text/plain": [
       "false"
      ]
     },
     "execution_count": 61,
     "metadata": {},
     "output_type": "execute_result"
    }
   ],
   "source": [
    "isapprox(df, df3, atol = eps()/2)"
   ]
  },
  {
   "cell_type": "markdown",
   "metadata": {},
   "source": [
    "`missings` are handled as in Julia Base"
   ]
  },
  {
   "cell_type": "code",
   "execution_count": 62,
   "metadata": {},
   "outputs": [
    {
     "data": {
      "text/html": [
       "<table class=\"data-frame\"><thead><tr><th></th><th>a</th></tr><tr><th></th><th>Missing</th></tr></thead><tbody><p>1 rows × 1 columns</p><tr><th>1</th><td><em>missing</em></td></tr></tbody></table>"
      ],
      "text/latex": [
       "\\begin{tabular}{r|c}\n",
       "\t& a\\\\\n",
       "\t\\hline\n",
       "\t& Missing\\\\\n",
       "\t\\hline\n",
       "\t1 & \\emph{missing} \\\\\n",
       "\\end{tabular}\n"
      ],
      "text/plain": [
       "\u001b[1m1×1 DataFrame\u001b[0m\n",
       "\u001b[1m Row \u001b[0m│\u001b[1m a       \u001b[0m\n",
       "\u001b[1m     \u001b[0m│\u001b[90m Missing \u001b[0m\n",
       "─────┼─────────\n",
       "   1 │\u001b[90m missing \u001b[0m"
      ]
     },
     "execution_count": 62,
     "metadata": {},
     "output_type": "execute_result"
    }
   ],
   "source": [
    "df = DataFrame(a=missing)"
   ]
  },
  {
   "cell_type": "code",
   "execution_count": 63,
   "metadata": {},
   "outputs": [
    {
     "data": {
      "text/plain": [
       "missing"
      ]
     },
     "execution_count": 63,
     "metadata": {},
     "output_type": "execute_result"
    }
   ],
   "source": [
    "df == df"
   ]
  },
  {
   "cell_type": "code",
   "execution_count": 64,
   "metadata": {},
   "outputs": [
    {
     "data": {
      "text/plain": [
       "true"
      ]
     },
     "execution_count": 64,
     "metadata": {},
     "output_type": "execute_result"
    }
   ],
   "source": [
    "df === df"
   ]
  },
  {
   "cell_type": "code",
   "execution_count": 65,
   "metadata": {},
   "outputs": [
    {
     "data": {
      "text/plain": [
       "true"
      ]
     },
     "execution_count": 65,
     "metadata": {},
     "output_type": "execute_result"
    }
   ],
   "source": [
    "isequal(df, df)"
   ]
  }
 ],
 "metadata": {
  "@webio": {
   "lastCommId": null,
   "lastKernelId": null
  },
  "kernelspec": {
   "display_name": "Julia 1.6.1",
   "language": "julia",
   "name": "julia-1.6"
  },
  "language_info": {
   "file_extension": ".jl",
   "mimetype": "application/julia",
   "name": "julia",
   "version": "1.6.1"
  }
 },
 "nbformat": 4,
 "nbformat_minor": 1
}
