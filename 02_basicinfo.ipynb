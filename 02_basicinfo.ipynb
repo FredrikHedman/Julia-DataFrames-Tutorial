{
 "cells": [
  {
   "cell_type": "markdown",
   "metadata": {},
   "source": [
    "# Introduction to DataFrames\n",
    "**[Bogumił Kamiński](http://bogumilkaminski.pl/about/), February 13, 2023**"
   ]
  },
  {
   "cell_type": "code",
   "execution_count": 1,
   "metadata": {},
   "outputs": [],
   "source": [
    "using DataFrames"
   ]
  },
  {
   "cell_type": "markdown",
   "metadata": {},
   "source": [
    "## Getting basic information about a data frame\n",
    "\n",
    "Let's start by creating a `DataFrame` object, `x`, so that we can learn how to get information on that data frame."
   ]
  },
  {
   "cell_type": "code",
   "execution_count": 2,
   "metadata": {},
   "outputs": [
    {
     "data": {
      "text/html": [
       "<div><div style = \"float: left;\"><span>2×3 DataFrame</span></div><div style = \"clear: both;\"></div></div><div class = \"data-frame\" style = \"overflow-x: scroll;\"><table class = \"data-frame\" style = \"margin-bottom: 6px;\"><thead><tr class = \"header\"><th class = \"rowNumber\" style = \"font-weight: bold; text-align: right;\">Row</th><th style = \"text-align: left;\">A</th><th style = \"text-align: left;\">B</th><th style = \"text-align: left;\">C</th></tr><tr class = \"subheader headerLastRow\"><th class = \"rowNumber\" style = \"font-weight: bold; text-align: right;\"></th><th title = \"Int64\" style = \"text-align: left;\">Int64</th><th title = \"Union{Missing, Float64}\" style = \"text-align: left;\">Float64?</th><th title = \"String\" style = \"text-align: left;\">String</th></tr></thead><tbody><tr><td class = \"rowNumber\" style = \"font-weight: bold; text-align: right;\">1</td><td style = \"text-align: right;\">1</td><td style = \"text-align: right;\">1.0</td><td style = \"text-align: left;\">a</td></tr><tr><td class = \"rowNumber\" style = \"font-weight: bold; text-align: right;\">2</td><td style = \"text-align: right;\">2</td><td style = \"font-style: italic; text-align: right;\">missing</td><td style = \"text-align: left;\">b</td></tr></tbody></table></div>"
      ],
      "text/latex": [
       "\\begin{tabular}{r|ccc}\n",
       "\t& A & B & C\\\\\n",
       "\t\\hline\n",
       "\t& Int64 & Float64? & String\\\\\n",
       "\t\\hline\n",
       "\t1 & 1 & 1.0 & a \\\\\n",
       "\t2 & 2 & \\emph{missing} & b \\\\\n",
       "\\end{tabular}\n"
      ],
      "text/plain": [
       "\u001b[1m2×3 DataFrame\u001b[0m\n",
       "\u001b[1m Row \u001b[0m│\u001b[1m A     \u001b[0m\u001b[1m B         \u001b[0m\u001b[1m C      \u001b[0m\n",
       "     │\u001b[90m Int64 \u001b[0m\u001b[90m Float64?  \u001b[0m\u001b[90m String \u001b[0m\n",
       "─────┼──────────────────────────\n",
       "   1 │     1        1.0  a\n",
       "   2 │     2 \u001b[90m missing   \u001b[0m b"
      ]
     },
     "execution_count": 2,
     "metadata": {},
     "output_type": "execute_result"
    }
   ],
   "source": [
    "x = DataFrame(A = [1, 2], B = [1.0, missing], C = [\"a\", \"b\"])"
   ]
  },
  {
   "cell_type": "markdown",
   "metadata": {},
   "source": [
    "The standard `size` function works to get dimensions of the `DataFrame`,"
   ]
  },
  {
   "cell_type": "code",
   "execution_count": 3,
   "metadata": {},
   "outputs": [
    {
     "data": {
      "text/plain": [
       "((2, 3), 2, 3)"
      ]
     },
     "execution_count": 3,
     "metadata": {},
     "output_type": "execute_result"
    }
   ],
   "source": [
    "size(x), size(x, 1), size(x, 2)"
   ]
  },
  {
   "cell_type": "markdown",
   "metadata": {},
   "source": [
    "as well as `nrow` and `ncol` from R."
   ]
  },
  {
   "cell_type": "code",
   "execution_count": 4,
   "metadata": {},
   "outputs": [
    {
     "data": {
      "text/plain": [
       "(2, 3)"
      ]
     },
     "execution_count": 4,
     "metadata": {},
     "output_type": "execute_result"
    }
   ],
   "source": [
    "nrow(x), ncol(x)"
   ]
  },
  {
   "cell_type": "markdown",
   "metadata": {},
   "source": [
    "`describe` gives basic summary statistics of data in your `DataFrame` (check out the help of `describe` for information on how to customize shown statistics)."
   ]
  },
  {
   "cell_type": "code",
   "execution_count": 5,
   "metadata": {},
   "outputs": [
    {
     "data": {
      "text/html": [
       "<div><div style = \"float: left;\"><span>3×7 DataFrame</span></div><div style = \"clear: both;\"></div></div><div class = \"data-frame\" style = \"overflow-x: scroll;\"><table class = \"data-frame\" style = \"margin-bottom: 6px;\"><thead><tr class = \"header\"><th class = \"rowNumber\" style = \"font-weight: bold; text-align: right;\">Row</th><th style = \"text-align: left;\">variable</th><th style = \"text-align: left;\">mean</th><th style = \"text-align: left;\">min</th><th style = \"text-align: left;\">median</th><th style = \"text-align: left;\">max</th><th style = \"text-align: left;\">nmissing</th><th style = \"text-align: left;\">eltype</th></tr><tr class = \"subheader headerLastRow\"><th class = \"rowNumber\" style = \"font-weight: bold; text-align: right;\"></th><th title = \"Symbol\" style = \"text-align: left;\">Symbol</th><th title = \"Union{Nothing, Float64}\" style = \"text-align: left;\">Union…</th><th title = \"Any\" style = \"text-align: left;\">Any</th><th title = \"Union{Nothing, Float64}\" style = \"text-align: left;\">Union…</th><th title = \"Any\" style = \"text-align: left;\">Any</th><th title = \"Int64\" style = \"text-align: left;\">Int64</th><th title = \"Type\" style = \"text-align: left;\">Type</th></tr></thead><tbody><tr><td class = \"rowNumber\" style = \"font-weight: bold; text-align: right;\">1</td><td style = \"text-align: left;\">A</td><td style = \"text-align: left;\">1.5</td><td style = \"text-align: left;\">1</td><td style = \"text-align: left;\">1.5</td><td style = \"text-align: left;\">2</td><td style = \"text-align: right;\">0</td><td style = \"text-align: left;\">Int64</td></tr><tr><td class = \"rowNumber\" style = \"font-weight: bold; text-align: right;\">2</td><td style = \"text-align: left;\">B</td><td style = \"text-align: left;\">1.0</td><td style = \"text-align: left;\">1.0</td><td style = \"text-align: left;\">1.0</td><td style = \"text-align: left;\">1.0</td><td style = \"text-align: right;\">1</td><td style = \"text-align: left;\">Union{Missing, Float64}</td></tr><tr><td class = \"rowNumber\" style = \"font-weight: bold; text-align: right;\">3</td><td style = \"text-align: left;\">C</td><td style = \"font-style: italic; text-align: left;\"></td><td style = \"text-align: left;\">a</td><td style = \"font-style: italic; text-align: left;\"></td><td style = \"text-align: left;\">b</td><td style = \"text-align: right;\">0</td><td style = \"text-align: left;\">String</td></tr></tbody></table></div>"
      ],
      "text/latex": [
       "\\begin{tabular}{r|ccccccc}\n",
       "\t& variable & mean & min & median & max & nmissing & eltype\\\\\n",
       "\t\\hline\n",
       "\t& Symbol & Union… & Any & Union… & Any & Int64 & Type\\\\\n",
       "\t\\hline\n",
       "\t1 & A & 1.5 & 1 & 1.5 & 2 & 0 & Int64 \\\\\n",
       "\t2 & B & 1.0 & 1.0 & 1.0 & 1.0 & 1 & Union\\{Missing, Float64\\} \\\\\n",
       "\t3 & C &  & a &  & b & 0 & String \\\\\n",
       "\\end{tabular}\n"
      ],
      "text/plain": [
       "\u001b[1m3×7 DataFrame\u001b[0m\n",
       "\u001b[1m Row \u001b[0m│\u001b[1m variable \u001b[0m\u001b[1m mean   \u001b[0m\u001b[1m min \u001b[0m\u001b[1m median \u001b[0m\u001b[1m max \u001b[0m\u001b[1m nmissing \u001b[0m\u001b[1m eltype                  \u001b[0m\n",
       "     │\u001b[90m Symbol   \u001b[0m\u001b[90m Union… \u001b[0m\u001b[90m Any \u001b[0m\u001b[90m Union… \u001b[0m\u001b[90m Any \u001b[0m\u001b[90m Int64    \u001b[0m\u001b[90m Type                    \u001b[0m\n",
       "─────┼───────────────────────────────────────────────────────────────────────\n",
       "   1 │ A         1.5     1    1.5     2           0  Int64\n",
       "   2 │ B         1.0     1.0  1.0     1.0         1  Union{Missing, Float64}\n",
       "   3 │ C        \u001b[90m        \u001b[0m a   \u001b[90m        \u001b[0m b           0  String"
      ]
     },
     "execution_count": 5,
     "metadata": {},
     "output_type": "execute_result"
    }
   ],
   "source": [
    "describe(x)"
   ]
  },
  {
   "cell_type": "markdown",
   "metadata": {},
   "source": [
    "you can limit the columns shown by `describe` using `cols` keyword argument"
   ]
  },
  {
   "cell_type": "code",
   "execution_count": 6,
   "metadata": {},
   "outputs": [
    {
     "data": {
      "text/html": [
       "<div><div style = \"float: left;\"><span>2×7 DataFrame</span></div><div style = \"clear: both;\"></div></div><div class = \"data-frame\" style = \"overflow-x: scroll;\"><table class = \"data-frame\" style = \"margin-bottom: 6px;\"><thead><tr class = \"header\"><th class = \"rowNumber\" style = \"font-weight: bold; text-align: right;\">Row</th><th style = \"text-align: left;\">variable</th><th style = \"text-align: left;\">mean</th><th style = \"text-align: left;\">min</th><th style = \"text-align: left;\">median</th><th style = \"text-align: left;\">max</th><th style = \"text-align: left;\">nmissing</th><th style = \"text-align: left;\">eltype</th></tr><tr class = \"subheader headerLastRow\"><th class = \"rowNumber\" style = \"font-weight: bold; text-align: right;\"></th><th title = \"Symbol\" style = \"text-align: left;\">Symbol</th><th title = \"Float64\" style = \"text-align: left;\">Float64</th><th title = \"Real\" style = \"text-align: left;\">Real</th><th title = \"Float64\" style = \"text-align: left;\">Float64</th><th title = \"Real\" style = \"text-align: left;\">Real</th><th title = \"Int64\" style = \"text-align: left;\">Int64</th><th title = \"Type\" style = \"text-align: left;\">Type</th></tr></thead><tbody><tr><td class = \"rowNumber\" style = \"font-weight: bold; text-align: right;\">1</td><td style = \"text-align: left;\">A</td><td style = \"text-align: right;\">1.5</td><td style = \"text-align: right;\">1</td><td style = \"text-align: right;\">1.5</td><td style = \"text-align: right;\">2</td><td style = \"text-align: right;\">0</td><td style = \"text-align: left;\">Int64</td></tr><tr><td class = \"rowNumber\" style = \"font-weight: bold; text-align: right;\">2</td><td style = \"text-align: left;\">B</td><td style = \"text-align: right;\">1.0</td><td style = \"text-align: right;\">1.0</td><td style = \"text-align: right;\">1.0</td><td style = \"text-align: right;\">1.0</td><td style = \"text-align: right;\">1</td><td style = \"text-align: left;\">Union{Missing, Float64}</td></tr></tbody></table></div>"
      ],
      "text/latex": [
       "\\begin{tabular}{r|ccccccc}\n",
       "\t& variable & mean & min & median & max & nmissing & eltype\\\\\n",
       "\t\\hline\n",
       "\t& Symbol & Float64 & Real & Float64 & Real & Int64 & Type\\\\\n",
       "\t\\hline\n",
       "\t1 & A & 1.5 & 1 & 1.5 & 2 & 0 & Int64 \\\\\n",
       "\t2 & B & 1.0 & 1.0 & 1.0 & 1.0 & 1 & Union\\{Missing, Float64\\} \\\\\n",
       "\\end{tabular}\n"
      ],
      "text/plain": [
       "\u001b[1m2×7 DataFrame\u001b[0m\n",
       "\u001b[1m Row \u001b[0m│\u001b[1m variable \u001b[0m\u001b[1m mean    \u001b[0m\u001b[1m min  \u001b[0m\u001b[1m median  \u001b[0m\u001b[1m max  \u001b[0m\u001b[1m nmissing \u001b[0m\u001b[1m eltype               \u001b[0m ⋯\n",
       "     │\u001b[90m Symbol   \u001b[0m\u001b[90m Float64 \u001b[0m\u001b[90m Real \u001b[0m\u001b[90m Float64 \u001b[0m\u001b[90m Real \u001b[0m\u001b[90m Int64    \u001b[0m\u001b[90m Type                 \u001b[0m ⋯\n",
       "─────┼──────────────────────────────────────────────────────────────────────────\n",
       "   1 │ A             1.5   1        1.5   2           0  Int64                 ⋯\n",
       "   2 │ B             1.0   1.0      1.0   1.0         1  Union{Missing, Float6\n",
       "\u001b[36m                                                                1 column omitted\u001b[0m"
      ]
     },
     "execution_count": 6,
     "metadata": {},
     "output_type": "execute_result"
    }
   ],
   "source": [
    "describe(x, cols=1:2)"
   ]
  },
  {
   "cell_type": "markdown",
   "metadata": {},
   "source": [
    "`names` will return the names of all columns as strings"
   ]
  },
  {
   "cell_type": "code",
   "execution_count": 7,
   "metadata": {},
   "outputs": [
    {
     "data": {
      "text/plain": [
       "3-element Vector{String}:\n",
       " \"A\"\n",
       " \"B\"\n",
       " \"C\""
      ]
     },
     "execution_count": 7,
     "metadata": {},
     "output_type": "execute_result"
    }
   ],
   "source": [
    "names(x)"
   ]
  },
  {
   "cell_type": "markdown",
   "metadata": {},
   "source": [
    "you can also get column names with a given `eltype`:"
   ]
  },
  {
   "cell_type": "code",
   "execution_count": 8,
   "metadata": {},
   "outputs": [
    {
     "data": {
      "text/plain": [
       "1-element Vector{String}:\n",
       " \"C\""
      ]
     },
     "execution_count": 8,
     "metadata": {},
     "output_type": "execute_result"
    }
   ],
   "source": [
    "names(x, String)"
   ]
  },
  {
   "cell_type": "markdown",
   "metadata": {},
   "source": [
    "use `propertynames` to get a vector of `Symbol`s:"
   ]
  },
  {
   "cell_type": "code",
   "execution_count": 9,
   "metadata": {},
   "outputs": [
    {
     "data": {
      "text/plain": [
       "3-element Vector{Symbol}:\n",
       " :A\n",
       " :B\n",
       " :C"
      ]
     },
     "execution_count": 9,
     "metadata": {},
     "output_type": "execute_result"
    }
   ],
   "source": [
    "propertynames(x)"
   ]
  },
  {
   "cell_type": "markdown",
   "metadata": {},
   "source": [
    "using `eltype` on `eachcol(x)` returns element types of columns:"
   ]
  },
  {
   "cell_type": "code",
   "execution_count": 10,
   "metadata": {},
   "outputs": [
    {
     "data": {
      "text/plain": [
       "3-element Vector{Type}:\n",
       " Int64\n",
       " Union{Missing, Float64}\n",
       " String"
      ]
     },
     "execution_count": 10,
     "metadata": {},
     "output_type": "execute_result"
    }
   ],
   "source": [
    "eltype.(eachcol(x))"
   ]
  },
  {
   "cell_type": "markdown",
   "metadata": {},
   "source": [
    "Here we create some large `DataFrame`"
   ]
  },
  {
   "cell_type": "code",
   "execution_count": 11,
   "metadata": {
    "scrolled": false
   },
   "outputs": [
    {
     "data": {
      "text/html": [
       "<div><div style = \"float: left;\"><span>1000×10 DataFrame</span></div><div style = \"float: right;\"><span style = \"font-style: italic;\">975 rows omitted</span></div><div style = \"clear: both;\"></div></div><div class = \"data-frame\" style = \"overflow-x: scroll;\"><table class = \"data-frame\" style = \"margin-bottom: 6px;\"><thead><tr class = \"header\"><th class = \"rowNumber\" style = \"font-weight: bold; text-align: right;\">Row</th><th style = \"text-align: left;\">x1</th><th style = \"text-align: left;\">x2</th><th style = \"text-align: left;\">x3</th><th style = \"text-align: left;\">x4</th><th style = \"text-align: left;\">x5</th><th style = \"text-align: left;\">x6</th><th style = \"text-align: left;\">x7</th><th style = \"text-align: left;\">x8</th><th style = \"text-align: left;\">x9</th><th style = \"text-align: left;\">x10</th></tr><tr class = \"subheader headerLastRow\"><th class = \"rowNumber\" style = \"font-weight: bold; text-align: right;\"></th><th title = \"Int64\" style = \"text-align: left;\">Int64</th><th title = \"Int64\" style = \"text-align: left;\">Int64</th><th title = \"Int64\" style = \"text-align: left;\">Int64</th><th title = \"Int64\" style = \"text-align: left;\">Int64</th><th title = \"Int64\" style = \"text-align: left;\">Int64</th><th title = \"Int64\" style = \"text-align: left;\">Int64</th><th title = \"Int64\" style = \"text-align: left;\">Int64</th><th title = \"Int64\" style = \"text-align: left;\">Int64</th><th title = \"Int64\" style = \"text-align: left;\">Int64</th><th title = \"Int64\" style = \"text-align: left;\">Int64</th></tr></thead><tbody><tr><td class = \"rowNumber\" style = \"font-weight: bold; text-align: right;\">1</td><td style = \"text-align: right;\">2</td><td style = \"text-align: right;\">9</td><td style = \"text-align: right;\">4</td><td style = \"text-align: right;\">5</td><td style = \"text-align: right;\">3</td><td style = \"text-align: right;\">9</td><td style = \"text-align: right;\">9</td><td style = \"text-align: right;\">2</td><td style = \"text-align: right;\">2</td><td style = \"text-align: right;\">8</td></tr><tr><td class = \"rowNumber\" style = \"font-weight: bold; text-align: right;\">2</td><td style = \"text-align: right;\">7</td><td style = \"text-align: right;\">6</td><td style = \"text-align: right;\">5</td><td style = \"text-align: right;\">8</td><td style = \"text-align: right;\">4</td><td style = \"text-align: right;\">2</td><td style = \"text-align: right;\">7</td><td style = \"text-align: right;\">3</td><td style = \"text-align: right;\">2</td><td style = \"text-align: right;\">3</td></tr><tr><td class = \"rowNumber\" style = \"font-weight: bold; text-align: right;\">3</td><td style = \"text-align: right;\">3</td><td style = \"text-align: right;\">2</td><td style = \"text-align: right;\">9</td><td style = \"text-align: right;\">8</td><td style = \"text-align: right;\">2</td><td style = \"text-align: right;\">5</td><td style = \"text-align: right;\">1</td><td style = \"text-align: right;\">4</td><td style = \"text-align: right;\">7</td><td style = \"text-align: right;\">10</td></tr><tr><td class = \"rowNumber\" style = \"font-weight: bold; text-align: right;\">4</td><td style = \"text-align: right;\">5</td><td style = \"text-align: right;\">6</td><td style = \"text-align: right;\">3</td><td style = \"text-align: right;\">1</td><td style = \"text-align: right;\">3</td><td style = \"text-align: right;\">2</td><td style = \"text-align: right;\">4</td><td style = \"text-align: right;\">8</td><td style = \"text-align: right;\">2</td><td style = \"text-align: right;\">1</td></tr><tr><td class = \"rowNumber\" style = \"font-weight: bold; text-align: right;\">5</td><td style = \"text-align: right;\">8</td><td style = \"text-align: right;\">4</td><td style = \"text-align: right;\">2</td><td style = \"text-align: right;\">2</td><td style = \"text-align: right;\">4</td><td style = \"text-align: right;\">2</td><td style = \"text-align: right;\">9</td><td style = \"text-align: right;\">7</td><td style = \"text-align: right;\">3</td><td style = \"text-align: right;\">1</td></tr><tr><td class = \"rowNumber\" style = \"font-weight: bold; text-align: right;\">6</td><td style = \"text-align: right;\">4</td><td style = \"text-align: right;\">8</td><td style = \"text-align: right;\">8</td><td style = \"text-align: right;\">4</td><td style = \"text-align: right;\">1</td><td style = \"text-align: right;\">5</td><td style = \"text-align: right;\">6</td><td style = \"text-align: right;\">3</td><td style = \"text-align: right;\">8</td><td style = \"text-align: right;\">6</td></tr><tr><td class = \"rowNumber\" style = \"font-weight: bold; text-align: right;\">7</td><td style = \"text-align: right;\">8</td><td style = \"text-align: right;\">5</td><td style = \"text-align: right;\">1</td><td style = \"text-align: right;\">1</td><td style = \"text-align: right;\">1</td><td style = \"text-align: right;\">7</td><td style = \"text-align: right;\">8</td><td style = \"text-align: right;\">6</td><td style = \"text-align: right;\">8</td><td style = \"text-align: right;\">5</td></tr><tr><td class = \"rowNumber\" style = \"font-weight: bold; text-align: right;\">8</td><td style = \"text-align: right;\">3</td><td style = \"text-align: right;\">3</td><td style = \"text-align: right;\">9</td><td style = \"text-align: right;\">6</td><td style = \"text-align: right;\">6</td><td style = \"text-align: right;\">5</td><td style = \"text-align: right;\">5</td><td style = \"text-align: right;\">2</td><td style = \"text-align: right;\">1</td><td style = \"text-align: right;\">6</td></tr><tr><td class = \"rowNumber\" style = \"font-weight: bold; text-align: right;\">9</td><td style = \"text-align: right;\">2</td><td style = \"text-align: right;\">1</td><td style = \"text-align: right;\">5</td><td style = \"text-align: right;\">3</td><td style = \"text-align: right;\">5</td><td style = \"text-align: right;\">10</td><td style = \"text-align: right;\">9</td><td style = \"text-align: right;\">4</td><td style = \"text-align: right;\">4</td><td style = \"text-align: right;\">7</td></tr><tr><td class = \"rowNumber\" style = \"font-weight: bold; text-align: right;\">10</td><td style = \"text-align: right;\">1</td><td style = \"text-align: right;\">4</td><td style = \"text-align: right;\">7</td><td style = \"text-align: right;\">6</td><td style = \"text-align: right;\">4</td><td style = \"text-align: right;\">8</td><td style = \"text-align: right;\">5</td><td style = \"text-align: right;\">2</td><td style = \"text-align: right;\">2</td><td style = \"text-align: right;\">8</td></tr><tr><td class = \"rowNumber\" style = \"font-weight: bold; text-align: right;\">11</td><td style = \"text-align: right;\">3</td><td style = \"text-align: right;\">5</td><td style = \"text-align: right;\">3</td><td style = \"text-align: right;\">10</td><td style = \"text-align: right;\">1</td><td style = \"text-align: right;\">7</td><td style = \"text-align: right;\">1</td><td style = \"text-align: right;\">5</td><td style = \"text-align: right;\">6</td><td style = \"text-align: right;\">4</td></tr><tr><td class = \"rowNumber\" style = \"font-weight: bold; text-align: right;\">12</td><td style = \"text-align: right;\">1</td><td style = \"text-align: right;\">10</td><td style = \"text-align: right;\">1</td><td style = \"text-align: right;\">9</td><td style = \"text-align: right;\">1</td><td style = \"text-align: right;\">1</td><td style = \"text-align: right;\">9</td><td style = \"text-align: right;\">4</td><td style = \"text-align: right;\">3</td><td style = \"text-align: right;\">6</td></tr><tr><td class = \"rowNumber\" style = \"font-weight: bold; text-align: right;\">13</td><td style = \"text-align: right;\">8</td><td style = \"text-align: right;\">7</td><td style = \"text-align: right;\">4</td><td style = \"text-align: right;\">9</td><td style = \"text-align: right;\">10</td><td style = \"text-align: right;\">9</td><td style = \"text-align: right;\">4</td><td style = \"text-align: right;\">5</td><td style = \"text-align: right;\">8</td><td style = \"text-align: right;\">4</td></tr><tr><td style = \"text-align: right;\">&vellip;</td><td style = \"text-align: right;\">&vellip;</td><td style = \"text-align: right;\">&vellip;</td><td style = \"text-align: right;\">&vellip;</td><td style = \"text-align: right;\">&vellip;</td><td style = \"text-align: right;\">&vellip;</td><td style = \"text-align: right;\">&vellip;</td><td style = \"text-align: right;\">&vellip;</td><td style = \"text-align: right;\">&vellip;</td><td style = \"text-align: right;\">&vellip;</td><td style = \"text-align: right;\">&vellip;</td></tr><tr><td class = \"rowNumber\" style = \"font-weight: bold; text-align: right;\">989</td><td style = \"text-align: right;\">7</td><td style = \"text-align: right;\">6</td><td style = \"text-align: right;\">1</td><td style = \"text-align: right;\">10</td><td style = \"text-align: right;\">8</td><td style = \"text-align: right;\">2</td><td style = \"text-align: right;\">5</td><td style = \"text-align: right;\">3</td><td style = \"text-align: right;\">2</td><td style = \"text-align: right;\">10</td></tr><tr><td class = \"rowNumber\" style = \"font-weight: bold; text-align: right;\">990</td><td style = \"text-align: right;\">9</td><td style = \"text-align: right;\">5</td><td style = \"text-align: right;\">10</td><td style = \"text-align: right;\">8</td><td style = \"text-align: right;\">6</td><td style = \"text-align: right;\">6</td><td style = \"text-align: right;\">8</td><td style = \"text-align: right;\">10</td><td style = \"text-align: right;\">1</td><td style = \"text-align: right;\">7</td></tr><tr><td class = \"rowNumber\" style = \"font-weight: bold; text-align: right;\">991</td><td style = \"text-align: right;\">6</td><td style = \"text-align: right;\">7</td><td style = \"text-align: right;\">6</td><td style = \"text-align: right;\">2</td><td style = \"text-align: right;\">4</td><td style = \"text-align: right;\">9</td><td style = \"text-align: right;\">10</td><td style = \"text-align: right;\">9</td><td style = \"text-align: right;\">3</td><td style = \"text-align: right;\">1</td></tr><tr><td class = \"rowNumber\" style = \"font-weight: bold; text-align: right;\">992</td><td style = \"text-align: right;\">8</td><td style = \"text-align: right;\">6</td><td style = \"text-align: right;\">3</td><td style = \"text-align: right;\">6</td><td style = \"text-align: right;\">7</td><td style = \"text-align: right;\">8</td><td style = \"text-align: right;\">8</td><td style = \"text-align: right;\">2</td><td style = \"text-align: right;\">9</td><td style = \"text-align: right;\">5</td></tr><tr><td class = \"rowNumber\" style = \"font-weight: bold; text-align: right;\">993</td><td style = \"text-align: right;\">1</td><td style = \"text-align: right;\">9</td><td style = \"text-align: right;\">5</td><td style = \"text-align: right;\">9</td><td style = \"text-align: right;\">2</td><td style = \"text-align: right;\">8</td><td style = \"text-align: right;\">8</td><td style = \"text-align: right;\">6</td><td style = \"text-align: right;\">10</td><td style = \"text-align: right;\">9</td></tr><tr><td class = \"rowNumber\" style = \"font-weight: bold; text-align: right;\">994</td><td style = \"text-align: right;\">8</td><td style = \"text-align: right;\">3</td><td style = \"text-align: right;\">4</td><td style = \"text-align: right;\">10</td><td style = \"text-align: right;\">10</td><td style = \"text-align: right;\">1</td><td style = \"text-align: right;\">9</td><td style = \"text-align: right;\">8</td><td style = \"text-align: right;\">10</td><td style = \"text-align: right;\">1</td></tr><tr><td class = \"rowNumber\" style = \"font-weight: bold; text-align: right;\">995</td><td style = \"text-align: right;\">8</td><td style = \"text-align: right;\">9</td><td style = \"text-align: right;\">2</td><td style = \"text-align: right;\">5</td><td style = \"text-align: right;\">10</td><td style = \"text-align: right;\">10</td><td style = \"text-align: right;\">2</td><td style = \"text-align: right;\">5</td><td style = \"text-align: right;\">2</td><td style = \"text-align: right;\">4</td></tr><tr><td class = \"rowNumber\" style = \"font-weight: bold; text-align: right;\">996</td><td style = \"text-align: right;\">7</td><td style = \"text-align: right;\">7</td><td style = \"text-align: right;\">2</td><td style = \"text-align: right;\">4</td><td style = \"text-align: right;\">4</td><td style = \"text-align: right;\">4</td><td style = \"text-align: right;\">8</td><td style = \"text-align: right;\">9</td><td style = \"text-align: right;\">8</td><td style = \"text-align: right;\">5</td></tr><tr><td class = \"rowNumber\" style = \"font-weight: bold; text-align: right;\">997</td><td style = \"text-align: right;\">2</td><td style = \"text-align: right;\">10</td><td style = \"text-align: right;\">6</td><td style = \"text-align: right;\">1</td><td style = \"text-align: right;\">6</td><td style = \"text-align: right;\">2</td><td style = \"text-align: right;\">4</td><td style = \"text-align: right;\">6</td><td style = \"text-align: right;\">4</td><td style = \"text-align: right;\">9</td></tr><tr><td class = \"rowNumber\" style = \"font-weight: bold; text-align: right;\">998</td><td style = \"text-align: right;\">10</td><td style = \"text-align: right;\">2</td><td style = \"text-align: right;\">6</td><td style = \"text-align: right;\">8</td><td style = \"text-align: right;\">2</td><td style = \"text-align: right;\">10</td><td style = \"text-align: right;\">8</td><td style = \"text-align: right;\">9</td><td style = \"text-align: right;\">3</td><td style = \"text-align: right;\">7</td></tr><tr><td class = \"rowNumber\" style = \"font-weight: bold; text-align: right;\">999</td><td style = \"text-align: right;\">8</td><td style = \"text-align: right;\">1</td><td style = \"text-align: right;\">3</td><td style = \"text-align: right;\">2</td><td style = \"text-align: right;\">8</td><td style = \"text-align: right;\">7</td><td style = \"text-align: right;\">2</td><td style = \"text-align: right;\">8</td><td style = \"text-align: right;\">6</td><td style = \"text-align: right;\">1</td></tr><tr><td class = \"rowNumber\" style = \"font-weight: bold; text-align: right;\">1000</td><td style = \"text-align: right;\">4</td><td style = \"text-align: right;\">6</td><td style = \"text-align: right;\">3</td><td style = \"text-align: right;\">2</td><td style = \"text-align: right;\">1</td><td style = \"text-align: right;\">6</td><td style = \"text-align: right;\">5</td><td style = \"text-align: right;\">9</td><td style = \"text-align: right;\">3</td><td style = \"text-align: right;\">4</td></tr></tbody></table></div>"
      ],
      "text/latex": [
       "\\begin{tabular}{r|cccccccccc}\n",
       "\t& x1 & x2 & x3 & x4 & x5 & x6 & x7 & x8 & x9 & x10\\\\\n",
       "\t\\hline\n",
       "\t& Int64 & Int64 & Int64 & Int64 & Int64 & Int64 & Int64 & Int64 & Int64 & Int64\\\\\n",
       "\t\\hline\n",
       "\t1 & 2 & 9 & 4 & 5 & 3 & 9 & 9 & 2 & 2 & 8 \\\\\n",
       "\t2 & 7 & 6 & 5 & 8 & 4 & 2 & 7 & 3 & 2 & 3 \\\\\n",
       "\t3 & 3 & 2 & 9 & 8 & 2 & 5 & 1 & 4 & 7 & 10 \\\\\n",
       "\t4 & 5 & 6 & 3 & 1 & 3 & 2 & 4 & 8 & 2 & 1 \\\\\n",
       "\t5 & 8 & 4 & 2 & 2 & 4 & 2 & 9 & 7 & 3 & 1 \\\\\n",
       "\t6 & 4 & 8 & 8 & 4 & 1 & 5 & 6 & 3 & 8 & 6 \\\\\n",
       "\t7 & 8 & 5 & 1 & 1 & 1 & 7 & 8 & 6 & 8 & 5 \\\\\n",
       "\t8 & 3 & 3 & 9 & 6 & 6 & 5 & 5 & 2 & 1 & 6 \\\\\n",
       "\t9 & 2 & 1 & 5 & 3 & 5 & 10 & 9 & 4 & 4 & 7 \\\\\n",
       "\t10 & 1 & 4 & 7 & 6 & 4 & 8 & 5 & 2 & 2 & 8 \\\\\n",
       "\t11 & 3 & 5 & 3 & 10 & 1 & 7 & 1 & 5 & 6 & 4 \\\\\n",
       "\t12 & 1 & 10 & 1 & 9 & 1 & 1 & 9 & 4 & 3 & 6 \\\\\n",
       "\t13 & 8 & 7 & 4 & 9 & 10 & 9 & 4 & 5 & 8 & 4 \\\\\n",
       "\t14 & 3 & 3 & 10 & 9 & 3 & 7 & 10 & 8 & 2 & 1 \\\\\n",
       "\t15 & 1 & 5 & 5 & 8 & 10 & 7 & 4 & 10 & 7 & 6 \\\\\n",
       "\t16 & 9 & 1 & 3 & 7 & 3 & 5 & 7 & 1 & 1 & 6 \\\\\n",
       "\t17 & 9 & 7 & 6 & 9 & 5 & 10 & 6 & 6 & 10 & 6 \\\\\n",
       "\t18 & 2 & 9 & 9 & 7 & 2 & 6 & 10 & 10 & 3 & 4 \\\\\n",
       "\t19 & 6 & 8 & 6 & 2 & 3 & 4 & 7 & 5 & 9 & 4 \\\\\n",
       "\t20 & 10 & 4 & 7 & 9 & 3 & 10 & 4 & 3 & 9 & 10 \\\\\n",
       "\t21 & 10 & 10 & 6 & 1 & 7 & 6 & 2 & 7 & 3 & 9 \\\\\n",
       "\t22 & 1 & 2 & 8 & 8 & 3 & 4 & 9 & 10 & 7 & 9 \\\\\n",
       "\t23 & 3 & 3 & 8 & 6 & 6 & 8 & 3 & 4 & 6 & 1 \\\\\n",
       "\t24 & 9 & 1 & 3 & 2 & 1 & 7 & 2 & 10 & 1 & 3 \\\\\n",
       "\t25 & 3 & 6 & 5 & 9 & 6 & 1 & 4 & 2 & 9 & 1 \\\\\n",
       "\t26 & 10 & 4 & 6 & 7 & 6 & 4 & 5 & 1 & 4 & 9 \\\\\n",
       "\t27 & 3 & 3 & 5 & 2 & 3 & 10 & 10 & 6 & 8 & 3 \\\\\n",
       "\t28 & 3 & 3 & 7 & 2 & 2 & 1 & 2 & 9 & 3 & 6 \\\\\n",
       "\t29 & 1 & 6 & 9 & 4 & 6 & 4 & 5 & 8 & 7 & 9 \\\\\n",
       "\t30 & 10 & 8 & 10 & 5 & 6 & 2 & 1 & 9 & 2 & 7 \\\\\n",
       "\t$\\dots$ & $\\dots$ & $\\dots$ & $\\dots$ & $\\dots$ & $\\dots$ & $\\dots$ & $\\dots$ & $\\dots$ & $\\dots$ & $\\dots$ \\\\\n",
       "\\end{tabular}\n"
      ],
      "text/plain": [
       "\u001b[1m1000×10 DataFrame\u001b[0m\n",
       "\u001b[1m  Row \u001b[0m│\u001b[1m x1    \u001b[0m\u001b[1m x2    \u001b[0m\u001b[1m x3    \u001b[0m\u001b[1m x4    \u001b[0m\u001b[1m x5    \u001b[0m\u001b[1m x6    \u001b[0m\u001b[1m x7    \u001b[0m\u001b[1m x8    \u001b[0m\u001b[1m x9    \u001b[0m\u001b[1m x10   \u001b[0m\n",
       "      │\u001b[90m Int64 \u001b[0m\u001b[90m Int64 \u001b[0m\u001b[90m Int64 \u001b[0m\u001b[90m Int64 \u001b[0m\u001b[90m Int64 \u001b[0m\u001b[90m Int64 \u001b[0m\u001b[90m Int64 \u001b[0m\u001b[90m Int64 \u001b[0m\u001b[90m Int64 \u001b[0m\u001b[90m Int64 \u001b[0m\n",
       "──────┼──────────────────────────────────────────────────────────────────────\n",
       "    1 │     2      9      4      5      3      9      9      2      2      8\n",
       "    2 │     7      6      5      8      4      2      7      3      2      3\n",
       "    3 │     3      2      9      8      2      5      1      4      7     10\n",
       "    4 │     5      6      3      1      3      2      4      8      2      1\n",
       "    5 │     8      4      2      2      4      2      9      7      3      1\n",
       "    6 │     4      8      8      4      1      5      6      3      8      6\n",
       "    7 │     8      5      1      1      1      7      8      6      8      5\n",
       "    8 │     3      3      9      6      6      5      5      2      1      6\n",
       "    9 │     2      1      5      3      5     10      9      4      4      7\n",
       "   10 │     1      4      7      6      4      8      5      2      2      8\n",
       "   11 │     3      5      3     10      1      7      1      5      6      4\n",
       "  ⋮   │   ⋮      ⋮      ⋮      ⋮      ⋮      ⋮      ⋮      ⋮      ⋮      ⋮\n",
       "  991 │     6      7      6      2      4      9     10      9      3      1\n",
       "  992 │     8      6      3      6      7      8      8      2      9      5\n",
       "  993 │     1      9      5      9      2      8      8      6     10      9\n",
       "  994 │     8      3      4     10     10      1      9      8     10      1\n",
       "  995 │     8      9      2      5     10     10      2      5      2      4\n",
       "  996 │     7      7      2      4      4      4      8      9      8      5\n",
       "  997 │     2     10      6      1      6      2      4      6      4      9\n",
       "  998 │    10      2      6      8      2     10      8      9      3      7\n",
       "  999 │     8      1      3      2      8      7      2      8      6      1\n",
       " 1000 │     4      6      3      2      1      6      5      9      3      4\n",
       "\u001b[36m                                                             979 rows omitted\u001b[0m"
      ]
     },
     "execution_count": 11,
     "metadata": {},
     "output_type": "execute_result"
    }
   ],
   "source": [
    "y = DataFrame(rand(1:10, 1000, 10), :auto)"
   ]
  },
  {
   "cell_type": "markdown",
   "metadata": {},
   "source": [
    "and then we can use `first` to peek into its first few rows"
   ]
  },
  {
   "cell_type": "code",
   "execution_count": 12,
   "metadata": {},
   "outputs": [
    {
     "data": {
      "text/html": [
       "<div><div style = \"float: left;\"><span>5×10 DataFrame</span></div><div style = \"clear: both;\"></div></div><div class = \"data-frame\" style = \"overflow-x: scroll;\"><table class = \"data-frame\" style = \"margin-bottom: 6px;\"><thead><tr class = \"header\"><th class = \"rowNumber\" style = \"font-weight: bold; text-align: right;\">Row</th><th style = \"text-align: left;\">x1</th><th style = \"text-align: left;\">x2</th><th style = \"text-align: left;\">x3</th><th style = \"text-align: left;\">x4</th><th style = \"text-align: left;\">x5</th><th style = \"text-align: left;\">x6</th><th style = \"text-align: left;\">x7</th><th style = \"text-align: left;\">x8</th><th style = \"text-align: left;\">x9</th><th style = \"text-align: left;\">x10</th></tr><tr class = \"subheader headerLastRow\"><th class = \"rowNumber\" style = \"font-weight: bold; text-align: right;\"></th><th title = \"Int64\" style = \"text-align: left;\">Int64</th><th title = \"Int64\" style = \"text-align: left;\">Int64</th><th title = \"Int64\" style = \"text-align: left;\">Int64</th><th title = \"Int64\" style = \"text-align: left;\">Int64</th><th title = \"Int64\" style = \"text-align: left;\">Int64</th><th title = \"Int64\" style = \"text-align: left;\">Int64</th><th title = \"Int64\" style = \"text-align: left;\">Int64</th><th title = \"Int64\" style = \"text-align: left;\">Int64</th><th title = \"Int64\" style = \"text-align: left;\">Int64</th><th title = \"Int64\" style = \"text-align: left;\">Int64</th></tr></thead><tbody><tr><td class = \"rowNumber\" style = \"font-weight: bold; text-align: right;\">1</td><td style = \"text-align: right;\">2</td><td style = \"text-align: right;\">9</td><td style = \"text-align: right;\">4</td><td style = \"text-align: right;\">5</td><td style = \"text-align: right;\">3</td><td style = \"text-align: right;\">9</td><td style = \"text-align: right;\">9</td><td style = \"text-align: right;\">2</td><td style = \"text-align: right;\">2</td><td style = \"text-align: right;\">8</td></tr><tr><td class = \"rowNumber\" style = \"font-weight: bold; text-align: right;\">2</td><td style = \"text-align: right;\">7</td><td style = \"text-align: right;\">6</td><td style = \"text-align: right;\">5</td><td style = \"text-align: right;\">8</td><td style = \"text-align: right;\">4</td><td style = \"text-align: right;\">2</td><td style = \"text-align: right;\">7</td><td style = \"text-align: right;\">3</td><td style = \"text-align: right;\">2</td><td style = \"text-align: right;\">3</td></tr><tr><td class = \"rowNumber\" style = \"font-weight: bold; text-align: right;\">3</td><td style = \"text-align: right;\">3</td><td style = \"text-align: right;\">2</td><td style = \"text-align: right;\">9</td><td style = \"text-align: right;\">8</td><td style = \"text-align: right;\">2</td><td style = \"text-align: right;\">5</td><td style = \"text-align: right;\">1</td><td style = \"text-align: right;\">4</td><td style = \"text-align: right;\">7</td><td style = \"text-align: right;\">10</td></tr><tr><td class = \"rowNumber\" style = \"font-weight: bold; text-align: right;\">4</td><td style = \"text-align: right;\">5</td><td style = \"text-align: right;\">6</td><td style = \"text-align: right;\">3</td><td style = \"text-align: right;\">1</td><td style = \"text-align: right;\">3</td><td style = \"text-align: right;\">2</td><td style = \"text-align: right;\">4</td><td style = \"text-align: right;\">8</td><td style = \"text-align: right;\">2</td><td style = \"text-align: right;\">1</td></tr><tr><td class = \"rowNumber\" style = \"font-weight: bold; text-align: right;\">5</td><td style = \"text-align: right;\">8</td><td style = \"text-align: right;\">4</td><td style = \"text-align: right;\">2</td><td style = \"text-align: right;\">2</td><td style = \"text-align: right;\">4</td><td style = \"text-align: right;\">2</td><td style = \"text-align: right;\">9</td><td style = \"text-align: right;\">7</td><td style = \"text-align: right;\">3</td><td style = \"text-align: right;\">1</td></tr></tbody></table></div>"
      ],
      "text/latex": [
       "\\begin{tabular}{r|cccccccccc}\n",
       "\t& x1 & x2 & x3 & x4 & x5 & x6 & x7 & x8 & x9 & x10\\\\\n",
       "\t\\hline\n",
       "\t& Int64 & Int64 & Int64 & Int64 & Int64 & Int64 & Int64 & Int64 & Int64 & Int64\\\\\n",
       "\t\\hline\n",
       "\t1 & 2 & 9 & 4 & 5 & 3 & 9 & 9 & 2 & 2 & 8 \\\\\n",
       "\t2 & 7 & 6 & 5 & 8 & 4 & 2 & 7 & 3 & 2 & 3 \\\\\n",
       "\t3 & 3 & 2 & 9 & 8 & 2 & 5 & 1 & 4 & 7 & 10 \\\\\n",
       "\t4 & 5 & 6 & 3 & 1 & 3 & 2 & 4 & 8 & 2 & 1 \\\\\n",
       "\t5 & 8 & 4 & 2 & 2 & 4 & 2 & 9 & 7 & 3 & 1 \\\\\n",
       "\\end{tabular}\n"
      ],
      "text/plain": [
       "\u001b[1m5×10 DataFrame\u001b[0m\n",
       "\u001b[1m Row \u001b[0m│\u001b[1m x1    \u001b[0m\u001b[1m x2    \u001b[0m\u001b[1m x3    \u001b[0m\u001b[1m x4    \u001b[0m\u001b[1m x5    \u001b[0m\u001b[1m x6    \u001b[0m\u001b[1m x7    \u001b[0m\u001b[1m x8    \u001b[0m\u001b[1m x9    \u001b[0m\u001b[1m x10   \u001b[0m\n",
       "     │\u001b[90m Int64 \u001b[0m\u001b[90m Int64 \u001b[0m\u001b[90m Int64 \u001b[0m\u001b[90m Int64 \u001b[0m\u001b[90m Int64 \u001b[0m\u001b[90m Int64 \u001b[0m\u001b[90m Int64 \u001b[0m\u001b[90m Int64 \u001b[0m\u001b[90m Int64 \u001b[0m\u001b[90m Int64 \u001b[0m\n",
       "─────┼──────────────────────────────────────────────────────────────────────\n",
       "   1 │     2      9      4      5      3      9      9      2      2      8\n",
       "   2 │     7      6      5      8      4      2      7      3      2      3\n",
       "   3 │     3      2      9      8      2      5      1      4      7     10\n",
       "   4 │     5      6      3      1      3      2      4      8      2      1\n",
       "   5 │     8      4      2      2      4      2      9      7      3      1"
      ]
     },
     "execution_count": 12,
     "metadata": {},
     "output_type": "execute_result"
    }
   ],
   "source": [
    "first(y, 5)"
   ]
  },
  {
   "cell_type": "markdown",
   "metadata": {},
   "source": [
    "and `last` to see its bottom rows."
   ]
  },
  {
   "cell_type": "code",
   "execution_count": 13,
   "metadata": {},
   "outputs": [
    {
     "data": {
      "text/html": [
       "<div><div style = \"float: left;\"><span>3×10 DataFrame</span></div><div style = \"clear: both;\"></div></div><div class = \"data-frame\" style = \"overflow-x: scroll;\"><table class = \"data-frame\" style = \"margin-bottom: 6px;\"><thead><tr class = \"header\"><th class = \"rowNumber\" style = \"font-weight: bold; text-align: right;\">Row</th><th style = \"text-align: left;\">x1</th><th style = \"text-align: left;\">x2</th><th style = \"text-align: left;\">x3</th><th style = \"text-align: left;\">x4</th><th style = \"text-align: left;\">x5</th><th style = \"text-align: left;\">x6</th><th style = \"text-align: left;\">x7</th><th style = \"text-align: left;\">x8</th><th style = \"text-align: left;\">x9</th><th style = \"text-align: left;\">x10</th></tr><tr class = \"subheader headerLastRow\"><th class = \"rowNumber\" style = \"font-weight: bold; text-align: right;\"></th><th title = \"Int64\" style = \"text-align: left;\">Int64</th><th title = \"Int64\" style = \"text-align: left;\">Int64</th><th title = \"Int64\" style = \"text-align: left;\">Int64</th><th title = \"Int64\" style = \"text-align: left;\">Int64</th><th title = \"Int64\" style = \"text-align: left;\">Int64</th><th title = \"Int64\" style = \"text-align: left;\">Int64</th><th title = \"Int64\" style = \"text-align: left;\">Int64</th><th title = \"Int64\" style = \"text-align: left;\">Int64</th><th title = \"Int64\" style = \"text-align: left;\">Int64</th><th title = \"Int64\" style = \"text-align: left;\">Int64</th></tr></thead><tbody><tr><td class = \"rowNumber\" style = \"font-weight: bold; text-align: right;\">1</td><td style = \"text-align: right;\">10</td><td style = \"text-align: right;\">2</td><td style = \"text-align: right;\">6</td><td style = \"text-align: right;\">8</td><td style = \"text-align: right;\">2</td><td style = \"text-align: right;\">10</td><td style = \"text-align: right;\">8</td><td style = \"text-align: right;\">9</td><td style = \"text-align: right;\">3</td><td style = \"text-align: right;\">7</td></tr><tr><td class = \"rowNumber\" style = \"font-weight: bold; text-align: right;\">2</td><td style = \"text-align: right;\">8</td><td style = \"text-align: right;\">1</td><td style = \"text-align: right;\">3</td><td style = \"text-align: right;\">2</td><td style = \"text-align: right;\">8</td><td style = \"text-align: right;\">7</td><td style = \"text-align: right;\">2</td><td style = \"text-align: right;\">8</td><td style = \"text-align: right;\">6</td><td style = \"text-align: right;\">1</td></tr><tr><td class = \"rowNumber\" style = \"font-weight: bold; text-align: right;\">3</td><td style = \"text-align: right;\">4</td><td style = \"text-align: right;\">6</td><td style = \"text-align: right;\">3</td><td style = \"text-align: right;\">2</td><td style = \"text-align: right;\">1</td><td style = \"text-align: right;\">6</td><td style = \"text-align: right;\">5</td><td style = \"text-align: right;\">9</td><td style = \"text-align: right;\">3</td><td style = \"text-align: right;\">4</td></tr></tbody></table></div>"
      ],
      "text/latex": [
       "\\begin{tabular}{r|cccccccccc}\n",
       "\t& x1 & x2 & x3 & x4 & x5 & x6 & x7 & x8 & x9 & x10\\\\\n",
       "\t\\hline\n",
       "\t& Int64 & Int64 & Int64 & Int64 & Int64 & Int64 & Int64 & Int64 & Int64 & Int64\\\\\n",
       "\t\\hline\n",
       "\t1 & 10 & 2 & 6 & 8 & 2 & 10 & 8 & 9 & 3 & 7 \\\\\n",
       "\t2 & 8 & 1 & 3 & 2 & 8 & 7 & 2 & 8 & 6 & 1 \\\\\n",
       "\t3 & 4 & 6 & 3 & 2 & 1 & 6 & 5 & 9 & 3 & 4 \\\\\n",
       "\\end{tabular}\n"
      ],
      "text/plain": [
       "\u001b[1m3×10 DataFrame\u001b[0m\n",
       "\u001b[1m Row \u001b[0m│\u001b[1m x1    \u001b[0m\u001b[1m x2    \u001b[0m\u001b[1m x3    \u001b[0m\u001b[1m x4    \u001b[0m\u001b[1m x5    \u001b[0m\u001b[1m x6    \u001b[0m\u001b[1m x7    \u001b[0m\u001b[1m x8    \u001b[0m\u001b[1m x9    \u001b[0m\u001b[1m x10   \u001b[0m\n",
       "     │\u001b[90m Int64 \u001b[0m\u001b[90m Int64 \u001b[0m\u001b[90m Int64 \u001b[0m\u001b[90m Int64 \u001b[0m\u001b[90m Int64 \u001b[0m\u001b[90m Int64 \u001b[0m\u001b[90m Int64 \u001b[0m\u001b[90m Int64 \u001b[0m\u001b[90m Int64 \u001b[0m\u001b[90m Int64 \u001b[0m\n",
       "─────┼──────────────────────────────────────────────────────────────────────\n",
       "   1 │    10      2      6      8      2     10      8      9      3      7\n",
       "   2 │     8      1      3      2      8      7      2      8      6      1\n",
       "   3 │     4      6      3      2      1      6      5      9      3      4"
      ]
     },
     "execution_count": 13,
     "metadata": {},
     "output_type": "execute_result"
    }
   ],
   "source": [
    "last(y, 3)"
   ]
  },
  {
   "cell_type": "markdown",
   "metadata": {},
   "source": [
    "Using `first` and `last` without number of rows will return a first/last `DataFrameRow` in the `DataFrame`"
   ]
  },
  {
   "cell_type": "code",
   "execution_count": 14,
   "metadata": {},
   "outputs": [
    {
     "data": {
      "text/html": [
       "<div><div style = \"float: left;\"><span>DataFrameRow (10 columns)</span></div><div style = \"clear: both;\"></div></div><div class = \"data-frame\" style = \"overflow-x: scroll;\"><table class = \"data-frame\" style = \"margin-bottom: 6px;\"><thead><tr class = \"header\"><th class = \"rowLabel\" style = \"font-weight: bold; text-align: right;\">Row</th><th style = \"text-align: left;\">x1</th><th style = \"text-align: left;\">x2</th><th style = \"text-align: left;\">x3</th><th style = \"text-align: left;\">x4</th><th style = \"text-align: left;\">x5</th><th style = \"text-align: left;\">x6</th><th style = \"text-align: left;\">x7</th><th style = \"text-align: left;\">x8</th><th style = \"text-align: left;\">x9</th><th style = \"text-align: left;\">x10</th></tr><tr class = \"subheader headerLastRow\"><th class = \"rowLabel\" style = \"font-weight: bold; text-align: right;\"></th><th title = \"Int64\" style = \"text-align: left;\">Int64</th><th title = \"Int64\" style = \"text-align: left;\">Int64</th><th title = \"Int64\" style = \"text-align: left;\">Int64</th><th title = \"Int64\" style = \"text-align: left;\">Int64</th><th title = \"Int64\" style = \"text-align: left;\">Int64</th><th title = \"Int64\" style = \"text-align: left;\">Int64</th><th title = \"Int64\" style = \"text-align: left;\">Int64</th><th title = \"Int64\" style = \"text-align: left;\">Int64</th><th title = \"Int64\" style = \"text-align: left;\">Int64</th><th title = \"Int64\" style = \"text-align: left;\">Int64</th></tr></thead><tbody><tr><td class = \"rowLabel\" style = \"font-weight: bold; text-align: right;\">1</td><td style = \"text-align: right;\">2</td><td style = \"text-align: right;\">9</td><td style = \"text-align: right;\">4</td><td style = \"text-align: right;\">5</td><td style = \"text-align: right;\">3</td><td style = \"text-align: right;\">9</td><td style = \"text-align: right;\">9</td><td style = \"text-align: right;\">2</td><td style = \"text-align: right;\">2</td><td style = \"text-align: right;\">8</td></tr></tbody></table></div>"
      ],
      "text/latex": [
       "\\begin{tabular}{r|cccccccccc}\n",
       "\t& x1 & x2 & x3 & x4 & x5 & x6 & x7 & x8 & x9 & x10\\\\\n",
       "\t\\hline\n",
       "\t& Int64 & Int64 & Int64 & Int64 & Int64 & Int64 & Int64 & Int64 & Int64 & Int64\\\\\n",
       "\t\\hline\n",
       "\t1 & 2 & 9 & 4 & 5 & 3 & 9 & 9 & 2 & 2 & 8 \\\\\n",
       "\\end{tabular}\n"
      ],
      "text/plain": [
       "\u001b[1mDataFrameRow\u001b[0m\n",
       "\u001b[1m Row \u001b[0m│\u001b[1m x1    \u001b[0m\u001b[1m x2    \u001b[0m\u001b[1m x3    \u001b[0m\u001b[1m x4    \u001b[0m\u001b[1m x5    \u001b[0m\u001b[1m x6    \u001b[0m\u001b[1m x7    \u001b[0m\u001b[1m x8    \u001b[0m\u001b[1m x9    \u001b[0m\u001b[1m x10   \u001b[0m\n",
       "     │\u001b[90m Int64 \u001b[0m\u001b[90m Int64 \u001b[0m\u001b[90m Int64 \u001b[0m\u001b[90m Int64 \u001b[0m\u001b[90m Int64 \u001b[0m\u001b[90m Int64 \u001b[0m\u001b[90m Int64 \u001b[0m\u001b[90m Int64 \u001b[0m\u001b[90m Int64 \u001b[0m\u001b[90m Int64 \u001b[0m\n",
       "─────┼──────────────────────────────────────────────────────────────────────\n",
       "   1 │     2      9      4      5      3      9      9      2      2      8"
      ]
     },
     "execution_count": 14,
     "metadata": {},
     "output_type": "execute_result"
    }
   ],
   "source": [
    "first(y)"
   ]
  },
  {
   "cell_type": "code",
   "execution_count": 15,
   "metadata": {},
   "outputs": [
    {
     "data": {
      "text/html": [
       "<div><div style = \"float: left;\"><span>DataFrameRow (10 columns)</span></div><div style = \"clear: both;\"></div></div><div class = \"data-frame\" style = \"overflow-x: scroll;\"><table class = \"data-frame\" style = \"margin-bottom: 6px;\"><thead><tr class = \"header\"><th class = \"rowLabel\" style = \"font-weight: bold; text-align: right;\">Row</th><th style = \"text-align: left;\">x1</th><th style = \"text-align: left;\">x2</th><th style = \"text-align: left;\">x3</th><th style = \"text-align: left;\">x4</th><th style = \"text-align: left;\">x5</th><th style = \"text-align: left;\">x6</th><th style = \"text-align: left;\">x7</th><th style = \"text-align: left;\">x8</th><th style = \"text-align: left;\">x9</th><th style = \"text-align: left;\">x10</th></tr><tr class = \"subheader headerLastRow\"><th class = \"rowLabel\" style = \"font-weight: bold; text-align: right;\"></th><th title = \"Int64\" style = \"text-align: left;\">Int64</th><th title = \"Int64\" style = \"text-align: left;\">Int64</th><th title = \"Int64\" style = \"text-align: left;\">Int64</th><th title = \"Int64\" style = \"text-align: left;\">Int64</th><th title = \"Int64\" style = \"text-align: left;\">Int64</th><th title = \"Int64\" style = \"text-align: left;\">Int64</th><th title = \"Int64\" style = \"text-align: left;\">Int64</th><th title = \"Int64\" style = \"text-align: left;\">Int64</th><th title = \"Int64\" style = \"text-align: left;\">Int64</th><th title = \"Int64\" style = \"text-align: left;\">Int64</th></tr></thead><tbody><tr><td class = \"rowLabel\" style = \"font-weight: bold; text-align: right;\">1000</td><td style = \"text-align: right;\">4</td><td style = \"text-align: right;\">6</td><td style = \"text-align: right;\">3</td><td style = \"text-align: right;\">2</td><td style = \"text-align: right;\">1</td><td style = \"text-align: right;\">6</td><td style = \"text-align: right;\">5</td><td style = \"text-align: right;\">9</td><td style = \"text-align: right;\">3</td><td style = \"text-align: right;\">4</td></tr></tbody></table></div>"
      ],
      "text/latex": [
       "\\begin{tabular}{r|cccccccccc}\n",
       "\t& x1 & x2 & x3 & x4 & x5 & x6 & x7 & x8 & x9 & x10\\\\\n",
       "\t\\hline\n",
       "\t& Int64 & Int64 & Int64 & Int64 & Int64 & Int64 & Int64 & Int64 & Int64 & Int64\\\\\n",
       "\t\\hline\n",
       "\t1000 & 4 & 6 & 3 & 2 & 1 & 6 & 5 & 9 & 3 & 4 \\\\\n",
       "\\end{tabular}\n"
      ],
      "text/plain": [
       "\u001b[1mDataFrameRow\u001b[0m\n",
       "\u001b[1m  Row \u001b[0m│\u001b[1m x1    \u001b[0m\u001b[1m x2    \u001b[0m\u001b[1m x3    \u001b[0m\u001b[1m x4    \u001b[0m\u001b[1m x5    \u001b[0m\u001b[1m x6    \u001b[0m\u001b[1m x7    \u001b[0m\u001b[1m x8    \u001b[0m\u001b[1m x9    \u001b[0m\u001b[1m x10   \u001b[0m\n",
       "      │\u001b[90m Int64 \u001b[0m\u001b[90m Int64 \u001b[0m\u001b[90m Int64 \u001b[0m\u001b[90m Int64 \u001b[0m\u001b[90m Int64 \u001b[0m\u001b[90m Int64 \u001b[0m\u001b[90m Int64 \u001b[0m\u001b[90m Int64 \u001b[0m\u001b[90m Int64 \u001b[0m\u001b[90m Int64 \u001b[0m\n",
       "──────┼──────────────────────────────────────────────────────────────────────\n",
       " 1000 │     4      6      3      2      1      6      5      9      3      4"
      ]
     },
     "execution_count": 15,
     "metadata": {},
     "output_type": "execute_result"
    }
   ],
   "source": [
    "last(y)"
   ]
  },
  {
   "cell_type": "markdown",
   "metadata": {},
   "source": [
    "### Displaying wide data frames"
   ]
  },
  {
   "cell_type": "markdown",
   "metadata": {},
   "source": [
    "Create a wide and tall data frame:"
   ]
  },
  {
   "cell_type": "code",
   "execution_count": 16,
   "metadata": {
    "scrolled": false
   },
   "outputs": [
    {
     "data": {
      "text/html": [
       "<div><div style = \"float: left;\"><span>100×200 DataFrame</span></div><div style = \"float: right;\"><span style = \"font-style: italic;\">100 columns and 75 rows omitted</span></div><div style = \"clear: both;\"></div></div><div class = \"data-frame\" style = \"overflow-x: scroll;\"><table class = \"data-frame\" style = \"margin-bottom: 6px;\"><thead><tr class = \"header\"><th class = \"rowNumber\" style = \"font-weight: bold; text-align: right;\">Row</th><th style = \"text-align: left;\">x1</th><th style = \"text-align: left;\">x2</th><th style = \"text-align: left;\">x3</th><th style = \"text-align: left;\">x4</th><th style = \"text-align: left;\">x5</th><th style = \"text-align: left;\">x6</th><th style = \"text-align: left;\">x7</th><th style = \"text-align: left;\">x8</th><th style = \"text-align: left;\">x9</th><th style = \"text-align: left;\">x10</th><th style = \"text-align: left;\">x11</th><th style = \"text-align: left;\">x12</th><th style = \"text-align: left;\">x13</th><th style = \"text-align: left;\">x14</th><th style = \"text-align: left;\">x15</th><th style = \"text-align: left;\">x16</th><th style = \"text-align: left;\">x17</th><th style = \"text-align: left;\">x18</th><th style = \"text-align: left;\">x19</th><th style = \"text-align: left;\">x20</th><th style = \"text-align: left;\">x21</th><th style = \"text-align: left;\">x22</th><th style = \"text-align: left;\">x23</th><th style = \"text-align: left;\">x24</th><th style = \"text-align: left;\">x25</th><th style = \"text-align: left;\">x26</th><th style = \"text-align: left;\">x27</th><th style = \"text-align: left;\">x28</th><th style = \"text-align: left;\">x29</th><th style = \"text-align: left;\">x30</th><th style = \"text-align: left;\">x31</th><th style = \"text-align: left;\">x32</th><th style = \"text-align: left;\">x33</th><th style = \"text-align: left;\">x34</th><th style = \"text-align: left;\">x35</th><th style = \"text-align: left;\">x36</th><th style = \"text-align: left;\">x37</th><th style = \"text-align: left;\">x38</th><th style = \"text-align: left;\">x39</th><th style = \"text-align: left;\">x40</th><th style = \"text-align: left;\">x41</th><th style = \"text-align: left;\">x42</th><th style = \"text-align: left;\">x43</th><th style = \"text-align: left;\">x44</th><th style = \"text-align: left;\">x45</th><th style = \"text-align: left;\">x46</th><th style = \"text-align: left;\">x47</th><th style = \"text-align: left;\">x48</th><th style = \"text-align: left;\">x49</th><th style = \"text-align: left;\">x50</th><th style = \"text-align: left;\">x51</th><th style = \"text-align: left;\">x52</th><th style = \"text-align: left;\">x53</th><th style = \"text-align: left;\">x54</th><th style = \"text-align: left;\">x55</th><th style = \"text-align: left;\">x56</th><th style = \"text-align: left;\">x57</th><th style = \"text-align: left;\">x58</th><th style = \"text-align: left;\">x59</th><th style = \"text-align: left;\">x60</th><th style = \"text-align: left;\">x61</th><th style = \"text-align: left;\">x62</th><th style = \"text-align: left;\">x63</th><th style = \"text-align: left;\">x64</th><th style = \"text-align: left;\">x65</th><th style = \"text-align: left;\">x66</th><th style = \"text-align: left;\">x67</th><th style = \"text-align: left;\">x68</th><th style = \"text-align: left;\">x69</th><th style = \"text-align: left;\">x70</th><th style = \"text-align: left;\">x71</th><th style = \"text-align: left;\">x72</th><th style = \"text-align: left;\">x73</th><th style = \"text-align: left;\">x74</th><th style = \"text-align: left;\">x75</th><th style = \"text-align: left;\">x76</th><th style = \"text-align: left;\">x77</th><th style = \"text-align: left;\">x78</th><th style = \"text-align: left;\">x79</th><th style = \"text-align: left;\">x80</th><th style = \"text-align: left;\">x81</th><th style = \"text-align: left;\">x82</th><th style = \"text-align: left;\">x83</th><th style = \"text-align: left;\">x84</th><th style = \"text-align: left;\">x85</th><th style = \"text-align: left;\">x86</th><th style = \"text-align: left;\">x87</th><th style = \"text-align: left;\">x88</th><th style = \"text-align: left;\">x89</th><th style = \"text-align: left;\">x90</th><th style = \"text-align: left;\">x91</th><th style = \"text-align: left;\">x92</th><th style = \"text-align: left;\">x93</th><th style = \"text-align: left;\">x94</th><th style = \"text-align: left;\">x95</th><th style = \"text-align: left;\">x96</th><th style = \"text-align: left;\">x97</th><th style = \"text-align: left;\">x98</th><th style = \"text-align: left;\">x99</th><th style = \"text-align: left;\">x100</th><th style = \"text-align: right;\">&ctdot;</th></tr><tr class = \"subheader headerLastRow\"><th class = \"rowNumber\" style = \"font-weight: bold; text-align: right;\"></th><th title = \"Float64\" style = \"text-align: left;\">Float64</th><th title = \"Float64\" style = \"text-align: left;\">Float64</th><th title = \"Float64\" style = \"text-align: left;\">Float64</th><th title = \"Float64\" style = \"text-align: left;\">Float64</th><th title = \"Float64\" style = \"text-align: left;\">Float64</th><th title = \"Float64\" style = \"text-align: left;\">Float64</th><th title = \"Float64\" style = \"text-align: left;\">Float64</th><th title = \"Float64\" style = \"text-align: left;\">Float64</th><th title = \"Float64\" style = \"text-align: left;\">Float64</th><th title = \"Float64\" style = \"text-align: left;\">Float64</th><th title = \"Float64\" style = \"text-align: left;\">Float64</th><th title = \"Float64\" style = \"text-align: left;\">Float64</th><th title = \"Float64\" style = \"text-align: left;\">Float64</th><th title = \"Float64\" style = \"text-align: left;\">Float64</th><th title = \"Float64\" style = \"text-align: left;\">Float64</th><th title = \"Float64\" style = \"text-align: left;\">Float64</th><th title = \"Float64\" style = \"text-align: left;\">Float64</th><th title = \"Float64\" style = \"text-align: left;\">Float64</th><th title = \"Float64\" style = \"text-align: left;\">Float64</th><th title = \"Float64\" style = \"text-align: left;\">Float64</th><th title = \"Float64\" style = \"text-align: left;\">Float64</th><th title = \"Float64\" style = \"text-align: left;\">Float64</th><th title = \"Float64\" style = \"text-align: left;\">Float64</th><th title = \"Float64\" style = \"text-align: left;\">Float64</th><th title = \"Float64\" style = \"text-align: left;\">Float64</th><th title = \"Float64\" style = \"text-align: left;\">Float64</th><th title = \"Float64\" style = \"text-align: left;\">Float64</th><th title = \"Float64\" style = \"text-align: left;\">Float64</th><th title = \"Float64\" style = \"text-align: left;\">Float64</th><th title = \"Float64\" style = \"text-align: left;\">Float64</th><th title = \"Float64\" style = \"text-align: left;\">Float64</th><th title = \"Float64\" style = \"text-align: left;\">Float64</th><th title = \"Float64\" style = \"text-align: left;\">Float64</th><th title = \"Float64\" style = \"text-align: left;\">Float64</th><th title = \"Float64\" style = \"text-align: left;\">Float64</th><th title = \"Float64\" style = \"text-align: left;\">Float64</th><th title = \"Float64\" style = \"text-align: left;\">Float64</th><th title = \"Float64\" style = \"text-align: left;\">Float64</th><th title = \"Float64\" style = \"text-align: left;\">Float64</th><th title = \"Float64\" style = \"text-align: left;\">Float64</th><th title = \"Float64\" style = \"text-align: left;\">Float64</th><th title = \"Float64\" style = \"text-align: left;\">Float64</th><th title = \"Float64\" style = \"text-align: left;\">Float64</th><th title = \"Float64\" style = \"text-align: left;\">Float64</th><th title = \"Float64\" style = \"text-align: left;\">Float64</th><th title = \"Float64\" style = \"text-align: left;\">Float64</th><th title = \"Float64\" style = \"text-align: left;\">Float64</th><th title = \"Float64\" style = \"text-align: left;\">Float64</th><th title = \"Float64\" style = \"text-align: left;\">Float64</th><th title = \"Float64\" style = \"text-align: left;\">Float64</th><th title = \"Float64\" style = \"text-align: left;\">Float64</th><th title = \"Float64\" style = \"text-align: left;\">Float64</th><th title = \"Float64\" style = \"text-align: left;\">Float64</th><th title = \"Float64\" style = \"text-align: left;\">Float64</th><th title = \"Float64\" style = \"text-align: left;\">Float64</th><th title = \"Float64\" style = \"text-align: left;\">Float64</th><th title = \"Float64\" style = \"text-align: left;\">Float64</th><th title = \"Float64\" style = \"text-align: left;\">Float64</th><th title = \"Float64\" style = \"text-align: left;\">Float64</th><th title = \"Float64\" style = \"text-align: left;\">Float64</th><th title = \"Float64\" style = \"text-align: left;\">Float64</th><th title = \"Float64\" style = \"text-align: left;\">Float64</th><th title = \"Float64\" style = \"text-align: left;\">Float64</th><th title = \"Float64\" style = \"text-align: left;\">Float64</th><th title = \"Float64\" style = \"text-align: left;\">Float64</th><th title = \"Float64\" style = \"text-align: left;\">Float64</th><th title = \"Float64\" style = \"text-align: left;\">Float64</th><th title = \"Float64\" style = \"text-align: left;\">Float64</th><th title = \"Float64\" style = \"text-align: left;\">Float64</th><th title = \"Float64\" style = \"text-align: left;\">Float64</th><th title = \"Float64\" style = \"text-align: left;\">Float64</th><th title = \"Float64\" style = \"text-align: left;\">Float64</th><th title = \"Float64\" style = \"text-align: left;\">Float64</th><th title = \"Float64\" style = \"text-align: left;\">Float64</th><th title = \"Float64\" style = \"text-align: left;\">Float64</th><th title = \"Float64\" style = \"text-align: left;\">Float64</th><th title = \"Float64\" style = \"text-align: left;\">Float64</th><th title = \"Float64\" style = \"text-align: left;\">Float64</th><th title = \"Float64\" style = \"text-align: left;\">Float64</th><th title = \"Float64\" style = \"text-align: left;\">Float64</th><th title = \"Float64\" style = \"text-align: left;\">Float64</th><th title = \"Float64\" style = \"text-align: left;\">Float64</th><th title = \"Float64\" style = \"text-align: left;\">Float64</th><th title = \"Float64\" style = \"text-align: left;\">Float64</th><th title = \"Float64\" style = \"text-align: left;\">Float64</th><th title = \"Float64\" style = \"text-align: left;\">Float64</th><th title = \"Float64\" style = \"text-align: left;\">Float64</th><th title = \"Float64\" style = \"text-align: left;\">Float64</th><th title = \"Float64\" style = \"text-align: left;\">Float64</th><th title = \"Float64\" style = \"text-align: left;\">Float64</th><th title = \"Float64\" style = \"text-align: left;\">Float64</th><th title = \"Float64\" style = \"text-align: left;\">Float64</th><th title = \"Float64\" style = \"text-align: left;\">Float64</th><th title = \"Float64\" style = \"text-align: left;\">Float64</th><th title = \"Float64\" style = \"text-align: left;\">Float64</th><th title = \"Float64\" style = \"text-align: left;\">Float64</th><th title = \"Float64\" style = \"text-align: left;\">Float64</th><th title = \"Float64\" style = \"text-align: left;\">Float64</th><th title = \"Float64\" style = \"text-align: left;\">Float64</th><th title = \"Float64\" style = \"text-align: left;\">Float64</th><th title = \"Float64\" style = \"text-align: right;\">&ctdot;</th></tr></thead><tbody><tr><td class = \"rowNumber\" style = \"font-weight: bold; text-align: right;\">1</td><td style = \"text-align: right;\">0.800589</td><td style = \"text-align: right;\">0.520631</td><td style = \"text-align: right;\">0.809645</td><td style = \"text-align: right;\">0.684632</td><td style = \"text-align: right;\">0.730305</td><td style = \"text-align: right;\">0.229668</td><td style = \"text-align: right;\">0.506644</td><td style = \"text-align: right;\">0.0567315</td><td style = \"text-align: right;\">0.922278</td><td style = \"text-align: right;\">0.354386</td><td style = \"text-align: right;\">0.325685</td><td style = \"text-align: right;\">0.612274</td><td style = \"text-align: right;\">0.441096</td><td style = \"text-align: right;\">0.245811</td><td style = \"text-align: right;\">0.550838</td><td style = \"text-align: right;\">0.428645</td><td style = \"text-align: right;\">0.503004</td><td style = \"text-align: right;\">0.171874</td><td style = \"text-align: right;\">0.789244</td><td style = \"text-align: right;\">0.189804</td><td style = \"text-align: right;\">0.67233</td><td style = \"text-align: right;\">0.589384</td><td style = \"text-align: right;\">0.824691</td><td style = \"text-align: right;\">0.180182</td><td style = \"text-align: right;\">0.190486</td><td style = \"text-align: right;\">0.793178</td><td style = \"text-align: right;\">0.974488</td><td style = \"text-align: right;\">0.452015</td><td style = \"text-align: right;\">0.273958</td><td style = \"text-align: right;\">0.334876</td><td style = \"text-align: right;\">0.569658</td><td style = \"text-align: right;\">0.970456</td><td style = \"text-align: right;\">0.188461</td><td style = \"text-align: right;\">0.301614</td><td style = \"text-align: right;\">0.370001</td><td style = \"text-align: right;\">0.265578</td><td style = \"text-align: right;\">0.726402</td><td style = \"text-align: right;\">0.128168</td><td style = \"text-align: right;\">0.314791</td><td style = \"text-align: right;\">0.985822</td><td style = \"text-align: right;\">0.0209938</td><td style = \"text-align: right;\">0.0429947</td><td style = \"text-align: right;\">0.684754</td><td style = \"text-align: right;\">0.601738</td><td style = \"text-align: right;\">0.828557</td><td style = \"text-align: right;\">0.440496</td><td style = \"text-align: right;\">0.628818</td><td style = \"text-align: right;\">0.393444</td><td style = \"text-align: right;\">0.43968</td><td style = \"text-align: right;\">0.885664</td><td style = \"text-align: right;\">0.946436</td><td style = \"text-align: right;\">0.791562</td><td style = \"text-align: right;\">0.0930476</td><td style = \"text-align: right;\">0.674946</td><td style = \"text-align: right;\">0.818285</td><td style = \"text-align: right;\">0.912116</td><td style = \"text-align: right;\">0.525963</td><td style = \"text-align: right;\">0.524383</td><td style = \"text-align: right;\">0.397839</td><td style = \"text-align: right;\">0.746288</td><td style = \"text-align: right;\">0.1429</td><td style = \"text-align: right;\">0.857926</td><td style = \"text-align: right;\">0.514314</td><td style = \"text-align: right;\">0.139064</td><td style = \"text-align: right;\">0.076648</td><td style = \"text-align: right;\">0.14208</td><td style = \"text-align: right;\">0.742237</td><td style = \"text-align: right;\">0.256211</td><td style = \"text-align: right;\">0.854108</td><td style = \"text-align: right;\">0.708987</td><td style = \"text-align: right;\">0.654079</td><td style = \"text-align: right;\">0.868797</td><td style = \"text-align: right;\">0.46379</td><td style = \"text-align: right;\">0.495156</td><td style = \"text-align: right;\">0.283477</td><td style = \"text-align: right;\">0.366115</td><td style = \"text-align: right;\">0.495611</td><td style = \"text-align: right;\">0.382225</td><td style = \"text-align: right;\">0.420424</td><td style = \"text-align: right;\">0.88158</td><td style = \"text-align: right;\">0.0678973</td><td style = \"text-align: right;\">0.551639</td><td style = \"text-align: right;\">0.712055</td><td style = \"text-align: right;\">0.862031</td><td style = \"text-align: right;\">0.962128</td><td style = \"text-align: right;\">0.78974</td><td style = \"text-align: right;\">0.00666668</td><td style = \"text-align: right;\">0.825641</td><td style = \"text-align: right;\">0.918785</td><td style = \"text-align: right;\">0.521414</td><td style = \"text-align: right;\">0.949698</td><td style = \"text-align: right;\">0.785214</td><td style = \"text-align: right;\">0.263016</td><td style = \"text-align: right;\">0.495631</td><td style = \"text-align: right;\">0.50636</td><td style = \"text-align: right;\">0.0612606</td><td style = \"text-align: right;\">0.289994</td><td style = \"text-align: right;\">0.498179</td><td style = \"text-align: right;\">0.876239</td><td style = \"text-align: right;\">0.395157</td><td style = \"text-align: right;\">&ctdot;</td></tr><tr><td class = \"rowNumber\" style = \"font-weight: bold; text-align: right;\">2</td><td style = \"text-align: right;\">0.792454</td><td style = \"text-align: right;\">0.539687</td><td style = \"text-align: right;\">0.638338</td><td style = \"text-align: right;\">0.317587</td><td style = \"text-align: right;\">0.25712</td><td style = \"text-align: right;\">0.57408</td><td style = \"text-align: right;\">0.701946</td><td style = \"text-align: right;\">0.579785</td><td style = \"text-align: right;\">0.249114</td><td style = \"text-align: right;\">0.127132</td><td style = \"text-align: right;\">0.978639</td><td style = \"text-align: right;\">0.392828</td><td style = \"text-align: right;\">0.568908</td><td style = \"text-align: right;\">0.395496</td><td style = \"text-align: right;\">0.737063</td><td style = \"text-align: right;\">0.509046</td><td style = \"text-align: right;\">0.374583</td><td style = \"text-align: right;\">0.905227</td><td style = \"text-align: right;\">0.288437</td><td style = \"text-align: right;\">0.051777</td><td style = \"text-align: right;\">0.5846</td><td style = \"text-align: right;\">0.974884</td><td style = \"text-align: right;\">0.999818</td><td style = \"text-align: right;\">0.6276</td><td style = \"text-align: right;\">0.658764</td><td style = \"text-align: right;\">0.31442</td><td style = \"text-align: right;\">0.845545</td><td style = \"text-align: right;\">0.318234</td><td style = \"text-align: right;\">0.680063</td><td style = \"text-align: right;\">0.690976</td><td style = \"text-align: right;\">0.529663</td><td style = \"text-align: right;\">0.273604</td><td style = \"text-align: right;\">0.1044</td><td style = \"text-align: right;\">0.682575</td><td style = \"text-align: right;\">0.163342</td><td style = \"text-align: right;\">0.455817</td><td style = \"text-align: right;\">0.274151</td><td style = \"text-align: right;\">0.237478</td><td style = \"text-align: right;\">0.106557</td><td style = \"text-align: right;\">0.348222</td><td style = \"text-align: right;\">0.257028</td><td style = \"text-align: right;\">0.600596</td><td style = \"text-align: right;\">0.930427</td><td style = \"text-align: right;\">0.414094</td><td style = \"text-align: right;\">0.501831</td><td style = \"text-align: right;\">0.20781</td><td style = \"text-align: right;\">0.983219</td><td style = \"text-align: right;\">0.922354</td><td style = \"text-align: right;\">0.222877</td><td style = \"text-align: right;\">0.0414462</td><td style = \"text-align: right;\">0.0242487</td><td style = \"text-align: right;\">0.913991</td><td style = \"text-align: right;\">0.529717</td><td style = \"text-align: right;\">0.510727</td><td style = \"text-align: right;\">0.347199</td><td style = \"text-align: right;\">0.868013</td><td style = \"text-align: right;\">0.860727</td><td style = \"text-align: right;\">0.529058</td><td style = \"text-align: right;\">0.238066</td><td style = \"text-align: right;\">0.699428</td><td style = \"text-align: right;\">0.974643</td><td style = \"text-align: right;\">0.974776</td><td style = \"text-align: right;\">0.107829</td><td style = \"text-align: right;\">0.31921</td><td style = \"text-align: right;\">0.834583</td><td style = \"text-align: right;\">0.337684</td><td style = \"text-align: right;\">0.317935</td><td style = \"text-align: right;\">0.705979</td><td style = \"text-align: right;\">0.294931</td><td style = \"text-align: right;\">0.465135</td><td style = \"text-align: right;\">0.795949</td><td style = \"text-align: right;\">0.85349</td><td style = \"text-align: right;\">0.502169</td><td style = \"text-align: right;\">0.138797</td><td style = \"text-align: right;\">0.0349598</td><td style = \"text-align: right;\">0.5765</td><td style = \"text-align: right;\">0.349394</td><td style = \"text-align: right;\">0.464137</td><td style = \"text-align: right;\">0.124665</td><td style = \"text-align: right;\">0.567256</td><td style = \"text-align: right;\">0.623415</td><td style = \"text-align: right;\">0.332416</td><td style = \"text-align: right;\">0.615273</td><td style = \"text-align: right;\">0.396437</td><td style = \"text-align: right;\">0.167669</td><td style = \"text-align: right;\">0.680672</td><td style = \"text-align: right;\">0.490952</td><td style = \"text-align: right;\">0.186524</td><td style = \"text-align: right;\">0.717682</td><td style = \"text-align: right;\">0.699698</td><td style = \"text-align: right;\">0.438653</td><td style = \"text-align: right;\">0.527789</td><td style = \"text-align: right;\">0.827695</td><td style = \"text-align: right;\">0.549679</td><td style = \"text-align: right;\">0.717268</td><td style = \"text-align: right;\">0.776862</td><td style = \"text-align: right;\">0.395776</td><td style = \"text-align: right;\">0.651825</td><td style = \"text-align: right;\">0.974716</td><td style = \"text-align: right;\">0.873791</td><td style = \"text-align: right;\">&ctdot;</td></tr><tr><td class = \"rowNumber\" style = \"font-weight: bold; text-align: right;\">3</td><td style = \"text-align: right;\">0.590947</td><td style = \"text-align: right;\">0.90727</td><td style = \"text-align: right;\">0.340609</td><td style = \"text-align: right;\">0.77661</td><td style = \"text-align: right;\">0.95369</td><td style = \"text-align: right;\">0.0467544</td><td style = \"text-align: right;\">0.860111</td><td style = \"text-align: right;\">0.141644</td><td style = \"text-align: right;\">0.0439371</td><td style = \"text-align: right;\">0.759328</td><td style = \"text-align: right;\">0.888533</td><td style = \"text-align: right;\">0.219864</td><td style = \"text-align: right;\">0.10134</td><td style = \"text-align: right;\">0.913859</td><td style = \"text-align: right;\">0.453325</td><td style = \"text-align: right;\">0.00559103</td><td style = \"text-align: right;\">0.729681</td><td style = \"text-align: right;\">0.586963</td><td style = \"text-align: right;\">0.196746</td><td style = \"text-align: right;\">0.68335</td><td style = \"text-align: right;\">0.795744</td><td style = \"text-align: right;\">0.995164</td><td style = \"text-align: right;\">0.183859</td><td style = \"text-align: right;\">0.607252</td><td style = \"text-align: right;\">0.884222</td><td style = \"text-align: right;\">0.261845</td><td style = \"text-align: right;\">0.542955</td><td style = \"text-align: right;\">0.182878</td><td style = \"text-align: right;\">0.836044</td><td style = \"text-align: right;\">0.4687</td><td style = \"text-align: right;\">0.304262</td><td style = \"text-align: right;\">0.146769</td><td style = \"text-align: right;\">0.841228</td><td style = \"text-align: right;\">0.864418</td><td style = \"text-align: right;\">0.250909</td><td style = \"text-align: right;\">0.729893</td><td style = \"text-align: right;\">0.321629</td><td style = \"text-align: right;\">0.526859</td><td style = \"text-align: right;\">0.802301</td><td style = \"text-align: right;\">0.149461</td><td style = \"text-align: right;\">0.488907</td><td style = \"text-align: right;\">0.346208</td><td style = \"text-align: right;\">0.392273</td><td style = \"text-align: right;\">0.859308</td><td style = \"text-align: right;\">0.277391</td><td style = \"text-align: right;\">0.747836</td><td style = \"text-align: right;\">0.502413</td><td style = \"text-align: right;\">0.541414</td><td style = \"text-align: right;\">0.771034</td><td style = \"text-align: right;\">0.903394</td><td style = \"text-align: right;\">0.263061</td><td style = \"text-align: right;\">0.0480684</td><td style = \"text-align: right;\">0.738763</td><td style = \"text-align: right;\">0.896476</td><td style = \"text-align: right;\">0.764246</td><td style = \"text-align: right;\">0.981591</td><td style = \"text-align: right;\">0.495881</td><td style = \"text-align: right;\">0.0685592</td><td style = \"text-align: right;\">0.0242537</td><td style = \"text-align: right;\">0.153185</td><td style = \"text-align: right;\">0.347357</td><td style = \"text-align: right;\">0.19208</td><td style = \"text-align: right;\">0.270378</td><td style = \"text-align: right;\">0.264432</td><td style = \"text-align: right;\">0.341156</td><td style = \"text-align: right;\">0.155568</td><td style = \"text-align: right;\">0.297596</td><td style = \"text-align: right;\">0.0615184</td><td style = \"text-align: right;\">0.255697</td><td style = \"text-align: right;\">0.261417</td><td style = \"text-align: right;\">0.598361</td><td style = \"text-align: right;\">0.0997615</td><td style = \"text-align: right;\">0.239073</td><td style = \"text-align: right;\">0.276969</td><td style = \"text-align: right;\">0.0986606</td><td style = \"text-align: right;\">0.703866</td><td style = \"text-align: right;\">0.894894</td><td style = \"text-align: right;\">0.880644</td><td style = \"text-align: right;\">0.768527</td><td style = \"text-align: right;\">0.745287</td><td style = \"text-align: right;\">0.137539</td><td style = \"text-align: right;\">0.592931</td><td style = \"text-align: right;\">0.114904</td><td style = \"text-align: right;\">0.445384</td><td style = \"text-align: right;\">0.387289</td><td style = \"text-align: right;\">0.452237</td><td style = \"text-align: right;\">0.653976</td><td style = \"text-align: right;\">0.0173606</td><td style = \"text-align: right;\">0.433225</td><td style = \"text-align: right;\">0.130521</td><td style = \"text-align: right;\">0.586541</td><td style = \"text-align: right;\">0.404991</td><td style = \"text-align: right;\">0.604585</td><td style = \"text-align: right;\">0.253853</td><td style = \"text-align: right;\">0.918753</td><td style = \"text-align: right;\">0.965589</td><td style = \"text-align: right;\">0.561081</td><td style = \"text-align: right;\">0.515274</td><td style = \"text-align: right;\">0.28853</td><td style = \"text-align: right;\">0.232241</td><td style = \"text-align: right;\">&ctdot;</td></tr><tr><td class = \"rowNumber\" style = \"font-weight: bold; text-align: right;\">4</td><td style = \"text-align: right;\">0.542843</td><td style = \"text-align: right;\">0.167519</td><td style = \"text-align: right;\">0.191</td><td style = \"text-align: right;\">0.927426</td><td style = \"text-align: right;\">0.914871</td><td style = \"text-align: right;\">0.061127</td><td style = \"text-align: right;\">0.133722</td><td style = \"text-align: right;\">0.847142</td><td style = \"text-align: right;\">0.517435</td><td style = \"text-align: right;\">0.890748</td><td style = \"text-align: right;\">0.11977</td><td style = \"text-align: right;\">0.641012</td><td style = \"text-align: right;\">0.659441</td><td style = \"text-align: right;\">0.771732</td><td style = \"text-align: right;\">0.889808</td><td style = \"text-align: right;\">0.238271</td><td style = \"text-align: right;\">0.95539</td><td style = \"text-align: right;\">0.588417</td><td style = \"text-align: right;\">0.229292</td><td style = \"text-align: right;\">0.00658415</td><td style = \"text-align: right;\">0.233204</td><td style = \"text-align: right;\">0.671491</td><td style = \"text-align: right;\">0.742827</td><td style = \"text-align: right;\">0.664606</td><td style = \"text-align: right;\">0.925751</td><td style = \"text-align: right;\">0.951292</td><td style = \"text-align: right;\">0.506598</td><td style = \"text-align: right;\">0.647371</td><td style = \"text-align: right;\">0.343173</td><td style = \"text-align: right;\">0.0114041</td><td style = \"text-align: right;\">0.126288</td><td style = \"text-align: right;\">0.63685</td><td style = \"text-align: right;\">0.0581683</td><td style = \"text-align: right;\">0.00747905</td><td style = \"text-align: right;\">0.352693</td><td style = \"text-align: right;\">0.193561</td><td style = \"text-align: right;\">0.30556</td><td style = \"text-align: right;\">0.503614</td><td style = \"text-align: right;\">0.317214</td><td style = \"text-align: right;\">0.468767</td><td style = \"text-align: right;\">0.0458141</td><td style = \"text-align: right;\">0.0590118</td><td style = \"text-align: right;\">0.666695</td><td style = \"text-align: right;\">0.715276</td><td style = \"text-align: right;\">0.685646</td><td style = \"text-align: right;\">0.359238</td><td style = \"text-align: right;\">0.3899</td><td style = \"text-align: right;\">0.499366</td><td style = \"text-align: right;\">0.743766</td><td style = \"text-align: right;\">0.167533</td><td style = \"text-align: right;\">0.227167</td><td style = \"text-align: right;\">0.673456</td><td style = \"text-align: right;\">0.277577</td><td style = \"text-align: right;\">0.979106</td><td style = \"text-align: right;\">0.0931903</td><td style = \"text-align: right;\">0.421827</td><td style = \"text-align: right;\">0.473362</td><td style = \"text-align: right;\">0.571315</td><td style = \"text-align: right;\">0.193466</td><td style = \"text-align: right;\">0.306578</td><td style = \"text-align: right;\">0.674722</td><td style = \"text-align: right;\">0.812103</td><td style = \"text-align: right;\">0.276608</td><td style = \"text-align: right;\">0.689646</td><td style = \"text-align: right;\">0.391862</td><td style = \"text-align: right;\">0.362054</td><td style = \"text-align: right;\">0.512888</td><td style = \"text-align: right;\">0.542069</td><td style = \"text-align: right;\">0.269321</td><td style = \"text-align: right;\">0.423614</td><td style = \"text-align: right;\">0.687894</td><td style = \"text-align: right;\">0.0519297</td><td style = \"text-align: right;\">0.282623</td><td style = \"text-align: right;\">0.0239265</td><td style = \"text-align: right;\">0.545336</td><td style = \"text-align: right;\">0.508351</td><td style = \"text-align: right;\">0.999315</td><td style = \"text-align: right;\">0.158732</td><td style = \"text-align: right;\">0.415609</td><td style = \"text-align: right;\">0.262979</td><td style = \"text-align: right;\">0.348512</td><td style = \"text-align: right;\">0.523121</td><td style = \"text-align: right;\">0.886079</td><td style = \"text-align: right;\">0.394508</td><td style = \"text-align: right;\">0.962513</td><td style = \"text-align: right;\">0.800178</td><td style = \"text-align: right;\">0.246148</td><td style = \"text-align: right;\">0.777052</td><td style = \"text-align: right;\">0.0854475</td><td style = \"text-align: right;\">0.697317</td><td style = \"text-align: right;\">0.629453</td><td style = \"text-align: right;\">0.182543</td><td style = \"text-align: right;\">0.673481</td><td style = \"text-align: right;\">0.968312</td><td style = \"text-align: right;\">0.372909</td><td style = \"text-align: right;\">0.602069</td><td style = \"text-align: right;\">0.417582</td><td style = \"text-align: right;\">0.969565</td><td style = \"text-align: right;\">0.239142</td><td style = \"text-align: right;\">0.663635</td><td style = \"text-align: right;\">&ctdot;</td></tr><tr><td class = \"rowNumber\" style = \"font-weight: bold; text-align: right;\">5</td><td style = \"text-align: right;\">0.956409</td><td style = \"text-align: right;\">0.0729636</td><td style = \"text-align: right;\">0.850878</td><td style = \"text-align: right;\">0.317952</td><td style = \"text-align: right;\">0.592737</td><td style = \"text-align: right;\">0.375583</td><td style = \"text-align: right;\">0.229953</td><td style = \"text-align: right;\">0.885399</td><td style = \"text-align: right;\">0.178439</td><td style = \"text-align: right;\">0.930051</td><td style = \"text-align: right;\">0.0992043</td><td style = \"text-align: right;\">0.889655</td><td style = \"text-align: right;\">0.0662827</td><td style = \"text-align: right;\">0.959165</td><td style = \"text-align: right;\">0.802732</td><td style = \"text-align: right;\">0.849424</td><td style = \"text-align: right;\">0.567737</td><td style = \"text-align: right;\">0.682189</td><td style = \"text-align: right;\">0.718332</td><td style = \"text-align: right;\">0.819871</td><td style = \"text-align: right;\">0.341327</td><td style = \"text-align: right;\">0.74845</td><td style = \"text-align: right;\">0.0090365</td><td style = \"text-align: right;\">0.54264</td><td style = \"text-align: right;\">0.321892</td><td style = \"text-align: right;\">0.691082</td><td style = \"text-align: right;\">0.67881</td><td style = \"text-align: right;\">0.790745</td><td style = \"text-align: right;\">0.0098538</td><td style = \"text-align: right;\">0.62148</td><td style = \"text-align: right;\">0.349777</td><td style = \"text-align: right;\">0.743032</td><td style = \"text-align: right;\">0.576825</td><td style = \"text-align: right;\">0.118428</td><td style = \"text-align: right;\">0.783837</td><td style = \"text-align: right;\">0.698679</td><td style = \"text-align: right;\">0.382553</td><td style = \"text-align: right;\">0.3821</td><td style = \"text-align: right;\">0.787934</td><td style = \"text-align: right;\">0.635292</td><td style = \"text-align: right;\">0.227774</td><td style = \"text-align: right;\">0.0341478</td><td style = \"text-align: right;\">0.0520667</td><td style = \"text-align: right;\">0.324096</td><td style = \"text-align: right;\">0.826975</td><td style = \"text-align: right;\">0.588554</td><td style = \"text-align: right;\">0.642965</td><td style = \"text-align: right;\">0.843702</td><td style = \"text-align: right;\">0.115234</td><td style = \"text-align: right;\">0.495966</td><td style = \"text-align: right;\">0.952054</td><td style = \"text-align: right;\">0.896779</td><td style = \"text-align: right;\">0.727345</td><td style = \"text-align: right;\">0.482337</td><td style = \"text-align: right;\">0.239735</td><td style = \"text-align: right;\">0.0561134</td><td style = \"text-align: right;\">0.732024</td><td style = \"text-align: right;\">0.704599</td><td style = \"text-align: right;\">0.21366</td><td style = \"text-align: right;\">0.306293</td><td style = \"text-align: right;\">0.973793</td><td style = \"text-align: right;\">0.118159</td><td style = \"text-align: right;\">0.407156</td><td style = \"text-align: right;\">0.31008</td><td style = \"text-align: right;\">0.869495</td><td style = \"text-align: right;\">0.089111</td><td style = \"text-align: right;\">0.945532</td><td style = \"text-align: right;\">0.7152</td><td style = \"text-align: right;\">0.702018</td><td style = \"text-align: right;\">0.169203</td><td style = \"text-align: right;\">0.731581</td><td style = \"text-align: right;\">0.668577</td><td style = \"text-align: right;\">0.674424</td><td style = \"text-align: right;\">0.687105</td><td style = \"text-align: right;\">0.616641</td><td style = \"text-align: right;\">0.179418</td><td style = \"text-align: right;\">0.129855</td><td style = \"text-align: right;\">0.69898</td><td style = \"text-align: right;\">0.648585</td><td style = \"text-align: right;\">0.739507</td><td style = \"text-align: right;\">0.713854</td><td style = \"text-align: right;\">0.636735</td><td style = \"text-align: right;\">0.204873</td><td style = \"text-align: right;\">0.276893</td><td style = \"text-align: right;\">0.331776</td><td style = \"text-align: right;\">0.395954</td><td style = \"text-align: right;\">0.520847</td><td style = \"text-align: right;\">0.900874</td><td style = \"text-align: right;\">0.554049</td><td style = \"text-align: right;\">0.234793</td><td style = \"text-align: right;\">0.429294</td><td style = \"text-align: right;\">0.252796</td><td style = \"text-align: right;\">0.253452</td><td style = \"text-align: right;\">0.668472</td><td style = \"text-align: right;\">0.911847</td><td style = \"text-align: right;\">0.58041</td><td style = \"text-align: right;\">0.82905</td><td style = \"text-align: right;\">0.694485</td><td style = \"text-align: right;\">0.140832</td><td style = \"text-align: right;\">0.30756</td><td style = \"text-align: right;\">&ctdot;</td></tr><tr><td class = \"rowNumber\" style = \"font-weight: bold; text-align: right;\">6</td><td style = \"text-align: right;\">0.162602</td><td style = \"text-align: right;\">0.149545</td><td style = \"text-align: right;\">0.20698</td><td style = \"text-align: right;\">0.595276</td><td style = \"text-align: right;\">0.926209</td><td style = \"text-align: right;\">0.344571</td><td style = \"text-align: right;\">0.84523</td><td style = \"text-align: right;\">0.316725</td><td style = \"text-align: right;\">0.159809</td><td style = \"text-align: right;\">0.802127</td><td style = \"text-align: right;\">0.496554</td><td style = \"text-align: right;\">0.712265</td><td style = \"text-align: right;\">0.492049</td><td style = \"text-align: right;\">0.143342</td><td style = \"text-align: right;\">0.30825</td><td style = \"text-align: right;\">0.173884</td><td style = \"text-align: right;\">0.475999</td><td style = \"text-align: right;\">0.355162</td><td style = \"text-align: right;\">0.107808</td><td style = \"text-align: right;\">0.679347</td><td style = \"text-align: right;\">0.665389</td><td style = \"text-align: right;\">0.407431</td><td style = \"text-align: right;\">0.549891</td><td style = \"text-align: right;\">0.623178</td><td style = \"text-align: right;\">0.733734</td><td style = \"text-align: right;\">0.327378</td><td style = \"text-align: right;\">0.087499</td><td style = \"text-align: right;\">0.93939</td><td style = \"text-align: right;\">0.180426</td><td style = \"text-align: right;\">0.795338</td><td style = \"text-align: right;\">0.0256519</td><td style = \"text-align: right;\">0.735074</td><td style = \"text-align: right;\">0.369993</td><td style = \"text-align: right;\">0.464462</td><td style = \"text-align: right;\">0.788662</td><td style = \"text-align: right;\">0.360372</td><td style = \"text-align: right;\">0.693558</td><td style = \"text-align: right;\">0.0347232</td><td style = \"text-align: right;\">0.810301</td><td style = \"text-align: right;\">0.406689</td><td style = \"text-align: right;\">0.658375</td><td style = \"text-align: right;\">0.441022</td><td style = \"text-align: right;\">0.329206</td><td style = \"text-align: right;\">0.182379</td><td style = \"text-align: right;\">0.969345</td><td style = \"text-align: right;\">0.238725</td><td style = \"text-align: right;\">0.667093</td><td style = \"text-align: right;\">0.675749</td><td style = \"text-align: right;\">0.762883</td><td style = \"text-align: right;\">0.618947</td><td style = \"text-align: right;\">0.363899</td><td style = \"text-align: right;\">0.811941</td><td style = \"text-align: right;\">0.79759</td><td style = \"text-align: right;\">0.208097</td><td style = \"text-align: right;\">0.77225</td><td style = \"text-align: right;\">0.52588</td><td style = \"text-align: right;\">0.632558</td><td style = \"text-align: right;\">0.0126557</td><td style = \"text-align: right;\">0.0213711</td><td style = \"text-align: right;\">0.0236013</td><td style = \"text-align: right;\">0.240087</td><td style = \"text-align: right;\">0.848871</td><td style = \"text-align: right;\">0.140204</td><td style = \"text-align: right;\">0.75845</td><td style = \"text-align: right;\">0.928603</td><td style = \"text-align: right;\">0.457758</td><td style = \"text-align: right;\">0.852855</td><td style = \"text-align: right;\">0.766668</td><td style = \"text-align: right;\">0.653493</td><td style = \"text-align: right;\">0.726699</td><td style = \"text-align: right;\">0.546325</td><td style = \"text-align: right;\">0.390362</td><td style = \"text-align: right;\">0.0192539</td><td style = \"text-align: right;\">0.152176</td><td style = \"text-align: right;\">0.637405</td><td style = \"text-align: right;\">0.893535</td><td style = \"text-align: right;\">0.595546</td><td style = \"text-align: right;\">0.14938</td><td style = \"text-align: right;\">0.517085</td><td style = \"text-align: right;\">0.676543</td><td style = \"text-align: right;\">0.840717</td><td style = \"text-align: right;\">0.731392</td><td style = \"text-align: right;\">0.741595</td><td style = \"text-align: right;\">0.00439162</td><td style = \"text-align: right;\">0.932244</td><td style = \"text-align: right;\">0.779329</td><td style = \"text-align: right;\">0.367967</td><td style = \"text-align: right;\">0.579362</td><td style = \"text-align: right;\">0.932595</td><td style = \"text-align: right;\">0.344354</td><td style = \"text-align: right;\">0.126836</td><td style = \"text-align: right;\">0.159268</td><td style = \"text-align: right;\">0.247205</td><td style = \"text-align: right;\">0.390413</td><td style = \"text-align: right;\">0.232004</td><td style = \"text-align: right;\">0.40693</td><td style = \"text-align: right;\">0.110614</td><td style = \"text-align: right;\">0.83736</td><td style = \"text-align: right;\">0.00457734</td><td style = \"text-align: right;\">0.241762</td><td style = \"text-align: right;\">&ctdot;</td></tr><tr><td class = \"rowNumber\" style = \"font-weight: bold; text-align: right;\">7</td><td style = \"text-align: right;\">0.476381</td><td style = \"text-align: right;\">0.0132228</td><td style = \"text-align: right;\">0.49337</td><td style = \"text-align: right;\">0.382882</td><td style = \"text-align: right;\">0.909689</td><td style = \"text-align: right;\">0.241455</td><td style = \"text-align: right;\">0.466491</td><td style = \"text-align: right;\">0.901169</td><td style = \"text-align: right;\">0.463962</td><td style = \"text-align: right;\">0.766369</td><td style = \"text-align: right;\">0.403484</td><td style = \"text-align: right;\">0.996203</td><td style = \"text-align: right;\">0.130603</td><td style = \"text-align: right;\">0.0129894</td><td style = \"text-align: right;\">0.124639</td><td style = \"text-align: right;\">0.498543</td><td style = \"text-align: right;\">0.7068</td><td style = \"text-align: right;\">0.125499</td><td style = \"text-align: right;\">0.90031</td><td style = \"text-align: right;\">0.0548979</td><td style = \"text-align: right;\">0.316248</td><td style = \"text-align: right;\">0.0828646</td><td style = \"text-align: right;\">0.641133</td><td style = \"text-align: right;\">0.284474</td><td style = \"text-align: right;\">0.668173</td><td style = \"text-align: right;\">0.936183</td><td style = \"text-align: right;\">0.288985</td><td style = \"text-align: right;\">0.559143</td><td style = \"text-align: right;\">0.572987</td><td style = \"text-align: right;\">0.0018961</td><td style = \"text-align: right;\">0.113331</td><td style = \"text-align: right;\">0.857624</td><td style = \"text-align: right;\">0.00520792</td><td style = \"text-align: right;\">0.727632</td><td style = \"text-align: right;\">0.102111</td><td style = \"text-align: right;\">0.176815</td><td style = \"text-align: right;\">0.719411</td><td style = \"text-align: right;\">0.278948</td><td style = \"text-align: right;\">0.405354</td><td style = \"text-align: right;\">0.0373475</td><td style = \"text-align: right;\">0.0801556</td><td style = \"text-align: right;\">0.84952</td><td style = \"text-align: right;\">0.779591</td><td style = \"text-align: right;\">0.0474821</td><td style = \"text-align: right;\">0.316288</td><td style = \"text-align: right;\">0.175137</td><td style = \"text-align: right;\">0.724549</td><td style = \"text-align: right;\">0.224737</td><td style = \"text-align: right;\">0.232641</td><td style = \"text-align: right;\">0.0285701</td><td style = \"text-align: right;\">0.165212</td><td style = \"text-align: right;\">0.990159</td><td style = \"text-align: right;\">0.166568</td><td style = \"text-align: right;\">0.992739</td><td style = \"text-align: right;\">0.692109</td><td style = \"text-align: right;\">0.136241</td><td style = \"text-align: right;\">0.089607</td><td style = \"text-align: right;\">0.395629</td><td style = \"text-align: right;\">0.773716</td><td style = \"text-align: right;\">0.958569</td><td style = \"text-align: right;\">0.18829</td><td style = \"text-align: right;\">0.398854</td><td style = \"text-align: right;\">0.926136</td><td style = \"text-align: right;\">0.285945</td><td style = \"text-align: right;\">0.0442001</td><td style = \"text-align: right;\">0.210683</td><td style = \"text-align: right;\">0.687541</td><td style = \"text-align: right;\">0.643548</td><td style = \"text-align: right;\">0.210716</td><td style = \"text-align: right;\">0.84395</td><td style = \"text-align: right;\">0.829322</td><td style = \"text-align: right;\">0.236949</td><td style = \"text-align: right;\">0.551103</td><td style = \"text-align: right;\">0.235306</td><td style = \"text-align: right;\">0.383139</td><td style = \"text-align: right;\">0.0282745</td><td style = \"text-align: right;\">0.430933</td><td style = \"text-align: right;\">0.300219</td><td style = \"text-align: right;\">0.0701695</td><td style = \"text-align: right;\">0.537623</td><td style = \"text-align: right;\">0.212667</td><td style = \"text-align: right;\">0.662991</td><td style = \"text-align: right;\">0.984705</td><td style = \"text-align: right;\">0.0596905</td><td style = \"text-align: right;\">0.723246</td><td style = \"text-align: right;\">0.254109</td><td style = \"text-align: right;\">0.625386</td><td style = \"text-align: right;\">0.163064</td><td style = \"text-align: right;\">0.92478</td><td style = \"text-align: right;\">0.638561</td><td style = \"text-align: right;\">0.0665086</td><td style = \"text-align: right;\">0.417648</td><td style = \"text-align: right;\">0.29038</td><td style = \"text-align: right;\">0.863456</td><td style = \"text-align: right;\">0.750584</td><td style = \"text-align: right;\">0.604804</td><td style = \"text-align: right;\">0.720235</td><td style = \"text-align: right;\">0.651673</td><td style = \"text-align: right;\">0.613418</td><td style = \"text-align: right;\">0.336034</td><td style = \"text-align: right;\">&ctdot;</td></tr><tr><td class = \"rowNumber\" style = \"font-weight: bold; text-align: right;\">8</td><td style = \"text-align: right;\">0.305507</td><td style = \"text-align: right;\">0.536407</td><td style = \"text-align: right;\">0.872725</td><td style = \"text-align: right;\">0.43217</td><td style = \"text-align: right;\">0.843696</td><td style = \"text-align: right;\">0.974637</td><td style = \"text-align: right;\">0.799843</td><td style = \"text-align: right;\">0.536623</td><td style = \"text-align: right;\">0.576802</td><td style = \"text-align: right;\">0.801989</td><td style = \"text-align: right;\">0.418173</td><td style = \"text-align: right;\">0.78115</td><td style = \"text-align: right;\">0.962713</td><td style = \"text-align: right;\">0.311362</td><td style = \"text-align: right;\">0.846891</td><td style = \"text-align: right;\">0.436234</td><td style = \"text-align: right;\">0.171669</td><td style = \"text-align: right;\">0.493711</td><td style = \"text-align: right;\">0.843643</td><td style = \"text-align: right;\">0.820259</td><td style = \"text-align: right;\">0.106641</td><td style = \"text-align: right;\">0.851426</td><td style = \"text-align: right;\">0.798483</td><td style = \"text-align: right;\">0.599275</td><td style = \"text-align: right;\">0.096117</td><td style = \"text-align: right;\">0.905959</td><td style = \"text-align: right;\">0.162215</td><td style = \"text-align: right;\">0.163809</td><td style = \"text-align: right;\">0.497462</td><td style = \"text-align: right;\">0.275542</td><td style = \"text-align: right;\">0.231472</td><td style = \"text-align: right;\">0.128334</td><td style = \"text-align: right;\">0.400145</td><td style = \"text-align: right;\">0.302607</td><td style = \"text-align: right;\">0.163372</td><td style = \"text-align: right;\">0.948039</td><td style = \"text-align: right;\">0.722779</td><td style = \"text-align: right;\">0.474353</td><td style = \"text-align: right;\">0.106427</td><td style = \"text-align: right;\">0.227179</td><td style = \"text-align: right;\">0.593761</td><td style = \"text-align: right;\">0.578434</td><td style = \"text-align: right;\">0.347398</td><td style = \"text-align: right;\">0.210943</td><td style = \"text-align: right;\">0.598737</td><td style = \"text-align: right;\">0.356419</td><td style = \"text-align: right;\">0.456505</td><td style = \"text-align: right;\">0.925221</td><td style = \"text-align: right;\">0.1456</td><td style = \"text-align: right;\">0.0641054</td><td style = \"text-align: right;\">0.232739</td><td style = \"text-align: right;\">0.487929</td><td style = \"text-align: right;\">0.666852</td><td style = \"text-align: right;\">0.516217</td><td style = \"text-align: right;\">0.79813</td><td style = \"text-align: right;\">0.698255</td><td style = \"text-align: right;\">0.959902</td><td style = \"text-align: right;\">0.942951</td><td style = \"text-align: right;\">0.602194</td><td style = \"text-align: right;\">0.0457124</td><td style = \"text-align: right;\">0.27092</td><td style = \"text-align: right;\">0.0145244</td><td style = \"text-align: right;\">0.791166</td><td style = \"text-align: right;\">0.467118</td><td style = \"text-align: right;\">0.772849</td><td style = \"text-align: right;\">0.904069</td><td style = \"text-align: right;\">0.460989</td><td style = \"text-align: right;\">0.880785</td><td style = \"text-align: right;\">0.490683</td><td style = \"text-align: right;\">0.863578</td><td style = \"text-align: right;\">0.142442</td><td style = \"text-align: right;\">0.403289</td><td style = \"text-align: right;\">0.150664</td><td style = \"text-align: right;\">0.482949</td><td style = \"text-align: right;\">0.376715</td><td style = \"text-align: right;\">0.161625</td><td style = \"text-align: right;\">0.121274</td><td style = \"text-align: right;\">0.452288</td><td style = \"text-align: right;\">0.563206</td><td style = \"text-align: right;\">0.0609833</td><td style = \"text-align: right;\">0.777788</td><td style = \"text-align: right;\">0.500839</td><td style = \"text-align: right;\">0.669048</td><td style = \"text-align: right;\">0.526064</td><td style = \"text-align: right;\">0.44104</td><td style = \"text-align: right;\">0.839162</td><td style = \"text-align: right;\">0.851161</td><td style = \"text-align: right;\">0.448078</td><td style = \"text-align: right;\">0.344523</td><td style = \"text-align: right;\">0.414973</td><td style = \"text-align: right;\">0.329917</td><td style = \"text-align: right;\">0.692993</td><td style = \"text-align: right;\">0.0351739</td><td style = \"text-align: right;\">0.953325</td><td style = \"text-align: right;\">0.084413</td><td style = \"text-align: right;\">0.881451</td><td style = \"text-align: right;\">0.901768</td><td style = \"text-align: right;\">0.668843</td><td style = \"text-align: right;\">0.43028</td><td style = \"text-align: right;\">0.506889</td><td style = \"text-align: right;\">&ctdot;</td></tr><tr><td class = \"rowNumber\" style = \"font-weight: bold; text-align: right;\">9</td><td style = \"text-align: right;\">0.190889</td><td style = \"text-align: right;\">0.102401</td><td style = \"text-align: right;\">0.101946</td><td style = \"text-align: right;\">0.58897</td><td style = \"text-align: right;\">0.933126</td><td style = \"text-align: right;\">0.114858</td><td style = \"text-align: right;\">0.67729</td><td style = \"text-align: right;\">0.645872</td><td style = \"text-align: right;\">0.891227</td><td style = \"text-align: right;\">0.335223</td><td style = \"text-align: right;\">0.258219</td><td style = \"text-align: right;\">0.215232</td><td style = \"text-align: right;\">0.199042</td><td style = \"text-align: right;\">0.705429</td><td style = \"text-align: right;\">0.747694</td><td style = \"text-align: right;\">0.634362</td><td style = \"text-align: right;\">0.658595</td><td style = \"text-align: right;\">0.296416</td><td style = \"text-align: right;\">0.415316</td><td style = \"text-align: right;\">0.214594</td><td style = \"text-align: right;\">0.947766</td><td style = \"text-align: right;\">0.476142</td><td style = \"text-align: right;\">0.359359</td><td style = \"text-align: right;\">0.116094</td><td style = \"text-align: right;\">0.117028</td><td style = \"text-align: right;\">0.585005</td><td style = \"text-align: right;\">0.293818</td><td style = \"text-align: right;\">0.615066</td><td style = \"text-align: right;\">0.557431</td><td style = \"text-align: right;\">0.928905</td><td style = \"text-align: right;\">0.318371</td><td style = \"text-align: right;\">0.297762</td><td style = \"text-align: right;\">0.514089</td><td style = \"text-align: right;\">0.716094</td><td style = \"text-align: right;\">0.4715</td><td style = \"text-align: right;\">0.403104</td><td style = \"text-align: right;\">0.626469</td><td style = \"text-align: right;\">0.70198</td><td style = \"text-align: right;\">0.598906</td><td style = \"text-align: right;\">0.256605</td><td style = \"text-align: right;\">0.460265</td><td style = \"text-align: right;\">0.725845</td><td style = \"text-align: right;\">0.0132773</td><td style = \"text-align: right;\">0.50883</td><td style = \"text-align: right;\">0.375045</td><td style = \"text-align: right;\">0.641097</td><td style = \"text-align: right;\">0.51129</td><td style = \"text-align: right;\">0.090485</td><td style = \"text-align: right;\">0.79454</td><td style = \"text-align: right;\">0.39806</td><td style = \"text-align: right;\">0.673339</td><td style = \"text-align: right;\">0.0220129</td><td style = \"text-align: right;\">0.0311509</td><td style = \"text-align: right;\">0.0309125</td><td style = \"text-align: right;\">0.21031</td><td style = \"text-align: right;\">0.588405</td><td style = \"text-align: right;\">0.642923</td><td style = \"text-align: right;\">0.701428</td><td style = \"text-align: right;\">0.936556</td><td style = \"text-align: right;\">0.552858</td><td style = \"text-align: right;\">0.109026</td><td style = \"text-align: right;\">0.654426</td><td style = \"text-align: right;\">0.413643</td><td style = \"text-align: right;\">0.863918</td><td style = \"text-align: right;\">0.815449</td><td style = \"text-align: right;\">0.0503225</td><td style = \"text-align: right;\">0.0226372</td><td style = \"text-align: right;\">0.675656</td><td style = \"text-align: right;\">0.46124</td><td style = \"text-align: right;\">0.899411</td><td style = \"text-align: right;\">0.587549</td><td style = \"text-align: right;\">0.339486</td><td style = \"text-align: right;\">0.742606</td><td style = \"text-align: right;\">0.687925</td><td style = \"text-align: right;\">0.0172232</td><td style = \"text-align: right;\">0.28554</td><td style = \"text-align: right;\">0.59275</td><td style = \"text-align: right;\">0.298437</td><td style = \"text-align: right;\">0.744481</td><td style = \"text-align: right;\">0.534401</td><td style = \"text-align: right;\">0.152966</td><td style = \"text-align: right;\">0.868109</td><td style = \"text-align: right;\">0.57518</td><td style = \"text-align: right;\">0.0953122</td><td style = \"text-align: right;\">0.267182</td><td style = \"text-align: right;\">0.339958</td><td style = \"text-align: right;\">0.567364</td><td style = \"text-align: right;\">0.0854669</td><td style = \"text-align: right;\">0.284418</td><td style = \"text-align: right;\">0.577256</td><td style = \"text-align: right;\">0.303727</td><td style = \"text-align: right;\">0.402291</td><td style = \"text-align: right;\">0.290448</td><td style = \"text-align: right;\">0.171412</td><td style = \"text-align: right;\">0.788451</td><td style = \"text-align: right;\">0.731791</td><td style = \"text-align: right;\">0.96397</td><td style = \"text-align: right;\">0.0594582</td><td style = \"text-align: right;\">0.0577728</td><td style = \"text-align: right;\">0.781726</td><td style = \"text-align: right;\">&ctdot;</td></tr><tr><td class = \"rowNumber\" style = \"font-weight: bold; text-align: right;\">10</td><td style = \"text-align: right;\">0.802449</td><td style = \"text-align: right;\">0.257491</td><td style = \"text-align: right;\">0.619316</td><td style = \"text-align: right;\">0.326802</td><td style = \"text-align: right;\">0.928951</td><td style = \"text-align: right;\">0.368998</td><td style = \"text-align: right;\">0.843537</td><td style = \"text-align: right;\">0.358956</td><td style = \"text-align: right;\">0.0430375</td><td style = \"text-align: right;\">0.0184211</td><td style = \"text-align: right;\">0.0941502</td><td style = \"text-align: right;\">0.0350091</td><td style = \"text-align: right;\">0.501576</td><td style = \"text-align: right;\">0.446794</td><td style = \"text-align: right;\">0.831843</td><td style = \"text-align: right;\">0.536997</td><td style = \"text-align: right;\">0.7033</td><td style = \"text-align: right;\">0.327739</td><td style = \"text-align: right;\">0.633826</td><td style = \"text-align: right;\">0.87525</td><td style = \"text-align: right;\">0.131075</td><td style = \"text-align: right;\">0.422945</td><td style = \"text-align: right;\">0.119459</td><td style = \"text-align: right;\">0.524839</td><td style = \"text-align: right;\">0.84427</td><td style = \"text-align: right;\">0.300615</td><td style = \"text-align: right;\">0.432176</td><td style = \"text-align: right;\">0.424546</td><td style = \"text-align: right;\">0.176705</td><td style = \"text-align: right;\">0.940735</td><td style = \"text-align: right;\">0.98488</td><td style = \"text-align: right;\">0.757704</td><td style = \"text-align: right;\">0.854385</td><td style = \"text-align: right;\">0.373705</td><td style = \"text-align: right;\">0.580568</td><td style = \"text-align: right;\">0.262857</td><td style = \"text-align: right;\">0.741442</td><td style = \"text-align: right;\">0.347954</td><td style = \"text-align: right;\">0.901265</td><td style = \"text-align: right;\">0.392799</td><td style = \"text-align: right;\">0.783603</td><td style = \"text-align: right;\">0.198377</td><td style = \"text-align: right;\">0.620882</td><td style = \"text-align: right;\">0.58496</td><td style = \"text-align: right;\">0.848248</td><td style = \"text-align: right;\">0.980322</td><td style = \"text-align: right;\">0.965297</td><td style = \"text-align: right;\">0.516122</td><td style = \"text-align: right;\">0.520476</td><td style = \"text-align: right;\">0.809403</td><td style = \"text-align: right;\">0.921737</td><td style = \"text-align: right;\">0.0299468</td><td style = \"text-align: right;\">0.575673</td><td style = \"text-align: right;\">0.650871</td><td style = \"text-align: right;\">0.294785</td><td style = \"text-align: right;\">0.423053</td><td style = \"text-align: right;\">0.415619</td><td style = \"text-align: right;\">0.721143</td><td style = \"text-align: right;\">0.359624</td><td style = \"text-align: right;\">0.119476</td><td style = \"text-align: right;\">0.881153</td><td style = \"text-align: right;\">0.796312</td><td style = \"text-align: right;\">0.171688</td><td style = \"text-align: right;\">0.471574</td><td style = \"text-align: right;\">0.0174499</td><td style = \"text-align: right;\">0.277826</td><td style = \"text-align: right;\">0.546124</td><td style = \"text-align: right;\">0.0603601</td><td style = \"text-align: right;\">0.303438</td><td style = \"text-align: right;\">0.293704</td><td style = \"text-align: right;\">0.55622</td><td style = \"text-align: right;\">0.986145</td><td style = \"text-align: right;\">0.0840866</td><td style = \"text-align: right;\">0.663165</td><td style = \"text-align: right;\">0.843851</td><td style = \"text-align: right;\">0.79302</td><td style = \"text-align: right;\">0.551715</td><td style = \"text-align: right;\">0.7539</td><td style = \"text-align: right;\">0.419229</td><td style = \"text-align: right;\">0.935753</td><td style = \"text-align: right;\">0.360708</td><td style = \"text-align: right;\">0.999824</td><td style = \"text-align: right;\">0.294451</td><td style = \"text-align: right;\">0.912535</td><td style = \"text-align: right;\">0.9456</td><td style = \"text-align: right;\">0.13695</td><td style = \"text-align: right;\">0.901399</td><td style = \"text-align: right;\">0.220351</td><td style = \"text-align: right;\">0.14205</td><td style = \"text-align: right;\">0.47784</td><td style = \"text-align: right;\">0.342717</td><td style = \"text-align: right;\">0.0231208</td><td style = \"text-align: right;\">0.726687</td><td style = \"text-align: right;\">0.00375405</td><td style = \"text-align: right;\">0.668908</td><td style = \"text-align: right;\">0.59873</td><td style = \"text-align: right;\">0.0164624</td><td style = \"text-align: right;\">0.976959</td><td style = \"text-align: right;\">0.183921</td><td style = \"text-align: right;\">0.365061</td><td style = \"text-align: right;\">&ctdot;</td></tr><tr><td class = \"rowNumber\" style = \"font-weight: bold; text-align: right;\">11</td><td style = \"text-align: right;\">0.0837389</td><td style = \"text-align: right;\">0.0846016</td><td style = \"text-align: right;\">0.470438</td><td style = \"text-align: right;\">0.635833</td><td style = \"text-align: right;\">0.394244</td><td style = \"text-align: right;\">0.175681</td><td style = \"text-align: right;\">0.309098</td><td style = \"text-align: right;\">0.46829</td><td style = \"text-align: right;\">0.590375</td><td style = \"text-align: right;\">0.250059</td><td style = \"text-align: right;\">0.029964</td><td style = \"text-align: right;\">0.65977</td><td style = \"text-align: right;\">0.518621</td><td style = \"text-align: right;\">0.733914</td><td style = \"text-align: right;\">0.658752</td><td style = \"text-align: right;\">0.565789</td><td style = \"text-align: right;\">0.887092</td><td style = \"text-align: right;\">0.184854</td><td style = \"text-align: right;\">0.0626851</td><td style = \"text-align: right;\">0.169712</td><td style = \"text-align: right;\">0.550884</td><td style = \"text-align: right;\">0.155767</td><td style = \"text-align: right;\">0.940113</td><td style = \"text-align: right;\">0.0722428</td><td style = \"text-align: right;\">0.857782</td><td style = \"text-align: right;\">0.108178</td><td style = \"text-align: right;\">0.313812</td><td style = \"text-align: right;\">0.596738</td><td style = \"text-align: right;\">0.866461</td><td style = \"text-align: right;\">0.432884</td><td style = \"text-align: right;\">0.0473782</td><td style = \"text-align: right;\">0.447238</td><td style = \"text-align: right;\">0.252987</td><td style = \"text-align: right;\">0.308123</td><td style = \"text-align: right;\">0.650694</td><td style = \"text-align: right;\">0.0715435</td><td style = \"text-align: right;\">0.928399</td><td style = \"text-align: right;\">0.169495</td><td style = \"text-align: right;\">0.368143</td><td style = \"text-align: right;\">0.157642</td><td style = \"text-align: right;\">0.765284</td><td style = \"text-align: right;\">0.141574</td><td style = \"text-align: right;\">0.847326</td><td style = \"text-align: right;\">0.373582</td><td style = \"text-align: right;\">0.133797</td><td style = \"text-align: right;\">0.270539</td><td style = \"text-align: right;\">0.983846</td><td style = \"text-align: right;\">0.178998</td><td style = \"text-align: right;\">0.321792</td><td style = \"text-align: right;\">0.756338</td><td style = \"text-align: right;\">0.00899396</td><td style = \"text-align: right;\">0.369671</td><td style = \"text-align: right;\">0.750178</td><td style = \"text-align: right;\">0.0499621</td><td style = \"text-align: right;\">0.771183</td><td style = \"text-align: right;\">0.995467</td><td style = \"text-align: right;\">0.835248</td><td style = \"text-align: right;\">0.535653</td><td style = \"text-align: right;\">0.716445</td><td style = \"text-align: right;\">0.519073</td><td style = \"text-align: right;\">0.477713</td><td style = \"text-align: right;\">0.523781</td><td style = \"text-align: right;\">0.513788</td><td style = \"text-align: right;\">0.502594</td><td style = \"text-align: right;\">0.161757</td><td style = \"text-align: right;\">0.912598</td><td style = \"text-align: right;\">0.661121</td><td style = \"text-align: right;\">0.588761</td><td style = \"text-align: right;\">0.386247</td><td style = \"text-align: right;\">0.646942</td><td style = \"text-align: right;\">0.152135</td><td style = \"text-align: right;\">0.910762</td><td style = \"text-align: right;\">0.948689</td><td style = \"text-align: right;\">0.615501</td><td style = \"text-align: right;\">0.619151</td><td style = \"text-align: right;\">0.445917</td><td style = \"text-align: right;\">0.0213914</td><td style = \"text-align: right;\">0.266742</td><td style = \"text-align: right;\">0.897637</td><td style = \"text-align: right;\">0.511732</td><td style = \"text-align: right;\">0.294967</td><td style = \"text-align: right;\">0.0157314</td><td style = \"text-align: right;\">0.650762</td><td style = \"text-align: right;\">0.540206</td><td style = \"text-align: right;\">0.832545</td><td style = \"text-align: right;\">0.0720535</td><td style = \"text-align: right;\">0.462468</td><td style = \"text-align: right;\">0.486679</td><td style = \"text-align: right;\">0.873725</td><td style = \"text-align: right;\">0.926536</td><td style = \"text-align: right;\">0.702044</td><td style = \"text-align: right;\">0.637054</td><td style = \"text-align: right;\">0.820152</td><td style = \"text-align: right;\">0.638577</td><td style = \"text-align: right;\">0.128461</td><td style = \"text-align: right;\">0.720935</td><td style = \"text-align: right;\">0.643337</td><td style = \"text-align: right;\">0.092246</td><td style = \"text-align: right;\">0.325781</td><td style = \"text-align: right;\">0.0988295</td><td style = \"text-align: right;\">&ctdot;</td></tr><tr><td class = \"rowNumber\" style = \"font-weight: bold; text-align: right;\">12</td><td style = \"text-align: right;\">0.688693</td><td style = \"text-align: right;\">0.510017</td><td style = \"text-align: right;\">0.729488</td><td style = \"text-align: right;\">0.6191</td><td style = \"text-align: right;\">0.852186</td><td style = \"text-align: right;\">0.221633</td><td style = \"text-align: right;\">0.655863</td><td style = \"text-align: right;\">0.870272</td><td style = \"text-align: right;\">0.600747</td><td style = \"text-align: right;\">0.862682</td><td style = \"text-align: right;\">0.505631</td><td style = \"text-align: right;\">0.242103</td><td style = \"text-align: right;\">0.177993</td><td style = \"text-align: right;\">0.589246</td><td style = \"text-align: right;\">0.927979</td><td style = \"text-align: right;\">0.484632</td><td style = \"text-align: right;\">0.197344</td><td style = \"text-align: right;\">0.755655</td><td style = \"text-align: right;\">0.762202</td><td style = \"text-align: right;\">0.298093</td><td style = \"text-align: right;\">0.104915</td><td style = \"text-align: right;\">0.15834</td><td style = \"text-align: right;\">0.360559</td><td style = \"text-align: right;\">0.801476</td><td style = \"text-align: right;\">0.64745</td><td style = \"text-align: right;\">0.469426</td><td style = \"text-align: right;\">0.132936</td><td style = \"text-align: right;\">0.209522</td><td style = \"text-align: right;\">0.0860813</td><td style = \"text-align: right;\">0.122397</td><td style = \"text-align: right;\">0.475076</td><td style = \"text-align: right;\">0.479595</td><td style = \"text-align: right;\">0.166533</td><td style = \"text-align: right;\">0.804818</td><td style = \"text-align: right;\">0.333891</td><td style = \"text-align: right;\">0.910515</td><td style = \"text-align: right;\">0.24051</td><td style = \"text-align: right;\">0.87314</td><td style = \"text-align: right;\">0.0142308</td><td style = \"text-align: right;\">0.123647</td><td style = \"text-align: right;\">0.0627922</td><td style = \"text-align: right;\">0.312567</td><td style = \"text-align: right;\">0.289375</td><td style = \"text-align: right;\">0.711991</td><td style = \"text-align: right;\">0.478495</td><td style = \"text-align: right;\">0.178278</td><td style = \"text-align: right;\">0.0283088</td><td style = \"text-align: right;\">0.183811</td><td style = \"text-align: right;\">0.611222</td><td style = \"text-align: right;\">0.748957</td><td style = \"text-align: right;\">0.0889211</td><td style = \"text-align: right;\">0.507599</td><td style = \"text-align: right;\">0.9033</td><td style = \"text-align: right;\">0.0585211</td><td style = \"text-align: right;\">0.847041</td><td style = \"text-align: right;\">0.373106</td><td style = \"text-align: right;\">0.5819</td><td style = \"text-align: right;\">0.496173</td><td style = \"text-align: right;\">0.735559</td><td style = \"text-align: right;\">0.57662</td><td style = \"text-align: right;\">0.495094</td><td style = \"text-align: right;\">0.700101</td><td style = \"text-align: right;\">0.411707</td><td style = \"text-align: right;\">0.0203594</td><td style = \"text-align: right;\">0.0990355</td><td style = \"text-align: right;\">0.061291</td><td style = \"text-align: right;\">0.274162</td><td style = \"text-align: right;\">0.961322</td><td style = \"text-align: right;\">0.0355503</td><td style = \"text-align: right;\">0.964792</td><td style = \"text-align: right;\">0.209991</td><td style = \"text-align: right;\">0.397436</td><td style = \"text-align: right;\">0.986421</td><td style = \"text-align: right;\">0.79964</td><td style = \"text-align: right;\">0.875681</td><td style = \"text-align: right;\">0.896094</td><td style = \"text-align: right;\">0.549855</td><td style = \"text-align: right;\">0.552532</td><td style = \"text-align: right;\">0.156771</td><td style = \"text-align: right;\">0.863023</td><td style = \"text-align: right;\">0.376246</td><td style = \"text-align: right;\">0.847618</td><td style = \"text-align: right;\">0.218602</td><td style = \"text-align: right;\">0.646801</td><td style = \"text-align: right;\">0.874185</td><td style = \"text-align: right;\">0.822453</td><td style = \"text-align: right;\">0.456077</td><td style = \"text-align: right;\">0.31449</td><td style = \"text-align: right;\">0.940132</td><td style = \"text-align: right;\">0.145105</td><td style = \"text-align: right;\">0.482506</td><td style = \"text-align: right;\">0.121343</td><td style = \"text-align: right;\">0.0420103</td><td style = \"text-align: right;\">0.799337</td><td style = \"text-align: right;\">0.737192</td><td style = \"text-align: right;\">0.917061</td><td style = \"text-align: right;\">0.879268</td><td style = \"text-align: right;\">0.170045</td><td style = \"text-align: right;\">0.0610176</td><td style = \"text-align: right;\">0.901509</td><td style = \"text-align: right;\">&ctdot;</td></tr><tr><td class = \"rowNumber\" style = \"font-weight: bold; text-align: right;\">13</td><td style = \"text-align: right;\">0.0278833</td><td style = \"text-align: right;\">0.152787</td><td style = \"text-align: right;\">0.179774</td><td style = \"text-align: right;\">0.0560243</td><td style = \"text-align: right;\">0.0187141</td><td style = \"text-align: right;\">0.922449</td><td style = \"text-align: right;\">0.829991</td><td style = \"text-align: right;\">0.620214</td><td style = \"text-align: right;\">0.184798</td><td style = \"text-align: right;\">0.739483</td><td style = \"text-align: right;\">0.696176</td><td style = \"text-align: right;\">0.772766</td><td style = \"text-align: right;\">0.894881</td><td style = \"text-align: right;\">0.619146</td><td style = \"text-align: right;\">0.727809</td><td style = \"text-align: right;\">0.828485</td><td style = \"text-align: right;\">0.407026</td><td style = \"text-align: right;\">0.393006</td><td style = \"text-align: right;\">0.738443</td><td style = \"text-align: right;\">0.985292</td><td style = \"text-align: right;\">0.948243</td><td style = \"text-align: right;\">0.199527</td><td style = \"text-align: right;\">0.498936</td><td style = \"text-align: right;\">0.837322</td><td style = \"text-align: right;\">0.99062</td><td style = \"text-align: right;\">0.246689</td><td style = \"text-align: right;\">0.782194</td><td style = \"text-align: right;\">0.36001</td><td style = \"text-align: right;\">0.179508</td><td style = \"text-align: right;\">0.133314</td><td style = \"text-align: right;\">0.644904</td><td style = \"text-align: right;\">0.675398</td><td style = \"text-align: right;\">0.944769</td><td style = \"text-align: right;\">0.803591</td><td style = \"text-align: right;\">0.135662</td><td style = \"text-align: right;\">0.423169</td><td style = \"text-align: right;\">0.410252</td><td style = \"text-align: right;\">0.00483028</td><td style = \"text-align: right;\">0.149644</td><td style = \"text-align: right;\">0.507492</td><td style = \"text-align: right;\">0.724828</td><td style = \"text-align: right;\">0.655778</td><td style = \"text-align: right;\">0.472429</td><td style = \"text-align: right;\">0.804811</td><td style = \"text-align: right;\">0.377215</td><td style = \"text-align: right;\">0.97201</td><td style = \"text-align: right;\">0.639343</td><td style = \"text-align: right;\">0.981249</td><td style = \"text-align: right;\">0.111156</td><td style = \"text-align: right;\">0.287774</td><td style = \"text-align: right;\">0.104617</td><td style = \"text-align: right;\">0.600217</td><td style = \"text-align: right;\">0.00375114</td><td style = \"text-align: right;\">0.0206967</td><td style = \"text-align: right;\">0.48901</td><td style = \"text-align: right;\">0.71607</td><td style = \"text-align: right;\">0.863924</td><td style = \"text-align: right;\">0.606276</td><td style = \"text-align: right;\">0.836758</td><td style = \"text-align: right;\">0.96966</td><td style = \"text-align: right;\">0.305982</td><td style = \"text-align: right;\">0.601004</td><td style = \"text-align: right;\">0.454076</td><td style = \"text-align: right;\">0.271513</td><td style = \"text-align: right;\">0.297612</td><td style = \"text-align: right;\">0.78482</td><td style = \"text-align: right;\">0.546205</td><td style = \"text-align: right;\">0.374686</td><td style = \"text-align: right;\">0.188784</td><td style = \"text-align: right;\">0.312504</td><td style = \"text-align: right;\">0.991954</td><td style = \"text-align: right;\">0.52756</td><td style = \"text-align: right;\">0.97568</td><td style = \"text-align: right;\">0.299915</td><td style = \"text-align: right;\">0.0316026</td><td style = \"text-align: right;\">0.227678</td><td style = \"text-align: right;\">0.154717</td><td style = \"text-align: right;\">0.956902</td><td style = \"text-align: right;\">0.127687</td><td style = \"text-align: right;\">0.440488</td><td style = \"text-align: right;\">0.994267</td><td style = \"text-align: right;\">0.811887</td><td style = \"text-align: right;\">0.279488</td><td style = \"text-align: right;\">0.672681</td><td style = \"text-align: right;\">0.674238</td><td style = \"text-align: right;\">0.439459</td><td style = \"text-align: right;\">0.965485</td><td style = \"text-align: right;\">0.164061</td><td style = \"text-align: right;\">0.074014</td><td style = \"text-align: right;\">0.0150083</td><td style = \"text-align: right;\">0.501123</td><td style = \"text-align: right;\">0.529205</td><td style = \"text-align: right;\">0.0428454</td><td style = \"text-align: right;\">0.246343</td><td style = \"text-align: right;\">0.367888</td><td style = \"text-align: right;\">0.671441</td><td style = \"text-align: right;\">0.294161</td><td style = \"text-align: right;\">0.110716</td><td style = \"text-align: right;\">0.880562</td><td style = \"text-align: right;\">0.133849</td><td style = \"text-align: right;\">&ctdot;</td></tr><tr><td style = \"text-align: right;\">&vellip;</td><td style = \"text-align: right;\">&vellip;</td><td style = \"text-align: right;\">&vellip;</td><td style = \"text-align: right;\">&vellip;</td><td style = \"text-align: right;\">&vellip;</td><td style = \"text-align: right;\">&vellip;</td><td style = \"text-align: right;\">&vellip;</td><td style = \"text-align: right;\">&vellip;</td><td style = \"text-align: right;\">&vellip;</td><td style = \"text-align: right;\">&vellip;</td><td style = \"text-align: right;\">&vellip;</td><td style = \"text-align: right;\">&vellip;</td><td style = \"text-align: right;\">&vellip;</td><td style = \"text-align: right;\">&vellip;</td><td style = \"text-align: right;\">&vellip;</td><td style = \"text-align: right;\">&vellip;</td><td style = \"text-align: right;\">&vellip;</td><td style = \"text-align: right;\">&vellip;</td><td style = \"text-align: right;\">&vellip;</td><td style = \"text-align: right;\">&vellip;</td><td style = \"text-align: right;\">&vellip;</td><td style = \"text-align: right;\">&vellip;</td><td style = \"text-align: right;\">&vellip;</td><td style = \"text-align: right;\">&vellip;</td><td style = \"text-align: right;\">&vellip;</td><td style = \"text-align: right;\">&vellip;</td><td style = \"text-align: right;\">&vellip;</td><td style = \"text-align: right;\">&vellip;</td><td style = \"text-align: right;\">&vellip;</td><td style = \"text-align: right;\">&vellip;</td><td style = \"text-align: right;\">&vellip;</td><td style = \"text-align: right;\">&vellip;</td><td style = \"text-align: right;\">&vellip;</td><td style = \"text-align: right;\">&vellip;</td><td style = \"text-align: right;\">&vellip;</td><td style = \"text-align: right;\">&vellip;</td><td style = \"text-align: right;\">&vellip;</td><td style = \"text-align: right;\">&vellip;</td><td style = \"text-align: right;\">&vellip;</td><td style = \"text-align: right;\">&vellip;</td><td style = \"text-align: right;\">&vellip;</td><td style = \"text-align: right;\">&vellip;</td><td style = \"text-align: right;\">&vellip;</td><td style = \"text-align: right;\">&vellip;</td><td style = \"text-align: right;\">&vellip;</td><td style = \"text-align: right;\">&vellip;</td><td style = \"text-align: right;\">&vellip;</td><td style = \"text-align: right;\">&vellip;</td><td style = \"text-align: right;\">&vellip;</td><td style = \"text-align: right;\">&vellip;</td><td style = \"text-align: right;\">&vellip;</td><td style = \"text-align: right;\">&vellip;</td><td style = \"text-align: right;\">&vellip;</td><td style = \"text-align: right;\">&vellip;</td><td style = \"text-align: right;\">&vellip;</td><td style = \"text-align: right;\">&vellip;</td><td style = \"text-align: right;\">&vellip;</td><td style = \"text-align: right;\">&vellip;</td><td style = \"text-align: right;\">&vellip;</td><td style = \"text-align: right;\">&vellip;</td><td style = \"text-align: right;\">&vellip;</td><td style = \"text-align: right;\">&vellip;</td><td style = \"text-align: right;\">&vellip;</td><td style = \"text-align: right;\">&vellip;</td><td style = \"text-align: right;\">&vellip;</td><td style = \"text-align: right;\">&vellip;</td><td style = \"text-align: right;\">&vellip;</td><td style = \"text-align: right;\">&vellip;</td><td style = \"text-align: right;\">&vellip;</td><td style = \"text-align: right;\">&vellip;</td><td style = \"text-align: right;\">&vellip;</td><td style = \"text-align: right;\">&vellip;</td><td style = \"text-align: right;\">&vellip;</td><td style = \"text-align: right;\">&vellip;</td><td style = \"text-align: right;\">&vellip;</td><td style = \"text-align: right;\">&vellip;</td><td style = \"text-align: right;\">&vellip;</td><td style = \"text-align: right;\">&vellip;</td><td style = \"text-align: right;\">&vellip;</td><td style = \"text-align: right;\">&vellip;</td><td style = \"text-align: right;\">&vellip;</td><td style = \"text-align: right;\">&vellip;</td><td style = \"text-align: right;\">&vellip;</td><td style = \"text-align: right;\">&vellip;</td><td style = \"text-align: right;\">&vellip;</td><td style = \"text-align: right;\">&vellip;</td><td style = \"text-align: right;\">&vellip;</td><td style = \"text-align: right;\">&vellip;</td><td style = \"text-align: right;\">&vellip;</td><td style = \"text-align: right;\">&vellip;</td><td style = \"text-align: right;\">&vellip;</td><td style = \"text-align: right;\">&vellip;</td><td style = \"text-align: right;\">&vellip;</td><td style = \"text-align: right;\">&vellip;</td><td style = \"text-align: right;\">&vellip;</td><td style = \"text-align: right;\">&vellip;</td><td style = \"text-align: right;\">&vellip;</td><td style = \"text-align: right;\">&vellip;</td><td style = \"text-align: right;\">&vellip;</td><td style = \"text-align: right;\">&vellip;</td><td style = \"text-align: right;\">&vellip;</td><td style = \"text-align: right;\">&dtdot;</td></tr><tr><td class = \"rowNumber\" style = \"font-weight: bold; text-align: right;\">89</td><td style = \"text-align: right;\">0.324909</td><td style = \"text-align: right;\">0.74739</td><td style = \"text-align: right;\">0.0721747</td><td style = \"text-align: right;\">0.46835</td><td style = \"text-align: right;\">0.736335</td><td style = \"text-align: right;\">0.590281</td><td style = \"text-align: right;\">0.161994</td><td style = \"text-align: right;\">0.36851</td><td style = \"text-align: right;\">0.743902</td><td style = \"text-align: right;\">0.00376375</td><td style = \"text-align: right;\">0.901382</td><td style = \"text-align: right;\">0.892004</td><td style = \"text-align: right;\">0.0816684</td><td style = \"text-align: right;\">0.58214</td><td style = \"text-align: right;\">0.705997</td><td style = \"text-align: right;\">0.299627</td><td style = \"text-align: right;\">0.840504</td><td style = \"text-align: right;\">0.206021</td><td style = \"text-align: right;\">0.0147887</td><td style = \"text-align: right;\">0.661831</td><td style = \"text-align: right;\">0.0201748</td><td style = \"text-align: right;\">0.425523</td><td style = \"text-align: right;\">0.101758</td><td style = \"text-align: right;\">0.143661</td><td style = \"text-align: right;\">0.167771</td><td style = \"text-align: right;\">0.982072</td><td style = \"text-align: right;\">0.346339</td><td style = \"text-align: right;\">0.985718</td><td style = \"text-align: right;\">0.631231</td><td style = \"text-align: right;\">0.105875</td><td style = \"text-align: right;\">0.581304</td><td style = \"text-align: right;\">0.927079</td><td style = \"text-align: right;\">0.115415</td><td style = \"text-align: right;\">0.868414</td><td style = \"text-align: right;\">0.852712</td><td style = \"text-align: right;\">0.23825</td><td style = \"text-align: right;\">0.618195</td><td style = \"text-align: right;\">0.780466</td><td style = \"text-align: right;\">0.698273</td><td style = \"text-align: right;\">0.252656</td><td style = \"text-align: right;\">0.556973</td><td style = \"text-align: right;\">0.0551838</td><td style = \"text-align: right;\">0.120645</td><td style = \"text-align: right;\">0.00642347</td><td style = \"text-align: right;\">0.494071</td><td style = \"text-align: right;\">0.970251</td><td style = \"text-align: right;\">0.593467</td><td style = \"text-align: right;\">0.968212</td><td style = \"text-align: right;\">0.333807</td><td style = \"text-align: right;\">0.695218</td><td style = \"text-align: right;\">0.85511</td><td style = \"text-align: right;\">0.0826821</td><td style = \"text-align: right;\">0.123399</td><td style = \"text-align: right;\">0.996491</td><td style = \"text-align: right;\">0.983908</td><td style = \"text-align: right;\">0.712211</td><td style = \"text-align: right;\">0.512408</td><td style = \"text-align: right;\">0.667908</td><td style = \"text-align: right;\">0.881005</td><td style = \"text-align: right;\">0.628675</td><td style = \"text-align: right;\">0.565715</td><td style = \"text-align: right;\">0.170545</td><td style = \"text-align: right;\">0.796438</td><td style = \"text-align: right;\">0.906433</td><td style = \"text-align: right;\">0.454192</td><td style = \"text-align: right;\">0.322655</td><td style = \"text-align: right;\">0.200901</td><td style = \"text-align: right;\">0.422633</td><td style = \"text-align: right;\">0.785435</td><td style = \"text-align: right;\">0.0659066</td><td style = \"text-align: right;\">0.0481916</td><td style = \"text-align: right;\">0.955302</td><td style = \"text-align: right;\">0.803006</td><td style = \"text-align: right;\">0.0172877</td><td style = \"text-align: right;\">0.502273</td><td style = \"text-align: right;\">0.294557</td><td style = \"text-align: right;\">0.426494</td><td style = \"text-align: right;\">0.972917</td><td style = \"text-align: right;\">0.977869</td><td style = \"text-align: right;\">0.783051</td><td style = \"text-align: right;\">0.926517</td><td style = \"text-align: right;\">0.270435</td><td style = \"text-align: right;\">0.0566016</td><td style = \"text-align: right;\">0.538225</td><td style = \"text-align: right;\">0.553522</td><td style = \"text-align: right;\">0.388564</td><td style = \"text-align: right;\">0.443451</td><td style = \"text-align: right;\">0.421202</td><td style = \"text-align: right;\">0.360293</td><td style = \"text-align: right;\">0.625435</td><td style = \"text-align: right;\">0.114232</td><td style = \"text-align: right;\">0.377148</td><td style = \"text-align: right;\">0.471707</td><td style = \"text-align: right;\">0.980674</td><td style = \"text-align: right;\">0.637192</td><td style = \"text-align: right;\">0.781522</td><td style = \"text-align: right;\">0.796117</td><td style = \"text-align: right;\">0.805801</td><td style = \"text-align: right;\">0.609555</td><td style = \"text-align: right;\">0.275391</td><td style = \"text-align: right;\">&ctdot;</td></tr><tr><td class = \"rowNumber\" style = \"font-weight: bold; text-align: right;\">90</td><td style = \"text-align: right;\">0.243481</td><td style = \"text-align: right;\">0.20247</td><td style = \"text-align: right;\">0.571572</td><td style = \"text-align: right;\">0.0974481</td><td style = \"text-align: right;\">0.847038</td><td style = \"text-align: right;\">0.867793</td><td style = \"text-align: right;\">0.0509061</td><td style = \"text-align: right;\">0.791927</td><td style = \"text-align: right;\">0.420015</td><td style = \"text-align: right;\">0.831862</td><td style = \"text-align: right;\">0.854463</td><td style = \"text-align: right;\">0.825515</td><td style = \"text-align: right;\">0.287292</td><td style = \"text-align: right;\">0.580818</td><td style = \"text-align: right;\">0.642363</td><td style = \"text-align: right;\">0.531499</td><td style = \"text-align: right;\">0.890144</td><td style = \"text-align: right;\">0.0898208</td><td style = \"text-align: right;\">0.0157889</td><td style = \"text-align: right;\">0.974487</td><td style = \"text-align: right;\">0.259195</td><td style = \"text-align: right;\">0.0640117</td><td style = \"text-align: right;\">0.429326</td><td style = \"text-align: right;\">0.314377</td><td style = \"text-align: right;\">0.543256</td><td style = \"text-align: right;\">0.111289</td><td style = \"text-align: right;\">0.336292</td><td style = \"text-align: right;\">0.465013</td><td style = \"text-align: right;\">0.0220436</td><td style = \"text-align: right;\">0.431102</td><td style = \"text-align: right;\">0.735392</td><td style = \"text-align: right;\">0.896958</td><td style = \"text-align: right;\">0.908616</td><td style = \"text-align: right;\">0.652831</td><td style = \"text-align: right;\">0.769108</td><td style = \"text-align: right;\">0.563815</td><td style = \"text-align: right;\">0.773248</td><td style = \"text-align: right;\">0.759852</td><td style = \"text-align: right;\">0.324249</td><td style = \"text-align: right;\">0.505739</td><td style = \"text-align: right;\">0.580212</td><td style = \"text-align: right;\">0.373242</td><td style = \"text-align: right;\">0.210961</td><td style = \"text-align: right;\">0.663491</td><td style = \"text-align: right;\">0.496899</td><td style = \"text-align: right;\">0.274889</td><td style = \"text-align: right;\">0.224977</td><td style = \"text-align: right;\">0.362052</td><td style = \"text-align: right;\">0.778497</td><td style = \"text-align: right;\">0.121614</td><td style = \"text-align: right;\">0.428621</td><td style = \"text-align: right;\">0.747691</td><td style = \"text-align: right;\">0.925691</td><td style = \"text-align: right;\">0.0162446</td><td style = \"text-align: right;\">0.43053</td><td style = \"text-align: right;\">0.426785</td><td style = \"text-align: right;\">0.99396</td><td style = \"text-align: right;\">0.714852</td><td style = \"text-align: right;\">0.402199</td><td style = \"text-align: right;\">0.582521</td><td style = \"text-align: right;\">0.221043</td><td style = \"text-align: right;\">0.0721222</td><td style = \"text-align: right;\">0.354458</td><td style = \"text-align: right;\">0.813313</td><td style = \"text-align: right;\">0.408148</td><td style = \"text-align: right;\">0.514063</td><td style = \"text-align: right;\">0.807645</td><td style = \"text-align: right;\">0.369246</td><td style = \"text-align: right;\">0.460662</td><td style = \"text-align: right;\">0.791692</td><td style = \"text-align: right;\">0.0100664</td><td style = \"text-align: right;\">0.0268499</td><td style = \"text-align: right;\">0.602329</td><td style = \"text-align: right;\">0.240879</td><td style = \"text-align: right;\">0.696973</td><td style = \"text-align: right;\">0.515949</td><td style = \"text-align: right;\">0.231076</td><td style = \"text-align: right;\">0.727133</td><td style = \"text-align: right;\">0.693277</td><td style = \"text-align: right;\">0.462518</td><td style = \"text-align: right;\">0.381305</td><td style = \"text-align: right;\">0.479692</td><td style = \"text-align: right;\">0.124322</td><td style = \"text-align: right;\">0.737522</td><td style = \"text-align: right;\">0.971229</td><td style = \"text-align: right;\">0.182921</td><td style = \"text-align: right;\">0.925151</td><td style = \"text-align: right;\">0.87678</td><td style = \"text-align: right;\">0.680284</td><td style = \"text-align: right;\">0.214038</td><td style = \"text-align: right;\">0.862952</td><td style = \"text-align: right;\">0.297764</td><td style = \"text-align: right;\">0.799302</td><td style = \"text-align: right;\">0.151313</td><td style = \"text-align: right;\">0.852288</td><td style = \"text-align: right;\">0.574177</td><td style = \"text-align: right;\">0.728218</td><td style = \"text-align: right;\">0.172103</td><td style = \"text-align: right;\">0.765605</td><td style = \"text-align: right;\">0.305536</td><td style = \"text-align: right;\">&ctdot;</td></tr><tr><td class = \"rowNumber\" style = \"font-weight: bold; text-align: right;\">91</td><td style = \"text-align: right;\">0.13488</td><td style = \"text-align: right;\">0.234751</td><td style = \"text-align: right;\">0.456267</td><td style = \"text-align: right;\">0.651277</td><td style = \"text-align: right;\">0.104469</td><td style = \"text-align: right;\">0.90037</td><td style = \"text-align: right;\">0.442888</td><td style = \"text-align: right;\">0.638523</td><td style = \"text-align: right;\">0.513964</td><td style = \"text-align: right;\">0.813523</td><td style = \"text-align: right;\">0.571307</td><td style = \"text-align: right;\">0.253858</td><td style = \"text-align: right;\">0.329513</td><td style = \"text-align: right;\">0.497884</td><td style = \"text-align: right;\">0.833579</td><td style = \"text-align: right;\">0.198471</td><td style = \"text-align: right;\">0.269474</td><td style = \"text-align: right;\">0.643009</td><td style = \"text-align: right;\">0.112721</td><td style = \"text-align: right;\">0.37069</td><td style = \"text-align: right;\">0.0625662</td><td style = \"text-align: right;\">0.638511</td><td style = \"text-align: right;\">0.551504</td><td style = \"text-align: right;\">0.0900972</td><td style = \"text-align: right;\">0.479397</td><td style = \"text-align: right;\">0.293233</td><td style = \"text-align: right;\">0.766699</td><td style = \"text-align: right;\">0.352414</td><td style = \"text-align: right;\">0.772198</td><td style = \"text-align: right;\">0.350462</td><td style = \"text-align: right;\">0.119453</td><td style = \"text-align: right;\">0.855494</td><td style = \"text-align: right;\">0.852175</td><td style = \"text-align: right;\">0.757064</td><td style = \"text-align: right;\">0.626176</td><td style = \"text-align: right;\">0.71608</td><td style = \"text-align: right;\">0.575988</td><td style = \"text-align: right;\">0.828815</td><td style = \"text-align: right;\">0.453274</td><td style = \"text-align: right;\">0.996859</td><td style = \"text-align: right;\">0.0686857</td><td style = \"text-align: right;\">0.0705291</td><td style = \"text-align: right;\">0.660336</td><td style = \"text-align: right;\">0.96248</td><td style = \"text-align: right;\">0.97794</td><td style = \"text-align: right;\">0.621395</td><td style = \"text-align: right;\">0.64402</td><td style = \"text-align: right;\">0.565054</td><td style = \"text-align: right;\">0.731936</td><td style = \"text-align: right;\">0.178263</td><td style = \"text-align: right;\">0.91641</td><td style = \"text-align: right;\">0.896672</td><td style = \"text-align: right;\">0.322896</td><td style = \"text-align: right;\">0.621406</td><td style = \"text-align: right;\">0.491842</td><td style = \"text-align: right;\">0.737534</td><td style = \"text-align: right;\">0.543438</td><td style = \"text-align: right;\">0.683061</td><td style = \"text-align: right;\">0.44576</td><td style = \"text-align: right;\">0.208479</td><td style = \"text-align: right;\">0.932585</td><td style = \"text-align: right;\">0.656716</td><td style = \"text-align: right;\">0.555244</td><td style = \"text-align: right;\">0.448673</td><td style = \"text-align: right;\">0.0903243</td><td style = \"text-align: right;\">0.897169</td><td style = \"text-align: right;\">0.233572</td><td style = \"text-align: right;\">0.33026</td><td style = \"text-align: right;\">0.684013</td><td style = \"text-align: right;\">0.880562</td><td style = \"text-align: right;\">0.909583</td><td style = \"text-align: right;\">0.66672</td><td style = \"text-align: right;\">0.298649</td><td style = \"text-align: right;\">0.915445</td><td style = \"text-align: right;\">0.61301</td><td style = \"text-align: right;\">0.564983</td><td style = \"text-align: right;\">0.853353</td><td style = \"text-align: right;\">0.813325</td><td style = \"text-align: right;\">0.135882</td><td style = \"text-align: right;\">0.275419</td><td style = \"text-align: right;\">0.272663</td><td style = \"text-align: right;\">0.623637</td><td style = \"text-align: right;\">0.902195</td><td style = \"text-align: right;\">0.941443</td><td style = \"text-align: right;\">0.809847</td><td style = \"text-align: right;\">0.716023</td><td style = \"text-align: right;\">0.985129</td><td style = \"text-align: right;\">0.0226074</td><td style = \"text-align: right;\">0.657019</td><td style = \"text-align: right;\">0.122212</td><td style = \"text-align: right;\">0.162746</td><td style = \"text-align: right;\">0.387844</td><td style = \"text-align: right;\">0.638903</td><td style = \"text-align: right;\">0.322305</td><td style = \"text-align: right;\">0.970118</td><td style = \"text-align: right;\">0.692419</td><td style = \"text-align: right;\">0.483992</td><td style = \"text-align: right;\">0.749918</td><td style = \"text-align: right;\">0.735633</td><td style = \"text-align: right;\">0.599041</td><td style = \"text-align: right;\">&ctdot;</td></tr><tr><td class = \"rowNumber\" style = \"font-weight: bold; text-align: right;\">92</td><td style = \"text-align: right;\">0.583164</td><td style = \"text-align: right;\">0.530929</td><td style = \"text-align: right;\">0.622532</td><td style = \"text-align: right;\">0.675647</td><td style = \"text-align: right;\">0.114649</td><td style = \"text-align: right;\">0.809729</td><td style = \"text-align: right;\">0.212793</td><td style = \"text-align: right;\">0.241267</td><td style = \"text-align: right;\">0.780827</td><td style = \"text-align: right;\">0.890419</td><td style = \"text-align: right;\">0.995384</td><td style = \"text-align: right;\">0.576277</td><td style = \"text-align: right;\">0.0231307</td><td style = \"text-align: right;\">0.870524</td><td style = \"text-align: right;\">0.303316</td><td style = \"text-align: right;\">0.0299602</td><td style = \"text-align: right;\">0.712451</td><td style = \"text-align: right;\">0.497436</td><td style = \"text-align: right;\">0.44693</td><td style = \"text-align: right;\">0.254015</td><td style = \"text-align: right;\">0.196172</td><td style = \"text-align: right;\">0.773205</td><td style = \"text-align: right;\">0.965852</td><td style = \"text-align: right;\">0.897366</td><td style = \"text-align: right;\">0.8312</td><td style = \"text-align: right;\">0.3072</td><td style = \"text-align: right;\">0.222136</td><td style = \"text-align: right;\">0.879577</td><td style = \"text-align: right;\">0.896277</td><td style = \"text-align: right;\">0.579196</td><td style = \"text-align: right;\">0.237228</td><td style = \"text-align: right;\">0.570115</td><td style = \"text-align: right;\">0.403403</td><td style = \"text-align: right;\">0.465782</td><td style = \"text-align: right;\">0.994995</td><td style = \"text-align: right;\">0.117037</td><td style = \"text-align: right;\">0.811128</td><td style = \"text-align: right;\">0.128616</td><td style = \"text-align: right;\">0.837701</td><td style = \"text-align: right;\">0.103353</td><td style = \"text-align: right;\">0.276558</td><td style = \"text-align: right;\">0.799203</td><td style = \"text-align: right;\">0.574373</td><td style = \"text-align: right;\">0.330022</td><td style = \"text-align: right;\">0.603748</td><td style = \"text-align: right;\">0.324962</td><td style = \"text-align: right;\">0.727305</td><td style = \"text-align: right;\">0.51518</td><td style = \"text-align: right;\">0.521545</td><td style = \"text-align: right;\">0.768144</td><td style = \"text-align: right;\">0.199369</td><td style = \"text-align: right;\">0.335518</td><td style = \"text-align: right;\">0.440448</td><td style = \"text-align: right;\">0.0729583</td><td style = \"text-align: right;\">0.664907</td><td style = \"text-align: right;\">0.282225</td><td style = \"text-align: right;\">0.244826</td><td style = \"text-align: right;\">0.275926</td><td style = \"text-align: right;\">0.0543359</td><td style = \"text-align: right;\">0.717391</td><td style = \"text-align: right;\">0.128698</td><td style = \"text-align: right;\">0.705939</td><td style = \"text-align: right;\">0.841324</td><td style = \"text-align: right;\">0.163769</td><td style = \"text-align: right;\">0.336443</td><td style = \"text-align: right;\">0.721272</td><td style = \"text-align: right;\">0.838446</td><td style = \"text-align: right;\">0.103595</td><td style = \"text-align: right;\">0.34356</td><td style = \"text-align: right;\">0.104581</td><td style = \"text-align: right;\">0.869318</td><td style = \"text-align: right;\">0.301417</td><td style = \"text-align: right;\">0.45753</td><td style = \"text-align: right;\">0.0104062</td><td style = \"text-align: right;\">0.866759</td><td style = \"text-align: right;\">0.679537</td><td style = \"text-align: right;\">0.236543</td><td style = \"text-align: right;\">0.252909</td><td style = \"text-align: right;\">0.911798</td><td style = \"text-align: right;\">0.277502</td><td style = \"text-align: right;\">0.829669</td><td style = \"text-align: right;\">0.546915</td><td style = \"text-align: right;\">0.717878</td><td style = \"text-align: right;\">0.489027</td><td style = \"text-align: right;\">0.15867</td><td style = \"text-align: right;\">0.340175</td><td style = \"text-align: right;\">0.997588</td><td style = \"text-align: right;\">0.489508</td><td style = \"text-align: right;\">0.0960636</td><td style = \"text-align: right;\">0.502314</td><td style = \"text-align: right;\">0.117465</td><td style = \"text-align: right;\">0.46362</td><td style = \"text-align: right;\">0.747763</td><td style = \"text-align: right;\">0.976932</td><td style = \"text-align: right;\">0.34627</td><td style = \"text-align: right;\">0.438653</td><td style = \"text-align: right;\">0.514799</td><td style = \"text-align: right;\">0.906632</td><td style = \"text-align: right;\">0.761055</td><td style = \"text-align: right;\">0.315961</td><td style = \"text-align: right;\">&ctdot;</td></tr><tr><td class = \"rowNumber\" style = \"font-weight: bold; text-align: right;\">93</td><td style = \"text-align: right;\">0.00955881</td><td style = \"text-align: right;\">0.183728</td><td style = \"text-align: right;\">0.900176</td><td style = \"text-align: right;\">0.777365</td><td style = \"text-align: right;\">0.399497</td><td style = \"text-align: right;\">0.368995</td><td style = \"text-align: right;\">0.985008</td><td style = \"text-align: right;\">0.874656</td><td style = \"text-align: right;\">0.946734</td><td style = \"text-align: right;\">0.565359</td><td style = \"text-align: right;\">0.0196927</td><td style = \"text-align: right;\">0.00090771</td><td style = \"text-align: right;\">0.691529</td><td style = \"text-align: right;\">0.094739</td><td style = \"text-align: right;\">0.0506072</td><td style = \"text-align: right;\">0.366318</td><td style = \"text-align: right;\">0.394078</td><td style = \"text-align: right;\">0.150297</td><td style = \"text-align: right;\">0.156364</td><td style = \"text-align: right;\">0.0765627</td><td style = \"text-align: right;\">0.244406</td><td style = \"text-align: right;\">0.796923</td><td style = \"text-align: right;\">0.115369</td><td style = \"text-align: right;\">0.783454</td><td style = \"text-align: right;\">0.922818</td><td style = \"text-align: right;\">0.624916</td><td style = \"text-align: right;\">0.273124</td><td style = \"text-align: right;\">0.203501</td><td style = \"text-align: right;\">0.038005</td><td style = \"text-align: right;\">0.314497</td><td style = \"text-align: right;\">0.912933</td><td style = \"text-align: right;\">0.658284</td><td style = \"text-align: right;\">0.332691</td><td style = \"text-align: right;\">0.907067</td><td style = \"text-align: right;\">0.555524</td><td style = \"text-align: right;\">0.033814</td><td style = \"text-align: right;\">0.0649112</td><td style = \"text-align: right;\">0.141838</td><td style = \"text-align: right;\">0.19084</td><td style = \"text-align: right;\">0.652939</td><td style = \"text-align: right;\">0.031514</td><td style = \"text-align: right;\">0.304029</td><td style = \"text-align: right;\">0.530037</td><td style = \"text-align: right;\">0.0646686</td><td style = \"text-align: right;\">0.32097</td><td style = \"text-align: right;\">0.265181</td><td style = \"text-align: right;\">0.944328</td><td style = \"text-align: right;\">0.28525</td><td style = \"text-align: right;\">0.612294</td><td style = \"text-align: right;\">0.594391</td><td style = \"text-align: right;\">0.758336</td><td style = \"text-align: right;\">0.984814</td><td style = \"text-align: right;\">0.457339</td><td style = \"text-align: right;\">0.978905</td><td style = \"text-align: right;\">0.717681</td><td style = \"text-align: right;\">0.865672</td><td style = \"text-align: right;\">0.83462</td><td style = \"text-align: right;\">0.305959</td><td style = \"text-align: right;\">0.413499</td><td style = \"text-align: right;\">0.409222</td><td style = \"text-align: right;\">0.354696</td><td style = \"text-align: right;\">0.228456</td><td style = \"text-align: right;\">0.372512</td><td style = \"text-align: right;\">0.262955</td><td style = \"text-align: right;\">0.624507</td><td style = \"text-align: right;\">0.907883</td><td style = \"text-align: right;\">0.451166</td><td style = \"text-align: right;\">0.141749</td><td style = \"text-align: right;\">0.305777</td><td style = \"text-align: right;\">0.505668</td><td style = \"text-align: right;\">0.867945</td><td style = \"text-align: right;\">0.96186</td><td style = \"text-align: right;\">0.939309</td><td style = \"text-align: right;\">0.331627</td><td style = \"text-align: right;\">0.544817</td><td style = \"text-align: right;\">0.368596</td><td style = \"text-align: right;\">0.152356</td><td style = \"text-align: right;\">0.374083</td><td style = \"text-align: right;\">0.74882</td><td style = \"text-align: right;\">0.771117</td><td style = \"text-align: right;\">0.214373</td><td style = \"text-align: right;\">0.575387</td><td style = \"text-align: right;\">0.965685</td><td style = \"text-align: right;\">0.300666</td><td style = \"text-align: right;\">0.564496</td><td style = \"text-align: right;\">0.107724</td><td style = \"text-align: right;\">0.760266</td><td style = \"text-align: right;\">0.875976</td><td style = \"text-align: right;\">0.712067</td><td style = \"text-align: right;\">0.970899</td><td style = \"text-align: right;\">0.192137</td><td style = \"text-align: right;\">0.962635</td><td style = \"text-align: right;\">0.490147</td><td style = \"text-align: right;\">0.679088</td><td style = \"text-align: right;\">0.437025</td><td style = \"text-align: right;\">0.285213</td><td style = \"text-align: right;\">0.90222</td><td style = \"text-align: right;\">0.114738</td><td style = \"text-align: right;\">0.188243</td><td style = \"text-align: right;\">0.367237</td><td style = \"text-align: right;\">&ctdot;</td></tr><tr><td class = \"rowNumber\" style = \"font-weight: bold; text-align: right;\">94</td><td style = \"text-align: right;\">0.331184</td><td style = \"text-align: right;\">0.761332</td><td style = \"text-align: right;\">0.117497</td><td style = \"text-align: right;\">0.595284</td><td style = \"text-align: right;\">0.453379</td><td style = \"text-align: right;\">0.133331</td><td style = \"text-align: right;\">0.288103</td><td style = \"text-align: right;\">0.303008</td><td style = \"text-align: right;\">0.723549</td><td style = \"text-align: right;\">0.384994</td><td style = \"text-align: right;\">0.992034</td><td style = \"text-align: right;\">0.625404</td><td style = \"text-align: right;\">0.956419</td><td style = \"text-align: right;\">0.152768</td><td style = \"text-align: right;\">0.690612</td><td style = \"text-align: right;\">0.816696</td><td style = \"text-align: right;\">0.798416</td><td style = \"text-align: right;\">0.90963</td><td style = \"text-align: right;\">0.322391</td><td style = \"text-align: right;\">0.462589</td><td style = \"text-align: right;\">0.823433</td><td style = \"text-align: right;\">0.1669</td><td style = \"text-align: right;\">0.650685</td><td style = \"text-align: right;\">0.45251</td><td style = \"text-align: right;\">0.397798</td><td style = \"text-align: right;\">0.324049</td><td style = \"text-align: right;\">0.305997</td><td style = \"text-align: right;\">0.893047</td><td style = \"text-align: right;\">0.0313352</td><td style = \"text-align: right;\">0.504164</td><td style = \"text-align: right;\">0.422345</td><td style = \"text-align: right;\">0.292028</td><td style = \"text-align: right;\">0.327494</td><td style = \"text-align: right;\">0.675324</td><td style = \"text-align: right;\">0.875217</td><td style = \"text-align: right;\">0.860702</td><td style = \"text-align: right;\">0.955277</td><td style = \"text-align: right;\">0.56376</td><td style = \"text-align: right;\">0.285713</td><td style = \"text-align: right;\">0.420991</td><td style = \"text-align: right;\">0.337977</td><td style = \"text-align: right;\">0.0225382</td><td style = \"text-align: right;\">0.454871</td><td style = \"text-align: right;\">0.95064</td><td style = \"text-align: right;\">0.990367</td><td style = \"text-align: right;\">0.181155</td><td style = \"text-align: right;\">0.130041</td><td style = \"text-align: right;\">0.864261</td><td style = \"text-align: right;\">0.926338</td><td style = \"text-align: right;\">0.0162764</td><td style = \"text-align: right;\">0.966874</td><td style = \"text-align: right;\">0.686179</td><td style = \"text-align: right;\">0.794284</td><td style = \"text-align: right;\">0.724971</td><td style = \"text-align: right;\">0.588383</td><td style = \"text-align: right;\">0.158315</td><td style = \"text-align: right;\">0.706384</td><td style = \"text-align: right;\">0.307825</td><td style = \"text-align: right;\">0.76707</td><td style = \"text-align: right;\">0.0219644</td><td style = \"text-align: right;\">0.965121</td><td style = \"text-align: right;\">0.815007</td><td style = \"text-align: right;\">0.764094</td><td style = \"text-align: right;\">0.620781</td><td style = \"text-align: right;\">0.772693</td><td style = \"text-align: right;\">0.449959</td><td style = \"text-align: right;\">0.90341</td><td style = \"text-align: right;\">0.220984</td><td style = \"text-align: right;\">0.91128</td><td style = \"text-align: right;\">0.479315</td><td style = \"text-align: right;\">0.0114447</td><td style = \"text-align: right;\">0.109816</td><td style = \"text-align: right;\">0.249111</td><td style = \"text-align: right;\">0.250598</td><td style = \"text-align: right;\">0.84994</td><td style = \"text-align: right;\">0.648949</td><td style = \"text-align: right;\">0.947222</td><td style = \"text-align: right;\">0.933545</td><td style = \"text-align: right;\">0.850115</td><td style = \"text-align: right;\">0.761794</td><td style = \"text-align: right;\">0.281161</td><td style = \"text-align: right;\">0.541112</td><td style = \"text-align: right;\">0.0448797</td><td style = \"text-align: right;\">0.804495</td><td style = \"text-align: right;\">0.345136</td><td style = \"text-align: right;\">0.612856</td><td style = \"text-align: right;\">0.458583</td><td style = \"text-align: right;\">0.209294</td><td style = \"text-align: right;\">0.859635</td><td style = \"text-align: right;\">0.458152</td><td style = \"text-align: right;\">0.131407</td><td style = \"text-align: right;\">0.575748</td><td style = \"text-align: right;\">0.389809</td><td style = \"text-align: right;\">0.267264</td><td style = \"text-align: right;\">0.316199</td><td style = \"text-align: right;\">0.947886</td><td style = \"text-align: right;\">0.0721615</td><td style = \"text-align: right;\">0.775439</td><td style = \"text-align: right;\">0.894132</td><td style = \"text-align: right;\">0.966046</td><td style = \"text-align: right;\">&ctdot;</td></tr><tr><td class = \"rowNumber\" style = \"font-weight: bold; text-align: right;\">95</td><td style = \"text-align: right;\">0.780185</td><td style = \"text-align: right;\">0.454776</td><td style = \"text-align: right;\">0.463721</td><td style = \"text-align: right;\">0.634231</td><td style = \"text-align: right;\">0.671548</td><td style = \"text-align: right;\">0.707426</td><td style = \"text-align: right;\">0.0256404</td><td style = \"text-align: right;\">0.00983888</td><td style = \"text-align: right;\">0.439203</td><td style = \"text-align: right;\">0.379702</td><td style = \"text-align: right;\">0.741376</td><td style = \"text-align: right;\">0.146806</td><td style = \"text-align: right;\">0.247496</td><td style = \"text-align: right;\">0.2712</td><td style = \"text-align: right;\">0.047473</td><td style = \"text-align: right;\">0.471763</td><td style = \"text-align: right;\">0.67632</td><td style = \"text-align: right;\">0.156245</td><td style = \"text-align: right;\">0.554056</td><td style = \"text-align: right;\">0.696688</td><td style = \"text-align: right;\">0.705778</td><td style = \"text-align: right;\">0.243977</td><td style = \"text-align: right;\">0.481373</td><td style = \"text-align: right;\">0.0592529</td><td style = \"text-align: right;\">0.288497</td><td style = \"text-align: right;\">0.780439</td><td style = \"text-align: right;\">0.963108</td><td style = \"text-align: right;\">0.974397</td><td style = \"text-align: right;\">0.693711</td><td style = \"text-align: right;\">0.435288</td><td style = \"text-align: right;\">0.618319</td><td style = \"text-align: right;\">0.529686</td><td style = \"text-align: right;\">0.678032</td><td style = \"text-align: right;\">0.471529</td><td style = \"text-align: right;\">0.350897</td><td style = \"text-align: right;\">0.0548515</td><td style = \"text-align: right;\">0.699677</td><td style = \"text-align: right;\">0.731936</td><td style = \"text-align: right;\">0.293428</td><td style = \"text-align: right;\">0.891801</td><td style = \"text-align: right;\">0.530992</td><td style = \"text-align: right;\">0.878599</td><td style = \"text-align: right;\">0.46486</td><td style = \"text-align: right;\">0.202646</td><td style = \"text-align: right;\">0.422198</td><td style = \"text-align: right;\">0.650094</td><td style = \"text-align: right;\">0.965498</td><td style = \"text-align: right;\">0.645438</td><td style = \"text-align: right;\">0.986724</td><td style = \"text-align: right;\">0.714518</td><td style = \"text-align: right;\">0.272827</td><td style = \"text-align: right;\">0.374222</td><td style = \"text-align: right;\">0.375922</td><td style = \"text-align: right;\">0.91851</td><td style = \"text-align: right;\">0.888576</td><td style = \"text-align: right;\">0.458601</td><td style = \"text-align: right;\">0.59951</td><td style = \"text-align: right;\">0.435264</td><td style = \"text-align: right;\">0.805104</td><td style = \"text-align: right;\">0.161139</td><td style = \"text-align: right;\">0.757621</td><td style = \"text-align: right;\">0.762103</td><td style = \"text-align: right;\">0.357717</td><td style = \"text-align: right;\">0.138031</td><td style = \"text-align: right;\">0.638455</td><td style = \"text-align: right;\">0.578521</td><td style = \"text-align: right;\">0.764067</td><td style = \"text-align: right;\">0.101143</td><td style = \"text-align: right;\">0.644656</td><td style = \"text-align: right;\">0.691962</td><td style = \"text-align: right;\">0.25843</td><td style = \"text-align: right;\">0.889659</td><td style = \"text-align: right;\">0.128007</td><td style = \"text-align: right;\">0.683592</td><td style = \"text-align: right;\">0.218934</td><td style = \"text-align: right;\">0.0847947</td><td style = \"text-align: right;\">0.617087</td><td style = \"text-align: right;\">0.316991</td><td style = \"text-align: right;\">0.81946</td><td style = \"text-align: right;\">0.438834</td><td style = \"text-align: right;\">0.29066</td><td style = \"text-align: right;\">0.843429</td><td style = \"text-align: right;\">0.064514</td><td style = \"text-align: right;\">0.914396</td><td style = \"text-align: right;\">0.65367</td><td style = \"text-align: right;\">0.899781</td><td style = \"text-align: right;\">0.528663</td><td style = \"text-align: right;\">0.148785</td><td style = \"text-align: right;\">0.518531</td><td style = \"text-align: right;\">0.261271</td><td style = \"text-align: right;\">0.005666</td><td style = \"text-align: right;\">0.242674</td><td style = \"text-align: right;\">0.866474</td><td style = \"text-align: right;\">0.227305</td><td style = \"text-align: right;\">0.643417</td><td style = \"text-align: right;\">0.579224</td><td style = \"text-align: right;\">0.771021</td><td style = \"text-align: right;\">0.146149</td><td style = \"text-align: right;\">0.547116</td><td style = \"text-align: right;\">0.850276</td><td style = \"text-align: right;\">&ctdot;</td></tr><tr><td class = \"rowNumber\" style = \"font-weight: bold; text-align: right;\">96</td><td style = \"text-align: right;\">0.989126</td><td style = \"text-align: right;\">0.317437</td><td style = \"text-align: right;\">0.216223</td><td style = \"text-align: right;\">0.216066</td><td style = \"text-align: right;\">0.153884</td><td style = \"text-align: right;\">0.216835</td><td style = \"text-align: right;\">0.468487</td><td style = \"text-align: right;\">0.0403361</td><td style = \"text-align: right;\">0.428018</td><td style = \"text-align: right;\">0.603952</td><td style = \"text-align: right;\">0.55102</td><td style = \"text-align: right;\">0.169449</td><td style = \"text-align: right;\">0.940181</td><td style = \"text-align: right;\">0.971581</td><td style = \"text-align: right;\">0.414063</td><td style = \"text-align: right;\">0.957474</td><td style = \"text-align: right;\">0.465039</td><td style = \"text-align: right;\">0.311669</td><td style = \"text-align: right;\">0.558378</td><td style = \"text-align: right;\">0.323462</td><td style = \"text-align: right;\">0.42825</td><td style = \"text-align: right;\">0.092597</td><td style = \"text-align: right;\">0.190281</td><td style = \"text-align: right;\">0.252892</td><td style = \"text-align: right;\">0.954294</td><td style = \"text-align: right;\">0.510628</td><td style = \"text-align: right;\">0.0863993</td><td style = \"text-align: right;\">0.607925</td><td style = \"text-align: right;\">0.963035</td><td style = \"text-align: right;\">0.194929</td><td style = \"text-align: right;\">0.976245</td><td style = \"text-align: right;\">0.800721</td><td style = \"text-align: right;\">0.927661</td><td style = \"text-align: right;\">0.935548</td><td style = \"text-align: right;\">0.284074</td><td style = \"text-align: right;\">0.239257</td><td style = \"text-align: right;\">0.218611</td><td style = \"text-align: right;\">0.60977</td><td style = \"text-align: right;\">0.0972975</td><td style = \"text-align: right;\">0.553031</td><td style = \"text-align: right;\">0.963824</td><td style = \"text-align: right;\">0.229435</td><td style = \"text-align: right;\">0.393412</td><td style = \"text-align: right;\">0.659379</td><td style = \"text-align: right;\">0.647276</td><td style = \"text-align: right;\">0.874672</td><td style = \"text-align: right;\">0.0144444</td><td style = \"text-align: right;\">0.380832</td><td style = \"text-align: right;\">0.898044</td><td style = \"text-align: right;\">0.48776</td><td style = \"text-align: right;\">0.327757</td><td style = \"text-align: right;\">0.206974</td><td style = \"text-align: right;\">0.0679504</td><td style = \"text-align: right;\">0.989889</td><td style = \"text-align: right;\">0.727812</td><td style = \"text-align: right;\">0.0152769</td><td style = \"text-align: right;\">0.94906</td><td style = \"text-align: right;\">0.298885</td><td style = \"text-align: right;\">0.00332705</td><td style = \"text-align: right;\">0.336637</td><td style = \"text-align: right;\">0.192638</td><td style = \"text-align: right;\">0.815256</td><td style = \"text-align: right;\">0.864803</td><td style = \"text-align: right;\">0.838327</td><td style = \"text-align: right;\">0.564686</td><td style = \"text-align: right;\">0.181633</td><td style = \"text-align: right;\">0.218723</td><td style = \"text-align: right;\">0.874101</td><td style = \"text-align: right;\">0.357299</td><td style = \"text-align: right;\">0.395339</td><td style = \"text-align: right;\">0.85767</td><td style = \"text-align: right;\">0.437781</td><td style = \"text-align: right;\">0.354934</td><td style = \"text-align: right;\">0.672866</td><td style = \"text-align: right;\">0.797198</td><td style = \"text-align: right;\">0.511745</td><td style = \"text-align: right;\">0.177158</td><td style = \"text-align: right;\">0.494269</td><td style = \"text-align: right;\">0.177579</td><td style = \"text-align: right;\">0.265682</td><td style = \"text-align: right;\">0.076309</td><td style = \"text-align: right;\">0.144204</td><td style = \"text-align: right;\">0.48038</td><td style = \"text-align: right;\">0.881389</td><td style = \"text-align: right;\">0.234119</td><td style = \"text-align: right;\">0.782337</td><td style = \"text-align: right;\">0.558515</td><td style = \"text-align: right;\">0.548034</td><td style = \"text-align: right;\">0.0389663</td><td style = \"text-align: right;\">0.903929</td><td style = \"text-align: right;\">0.212436</td><td style = \"text-align: right;\">0.0884397</td><td style = \"text-align: right;\">0.432035</td><td style = \"text-align: right;\">0.322351</td><td style = \"text-align: right;\">0.0841482</td><td style = \"text-align: right;\">0.273455</td><td style = \"text-align: right;\">0.298364</td><td style = \"text-align: right;\">0.86686</td><td style = \"text-align: right;\">0.554009</td><td style = \"text-align: right;\">0.130812</td><td style = \"text-align: right;\">&ctdot;</td></tr><tr><td class = \"rowNumber\" style = \"font-weight: bold; text-align: right;\">97</td><td style = \"text-align: right;\">0.296174</td><td style = \"text-align: right;\">0.137838</td><td style = \"text-align: right;\">0.690343</td><td style = \"text-align: right;\">0.223577</td><td style = \"text-align: right;\">0.529551</td><td style = \"text-align: right;\">0.663123</td><td style = \"text-align: right;\">0.893422</td><td style = \"text-align: right;\">0.416857</td><td style = \"text-align: right;\">0.592398</td><td style = \"text-align: right;\">0.847117</td><td style = \"text-align: right;\">0.956387</td><td style = \"text-align: right;\">0.721579</td><td style = \"text-align: right;\">0.0913007</td><td style = \"text-align: right;\">0.139519</td><td style = \"text-align: right;\">0.349323</td><td style = \"text-align: right;\">0.420023</td><td style = \"text-align: right;\">0.553782</td><td style = \"text-align: right;\">0.898844</td><td style = \"text-align: right;\">0.458103</td><td style = \"text-align: right;\">0.375296</td><td style = \"text-align: right;\">0.720199</td><td style = \"text-align: right;\">0.886138</td><td style = \"text-align: right;\">0.954229</td><td style = \"text-align: right;\">0.116843</td><td style = \"text-align: right;\">0.331943</td><td style = \"text-align: right;\">0.642759</td><td style = \"text-align: right;\">0.674203</td><td style = \"text-align: right;\">0.905011</td><td style = \"text-align: right;\">0.180868</td><td style = \"text-align: right;\">0.255639</td><td style = \"text-align: right;\">0.224913</td><td style = \"text-align: right;\">0.877225</td><td style = \"text-align: right;\">0.00994138</td><td style = \"text-align: right;\">0.534831</td><td style = \"text-align: right;\">0.673751</td><td style = \"text-align: right;\">0.0442439</td><td style = \"text-align: right;\">0.32029</td><td style = \"text-align: right;\">0.477978</td><td style = \"text-align: right;\">0.116697</td><td style = \"text-align: right;\">0.265324</td><td style = \"text-align: right;\">0.147067</td><td style = \"text-align: right;\">0.783441</td><td style = \"text-align: right;\">0.0147935</td><td style = \"text-align: right;\">0.752823</td><td style = \"text-align: right;\">0.29168</td><td style = \"text-align: right;\">0.252683</td><td style = \"text-align: right;\">0.143183</td><td style = \"text-align: right;\">0.106166</td><td style = \"text-align: right;\">0.207202</td><td style = \"text-align: right;\">0.132096</td><td style = \"text-align: right;\">0.236062</td><td style = \"text-align: right;\">0.868353</td><td style = \"text-align: right;\">0.123942</td><td style = \"text-align: right;\">0.897221</td><td style = \"text-align: right;\">0.850374</td><td style = \"text-align: right;\">0.14985</td><td style = \"text-align: right;\">0.377388</td><td style = \"text-align: right;\">0.514161</td><td style = \"text-align: right;\">0.298911</td><td style = \"text-align: right;\">0.255952</td><td style = \"text-align: right;\">0.759236</td><td style = \"text-align: right;\">0.688217</td><td style = \"text-align: right;\">0.781718</td><td style = \"text-align: right;\">0.988083</td><td style = \"text-align: right;\">0.66306</td><td style = \"text-align: right;\">0.41102</td><td style = \"text-align: right;\">0.391858</td><td style = \"text-align: right;\">0.156208</td><td style = \"text-align: right;\">0.553143</td><td style = \"text-align: right;\">0.600048</td><td style = \"text-align: right;\">0.300694</td><td style = \"text-align: right;\">0.309677</td><td style = \"text-align: right;\">0.665181</td><td style = \"text-align: right;\">0.414392</td><td style = \"text-align: right;\">0.294271</td><td style = \"text-align: right;\">0.614509</td><td style = \"text-align: right;\">0.749136</td><td style = \"text-align: right;\">0.407266</td><td style = \"text-align: right;\">0.541623</td><td style = \"text-align: right;\">0.53164</td><td style = \"text-align: right;\">0.361933</td><td style = \"text-align: right;\">0.0817529</td><td style = \"text-align: right;\">0.742311</td><td style = \"text-align: right;\">0.179212</td><td style = \"text-align: right;\">0.0187084</td><td style = \"text-align: right;\">0.321617</td><td style = \"text-align: right;\">0.0432884</td><td style = \"text-align: right;\">0.270304</td><td style = \"text-align: right;\">0.781736</td><td style = \"text-align: right;\">0.67162</td><td style = \"text-align: right;\">0.0560067</td><td style = \"text-align: right;\">0.279028</td><td style = \"text-align: right;\">0.620604</td><td style = \"text-align: right;\">0.570553</td><td style = \"text-align: right;\">0.32853</td><td style = \"text-align: right;\">0.761381</td><td style = \"text-align: right;\">0.828928</td><td style = \"text-align: right;\">0.647693</td><td style = \"text-align: right;\">0.563535</td><td style = \"text-align: right;\">0.249821</td><td style = \"text-align: right;\">&ctdot;</td></tr><tr><td class = \"rowNumber\" style = \"font-weight: bold; text-align: right;\">98</td><td style = \"text-align: right;\">0.191456</td><td style = \"text-align: right;\">0.745814</td><td style = \"text-align: right;\">0.6032</td><td style = \"text-align: right;\">0.615606</td><td style = \"text-align: right;\">0.546589</td><td style = \"text-align: right;\">0.136188</td><td style = \"text-align: right;\">0.16216</td><td style = \"text-align: right;\">0.93685</td><td style = \"text-align: right;\">0.640954</td><td style = \"text-align: right;\">0.229493</td><td style = \"text-align: right;\">0.387964</td><td style = \"text-align: right;\">0.175697</td><td style = \"text-align: right;\">0.110824</td><td style = \"text-align: right;\">0.913967</td><td style = \"text-align: right;\">0.408834</td><td style = \"text-align: right;\">0.669366</td><td style = \"text-align: right;\">0.407715</td><td style = \"text-align: right;\">0.852643</td><td style = \"text-align: right;\">0.12459</td><td style = \"text-align: right;\">0.87281</td><td style = \"text-align: right;\">0.0722623</td><td style = \"text-align: right;\">0.307643</td><td style = \"text-align: right;\">0.236488</td><td style = \"text-align: right;\">0.0136223</td><td style = \"text-align: right;\">0.929803</td><td style = \"text-align: right;\">0.862934</td><td style = \"text-align: right;\">0.935926</td><td style = \"text-align: right;\">0.891886</td><td style = \"text-align: right;\">0.149746</td><td style = \"text-align: right;\">0.713472</td><td style = \"text-align: right;\">0.705925</td><td style = \"text-align: right;\">0.476292</td><td style = \"text-align: right;\">0.808339</td><td style = \"text-align: right;\">0.330712</td><td style = \"text-align: right;\">0.220506</td><td style = \"text-align: right;\">0.222878</td><td style = \"text-align: right;\">0.0139682</td><td style = \"text-align: right;\">0.062855</td><td style = \"text-align: right;\">0.698361</td><td style = \"text-align: right;\">0.011319</td><td style = \"text-align: right;\">0.07773</td><td style = \"text-align: right;\">0.00793087</td><td style = \"text-align: right;\">0.164041</td><td style = \"text-align: right;\">0.337013</td><td style = \"text-align: right;\">0.598046</td><td style = \"text-align: right;\">0.114112</td><td style = \"text-align: right;\">0.36017</td><td style = \"text-align: right;\">0.771245</td><td style = \"text-align: right;\">0.954349</td><td style = \"text-align: right;\">0.77096</td><td style = \"text-align: right;\">0.731791</td><td style = \"text-align: right;\">0.586866</td><td style = \"text-align: right;\">0.265823</td><td style = \"text-align: right;\">0.399577</td><td style = \"text-align: right;\">0.00865732</td><td style = \"text-align: right;\">0.45699</td><td style = \"text-align: right;\">0.73736</td><td style = \"text-align: right;\">0.10514</td><td style = \"text-align: right;\">0.168389</td><td style = \"text-align: right;\">0.222861</td><td style = \"text-align: right;\">0.316555</td><td style = \"text-align: right;\">0.569235</td><td style = \"text-align: right;\">0.442558</td><td style = \"text-align: right;\">0.953641</td><td style = \"text-align: right;\">0.29948</td><td style = \"text-align: right;\">0.993074</td><td style = \"text-align: right;\">0.00512071</td><td style = \"text-align: right;\">0.857675</td><td style = \"text-align: right;\">0.623574</td><td style = \"text-align: right;\">0.760433</td><td style = \"text-align: right;\">0.561468</td><td style = \"text-align: right;\">0.561877</td><td style = \"text-align: right;\">0.335991</td><td style = \"text-align: right;\">0.599535</td><td style = \"text-align: right;\">0.800892</td><td style = \"text-align: right;\">0.0814372</td><td style = \"text-align: right;\">0.920104</td><td style = \"text-align: right;\">0.537471</td><td style = \"text-align: right;\">0.432562</td><td style = \"text-align: right;\">0.792458</td><td style = \"text-align: right;\">0.0242093</td><td style = \"text-align: right;\">0.00261528</td><td style = \"text-align: right;\">0.90498</td><td style = \"text-align: right;\">0.330727</td><td style = \"text-align: right;\">0.727571</td><td style = \"text-align: right;\">0.833249</td><td style = \"text-align: right;\">0.386098</td><td style = \"text-align: right;\">0.706917</td><td style = \"text-align: right;\">0.56943</td><td style = \"text-align: right;\">0.996497</td><td style = \"text-align: right;\">0.815445</td><td style = \"text-align: right;\">0.25456</td><td style = \"text-align: right;\">0.207537</td><td style = \"text-align: right;\">0.256747</td><td style = \"text-align: right;\">0.67444</td><td style = \"text-align: right;\">0.786932</td><td style = \"text-align: right;\">0.341432</td><td style = \"text-align: right;\">0.75167</td><td style = \"text-align: right;\">0.942685</td><td style = \"text-align: right;\">0.634833</td><td style = \"text-align: right;\">&ctdot;</td></tr><tr><td class = \"rowNumber\" style = \"font-weight: bold; text-align: right;\">99</td><td style = \"text-align: right;\">0.900263</td><td style = \"text-align: right;\">0.872609</td><td style = \"text-align: right;\">0.83019</td><td style = \"text-align: right;\">0.389468</td><td style = \"text-align: right;\">0.27425</td><td style = \"text-align: right;\">0.836492</td><td style = \"text-align: right;\">0.837966</td><td style = \"text-align: right;\">0.249668</td><td style = \"text-align: right;\">0.160649</td><td style = \"text-align: right;\">0.981159</td><td style = \"text-align: right;\">0.066402</td><td style = \"text-align: right;\">0.292374</td><td style = \"text-align: right;\">0.697294</td><td style = \"text-align: right;\">0.510439</td><td style = \"text-align: right;\">0.18978</td><td style = \"text-align: right;\">0.551306</td><td style = \"text-align: right;\">0.184162</td><td style = \"text-align: right;\">0.110295</td><td style = \"text-align: right;\">0.69028</td><td style = \"text-align: right;\">0.819226</td><td style = \"text-align: right;\">0.612109</td><td style = \"text-align: right;\">0.742474</td><td style = \"text-align: right;\">0.597656</td><td style = \"text-align: right;\">0.484475</td><td style = \"text-align: right;\">0.145689</td><td style = \"text-align: right;\">0.7658</td><td style = \"text-align: right;\">0.487235</td><td style = \"text-align: right;\">0.377031</td><td style = \"text-align: right;\">0.595657</td><td style = \"text-align: right;\">0.863189</td><td style = \"text-align: right;\">0.522467</td><td style = \"text-align: right;\">0.440777</td><td style = \"text-align: right;\">0.0386034</td><td style = \"text-align: right;\">0.336173</td><td style = \"text-align: right;\">0.269879</td><td style = \"text-align: right;\">0.327547</td><td style = \"text-align: right;\">0.271816</td><td style = \"text-align: right;\">0.133126</td><td style = \"text-align: right;\">0.831615</td><td style = \"text-align: right;\">0.467893</td><td style = \"text-align: right;\">0.600713</td><td style = \"text-align: right;\">0.813809</td><td style = \"text-align: right;\">0.111277</td><td style = \"text-align: right;\">0.102563</td><td style = \"text-align: right;\">0.360748</td><td style = \"text-align: right;\">0.781415</td><td style = \"text-align: right;\">0.231819</td><td style = \"text-align: right;\">0.613255</td><td style = \"text-align: right;\">0.302845</td><td style = \"text-align: right;\">0.319198</td><td style = \"text-align: right;\">0.96059</td><td style = \"text-align: right;\">0.317095</td><td style = \"text-align: right;\">0.279771</td><td style = \"text-align: right;\">0.35658</td><td style = \"text-align: right;\">0.0541271</td><td style = \"text-align: right;\">0.107443</td><td style = \"text-align: right;\">0.151702</td><td style = \"text-align: right;\">0.877957</td><td style = \"text-align: right;\">0.338483</td><td style = \"text-align: right;\">0.79792</td><td style = \"text-align: right;\">0.229744</td><td style = \"text-align: right;\">0.299748</td><td style = \"text-align: right;\">0.452232</td><td style = \"text-align: right;\">0.390702</td><td style = \"text-align: right;\">0.0308147</td><td style = \"text-align: right;\">0.113918</td><td style = \"text-align: right;\">0.221972</td><td style = \"text-align: right;\">0.165712</td><td style = \"text-align: right;\">0.910263</td><td style = \"text-align: right;\">0.476481</td><td style = \"text-align: right;\">0.953809</td><td style = \"text-align: right;\">0.366807</td><td style = \"text-align: right;\">0.743596</td><td style = \"text-align: right;\">0.0820382</td><td style = \"text-align: right;\">0.0248298</td><td style = \"text-align: right;\">0.00259273</td><td style = \"text-align: right;\">0.469383</td><td style = \"text-align: right;\">0.56279</td><td style = \"text-align: right;\">0.457883</td><td style = \"text-align: right;\">0.833051</td><td style = \"text-align: right;\">0.563424</td><td style = \"text-align: right;\">0.122784</td><td style = \"text-align: right;\">0.370396</td><td style = \"text-align: right;\">0.391865</td><td style = \"text-align: right;\">0.953351</td><td style = \"text-align: right;\">0.736567</td><td style = \"text-align: right;\">0.518267</td><td style = \"text-align: right;\">0.595761</td><td style = \"text-align: right;\">0.448416</td><td style = \"text-align: right;\">0.301085</td><td style = \"text-align: right;\">0.88573</td><td style = \"text-align: right;\">0.0621828</td><td style = \"text-align: right;\">0.58297</td><td style = \"text-align: right;\">0.563667</td><td style = \"text-align: right;\">0.369635</td><td style = \"text-align: right;\">0.118608</td><td style = \"text-align: right;\">0.409872</td><td style = \"text-align: right;\">0.543297</td><td style = \"text-align: right;\">0.342666</td><td style = \"text-align: right;\">0.333246</td><td style = \"text-align: right;\">&ctdot;</td></tr><tr><td class = \"rowNumber\" style = \"font-weight: bold; text-align: right;\">100</td><td style = \"text-align: right;\">0.199354</td><td style = \"text-align: right;\">0.141951</td><td style = \"text-align: right;\">0.744366</td><td style = \"text-align: right;\">0.636673</td><td style = \"text-align: right;\">0.603264</td><td style = \"text-align: right;\">0.63923</td><td style = \"text-align: right;\">0.452388</td><td style = \"text-align: right;\">0.657873</td><td style = \"text-align: right;\">0.946329</td><td style = \"text-align: right;\">0.711108</td><td style = \"text-align: right;\">0.650809</td><td style = \"text-align: right;\">0.0211366</td><td style = \"text-align: right;\">0.101399</td><td style = \"text-align: right;\">0.807882</td><td style = \"text-align: right;\">0.5633</td><td style = \"text-align: right;\">0.304492</td><td style = \"text-align: right;\">0.0320753</td><td style = \"text-align: right;\">0.662423</td><td style = \"text-align: right;\">0.812607</td><td style = \"text-align: right;\">0.520335</td><td style = \"text-align: right;\">0.295809</td><td style = \"text-align: right;\">0.339837</td><td style = \"text-align: right;\">0.257329</td><td style = \"text-align: right;\">0.26026</td><td style = \"text-align: right;\">0.838146</td><td style = \"text-align: right;\">0.930928</td><td style = \"text-align: right;\">0.979995</td><td style = \"text-align: right;\">0.553413</td><td style = \"text-align: right;\">0.152571</td><td style = \"text-align: right;\">0.321055</td><td style = \"text-align: right;\">0.314811</td><td style = \"text-align: right;\">0.429963</td><td style = \"text-align: right;\">0.780239</td><td style = \"text-align: right;\">0.846517</td><td style = \"text-align: right;\">0.239286</td><td style = \"text-align: right;\">0.0362136</td><td style = \"text-align: right;\">0.156776</td><td style = \"text-align: right;\">0.40194</td><td style = \"text-align: right;\">0.809925</td><td style = \"text-align: right;\">0.731814</td><td style = \"text-align: right;\">0.159876</td><td style = \"text-align: right;\">0.136119</td><td style = \"text-align: right;\">0.891128</td><td style = \"text-align: right;\">0.749079</td><td style = \"text-align: right;\">0.868238</td><td style = \"text-align: right;\">0.71592</td><td style = \"text-align: right;\">0.0915614</td><td style = \"text-align: right;\">0.456765</td><td style = \"text-align: right;\">0.671214</td><td style = \"text-align: right;\">0.571639</td><td style = \"text-align: right;\">0.698173</td><td style = \"text-align: right;\">0.525998</td><td style = \"text-align: right;\">0.667981</td><td style = \"text-align: right;\">0.652334</td><td style = \"text-align: right;\">0.190859</td><td style = \"text-align: right;\">0.0938442</td><td style = \"text-align: right;\">0.458366</td><td style = \"text-align: right;\">0.620719</td><td style = \"text-align: right;\">0.992295</td><td style = \"text-align: right;\">0.0116266</td><td style = \"text-align: right;\">0.252243</td><td style = \"text-align: right;\">0.218049</td><td style = \"text-align: right;\">0.168934</td><td style = \"text-align: right;\">0.275927</td><td style = \"text-align: right;\">0.221452</td><td style = \"text-align: right;\">0.752473</td><td style = \"text-align: right;\">0.833204</td><td style = \"text-align: right;\">0.570362</td><td style = \"text-align: right;\">0.90244</td><td style = \"text-align: right;\">0.475154</td><td style = \"text-align: right;\">0.0551416</td><td style = \"text-align: right;\">0.94602</td><td style = \"text-align: right;\">0.889239</td><td style = \"text-align: right;\">0.0781491</td><td style = \"text-align: right;\">0.242776</td><td style = \"text-align: right;\">0.147577</td><td style = \"text-align: right;\">0.391844</td><td style = \"text-align: right;\">0.313469</td><td style = \"text-align: right;\">0.443371</td><td style = \"text-align: right;\">0.812579</td><td style = \"text-align: right;\">0.657434</td><td style = \"text-align: right;\">0.0442389</td><td style = \"text-align: right;\">0.539936</td><td style = \"text-align: right;\">0.233646</td><td style = \"text-align: right;\">0.938026</td><td style = \"text-align: right;\">0.526554</td><td style = \"text-align: right;\">0.466152</td><td style = \"text-align: right;\">0.697191</td><td style = \"text-align: right;\">0.366009</td><td style = \"text-align: right;\">0.0255896</td><td style = \"text-align: right;\">0.712601</td><td style = \"text-align: right;\">0.896528</td><td style = \"text-align: right;\">0.896319</td><td style = \"text-align: right;\">0.262766</td><td style = \"text-align: right;\">0.837044</td><td style = \"text-align: right;\">0.0166865</td><td style = \"text-align: right;\">0.0488026</td><td style = \"text-align: right;\">0.403488</td><td style = \"text-align: right;\">0.035986</td><td style = \"text-align: right;\">0.970457</td><td style = \"text-align: right;\">&ctdot;</td></tr></tbody></table></div>"
      ],
      "text/latex": [
       "\\begin{tabular}{r|ccccccccc}\n",
       "\t& x1 & x2 & x3 & x4 & x5 & x6 & x7 & x8 & \\\\\n",
       "\t\\hline\n",
       "\t& Float64 & Float64 & Float64 & Float64 & Float64 & Float64 & Float64 & Float64 & \\\\\n",
       "\t\\hline\n",
       "\t1 & 0.800589 & 0.520631 & 0.809645 & 0.684632 & 0.730305 & 0.229668 & 0.506644 & 0.0567315 & $\\dots$ \\\\\n",
       "\t2 & 0.792454 & 0.539687 & 0.638338 & 0.317587 & 0.25712 & 0.57408 & 0.701946 & 0.579785 & $\\dots$ \\\\\n",
       "\t3 & 0.590947 & 0.90727 & 0.340609 & 0.77661 & 0.95369 & 0.0467544 & 0.860111 & 0.141644 & $\\dots$ \\\\\n",
       "\t4 & 0.542843 & 0.167519 & 0.191 & 0.927426 & 0.914871 & 0.061127 & 0.133722 & 0.847142 & $\\dots$ \\\\\n",
       "\t5 & 0.956409 & 0.0729636 & 0.850878 & 0.317952 & 0.592737 & 0.375583 & 0.229953 & 0.885399 & $\\dots$ \\\\\n",
       "\t6 & 0.162602 & 0.149545 & 0.20698 & 0.595276 & 0.926209 & 0.344571 & 0.84523 & 0.316725 & $\\dots$ \\\\\n",
       "\t7 & 0.476381 & 0.0132228 & 0.49337 & 0.382882 & 0.909689 & 0.241455 & 0.466491 & 0.901169 & $\\dots$ \\\\\n",
       "\t8 & 0.305507 & 0.536407 & 0.872725 & 0.43217 & 0.843696 & 0.974637 & 0.799843 & 0.536623 & $\\dots$ \\\\\n",
       "\t9 & 0.190889 & 0.102401 & 0.101946 & 0.58897 & 0.933126 & 0.114858 & 0.67729 & 0.645872 & $\\dots$ \\\\\n",
       "\t10 & 0.802449 & 0.257491 & 0.619316 & 0.326802 & 0.928951 & 0.368998 & 0.843537 & 0.358956 & $\\dots$ \\\\\n",
       "\t11 & 0.0837389 & 0.0846016 & 0.470438 & 0.635833 & 0.394244 & 0.175681 & 0.309098 & 0.46829 & $\\dots$ \\\\\n",
       "\t12 & 0.688693 & 0.510017 & 0.729488 & 0.6191 & 0.852186 & 0.221633 & 0.655863 & 0.870272 & $\\dots$ \\\\\n",
       "\t13 & 0.0278833 & 0.152787 & 0.179774 & 0.0560243 & 0.0187141 & 0.922449 & 0.829991 & 0.620214 & $\\dots$ \\\\\n",
       "\t14 & 0.923464 & 0.586769 & 0.284841 & 0.770651 & 0.850705 & 0.508517 & 0.801696 & 0.151966 & $\\dots$ \\\\\n",
       "\t15 & 0.232739 & 0.126271 & 0.72529 & 0.890205 & 0.271003 & 0.990731 & 0.725595 & 0.763765 & $\\dots$ \\\\\n",
       "\t16 & 0.206693 & 0.171647 & 0.6096 & 0.515213 & 0.274138 & 0.687782 & 0.956892 & 0.934478 & $\\dots$ \\\\\n",
       "\t17 & 0.599961 & 0.98151 & 0.865571 & 0.447126 & 0.907357 & 0.723784 & 0.0776842 & 0.734514 & $\\dots$ \\\\\n",
       "\t18 & 0.279248 & 0.451801 & 0.38861 & 0.0232724 & 0.946207 & 0.705949 & 0.843348 & 0.0931834 & $\\dots$ \\\\\n",
       "\t19 & 0.0296995 & 0.770613 & 0.314293 & 0.27418 & 0.393593 & 0.974601 & 0.0575438 & 0.378765 & $\\dots$ \\\\\n",
       "\t20 & 0.0351003 & 0.845326 & 0.884587 & 0.829895 & 0.472635 & 0.552915 & 0.41371 & 0.622834 & $\\dots$ \\\\\n",
       "\t21 & 0.912194 & 0.772615 & 0.664629 & 0.482504 & 0.857948 & 0.383097 & 0.775458 & 0.946107 & $\\dots$ \\\\\n",
       "\t22 & 0.783068 & 0.512195 & 0.923475 & 0.403661 & 0.614366 & 0.437406 & 0.633073 & 0.203383 & $\\dots$ \\\\\n",
       "\t23 & 0.752403 & 0.624337 & 0.316934 & 0.183343 & 0.221913 & 0.251387 & 0.8661 & 0.138735 & $\\dots$ \\\\\n",
       "\t24 & 0.119943 & 0.717476 & 0.94347 & 0.729209 & 0.883125 & 0.945002 & 0.629972 & 0.955136 & $\\dots$ \\\\\n",
       "\t25 & 0.029304 & 0.888315 & 0.0690511 & 0.376136 & 0.130026 & 0.583451 & 0.322316 & 0.066346 & $\\dots$ \\\\\n",
       "\t26 & 0.655235 & 0.722903 & 0.444917 & 0.618063 & 0.413473 & 0.6011 & 0.18067 & 0.101892 & $\\dots$ \\\\\n",
       "\t27 & 0.820029 & 0.623773 & 0.481376 & 0.783419 & 0.0560326 & 0.0371783 & 0.481174 & 0.0976042 & $\\dots$ \\\\\n",
       "\t28 & 0.848861 & 0.413398 & 0.309919 & 0.647398 & 0.281106 & 0.952816 & 0.373796 & 0.086921 & $\\dots$ \\\\\n",
       "\t29 & 0.451479 & 0.263994 & 0.346301 & 0.957142 & 0.247855 & 0.608631 & 0.528028 & 0.793245 & $\\dots$ \\\\\n",
       "\t30 & 0.658183 & 0.919153 & 0.547959 & 0.664442 & 0.816307 & 0.838885 & 0.314774 & 0.998277 & $\\dots$ \\\\\n",
       "\t$\\dots$ & $\\dots$ & $\\dots$ & $\\dots$ & $\\dots$ & $\\dots$ & $\\dots$ & $\\dots$ & $\\dots$ &  \\\\\n",
       "\\end{tabular}\n"
      ],
      "text/plain": [
       "\u001b[1m100×200 DataFrame\u001b[0m\n",
       "\u001b[1m Row \u001b[0m│\u001b[1m x1         \u001b[0m\u001b[1m x2        \u001b[0m\u001b[1m x3        \u001b[0m\u001b[1m x4        \u001b[0m\u001b[1m x5        \u001b[0m\u001b[1m x6        \u001b[0m\u001b[1m x7  \u001b[0m ⋯\n",
       "     │\u001b[90m Float64    \u001b[0m\u001b[90m Float64   \u001b[0m\u001b[90m Float64   \u001b[0m\u001b[90m Float64   \u001b[0m\u001b[90m Float64   \u001b[0m\u001b[90m Float64   \u001b[0m\u001b[90m Floa\u001b[0m ⋯\n",
       "─────┼──────────────────────────────────────────────────────────────────────────\n",
       "   1 │ 0.800589    0.520631   0.809645   0.684632   0.730305   0.229668   0.50 ⋯\n",
       "   2 │ 0.792454    0.539687   0.638338   0.317587   0.25712    0.57408    0.70\n",
       "   3 │ 0.590947    0.90727    0.340609   0.77661    0.95369    0.0467544  0.86\n",
       "   4 │ 0.542843    0.167519   0.191      0.927426   0.914871   0.061127   0.13\n",
       "   5 │ 0.956409    0.0729636  0.850878   0.317952   0.592737   0.375583   0.22 ⋯\n",
       "   6 │ 0.162602    0.149545   0.20698    0.595276   0.926209   0.344571   0.84\n",
       "   7 │ 0.476381    0.0132228  0.49337    0.382882   0.909689   0.241455   0.46\n",
       "   8 │ 0.305507    0.536407   0.872725   0.43217    0.843696   0.974637   0.79\n",
       "   9 │ 0.190889    0.102401   0.101946   0.58897    0.933126   0.114858   0.67 ⋯\n",
       "  10 │ 0.802449    0.257491   0.619316   0.326802   0.928951   0.368998   0.84\n",
       "  11 │ 0.0837389   0.0846016  0.470438   0.635833   0.394244   0.175681   0.30\n",
       "  ⋮  │     ⋮           ⋮          ⋮          ⋮          ⋮          ⋮           ⋱\n",
       "  91 │ 0.13488     0.234751   0.456267   0.651277   0.104469   0.90037    0.44\n",
       "  92 │ 0.583164    0.530929   0.622532   0.675647   0.114649   0.809729   0.21 ⋯\n",
       "  93 │ 0.00955881  0.183728   0.900176   0.777365   0.399497   0.368995   0.98\n",
       "  94 │ 0.331184    0.761332   0.117497   0.595284   0.453379   0.133331   0.28\n",
       "  95 │ 0.780185    0.454776   0.463721   0.634231   0.671548   0.707426   0.02\n",
       "  96 │ 0.989126    0.317437   0.216223   0.216066   0.153884   0.216835   0.46 ⋯\n",
       "  97 │ 0.296174    0.137838   0.690343   0.223577   0.529551   0.663123   0.89\n",
       "  98 │ 0.191456    0.745814   0.6032     0.615606   0.546589   0.136188   0.16\n",
       "  99 │ 0.900263    0.872609   0.83019    0.389468   0.27425    0.836492   0.83\n",
       " 100 │ 0.199354    0.141951   0.744366   0.636673   0.603264   0.63923    0.45 ⋯\n",
       "\u001b[36m                                                 194 columns and 79 rows omitted\u001b[0m"
      ]
     },
     "execution_count": 16,
     "metadata": {},
     "output_type": "execute_result"
    }
   ],
   "source": [
    "df = DataFrame(rand(100, 200), :auto)"
   ]
  },
  {
   "cell_type": "markdown",
   "metadata": {},
   "source": [
    "### Most elementary get and set operations\n",
    "\n",
    "Given the `DataFrame` `x` we have created earlier, here are various ways to grab one of its columns as a `Vector`."
   ]
  },
  {
   "cell_type": "code",
   "execution_count": 17,
   "metadata": {},
   "outputs": [
    {
     "data": {
      "text/html": [
       "<div><div style = \"float: left;\"><span>2×3 DataFrame</span></div><div style = \"clear: both;\"></div></div><div class = \"data-frame\" style = \"overflow-x: scroll;\"><table class = \"data-frame\" style = \"margin-bottom: 6px;\"><thead><tr class = \"header\"><th class = \"rowNumber\" style = \"font-weight: bold; text-align: right;\">Row</th><th style = \"text-align: left;\">A</th><th style = \"text-align: left;\">B</th><th style = \"text-align: left;\">C</th></tr><tr class = \"subheader headerLastRow\"><th class = \"rowNumber\" style = \"font-weight: bold; text-align: right;\"></th><th title = \"Int64\" style = \"text-align: left;\">Int64</th><th title = \"Union{Missing, Float64}\" style = \"text-align: left;\">Float64?</th><th title = \"String\" style = \"text-align: left;\">String</th></tr></thead><tbody><tr><td class = \"rowNumber\" style = \"font-weight: bold; text-align: right;\">1</td><td style = \"text-align: right;\">1</td><td style = \"text-align: right;\">1.0</td><td style = \"text-align: left;\">a</td></tr><tr><td class = \"rowNumber\" style = \"font-weight: bold; text-align: right;\">2</td><td style = \"text-align: right;\">2</td><td style = \"font-style: italic; text-align: right;\">missing</td><td style = \"text-align: left;\">b</td></tr></tbody></table></div>"
      ],
      "text/latex": [
       "\\begin{tabular}{r|ccc}\n",
       "\t& A & B & C\\\\\n",
       "\t\\hline\n",
       "\t& Int64 & Float64? & String\\\\\n",
       "\t\\hline\n",
       "\t1 & 1 & 1.0 & a \\\\\n",
       "\t2 & 2 & \\emph{missing} & b \\\\\n",
       "\\end{tabular}\n"
      ],
      "text/plain": [
       "\u001b[1m2×3 DataFrame\u001b[0m\n",
       "\u001b[1m Row \u001b[0m│\u001b[1m A     \u001b[0m\u001b[1m B         \u001b[0m\u001b[1m C      \u001b[0m\n",
       "     │\u001b[90m Int64 \u001b[0m\u001b[90m Float64?  \u001b[0m\u001b[90m String \u001b[0m\n",
       "─────┼──────────────────────────\n",
       "   1 │     1        1.0  a\n",
       "   2 │     2 \u001b[90m missing   \u001b[0m b"
      ]
     },
     "execution_count": 17,
     "metadata": {},
     "output_type": "execute_result"
    }
   ],
   "source": [
    "x"
   ]
  },
  {
   "cell_type": "code",
   "execution_count": 18,
   "metadata": {},
   "outputs": [
    {
     "data": {
      "text/plain": [
       "([1, 2], [1, 2], [1, 2])"
      ]
     },
     "execution_count": 18,
     "metadata": {},
     "output_type": "execute_result"
    }
   ],
   "source": [
    "x.A, x[!, 1], x[!, :A] # all get the vector stored in our DataFrame without copying it"
   ]
  },
  {
   "cell_type": "code",
   "execution_count": 19,
   "metadata": {},
   "outputs": [
    {
     "data": {
      "text/plain": [
       "([1, 2], [1, 2])"
      ]
     },
     "execution_count": 19,
     "metadata": {},
     "output_type": "execute_result"
    }
   ],
   "source": [
    "x.\"A\", x[!, \"A\"] # the same using string indexing"
   ]
  },
  {
   "cell_type": "code",
   "execution_count": 20,
   "metadata": {},
   "outputs": [
    {
     "data": {
      "text/plain": [
       "2-element Vector{Int64}:\n",
       " 1\n",
       " 2"
      ]
     },
     "execution_count": 20,
     "metadata": {},
     "output_type": "execute_result"
    }
   ],
   "source": [
    "x[:, 1] # note that this creates a copy"
   ]
  },
  {
   "cell_type": "code",
   "execution_count": 21,
   "metadata": {},
   "outputs": [
    {
     "data": {
      "text/plain": [
       "false"
      ]
     },
     "execution_count": 21,
     "metadata": {},
     "output_type": "execute_result"
    }
   ],
   "source": [
    "x[:, 1] === x[:, 1]"
   ]
  },
  {
   "cell_type": "markdown",
   "metadata": {},
   "source": [
    "To grab one row as a `DataFrame`, we can index as follows."
   ]
  },
  {
   "cell_type": "code",
   "execution_count": 22,
   "metadata": {},
   "outputs": [
    {
     "data": {
      "text/html": [
       "<div><div style = \"float: left;\"><span>1×3 DataFrame</span></div><div style = \"clear: both;\"></div></div><div class = \"data-frame\" style = \"overflow-x: scroll;\"><table class = \"data-frame\" style = \"margin-bottom: 6px;\"><thead><tr class = \"header\"><th class = \"rowNumber\" style = \"font-weight: bold; text-align: right;\">Row</th><th style = \"text-align: left;\">A</th><th style = \"text-align: left;\">B</th><th style = \"text-align: left;\">C</th></tr><tr class = \"subheader headerLastRow\"><th class = \"rowNumber\" style = \"font-weight: bold; text-align: right;\"></th><th title = \"Int64\" style = \"text-align: left;\">Int64</th><th title = \"Union{Missing, Float64}\" style = \"text-align: left;\">Float64?</th><th title = \"String\" style = \"text-align: left;\">String</th></tr></thead><tbody><tr><td class = \"rowNumber\" style = \"font-weight: bold; text-align: right;\">1</td><td style = \"text-align: right;\">1</td><td style = \"text-align: right;\">1.0</td><td style = \"text-align: left;\">a</td></tr></tbody></table></div>"
      ],
      "text/latex": [
       "\\begin{tabular}{r|ccc}\n",
       "\t& A & B & C\\\\\n",
       "\t\\hline\n",
       "\t& Int64 & Float64? & String\\\\\n",
       "\t\\hline\n",
       "\t1 & 1 & 1.0 & a \\\\\n",
       "\\end{tabular}\n"
      ],
      "text/plain": [
       "\u001b[1m1×3 DataFrame\u001b[0m\n",
       "\u001b[1m Row \u001b[0m│\u001b[1m A     \u001b[0m\u001b[1m B        \u001b[0m\u001b[1m C      \u001b[0m\n",
       "     │\u001b[90m Int64 \u001b[0m\u001b[90m Float64? \u001b[0m\u001b[90m String \u001b[0m\n",
       "─────┼─────────────────────────\n",
       "   1 │     1       1.0  a"
      ]
     },
     "execution_count": 22,
     "metadata": {},
     "output_type": "execute_result"
    }
   ],
   "source": [
    "x[1:1, :]"
   ]
  },
  {
   "cell_type": "code",
   "execution_count": 23,
   "metadata": {},
   "outputs": [
    {
     "data": {
      "text/html": [
       "<div><div style = \"float: left;\"><span>DataFrameRow (3 columns)</span></div><div style = \"clear: both;\"></div></div><div class = \"data-frame\" style = \"overflow-x: scroll;\"><table class = \"data-frame\" style = \"margin-bottom: 6px;\"><thead><tr class = \"header\"><th class = \"rowLabel\" style = \"font-weight: bold; text-align: right;\">Row</th><th style = \"text-align: left;\">A</th><th style = \"text-align: left;\">B</th><th style = \"text-align: left;\">C</th></tr><tr class = \"subheader headerLastRow\"><th class = \"rowLabel\" style = \"font-weight: bold; text-align: right;\"></th><th title = \"Int64\" style = \"text-align: left;\">Int64</th><th title = \"Union{Missing, Float64}\" style = \"text-align: left;\">Float64?</th><th title = \"String\" style = \"text-align: left;\">String</th></tr></thead><tbody><tr><td class = \"rowLabel\" style = \"font-weight: bold; text-align: right;\">1</td><td style = \"text-align: right;\">1</td><td style = \"text-align: right;\">1.0</td><td style = \"text-align: left;\">a</td></tr></tbody></table></div>"
      ],
      "text/latex": [
       "\\begin{tabular}{r|ccc}\n",
       "\t& A & B & C\\\\\n",
       "\t\\hline\n",
       "\t& Int64 & Float64? & String\\\\\n",
       "\t\\hline\n",
       "\t1 & 1 & 1.0 & a \\\\\n",
       "\\end{tabular}\n"
      ],
      "text/plain": [
       "\u001b[1mDataFrameRow\u001b[0m\n",
       "\u001b[1m Row \u001b[0m│\u001b[1m A     \u001b[0m\u001b[1m B        \u001b[0m\u001b[1m C      \u001b[0m\n",
       "     │\u001b[90m Int64 \u001b[0m\u001b[90m Float64? \u001b[0m\u001b[90m String \u001b[0m\n",
       "─────┼─────────────────────────\n",
       "   1 │     1       1.0  a"
      ]
     },
     "execution_count": 23,
     "metadata": {},
     "output_type": "execute_result"
    }
   ],
   "source": [
    "x[1, :] # this produces a DataFrameRow which is treated as 1-dimensional object similar to a NamedTuple"
   ]
  },
  {
   "cell_type": "markdown",
   "metadata": {},
   "source": [
    "We can grab a single cell or element with the same syntax to grab an element of an array."
   ]
  },
  {
   "cell_type": "code",
   "execution_count": 24,
   "metadata": {},
   "outputs": [
    {
     "data": {
      "text/plain": [
       "1"
      ]
     },
     "execution_count": 24,
     "metadata": {},
     "output_type": "execute_result"
    }
   ],
   "source": [
    "x[1, 1]"
   ]
  },
  {
   "cell_type": "markdown",
   "metadata": {},
   "source": [
    "or a new `DataFrame` that is a subset of rows and columns"
   ]
  },
  {
   "cell_type": "code",
   "execution_count": 25,
   "metadata": {},
   "outputs": [
    {
     "data": {
      "text/html": [
       "<div><div style = \"float: left;\"><span>2×2 DataFrame</span></div><div style = \"clear: both;\"></div></div><div class = \"data-frame\" style = \"overflow-x: scroll;\"><table class = \"data-frame\" style = \"margin-bottom: 6px;\"><thead><tr class = \"header\"><th class = \"rowNumber\" style = \"font-weight: bold; text-align: right;\">Row</th><th style = \"text-align: left;\">A</th><th style = \"text-align: left;\">B</th></tr><tr class = \"subheader headerLastRow\"><th class = \"rowNumber\" style = \"font-weight: bold; text-align: right;\"></th><th title = \"Int64\" style = \"text-align: left;\">Int64</th><th title = \"Union{Missing, Float64}\" style = \"text-align: left;\">Float64?</th></tr></thead><tbody><tr><td class = \"rowNumber\" style = \"font-weight: bold; text-align: right;\">1</td><td style = \"text-align: right;\">1</td><td style = \"text-align: right;\">1.0</td></tr><tr><td class = \"rowNumber\" style = \"font-weight: bold; text-align: right;\">2</td><td style = \"text-align: right;\">2</td><td style = \"font-style: italic; text-align: right;\">missing</td></tr></tbody></table></div>"
      ],
      "text/latex": [
       "\\begin{tabular}{r|cc}\n",
       "\t& A & B\\\\\n",
       "\t\\hline\n",
       "\t& Int64 & Float64?\\\\\n",
       "\t\\hline\n",
       "\t1 & 1 & 1.0 \\\\\n",
       "\t2 & 2 & \\emph{missing} \\\\\n",
       "\\end{tabular}\n"
      ],
      "text/plain": [
       "\u001b[1m2×2 DataFrame\u001b[0m\n",
       "\u001b[1m Row \u001b[0m│\u001b[1m A     \u001b[0m\u001b[1m B         \u001b[0m\n",
       "     │\u001b[90m Int64 \u001b[0m\u001b[90m Float64?  \u001b[0m\n",
       "─────┼──────────────────\n",
       "   1 │     1        1.0\n",
       "   2 │     2 \u001b[90m missing   \u001b[0m"
      ]
     },
     "execution_count": 25,
     "metadata": {},
     "output_type": "execute_result"
    }
   ],
   "source": [
    "x[1:2, 1:2]"
   ]
  },
  {
   "cell_type": "markdown",
   "metadata": {},
   "source": [
    "You can also use `Regex` to select columns and `Not` from InvertedIndices.jl both to select rows and columns"
   ]
  },
  {
   "cell_type": "code",
   "execution_count": 26,
   "metadata": {},
   "outputs": [
    {
     "data": {
      "text/html": [
       "<div><div style = \"float: left;\"><span>1×1 DataFrame</span></div><div style = \"clear: both;\"></div></div><div class = \"data-frame\" style = \"overflow-x: scroll;\"><table class = \"data-frame\" style = \"margin-bottom: 6px;\"><thead><tr class = \"header\"><th class = \"rowNumber\" style = \"font-weight: bold; text-align: right;\">Row</th><th style = \"text-align: left;\">A</th></tr><tr class = \"subheader headerLastRow\"><th class = \"rowNumber\" style = \"font-weight: bold; text-align: right;\"></th><th title = \"Int64\" style = \"text-align: left;\">Int64</th></tr></thead><tbody><tr><td class = \"rowNumber\" style = \"font-weight: bold; text-align: right;\">1</td><td style = \"text-align: right;\">2</td></tr></tbody></table></div>"
      ],
      "text/latex": [
       "\\begin{tabular}{r|c}\n",
       "\t& A\\\\\n",
       "\t\\hline\n",
       "\t& Int64\\\\\n",
       "\t\\hline\n",
       "\t1 & 2 \\\\\n",
       "\\end{tabular}\n"
      ],
      "text/plain": [
       "\u001b[1m1×1 DataFrame\u001b[0m\n",
       "\u001b[1m Row \u001b[0m│\u001b[1m A     \u001b[0m\n",
       "     │\u001b[90m Int64 \u001b[0m\n",
       "─────┼───────\n",
       "   1 │     2"
      ]
     },
     "execution_count": 26,
     "metadata": {},
     "output_type": "execute_result"
    }
   ],
   "source": [
    "x[Not(1), r\"A\"]"
   ]
  },
  {
   "cell_type": "code",
   "execution_count": 27,
   "metadata": {},
   "outputs": [
    {
     "data": {
      "text/html": [
       "<div><div style = \"float: left;\"><span>2×2 DataFrame</span></div><div style = \"clear: both;\"></div></div><div class = \"data-frame\" style = \"overflow-x: scroll;\"><table class = \"data-frame\" style = \"margin-bottom: 6px;\"><thead><tr class = \"header\"><th class = \"rowNumber\" style = \"font-weight: bold; text-align: right;\">Row</th><th style = \"text-align: left;\">B</th><th style = \"text-align: left;\">C</th></tr><tr class = \"subheader headerLastRow\"><th class = \"rowNumber\" style = \"font-weight: bold; text-align: right;\"></th><th title = \"Union{Missing, Float64}\" style = \"text-align: left;\">Float64?</th><th title = \"String\" style = \"text-align: left;\">String</th></tr></thead><tbody><tr><td class = \"rowNumber\" style = \"font-weight: bold; text-align: right;\">1</td><td style = \"text-align: right;\">1.0</td><td style = \"text-align: left;\">a</td></tr><tr><td class = \"rowNumber\" style = \"font-weight: bold; text-align: right;\">2</td><td style = \"font-style: italic; text-align: right;\">missing</td><td style = \"text-align: left;\">b</td></tr></tbody></table></div>"
      ],
      "text/latex": [
       "\\begin{tabular}{r|cc}\n",
       "\t& B & C\\\\\n",
       "\t\\hline\n",
       "\t& Float64? & String\\\\\n",
       "\t\\hline\n",
       "\t1 & 1.0 & a \\\\\n",
       "\t2 & \\emph{missing} & b \\\\\n",
       "\\end{tabular}\n"
      ],
      "text/plain": [
       "\u001b[1m2×2 DataFrame\u001b[0m\n",
       "\u001b[1m Row \u001b[0m│\u001b[1m B         \u001b[0m\u001b[1m C      \u001b[0m\n",
       "     │\u001b[90m Float64?  \u001b[0m\u001b[90m String \u001b[0m\n",
       "─────┼───────────────────\n",
       "   1 │       1.0  a\n",
       "   2 │\u001b[90m missing   \u001b[0m b"
      ]
     },
     "execution_count": 27,
     "metadata": {},
     "output_type": "execute_result"
    }
   ],
   "source": [
    "x[!, Not(1)] # ! indicates that underlying columns are not copied"
   ]
  },
  {
   "cell_type": "code",
   "execution_count": 28,
   "metadata": {},
   "outputs": [
    {
     "data": {
      "text/html": [
       "<div><div style = \"float: left;\"><span>2×2 DataFrame</span></div><div style = \"clear: both;\"></div></div><div class = \"data-frame\" style = \"overflow-x: scroll;\"><table class = \"data-frame\" style = \"margin-bottom: 6px;\"><thead><tr class = \"header\"><th class = \"rowNumber\" style = \"font-weight: bold; text-align: right;\">Row</th><th style = \"text-align: left;\">B</th><th style = \"text-align: left;\">C</th></tr><tr class = \"subheader headerLastRow\"><th class = \"rowNumber\" style = \"font-weight: bold; text-align: right;\"></th><th title = \"Union{Missing, Float64}\" style = \"text-align: left;\">Float64?</th><th title = \"String\" style = \"text-align: left;\">String</th></tr></thead><tbody><tr><td class = \"rowNumber\" style = \"font-weight: bold; text-align: right;\">1</td><td style = \"text-align: right;\">1.0</td><td style = \"text-align: left;\">a</td></tr><tr><td class = \"rowNumber\" style = \"font-weight: bold; text-align: right;\">2</td><td style = \"font-style: italic; text-align: right;\">missing</td><td style = \"text-align: left;\">b</td></tr></tbody></table></div>"
      ],
      "text/latex": [
       "\\begin{tabular}{r|cc}\n",
       "\t& B & C\\\\\n",
       "\t\\hline\n",
       "\t& Float64? & String\\\\\n",
       "\t\\hline\n",
       "\t1 & 1.0 & a \\\\\n",
       "\t2 & \\emph{missing} & b \\\\\n",
       "\\end{tabular}\n"
      ],
      "text/plain": [
       "\u001b[1m2×2 DataFrame\u001b[0m\n",
       "\u001b[1m Row \u001b[0m│\u001b[1m B         \u001b[0m\u001b[1m C      \u001b[0m\n",
       "     │\u001b[90m Float64?  \u001b[0m\u001b[90m String \u001b[0m\n",
       "─────┼───────────────────\n",
       "   1 │       1.0  a\n",
       "   2 │\u001b[90m missing   \u001b[0m b"
      ]
     },
     "execution_count": 28,
     "metadata": {},
     "output_type": "execute_result"
    }
   ],
   "source": [
    "x[:, Not(1)] # : means that the columns will get copied"
   ]
  },
  {
   "cell_type": "markdown",
   "metadata": {},
   "source": [
    "Assignment of a scalar to a data frame can be done in ranges using broadcasting:"
   ]
  },
  {
   "cell_type": "code",
   "execution_count": 29,
   "metadata": {},
   "outputs": [
    {
     "data": {
      "text/html": [
       "<div><div style = \"float: left;\"><span>2×3 DataFrame</span></div><div style = \"clear: both;\"></div></div><div class = \"data-frame\" style = \"overflow-x: scroll;\"><table class = \"data-frame\" style = \"margin-bottom: 6px;\"><thead><tr class = \"header\"><th class = \"rowNumber\" style = \"font-weight: bold; text-align: right;\">Row</th><th style = \"text-align: left;\">A</th><th style = \"text-align: left;\">B</th><th style = \"text-align: left;\">C</th></tr><tr class = \"subheader headerLastRow\"><th class = \"rowNumber\" style = \"font-weight: bold; text-align: right;\"></th><th title = \"Int64\" style = \"text-align: left;\">Int64</th><th title = \"Union{Missing, Float64}\" style = \"text-align: left;\">Float64?</th><th title = \"String\" style = \"text-align: left;\">String</th></tr></thead><tbody><tr><td class = \"rowNumber\" style = \"font-weight: bold; text-align: right;\">1</td><td style = \"text-align: right;\">1</td><td style = \"text-align: right;\">1.0</td><td style = \"text-align: left;\">a</td></tr><tr><td class = \"rowNumber\" style = \"font-weight: bold; text-align: right;\">2</td><td style = \"text-align: right;\">1</td><td style = \"text-align: right;\">1.0</td><td style = \"text-align: left;\">b</td></tr></tbody></table></div>"
      ],
      "text/latex": [
       "\\begin{tabular}{r|ccc}\n",
       "\t& A & B & C\\\\\n",
       "\t\\hline\n",
       "\t& Int64 & Float64? & String\\\\\n",
       "\t\\hline\n",
       "\t1 & 1 & 1.0 & a \\\\\n",
       "\t2 & 1 & 1.0 & b \\\\\n",
       "\\end{tabular}\n"
      ],
      "text/plain": [
       "\u001b[1m2×3 DataFrame\u001b[0m\n",
       "\u001b[1m Row \u001b[0m│\u001b[1m A     \u001b[0m\u001b[1m B        \u001b[0m\u001b[1m C      \u001b[0m\n",
       "     │\u001b[90m Int64 \u001b[0m\u001b[90m Float64? \u001b[0m\u001b[90m String \u001b[0m\n",
       "─────┼─────────────────────────\n",
       "   1 │     1       1.0  a\n",
       "   2 │     1       1.0  b"
      ]
     },
     "execution_count": 29,
     "metadata": {},
     "output_type": "execute_result"
    }
   ],
   "source": [
    "x[1:2, 1:2] .= 1\n",
    "x"
   ]
  },
  {
   "cell_type": "markdown",
   "metadata": {},
   "source": [
    "Assignment of a vector of length equal to the number of assigned rows using broadcasting"
   ]
  },
  {
   "cell_type": "code",
   "execution_count": 30,
   "metadata": {},
   "outputs": [
    {
     "data": {
      "text/html": [
       "<div><div style = \"float: left;\"><span>2×3 DataFrame</span></div><div style = \"clear: both;\"></div></div><div class = \"data-frame\" style = \"overflow-x: scroll;\"><table class = \"data-frame\" style = \"margin-bottom: 6px;\"><thead><tr class = \"header\"><th class = \"rowNumber\" style = \"font-weight: bold; text-align: right;\">Row</th><th style = \"text-align: left;\">A</th><th style = \"text-align: left;\">B</th><th style = \"text-align: left;\">C</th></tr><tr class = \"subheader headerLastRow\"><th class = \"rowNumber\" style = \"font-weight: bold; text-align: right;\"></th><th title = \"Int64\" style = \"text-align: left;\">Int64</th><th title = \"Union{Missing, Float64}\" style = \"text-align: left;\">Float64?</th><th title = \"String\" style = \"text-align: left;\">String</th></tr></thead><tbody><tr><td class = \"rowNumber\" style = \"font-weight: bold; text-align: right;\">1</td><td style = \"text-align: right;\">1</td><td style = \"text-align: right;\">1.0</td><td style = \"text-align: left;\">a</td></tr><tr><td class = \"rowNumber\" style = \"font-weight: bold; text-align: right;\">2</td><td style = \"text-align: right;\">2</td><td style = \"text-align: right;\">2.0</td><td style = \"text-align: left;\">b</td></tr></tbody></table></div>"
      ],
      "text/latex": [
       "\\begin{tabular}{r|ccc}\n",
       "\t& A & B & C\\\\\n",
       "\t\\hline\n",
       "\t& Int64 & Float64? & String\\\\\n",
       "\t\\hline\n",
       "\t1 & 1 & 1.0 & a \\\\\n",
       "\t2 & 2 & 2.0 & b \\\\\n",
       "\\end{tabular}\n"
      ],
      "text/plain": [
       "\u001b[1m2×3 DataFrame\u001b[0m\n",
       "\u001b[1m Row \u001b[0m│\u001b[1m A     \u001b[0m\u001b[1m B        \u001b[0m\u001b[1m C      \u001b[0m\n",
       "     │\u001b[90m Int64 \u001b[0m\u001b[90m Float64? \u001b[0m\u001b[90m String \u001b[0m\n",
       "─────┼─────────────────────────\n",
       "   1 │     1       1.0  a\n",
       "   2 │     2       2.0  b"
      ]
     },
     "execution_count": 30,
     "metadata": {},
     "output_type": "execute_result"
    }
   ],
   "source": [
    "x[1:2, 1:2] .= [1,2]\n",
    "x"
   ]
  },
  {
   "cell_type": "markdown",
   "metadata": {},
   "source": [
    "Assignment or of another data frame of matching size and column names, again using broadcasting:"
   ]
  },
  {
   "cell_type": "code",
   "execution_count": 31,
   "metadata": {},
   "outputs": [
    {
     "data": {
      "text/html": [
       "<div><div style = \"float: left;\"><span>2×3 DataFrame</span></div><div style = \"clear: both;\"></div></div><div class = \"data-frame\" style = \"overflow-x: scroll;\"><table class = \"data-frame\" style = \"margin-bottom: 6px;\"><thead><tr class = \"header\"><th class = \"rowNumber\" style = \"font-weight: bold; text-align: right;\">Row</th><th style = \"text-align: left;\">A</th><th style = \"text-align: left;\">B</th><th style = \"text-align: left;\">C</th></tr><tr class = \"subheader headerLastRow\"><th class = \"rowNumber\" style = \"font-weight: bold; text-align: right;\"></th><th title = \"Int64\" style = \"text-align: left;\">Int64</th><th title = \"Union{Missing, Float64}\" style = \"text-align: left;\">Float64?</th><th title = \"String\" style = \"text-align: left;\">String</th></tr></thead><tbody><tr><td class = \"rowNumber\" style = \"font-weight: bold; text-align: right;\">1</td><td style = \"text-align: right;\">5</td><td style = \"text-align: right;\">6.0</td><td style = \"text-align: left;\">a</td></tr><tr><td class = \"rowNumber\" style = \"font-weight: bold; text-align: right;\">2</td><td style = \"text-align: right;\">7</td><td style = \"text-align: right;\">8.0</td><td style = \"text-align: left;\">b</td></tr></tbody></table></div>"
      ],
      "text/latex": [
       "\\begin{tabular}{r|ccc}\n",
       "\t& A & B & C\\\\\n",
       "\t\\hline\n",
       "\t& Int64 & Float64? & String\\\\\n",
       "\t\\hline\n",
       "\t1 & 5 & 6.0 & a \\\\\n",
       "\t2 & 7 & 8.0 & b \\\\\n",
       "\\end{tabular}\n"
      ],
      "text/plain": [
       "\u001b[1m2×3 DataFrame\u001b[0m\n",
       "\u001b[1m Row \u001b[0m│\u001b[1m A     \u001b[0m\u001b[1m B        \u001b[0m\u001b[1m C      \u001b[0m\n",
       "     │\u001b[90m Int64 \u001b[0m\u001b[90m Float64? \u001b[0m\u001b[90m String \u001b[0m\n",
       "─────┼─────────────────────────\n",
       "   1 │     5       6.0  a\n",
       "   2 │     7       8.0  b"
      ]
     },
     "execution_count": 31,
     "metadata": {},
     "output_type": "execute_result"
    }
   ],
   "source": [
    "x[1:2, 1:2] .= DataFrame([5 6; 7 8], [:A, :B])\n",
    "x"
   ]
  },
  {
   "cell_type": "markdown",
   "metadata": {},
   "source": [
    "**Caution**\n",
    "\n",
    "With `df[!, :col]` and `df.col` syntax you get a direct (non copying) access to a column of a data frame.\n",
    "This is potentially unsafe as you can easily corrupt data in the `df` data frame if you resize, sort, etc. the column obtained in this way.\n",
    "Therefore such access should be used with caution.\n",
    "\n",
    "Similarly `df[!, cols]` when `cols` is a collection of columns produces a new data frame that holds the same (not copied) columns as the source `df` data frame. Similarly, modifying the data frame obtained via `df[!, cols]` might cause problems with the consistency of `df`.\n",
    "\n",
    "The `df[:, :col]` and `df[:, cols]` syntaxes always copy columns so they are safe to use (and should generally be preferred except for performance or memory critical use cases)."
   ]
  },
  {
   "cell_type": "markdown",
   "metadata": {},
   "source": [
    "Here are examples of how `Cols` and `Between` can be used to select columns of a data frame."
   ]
  },
  {
   "cell_type": "code",
   "execution_count": 32,
   "metadata": {},
   "outputs": [
    {
     "data": {
      "text/html": [
       "<div><div style = \"float: left;\"><span>4×5 DataFrame</span></div><div style = \"clear: both;\"></div></div><div class = \"data-frame\" style = \"overflow-x: scroll;\"><table class = \"data-frame\" style = \"margin-bottom: 6px;\"><thead><tr class = \"header\"><th class = \"rowNumber\" style = \"font-weight: bold; text-align: right;\">Row</th><th style = \"text-align: left;\">x1</th><th style = \"text-align: left;\">x2</th><th style = \"text-align: left;\">x3</th><th style = \"text-align: left;\">x4</th><th style = \"text-align: left;\">x5</th></tr><tr class = \"subheader headerLastRow\"><th class = \"rowNumber\" style = \"font-weight: bold; text-align: right;\"></th><th title = \"Float64\" style = \"text-align: left;\">Float64</th><th title = \"Float64\" style = \"text-align: left;\">Float64</th><th title = \"Float64\" style = \"text-align: left;\">Float64</th><th title = \"Float64\" style = \"text-align: left;\">Float64</th><th title = \"Float64\" style = \"text-align: left;\">Float64</th></tr></thead><tbody><tr><td class = \"rowNumber\" style = \"font-weight: bold; text-align: right;\">1</td><td style = \"text-align: right;\">0.988168</td><td style = \"text-align: right;\">0.119983</td><td style = \"text-align: right;\">0.890152</td><td style = \"text-align: right;\">0.080374</td><td style = \"text-align: right;\">0.340875</td></tr><tr><td class = \"rowNumber\" style = \"font-weight: bold; text-align: right;\">2</td><td style = \"text-align: right;\">0.572305</td><td style = \"text-align: right;\">0.406497</td><td style = \"text-align: right;\">0.38738</td><td style = \"text-align: right;\">0.689486</td><td style = \"text-align: right;\">0.301265</td></tr><tr><td class = \"rowNumber\" style = \"font-weight: bold; text-align: right;\">3</td><td style = \"text-align: right;\">0.242977</td><td style = \"text-align: right;\">0.545932</td><td style = \"text-align: right;\">0.886745</td><td style = \"text-align: right;\">0.322568</td><td style = \"text-align: right;\">0.255486</td></tr><tr><td class = \"rowNumber\" style = \"font-weight: bold; text-align: right;\">4</td><td style = \"text-align: right;\">0.9556</td><td style = \"text-align: right;\">0.396078</td><td style = \"text-align: right;\">0.324366</td><td style = \"text-align: right;\">0.960805</td><td style = \"text-align: right;\">0.390855</td></tr></tbody></table></div>"
      ],
      "text/latex": [
       "\\begin{tabular}{r|ccccc}\n",
       "\t& x1 & x2 & x3 & x4 & x5\\\\\n",
       "\t\\hline\n",
       "\t& Float64 & Float64 & Float64 & Float64 & Float64\\\\\n",
       "\t\\hline\n",
       "\t1 & 0.988168 & 0.119983 & 0.890152 & 0.080374 & 0.340875 \\\\\n",
       "\t2 & 0.572305 & 0.406497 & 0.38738 & 0.689486 & 0.301265 \\\\\n",
       "\t3 & 0.242977 & 0.545932 & 0.886745 & 0.322568 & 0.255486 \\\\\n",
       "\t4 & 0.9556 & 0.396078 & 0.324366 & 0.960805 & 0.390855 \\\\\n",
       "\\end{tabular}\n"
      ],
      "text/plain": [
       "\u001b[1m4×5 DataFrame\u001b[0m\n",
       "\u001b[1m Row \u001b[0m│\u001b[1m x1       \u001b[0m\u001b[1m x2       \u001b[0m\u001b[1m x3       \u001b[0m\u001b[1m x4       \u001b[0m\u001b[1m x5       \u001b[0m\n",
       "     │\u001b[90m Float64  \u001b[0m\u001b[90m Float64  \u001b[0m\u001b[90m Float64  \u001b[0m\u001b[90m Float64  \u001b[0m\u001b[90m Float64  \u001b[0m\n",
       "─────┼──────────────────────────────────────────────────\n",
       "   1 │ 0.988168  0.119983  0.890152  0.080374  0.340875\n",
       "   2 │ 0.572305  0.406497  0.38738   0.689486  0.301265\n",
       "   3 │ 0.242977  0.545932  0.886745  0.322568  0.255486\n",
       "   4 │ 0.9556    0.396078  0.324366  0.960805  0.390855"
      ]
     },
     "execution_count": 32,
     "metadata": {},
     "output_type": "execute_result"
    }
   ],
   "source": [
    "x = DataFrame(rand(4, 5), :auto)"
   ]
  },
  {
   "cell_type": "code",
   "execution_count": 33,
   "metadata": {},
   "outputs": [
    {
     "data": {
      "text/html": [
       "<div><div style = \"float: left;\"><span>4×3 DataFrame</span></div><div style = \"clear: both;\"></div></div><div class = \"data-frame\" style = \"overflow-x: scroll;\"><table class = \"data-frame\" style = \"margin-bottom: 6px;\"><thead><tr class = \"header\"><th class = \"rowNumber\" style = \"font-weight: bold; text-align: right;\">Row</th><th style = \"text-align: left;\">x2</th><th style = \"text-align: left;\">x3</th><th style = \"text-align: left;\">x4</th></tr><tr class = \"subheader headerLastRow\"><th class = \"rowNumber\" style = \"font-weight: bold; text-align: right;\"></th><th title = \"Float64\" style = \"text-align: left;\">Float64</th><th title = \"Float64\" style = \"text-align: left;\">Float64</th><th title = \"Float64\" style = \"text-align: left;\">Float64</th></tr></thead><tbody><tr><td class = \"rowNumber\" style = \"font-weight: bold; text-align: right;\">1</td><td style = \"text-align: right;\">0.119983</td><td style = \"text-align: right;\">0.890152</td><td style = \"text-align: right;\">0.080374</td></tr><tr><td class = \"rowNumber\" style = \"font-weight: bold; text-align: right;\">2</td><td style = \"text-align: right;\">0.406497</td><td style = \"text-align: right;\">0.38738</td><td style = \"text-align: right;\">0.689486</td></tr><tr><td class = \"rowNumber\" style = \"font-weight: bold; text-align: right;\">3</td><td style = \"text-align: right;\">0.545932</td><td style = \"text-align: right;\">0.886745</td><td style = \"text-align: right;\">0.322568</td></tr><tr><td class = \"rowNumber\" style = \"font-weight: bold; text-align: right;\">4</td><td style = \"text-align: right;\">0.396078</td><td style = \"text-align: right;\">0.324366</td><td style = \"text-align: right;\">0.960805</td></tr></tbody></table></div>"
      ],
      "text/latex": [
       "\\begin{tabular}{r|ccc}\n",
       "\t& x2 & x3 & x4\\\\\n",
       "\t\\hline\n",
       "\t& Float64 & Float64 & Float64\\\\\n",
       "\t\\hline\n",
       "\t1 & 0.119983 & 0.890152 & 0.080374 \\\\\n",
       "\t2 & 0.406497 & 0.38738 & 0.689486 \\\\\n",
       "\t3 & 0.545932 & 0.886745 & 0.322568 \\\\\n",
       "\t4 & 0.396078 & 0.324366 & 0.960805 \\\\\n",
       "\\end{tabular}\n"
      ],
      "text/plain": [
       "\u001b[1m4×3 DataFrame\u001b[0m\n",
       "\u001b[1m Row \u001b[0m│\u001b[1m x2       \u001b[0m\u001b[1m x3       \u001b[0m\u001b[1m x4       \u001b[0m\n",
       "     │\u001b[90m Float64  \u001b[0m\u001b[90m Float64  \u001b[0m\u001b[90m Float64  \u001b[0m\n",
       "─────┼──────────────────────────────\n",
       "   1 │ 0.119983  0.890152  0.080374\n",
       "   2 │ 0.406497  0.38738   0.689486\n",
       "   3 │ 0.545932  0.886745  0.322568\n",
       "   4 │ 0.396078  0.324366  0.960805"
      ]
     },
     "execution_count": 33,
     "metadata": {},
     "output_type": "execute_result"
    }
   ],
   "source": [
    "x[:, Between(:x2, :x4)]"
   ]
  },
  {
   "cell_type": "code",
   "execution_count": 34,
   "metadata": {},
   "outputs": [
    {
     "data": {
      "text/html": [
       "<div><div style = \"float: left;\"><span>4×4 DataFrame</span></div><div style = \"clear: both;\"></div></div><div class = \"data-frame\" style = \"overflow-x: scroll;\"><table class = \"data-frame\" style = \"margin-bottom: 6px;\"><thead><tr class = \"header\"><th class = \"rowNumber\" style = \"font-weight: bold; text-align: right;\">Row</th><th style = \"text-align: left;\">x1</th><th style = \"text-align: left;\">x2</th><th style = \"text-align: left;\">x3</th><th style = \"text-align: left;\">x4</th></tr><tr class = \"subheader headerLastRow\"><th class = \"rowNumber\" style = \"font-weight: bold; text-align: right;\"></th><th title = \"Float64\" style = \"text-align: left;\">Float64</th><th title = \"Float64\" style = \"text-align: left;\">Float64</th><th title = \"Float64\" style = \"text-align: left;\">Float64</th><th title = \"Float64\" style = \"text-align: left;\">Float64</th></tr></thead><tbody><tr><td class = \"rowNumber\" style = \"font-weight: bold; text-align: right;\">1</td><td style = \"text-align: right;\">0.988168</td><td style = \"text-align: right;\">0.119983</td><td style = \"text-align: right;\">0.890152</td><td style = \"text-align: right;\">0.080374</td></tr><tr><td class = \"rowNumber\" style = \"font-weight: bold; text-align: right;\">2</td><td style = \"text-align: right;\">0.572305</td><td style = \"text-align: right;\">0.406497</td><td style = \"text-align: right;\">0.38738</td><td style = \"text-align: right;\">0.689486</td></tr><tr><td class = \"rowNumber\" style = \"font-weight: bold; text-align: right;\">3</td><td style = \"text-align: right;\">0.242977</td><td style = \"text-align: right;\">0.545932</td><td style = \"text-align: right;\">0.886745</td><td style = \"text-align: right;\">0.322568</td></tr><tr><td class = \"rowNumber\" style = \"font-weight: bold; text-align: right;\">4</td><td style = \"text-align: right;\">0.9556</td><td style = \"text-align: right;\">0.396078</td><td style = \"text-align: right;\">0.324366</td><td style = \"text-align: right;\">0.960805</td></tr></tbody></table></div>"
      ],
      "text/latex": [
       "\\begin{tabular}{r|cccc}\n",
       "\t& x1 & x2 & x3 & x4\\\\\n",
       "\t\\hline\n",
       "\t& Float64 & Float64 & Float64 & Float64\\\\\n",
       "\t\\hline\n",
       "\t1 & 0.988168 & 0.119983 & 0.890152 & 0.080374 \\\\\n",
       "\t2 & 0.572305 & 0.406497 & 0.38738 & 0.689486 \\\\\n",
       "\t3 & 0.242977 & 0.545932 & 0.886745 & 0.322568 \\\\\n",
       "\t4 & 0.9556 & 0.396078 & 0.324366 & 0.960805 \\\\\n",
       "\\end{tabular}\n"
      ],
      "text/plain": [
       "\u001b[1m4×4 DataFrame\u001b[0m\n",
       "\u001b[1m Row \u001b[0m│\u001b[1m x1       \u001b[0m\u001b[1m x2       \u001b[0m\u001b[1m x3       \u001b[0m\u001b[1m x4       \u001b[0m\n",
       "     │\u001b[90m Float64  \u001b[0m\u001b[90m Float64  \u001b[0m\u001b[90m Float64  \u001b[0m\u001b[90m Float64  \u001b[0m\n",
       "─────┼────────────────────────────────────────\n",
       "   1 │ 0.988168  0.119983  0.890152  0.080374\n",
       "   2 │ 0.572305  0.406497  0.38738   0.689486\n",
       "   3 │ 0.242977  0.545932  0.886745  0.322568\n",
       "   4 │ 0.9556    0.396078  0.324366  0.960805"
      ]
     },
     "execution_count": 34,
     "metadata": {},
     "output_type": "execute_result"
    }
   ],
   "source": [
    "x[:, Cols(\"x1\", Between(\"x2\", \"x4\"))]"
   ]
  },
  {
   "cell_type": "markdown",
   "metadata": {},
   "source": [
    "### Views"
   ]
  },
  {
   "cell_type": "markdown",
   "metadata": {},
   "source": [
    "You can simply create a view of a `DataFrame` (it is more efficient than creating a materialized selection). Here are the possible return value options."
   ]
  },
  {
   "cell_type": "code",
   "execution_count": 35,
   "metadata": {},
   "outputs": [
    {
     "data": {
      "text/plain": [
       "2-element view(::Vector{Float64}, 1:2) with eltype Float64:\n",
       " 0.9881684919698795\n",
       " 0.5723050158247027"
      ]
     },
     "execution_count": 35,
     "metadata": {},
     "output_type": "execute_result"
    }
   ],
   "source": [
    "@view x[1:2, 1]"
   ]
  },
  {
   "cell_type": "code",
   "execution_count": 36,
   "metadata": {},
   "outputs": [
    {
     "data": {
      "text/plain": [
       "0-dimensional view(::Vector{Float64}, 1) with eltype Float64:\n",
       "0.9881684919698795"
      ]
     },
     "execution_count": 36,
     "metadata": {},
     "output_type": "execute_result"
    }
   ],
   "source": [
    "@view x[1,1]"
   ]
  },
  {
   "cell_type": "code",
   "execution_count": 37,
   "metadata": {},
   "outputs": [
    {
     "data": {
      "text/html": [
       "<div><div style = \"float: left;\"><span>DataFrameRow (2 columns)</span></div><div style = \"clear: both;\"></div></div><div class = \"data-frame\" style = \"overflow-x: scroll;\"><table class = \"data-frame\" style = \"margin-bottom: 6px;\"><thead><tr class = \"header\"><th class = \"rowLabel\" style = \"font-weight: bold; text-align: right;\">Row</th><th style = \"text-align: left;\">x1</th><th style = \"text-align: left;\">x2</th></tr><tr class = \"subheader headerLastRow\"><th class = \"rowLabel\" style = \"font-weight: bold; text-align: right;\"></th><th title = \"Float64\" style = \"text-align: left;\">Float64</th><th title = \"Float64\" style = \"text-align: left;\">Float64</th></tr></thead><tbody><tr><td class = \"rowLabel\" style = \"font-weight: bold; text-align: right;\">1</td><td style = \"text-align: right;\">0.988168</td><td style = \"text-align: right;\">0.119983</td></tr></tbody></table></div>"
      ],
      "text/latex": [
       "\\begin{tabular}{r|cc}\n",
       "\t& x1 & x2\\\\\n",
       "\t\\hline\n",
       "\t& Float64 & Float64\\\\\n",
       "\t\\hline\n",
       "\t1 & 0.988168 & 0.119983 \\\\\n",
       "\\end{tabular}\n"
      ],
      "text/plain": [
       "\u001b[1mDataFrameRow\u001b[0m\n",
       "\u001b[1m Row \u001b[0m│\u001b[1m x1       \u001b[0m\u001b[1m x2       \u001b[0m\n",
       "     │\u001b[90m Float64  \u001b[0m\u001b[90m Float64  \u001b[0m\n",
       "─────┼────────────────────\n",
       "   1 │ 0.988168  0.119983"
      ]
     },
     "execution_count": 37,
     "metadata": {},
     "output_type": "execute_result"
    }
   ],
   "source": [
    "@view x[1, 1:2] # a DataFrameRow, the same as for x[1, 1:2] without a view"
   ]
  },
  {
   "cell_type": "code",
   "execution_count": 38,
   "metadata": {},
   "outputs": [
    {
     "data": {
      "text/html": [
       "<div><div style = \"float: left;\"><span>2×2 SubDataFrame</span></div><div style = \"clear: both;\"></div></div><div class = \"data-frame\" style = \"overflow-x: scroll;\"><table class = \"data-frame\" style = \"margin-bottom: 6px;\"><thead><tr class = \"header\"><th class = \"rowNumber\" style = \"font-weight: bold; text-align: right;\">Row</th><th style = \"text-align: left;\">x1</th><th style = \"text-align: left;\">x2</th></tr><tr class = \"subheader headerLastRow\"><th class = \"rowNumber\" style = \"font-weight: bold; text-align: right;\"></th><th title = \"Float64\" style = \"text-align: left;\">Float64</th><th title = \"Float64\" style = \"text-align: left;\">Float64</th></tr></thead><tbody><tr><td class = \"rowNumber\" style = \"font-weight: bold; text-align: right;\">1</td><td style = \"text-align: right;\">0.988168</td><td style = \"text-align: right;\">0.119983</td></tr><tr><td class = \"rowNumber\" style = \"font-weight: bold; text-align: right;\">2</td><td style = \"text-align: right;\">0.572305</td><td style = \"text-align: right;\">0.406497</td></tr></tbody></table></div>"
      ],
      "text/latex": [
       "\\begin{tabular}{r|cc}\n",
       "\t& x1 & x2\\\\\n",
       "\t\\hline\n",
       "\t& Float64 & Float64\\\\\n",
       "\t\\hline\n",
       "\t1 & 0.988168 & 0.119983 \\\\\n",
       "\t2 & 0.572305 & 0.406497 \\\\\n",
       "\\end{tabular}\n"
      ],
      "text/plain": [
       "\u001b[1m2×2 SubDataFrame\u001b[0m\n",
       "\u001b[1m Row \u001b[0m│\u001b[1m x1       \u001b[0m\u001b[1m x2       \u001b[0m\n",
       "     │\u001b[90m Float64  \u001b[0m\u001b[90m Float64  \u001b[0m\n",
       "─────┼────────────────────\n",
       "   1 │ 0.988168  0.119983\n",
       "   2 │ 0.572305  0.406497"
      ]
     },
     "execution_count": 38,
     "metadata": {},
     "output_type": "execute_result"
    }
   ],
   "source": [
    "@view x[1:2, 1:2] # a SubDataFrame"
   ]
  },
  {
   "cell_type": "markdown",
   "metadata": {},
   "source": [
    "### Adding new columns to a data frame"
   ]
  },
  {
   "cell_type": "code",
   "execution_count": 39,
   "metadata": {},
   "outputs": [
    {
     "data": {
      "text/html": [
       "<div><div style = \"float: left;\"><span>0×0 DataFrame</span></div><div style = \"clear: both;\"></div></div><div class = \"data-frame\" style = \"overflow-x: scroll;\"><table class = \"data-frame\" style = \"margin-bottom: 6px;\"></table></div>"
      ],
      "text/latex": [
       "\\begin{tabular}{r|}\n",
       "\t& \\\\\n",
       "\t\\hline\n",
       "\t& \\\\\n",
       "\t\\hline\n",
       "\\end{tabular}\n"
      ],
      "text/plain": [
       "\u001b[1m0×0 DataFrame\u001b[0m"
      ]
     },
     "execution_count": 39,
     "metadata": {},
     "output_type": "execute_result"
    }
   ],
   "source": [
    "df = DataFrame()"
   ]
  },
  {
   "cell_type": "markdown",
   "metadata": {},
   "source": [
    "using `setproperty!`"
   ]
  },
  {
   "cell_type": "code",
   "execution_count": 40,
   "metadata": {},
   "outputs": [
    {
     "data": {
      "text/html": [
       "<div><div style = \"float: left;\"><span>3×1 DataFrame</span></div><div style = \"clear: both;\"></div></div><div class = \"data-frame\" style = \"overflow-x: scroll;\"><table class = \"data-frame\" style = \"margin-bottom: 6px;\"><thead><tr class = \"header\"><th class = \"rowNumber\" style = \"font-weight: bold; text-align: right;\">Row</th><th style = \"text-align: left;\">a</th></tr><tr class = \"subheader headerLastRow\"><th class = \"rowNumber\" style = \"font-weight: bold; text-align: right;\"></th><th title = \"Int64\" style = \"text-align: left;\">Int64</th></tr></thead><tbody><tr><td class = \"rowNumber\" style = \"font-weight: bold; text-align: right;\">1</td><td style = \"text-align: right;\">1</td></tr><tr><td class = \"rowNumber\" style = \"font-weight: bold; text-align: right;\">2</td><td style = \"text-align: right;\">2</td></tr><tr><td class = \"rowNumber\" style = \"font-weight: bold; text-align: right;\">3</td><td style = \"text-align: right;\">3</td></tr></tbody></table></div>"
      ],
      "text/latex": [
       "\\begin{tabular}{r|c}\n",
       "\t& a\\\\\n",
       "\t\\hline\n",
       "\t& Int64\\\\\n",
       "\t\\hline\n",
       "\t1 & 1 \\\\\n",
       "\t2 & 2 \\\\\n",
       "\t3 & 3 \\\\\n",
       "\\end{tabular}\n"
      ],
      "text/plain": [
       "\u001b[1m3×1 DataFrame\u001b[0m\n",
       "\u001b[1m Row \u001b[0m│\u001b[1m a     \u001b[0m\n",
       "     │\u001b[90m Int64 \u001b[0m\n",
       "─────┼───────\n",
       "   1 │     1\n",
       "   2 │     2\n",
       "   3 │     3"
      ]
     },
     "execution_count": 40,
     "metadata": {},
     "output_type": "execute_result"
    }
   ],
   "source": [
    "x = [1, 2, 3]\n",
    "df.a = x\n",
    "df"
   ]
  },
  {
   "cell_type": "code",
   "execution_count": 41,
   "metadata": {},
   "outputs": [
    {
     "data": {
      "text/plain": [
       "true"
      ]
     },
     "execution_count": 41,
     "metadata": {},
     "output_type": "execute_result"
    }
   ],
   "source": [
    "df.a === x # no copy is performed"
   ]
  },
  {
   "cell_type": "markdown",
   "metadata": {},
   "source": [
    "using `setindex!`"
   ]
  },
  {
   "cell_type": "code",
   "execution_count": 42,
   "metadata": {},
   "outputs": [
    {
     "data": {
      "text/html": [
       "<div><div style = \"float: left;\"><span>3×3 DataFrame</span></div><div style = \"clear: both;\"></div></div><div class = \"data-frame\" style = \"overflow-x: scroll;\"><table class = \"data-frame\" style = \"margin-bottom: 6px;\"><thead><tr class = \"header\"><th class = \"rowNumber\" style = \"font-weight: bold; text-align: right;\">Row</th><th style = \"text-align: left;\">a</th><th style = \"text-align: left;\">b</th><th style = \"text-align: left;\">c</th></tr><tr class = \"subheader headerLastRow\"><th class = \"rowNumber\" style = \"font-weight: bold; text-align: right;\"></th><th title = \"Int64\" style = \"text-align: left;\">Int64</th><th title = \"Int64\" style = \"text-align: left;\">Int64</th><th title = \"Int64\" style = \"text-align: left;\">Int64</th></tr></thead><tbody><tr><td class = \"rowNumber\" style = \"font-weight: bold; text-align: right;\">1</td><td style = \"text-align: right;\">1</td><td style = \"text-align: right;\">1</td><td style = \"text-align: right;\">1</td></tr><tr><td class = \"rowNumber\" style = \"font-weight: bold; text-align: right;\">2</td><td style = \"text-align: right;\">2</td><td style = \"text-align: right;\">2</td><td style = \"text-align: right;\">2</td></tr><tr><td class = \"rowNumber\" style = \"font-weight: bold; text-align: right;\">3</td><td style = \"text-align: right;\">3</td><td style = \"text-align: right;\">3</td><td style = \"text-align: right;\">3</td></tr></tbody></table></div>"
      ],
      "text/latex": [
       "\\begin{tabular}{r|ccc}\n",
       "\t& a & b & c\\\\\n",
       "\t\\hline\n",
       "\t& Int64 & Int64 & Int64\\\\\n",
       "\t\\hline\n",
       "\t1 & 1 & 1 & 1 \\\\\n",
       "\t2 & 2 & 2 & 2 \\\\\n",
       "\t3 & 3 & 3 & 3 \\\\\n",
       "\\end{tabular}\n"
      ],
      "text/plain": [
       "\u001b[1m3×3 DataFrame\u001b[0m\n",
       "\u001b[1m Row \u001b[0m│\u001b[1m a     \u001b[0m\u001b[1m b     \u001b[0m\u001b[1m c     \u001b[0m\n",
       "     │\u001b[90m Int64 \u001b[0m\u001b[90m Int64 \u001b[0m\u001b[90m Int64 \u001b[0m\n",
       "─────┼─────────────────────\n",
       "   1 │     1      1      1\n",
       "   2 │     2      2      2\n",
       "   3 │     3      3      3"
      ]
     },
     "execution_count": 42,
     "metadata": {},
     "output_type": "execute_result"
    }
   ],
   "source": [
    "df[!, :b] = x\n",
    "df[:, :c] = x\n",
    "df"
   ]
  },
  {
   "cell_type": "code",
   "execution_count": 43,
   "metadata": {},
   "outputs": [
    {
     "data": {
      "text/plain": [
       "true"
      ]
     },
     "execution_count": 43,
     "metadata": {},
     "output_type": "execute_result"
    }
   ],
   "source": [
    "df.b === x # no copy"
   ]
  },
  {
   "cell_type": "code",
   "execution_count": 44,
   "metadata": {},
   "outputs": [
    {
     "data": {
      "text/plain": [
       "false"
      ]
     },
     "execution_count": 44,
     "metadata": {},
     "output_type": "execute_result"
    }
   ],
   "source": [
    "df.c === x # copy"
   ]
  },
  {
   "cell_type": "code",
   "execution_count": 45,
   "metadata": {},
   "outputs": [
    {
     "data": {
      "text/html": [
       "<div><div style = \"float: left;\"><span>3×5 DataFrame</span></div><div style = \"clear: both;\"></div></div><div class = \"data-frame\" style = \"overflow-x: scroll;\"><table class = \"data-frame\" style = \"margin-bottom: 6px;\"><thead><tr class = \"header\"><th class = \"rowNumber\" style = \"font-weight: bold; text-align: right;\">Row</th><th style = \"text-align: left;\">a</th><th style = \"text-align: left;\">b</th><th style = \"text-align: left;\">c</th><th style = \"text-align: left;\">d</th><th style = \"text-align: left;\">e</th></tr><tr class = \"subheader headerLastRow\"><th class = \"rowNumber\" style = \"font-weight: bold; text-align: right;\"></th><th title = \"Int64\" style = \"text-align: left;\">Int64</th><th title = \"Int64\" style = \"text-align: left;\">Int64</th><th title = \"Int64\" style = \"text-align: left;\">Int64</th><th title = \"Int64\" style = \"text-align: left;\">Int64</th><th title = \"Int64\" style = \"text-align: left;\">Int64</th></tr></thead><tbody><tr><td class = \"rowNumber\" style = \"font-weight: bold; text-align: right;\">1</td><td style = \"text-align: right;\">1</td><td style = \"text-align: right;\">1</td><td style = \"text-align: right;\">1</td><td style = \"text-align: right;\">1</td><td style = \"text-align: right;\">1</td></tr><tr><td class = \"rowNumber\" style = \"font-weight: bold; text-align: right;\">2</td><td style = \"text-align: right;\">2</td><td style = \"text-align: right;\">2</td><td style = \"text-align: right;\">2</td><td style = \"text-align: right;\">2</td><td style = \"text-align: right;\">2</td></tr><tr><td class = \"rowNumber\" style = \"font-weight: bold; text-align: right;\">3</td><td style = \"text-align: right;\">3</td><td style = \"text-align: right;\">3</td><td style = \"text-align: right;\">3</td><td style = \"text-align: right;\">3</td><td style = \"text-align: right;\">3</td></tr></tbody></table></div>"
      ],
      "text/latex": [
       "\\begin{tabular}{r|ccccc}\n",
       "\t& a & b & c & d & e\\\\\n",
       "\t\\hline\n",
       "\t& Int64 & Int64 & Int64 & Int64 & Int64\\\\\n",
       "\t\\hline\n",
       "\t1 & 1 & 1 & 1 & 1 & 1 \\\\\n",
       "\t2 & 2 & 2 & 2 & 2 & 2 \\\\\n",
       "\t3 & 3 & 3 & 3 & 3 & 3 \\\\\n",
       "\\end{tabular}\n"
      ],
      "text/plain": [
       "\u001b[1m3×5 DataFrame\u001b[0m\n",
       "\u001b[1m Row \u001b[0m│\u001b[1m a     \u001b[0m\u001b[1m b     \u001b[0m\u001b[1m c     \u001b[0m\u001b[1m d     \u001b[0m\u001b[1m e     \u001b[0m\n",
       "     │\u001b[90m Int64 \u001b[0m\u001b[90m Int64 \u001b[0m\u001b[90m Int64 \u001b[0m\u001b[90m Int64 \u001b[0m\u001b[90m Int64 \u001b[0m\n",
       "─────┼───────────────────────────────────\n",
       "   1 │     1      1      1      1      1\n",
       "   2 │     2      2      2      2      2\n",
       "   3 │     3      3      3      3      3"
      ]
     },
     "execution_count": 45,
     "metadata": {},
     "output_type": "execute_result"
    }
   ],
   "source": [
    "df[!, :d] .= x\n",
    "df[:, :e] .= x\n",
    "df"
   ]
  },
  {
   "cell_type": "code",
   "execution_count": 46,
   "metadata": {},
   "outputs": [
    {
     "data": {
      "text/plain": [
       "(false, false)"
      ]
     },
     "execution_count": 46,
     "metadata": {},
     "output_type": "execute_result"
    }
   ],
   "source": [
    "df.d === x, df.e === x # both copy, so in this case `!` and `:` has the same effect"
   ]
  },
  {
   "cell_type": "markdown",
   "metadata": {},
   "source": [
    "note that in our data frame columns `:a` and `:b` store the vector `x` (not a copy)"
   ]
  },
  {
   "cell_type": "code",
   "execution_count": 47,
   "metadata": {},
   "outputs": [
    {
     "data": {
      "text/plain": [
       "true"
      ]
     },
     "execution_count": 47,
     "metadata": {},
     "output_type": "execute_result"
    }
   ],
   "source": [
    "df.a === df.b === x"
   ]
  },
  {
   "cell_type": "markdown",
   "metadata": {},
   "source": [
    "This can lead to silent errors. For example this code leads to a bug (note that calling `pairs` on `eachcol(df)` creates an iterator of (column name, column) pairs):"
   ]
  },
  {
   "cell_type": "code",
   "execution_count": 48,
   "metadata": {},
   "outputs": [
    {
     "name": "stdout",
     "output_type": "stream",
     "text": [
      "a: 3\n",
      "b: 2\n",
      "c: 3\n",
      "d: 3\n",
      "e: 3\n"
     ]
    }
   ],
   "source": [
    "for (n, c) in pairs(eachcol(df))\n",
    "    println(\"$n: \", pop!(c))\n",
    "end"
   ]
  },
  {
   "cell_type": "markdown",
   "metadata": {},
   "source": [
    "note that for column `:b` we printed `2` as `3` was removed from it when we used `pop!` on column `:a`."
   ]
  },
  {
   "cell_type": "markdown",
   "metadata": {},
   "source": [
    "Such mistakes sometimes happen. Because of this DataFrames.jl performs consistency checks before doing an expensive operation (most notably before showing a data frame)."
   ]
  },
  {
   "cell_type": "code",
   "execution_count": 49,
   "metadata": {},
   "outputs": [
    {
     "ename": "AssertionError",
     "evalue": "AssertionError: Data frame is corrupt: length of column :c (2) does not match length of column 1 (1). The column vector has likely been resized unintentionally (either directly or because it is shared with another data frame).",
     "output_type": "error",
     "traceback": [
      "AssertionError: Data frame is corrupt: length of column :c (2) does not match length of column 1 (1). The column vector has likely been resized unintentionally (either directly or because it is shared with another data frame).",
      "",
      "Stacktrace:",
      "  [1] _check_consistency(df::DataFrame)",
      "    @ DataFrames C:\\Users\\bogum\\.julia\\packages\\DataFrames\\LteEl\\src\\dataframe\\dataframe.jl:486",
      "  [2] _show(io::IOContext{IOBuffer}, df::DataFrame; allrows::Bool, allcols::Bool, rowlabel::Symbol, summary::Bool, eltypes::Bool, rowid::Nothing, truncate::Int64, kwargs::Base.Pairs{Symbol, Union{}, Tuple{}, NamedTuple{(), Tuple{}}})",
      "    @ DataFrames C:\\Users\\bogum\\.julia\\packages\\DataFrames\\LteEl\\src\\abstractdataframe\\show.jl:158",
      "  [3] #show#837",
      "    @ C:\\Users\\bogum\\.julia\\packages\\DataFrames\\LteEl\\src\\abstractdataframe\\show.jl:349 [inlined]",
      "  [4] show(io::IOContext{IOBuffer}, df::DataFrame)",
      "    @ DataFrames C:\\Users\\bogum\\.julia\\packages\\DataFrames\\LteEl\\src\\abstractdataframe\\show.jl:336",
      "  [5] #show#863",
      "    @ C:\\Users\\bogum\\.julia\\packages\\DataFrames\\LteEl\\src\\abstractdataframe\\io.jl:150 [inlined]",
      "  [6] show",
      "    @ C:\\Users\\bogum\\.julia\\packages\\DataFrames\\LteEl\\src\\abstractdataframe\\io.jl:150 [inlined]",
      "  [7] limitstringmime(mime::MIME{Symbol(\"text/plain\")}, x::DataFrame)",
      "    @ IJulia C:\\Users\\bogum\\.julia\\packages\\IJulia\\6TIq1\\src\\inline.jl:43",
      "  [8] display_mimestring",
      "    @ C:\\Users\\bogum\\.julia\\packages\\IJulia\\6TIq1\\src\\display.jl:71 [inlined]",
      "  [9] display_dict(x::DataFrame)",
      "    @ IJulia C:\\Users\\bogum\\.julia\\packages\\IJulia\\6TIq1\\src\\display.jl:102",
      " [10] #invokelatest#2",
      "    @ .\\essentials.jl:816 [inlined]",
      " [11] invokelatest",
      "    @ .\\essentials.jl:813 [inlined]",
      " [12] execute_request(socket::ZMQ.Socket, msg::IJulia.Msg)",
      "    @ IJulia C:\\Users\\bogum\\.julia\\packages\\IJulia\\6TIq1\\src\\execute_request.jl:112",
      " [13] #invokelatest#2",
      "    @ .\\essentials.jl:816 [inlined]",
      " [14] invokelatest",
      "    @ .\\essentials.jl:813 [inlined]",
      " [15] eventloop(socket::ZMQ.Socket)",
      "    @ IJulia C:\\Users\\bogum\\.julia\\packages\\IJulia\\6TIq1\\src\\eventloop.jl:8",
      " [16] (::IJulia.var\"#15#18\")()",
      "    @ IJulia .\\task.jl:514"
     ]
    }
   ],
   "source": [
    "df"
   ]
  },
  {
   "cell_type": "markdown",
   "metadata": {},
   "source": [
    "We can investigate the columns to find out what happend:"
   ]
  },
  {
   "cell_type": "code",
   "execution_count": 50,
   "metadata": {},
   "outputs": [
    {
     "data": {
      "text/plain": [
       "5-element Vector{Pair{Symbol, AbstractVector}}:\n",
       " :a => [1]\n",
       " :b => [1]\n",
       " :c => [1, 2]\n",
       " :d => [1, 2]\n",
       " :e => [1, 2]"
      ]
     },
     "execution_count": 50,
     "metadata": {},
     "output_type": "execute_result"
    }
   ],
   "source": [
    "collect(pairs(eachcol(df)))"
   ]
  },
  {
   "cell_type": "markdown",
   "metadata": {},
   "source": [
    "The output confirms that the data frame `df` got corrupted."
   ]
  },
  {
   "cell_type": "markdown",
   "metadata": {},
   "source": [
    "DataFrames.jl supports a complete set of `getindex`, `getproperty`, `setindex!`, `setproperty!`, `view`, broadcasting, and broadcasting assignment operations. The details are explained here: http://juliadata.github.io/DataFrames.jl/latest/lib/indexing/."
   ]
  },
  {
   "cell_type": "markdown",
   "metadata": {},
   "source": [
    "### Comparisons"
   ]
  },
  {
   "cell_type": "code",
   "execution_count": 51,
   "metadata": {},
   "outputs": [],
   "source": [
    "using DataFrames"
   ]
  },
  {
   "cell_type": "code",
   "execution_count": 52,
   "metadata": {},
   "outputs": [
    {
     "data": {
      "text/html": [
       "<div><div style = \"float: left;\"><span>2×3 DataFrame</span></div><div style = \"clear: both;\"></div></div><div class = \"data-frame\" style = \"overflow-x: scroll;\"><table class = \"data-frame\" style = \"margin-bottom: 6px;\"><thead><tr class = \"header\"><th class = \"rowNumber\" style = \"font-weight: bold; text-align: right;\">Row</th><th style = \"text-align: left;\">x1</th><th style = \"text-align: left;\">x2</th><th style = \"text-align: left;\">x3</th></tr><tr class = \"subheader headerLastRow\"><th class = \"rowNumber\" style = \"font-weight: bold; text-align: right;\"></th><th title = \"Float64\" style = \"text-align: left;\">Float64</th><th title = \"Float64\" style = \"text-align: left;\">Float64</th><th title = \"Float64\" style = \"text-align: left;\">Float64</th></tr></thead><tbody><tr><td class = \"rowNumber\" style = \"font-weight: bold; text-align: right;\">1</td><td style = \"text-align: right;\">0.139428</td><td style = \"text-align: right;\">0.118207</td><td style = \"text-align: right;\">0.342989</td></tr><tr><td class = \"rowNumber\" style = \"font-weight: bold; text-align: right;\">2</td><td style = \"text-align: right;\">0.239564</td><td style = \"text-align: right;\">0.309937</td><td style = \"text-align: right;\">0.737829</td></tr></tbody></table></div>"
      ],
      "text/latex": [
       "\\begin{tabular}{r|ccc}\n",
       "\t& x1 & x2 & x3\\\\\n",
       "\t\\hline\n",
       "\t& Float64 & Float64 & Float64\\\\\n",
       "\t\\hline\n",
       "\t1 & 0.139428 & 0.118207 & 0.342989 \\\\\n",
       "\t2 & 0.239564 & 0.309937 & 0.737829 \\\\\n",
       "\\end{tabular}\n"
      ],
      "text/plain": [
       "\u001b[1m2×3 DataFrame\u001b[0m\n",
       "\u001b[1m Row \u001b[0m│\u001b[1m x1       \u001b[0m\u001b[1m x2       \u001b[0m\u001b[1m x3       \u001b[0m\n",
       "     │\u001b[90m Float64  \u001b[0m\u001b[90m Float64  \u001b[0m\u001b[90m Float64  \u001b[0m\n",
       "─────┼──────────────────────────────\n",
       "   1 │ 0.139428  0.118207  0.342989\n",
       "   2 │ 0.239564  0.309937  0.737829"
      ]
     },
     "execution_count": 52,
     "metadata": {},
     "output_type": "execute_result"
    }
   ],
   "source": [
    "df = DataFrame(rand(2,3), :auto)"
   ]
  },
  {
   "cell_type": "code",
   "execution_count": 53,
   "metadata": {},
   "outputs": [
    {
     "data": {
      "text/html": [
       "<div><div style = \"float: left;\"><span>2×3 DataFrame</span></div><div style = \"clear: both;\"></div></div><div class = \"data-frame\" style = \"overflow-x: scroll;\"><table class = \"data-frame\" style = \"margin-bottom: 6px;\"><thead><tr class = \"header\"><th class = \"rowNumber\" style = \"font-weight: bold; text-align: right;\">Row</th><th style = \"text-align: left;\">x1</th><th style = \"text-align: left;\">x2</th><th style = \"text-align: left;\">x3</th></tr><tr class = \"subheader headerLastRow\"><th class = \"rowNumber\" style = \"font-weight: bold; text-align: right;\"></th><th title = \"Float64\" style = \"text-align: left;\">Float64</th><th title = \"Float64\" style = \"text-align: left;\">Float64</th><th title = \"Float64\" style = \"text-align: left;\">Float64</th></tr></thead><tbody><tr><td class = \"rowNumber\" style = \"font-weight: bold; text-align: right;\">1</td><td style = \"text-align: right;\">0.139428</td><td style = \"text-align: right;\">0.118207</td><td style = \"text-align: right;\">0.342989</td></tr><tr><td class = \"rowNumber\" style = \"font-weight: bold; text-align: right;\">2</td><td style = \"text-align: right;\">0.239564</td><td style = \"text-align: right;\">0.309937</td><td style = \"text-align: right;\">0.737829</td></tr></tbody></table></div>"
      ],
      "text/latex": [
       "\\begin{tabular}{r|ccc}\n",
       "\t& x1 & x2 & x3\\\\\n",
       "\t\\hline\n",
       "\t& Float64 & Float64 & Float64\\\\\n",
       "\t\\hline\n",
       "\t1 & 0.139428 & 0.118207 & 0.342989 \\\\\n",
       "\t2 & 0.239564 & 0.309937 & 0.737829 \\\\\n",
       "\\end{tabular}\n"
      ],
      "text/plain": [
       "\u001b[1m2×3 DataFrame\u001b[0m\n",
       "\u001b[1m Row \u001b[0m│\u001b[1m x1       \u001b[0m\u001b[1m x2       \u001b[0m\u001b[1m x3       \u001b[0m\n",
       "     │\u001b[90m Float64  \u001b[0m\u001b[90m Float64  \u001b[0m\u001b[90m Float64  \u001b[0m\n",
       "─────┼──────────────────────────────\n",
       "   1 │ 0.139428  0.118207  0.342989\n",
       "   2 │ 0.239564  0.309937  0.737829"
      ]
     },
     "execution_count": 53,
     "metadata": {},
     "output_type": "execute_result"
    }
   ],
   "source": [
    "df2 = copy(df)"
   ]
  },
  {
   "cell_type": "code",
   "execution_count": 54,
   "metadata": {},
   "outputs": [
    {
     "data": {
      "text/plain": [
       "true"
      ]
     },
     "execution_count": 54,
     "metadata": {},
     "output_type": "execute_result"
    }
   ],
   "source": [
    "df == df2 # compares column names and contents"
   ]
  },
  {
   "cell_type": "markdown",
   "metadata": {},
   "source": [
    "create a minimally different data frame and use `isapprox` for comparison"
   ]
  },
  {
   "cell_type": "code",
   "execution_count": 55,
   "metadata": {},
   "outputs": [
    {
     "data": {
      "text/html": [
       "<div><div style = \"float: left;\"><span>2×3 DataFrame</span></div><div style = \"clear: both;\"></div></div><div class = \"data-frame\" style = \"overflow-x: scroll;\"><table class = \"data-frame\" style = \"margin-bottom: 6px;\"><thead><tr class = \"header\"><th class = \"rowNumber\" style = \"font-weight: bold; text-align: right;\">Row</th><th style = \"text-align: left;\">x1</th><th style = \"text-align: left;\">x2</th><th style = \"text-align: left;\">x3</th></tr><tr class = \"subheader headerLastRow\"><th class = \"rowNumber\" style = \"font-weight: bold; text-align: right;\"></th><th title = \"Float64\" style = \"text-align: left;\">Float64</th><th title = \"Float64\" style = \"text-align: left;\">Float64</th><th title = \"Float64\" style = \"text-align: left;\">Float64</th></tr></thead><tbody><tr><td class = \"rowNumber\" style = \"font-weight: bold; text-align: right;\">1</td><td style = \"text-align: right;\">0.139428</td><td style = \"text-align: right;\">0.118207</td><td style = \"text-align: right;\">0.342989</td></tr><tr><td class = \"rowNumber\" style = \"font-weight: bold; text-align: right;\">2</td><td style = \"text-align: right;\">0.239564</td><td style = \"text-align: right;\">0.309937</td><td style = \"text-align: right;\">0.737829</td></tr></tbody></table></div>"
      ],
      "text/latex": [
       "\\begin{tabular}{r|ccc}\n",
       "\t& x1 & x2 & x3\\\\\n",
       "\t\\hline\n",
       "\t& Float64 & Float64 & Float64\\\\\n",
       "\t\\hline\n",
       "\t1 & 0.139428 & 0.118207 & 0.342989 \\\\\n",
       "\t2 & 0.239564 & 0.309937 & 0.737829 \\\\\n",
       "\\end{tabular}\n"
      ],
      "text/plain": [
       "\u001b[1m2×3 DataFrame\u001b[0m\n",
       "\u001b[1m Row \u001b[0m│\u001b[1m x1       \u001b[0m\u001b[1m x2       \u001b[0m\u001b[1m x3       \u001b[0m\n",
       "     │\u001b[90m Float64  \u001b[0m\u001b[90m Float64  \u001b[0m\u001b[90m Float64  \u001b[0m\n",
       "─────┼──────────────────────────────\n",
       "   1 │ 0.139428  0.118207  0.342989\n",
       "   2 │ 0.239564  0.309937  0.737829"
      ]
     },
     "execution_count": 55,
     "metadata": {},
     "output_type": "execute_result"
    }
   ],
   "source": [
    "df3 = df2 .+ eps()"
   ]
  },
  {
   "cell_type": "code",
   "execution_count": 56,
   "metadata": {},
   "outputs": [
    {
     "data": {
      "text/plain": [
       "false"
      ]
     },
     "execution_count": 56,
     "metadata": {},
     "output_type": "execute_result"
    }
   ],
   "source": [
    "df == df3"
   ]
  },
  {
   "cell_type": "code",
   "execution_count": 57,
   "metadata": {},
   "outputs": [
    {
     "data": {
      "text/plain": [
       "true"
      ]
     },
     "execution_count": 57,
     "metadata": {},
     "output_type": "execute_result"
    }
   ],
   "source": [
    "isapprox(df, df3)"
   ]
  },
  {
   "cell_type": "code",
   "execution_count": 58,
   "metadata": {},
   "outputs": [
    {
     "data": {
      "text/plain": [
       "false"
      ]
     },
     "execution_count": 58,
     "metadata": {},
     "output_type": "execute_result"
    }
   ],
   "source": [
    "isapprox(df, df3, atol = eps()/2)"
   ]
  },
  {
   "cell_type": "markdown",
   "metadata": {},
   "source": [
    "`missings` are handled as in Julia Base"
   ]
  },
  {
   "cell_type": "code",
   "execution_count": 59,
   "metadata": {},
   "outputs": [
    {
     "data": {
      "text/html": [
       "<div><div style = \"float: left;\"><span>1×1 DataFrame</span></div><div style = \"clear: both;\"></div></div><div class = \"data-frame\" style = \"overflow-x: scroll;\"><table class = \"data-frame\" style = \"margin-bottom: 6px;\"><thead><tr class = \"header\"><th class = \"rowNumber\" style = \"font-weight: bold; text-align: right;\">Row</th><th style = \"text-align: left;\">a</th></tr><tr class = \"subheader headerLastRow\"><th class = \"rowNumber\" style = \"font-weight: bold; text-align: right;\"></th><th title = \"Missing\" style = \"text-align: left;\">Missing</th></tr></thead><tbody><tr><td class = \"rowNumber\" style = \"font-weight: bold; text-align: right;\">1</td><td style = \"font-style: italic; text-align: right;\">missing</td></tr></tbody></table></div>"
      ],
      "text/latex": [
       "\\begin{tabular}{r|c}\n",
       "\t& a\\\\\n",
       "\t\\hline\n",
       "\t& Missing\\\\\n",
       "\t\\hline\n",
       "\t1 & \\emph{missing} \\\\\n",
       "\\end{tabular}\n"
      ],
      "text/plain": [
       "\u001b[1m1×1 DataFrame\u001b[0m\n",
       "\u001b[1m Row \u001b[0m│\u001b[1m a       \u001b[0m\n",
       "     │\u001b[90m Missing \u001b[0m\n",
       "─────┼─────────\n",
       "   1 │\u001b[90m missing \u001b[0m"
      ]
     },
     "execution_count": 59,
     "metadata": {},
     "output_type": "execute_result"
    }
   ],
   "source": [
    "df = DataFrame(a=missing)"
   ]
  },
  {
   "cell_type": "code",
   "execution_count": 60,
   "metadata": {},
   "outputs": [
    {
     "data": {
      "text/plain": [
       "missing"
      ]
     },
     "execution_count": 60,
     "metadata": {},
     "output_type": "execute_result"
    }
   ],
   "source": [
    "df == df"
   ]
  },
  {
   "cell_type": "code",
   "execution_count": 61,
   "metadata": {},
   "outputs": [
    {
     "data": {
      "text/plain": [
       "true"
      ]
     },
     "execution_count": 61,
     "metadata": {},
     "output_type": "execute_result"
    }
   ],
   "source": [
    "df === df"
   ]
  },
  {
   "cell_type": "code",
   "execution_count": 62,
   "metadata": {},
   "outputs": [
    {
     "data": {
      "text/plain": [
       "true"
      ]
     },
     "execution_count": 62,
     "metadata": {},
     "output_type": "execute_result"
    }
   ],
   "source": [
    "isequal(df, df)"
   ]
  },
  {
   "cell_type": "markdown",
   "metadata": {},
   "source": [
    "# Metadata support"
   ]
  },
  {
   "cell_type": "markdown",
   "metadata": {},
   "source": [
    "You can attach and retrieve metadata on table-level and column-level of a data frame as key-value pairs."
   ]
  },
  {
   "cell_type": "markdown",
   "metadata": {},
   "source": [
    "The most important functions you can use are:\n",
    "* `metadata`: get table-level metadata\n",
    "* `metadata!`: set table-level metadata\n",
    "* `colmetadata`: set table-level metadata\n",
    "* `colmetadata!`: set table-level metadata"
   ]
  },
  {
   "cell_type": "markdown",
   "metadata": {},
   "source": [
    "Additionally each metadata key-value pair has a style information attached to it. In DataFrames.jl the metadata style influences how metadata is propagated when df is transformed. In general currently two styles are supported:\n",
    "* `:default` - no propagation under transformations\n",
    "* `:note` - metadata is preserved under transformations"
   ]
  },
  {
   "cell_type": "markdown",
   "metadata": {},
   "source": [
    "Here is their example usage"
   ]
  },
  {
   "cell_type": "code",
   "execution_count": 63,
   "metadata": {},
   "outputs": [
    {
     "data": {
      "text/html": [
       "<div><div style = \"float: left;\"><span>3×2 DataFrame</span></div><div style = \"clear: both;\"></div></div><div class = \"data-frame\" style = \"overflow-x: scroll;\"><table class = \"data-frame\" style = \"margin-bottom: 6px;\"><thead><tr class = \"header\"><th class = \"rowNumber\" style = \"font-weight: bold; text-align: right;\">Row</th><th style = \"text-align: left;\">date</th><th style = \"text-align: left;\">sales</th></tr><tr class = \"subheader headerLastRow\"><th class = \"rowNumber\" style = \"font-weight: bold; text-align: right;\"></th><th title = \"Int64\" style = \"text-align: left;\">Int64</th><th title = \"Int64\" style = \"text-align: left;\">Int64</th></tr></thead><tbody><tr><td class = \"rowNumber\" style = \"font-weight: bold; text-align: right;\">1</td><td style = \"text-align: right;\">2011</td><td style = \"text-align: right;\">12</td></tr><tr><td class = \"rowNumber\" style = \"font-weight: bold; text-align: right;\">2</td><td style = \"text-align: right;\">2012</td><td style = \"text-align: right;\">14</td></tr><tr><td class = \"rowNumber\" style = \"font-weight: bold; text-align: right;\">3</td><td style = \"text-align: right;\">2013</td><td style = \"text-align: right;\">13</td></tr></tbody></table></div>"
      ],
      "text/latex": [
       "\\begin{tabular}{r|cc}\n",
       "\t& date & sales\\\\\n",
       "\t\\hline\n",
       "\t& Int64 & Int64\\\\\n",
       "\t\\hline\n",
       "\t1 & 2011 & 12 \\\\\n",
       "\t2 & 2012 & 14 \\\\\n",
       "\t3 & 2013 & 13 \\\\\n",
       "\\end{tabular}\n"
      ],
      "text/plain": [
       "\u001b[1m3×2 DataFrame\u001b[0m\n",
       "\u001b[1m Row \u001b[0m│\u001b[1m date  \u001b[0m\u001b[1m sales \u001b[0m\n",
       "     │\u001b[90m Int64 \u001b[0m\u001b[90m Int64 \u001b[0m\n",
       "─────┼──────────────\n",
       "   1 │  2011     12\n",
       "   2 │  2012     14\n",
       "   3 │  2013     13"
      ]
     },
     "execution_count": 63,
     "metadata": {},
     "output_type": "execute_result"
    }
   ],
   "source": [
    "df = DataFrame(date=[2011, 2012, 2013], sales=[12, 14, 13])"
   ]
  },
  {
   "cell_type": "code",
   "execution_count": 64,
   "metadata": {},
   "outputs": [
    {
     "data": {
      "text/html": [
       "<div><div style = \"float: left;\"><span>3×2 DataFrame</span></div><div style = \"clear: both;\"></div></div><div class = \"data-frame\" style = \"overflow-x: scroll;\"><table class = \"data-frame\" style = \"margin-bottom: 6px;\"><thead><tr class = \"header\"><th class = \"rowNumber\" style = \"font-weight: bold; text-align: right;\">Row</th><th style = \"text-align: left;\">date</th><th style = \"text-align: left;\">sales</th></tr><tr class = \"subheader headerLastRow\"><th class = \"rowNumber\" style = \"font-weight: bold; text-align: right;\"></th><th title = \"Int64\" style = \"text-align: left;\">Int64</th><th title = \"Int64\" style = \"text-align: left;\">Int64</th></tr></thead><tbody><tr><td class = \"rowNumber\" style = \"font-weight: bold; text-align: right;\">1</td><td style = \"text-align: right;\">2011</td><td style = \"text-align: right;\">12</td></tr><tr><td class = \"rowNumber\" style = \"font-weight: bold; text-align: right;\">2</td><td style = \"text-align: right;\">2012</td><td style = \"text-align: right;\">14</td></tr><tr><td class = \"rowNumber\" style = \"font-weight: bold; text-align: right;\">3</td><td style = \"text-align: right;\">2013</td><td style = \"text-align: right;\">13</td></tr></tbody></table></div>"
      ],
      "text/latex": [
       "\\begin{tabular}{r|cc}\n",
       "\t& date & sales\\\\\n",
       "\t\\hline\n",
       "\t& Int64 & Int64\\\\\n",
       "\t\\hline\n",
       "\t1 & 2011 & 12 \\\\\n",
       "\t2 & 2012 & 14 \\\\\n",
       "\t3 & 2013 & 13 \\\\\n",
       "\\end{tabular}\n"
      ],
      "text/plain": [
       "\u001b[1m3×2 DataFrame\u001b[0m\n",
       "\u001b[1m Row \u001b[0m│\u001b[1m date  \u001b[0m\u001b[1m sales \u001b[0m\n",
       "     │\u001b[90m Int64 \u001b[0m\u001b[90m Int64 \u001b[0m\n",
       "─────┼──────────────\n",
       "   1 │  2011     12\n",
       "   2 │  2012     14\n",
       "   3 │  2013     13"
      ]
     },
     "execution_count": 64,
     "metadata": {},
     "output_type": "execute_result"
    }
   ],
   "source": [
    "metadata!(df, \"title\", \"Sales data for company ABC\", style=:note)\n",
    "colmetadata!(df, :date, \"label\", \"Fiscal year\", style=:note)\n",
    "colmetadata!(df, :sales, \"label\", \"Sales in units\", style=:note)"
   ]
  },
  {
   "cell_type": "code",
   "execution_count": 65,
   "metadata": {},
   "outputs": [
    {
     "data": {
      "text/html": [
       "<div><div style = \"float: left;\"><span>Sales data for company ABC</span></div><div style = \"clear: both;\"></div></div><div class = \"data-frame\" style = \"overflow-x: scroll;\"><table class = \"data-frame\" style = \"margin-bottom: 6px;\"><thead><tr class = \"header headerLastRow\"><th class = \"rowNumber\" style = \"font-weight: bold; text-align: right;\">Row</th><th style = \"text-align: left;\">Fiscal year</th><th style = \"text-align: left;\">Sales in units</th></tr></thead><tbody><tr><td class = \"rowNumber\" style = \"font-weight: bold; text-align: right;\">1</td><td style = \"text-align: right;\">2011</td><td style = \"text-align: right;\">12</td></tr><tr><td class = \"rowNumber\" style = \"font-weight: bold; text-align: right;\">2</td><td style = \"text-align: right;\">2012</td><td style = \"text-align: right;\">14</td></tr><tr><td class = \"rowNumber\" style = \"font-weight: bold; text-align: right;\">3</td><td style = \"text-align: right;\">2013</td><td style = \"text-align: right;\">13</td></tr></tbody></table></div>"
      ]
     },
     "metadata": {},
     "output_type": "display_data"
    }
   ],
   "source": [
    "show(stdout, MIME(\"text/html\"), df, header=colmetadata.(Ref(df), 1:ncol(df), \"label\"), top_left_str=metadata(df, \"title\"))"
   ]
  },
  {
   "cell_type": "code",
   "execution_count": 66,
   "metadata": {},
   "outputs": [],
   "source": [
    "using Plots"
   ]
  },
  {
   "cell_type": "code",
   "execution_count": 67,
   "metadata": {},
   "outputs": [
    {
     "data": {
      "image/svg+xml": [
       "<?xml version=\"1.0\" encoding=\"utf-8\"?>\n",
       "<svg xmlns=\"http://www.w3.org/2000/svg\" xmlns:xlink=\"http://www.w3.org/1999/xlink\" width=\"600\" height=\"400\" viewBox=\"0 0 2400 1600\">\n",
       "<defs>\n",
       "  <clipPath id=\"clip260\">\n",
       "    <rect x=\"0\" y=\"0\" width=\"2400\" height=\"1600\"/>\n",
       "  </clipPath>\n",
       "</defs>\n",
       "<path clip-path=\"url(#clip260)\" d=\"M0 1600 L2400 1600 L2400 0 L0 0  Z\" fill=\"#ffffff\" fill-rule=\"evenodd\" fill-opacity=\"1\"/>\n",
       "<defs>\n",
       "  <clipPath id=\"clip261\">\n",
       "    <rect x=\"480\" y=\"0\" width=\"1681\" height=\"1600\"/>\n",
       "  </clipPath>\n",
       "</defs>\n",
       "<path clip-path=\"url(#clip260)\" d=\"M247.459 1423.18 L2352.76 1423.18 L2352.76 123.472 L247.459 123.472  Z\" fill=\"#ffffff\" fill-rule=\"evenodd\" fill-opacity=\"1\"/>\n",
       "<defs>\n",
       "  <clipPath id=\"clip262\">\n",
       "    <rect x=\"247\" y=\"123\" width=\"2106\" height=\"1301\"/>\n",
       "  </clipPath>\n",
       "</defs>\n",
       "<polyline clip-path=\"url(#clip262)\" style=\"stroke:#000000; stroke-linecap:round; stroke-linejoin:round; stroke-width:2; stroke-opacity:0.1; fill:none\" points=\"307.043,1423.18 307.043,123.472 \"/>\n",
       "<polyline clip-path=\"url(#clip262)\" style=\"stroke:#000000; stroke-linecap:round; stroke-linejoin:round; stroke-width:2; stroke-opacity:0.1; fill:none\" points=\"803.575,1423.18 803.575,123.472 \"/>\n",
       "<polyline clip-path=\"url(#clip262)\" style=\"stroke:#000000; stroke-linecap:round; stroke-linejoin:round; stroke-width:2; stroke-opacity:0.1; fill:none\" points=\"1300.11,1423.18 1300.11,123.472 \"/>\n",
       "<polyline clip-path=\"url(#clip262)\" style=\"stroke:#000000; stroke-linecap:round; stroke-linejoin:round; stroke-width:2; stroke-opacity:0.1; fill:none\" points=\"1796.64,1423.18 1796.64,123.472 \"/>\n",
       "<polyline clip-path=\"url(#clip262)\" style=\"stroke:#000000; stroke-linecap:round; stroke-linejoin:round; stroke-width:2; stroke-opacity:0.1; fill:none\" points=\"2293.17,1423.18 2293.17,123.472 \"/>\n",
       "<polyline clip-path=\"url(#clip260)\" style=\"stroke:#000000; stroke-linecap:round; stroke-linejoin:round; stroke-width:4; stroke-opacity:1; fill:none\" points=\"247.459,1423.18 2352.76,1423.18 \"/>\n",
       "<polyline clip-path=\"url(#clip260)\" style=\"stroke:#000000; stroke-linecap:round; stroke-linejoin:round; stroke-width:4; stroke-opacity:1; fill:none\" points=\"307.043,1423.18 307.043,1404.28 \"/>\n",
       "<polyline clip-path=\"url(#clip260)\" style=\"stroke:#000000; stroke-linecap:round; stroke-linejoin:round; stroke-width:4; stroke-opacity:1; fill:none\" points=\"803.575,1423.18 803.575,1404.28 \"/>\n",
       "<polyline clip-path=\"url(#clip260)\" style=\"stroke:#000000; stroke-linecap:round; stroke-linejoin:round; stroke-width:4; stroke-opacity:1; fill:none\" points=\"1300.11,1423.18 1300.11,1404.28 \"/>\n",
       "<polyline clip-path=\"url(#clip260)\" style=\"stroke:#000000; stroke-linecap:round; stroke-linejoin:round; stroke-width:4; stroke-opacity:1; fill:none\" points=\"1796.64,1423.18 1796.64,1404.28 \"/>\n",
       "<polyline clip-path=\"url(#clip260)\" style=\"stroke:#000000; stroke-linecap:round; stroke-linejoin:round; stroke-width:4; stroke-opacity:1; fill:none\" points=\"2293.17,1423.18 2293.17,1404.28 \"/>\n",
       "<path clip-path=\"url(#clip260)\" d=\"M233.038 1481.64 L249.358 1481.64 L249.358 1485.58 L227.413 1485.58 L227.413 1481.64 Q230.075 1478.89 234.659 1474.26 Q239.265 1469.61 240.446 1468.27 Q242.691 1465.74 243.571 1464.01 Q244.473 1462.25 244.473 1460.56 Q244.473 1457.8 242.529 1456.07 Q240.608 1454.33 237.506 1454.33 Q235.307 1454.33 232.853 1455.09 Q230.423 1455.86 227.645 1457.41 L227.645 1452.69 Q230.469 1451.55 232.923 1450.97 Q235.376 1450.39 237.413 1450.39 Q242.784 1450.39 245.978 1453.08 Q249.173 1455.77 249.173 1460.26 Q249.173 1462.39 248.362 1464.31 Q247.575 1466.2 245.469 1468.8 Q244.89 1469.47 241.788 1472.69 Q238.686 1475.88 233.038 1481.64 Z\" fill=\"#000000\" fill-rule=\"evenodd\" fill-opacity=\"1\" /><path clip-path=\"url(#clip260)\" d=\"M269.172 1454.1 Q265.561 1454.1 263.733 1457.66 Q261.927 1461.2 261.927 1468.33 Q261.927 1475.44 263.733 1479.01 Q265.561 1482.55 269.172 1482.55 Q272.807 1482.55 274.612 1479.01 Q276.441 1475.44 276.441 1468.33 Q276.441 1461.2 274.612 1457.66 Q272.807 1454.1 269.172 1454.1 M269.172 1450.39 Q274.983 1450.39 278.038 1455 Q281.117 1459.58 281.117 1468.33 Q281.117 1477.06 278.038 1481.67 Q274.983 1486.25 269.172 1486.25 Q263.362 1486.25 260.284 1481.67 Q257.228 1477.06 257.228 1468.33 Q257.228 1459.58 260.284 1455 Q263.362 1450.39 269.172 1450.39 Z\" fill=\"#000000\" fill-rule=\"evenodd\" fill-opacity=\"1\" /><path clip-path=\"url(#clip260)\" d=\"M290.145 1481.64 L297.783 1481.64 L297.783 1455.28 L289.473 1456.95 L289.473 1452.69 L297.737 1451.02 L302.413 1451.02 L302.413 1481.64 L310.052 1481.64 L310.052 1485.58 L290.145 1485.58 L290.145 1481.64 Z\" fill=\"#000000\" fill-rule=\"evenodd\" fill-opacity=\"1\" /><path clip-path=\"url(#clip260)\" d=\"M320.306 1481.64 L327.945 1481.64 L327.945 1455.28 L319.635 1456.95 L319.635 1452.69 L327.899 1451.02 L332.575 1451.02 L332.575 1481.64 L340.214 1481.64 L340.214 1485.58 L320.306 1485.58 L320.306 1481.64 Z\" fill=\"#000000\" fill-rule=\"evenodd\" fill-opacity=\"1\" /><path clip-path=\"url(#clip260)\" d=\"M349.658 1479.7 L354.542 1479.7 L354.542 1485.58 L349.658 1485.58 L349.658 1479.7 Z\" fill=\"#000000\" fill-rule=\"evenodd\" fill-opacity=\"1\" /><path clip-path=\"url(#clip260)\" d=\"M374.727 1454.1 Q371.116 1454.1 369.288 1457.66 Q367.482 1461.2 367.482 1468.33 Q367.482 1475.44 369.288 1479.01 Q371.116 1482.55 374.727 1482.55 Q378.362 1482.55 380.167 1479.01 Q381.996 1475.44 381.996 1468.33 Q381.996 1461.2 380.167 1457.66 Q378.362 1454.1 374.727 1454.1 M374.727 1450.39 Q380.538 1450.39 383.593 1455 Q386.672 1459.58 386.672 1468.33 Q386.672 1477.06 383.593 1481.67 Q380.538 1486.25 374.727 1486.25 Q368.917 1486.25 365.839 1481.67 Q362.783 1477.06 362.783 1468.33 Q362.783 1459.58 365.839 1455 Q368.917 1450.39 374.727 1450.39 Z\" fill=\"#000000\" fill-rule=\"evenodd\" fill-opacity=\"1\" /><path clip-path=\"url(#clip260)\" d=\"M730.068 1481.64 L746.388 1481.64 L746.388 1485.58 L724.443 1485.58 L724.443 1481.64 Q727.105 1478.89 731.689 1474.26 Q736.295 1469.61 737.476 1468.27 Q739.721 1465.74 740.601 1464.01 Q741.504 1462.25 741.504 1460.56 Q741.504 1457.8 739.559 1456.07 Q737.638 1454.33 734.536 1454.33 Q732.337 1454.33 729.883 1455.09 Q727.453 1455.86 724.675 1457.41 L724.675 1452.69 Q727.499 1451.55 729.953 1450.97 Q732.406 1450.39 734.443 1450.39 Q739.814 1450.39 743.008 1453.08 Q746.203 1455.77 746.203 1460.26 Q746.203 1462.39 745.392 1464.31 Q744.605 1466.2 742.499 1468.8 Q741.92 1469.47 738.818 1472.69 Q735.717 1475.88 730.068 1481.64 Z\" fill=\"#000000\" fill-rule=\"evenodd\" fill-opacity=\"1\" /><path clip-path=\"url(#clip260)\" d=\"M766.202 1454.1 Q762.591 1454.1 760.763 1457.66 Q758.957 1461.2 758.957 1468.33 Q758.957 1475.44 760.763 1479.01 Q762.591 1482.55 766.202 1482.55 Q769.837 1482.55 771.642 1479.01 Q773.471 1475.44 773.471 1468.33 Q773.471 1461.2 771.642 1457.66 Q769.837 1454.1 766.202 1454.1 M766.202 1450.39 Q772.013 1450.39 775.068 1455 Q778.147 1459.58 778.147 1468.33 Q778.147 1477.06 775.068 1481.67 Q772.013 1486.25 766.202 1486.25 Q760.392 1486.25 757.314 1481.67 Q754.258 1477.06 754.258 1468.33 Q754.258 1459.58 757.314 1455 Q760.392 1450.39 766.202 1450.39 Z\" fill=\"#000000\" fill-rule=\"evenodd\" fill-opacity=\"1\" /><path clip-path=\"url(#clip260)\" d=\"M787.175 1481.64 L794.813 1481.64 L794.813 1455.28 L786.503 1456.95 L786.503 1452.69 L794.767 1451.02 L799.443 1451.02 L799.443 1481.64 L807.082 1481.64 L807.082 1485.58 L787.175 1485.58 L787.175 1481.64 Z\" fill=\"#000000\" fill-rule=\"evenodd\" fill-opacity=\"1\" /><path clip-path=\"url(#clip260)\" d=\"M817.336 1481.64 L824.975 1481.64 L824.975 1455.28 L816.665 1456.95 L816.665 1452.69 L824.929 1451.02 L829.605 1451.02 L829.605 1481.64 L837.244 1481.64 L837.244 1485.58 L817.336 1485.58 L817.336 1481.64 Z\" fill=\"#000000\" fill-rule=\"evenodd\" fill-opacity=\"1\" /><path clip-path=\"url(#clip260)\" d=\"M846.688 1479.7 L851.572 1479.7 L851.572 1485.58 L846.688 1485.58 L846.688 1479.7 Z\" fill=\"#000000\" fill-rule=\"evenodd\" fill-opacity=\"1\" /><path clip-path=\"url(#clip260)\" d=\"M861.804 1451.02 L880.16 1451.02 L880.16 1454.96 L866.086 1454.96 L866.086 1463.43 Q867.105 1463.08 868.123 1462.92 Q869.142 1462.73 870.16 1462.73 Q875.947 1462.73 879.327 1465.9 Q882.706 1469.08 882.706 1474.49 Q882.706 1480.07 879.234 1483.17 Q875.762 1486.25 869.443 1486.25 Q867.267 1486.25 864.998 1485.88 Q862.753 1485.51 860.345 1484.77 L860.345 1480.07 Q862.429 1481.2 864.651 1481.76 Q866.873 1482.32 869.35 1482.32 Q873.355 1482.32 875.693 1480.21 Q878.031 1478.1 878.031 1474.49 Q878.031 1470.88 875.693 1468.77 Q873.355 1466.67 869.35 1466.67 Q867.475 1466.67 865.6 1467.08 Q863.748 1467.5 861.804 1468.38 L861.804 1451.02 Z\" fill=\"#000000\" fill-rule=\"evenodd\" fill-opacity=\"1\" /><path clip-path=\"url(#clip260)\" d=\"M1226.1 1481.64 L1242.42 1481.64 L1242.42 1485.58 L1220.48 1485.58 L1220.48 1481.64 Q1223.14 1478.89 1227.72 1474.26 Q1232.33 1469.61 1233.51 1468.27 Q1235.76 1465.74 1236.64 1464.01 Q1237.54 1462.25 1237.54 1460.56 Q1237.54 1457.8 1235.59 1456.07 Q1233.67 1454.33 1230.57 1454.33 Q1228.37 1454.33 1225.92 1455.09 Q1223.49 1455.86 1220.71 1457.41 L1220.71 1452.69 Q1223.53 1451.55 1225.99 1450.97 Q1228.44 1450.39 1230.48 1450.39 Q1235.85 1450.39 1239.04 1453.08 Q1242.24 1455.77 1242.24 1460.26 Q1242.24 1462.39 1241.43 1464.31 Q1240.64 1466.2 1238.53 1468.8 Q1237.95 1469.47 1234.85 1472.69 Q1231.75 1475.88 1226.1 1481.64 Z\" fill=\"#000000\" fill-rule=\"evenodd\" fill-opacity=\"1\" /><path clip-path=\"url(#clip260)\" d=\"M1262.24 1454.1 Q1258.63 1454.1 1256.8 1457.66 Q1254.99 1461.2 1254.99 1468.33 Q1254.99 1475.44 1256.8 1479.01 Q1258.63 1482.55 1262.24 1482.55 Q1265.87 1482.55 1267.68 1479.01 Q1269.51 1475.44 1269.51 1468.33 Q1269.51 1461.2 1267.68 1457.66 Q1265.87 1454.1 1262.24 1454.1 M1262.24 1450.39 Q1268.05 1450.39 1271.1 1455 Q1274.18 1459.58 1274.18 1468.33 Q1274.18 1477.06 1271.1 1481.67 Q1268.05 1486.25 1262.24 1486.25 Q1256.43 1486.25 1253.35 1481.67 Q1250.29 1477.06 1250.29 1468.33 Q1250.29 1459.58 1253.35 1455 Q1256.43 1450.39 1262.24 1450.39 Z\" fill=\"#000000\" fill-rule=\"evenodd\" fill-opacity=\"1\" /><path clip-path=\"url(#clip260)\" d=\"M1283.21 1481.64 L1290.85 1481.64 L1290.85 1455.28 L1282.54 1456.95 L1282.54 1452.69 L1290.8 1451.02 L1295.48 1451.02 L1295.48 1481.64 L1303.12 1481.64 L1303.12 1485.58 L1283.21 1485.58 L1283.21 1481.64 Z\" fill=\"#000000\" fill-rule=\"evenodd\" fill-opacity=\"1\" /><path clip-path=\"url(#clip260)\" d=\"M1316.59 1481.64 L1332.91 1481.64 L1332.91 1485.58 L1310.96 1485.58 L1310.96 1481.64 Q1313.63 1478.89 1318.21 1474.26 Q1322.82 1469.61 1324 1468.27 Q1326.24 1465.74 1327.12 1464.01 Q1328.02 1462.25 1328.02 1460.56 Q1328.02 1457.8 1326.08 1456.07 Q1324.16 1454.33 1321.06 1454.33 Q1318.86 1454.33 1316.4 1455.09 Q1313.97 1455.86 1311.2 1457.41 L1311.2 1452.69 Q1314.02 1451.55 1316.47 1450.97 Q1318.93 1450.39 1320.96 1450.39 Q1326.33 1450.39 1329.53 1453.08 Q1332.72 1455.77 1332.72 1460.26 Q1332.72 1462.39 1331.91 1464.31 Q1331.13 1466.2 1329.02 1468.8 Q1328.44 1469.47 1325.34 1472.69 Q1322.24 1475.88 1316.59 1481.64 Z\" fill=\"#000000\" fill-rule=\"evenodd\" fill-opacity=\"1\" /><path clip-path=\"url(#clip260)\" d=\"M1342.72 1479.7 L1347.61 1479.7 L1347.61 1485.58 L1342.72 1485.58 L1342.72 1479.7 Z\" fill=\"#000000\" fill-rule=\"evenodd\" fill-opacity=\"1\" /><path clip-path=\"url(#clip260)\" d=\"M1367.79 1454.1 Q1364.18 1454.1 1362.35 1457.66 Q1360.55 1461.2 1360.55 1468.33 Q1360.55 1475.44 1362.35 1479.01 Q1364.18 1482.55 1367.79 1482.55 Q1371.43 1482.55 1373.23 1479.01 Q1375.06 1475.44 1375.06 1468.33 Q1375.06 1461.2 1373.23 1457.66 Q1371.43 1454.1 1367.79 1454.1 M1367.79 1450.39 Q1373.6 1450.39 1376.66 1455 Q1379.74 1459.58 1379.74 1468.33 Q1379.74 1477.06 1376.66 1481.67 Q1373.6 1486.25 1367.79 1486.25 Q1361.98 1486.25 1358.9 1481.67 Q1355.85 1477.06 1355.85 1468.33 Q1355.85 1459.58 1358.9 1455 Q1361.98 1450.39 1367.79 1450.39 Z\" fill=\"#000000\" fill-rule=\"evenodd\" fill-opacity=\"1\" /><path clip-path=\"url(#clip260)\" d=\"M1723.13 1481.64 L1739.45 1481.64 L1739.45 1485.58 L1717.51 1485.58 L1717.51 1481.64 Q1720.17 1478.89 1724.75 1474.26 Q1729.36 1469.61 1730.54 1468.27 Q1732.79 1465.74 1733.67 1464.01 Q1734.57 1462.25 1734.57 1460.56 Q1734.57 1457.8 1732.62 1456.07 Q1730.7 1454.33 1727.6 1454.33 Q1725.4 1454.33 1722.95 1455.09 Q1720.52 1455.86 1717.74 1457.41 L1717.74 1452.69 Q1720.56 1451.55 1723.02 1450.97 Q1725.47 1450.39 1727.51 1450.39 Q1732.88 1450.39 1736.07 1453.08 Q1739.27 1455.77 1739.27 1460.26 Q1739.27 1462.39 1738.46 1464.31 Q1737.67 1466.2 1735.56 1468.8 Q1734.98 1469.47 1731.88 1472.69 Q1728.78 1475.88 1723.13 1481.64 Z\" fill=\"#000000\" fill-rule=\"evenodd\" fill-opacity=\"1\" /><path clip-path=\"url(#clip260)\" d=\"M1759.27 1454.1 Q1755.66 1454.1 1753.83 1457.66 Q1752.02 1461.2 1752.02 1468.33 Q1752.02 1475.44 1753.83 1479.01 Q1755.66 1482.55 1759.27 1482.55 Q1762.9 1482.55 1764.71 1479.01 Q1766.54 1475.44 1766.54 1468.33 Q1766.54 1461.2 1764.71 1457.66 Q1762.9 1454.1 1759.27 1454.1 M1759.27 1450.39 Q1765.08 1450.39 1768.13 1455 Q1771.21 1459.58 1771.21 1468.33 Q1771.21 1477.06 1768.13 1481.67 Q1765.08 1486.25 1759.27 1486.25 Q1753.46 1486.25 1750.38 1481.67 Q1747.32 1477.06 1747.32 1468.33 Q1747.32 1459.58 1750.38 1455 Q1753.46 1450.39 1759.27 1450.39 Z\" fill=\"#000000\" fill-rule=\"evenodd\" fill-opacity=\"1\" /><path clip-path=\"url(#clip260)\" d=\"M1780.24 1481.64 L1787.88 1481.64 L1787.88 1455.28 L1779.57 1456.95 L1779.57 1452.69 L1787.83 1451.02 L1792.51 1451.02 L1792.51 1481.64 L1800.15 1481.64 L1800.15 1485.58 L1780.24 1485.58 L1780.24 1481.64 Z\" fill=\"#000000\" fill-rule=\"evenodd\" fill-opacity=\"1\" /><path clip-path=\"url(#clip260)\" d=\"M1813.62 1481.64 L1829.94 1481.64 L1829.94 1485.58 L1807.99 1485.58 L1807.99 1481.64 Q1810.66 1478.89 1815.24 1474.26 Q1819.85 1469.61 1821.03 1468.27 Q1823.27 1465.74 1824.15 1464.01 Q1825.05 1462.25 1825.05 1460.56 Q1825.05 1457.8 1823.11 1456.07 Q1821.19 1454.33 1818.09 1454.33 Q1815.89 1454.33 1813.43 1455.09 Q1811 1455.86 1808.23 1457.41 L1808.23 1452.69 Q1811.05 1451.55 1813.5 1450.97 Q1815.96 1450.39 1817.99 1450.39 Q1823.36 1450.39 1826.56 1453.08 Q1829.75 1455.77 1829.75 1460.26 Q1829.75 1462.39 1828.94 1464.31 Q1828.16 1466.2 1826.05 1468.8 Q1825.47 1469.47 1822.37 1472.69 Q1819.27 1475.88 1813.62 1481.64 Z\" fill=\"#000000\" fill-rule=\"evenodd\" fill-opacity=\"1\" /><path clip-path=\"url(#clip260)\" d=\"M1839.75 1479.7 L1844.64 1479.7 L1844.64 1485.58 L1839.75 1485.58 L1839.75 1479.7 Z\" fill=\"#000000\" fill-rule=\"evenodd\" fill-opacity=\"1\" /><path clip-path=\"url(#clip260)\" d=\"M1854.87 1451.02 L1873.22 1451.02 L1873.22 1454.96 L1859.15 1454.96 L1859.15 1463.43 Q1860.17 1463.08 1861.19 1462.92 Q1862.21 1462.73 1863.22 1462.73 Q1869.01 1462.73 1872.39 1465.9 Q1875.77 1469.08 1875.77 1474.49 Q1875.77 1480.07 1872.3 1483.17 Q1868.83 1486.25 1862.51 1486.25 Q1860.33 1486.25 1858.06 1485.88 Q1855.82 1485.51 1853.41 1484.77 L1853.41 1480.07 Q1855.49 1481.2 1857.72 1481.76 Q1859.94 1482.32 1862.41 1482.32 Q1866.42 1482.32 1868.76 1480.21 Q1871.1 1478.1 1871.1 1474.49 Q1871.1 1470.88 1868.76 1468.77 Q1866.42 1466.67 1862.41 1466.67 Q1860.54 1466.67 1858.66 1467.08 Q1856.81 1467.5 1854.87 1468.38 L1854.87 1451.02 Z\" fill=\"#000000\" fill-rule=\"evenodd\" fill-opacity=\"1\" /><path clip-path=\"url(#clip260)\" d=\"M2219.17 1481.64 L2235.49 1481.64 L2235.49 1485.58 L2213.54 1485.58 L2213.54 1481.64 Q2216.2 1478.89 2220.79 1474.26 Q2225.39 1469.61 2226.58 1468.27 Q2228.82 1465.74 2229.7 1464.01 Q2230.6 1462.25 2230.6 1460.56 Q2230.6 1457.8 2228.66 1456.07 Q2226.74 1454.33 2223.64 1454.33 Q2221.44 1454.33 2218.98 1455.09 Q2216.55 1455.86 2213.77 1457.41 L2213.77 1452.69 Q2216.6 1451.55 2219.05 1450.97 Q2221.51 1450.39 2223.54 1450.39 Q2228.91 1450.39 2232.11 1453.08 Q2235.3 1455.77 2235.3 1460.26 Q2235.3 1462.39 2234.49 1464.31 Q2233.7 1466.2 2231.6 1468.8 Q2231.02 1469.47 2227.92 1472.69 Q2224.82 1475.88 2219.17 1481.64 Z\" fill=\"#000000\" fill-rule=\"evenodd\" fill-opacity=\"1\" /><path clip-path=\"url(#clip260)\" d=\"M2255.3 1454.1 Q2251.69 1454.1 2249.86 1457.66 Q2248.06 1461.2 2248.06 1468.33 Q2248.06 1475.44 2249.86 1479.01 Q2251.69 1482.55 2255.3 1482.55 Q2258.94 1482.55 2260.74 1479.01 Q2262.57 1475.44 2262.57 1468.33 Q2262.57 1461.2 2260.74 1457.66 Q2258.94 1454.1 2255.3 1454.1 M2255.3 1450.39 Q2261.11 1450.39 2264.17 1455 Q2267.25 1459.58 2267.25 1468.33 Q2267.25 1477.06 2264.17 1481.67 Q2261.11 1486.25 2255.3 1486.25 Q2249.49 1486.25 2246.41 1481.67 Q2243.36 1477.06 2243.36 1468.33 Q2243.36 1459.58 2246.41 1455 Q2249.49 1450.39 2255.3 1450.39 Z\" fill=\"#000000\" fill-rule=\"evenodd\" fill-opacity=\"1\" /><path clip-path=\"url(#clip260)\" d=\"M2276.27 1481.64 L2283.91 1481.64 L2283.91 1455.28 L2275.6 1456.95 L2275.6 1452.69 L2283.87 1451.02 L2288.54 1451.02 L2288.54 1481.64 L2296.18 1481.64 L2296.18 1485.58 L2276.27 1485.58 L2276.27 1481.64 Z\" fill=\"#000000\" fill-rule=\"evenodd\" fill-opacity=\"1\" /><path clip-path=\"url(#clip260)\" d=\"M2319.79 1466.95 Q2323.15 1467.66 2325.02 1469.93 Q2326.92 1472.2 2326.92 1475.53 Q2326.92 1480.65 2323.4 1483.45 Q2319.88 1486.25 2313.4 1486.25 Q2311.23 1486.25 2308.91 1485.81 Q2306.62 1485.39 2304.17 1484.54 L2304.17 1480.02 Q2306.11 1481.16 2308.43 1481.74 Q2310.74 1482.32 2313.26 1482.32 Q2317.66 1482.32 2319.95 1480.58 Q2322.27 1478.84 2322.27 1475.53 Q2322.27 1472.48 2320.12 1470.77 Q2317.99 1469.03 2314.17 1469.03 L2310.14 1469.03 L2310.14 1465.19 L2314.35 1465.19 Q2317.8 1465.19 2319.63 1463.82 Q2321.46 1462.43 2321.46 1459.84 Q2321.46 1457.18 2319.56 1455.77 Q2317.69 1454.33 2314.17 1454.33 Q2312.25 1454.33 2310.05 1454.75 Q2307.85 1455.16 2305.21 1456.04 L2305.21 1451.88 Q2307.87 1451.14 2310.19 1450.77 Q2312.52 1450.39 2314.58 1450.39 Q2319.91 1450.39 2323.01 1452.83 Q2326.11 1455.23 2326.11 1459.35 Q2326.11 1462.22 2324.47 1464.21 Q2322.82 1466.18 2319.79 1466.95 Z\" fill=\"#000000\" fill-rule=\"evenodd\" fill-opacity=\"1\" /><path clip-path=\"url(#clip260)\" d=\"M2335.79 1479.7 L2340.67 1479.7 L2340.67 1485.58 L2335.79 1485.58 L2335.79 1479.7 Z\" fill=\"#000000\" fill-rule=\"evenodd\" fill-opacity=\"1\" /><path clip-path=\"url(#clip260)\" d=\"M2360.86 1454.1 Q2357.25 1454.1 2355.42 1457.66 Q2353.61 1461.2 2353.61 1468.33 Q2353.61 1475.44 2355.42 1479.01 Q2357.25 1482.55 2360.86 1482.55 Q2364.49 1482.55 2366.3 1479.01 Q2368.13 1475.44 2368.13 1468.33 Q2368.13 1461.2 2366.3 1457.66 Q2364.49 1454.1 2360.86 1454.1 M2360.86 1450.39 Q2366.67 1450.39 2369.72 1455 Q2372.8 1459.58 2372.8 1468.33 Q2372.8 1477.06 2369.72 1481.67 Q2366.67 1486.25 2360.86 1486.25 Q2355.05 1486.25 2351.97 1481.67 Q2348.91 1477.06 2348.91 1468.33 Q2348.91 1459.58 2351.97 1455 Q2355.05 1450.39 2360.86 1450.39 Z\" fill=\"#000000\" fill-rule=\"evenodd\" fill-opacity=\"1\" /><path clip-path=\"url(#clip260)\" d=\"M1130.87 1520.52 L1158.18 1520.52 L1158.18 1525.93 L1137.3 1525.93 L1137.3 1539.94 L1156.15 1539.94 L1156.15 1545.35 L1137.3 1545.35 L1137.3 1568.04 L1130.87 1568.04 L1130.87 1520.52 Z\" fill=\"#000000\" fill-rule=\"evenodd\" fill-opacity=\"1\" /><path clip-path=\"url(#clip260)\" d=\"M1163.37 1532.4 L1169.23 1532.4 L1169.23 1568.04 L1163.37 1568.04 L1163.37 1532.4 M1163.37 1518.52 L1169.23 1518.52 L1169.23 1525.93 L1163.37 1525.93 L1163.37 1518.52 Z\" fill=\"#000000\" fill-rule=\"evenodd\" fill-opacity=\"1\" /><path clip-path=\"url(#clip260)\" d=\"M1204.21 1533.45 L1204.21 1538.98 Q1201.73 1537.71 1199.05 1537.07 Q1196.38 1536.44 1193.51 1536.44 Q1189.15 1536.44 1186.96 1537.77 Q1184.79 1539.11 1184.79 1541.79 Q1184.79 1543.82 1186.35 1545 Q1187.91 1546.15 1192.62 1547.2 L1194.63 1547.64 Q1200.87 1548.98 1203.48 1551.43 Q1206.12 1553.85 1206.12 1558.21 Q1206.12 1563.17 1202.17 1566.07 Q1198.26 1568.97 1191.38 1568.97 Q1188.52 1568.97 1185.4 1568.39 Q1182.31 1567.85 1178.87 1566.74 L1178.87 1560.69 Q1182.12 1562.38 1185.27 1563.24 Q1188.42 1564.07 1191.51 1564.07 Q1195.65 1564.07 1197.87 1562.66 Q1200.1 1561.23 1200.1 1558.65 Q1200.1 1556.27 1198.48 1554.99 Q1196.89 1553.72 1191.44 1552.54 L1189.41 1552.07 Q1183.96 1550.92 1181.55 1548.56 Q1179.13 1546.18 1179.13 1542.04 Q1179.13 1537.01 1182.69 1534.27 Q1186.26 1531.54 1192.81 1531.54 Q1196.06 1531.54 1198.92 1532.01 Q1201.79 1532.49 1204.21 1533.45 Z\" fill=\"#000000\" fill-rule=\"evenodd\" fill-opacity=\"1\" /><path clip-path=\"url(#clip260)\" d=\"M1241.1 1533.76 L1241.1 1539.24 Q1238.61 1537.87 1236.1 1537.2 Q1233.62 1536.5 1231.07 1536.5 Q1225.37 1536.5 1222.22 1540.13 Q1219.07 1543.73 1219.07 1550.25 Q1219.07 1556.78 1222.22 1560.4 Q1225.37 1564 1231.07 1564 Q1233.62 1564 1236.1 1563.33 Q1238.61 1562.63 1241.1 1561.26 L1241.1 1566.68 Q1238.65 1567.82 1236 1568.39 Q1233.39 1568.97 1230.43 1568.97 Q1222.38 1568.97 1217.64 1563.91 Q1212.9 1558.85 1212.9 1550.25 Q1212.9 1541.53 1217.67 1536.53 Q1222.48 1531.54 1230.82 1531.54 Q1233.52 1531.54 1236.1 1532.11 Q1238.68 1532.65 1241.1 1533.76 Z\" fill=\"#000000\" fill-rule=\"evenodd\" fill-opacity=\"1\" /><path clip-path=\"url(#clip260)\" d=\"M1267.48 1550.12 Q1260.39 1550.12 1257.65 1551.75 Q1254.91 1553.37 1254.91 1557.29 Q1254.91 1560.4 1256.95 1562.25 Q1259.02 1564.07 1262.55 1564.07 Q1267.42 1564.07 1270.35 1560.63 Q1273.31 1557.16 1273.31 1551.43 L1273.31 1550.12 L1267.48 1550.12 M1279.16 1547.71 L1279.16 1568.04 L1273.31 1568.04 L1273.31 1562.63 Q1271.3 1565.88 1268.31 1567.44 Q1265.32 1568.97 1260.99 1568.97 Q1255.52 1568.97 1252.27 1565.91 Q1249.05 1562.82 1249.05 1557.67 Q1249.05 1551.65 1253.06 1548.6 Q1257.11 1545.54 1265.1 1545.54 L1273.31 1545.54 L1273.31 1544.97 Q1273.31 1540.93 1270.63 1538.73 Q1267.99 1536.5 1263.19 1536.5 Q1260.13 1536.5 1257.23 1537.23 Q1254.34 1537.97 1251.66 1539.43 L1251.66 1534.02 Q1254.88 1532.78 1257.9 1532.17 Q1260.93 1531.54 1263.79 1531.54 Q1271.53 1531.54 1275.34 1535.55 Q1279.16 1539.56 1279.16 1547.71 Z\" fill=\"#000000\" fill-rule=\"evenodd\" fill-opacity=\"1\" /><path clip-path=\"url(#clip260)\" d=\"M1291.23 1518.52 L1297.08 1518.52 L1297.08 1568.04 L1291.23 1568.04 L1291.23 1518.52 Z\" fill=\"#000000\" fill-rule=\"evenodd\" fill-opacity=\"1\" /><path clip-path=\"url(#clip260)\" d=\"M1344.89 1571.35 Q1342.41 1577.72 1340.05 1579.66 Q1337.7 1581.6 1333.75 1581.6 L1329.07 1581.6 L1329.07 1576.7 L1332.51 1576.7 Q1334.93 1576.7 1336.26 1575.56 Q1337.6 1574.41 1339.22 1570.14 L1340.27 1567.47 L1325.86 1532.4 L1332.06 1532.4 L1343.2 1560.28 L1354.34 1532.4 L1360.55 1532.4 L1344.89 1571.35 Z\" fill=\"#000000\" fill-rule=\"evenodd\" fill-opacity=\"1\" /><path clip-path=\"url(#clip260)\" d=\"M1399.13 1548.76 L1399.13 1551.62 L1372.2 1551.62 Q1372.58 1557.67 1375.83 1560.85 Q1379.11 1564 1384.93 1564 Q1388.3 1564 1391.46 1563.17 Q1394.64 1562.35 1397.76 1560.69 L1397.76 1566.23 Q1394.61 1567.57 1391.3 1568.27 Q1387.99 1568.97 1384.58 1568.97 Q1376.05 1568.97 1371.05 1564 Q1366.09 1559.04 1366.09 1550.57 Q1366.09 1541.82 1370.8 1536.69 Q1375.54 1531.54 1383.56 1531.54 Q1390.75 1531.54 1394.92 1536.18 Q1399.13 1540.8 1399.13 1548.76 M1393.27 1547.04 Q1393.21 1542.23 1390.56 1539.37 Q1387.95 1536.5 1383.63 1536.5 Q1378.72 1536.5 1375.76 1539.27 Q1372.84 1542.04 1372.39 1547.07 L1393.27 1547.04 Z\" fill=\"#000000\" fill-rule=\"evenodd\" fill-opacity=\"1\" /><path clip-path=\"url(#clip260)\" d=\"M1424.94 1550.12 Q1417.84 1550.12 1415.1 1551.75 Q1412.37 1553.37 1412.37 1557.29 Q1412.37 1560.4 1414.4 1562.25 Q1416.47 1564.07 1420.01 1564.07 Q1424.88 1564.07 1427.8 1560.63 Q1430.76 1557.16 1430.76 1551.43 L1430.76 1550.12 L1424.94 1550.12 M1436.62 1547.71 L1436.62 1568.04 L1430.76 1568.04 L1430.76 1562.63 Q1428.76 1565.88 1425.77 1567.44 Q1422.77 1568.97 1418.45 1568.97 Q1412.97 1568.97 1409.72 1565.91 Q1406.51 1562.82 1406.51 1557.67 Q1406.51 1551.65 1410.52 1548.6 Q1414.56 1545.54 1422.55 1545.54 L1430.76 1545.54 L1430.76 1544.97 Q1430.76 1540.93 1428.09 1538.73 Q1425.45 1536.5 1420.64 1536.5 Q1417.59 1536.5 1414.69 1537.23 Q1411.79 1537.97 1409.12 1539.43 L1409.12 1534.02 Q1412.33 1532.78 1415.36 1532.17 Q1418.38 1531.54 1421.25 1531.54 Q1428.98 1531.54 1432.8 1535.55 Q1436.62 1539.56 1436.62 1547.71 Z\" fill=\"#000000\" fill-rule=\"evenodd\" fill-opacity=\"1\" /><path clip-path=\"url(#clip260)\" d=\"M1469.34 1537.87 Q1468.35 1537.3 1467.18 1537.04 Q1466.03 1536.76 1464.63 1536.76 Q1459.66 1536.76 1456.99 1540 Q1454.35 1543.22 1454.35 1549.27 L1454.35 1568.04 L1448.46 1568.04 L1448.46 1532.4 L1454.35 1532.4 L1454.35 1537.93 Q1456.19 1534.69 1459.15 1533.13 Q1462.11 1531.54 1466.35 1531.54 Q1466.95 1531.54 1467.68 1531.63 Q1468.42 1531.7 1469.31 1531.85 L1469.34 1537.87 Z\" fill=\"#000000\" fill-rule=\"evenodd\" fill-opacity=\"1\" /><polyline clip-path=\"url(#clip262)\" style=\"stroke:#000000; stroke-linecap:round; stroke-linejoin:round; stroke-width:2; stroke-opacity:0.1; fill:none\" points=\"247.459,1386.4 2352.76,1386.4 \"/>\n",
       "<polyline clip-path=\"url(#clip262)\" style=\"stroke:#000000; stroke-linecap:round; stroke-linejoin:round; stroke-width:2; stroke-opacity:0.1; fill:none\" points=\"247.459,1079.86 2352.76,1079.86 \"/>\n",
       "<polyline clip-path=\"url(#clip262)\" style=\"stroke:#000000; stroke-linecap:round; stroke-linejoin:round; stroke-width:2; stroke-opacity:0.1; fill:none\" points=\"247.459,773.326 2352.76,773.326 \"/>\n",
       "<polyline clip-path=\"url(#clip262)\" style=\"stroke:#000000; stroke-linecap:round; stroke-linejoin:round; stroke-width:2; stroke-opacity:0.1; fill:none\" points=\"247.459,466.791 2352.76,466.791 \"/>\n",
       "<polyline clip-path=\"url(#clip262)\" style=\"stroke:#000000; stroke-linecap:round; stroke-linejoin:round; stroke-width:2; stroke-opacity:0.1; fill:none\" points=\"247.459,160.256 2352.76,160.256 \"/>\n",
       "<polyline clip-path=\"url(#clip260)\" style=\"stroke:#000000; stroke-linecap:round; stroke-linejoin:round; stroke-width:4; stroke-opacity:1; fill:none\" points=\"247.459,1423.18 247.459,123.472 \"/>\n",
       "<polyline clip-path=\"url(#clip260)\" style=\"stroke:#000000; stroke-linecap:round; stroke-linejoin:round; stroke-width:4; stroke-opacity:1; fill:none\" points=\"247.459,1386.4 266.356,1386.4 \"/>\n",
       "<polyline clip-path=\"url(#clip260)\" style=\"stroke:#000000; stroke-linecap:round; stroke-linejoin:round; stroke-width:4; stroke-opacity:1; fill:none\" points=\"247.459,1079.86 266.356,1079.86 \"/>\n",
       "<polyline clip-path=\"url(#clip260)\" style=\"stroke:#000000; stroke-linecap:round; stroke-linejoin:round; stroke-width:4; stroke-opacity:1; fill:none\" points=\"247.459,773.326 266.356,773.326 \"/>\n",
       "<polyline clip-path=\"url(#clip260)\" style=\"stroke:#000000; stroke-linecap:round; stroke-linejoin:round; stroke-width:4; stroke-opacity:1; fill:none\" points=\"247.459,466.791 266.356,466.791 \"/>\n",
       "<polyline clip-path=\"url(#clip260)\" style=\"stroke:#000000; stroke-linecap:round; stroke-linejoin:round; stroke-width:4; stroke-opacity:1; fill:none\" points=\"247.459,160.256 266.356,160.256 \"/>\n",
       "<path clip-path=\"url(#clip260)\" d=\"M114.931 1399.74 L122.57 1399.74 L122.57 1373.37 L114.26 1375.04 L114.26 1370.78 L122.524 1369.12 L127.2 1369.12 L127.2 1399.74 L134.839 1399.74 L134.839 1403.68 L114.931 1403.68 L114.931 1399.74 Z\" fill=\"#000000\" fill-rule=\"evenodd\" fill-opacity=\"1\" /><path clip-path=\"url(#clip260)\" d=\"M148.311 1399.74 L164.63 1399.74 L164.63 1403.68 L142.686 1403.68 L142.686 1399.74 Q145.348 1396.99 149.931 1392.36 Q154.538 1387.7 155.718 1386.36 Q157.964 1383.84 158.843 1382.1 Q159.746 1380.34 159.746 1378.65 Q159.746 1375.9 157.802 1374.16 Q155.88 1372.43 152.778 1372.43 Q150.579 1372.43 148.126 1373.19 Q145.695 1373.95 142.917 1375.5 L142.917 1370.78 Q145.741 1369.65 148.195 1369.07 Q150.649 1368.49 152.686 1368.49 Q158.056 1368.49 161.251 1371.18 Q164.445 1373.86 164.445 1378.35 Q164.445 1380.48 163.635 1382.4 Q162.848 1384.3 160.741 1386.89 Q160.163 1387.56 157.061 1390.78 Q153.959 1393.98 148.311 1399.74 Z\" fill=\"#000000\" fill-rule=\"evenodd\" fill-opacity=\"1\" /><path clip-path=\"url(#clip260)\" d=\"M174.445 1397.8 L179.329 1397.8 L179.329 1403.68 L174.445 1403.68 L174.445 1397.8 Z\" fill=\"#000000\" fill-rule=\"evenodd\" fill-opacity=\"1\" /><path clip-path=\"url(#clip260)\" d=\"M199.514 1372.19 Q195.903 1372.19 194.075 1375.76 Q192.269 1379.3 192.269 1386.43 Q192.269 1393.54 194.075 1397.1 Q195.903 1400.64 199.514 1400.64 Q203.149 1400.64 204.954 1397.1 Q206.783 1393.54 206.783 1386.43 Q206.783 1379.3 204.954 1375.76 Q203.149 1372.19 199.514 1372.19 M199.514 1368.49 Q205.324 1368.49 208.38 1373.1 Q211.459 1377.68 211.459 1386.43 Q211.459 1395.16 208.38 1399.76 Q205.324 1404.35 199.514 1404.35 Q193.704 1404.35 190.625 1399.76 Q187.57 1395.16 187.57 1386.43 Q187.57 1377.68 190.625 1373.1 Q193.704 1368.49 199.514 1368.49 Z\" fill=\"#000000\" fill-rule=\"evenodd\" fill-opacity=\"1\" /><path clip-path=\"url(#clip260)\" d=\"M115.927 1093.21 L123.566 1093.21 L123.566 1066.84 L115.256 1068.51 L115.256 1064.25 L123.519 1062.58 L128.195 1062.58 L128.195 1093.21 L135.834 1093.21 L135.834 1097.14 L115.927 1097.14 L115.927 1093.21 Z\" fill=\"#000000\" fill-rule=\"evenodd\" fill-opacity=\"1\" /><path clip-path=\"url(#clip260)\" d=\"M149.306 1093.21 L165.626 1093.21 L165.626 1097.14 L143.681 1097.14 L143.681 1093.21 Q146.343 1090.45 150.927 1085.82 Q155.533 1081.17 156.714 1079.83 Q158.959 1077.3 159.839 1075.57 Q160.741 1073.81 160.741 1072.12 Q160.741 1069.36 158.797 1067.63 Q156.876 1065.89 153.774 1065.89 Q151.575 1065.89 149.121 1066.65 Q146.691 1067.42 143.913 1068.97 L143.913 1064.25 Q146.737 1063.11 149.191 1062.53 Q151.644 1061.96 153.681 1061.96 Q159.052 1061.96 162.246 1064.64 Q165.44 1067.33 165.44 1071.82 Q165.44 1073.95 164.63 1075.87 Q163.843 1077.77 161.737 1080.36 Q161.158 1081.03 158.056 1084.25 Q154.954 1087.44 149.306 1093.21 Z\" fill=\"#000000\" fill-rule=\"evenodd\" fill-opacity=\"1\" /><path clip-path=\"url(#clip260)\" d=\"M175.44 1091.26 L180.325 1091.26 L180.325 1097.14 L175.44 1097.14 L175.44 1091.26 Z\" fill=\"#000000\" fill-rule=\"evenodd\" fill-opacity=\"1\" /><path clip-path=\"url(#clip260)\" d=\"M190.556 1062.58 L208.912 1062.58 L208.912 1066.52 L194.838 1066.52 L194.838 1074.99 Q195.857 1074.64 196.875 1074.48 Q197.894 1074.29 198.912 1074.29 Q204.699 1074.29 208.079 1077.47 Q211.459 1080.64 211.459 1086.05 Q211.459 1091.63 207.987 1094.73 Q204.514 1097.81 198.195 1097.81 Q196.019 1097.81 193.75 1097.44 Q191.505 1097.07 189.098 1096.33 L189.098 1091.63 Q191.181 1092.77 193.403 1093.32 Q195.625 1093.88 198.102 1093.88 Q202.107 1093.88 204.445 1091.77 Q206.783 1089.66 206.783 1086.05 Q206.783 1082.44 204.445 1080.34 Q202.107 1078.23 198.102 1078.23 Q196.227 1078.23 194.352 1078.65 Q192.5 1079.06 190.556 1079.94 L190.556 1062.58 Z\" fill=\"#000000\" fill-rule=\"evenodd\" fill-opacity=\"1\" /><path clip-path=\"url(#clip260)\" d=\"M114.931 786.671 L122.57 786.671 L122.57 760.305 L114.26 761.972 L114.26 757.713 L122.524 756.046 L127.2 756.046 L127.2 786.671 L134.839 786.671 L134.839 790.606 L114.931 790.606 L114.931 786.671 Z\" fill=\"#000000\" fill-rule=\"evenodd\" fill-opacity=\"1\" /><path clip-path=\"url(#clip260)\" d=\"M158.45 771.972 Q161.806 772.689 163.681 774.958 Q165.579 777.226 165.579 780.56 Q165.579 785.675 162.061 788.476 Q158.542 791.277 152.061 791.277 Q149.885 791.277 147.57 790.837 Q145.279 790.421 142.825 789.564 L142.825 785.05 Q144.769 786.185 147.084 786.763 Q149.399 787.342 151.922 787.342 Q156.32 787.342 158.612 785.606 Q160.927 783.87 160.927 780.56 Q160.927 777.504 158.774 775.791 Q156.644 774.055 152.825 774.055 L148.797 774.055 L148.797 770.213 L153.01 770.213 Q156.459 770.213 158.288 768.847 Q160.116 767.458 160.116 764.865 Q160.116 762.203 158.218 760.791 Q156.343 759.356 152.825 759.356 Q150.903 759.356 148.704 759.773 Q146.505 760.189 143.866 761.069 L143.866 756.902 Q146.529 756.162 148.843 755.791 Q151.181 755.421 153.241 755.421 Q158.565 755.421 161.667 757.852 Q164.769 760.259 164.769 764.379 Q164.769 767.25 163.126 769.24 Q161.482 771.208 158.45 771.972 Z\" fill=\"#000000\" fill-rule=\"evenodd\" fill-opacity=\"1\" /><path clip-path=\"url(#clip260)\" d=\"M174.445 784.726 L179.329 784.726 L179.329 790.606 L174.445 790.606 L174.445 784.726 Z\" fill=\"#000000\" fill-rule=\"evenodd\" fill-opacity=\"1\" /><path clip-path=\"url(#clip260)\" d=\"M199.514 759.125 Q195.903 759.125 194.075 762.689 Q192.269 766.231 192.269 773.361 Q192.269 780.467 194.075 784.032 Q195.903 787.574 199.514 787.574 Q203.149 787.574 204.954 784.032 Q206.783 780.467 206.783 773.361 Q206.783 766.231 204.954 762.689 Q203.149 759.125 199.514 759.125 M199.514 755.421 Q205.324 755.421 208.38 760.027 Q211.459 764.611 211.459 773.361 Q211.459 782.088 208.38 786.694 Q205.324 791.277 199.514 791.277 Q193.704 791.277 190.625 786.694 Q187.57 782.088 187.57 773.361 Q187.57 764.611 190.625 760.027 Q193.704 755.421 199.514 755.421 Z\" fill=\"#000000\" fill-rule=\"evenodd\" fill-opacity=\"1\" /><path clip-path=\"url(#clip260)\" d=\"M115.927 480.136 L123.566 480.136 L123.566 453.77 L115.256 455.437 L115.256 451.178 L123.519 449.511 L128.195 449.511 L128.195 480.136 L135.834 480.136 L135.834 484.071 L115.927 484.071 L115.927 480.136 Z\" fill=\"#000000\" fill-rule=\"evenodd\" fill-opacity=\"1\" /><path clip-path=\"url(#clip260)\" d=\"M159.445 465.437 Q162.802 466.155 164.677 468.423 Q166.575 470.692 166.575 474.025 Q166.575 479.141 163.056 481.942 Q159.538 484.742 153.056 484.742 Q150.88 484.742 148.566 484.303 Q146.274 483.886 143.82 483.029 L143.82 478.516 Q145.765 479.65 148.079 480.229 Q150.394 480.807 152.917 480.807 Q157.315 480.807 159.607 479.071 Q161.922 477.335 161.922 474.025 Q161.922 470.969 159.769 469.256 Q157.64 467.52 153.82 467.52 L149.792 467.52 L149.792 463.678 L154.005 463.678 Q157.454 463.678 159.283 462.312 Q161.112 460.923 161.112 458.331 Q161.112 455.669 159.214 454.256 Q157.339 452.821 153.82 452.821 Q151.899 452.821 149.7 453.238 Q147.501 453.655 144.862 454.534 L144.862 450.368 Q147.524 449.627 149.839 449.257 Q152.177 448.886 154.237 448.886 Q159.561 448.886 162.663 451.317 Q165.765 453.724 165.765 457.844 Q165.765 460.715 164.121 462.706 Q162.477 464.673 159.445 465.437 Z\" fill=\"#000000\" fill-rule=\"evenodd\" fill-opacity=\"1\" /><path clip-path=\"url(#clip260)\" d=\"M175.44 478.192 L180.325 478.192 L180.325 484.071 L175.44 484.071 L175.44 478.192 Z\" fill=\"#000000\" fill-rule=\"evenodd\" fill-opacity=\"1\" /><path clip-path=\"url(#clip260)\" d=\"M190.556 449.511 L208.912 449.511 L208.912 453.446 L194.838 453.446 L194.838 461.918 Q195.857 461.571 196.875 461.409 Q197.894 461.224 198.912 461.224 Q204.699 461.224 208.079 464.395 Q211.459 467.567 211.459 472.983 Q211.459 478.562 207.987 481.664 Q204.514 484.742 198.195 484.742 Q196.019 484.742 193.75 484.372 Q191.505 484.002 189.098 483.261 L189.098 478.562 Q191.181 479.696 193.403 480.252 Q195.625 480.807 198.102 480.807 Q202.107 480.807 204.445 478.701 Q206.783 476.594 206.783 472.983 Q206.783 469.372 204.445 467.266 Q202.107 465.159 198.102 465.159 Q196.227 465.159 194.352 465.576 Q192.5 465.993 190.556 466.872 L190.556 449.511 Z\" fill=\"#000000\" fill-rule=\"evenodd\" fill-opacity=\"1\" /><path clip-path=\"url(#clip260)\" d=\"M114.931 173.601 L122.57 173.601 L122.57 147.236 L114.26 148.902 L114.26 144.643 L122.524 142.976 L127.2 142.976 L127.2 173.601 L134.839 173.601 L134.839 177.536 L114.931 177.536 L114.931 173.601 Z\" fill=\"#000000\" fill-rule=\"evenodd\" fill-opacity=\"1\" /><path clip-path=\"url(#clip260)\" d=\"M157.13 147.05 L145.325 165.499 L157.13 165.499 L157.13 147.05 M155.903 142.976 L161.783 142.976 L161.783 165.499 L166.714 165.499 L166.714 169.388 L161.783 169.388 L161.783 177.536 L157.13 177.536 L157.13 169.388 L141.529 169.388 L141.529 164.874 L155.903 142.976 Z\" fill=\"#000000\" fill-rule=\"evenodd\" fill-opacity=\"1\" /><path clip-path=\"url(#clip260)\" d=\"M174.445 171.657 L179.329 171.657 L179.329 177.536 L174.445 177.536 L174.445 171.657 Z\" fill=\"#000000\" fill-rule=\"evenodd\" fill-opacity=\"1\" /><path clip-path=\"url(#clip260)\" d=\"M199.514 146.055 Q195.903 146.055 194.075 149.62 Q192.269 153.161 192.269 160.291 Q192.269 167.397 194.075 170.962 Q195.903 174.504 199.514 174.504 Q203.149 174.504 204.954 170.962 Q206.783 167.397 206.783 160.291 Q206.783 153.161 204.954 149.62 Q203.149 146.055 199.514 146.055 M199.514 142.351 Q205.324 142.351 208.38 146.958 Q211.459 151.541 211.459 160.291 Q211.459 169.018 208.38 173.624 Q205.324 178.208 199.514 178.208 Q193.704 178.208 190.625 173.624 Q187.57 169.018 187.57 160.291 Q187.57 151.541 190.625 146.958 Q193.704 142.351 199.514 142.351 Z\" fill=\"#000000\" fill-rule=\"evenodd\" fill-opacity=\"1\" /><path clip-path=\"url(#clip260)\" d=\"M18.0438 956.308 L24.314 956.308 Q22.5634 959.969 21.704 963.215 Q20.8447 966.462 20.8447 969.485 Q20.8447 974.737 22.8817 977.602 Q24.9187 980.434 28.6745 980.434 Q31.8255 980.434 33.4488 978.556 Q35.0402 976.647 36.0269 971.363 L36.8226 967.48 Q38.1912 960.287 41.6605 956.881 Q45.098 953.444 50.8908 953.444 Q57.7976 953.444 61.3624 958.091 Q64.9272 962.706 64.9272 971.65 Q64.9272 975.023 64.1633 978.843 Q63.3994 982.63 61.9035 986.704 L55.2831 986.704 Q57.4793 982.79 58.5933 979.034 Q59.7073 975.278 59.7073 971.65 Q59.7073 966.143 57.543 963.151 Q55.3786 960.159 51.3682 960.159 Q47.8671 960.159 45.8937 962.324 Q43.9204 964.456 42.9337 969.358 L42.1698 973.273 Q40.7375 980.466 37.682 983.681 Q34.6264 986.895 29.1837 986.895 Q22.8817 986.895 19.2532 982.471 Q15.6248 978.015 15.6248 970.217 Q15.6248 966.875 16.2295 963.406 Q16.8343 959.937 18.0438 956.308 Z\" fill=\"#000000\" fill-rule=\"evenodd\" fill-opacity=\"1\" /><path clip-path=\"url(#clip260)\" d=\"M46.0847 927.472 Q46.0847 934.569 47.7079 937.307 Q49.3312 940.044 53.2461 940.044 Q56.3653 940.044 58.2114 938.007 Q60.0256 935.938 60.0256 932.405 Q60.0256 927.535 56.5881 924.607 Q53.1188 921.647 47.3897 921.647 L46.0847 921.647 L46.0847 927.472 M43.6657 915.79 L64.0042 915.79 L64.0042 921.647 L58.5933 921.647 Q61.8398 923.652 63.3994 926.644 Q64.9272 929.636 64.9272 933.965 Q64.9272 939.439 61.8716 942.686 Q58.7843 945.9 53.6281 945.9 Q47.6125 945.9 44.5569 941.89 Q41.5014 937.848 41.5014 929.859 L41.5014 921.647 L40.9285 921.647 Q36.8862 921.647 34.6901 924.321 Q32.4621 926.962 32.4621 931.768 Q32.4621 934.824 33.1941 937.72 Q33.9262 940.617 35.3903 943.29 L29.9795 943.29 Q28.7381 940.076 28.1334 937.052 Q27.4968 934.028 27.4968 931.164 Q27.4968 923.429 31.5072 919.61 Q35.5176 915.79 43.6657 915.79 Z\" fill=\"#000000\" fill-rule=\"evenodd\" fill-opacity=\"1\" /><path clip-path=\"url(#clip260)\" d=\"M14.479 903.727 L14.479 897.871 L64.0042 897.871 L64.0042 903.727 L14.479 903.727 Z\" fill=\"#000000\" fill-rule=\"evenodd\" fill-opacity=\"1\" /><path clip-path=\"url(#clip260)\" d=\"M44.7161 855.125 L47.5806 855.125 L47.5806 882.052 Q53.6281 881.67 56.8109 878.424 Q59.9619 875.145 59.9619 869.321 Q59.9619 865.947 59.1344 862.796 Q58.3069 859.613 56.6518 856.494 L62.1899 856.494 Q63.5267 859.645 64.227 862.955 Q64.9272 866.265 64.9272 869.671 Q64.9272 878.201 59.9619 883.198 Q54.9967 888.163 46.5303 888.163 Q37.7774 888.163 32.6531 883.453 Q27.4968 878.71 27.4968 870.689 Q27.4968 863.496 32.1438 859.327 Q36.7589 855.125 44.7161 855.125 M42.9973 860.982 Q38.1912 861.045 35.3266 863.687 Q32.4621 866.297 32.4621 870.626 Q32.4621 875.527 35.2312 878.487 Q38.0002 881.416 43.0292 881.861 L42.9973 860.982 Z\" fill=\"#000000\" fill-rule=\"evenodd\" fill-opacity=\"1\" /><path clip-path=\"url(#clip260)\" d=\"M29.4065 822.788 L34.9447 822.788 Q33.6716 825.27 33.035 827.944 Q32.3984 830.617 32.3984 833.482 Q32.3984 837.842 33.7352 840.039 Q35.072 842.203 37.7456 842.203 Q39.7826 842.203 40.9603 840.643 Q42.1061 839.084 43.1565 834.373 L43.6021 832.368 Q44.9389 826.13 47.3897 823.52 Q49.8086 820.878 54.1691 820.878 Q59.1344 820.878 62.0308 824.825 Q64.9272 828.739 64.9272 835.614 Q64.9272 838.479 64.3543 841.598 Q63.8132 844.686 62.6992 848.123 L56.6518 848.123 Q58.3387 844.877 59.198 841.726 Q60.0256 838.574 60.0256 835.487 Q60.0256 831.349 58.6251 829.121 Q57.1929 826.893 54.6147 826.893 Q52.2276 826.893 50.9545 828.517 Q49.6813 830.108 48.5037 835.551 L48.0262 837.588 Q46.8804 843.03 44.5251 845.449 Q42.138 847.868 38.0002 847.868 Q32.9713 847.868 30.2341 844.304 Q27.4968 840.739 27.4968 834.182 Q27.4968 830.936 27.9743 828.071 Q28.4517 825.206 29.4065 822.788 Z\" fill=\"#000000\" fill-rule=\"evenodd\" fill-opacity=\"1\" /><path clip-path=\"url(#clip260)\" d=\"M28.3562 790.832 L28.3562 784.975 L64.0042 784.975 L64.0042 790.832 L28.3562 790.832 M14.479 790.832 L14.479 784.975 L21.895 784.975 L21.895 790.832 L14.479 790.832 Z\" fill=\"#000000\" fill-rule=\"evenodd\" fill-opacity=\"1\" /><path clip-path=\"url(#clip260)\" d=\"M42.4881 743.089 L64.0042 743.089 L64.0042 748.945 L42.679 748.945 Q37.6183 748.945 35.1038 750.919 Q32.5894 752.892 32.5894 756.839 Q32.5894 761.581 35.6131 764.319 Q38.6368 767.056 43.8567 767.056 L64.0042 767.056 L64.0042 772.944 L28.3562 772.944 L28.3562 767.056 L33.8944 767.056 Q30.6797 764.955 29.0883 762.122 Q27.4968 759.258 27.4968 755.534 Q27.4968 749.391 31.3163 746.24 Q35.1038 743.089 42.4881 743.089 Z\" fill=\"#000000\" fill-rule=\"evenodd\" fill-opacity=\"1\" /><path clip-path=\"url(#clip260)\" d=\"M49.9359 711.292 L28.3562 711.292 L28.3562 705.436 L49.7131 705.436 Q54.7739 705.436 57.3202 703.462 Q59.8346 701.489 59.8346 697.542 Q59.8346 692.8 56.8109 690.063 Q53.7872 687.293 48.5673 687.293 L28.3562 687.293 L28.3562 681.437 L64.0042 681.437 L64.0042 687.293 L58.5296 687.293 Q61.7762 689.426 63.3676 692.259 Q64.9272 695.06 64.9272 698.784 Q64.9272 704.926 61.1078 708.109 Q57.2883 711.292 49.9359 711.292 M27.4968 696.556 L27.4968 696.556 Z\" fill=\"#000000\" fill-rule=\"evenodd\" fill-opacity=\"1\" /><path clip-path=\"url(#clip260)\" d=\"M42.4881 639.742 L64.0042 639.742 L64.0042 645.598 L42.679 645.598 Q37.6183 645.598 35.1038 647.571 Q32.5894 649.545 32.5894 653.492 Q32.5894 658.234 35.6131 660.971 Q38.6368 663.709 43.8567 663.709 L64.0042 663.709 L64.0042 669.597 L28.3562 669.597 L28.3562 663.709 L33.8944 663.709 Q30.6797 661.608 29.0883 658.775 Q27.4968 655.911 27.4968 652.187 Q27.4968 646.044 31.3163 642.893 Q35.1038 639.742 42.4881 639.742 Z\" fill=\"#000000\" fill-rule=\"evenodd\" fill-opacity=\"1\" /><path clip-path=\"url(#clip260)\" d=\"M28.3562 628.061 L28.3562 622.204 L64.0042 622.204 L64.0042 628.061 L28.3562 628.061 M14.479 628.061 L14.479 622.204 L21.895 622.204 L21.895 628.061 L14.479 628.061 Z\" fill=\"#000000\" fill-rule=\"evenodd\" fill-opacity=\"1\" /><path clip-path=\"url(#clip260)\" d=\"M18.2347 604.157 L28.3562 604.157 L28.3562 592.094 L32.9077 592.094 L32.9077 604.157 L52.2594 604.157 Q56.6199 604.157 57.8613 602.98 Q59.1026 601.77 59.1026 598.11 L59.1026 592.094 L64.0042 592.094 L64.0042 598.11 Q64.0042 604.889 61.4897 607.467 Q58.9434 610.046 52.2594 610.046 L32.9077 610.046 L32.9077 614.342 L28.3562 614.342 L28.3562 610.046 L18.2347 610.046 L18.2347 604.157 Z\" fill=\"#000000\" fill-rule=\"evenodd\" fill-opacity=\"1\" /><path clip-path=\"url(#clip260)\" d=\"M29.4065 561.666 L34.9447 561.666 Q33.6716 564.149 33.035 566.822 Q32.3984 569.496 32.3984 572.361 Q32.3984 576.721 33.7352 578.917 Q35.072 581.082 37.7456 581.082 Q39.7826 581.082 40.9603 579.522 Q42.1061 577.962 43.1565 573.252 L43.6021 571.247 Q44.9389 565.008 47.3897 562.398 Q49.8086 559.757 54.1691 559.757 Q59.1344 559.757 62.0308 563.703 Q64.9272 567.618 64.9272 574.493 Q64.9272 577.358 64.3543 580.477 Q63.8132 583.564 62.6992 587.002 L56.6518 587.002 Q58.3387 583.755 59.198 580.604 Q60.0256 577.453 60.0256 574.366 Q60.0256 570.228 58.6251 568 Q57.1929 565.772 54.6147 565.772 Q52.2276 565.772 50.9545 567.395 Q49.6813 568.987 48.5037 574.429 L48.0262 576.467 Q46.8804 581.909 44.5251 584.328 Q42.138 586.747 38.0002 586.747 Q32.9713 586.747 30.2341 583.182 Q27.4968 579.618 27.4968 573.061 Q27.4968 569.814 27.9743 566.95 Q28.4517 564.085 29.4065 561.666 Z\" fill=\"#000000\" fill-rule=\"evenodd\" fill-opacity=\"1\" /><path clip-path=\"url(#clip260)\" d=\"M754.147 14.0809 L754.147 22.0612 Q749.488 19.8332 745.356 18.7395 Q741.224 17.6457 737.376 17.6457 Q730.692 17.6457 727.046 20.2383 Q723.441 22.8309 723.441 27.611 Q723.441 31.6214 725.831 33.6873 Q728.261 35.7128 734.986 36.9686 L739.928 37.9813 Q749.083 39.7232 753.418 44.1387 Q757.793 48.5136 757.793 55.8863 Q757.793 64.6767 751.878 69.2137 Q746.004 73.7508 734.621 73.7508 Q730.327 73.7508 725.466 72.7785 Q720.646 71.8063 715.461 69.9024 L715.461 61.4765 Q720.443 64.2716 725.223 65.6895 Q730.003 67.1073 734.621 67.1073 Q741.629 67.1073 745.437 64.3527 Q749.245 61.598 749.245 56.4939 Q749.245 52.0379 746.49 49.5264 Q743.776 47.0148 737.538 45.759 L732.555 44.7868 Q723.4 42.9639 719.309 39.075 Q715.218 35.1862 715.218 28.2591 Q715.218 20.2383 720.848 15.6203 Q726.52 11.0023 736.444 11.0023 Q740.698 11.0023 745.113 11.7719 Q749.529 12.5416 754.147 14.0809 Z\" fill=\"#000000\" fill-rule=\"evenodd\" fill-opacity=\"1\" /><path clip-path=\"url(#clip260)\" d=\"M790.848 49.7694 Q781.814 49.7694 778.331 51.8354 Q774.847 53.9013 774.847 58.8839 Q774.847 62.8538 777.439 65.2034 Q780.072 67.5124 784.569 67.5124 Q790.767 67.5124 794.494 63.1374 Q798.261 58.7219 798.261 51.4303 L798.261 49.7694 L790.848 49.7694 M805.715 46.6907 L805.715 72.576 L798.261 72.576 L798.261 65.6895 Q795.709 69.8214 791.901 71.8063 Q788.093 73.7508 782.584 73.7508 Q775.616 73.7508 771.485 69.8619 Q767.393 65.9325 767.393 59.3701 Q767.393 51.7138 772.497 47.825 Q777.642 43.9361 787.81 43.9361 L798.261 43.9361 L798.261 43.2069 Q798.261 38.0623 794.858 35.2672 Q791.496 32.4315 785.379 32.4315 Q781.49 32.4315 777.804 33.3632 Q774.118 34.295 770.715 36.1584 L770.715 29.2718 Q774.806 27.692 778.655 26.9223 Q782.503 26.1121 786.149 26.1121 Q795.993 26.1121 800.854 31.2163 Q805.715 36.3204 805.715 46.6907 Z\" fill=\"#000000\" fill-rule=\"evenodd\" fill-opacity=\"1\" /><path clip-path=\"url(#clip260)\" d=\"M821.068 9.54393 L828.521 9.54393 L828.521 72.576 L821.068 72.576 L821.068 9.54393 Z\" fill=\"#000000\" fill-rule=\"evenodd\" fill-opacity=\"1\" /><path clip-path=\"url(#clip260)\" d=\"M882.925 48.0275 L882.925 51.6733 L848.654 51.6733 Q849.14 59.3701 853.272 63.421 Q857.445 67.4314 864.858 67.4314 Q869.152 67.4314 873.162 66.3781 Q877.213 65.3249 881.183 63.2184 L881.183 70.267 Q877.173 71.9684 872.96 72.8596 Q868.747 73.7508 864.412 73.7508 Q853.556 73.7508 847.196 67.4314 Q840.877 61.1119 840.877 50.3365 Q840.877 39.1965 846.872 32.6746 Q852.908 26.1121 863.116 26.1121 Q872.271 26.1121 877.578 32.0264 Q882.925 37.9003 882.925 48.0275 M875.471 45.84 Q875.39 39.7232 872.028 36.0774 Q868.706 32.4315 863.197 32.4315 Q856.959 32.4315 853.191 35.9558 Q849.464 39.4801 848.897 45.8805 L875.471 45.84 Z\" fill=\"#000000\" fill-rule=\"evenodd\" fill-opacity=\"1\" /><path clip-path=\"url(#clip260)\" d=\"M924.082 28.5427 L924.082 35.5912 Q920.922 33.9709 917.52 33.1607 Q914.117 32.3505 910.471 32.3505 Q904.921 32.3505 902.126 34.0519 Q899.372 35.7533 899.372 39.156 Q899.372 41.7486 901.357 43.2475 Q903.341 44.7058 909.337 46.0426 L911.889 46.6097 Q919.829 48.3111 923.15 51.4303 Q926.513 54.509 926.513 60.0587 Q926.513 66.3781 921.49 70.0644 Q916.507 73.7508 907.757 73.7508 Q904.111 73.7508 900.141 73.0216 Q896.212 72.3329 891.837 70.9151 L891.837 63.2184 Q895.969 65.3654 899.979 66.4591 Q903.99 67.5124 907.919 67.5124 Q913.185 67.5124 916.021 65.73 Q918.856 63.9071 918.856 60.6258 Q918.856 57.5877 916.79 55.9673 Q914.765 54.3469 907.838 52.8481 L905.245 52.2405 Q898.318 50.7821 895.24 47.7845 Q892.161 44.7463 892.161 39.4801 Q892.161 33.0797 896.698 29.5959 Q901.235 26.1121 909.58 26.1121 Q913.712 26.1121 917.358 26.7198 Q921.003 27.3274 924.082 28.5427 Z\" fill=\"#000000\" fill-rule=\"evenodd\" fill-opacity=\"1\" /><path clip-path=\"url(#clip260)\" d=\"M994.608 34.0924 L994.608 9.54393 L1002.06 9.54393 L1002.06 72.576 L994.608 72.576 L994.608 65.7705 Q992.259 69.8214 988.654 71.8063 Q985.089 73.7508 980.066 73.7508 Q971.842 73.7508 966.657 67.1883 Q961.512 60.6258 961.512 49.9314 Q961.512 39.2371 966.657 32.6746 Q971.842 26.1121 980.066 26.1121 Q985.089 26.1121 988.654 28.0971 Q992.259 30.0415 994.608 34.0924 M969.209 49.9314 Q969.209 58.1548 972.571 62.8538 Q975.974 67.5124 981.889 67.5124 Q987.803 67.5124 991.206 62.8538 Q994.608 58.1548 994.608 49.9314 Q994.608 41.7081 991.206 37.0496 Q987.803 32.3505 981.889 32.3505 Q975.974 32.3505 972.571 37.0496 Q969.209 41.7081 969.209 49.9314 Z\" fill=\"#000000\" fill-rule=\"evenodd\" fill-opacity=\"1\" /><path clip-path=\"url(#clip260)\" d=\"M1038.03 49.7694 Q1029 49.7694 1025.52 51.8354 Q1022.03 53.9013 1022.03 58.8839 Q1022.03 62.8538 1024.63 65.2034 Q1027.26 67.5124 1031.76 67.5124 Q1037.95 67.5124 1041.68 63.1374 Q1045.45 58.7219 1045.45 51.4303 L1045.45 49.7694 L1038.03 49.7694 M1052.9 46.6907 L1052.9 72.576 L1045.45 72.576 L1045.45 65.6895 Q1042.9 69.8214 1039.09 71.8063 Q1035.28 73.7508 1029.77 73.7508 Q1022.8 73.7508 1018.67 69.8619 Q1014.58 65.9325 1014.58 59.3701 Q1014.58 51.7138 1019.68 47.825 Q1024.83 43.9361 1035 43.9361 L1045.45 43.9361 L1045.45 43.2069 Q1045.45 38.0623 1042.04 35.2672 Q1038.68 32.4315 1032.57 32.4315 Q1028.68 32.4315 1024.99 33.3632 Q1021.3 34.295 1017.9 36.1584 L1017.9 29.2718 Q1021.99 27.692 1025.84 26.9223 Q1029.69 26.1121 1033.34 26.1121 Q1043.18 26.1121 1048.04 31.2163 Q1052.9 36.3204 1052.9 46.6907 Z\" fill=\"#000000\" fill-rule=\"evenodd\" fill-opacity=\"1\" /><path clip-path=\"url(#clip260)\" d=\"M1075.63 14.324 L1075.63 27.2059 L1090.98 27.2059 L1090.98 32.9987 L1075.63 32.9987 L1075.63 57.6282 Q1075.63 63.1779 1077.13 64.7578 Q1078.66 66.3376 1083.32 66.3376 L1090.98 66.3376 L1090.98 72.576 L1083.32 72.576 Q1074.69 72.576 1071.41 69.3758 Q1068.13 66.1351 1068.13 57.6282 L1068.13 32.9987 L1062.66 32.9987 L1062.66 27.2059 L1068.13 27.2059 L1068.13 14.324 L1075.63 14.324 Z\" fill=\"#000000\" fill-rule=\"evenodd\" fill-opacity=\"1\" /><path clip-path=\"url(#clip260)\" d=\"M1121.4 49.7694 Q1112.37 49.7694 1108.88 51.8354 Q1105.4 53.9013 1105.4 58.8839 Q1105.4 62.8538 1107.99 65.2034 Q1110.63 67.5124 1115.12 67.5124 Q1121.32 67.5124 1125.05 63.1374 Q1128.81 58.7219 1128.81 51.4303 L1128.81 49.7694 L1121.4 49.7694 M1136.27 46.6907 L1136.27 72.576 L1128.81 72.576 L1128.81 65.6895 Q1126.26 69.8214 1122.45 71.8063 Q1118.65 73.7508 1113.14 73.7508 Q1106.17 73.7508 1102.04 69.8619 Q1097.95 65.9325 1097.95 59.3701 Q1097.95 51.7138 1103.05 47.825 Q1108.2 43.9361 1118.36 43.9361 L1128.81 43.9361 L1128.81 43.2069 Q1128.81 38.0623 1125.41 35.2672 Q1122.05 32.4315 1115.93 32.4315 Q1112.04 32.4315 1108.36 33.3632 Q1104.67 34.295 1101.27 36.1584 L1101.27 29.2718 Q1105.36 27.692 1109.21 26.9223 Q1113.06 26.1121 1116.7 26.1121 Q1126.55 26.1121 1131.41 31.2163 Q1136.27 36.3204 1136.27 46.6907 Z\" fill=\"#000000\" fill-rule=\"evenodd\" fill-opacity=\"1\" /><path clip-path=\"url(#clip260)\" d=\"M1200.96 9.54393 L1200.96 15.7418 L1193.83 15.7418 Q1189.82 15.7418 1188.24 17.3622 Q1186.7 18.9825 1186.7 23.1955 L1186.7 27.2059 L1198.98 27.2059 L1198.98 32.9987 L1186.7 32.9987 L1186.7 72.576 L1179.21 72.576 L1179.21 32.9987 L1172.08 32.9987 L1172.08 27.2059 L1179.21 27.2059 L1179.21 24.0462 Q1179.21 16.471 1182.73 13.0277 Q1186.26 9.54393 1193.91 9.54393 L1200.96 9.54393 Z\" fill=\"#000000\" fill-rule=\"evenodd\" fill-opacity=\"1\" /><path clip-path=\"url(#clip260)\" d=\"M1224.78 32.4315 Q1218.79 32.4315 1215.3 37.1306 Q1211.82 41.7891 1211.82 49.9314 Q1211.82 58.0738 1215.26 62.7728 Q1218.74 67.4314 1224.78 67.4314 Q1230.74 67.4314 1234.22 62.7323 Q1237.7 58.0333 1237.7 49.9314 Q1237.7 41.8701 1234.22 37.1711 Q1230.74 32.4315 1224.78 32.4315 M1224.78 26.1121 Q1234.5 26.1121 1240.05 32.4315 Q1245.6 38.7509 1245.6 49.9314 Q1245.6 61.0714 1240.05 67.4314 Q1234.5 73.7508 1224.78 73.7508 Q1215.02 73.7508 1209.47 67.4314 Q1203.96 61.0714 1203.96 49.9314 Q1203.96 38.7509 1209.47 32.4315 Q1215.02 26.1121 1224.78 26.1121 Z\" fill=\"#000000\" fill-rule=\"evenodd\" fill-opacity=\"1\" /><path clip-path=\"url(#clip260)\" d=\"M1284.25 34.1734 Q1282.99 33.4443 1281.49 33.1202 Q1280.04 32.7556 1278.25 32.7556 Q1271.93 32.7556 1268.53 36.8875 Q1265.17 40.9789 1265.17 48.6757 L1265.17 72.576 L1257.67 72.576 L1257.67 27.2059 L1265.17 27.2059 L1265.17 34.2544 Q1267.52 30.1225 1271.29 28.1376 Q1275.05 26.1121 1280.44 26.1121 Q1281.21 26.1121 1282.14 26.2337 Q1283.07 26.3147 1284.21 26.5172 L1284.25 34.1734 Z\" fill=\"#000000\" fill-rule=\"evenodd\" fill-opacity=\"1\" /><path clip-path=\"url(#clip260)\" d=\"M1351.09 28.9478 L1351.09 35.9153 Q1347.93 34.1734 1344.73 33.3227 Q1341.57 32.4315 1338.33 32.4315 Q1331.08 32.4315 1327.07 37.0496 Q1323.06 41.6271 1323.06 49.9314 Q1323.06 58.2358 1327.07 62.8538 Q1331.08 67.4314 1338.33 67.4314 Q1341.57 67.4314 1344.73 66.5807 Q1347.93 65.6895 1351.09 63.9476 L1351.09 70.8341 Q1347.97 72.2924 1344.61 73.0216 Q1341.28 73.7508 1337.52 73.7508 Q1327.27 73.7508 1321.23 67.3098 Q1315.2 60.8689 1315.2 49.9314 Q1315.2 38.832 1321.27 32.472 Q1327.39 26.1121 1338 26.1121 Q1341.45 26.1121 1344.73 26.8413 Q1348.01 27.5299 1351.09 28.9478 Z\" fill=\"#000000\" fill-rule=\"evenodd\" fill-opacity=\"1\" /><path clip-path=\"url(#clip260)\" d=\"M1381.63 32.4315 Q1375.64 32.4315 1372.15 37.1306 Q1368.67 41.7891 1368.67 49.9314 Q1368.67 58.0738 1372.11 62.7728 Q1375.6 67.4314 1381.63 67.4314 Q1387.59 67.4314 1391.07 62.7323 Q1394.55 58.0333 1394.55 49.9314 Q1394.55 41.8701 1391.07 37.1711 Q1387.59 32.4315 1381.63 32.4315 M1381.63 26.1121 Q1391.35 26.1121 1396.9 32.4315 Q1402.45 38.7509 1402.45 49.9314 Q1402.45 61.0714 1396.9 67.4314 Q1391.35 73.7508 1381.63 73.7508 Q1371.87 73.7508 1366.32 67.4314 Q1360.81 61.0714 1360.81 49.9314 Q1360.81 38.7509 1366.32 32.4315 Q1371.87 26.1121 1381.63 26.1121 Z\" fill=\"#000000\" fill-rule=\"evenodd\" fill-opacity=\"1\" /><path clip-path=\"url(#clip260)\" d=\"M1450.13 35.9153 Q1452.93 30.8922 1456.82 28.5022 Q1460.71 26.1121 1465.97 26.1121 Q1473.06 26.1121 1476.91 31.0947 Q1480.76 36.0368 1480.76 45.1919 L1480.76 72.576 L1473.26 72.576 L1473.26 45.4349 Q1473.26 38.913 1470.95 35.7533 Q1468.65 32.5936 1463.91 32.5936 Q1458.11 32.5936 1454.75 36.4419 Q1451.39 40.2903 1451.39 46.9338 L1451.39 72.576 L1443.89 72.576 L1443.89 45.4349 Q1443.89 38.8725 1441.59 35.7533 Q1439.28 32.5936 1434.46 32.5936 Q1428.74 32.5936 1425.38 36.4824 Q1422.02 40.3308 1422.02 46.9338 L1422.02 72.576 L1414.53 72.576 L1414.53 27.2059 L1422.02 27.2059 L1422.02 34.2544 Q1424.57 30.082 1428.14 28.0971 Q1431.7 26.1121 1436.6 26.1121 Q1441.54 26.1121 1444.99 28.6237 Q1448.47 31.1352 1450.13 35.9153 Z\" fill=\"#000000\" fill-rule=\"evenodd\" fill-opacity=\"1\" /><path clip-path=\"url(#clip260)\" d=\"M1502.83 65.7705 L1502.83 89.8329 L1495.34 89.8329 L1495.34 27.2059 L1502.83 27.2059 L1502.83 34.0924 Q1505.18 30.0415 1508.75 28.0971 Q1512.35 26.1121 1517.34 26.1121 Q1525.6 26.1121 1530.75 32.6746 Q1535.93 39.2371 1535.93 49.9314 Q1535.93 60.6258 1530.75 67.1883 Q1525.6 73.7508 1517.34 73.7508 Q1512.35 73.7508 1508.75 71.8063 Q1505.18 69.8214 1502.83 65.7705 M1528.19 49.9314 Q1528.19 41.7081 1524.79 37.0496 Q1521.43 32.3505 1515.51 32.3505 Q1509.6 32.3505 1506.2 37.0496 Q1502.83 41.7081 1502.83 49.9314 Q1502.83 58.1548 1506.2 62.8538 Q1509.6 67.5124 1515.51 67.5124 Q1521.43 67.5124 1524.79 62.8538 Q1528.19 58.1548 1528.19 49.9314 Z\" fill=\"#000000\" fill-rule=\"evenodd\" fill-opacity=\"1\" /><path clip-path=\"url(#clip260)\" d=\"M1568.91 49.7694 Q1559.87 49.7694 1556.39 51.8354 Q1552.9 53.9013 1552.9 58.8839 Q1552.9 62.8538 1555.5 65.2034 Q1558.13 67.5124 1562.63 67.5124 Q1568.82 67.5124 1572.55 63.1374 Q1576.32 58.7219 1576.32 51.4303 L1576.32 49.7694 L1568.91 49.7694 M1583.77 46.6907 L1583.77 72.576 L1576.32 72.576 L1576.32 65.6895 Q1573.77 69.8214 1569.96 71.8063 Q1566.15 73.7508 1560.64 73.7508 Q1553.67 73.7508 1549.54 69.8619 Q1545.45 65.9325 1545.45 59.3701 Q1545.45 51.7138 1550.55 47.825 Q1555.7 43.9361 1565.87 43.9361 L1576.32 43.9361 L1576.32 43.2069 Q1576.32 38.0623 1572.92 35.2672 Q1569.55 32.4315 1563.44 32.4315 Q1559.55 32.4315 1555.86 33.3632 Q1552.17 34.295 1548.77 36.1584 L1548.77 29.2718 Q1552.86 27.692 1556.71 26.9223 Q1560.56 26.1121 1564.21 26.1121 Q1574.05 26.1121 1578.91 31.2163 Q1583.77 36.3204 1583.77 46.6907 Z\" fill=\"#000000\" fill-rule=\"evenodd\" fill-opacity=\"1\" /><path clip-path=\"url(#clip260)\" d=\"M1636.84 45.1919 L1636.84 72.576 L1629.39 72.576 L1629.39 45.4349 Q1629.39 38.994 1626.87 35.7938 Q1624.36 32.5936 1619.34 32.5936 Q1613.3 32.5936 1609.82 36.4419 Q1606.34 40.2903 1606.34 46.9338 L1606.34 72.576 L1598.84 72.576 L1598.84 27.2059 L1606.34 27.2059 L1606.34 34.2544 Q1609.01 30.163 1612.61 28.1376 Q1616.26 26.1121 1621 26.1121 Q1628.82 26.1121 1632.83 30.9732 Q1636.84 35.7938 1636.84 45.1919 Z\" fill=\"#000000\" fill-rule=\"evenodd\" fill-opacity=\"1\" /><path clip-path=\"url(#clip260)\" d=\"M1670.58 76.7889 Q1667.42 84.8907 1664.43 87.3618 Q1661.43 89.8329 1656.4 89.8329 L1650.45 89.8329 L1650.45 83.5945 L1654.82 83.5945 Q1657.9 83.5945 1659.6 82.1361 Q1661.31 80.6778 1663.37 75.2496 L1664.71 71.8468 L1646.36 27.2059 L1654.26 27.2059 L1668.44 62.6918 L1682.61 27.2059 L1690.51 27.2059 L1670.58 76.7889 Z\" fill=\"#000000\" fill-rule=\"evenodd\" fill-opacity=\"1\" /><path clip-path=\"url(#clip260)\" d=\"M1747.71 20.1573 L1736.61 50.2555 L1758.85 50.2555 L1747.71 20.1573 M1743.09 12.096 L1752.37 12.096 L1775.42 72.576 L1766.91 72.576 L1761.4 57.061 L1734.14 57.061 L1728.63 72.576 L1720 72.576 L1743.09 12.096 Z\" fill=\"#000000\" fill-rule=\"evenodd\" fill-opacity=\"1\" /><path clip-path=\"url(#clip260)\" d=\"M1792.43 43.6931 L1792.43 65.8515 L1805.56 65.8515 Q1812.16 65.8515 1815.32 63.1374 Q1818.52 60.3828 1818.52 54.752 Q1818.52 49.0808 1815.32 46.4072 Q1812.16 43.6931 1805.56 43.6931 L1792.43 43.6931 M1792.43 18.8205 L1792.43 37.0496 L1804.55 37.0496 Q1810.54 37.0496 1813.46 34.8216 Q1816.42 32.5531 1816.42 27.935 Q1816.42 23.3575 1813.46 21.089 Q1810.54 18.8205 1804.55 18.8205 L1792.43 18.8205 M1784.25 12.096 L1805.15 12.096 Q1814.51 12.096 1819.58 15.9849 Q1824.64 19.8737 1824.64 27.0438 Q1824.64 32.5936 1822.05 35.8748 Q1819.45 39.156 1814.43 39.9662 Q1820.47 41.2625 1823.79 45.3944 Q1827.15 49.4858 1827.15 55.6432 Q1827.15 63.745 1821.64 68.1605 Q1816.13 72.576 1805.96 72.576 L1784.25 72.576 L1784.25 12.096 Z\" fill=\"#000000\" fill-rule=\"evenodd\" fill-opacity=\"1\" /><path clip-path=\"url(#clip260)\" d=\"M1885 16.7545 L1885 25.383 Q1880.87 21.5346 1876.17 19.6307 Q1871.51 17.7268 1866.24 17.7268 Q1855.87 17.7268 1850.36 24.0867 Q1844.85 30.4061 1844.85 42.3968 Q1844.85 54.3469 1850.36 60.7069 Q1855.87 67.0263 1866.24 67.0263 Q1871.51 67.0263 1876.17 65.1223 Q1880.87 63.2184 1885 59.3701 L1885 67.9175 Q1880.7 70.8341 1875.88 72.2924 Q1871.1 73.7508 1865.76 73.7508 Q1852.02 73.7508 1844.12 65.3654 Q1836.22 56.9395 1836.22 42.3968 Q1836.22 27.8135 1844.12 19.4281 Q1852.02 11.0023 1865.76 11.0023 Q1871.18 11.0023 1875.96 12.4606 Q1880.78 13.8784 1885 16.7545 Z\" fill=\"#000000\" fill-rule=\"evenodd\" fill-opacity=\"1\" /><polyline clip-path=\"url(#clip262)\" style=\"stroke:#009af9; stroke-linecap:round; stroke-linejoin:round; stroke-width:4; stroke-opacity:1; fill:none\" points=\"307.043,1386.4 1300.11,160.256 2293.17,773.326 \"/>\n",
       "</svg>\n"
      ]
     },
     "execution_count": 67,
     "metadata": {},
     "output_type": "execute_result"
    }
   ],
   "source": [
    "plot(df.date,\n",
    "     df.sales,\n",
    "     xlabel=colmetadata(df, :date, \"label\"),\n",
    "     ylabel=colmetadata(df, :sales, \"label\"),\n",
    "     title=metadata(df, \"title\"), legend=false)"
   ]
  },
  {
   "cell_type": "markdown",
   "metadata": {},
   "source": [
    "Metadata is especially useful if you:\n",
    "* work with multiple data frames that have many columns and it is hard to keep mental track of their interpretation, or\n",
    "* want to have an automated pipeline (e.g. for producing tables or figures) where custom annotations should be used (as in the examples above)"
   ]
  },
  {
   "cell_type": "markdown",
   "metadata": {},
   "source": [
    "For more details please refer to https://dataframes.juliadata.org/stable/lib/metadata/ and [TableMetadataTools.jl](https://github.com/JuliaData/TableMetadataTools.jl) package."
   ]
  }
 ],
 "metadata": {
  "@webio": {
   "lastCommId": null,
   "lastKernelId": null
  },
  "kernelspec": {
   "display_name": "Julia 1.9.0",
   "language": "julia",
   "name": "julia-1.9"
  },
  "language_info": {
   "file_extension": ".jl",
   "mimetype": "application/julia",
   "name": "julia",
   "version": "1.9.0"
  }
 },
 "nbformat": 4,
 "nbformat_minor": 1
}
