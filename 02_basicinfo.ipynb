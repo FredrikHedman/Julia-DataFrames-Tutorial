{
 "cells": [
  {
   "cell_type": "markdown",
   "metadata": {},
   "source": [
    "# Introduction to DataFrames\n",
    "**[Bogumił Kamiński](http://bogumilkaminski.pl/about/), October 5, 2022**"
   ]
  },
  {
   "cell_type": "code",
   "execution_count": 1,
   "metadata": {},
   "outputs": [],
   "source": [
    "using DataFrames"
   ]
  },
  {
   "cell_type": "markdown",
   "metadata": {},
   "source": [
    "## Getting basic information about a data frame\n",
    "\n",
    "Let's start by creating a `DataFrame` object, `x`, so that we can learn how to get information on that data frame."
   ]
  },
  {
   "cell_type": "code",
   "execution_count": 2,
   "metadata": {},
   "outputs": [
    {
     "data": {
      "text/html": [
       "<div><div style = \"float: left;\"><span>2×3 DataFrame</span></div><div style = \"clear: both;\"></div></div><div class = \"data-frame\" style = \"overflow-x: scroll;\"><table class = \"data-frame\" style = \"margin-bottom: 6px;\"><thead><tr class = \"header\"><th class = \"rowNumber\" style = \"font-weight: bold; text-align: right;\">Row</th><th style = \"text-align: left;\">A</th><th style = \"text-align: left;\">B</th><th style = \"text-align: left;\">C</th></tr><tr class = \"subheader headerLastRow\"><th class = \"rowNumber\" style = \"font-weight: bold; text-align: right;\"></th><th title = \"Int64\" style = \"text-align: left;\">Int64</th><th title = \"Union{Missing, Float64}\" style = \"text-align: left;\">Float64?</th><th title = \"String\" style = \"text-align: left;\">String</th></tr></thead><tbody><tr><td class = \"rowNumber\" style = \"font-weight: bold; text-align: right;\">1</td><td style = \"text-align: right;\">1</td><td style = \"text-align: right;\">1.0</td><td style = \"text-align: left;\">a</td></tr><tr><td class = \"rowNumber\" style = \"font-weight: bold; text-align: right;\">2</td><td style = \"text-align: right;\">2</td><td style = \"font-style: italic; text-align: right;\">missing</td><td style = \"text-align: left;\">b</td></tr></tbody></table></div>"
      ],
      "text/latex": [
       "\\begin{tabular}{r|ccc}\n",
       "\t& A & B & C\\\\\n",
       "\t\\hline\n",
       "\t& Int64 & Float64? & String\\\\\n",
       "\t\\hline\n",
       "\t1 & 1 & 1.0 & a \\\\\n",
       "\t2 & 2 & \\emph{missing} & b \\\\\n",
       "\\end{tabular}\n"
      ],
      "text/plain": [
       "\u001b[1m2×3 DataFrame\u001b[0m\n",
       "\u001b[1m Row \u001b[0m│\u001b[1m A     \u001b[0m\u001b[1m B         \u001b[0m\u001b[1m C      \u001b[0m\n",
       "     │\u001b[90m Int64 \u001b[0m\u001b[90m Float64?  \u001b[0m\u001b[90m String \u001b[0m\n",
       "─────┼──────────────────────────\n",
       "   1 │     1        1.0  a\n",
       "   2 │     2 \u001b[90m missing   \u001b[0m b"
      ]
     },
     "execution_count": 2,
     "metadata": {},
     "output_type": "execute_result"
    }
   ],
   "source": [
    "x = DataFrame(A = [1, 2], B = [1.0, missing], C = [\"a\", \"b\"])"
   ]
  },
  {
   "cell_type": "markdown",
   "metadata": {},
   "source": [
    "The standard `size` function works to get dimensions of the `DataFrame`,"
   ]
  },
  {
   "cell_type": "code",
   "execution_count": 3,
   "metadata": {},
   "outputs": [
    {
     "data": {
      "text/plain": [
       "((2, 3), 2, 3)"
      ]
     },
     "execution_count": 3,
     "metadata": {},
     "output_type": "execute_result"
    }
   ],
   "source": [
    "size(x), size(x, 1), size(x, 2)"
   ]
  },
  {
   "cell_type": "markdown",
   "metadata": {},
   "source": [
    "as well as `nrow` and `ncol` from R."
   ]
  },
  {
   "cell_type": "code",
   "execution_count": 4,
   "metadata": {},
   "outputs": [
    {
     "data": {
      "text/plain": [
       "(2, 3)"
      ]
     },
     "execution_count": 4,
     "metadata": {},
     "output_type": "execute_result"
    }
   ],
   "source": [
    "nrow(x), ncol(x)"
   ]
  },
  {
   "cell_type": "markdown",
   "metadata": {},
   "source": [
    "`describe` gives basic summary statistics of data in your `DataFrame` (check out the help of `describe` for information on how to customize shown statistics)."
   ]
  },
  {
   "cell_type": "code",
   "execution_count": 5,
   "metadata": {},
   "outputs": [
    {
     "data": {
      "text/html": [
       "<div><div style = \"float: left;\"><span>3×7 DataFrame</span></div><div style = \"clear: both;\"></div></div><div class = \"data-frame\" style = \"overflow-x: scroll;\"><table class = \"data-frame\" style = \"margin-bottom: 6px;\"><thead><tr class = \"header\"><th class = \"rowNumber\" style = \"font-weight: bold; text-align: right;\">Row</th><th style = \"text-align: left;\">variable</th><th style = \"text-align: left;\">mean</th><th style = \"text-align: left;\">min</th><th style = \"text-align: left;\">median</th><th style = \"text-align: left;\">max</th><th style = \"text-align: left;\">nmissing</th><th style = \"text-align: left;\">eltype</th></tr><tr class = \"subheader headerLastRow\"><th class = \"rowNumber\" style = \"font-weight: bold; text-align: right;\"></th><th title = \"Symbol\" style = \"text-align: left;\">Symbol</th><th title = \"Union{Nothing, Float64}\" style = \"text-align: left;\">Union…</th><th title = \"Any\" style = \"text-align: left;\">Any</th><th title = \"Union{Nothing, Float64}\" style = \"text-align: left;\">Union…</th><th title = \"Any\" style = \"text-align: left;\">Any</th><th title = \"Int64\" style = \"text-align: left;\">Int64</th><th title = \"Type\" style = \"text-align: left;\">Type</th></tr></thead><tbody><tr><td class = \"rowNumber\" style = \"font-weight: bold; text-align: right;\">1</td><td style = \"text-align: left;\">A</td><td style = \"text-align: left;\">1.5</td><td style = \"text-align: left;\">1</td><td style = \"text-align: left;\">1.5</td><td style = \"text-align: left;\">2</td><td style = \"text-align: right;\">0</td><td style = \"text-align: left;\">Int64</td></tr><tr><td class = \"rowNumber\" style = \"font-weight: bold; text-align: right;\">2</td><td style = \"text-align: left;\">B</td><td style = \"text-align: left;\">1.0</td><td style = \"text-align: left;\">1.0</td><td style = \"text-align: left;\">1.0</td><td style = \"text-align: left;\">1.0</td><td style = \"text-align: right;\">1</td><td style = \"text-align: left;\">Union{Missing, Float64}</td></tr><tr><td class = \"rowNumber\" style = \"font-weight: bold; text-align: right;\">3</td><td style = \"text-align: left;\">C</td><td style = \"font-style: italic; text-align: left;\"></td><td style = \"text-align: left;\">a</td><td style = \"font-style: italic; text-align: left;\"></td><td style = \"text-align: left;\">b</td><td style = \"text-align: right;\">0</td><td style = \"text-align: left;\">String</td></tr></tbody></table></div>"
      ],
      "text/latex": [
       "\\begin{tabular}{r|ccccccc}\n",
       "\t& variable & mean & min & median & max & nmissing & eltype\\\\\n",
       "\t\\hline\n",
       "\t& Symbol & Union… & Any & Union… & Any & Int64 & Type\\\\\n",
       "\t\\hline\n",
       "\t1 & A & 1.5 & 1 & 1.5 & 2 & 0 & Int64 \\\\\n",
       "\t2 & B & 1.0 & 1.0 & 1.0 & 1.0 & 1 & Union\\{Missing, Float64\\} \\\\\n",
       "\t3 & C &  & a &  & b & 0 & String \\\\\n",
       "\\end{tabular}\n"
      ],
      "text/plain": [
       "\u001b[1m3×7 DataFrame\u001b[0m\n",
       "\u001b[1m Row \u001b[0m│\u001b[1m variable \u001b[0m\u001b[1m mean   \u001b[0m\u001b[1m min \u001b[0m\u001b[1m median \u001b[0m\u001b[1m max \u001b[0m\u001b[1m nmissing \u001b[0m\u001b[1m eltype                  \u001b[0m\n",
       "     │\u001b[90m Symbol   \u001b[0m\u001b[90m Union… \u001b[0m\u001b[90m Any \u001b[0m\u001b[90m Union… \u001b[0m\u001b[90m Any \u001b[0m\u001b[90m Int64    \u001b[0m\u001b[90m Type                    \u001b[0m\n",
       "─────┼───────────────────────────────────────────────────────────────────────\n",
       "   1 │ A         1.5     1    1.5     2           0  Int64\n",
       "   2 │ B         1.0     1.0  1.0     1.0         1  Union{Missing, Float64}\n",
       "   3 │ C        \u001b[90m        \u001b[0m a   \u001b[90m        \u001b[0m b           0  String"
      ]
     },
     "execution_count": 5,
     "metadata": {},
     "output_type": "execute_result"
    }
   ],
   "source": [
    "describe(x)"
   ]
  },
  {
   "cell_type": "markdown",
   "metadata": {},
   "source": [
    "you can limit the columns shown by `describe` using `cols` keyword argument"
   ]
  },
  {
   "cell_type": "code",
   "execution_count": 6,
   "metadata": {},
   "outputs": [
    {
     "data": {
      "text/html": [
       "<div><div style = \"float: left;\"><span>2×7 DataFrame</span></div><div style = \"clear: both;\"></div></div><div class = \"data-frame\" style = \"overflow-x: scroll;\"><table class = \"data-frame\" style = \"margin-bottom: 6px;\"><thead><tr class = \"header\"><th class = \"rowNumber\" style = \"font-weight: bold; text-align: right;\">Row</th><th style = \"text-align: left;\">variable</th><th style = \"text-align: left;\">mean</th><th style = \"text-align: left;\">min</th><th style = \"text-align: left;\">median</th><th style = \"text-align: left;\">max</th><th style = \"text-align: left;\">nmissing</th><th style = \"text-align: left;\">eltype</th></tr><tr class = \"subheader headerLastRow\"><th class = \"rowNumber\" style = \"font-weight: bold; text-align: right;\"></th><th title = \"Symbol\" style = \"text-align: left;\">Symbol</th><th title = \"Float64\" style = \"text-align: left;\">Float64</th><th title = \"Real\" style = \"text-align: left;\">Real</th><th title = \"Float64\" style = \"text-align: left;\">Float64</th><th title = \"Real\" style = \"text-align: left;\">Real</th><th title = \"Int64\" style = \"text-align: left;\">Int64</th><th title = \"Type\" style = \"text-align: left;\">Type</th></tr></thead><tbody><tr><td class = \"rowNumber\" style = \"font-weight: bold; text-align: right;\">1</td><td style = \"text-align: left;\">A</td><td style = \"text-align: right;\">1.5</td><td style = \"text-align: right;\">1</td><td style = \"text-align: right;\">1.5</td><td style = \"text-align: right;\">2</td><td style = \"text-align: right;\">0</td><td style = \"text-align: left;\">Int64</td></tr><tr><td class = \"rowNumber\" style = \"font-weight: bold; text-align: right;\">2</td><td style = \"text-align: left;\">B</td><td style = \"text-align: right;\">1.0</td><td style = \"text-align: right;\">1.0</td><td style = \"text-align: right;\">1.0</td><td style = \"text-align: right;\">1.0</td><td style = \"text-align: right;\">1</td><td style = \"text-align: left;\">Union{Missing, Float64}</td></tr></tbody></table></div>"
      ],
      "text/latex": [
       "\\begin{tabular}{r|ccccccc}\n",
       "\t& variable & mean & min & median & max & nmissing & eltype\\\\\n",
       "\t\\hline\n",
       "\t& Symbol & Float64 & Real & Float64 & Real & Int64 & Type\\\\\n",
       "\t\\hline\n",
       "\t1 & A & 1.5 & 1 & 1.5 & 2 & 0 & Int64 \\\\\n",
       "\t2 & B & 1.0 & 1.0 & 1.0 & 1.0 & 1 & Union\\{Missing, Float64\\} \\\\\n",
       "\\end{tabular}\n"
      ],
      "text/plain": [
       "\u001b[1m2×7 DataFrame\u001b[0m\n",
       "\u001b[1m Row \u001b[0m│\u001b[1m variable \u001b[0m\u001b[1m mean    \u001b[0m\u001b[1m min  \u001b[0m\u001b[1m median  \u001b[0m\u001b[1m max  \u001b[0m\u001b[1m nmissing \u001b[0m\u001b[1m eltype               \u001b[0m ⋯\n",
       "     │\u001b[90m Symbol   \u001b[0m\u001b[90m Float64 \u001b[0m\u001b[90m Real \u001b[0m\u001b[90m Float64 \u001b[0m\u001b[90m Real \u001b[0m\u001b[90m Int64    \u001b[0m\u001b[90m Type                 \u001b[0m ⋯\n",
       "─────┼──────────────────────────────────────────────────────────────────────────\n",
       "   1 │ A             1.5   1        1.5   2           0  Int64                 ⋯\n",
       "   2 │ B             1.0   1.0      1.0   1.0         1  Union{Missing, Float6\n",
       "\u001b[36m                                                                1 column omitted\u001b[0m"
      ]
     },
     "execution_count": 6,
     "metadata": {},
     "output_type": "execute_result"
    }
   ],
   "source": [
    "describe(x, cols=1:2)"
   ]
  },
  {
   "cell_type": "markdown",
   "metadata": {},
   "source": [
    "`names` will return the names of all columns as strings"
   ]
  },
  {
   "cell_type": "code",
   "execution_count": 7,
   "metadata": {},
   "outputs": [
    {
     "data": {
      "text/plain": [
       "3-element Vector{String}:\n",
       " \"A\"\n",
       " \"B\"\n",
       " \"C\""
      ]
     },
     "execution_count": 7,
     "metadata": {},
     "output_type": "execute_result"
    }
   ],
   "source": [
    "names(x)"
   ]
  },
  {
   "cell_type": "markdown",
   "metadata": {},
   "source": [
    "you can also get column names with a given `eltype`:"
   ]
  },
  {
   "cell_type": "code",
   "execution_count": 8,
   "metadata": {},
   "outputs": [
    {
     "data": {
      "text/plain": [
       "1-element Vector{String}:\n",
       " \"C\""
      ]
     },
     "execution_count": 8,
     "metadata": {},
     "output_type": "execute_result"
    }
   ],
   "source": [
    "names(x, String)"
   ]
  },
  {
   "cell_type": "markdown",
   "metadata": {},
   "source": [
    "use `propertynames` to get a vector of `Symbol`s:"
   ]
  },
  {
   "cell_type": "code",
   "execution_count": 9,
   "metadata": {},
   "outputs": [
    {
     "data": {
      "text/plain": [
       "3-element Vector{Symbol}:\n",
       " :A\n",
       " :B\n",
       " :C"
      ]
     },
     "execution_count": 9,
     "metadata": {},
     "output_type": "execute_result"
    }
   ],
   "source": [
    "propertynames(x)"
   ]
  },
  {
   "cell_type": "markdown",
   "metadata": {},
   "source": [
    "using `eltype` on `eachcol(x)` returns element types of columns:"
   ]
  },
  {
   "cell_type": "code",
   "execution_count": 10,
   "metadata": {},
   "outputs": [
    {
     "data": {
      "text/plain": [
       "3-element Vector{Type}:\n",
       " Int64\n",
       " Union{Missing, Float64}\n",
       " String"
      ]
     },
     "execution_count": 10,
     "metadata": {},
     "output_type": "execute_result"
    }
   ],
   "source": [
    "eltype.(eachcol(x))"
   ]
  },
  {
   "cell_type": "markdown",
   "metadata": {},
   "source": [
    "Here we create some large `DataFrame`"
   ]
  },
  {
   "cell_type": "code",
   "execution_count": 11,
   "metadata": {
    "scrolled": false
   },
   "outputs": [
    {
     "data": {
      "text/html": [
       "<div><div style = \"float: left;\"><span>1000×10 DataFrame</span></div><div style = \"float: right;\"><span style = \"font-style: italic;\">975 rows omitted</span></div><div style = \"clear: both;\"></div></div><div class = \"data-frame\" style = \"overflow-x: scroll;\"><table class = \"data-frame\" style = \"margin-bottom: 6px;\"><thead><tr class = \"header\"><th class = \"rowNumber\" style = \"font-weight: bold; text-align: right;\">Row</th><th style = \"text-align: left;\">x1</th><th style = \"text-align: left;\">x2</th><th style = \"text-align: left;\">x3</th><th style = \"text-align: left;\">x4</th><th style = \"text-align: left;\">x5</th><th style = \"text-align: left;\">x6</th><th style = \"text-align: left;\">x7</th><th style = \"text-align: left;\">x8</th><th style = \"text-align: left;\">x9</th><th style = \"text-align: left;\">x10</th></tr><tr class = \"subheader headerLastRow\"><th class = \"rowNumber\" style = \"font-weight: bold; text-align: right;\"></th><th title = \"Int64\" style = \"text-align: left;\">Int64</th><th title = \"Int64\" style = \"text-align: left;\">Int64</th><th title = \"Int64\" style = \"text-align: left;\">Int64</th><th title = \"Int64\" style = \"text-align: left;\">Int64</th><th title = \"Int64\" style = \"text-align: left;\">Int64</th><th title = \"Int64\" style = \"text-align: left;\">Int64</th><th title = \"Int64\" style = \"text-align: left;\">Int64</th><th title = \"Int64\" style = \"text-align: left;\">Int64</th><th title = \"Int64\" style = \"text-align: left;\">Int64</th><th title = \"Int64\" style = \"text-align: left;\">Int64</th></tr></thead><tbody><tr><td class = \"rowNumber\" style = \"font-weight: bold; text-align: right;\">1</td><td style = \"text-align: right;\">3</td><td style = \"text-align: right;\">2</td><td style = \"text-align: right;\">7</td><td style = \"text-align: right;\">4</td><td style = \"text-align: right;\">10</td><td style = \"text-align: right;\">6</td><td style = \"text-align: right;\">1</td><td style = \"text-align: right;\">4</td><td style = \"text-align: right;\">6</td><td style = \"text-align: right;\">3</td></tr><tr><td class = \"rowNumber\" style = \"font-weight: bold; text-align: right;\">2</td><td style = \"text-align: right;\">1</td><td style = \"text-align: right;\">2</td><td style = \"text-align: right;\">2</td><td style = \"text-align: right;\">3</td><td style = \"text-align: right;\">10</td><td style = \"text-align: right;\">1</td><td style = \"text-align: right;\">10</td><td style = \"text-align: right;\">6</td><td style = \"text-align: right;\">5</td><td style = \"text-align: right;\">1</td></tr><tr><td class = \"rowNumber\" style = \"font-weight: bold; text-align: right;\">3</td><td style = \"text-align: right;\">7</td><td style = \"text-align: right;\">10</td><td style = \"text-align: right;\">8</td><td style = \"text-align: right;\">8</td><td style = \"text-align: right;\">4</td><td style = \"text-align: right;\">4</td><td style = \"text-align: right;\">2</td><td style = \"text-align: right;\">1</td><td style = \"text-align: right;\">9</td><td style = \"text-align: right;\">6</td></tr><tr><td class = \"rowNumber\" style = \"font-weight: bold; text-align: right;\">4</td><td style = \"text-align: right;\">2</td><td style = \"text-align: right;\">3</td><td style = \"text-align: right;\">7</td><td style = \"text-align: right;\">1</td><td style = \"text-align: right;\">6</td><td style = \"text-align: right;\">8</td><td style = \"text-align: right;\">8</td><td style = \"text-align: right;\">3</td><td style = \"text-align: right;\">3</td><td style = \"text-align: right;\">2</td></tr><tr><td class = \"rowNumber\" style = \"font-weight: bold; text-align: right;\">5</td><td style = \"text-align: right;\">9</td><td style = \"text-align: right;\">10</td><td style = \"text-align: right;\">1</td><td style = \"text-align: right;\">4</td><td style = \"text-align: right;\">7</td><td style = \"text-align: right;\">2</td><td style = \"text-align: right;\">8</td><td style = \"text-align: right;\">5</td><td style = \"text-align: right;\">2</td><td style = \"text-align: right;\">10</td></tr><tr><td class = \"rowNumber\" style = \"font-weight: bold; text-align: right;\">6</td><td style = \"text-align: right;\">10</td><td style = \"text-align: right;\">4</td><td style = \"text-align: right;\">1</td><td style = \"text-align: right;\">5</td><td style = \"text-align: right;\">2</td><td style = \"text-align: right;\">1</td><td style = \"text-align: right;\">8</td><td style = \"text-align: right;\">4</td><td style = \"text-align: right;\">1</td><td style = \"text-align: right;\">10</td></tr><tr><td class = \"rowNumber\" style = \"font-weight: bold; text-align: right;\">7</td><td style = \"text-align: right;\">5</td><td style = \"text-align: right;\">1</td><td style = \"text-align: right;\">6</td><td style = \"text-align: right;\">9</td><td style = \"text-align: right;\">2</td><td style = \"text-align: right;\">8</td><td style = \"text-align: right;\">5</td><td style = \"text-align: right;\">5</td><td style = \"text-align: right;\">7</td><td style = \"text-align: right;\">8</td></tr><tr><td class = \"rowNumber\" style = \"font-weight: bold; text-align: right;\">8</td><td style = \"text-align: right;\">6</td><td style = \"text-align: right;\">3</td><td style = \"text-align: right;\">8</td><td style = \"text-align: right;\">9</td><td style = \"text-align: right;\">6</td><td style = \"text-align: right;\">9</td><td style = \"text-align: right;\">10</td><td style = \"text-align: right;\">9</td><td style = \"text-align: right;\">8</td><td style = \"text-align: right;\">2</td></tr><tr><td class = \"rowNumber\" style = \"font-weight: bold; text-align: right;\">9</td><td style = \"text-align: right;\">7</td><td style = \"text-align: right;\">7</td><td style = \"text-align: right;\">1</td><td style = \"text-align: right;\">6</td><td style = \"text-align: right;\">5</td><td style = \"text-align: right;\">5</td><td style = \"text-align: right;\">4</td><td style = \"text-align: right;\">6</td><td style = \"text-align: right;\">2</td><td style = \"text-align: right;\">2</td></tr><tr><td class = \"rowNumber\" style = \"font-weight: bold; text-align: right;\">10</td><td style = \"text-align: right;\">8</td><td style = \"text-align: right;\">9</td><td style = \"text-align: right;\">5</td><td style = \"text-align: right;\">7</td><td style = \"text-align: right;\">6</td><td style = \"text-align: right;\">2</td><td style = \"text-align: right;\">4</td><td style = \"text-align: right;\">6</td><td style = \"text-align: right;\">5</td><td style = \"text-align: right;\">4</td></tr><tr><td class = \"rowNumber\" style = \"font-weight: bold; text-align: right;\">11</td><td style = \"text-align: right;\">1</td><td style = \"text-align: right;\">8</td><td style = \"text-align: right;\">1</td><td style = \"text-align: right;\">5</td><td style = \"text-align: right;\">2</td><td style = \"text-align: right;\">4</td><td style = \"text-align: right;\">4</td><td style = \"text-align: right;\">6</td><td style = \"text-align: right;\">9</td><td style = \"text-align: right;\">1</td></tr><tr><td class = \"rowNumber\" style = \"font-weight: bold; text-align: right;\">12</td><td style = \"text-align: right;\">10</td><td style = \"text-align: right;\">4</td><td style = \"text-align: right;\">3</td><td style = \"text-align: right;\">4</td><td style = \"text-align: right;\">8</td><td style = \"text-align: right;\">10</td><td style = \"text-align: right;\">9</td><td style = \"text-align: right;\">5</td><td style = \"text-align: right;\">8</td><td style = \"text-align: right;\">8</td></tr><tr><td class = \"rowNumber\" style = \"font-weight: bold; text-align: right;\">13</td><td style = \"text-align: right;\">9</td><td style = \"text-align: right;\">10</td><td style = \"text-align: right;\">4</td><td style = \"text-align: right;\">10</td><td style = \"text-align: right;\">2</td><td style = \"text-align: right;\">8</td><td style = \"text-align: right;\">9</td><td style = \"text-align: right;\">2</td><td style = \"text-align: right;\">7</td><td style = \"text-align: right;\">6</td></tr><tr><td style = \"text-align: right;\">&vellip;</td><td style = \"text-align: right;\">&vellip;</td><td style = \"text-align: right;\">&vellip;</td><td style = \"text-align: right;\">&vellip;</td><td style = \"text-align: right;\">&vellip;</td><td style = \"text-align: right;\">&vellip;</td><td style = \"text-align: right;\">&vellip;</td><td style = \"text-align: right;\">&vellip;</td><td style = \"text-align: right;\">&vellip;</td><td style = \"text-align: right;\">&vellip;</td><td style = \"text-align: right;\">&vellip;</td></tr><tr><td class = \"rowNumber\" style = \"font-weight: bold; text-align: right;\">989</td><td style = \"text-align: right;\">8</td><td style = \"text-align: right;\">10</td><td style = \"text-align: right;\">5</td><td style = \"text-align: right;\">5</td><td style = \"text-align: right;\">7</td><td style = \"text-align: right;\">2</td><td style = \"text-align: right;\">8</td><td style = \"text-align: right;\">2</td><td style = \"text-align: right;\">9</td><td style = \"text-align: right;\">7</td></tr><tr><td class = \"rowNumber\" style = \"font-weight: bold; text-align: right;\">990</td><td style = \"text-align: right;\">1</td><td style = \"text-align: right;\">2</td><td style = \"text-align: right;\">5</td><td style = \"text-align: right;\">6</td><td style = \"text-align: right;\">8</td><td style = \"text-align: right;\">5</td><td style = \"text-align: right;\">1</td><td style = \"text-align: right;\">4</td><td style = \"text-align: right;\">7</td><td style = \"text-align: right;\">3</td></tr><tr><td class = \"rowNumber\" style = \"font-weight: bold; text-align: right;\">991</td><td style = \"text-align: right;\">1</td><td style = \"text-align: right;\">10</td><td style = \"text-align: right;\">8</td><td style = \"text-align: right;\">7</td><td style = \"text-align: right;\">4</td><td style = \"text-align: right;\">10</td><td style = \"text-align: right;\">7</td><td style = \"text-align: right;\">9</td><td style = \"text-align: right;\">4</td><td style = \"text-align: right;\">5</td></tr><tr><td class = \"rowNumber\" style = \"font-weight: bold; text-align: right;\">992</td><td style = \"text-align: right;\">7</td><td style = \"text-align: right;\">7</td><td style = \"text-align: right;\">2</td><td style = \"text-align: right;\">5</td><td style = \"text-align: right;\">5</td><td style = \"text-align: right;\">6</td><td style = \"text-align: right;\">10</td><td style = \"text-align: right;\">8</td><td style = \"text-align: right;\">6</td><td style = \"text-align: right;\">5</td></tr><tr><td class = \"rowNumber\" style = \"font-weight: bold; text-align: right;\">993</td><td style = \"text-align: right;\">2</td><td style = \"text-align: right;\">8</td><td style = \"text-align: right;\">9</td><td style = \"text-align: right;\">8</td><td style = \"text-align: right;\">10</td><td style = \"text-align: right;\">10</td><td style = \"text-align: right;\">10</td><td style = \"text-align: right;\">3</td><td style = \"text-align: right;\">3</td><td style = \"text-align: right;\">9</td></tr><tr><td class = \"rowNumber\" style = \"font-weight: bold; text-align: right;\">994</td><td style = \"text-align: right;\">6</td><td style = \"text-align: right;\">10</td><td style = \"text-align: right;\">10</td><td style = \"text-align: right;\">3</td><td style = \"text-align: right;\">7</td><td style = \"text-align: right;\">8</td><td style = \"text-align: right;\">6</td><td style = \"text-align: right;\">8</td><td style = \"text-align: right;\">6</td><td style = \"text-align: right;\">4</td></tr><tr><td class = \"rowNumber\" style = \"font-weight: bold; text-align: right;\">995</td><td style = \"text-align: right;\">10</td><td style = \"text-align: right;\">8</td><td style = \"text-align: right;\">4</td><td style = \"text-align: right;\">8</td><td style = \"text-align: right;\">8</td><td style = \"text-align: right;\">6</td><td style = \"text-align: right;\">8</td><td style = \"text-align: right;\">3</td><td style = \"text-align: right;\">9</td><td style = \"text-align: right;\">2</td></tr><tr><td class = \"rowNumber\" style = \"font-weight: bold; text-align: right;\">996</td><td style = \"text-align: right;\">1</td><td style = \"text-align: right;\">4</td><td style = \"text-align: right;\">7</td><td style = \"text-align: right;\">7</td><td style = \"text-align: right;\">9</td><td style = \"text-align: right;\">10</td><td style = \"text-align: right;\">8</td><td style = \"text-align: right;\">10</td><td style = \"text-align: right;\">2</td><td style = \"text-align: right;\">9</td></tr><tr><td class = \"rowNumber\" style = \"font-weight: bold; text-align: right;\">997</td><td style = \"text-align: right;\">10</td><td style = \"text-align: right;\">8</td><td style = \"text-align: right;\">10</td><td style = \"text-align: right;\">3</td><td style = \"text-align: right;\">1</td><td style = \"text-align: right;\">7</td><td style = \"text-align: right;\">4</td><td style = \"text-align: right;\">2</td><td style = \"text-align: right;\">4</td><td style = \"text-align: right;\">1</td></tr><tr><td class = \"rowNumber\" style = \"font-weight: bold; text-align: right;\">998</td><td style = \"text-align: right;\">5</td><td style = \"text-align: right;\">2</td><td style = \"text-align: right;\">2</td><td style = \"text-align: right;\">4</td><td style = \"text-align: right;\">8</td><td style = \"text-align: right;\">1</td><td style = \"text-align: right;\">7</td><td style = \"text-align: right;\">2</td><td style = \"text-align: right;\">6</td><td style = \"text-align: right;\">9</td></tr><tr><td class = \"rowNumber\" style = \"font-weight: bold; text-align: right;\">999</td><td style = \"text-align: right;\">2</td><td style = \"text-align: right;\">6</td><td style = \"text-align: right;\">9</td><td style = \"text-align: right;\">7</td><td style = \"text-align: right;\">10</td><td style = \"text-align: right;\">3</td><td style = \"text-align: right;\">8</td><td style = \"text-align: right;\">6</td><td style = \"text-align: right;\">9</td><td style = \"text-align: right;\">3</td></tr><tr><td class = \"rowNumber\" style = \"font-weight: bold; text-align: right;\">1000</td><td style = \"text-align: right;\">10</td><td style = \"text-align: right;\">4</td><td style = \"text-align: right;\">9</td><td style = \"text-align: right;\">10</td><td style = \"text-align: right;\">1</td><td style = \"text-align: right;\">10</td><td style = \"text-align: right;\">6</td><td style = \"text-align: right;\">9</td><td style = \"text-align: right;\">8</td><td style = \"text-align: right;\">8</td></tr></tbody></table></div>"
      ],
      "text/latex": [
       "\\begin{tabular}{r|cccccccccc}\n",
       "\t& x1 & x2 & x3 & x4 & x5 & x6 & x7 & x8 & x9 & x10\\\\\n",
       "\t\\hline\n",
       "\t& Int64 & Int64 & Int64 & Int64 & Int64 & Int64 & Int64 & Int64 & Int64 & Int64\\\\\n",
       "\t\\hline\n",
       "\t1 & 3 & 2 & 7 & 4 & 10 & 6 & 1 & 4 & 6 & 3 \\\\\n",
       "\t2 & 1 & 2 & 2 & 3 & 10 & 1 & 10 & 6 & 5 & 1 \\\\\n",
       "\t3 & 7 & 10 & 8 & 8 & 4 & 4 & 2 & 1 & 9 & 6 \\\\\n",
       "\t4 & 2 & 3 & 7 & 1 & 6 & 8 & 8 & 3 & 3 & 2 \\\\\n",
       "\t5 & 9 & 10 & 1 & 4 & 7 & 2 & 8 & 5 & 2 & 10 \\\\\n",
       "\t6 & 10 & 4 & 1 & 5 & 2 & 1 & 8 & 4 & 1 & 10 \\\\\n",
       "\t7 & 5 & 1 & 6 & 9 & 2 & 8 & 5 & 5 & 7 & 8 \\\\\n",
       "\t8 & 6 & 3 & 8 & 9 & 6 & 9 & 10 & 9 & 8 & 2 \\\\\n",
       "\t9 & 7 & 7 & 1 & 6 & 5 & 5 & 4 & 6 & 2 & 2 \\\\\n",
       "\t10 & 8 & 9 & 5 & 7 & 6 & 2 & 4 & 6 & 5 & 4 \\\\\n",
       "\t11 & 1 & 8 & 1 & 5 & 2 & 4 & 4 & 6 & 9 & 1 \\\\\n",
       "\t12 & 10 & 4 & 3 & 4 & 8 & 10 & 9 & 5 & 8 & 8 \\\\\n",
       "\t13 & 9 & 10 & 4 & 10 & 2 & 8 & 9 & 2 & 7 & 6 \\\\\n",
       "\t14 & 10 & 2 & 7 & 7 & 2 & 9 & 1 & 9 & 10 & 5 \\\\\n",
       "\t15 & 5 & 6 & 9 & 6 & 9 & 9 & 4 & 1 & 8 & 4 \\\\\n",
       "\t16 & 10 & 6 & 5 & 10 & 9 & 8 & 3 & 6 & 6 & 8 \\\\\n",
       "\t17 & 4 & 4 & 10 & 9 & 5 & 7 & 9 & 4 & 6 & 6 \\\\\n",
       "\t18 & 2 & 6 & 8 & 2 & 2 & 2 & 8 & 2 & 1 & 1 \\\\\n",
       "\t19 & 3 & 8 & 4 & 2 & 3 & 1 & 3 & 8 & 3 & 5 \\\\\n",
       "\t20 & 3 & 6 & 6 & 3 & 1 & 8 & 6 & 7 & 1 & 4 \\\\\n",
       "\t21 & 10 & 5 & 10 & 1 & 1 & 9 & 7 & 3 & 8 & 3 \\\\\n",
       "\t22 & 1 & 8 & 6 & 4 & 7 & 8 & 3 & 9 & 4 & 4 \\\\\n",
       "\t23 & 2 & 7 & 9 & 2 & 1 & 2 & 6 & 8 & 9 & 6 \\\\\n",
       "\t24 & 1 & 1 & 2 & 8 & 3 & 4 & 6 & 2 & 8 & 3 \\\\\n",
       "\t25 & 1 & 5 & 5 & 2 & 5 & 9 & 10 & 4 & 1 & 1 \\\\\n",
       "\t26 & 9 & 8 & 1 & 9 & 3 & 3 & 10 & 5 & 5 & 10 \\\\\n",
       "\t27 & 7 & 4 & 6 & 3 & 1 & 7 & 8 & 6 & 1 & 10 \\\\\n",
       "\t28 & 7 & 10 & 4 & 7 & 10 & 8 & 2 & 6 & 10 & 7 \\\\\n",
       "\t29 & 10 & 1 & 7 & 8 & 6 & 1 & 5 & 9 & 6 & 10 \\\\\n",
       "\t30 & 9 & 7 & 2 & 8 & 9 & 1 & 9 & 9 & 7 & 9 \\\\\n",
       "\t$\\dots$ & $\\dots$ & $\\dots$ & $\\dots$ & $\\dots$ & $\\dots$ & $\\dots$ & $\\dots$ & $\\dots$ & $\\dots$ & $\\dots$ \\\\\n",
       "\\end{tabular}\n"
      ],
      "text/plain": [
       "\u001b[1m1000×10 DataFrame\u001b[0m\n",
       "\u001b[1m  Row \u001b[0m│\u001b[1m x1    \u001b[0m\u001b[1m x2    \u001b[0m\u001b[1m x3    \u001b[0m\u001b[1m x4    \u001b[0m\u001b[1m x5    \u001b[0m\u001b[1m x6    \u001b[0m\u001b[1m x7    \u001b[0m\u001b[1m x8    \u001b[0m\u001b[1m x9    \u001b[0m\u001b[1m x10   \u001b[0m\n",
       "      │\u001b[90m Int64 \u001b[0m\u001b[90m Int64 \u001b[0m\u001b[90m Int64 \u001b[0m\u001b[90m Int64 \u001b[0m\u001b[90m Int64 \u001b[0m\u001b[90m Int64 \u001b[0m\u001b[90m Int64 \u001b[0m\u001b[90m Int64 \u001b[0m\u001b[90m Int64 \u001b[0m\u001b[90m Int64 \u001b[0m\n",
       "──────┼──────────────────────────────────────────────────────────────────────\n",
       "    1 │     3      2      7      4     10      6      1      4      6      3\n",
       "    2 │     1      2      2      3     10      1     10      6      5      1\n",
       "    3 │     7     10      8      8      4      4      2      1      9      6\n",
       "    4 │     2      3      7      1      6      8      8      3      3      2\n",
       "    5 │     9     10      1      4      7      2      8      5      2     10\n",
       "    6 │    10      4      1      5      2      1      8      4      1     10\n",
       "    7 │     5      1      6      9      2      8      5      5      7      8\n",
       "    8 │     6      3      8      9      6      9     10      9      8      2\n",
       "    9 │     7      7      1      6      5      5      4      6      2      2\n",
       "   10 │     8      9      5      7      6      2      4      6      5      4\n",
       "   11 │     1      8      1      5      2      4      4      6      9      1\n",
       "  ⋮   │   ⋮      ⋮      ⋮      ⋮      ⋮      ⋮      ⋮      ⋮      ⋮      ⋮\n",
       "  991 │     1     10      8      7      4     10      7      9      4      5\n",
       "  992 │     7      7      2      5      5      6     10      8      6      5\n",
       "  993 │     2      8      9      8     10     10     10      3      3      9\n",
       "  994 │     6     10     10      3      7      8      6      8      6      4\n",
       "  995 │    10      8      4      8      8      6      8      3      9      2\n",
       "  996 │     1      4      7      7      9     10      8     10      2      9\n",
       "  997 │    10      8     10      3      1      7      4      2      4      1\n",
       "  998 │     5      2      2      4      8      1      7      2      6      9\n",
       "  999 │     2      6      9      7     10      3      8      6      9      3\n",
       " 1000 │    10      4      9     10      1     10      6      9      8      8\n",
       "\u001b[36m                                                             979 rows omitted\u001b[0m"
      ]
     },
     "execution_count": 11,
     "metadata": {},
     "output_type": "execute_result"
    }
   ],
   "source": [
    "y = DataFrame(rand(1:10, 1000, 10), :auto)"
   ]
  },
  {
   "cell_type": "markdown",
   "metadata": {},
   "source": [
    "and then we can use `first` to peek into its first few rows"
   ]
  },
  {
   "cell_type": "code",
   "execution_count": 12,
   "metadata": {},
   "outputs": [
    {
     "data": {
      "text/html": [
       "<div><div style = \"float: left;\"><span>5×10 DataFrame</span></div><div style = \"clear: both;\"></div></div><div class = \"data-frame\" style = \"overflow-x: scroll;\"><table class = \"data-frame\" style = \"margin-bottom: 6px;\"><thead><tr class = \"header\"><th class = \"rowNumber\" style = \"font-weight: bold; text-align: right;\">Row</th><th style = \"text-align: left;\">x1</th><th style = \"text-align: left;\">x2</th><th style = \"text-align: left;\">x3</th><th style = \"text-align: left;\">x4</th><th style = \"text-align: left;\">x5</th><th style = \"text-align: left;\">x6</th><th style = \"text-align: left;\">x7</th><th style = \"text-align: left;\">x8</th><th style = \"text-align: left;\">x9</th><th style = \"text-align: left;\">x10</th></tr><tr class = \"subheader headerLastRow\"><th class = \"rowNumber\" style = \"font-weight: bold; text-align: right;\"></th><th title = \"Int64\" style = \"text-align: left;\">Int64</th><th title = \"Int64\" style = \"text-align: left;\">Int64</th><th title = \"Int64\" style = \"text-align: left;\">Int64</th><th title = \"Int64\" style = \"text-align: left;\">Int64</th><th title = \"Int64\" style = \"text-align: left;\">Int64</th><th title = \"Int64\" style = \"text-align: left;\">Int64</th><th title = \"Int64\" style = \"text-align: left;\">Int64</th><th title = \"Int64\" style = \"text-align: left;\">Int64</th><th title = \"Int64\" style = \"text-align: left;\">Int64</th><th title = \"Int64\" style = \"text-align: left;\">Int64</th></tr></thead><tbody><tr><td class = \"rowNumber\" style = \"font-weight: bold; text-align: right;\">1</td><td style = \"text-align: right;\">3</td><td style = \"text-align: right;\">2</td><td style = \"text-align: right;\">7</td><td style = \"text-align: right;\">4</td><td style = \"text-align: right;\">10</td><td style = \"text-align: right;\">6</td><td style = \"text-align: right;\">1</td><td style = \"text-align: right;\">4</td><td style = \"text-align: right;\">6</td><td style = \"text-align: right;\">3</td></tr><tr><td class = \"rowNumber\" style = \"font-weight: bold; text-align: right;\">2</td><td style = \"text-align: right;\">1</td><td style = \"text-align: right;\">2</td><td style = \"text-align: right;\">2</td><td style = \"text-align: right;\">3</td><td style = \"text-align: right;\">10</td><td style = \"text-align: right;\">1</td><td style = \"text-align: right;\">10</td><td style = \"text-align: right;\">6</td><td style = \"text-align: right;\">5</td><td style = \"text-align: right;\">1</td></tr><tr><td class = \"rowNumber\" style = \"font-weight: bold; text-align: right;\">3</td><td style = \"text-align: right;\">7</td><td style = \"text-align: right;\">10</td><td style = \"text-align: right;\">8</td><td style = \"text-align: right;\">8</td><td style = \"text-align: right;\">4</td><td style = \"text-align: right;\">4</td><td style = \"text-align: right;\">2</td><td style = \"text-align: right;\">1</td><td style = \"text-align: right;\">9</td><td style = \"text-align: right;\">6</td></tr><tr><td class = \"rowNumber\" style = \"font-weight: bold; text-align: right;\">4</td><td style = \"text-align: right;\">2</td><td style = \"text-align: right;\">3</td><td style = \"text-align: right;\">7</td><td style = \"text-align: right;\">1</td><td style = \"text-align: right;\">6</td><td style = \"text-align: right;\">8</td><td style = \"text-align: right;\">8</td><td style = \"text-align: right;\">3</td><td style = \"text-align: right;\">3</td><td style = \"text-align: right;\">2</td></tr><tr><td class = \"rowNumber\" style = \"font-weight: bold; text-align: right;\">5</td><td style = \"text-align: right;\">9</td><td style = \"text-align: right;\">10</td><td style = \"text-align: right;\">1</td><td style = \"text-align: right;\">4</td><td style = \"text-align: right;\">7</td><td style = \"text-align: right;\">2</td><td style = \"text-align: right;\">8</td><td style = \"text-align: right;\">5</td><td style = \"text-align: right;\">2</td><td style = \"text-align: right;\">10</td></tr></tbody></table></div>"
      ],
      "text/latex": [
       "\\begin{tabular}{r|cccccccccc}\n",
       "\t& x1 & x2 & x3 & x4 & x5 & x6 & x7 & x8 & x9 & x10\\\\\n",
       "\t\\hline\n",
       "\t& Int64 & Int64 & Int64 & Int64 & Int64 & Int64 & Int64 & Int64 & Int64 & Int64\\\\\n",
       "\t\\hline\n",
       "\t1 & 3 & 2 & 7 & 4 & 10 & 6 & 1 & 4 & 6 & 3 \\\\\n",
       "\t2 & 1 & 2 & 2 & 3 & 10 & 1 & 10 & 6 & 5 & 1 \\\\\n",
       "\t3 & 7 & 10 & 8 & 8 & 4 & 4 & 2 & 1 & 9 & 6 \\\\\n",
       "\t4 & 2 & 3 & 7 & 1 & 6 & 8 & 8 & 3 & 3 & 2 \\\\\n",
       "\t5 & 9 & 10 & 1 & 4 & 7 & 2 & 8 & 5 & 2 & 10 \\\\\n",
       "\\end{tabular}\n"
      ],
      "text/plain": [
       "\u001b[1m5×10 DataFrame\u001b[0m\n",
       "\u001b[1m Row \u001b[0m│\u001b[1m x1    \u001b[0m\u001b[1m x2    \u001b[0m\u001b[1m x3    \u001b[0m\u001b[1m x4    \u001b[0m\u001b[1m x5    \u001b[0m\u001b[1m x6    \u001b[0m\u001b[1m x7    \u001b[0m\u001b[1m x8    \u001b[0m\u001b[1m x9    \u001b[0m\u001b[1m x10   \u001b[0m\n",
       "     │\u001b[90m Int64 \u001b[0m\u001b[90m Int64 \u001b[0m\u001b[90m Int64 \u001b[0m\u001b[90m Int64 \u001b[0m\u001b[90m Int64 \u001b[0m\u001b[90m Int64 \u001b[0m\u001b[90m Int64 \u001b[0m\u001b[90m Int64 \u001b[0m\u001b[90m Int64 \u001b[0m\u001b[90m Int64 \u001b[0m\n",
       "─────┼──────────────────────────────────────────────────────────────────────\n",
       "   1 │     3      2      7      4     10      6      1      4      6      3\n",
       "   2 │     1      2      2      3     10      1     10      6      5      1\n",
       "   3 │     7     10      8      8      4      4      2      1      9      6\n",
       "   4 │     2      3      7      1      6      8      8      3      3      2\n",
       "   5 │     9     10      1      4      7      2      8      5      2     10"
      ]
     },
     "execution_count": 12,
     "metadata": {},
     "output_type": "execute_result"
    }
   ],
   "source": [
    "first(y, 5)"
   ]
  },
  {
   "cell_type": "markdown",
   "metadata": {},
   "source": [
    "and `last` to see its bottom rows."
   ]
  },
  {
   "cell_type": "code",
   "execution_count": 13,
   "metadata": {},
   "outputs": [
    {
     "data": {
      "text/html": [
       "<div><div style = \"float: left;\"><span>3×10 DataFrame</span></div><div style = \"clear: both;\"></div></div><div class = \"data-frame\" style = \"overflow-x: scroll;\"><table class = \"data-frame\" style = \"margin-bottom: 6px;\"><thead><tr class = \"header\"><th class = \"rowNumber\" style = \"font-weight: bold; text-align: right;\">Row</th><th style = \"text-align: left;\">x1</th><th style = \"text-align: left;\">x2</th><th style = \"text-align: left;\">x3</th><th style = \"text-align: left;\">x4</th><th style = \"text-align: left;\">x5</th><th style = \"text-align: left;\">x6</th><th style = \"text-align: left;\">x7</th><th style = \"text-align: left;\">x8</th><th style = \"text-align: left;\">x9</th><th style = \"text-align: left;\">x10</th></tr><tr class = \"subheader headerLastRow\"><th class = \"rowNumber\" style = \"font-weight: bold; text-align: right;\"></th><th title = \"Int64\" style = \"text-align: left;\">Int64</th><th title = \"Int64\" style = \"text-align: left;\">Int64</th><th title = \"Int64\" style = \"text-align: left;\">Int64</th><th title = \"Int64\" style = \"text-align: left;\">Int64</th><th title = \"Int64\" style = \"text-align: left;\">Int64</th><th title = \"Int64\" style = \"text-align: left;\">Int64</th><th title = \"Int64\" style = \"text-align: left;\">Int64</th><th title = \"Int64\" style = \"text-align: left;\">Int64</th><th title = \"Int64\" style = \"text-align: left;\">Int64</th><th title = \"Int64\" style = \"text-align: left;\">Int64</th></tr></thead><tbody><tr><td class = \"rowNumber\" style = \"font-weight: bold; text-align: right;\">1</td><td style = \"text-align: right;\">5</td><td style = \"text-align: right;\">2</td><td style = \"text-align: right;\">2</td><td style = \"text-align: right;\">4</td><td style = \"text-align: right;\">8</td><td style = \"text-align: right;\">1</td><td style = \"text-align: right;\">7</td><td style = \"text-align: right;\">2</td><td style = \"text-align: right;\">6</td><td style = \"text-align: right;\">9</td></tr><tr><td class = \"rowNumber\" style = \"font-weight: bold; text-align: right;\">2</td><td style = \"text-align: right;\">2</td><td style = \"text-align: right;\">6</td><td style = \"text-align: right;\">9</td><td style = \"text-align: right;\">7</td><td style = \"text-align: right;\">10</td><td style = \"text-align: right;\">3</td><td style = \"text-align: right;\">8</td><td style = \"text-align: right;\">6</td><td style = \"text-align: right;\">9</td><td style = \"text-align: right;\">3</td></tr><tr><td class = \"rowNumber\" style = \"font-weight: bold; text-align: right;\">3</td><td style = \"text-align: right;\">10</td><td style = \"text-align: right;\">4</td><td style = \"text-align: right;\">9</td><td style = \"text-align: right;\">10</td><td style = \"text-align: right;\">1</td><td style = \"text-align: right;\">10</td><td style = \"text-align: right;\">6</td><td style = \"text-align: right;\">9</td><td style = \"text-align: right;\">8</td><td style = \"text-align: right;\">8</td></tr></tbody></table></div>"
      ],
      "text/latex": [
       "\\begin{tabular}{r|cccccccccc}\n",
       "\t& x1 & x2 & x3 & x4 & x5 & x6 & x7 & x8 & x9 & x10\\\\\n",
       "\t\\hline\n",
       "\t& Int64 & Int64 & Int64 & Int64 & Int64 & Int64 & Int64 & Int64 & Int64 & Int64\\\\\n",
       "\t\\hline\n",
       "\t1 & 5 & 2 & 2 & 4 & 8 & 1 & 7 & 2 & 6 & 9 \\\\\n",
       "\t2 & 2 & 6 & 9 & 7 & 10 & 3 & 8 & 6 & 9 & 3 \\\\\n",
       "\t3 & 10 & 4 & 9 & 10 & 1 & 10 & 6 & 9 & 8 & 8 \\\\\n",
       "\\end{tabular}\n"
      ],
      "text/plain": [
       "\u001b[1m3×10 DataFrame\u001b[0m\n",
       "\u001b[1m Row \u001b[0m│\u001b[1m x1    \u001b[0m\u001b[1m x2    \u001b[0m\u001b[1m x3    \u001b[0m\u001b[1m x4    \u001b[0m\u001b[1m x5    \u001b[0m\u001b[1m x6    \u001b[0m\u001b[1m x7    \u001b[0m\u001b[1m x8    \u001b[0m\u001b[1m x9    \u001b[0m\u001b[1m x10   \u001b[0m\n",
       "     │\u001b[90m Int64 \u001b[0m\u001b[90m Int64 \u001b[0m\u001b[90m Int64 \u001b[0m\u001b[90m Int64 \u001b[0m\u001b[90m Int64 \u001b[0m\u001b[90m Int64 \u001b[0m\u001b[90m Int64 \u001b[0m\u001b[90m Int64 \u001b[0m\u001b[90m Int64 \u001b[0m\u001b[90m Int64 \u001b[0m\n",
       "─────┼──────────────────────────────────────────────────────────────────────\n",
       "   1 │     5      2      2      4      8      1      7      2      6      9\n",
       "   2 │     2      6      9      7     10      3      8      6      9      3\n",
       "   3 │    10      4      9     10      1     10      6      9      8      8"
      ]
     },
     "execution_count": 13,
     "metadata": {},
     "output_type": "execute_result"
    }
   ],
   "source": [
    "last(y, 3)"
   ]
  },
  {
   "cell_type": "markdown",
   "metadata": {},
   "source": [
    "Using `first` and `last` without number of rows will return a first/last `DataFrameRow` in the `DataFrame`"
   ]
  },
  {
   "cell_type": "code",
   "execution_count": 14,
   "metadata": {},
   "outputs": [
    {
     "data": {
      "text/html": [
       "<div><div style = \"float: left;\"><span>DataFrameRow (10 columns)</span></div><div style = \"clear: both;\"></div></div><div class = \"data-frame\" style = \"overflow-x: scroll;\"><table class = \"data-frame\" style = \"margin-bottom: 6px;\"><thead><tr class = \"header\"><th class = \"rowLabel\" style = \"font-weight: bold; text-align: right;\">Row</th><th style = \"text-align: left;\">x1</th><th style = \"text-align: left;\">x2</th><th style = \"text-align: left;\">x3</th><th style = \"text-align: left;\">x4</th><th style = \"text-align: left;\">x5</th><th style = \"text-align: left;\">x6</th><th style = \"text-align: left;\">x7</th><th style = \"text-align: left;\">x8</th><th style = \"text-align: left;\">x9</th><th style = \"text-align: left;\">x10</th></tr><tr class = \"subheader headerLastRow\"><th class = \"rowLabel\" style = \"font-weight: bold; text-align: right;\"></th><th title = \"Int64\" style = \"text-align: left;\">Int64</th><th title = \"Int64\" style = \"text-align: left;\">Int64</th><th title = \"Int64\" style = \"text-align: left;\">Int64</th><th title = \"Int64\" style = \"text-align: left;\">Int64</th><th title = \"Int64\" style = \"text-align: left;\">Int64</th><th title = \"Int64\" style = \"text-align: left;\">Int64</th><th title = \"Int64\" style = \"text-align: left;\">Int64</th><th title = \"Int64\" style = \"text-align: left;\">Int64</th><th title = \"Int64\" style = \"text-align: left;\">Int64</th><th title = \"Int64\" style = \"text-align: left;\">Int64</th></tr></thead><tbody><tr><td class = \"rowLabel\" style = \"font-weight: bold; text-align: right;\">1</td><td style = \"text-align: right;\">3</td><td style = \"text-align: right;\">2</td><td style = \"text-align: right;\">7</td><td style = \"text-align: right;\">4</td><td style = \"text-align: right;\">10</td><td style = \"text-align: right;\">6</td><td style = \"text-align: right;\">1</td><td style = \"text-align: right;\">4</td><td style = \"text-align: right;\">6</td><td style = \"text-align: right;\">3</td></tr></tbody></table></div>"
      ],
      "text/latex": [
       "\\begin{tabular}{r|cccccccccc}\n",
       "\t& x1 & x2 & x3 & x4 & x5 & x6 & x7 & x8 & x9 & x10\\\\\n",
       "\t\\hline\n",
       "\t& Int64 & Int64 & Int64 & Int64 & Int64 & Int64 & Int64 & Int64 & Int64 & Int64\\\\\n",
       "\t\\hline\n",
       "\t1 & 3 & 2 & 7 & 4 & 10 & 6 & 1 & 4 & 6 & 3 \\\\\n",
       "\\end{tabular}\n"
      ],
      "text/plain": [
       "\u001b[1mDataFrameRow\u001b[0m\n",
       "\u001b[1m Row \u001b[0m│\u001b[1m x1    \u001b[0m\u001b[1m x2    \u001b[0m\u001b[1m x3    \u001b[0m\u001b[1m x4    \u001b[0m\u001b[1m x5    \u001b[0m\u001b[1m x6    \u001b[0m\u001b[1m x7    \u001b[0m\u001b[1m x8    \u001b[0m\u001b[1m x9    \u001b[0m\u001b[1m x10   \u001b[0m\n",
       "     │\u001b[90m Int64 \u001b[0m\u001b[90m Int64 \u001b[0m\u001b[90m Int64 \u001b[0m\u001b[90m Int64 \u001b[0m\u001b[90m Int64 \u001b[0m\u001b[90m Int64 \u001b[0m\u001b[90m Int64 \u001b[0m\u001b[90m Int64 \u001b[0m\u001b[90m Int64 \u001b[0m\u001b[90m Int64 \u001b[0m\n",
       "─────┼──────────────────────────────────────────────────────────────────────\n",
       "   1 │     3      2      7      4     10      6      1      4      6      3"
      ]
     },
     "execution_count": 14,
     "metadata": {},
     "output_type": "execute_result"
    }
   ],
   "source": [
    "first(y)"
   ]
  },
  {
   "cell_type": "code",
   "execution_count": 15,
   "metadata": {},
   "outputs": [
    {
     "data": {
      "text/html": [
       "<div><div style = \"float: left;\"><span>DataFrameRow (10 columns)</span></div><div style = \"clear: both;\"></div></div><div class = \"data-frame\" style = \"overflow-x: scroll;\"><table class = \"data-frame\" style = \"margin-bottom: 6px;\"><thead><tr class = \"header\"><th class = \"rowLabel\" style = \"font-weight: bold; text-align: right;\">Row</th><th style = \"text-align: left;\">x1</th><th style = \"text-align: left;\">x2</th><th style = \"text-align: left;\">x3</th><th style = \"text-align: left;\">x4</th><th style = \"text-align: left;\">x5</th><th style = \"text-align: left;\">x6</th><th style = \"text-align: left;\">x7</th><th style = \"text-align: left;\">x8</th><th style = \"text-align: left;\">x9</th><th style = \"text-align: left;\">x10</th></tr><tr class = \"subheader headerLastRow\"><th class = \"rowLabel\" style = \"font-weight: bold; text-align: right;\"></th><th title = \"Int64\" style = \"text-align: left;\">Int64</th><th title = \"Int64\" style = \"text-align: left;\">Int64</th><th title = \"Int64\" style = \"text-align: left;\">Int64</th><th title = \"Int64\" style = \"text-align: left;\">Int64</th><th title = \"Int64\" style = \"text-align: left;\">Int64</th><th title = \"Int64\" style = \"text-align: left;\">Int64</th><th title = \"Int64\" style = \"text-align: left;\">Int64</th><th title = \"Int64\" style = \"text-align: left;\">Int64</th><th title = \"Int64\" style = \"text-align: left;\">Int64</th><th title = \"Int64\" style = \"text-align: left;\">Int64</th></tr></thead><tbody><tr><td class = \"rowLabel\" style = \"font-weight: bold; text-align: right;\">1000</td><td style = \"text-align: right;\">10</td><td style = \"text-align: right;\">4</td><td style = \"text-align: right;\">9</td><td style = \"text-align: right;\">10</td><td style = \"text-align: right;\">1</td><td style = \"text-align: right;\">10</td><td style = \"text-align: right;\">6</td><td style = \"text-align: right;\">9</td><td style = \"text-align: right;\">8</td><td style = \"text-align: right;\">8</td></tr></tbody></table></div>"
      ],
      "text/latex": [
       "\\begin{tabular}{r|cccccccccc}\n",
       "\t& x1 & x2 & x3 & x4 & x5 & x6 & x7 & x8 & x9 & x10\\\\\n",
       "\t\\hline\n",
       "\t& Int64 & Int64 & Int64 & Int64 & Int64 & Int64 & Int64 & Int64 & Int64 & Int64\\\\\n",
       "\t\\hline\n",
       "\t1000 & 10 & 4 & 9 & 10 & 1 & 10 & 6 & 9 & 8 & 8 \\\\\n",
       "\\end{tabular}\n"
      ],
      "text/plain": [
       "\u001b[1mDataFrameRow\u001b[0m\n",
       "\u001b[1m  Row \u001b[0m│\u001b[1m x1    \u001b[0m\u001b[1m x2    \u001b[0m\u001b[1m x3    \u001b[0m\u001b[1m x4    \u001b[0m\u001b[1m x5    \u001b[0m\u001b[1m x6    \u001b[0m\u001b[1m x7    \u001b[0m\u001b[1m x8    \u001b[0m\u001b[1m x9    \u001b[0m\u001b[1m x10   \u001b[0m\n",
       "      │\u001b[90m Int64 \u001b[0m\u001b[90m Int64 \u001b[0m\u001b[90m Int64 \u001b[0m\u001b[90m Int64 \u001b[0m\u001b[90m Int64 \u001b[0m\u001b[90m Int64 \u001b[0m\u001b[90m Int64 \u001b[0m\u001b[90m Int64 \u001b[0m\u001b[90m Int64 \u001b[0m\u001b[90m Int64 \u001b[0m\n",
       "──────┼──────────────────────────────────────────────────────────────────────\n",
       " 1000 │    10      4      9     10      1     10      6      9      8      8"
      ]
     },
     "execution_count": 15,
     "metadata": {},
     "output_type": "execute_result"
    }
   ],
   "source": [
    "last(y)"
   ]
  },
  {
   "cell_type": "markdown",
   "metadata": {},
   "source": [
    "### Displaying wide data frames"
   ]
  },
  {
   "cell_type": "markdown",
   "metadata": {},
   "source": [
    "Create a wide and tall data frame:"
   ]
  },
  {
   "cell_type": "code",
   "execution_count": 16,
   "metadata": {
    "scrolled": false
   },
   "outputs": [
    {
     "data": {
      "text/html": [
       "<div><div style = \"float: left;\"><span>100×200 DataFrame</span></div><div style = \"float: right;\"><span style = \"font-style: italic;\">100 columns and 75 rows omitted</span></div><div style = \"clear: both;\"></div></div><div class = \"data-frame\" style = \"overflow-x: scroll;\"><table class = \"data-frame\" style = \"margin-bottom: 6px;\"><thead><tr class = \"header\"><th class = \"rowNumber\" style = \"font-weight: bold; text-align: right;\">Row</th><th style = \"text-align: left;\">x1</th><th style = \"text-align: left;\">x2</th><th style = \"text-align: left;\">x3</th><th style = \"text-align: left;\">x4</th><th style = \"text-align: left;\">x5</th><th style = \"text-align: left;\">x6</th><th style = \"text-align: left;\">x7</th><th style = \"text-align: left;\">x8</th><th style = \"text-align: left;\">x9</th><th style = \"text-align: left;\">x10</th><th style = \"text-align: left;\">x11</th><th style = \"text-align: left;\">x12</th><th style = \"text-align: left;\">x13</th><th style = \"text-align: left;\">x14</th><th style = \"text-align: left;\">x15</th><th style = \"text-align: left;\">x16</th><th style = \"text-align: left;\">x17</th><th style = \"text-align: left;\">x18</th><th style = \"text-align: left;\">x19</th><th style = \"text-align: left;\">x20</th><th style = \"text-align: left;\">x21</th><th style = \"text-align: left;\">x22</th><th style = \"text-align: left;\">x23</th><th style = \"text-align: left;\">x24</th><th style = \"text-align: left;\">x25</th><th style = \"text-align: left;\">x26</th><th style = \"text-align: left;\">x27</th><th style = \"text-align: left;\">x28</th><th style = \"text-align: left;\">x29</th><th style = \"text-align: left;\">x30</th><th style = \"text-align: left;\">x31</th><th style = \"text-align: left;\">x32</th><th style = \"text-align: left;\">x33</th><th style = \"text-align: left;\">x34</th><th style = \"text-align: left;\">x35</th><th style = \"text-align: left;\">x36</th><th style = \"text-align: left;\">x37</th><th style = \"text-align: left;\">x38</th><th style = \"text-align: left;\">x39</th><th style = \"text-align: left;\">x40</th><th style = \"text-align: left;\">x41</th><th style = \"text-align: left;\">x42</th><th style = \"text-align: left;\">x43</th><th style = \"text-align: left;\">x44</th><th style = \"text-align: left;\">x45</th><th style = \"text-align: left;\">x46</th><th style = \"text-align: left;\">x47</th><th style = \"text-align: left;\">x48</th><th style = \"text-align: left;\">x49</th><th style = \"text-align: left;\">x50</th><th style = \"text-align: left;\">x51</th><th style = \"text-align: left;\">x52</th><th style = \"text-align: left;\">x53</th><th style = \"text-align: left;\">x54</th><th style = \"text-align: left;\">x55</th><th style = \"text-align: left;\">x56</th><th style = \"text-align: left;\">x57</th><th style = \"text-align: left;\">x58</th><th style = \"text-align: left;\">x59</th><th style = \"text-align: left;\">x60</th><th style = \"text-align: left;\">x61</th><th style = \"text-align: left;\">x62</th><th style = \"text-align: left;\">x63</th><th style = \"text-align: left;\">x64</th><th style = \"text-align: left;\">x65</th><th style = \"text-align: left;\">x66</th><th style = \"text-align: left;\">x67</th><th style = \"text-align: left;\">x68</th><th style = \"text-align: left;\">x69</th><th style = \"text-align: left;\">x70</th><th style = \"text-align: left;\">x71</th><th style = \"text-align: left;\">x72</th><th style = \"text-align: left;\">x73</th><th style = \"text-align: left;\">x74</th><th style = \"text-align: left;\">x75</th><th style = \"text-align: left;\">x76</th><th style = \"text-align: left;\">x77</th><th style = \"text-align: left;\">x78</th><th style = \"text-align: left;\">x79</th><th style = \"text-align: left;\">x80</th><th style = \"text-align: left;\">x81</th><th style = \"text-align: left;\">x82</th><th style = \"text-align: left;\">x83</th><th style = \"text-align: left;\">x84</th><th style = \"text-align: left;\">x85</th><th style = \"text-align: left;\">x86</th><th style = \"text-align: left;\">x87</th><th style = \"text-align: left;\">x88</th><th style = \"text-align: left;\">x89</th><th style = \"text-align: left;\">x90</th><th style = \"text-align: left;\">x91</th><th style = \"text-align: left;\">x92</th><th style = \"text-align: left;\">x93</th><th style = \"text-align: left;\">x94</th><th style = \"text-align: left;\">x95</th><th style = \"text-align: left;\">x96</th><th style = \"text-align: left;\">x97</th><th style = \"text-align: left;\">x98</th><th style = \"text-align: left;\">x99</th><th style = \"text-align: left;\">x100</th><th style = \"text-align: right;\">&ctdot;</th></tr><tr class = \"subheader headerLastRow\"><th class = \"rowNumber\" style = \"font-weight: bold; text-align: right;\"></th><th title = \"Float64\" style = \"text-align: left;\">Float64</th><th title = \"Float64\" style = \"text-align: left;\">Float64</th><th title = \"Float64\" style = \"text-align: left;\">Float64</th><th title = \"Float64\" style = \"text-align: left;\">Float64</th><th title = \"Float64\" style = \"text-align: left;\">Float64</th><th title = \"Float64\" style = \"text-align: left;\">Float64</th><th title = \"Float64\" style = \"text-align: left;\">Float64</th><th title = \"Float64\" style = \"text-align: left;\">Float64</th><th title = \"Float64\" style = \"text-align: left;\">Float64</th><th title = \"Float64\" style = \"text-align: left;\">Float64</th><th title = \"Float64\" style = \"text-align: left;\">Float64</th><th title = \"Float64\" style = \"text-align: left;\">Float64</th><th title = \"Float64\" style = \"text-align: left;\">Float64</th><th title = \"Float64\" style = \"text-align: left;\">Float64</th><th title = \"Float64\" style = \"text-align: left;\">Float64</th><th title = \"Float64\" style = \"text-align: left;\">Float64</th><th title = \"Float64\" style = \"text-align: left;\">Float64</th><th title = \"Float64\" style = \"text-align: left;\">Float64</th><th title = \"Float64\" style = \"text-align: left;\">Float64</th><th title = \"Float64\" style = \"text-align: left;\">Float64</th><th title = \"Float64\" style = \"text-align: left;\">Float64</th><th title = \"Float64\" style = \"text-align: left;\">Float64</th><th title = \"Float64\" style = \"text-align: left;\">Float64</th><th title = \"Float64\" style = \"text-align: left;\">Float64</th><th title = \"Float64\" style = \"text-align: left;\">Float64</th><th title = \"Float64\" style = \"text-align: left;\">Float64</th><th title = \"Float64\" style = \"text-align: left;\">Float64</th><th title = \"Float64\" style = \"text-align: left;\">Float64</th><th title = \"Float64\" style = \"text-align: left;\">Float64</th><th title = \"Float64\" style = \"text-align: left;\">Float64</th><th title = \"Float64\" style = \"text-align: left;\">Float64</th><th title = \"Float64\" style = \"text-align: left;\">Float64</th><th title = \"Float64\" style = \"text-align: left;\">Float64</th><th title = \"Float64\" style = \"text-align: left;\">Float64</th><th title = \"Float64\" style = \"text-align: left;\">Float64</th><th title = \"Float64\" style = \"text-align: left;\">Float64</th><th title = \"Float64\" style = \"text-align: left;\">Float64</th><th title = \"Float64\" style = \"text-align: left;\">Float64</th><th title = \"Float64\" style = \"text-align: left;\">Float64</th><th title = \"Float64\" style = \"text-align: left;\">Float64</th><th title = \"Float64\" style = \"text-align: left;\">Float64</th><th title = \"Float64\" style = \"text-align: left;\">Float64</th><th title = \"Float64\" style = \"text-align: left;\">Float64</th><th title = \"Float64\" style = \"text-align: left;\">Float64</th><th title = \"Float64\" style = \"text-align: left;\">Float64</th><th title = \"Float64\" style = \"text-align: left;\">Float64</th><th title = \"Float64\" style = \"text-align: left;\">Float64</th><th title = \"Float64\" style = \"text-align: left;\">Float64</th><th title = \"Float64\" style = \"text-align: left;\">Float64</th><th title = \"Float64\" style = \"text-align: left;\">Float64</th><th title = \"Float64\" style = \"text-align: left;\">Float64</th><th title = \"Float64\" style = \"text-align: left;\">Float64</th><th title = \"Float64\" style = \"text-align: left;\">Float64</th><th title = \"Float64\" style = \"text-align: left;\">Float64</th><th title = \"Float64\" style = \"text-align: left;\">Float64</th><th title = \"Float64\" style = \"text-align: left;\">Float64</th><th title = \"Float64\" style = \"text-align: left;\">Float64</th><th title = \"Float64\" style = \"text-align: left;\">Float64</th><th title = \"Float64\" style = \"text-align: left;\">Float64</th><th title = \"Float64\" style = \"text-align: left;\">Float64</th><th title = \"Float64\" style = \"text-align: left;\">Float64</th><th title = \"Float64\" style = \"text-align: left;\">Float64</th><th title = \"Float64\" style = \"text-align: left;\">Float64</th><th title = \"Float64\" style = \"text-align: left;\">Float64</th><th title = \"Float64\" style = \"text-align: left;\">Float64</th><th title = \"Float64\" style = \"text-align: left;\">Float64</th><th title = \"Float64\" style = \"text-align: left;\">Float64</th><th title = \"Float64\" style = \"text-align: left;\">Float64</th><th title = \"Float64\" style = \"text-align: left;\">Float64</th><th title = \"Float64\" style = \"text-align: left;\">Float64</th><th title = \"Float64\" style = \"text-align: left;\">Float64</th><th title = \"Float64\" style = \"text-align: left;\">Float64</th><th title = \"Float64\" style = \"text-align: left;\">Float64</th><th title = \"Float64\" style = \"text-align: left;\">Float64</th><th title = \"Float64\" style = \"text-align: left;\">Float64</th><th title = \"Float64\" style = \"text-align: left;\">Float64</th><th title = \"Float64\" style = \"text-align: left;\">Float64</th><th title = \"Float64\" style = \"text-align: left;\">Float64</th><th title = \"Float64\" style = \"text-align: left;\">Float64</th><th title = \"Float64\" style = \"text-align: left;\">Float64</th><th title = \"Float64\" style = \"text-align: left;\">Float64</th><th title = \"Float64\" style = \"text-align: left;\">Float64</th><th title = \"Float64\" style = \"text-align: left;\">Float64</th><th title = \"Float64\" style = \"text-align: left;\">Float64</th><th title = \"Float64\" style = \"text-align: left;\">Float64</th><th title = \"Float64\" style = \"text-align: left;\">Float64</th><th title = \"Float64\" style = \"text-align: left;\">Float64</th><th title = \"Float64\" style = \"text-align: left;\">Float64</th><th title = \"Float64\" style = \"text-align: left;\">Float64</th><th title = \"Float64\" style = \"text-align: left;\">Float64</th><th title = \"Float64\" style = \"text-align: left;\">Float64</th><th title = \"Float64\" style = \"text-align: left;\">Float64</th><th title = \"Float64\" style = \"text-align: left;\">Float64</th><th title = \"Float64\" style = \"text-align: left;\">Float64</th><th title = \"Float64\" style = \"text-align: left;\">Float64</th><th title = \"Float64\" style = \"text-align: left;\">Float64</th><th title = \"Float64\" style = \"text-align: left;\">Float64</th><th title = \"Float64\" style = \"text-align: left;\">Float64</th><th title = \"Float64\" style = \"text-align: left;\">Float64</th><th title = \"Float64\" style = \"text-align: left;\">Float64</th><th title = \"Float64\" style = \"text-align: right;\">&ctdot;</th></tr></thead><tbody><tr><td class = \"rowNumber\" style = \"font-weight: bold; text-align: right;\">1</td><td style = \"text-align: right;\">0.249412</td><td style = \"text-align: right;\">0.559655</td><td style = \"text-align: right;\">0.378745</td><td style = \"text-align: right;\">0.137394</td><td style = \"text-align: right;\">0.948394</td><td style = \"text-align: right;\">0.635572</td><td style = \"text-align: right;\">0.935412</td><td style = \"text-align: right;\">0.280237</td><td style = \"text-align: right;\">0.298434</td><td style = \"text-align: right;\">0.562121</td><td style = \"text-align: right;\">0.422646</td><td style = \"text-align: right;\">0.306769</td><td style = \"text-align: right;\">0.184239</td><td style = \"text-align: right;\">0.761514</td><td style = \"text-align: right;\">0.497445</td><td style = \"text-align: right;\">0.921715</td><td style = \"text-align: right;\">0.242146</td><td style = \"text-align: right;\">0.806812</td><td style = \"text-align: right;\">0.848843</td><td style = \"text-align: right;\">0.0452605</td><td style = \"text-align: right;\">0.380708</td><td style = \"text-align: right;\">0.8512</td><td style = \"text-align: right;\">0.8944</td><td style = \"text-align: right;\">0.382554</td><td style = \"text-align: right;\">0.374517</td><td style = \"text-align: right;\">0.729465</td><td style = \"text-align: right;\">0.802631</td><td style = \"text-align: right;\">0.936001</td><td style = \"text-align: right;\">0.781134</td><td style = \"text-align: right;\">0.700261</td><td style = \"text-align: right;\">0.667519</td><td style = \"text-align: right;\">0.283381</td><td style = \"text-align: right;\">0.206644</td><td style = \"text-align: right;\">0.0914723</td><td style = \"text-align: right;\">0.786683</td><td style = \"text-align: right;\">0.122758</td><td style = \"text-align: right;\">0.899991</td><td style = \"text-align: right;\">0.685516</td><td style = \"text-align: right;\">0.0596386</td><td style = \"text-align: right;\">0.157927</td><td style = \"text-align: right;\">0.681217</td><td style = \"text-align: right;\">0.303366</td><td style = \"text-align: right;\">0.656468</td><td style = \"text-align: right;\">0.686573</td><td style = \"text-align: right;\">0.62445</td><td style = \"text-align: right;\">0.643847</td><td style = \"text-align: right;\">0.440427</td><td style = \"text-align: right;\">0.181951</td><td style = \"text-align: right;\">0.224681</td><td style = \"text-align: right;\">0.383298</td><td style = \"text-align: right;\">0.0546941</td><td style = \"text-align: right;\">0.472388</td><td style = \"text-align: right;\">0.888212</td><td style = \"text-align: right;\">0.431548</td><td style = \"text-align: right;\">0.0218663</td><td style = \"text-align: right;\">0.050868</td><td style = \"text-align: right;\">0.307723</td><td style = \"text-align: right;\">0.882558</td><td style = \"text-align: right;\">0.00782513</td><td style = \"text-align: right;\">0.556511</td><td style = \"text-align: right;\">0.974478</td><td style = \"text-align: right;\">0.170432</td><td style = \"text-align: right;\">0.443193</td><td style = \"text-align: right;\">0.709274</td><td style = \"text-align: right;\">0.375205</td><td style = \"text-align: right;\">0.529572</td><td style = \"text-align: right;\">0.232876</td><td style = \"text-align: right;\">0.14136</td><td style = \"text-align: right;\">0.10853</td><td style = \"text-align: right;\">0.28142</td><td style = \"text-align: right;\">0.0962248</td><td style = \"text-align: right;\">0.657313</td><td style = \"text-align: right;\">0.772606</td><td style = \"text-align: right;\">0.569577</td><td style = \"text-align: right;\">0.481707</td><td style = \"text-align: right;\">0.21998</td><td style = \"text-align: right;\">0.943492</td><td style = \"text-align: right;\">0.517465</td><td style = \"text-align: right;\">0.788573</td><td style = \"text-align: right;\">0.130805</td><td style = \"text-align: right;\">0.192986</td><td style = \"text-align: right;\">0.628709</td><td style = \"text-align: right;\">0.474826</td><td style = \"text-align: right;\">0.343057</td><td style = \"text-align: right;\">0.542071</td><td style = \"text-align: right;\">0.262552</td><td style = \"text-align: right;\">0.155312</td><td style = \"text-align: right;\">0.900407</td><td style = \"text-align: right;\">0.969099</td><td style = \"text-align: right;\">0.31975</td><td style = \"text-align: right;\">0.562748</td><td style = \"text-align: right;\">0.609972</td><td style = \"text-align: right;\">0.0731349</td><td style = \"text-align: right;\">0.109217</td><td style = \"text-align: right;\">0.600659</td><td style = \"text-align: right;\">0.674514</td><td style = \"text-align: right;\">0.813645</td><td style = \"text-align: right;\">0.290046</td><td style = \"text-align: right;\">0.751774</td><td style = \"text-align: right;\">0.140064</td><td style = \"text-align: right;\">&ctdot;</td></tr><tr><td class = \"rowNumber\" style = \"font-weight: bold; text-align: right;\">2</td><td style = \"text-align: right;\">0.110629</td><td style = \"text-align: right;\">0.211643</td><td style = \"text-align: right;\">0.85364</td><td style = \"text-align: right;\">0.889184</td><td style = \"text-align: right;\">0.43874</td><td style = \"text-align: right;\">0.432405</td><td style = \"text-align: right;\">0.698155</td><td style = \"text-align: right;\">0.044846</td><td style = \"text-align: right;\">0.72579</td><td style = \"text-align: right;\">0.612554</td><td style = \"text-align: right;\">0.95542</td><td style = \"text-align: right;\">0.239042</td><td style = \"text-align: right;\">0.391704</td><td style = \"text-align: right;\">0.0710033</td><td style = \"text-align: right;\">0.595319</td><td style = \"text-align: right;\">0.990282</td><td style = \"text-align: right;\">0.334887</td><td style = \"text-align: right;\">0.322537</td><td style = \"text-align: right;\">0.0969591</td><td style = \"text-align: right;\">0.525096</td><td style = \"text-align: right;\">0.0369182</td><td style = \"text-align: right;\">0.560639</td><td style = \"text-align: right;\">0.0240156</td><td style = \"text-align: right;\">0.387392</td><td style = \"text-align: right;\">0.315697</td><td style = \"text-align: right;\">0.939254</td><td style = \"text-align: right;\">0.640522</td><td style = \"text-align: right;\">0.339375</td><td style = \"text-align: right;\">0.174917</td><td style = \"text-align: right;\">0.127891</td><td style = \"text-align: right;\">0.341653</td><td style = \"text-align: right;\">0.0605413</td><td style = \"text-align: right;\">0.620293</td><td style = \"text-align: right;\">0.0040841</td><td style = \"text-align: right;\">0.845827</td><td style = \"text-align: right;\">0.511239</td><td style = \"text-align: right;\">0.673765</td><td style = \"text-align: right;\">0.752782</td><td style = \"text-align: right;\">0.921155</td><td style = \"text-align: right;\">0.0675625</td><td style = \"text-align: right;\">0.153809</td><td style = \"text-align: right;\">0.349169</td><td style = \"text-align: right;\">0.986569</td><td style = \"text-align: right;\">0.870692</td><td style = \"text-align: right;\">0.490656</td><td style = \"text-align: right;\">0.663186</td><td style = \"text-align: right;\">0.0661922</td><td style = \"text-align: right;\">0.867721</td><td style = \"text-align: right;\">0.63255</td><td style = \"text-align: right;\">0.515759</td><td style = \"text-align: right;\">0.659839</td><td style = \"text-align: right;\">0.751868</td><td style = \"text-align: right;\">0.849729</td><td style = \"text-align: right;\">0.993508</td><td style = \"text-align: right;\">0.479148</td><td style = \"text-align: right;\">0.132942</td><td style = \"text-align: right;\">0.71072</td><td style = \"text-align: right;\">0.726689</td><td style = \"text-align: right;\">0.730419</td><td style = \"text-align: right;\">0.263327</td><td style = \"text-align: right;\">0.704462</td><td style = \"text-align: right;\">0.374912</td><td style = \"text-align: right;\">0.797514</td><td style = \"text-align: right;\">0.642335</td><td style = \"text-align: right;\">0.566045</td><td style = \"text-align: right;\">0.356869</td><td style = \"text-align: right;\">0.460741</td><td style = \"text-align: right;\">0.58298</td><td style = \"text-align: right;\">0.209343</td><td style = \"text-align: right;\">0.890249</td><td style = \"text-align: right;\">0.689613</td><td style = \"text-align: right;\">0.217253</td><td style = \"text-align: right;\">0.496443</td><td style = \"text-align: right;\">0.180122</td><td style = \"text-align: right;\">0.178431</td><td style = \"text-align: right;\">0.560355</td><td style = \"text-align: right;\">0.382425</td><td style = \"text-align: right;\">0.388165</td><td style = \"text-align: right;\">0.668452</td><td style = \"text-align: right;\">0.177359</td><td style = \"text-align: right;\">0.715897</td><td style = \"text-align: right;\">0.536965</td><td style = \"text-align: right;\">0.778197</td><td style = \"text-align: right;\">0.501648</td><td style = \"text-align: right;\">0.0379285</td><td style = \"text-align: right;\">0.865216</td><td style = \"text-align: right;\">0.360853</td><td style = \"text-align: right;\">0.130374</td><td style = \"text-align: right;\">0.765814</td><td style = \"text-align: right;\">0.123611</td><td style = \"text-align: right;\">0.601643</td><td style = \"text-align: right;\">0.0159019</td><td style = \"text-align: right;\">0.0218813</td><td style = \"text-align: right;\">0.479441</td><td style = \"text-align: right;\">0.293931</td><td style = \"text-align: right;\">0.57172</td><td style = \"text-align: right;\">0.703787</td><td style = \"text-align: right;\">0.419902</td><td style = \"text-align: right;\">0.63878</td><td style = \"text-align: right;\">0.469695</td><td style = \"text-align: right;\">&ctdot;</td></tr><tr><td class = \"rowNumber\" style = \"font-weight: bold; text-align: right;\">3</td><td style = \"text-align: right;\">0.466349</td><td style = \"text-align: right;\">0.476323</td><td style = \"text-align: right;\">0.507129</td><td style = \"text-align: right;\">0.329598</td><td style = \"text-align: right;\">0.854379</td><td style = \"text-align: right;\">0.0897526</td><td style = \"text-align: right;\">0.933332</td><td style = \"text-align: right;\">0.842779</td><td style = \"text-align: right;\">0.40718</td><td style = \"text-align: right;\">0.50324</td><td style = \"text-align: right;\">0.575441</td><td style = \"text-align: right;\">0.641975</td><td style = \"text-align: right;\">0.249865</td><td style = \"text-align: right;\">0.578226</td><td style = \"text-align: right;\">0.574444</td><td style = \"text-align: right;\">0.305377</td><td style = \"text-align: right;\">0.80035</td><td style = \"text-align: right;\">0.713837</td><td style = \"text-align: right;\">0.625547</td><td style = \"text-align: right;\">0.683671</td><td style = \"text-align: right;\">0.655787</td><td style = \"text-align: right;\">0.527514</td><td style = \"text-align: right;\">0.520218</td><td style = \"text-align: right;\">0.797295</td><td style = \"text-align: right;\">0.384063</td><td style = \"text-align: right;\">0.0109032</td><td style = \"text-align: right;\">0.315064</td><td style = \"text-align: right;\">0.412489</td><td style = \"text-align: right;\">0.499193</td><td style = \"text-align: right;\">0.655655</td><td style = \"text-align: right;\">0.00723092</td><td style = \"text-align: right;\">0.542674</td><td style = \"text-align: right;\">0.877234</td><td style = \"text-align: right;\">0.185818</td><td style = \"text-align: right;\">0.530018</td><td style = \"text-align: right;\">0.92482</td><td style = \"text-align: right;\">0.526685</td><td style = \"text-align: right;\">0.0473893</td><td style = \"text-align: right;\">0.719192</td><td style = \"text-align: right;\">0.752802</td><td style = \"text-align: right;\">0.571614</td><td style = \"text-align: right;\">0.154694</td><td style = \"text-align: right;\">0.0437621</td><td style = \"text-align: right;\">0.64934</td><td style = \"text-align: right;\">0.00665427</td><td style = \"text-align: right;\">0.616821</td><td style = \"text-align: right;\">0.156286</td><td style = \"text-align: right;\">0.676603</td><td style = \"text-align: right;\">0.958152</td><td style = \"text-align: right;\">0.305398</td><td style = \"text-align: right;\">0.817413</td><td style = \"text-align: right;\">0.829401</td><td style = \"text-align: right;\">0.227153</td><td style = \"text-align: right;\">0.942676</td><td style = \"text-align: right;\">0.625905</td><td style = \"text-align: right;\">0.244693</td><td style = \"text-align: right;\">0.714556</td><td style = \"text-align: right;\">0.676951</td><td style = \"text-align: right;\">0.385022</td><td style = \"text-align: right;\">0.602986</td><td style = \"text-align: right;\">0.751604</td><td style = \"text-align: right;\">0.810795</td><td style = \"text-align: right;\">0.549155</td><td style = \"text-align: right;\">0.288145</td><td style = \"text-align: right;\">0.178084</td><td style = \"text-align: right;\">0.566834</td><td style = \"text-align: right;\">0.0836573</td><td style = \"text-align: right;\">0.110596</td><td style = \"text-align: right;\">0.656725</td><td style = \"text-align: right;\">0.94146</td><td style = \"text-align: right;\">0.442837</td><td style = \"text-align: right;\">0.544574</td><td style = \"text-align: right;\">0.787328</td><td style = \"text-align: right;\">0.16148</td><td style = \"text-align: right;\">0.529305</td><td style = \"text-align: right;\">0.834601</td><td style = \"text-align: right;\">0.183141</td><td style = \"text-align: right;\">0.7798</td><td style = \"text-align: right;\">0.461514</td><td style = \"text-align: right;\">0.971836</td><td style = \"text-align: right;\">0.0658098</td><td style = \"text-align: right;\">0.999377</td><td style = \"text-align: right;\">0.961728</td><td style = \"text-align: right;\">0.679264</td><td style = \"text-align: right;\">0.740443</td><td style = \"text-align: right;\">0.301887</td><td style = \"text-align: right;\">0.247391</td><td style = \"text-align: right;\">0.167979</td><td style = \"text-align: right;\">0.328427</td><td style = \"text-align: right;\">0.155577</td><td style = \"text-align: right;\">0.980418</td><td style = \"text-align: right;\">0.0875793</td><td style = \"text-align: right;\">0.320074</td><td style = \"text-align: right;\">0.943165</td><td style = \"text-align: right;\">0.456884</td><td style = \"text-align: right;\">0.916725</td><td style = \"text-align: right;\">0.312776</td><td style = \"text-align: right;\">0.0381242</td><td style = \"text-align: right;\">0.523058</td><td style = \"text-align: right;\">0.959724</td><td style = \"text-align: right;\">&ctdot;</td></tr><tr><td class = \"rowNumber\" style = \"font-weight: bold; text-align: right;\">4</td><td style = \"text-align: right;\">0.804267</td><td style = \"text-align: right;\">0.602622</td><td style = \"text-align: right;\">0.859737</td><td style = \"text-align: right;\">0.268283</td><td style = \"text-align: right;\">0.535211</td><td style = \"text-align: right;\">0.401073</td><td style = \"text-align: right;\">0.762981</td><td style = \"text-align: right;\">0.524647</td><td style = \"text-align: right;\">0.568459</td><td style = \"text-align: right;\">0.658771</td><td style = \"text-align: right;\">0.554153</td><td style = \"text-align: right;\">0.53992</td><td style = \"text-align: right;\">0.496404</td><td style = \"text-align: right;\">0.550856</td><td style = \"text-align: right;\">0.461969</td><td style = \"text-align: right;\">0.538016</td><td style = \"text-align: right;\">0.673176</td><td style = \"text-align: right;\">0.703359</td><td style = \"text-align: right;\">0.296645</td><td style = \"text-align: right;\">0.353097</td><td style = \"text-align: right;\">0.434274</td><td style = \"text-align: right;\">0.942733</td><td style = \"text-align: right;\">0.0879047</td><td style = \"text-align: right;\">0.412802</td><td style = \"text-align: right;\">0.34759</td><td style = \"text-align: right;\">0.048208</td><td style = \"text-align: right;\">0.176796</td><td style = \"text-align: right;\">0.01763</td><td style = \"text-align: right;\">0.921092</td><td style = \"text-align: right;\">0.392715</td><td style = \"text-align: right;\">0.445027</td><td style = \"text-align: right;\">0.0180006</td><td style = \"text-align: right;\">0.792926</td><td style = \"text-align: right;\">0.0740741</td><td style = \"text-align: right;\">0.360512</td><td style = \"text-align: right;\">0.938033</td><td style = \"text-align: right;\">0.612806</td><td style = \"text-align: right;\">0.243011</td><td style = \"text-align: right;\">0.0111078</td><td style = \"text-align: right;\">0.745463</td><td style = \"text-align: right;\">0.559737</td><td style = \"text-align: right;\">0.159825</td><td style = \"text-align: right;\">0.264294</td><td style = \"text-align: right;\">0.214257</td><td style = \"text-align: right;\">0.448754</td><td style = \"text-align: right;\">0.278704</td><td style = \"text-align: right;\">0.99514</td><td style = \"text-align: right;\">0.359745</td><td style = \"text-align: right;\">0.619327</td><td style = \"text-align: right;\">0.466589</td><td style = \"text-align: right;\">0.15701</td><td style = \"text-align: right;\">0.498354</td><td style = \"text-align: right;\">0.939304</td><td style = \"text-align: right;\">0.449083</td><td style = \"text-align: right;\">0.606422</td><td style = \"text-align: right;\">0.165357</td><td style = \"text-align: right;\">0.199428</td><td style = \"text-align: right;\">0.407481</td><td style = \"text-align: right;\">0.776797</td><td style = \"text-align: right;\">0.25111</td><td style = \"text-align: right;\">0.972366</td><td style = \"text-align: right;\">0.265487</td><td style = \"text-align: right;\">0.104258</td><td style = \"text-align: right;\">0.17057</td><td style = \"text-align: right;\">0.37061</td><td style = \"text-align: right;\">0.75167</td><td style = \"text-align: right;\">0.354052</td><td style = \"text-align: right;\">0.609035</td><td style = \"text-align: right;\">0.268068</td><td style = \"text-align: right;\">0.851871</td><td style = \"text-align: right;\">0.759934</td><td style = \"text-align: right;\">0.615033</td><td style = \"text-align: right;\">0.98703</td><td style = \"text-align: right;\">0.697938</td><td style = \"text-align: right;\">0.0245296</td><td style = \"text-align: right;\">0.338688</td><td style = \"text-align: right;\">0.0934747</td><td style = \"text-align: right;\">0.335371</td><td style = \"text-align: right;\">0.900301</td><td style = \"text-align: right;\">0.121884</td><td style = \"text-align: right;\">0.728411</td><td style = \"text-align: right;\">0.0145506</td><td style = \"text-align: right;\">0.0823715</td><td style = \"text-align: right;\">0.722575</td><td style = \"text-align: right;\">0.0076624</td><td style = \"text-align: right;\">0.575784</td><td style = \"text-align: right;\">0.32392</td><td style = \"text-align: right;\">0.836447</td><td style = \"text-align: right;\">0.271738</td><td style = \"text-align: right;\">0.0866031</td><td style = \"text-align: right;\">0.74757</td><td style = \"text-align: right;\">0.187959</td><td style = \"text-align: right;\">0.692399</td><td style = \"text-align: right;\">0.948416</td><td style = \"text-align: right;\">0.551444</td><td style = \"text-align: right;\">0.00127176</td><td style = \"text-align: right;\">0.860236</td><td style = \"text-align: right;\">0.801659</td><td style = \"text-align: right;\">0.870235</td><td style = \"text-align: right;\">0.342895</td><td style = \"text-align: right;\">&ctdot;</td></tr><tr><td class = \"rowNumber\" style = \"font-weight: bold; text-align: right;\">5</td><td style = \"text-align: right;\">0.176593</td><td style = \"text-align: right;\">0.638845</td><td style = \"text-align: right;\">0.783848</td><td style = \"text-align: right;\">0.208701</td><td style = \"text-align: right;\">0.774966</td><td style = \"text-align: right;\">0.514468</td><td style = \"text-align: right;\">0.623931</td><td style = \"text-align: right;\">0.901259</td><td style = \"text-align: right;\">0.646193</td><td style = \"text-align: right;\">0.718758</td><td style = \"text-align: right;\">0.554974</td><td style = \"text-align: right;\">0.943358</td><td style = \"text-align: right;\">0.304827</td><td style = \"text-align: right;\">0.921459</td><td style = \"text-align: right;\">0.635</td><td style = \"text-align: right;\">0.19945</td><td style = \"text-align: right;\">0.923307</td><td style = \"text-align: right;\">0.325208</td><td style = \"text-align: right;\">0.273877</td><td style = \"text-align: right;\">0.722193</td><td style = \"text-align: right;\">0.922059</td><td style = \"text-align: right;\">0.0673509</td><td style = \"text-align: right;\">0.799218</td><td style = \"text-align: right;\">0.345102</td><td style = \"text-align: right;\">0.400016</td><td style = \"text-align: right;\">0.37964</td><td style = \"text-align: right;\">0.113405</td><td style = \"text-align: right;\">0.580209</td><td style = \"text-align: right;\">0.0288229</td><td style = \"text-align: right;\">0.742957</td><td style = \"text-align: right;\">0.281113</td><td style = \"text-align: right;\">0.865009</td><td style = \"text-align: right;\">0.409998</td><td style = \"text-align: right;\">0.862557</td><td style = \"text-align: right;\">0.0899976</td><td style = \"text-align: right;\">0.257731</td><td style = \"text-align: right;\">0.543761</td><td style = \"text-align: right;\">0.682377</td><td style = \"text-align: right;\">0.914989</td><td style = \"text-align: right;\">0.91193</td><td style = \"text-align: right;\">0.533661</td><td style = \"text-align: right;\">0.60428</td><td style = \"text-align: right;\">0.718662</td><td style = \"text-align: right;\">0.670993</td><td style = \"text-align: right;\">0.0911299</td><td style = \"text-align: right;\">0.0895281</td><td style = \"text-align: right;\">0.925499</td><td style = \"text-align: right;\">0.423084</td><td style = \"text-align: right;\">0.867344</td><td style = \"text-align: right;\">0.259363</td><td style = \"text-align: right;\">0.530889</td><td style = \"text-align: right;\">0.204231</td><td style = \"text-align: right;\">0.372086</td><td style = \"text-align: right;\">0.391417</td><td style = \"text-align: right;\">0.870898</td><td style = \"text-align: right;\">0.178763</td><td style = \"text-align: right;\">0.954679</td><td style = \"text-align: right;\">0.83875</td><td style = \"text-align: right;\">0.579067</td><td style = \"text-align: right;\">0.0973196</td><td style = \"text-align: right;\">0.772308</td><td style = \"text-align: right;\">0.969944</td><td style = \"text-align: right;\">0.70187</td><td style = \"text-align: right;\">0.429063</td><td style = \"text-align: right;\">0.422418</td><td style = \"text-align: right;\">0.117238</td><td style = \"text-align: right;\">0.126396</td><td style = \"text-align: right;\">0.846284</td><td style = \"text-align: right;\">0.390784</td><td style = \"text-align: right;\">0.423242</td><td style = \"text-align: right;\">0.897299</td><td style = \"text-align: right;\">0.180896</td><td style = \"text-align: right;\">0.474448</td><td style = \"text-align: right;\">0.0219668</td><td style = \"text-align: right;\">0.560991</td><td style = \"text-align: right;\">0.0738647</td><td style = \"text-align: right;\">0.804782</td><td style = \"text-align: right;\">0.850131</td><td style = \"text-align: right;\">0.753929</td><td style = \"text-align: right;\">0.0073333</td><td style = \"text-align: right;\">0.684257</td><td style = \"text-align: right;\">0.093503</td><td style = \"text-align: right;\">0.0262097</td><td style = \"text-align: right;\">0.963244</td><td style = \"text-align: right;\">0.245879</td><td style = \"text-align: right;\">0.236846</td><td style = \"text-align: right;\">0.42477</td><td style = \"text-align: right;\">0.762272</td><td style = \"text-align: right;\">0.02569</td><td style = \"text-align: right;\">0.423611</td><td style = \"text-align: right;\">0.596029</td><td style = \"text-align: right;\">0.871267</td><td style = \"text-align: right;\">0.161878</td><td style = \"text-align: right;\">0.0336365</td><td style = \"text-align: right;\">0.218668</td><td style = \"text-align: right;\">0.341344</td><td style = \"text-align: right;\">0.182615</td><td style = \"text-align: right;\">0.421283</td><td style = \"text-align: right;\">0.479003</td><td style = \"text-align: right;\">0.717836</td><td style = \"text-align: right;\">&ctdot;</td></tr><tr><td class = \"rowNumber\" style = \"font-weight: bold; text-align: right;\">6</td><td style = \"text-align: right;\">0.666309</td><td style = \"text-align: right;\">0.0402717</td><td style = \"text-align: right;\">0.853619</td><td style = \"text-align: right;\">0.914509</td><td style = \"text-align: right;\">0.0502141</td><td style = \"text-align: right;\">0.361152</td><td style = \"text-align: right;\">0.632845</td><td style = \"text-align: right;\">0.186416</td><td style = \"text-align: right;\">0.489227</td><td style = \"text-align: right;\">0.854799</td><td style = \"text-align: right;\">0.828921</td><td style = \"text-align: right;\">0.543065</td><td style = \"text-align: right;\">0.771948</td><td style = \"text-align: right;\">0.250593</td><td style = \"text-align: right;\">0.342906</td><td style = \"text-align: right;\">0.36569</td><td style = \"text-align: right;\">0.415966</td><td style = \"text-align: right;\">0.0975378</td><td style = \"text-align: right;\">0.997948</td><td style = \"text-align: right;\">0.541963</td><td style = \"text-align: right;\">0.298605</td><td style = \"text-align: right;\">0.25809</td><td style = \"text-align: right;\">0.966053</td><td style = \"text-align: right;\">0.383107</td><td style = \"text-align: right;\">0.755645</td><td style = \"text-align: right;\">0.0250783</td><td style = \"text-align: right;\">0.562116</td><td style = \"text-align: right;\">0.438272</td><td style = \"text-align: right;\">0.950891</td><td style = \"text-align: right;\">0.217404</td><td style = \"text-align: right;\">0.311875</td><td style = \"text-align: right;\">0.561476</td><td style = \"text-align: right;\">0.616196</td><td style = \"text-align: right;\">0.558799</td><td style = \"text-align: right;\">0.304548</td><td style = \"text-align: right;\">0.954551</td><td style = \"text-align: right;\">0.161064</td><td style = \"text-align: right;\">0.749428</td><td style = \"text-align: right;\">0.557508</td><td style = \"text-align: right;\">0.929012</td><td style = \"text-align: right;\">0.269032</td><td style = \"text-align: right;\">0.166966</td><td style = \"text-align: right;\">0.189296</td><td style = \"text-align: right;\">0.295403</td><td style = \"text-align: right;\">0.747769</td><td style = \"text-align: right;\">0.975283</td><td style = \"text-align: right;\">0.0596265</td><td style = \"text-align: right;\">0.55929</td><td style = \"text-align: right;\">0.600608</td><td style = \"text-align: right;\">0.898224</td><td style = \"text-align: right;\">0.245045</td><td style = \"text-align: right;\">0.769309</td><td style = \"text-align: right;\">0.615247</td><td style = \"text-align: right;\">0.722868</td><td style = \"text-align: right;\">0.673943</td><td style = \"text-align: right;\">0.15583</td><td style = \"text-align: right;\">0.739821</td><td style = \"text-align: right;\">0.346898</td><td style = \"text-align: right;\">0.0609948</td><td style = \"text-align: right;\">0.407687</td><td style = \"text-align: right;\">0.428092</td><td style = \"text-align: right;\">0.825944</td><td style = \"text-align: right;\">0.309049</td><td style = \"text-align: right;\">0.671986</td><td style = \"text-align: right;\">0.497414</td><td style = \"text-align: right;\">0.172852</td><td style = \"text-align: right;\">0.49597</td><td style = \"text-align: right;\">0.363839</td><td style = \"text-align: right;\">0.393782</td><td style = \"text-align: right;\">0.193419</td><td style = \"text-align: right;\">0.663639</td><td style = \"text-align: right;\">0.753938</td><td style = \"text-align: right;\">0.363872</td><td style = \"text-align: right;\">0.415915</td><td style = \"text-align: right;\">0.922747</td><td style = \"text-align: right;\">0.041089</td><td style = \"text-align: right;\">0.956441</td><td style = \"text-align: right;\">0.72037</td><td style = \"text-align: right;\">0.349338</td><td style = \"text-align: right;\">0.488303</td><td style = \"text-align: right;\">0.997223</td><td style = \"text-align: right;\">0.126897</td><td style = \"text-align: right;\">0.206099</td><td style = \"text-align: right;\">0.44464</td><td style = \"text-align: right;\">0.335484</td><td style = \"text-align: right;\">0.603045</td><td style = \"text-align: right;\">0.193853</td><td style = \"text-align: right;\">0.570459</td><td style = \"text-align: right;\">0.0987467</td><td style = \"text-align: right;\">0.578948</td><td style = \"text-align: right;\">0.751883</td><td style = \"text-align: right;\">0.542455</td><td style = \"text-align: right;\">0.932826</td><td style = \"text-align: right;\">0.444817</td><td style = \"text-align: right;\">0.0588221</td><td style = \"text-align: right;\">0.89808</td><td style = \"text-align: right;\">0.47741</td><td style = \"text-align: right;\">0.23827</td><td style = \"text-align: right;\">0.332427</td><td style = \"text-align: right;\">0.448961</td><td style = \"text-align: right;\">&ctdot;</td></tr><tr><td class = \"rowNumber\" style = \"font-weight: bold; text-align: right;\">7</td><td style = \"text-align: right;\">0.894426</td><td style = \"text-align: right;\">0.6967</td><td style = \"text-align: right;\">0.558841</td><td style = \"text-align: right;\">0.885829</td><td style = \"text-align: right;\">0.715455</td><td style = \"text-align: right;\">0.319941</td><td style = \"text-align: right;\">0.269813</td><td style = \"text-align: right;\">0.547738</td><td style = \"text-align: right;\">0.357002</td><td style = \"text-align: right;\">0.306137</td><td style = \"text-align: right;\">0.539079</td><td style = \"text-align: right;\">0.831128</td><td style = \"text-align: right;\">0.868615</td><td style = \"text-align: right;\">0.549629</td><td style = \"text-align: right;\">0.16361</td><td style = \"text-align: right;\">0.893158</td><td style = \"text-align: right;\">0.851089</td><td style = \"text-align: right;\">0.861985</td><td style = \"text-align: right;\">0.378027</td><td style = \"text-align: right;\">0.0836376</td><td style = \"text-align: right;\">0.12682</td><td style = \"text-align: right;\">0.932506</td><td style = \"text-align: right;\">0.76596</td><td style = \"text-align: right;\">0.964933</td><td style = \"text-align: right;\">0.668857</td><td style = \"text-align: right;\">0.487459</td><td style = \"text-align: right;\">0.595135</td><td style = \"text-align: right;\">0.406319</td><td style = \"text-align: right;\">0.200655</td><td style = \"text-align: right;\">0.341517</td><td style = \"text-align: right;\">0.323315</td><td style = \"text-align: right;\">0.238243</td><td style = \"text-align: right;\">0.342719</td><td style = \"text-align: right;\">0.303332</td><td style = \"text-align: right;\">0.426506</td><td style = \"text-align: right;\">0.0834814</td><td style = \"text-align: right;\">0.501686</td><td style = \"text-align: right;\">0.708248</td><td style = \"text-align: right;\">0.687235</td><td style = \"text-align: right;\">0.282823</td><td style = \"text-align: right;\">0.83074</td><td style = \"text-align: right;\">0.200557</td><td style = \"text-align: right;\">0.945073</td><td style = \"text-align: right;\">0.511466</td><td style = \"text-align: right;\">0.30207</td><td style = \"text-align: right;\">0.483852</td><td style = \"text-align: right;\">0.342973</td><td style = \"text-align: right;\">0.168039</td><td style = \"text-align: right;\">0.534801</td><td style = \"text-align: right;\">0.132778</td><td style = \"text-align: right;\">0.57505</td><td style = \"text-align: right;\">0.264307</td><td style = \"text-align: right;\">0.516963</td><td style = \"text-align: right;\">0.872694</td><td style = \"text-align: right;\">0.200027</td><td style = \"text-align: right;\">0.163712</td><td style = \"text-align: right;\">0.0497402</td><td style = \"text-align: right;\">0.128974</td><td style = \"text-align: right;\">0.463769</td><td style = \"text-align: right;\">0.548437</td><td style = \"text-align: right;\">0.693644</td><td style = \"text-align: right;\">0.412642</td><td style = \"text-align: right;\">0.348197</td><td style = \"text-align: right;\">0.859043</td><td style = \"text-align: right;\">0.203964</td><td style = \"text-align: right;\">0.569755</td><td style = \"text-align: right;\">0.540017</td><td style = \"text-align: right;\">0.587457</td><td style = \"text-align: right;\">0.222475</td><td style = \"text-align: right;\">0.846703</td><td style = \"text-align: right;\">0.00801061</td><td style = \"text-align: right;\">0.793548</td><td style = \"text-align: right;\">0.541101</td><td style = \"text-align: right;\">0.23301</td><td style = \"text-align: right;\">0.42913</td><td style = \"text-align: right;\">0.760076</td><td style = \"text-align: right;\">0.354356</td><td style = \"text-align: right;\">0.186451</td><td style = \"text-align: right;\">0.228486</td><td style = \"text-align: right;\">0.443303</td><td style = \"text-align: right;\">0.604616</td><td style = \"text-align: right;\">0.891778</td><td style = \"text-align: right;\">0.0185469</td><td style = \"text-align: right;\">0.793558</td><td style = \"text-align: right;\">0.403866</td><td style = \"text-align: right;\">0.890841</td><td style = \"text-align: right;\">0.157067</td><td style = \"text-align: right;\">0.759925</td><td style = \"text-align: right;\">0.187735</td><td style = \"text-align: right;\">0.775699</td><td style = \"text-align: right;\">0.0125463</td><td style = \"text-align: right;\">0.670738</td><td style = \"text-align: right;\">0.277562</td><td style = \"text-align: right;\">0.929261</td><td style = \"text-align: right;\">0.75417</td><td style = \"text-align: right;\">0.235711</td><td style = \"text-align: right;\">0.672042</td><td style = \"text-align: right;\">0.508405</td><td style = \"text-align: right;\">0.238116</td><td style = \"text-align: right;\">0.0697072</td><td style = \"text-align: right;\">&ctdot;</td></tr><tr><td class = \"rowNumber\" style = \"font-weight: bold; text-align: right;\">8</td><td style = \"text-align: right;\">0.873197</td><td style = \"text-align: right;\">0.0861044</td><td style = \"text-align: right;\">0.364093</td><td style = \"text-align: right;\">0.37206</td><td style = \"text-align: right;\">0.570922</td><td style = \"text-align: right;\">0.250892</td><td style = \"text-align: right;\">0.379765</td><td style = \"text-align: right;\">0.133052</td><td style = \"text-align: right;\">0.114769</td><td style = \"text-align: right;\">0.757347</td><td style = \"text-align: right;\">0.840904</td><td style = \"text-align: right;\">0.642007</td><td style = \"text-align: right;\">0.533873</td><td style = \"text-align: right;\">0.175085</td><td style = \"text-align: right;\">0.409486</td><td style = \"text-align: right;\">0.00773734</td><td style = \"text-align: right;\">0.430495</td><td style = \"text-align: right;\">0.540669</td><td style = \"text-align: right;\">0.658605</td><td style = \"text-align: right;\">0.437576</td><td style = \"text-align: right;\">0.200567</td><td style = \"text-align: right;\">0.121757</td><td style = \"text-align: right;\">0.862965</td><td style = \"text-align: right;\">0.00572139</td><td style = \"text-align: right;\">0.0342702</td><td style = \"text-align: right;\">0.441522</td><td style = \"text-align: right;\">0.299972</td><td style = \"text-align: right;\">0.147801</td><td style = \"text-align: right;\">0.941199</td><td style = \"text-align: right;\">0.97397</td><td style = \"text-align: right;\">0.971207</td><td style = \"text-align: right;\">0.660565</td><td style = \"text-align: right;\">0.590583</td><td style = \"text-align: right;\">0.282419</td><td style = \"text-align: right;\">0.0973998</td><td style = \"text-align: right;\">0.707215</td><td style = \"text-align: right;\">0.756396</td><td style = \"text-align: right;\">0.603219</td><td style = \"text-align: right;\">0.0721579</td><td style = \"text-align: right;\">0.618647</td><td style = \"text-align: right;\">0.828441</td><td style = \"text-align: right;\">0.927684</td><td style = \"text-align: right;\">0.754198</td><td style = \"text-align: right;\">0.0275895</td><td style = \"text-align: right;\">0.455363</td><td style = \"text-align: right;\">0.431119</td><td style = \"text-align: right;\">0.680567</td><td style = \"text-align: right;\">0.502528</td><td style = \"text-align: right;\">0.442821</td><td style = \"text-align: right;\">0.0229161</td><td style = \"text-align: right;\">0.752831</td><td style = \"text-align: right;\">0.0335596</td><td style = \"text-align: right;\">0.818321</td><td style = \"text-align: right;\">0.182115</td><td style = \"text-align: right;\">0.913844</td><td style = \"text-align: right;\">0.441016</td><td style = \"text-align: right;\">0.419001</td><td style = \"text-align: right;\">0.627733</td><td style = \"text-align: right;\">0.868572</td><td style = \"text-align: right;\">0.050325</td><td style = \"text-align: right;\">0.703675</td><td style = \"text-align: right;\">0.55875</td><td style = \"text-align: right;\">0.595069</td><td style = \"text-align: right;\">0.997583</td><td style = \"text-align: right;\">0.460984</td><td style = \"text-align: right;\">0.781929</td><td style = \"text-align: right;\">0.687102</td><td style = \"text-align: right;\">0.112418</td><td style = \"text-align: right;\">0.124901</td><td style = \"text-align: right;\">0.942221</td><td style = \"text-align: right;\">0.662641</td><td style = \"text-align: right;\">0.955402</td><td style = \"text-align: right;\">0.206993</td><td style = \"text-align: right;\">0.42319</td><td style = \"text-align: right;\">0.163467</td><td style = \"text-align: right;\">0.315327</td><td style = \"text-align: right;\">0.232156</td><td style = \"text-align: right;\">0.0089459</td><td style = \"text-align: right;\">0.214465</td><td style = \"text-align: right;\">0.832791</td><td style = \"text-align: right;\">0.879284</td><td style = \"text-align: right;\">0.340675</td><td style = \"text-align: right;\">0.895646</td><td style = \"text-align: right;\">0.438025</td><td style = \"text-align: right;\">0.937818</td><td style = \"text-align: right;\">0.299509</td><td style = \"text-align: right;\">0.113988</td><td style = \"text-align: right;\">0.87875</td><td style = \"text-align: right;\">0.98286</td><td style = \"text-align: right;\">0.632704</td><td style = \"text-align: right;\">0.677826</td><td style = \"text-align: right;\">0.347854</td><td style = \"text-align: right;\">0.712119</td><td style = \"text-align: right;\">0.15263</td><td style = \"text-align: right;\">0.676938</td><td style = \"text-align: right;\">0.467904</td><td style = \"text-align: right;\">0.523184</td><td style = \"text-align: right;\">0.827805</td><td style = \"text-align: right;\">0.117623</td><td style = \"text-align: right;\">0.640771</td><td style = \"text-align: right;\">&ctdot;</td></tr><tr><td class = \"rowNumber\" style = \"font-weight: bold; text-align: right;\">9</td><td style = \"text-align: right;\">0.0183111</td><td style = \"text-align: right;\">0.735</td><td style = \"text-align: right;\">0.852842</td><td style = \"text-align: right;\">0.196452</td><td style = \"text-align: right;\">0.384451</td><td style = \"text-align: right;\">0.944532</td><td style = \"text-align: right;\">0.812263</td><td style = \"text-align: right;\">0.480509</td><td style = \"text-align: right;\">0.332482</td><td style = \"text-align: right;\">0.276799</td><td style = \"text-align: right;\">0.489698</td><td style = \"text-align: right;\">0.48551</td><td style = \"text-align: right;\">0.736103</td><td style = \"text-align: right;\">0.207041</td><td style = \"text-align: right;\">0.486428</td><td style = \"text-align: right;\">0.0345256</td><td style = \"text-align: right;\">0.676742</td><td style = \"text-align: right;\">0.212242</td><td style = \"text-align: right;\">0.237483</td><td style = \"text-align: right;\">0.820577</td><td style = \"text-align: right;\">0.791695</td><td style = \"text-align: right;\">0.945897</td><td style = \"text-align: right;\">0.105322</td><td style = \"text-align: right;\">0.986427</td><td style = \"text-align: right;\">0.0515389</td><td style = \"text-align: right;\">0.357163</td><td style = \"text-align: right;\">0.846142</td><td style = \"text-align: right;\">0.879509</td><td style = \"text-align: right;\">0.950185</td><td style = \"text-align: right;\">0.701245</td><td style = \"text-align: right;\">0.92674</td><td style = \"text-align: right;\">0.0667234</td><td style = \"text-align: right;\">0.188979</td><td style = \"text-align: right;\">0.890017</td><td style = \"text-align: right;\">0.184018</td><td style = \"text-align: right;\">0.541659</td><td style = \"text-align: right;\">0.182355</td><td style = \"text-align: right;\">0.0488404</td><td style = \"text-align: right;\">0.0655675</td><td style = \"text-align: right;\">0.881957</td><td style = \"text-align: right;\">0.236667</td><td style = \"text-align: right;\">0.342556</td><td style = \"text-align: right;\">0.721364</td><td style = \"text-align: right;\">0.563776</td><td style = \"text-align: right;\">0.884295</td><td style = \"text-align: right;\">0.997039</td><td style = \"text-align: right;\">0.572476</td><td style = \"text-align: right;\">0.239274</td><td style = \"text-align: right;\">0.575607</td><td style = \"text-align: right;\">0.838045</td><td style = \"text-align: right;\">0.0129461</td><td style = \"text-align: right;\">0.533655</td><td style = \"text-align: right;\">0.712624</td><td style = \"text-align: right;\">0.631661</td><td style = \"text-align: right;\">0.139179</td><td style = \"text-align: right;\">0.234791</td><td style = \"text-align: right;\">0.826314</td><td style = \"text-align: right;\">0.235506</td><td style = \"text-align: right;\">0.522304</td><td style = \"text-align: right;\">0.158832</td><td style = \"text-align: right;\">0.487355</td><td style = \"text-align: right;\">0.430932</td><td style = \"text-align: right;\">0.57107</td><td style = \"text-align: right;\">0.135732</td><td style = \"text-align: right;\">0.254141</td><td style = \"text-align: right;\">0.293932</td><td style = \"text-align: right;\">0.932216</td><td style = \"text-align: right;\">0.948274</td><td style = \"text-align: right;\">0.0708018</td><td style = \"text-align: right;\">0.337954</td><td style = \"text-align: right;\">0.783646</td><td style = \"text-align: right;\">0.0397166</td><td style = \"text-align: right;\">0.762117</td><td style = \"text-align: right;\">0.57157</td><td style = \"text-align: right;\">0.00907469</td><td style = \"text-align: right;\">0.983322</td><td style = \"text-align: right;\">0.164297</td><td style = \"text-align: right;\">0.886645</td><td style = \"text-align: right;\">0.946988</td><td style = \"text-align: right;\">0.582749</td><td style = \"text-align: right;\">0.568459</td><td style = \"text-align: right;\">0.44285</td><td style = \"text-align: right;\">0.659556</td><td style = \"text-align: right;\">0.944262</td><td style = \"text-align: right;\">0.926938</td><td style = \"text-align: right;\">0.732621</td><td style = \"text-align: right;\">0.626601</td><td style = \"text-align: right;\">0.0698247</td><td style = \"text-align: right;\">0.568672</td><td style = \"text-align: right;\">0.228414</td><td style = \"text-align: right;\">0.11531</td><td style = \"text-align: right;\">0.90506</td><td style = \"text-align: right;\">0.339445</td><td style = \"text-align: right;\">0.868705</td><td style = \"text-align: right;\">0.74559</td><td style = \"text-align: right;\">0.637008</td><td style = \"text-align: right;\">0.822438</td><td style = \"text-align: right;\">0.904625</td><td style = \"text-align: right;\">0.815446</td><td style = \"text-align: right;\">0.164155</td><td style = \"text-align: right;\">&ctdot;</td></tr><tr><td class = \"rowNumber\" style = \"font-weight: bold; text-align: right;\">10</td><td style = \"text-align: right;\">0.203287</td><td style = \"text-align: right;\">0.619224</td><td style = \"text-align: right;\">0.604029</td><td style = \"text-align: right;\">0.671429</td><td style = \"text-align: right;\">0.340781</td><td style = \"text-align: right;\">0.242838</td><td style = \"text-align: right;\">0.0817439</td><td style = \"text-align: right;\">0.742158</td><td style = \"text-align: right;\">0.285322</td><td style = \"text-align: right;\">0.561654</td><td style = \"text-align: right;\">0.370959</td><td style = \"text-align: right;\">0.480269</td><td style = \"text-align: right;\">0.522957</td><td style = \"text-align: right;\">0.555218</td><td style = \"text-align: right;\">0.995311</td><td style = \"text-align: right;\">0.707073</td><td style = \"text-align: right;\">0.250969</td><td style = \"text-align: right;\">0.658562</td><td style = \"text-align: right;\">0.342413</td><td style = \"text-align: right;\">0.290697</td><td style = \"text-align: right;\">0.113129</td><td style = \"text-align: right;\">0.844212</td><td style = \"text-align: right;\">0.832122</td><td style = \"text-align: right;\">0.27973</td><td style = \"text-align: right;\">0.599098</td><td style = \"text-align: right;\">0.0707039</td><td style = \"text-align: right;\">0.290975</td><td style = \"text-align: right;\">0.240877</td><td style = \"text-align: right;\">0.200799</td><td style = \"text-align: right;\">0.16632</td><td style = \"text-align: right;\">0.252108</td><td style = \"text-align: right;\">0.609384</td><td style = \"text-align: right;\">0.864243</td><td style = \"text-align: right;\">0.0981178</td><td style = \"text-align: right;\">0.222626</td><td style = \"text-align: right;\">0.192328</td><td style = \"text-align: right;\">0.432714</td><td style = \"text-align: right;\">0.0767629</td><td style = \"text-align: right;\">0.0567352</td><td style = \"text-align: right;\">0.0551317</td><td style = \"text-align: right;\">0.991781</td><td style = \"text-align: right;\">0.146703</td><td style = \"text-align: right;\">0.14477</td><td style = \"text-align: right;\">0.21906</td><td style = \"text-align: right;\">0.816726</td><td style = \"text-align: right;\">0.297632</td><td style = \"text-align: right;\">0.2851</td><td style = \"text-align: right;\">0.331079</td><td style = \"text-align: right;\">0.564983</td><td style = \"text-align: right;\">0.66476</td><td style = \"text-align: right;\">0.0469064</td><td style = \"text-align: right;\">0.242931</td><td style = \"text-align: right;\">0.536936</td><td style = \"text-align: right;\">0.104018</td><td style = \"text-align: right;\">0.739745</td><td style = \"text-align: right;\">0.179929</td><td style = \"text-align: right;\">0.247789</td><td style = \"text-align: right;\">0.321239</td><td style = \"text-align: right;\">0.391979</td><td style = \"text-align: right;\">0.743643</td><td style = \"text-align: right;\">0.440271</td><td style = \"text-align: right;\">0.575192</td><td style = \"text-align: right;\">0.521747</td><td style = \"text-align: right;\">0.475265</td><td style = \"text-align: right;\">0.450184</td><td style = \"text-align: right;\">0.776261</td><td style = \"text-align: right;\">0.0991257</td><td style = \"text-align: right;\">0.555039</td><td style = \"text-align: right;\">0.034666</td><td style = \"text-align: right;\">0.487475</td><td style = \"text-align: right;\">0.646936</td><td style = \"text-align: right;\">0.253947</td><td style = \"text-align: right;\">0.508489</td><td style = \"text-align: right;\">0.285488</td><td style = \"text-align: right;\">0.114311</td><td style = \"text-align: right;\">0.865556</td><td style = \"text-align: right;\">0.605703</td><td style = \"text-align: right;\">0.964789</td><td style = \"text-align: right;\">0.0954673</td><td style = \"text-align: right;\">0.394596</td><td style = \"text-align: right;\">0.901836</td><td style = \"text-align: right;\">0.00336237</td><td style = \"text-align: right;\">0.309638</td><td style = \"text-align: right;\">0.775142</td><td style = \"text-align: right;\">0.37731</td><td style = \"text-align: right;\">0.945473</td><td style = \"text-align: right;\">0.579795</td><td style = \"text-align: right;\">0.221501</td><td style = \"text-align: right;\">0.646966</td><td style = \"text-align: right;\">0.926337</td><td style = \"text-align: right;\">0.183</td><td style = \"text-align: right;\">0.887553</td><td style = \"text-align: right;\">0.200345</td><td style = \"text-align: right;\">0.472571</td><td style = \"text-align: right;\">0.320007</td><td style = \"text-align: right;\">0.989467</td><td style = \"text-align: right;\">0.18918</td><td style = \"text-align: right;\">0.996197</td><td style = \"text-align: right;\">0.26744</td><td style = \"text-align: right;\">0.462906</td><td style = \"text-align: right;\">&ctdot;</td></tr><tr><td class = \"rowNumber\" style = \"font-weight: bold; text-align: right;\">11</td><td style = \"text-align: right;\">0.651496</td><td style = \"text-align: right;\">0.631377</td><td style = \"text-align: right;\">0.564565</td><td style = \"text-align: right;\">0.333314</td><td style = \"text-align: right;\">0.0989011</td><td style = \"text-align: right;\">0.0546171</td><td style = \"text-align: right;\">0.0214371</td><td style = \"text-align: right;\">0.0823738</td><td style = \"text-align: right;\">0.0182854</td><td style = \"text-align: right;\">0.75368</td><td style = \"text-align: right;\">0.810477</td><td style = \"text-align: right;\">0.798588</td><td style = \"text-align: right;\">0.200534</td><td style = \"text-align: right;\">0.0965257</td><td style = \"text-align: right;\">0.388508</td><td style = \"text-align: right;\">0.366702</td><td style = \"text-align: right;\">0.0532556</td><td style = \"text-align: right;\">0.141986</td><td style = \"text-align: right;\">0.636398</td><td style = \"text-align: right;\">0.546054</td><td style = \"text-align: right;\">0.68403</td><td style = \"text-align: right;\">0.890857</td><td style = \"text-align: right;\">0.334348</td><td style = \"text-align: right;\">0.574227</td><td style = \"text-align: right;\">0.0980296</td><td style = \"text-align: right;\">0.281222</td><td style = \"text-align: right;\">0.648953</td><td style = \"text-align: right;\">0.794707</td><td style = \"text-align: right;\">0.464541</td><td style = \"text-align: right;\">0.0878624</td><td style = \"text-align: right;\">0.0229069</td><td style = \"text-align: right;\">0.645386</td><td style = \"text-align: right;\">0.537803</td><td style = \"text-align: right;\">0.300457</td><td style = \"text-align: right;\">0.44085</td><td style = \"text-align: right;\">0.612904</td><td style = \"text-align: right;\">0.747738</td><td style = \"text-align: right;\">0.139274</td><td style = \"text-align: right;\">0.0652061</td><td style = \"text-align: right;\">0.0271407</td><td style = \"text-align: right;\">0.391248</td><td style = \"text-align: right;\">0.14033</td><td style = \"text-align: right;\">0.26394</td><td style = \"text-align: right;\">0.454029</td><td style = \"text-align: right;\">0.521717</td><td style = \"text-align: right;\">0.0185019</td><td style = \"text-align: right;\">0.0516932</td><td style = \"text-align: right;\">0.55374</td><td style = \"text-align: right;\">0.878232</td><td style = \"text-align: right;\">0.643911</td><td style = \"text-align: right;\">0.0245152</td><td style = \"text-align: right;\">0.607043</td><td style = \"text-align: right;\">0.904935</td><td style = \"text-align: right;\">0.942566</td><td style = \"text-align: right;\">0.727819</td><td style = \"text-align: right;\">0.136055</td><td style = \"text-align: right;\">0.994553</td><td style = \"text-align: right;\">0.0150576</td><td style = \"text-align: right;\">0.235604</td><td style = \"text-align: right;\">0.40206</td><td style = \"text-align: right;\">0.0810502</td><td style = \"text-align: right;\">0.127855</td><td style = \"text-align: right;\">0.874681</td><td style = \"text-align: right;\">0.343592</td><td style = \"text-align: right;\">0.653411</td><td style = \"text-align: right;\">0.633876</td><td style = \"text-align: right;\">0.486406</td><td style = \"text-align: right;\">0.25709</td><td style = \"text-align: right;\">0.204607</td><td style = \"text-align: right;\">0.161114</td><td style = \"text-align: right;\">0.17373</td><td style = \"text-align: right;\">0.71273</td><td style = \"text-align: right;\">0.206874</td><td style = \"text-align: right;\">0.156925</td><td style = \"text-align: right;\">0.676308</td><td style = \"text-align: right;\">0.439089</td><td style = \"text-align: right;\">0.473421</td><td style = \"text-align: right;\">0.970925</td><td style = \"text-align: right;\">0.679273</td><td style = \"text-align: right;\">0.538515</td><td style = \"text-align: right;\">0.853545</td><td style = \"text-align: right;\">0.507051</td><td style = \"text-align: right;\">0.314727</td><td style = \"text-align: right;\">0.611971</td><td style = \"text-align: right;\">0.466725</td><td style = \"text-align: right;\">0.877237</td><td style = \"text-align: right;\">0.845283</td><td style = \"text-align: right;\">0.0306914</td><td style = \"text-align: right;\">0.252394</td><td style = \"text-align: right;\">0.391162</td><td style = \"text-align: right;\">0.615174</td><td style = \"text-align: right;\">0.606606</td><td style = \"text-align: right;\">0.302619</td><td style = \"text-align: right;\">0.00641849</td><td style = \"text-align: right;\">0.944758</td><td style = \"text-align: right;\">0.154181</td><td style = \"text-align: right;\">0.382767</td><td style = \"text-align: right;\">0.128859</td><td style = \"text-align: right;\">0.396809</td><td style = \"text-align: right;\">0.652332</td><td style = \"text-align: right;\">&ctdot;</td></tr><tr><td class = \"rowNumber\" style = \"font-weight: bold; text-align: right;\">12</td><td style = \"text-align: right;\">0.724862</td><td style = \"text-align: right;\">0.756478</td><td style = \"text-align: right;\">0.160632</td><td style = \"text-align: right;\">0.284715</td><td style = \"text-align: right;\">0.870379</td><td style = \"text-align: right;\">0.492015</td><td style = \"text-align: right;\">0.0650496</td><td style = \"text-align: right;\">0.404397</td><td style = \"text-align: right;\">0.384465</td><td style = \"text-align: right;\">0.927899</td><td style = \"text-align: right;\">0.0731971</td><td style = \"text-align: right;\">0.0912216</td><td style = \"text-align: right;\">0.468598</td><td style = \"text-align: right;\">0.845705</td><td style = \"text-align: right;\">0.00584102</td><td style = \"text-align: right;\">0.165396</td><td style = \"text-align: right;\">0.583796</td><td style = \"text-align: right;\">0.61162</td><td style = \"text-align: right;\">0.890033</td><td style = \"text-align: right;\">0.939768</td><td style = \"text-align: right;\">0.57447</td><td style = \"text-align: right;\">0.0175592</td><td style = \"text-align: right;\">0.446501</td><td style = \"text-align: right;\">0.355418</td><td style = \"text-align: right;\">0.987867</td><td style = \"text-align: right;\">0.853864</td><td style = \"text-align: right;\">0.786834</td><td style = \"text-align: right;\">0.330399</td><td style = \"text-align: right;\">0.167612</td><td style = \"text-align: right;\">0.859804</td><td style = \"text-align: right;\">0.948711</td><td style = \"text-align: right;\">0.388686</td><td style = \"text-align: right;\">0.142333</td><td style = \"text-align: right;\">0.30846</td><td style = \"text-align: right;\">0.0752967</td><td style = \"text-align: right;\">0.388864</td><td style = \"text-align: right;\">0.376528</td><td style = \"text-align: right;\">0.292736</td><td style = \"text-align: right;\">0.912147</td><td style = \"text-align: right;\">0.0551852</td><td style = \"text-align: right;\">0.644031</td><td style = \"text-align: right;\">0.136545</td><td style = \"text-align: right;\">0.492174</td><td style = \"text-align: right;\">0.755958</td><td style = \"text-align: right;\">0.291652</td><td style = \"text-align: right;\">0.585407</td><td style = \"text-align: right;\">0.0507841</td><td style = \"text-align: right;\">0.74035</td><td style = \"text-align: right;\">0.593219</td><td style = \"text-align: right;\">0.707014</td><td style = \"text-align: right;\">0.552879</td><td style = \"text-align: right;\">0.634241</td><td style = \"text-align: right;\">0.551298</td><td style = \"text-align: right;\">0.304867</td><td style = \"text-align: right;\">0.338483</td><td style = \"text-align: right;\">0.497039</td><td style = \"text-align: right;\">0.383603</td><td style = \"text-align: right;\">0.633743</td><td style = \"text-align: right;\">0.257722</td><td style = \"text-align: right;\">0.644882</td><td style = \"text-align: right;\">0.368466</td><td style = \"text-align: right;\">0.731621</td><td style = \"text-align: right;\">0.531107</td><td style = \"text-align: right;\">0.819502</td><td style = \"text-align: right;\">0.254312</td><td style = \"text-align: right;\">0.552306</td><td style = \"text-align: right;\">0.769379</td><td style = \"text-align: right;\">0.278974</td><td style = \"text-align: right;\">0.361279</td><td style = \"text-align: right;\">0.16409</td><td style = \"text-align: right;\">0.234464</td><td style = \"text-align: right;\">0.994806</td><td style = \"text-align: right;\">0.57685</td><td style = \"text-align: right;\">0.467931</td><td style = \"text-align: right;\">0.349438</td><td style = \"text-align: right;\">0.672042</td><td style = \"text-align: right;\">0.802487</td><td style = \"text-align: right;\">0.0536884</td><td style = \"text-align: right;\">0.363354</td><td style = \"text-align: right;\">0.498721</td><td style = \"text-align: right;\">0.669673</td><td style = \"text-align: right;\">0.315049</td><td style = \"text-align: right;\">0.207326</td><td style = \"text-align: right;\">0.6832</td><td style = \"text-align: right;\">0.721806</td><td style = \"text-align: right;\">0.59271</td><td style = \"text-align: right;\">0.129537</td><td style = \"text-align: right;\">0.22927</td><td style = \"text-align: right;\">0.131955</td><td style = \"text-align: right;\">0.913906</td><td style = \"text-align: right;\">0.515697</td><td style = \"text-align: right;\">0.0436224</td><td style = \"text-align: right;\">0.845828</td><td style = \"text-align: right;\">0.483703</td><td style = \"text-align: right;\">0.326875</td><td style = \"text-align: right;\">0.373128</td><td style = \"text-align: right;\">0.165914</td><td style = \"text-align: right;\">0.19033</td><td style = \"text-align: right;\">0.88063</td><td style = \"text-align: right;\">0.730882</td><td style = \"text-align: right;\">&ctdot;</td></tr><tr><td class = \"rowNumber\" style = \"font-weight: bold; text-align: right;\">13</td><td style = \"text-align: right;\">0.581788</td><td style = \"text-align: right;\">0.849693</td><td style = \"text-align: right;\">0.834679</td><td style = \"text-align: right;\">0.899304</td><td style = \"text-align: right;\">0.611088</td><td style = \"text-align: right;\">0.787762</td><td style = \"text-align: right;\">0.596159</td><td style = \"text-align: right;\">0.528505</td><td style = \"text-align: right;\">0.118672</td><td style = \"text-align: right;\">0.678749</td><td style = \"text-align: right;\">0.858997</td><td style = \"text-align: right;\">0.311462</td><td style = \"text-align: right;\">0.00639872</td><td style = \"text-align: right;\">0.00348638</td><td style = \"text-align: right;\">0.0621336</td><td style = \"text-align: right;\">0.608269</td><td style = \"text-align: right;\">0.282224</td><td style = \"text-align: right;\">0.134405</td><td style = \"text-align: right;\">0.320082</td><td style = \"text-align: right;\">0.646892</td><td style = \"text-align: right;\">0.562724</td><td style = \"text-align: right;\">0.766398</td><td style = \"text-align: right;\">0.164632</td><td style = \"text-align: right;\">0.936299</td><td style = \"text-align: right;\">0.350517</td><td style = \"text-align: right;\">0.972402</td><td style = \"text-align: right;\">0.669419</td><td style = \"text-align: right;\">0.246957</td><td style = \"text-align: right;\">0.146813</td><td style = \"text-align: right;\">0.0267874</td><td style = \"text-align: right;\">0.601047</td><td style = \"text-align: right;\">0.215338</td><td style = \"text-align: right;\">0.148983</td><td style = \"text-align: right;\">0.63189</td><td style = \"text-align: right;\">0.167215</td><td style = \"text-align: right;\">0.270367</td><td style = \"text-align: right;\">0.390591</td><td style = \"text-align: right;\">0.261687</td><td style = \"text-align: right;\">0.836197</td><td style = \"text-align: right;\">0.349039</td><td style = \"text-align: right;\">0.521525</td><td style = \"text-align: right;\">0.487214</td><td style = \"text-align: right;\">0.459527</td><td style = \"text-align: right;\">0.908851</td><td style = \"text-align: right;\">0.58197</td><td style = \"text-align: right;\">0.926466</td><td style = \"text-align: right;\">0.713158</td><td style = \"text-align: right;\">0.0560815</td><td style = \"text-align: right;\">0.28643</td><td style = \"text-align: right;\">0.905159</td><td style = \"text-align: right;\">0.091054</td><td style = \"text-align: right;\">0.231237</td><td style = \"text-align: right;\">0.749907</td><td style = \"text-align: right;\">0.943071</td><td style = \"text-align: right;\">0.252112</td><td style = \"text-align: right;\">0.176138</td><td style = \"text-align: right;\">0.703269</td><td style = \"text-align: right;\">0.603845</td><td style = \"text-align: right;\">0.623223</td><td style = \"text-align: right;\">0.832011</td><td style = \"text-align: right;\">0.229127</td><td style = \"text-align: right;\">0.182933</td><td style = \"text-align: right;\">0.730165</td><td style = \"text-align: right;\">0.42117</td><td style = \"text-align: right;\">0.167331</td><td style = \"text-align: right;\">0.853224</td><td style = \"text-align: right;\">0.802239</td><td style = \"text-align: right;\">0.284476</td><td style = \"text-align: right;\">0.765386</td><td style = \"text-align: right;\">0.87173</td><td style = \"text-align: right;\">0.761586</td><td style = \"text-align: right;\">0.244097</td><td style = \"text-align: right;\">0.285118</td><td style = \"text-align: right;\">0.872429</td><td style = \"text-align: right;\">0.965446</td><td style = \"text-align: right;\">0.63482</td><td style = \"text-align: right;\">0.497353</td><td style = \"text-align: right;\">0.80425</td><td style = \"text-align: right;\">0.262108</td><td style = \"text-align: right;\">0.672161</td><td style = \"text-align: right;\">0.425654</td><td style = \"text-align: right;\">0.22457</td><td style = \"text-align: right;\">0.0033726</td><td style = \"text-align: right;\">0.468544</td><td style = \"text-align: right;\">0.346439</td><td style = \"text-align: right;\">0.672879</td><td style = \"text-align: right;\">0.00457599</td><td style = \"text-align: right;\">0.151845</td><td style = \"text-align: right;\">0.181831</td><td style = \"text-align: right;\">0.0958787</td><td style = \"text-align: right;\">0.0359952</td><td style = \"text-align: right;\">0.0357694</td><td style = \"text-align: right;\">0.642588</td><td style = \"text-align: right;\">0.11237</td><td style = \"text-align: right;\">0.625479</td><td style = \"text-align: right;\">0.332536</td><td style = \"text-align: right;\">0.364923</td><td style = \"text-align: right;\">0.550672</td><td style = \"text-align: right;\">0.739796</td><td style = \"text-align: right;\">0.817717</td><td style = \"text-align: right;\">&ctdot;</td></tr><tr><td style = \"text-align: right;\">&vellip;</td><td style = \"text-align: right;\">&vellip;</td><td style = \"text-align: right;\">&vellip;</td><td style = \"text-align: right;\">&vellip;</td><td style = \"text-align: right;\">&vellip;</td><td style = \"text-align: right;\">&vellip;</td><td style = \"text-align: right;\">&vellip;</td><td style = \"text-align: right;\">&vellip;</td><td style = \"text-align: right;\">&vellip;</td><td style = \"text-align: right;\">&vellip;</td><td style = \"text-align: right;\">&vellip;</td><td style = \"text-align: right;\">&vellip;</td><td style = \"text-align: right;\">&vellip;</td><td style = \"text-align: right;\">&vellip;</td><td style = \"text-align: right;\">&vellip;</td><td style = \"text-align: right;\">&vellip;</td><td style = \"text-align: right;\">&vellip;</td><td style = \"text-align: right;\">&vellip;</td><td style = \"text-align: right;\">&vellip;</td><td style = \"text-align: right;\">&vellip;</td><td style = \"text-align: right;\">&vellip;</td><td style = \"text-align: right;\">&vellip;</td><td style = \"text-align: right;\">&vellip;</td><td style = \"text-align: right;\">&vellip;</td><td style = \"text-align: right;\">&vellip;</td><td style = \"text-align: right;\">&vellip;</td><td style = \"text-align: right;\">&vellip;</td><td style = \"text-align: right;\">&vellip;</td><td style = \"text-align: right;\">&vellip;</td><td style = \"text-align: right;\">&vellip;</td><td style = \"text-align: right;\">&vellip;</td><td style = \"text-align: right;\">&vellip;</td><td style = \"text-align: right;\">&vellip;</td><td style = \"text-align: right;\">&vellip;</td><td style = \"text-align: right;\">&vellip;</td><td style = \"text-align: right;\">&vellip;</td><td style = \"text-align: right;\">&vellip;</td><td style = \"text-align: right;\">&vellip;</td><td style = \"text-align: right;\">&vellip;</td><td style = \"text-align: right;\">&vellip;</td><td style = \"text-align: right;\">&vellip;</td><td style = \"text-align: right;\">&vellip;</td><td style = \"text-align: right;\">&vellip;</td><td style = \"text-align: right;\">&vellip;</td><td style = \"text-align: right;\">&vellip;</td><td style = \"text-align: right;\">&vellip;</td><td style = \"text-align: right;\">&vellip;</td><td style = \"text-align: right;\">&vellip;</td><td style = \"text-align: right;\">&vellip;</td><td style = \"text-align: right;\">&vellip;</td><td style = \"text-align: right;\">&vellip;</td><td style = \"text-align: right;\">&vellip;</td><td style = \"text-align: right;\">&vellip;</td><td style = \"text-align: right;\">&vellip;</td><td style = \"text-align: right;\">&vellip;</td><td style = \"text-align: right;\">&vellip;</td><td style = \"text-align: right;\">&vellip;</td><td style = \"text-align: right;\">&vellip;</td><td style = \"text-align: right;\">&vellip;</td><td style = \"text-align: right;\">&vellip;</td><td style = \"text-align: right;\">&vellip;</td><td style = \"text-align: right;\">&vellip;</td><td style = \"text-align: right;\">&vellip;</td><td style = \"text-align: right;\">&vellip;</td><td style = \"text-align: right;\">&vellip;</td><td style = \"text-align: right;\">&vellip;</td><td style = \"text-align: right;\">&vellip;</td><td style = \"text-align: right;\">&vellip;</td><td style = \"text-align: right;\">&vellip;</td><td style = \"text-align: right;\">&vellip;</td><td style = \"text-align: right;\">&vellip;</td><td style = \"text-align: right;\">&vellip;</td><td style = \"text-align: right;\">&vellip;</td><td style = \"text-align: right;\">&vellip;</td><td style = \"text-align: right;\">&vellip;</td><td style = \"text-align: right;\">&vellip;</td><td style = \"text-align: right;\">&vellip;</td><td style = \"text-align: right;\">&vellip;</td><td style = \"text-align: right;\">&vellip;</td><td style = \"text-align: right;\">&vellip;</td><td style = \"text-align: right;\">&vellip;</td><td style = \"text-align: right;\">&vellip;</td><td style = \"text-align: right;\">&vellip;</td><td style = \"text-align: right;\">&vellip;</td><td style = \"text-align: right;\">&vellip;</td><td style = \"text-align: right;\">&vellip;</td><td style = \"text-align: right;\">&vellip;</td><td style = \"text-align: right;\">&vellip;</td><td style = \"text-align: right;\">&vellip;</td><td style = \"text-align: right;\">&vellip;</td><td style = \"text-align: right;\">&vellip;</td><td style = \"text-align: right;\">&vellip;</td><td style = \"text-align: right;\">&vellip;</td><td style = \"text-align: right;\">&vellip;</td><td style = \"text-align: right;\">&vellip;</td><td style = \"text-align: right;\">&vellip;</td><td style = \"text-align: right;\">&vellip;</td><td style = \"text-align: right;\">&vellip;</td><td style = \"text-align: right;\">&vellip;</td><td style = \"text-align: right;\">&vellip;</td><td style = \"text-align: right;\">&vellip;</td><td style = \"text-align: right;\">&dtdot;</td></tr><tr><td class = \"rowNumber\" style = \"font-weight: bold; text-align: right;\">89</td><td style = \"text-align: right;\">0.362685</td><td style = \"text-align: right;\">0.87631</td><td style = \"text-align: right;\">0.567658</td><td style = \"text-align: right;\">0.160141</td><td style = \"text-align: right;\">0.183174</td><td style = \"text-align: right;\">0.122539</td><td style = \"text-align: right;\">0.750622</td><td style = \"text-align: right;\">0.719451</td><td style = \"text-align: right;\">0.65558</td><td style = \"text-align: right;\">0.756895</td><td style = \"text-align: right;\">0.611257</td><td style = \"text-align: right;\">0.647237</td><td style = \"text-align: right;\">0.898247</td><td style = \"text-align: right;\">0.264618</td><td style = \"text-align: right;\">0.366487</td><td style = \"text-align: right;\">0.827566</td><td style = \"text-align: right;\">0.158244</td><td style = \"text-align: right;\">0.351264</td><td style = \"text-align: right;\">0.995091</td><td style = \"text-align: right;\">0.764411</td><td style = \"text-align: right;\">0.878856</td><td style = \"text-align: right;\">0.321207</td><td style = \"text-align: right;\">0.28173</td><td style = \"text-align: right;\">0.524735</td><td style = \"text-align: right;\">0.411439</td><td style = \"text-align: right;\">0.562598</td><td style = \"text-align: right;\">0.59643</td><td style = \"text-align: right;\">0.152449</td><td style = \"text-align: right;\">0.157173</td><td style = \"text-align: right;\">0.546974</td><td style = \"text-align: right;\">0.199496</td><td style = \"text-align: right;\">0.264694</td><td style = \"text-align: right;\">0.812872</td><td style = \"text-align: right;\">0.375664</td><td style = \"text-align: right;\">0.737593</td><td style = \"text-align: right;\">0.776054</td><td style = \"text-align: right;\">0.777209</td><td style = \"text-align: right;\">0.341307</td><td style = \"text-align: right;\">0.203935</td><td style = \"text-align: right;\">0.281563</td><td style = \"text-align: right;\">0.394022</td><td style = \"text-align: right;\">0.810655</td><td style = \"text-align: right;\">0.643608</td><td style = \"text-align: right;\">0.825283</td><td style = \"text-align: right;\">0.113677</td><td style = \"text-align: right;\">0.446779</td><td style = \"text-align: right;\">0.963272</td><td style = \"text-align: right;\">0.884279</td><td style = \"text-align: right;\">0.520624</td><td style = \"text-align: right;\">0.0709717</td><td style = \"text-align: right;\">0.0932661</td><td style = \"text-align: right;\">0.0926769</td><td style = \"text-align: right;\">0.740027</td><td style = \"text-align: right;\">0.314858</td><td style = \"text-align: right;\">0.471596</td><td style = \"text-align: right;\">0.475613</td><td style = \"text-align: right;\">0.318494</td><td style = \"text-align: right;\">0.408063</td><td style = \"text-align: right;\">0.215412</td><td style = \"text-align: right;\">0.255912</td><td style = \"text-align: right;\">0.995076</td><td style = \"text-align: right;\">0.793478</td><td style = \"text-align: right;\">0.424491</td><td style = \"text-align: right;\">0.659298</td><td style = \"text-align: right;\">0.842302</td><td style = \"text-align: right;\">0.105852</td><td style = \"text-align: right;\">0.443032</td><td style = \"text-align: right;\">0.0460394</td><td style = \"text-align: right;\">0.606491</td><td style = \"text-align: right;\">0.0680644</td><td style = \"text-align: right;\">0.304908</td><td style = \"text-align: right;\">0.606614</td><td style = \"text-align: right;\">0.552045</td><td style = \"text-align: right;\">0.218786</td><td style = \"text-align: right;\">0.700008</td><td style = \"text-align: right;\">0.362127</td><td style = \"text-align: right;\">0.687824</td><td style = \"text-align: right;\">0.974675</td><td style = \"text-align: right;\">0.70274</td><td style = \"text-align: right;\">0.0804632</td><td style = \"text-align: right;\">0.015888</td><td style = \"text-align: right;\">0.327126</td><td style = \"text-align: right;\">0.374704</td><td style = \"text-align: right;\">0.969159</td><td style = \"text-align: right;\">0.349355</td><td style = \"text-align: right;\">0.685538</td><td style = \"text-align: right;\">0.260379</td><td style = \"text-align: right;\">0.796802</td><td style = \"text-align: right;\">0.36026</td><td style = \"text-align: right;\">0.0581714</td><td style = \"text-align: right;\">0.81825</td><td style = \"text-align: right;\">0.820485</td><td style = \"text-align: right;\">0.729626</td><td style = \"text-align: right;\">0.115327</td><td style = \"text-align: right;\">0.624357</td><td style = \"text-align: right;\">0.217014</td><td style = \"text-align: right;\">0.600365</td><td style = \"text-align: right;\">0.43498</td><td style = \"text-align: right;\">0.575544</td><td style = \"text-align: right;\">0.399917</td><td style = \"text-align: right;\">&ctdot;</td></tr><tr><td class = \"rowNumber\" style = \"font-weight: bold; text-align: right;\">90</td><td style = \"text-align: right;\">0.558724</td><td style = \"text-align: right;\">0.250666</td><td style = \"text-align: right;\">0.653468</td><td style = \"text-align: right;\">0.404809</td><td style = \"text-align: right;\">0.950182</td><td style = \"text-align: right;\">0.247748</td><td style = \"text-align: right;\">0.710852</td><td style = \"text-align: right;\">0.855202</td><td style = \"text-align: right;\">0.796571</td><td style = \"text-align: right;\">0.0252086</td><td style = \"text-align: right;\">0.519367</td><td style = \"text-align: right;\">0.788549</td><td style = \"text-align: right;\">0.785754</td><td style = \"text-align: right;\">0.396986</td><td style = \"text-align: right;\">0.154337</td><td style = \"text-align: right;\">0.052328</td><td style = \"text-align: right;\">0.753299</td><td style = \"text-align: right;\">0.28788</td><td style = \"text-align: right;\">0.4417</td><td style = \"text-align: right;\">0.693629</td><td style = \"text-align: right;\">0.898043</td><td style = \"text-align: right;\">0.748996</td><td style = \"text-align: right;\">0.838205</td><td style = \"text-align: right;\">0.627137</td><td style = \"text-align: right;\">0.0389608</td><td style = \"text-align: right;\">0.707335</td><td style = \"text-align: right;\">0.564432</td><td style = \"text-align: right;\">0.224107</td><td style = \"text-align: right;\">0.579944</td><td style = \"text-align: right;\">0.228912</td><td style = \"text-align: right;\">0.502455</td><td style = \"text-align: right;\">0.520654</td><td style = \"text-align: right;\">0.580145</td><td style = \"text-align: right;\">0.901019</td><td style = \"text-align: right;\">0.991232</td><td style = \"text-align: right;\">0.982191</td><td style = \"text-align: right;\">0.406606</td><td style = \"text-align: right;\">0.497431</td><td style = \"text-align: right;\">0.190606</td><td style = \"text-align: right;\">0.357893</td><td style = \"text-align: right;\">0.17177</td><td style = \"text-align: right;\">0.890231</td><td style = \"text-align: right;\">0.760766</td><td style = \"text-align: right;\">0.849542</td><td style = \"text-align: right;\">0.0369273</td><td style = \"text-align: right;\">0.152796</td><td style = \"text-align: right;\">0.00265255</td><td style = \"text-align: right;\">0.0569455</td><td style = \"text-align: right;\">0.314046</td><td style = \"text-align: right;\">0.177024</td><td style = \"text-align: right;\">0.950913</td><td style = \"text-align: right;\">0.334809</td><td style = \"text-align: right;\">0.88711</td><td style = \"text-align: right;\">0.432779</td><td style = \"text-align: right;\">0.965344</td><td style = \"text-align: right;\">0.826475</td><td style = \"text-align: right;\">0.721094</td><td style = \"text-align: right;\">0.336094</td><td style = \"text-align: right;\">0.105611</td><td style = \"text-align: right;\">0.00134469</td><td style = \"text-align: right;\">0.455968</td><td style = \"text-align: right;\">0.963382</td><td style = \"text-align: right;\">0.390518</td><td style = \"text-align: right;\">0.704521</td><td style = \"text-align: right;\">0.459116</td><td style = \"text-align: right;\">0.446715</td><td style = \"text-align: right;\">0.902357</td><td style = \"text-align: right;\">0.193422</td><td style = \"text-align: right;\">0.703331</td><td style = \"text-align: right;\">0.0960631</td><td style = \"text-align: right;\">0.387063</td><td style = \"text-align: right;\">0.544087</td><td style = \"text-align: right;\">0.221112</td><td style = \"text-align: right;\">0.865025</td><td style = \"text-align: right;\">0.562071</td><td style = \"text-align: right;\">0.869079</td><td style = \"text-align: right;\">0.997163</td><td style = \"text-align: right;\">0.0947277</td><td style = \"text-align: right;\">0.376906</td><td style = \"text-align: right;\">0.789332</td><td style = \"text-align: right;\">0.458229</td><td style = \"text-align: right;\">0.221209</td><td style = \"text-align: right;\">0.811667</td><td style = \"text-align: right;\">0.341752</td><td style = \"text-align: right;\">0.691323</td><td style = \"text-align: right;\">0.459391</td><td style = \"text-align: right;\">0.541573</td><td style = \"text-align: right;\">0.8438</td><td style = \"text-align: right;\">0.270261</td><td style = \"text-align: right;\">0.771824</td><td style = \"text-align: right;\">0.614721</td><td style = \"text-align: right;\">0.411779</td><td style = \"text-align: right;\">0.324148</td><td style = \"text-align: right;\">0.357086</td><td style = \"text-align: right;\">0.987789</td><td style = \"text-align: right;\">0.138889</td><td style = \"text-align: right;\">0.98435</td><td style = \"text-align: right;\">0.468721</td><td style = \"text-align: right;\">0.131041</td><td style = \"text-align: right;\">0.628547</td><td style = \"text-align: right;\">&ctdot;</td></tr><tr><td class = \"rowNumber\" style = \"font-weight: bold; text-align: right;\">91</td><td style = \"text-align: right;\">0.264863</td><td style = \"text-align: right;\">0.483657</td><td style = \"text-align: right;\">0.377695</td><td style = \"text-align: right;\">0.530439</td><td style = \"text-align: right;\">0.302472</td><td style = \"text-align: right;\">0.302799</td><td style = \"text-align: right;\">0.974616</td><td style = \"text-align: right;\">0.790481</td><td style = \"text-align: right;\">0.38578</td><td style = \"text-align: right;\">0.0268671</td><td style = \"text-align: right;\">0.837441</td><td style = \"text-align: right;\">0.462134</td><td style = \"text-align: right;\">0.637811</td><td style = \"text-align: right;\">0.583435</td><td style = \"text-align: right;\">0.376941</td><td style = \"text-align: right;\">0.694394</td><td style = \"text-align: right;\">0.415653</td><td style = \"text-align: right;\">0.0311702</td><td style = \"text-align: right;\">0.644223</td><td style = \"text-align: right;\">0.15167</td><td style = \"text-align: right;\">0.591792</td><td style = \"text-align: right;\">0.321619</td><td style = \"text-align: right;\">0.585329</td><td style = \"text-align: right;\">0.737324</td><td style = \"text-align: right;\">0.755741</td><td style = \"text-align: right;\">0.577754</td><td style = \"text-align: right;\">0.872553</td><td style = \"text-align: right;\">0.00622228</td><td style = \"text-align: right;\">0.703236</td><td style = \"text-align: right;\">0.288211</td><td style = \"text-align: right;\">0.273901</td><td style = \"text-align: right;\">0.254456</td><td style = \"text-align: right;\">0.864283</td><td style = \"text-align: right;\">0.907875</td><td style = \"text-align: right;\">0.13452</td><td style = \"text-align: right;\">0.851157</td><td style = \"text-align: right;\">0.0263405</td><td style = \"text-align: right;\">0.288802</td><td style = \"text-align: right;\">0.0712617</td><td style = \"text-align: right;\">0.118196</td><td style = \"text-align: right;\">0.0557963</td><td style = \"text-align: right;\">0.815649</td><td style = \"text-align: right;\">0.454783</td><td style = \"text-align: right;\">0.558189</td><td style = \"text-align: right;\">0.372526</td><td style = \"text-align: right;\">0.226361</td><td style = \"text-align: right;\">0.216354</td><td style = \"text-align: right;\">0.971665</td><td style = \"text-align: right;\">0.130737</td><td style = \"text-align: right;\">0.0881002</td><td style = \"text-align: right;\">0.638616</td><td style = \"text-align: right;\">0.650287</td><td style = \"text-align: right;\">0.394372</td><td style = \"text-align: right;\">0.678988</td><td style = \"text-align: right;\">0.805108</td><td style = \"text-align: right;\">0.560117</td><td style = \"text-align: right;\">0.836757</td><td style = \"text-align: right;\">0.418262</td><td style = \"text-align: right;\">0.0226245</td><td style = \"text-align: right;\">0.442059</td><td style = \"text-align: right;\">0.719897</td><td style = \"text-align: right;\">0.694856</td><td style = \"text-align: right;\">0.425893</td><td style = \"text-align: right;\">0.577439</td><td style = \"text-align: right;\">0.67018</td><td style = \"text-align: right;\">0.96737</td><td style = \"text-align: right;\">0.560417</td><td style = \"text-align: right;\">0.480714</td><td style = \"text-align: right;\">0.178186</td><td style = \"text-align: right;\">0.951101</td><td style = \"text-align: right;\">0.901012</td><td style = \"text-align: right;\">0.527418</td><td style = \"text-align: right;\">0.0978884</td><td style = \"text-align: right;\">0.429281</td><td style = \"text-align: right;\">0.547644</td><td style = \"text-align: right;\">0.884627</td><td style = \"text-align: right;\">0.470309</td><td style = \"text-align: right;\">0.933623</td><td style = \"text-align: right;\">0.403282</td><td style = \"text-align: right;\">0.179195</td><td style = \"text-align: right;\">0.895379</td><td style = \"text-align: right;\">0.122145</td><td style = \"text-align: right;\">0.227982</td><td style = \"text-align: right;\">0.57402</td><td style = \"text-align: right;\">0.320092</td><td style = \"text-align: right;\">0.427319</td><td style = \"text-align: right;\">0.602371</td><td style = \"text-align: right;\">0.551198</td><td style = \"text-align: right;\">0.246184</td><td style = \"text-align: right;\">0.378417</td><td style = \"text-align: right;\">0.182864</td><td style = \"text-align: right;\">0.943779</td><td style = \"text-align: right;\">0.414188</td><td style = \"text-align: right;\">0.547157</td><td style = \"text-align: right;\">0.32432</td><td style = \"text-align: right;\">0.69764</td><td style = \"text-align: right;\">0.821948</td><td style = \"text-align: right;\">0.653706</td><td style = \"text-align: right;\">0.63878</td><td style = \"text-align: right;\">0.498734</td><td style = \"text-align: right;\">&ctdot;</td></tr><tr><td class = \"rowNumber\" style = \"font-weight: bold; text-align: right;\">92</td><td style = \"text-align: right;\">0.575704</td><td style = \"text-align: right;\">0.398386</td><td style = \"text-align: right;\">0.846091</td><td style = \"text-align: right;\">0.673098</td><td style = \"text-align: right;\">0.779911</td><td style = \"text-align: right;\">0.648834</td><td style = \"text-align: right;\">0.377058</td><td style = \"text-align: right;\">0.999999</td><td style = \"text-align: right;\">0.841875</td><td style = \"text-align: right;\">0.463893</td><td style = \"text-align: right;\">0.724108</td><td style = \"text-align: right;\">0.0840879</td><td style = \"text-align: right;\">0.20214</td><td style = \"text-align: right;\">0.256407</td><td style = \"text-align: right;\">0.62254</td><td style = \"text-align: right;\">0.803611</td><td style = \"text-align: right;\">0.962741</td><td style = \"text-align: right;\">0.987803</td><td style = \"text-align: right;\">0.744609</td><td style = \"text-align: right;\">0.748275</td><td style = \"text-align: right;\">0.655658</td><td style = \"text-align: right;\">0.170118</td><td style = \"text-align: right;\">0.551927</td><td style = \"text-align: right;\">0.837427</td><td style = \"text-align: right;\">0.658019</td><td style = \"text-align: right;\">0.808156</td><td style = \"text-align: right;\">0.206993</td><td style = \"text-align: right;\">0.732573</td><td style = \"text-align: right;\">0.204602</td><td style = \"text-align: right;\">0.370778</td><td style = \"text-align: right;\">0.674643</td><td style = \"text-align: right;\">0.643732</td><td style = \"text-align: right;\">0.445042</td><td style = \"text-align: right;\">0.657384</td><td style = \"text-align: right;\">0.568772</td><td style = \"text-align: right;\">0.607082</td><td style = \"text-align: right;\">0.336687</td><td style = \"text-align: right;\">0.6458</td><td style = \"text-align: right;\">0.0351515</td><td style = \"text-align: right;\">0.619685</td><td style = \"text-align: right;\">0.409818</td><td style = \"text-align: right;\">0.726874</td><td style = \"text-align: right;\">0.0431486</td><td style = \"text-align: right;\">0.73968</td><td style = \"text-align: right;\">0.738385</td><td style = \"text-align: right;\">0.749531</td><td style = \"text-align: right;\">0.194482</td><td style = \"text-align: right;\">0.788033</td><td style = \"text-align: right;\">0.540223</td><td style = \"text-align: right;\">0.0094986</td><td style = \"text-align: right;\">0.682587</td><td style = \"text-align: right;\">0.317015</td><td style = \"text-align: right;\">0.783779</td><td style = \"text-align: right;\">0.677093</td><td style = \"text-align: right;\">0.464715</td><td style = \"text-align: right;\">0.196018</td><td style = \"text-align: right;\">0.274844</td><td style = \"text-align: right;\">0.173659</td><td style = \"text-align: right;\">0.089393</td><td style = \"text-align: right;\">0.68629</td><td style = \"text-align: right;\">0.56192</td><td style = \"text-align: right;\">0.734072</td><td style = \"text-align: right;\">0.363168</td><td style = \"text-align: right;\">0.190901</td><td style = \"text-align: right;\">0.94552</td><td style = \"text-align: right;\">0.0944398</td><td style = \"text-align: right;\">0.122816</td><td style = \"text-align: right;\">0.468517</td><td style = \"text-align: right;\">0.0836174</td><td style = \"text-align: right;\">0.201512</td><td style = \"text-align: right;\">0.668524</td><td style = \"text-align: right;\">0.874885</td><td style = \"text-align: right;\">0.0781864</td><td style = \"text-align: right;\">0.872716</td><td style = \"text-align: right;\">0.0751467</td><td style = \"text-align: right;\">0.969458</td><td style = \"text-align: right;\">0.679869</td><td style = \"text-align: right;\">0.452337</td><td style = \"text-align: right;\">0.513966</td><td style = \"text-align: right;\">0.500574</td><td style = \"text-align: right;\">0.968362</td><td style = \"text-align: right;\">0.515672</td><td style = \"text-align: right;\">0.234177</td><td style = \"text-align: right;\">0.373469</td><td style = \"text-align: right;\">0.392144</td><td style = \"text-align: right;\">0.314282</td><td style = \"text-align: right;\">0.567899</td><td style = \"text-align: right;\">0.814072</td><td style = \"text-align: right;\">0.111676</td><td style = \"text-align: right;\">0.75455</td><td style = \"text-align: right;\">0.0174752</td><td style = \"text-align: right;\">0.9158</td><td style = \"text-align: right;\">0.204429</td><td style = \"text-align: right;\">0.985078</td><td style = \"text-align: right;\">0.902305</td><td style = \"text-align: right;\">0.360934</td><td style = \"text-align: right;\">0.453824</td><td style = \"text-align: right;\">0.577239</td><td style = \"text-align: right;\">0.24885</td><td style = \"text-align: right;\">0.586016</td><td style = \"text-align: right;\">&ctdot;</td></tr><tr><td class = \"rowNumber\" style = \"font-weight: bold; text-align: right;\">93</td><td style = \"text-align: right;\">0.382563</td><td style = \"text-align: right;\">0.671337</td><td style = \"text-align: right;\">0.73616</td><td style = \"text-align: right;\">0.888861</td><td style = \"text-align: right;\">0.130314</td><td style = \"text-align: right;\">0.0836245</td><td style = \"text-align: right;\">0.924828</td><td style = \"text-align: right;\">0.0780392</td><td style = \"text-align: right;\">0.912717</td><td style = \"text-align: right;\">0.176281</td><td style = \"text-align: right;\">0.893292</td><td style = \"text-align: right;\">0.828708</td><td style = \"text-align: right;\">0.757412</td><td style = \"text-align: right;\">0.955737</td><td style = \"text-align: right;\">0.0406909</td><td style = \"text-align: right;\">0.957719</td><td style = \"text-align: right;\">0.224863</td><td style = \"text-align: right;\">0.344071</td><td style = \"text-align: right;\">0.226161</td><td style = \"text-align: right;\">0.9185</td><td style = \"text-align: right;\">0.367764</td><td style = \"text-align: right;\">0.179386</td><td style = \"text-align: right;\">0.1175</td><td style = \"text-align: right;\">0.229001</td><td style = \"text-align: right;\">0.708704</td><td style = \"text-align: right;\">0.522659</td><td style = \"text-align: right;\">0.207909</td><td style = \"text-align: right;\">0.82037</td><td style = \"text-align: right;\">0.563997</td><td style = \"text-align: right;\">0.326435</td><td style = \"text-align: right;\">0.388623</td><td style = \"text-align: right;\">0.786652</td><td style = \"text-align: right;\">0.886722</td><td style = \"text-align: right;\">0.957225</td><td style = \"text-align: right;\">0.159117</td><td style = \"text-align: right;\">0.246868</td><td style = \"text-align: right;\">0.667308</td><td style = \"text-align: right;\">0.671216</td><td style = \"text-align: right;\">0.552634</td><td style = \"text-align: right;\">0.62186</td><td style = \"text-align: right;\">0.550481</td><td style = \"text-align: right;\">0.632884</td><td style = \"text-align: right;\">0.626159</td><td style = \"text-align: right;\">0.921785</td><td style = \"text-align: right;\">0.299727</td><td style = \"text-align: right;\">0.976134</td><td style = \"text-align: right;\">0.0437313</td><td style = \"text-align: right;\">0.179578</td><td style = \"text-align: right;\">0.756517</td><td style = \"text-align: right;\">0.189205</td><td style = \"text-align: right;\">0.564378</td><td style = \"text-align: right;\">0.558439</td><td style = \"text-align: right;\">0.0196084</td><td style = \"text-align: right;\">0.840605</td><td style = \"text-align: right;\">0.0476724</td><td style = \"text-align: right;\">0.657935</td><td style = \"text-align: right;\">0.755553</td><td style = \"text-align: right;\">0.986173</td><td style = \"text-align: right;\">0.90335</td><td style = \"text-align: right;\">0.659556</td><td style = \"text-align: right;\">0.118263</td><td style = \"text-align: right;\">0.589968</td><td style = \"text-align: right;\">0.184252</td><td style = \"text-align: right;\">0.89637</td><td style = \"text-align: right;\">0.58763</td><td style = \"text-align: right;\">0.865226</td><td style = \"text-align: right;\">0.806213</td><td style = \"text-align: right;\">0.827308</td><td style = \"text-align: right;\">0.793744</td><td style = \"text-align: right;\">0.911663</td><td style = \"text-align: right;\">0.621273</td><td style = \"text-align: right;\">0.864015</td><td style = \"text-align: right;\">0.481589</td><td style = \"text-align: right;\">0.925657</td><td style = \"text-align: right;\">0.0518163</td><td style = \"text-align: right;\">0.584899</td><td style = \"text-align: right;\">0.252208</td><td style = \"text-align: right;\">0.701492</td><td style = \"text-align: right;\">0.0450935</td><td style = \"text-align: right;\">0.352246</td><td style = \"text-align: right;\">0.674766</td><td style = \"text-align: right;\">0.597519</td><td style = \"text-align: right;\">0.55472</td><td style = \"text-align: right;\">0.0258637</td><td style = \"text-align: right;\">0.360294</td><td style = \"text-align: right;\">0.817826</td><td style = \"text-align: right;\">0.376349</td><td style = \"text-align: right;\">0.158227</td><td style = \"text-align: right;\">0.301016</td><td style = \"text-align: right;\">0.760156</td><td style = \"text-align: right;\">0.234035</td><td style = \"text-align: right;\">0.846768</td><td style = \"text-align: right;\">0.96911</td><td style = \"text-align: right;\">0.721717</td><td style = \"text-align: right;\">0.666417</td><td style = \"text-align: right;\">0.192471</td><td style = \"text-align: right;\">0.512143</td><td style = \"text-align: right;\">0.495482</td><td style = \"text-align: right;\">0.486748</td><td style = \"text-align: right;\">0.942335</td><td style = \"text-align: right;\">&ctdot;</td></tr><tr><td class = \"rowNumber\" style = \"font-weight: bold; text-align: right;\">94</td><td style = \"text-align: right;\">0.981974</td><td style = \"text-align: right;\">0.322547</td><td style = \"text-align: right;\">0.801286</td><td style = \"text-align: right;\">0.213658</td><td style = \"text-align: right;\">0.586012</td><td style = \"text-align: right;\">0.16873</td><td style = \"text-align: right;\">0.283484</td><td style = \"text-align: right;\">0.272857</td><td style = \"text-align: right;\">0.91719</td><td style = \"text-align: right;\">0.291293</td><td style = \"text-align: right;\">0.0831532</td><td style = \"text-align: right;\">0.356979</td><td style = \"text-align: right;\">0.861866</td><td style = \"text-align: right;\">0.891825</td><td style = \"text-align: right;\">0.869622</td><td style = \"text-align: right;\">0.0691362</td><td style = \"text-align: right;\">0.540465</td><td style = \"text-align: right;\">0.46963</td><td style = \"text-align: right;\">0.981399</td><td style = \"text-align: right;\">0.0231955</td><td style = \"text-align: right;\">0.115336</td><td style = \"text-align: right;\">0.159162</td><td style = \"text-align: right;\">0.445781</td><td style = \"text-align: right;\">0.42549</td><td style = \"text-align: right;\">0.594428</td><td style = \"text-align: right;\">0.34602</td><td style = \"text-align: right;\">0.297348</td><td style = \"text-align: right;\">0.754326</td><td style = \"text-align: right;\">0.393304</td><td style = \"text-align: right;\">0.400222</td><td style = \"text-align: right;\">0.29122</td><td style = \"text-align: right;\">0.121993</td><td style = \"text-align: right;\">0.412617</td><td style = \"text-align: right;\">0.539839</td><td style = \"text-align: right;\">0.701031</td><td style = \"text-align: right;\">0.670857</td><td style = \"text-align: right;\">0.818683</td><td style = \"text-align: right;\">0.213349</td><td style = \"text-align: right;\">0.828403</td><td style = \"text-align: right;\">0.985037</td><td style = \"text-align: right;\">0.424426</td><td style = \"text-align: right;\">0.728725</td><td style = \"text-align: right;\">0.779367</td><td style = \"text-align: right;\">0.220531</td><td style = \"text-align: right;\">0.368476</td><td style = \"text-align: right;\">0.533649</td><td style = \"text-align: right;\">0.0775672</td><td style = \"text-align: right;\">0.0261261</td><td style = \"text-align: right;\">0.379623</td><td style = \"text-align: right;\">0.057394</td><td style = \"text-align: right;\">0.831168</td><td style = \"text-align: right;\">0.420167</td><td style = \"text-align: right;\">0.898949</td><td style = \"text-align: right;\">0.834745</td><td style = \"text-align: right;\">0.814723</td><td style = \"text-align: right;\">0.602217</td><td style = \"text-align: right;\">0.828721</td><td style = \"text-align: right;\">0.394243</td><td style = \"text-align: right;\">0.551812</td><td style = \"text-align: right;\">0.760169</td><td style = \"text-align: right;\">0.933534</td><td style = \"text-align: right;\">0.834738</td><td style = \"text-align: right;\">0.111727</td><td style = \"text-align: right;\">0.167323</td><td style = \"text-align: right;\">0.028296</td><td style = \"text-align: right;\">0.956041</td><td style = \"text-align: right;\">0.991215</td><td style = \"text-align: right;\">0.620522</td><td style = \"text-align: right;\">0.114863</td><td style = \"text-align: right;\">0.995393</td><td style = \"text-align: right;\">0.578433</td><td style = \"text-align: right;\">0.775837</td><td style = \"text-align: right;\">0.877033</td><td style = \"text-align: right;\">0.138995</td><td style = \"text-align: right;\">0.00213485</td><td style = \"text-align: right;\">0.660943</td><td style = \"text-align: right;\">0.234504</td><td style = \"text-align: right;\">0.131798</td><td style = \"text-align: right;\">0.354686</td><td style = \"text-align: right;\">0.55199</td><td style = \"text-align: right;\">0.23714</td><td style = \"text-align: right;\">0.877874</td><td style = \"text-align: right;\">0.877969</td><td style = \"text-align: right;\">0.0649864</td><td style = \"text-align: right;\">0.881307</td><td style = \"text-align: right;\">0.0568067</td><td style = \"text-align: right;\">0.834409</td><td style = \"text-align: right;\">0.17108</td><td style = \"text-align: right;\">0.179584</td><td style = \"text-align: right;\">0.460121</td><td style = \"text-align: right;\">0.415493</td><td style = \"text-align: right;\">0.539603</td><td style = \"text-align: right;\">0.790761</td><td style = \"text-align: right;\">0.77508</td><td style = \"text-align: right;\">0.0288623</td><td style = \"text-align: right;\">0.563042</td><td style = \"text-align: right;\">0.50422</td><td style = \"text-align: right;\">0.836227</td><td style = \"text-align: right;\">0.145873</td><td style = \"text-align: right;\">0.609759</td><td style = \"text-align: right;\">&ctdot;</td></tr><tr><td class = \"rowNumber\" style = \"font-weight: bold; text-align: right;\">95</td><td style = \"text-align: right;\">0.506054</td><td style = \"text-align: right;\">0.614962</td><td style = \"text-align: right;\">0.429414</td><td style = \"text-align: right;\">0.444513</td><td style = \"text-align: right;\">0.0121819</td><td style = \"text-align: right;\">0.535762</td><td style = \"text-align: right;\">0.426351</td><td style = \"text-align: right;\">0.355225</td><td style = \"text-align: right;\">0.607012</td><td style = \"text-align: right;\">0.763591</td><td style = \"text-align: right;\">0.887223</td><td style = \"text-align: right;\">0.953792</td><td style = \"text-align: right;\">0.767711</td><td style = \"text-align: right;\">0.459986</td><td style = \"text-align: right;\">0.381843</td><td style = \"text-align: right;\">0.483701</td><td style = \"text-align: right;\">0.505736</td><td style = \"text-align: right;\">0.269979</td><td style = \"text-align: right;\">0.152444</td><td style = \"text-align: right;\">0.0975753</td><td style = \"text-align: right;\">0.837949</td><td style = \"text-align: right;\">0.858813</td><td style = \"text-align: right;\">0.264633</td><td style = \"text-align: right;\">0.657097</td><td style = \"text-align: right;\">0.678639</td><td style = \"text-align: right;\">0.862254</td><td style = \"text-align: right;\">0.535697</td><td style = \"text-align: right;\">0.112188</td><td style = \"text-align: right;\">0.869229</td><td style = \"text-align: right;\">0.171106</td><td style = \"text-align: right;\">0.764323</td><td style = \"text-align: right;\">0.89165</td><td style = \"text-align: right;\">0.349488</td><td style = \"text-align: right;\">0.549072</td><td style = \"text-align: right;\">0.724387</td><td style = \"text-align: right;\">0.83265</td><td style = \"text-align: right;\">0.550382</td><td style = \"text-align: right;\">0.129429</td><td style = \"text-align: right;\">0.661322</td><td style = \"text-align: right;\">0.109065</td><td style = \"text-align: right;\">0.663682</td><td style = \"text-align: right;\">0.622052</td><td style = \"text-align: right;\">0.508095</td><td style = \"text-align: right;\">0.680425</td><td style = \"text-align: right;\">0.767152</td><td style = \"text-align: right;\">0.876594</td><td style = \"text-align: right;\">0.681156</td><td style = \"text-align: right;\">0.252258</td><td style = \"text-align: right;\">0.781702</td><td style = \"text-align: right;\">0.48005</td><td style = \"text-align: right;\">0.166958</td><td style = \"text-align: right;\">0.263678</td><td style = \"text-align: right;\">0.61397</td><td style = \"text-align: right;\">0.597791</td><td style = \"text-align: right;\">0.998297</td><td style = \"text-align: right;\">0.795666</td><td style = \"text-align: right;\">0.222943</td><td style = \"text-align: right;\">0.710958</td><td style = \"text-align: right;\">0.529936</td><td style = \"text-align: right;\">0.303622</td><td style = \"text-align: right;\">0.0162631</td><td style = \"text-align: right;\">0.0278459</td><td style = \"text-align: right;\">0.744825</td><td style = \"text-align: right;\">0.25472</td><td style = \"text-align: right;\">0.883865</td><td style = \"text-align: right;\">0.655152</td><td style = \"text-align: right;\">0.658003</td><td style = \"text-align: right;\">0.526257</td><td style = \"text-align: right;\">0.802258</td><td style = \"text-align: right;\">0.185712</td><td style = \"text-align: right;\">0.254824</td><td style = \"text-align: right;\">0.756135</td><td style = \"text-align: right;\">0.467885</td><td style = \"text-align: right;\">0.105969</td><td style = \"text-align: right;\">0.492731</td><td style = \"text-align: right;\">0.410289</td><td style = \"text-align: right;\">0.638087</td><td style = \"text-align: right;\">0.0682325</td><td style = \"text-align: right;\">0.438862</td><td style = \"text-align: right;\">0.366888</td><td style = \"text-align: right;\">0.445844</td><td style = \"text-align: right;\">0.447078</td><td style = \"text-align: right;\">0.662459</td><td style = \"text-align: right;\">0.0667359</td><td style = \"text-align: right;\">0.594533</td><td style = \"text-align: right;\">0.17268</td><td style = \"text-align: right;\">0.809218</td><td style = \"text-align: right;\">0.4552</td><td style = \"text-align: right;\">0.691702</td><td style = \"text-align: right;\">0.590666</td><td style = \"text-align: right;\">0.576714</td><td style = \"text-align: right;\">0.766491</td><td style = \"text-align: right;\">0.689098</td><td style = \"text-align: right;\">0.166304</td><td style = \"text-align: right;\">0.993142</td><td style = \"text-align: right;\">0.986387</td><td style = \"text-align: right;\">0.710545</td><td style = \"text-align: right;\">0.324021</td><td style = \"text-align: right;\">0.75023</td><td style = \"text-align: right;\">0.77969</td><td style = \"text-align: right;\">&ctdot;</td></tr><tr><td class = \"rowNumber\" style = \"font-weight: bold; text-align: right;\">96</td><td style = \"text-align: right;\">0.194648</td><td style = \"text-align: right;\">0.605672</td><td style = \"text-align: right;\">0.576579</td><td style = \"text-align: right;\">0.503393</td><td style = \"text-align: right;\">0.42399</td><td style = \"text-align: right;\">0.203445</td><td style = \"text-align: right;\">0.297429</td><td style = \"text-align: right;\">0.922023</td><td style = \"text-align: right;\">0.412275</td><td style = \"text-align: right;\">0.6917</td><td style = \"text-align: right;\">0.334402</td><td style = \"text-align: right;\">0.969953</td><td style = \"text-align: right;\">0.128536</td><td style = \"text-align: right;\">0.0243846</td><td style = \"text-align: right;\">0.572228</td><td style = \"text-align: right;\">0.546988</td><td style = \"text-align: right;\">0.183771</td><td style = \"text-align: right;\">0.599973</td><td style = \"text-align: right;\">0.536102</td><td style = \"text-align: right;\">0.716005</td><td style = \"text-align: right;\">0.0766542</td><td style = \"text-align: right;\">0.0163746</td><td style = \"text-align: right;\">0.651586</td><td style = \"text-align: right;\">0.922646</td><td style = \"text-align: right;\">0.349088</td><td style = \"text-align: right;\">0.457048</td><td style = \"text-align: right;\">0.321142</td><td style = \"text-align: right;\">0.210039</td><td style = \"text-align: right;\">0.708024</td><td style = \"text-align: right;\">0.497833</td><td style = \"text-align: right;\">0.307293</td><td style = \"text-align: right;\">0.501109</td><td style = \"text-align: right;\">0.171368</td><td style = \"text-align: right;\">0.458337</td><td style = \"text-align: right;\">0.0968223</td><td style = \"text-align: right;\">0.448018</td><td style = \"text-align: right;\">0.515972</td><td style = \"text-align: right;\">0.31605</td><td style = \"text-align: right;\">0.188513</td><td style = \"text-align: right;\">0.664674</td><td style = \"text-align: right;\">0.123786</td><td style = \"text-align: right;\">0.778893</td><td style = \"text-align: right;\">0.759759</td><td style = \"text-align: right;\">0.170295</td><td style = \"text-align: right;\">0.537862</td><td style = \"text-align: right;\">0.74872</td><td style = \"text-align: right;\">0.0046991</td><td style = \"text-align: right;\">0.711027</td><td style = \"text-align: right;\">0.0265425</td><td style = \"text-align: right;\">0.867218</td><td style = \"text-align: right;\">0.686126</td><td style = \"text-align: right;\">0.709791</td><td style = \"text-align: right;\">0.705762</td><td style = \"text-align: right;\">0.0418597</td><td style = \"text-align: right;\">0.0755934</td><td style = \"text-align: right;\">0.0784611</td><td style = \"text-align: right;\">0.664237</td><td style = \"text-align: right;\">0.237102</td><td style = \"text-align: right;\">0.513914</td><td style = \"text-align: right;\">0.787394</td><td style = \"text-align: right;\">0.688402</td><td style = \"text-align: right;\">0.787579</td><td style = \"text-align: right;\">0.324345</td><td style = \"text-align: right;\">0.908316</td><td style = \"text-align: right;\">0.0409281</td><td style = \"text-align: right;\">0.707763</td><td style = \"text-align: right;\">0.993791</td><td style = \"text-align: right;\">0.608509</td><td style = \"text-align: right;\">0.945082</td><td style = \"text-align: right;\">0.170697</td><td style = \"text-align: right;\">0.133789</td><td style = \"text-align: right;\">0.720124</td><td style = \"text-align: right;\">0.755259</td><td style = \"text-align: right;\">0.903619</td><td style = \"text-align: right;\">0.889167</td><td style = \"text-align: right;\">0.0013725</td><td style = \"text-align: right;\">0.613652</td><td style = \"text-align: right;\">0.535965</td><td style = \"text-align: right;\">0.511391</td><td style = \"text-align: right;\">0.175361</td><td style = \"text-align: right;\">0.309539</td><td style = \"text-align: right;\">0.993714</td><td style = \"text-align: right;\">0.0850441</td><td style = \"text-align: right;\">0.896722</td><td style = \"text-align: right;\">0.846193</td><td style = \"text-align: right;\">0.129468</td><td style = \"text-align: right;\">0.917439</td><td style = \"text-align: right;\">0.816256</td><td style = \"text-align: right;\">0.136507</td><td style = \"text-align: right;\">0.938926</td><td style = \"text-align: right;\">0.625177</td><td style = \"text-align: right;\">0.805402</td><td style = \"text-align: right;\">0.82856</td><td style = \"text-align: right;\">0.1301</td><td style = \"text-align: right;\">0.524148</td><td style = \"text-align: right;\">0.382147</td><td style = \"text-align: right;\">0.402504</td><td style = \"text-align: right;\">0.560632</td><td style = \"text-align: right;\">0.62153</td><td style = \"text-align: right;\">0.200813</td><td style = \"text-align: right;\">&ctdot;</td></tr><tr><td class = \"rowNumber\" style = \"font-weight: bold; text-align: right;\">97</td><td style = \"text-align: right;\">0.550875</td><td style = \"text-align: right;\">0.185237</td><td style = \"text-align: right;\">0.123531</td><td style = \"text-align: right;\">0.233645</td><td style = \"text-align: right;\">0.415216</td><td style = \"text-align: right;\">0.111896</td><td style = \"text-align: right;\">0.119102</td><td style = \"text-align: right;\">0.476735</td><td style = \"text-align: right;\">0.0380048</td><td style = \"text-align: right;\">0.139421</td><td style = \"text-align: right;\">0.94246</td><td style = \"text-align: right;\">0.615209</td><td style = \"text-align: right;\">0.203838</td><td style = \"text-align: right;\">0.220658</td><td style = \"text-align: right;\">0.7973</td><td style = \"text-align: right;\">0.151639</td><td style = \"text-align: right;\">0.739822</td><td style = \"text-align: right;\">0.337807</td><td style = \"text-align: right;\">0.426267</td><td style = \"text-align: right;\">0.940207</td><td style = \"text-align: right;\">0.512221</td><td style = \"text-align: right;\">0.903333</td><td style = \"text-align: right;\">0.333669</td><td style = \"text-align: right;\">0.782504</td><td style = \"text-align: right;\">0.221368</td><td style = \"text-align: right;\">0.467346</td><td style = \"text-align: right;\">0.359209</td><td style = \"text-align: right;\">0.599017</td><td style = \"text-align: right;\">0.208344</td><td style = \"text-align: right;\">0.712006</td><td style = \"text-align: right;\">0.516567</td><td style = \"text-align: right;\">0.563293</td><td style = \"text-align: right;\">0.471635</td><td style = \"text-align: right;\">0.616281</td><td style = \"text-align: right;\">0.557951</td><td style = \"text-align: right;\">0.727966</td><td style = \"text-align: right;\">0.821098</td><td style = \"text-align: right;\">0.00932205</td><td style = \"text-align: right;\">0.690101</td><td style = \"text-align: right;\">0.518908</td><td style = \"text-align: right;\">0.250327</td><td style = \"text-align: right;\">0.541776</td><td style = \"text-align: right;\">0.948833</td><td style = \"text-align: right;\">0.531258</td><td style = \"text-align: right;\">0.407398</td><td style = \"text-align: right;\">0.0276271</td><td style = \"text-align: right;\">0.949333</td><td style = \"text-align: right;\">0.670908</td><td style = \"text-align: right;\">0.377506</td><td style = \"text-align: right;\">0.335163</td><td style = \"text-align: right;\">0.775503</td><td style = \"text-align: right;\">0.722501</td><td style = \"text-align: right;\">0.715463</td><td style = \"text-align: right;\">0.527192</td><td style = \"text-align: right;\">0.28101</td><td style = \"text-align: right;\">0.797165</td><td style = \"text-align: right;\">0.334862</td><td style = \"text-align: right;\">0.562796</td><td style = \"text-align: right;\">0.609564</td><td style = \"text-align: right;\">0.380383</td><td style = \"text-align: right;\">0.863868</td><td style = \"text-align: right;\">0.323791</td><td style = \"text-align: right;\">0.439559</td><td style = \"text-align: right;\">0.304743</td><td style = \"text-align: right;\">0.982651</td><td style = \"text-align: right;\">0.604893</td><td style = \"text-align: right;\">0.812709</td><td style = \"text-align: right;\">0.922148</td><td style = \"text-align: right;\">0.861118</td><td style = \"text-align: right;\">0.493551</td><td style = \"text-align: right;\">0.495623</td><td style = \"text-align: right;\">0.615591</td><td style = \"text-align: right;\">0.678838</td><td style = \"text-align: right;\">0.0330134</td><td style = \"text-align: right;\">0.984613</td><td style = \"text-align: right;\">0.882093</td><td style = \"text-align: right;\">0.296051</td><td style = \"text-align: right;\">0.175216</td><td style = \"text-align: right;\">0.732627</td><td style = \"text-align: right;\">0.178574</td><td style = \"text-align: right;\">0.18568</td><td style = \"text-align: right;\">0.449214</td><td style = \"text-align: right;\">0.0129313</td><td style = \"text-align: right;\">0.0895732</td><td style = \"text-align: right;\">0.409876</td><td style = \"text-align: right;\">0.134914</td><td style = \"text-align: right;\">0.441322</td><td style = \"text-align: right;\">0.740996</td><td style = \"text-align: right;\">0.775005</td><td style = \"text-align: right;\">0.0119738</td><td style = \"text-align: right;\">0.460457</td><td style = \"text-align: right;\">0.18589</td><td style = \"text-align: right;\">0.904519</td><td style = \"text-align: right;\">0.187247</td><td style = \"text-align: right;\">0.626622</td><td style = \"text-align: right;\">0.134655</td><td style = \"text-align: right;\">0.317506</td><td style = \"text-align: right;\">0.335959</td><td style = \"text-align: right;\">0.645532</td><td style = \"text-align: right;\">0.629258</td><td style = \"text-align: right;\">&ctdot;</td></tr><tr><td class = \"rowNumber\" style = \"font-weight: bold; text-align: right;\">98</td><td style = \"text-align: right;\">0.0964945</td><td style = \"text-align: right;\">0.351725</td><td style = \"text-align: right;\">0.130618</td><td style = \"text-align: right;\">0.570078</td><td style = \"text-align: right;\">0.280456</td><td style = \"text-align: right;\">0.415328</td><td style = \"text-align: right;\">0.492589</td><td style = \"text-align: right;\">0.61269</td><td style = \"text-align: right;\">0.827237</td><td style = \"text-align: right;\">0.442493</td><td style = \"text-align: right;\">0.464408</td><td style = \"text-align: right;\">0.668344</td><td style = \"text-align: right;\">0.944018</td><td style = \"text-align: right;\">0.401302</td><td style = \"text-align: right;\">0.994605</td><td style = \"text-align: right;\">0.311851</td><td style = \"text-align: right;\">0.0890727</td><td style = \"text-align: right;\">0.620809</td><td style = \"text-align: right;\">0.559377</td><td style = \"text-align: right;\">0.648961</td><td style = \"text-align: right;\">0.748047</td><td style = \"text-align: right;\">0.913387</td><td style = \"text-align: right;\">0.842364</td><td style = \"text-align: right;\">0.732611</td><td style = \"text-align: right;\">0.983702</td><td style = \"text-align: right;\">0.362407</td><td style = \"text-align: right;\">0.506338</td><td style = \"text-align: right;\">0.441817</td><td style = \"text-align: right;\">0.348589</td><td style = \"text-align: right;\">0.382771</td><td style = \"text-align: right;\">0.759233</td><td style = \"text-align: right;\">0.154926</td><td style = \"text-align: right;\">0.15601</td><td style = \"text-align: right;\">0.907299</td><td style = \"text-align: right;\">0.0257402</td><td style = \"text-align: right;\">0.913201</td><td style = \"text-align: right;\">0.593244</td><td style = \"text-align: right;\">0.774968</td><td style = \"text-align: right;\">0.317202</td><td style = \"text-align: right;\">0.564486</td><td style = \"text-align: right;\">0.310697</td><td style = \"text-align: right;\">0.462958</td><td style = \"text-align: right;\">0.209144</td><td style = \"text-align: right;\">0.620139</td><td style = \"text-align: right;\">0.154837</td><td style = \"text-align: right;\">0.354746</td><td style = \"text-align: right;\">0.608407</td><td style = \"text-align: right;\">0.808026</td><td style = \"text-align: right;\">0.844472</td><td style = \"text-align: right;\">0.135172</td><td style = \"text-align: right;\">0.584518</td><td style = \"text-align: right;\">0.237006</td><td style = \"text-align: right;\">0.405969</td><td style = \"text-align: right;\">0.94477</td><td style = \"text-align: right;\">0.747052</td><td style = \"text-align: right;\">0.666705</td><td style = \"text-align: right;\">0.110705</td><td style = \"text-align: right;\">0.767527</td><td style = \"text-align: right;\">0.491412</td><td style = \"text-align: right;\">0.241655</td><td style = \"text-align: right;\">0.750492</td><td style = \"text-align: right;\">0.285857</td><td style = \"text-align: right;\">0.684723</td><td style = \"text-align: right;\">0.617907</td><td style = \"text-align: right;\">0.641524</td><td style = \"text-align: right;\">0.950255</td><td style = \"text-align: right;\">0.570197</td><td style = \"text-align: right;\">0.244064</td><td style = \"text-align: right;\">0.562059</td><td style = \"text-align: right;\">0.422629</td><td style = \"text-align: right;\">0.737133</td><td style = \"text-align: right;\">0.14295</td><td style = \"text-align: right;\">0.00370282</td><td style = \"text-align: right;\">0.56796</td><td style = \"text-align: right;\">0.468351</td><td style = \"text-align: right;\">0.65838</td><td style = \"text-align: right;\">0.0661041</td><td style = \"text-align: right;\">0.289736</td><td style = \"text-align: right;\">0.673796</td><td style = \"text-align: right;\">0.74158</td><td style = \"text-align: right;\">0.171435</td><td style = \"text-align: right;\">0.433153</td><td style = \"text-align: right;\">0.42732</td><td style = \"text-align: right;\">0.752033</td><td style = \"text-align: right;\">0.540777</td><td style = \"text-align: right;\">0.438926</td><td style = \"text-align: right;\">0.829597</td><td style = \"text-align: right;\">0.0274519</td><td style = \"text-align: right;\">0.377007</td><td style = \"text-align: right;\">0.220775</td><td style = \"text-align: right;\">0.819202</td><td style = \"text-align: right;\">0.946555</td><td style = \"text-align: right;\">0.918413</td><td style = \"text-align: right;\">0.344477</td><td style = \"text-align: right;\">0.530453</td><td style = \"text-align: right;\">0.473011</td><td style = \"text-align: right;\">0.871197</td><td style = \"text-align: right;\">0.516568</td><td style = \"text-align: right;\">0.154609</td><td style = \"text-align: right;\">0.0438157</td><td style = \"text-align: right;\">&ctdot;</td></tr><tr><td class = \"rowNumber\" style = \"font-weight: bold; text-align: right;\">99</td><td style = \"text-align: right;\">0.303736</td><td style = \"text-align: right;\">0.190397</td><td style = \"text-align: right;\">0.30265</td><td style = \"text-align: right;\">0.518783</td><td style = \"text-align: right;\">0.926588</td><td style = \"text-align: right;\">0.650134</td><td style = \"text-align: right;\">0.180934</td><td style = \"text-align: right;\">0.720751</td><td style = \"text-align: right;\">0.234077</td><td style = \"text-align: right;\">0.428947</td><td style = \"text-align: right;\">0.307296</td><td style = \"text-align: right;\">0.999835</td><td style = \"text-align: right;\">0.515773</td><td style = \"text-align: right;\">0.57921</td><td style = \"text-align: right;\">0.986854</td><td style = \"text-align: right;\">0.945564</td><td style = \"text-align: right;\">0.73861</td><td style = \"text-align: right;\">0.187087</td><td style = \"text-align: right;\">0.427568</td><td style = \"text-align: right;\">0.0969084</td><td style = \"text-align: right;\">0.837385</td><td style = \"text-align: right;\">0.0770694</td><td style = \"text-align: right;\">0.732389</td><td style = \"text-align: right;\">0.174997</td><td style = \"text-align: right;\">0.737347</td><td style = \"text-align: right;\">0.650225</td><td style = \"text-align: right;\">0.0915707</td><td style = \"text-align: right;\">0.877697</td><td style = \"text-align: right;\">0.622853</td><td style = \"text-align: right;\">0.351346</td><td style = \"text-align: right;\">0.218633</td><td style = \"text-align: right;\">0.399751</td><td style = \"text-align: right;\">0.11921</td><td style = \"text-align: right;\">0.51509</td><td style = \"text-align: right;\">0.317545</td><td style = \"text-align: right;\">0.650078</td><td style = \"text-align: right;\">0.523121</td><td style = \"text-align: right;\">0.786216</td><td style = \"text-align: right;\">0.0849558</td><td style = \"text-align: right;\">0.871771</td><td style = \"text-align: right;\">0.955176</td><td style = \"text-align: right;\">0.584253</td><td style = \"text-align: right;\">0.76742</td><td style = \"text-align: right;\">0.107934</td><td style = \"text-align: right;\">0.671221</td><td style = \"text-align: right;\">0.0969027</td><td style = \"text-align: right;\">0.60123</td><td style = \"text-align: right;\">0.0326667</td><td style = \"text-align: right;\">0.274405</td><td style = \"text-align: right;\">0.380486</td><td style = \"text-align: right;\">0.646132</td><td style = \"text-align: right;\">0.664528</td><td style = \"text-align: right;\">0.938232</td><td style = \"text-align: right;\">0.752197</td><td style = \"text-align: right;\">0.879637</td><td style = \"text-align: right;\">0.960776</td><td style = \"text-align: right;\">0.246948</td><td style = \"text-align: right;\">0.354973</td><td style = \"text-align: right;\">0.163681</td><td style = \"text-align: right;\">0.75104</td><td style = \"text-align: right;\">0.0738721</td><td style = \"text-align: right;\">0.882898</td><td style = \"text-align: right;\">0.589751</td><td style = \"text-align: right;\">0.057796</td><td style = \"text-align: right;\">0.899317</td><td style = \"text-align: right;\">0.298872</td><td style = \"text-align: right;\">0.415001</td><td style = \"text-align: right;\">0.377696</td><td style = \"text-align: right;\">0.455743</td><td style = \"text-align: right;\">0.731735</td><td style = \"text-align: right;\">0.709983</td><td style = \"text-align: right;\">0.335496</td><td style = \"text-align: right;\">0.17202</td><td style = \"text-align: right;\">0.961471</td><td style = \"text-align: right;\">0.369038</td><td style = \"text-align: right;\">0.173084</td><td style = \"text-align: right;\">0.954167</td><td style = \"text-align: right;\">0.334192</td><td style = \"text-align: right;\">0.642607</td><td style = \"text-align: right;\">0.24682</td><td style = \"text-align: right;\">0.749905</td><td style = \"text-align: right;\">0.396858</td><td style = \"text-align: right;\">0.967981</td><td style = \"text-align: right;\">0.857856</td><td style = \"text-align: right;\">0.704417</td><td style = \"text-align: right;\">0.976131</td><td style = \"text-align: right;\">0.879318</td><td style = \"text-align: right;\">0.945442</td><td style = \"text-align: right;\">0.403365</td><td style = \"text-align: right;\">0.288486</td><td style = \"text-align: right;\">0.730162</td><td style = \"text-align: right;\">0.732415</td><td style = \"text-align: right;\">0.736674</td><td style = \"text-align: right;\">0.284333</td><td style = \"text-align: right;\">0.959505</td><td style = \"text-align: right;\">0.387595</td><td style = \"text-align: right;\">0.389514</td><td style = \"text-align: right;\">0.485418</td><td style = \"text-align: right;\">0.281165</td><td style = \"text-align: right;\">0.521438</td><td style = \"text-align: right;\">&ctdot;</td></tr><tr><td class = \"rowNumber\" style = \"font-weight: bold; text-align: right;\">100</td><td style = \"text-align: right;\">0.98851</td><td style = \"text-align: right;\">0.565714</td><td style = \"text-align: right;\">0.237209</td><td style = \"text-align: right;\">0.113602</td><td style = \"text-align: right;\">0.266752</td><td style = \"text-align: right;\">0.354626</td><td style = \"text-align: right;\">0.71068</td><td style = \"text-align: right;\">0.436412</td><td style = \"text-align: right;\">0.585535</td><td style = \"text-align: right;\">0.59527</td><td style = \"text-align: right;\">0.552462</td><td style = \"text-align: right;\">0.460215</td><td style = \"text-align: right;\">0.853983</td><td style = \"text-align: right;\">0.854933</td><td style = \"text-align: right;\">0.249104</td><td style = \"text-align: right;\">0.142587</td><td style = \"text-align: right;\">0.0884611</td><td style = \"text-align: right;\">0.24061</td><td style = \"text-align: right;\">0.0315324</td><td style = \"text-align: right;\">0.0482805</td><td style = \"text-align: right;\">0.936933</td><td style = \"text-align: right;\">0.580225</td><td style = \"text-align: right;\">0.923386</td><td style = \"text-align: right;\">0.105997</td><td style = \"text-align: right;\">0.573512</td><td style = \"text-align: right;\">0.0589122</td><td style = \"text-align: right;\">0.627602</td><td style = \"text-align: right;\">0.471199</td><td style = \"text-align: right;\">0.0310782</td><td style = \"text-align: right;\">0.986912</td><td style = \"text-align: right;\">0.0601467</td><td style = \"text-align: right;\">0.0110719</td><td style = \"text-align: right;\">0.33921</td><td style = \"text-align: right;\">0.675481</td><td style = \"text-align: right;\">0.464463</td><td style = \"text-align: right;\">0.769097</td><td style = \"text-align: right;\">0.34982</td><td style = \"text-align: right;\">0.744282</td><td style = \"text-align: right;\">0.353609</td><td style = \"text-align: right;\">0.427189</td><td style = \"text-align: right;\">0.961751</td><td style = \"text-align: right;\">0.431476</td><td style = \"text-align: right;\">0.891683</td><td style = \"text-align: right;\">0.0500296</td><td style = \"text-align: right;\">0.942581</td><td style = \"text-align: right;\">0.486296</td><td style = \"text-align: right;\">0.810027</td><td style = \"text-align: right;\">0.806248</td><td style = \"text-align: right;\">0.79316</td><td style = \"text-align: right;\">0.936365</td><td style = \"text-align: right;\">0.101139</td><td style = \"text-align: right;\">0.831189</td><td style = \"text-align: right;\">0.221979</td><td style = \"text-align: right;\">0.874123</td><td style = \"text-align: right;\">0.766306</td><td style = \"text-align: right;\">0.0961401</td><td style = \"text-align: right;\">0.182256</td><td style = \"text-align: right;\">0.1771</td><td style = \"text-align: right;\">0.824074</td><td style = \"text-align: right;\">0.216848</td><td style = \"text-align: right;\">0.629863</td><td style = \"text-align: right;\">0.161181</td><td style = \"text-align: right;\">0.65901</td><td style = \"text-align: right;\">0.749955</td><td style = \"text-align: right;\">0.0988677</td><td style = \"text-align: right;\">0.554744</td><td style = \"text-align: right;\">0.522962</td><td style = \"text-align: right;\">0.504914</td><td style = \"text-align: right;\">0.506972</td><td style = \"text-align: right;\">0.35999</td><td style = \"text-align: right;\">0.548987</td><td style = \"text-align: right;\">0.526228</td><td style = \"text-align: right;\">0.612238</td><td style = \"text-align: right;\">0.305296</td><td style = \"text-align: right;\">0.881001</td><td style = \"text-align: right;\">0.611412</td><td style = \"text-align: right;\">0.343762</td><td style = \"text-align: right;\">0.474929</td><td style = \"text-align: right;\">0.650477</td><td style = \"text-align: right;\">0.32836</td><td style = \"text-align: right;\">0.341078</td><td style = \"text-align: right;\">0.373971</td><td style = \"text-align: right;\">0.426139</td><td style = \"text-align: right;\">0.218866</td><td style = \"text-align: right;\">0.78347</td><td style = \"text-align: right;\">0.201001</td><td style = \"text-align: right;\">0.937313</td><td style = \"text-align: right;\">0.070846</td><td style = \"text-align: right;\">0.689576</td><td style = \"text-align: right;\">0.6305</td><td style = \"text-align: right;\">0.0808778</td><td style = \"text-align: right;\">0.552637</td><td style = \"text-align: right;\">0.348644</td><td style = \"text-align: right;\">0.540162</td><td style = \"text-align: right;\">0.826615</td><td style = \"text-align: right;\">0.431246</td><td style = \"text-align: right;\">0.488127</td><td style = \"text-align: right;\">0.36399</td><td style = \"text-align: right;\">0.469114</td><td style = \"text-align: right;\">0.744665</td><td style = \"text-align: right;\">&ctdot;</td></tr></tbody></table></div>"
      ],
      "text/latex": [
       "\\begin{tabular}{r|ccccccccc}\n",
       "\t& x1 & x2 & x3 & x4 & x5 & x6 & x7 & x8 & \\\\\n",
       "\t\\hline\n",
       "\t& Float64 & Float64 & Float64 & Float64 & Float64 & Float64 & Float64 & Float64 & \\\\\n",
       "\t\\hline\n",
       "\t1 & 0.249412 & 0.559655 & 0.378745 & 0.137394 & 0.948394 & 0.635572 & 0.935412 & 0.280237 & $\\dots$ \\\\\n",
       "\t2 & 0.110629 & 0.211643 & 0.85364 & 0.889184 & 0.43874 & 0.432405 & 0.698155 & 0.044846 & $\\dots$ \\\\\n",
       "\t3 & 0.466349 & 0.476323 & 0.507129 & 0.329598 & 0.854379 & 0.0897526 & 0.933332 & 0.842779 & $\\dots$ \\\\\n",
       "\t4 & 0.804267 & 0.602622 & 0.859737 & 0.268283 & 0.535211 & 0.401073 & 0.762981 & 0.524647 & $\\dots$ \\\\\n",
       "\t5 & 0.176593 & 0.638845 & 0.783848 & 0.208701 & 0.774966 & 0.514468 & 0.623931 & 0.901259 & $\\dots$ \\\\\n",
       "\t6 & 0.666309 & 0.0402717 & 0.853619 & 0.914509 & 0.0502141 & 0.361152 & 0.632845 & 0.186416 & $\\dots$ \\\\\n",
       "\t7 & 0.894426 & 0.6967 & 0.558841 & 0.885829 & 0.715455 & 0.319941 & 0.269813 & 0.547738 & $\\dots$ \\\\\n",
       "\t8 & 0.873197 & 0.0861044 & 0.364093 & 0.37206 & 0.570922 & 0.250892 & 0.379765 & 0.133052 & $\\dots$ \\\\\n",
       "\t9 & 0.0183111 & 0.735 & 0.852842 & 0.196452 & 0.384451 & 0.944532 & 0.812263 & 0.480509 & $\\dots$ \\\\\n",
       "\t10 & 0.203287 & 0.619224 & 0.604029 & 0.671429 & 0.340781 & 0.242838 & 0.0817439 & 0.742158 & $\\dots$ \\\\\n",
       "\t11 & 0.651496 & 0.631377 & 0.564565 & 0.333314 & 0.0989011 & 0.0546171 & 0.0214371 & 0.0823738 & $\\dots$ \\\\\n",
       "\t12 & 0.724862 & 0.756478 & 0.160632 & 0.284715 & 0.870379 & 0.492015 & 0.0650496 & 0.404397 & $\\dots$ \\\\\n",
       "\t13 & 0.581788 & 0.849693 & 0.834679 & 0.899304 & 0.611088 & 0.787762 & 0.596159 & 0.528505 & $\\dots$ \\\\\n",
       "\t14 & 0.119517 & 0.479848 & 0.489219 & 0.159379 & 0.770225 & 0.720418 & 0.00623506 & 0.132728 & $\\dots$ \\\\\n",
       "\t15 & 0.201022 & 0.471004 & 0.0333004 & 0.972437 & 0.931866 & 0.031851 & 0.494295 & 0.0516306 & $\\dots$ \\\\\n",
       "\t16 & 0.403162 & 0.53336 & 0.526076 & 0.656925 & 0.196865 & 0.932661 & 0.958736 & 0.480192 & $\\dots$ \\\\\n",
       "\t17 & 0.651651 & 0.761401 & 0.876547 & 0.650882 & 0.943202 & 0.0381491 & 0.0742831 & 0.783552 & $\\dots$ \\\\\n",
       "\t18 & 0.253718 & 0.351836 & 0.588304 & 0.615114 & 0.663462 & 0.14343 & 0.262466 & 0.467606 & $\\dots$ \\\\\n",
       "\t19 & 0.0915841 & 0.853467 & 0.112507 & 0.656604 & 0.77429 & 0.747487 & 0.0561076 & 0.657983 & $\\dots$ \\\\\n",
       "\t20 & 0.710515 & 0.631914 & 0.502657 & 0.324271 & 0.141311 & 0.559018 & 0.529812 & 0.760123 & $\\dots$ \\\\\n",
       "\t21 & 0.147727 & 0.362837 & 0.882794 & 0.277618 & 0.35357 & 0.541789 & 0.604239 & 0.890171 & $\\dots$ \\\\\n",
       "\t22 & 0.822815 & 0.241102 & 0.846065 & 0.278142 & 0.805306 & 0.966007 & 0.38213 & 0.0559654 & $\\dots$ \\\\\n",
       "\t23 & 0.672215 & 0.0645259 & 0.68644 & 0.19748 & 0.0656879 & 0.326766 & 0.833216 & 0.818537 & $\\dots$ \\\\\n",
       "\t24 & 0.981152 & 0.00790762 & 0.51825 & 0.449356 & 0.629558 & 0.473028 & 0.820247 & 0.403342 & $\\dots$ \\\\\n",
       "\t25 & 0.738701 & 0.326238 & 0.311643 & 0.224694 & 0.391403 & 0.308408 & 0.869315 & 0.799411 & $\\dots$ \\\\\n",
       "\t26 & 0.171874 & 0.16435 & 0.757415 & 0.918832 & 0.982085 & 0.339964 & 0.839936 & 0.262365 & $\\dots$ \\\\\n",
       "\t27 & 0.683652 & 0.457597 & 0.476703 & 0.463821 & 0.916372 & 0.402782 & 0.501512 & 0.1358 & $\\dots$ \\\\\n",
       "\t28 & 0.75663 & 0.854714 & 0.124492 & 0.447829 & 0.0703454 & 0.778176 & 0.925145 & 0.178987 & $\\dots$ \\\\\n",
       "\t29 & 0.299342 & 0.190232 & 0.573692 & 0.24078 & 0.17708 & 0.124713 & 0.834618 & 0.30863 & $\\dots$ \\\\\n",
       "\t30 & 0.260262 & 0.669326 & 0.530186 & 0.552485 & 0.213319 & 0.40105 & 0.580735 & 0.725778 & $\\dots$ \\\\\n",
       "\t$\\dots$ & $\\dots$ & $\\dots$ & $\\dots$ & $\\dots$ & $\\dots$ & $\\dots$ & $\\dots$ & $\\dots$ &  \\\\\n",
       "\\end{tabular}\n"
      ],
      "text/plain": [
       "\u001b[1m100×200 DataFrame\u001b[0m\n",
       "\u001b[1m Row \u001b[0m│\u001b[1m x1        \u001b[0m\u001b[1m x2        \u001b[0m\u001b[1m x3        \u001b[0m\u001b[1m x4       \u001b[0m\u001b[1m x5        \u001b[0m\u001b[1m x6        \u001b[0m\u001b[1m x7    \u001b[0m ⋯\n",
       "     │\u001b[90m Float64   \u001b[0m\u001b[90m Float64   \u001b[0m\u001b[90m Float64   \u001b[0m\u001b[90m Float64  \u001b[0m\u001b[90m Float64   \u001b[0m\u001b[90m Float64   \u001b[0m\u001b[90m Float6\u001b[0m ⋯\n",
       "─────┼──────────────────────────────────────────────────────────────────────────\n",
       "   1 │ 0.249412   0.559655   0.378745   0.137394  0.948394   0.635572   0.9354 ⋯\n",
       "   2 │ 0.110629   0.211643   0.85364    0.889184  0.43874    0.432405   0.6981\n",
       "   3 │ 0.466349   0.476323   0.507129   0.329598  0.854379   0.0897526  0.9333\n",
       "   4 │ 0.804267   0.602622   0.859737   0.268283  0.535211   0.401073   0.7629\n",
       "   5 │ 0.176593   0.638845   0.783848   0.208701  0.774966   0.514468   0.6239 ⋯\n",
       "   6 │ 0.666309   0.0402717  0.853619   0.914509  0.0502141  0.361152   0.6328\n",
       "   7 │ 0.894426   0.6967     0.558841   0.885829  0.715455   0.319941   0.2698\n",
       "   8 │ 0.873197   0.0861044  0.364093   0.37206   0.570922   0.250892   0.3797\n",
       "   9 │ 0.0183111  0.735      0.852842   0.196452  0.384451   0.944532   0.8122 ⋯\n",
       "  10 │ 0.203287   0.619224   0.604029   0.671429  0.340781   0.242838   0.0817\n",
       "  11 │ 0.651496   0.631377   0.564565   0.333314  0.0989011  0.0546171  0.0214\n",
       "  ⋮  │     ⋮          ⋮          ⋮         ⋮          ⋮          ⋮          ⋮  ⋱\n",
       "  91 │ 0.264863   0.483657   0.377695   0.530439  0.302472   0.302799   0.9746\n",
       "  92 │ 0.575704   0.398386   0.846091   0.673098  0.779911   0.648834   0.3770 ⋯\n",
       "  93 │ 0.382563   0.671337   0.73616    0.888861  0.130314   0.0836245  0.9248\n",
       "  94 │ 0.981974   0.322547   0.801286   0.213658  0.586012   0.16873    0.2834\n",
       "  95 │ 0.506054   0.614962   0.429414   0.444513  0.0121819  0.535762   0.4263\n",
       "  96 │ 0.194648   0.605672   0.576579   0.503393  0.42399    0.203445   0.2974 ⋯\n",
       "  97 │ 0.550875   0.185237   0.123531   0.233645  0.415216   0.111896   0.1191\n",
       "  98 │ 0.0964945  0.351725   0.130618   0.570078  0.280456   0.415328   0.4925\n",
       "  99 │ 0.303736   0.190397   0.30265    0.518783  0.926588   0.650134   0.1809\n",
       " 100 │ 0.98851    0.565714   0.237209   0.113602  0.266752   0.354626   0.7106 ⋯\n",
       "\u001b[36m                                                 194 columns and 79 rows omitted\u001b[0m"
      ]
     },
     "execution_count": 16,
     "metadata": {},
     "output_type": "execute_result"
    }
   ],
   "source": [
    "df = DataFrame(rand(100, 200), :auto)"
   ]
  },
  {
   "cell_type": "markdown",
   "metadata": {},
   "source": [
    "### Most elementary get and set operations\n",
    "\n",
    "Given the `DataFrame` `x` we have created earlier, here are various ways to grab one of its columns as a `Vector`."
   ]
  },
  {
   "cell_type": "code",
   "execution_count": 17,
   "metadata": {},
   "outputs": [
    {
     "data": {
      "text/html": [
       "<div><div style = \"float: left;\"><span>2×3 DataFrame</span></div><div style = \"clear: both;\"></div></div><div class = \"data-frame\" style = \"overflow-x: scroll;\"><table class = \"data-frame\" style = \"margin-bottom: 6px;\"><thead><tr class = \"header\"><th class = \"rowNumber\" style = \"font-weight: bold; text-align: right;\">Row</th><th style = \"text-align: left;\">A</th><th style = \"text-align: left;\">B</th><th style = \"text-align: left;\">C</th></tr><tr class = \"subheader headerLastRow\"><th class = \"rowNumber\" style = \"font-weight: bold; text-align: right;\"></th><th title = \"Int64\" style = \"text-align: left;\">Int64</th><th title = \"Union{Missing, Float64}\" style = \"text-align: left;\">Float64?</th><th title = \"String\" style = \"text-align: left;\">String</th></tr></thead><tbody><tr><td class = \"rowNumber\" style = \"font-weight: bold; text-align: right;\">1</td><td style = \"text-align: right;\">1</td><td style = \"text-align: right;\">1.0</td><td style = \"text-align: left;\">a</td></tr><tr><td class = \"rowNumber\" style = \"font-weight: bold; text-align: right;\">2</td><td style = \"text-align: right;\">2</td><td style = \"font-style: italic; text-align: right;\">missing</td><td style = \"text-align: left;\">b</td></tr></tbody></table></div>"
      ],
      "text/latex": [
       "\\begin{tabular}{r|ccc}\n",
       "\t& A & B & C\\\\\n",
       "\t\\hline\n",
       "\t& Int64 & Float64? & String\\\\\n",
       "\t\\hline\n",
       "\t1 & 1 & 1.0 & a \\\\\n",
       "\t2 & 2 & \\emph{missing} & b \\\\\n",
       "\\end{tabular}\n"
      ],
      "text/plain": [
       "\u001b[1m2×3 DataFrame\u001b[0m\n",
       "\u001b[1m Row \u001b[0m│\u001b[1m A     \u001b[0m\u001b[1m B         \u001b[0m\u001b[1m C      \u001b[0m\n",
       "     │\u001b[90m Int64 \u001b[0m\u001b[90m Float64?  \u001b[0m\u001b[90m String \u001b[0m\n",
       "─────┼──────────────────────────\n",
       "   1 │     1        1.0  a\n",
       "   2 │     2 \u001b[90m missing   \u001b[0m b"
      ]
     },
     "execution_count": 17,
     "metadata": {},
     "output_type": "execute_result"
    }
   ],
   "source": [
    "x"
   ]
  },
  {
   "cell_type": "code",
   "execution_count": 18,
   "metadata": {},
   "outputs": [
    {
     "data": {
      "text/plain": [
       "([1, 2], [1, 2], [1, 2])"
      ]
     },
     "execution_count": 18,
     "metadata": {},
     "output_type": "execute_result"
    }
   ],
   "source": [
    "x.A, x[!, 1], x[!, :A] # all get the vector stored in our DataFrame without copying it"
   ]
  },
  {
   "cell_type": "code",
   "execution_count": 19,
   "metadata": {},
   "outputs": [
    {
     "data": {
      "text/plain": [
       "([1, 2], [1, 2])"
      ]
     },
     "execution_count": 19,
     "metadata": {},
     "output_type": "execute_result"
    }
   ],
   "source": [
    "x.\"A\", x[!, \"A\"] # the same using string indexing"
   ]
  },
  {
   "cell_type": "code",
   "execution_count": 20,
   "metadata": {},
   "outputs": [
    {
     "data": {
      "text/plain": [
       "2-element Vector{Int64}:\n",
       " 1\n",
       " 2"
      ]
     },
     "execution_count": 20,
     "metadata": {},
     "output_type": "execute_result"
    }
   ],
   "source": [
    "x[:, 1] # note that this creates a copy"
   ]
  },
  {
   "cell_type": "code",
   "execution_count": 21,
   "metadata": {},
   "outputs": [
    {
     "data": {
      "text/plain": [
       "false"
      ]
     },
     "execution_count": 21,
     "metadata": {},
     "output_type": "execute_result"
    }
   ],
   "source": [
    "x[:, 1] === x[:, 1]"
   ]
  },
  {
   "cell_type": "markdown",
   "metadata": {},
   "source": [
    "To grab one row as a `DataFrame`, we can index as follows."
   ]
  },
  {
   "cell_type": "code",
   "execution_count": 22,
   "metadata": {},
   "outputs": [
    {
     "data": {
      "text/html": [
       "<div><div style = \"float: left;\"><span>1×3 DataFrame</span></div><div style = \"clear: both;\"></div></div><div class = \"data-frame\" style = \"overflow-x: scroll;\"><table class = \"data-frame\" style = \"margin-bottom: 6px;\"><thead><tr class = \"header\"><th class = \"rowNumber\" style = \"font-weight: bold; text-align: right;\">Row</th><th style = \"text-align: left;\">A</th><th style = \"text-align: left;\">B</th><th style = \"text-align: left;\">C</th></tr><tr class = \"subheader headerLastRow\"><th class = \"rowNumber\" style = \"font-weight: bold; text-align: right;\"></th><th title = \"Int64\" style = \"text-align: left;\">Int64</th><th title = \"Union{Missing, Float64}\" style = \"text-align: left;\">Float64?</th><th title = \"String\" style = \"text-align: left;\">String</th></tr></thead><tbody><tr><td class = \"rowNumber\" style = \"font-weight: bold; text-align: right;\">1</td><td style = \"text-align: right;\">1</td><td style = \"text-align: right;\">1.0</td><td style = \"text-align: left;\">a</td></tr></tbody></table></div>"
      ],
      "text/latex": [
       "\\begin{tabular}{r|ccc}\n",
       "\t& A & B & C\\\\\n",
       "\t\\hline\n",
       "\t& Int64 & Float64? & String\\\\\n",
       "\t\\hline\n",
       "\t1 & 1 & 1.0 & a \\\\\n",
       "\\end{tabular}\n"
      ],
      "text/plain": [
       "\u001b[1m1×3 DataFrame\u001b[0m\n",
       "\u001b[1m Row \u001b[0m│\u001b[1m A     \u001b[0m\u001b[1m B        \u001b[0m\u001b[1m C      \u001b[0m\n",
       "     │\u001b[90m Int64 \u001b[0m\u001b[90m Float64? \u001b[0m\u001b[90m String \u001b[0m\n",
       "─────┼─────────────────────────\n",
       "   1 │     1       1.0  a"
      ]
     },
     "execution_count": 22,
     "metadata": {},
     "output_type": "execute_result"
    }
   ],
   "source": [
    "x[1:1, :]"
   ]
  },
  {
   "cell_type": "code",
   "execution_count": 23,
   "metadata": {},
   "outputs": [
    {
     "data": {
      "text/html": [
       "<div><div style = \"float: left;\"><span>DataFrameRow (3 columns)</span></div><div style = \"clear: both;\"></div></div><div class = \"data-frame\" style = \"overflow-x: scroll;\"><table class = \"data-frame\" style = \"margin-bottom: 6px;\"><thead><tr class = \"header\"><th class = \"rowLabel\" style = \"font-weight: bold; text-align: right;\">Row</th><th style = \"text-align: left;\">A</th><th style = \"text-align: left;\">B</th><th style = \"text-align: left;\">C</th></tr><tr class = \"subheader headerLastRow\"><th class = \"rowLabel\" style = \"font-weight: bold; text-align: right;\"></th><th title = \"Int64\" style = \"text-align: left;\">Int64</th><th title = \"Union{Missing, Float64}\" style = \"text-align: left;\">Float64?</th><th title = \"String\" style = \"text-align: left;\">String</th></tr></thead><tbody><tr><td class = \"rowLabel\" style = \"font-weight: bold; text-align: right;\">1</td><td style = \"text-align: right;\">1</td><td style = \"text-align: right;\">1.0</td><td style = \"text-align: left;\">a</td></tr></tbody></table></div>"
      ],
      "text/latex": [
       "\\begin{tabular}{r|ccc}\n",
       "\t& A & B & C\\\\\n",
       "\t\\hline\n",
       "\t& Int64 & Float64? & String\\\\\n",
       "\t\\hline\n",
       "\t1 & 1 & 1.0 & a \\\\\n",
       "\\end{tabular}\n"
      ],
      "text/plain": [
       "\u001b[1mDataFrameRow\u001b[0m\n",
       "\u001b[1m Row \u001b[0m│\u001b[1m A     \u001b[0m\u001b[1m B        \u001b[0m\u001b[1m C      \u001b[0m\n",
       "     │\u001b[90m Int64 \u001b[0m\u001b[90m Float64? \u001b[0m\u001b[90m String \u001b[0m\n",
       "─────┼─────────────────────────\n",
       "   1 │     1       1.0  a"
      ]
     },
     "execution_count": 23,
     "metadata": {},
     "output_type": "execute_result"
    }
   ],
   "source": [
    "x[1, :] # this produces a DataFrameRow which is treated as 1-dimensional object similar to a NamedTuple"
   ]
  },
  {
   "cell_type": "markdown",
   "metadata": {},
   "source": [
    "We can grab a single cell or element with the same syntax to grab an element of an array."
   ]
  },
  {
   "cell_type": "code",
   "execution_count": 24,
   "metadata": {},
   "outputs": [
    {
     "data": {
      "text/plain": [
       "1"
      ]
     },
     "execution_count": 24,
     "metadata": {},
     "output_type": "execute_result"
    }
   ],
   "source": [
    "x[1, 1]"
   ]
  },
  {
   "cell_type": "markdown",
   "metadata": {},
   "source": [
    "or a new `DataFrame` that is a subset of rows and columns"
   ]
  },
  {
   "cell_type": "code",
   "execution_count": 25,
   "metadata": {},
   "outputs": [
    {
     "data": {
      "text/html": [
       "<div><div style = \"float: left;\"><span>2×2 DataFrame</span></div><div style = \"clear: both;\"></div></div><div class = \"data-frame\" style = \"overflow-x: scroll;\"><table class = \"data-frame\" style = \"margin-bottom: 6px;\"><thead><tr class = \"header\"><th class = \"rowNumber\" style = \"font-weight: bold; text-align: right;\">Row</th><th style = \"text-align: left;\">A</th><th style = \"text-align: left;\">B</th></tr><tr class = \"subheader headerLastRow\"><th class = \"rowNumber\" style = \"font-weight: bold; text-align: right;\"></th><th title = \"Int64\" style = \"text-align: left;\">Int64</th><th title = \"Union{Missing, Float64}\" style = \"text-align: left;\">Float64?</th></tr></thead><tbody><tr><td class = \"rowNumber\" style = \"font-weight: bold; text-align: right;\">1</td><td style = \"text-align: right;\">1</td><td style = \"text-align: right;\">1.0</td></tr><tr><td class = \"rowNumber\" style = \"font-weight: bold; text-align: right;\">2</td><td style = \"text-align: right;\">2</td><td style = \"font-style: italic; text-align: right;\">missing</td></tr></tbody></table></div>"
      ],
      "text/latex": [
       "\\begin{tabular}{r|cc}\n",
       "\t& A & B\\\\\n",
       "\t\\hline\n",
       "\t& Int64 & Float64?\\\\\n",
       "\t\\hline\n",
       "\t1 & 1 & 1.0 \\\\\n",
       "\t2 & 2 & \\emph{missing} \\\\\n",
       "\\end{tabular}\n"
      ],
      "text/plain": [
       "\u001b[1m2×2 DataFrame\u001b[0m\n",
       "\u001b[1m Row \u001b[0m│\u001b[1m A     \u001b[0m\u001b[1m B         \u001b[0m\n",
       "     │\u001b[90m Int64 \u001b[0m\u001b[90m Float64?  \u001b[0m\n",
       "─────┼──────────────────\n",
       "   1 │     1        1.0\n",
       "   2 │     2 \u001b[90m missing   \u001b[0m"
      ]
     },
     "execution_count": 25,
     "metadata": {},
     "output_type": "execute_result"
    }
   ],
   "source": [
    "x[1:2, 1:2]"
   ]
  },
  {
   "cell_type": "markdown",
   "metadata": {},
   "source": [
    "You can also use `Regex` to select columns and `Not` from InvertedIndices.jl both to select rows and columns"
   ]
  },
  {
   "cell_type": "code",
   "execution_count": 26,
   "metadata": {},
   "outputs": [
    {
     "data": {
      "text/html": [
       "<div><div style = \"float: left;\"><span>1×1 DataFrame</span></div><div style = \"clear: both;\"></div></div><div class = \"data-frame\" style = \"overflow-x: scroll;\"><table class = \"data-frame\" style = \"margin-bottom: 6px;\"><thead><tr class = \"header\"><th class = \"rowNumber\" style = \"font-weight: bold; text-align: right;\">Row</th><th style = \"text-align: left;\">A</th></tr><tr class = \"subheader headerLastRow\"><th class = \"rowNumber\" style = \"font-weight: bold; text-align: right;\"></th><th title = \"Int64\" style = \"text-align: left;\">Int64</th></tr></thead><tbody><tr><td class = \"rowNumber\" style = \"font-weight: bold; text-align: right;\">1</td><td style = \"text-align: right;\">2</td></tr></tbody></table></div>"
      ],
      "text/latex": [
       "\\begin{tabular}{r|c}\n",
       "\t& A\\\\\n",
       "\t\\hline\n",
       "\t& Int64\\\\\n",
       "\t\\hline\n",
       "\t1 & 2 \\\\\n",
       "\\end{tabular}\n"
      ],
      "text/plain": [
       "\u001b[1m1×1 DataFrame\u001b[0m\n",
       "\u001b[1m Row \u001b[0m│\u001b[1m A     \u001b[0m\n",
       "     │\u001b[90m Int64 \u001b[0m\n",
       "─────┼───────\n",
       "   1 │     2"
      ]
     },
     "execution_count": 26,
     "metadata": {},
     "output_type": "execute_result"
    }
   ],
   "source": [
    "x[Not(1), r\"A\"]"
   ]
  },
  {
   "cell_type": "code",
   "execution_count": 27,
   "metadata": {},
   "outputs": [
    {
     "data": {
      "text/html": [
       "<div><div style = \"float: left;\"><span>2×2 DataFrame</span></div><div style = \"clear: both;\"></div></div><div class = \"data-frame\" style = \"overflow-x: scroll;\"><table class = \"data-frame\" style = \"margin-bottom: 6px;\"><thead><tr class = \"header\"><th class = \"rowNumber\" style = \"font-weight: bold; text-align: right;\">Row</th><th style = \"text-align: left;\">B</th><th style = \"text-align: left;\">C</th></tr><tr class = \"subheader headerLastRow\"><th class = \"rowNumber\" style = \"font-weight: bold; text-align: right;\"></th><th title = \"Union{Missing, Float64}\" style = \"text-align: left;\">Float64?</th><th title = \"String\" style = \"text-align: left;\">String</th></tr></thead><tbody><tr><td class = \"rowNumber\" style = \"font-weight: bold; text-align: right;\">1</td><td style = \"text-align: right;\">1.0</td><td style = \"text-align: left;\">a</td></tr><tr><td class = \"rowNumber\" style = \"font-weight: bold; text-align: right;\">2</td><td style = \"font-style: italic; text-align: right;\">missing</td><td style = \"text-align: left;\">b</td></tr></tbody></table></div>"
      ],
      "text/latex": [
       "\\begin{tabular}{r|cc}\n",
       "\t& B & C\\\\\n",
       "\t\\hline\n",
       "\t& Float64? & String\\\\\n",
       "\t\\hline\n",
       "\t1 & 1.0 & a \\\\\n",
       "\t2 & \\emph{missing} & b \\\\\n",
       "\\end{tabular}\n"
      ],
      "text/plain": [
       "\u001b[1m2×2 DataFrame\u001b[0m\n",
       "\u001b[1m Row \u001b[0m│\u001b[1m B         \u001b[0m\u001b[1m C      \u001b[0m\n",
       "     │\u001b[90m Float64?  \u001b[0m\u001b[90m String \u001b[0m\n",
       "─────┼───────────────────\n",
       "   1 │       1.0  a\n",
       "   2 │\u001b[90m missing   \u001b[0m b"
      ]
     },
     "execution_count": 27,
     "metadata": {},
     "output_type": "execute_result"
    }
   ],
   "source": [
    "x[!, Not(1)] # ! indicates that underlying columns are not copied"
   ]
  },
  {
   "cell_type": "code",
   "execution_count": 28,
   "metadata": {},
   "outputs": [
    {
     "data": {
      "text/html": [
       "<div><div style = \"float: left;\"><span>2×2 DataFrame</span></div><div style = \"clear: both;\"></div></div><div class = \"data-frame\" style = \"overflow-x: scroll;\"><table class = \"data-frame\" style = \"margin-bottom: 6px;\"><thead><tr class = \"header\"><th class = \"rowNumber\" style = \"font-weight: bold; text-align: right;\">Row</th><th style = \"text-align: left;\">B</th><th style = \"text-align: left;\">C</th></tr><tr class = \"subheader headerLastRow\"><th class = \"rowNumber\" style = \"font-weight: bold; text-align: right;\"></th><th title = \"Union{Missing, Float64}\" style = \"text-align: left;\">Float64?</th><th title = \"String\" style = \"text-align: left;\">String</th></tr></thead><tbody><tr><td class = \"rowNumber\" style = \"font-weight: bold; text-align: right;\">1</td><td style = \"text-align: right;\">1.0</td><td style = \"text-align: left;\">a</td></tr><tr><td class = \"rowNumber\" style = \"font-weight: bold; text-align: right;\">2</td><td style = \"font-style: italic; text-align: right;\">missing</td><td style = \"text-align: left;\">b</td></tr></tbody></table></div>"
      ],
      "text/latex": [
       "\\begin{tabular}{r|cc}\n",
       "\t& B & C\\\\\n",
       "\t\\hline\n",
       "\t& Float64? & String\\\\\n",
       "\t\\hline\n",
       "\t1 & 1.0 & a \\\\\n",
       "\t2 & \\emph{missing} & b \\\\\n",
       "\\end{tabular}\n"
      ],
      "text/plain": [
       "\u001b[1m2×2 DataFrame\u001b[0m\n",
       "\u001b[1m Row \u001b[0m│\u001b[1m B         \u001b[0m\u001b[1m C      \u001b[0m\n",
       "     │\u001b[90m Float64?  \u001b[0m\u001b[90m String \u001b[0m\n",
       "─────┼───────────────────\n",
       "   1 │       1.0  a\n",
       "   2 │\u001b[90m missing   \u001b[0m b"
      ]
     },
     "execution_count": 28,
     "metadata": {},
     "output_type": "execute_result"
    }
   ],
   "source": [
    "x[:, Not(1)] # : means that the columns will get copied"
   ]
  },
  {
   "cell_type": "markdown",
   "metadata": {},
   "source": [
    "Assignment of a scalar to a data frame can be done in ranges using broadcasting:"
   ]
  },
  {
   "cell_type": "code",
   "execution_count": 29,
   "metadata": {},
   "outputs": [
    {
     "data": {
      "text/html": [
       "<div><div style = \"float: left;\"><span>2×3 DataFrame</span></div><div style = \"clear: both;\"></div></div><div class = \"data-frame\" style = \"overflow-x: scroll;\"><table class = \"data-frame\" style = \"margin-bottom: 6px;\"><thead><tr class = \"header\"><th class = \"rowNumber\" style = \"font-weight: bold; text-align: right;\">Row</th><th style = \"text-align: left;\">A</th><th style = \"text-align: left;\">B</th><th style = \"text-align: left;\">C</th></tr><tr class = \"subheader headerLastRow\"><th class = \"rowNumber\" style = \"font-weight: bold; text-align: right;\"></th><th title = \"Int64\" style = \"text-align: left;\">Int64</th><th title = \"Union{Missing, Float64}\" style = \"text-align: left;\">Float64?</th><th title = \"String\" style = \"text-align: left;\">String</th></tr></thead><tbody><tr><td class = \"rowNumber\" style = \"font-weight: bold; text-align: right;\">1</td><td style = \"text-align: right;\">1</td><td style = \"text-align: right;\">1.0</td><td style = \"text-align: left;\">a</td></tr><tr><td class = \"rowNumber\" style = \"font-weight: bold; text-align: right;\">2</td><td style = \"text-align: right;\">1</td><td style = \"text-align: right;\">1.0</td><td style = \"text-align: left;\">b</td></tr></tbody></table></div>"
      ],
      "text/latex": [
       "\\begin{tabular}{r|ccc}\n",
       "\t& A & B & C\\\\\n",
       "\t\\hline\n",
       "\t& Int64 & Float64? & String\\\\\n",
       "\t\\hline\n",
       "\t1 & 1 & 1.0 & a \\\\\n",
       "\t2 & 1 & 1.0 & b \\\\\n",
       "\\end{tabular}\n"
      ],
      "text/plain": [
       "\u001b[1m2×3 DataFrame\u001b[0m\n",
       "\u001b[1m Row \u001b[0m│\u001b[1m A     \u001b[0m\u001b[1m B        \u001b[0m\u001b[1m C      \u001b[0m\n",
       "     │\u001b[90m Int64 \u001b[0m\u001b[90m Float64? \u001b[0m\u001b[90m String \u001b[0m\n",
       "─────┼─────────────────────────\n",
       "   1 │     1       1.0  a\n",
       "   2 │     1       1.0  b"
      ]
     },
     "execution_count": 29,
     "metadata": {},
     "output_type": "execute_result"
    }
   ],
   "source": [
    "x[1:2, 1:2] .= 1\n",
    "x"
   ]
  },
  {
   "cell_type": "markdown",
   "metadata": {},
   "source": [
    "Assignment of a vector of length equal to the number of assigned rows using broadcasting"
   ]
  },
  {
   "cell_type": "code",
   "execution_count": 30,
   "metadata": {},
   "outputs": [
    {
     "data": {
      "text/html": [
       "<div><div style = \"float: left;\"><span>2×3 DataFrame</span></div><div style = \"clear: both;\"></div></div><div class = \"data-frame\" style = \"overflow-x: scroll;\"><table class = \"data-frame\" style = \"margin-bottom: 6px;\"><thead><tr class = \"header\"><th class = \"rowNumber\" style = \"font-weight: bold; text-align: right;\">Row</th><th style = \"text-align: left;\">A</th><th style = \"text-align: left;\">B</th><th style = \"text-align: left;\">C</th></tr><tr class = \"subheader headerLastRow\"><th class = \"rowNumber\" style = \"font-weight: bold; text-align: right;\"></th><th title = \"Int64\" style = \"text-align: left;\">Int64</th><th title = \"Union{Missing, Float64}\" style = \"text-align: left;\">Float64?</th><th title = \"String\" style = \"text-align: left;\">String</th></tr></thead><tbody><tr><td class = \"rowNumber\" style = \"font-weight: bold; text-align: right;\">1</td><td style = \"text-align: right;\">1</td><td style = \"text-align: right;\">1.0</td><td style = \"text-align: left;\">a</td></tr><tr><td class = \"rowNumber\" style = \"font-weight: bold; text-align: right;\">2</td><td style = \"text-align: right;\">2</td><td style = \"text-align: right;\">2.0</td><td style = \"text-align: left;\">b</td></tr></tbody></table></div>"
      ],
      "text/latex": [
       "\\begin{tabular}{r|ccc}\n",
       "\t& A & B & C\\\\\n",
       "\t\\hline\n",
       "\t& Int64 & Float64? & String\\\\\n",
       "\t\\hline\n",
       "\t1 & 1 & 1.0 & a \\\\\n",
       "\t2 & 2 & 2.0 & b \\\\\n",
       "\\end{tabular}\n"
      ],
      "text/plain": [
       "\u001b[1m2×3 DataFrame\u001b[0m\n",
       "\u001b[1m Row \u001b[0m│\u001b[1m A     \u001b[0m\u001b[1m B        \u001b[0m\u001b[1m C      \u001b[0m\n",
       "     │\u001b[90m Int64 \u001b[0m\u001b[90m Float64? \u001b[0m\u001b[90m String \u001b[0m\n",
       "─────┼─────────────────────────\n",
       "   1 │     1       1.0  a\n",
       "   2 │     2       2.0  b"
      ]
     },
     "execution_count": 30,
     "metadata": {},
     "output_type": "execute_result"
    }
   ],
   "source": [
    "x[1:2, 1:2] .= [1,2]\n",
    "x"
   ]
  },
  {
   "cell_type": "markdown",
   "metadata": {},
   "source": [
    "Assignment or of another data frame of matching size and column names, again using broadcasting:"
   ]
  },
  {
   "cell_type": "code",
   "execution_count": 31,
   "metadata": {},
   "outputs": [
    {
     "data": {
      "text/html": [
       "<div><div style = \"float: left;\"><span>2×3 DataFrame</span></div><div style = \"clear: both;\"></div></div><div class = \"data-frame\" style = \"overflow-x: scroll;\"><table class = \"data-frame\" style = \"margin-bottom: 6px;\"><thead><tr class = \"header\"><th class = \"rowNumber\" style = \"font-weight: bold; text-align: right;\">Row</th><th style = \"text-align: left;\">A</th><th style = \"text-align: left;\">B</th><th style = \"text-align: left;\">C</th></tr><tr class = \"subheader headerLastRow\"><th class = \"rowNumber\" style = \"font-weight: bold; text-align: right;\"></th><th title = \"Int64\" style = \"text-align: left;\">Int64</th><th title = \"Union{Missing, Float64}\" style = \"text-align: left;\">Float64?</th><th title = \"String\" style = \"text-align: left;\">String</th></tr></thead><tbody><tr><td class = \"rowNumber\" style = \"font-weight: bold; text-align: right;\">1</td><td style = \"text-align: right;\">5</td><td style = \"text-align: right;\">6.0</td><td style = \"text-align: left;\">a</td></tr><tr><td class = \"rowNumber\" style = \"font-weight: bold; text-align: right;\">2</td><td style = \"text-align: right;\">7</td><td style = \"text-align: right;\">8.0</td><td style = \"text-align: left;\">b</td></tr></tbody></table></div>"
      ],
      "text/latex": [
       "\\begin{tabular}{r|ccc}\n",
       "\t& A & B & C\\\\\n",
       "\t\\hline\n",
       "\t& Int64 & Float64? & String\\\\\n",
       "\t\\hline\n",
       "\t1 & 5 & 6.0 & a \\\\\n",
       "\t2 & 7 & 8.0 & b \\\\\n",
       "\\end{tabular}\n"
      ],
      "text/plain": [
       "\u001b[1m2×3 DataFrame\u001b[0m\n",
       "\u001b[1m Row \u001b[0m│\u001b[1m A     \u001b[0m\u001b[1m B        \u001b[0m\u001b[1m C      \u001b[0m\n",
       "     │\u001b[90m Int64 \u001b[0m\u001b[90m Float64? \u001b[0m\u001b[90m String \u001b[0m\n",
       "─────┼─────────────────────────\n",
       "   1 │     5       6.0  a\n",
       "   2 │     7       8.0  b"
      ]
     },
     "execution_count": 31,
     "metadata": {},
     "output_type": "execute_result"
    }
   ],
   "source": [
    "x[1:2, 1:2] .= DataFrame([5 6; 7 8], [:A, :B])\n",
    "x"
   ]
  },
  {
   "cell_type": "markdown",
   "metadata": {},
   "source": [
    "**Caution**\n",
    "\n",
    "With `df[!, :col]` and `df.col` syntax you get a direct (non copying) access to a column of a data frame.\n",
    "This is potentially unsafe as you can easily corrupt data in the `df` data frame if you resize, sort, etc. the column obtained in this way.\n",
    "Therefore such access should be used with caution.\n",
    "\n",
    "Similarly `df[!, cols]` when `cols` is a collection of columns produces a new data frame that holds the same (not copied) columns as the source `df` data frame. Similarly, modifying the data frame obtained via `df[!, cols]` might cause problems with the consistency of `df`.\n",
    "\n",
    "The `df[:, :col]` and `df[:, cols]` syntaxes always copy columns so they are safe to use (and should generally be preferred except for performance or memory critical use cases)."
   ]
  },
  {
   "cell_type": "markdown",
   "metadata": {},
   "source": [
    "Here are examples of how `Cols` and `Between` can be used to select columns of a data frame."
   ]
  },
  {
   "cell_type": "code",
   "execution_count": 32,
   "metadata": {},
   "outputs": [
    {
     "data": {
      "text/html": [
       "<div><div style = \"float: left;\"><span>4×5 DataFrame</span></div><div style = \"clear: both;\"></div></div><div class = \"data-frame\" style = \"overflow-x: scroll;\"><table class = \"data-frame\" style = \"margin-bottom: 6px;\"><thead><tr class = \"header\"><th class = \"rowNumber\" style = \"font-weight: bold; text-align: right;\">Row</th><th style = \"text-align: left;\">x1</th><th style = \"text-align: left;\">x2</th><th style = \"text-align: left;\">x3</th><th style = \"text-align: left;\">x4</th><th style = \"text-align: left;\">x5</th></tr><tr class = \"subheader headerLastRow\"><th class = \"rowNumber\" style = \"font-weight: bold; text-align: right;\"></th><th title = \"Float64\" style = \"text-align: left;\">Float64</th><th title = \"Float64\" style = \"text-align: left;\">Float64</th><th title = \"Float64\" style = \"text-align: left;\">Float64</th><th title = \"Float64\" style = \"text-align: left;\">Float64</th><th title = \"Float64\" style = \"text-align: left;\">Float64</th></tr></thead><tbody><tr><td class = \"rowNumber\" style = \"font-weight: bold; text-align: right;\">1</td><td style = \"text-align: right;\">0.375774</td><td style = \"text-align: right;\">0.111506</td><td style = \"text-align: right;\">0.281562</td><td style = \"text-align: right;\">0.334431</td><td style = \"text-align: right;\">0.424942</td></tr><tr><td class = \"rowNumber\" style = \"font-weight: bold; text-align: right;\">2</td><td style = \"text-align: right;\">0.453273</td><td style = \"text-align: right;\">0.176734</td><td style = \"text-align: right;\">0.190792</td><td style = \"text-align: right;\">0.226112</td><td style = \"text-align: right;\">0.759624</td></tr><tr><td class = \"rowNumber\" style = \"font-weight: bold; text-align: right;\">3</td><td style = \"text-align: right;\">0.981711</td><td style = \"text-align: right;\">0.4673</td><td style = \"text-align: right;\">0.367482</td><td style = \"text-align: right;\">0.789294</td><td style = \"text-align: right;\">0.26243</td></tr><tr><td class = \"rowNumber\" style = \"font-weight: bold; text-align: right;\">4</td><td style = \"text-align: right;\">0.969024</td><td style = \"text-align: right;\">0.308621</td><td style = \"text-align: right;\">0.856247</td><td style = \"text-align: right;\">0.37713</td><td style = \"text-align: right;\">0.583253</td></tr></tbody></table></div>"
      ],
      "text/latex": [
       "\\begin{tabular}{r|ccccc}\n",
       "\t& x1 & x2 & x3 & x4 & x5\\\\\n",
       "\t\\hline\n",
       "\t& Float64 & Float64 & Float64 & Float64 & Float64\\\\\n",
       "\t\\hline\n",
       "\t1 & 0.375774 & 0.111506 & 0.281562 & 0.334431 & 0.424942 \\\\\n",
       "\t2 & 0.453273 & 0.176734 & 0.190792 & 0.226112 & 0.759624 \\\\\n",
       "\t3 & 0.981711 & 0.4673 & 0.367482 & 0.789294 & 0.26243 \\\\\n",
       "\t4 & 0.969024 & 0.308621 & 0.856247 & 0.37713 & 0.583253 \\\\\n",
       "\\end{tabular}\n"
      ],
      "text/plain": [
       "\u001b[1m4×5 DataFrame\u001b[0m\n",
       "\u001b[1m Row \u001b[0m│\u001b[1m x1       \u001b[0m\u001b[1m x2       \u001b[0m\u001b[1m x3       \u001b[0m\u001b[1m x4       \u001b[0m\u001b[1m x5       \u001b[0m\n",
       "     │\u001b[90m Float64  \u001b[0m\u001b[90m Float64  \u001b[0m\u001b[90m Float64  \u001b[0m\u001b[90m Float64  \u001b[0m\u001b[90m Float64  \u001b[0m\n",
       "─────┼──────────────────────────────────────────────────\n",
       "   1 │ 0.375774  0.111506  0.281562  0.334431  0.424942\n",
       "   2 │ 0.453273  0.176734  0.190792  0.226112  0.759624\n",
       "   3 │ 0.981711  0.4673    0.367482  0.789294  0.26243\n",
       "   4 │ 0.969024  0.308621  0.856247  0.37713   0.583253"
      ]
     },
     "execution_count": 32,
     "metadata": {},
     "output_type": "execute_result"
    }
   ],
   "source": [
    "x = DataFrame(rand(4, 5), :auto)"
   ]
  },
  {
   "cell_type": "code",
   "execution_count": 33,
   "metadata": {},
   "outputs": [
    {
     "data": {
      "text/html": [
       "<div><div style = \"float: left;\"><span>4×3 DataFrame</span></div><div style = \"clear: both;\"></div></div><div class = \"data-frame\" style = \"overflow-x: scroll;\"><table class = \"data-frame\" style = \"margin-bottom: 6px;\"><thead><tr class = \"header\"><th class = \"rowNumber\" style = \"font-weight: bold; text-align: right;\">Row</th><th style = \"text-align: left;\">x2</th><th style = \"text-align: left;\">x3</th><th style = \"text-align: left;\">x4</th></tr><tr class = \"subheader headerLastRow\"><th class = \"rowNumber\" style = \"font-weight: bold; text-align: right;\"></th><th title = \"Float64\" style = \"text-align: left;\">Float64</th><th title = \"Float64\" style = \"text-align: left;\">Float64</th><th title = \"Float64\" style = \"text-align: left;\">Float64</th></tr></thead><tbody><tr><td class = \"rowNumber\" style = \"font-weight: bold; text-align: right;\">1</td><td style = \"text-align: right;\">0.111506</td><td style = \"text-align: right;\">0.281562</td><td style = \"text-align: right;\">0.334431</td></tr><tr><td class = \"rowNumber\" style = \"font-weight: bold; text-align: right;\">2</td><td style = \"text-align: right;\">0.176734</td><td style = \"text-align: right;\">0.190792</td><td style = \"text-align: right;\">0.226112</td></tr><tr><td class = \"rowNumber\" style = \"font-weight: bold; text-align: right;\">3</td><td style = \"text-align: right;\">0.4673</td><td style = \"text-align: right;\">0.367482</td><td style = \"text-align: right;\">0.789294</td></tr><tr><td class = \"rowNumber\" style = \"font-weight: bold; text-align: right;\">4</td><td style = \"text-align: right;\">0.308621</td><td style = \"text-align: right;\">0.856247</td><td style = \"text-align: right;\">0.37713</td></tr></tbody></table></div>"
      ],
      "text/latex": [
       "\\begin{tabular}{r|ccc}\n",
       "\t& x2 & x3 & x4\\\\\n",
       "\t\\hline\n",
       "\t& Float64 & Float64 & Float64\\\\\n",
       "\t\\hline\n",
       "\t1 & 0.111506 & 0.281562 & 0.334431 \\\\\n",
       "\t2 & 0.176734 & 0.190792 & 0.226112 \\\\\n",
       "\t3 & 0.4673 & 0.367482 & 0.789294 \\\\\n",
       "\t4 & 0.308621 & 0.856247 & 0.37713 \\\\\n",
       "\\end{tabular}\n"
      ],
      "text/plain": [
       "\u001b[1m4×3 DataFrame\u001b[0m\n",
       "\u001b[1m Row \u001b[0m│\u001b[1m x2       \u001b[0m\u001b[1m x3       \u001b[0m\u001b[1m x4       \u001b[0m\n",
       "     │\u001b[90m Float64  \u001b[0m\u001b[90m Float64  \u001b[0m\u001b[90m Float64  \u001b[0m\n",
       "─────┼──────────────────────────────\n",
       "   1 │ 0.111506  0.281562  0.334431\n",
       "   2 │ 0.176734  0.190792  0.226112\n",
       "   3 │ 0.4673    0.367482  0.789294\n",
       "   4 │ 0.308621  0.856247  0.37713"
      ]
     },
     "execution_count": 33,
     "metadata": {},
     "output_type": "execute_result"
    }
   ],
   "source": [
    "x[:, Between(:x2, :x4)]"
   ]
  },
  {
   "cell_type": "code",
   "execution_count": 34,
   "metadata": {},
   "outputs": [
    {
     "data": {
      "text/html": [
       "<div><div style = \"float: left;\"><span>4×4 DataFrame</span></div><div style = \"clear: both;\"></div></div><div class = \"data-frame\" style = \"overflow-x: scroll;\"><table class = \"data-frame\" style = \"margin-bottom: 6px;\"><thead><tr class = \"header\"><th class = \"rowNumber\" style = \"font-weight: bold; text-align: right;\">Row</th><th style = \"text-align: left;\">x1</th><th style = \"text-align: left;\">x2</th><th style = \"text-align: left;\">x3</th><th style = \"text-align: left;\">x4</th></tr><tr class = \"subheader headerLastRow\"><th class = \"rowNumber\" style = \"font-weight: bold; text-align: right;\"></th><th title = \"Float64\" style = \"text-align: left;\">Float64</th><th title = \"Float64\" style = \"text-align: left;\">Float64</th><th title = \"Float64\" style = \"text-align: left;\">Float64</th><th title = \"Float64\" style = \"text-align: left;\">Float64</th></tr></thead><tbody><tr><td class = \"rowNumber\" style = \"font-weight: bold; text-align: right;\">1</td><td style = \"text-align: right;\">0.375774</td><td style = \"text-align: right;\">0.111506</td><td style = \"text-align: right;\">0.281562</td><td style = \"text-align: right;\">0.334431</td></tr><tr><td class = \"rowNumber\" style = \"font-weight: bold; text-align: right;\">2</td><td style = \"text-align: right;\">0.453273</td><td style = \"text-align: right;\">0.176734</td><td style = \"text-align: right;\">0.190792</td><td style = \"text-align: right;\">0.226112</td></tr><tr><td class = \"rowNumber\" style = \"font-weight: bold; text-align: right;\">3</td><td style = \"text-align: right;\">0.981711</td><td style = \"text-align: right;\">0.4673</td><td style = \"text-align: right;\">0.367482</td><td style = \"text-align: right;\">0.789294</td></tr><tr><td class = \"rowNumber\" style = \"font-weight: bold; text-align: right;\">4</td><td style = \"text-align: right;\">0.969024</td><td style = \"text-align: right;\">0.308621</td><td style = \"text-align: right;\">0.856247</td><td style = \"text-align: right;\">0.37713</td></tr></tbody></table></div>"
      ],
      "text/latex": [
       "\\begin{tabular}{r|cccc}\n",
       "\t& x1 & x2 & x3 & x4\\\\\n",
       "\t\\hline\n",
       "\t& Float64 & Float64 & Float64 & Float64\\\\\n",
       "\t\\hline\n",
       "\t1 & 0.375774 & 0.111506 & 0.281562 & 0.334431 \\\\\n",
       "\t2 & 0.453273 & 0.176734 & 0.190792 & 0.226112 \\\\\n",
       "\t3 & 0.981711 & 0.4673 & 0.367482 & 0.789294 \\\\\n",
       "\t4 & 0.969024 & 0.308621 & 0.856247 & 0.37713 \\\\\n",
       "\\end{tabular}\n"
      ],
      "text/plain": [
       "\u001b[1m4×4 DataFrame\u001b[0m\n",
       "\u001b[1m Row \u001b[0m│\u001b[1m x1       \u001b[0m\u001b[1m x2       \u001b[0m\u001b[1m x3       \u001b[0m\u001b[1m x4       \u001b[0m\n",
       "     │\u001b[90m Float64  \u001b[0m\u001b[90m Float64  \u001b[0m\u001b[90m Float64  \u001b[0m\u001b[90m Float64  \u001b[0m\n",
       "─────┼────────────────────────────────────────\n",
       "   1 │ 0.375774  0.111506  0.281562  0.334431\n",
       "   2 │ 0.453273  0.176734  0.190792  0.226112\n",
       "   3 │ 0.981711  0.4673    0.367482  0.789294\n",
       "   4 │ 0.969024  0.308621  0.856247  0.37713"
      ]
     },
     "execution_count": 34,
     "metadata": {},
     "output_type": "execute_result"
    }
   ],
   "source": [
    "x[:, Cols(\"x1\", Between(\"x2\", \"x4\"))]"
   ]
  },
  {
   "cell_type": "markdown",
   "metadata": {},
   "source": [
    "### Views"
   ]
  },
  {
   "cell_type": "markdown",
   "metadata": {},
   "source": [
    "You can simply create a view of a `DataFrame` (it is more efficient than creating a materialized selection). Here are the possible return value options."
   ]
  },
  {
   "cell_type": "code",
   "execution_count": 35,
   "metadata": {},
   "outputs": [
    {
     "data": {
      "text/plain": [
       "2-element view(::Vector{Float64}, 1:2) with eltype Float64:\n",
       " 0.375773722376171\n",
       " 0.45327278849919483"
      ]
     },
     "execution_count": 35,
     "metadata": {},
     "output_type": "execute_result"
    }
   ],
   "source": [
    "@view x[1:2, 1]"
   ]
  },
  {
   "cell_type": "code",
   "execution_count": 36,
   "metadata": {},
   "outputs": [
    {
     "data": {
      "text/plain": [
       "0-dimensional view(::Vector{Float64}, 1) with eltype Float64:\n",
       "0.375773722376171"
      ]
     },
     "execution_count": 36,
     "metadata": {},
     "output_type": "execute_result"
    }
   ],
   "source": [
    "@view x[1,1]"
   ]
  },
  {
   "cell_type": "code",
   "execution_count": 37,
   "metadata": {},
   "outputs": [
    {
     "data": {
      "text/html": [
       "<div><div style = \"float: left;\"><span>DataFrameRow (2 columns)</span></div><div style = \"clear: both;\"></div></div><div class = \"data-frame\" style = \"overflow-x: scroll;\"><table class = \"data-frame\" style = \"margin-bottom: 6px;\"><thead><tr class = \"header\"><th class = \"rowLabel\" style = \"font-weight: bold; text-align: right;\">Row</th><th style = \"text-align: left;\">x1</th><th style = \"text-align: left;\">x2</th></tr><tr class = \"subheader headerLastRow\"><th class = \"rowLabel\" style = \"font-weight: bold; text-align: right;\"></th><th title = \"Float64\" style = \"text-align: left;\">Float64</th><th title = \"Float64\" style = \"text-align: left;\">Float64</th></tr></thead><tbody><tr><td class = \"rowLabel\" style = \"font-weight: bold; text-align: right;\">1</td><td style = \"text-align: right;\">0.375774</td><td style = \"text-align: right;\">0.111506</td></tr></tbody></table></div>"
      ],
      "text/latex": [
       "\\begin{tabular}{r|cc}\n",
       "\t& x1 & x2\\\\\n",
       "\t\\hline\n",
       "\t& Float64 & Float64\\\\\n",
       "\t\\hline\n",
       "\t1 & 0.375774 & 0.111506 \\\\\n",
       "\\end{tabular}\n"
      ],
      "text/plain": [
       "\u001b[1mDataFrameRow\u001b[0m\n",
       "\u001b[1m Row \u001b[0m│\u001b[1m x1       \u001b[0m\u001b[1m x2       \u001b[0m\n",
       "     │\u001b[90m Float64  \u001b[0m\u001b[90m Float64  \u001b[0m\n",
       "─────┼────────────────────\n",
       "   1 │ 0.375774  0.111506"
      ]
     },
     "execution_count": 37,
     "metadata": {},
     "output_type": "execute_result"
    }
   ],
   "source": [
    "@view x[1, 1:2] # a DataFrameRow, the same as for x[1, 1:2] without a view"
   ]
  },
  {
   "cell_type": "code",
   "execution_count": 38,
   "metadata": {},
   "outputs": [
    {
     "data": {
      "text/html": [
       "<div><div style = \"float: left;\"><span>2×2 SubDataFrame</span></div><div style = \"clear: both;\"></div></div><div class = \"data-frame\" style = \"overflow-x: scroll;\"><table class = \"data-frame\" style = \"margin-bottom: 6px;\"><thead><tr class = \"header\"><th class = \"rowNumber\" style = \"font-weight: bold; text-align: right;\">Row</th><th style = \"text-align: left;\">x1</th><th style = \"text-align: left;\">x2</th></tr><tr class = \"subheader headerLastRow\"><th class = \"rowNumber\" style = \"font-weight: bold; text-align: right;\"></th><th title = \"Float64\" style = \"text-align: left;\">Float64</th><th title = \"Float64\" style = \"text-align: left;\">Float64</th></tr></thead><tbody><tr><td class = \"rowNumber\" style = \"font-weight: bold; text-align: right;\">1</td><td style = \"text-align: right;\">0.375774</td><td style = \"text-align: right;\">0.111506</td></tr><tr><td class = \"rowNumber\" style = \"font-weight: bold; text-align: right;\">2</td><td style = \"text-align: right;\">0.453273</td><td style = \"text-align: right;\">0.176734</td></tr></tbody></table></div>"
      ],
      "text/latex": [
       "\\begin{tabular}{r|cc}\n",
       "\t& x1 & x2\\\\\n",
       "\t\\hline\n",
       "\t& Float64 & Float64\\\\\n",
       "\t\\hline\n",
       "\t1 & 0.375774 & 0.111506 \\\\\n",
       "\t2 & 0.453273 & 0.176734 \\\\\n",
       "\\end{tabular}\n"
      ],
      "text/plain": [
       "\u001b[1m2×2 SubDataFrame\u001b[0m\n",
       "\u001b[1m Row \u001b[0m│\u001b[1m x1       \u001b[0m\u001b[1m x2       \u001b[0m\n",
       "     │\u001b[90m Float64  \u001b[0m\u001b[90m Float64  \u001b[0m\n",
       "─────┼────────────────────\n",
       "   1 │ 0.375774  0.111506\n",
       "   2 │ 0.453273  0.176734"
      ]
     },
     "execution_count": 38,
     "metadata": {},
     "output_type": "execute_result"
    }
   ],
   "source": [
    "@view x[1:2, 1:2] # a SubDataFrame"
   ]
  },
  {
   "cell_type": "markdown",
   "metadata": {},
   "source": [
    "### Adding new columns to a data frame"
   ]
  },
  {
   "cell_type": "code",
   "execution_count": 39,
   "metadata": {},
   "outputs": [
    {
     "data": {
      "text/html": [
       "<div><div style = \"float: left;\"><span>0×0 DataFrame</span></div><div style = \"clear: both;\"></div></div><div class = \"data-frame\" style = \"overflow-x: scroll;\"><table class = \"data-frame\" style = \"margin-bottom: 6px;\"></table></div>"
      ],
      "text/latex": [
       "\\begin{tabular}{r|}\n",
       "\t& \\\\\n",
       "\t\\hline\n",
       "\t& \\\\\n",
       "\t\\hline\n",
       "\\end{tabular}\n"
      ],
      "text/plain": [
       "\u001b[1m0×0 DataFrame\u001b[0m"
      ]
     },
     "execution_count": 39,
     "metadata": {},
     "output_type": "execute_result"
    }
   ],
   "source": [
    "df = DataFrame()"
   ]
  },
  {
   "cell_type": "markdown",
   "metadata": {},
   "source": [
    "using `setproperty!`"
   ]
  },
  {
   "cell_type": "code",
   "execution_count": 40,
   "metadata": {},
   "outputs": [
    {
     "data": {
      "text/html": [
       "<div><div style = \"float: left;\"><span>3×1 DataFrame</span></div><div style = \"clear: both;\"></div></div><div class = \"data-frame\" style = \"overflow-x: scroll;\"><table class = \"data-frame\" style = \"margin-bottom: 6px;\"><thead><tr class = \"header\"><th class = \"rowNumber\" style = \"font-weight: bold; text-align: right;\">Row</th><th style = \"text-align: left;\">a</th></tr><tr class = \"subheader headerLastRow\"><th class = \"rowNumber\" style = \"font-weight: bold; text-align: right;\"></th><th title = \"Int64\" style = \"text-align: left;\">Int64</th></tr></thead><tbody><tr><td class = \"rowNumber\" style = \"font-weight: bold; text-align: right;\">1</td><td style = \"text-align: right;\">1</td></tr><tr><td class = \"rowNumber\" style = \"font-weight: bold; text-align: right;\">2</td><td style = \"text-align: right;\">2</td></tr><tr><td class = \"rowNumber\" style = \"font-weight: bold; text-align: right;\">3</td><td style = \"text-align: right;\">3</td></tr></tbody></table></div>"
      ],
      "text/latex": [
       "\\begin{tabular}{r|c}\n",
       "\t& a\\\\\n",
       "\t\\hline\n",
       "\t& Int64\\\\\n",
       "\t\\hline\n",
       "\t1 & 1 \\\\\n",
       "\t2 & 2 \\\\\n",
       "\t3 & 3 \\\\\n",
       "\\end{tabular}\n"
      ],
      "text/plain": [
       "\u001b[1m3×1 DataFrame\u001b[0m\n",
       "\u001b[1m Row \u001b[0m│\u001b[1m a     \u001b[0m\n",
       "     │\u001b[90m Int64 \u001b[0m\n",
       "─────┼───────\n",
       "   1 │     1\n",
       "   2 │     2\n",
       "   3 │     3"
      ]
     },
     "execution_count": 40,
     "metadata": {},
     "output_type": "execute_result"
    }
   ],
   "source": [
    "x = [1, 2, 3]\n",
    "df.a = x\n",
    "df"
   ]
  },
  {
   "cell_type": "code",
   "execution_count": 41,
   "metadata": {},
   "outputs": [
    {
     "data": {
      "text/plain": [
       "true"
      ]
     },
     "execution_count": 41,
     "metadata": {},
     "output_type": "execute_result"
    }
   ],
   "source": [
    "df.a === x # no copy is performed"
   ]
  },
  {
   "cell_type": "markdown",
   "metadata": {},
   "source": [
    "using `setindex!`"
   ]
  },
  {
   "cell_type": "code",
   "execution_count": 42,
   "metadata": {},
   "outputs": [
    {
     "data": {
      "text/html": [
       "<div><div style = \"float: left;\"><span>3×3 DataFrame</span></div><div style = \"clear: both;\"></div></div><div class = \"data-frame\" style = \"overflow-x: scroll;\"><table class = \"data-frame\" style = \"margin-bottom: 6px;\"><thead><tr class = \"header\"><th class = \"rowNumber\" style = \"font-weight: bold; text-align: right;\">Row</th><th style = \"text-align: left;\">a</th><th style = \"text-align: left;\">b</th><th style = \"text-align: left;\">c</th></tr><tr class = \"subheader headerLastRow\"><th class = \"rowNumber\" style = \"font-weight: bold; text-align: right;\"></th><th title = \"Int64\" style = \"text-align: left;\">Int64</th><th title = \"Int64\" style = \"text-align: left;\">Int64</th><th title = \"Int64\" style = \"text-align: left;\">Int64</th></tr></thead><tbody><tr><td class = \"rowNumber\" style = \"font-weight: bold; text-align: right;\">1</td><td style = \"text-align: right;\">1</td><td style = \"text-align: right;\">1</td><td style = \"text-align: right;\">1</td></tr><tr><td class = \"rowNumber\" style = \"font-weight: bold; text-align: right;\">2</td><td style = \"text-align: right;\">2</td><td style = \"text-align: right;\">2</td><td style = \"text-align: right;\">2</td></tr><tr><td class = \"rowNumber\" style = \"font-weight: bold; text-align: right;\">3</td><td style = \"text-align: right;\">3</td><td style = \"text-align: right;\">3</td><td style = \"text-align: right;\">3</td></tr></tbody></table></div>"
      ],
      "text/latex": [
       "\\begin{tabular}{r|ccc}\n",
       "\t& a & b & c\\\\\n",
       "\t\\hline\n",
       "\t& Int64 & Int64 & Int64\\\\\n",
       "\t\\hline\n",
       "\t1 & 1 & 1 & 1 \\\\\n",
       "\t2 & 2 & 2 & 2 \\\\\n",
       "\t3 & 3 & 3 & 3 \\\\\n",
       "\\end{tabular}\n"
      ],
      "text/plain": [
       "\u001b[1m3×3 DataFrame\u001b[0m\n",
       "\u001b[1m Row \u001b[0m│\u001b[1m a     \u001b[0m\u001b[1m b     \u001b[0m\u001b[1m c     \u001b[0m\n",
       "     │\u001b[90m Int64 \u001b[0m\u001b[90m Int64 \u001b[0m\u001b[90m Int64 \u001b[0m\n",
       "─────┼─────────────────────\n",
       "   1 │     1      1      1\n",
       "   2 │     2      2      2\n",
       "   3 │     3      3      3"
      ]
     },
     "execution_count": 42,
     "metadata": {},
     "output_type": "execute_result"
    }
   ],
   "source": [
    "df[!, :b] = x\n",
    "df[:, :c] = x\n",
    "df"
   ]
  },
  {
   "cell_type": "code",
   "execution_count": 43,
   "metadata": {},
   "outputs": [
    {
     "data": {
      "text/plain": [
       "true"
      ]
     },
     "execution_count": 43,
     "metadata": {},
     "output_type": "execute_result"
    }
   ],
   "source": [
    "df.b === x # no copy"
   ]
  },
  {
   "cell_type": "code",
   "execution_count": 44,
   "metadata": {},
   "outputs": [
    {
     "data": {
      "text/plain": [
       "false"
      ]
     },
     "execution_count": 44,
     "metadata": {},
     "output_type": "execute_result"
    }
   ],
   "source": [
    "df.c === x # copy"
   ]
  },
  {
   "cell_type": "code",
   "execution_count": 45,
   "metadata": {},
   "outputs": [
    {
     "data": {
      "text/html": [
       "<div><div style = \"float: left;\"><span>3×5 DataFrame</span></div><div style = \"clear: both;\"></div></div><div class = \"data-frame\" style = \"overflow-x: scroll;\"><table class = \"data-frame\" style = \"margin-bottom: 6px;\"><thead><tr class = \"header\"><th class = \"rowNumber\" style = \"font-weight: bold; text-align: right;\">Row</th><th style = \"text-align: left;\">a</th><th style = \"text-align: left;\">b</th><th style = \"text-align: left;\">c</th><th style = \"text-align: left;\">d</th><th style = \"text-align: left;\">e</th></tr><tr class = \"subheader headerLastRow\"><th class = \"rowNumber\" style = \"font-weight: bold; text-align: right;\"></th><th title = \"Int64\" style = \"text-align: left;\">Int64</th><th title = \"Int64\" style = \"text-align: left;\">Int64</th><th title = \"Int64\" style = \"text-align: left;\">Int64</th><th title = \"Int64\" style = \"text-align: left;\">Int64</th><th title = \"Int64\" style = \"text-align: left;\">Int64</th></tr></thead><tbody><tr><td class = \"rowNumber\" style = \"font-weight: bold; text-align: right;\">1</td><td style = \"text-align: right;\">1</td><td style = \"text-align: right;\">1</td><td style = \"text-align: right;\">1</td><td style = \"text-align: right;\">1</td><td style = \"text-align: right;\">1</td></tr><tr><td class = \"rowNumber\" style = \"font-weight: bold; text-align: right;\">2</td><td style = \"text-align: right;\">2</td><td style = \"text-align: right;\">2</td><td style = \"text-align: right;\">2</td><td style = \"text-align: right;\">2</td><td style = \"text-align: right;\">2</td></tr><tr><td class = \"rowNumber\" style = \"font-weight: bold; text-align: right;\">3</td><td style = \"text-align: right;\">3</td><td style = \"text-align: right;\">3</td><td style = \"text-align: right;\">3</td><td style = \"text-align: right;\">3</td><td style = \"text-align: right;\">3</td></tr></tbody></table></div>"
      ],
      "text/latex": [
       "\\begin{tabular}{r|ccccc}\n",
       "\t& a & b & c & d & e\\\\\n",
       "\t\\hline\n",
       "\t& Int64 & Int64 & Int64 & Int64 & Int64\\\\\n",
       "\t\\hline\n",
       "\t1 & 1 & 1 & 1 & 1 & 1 \\\\\n",
       "\t2 & 2 & 2 & 2 & 2 & 2 \\\\\n",
       "\t3 & 3 & 3 & 3 & 3 & 3 \\\\\n",
       "\\end{tabular}\n"
      ],
      "text/plain": [
       "\u001b[1m3×5 DataFrame\u001b[0m\n",
       "\u001b[1m Row \u001b[0m│\u001b[1m a     \u001b[0m\u001b[1m b     \u001b[0m\u001b[1m c     \u001b[0m\u001b[1m d     \u001b[0m\u001b[1m e     \u001b[0m\n",
       "     │\u001b[90m Int64 \u001b[0m\u001b[90m Int64 \u001b[0m\u001b[90m Int64 \u001b[0m\u001b[90m Int64 \u001b[0m\u001b[90m Int64 \u001b[0m\n",
       "─────┼───────────────────────────────────\n",
       "   1 │     1      1      1      1      1\n",
       "   2 │     2      2      2      2      2\n",
       "   3 │     3      3      3      3      3"
      ]
     },
     "execution_count": 45,
     "metadata": {},
     "output_type": "execute_result"
    }
   ],
   "source": [
    "df[!, :d] .= x\n",
    "df[:, :e] .= x\n",
    "df"
   ]
  },
  {
   "cell_type": "code",
   "execution_count": 46,
   "metadata": {},
   "outputs": [
    {
     "data": {
      "text/plain": [
       "(false, false)"
      ]
     },
     "execution_count": 46,
     "metadata": {},
     "output_type": "execute_result"
    }
   ],
   "source": [
    "df.d === x, df.e === x # both copy, so in this case `!` and `:` has the same effect"
   ]
  },
  {
   "cell_type": "markdown",
   "metadata": {},
   "source": [
    "note that in our data frame columns `:a` and `:b` store the vector `x` (not a copy)"
   ]
  },
  {
   "cell_type": "code",
   "execution_count": 47,
   "metadata": {},
   "outputs": [
    {
     "data": {
      "text/plain": [
       "true"
      ]
     },
     "execution_count": 47,
     "metadata": {},
     "output_type": "execute_result"
    }
   ],
   "source": [
    "df.a === df.b === x"
   ]
  },
  {
   "cell_type": "markdown",
   "metadata": {},
   "source": [
    "This can lead to silent errors. For example this code leads to a bug (note that calling `pairs` on `eachcol(df)` creates an iterator of (column name, column) pairs):"
   ]
  },
  {
   "cell_type": "code",
   "execution_count": 48,
   "metadata": {},
   "outputs": [
    {
     "name": "stdout",
     "output_type": "stream",
     "text": [
      "a: 3\n",
      "b: 2\n",
      "c: 3\n",
      "d: 3\n",
      "e: 3\n"
     ]
    }
   ],
   "source": [
    "for (n, c) in pairs(eachcol(df))\n",
    "    println(\"$n: \", pop!(c))\n",
    "end"
   ]
  },
  {
   "cell_type": "markdown",
   "metadata": {},
   "source": [
    "note that for column `:b` we printed `2` as `3` was removed from it when we used `pop!` on column `:a`."
   ]
  },
  {
   "cell_type": "markdown",
   "metadata": {},
   "source": [
    "Such mistakes sometimes happen. Because of this DataFrames.jl performs consistency checks before doing an expensive operation (most notably before showing a data frame)."
   ]
  },
  {
   "cell_type": "code",
   "execution_count": 49,
   "metadata": {},
   "outputs": [
    {
     "ename": "AssertionError",
     "evalue": "AssertionError: Data frame is corrupt: length of column :c (2) does not match length of column 1 (1). The column vector has likely been resized unintentionally (either directly or because it is shared with another data frame).",
     "output_type": "error",
     "traceback": [
      "AssertionError: Data frame is corrupt: length of column :c (2) does not match length of column 1 (1). The column vector has likely been resized unintentionally (either directly or because it is shared with another data frame).",
      "",
      "Stacktrace:",
      "  [1] _check_consistency(df::DataFrame)",
      "    @ DataFrames C:\\Users\\bogum\\.julia\\packages\\DataFrames\\XM9o2\\src\\dataframe\\dataframe.jl:486",
      "  [2] _show(io::IOContext{IOBuffer}, df::DataFrame; allrows::Bool, allcols::Bool, rowlabel::Symbol, summary::Bool, eltypes::Bool, rowid::Nothing, truncate::Int64, kwargs::Base.Pairs{Symbol, Union{}, Tuple{}, NamedTuple{(), Tuple{}}})",
      "    @ DataFrames C:\\Users\\bogum\\.julia\\packages\\DataFrames\\XM9o2\\src\\abstractdataframe\\show.jl:158",
      "  [3] #show#807",
      "    @ C:\\Users\\bogum\\.julia\\packages\\DataFrames\\XM9o2\\src\\abstractdataframe\\show.jl:349 [inlined]",
      "  [4] show(io::IOContext{IOBuffer}, df::DataFrame)",
      "    @ DataFrames C:\\Users\\bogum\\.julia\\packages\\DataFrames\\XM9o2\\src\\abstractdataframe\\show.jl:336",
      "  [5] #show#823",
      "    @ C:\\Users\\bogum\\.julia\\packages\\DataFrames\\XM9o2\\src\\abstractdataframe\\io.jl:150 [inlined]",
      "  [6] show",
      "    @ C:\\Users\\bogum\\.julia\\packages\\DataFrames\\XM9o2\\src\\abstractdataframe\\io.jl:150 [inlined]",
      "  [7] limitstringmime(mime::MIME{Symbol(\"text/plain\")}, x::DataFrame)",
      "    @ IJulia C:\\Users\\bogum\\.julia\\packages\\IJulia\\AQu2H\\src\\inline.jl:43",
      "  [8] display_mimestring",
      "    @ C:\\Users\\bogum\\.julia\\packages\\IJulia\\AQu2H\\src\\display.jl:71 [inlined]",
      "  [9] display_dict(x::DataFrame)",
      "    @ IJulia C:\\Users\\bogum\\.julia\\packages\\IJulia\\AQu2H\\src\\display.jl:102",
      " [10] #invokelatest#2",
      "    @ .\\essentials.jl:729 [inlined]",
      " [11] invokelatest",
      "    @ .\\essentials.jl:726 [inlined]",
      " [12] execute_request(socket::ZMQ.Socket, msg::IJulia.Msg)",
      "    @ IJulia C:\\Users\\bogum\\.julia\\packages\\IJulia\\AQu2H\\src\\execute_request.jl:112",
      " [13] #invokelatest#2",
      "    @ .\\essentials.jl:729 [inlined]",
      " [14] invokelatest",
      "    @ .\\essentials.jl:726 [inlined]",
      " [15] eventloop(socket::ZMQ.Socket)",
      "    @ IJulia C:\\Users\\bogum\\.julia\\packages\\IJulia\\AQu2H\\src\\eventloop.jl:8",
      " [16] (::IJulia.var\"#15#18\")()",
      "    @ IJulia .\\task.jl:484"
     ]
    }
   ],
   "source": [
    "df"
   ]
  },
  {
   "cell_type": "markdown",
   "metadata": {},
   "source": [
    "We can investigate the columns to find out what happend:"
   ]
  },
  {
   "cell_type": "code",
   "execution_count": 50,
   "metadata": {},
   "outputs": [
    {
     "data": {
      "text/plain": [
       "5-element Vector{Pair{Symbol, AbstractVector}}:\n",
       " :a => [1]\n",
       " :b => [1]\n",
       " :c => [1, 2]\n",
       " :d => [1, 2]\n",
       " :e => [1, 2]"
      ]
     },
     "execution_count": 50,
     "metadata": {},
     "output_type": "execute_result"
    }
   ],
   "source": [
    "collect(pairs(eachcol(df)))"
   ]
  },
  {
   "cell_type": "markdown",
   "metadata": {},
   "source": [
    "The output confirms that the data frame `df` got corrupted."
   ]
  },
  {
   "cell_type": "markdown",
   "metadata": {},
   "source": [
    "DataFrames.jl supports a complete set of `getindex`, `getproperty`, `setindex!`, `setproperty!`, `view`, broadcasting, and broadcasting assignment operations. The details are explained here: http://juliadata.github.io/DataFrames.jl/latest/lib/indexing/."
   ]
  },
  {
   "cell_type": "markdown",
   "metadata": {},
   "source": [
    "### Comparisons"
   ]
  },
  {
   "cell_type": "code",
   "execution_count": 51,
   "metadata": {},
   "outputs": [],
   "source": [
    "using DataFrames"
   ]
  },
  {
   "cell_type": "code",
   "execution_count": 52,
   "metadata": {},
   "outputs": [
    {
     "data": {
      "text/html": [
       "<div><div style = \"float: left;\"><span>2×3 DataFrame</span></div><div style = \"clear: both;\"></div></div><div class = \"data-frame\" style = \"overflow-x: scroll;\"><table class = \"data-frame\" style = \"margin-bottom: 6px;\"><thead><tr class = \"header\"><th class = \"rowNumber\" style = \"font-weight: bold; text-align: right;\">Row</th><th style = \"text-align: left;\">x1</th><th style = \"text-align: left;\">x2</th><th style = \"text-align: left;\">x3</th></tr><tr class = \"subheader headerLastRow\"><th class = \"rowNumber\" style = \"font-weight: bold; text-align: right;\"></th><th title = \"Float64\" style = \"text-align: left;\">Float64</th><th title = \"Float64\" style = \"text-align: left;\">Float64</th><th title = \"Float64\" style = \"text-align: left;\">Float64</th></tr></thead><tbody><tr><td class = \"rowNumber\" style = \"font-weight: bold; text-align: right;\">1</td><td style = \"text-align: right;\">0.258341</td><td style = \"text-align: right;\">0.155451</td><td style = \"text-align: right;\">0.227954</td></tr><tr><td class = \"rowNumber\" style = \"font-weight: bold; text-align: right;\">2</td><td style = \"text-align: right;\">0.249555</td><td style = \"text-align: right;\">0.133719</td><td style = \"text-align: right;\">0.331943</td></tr></tbody></table></div>"
      ],
      "text/latex": [
       "\\begin{tabular}{r|ccc}\n",
       "\t& x1 & x2 & x3\\\\\n",
       "\t\\hline\n",
       "\t& Float64 & Float64 & Float64\\\\\n",
       "\t\\hline\n",
       "\t1 & 0.258341 & 0.155451 & 0.227954 \\\\\n",
       "\t2 & 0.249555 & 0.133719 & 0.331943 \\\\\n",
       "\\end{tabular}\n"
      ],
      "text/plain": [
       "\u001b[1m2×3 DataFrame\u001b[0m\n",
       "\u001b[1m Row \u001b[0m│\u001b[1m x1       \u001b[0m\u001b[1m x2       \u001b[0m\u001b[1m x3       \u001b[0m\n",
       "     │\u001b[90m Float64  \u001b[0m\u001b[90m Float64  \u001b[0m\u001b[90m Float64  \u001b[0m\n",
       "─────┼──────────────────────────────\n",
       "   1 │ 0.258341  0.155451  0.227954\n",
       "   2 │ 0.249555  0.133719  0.331943"
      ]
     },
     "execution_count": 52,
     "metadata": {},
     "output_type": "execute_result"
    }
   ],
   "source": [
    "df = DataFrame(rand(2,3), :auto)"
   ]
  },
  {
   "cell_type": "code",
   "execution_count": 53,
   "metadata": {},
   "outputs": [
    {
     "data": {
      "text/html": [
       "<div><div style = \"float: left;\"><span>2×3 DataFrame</span></div><div style = \"clear: both;\"></div></div><div class = \"data-frame\" style = \"overflow-x: scroll;\"><table class = \"data-frame\" style = \"margin-bottom: 6px;\"><thead><tr class = \"header\"><th class = \"rowNumber\" style = \"font-weight: bold; text-align: right;\">Row</th><th style = \"text-align: left;\">x1</th><th style = \"text-align: left;\">x2</th><th style = \"text-align: left;\">x3</th></tr><tr class = \"subheader headerLastRow\"><th class = \"rowNumber\" style = \"font-weight: bold; text-align: right;\"></th><th title = \"Float64\" style = \"text-align: left;\">Float64</th><th title = \"Float64\" style = \"text-align: left;\">Float64</th><th title = \"Float64\" style = \"text-align: left;\">Float64</th></tr></thead><tbody><tr><td class = \"rowNumber\" style = \"font-weight: bold; text-align: right;\">1</td><td style = \"text-align: right;\">0.258341</td><td style = \"text-align: right;\">0.155451</td><td style = \"text-align: right;\">0.227954</td></tr><tr><td class = \"rowNumber\" style = \"font-weight: bold; text-align: right;\">2</td><td style = \"text-align: right;\">0.249555</td><td style = \"text-align: right;\">0.133719</td><td style = \"text-align: right;\">0.331943</td></tr></tbody></table></div>"
      ],
      "text/latex": [
       "\\begin{tabular}{r|ccc}\n",
       "\t& x1 & x2 & x3\\\\\n",
       "\t\\hline\n",
       "\t& Float64 & Float64 & Float64\\\\\n",
       "\t\\hline\n",
       "\t1 & 0.258341 & 0.155451 & 0.227954 \\\\\n",
       "\t2 & 0.249555 & 0.133719 & 0.331943 \\\\\n",
       "\\end{tabular}\n"
      ],
      "text/plain": [
       "\u001b[1m2×3 DataFrame\u001b[0m\n",
       "\u001b[1m Row \u001b[0m│\u001b[1m x1       \u001b[0m\u001b[1m x2       \u001b[0m\u001b[1m x3       \u001b[0m\n",
       "     │\u001b[90m Float64  \u001b[0m\u001b[90m Float64  \u001b[0m\u001b[90m Float64  \u001b[0m\n",
       "─────┼──────────────────────────────\n",
       "   1 │ 0.258341  0.155451  0.227954\n",
       "   2 │ 0.249555  0.133719  0.331943"
      ]
     },
     "execution_count": 53,
     "metadata": {},
     "output_type": "execute_result"
    }
   ],
   "source": [
    "df2 = copy(df)"
   ]
  },
  {
   "cell_type": "code",
   "execution_count": 54,
   "metadata": {},
   "outputs": [
    {
     "data": {
      "text/plain": [
       "true"
      ]
     },
     "execution_count": 54,
     "metadata": {},
     "output_type": "execute_result"
    }
   ],
   "source": [
    "df == df2 # compares column names and contents"
   ]
  },
  {
   "cell_type": "markdown",
   "metadata": {},
   "source": [
    "create a minimally different data frame and use `isapprox` for comparison"
   ]
  },
  {
   "cell_type": "code",
   "execution_count": 55,
   "metadata": {},
   "outputs": [
    {
     "data": {
      "text/html": [
       "<div><div style = \"float: left;\"><span>2×3 DataFrame</span></div><div style = \"clear: both;\"></div></div><div class = \"data-frame\" style = \"overflow-x: scroll;\"><table class = \"data-frame\" style = \"margin-bottom: 6px;\"><thead><tr class = \"header\"><th class = \"rowNumber\" style = \"font-weight: bold; text-align: right;\">Row</th><th style = \"text-align: left;\">x1</th><th style = \"text-align: left;\">x2</th><th style = \"text-align: left;\">x3</th></tr><tr class = \"subheader headerLastRow\"><th class = \"rowNumber\" style = \"font-weight: bold; text-align: right;\"></th><th title = \"Float64\" style = \"text-align: left;\">Float64</th><th title = \"Float64\" style = \"text-align: left;\">Float64</th><th title = \"Float64\" style = \"text-align: left;\">Float64</th></tr></thead><tbody><tr><td class = \"rowNumber\" style = \"font-weight: bold; text-align: right;\">1</td><td style = \"text-align: right;\">0.258341</td><td style = \"text-align: right;\">0.155451</td><td style = \"text-align: right;\">0.227954</td></tr><tr><td class = \"rowNumber\" style = \"font-weight: bold; text-align: right;\">2</td><td style = \"text-align: right;\">0.249555</td><td style = \"text-align: right;\">0.133719</td><td style = \"text-align: right;\">0.331943</td></tr></tbody></table></div>"
      ],
      "text/latex": [
       "\\begin{tabular}{r|ccc}\n",
       "\t& x1 & x2 & x3\\\\\n",
       "\t\\hline\n",
       "\t& Float64 & Float64 & Float64\\\\\n",
       "\t\\hline\n",
       "\t1 & 0.258341 & 0.155451 & 0.227954 \\\\\n",
       "\t2 & 0.249555 & 0.133719 & 0.331943 \\\\\n",
       "\\end{tabular}\n"
      ],
      "text/plain": [
       "\u001b[1m2×3 DataFrame\u001b[0m\n",
       "\u001b[1m Row \u001b[0m│\u001b[1m x1       \u001b[0m\u001b[1m x2       \u001b[0m\u001b[1m x3       \u001b[0m\n",
       "     │\u001b[90m Float64  \u001b[0m\u001b[90m Float64  \u001b[0m\u001b[90m Float64  \u001b[0m\n",
       "─────┼──────────────────────────────\n",
       "   1 │ 0.258341  0.155451  0.227954\n",
       "   2 │ 0.249555  0.133719  0.331943"
      ]
     },
     "execution_count": 55,
     "metadata": {},
     "output_type": "execute_result"
    }
   ],
   "source": [
    "df3 = df2 .+ eps()"
   ]
  },
  {
   "cell_type": "code",
   "execution_count": 56,
   "metadata": {},
   "outputs": [
    {
     "data": {
      "text/plain": [
       "false"
      ]
     },
     "execution_count": 56,
     "metadata": {},
     "output_type": "execute_result"
    }
   ],
   "source": [
    "df == df3"
   ]
  },
  {
   "cell_type": "code",
   "execution_count": 57,
   "metadata": {},
   "outputs": [
    {
     "data": {
      "text/plain": [
       "true"
      ]
     },
     "execution_count": 57,
     "metadata": {},
     "output_type": "execute_result"
    }
   ],
   "source": [
    "isapprox(df, df3)"
   ]
  },
  {
   "cell_type": "code",
   "execution_count": 58,
   "metadata": {},
   "outputs": [
    {
     "data": {
      "text/plain": [
       "false"
      ]
     },
     "execution_count": 58,
     "metadata": {},
     "output_type": "execute_result"
    }
   ],
   "source": [
    "isapprox(df, df3, atol = eps()/2)"
   ]
  },
  {
   "cell_type": "markdown",
   "metadata": {},
   "source": [
    "`missings` are handled as in Julia Base"
   ]
  },
  {
   "cell_type": "code",
   "execution_count": 59,
   "metadata": {},
   "outputs": [
    {
     "data": {
      "text/html": [
       "<div><div style = \"float: left;\"><span>1×1 DataFrame</span></div><div style = \"clear: both;\"></div></div><div class = \"data-frame\" style = \"overflow-x: scroll;\"><table class = \"data-frame\" style = \"margin-bottom: 6px;\"><thead><tr class = \"header\"><th class = \"rowNumber\" style = \"font-weight: bold; text-align: right;\">Row</th><th style = \"text-align: left;\">a</th></tr><tr class = \"subheader headerLastRow\"><th class = \"rowNumber\" style = \"font-weight: bold; text-align: right;\"></th><th title = \"Missing\" style = \"text-align: left;\">Missing</th></tr></thead><tbody><tr><td class = \"rowNumber\" style = \"font-weight: bold; text-align: right;\">1</td><td style = \"font-style: italic; text-align: right;\">missing</td></tr></tbody></table></div>"
      ],
      "text/latex": [
       "\\begin{tabular}{r|c}\n",
       "\t& a\\\\\n",
       "\t\\hline\n",
       "\t& Missing\\\\\n",
       "\t\\hline\n",
       "\t1 & \\emph{missing} \\\\\n",
       "\\end{tabular}\n"
      ],
      "text/plain": [
       "\u001b[1m1×1 DataFrame\u001b[0m\n",
       "\u001b[1m Row \u001b[0m│\u001b[1m a       \u001b[0m\n",
       "     │\u001b[90m Missing \u001b[0m\n",
       "─────┼─────────\n",
       "   1 │\u001b[90m missing \u001b[0m"
      ]
     },
     "execution_count": 59,
     "metadata": {},
     "output_type": "execute_result"
    }
   ],
   "source": [
    "df = DataFrame(a=missing)"
   ]
  },
  {
   "cell_type": "code",
   "execution_count": 60,
   "metadata": {},
   "outputs": [
    {
     "data": {
      "text/plain": [
       "missing"
      ]
     },
     "execution_count": 60,
     "metadata": {},
     "output_type": "execute_result"
    }
   ],
   "source": [
    "df == df"
   ]
  },
  {
   "cell_type": "code",
   "execution_count": 61,
   "metadata": {},
   "outputs": [
    {
     "data": {
      "text/plain": [
       "true"
      ]
     },
     "execution_count": 61,
     "metadata": {},
     "output_type": "execute_result"
    }
   ],
   "source": [
    "df === df"
   ]
  },
  {
   "cell_type": "code",
   "execution_count": 62,
   "metadata": {},
   "outputs": [
    {
     "data": {
      "text/plain": [
       "true"
      ]
     },
     "execution_count": 62,
     "metadata": {},
     "output_type": "execute_result"
    }
   ],
   "source": [
    "isequal(df, df)"
   ]
  },
  {
   "cell_type": "markdown",
   "metadata": {},
   "source": [
    "# Metadata support"
   ]
  },
  {
   "cell_type": "markdown",
   "metadata": {},
   "source": [
    "You can attach and retrieve metadata on table-level and column-level of a data frame as key-value pairs."
   ]
  },
  {
   "cell_type": "markdown",
   "metadata": {},
   "source": [
    "The most important functions you can use are:\n",
    "* `metadata`: get table-level metadata\n",
    "* `metadata!`: set table-level metadata\n",
    "* `colmetadata`: set table-level metadata\n",
    "* `colmetadata!`: set table-level metadata"
   ]
  },
  {
   "cell_type": "markdown",
   "metadata": {},
   "source": [
    "Additionally each metadata key-value pair has a style information attached to it. In DataFrames.jl the metadata style influences how metadata is propagated when df is transformed. In general currently two styles are supported:\n",
    "* `:default` - no propagation under transformations\n",
    "* `:note` - metadata is preserved under transformations"
   ]
  },
  {
   "cell_type": "markdown",
   "metadata": {},
   "source": [
    "Here is their example usage"
   ]
  },
  {
   "cell_type": "code",
   "execution_count": 63,
   "metadata": {},
   "outputs": [
    {
     "data": {
      "text/html": [
       "<div><div style = \"float: left;\"><span>3×2 DataFrame</span></div><div style = \"clear: both;\"></div></div><div class = \"data-frame\" style = \"overflow-x: scroll;\"><table class = \"data-frame\" style = \"margin-bottom: 6px;\"><thead><tr class = \"header\"><th class = \"rowNumber\" style = \"font-weight: bold; text-align: right;\">Row</th><th style = \"text-align: left;\">date</th><th style = \"text-align: left;\">sales</th></tr><tr class = \"subheader headerLastRow\"><th class = \"rowNumber\" style = \"font-weight: bold; text-align: right;\"></th><th title = \"Int64\" style = \"text-align: left;\">Int64</th><th title = \"Int64\" style = \"text-align: left;\">Int64</th></tr></thead><tbody><tr><td class = \"rowNumber\" style = \"font-weight: bold; text-align: right;\">1</td><td style = \"text-align: right;\">2011</td><td style = \"text-align: right;\">12</td></tr><tr><td class = \"rowNumber\" style = \"font-weight: bold; text-align: right;\">2</td><td style = \"text-align: right;\">2012</td><td style = \"text-align: right;\">14</td></tr><tr><td class = \"rowNumber\" style = \"font-weight: bold; text-align: right;\">3</td><td style = \"text-align: right;\">2013</td><td style = \"text-align: right;\">13</td></tr></tbody></table></div>"
      ],
      "text/latex": [
       "\\begin{tabular}{r|cc}\n",
       "\t& date & sales\\\\\n",
       "\t\\hline\n",
       "\t& Int64 & Int64\\\\\n",
       "\t\\hline\n",
       "\t1 & 2011 & 12 \\\\\n",
       "\t2 & 2012 & 14 \\\\\n",
       "\t3 & 2013 & 13 \\\\\n",
       "\\end{tabular}\n"
      ],
      "text/plain": [
       "\u001b[1m3×2 DataFrame\u001b[0m\n",
       "\u001b[1m Row \u001b[0m│\u001b[1m date  \u001b[0m\u001b[1m sales \u001b[0m\n",
       "     │\u001b[90m Int64 \u001b[0m\u001b[90m Int64 \u001b[0m\n",
       "─────┼──────────────\n",
       "   1 │  2011     12\n",
       "   2 │  2012     14\n",
       "   3 │  2013     13"
      ]
     },
     "execution_count": 63,
     "metadata": {},
     "output_type": "execute_result"
    }
   ],
   "source": [
    "df = DataFrame(date=[2011, 2012, 2013], sales=[12, 14, 13])"
   ]
  },
  {
   "cell_type": "code",
   "execution_count": 64,
   "metadata": {},
   "outputs": [
    {
     "data": {
      "text/html": [
       "<div><div style = \"float: left;\"><span>3×2 DataFrame</span></div><div style = \"clear: both;\"></div></div><div class = \"data-frame\" style = \"overflow-x: scroll;\"><table class = \"data-frame\" style = \"margin-bottom: 6px;\"><thead><tr class = \"header\"><th class = \"rowNumber\" style = \"font-weight: bold; text-align: right;\">Row</th><th style = \"text-align: left;\">date</th><th style = \"text-align: left;\">sales</th></tr><tr class = \"subheader headerLastRow\"><th class = \"rowNumber\" style = \"font-weight: bold; text-align: right;\"></th><th title = \"Int64\" style = \"text-align: left;\">Int64</th><th title = \"Int64\" style = \"text-align: left;\">Int64</th></tr></thead><tbody><tr><td class = \"rowNumber\" style = \"font-weight: bold; text-align: right;\">1</td><td style = \"text-align: right;\">2011</td><td style = \"text-align: right;\">12</td></tr><tr><td class = \"rowNumber\" style = \"font-weight: bold; text-align: right;\">2</td><td style = \"text-align: right;\">2012</td><td style = \"text-align: right;\">14</td></tr><tr><td class = \"rowNumber\" style = \"font-weight: bold; text-align: right;\">3</td><td style = \"text-align: right;\">2013</td><td style = \"text-align: right;\">13</td></tr></tbody></table></div>"
      ],
      "text/latex": [
       "\\begin{tabular}{r|cc}\n",
       "\t& date & sales\\\\\n",
       "\t\\hline\n",
       "\t& Int64 & Int64\\\\\n",
       "\t\\hline\n",
       "\t1 & 2011 & 12 \\\\\n",
       "\t2 & 2012 & 14 \\\\\n",
       "\t3 & 2013 & 13 \\\\\n",
       "\\end{tabular}\n"
      ],
      "text/plain": [
       "\u001b[1m3×2 DataFrame\u001b[0m\n",
       "\u001b[1m Row \u001b[0m│\u001b[1m date  \u001b[0m\u001b[1m sales \u001b[0m\n",
       "     │\u001b[90m Int64 \u001b[0m\u001b[90m Int64 \u001b[0m\n",
       "─────┼──────────────\n",
       "   1 │  2011     12\n",
       "   2 │  2012     14\n",
       "   3 │  2013     13"
      ]
     },
     "execution_count": 64,
     "metadata": {},
     "output_type": "execute_result"
    }
   ],
   "source": [
    "metadata!(df, \"title\", \"Sales data for company ABC\", style=:note)\n",
    "colmetadata!(df, :date, \"label\", \"Fiscal year\", style=:note)\n",
    "colmetadata!(df, :sales, \"label\", \"Sales in units\", style=:note)"
   ]
  },
  {
   "cell_type": "code",
   "execution_count": 65,
   "metadata": {},
   "outputs": [
    {
     "data": {
      "text/html": [
       "<div><div style = \"float: left;\"><span>Sales data for company ABC</span></div><div style = \"clear: both;\"></div></div><div class = \"data-frame\" style = \"overflow-x: scroll;\"><table class = \"data-frame\" style = \"margin-bottom: 6px;\"><thead><tr class = \"header headerLastRow\"><th class = \"rowNumber\" style = \"font-weight: bold; text-align: right;\">Row</th><th style = \"text-align: left;\">Fiscal year</th><th style = \"text-align: left;\">Sales in units</th></tr></thead><tbody><tr><td class = \"rowNumber\" style = \"font-weight: bold; text-align: right;\">1</td><td style = \"text-align: right;\">2011</td><td style = \"text-align: right;\">12</td></tr><tr><td class = \"rowNumber\" style = \"font-weight: bold; text-align: right;\">2</td><td style = \"text-align: right;\">2012</td><td style = \"text-align: right;\">14</td></tr><tr><td class = \"rowNumber\" style = \"font-weight: bold; text-align: right;\">3</td><td style = \"text-align: right;\">2013</td><td style = \"text-align: right;\">13</td></tr></tbody></table></div>"
      ]
     },
     "metadata": {},
     "output_type": "display_data"
    }
   ],
   "source": [
    "show(stdout, MIME(\"text/html\"), df, header=colmetadata.(Ref(df), 1:ncol(df), \"label\"), top_left_str=metadata(df, \"title\"))"
   ]
  },
  {
   "cell_type": "code",
   "execution_count": 66,
   "metadata": {},
   "outputs": [],
   "source": [
    "using Plots"
   ]
  },
  {
   "cell_type": "code",
   "execution_count": 67,
   "metadata": {},
   "outputs": [
    {
     "data": {
      "image/svg+xml": [
       "<?xml version=\"1.0\" encoding=\"utf-8\"?>\n",
       "<svg xmlns=\"http://www.w3.org/2000/svg\" xmlns:xlink=\"http://www.w3.org/1999/xlink\" width=\"600\" height=\"400\" viewBox=\"0 0 2400 1600\">\n",
       "<defs>\n",
       "  <clipPath id=\"clip970\">\n",
       "    <rect x=\"0\" y=\"0\" width=\"2400\" height=\"1600\"/>\n",
       "  </clipPath>\n",
       "</defs>\n",
       "<path clip-path=\"url(#clip970)\" d=\"\n",
       "M0 1600 L2400 1600 L2400 0 L0 0  Z\n",
       "  \" fill=\"#ffffff\" fill-rule=\"evenodd\" fill-opacity=\"1\"/>\n",
       "<defs>\n",
       "  <clipPath id=\"clip971\">\n",
       "    <rect x=\"480\" y=\"0\" width=\"1681\" height=\"1600\"/>\n",
       "  </clipPath>\n",
       "</defs>\n",
       "<path clip-path=\"url(#clip970)\" d=\"\n",
       "M247.459 1423.18 L2352.76 1423.18 L2352.76 123.472 L247.459 123.472  Z\n",
       "  \" fill=\"#ffffff\" fill-rule=\"evenodd\" fill-opacity=\"1\"/>\n",
       "<defs>\n",
       "  <clipPath id=\"clip972\">\n",
       "    <rect x=\"247\" y=\"123\" width=\"2106\" height=\"1301\"/>\n",
       "  </clipPath>\n",
       "</defs>\n",
       "<polyline clip-path=\"url(#clip972)\" style=\"stroke:#000000; stroke-linecap:round; stroke-linejoin:round; stroke-width:2; stroke-opacity:0.1; fill:none\" points=\"\n",
       "  307.043,1423.18 307.043,123.472 \n",
       "  \"/>\n",
       "<polyline clip-path=\"url(#clip972)\" style=\"stroke:#000000; stroke-linecap:round; stroke-linejoin:round; stroke-width:2; stroke-opacity:0.1; fill:none\" points=\"\n",
       "  803.575,1423.18 803.575,123.472 \n",
       "  \"/>\n",
       "<polyline clip-path=\"url(#clip972)\" style=\"stroke:#000000; stroke-linecap:round; stroke-linejoin:round; stroke-width:2; stroke-opacity:0.1; fill:none\" points=\"\n",
       "  1300.11,1423.18 1300.11,123.472 \n",
       "  \"/>\n",
       "<polyline clip-path=\"url(#clip972)\" style=\"stroke:#000000; stroke-linecap:round; stroke-linejoin:round; stroke-width:2; stroke-opacity:0.1; fill:none\" points=\"\n",
       "  1796.64,1423.18 1796.64,123.472 \n",
       "  \"/>\n",
       "<polyline clip-path=\"url(#clip972)\" style=\"stroke:#000000; stroke-linecap:round; stroke-linejoin:round; stroke-width:2; stroke-opacity:0.1; fill:none\" points=\"\n",
       "  2293.17,1423.18 2293.17,123.472 \n",
       "  \"/>\n",
       "<polyline clip-path=\"url(#clip970)\" style=\"stroke:#000000; stroke-linecap:round; stroke-linejoin:round; stroke-width:4; stroke-opacity:1; fill:none\" points=\"\n",
       "  247.459,1423.18 2352.76,1423.18 \n",
       "  \"/>\n",
       "<polyline clip-path=\"url(#clip970)\" style=\"stroke:#000000; stroke-linecap:round; stroke-linejoin:round; stroke-width:4; stroke-opacity:1; fill:none\" points=\"\n",
       "  307.043,1423.18 307.043,1404.28 \n",
       "  \"/>\n",
       "<polyline clip-path=\"url(#clip970)\" style=\"stroke:#000000; stroke-linecap:round; stroke-linejoin:round; stroke-width:4; stroke-opacity:1; fill:none\" points=\"\n",
       "  803.575,1423.18 803.575,1404.28 \n",
       "  \"/>\n",
       "<polyline clip-path=\"url(#clip970)\" style=\"stroke:#000000; stroke-linecap:round; stroke-linejoin:round; stroke-width:4; stroke-opacity:1; fill:none\" points=\"\n",
       "  1300.11,1423.18 1300.11,1404.28 \n",
       "  \"/>\n",
       "<polyline clip-path=\"url(#clip970)\" style=\"stroke:#000000; stroke-linecap:round; stroke-linejoin:round; stroke-width:4; stroke-opacity:1; fill:none\" points=\"\n",
       "  1796.64,1423.18 1796.64,1404.28 \n",
       "  \"/>\n",
       "<polyline clip-path=\"url(#clip970)\" style=\"stroke:#000000; stroke-linecap:round; stroke-linejoin:round; stroke-width:4; stroke-opacity:1; fill:none\" points=\"\n",
       "  2293.17,1423.18 2293.17,1404.28 \n",
       "  \"/>\n",
       "<path clip-path=\"url(#clip970)\" d=\"M233.038 1481.64 L249.358 1481.64 L249.358 1485.58 L227.413 1485.58 L227.413 1481.64 Q230.075 1478.89 234.659 1474.26 Q239.265 1469.61 240.446 1468.27 Q242.691 1465.74 243.571 1464.01 Q244.473 1462.25 244.473 1460.56 Q244.473 1457.8 242.529 1456.07 Q240.608 1454.33 237.506 1454.33 Q235.307 1454.33 232.853 1455.09 Q230.423 1455.86 227.645 1457.41 L227.645 1452.69 Q230.469 1451.55 232.923 1450.97 Q235.376 1450.39 237.413 1450.39 Q242.784 1450.39 245.978 1453.08 Q249.173 1455.77 249.173 1460.26 Q249.173 1462.39 248.362 1464.31 Q247.575 1466.2 245.469 1468.8 Q244.89 1469.47 241.788 1472.69 Q238.686 1475.88 233.038 1481.64 Z\" fill=\"#000000\" fill-rule=\"evenodd\" fill-opacity=\"1\" /><path clip-path=\"url(#clip970)\" d=\"M269.172 1454.1 Q265.561 1454.1 263.733 1457.66 Q261.927 1461.2 261.927 1468.33 Q261.927 1475.44 263.733 1479.01 Q265.561 1482.55 269.172 1482.55 Q272.807 1482.55 274.612 1479.01 Q276.441 1475.44 276.441 1468.33 Q276.441 1461.2 274.612 1457.66 Q272.807 1454.1 269.172 1454.1 M269.172 1450.39 Q274.983 1450.39 278.038 1455 Q281.117 1459.58 281.117 1468.33 Q281.117 1477.06 278.038 1481.67 Q274.983 1486.25 269.172 1486.25 Q263.362 1486.25 260.284 1481.67 Q257.228 1477.06 257.228 1468.33 Q257.228 1459.58 260.284 1455 Q263.362 1450.39 269.172 1450.39 Z\" fill=\"#000000\" fill-rule=\"evenodd\" fill-opacity=\"1\" /><path clip-path=\"url(#clip970)\" d=\"M290.145 1481.64 L297.783 1481.64 L297.783 1455.28 L289.473 1456.95 L289.473 1452.69 L297.737 1451.02 L302.413 1451.02 L302.413 1481.64 L310.052 1481.64 L310.052 1485.58 L290.145 1485.58 L290.145 1481.64 Z\" fill=\"#000000\" fill-rule=\"evenodd\" fill-opacity=\"1\" /><path clip-path=\"url(#clip970)\" d=\"M320.306 1481.64 L327.945 1481.64 L327.945 1455.28 L319.635 1456.95 L319.635 1452.69 L327.899 1451.02 L332.575 1451.02 L332.575 1481.64 L340.214 1481.64 L340.214 1485.58 L320.306 1485.58 L320.306 1481.64 Z\" fill=\"#000000\" fill-rule=\"evenodd\" fill-opacity=\"1\" /><path clip-path=\"url(#clip970)\" d=\"M349.658 1479.7 L354.542 1479.7 L354.542 1485.58 L349.658 1485.58 L349.658 1479.7 Z\" fill=\"#000000\" fill-rule=\"evenodd\" fill-opacity=\"1\" /><path clip-path=\"url(#clip970)\" d=\"M374.727 1454.1 Q371.116 1454.1 369.288 1457.66 Q367.482 1461.2 367.482 1468.33 Q367.482 1475.44 369.288 1479.01 Q371.116 1482.55 374.727 1482.55 Q378.362 1482.55 380.167 1479.01 Q381.996 1475.44 381.996 1468.33 Q381.996 1461.2 380.167 1457.66 Q378.362 1454.1 374.727 1454.1 M374.727 1450.39 Q380.538 1450.39 383.593 1455 Q386.672 1459.58 386.672 1468.33 Q386.672 1477.06 383.593 1481.67 Q380.538 1486.25 374.727 1486.25 Q368.917 1486.25 365.839 1481.67 Q362.783 1477.06 362.783 1468.33 Q362.783 1459.58 365.839 1455 Q368.917 1450.39 374.727 1450.39 Z\" fill=\"#000000\" fill-rule=\"evenodd\" fill-opacity=\"1\" /><path clip-path=\"url(#clip970)\" d=\"M730.068 1481.64 L746.388 1481.64 L746.388 1485.58 L724.443 1485.58 L724.443 1481.64 Q727.105 1478.89 731.689 1474.26 Q736.295 1469.61 737.476 1468.27 Q739.721 1465.74 740.601 1464.01 Q741.504 1462.25 741.504 1460.56 Q741.504 1457.8 739.559 1456.07 Q737.638 1454.33 734.536 1454.33 Q732.337 1454.33 729.883 1455.09 Q727.453 1455.86 724.675 1457.41 L724.675 1452.69 Q727.499 1451.55 729.953 1450.97 Q732.406 1450.39 734.443 1450.39 Q739.814 1450.39 743.008 1453.08 Q746.203 1455.77 746.203 1460.26 Q746.203 1462.39 745.392 1464.31 Q744.605 1466.2 742.499 1468.8 Q741.92 1469.47 738.818 1472.69 Q735.717 1475.88 730.068 1481.64 Z\" fill=\"#000000\" fill-rule=\"evenodd\" fill-opacity=\"1\" /><path clip-path=\"url(#clip970)\" d=\"M766.202 1454.1 Q762.591 1454.1 760.763 1457.66 Q758.957 1461.2 758.957 1468.33 Q758.957 1475.44 760.763 1479.01 Q762.591 1482.55 766.202 1482.55 Q769.837 1482.55 771.642 1479.01 Q773.471 1475.44 773.471 1468.33 Q773.471 1461.2 771.642 1457.66 Q769.837 1454.1 766.202 1454.1 M766.202 1450.39 Q772.013 1450.39 775.068 1455 Q778.147 1459.58 778.147 1468.33 Q778.147 1477.06 775.068 1481.67 Q772.013 1486.25 766.202 1486.25 Q760.392 1486.25 757.314 1481.67 Q754.258 1477.06 754.258 1468.33 Q754.258 1459.58 757.314 1455 Q760.392 1450.39 766.202 1450.39 Z\" fill=\"#000000\" fill-rule=\"evenodd\" fill-opacity=\"1\" /><path clip-path=\"url(#clip970)\" d=\"M787.175 1481.64 L794.813 1481.64 L794.813 1455.28 L786.503 1456.95 L786.503 1452.69 L794.767 1451.02 L799.443 1451.02 L799.443 1481.64 L807.082 1481.64 L807.082 1485.58 L787.175 1485.58 L787.175 1481.64 Z\" fill=\"#000000\" fill-rule=\"evenodd\" fill-opacity=\"1\" /><path clip-path=\"url(#clip970)\" d=\"M817.336 1481.64 L824.975 1481.64 L824.975 1455.28 L816.665 1456.95 L816.665 1452.69 L824.929 1451.02 L829.605 1451.02 L829.605 1481.64 L837.244 1481.64 L837.244 1485.58 L817.336 1485.58 L817.336 1481.64 Z\" fill=\"#000000\" fill-rule=\"evenodd\" fill-opacity=\"1\" /><path clip-path=\"url(#clip970)\" d=\"M846.688 1479.7 L851.572 1479.7 L851.572 1485.58 L846.688 1485.58 L846.688 1479.7 Z\" fill=\"#000000\" fill-rule=\"evenodd\" fill-opacity=\"1\" /><path clip-path=\"url(#clip970)\" d=\"M861.804 1451.02 L880.16 1451.02 L880.16 1454.96 L866.086 1454.96 L866.086 1463.43 Q867.105 1463.08 868.123 1462.92 Q869.142 1462.73 870.16 1462.73 Q875.947 1462.73 879.327 1465.9 Q882.706 1469.08 882.706 1474.49 Q882.706 1480.07 879.234 1483.17 Q875.762 1486.25 869.443 1486.25 Q867.267 1486.25 864.998 1485.88 Q862.753 1485.51 860.345 1484.77 L860.345 1480.07 Q862.429 1481.2 864.651 1481.76 Q866.873 1482.32 869.35 1482.32 Q873.355 1482.32 875.693 1480.21 Q878.031 1478.1 878.031 1474.49 Q878.031 1470.88 875.693 1468.77 Q873.355 1466.67 869.35 1466.67 Q867.475 1466.67 865.6 1467.08 Q863.748 1467.5 861.804 1468.38 L861.804 1451.02 Z\" fill=\"#000000\" fill-rule=\"evenodd\" fill-opacity=\"1\" /><path clip-path=\"url(#clip970)\" d=\"M1226.1 1481.64 L1242.42 1481.64 L1242.42 1485.58 L1220.48 1485.58 L1220.48 1481.64 Q1223.14 1478.89 1227.72 1474.26 Q1232.33 1469.61 1233.51 1468.27 Q1235.76 1465.74 1236.64 1464.01 Q1237.54 1462.25 1237.54 1460.56 Q1237.54 1457.8 1235.59 1456.07 Q1233.67 1454.33 1230.57 1454.33 Q1228.37 1454.33 1225.92 1455.09 Q1223.49 1455.86 1220.71 1457.41 L1220.71 1452.69 Q1223.53 1451.55 1225.99 1450.97 Q1228.44 1450.39 1230.48 1450.39 Q1235.85 1450.39 1239.04 1453.08 Q1242.24 1455.77 1242.24 1460.26 Q1242.24 1462.39 1241.43 1464.31 Q1240.64 1466.2 1238.53 1468.8 Q1237.95 1469.47 1234.85 1472.69 Q1231.75 1475.88 1226.1 1481.64 Z\" fill=\"#000000\" fill-rule=\"evenodd\" fill-opacity=\"1\" /><path clip-path=\"url(#clip970)\" d=\"M1262.24 1454.1 Q1258.63 1454.1 1256.8 1457.66 Q1254.99 1461.2 1254.99 1468.33 Q1254.99 1475.44 1256.8 1479.01 Q1258.63 1482.55 1262.24 1482.55 Q1265.87 1482.55 1267.68 1479.01 Q1269.51 1475.44 1269.51 1468.33 Q1269.51 1461.2 1267.68 1457.66 Q1265.87 1454.1 1262.24 1454.1 M1262.24 1450.39 Q1268.05 1450.39 1271.1 1455 Q1274.18 1459.58 1274.18 1468.33 Q1274.18 1477.06 1271.1 1481.67 Q1268.05 1486.25 1262.24 1486.25 Q1256.43 1486.25 1253.35 1481.67 Q1250.29 1477.06 1250.29 1468.33 Q1250.29 1459.58 1253.35 1455 Q1256.43 1450.39 1262.24 1450.39 Z\" fill=\"#000000\" fill-rule=\"evenodd\" fill-opacity=\"1\" /><path clip-path=\"url(#clip970)\" d=\"M1283.21 1481.64 L1290.85 1481.64 L1290.85 1455.28 L1282.54 1456.95 L1282.54 1452.69 L1290.8 1451.02 L1295.48 1451.02 L1295.48 1481.64 L1303.12 1481.64 L1303.12 1485.58 L1283.21 1485.58 L1283.21 1481.64 Z\" fill=\"#000000\" fill-rule=\"evenodd\" fill-opacity=\"1\" /><path clip-path=\"url(#clip970)\" d=\"M1316.59 1481.64 L1332.91 1481.64 L1332.91 1485.58 L1310.96 1485.58 L1310.96 1481.64 Q1313.63 1478.89 1318.21 1474.26 Q1322.82 1469.61 1324 1468.27 Q1326.24 1465.74 1327.12 1464.01 Q1328.02 1462.25 1328.02 1460.56 Q1328.02 1457.8 1326.08 1456.07 Q1324.16 1454.33 1321.06 1454.33 Q1318.86 1454.33 1316.4 1455.09 Q1313.97 1455.86 1311.2 1457.41 L1311.2 1452.69 Q1314.02 1451.55 1316.47 1450.97 Q1318.93 1450.39 1320.96 1450.39 Q1326.33 1450.39 1329.53 1453.08 Q1332.72 1455.77 1332.72 1460.26 Q1332.72 1462.39 1331.91 1464.31 Q1331.13 1466.2 1329.02 1468.8 Q1328.44 1469.47 1325.34 1472.69 Q1322.24 1475.88 1316.59 1481.64 Z\" fill=\"#000000\" fill-rule=\"evenodd\" fill-opacity=\"1\" /><path clip-path=\"url(#clip970)\" d=\"M1342.72 1479.7 L1347.61 1479.7 L1347.61 1485.58 L1342.72 1485.58 L1342.72 1479.7 Z\" fill=\"#000000\" fill-rule=\"evenodd\" fill-opacity=\"1\" /><path clip-path=\"url(#clip970)\" d=\"M1367.79 1454.1 Q1364.18 1454.1 1362.35 1457.66 Q1360.55 1461.2 1360.55 1468.33 Q1360.55 1475.44 1362.35 1479.01 Q1364.18 1482.55 1367.79 1482.55 Q1371.43 1482.55 1373.23 1479.01 Q1375.06 1475.44 1375.06 1468.33 Q1375.06 1461.2 1373.23 1457.66 Q1371.43 1454.1 1367.79 1454.1 M1367.79 1450.39 Q1373.6 1450.39 1376.66 1455 Q1379.74 1459.58 1379.74 1468.33 Q1379.74 1477.06 1376.66 1481.67 Q1373.6 1486.25 1367.79 1486.25 Q1361.98 1486.25 1358.9 1481.67 Q1355.85 1477.06 1355.85 1468.33 Q1355.85 1459.58 1358.9 1455 Q1361.98 1450.39 1367.79 1450.39 Z\" fill=\"#000000\" fill-rule=\"evenodd\" fill-opacity=\"1\" /><path clip-path=\"url(#clip970)\" d=\"M1723.13 1481.64 L1739.45 1481.64 L1739.45 1485.58 L1717.51 1485.58 L1717.51 1481.64 Q1720.17 1478.89 1724.75 1474.26 Q1729.36 1469.61 1730.54 1468.27 Q1732.79 1465.74 1733.67 1464.01 Q1734.57 1462.25 1734.57 1460.56 Q1734.57 1457.8 1732.62 1456.07 Q1730.7 1454.33 1727.6 1454.33 Q1725.4 1454.33 1722.95 1455.09 Q1720.52 1455.86 1717.74 1457.41 L1717.74 1452.69 Q1720.56 1451.55 1723.02 1450.97 Q1725.47 1450.39 1727.51 1450.39 Q1732.88 1450.39 1736.07 1453.08 Q1739.27 1455.77 1739.27 1460.26 Q1739.27 1462.39 1738.46 1464.31 Q1737.67 1466.2 1735.56 1468.8 Q1734.98 1469.47 1731.88 1472.69 Q1728.78 1475.88 1723.13 1481.64 Z\" fill=\"#000000\" fill-rule=\"evenodd\" fill-opacity=\"1\" /><path clip-path=\"url(#clip970)\" d=\"M1759.27 1454.1 Q1755.66 1454.1 1753.83 1457.66 Q1752.02 1461.2 1752.02 1468.33 Q1752.02 1475.44 1753.83 1479.01 Q1755.66 1482.55 1759.27 1482.55 Q1762.9 1482.55 1764.71 1479.01 Q1766.54 1475.44 1766.54 1468.33 Q1766.54 1461.2 1764.71 1457.66 Q1762.9 1454.1 1759.27 1454.1 M1759.27 1450.39 Q1765.08 1450.39 1768.13 1455 Q1771.21 1459.58 1771.21 1468.33 Q1771.21 1477.06 1768.13 1481.67 Q1765.08 1486.25 1759.27 1486.25 Q1753.46 1486.25 1750.38 1481.67 Q1747.32 1477.06 1747.32 1468.33 Q1747.32 1459.58 1750.38 1455 Q1753.46 1450.39 1759.27 1450.39 Z\" fill=\"#000000\" fill-rule=\"evenodd\" fill-opacity=\"1\" /><path clip-path=\"url(#clip970)\" d=\"M1780.24 1481.64 L1787.88 1481.64 L1787.88 1455.28 L1779.57 1456.95 L1779.57 1452.69 L1787.83 1451.02 L1792.51 1451.02 L1792.51 1481.64 L1800.15 1481.64 L1800.15 1485.58 L1780.24 1485.58 L1780.24 1481.64 Z\" fill=\"#000000\" fill-rule=\"evenodd\" fill-opacity=\"1\" /><path clip-path=\"url(#clip970)\" d=\"M1813.62 1481.64 L1829.94 1481.64 L1829.94 1485.58 L1807.99 1485.58 L1807.99 1481.64 Q1810.66 1478.89 1815.24 1474.26 Q1819.85 1469.61 1821.03 1468.27 Q1823.27 1465.74 1824.15 1464.01 Q1825.05 1462.25 1825.05 1460.56 Q1825.05 1457.8 1823.11 1456.07 Q1821.19 1454.33 1818.09 1454.33 Q1815.89 1454.33 1813.43 1455.09 Q1811 1455.86 1808.23 1457.41 L1808.23 1452.69 Q1811.05 1451.55 1813.5 1450.97 Q1815.96 1450.39 1817.99 1450.39 Q1823.36 1450.39 1826.56 1453.08 Q1829.75 1455.77 1829.75 1460.26 Q1829.75 1462.39 1828.94 1464.31 Q1828.16 1466.2 1826.05 1468.8 Q1825.47 1469.47 1822.37 1472.69 Q1819.27 1475.88 1813.62 1481.64 Z\" fill=\"#000000\" fill-rule=\"evenodd\" fill-opacity=\"1\" /><path clip-path=\"url(#clip970)\" d=\"M1839.75 1479.7 L1844.64 1479.7 L1844.64 1485.58 L1839.75 1485.58 L1839.75 1479.7 Z\" fill=\"#000000\" fill-rule=\"evenodd\" fill-opacity=\"1\" /><path clip-path=\"url(#clip970)\" d=\"M1854.87 1451.02 L1873.22 1451.02 L1873.22 1454.96 L1859.15 1454.96 L1859.15 1463.43 Q1860.17 1463.08 1861.19 1462.92 Q1862.21 1462.73 1863.22 1462.73 Q1869.01 1462.73 1872.39 1465.9 Q1875.77 1469.08 1875.77 1474.49 Q1875.77 1480.07 1872.3 1483.17 Q1868.83 1486.25 1862.51 1486.25 Q1860.33 1486.25 1858.06 1485.88 Q1855.82 1485.51 1853.41 1484.77 L1853.41 1480.07 Q1855.49 1481.2 1857.72 1481.76 Q1859.94 1482.32 1862.41 1482.32 Q1866.42 1482.32 1868.76 1480.21 Q1871.1 1478.1 1871.1 1474.49 Q1871.1 1470.88 1868.76 1468.77 Q1866.42 1466.67 1862.41 1466.67 Q1860.54 1466.67 1858.66 1467.08 Q1856.81 1467.5 1854.87 1468.38 L1854.87 1451.02 Z\" fill=\"#000000\" fill-rule=\"evenodd\" fill-opacity=\"1\" /><path clip-path=\"url(#clip970)\" d=\"M2219.17 1481.64 L2235.49 1481.64 L2235.49 1485.58 L2213.54 1485.58 L2213.54 1481.64 Q2216.2 1478.89 2220.79 1474.26 Q2225.39 1469.61 2226.58 1468.27 Q2228.82 1465.74 2229.7 1464.01 Q2230.6 1462.25 2230.6 1460.56 Q2230.6 1457.8 2228.66 1456.07 Q2226.74 1454.33 2223.64 1454.33 Q2221.44 1454.33 2218.98 1455.09 Q2216.55 1455.86 2213.77 1457.41 L2213.77 1452.69 Q2216.6 1451.55 2219.05 1450.97 Q2221.51 1450.39 2223.54 1450.39 Q2228.91 1450.39 2232.11 1453.08 Q2235.3 1455.77 2235.3 1460.26 Q2235.3 1462.39 2234.49 1464.31 Q2233.7 1466.2 2231.6 1468.8 Q2231.02 1469.47 2227.92 1472.69 Q2224.82 1475.88 2219.17 1481.64 Z\" fill=\"#000000\" fill-rule=\"evenodd\" fill-opacity=\"1\" /><path clip-path=\"url(#clip970)\" d=\"M2255.3 1454.1 Q2251.69 1454.1 2249.86 1457.66 Q2248.06 1461.2 2248.06 1468.33 Q2248.06 1475.44 2249.86 1479.01 Q2251.69 1482.55 2255.3 1482.55 Q2258.94 1482.55 2260.74 1479.01 Q2262.57 1475.44 2262.57 1468.33 Q2262.57 1461.2 2260.74 1457.66 Q2258.94 1454.1 2255.3 1454.1 M2255.3 1450.39 Q2261.11 1450.39 2264.17 1455 Q2267.25 1459.58 2267.25 1468.33 Q2267.25 1477.06 2264.17 1481.67 Q2261.11 1486.25 2255.3 1486.25 Q2249.49 1486.25 2246.41 1481.67 Q2243.36 1477.06 2243.36 1468.33 Q2243.36 1459.58 2246.41 1455 Q2249.49 1450.39 2255.3 1450.39 Z\" fill=\"#000000\" fill-rule=\"evenodd\" fill-opacity=\"1\" /><path clip-path=\"url(#clip970)\" d=\"M2276.27 1481.64 L2283.91 1481.64 L2283.91 1455.28 L2275.6 1456.95 L2275.6 1452.69 L2283.87 1451.02 L2288.54 1451.02 L2288.54 1481.64 L2296.18 1481.64 L2296.18 1485.58 L2276.27 1485.58 L2276.27 1481.64 Z\" fill=\"#000000\" fill-rule=\"evenodd\" fill-opacity=\"1\" /><path clip-path=\"url(#clip970)\" d=\"M2319.79 1466.95 Q2323.15 1467.66 2325.02 1469.93 Q2326.92 1472.2 2326.92 1475.53 Q2326.92 1480.65 2323.4 1483.45 Q2319.88 1486.25 2313.4 1486.25 Q2311.23 1486.25 2308.91 1485.81 Q2306.62 1485.39 2304.17 1484.54 L2304.17 1480.02 Q2306.11 1481.16 2308.43 1481.74 Q2310.74 1482.32 2313.26 1482.32 Q2317.66 1482.32 2319.95 1480.58 Q2322.27 1478.84 2322.27 1475.53 Q2322.27 1472.48 2320.12 1470.77 Q2317.99 1469.03 2314.17 1469.03 L2310.14 1469.03 L2310.14 1465.19 L2314.35 1465.19 Q2317.8 1465.19 2319.63 1463.82 Q2321.46 1462.43 2321.46 1459.84 Q2321.46 1457.18 2319.56 1455.77 Q2317.69 1454.33 2314.17 1454.33 Q2312.25 1454.33 2310.05 1454.75 Q2307.85 1455.16 2305.21 1456.04 L2305.21 1451.88 Q2307.87 1451.14 2310.19 1450.77 Q2312.52 1450.39 2314.58 1450.39 Q2319.91 1450.39 2323.01 1452.83 Q2326.11 1455.23 2326.11 1459.35 Q2326.11 1462.22 2324.47 1464.21 Q2322.82 1466.18 2319.79 1466.95 Z\" fill=\"#000000\" fill-rule=\"evenodd\" fill-opacity=\"1\" /><path clip-path=\"url(#clip970)\" d=\"M2335.79 1479.7 L2340.67 1479.7 L2340.67 1485.58 L2335.79 1485.58 L2335.79 1479.7 Z\" fill=\"#000000\" fill-rule=\"evenodd\" fill-opacity=\"1\" /><path clip-path=\"url(#clip970)\" d=\"M2360.86 1454.1 Q2357.25 1454.1 2355.42 1457.66 Q2353.61 1461.2 2353.61 1468.33 Q2353.61 1475.44 2355.42 1479.01 Q2357.25 1482.55 2360.86 1482.55 Q2364.49 1482.55 2366.3 1479.01 Q2368.13 1475.44 2368.13 1468.33 Q2368.13 1461.2 2366.3 1457.66 Q2364.49 1454.1 2360.86 1454.1 M2360.86 1450.39 Q2366.67 1450.39 2369.72 1455 Q2372.8 1459.58 2372.8 1468.33 Q2372.8 1477.06 2369.72 1481.67 Q2366.67 1486.25 2360.86 1486.25 Q2355.05 1486.25 2351.97 1481.67 Q2348.91 1477.06 2348.91 1468.33 Q2348.91 1459.58 2351.97 1455 Q2355.05 1450.39 2360.86 1450.39 Z\" fill=\"#000000\" fill-rule=\"evenodd\" fill-opacity=\"1\" /><path clip-path=\"url(#clip970)\" d=\"M1130.87 1520.52 L1158.18 1520.52 L1158.18 1525.93 L1137.3 1525.93 L1137.3 1539.94 L1156.15 1539.94 L1156.15 1545.35 L1137.3 1545.35 L1137.3 1568.04 L1130.87 1568.04 L1130.87 1520.52 Z\" fill=\"#000000\" fill-rule=\"evenodd\" fill-opacity=\"1\" /><path clip-path=\"url(#clip970)\" d=\"M1163.37 1532.4 L1169.23 1532.4 L1169.23 1568.04 L1163.37 1568.04 L1163.37 1532.4 M1163.37 1518.52 L1169.23 1518.52 L1169.23 1525.93 L1163.37 1525.93 L1163.37 1518.52 Z\" fill=\"#000000\" fill-rule=\"evenodd\" fill-opacity=\"1\" /><path clip-path=\"url(#clip970)\" d=\"M1204.21 1533.45 L1204.21 1538.98 Q1201.73 1537.71 1199.05 1537.07 Q1196.38 1536.44 1193.51 1536.44 Q1189.15 1536.44 1186.96 1537.77 Q1184.79 1539.11 1184.79 1541.79 Q1184.79 1543.82 1186.35 1545 Q1187.91 1546.15 1192.62 1547.2 L1194.63 1547.64 Q1200.87 1548.98 1203.48 1551.43 Q1206.12 1553.85 1206.12 1558.21 Q1206.12 1563.17 1202.17 1566.07 Q1198.26 1568.97 1191.38 1568.97 Q1188.52 1568.97 1185.4 1568.39 Q1182.31 1567.85 1178.87 1566.74 L1178.87 1560.69 Q1182.12 1562.38 1185.27 1563.24 Q1188.42 1564.07 1191.51 1564.07 Q1195.65 1564.07 1197.87 1562.66 Q1200.1 1561.23 1200.1 1558.65 Q1200.1 1556.27 1198.48 1554.99 Q1196.89 1553.72 1191.44 1552.54 L1189.41 1552.07 Q1183.96 1550.92 1181.55 1548.56 Q1179.13 1546.18 1179.13 1542.04 Q1179.13 1537.01 1182.69 1534.27 Q1186.26 1531.54 1192.81 1531.54 Q1196.06 1531.54 1198.92 1532.01 Q1201.79 1532.49 1204.21 1533.45 Z\" fill=\"#000000\" fill-rule=\"evenodd\" fill-opacity=\"1\" /><path clip-path=\"url(#clip970)\" d=\"M1241.1 1533.76 L1241.1 1539.24 Q1238.61 1537.87 1236.1 1537.2 Q1233.62 1536.5 1231.07 1536.5 Q1225.37 1536.5 1222.22 1540.13 Q1219.07 1543.73 1219.07 1550.25 Q1219.07 1556.78 1222.22 1560.4 Q1225.37 1564 1231.07 1564 Q1233.62 1564 1236.1 1563.33 Q1238.61 1562.63 1241.1 1561.26 L1241.1 1566.68 Q1238.65 1567.82 1236 1568.39 Q1233.39 1568.97 1230.43 1568.97 Q1222.38 1568.97 1217.64 1563.91 Q1212.9 1558.85 1212.9 1550.25 Q1212.9 1541.53 1217.67 1536.53 Q1222.48 1531.54 1230.82 1531.54 Q1233.52 1531.54 1236.1 1532.11 Q1238.68 1532.65 1241.1 1533.76 Z\" fill=\"#000000\" fill-rule=\"evenodd\" fill-opacity=\"1\" /><path clip-path=\"url(#clip970)\" d=\"M1267.48 1550.12 Q1260.39 1550.12 1257.65 1551.75 Q1254.91 1553.37 1254.91 1557.29 Q1254.91 1560.4 1256.95 1562.25 Q1259.02 1564.07 1262.55 1564.07 Q1267.42 1564.07 1270.35 1560.63 Q1273.31 1557.16 1273.31 1551.43 L1273.31 1550.12 L1267.48 1550.12 M1279.16 1547.71 L1279.16 1568.04 L1273.31 1568.04 L1273.31 1562.63 Q1271.3 1565.88 1268.31 1567.44 Q1265.32 1568.97 1260.99 1568.97 Q1255.52 1568.97 1252.27 1565.91 Q1249.05 1562.82 1249.05 1557.67 Q1249.05 1551.65 1253.06 1548.6 Q1257.11 1545.54 1265.1 1545.54 L1273.31 1545.54 L1273.31 1544.97 Q1273.31 1540.93 1270.63 1538.73 Q1267.99 1536.5 1263.19 1536.5 Q1260.13 1536.5 1257.23 1537.23 Q1254.34 1537.97 1251.66 1539.43 L1251.66 1534.02 Q1254.88 1532.78 1257.9 1532.17 Q1260.93 1531.54 1263.79 1531.54 Q1271.53 1531.54 1275.34 1535.55 Q1279.16 1539.56 1279.16 1547.71 Z\" fill=\"#000000\" fill-rule=\"evenodd\" fill-opacity=\"1\" /><path clip-path=\"url(#clip970)\" d=\"M1291.23 1518.52 L1297.08 1518.52 L1297.08 1568.04 L1291.23 1568.04 L1291.23 1518.52 Z\" fill=\"#000000\" fill-rule=\"evenodd\" fill-opacity=\"1\" /><path clip-path=\"url(#clip970)\" d=\"M1344.89 1571.35 Q1342.41 1577.72 1340.05 1579.66 Q1337.7 1581.6 1333.75 1581.6 L1329.07 1581.6 L1329.07 1576.7 L1332.51 1576.7 Q1334.93 1576.7 1336.26 1575.56 Q1337.6 1574.41 1339.22 1570.14 L1340.27 1567.47 L1325.86 1532.4 L1332.06 1532.4 L1343.2 1560.28 L1354.34 1532.4 L1360.55 1532.4 L1344.89 1571.35 Z\" fill=\"#000000\" fill-rule=\"evenodd\" fill-opacity=\"1\" /><path clip-path=\"url(#clip970)\" d=\"M1399.13 1548.76 L1399.13 1551.62 L1372.2 1551.62 Q1372.58 1557.67 1375.83 1560.85 Q1379.11 1564 1384.93 1564 Q1388.3 1564 1391.46 1563.17 Q1394.64 1562.35 1397.76 1560.69 L1397.76 1566.23 Q1394.61 1567.57 1391.3 1568.27 Q1387.99 1568.97 1384.58 1568.97 Q1376.05 1568.97 1371.05 1564 Q1366.09 1559.04 1366.09 1550.57 Q1366.09 1541.82 1370.8 1536.69 Q1375.54 1531.54 1383.56 1531.54 Q1390.75 1531.54 1394.92 1536.18 Q1399.13 1540.8 1399.13 1548.76 M1393.27 1547.04 Q1393.21 1542.23 1390.56 1539.37 Q1387.95 1536.5 1383.63 1536.5 Q1378.72 1536.5 1375.76 1539.27 Q1372.84 1542.04 1372.39 1547.07 L1393.27 1547.04 Z\" fill=\"#000000\" fill-rule=\"evenodd\" fill-opacity=\"1\" /><path clip-path=\"url(#clip970)\" d=\"M1424.94 1550.12 Q1417.84 1550.12 1415.1 1551.75 Q1412.37 1553.37 1412.37 1557.29 Q1412.37 1560.4 1414.4 1562.25 Q1416.47 1564.07 1420.01 1564.07 Q1424.88 1564.07 1427.8 1560.63 Q1430.76 1557.16 1430.76 1551.43 L1430.76 1550.12 L1424.94 1550.12 M1436.62 1547.71 L1436.62 1568.04 L1430.76 1568.04 L1430.76 1562.63 Q1428.76 1565.88 1425.77 1567.44 Q1422.77 1568.97 1418.45 1568.97 Q1412.97 1568.97 1409.72 1565.91 Q1406.51 1562.82 1406.51 1557.67 Q1406.51 1551.65 1410.52 1548.6 Q1414.56 1545.54 1422.55 1545.54 L1430.76 1545.54 L1430.76 1544.97 Q1430.76 1540.93 1428.09 1538.73 Q1425.45 1536.5 1420.64 1536.5 Q1417.59 1536.5 1414.69 1537.23 Q1411.79 1537.97 1409.12 1539.43 L1409.12 1534.02 Q1412.33 1532.78 1415.36 1532.17 Q1418.38 1531.54 1421.25 1531.54 Q1428.98 1531.54 1432.8 1535.55 Q1436.62 1539.56 1436.62 1547.71 Z\" fill=\"#000000\" fill-rule=\"evenodd\" fill-opacity=\"1\" /><path clip-path=\"url(#clip970)\" d=\"M1469.34 1537.87 Q1468.35 1537.3 1467.18 1537.04 Q1466.03 1536.76 1464.63 1536.76 Q1459.66 1536.76 1456.99 1540 Q1454.35 1543.22 1454.35 1549.27 L1454.35 1568.04 L1448.46 1568.04 L1448.46 1532.4 L1454.35 1532.4 L1454.35 1537.93 Q1456.19 1534.69 1459.15 1533.13 Q1462.11 1531.54 1466.35 1531.54 Q1466.95 1531.54 1467.68 1531.63 Q1468.42 1531.7 1469.31 1531.85 L1469.34 1537.87 Z\" fill=\"#000000\" fill-rule=\"evenodd\" fill-opacity=\"1\" /><polyline clip-path=\"url(#clip972)\" style=\"stroke:#000000; stroke-linecap:round; stroke-linejoin:round; stroke-width:2; stroke-opacity:0.1; fill:none\" points=\"\n",
       "  247.459,1386.4 2352.76,1386.4 \n",
       "  \"/>\n",
       "<polyline clip-path=\"url(#clip972)\" style=\"stroke:#000000; stroke-linecap:round; stroke-linejoin:round; stroke-width:2; stroke-opacity:0.1; fill:none\" points=\"\n",
       "  247.459,1079.86 2352.76,1079.86 \n",
       "  \"/>\n",
       "<polyline clip-path=\"url(#clip972)\" style=\"stroke:#000000; stroke-linecap:round; stroke-linejoin:round; stroke-width:2; stroke-opacity:0.1; fill:none\" points=\"\n",
       "  247.459,773.326 2352.76,773.326 \n",
       "  \"/>\n",
       "<polyline clip-path=\"url(#clip972)\" style=\"stroke:#000000; stroke-linecap:round; stroke-linejoin:round; stroke-width:2; stroke-opacity:0.1; fill:none\" points=\"\n",
       "  247.459,466.791 2352.76,466.791 \n",
       "  \"/>\n",
       "<polyline clip-path=\"url(#clip972)\" style=\"stroke:#000000; stroke-linecap:round; stroke-linejoin:round; stroke-width:2; stroke-opacity:0.1; fill:none\" points=\"\n",
       "  247.459,160.256 2352.76,160.256 \n",
       "  \"/>\n",
       "<polyline clip-path=\"url(#clip970)\" style=\"stroke:#000000; stroke-linecap:round; stroke-linejoin:round; stroke-width:4; stroke-opacity:1; fill:none\" points=\"\n",
       "  247.459,1423.18 247.459,123.472 \n",
       "  \"/>\n",
       "<polyline clip-path=\"url(#clip970)\" style=\"stroke:#000000; stroke-linecap:round; stroke-linejoin:round; stroke-width:4; stroke-opacity:1; fill:none\" points=\"\n",
       "  247.459,1386.4 266.356,1386.4 \n",
       "  \"/>\n",
       "<polyline clip-path=\"url(#clip970)\" style=\"stroke:#000000; stroke-linecap:round; stroke-linejoin:round; stroke-width:4; stroke-opacity:1; fill:none\" points=\"\n",
       "  247.459,1079.86 266.356,1079.86 \n",
       "  \"/>\n",
       "<polyline clip-path=\"url(#clip970)\" style=\"stroke:#000000; stroke-linecap:round; stroke-linejoin:round; stroke-width:4; stroke-opacity:1; fill:none\" points=\"\n",
       "  247.459,773.326 266.356,773.326 \n",
       "  \"/>\n",
       "<polyline clip-path=\"url(#clip970)\" style=\"stroke:#000000; stroke-linecap:round; stroke-linejoin:round; stroke-width:4; stroke-opacity:1; fill:none\" points=\"\n",
       "  247.459,466.791 266.356,466.791 \n",
       "  \"/>\n",
       "<polyline clip-path=\"url(#clip970)\" style=\"stroke:#000000; stroke-linecap:round; stroke-linejoin:round; stroke-width:4; stroke-opacity:1; fill:none\" points=\"\n",
       "  247.459,160.256 266.356,160.256 \n",
       "  \"/>\n",
       "<path clip-path=\"url(#clip970)\" d=\"M114.931 1399.74 L122.57 1399.74 L122.57 1373.37 L114.26 1375.04 L114.26 1370.78 L122.524 1369.12 L127.2 1369.12 L127.2 1399.74 L134.839 1399.74 L134.839 1403.68 L114.931 1403.68 L114.931 1399.74 Z\" fill=\"#000000\" fill-rule=\"evenodd\" fill-opacity=\"1\" /><path clip-path=\"url(#clip970)\" d=\"M148.311 1399.74 L164.63 1399.74 L164.63 1403.68 L142.686 1403.68 L142.686 1399.74 Q145.348 1396.99 149.931 1392.36 Q154.538 1387.7 155.718 1386.36 Q157.964 1383.84 158.843 1382.1 Q159.746 1380.34 159.746 1378.65 Q159.746 1375.9 157.802 1374.16 Q155.88 1372.43 152.778 1372.43 Q150.579 1372.43 148.126 1373.19 Q145.695 1373.95 142.917 1375.5 L142.917 1370.78 Q145.741 1369.65 148.195 1369.07 Q150.649 1368.49 152.686 1368.49 Q158.056 1368.49 161.251 1371.18 Q164.445 1373.86 164.445 1378.35 Q164.445 1380.48 163.635 1382.4 Q162.848 1384.3 160.741 1386.89 Q160.163 1387.56 157.061 1390.78 Q153.959 1393.98 148.311 1399.74 Z\" fill=\"#000000\" fill-rule=\"evenodd\" fill-opacity=\"1\" /><path clip-path=\"url(#clip970)\" d=\"M174.445 1397.8 L179.329 1397.8 L179.329 1403.68 L174.445 1403.68 L174.445 1397.8 Z\" fill=\"#000000\" fill-rule=\"evenodd\" fill-opacity=\"1\" /><path clip-path=\"url(#clip970)\" d=\"M199.514 1372.19 Q195.903 1372.19 194.075 1375.76 Q192.269 1379.3 192.269 1386.43 Q192.269 1393.54 194.075 1397.1 Q195.903 1400.64 199.514 1400.64 Q203.149 1400.64 204.954 1397.1 Q206.783 1393.54 206.783 1386.43 Q206.783 1379.3 204.954 1375.76 Q203.149 1372.19 199.514 1372.19 M199.514 1368.49 Q205.324 1368.49 208.38 1373.1 Q211.459 1377.68 211.459 1386.43 Q211.459 1395.16 208.38 1399.76 Q205.324 1404.35 199.514 1404.35 Q193.704 1404.35 190.625 1399.76 Q187.57 1395.16 187.57 1386.43 Q187.57 1377.68 190.625 1373.1 Q193.704 1368.49 199.514 1368.49 Z\" fill=\"#000000\" fill-rule=\"evenodd\" fill-opacity=\"1\" /><path clip-path=\"url(#clip970)\" d=\"M115.927 1093.21 L123.566 1093.21 L123.566 1066.84 L115.256 1068.51 L115.256 1064.25 L123.519 1062.58 L128.195 1062.58 L128.195 1093.21 L135.834 1093.21 L135.834 1097.14 L115.927 1097.14 L115.927 1093.21 Z\" fill=\"#000000\" fill-rule=\"evenodd\" fill-opacity=\"1\" /><path clip-path=\"url(#clip970)\" d=\"M149.306 1093.21 L165.626 1093.21 L165.626 1097.14 L143.681 1097.14 L143.681 1093.21 Q146.343 1090.45 150.927 1085.82 Q155.533 1081.17 156.714 1079.83 Q158.959 1077.3 159.839 1075.57 Q160.741 1073.81 160.741 1072.12 Q160.741 1069.36 158.797 1067.63 Q156.876 1065.89 153.774 1065.89 Q151.575 1065.89 149.121 1066.65 Q146.691 1067.42 143.913 1068.97 L143.913 1064.25 Q146.737 1063.11 149.191 1062.53 Q151.644 1061.96 153.681 1061.96 Q159.052 1061.96 162.246 1064.64 Q165.44 1067.33 165.44 1071.82 Q165.44 1073.95 164.63 1075.87 Q163.843 1077.77 161.737 1080.36 Q161.158 1081.03 158.056 1084.25 Q154.954 1087.44 149.306 1093.21 Z\" fill=\"#000000\" fill-rule=\"evenodd\" fill-opacity=\"1\" /><path clip-path=\"url(#clip970)\" d=\"M175.44 1091.26 L180.325 1091.26 L180.325 1097.14 L175.44 1097.14 L175.44 1091.26 Z\" fill=\"#000000\" fill-rule=\"evenodd\" fill-opacity=\"1\" /><path clip-path=\"url(#clip970)\" d=\"M190.556 1062.58 L208.912 1062.58 L208.912 1066.52 L194.838 1066.52 L194.838 1074.99 Q195.857 1074.64 196.875 1074.48 Q197.894 1074.29 198.912 1074.29 Q204.699 1074.29 208.079 1077.47 Q211.459 1080.64 211.459 1086.05 Q211.459 1091.63 207.987 1094.73 Q204.514 1097.81 198.195 1097.81 Q196.019 1097.81 193.75 1097.44 Q191.505 1097.07 189.098 1096.33 L189.098 1091.63 Q191.181 1092.77 193.403 1093.32 Q195.625 1093.88 198.102 1093.88 Q202.107 1093.88 204.445 1091.77 Q206.783 1089.66 206.783 1086.05 Q206.783 1082.44 204.445 1080.34 Q202.107 1078.23 198.102 1078.23 Q196.227 1078.23 194.352 1078.65 Q192.5 1079.06 190.556 1079.94 L190.556 1062.58 Z\" fill=\"#000000\" fill-rule=\"evenodd\" fill-opacity=\"1\" /><path clip-path=\"url(#clip970)\" d=\"M114.931 786.671 L122.57 786.671 L122.57 760.305 L114.26 761.972 L114.26 757.713 L122.524 756.046 L127.2 756.046 L127.2 786.671 L134.839 786.671 L134.839 790.606 L114.931 790.606 L114.931 786.671 Z\" fill=\"#000000\" fill-rule=\"evenodd\" fill-opacity=\"1\" /><path clip-path=\"url(#clip970)\" d=\"M158.45 771.972 Q161.806 772.689 163.681 774.958 Q165.579 777.226 165.579 780.56 Q165.579 785.675 162.061 788.476 Q158.542 791.277 152.061 791.277 Q149.885 791.277 147.57 790.837 Q145.279 790.421 142.825 789.564 L142.825 785.05 Q144.769 786.185 147.084 786.763 Q149.399 787.342 151.922 787.342 Q156.32 787.342 158.612 785.606 Q160.927 783.87 160.927 780.56 Q160.927 777.504 158.774 775.791 Q156.644 774.055 152.825 774.055 L148.797 774.055 L148.797 770.213 L153.01 770.213 Q156.459 770.213 158.288 768.847 Q160.116 767.458 160.116 764.865 Q160.116 762.203 158.218 760.791 Q156.343 759.356 152.825 759.356 Q150.903 759.356 148.704 759.773 Q146.505 760.189 143.866 761.069 L143.866 756.902 Q146.529 756.162 148.843 755.791 Q151.181 755.421 153.241 755.421 Q158.565 755.421 161.667 757.852 Q164.769 760.259 164.769 764.379 Q164.769 767.25 163.126 769.24 Q161.482 771.208 158.45 771.972 Z\" fill=\"#000000\" fill-rule=\"evenodd\" fill-opacity=\"1\" /><path clip-path=\"url(#clip970)\" d=\"M174.445 784.726 L179.329 784.726 L179.329 790.606 L174.445 790.606 L174.445 784.726 Z\" fill=\"#000000\" fill-rule=\"evenodd\" fill-opacity=\"1\" /><path clip-path=\"url(#clip970)\" d=\"M199.514 759.125 Q195.903 759.125 194.075 762.689 Q192.269 766.231 192.269 773.361 Q192.269 780.467 194.075 784.032 Q195.903 787.574 199.514 787.574 Q203.149 787.574 204.954 784.032 Q206.783 780.467 206.783 773.361 Q206.783 766.231 204.954 762.689 Q203.149 759.125 199.514 759.125 M199.514 755.421 Q205.324 755.421 208.38 760.027 Q211.459 764.611 211.459 773.361 Q211.459 782.088 208.38 786.694 Q205.324 791.277 199.514 791.277 Q193.704 791.277 190.625 786.694 Q187.57 782.088 187.57 773.361 Q187.57 764.611 190.625 760.027 Q193.704 755.421 199.514 755.421 Z\" fill=\"#000000\" fill-rule=\"evenodd\" fill-opacity=\"1\" /><path clip-path=\"url(#clip970)\" d=\"M115.927 480.136 L123.566 480.136 L123.566 453.77 L115.256 455.437 L115.256 451.178 L123.519 449.511 L128.195 449.511 L128.195 480.136 L135.834 480.136 L135.834 484.071 L115.927 484.071 L115.927 480.136 Z\" fill=\"#000000\" fill-rule=\"evenodd\" fill-opacity=\"1\" /><path clip-path=\"url(#clip970)\" d=\"M159.445 465.437 Q162.802 466.155 164.677 468.423 Q166.575 470.692 166.575 474.025 Q166.575 479.141 163.056 481.942 Q159.538 484.742 153.056 484.742 Q150.88 484.742 148.566 484.303 Q146.274 483.886 143.82 483.029 L143.82 478.516 Q145.765 479.65 148.079 480.229 Q150.394 480.807 152.917 480.807 Q157.315 480.807 159.607 479.071 Q161.922 477.335 161.922 474.025 Q161.922 470.969 159.769 469.256 Q157.64 467.52 153.82 467.52 L149.792 467.52 L149.792 463.678 L154.005 463.678 Q157.454 463.678 159.283 462.312 Q161.112 460.923 161.112 458.331 Q161.112 455.669 159.214 454.256 Q157.339 452.821 153.82 452.821 Q151.899 452.821 149.7 453.238 Q147.501 453.655 144.862 454.534 L144.862 450.368 Q147.524 449.627 149.839 449.257 Q152.177 448.886 154.237 448.886 Q159.561 448.886 162.663 451.317 Q165.765 453.724 165.765 457.844 Q165.765 460.715 164.121 462.706 Q162.477 464.673 159.445 465.437 Z\" fill=\"#000000\" fill-rule=\"evenodd\" fill-opacity=\"1\" /><path clip-path=\"url(#clip970)\" d=\"M175.44 478.192 L180.325 478.192 L180.325 484.071 L175.44 484.071 L175.44 478.192 Z\" fill=\"#000000\" fill-rule=\"evenodd\" fill-opacity=\"1\" /><path clip-path=\"url(#clip970)\" d=\"M190.556 449.511 L208.912 449.511 L208.912 453.446 L194.838 453.446 L194.838 461.918 Q195.857 461.571 196.875 461.409 Q197.894 461.224 198.912 461.224 Q204.699 461.224 208.079 464.395 Q211.459 467.567 211.459 472.983 Q211.459 478.562 207.987 481.664 Q204.514 484.742 198.195 484.742 Q196.019 484.742 193.75 484.372 Q191.505 484.002 189.098 483.261 L189.098 478.562 Q191.181 479.696 193.403 480.252 Q195.625 480.807 198.102 480.807 Q202.107 480.807 204.445 478.701 Q206.783 476.594 206.783 472.983 Q206.783 469.372 204.445 467.266 Q202.107 465.159 198.102 465.159 Q196.227 465.159 194.352 465.576 Q192.5 465.993 190.556 466.872 L190.556 449.511 Z\" fill=\"#000000\" fill-rule=\"evenodd\" fill-opacity=\"1\" /><path clip-path=\"url(#clip970)\" d=\"M114.931 173.601 L122.57 173.601 L122.57 147.236 L114.26 148.902 L114.26 144.643 L122.524 142.976 L127.2 142.976 L127.2 173.601 L134.839 173.601 L134.839 177.536 L114.931 177.536 L114.931 173.601 Z\" fill=\"#000000\" fill-rule=\"evenodd\" fill-opacity=\"1\" /><path clip-path=\"url(#clip970)\" d=\"M157.13 147.05 L145.325 165.499 L157.13 165.499 L157.13 147.05 M155.903 142.976 L161.783 142.976 L161.783 165.499 L166.714 165.499 L166.714 169.388 L161.783 169.388 L161.783 177.536 L157.13 177.536 L157.13 169.388 L141.529 169.388 L141.529 164.874 L155.903 142.976 Z\" fill=\"#000000\" fill-rule=\"evenodd\" fill-opacity=\"1\" /><path clip-path=\"url(#clip970)\" d=\"M174.445 171.657 L179.329 171.657 L179.329 177.536 L174.445 177.536 L174.445 171.657 Z\" fill=\"#000000\" fill-rule=\"evenodd\" fill-opacity=\"1\" /><path clip-path=\"url(#clip970)\" d=\"M199.514 146.055 Q195.903 146.055 194.075 149.62 Q192.269 153.161 192.269 160.291 Q192.269 167.397 194.075 170.962 Q195.903 174.504 199.514 174.504 Q203.149 174.504 204.954 170.962 Q206.783 167.397 206.783 160.291 Q206.783 153.161 204.954 149.62 Q203.149 146.055 199.514 146.055 M199.514 142.351 Q205.324 142.351 208.38 146.958 Q211.459 151.541 211.459 160.291 Q211.459 169.018 208.38 173.624 Q205.324 178.208 199.514 178.208 Q193.704 178.208 190.625 173.624 Q187.57 169.018 187.57 160.291 Q187.57 151.541 190.625 146.958 Q193.704 142.351 199.514 142.351 Z\" fill=\"#000000\" fill-rule=\"evenodd\" fill-opacity=\"1\" /><path clip-path=\"url(#clip970)\" d=\"M18.0438 956.308 L24.314 956.308 Q22.5634 959.969 21.704 963.215 Q20.8447 966.462 20.8447 969.485 Q20.8447 974.737 22.8817 977.602 Q24.9187 980.434 28.6745 980.434 Q31.8255 980.434 33.4488 978.556 Q35.0402 976.647 36.0269 971.363 L36.8226 967.48 Q38.1912 960.287 41.6605 956.881 Q45.098 953.444 50.8908 953.444 Q57.7976 953.444 61.3624 958.091 Q64.9272 962.706 64.9272 971.65 Q64.9272 975.023 64.1633 978.843 Q63.3994 982.63 61.9035 986.704 L55.2831 986.704 Q57.4793 982.79 58.5933 979.034 Q59.7073 975.278 59.7073 971.65 Q59.7073 966.143 57.543 963.151 Q55.3786 960.159 51.3682 960.159 Q47.8671 960.159 45.8937 962.324 Q43.9204 964.456 42.9337 969.358 L42.1698 973.273 Q40.7375 980.466 37.682 983.681 Q34.6264 986.895 29.1837 986.895 Q22.8817 986.895 19.2532 982.471 Q15.6248 978.015 15.6248 970.217 Q15.6248 966.875 16.2295 963.406 Q16.8343 959.937 18.0438 956.308 Z\" fill=\"#000000\" fill-rule=\"evenodd\" fill-opacity=\"1\" /><path clip-path=\"url(#clip970)\" d=\"M46.0847 927.472 Q46.0847 934.569 47.7079 937.307 Q49.3312 940.044 53.2461 940.044 Q56.3653 940.044 58.2114 938.007 Q60.0256 935.938 60.0256 932.405 Q60.0256 927.535 56.5881 924.607 Q53.1188 921.647 47.3897 921.647 L46.0847 921.647 L46.0847 927.472 M43.6657 915.79 L64.0042 915.79 L64.0042 921.647 L58.5933 921.647 Q61.8398 923.652 63.3994 926.644 Q64.9272 929.636 64.9272 933.965 Q64.9272 939.439 61.8716 942.686 Q58.7843 945.9 53.6281 945.9 Q47.6125 945.9 44.5569 941.89 Q41.5014 937.848 41.5014 929.859 L41.5014 921.647 L40.9285 921.647 Q36.8862 921.647 34.6901 924.321 Q32.4621 926.962 32.4621 931.768 Q32.4621 934.824 33.1941 937.72 Q33.9262 940.617 35.3903 943.29 L29.9795 943.29 Q28.7381 940.076 28.1334 937.052 Q27.4968 934.028 27.4968 931.164 Q27.4968 923.429 31.5072 919.61 Q35.5176 915.79 43.6657 915.79 Z\" fill=\"#000000\" fill-rule=\"evenodd\" fill-opacity=\"1\" /><path clip-path=\"url(#clip970)\" d=\"M14.479 903.727 L14.479 897.871 L64.0042 897.871 L64.0042 903.727 L14.479 903.727 Z\" fill=\"#000000\" fill-rule=\"evenodd\" fill-opacity=\"1\" /><path clip-path=\"url(#clip970)\" d=\"M44.7161 855.125 L47.5806 855.125 L47.5806 882.052 Q53.6281 881.67 56.8109 878.424 Q59.9619 875.145 59.9619 869.321 Q59.9619 865.947 59.1344 862.796 Q58.3069 859.613 56.6518 856.494 L62.1899 856.494 Q63.5267 859.645 64.227 862.955 Q64.9272 866.265 64.9272 869.671 Q64.9272 878.201 59.9619 883.198 Q54.9967 888.163 46.5303 888.163 Q37.7774 888.163 32.6531 883.453 Q27.4968 878.71 27.4968 870.689 Q27.4968 863.496 32.1438 859.327 Q36.7589 855.125 44.7161 855.125 M42.9973 860.982 Q38.1912 861.045 35.3266 863.687 Q32.4621 866.297 32.4621 870.626 Q32.4621 875.527 35.2312 878.487 Q38.0002 881.416 43.0292 881.861 L42.9973 860.982 Z\" fill=\"#000000\" fill-rule=\"evenodd\" fill-opacity=\"1\" /><path clip-path=\"url(#clip970)\" d=\"M29.4065 822.788 L34.9447 822.788 Q33.6716 825.27 33.035 827.944 Q32.3984 830.617 32.3984 833.482 Q32.3984 837.842 33.7352 840.039 Q35.072 842.203 37.7456 842.203 Q39.7826 842.203 40.9603 840.643 Q42.1061 839.084 43.1565 834.373 L43.6021 832.368 Q44.9389 826.13 47.3897 823.52 Q49.8086 820.878 54.1691 820.878 Q59.1344 820.878 62.0308 824.825 Q64.9272 828.739 64.9272 835.614 Q64.9272 838.479 64.3543 841.598 Q63.8132 844.686 62.6992 848.123 L56.6518 848.123 Q58.3387 844.877 59.198 841.726 Q60.0256 838.574 60.0256 835.487 Q60.0256 831.349 58.6251 829.121 Q57.1929 826.893 54.6147 826.893 Q52.2276 826.893 50.9545 828.517 Q49.6813 830.108 48.5037 835.551 L48.0262 837.588 Q46.8804 843.03 44.5251 845.449 Q42.138 847.868 38.0002 847.868 Q32.9713 847.868 30.2341 844.304 Q27.4968 840.739 27.4968 834.182 Q27.4968 830.936 27.9743 828.071 Q28.4517 825.206 29.4065 822.788 Z\" fill=\"#000000\" fill-rule=\"evenodd\" fill-opacity=\"1\" /><path clip-path=\"url(#clip970)\" d=\"M28.3562 790.832 L28.3562 784.975 L64.0042 784.975 L64.0042 790.832 L28.3562 790.832 M14.479 790.832 L14.479 784.975 L21.895 784.975 L21.895 790.832 L14.479 790.832 Z\" fill=\"#000000\" fill-rule=\"evenodd\" fill-opacity=\"1\" /><path clip-path=\"url(#clip970)\" d=\"M42.4881 743.089 L64.0042 743.089 L64.0042 748.945 L42.679 748.945 Q37.6183 748.945 35.1038 750.919 Q32.5894 752.892 32.5894 756.839 Q32.5894 761.581 35.6131 764.319 Q38.6368 767.056 43.8567 767.056 L64.0042 767.056 L64.0042 772.944 L28.3562 772.944 L28.3562 767.056 L33.8944 767.056 Q30.6797 764.955 29.0883 762.122 Q27.4968 759.258 27.4968 755.534 Q27.4968 749.391 31.3163 746.24 Q35.1038 743.089 42.4881 743.089 Z\" fill=\"#000000\" fill-rule=\"evenodd\" fill-opacity=\"1\" /><path clip-path=\"url(#clip970)\" d=\"M49.9359 711.292 L28.3562 711.292 L28.3562 705.436 L49.7131 705.436 Q54.7739 705.436 57.3202 703.462 Q59.8346 701.489 59.8346 697.542 Q59.8346 692.8 56.8109 690.063 Q53.7872 687.293 48.5673 687.293 L28.3562 687.293 L28.3562 681.437 L64.0042 681.437 L64.0042 687.293 L58.5296 687.293 Q61.7762 689.426 63.3676 692.259 Q64.9272 695.06 64.9272 698.784 Q64.9272 704.926 61.1078 708.109 Q57.2883 711.292 49.9359 711.292 M27.4968 696.556 L27.4968 696.556 Z\" fill=\"#000000\" fill-rule=\"evenodd\" fill-opacity=\"1\" /><path clip-path=\"url(#clip970)\" d=\"M42.4881 639.742 L64.0042 639.742 L64.0042 645.598 L42.679 645.598 Q37.6183 645.598 35.1038 647.571 Q32.5894 649.545 32.5894 653.492 Q32.5894 658.234 35.6131 660.971 Q38.6368 663.709 43.8567 663.709 L64.0042 663.709 L64.0042 669.597 L28.3562 669.597 L28.3562 663.709 L33.8944 663.709 Q30.6797 661.608 29.0883 658.775 Q27.4968 655.911 27.4968 652.187 Q27.4968 646.044 31.3163 642.893 Q35.1038 639.742 42.4881 639.742 Z\" fill=\"#000000\" fill-rule=\"evenodd\" fill-opacity=\"1\" /><path clip-path=\"url(#clip970)\" d=\"M28.3562 628.061 L28.3562 622.204 L64.0042 622.204 L64.0042 628.061 L28.3562 628.061 M14.479 628.061 L14.479 622.204 L21.895 622.204 L21.895 628.061 L14.479 628.061 Z\" fill=\"#000000\" fill-rule=\"evenodd\" fill-opacity=\"1\" /><path clip-path=\"url(#clip970)\" d=\"M18.2347 604.157 L28.3562 604.157 L28.3562 592.094 L32.9077 592.094 L32.9077 604.157 L52.2594 604.157 Q56.6199 604.157 57.8613 602.98 Q59.1026 601.77 59.1026 598.11 L59.1026 592.094 L64.0042 592.094 L64.0042 598.11 Q64.0042 604.889 61.4897 607.467 Q58.9434 610.046 52.2594 610.046 L32.9077 610.046 L32.9077 614.342 L28.3562 614.342 L28.3562 610.046 L18.2347 610.046 L18.2347 604.157 Z\" fill=\"#000000\" fill-rule=\"evenodd\" fill-opacity=\"1\" /><path clip-path=\"url(#clip970)\" d=\"M29.4065 561.666 L34.9447 561.666 Q33.6716 564.149 33.035 566.822 Q32.3984 569.496 32.3984 572.361 Q32.3984 576.721 33.7352 578.917 Q35.072 581.082 37.7456 581.082 Q39.7826 581.082 40.9603 579.522 Q42.1061 577.962 43.1565 573.252 L43.6021 571.247 Q44.9389 565.008 47.3897 562.398 Q49.8086 559.757 54.1691 559.757 Q59.1344 559.757 62.0308 563.703 Q64.9272 567.618 64.9272 574.493 Q64.9272 577.358 64.3543 580.477 Q63.8132 583.564 62.6992 587.002 L56.6518 587.002 Q58.3387 583.755 59.198 580.604 Q60.0256 577.453 60.0256 574.366 Q60.0256 570.228 58.6251 568 Q57.1929 565.772 54.6147 565.772 Q52.2276 565.772 50.9545 567.395 Q49.6813 568.987 48.5037 574.429 L48.0262 576.467 Q46.8804 581.909 44.5251 584.328 Q42.138 586.747 38.0002 586.747 Q32.9713 586.747 30.2341 583.182 Q27.4968 579.618 27.4968 573.061 Q27.4968 569.814 27.9743 566.95 Q28.4517 564.085 29.4065 561.666 Z\" fill=\"#000000\" fill-rule=\"evenodd\" fill-opacity=\"1\" /><path clip-path=\"url(#clip970)\" d=\"M754.147 14.0809 L754.147 22.0612 Q749.488 19.8332 745.356 18.7395 Q741.224 17.6457 737.376 17.6457 Q730.692 17.6457 727.046 20.2383 Q723.441 22.8309 723.441 27.611 Q723.441 31.6214 725.831 33.6873 Q728.261 35.7128 734.986 36.9686 L739.928 37.9813 Q749.083 39.7232 753.418 44.1387 Q757.793 48.5136 757.793 55.8863 Q757.793 64.6767 751.878 69.2137 Q746.004 73.7508 734.621 73.7508 Q730.327 73.7508 725.466 72.7785 Q720.646 71.8063 715.461 69.9024 L715.461 61.4765 Q720.443 64.2716 725.223 65.6895 Q730.003 67.1073 734.621 67.1073 Q741.629 67.1073 745.437 64.3527 Q749.245 61.598 749.245 56.4939 Q749.245 52.0379 746.49 49.5264 Q743.776 47.0148 737.538 45.759 L732.555 44.7868 Q723.4 42.9639 719.309 39.075 Q715.218 35.1862 715.218 28.2591 Q715.218 20.2383 720.848 15.6203 Q726.52 11.0023 736.444 11.0023 Q740.698 11.0023 745.113 11.7719 Q749.529 12.5416 754.147 14.0809 Z\" fill=\"#000000\" fill-rule=\"evenodd\" fill-opacity=\"1\" /><path clip-path=\"url(#clip970)\" d=\"M790.848 49.7694 Q781.814 49.7694 778.331 51.8354 Q774.847 53.9013 774.847 58.8839 Q774.847 62.8538 777.439 65.2034 Q780.072 67.5124 784.569 67.5124 Q790.767 67.5124 794.494 63.1374 Q798.261 58.7219 798.261 51.4303 L798.261 49.7694 L790.848 49.7694 M805.715 46.6907 L805.715 72.576 L798.261 72.576 L798.261 65.6895 Q795.709 69.8214 791.901 71.8063 Q788.093 73.7508 782.584 73.7508 Q775.616 73.7508 771.485 69.8619 Q767.393 65.9325 767.393 59.3701 Q767.393 51.7138 772.497 47.825 Q777.642 43.9361 787.81 43.9361 L798.261 43.9361 L798.261 43.2069 Q798.261 38.0623 794.858 35.2672 Q791.496 32.4315 785.379 32.4315 Q781.49 32.4315 777.804 33.3632 Q774.118 34.295 770.715 36.1584 L770.715 29.2718 Q774.806 27.692 778.655 26.9223 Q782.503 26.1121 786.149 26.1121 Q795.993 26.1121 800.854 31.2163 Q805.715 36.3204 805.715 46.6907 Z\" fill=\"#000000\" fill-rule=\"evenodd\" fill-opacity=\"1\" /><path clip-path=\"url(#clip970)\" d=\"M821.068 9.54393 L828.521 9.54393 L828.521 72.576 L821.068 72.576 L821.068 9.54393 Z\" fill=\"#000000\" fill-rule=\"evenodd\" fill-opacity=\"1\" /><path clip-path=\"url(#clip970)\" d=\"M882.925 48.0275 L882.925 51.6733 L848.654 51.6733 Q849.14 59.3701 853.272 63.421 Q857.445 67.4314 864.858 67.4314 Q869.152 67.4314 873.162 66.3781 Q877.213 65.3249 881.183 63.2184 L881.183 70.267 Q877.173 71.9684 872.96 72.8596 Q868.747 73.7508 864.412 73.7508 Q853.556 73.7508 847.196 67.4314 Q840.877 61.1119 840.877 50.3365 Q840.877 39.1965 846.872 32.6746 Q852.908 26.1121 863.116 26.1121 Q872.271 26.1121 877.578 32.0264 Q882.925 37.9003 882.925 48.0275 M875.471 45.84 Q875.39 39.7232 872.028 36.0774 Q868.706 32.4315 863.197 32.4315 Q856.959 32.4315 853.191 35.9558 Q849.464 39.4801 848.897 45.8805 L875.471 45.84 Z\" fill=\"#000000\" fill-rule=\"evenodd\" fill-opacity=\"1\" /><path clip-path=\"url(#clip970)\" d=\"M924.082 28.5427 L924.082 35.5912 Q920.922 33.9709 917.52 33.1607 Q914.117 32.3505 910.471 32.3505 Q904.921 32.3505 902.126 34.0519 Q899.372 35.7533 899.372 39.156 Q899.372 41.7486 901.357 43.2475 Q903.341 44.7058 909.337 46.0426 L911.889 46.6097 Q919.829 48.3111 923.15 51.4303 Q926.513 54.509 926.513 60.0587 Q926.513 66.3781 921.49 70.0644 Q916.507 73.7508 907.757 73.7508 Q904.111 73.7508 900.141 73.0216 Q896.212 72.3329 891.837 70.9151 L891.837 63.2184 Q895.969 65.3654 899.979 66.4591 Q903.99 67.5124 907.919 67.5124 Q913.185 67.5124 916.021 65.73 Q918.856 63.9071 918.856 60.6258 Q918.856 57.5877 916.79 55.9673 Q914.765 54.3469 907.838 52.8481 L905.245 52.2405 Q898.318 50.7821 895.24 47.7845 Q892.161 44.7463 892.161 39.4801 Q892.161 33.0797 896.698 29.5959 Q901.235 26.1121 909.58 26.1121 Q913.712 26.1121 917.358 26.7198 Q921.003 27.3274 924.082 28.5427 Z\" fill=\"#000000\" fill-rule=\"evenodd\" fill-opacity=\"1\" /><path clip-path=\"url(#clip970)\" d=\"M994.608 34.0924 L994.608 9.54393 L1002.06 9.54393 L1002.06 72.576 L994.608 72.576 L994.608 65.7705 Q992.259 69.8214 988.654 71.8063 Q985.089 73.7508 980.066 73.7508 Q971.842 73.7508 966.657 67.1883 Q961.512 60.6258 961.512 49.9314 Q961.512 39.2371 966.657 32.6746 Q971.842 26.1121 980.066 26.1121 Q985.089 26.1121 988.654 28.0971 Q992.259 30.0415 994.608 34.0924 M969.209 49.9314 Q969.209 58.1548 972.571 62.8538 Q975.974 67.5124 981.889 67.5124 Q987.803 67.5124 991.206 62.8538 Q994.608 58.1548 994.608 49.9314 Q994.608 41.7081 991.206 37.0496 Q987.803 32.3505 981.889 32.3505 Q975.974 32.3505 972.571 37.0496 Q969.209 41.7081 969.209 49.9314 Z\" fill=\"#000000\" fill-rule=\"evenodd\" fill-opacity=\"1\" /><path clip-path=\"url(#clip970)\" d=\"M1038.03 49.7694 Q1029 49.7694 1025.52 51.8354 Q1022.03 53.9013 1022.03 58.8839 Q1022.03 62.8538 1024.63 65.2034 Q1027.26 67.5124 1031.76 67.5124 Q1037.95 67.5124 1041.68 63.1374 Q1045.45 58.7219 1045.45 51.4303 L1045.45 49.7694 L1038.03 49.7694 M1052.9 46.6907 L1052.9 72.576 L1045.45 72.576 L1045.45 65.6895 Q1042.9 69.8214 1039.09 71.8063 Q1035.28 73.7508 1029.77 73.7508 Q1022.8 73.7508 1018.67 69.8619 Q1014.58 65.9325 1014.58 59.3701 Q1014.58 51.7138 1019.68 47.825 Q1024.83 43.9361 1035 43.9361 L1045.45 43.9361 L1045.45 43.2069 Q1045.45 38.0623 1042.04 35.2672 Q1038.68 32.4315 1032.57 32.4315 Q1028.68 32.4315 1024.99 33.3632 Q1021.3 34.295 1017.9 36.1584 L1017.9 29.2718 Q1021.99 27.692 1025.84 26.9223 Q1029.69 26.1121 1033.34 26.1121 Q1043.18 26.1121 1048.04 31.2163 Q1052.9 36.3204 1052.9 46.6907 Z\" fill=\"#000000\" fill-rule=\"evenodd\" fill-opacity=\"1\" /><path clip-path=\"url(#clip970)\" d=\"M1075.63 14.324 L1075.63 27.2059 L1090.98 27.2059 L1090.98 32.9987 L1075.63 32.9987 L1075.63 57.6282 Q1075.63 63.1779 1077.13 64.7578 Q1078.66 66.3376 1083.32 66.3376 L1090.98 66.3376 L1090.98 72.576 L1083.32 72.576 Q1074.69 72.576 1071.41 69.3758 Q1068.13 66.1351 1068.13 57.6282 L1068.13 32.9987 L1062.66 32.9987 L1062.66 27.2059 L1068.13 27.2059 L1068.13 14.324 L1075.63 14.324 Z\" fill=\"#000000\" fill-rule=\"evenodd\" fill-opacity=\"1\" /><path clip-path=\"url(#clip970)\" d=\"M1121.4 49.7694 Q1112.37 49.7694 1108.88 51.8354 Q1105.4 53.9013 1105.4 58.8839 Q1105.4 62.8538 1107.99 65.2034 Q1110.63 67.5124 1115.12 67.5124 Q1121.32 67.5124 1125.05 63.1374 Q1128.81 58.7219 1128.81 51.4303 L1128.81 49.7694 L1121.4 49.7694 M1136.27 46.6907 L1136.27 72.576 L1128.81 72.576 L1128.81 65.6895 Q1126.26 69.8214 1122.45 71.8063 Q1118.65 73.7508 1113.14 73.7508 Q1106.17 73.7508 1102.04 69.8619 Q1097.95 65.9325 1097.95 59.3701 Q1097.95 51.7138 1103.05 47.825 Q1108.2 43.9361 1118.36 43.9361 L1128.81 43.9361 L1128.81 43.2069 Q1128.81 38.0623 1125.41 35.2672 Q1122.05 32.4315 1115.93 32.4315 Q1112.04 32.4315 1108.36 33.3632 Q1104.67 34.295 1101.27 36.1584 L1101.27 29.2718 Q1105.36 27.692 1109.21 26.9223 Q1113.06 26.1121 1116.7 26.1121 Q1126.55 26.1121 1131.41 31.2163 Q1136.27 36.3204 1136.27 46.6907 Z\" fill=\"#000000\" fill-rule=\"evenodd\" fill-opacity=\"1\" /><path clip-path=\"url(#clip970)\" d=\"M1200.96 9.54393 L1200.96 15.7418 L1193.83 15.7418 Q1189.82 15.7418 1188.24 17.3622 Q1186.7 18.9825 1186.7 23.1955 L1186.7 27.2059 L1198.98 27.2059 L1198.98 32.9987 L1186.7 32.9987 L1186.7 72.576 L1179.21 72.576 L1179.21 32.9987 L1172.08 32.9987 L1172.08 27.2059 L1179.21 27.2059 L1179.21 24.0462 Q1179.21 16.471 1182.73 13.0277 Q1186.26 9.54393 1193.91 9.54393 L1200.96 9.54393 Z\" fill=\"#000000\" fill-rule=\"evenodd\" fill-opacity=\"1\" /><path clip-path=\"url(#clip970)\" d=\"M1224.78 32.4315 Q1218.79 32.4315 1215.3 37.1306 Q1211.82 41.7891 1211.82 49.9314 Q1211.82 58.0738 1215.26 62.7728 Q1218.74 67.4314 1224.78 67.4314 Q1230.74 67.4314 1234.22 62.7323 Q1237.7 58.0333 1237.7 49.9314 Q1237.7 41.8701 1234.22 37.1711 Q1230.74 32.4315 1224.78 32.4315 M1224.78 26.1121 Q1234.5 26.1121 1240.05 32.4315 Q1245.6 38.7509 1245.6 49.9314 Q1245.6 61.0714 1240.05 67.4314 Q1234.5 73.7508 1224.78 73.7508 Q1215.02 73.7508 1209.47 67.4314 Q1203.96 61.0714 1203.96 49.9314 Q1203.96 38.7509 1209.47 32.4315 Q1215.02 26.1121 1224.78 26.1121 Z\" fill=\"#000000\" fill-rule=\"evenodd\" fill-opacity=\"1\" /><path clip-path=\"url(#clip970)\" d=\"M1284.25 34.1734 Q1282.99 33.4443 1281.49 33.1202 Q1280.04 32.7556 1278.25 32.7556 Q1271.93 32.7556 1268.53 36.8875 Q1265.17 40.9789 1265.17 48.6757 L1265.17 72.576 L1257.67 72.576 L1257.67 27.2059 L1265.17 27.2059 L1265.17 34.2544 Q1267.52 30.1225 1271.29 28.1376 Q1275.05 26.1121 1280.44 26.1121 Q1281.21 26.1121 1282.14 26.2337 Q1283.07 26.3147 1284.21 26.5172 L1284.25 34.1734 Z\" fill=\"#000000\" fill-rule=\"evenodd\" fill-opacity=\"1\" /><path clip-path=\"url(#clip970)\" d=\"M1351.09 28.9478 L1351.09 35.9153 Q1347.93 34.1734 1344.73 33.3227 Q1341.57 32.4315 1338.33 32.4315 Q1331.08 32.4315 1327.07 37.0496 Q1323.06 41.6271 1323.06 49.9314 Q1323.06 58.2358 1327.07 62.8538 Q1331.08 67.4314 1338.33 67.4314 Q1341.57 67.4314 1344.73 66.5807 Q1347.93 65.6895 1351.09 63.9476 L1351.09 70.8341 Q1347.97 72.2924 1344.61 73.0216 Q1341.28 73.7508 1337.52 73.7508 Q1327.27 73.7508 1321.23 67.3098 Q1315.2 60.8689 1315.2 49.9314 Q1315.2 38.832 1321.27 32.472 Q1327.39 26.1121 1338 26.1121 Q1341.45 26.1121 1344.73 26.8413 Q1348.01 27.5299 1351.09 28.9478 Z\" fill=\"#000000\" fill-rule=\"evenodd\" fill-opacity=\"1\" /><path clip-path=\"url(#clip970)\" d=\"M1381.63 32.4315 Q1375.64 32.4315 1372.15 37.1306 Q1368.67 41.7891 1368.67 49.9314 Q1368.67 58.0738 1372.11 62.7728 Q1375.6 67.4314 1381.63 67.4314 Q1387.59 67.4314 1391.07 62.7323 Q1394.55 58.0333 1394.55 49.9314 Q1394.55 41.8701 1391.07 37.1711 Q1387.59 32.4315 1381.63 32.4315 M1381.63 26.1121 Q1391.35 26.1121 1396.9 32.4315 Q1402.45 38.7509 1402.45 49.9314 Q1402.45 61.0714 1396.9 67.4314 Q1391.35 73.7508 1381.63 73.7508 Q1371.87 73.7508 1366.32 67.4314 Q1360.81 61.0714 1360.81 49.9314 Q1360.81 38.7509 1366.32 32.4315 Q1371.87 26.1121 1381.63 26.1121 Z\" fill=\"#000000\" fill-rule=\"evenodd\" fill-opacity=\"1\" /><path clip-path=\"url(#clip970)\" d=\"M1450.13 35.9153 Q1452.93 30.8922 1456.82 28.5022 Q1460.71 26.1121 1465.97 26.1121 Q1473.06 26.1121 1476.91 31.0947 Q1480.76 36.0368 1480.76 45.1919 L1480.76 72.576 L1473.26 72.576 L1473.26 45.4349 Q1473.26 38.913 1470.95 35.7533 Q1468.65 32.5936 1463.91 32.5936 Q1458.11 32.5936 1454.75 36.4419 Q1451.39 40.2903 1451.39 46.9338 L1451.39 72.576 L1443.89 72.576 L1443.89 45.4349 Q1443.89 38.8725 1441.59 35.7533 Q1439.28 32.5936 1434.46 32.5936 Q1428.74 32.5936 1425.38 36.4824 Q1422.02 40.3308 1422.02 46.9338 L1422.02 72.576 L1414.53 72.576 L1414.53 27.2059 L1422.02 27.2059 L1422.02 34.2544 Q1424.57 30.082 1428.14 28.0971 Q1431.7 26.1121 1436.6 26.1121 Q1441.54 26.1121 1444.99 28.6237 Q1448.47 31.1352 1450.13 35.9153 Z\" fill=\"#000000\" fill-rule=\"evenodd\" fill-opacity=\"1\" /><path clip-path=\"url(#clip970)\" d=\"M1502.83 65.7705 L1502.83 89.8329 L1495.34 89.8329 L1495.34 27.2059 L1502.83 27.2059 L1502.83 34.0924 Q1505.18 30.0415 1508.75 28.0971 Q1512.35 26.1121 1517.34 26.1121 Q1525.6 26.1121 1530.75 32.6746 Q1535.93 39.2371 1535.93 49.9314 Q1535.93 60.6258 1530.75 67.1883 Q1525.6 73.7508 1517.34 73.7508 Q1512.35 73.7508 1508.75 71.8063 Q1505.18 69.8214 1502.83 65.7705 M1528.19 49.9314 Q1528.19 41.7081 1524.79 37.0496 Q1521.43 32.3505 1515.51 32.3505 Q1509.6 32.3505 1506.2 37.0496 Q1502.83 41.7081 1502.83 49.9314 Q1502.83 58.1548 1506.2 62.8538 Q1509.6 67.5124 1515.51 67.5124 Q1521.43 67.5124 1524.79 62.8538 Q1528.19 58.1548 1528.19 49.9314 Z\" fill=\"#000000\" fill-rule=\"evenodd\" fill-opacity=\"1\" /><path clip-path=\"url(#clip970)\" d=\"M1568.91 49.7694 Q1559.87 49.7694 1556.39 51.8354 Q1552.9 53.9013 1552.9 58.8839 Q1552.9 62.8538 1555.5 65.2034 Q1558.13 67.5124 1562.63 67.5124 Q1568.82 67.5124 1572.55 63.1374 Q1576.32 58.7219 1576.32 51.4303 L1576.32 49.7694 L1568.91 49.7694 M1583.77 46.6907 L1583.77 72.576 L1576.32 72.576 L1576.32 65.6895 Q1573.77 69.8214 1569.96 71.8063 Q1566.15 73.7508 1560.64 73.7508 Q1553.67 73.7508 1549.54 69.8619 Q1545.45 65.9325 1545.45 59.3701 Q1545.45 51.7138 1550.55 47.825 Q1555.7 43.9361 1565.87 43.9361 L1576.32 43.9361 L1576.32 43.2069 Q1576.32 38.0623 1572.92 35.2672 Q1569.55 32.4315 1563.44 32.4315 Q1559.55 32.4315 1555.86 33.3632 Q1552.17 34.295 1548.77 36.1584 L1548.77 29.2718 Q1552.86 27.692 1556.71 26.9223 Q1560.56 26.1121 1564.21 26.1121 Q1574.05 26.1121 1578.91 31.2163 Q1583.77 36.3204 1583.77 46.6907 Z\" fill=\"#000000\" fill-rule=\"evenodd\" fill-opacity=\"1\" /><path clip-path=\"url(#clip970)\" d=\"M1636.84 45.1919 L1636.84 72.576 L1629.39 72.576 L1629.39 45.4349 Q1629.39 38.994 1626.87 35.7938 Q1624.36 32.5936 1619.34 32.5936 Q1613.3 32.5936 1609.82 36.4419 Q1606.34 40.2903 1606.34 46.9338 L1606.34 72.576 L1598.84 72.576 L1598.84 27.2059 L1606.34 27.2059 L1606.34 34.2544 Q1609.01 30.163 1612.61 28.1376 Q1616.26 26.1121 1621 26.1121 Q1628.82 26.1121 1632.83 30.9732 Q1636.84 35.7938 1636.84 45.1919 Z\" fill=\"#000000\" fill-rule=\"evenodd\" fill-opacity=\"1\" /><path clip-path=\"url(#clip970)\" d=\"M1670.58 76.7889 Q1667.42 84.8907 1664.43 87.3618 Q1661.43 89.8329 1656.4 89.8329 L1650.45 89.8329 L1650.45 83.5945 L1654.82 83.5945 Q1657.9 83.5945 1659.6 82.1361 Q1661.31 80.6778 1663.37 75.2496 L1664.71 71.8468 L1646.36 27.2059 L1654.26 27.2059 L1668.44 62.6918 L1682.61 27.2059 L1690.51 27.2059 L1670.58 76.7889 Z\" fill=\"#000000\" fill-rule=\"evenodd\" fill-opacity=\"1\" /><path clip-path=\"url(#clip970)\" d=\"M1747.71 20.1573 L1736.61 50.2555 L1758.85 50.2555 L1747.71 20.1573 M1743.09 12.096 L1752.37 12.096 L1775.42 72.576 L1766.91 72.576 L1761.4 57.061 L1734.14 57.061 L1728.63 72.576 L1720 72.576 L1743.09 12.096 Z\" fill=\"#000000\" fill-rule=\"evenodd\" fill-opacity=\"1\" /><path clip-path=\"url(#clip970)\" d=\"M1792.43 43.6931 L1792.43 65.8515 L1805.56 65.8515 Q1812.16 65.8515 1815.32 63.1374 Q1818.52 60.3828 1818.52 54.752 Q1818.52 49.0808 1815.32 46.4072 Q1812.16 43.6931 1805.56 43.6931 L1792.43 43.6931 M1792.43 18.8205 L1792.43 37.0496 L1804.55 37.0496 Q1810.54 37.0496 1813.46 34.8216 Q1816.42 32.5531 1816.42 27.935 Q1816.42 23.3575 1813.46 21.089 Q1810.54 18.8205 1804.55 18.8205 L1792.43 18.8205 M1784.25 12.096 L1805.15 12.096 Q1814.51 12.096 1819.58 15.9849 Q1824.64 19.8737 1824.64 27.0438 Q1824.64 32.5936 1822.05 35.8748 Q1819.45 39.156 1814.43 39.9662 Q1820.47 41.2625 1823.79 45.3944 Q1827.15 49.4858 1827.15 55.6432 Q1827.15 63.745 1821.64 68.1605 Q1816.13 72.576 1805.96 72.576 L1784.25 72.576 L1784.25 12.096 Z\" fill=\"#000000\" fill-rule=\"evenodd\" fill-opacity=\"1\" /><path clip-path=\"url(#clip970)\" d=\"M1885 16.7545 L1885 25.383 Q1880.87 21.5346 1876.17 19.6307 Q1871.51 17.7268 1866.24 17.7268 Q1855.87 17.7268 1850.36 24.0867 Q1844.85 30.4061 1844.85 42.3968 Q1844.85 54.3469 1850.36 60.7069 Q1855.87 67.0263 1866.24 67.0263 Q1871.51 67.0263 1876.17 65.1223 Q1880.87 63.2184 1885 59.3701 L1885 67.9175 Q1880.7 70.8341 1875.88 72.2924 Q1871.1 73.7508 1865.76 73.7508 Q1852.02 73.7508 1844.12 65.3654 Q1836.22 56.9395 1836.22 42.3968 Q1836.22 27.8135 1844.12 19.4281 Q1852.02 11.0023 1865.76 11.0023 Q1871.18 11.0023 1875.96 12.4606 Q1880.78 13.8784 1885 16.7545 Z\" fill=\"#000000\" fill-rule=\"evenodd\" fill-opacity=\"1\" /><polyline clip-path=\"url(#clip972)\" style=\"stroke:#009af9; stroke-linecap:round; stroke-linejoin:round; stroke-width:4; stroke-opacity:1; fill:none\" points=\"\n",
       "  307.043,1386.4 1300.11,160.256 2293.17,773.326 \n",
       "  \"/>\n",
       "</svg>\n"
      ]
     },
     "execution_count": 67,
     "metadata": {},
     "output_type": "execute_result"
    }
   ],
   "source": [
    "plot(df.date,\n",
    "     df.sales,\n",
    "     xlabel=colmetadata(df, :date, \"label\"),\n",
    "     ylabel=colmetadata(df, :sales, \"label\"),\n",
    "     title=metadata(df, \"title\"), legend=false)"
   ]
  },
  {
   "cell_type": "markdown",
   "metadata": {},
   "source": [
    "Metadata is especially useful if you:\n",
    "* work with multiple data frames that have many columns and it is hard to keep mental track of their interpretation, or\n",
    "* want to have an automated pipeline (e.g. for producing tables or figures) where custom annotations should be used (as in the examples above)"
   ]
  },
  {
   "cell_type": "markdown",
   "metadata": {},
   "source": [
    "For more details please refer to https://dataframes.juliadata.org/stable/lib/metadata/"
   ]
  }
 ],
 "metadata": {
  "@webio": {
   "lastCommId": null,
   "lastKernelId": null
  },
  "kernelspec": {
   "display_name": "Julia 1.8.2",
   "language": "julia",
   "name": "julia-1.8"
  },
  "language_info": {
   "file_extension": ".jl",
   "mimetype": "application/julia",
   "name": "julia",
   "version": "1.8.2"
  }
 },
 "nbformat": 4,
 "nbformat_minor": 1
}
